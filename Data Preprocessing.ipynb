{
 "cells": [
  {
   "cell_type": "markdown",
   "id": "0e85a2a7",
   "metadata": {},
   "source": [
    "# Stations"
   ]
  },
  {
   "cell_type": "code",
   "execution_count": 3,
   "id": "499af68d",
   "metadata": {},
   "outputs": [],
   "source": [
    "import mpl_toolkits\n",
    "import matplotlib.pyplot as plt\n",
    "import pandas as pd\n",
    "import geopandas as gpd\n",
    "import numpy as np\n",
    "import pickle\n",
    "import os\n",
    "import math\n",
    "\n",
    "from obspy import read\n",
    "from scipy import signal\n",
    "from obspy import UTCDateTime\n",
    "from obspy.clients.fdsn import Client as FDSN_Client\n",
    "from obspy import read_inventory\n",
    "from obspy.core.util import (BASEMAP_VERSION, CARTOPY_VERSION,\n",
    "                             MATPLOTLIB_VERSION, PROJ4_VERSION)"
   ]
  },
  {
   "cell_type": "code",
   "execution_count": null,
   "id": "55f47711",
   "metadata": {},
   "outputs": [],
   "source": []
  },
  {
   "cell_type": "code",
   "execution_count": null,
   "id": "7c57fb50",
   "metadata": {},
   "outputs": [],
   "source": [
    "# Use the station service to access station metadata from GeoNet stations. \n",
    "client = FDSN_Client(\"GEONET\")"
   ]
  },
  {
   "cell_type": "code",
   "execution_count": null,
   "id": "c7ff1257",
   "metadata": {},
   "outputs": [],
   "source": [
    "# This example gets all stations.\n",
    "inventory = client.get_stations(starttime = \"2016-01-01 00:00:00.000\", level=\"response\")"
   ]
  },
  {
   "cell_type": "code",
   "execution_count": null,
   "id": "209dea76",
   "metadata": {},
   "outputs": [],
   "source": [
    "inventory"
   ]
  },
  {
   "cell_type": "code",
   "execution_count": null,
   "id": "88ed1fb5",
   "metadata": {},
   "outputs": [],
   "source": [
    "stations_network = inventory[0]\n",
    "stations_network"
   ]
  },
  {
   "cell_type": "code",
   "execution_count": null,
   "id": "9f356140",
   "metadata": {},
   "outputs": [],
   "source": [
    "first_station = stations_network[0]\n",
    "first_station"
   ]
  },
  {
   "cell_type": "code",
   "execution_count": null,
   "id": "41cd10d1",
   "metadata": {},
   "outputs": [],
   "source": [
    "# NZ bounding box\n",
    "min_lat = -47.749\n",
    "max_lat = -33.779\n",
    "min_long = 166.104\n",
    "max_long = 178.990"
   ]
  },
  {
   "cell_type": "code",
   "execution_count": null,
   "id": "04bde666",
   "metadata": {},
   "outputs": [],
   "source": [
    "# Create a data frame for each station\n",
    "stations = []\n",
    "longitudes = []\n",
    "latitudes = []\n",
    "sites = []\n",
    "\n",
    "for station in stations_network:\n",
    "    stations.append(station.code)\n",
    "    latitudes.append(station.latitude)\n",
    "    longitudes.append(station.longitude)\n",
    "    sites.append(station.site.name)\n",
    "    \n",
    "data_map = {'station_code': stations, 'longitude':longitudes, 'latitude':latitudes, 'site':sites}\n",
    "df = pd.DataFrame(data=data_map)\n",
    "\n",
    "# use New Zealand bounding box coordinates to get the stations\n",
    "df = df[(df['longitude'] >= min_long) & (df['longitude'] <= max_long)]\n",
    "df = df[(df['latitude'] >= min_lat) & (df['latitude'] <= max_lat)]\n",
    "df.head()"
   ]
  },
  {
   "cell_type": "code",
   "execution_count": null,
   "id": "25839d7e",
   "metadata": {},
   "outputs": [],
   "source": [
    "# number of stations\n",
    "df.shape"
   ]
  },
  {
   "cell_type": "code",
   "execution_count": null,
   "id": "45e6e1ad",
   "metadata": {},
   "outputs": [],
   "source": [
    "# plot stations \n",
    "df.plot(x=\"longitude\", y=\"latitude\", kind=\"scatter\", figsize=(7,7))"
   ]
  },
  {
   "cell_type": "code",
   "execution_count": null,
   "id": "6638ba8e",
   "metadata": {},
   "outputs": [],
   "source": [
    "fig, ax = plt.subplots(figsize=(10,10))\n",
    "countries = gpd.read_file(gpd.datasets.get_path(\"naturalearth_lowres\"))\n",
    "ax = countries[countries[\"name\"] == \"New Zealand\"].plot(ax=ax)\n",
    "ax.tick_params(axis='both', labelsize=15)\n",
    "ax.tick_params(axis='both', labelsize=15)\n",
    "plt.xlabel('Longitude', fontsize=20)\n",
    "plt.ylabel('Latitude', fontsize=20)\n",
    "del ax"
   ]
  },
  {
   "cell_type": "code",
   "execution_count": null,
   "id": "1e4e78ee",
   "metadata": {},
   "outputs": [],
   "source": [
    "# plot NZ map with stations\n",
    "fig, ax = plt.subplots(figsize=(10,10))\n",
    "\n",
    "# plot map on axis\n",
    "countries = gpd.read_file(gpd.datasets.get_path(\"naturalearth_lowres\"))\n",
    "\n",
    "ax = countries[countries[\"name\"] == \"New Zealand\"].plot(color=\"lightgrey\", ax=ax)\n",
    "df.plot(x=\"longitude\", y=\"latitude\", kind=\"scatter\", ax=ax)\n",
    "\n",
    "# add grid\n",
    "ax.grid(b=True, alpha=0.5)\n",
    "plt.show()\n",
    "del ax"
   ]
  },
  {
   "cell_type": "code",
   "execution_count": null,
   "id": "60f10139",
   "metadata": {},
   "outputs": [],
   "source": [
    "first_station.plot(0.001,output=\"VEL\")"
   ]
  },
  {
   "cell_type": "code",
   "execution_count": null,
   "id": "e9769cd7",
   "metadata": {},
   "outputs": [],
   "source": [
    "selected_58_stations = ['BFZ', 'BHW', 'BKZ', 'COVZ', 'CVZ', 'DCZ', 'DSZ', 'EAZ', 'ETVZ', 'FWVZ',\n",
    "              'GRZ', 'GVZ', 'HAZ', 'HIZ', 'INZ', 'JCZ', 'KHEZ', 'KHZ', 'KNZ', 'KUZ', \n",
    "               'LBZ','LTZ', 'MLZ', 'MQZ', 'MRZ', 'MSZ', 'MWZ', 'MXZ', 'NNZ', 'ODZ', \n",
    "               'OPRZ', 'OPZ','OUZ', 'OXZ', 'PUZ', 'PXZ', 'QRZ', 'RATZ', 'RPZ', 'RTZ', \n",
    "               'SYZ', 'THZ', 'TLZ','TMVZ', 'TOZ', 'TRVZ', 'TSZ', 'TUZ', 'URZ', 'VRZ'\n",
    "               , 'WCZ', 'WEL', 'WHVZ', 'WHZ', 'WIZ', 'WKZ', 'WSRZ', 'WVZ']"
   ]
  },
  {
   "cell_type": "code",
   "execution_count": null,
   "id": "c1f336f5",
   "metadata": {},
   "outputs": [],
   "source": [
    "df_58 = df.loc[df.station_code.isin(selected_58_stations)]"
   ]
  },
  {
   "cell_type": "code",
   "execution_count": null,
   "id": "f05f5615",
   "metadata": {},
   "outputs": [],
   "source": [
    "df_58.head()"
   ]
  },
  {
   "cell_type": "code",
   "execution_count": null,
   "id": "2f22c966",
   "metadata": {},
   "outputs": [],
   "source": [
    "# plot NZ map with 58 stations\n",
    "fig, ax = plt.subplots(figsize=(10,10))\n",
    "\n",
    "# plot map on axis\n",
    "countries = gpd.read_file(gpd.datasets.get_path(\"naturalearth_lowres\"))\n",
    "\n",
    "ax = countries[countries[\"name\"] == \"New Zealand\"].plot(color=\"lightgrey\", ax=ax)\n",
    "df_58.plot(x=\"longitude\", y=\"latitude\", kind=\"scatter\", ax=ax, color='r')\n",
    "\n",
    "plt.axis('off')\n",
    "    \n",
    "plt.show()\n",
    "del ax"
   ]
  },
  {
   "cell_type": "markdown",
   "id": "1636e2f3",
   "metadata": {},
   "source": [
    "## Data analysis"
   ]
  },
  {
   "cell_type": "code",
   "execution_count": null,
   "id": "90e75be5",
   "metadata": {},
   "outputs": [],
   "source": [
    "events_df = pd.read_pickle('data/events.pkl')\n",
    "events_df.head()"
   ]
  },
  {
   "cell_type": "code",
   "execution_count": null,
   "id": "bc36e879",
   "metadata": {},
   "outputs": [],
   "source": [
    "# total earthquakes (123165)\n",
    "events_df.shape"
   ]
  },
  {
   "cell_type": "code",
   "execution_count": null,
   "id": "ded06b86",
   "metadata": {},
   "outputs": [],
   "source": [
    "# filter out rows that dont have one of the data features\n",
    "events_df = events_df[events_df.latitude != -1]\n",
    "events_df = events_df[events_df.longitude != -1]\n",
    "events_df = events_df[events_df.magnitude != -1]\n",
    "events_df = events_df[events_df.depth != -1]"
   ]
  },
  {
   "cell_type": "code",
   "execution_count": null,
   "id": "abf8f5fd",
   "metadata": {},
   "outputs": [],
   "source": [
    "# total earthquakes after filtering (122465)\n",
    "events_df.shape"
   ]
  },
  {
   "cell_type": "code",
   "execution_count": null,
   "id": "9a5edc16",
   "metadata": {},
   "outputs": [],
   "source": [
    "# plot earthquakes on NZ map\n",
    "fig, ax = plt.subplots(figsize=(10,10))\n",
    "countries = gpd.read_file(gpd.datasets.get_path(\"naturalearth_lowres\"))\n",
    "ax = countries[countries[\"name\"] == \"New Zealand\"].plot(color=\"lightgrey\", ax=ax)\n",
    "events_df.plot(x=\"longitude\", y=\"latitude\", kind=\"scatter\", s=0.1, ax=ax)\n",
    "plt.show()\n",
    "del ax"
   ]
  },
  {
   "cell_type": "code",
   "execution_count": null,
   "id": "994499d1",
   "metadata": {},
   "outputs": [],
   "source": [
    "# plot magnitude\n",
    "fig, ax = plt.subplots(figsize=(10,10))\n",
    "w = 0.2\n",
    "n = np.ceil((events_df['magnitude'].max() - events_df['magnitude'].min())/w)\n",
    "plt.hist(events_df['magnitude'], histtype='bar', ec='black', bins=int(n))\n",
    "ax.tick_params(axis='both', labelsize=15)\n",
    "ax.tick_params(axis='both', labelsize=15)\n",
    "plt.ylabel('Number of Earthquakes', fontsize=20)\n",
    "plt.xlabel('Magnitude (M)', fontsize=20);\n",
    "del fig\n",
    "del ax"
   ]
  },
  {
   "cell_type": "code",
   "execution_count": null,
   "id": "715753f0",
   "metadata": {},
   "outputs": [],
   "source": [
    "# plot depth\n",
    "fig, ax = plt.subplots(figsize=(10,10))\n",
    "plt.hist(events_df['depth'] / 1000, histtype='bar', ec='black', bins=25)\n",
    "ax.tick_params(axis='both', labelsize=15)\n",
    "ax.tick_params(axis='both', labelsize=15)\n",
    "plt.ylabel('Number of Earthquakes', fontsize=20)\n",
    "plt.xlabel('Depth (km)', fontsize=20);\n",
    "del fig\n",
    "del ax"
   ]
  },
  {
   "cell_type": "code",
   "execution_count": null,
   "id": "2ba24068",
   "metadata": {},
   "outputs": [],
   "source": [
    "# filter magnitude 1-3\n",
    "events_df = events_df[(events_df.magnitude >= 1) & (events_df.magnitude <= 3)]\n",
    "#filter depth < 200km (200000m)\n",
    "events_df = events_df[events_df.depth < 200000]"
   ]
  },
  {
   "cell_type": "code",
   "execution_count": null,
   "id": "0750d924",
   "metadata": {},
   "outputs": [],
   "source": [
    "# (106623)\n",
    "events_df.shape"
   ]
  },
  {
   "cell_type": "code",
   "execution_count": null,
   "id": "feb0564e",
   "metadata": {},
   "outputs": [],
   "source": [
    "# save the processed df\n",
    "events_df.to_pickle('data/events_processed.pkl')"
   ]
  },
  {
   "cell_type": "markdown",
   "id": "e71c219e",
   "metadata": {},
   "source": [
    "# Seismic Measurements"
   ]
  },
  {
   "cell_type": "code",
   "execution_count": null,
   "id": "bfda353e",
   "metadata": {},
   "outputs": [],
   "source": []
  },
  {
   "cell_type": "code",
   "execution_count": 53,
   "id": "da6e992d",
   "metadata": {},
   "outputs": [],
   "source": [
    "# normalize data between -1 and 1\n",
    "def normalize_data(data):\n",
    "    normalized = []\n",
    "    xmin=min(data)\n",
    "    xmax=max(data)\n",
    "    for x in data:\n",
    "        res = 2.0 * ((x - xmin) / (xmax - xmin)) - 1.0\n",
    "        normalized.append(res)\n",
    "    return normalized\n",
    "\n",
    "# time -> 0 - 30 secs\n",
    "def normalize_time(data):\n",
    "    normalized = []\n",
    "    xmin=min(data)\n",
    "    xmax=max(data)\n",
    "    for x in data:\n",
    "        normalized.append(((x - xmin)/(xmax - xmin)) * 30)\n",
    "    return normalized\n",
    "\n",
    "    \n",
    "# plot wave straight from mseed file\n",
    "def plot_wave_mseed(data, times):\n",
    "    fig = plt.figure(figsize=(15, 4))\n",
    "    ax = fig.add_subplot(1, 1, 1)\n",
    "    cmap = plt.get_cmap('gnuplot')\n",
    "    colors = [cmap(i) for i in np.linspace(0, 1, len(data))]\n",
    "    for i, (d, t) in enumerate(zip(data, times)):\n",
    "        # get same amount of values per each station \n",
    "        new_time = t[:3001]\n",
    "        # normalize\n",
    "        new_time = normalize_time(new_time)\n",
    "        new_time = np.array(new_time)\n",
    "        \n",
    "        # downsample 100Hz to 50Hz\n",
    "        #new_time = new_time[::4]\n",
    "        new_data = d[:3001]\n",
    "        #new_data = np.array(new_data)\n",
    "        #new_data = np.array(normalize_data(new_data))\n",
    "        #new_data = new_data[::4]\n",
    "        ax.plot(new_time, new_data, color=colors[i])\n",
    "    ax.tick_params(axis='both', labelsize=15)\n",
    "    ax.tick_params(axis='both', labelsize=15)\n",
    "    plt.ylabel('HHZ Normalized Velocity', fontsize=20)\n",
    "    plt.xlabel('Timestep', fontsize=20);\n",
    "    plt.grid()\n",
    "    plt.show()\n",
    "    del fig\n",
    "    del ax"
   ]
  },
  {
   "cell_type": "code",
   "execution_count": 47,
   "id": "a239706d",
   "metadata": {},
   "outputs": [
    {
     "data": {
      "text/plain": [
       "1 Trace(s) in Stream:\n",
       "NZ.APZ.10.HHZ | 2016-01-01T00:00:21.927961Z - 2016-01-01T00:01:00.277961Z | 100.0 Hz, 3836 samples"
      ]
     },
     "execution_count": 47,
     "metadata": {},
     "output_type": "execute_result"
    }
   ],
   "source": [
    "ex = read('datasets/waveforms/smi:nz.org.geonet/2016p000001/NZ.APZ.10.HHZ__20160101T000026Z__20160101T000056Z.mseed')\n",
    "ex"
   ]
  },
  {
   "cell_type": "code",
   "execution_count": 48,
   "id": "5328f45c",
   "metadata": {},
   "outputs": [
    {
     "data": {
      "text/plain": [
       "1 Trace(s) in Stream:\n",
       "NZ.BFZ.10.HHZ | 2016-01-01T00:00:23.508389Z - 2016-01-01T00:00:56.678389Z | 100.0 Hz, 3318 samples"
      ]
     },
     "execution_count": 48,
     "metadata": {},
     "output_type": "execute_result"
    }
   ],
   "source": [
    "ex2 = read('datasets/waveforms/smi:nz.org.geonet/2016p000001/NZ.BFZ.10.HHZ__20160101T000026Z__20160101T000056Z.mseed')\n",
    "ex2"
   ]
  },
  {
   "cell_type": "code",
   "execution_count": 49,
   "id": "3d317d83",
   "metadata": {},
   "outputs": [
    {
     "data": {
      "text/plain": [
       "1 Trace(s) in Stream:\n",
       "NZ.CVZ.10.HHZ | 2016-01-01T00:00:23.533139Z - 2016-01-01T00:00:57.673139Z | 100.0 Hz, 3415 samples"
      ]
     },
     "execution_count": 49,
     "metadata": {},
     "output_type": "execute_result"
    }
   ],
   "source": [
    "ex3 = read('datasets/waveforms/smi:nz.org.geonet/2016p000001/NZ.CVZ.10.HHZ__20160101T000026Z__20160101T000056Z.mseed')\n",
    "ex3"
   ]
  },
  {
   "cell_type": "code",
   "execution_count": 65,
   "id": "9d3580d3",
   "metadata": {},
   "outputs": [
    {
     "data": {
      "image/png": "[encoded data removed]",
      "text/plain": [
       "<Figure size 1080x288 with 1 Axes>"
      ]
     },
     "metadata": {
      "needs_background": "light"
     },
     "output_type": "display_data"
    }
   ],
   "source": [
    "plot_wave_mseed(\n",
    "                [ex[0].data, ex2[0].data, ex3[0].data], \n",
    "                [ex[0].times('matplotlib'), ex2[0].times('matplotlib'), ex3[0].times('matplotlib')]\n",
    "               )"
   ]
  },
  {
   "cell_type": "code",
   "execution_count": null,
   "id": "adf50a22",
   "metadata": {},
   "outputs": [],
   "source": []
  },
  {
   "cell_type": "markdown",
   "id": "cf58d079",
   "metadata": {},
   "source": [
    "# Preprocess Seismic Data"
   ]
  },
  {
   "cell_type": "code",
   "execution_count": 29,
   "id": "a0ae2408",
   "metadata": {},
   "outputs": [
    {
     "data": {
      "text/plain": [
       "(3001,)"
      ]
     },
     "execution_count": 29,
     "metadata": {},
     "output_type": "execute_result"
    }
   ],
   "source": [
    "time_arr = np.linspace(0.0, 30.0, 3001)\n",
    "time_arr.shape"
   ]
  },
  {
   "cell_type": "code",
   "execution_count": 30,
   "id": "a5a4f6dc",
   "metadata": {},
   "outputs": [],
   "source": [
    "# preprocess event seismic data per each station\n",
    "def preprocess_data(data):\n",
    "    new_data_arr = []\n",
    "    for i, d in enumerate(data):\n",
    "        # get same amount of values per each station \n",
    "        new_data = d[:3001]\n",
    "        \n",
    "        # normalize\n",
    "        new_data = np.array(new_data)\n",
    "        new_data = normalize_data(new_data)\n",
    "        new_data = np.array(new_data)\n",
    "            \n",
    "        # downsample 100Hz to 50Hz\n",
    "        #new_data = new_data[::4]\n",
    "        new_data_arr.append(new_data)\n",
    "        last_appended = new_data\n",
    "    \n",
    "    res = np.array(new_data_arr)\n",
    "    return res"
   ]
  },
  {
   "cell_type": "code",
   "execution_count": 31,
   "id": "7ae0ca6f",
   "metadata": {},
   "outputs": [],
   "source": [
    "# plot wave normal\n",
    "def plot_wave_processed(data):\n",
    "    fig = plt.figure(figsize=(15, 4))\n",
    "    ax = fig.add_subplot(1, 1, 1)\n",
    "    cmap = plt.get_cmap('gnuplot')\n",
    "    colors = [cmap(i) for i in np.linspace(0, 1, len(data))]\n",
    "    i = 0\n",
    "    for s in data:\n",
    "        ax.plot(time_arr, s, color=colors[i])\n",
    "        i+=1\n",
    "    ax.tick_params(axis='both', labelsize=15)\n",
    "    ax.tick_params(axis='both', labelsize=15)\n",
    "    plt.ylabel('HHZ Velocity', fontsize=20)\n",
    "    plt.xlabel('Timestep', fontsize=20);\n",
    "    plt.grid()\n",
    "    plt.show()\n",
    "    del fig\n",
    "    del ax"
   ]
  },
  {
   "cell_type": "code",
   "execution_count": 66,
   "id": "d2422b60",
   "metadata": {},
   "outputs": [],
   "source": [
    "fun = preprocess_data([ex[0].data, ex2[0].data, ex3[0].data])"
   ]
  },
  {
   "cell_type": "code",
   "execution_count": 67,
   "id": "050c4745",
   "metadata": {},
   "outputs": [
    {
     "data": {
      "text/plain": [
       "(3, 3001)"
      ]
     },
     "execution_count": 67,
     "metadata": {},
     "output_type": "execute_result"
    }
   ],
   "source": [
    "fun.shape"
   ]
  },
  {
   "cell_type": "code",
   "execution_count": 68,
   "id": "36d91e6c",
   "metadata": {},
   "outputs": [
    {
     "data": {
      "image/png": "[encoded data removed]",
      "text/plain": [
       "<Figure size 1080x288 with 1 Axes>"
      ]
     },
     "metadata": {
      "needs_background": "light"
     },
     "output_type": "display_data"
    }
   ],
   "source": [
    "plot_wave_processed(fun)"
   ]
  },
  {
   "cell_type": "code",
   "execution_count": null,
   "id": "93c973fd",
   "metadata": {},
   "outputs": [],
   "source": [
    "os.getcwd()"
   ]
  },
  {
   "cell_type": "code",
   "execution_count": null,
   "id": "79e4daf4",
   "metadata": {},
   "outputs": [],
   "source": [
    "os.chdir('../../')\n",
    "os.getcwd()"
   ]
  },
  {
   "cell_type": "code",
   "execution_count": null,
   "id": "f6ee7d4b",
   "metadata": {},
   "outputs": [],
   "source": [
    "list_of_directories = os.listdir('datasets/normal/waveforms/smi:nz.org.geonet/')\n",
    "len(list_of_directories)"
   ]
  },
  {
   "cell_type": "code",
   "execution_count": null,
   "id": "220fb2da",
   "metadata": {},
   "outputs": [],
   "source": [
    "os.chdir('datasets/normal/waveforms/smi:nz.org.geonet/')\n",
    "os.getcwd()"
   ]
  },
  {
   "cell_type": "code",
   "execution_count": null,
   "id": "6d6629b6",
   "metadata": {},
   "outputs": [],
   "source": [
    "master_data_per_event = []"
   ]
  },
  {
   "cell_type": "code",
   "execution_count": null,
   "id": "b6ecdd1c",
   "metadata": {},
   "outputs": [],
   "source": [
    "# [0] -> 1st event, [1] -> 2nd event etc.\n",
    "\n",
    "events_processed = 0\n",
    "station_count = 0\n",
    "\n",
    "for directory in list_of_directories:\n",
    "    \n",
    "    # open directory of an event\n",
    "    try: \n",
    "        os.chdir(directory)\n",
    "    except:\n",
    "        continue\n",
    "        \n",
    "    # station files for each event\n",
    "    station_files = os.listdir()\n",
    "    \n",
    "    # station data per event\n",
    "    station_data_arr = []\n",
    "    for i in range(0, 64):\n",
    "        \n",
    "        # break if we have 58 stations. Move to next event\n",
    "        if station_count == 58:\n",
    "            station_count = 0 # reset counter\n",
    "            break\n",
    "        \n",
    "        # cant read a station file, move to next station\n",
    "        try:\n",
    "            station_data = read(station_files[i])\n",
    "        except:\n",
    "            continue\n",
    "        \n",
    "        station_data = station_data[0].data\n",
    "        \n",
    "        # if corrupted data, continue to next station\n",
    "        min_data = min(station_data)\n",
    "        max_data = max(station_data)\n",
    "        if min_data == -14822981 or max_data == -14822981:\n",
    "            continue\n",
    "        else:\n",
    "            station_data_arr.append(station_data)\n",
    "            station_count += 1\n",
    "    \n",
    "    if len(station_data_arr) == 58:\n",
    "        station_data_processed = preprocess_data(station_data_arr)\n",
    "        master_data_per_event.append(station_data_processed)\n",
    "    \n",
    "    \n",
    "    if events_processed == 12000:\n",
    "        break\n",
    "        \n",
    "    events_processed += 1\n",
    "    \n",
    "    if events_processed % 1000 == 0:\n",
    "        print(events_processed)\n",
    "    \n",
    "    del station_data_arr\n",
    "\n",
    "    os.chdir('../')"
   ]
  },
  {
   "cell_type": "code",
   "execution_count": null,
   "id": "d0938d56",
   "metadata": {},
   "outputs": [],
   "source": [
    "len(master_data_per_event)"
   ]
  },
  {
   "cell_type": "code",
   "execution_count": null,
   "id": "920463cd",
   "metadata": {},
   "outputs": [],
   "source": [
    "len(master_data_per_event[0][1])"
   ]
  },
  {
   "cell_type": "code",
   "execution_count": null,
   "id": "baab3390",
   "metadata": {},
   "outputs": [],
   "source": [
    "os.getcwd()"
   ]
  },
  {
   "cell_type": "code",
   "execution_count": null,
   "id": "bc5fdf83",
   "metadata": {},
   "outputs": [],
   "source": [
    "os.chdir('../')"
   ]
  },
  {
   "cell_type": "code",
   "execution_count": null,
   "id": "10d7b7df",
   "metadata": {},
   "outputs": [],
   "source": [
    "os.chdir('100hz')"
   ]
  },
  {
   "cell_type": "code",
   "execution_count": null,
   "id": "8d01c0c1",
   "metadata": {},
   "outputs": [],
   "source": [
    "os.getcwd()"
   ]
  },
  {
   "cell_type": "code",
   "execution_count": null,
   "id": "52c8623a",
   "metadata": {},
   "outputs": [],
   "source": [
    "pickle.dump(master_data_per_event, open(\"normal_seismic_100hz.pkl\", \"wb\"))"
   ]
  },
  {
   "cell_type": "code",
   "execution_count": null,
   "id": "6244eb6a",
   "metadata": {},
   "outputs": [],
   "source": [
    "os.getcwd()"
   ]
  },
  {
   "cell_type": "code",
   "execution_count": null,
   "id": "8e7ecc79",
   "metadata": {},
   "outputs": [],
   "source": [
    "os.chdir('..')"
   ]
  },
  {
   "cell_type": "code",
   "execution_count": null,
   "id": "00c37e0b",
   "metadata": {},
   "outputs": [],
   "source": [
    "plot_wave_processed(master_data_per_event[52])"
   ]
  },
  {
   "cell_type": "code",
   "execution_count": null,
   "id": "c1b43573",
   "metadata": {},
   "outputs": [],
   "source": [
    "# READING EARTHQUAKE BEHAVIOUR\n",
    "pkl_file = open('datasets/5hz/x_test.pkl', 'rb')\n",
    "earthquakes_data = pickle.load(pkl_file)\n",
    "pkl_file.close()"
   ]
  },
  {
   "cell_type": "code",
   "execution_count": null,
   "id": "4a653a14",
   "metadata": {},
   "outputs": [],
   "source": [
    "earthquakes_data.shape"
   ]
  },
  {
   "cell_type": "code",
   "execution_count": null,
   "id": "1ee328b4",
   "metadata": {},
   "outputs": [],
   "source": [
    "# READING NORMAL BEHAVIOUR\n",
    "pkl_file = open('data/normal_seismic_2hz.pkl', 'rb')\n",
    "normal_data = pickle.load(pkl_file)\n",
    "pkl_file.close()"
   ]
  },
  {
   "cell_type": "code",
   "execution_count": null,
   "id": "8646b2c9",
   "metadata": {},
   "outputs": [],
   "source": [
    "normal_data[0].shape"
   ]
  },
  {
   "cell_type": "code",
   "execution_count": null,
   "id": "67533895",
   "metadata": {},
   "outputs": [],
   "source": [
    "plot_wave_processed(normal_data[0])"
   ]
  },
  {
   "cell_type": "code",
   "execution_count": 4,
   "id": "b32510a1",
   "metadata": {},
   "outputs": [
    {
     "data": {
      "text/plain": [
       "'/Users/irtazahashmi/Desktop/RP'"
      ]
     },
     "execution_count": 4,
     "metadata": {},
     "output_type": "execute_result"
    }
   ],
   "source": []
  },
  {
   "cell_type": "code",
   "execution_count": null,
   "id": "94e611c6",
   "metadata": {},
   "outputs": [],
   "source": []
  }
 ],
 "metadata": {
  "kernelspec": {
   "display_name": "Python 3",
   "language": "python",
   "name": "python3"
  },
  "language_info": {
   "codemirror_mode": {
    "name": "ipython",
    "version": 3
   },
   "file_extension": ".py",
   "mimetype": "text/x-python",
   "name": "python",
   "nbconvert_exporter": "python",
   "pygments_lexer": "ipython3",
   "version": "3.9.2"
  }
 },
 "nbformat": 4,
 "nbformat_minor": 5
}
