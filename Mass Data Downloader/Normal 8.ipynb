{
 "cells": [
  {
   "cell_type": "code",
   "execution_count": null,
   "id": "39e19370",
   "metadata": {},
   "outputs": [
    {
     "name": "stderr",
     "output_type": "stream",
     "text": [
      "[2021-11-25 00:43:56,975] - obspy.clients.fdsn.mass_downloader - INFO: Initializing FDSN client(s) for GEONET.\n",
      "[2021-11-25 00:43:57,075] - obspy.clients.fdsn.mass_downloader - INFO: Successfully initialized 1 client(s): GEONET.\n",
      "[2021-11-25 00:43:57,076] - obspy.clients.fdsn.mass_downloader - INFO: Total acquired or preexisting stations: 0\n",
      "[2021-11-25 00:43:57,077] - obspy.clients.fdsn.mass_downloader - INFO: Client 'GEONET' - Requesting unreliable availability.\n"
     ]
    },
    {
     "name": "stdout",
     "output_type": "stream",
     "text": [
      "=================================================================\n",
      "Initiating mass download request.\n"
     ]
    },
    {
     "name": "stderr",
     "output_type": "stream",
     "text": [
      "[2021-11-25 00:43:57,867] - obspy.clients.fdsn.mass_downloader - INFO: Client 'GEONET' - Successfully requested availability (0.79 seconds)\n",
      "[2021-11-25 00:43:57,868] - obspy.clients.fdsn.mass_downloader - INFO: Client 'GEONET' - Found 1 stations (1 channels).\n",
      "[2021-11-25 00:43:57,868] - obspy.clients.fdsn.mass_downloader - INFO: Client 'GEONET' - Will attempt to download data from 1 stations.\n",
      "[2021-11-25 00:43:57,868] - obspy.clients.fdsn.mass_downloader - INFO: Client 'GEONET' - Status for 1 time intervals/channels before downloading: NEEDS_DOWNLOADING\n",
      "[2021-11-25 00:43:58,822] - obspy.clients.fdsn.mass_downloader - INFO: Client 'GEONET' - Successfully downloaded 1 channels (of 1)\n",
      "[2021-11-25 00:43:58,826] - obspy.clients.fdsn.mass_downloader - INFO: Client 'GEONET' - Launching basic QC checks...\n",
      "[2021-11-25 00:43:58,877] - obspy.clients.fdsn.mass_downloader - INFO: Client 'GEONET' - Downloaded 0.0 MB [3.14 KB/sec] of data, 0.0 MB of which were discarded afterwards.\n",
      "[2021-11-25 00:43:58,879] - obspy.clients.fdsn.mass_downloader - INFO: Client 'GEONET' - Status for 1 time intervals/channels after downloading: DOWNLOADED\n",
      "[2021-11-25 00:43:58,890] - obspy.clients.fdsn.mass_downloader - INFO: Client 'GEONET' - No station information to download.\n",
      "[2021-11-25 00:43:58,892] - obspy.clients.fdsn.mass_downloader - INFO: ============================== Final report\n",
      "[2021-11-25 00:43:58,893] - obspy.clients.fdsn.mass_downloader - INFO: 0 MiniSEED files [0.0 MB] already existed.\n",
      "[2021-11-25 00:43:58,894] - obspy.clients.fdsn.mass_downloader - INFO: 1 StationXML files [0.0 MB] already existed.\n",
      "[2021-11-25 00:43:58,895] - obspy.clients.fdsn.mass_downloader - INFO: Client 'GEONET' - Acquired 1 MiniSEED files [0.0 MB].\n",
      "[2021-11-25 00:43:58,897] - obspy.clients.fdsn.mass_downloader - INFO: Client 'GEONET' - Acquired 0 StationXML files [0.0 MB].\n",
      "[2021-11-25 00:43:58,898] - obspy.clients.fdsn.mass_downloader - INFO: Downloaded 0.0 MB in total.\n",
      "[2021-11-25 00:43:58,903] - obspy.clients.fdsn.mass_downloader - INFO: Initializing FDSN client(s) for GEONET.\n",
      "[2021-11-25 00:43:58,919] - obspy.clients.fdsn.mass_downloader - INFO: Successfully initialized 1 client(s): GEONET.\n",
      "[2021-11-25 00:43:58,920] - obspy.clients.fdsn.mass_downloader - INFO: Total acquired or preexisting stations: 0\n",
      "[2021-11-25 00:43:58,921] - obspy.clients.fdsn.mass_downloader - INFO: Client 'GEONET' - Requesting unreliable availability.\n"
     ]
    },
    {
     "name": "stdout",
     "output_type": "stream",
     "text": [
      "=================================================================\n",
      "Initiating mass download request.\n"
     ]
    },
    {
     "name": "stderr",
     "output_type": "stream",
     "text": [
      "[2021-11-25 00:43:59,970] - obspy.clients.fdsn.mass_downloader - INFO: Client 'GEONET' - Successfully requested availability (1.05 seconds)\n",
      "[2021-11-25 00:43:59,972] - obspy.clients.fdsn.mass_downloader - INFO: Client 'GEONET' - Found 1 stations (1 channels).\n",
      "[2021-11-25 00:43:59,973] - obspy.clients.fdsn.mass_downloader - INFO: Client 'GEONET' - Will attempt to download data from 1 stations.\n",
      "[2021-11-25 00:43:59,974] - obspy.clients.fdsn.mass_downloader - INFO: Client 'GEONET' - Status for 1 time intervals/channels before downloading: NEEDS_DOWNLOADING\n",
      "[2021-11-25 00:44:01,053] - obspy.clients.fdsn.mass_downloader - INFO: Client 'GEONET' - Successfully downloaded 1 channels (of 1)\n",
      "[2021-11-25 00:44:01,055] - obspy.clients.fdsn.mass_downloader - INFO: Client 'GEONET' - Launching basic QC checks...\n",
      "[2021-11-25 00:44:01,062] - obspy.clients.fdsn.mass_downloader - INFO: Client 'GEONET' - Downloaded 0.0 MB [3.71 KB/sec] of data, 0.0 MB of which were discarded afterwards.\n",
      "[2021-11-25 00:44:01,063] - obspy.clients.fdsn.mass_downloader - INFO: Client 'GEONET' - Status for 1 time intervals/channels after downloading: DOWNLOADED\n",
      "[2021-11-25 00:44:01,069] - obspy.clients.fdsn.mass_downloader - INFO: Client 'GEONET' - No station information to download.\n",
      "[2021-11-25 00:44:01,070] - obspy.clients.fdsn.mass_downloader - INFO: ============================== Final report\n",
      "[2021-11-25 00:44:01,072] - obspy.clients.fdsn.mass_downloader - INFO: 0 MiniSEED files [0.0 MB] already existed.\n",
      "[2021-11-25 00:44:01,073] - obspy.clients.fdsn.mass_downloader - INFO: 1 StationXML files [0.0 MB] already existed.\n",
      "[2021-11-25 00:44:01,074] - obspy.clients.fdsn.mass_downloader - INFO: Client 'GEONET' - Acquired 1 MiniSEED files [0.0 MB].\n",
      "[2021-11-25 00:44:01,075] - obspy.clients.fdsn.mass_downloader - INFO: Client 'GEONET' - Acquired 0 StationXML files [0.0 MB].\n",
      "[2021-11-25 00:44:01,076] - obspy.clients.fdsn.mass_downloader - INFO: Downloaded 0.0 MB in total.\n",
      "[2021-11-25 00:44:01,078] - obspy.clients.fdsn.mass_downloader - INFO: Initializing FDSN client(s) for GEONET.\n",
      "[2021-11-25 00:44:01,083] - obspy.clients.fdsn.mass_downloader - INFO: Successfully initialized 1 client(s): GEONET.\n",
      "[2021-11-25 00:44:01,084] - obspy.clients.fdsn.mass_downloader - INFO: Total acquired or preexisting stations: 0\n",
      "[2021-11-25 00:44:01,084] - obspy.clients.fdsn.mass_downloader - INFO: Client 'GEONET' - Requesting unreliable availability.\n"
     ]
    },
    {
     "name": "stdout",
     "output_type": "stream",
     "text": [
      "=================================================================\n",
      "Initiating mass download request.\n"
     ]
    },
    {
     "name": "stderr",
     "output_type": "stream",
     "text": [
      "[2021-11-25 00:44:01,706] - obspy.clients.fdsn.mass_downloader - INFO: Client 'GEONET' - Successfully requested availability (0.62 seconds)\n",
      "[2021-11-25 00:44:01,708] - obspy.clients.fdsn.mass_downloader - INFO: Client 'GEONET' - Found 1 stations (1 channels).\n",
      "[2021-11-25 00:44:01,709] - obspy.clients.fdsn.mass_downloader - INFO: Client 'GEONET' - Will attempt to download data from 1 stations.\n",
      "[2021-11-25 00:44:01,710] - obspy.clients.fdsn.mass_downloader - INFO: Client 'GEONET' - Status for 1 time intervals/channels before downloading: NEEDS_DOWNLOADING\n",
      "[2021-11-25 00:44:02,790] - obspy.clients.fdsn.mass_downloader - INFO: Client 'GEONET' - Successfully downloaded 1 channels (of 1)\n",
      "[2021-11-25 00:44:02,791] - obspy.clients.fdsn.mass_downloader - INFO: Client 'GEONET' - Launching basic QC checks...\n",
      "[2021-11-25 00:44:02,796] - obspy.clients.fdsn.mass_downloader - INFO: Client 'GEONET' - Downloaded 0.0 MB [3.25 KB/sec] of data, 0.0 MB of which were discarded afterwards.\n",
      "[2021-11-25 00:44:02,797] - obspy.clients.fdsn.mass_downloader - INFO: Client 'GEONET' - Status for 1 time intervals/channels after downloading: DOWNLOADED\n",
      "[2021-11-25 00:44:02,801] - obspy.clients.fdsn.mass_downloader - INFO: Client 'GEONET' - No station information to download.\n",
      "[2021-11-25 00:44:02,802] - obspy.clients.fdsn.mass_downloader - INFO: ============================== Final report\n",
      "[2021-11-25 00:44:02,803] - obspy.clients.fdsn.mass_downloader - INFO: 0 MiniSEED files [0.0 MB] already existed.\n",
      "[2021-11-25 00:44:02,804] - obspy.clients.fdsn.mass_downloader - INFO: 1 StationXML files [0.0 MB] already existed.\n",
      "[2021-11-25 00:44:02,805] - obspy.clients.fdsn.mass_downloader - INFO: Client 'GEONET' - Acquired 1 MiniSEED files [0.0 MB].\n",
      "[2021-11-25 00:44:02,805] - obspy.clients.fdsn.mass_downloader - INFO: Client 'GEONET' - Acquired 0 StationXML files [0.0 MB].\n",
      "[2021-11-25 00:44:02,806] - obspy.clients.fdsn.mass_downloader - INFO: Downloaded 0.0 MB in total.\n",
      "[2021-11-25 00:44:02,807] - obspy.clients.fdsn.mass_downloader - INFO: Initializing FDSN client(s) for GEONET.\n",
      "[2021-11-25 00:44:02,813] - obspy.clients.fdsn.mass_downloader - INFO: Successfully initialized 1 client(s): GEONET.\n",
      "[2021-11-25 00:44:02,815] - obspy.clients.fdsn.mass_downloader - INFO: Total acquired or preexisting stations: 0\n",
      "[2021-11-25 00:44:02,816] - obspy.clients.fdsn.mass_downloader - INFO: Client 'GEONET' - Requesting unreliable availability.\n"
     ]
    },
    {
     "name": "stdout",
     "output_type": "stream",
     "text": [
      "=================================================================\n",
      "Initiating mass download request.\n"
     ]
    },
    {
     "name": "stderr",
     "output_type": "stream",
     "text": [
      "[2021-11-25 00:44:03,465] - obspy.clients.fdsn.mass_downloader - INFO: Client 'GEONET' - Successfully requested availability (0.65 seconds)\n",
      "[2021-11-25 00:44:03,466] - obspy.clients.fdsn.mass_downloader - INFO: Client 'GEONET' - Found 1 stations (1 channels).\n",
      "[2021-11-25 00:44:03,467] - obspy.clients.fdsn.mass_downloader - INFO: Client 'GEONET' - Will attempt to download data from 1 stations.\n",
      "[2021-11-25 00:44:03,468] - obspy.clients.fdsn.mass_downloader - INFO: Client 'GEONET' - Status for 1 time intervals/channels before downloading: NEEDS_DOWNLOADING\n",
      "[2021-11-25 00:44:04,623] - obspy.clients.fdsn.mass_downloader - INFO: Client 'GEONET' - Successfully downloaded 1 channels (of 1)\n",
      "[2021-11-25 00:44:04,631] - obspy.clients.fdsn.mass_downloader - INFO: Client 'GEONET' - Launching basic QC checks...\n",
      "[2021-11-25 00:44:04,641] - obspy.clients.fdsn.mass_downloader - INFO: Client 'GEONET' - Downloaded 0.0 MB [2.58 KB/sec] of data, 0.0 MB of which were discarded afterwards.\n",
      "[2021-11-25 00:44:04,642] - obspy.clients.fdsn.mass_downloader - INFO: Client 'GEONET' - Status for 1 time intervals/channels after downloading: DOWNLOADED\n",
      "[2021-11-25 00:44:04,646] - obspy.clients.fdsn.mass_downloader - INFO: Client 'GEONET' - No station information to download.\n",
      "[2021-11-25 00:44:04,647] - obspy.clients.fdsn.mass_downloader - INFO: ============================== Final report\n",
      "[2021-11-25 00:44:04,648] - obspy.clients.fdsn.mass_downloader - INFO: 0 MiniSEED files [0.0 MB] already existed.\n",
      "[2021-11-25 00:44:04,649] - obspy.clients.fdsn.mass_downloader - INFO: 1 StationXML files [0.0 MB] already existed.\n",
      "[2021-11-25 00:44:04,649] - obspy.clients.fdsn.mass_downloader - INFO: Client 'GEONET' - Acquired 1 MiniSEED files [0.0 MB].\n",
      "[2021-11-25 00:44:04,650] - obspy.clients.fdsn.mass_downloader - INFO: Client 'GEONET' - Acquired 0 StationXML files [0.0 MB].\n",
      "[2021-11-25 00:44:04,651] - obspy.clients.fdsn.mass_downloader - INFO: Downloaded 0.0 MB in total.\n",
      "[2021-11-25 00:44:04,652] - obspy.clients.fdsn.mass_downloader - INFO: Initializing FDSN client(s) for GEONET.\n",
      "[2021-11-25 00:44:04,655] - obspy.clients.fdsn.mass_downloader - INFO: Successfully initialized 1 client(s): GEONET.\n",
      "[2021-11-25 00:44:04,656] - obspy.clients.fdsn.mass_downloader - INFO: Total acquired or preexisting stations: 0\n",
      "[2021-11-25 00:44:04,656] - obspy.clients.fdsn.mass_downloader - INFO: Client 'GEONET' - Requesting unreliable availability.\n"
     ]
    },
    {
     "name": "stdout",
     "output_type": "stream",
     "text": [
      "=================================================================\n",
      "Initiating mass download request.\n"
     ]
    },
    {
     "name": "stderr",
     "output_type": "stream",
     "text": [
      "[2021-11-25 00:44:05,215] - obspy.clients.fdsn.mass_downloader - INFO: Client 'GEONET' - Successfully requested availability (0.56 seconds)\n",
      "[2021-11-25 00:44:05,217] - obspy.clients.fdsn.mass_downloader - INFO: Client 'GEONET' - Found 1 stations (1 channels).\n",
      "[2021-11-25 00:44:05,218] - obspy.clients.fdsn.mass_downloader - INFO: Client 'GEONET' - Will attempt to download data from 1 stations.\n",
      "[2021-11-25 00:44:05,219] - obspy.clients.fdsn.mass_downloader - INFO: Client 'GEONET' - Status for 1 time intervals/channels before downloading: NEEDS_DOWNLOADING\n",
      "[2021-11-25 00:44:06,728] - obspy.clients.fdsn.mass_downloader - INFO: Client 'GEONET' - Successfully downloaded 1 channels (of 1)\n",
      "[2021-11-25 00:44:06,732] - obspy.clients.fdsn.mass_downloader - INFO: Client 'GEONET' - Launching basic QC checks...\n",
      "[2021-11-25 00:44:06,738] - obspy.clients.fdsn.mass_downloader - INFO: Client 'GEONET' - Downloaded 0.0 MB [2.32 KB/sec] of data, 0.0 MB of which were discarded afterwards.\n",
      "[2021-11-25 00:44:06,740] - obspy.clients.fdsn.mass_downloader - INFO: Client 'GEONET' - Status for 1 time intervals/channels after downloading: DOWNLOADED\n",
      "[2021-11-25 00:44:06,744] - obspy.clients.fdsn.mass_downloader - INFO: Client 'GEONET' - No station information to download.\n",
      "[2021-11-25 00:44:06,746] - obspy.clients.fdsn.mass_downloader - INFO: ============================== Final report\n",
      "[2021-11-25 00:44:06,747] - obspy.clients.fdsn.mass_downloader - INFO: 0 MiniSEED files [0.0 MB] already existed.\n",
      "[2021-11-25 00:44:06,748] - obspy.clients.fdsn.mass_downloader - INFO: 1 StationXML files [0.0 MB] already existed.\n",
      "[2021-11-25 00:44:06,749] - obspy.clients.fdsn.mass_downloader - INFO: Client 'GEONET' - Acquired 1 MiniSEED files [0.0 MB].\n",
      "[2021-11-25 00:44:06,750] - obspy.clients.fdsn.mass_downloader - INFO: Client 'GEONET' - Acquired 0 StationXML files [0.0 MB].\n",
      "[2021-11-25 00:44:06,751] - obspy.clients.fdsn.mass_downloader - INFO: Downloaded 0.0 MB in total.\n",
      "[2021-11-25 00:44:06,753] - obspy.clients.fdsn.mass_downloader - INFO: Initializing FDSN client(s) for GEONET.\n",
      "[2021-11-25 00:44:06,759] - obspy.clients.fdsn.mass_downloader - INFO: Successfully initialized 1 client(s): GEONET.\n",
      "[2021-11-25 00:44:06,760] - obspy.clients.fdsn.mass_downloader - INFO: Total acquired or preexisting stations: 0\n",
      "[2021-11-25 00:44:06,761] - obspy.clients.fdsn.mass_downloader - INFO: Client 'GEONET' - Requesting unreliable availability.\n"
     ]
    },
    {
     "name": "stdout",
     "output_type": "stream",
     "text": [
      "=================================================================\n",
      "Initiating mass download request.\n"
     ]
    },
    {
     "name": "stderr",
     "output_type": "stream",
     "text": [
      "[2021-11-25 00:44:07,467] - obspy.clients.fdsn.mass_downloader - INFO: Client 'GEONET' - Successfully requested availability (0.71 seconds)\n",
      "[2021-11-25 00:44:07,468] - obspy.clients.fdsn.mass_downloader - INFO: Client 'GEONET' - Found 1 stations (1 channels).\n",
      "[2021-11-25 00:44:07,468] - obspy.clients.fdsn.mass_downloader - INFO: Client 'GEONET' - Will attempt to download data from 1 stations.\n",
      "[2021-11-25 00:44:07,469] - obspy.clients.fdsn.mass_downloader - INFO: Client 'GEONET' - Status for 1 time intervals/channels before downloading: NEEDS_DOWNLOADING\n",
      "[2021-11-25 00:44:08,552] - obspy.clients.fdsn.mass_downloader - INFO: Client 'GEONET' - Successfully downloaded 1 channels (of 1)\n",
      "[2021-11-25 00:44:08,553] - obspy.clients.fdsn.mass_downloader - INFO: Client 'GEONET' - Launching basic QC checks...\n",
      "[2021-11-25 00:44:08,556] - obspy.clients.fdsn.mass_downloader - INFO: Client 'GEONET' - Downloaded 0.0 MB [3.69 KB/sec] of data, 0.0 MB of which were discarded afterwards.\n",
      "[2021-11-25 00:44:08,556] - obspy.clients.fdsn.mass_downloader - INFO: Client 'GEONET' - Status for 1 time intervals/channels after downloading: DOWNLOADED\n",
      "[2021-11-25 00:44:08,558] - obspy.clients.fdsn.mass_downloader - INFO: Client 'GEONET' - No station information to download.\n",
      "[2021-11-25 00:44:08,559] - obspy.clients.fdsn.mass_downloader - INFO: ============================== Final report\n",
      "[2021-11-25 00:44:08,559] - obspy.clients.fdsn.mass_downloader - INFO: 0 MiniSEED files [0.0 MB] already existed.\n",
      "[2021-11-25 00:44:08,560] - obspy.clients.fdsn.mass_downloader - INFO: 1 StationXML files [0.0 MB] already existed.\n",
      "[2021-11-25 00:44:08,560] - obspy.clients.fdsn.mass_downloader - INFO: Client 'GEONET' - Acquired 1 MiniSEED files [0.0 MB].\n",
      "[2021-11-25 00:44:08,560] - obspy.clients.fdsn.mass_downloader - INFO: Client 'GEONET' - Acquired 0 StationXML files [0.0 MB].\n",
      "[2021-11-25 00:44:08,561] - obspy.clients.fdsn.mass_downloader - INFO: Downloaded 0.0 MB in total.\n",
      "[2021-11-25 00:44:08,561] - obspy.clients.fdsn.mass_downloader - INFO: Initializing FDSN client(s) for GEONET.\n",
      "[2021-11-25 00:44:08,565] - obspy.clients.fdsn.mass_downloader - INFO: Successfully initialized 1 client(s): GEONET.\n",
      "[2021-11-25 00:44:08,566] - obspy.clients.fdsn.mass_downloader - INFO: Total acquired or preexisting stations: 0\n",
      "[2021-11-25 00:44:08,566] - obspy.clients.fdsn.mass_downloader - INFO: Client 'GEONET' - Requesting unreliable availability.\n"
     ]
    },
    {
     "name": "stdout",
     "output_type": "stream",
     "text": [
      "=================================================================\n",
      "Initiating mass download request.\n"
     ]
    },
    {
     "name": "stderr",
     "output_type": "stream",
     "text": [
      "[2021-11-25 00:44:09,121] - obspy.clients.fdsn.mass_downloader - INFO: Client 'GEONET' - Successfully requested availability (0.55 seconds)\n",
      "[2021-11-25 00:44:09,122] - obspy.clients.fdsn.mass_downloader - INFO: Client 'GEONET' - Found 1 stations (1 channels).\n",
      "[2021-11-25 00:44:09,125] - obspy.clients.fdsn.mass_downloader - INFO: Client 'GEONET' - Will attempt to download data from 1 stations.\n",
      "[2021-11-25 00:44:09,133] - obspy.clients.fdsn.mass_downloader - INFO: Client 'GEONET' - Status for 1 time intervals/channels before downloading: NEEDS_DOWNLOADING\n",
      "[2021-11-25 00:44:10,266] - obspy.clients.fdsn.mass_downloader - INFO: Client 'GEONET' - Successfully downloaded 1 channels (of 1)\n",
      "[2021-11-25 00:44:10,270] - obspy.clients.fdsn.mass_downloader - INFO: Client 'GEONET' - Launching basic QC checks...\n",
      "[2021-11-25 00:44:10,274] - obspy.clients.fdsn.mass_downloader - INFO: Client 'GEONET' - Downloaded 0.0 MB [3.24 KB/sec] of data, 0.0 MB of which were discarded afterwards.\n",
      "[2021-11-25 00:44:10,274] - obspy.clients.fdsn.mass_downloader - INFO: Client 'GEONET' - Status for 1 time intervals/channels after downloading: DOWNLOADED\n",
      "[2021-11-25 00:44:10,279] - obspy.clients.fdsn.mass_downloader - INFO: Client 'GEONET' - No station information to download.\n",
      "[2021-11-25 00:44:10,280] - obspy.clients.fdsn.mass_downloader - INFO: ============================== Final report\n",
      "[2021-11-25 00:44:10,280] - obspy.clients.fdsn.mass_downloader - INFO: 0 MiniSEED files [0.0 MB] already existed.\n",
      "[2021-11-25 00:44:10,280] - obspy.clients.fdsn.mass_downloader - INFO: 1 StationXML files [0.0 MB] already existed.\n",
      "[2021-11-25 00:44:10,280] - obspy.clients.fdsn.mass_downloader - INFO: Client 'GEONET' - Acquired 1 MiniSEED files [0.0 MB].\n",
      "[2021-11-25 00:44:10,281] - obspy.clients.fdsn.mass_downloader - INFO: Client 'GEONET' - Acquired 0 StationXML files [0.0 MB].\n",
      "[2021-11-25 00:44:10,281] - obspy.clients.fdsn.mass_downloader - INFO: Downloaded 0.0 MB in total.\n",
      "[2021-11-25 00:44:10,283] - obspy.clients.fdsn.mass_downloader - INFO: Initializing FDSN client(s) for GEONET.\n",
      "[2021-11-25 00:44:10,286] - obspy.clients.fdsn.mass_downloader - INFO: Successfully initialized 1 client(s): GEONET.\n",
      "[2021-11-25 00:44:10,287] - obspy.clients.fdsn.mass_downloader - INFO: Total acquired or preexisting stations: 0\n",
      "[2021-11-25 00:44:10,287] - obspy.clients.fdsn.mass_downloader - INFO: Client 'GEONET' - Requesting unreliable availability.\n"
     ]
    },
    {
     "name": "stdout",
     "output_type": "stream",
     "text": [
      "=================================================================\n",
      "Initiating mass download request.\n"
     ]
    },
    {
     "name": "stderr",
     "output_type": "stream",
     "text": [
      "[2021-11-25 00:44:10,866] - obspy.clients.fdsn.mass_downloader - INFO: Client 'GEONET' - Successfully requested availability (0.58 seconds)\n",
      "[2021-11-25 00:44:10,866] - obspy.clients.fdsn.mass_downloader - INFO: Client 'GEONET' - Found 1 stations (1 channels).\n",
      "[2021-11-25 00:44:10,866] - obspy.clients.fdsn.mass_downloader - INFO: Client 'GEONET' - Will attempt to download data from 1 stations.\n",
      "[2021-11-25 00:44:10,867] - obspy.clients.fdsn.mass_downloader - INFO: Client 'GEONET' - Status for 1 time intervals/channels before downloading: NEEDS_DOWNLOADING\n",
      "[2021-11-25 00:44:12,510] - obspy.clients.fdsn.mass_downloader - INFO: Client 'GEONET' - Successfully downloaded 1 channels (of 1)\n",
      "[2021-11-25 00:44:12,512] - obspy.clients.fdsn.mass_downloader - INFO: Client 'GEONET' - Launching basic QC checks...\n",
      "[2021-11-25 00:44:12,517] - obspy.clients.fdsn.mass_downloader - INFO: Client 'GEONET' - Downloaded 0.0 MB [1.82 KB/sec] of data, 0.0 MB of which were discarded afterwards.\n",
      "[2021-11-25 00:44:12,518] - obspy.clients.fdsn.mass_downloader - INFO: Client 'GEONET' - Status for 1 time intervals/channels after downloading: DOWNLOADED\n",
      "[2021-11-25 00:44:12,527] - obspy.clients.fdsn.mass_downloader - INFO: Client 'GEONET' - No station information to download.\n",
      "[2021-11-25 00:44:12,528] - obspy.clients.fdsn.mass_downloader - INFO: ============================== Final report\n",
      "[2021-11-25 00:44:12,529] - obspy.clients.fdsn.mass_downloader - INFO: 0 MiniSEED files [0.0 MB] already existed.\n",
      "[2021-11-25 00:44:12,530] - obspy.clients.fdsn.mass_downloader - INFO: 1 StationXML files [0.0 MB] already existed.\n",
      "[2021-11-25 00:44:12,531] - obspy.clients.fdsn.mass_downloader - INFO: Client 'GEONET' - Acquired 1 MiniSEED files [0.0 MB].\n",
      "[2021-11-25 00:44:12,531] - obspy.clients.fdsn.mass_downloader - INFO: Client 'GEONET' - Acquired 0 StationXML files [0.0 MB].\n",
      "[2021-11-25 00:44:12,532] - obspy.clients.fdsn.mass_downloader - INFO: Downloaded 0.0 MB in total.\n",
      "[2021-11-25 00:44:12,533] - obspy.clients.fdsn.mass_downloader - INFO: Initializing FDSN client(s) for GEONET.\n",
      "[2021-11-25 00:44:12,538] - obspy.clients.fdsn.mass_downloader - INFO: Successfully initialized 1 client(s): GEONET.\n",
      "[2021-11-25 00:44:12,540] - obspy.clients.fdsn.mass_downloader - INFO: Total acquired or preexisting stations: 0\n",
      "[2021-11-25 00:44:12,540] - obspy.clients.fdsn.mass_downloader - INFO: Client 'GEONET' - Requesting unreliable availability.\n"
     ]
    },
    {
     "name": "stdout",
     "output_type": "stream",
     "text": [
      "=================================================================\n",
      "Initiating mass download request.\n"
     ]
    },
    {
     "name": "stderr",
     "output_type": "stream",
     "text": [
      "[2021-11-25 00:44:13,160] - obspy.clients.fdsn.mass_downloader - INFO: Client 'GEONET' - Successfully requested availability (0.62 seconds)\n",
      "[2021-11-25 00:44:13,161] - obspy.clients.fdsn.mass_downloader - INFO: Client 'GEONET' - Found 1 stations (1 channels).\n",
      "[2021-11-25 00:44:13,161] - obspy.clients.fdsn.mass_downloader - INFO: Client 'GEONET' - Will attempt to download data from 1 stations.\n",
      "[2021-11-25 00:44:13,162] - obspy.clients.fdsn.mass_downloader - INFO: Client 'GEONET' - Status for 1 time intervals/channels before downloading: NEEDS_DOWNLOADING\n",
      "[2021-11-25 00:44:14,728] - obspy.clients.fdsn.mass_downloader - INFO: Client 'GEONET' - Successfully downloaded 1 channels (of 1)\n",
      "[2021-11-25 00:44:14,733] - obspy.clients.fdsn.mass_downloader - INFO: Client 'GEONET' - Launching basic QC checks...\n",
      "[2021-11-25 00:44:14,738] - obspy.clients.fdsn.mass_downloader - INFO: Client 'GEONET' - Downloaded 0.0 MB [3.18 KB/sec] of data, 0.0 MB of which were discarded afterwards.\n",
      "[2021-11-25 00:44:14,739] - obspy.clients.fdsn.mass_downloader - INFO: Client 'GEONET' - Status for 1 time intervals/channels after downloading: DOWNLOADED\n",
      "[2021-11-25 00:44:14,743] - obspy.clients.fdsn.mass_downloader - INFO: Client 'GEONET' - No station information to download.\n",
      "[2021-11-25 00:44:14,744] - obspy.clients.fdsn.mass_downloader - INFO: ============================== Final report\n",
      "[2021-11-25 00:44:14,745] - obspy.clients.fdsn.mass_downloader - INFO: 0 MiniSEED files [0.0 MB] already existed.\n",
      "[2021-11-25 00:44:14,745] - obspy.clients.fdsn.mass_downloader - INFO: 1 StationXML files [0.0 MB] already existed.\n",
      "[2021-11-25 00:44:14,746] - obspy.clients.fdsn.mass_downloader - INFO: Client 'GEONET' - Acquired 1 MiniSEED files [0.0 MB].\n",
      "[2021-11-25 00:44:14,746] - obspy.clients.fdsn.mass_downloader - INFO: Client 'GEONET' - Acquired 0 StationXML files [0.0 MB].\n",
      "[2021-11-25 00:44:14,748] - obspy.clients.fdsn.mass_downloader - INFO: Downloaded 0.0 MB in total.\n",
      "[2021-11-25 00:44:14,749] - obspy.clients.fdsn.mass_downloader - INFO: Initializing FDSN client(s) for GEONET.\n",
      "[2021-11-25 00:44:14,754] - obspy.clients.fdsn.mass_downloader - INFO: Successfully initialized 1 client(s): GEONET.\n",
      "[2021-11-25 00:44:14,756] - obspy.clients.fdsn.mass_downloader - INFO: Total acquired or preexisting stations: 0\n",
      "[2021-11-25 00:44:14,757] - obspy.clients.fdsn.mass_downloader - INFO: Client 'GEONET' - Requesting unreliable availability.\n"
     ]
    },
    {
     "name": "stdout",
     "output_type": "stream",
     "text": [
      "=================================================================\n",
      "Initiating mass download request.\n"
     ]
    },
    {
     "name": "stderr",
     "output_type": "stream",
     "text": [
      "[2021-11-25 00:44:16,171] - obspy.clients.fdsn.mass_downloader - INFO: Client 'GEONET' - No data available for request.\n",
      "[2021-11-25 00:44:16,173] - obspy.clients.fdsn.mass_downloader - INFO: Client 'GEONET' - No data available.\n",
      "[2021-11-25 00:44:16,174] - obspy.clients.fdsn.mass_downloader - INFO: ============================== Final report\n",
      "[2021-11-25 00:44:16,174] - obspy.clients.fdsn.mass_downloader - INFO: 0 MiniSEED files [0.0 MB] already existed.\n",
      "[2021-11-25 00:44:16,175] - obspy.clients.fdsn.mass_downloader - INFO: 0 StationXML files [0.0 MB] already existed.\n",
      "[2021-11-25 00:44:16,176] - obspy.clients.fdsn.mass_downloader - INFO: Client 'GEONET' - Acquired 0 MiniSEED files [0.0 MB].\n",
      "[2021-11-25 00:44:16,176] - obspy.clients.fdsn.mass_downloader - INFO: Client 'GEONET' - Acquired 0 StationXML files [0.0 MB].\n",
      "[2021-11-25 00:44:16,176] - obspy.clients.fdsn.mass_downloader - INFO: Downloaded 0.0 MB in total.\n",
      "[2021-11-25 00:44:16,185] - obspy.clients.fdsn.mass_downloader - INFO: Initializing FDSN client(s) for GEONET.\n",
      "[2021-11-25 00:44:16,190] - obspy.clients.fdsn.mass_downloader - INFO: Successfully initialized 1 client(s): GEONET.\n",
      "[2021-11-25 00:44:16,191] - obspy.clients.fdsn.mass_downloader - INFO: Total acquired or preexisting stations: 0\n",
      "[2021-11-25 00:44:16,192] - obspy.clients.fdsn.mass_downloader - INFO: Client 'GEONET' - Requesting unreliable availability.\n"
     ]
    },
    {
     "name": "stdout",
     "output_type": "stream",
     "text": [
      "=================================================================\n",
      "Initiating mass download request.\n"
     ]
    },
    {
     "name": "stderr",
     "output_type": "stream",
     "text": [
      "[2021-11-25 00:44:16,740] - obspy.clients.fdsn.mass_downloader - INFO: Client 'GEONET' - Successfully requested availability (0.55 seconds)\n",
      "[2021-11-25 00:44:16,741] - obspy.clients.fdsn.mass_downloader - INFO: Client 'GEONET' - Found 1 stations (1 channels).\n",
      "[2021-11-25 00:44:16,741] - obspy.clients.fdsn.mass_downloader - INFO: Client 'GEONET' - Will attempt to download data from 1 stations.\n",
      "[2021-11-25 00:44:16,742] - obspy.clients.fdsn.mass_downloader - INFO: Client 'GEONET' - Status for 1 time intervals/channels before downloading: NEEDS_DOWNLOADING\n",
      "[2021-11-25 00:44:17,835] - obspy.clients.fdsn.mass_downloader - INFO: Client 'GEONET' - Successfully downloaded 1 channels (of 1)\n",
      "[2021-11-25 00:44:17,839] - obspy.clients.fdsn.mass_downloader - INFO: Client 'GEONET' - Launching basic QC checks...\n",
      "[2021-11-25 00:44:17,846] - obspy.clients.fdsn.mass_downloader - INFO: Client 'GEONET' - Downloaded 0.0 MB [3.65 KB/sec] of data, 0.0 MB of which were discarded afterwards.\n",
      "[2021-11-25 00:44:17,848] - obspy.clients.fdsn.mass_downloader - INFO: Client 'GEONET' - Status for 1 time intervals/channels after downloading: DOWNLOADED\n",
      "[2021-11-25 00:44:17,854] - obspy.clients.fdsn.mass_downloader - INFO: Client 'GEONET' - No station information to download.\n",
      "[2021-11-25 00:44:17,855] - obspy.clients.fdsn.mass_downloader - INFO: ============================== Final report\n",
      "[2021-11-25 00:44:17,855] - obspy.clients.fdsn.mass_downloader - INFO: 0 MiniSEED files [0.0 MB] already existed.\n",
      "[2021-11-25 00:44:17,856] - obspy.clients.fdsn.mass_downloader - INFO: 1 StationXML files [0.0 MB] already existed.\n",
      "[2021-11-25 00:44:17,857] - obspy.clients.fdsn.mass_downloader - INFO: Client 'GEONET' - Acquired 1 MiniSEED files [0.0 MB].\n",
      "[2021-11-25 00:44:17,857] - obspy.clients.fdsn.mass_downloader - INFO: Client 'GEONET' - Acquired 0 StationXML files [0.0 MB].\n",
      "[2021-11-25 00:44:17,858] - obspy.clients.fdsn.mass_downloader - INFO: Downloaded 0.0 MB in total.\n",
      "[2021-11-25 00:44:17,859] - obspy.clients.fdsn.mass_downloader - INFO: Initializing FDSN client(s) for GEONET.\n",
      "[2021-11-25 00:44:17,864] - obspy.clients.fdsn.mass_downloader - INFO: Successfully initialized 1 client(s): GEONET.\n",
      "[2021-11-25 00:44:17,866] - obspy.clients.fdsn.mass_downloader - INFO: Total acquired or preexisting stations: 0\n",
      "[2021-11-25 00:44:17,866] - obspy.clients.fdsn.mass_downloader - INFO: Client 'GEONET' - Requesting unreliable availability.\n"
     ]
    },
    {
     "name": "stdout",
     "output_type": "stream",
     "text": [
      "=================================================================\n",
      "Initiating mass download request.\n"
     ]
    },
    {
     "name": "stderr",
     "output_type": "stream",
     "text": [
      "[2021-11-25 00:44:19,424] - obspy.clients.fdsn.mass_downloader - INFO: Client 'GEONET' - Successfully requested availability (1.56 seconds)\n",
      "[2021-11-25 00:44:19,428] - obspy.clients.fdsn.mass_downloader - INFO: Client 'GEONET' - Found 1 stations (1 channels).\n",
      "[2021-11-25 00:44:19,430] - obspy.clients.fdsn.mass_downloader - INFO: Client 'GEONET' - Will attempt to download data from 1 stations.\n",
      "[2021-11-25 00:44:19,433] - obspy.clients.fdsn.mass_downloader - INFO: Client 'GEONET' - Status for 1 time intervals/channels before downloading: NEEDS_DOWNLOADING\n",
      "[2021-11-25 00:44:21,683] - obspy.clients.fdsn.mass_downloader - INFO: Client 'GEONET' - Successfully downloaded 1 channels (of 1)\n",
      "[2021-11-25 00:44:21,692] - obspy.clients.fdsn.mass_downloader - INFO: Client 'GEONET' - Launching basic QC checks...\n",
      "[2021-11-25 00:44:21,705] - obspy.clients.fdsn.mass_downloader - INFO: Client 'GEONET' - Downloaded 0.0 MB [2.22 KB/sec] of data, 0.0 MB of which were discarded afterwards.\n",
      "[2021-11-25 00:44:21,706] - obspy.clients.fdsn.mass_downloader - INFO: Client 'GEONET' - Status for 1 time intervals/channels after downloading: DOWNLOADED\n",
      "[2021-11-25 00:44:21,710] - obspy.clients.fdsn.mass_downloader - INFO: Client 'GEONET' - No station information to download.\n",
      "[2021-11-25 00:44:21,714] - obspy.clients.fdsn.mass_downloader - INFO: ============================== Final report\n",
      "[2021-11-25 00:44:21,714] - obspy.clients.fdsn.mass_downloader - INFO: 0 MiniSEED files [0.0 MB] already existed.\n",
      "[2021-11-25 00:44:21,715] - obspy.clients.fdsn.mass_downloader - INFO: 1 StationXML files [0.0 MB] already existed.\n",
      "[2021-11-25 00:44:21,715] - obspy.clients.fdsn.mass_downloader - INFO: Client 'GEONET' - Acquired 1 MiniSEED files [0.0 MB].\n",
      "[2021-11-25 00:44:21,715] - obspy.clients.fdsn.mass_downloader - INFO: Client 'GEONET' - Acquired 0 StationXML files [0.0 MB].\n",
      "[2021-11-25 00:44:21,715] - obspy.clients.fdsn.mass_downloader - INFO: Downloaded 0.0 MB in total.\n",
      "[2021-11-25 00:44:21,718] - obspy.clients.fdsn.mass_downloader - INFO: Initializing FDSN client(s) for GEONET.\n",
      "[2021-11-25 00:44:21,725] - obspy.clients.fdsn.mass_downloader - INFO: Successfully initialized 1 client(s): GEONET.\n",
      "[2021-11-25 00:44:21,725] - obspy.clients.fdsn.mass_downloader - INFO: Total acquired or preexisting stations: 0\n",
      "[2021-11-25 00:44:21,726] - obspy.clients.fdsn.mass_downloader - INFO: Client 'GEONET' - Requesting unreliable availability.\n"
     ]
    },
    {
     "name": "stdout",
     "output_type": "stream",
     "text": [
      "=================================================================\n",
      "Initiating mass download request.\n"
     ]
    },
    {
     "name": "stderr",
     "output_type": "stream",
     "text": [
      "[2021-11-25 00:44:22,264] - obspy.clients.fdsn.mass_downloader - INFO: Client 'GEONET' - Successfully requested availability (0.54 seconds)\n",
      "[2021-11-25 00:44:22,265] - obspy.clients.fdsn.mass_downloader - INFO: Client 'GEONET' - Found 1 stations (1 channels).\n",
      "[2021-11-25 00:44:22,265] - obspy.clients.fdsn.mass_downloader - INFO: Client 'GEONET' - Will attempt to download data from 1 stations.\n",
      "[2021-11-25 00:44:22,266] - obspy.clients.fdsn.mass_downloader - INFO: Client 'GEONET' - Status for 1 time intervals/channels before downloading: NEEDS_DOWNLOADING\n",
      "[2021-11-25 00:44:23,235] - obspy.clients.fdsn.mass_downloader - INFO: Client 'GEONET' - Successfully downloaded 1 channels (of 1)\n",
      "[2021-11-25 00:44:23,237] - obspy.clients.fdsn.mass_downloader - INFO: Client 'GEONET' - Launching basic QC checks...\n",
      "[2021-11-25 00:44:23,241] - obspy.clients.fdsn.mass_downloader - INFO: Client 'GEONET' - Downloaded 0.0 MB [3.61 KB/sec] of data, 0.0 MB of which were discarded afterwards.\n",
      "[2021-11-25 00:44:23,241] - obspy.clients.fdsn.mass_downloader - INFO: Client 'GEONET' - Status for 1 time intervals/channels after downloading: DOWNLOADED\n",
      "[2021-11-25 00:44:23,243] - obspy.clients.fdsn.mass_downloader - INFO: Client 'GEONET' - No station information to download.\n",
      "[2021-11-25 00:44:23,244] - obspy.clients.fdsn.mass_downloader - INFO: ============================== Final report\n",
      "[2021-11-25 00:44:23,245] - obspy.clients.fdsn.mass_downloader - INFO: 0 MiniSEED files [0.0 MB] already existed.\n",
      "[2021-11-25 00:44:23,245] - obspy.clients.fdsn.mass_downloader - INFO: 1 StationXML files [0.0 MB] already existed.\n",
      "[2021-11-25 00:44:23,245] - obspy.clients.fdsn.mass_downloader - INFO: Client 'GEONET' - Acquired 1 MiniSEED files [0.0 MB].\n",
      "[2021-11-25 00:44:23,245] - obspy.clients.fdsn.mass_downloader - INFO: Client 'GEONET' - Acquired 0 StationXML files [0.0 MB].\n",
      "[2021-11-25 00:44:23,246] - obspy.clients.fdsn.mass_downloader - INFO: Downloaded 0.0 MB in total.\n",
      "[2021-11-25 00:44:23,248] - obspy.clients.fdsn.mass_downloader - INFO: Initializing FDSN client(s) for GEONET.\n",
      "[2021-11-25 00:44:23,251] - obspy.clients.fdsn.mass_downloader - INFO: Successfully initialized 1 client(s): GEONET.\n",
      "[2021-11-25 00:44:23,252] - obspy.clients.fdsn.mass_downloader - INFO: Total acquired or preexisting stations: 0\n",
      "[2021-11-25 00:44:23,252] - obspy.clients.fdsn.mass_downloader - INFO: Client 'GEONET' - Requesting unreliable availability.\n"
     ]
    },
    {
     "name": "stdout",
     "output_type": "stream",
     "text": [
      "=================================================================\n",
      "Initiating mass download request.\n"
     ]
    },
    {
     "name": "stderr",
     "output_type": "stream",
     "text": [
      "[2021-11-25 00:44:24,414] - obspy.clients.fdsn.mass_downloader - INFO: Client 'GEONET' - Successfully requested availability (1.16 seconds)\n",
      "[2021-11-25 00:44:24,415] - obspy.clients.fdsn.mass_downloader - INFO: Client 'GEONET' - Found 1 stations (1 channels).\n",
      "[2021-11-25 00:44:24,415] - obspy.clients.fdsn.mass_downloader - INFO: Client 'GEONET' - Will attempt to download data from 1 stations.\n",
      "[2021-11-25 00:44:24,416] - obspy.clients.fdsn.mass_downloader - INFO: Client 'GEONET' - Status for 1 time intervals/channels before downloading: NEEDS_DOWNLOADING\n",
      "[2021-11-25 00:44:25,260] - obspy.clients.fdsn.mass_downloader - INFO: Client 'GEONET' - Successfully downloaded 1 channels (of 1)\n",
      "[2021-11-25 00:44:25,261] - obspy.clients.fdsn.mass_downloader - INFO: Client 'GEONET' - Launching basic QC checks...\n",
      "[2021-11-25 00:44:25,263] - obspy.clients.fdsn.mass_downloader - INFO: Client 'GEONET' - Downloaded 0.0 MB [3.56 KB/sec] of data, 0.0 MB of which were discarded afterwards.\n",
      "[2021-11-25 00:44:25,263] - obspy.clients.fdsn.mass_downloader - INFO: Client 'GEONET' - Status for 1 time intervals/channels after downloading: DOWNLOADED\n",
      "[2021-11-25 00:44:25,265] - obspy.clients.fdsn.mass_downloader - INFO: Client 'GEONET' - No station information to download.\n",
      "[2021-11-25 00:44:25,265] - obspy.clients.fdsn.mass_downloader - INFO: ============================== Final report\n",
      "[2021-11-25 00:44:25,265] - obspy.clients.fdsn.mass_downloader - INFO: 0 MiniSEED files [0.0 MB] already existed.\n",
      "[2021-11-25 00:44:25,266] - obspy.clients.fdsn.mass_downloader - INFO: 1 StationXML files [0.0 MB] already existed.\n",
      "[2021-11-25 00:44:25,266] - obspy.clients.fdsn.mass_downloader - INFO: Client 'GEONET' - Acquired 1 MiniSEED files [0.0 MB].\n",
      "[2021-11-25 00:44:25,267] - obspy.clients.fdsn.mass_downloader - INFO: Client 'GEONET' - Acquired 0 StationXML files [0.0 MB].\n",
      "[2021-11-25 00:44:25,267] - obspy.clients.fdsn.mass_downloader - INFO: Downloaded 0.0 MB in total.\n",
      "[2021-11-25 00:44:25,267] - obspy.clients.fdsn.mass_downloader - INFO: Initializing FDSN client(s) for GEONET.\n",
      "[2021-11-25 00:44:25,270] - obspy.clients.fdsn.mass_downloader - INFO: Successfully initialized 1 client(s): GEONET.\n",
      "[2021-11-25 00:44:25,271] - obspy.clients.fdsn.mass_downloader - INFO: Total acquired or preexisting stations: 0\n",
      "[2021-11-25 00:44:25,271] - obspy.clients.fdsn.mass_downloader - INFO: Client 'GEONET' - Requesting unreliable availability.\n"
     ]
    },
    {
     "name": "stdout",
     "output_type": "stream",
     "text": [
      "=================================================================\n",
      "Initiating mass download request.\n"
     ]
    },
    {
     "name": "stderr",
     "output_type": "stream",
     "text": [
      "[2021-11-25 00:44:25,849] - obspy.clients.fdsn.mass_downloader - INFO: Client 'GEONET' - Successfully requested availability (0.58 seconds)\n",
      "[2021-11-25 00:44:25,851] - obspy.clients.fdsn.mass_downloader - INFO: Client 'GEONET' - Found 1 stations (1 channels).\n",
      "[2021-11-25 00:44:25,852] - obspy.clients.fdsn.mass_downloader - INFO: Client 'GEONET' - Will attempt to download data from 1 stations.\n",
      "[2021-11-25 00:44:25,854] - obspy.clients.fdsn.mass_downloader - INFO: Client 'GEONET' - Status for 1 time intervals/channels before downloading: NEEDS_DOWNLOADING\n",
      "[2021-11-25 00:44:26,986] - obspy.clients.fdsn.mass_downloader - INFO: Client 'GEONET' - Successfully downloaded 1 channels (of 1)\n",
      "[2021-11-25 00:44:26,987] - obspy.clients.fdsn.mass_downloader - INFO: Client 'GEONET' - Launching basic QC checks...\n",
      "[2021-11-25 00:44:26,990] - obspy.clients.fdsn.mass_downloader - INFO: Client 'GEONET' - Downloaded 0.0 MB [3.56 KB/sec] of data, 0.0 MB of which were discarded afterwards.\n",
      "[2021-11-25 00:44:26,990] - obspy.clients.fdsn.mass_downloader - INFO: Client 'GEONET' - Status for 1 time intervals/channels after downloading: DOWNLOADED\n",
      "[2021-11-25 00:44:26,992] - obspy.clients.fdsn.mass_downloader - INFO: Client 'GEONET' - No station information to download.\n",
      "[2021-11-25 00:44:26,993] - obspy.clients.fdsn.mass_downloader - INFO: ============================== Final report\n",
      "[2021-11-25 00:44:26,993] - obspy.clients.fdsn.mass_downloader - INFO: 0 MiniSEED files [0.0 MB] already existed.\n",
      "[2021-11-25 00:44:26,993] - obspy.clients.fdsn.mass_downloader - INFO: 1 StationXML files [0.0 MB] already existed.\n",
      "[2021-11-25 00:44:26,994] - obspy.clients.fdsn.mass_downloader - INFO: Client 'GEONET' - Acquired 1 MiniSEED files [0.0 MB].\n",
      "[2021-11-25 00:44:26,994] - obspy.clients.fdsn.mass_downloader - INFO: Client 'GEONET' - Acquired 0 StationXML files [0.0 MB].\n",
      "[2021-11-25 00:44:26,994] - obspy.clients.fdsn.mass_downloader - INFO: Downloaded 0.0 MB in total.\n",
      "[2021-11-25 00:44:26,995] - obspy.clients.fdsn.mass_downloader - INFO: Initializing FDSN client(s) for GEONET.\n",
      "[2021-11-25 00:44:26,999] - obspy.clients.fdsn.mass_downloader - INFO: Successfully initialized 1 client(s): GEONET.\n",
      "[2021-11-25 00:44:27,000] - obspy.clients.fdsn.mass_downloader - INFO: Total acquired or preexisting stations: 0\n",
      "[2021-11-25 00:44:27,000] - obspy.clients.fdsn.mass_downloader - INFO: Client 'GEONET' - Requesting unreliable availability.\n"
     ]
    },
    {
     "name": "stdout",
     "output_type": "stream",
     "text": [
      "=================================================================\n",
      "Initiating mass download request.\n"
     ]
    },
    {
     "name": "stderr",
     "output_type": "stream",
     "text": [
      "[2021-11-25 00:44:27,591] - obspy.clients.fdsn.mass_downloader - INFO: Client 'GEONET' - Successfully requested availability (0.59 seconds)\n",
      "[2021-11-25 00:44:27,593] - obspy.clients.fdsn.mass_downloader - INFO: Client 'GEONET' - Found 1 stations (1 channels).\n",
      "[2021-11-25 00:44:27,593] - obspy.clients.fdsn.mass_downloader - INFO: Client 'GEONET' - Will attempt to download data from 1 stations.\n",
      "[2021-11-25 00:44:27,594] - obspy.clients.fdsn.mass_downloader - INFO: Client 'GEONET' - Status for 1 time intervals/channels before downloading: NEEDS_DOWNLOADING\n",
      "[2021-11-25 00:44:28,597] - obspy.clients.fdsn.mass_downloader - INFO: Client 'GEONET' - Successfully downloaded 1 channels (of 1)\n",
      "[2021-11-25 00:44:28,599] - obspy.clients.fdsn.mass_downloader - INFO: Client 'GEONET' - Launching basic QC checks...\n",
      "[2021-11-25 00:44:28,602] - obspy.clients.fdsn.mass_downloader - INFO: Client 'GEONET' - Downloaded 0.0 MB [3.49 KB/sec] of data, 0.0 MB of which were discarded afterwards.\n",
      "[2021-11-25 00:44:28,603] - obspy.clients.fdsn.mass_downloader - INFO: Client 'GEONET' - Status for 1 time intervals/channels after downloading: DOWNLOADED\n",
      "[2021-11-25 00:44:28,607] - obspy.clients.fdsn.mass_downloader - INFO: Client 'GEONET' - No station information to download.\n",
      "[2021-11-25 00:44:28,608] - obspy.clients.fdsn.mass_downloader - INFO: ============================== Final report\n",
      "[2021-11-25 00:44:28,608] - obspy.clients.fdsn.mass_downloader - INFO: 0 MiniSEED files [0.0 MB] already existed.\n",
      "[2021-11-25 00:44:28,609] - obspy.clients.fdsn.mass_downloader - INFO: 1 StationXML files [0.0 MB] already existed.\n",
      "[2021-11-25 00:44:28,609] - obspy.clients.fdsn.mass_downloader - INFO: Client 'GEONET' - Acquired 1 MiniSEED files [0.0 MB].\n",
      "[2021-11-25 00:44:28,609] - obspy.clients.fdsn.mass_downloader - INFO: Client 'GEONET' - Acquired 0 StationXML files [0.0 MB].\n",
      "[2021-11-25 00:44:28,610] - obspy.clients.fdsn.mass_downloader - INFO: Downloaded 0.0 MB in total.\n",
      "[2021-11-25 00:44:28,611] - obspy.clients.fdsn.mass_downloader - INFO: Initializing FDSN client(s) for GEONET.\n",
      "[2021-11-25 00:44:28,614] - obspy.clients.fdsn.mass_downloader - INFO: Successfully initialized 1 client(s): GEONET.\n",
      "[2021-11-25 00:44:28,615] - obspy.clients.fdsn.mass_downloader - INFO: Total acquired or preexisting stations: 0\n",
      "[2021-11-25 00:44:28,615] - obspy.clients.fdsn.mass_downloader - INFO: Client 'GEONET' - Requesting unreliable availability.\n"
     ]
    },
    {
     "name": "stdout",
     "output_type": "stream",
     "text": [
      "=================================================================\n",
      "Initiating mass download request.\n"
     ]
    },
    {
     "name": "stderr",
     "output_type": "stream",
     "text": [
      "[2021-11-25 00:44:29,249] - obspy.clients.fdsn.mass_downloader - INFO: Client 'GEONET' - Successfully requested availability (0.63 seconds)\n",
      "[2021-11-25 00:44:29,251] - obspy.clients.fdsn.mass_downloader - INFO: Client 'GEONET' - Found 1 stations (1 channels).\n",
      "[2021-11-25 00:44:29,252] - obspy.clients.fdsn.mass_downloader - INFO: Client 'GEONET' - Will attempt to download data from 1 stations.\n",
      "[2021-11-25 00:44:29,253] - obspy.clients.fdsn.mass_downloader - INFO: Client 'GEONET' - Status for 1 time intervals/channels before downloading: NEEDS_DOWNLOADING\n",
      "[2021-11-25 00:44:30,186] - obspy.clients.fdsn.mass_downloader - INFO: Client 'GEONET' - Successfully downloaded 1 channels (of 1)\n",
      "[2021-11-25 00:44:30,187] - obspy.clients.fdsn.mass_downloader - INFO: Client 'GEONET' - Launching basic QC checks...\n",
      "[2021-11-25 00:44:30,191] - obspy.clients.fdsn.mass_downloader - INFO: Client 'GEONET' - Downloaded 0.0 MB [3.22 KB/sec] of data, 0.0 MB of which were discarded afterwards.\n",
      "[2021-11-25 00:44:30,191] - obspy.clients.fdsn.mass_downloader - INFO: Client 'GEONET' - Status for 1 time intervals/channels after downloading: DOWNLOADED\n",
      "[2021-11-25 00:44:30,194] - obspy.clients.fdsn.mass_downloader - INFO: Client 'GEONET' - No station information to download.\n",
      "[2021-11-25 00:44:30,195] - obspy.clients.fdsn.mass_downloader - INFO: ============================== Final report\n",
      "[2021-11-25 00:44:30,195] - obspy.clients.fdsn.mass_downloader - INFO: 0 MiniSEED files [0.0 MB] already existed.\n",
      "[2021-11-25 00:44:30,196] - obspy.clients.fdsn.mass_downloader - INFO: 1 StationXML files [0.0 MB] already existed.\n",
      "[2021-11-25 00:44:30,197] - obspy.clients.fdsn.mass_downloader - INFO: Client 'GEONET' - Acquired 1 MiniSEED files [0.0 MB].\n",
      "[2021-11-25 00:44:30,198] - obspy.clients.fdsn.mass_downloader - INFO: Client 'GEONET' - Acquired 0 StationXML files [0.0 MB].\n",
      "[2021-11-25 00:44:30,198] - obspy.clients.fdsn.mass_downloader - INFO: Downloaded 0.0 MB in total.\n",
      "[2021-11-25 00:44:30,200] - obspy.clients.fdsn.mass_downloader - INFO: Initializing FDSN client(s) for GEONET.\n",
      "[2021-11-25 00:44:30,204] - obspy.clients.fdsn.mass_downloader - INFO: Successfully initialized 1 client(s): GEONET.\n",
      "[2021-11-25 00:44:30,205] - obspy.clients.fdsn.mass_downloader - INFO: Total acquired or preexisting stations: 0\n",
      "[2021-11-25 00:44:30,206] - obspy.clients.fdsn.mass_downloader - INFO: Client 'GEONET' - Requesting unreliable availability.\n"
     ]
    },
    {
     "name": "stdout",
     "output_type": "stream",
     "text": [
      "=================================================================\n",
      "Initiating mass download request.\n"
     ]
    },
    {
     "name": "stderr",
     "output_type": "stream",
     "text": [
      "[2021-11-25 00:44:31,312] - obspy.clients.fdsn.mass_downloader - INFO: Client 'GEONET' - Successfully requested availability (1.11 seconds)\n",
      "[2021-11-25 00:44:31,315] - obspy.clients.fdsn.mass_downloader - INFO: Client 'GEONET' - Found 1 stations (1 channels).\n",
      "[2021-11-25 00:44:31,316] - obspy.clients.fdsn.mass_downloader - INFO: Client 'GEONET' - Will attempt to download data from 1 stations.\n",
      "[2021-11-25 00:44:31,318] - obspy.clients.fdsn.mass_downloader - INFO: Client 'GEONET' - Status for 1 time intervals/channels before downloading: NEEDS_DOWNLOADING\n",
      "[2021-11-25 00:44:33,088] - obspy.clients.fdsn.mass_downloader - INFO: Client 'GEONET' - Successfully downloaded 1 channels (of 1)\n",
      "[2021-11-25 00:44:33,101] - obspy.clients.fdsn.mass_downloader - INFO: Client 'GEONET' - Launching basic QC checks...\n",
      "[2021-11-25 00:44:33,108] - obspy.clients.fdsn.mass_downloader - INFO: Client 'GEONET' - Downloaded 0.0 MB [2.81 KB/sec] of data, 0.0 MB of which were discarded afterwards.\n",
      "[2021-11-25 00:44:33,109] - obspy.clients.fdsn.mass_downloader - INFO: Client 'GEONET' - Status for 1 time intervals/channels after downloading: DOWNLOADED\n",
      "[2021-11-25 00:44:33,113] - obspy.clients.fdsn.mass_downloader - INFO: Client 'GEONET' - No station information to download.\n",
      "[2021-11-25 00:44:33,117] - obspy.clients.fdsn.mass_downloader - INFO: ============================== Final report\n",
      "[2021-11-25 00:44:33,118] - obspy.clients.fdsn.mass_downloader - INFO: 0 MiniSEED files [0.0 MB] already existed.\n",
      "[2021-11-25 00:44:33,119] - obspy.clients.fdsn.mass_downloader - INFO: 1 StationXML files [0.0 MB] already existed.\n",
      "[2021-11-25 00:44:33,120] - obspy.clients.fdsn.mass_downloader - INFO: Client 'GEONET' - Acquired 1 MiniSEED files [0.0 MB].\n",
      "[2021-11-25 00:44:33,120] - obspy.clients.fdsn.mass_downloader - INFO: Client 'GEONET' - Acquired 0 StationXML files [0.0 MB].\n",
      "[2021-11-25 00:44:33,121] - obspy.clients.fdsn.mass_downloader - INFO: Downloaded 0.0 MB in total.\n",
      "[2021-11-25 00:44:33,124] - obspy.clients.fdsn.mass_downloader - INFO: Initializing FDSN client(s) for GEONET.\n",
      "[2021-11-25 00:44:33,129] - obspy.clients.fdsn.mass_downloader - INFO: Successfully initialized 1 client(s): GEONET.\n",
      "[2021-11-25 00:44:33,130] - obspy.clients.fdsn.mass_downloader - INFO: Total acquired or preexisting stations: 0\n",
      "[2021-11-25 00:44:33,131] - obspy.clients.fdsn.mass_downloader - INFO: Client 'GEONET' - Requesting unreliable availability.\n"
     ]
    },
    {
     "name": "stdout",
     "output_type": "stream",
     "text": [
      "=================================================================\n",
      "Initiating mass download request.\n"
     ]
    },
    {
     "name": "stderr",
     "output_type": "stream",
     "text": [
      "[2021-11-25 00:44:33,645] - obspy.clients.fdsn.mass_downloader - INFO: Client 'GEONET' - Successfully requested availability (0.51 seconds)\n",
      "[2021-11-25 00:44:33,647] - obspy.clients.fdsn.mass_downloader - INFO: Client 'GEONET' - Found 1 stations (1 channels).\n",
      "[2021-11-25 00:44:33,647] - obspy.clients.fdsn.mass_downloader - INFO: Client 'GEONET' - Will attempt to download data from 1 stations.\n",
      "[2021-11-25 00:44:33,648] - obspy.clients.fdsn.mass_downloader - INFO: Client 'GEONET' - Status for 1 time intervals/channels before downloading: NEEDS_DOWNLOADING\n",
      "[2021-11-25 00:44:34,771] - obspy.clients.fdsn.mass_downloader - INFO: Client 'GEONET' - Successfully downloaded 1 channels (of 1)\n",
      "[2021-11-25 00:44:34,772] - obspy.clients.fdsn.mass_downloader - INFO: Client 'GEONET' - Launching basic QC checks...\n",
      "[2021-11-25 00:44:34,777] - obspy.clients.fdsn.mass_downloader - INFO: Client 'GEONET' - Downloaded 0.0 MB [3.56 KB/sec] of data, 0.0 MB of which were discarded afterwards.\n",
      "[2021-11-25 00:44:34,778] - obspy.clients.fdsn.mass_downloader - INFO: Client 'GEONET' - Status for 1 time intervals/channels after downloading: DOWNLOADED\n",
      "[2021-11-25 00:44:34,781] - obspy.clients.fdsn.mass_downloader - INFO: Client 'GEONET' - No station information to download.\n",
      "[2021-11-25 00:44:34,782] - obspy.clients.fdsn.mass_downloader - INFO: ============================== Final report\n",
      "[2021-11-25 00:44:34,783] - obspy.clients.fdsn.mass_downloader - INFO: 0 MiniSEED files [0.0 MB] already existed.\n",
      "[2021-11-25 00:44:34,783] - obspy.clients.fdsn.mass_downloader - INFO: 1 StationXML files [0.0 MB] already existed.\n",
      "[2021-11-25 00:44:34,784] - obspy.clients.fdsn.mass_downloader - INFO: Client 'GEONET' - Acquired 1 MiniSEED files [0.0 MB].\n",
      "[2021-11-25 00:44:34,785] - obspy.clients.fdsn.mass_downloader - INFO: Client 'GEONET' - Acquired 0 StationXML files [0.0 MB].\n",
      "[2021-11-25 00:44:34,785] - obspy.clients.fdsn.mass_downloader - INFO: Downloaded 0.0 MB in total.\n",
      "[2021-11-25 00:44:34,786] - obspy.clients.fdsn.mass_downloader - INFO: Initializing FDSN client(s) for GEONET.\n",
      "[2021-11-25 00:44:34,792] - obspy.clients.fdsn.mass_downloader - INFO: Successfully initialized 1 client(s): GEONET.\n",
      "[2021-11-25 00:44:34,793] - obspy.clients.fdsn.mass_downloader - INFO: Total acquired or preexisting stations: 0\n",
      "[2021-11-25 00:44:34,794] - obspy.clients.fdsn.mass_downloader - INFO: Client 'GEONET' - Requesting unreliable availability.\n"
     ]
    },
    {
     "name": "stdout",
     "output_type": "stream",
     "text": [
      "=================================================================\n",
      "Initiating mass download request.\n"
     ]
    },
    {
     "name": "stderr",
     "output_type": "stream",
     "text": [
      "[2021-11-25 00:44:35,371] - obspy.clients.fdsn.mass_downloader - INFO: Client 'GEONET' - Successfully requested availability (0.58 seconds)\n",
      "[2021-11-25 00:44:35,372] - obspy.clients.fdsn.mass_downloader - INFO: Client 'GEONET' - Found 1 stations (1 channels).\n",
      "[2021-11-25 00:44:35,372] - obspy.clients.fdsn.mass_downloader - INFO: Client 'GEONET' - Will attempt to download data from 1 stations.\n",
      "[2021-11-25 00:44:35,373] - obspy.clients.fdsn.mass_downloader - INFO: Client 'GEONET' - Status for 1 time intervals/channels before downloading: NEEDS_DOWNLOADING\n",
      "[2021-11-25 00:44:36,557] - obspy.clients.fdsn.mass_downloader - INFO: Client 'GEONET' - Successfully downloaded 1 channels (of 1)\n",
      "[2021-11-25 00:44:36,562] - obspy.clients.fdsn.mass_downloader - INFO: Client 'GEONET' - Launching basic QC checks...\n",
      "[2021-11-25 00:44:36,579] - obspy.clients.fdsn.mass_downloader - INFO: Client 'GEONET' - Downloaded 0.0 MB [3.37 KB/sec] of data, 0.0 MB of which were discarded afterwards.\n",
      "[2021-11-25 00:44:36,579] - obspy.clients.fdsn.mass_downloader - INFO: Client 'GEONET' - Status for 1 time intervals/channels after downloading: DOWNLOADED\n",
      "[2021-11-25 00:44:36,586] - obspy.clients.fdsn.mass_downloader - INFO: Client 'GEONET' - No station information to download.\n",
      "[2021-11-25 00:44:36,587] - obspy.clients.fdsn.mass_downloader - INFO: ============================== Final report\n",
      "[2021-11-25 00:44:36,587] - obspy.clients.fdsn.mass_downloader - INFO: 0 MiniSEED files [0.0 MB] already existed.\n",
      "[2021-11-25 00:44:36,588] - obspy.clients.fdsn.mass_downloader - INFO: 1 StationXML files [0.0 MB] already existed.\n",
      "[2021-11-25 00:44:36,588] - obspy.clients.fdsn.mass_downloader - INFO: Client 'GEONET' - Acquired 1 MiniSEED files [0.0 MB].\n",
      "[2021-11-25 00:44:36,589] - obspy.clients.fdsn.mass_downloader - INFO: Client 'GEONET' - Acquired 0 StationXML files [0.0 MB].\n",
      "[2021-11-25 00:44:36,589] - obspy.clients.fdsn.mass_downloader - INFO: Downloaded 0.0 MB in total.\n",
      "[2021-11-25 00:44:36,593] - obspy.clients.fdsn.mass_downloader - INFO: Initializing FDSN client(s) for GEONET.\n",
      "[2021-11-25 00:44:36,596] - obspy.clients.fdsn.mass_downloader - INFO: Successfully initialized 1 client(s): GEONET.\n",
      "[2021-11-25 00:44:36,599] - obspy.clients.fdsn.mass_downloader - INFO: Total acquired or preexisting stations: 0\n",
      "[2021-11-25 00:44:36,600] - obspy.clients.fdsn.mass_downloader - INFO: Client 'GEONET' - Requesting unreliable availability.\n"
     ]
    },
    {
     "name": "stdout",
     "output_type": "stream",
     "text": [
      "=================================================================\n",
      "Initiating mass download request.\n"
     ]
    },
    {
     "name": "stderr",
     "output_type": "stream",
     "text": [
      "[2021-11-25 00:44:37,153] - obspy.clients.fdsn.mass_downloader - INFO: Client 'GEONET' - Successfully requested availability (0.55 seconds)\n",
      "[2021-11-25 00:44:37,155] - obspy.clients.fdsn.mass_downloader - INFO: Client 'GEONET' - Found 1 stations (1 channels).\n",
      "[2021-11-25 00:44:37,155] - obspy.clients.fdsn.mass_downloader - INFO: Client 'GEONET' - Will attempt to download data from 1 stations.\n",
      "[2021-11-25 00:44:37,156] - obspy.clients.fdsn.mass_downloader - INFO: Client 'GEONET' - Status for 1 time intervals/channels before downloading: NEEDS_DOWNLOADING\n",
      "[2021-11-25 00:44:37,770] - obspy.clients.fdsn.mass_downloader - INFO: Client 'GEONET' - No data available for request.\n",
      "[2021-11-25 00:44:37,773] - obspy.clients.fdsn.mass_downloader - INFO: Client 'GEONET' - Launching basic QC checks...\n",
      "[2021-11-25 00:44:37,774] - obspy.clients.fdsn.mass_downloader - INFO: Client 'GEONET' - Downloaded 0.0 MB [0.00 KB/sec] of data, 0.0 MB of which were discarded afterwards.\n",
      "[2021-11-25 00:44:37,775] - obspy.clients.fdsn.mass_downloader - INFO: Client 'GEONET' - Status for 1 time intervals/channels after downloading: DOWNLOAD_FAILED\n",
      "[2021-11-25 00:44:37,775] - obspy.clients.fdsn.mass_downloader - INFO: Client 'GEONET' - No station information to download.\n",
      "[2021-11-25 00:44:37,776] - obspy.clients.fdsn.mass_downloader - INFO: Client 'GEONET' - No data could be downloaded.\n",
      "[2021-11-25 00:44:37,776] - obspy.clients.fdsn.mass_downloader - INFO: ============================== Final report\n",
      "[2021-11-25 00:44:37,777] - obspy.clients.fdsn.mass_downloader - INFO: 0 MiniSEED files [0.0 MB] already existed.\n",
      "[2021-11-25 00:44:37,777] - obspy.clients.fdsn.mass_downloader - INFO: 0 StationXML files [0.0 MB] already existed.\n",
      "[2021-11-25 00:44:37,778] - obspy.clients.fdsn.mass_downloader - INFO: Client 'GEONET' - Acquired 0 MiniSEED files [0.0 MB].\n",
      "[2021-11-25 00:44:37,779] - obspy.clients.fdsn.mass_downloader - INFO: Client 'GEONET' - Acquired 0 StationXML files [0.0 MB].\n",
      "[2021-11-25 00:44:37,780] - obspy.clients.fdsn.mass_downloader - INFO: Downloaded 0.0 MB in total.\n",
      "[2021-11-25 00:44:37,781] - obspy.clients.fdsn.mass_downloader - INFO: Initializing FDSN client(s) for GEONET.\n",
      "[2021-11-25 00:44:37,785] - obspy.clients.fdsn.mass_downloader - INFO: Successfully initialized 1 client(s): GEONET.\n",
      "[2021-11-25 00:44:37,786] - obspy.clients.fdsn.mass_downloader - INFO: Total acquired or preexisting stations: 0\n",
      "[2021-11-25 00:44:37,786] - obspy.clients.fdsn.mass_downloader - INFO: Client 'GEONET' - Requesting unreliable availability.\n"
     ]
    },
    {
     "name": "stdout",
     "output_type": "stream",
     "text": [
      "=================================================================\n",
      "Initiating mass download request.\n"
     ]
    },
    {
     "name": "stderr",
     "output_type": "stream",
     "text": [
      "[2021-11-25 00:44:38,333] - obspy.clients.fdsn.mass_downloader - INFO: Client 'GEONET' - Successfully requested availability (0.55 seconds)\n",
      "[2021-11-25 00:44:38,334] - obspy.clients.fdsn.mass_downloader - INFO: Client 'GEONET' - Found 1 stations (1 channels).\n",
      "[2021-11-25 00:44:38,334] - obspy.clients.fdsn.mass_downloader - INFO: Client 'GEONET' - Will attempt to download data from 1 stations.\n",
      "[2021-11-25 00:44:38,335] - obspy.clients.fdsn.mass_downloader - INFO: Client 'GEONET' - Status for 1 time intervals/channels before downloading: NEEDS_DOWNLOADING\n",
      "[2021-11-25 00:44:39,293] - obspy.clients.fdsn.mass_downloader - INFO: Client 'GEONET' - Successfully downloaded 1 channels (of 1)\n",
      "[2021-11-25 00:44:39,294] - obspy.clients.fdsn.mass_downloader - INFO: Client 'GEONET' - Launching basic QC checks...\n",
      "[2021-11-25 00:44:39,297] - obspy.clients.fdsn.mass_downloader - INFO: Client 'GEONET' - Downloaded 0.0 MB [3.13 KB/sec] of data, 0.0 MB of which were discarded afterwards.\n",
      "[2021-11-25 00:44:39,297] - obspy.clients.fdsn.mass_downloader - INFO: Client 'GEONET' - Status for 1 time intervals/channels after downloading: DOWNLOADED\n",
      "[2021-11-25 00:44:39,300] - obspy.clients.fdsn.mass_downloader - INFO: Client 'GEONET' - No station information to download.\n",
      "[2021-11-25 00:44:39,301] - obspy.clients.fdsn.mass_downloader - INFO: ============================== Final report\n",
      "[2021-11-25 00:44:39,302] - obspy.clients.fdsn.mass_downloader - INFO: 0 MiniSEED files [0.0 MB] already existed.\n",
      "[2021-11-25 00:44:39,302] - obspy.clients.fdsn.mass_downloader - INFO: 1 StationXML files [0.0 MB] already existed.\n",
      "[2021-11-25 00:44:39,303] - obspy.clients.fdsn.mass_downloader - INFO: Client 'GEONET' - Acquired 1 MiniSEED files [0.0 MB].\n",
      "[2021-11-25 00:44:39,303] - obspy.clients.fdsn.mass_downloader - INFO: Client 'GEONET' - Acquired 0 StationXML files [0.0 MB].\n",
      "[2021-11-25 00:44:39,303] - obspy.clients.fdsn.mass_downloader - INFO: Downloaded 0.0 MB in total.\n",
      "[2021-11-25 00:44:39,306] - obspy.clients.fdsn.mass_downloader - INFO: Initializing FDSN client(s) for GEONET.\n",
      "[2021-11-25 00:44:39,309] - obspy.clients.fdsn.mass_downloader - INFO: Successfully initialized 1 client(s): GEONET.\n",
      "[2021-11-25 00:44:39,309] - obspy.clients.fdsn.mass_downloader - INFO: Total acquired or preexisting stations: 0\n",
      "[2021-11-25 00:44:39,310] - obspy.clients.fdsn.mass_downloader - INFO: Client 'GEONET' - Requesting unreliable availability.\n"
     ]
    },
    {
     "name": "stdout",
     "output_type": "stream",
     "text": [
      "=================================================================\n",
      "Initiating mass download request.\n"
     ]
    },
    {
     "name": "stderr",
     "output_type": "stream",
     "text": [
      "[2021-11-25 00:44:39,920] - obspy.clients.fdsn.mass_downloader - INFO: Client 'GEONET' - Successfully requested availability (0.61 seconds)\n",
      "[2021-11-25 00:44:39,921] - obspy.clients.fdsn.mass_downloader - INFO: Client 'GEONET' - Found 1 stations (1 channels).\n",
      "[2021-11-25 00:44:39,922] - obspy.clients.fdsn.mass_downloader - INFO: Client 'GEONET' - Will attempt to download data from 1 stations.\n",
      "[2021-11-25 00:44:39,923] - obspy.clients.fdsn.mass_downloader - INFO: Client 'GEONET' - Status for 1 time intervals/channels before downloading: NEEDS_DOWNLOADING\n",
      "[2021-11-25 00:44:41,005] - obspy.clients.fdsn.mass_downloader - INFO: Client 'GEONET' - Successfully downloaded 1 channels (of 1)\n",
      "[2021-11-25 00:44:41,006] - obspy.clients.fdsn.mass_downloader - INFO: Client 'GEONET' - Launching basic QC checks...\n",
      "[2021-11-25 00:44:41,009] - obspy.clients.fdsn.mass_downloader - INFO: Client 'GEONET' - Downloaded 0.0 MB [3.24 KB/sec] of data, 0.0 MB of which were discarded afterwards.\n",
      "[2021-11-25 00:44:41,010] - obspy.clients.fdsn.mass_downloader - INFO: Client 'GEONET' - Status for 1 time intervals/channels after downloading: DOWNLOADED\n",
      "[2021-11-25 00:44:41,012] - obspy.clients.fdsn.mass_downloader - INFO: Client 'GEONET' - No station information to download.\n",
      "[2021-11-25 00:44:41,012] - obspy.clients.fdsn.mass_downloader - INFO: ============================== Final report\n",
      "[2021-11-25 00:44:41,012] - obspy.clients.fdsn.mass_downloader - INFO: 0 MiniSEED files [0.0 MB] already existed.\n",
      "[2021-11-25 00:44:41,013] - obspy.clients.fdsn.mass_downloader - INFO: 1 StationXML files [0.0 MB] already existed.\n",
      "[2021-11-25 00:44:41,013] - obspy.clients.fdsn.mass_downloader - INFO: Client 'GEONET' - Acquired 1 MiniSEED files [0.0 MB].\n",
      "[2021-11-25 00:44:41,013] - obspy.clients.fdsn.mass_downloader - INFO: Client 'GEONET' - Acquired 0 StationXML files [0.0 MB].\n",
      "[2021-11-25 00:44:41,013] - obspy.clients.fdsn.mass_downloader - INFO: Downloaded 0.0 MB in total.\n",
      "[2021-11-25 00:44:41,015] - obspy.clients.fdsn.mass_downloader - INFO: Initializing FDSN client(s) for GEONET.\n",
      "[2021-11-25 00:44:41,019] - obspy.clients.fdsn.mass_downloader - INFO: Successfully initialized 1 client(s): GEONET.\n",
      "[2021-11-25 00:44:41,020] - obspy.clients.fdsn.mass_downloader - INFO: Total acquired or preexisting stations: 0\n",
      "[2021-11-25 00:44:41,020] - obspy.clients.fdsn.mass_downloader - INFO: Client 'GEONET' - Requesting unreliable availability.\n"
     ]
    },
    {
     "name": "stdout",
     "output_type": "stream",
     "text": [
      "=================================================================\n",
      "Initiating mass download request.\n"
     ]
    },
    {
     "name": "stderr",
     "output_type": "stream",
     "text": [
      "[2021-11-25 00:44:41,550] - obspy.clients.fdsn.mass_downloader - INFO: Client 'GEONET' - Successfully requested availability (0.53 seconds)\n",
      "[2021-11-25 00:44:41,551] - obspy.clients.fdsn.mass_downloader - INFO: Client 'GEONET' - Found 1 stations (1 channels).\n",
      "[2021-11-25 00:44:41,552] - obspy.clients.fdsn.mass_downloader - INFO: Client 'GEONET' - Will attempt to download data from 1 stations.\n",
      "[2021-11-25 00:44:41,552] - obspy.clients.fdsn.mass_downloader - INFO: Client 'GEONET' - Status for 1 time intervals/channels before downloading: NEEDS_DOWNLOADING\n",
      "[2021-11-25 00:44:42,513] - obspy.clients.fdsn.mass_downloader - INFO: Client 'GEONET' - Successfully downloaded 1 channels (of 1)\n",
      "[2021-11-25 00:44:42,514] - obspy.clients.fdsn.mass_downloader - INFO: Client 'GEONET' - Launching basic QC checks...\n",
      "[2021-11-25 00:44:42,518] - obspy.clients.fdsn.mass_downloader - INFO: Client 'GEONET' - Downloaded 0.0 MB [4.17 KB/sec] of data, 0.0 MB of which were discarded afterwards.\n",
      "[2021-11-25 00:44:42,518] - obspy.clients.fdsn.mass_downloader - INFO: Client 'GEONET' - Status for 1 time intervals/channels after downloading: DOWNLOADED\n",
      "[2021-11-25 00:44:42,520] - obspy.clients.fdsn.mass_downloader - INFO: Client 'GEONET' - No station information to download.\n",
      "[2021-11-25 00:44:42,521] - obspy.clients.fdsn.mass_downloader - INFO: ============================== Final report\n",
      "[2021-11-25 00:44:42,522] - obspy.clients.fdsn.mass_downloader - INFO: 0 MiniSEED files [0.0 MB] already existed.\n",
      "[2021-11-25 00:44:42,523] - obspy.clients.fdsn.mass_downloader - INFO: 1 StationXML files [0.0 MB] already existed.\n",
      "[2021-11-25 00:44:42,523] - obspy.clients.fdsn.mass_downloader - INFO: Client 'GEONET' - Acquired 1 MiniSEED files [0.0 MB].\n",
      "[2021-11-25 00:44:42,523] - obspy.clients.fdsn.mass_downloader - INFO: Client 'GEONET' - Acquired 0 StationXML files [0.0 MB].\n",
      "[2021-11-25 00:44:42,524] - obspy.clients.fdsn.mass_downloader - INFO: Downloaded 0.0 MB in total.\n",
      "[2021-11-25 00:44:42,525] - obspy.clients.fdsn.mass_downloader - INFO: Initializing FDSN client(s) for GEONET.\n",
      "[2021-11-25 00:44:42,528] - obspy.clients.fdsn.mass_downloader - INFO: Successfully initialized 1 client(s): GEONET.\n",
      "[2021-11-25 00:44:42,528] - obspy.clients.fdsn.mass_downloader - INFO: Total acquired or preexisting stations: 0\n",
      "[2021-11-25 00:44:42,537] - obspy.clients.fdsn.mass_downloader - INFO: Client 'GEONET' - Requesting unreliable availability.\n"
     ]
    },
    {
     "name": "stdout",
     "output_type": "stream",
     "text": [
      "=================================================================\n",
      "Initiating mass download request.\n"
     ]
    },
    {
     "name": "stderr",
     "output_type": "stream",
     "text": [
      "[2021-11-25 00:44:43,076] - obspy.clients.fdsn.mass_downloader - INFO: Client 'GEONET' - Successfully requested availability (0.54 seconds)\n",
      "[2021-11-25 00:44:43,076] - obspy.clients.fdsn.mass_downloader - INFO: Client 'GEONET' - Found 1 stations (1 channels).\n",
      "[2021-11-25 00:44:43,076] - obspy.clients.fdsn.mass_downloader - INFO: Client 'GEONET' - Will attempt to download data from 1 stations.\n",
      "[2021-11-25 00:44:43,077] - obspy.clients.fdsn.mass_downloader - INFO: Client 'GEONET' - Status for 1 time intervals/channels before downloading: NEEDS_DOWNLOADING\n",
      "[2021-11-25 00:44:43,978] - obspy.clients.fdsn.mass_downloader - INFO: Client 'GEONET' - Successfully downloaded 1 channels (of 1)\n",
      "[2021-11-25 00:44:43,979] - obspy.clients.fdsn.mass_downloader - INFO: Client 'GEONET' - Launching basic QC checks...\n",
      "[2021-11-25 00:44:43,983] - obspy.clients.fdsn.mass_downloader - INFO: Client 'GEONET' - Downloaded 0.0 MB [3.33 KB/sec] of data, 0.0 MB of which were discarded afterwards.\n",
      "[2021-11-25 00:44:43,983] - obspy.clients.fdsn.mass_downloader - INFO: Client 'GEONET' - Status for 1 time intervals/channels after downloading: DOWNLOADED\n",
      "[2021-11-25 00:44:43,986] - obspy.clients.fdsn.mass_downloader - INFO: Client 'GEONET' - No station information to download.\n",
      "[2021-11-25 00:44:43,987] - obspy.clients.fdsn.mass_downloader - INFO: ============================== Final report\n",
      "[2021-11-25 00:44:43,987] - obspy.clients.fdsn.mass_downloader - INFO: 0 MiniSEED files [0.0 MB] already existed.\n",
      "[2021-11-25 00:44:43,988] - obspy.clients.fdsn.mass_downloader - INFO: 1 StationXML files [0.0 MB] already existed.\n",
      "[2021-11-25 00:44:43,988] - obspy.clients.fdsn.mass_downloader - INFO: Client 'GEONET' - Acquired 1 MiniSEED files [0.0 MB].\n",
      "[2021-11-25 00:44:43,989] - obspy.clients.fdsn.mass_downloader - INFO: Client 'GEONET' - Acquired 0 StationXML files [0.0 MB].\n",
      "[2021-11-25 00:44:43,990] - obspy.clients.fdsn.mass_downloader - INFO: Downloaded 0.0 MB in total.\n",
      "[2021-11-25 00:44:43,991] - obspy.clients.fdsn.mass_downloader - INFO: Initializing FDSN client(s) for GEONET.\n",
      "[2021-11-25 00:44:43,996] - obspy.clients.fdsn.mass_downloader - INFO: Successfully initialized 1 client(s): GEONET.\n",
      "[2021-11-25 00:44:43,998] - obspy.clients.fdsn.mass_downloader - INFO: Total acquired or preexisting stations: 0\n",
      "[2021-11-25 00:44:43,999] - obspy.clients.fdsn.mass_downloader - INFO: Client 'GEONET' - Requesting unreliable availability.\n"
     ]
    },
    {
     "name": "stdout",
     "output_type": "stream",
     "text": [
      "=================================================================\n",
      "Initiating mass download request.\n"
     ]
    },
    {
     "name": "stderr",
     "output_type": "stream",
     "text": [
      "[2021-11-25 00:44:44,517] - obspy.clients.fdsn.mass_downloader - INFO: Client 'GEONET' - Successfully requested availability (0.52 seconds)\n",
      "[2021-11-25 00:44:44,518] - obspy.clients.fdsn.mass_downloader - INFO: Client 'GEONET' - Found 1 stations (1 channels).\n",
      "[2021-11-25 00:44:44,518] - obspy.clients.fdsn.mass_downloader - INFO: Client 'GEONET' - Will attempt to download data from 1 stations.\n",
      "[2021-11-25 00:44:44,519] - obspy.clients.fdsn.mass_downloader - INFO: Client 'GEONET' - Status for 1 time intervals/channels before downloading: NEEDS_DOWNLOADING\n",
      "[2021-11-25 00:44:45,353] - obspy.clients.fdsn.mass_downloader - INFO: Client 'GEONET' - Successfully downloaded 1 channels (of 1)\n",
      "[2021-11-25 00:44:45,358] - obspy.clients.fdsn.mass_downloader - INFO: Client 'GEONET' - Launching basic QC checks...\n",
      "[2021-11-25 00:44:45,366] - obspy.clients.fdsn.mass_downloader - INFO: Client 'GEONET' - Downloaded 0.0 MB [3.58 KB/sec] of data, 0.0 MB of which were discarded afterwards.\n",
      "[2021-11-25 00:44:45,367] - obspy.clients.fdsn.mass_downloader - INFO: Client 'GEONET' - Status for 1 time intervals/channels after downloading: DOWNLOADED\n",
      "[2021-11-25 00:44:45,372] - obspy.clients.fdsn.mass_downloader - INFO: Client 'GEONET' - No station information to download.\n",
      "[2021-11-25 00:44:45,374] - obspy.clients.fdsn.mass_downloader - INFO: ============================== Final report\n",
      "[2021-11-25 00:44:45,375] - obspy.clients.fdsn.mass_downloader - INFO: 0 MiniSEED files [0.0 MB] already existed.\n",
      "[2021-11-25 00:44:45,376] - obspy.clients.fdsn.mass_downloader - INFO: 1 StationXML files [0.0 MB] already existed.\n",
      "[2021-11-25 00:44:45,382] - obspy.clients.fdsn.mass_downloader - INFO: Client 'GEONET' - Acquired 1 MiniSEED files [0.0 MB].\n",
      "[2021-11-25 00:44:45,383] - obspy.clients.fdsn.mass_downloader - INFO: Client 'GEONET' - Acquired 0 StationXML files [0.0 MB].\n",
      "[2021-11-25 00:44:45,383] - obspy.clients.fdsn.mass_downloader - INFO: Downloaded 0.0 MB in total.\n",
      "[2021-11-25 00:44:45,386] - obspy.clients.fdsn.mass_downloader - INFO: Initializing FDSN client(s) for GEONET.\n",
      "[2021-11-25 00:44:45,391] - obspy.clients.fdsn.mass_downloader - INFO: Successfully initialized 1 client(s): GEONET.\n",
      "[2021-11-25 00:44:45,393] - obspy.clients.fdsn.mass_downloader - INFO: Total acquired or preexisting stations: 0\n",
      "[2021-11-25 00:44:45,393] - obspy.clients.fdsn.mass_downloader - INFO: Client 'GEONET' - Requesting unreliable availability.\n"
     ]
    },
    {
     "name": "stdout",
     "output_type": "stream",
     "text": [
      "=================================================================\n",
      "Initiating mass download request.\n"
     ]
    },
    {
     "name": "stderr",
     "output_type": "stream",
     "text": [
      "[2021-11-25 00:44:45,959] - obspy.clients.fdsn.mass_downloader - INFO: Client 'GEONET' - Successfully requested availability (0.56 seconds)\n",
      "[2021-11-25 00:44:45,960] - obspy.clients.fdsn.mass_downloader - INFO: Client 'GEONET' - Found 1 stations (1 channels).\n",
      "[2021-11-25 00:44:45,960] - obspy.clients.fdsn.mass_downloader - INFO: Client 'GEONET' - Will attempt to download data from 1 stations.\n",
      "[2021-11-25 00:44:45,960] - obspy.clients.fdsn.mass_downloader - INFO: Client 'GEONET' - Status for 1 time intervals/channels before downloading: NEEDS_DOWNLOADING\n",
      "[2021-11-25 00:44:46,984] - obspy.clients.fdsn.mass_downloader - INFO: Client 'GEONET' - Successfully downloaded 1 channels (of 1)\n",
      "[2021-11-25 00:44:46,985] - obspy.clients.fdsn.mass_downloader - INFO: Client 'GEONET' - Launching basic QC checks...\n",
      "[2021-11-25 00:44:46,990] - obspy.clients.fdsn.mass_downloader - INFO: Client 'GEONET' - Downloaded 0.0 MB [3.42 KB/sec] of data, 0.0 MB of which were discarded afterwards.\n",
      "[2021-11-25 00:44:46,991] - obspy.clients.fdsn.mass_downloader - INFO: Client 'GEONET' - Status for 1 time intervals/channels after downloading: DOWNLOADED\n",
      "[2021-11-25 00:44:46,993] - obspy.clients.fdsn.mass_downloader - INFO: Client 'GEONET' - No station information to download.\n",
      "[2021-11-25 00:44:46,994] - obspy.clients.fdsn.mass_downloader - INFO: ============================== Final report\n",
      "[2021-11-25 00:44:46,995] - obspy.clients.fdsn.mass_downloader - INFO: 0 MiniSEED files [0.0 MB] already existed.\n",
      "[2021-11-25 00:44:46,996] - obspy.clients.fdsn.mass_downloader - INFO: 1 StationXML files [0.0 MB] already existed.\n",
      "[2021-11-25 00:44:46,996] - obspy.clients.fdsn.mass_downloader - INFO: Client 'GEONET' - Acquired 1 MiniSEED files [0.0 MB].\n",
      "[2021-11-25 00:44:46,997] - obspy.clients.fdsn.mass_downloader - INFO: Client 'GEONET' - Acquired 0 StationXML files [0.0 MB].\n",
      "[2021-11-25 00:44:46,997] - obspy.clients.fdsn.mass_downloader - INFO: Downloaded 0.0 MB in total.\n",
      "[2021-11-25 00:44:46,999] - obspy.clients.fdsn.mass_downloader - INFO: Initializing FDSN client(s) for GEONET.\n",
      "[2021-11-25 00:44:47,005] - obspy.clients.fdsn.mass_downloader - INFO: Successfully initialized 1 client(s): GEONET.\n",
      "[2021-11-25 00:44:47,006] - obspy.clients.fdsn.mass_downloader - INFO: Total acquired or preexisting stations: 0\n",
      "[2021-11-25 00:44:47,007] - obspy.clients.fdsn.mass_downloader - INFO: Client 'GEONET' - Requesting unreliable availability.\n"
     ]
    },
    {
     "name": "stdout",
     "output_type": "stream",
     "text": [
      "=================================================================\n",
      "Initiating mass download request.\n"
     ]
    },
    {
     "name": "stderr",
     "output_type": "stream",
     "text": [
      "[2021-11-25 00:44:47,547] - obspy.clients.fdsn.mass_downloader - INFO: Client 'GEONET' - Successfully requested availability (0.54 seconds)\n",
      "[2021-11-25 00:44:47,553] - obspy.clients.fdsn.mass_downloader - INFO: Client 'GEONET' - Found 1 stations (1 channels).\n",
      "[2021-11-25 00:44:47,554] - obspy.clients.fdsn.mass_downloader - INFO: Client 'GEONET' - Will attempt to download data from 1 stations.\n",
      "[2021-11-25 00:44:47,555] - obspy.clients.fdsn.mass_downloader - INFO: Client 'GEONET' - Status for 1 time intervals/channels before downloading: NEEDS_DOWNLOADING\n",
      "[2021-11-25 00:44:48,517] - obspy.clients.fdsn.mass_downloader - INFO: Client 'GEONET' - Successfully downloaded 1 channels (of 1)\n",
      "[2021-11-25 00:44:48,524] - obspy.clients.fdsn.mass_downloader - INFO: Client 'GEONET' - Launching basic QC checks...\n",
      "[2021-11-25 00:44:48,538] - obspy.clients.fdsn.mass_downloader - INFO: Client 'GEONET' - Downloaded 0.0 MB [3.63 KB/sec] of data, 0.0 MB of which were discarded afterwards.\n",
      "[2021-11-25 00:44:48,540] - obspy.clients.fdsn.mass_downloader - INFO: Client 'GEONET' - Status for 1 time intervals/channels after downloading: DOWNLOADED\n",
      "[2021-11-25 00:44:48,543] - obspy.clients.fdsn.mass_downloader - INFO: Client 'GEONET' - No station information to download.\n",
      "[2021-11-25 00:44:48,547] - obspy.clients.fdsn.mass_downloader - INFO: ============================== Final report\n",
      "[2021-11-25 00:44:48,548] - obspy.clients.fdsn.mass_downloader - INFO: 0 MiniSEED files [0.0 MB] already existed.\n",
      "[2021-11-25 00:44:48,549] - obspy.clients.fdsn.mass_downloader - INFO: 1 StationXML files [0.0 MB] already existed.\n",
      "[2021-11-25 00:44:48,550] - obspy.clients.fdsn.mass_downloader - INFO: Client 'GEONET' - Acquired 1 MiniSEED files [0.0 MB].\n",
      "[2021-11-25 00:44:48,550] - obspy.clients.fdsn.mass_downloader - INFO: Client 'GEONET' - Acquired 0 StationXML files [0.0 MB].\n",
      "[2021-11-25 00:44:48,551] - obspy.clients.fdsn.mass_downloader - INFO: Downloaded 0.0 MB in total.\n",
      "[2021-11-25 00:44:48,554] - obspy.clients.fdsn.mass_downloader - INFO: Initializing FDSN client(s) for GEONET.\n",
      "[2021-11-25 00:44:48,564] - obspy.clients.fdsn.mass_downloader - INFO: Successfully initialized 1 client(s): GEONET.\n",
      "[2021-11-25 00:44:48,566] - obspy.clients.fdsn.mass_downloader - INFO: Total acquired or preexisting stations: 0\n",
      "[2021-11-25 00:44:48,567] - obspy.clients.fdsn.mass_downloader - INFO: Client 'GEONET' - Requesting unreliable availability.\n"
     ]
    },
    {
     "name": "stdout",
     "output_type": "stream",
     "text": [
      "=================================================================\n",
      "Initiating mass download request.\n"
     ]
    },
    {
     "name": "stderr",
     "output_type": "stream",
     "text": [
      "[2021-11-25 00:44:49,144] - obspy.clients.fdsn.mass_downloader - INFO: Client 'GEONET' - Successfully requested availability (0.58 seconds)\n",
      "[2021-11-25 00:44:49,145] - obspy.clients.fdsn.mass_downloader - INFO: Client 'GEONET' - Found 1 stations (1 channels).\n",
      "[2021-11-25 00:44:49,145] - obspy.clients.fdsn.mass_downloader - INFO: Client 'GEONET' - Will attempt to download data from 1 stations.\n",
      "[2021-11-25 00:44:49,145] - obspy.clients.fdsn.mass_downloader - INFO: Client 'GEONET' - Status for 1 time intervals/channels before downloading: NEEDS_DOWNLOADING\n",
      "[2021-11-25 00:44:49,990] - obspy.clients.fdsn.mass_downloader - INFO: Client 'GEONET' - Successfully downloaded 1 channels (of 1)\n",
      "[2021-11-25 00:44:49,993] - obspy.clients.fdsn.mass_downloader - INFO: Client 'GEONET' - Launching basic QC checks...\n",
      "[2021-11-25 00:44:49,998] - obspy.clients.fdsn.mass_downloader - INFO: Client 'GEONET' - Downloaded 0.0 MB [3.55 KB/sec] of data, 0.0 MB of which were discarded afterwards.\n",
      "[2021-11-25 00:44:49,999] - obspy.clients.fdsn.mass_downloader - INFO: Client 'GEONET' - Status for 1 time intervals/channels after downloading: DOWNLOADED\n",
      "[2021-11-25 00:44:50,002] - obspy.clients.fdsn.mass_downloader - INFO: Client 'GEONET' - No station information to download.\n",
      "[2021-11-25 00:44:50,003] - obspy.clients.fdsn.mass_downloader - INFO: ============================== Final report\n",
      "[2021-11-25 00:44:50,003] - obspy.clients.fdsn.mass_downloader - INFO: 0 MiniSEED files [0.0 MB] already existed.\n",
      "[2021-11-25 00:44:50,004] - obspy.clients.fdsn.mass_downloader - INFO: 1 StationXML files [0.0 MB] already existed.\n",
      "[2021-11-25 00:44:50,004] - obspy.clients.fdsn.mass_downloader - INFO: Client 'GEONET' - Acquired 1 MiniSEED files [0.0 MB].\n",
      "[2021-11-25 00:44:50,004] - obspy.clients.fdsn.mass_downloader - INFO: Client 'GEONET' - Acquired 0 StationXML files [0.0 MB].\n",
      "[2021-11-25 00:44:50,005] - obspy.clients.fdsn.mass_downloader - INFO: Downloaded 0.0 MB in total.\n",
      "[2021-11-25 00:44:50,007] - obspy.clients.fdsn.mass_downloader - INFO: Initializing FDSN client(s) for GEONET.\n",
      "[2021-11-25 00:44:50,016] - obspy.clients.fdsn.mass_downloader - INFO: Successfully initialized 1 client(s): GEONET.\n",
      "[2021-11-25 00:44:50,017] - obspy.clients.fdsn.mass_downloader - INFO: Total acquired or preexisting stations: 0\n",
      "[2021-11-25 00:44:50,017] - obspy.clients.fdsn.mass_downloader - INFO: Client 'GEONET' - Requesting unreliable availability.\n"
     ]
    },
    {
     "name": "stdout",
     "output_type": "stream",
     "text": [
      "=================================================================\n",
      "Initiating mass download request.\n"
     ]
    },
    {
     "name": "stderr",
     "output_type": "stream",
     "text": [
      "[2021-11-25 00:44:50,528] - obspy.clients.fdsn.mass_downloader - INFO: Client 'GEONET' - Successfully requested availability (0.51 seconds)\n",
      "[2021-11-25 00:44:50,529] - obspy.clients.fdsn.mass_downloader - INFO: Client 'GEONET' - Found 1 stations (1 channels).\n",
      "[2021-11-25 00:44:50,529] - obspy.clients.fdsn.mass_downloader - INFO: Client 'GEONET' - Will attempt to download data from 1 stations.\n",
      "[2021-11-25 00:44:50,529] - obspy.clients.fdsn.mass_downloader - INFO: Client 'GEONET' - Status for 1 time intervals/channels before downloading: NEEDS_DOWNLOADING\n",
      "[2021-11-25 00:44:51,522] - obspy.clients.fdsn.mass_downloader - INFO: Client 'GEONET' - Successfully downloaded 1 channels (of 1)\n",
      "[2021-11-25 00:44:51,523] - obspy.clients.fdsn.mass_downloader - INFO: Client 'GEONET' - Launching basic QC checks...\n",
      "[2021-11-25 00:44:51,525] - obspy.clients.fdsn.mass_downloader - INFO: Client 'GEONET' - Downloaded 0.0 MB [5.04 KB/sec] of data, 0.0 MB of which were discarded afterwards.\n",
      "[2021-11-25 00:44:51,525] - obspy.clients.fdsn.mass_downloader - INFO: Client 'GEONET' - Status for 1 time intervals/channels after downloading: DOWNLOADED\n",
      "[2021-11-25 00:44:51,526] - obspy.clients.fdsn.mass_downloader - INFO: Client 'GEONET' - No station information to download.\n",
      "[2021-11-25 00:44:51,527] - obspy.clients.fdsn.mass_downloader - INFO: ============================== Final report\n",
      "[2021-11-25 00:44:51,527] - obspy.clients.fdsn.mass_downloader - INFO: 0 MiniSEED files [0.0 MB] already existed.\n",
      "[2021-11-25 00:44:51,527] - obspy.clients.fdsn.mass_downloader - INFO: 1 StationXML files [0.0 MB] already existed.\n",
      "[2021-11-25 00:44:51,528] - obspy.clients.fdsn.mass_downloader - INFO: Client 'GEONET' - Acquired 1 MiniSEED files [0.0 MB].\n",
      "[2021-11-25 00:44:51,528] - obspy.clients.fdsn.mass_downloader - INFO: Client 'GEONET' - Acquired 0 StationXML files [0.0 MB].\n",
      "[2021-11-25 00:44:51,528] - obspy.clients.fdsn.mass_downloader - INFO: Downloaded 0.0 MB in total.\n",
      "[2021-11-25 00:44:51,529] - obspy.clients.fdsn.mass_downloader - INFO: Initializing FDSN client(s) for GEONET.\n",
      "[2021-11-25 00:44:51,532] - obspy.clients.fdsn.mass_downloader - INFO: Successfully initialized 1 client(s): GEONET.\n",
      "[2021-11-25 00:44:51,533] - obspy.clients.fdsn.mass_downloader - INFO: Total acquired or preexisting stations: 0\n",
      "[2021-11-25 00:44:51,533] - obspy.clients.fdsn.mass_downloader - INFO: Client 'GEONET' - Requesting unreliable availability.\n"
     ]
    },
    {
     "name": "stdout",
     "output_type": "stream",
     "text": [
      "=================================================================\n",
      "Initiating mass download request.\n"
     ]
    },
    {
     "name": "stderr",
     "output_type": "stream",
     "text": [
      "[2021-11-25 00:44:52,083] - obspy.clients.fdsn.mass_downloader - INFO: Client 'GEONET' - Successfully requested availability (0.55 seconds)\n",
      "[2021-11-25 00:44:52,085] - obspy.clients.fdsn.mass_downloader - INFO: Client 'GEONET' - Found 1 stations (1 channels).\n",
      "[2021-11-25 00:44:52,085] - obspy.clients.fdsn.mass_downloader - INFO: Client 'GEONET' - Will attempt to download data from 1 stations.\n",
      "[2021-11-25 00:44:52,086] - obspy.clients.fdsn.mass_downloader - INFO: Client 'GEONET' - Status for 1 time intervals/channels before downloading: NEEDS_DOWNLOADING\n",
      "[2021-11-25 00:44:53,113] - obspy.clients.fdsn.mass_downloader - INFO: Client 'GEONET' - Successfully downloaded 1 channels (of 1)\n",
      "[2021-11-25 00:44:53,116] - obspy.clients.fdsn.mass_downloader - INFO: Client 'GEONET' - Launching basic QC checks...\n",
      "[2021-11-25 00:44:53,128] - obspy.clients.fdsn.mass_downloader - INFO: Client 'GEONET' - Downloaded 0.0 MB [3.90 KB/sec] of data, 0.0 MB of which were discarded afterwards.\n",
      "[2021-11-25 00:44:53,129] - obspy.clients.fdsn.mass_downloader - INFO: Client 'GEONET' - Status for 1 time intervals/channels after downloading: DOWNLOADED\n",
      "[2021-11-25 00:44:53,133] - obspy.clients.fdsn.mass_downloader - INFO: Client 'GEONET' - No station information to download.\n",
      "[2021-11-25 00:44:53,135] - obspy.clients.fdsn.mass_downloader - INFO: ============================== Final report\n",
      "[2021-11-25 00:44:53,136] - obspy.clients.fdsn.mass_downloader - INFO: 0 MiniSEED files [0.0 MB] already existed.\n",
      "[2021-11-25 00:44:53,136] - obspy.clients.fdsn.mass_downloader - INFO: 1 StationXML files [0.0 MB] already existed.\n",
      "[2021-11-25 00:44:53,137] - obspy.clients.fdsn.mass_downloader - INFO: Client 'GEONET' - Acquired 1 MiniSEED files [0.0 MB].\n",
      "[2021-11-25 00:44:53,137] - obspy.clients.fdsn.mass_downloader - INFO: Client 'GEONET' - Acquired 0 StationXML files [0.0 MB].\n",
      "[2021-11-25 00:44:53,138] - obspy.clients.fdsn.mass_downloader - INFO: Downloaded 0.0 MB in total.\n",
      "[2021-11-25 00:44:53,142] - obspy.clients.fdsn.mass_downloader - INFO: Initializing FDSN client(s) for GEONET.\n",
      "[2021-11-25 00:44:53,148] - obspy.clients.fdsn.mass_downloader - INFO: Successfully initialized 1 client(s): GEONET.\n",
      "[2021-11-25 00:44:53,149] - obspy.clients.fdsn.mass_downloader - INFO: Total acquired or preexisting stations: 0\n",
      "[2021-11-25 00:44:53,150] - obspy.clients.fdsn.mass_downloader - INFO: Client 'GEONET' - Requesting unreliable availability.\n"
     ]
    },
    {
     "name": "stdout",
     "output_type": "stream",
     "text": [
      "=================================================================\n",
      "Initiating mass download request.\n"
     ]
    },
    {
     "name": "stderr",
     "output_type": "stream",
     "text": [
      "[2021-11-25 00:44:54,322] - obspy.clients.fdsn.mass_downloader - INFO: Client 'GEONET' - Successfully requested availability (1.17 seconds)\n",
      "[2021-11-25 00:44:54,324] - obspy.clients.fdsn.mass_downloader - INFO: Client 'GEONET' - Found 1 stations (1 channels).\n",
      "[2021-11-25 00:44:54,324] - obspy.clients.fdsn.mass_downloader - INFO: Client 'GEONET' - Will attempt to download data from 1 stations.\n",
      "[2021-11-25 00:44:54,325] - obspy.clients.fdsn.mass_downloader - INFO: Client 'GEONET' - Status for 1 time intervals/channels before downloading: NEEDS_DOWNLOADING\n",
      "[2021-11-25 00:44:55,925] - obspy.clients.fdsn.mass_downloader - INFO: Client 'GEONET' - Successfully downloaded 1 channels (of 1)\n",
      "[2021-11-25 00:44:55,927] - obspy.clients.fdsn.mass_downloader - INFO: Client 'GEONET' - Launching basic QC checks...\n",
      "[2021-11-25 00:44:55,931] - obspy.clients.fdsn.mass_downloader - INFO: Client 'GEONET' - Downloaded 0.0 MB [3.12 KB/sec] of data, 0.0 MB of which were discarded afterwards.\n",
      "[2021-11-25 00:44:55,931] - obspy.clients.fdsn.mass_downloader - INFO: Client 'GEONET' - Status for 1 time intervals/channels after downloading: DOWNLOADED\n",
      "[2021-11-25 00:44:55,933] - obspy.clients.fdsn.mass_downloader - INFO: Client 'GEONET' - No station information to download.\n",
      "[2021-11-25 00:44:55,934] - obspy.clients.fdsn.mass_downloader - INFO: ============================== Final report\n",
      "[2021-11-25 00:44:55,934] - obspy.clients.fdsn.mass_downloader - INFO: 0 MiniSEED files [0.0 MB] already existed.\n",
      "[2021-11-25 00:44:55,934] - obspy.clients.fdsn.mass_downloader - INFO: 1 StationXML files [0.0 MB] already existed.\n",
      "[2021-11-25 00:44:55,935] - obspy.clients.fdsn.mass_downloader - INFO: Client 'GEONET' - Acquired 1 MiniSEED files [0.0 MB].\n",
      "[2021-11-25 00:44:55,935] - obspy.clients.fdsn.mass_downloader - INFO: Client 'GEONET' - Acquired 0 StationXML files [0.0 MB].\n",
      "[2021-11-25 00:44:55,935] - obspy.clients.fdsn.mass_downloader - INFO: Downloaded 0.0 MB in total.\n",
      "[2021-11-25 00:44:55,942] - obspy.clients.fdsn.mass_downloader - INFO: Initializing FDSN client(s) for GEONET.\n",
      "[2021-11-25 00:44:55,945] - obspy.clients.fdsn.mass_downloader - INFO: Successfully initialized 1 client(s): GEONET.\n",
      "[2021-11-25 00:44:55,946] - obspy.clients.fdsn.mass_downloader - INFO: Total acquired or preexisting stations: 0\n",
      "[2021-11-25 00:44:55,947] - obspy.clients.fdsn.mass_downloader - INFO: Client 'GEONET' - Requesting unreliable availability.\n"
     ]
    },
    {
     "name": "stdout",
     "output_type": "stream",
     "text": [
      "=================================================================\n",
      "Initiating mass download request.\n"
     ]
    },
    {
     "name": "stderr",
     "output_type": "stream",
     "text": [
      "[2021-11-25 00:44:57,031] - obspy.clients.fdsn.mass_downloader - INFO: Client 'GEONET' - Successfully requested availability (1.08 seconds)\n",
      "[2021-11-25 00:44:57,034] - obspy.clients.fdsn.mass_downloader - INFO: Client 'GEONET' - Found 1 stations (1 channels).\n",
      "[2021-11-25 00:44:57,035] - obspy.clients.fdsn.mass_downloader - INFO: Client 'GEONET' - Will attempt to download data from 1 stations.\n",
      "[2021-11-25 00:44:57,036] - obspy.clients.fdsn.mass_downloader - INFO: Client 'GEONET' - Status for 1 time intervals/channels before downloading: NEEDS_DOWNLOADING\n",
      "[2021-11-25 00:44:58,161] - obspy.clients.fdsn.mass_downloader - INFO: Client 'GEONET' - Successfully downloaded 1 channels (of 1)\n",
      "[2021-11-25 00:44:58,162] - obspy.clients.fdsn.mass_downloader - INFO: Client 'GEONET' - Launching basic QC checks...\n",
      "[2021-11-25 00:44:58,165] - obspy.clients.fdsn.mass_downloader - INFO: Client 'GEONET' - Downloaded 0.0 MB [3.56 KB/sec] of data, 0.0 MB of which were discarded afterwards.\n",
      "[2021-11-25 00:44:58,165] - obspy.clients.fdsn.mass_downloader - INFO: Client 'GEONET' - Status for 1 time intervals/channels after downloading: DOWNLOADED\n",
      "[2021-11-25 00:44:58,166] - obspy.clients.fdsn.mass_downloader - INFO: Client 'GEONET' - No station information to download.\n",
      "[2021-11-25 00:44:58,167] - obspy.clients.fdsn.mass_downloader - INFO: ============================== Final report\n",
      "[2021-11-25 00:44:58,167] - obspy.clients.fdsn.mass_downloader - INFO: 0 MiniSEED files [0.0 MB] already existed.\n",
      "[2021-11-25 00:44:58,168] - obspy.clients.fdsn.mass_downloader - INFO: 1 StationXML files [0.0 MB] already existed.\n",
      "[2021-11-25 00:44:58,168] - obspy.clients.fdsn.mass_downloader - INFO: Client 'GEONET' - Acquired 1 MiniSEED files [0.0 MB].\n",
      "[2021-11-25 00:44:58,168] - obspy.clients.fdsn.mass_downloader - INFO: Client 'GEONET' - Acquired 0 StationXML files [0.0 MB].\n",
      "[2021-11-25 00:44:58,168] - obspy.clients.fdsn.mass_downloader - INFO: Downloaded 0.0 MB in total.\n",
      "[2021-11-25 00:44:58,173] - obspy.clients.fdsn.mass_downloader - INFO: Initializing FDSN client(s) for GEONET.\n",
      "[2021-11-25 00:44:58,176] - obspy.clients.fdsn.mass_downloader - INFO: Successfully initialized 1 client(s): GEONET.\n",
      "[2021-11-25 00:44:58,176] - obspy.clients.fdsn.mass_downloader - INFO: Total acquired or preexisting stations: 0\n",
      "[2021-11-25 00:44:58,176] - obspy.clients.fdsn.mass_downloader - INFO: Client 'GEONET' - Requesting unreliable availability.\n"
     ]
    },
    {
     "name": "stdout",
     "output_type": "stream",
     "text": [
      "=================================================================\n",
      "Initiating mass download request.\n"
     ]
    },
    {
     "name": "stderr",
     "output_type": "stream",
     "text": [
      "[2021-11-25 00:44:58,731] - obspy.clients.fdsn.mass_downloader - INFO: Client 'GEONET' - Successfully requested availability (0.55 seconds)\n",
      "[2021-11-25 00:44:58,731] - obspy.clients.fdsn.mass_downloader - INFO: Client 'GEONET' - Found 1 stations (1 channels).\n",
      "[2021-11-25 00:44:58,731] - obspy.clients.fdsn.mass_downloader - INFO: Client 'GEONET' - Will attempt to download data from 1 stations.\n",
      "[2021-11-25 00:44:58,732] - obspy.clients.fdsn.mass_downloader - INFO: Client 'GEONET' - Status for 1 time intervals/channels before downloading: NEEDS_DOWNLOADING\n",
      "[2021-11-25 00:44:59,819] - obspy.clients.fdsn.mass_downloader - INFO: Client 'GEONET' - Successfully downloaded 1 channels (of 1)\n",
      "[2021-11-25 00:44:59,820] - obspy.clients.fdsn.mass_downloader - INFO: Client 'GEONET' - Launching basic QC checks...\n",
      "[2021-11-25 00:44:59,823] - obspy.clients.fdsn.mass_downloader - INFO: Client 'GEONET' - Downloaded 0.0 MB [3.22 KB/sec] of data, 0.0 MB of which were discarded afterwards.\n",
      "[2021-11-25 00:44:59,823] - obspy.clients.fdsn.mass_downloader - INFO: Client 'GEONET' - Status for 1 time intervals/channels after downloading: DOWNLOADED\n",
      "[2021-11-25 00:44:59,825] - obspy.clients.fdsn.mass_downloader - INFO: Client 'GEONET' - No station information to download.\n",
      "[2021-11-25 00:44:59,825] - obspy.clients.fdsn.mass_downloader - INFO: ============================== Final report\n",
      "[2021-11-25 00:44:59,825] - obspy.clients.fdsn.mass_downloader - INFO: 0 MiniSEED files [0.0 MB] already existed.\n",
      "[2021-11-25 00:44:59,825] - obspy.clients.fdsn.mass_downloader - INFO: 1 StationXML files [0.0 MB] already existed.\n",
      "[2021-11-25 00:44:59,826] - obspy.clients.fdsn.mass_downloader - INFO: Client 'GEONET' - Acquired 1 MiniSEED files [0.0 MB].\n",
      "[2021-11-25 00:44:59,826] - obspy.clients.fdsn.mass_downloader - INFO: Client 'GEONET' - Acquired 0 StationXML files [0.0 MB].\n",
      "[2021-11-25 00:44:59,826] - obspy.clients.fdsn.mass_downloader - INFO: Downloaded 0.0 MB in total.\n",
      "[2021-11-25 00:44:59,827] - obspy.clients.fdsn.mass_downloader - INFO: Initializing FDSN client(s) for GEONET.\n",
      "[2021-11-25 00:44:59,829] - obspy.clients.fdsn.mass_downloader - INFO: Successfully initialized 1 client(s): GEONET.\n",
      "[2021-11-25 00:44:59,830] - obspy.clients.fdsn.mass_downloader - INFO: Total acquired or preexisting stations: 0\n",
      "[2021-11-25 00:44:59,831] - obspy.clients.fdsn.mass_downloader - INFO: Client 'GEONET' - Requesting unreliable availability.\n"
     ]
    },
    {
     "name": "stdout",
     "output_type": "stream",
     "text": [
      "=================================================================\n",
      "Initiating mass download request.\n"
     ]
    },
    {
     "name": "stderr",
     "output_type": "stream",
     "text": [
      "[2021-11-25 00:45:00,473] - obspy.clients.fdsn.mass_downloader - INFO: Client 'GEONET' - Successfully requested availability (0.64 seconds)\n",
      "[2021-11-25 00:45:00,475] - obspy.clients.fdsn.mass_downloader - INFO: Client 'GEONET' - Found 1 stations (1 channels).\n",
      "[2021-11-25 00:45:00,476] - obspy.clients.fdsn.mass_downloader - INFO: Client 'GEONET' - Will attempt to download data from 1 stations.\n",
      "[2021-11-25 00:45:00,478] - obspy.clients.fdsn.mass_downloader - INFO: Client 'GEONET' - Status for 1 time intervals/channels before downloading: NEEDS_DOWNLOADING\n",
      "[2021-11-25 00:45:01,413] - obspy.clients.fdsn.mass_downloader - INFO: Client 'GEONET' - Successfully downloaded 1 channels (of 1)\n",
      "[2021-11-25 00:45:01,414] - obspy.clients.fdsn.mass_downloader - INFO: Client 'GEONET' - Launching basic QC checks...\n",
      "[2021-11-25 00:45:01,418] - obspy.clients.fdsn.mass_downloader - INFO: Client 'GEONET' - Downloaded 0.0 MB [3.77 KB/sec] of data, 0.0 MB of which were discarded afterwards.\n",
      "[2021-11-25 00:45:01,418] - obspy.clients.fdsn.mass_downloader - INFO: Client 'GEONET' - Status for 1 time intervals/channels after downloading: DOWNLOADED\n",
      "[2021-11-25 00:45:01,420] - obspy.clients.fdsn.mass_downloader - INFO: Client 'GEONET' - No station information to download.\n",
      "[2021-11-25 00:45:01,424] - obspy.clients.fdsn.mass_downloader - INFO: ============================== Final report\n",
      "[2021-11-25 00:45:01,425] - obspy.clients.fdsn.mass_downloader - INFO: 0 MiniSEED files [0.0 MB] already existed.\n",
      "[2021-11-25 00:45:01,425] - obspy.clients.fdsn.mass_downloader - INFO: 1 StationXML files [0.0 MB] already existed.\n",
      "[2021-11-25 00:45:01,425] - obspy.clients.fdsn.mass_downloader - INFO: Client 'GEONET' - Acquired 1 MiniSEED files [0.0 MB].\n",
      "[2021-11-25 00:45:01,426] - obspy.clients.fdsn.mass_downloader - INFO: Client 'GEONET' - Acquired 0 StationXML files [0.0 MB].\n",
      "[2021-11-25 00:45:01,426] - obspy.clients.fdsn.mass_downloader - INFO: Downloaded 0.0 MB in total.\n",
      "[2021-11-25 00:45:01,428] - obspy.clients.fdsn.mass_downloader - INFO: Initializing FDSN client(s) for GEONET.\n",
      "[2021-11-25 00:45:01,435] - obspy.clients.fdsn.mass_downloader - INFO: Successfully initialized 1 client(s): GEONET.\n",
      "[2021-11-25 00:45:01,436] - obspy.clients.fdsn.mass_downloader - INFO: Total acquired or preexisting stations: 0\n",
      "[2021-11-25 00:45:01,436] - obspy.clients.fdsn.mass_downloader - INFO: Client 'GEONET' - Requesting unreliable availability.\n"
     ]
    },
    {
     "name": "stdout",
     "output_type": "stream",
     "text": [
      "=================================================================\n",
      "Initiating mass download request.\n"
     ]
    },
    {
     "name": "stderr",
     "output_type": "stream",
     "text": [
      "[2021-11-25 00:45:02,064] - obspy.clients.fdsn.mass_downloader - INFO: Client 'GEONET' - Successfully requested availability (0.63 seconds)\n",
      "[2021-11-25 00:45:02,068] - obspy.clients.fdsn.mass_downloader - INFO: Client 'GEONET' - Found 1 stations (1 channels).\n",
      "[2021-11-25 00:45:02,069] - obspy.clients.fdsn.mass_downloader - INFO: Client 'GEONET' - Will attempt to download data from 1 stations.\n",
      "[2021-11-25 00:45:02,070] - obspy.clients.fdsn.mass_downloader - INFO: Client 'GEONET' - Status for 1 time intervals/channels before downloading: NEEDS_DOWNLOADING\n",
      "[2021-11-25 00:45:03,016] - obspy.clients.fdsn.mass_downloader - INFO: Client 'GEONET' - Successfully downloaded 1 channels (of 1)\n",
      "[2021-11-25 00:45:03,017] - obspy.clients.fdsn.mass_downloader - INFO: Client 'GEONET' - Launching basic QC checks...\n",
      "[2021-11-25 00:45:03,026] - obspy.clients.fdsn.mass_downloader - INFO: Client 'GEONET' - Downloaded 0.0 MB [3.17 KB/sec] of data, 0.0 MB of which were discarded afterwards.\n",
      "[2021-11-25 00:45:03,027] - obspy.clients.fdsn.mass_downloader - INFO: Client 'GEONET' - Status for 1 time intervals/channels after downloading: DOWNLOADED\n",
      "[2021-11-25 00:45:03,030] - obspy.clients.fdsn.mass_downloader - INFO: Client 'GEONET' - No station information to download.\n",
      "[2021-11-25 00:45:03,031] - obspy.clients.fdsn.mass_downloader - INFO: ============================== Final report\n",
      "[2021-11-25 00:45:03,033] - obspy.clients.fdsn.mass_downloader - INFO: 0 MiniSEED files [0.0 MB] already existed.\n",
      "[2021-11-25 00:45:03,034] - obspy.clients.fdsn.mass_downloader - INFO: 1 StationXML files [0.0 MB] already existed.\n",
      "[2021-11-25 00:45:03,035] - obspy.clients.fdsn.mass_downloader - INFO: Client 'GEONET' - Acquired 1 MiniSEED files [0.0 MB].\n",
      "[2021-11-25 00:45:03,036] - obspy.clients.fdsn.mass_downloader - INFO: Client 'GEONET' - Acquired 0 StationXML files [0.0 MB].\n",
      "[2021-11-25 00:45:03,037] - obspy.clients.fdsn.mass_downloader - INFO: Downloaded 0.0 MB in total.\n",
      "[2021-11-25 00:45:03,038] - obspy.clients.fdsn.mass_downloader - INFO: Initializing FDSN client(s) for GEONET.\n",
      "[2021-11-25 00:45:03,043] - obspy.clients.fdsn.mass_downloader - INFO: Successfully initialized 1 client(s): GEONET.\n",
      "[2021-11-25 00:45:03,043] - obspy.clients.fdsn.mass_downloader - INFO: Total acquired or preexisting stations: 0\n",
      "[2021-11-25 00:45:03,044] - obspy.clients.fdsn.mass_downloader - INFO: Client 'GEONET' - Requesting unreliable availability.\n"
     ]
    },
    {
     "name": "stdout",
     "output_type": "stream",
     "text": [
      "=================================================================\n",
      "Initiating mass download request.\n"
     ]
    },
    {
     "name": "stderr",
     "output_type": "stream",
     "text": [
      "[2021-11-25 00:45:03,654] - obspy.clients.fdsn.mass_downloader - INFO: Client 'GEONET' - Successfully requested availability (0.61 seconds)\n",
      "[2021-11-25 00:45:03,654] - obspy.clients.fdsn.mass_downloader - INFO: Client 'GEONET' - Found 1 stations (1 channels).\n",
      "[2021-11-25 00:45:03,655] - obspy.clients.fdsn.mass_downloader - INFO: Client 'GEONET' - Will attempt to download data from 1 stations.\n",
      "[2021-11-25 00:45:03,655] - obspy.clients.fdsn.mass_downloader - INFO: Client 'GEONET' - Status for 1 time intervals/channels before downloading: NEEDS_DOWNLOADING\n",
      "[2021-11-25 00:45:05,381] - obspy.clients.fdsn.mass_downloader - INFO: Client 'GEONET' - Successfully downloaded 1 channels (of 1)\n",
      "[2021-11-25 00:45:05,385] - obspy.clients.fdsn.mass_downloader - INFO: Client 'GEONET' - Launching basic QC checks...\n",
      "[2021-11-25 00:45:05,395] - obspy.clients.fdsn.mass_downloader - INFO: Client 'GEONET' - Downloaded 0.0 MB [2.31 KB/sec] of data, 0.0 MB of which were discarded afterwards.\n",
      "[2021-11-25 00:45:05,396] - obspy.clients.fdsn.mass_downloader - INFO: Client 'GEONET' - Status for 1 time intervals/channels after downloading: DOWNLOADED\n",
      "[2021-11-25 00:45:05,398] - obspy.clients.fdsn.mass_downloader - INFO: Client 'GEONET' - No station information to download.\n",
      "[2021-11-25 00:45:05,399] - obspy.clients.fdsn.mass_downloader - INFO: ============================== Final report\n",
      "[2021-11-25 00:45:05,400] - obspy.clients.fdsn.mass_downloader - INFO: 0 MiniSEED files [0.0 MB] already existed.\n",
      "[2021-11-25 00:45:05,400] - obspy.clients.fdsn.mass_downloader - INFO: 1 StationXML files [0.0 MB] already existed.\n",
      "[2021-11-25 00:45:05,400] - obspy.clients.fdsn.mass_downloader - INFO: Client 'GEONET' - Acquired 1 MiniSEED files [0.0 MB].\n",
      "[2021-11-25 00:45:05,401] - obspy.clients.fdsn.mass_downloader - INFO: Client 'GEONET' - Acquired 0 StationXML files [0.0 MB].\n",
      "[2021-11-25 00:45:05,401] - obspy.clients.fdsn.mass_downloader - INFO: Downloaded 0.0 MB in total.\n",
      "[2021-11-25 00:45:05,407] - obspy.clients.fdsn.mass_downloader - INFO: Initializing FDSN client(s) for GEONET.\n",
      "[2021-11-25 00:45:05,411] - obspy.clients.fdsn.mass_downloader - INFO: Successfully initialized 1 client(s): GEONET.\n",
      "[2021-11-25 00:45:05,412] - obspy.clients.fdsn.mass_downloader - INFO: Total acquired or preexisting stations: 0\n",
      "[2021-11-25 00:45:05,413] - obspy.clients.fdsn.mass_downloader - INFO: Client 'GEONET' - Requesting unreliable availability.\n"
     ]
    },
    {
     "name": "stdout",
     "output_type": "stream",
     "text": [
      "=================================================================\n",
      "Initiating mass download request.\n"
     ]
    },
    {
     "name": "stderr",
     "output_type": "stream",
     "text": [
      "[2021-11-25 00:45:06,017] - obspy.clients.fdsn.mass_downloader - INFO: Client 'GEONET' - Successfully requested availability (0.60 seconds)\n",
      "[2021-11-25 00:45:06,019] - obspy.clients.fdsn.mass_downloader - INFO: Client 'GEONET' - Found 1 stations (1 channels).\n",
      "[2021-11-25 00:45:06,020] - obspy.clients.fdsn.mass_downloader - INFO: Client 'GEONET' - Will attempt to download data from 1 stations.\n",
      "[2021-11-25 00:45:06,023] - obspy.clients.fdsn.mass_downloader - INFO: Client 'GEONET' - Status for 1 time intervals/channels before downloading: NEEDS_DOWNLOADING\n",
      "[2021-11-25 00:45:07,072] - obspy.clients.fdsn.mass_downloader - INFO: Client 'GEONET' - Successfully downloaded 1 channels (of 1)\n",
      "[2021-11-25 00:45:07,081] - obspy.clients.fdsn.mass_downloader - INFO: Client 'GEONET' - Launching basic QC checks...\n",
      "[2021-11-25 00:45:07,093] - obspy.clients.fdsn.mass_downloader - INFO: Client 'GEONET' - Downloaded 0.0 MB [3.32 KB/sec] of data, 0.0 MB of which were discarded afterwards.\n",
      "[2021-11-25 00:45:07,093] - obspy.clients.fdsn.mass_downloader - INFO: Client 'GEONET' - Status for 1 time intervals/channels after downloading: DOWNLOADED\n",
      "[2021-11-25 00:45:07,096] - obspy.clients.fdsn.mass_downloader - INFO: Client 'GEONET' - No station information to download.\n",
      "[2021-11-25 00:45:07,097] - obspy.clients.fdsn.mass_downloader - INFO: ============================== Final report\n",
      "[2021-11-25 00:45:07,097] - obspy.clients.fdsn.mass_downloader - INFO: 0 MiniSEED files [0.0 MB] already existed.\n",
      "[2021-11-25 00:45:07,098] - obspy.clients.fdsn.mass_downloader - INFO: 1 StationXML files [0.0 MB] already existed.\n",
      "[2021-11-25 00:45:07,098] - obspy.clients.fdsn.mass_downloader - INFO: Client 'GEONET' - Acquired 1 MiniSEED files [0.0 MB].\n",
      "[2021-11-25 00:45:07,098] - obspy.clients.fdsn.mass_downloader - INFO: Client 'GEONET' - Acquired 0 StationXML files [0.0 MB].\n",
      "[2021-11-25 00:45:07,098] - obspy.clients.fdsn.mass_downloader - INFO: Downloaded 0.0 MB in total.\n",
      "[2021-11-25 00:45:07,100] - obspy.clients.fdsn.mass_downloader - INFO: Initializing FDSN client(s) for GEONET.\n",
      "[2021-11-25 00:45:07,103] - obspy.clients.fdsn.mass_downloader - INFO: Successfully initialized 1 client(s): GEONET.\n",
      "[2021-11-25 00:45:07,104] - obspy.clients.fdsn.mass_downloader - INFO: Total acquired or preexisting stations: 0\n",
      "[2021-11-25 00:45:07,104] - obspy.clients.fdsn.mass_downloader - INFO: Client 'GEONET' - Requesting unreliable availability.\n"
     ]
    },
    {
     "name": "stdout",
     "output_type": "stream",
     "text": [
      "=================================================================\n",
      "Initiating mass download request.\n"
     ]
    },
    {
     "name": "stderr",
     "output_type": "stream",
     "text": [
      "[2021-11-25 00:45:07,720] - obspy.clients.fdsn.mass_downloader - INFO: Client 'GEONET' - Successfully requested availability (0.62 seconds)\n",
      "[2021-11-25 00:45:07,721] - obspy.clients.fdsn.mass_downloader - INFO: Client 'GEONET' - Found 1 stations (1 channels).\n",
      "[2021-11-25 00:45:07,721] - obspy.clients.fdsn.mass_downloader - INFO: Client 'GEONET' - Will attempt to download data from 1 stations.\n",
      "[2021-11-25 00:45:07,721] - obspy.clients.fdsn.mass_downloader - INFO: Client 'GEONET' - Status for 1 time intervals/channels before downloading: NEEDS_DOWNLOADING\n",
      "[2021-11-25 00:45:08,940] - obspy.clients.fdsn.mass_downloader - INFO: Client 'GEONET' - Successfully downloaded 1 channels (of 1)\n",
      "[2021-11-25 00:45:08,941] - obspy.clients.fdsn.mass_downloader - INFO: Client 'GEONET' - Launching basic QC checks...\n",
      "[2021-11-25 00:45:08,943] - obspy.clients.fdsn.mass_downloader - INFO: Client 'GEONET' - Downloaded 0.0 MB [3.28 KB/sec] of data, 0.0 MB of which were discarded afterwards.\n",
      "[2021-11-25 00:45:08,943] - obspy.clients.fdsn.mass_downloader - INFO: Client 'GEONET' - Status for 1 time intervals/channels after downloading: DOWNLOADED\n",
      "[2021-11-25 00:45:08,945] - obspy.clients.fdsn.mass_downloader - INFO: Client 'GEONET' - No station information to download.\n",
      "[2021-11-25 00:45:08,946] - obspy.clients.fdsn.mass_downloader - INFO: ============================== Final report\n",
      "[2021-11-25 00:45:08,946] - obspy.clients.fdsn.mass_downloader - INFO: 0 MiniSEED files [0.0 MB] already existed.\n",
      "[2021-11-25 00:45:08,947] - obspy.clients.fdsn.mass_downloader - INFO: 1 StationXML files [0.0 MB] already existed.\n",
      "[2021-11-25 00:45:08,948] - obspy.clients.fdsn.mass_downloader - INFO: Client 'GEONET' - Acquired 1 MiniSEED files [0.0 MB].\n",
      "[2021-11-25 00:45:08,948] - obspy.clients.fdsn.mass_downloader - INFO: Client 'GEONET' - Acquired 0 StationXML files [0.0 MB].\n",
      "[2021-11-25 00:45:08,949] - obspy.clients.fdsn.mass_downloader - INFO: Downloaded 0.0 MB in total.\n",
      "[2021-11-25 00:45:08,950] - obspy.clients.fdsn.mass_downloader - INFO: Initializing FDSN client(s) for GEONET.\n",
      "[2021-11-25 00:45:08,953] - obspy.clients.fdsn.mass_downloader - INFO: Successfully initialized 1 client(s): GEONET.\n",
      "[2021-11-25 00:45:08,953] - obspy.clients.fdsn.mass_downloader - INFO: Total acquired or preexisting stations: 0\n",
      "[2021-11-25 00:45:08,954] - obspy.clients.fdsn.mass_downloader - INFO: Client 'GEONET' - Requesting unreliable availability.\n"
     ]
    },
    {
     "name": "stdout",
     "output_type": "stream",
     "text": [
      "=================================================================\n",
      "Initiating mass download request.\n"
     ]
    },
    {
     "name": "stderr",
     "output_type": "stream",
     "text": [
      "[2021-11-25 00:45:10,488] - obspy.clients.fdsn.mass_downloader - INFO: Client 'GEONET' - Successfully requested availability (1.53 seconds)\n",
      "[2021-11-25 00:45:10,491] - obspy.clients.fdsn.mass_downloader - INFO: Client 'GEONET' - Found 1 stations (1 channels).\n",
      "[2021-11-25 00:45:10,491] - obspy.clients.fdsn.mass_downloader - INFO: Client 'GEONET' - Will attempt to download data from 1 stations.\n",
      "[2021-11-25 00:45:10,492] - obspy.clients.fdsn.mass_downloader - INFO: Client 'GEONET' - Status for 1 time intervals/channels before downloading: NEEDS_DOWNLOADING\n",
      "[2021-11-25 00:45:11,481] - obspy.clients.fdsn.mass_downloader - INFO: Client 'GEONET' - Successfully downloaded 1 channels (of 1)\n",
      "[2021-11-25 00:45:11,483] - obspy.clients.fdsn.mass_downloader - INFO: Client 'GEONET' - Launching basic QC checks...\n",
      "[2021-11-25 00:45:11,489] - obspy.clients.fdsn.mass_downloader - INFO: Client 'GEONET' - Downloaded 0.0 MB [3.54 KB/sec] of data, 0.0 MB of which were discarded afterwards.\n",
      "[2021-11-25 00:45:11,489] - obspy.clients.fdsn.mass_downloader - INFO: Client 'GEONET' - Status for 1 time intervals/channels after downloading: DOWNLOADED\n",
      "[2021-11-25 00:45:11,494] - obspy.clients.fdsn.mass_downloader - INFO: Client 'GEONET' - No station information to download.\n",
      "[2021-11-25 00:45:11,496] - obspy.clients.fdsn.mass_downloader - INFO: ============================== Final report\n",
      "[2021-11-25 00:45:11,496] - obspy.clients.fdsn.mass_downloader - INFO: 0 MiniSEED files [0.0 MB] already existed.\n",
      "[2021-11-25 00:45:11,497] - obspy.clients.fdsn.mass_downloader - INFO: 1 StationXML files [0.0 MB] already existed.\n",
      "[2021-11-25 00:45:11,497] - obspy.clients.fdsn.mass_downloader - INFO: Client 'GEONET' - Acquired 1 MiniSEED files [0.0 MB].\n",
      "[2021-11-25 00:45:11,498] - obspy.clients.fdsn.mass_downloader - INFO: Client 'GEONET' - Acquired 0 StationXML files [0.0 MB].\n",
      "[2021-11-25 00:45:11,498] - obspy.clients.fdsn.mass_downloader - INFO: Downloaded 0.0 MB in total.\n",
      "[2021-11-25 00:45:11,502] - obspy.clients.fdsn.mass_downloader - INFO: Initializing FDSN client(s) for GEONET.\n",
      "[2021-11-25 00:45:11,506] - obspy.clients.fdsn.mass_downloader - INFO: Successfully initialized 1 client(s): GEONET.\n",
      "[2021-11-25 00:45:11,507] - obspy.clients.fdsn.mass_downloader - INFO: Total acquired or preexisting stations: 0\n",
      "[2021-11-25 00:45:11,507] - obspy.clients.fdsn.mass_downloader - INFO: Client 'GEONET' - Requesting unreliable availability.\n"
     ]
    },
    {
     "name": "stdout",
     "output_type": "stream",
     "text": [
      "=================================================================\n",
      "Initiating mass download request.\n"
     ]
    },
    {
     "name": "stderr",
     "output_type": "stream",
     "text": [
      "[2021-11-25 00:45:12,054] - obspy.clients.fdsn.mass_downloader - INFO: Client 'GEONET' - Successfully requested availability (0.55 seconds)\n",
      "[2021-11-25 00:45:12,054] - obspy.clients.fdsn.mass_downloader - INFO: Client 'GEONET' - Found 1 stations (1 channels).\n",
      "[2021-11-25 00:45:12,054] - obspy.clients.fdsn.mass_downloader - INFO: Client 'GEONET' - Will attempt to download data from 1 stations.\n",
      "[2021-11-25 00:45:12,055] - obspy.clients.fdsn.mass_downloader - INFO: Client 'GEONET' - Status for 1 time intervals/channels before downloading: NEEDS_DOWNLOADING\n",
      "[2021-11-25 00:45:13,002] - obspy.clients.fdsn.mass_downloader - INFO: Client 'GEONET' - Successfully downloaded 1 channels (of 1)\n",
      "[2021-11-25 00:45:13,005] - obspy.clients.fdsn.mass_downloader - INFO: Client 'GEONET' - Launching basic QC checks...\n",
      "[2021-11-25 00:45:13,010] - obspy.clients.fdsn.mass_downloader - INFO: Client 'GEONET' - Downloaded 0.0 MB [3.69 KB/sec] of data, 0.0 MB of which were discarded afterwards.\n",
      "[2021-11-25 00:45:13,011] - obspy.clients.fdsn.mass_downloader - INFO: Client 'GEONET' - Status for 1 time intervals/channels after downloading: DOWNLOADED\n",
      "[2021-11-25 00:45:13,014] - obspy.clients.fdsn.mass_downloader - INFO: Client 'GEONET' - No station information to download.\n",
      "[2021-11-25 00:45:13,014] - obspy.clients.fdsn.mass_downloader - INFO: ============================== Final report\n",
      "[2021-11-25 00:45:13,015] - obspy.clients.fdsn.mass_downloader - INFO: 0 MiniSEED files [0.0 MB] already existed.\n",
      "[2021-11-25 00:45:13,015] - obspy.clients.fdsn.mass_downloader - INFO: 1 StationXML files [0.0 MB] already existed.\n",
      "[2021-11-25 00:45:13,016] - obspy.clients.fdsn.mass_downloader - INFO: Client 'GEONET' - Acquired 1 MiniSEED files [0.0 MB].\n",
      "[2021-11-25 00:45:13,016] - obspy.clients.fdsn.mass_downloader - INFO: Client 'GEONET' - Acquired 0 StationXML files [0.0 MB].\n",
      "[2021-11-25 00:45:13,016] - obspy.clients.fdsn.mass_downloader - INFO: Downloaded 0.0 MB in total.\n",
      "[2021-11-25 00:45:13,021] - obspy.clients.fdsn.mass_downloader - INFO: Initializing FDSN client(s) for GEONET.\n",
      "[2021-11-25 00:45:13,025] - obspy.clients.fdsn.mass_downloader - INFO: Successfully initialized 1 client(s): GEONET.\n",
      "[2021-11-25 00:45:13,026] - obspy.clients.fdsn.mass_downloader - INFO: Total acquired or preexisting stations: 0\n",
      "[2021-11-25 00:45:13,026] - obspy.clients.fdsn.mass_downloader - INFO: Client 'GEONET' - Requesting unreliable availability.\n"
     ]
    },
    {
     "name": "stdout",
     "output_type": "stream",
     "text": [
      "=================================================================\n",
      "Initiating mass download request.\n"
     ]
    },
    {
     "name": "stderr",
     "output_type": "stream",
     "text": [
      "[2021-11-25 00:45:13,615] - obspy.clients.fdsn.mass_downloader - INFO: Client 'GEONET' - Successfully requested availability (0.59 seconds)\n",
      "[2021-11-25 00:45:13,616] - obspy.clients.fdsn.mass_downloader - INFO: Client 'GEONET' - Found 1 stations (1 channels).\n",
      "[2021-11-25 00:45:13,617] - obspy.clients.fdsn.mass_downloader - INFO: Client 'GEONET' - Will attempt to download data from 1 stations.\n",
      "[2021-11-25 00:45:13,618] - obspy.clients.fdsn.mass_downloader - INFO: Client 'GEONET' - Status for 1 time intervals/channels before downloading: NEEDS_DOWNLOADING\n",
      "[2021-11-25 00:45:14,747] - obspy.clients.fdsn.mass_downloader - INFO: Client 'GEONET' - Successfully downloaded 1 channels (of 1)\n",
      "[2021-11-25 00:45:14,754] - obspy.clients.fdsn.mass_downloader - INFO: Client 'GEONET' - Launching basic QC checks...\n",
      "[2021-11-25 00:45:14,762] - obspy.clients.fdsn.mass_downloader - INFO: Client 'GEONET' - Downloaded 0.0 MB [4.43 KB/sec] of data, 0.0 MB of which were discarded afterwards.\n",
      "[2021-11-25 00:45:14,762] - obspy.clients.fdsn.mass_downloader - INFO: Client 'GEONET' - Status for 1 time intervals/channels after downloading: DOWNLOADED\n",
      "[2021-11-25 00:45:14,764] - obspy.clients.fdsn.mass_downloader - INFO: Client 'GEONET' - No station information to download.\n",
      "[2021-11-25 00:45:14,765] - obspy.clients.fdsn.mass_downloader - INFO: ============================== Final report\n",
      "[2021-11-25 00:45:14,770] - obspy.clients.fdsn.mass_downloader - INFO: 0 MiniSEED files [0.0 MB] already existed.\n",
      "[2021-11-25 00:45:14,771] - obspy.clients.fdsn.mass_downloader - INFO: 1 StationXML files [0.0 MB] already existed.\n",
      "[2021-11-25 00:45:14,771] - obspy.clients.fdsn.mass_downloader - INFO: Client 'GEONET' - Acquired 1 MiniSEED files [0.0 MB].\n",
      "[2021-11-25 00:45:14,771] - obspy.clients.fdsn.mass_downloader - INFO: Client 'GEONET' - Acquired 0 StationXML files [0.0 MB].\n",
      "[2021-11-25 00:45:14,771] - obspy.clients.fdsn.mass_downloader - INFO: Downloaded 0.0 MB in total.\n",
      "[2021-11-25 00:45:14,774] - obspy.clients.fdsn.mass_downloader - INFO: Initializing FDSN client(s) for GEONET.\n",
      "[2021-11-25 00:45:14,777] - obspy.clients.fdsn.mass_downloader - INFO: Successfully initialized 1 client(s): GEONET.\n",
      "[2021-11-25 00:45:14,778] - obspy.clients.fdsn.mass_downloader - INFO: Total acquired or preexisting stations: 0\n",
      "[2021-11-25 00:45:14,778] - obspy.clients.fdsn.mass_downloader - INFO: Client 'GEONET' - Requesting unreliable availability.\n"
     ]
    },
    {
     "name": "stdout",
     "output_type": "stream",
     "text": [
      "=================================================================\n",
      "Initiating mass download request.\n"
     ]
    },
    {
     "name": "stderr",
     "output_type": "stream",
     "text": [
      "[2021-11-25 00:45:15,311] - obspy.clients.fdsn.mass_downloader - INFO: Client 'GEONET' - Successfully requested availability (0.53 seconds)\n",
      "[2021-11-25 00:45:15,312] - obspy.clients.fdsn.mass_downloader - INFO: Client 'GEONET' - Found 1 stations (1 channels).\n",
      "[2021-11-25 00:45:15,312] - obspy.clients.fdsn.mass_downloader - INFO: Client 'GEONET' - Will attempt to download data from 1 stations.\n",
      "[2021-11-25 00:45:15,313] - obspy.clients.fdsn.mass_downloader - INFO: Client 'GEONET' - Status for 1 time intervals/channels before downloading: NEEDS_DOWNLOADING\n",
      "[2021-11-25 00:45:16,512] - obspy.clients.fdsn.mass_downloader - INFO: Client 'GEONET' - Successfully downloaded 1 channels (of 1)\n",
      "[2021-11-25 00:45:16,514] - obspy.clients.fdsn.mass_downloader - INFO: Client 'GEONET' - Launching basic QC checks...\n",
      "[2021-11-25 00:45:16,517] - obspy.clients.fdsn.mass_downloader - INFO: Client 'GEONET' - Downloaded 0.0 MB [3.34 KB/sec] of data, 0.0 MB of which were discarded afterwards.\n",
      "[2021-11-25 00:45:16,517] - obspy.clients.fdsn.mass_downloader - INFO: Client 'GEONET' - Status for 1 time intervals/channels after downloading: DOWNLOADED\n",
      "[2021-11-25 00:45:16,519] - obspy.clients.fdsn.mass_downloader - INFO: Client 'GEONET' - No station information to download.\n",
      "[2021-11-25 00:45:16,519] - obspy.clients.fdsn.mass_downloader - INFO: ============================== Final report\n",
      "[2021-11-25 00:45:16,519] - obspy.clients.fdsn.mass_downloader - INFO: 0 MiniSEED files [0.0 MB] already existed.\n",
      "[2021-11-25 00:45:16,520] - obspy.clients.fdsn.mass_downloader - INFO: 1 StationXML files [0.0 MB] already existed.\n",
      "[2021-11-25 00:45:16,520] - obspy.clients.fdsn.mass_downloader - INFO: Client 'GEONET' - Acquired 1 MiniSEED files [0.0 MB].\n",
      "[2021-11-25 00:45:16,520] - obspy.clients.fdsn.mass_downloader - INFO: Client 'GEONET' - Acquired 0 StationXML files [0.0 MB].\n",
      "[2021-11-25 00:45:16,520] - obspy.clients.fdsn.mass_downloader - INFO: Downloaded 0.0 MB in total.\n",
      "[2021-11-25 00:45:16,522] - obspy.clients.fdsn.mass_downloader - INFO: Initializing FDSN client(s) for GEONET.\n",
      "[2021-11-25 00:45:16,525] - obspy.clients.fdsn.mass_downloader - INFO: Successfully initialized 1 client(s): GEONET.\n",
      "[2021-11-25 00:45:16,526] - obspy.clients.fdsn.mass_downloader - INFO: Total acquired or preexisting stations: 0\n",
      "[2021-11-25 00:45:16,526] - obspy.clients.fdsn.mass_downloader - INFO: Client 'GEONET' - Requesting unreliable availability.\n"
     ]
    },
    {
     "name": "stdout",
     "output_type": "stream",
     "text": [
      "=================================================================\n",
      "Initiating mass download request.\n"
     ]
    },
    {
     "name": "stderr",
     "output_type": "stream",
     "text": [
      "[2021-11-25 00:45:17,128] - obspy.clients.fdsn.mass_downloader - INFO: Client 'GEONET' - Successfully requested availability (0.60 seconds)\n",
      "[2021-11-25 00:45:17,129] - obspy.clients.fdsn.mass_downloader - INFO: Client 'GEONET' - Found 1 stations (1 channels).\n",
      "[2021-11-25 00:45:17,129] - obspy.clients.fdsn.mass_downloader - INFO: Client 'GEONET' - Will attempt to download data from 1 stations.\n",
      "[2021-11-25 00:45:17,130] - obspy.clients.fdsn.mass_downloader - INFO: Client 'GEONET' - Status for 1 time intervals/channels before downloading: NEEDS_DOWNLOADING\n",
      "[2021-11-25 00:45:18,348] - obspy.clients.fdsn.mass_downloader - INFO: Client 'GEONET' - Successfully downloaded 1 channels (of 1)\n",
      "[2021-11-25 00:45:18,349] - obspy.clients.fdsn.mass_downloader - INFO: Client 'GEONET' - Launching basic QC checks...\n",
      "[2021-11-25 00:45:18,351] - obspy.clients.fdsn.mass_downloader - INFO: Client 'GEONET' - Downloaded 0.0 MB [4.52 KB/sec] of data, 0.0 MB of which were discarded afterwards.\n",
      "[2021-11-25 00:45:18,351] - obspy.clients.fdsn.mass_downloader - INFO: Client 'GEONET' - Status for 1 time intervals/channels after downloading: DOWNLOADED\n",
      "[2021-11-25 00:45:18,352] - obspy.clients.fdsn.mass_downloader - INFO: Client 'GEONET' - No station information to download.\n",
      "[2021-11-25 00:45:18,353] - obspy.clients.fdsn.mass_downloader - INFO: ============================== Final report\n",
      "[2021-11-25 00:45:18,353] - obspy.clients.fdsn.mass_downloader - INFO: 0 MiniSEED files [0.0 MB] already existed.\n",
      "[2021-11-25 00:45:18,353] - obspy.clients.fdsn.mass_downloader - INFO: 1 StationXML files [0.0 MB] already existed.\n",
      "[2021-11-25 00:45:18,354] - obspy.clients.fdsn.mass_downloader - INFO: Client 'GEONET' - Acquired 1 MiniSEED files [0.0 MB].\n",
      "[2021-11-25 00:45:18,354] - obspy.clients.fdsn.mass_downloader - INFO: Client 'GEONET' - Acquired 0 StationXML files [0.0 MB].\n",
      "[2021-11-25 00:45:18,354] - obspy.clients.fdsn.mass_downloader - INFO: Downloaded 0.0 MB in total.\n",
      "[2021-11-25 00:45:18,355] - obspy.clients.fdsn.mass_downloader - INFO: Initializing FDSN client(s) for GEONET.\n",
      "[2021-11-25 00:45:18,357] - obspy.clients.fdsn.mass_downloader - INFO: Successfully initialized 1 client(s): GEONET.\n",
      "[2021-11-25 00:45:18,358] - obspy.clients.fdsn.mass_downloader - INFO: Total acquired or preexisting stations: 0\n",
      "[2021-11-25 00:45:18,358] - obspy.clients.fdsn.mass_downloader - INFO: Client 'GEONET' - Requesting unreliable availability.\n"
     ]
    },
    {
     "name": "stdout",
     "output_type": "stream",
     "text": [
      "=================================================================\n",
      "Initiating mass download request.\n"
     ]
    },
    {
     "name": "stderr",
     "output_type": "stream",
     "text": [
      "[2021-11-25 00:45:19,614] - obspy.clients.fdsn.mass_downloader - INFO: Client 'GEONET' - Successfully requested availability (1.26 seconds)\n",
      "[2021-11-25 00:45:19,619] - obspy.clients.fdsn.mass_downloader - INFO: Client 'GEONET' - Found 1 stations (1 channels).\n",
      "[2021-11-25 00:45:19,620] - obspy.clients.fdsn.mass_downloader - INFO: Client 'GEONET' - Will attempt to download data from 1 stations.\n",
      "[2021-11-25 00:45:19,620] - obspy.clients.fdsn.mass_downloader - INFO: Client 'GEONET' - Status for 1 time intervals/channels before downloading: NEEDS_DOWNLOADING\n",
      "[2021-11-25 00:45:21,577] - obspy.clients.fdsn.mass_downloader - INFO: Client 'GEONET' - Successfully downloaded 1 channels (of 1)\n",
      "[2021-11-25 00:45:21,578] - obspy.clients.fdsn.mass_downloader - INFO: Client 'GEONET' - Launching basic QC checks...\n",
      "[2021-11-25 00:45:21,584] - obspy.clients.fdsn.mass_downloader - INFO: Client 'GEONET' - Downloaded 0.0 MB [2.30 KB/sec] of data, 0.0 MB of which were discarded afterwards.\n",
      "[2021-11-25 00:45:21,584] - obspy.clients.fdsn.mass_downloader - INFO: Client 'GEONET' - Status for 1 time intervals/channels after downloading: DOWNLOADED\n",
      "[2021-11-25 00:45:21,587] - obspy.clients.fdsn.mass_downloader - INFO: Client 'GEONET' - No station information to download.\n",
      "[2021-11-25 00:45:21,588] - obspy.clients.fdsn.mass_downloader - INFO: ============================== Final report\n",
      "[2021-11-25 00:45:21,588] - obspy.clients.fdsn.mass_downloader - INFO: 0 MiniSEED files [0.0 MB] already existed.\n",
      "[2021-11-25 00:45:21,589] - obspy.clients.fdsn.mass_downloader - INFO: 1 StationXML files [0.0 MB] already existed.\n",
      "[2021-11-25 00:45:21,590] - obspy.clients.fdsn.mass_downloader - INFO: Client 'GEONET' - Acquired 1 MiniSEED files [0.0 MB].\n",
      "[2021-11-25 00:45:21,590] - obspy.clients.fdsn.mass_downloader - INFO: Client 'GEONET' - Acquired 0 StationXML files [0.0 MB].\n",
      "[2021-11-25 00:45:21,591] - obspy.clients.fdsn.mass_downloader - INFO: Downloaded 0.0 MB in total.\n",
      "[2021-11-25 00:45:21,594] - obspy.clients.fdsn.mass_downloader - INFO: Initializing FDSN client(s) for GEONET.\n",
      "[2021-11-25 00:45:21,598] - obspy.clients.fdsn.mass_downloader - INFO: Successfully initialized 1 client(s): GEONET.\n",
      "[2021-11-25 00:45:21,599] - obspy.clients.fdsn.mass_downloader - INFO: Total acquired or preexisting stations: 0\n",
      "[2021-11-25 00:45:21,599] - obspy.clients.fdsn.mass_downloader - INFO: Client 'GEONET' - Requesting unreliable availability.\n"
     ]
    },
    {
     "name": "stdout",
     "output_type": "stream",
     "text": [
      "=================================================================\n",
      "Initiating mass download request.\n"
     ]
    },
    {
     "name": "stderr",
     "output_type": "stream",
     "text": [
      "[2021-11-25 00:45:22,145] - obspy.clients.fdsn.mass_downloader - INFO: Client 'GEONET' - Successfully requested availability (0.55 seconds)\n",
      "[2021-11-25 00:45:22,146] - obspy.clients.fdsn.mass_downloader - INFO: Client 'GEONET' - Found 1 stations (1 channels).\n",
      "[2021-11-25 00:45:22,146] - obspy.clients.fdsn.mass_downloader - INFO: Client 'GEONET' - Will attempt to download data from 1 stations.\n",
      "[2021-11-25 00:45:22,147] - obspy.clients.fdsn.mass_downloader - INFO: Client 'GEONET' - Status for 1 time intervals/channels before downloading: NEEDS_DOWNLOADING\n",
      "[2021-11-25 00:45:23,317] - obspy.clients.fdsn.mass_downloader - INFO: Client 'GEONET' - Successfully downloaded 1 channels (of 1)\n",
      "[2021-11-25 00:45:23,318] - obspy.clients.fdsn.mass_downloader - INFO: Client 'GEONET' - Launching basic QC checks...\n",
      "[2021-11-25 00:45:23,324] - obspy.clients.fdsn.mass_downloader - INFO: Client 'GEONET' - Downloaded 0.0 MB [3.85 KB/sec] of data, 0.0 MB of which were discarded afterwards.\n",
      "[2021-11-25 00:45:23,324] - obspy.clients.fdsn.mass_downloader - INFO: Client 'GEONET' - Status for 1 time intervals/channels after downloading: DOWNLOADED\n",
      "[2021-11-25 00:45:23,330] - obspy.clients.fdsn.mass_downloader - INFO: Client 'GEONET' - No station information to download.\n",
      "[2021-11-25 00:45:23,334] - obspy.clients.fdsn.mass_downloader - INFO: ============================== Final report\n",
      "[2021-11-25 00:45:23,335] - obspy.clients.fdsn.mass_downloader - INFO: 0 MiniSEED files [0.0 MB] already existed.\n",
      "[2021-11-25 00:45:23,336] - obspy.clients.fdsn.mass_downloader - INFO: 1 StationXML files [0.0 MB] already existed.\n",
      "[2021-11-25 00:45:23,337] - obspy.clients.fdsn.mass_downloader - INFO: Client 'GEONET' - Acquired 1 MiniSEED files [0.0 MB].\n",
      "[2021-11-25 00:45:23,338] - obspy.clients.fdsn.mass_downloader - INFO: Client 'GEONET' - Acquired 0 StationXML files [0.0 MB].\n",
      "[2021-11-25 00:45:23,338] - obspy.clients.fdsn.mass_downloader - INFO: Downloaded 0.0 MB in total.\n",
      "[2021-11-25 00:45:23,340] - obspy.clients.fdsn.mass_downloader - INFO: Initializing FDSN client(s) for GEONET.\n",
      "[2021-11-25 00:45:23,345] - obspy.clients.fdsn.mass_downloader - INFO: Successfully initialized 1 client(s): GEONET.\n",
      "[2021-11-25 00:45:23,347] - obspy.clients.fdsn.mass_downloader - INFO: Total acquired or preexisting stations: 0\n",
      "[2021-11-25 00:45:23,348] - obspy.clients.fdsn.mass_downloader - INFO: Client 'GEONET' - Requesting unreliable availability.\n"
     ]
    },
    {
     "name": "stdout",
     "output_type": "stream",
     "text": [
      "=================================================================\n",
      "Initiating mass download request.\n"
     ]
    },
    {
     "name": "stderr",
     "output_type": "stream",
     "text": [
      "[2021-11-25 00:45:23,887] - obspy.clients.fdsn.mass_downloader - INFO: Client 'GEONET' - Successfully requested availability (0.54 seconds)\n",
      "[2021-11-25 00:45:23,889] - obspy.clients.fdsn.mass_downloader - INFO: Client 'GEONET' - Found 1 stations (1 channels).\n",
      "[2021-11-25 00:45:23,889] - obspy.clients.fdsn.mass_downloader - INFO: Client 'GEONET' - Will attempt to download data from 1 stations.\n",
      "[2021-11-25 00:45:23,890] - obspy.clients.fdsn.mass_downloader - INFO: Client 'GEONET' - Status for 1 time intervals/channels before downloading: NEEDS_DOWNLOADING\n",
      "[2021-11-25 00:45:25,020] - obspy.clients.fdsn.mass_downloader - INFO: Client 'GEONET' - Successfully downloaded 1 channels (of 1)\n",
      "[2021-11-25 00:45:25,069] - obspy.clients.fdsn.mass_downloader - INFO: Client 'GEONET' - Launching basic QC checks...\n",
      "[2021-11-25 00:45:25,086] - obspy.clients.fdsn.mass_downloader - INFO: Client 'GEONET' - Downloaded 0.0 MB [2.97 KB/sec] of data, 0.0 MB of which were discarded afterwards.\n",
      "[2021-11-25 00:45:25,090] - obspy.clients.fdsn.mass_downloader - INFO: Client 'GEONET' - Status for 1 time intervals/channels after downloading: DOWNLOADED\n",
      "[2021-11-25 00:45:25,101] - obspy.clients.fdsn.mass_downloader - INFO: Client 'GEONET' - No station information to download.\n",
      "[2021-11-25 00:45:25,105] - obspy.clients.fdsn.mass_downloader - INFO: ============================== Final report\n",
      "[2021-11-25 00:45:25,107] - obspy.clients.fdsn.mass_downloader - INFO: 0 MiniSEED files [0.0 MB] already existed.\n",
      "[2021-11-25 00:45:25,107] - obspy.clients.fdsn.mass_downloader - INFO: 1 StationXML files [0.0 MB] already existed.\n",
      "[2021-11-25 00:45:25,108] - obspy.clients.fdsn.mass_downloader - INFO: Client 'GEONET' - Acquired 1 MiniSEED files [0.0 MB].\n",
      "[2021-11-25 00:45:25,112] - obspy.clients.fdsn.mass_downloader - INFO: Client 'GEONET' - Acquired 0 StationXML files [0.0 MB].\n",
      "[2021-11-25 00:45:25,113] - obspy.clients.fdsn.mass_downloader - INFO: Downloaded 0.0 MB in total.\n",
      "[2021-11-25 00:45:25,120] - obspy.clients.fdsn.mass_downloader - INFO: Initializing FDSN client(s) for GEONET.\n",
      "[2021-11-25 00:45:25,126] - obspy.clients.fdsn.mass_downloader - INFO: Successfully initialized 1 client(s): GEONET.\n",
      "[2021-11-25 00:45:25,128] - obspy.clients.fdsn.mass_downloader - INFO: Total acquired or preexisting stations: 0\n",
      "[2021-11-25 00:45:25,128] - obspy.clients.fdsn.mass_downloader - INFO: Client 'GEONET' - Requesting unreliable availability.\n"
     ]
    },
    {
     "name": "stdout",
     "output_type": "stream",
     "text": [
      "=================================================================\n",
      "Initiating mass download request.\n"
     ]
    },
    {
     "name": "stderr",
     "output_type": "stream",
     "text": [
      "[2021-11-25 00:45:26,319] - obspy.clients.fdsn.mass_downloader - INFO: Client 'GEONET' - Successfully requested availability (1.19 seconds)\n",
      "[2021-11-25 00:45:26,319] - obspy.clients.fdsn.mass_downloader - INFO: Client 'GEONET' - Found 1 stations (1 channels).\n",
      "[2021-11-25 00:45:26,319] - obspy.clients.fdsn.mass_downloader - INFO: Client 'GEONET' - Will attempt to download data from 1 stations.\n",
      "[2021-11-25 00:45:26,320] - obspy.clients.fdsn.mass_downloader - INFO: Client 'GEONET' - Status for 1 time intervals/channels before downloading: NEEDS_DOWNLOADING\n",
      "[2021-11-25 00:45:27,468] - obspy.clients.fdsn.mass_downloader - INFO: Client 'GEONET' - Successfully downloaded 1 channels (of 1)\n",
      "[2021-11-25 00:45:27,470] - obspy.clients.fdsn.mass_downloader - INFO: Client 'GEONET' - Launching basic QC checks...\n",
      "[2021-11-25 00:45:27,479] - obspy.clients.fdsn.mass_downloader - INFO: Client 'GEONET' - Downloaded 0.0 MB [3.92 KB/sec] of data, 0.0 MB of which were discarded afterwards.\n",
      "[2021-11-25 00:45:27,480] - obspy.clients.fdsn.mass_downloader - INFO: Client 'GEONET' - Status for 1 time intervals/channels after downloading: DOWNLOADED\n",
      "[2021-11-25 00:45:27,482] - obspy.clients.fdsn.mass_downloader - INFO: Client 'GEONET' - No station information to download.\n",
      "[2021-11-25 00:45:27,483] - obspy.clients.fdsn.mass_downloader - INFO: ============================== Final report\n",
      "[2021-11-25 00:45:27,483] - obspy.clients.fdsn.mass_downloader - INFO: 0 MiniSEED files [0.0 MB] already existed.\n",
      "[2021-11-25 00:45:27,483] - obspy.clients.fdsn.mass_downloader - INFO: 1 StationXML files [0.0 MB] already existed.\n",
      "[2021-11-25 00:45:27,484] - obspy.clients.fdsn.mass_downloader - INFO: Client 'GEONET' - Acquired 1 MiniSEED files [0.0 MB].\n",
      "[2021-11-25 00:45:27,484] - obspy.clients.fdsn.mass_downloader - INFO: Client 'GEONET' - Acquired 0 StationXML files [0.0 MB].\n",
      "[2021-11-25 00:45:27,484] - obspy.clients.fdsn.mass_downloader - INFO: Downloaded 0.0 MB in total.\n",
      "[2021-11-25 00:45:27,490] - obspy.clients.fdsn.mass_downloader - INFO: Initializing FDSN client(s) for GEONET.\n",
      "[2021-11-25 00:45:27,495] - obspy.clients.fdsn.mass_downloader - INFO: Successfully initialized 1 client(s): GEONET.\n",
      "[2021-11-25 00:45:27,496] - obspy.clients.fdsn.mass_downloader - INFO: Total acquired or preexisting stations: 0\n",
      "[2021-11-25 00:45:27,496] - obspy.clients.fdsn.mass_downloader - INFO: Client 'GEONET' - Requesting unreliable availability.\n"
     ]
    },
    {
     "name": "stdout",
     "output_type": "stream",
     "text": [
      "=================================================================\n",
      "Initiating mass download request.\n"
     ]
    },
    {
     "name": "stderr",
     "output_type": "stream",
     "text": [
      "[2021-11-25 00:45:28,041] - obspy.clients.fdsn.mass_downloader - INFO: Client 'GEONET' - Successfully requested availability (0.54 seconds)\n",
      "[2021-11-25 00:45:28,043] - obspy.clients.fdsn.mass_downloader - INFO: Client 'GEONET' - Found 1 stations (1 channels).\n",
      "[2021-11-25 00:45:28,043] - obspy.clients.fdsn.mass_downloader - INFO: Client 'GEONET' - Will attempt to download data from 1 stations.\n",
      "[2021-11-25 00:45:28,044] - obspy.clients.fdsn.mass_downloader - INFO: Client 'GEONET' - Status for 1 time intervals/channels before downloading: NEEDS_DOWNLOADING\n",
      "[2021-11-25 00:45:29,760] - obspy.clients.fdsn.mass_downloader - INFO: Client 'GEONET' - Successfully downloaded 1 channels (of 1)\n",
      "[2021-11-25 00:45:29,766] - obspy.clients.fdsn.mass_downloader - INFO: Client 'GEONET' - Launching basic QC checks...\n",
      "[2021-11-25 00:45:29,770] - obspy.clients.fdsn.mass_downloader - INFO: Client 'GEONET' - Downloaded 0.0 MB [2.33 KB/sec] of data, 0.0 MB of which were discarded afterwards.\n",
      "[2021-11-25 00:45:29,770] - obspy.clients.fdsn.mass_downloader - INFO: Client 'GEONET' - Status for 1 time intervals/channels after downloading: DOWNLOADED\n",
      "[2021-11-25 00:45:29,772] - obspy.clients.fdsn.mass_downloader - INFO: Client 'GEONET' - No station information to download.\n",
      "[2021-11-25 00:45:29,773] - obspy.clients.fdsn.mass_downloader - INFO: ============================== Final report\n",
      "[2021-11-25 00:45:29,774] - obspy.clients.fdsn.mass_downloader - INFO: 0 MiniSEED files [0.0 MB] already existed.\n",
      "[2021-11-25 00:45:29,774] - obspy.clients.fdsn.mass_downloader - INFO: 1 StationXML files [0.0 MB] already existed.\n",
      "[2021-11-25 00:45:29,774] - obspy.clients.fdsn.mass_downloader - INFO: Client 'GEONET' - Acquired 1 MiniSEED files [0.0 MB].\n",
      "[2021-11-25 00:45:29,775] - obspy.clients.fdsn.mass_downloader - INFO: Client 'GEONET' - Acquired 0 StationXML files [0.0 MB].\n",
      "[2021-11-25 00:45:29,775] - obspy.clients.fdsn.mass_downloader - INFO: Downloaded 0.0 MB in total.\n",
      "[2021-11-25 00:45:29,777] - obspy.clients.fdsn.mass_downloader - INFO: Initializing FDSN client(s) for GEONET.\n",
      "[2021-11-25 00:45:29,781] - obspy.clients.fdsn.mass_downloader - INFO: Successfully initialized 1 client(s): GEONET.\n",
      "[2021-11-25 00:45:29,784] - obspy.clients.fdsn.mass_downloader - INFO: Total acquired or preexisting stations: 0\n",
      "[2021-11-25 00:45:29,784] - obspy.clients.fdsn.mass_downloader - INFO: Client 'GEONET' - Requesting unreliable availability.\n"
     ]
    },
    {
     "name": "stdout",
     "output_type": "stream",
     "text": [
      "=================================================================\n",
      "Initiating mass download request.\n"
     ]
    },
    {
     "name": "stderr",
     "output_type": "stream",
     "text": [
      "[2021-11-25 00:45:30,412] - obspy.clients.fdsn.mass_downloader - INFO: Client 'GEONET' - Successfully requested availability (0.63 seconds)\n",
      "[2021-11-25 00:45:30,413] - obspy.clients.fdsn.mass_downloader - INFO: Client 'GEONET' - Found 1 stations (1 channels).\n",
      "[2021-11-25 00:45:30,414] - obspy.clients.fdsn.mass_downloader - INFO: Client 'GEONET' - Will attempt to download data from 1 stations.\n",
      "[2021-11-25 00:45:30,415] - obspy.clients.fdsn.mass_downloader - INFO: Client 'GEONET' - Status for 1 time intervals/channels before downloading: NEEDS_DOWNLOADING\n",
      "[2021-11-25 00:45:31,372] - obspy.clients.fdsn.mass_downloader - INFO: Client 'GEONET' - Successfully downloaded 1 channels (of 1)\n",
      "[2021-11-25 00:45:31,373] - obspy.clients.fdsn.mass_downloader - INFO: Client 'GEONET' - Launching basic QC checks...\n",
      "[2021-11-25 00:45:31,378] - obspy.clients.fdsn.mass_downloader - INFO: Client 'GEONET' - Downloaded 0.0 MB [3.66 KB/sec] of data, 0.0 MB of which were discarded afterwards.\n",
      "[2021-11-25 00:45:31,378] - obspy.clients.fdsn.mass_downloader - INFO: Client 'GEONET' - Status for 1 time intervals/channels after downloading: DOWNLOADED\n",
      "[2021-11-25 00:45:31,381] - obspy.clients.fdsn.mass_downloader - INFO: Client 'GEONET' - No station information to download.\n",
      "[2021-11-25 00:45:31,382] - obspy.clients.fdsn.mass_downloader - INFO: ============================== Final report\n",
      "[2021-11-25 00:45:31,383] - obspy.clients.fdsn.mass_downloader - INFO: 0 MiniSEED files [0.0 MB] already existed.\n",
      "[2021-11-25 00:45:31,383] - obspy.clients.fdsn.mass_downloader - INFO: 1 StationXML files [0.0 MB] already existed.\n",
      "[2021-11-25 00:45:31,384] - obspy.clients.fdsn.mass_downloader - INFO: Client 'GEONET' - Acquired 1 MiniSEED files [0.0 MB].\n",
      "[2021-11-25 00:45:31,384] - obspy.clients.fdsn.mass_downloader - INFO: Client 'GEONET' - Acquired 0 StationXML files [0.0 MB].\n",
      "[2021-11-25 00:45:31,384] - obspy.clients.fdsn.mass_downloader - INFO: Downloaded 0.0 MB in total.\n",
      "[2021-11-25 00:45:31,385] - obspy.clients.fdsn.mass_downloader - INFO: Initializing FDSN client(s) for GEONET.\n",
      "[2021-11-25 00:45:31,388] - obspy.clients.fdsn.mass_downloader - INFO: Successfully initialized 1 client(s): GEONET.\n",
      "[2021-11-25 00:45:31,389] - obspy.clients.fdsn.mass_downloader - INFO: Total acquired or preexisting stations: 0\n",
      "[2021-11-25 00:45:31,390] - obspy.clients.fdsn.mass_downloader - INFO: Client 'GEONET' - Requesting unreliable availability.\n"
     ]
    },
    {
     "name": "stdout",
     "output_type": "stream",
     "text": [
      "=================================================================\n",
      "Initiating mass download request.\n"
     ]
    },
    {
     "name": "stderr",
     "output_type": "stream",
     "text": [
      "[2021-11-25 00:45:31,945] - obspy.clients.fdsn.mass_downloader - INFO: Client 'GEONET' - Successfully requested availability (0.56 seconds)\n",
      "[2021-11-25 00:45:31,946] - obspy.clients.fdsn.mass_downloader - INFO: Client 'GEONET' - Found 1 stations (1 channels).\n",
      "[2021-11-25 00:45:31,947] - obspy.clients.fdsn.mass_downloader - INFO: Client 'GEONET' - Will attempt to download data from 1 stations.\n",
      "[2021-11-25 00:45:31,948] - obspy.clients.fdsn.mass_downloader - INFO: Client 'GEONET' - Status for 1 time intervals/channels before downloading: NEEDS_DOWNLOADING\n",
      "[2021-11-25 00:45:32,915] - obspy.clients.fdsn.mass_downloader - INFO: Client 'GEONET' - Successfully downloaded 1 channels (of 1)\n",
      "[2021-11-25 00:45:32,986] - obspy.clients.fdsn.mass_downloader - INFO: Client 'GEONET' - Launching basic QC checks...\n",
      "[2021-11-25 00:45:33,010] - obspy.clients.fdsn.mass_downloader - INFO: Client 'GEONET' - Downloaded 0.0 MB [3.88 KB/sec] of data, 0.0 MB of which were discarded afterwards.\n",
      "[2021-11-25 00:45:33,012] - obspy.clients.fdsn.mass_downloader - INFO: Client 'GEONET' - Status for 1 time intervals/channels after downloading: DOWNLOADED\n",
      "[2021-11-25 00:45:33,019] - obspy.clients.fdsn.mass_downloader - INFO: Client 'GEONET' - No station information to download.\n",
      "[2021-11-25 00:45:33,023] - obspy.clients.fdsn.mass_downloader - INFO: ============================== Final report\n",
      "[2021-11-25 00:45:33,025] - obspy.clients.fdsn.mass_downloader - INFO: 0 MiniSEED files [0.0 MB] already existed.\n",
      "[2021-11-25 00:45:33,026] - obspy.clients.fdsn.mass_downloader - INFO: 1 StationXML files [0.0 MB] already existed.\n",
      "[2021-11-25 00:45:33,027] - obspy.clients.fdsn.mass_downloader - INFO: Client 'GEONET' - Acquired 1 MiniSEED files [0.0 MB].\n",
      "[2021-11-25 00:45:33,028] - obspy.clients.fdsn.mass_downloader - INFO: Client 'GEONET' - Acquired 0 StationXML files [0.0 MB].\n",
      "[2021-11-25 00:45:33,030] - obspy.clients.fdsn.mass_downloader - INFO: Downloaded 0.0 MB in total.\n",
      "[2021-11-25 00:45:33,037] - obspy.clients.fdsn.mass_downloader - INFO: Initializing FDSN client(s) for GEONET.\n",
      "[2021-11-25 00:45:33,052] - obspy.clients.fdsn.mass_downloader - INFO: Successfully initialized 1 client(s): GEONET.\n",
      "[2021-11-25 00:45:33,054] - obspy.clients.fdsn.mass_downloader - INFO: Total acquired or preexisting stations: 0\n",
      "[2021-11-25 00:45:33,055] - obspy.clients.fdsn.mass_downloader - INFO: Client 'GEONET' - Requesting unreliable availability.\n"
     ]
    },
    {
     "name": "stdout",
     "output_type": "stream",
     "text": [
      "=================================================================\n",
      "Initiating mass download request.\n"
     ]
    },
    {
     "name": "stderr",
     "output_type": "stream",
     "text": [
      "[2021-11-25 00:45:33,733] - obspy.clients.fdsn.mass_downloader - INFO: Client 'GEONET' - Successfully requested availability (0.68 seconds)\n",
      "[2021-11-25 00:45:33,735] - obspy.clients.fdsn.mass_downloader - INFO: Client 'GEONET' - Found 1 stations (1 channels).\n",
      "[2021-11-25 00:45:33,736] - obspy.clients.fdsn.mass_downloader - INFO: Client 'GEONET' - Will attempt to download data from 1 stations.\n",
      "[2021-11-25 00:45:33,740] - obspy.clients.fdsn.mass_downloader - INFO: Client 'GEONET' - Status for 1 time intervals/channels before downloading: NEEDS_DOWNLOADING\n",
      "[2021-11-25 00:45:34,944] - obspy.clients.fdsn.mass_downloader - INFO: Client 'GEONET' - Successfully downloaded 1 channels (of 1)\n",
      "[2021-11-25 00:45:34,946] - obspy.clients.fdsn.mass_downloader - INFO: Client 'GEONET' - Launching basic QC checks...\n",
      "[2021-11-25 00:45:34,949] - obspy.clients.fdsn.mass_downloader - INFO: Client 'GEONET' - Downloaded 0.0 MB [3.33 KB/sec] of data, 0.0 MB of which were discarded afterwards.\n",
      "[2021-11-25 00:45:34,949] - obspy.clients.fdsn.mass_downloader - INFO: Client 'GEONET' - Status for 1 time intervals/channels after downloading: DOWNLOADED\n",
      "[2021-11-25 00:45:34,951] - obspy.clients.fdsn.mass_downloader - INFO: Client 'GEONET' - No station information to download.\n",
      "[2021-11-25 00:45:34,952] - obspy.clients.fdsn.mass_downloader - INFO: ============================== Final report\n",
      "[2021-11-25 00:45:34,952] - obspy.clients.fdsn.mass_downloader - INFO: 0 MiniSEED files [0.0 MB] already existed.\n",
      "[2021-11-25 00:45:34,952] - obspy.clients.fdsn.mass_downloader - INFO: 1 StationXML files [0.0 MB] already existed.\n",
      "[2021-11-25 00:45:34,953] - obspy.clients.fdsn.mass_downloader - INFO: Client 'GEONET' - Acquired 1 MiniSEED files [0.0 MB].\n",
      "[2021-11-25 00:45:34,953] - obspy.clients.fdsn.mass_downloader - INFO: Client 'GEONET' - Acquired 0 StationXML files [0.0 MB].\n",
      "[2021-11-25 00:45:34,953] - obspy.clients.fdsn.mass_downloader - INFO: Downloaded 0.0 MB in total.\n",
      "[2021-11-25 00:45:34,957] - obspy.clients.fdsn.mass_downloader - INFO: Initializing FDSN client(s) for GEONET.\n",
      "[2021-11-25 00:45:34,962] - obspy.clients.fdsn.mass_downloader - INFO: Successfully initialized 1 client(s): GEONET.\n",
      "[2021-11-25 00:45:34,962] - obspy.clients.fdsn.mass_downloader - INFO: Total acquired or preexisting stations: 0\n",
      "[2021-11-25 00:45:34,963] - obspy.clients.fdsn.mass_downloader - INFO: Client 'GEONET' - Requesting unreliable availability.\n"
     ]
    },
    {
     "name": "stdout",
     "output_type": "stream",
     "text": [
      "=================================================================\n",
      "Initiating mass download request.\n"
     ]
    },
    {
     "name": "stderr",
     "output_type": "stream",
     "text": [
      "[2021-11-25 00:45:35,617] - obspy.clients.fdsn.mass_downloader - INFO: Client 'GEONET' - Successfully requested availability (0.65 seconds)\n",
      "[2021-11-25 00:45:35,618] - obspy.clients.fdsn.mass_downloader - INFO: Client 'GEONET' - Found 1 stations (1 channels).\n",
      "[2021-11-25 00:45:35,618] - obspy.clients.fdsn.mass_downloader - INFO: Client 'GEONET' - Will attempt to download data from 1 stations.\n",
      "[2021-11-25 00:45:35,619] - obspy.clients.fdsn.mass_downloader - INFO: Client 'GEONET' - Status for 1 time intervals/channels before downloading: NEEDS_DOWNLOADING\n",
      "[2021-11-25 00:45:36,791] - obspy.clients.fdsn.mass_downloader - INFO: Client 'GEONET' - Successfully downloaded 1 channels (of 1)\n",
      "[2021-11-25 00:45:36,796] - obspy.clients.fdsn.mass_downloader - INFO: Client 'GEONET' - Launching basic QC checks...\n",
      "[2021-11-25 00:45:36,810] - obspy.clients.fdsn.mass_downloader - INFO: Client 'GEONET' - Downloaded 0.0 MB [3.40 KB/sec] of data, 0.0 MB of which were discarded afterwards.\n",
      "[2021-11-25 00:45:36,811] - obspy.clients.fdsn.mass_downloader - INFO: Client 'GEONET' - Status for 1 time intervals/channels after downloading: DOWNLOADED\n",
      "[2021-11-25 00:45:36,816] - obspy.clients.fdsn.mass_downloader - INFO: Client 'GEONET' - No station information to download.\n",
      "[2021-11-25 00:45:36,817] - obspy.clients.fdsn.mass_downloader - INFO: ============================== Final report\n",
      "[2021-11-25 00:45:36,818] - obspy.clients.fdsn.mass_downloader - INFO: 0 MiniSEED files [0.0 MB] already existed.\n",
      "[2021-11-25 00:45:36,820] - obspy.clients.fdsn.mass_downloader - INFO: 1 StationXML files [0.0 MB] already existed.\n",
      "[2021-11-25 00:45:36,821] - obspy.clients.fdsn.mass_downloader - INFO: Client 'GEONET' - Acquired 1 MiniSEED files [0.0 MB].\n",
      "[2021-11-25 00:45:36,821] - obspy.clients.fdsn.mass_downloader - INFO: Client 'GEONET' - Acquired 0 StationXML files [0.0 MB].\n",
      "[2021-11-25 00:45:36,822] - obspy.clients.fdsn.mass_downloader - INFO: Downloaded 0.0 MB in total.\n",
      "[2021-11-25 00:45:36,830] - obspy.clients.fdsn.mass_downloader - INFO: Initializing FDSN client(s) for GEONET.\n",
      "[2021-11-25 00:45:36,837] - obspy.clients.fdsn.mass_downloader - INFO: Successfully initialized 1 client(s): GEONET.\n",
      "[2021-11-25 00:45:36,838] - obspy.clients.fdsn.mass_downloader - INFO: Total acquired or preexisting stations: 0\n",
      "[2021-11-25 00:45:36,839] - obspy.clients.fdsn.mass_downloader - INFO: Client 'GEONET' - Requesting unreliable availability.\n"
     ]
    },
    {
     "name": "stdout",
     "output_type": "stream",
     "text": [
      "=================================================================\n",
      "Initiating mass download request.\n"
     ]
    },
    {
     "name": "stderr",
     "output_type": "stream",
     "text": [
      "[2021-11-25 00:45:38,067] - obspy.clients.fdsn.mass_downloader - INFO: Client 'GEONET' - Successfully requested availability (1.23 seconds)\n",
      "[2021-11-25 00:45:38,072] - obspy.clients.fdsn.mass_downloader - INFO: Client 'GEONET' - Found 1 stations (1 channels).\n",
      "[2021-11-25 00:45:38,073] - obspy.clients.fdsn.mass_downloader - INFO: Client 'GEONET' - Will attempt to download data from 1 stations.\n",
      "[2021-11-25 00:45:38,073] - obspy.clients.fdsn.mass_downloader - INFO: Client 'GEONET' - Status for 1 time intervals/channels before downloading: NEEDS_DOWNLOADING\n",
      "[2021-11-25 00:45:39,197] - obspy.clients.fdsn.mass_downloader - INFO: Client 'GEONET' - Successfully downloaded 1 channels (of 1)\n",
      "[2021-11-25 00:45:39,202] - obspy.clients.fdsn.mass_downloader - INFO: Client 'GEONET' - Launching basic QC checks...\n",
      "[2021-11-25 00:45:39,209] - obspy.clients.fdsn.mass_downloader - INFO: Client 'GEONET' - Downloaded 0.0 MB [4.91 KB/sec] of data, 0.0 MB of which were discarded afterwards.\n",
      "[2021-11-25 00:45:39,210] - obspy.clients.fdsn.mass_downloader - INFO: Client 'GEONET' - Status for 1 time intervals/channels after downloading: DOWNLOADED\n",
      "[2021-11-25 00:45:39,214] - obspy.clients.fdsn.mass_downloader - INFO: Client 'GEONET' - No station information to download.\n",
      "[2021-11-25 00:45:39,215] - obspy.clients.fdsn.mass_downloader - INFO: ============================== Final report\n",
      "[2021-11-25 00:45:39,216] - obspy.clients.fdsn.mass_downloader - INFO: 0 MiniSEED files [0.0 MB] already existed.\n",
      "[2021-11-25 00:45:39,216] - obspy.clients.fdsn.mass_downloader - INFO: 1 StationXML files [0.0 MB] already existed.\n",
      "[2021-11-25 00:45:39,216] - obspy.clients.fdsn.mass_downloader - INFO: Client 'GEONET' - Acquired 1 MiniSEED files [0.0 MB].\n",
      "[2021-11-25 00:45:39,216] - obspy.clients.fdsn.mass_downloader - INFO: Client 'GEONET' - Acquired 0 StationXML files [0.0 MB].\n",
      "[2021-11-25 00:45:39,217] - obspy.clients.fdsn.mass_downloader - INFO: Downloaded 0.0 MB in total.\n",
      "[2021-11-25 00:45:39,219] - obspy.clients.fdsn.mass_downloader - INFO: Initializing FDSN client(s) for GEONET.\n",
      "[2021-11-25 00:45:39,222] - obspy.clients.fdsn.mass_downloader - INFO: Successfully initialized 1 client(s): GEONET.\n",
      "[2021-11-25 00:45:39,223] - obspy.clients.fdsn.mass_downloader - INFO: Total acquired or preexisting stations: 0\n",
      "[2021-11-25 00:45:39,223] - obspy.clients.fdsn.mass_downloader - INFO: Client 'GEONET' - Requesting unreliable availability.\n"
     ]
    },
    {
     "name": "stdout",
     "output_type": "stream",
     "text": [
      "=================================================================\n",
      "Initiating mass download request.\n"
     ]
    },
    {
     "name": "stderr",
     "output_type": "stream",
     "text": [
      "[2021-11-25 00:45:39,772] - obspy.clients.fdsn.mass_downloader - INFO: Client 'GEONET' - Successfully requested availability (0.55 seconds)\n",
      "[2021-11-25 00:45:39,773] - obspy.clients.fdsn.mass_downloader - INFO: Client 'GEONET' - Found 1 stations (1 channels).\n",
      "[2021-11-25 00:45:39,773] - obspy.clients.fdsn.mass_downloader - INFO: Client 'GEONET' - Will attempt to download data from 1 stations.\n",
      "[2021-11-25 00:45:39,775] - obspy.clients.fdsn.mass_downloader - INFO: Client 'GEONET' - Status for 1 time intervals/channels before downloading: NEEDS_DOWNLOADING\n",
      "[2021-11-25 00:45:40,876] - obspy.clients.fdsn.mass_downloader - INFO: Client 'GEONET' - Successfully downloaded 1 channels (of 1)\n",
      "[2021-11-25 00:45:40,878] - obspy.clients.fdsn.mass_downloader - INFO: Client 'GEONET' - Launching basic QC checks...\n",
      "[2021-11-25 00:45:40,882] - obspy.clients.fdsn.mass_downloader - INFO: Client 'GEONET' - Downloaded 0.0 MB [3.73 KB/sec] of data, 0.0 MB of which were discarded afterwards.\n",
      "[2021-11-25 00:45:40,882] - obspy.clients.fdsn.mass_downloader - INFO: Client 'GEONET' - Status for 1 time intervals/channels after downloading: DOWNLOADED\n",
      "[2021-11-25 00:45:40,887] - obspy.clients.fdsn.mass_downloader - INFO: Client 'GEONET' - No station information to download.\n",
      "[2021-11-25 00:45:40,889] - obspy.clients.fdsn.mass_downloader - INFO: ============================== Final report\n",
      "[2021-11-25 00:45:40,889] - obspy.clients.fdsn.mass_downloader - INFO: 0 MiniSEED files [0.0 MB] already existed.\n",
      "[2021-11-25 00:45:40,889] - obspy.clients.fdsn.mass_downloader - INFO: 1 StationXML files [0.0 MB] already existed.\n",
      "[2021-11-25 00:45:40,890] - obspy.clients.fdsn.mass_downloader - INFO: Client 'GEONET' - Acquired 1 MiniSEED files [0.0 MB].\n",
      "[2021-11-25 00:45:40,890] - obspy.clients.fdsn.mass_downloader - INFO: Client 'GEONET' - Acquired 0 StationXML files [0.0 MB].\n",
      "[2021-11-25 00:45:40,890] - obspy.clients.fdsn.mass_downloader - INFO: Downloaded 0.0 MB in total.\n",
      "[2021-11-25 00:45:40,893] - obspy.clients.fdsn.mass_downloader - INFO: Initializing FDSN client(s) for GEONET.\n",
      "[2021-11-25 00:45:40,899] - obspy.clients.fdsn.mass_downloader - INFO: Successfully initialized 1 client(s): GEONET.\n",
      "[2021-11-25 00:45:40,900] - obspy.clients.fdsn.mass_downloader - INFO: Total acquired or preexisting stations: 0\n",
      "[2021-11-25 00:45:40,900] - obspy.clients.fdsn.mass_downloader - INFO: Client 'GEONET' - Requesting unreliable availability.\n"
     ]
    },
    {
     "name": "stdout",
     "output_type": "stream",
     "text": [
      "=================================================================\n",
      "Initiating mass download request.\n"
     ]
    },
    {
     "name": "stderr",
     "output_type": "stream",
     "text": [
      "[2021-11-25 00:45:41,498] - obspy.clients.fdsn.mass_downloader - INFO: Client 'GEONET' - Successfully requested availability (0.60 seconds)\n",
      "[2021-11-25 00:45:41,499] - obspy.clients.fdsn.mass_downloader - INFO: Client 'GEONET' - Found 1 stations (1 channels).\n",
      "[2021-11-25 00:45:41,500] - obspy.clients.fdsn.mass_downloader - INFO: Client 'GEONET' - Will attempt to download data from 1 stations.\n",
      "[2021-11-25 00:45:41,500] - obspy.clients.fdsn.mass_downloader - INFO: Client 'GEONET' - Status for 1 time intervals/channels before downloading: NEEDS_DOWNLOADING\n",
      "[2021-11-25 00:45:42,554] - obspy.clients.fdsn.mass_downloader - INFO: Client 'GEONET' - Successfully downloaded 1 channels (of 1)\n",
      "[2021-11-25 00:45:42,558] - obspy.clients.fdsn.mass_downloader - INFO: Client 'GEONET' - Launching basic QC checks...\n",
      "[2021-11-25 00:45:42,569] - obspy.clients.fdsn.mass_downloader - INFO: Client 'GEONET' - Downloaded 0.0 MB [4.74 KB/sec] of data, 0.0 MB of which were discarded afterwards.\n",
      "[2021-11-25 00:45:42,570] - obspy.clients.fdsn.mass_downloader - INFO: Client 'GEONET' - Status for 1 time intervals/channels after downloading: DOWNLOADED\n",
      "[2021-11-25 00:45:42,572] - obspy.clients.fdsn.mass_downloader - INFO: Client 'GEONET' - No station information to download.\n",
      "[2021-11-25 00:45:42,573] - obspy.clients.fdsn.mass_downloader - INFO: ============================== Final report\n",
      "[2021-11-25 00:45:42,573] - obspy.clients.fdsn.mass_downloader - INFO: 0 MiniSEED files [0.0 MB] already existed.\n",
      "[2021-11-25 00:45:42,573] - obspy.clients.fdsn.mass_downloader - INFO: 1 StationXML files [0.0 MB] already existed.\n",
      "[2021-11-25 00:45:42,574] - obspy.clients.fdsn.mass_downloader - INFO: Client 'GEONET' - Acquired 1 MiniSEED files [0.0 MB].\n",
      "[2021-11-25 00:45:42,574] - obspy.clients.fdsn.mass_downloader - INFO: Client 'GEONET' - Acquired 0 StationXML files [0.0 MB].\n",
      "[2021-11-25 00:45:42,575] - obspy.clients.fdsn.mass_downloader - INFO: Downloaded 0.0 MB in total.\n",
      "[2021-11-25 00:45:42,580] - obspy.clients.fdsn.mass_downloader - INFO: Initializing FDSN client(s) for GEONET.\n",
      "[2021-11-25 00:45:42,584] - obspy.clients.fdsn.mass_downloader - INFO: Successfully initialized 1 client(s): GEONET.\n",
      "[2021-11-25 00:45:42,585] - obspy.clients.fdsn.mass_downloader - INFO: Total acquired or preexisting stations: 0\n",
      "[2021-11-25 00:45:42,585] - obspy.clients.fdsn.mass_downloader - INFO: Client 'GEONET' - Requesting unreliable availability.\n"
     ]
    },
    {
     "name": "stdout",
     "output_type": "stream",
     "text": [
      "=================================================================\n",
      "Initiating mass download request.\n"
     ]
    },
    {
     "name": "stderr",
     "output_type": "stream",
     "text": [
      "[2021-11-25 00:45:44,050] - obspy.clients.fdsn.mass_downloader - INFO: Client 'GEONET' - Successfully requested availability (1.47 seconds)\n",
      "[2021-11-25 00:45:44,051] - obspy.clients.fdsn.mass_downloader - INFO: Client 'GEONET' - Found 1 stations (1 channels).\n",
      "[2021-11-25 00:45:44,051] - obspy.clients.fdsn.mass_downloader - INFO: Client 'GEONET' - Will attempt to download data from 1 stations.\n",
      "[2021-11-25 00:45:44,052] - obspy.clients.fdsn.mass_downloader - INFO: Client 'GEONET' - Status for 1 time intervals/channels before downloading: NEEDS_DOWNLOADING\n",
      "[2021-11-25 00:45:45,085] - obspy.clients.fdsn.mass_downloader - INFO: Client 'GEONET' - Successfully downloaded 1 channels (of 1)\n",
      "[2021-11-25 00:45:45,132] - obspy.clients.fdsn.mass_downloader - INFO: Client 'GEONET' - Launching basic QC checks...\n",
      "[2021-11-25 00:45:45,169] - obspy.clients.fdsn.mass_downloader - INFO: Client 'GEONET' - Downloaded 0.0 MB [2.78 KB/sec] of data, 0.0 MB of which were discarded afterwards.\n",
      "[2021-11-25 00:45:45,184] - obspy.clients.fdsn.mass_downloader - INFO: Client 'GEONET' - Status for 1 time intervals/channels after downloading: DOWNLOADED\n",
      "[2021-11-25 00:45:45,188] - obspy.clients.fdsn.mass_downloader - INFO: Client 'GEONET' - No station information to download.\n",
      "[2021-11-25 00:45:45,193] - obspy.clients.fdsn.mass_downloader - INFO: ============================== Final report\n",
      "[2021-11-25 00:45:45,199] - obspy.clients.fdsn.mass_downloader - INFO: 0 MiniSEED files [0.0 MB] already existed.\n",
      "[2021-11-25 00:45:45,203] - obspy.clients.fdsn.mass_downloader - INFO: 1 StationXML files [0.0 MB] already existed.\n",
      "[2021-11-25 00:45:45,204] - obspy.clients.fdsn.mass_downloader - INFO: Client 'GEONET' - Acquired 1 MiniSEED files [0.0 MB].\n",
      "[2021-11-25 00:45:45,204] - obspy.clients.fdsn.mass_downloader - INFO: Client 'GEONET' - Acquired 0 StationXML files [0.0 MB].\n",
      "[2021-11-25 00:45:45,208] - obspy.clients.fdsn.mass_downloader - INFO: Downloaded 0.0 MB in total.\n",
      "[2021-11-25 00:45:45,215] - obspy.clients.fdsn.mass_downloader - INFO: Initializing FDSN client(s) for GEONET.\n",
      "[2021-11-25 00:45:45,229] - obspy.clients.fdsn.mass_downloader - INFO: Successfully initialized 1 client(s): GEONET.\n",
      "[2021-11-25 00:45:45,231] - obspy.clients.fdsn.mass_downloader - INFO: Total acquired or preexisting stations: 0\n",
      "[2021-11-25 00:45:45,233] - obspy.clients.fdsn.mass_downloader - INFO: Client 'GEONET' - Requesting unreliable availability.\n"
     ]
    },
    {
     "name": "stdout",
     "output_type": "stream",
     "text": [
      "=================================================================\n",
      "Initiating mass download request.\n"
     ]
    },
    {
     "name": "stderr",
     "output_type": "stream",
     "text": [
      "[2021-11-25 00:45:45,835] - obspy.clients.fdsn.mass_downloader - INFO: Client 'GEONET' - Successfully requested availability (0.60 seconds)\n",
      "[2021-11-25 00:45:45,838] - obspy.clients.fdsn.mass_downloader - INFO: Client 'GEONET' - Found 1 stations (1 channels).\n",
      "[2021-11-25 00:45:45,838] - obspy.clients.fdsn.mass_downloader - INFO: Client 'GEONET' - Will attempt to download data from 1 stations.\n",
      "[2021-11-25 00:45:45,839] - obspy.clients.fdsn.mass_downloader - INFO: Client 'GEONET' - Status for 1 time intervals/channels before downloading: NEEDS_DOWNLOADING\n",
      "[2021-11-25 00:45:47,040] - obspy.clients.fdsn.mass_downloader - INFO: Client 'GEONET' - Successfully downloaded 1 channels (of 1)\n",
      "[2021-11-25 00:45:47,049] - obspy.clients.fdsn.mass_downloader - INFO: Client 'GEONET' - Launching basic QC checks...\n",
      "[2021-11-25 00:45:47,062] - obspy.clients.fdsn.mass_downloader - INFO: Client 'GEONET' - Downloaded 0.0 MB [3.72 KB/sec] of data, 0.0 MB of which were discarded afterwards.\n",
      "[2021-11-25 00:45:47,063] - obspy.clients.fdsn.mass_downloader - INFO: Client 'GEONET' - Status for 1 time intervals/channels after downloading: DOWNLOADED\n",
      "[2021-11-25 00:45:47,067] - obspy.clients.fdsn.mass_downloader - INFO: Client 'GEONET' - No station information to download.\n",
      "[2021-11-25 00:45:47,068] - obspy.clients.fdsn.mass_downloader - INFO: ============================== Final report\n",
      "[2021-11-25 00:45:47,069] - obspy.clients.fdsn.mass_downloader - INFO: 0 MiniSEED files [0.0 MB] already existed.\n",
      "[2021-11-25 00:45:47,069] - obspy.clients.fdsn.mass_downloader - INFO: 1 StationXML files [0.0 MB] already existed.\n",
      "[2021-11-25 00:45:47,070] - obspy.clients.fdsn.mass_downloader - INFO: Client 'GEONET' - Acquired 1 MiniSEED files [0.0 MB].\n",
      "[2021-11-25 00:45:47,071] - obspy.clients.fdsn.mass_downloader - INFO: Client 'GEONET' - Acquired 0 StationXML files [0.0 MB].\n",
      "[2021-11-25 00:45:47,072] - obspy.clients.fdsn.mass_downloader - INFO: Downloaded 0.0 MB in total.\n",
      "[2021-11-25 00:45:47,074] - obspy.clients.fdsn.mass_downloader - INFO: Initializing FDSN client(s) for GEONET.\n",
      "[2021-11-25 00:45:47,081] - obspy.clients.fdsn.mass_downloader - INFO: Successfully initialized 1 client(s): GEONET.\n",
      "[2021-11-25 00:45:47,082] - obspy.clients.fdsn.mass_downloader - INFO: Total acquired or preexisting stations: 0\n",
      "[2021-11-25 00:45:47,083] - obspy.clients.fdsn.mass_downloader - INFO: Client 'GEONET' - Requesting unreliable availability.\n"
     ]
    },
    {
     "name": "stdout",
     "output_type": "stream",
     "text": [
      "=================================================================\n",
      "Initiating mass download request.\n"
     ]
    },
    {
     "name": "stderr",
     "output_type": "stream",
     "text": [
      "[2021-11-25 00:45:47,849] - obspy.clients.fdsn.mass_downloader - INFO: Client 'GEONET' - Successfully requested availability (0.77 seconds)\n",
      "[2021-11-25 00:45:47,858] - obspy.clients.fdsn.mass_downloader - INFO: Client 'GEONET' - Found 1 stations (1 channels).\n",
      "[2021-11-25 00:45:47,859] - obspy.clients.fdsn.mass_downloader - INFO: Client 'GEONET' - Will attempt to download data from 1 stations.\n",
      "[2021-11-25 00:45:47,862] - obspy.clients.fdsn.mass_downloader - INFO: Client 'GEONET' - Status for 1 time intervals/channels before downloading: NEEDS_DOWNLOADING\n",
      "[2021-11-25 00:45:49,084] - obspy.clients.fdsn.mass_downloader - INFO: Client 'GEONET' - Successfully downloaded 1 channels (of 1)\n",
      "[2021-11-25 00:45:49,089] - obspy.clients.fdsn.mass_downloader - INFO: Client 'GEONET' - Launching basic QC checks...\n",
      "[2021-11-25 00:45:49,104] - obspy.clients.fdsn.mass_downloader - INFO: Client 'GEONET' - Downloaded 0.0 MB [3.70 KB/sec] of data, 0.0 MB of which were discarded afterwards.\n",
      "[2021-11-25 00:45:49,106] - obspy.clients.fdsn.mass_downloader - INFO: Client 'GEONET' - Status for 1 time intervals/channels after downloading: DOWNLOADED\n",
      "[2021-11-25 00:45:49,110] - obspy.clients.fdsn.mass_downloader - INFO: Client 'GEONET' - No station information to download.\n",
      "[2021-11-25 00:45:49,112] - obspy.clients.fdsn.mass_downloader - INFO: ============================== Final report\n",
      "[2021-11-25 00:45:49,113] - obspy.clients.fdsn.mass_downloader - INFO: 0 MiniSEED files [0.0 MB] already existed.\n",
      "[2021-11-25 00:45:49,114] - obspy.clients.fdsn.mass_downloader - INFO: 1 StationXML files [0.0 MB] already existed.\n",
      "[2021-11-25 00:45:49,116] - obspy.clients.fdsn.mass_downloader - INFO: Client 'GEONET' - Acquired 1 MiniSEED files [0.0 MB].\n",
      "[2021-11-25 00:45:49,119] - obspy.clients.fdsn.mass_downloader - INFO: Client 'GEONET' - Acquired 0 StationXML files [0.0 MB].\n",
      "[2021-11-25 00:45:49,120] - obspy.clients.fdsn.mass_downloader - INFO: Downloaded 0.0 MB in total.\n",
      "[2021-11-25 00:45:49,127] - obspy.clients.fdsn.mass_downloader - INFO: Initializing FDSN client(s) for GEONET.\n",
      "[2021-11-25 00:45:49,138] - obspy.clients.fdsn.mass_downloader - INFO: Successfully initialized 1 client(s): GEONET.\n",
      "[2021-11-25 00:45:49,139] - obspy.clients.fdsn.mass_downloader - INFO: Total acquired or preexisting stations: 0\n",
      "[2021-11-25 00:45:49,139] - obspy.clients.fdsn.mass_downloader - INFO: Client 'GEONET' - Requesting unreliable availability.\n"
     ]
    },
    {
     "name": "stdout",
     "output_type": "stream",
     "text": [
      "=================================================================\n",
      "Initiating mass download request.\n"
     ]
    },
    {
     "name": "stderr",
     "output_type": "stream",
     "text": [
      "[2021-11-25 00:45:49,731] - obspy.clients.fdsn.mass_downloader - INFO: Client 'GEONET' - Successfully requested availability (0.59 seconds)\n",
      "[2021-11-25 00:45:49,732] - obspy.clients.fdsn.mass_downloader - INFO: Client 'GEONET' - Found 1 stations (1 channels).\n",
      "[2021-11-25 00:45:49,732] - obspy.clients.fdsn.mass_downloader - INFO: Client 'GEONET' - Will attempt to download data from 1 stations.\n",
      "[2021-11-25 00:45:49,733] - obspy.clients.fdsn.mass_downloader - INFO: Client 'GEONET' - Status for 1 time intervals/channels before downloading: NEEDS_DOWNLOADING\n",
      "[2021-11-25 00:45:50,719] - obspy.clients.fdsn.mass_downloader - INFO: Client 'GEONET' - Successfully downloaded 1 channels (of 1)\n",
      "[2021-11-25 00:45:50,725] - obspy.clients.fdsn.mass_downloader - INFO: Client 'GEONET' - Launching basic QC checks...\n",
      "[2021-11-25 00:45:50,736] - obspy.clients.fdsn.mass_downloader - INFO: Client 'GEONET' - Downloaded 0.0 MB [4.03 KB/sec] of data, 0.0 MB of which were discarded afterwards.\n",
      "[2021-11-25 00:45:50,737] - obspy.clients.fdsn.mass_downloader - INFO: Client 'GEONET' - Status for 1 time intervals/channels after downloading: DOWNLOADED\n",
      "[2021-11-25 00:45:50,742] - obspy.clients.fdsn.mass_downloader - INFO: Client 'GEONET' - No station information to download.\n",
      "[2021-11-25 00:45:50,743] - obspy.clients.fdsn.mass_downloader - INFO: ============================== Final report\n",
      "[2021-11-25 00:45:50,745] - obspy.clients.fdsn.mass_downloader - INFO: 0 MiniSEED files [0.0 MB] already existed.\n",
      "[2021-11-25 00:45:50,747] - obspy.clients.fdsn.mass_downloader - INFO: 1 StationXML files [0.0 MB] already existed.\n",
      "[2021-11-25 00:45:50,748] - obspy.clients.fdsn.mass_downloader - INFO: Client 'GEONET' - Acquired 1 MiniSEED files [0.0 MB].\n",
      "[2021-11-25 00:45:50,748] - obspy.clients.fdsn.mass_downloader - INFO: Client 'GEONET' - Acquired 0 StationXML files [0.0 MB].\n",
      "[2021-11-25 00:45:50,749] - obspy.clients.fdsn.mass_downloader - INFO: Downloaded 0.0 MB in total.\n",
      "[2021-11-25 00:45:50,758] - obspy.clients.fdsn.mass_downloader - INFO: Initializing FDSN client(s) for GEONET.\n",
      "[2021-11-25 00:45:50,762] - obspy.clients.fdsn.mass_downloader - INFO: Successfully initialized 1 client(s): GEONET.\n",
      "[2021-11-25 00:45:50,763] - obspy.clients.fdsn.mass_downloader - INFO: Total acquired or preexisting stations: 0\n",
      "[2021-11-25 00:45:50,764] - obspy.clients.fdsn.mass_downloader - INFO: Client 'GEONET' - Requesting unreliable availability.\n"
     ]
    },
    {
     "name": "stdout",
     "output_type": "stream",
     "text": [
      "=================================================================\n",
      "Initiating mass download request.\n"
     ]
    },
    {
     "name": "stderr",
     "output_type": "stream",
     "text": [
      "[2021-11-25 00:45:51,416] - obspy.clients.fdsn.mass_downloader - INFO: Client 'GEONET' - Successfully requested availability (0.65 seconds)\n",
      "[2021-11-25 00:45:51,417] - obspy.clients.fdsn.mass_downloader - INFO: Client 'GEONET' - Found 1 stations (1 channels).\n",
      "[2021-11-25 00:45:51,417] - obspy.clients.fdsn.mass_downloader - INFO: Client 'GEONET' - Will attempt to download data from 1 stations.\n",
      "[2021-11-25 00:45:51,417] - obspy.clients.fdsn.mass_downloader - INFO: Client 'GEONET' - Status for 1 time intervals/channels before downloading: NEEDS_DOWNLOADING\n",
      "[2021-11-25 00:45:52,715] - obspy.clients.fdsn.mass_downloader - INFO: Client 'GEONET' - Successfully downloaded 1 channels (of 1)\n",
      "[2021-11-25 00:45:52,718] - obspy.clients.fdsn.mass_downloader - INFO: Client 'GEONET' - Launching basic QC checks...\n",
      "[2021-11-25 00:45:52,728] - obspy.clients.fdsn.mass_downloader - INFO: Client 'GEONET' - Downloaded 0.0 MB [3.85 KB/sec] of data, 0.0 MB of which were discarded afterwards.\n",
      "[2021-11-25 00:45:52,728] - obspy.clients.fdsn.mass_downloader - INFO: Client 'GEONET' - Status for 1 time intervals/channels after downloading: DOWNLOADED\n",
      "[2021-11-25 00:45:52,731] - obspy.clients.fdsn.mass_downloader - INFO: Client 'GEONET' - No station information to download.\n",
      "[2021-11-25 00:45:52,731] - obspy.clients.fdsn.mass_downloader - INFO: ============================== Final report\n",
      "[2021-11-25 00:45:52,732] - obspy.clients.fdsn.mass_downloader - INFO: 0 MiniSEED files [0.0 MB] already existed.\n",
      "[2021-11-25 00:45:52,733] - obspy.clients.fdsn.mass_downloader - INFO: 1 StationXML files [0.0 MB] already existed.\n",
      "[2021-11-25 00:45:52,733] - obspy.clients.fdsn.mass_downloader - INFO: Client 'GEONET' - Acquired 1 MiniSEED files [0.0 MB].\n",
      "[2021-11-25 00:45:52,734] - obspy.clients.fdsn.mass_downloader - INFO: Client 'GEONET' - Acquired 0 StationXML files [0.0 MB].\n",
      "[2021-11-25 00:45:52,734] - obspy.clients.fdsn.mass_downloader - INFO: Downloaded 0.0 MB in total.\n",
      "[2021-11-25 00:45:52,737] - obspy.clients.fdsn.mass_downloader - INFO: Initializing FDSN client(s) for GEONET.\n",
      "[2021-11-25 00:45:52,744] - obspy.clients.fdsn.mass_downloader - INFO: Successfully initialized 1 client(s): GEONET.\n",
      "[2021-11-25 00:45:52,745] - obspy.clients.fdsn.mass_downloader - INFO: Total acquired or preexisting stations: 0\n",
      "[2021-11-25 00:45:52,746] - obspy.clients.fdsn.mass_downloader - INFO: Client 'GEONET' - Requesting unreliable availability.\n"
     ]
    },
    {
     "name": "stdout",
     "output_type": "stream",
     "text": [
      "=================================================================\n",
      "Initiating mass download request.\n"
     ]
    },
    {
     "name": "stderr",
     "output_type": "stream",
     "text": [
      "[2021-11-25 00:45:53,296] - obspy.clients.fdsn.mass_downloader - INFO: Client 'GEONET' - Successfully requested availability (0.55 seconds)\n",
      "[2021-11-25 00:45:53,296] - obspy.clients.fdsn.mass_downloader - INFO: Client 'GEONET' - Found 1 stations (1 channels).\n",
      "[2021-11-25 00:45:53,297] - obspy.clients.fdsn.mass_downloader - INFO: Client 'GEONET' - Will attempt to download data from 1 stations.\n",
      "[2021-11-25 00:45:53,297] - obspy.clients.fdsn.mass_downloader - INFO: Client 'GEONET' - Status for 1 time intervals/channels before downloading: NEEDS_DOWNLOADING\n",
      "[2021-11-25 00:45:54,277] - obspy.clients.fdsn.mass_downloader - INFO: Client 'GEONET' - Successfully downloaded 1 channels (of 1)\n",
      "[2021-11-25 00:45:54,285] - obspy.clients.fdsn.mass_downloader - INFO: Client 'GEONET' - Launching basic QC checks...\n",
      "[2021-11-25 00:45:54,308] - obspy.clients.fdsn.mass_downloader - INFO: Client 'GEONET' - Downloaded 0.0 MB [4.05 KB/sec] of data, 0.0 MB of which were discarded afterwards.\n",
      "[2021-11-25 00:45:54,310] - obspy.clients.fdsn.mass_downloader - INFO: Client 'GEONET' - Status for 1 time intervals/channels after downloading: DOWNLOADED\n",
      "[2021-11-25 00:45:54,315] - obspy.clients.fdsn.mass_downloader - INFO: Client 'GEONET' - No station information to download.\n",
      "[2021-11-25 00:45:54,317] - obspy.clients.fdsn.mass_downloader - INFO: ============================== Final report\n",
      "[2021-11-25 00:45:54,318] - obspy.clients.fdsn.mass_downloader - INFO: 0 MiniSEED files [0.0 MB] already existed.\n",
      "[2021-11-25 00:45:54,318] - obspy.clients.fdsn.mass_downloader - INFO: 1 StationXML files [0.0 MB] already existed.\n",
      "[2021-11-25 00:45:54,321] - obspy.clients.fdsn.mass_downloader - INFO: Client 'GEONET' - Acquired 1 MiniSEED files [0.0 MB].\n",
      "[2021-11-25 00:45:54,321] - obspy.clients.fdsn.mass_downloader - INFO: Client 'GEONET' - Acquired 0 StationXML files [0.0 MB].\n",
      "[2021-11-25 00:45:54,321] - obspy.clients.fdsn.mass_downloader - INFO: Downloaded 0.0 MB in total.\n",
      "[2021-11-25 00:45:54,328] - obspy.clients.fdsn.mass_downloader - INFO: Initializing FDSN client(s) for GEONET.\n",
      "[2021-11-25 00:45:54,341] - obspy.clients.fdsn.mass_downloader - INFO: Successfully initialized 1 client(s): GEONET.\n",
      "[2021-11-25 00:45:54,345] - obspy.clients.fdsn.mass_downloader - INFO: Total acquired or preexisting stations: 0\n",
      "[2021-11-25 00:45:54,347] - obspy.clients.fdsn.mass_downloader - INFO: Client 'GEONET' - Requesting unreliable availability.\n"
     ]
    },
    {
     "name": "stdout",
     "output_type": "stream",
     "text": [
      "=================================================================\n",
      "Initiating mass download request.\n"
     ]
    },
    {
     "name": "stderr",
     "output_type": "stream",
     "text": [
      "[2021-11-25 00:45:54,954] - obspy.clients.fdsn.mass_downloader - INFO: Client 'GEONET' - Successfully requested availability (0.61 seconds)\n",
      "[2021-11-25 00:45:54,959] - obspy.clients.fdsn.mass_downloader - INFO: Client 'GEONET' - Found 1 stations (1 channels).\n",
      "[2021-11-25 00:45:54,960] - obspy.clients.fdsn.mass_downloader - INFO: Client 'GEONET' - Will attempt to download data from 1 stations.\n",
      "[2021-11-25 00:45:54,960] - obspy.clients.fdsn.mass_downloader - INFO: Client 'GEONET' - Status for 1 time intervals/channels before downloading: NEEDS_DOWNLOADING\n",
      "[2021-11-25 00:45:56,446] - obspy.clients.fdsn.mass_downloader - INFO: Client 'GEONET' - Successfully downloaded 1 channels (of 1)\n",
      "[2021-11-25 00:45:56,461] - obspy.clients.fdsn.mass_downloader - INFO: Client 'GEONET' - Launching basic QC checks...\n",
      "[2021-11-25 00:45:56,478] - obspy.clients.fdsn.mass_downloader - INFO: Client 'GEONET' - Downloaded 0.0 MB [5.01 KB/sec] of data, 0.0 MB of which were discarded afterwards.\n",
      "[2021-11-25 00:45:56,478] - obspy.clients.fdsn.mass_downloader - INFO: Client 'GEONET' - Status for 1 time intervals/channels after downloading: DOWNLOADED\n",
      "[2021-11-25 00:45:56,480] - obspy.clients.fdsn.mass_downloader - INFO: Client 'GEONET' - No station information to download.\n",
      "[2021-11-25 00:45:56,481] - obspy.clients.fdsn.mass_downloader - INFO: ============================== Final report\n",
      "[2021-11-25 00:45:56,481] - obspy.clients.fdsn.mass_downloader - INFO: 0 MiniSEED files [0.0 MB] already existed.\n",
      "[2021-11-25 00:45:56,482] - obspy.clients.fdsn.mass_downloader - INFO: 1 StationXML files [0.0 MB] already existed.\n",
      "[2021-11-25 00:45:56,482] - obspy.clients.fdsn.mass_downloader - INFO: Client 'GEONET' - Acquired 1 MiniSEED files [0.0 MB].\n",
      "[2021-11-25 00:45:56,482] - obspy.clients.fdsn.mass_downloader - INFO: Client 'GEONET' - Acquired 0 StationXML files [0.0 MB].\n",
      "[2021-11-25 00:45:56,482] - obspy.clients.fdsn.mass_downloader - INFO: Downloaded 0.0 MB in total.\n",
      "[2021-11-25 00:45:56,489] - obspy.clients.fdsn.mass_downloader - INFO: Initializing FDSN client(s) for GEONET.\n",
      "[2021-11-25 00:45:56,493] - obspy.clients.fdsn.mass_downloader - INFO: Successfully initialized 1 client(s): GEONET.\n",
      "[2021-11-25 00:45:56,494] - obspy.clients.fdsn.mass_downloader - INFO: Total acquired or preexisting stations: 0\n",
      "[2021-11-25 00:45:56,494] - obspy.clients.fdsn.mass_downloader - INFO: Client 'GEONET' - Requesting unreliable availability.\n"
     ]
    },
    {
     "name": "stdout",
     "output_type": "stream",
     "text": [
      "=================================================================\n",
      "Initiating mass download request.\n"
     ]
    },
    {
     "name": "stderr",
     "output_type": "stream",
     "text": [
      "[2021-11-25 00:45:57,073] - obspy.clients.fdsn.mass_downloader - INFO: Client 'GEONET' - Successfully requested availability (0.58 seconds)\n",
      "[2021-11-25 00:45:57,074] - obspy.clients.fdsn.mass_downloader - INFO: Client 'GEONET' - Found 1 stations (1 channels).\n",
      "[2021-11-25 00:45:57,074] - obspy.clients.fdsn.mass_downloader - INFO: Client 'GEONET' - Will attempt to download data from 1 stations.\n",
      "[2021-11-25 00:45:57,075] - obspy.clients.fdsn.mass_downloader - INFO: Client 'GEONET' - Status for 1 time intervals/channels before downloading: NEEDS_DOWNLOADING\n",
      "[2021-11-25 00:45:58,083] - obspy.clients.fdsn.mass_downloader - INFO: Client 'GEONET' - Successfully downloaded 1 channels (of 1)\n",
      "[2021-11-25 00:45:58,086] - obspy.clients.fdsn.mass_downloader - INFO: Client 'GEONET' - Launching basic QC checks...\n",
      "[2021-11-25 00:45:58,094] - obspy.clients.fdsn.mass_downloader - INFO: Client 'GEONET' - Downloaded 0.0 MB [2.98 KB/sec] of data, 0.0 MB of which were discarded afterwards.\n",
      "[2021-11-25 00:45:58,095] - obspy.clients.fdsn.mass_downloader - INFO: Client 'GEONET' - Status for 1 time intervals/channels after downloading: DOWNLOADED\n",
      "[2021-11-25 00:45:58,098] - obspy.clients.fdsn.mass_downloader - INFO: Client 'GEONET' - No station information to download.\n",
      "[2021-11-25 00:45:58,098] - obspy.clients.fdsn.mass_downloader - INFO: ============================== Final report\n",
      "[2021-11-25 00:45:58,099] - obspy.clients.fdsn.mass_downloader - INFO: 0 MiniSEED files [0.0 MB] already existed.\n",
      "[2021-11-25 00:45:58,099] - obspy.clients.fdsn.mass_downloader - INFO: 1 StationXML files [0.0 MB] already existed.\n",
      "[2021-11-25 00:45:58,099] - obspy.clients.fdsn.mass_downloader - INFO: Client 'GEONET' - Acquired 1 MiniSEED files [0.0 MB].\n",
      "[2021-11-25 00:45:58,100] - obspy.clients.fdsn.mass_downloader - INFO: Client 'GEONET' - Acquired 0 StationXML files [0.0 MB].\n",
      "[2021-11-25 00:45:58,100] - obspy.clients.fdsn.mass_downloader - INFO: Downloaded 0.0 MB in total.\n",
      "[2021-11-25 00:45:58,123] - obspy.clients.fdsn.mass_downloader - INFO: Initializing FDSN client(s) for GEONET.\n",
      "[2021-11-25 00:45:58,131] - obspy.clients.fdsn.mass_downloader - INFO: Successfully initialized 1 client(s): GEONET.\n",
      "[2021-11-25 00:45:58,132] - obspy.clients.fdsn.mass_downloader - INFO: Total acquired or preexisting stations: 0\n",
      "[2021-11-25 00:45:58,132] - obspy.clients.fdsn.mass_downloader - INFO: Client 'GEONET' - Requesting unreliable availability.\n"
     ]
    },
    {
     "name": "stdout",
     "output_type": "stream",
     "text": [
      "=================================================================\n",
      "Initiating mass download request.\n"
     ]
    },
    {
     "name": "stderr",
     "output_type": "stream",
     "text": [
      "[2021-11-25 00:45:58,695] - obspy.clients.fdsn.mass_downloader - INFO: Client 'GEONET' - Successfully requested availability (0.56 seconds)\n",
      "[2021-11-25 00:45:58,695] - obspy.clients.fdsn.mass_downloader - INFO: Client 'GEONET' - Found 1 stations (1 channels).\n",
      "[2021-11-25 00:45:58,696] - obspy.clients.fdsn.mass_downloader - INFO: Client 'GEONET' - Will attempt to download data from 1 stations.\n",
      "[2021-11-25 00:45:58,696] - obspy.clients.fdsn.mass_downloader - INFO: Client 'GEONET' - Status for 1 time intervals/channels before downloading: NEEDS_DOWNLOADING\n",
      "[2021-11-25 00:45:59,515] - obspy.clients.fdsn.mass_downloader - INFO: Client 'GEONET' - Successfully downloaded 1 channels (of 1)\n",
      "[2021-11-25 00:45:59,518] - obspy.clients.fdsn.mass_downloader - INFO: Client 'GEONET' - Launching basic QC checks...\n",
      "[2021-11-25 00:45:59,523] - obspy.clients.fdsn.mass_downloader - INFO: Client 'GEONET' - Downloaded 0.0 MB [3.66 KB/sec] of data, 0.0 MB of which were discarded afterwards.\n",
      "[2021-11-25 00:45:59,524] - obspy.clients.fdsn.mass_downloader - INFO: Client 'GEONET' - Status for 1 time intervals/channels after downloading: DOWNLOADED\n",
      "[2021-11-25 00:45:59,528] - obspy.clients.fdsn.mass_downloader - INFO: Client 'GEONET' - No station information to download.\n",
      "[2021-11-25 00:45:59,530] - obspy.clients.fdsn.mass_downloader - INFO: ============================== Final report\n",
      "[2021-11-25 00:45:59,530] - obspy.clients.fdsn.mass_downloader - INFO: 0 MiniSEED files [0.0 MB] already existed.\n",
      "[2021-11-25 00:45:59,531] - obspy.clients.fdsn.mass_downloader - INFO: 1 StationXML files [0.0 MB] already existed.\n",
      "[2021-11-25 00:45:59,532] - obspy.clients.fdsn.mass_downloader - INFO: Client 'GEONET' - Acquired 1 MiniSEED files [0.0 MB].\n",
      "[2021-11-25 00:45:59,532] - obspy.clients.fdsn.mass_downloader - INFO: Client 'GEONET' - Acquired 0 StationXML files [0.0 MB].\n",
      "[2021-11-25 00:45:59,533] - obspy.clients.fdsn.mass_downloader - INFO: Downloaded 0.0 MB in total.\n",
      "[2021-11-25 00:45:59,535] - obspy.clients.fdsn.mass_downloader - INFO: Initializing FDSN client(s) for GEONET.\n",
      "[2021-11-25 00:45:59,539] - obspy.clients.fdsn.mass_downloader - INFO: Successfully initialized 1 client(s): GEONET.\n",
      "[2021-11-25 00:45:59,540] - obspy.clients.fdsn.mass_downloader - INFO: Total acquired or preexisting stations: 0\n",
      "[2021-11-25 00:45:59,541] - obspy.clients.fdsn.mass_downloader - INFO: Client 'GEONET' - Requesting unreliable availability.\n"
     ]
    },
    {
     "name": "stdout",
     "output_type": "stream",
     "text": [
      "=================================================================\n",
      "Initiating mass download request.\n"
     ]
    },
    {
     "name": "stderr",
     "output_type": "stream",
     "text": [
      "[2021-11-25 00:46:00,257] - obspy.clients.fdsn.mass_downloader - INFO: Client 'GEONET' - Successfully requested availability (0.72 seconds)\n",
      "[2021-11-25 00:46:00,258] - obspy.clients.fdsn.mass_downloader - INFO: Client 'GEONET' - Found 1 stations (1 channels).\n",
      "[2021-11-25 00:46:00,259] - obspy.clients.fdsn.mass_downloader - INFO: Client 'GEONET' - Will attempt to download data from 1 stations.\n",
      "[2021-11-25 00:46:00,259] - obspy.clients.fdsn.mass_downloader - INFO: Client 'GEONET' - Status for 1 time intervals/channels before downloading: NEEDS_DOWNLOADING\n",
      "[2021-11-25 00:46:01,426] - obspy.clients.fdsn.mass_downloader - INFO: Client 'GEONET' - Successfully downloaded 1 channels (of 1)\n",
      "[2021-11-25 00:46:01,440] - obspy.clients.fdsn.mass_downloader - INFO: Client 'GEONET' - Launching basic QC checks...\n",
      "[2021-11-25 00:46:01,452] - obspy.clients.fdsn.mass_downloader - INFO: Client 'GEONET' - Downloaded 0.0 MB [3.39 KB/sec] of data, 0.0 MB of which were discarded afterwards.\n",
      "[2021-11-25 00:46:01,453] - obspy.clients.fdsn.mass_downloader - INFO: Client 'GEONET' - Status for 1 time intervals/channels after downloading: DOWNLOADED\n",
      "[2021-11-25 00:46:01,462] - obspy.clients.fdsn.mass_downloader - INFO: Client 'GEONET' - No station information to download.\n",
      "[2021-11-25 00:46:01,467] - obspy.clients.fdsn.mass_downloader - INFO: ============================== Final report\n",
      "[2021-11-25 00:46:01,468] - obspy.clients.fdsn.mass_downloader - INFO: 0 MiniSEED files [0.0 MB] already existed.\n",
      "[2021-11-25 00:46:01,469] - obspy.clients.fdsn.mass_downloader - INFO: 1 StationXML files [0.0 MB] already existed.\n",
      "[2021-11-25 00:46:01,470] - obspy.clients.fdsn.mass_downloader - INFO: Client 'GEONET' - Acquired 1 MiniSEED files [0.0 MB].\n",
      "[2021-11-25 00:46:01,472] - obspy.clients.fdsn.mass_downloader - INFO: Client 'GEONET' - Acquired 0 StationXML files [0.0 MB].\n",
      "[2021-11-25 00:46:01,474] - obspy.clients.fdsn.mass_downloader - INFO: Downloaded 0.0 MB in total.\n",
      "[2021-11-25 00:46:01,485] - obspy.clients.fdsn.mass_downloader - INFO: Initializing FDSN client(s) for GEONET.\n",
      "[2021-11-25 00:46:01,492] - obspy.clients.fdsn.mass_downloader - INFO: Successfully initialized 1 client(s): GEONET.\n",
      "[2021-11-25 00:46:01,494] - obspy.clients.fdsn.mass_downloader - INFO: Total acquired or preexisting stations: 0\n",
      "[2021-11-25 00:46:01,495] - obspy.clients.fdsn.mass_downloader - INFO: Client 'GEONET' - Requesting unreliable availability.\n"
     ]
    },
    {
     "name": "stdout",
     "output_type": "stream",
     "text": [
      "=================================================================\n",
      "Initiating mass download request.\n"
     ]
    },
    {
     "name": "stderr",
     "output_type": "stream",
     "text": [
      "[2021-11-25 00:46:02,093] - obspy.clients.fdsn.mass_downloader - INFO: Client 'GEONET' - Successfully requested availability (0.60 seconds)\n",
      "[2021-11-25 00:46:02,095] - obspy.clients.fdsn.mass_downloader - INFO: Client 'GEONET' - Found 1 stations (1 channels).\n",
      "[2021-11-25 00:46:02,096] - obspy.clients.fdsn.mass_downloader - INFO: Client 'GEONET' - Will attempt to download data from 1 stations.\n",
      "[2021-11-25 00:46:02,099] - obspy.clients.fdsn.mass_downloader - INFO: Client 'GEONET' - Status for 1 time intervals/channels before downloading: NEEDS_DOWNLOADING\n",
      "[2021-11-25 00:46:03,043] - obspy.clients.fdsn.mass_downloader - INFO: Client 'GEONET' - Successfully downloaded 1 channels (of 1)\n",
      "[2021-11-25 00:46:03,050] - obspy.clients.fdsn.mass_downloader - INFO: Client 'GEONET' - Launching basic QC checks...\n",
      "[2021-11-25 00:46:03,058] - obspy.clients.fdsn.mass_downloader - INFO: Client 'GEONET' - Downloaded 0.0 MB [4.23 KB/sec] of data, 0.0 MB of which were discarded afterwards.\n",
      "[2021-11-25 00:46:03,059] - obspy.clients.fdsn.mass_downloader - INFO: Client 'GEONET' - Status for 1 time intervals/channels after downloading: DOWNLOADED\n",
      "[2021-11-25 00:46:03,616] - obspy.clients.fdsn.mass_downloader - INFO: Client 'GEONET' - Successfully downloaded 'normal/stations/NZ.BKZ.xml'.\n",
      "[2021-11-25 00:46:03,628] - obspy.clients.fdsn.mass_downloader - INFO: Client 'GEONET' - Downloaded 1 station files [0.0 MB] in 0.6 seconds [15.14 KB/sec].\n",
      "[2021-11-25 00:46:03,635] - obspy.clients.fdsn.mass_downloader - INFO: ============================== Final report\n",
      "[2021-11-25 00:46:03,638] - obspy.clients.fdsn.mass_downloader - INFO: 0 MiniSEED files [0.0 MB] already existed.\n",
      "[2021-11-25 00:46:03,639] - obspy.clients.fdsn.mass_downloader - INFO: 0 StationXML files [0.0 MB] already existed.\n",
      "[2021-11-25 00:46:03,640] - obspy.clients.fdsn.mass_downloader - INFO: Client 'GEONET' - Acquired 1 MiniSEED files [0.0 MB].\n",
      "[2021-11-25 00:46:03,641] - obspy.clients.fdsn.mass_downloader - INFO: Client 'GEONET' - Acquired 1 StationXML files [0.0 MB].\n",
      "[2021-11-25 00:46:03,641] - obspy.clients.fdsn.mass_downloader - INFO: Downloaded 0.0 MB in total.\n",
      "[2021-11-25 00:46:03,657] - obspy.clients.fdsn.mass_downloader - INFO: Initializing FDSN client(s) for GEONET.\n",
      "[2021-11-25 00:46:03,666] - obspy.clients.fdsn.mass_downloader - INFO: Successfully initialized 1 client(s): GEONET.\n",
      "[2021-11-25 00:46:03,671] - obspy.clients.fdsn.mass_downloader - INFO: Total acquired or preexisting stations: 0\n",
      "[2021-11-25 00:46:03,672] - obspy.clients.fdsn.mass_downloader - INFO: Client 'GEONET' - Requesting unreliable availability.\n"
     ]
    },
    {
     "name": "stdout",
     "output_type": "stream",
     "text": [
      "=================================================================\n",
      "Initiating mass download request.\n"
     ]
    },
    {
     "name": "stderr",
     "output_type": "stream",
     "text": [
      "[2021-11-25 00:46:04,204] - obspy.clients.fdsn.mass_downloader - INFO: Client 'GEONET' - Successfully requested availability (0.53 seconds)\n",
      "[2021-11-25 00:46:04,205] - obspy.clients.fdsn.mass_downloader - INFO: Client 'GEONET' - Found 1 stations (1 channels).\n",
      "[2021-11-25 00:46:04,205] - obspy.clients.fdsn.mass_downloader - INFO: Client 'GEONET' - Will attempt to download data from 1 stations.\n",
      "[2021-11-25 00:46:04,205] - obspy.clients.fdsn.mass_downloader - INFO: Client 'GEONET' - Status for 1 time intervals/channels before downloading: NEEDS_DOWNLOADING\n",
      "[2021-11-25 00:46:05,060] - obspy.clients.fdsn.mass_downloader - INFO: Client 'GEONET' - Successfully downloaded 1 channels (of 1)\n",
      "[2021-11-25 00:46:05,061] - obspy.clients.fdsn.mass_downloader - INFO: Client 'GEONET' - Launching basic QC checks...\n",
      "[2021-11-25 00:46:05,065] - obspy.clients.fdsn.mass_downloader - INFO: Client 'GEONET' - Downloaded 0.0 MB [3.51 KB/sec] of data, 0.0 MB of which were discarded afterwards.\n",
      "[2021-11-25 00:46:05,065] - obspy.clients.fdsn.mass_downloader - INFO: Client 'GEONET' - Status for 1 time intervals/channels after downloading: DOWNLOADED\n",
      "[2021-11-25 00:46:05,068] - obspy.clients.fdsn.mass_downloader - INFO: Client 'GEONET' - No station information to download.\n",
      "[2021-11-25 00:46:05,073] - obspy.clients.fdsn.mass_downloader - INFO: ============================== Final report\n",
      "[2021-11-25 00:46:05,073] - obspy.clients.fdsn.mass_downloader - INFO: 0 MiniSEED files [0.0 MB] already existed.\n",
      "[2021-11-25 00:46:05,074] - obspy.clients.fdsn.mass_downloader - INFO: 1 StationXML files [0.0 MB] already existed.\n",
      "[2021-11-25 00:46:05,075] - obspy.clients.fdsn.mass_downloader - INFO: Client 'GEONET' - Acquired 1 MiniSEED files [0.0 MB].\n",
      "[2021-11-25 00:46:05,076] - obspy.clients.fdsn.mass_downloader - INFO: Client 'GEONET' - Acquired 0 StationXML files [0.0 MB].\n",
      "[2021-11-25 00:46:05,077] - obspy.clients.fdsn.mass_downloader - INFO: Downloaded 0.0 MB in total.\n",
      "[2021-11-25 00:46:05,080] - obspy.clients.fdsn.mass_downloader - INFO: Initializing FDSN client(s) for GEONET.\n",
      "[2021-11-25 00:46:05,099] - obspy.clients.fdsn.mass_downloader - INFO: Successfully initialized 1 client(s): GEONET.\n",
      "[2021-11-25 00:46:05,100] - obspy.clients.fdsn.mass_downloader - INFO: Total acquired or preexisting stations: 0\n",
      "[2021-11-25 00:46:05,101] - obspy.clients.fdsn.mass_downloader - INFO: Client 'GEONET' - Requesting unreliable availability.\n"
     ]
    },
    {
     "name": "stdout",
     "output_type": "stream",
     "text": [
      "=================================================================\n",
      "Initiating mass download request.\n"
     ]
    },
    {
     "name": "stderr",
     "output_type": "stream",
     "text": [
      "[2021-11-25 00:46:05,763] - obspy.clients.fdsn.mass_downloader - INFO: Client 'GEONET' - Successfully requested availability (0.66 seconds)\n",
      "[2021-11-25 00:46:05,769] - obspy.clients.fdsn.mass_downloader - INFO: Client 'GEONET' - Found 1 stations (1 channels).\n",
      "[2021-11-25 00:46:05,770] - obspy.clients.fdsn.mass_downloader - INFO: Client 'GEONET' - Will attempt to download data from 1 stations.\n",
      "[2021-11-25 00:46:05,772] - obspy.clients.fdsn.mass_downloader - INFO: Client 'GEONET' - Status for 1 time intervals/channels before downloading: NEEDS_DOWNLOADING\n",
      "[2021-11-25 00:46:06,607] - obspy.clients.fdsn.mass_downloader - INFO: Client 'GEONET' - Successfully downloaded 1 channels (of 1)\n",
      "[2021-11-25 00:46:06,608] - obspy.clients.fdsn.mass_downloader - INFO: Client 'GEONET' - Launching basic QC checks...\n",
      "[2021-11-25 00:46:06,613] - obspy.clients.fdsn.mass_downloader - INFO: Client 'GEONET' - Downloaded 0.0 MB [3.63 KB/sec] of data, 0.0 MB of which were discarded afterwards.\n",
      "[2021-11-25 00:46:06,613] - obspy.clients.fdsn.mass_downloader - INFO: Client 'GEONET' - Status for 1 time intervals/channels after downloading: DOWNLOADED\n",
      "[2021-11-25 00:46:06,616] - obspy.clients.fdsn.mass_downloader - INFO: Client 'GEONET' - No station information to download.\n",
      "[2021-11-25 00:46:06,617] - obspy.clients.fdsn.mass_downloader - INFO: ============================== Final report\n",
      "[2021-11-25 00:46:06,617] - obspy.clients.fdsn.mass_downloader - INFO: 0 MiniSEED files [0.0 MB] already existed.\n",
      "[2021-11-25 00:46:06,618] - obspy.clients.fdsn.mass_downloader - INFO: 1 StationXML files [0.0 MB] already existed.\n",
      "[2021-11-25 00:46:06,618] - obspy.clients.fdsn.mass_downloader - INFO: Client 'GEONET' - Acquired 1 MiniSEED files [0.0 MB].\n",
      "[2021-11-25 00:46:06,618] - obspy.clients.fdsn.mass_downloader - INFO: Client 'GEONET' - Acquired 0 StationXML files [0.0 MB].\n",
      "[2021-11-25 00:46:06,618] - obspy.clients.fdsn.mass_downloader - INFO: Downloaded 0.0 MB in total.\n",
      "[2021-11-25 00:46:06,624] - obspy.clients.fdsn.mass_downloader - INFO: Initializing FDSN client(s) for GEONET.\n",
      "[2021-11-25 00:46:06,629] - obspy.clients.fdsn.mass_downloader - INFO: Successfully initialized 1 client(s): GEONET.\n",
      "[2021-11-25 00:46:06,630] - obspy.clients.fdsn.mass_downloader - INFO: Total acquired or preexisting stations: 0\n",
      "[2021-11-25 00:46:06,631] - obspy.clients.fdsn.mass_downloader - INFO: Client 'GEONET' - Requesting unreliable availability.\n"
     ]
    },
    {
     "name": "stdout",
     "output_type": "stream",
     "text": [
      "=================================================================\n",
      "Initiating mass download request.\n"
     ]
    },
    {
     "name": "stderr",
     "output_type": "stream",
     "text": [
      "[2021-11-25 00:46:07,207] - obspy.clients.fdsn.mass_downloader - INFO: Client 'GEONET' - Successfully requested availability (0.58 seconds)\n",
      "[2021-11-25 00:46:07,209] - obspy.clients.fdsn.mass_downloader - INFO: Client 'GEONET' - Found 1 stations (1 channels).\n",
      "[2021-11-25 00:46:07,209] - obspy.clients.fdsn.mass_downloader - INFO: Client 'GEONET' - Will attempt to download data from 1 stations.\n",
      "[2021-11-25 00:46:07,213] - obspy.clients.fdsn.mass_downloader - INFO: Client 'GEONET' - Status for 1 time intervals/channels before downloading: NEEDS_DOWNLOADING\n",
      "[2021-11-25 00:46:08,297] - obspy.clients.fdsn.mass_downloader - INFO: Client 'GEONET' - Successfully downloaded 1 channels (of 1)\n",
      "[2021-11-25 00:46:08,305] - obspy.clients.fdsn.mass_downloader - INFO: Client 'GEONET' - Launching basic QC checks...\n",
      "[2021-11-25 00:46:08,316] - obspy.clients.fdsn.mass_downloader - INFO: Client 'GEONET' - Downloaded 0.0 MB [3.70 KB/sec] of data, 0.0 MB of which were discarded afterwards.\n",
      "[2021-11-25 00:46:08,316] - obspy.clients.fdsn.mass_downloader - INFO: Client 'GEONET' - Status for 1 time intervals/channels after downloading: DOWNLOADED\n",
      "[2021-11-25 00:46:08,319] - obspy.clients.fdsn.mass_downloader - INFO: Client 'GEONET' - No station information to download.\n",
      "[2021-11-25 00:46:08,327] - obspy.clients.fdsn.mass_downloader - INFO: ============================== Final report\n",
      "[2021-11-25 00:46:08,328] - obspy.clients.fdsn.mass_downloader - INFO: 0 MiniSEED files [0.0 MB] already existed.\n",
      "[2021-11-25 00:46:08,329] - obspy.clients.fdsn.mass_downloader - INFO: 1 StationXML files [0.0 MB] already existed.\n",
      "[2021-11-25 00:46:08,329] - obspy.clients.fdsn.mass_downloader - INFO: Client 'GEONET' - Acquired 1 MiniSEED files [0.0 MB].\n",
      "[2021-11-25 00:46:08,329] - obspy.clients.fdsn.mass_downloader - INFO: Client 'GEONET' - Acquired 0 StationXML files [0.0 MB].\n",
      "[2021-11-25 00:46:08,330] - obspy.clients.fdsn.mass_downloader - INFO: Downloaded 0.0 MB in total.\n",
      "[2021-11-25 00:46:08,338] - obspy.clients.fdsn.mass_downloader - INFO: Initializing FDSN client(s) for GEONET.\n",
      "[2021-11-25 00:46:08,350] - obspy.clients.fdsn.mass_downloader - INFO: Successfully initialized 1 client(s): GEONET.\n",
      "[2021-11-25 00:46:08,351] - obspy.clients.fdsn.mass_downloader - INFO: Total acquired or preexisting stations: 0\n",
      "[2021-11-25 00:46:08,351] - obspy.clients.fdsn.mass_downloader - INFO: Client 'GEONET' - Requesting unreliable availability.\n"
     ]
    },
    {
     "name": "stdout",
     "output_type": "stream",
     "text": [
      "=================================================================\n",
      "Initiating mass download request.\n"
     ]
    },
    {
     "name": "stderr",
     "output_type": "stream",
     "text": [
      "[2021-11-25 00:46:09,570] - obspy.clients.fdsn.mass_downloader - INFO: Client 'GEONET' - Successfully requested availability (1.22 seconds)\n",
      "[2021-11-25 00:46:09,572] - obspy.clients.fdsn.mass_downloader - INFO: Client 'GEONET' - Found 1 stations (1 channels).\n",
      "[2021-11-25 00:46:09,573] - obspy.clients.fdsn.mass_downloader - INFO: Client 'GEONET' - Will attempt to download data from 1 stations.\n",
      "[2021-11-25 00:46:09,573] - obspy.clients.fdsn.mass_downloader - INFO: Client 'GEONET' - Status for 1 time intervals/channels before downloading: NEEDS_DOWNLOADING\n",
      "[2021-11-25 00:46:10,412] - obspy.clients.fdsn.mass_downloader - INFO: Client 'GEONET' - Successfully downloaded 1 channels (of 1)\n",
      "[2021-11-25 00:46:10,413] - obspy.clients.fdsn.mass_downloader - INFO: Client 'GEONET' - Launching basic QC checks...\n",
      "[2021-11-25 00:46:10,416] - obspy.clients.fdsn.mass_downloader - INFO: Client 'GEONET' - Downloaded 0.0 MB [4.19 KB/sec] of data, 0.0 MB of which were discarded afterwards.\n",
      "[2021-11-25 00:46:10,417] - obspy.clients.fdsn.mass_downloader - INFO: Client 'GEONET' - Status for 1 time intervals/channels after downloading: DOWNLOADED\n",
      "[2021-11-25 00:46:10,418] - obspy.clients.fdsn.mass_downloader - INFO: Client 'GEONET' - No station information to download.\n",
      "[2021-11-25 00:46:10,419] - obspy.clients.fdsn.mass_downloader - INFO: ============================== Final report\n",
      "[2021-11-25 00:46:10,419] - obspy.clients.fdsn.mass_downloader - INFO: 0 MiniSEED files [0.0 MB] already existed.\n",
      "[2021-11-25 00:46:10,419] - obspy.clients.fdsn.mass_downloader - INFO: 1 StationXML files [0.0 MB] already existed.\n",
      "[2021-11-25 00:46:10,419] - obspy.clients.fdsn.mass_downloader - INFO: Client 'GEONET' - Acquired 1 MiniSEED files [0.0 MB].\n",
      "[2021-11-25 00:46:10,419] - obspy.clients.fdsn.mass_downloader - INFO: Client 'GEONET' - Acquired 0 StationXML files [0.0 MB].\n",
      "[2021-11-25 00:46:10,420] - obspy.clients.fdsn.mass_downloader - INFO: Downloaded 0.0 MB in total.\n",
      "[2021-11-25 00:46:10,422] - obspy.clients.fdsn.mass_downloader - INFO: Initializing FDSN client(s) for GEONET.\n",
      "[2021-11-25 00:46:10,428] - obspy.clients.fdsn.mass_downloader - INFO: Successfully initialized 1 client(s): GEONET.\n",
      "[2021-11-25 00:46:10,429] - obspy.clients.fdsn.mass_downloader - INFO: Total acquired or preexisting stations: 0\n",
      "[2021-11-25 00:46:10,429] - obspy.clients.fdsn.mass_downloader - INFO: Client 'GEONET' - Requesting unreliable availability.\n"
     ]
    },
    {
     "name": "stdout",
     "output_type": "stream",
     "text": [
      "=================================================================\n",
      "Initiating mass download request.\n"
     ]
    },
    {
     "name": "stderr",
     "output_type": "stream",
     "text": [
      "[2021-11-25 00:46:10,970] - obspy.clients.fdsn.mass_downloader - INFO: Client 'GEONET' - Successfully requested availability (0.54 seconds)\n",
      "[2021-11-25 00:46:10,971] - obspy.clients.fdsn.mass_downloader - INFO: Client 'GEONET' - Found 1 stations (1 channels).\n",
      "[2021-11-25 00:46:10,972] - obspy.clients.fdsn.mass_downloader - INFO: Client 'GEONET' - Will attempt to download data from 1 stations.\n",
      "[2021-11-25 00:46:10,972] - obspy.clients.fdsn.mass_downloader - INFO: Client 'GEONET' - Status for 1 time intervals/channels before downloading: NEEDS_DOWNLOADING\n",
      "[2021-11-25 00:46:11,807] - obspy.clients.fdsn.mass_downloader - INFO: Client 'GEONET' - Successfully downloaded 1 channels (of 1)\n",
      "[2021-11-25 00:46:11,815] - obspy.clients.fdsn.mass_downloader - INFO: Client 'GEONET' - Launching basic QC checks...\n",
      "[2021-11-25 00:46:11,825] - obspy.clients.fdsn.mass_downloader - INFO: Client 'GEONET' - Downloaded 0.0 MB [4.18 KB/sec] of data, 0.0 MB of which were discarded afterwards.\n",
      "[2021-11-25 00:46:11,828] - obspy.clients.fdsn.mass_downloader - INFO: Client 'GEONET' - Status for 1 time intervals/channels after downloading: DOWNLOADED\n",
      "[2021-11-25 00:46:11,837] - obspy.clients.fdsn.mass_downloader - INFO: Client 'GEONET' - No station information to download.\n",
      "[2021-11-25 00:46:11,842] - obspy.clients.fdsn.mass_downloader - INFO: ============================== Final report\n",
      "[2021-11-25 00:46:11,843] - obspy.clients.fdsn.mass_downloader - INFO: 0 MiniSEED files [0.0 MB] already existed.\n",
      "[2021-11-25 00:46:11,844] - obspy.clients.fdsn.mass_downloader - INFO: 1 StationXML files [0.0 MB] already existed.\n",
      "[2021-11-25 00:46:11,846] - obspy.clients.fdsn.mass_downloader - INFO: Client 'GEONET' - Acquired 1 MiniSEED files [0.0 MB].\n",
      "[2021-11-25 00:46:11,846] - obspy.clients.fdsn.mass_downloader - INFO: Client 'GEONET' - Acquired 0 StationXML files [0.0 MB].\n",
      "[2021-11-25 00:46:11,847] - obspy.clients.fdsn.mass_downloader - INFO: Downloaded 0.0 MB in total.\n",
      "[2021-11-25 00:46:11,849] - obspy.clients.fdsn.mass_downloader - INFO: Initializing FDSN client(s) for GEONET.\n",
      "[2021-11-25 00:46:11,853] - obspy.clients.fdsn.mass_downloader - INFO: Successfully initialized 1 client(s): GEONET.\n",
      "[2021-11-25 00:46:11,854] - obspy.clients.fdsn.mass_downloader - INFO: Total acquired or preexisting stations: 0\n",
      "[2021-11-25 00:46:11,854] - obspy.clients.fdsn.mass_downloader - INFO: Client 'GEONET' - Requesting unreliable availability.\n"
     ]
    },
    {
     "name": "stdout",
     "output_type": "stream",
     "text": [
      "=================================================================\n",
      "Initiating mass download request.\n"
     ]
    },
    {
     "name": "stderr",
     "output_type": "stream",
     "text": [
      "[2021-11-25 00:46:12,471] - obspy.clients.fdsn.mass_downloader - INFO: Client 'GEONET' - Successfully requested availability (0.62 seconds)\n",
      "[2021-11-25 00:46:12,472] - obspy.clients.fdsn.mass_downloader - INFO: Client 'GEONET' - Found 1 stations (1 channels).\n",
      "[2021-11-25 00:46:12,472] - obspy.clients.fdsn.mass_downloader - INFO: Client 'GEONET' - Will attempt to download data from 1 stations.\n",
      "[2021-11-25 00:46:12,472] - obspy.clients.fdsn.mass_downloader - INFO: Client 'GEONET' - Status for 1 time intervals/channels before downloading: NEEDS_DOWNLOADING\n",
      "[2021-11-25 00:46:13,592] - obspy.clients.fdsn.mass_downloader - INFO: Client 'GEONET' - Successfully downloaded 1 channels (of 1)\n",
      "[2021-11-25 00:46:13,595] - obspy.clients.fdsn.mass_downloader - INFO: Client 'GEONET' - Launching basic QC checks...\n",
      "[2021-11-25 00:46:13,604] - obspy.clients.fdsn.mass_downloader - INFO: Client 'GEONET' - Downloaded 0.0 MB [4.91 KB/sec] of data, 0.0 MB of which were discarded afterwards.\n",
      "[2021-11-25 00:46:13,604] - obspy.clients.fdsn.mass_downloader - INFO: Client 'GEONET' - Status for 1 time intervals/channels after downloading: DOWNLOADED\n",
      "[2021-11-25 00:46:13,606] - obspy.clients.fdsn.mass_downloader - INFO: Client 'GEONET' - No station information to download.\n",
      "[2021-11-25 00:46:13,607] - obspy.clients.fdsn.mass_downloader - INFO: ============================== Final report\n",
      "[2021-11-25 00:46:13,608] - obspy.clients.fdsn.mass_downloader - INFO: 0 MiniSEED files [0.0 MB] already existed.\n",
      "[2021-11-25 00:46:13,609] - obspy.clients.fdsn.mass_downloader - INFO: 1 StationXML files [0.0 MB] already existed.\n",
      "[2021-11-25 00:46:13,610] - obspy.clients.fdsn.mass_downloader - INFO: Client 'GEONET' - Acquired 1 MiniSEED files [0.0 MB].\n",
      "[2021-11-25 00:46:13,611] - obspy.clients.fdsn.mass_downloader - INFO: Client 'GEONET' - Acquired 0 StationXML files [0.0 MB].\n",
      "[2021-11-25 00:46:13,611] - obspy.clients.fdsn.mass_downloader - INFO: Downloaded 0.0 MB in total.\n",
      "[2021-11-25 00:46:13,620] - obspy.clients.fdsn.mass_downloader - INFO: Initializing FDSN client(s) for GEONET.\n",
      "[2021-11-25 00:46:13,623] - obspy.clients.fdsn.mass_downloader - INFO: Successfully initialized 1 client(s): GEONET.\n",
      "[2021-11-25 00:46:13,624] - obspy.clients.fdsn.mass_downloader - INFO: Total acquired or preexisting stations: 0\n",
      "[2021-11-25 00:46:13,624] - obspy.clients.fdsn.mass_downloader - INFO: Client 'GEONET' - Requesting unreliable availability.\n"
     ]
    },
    {
     "name": "stdout",
     "output_type": "stream",
     "text": [
      "=================================================================\n",
      "Initiating mass download request.\n"
     ]
    },
    {
     "name": "stderr",
     "output_type": "stream",
     "text": [
      "[2021-11-25 00:46:14,179] - obspy.clients.fdsn.mass_downloader - INFO: Client 'GEONET' - No data available for request.\n",
      "[2021-11-25 00:46:14,189] - obspy.clients.fdsn.mass_downloader - INFO: Client 'GEONET' - No data available.\n",
      "[2021-11-25 00:46:14,194] - obspy.clients.fdsn.mass_downloader - INFO: ============================== Final report\n",
      "[2021-11-25 00:46:14,195] - obspy.clients.fdsn.mass_downloader - INFO: 0 MiniSEED files [0.0 MB] already existed.\n",
      "[2021-11-25 00:46:14,197] - obspy.clients.fdsn.mass_downloader - INFO: 0 StationXML files [0.0 MB] already existed.\n",
      "[2021-11-25 00:46:14,200] - obspy.clients.fdsn.mass_downloader - INFO: Client 'GEONET' - Acquired 0 MiniSEED files [0.0 MB].\n",
      "[2021-11-25 00:46:14,201] - obspy.clients.fdsn.mass_downloader - INFO: Client 'GEONET' - Acquired 0 StationXML files [0.0 MB].\n",
      "[2021-11-25 00:46:14,202] - obspy.clients.fdsn.mass_downloader - INFO: Downloaded 0.0 MB in total.\n",
      "[2021-11-25 00:46:14,215] - obspy.clients.fdsn.mass_downloader - INFO: Initializing FDSN client(s) for GEONET.\n",
      "[2021-11-25 00:46:14,247] - obspy.clients.fdsn.mass_downloader - INFO: Successfully initialized 1 client(s): GEONET.\n",
      "[2021-11-25 00:46:14,252] - obspy.clients.fdsn.mass_downloader - INFO: Total acquired or preexisting stations: 0\n",
      "[2021-11-25 00:46:14,255] - obspy.clients.fdsn.mass_downloader - INFO: Client 'GEONET' - Requesting unreliable availability.\n"
     ]
    },
    {
     "name": "stdout",
     "output_type": "stream",
     "text": [
      "=================================================================\n",
      "Initiating mass download request.\n"
     ]
    },
    {
     "name": "stderr",
     "output_type": "stream",
     "text": [
      "[2021-11-25 00:46:14,856] - obspy.clients.fdsn.mass_downloader - INFO: Client 'GEONET' - Successfully requested availability (0.60 seconds)\n",
      "[2021-11-25 00:46:14,864] - obspy.clients.fdsn.mass_downloader - INFO: Client 'GEONET' - Found 1 stations (1 channels).\n",
      "[2021-11-25 00:46:14,865] - obspy.clients.fdsn.mass_downloader - INFO: Client 'GEONET' - Will attempt to download data from 1 stations.\n",
      "[2021-11-25 00:46:14,869] - obspy.clients.fdsn.mass_downloader - INFO: Client 'GEONET' - Status for 1 time intervals/channels before downloading: NEEDS_DOWNLOADING\n",
      "[2021-11-25 00:46:15,804] - obspy.clients.fdsn.mass_downloader - INFO: Client 'GEONET' - Successfully downloaded 1 channels (of 1)\n",
      "[2021-11-25 00:46:15,805] - obspy.clients.fdsn.mass_downloader - INFO: Client 'GEONET' - Launching basic QC checks...\n",
      "[2021-11-25 00:46:15,811] - obspy.clients.fdsn.mass_downloader - INFO: Client 'GEONET' - Downloaded 0.0 MB [4.30 KB/sec] of data, 0.0 MB of which were discarded afterwards.\n",
      "[2021-11-25 00:46:15,812] - obspy.clients.fdsn.mass_downloader - INFO: Client 'GEONET' - Status for 1 time intervals/channels after downloading: DOWNLOADED\n",
      "[2021-11-25 00:46:15,814] - obspy.clients.fdsn.mass_downloader - INFO: Client 'GEONET' - No station information to download.\n",
      "[2021-11-25 00:46:15,817] - obspy.clients.fdsn.mass_downloader - INFO: ============================== Final report\n",
      "[2021-11-25 00:46:15,818] - obspy.clients.fdsn.mass_downloader - INFO: 0 MiniSEED files [0.0 MB] already existed.\n",
      "[2021-11-25 00:46:15,820] - obspy.clients.fdsn.mass_downloader - INFO: 1 StationXML files [0.0 MB] already existed.\n",
      "[2021-11-25 00:46:15,820] - obspy.clients.fdsn.mass_downloader - INFO: Client 'GEONET' - Acquired 1 MiniSEED files [0.0 MB].\n",
      "[2021-11-25 00:46:15,821] - obspy.clients.fdsn.mass_downloader - INFO: Client 'GEONET' - Acquired 0 StationXML files [0.0 MB].\n",
      "[2021-11-25 00:46:15,821] - obspy.clients.fdsn.mass_downloader - INFO: Downloaded 0.0 MB in total.\n",
      "[2021-11-25 00:46:15,829] - obspy.clients.fdsn.mass_downloader - INFO: Initializing FDSN client(s) for GEONET.\n",
      "[2021-11-25 00:46:15,843] - obspy.clients.fdsn.mass_downloader - INFO: Successfully initialized 1 client(s): GEONET.\n",
      "[2021-11-25 00:46:15,845] - obspy.clients.fdsn.mass_downloader - INFO: Total acquired or preexisting stations: 0\n",
      "[2021-11-25 00:46:15,846] - obspy.clients.fdsn.mass_downloader - INFO: Client 'GEONET' - Requesting unreliable availability.\n"
     ]
    },
    {
     "name": "stdout",
     "output_type": "stream",
     "text": [
      "=================================================================\n",
      "Initiating mass download request.\n"
     ]
    },
    {
     "name": "stderr",
     "output_type": "stream",
     "text": [
      "[2021-11-25 00:46:16,455] - obspy.clients.fdsn.mass_downloader - INFO: Client 'GEONET' - Successfully requested availability (0.61 seconds)\n",
      "[2021-11-25 00:46:16,456] - obspy.clients.fdsn.mass_downloader - INFO: Client 'GEONET' - Found 1 stations (1 channels).\n",
      "[2021-11-25 00:46:16,457] - obspy.clients.fdsn.mass_downloader - INFO: Client 'GEONET' - Will attempt to download data from 1 stations.\n",
      "[2021-11-25 00:46:16,458] - obspy.clients.fdsn.mass_downloader - INFO: Client 'GEONET' - Status for 1 time intervals/channels before downloading: NEEDS_DOWNLOADING\n",
      "[2021-11-25 00:46:17,589] - obspy.clients.fdsn.mass_downloader - INFO: Client 'GEONET' - Successfully downloaded 1 channels (of 1)\n",
      "[2021-11-25 00:46:17,595] - obspy.clients.fdsn.mass_downloader - INFO: Client 'GEONET' - Launching basic QC checks...\n",
      "[2021-11-25 00:46:17,604] - obspy.clients.fdsn.mass_downloader - INFO: Client 'GEONET' - Downloaded 0.0 MB [3.97 KB/sec] of data, 0.0 MB of which were discarded afterwards.\n",
      "[2021-11-25 00:46:17,604] - obspy.clients.fdsn.mass_downloader - INFO: Client 'GEONET' - Status for 1 time intervals/channels after downloading: DOWNLOADED\n",
      "[2021-11-25 00:46:17,610] - obspy.clients.fdsn.mass_downloader - INFO: Client 'GEONET' - No station information to download.\n",
      "[2021-11-25 00:46:17,611] - obspy.clients.fdsn.mass_downloader - INFO: ============================== Final report\n",
      "[2021-11-25 00:46:17,611] - obspy.clients.fdsn.mass_downloader - INFO: 0 MiniSEED files [0.0 MB] already existed.\n",
      "[2021-11-25 00:46:17,612] - obspy.clients.fdsn.mass_downloader - INFO: 1 StationXML files [0.0 MB] already existed.\n",
      "[2021-11-25 00:46:17,612] - obspy.clients.fdsn.mass_downloader - INFO: Client 'GEONET' - Acquired 1 MiniSEED files [0.0 MB].\n",
      "[2021-11-25 00:46:17,612] - obspy.clients.fdsn.mass_downloader - INFO: Client 'GEONET' - Acquired 0 StationXML files [0.0 MB].\n",
      "[2021-11-25 00:46:17,613] - obspy.clients.fdsn.mass_downloader - INFO: Downloaded 0.0 MB in total.\n",
      "[2021-11-25 00:46:17,615] - obspy.clients.fdsn.mass_downloader - INFO: Initializing FDSN client(s) for GEONET.\n",
      "[2021-11-25 00:46:17,623] - obspy.clients.fdsn.mass_downloader - INFO: Successfully initialized 1 client(s): GEONET.\n",
      "[2021-11-25 00:46:17,624] - obspy.clients.fdsn.mass_downloader - INFO: Total acquired or preexisting stations: 0\n",
      "[2021-11-25 00:46:17,624] - obspy.clients.fdsn.mass_downloader - INFO: Client 'GEONET' - Requesting unreliable availability.\n"
     ]
    },
    {
     "name": "stdout",
     "output_type": "stream",
     "text": [
      "=================================================================\n",
      "Initiating mass download request.\n"
     ]
    },
    {
     "name": "stderr",
     "output_type": "stream",
     "text": [
      "[2021-11-25 00:46:18,163] - obspy.clients.fdsn.mass_downloader - INFO: Client 'GEONET' - Successfully requested availability (0.54 seconds)\n",
      "[2021-11-25 00:46:18,166] - obspy.clients.fdsn.mass_downloader - INFO: Client 'GEONET' - Found 1 stations (1 channels).\n",
      "[2021-11-25 00:46:18,167] - obspy.clients.fdsn.mass_downloader - INFO: Client 'GEONET' - Will attempt to download data from 1 stations.\n",
      "[2021-11-25 00:46:18,168] - obspy.clients.fdsn.mass_downloader - INFO: Client 'GEONET' - Status for 1 time intervals/channels before downloading: NEEDS_DOWNLOADING\n",
      "[2021-11-25 00:46:19,924] - obspy.clients.fdsn.mass_downloader - INFO: Client 'GEONET' - Successfully downloaded 1 channels (of 1)\n",
      "[2021-11-25 00:46:19,931] - obspy.clients.fdsn.mass_downloader - INFO: Client 'GEONET' - Launching basic QC checks...\n",
      "[2021-11-25 00:46:19,935] - obspy.clients.fdsn.mass_downloader - INFO: Client 'GEONET' - Downloaded 0.0 MB [2.29 KB/sec] of data, 0.0 MB of which were discarded afterwards.\n",
      "[2021-11-25 00:46:19,935] - obspy.clients.fdsn.mass_downloader - INFO: Client 'GEONET' - Status for 1 time intervals/channels after downloading: DOWNLOADED\n",
      "[2021-11-25 00:46:19,939] - obspy.clients.fdsn.mass_downloader - INFO: Client 'GEONET' - No station information to download.\n",
      "[2021-11-25 00:46:19,940] - obspy.clients.fdsn.mass_downloader - INFO: ============================== Final report\n",
      "[2021-11-25 00:46:19,940] - obspy.clients.fdsn.mass_downloader - INFO: 0 MiniSEED files [0.0 MB] already existed.\n",
      "[2021-11-25 00:46:19,941] - obspy.clients.fdsn.mass_downloader - INFO: 1 StationXML files [0.0 MB] already existed.\n",
      "[2021-11-25 00:46:19,941] - obspy.clients.fdsn.mass_downloader - INFO: Client 'GEONET' - Acquired 1 MiniSEED files [0.0 MB].\n",
      "[2021-11-25 00:46:19,941] - obspy.clients.fdsn.mass_downloader - INFO: Client 'GEONET' - Acquired 0 StationXML files [0.0 MB].\n",
      "[2021-11-25 00:46:19,941] - obspy.clients.fdsn.mass_downloader - INFO: Downloaded 0.0 MB in total.\n",
      "[2021-11-25 00:46:19,943] - obspy.clients.fdsn.mass_downloader - INFO: Initializing FDSN client(s) for GEONET.\n",
      "[2021-11-25 00:46:19,946] - obspy.clients.fdsn.mass_downloader - INFO: Successfully initialized 1 client(s): GEONET.\n",
      "[2021-11-25 00:46:19,947] - obspy.clients.fdsn.mass_downloader - INFO: Total acquired or preexisting stations: 0\n",
      "[2021-11-25 00:46:19,947] - obspy.clients.fdsn.mass_downloader - INFO: Client 'GEONET' - Requesting unreliable availability.\n"
     ]
    },
    {
     "name": "stdout",
     "output_type": "stream",
     "text": [
      "=================================================================\n",
      "Initiating mass download request.\n"
     ]
    },
    {
     "name": "stderr",
     "output_type": "stream",
     "text": [
      "[2021-11-25 00:46:20,608] - obspy.clients.fdsn.mass_downloader - INFO: Client 'GEONET' - Successfully requested availability (0.66 seconds)\n",
      "[2021-11-25 00:46:20,608] - obspy.clients.fdsn.mass_downloader - INFO: Client 'GEONET' - Found 1 stations (1 channels).\n",
      "[2021-11-25 00:46:20,609] - obspy.clients.fdsn.mass_downloader - INFO: Client 'GEONET' - Will attempt to download data from 1 stations.\n",
      "[2021-11-25 00:46:20,609] - obspy.clients.fdsn.mass_downloader - INFO: Client 'GEONET' - Status for 1 time intervals/channels before downloading: NEEDS_DOWNLOADING\n",
      "[2021-11-25 00:46:21,497] - obspy.clients.fdsn.mass_downloader - INFO: Client 'GEONET' - Successfully downloaded 1 channels (of 1)\n",
      "[2021-11-25 00:46:21,506] - obspy.clients.fdsn.mass_downloader - INFO: Client 'GEONET' - Launching basic QC checks...\n",
      "[2021-11-25 00:46:21,514] - obspy.clients.fdsn.mass_downloader - INFO: Client 'GEONET' - Downloaded 0.0 MB [3.35 KB/sec] of data, 0.0 MB of which were discarded afterwards.\n",
      "[2021-11-25 00:46:21,514] - obspy.clients.fdsn.mass_downloader - INFO: Client 'GEONET' - Status for 1 time intervals/channels after downloading: DOWNLOADED\n",
      "[2021-11-25 00:46:21,516] - obspy.clients.fdsn.mass_downloader - INFO: Client 'GEONET' - No station information to download.\n",
      "[2021-11-25 00:46:21,517] - obspy.clients.fdsn.mass_downloader - INFO: ============================== Final report\n",
      "[2021-11-25 00:46:21,518] - obspy.clients.fdsn.mass_downloader - INFO: 0 MiniSEED files [0.0 MB] already existed.\n",
      "[2021-11-25 00:46:21,518] - obspy.clients.fdsn.mass_downloader - INFO: 1 StationXML files [0.0 MB] already existed.\n",
      "[2021-11-25 00:46:21,518] - obspy.clients.fdsn.mass_downloader - INFO: Client 'GEONET' - Acquired 1 MiniSEED files [0.0 MB].\n",
      "[2021-11-25 00:46:21,519] - obspy.clients.fdsn.mass_downloader - INFO: Client 'GEONET' - Acquired 0 StationXML files [0.0 MB].\n",
      "[2021-11-25 00:46:21,519] - obspy.clients.fdsn.mass_downloader - INFO: Downloaded 0.0 MB in total.\n",
      "[2021-11-25 00:46:21,528] - obspy.clients.fdsn.mass_downloader - INFO: Initializing FDSN client(s) for GEONET.\n",
      "[2021-11-25 00:46:21,536] - obspy.clients.fdsn.mass_downloader - INFO: Successfully initialized 1 client(s): GEONET.\n",
      "[2021-11-25 00:46:21,537] - obspy.clients.fdsn.mass_downloader - INFO: Total acquired or preexisting stations: 0\n",
      "[2021-11-25 00:46:21,537] - obspy.clients.fdsn.mass_downloader - INFO: Client 'GEONET' - Requesting unreliable availability.\n"
     ]
    },
    {
     "name": "stdout",
     "output_type": "stream",
     "text": [
      "=================================================================\n",
      "Initiating mass download request.\n"
     ]
    },
    {
     "name": "stderr",
     "output_type": "stream",
     "text": [
      "[2021-11-25 00:46:22,082] - obspy.clients.fdsn.mass_downloader - INFO: Client 'GEONET' - Successfully requested availability (0.54 seconds)\n",
      "[2021-11-25 00:46:22,082] - obspy.clients.fdsn.mass_downloader - INFO: Client 'GEONET' - Found 1 stations (1 channels).\n",
      "[2021-11-25 00:46:22,082] - obspy.clients.fdsn.mass_downloader - INFO: Client 'GEONET' - Will attempt to download data from 1 stations.\n",
      "[2021-11-25 00:46:22,083] - obspy.clients.fdsn.mass_downloader - INFO: Client 'GEONET' - Status for 1 time intervals/channels before downloading: NEEDS_DOWNLOADING\n",
      "[2021-11-25 00:46:23,095] - obspy.clients.fdsn.mass_downloader - INFO: Client 'GEONET' - Successfully downloaded 1 channels (of 1)\n",
      "[2021-11-25 00:46:23,105] - obspy.clients.fdsn.mass_downloader - INFO: Client 'GEONET' - Launching basic QC checks...\n",
      "[2021-11-25 00:46:23,125] - obspy.clients.fdsn.mass_downloader - INFO: Client 'GEONET' - Downloaded 0.0 MB [3.92 KB/sec] of data, 0.0 MB of which were discarded afterwards.\n",
      "[2021-11-25 00:46:23,126] - obspy.clients.fdsn.mass_downloader - INFO: Client 'GEONET' - Status for 1 time intervals/channels after downloading: DOWNLOADED\n",
      "[2021-11-25 00:46:23,130] - obspy.clients.fdsn.mass_downloader - INFO: Client 'GEONET' - No station information to download.\n",
      "[2021-11-25 00:46:23,134] - obspy.clients.fdsn.mass_downloader - INFO: ============================== Final report\n",
      "[2021-11-25 00:46:23,135] - obspy.clients.fdsn.mass_downloader - INFO: 0 MiniSEED files [0.0 MB] already existed.\n",
      "[2021-11-25 00:46:23,135] - obspy.clients.fdsn.mass_downloader - INFO: 1 StationXML files [0.0 MB] already existed.\n",
      "[2021-11-25 00:46:23,136] - obspy.clients.fdsn.mass_downloader - INFO: Client 'GEONET' - Acquired 1 MiniSEED files [0.0 MB].\n",
      "[2021-11-25 00:46:23,136] - obspy.clients.fdsn.mass_downloader - INFO: Client 'GEONET' - Acquired 0 StationXML files [0.0 MB].\n",
      "[2021-11-25 00:46:23,137] - obspy.clients.fdsn.mass_downloader - INFO: Downloaded 0.0 MB in total.\n",
      "[2021-11-25 00:46:23,139] - obspy.clients.fdsn.mass_downloader - INFO: Initializing FDSN client(s) for GEONET.\n",
      "[2021-11-25 00:46:23,154] - obspy.clients.fdsn.mass_downloader - INFO: Successfully initialized 1 client(s): GEONET.\n",
      "[2021-11-25 00:46:23,155] - obspy.clients.fdsn.mass_downloader - INFO: Total acquired or preexisting stations: 0\n",
      "[2021-11-25 00:46:23,156] - obspy.clients.fdsn.mass_downloader - INFO: Client 'GEONET' - Requesting unreliable availability.\n"
     ]
    },
    {
     "name": "stdout",
     "output_type": "stream",
     "text": [
      "=================================================================\n",
      "Initiating mass download request.\n"
     ]
    },
    {
     "name": "stderr",
     "output_type": "stream",
     "text": [
      "[2021-11-25 00:46:23,787] - obspy.clients.fdsn.mass_downloader - INFO: Client 'GEONET' - Successfully requested availability (0.63 seconds)\n",
      "[2021-11-25 00:46:23,793] - obspy.clients.fdsn.mass_downloader - INFO: Client 'GEONET' - Found 1 stations (1 channels).\n",
      "[2021-11-25 00:46:23,794] - obspy.clients.fdsn.mass_downloader - INFO: Client 'GEONET' - Will attempt to download data from 1 stations.\n",
      "[2021-11-25 00:46:23,795] - obspy.clients.fdsn.mass_downloader - INFO: Client 'GEONET' - Status for 1 time intervals/channels before downloading: NEEDS_DOWNLOADING\n",
      "[2021-11-25 00:46:24,770] - obspy.clients.fdsn.mass_downloader - INFO: Client 'GEONET' - Successfully downloaded 1 channels (of 1)\n",
      "[2021-11-25 00:46:24,773] - obspy.clients.fdsn.mass_downloader - INFO: Client 'GEONET' - Launching basic QC checks...\n",
      "[2021-11-25 00:46:24,784] - obspy.clients.fdsn.mass_downloader - INFO: Client 'GEONET' - Downloaded 0.0 MB [3.59 KB/sec] of data, 0.0 MB of which were discarded afterwards.\n",
      "[2021-11-25 00:46:24,785] - obspy.clients.fdsn.mass_downloader - INFO: Client 'GEONET' - Status for 1 time intervals/channels after downloading: DOWNLOADED\n",
      "[2021-11-25 00:46:24,790] - obspy.clients.fdsn.mass_downloader - INFO: Client 'GEONET' - No station information to download.\n",
      "[2021-11-25 00:46:24,795] - obspy.clients.fdsn.mass_downloader - INFO: ============================== Final report\n",
      "[2021-11-25 00:46:24,797] - obspy.clients.fdsn.mass_downloader - INFO: 0 MiniSEED files [0.0 MB] already existed.\n",
      "[2021-11-25 00:46:24,797] - obspy.clients.fdsn.mass_downloader - INFO: 1 StationXML files [0.0 MB] already existed.\n",
      "[2021-11-25 00:46:24,798] - obspy.clients.fdsn.mass_downloader - INFO: Client 'GEONET' - Acquired 1 MiniSEED files [0.0 MB].\n",
      "[2021-11-25 00:46:24,800] - obspy.clients.fdsn.mass_downloader - INFO: Client 'GEONET' - Acquired 0 StationXML files [0.0 MB].\n",
      "[2021-11-25 00:46:24,802] - obspy.clients.fdsn.mass_downloader - INFO: Downloaded 0.0 MB in total.\n",
      "[2021-11-25 00:46:24,809] - obspy.clients.fdsn.mass_downloader - INFO: Initializing FDSN client(s) for GEONET.\n",
      "[2021-11-25 00:46:24,835] - obspy.clients.fdsn.mass_downloader - INFO: Successfully initialized 1 client(s): GEONET.\n",
      "[2021-11-25 00:46:24,837] - obspy.clients.fdsn.mass_downloader - INFO: Total acquired or preexisting stations: 0\n",
      "[2021-11-25 00:46:24,838] - obspy.clients.fdsn.mass_downloader - INFO: Client 'GEONET' - Requesting unreliable availability.\n"
     ]
    },
    {
     "name": "stdout",
     "output_type": "stream",
     "text": [
      "=================================================================\n",
      "Initiating mass download request.\n"
     ]
    },
    {
     "name": "stderr",
     "output_type": "stream",
     "text": [
      "[2021-11-25 00:46:25,403] - obspy.clients.fdsn.mass_downloader - INFO: Client 'GEONET' - Successfully requested availability (0.56 seconds)\n",
      "[2021-11-25 00:46:25,404] - obspy.clients.fdsn.mass_downloader - INFO: Client 'GEONET' - Found 1 stations (1 channels).\n",
      "[2021-11-25 00:46:25,405] - obspy.clients.fdsn.mass_downloader - INFO: Client 'GEONET' - Will attempt to download data from 1 stations.\n",
      "[2021-11-25 00:46:25,406] - obspy.clients.fdsn.mass_downloader - INFO: Client 'GEONET' - Status for 1 time intervals/channels before downloading: NEEDS_DOWNLOADING\n",
      "[2021-11-25 00:46:26,213] - obspy.clients.fdsn.mass_downloader - INFO: Client 'GEONET' - Successfully downloaded 1 channels (of 1)\n",
      "[2021-11-25 00:46:26,229] - obspy.clients.fdsn.mass_downloader - INFO: Client 'GEONET' - Launching basic QC checks...\n",
      "[2021-11-25 00:46:26,241] - obspy.clients.fdsn.mass_downloader - INFO: Client 'GEONET' - Downloaded 0.0 MB [3.67 KB/sec] of data, 0.0 MB of which were discarded afterwards.\n",
      "[2021-11-25 00:46:26,242] - obspy.clients.fdsn.mass_downloader - INFO: Client 'GEONET' - Status for 1 time intervals/channels after downloading: DOWNLOADED\n",
      "[2021-11-25 00:46:26,245] - obspy.clients.fdsn.mass_downloader - INFO: Client 'GEONET' - No station information to download.\n",
      "[2021-11-25 00:46:26,246] - obspy.clients.fdsn.mass_downloader - INFO: ============================== Final report\n",
      "[2021-11-25 00:46:26,246] - obspy.clients.fdsn.mass_downloader - INFO: 0 MiniSEED files [0.0 MB] already existed.\n",
      "[2021-11-25 00:46:26,247] - obspy.clients.fdsn.mass_downloader - INFO: 1 StationXML files [0.0 MB] already existed.\n",
      "[2021-11-25 00:46:26,247] - obspy.clients.fdsn.mass_downloader - INFO: Client 'GEONET' - Acquired 1 MiniSEED files [0.0 MB].\n",
      "[2021-11-25 00:46:26,247] - obspy.clients.fdsn.mass_downloader - INFO: Client 'GEONET' - Acquired 0 StationXML files [0.0 MB].\n",
      "[2021-11-25 00:46:26,247] - obspy.clients.fdsn.mass_downloader - INFO: Downloaded 0.0 MB in total.\n",
      "[2021-11-25 00:46:26,252] - obspy.clients.fdsn.mass_downloader - INFO: Initializing FDSN client(s) for GEONET.\n",
      "[2021-11-25 00:46:26,259] - obspy.clients.fdsn.mass_downloader - INFO: Successfully initialized 1 client(s): GEONET.\n",
      "[2021-11-25 00:46:26,266] - obspy.clients.fdsn.mass_downloader - INFO: Total acquired or preexisting stations: 0\n",
      "[2021-11-25 00:46:26,267] - obspy.clients.fdsn.mass_downloader - INFO: Client 'GEONET' - Requesting unreliable availability.\n"
     ]
    },
    {
     "name": "stdout",
     "output_type": "stream",
     "text": [
      "=================================================================\n",
      "Initiating mass download request.\n"
     ]
    },
    {
     "name": "stderr",
     "output_type": "stream",
     "text": [
      "[2021-11-25 00:46:26,917] - obspy.clients.fdsn.mass_downloader - INFO: Client 'GEONET' - Successfully requested availability (0.65 seconds)\n",
      "[2021-11-25 00:46:26,918] - obspy.clients.fdsn.mass_downloader - INFO: Client 'GEONET' - Found 1 stations (1 channels).\n",
      "[2021-11-25 00:46:26,918] - obspy.clients.fdsn.mass_downloader - INFO: Client 'GEONET' - Will attempt to download data from 1 stations.\n",
      "[2021-11-25 00:46:26,919] - obspy.clients.fdsn.mass_downloader - INFO: Client 'GEONET' - Status for 1 time intervals/channels before downloading: NEEDS_DOWNLOADING\n",
      "[2021-11-25 00:46:27,987] - obspy.clients.fdsn.mass_downloader - INFO: Client 'GEONET' - Successfully downloaded 1 channels (of 1)\n",
      "[2021-11-25 00:46:27,994] - obspy.clients.fdsn.mass_downloader - INFO: Client 'GEONET' - Launching basic QC checks...\n",
      "[2021-11-25 00:46:28,008] - obspy.clients.fdsn.mass_downloader - INFO: Client 'GEONET' - Downloaded 0.0 MB [4.19 KB/sec] of data, 0.0 MB of which were discarded afterwards.\n",
      "[2021-11-25 00:46:28,010] - obspy.clients.fdsn.mass_downloader - INFO: Client 'GEONET' - Status for 1 time intervals/channels after downloading: DOWNLOADED\n",
      "[2021-11-25 00:46:28,017] - obspy.clients.fdsn.mass_downloader - INFO: Client 'GEONET' - No station information to download.\n",
      "[2021-11-25 00:46:28,020] - obspy.clients.fdsn.mass_downloader - INFO: ============================== Final report\n",
      "[2021-11-25 00:46:28,021] - obspy.clients.fdsn.mass_downloader - INFO: 0 MiniSEED files [0.0 MB] already existed.\n",
      "[2021-11-25 00:46:28,021] - obspy.clients.fdsn.mass_downloader - INFO: 1 StationXML files [0.0 MB] already existed.\n",
      "[2021-11-25 00:46:28,022] - obspy.clients.fdsn.mass_downloader - INFO: Client 'GEONET' - Acquired 1 MiniSEED files [0.0 MB].\n",
      "[2021-11-25 00:46:28,023] - obspy.clients.fdsn.mass_downloader - INFO: Client 'GEONET' - Acquired 0 StationXML files [0.0 MB].\n",
      "[2021-11-25 00:46:28,025] - obspy.clients.fdsn.mass_downloader - INFO: Downloaded 0.0 MB in total.\n",
      "[2021-11-25 00:46:28,033] - obspy.clients.fdsn.mass_downloader - INFO: Initializing FDSN client(s) for GEONET.\n",
      "[2021-11-25 00:46:28,045] - obspy.clients.fdsn.mass_downloader - INFO: Successfully initialized 1 client(s): GEONET.\n",
      "[2021-11-25 00:46:28,047] - obspy.clients.fdsn.mass_downloader - INFO: Total acquired or preexisting stations: 0\n",
      "[2021-11-25 00:46:28,048] - obspy.clients.fdsn.mass_downloader - INFO: Client 'GEONET' - Requesting unreliable availability.\n"
     ]
    },
    {
     "name": "stdout",
     "output_type": "stream",
     "text": [
      "=================================================================\n",
      "Initiating mass download request.\n"
     ]
    },
    {
     "name": "stderr",
     "output_type": "stream",
     "text": [
      "[2021-11-25 00:46:28,694] - obspy.clients.fdsn.mass_downloader - INFO: Client 'GEONET' - Successfully requested availability (0.64 seconds)\n",
      "[2021-11-25 00:46:28,701] - obspy.clients.fdsn.mass_downloader - INFO: Client 'GEONET' - Found 1 stations (1 channels).\n",
      "[2021-11-25 00:46:28,702] - obspy.clients.fdsn.mass_downloader - INFO: Client 'GEONET' - Will attempt to download data from 1 stations.\n",
      "[2021-11-25 00:46:28,702] - obspy.clients.fdsn.mass_downloader - INFO: Client 'GEONET' - Status for 1 time intervals/channels before downloading: NEEDS_DOWNLOADING\n",
      "[2021-11-25 00:46:29,792] - obspy.clients.fdsn.mass_downloader - INFO: Client 'GEONET' - Successfully downloaded 1 channels (of 1)\n",
      "[2021-11-25 00:46:29,801] - obspy.clients.fdsn.mass_downloader - INFO: Client 'GEONET' - Launching basic QC checks...\n",
      "[2021-11-25 00:46:29,817] - obspy.clients.fdsn.mass_downloader - INFO: Client 'GEONET' - Downloaded 0.0 MB [3.67 KB/sec] of data, 0.0 MB of which were discarded afterwards.\n",
      "[2021-11-25 00:46:29,820] - obspy.clients.fdsn.mass_downloader - INFO: Client 'GEONET' - Status for 1 time intervals/channels after downloading: DOWNLOADED\n",
      "[2021-11-25 00:46:29,831] - obspy.clients.fdsn.mass_downloader - INFO: Client 'GEONET' - No station information to download.\n",
      "[2021-11-25 00:46:29,833] - obspy.clients.fdsn.mass_downloader - INFO: ============================== Final report\n",
      "[2021-11-25 00:46:29,834] - obspy.clients.fdsn.mass_downloader - INFO: 0 MiniSEED files [0.0 MB] already existed.\n",
      "[2021-11-25 00:46:29,835] - obspy.clients.fdsn.mass_downloader - INFO: 1 StationXML files [0.0 MB] already existed.\n",
      "[2021-11-25 00:46:29,835] - obspy.clients.fdsn.mass_downloader - INFO: Client 'GEONET' - Acquired 1 MiniSEED files [0.0 MB].\n",
      "[2021-11-25 00:46:29,836] - obspy.clients.fdsn.mass_downloader - INFO: Client 'GEONET' - Acquired 0 StationXML files [0.0 MB].\n",
      "[2021-11-25 00:46:29,837] - obspy.clients.fdsn.mass_downloader - INFO: Downloaded 0.0 MB in total.\n",
      "[2021-11-25 00:46:29,848] - obspy.clients.fdsn.mass_downloader - INFO: Initializing FDSN client(s) for GEONET.\n",
      "[2021-11-25 00:46:29,872] - obspy.clients.fdsn.mass_downloader - INFO: Successfully initialized 1 client(s): GEONET.\n",
      "[2021-11-25 00:46:29,876] - obspy.clients.fdsn.mass_downloader - INFO: Total acquired or preexisting stations: 0\n",
      "[2021-11-25 00:46:29,878] - obspy.clients.fdsn.mass_downloader - INFO: Client 'GEONET' - Requesting unreliable availability.\n"
     ]
    },
    {
     "name": "stdout",
     "output_type": "stream",
     "text": [
      "=================================================================\n",
      "Initiating mass download request.\n"
     ]
    },
    {
     "name": "stderr",
     "output_type": "stream",
     "text": [
      "[2021-11-25 00:46:30,473] - obspy.clients.fdsn.mass_downloader - INFO: Client 'GEONET' - Successfully requested availability (0.59 seconds)\n",
      "[2021-11-25 00:46:30,482] - obspy.clients.fdsn.mass_downloader - INFO: Client 'GEONET' - Found 1 stations (1 channels).\n",
      "[2021-11-25 00:46:30,483] - obspy.clients.fdsn.mass_downloader - INFO: Client 'GEONET' - Will attempt to download data from 1 stations.\n",
      "[2021-11-25 00:46:30,484] - obspy.clients.fdsn.mass_downloader - INFO: Client 'GEONET' - Status for 1 time intervals/channels before downloading: NEEDS_DOWNLOADING\n",
      "[2021-11-25 00:46:31,474] - obspy.clients.fdsn.mass_downloader - INFO: Client 'GEONET' - Successfully downloaded 1 channels (of 1)\n",
      "[2021-11-25 00:46:31,478] - obspy.clients.fdsn.mass_downloader - INFO: Client 'GEONET' - Launching basic QC checks...\n",
      "[2021-11-25 00:46:31,489] - obspy.clients.fdsn.mass_downloader - INFO: Client 'GEONET' - Downloaded 0.0 MB [4.07 KB/sec] of data, 0.0 MB of which were discarded afterwards.\n",
      "[2021-11-25 00:46:31,494] - obspy.clients.fdsn.mass_downloader - INFO: Client 'GEONET' - Status for 1 time intervals/channels after downloading: DOWNLOADED\n",
      "[2021-11-25 00:46:31,505] - obspy.clients.fdsn.mass_downloader - INFO: Client 'GEONET' - No station information to download.\n",
      "[2021-11-25 00:46:31,507] - obspy.clients.fdsn.mass_downloader - INFO: ============================== Final report\n",
      "[2021-11-25 00:46:31,509] - obspy.clients.fdsn.mass_downloader - INFO: 0 MiniSEED files [0.0 MB] already existed.\n",
      "[2021-11-25 00:46:31,511] - obspy.clients.fdsn.mass_downloader - INFO: 1 StationXML files [0.0 MB] already existed.\n",
      "[2021-11-25 00:46:31,513] - obspy.clients.fdsn.mass_downloader - INFO: Client 'GEONET' - Acquired 1 MiniSEED files [0.0 MB].\n",
      "[2021-11-25 00:46:31,514] - obspy.clients.fdsn.mass_downloader - INFO: Client 'GEONET' - Acquired 0 StationXML files [0.0 MB].\n",
      "[2021-11-25 00:46:31,514] - obspy.clients.fdsn.mass_downloader - INFO: Downloaded 0.0 MB in total.\n",
      "[2021-11-25 00:46:31,523] - obspy.clients.fdsn.mass_downloader - INFO: Initializing FDSN client(s) for GEONET.\n",
      "[2021-11-25 00:46:31,530] - obspy.clients.fdsn.mass_downloader - INFO: Successfully initialized 1 client(s): GEONET.\n",
      "[2021-11-25 00:46:31,532] - obspy.clients.fdsn.mass_downloader - INFO: Total acquired or preexisting stations: 0\n",
      "[2021-11-25 00:46:31,532] - obspy.clients.fdsn.mass_downloader - INFO: Client 'GEONET' - Requesting unreliable availability.\n"
     ]
    },
    {
     "name": "stdout",
     "output_type": "stream",
     "text": [
      "=================================================================\n",
      "Initiating mass download request.\n"
     ]
    },
    {
     "name": "stderr",
     "output_type": "stream",
     "text": [
      "[2021-11-25 00:46:32,772] - obspy.clients.fdsn.mass_downloader - INFO: Client 'GEONET' - Successfully requested availability (1.24 seconds)\n",
      "[2021-11-25 00:46:32,776] - obspy.clients.fdsn.mass_downloader - INFO: Client 'GEONET' - Found 1 stations (1 channels).\n",
      "[2021-11-25 00:46:32,781] - obspy.clients.fdsn.mass_downloader - INFO: Client 'GEONET' - Will attempt to download data from 1 stations.\n",
      "[2021-11-25 00:46:32,783] - obspy.clients.fdsn.mass_downloader - INFO: Client 'GEONET' - Status for 1 time intervals/channels before downloading: NEEDS_DOWNLOADING\n",
      "[2021-11-25 00:46:33,314] - obspy.clients.fdsn.mass_downloader - INFO: Client 'GEONET' - No data available for request.\n",
      "[2021-11-25 00:46:33,321] - obspy.clients.fdsn.mass_downloader - INFO: Client 'GEONET' - Launching basic QC checks...\n",
      "[2021-11-25 00:46:33,323] - obspy.clients.fdsn.mass_downloader - INFO: Client 'GEONET' - Downloaded 0.0 MB [0.00 KB/sec] of data, 0.0 MB of which were discarded afterwards.\n",
      "[2021-11-25 00:46:33,328] - obspy.clients.fdsn.mass_downloader - INFO: Client 'GEONET' - Status for 1 time intervals/channels after downloading: DOWNLOAD_FAILED\n",
      "[2021-11-25 00:46:33,332] - obspy.clients.fdsn.mass_downloader - INFO: Client 'GEONET' - No station information to download.\n",
      "[2021-11-25 00:46:33,337] - obspy.clients.fdsn.mass_downloader - INFO: Client 'GEONET' - No data could be downloaded.\n",
      "[2021-11-25 00:46:33,341] - obspy.clients.fdsn.mass_downloader - INFO: ============================== Final report\n",
      "[2021-11-25 00:46:33,344] - obspy.clients.fdsn.mass_downloader - INFO: 0 MiniSEED files [0.0 MB] already existed.\n",
      "[2021-11-25 00:46:33,346] - obspy.clients.fdsn.mass_downloader - INFO: 0 StationXML files [0.0 MB] already existed.\n",
      "[2021-11-25 00:46:33,347] - obspy.clients.fdsn.mass_downloader - INFO: Client 'GEONET' - Acquired 0 MiniSEED files [0.0 MB].\n",
      "[2021-11-25 00:46:33,348] - obspy.clients.fdsn.mass_downloader - INFO: Client 'GEONET' - Acquired 0 StationXML files [0.0 MB].\n",
      "[2021-11-25 00:46:33,348] - obspy.clients.fdsn.mass_downloader - INFO: Downloaded 0.0 MB in total.\n",
      "[2021-11-25 00:46:33,354] - obspy.clients.fdsn.mass_downloader - INFO: Initializing FDSN client(s) for GEONET.\n",
      "[2021-11-25 00:46:33,366] - obspy.clients.fdsn.mass_downloader - INFO: Successfully initialized 1 client(s): GEONET.\n",
      "[2021-11-25 00:46:33,374] - obspy.clients.fdsn.mass_downloader - INFO: Total acquired or preexisting stations: 0\n",
      "[2021-11-25 00:46:33,378] - obspy.clients.fdsn.mass_downloader - INFO: Client 'GEONET' - Requesting unreliable availability.\n"
     ]
    },
    {
     "name": "stdout",
     "output_type": "stream",
     "text": [
      "=================================================================\n",
      "Initiating mass download request.\n"
     ]
    },
    {
     "name": "stderr",
     "output_type": "stream",
     "text": [
      "[2021-11-25 00:46:33,938] - obspy.clients.fdsn.mass_downloader - INFO: Client 'GEONET' - Successfully requested availability (0.56 seconds)\n",
      "[2021-11-25 00:46:33,941] - obspy.clients.fdsn.mass_downloader - INFO: Client 'GEONET' - Found 1 stations (1 channels).\n",
      "[2021-11-25 00:46:33,943] - obspy.clients.fdsn.mass_downloader - INFO: Client 'GEONET' - Will attempt to download data from 1 stations.\n",
      "[2021-11-25 00:46:33,948] - obspy.clients.fdsn.mass_downloader - INFO: Client 'GEONET' - Status for 1 time intervals/channels before downloading: NEEDS_DOWNLOADING\n",
      "[2021-11-25 00:46:34,823] - obspy.clients.fdsn.mass_downloader - INFO: Client 'GEONET' - Successfully downloaded 1 channels (of 1)\n",
      "[2021-11-25 00:46:34,832] - obspy.clients.fdsn.mass_downloader - INFO: Client 'GEONET' - Launching basic QC checks...\n",
      "[2021-11-25 00:46:34,848] - obspy.clients.fdsn.mass_downloader - INFO: Client 'GEONET' - Downloaded 0.0 MB [3.47 KB/sec] of data, 0.0 MB of which were discarded afterwards.\n",
      "[2021-11-25 00:46:34,849] - obspy.clients.fdsn.mass_downloader - INFO: Client 'GEONET' - Status for 1 time intervals/channels after downloading: DOWNLOADED\n",
      "[2021-11-25 00:46:34,855] - obspy.clients.fdsn.mass_downloader - INFO: Client 'GEONET' - No station information to download.\n",
      "[2021-11-25 00:46:34,857] - obspy.clients.fdsn.mass_downloader - INFO: ============================== Final report\n",
      "[2021-11-25 00:46:34,857] - obspy.clients.fdsn.mass_downloader - INFO: 0 MiniSEED files [0.0 MB] already existed.\n",
      "[2021-11-25 00:46:34,858] - obspy.clients.fdsn.mass_downloader - INFO: 1 StationXML files [0.0 MB] already existed.\n",
      "[2021-11-25 00:46:34,859] - obspy.clients.fdsn.mass_downloader - INFO: Client 'GEONET' - Acquired 1 MiniSEED files [0.0 MB].\n",
      "[2021-11-25 00:46:34,859] - obspy.clients.fdsn.mass_downloader - INFO: Client 'GEONET' - Acquired 0 StationXML files [0.0 MB].\n",
      "[2021-11-25 00:46:34,859] - obspy.clients.fdsn.mass_downloader - INFO: Downloaded 0.0 MB in total.\n",
      "[2021-11-25 00:46:34,864] - obspy.clients.fdsn.mass_downloader - INFO: Initializing FDSN client(s) for GEONET.\n",
      "[2021-11-25 00:46:34,868] - obspy.clients.fdsn.mass_downloader - INFO: Successfully initialized 1 client(s): GEONET.\n",
      "[2021-11-25 00:46:34,869] - obspy.clients.fdsn.mass_downloader - INFO: Total acquired or preexisting stations: 0\n",
      "[2021-11-25 00:46:34,870] - obspy.clients.fdsn.mass_downloader - INFO: Client 'GEONET' - Requesting unreliable availability.\n"
     ]
    },
    {
     "name": "stdout",
     "output_type": "stream",
     "text": [
      "=================================================================\n",
      "Initiating mass download request.\n"
     ]
    },
    {
     "name": "stderr",
     "output_type": "stream",
     "text": [
      "[2021-11-25 00:46:35,417] - obspy.clients.fdsn.mass_downloader - INFO: Client 'GEONET' - Successfully requested availability (0.55 seconds)\n",
      "[2021-11-25 00:46:35,418] - obspy.clients.fdsn.mass_downloader - INFO: Client 'GEONET' - Found 1 stations (1 channels).\n",
      "[2021-11-25 00:46:35,418] - obspy.clients.fdsn.mass_downloader - INFO: Client 'GEONET' - Will attempt to download data from 1 stations.\n",
      "[2021-11-25 00:46:35,419] - obspy.clients.fdsn.mass_downloader - INFO: Client 'GEONET' - Status for 1 time intervals/channels before downloading: NEEDS_DOWNLOADING\n",
      "[2021-11-25 00:46:36,380] - obspy.clients.fdsn.mass_downloader - INFO: Client 'GEONET' - Successfully downloaded 1 channels (of 1)\n",
      "[2021-11-25 00:46:36,393] - obspy.clients.fdsn.mass_downloader - INFO: Client 'GEONET' - Launching basic QC checks...\n",
      "[2021-11-25 00:46:36,410] - obspy.clients.fdsn.mass_downloader - INFO: Client 'GEONET' - Downloaded 0.0 MB [3.59 KB/sec] of data, 0.0 MB of which were discarded afterwards.\n",
      "[2021-11-25 00:46:36,414] - obspy.clients.fdsn.mass_downloader - INFO: Client 'GEONET' - Status for 1 time intervals/channels after downloading: DOWNLOADED\n",
      "[2021-11-25 00:46:36,427] - obspy.clients.fdsn.mass_downloader - INFO: Client 'GEONET' - No station information to download.\n",
      "[2021-11-25 00:46:36,430] - obspy.clients.fdsn.mass_downloader - INFO: ============================== Final report\n",
      "[2021-11-25 00:46:36,431] - obspy.clients.fdsn.mass_downloader - INFO: 0 MiniSEED files [0.0 MB] already existed.\n",
      "[2021-11-25 00:46:36,432] - obspy.clients.fdsn.mass_downloader - INFO: 1 StationXML files [0.0 MB] already existed.\n",
      "[2021-11-25 00:46:36,434] - obspy.clients.fdsn.mass_downloader - INFO: Client 'GEONET' - Acquired 1 MiniSEED files [0.0 MB].\n",
      "[2021-11-25 00:46:36,434] - obspy.clients.fdsn.mass_downloader - INFO: Client 'GEONET' - Acquired 0 StationXML files [0.0 MB].\n",
      "[2021-11-25 00:46:36,436] - obspy.clients.fdsn.mass_downloader - INFO: Downloaded 0.0 MB in total.\n",
      "[2021-11-25 00:46:36,446] - obspy.clients.fdsn.mass_downloader - INFO: Initializing FDSN client(s) for GEONET.\n",
      "[2021-11-25 00:46:36,455] - obspy.clients.fdsn.mass_downloader - INFO: Successfully initialized 1 client(s): GEONET.\n",
      "[2021-11-25 00:46:36,457] - obspy.clients.fdsn.mass_downloader - INFO: Total acquired or preexisting stations: 0\n",
      "[2021-11-25 00:46:36,457] - obspy.clients.fdsn.mass_downloader - INFO: Client 'GEONET' - Requesting unreliable availability.\n"
     ]
    },
    {
     "name": "stdout",
     "output_type": "stream",
     "text": [
      "=================================================================\n",
      "Initiating mass download request.\n"
     ]
    },
    {
     "name": "stderr",
     "output_type": "stream",
     "text": [
      "[2021-11-25 00:46:37,988] - obspy.clients.fdsn.mass_downloader - INFO: Client 'GEONET' - Successfully requested availability (1.53 seconds)\n",
      "[2021-11-25 00:46:37,991] - obspy.clients.fdsn.mass_downloader - INFO: Client 'GEONET' - Found 1 stations (1 channels).\n",
      "[2021-11-25 00:46:37,993] - obspy.clients.fdsn.mass_downloader - INFO: Client 'GEONET' - Will attempt to download data from 1 stations.\n",
      "[2021-11-25 00:46:37,995] - obspy.clients.fdsn.mass_downloader - INFO: Client 'GEONET' - Status for 1 time intervals/channels before downloading: NEEDS_DOWNLOADING\n",
      "[2021-11-25 00:46:39,543] - obspy.clients.fdsn.mass_downloader - INFO: Client 'GEONET' - Successfully downloaded 1 channels (of 1)\n",
      "[2021-11-25 00:46:39,557] - obspy.clients.fdsn.mass_downloader - INFO: Client 'GEONET' - Launching basic QC checks...\n",
      "[2021-11-25 00:46:39,608] - obspy.clients.fdsn.mass_downloader - INFO: Client 'GEONET' - Downloaded 0.0 MB [2.57 KB/sec] of data, 0.0 MB of which were discarded afterwards.\n",
      "[2021-11-25 00:46:39,610] - obspy.clients.fdsn.mass_downloader - INFO: Client 'GEONET' - Status for 1 time intervals/channels after downloading: DOWNLOADED\n",
      "[2021-11-25 00:46:39,616] - obspy.clients.fdsn.mass_downloader - INFO: Client 'GEONET' - No station information to download.\n",
      "[2021-11-25 00:46:39,621] - obspy.clients.fdsn.mass_downloader - INFO: ============================== Final report\n",
      "[2021-11-25 00:46:39,624] - obspy.clients.fdsn.mass_downloader - INFO: 0 MiniSEED files [0.0 MB] already existed.\n",
      "[2021-11-25 00:46:39,628] - obspy.clients.fdsn.mass_downloader - INFO: 1 StationXML files [0.0 MB] already existed.\n",
      "[2021-11-25 00:46:39,630] - obspy.clients.fdsn.mass_downloader - INFO: Client 'GEONET' - Acquired 1 MiniSEED files [0.0 MB].\n",
      "[2021-11-25 00:46:39,631] - obspy.clients.fdsn.mass_downloader - INFO: Client 'GEONET' - Acquired 0 StationXML files [0.0 MB].\n",
      "[2021-11-25 00:46:39,632] - obspy.clients.fdsn.mass_downloader - INFO: Downloaded 0.0 MB in total.\n",
      "[2021-11-25 00:46:39,643] - obspy.clients.fdsn.mass_downloader - INFO: Initializing FDSN client(s) for GEONET.\n",
      "[2021-11-25 00:46:39,677] - obspy.clients.fdsn.mass_downloader - INFO: Successfully initialized 1 client(s): GEONET.\n",
      "[2021-11-25 00:46:39,682] - obspy.clients.fdsn.mass_downloader - INFO: Total acquired or preexisting stations: 0\n",
      "[2021-11-25 00:46:39,686] - obspy.clients.fdsn.mass_downloader - INFO: Client 'GEONET' - Requesting unreliable availability.\n"
     ]
    },
    {
     "name": "stdout",
     "output_type": "stream",
     "text": [
      "=================================================================\n",
      "Initiating mass download request.\n"
     ]
    },
    {
     "name": "stderr",
     "output_type": "stream",
     "text": [
      "[2021-11-25 00:46:40,244] - obspy.clients.fdsn.mass_downloader - INFO: Client 'GEONET' - Successfully requested availability (0.56 seconds)\n",
      "[2021-11-25 00:46:40,248] - obspy.clients.fdsn.mass_downloader - INFO: Client 'GEONET' - Found 1 stations (1 channels).\n",
      "[2021-11-25 00:46:40,248] - obspy.clients.fdsn.mass_downloader - INFO: Client 'GEONET' - Will attempt to download data from 1 stations.\n",
      "[2021-11-25 00:46:40,251] - obspy.clients.fdsn.mass_downloader - INFO: Client 'GEONET' - Status for 1 time intervals/channels before downloading: NEEDS_DOWNLOADING\n",
      "[2021-11-25 00:46:41,925] - obspy.clients.fdsn.mass_downloader - INFO: Client 'GEONET' - Successfully downloaded 1 channels (of 1)\n",
      "[2021-11-25 00:46:41,931] - obspy.clients.fdsn.mass_downloader - INFO: Client 'GEONET' - Launching basic QC checks...\n",
      "[2021-11-25 00:46:41,939] - obspy.clients.fdsn.mass_downloader - INFO: Client 'GEONET' - Downloaded 0.0 MB [1.79 KB/sec] of data, 0.0 MB of which were discarded afterwards.\n",
      "[2021-11-25 00:46:41,940] - obspy.clients.fdsn.mass_downloader - INFO: Client 'GEONET' - Status for 1 time intervals/channels after downloading: DOWNLOADED\n",
      "[2021-11-25 00:46:41,942] - obspy.clients.fdsn.mass_downloader - INFO: Client 'GEONET' - No station information to download.\n",
      "[2021-11-25 00:46:41,942] - obspy.clients.fdsn.mass_downloader - INFO: ============================== Final report\n",
      "[2021-11-25 00:46:41,943] - obspy.clients.fdsn.mass_downloader - INFO: 0 MiniSEED files [0.0 MB] already existed.\n",
      "[2021-11-25 00:46:41,943] - obspy.clients.fdsn.mass_downloader - INFO: 1 StationXML files [0.0 MB] already existed.\n",
      "[2021-11-25 00:46:41,943] - obspy.clients.fdsn.mass_downloader - INFO: Client 'GEONET' - Acquired 1 MiniSEED files [0.0 MB].\n",
      "[2021-11-25 00:46:41,943] - obspy.clients.fdsn.mass_downloader - INFO: Client 'GEONET' - Acquired 0 StationXML files [0.0 MB].\n",
      "[2021-11-25 00:46:41,944] - obspy.clients.fdsn.mass_downloader - INFO: Downloaded 0.0 MB in total.\n",
      "[2021-11-25 00:46:41,949] - obspy.clients.fdsn.mass_downloader - INFO: Initializing FDSN client(s) for GEONET.\n",
      "[2021-11-25 00:46:41,952] - obspy.clients.fdsn.mass_downloader - INFO: Successfully initialized 1 client(s): GEONET.\n",
      "[2021-11-25 00:46:41,953] - obspy.clients.fdsn.mass_downloader - INFO: Total acquired or preexisting stations: 0\n",
      "[2021-11-25 00:46:41,953] - obspy.clients.fdsn.mass_downloader - INFO: Client 'GEONET' - Requesting unreliable availability.\n"
     ]
    },
    {
     "name": "stdout",
     "output_type": "stream",
     "text": [
      "=================================================================\n",
      "Initiating mass download request.\n"
     ]
    },
    {
     "name": "stderr",
     "output_type": "stream",
     "text": [
      "[2021-11-25 00:46:42,659] - obspy.clients.fdsn.mass_downloader - INFO: Client 'GEONET' - Successfully requested availability (0.71 seconds)\n",
      "[2021-11-25 00:46:42,659] - obspy.clients.fdsn.mass_downloader - INFO: Client 'GEONET' - Found 1 stations (1 channels).\n",
      "[2021-11-25 00:46:42,659] - obspy.clients.fdsn.mass_downloader - INFO: Client 'GEONET' - Will attempt to download data from 1 stations.\n",
      "[2021-11-25 00:46:42,660] - obspy.clients.fdsn.mass_downloader - INFO: Client 'GEONET' - Status for 1 time intervals/channels before downloading: NEEDS_DOWNLOADING\n",
      "[2021-11-25 00:46:43,593] - obspy.clients.fdsn.mass_downloader - INFO: Client 'GEONET' - Successfully downloaded 1 channels (of 1)\n",
      "[2021-11-25 00:46:43,597] - obspy.clients.fdsn.mass_downloader - INFO: Client 'GEONET' - Launching basic QC checks...\n",
      "[2021-11-25 00:46:43,606] - obspy.clients.fdsn.mass_downloader - INFO: Client 'GEONET' - Downloaded 0.0 MB [3.21 KB/sec] of data, 0.0 MB of which were discarded afterwards.\n",
      "[2021-11-25 00:46:43,607] - obspy.clients.fdsn.mass_downloader - INFO: Client 'GEONET' - Status for 1 time intervals/channels after downloading: DOWNLOADED\n",
      "[2021-11-25 00:46:43,615] - obspy.clients.fdsn.mass_downloader - INFO: Client 'GEONET' - No station information to download.\n",
      "[2021-11-25 00:46:43,616] - obspy.clients.fdsn.mass_downloader - INFO: ============================== Final report\n",
      "[2021-11-25 00:46:43,616] - obspy.clients.fdsn.mass_downloader - INFO: 0 MiniSEED files [0.0 MB] already existed.\n",
      "[2021-11-25 00:46:43,617] - obspy.clients.fdsn.mass_downloader - INFO: 1 StationXML files [0.0 MB] already existed.\n",
      "[2021-11-25 00:46:43,617] - obspy.clients.fdsn.mass_downloader - INFO: Client 'GEONET' - Acquired 1 MiniSEED files [0.0 MB].\n",
      "[2021-11-25 00:46:43,618] - obspy.clients.fdsn.mass_downloader - INFO: Client 'GEONET' - Acquired 0 StationXML files [0.0 MB].\n",
      "[2021-11-25 00:46:43,618] - obspy.clients.fdsn.mass_downloader - INFO: Downloaded 0.0 MB in total.\n",
      "[2021-11-25 00:46:43,621] - obspy.clients.fdsn.mass_downloader - INFO: Initializing FDSN client(s) for GEONET.\n",
      "[2021-11-25 00:46:43,624] - obspy.clients.fdsn.mass_downloader - INFO: Successfully initialized 1 client(s): GEONET.\n",
      "[2021-11-25 00:46:43,625] - obspy.clients.fdsn.mass_downloader - INFO: Total acquired or preexisting stations: 0\n",
      "[2021-11-25 00:46:43,625] - obspy.clients.fdsn.mass_downloader - INFO: Client 'GEONET' - Requesting unreliable availability.\n"
     ]
    },
    {
     "name": "stdout",
     "output_type": "stream",
     "text": [
      "=================================================================\n",
      "Initiating mass download request.\n"
     ]
    },
    {
     "name": "stderr",
     "output_type": "stream",
     "text": [
      "[2021-11-25 00:46:44,170] - obspy.clients.fdsn.mass_downloader - INFO: Client 'GEONET' - Successfully requested availability (0.54 seconds)\n",
      "[2021-11-25 00:46:44,171] - obspy.clients.fdsn.mass_downloader - INFO: Client 'GEONET' - Found 1 stations (1 channels).\n",
      "[2021-11-25 00:46:44,171] - obspy.clients.fdsn.mass_downloader - INFO: Client 'GEONET' - Will attempt to download data from 1 stations.\n",
      "[2021-11-25 00:46:44,172] - obspy.clients.fdsn.mass_downloader - INFO: Client 'GEONET' - Status for 1 time intervals/channels before downloading: NEEDS_DOWNLOADING\n",
      "[2021-11-25 00:46:45,045] - obspy.clients.fdsn.mass_downloader - INFO: Client 'GEONET' - Successfully downloaded 1 channels (of 1)\n",
      "[2021-11-25 00:46:45,053] - obspy.clients.fdsn.mass_downloader - INFO: Client 'GEONET' - Launching basic QC checks...\n",
      "[2021-11-25 00:46:45,082] - obspy.clients.fdsn.mass_downloader - INFO: Client 'GEONET' - Downloaded 0.0 MB [3.98 KB/sec] of data, 0.0 MB of which were discarded afterwards.\n",
      "[2021-11-25 00:46:45,083] - obspy.clients.fdsn.mass_downloader - INFO: Client 'GEONET' - Status for 1 time intervals/channels after downloading: DOWNLOADED\n",
      "[2021-11-25 00:46:45,089] - obspy.clients.fdsn.mass_downloader - INFO: Client 'GEONET' - No station information to download.\n",
      "[2021-11-25 00:46:45,090] - obspy.clients.fdsn.mass_downloader - INFO: ============================== Final report\n",
      "[2021-11-25 00:46:45,091] - obspy.clients.fdsn.mass_downloader - INFO: 0 MiniSEED files [0.0 MB] already existed.\n",
      "[2021-11-25 00:46:45,092] - obspy.clients.fdsn.mass_downloader - INFO: 1 StationXML files [0.0 MB] already existed.\n",
      "[2021-11-25 00:46:45,094] - obspy.clients.fdsn.mass_downloader - INFO: Client 'GEONET' - Acquired 1 MiniSEED files [0.0 MB].\n",
      "[2021-11-25 00:46:45,096] - obspy.clients.fdsn.mass_downloader - INFO: Client 'GEONET' - Acquired 0 StationXML files [0.0 MB].\n",
      "[2021-11-25 00:46:45,096] - obspy.clients.fdsn.mass_downloader - INFO: Downloaded 0.0 MB in total.\n",
      "[2021-11-25 00:46:45,124] - obspy.clients.fdsn.mass_downloader - INFO: Initializing FDSN client(s) for GEONET.\n",
      "[2021-11-25 00:46:45,134] - obspy.clients.fdsn.mass_downloader - INFO: Successfully initialized 1 client(s): GEONET.\n",
      "[2021-11-25 00:46:45,135] - obspy.clients.fdsn.mass_downloader - INFO: Total acquired or preexisting stations: 0\n",
      "[2021-11-25 00:46:45,136] - obspy.clients.fdsn.mass_downloader - INFO: Client 'GEONET' - Requesting unreliable availability.\n"
     ]
    },
    {
     "name": "stdout",
     "output_type": "stream",
     "text": [
      "=================================================================\n",
      "Initiating mass download request.\n"
     ]
    },
    {
     "name": "stderr",
     "output_type": "stream",
     "text": [
      "[2021-11-25 00:46:45,671] - obspy.clients.fdsn.mass_downloader - INFO: Client 'GEONET' - Successfully requested availability (0.53 seconds)\n",
      "[2021-11-25 00:46:45,672] - obspy.clients.fdsn.mass_downloader - INFO: Client 'GEONET' - Found 1 stations (1 channels).\n",
      "[2021-11-25 00:46:45,672] - obspy.clients.fdsn.mass_downloader - INFO: Client 'GEONET' - Will attempt to download data from 1 stations.\n",
      "[2021-11-25 00:46:45,673] - obspy.clients.fdsn.mass_downloader - INFO: Client 'GEONET' - Status for 1 time intervals/channels before downloading: NEEDS_DOWNLOADING\n",
      "[2021-11-25 00:46:46,625] - obspy.clients.fdsn.mass_downloader - INFO: Client 'GEONET' - Successfully downloaded 1 channels (of 1)\n",
      "[2021-11-25 00:46:46,627] - obspy.clients.fdsn.mass_downloader - INFO: Client 'GEONET' - Launching basic QC checks...\n",
      "[2021-11-25 00:46:46,632] - obspy.clients.fdsn.mass_downloader - INFO: Client 'GEONET' - Downloaded 0.0 MB [3.15 KB/sec] of data, 0.0 MB of which were discarded afterwards.\n",
      "[2021-11-25 00:46:46,633] - obspy.clients.fdsn.mass_downloader - INFO: Client 'GEONET' - Status for 1 time intervals/channels after downloading: DOWNLOADED\n",
      "[2021-11-25 00:46:46,638] - obspy.clients.fdsn.mass_downloader - INFO: Client 'GEONET' - No station information to download.\n",
      "[2021-11-25 00:46:46,640] - obspy.clients.fdsn.mass_downloader - INFO: ============================== Final report\n",
      "[2021-11-25 00:46:46,640] - obspy.clients.fdsn.mass_downloader - INFO: 0 MiniSEED files [0.0 MB] already existed.\n",
      "[2021-11-25 00:46:46,640] - obspy.clients.fdsn.mass_downloader - INFO: 1 StationXML files [0.0 MB] already existed.\n",
      "[2021-11-25 00:46:46,641] - obspy.clients.fdsn.mass_downloader - INFO: Client 'GEONET' - Acquired 1 MiniSEED files [0.0 MB].\n",
      "[2021-11-25 00:46:46,641] - obspy.clients.fdsn.mass_downloader - INFO: Client 'GEONET' - Acquired 0 StationXML files [0.0 MB].\n",
      "[2021-11-25 00:46:46,642] - obspy.clients.fdsn.mass_downloader - INFO: Downloaded 0.0 MB in total.\n",
      "[2021-11-25 00:46:46,648] - obspy.clients.fdsn.mass_downloader - INFO: Initializing FDSN client(s) for GEONET.\n",
      "[2021-11-25 00:46:46,660] - obspy.clients.fdsn.mass_downloader - INFO: Successfully initialized 1 client(s): GEONET.\n",
      "[2021-11-25 00:46:46,662] - obspy.clients.fdsn.mass_downloader - INFO: Total acquired or preexisting stations: 0\n",
      "[2021-11-25 00:46:46,664] - obspy.clients.fdsn.mass_downloader - INFO: Client 'GEONET' - Requesting unreliable availability.\n"
     ]
    },
    {
     "name": "stdout",
     "output_type": "stream",
     "text": [
      "=================================================================\n",
      "Initiating mass download request.\n"
     ]
    },
    {
     "name": "stderr",
     "output_type": "stream",
     "text": [
      "[2021-11-25 00:46:47,225] - obspy.clients.fdsn.mass_downloader - INFO: Client 'GEONET' - Successfully requested availability (0.56 seconds)\n",
      "[2021-11-25 00:46:47,227] - obspy.clients.fdsn.mass_downloader - INFO: Client 'GEONET' - Found 1 stations (1 channels).\n",
      "[2021-11-25 00:46:47,227] - obspy.clients.fdsn.mass_downloader - INFO: Client 'GEONET' - Will attempt to download data from 1 stations.\n",
      "[2021-11-25 00:46:47,228] - obspy.clients.fdsn.mass_downloader - INFO: Client 'GEONET' - Status for 1 time intervals/channels before downloading: NEEDS_DOWNLOADING\n",
      "[2021-11-25 00:46:48,280] - obspy.clients.fdsn.mass_downloader - INFO: Client 'GEONET' - Successfully downloaded 1 channels (of 1)\n",
      "[2021-11-25 00:46:48,290] - obspy.clients.fdsn.mass_downloader - INFO: Client 'GEONET' - Launching basic QC checks...\n",
      "[2021-11-25 00:46:48,300] - obspy.clients.fdsn.mass_downloader - INFO: Client 'GEONET' - Downloaded 0.0 MB [2.84 KB/sec] of data, 0.0 MB of which were discarded afterwards.\n",
      "[2021-11-25 00:46:48,300] - obspy.clients.fdsn.mass_downloader - INFO: Client 'GEONET' - Status for 1 time intervals/channels after downloading: DOWNLOADED\n",
      "[2021-11-25 00:46:48,303] - obspy.clients.fdsn.mass_downloader - INFO: Client 'GEONET' - No station information to download.\n",
      "[2021-11-25 00:46:48,304] - obspy.clients.fdsn.mass_downloader - INFO: ============================== Final report\n",
      "[2021-11-25 00:46:48,304] - obspy.clients.fdsn.mass_downloader - INFO: 0 MiniSEED files [0.0 MB] already existed.\n",
      "[2021-11-25 00:46:48,304] - obspy.clients.fdsn.mass_downloader - INFO: 1 StationXML files [0.0 MB] already existed.\n",
      "[2021-11-25 00:46:48,305] - obspy.clients.fdsn.mass_downloader - INFO: Client 'GEONET' - Acquired 1 MiniSEED files [0.0 MB].\n",
      "[2021-11-25 00:46:48,305] - obspy.clients.fdsn.mass_downloader - INFO: Client 'GEONET' - Acquired 0 StationXML files [0.0 MB].\n",
      "[2021-11-25 00:46:48,305] - obspy.clients.fdsn.mass_downloader - INFO: Downloaded 0.0 MB in total.\n",
      "[2021-11-25 00:46:48,308] - obspy.clients.fdsn.mass_downloader - INFO: Initializing FDSN client(s) for GEONET.\n",
      "[2021-11-25 00:46:48,316] - obspy.clients.fdsn.mass_downloader - INFO: Successfully initialized 1 client(s): GEONET.\n",
      "[2021-11-25 00:46:48,316] - obspy.clients.fdsn.mass_downloader - INFO: Total acquired or preexisting stations: 0\n",
      "[2021-11-25 00:46:48,317] - obspy.clients.fdsn.mass_downloader - INFO: Client 'GEONET' - Requesting unreliable availability.\n"
     ]
    },
    {
     "name": "stdout",
     "output_type": "stream",
     "text": [
      "=================================================================\n",
      "Initiating mass download request.\n"
     ]
    },
    {
     "name": "stderr",
     "output_type": "stream",
     "text": [
      "[2021-11-25 00:46:48,953] - obspy.clients.fdsn.mass_downloader - INFO: Client 'GEONET' - Successfully requested availability (0.64 seconds)\n",
      "[2021-11-25 00:46:48,955] - obspy.clients.fdsn.mass_downloader - INFO: Client 'GEONET' - Found 1 stations (1 channels).\n",
      "[2021-11-25 00:46:48,956] - obspy.clients.fdsn.mass_downloader - INFO: Client 'GEONET' - Will attempt to download data from 1 stations.\n",
      "[2021-11-25 00:46:48,957] - obspy.clients.fdsn.mass_downloader - INFO: Client 'GEONET' - Status for 1 time intervals/channels before downloading: NEEDS_DOWNLOADING\n",
      "[2021-11-25 00:46:50,433] - obspy.clients.fdsn.mass_downloader - INFO: Client 'GEONET' - Successfully downloaded 1 channels (of 1)\n",
      "[2021-11-25 00:46:50,443] - obspy.clients.fdsn.mass_downloader - INFO: Client 'GEONET' - Launching basic QC checks...\n",
      "[2021-11-25 00:46:50,460] - obspy.clients.fdsn.mass_downloader - INFO: Client 'GEONET' - Downloaded 0.0 MB [3.04 KB/sec] of data, 0.0 MB of which were discarded afterwards.\n",
      "[2021-11-25 00:46:50,460] - obspy.clients.fdsn.mass_downloader - INFO: Client 'GEONET' - Status for 1 time intervals/channels after downloading: DOWNLOADED\n",
      "[2021-11-25 00:46:50,469] - obspy.clients.fdsn.mass_downloader - INFO: Client 'GEONET' - No station information to download.\n",
      "[2021-11-25 00:46:50,470] - obspy.clients.fdsn.mass_downloader - INFO: ============================== Final report\n",
      "[2021-11-25 00:46:50,471] - obspy.clients.fdsn.mass_downloader - INFO: 0 MiniSEED files [0.0 MB] already existed.\n",
      "[2021-11-25 00:46:50,472] - obspy.clients.fdsn.mass_downloader - INFO: 1 StationXML files [0.0 MB] already existed.\n",
      "[2021-11-25 00:46:50,473] - obspy.clients.fdsn.mass_downloader - INFO: Client 'GEONET' - Acquired 1 MiniSEED files [0.0 MB].\n",
      "[2021-11-25 00:46:50,474] - obspy.clients.fdsn.mass_downloader - INFO: Client 'GEONET' - Acquired 0 StationXML files [0.0 MB].\n",
      "[2021-11-25 00:46:50,474] - obspy.clients.fdsn.mass_downloader - INFO: Downloaded 0.0 MB in total.\n",
      "[2021-11-25 00:46:50,485] - obspy.clients.fdsn.mass_downloader - INFO: Initializing FDSN client(s) for GEONET.\n",
      "[2021-11-25 00:46:50,489] - obspy.clients.fdsn.mass_downloader - INFO: Successfully initialized 1 client(s): GEONET.\n",
      "[2021-11-25 00:46:50,494] - obspy.clients.fdsn.mass_downloader - INFO: Total acquired or preexisting stations: 0\n",
      "[2021-11-25 00:46:50,495] - obspy.clients.fdsn.mass_downloader - INFO: Client 'GEONET' - Requesting unreliable availability.\n"
     ]
    },
    {
     "name": "stdout",
     "output_type": "stream",
     "text": [
      "=================================================================\n",
      "Initiating mass download request.\n"
     ]
    },
    {
     "name": "stderr",
     "output_type": "stream",
     "text": [
      "[2021-11-25 00:46:51,037] - obspy.clients.fdsn.mass_downloader - INFO: Client 'GEONET' - Successfully requested availability (0.54 seconds)\n",
      "[2021-11-25 00:46:51,039] - obspy.clients.fdsn.mass_downloader - INFO: Client 'GEONET' - Found 1 stations (1 channels).\n",
      "[2021-11-25 00:46:51,039] - obspy.clients.fdsn.mass_downloader - INFO: Client 'GEONET' - Will attempt to download data from 1 stations.\n",
      "[2021-11-25 00:46:51,040] - obspy.clients.fdsn.mass_downloader - INFO: Client 'GEONET' - Status for 1 time intervals/channels before downloading: NEEDS_DOWNLOADING\n",
      "[2021-11-25 00:46:51,876] - obspy.clients.fdsn.mass_downloader - INFO: Client 'GEONET' - Successfully downloaded 1 channels (of 1)\n",
      "[2021-11-25 00:46:51,882] - obspy.clients.fdsn.mass_downloader - INFO: Client 'GEONET' - Launching basic QC checks...\n",
      "[2021-11-25 00:46:51,899] - obspy.clients.fdsn.mass_downloader - INFO: Client 'GEONET' - Downloaded 0.0 MB [5.35 KB/sec] of data, 0.0 MB of which were discarded afterwards.\n",
      "[2021-11-25 00:46:51,900] - obspy.clients.fdsn.mass_downloader - INFO: Client 'GEONET' - Status for 1 time intervals/channels after downloading: DOWNLOADED\n",
      "[2021-11-25 00:46:51,904] - obspy.clients.fdsn.mass_downloader - INFO: Client 'GEONET' - No station information to download.\n",
      "[2021-11-25 00:46:51,906] - obspy.clients.fdsn.mass_downloader - INFO: ============================== Final report\n",
      "[2021-11-25 00:46:51,906] - obspy.clients.fdsn.mass_downloader - INFO: 0 MiniSEED files [0.0 MB] already existed.\n",
      "[2021-11-25 00:46:51,907] - obspy.clients.fdsn.mass_downloader - INFO: 1 StationXML files [0.0 MB] already existed.\n",
      "[2021-11-25 00:46:51,908] - obspy.clients.fdsn.mass_downloader - INFO: Client 'GEONET' - Acquired 1 MiniSEED files [0.0 MB].\n",
      "[2021-11-25 00:46:51,909] - obspy.clients.fdsn.mass_downloader - INFO: Client 'GEONET' - Acquired 0 StationXML files [0.0 MB].\n",
      "[2021-11-25 00:46:51,910] - obspy.clients.fdsn.mass_downloader - INFO: Downloaded 0.0 MB in total.\n",
      "[2021-11-25 00:46:51,914] - obspy.clients.fdsn.mass_downloader - INFO: Initializing FDSN client(s) for GEONET.\n",
      "[2021-11-25 00:46:51,922] - obspy.clients.fdsn.mass_downloader - INFO: Successfully initialized 1 client(s): GEONET.\n",
      "[2021-11-25 00:46:51,924] - obspy.clients.fdsn.mass_downloader - INFO: Total acquired or preexisting stations: 0\n",
      "[2021-11-25 00:46:51,924] - obspy.clients.fdsn.mass_downloader - INFO: Client 'GEONET' - Requesting unreliable availability.\n"
     ]
    },
    {
     "name": "stdout",
     "output_type": "stream",
     "text": [
      "=================================================================\n",
      "Initiating mass download request.\n"
     ]
    },
    {
     "name": "stderr",
     "output_type": "stream",
     "text": [
      "[2021-11-25 00:46:52,580] - obspy.clients.fdsn.mass_downloader - INFO: Client 'GEONET' - Successfully requested availability (0.65 seconds)\n",
      "[2021-11-25 00:46:52,581] - obspy.clients.fdsn.mass_downloader - INFO: Client 'GEONET' - Found 1 stations (1 channels).\n",
      "[2021-11-25 00:46:52,581] - obspy.clients.fdsn.mass_downloader - INFO: Client 'GEONET' - Will attempt to download data from 1 stations.\n",
      "[2021-11-25 00:46:52,582] - obspy.clients.fdsn.mass_downloader - INFO: Client 'GEONET' - Status for 1 time intervals/channels before downloading: NEEDS_DOWNLOADING\n",
      "[2021-11-25 00:46:53,721] - obspy.clients.fdsn.mass_downloader - INFO: Client 'GEONET' - Successfully downloaded 1 channels (of 1)\n",
      "[2021-11-25 00:46:53,722] - obspy.clients.fdsn.mass_downloader - INFO: Client 'GEONET' - Launching basic QC checks...\n",
      "[2021-11-25 00:46:53,726] - obspy.clients.fdsn.mass_downloader - INFO: Client 'GEONET' - Downloaded 0.0 MB [4.39 KB/sec] of data, 0.0 MB of which were discarded afterwards.\n",
      "[2021-11-25 00:46:53,727] - obspy.clients.fdsn.mass_downloader - INFO: Client 'GEONET' - Status for 1 time intervals/channels after downloading: DOWNLOADED\n",
      "[2021-11-25 00:46:53,729] - obspy.clients.fdsn.mass_downloader - INFO: Client 'GEONET' - No station information to download.\n",
      "[2021-11-25 00:46:53,730] - obspy.clients.fdsn.mass_downloader - INFO: ============================== Final report\n",
      "[2021-11-25 00:46:53,730] - obspy.clients.fdsn.mass_downloader - INFO: 0 MiniSEED files [0.0 MB] already existed.\n",
      "[2021-11-25 00:46:53,731] - obspy.clients.fdsn.mass_downloader - INFO: 1 StationXML files [0.0 MB] already existed.\n",
      "[2021-11-25 00:46:53,731] - obspy.clients.fdsn.mass_downloader - INFO: Client 'GEONET' - Acquired 1 MiniSEED files [0.0 MB].\n",
      "[2021-11-25 00:46:53,731] - obspy.clients.fdsn.mass_downloader - INFO: Client 'GEONET' - Acquired 0 StationXML files [0.0 MB].\n",
      "[2021-11-25 00:46:53,732] - obspy.clients.fdsn.mass_downloader - INFO: Downloaded 0.0 MB in total.\n",
      "[2021-11-25 00:46:53,736] - obspy.clients.fdsn.mass_downloader - INFO: Initializing FDSN client(s) for GEONET.\n",
      "[2021-11-25 00:46:53,742] - obspy.clients.fdsn.mass_downloader - INFO: Successfully initialized 1 client(s): GEONET.\n",
      "[2021-11-25 00:46:53,743] - obspy.clients.fdsn.mass_downloader - INFO: Total acquired or preexisting stations: 0\n",
      "[2021-11-25 00:46:53,743] - obspy.clients.fdsn.mass_downloader - INFO: Client 'GEONET' - Requesting unreliable availability.\n"
     ]
    },
    {
     "name": "stdout",
     "output_type": "stream",
     "text": [
      "=================================================================\n",
      "Initiating mass download request.\n"
     ]
    },
    {
     "name": "stderr",
     "output_type": "stream",
     "text": [
      "[2021-11-25 00:46:54,297] - obspy.clients.fdsn.mass_downloader - INFO: Client 'GEONET' - Successfully requested availability (0.55 seconds)\n",
      "[2021-11-25 00:46:54,300] - obspy.clients.fdsn.mass_downloader - INFO: Client 'GEONET' - Found 1 stations (1 channels).\n",
      "[2021-11-25 00:46:54,301] - obspy.clients.fdsn.mass_downloader - INFO: Client 'GEONET' - Will attempt to download data from 1 stations.\n",
      "[2021-11-25 00:46:54,304] - obspy.clients.fdsn.mass_downloader - INFO: Client 'GEONET' - Status for 1 time intervals/channels before downloading: NEEDS_DOWNLOADING\n",
      "[2021-11-25 00:46:55,131] - obspy.clients.fdsn.mass_downloader - INFO: Client 'GEONET' - Successfully downloaded 1 channels (of 1)\n",
      "[2021-11-25 00:46:55,132] - obspy.clients.fdsn.mass_downloader - INFO: Client 'GEONET' - Launching basic QC checks...\n",
      "[2021-11-25 00:46:55,134] - obspy.clients.fdsn.mass_downloader - INFO: Client 'GEONET' - Downloaded 0.0 MB [4.86 KB/sec] of data, 0.0 MB of which were discarded afterwards.\n",
      "[2021-11-25 00:46:55,135] - obspy.clients.fdsn.mass_downloader - INFO: Client 'GEONET' - Status for 1 time intervals/channels after downloading: DOWNLOADED\n",
      "[2021-11-25 00:46:55,136] - obspy.clients.fdsn.mass_downloader - INFO: Client 'GEONET' - No station information to download.\n",
      "[2021-11-25 00:46:55,137] - obspy.clients.fdsn.mass_downloader - INFO: ============================== Final report\n",
      "[2021-11-25 00:46:55,137] - obspy.clients.fdsn.mass_downloader - INFO: 0 MiniSEED files [0.0 MB] already existed.\n",
      "[2021-11-25 00:46:55,137] - obspy.clients.fdsn.mass_downloader - INFO: 1 StationXML files [0.0 MB] already existed.\n",
      "[2021-11-25 00:46:55,138] - obspy.clients.fdsn.mass_downloader - INFO: Client 'GEONET' - Acquired 1 MiniSEED files [0.0 MB].\n",
      "[2021-11-25 00:46:55,138] - obspy.clients.fdsn.mass_downloader - INFO: Client 'GEONET' - Acquired 0 StationXML files [0.0 MB].\n",
      "[2021-11-25 00:46:55,138] - obspy.clients.fdsn.mass_downloader - INFO: Downloaded 0.0 MB in total.\n",
      "[2021-11-25 00:46:55,139] - obspy.clients.fdsn.mass_downloader - INFO: Initializing FDSN client(s) for GEONET.\n",
      "[2021-11-25 00:46:55,142] - obspy.clients.fdsn.mass_downloader - INFO: Successfully initialized 1 client(s): GEONET.\n",
      "[2021-11-25 00:46:55,143] - obspy.clients.fdsn.mass_downloader - INFO: Total acquired or preexisting stations: 0\n",
      "[2021-11-25 00:46:55,143] - obspy.clients.fdsn.mass_downloader - INFO: Client 'GEONET' - Requesting unreliable availability.\n"
     ]
    },
    {
     "name": "stdout",
     "output_type": "stream",
     "text": [
      "=================================================================\n",
      "Initiating mass download request.\n"
     ]
    },
    {
     "name": "stderr",
     "output_type": "stream",
     "text": [
      "[2021-11-25 00:46:55,729] - obspy.clients.fdsn.mass_downloader - INFO: Client 'GEONET' - Successfully requested availability (0.59 seconds)\n",
      "[2021-11-25 00:46:55,729] - obspy.clients.fdsn.mass_downloader - INFO: Client 'GEONET' - Found 1 stations (1 channels).\n",
      "[2021-11-25 00:46:55,730] - obspy.clients.fdsn.mass_downloader - INFO: Client 'GEONET' - Will attempt to download data from 1 stations.\n",
      "[2021-11-25 00:46:55,730] - obspy.clients.fdsn.mass_downloader - INFO: Client 'GEONET' - Status for 1 time intervals/channels before downloading: NEEDS_DOWNLOADING\n",
      "[2021-11-25 00:46:56,586] - obspy.clients.fdsn.mass_downloader - INFO: Client 'GEONET' - Successfully downloaded 1 channels (of 1)\n",
      "[2021-11-25 00:46:56,587] - obspy.clients.fdsn.mass_downloader - INFO: Client 'GEONET' - Launching basic QC checks...\n",
      "[2021-11-25 00:46:56,591] - obspy.clients.fdsn.mass_downloader - INFO: Client 'GEONET' - Downloaded 0.0 MB [4.09 KB/sec] of data, 0.0 MB of which were discarded afterwards.\n",
      "[2021-11-25 00:46:56,591] - obspy.clients.fdsn.mass_downloader - INFO: Client 'GEONET' - Status for 1 time intervals/channels after downloading: DOWNLOADED\n",
      "[2021-11-25 00:46:56,596] - obspy.clients.fdsn.mass_downloader - INFO: Client 'GEONET' - No station information to download.\n",
      "[2021-11-25 00:46:56,596] - obspy.clients.fdsn.mass_downloader - INFO: ============================== Final report\n",
      "[2021-11-25 00:46:56,597] - obspy.clients.fdsn.mass_downloader - INFO: 0 MiniSEED files [0.0 MB] already existed.\n",
      "[2021-11-25 00:46:56,597] - obspy.clients.fdsn.mass_downloader - INFO: 1 StationXML files [0.0 MB] already existed.\n",
      "[2021-11-25 00:46:56,597] - obspy.clients.fdsn.mass_downloader - INFO: Client 'GEONET' - Acquired 1 MiniSEED files [0.0 MB].\n",
      "[2021-11-25 00:46:56,598] - obspy.clients.fdsn.mass_downloader - INFO: Client 'GEONET' - Acquired 0 StationXML files [0.0 MB].\n",
      "[2021-11-25 00:46:56,598] - obspy.clients.fdsn.mass_downloader - INFO: Downloaded 0.0 MB in total.\n",
      "[2021-11-25 00:46:56,599] - obspy.clients.fdsn.mass_downloader - INFO: Initializing FDSN client(s) for GEONET.\n",
      "[2021-11-25 00:46:56,604] - obspy.clients.fdsn.mass_downloader - INFO: Successfully initialized 1 client(s): GEONET.\n",
      "[2021-11-25 00:46:56,604] - obspy.clients.fdsn.mass_downloader - INFO: Total acquired or preexisting stations: 0\n",
      "[2021-11-25 00:46:56,605] - obspy.clients.fdsn.mass_downloader - INFO: Client 'GEONET' - Requesting unreliable availability.\n"
     ]
    },
    {
     "name": "stdout",
     "output_type": "stream",
     "text": [
      "=================================================================\n",
      "Initiating mass download request.\n"
     ]
    },
    {
     "name": "stderr",
     "output_type": "stream",
     "text": [
      "[2021-11-25 00:46:57,247] - obspy.clients.fdsn.mass_downloader - INFO: Client 'GEONET' - Successfully requested availability (0.64 seconds)\n",
      "[2021-11-25 00:46:57,250] - obspy.clients.fdsn.mass_downloader - INFO: Client 'GEONET' - Found 1 stations (1 channels).\n",
      "[2021-11-25 00:46:57,251] - obspy.clients.fdsn.mass_downloader - INFO: Client 'GEONET' - Will attempt to download data from 1 stations.\n",
      "[2021-11-25 00:46:57,252] - obspy.clients.fdsn.mass_downloader - INFO: Client 'GEONET' - Status for 1 time intervals/channels before downloading: NEEDS_DOWNLOADING\n",
      "[2021-11-25 00:46:58,190] - obspy.clients.fdsn.mass_downloader - INFO: Client 'GEONET' - Successfully downloaded 1 channels (of 1)\n",
      "[2021-11-25 00:46:58,192] - obspy.clients.fdsn.mass_downloader - INFO: Client 'GEONET' - Launching basic QC checks...\n",
      "[2021-11-25 00:46:58,198] - obspy.clients.fdsn.mass_downloader - INFO: Client 'GEONET' - Downloaded 0.0 MB [3.76 KB/sec] of data, 0.0 MB of which were discarded afterwards.\n",
      "[2021-11-25 00:46:58,199] - obspy.clients.fdsn.mass_downloader - INFO: Client 'GEONET' - Status for 1 time intervals/channels after downloading: DOWNLOADED\n",
      "[2021-11-25 00:46:58,200] - obspy.clients.fdsn.mass_downloader - INFO: Client 'GEONET' - No station information to download.\n",
      "[2021-11-25 00:46:58,201] - obspy.clients.fdsn.mass_downloader - INFO: ============================== Final report\n",
      "[2021-11-25 00:46:58,201] - obspy.clients.fdsn.mass_downloader - INFO: 0 MiniSEED files [0.0 MB] already existed.\n",
      "[2021-11-25 00:46:58,201] - obspy.clients.fdsn.mass_downloader - INFO: 1 StationXML files [0.0 MB] already existed.\n",
      "[2021-11-25 00:46:58,201] - obspy.clients.fdsn.mass_downloader - INFO: Client 'GEONET' - Acquired 1 MiniSEED files [0.0 MB].\n",
      "[2021-11-25 00:46:58,202] - obspy.clients.fdsn.mass_downloader - INFO: Client 'GEONET' - Acquired 0 StationXML files [0.0 MB].\n",
      "[2021-11-25 00:46:58,202] - obspy.clients.fdsn.mass_downloader - INFO: Downloaded 0.0 MB in total.\n",
      "[2021-11-25 00:46:58,204] - obspy.clients.fdsn.mass_downloader - INFO: Initializing FDSN client(s) for GEONET.\n",
      "[2021-11-25 00:46:58,207] - obspy.clients.fdsn.mass_downloader - INFO: Successfully initialized 1 client(s): GEONET.\n",
      "[2021-11-25 00:46:58,207] - obspy.clients.fdsn.mass_downloader - INFO: Total acquired or preexisting stations: 0\n",
      "[2021-11-25 00:46:58,208] - obspy.clients.fdsn.mass_downloader - INFO: Client 'GEONET' - Requesting unreliable availability.\n"
     ]
    },
    {
     "name": "stdout",
     "output_type": "stream",
     "text": [
      "=================================================================\n",
      "Initiating mass download request.\n"
     ]
    },
    {
     "name": "stderr",
     "output_type": "stream",
     "text": [
      "[2021-11-25 00:46:58,917] - obspy.clients.fdsn.mass_downloader - INFO: Client 'GEONET' - Successfully requested availability (0.71 seconds)\n",
      "[2021-11-25 00:46:58,922] - obspy.clients.fdsn.mass_downloader - INFO: Client 'GEONET' - Found 1 stations (1 channels).\n",
      "[2021-11-25 00:46:58,926] - obspy.clients.fdsn.mass_downloader - INFO: Client 'GEONET' - Will attempt to download data from 1 stations.\n",
      "[2021-11-25 00:46:58,927] - obspy.clients.fdsn.mass_downloader - INFO: Client 'GEONET' - Status for 1 time intervals/channels before downloading: NEEDS_DOWNLOADING\n",
      "[2021-11-25 00:46:59,776] - obspy.clients.fdsn.mass_downloader - INFO: Client 'GEONET' - Successfully downloaded 1 channels (of 1)\n",
      "[2021-11-25 00:46:59,785] - obspy.clients.fdsn.mass_downloader - INFO: Client 'GEONET' - Launching basic QC checks...\n",
      "[2021-11-25 00:46:59,802] - obspy.clients.fdsn.mass_downloader - INFO: Client 'GEONET' - Downloaded 0.0 MB [4.23 KB/sec] of data, 0.0 MB of which were discarded afterwards.\n",
      "[2021-11-25 00:46:59,803] - obspy.clients.fdsn.mass_downloader - INFO: Client 'GEONET' - Status for 1 time intervals/channels after downloading: DOWNLOADED\n",
      "[2021-11-25 00:46:59,807] - obspy.clients.fdsn.mass_downloader - INFO: Client 'GEONET' - No station information to download.\n",
      "[2021-11-25 00:46:59,809] - obspy.clients.fdsn.mass_downloader - INFO: ============================== Final report\n",
      "[2021-11-25 00:46:59,810] - obspy.clients.fdsn.mass_downloader - INFO: 0 MiniSEED files [0.0 MB] already existed.\n",
      "[2021-11-25 00:46:59,811] - obspy.clients.fdsn.mass_downloader - INFO: 1 StationXML files [0.0 MB] already existed.\n",
      "[2021-11-25 00:46:59,812] - obspy.clients.fdsn.mass_downloader - INFO: Client 'GEONET' - Acquired 1 MiniSEED files [0.0 MB].\n",
      "[2021-11-25 00:46:59,815] - obspy.clients.fdsn.mass_downloader - INFO: Client 'GEONET' - Acquired 0 StationXML files [0.0 MB].\n",
      "[2021-11-25 00:46:59,816] - obspy.clients.fdsn.mass_downloader - INFO: Downloaded 0.0 MB in total.\n",
      "[2021-11-25 00:46:59,827] - obspy.clients.fdsn.mass_downloader - INFO: Initializing FDSN client(s) for GEONET.\n",
      "[2021-11-25 00:46:59,835] - obspy.clients.fdsn.mass_downloader - INFO: Successfully initialized 1 client(s): GEONET.\n",
      "[2021-11-25 00:46:59,838] - obspy.clients.fdsn.mass_downloader - INFO: Total acquired or preexisting stations: 0\n",
      "[2021-11-25 00:46:59,841] - obspy.clients.fdsn.mass_downloader - INFO: Client 'GEONET' - Requesting unreliable availability.\n"
     ]
    },
    {
     "name": "stdout",
     "output_type": "stream",
     "text": [
      "=================================================================\n",
      "Initiating mass download request.\n"
     ]
    },
    {
     "name": "stderr",
     "output_type": "stream",
     "text": [
      "[2021-11-25 00:47:00,390] - obspy.clients.fdsn.mass_downloader - INFO: Client 'GEONET' - Successfully requested availability (0.55 seconds)\n",
      "[2021-11-25 00:47:00,396] - obspy.clients.fdsn.mass_downloader - INFO: Client 'GEONET' - Found 1 stations (1 channels).\n",
      "[2021-11-25 00:47:00,397] - obspy.clients.fdsn.mass_downloader - INFO: Client 'GEONET' - Will attempt to download data from 1 stations.\n",
      "[2021-11-25 00:47:00,397] - obspy.clients.fdsn.mass_downloader - INFO: Client 'GEONET' - Status for 1 time intervals/channels before downloading: NEEDS_DOWNLOADING\n",
      "[2021-11-25 00:47:01,367] - obspy.clients.fdsn.mass_downloader - INFO: Client 'GEONET' - Successfully downloaded 1 channels (of 1)\n",
      "[2021-11-25 00:47:01,376] - obspy.clients.fdsn.mass_downloader - INFO: Client 'GEONET' - Launching basic QC checks...\n",
      "[2021-11-25 00:47:01,396] - obspy.clients.fdsn.mass_downloader - INFO: Client 'GEONET' - Downloaded 0.0 MB [4.09 KB/sec] of data, 0.0 MB of which were discarded afterwards.\n",
      "[2021-11-25 00:47:01,397] - obspy.clients.fdsn.mass_downloader - INFO: Client 'GEONET' - Status for 1 time intervals/channels after downloading: DOWNLOADED\n",
      "[2021-11-25 00:47:01,407] - obspy.clients.fdsn.mass_downloader - INFO: Client 'GEONET' - No station information to download.\n",
      "[2021-11-25 00:47:01,413] - obspy.clients.fdsn.mass_downloader - INFO: ============================== Final report\n",
      "[2021-11-25 00:47:01,415] - obspy.clients.fdsn.mass_downloader - INFO: 0 MiniSEED files [0.0 MB] already existed.\n",
      "[2021-11-25 00:47:01,416] - obspy.clients.fdsn.mass_downloader - INFO: 1 StationXML files [0.0 MB] already existed.\n",
      "[2021-11-25 00:47:01,417] - obspy.clients.fdsn.mass_downloader - INFO: Client 'GEONET' - Acquired 1 MiniSEED files [0.0 MB].\n",
      "[2021-11-25 00:47:01,418] - obspy.clients.fdsn.mass_downloader - INFO: Client 'GEONET' - Acquired 0 StationXML files [0.0 MB].\n",
      "[2021-11-25 00:47:01,418] - obspy.clients.fdsn.mass_downloader - INFO: Downloaded 0.0 MB in total.\n",
      "[2021-11-25 00:47:01,428] - obspy.clients.fdsn.mass_downloader - INFO: Initializing FDSN client(s) for GEONET.\n",
      "[2021-11-25 00:47:01,440] - obspy.clients.fdsn.mass_downloader - INFO: Successfully initialized 1 client(s): GEONET.\n",
      "[2021-11-25 00:47:01,443] - obspy.clients.fdsn.mass_downloader - INFO: Total acquired or preexisting stations: 0\n",
      "[2021-11-25 00:47:01,443] - obspy.clients.fdsn.mass_downloader - INFO: Client 'GEONET' - Requesting unreliable availability.\n"
     ]
    },
    {
     "name": "stdout",
     "output_type": "stream",
     "text": [
      "=================================================================\n",
      "Initiating mass download request.\n"
     ]
    },
    {
     "name": "stderr",
     "output_type": "stream",
     "text": [
      "[2021-11-25 00:47:02,034] - obspy.clients.fdsn.mass_downloader - INFO: Client 'GEONET' - Successfully requested availability (0.59 seconds)\n",
      "[2021-11-25 00:47:02,041] - obspy.clients.fdsn.mass_downloader - INFO: Client 'GEONET' - Found 1 stations (1 channels).\n",
      "[2021-11-25 00:47:02,042] - obspy.clients.fdsn.mass_downloader - INFO: Client 'GEONET' - Will attempt to download data from 1 stations.\n",
      "[2021-11-25 00:47:02,043] - obspy.clients.fdsn.mass_downloader - INFO: Client 'GEONET' - Status for 1 time intervals/channels before downloading: NEEDS_DOWNLOADING\n",
      "[2021-11-25 00:47:03,476] - obspy.clients.fdsn.mass_downloader - INFO: Client 'GEONET' - Successfully downloaded 1 channels (of 1)\n",
      "[2021-11-25 00:47:03,493] - obspy.clients.fdsn.mass_downloader - INFO: Client 'GEONET' - Launching basic QC checks...\n",
      "[2021-11-25 00:47:03,508] - obspy.clients.fdsn.mass_downloader - INFO: Client 'GEONET' - Downloaded 0.0 MB [2.43 KB/sec] of data, 0.0 MB of which were discarded afterwards.\n",
      "[2021-11-25 00:47:03,509] - obspy.clients.fdsn.mass_downloader - INFO: Client 'GEONET' - Status for 1 time intervals/channels after downloading: DOWNLOADED\n",
      "[2021-11-25 00:47:03,515] - obspy.clients.fdsn.mass_downloader - INFO: Client 'GEONET' - No station information to download.\n",
      "[2021-11-25 00:47:03,516] - obspy.clients.fdsn.mass_downloader - INFO: ============================== Final report\n",
      "[2021-11-25 00:47:03,517] - obspy.clients.fdsn.mass_downloader - INFO: 0 MiniSEED files [0.0 MB] already existed.\n",
      "[2021-11-25 00:47:03,518] - obspy.clients.fdsn.mass_downloader - INFO: 1 StationXML files [0.0 MB] already existed.\n",
      "[2021-11-25 00:47:03,518] - obspy.clients.fdsn.mass_downloader - INFO: Client 'GEONET' - Acquired 1 MiniSEED files [0.0 MB].\n",
      "[2021-11-25 00:47:03,519] - obspy.clients.fdsn.mass_downloader - INFO: Client 'GEONET' - Acquired 0 StationXML files [0.0 MB].\n",
      "[2021-11-25 00:47:03,519] - obspy.clients.fdsn.mass_downloader - INFO: Downloaded 0.0 MB in total.\n",
      "[2021-11-25 00:47:03,525] - obspy.clients.fdsn.mass_downloader - INFO: Initializing FDSN client(s) for GEONET.\n",
      "[2021-11-25 00:47:03,531] - obspy.clients.fdsn.mass_downloader - INFO: Successfully initialized 1 client(s): GEONET.\n",
      "[2021-11-25 00:47:03,533] - obspy.clients.fdsn.mass_downloader - INFO: Total acquired or preexisting stations: 0\n",
      "[2021-11-25 00:47:03,533] - obspy.clients.fdsn.mass_downloader - INFO: Client 'GEONET' - Requesting unreliable availability.\n"
     ]
    },
    {
     "name": "stdout",
     "output_type": "stream",
     "text": [
      "=================================================================\n",
      "Initiating mass download request.\n"
     ]
    },
    {
     "name": "stderr",
     "output_type": "stream",
     "text": [
      "[2021-11-25 00:47:04,094] - obspy.clients.fdsn.mass_downloader - INFO: Client 'GEONET' - Successfully requested availability (0.56 seconds)\n",
      "[2021-11-25 00:47:04,095] - obspy.clients.fdsn.mass_downloader - INFO: Client 'GEONET' - Found 1 stations (1 channels).\n",
      "[2021-11-25 00:47:04,095] - obspy.clients.fdsn.mass_downloader - INFO: Client 'GEONET' - Will attempt to download data from 1 stations.\n",
      "[2021-11-25 00:47:04,096] - obspy.clients.fdsn.mass_downloader - INFO: Client 'GEONET' - Status for 1 time intervals/channels before downloading: NEEDS_DOWNLOADING\n",
      "[2021-11-25 00:47:05,140] - obspy.clients.fdsn.mass_downloader - INFO: Client 'GEONET' - Successfully downloaded 1 channels (of 1)\n",
      "[2021-11-25 00:47:05,162] - obspy.clients.fdsn.mass_downloader - INFO: Client 'GEONET' - Launching basic QC checks...\n",
      "[2021-11-25 00:47:05,196] - obspy.clients.fdsn.mass_downloader - INFO: Client 'GEONET' - Downloaded 0.0 MB [3.29 KB/sec] of data, 0.0 MB of which were discarded afterwards.\n",
      "[2021-11-25 00:47:05,197] - obspy.clients.fdsn.mass_downloader - INFO: Client 'GEONET' - Status for 1 time intervals/channels after downloading: DOWNLOADED\n",
      "[2021-11-25 00:47:05,202] - obspy.clients.fdsn.mass_downloader - INFO: Client 'GEONET' - No station information to download.\n",
      "[2021-11-25 00:47:05,205] - obspy.clients.fdsn.mass_downloader - INFO: ============================== Final report\n",
      "[2021-11-25 00:47:05,206] - obspy.clients.fdsn.mass_downloader - INFO: 0 MiniSEED files [0.0 MB] already existed.\n",
      "[2021-11-25 00:47:05,207] - obspy.clients.fdsn.mass_downloader - INFO: 1 StationXML files [0.0 MB] already existed.\n",
      "[2021-11-25 00:47:05,208] - obspy.clients.fdsn.mass_downloader - INFO: Client 'GEONET' - Acquired 1 MiniSEED files [0.0 MB].\n",
      "[2021-11-25 00:47:05,208] - obspy.clients.fdsn.mass_downloader - INFO: Client 'GEONET' - Acquired 0 StationXML files [0.0 MB].\n",
      "[2021-11-25 00:47:05,209] - obspy.clients.fdsn.mass_downloader - INFO: Downloaded 0.0 MB in total.\n",
      "[2021-11-25 00:47:05,217] - obspy.clients.fdsn.mass_downloader - INFO: Initializing FDSN client(s) for GEONET.\n",
      "[2021-11-25 00:47:05,221] - obspy.clients.fdsn.mass_downloader - INFO: Successfully initialized 1 client(s): GEONET.\n",
      "[2021-11-25 00:47:05,222] - obspy.clients.fdsn.mass_downloader - INFO: Total acquired or preexisting stations: 0\n",
      "[2021-11-25 00:47:05,223] - obspy.clients.fdsn.mass_downloader - INFO: Client 'GEONET' - Requesting unreliable availability.\n"
     ]
    },
    {
     "name": "stdout",
     "output_type": "stream",
     "text": [
      "=================================================================\n",
      "Initiating mass download request.\n"
     ]
    },
    {
     "name": "stderr",
     "output_type": "stream",
     "text": [
      "[2021-11-25 00:47:06,635] - obspy.clients.fdsn.mass_downloader - INFO: Client 'GEONET' - Successfully requested availability (1.41 seconds)\n",
      "[2021-11-25 00:47:06,645] - obspy.clients.fdsn.mass_downloader - INFO: Client 'GEONET' - Found 1 stations (1 channels).\n",
      "[2021-11-25 00:47:06,647] - obspy.clients.fdsn.mass_downloader - INFO: Client 'GEONET' - Will attempt to download data from 1 stations.\n",
      "[2021-11-25 00:47:06,652] - obspy.clients.fdsn.mass_downloader - INFO: Client 'GEONET' - Status for 1 time intervals/channels before downloading: NEEDS_DOWNLOADING\n",
      "[2021-11-25 00:47:07,518] - obspy.clients.fdsn.mass_downloader - INFO: Client 'GEONET' - Successfully downloaded 1 channels (of 1)\n",
      "[2021-11-25 00:47:07,520] - obspy.clients.fdsn.mass_downloader - INFO: Client 'GEONET' - Launching basic QC checks...\n",
      "[2021-11-25 00:47:07,526] - obspy.clients.fdsn.mass_downloader - INFO: Client 'GEONET' - Downloaded 0.0 MB [4.05 KB/sec] of data, 0.0 MB of which were discarded afterwards.\n",
      "[2021-11-25 00:47:07,526] - obspy.clients.fdsn.mass_downloader - INFO: Client 'GEONET' - Status for 1 time intervals/channels after downloading: DOWNLOADED\n",
      "[2021-11-25 00:47:07,529] - obspy.clients.fdsn.mass_downloader - INFO: Client 'GEONET' - No station information to download.\n",
      "[2021-11-25 00:47:07,530] - obspy.clients.fdsn.mass_downloader - INFO: ============================== Final report\n",
      "[2021-11-25 00:47:07,530] - obspy.clients.fdsn.mass_downloader - INFO: 0 MiniSEED files [0.0 MB] already existed.\n",
      "[2021-11-25 00:47:07,531] - obspy.clients.fdsn.mass_downloader - INFO: 1 StationXML files [0.0 MB] already existed.\n",
      "[2021-11-25 00:47:07,531] - obspy.clients.fdsn.mass_downloader - INFO: Client 'GEONET' - Acquired 1 MiniSEED files [0.0 MB].\n",
      "[2021-11-25 00:47:07,531] - obspy.clients.fdsn.mass_downloader - INFO: Client 'GEONET' - Acquired 0 StationXML files [0.0 MB].\n",
      "[2021-11-25 00:47:07,531] - obspy.clients.fdsn.mass_downloader - INFO: Downloaded 0.0 MB in total.\n",
      "[2021-11-25 00:47:07,534] - obspy.clients.fdsn.mass_downloader - INFO: Initializing FDSN client(s) for GEONET.\n",
      "[2021-11-25 00:47:07,543] - obspy.clients.fdsn.mass_downloader - INFO: Successfully initialized 1 client(s): GEONET.\n",
      "[2021-11-25 00:47:07,544] - obspy.clients.fdsn.mass_downloader - INFO: Total acquired or preexisting stations: 0\n",
      "[2021-11-25 00:47:07,544] - obspy.clients.fdsn.mass_downloader - INFO: Client 'GEONET' - Requesting unreliable availability.\n"
     ]
    },
    {
     "name": "stdout",
     "output_type": "stream",
     "text": [
      "=================================================================\n",
      "Initiating mass download request.\n"
     ]
    },
    {
     "name": "stderr",
     "output_type": "stream",
     "text": [
      "[2021-11-25 00:47:08,116] - obspy.clients.fdsn.mass_downloader - INFO: Client 'GEONET' - Successfully requested availability (0.57 seconds)\n",
      "[2021-11-25 00:47:08,118] - obspy.clients.fdsn.mass_downloader - INFO: Client 'GEONET' - Found 1 stations (1 channels).\n",
      "[2021-11-25 00:47:08,120] - obspy.clients.fdsn.mass_downloader - INFO: Client 'GEONET' - Will attempt to download data from 1 stations.\n",
      "[2021-11-25 00:47:08,124] - obspy.clients.fdsn.mass_downloader - INFO: Client 'GEONET' - Status for 1 time intervals/channels before downloading: NEEDS_DOWNLOADING\n",
      "[2021-11-25 00:47:09,128] - obspy.clients.fdsn.mass_downloader - INFO: Client 'GEONET' - Successfully downloaded 1 channels (of 1)\n",
      "[2021-11-25 00:47:09,137] - obspy.clients.fdsn.mass_downloader - INFO: Client 'GEONET' - Launching basic QC checks...\n",
      "[2021-11-25 00:47:09,152] - obspy.clients.fdsn.mass_downloader - INFO: Client 'GEONET' - Downloaded 0.0 MB [3.97 KB/sec] of data, 0.0 MB of which were discarded afterwards.\n",
      "[2021-11-25 00:47:09,158] - obspy.clients.fdsn.mass_downloader - INFO: Client 'GEONET' - Status for 1 time intervals/channels after downloading: DOWNLOADED\n",
      "[2021-11-25 00:47:09,164] - obspy.clients.fdsn.mass_downloader - INFO: Client 'GEONET' - No station information to download.\n",
      "[2021-11-25 00:47:09,169] - obspy.clients.fdsn.mass_downloader - INFO: ============================== Final report\n",
      "[2021-11-25 00:47:09,170] - obspy.clients.fdsn.mass_downloader - INFO: 0 MiniSEED files [0.0 MB] already existed.\n",
      "[2021-11-25 00:47:09,171] - obspy.clients.fdsn.mass_downloader - INFO: 1 StationXML files [0.0 MB] already existed.\n",
      "[2021-11-25 00:47:09,171] - obspy.clients.fdsn.mass_downloader - INFO: Client 'GEONET' - Acquired 1 MiniSEED files [0.0 MB].\n",
      "[2021-11-25 00:47:09,172] - obspy.clients.fdsn.mass_downloader - INFO: Client 'GEONET' - Acquired 0 StationXML files [0.0 MB].\n",
      "[2021-11-25 00:47:09,173] - obspy.clients.fdsn.mass_downloader - INFO: Downloaded 0.0 MB in total.\n",
      "[2021-11-25 00:47:09,179] - obspy.clients.fdsn.mass_downloader - INFO: Initializing FDSN client(s) for GEONET.\n",
      "[2021-11-25 00:47:09,184] - obspy.clients.fdsn.mass_downloader - INFO: Successfully initialized 1 client(s): GEONET.\n",
      "[2021-11-25 00:47:09,188] - obspy.clients.fdsn.mass_downloader - INFO: Total acquired or preexisting stations: 0\n",
      "[2021-11-25 00:47:09,189] - obspy.clients.fdsn.mass_downloader - INFO: Client 'GEONET' - Requesting unreliable availability.\n"
     ]
    },
    {
     "name": "stdout",
     "output_type": "stream",
     "text": [
      "=================================================================\n",
      "Initiating mass download request.\n"
     ]
    },
    {
     "name": "stderr",
     "output_type": "stream",
     "text": [
      "[2021-11-25 00:47:09,741] - obspy.clients.fdsn.mass_downloader - INFO: Client 'GEONET' - Successfully requested availability (0.55 seconds)\n",
      "[2021-11-25 00:47:09,742] - obspy.clients.fdsn.mass_downloader - INFO: Client 'GEONET' - Found 1 stations (1 channels).\n",
      "[2021-11-25 00:47:09,743] - obspy.clients.fdsn.mass_downloader - INFO: Client 'GEONET' - Will attempt to download data from 1 stations.\n",
      "[2021-11-25 00:47:09,743] - obspy.clients.fdsn.mass_downloader - INFO: Client 'GEONET' - Status for 1 time intervals/channels before downloading: NEEDS_DOWNLOADING\n",
      "[2021-11-25 00:47:10,767] - obspy.clients.fdsn.mass_downloader - INFO: Client 'GEONET' - Successfully downloaded 1 channels (of 1)\n",
      "[2021-11-25 00:47:10,771] - obspy.clients.fdsn.mass_downloader - INFO: Client 'GEONET' - Launching basic QC checks...\n",
      "[2021-11-25 00:47:10,785] - obspy.clients.fdsn.mass_downloader - INFO: Client 'GEONET' - Downloaded 0.0 MB [4.38 KB/sec] of data, 0.0 MB of which were discarded afterwards.\n",
      "[2021-11-25 00:47:10,785] - obspy.clients.fdsn.mass_downloader - INFO: Client 'GEONET' - Status for 1 time intervals/channels after downloading: DOWNLOADED\n",
      "[2021-11-25 00:47:10,791] - obspy.clients.fdsn.mass_downloader - INFO: Client 'GEONET' - No station information to download.\n",
      "[2021-11-25 00:47:10,794] - obspy.clients.fdsn.mass_downloader - INFO: ============================== Final report\n",
      "[2021-11-25 00:47:10,794] - obspy.clients.fdsn.mass_downloader - INFO: 0 MiniSEED files [0.0 MB] already existed.\n",
      "[2021-11-25 00:47:10,796] - obspy.clients.fdsn.mass_downloader - INFO: 1 StationXML files [0.0 MB] already existed.\n",
      "[2021-11-25 00:47:10,797] - obspy.clients.fdsn.mass_downloader - INFO: Client 'GEONET' - Acquired 1 MiniSEED files [0.0 MB].\n",
      "[2021-11-25 00:47:10,797] - obspy.clients.fdsn.mass_downloader - INFO: Client 'GEONET' - Acquired 0 StationXML files [0.0 MB].\n",
      "[2021-11-25 00:47:10,798] - obspy.clients.fdsn.mass_downloader - INFO: Downloaded 0.0 MB in total.\n",
      "[2021-11-25 00:47:10,806] - obspy.clients.fdsn.mass_downloader - INFO: Initializing FDSN client(s) for GEONET.\n",
      "[2021-11-25 00:47:10,822] - obspy.clients.fdsn.mass_downloader - INFO: Successfully initialized 1 client(s): GEONET.\n",
      "[2021-11-25 00:47:10,823] - obspy.clients.fdsn.mass_downloader - INFO: Total acquired or preexisting stations: 0\n",
      "[2021-11-25 00:47:10,824] - obspy.clients.fdsn.mass_downloader - INFO: Client 'GEONET' - Requesting unreliable availability.\n"
     ]
    },
    {
     "name": "stdout",
     "output_type": "stream",
     "text": [
      "=================================================================\n",
      "Initiating mass download request.\n"
     ]
    },
    {
     "name": "stderr",
     "output_type": "stream",
     "text": [
      "[2021-11-25 00:47:11,411] - obspy.clients.fdsn.mass_downloader - INFO: Client 'GEONET' - Successfully requested availability (0.59 seconds)\n",
      "[2021-11-25 00:47:11,413] - obspy.clients.fdsn.mass_downloader - INFO: Client 'GEONET' - Found 1 stations (1 channels).\n",
      "[2021-11-25 00:47:11,413] - obspy.clients.fdsn.mass_downloader - INFO: Client 'GEONET' - Will attempt to download data from 1 stations.\n",
      "[2021-11-25 00:47:11,414] - obspy.clients.fdsn.mass_downloader - INFO: Client 'GEONET' - Status for 1 time intervals/channels before downloading: NEEDS_DOWNLOADING\n",
      "[2021-11-25 00:47:12,461] - obspy.clients.fdsn.mass_downloader - INFO: Client 'GEONET' - Successfully downloaded 1 channels (of 1)\n",
      "[2021-11-25 00:47:12,471] - obspy.clients.fdsn.mass_downloader - INFO: Client 'GEONET' - Launching basic QC checks...\n",
      "[2021-11-25 00:47:12,483] - obspy.clients.fdsn.mass_downloader - INFO: Client 'GEONET' - Downloaded 0.0 MB [4.28 KB/sec] of data, 0.0 MB of which were discarded afterwards.\n",
      "[2021-11-25 00:47:12,484] - obspy.clients.fdsn.mass_downloader - INFO: Client 'GEONET' - Status for 1 time intervals/channels after downloading: DOWNLOADED\n",
      "[2021-11-25 00:47:12,491] - obspy.clients.fdsn.mass_downloader - INFO: Client 'GEONET' - No station information to download.\n",
      "[2021-11-25 00:47:12,492] - obspy.clients.fdsn.mass_downloader - INFO: ============================== Final report\n",
      "[2021-11-25 00:47:12,492] - obspy.clients.fdsn.mass_downloader - INFO: 0 MiniSEED files [0.0 MB] already existed.\n",
      "[2021-11-25 00:47:12,493] - obspy.clients.fdsn.mass_downloader - INFO: 1 StationXML files [0.0 MB] already existed.\n",
      "[2021-11-25 00:47:12,493] - obspy.clients.fdsn.mass_downloader - INFO: Client 'GEONET' - Acquired 1 MiniSEED files [0.0 MB].\n",
      "[2021-11-25 00:47:12,493] - obspy.clients.fdsn.mass_downloader - INFO: Client 'GEONET' - Acquired 0 StationXML files [0.0 MB].\n",
      "[2021-11-25 00:47:12,494] - obspy.clients.fdsn.mass_downloader - INFO: Downloaded 0.0 MB in total.\n",
      "[2021-11-25 00:47:12,499] - obspy.clients.fdsn.mass_downloader - INFO: Initializing FDSN client(s) for GEONET.\n",
      "[2021-11-25 00:47:12,502] - obspy.clients.fdsn.mass_downloader - INFO: Successfully initialized 1 client(s): GEONET.\n",
      "[2021-11-25 00:47:12,503] - obspy.clients.fdsn.mass_downloader - INFO: Total acquired or preexisting stations: 0\n",
      "[2021-11-25 00:47:12,503] - obspy.clients.fdsn.mass_downloader - INFO: Client 'GEONET' - Requesting unreliable availability.\n"
     ]
    },
    {
     "name": "stdout",
     "output_type": "stream",
     "text": [
      "=================================================================\n",
      "Initiating mass download request.\n"
     ]
    },
    {
     "name": "stderr",
     "output_type": "stream",
     "text": [
      "[2021-11-25 00:47:13,059] - obspy.clients.fdsn.mass_downloader - INFO: Client 'GEONET' - Successfully requested availability (0.56 seconds)\n",
      "[2021-11-25 00:47:13,060] - obspy.clients.fdsn.mass_downloader - INFO: Client 'GEONET' - Found 1 stations (1 channels).\n",
      "[2021-11-25 00:47:13,060] - obspy.clients.fdsn.mass_downloader - INFO: Client 'GEONET' - Will attempt to download data from 1 stations.\n",
      "[2021-11-25 00:47:13,061] - obspy.clients.fdsn.mass_downloader - INFO: Client 'GEONET' - Status for 1 time intervals/channels before downloading: NEEDS_DOWNLOADING\n",
      "[2021-11-25 00:47:14,161] - obspy.clients.fdsn.mass_downloader - INFO: Client 'GEONET' - Successfully downloaded 1 channels (of 1)\n",
      "[2021-11-25 00:47:14,164] - obspy.clients.fdsn.mass_downloader - INFO: Client 'GEONET' - Launching basic QC checks...\n",
      "[2021-11-25 00:47:14,176] - obspy.clients.fdsn.mass_downloader - INFO: Client 'GEONET' - Downloaded 0.0 MB [5.44 KB/sec] of data, 0.0 MB of which were discarded afterwards.\n",
      "[2021-11-25 00:47:14,177] - obspy.clients.fdsn.mass_downloader - INFO: Client 'GEONET' - Status for 1 time intervals/channels after downloading: DOWNLOADED\n",
      "[2021-11-25 00:47:14,180] - obspy.clients.fdsn.mass_downloader - INFO: Client 'GEONET' - No station information to download.\n",
      "[2021-11-25 00:47:14,181] - obspy.clients.fdsn.mass_downloader - INFO: ============================== Final report\n",
      "[2021-11-25 00:47:14,181] - obspy.clients.fdsn.mass_downloader - INFO: 0 MiniSEED files [0.0 MB] already existed.\n",
      "[2021-11-25 00:47:14,181] - obspy.clients.fdsn.mass_downloader - INFO: 1 StationXML files [0.0 MB] already existed.\n",
      "[2021-11-25 00:47:14,182] - obspy.clients.fdsn.mass_downloader - INFO: Client 'GEONET' - Acquired 1 MiniSEED files [0.0 MB].\n",
      "[2021-11-25 00:47:14,182] - obspy.clients.fdsn.mass_downloader - INFO: Client 'GEONET' - Acquired 0 StationXML files [0.0 MB].\n",
      "[2021-11-25 00:47:14,182] - obspy.clients.fdsn.mass_downloader - INFO: Downloaded 0.0 MB in total.\n",
      "[2021-11-25 00:47:14,187] - obspy.clients.fdsn.mass_downloader - INFO: Initializing FDSN client(s) for GEONET.\n",
      "[2021-11-25 00:47:14,195] - obspy.clients.fdsn.mass_downloader - INFO: Successfully initialized 1 client(s): GEONET.\n",
      "[2021-11-25 00:47:14,196] - obspy.clients.fdsn.mass_downloader - INFO: Total acquired or preexisting stations: 0\n",
      "[2021-11-25 00:47:14,197] - obspy.clients.fdsn.mass_downloader - INFO: Client 'GEONET' - Requesting unreliable availability.\n"
     ]
    },
    {
     "name": "stdout",
     "output_type": "stream",
     "text": [
      "=================================================================\n",
      "Initiating mass download request.\n"
     ]
    },
    {
     "name": "stderr",
     "output_type": "stream",
     "text": [
      "[2021-11-25 00:47:14,800] - obspy.clients.fdsn.mass_downloader - INFO: Client 'GEONET' - Successfully requested availability (0.60 seconds)\n",
      "[2021-11-25 00:47:14,801] - obspy.clients.fdsn.mass_downloader - INFO: Client 'GEONET' - Found 1 stations (1 channels).\n",
      "[2021-11-25 00:47:14,801] - obspy.clients.fdsn.mass_downloader - INFO: Client 'GEONET' - Will attempt to download data from 1 stations.\n",
      "[2021-11-25 00:47:14,801] - obspy.clients.fdsn.mass_downloader - INFO: Client 'GEONET' - Status for 1 time intervals/channels before downloading: NEEDS_DOWNLOADING\n",
      "[2021-11-25 00:47:15,769] - obspy.clients.fdsn.mass_downloader - INFO: Client 'GEONET' - Successfully downloaded 1 channels (of 1)\n",
      "[2021-11-25 00:47:15,770] - obspy.clients.fdsn.mass_downloader - INFO: Client 'GEONET' - Launching basic QC checks...\n",
      "[2021-11-25 00:47:15,773] - obspy.clients.fdsn.mass_downloader - INFO: Client 'GEONET' - Downloaded 0.0 MB [3.62 KB/sec] of data, 0.0 MB of which were discarded afterwards.\n",
      "[2021-11-25 00:47:15,773] - obspy.clients.fdsn.mass_downloader - INFO: Client 'GEONET' - Status for 1 time intervals/channels after downloading: DOWNLOADED\n",
      "[2021-11-25 00:47:15,775] - obspy.clients.fdsn.mass_downloader - INFO: Client 'GEONET' - No station information to download.\n",
      "[2021-11-25 00:47:15,776] - obspy.clients.fdsn.mass_downloader - INFO: ============================== Final report\n",
      "[2021-11-25 00:47:15,776] - obspy.clients.fdsn.mass_downloader - INFO: 0 MiniSEED files [0.0 MB] already existed.\n",
      "[2021-11-25 00:47:15,776] - obspy.clients.fdsn.mass_downloader - INFO: 1 StationXML files [0.0 MB] already existed.\n",
      "[2021-11-25 00:47:15,776] - obspy.clients.fdsn.mass_downloader - INFO: Client 'GEONET' - Acquired 1 MiniSEED files [0.0 MB].\n",
      "[2021-11-25 00:47:15,777] - obspy.clients.fdsn.mass_downloader - INFO: Client 'GEONET' - Acquired 0 StationXML files [0.0 MB].\n",
      "[2021-11-25 00:47:15,777] - obspy.clients.fdsn.mass_downloader - INFO: Downloaded 0.0 MB in total.\n",
      "[2021-11-25 00:47:15,779] - obspy.clients.fdsn.mass_downloader - INFO: Initializing FDSN client(s) for GEONET.\n",
      "[2021-11-25 00:47:15,785] - obspy.clients.fdsn.mass_downloader - INFO: Successfully initialized 1 client(s): GEONET.\n",
      "[2021-11-25 00:47:15,786] - obspy.clients.fdsn.mass_downloader - INFO: Total acquired or preexisting stations: 0\n",
      "[2021-11-25 00:47:15,786] - obspy.clients.fdsn.mass_downloader - INFO: Client 'GEONET' - Requesting unreliable availability.\n"
     ]
    },
    {
     "name": "stdout",
     "output_type": "stream",
     "text": [
      "=================================================================\n",
      "Initiating mass download request.\n"
     ]
    },
    {
     "name": "stderr",
     "output_type": "stream",
     "text": [
      "[2021-11-25 00:47:16,350] - obspy.clients.fdsn.mass_downloader - INFO: Client 'GEONET' - Successfully requested availability (0.56 seconds)\n",
      "[2021-11-25 00:47:16,351] - obspy.clients.fdsn.mass_downloader - INFO: Client 'GEONET' - Found 1 stations (1 channels).\n",
      "[2021-11-25 00:47:16,351] - obspy.clients.fdsn.mass_downloader - INFO: Client 'GEONET' - Will attempt to download data from 1 stations.\n",
      "[2021-11-25 00:47:16,352] - obspy.clients.fdsn.mass_downloader - INFO: Client 'GEONET' - Status for 1 time intervals/channels before downloading: NEEDS_DOWNLOADING\n",
      "[2021-11-25 00:47:17,315] - obspy.clients.fdsn.mass_downloader - INFO: Client 'GEONET' - Successfully downloaded 1 channels (of 1)\n",
      "[2021-11-25 00:47:17,326] - obspy.clients.fdsn.mass_downloader - INFO: Client 'GEONET' - Launching basic QC checks...\n",
      "[2021-11-25 00:47:17,338] - obspy.clients.fdsn.mass_downloader - INFO: Client 'GEONET' - Downloaded 0.0 MB [4.63 KB/sec] of data, 0.0 MB of which were discarded afterwards.\n",
      "[2021-11-25 00:47:17,340] - obspy.clients.fdsn.mass_downloader - INFO: Client 'GEONET' - Status for 1 time intervals/channels after downloading: DOWNLOADED\n",
      "[2021-11-25 00:47:17,342] - obspy.clients.fdsn.mass_downloader - INFO: Client 'GEONET' - No station information to download.\n",
      "[2021-11-25 00:47:17,343] - obspy.clients.fdsn.mass_downloader - INFO: ============================== Final report\n",
      "[2021-11-25 00:47:17,344] - obspy.clients.fdsn.mass_downloader - INFO: 0 MiniSEED files [0.0 MB] already existed.\n",
      "[2021-11-25 00:47:17,344] - obspy.clients.fdsn.mass_downloader - INFO: 1 StationXML files [0.0 MB] already existed.\n",
      "[2021-11-25 00:47:17,345] - obspy.clients.fdsn.mass_downloader - INFO: Client 'GEONET' - Acquired 1 MiniSEED files [0.0 MB].\n",
      "[2021-11-25 00:47:17,345] - obspy.clients.fdsn.mass_downloader - INFO: Client 'GEONET' - Acquired 0 StationXML files [0.0 MB].\n",
      "[2021-11-25 00:47:17,345] - obspy.clients.fdsn.mass_downloader - INFO: Downloaded 0.0 MB in total.\n",
      "[2021-11-25 00:47:17,352] - obspy.clients.fdsn.mass_downloader - INFO: Initializing FDSN client(s) for GEONET.\n",
      "[2021-11-25 00:47:17,355] - obspy.clients.fdsn.mass_downloader - INFO: Successfully initialized 1 client(s): GEONET.\n",
      "[2021-11-25 00:47:17,356] - obspy.clients.fdsn.mass_downloader - INFO: Total acquired or preexisting stations: 0\n",
      "[2021-11-25 00:47:17,356] - obspy.clients.fdsn.mass_downloader - INFO: Client 'GEONET' - Requesting unreliable availability.\n"
     ]
    },
    {
     "name": "stdout",
     "output_type": "stream",
     "text": [
      "=================================================================\n",
      "Initiating mass download request.\n"
     ]
    },
    {
     "name": "stderr",
     "output_type": "stream",
     "text": [
      "[2021-11-25 00:47:17,903] - obspy.clients.fdsn.mass_downloader - INFO: Client 'GEONET' - Successfully requested availability (0.55 seconds)\n",
      "[2021-11-25 00:47:17,903] - obspy.clients.fdsn.mass_downloader - INFO: Client 'GEONET' - Found 1 stations (1 channels).\n",
      "[2021-11-25 00:47:17,904] - obspy.clients.fdsn.mass_downloader - INFO: Client 'GEONET' - Will attempt to download data from 1 stations.\n",
      "[2021-11-25 00:47:17,904] - obspy.clients.fdsn.mass_downloader - INFO: Client 'GEONET' - Status for 1 time intervals/channels before downloading: NEEDS_DOWNLOADING\n",
      "[2021-11-25 00:47:18,841] - obspy.clients.fdsn.mass_downloader - INFO: Client 'GEONET' - Successfully downloaded 1 channels (of 1)\n",
      "[2021-11-25 00:47:18,845] - obspy.clients.fdsn.mass_downloader - INFO: Client 'GEONET' - Launching basic QC checks...\n",
      "[2021-11-25 00:47:18,851] - obspy.clients.fdsn.mass_downloader - INFO: Client 'GEONET' - Downloaded 0.0 MB [3.73 KB/sec] of data, 0.0 MB of which were discarded afterwards.\n",
      "[2021-11-25 00:47:18,852] - obspy.clients.fdsn.mass_downloader - INFO: Client 'GEONET' - Status for 1 time intervals/channels after downloading: DOWNLOADED\n",
      "[2021-11-25 00:47:18,856] - obspy.clients.fdsn.mass_downloader - INFO: Client 'GEONET' - No station information to download.\n",
      "[2021-11-25 00:47:18,857] - obspy.clients.fdsn.mass_downloader - INFO: ============================== Final report\n",
      "[2021-11-25 00:47:18,857] - obspy.clients.fdsn.mass_downloader - INFO: 0 MiniSEED files [0.0 MB] already existed.\n",
      "[2021-11-25 00:47:18,858] - obspy.clients.fdsn.mass_downloader - INFO: 1 StationXML files [0.0 MB] already existed.\n",
      "[2021-11-25 00:47:18,858] - obspy.clients.fdsn.mass_downloader - INFO: Client 'GEONET' - Acquired 1 MiniSEED files [0.0 MB].\n",
      "[2021-11-25 00:47:18,858] - obspy.clients.fdsn.mass_downloader - INFO: Client 'GEONET' - Acquired 0 StationXML files [0.0 MB].\n",
      "[2021-11-25 00:47:18,859] - obspy.clients.fdsn.mass_downloader - INFO: Downloaded 0.0 MB in total.\n",
      "[2021-11-25 00:47:18,863] - obspy.clients.fdsn.mass_downloader - INFO: Initializing FDSN client(s) for GEONET.\n",
      "[2021-11-25 00:47:18,871] - obspy.clients.fdsn.mass_downloader - INFO: Successfully initialized 1 client(s): GEONET.\n",
      "[2021-11-25 00:47:18,872] - obspy.clients.fdsn.mass_downloader - INFO: Total acquired or preexisting stations: 0\n",
      "[2021-11-25 00:47:18,873] - obspy.clients.fdsn.mass_downloader - INFO: Client 'GEONET' - Requesting unreliable availability.\n"
     ]
    },
    {
     "name": "stdout",
     "output_type": "stream",
     "text": [
      "=================================================================\n",
      "Initiating mass download request.\n"
     ]
    },
    {
     "name": "stderr",
     "output_type": "stream",
     "text": [
      "[2021-11-25 00:47:19,535] - obspy.clients.fdsn.mass_downloader - INFO: Client 'GEONET' - Successfully requested availability (0.66 seconds)\n",
      "[2021-11-25 00:47:19,539] - obspy.clients.fdsn.mass_downloader - INFO: Client 'GEONET' - Found 1 stations (1 channels).\n",
      "[2021-11-25 00:47:19,539] - obspy.clients.fdsn.mass_downloader - INFO: Client 'GEONET' - Will attempt to download data from 1 stations.\n",
      "[2021-11-25 00:47:19,540] - obspy.clients.fdsn.mass_downloader - INFO: Client 'GEONET' - Status for 1 time intervals/channels before downloading: NEEDS_DOWNLOADING\n",
      "[2021-11-25 00:47:20,507] - obspy.clients.fdsn.mass_downloader - INFO: Client 'GEONET' - Successfully downloaded 1 channels (of 1)\n",
      "[2021-11-25 00:47:20,525] - obspy.clients.fdsn.mass_downloader - INFO: Client 'GEONET' - Launching basic QC checks...\n",
      "[2021-11-25 00:47:20,544] - obspy.clients.fdsn.mass_downloader - INFO: Client 'GEONET' - Downloaded 0.0 MB [4.58 KB/sec] of data, 0.0 MB of which were discarded afterwards.\n",
      "[2021-11-25 00:47:20,544] - obspy.clients.fdsn.mass_downloader - INFO: Client 'GEONET' - Status for 1 time intervals/channels after downloading: DOWNLOADED\n",
      "[2021-11-25 00:47:20,553] - obspy.clients.fdsn.mass_downloader - INFO: Client 'GEONET' - No station information to download.\n",
      "[2021-11-25 00:47:20,566] - obspy.clients.fdsn.mass_downloader - INFO: ============================== Final report\n",
      "[2021-11-25 00:47:20,567] - obspy.clients.fdsn.mass_downloader - INFO: 0 MiniSEED files [0.0 MB] already existed.\n",
      "[2021-11-25 00:47:20,568] - obspy.clients.fdsn.mass_downloader - INFO: 1 StationXML files [0.0 MB] already existed.\n",
      "[2021-11-25 00:47:20,569] - obspy.clients.fdsn.mass_downloader - INFO: Client 'GEONET' - Acquired 1 MiniSEED files [0.0 MB].\n",
      "[2021-11-25 00:47:20,571] - obspy.clients.fdsn.mass_downloader - INFO: Client 'GEONET' - Acquired 0 StationXML files [0.0 MB].\n",
      "[2021-11-25 00:47:20,572] - obspy.clients.fdsn.mass_downloader - INFO: Downloaded 0.0 MB in total.\n",
      "[2021-11-25 00:47:20,576] - obspy.clients.fdsn.mass_downloader - INFO: Initializing FDSN client(s) for GEONET.\n",
      "[2021-11-25 00:47:20,586] - obspy.clients.fdsn.mass_downloader - INFO: Successfully initialized 1 client(s): GEONET.\n",
      "[2021-11-25 00:47:20,587] - obspy.clients.fdsn.mass_downloader - INFO: Total acquired or preexisting stations: 0\n",
      "[2021-11-25 00:47:20,587] - obspy.clients.fdsn.mass_downloader - INFO: Client 'GEONET' - Requesting unreliable availability.\n"
     ]
    },
    {
     "name": "stdout",
     "output_type": "stream",
     "text": [
      "=================================================================\n",
      "Initiating mass download request.\n"
     ]
    },
    {
     "name": "stderr",
     "output_type": "stream",
     "text": [
      "[2021-11-25 00:47:21,224] - obspy.clients.fdsn.mass_downloader - INFO: Client 'GEONET' - Successfully requested availability (0.64 seconds)\n",
      "[2021-11-25 00:47:21,238] - obspy.clients.fdsn.mass_downloader - INFO: Client 'GEONET' - Found 1 stations (1 channels).\n",
      "[2021-11-25 00:47:21,247] - obspy.clients.fdsn.mass_downloader - INFO: Client 'GEONET' - Will attempt to download data from 1 stations.\n",
      "[2021-11-25 00:47:21,249] - obspy.clients.fdsn.mass_downloader - INFO: Client 'GEONET' - Status for 1 time intervals/channels before downloading: NEEDS_DOWNLOADING\n",
      "[2021-11-25 00:47:22,181] - obspy.clients.fdsn.mass_downloader - INFO: Client 'GEONET' - Successfully downloaded 1 channels (of 1)\n",
      "[2021-11-25 00:47:22,186] - obspy.clients.fdsn.mass_downloader - INFO: Client 'GEONET' - Launching basic QC checks...\n",
      "[2021-11-25 00:47:22,194] - obspy.clients.fdsn.mass_downloader - INFO: Client 'GEONET' - Downloaded 0.0 MB [4.38 KB/sec] of data, 0.0 MB of which were discarded afterwards.\n",
      "[2021-11-25 00:47:22,198] - obspy.clients.fdsn.mass_downloader - INFO: Client 'GEONET' - Status for 1 time intervals/channels after downloading: DOWNLOADED\n",
      "[2021-11-25 00:47:22,206] - obspy.clients.fdsn.mass_downloader - INFO: Client 'GEONET' - No station information to download.\n",
      "[2021-11-25 00:47:22,207] - obspy.clients.fdsn.mass_downloader - INFO: ============================== Final report\n",
      "[2021-11-25 00:47:22,208] - obspy.clients.fdsn.mass_downloader - INFO: 0 MiniSEED files [0.0 MB] already existed.\n",
      "[2021-11-25 00:47:22,209] - obspy.clients.fdsn.mass_downloader - INFO: 1 StationXML files [0.0 MB] already existed.\n",
      "[2021-11-25 00:47:22,209] - obspy.clients.fdsn.mass_downloader - INFO: Client 'GEONET' - Acquired 1 MiniSEED files [0.0 MB].\n",
      "[2021-11-25 00:47:22,210] - obspy.clients.fdsn.mass_downloader - INFO: Client 'GEONET' - Acquired 0 StationXML files [0.0 MB].\n",
      "[2021-11-25 00:47:22,210] - obspy.clients.fdsn.mass_downloader - INFO: Downloaded 0.0 MB in total.\n",
      "[2021-11-25 00:47:22,220] - obspy.clients.fdsn.mass_downloader - INFO: Initializing FDSN client(s) for GEONET.\n",
      "[2021-11-25 00:47:22,229] - obspy.clients.fdsn.mass_downloader - INFO: Successfully initialized 1 client(s): GEONET.\n",
      "[2021-11-25 00:47:22,234] - obspy.clients.fdsn.mass_downloader - INFO: Total acquired or preexisting stations: 0\n",
      "[2021-11-25 00:47:22,235] - obspy.clients.fdsn.mass_downloader - INFO: Client 'GEONET' - Requesting unreliable availability.\n"
     ]
    },
    {
     "name": "stdout",
     "output_type": "stream",
     "text": [
      "=================================================================\n",
      "Initiating mass download request.\n"
     ]
    },
    {
     "name": "stderr",
     "output_type": "stream",
     "text": [
      "[2021-11-25 00:47:22,844] - obspy.clients.fdsn.mass_downloader - INFO: Client 'GEONET' - Successfully requested availability (0.61 seconds)\n",
      "[2021-11-25 00:47:22,850] - obspy.clients.fdsn.mass_downloader - INFO: Client 'GEONET' - Found 1 stations (1 channels).\n",
      "[2021-11-25 00:47:22,851] - obspy.clients.fdsn.mass_downloader - INFO: Client 'GEONET' - Will attempt to download data from 1 stations.\n",
      "[2021-11-25 00:47:22,852] - obspy.clients.fdsn.mass_downloader - INFO: Client 'GEONET' - Status for 1 time intervals/channels before downloading: NEEDS_DOWNLOADING\n",
      "[2021-11-25 00:47:23,766] - obspy.clients.fdsn.mass_downloader - INFO: Client 'GEONET' - Successfully downloaded 1 channels (of 1)\n",
      "[2021-11-25 00:47:23,772] - obspy.clients.fdsn.mass_downloader - INFO: Client 'GEONET' - Launching basic QC checks...\n",
      "[2021-11-25 00:47:23,785] - obspy.clients.fdsn.mass_downloader - INFO: Client 'GEONET' - Downloaded 0.0 MB [4.39 KB/sec] of data, 0.0 MB of which were discarded afterwards.\n",
      "[2021-11-25 00:47:23,786] - obspy.clients.fdsn.mass_downloader - INFO: Client 'GEONET' - Status for 1 time intervals/channels after downloading: DOWNLOADED\n",
      "[2021-11-25 00:47:23,788] - obspy.clients.fdsn.mass_downloader - INFO: Client 'GEONET' - No station information to download.\n",
      "[2021-11-25 00:47:23,789] - obspy.clients.fdsn.mass_downloader - INFO: ============================== Final report\n",
      "[2021-11-25 00:47:23,789] - obspy.clients.fdsn.mass_downloader - INFO: 0 MiniSEED files [0.0 MB] already existed.\n",
      "[2021-11-25 00:47:23,789] - obspy.clients.fdsn.mass_downloader - INFO: 1 StationXML files [0.0 MB] already existed.\n",
      "[2021-11-25 00:47:23,790] - obspy.clients.fdsn.mass_downloader - INFO: Client 'GEONET' - Acquired 1 MiniSEED files [0.0 MB].\n",
      "[2021-11-25 00:47:23,791] - obspy.clients.fdsn.mass_downloader - INFO: Client 'GEONET' - Acquired 0 StationXML files [0.0 MB].\n",
      "[2021-11-25 00:47:23,791] - obspy.clients.fdsn.mass_downloader - INFO: Downloaded 0.0 MB in total.\n",
      "[2021-11-25 00:47:23,795] - obspy.clients.fdsn.mass_downloader - INFO: Initializing FDSN client(s) for GEONET.\n",
      "[2021-11-25 00:47:23,809] - obspy.clients.fdsn.mass_downloader - INFO: Successfully initialized 1 client(s): GEONET.\n",
      "[2021-11-25 00:47:23,810] - obspy.clients.fdsn.mass_downloader - INFO: Total acquired or preexisting stations: 0\n",
      "[2021-11-25 00:47:23,810] - obspy.clients.fdsn.mass_downloader - INFO: Client 'GEONET' - Requesting unreliable availability.\n"
     ]
    },
    {
     "name": "stdout",
     "output_type": "stream",
     "text": [
      "=================================================================\n",
      "Initiating mass download request.\n"
     ]
    },
    {
     "name": "stderr",
     "output_type": "stream",
     "text": [
      "[2021-11-25 00:47:24,439] - obspy.clients.fdsn.mass_downloader - INFO: Client 'GEONET' - Successfully requested availability (0.63 seconds)\n",
      "[2021-11-25 00:47:24,444] - obspy.clients.fdsn.mass_downloader - INFO: Client 'GEONET' - Found 1 stations (1 channels).\n",
      "[2021-11-25 00:47:24,447] - obspy.clients.fdsn.mass_downloader - INFO: Client 'GEONET' - Will attempt to download data from 1 stations.\n",
      "[2021-11-25 00:47:24,448] - obspy.clients.fdsn.mass_downloader - INFO: Client 'GEONET' - Status for 1 time intervals/channels before downloading: NEEDS_DOWNLOADING\n",
      "[2021-11-25 00:47:25,322] - obspy.clients.fdsn.mass_downloader - INFO: Client 'GEONET' - Successfully downloaded 1 channels (of 1)\n",
      "[2021-11-25 00:47:25,331] - obspy.clients.fdsn.mass_downloader - INFO: Client 'GEONET' - Launching basic QC checks...\n",
      "[2021-11-25 00:47:25,343] - obspy.clients.fdsn.mass_downloader - INFO: Client 'GEONET' - Downloaded 0.0 MB [5.10 KB/sec] of data, 0.0 MB of which were discarded afterwards.\n",
      "[2021-11-25 00:47:25,350] - obspy.clients.fdsn.mass_downloader - INFO: Client 'GEONET' - Status for 1 time intervals/channels after downloading: DOWNLOADED\n",
      "[2021-11-25 00:47:25,366] - obspy.clients.fdsn.mass_downloader - INFO: Client 'GEONET' - No station information to download.\n",
      "[2021-11-25 00:47:25,368] - obspy.clients.fdsn.mass_downloader - INFO: ============================== Final report\n",
      "[2021-11-25 00:47:25,369] - obspy.clients.fdsn.mass_downloader - INFO: 0 MiniSEED files [0.0 MB] already existed.\n",
      "[2021-11-25 00:47:25,370] - obspy.clients.fdsn.mass_downloader - INFO: 1 StationXML files [0.0 MB] already existed.\n",
      "[2021-11-25 00:47:25,371] - obspy.clients.fdsn.mass_downloader - INFO: Client 'GEONET' - Acquired 1 MiniSEED files [0.0 MB].\n",
      "[2021-11-25 00:47:25,371] - obspy.clients.fdsn.mass_downloader - INFO: Client 'GEONET' - Acquired 0 StationXML files [0.0 MB].\n",
      "[2021-11-25 00:47:25,372] - obspy.clients.fdsn.mass_downloader - INFO: Downloaded 0.0 MB in total.\n",
      "[2021-11-25 00:47:25,380] - obspy.clients.fdsn.mass_downloader - INFO: Initializing FDSN client(s) for GEONET.\n",
      "[2021-11-25 00:47:25,390] - obspy.clients.fdsn.mass_downloader - INFO: Successfully initialized 1 client(s): GEONET.\n",
      "[2021-11-25 00:47:25,394] - obspy.clients.fdsn.mass_downloader - INFO: Total acquired or preexisting stations: 0\n",
      "[2021-11-25 00:47:25,395] - obspy.clients.fdsn.mass_downloader - INFO: Client 'GEONET' - Requesting unreliable availability.\n"
     ]
    },
    {
     "name": "stdout",
     "output_type": "stream",
     "text": [
      "=================================================================\n",
      "Initiating mass download request.\n"
     ]
    },
    {
     "name": "stderr",
     "output_type": "stream",
     "text": [
      "[2021-11-25 00:47:25,950] - obspy.clients.fdsn.mass_downloader - INFO: Client 'GEONET' - Successfully requested availability (0.55 seconds)\n",
      "[2021-11-25 00:47:25,964] - obspy.clients.fdsn.mass_downloader - INFO: Client 'GEONET' - Found 1 stations (1 channels).\n",
      "[2021-11-25 00:47:25,967] - obspy.clients.fdsn.mass_downloader - INFO: Client 'GEONET' - Will attempt to download data from 1 stations.\n",
      "[2021-11-25 00:47:25,971] - obspy.clients.fdsn.mass_downloader - INFO: Client 'GEONET' - Status for 1 time intervals/channels before downloading: NEEDS_DOWNLOADING\n",
      "[2021-11-25 00:47:26,902] - obspy.clients.fdsn.mass_downloader - INFO: Client 'GEONET' - Successfully downloaded 1 channels (of 1)\n",
      "[2021-11-25 00:47:26,915] - obspy.clients.fdsn.mass_downloader - INFO: Client 'GEONET' - Launching basic QC checks...\n",
      "[2021-11-25 00:47:26,941] - obspy.clients.fdsn.mass_downloader - INFO: Client 'GEONET' - Downloaded 0.0 MB [4.84 KB/sec] of data, 0.0 MB of which were discarded afterwards.\n",
      "[2021-11-25 00:47:26,943] - obspy.clients.fdsn.mass_downloader - INFO: Client 'GEONET' - Status for 1 time intervals/channels after downloading: DOWNLOADED\n",
      "[2021-11-25 00:47:26,952] - obspy.clients.fdsn.mass_downloader - INFO: Client 'GEONET' - No station information to download.\n",
      "[2021-11-25 00:47:26,954] - obspy.clients.fdsn.mass_downloader - INFO: ============================== Final report\n",
      "[2021-11-25 00:47:26,955] - obspy.clients.fdsn.mass_downloader - INFO: 0 MiniSEED files [0.0 MB] already existed.\n",
      "[2021-11-25 00:47:26,955] - obspy.clients.fdsn.mass_downloader - INFO: 1 StationXML files [0.0 MB] already existed.\n",
      "[2021-11-25 00:47:26,956] - obspy.clients.fdsn.mass_downloader - INFO: Client 'GEONET' - Acquired 1 MiniSEED files [0.0 MB].\n",
      "[2021-11-25 00:47:26,956] - obspy.clients.fdsn.mass_downloader - INFO: Client 'GEONET' - Acquired 0 StationXML files [0.0 MB].\n",
      "[2021-11-25 00:47:26,958] - obspy.clients.fdsn.mass_downloader - INFO: Downloaded 0.0 MB in total.\n",
      "[2021-11-25 00:47:26,970] - obspy.clients.fdsn.mass_downloader - INFO: Initializing FDSN client(s) for GEONET.\n",
      "[2021-11-25 00:47:26,992] - obspy.clients.fdsn.mass_downloader - INFO: Successfully initialized 1 client(s): GEONET.\n",
      "[2021-11-25 00:47:26,997] - obspy.clients.fdsn.mass_downloader - INFO: Total acquired or preexisting stations: 0\n",
      "[2021-11-25 00:47:26,999] - obspy.clients.fdsn.mass_downloader - INFO: Client 'GEONET' - Requesting unreliable availability.\n"
     ]
    },
    {
     "name": "stdout",
     "output_type": "stream",
     "text": [
      "=================================================================\n",
      "Initiating mass download request.\n"
     ]
    },
    {
     "name": "stderr",
     "output_type": "stream",
     "text": [
      "[2021-11-25 00:47:28,315] - obspy.clients.fdsn.mass_downloader - INFO: Client 'GEONET' - Successfully requested availability (1.32 seconds)\n",
      "[2021-11-25 00:47:28,325] - obspy.clients.fdsn.mass_downloader - INFO: Client 'GEONET' - Found 1 stations (1 channels).\n",
      "[2021-11-25 00:47:28,326] - obspy.clients.fdsn.mass_downloader - INFO: Client 'GEONET' - Will attempt to download data from 1 stations.\n",
      "[2021-11-25 00:47:28,329] - obspy.clients.fdsn.mass_downloader - INFO: Client 'GEONET' - Status for 1 time intervals/channels before downloading: NEEDS_DOWNLOADING\n",
      "[2021-11-25 00:47:29,337] - obspy.clients.fdsn.mass_downloader - INFO: Client 'GEONET' - Successfully downloaded 1 channels (of 1)\n",
      "[2021-11-25 00:47:29,349] - obspy.clients.fdsn.mass_downloader - INFO: Client 'GEONET' - Launching basic QC checks...\n",
      "[2021-11-25 00:47:29,382] - obspy.clients.fdsn.mass_downloader - INFO: Client 'GEONET' - Downloaded 0.0 MB [3.95 KB/sec] of data, 0.0 MB of which were discarded afterwards.\n",
      "[2021-11-25 00:47:29,383] - obspy.clients.fdsn.mass_downloader - INFO: Client 'GEONET' - Status for 1 time intervals/channels after downloading: DOWNLOADED\n",
      "[2021-11-25 00:47:29,397] - obspy.clients.fdsn.mass_downloader - INFO: Client 'GEONET' - No station information to download.\n",
      "[2021-11-25 00:47:29,403] - obspy.clients.fdsn.mass_downloader - INFO: ============================== Final report\n",
      "[2021-11-25 00:47:29,412] - obspy.clients.fdsn.mass_downloader - INFO: 0 MiniSEED files [0.0 MB] already existed.\n",
      "[2021-11-25 00:47:29,414] - obspy.clients.fdsn.mass_downloader - INFO: 1 StationXML files [0.0 MB] already existed.\n",
      "[2021-11-25 00:47:29,416] - obspy.clients.fdsn.mass_downloader - INFO: Client 'GEONET' - Acquired 1 MiniSEED files [0.0 MB].\n",
      "[2021-11-25 00:47:29,419] - obspy.clients.fdsn.mass_downloader - INFO: Client 'GEONET' - Acquired 0 StationXML files [0.0 MB].\n",
      "[2021-11-25 00:47:29,421] - obspy.clients.fdsn.mass_downloader - INFO: Downloaded 0.0 MB in total.\n",
      "[2021-11-25 00:47:29,435] - obspy.clients.fdsn.mass_downloader - INFO: Initializing FDSN client(s) for GEONET.\n",
      "[2021-11-25 00:47:29,450] - obspy.clients.fdsn.mass_downloader - INFO: Successfully initialized 1 client(s): GEONET.\n",
      "[2021-11-25 00:47:29,456] - obspy.clients.fdsn.mass_downloader - INFO: Total acquired or preexisting stations: 0\n",
      "[2021-11-25 00:47:29,458] - obspy.clients.fdsn.mass_downloader - INFO: Client 'GEONET' - Requesting unreliable availability.\n"
     ]
    },
    {
     "name": "stdout",
     "output_type": "stream",
     "text": [
      "=================================================================\n",
      "Initiating mass download request.\n"
     ]
    },
    {
     "name": "stderr",
     "output_type": "stream",
     "text": [
      "[2021-11-25 00:47:30,128] - obspy.clients.fdsn.mass_downloader - INFO: Client 'GEONET' - Successfully requested availability (0.67 seconds)\n",
      "[2021-11-25 00:47:30,166] - obspy.clients.fdsn.mass_downloader - INFO: Client 'GEONET' - Found 1 stations (1 channels).\n",
      "[2021-11-25 00:47:30,172] - obspy.clients.fdsn.mass_downloader - INFO: Client 'GEONET' - Will attempt to download data from 1 stations.\n",
      "[2021-11-25 00:47:30,194] - obspy.clients.fdsn.mass_downloader - INFO: Client 'GEONET' - Status for 1 time intervals/channels before downloading: NEEDS_DOWNLOADING\n",
      "[2021-11-25 00:47:31,247] - obspy.clients.fdsn.mass_downloader - INFO: Client 'GEONET' - Successfully downloaded 1 channels (of 1)\n",
      "[2021-11-25 00:47:31,255] - obspy.clients.fdsn.mass_downloader - INFO: Client 'GEONET' - Launching basic QC checks...\n",
      "[2021-11-25 00:47:31,268] - obspy.clients.fdsn.mass_downloader - INFO: Client 'GEONET' - Downloaded 0.0 MB [5.33 KB/sec] of data, 0.0 MB of which were discarded afterwards.\n",
      "[2021-11-25 00:47:31,269] - obspy.clients.fdsn.mass_downloader - INFO: Client 'GEONET' - Status for 1 time intervals/channels after downloading: DOWNLOADED\n",
      "[2021-11-25 00:47:31,273] - obspy.clients.fdsn.mass_downloader - INFO: Client 'GEONET' - No station information to download.\n",
      "[2021-11-25 00:47:31,274] - obspy.clients.fdsn.mass_downloader - INFO: ============================== Final report\n",
      "[2021-11-25 00:47:31,274] - obspy.clients.fdsn.mass_downloader - INFO: 0 MiniSEED files [0.0 MB] already existed.\n",
      "[2021-11-25 00:47:31,275] - obspy.clients.fdsn.mass_downloader - INFO: 1 StationXML files [0.0 MB] already existed.\n",
      "[2021-11-25 00:47:31,276] - obspy.clients.fdsn.mass_downloader - INFO: Client 'GEONET' - Acquired 1 MiniSEED files [0.0 MB].\n",
      "[2021-11-25 00:47:31,276] - obspy.clients.fdsn.mass_downloader - INFO: Client 'GEONET' - Acquired 0 StationXML files [0.0 MB].\n",
      "[2021-11-25 00:47:31,276] - obspy.clients.fdsn.mass_downloader - INFO: Downloaded 0.0 MB in total.\n",
      "[2021-11-25 00:47:31,283] - obspy.clients.fdsn.mass_downloader - INFO: Initializing FDSN client(s) for GEONET.\n",
      "[2021-11-25 00:47:31,288] - obspy.clients.fdsn.mass_downloader - INFO: Successfully initialized 1 client(s): GEONET.\n",
      "[2021-11-25 00:47:31,290] - obspy.clients.fdsn.mass_downloader - INFO: Total acquired or preexisting stations: 0\n",
      "[2021-11-25 00:47:31,290] - obspy.clients.fdsn.mass_downloader - INFO: Client 'GEONET' - Requesting unreliable availability.\n"
     ]
    },
    {
     "name": "stdout",
     "output_type": "stream",
     "text": [
      "=================================================================\n",
      "Initiating mass download request.\n"
     ]
    },
    {
     "name": "stderr",
     "output_type": "stream",
     "text": [
      "[2021-11-25 00:47:31,958] - obspy.clients.fdsn.mass_downloader - INFO: Client 'GEONET' - Successfully requested availability (0.67 seconds)\n",
      "[2021-11-25 00:47:31,959] - obspy.clients.fdsn.mass_downloader - INFO: Client 'GEONET' - Found 1 stations (1 channels).\n",
      "[2021-11-25 00:47:31,960] - obspy.clients.fdsn.mass_downloader - INFO: Client 'GEONET' - Will attempt to download data from 1 stations.\n",
      "[2021-11-25 00:47:31,960] - obspy.clients.fdsn.mass_downloader - INFO: Client 'GEONET' - Status for 1 time intervals/channels before downloading: NEEDS_DOWNLOADING\n",
      "[2021-11-25 00:47:32,831] - obspy.clients.fdsn.mass_downloader - INFO: Client 'GEONET' - Successfully downloaded 1 channels (of 1)\n",
      "[2021-11-25 00:47:32,834] - obspy.clients.fdsn.mass_downloader - INFO: Client 'GEONET' - Launching basic QC checks...\n",
      "[2021-11-25 00:47:32,837] - obspy.clients.fdsn.mass_downloader - INFO: Client 'GEONET' - Downloaded 0.0 MB [4.59 KB/sec] of data, 0.0 MB of which were discarded afterwards.\n",
      "[2021-11-25 00:47:32,838] - obspy.clients.fdsn.mass_downloader - INFO: Client 'GEONET' - Status for 1 time intervals/channels after downloading: DOWNLOADED\n",
      "[2021-11-25 00:47:32,839] - obspy.clients.fdsn.mass_downloader - INFO: Client 'GEONET' - No station information to download.\n",
      "[2021-11-25 00:47:32,840] - obspy.clients.fdsn.mass_downloader - INFO: ============================== Final report\n",
      "[2021-11-25 00:47:32,840] - obspy.clients.fdsn.mass_downloader - INFO: 0 MiniSEED files [0.0 MB] already existed.\n",
      "[2021-11-25 00:47:32,840] - obspy.clients.fdsn.mass_downloader - INFO: 1 StationXML files [0.0 MB] already existed.\n",
      "[2021-11-25 00:47:32,841] - obspy.clients.fdsn.mass_downloader - INFO: Client 'GEONET' - Acquired 1 MiniSEED files [0.0 MB].\n",
      "[2021-11-25 00:47:32,841] - obspy.clients.fdsn.mass_downloader - INFO: Client 'GEONET' - Acquired 0 StationXML files [0.0 MB].\n",
      "[2021-11-25 00:47:32,841] - obspy.clients.fdsn.mass_downloader - INFO: Downloaded 0.0 MB in total.\n",
      "[2021-11-25 00:47:32,846] - obspy.clients.fdsn.mass_downloader - INFO: Initializing FDSN client(s) for GEONET.\n",
      "[2021-11-25 00:47:32,849] - obspy.clients.fdsn.mass_downloader - INFO: Successfully initialized 1 client(s): GEONET.\n",
      "[2021-11-25 00:47:32,849] - obspy.clients.fdsn.mass_downloader - INFO: Total acquired or preexisting stations: 0\n",
      "[2021-11-25 00:47:32,850] - obspy.clients.fdsn.mass_downloader - INFO: Client 'GEONET' - Requesting unreliable availability.\n"
     ]
    },
    {
     "name": "stdout",
     "output_type": "stream",
     "text": [
      "=================================================================\n",
      "Initiating mass download request.\n"
     ]
    },
    {
     "name": "stderr",
     "output_type": "stream",
     "text": [
      "[2021-11-25 00:47:34,282] - obspy.clients.fdsn.mass_downloader - INFO: Client 'GEONET' - Successfully requested availability (1.43 seconds)\n",
      "[2021-11-25 00:47:34,288] - obspy.clients.fdsn.mass_downloader - INFO: Client 'GEONET' - Found 1 stations (1 channels).\n",
      "[2021-11-25 00:47:34,288] - obspy.clients.fdsn.mass_downloader - INFO: Client 'GEONET' - Will attempt to download data from 1 stations.\n",
      "[2021-11-25 00:47:34,289] - obspy.clients.fdsn.mass_downloader - INFO: Client 'GEONET' - Status for 1 time intervals/channels before downloading: NEEDS_DOWNLOADING\n",
      "[2021-11-25 00:47:35,276] - obspy.clients.fdsn.mass_downloader - INFO: Client 'GEONET' - Successfully downloaded 1 channels (of 1)\n",
      "[2021-11-25 00:47:35,288] - obspy.clients.fdsn.mass_downloader - INFO: Client 'GEONET' - Launching basic QC checks...\n",
      "[2021-11-25 00:47:35,303] - obspy.clients.fdsn.mass_downloader - INFO: Client 'GEONET' - Downloaded 0.0 MB [4.52 KB/sec] of data, 0.0 MB of which were discarded afterwards.\n",
      "[2021-11-25 00:47:35,308] - obspy.clients.fdsn.mass_downloader - INFO: Client 'GEONET' - Status for 1 time intervals/channels after downloading: DOWNLOADED\n",
      "[2021-11-25 00:47:35,311] - obspy.clients.fdsn.mass_downloader - INFO: Client 'GEONET' - No station information to download.\n",
      "[2021-11-25 00:47:35,313] - obspy.clients.fdsn.mass_downloader - INFO: ============================== Final report\n",
      "[2021-11-25 00:47:35,315] - obspy.clients.fdsn.mass_downloader - INFO: 0 MiniSEED files [0.0 MB] already existed.\n",
      "[2021-11-25 00:47:35,320] - obspy.clients.fdsn.mass_downloader - INFO: 1 StationXML files [0.0 MB] already existed.\n",
      "[2021-11-25 00:47:35,321] - obspy.clients.fdsn.mass_downloader - INFO: Client 'GEONET' - Acquired 1 MiniSEED files [0.0 MB].\n",
      "[2021-11-25 00:47:35,322] - obspy.clients.fdsn.mass_downloader - INFO: Client 'GEONET' - Acquired 0 StationXML files [0.0 MB].\n",
      "[2021-11-25 00:47:35,323] - obspy.clients.fdsn.mass_downloader - INFO: Downloaded 0.0 MB in total.\n",
      "[2021-11-25 00:47:35,331] - obspy.clients.fdsn.mass_downloader - INFO: Initializing FDSN client(s) for GEONET.\n",
      "[2021-11-25 00:47:35,338] - obspy.clients.fdsn.mass_downloader - INFO: Successfully initialized 1 client(s): GEONET.\n",
      "[2021-11-25 00:47:35,340] - obspy.clients.fdsn.mass_downloader - INFO: Total acquired or preexisting stations: 0\n",
      "[2021-11-25 00:47:35,341] - obspy.clients.fdsn.mass_downloader - INFO: Client 'GEONET' - Requesting unreliable availability.\n"
     ]
    },
    {
     "name": "stdout",
     "output_type": "stream",
     "text": [
      "=================================================================\n",
      "Initiating mass download request.\n"
     ]
    },
    {
     "name": "stderr",
     "output_type": "stream",
     "text": [
      "[2021-11-25 00:47:35,875] - obspy.clients.fdsn.mass_downloader - INFO: Client 'GEONET' - Successfully requested availability (0.53 seconds)\n",
      "[2021-11-25 00:47:35,879] - obspy.clients.fdsn.mass_downloader - INFO: Client 'GEONET' - Found 1 stations (1 channels).\n",
      "[2021-11-25 00:47:35,879] - obspy.clients.fdsn.mass_downloader - INFO: Client 'GEONET' - Will attempt to download data from 1 stations.\n",
      "[2021-11-25 00:47:35,881] - obspy.clients.fdsn.mass_downloader - INFO: Client 'GEONET' - Status for 1 time intervals/channels before downloading: NEEDS_DOWNLOADING\n",
      "[2021-11-25 00:47:36,735] - obspy.clients.fdsn.mass_downloader - INFO: Client 'GEONET' - Successfully downloaded 1 channels (of 1)\n",
      "[2021-11-25 00:47:36,740] - obspy.clients.fdsn.mass_downloader - INFO: Client 'GEONET' - Launching basic QC checks...\n",
      "[2021-11-25 00:47:36,756] - obspy.clients.fdsn.mass_downloader - INFO: Client 'GEONET' - Downloaded 0.0 MB [2.92 KB/sec] of data, 0.0 MB of which were discarded afterwards.\n",
      "[2021-11-25 00:47:36,757] - obspy.clients.fdsn.mass_downloader - INFO: Client 'GEONET' - Status for 1 time intervals/channels after downloading: DOWNLOADED\n",
      "[2021-11-25 00:47:36,764] - obspy.clients.fdsn.mass_downloader - INFO: Client 'GEONET' - No station information to download.\n",
      "[2021-11-25 00:47:36,767] - obspy.clients.fdsn.mass_downloader - INFO: ============================== Final report\n",
      "[2021-11-25 00:47:36,768] - obspy.clients.fdsn.mass_downloader - INFO: 0 MiniSEED files [0.0 MB] already existed.\n",
      "[2021-11-25 00:47:36,769] - obspy.clients.fdsn.mass_downloader - INFO: 1 StationXML files [0.0 MB] already existed.\n",
      "[2021-11-25 00:47:36,770] - obspy.clients.fdsn.mass_downloader - INFO: Client 'GEONET' - Acquired 1 MiniSEED files [0.0 MB].\n",
      "[2021-11-25 00:47:36,770] - obspy.clients.fdsn.mass_downloader - INFO: Client 'GEONET' - Acquired 0 StationXML files [0.0 MB].\n",
      "[2021-11-25 00:47:36,770] - obspy.clients.fdsn.mass_downloader - INFO: Downloaded 0.0 MB in total.\n",
      "[2021-11-25 00:47:36,777] - obspy.clients.fdsn.mass_downloader - INFO: Initializing FDSN client(s) for GEONET.\n",
      "[2021-11-25 00:47:36,785] - obspy.clients.fdsn.mass_downloader - INFO: Successfully initialized 1 client(s): GEONET.\n",
      "[2021-11-25 00:47:36,786] - obspy.clients.fdsn.mass_downloader - INFO: Total acquired or preexisting stations: 0\n",
      "[2021-11-25 00:47:36,786] - obspy.clients.fdsn.mass_downloader - INFO: Client 'GEONET' - Requesting unreliable availability.\n"
     ]
    },
    {
     "name": "stdout",
     "output_type": "stream",
     "text": [
      "=================================================================\n",
      "Initiating mass download request.\n"
     ]
    },
    {
     "name": "stderr",
     "output_type": "stream",
     "text": [
      "[2021-11-25 00:47:37,350] - obspy.clients.fdsn.mass_downloader - INFO: Client 'GEONET' - Successfully requested availability (0.56 seconds)\n",
      "[2021-11-25 00:47:37,350] - obspy.clients.fdsn.mass_downloader - INFO: Client 'GEONET' - Found 1 stations (1 channels).\n",
      "[2021-11-25 00:47:37,351] - obspy.clients.fdsn.mass_downloader - INFO: Client 'GEONET' - Will attempt to download data from 1 stations.\n",
      "[2021-11-25 00:47:37,351] - obspy.clients.fdsn.mass_downloader - INFO: Client 'GEONET' - Status for 1 time intervals/channels before downloading: NEEDS_DOWNLOADING\n",
      "[2021-11-25 00:47:38,339] - obspy.clients.fdsn.mass_downloader - INFO: Client 'GEONET' - Successfully downloaded 1 channels (of 1)\n",
      "[2021-11-25 00:47:38,360] - obspy.clients.fdsn.mass_downloader - INFO: Client 'GEONET' - Launching basic QC checks...\n",
      "[2021-11-25 00:47:38,380] - obspy.clients.fdsn.mass_downloader - INFO: Client 'GEONET' - Downloaded 0.0 MB [4.47 KB/sec] of data, 0.0 MB of which were discarded afterwards.\n",
      "[2021-11-25 00:47:38,381] - obspy.clients.fdsn.mass_downloader - INFO: Client 'GEONET' - Status for 1 time intervals/channels after downloading: DOWNLOADED\n",
      "[2021-11-25 00:47:38,386] - obspy.clients.fdsn.mass_downloader - INFO: Client 'GEONET' - No station information to download.\n",
      "[2021-11-25 00:47:38,389] - obspy.clients.fdsn.mass_downloader - INFO: ============================== Final report\n",
      "[2021-11-25 00:47:38,392] - obspy.clients.fdsn.mass_downloader - INFO: 0 MiniSEED files [0.0 MB] already existed.\n",
      "[2021-11-25 00:47:38,395] - obspy.clients.fdsn.mass_downloader - INFO: 1 StationXML files [0.0 MB] already existed.\n",
      "[2021-11-25 00:47:38,396] - obspy.clients.fdsn.mass_downloader - INFO: Client 'GEONET' - Acquired 1 MiniSEED files [0.0 MB].\n",
      "[2021-11-25 00:47:38,397] - obspy.clients.fdsn.mass_downloader - INFO: Client 'GEONET' - Acquired 0 StationXML files [0.0 MB].\n",
      "[2021-11-25 00:47:38,398] - obspy.clients.fdsn.mass_downloader - INFO: Downloaded 0.0 MB in total.\n",
      "[2021-11-25 00:47:38,402] - obspy.clients.fdsn.mass_downloader - INFO: Initializing FDSN client(s) for GEONET.\n",
      "[2021-11-25 00:47:38,411] - obspy.clients.fdsn.mass_downloader - INFO: Successfully initialized 1 client(s): GEONET.\n",
      "[2021-11-25 00:47:38,412] - obspy.clients.fdsn.mass_downloader - INFO: Total acquired or preexisting stations: 0\n",
      "[2021-11-25 00:47:38,413] - obspy.clients.fdsn.mass_downloader - INFO: Client 'GEONET' - Requesting unreliable availability.\n"
     ]
    },
    {
     "name": "stdout",
     "output_type": "stream",
     "text": [
      "=================================================================\n",
      "Initiating mass download request.\n"
     ]
    },
    {
     "name": "stderr",
     "output_type": "stream",
     "text": [
      "[2021-11-25 00:47:38,962] - obspy.clients.fdsn.mass_downloader - INFO: Client 'GEONET' - Successfully requested availability (0.55 seconds)\n",
      "[2021-11-25 00:47:38,964] - obspy.clients.fdsn.mass_downloader - INFO: Client 'GEONET' - Found 1 stations (1 channels).\n",
      "[2021-11-25 00:47:38,968] - obspy.clients.fdsn.mass_downloader - INFO: Client 'GEONET' - Will attempt to download data from 1 stations.\n",
      "[2021-11-25 00:47:38,971] - obspy.clients.fdsn.mass_downloader - INFO: Client 'GEONET' - Status for 1 time intervals/channels before downloading: NEEDS_DOWNLOADING\n",
      "[2021-11-25 00:47:40,116] - obspy.clients.fdsn.mass_downloader - INFO: Client 'GEONET' - Successfully downloaded 1 channels (of 1)\n",
      "[2021-11-25 00:47:40,127] - obspy.clients.fdsn.mass_downloader - INFO: Client 'GEONET' - Launching basic QC checks...\n",
      "[2021-11-25 00:47:40,140] - obspy.clients.fdsn.mass_downloader - INFO: Client 'GEONET' - Downloaded 0.0 MB [3.93 KB/sec] of data, 0.0 MB of which were discarded afterwards.\n",
      "[2021-11-25 00:47:40,143] - obspy.clients.fdsn.mass_downloader - INFO: Client 'GEONET' - Status for 1 time intervals/channels after downloading: DOWNLOADED\n",
      "[2021-11-25 00:47:40,147] - obspy.clients.fdsn.mass_downloader - INFO: Client 'GEONET' - No station information to download.\n",
      "[2021-11-25 00:47:40,154] - obspy.clients.fdsn.mass_downloader - INFO: ============================== Final report\n",
      "[2021-11-25 00:47:40,155] - obspy.clients.fdsn.mass_downloader - INFO: 0 MiniSEED files [0.0 MB] already existed.\n",
      "[2021-11-25 00:47:40,156] - obspy.clients.fdsn.mass_downloader - INFO: 1 StationXML files [0.0 MB] already existed.\n",
      "[2021-11-25 00:47:40,156] - obspy.clients.fdsn.mass_downloader - INFO: Client 'GEONET' - Acquired 1 MiniSEED files [0.0 MB].\n",
      "[2021-11-25 00:47:40,157] - obspy.clients.fdsn.mass_downloader - INFO: Client 'GEONET' - Acquired 0 StationXML files [0.0 MB].\n",
      "[2021-11-25 00:47:40,159] - obspy.clients.fdsn.mass_downloader - INFO: Downloaded 0.0 MB in total.\n",
      "[2021-11-25 00:47:40,165] - obspy.clients.fdsn.mass_downloader - INFO: Initializing FDSN client(s) for GEONET.\n",
      "[2021-11-25 00:47:40,170] - obspy.clients.fdsn.mass_downloader - INFO: Successfully initialized 1 client(s): GEONET.\n",
      "[2021-11-25 00:47:40,171] - obspy.clients.fdsn.mass_downloader - INFO: Total acquired or preexisting stations: 0\n",
      "[2021-11-25 00:47:40,172] - obspy.clients.fdsn.mass_downloader - INFO: Client 'GEONET' - Requesting unreliable availability.\n"
     ]
    },
    {
     "name": "stdout",
     "output_type": "stream",
     "text": [
      "=================================================================\n",
      "Initiating mass download request.\n"
     ]
    },
    {
     "name": "stderr",
     "output_type": "stream",
     "text": [
      "[2021-11-25 00:47:40,795] - obspy.clients.fdsn.mass_downloader - INFO: Client 'GEONET' - Successfully requested availability (0.62 seconds)\n",
      "[2021-11-25 00:47:40,803] - obspy.clients.fdsn.mass_downloader - INFO: Client 'GEONET' - Found 1 stations (1 channels).\n",
      "[2021-11-25 00:47:40,805] - obspy.clients.fdsn.mass_downloader - INFO: Client 'GEONET' - Will attempt to download data from 1 stations.\n",
      "[2021-11-25 00:47:40,810] - obspy.clients.fdsn.mass_downloader - INFO: Client 'GEONET' - Status for 1 time intervals/channels before downloading: NEEDS_DOWNLOADING\n",
      "[2021-11-25 00:47:41,695] - obspy.clients.fdsn.mass_downloader - INFO: Client 'GEONET' - Successfully downloaded 1 channels (of 1)\n",
      "[2021-11-25 00:47:41,713] - obspy.clients.fdsn.mass_downloader - INFO: Client 'GEONET' - Launching basic QC checks...\n",
      "[2021-11-25 00:47:41,730] - obspy.clients.fdsn.mass_downloader - INFO: Client 'GEONET' - Downloaded 0.0 MB [4.48 KB/sec] of data, 0.0 MB of which were discarded afterwards.\n",
      "[2021-11-25 00:47:41,731] - obspy.clients.fdsn.mass_downloader - INFO: Client 'GEONET' - Status for 1 time intervals/channels after downloading: DOWNLOADED\n",
      "[2021-11-25 00:47:41,740] - obspy.clients.fdsn.mass_downloader - INFO: Client 'GEONET' - No station information to download.\n",
      "[2021-11-25 00:47:41,747] - obspy.clients.fdsn.mass_downloader - INFO: ============================== Final report\n",
      "[2021-11-25 00:47:41,750] - obspy.clients.fdsn.mass_downloader - INFO: 0 MiniSEED files [0.0 MB] already existed.\n",
      "[2021-11-25 00:47:41,754] - obspy.clients.fdsn.mass_downloader - INFO: 1 StationXML files [0.0 MB] already existed.\n",
      "[2021-11-25 00:47:41,758] - obspy.clients.fdsn.mass_downloader - INFO: Client 'GEONET' - Acquired 1 MiniSEED files [0.0 MB].\n",
      "[2021-11-25 00:47:41,760] - obspy.clients.fdsn.mass_downloader - INFO: Client 'GEONET' - Acquired 0 StationXML files [0.0 MB].\n",
      "[2021-11-25 00:47:41,761] - obspy.clients.fdsn.mass_downloader - INFO: Downloaded 0.0 MB in total.\n",
      "[2021-11-25 00:47:41,777] - obspy.clients.fdsn.mass_downloader - INFO: Initializing FDSN client(s) for GEONET.\n",
      "[2021-11-25 00:47:41,789] - obspy.clients.fdsn.mass_downloader - INFO: Successfully initialized 1 client(s): GEONET.\n",
      "[2021-11-25 00:47:41,790] - obspy.clients.fdsn.mass_downloader - INFO: Total acquired or preexisting stations: 0\n",
      "[2021-11-25 00:47:41,792] - obspy.clients.fdsn.mass_downloader - INFO: Client 'GEONET' - Requesting unreliable availability.\n"
     ]
    },
    {
     "name": "stdout",
     "output_type": "stream",
     "text": [
      "=================================================================\n",
      "Initiating mass download request.\n"
     ]
    },
    {
     "name": "stderr",
     "output_type": "stream",
     "text": [
      "[2021-11-25 00:47:42,340] - obspy.clients.fdsn.mass_downloader - INFO: Client 'GEONET' - Successfully requested availability (0.55 seconds)\n",
      "[2021-11-25 00:47:42,341] - obspy.clients.fdsn.mass_downloader - INFO: Client 'GEONET' - Found 1 stations (1 channels).\n",
      "[2021-11-25 00:47:42,342] - obspy.clients.fdsn.mass_downloader - INFO: Client 'GEONET' - Will attempt to download data from 1 stations.\n",
      "[2021-11-25 00:47:42,342] - obspy.clients.fdsn.mass_downloader - INFO: Client 'GEONET' - Status for 1 time intervals/channels before downloading: NEEDS_DOWNLOADING\n",
      "[2021-11-25 00:47:43,483] - obspy.clients.fdsn.mass_downloader - INFO: Client 'GEONET' - Successfully downloaded 1 channels (of 1)\n",
      "[2021-11-25 00:47:43,498] - obspy.clients.fdsn.mass_downloader - INFO: Client 'GEONET' - Launching basic QC checks...\n",
      "[2021-11-25 00:47:43,537] - obspy.clients.fdsn.mass_downloader - INFO: Client 'GEONET' - Downloaded 0.0 MB [4.76 KB/sec] of data, 0.0 MB of which were discarded afterwards.\n",
      "[2021-11-25 00:47:43,542] - obspy.clients.fdsn.mass_downloader - INFO: Client 'GEONET' - Status for 1 time intervals/channels after downloading: DOWNLOADED\n",
      "[2021-11-25 00:47:43,595] - obspy.clients.fdsn.mass_downloader - INFO: Client 'GEONET' - No station information to download.\n",
      "[2021-11-25 00:47:43,597] - obspy.clients.fdsn.mass_downloader - INFO: ============================== Final report\n",
      "[2021-11-25 00:47:43,602] - obspy.clients.fdsn.mass_downloader - INFO: 0 MiniSEED files [0.0 MB] already existed.\n",
      "[2021-11-25 00:47:43,605] - obspy.clients.fdsn.mass_downloader - INFO: 1 StationXML files [0.0 MB] already existed.\n",
      "[2021-11-25 00:47:43,609] - obspy.clients.fdsn.mass_downloader - INFO: Client 'GEONET' - Acquired 1 MiniSEED files [0.0 MB].\n",
      "[2021-11-25 00:47:43,611] - obspy.clients.fdsn.mass_downloader - INFO: Client 'GEONET' - Acquired 0 StationXML files [0.0 MB].\n",
      "[2021-11-25 00:47:43,612] - obspy.clients.fdsn.mass_downloader - INFO: Downloaded 0.0 MB in total.\n",
      "[2021-11-25 00:47:43,624] - obspy.clients.fdsn.mass_downloader - INFO: Initializing FDSN client(s) for GEONET.\n",
      "[2021-11-25 00:47:43,640] - obspy.clients.fdsn.mass_downloader - INFO: Successfully initialized 1 client(s): GEONET.\n",
      "[2021-11-25 00:47:43,641] - obspy.clients.fdsn.mass_downloader - INFO: Total acquired or preexisting stations: 0\n",
      "[2021-11-25 00:47:43,642] - obspy.clients.fdsn.mass_downloader - INFO: Client 'GEONET' - Requesting unreliable availability.\n"
     ]
    },
    {
     "name": "stdout",
     "output_type": "stream",
     "text": [
      "=================================================================\n",
      "Initiating mass download request.\n"
     ]
    },
    {
     "name": "stderr",
     "output_type": "stream",
     "text": [
      "[2021-11-25 00:47:44,314] - obspy.clients.fdsn.mass_downloader - INFO: Client 'GEONET' - Successfully requested availability (0.67 seconds)\n",
      "[2021-11-25 00:47:44,319] - obspy.clients.fdsn.mass_downloader - INFO: Client 'GEONET' - Found 1 stations (1 channels).\n",
      "[2021-11-25 00:47:44,320] - obspy.clients.fdsn.mass_downloader - INFO: Client 'GEONET' - Will attempt to download data from 1 stations.\n",
      "[2021-11-25 00:47:44,320] - obspy.clients.fdsn.mass_downloader - INFO: Client 'GEONET' - Status for 1 time intervals/channels before downloading: NEEDS_DOWNLOADING\n",
      "[2021-11-25 00:47:45,257] - obspy.clients.fdsn.mass_downloader - INFO: Client 'GEONET' - Successfully downloaded 1 channels (of 1)\n",
      "[2021-11-25 00:47:45,266] - obspy.clients.fdsn.mass_downloader - INFO: Client 'GEONET' - Launching basic QC checks...\n",
      "[2021-11-25 00:47:45,276] - obspy.clients.fdsn.mass_downloader - INFO: Client 'GEONET' - Downloaded 0.0 MB [3.71 KB/sec] of data, 0.0 MB of which were discarded afterwards.\n",
      "[2021-11-25 00:47:45,277] - obspy.clients.fdsn.mass_downloader - INFO: Client 'GEONET' - Status for 1 time intervals/channels after downloading: DOWNLOADED\n",
      "[2021-11-25 00:47:45,282] - obspy.clients.fdsn.mass_downloader - INFO: Client 'GEONET' - No station information to download.\n",
      "[2021-11-25 00:47:45,287] - obspy.clients.fdsn.mass_downloader - INFO: ============================== Final report\n",
      "[2021-11-25 00:47:45,287] - obspy.clients.fdsn.mass_downloader - INFO: 0 MiniSEED files [0.0 MB] already existed.\n",
      "[2021-11-25 00:47:45,288] - obspy.clients.fdsn.mass_downloader - INFO: 1 StationXML files [0.0 MB] already existed.\n",
      "[2021-11-25 00:47:45,289] - obspy.clients.fdsn.mass_downloader - INFO: Client 'GEONET' - Acquired 1 MiniSEED files [0.0 MB].\n",
      "[2021-11-25 00:47:45,290] - obspy.clients.fdsn.mass_downloader - INFO: Client 'GEONET' - Acquired 0 StationXML files [0.0 MB].\n",
      "[2021-11-25 00:47:45,290] - obspy.clients.fdsn.mass_downloader - INFO: Downloaded 0.0 MB in total.\n",
      "[2021-11-25 00:47:45,297] - obspy.clients.fdsn.mass_downloader - INFO: Initializing FDSN client(s) for GEONET.\n",
      "[2021-11-25 00:47:45,311] - obspy.clients.fdsn.mass_downloader - INFO: Successfully initialized 1 client(s): GEONET.\n",
      "[2021-11-25 00:47:45,312] - obspy.clients.fdsn.mass_downloader - INFO: Total acquired or preexisting stations: 0\n",
      "[2021-11-25 00:47:45,313] - obspy.clients.fdsn.mass_downloader - INFO: Client 'GEONET' - Requesting unreliable availability.\n"
     ]
    },
    {
     "name": "stdout",
     "output_type": "stream",
     "text": [
      "=================================================================\n",
      "Initiating mass download request.\n"
     ]
    },
    {
     "name": "stderr",
     "output_type": "stream",
     "text": [
      "[2021-11-25 00:47:45,956] - obspy.clients.fdsn.mass_downloader - INFO: Client 'GEONET' - Successfully requested availability (0.64 seconds)\n",
      "[2021-11-25 00:47:45,957] - obspy.clients.fdsn.mass_downloader - INFO: Client 'GEONET' - Found 1 stations (1 channels).\n",
      "[2021-11-25 00:47:45,958] - obspy.clients.fdsn.mass_downloader - INFO: Client 'GEONET' - Will attempt to download data from 1 stations.\n",
      "[2021-11-25 00:47:45,958] - obspy.clients.fdsn.mass_downloader - INFO: Client 'GEONET' - Status for 1 time intervals/channels before downloading: NEEDS_DOWNLOADING\n",
      "[2021-11-25 00:47:47,148] - obspy.clients.fdsn.mass_downloader - INFO: Client 'GEONET' - Successfully downloaded 1 channels (of 1)\n",
      "[2021-11-25 00:47:47,155] - obspy.clients.fdsn.mass_downloader - INFO: Client 'GEONET' - Launching basic QC checks...\n",
      "[2021-11-25 00:47:47,174] - obspy.clients.fdsn.mass_downloader - INFO: Client 'GEONET' - Downloaded 0.0 MB [6.28 KB/sec] of data, 0.0 MB of which were discarded afterwards.\n",
      "[2021-11-25 00:47:47,174] - obspy.clients.fdsn.mass_downloader - INFO: Client 'GEONET' - Status for 1 time intervals/channels after downloading: DOWNLOADED\n",
      "[2021-11-25 00:47:47,177] - obspy.clients.fdsn.mass_downloader - INFO: Client 'GEONET' - No station information to download.\n",
      "[2021-11-25 00:47:47,177] - obspy.clients.fdsn.mass_downloader - INFO: ============================== Final report\n",
      "[2021-11-25 00:47:47,178] - obspy.clients.fdsn.mass_downloader - INFO: 0 MiniSEED files [0.0 MB] already existed.\n",
      "[2021-11-25 00:47:47,178] - obspy.clients.fdsn.mass_downloader - INFO: 1 StationXML files [0.0 MB] already existed.\n",
      "[2021-11-25 00:47:47,178] - obspy.clients.fdsn.mass_downloader - INFO: Client 'GEONET' - Acquired 1 MiniSEED files [0.0 MB].\n",
      "[2021-11-25 00:47:47,179] - obspy.clients.fdsn.mass_downloader - INFO: Client 'GEONET' - Acquired 0 StationXML files [0.0 MB].\n",
      "[2021-11-25 00:47:47,179] - obspy.clients.fdsn.mass_downloader - INFO: Downloaded 0.0 MB in total.\n",
      "[2021-11-25 00:47:47,185] - obspy.clients.fdsn.mass_downloader - INFO: Initializing FDSN client(s) for GEONET.\n",
      "[2021-11-25 00:47:47,193] - obspy.clients.fdsn.mass_downloader - INFO: Successfully initialized 1 client(s): GEONET.\n",
      "[2021-11-25 00:47:47,194] - obspy.clients.fdsn.mass_downloader - INFO: Total acquired or preexisting stations: 0\n",
      "[2021-11-25 00:47:47,195] - obspy.clients.fdsn.mass_downloader - INFO: Client 'GEONET' - Requesting unreliable availability.\n"
     ]
    },
    {
     "name": "stdout",
     "output_type": "stream",
     "text": [
      "=================================================================\n",
      "Initiating mass download request.\n"
     ]
    },
    {
     "name": "stderr",
     "output_type": "stream",
     "text": [
      "[2021-11-25 00:47:47,748] - obspy.clients.fdsn.mass_downloader - INFO: Client 'GEONET' - Successfully requested availability (0.55 seconds)\n",
      "[2021-11-25 00:47:47,749] - obspy.clients.fdsn.mass_downloader - INFO: Client 'GEONET' - Found 1 stations (1 channels).\n",
      "[2021-11-25 00:47:47,749] - obspy.clients.fdsn.mass_downloader - INFO: Client 'GEONET' - Will attempt to download data from 1 stations.\n",
      "[2021-11-25 00:47:47,750] - obspy.clients.fdsn.mass_downloader - INFO: Client 'GEONET' - Status for 1 time intervals/channels before downloading: NEEDS_DOWNLOADING\n",
      "[2021-11-25 00:47:48,701] - obspy.clients.fdsn.mass_downloader - INFO: Client 'GEONET' - Successfully downloaded 1 channels (of 1)\n",
      "[2021-11-25 00:47:48,712] - obspy.clients.fdsn.mass_downloader - INFO: Client 'GEONET' - Launching basic QC checks...\n",
      "[2021-11-25 00:47:48,730] - obspy.clients.fdsn.mass_downloader - INFO: Client 'GEONET' - Downloaded 0.0 MB [3.64 KB/sec] of data, 0.0 MB of which were discarded afterwards.\n",
      "[2021-11-25 00:47:48,732] - obspy.clients.fdsn.mass_downloader - INFO: Client 'GEONET' - Status for 1 time intervals/channels after downloading: DOWNLOADED\n",
      "[2021-11-25 00:47:48,742] - obspy.clients.fdsn.mass_downloader - INFO: Client 'GEONET' - No station information to download.\n",
      "[2021-11-25 00:47:48,745] - obspy.clients.fdsn.mass_downloader - INFO: ============================== Final report\n",
      "[2021-11-25 00:47:48,746] - obspy.clients.fdsn.mass_downloader - INFO: 0 MiniSEED files [0.0 MB] already existed.\n",
      "[2021-11-25 00:47:48,747] - obspy.clients.fdsn.mass_downloader - INFO: 1 StationXML files [0.0 MB] already existed.\n",
      "[2021-11-25 00:47:48,748] - obspy.clients.fdsn.mass_downloader - INFO: Client 'GEONET' - Acquired 1 MiniSEED files [0.0 MB].\n",
      "[2021-11-25 00:47:48,748] - obspy.clients.fdsn.mass_downloader - INFO: Client 'GEONET' - Acquired 0 StationXML files [0.0 MB].\n",
      "[2021-11-25 00:47:48,752] - obspy.clients.fdsn.mass_downloader - INFO: Downloaded 0.0 MB in total.\n",
      "[2021-11-25 00:47:48,761] - obspy.clients.fdsn.mass_downloader - INFO: Initializing FDSN client(s) for GEONET.\n",
      "[2021-11-25 00:47:48,766] - obspy.clients.fdsn.mass_downloader - INFO: Successfully initialized 1 client(s): GEONET.\n",
      "[2021-11-25 00:47:48,767] - obspy.clients.fdsn.mass_downloader - INFO: Total acquired or preexisting stations: 0\n",
      "[2021-11-25 00:47:48,767] - obspy.clients.fdsn.mass_downloader - INFO: Client 'GEONET' - Requesting unreliable availability.\n"
     ]
    },
    {
     "name": "stdout",
     "output_type": "stream",
     "text": [
      "=================================================================\n",
      "Initiating mass download request.\n"
     ]
    },
    {
     "name": "stderr",
     "output_type": "stream",
     "text": [
      "[2021-11-25 00:47:49,346] - obspy.clients.fdsn.mass_downloader - INFO: Client 'GEONET' - Successfully requested availability (0.58 seconds)\n",
      "[2021-11-25 00:47:49,346] - obspy.clients.fdsn.mass_downloader - INFO: Client 'GEONET' - Found 1 stations (1 channels).\n",
      "[2021-11-25 00:47:49,347] - obspy.clients.fdsn.mass_downloader - INFO: Client 'GEONET' - Will attempt to download data from 1 stations.\n",
      "[2021-11-25 00:47:49,347] - obspy.clients.fdsn.mass_downloader - INFO: Client 'GEONET' - Status for 1 time intervals/channels before downloading: NEEDS_DOWNLOADING\n",
      "[2021-11-25 00:47:50,181] - obspy.clients.fdsn.mass_downloader - INFO: Client 'GEONET' - Successfully downloaded 1 channels (of 1)\n",
      "[2021-11-25 00:47:50,195] - obspy.clients.fdsn.mass_downloader - INFO: Client 'GEONET' - Launching basic QC checks...\n",
      "[2021-11-25 00:47:50,205] - obspy.clients.fdsn.mass_downloader - INFO: Client 'GEONET' - Downloaded 0.0 MB [4.14 KB/sec] of data, 0.0 MB of which were discarded afterwards.\n",
      "[2021-11-25 00:47:50,205] - obspy.clients.fdsn.mass_downloader - INFO: Client 'GEONET' - Status for 1 time intervals/channels after downloading: DOWNLOADED\n",
      "[2021-11-25 00:47:50,211] - obspy.clients.fdsn.mass_downloader - INFO: Client 'GEONET' - No station information to download.\n",
      "[2021-11-25 00:47:50,213] - obspy.clients.fdsn.mass_downloader - INFO: ============================== Final report\n",
      "[2021-11-25 00:47:50,215] - obspy.clients.fdsn.mass_downloader - INFO: 0 MiniSEED files [0.0 MB] already existed.\n",
      "[2021-11-25 00:47:50,218] - obspy.clients.fdsn.mass_downloader - INFO: 1 StationXML files [0.0 MB] already existed.\n",
      "[2021-11-25 00:47:50,218] - obspy.clients.fdsn.mass_downloader - INFO: Client 'GEONET' - Acquired 1 MiniSEED files [0.0 MB].\n",
      "[2021-11-25 00:47:50,219] - obspy.clients.fdsn.mass_downloader - INFO: Client 'GEONET' - Acquired 0 StationXML files [0.0 MB].\n",
      "[2021-11-25 00:47:50,220] - obspy.clients.fdsn.mass_downloader - INFO: Downloaded 0.0 MB in total.\n",
      "[2021-11-25 00:47:50,223] - obspy.clients.fdsn.mass_downloader - INFO: Initializing FDSN client(s) for GEONET.\n",
      "[2021-11-25 00:47:50,230] - obspy.clients.fdsn.mass_downloader - INFO: Successfully initialized 1 client(s): GEONET.\n",
      "[2021-11-25 00:47:50,232] - obspy.clients.fdsn.mass_downloader - INFO: Total acquired or preexisting stations: 0\n",
      "[2021-11-25 00:47:50,232] - obspy.clients.fdsn.mass_downloader - INFO: Client 'GEONET' - Requesting unreliable availability.\n"
     ]
    },
    {
     "name": "stdout",
     "output_type": "stream",
     "text": [
      "=================================================================\n",
      "Initiating mass download request.\n"
     ]
    },
    {
     "name": "stderr",
     "output_type": "stream",
     "text": [
      "[2021-11-25 00:47:50,789] - obspy.clients.fdsn.mass_downloader - INFO: Client 'GEONET' - Successfully requested availability (0.56 seconds)\n",
      "[2021-11-25 00:47:50,792] - obspy.clients.fdsn.mass_downloader - INFO: Client 'GEONET' - Found 1 stations (1 channels).\n",
      "[2021-11-25 00:47:50,793] - obspy.clients.fdsn.mass_downloader - INFO: Client 'GEONET' - Will attempt to download data from 1 stations.\n",
      "[2021-11-25 00:47:50,794] - obspy.clients.fdsn.mass_downloader - INFO: Client 'GEONET' - Status for 1 time intervals/channels before downloading: NEEDS_DOWNLOADING\n",
      "[2021-11-25 00:47:52,592] - obspy.clients.fdsn.mass_downloader - INFO: Client 'GEONET' - Successfully downloaded 1 channels (of 1)\n",
      "[2021-11-25 00:47:52,611] - obspy.clients.fdsn.mass_downloader - INFO: Client 'GEONET' - Launching basic QC checks...\n",
      "[2021-11-25 00:47:52,638] - obspy.clients.fdsn.mass_downloader - INFO: Client 'GEONET' - Downloaded 0.0 MB [2.48 KB/sec] of data, 0.0 MB of which were discarded afterwards.\n",
      "[2021-11-25 00:47:52,642] - obspy.clients.fdsn.mass_downloader - INFO: Client 'GEONET' - Status for 1 time intervals/channels after downloading: DOWNLOADED\n",
      "[2021-11-25 00:47:52,657] - obspy.clients.fdsn.mass_downloader - INFO: Client 'GEONET' - No station information to download.\n",
      "[2021-11-25 00:47:52,659] - obspy.clients.fdsn.mass_downloader - INFO: ============================== Final report\n",
      "[2021-11-25 00:47:52,663] - obspy.clients.fdsn.mass_downloader - INFO: 0 MiniSEED files [0.0 MB] already existed.\n",
      "[2021-11-25 00:47:52,665] - obspy.clients.fdsn.mass_downloader - INFO: 1 StationXML files [0.0 MB] already existed.\n",
      "[2021-11-25 00:47:52,667] - obspy.clients.fdsn.mass_downloader - INFO: Client 'GEONET' - Acquired 1 MiniSEED files [0.0 MB].\n",
      "[2021-11-25 00:47:52,668] - obspy.clients.fdsn.mass_downloader - INFO: Client 'GEONET' - Acquired 0 StationXML files [0.0 MB].\n",
      "[2021-11-25 00:47:52,673] - obspy.clients.fdsn.mass_downloader - INFO: Downloaded 0.0 MB in total.\n",
      "[2021-11-25 00:47:52,679] - obspy.clients.fdsn.mass_downloader - INFO: Initializing FDSN client(s) for GEONET.\n",
      "[2021-11-25 00:47:52,689] - obspy.clients.fdsn.mass_downloader - INFO: Successfully initialized 1 client(s): GEONET.\n",
      "[2021-11-25 00:47:52,690] - obspy.clients.fdsn.mass_downloader - INFO: Total acquired or preexisting stations: 0\n",
      "[2021-11-25 00:47:52,690] - obspy.clients.fdsn.mass_downloader - INFO: Client 'GEONET' - Requesting unreliable availability.\n"
     ]
    },
    {
     "name": "stdout",
     "output_type": "stream",
     "text": [
      "=================================================================\n",
      "Initiating mass download request.\n"
     ]
    },
    {
     "name": "stderr",
     "output_type": "stream",
     "text": [
      "[2021-11-25 00:47:53,331] - obspy.clients.fdsn.mass_downloader - INFO: Client 'GEONET' - Successfully requested availability (0.64 seconds)\n",
      "[2021-11-25 00:47:53,339] - obspy.clients.fdsn.mass_downloader - INFO: Client 'GEONET' - Found 1 stations (1 channels).\n",
      "[2021-11-25 00:47:53,345] - obspy.clients.fdsn.mass_downloader - INFO: Client 'GEONET' - Will attempt to download data from 1 stations.\n",
      "[2021-11-25 00:47:53,363] - obspy.clients.fdsn.mass_downloader - INFO: Client 'GEONET' - Status for 1 time intervals/channels before downloading: NEEDS_DOWNLOADING\n",
      "[2021-11-25 00:47:54,253] - obspy.clients.fdsn.mass_downloader - INFO: Client 'GEONET' - Successfully downloaded 1 channels (of 1)\n",
      "[2021-11-25 00:47:54,257] - obspy.clients.fdsn.mass_downloader - INFO: Client 'GEONET' - Launching basic QC checks...\n",
      "[2021-11-25 00:47:54,268] - obspy.clients.fdsn.mass_downloader - INFO: Client 'GEONET' - Downloaded 0.0 MB [4.09 KB/sec] of data, 0.0 MB of which were discarded afterwards.\n",
      "[2021-11-25 00:47:54,270] - obspy.clients.fdsn.mass_downloader - INFO: Client 'GEONET' - Status for 1 time intervals/channels after downloading: DOWNLOADED\n",
      "[2021-11-25 00:47:54,897] - obspy.clients.fdsn.mass_downloader - INFO: Client 'GEONET' - Successfully downloaded 'normal/stations/NZ.BKZ.xml'.\n",
      "[2021-11-25 00:47:54,903] - obspy.clients.fdsn.mass_downloader - INFO: Client 'GEONET' - Downloaded 1 station files [0.0 MB] in 0.6 seconds [13.55 KB/sec].\n",
      "[2021-11-25 00:47:54,904] - obspy.clients.fdsn.mass_downloader - INFO: ============================== Final report\n",
      "[2021-11-25 00:47:54,905] - obspy.clients.fdsn.mass_downloader - INFO: 0 MiniSEED files [0.0 MB] already existed.\n",
      "[2021-11-25 00:47:54,905] - obspy.clients.fdsn.mass_downloader - INFO: 0 StationXML files [0.0 MB] already existed.\n",
      "[2021-11-25 00:47:54,906] - obspy.clients.fdsn.mass_downloader - INFO: Client 'GEONET' - Acquired 1 MiniSEED files [0.0 MB].\n",
      "[2021-11-25 00:47:54,906] - obspy.clients.fdsn.mass_downloader - INFO: Client 'GEONET' - Acquired 1 StationXML files [0.0 MB].\n",
      "[2021-11-25 00:47:54,907] - obspy.clients.fdsn.mass_downloader - INFO: Downloaded 0.0 MB in total.\n",
      "[2021-11-25 00:47:54,913] - obspy.clients.fdsn.mass_downloader - INFO: Initializing FDSN client(s) for GEONET.\n",
      "[2021-11-25 00:47:54,926] - obspy.clients.fdsn.mass_downloader - INFO: Successfully initialized 1 client(s): GEONET.\n",
      "[2021-11-25 00:47:54,930] - obspy.clients.fdsn.mass_downloader - INFO: Total acquired or preexisting stations: 0\n",
      "[2021-11-25 00:47:54,932] - obspy.clients.fdsn.mass_downloader - INFO: Client 'GEONET' - Requesting unreliable availability.\n"
     ]
    },
    {
     "name": "stdout",
     "output_type": "stream",
     "text": [
      "=================================================================\n",
      "Initiating mass download request.\n"
     ]
    },
    {
     "name": "stderr",
     "output_type": "stream",
     "text": [
      "[2021-11-25 00:47:55,545] - obspy.clients.fdsn.mass_downloader - INFO: Client 'GEONET' - Successfully requested availability (0.61 seconds)\n",
      "[2021-11-25 00:47:55,546] - obspy.clients.fdsn.mass_downloader - INFO: Client 'GEONET' - Found 1 stations (1 channels).\n",
      "[2021-11-25 00:47:55,547] - obspy.clients.fdsn.mass_downloader - INFO: Client 'GEONET' - Will attempt to download data from 1 stations.\n",
      "[2021-11-25 00:47:55,547] - obspy.clients.fdsn.mass_downloader - INFO: Client 'GEONET' - Status for 1 time intervals/channels before downloading: NEEDS_DOWNLOADING\n",
      "[2021-11-25 00:47:56,388] - obspy.clients.fdsn.mass_downloader - INFO: Client 'GEONET' - Successfully downloaded 1 channels (of 1)\n",
      "[2021-11-25 00:47:56,395] - obspy.clients.fdsn.mass_downloader - INFO: Client 'GEONET' - Launching basic QC checks...\n",
      "[2021-11-25 00:47:56,409] - obspy.clients.fdsn.mass_downloader - INFO: Client 'GEONET' - Downloaded 0.0 MB [3.55 KB/sec] of data, 0.0 MB of which were discarded afterwards.\n",
      "[2021-11-25 00:47:56,413] - obspy.clients.fdsn.mass_downloader - INFO: Client 'GEONET' - Status for 1 time intervals/channels after downloading: DOWNLOADED\n",
      "[2021-11-25 00:47:56,416] - obspy.clients.fdsn.mass_downloader - INFO: Client 'GEONET' - No station information to download.\n",
      "[2021-11-25 00:47:56,422] - obspy.clients.fdsn.mass_downloader - INFO: ============================== Final report\n",
      "[2021-11-25 00:47:56,423] - obspy.clients.fdsn.mass_downloader - INFO: 0 MiniSEED files [0.0 MB] already existed.\n",
      "[2021-11-25 00:47:56,424] - obspy.clients.fdsn.mass_downloader - INFO: 1 StationXML files [0.0 MB] already existed.\n",
      "[2021-11-25 00:47:56,425] - obspy.clients.fdsn.mass_downloader - INFO: Client 'GEONET' - Acquired 1 MiniSEED files [0.0 MB].\n",
      "[2021-11-25 00:47:56,426] - obspy.clients.fdsn.mass_downloader - INFO: Client 'GEONET' - Acquired 0 StationXML files [0.0 MB].\n",
      "[2021-11-25 00:47:56,427] - obspy.clients.fdsn.mass_downloader - INFO: Downloaded 0.0 MB in total.\n",
      "[2021-11-25 00:47:56,435] - obspy.clients.fdsn.mass_downloader - INFO: Initializing FDSN client(s) for GEONET.\n",
      "[2021-11-25 00:47:56,443] - obspy.clients.fdsn.mass_downloader - INFO: Successfully initialized 1 client(s): GEONET.\n",
      "[2021-11-25 00:47:56,444] - obspy.clients.fdsn.mass_downloader - INFO: Total acquired or preexisting stations: 0\n",
      "[2021-11-25 00:47:56,445] - obspy.clients.fdsn.mass_downloader - INFO: Client 'GEONET' - Requesting unreliable availability.\n"
     ]
    },
    {
     "name": "stdout",
     "output_type": "stream",
     "text": [
      "=================================================================\n",
      "Initiating mass download request.\n"
     ]
    },
    {
     "name": "stderr",
     "output_type": "stream",
     "text": [
      "[2021-11-25 00:47:57,026] - obspy.clients.fdsn.mass_downloader - INFO: Client 'GEONET' - Successfully requested availability (0.58 seconds)\n",
      "[2021-11-25 00:47:57,037] - obspy.clients.fdsn.mass_downloader - INFO: Client 'GEONET' - Found 1 stations (1 channels).\n",
      "[2021-11-25 00:47:57,037] - obspy.clients.fdsn.mass_downloader - INFO: Client 'GEONET' - Will attempt to download data from 1 stations.\n",
      "[2021-11-25 00:47:57,038] - obspy.clients.fdsn.mass_downloader - INFO: Client 'GEONET' - Status for 1 time intervals/channels before downloading: NEEDS_DOWNLOADING\n",
      "[2021-11-25 00:47:58,132] - obspy.clients.fdsn.mass_downloader - INFO: Client 'GEONET' - Successfully downloaded 1 channels (of 1)\n",
      "[2021-11-25 00:47:58,141] - obspy.clients.fdsn.mass_downloader - INFO: Client 'GEONET' - Launching basic QC checks...\n",
      "[2021-11-25 00:47:58,150] - obspy.clients.fdsn.mass_downloader - INFO: Client 'GEONET' - Downloaded 0.0 MB [3.19 KB/sec] of data, 0.0 MB of which were discarded afterwards.\n",
      "[2021-11-25 00:47:58,150] - obspy.clients.fdsn.mass_downloader - INFO: Client 'GEONET' - Status for 1 time intervals/channels after downloading: DOWNLOADED\n",
      "[2021-11-25 00:47:58,153] - obspy.clients.fdsn.mass_downloader - INFO: Client 'GEONET' - No station information to download.\n",
      "[2021-11-25 00:47:58,154] - obspy.clients.fdsn.mass_downloader - INFO: ============================== Final report\n",
      "[2021-11-25 00:47:58,154] - obspy.clients.fdsn.mass_downloader - INFO: 0 MiniSEED files [0.0 MB] already existed.\n",
      "[2021-11-25 00:47:58,155] - obspy.clients.fdsn.mass_downloader - INFO: 1 StationXML files [0.0 MB] already existed.\n",
      "[2021-11-25 00:47:58,155] - obspy.clients.fdsn.mass_downloader - INFO: Client 'GEONET' - Acquired 1 MiniSEED files [0.0 MB].\n",
      "[2021-11-25 00:47:58,155] - obspy.clients.fdsn.mass_downloader - INFO: Client 'GEONET' - Acquired 0 StationXML files [0.0 MB].\n",
      "[2021-11-25 00:47:58,156] - obspy.clients.fdsn.mass_downloader - INFO: Downloaded 0.0 MB in total.\n",
      "[2021-11-25 00:47:58,161] - obspy.clients.fdsn.mass_downloader - INFO: Initializing FDSN client(s) for GEONET.\n",
      "[2021-11-25 00:47:58,164] - obspy.clients.fdsn.mass_downloader - INFO: Successfully initialized 1 client(s): GEONET.\n",
      "[2021-11-25 00:47:58,165] - obspy.clients.fdsn.mass_downloader - INFO: Total acquired or preexisting stations: 0\n",
      "[2021-11-25 00:47:58,165] - obspy.clients.fdsn.mass_downloader - INFO: Client 'GEONET' - Requesting unreliable availability.\n"
     ]
    },
    {
     "name": "stdout",
     "output_type": "stream",
     "text": [
      "=================================================================\n",
      "Initiating mass download request.\n"
     ]
    },
    {
     "name": "stderr",
     "output_type": "stream",
     "text": [
      "[2021-11-25 00:47:58,810] - obspy.clients.fdsn.mass_downloader - INFO: Client 'GEONET' - Successfully requested availability (0.64 seconds)\n",
      "[2021-11-25 00:47:58,811] - obspy.clients.fdsn.mass_downloader - INFO: Client 'GEONET' - Found 1 stations (1 channels).\n",
      "[2021-11-25 00:47:58,812] - obspy.clients.fdsn.mass_downloader - INFO: Client 'GEONET' - Will attempt to download data from 1 stations.\n",
      "[2021-11-25 00:47:58,812] - obspy.clients.fdsn.mass_downloader - INFO: Client 'GEONET' - Status for 1 time intervals/channels before downloading: NEEDS_DOWNLOADING\n",
      "[2021-11-25 00:47:59,757] - obspy.clients.fdsn.mass_downloader - INFO: Client 'GEONET' - Successfully downloaded 1 channels (of 1)\n",
      "[2021-11-25 00:47:59,771] - obspy.clients.fdsn.mass_downloader - INFO: Client 'GEONET' - Launching basic QC checks...\n",
      "[2021-11-25 00:47:59,791] - obspy.clients.fdsn.mass_downloader - INFO: Client 'GEONET' - Downloaded 0.0 MB [4.18 KB/sec] of data, 0.0 MB of which were discarded afterwards.\n",
      "[2021-11-25 00:47:59,792] - obspy.clients.fdsn.mass_downloader - INFO: Client 'GEONET' - Status for 1 time intervals/channels after downloading: DOWNLOADED\n",
      "[2021-11-25 00:47:59,798] - obspy.clients.fdsn.mass_downloader - INFO: Client 'GEONET' - No station information to download.\n",
      "[2021-11-25 00:47:59,799] - obspy.clients.fdsn.mass_downloader - INFO: ============================== Final report\n",
      "[2021-11-25 00:47:59,799] - obspy.clients.fdsn.mass_downloader - INFO: 0 MiniSEED files [0.0 MB] already existed.\n",
      "[2021-11-25 00:47:59,800] - obspy.clients.fdsn.mass_downloader - INFO: 1 StationXML files [0.0 MB] already existed.\n",
      "[2021-11-25 00:47:59,800] - obspy.clients.fdsn.mass_downloader - INFO: Client 'GEONET' - Acquired 1 MiniSEED files [0.0 MB].\n",
      "[2021-11-25 00:47:59,800] - obspy.clients.fdsn.mass_downloader - INFO: Client 'GEONET' - Acquired 0 StationXML files [0.0 MB].\n",
      "[2021-11-25 00:47:59,801] - obspy.clients.fdsn.mass_downloader - INFO: Downloaded 0.0 MB in total.\n",
      "[2021-11-25 00:47:59,803] - obspy.clients.fdsn.mass_downloader - INFO: Initializing FDSN client(s) for GEONET.\n",
      "[2021-11-25 00:47:59,806] - obspy.clients.fdsn.mass_downloader - INFO: Successfully initialized 1 client(s): GEONET.\n",
      "[2021-11-25 00:47:59,807] - obspy.clients.fdsn.mass_downloader - INFO: Total acquired or preexisting stations: 0\n",
      "[2021-11-25 00:47:59,807] - obspy.clients.fdsn.mass_downloader - INFO: Client 'GEONET' - Requesting unreliable availability.\n"
     ]
    },
    {
     "name": "stdout",
     "output_type": "stream",
     "text": [
      "=================================================================\n",
      "Initiating mass download request.\n"
     ]
    },
    {
     "name": "stderr",
     "output_type": "stream",
     "text": [
      "[2021-11-25 00:48:00,391] - obspy.clients.fdsn.mass_downloader - INFO: Client 'GEONET' - Successfully requested availability (0.58 seconds)\n",
      "[2021-11-25 00:48:00,392] - obspy.clients.fdsn.mass_downloader - INFO: Client 'GEONET' - Found 1 stations (1 channels).\n",
      "[2021-11-25 00:48:00,392] - obspy.clients.fdsn.mass_downloader - INFO: Client 'GEONET' - Will attempt to download data from 1 stations.\n",
      "[2021-11-25 00:48:00,393] - obspy.clients.fdsn.mass_downloader - INFO: Client 'GEONET' - Status for 1 time intervals/channels before downloading: NEEDS_DOWNLOADING\n",
      "[2021-11-25 00:48:01,227] - obspy.clients.fdsn.mass_downloader - INFO: Client 'GEONET' - Successfully downloaded 1 channels (of 1)\n",
      "[2021-11-25 00:48:01,234] - obspy.clients.fdsn.mass_downloader - INFO: Client 'GEONET' - Launching basic QC checks...\n",
      "[2021-11-25 00:48:01,249] - obspy.clients.fdsn.mass_downloader - INFO: Client 'GEONET' - Downloaded 0.0 MB [4.17 KB/sec] of data, 0.0 MB of which were discarded afterwards.\n",
      "[2021-11-25 00:48:01,256] - obspy.clients.fdsn.mass_downloader - INFO: Client 'GEONET' - Status for 1 time intervals/channels after downloading: DOWNLOADED\n",
      "[2021-11-25 00:48:01,268] - obspy.clients.fdsn.mass_downloader - INFO: Client 'GEONET' - No station information to download.\n",
      "[2021-11-25 00:48:01,270] - obspy.clients.fdsn.mass_downloader - INFO: ============================== Final report\n",
      "[2021-11-25 00:48:01,271] - obspy.clients.fdsn.mass_downloader - INFO: 0 MiniSEED files [0.0 MB] already existed.\n",
      "[2021-11-25 00:48:01,272] - obspy.clients.fdsn.mass_downloader - INFO: 1 StationXML files [0.0 MB] already existed.\n",
      "[2021-11-25 00:48:01,273] - obspy.clients.fdsn.mass_downloader - INFO: Client 'GEONET' - Acquired 1 MiniSEED files [0.0 MB].\n",
      "[2021-11-25 00:48:01,274] - obspy.clients.fdsn.mass_downloader - INFO: Client 'GEONET' - Acquired 0 StationXML files [0.0 MB].\n",
      "[2021-11-25 00:48:01,274] - obspy.clients.fdsn.mass_downloader - INFO: Downloaded 0.0 MB in total.\n",
      "[2021-11-25 00:48:01,282] - obspy.clients.fdsn.mass_downloader - INFO: Initializing FDSN client(s) for GEONET.\n",
      "[2021-11-25 00:48:01,290] - obspy.clients.fdsn.mass_downloader - INFO: Successfully initialized 1 client(s): GEONET.\n",
      "[2021-11-25 00:48:01,293] - obspy.clients.fdsn.mass_downloader - INFO: Total acquired or preexisting stations: 0\n",
      "[2021-11-25 00:48:01,293] - obspy.clients.fdsn.mass_downloader - INFO: Client 'GEONET' - Requesting unreliable availability.\n"
     ]
    },
    {
     "name": "stdout",
     "output_type": "stream",
     "text": [
      "=================================================================\n",
      "Initiating mass download request.\n"
     ]
    },
    {
     "name": "stderr",
     "output_type": "stream",
     "text": [
      "[2021-11-25 00:48:01,893] - obspy.clients.fdsn.mass_downloader - INFO: Client 'GEONET' - Successfully requested availability (0.60 seconds)\n",
      "[2021-11-25 00:48:01,904] - obspy.clients.fdsn.mass_downloader - INFO: Client 'GEONET' - Found 1 stations (1 channels).\n",
      "[2021-11-25 00:48:01,907] - obspy.clients.fdsn.mass_downloader - INFO: Client 'GEONET' - Will attempt to download data from 1 stations.\n",
      "[2021-11-25 00:48:01,908] - obspy.clients.fdsn.mass_downloader - INFO: Client 'GEONET' - Status for 1 time intervals/channels before downloading: NEEDS_DOWNLOADING\n",
      "[2021-11-25 00:48:02,902] - obspy.clients.fdsn.mass_downloader - INFO: Client 'GEONET' - Successfully downloaded 1 channels (of 1)\n",
      "[2021-11-25 00:48:02,910] - obspy.clients.fdsn.mass_downloader - INFO: Client 'GEONET' - Launching basic QC checks...\n",
      "[2021-11-25 00:48:02,918] - obspy.clients.fdsn.mass_downloader - INFO: Client 'GEONET' - Downloaded 0.0 MB [3.03 KB/sec] of data, 0.0 MB of which were discarded afterwards.\n",
      "[2021-11-25 00:48:02,918] - obspy.clients.fdsn.mass_downloader - INFO: Client 'GEONET' - Status for 1 time intervals/channels after downloading: DOWNLOADED\n",
      "[2021-11-25 00:48:02,924] - obspy.clients.fdsn.mass_downloader - INFO: Client 'GEONET' - No station information to download.\n",
      "[2021-11-25 00:48:02,929] - obspy.clients.fdsn.mass_downloader - INFO: ============================== Final report\n",
      "[2021-11-25 00:48:02,929] - obspy.clients.fdsn.mass_downloader - INFO: 0 MiniSEED files [0.0 MB] already existed.\n",
      "[2021-11-25 00:48:02,929] - obspy.clients.fdsn.mass_downloader - INFO: 1 StationXML files [0.0 MB] already existed.\n",
      "[2021-11-25 00:48:02,930] - obspy.clients.fdsn.mass_downloader - INFO: Client 'GEONET' - Acquired 1 MiniSEED files [0.0 MB].\n",
      "[2021-11-25 00:48:02,930] - obspy.clients.fdsn.mass_downloader - INFO: Client 'GEONET' - Acquired 0 StationXML files [0.0 MB].\n",
      "[2021-11-25 00:48:02,930] - obspy.clients.fdsn.mass_downloader - INFO: Downloaded 0.0 MB in total.\n",
      "[2021-11-25 00:48:02,936] - obspy.clients.fdsn.mass_downloader - INFO: Initializing FDSN client(s) for GEONET.\n",
      "[2021-11-25 00:48:02,940] - obspy.clients.fdsn.mass_downloader - INFO: Successfully initialized 1 client(s): GEONET.\n",
      "[2021-11-25 00:48:02,940] - obspy.clients.fdsn.mass_downloader - INFO: Total acquired or preexisting stations: 0\n",
      "[2021-11-25 00:48:02,941] - obspy.clients.fdsn.mass_downloader - INFO: Client 'GEONET' - Requesting unreliable availability.\n"
     ]
    },
    {
     "name": "stdout",
     "output_type": "stream",
     "text": [
      "=================================================================\n",
      "Initiating mass download request.\n"
     ]
    },
    {
     "name": "stderr",
     "output_type": "stream",
     "text": [
      "[2021-11-25 00:48:03,481] - obspy.clients.fdsn.mass_downloader - INFO: Client 'GEONET' - Successfully requested availability (0.54 seconds)\n",
      "[2021-11-25 00:48:03,486] - obspy.clients.fdsn.mass_downloader - INFO: Client 'GEONET' - Found 1 stations (1 channels).\n",
      "[2021-11-25 00:48:03,487] - obspy.clients.fdsn.mass_downloader - INFO: Client 'GEONET' - Will attempt to download data from 1 stations.\n",
      "[2021-11-25 00:48:03,488] - obspy.clients.fdsn.mass_downloader - INFO: Client 'GEONET' - Status for 1 time intervals/channels before downloading: NEEDS_DOWNLOADING\n",
      "[2021-11-25 00:48:04,603] - obspy.clients.fdsn.mass_downloader - INFO: Client 'GEONET' - Successfully downloaded 1 channels (of 1)\n",
      "[2021-11-25 00:48:04,625] - obspy.clients.fdsn.mass_downloader - INFO: Client 'GEONET' - Launching basic QC checks...\n",
      "[2021-11-25 00:48:04,648] - obspy.clients.fdsn.mass_downloader - INFO: Client 'GEONET' - Downloaded 0.0 MB [4.41 KB/sec] of data, 0.0 MB of which were discarded afterwards.\n",
      "[2021-11-25 00:48:04,652] - obspy.clients.fdsn.mass_downloader - INFO: Client 'GEONET' - Status for 1 time intervals/channels after downloading: DOWNLOADED\n",
      "[2021-11-25 00:48:04,666] - obspy.clients.fdsn.mass_downloader - INFO: Client 'GEONET' - No station information to download.\n",
      "[2021-11-25 00:48:04,668] - obspy.clients.fdsn.mass_downloader - INFO: ============================== Final report\n",
      "[2021-11-25 00:48:04,670] - obspy.clients.fdsn.mass_downloader - INFO: 0 MiniSEED files [0.0 MB] already existed.\n",
      "[2021-11-25 00:48:04,683] - obspy.clients.fdsn.mass_downloader - INFO: 1 StationXML files [0.0 MB] already existed.\n",
      "[2021-11-25 00:48:04,686] - obspy.clients.fdsn.mass_downloader - INFO: Client 'GEONET' - Acquired 1 MiniSEED files [0.0 MB].\n",
      "[2021-11-25 00:48:04,687] - obspy.clients.fdsn.mass_downloader - INFO: Client 'GEONET' - Acquired 0 StationXML files [0.0 MB].\n",
      "[2021-11-25 00:48:04,691] - obspy.clients.fdsn.mass_downloader - INFO: Downloaded 0.0 MB in total.\n",
      "[2021-11-25 00:48:04,706] - obspy.clients.fdsn.mass_downloader - INFO: Initializing FDSN client(s) for GEONET.\n",
      "[2021-11-25 00:48:04,725] - obspy.clients.fdsn.mass_downloader - INFO: Successfully initialized 1 client(s): GEONET.\n",
      "[2021-11-25 00:48:04,729] - obspy.clients.fdsn.mass_downloader - INFO: Total acquired or preexisting stations: 0\n",
      "[2021-11-25 00:48:04,730] - obspy.clients.fdsn.mass_downloader - INFO: Client 'GEONET' - Requesting unreliable availability.\n"
     ]
    },
    {
     "name": "stdout",
     "output_type": "stream",
     "text": [
      "=================================================================\n",
      "Initiating mass download request.\n"
     ]
    },
    {
     "name": "stderr",
     "output_type": "stream",
     "text": [
      "[2021-11-25 00:48:05,342] - obspy.clients.fdsn.mass_downloader - INFO: Client 'GEONET' - No data available for request.\n",
      "[2021-11-25 00:48:05,352] - obspy.clients.fdsn.mass_downloader - INFO: Client 'GEONET' - No data available.\n",
      "[2021-11-25 00:48:05,372] - obspy.clients.fdsn.mass_downloader - INFO: ============================== Final report\n",
      "[2021-11-25 00:48:05,379] - obspy.clients.fdsn.mass_downloader - INFO: 0 MiniSEED files [0.0 MB] already existed.\n",
      "[2021-11-25 00:48:05,389] - obspy.clients.fdsn.mass_downloader - INFO: 0 StationXML files [0.0 MB] already existed.\n",
      "[2021-11-25 00:48:05,392] - obspy.clients.fdsn.mass_downloader - INFO: Client 'GEONET' - Acquired 0 MiniSEED files [0.0 MB].\n",
      "[2021-11-25 00:48:05,393] - obspy.clients.fdsn.mass_downloader - INFO: Client 'GEONET' - Acquired 0 StationXML files [0.0 MB].\n",
      "[2021-11-25 00:48:05,400] - obspy.clients.fdsn.mass_downloader - INFO: Downloaded 0.0 MB in total.\n",
      "[2021-11-25 00:48:05,418] - obspy.clients.fdsn.mass_downloader - INFO: Initializing FDSN client(s) for GEONET.\n",
      "[2021-11-25 00:48:05,442] - obspy.clients.fdsn.mass_downloader - INFO: Successfully initialized 1 client(s): GEONET.\n",
      "[2021-11-25 00:48:05,450] - obspy.clients.fdsn.mass_downloader - INFO: Total acquired or preexisting stations: 0\n",
      "[2021-11-25 00:48:05,451] - obspy.clients.fdsn.mass_downloader - INFO: Client 'GEONET' - Requesting unreliable availability.\n"
     ]
    },
    {
     "name": "stdout",
     "output_type": "stream",
     "text": [
      "=================================================================\n",
      "Initiating mass download request.\n"
     ]
    },
    {
     "name": "stderr",
     "output_type": "stream",
     "text": [
      "[2021-11-25 00:48:06,013] - obspy.clients.fdsn.mass_downloader - INFO: Client 'GEONET' - Successfully requested availability (0.56 seconds)\n",
      "[2021-11-25 00:48:06,028] - obspy.clients.fdsn.mass_downloader - INFO: Client 'GEONET' - Found 1 stations (1 channels).\n",
      "[2021-11-25 00:48:06,032] - obspy.clients.fdsn.mass_downloader - INFO: Client 'GEONET' - Will attempt to download data from 1 stations.\n",
      "[2021-11-25 00:48:06,035] - obspy.clients.fdsn.mass_downloader - INFO: Client 'GEONET' - Status for 1 time intervals/channels before downloading: NEEDS_DOWNLOADING\n",
      "[2021-11-25 00:48:07,084] - obspy.clients.fdsn.mass_downloader - INFO: Client 'GEONET' - Successfully downloaded 1 channels (of 1)\n",
      "[2021-11-25 00:48:07,117] - obspy.clients.fdsn.mass_downloader - INFO: Client 'GEONET' - Launching basic QC checks...\n",
      "[2021-11-25 00:48:07,155] - obspy.clients.fdsn.mass_downloader - INFO: Client 'GEONET' - Downloaded 0.0 MB [3.74 KB/sec] of data, 0.0 MB of which were discarded afterwards.\n",
      "[2021-11-25 00:48:07,166] - obspy.clients.fdsn.mass_downloader - INFO: Client 'GEONET' - Status for 1 time intervals/channels after downloading: DOWNLOADED\n",
      "[2021-11-25 00:48:07,187] - obspy.clients.fdsn.mass_downloader - INFO: Client 'GEONET' - No station information to download.\n",
      "[2021-11-25 00:48:07,189] - obspy.clients.fdsn.mass_downloader - INFO: ============================== Final report\n",
      "[2021-11-25 00:48:07,192] - obspy.clients.fdsn.mass_downloader - INFO: 0 MiniSEED files [0.0 MB] already existed.\n",
      "[2021-11-25 00:48:07,196] - obspy.clients.fdsn.mass_downloader - INFO: 1 StationXML files [0.0 MB] already existed.\n",
      "[2021-11-25 00:48:07,198] - obspy.clients.fdsn.mass_downloader - INFO: Client 'GEONET' - Acquired 1 MiniSEED files [0.0 MB].\n",
      "[2021-11-25 00:48:07,198] - obspy.clients.fdsn.mass_downloader - INFO: Client 'GEONET' - Acquired 0 StationXML files [0.0 MB].\n",
      "[2021-11-25 00:48:07,199] - obspy.clients.fdsn.mass_downloader - INFO: Downloaded 0.0 MB in total.\n",
      "[2021-11-25 00:48:07,211] - obspy.clients.fdsn.mass_downloader - INFO: Initializing FDSN client(s) for GEONET.\n",
      "[2021-11-25 00:48:07,221] - obspy.clients.fdsn.mass_downloader - INFO: Successfully initialized 1 client(s): GEONET.\n",
      "[2021-11-25 00:48:07,225] - obspy.clients.fdsn.mass_downloader - INFO: Total acquired or preexisting stations: 0\n",
      "[2021-11-25 00:48:07,228] - obspy.clients.fdsn.mass_downloader - INFO: Client 'GEONET' - Requesting unreliable availability.\n"
     ]
    },
    {
     "name": "stdout",
     "output_type": "stream",
     "text": [
      "=================================================================\n",
      "Initiating mass download request.\n"
     ]
    },
    {
     "name": "stderr",
     "output_type": "stream",
     "text": [
      "[2021-11-25 00:48:07,778] - obspy.clients.fdsn.mass_downloader - INFO: Client 'GEONET' - Successfully requested availability (0.55 seconds)\n",
      "[2021-11-25 00:48:07,781] - obspy.clients.fdsn.mass_downloader - INFO: Client 'GEONET' - Found 1 stations (1 channels).\n",
      "[2021-11-25 00:48:07,781] - obspy.clients.fdsn.mass_downloader - INFO: Client 'GEONET' - Will attempt to download data from 1 stations.\n",
      "[2021-11-25 00:48:07,782] - obspy.clients.fdsn.mass_downloader - INFO: Client 'GEONET' - Status for 1 time intervals/channels before downloading: NEEDS_DOWNLOADING\n",
      "[2021-11-25 00:48:08,743] - obspy.clients.fdsn.mass_downloader - INFO: Client 'GEONET' - Successfully downloaded 1 channels (of 1)\n",
      "[2021-11-25 00:48:08,751] - obspy.clients.fdsn.mass_downloader - INFO: Client 'GEONET' - Launching basic QC checks...\n",
      "[2021-11-25 00:48:08,769] - obspy.clients.fdsn.mass_downloader - INFO: Client 'GEONET' - Downloaded 0.0 MB [4.15 KB/sec] of data, 0.0 MB of which were discarded afterwards.\n",
      "[2021-11-25 00:48:08,770] - obspy.clients.fdsn.mass_downloader - INFO: Client 'GEONET' - Status for 1 time intervals/channels after downloading: DOWNLOADED\n",
      "[2021-11-25 00:48:08,776] - obspy.clients.fdsn.mass_downloader - INFO: Client 'GEONET' - No station information to download.\n",
      "[2021-11-25 00:48:08,779] - obspy.clients.fdsn.mass_downloader - INFO: ============================== Final report\n",
      "[2021-11-25 00:48:08,779] - obspy.clients.fdsn.mass_downloader - INFO: 0 MiniSEED files [0.0 MB] already existed.\n",
      "[2021-11-25 00:48:08,780] - obspy.clients.fdsn.mass_downloader - INFO: 1 StationXML files [0.0 MB] already existed.\n",
      "[2021-11-25 00:48:08,781] - obspy.clients.fdsn.mass_downloader - INFO: Client 'GEONET' - Acquired 1 MiniSEED files [0.0 MB].\n",
      "[2021-11-25 00:48:08,784] - obspy.clients.fdsn.mass_downloader - INFO: Client 'GEONET' - Acquired 0 StationXML files [0.0 MB].\n",
      "[2021-11-25 00:48:08,784] - obspy.clients.fdsn.mass_downloader - INFO: Downloaded 0.0 MB in total.\n",
      "[2021-11-25 00:48:08,788] - obspy.clients.fdsn.mass_downloader - INFO: Initializing FDSN client(s) for GEONET.\n",
      "[2021-11-25 00:48:08,808] - obspy.clients.fdsn.mass_downloader - INFO: Successfully initialized 1 client(s): GEONET.\n",
      "[2021-11-25 00:48:08,810] - obspy.clients.fdsn.mass_downloader - INFO: Total acquired or preexisting stations: 0\n",
      "[2021-11-25 00:48:08,812] - obspy.clients.fdsn.mass_downloader - INFO: Client 'GEONET' - Requesting unreliable availability.\n"
     ]
    },
    {
     "name": "stdout",
     "output_type": "stream",
     "text": [
      "=================================================================\n",
      "Initiating mass download request.\n"
     ]
    },
    {
     "name": "stderr",
     "output_type": "stream",
     "text": [
      "[2021-11-25 00:48:09,381] - obspy.clients.fdsn.mass_downloader - INFO: Client 'GEONET' - Successfully requested availability (0.57 seconds)\n",
      "[2021-11-25 00:48:09,394] - obspy.clients.fdsn.mass_downloader - INFO: Client 'GEONET' - Found 1 stations (1 channels).\n",
      "[2021-11-25 00:48:09,396] - obspy.clients.fdsn.mass_downloader - INFO: Client 'GEONET' - Will attempt to download data from 1 stations.\n",
      "[2021-11-25 00:48:09,400] - obspy.clients.fdsn.mass_downloader - INFO: Client 'GEONET' - Status for 1 time intervals/channels before downloading: NEEDS_DOWNLOADING\n",
      "[2021-11-25 00:48:10,379] - obspy.clients.fdsn.mass_downloader - INFO: Client 'GEONET' - Successfully downloaded 1 channels (of 1)\n",
      "[2021-11-25 00:48:10,394] - obspy.clients.fdsn.mass_downloader - INFO: Client 'GEONET' - Launching basic QC checks...\n",
      "[2021-11-25 00:48:10,415] - obspy.clients.fdsn.mass_downloader - INFO: Client 'GEONET' - Downloaded 0.0 MB [3.04 KB/sec] of data, 0.0 MB of which were discarded afterwards.\n",
      "[2021-11-25 00:48:10,422] - obspy.clients.fdsn.mass_downloader - INFO: Client 'GEONET' - Status for 1 time intervals/channels after downloading: DOWNLOADED\n",
      "[2021-11-25 00:48:10,431] - obspy.clients.fdsn.mass_downloader - INFO: Client 'GEONET' - No station information to download.\n",
      "[2021-11-25 00:48:10,441] - obspy.clients.fdsn.mass_downloader - INFO: ============================== Final report\n",
      "[2021-11-25 00:48:10,447] - obspy.clients.fdsn.mass_downloader - INFO: 0 MiniSEED files [0.0 MB] already existed.\n",
      "[2021-11-25 00:48:10,452] - obspy.clients.fdsn.mass_downloader - INFO: 1 StationXML files [0.0 MB] already existed.\n",
      "[2021-11-25 00:48:10,454] - obspy.clients.fdsn.mass_downloader - INFO: Client 'GEONET' - Acquired 1 MiniSEED files [0.0 MB].\n",
      "[2021-11-25 00:48:10,461] - obspy.clients.fdsn.mass_downloader - INFO: Client 'GEONET' - Acquired 0 StationXML files [0.0 MB].\n",
      "[2021-11-25 00:48:10,462] - obspy.clients.fdsn.mass_downloader - INFO: Downloaded 0.0 MB in total.\n",
      "[2021-11-25 00:48:10,497] - obspy.clients.fdsn.mass_downloader - INFO: Initializing FDSN client(s) for GEONET.\n",
      "[2021-11-25 00:48:10,526] - obspy.clients.fdsn.mass_downloader - INFO: Successfully initialized 1 client(s): GEONET.\n",
      "[2021-11-25 00:48:10,528] - obspy.clients.fdsn.mass_downloader - INFO: Total acquired or preexisting stations: 0\n",
      "[2021-11-25 00:48:10,532] - obspy.clients.fdsn.mass_downloader - INFO: Client 'GEONET' - Requesting unreliable availability.\n"
     ]
    },
    {
     "name": "stdout",
     "output_type": "stream",
     "text": [
      "=================================================================\n",
      "Initiating mass download request.\n"
     ]
    },
    {
     "name": "stderr",
     "output_type": "stream",
     "text": [
      "[2021-11-25 00:48:11,182] - obspy.clients.fdsn.mass_downloader - INFO: Client 'GEONET' - Successfully requested availability (0.64 seconds)\n",
      "[2021-11-25 00:48:11,195] - obspy.clients.fdsn.mass_downloader - INFO: Client 'GEONET' - Found 1 stations (1 channels).\n",
      "[2021-11-25 00:48:11,198] - obspy.clients.fdsn.mass_downloader - INFO: Client 'GEONET' - Will attempt to download data from 1 stations.\n",
      "[2021-11-25 00:48:11,205] - obspy.clients.fdsn.mass_downloader - INFO: Client 'GEONET' - Status for 1 time intervals/channels before downloading: NEEDS_DOWNLOADING\n",
      "[2021-11-25 00:48:12,427] - obspy.clients.fdsn.mass_downloader - INFO: Client 'GEONET' - Successfully downloaded 1 channels (of 1)\n",
      "[2021-11-25 00:48:12,470] - obspy.clients.fdsn.mass_downloader - INFO: Client 'GEONET' - Launching basic QC checks...\n",
      "[2021-11-25 00:48:12,571] - obspy.clients.fdsn.mass_downloader - INFO: Client 'GEONET' - Downloaded 0.0 MB [2.40 KB/sec] of data, 0.0 MB of which were discarded afterwards.\n",
      "[2021-11-25 00:48:12,580] - obspy.clients.fdsn.mass_downloader - INFO: Client 'GEONET' - Status for 1 time intervals/channels after downloading: DOWNLOADED\n",
      "[2021-11-25 00:48:12,595] - obspy.clients.fdsn.mass_downloader - INFO: Client 'GEONET' - No station information to download.\n",
      "[2021-11-25 00:48:12,671] - obspy.clients.fdsn.mass_downloader - INFO: ============================== Final report\n",
      "[2021-11-25 00:48:12,695] - obspy.clients.fdsn.mass_downloader - INFO: 0 MiniSEED files [0.0 MB] already existed.\n",
      "[2021-11-25 00:48:12,697] - obspy.clients.fdsn.mass_downloader - INFO: 1 StationXML files [0.0 MB] already existed.\n",
      "[2021-11-25 00:48:12,701] - obspy.clients.fdsn.mass_downloader - INFO: Client 'GEONET' - Acquired 1 MiniSEED files [0.0 MB].\n",
      "[2021-11-25 00:48:12,712] - obspy.clients.fdsn.mass_downloader - INFO: Client 'GEONET' - Acquired 0 StationXML files [0.0 MB].\n",
      "[2021-11-25 00:48:12,713] - obspy.clients.fdsn.mass_downloader - INFO: Downloaded 0.0 MB in total.\n",
      "[2021-11-25 00:48:12,757] - obspy.clients.fdsn.mass_downloader - INFO: Initializing FDSN client(s) for GEONET.\n",
      "[2021-11-25 00:48:12,815] - obspy.clients.fdsn.mass_downloader - INFO: Successfully initialized 1 client(s): GEONET.\n",
      "[2021-11-25 00:48:12,828] - obspy.clients.fdsn.mass_downloader - INFO: Total acquired or preexisting stations: 0\n",
      "[2021-11-25 00:48:12,834] - obspy.clients.fdsn.mass_downloader - INFO: Client 'GEONET' - Requesting unreliable availability.\n"
     ]
    },
    {
     "name": "stdout",
     "output_type": "stream",
     "text": [
      "=================================================================\n",
      "Initiating mass download request.\n"
     ]
    },
    {
     "name": "stderr",
     "output_type": "stream",
     "text": [
      "[2021-11-25 00:48:13,418] - obspy.clients.fdsn.mass_downloader - INFO: Client 'GEONET' - Successfully requested availability (0.56 seconds)\n",
      "[2021-11-25 00:48:13,421] - obspy.clients.fdsn.mass_downloader - INFO: Client 'GEONET' - Found 1 stations (1 channels).\n",
      "[2021-11-25 00:48:13,428] - obspy.clients.fdsn.mass_downloader - INFO: Client 'GEONET' - Will attempt to download data from 1 stations.\n",
      "[2021-11-25 00:48:13,435] - obspy.clients.fdsn.mass_downloader - INFO: Client 'GEONET' - Status for 1 time intervals/channels before downloading: NEEDS_DOWNLOADING\n",
      "[2021-11-25 00:48:14,454] - obspy.clients.fdsn.mass_downloader - INFO: Client 'GEONET' - Successfully downloaded 1 channels (of 1)\n",
      "[2021-11-25 00:48:14,475] - obspy.clients.fdsn.mass_downloader - INFO: Client 'GEONET' - Launching basic QC checks...\n",
      "[2021-11-25 00:48:14,500] - obspy.clients.fdsn.mass_downloader - INFO: Client 'GEONET' - Downloaded 0.0 MB [3.88 KB/sec] of data, 0.0 MB of which were discarded afterwards.\n",
      "[2021-11-25 00:48:14,502] - obspy.clients.fdsn.mass_downloader - INFO: Client 'GEONET' - Status for 1 time intervals/channels after downloading: DOWNLOADED\n",
      "[2021-11-25 00:48:14,515] - obspy.clients.fdsn.mass_downloader - INFO: Client 'GEONET' - No station information to download.\n",
      "[2021-11-25 00:48:14,516] - obspy.clients.fdsn.mass_downloader - INFO: ============================== Final report\n",
      "[2021-11-25 00:48:14,517] - obspy.clients.fdsn.mass_downloader - INFO: 0 MiniSEED files [0.0 MB] already existed.\n",
      "[2021-11-25 00:48:14,518] - obspy.clients.fdsn.mass_downloader - INFO: 1 StationXML files [0.0 MB] already existed.\n",
      "[2021-11-25 00:48:14,518] - obspy.clients.fdsn.mass_downloader - INFO: Client 'GEONET' - Acquired 1 MiniSEED files [0.0 MB].\n",
      "[2021-11-25 00:48:14,519] - obspy.clients.fdsn.mass_downloader - INFO: Client 'GEONET' - Acquired 0 StationXML files [0.0 MB].\n",
      "[2021-11-25 00:48:14,520] - obspy.clients.fdsn.mass_downloader - INFO: Downloaded 0.0 MB in total.\n",
      "[2021-11-25 00:48:14,523] - obspy.clients.fdsn.mass_downloader - INFO: Initializing FDSN client(s) for GEONET.\n",
      "[2021-11-25 00:48:14,532] - obspy.clients.fdsn.mass_downloader - INFO: Successfully initialized 1 client(s): GEONET.\n",
      "[2021-11-25 00:48:14,534] - obspy.clients.fdsn.mass_downloader - INFO: Total acquired or preexisting stations: 0\n",
      "[2021-11-25 00:48:14,534] - obspy.clients.fdsn.mass_downloader - INFO: Client 'GEONET' - Requesting unreliable availability.\n"
     ]
    },
    {
     "name": "stdout",
     "output_type": "stream",
     "text": [
      "=================================================================\n",
      "Initiating mass download request.\n"
     ]
    },
    {
     "name": "stderr",
     "output_type": "stream",
     "text": [
      "[2021-11-25 00:48:15,173] - obspy.clients.fdsn.mass_downloader - INFO: Client 'GEONET' - Successfully requested availability (0.64 seconds)\n",
      "[2021-11-25 00:48:15,176] - obspy.clients.fdsn.mass_downloader - INFO: Client 'GEONET' - Found 1 stations (1 channels).\n",
      "[2021-11-25 00:48:15,177] - obspy.clients.fdsn.mass_downloader - INFO: Client 'GEONET' - Will attempt to download data from 1 stations.\n",
      "[2021-11-25 00:48:15,180] - obspy.clients.fdsn.mass_downloader - INFO: Client 'GEONET' - Status for 1 time intervals/channels before downloading: NEEDS_DOWNLOADING\n",
      "[2021-11-25 00:48:16,720] - obspy.clients.fdsn.mass_downloader - INFO: Client 'GEONET' - Successfully downloaded 1 channels (of 1)\n",
      "[2021-11-25 00:48:16,727] - obspy.clients.fdsn.mass_downloader - INFO: Client 'GEONET' - Launching basic QC checks...\n",
      "[2021-11-25 00:48:16,734] - obspy.clients.fdsn.mass_downloader - INFO: Client 'GEONET' - Downloaded 0.0 MB [2.28 KB/sec] of data, 0.0 MB of which were discarded afterwards.\n",
      "[2021-11-25 00:48:16,736] - obspy.clients.fdsn.mass_downloader - INFO: Client 'GEONET' - Status for 1 time intervals/channels after downloading: DOWNLOADED\n",
      "[2021-11-25 00:48:16,741] - obspy.clients.fdsn.mass_downloader - INFO: Client 'GEONET' - No station information to download.\n",
      "[2021-11-25 00:48:16,743] - obspy.clients.fdsn.mass_downloader - INFO: ============================== Final report\n",
      "[2021-11-25 00:48:16,745] - obspy.clients.fdsn.mass_downloader - INFO: 0 MiniSEED files [0.0 MB] already existed.\n",
      "[2021-11-25 00:48:16,746] - obspy.clients.fdsn.mass_downloader - INFO: 1 StationXML files [0.0 MB] already existed.\n",
      "[2021-11-25 00:48:16,747] - obspy.clients.fdsn.mass_downloader - INFO: Client 'GEONET' - Acquired 1 MiniSEED files [0.0 MB].\n",
      "[2021-11-25 00:48:16,748] - obspy.clients.fdsn.mass_downloader - INFO: Client 'GEONET' - Acquired 0 StationXML files [0.0 MB].\n",
      "[2021-11-25 00:48:16,749] - obspy.clients.fdsn.mass_downloader - INFO: Downloaded 0.0 MB in total.\n",
      "[2021-11-25 00:48:16,753] - obspy.clients.fdsn.mass_downloader - INFO: Initializing FDSN client(s) for GEONET.\n",
      "[2021-11-25 00:48:16,761] - obspy.clients.fdsn.mass_downloader - INFO: Successfully initialized 1 client(s): GEONET.\n",
      "[2021-11-25 00:48:16,763] - obspy.clients.fdsn.mass_downloader - INFO: Total acquired or preexisting stations: 0\n",
      "[2021-11-25 00:48:16,764] - obspy.clients.fdsn.mass_downloader - INFO: Client 'GEONET' - Requesting unreliable availability.\n"
     ]
    },
    {
     "name": "stdout",
     "output_type": "stream",
     "text": [
      "=================================================================\n",
      "Initiating mass download request.\n"
     ]
    },
    {
     "name": "stderr",
     "output_type": "stream",
     "text": [
      "[2021-11-25 00:48:17,424] - obspy.clients.fdsn.mass_downloader - INFO: Client 'GEONET' - Successfully requested availability (0.66 seconds)\n",
      "[2021-11-25 00:48:17,430] - obspy.clients.fdsn.mass_downloader - INFO: Client 'GEONET' - Found 1 stations (1 channels).\n",
      "[2021-11-25 00:48:17,430] - obspy.clients.fdsn.mass_downloader - INFO: Client 'GEONET' - Will attempt to download data from 1 stations.\n",
      "[2021-11-25 00:48:17,432] - obspy.clients.fdsn.mass_downloader - INFO: Client 'GEONET' - Status for 1 time intervals/channels before downloading: NEEDS_DOWNLOADING\n",
      "[2021-11-25 00:48:18,304] - obspy.clients.fdsn.mass_downloader - INFO: Client 'GEONET' - Successfully downloaded 1 channels (of 1)\n",
      "[2021-11-25 00:48:18,334] - obspy.clients.fdsn.mass_downloader - INFO: Client 'GEONET' - Launching basic QC checks...\n",
      "[2021-11-25 00:48:18,342] - obspy.clients.fdsn.mass_downloader - INFO: Client 'GEONET' - Downloaded 0.0 MB [3.41 KB/sec] of data, 0.0 MB of which were discarded afterwards.\n",
      "[2021-11-25 00:48:18,344] - obspy.clients.fdsn.mass_downloader - INFO: Client 'GEONET' - Status for 1 time intervals/channels after downloading: DOWNLOADED\n",
      "[2021-11-25 00:48:18,349] - obspy.clients.fdsn.mass_downloader - INFO: Client 'GEONET' - No station information to download.\n",
      "[2021-11-25 00:48:18,363] - obspy.clients.fdsn.mass_downloader - INFO: ============================== Final report\n",
      "[2021-11-25 00:48:18,365] - obspy.clients.fdsn.mass_downloader - INFO: 0 MiniSEED files [0.0 MB] already existed.\n",
      "[2021-11-25 00:48:18,368] - obspy.clients.fdsn.mass_downloader - INFO: 1 StationXML files [0.0 MB] already existed.\n",
      "[2021-11-25 00:48:18,370] - obspy.clients.fdsn.mass_downloader - INFO: Client 'GEONET' - Acquired 1 MiniSEED files [0.0 MB].\n",
      "[2021-11-25 00:48:18,372] - obspy.clients.fdsn.mass_downloader - INFO: Client 'GEONET' - Acquired 0 StationXML files [0.0 MB].\n",
      "[2021-11-25 00:48:18,373] - obspy.clients.fdsn.mass_downloader - INFO: Downloaded 0.0 MB in total.\n",
      "[2021-11-25 00:48:18,376] - obspy.clients.fdsn.mass_downloader - INFO: Initializing FDSN client(s) for GEONET.\n",
      "[2021-11-25 00:48:18,384] - obspy.clients.fdsn.mass_downloader - INFO: Successfully initialized 1 client(s): GEONET.\n",
      "[2021-11-25 00:48:18,390] - obspy.clients.fdsn.mass_downloader - INFO: Total acquired or preexisting stations: 0\n",
      "[2021-11-25 00:48:18,391] - obspy.clients.fdsn.mass_downloader - INFO: Client 'GEONET' - Requesting unreliable availability.\n"
     ]
    },
    {
     "name": "stdout",
     "output_type": "stream",
     "text": [
      "=================================================================\n",
      "Initiating mass download request.\n"
     ]
    },
    {
     "name": "stderr",
     "output_type": "stream",
     "text": [
      "[2021-11-25 00:48:19,846] - obspy.clients.fdsn.mass_downloader - INFO: Client 'GEONET' - Successfully requested availability (1.45 seconds)\n",
      "[2021-11-25 00:48:19,848] - obspy.clients.fdsn.mass_downloader - INFO: Client 'GEONET' - Found 1 stations (1 channels).\n",
      "[2021-11-25 00:48:19,851] - obspy.clients.fdsn.mass_downloader - INFO: Client 'GEONET' - Will attempt to download data from 1 stations.\n",
      "[2021-11-25 00:48:19,855] - obspy.clients.fdsn.mass_downloader - INFO: Client 'GEONET' - Status for 1 time intervals/channels before downloading: NEEDS_DOWNLOADING\n",
      "[2021-11-25 00:48:20,797] - obspy.clients.fdsn.mass_downloader - INFO: Client 'GEONET' - Successfully downloaded 1 channels (of 1)\n",
      "[2021-11-25 00:48:20,810] - obspy.clients.fdsn.mass_downloader - INFO: Client 'GEONET' - Launching basic QC checks...\n",
      "[2021-11-25 00:48:20,822] - obspy.clients.fdsn.mass_downloader - INFO: Client 'GEONET' - Downloaded 0.0 MB [5.25 KB/sec] of data, 0.0 MB of which were discarded afterwards.\n",
      "[2021-11-25 00:48:20,826] - obspy.clients.fdsn.mass_downloader - INFO: Client 'GEONET' - Status for 1 time intervals/channels after downloading: DOWNLOADED\n",
      "[2021-11-25 00:48:20,836] - obspy.clients.fdsn.mass_downloader - INFO: Client 'GEONET' - No station information to download.\n",
      "[2021-11-25 00:48:20,841] - obspy.clients.fdsn.mass_downloader - INFO: ============================== Final report\n",
      "[2021-11-25 00:48:20,842] - obspy.clients.fdsn.mass_downloader - INFO: 0 MiniSEED files [0.0 MB] already existed.\n",
      "[2021-11-25 00:48:20,844] - obspy.clients.fdsn.mass_downloader - INFO: 1 StationXML files [0.0 MB] already existed.\n",
      "[2021-11-25 00:48:20,845] - obspy.clients.fdsn.mass_downloader - INFO: Client 'GEONET' - Acquired 1 MiniSEED files [0.0 MB].\n",
      "[2021-11-25 00:48:20,847] - obspy.clients.fdsn.mass_downloader - INFO: Client 'GEONET' - Acquired 0 StationXML files [0.0 MB].\n",
      "[2021-11-25 00:48:20,850] - obspy.clients.fdsn.mass_downloader - INFO: Downloaded 0.0 MB in total.\n",
      "[2021-11-25 00:48:20,862] - obspy.clients.fdsn.mass_downloader - INFO: Initializing FDSN client(s) for GEONET.\n",
      "[2021-11-25 00:48:20,884] - obspy.clients.fdsn.mass_downloader - INFO: Successfully initialized 1 client(s): GEONET.\n",
      "[2021-11-25 00:48:20,885] - obspy.clients.fdsn.mass_downloader - INFO: Total acquired or preexisting stations: 0\n",
      "[2021-11-25 00:48:20,887] - obspy.clients.fdsn.mass_downloader - INFO: Client 'GEONET' - Requesting unreliable availability.\n"
     ]
    },
    {
     "name": "stdout",
     "output_type": "stream",
     "text": [
      "=================================================================\n",
      "Initiating mass download request.\n"
     ]
    },
    {
     "name": "stderr",
     "output_type": "stream",
     "text": [
      "[2021-11-25 00:48:21,514] - obspy.clients.fdsn.mass_downloader - INFO: Client 'GEONET' - Successfully requested availability (0.63 seconds)\n",
      "[2021-11-25 00:48:21,526] - obspy.clients.fdsn.mass_downloader - INFO: Client 'GEONET' - Found 1 stations (1 channels).\n",
      "[2021-11-25 00:48:21,530] - obspy.clients.fdsn.mass_downloader - INFO: Client 'GEONET' - Will attempt to download data from 1 stations.\n",
      "[2021-11-25 00:48:21,531] - obspy.clients.fdsn.mass_downloader - INFO: Client 'GEONET' - Status for 1 time intervals/channels before downloading: NEEDS_DOWNLOADING\n",
      "[2021-11-25 00:48:22,550] - obspy.clients.fdsn.mass_downloader - INFO: Client 'GEONET' - Successfully downloaded 1 channels (of 1)\n",
      "[2021-11-25 00:48:22,560] - obspy.clients.fdsn.mass_downloader - INFO: Client 'GEONET' - Launching basic QC checks...\n",
      "[2021-11-25 00:48:22,572] - obspy.clients.fdsn.mass_downloader - INFO: Client 'GEONET' - Downloaded 0.0 MB [3.92 KB/sec] of data, 0.0 MB of which were discarded afterwards.\n",
      "[2021-11-25 00:48:22,573] - obspy.clients.fdsn.mass_downloader - INFO: Client 'GEONET' - Status for 1 time intervals/channels after downloading: DOWNLOADED\n",
      "[2021-11-25 00:48:22,576] - obspy.clients.fdsn.mass_downloader - INFO: Client 'GEONET' - No station information to download.\n",
      "[2021-11-25 00:48:22,577] - obspy.clients.fdsn.mass_downloader - INFO: ============================== Final report\n",
      "[2021-11-25 00:48:22,578] - obspy.clients.fdsn.mass_downloader - INFO: 0 MiniSEED files [0.0 MB] already existed.\n",
      "[2021-11-25 00:48:22,578] - obspy.clients.fdsn.mass_downloader - INFO: 1 StationXML files [0.0 MB] already existed.\n",
      "[2021-11-25 00:48:22,579] - obspy.clients.fdsn.mass_downloader - INFO: Client 'GEONET' - Acquired 1 MiniSEED files [0.0 MB].\n",
      "[2021-11-25 00:48:22,579] - obspy.clients.fdsn.mass_downloader - INFO: Client 'GEONET' - Acquired 0 StationXML files [0.0 MB].\n",
      "[2021-11-25 00:48:22,580] - obspy.clients.fdsn.mass_downloader - INFO: Downloaded 0.0 MB in total.\n",
      "[2021-11-25 00:48:22,586] - obspy.clients.fdsn.mass_downloader - INFO: Initializing FDSN client(s) for GEONET.\n",
      "[2021-11-25 00:48:22,621] - obspy.clients.fdsn.mass_downloader - INFO: Successfully initialized 1 client(s): GEONET.\n",
      "[2021-11-25 00:48:22,624] - obspy.clients.fdsn.mass_downloader - INFO: Total acquired or preexisting stations: 0\n",
      "[2021-11-25 00:48:22,625] - obspy.clients.fdsn.mass_downloader - INFO: Client 'GEONET' - Requesting unreliable availability.\n"
     ]
    },
    {
     "name": "stdout",
     "output_type": "stream",
     "text": [
      "=================================================================\n",
      "Initiating mass download request.\n"
     ]
    },
    {
     "name": "stderr",
     "output_type": "stream",
     "text": [
      "[2021-11-25 00:48:23,299] - obspy.clients.fdsn.mass_downloader - INFO: Client 'GEONET' - Successfully requested availability (0.67 seconds)\n",
      "[2021-11-25 00:48:23,311] - obspy.clients.fdsn.mass_downloader - INFO: Client 'GEONET' - Found 1 stations (1 channels).\n",
      "[2021-11-25 00:48:23,312] - obspy.clients.fdsn.mass_downloader - INFO: Client 'GEONET' - Will attempt to download data from 1 stations.\n",
      "[2021-11-25 00:48:23,318] - obspy.clients.fdsn.mass_downloader - INFO: Client 'GEONET' - Status for 1 time intervals/channels before downloading: NEEDS_DOWNLOADING\n",
      "[2021-11-25 00:48:24,271] - obspy.clients.fdsn.mass_downloader - INFO: Client 'GEONET' - Successfully downloaded 1 channels (of 1)\n",
      "[2021-11-25 00:48:24,287] - obspy.clients.fdsn.mass_downloader - INFO: Client 'GEONET' - Launching basic QC checks...\n",
      "[2021-11-25 00:48:24,305] - obspy.clients.fdsn.mass_downloader - INFO: Client 'GEONET' - Downloaded 0.0 MB [4.26 KB/sec] of data, 0.0 MB of which were discarded afterwards.\n",
      "[2021-11-25 00:48:24,307] - obspy.clients.fdsn.mass_downloader - INFO: Client 'GEONET' - Status for 1 time intervals/channels after downloading: DOWNLOADED\n",
      "[2021-11-25 00:48:24,316] - obspy.clients.fdsn.mass_downloader - INFO: Client 'GEONET' - No station information to download.\n",
      "[2021-11-25 00:48:24,318] - obspy.clients.fdsn.mass_downloader - INFO: ============================== Final report\n",
      "[2021-11-25 00:48:24,319] - obspy.clients.fdsn.mass_downloader - INFO: 0 MiniSEED files [0.0 MB] already existed.\n",
      "[2021-11-25 00:48:24,321] - obspy.clients.fdsn.mass_downloader - INFO: 1 StationXML files [0.0 MB] already existed.\n",
      "[2021-11-25 00:48:24,321] - obspy.clients.fdsn.mass_downloader - INFO: Client 'GEONET' - Acquired 1 MiniSEED files [0.0 MB].\n",
      "[2021-11-25 00:48:24,323] - obspy.clients.fdsn.mass_downloader - INFO: Client 'GEONET' - Acquired 0 StationXML files [0.0 MB].\n",
      "[2021-11-25 00:48:24,328] - obspy.clients.fdsn.mass_downloader - INFO: Downloaded 0.0 MB in total.\n",
      "[2021-11-25 00:48:24,337] - obspy.clients.fdsn.mass_downloader - INFO: Initializing FDSN client(s) for GEONET.\n",
      "[2021-11-25 00:48:24,348] - obspy.clients.fdsn.mass_downloader - INFO: Successfully initialized 1 client(s): GEONET.\n",
      "[2021-11-25 00:48:24,353] - obspy.clients.fdsn.mass_downloader - INFO: Total acquired or preexisting stations: 0\n",
      "[2021-11-25 00:48:24,356] - obspy.clients.fdsn.mass_downloader - INFO: Client 'GEONET' - Requesting unreliable availability.\n"
     ]
    },
    {
     "name": "stdout",
     "output_type": "stream",
     "text": [
      "=================================================================\n",
      "Initiating mass download request.\n"
     ]
    },
    {
     "name": "stderr",
     "output_type": "stream",
     "text": [
      "[2021-11-25 00:48:24,942] - obspy.clients.fdsn.mass_downloader - INFO: Client 'GEONET' - Successfully requested availability (0.58 seconds)\n",
      "[2021-11-25 00:48:24,946] - obspy.clients.fdsn.mass_downloader - INFO: Client 'GEONET' - Found 1 stations (1 channels).\n",
      "[2021-11-25 00:48:24,947] - obspy.clients.fdsn.mass_downloader - INFO: Client 'GEONET' - Will attempt to download data from 1 stations.\n",
      "[2021-11-25 00:48:24,948] - obspy.clients.fdsn.mass_downloader - INFO: Client 'GEONET' - Status for 1 time intervals/channels before downloading: NEEDS_DOWNLOADING\n",
      "[2021-11-25 00:48:25,585] - obspy.clients.fdsn.mass_downloader - INFO: Client 'GEONET' - No data available for request.\n",
      "[2021-11-25 00:48:25,586] - obspy.clients.fdsn.mass_downloader - INFO: Client 'GEONET' - Launching basic QC checks...\n",
      "[2021-11-25 00:48:25,587] - obspy.clients.fdsn.mass_downloader - INFO: Client 'GEONET' - Downloaded 0.0 MB [0.00 KB/sec] of data, 0.0 MB of which were discarded afterwards.\n",
      "[2021-11-25 00:48:25,587] - obspy.clients.fdsn.mass_downloader - INFO: Client 'GEONET' - Status for 1 time intervals/channels after downloading: DOWNLOAD_FAILED\n",
      "[2021-11-25 00:48:25,588] - obspy.clients.fdsn.mass_downloader - INFO: Client 'GEONET' - No station information to download.\n",
      "[2021-11-25 00:48:25,588] - obspy.clients.fdsn.mass_downloader - INFO: Client 'GEONET' - No data could be downloaded.\n",
      "[2021-11-25 00:48:25,588] - obspy.clients.fdsn.mass_downloader - INFO: ============================== Final report\n",
      "[2021-11-25 00:48:25,589] - obspy.clients.fdsn.mass_downloader - INFO: 0 MiniSEED files [0.0 MB] already existed.\n",
      "[2021-11-25 00:48:25,589] - obspy.clients.fdsn.mass_downloader - INFO: 0 StationXML files [0.0 MB] already existed.\n",
      "[2021-11-25 00:48:25,589] - obspy.clients.fdsn.mass_downloader - INFO: Client 'GEONET' - Acquired 0 MiniSEED files [0.0 MB].\n",
      "[2021-11-25 00:48:25,589] - obspy.clients.fdsn.mass_downloader - INFO: Client 'GEONET' - Acquired 0 StationXML files [0.0 MB].\n",
      "[2021-11-25 00:48:25,590] - obspy.clients.fdsn.mass_downloader - INFO: Downloaded 0.0 MB in total.\n",
      "[2021-11-25 00:48:25,592] - obspy.clients.fdsn.mass_downloader - INFO: Initializing FDSN client(s) for GEONET.\n",
      "[2021-11-25 00:48:25,599] - obspy.clients.fdsn.mass_downloader - INFO: Successfully initialized 1 client(s): GEONET.\n",
      "[2021-11-25 00:48:25,600] - obspy.clients.fdsn.mass_downloader - INFO: Total acquired or preexisting stations: 0\n",
      "[2021-11-25 00:48:25,600] - obspy.clients.fdsn.mass_downloader - INFO: Client 'GEONET' - Requesting unreliable availability.\n"
     ]
    },
    {
     "name": "stdout",
     "output_type": "stream",
     "text": [
      "=================================================================\n",
      "Initiating mass download request.\n"
     ]
    },
    {
     "name": "stderr",
     "output_type": "stream",
     "text": [
      "[2021-11-25 00:48:26,187] - obspy.clients.fdsn.mass_downloader - INFO: Client 'GEONET' - Successfully requested availability (0.59 seconds)\n",
      "[2021-11-25 00:48:26,188] - obspy.clients.fdsn.mass_downloader - INFO: Client 'GEONET' - Found 1 stations (1 channels).\n",
      "[2021-11-25 00:48:26,189] - obspy.clients.fdsn.mass_downloader - INFO: Client 'GEONET' - Will attempt to download data from 1 stations.\n",
      "[2021-11-25 00:48:26,190] - obspy.clients.fdsn.mass_downloader - INFO: Client 'GEONET' - Status for 1 time intervals/channels before downloading: NEEDS_DOWNLOADING\n",
      "[2021-11-25 00:48:27,066] - obspy.clients.fdsn.mass_downloader - INFO: Client 'GEONET' - Successfully downloaded 1 channels (of 1)\n",
      "[2021-11-25 00:48:27,100] - obspy.clients.fdsn.mass_downloader - INFO: Client 'GEONET' - Launching basic QC checks...\n",
      "[2021-11-25 00:48:27,110] - obspy.clients.fdsn.mass_downloader - INFO: Client 'GEONET' - Downloaded 0.0 MB [4.42 KB/sec] of data, 0.0 MB of which were discarded afterwards.\n",
      "[2021-11-25 00:48:27,117] - obspy.clients.fdsn.mass_downloader - INFO: Client 'GEONET' - Status for 1 time intervals/channels after downloading: DOWNLOADED\n",
      "[2021-11-25 00:48:27,126] - obspy.clients.fdsn.mass_downloader - INFO: Client 'GEONET' - No station information to download.\n",
      "[2021-11-25 00:48:27,130] - obspy.clients.fdsn.mass_downloader - INFO: ============================== Final report\n",
      "[2021-11-25 00:48:27,133] - obspy.clients.fdsn.mass_downloader - INFO: 0 MiniSEED files [0.0 MB] already existed.\n",
      "[2021-11-25 00:48:27,134] - obspy.clients.fdsn.mass_downloader - INFO: 1 StationXML files [0.0 MB] already existed.\n",
      "[2021-11-25 00:48:27,136] - obspy.clients.fdsn.mass_downloader - INFO: Client 'GEONET' - Acquired 1 MiniSEED files [0.0 MB].\n",
      "[2021-11-25 00:48:27,138] - obspy.clients.fdsn.mass_downloader - INFO: Client 'GEONET' - Acquired 0 StationXML files [0.0 MB].\n",
      "[2021-11-25 00:48:27,143] - obspy.clients.fdsn.mass_downloader - INFO: Downloaded 0.0 MB in total.\n",
      "[2021-11-25 00:48:27,153] - obspy.clients.fdsn.mass_downloader - INFO: Initializing FDSN client(s) for GEONET.\n",
      "[2021-11-25 00:48:27,172] - obspy.clients.fdsn.mass_downloader - INFO: Successfully initialized 1 client(s): GEONET.\n",
      "[2021-11-25 00:48:27,178] - obspy.clients.fdsn.mass_downloader - INFO: Total acquired or preexisting stations: 0\n",
      "[2021-11-25 00:48:27,180] - obspy.clients.fdsn.mass_downloader - INFO: Client 'GEONET' - Requesting unreliable availability.\n"
     ]
    },
    {
     "name": "stdout",
     "output_type": "stream",
     "text": [
      "=================================================================\n",
      "Initiating mass download request.\n"
     ]
    },
    {
     "name": "stderr",
     "output_type": "stream",
     "text": [
      "[2021-11-25 00:48:28,429] - obspy.clients.fdsn.mass_downloader - INFO: Client 'GEONET' - Successfully requested availability (1.25 seconds)\n",
      "[2021-11-25 00:48:28,435] - obspy.clients.fdsn.mass_downloader - INFO: Client 'GEONET' - Found 1 stations (1 channels).\n",
      "[2021-11-25 00:48:28,435] - obspy.clients.fdsn.mass_downloader - INFO: Client 'GEONET' - Will attempt to download data from 1 stations.\n",
      "[2021-11-25 00:48:28,436] - obspy.clients.fdsn.mass_downloader - INFO: Client 'GEONET' - Status for 1 time intervals/channels before downloading: NEEDS_DOWNLOADING\n",
      "[2021-11-25 00:48:29,239] - obspy.clients.fdsn.mass_downloader - INFO: Client 'GEONET' - Successfully downloaded 1 channels (of 1)\n",
      "[2021-11-25 00:48:29,242] - obspy.clients.fdsn.mass_downloader - INFO: Client 'GEONET' - Launching basic QC checks...\n",
      "[2021-11-25 00:48:29,254] - obspy.clients.fdsn.mass_downloader - INFO: Client 'GEONET' - Downloaded 0.0 MB [4.37 KB/sec] of data, 0.0 MB of which were discarded afterwards.\n",
      "[2021-11-25 00:48:29,255] - obspy.clients.fdsn.mass_downloader - INFO: Client 'GEONET' - Status for 1 time intervals/channels after downloading: DOWNLOADED\n",
      "[2021-11-25 00:48:29,258] - obspy.clients.fdsn.mass_downloader - INFO: Client 'GEONET' - No station information to download.\n",
      "[2021-11-25 00:48:29,262] - obspy.clients.fdsn.mass_downloader - INFO: ============================== Final report\n",
      "[2021-11-25 00:48:29,262] - obspy.clients.fdsn.mass_downloader - INFO: 0 MiniSEED files [0.0 MB] already existed.\n",
      "[2021-11-25 00:48:29,263] - obspy.clients.fdsn.mass_downloader - INFO: 1 StationXML files [0.0 MB] already existed.\n",
      "[2021-11-25 00:48:29,264] - obspy.clients.fdsn.mass_downloader - INFO: Client 'GEONET' - Acquired 1 MiniSEED files [0.0 MB].\n",
      "[2021-11-25 00:48:29,264] - obspy.clients.fdsn.mass_downloader - INFO: Client 'GEONET' - Acquired 0 StationXML files [0.0 MB].\n",
      "[2021-11-25 00:48:29,264] - obspy.clients.fdsn.mass_downloader - INFO: Downloaded 0.0 MB in total.\n",
      "[2021-11-25 00:48:29,272] - obspy.clients.fdsn.mass_downloader - INFO: Initializing FDSN client(s) for GEONET.\n",
      "[2021-11-25 00:48:29,287] - obspy.clients.fdsn.mass_downloader - INFO: Successfully initialized 1 client(s): GEONET.\n",
      "[2021-11-25 00:48:29,293] - obspy.clients.fdsn.mass_downloader - INFO: Total acquired or preexisting stations: 0\n",
      "[2021-11-25 00:48:29,295] - obspy.clients.fdsn.mass_downloader - INFO: Client 'GEONET' - Requesting unreliable availability.\n"
     ]
    },
    {
     "name": "stdout",
     "output_type": "stream",
     "text": [
      "=================================================================\n",
      "Initiating mass download request.\n"
     ]
    },
    {
     "name": "stderr",
     "output_type": "stream",
     "text": [
      "[2021-11-25 00:48:29,861] - obspy.clients.fdsn.mass_downloader - INFO: Client 'GEONET' - Successfully requested availability (0.56 seconds)\n",
      "[2021-11-25 00:48:29,867] - obspy.clients.fdsn.mass_downloader - INFO: Client 'GEONET' - Found 1 stations (1 channels).\n",
      "[2021-11-25 00:48:29,869] - obspy.clients.fdsn.mass_downloader - INFO: Client 'GEONET' - Will attempt to download data from 1 stations.\n",
      "[2021-11-25 00:48:29,871] - obspy.clients.fdsn.mass_downloader - INFO: Client 'GEONET' - Status for 1 time intervals/channels before downloading: NEEDS_DOWNLOADING\n",
      "[2021-11-25 00:48:31,133] - obspy.clients.fdsn.mass_downloader - INFO: Client 'GEONET' - Successfully downloaded 1 channels (of 1)\n",
      "[2021-11-25 00:48:31,146] - obspy.clients.fdsn.mass_downloader - INFO: Client 'GEONET' - Launching basic QC checks...\n",
      "[2021-11-25 00:48:31,163] - obspy.clients.fdsn.mass_downloader - INFO: Client 'GEONET' - Downloaded 0.0 MB [2.76 KB/sec] of data, 0.0 MB of which were discarded afterwards.\n",
      "[2021-11-25 00:48:31,167] - obspy.clients.fdsn.mass_downloader - INFO: Client 'GEONET' - Status for 1 time intervals/channels after downloading: DOWNLOADED\n",
      "[2021-11-25 00:48:31,174] - obspy.clients.fdsn.mass_downloader - INFO: Client 'GEONET' - No station information to download.\n",
      "[2021-11-25 00:48:31,176] - obspy.clients.fdsn.mass_downloader - INFO: ============================== Final report\n",
      "[2021-11-25 00:48:31,178] - obspy.clients.fdsn.mass_downloader - INFO: 0 MiniSEED files [0.0 MB] already existed.\n",
      "[2021-11-25 00:48:31,179] - obspy.clients.fdsn.mass_downloader - INFO: 1 StationXML files [0.0 MB] already existed.\n",
      "[2021-11-25 00:48:31,180] - obspy.clients.fdsn.mass_downloader - INFO: Client 'GEONET' - Acquired 1 MiniSEED files [0.0 MB].\n",
      "[2021-11-25 00:48:31,181] - obspy.clients.fdsn.mass_downloader - INFO: Client 'GEONET' - Acquired 0 StationXML files [0.0 MB].\n",
      "[2021-11-25 00:48:31,181] - obspy.clients.fdsn.mass_downloader - INFO: Downloaded 0.0 MB in total.\n",
      "[2021-11-25 00:48:31,187] - obspy.clients.fdsn.mass_downloader - INFO: Initializing FDSN client(s) for GEONET.\n",
      "[2021-11-25 00:48:31,198] - obspy.clients.fdsn.mass_downloader - INFO: Successfully initialized 1 client(s): GEONET.\n",
      "[2021-11-25 00:48:31,200] - obspy.clients.fdsn.mass_downloader - INFO: Total acquired or preexisting stations: 0\n",
      "[2021-11-25 00:48:31,201] - obspy.clients.fdsn.mass_downloader - INFO: Client 'GEONET' - Requesting unreliable availability.\n"
     ]
    },
    {
     "name": "stdout",
     "output_type": "stream",
     "text": [
      "=================================================================\n",
      "Initiating mass download request.\n"
     ]
    },
    {
     "name": "stderr",
     "output_type": "stream",
     "text": [
      "[2021-11-25 00:48:31,886] - obspy.clients.fdsn.mass_downloader - INFO: Client 'GEONET' - Successfully requested availability (0.69 seconds)\n",
      "[2021-11-25 00:48:31,894] - obspy.clients.fdsn.mass_downloader - INFO: Client 'GEONET' - Found 1 stations (1 channels).\n",
      "[2021-11-25 00:48:31,895] - obspy.clients.fdsn.mass_downloader - INFO: Client 'GEONET' - Will attempt to download data from 1 stations.\n",
      "[2021-11-25 00:48:31,896] - obspy.clients.fdsn.mass_downloader - INFO: Client 'GEONET' - Status for 1 time intervals/channels before downloading: NEEDS_DOWNLOADING\n",
      "[2021-11-25 00:48:32,772] - obspy.clients.fdsn.mass_downloader - INFO: Client 'GEONET' - Successfully downloaded 1 channels (of 1)\n",
      "[2021-11-25 00:48:32,793] - obspy.clients.fdsn.mass_downloader - INFO: Client 'GEONET' - Launching basic QC checks...\n",
      "[2021-11-25 00:48:32,838] - obspy.clients.fdsn.mass_downloader - INFO: Client 'GEONET' - Downloaded 0.0 MB [3.35 KB/sec] of data, 0.0 MB of which were discarded afterwards.\n",
      "[2021-11-25 00:48:32,840] - obspy.clients.fdsn.mass_downloader - INFO: Client 'GEONET' - Status for 1 time intervals/channels after downloading: DOWNLOADED\n",
      "[2021-11-25 00:48:32,853] - obspy.clients.fdsn.mass_downloader - INFO: Client 'GEONET' - No station information to download.\n",
      "[2021-11-25 00:48:32,854] - obspy.clients.fdsn.mass_downloader - INFO: ============================== Final report\n",
      "[2021-11-25 00:48:32,855] - obspy.clients.fdsn.mass_downloader - INFO: 0 MiniSEED files [0.0 MB] already existed.\n",
      "[2021-11-25 00:48:32,856] - obspy.clients.fdsn.mass_downloader - INFO: 1 StationXML files [0.0 MB] already existed.\n",
      "[2021-11-25 00:48:32,856] - obspy.clients.fdsn.mass_downloader - INFO: Client 'GEONET' - Acquired 1 MiniSEED files [0.0 MB].\n",
      "[2021-11-25 00:48:32,857] - obspy.clients.fdsn.mass_downloader - INFO: Client 'GEONET' - Acquired 0 StationXML files [0.0 MB].\n",
      "[2021-11-25 00:48:32,858] - obspy.clients.fdsn.mass_downloader - INFO: Downloaded 0.0 MB in total.\n",
      "[2021-11-25 00:48:32,865] - obspy.clients.fdsn.mass_downloader - INFO: Initializing FDSN client(s) for GEONET.\n",
      "[2021-11-25 00:48:32,877] - obspy.clients.fdsn.mass_downloader - INFO: Successfully initialized 1 client(s): GEONET.\n",
      "[2021-11-25 00:48:32,878] - obspy.clients.fdsn.mass_downloader - INFO: Total acquired or preexisting stations: 0\n",
      "[2021-11-25 00:48:32,879] - obspy.clients.fdsn.mass_downloader - INFO: Client 'GEONET' - Requesting unreliable availability.\n"
     ]
    },
    {
     "name": "stdout",
     "output_type": "stream",
     "text": [
      "=================================================================\n",
      "Initiating mass download request.\n"
     ]
    },
    {
     "name": "stderr",
     "output_type": "stream",
     "text": [
      "[2021-11-25 00:48:33,417] - obspy.clients.fdsn.mass_downloader - INFO: Client 'GEONET' - Successfully requested availability (0.54 seconds)\n",
      "[2021-11-25 00:48:33,418] - obspy.clients.fdsn.mass_downloader - INFO: Client 'GEONET' - Found 1 stations (1 channels).\n",
      "[2021-11-25 00:48:33,418] - obspy.clients.fdsn.mass_downloader - INFO: Client 'GEONET' - Will attempt to download data from 1 stations.\n",
      "[2021-11-25 00:48:33,419] - obspy.clients.fdsn.mass_downloader - INFO: Client 'GEONET' - Status for 1 time intervals/channels before downloading: NEEDS_DOWNLOADING\n",
      "[2021-11-25 00:48:34,226] - obspy.clients.fdsn.mass_downloader - INFO: Client 'GEONET' - Successfully downloaded 1 channels (of 1)\n",
      "[2021-11-25 00:48:34,236] - obspy.clients.fdsn.mass_downloader - INFO: Client 'GEONET' - Launching basic QC checks...\n",
      "[2021-11-25 00:48:34,247] - obspy.clients.fdsn.mass_downloader - INFO: Client 'GEONET' - Downloaded 0.0 MB [4.29 KB/sec] of data, 0.0 MB of which were discarded afterwards.\n",
      "[2021-11-25 00:48:34,248] - obspy.clients.fdsn.mass_downloader - INFO: Client 'GEONET' - Status for 1 time intervals/channels after downloading: DOWNLOADED\n",
      "[2021-11-25 00:48:34,264] - obspy.clients.fdsn.mass_downloader - INFO: Client 'GEONET' - No station information to download.\n",
      "[2021-11-25 00:48:34,267] - obspy.clients.fdsn.mass_downloader - INFO: ============================== Final report\n",
      "[2021-11-25 00:48:34,269] - obspy.clients.fdsn.mass_downloader - INFO: 0 MiniSEED files [0.0 MB] already existed.\n",
      "[2021-11-25 00:48:34,270] - obspy.clients.fdsn.mass_downloader - INFO: 1 StationXML files [0.0 MB] already existed.\n",
      "[2021-11-25 00:48:34,270] - obspy.clients.fdsn.mass_downloader - INFO: Client 'GEONET' - Acquired 1 MiniSEED files [0.0 MB].\n",
      "[2021-11-25 00:48:34,271] - obspy.clients.fdsn.mass_downloader - INFO: Client 'GEONET' - Acquired 0 StationXML files [0.0 MB].\n",
      "[2021-11-25 00:48:34,271] - obspy.clients.fdsn.mass_downloader - INFO: Downloaded 0.0 MB in total.\n",
      "[2021-11-25 00:48:34,279] - obspy.clients.fdsn.mass_downloader - INFO: Initializing FDSN client(s) for GEONET.\n",
      "[2021-11-25 00:48:34,293] - obspy.clients.fdsn.mass_downloader - INFO: Successfully initialized 1 client(s): GEONET.\n",
      "[2021-11-25 00:48:34,299] - obspy.clients.fdsn.mass_downloader - INFO: Total acquired or preexisting stations: 0\n",
      "[2021-11-25 00:48:34,303] - obspy.clients.fdsn.mass_downloader - INFO: Client 'GEONET' - Requesting unreliable availability.\n"
     ]
    },
    {
     "name": "stdout",
     "output_type": "stream",
     "text": [
      "=================================================================\n",
      "Initiating mass download request.\n"
     ]
    },
    {
     "name": "stderr",
     "output_type": "stream",
     "text": [
      "[2021-11-25 00:48:34,931] - obspy.clients.fdsn.mass_downloader - INFO: Client 'GEONET' - Successfully requested availability (0.63 seconds)\n",
      "[2021-11-25 00:48:34,943] - obspy.clients.fdsn.mass_downloader - INFO: Client 'GEONET' - Found 1 stations (1 channels).\n",
      "[2021-11-25 00:48:34,945] - obspy.clients.fdsn.mass_downloader - INFO: Client 'GEONET' - Will attempt to download data from 1 stations.\n",
      "[2021-11-25 00:48:34,948] - obspy.clients.fdsn.mass_downloader - INFO: Client 'GEONET' - Status for 1 time intervals/channels before downloading: NEEDS_DOWNLOADING\n",
      "[2021-11-25 00:48:36,329] - obspy.clients.fdsn.mass_downloader - INFO: Client 'GEONET' - Successfully downloaded 1 channels (of 1)\n",
      "[2021-11-25 00:48:36,349] - obspy.clients.fdsn.mass_downloader - INFO: Client 'GEONET' - Launching basic QC checks...\n",
      "[2021-11-25 00:48:36,361] - obspy.clients.fdsn.mass_downloader - INFO: Client 'GEONET' - Downloaded 0.0 MB [2.51 KB/sec] of data, 0.0 MB of which were discarded afterwards.\n",
      "[2021-11-25 00:48:36,362] - obspy.clients.fdsn.mass_downloader - INFO: Client 'GEONET' - Status for 1 time intervals/channels after downloading: DOWNLOADED\n",
      "[2021-11-25 00:48:36,364] - obspy.clients.fdsn.mass_downloader - INFO: Client 'GEONET' - No station information to download.\n",
      "[2021-11-25 00:48:36,368] - obspy.clients.fdsn.mass_downloader - INFO: ============================== Final report\n",
      "[2021-11-25 00:48:36,369] - obspy.clients.fdsn.mass_downloader - INFO: 0 MiniSEED files [0.0 MB] already existed.\n",
      "[2021-11-25 00:48:36,369] - obspy.clients.fdsn.mass_downloader - INFO: 1 StationXML files [0.0 MB] already existed.\n",
      "[2021-11-25 00:48:36,370] - obspy.clients.fdsn.mass_downloader - INFO: Client 'GEONET' - Acquired 1 MiniSEED files [0.0 MB].\n",
      "[2021-11-25 00:48:36,370] - obspy.clients.fdsn.mass_downloader - INFO: Client 'GEONET' - Acquired 0 StationXML files [0.0 MB].\n",
      "[2021-11-25 00:48:36,370] - obspy.clients.fdsn.mass_downloader - INFO: Downloaded 0.0 MB in total.\n",
      "[2021-11-25 00:48:36,372] - obspy.clients.fdsn.mass_downloader - INFO: Initializing FDSN client(s) for GEONET.\n",
      "[2021-11-25 00:48:36,377] - obspy.clients.fdsn.mass_downloader - INFO: Successfully initialized 1 client(s): GEONET.\n",
      "[2021-11-25 00:48:36,378] - obspy.clients.fdsn.mass_downloader - INFO: Total acquired or preexisting stations: 0\n",
      "[2021-11-25 00:48:36,378] - obspy.clients.fdsn.mass_downloader - INFO: Client 'GEONET' - Requesting unreliable availability.\n"
     ]
    },
    {
     "name": "stdout",
     "output_type": "stream",
     "text": [
      "=================================================================\n",
      "Initiating mass download request.\n"
     ]
    },
    {
     "name": "stderr",
     "output_type": "stream",
     "text": [
      "[2021-11-25 00:48:36,943] - obspy.clients.fdsn.mass_downloader - INFO: Client 'GEONET' - Successfully requested availability (0.56 seconds)\n",
      "[2021-11-25 00:48:36,949] - obspy.clients.fdsn.mass_downloader - INFO: Client 'GEONET' - Found 1 stations (1 channels).\n",
      "[2021-11-25 00:48:36,953] - obspy.clients.fdsn.mass_downloader - INFO: Client 'GEONET' - Will attempt to download data from 1 stations.\n",
      "[2021-11-25 00:48:36,954] - obspy.clients.fdsn.mass_downloader - INFO: Client 'GEONET' - Status for 1 time intervals/channels before downloading: NEEDS_DOWNLOADING\n",
      "[2021-11-25 00:48:37,869] - obspy.clients.fdsn.mass_downloader - INFO: Client 'GEONET' - Successfully downloaded 1 channels (of 1)\n",
      "[2021-11-25 00:48:37,876] - obspy.clients.fdsn.mass_downloader - INFO: Client 'GEONET' - Launching basic QC checks...\n",
      "[2021-11-25 00:48:37,881] - obspy.clients.fdsn.mass_downloader - INFO: Client 'GEONET' - Downloaded 0.0 MB [3.81 KB/sec] of data, 0.0 MB of which were discarded afterwards.\n",
      "[2021-11-25 00:48:37,881] - obspy.clients.fdsn.mass_downloader - INFO: Client 'GEONET' - Status for 1 time intervals/channels after downloading: DOWNLOADED\n",
      "[2021-11-25 00:48:37,883] - obspy.clients.fdsn.mass_downloader - INFO: Client 'GEONET' - No station information to download.\n",
      "[2021-11-25 00:48:37,883] - obspy.clients.fdsn.mass_downloader - INFO: ============================== Final report\n",
      "[2021-11-25 00:48:37,884] - obspy.clients.fdsn.mass_downloader - INFO: 0 MiniSEED files [0.0 MB] already existed.\n",
      "[2021-11-25 00:48:37,884] - obspy.clients.fdsn.mass_downloader - INFO: 1 StationXML files [0.0 MB] already existed.\n",
      "[2021-11-25 00:48:37,884] - obspy.clients.fdsn.mass_downloader - INFO: Client 'GEONET' - Acquired 1 MiniSEED files [0.0 MB].\n",
      "[2021-11-25 00:48:37,887] - obspy.clients.fdsn.mass_downloader - INFO: Client 'GEONET' - Acquired 0 StationXML files [0.0 MB].\n",
      "[2021-11-25 00:48:37,887] - obspy.clients.fdsn.mass_downloader - INFO: Downloaded 0.0 MB in total.\n",
      "[2021-11-25 00:48:37,890] - obspy.clients.fdsn.mass_downloader - INFO: Initializing FDSN client(s) for GEONET.\n",
      "[2021-11-25 00:48:37,894] - obspy.clients.fdsn.mass_downloader - INFO: Successfully initialized 1 client(s): GEONET.\n",
      "[2021-11-25 00:48:37,895] - obspy.clients.fdsn.mass_downloader - INFO: Total acquired or preexisting stations: 0\n",
      "[2021-11-25 00:48:37,896] - obspy.clients.fdsn.mass_downloader - INFO: Client 'GEONET' - Requesting unreliable availability.\n"
     ]
    },
    {
     "name": "stdout",
     "output_type": "stream",
     "text": [
      "=================================================================\n",
      "Initiating mass download request.\n"
     ]
    },
    {
     "name": "stderr",
     "output_type": "stream",
     "text": [
      "[2021-11-25 00:48:38,485] - obspy.clients.fdsn.mass_downloader - INFO: Client 'GEONET' - Successfully requested availability (0.59 seconds)\n",
      "[2021-11-25 00:48:38,491] - obspy.clients.fdsn.mass_downloader - INFO: Client 'GEONET' - Found 1 stations (1 channels).\n",
      "[2021-11-25 00:48:38,492] - obspy.clients.fdsn.mass_downloader - INFO: Client 'GEONET' - Will attempt to download data from 1 stations.\n",
      "[2021-11-25 00:48:38,499] - obspy.clients.fdsn.mass_downloader - INFO: Client 'GEONET' - Status for 1 time intervals/channels before downloading: NEEDS_DOWNLOADING\n",
      "[2021-11-25 00:48:39,306] - obspy.clients.fdsn.mass_downloader - INFO: Client 'GEONET' - Successfully downloaded 1 channels (of 1)\n",
      "[2021-11-25 00:48:39,308] - obspy.clients.fdsn.mass_downloader - INFO: Client 'GEONET' - Launching basic QC checks...\n",
      "[2021-11-25 00:48:39,316] - obspy.clients.fdsn.mass_downloader - INFO: Client 'GEONET' - Downloaded 0.0 MB [3.72 KB/sec] of data, 0.0 MB of which were discarded afterwards.\n",
      "[2021-11-25 00:48:39,317] - obspy.clients.fdsn.mass_downloader - INFO: Client 'GEONET' - Status for 1 time intervals/channels after downloading: DOWNLOADED\n",
      "[2021-11-25 00:48:39,319] - obspy.clients.fdsn.mass_downloader - INFO: Client 'GEONET' - No station information to download.\n",
      "[2021-11-25 00:48:39,320] - obspy.clients.fdsn.mass_downloader - INFO: ============================== Final report\n",
      "[2021-11-25 00:48:39,321] - obspy.clients.fdsn.mass_downloader - INFO: 0 MiniSEED files [0.0 MB] already existed.\n",
      "[2021-11-25 00:48:39,321] - obspy.clients.fdsn.mass_downloader - INFO: 1 StationXML files [0.0 MB] already existed.\n",
      "[2021-11-25 00:48:39,321] - obspy.clients.fdsn.mass_downloader - INFO: Client 'GEONET' - Acquired 1 MiniSEED files [0.0 MB].\n",
      "[2021-11-25 00:48:39,322] - obspy.clients.fdsn.mass_downloader - INFO: Client 'GEONET' - Acquired 0 StationXML files [0.0 MB].\n",
      "[2021-11-25 00:48:39,322] - obspy.clients.fdsn.mass_downloader - INFO: Downloaded 0.0 MB in total.\n",
      "[2021-11-25 00:48:39,328] - obspy.clients.fdsn.mass_downloader - INFO: Initializing FDSN client(s) for GEONET.\n",
      "[2021-11-25 00:48:39,331] - obspy.clients.fdsn.mass_downloader - INFO: Successfully initialized 1 client(s): GEONET.\n",
      "[2021-11-25 00:48:39,332] - obspy.clients.fdsn.mass_downloader - INFO: Total acquired or preexisting stations: 0\n",
      "[2021-11-25 00:48:39,332] - obspy.clients.fdsn.mass_downloader - INFO: Client 'GEONET' - Requesting unreliable availability.\n"
     ]
    },
    {
     "name": "stdout",
     "output_type": "stream",
     "text": [
      "=================================================================\n",
      "Initiating mass download request.\n"
     ]
    },
    {
     "name": "stderr",
     "output_type": "stream",
     "text": [
      "[2021-11-25 00:48:39,911] - obspy.clients.fdsn.mass_downloader - INFO: Client 'GEONET' - Successfully requested availability (0.58 seconds)\n",
      "[2021-11-25 00:48:39,913] - obspy.clients.fdsn.mass_downloader - INFO: Client 'GEONET' - Found 1 stations (1 channels).\n",
      "[2021-11-25 00:48:39,913] - obspy.clients.fdsn.mass_downloader - INFO: Client 'GEONET' - Will attempt to download data from 1 stations.\n",
      "[2021-11-25 00:48:39,914] - obspy.clients.fdsn.mass_downloader - INFO: Client 'GEONET' - Status for 1 time intervals/channels before downloading: NEEDS_DOWNLOADING\n",
      "[2021-11-25 00:48:40,823] - obspy.clients.fdsn.mass_downloader - INFO: Client 'GEONET' - Successfully downloaded 1 channels (of 1)\n",
      "[2021-11-25 00:48:40,831] - obspy.clients.fdsn.mass_downloader - INFO: Client 'GEONET' - Launching basic QC checks...\n",
      "[2021-11-25 00:48:40,840] - obspy.clients.fdsn.mass_downloader - INFO: Client 'GEONET' - Downloaded 0.0 MB [4.91 KB/sec] of data, 0.0 MB of which were discarded afterwards.\n",
      "[2021-11-25 00:48:40,840] - obspy.clients.fdsn.mass_downloader - INFO: Client 'GEONET' - Status for 1 time intervals/channels after downloading: DOWNLOADED\n",
      "[2021-11-25 00:48:40,847] - obspy.clients.fdsn.mass_downloader - INFO: Client 'GEONET' - No station information to download.\n",
      "[2021-11-25 00:48:40,847] - obspy.clients.fdsn.mass_downloader - INFO: ============================== Final report\n",
      "[2021-11-25 00:48:40,848] - obspy.clients.fdsn.mass_downloader - INFO: 0 MiniSEED files [0.0 MB] already existed.\n",
      "[2021-11-25 00:48:40,848] - obspy.clients.fdsn.mass_downloader - INFO: 1 StationXML files [0.0 MB] already existed.\n",
      "[2021-11-25 00:48:40,848] - obspy.clients.fdsn.mass_downloader - INFO: Client 'GEONET' - Acquired 1 MiniSEED files [0.0 MB].\n",
      "[2021-11-25 00:48:40,849] - obspy.clients.fdsn.mass_downloader - INFO: Client 'GEONET' - Acquired 0 StationXML files [0.0 MB].\n",
      "[2021-11-25 00:48:40,849] - obspy.clients.fdsn.mass_downloader - INFO: Downloaded 0.0 MB in total.\n",
      "[2021-11-25 00:48:40,851] - obspy.clients.fdsn.mass_downloader - INFO: Initializing FDSN client(s) for GEONET.\n",
      "[2021-11-25 00:48:40,854] - obspy.clients.fdsn.mass_downloader - INFO: Successfully initialized 1 client(s): GEONET.\n",
      "[2021-11-25 00:48:40,855] - obspy.clients.fdsn.mass_downloader - INFO: Total acquired or preexisting stations: 0\n",
      "[2021-11-25 00:48:40,855] - obspy.clients.fdsn.mass_downloader - INFO: Client 'GEONET' - Requesting unreliable availability.\n"
     ]
    },
    {
     "name": "stdout",
     "output_type": "stream",
     "text": [
      "=================================================================\n",
      "Initiating mass download request.\n"
     ]
    },
    {
     "name": "stderr",
     "output_type": "stream",
     "text": [
      "[2021-11-25 00:48:41,486] - obspy.clients.fdsn.mass_downloader - INFO: Client 'GEONET' - Successfully requested availability (0.63 seconds)\n",
      "[2021-11-25 00:48:41,488] - obspy.clients.fdsn.mass_downloader - INFO: Client 'GEONET' - Found 1 stations (1 channels).\n",
      "[2021-11-25 00:48:41,488] - obspy.clients.fdsn.mass_downloader - INFO: Client 'GEONET' - Will attempt to download data from 1 stations.\n",
      "[2021-11-25 00:48:41,488] - obspy.clients.fdsn.mass_downloader - INFO: Client 'GEONET' - Status for 1 time intervals/channels before downloading: NEEDS_DOWNLOADING\n",
      "[2021-11-25 00:48:42,417] - obspy.clients.fdsn.mass_downloader - INFO: Client 'GEONET' - Successfully downloaded 1 channels (of 1)\n",
      "[2021-11-25 00:48:42,419] - obspy.clients.fdsn.mass_downloader - INFO: Client 'GEONET' - Launching basic QC checks...\n",
      "[2021-11-25 00:48:42,425] - obspy.clients.fdsn.mass_downloader - INFO: Client 'GEONET' - Downloaded 0.0 MB [4.85 KB/sec] of data, 0.0 MB of which were discarded afterwards.\n",
      "[2021-11-25 00:48:42,425] - obspy.clients.fdsn.mass_downloader - INFO: Client 'GEONET' - Status for 1 time intervals/channels after downloading: DOWNLOADED\n",
      "[2021-11-25 00:48:42,427] - obspy.clients.fdsn.mass_downloader - INFO: Client 'GEONET' - No station information to download.\n",
      "[2021-11-25 00:48:42,427] - obspy.clients.fdsn.mass_downloader - INFO: ============================== Final report\n",
      "[2021-11-25 00:48:42,428] - obspy.clients.fdsn.mass_downloader - INFO: 0 MiniSEED files [0.0 MB] already existed.\n",
      "[2021-11-25 00:48:42,428] - obspy.clients.fdsn.mass_downloader - INFO: 1 StationXML files [0.0 MB] already existed.\n",
      "[2021-11-25 00:48:42,428] - obspy.clients.fdsn.mass_downloader - INFO: Client 'GEONET' - Acquired 1 MiniSEED files [0.0 MB].\n",
      "[2021-11-25 00:48:42,428] - obspy.clients.fdsn.mass_downloader - INFO: Client 'GEONET' - Acquired 0 StationXML files [0.0 MB].\n",
      "[2021-11-25 00:48:42,429] - obspy.clients.fdsn.mass_downloader - INFO: Downloaded 0.0 MB in total.\n",
      "[2021-11-25 00:48:42,434] - obspy.clients.fdsn.mass_downloader - INFO: Initializing FDSN client(s) for GEONET.\n",
      "[2021-11-25 00:48:42,437] - obspy.clients.fdsn.mass_downloader - INFO: Successfully initialized 1 client(s): GEONET.\n",
      "[2021-11-25 00:48:42,438] - obspy.clients.fdsn.mass_downloader - INFO: Total acquired or preexisting stations: 0\n",
      "[2021-11-25 00:48:42,439] - obspy.clients.fdsn.mass_downloader - INFO: Client 'GEONET' - Requesting unreliable availability.\n"
     ]
    },
    {
     "name": "stdout",
     "output_type": "stream",
     "text": [
      "=================================================================\n",
      "Initiating mass download request.\n"
     ]
    },
    {
     "name": "stderr",
     "output_type": "stream",
     "text": [
      "[2021-11-25 00:48:42,991] - obspy.clients.fdsn.mass_downloader - INFO: Client 'GEONET' - Successfully requested availability (0.55 seconds)\n",
      "[2021-11-25 00:48:42,994] - obspy.clients.fdsn.mass_downloader - INFO: Client 'GEONET' - Found 1 stations (1 channels).\n",
      "[2021-11-25 00:48:42,995] - obspy.clients.fdsn.mass_downloader - INFO: Client 'GEONET' - Will attempt to download data from 1 stations.\n",
      "[2021-11-25 00:48:42,996] - obspy.clients.fdsn.mass_downloader - INFO: Client 'GEONET' - Status for 1 time intervals/channels before downloading: NEEDS_DOWNLOADING\n",
      "[2021-11-25 00:48:43,871] - obspy.clients.fdsn.mass_downloader - INFO: Client 'GEONET' - Successfully downloaded 1 channels (of 1)\n",
      "[2021-11-25 00:48:43,882] - obspy.clients.fdsn.mass_downloader - INFO: Client 'GEONET' - Launching basic QC checks...\n",
      "[2021-11-25 00:48:43,903] - obspy.clients.fdsn.mass_downloader - INFO: Client 'GEONET' - Downloaded 0.0 MB [3.97 KB/sec] of data, 0.0 MB of which were discarded afterwards.\n",
      "[2021-11-25 00:48:43,907] - obspy.clients.fdsn.mass_downloader - INFO: Client 'GEONET' - Status for 1 time intervals/channels after downloading: DOWNLOADED\n",
      "[2021-11-25 00:48:43,914] - obspy.clients.fdsn.mass_downloader - INFO: Client 'GEONET' - No station information to download.\n",
      "[2021-11-25 00:48:43,915] - obspy.clients.fdsn.mass_downloader - INFO: ============================== Final report\n",
      "[2021-11-25 00:48:43,916] - obspy.clients.fdsn.mass_downloader - INFO: 0 MiniSEED files [0.0 MB] already existed.\n",
      "[2021-11-25 00:48:43,917] - obspy.clients.fdsn.mass_downloader - INFO: 1 StationXML files [0.0 MB] already existed.\n",
      "[2021-11-25 00:48:43,920] - obspy.clients.fdsn.mass_downloader - INFO: Client 'GEONET' - Acquired 1 MiniSEED files [0.0 MB].\n",
      "[2021-11-25 00:48:43,922] - obspy.clients.fdsn.mass_downloader - INFO: Client 'GEONET' - Acquired 0 StationXML files [0.0 MB].\n",
      "[2021-11-25 00:48:43,924] - obspy.clients.fdsn.mass_downloader - INFO: Downloaded 0.0 MB in total.\n",
      "[2021-11-25 00:48:43,934] - obspy.clients.fdsn.mass_downloader - INFO: Initializing FDSN client(s) for GEONET.\n",
      "[2021-11-25 00:48:43,939] - obspy.clients.fdsn.mass_downloader - INFO: Successfully initialized 1 client(s): GEONET.\n",
      "[2021-11-25 00:48:43,940] - obspy.clients.fdsn.mass_downloader - INFO: Total acquired or preexisting stations: 0\n",
      "[2021-11-25 00:48:43,941] - obspy.clients.fdsn.mass_downloader - INFO: Client 'GEONET' - Requesting unreliable availability.\n"
     ]
    },
    {
     "name": "stdout",
     "output_type": "stream",
     "text": [
      "=================================================================\n",
      "Initiating mass download request.\n"
     ]
    },
    {
     "name": "stderr",
     "output_type": "stream",
     "text": [
      "[2021-11-25 00:48:44,643] - obspy.clients.fdsn.mass_downloader - INFO: Client 'GEONET' - Successfully requested availability (0.70 seconds)\n",
      "[2021-11-25 00:48:44,672] - obspy.clients.fdsn.mass_downloader - INFO: Client 'GEONET' - Found 1 stations (1 channels).\n",
      "[2021-11-25 00:48:44,674] - obspy.clients.fdsn.mass_downloader - INFO: Client 'GEONET' - Will attempt to download data from 1 stations.\n",
      "[2021-11-25 00:48:44,679] - obspy.clients.fdsn.mass_downloader - INFO: Client 'GEONET' - Status for 1 time intervals/channels before downloading: NEEDS_DOWNLOADING\n",
      "[2021-11-25 00:48:45,537] - obspy.clients.fdsn.mass_downloader - INFO: Client 'GEONET' - Successfully downloaded 1 channels (of 1)\n",
      "[2021-11-25 00:48:45,544] - obspy.clients.fdsn.mass_downloader - INFO: Client 'GEONET' - Launching basic QC checks...\n",
      "[2021-11-25 00:48:45,563] - obspy.clients.fdsn.mass_downloader - INFO: Client 'GEONET' - Downloaded 0.0 MB [4.76 KB/sec] of data, 0.0 MB of which were discarded afterwards.\n",
      "[2021-11-25 00:48:45,564] - obspy.clients.fdsn.mass_downloader - INFO: Client 'GEONET' - Status for 1 time intervals/channels after downloading: DOWNLOADED\n",
      "[2021-11-25 00:48:45,580] - obspy.clients.fdsn.mass_downloader - INFO: Client 'GEONET' - No station information to download.\n",
      "[2021-11-25 00:48:45,582] - obspy.clients.fdsn.mass_downloader - INFO: ============================== Final report\n",
      "[2021-11-25 00:48:45,583] - obspy.clients.fdsn.mass_downloader - INFO: 0 MiniSEED files [0.0 MB] already existed.\n",
      "[2021-11-25 00:48:45,584] - obspy.clients.fdsn.mass_downloader - INFO: 1 StationXML files [0.0 MB] already existed.\n",
      "[2021-11-25 00:48:45,585] - obspy.clients.fdsn.mass_downloader - INFO: Client 'GEONET' - Acquired 1 MiniSEED files [0.0 MB].\n",
      "[2021-11-25 00:48:45,585] - obspy.clients.fdsn.mass_downloader - INFO: Client 'GEONET' - Acquired 0 StationXML files [0.0 MB].\n",
      "[2021-11-25 00:48:45,585] - obspy.clients.fdsn.mass_downloader - INFO: Downloaded 0.0 MB in total.\n",
      "[2021-11-25 00:48:45,592] - obspy.clients.fdsn.mass_downloader - INFO: Initializing FDSN client(s) for GEONET.\n",
      "[2021-11-25 00:48:45,605] - obspy.clients.fdsn.mass_downloader - INFO: Successfully initialized 1 client(s): GEONET.\n",
      "[2021-11-25 00:48:45,608] - obspy.clients.fdsn.mass_downloader - INFO: Total acquired or preexisting stations: 0\n",
      "[2021-11-25 00:48:45,609] - obspy.clients.fdsn.mass_downloader - INFO: Client 'GEONET' - Requesting unreliable availability.\n"
     ]
    },
    {
     "name": "stdout",
     "output_type": "stream",
     "text": [
      "=================================================================\n",
      "Initiating mass download request.\n"
     ]
    },
    {
     "name": "stderr",
     "output_type": "stream",
     "text": [
      "[2021-11-25 00:48:46,264] - obspy.clients.fdsn.mass_downloader - INFO: Client 'GEONET' - Successfully requested availability (0.65 seconds)\n",
      "[2021-11-25 00:48:46,265] - obspy.clients.fdsn.mass_downloader - INFO: Client 'GEONET' - Found 1 stations (1 channels).\n",
      "[2021-11-25 00:48:46,266] - obspy.clients.fdsn.mass_downloader - INFO: Client 'GEONET' - Will attempt to download data from 1 stations.\n",
      "[2021-11-25 00:48:46,267] - obspy.clients.fdsn.mass_downloader - INFO: Client 'GEONET' - Status for 1 time intervals/channels before downloading: NEEDS_DOWNLOADING\n",
      "[2021-11-25 00:48:47,251] - obspy.clients.fdsn.mass_downloader - INFO: Client 'GEONET' - Successfully downloaded 1 channels (of 1)\n",
      "[2021-11-25 00:48:47,272] - obspy.clients.fdsn.mass_downloader - INFO: Client 'GEONET' - Launching basic QC checks...\n",
      "[2021-11-25 00:48:47,286] - obspy.clients.fdsn.mass_downloader - INFO: Client 'GEONET' - Downloaded 0.0 MB [3.49 KB/sec] of data, 0.0 MB of which were discarded afterwards.\n",
      "[2021-11-25 00:48:47,291] - obspy.clients.fdsn.mass_downloader - INFO: Client 'GEONET' - Status for 1 time intervals/channels after downloading: DOWNLOADED\n",
      "[2021-11-25 00:48:47,308] - obspy.clients.fdsn.mass_downloader - INFO: Client 'GEONET' - No station information to download.\n",
      "[2021-11-25 00:48:47,309] - obspy.clients.fdsn.mass_downloader - INFO: ============================== Final report\n",
      "[2021-11-25 00:48:47,310] - obspy.clients.fdsn.mass_downloader - INFO: 0 MiniSEED files [0.0 MB] already existed.\n",
      "[2021-11-25 00:48:47,310] - obspy.clients.fdsn.mass_downloader - INFO: 1 StationXML files [0.0 MB] already existed.\n",
      "[2021-11-25 00:48:47,311] - obspy.clients.fdsn.mass_downloader - INFO: Client 'GEONET' - Acquired 1 MiniSEED files [0.0 MB].\n",
      "[2021-11-25 00:48:47,311] - obspy.clients.fdsn.mass_downloader - INFO: Client 'GEONET' - Acquired 0 StationXML files [0.0 MB].\n",
      "[2021-11-25 00:48:47,311] - obspy.clients.fdsn.mass_downloader - INFO: Downloaded 0.0 MB in total.\n",
      "[2021-11-25 00:48:47,318] - obspy.clients.fdsn.mass_downloader - INFO: Initializing FDSN client(s) for GEONET.\n",
      "[2021-11-25 00:48:47,332] - obspy.clients.fdsn.mass_downloader - INFO: Successfully initialized 1 client(s): GEONET.\n",
      "[2021-11-25 00:48:47,333] - obspy.clients.fdsn.mass_downloader - INFO: Total acquired or preexisting stations: 0\n",
      "[2021-11-25 00:48:47,334] - obspy.clients.fdsn.mass_downloader - INFO: Client 'GEONET' - Requesting unreliable availability.\n"
     ]
    },
    {
     "name": "stdout",
     "output_type": "stream",
     "text": [
      "=================================================================\n",
      "Initiating mass download request.\n"
     ]
    },
    {
     "name": "stderr",
     "output_type": "stream",
     "text": [
      "[2021-11-25 00:48:47,963] - obspy.clients.fdsn.mass_downloader - INFO: Client 'GEONET' - Successfully requested availability (0.63 seconds)\n",
      "[2021-11-25 00:48:47,965] - obspy.clients.fdsn.mass_downloader - INFO: Client 'GEONET' - Found 1 stations (1 channels).\n",
      "[2021-11-25 00:48:47,966] - obspy.clients.fdsn.mass_downloader - INFO: Client 'GEONET' - Will attempt to download data from 1 stations.\n",
      "[2021-11-25 00:48:47,969] - obspy.clients.fdsn.mass_downloader - INFO: Client 'GEONET' - Status for 1 time intervals/channels before downloading: NEEDS_DOWNLOADING\n",
      "[2021-11-25 00:48:48,807] - obspy.clients.fdsn.mass_downloader - INFO: Client 'GEONET' - Successfully downloaded 1 channels (of 1)\n",
      "[2021-11-25 00:48:48,809] - obspy.clients.fdsn.mass_downloader - INFO: Client 'GEONET' - Launching basic QC checks...\n",
      "[2021-11-25 00:48:48,814] - obspy.clients.fdsn.mass_downloader - INFO: Client 'GEONET' - Downloaded 0.0 MB [4.18 KB/sec] of data, 0.0 MB of which were discarded afterwards.\n",
      "[2021-11-25 00:48:48,815] - obspy.clients.fdsn.mass_downloader - INFO: Client 'GEONET' - Status for 1 time intervals/channels after downloading: DOWNLOADED\n",
      "[2021-11-25 00:48:48,817] - obspy.clients.fdsn.mass_downloader - INFO: Client 'GEONET' - No station information to download.\n",
      "[2021-11-25 00:48:48,818] - obspy.clients.fdsn.mass_downloader - INFO: ============================== Final report\n",
      "[2021-11-25 00:48:48,818] - obspy.clients.fdsn.mass_downloader - INFO: 0 MiniSEED files [0.0 MB] already existed.\n",
      "[2021-11-25 00:48:48,818] - obspy.clients.fdsn.mass_downloader - INFO: 1 StationXML files [0.0 MB] already existed.\n",
      "[2021-11-25 00:48:48,819] - obspy.clients.fdsn.mass_downloader - INFO: Client 'GEONET' - Acquired 1 MiniSEED files [0.0 MB].\n",
      "[2021-11-25 00:48:48,819] - obspy.clients.fdsn.mass_downloader - INFO: Client 'GEONET' - Acquired 0 StationXML files [0.0 MB].\n",
      "[2021-11-25 00:48:48,819] - obspy.clients.fdsn.mass_downloader - INFO: Downloaded 0.0 MB in total.\n",
      "[2021-11-25 00:48:48,825] - obspy.clients.fdsn.mass_downloader - INFO: Initializing FDSN client(s) for GEONET.\n",
      "[2021-11-25 00:48:48,829] - obspy.clients.fdsn.mass_downloader - INFO: Successfully initialized 1 client(s): GEONET.\n",
      "[2021-11-25 00:48:48,829] - obspy.clients.fdsn.mass_downloader - INFO: Total acquired or preexisting stations: 0\n",
      "[2021-11-25 00:48:48,829] - obspy.clients.fdsn.mass_downloader - INFO: Client 'GEONET' - Requesting unreliable availability.\n"
     ]
    },
    {
     "name": "stdout",
     "output_type": "stream",
     "text": [
      "=================================================================\n",
      "Initiating mass download request.\n"
     ]
    },
    {
     "name": "stderr",
     "output_type": "stream",
     "text": [
      "[2021-11-25 00:48:49,456] - obspy.clients.fdsn.mass_downloader - INFO: Client 'GEONET' - Successfully requested availability (0.63 seconds)\n",
      "[2021-11-25 00:48:49,458] - obspy.clients.fdsn.mass_downloader - INFO: Client 'GEONET' - Found 1 stations (1 channels).\n",
      "[2021-11-25 00:48:49,458] - obspy.clients.fdsn.mass_downloader - INFO: Client 'GEONET' - Will attempt to download data from 1 stations.\n",
      "[2021-11-25 00:48:49,459] - obspy.clients.fdsn.mass_downloader - INFO: Client 'GEONET' - Status for 1 time intervals/channels before downloading: NEEDS_DOWNLOADING\n",
      "[2021-11-25 00:48:50,327] - obspy.clients.fdsn.mass_downloader - INFO: Client 'GEONET' - Successfully downloaded 1 channels (of 1)\n",
      "[2021-11-25 00:48:50,332] - obspy.clients.fdsn.mass_downloader - INFO: Client 'GEONET' - Launching basic QC checks...\n",
      "[2021-11-25 00:48:50,339] - obspy.clients.fdsn.mass_downloader - INFO: Client 'GEONET' - Downloaded 0.0 MB [4.02 KB/sec] of data, 0.0 MB of which were discarded afterwards.\n",
      "[2021-11-25 00:48:50,339] - obspy.clients.fdsn.mass_downloader - INFO: Client 'GEONET' - Status for 1 time intervals/channels after downloading: DOWNLOADED\n",
      "[2021-11-25 00:48:50,346] - obspy.clients.fdsn.mass_downloader - INFO: Client 'GEONET' - No station information to download.\n",
      "[2021-11-25 00:48:50,349] - obspy.clients.fdsn.mass_downloader - INFO: ============================== Final report\n",
      "[2021-11-25 00:48:50,349] - obspy.clients.fdsn.mass_downloader - INFO: 0 MiniSEED files [0.0 MB] already existed.\n",
      "[2021-11-25 00:48:50,350] - obspy.clients.fdsn.mass_downloader - INFO: 1 StationXML files [0.0 MB] already existed.\n",
      "[2021-11-25 00:48:50,350] - obspy.clients.fdsn.mass_downloader - INFO: Client 'GEONET' - Acquired 1 MiniSEED files [0.0 MB].\n",
      "[2021-11-25 00:48:50,350] - obspy.clients.fdsn.mass_downloader - INFO: Client 'GEONET' - Acquired 0 StationXML files [0.0 MB].\n",
      "[2021-11-25 00:48:50,351] - obspy.clients.fdsn.mass_downloader - INFO: Downloaded 0.0 MB in total.\n",
      "[2021-11-25 00:48:50,353] - obspy.clients.fdsn.mass_downloader - INFO: Initializing FDSN client(s) for GEONET.\n",
      "[2021-11-25 00:48:50,359] - obspy.clients.fdsn.mass_downloader - INFO: Successfully initialized 1 client(s): GEONET.\n",
      "[2021-11-25 00:48:50,360] - obspy.clients.fdsn.mass_downloader - INFO: Total acquired or preexisting stations: 0\n",
      "[2021-11-25 00:48:50,360] - obspy.clients.fdsn.mass_downloader - INFO: Client 'GEONET' - Requesting unreliable availability.\n"
     ]
    },
    {
     "name": "stdout",
     "output_type": "stream",
     "text": [
      "=================================================================\n",
      "Initiating mass download request.\n"
     ]
    },
    {
     "name": "stderr",
     "output_type": "stream",
     "text": [
      "[2021-11-25 00:48:51,472] - obspy.clients.fdsn.mass_downloader - INFO: Client 'GEONET' - Successfully requested availability (1.11 seconds)\n",
      "[2021-11-25 00:48:51,480] - obspy.clients.fdsn.mass_downloader - INFO: Client 'GEONET' - Found 1 stations (1 channels).\n",
      "[2021-11-25 00:48:51,493] - obspy.clients.fdsn.mass_downloader - INFO: Client 'GEONET' - Will attempt to download data from 1 stations.\n",
      "[2021-11-25 00:48:51,508] - obspy.clients.fdsn.mass_downloader - INFO: Client 'GEONET' - Status for 1 time intervals/channels before downloading: NEEDS_DOWNLOADING\n",
      "[2021-11-25 00:48:52,569] - obspy.clients.fdsn.mass_downloader - INFO: Client 'GEONET' - Successfully downloaded 1 channels (of 1)\n",
      "[2021-11-25 00:48:52,583] - obspy.clients.fdsn.mass_downloader - INFO: Client 'GEONET' - Launching basic QC checks...\n",
      "[2021-11-25 00:48:52,599] - obspy.clients.fdsn.mass_downloader - INFO: Client 'GEONET' - Downloaded 0.0 MB [3.75 KB/sec] of data, 0.0 MB of which were discarded afterwards.\n",
      "[2021-11-25 00:48:52,601] - obspy.clients.fdsn.mass_downloader - INFO: Client 'GEONET' - Status for 1 time intervals/channels after downloading: DOWNLOADED\n",
      "[2021-11-25 00:48:52,608] - obspy.clients.fdsn.mass_downloader - INFO: Client 'GEONET' - No station information to download.\n",
      "[2021-11-25 00:48:52,609] - obspy.clients.fdsn.mass_downloader - INFO: ============================== Final report\n",
      "[2021-11-25 00:48:52,610] - obspy.clients.fdsn.mass_downloader - INFO: 0 MiniSEED files [0.0 MB] already existed.\n",
      "[2021-11-25 00:48:52,611] - obspy.clients.fdsn.mass_downloader - INFO: 1 StationXML files [0.0 MB] already existed.\n",
      "[2021-11-25 00:48:52,612] - obspy.clients.fdsn.mass_downloader - INFO: Client 'GEONET' - Acquired 1 MiniSEED files [0.0 MB].\n",
      "[2021-11-25 00:48:52,613] - obspy.clients.fdsn.mass_downloader - INFO: Client 'GEONET' - Acquired 0 StationXML files [0.0 MB].\n",
      "[2021-11-25 00:48:52,613] - obspy.clients.fdsn.mass_downloader - INFO: Downloaded 0.0 MB in total.\n",
      "[2021-11-25 00:48:52,619] - obspy.clients.fdsn.mass_downloader - INFO: Initializing FDSN client(s) for GEONET.\n",
      "[2021-11-25 00:48:52,625] - obspy.clients.fdsn.mass_downloader - INFO: Successfully initialized 1 client(s): GEONET.\n",
      "[2021-11-25 00:48:52,628] - obspy.clients.fdsn.mass_downloader - INFO: Total acquired or preexisting stations: 0\n",
      "[2021-11-25 00:48:52,629] - obspy.clients.fdsn.mass_downloader - INFO: Client 'GEONET' - Requesting unreliable availability.\n"
     ]
    },
    {
     "name": "stdout",
     "output_type": "stream",
     "text": [
      "=================================================================\n",
      "Initiating mass download request.\n"
     ]
    },
    {
     "name": "stderr",
     "output_type": "stream",
     "text": [
      "[2021-11-25 00:48:53,236] - obspy.clients.fdsn.mass_downloader - INFO: Client 'GEONET' - Successfully requested availability (0.61 seconds)\n",
      "[2021-11-25 00:48:53,238] - obspy.clients.fdsn.mass_downloader - INFO: Client 'GEONET' - Found 1 stations (1 channels).\n",
      "[2021-11-25 00:48:53,238] - obspy.clients.fdsn.mass_downloader - INFO: Client 'GEONET' - Will attempt to download data from 1 stations.\n",
      "[2021-11-25 00:48:53,239] - obspy.clients.fdsn.mass_downloader - INFO: Client 'GEONET' - Status for 1 time intervals/channels before downloading: NEEDS_DOWNLOADING\n",
      "[2021-11-25 00:48:54,084] - obspy.clients.fdsn.mass_downloader - INFO: Client 'GEONET' - Successfully downloaded 1 channels (of 1)\n",
      "[2021-11-25 00:48:54,086] - obspy.clients.fdsn.mass_downloader - INFO: Client 'GEONET' - Launching basic QC checks...\n",
      "[2021-11-25 00:48:54,093] - obspy.clients.fdsn.mass_downloader - INFO: Client 'GEONET' - Downloaded 0.0 MB [4.14 KB/sec] of data, 0.0 MB of which were discarded afterwards.\n",
      "[2021-11-25 00:48:54,094] - obspy.clients.fdsn.mass_downloader - INFO: Client 'GEONET' - Status for 1 time intervals/channels after downloading: DOWNLOADED\n",
      "[2021-11-25 00:48:54,096] - obspy.clients.fdsn.mass_downloader - INFO: Client 'GEONET' - No station information to download.\n",
      "[2021-11-25 00:48:54,097] - obspy.clients.fdsn.mass_downloader - INFO: ============================== Final report\n",
      "[2021-11-25 00:48:54,097] - obspy.clients.fdsn.mass_downloader - INFO: 0 MiniSEED files [0.0 MB] already existed.\n",
      "[2021-11-25 00:48:54,097] - obspy.clients.fdsn.mass_downloader - INFO: 1 StationXML files [0.0 MB] already existed.\n",
      "[2021-11-25 00:48:54,098] - obspy.clients.fdsn.mass_downloader - INFO: Client 'GEONET' - Acquired 1 MiniSEED files [0.0 MB].\n",
      "[2021-11-25 00:48:54,098] - obspy.clients.fdsn.mass_downloader - INFO: Client 'GEONET' - Acquired 0 StationXML files [0.0 MB].\n",
      "[2021-11-25 00:48:54,098] - obspy.clients.fdsn.mass_downloader - INFO: Downloaded 0.0 MB in total.\n",
      "[2021-11-25 00:48:54,105] - obspy.clients.fdsn.mass_downloader - INFO: Initializing FDSN client(s) for GEONET.\n",
      "[2021-11-25 00:48:54,111] - obspy.clients.fdsn.mass_downloader - INFO: Successfully initialized 1 client(s): GEONET.\n",
      "[2021-11-25 00:48:54,113] - obspy.clients.fdsn.mass_downloader - INFO: Total acquired or preexisting stations: 0\n",
      "[2021-11-25 00:48:54,113] - obspy.clients.fdsn.mass_downloader - INFO: Client 'GEONET' - Requesting unreliable availability.\n"
     ]
    },
    {
     "name": "stdout",
     "output_type": "stream",
     "text": [
      "=================================================================\n",
      "Initiating mass download request.\n"
     ]
    },
    {
     "name": "stderr",
     "output_type": "stream",
     "text": [
      "[2021-11-25 00:48:54,742] - obspy.clients.fdsn.mass_downloader - INFO: Client 'GEONET' - Successfully requested availability (0.63 seconds)\n",
      "[2021-11-25 00:48:54,743] - obspy.clients.fdsn.mass_downloader - INFO: Client 'GEONET' - Found 1 stations (1 channels).\n",
      "[2021-11-25 00:48:54,743] - obspy.clients.fdsn.mass_downloader - INFO: Client 'GEONET' - Will attempt to download data from 1 stations.\n",
      "[2021-11-25 00:48:54,743] - obspy.clients.fdsn.mass_downloader - INFO: Client 'GEONET' - Status for 1 time intervals/channels before downloading: NEEDS_DOWNLOADING\n",
      "[2021-11-25 00:48:55,909] - obspy.clients.fdsn.mass_downloader - INFO: Client 'GEONET' - Successfully downloaded 1 channels (of 1)\n",
      "[2021-11-25 00:48:55,912] - obspy.clients.fdsn.mass_downloader - INFO: Client 'GEONET' - Launching basic QC checks...\n",
      "[2021-11-25 00:48:55,918] - obspy.clients.fdsn.mass_downloader - INFO: Client 'GEONET' - Downloaded 0.0 MB [3.00 KB/sec] of data, 0.0 MB of which were discarded afterwards.\n",
      "[2021-11-25 00:48:55,919] - obspy.clients.fdsn.mass_downloader - INFO: Client 'GEONET' - Status for 1 time intervals/channels after downloading: DOWNLOADED\n",
      "[2021-11-25 00:48:55,921] - obspy.clients.fdsn.mass_downloader - INFO: Client 'GEONET' - No station information to download.\n",
      "[2021-11-25 00:48:55,924] - obspy.clients.fdsn.mass_downloader - INFO: ============================== Final report\n",
      "[2021-11-25 00:48:55,925] - obspy.clients.fdsn.mass_downloader - INFO: 0 MiniSEED files [0.0 MB] already existed.\n",
      "[2021-11-25 00:48:55,926] - obspy.clients.fdsn.mass_downloader - INFO: 1 StationXML files [0.0 MB] already existed.\n",
      "[2021-11-25 00:48:55,926] - obspy.clients.fdsn.mass_downloader - INFO: Client 'GEONET' - Acquired 1 MiniSEED files [0.0 MB].\n",
      "[2021-11-25 00:48:55,926] - obspy.clients.fdsn.mass_downloader - INFO: Client 'GEONET' - Acquired 0 StationXML files [0.0 MB].\n",
      "[2021-11-25 00:48:55,926] - obspy.clients.fdsn.mass_downloader - INFO: Downloaded 0.0 MB in total.\n",
      "[2021-11-25 00:48:55,929] - obspy.clients.fdsn.mass_downloader - INFO: Initializing FDSN client(s) for GEONET.\n",
      "[2021-11-25 00:48:55,933] - obspy.clients.fdsn.mass_downloader - INFO: Successfully initialized 1 client(s): GEONET.\n",
      "[2021-11-25 00:48:55,933] - obspy.clients.fdsn.mass_downloader - INFO: Total acquired or preexisting stations: 0\n",
      "[2021-11-25 00:48:55,934] - obspy.clients.fdsn.mass_downloader - INFO: Client 'GEONET' - Requesting unreliable availability.\n"
     ]
    },
    {
     "name": "stdout",
     "output_type": "stream",
     "text": [
      "=================================================================\n",
      "Initiating mass download request.\n"
     ]
    },
    {
     "name": "stderr",
     "output_type": "stream",
     "text": [
      "[2021-11-25 00:48:56,599] - obspy.clients.fdsn.mass_downloader - INFO: Client 'GEONET' - Successfully requested availability (0.66 seconds)\n",
      "[2021-11-25 00:48:56,600] - obspy.clients.fdsn.mass_downloader - INFO: Client 'GEONET' - Found 1 stations (1 channels).\n",
      "[2021-11-25 00:48:56,600] - obspy.clients.fdsn.mass_downloader - INFO: Client 'GEONET' - Will attempt to download data from 1 stations.\n",
      "[2021-11-25 00:48:56,601] - obspy.clients.fdsn.mass_downloader - INFO: Client 'GEONET' - Status for 1 time intervals/channels before downloading: NEEDS_DOWNLOADING\n",
      "[2021-11-25 00:48:58,290] - obspy.clients.fdsn.mass_downloader - INFO: Client 'GEONET' - Successfully downloaded 1 channels (of 1)\n",
      "[2021-11-25 00:48:58,298] - obspy.clients.fdsn.mass_downloader - INFO: Client 'GEONET' - Launching basic QC checks...\n",
      "[2021-11-25 00:48:58,311] - obspy.clients.fdsn.mass_downloader - INFO: Client 'GEONET' - Downloaded 0.0 MB [2.36 KB/sec] of data, 0.0 MB of which were discarded afterwards.\n",
      "[2021-11-25 00:48:58,312] - obspy.clients.fdsn.mass_downloader - INFO: Client 'GEONET' - Status for 1 time intervals/channels after downloading: DOWNLOADED\n",
      "[2021-11-25 00:48:58,317] - obspy.clients.fdsn.mass_downloader - INFO: Client 'GEONET' - No station information to download.\n",
      "[2021-11-25 00:48:58,319] - obspy.clients.fdsn.mass_downloader - INFO: ============================== Final report\n",
      "[2021-11-25 00:48:58,320] - obspy.clients.fdsn.mass_downloader - INFO: 0 MiniSEED files [0.0 MB] already existed.\n",
      "[2021-11-25 00:48:58,321] - obspy.clients.fdsn.mass_downloader - INFO: 1 StationXML files [0.0 MB] already existed.\n",
      "[2021-11-25 00:48:58,323] - obspy.clients.fdsn.mass_downloader - INFO: Client 'GEONET' - Acquired 1 MiniSEED files [0.0 MB].\n",
      "[2021-11-25 00:48:58,324] - obspy.clients.fdsn.mass_downloader - INFO: Client 'GEONET' - Acquired 0 StationXML files [0.0 MB].\n",
      "[2021-11-25 00:48:58,324] - obspy.clients.fdsn.mass_downloader - INFO: Downloaded 0.0 MB in total.\n",
      "[2021-11-25 00:48:58,331] - obspy.clients.fdsn.mass_downloader - INFO: Initializing FDSN client(s) for GEONET.\n",
      "[2021-11-25 00:48:58,352] - obspy.clients.fdsn.mass_downloader - INFO: Successfully initialized 1 client(s): GEONET.\n",
      "[2021-11-25 00:48:58,357] - obspy.clients.fdsn.mass_downloader - INFO: Total acquired or preexisting stations: 0\n",
      "[2021-11-25 00:48:58,359] - obspy.clients.fdsn.mass_downloader - INFO: Client 'GEONET' - Requesting unreliable availability.\n"
     ]
    },
    {
     "name": "stdout",
     "output_type": "stream",
     "text": [
      "=================================================================\n",
      "Initiating mass download request.\n"
     ]
    },
    {
     "name": "stderr",
     "output_type": "stream",
     "text": [
      "[2021-11-25 00:48:58,961] - obspy.clients.fdsn.mass_downloader - INFO: Client 'GEONET' - Successfully requested availability (0.60 seconds)\n",
      "[2021-11-25 00:48:58,962] - obspy.clients.fdsn.mass_downloader - INFO: Client 'GEONET' - Found 1 stations (1 channels).\n",
      "[2021-11-25 00:48:58,963] - obspy.clients.fdsn.mass_downloader - INFO: Client 'GEONET' - Will attempt to download data from 1 stations.\n",
      "[2021-11-25 00:48:58,964] - obspy.clients.fdsn.mass_downloader - INFO: Client 'GEONET' - Status for 1 time intervals/channels before downloading: NEEDS_DOWNLOADING\n",
      "[2021-11-25 00:48:59,961] - obspy.clients.fdsn.mass_downloader - INFO: Client 'GEONET' - Successfully downloaded 1 channels (of 1)\n",
      "[2021-11-25 00:48:59,977] - obspy.clients.fdsn.mass_downloader - INFO: Client 'GEONET' - Launching basic QC checks...\n",
      "[2021-11-25 00:48:59,998] - obspy.clients.fdsn.mass_downloader - INFO: Client 'GEONET' - Downloaded 0.0 MB [3.97 KB/sec] of data, 0.0 MB of which were discarded afterwards.\n",
      "[2021-11-25 00:49:00,000] - obspy.clients.fdsn.mass_downloader - INFO: Client 'GEONET' - Status for 1 time intervals/channels after downloading: DOWNLOADED\n",
      "[2021-11-25 00:49:00,010] - obspy.clients.fdsn.mass_downloader - INFO: Client 'GEONET' - No station information to download.\n",
      "[2021-11-25 00:49:00,013] - obspy.clients.fdsn.mass_downloader - INFO: ============================== Final report\n",
      "[2021-11-25 00:49:00,025] - obspy.clients.fdsn.mass_downloader - INFO: 0 MiniSEED files [0.0 MB] already existed.\n",
      "[2021-11-25 00:49:00,082] - obspy.clients.fdsn.mass_downloader - INFO: 1 StationXML files [0.0 MB] already existed.\n",
      "[2021-11-25 00:49:00,095] - obspy.clients.fdsn.mass_downloader - INFO: Client 'GEONET' - Acquired 1 MiniSEED files [0.0 MB].\n",
      "[2021-11-25 00:49:00,096] - obspy.clients.fdsn.mass_downloader - INFO: Client 'GEONET' - Acquired 0 StationXML files [0.0 MB].\n",
      "[2021-11-25 00:49:00,100] - obspy.clients.fdsn.mass_downloader - INFO: Downloaded 0.0 MB in total.\n",
      "[2021-11-25 00:49:00,188] - obspy.clients.fdsn.mass_downloader - INFO: Initializing FDSN client(s) for GEONET.\n",
      "[2021-11-25 00:49:00,211] - obspy.clients.fdsn.mass_downloader - INFO: Successfully initialized 1 client(s): GEONET.\n",
      "[2021-11-25 00:49:00,214] - obspy.clients.fdsn.mass_downloader - INFO: Total acquired or preexisting stations: 0\n",
      "[2021-11-25 00:49:00,216] - obspy.clients.fdsn.mass_downloader - INFO: Client 'GEONET' - Requesting unreliable availability.\n"
     ]
    },
    {
     "name": "stdout",
     "output_type": "stream",
     "text": [
      "=================================================================\n",
      "Initiating mass download request.\n"
     ]
    },
    {
     "name": "stderr",
     "output_type": "stream",
     "text": [
      "[2021-11-25 00:49:00,772] - obspy.clients.fdsn.mass_downloader - INFO: Client 'GEONET' - Successfully requested availability (0.55 seconds)\n",
      "[2021-11-25 00:49:00,774] - obspy.clients.fdsn.mass_downloader - INFO: Client 'GEONET' - Found 1 stations (1 channels).\n",
      "[2021-11-25 00:49:00,774] - obspy.clients.fdsn.mass_downloader - INFO: Client 'GEONET' - Will attempt to download data from 1 stations.\n",
      "[2021-11-25 00:49:00,775] - obspy.clients.fdsn.mass_downloader - INFO: Client 'GEONET' - Status for 1 time intervals/channels before downloading: NEEDS_DOWNLOADING\n",
      "[2021-11-25 00:49:01,792] - obspy.clients.fdsn.mass_downloader - INFO: Client 'GEONET' - Successfully downloaded 1 channels (of 1)\n",
      "[2021-11-25 00:49:01,799] - obspy.clients.fdsn.mass_downloader - INFO: Client 'GEONET' - Launching basic QC checks...\n",
      "[2021-11-25 00:49:01,816] - obspy.clients.fdsn.mass_downloader - INFO: Client 'GEONET' - Downloaded 0.0 MB [4.40 KB/sec] of data, 0.0 MB of which were discarded afterwards.\n",
      "[2021-11-25 00:49:01,817] - obspy.clients.fdsn.mass_downloader - INFO: Client 'GEONET' - Status for 1 time intervals/channels after downloading: DOWNLOADED\n",
      "[2021-11-25 00:49:01,819] - obspy.clients.fdsn.mass_downloader - INFO: Client 'GEONET' - No station information to download.\n",
      "[2021-11-25 00:49:01,820] - obspy.clients.fdsn.mass_downloader - INFO: ============================== Final report\n",
      "[2021-11-25 00:49:01,821] - obspy.clients.fdsn.mass_downloader - INFO: 0 MiniSEED files [0.0 MB] already existed.\n",
      "[2021-11-25 00:49:01,822] - obspy.clients.fdsn.mass_downloader - INFO: 1 StationXML files [0.0 MB] already existed.\n",
      "[2021-11-25 00:49:01,823] - obspy.clients.fdsn.mass_downloader - INFO: Client 'GEONET' - Acquired 1 MiniSEED files [0.0 MB].\n",
      "[2021-11-25 00:49:01,823] - obspy.clients.fdsn.mass_downloader - INFO: Client 'GEONET' - Acquired 0 StationXML files [0.0 MB].\n",
      "[2021-11-25 00:49:01,824] - obspy.clients.fdsn.mass_downloader - INFO: Downloaded 0.0 MB in total.\n",
      "[2021-11-25 00:49:01,827] - obspy.clients.fdsn.mass_downloader - INFO: Initializing FDSN client(s) for GEONET.\n",
      "[2021-11-25 00:49:01,831] - obspy.clients.fdsn.mass_downloader - INFO: Successfully initialized 1 client(s): GEONET.\n",
      "[2021-11-25 00:49:01,831] - obspy.clients.fdsn.mass_downloader - INFO: Total acquired or preexisting stations: 0\n",
      "[2021-11-25 00:49:01,832] - obspy.clients.fdsn.mass_downloader - INFO: Client 'GEONET' - Requesting unreliable availability.\n"
     ]
    },
    {
     "name": "stdout",
     "output_type": "stream",
     "text": [
      "=================================================================\n",
      "Initiating mass download request.\n"
     ]
    },
    {
     "name": "stderr",
     "output_type": "stream",
     "text": [
      "[2021-11-25 00:49:02,404] - obspy.clients.fdsn.mass_downloader - INFO: Client 'GEONET' - Successfully requested availability (0.57 seconds)\n",
      "[2021-11-25 00:49:02,408] - obspy.clients.fdsn.mass_downloader - INFO: Client 'GEONET' - Found 1 stations (1 channels).\n",
      "[2021-11-25 00:49:02,409] - obspy.clients.fdsn.mass_downloader - INFO: Client 'GEONET' - Will attempt to download data from 1 stations.\n",
      "[2021-11-25 00:49:02,410] - obspy.clients.fdsn.mass_downloader - INFO: Client 'GEONET' - Status for 1 time intervals/channels before downloading: NEEDS_DOWNLOADING\n",
      "[2021-11-25 00:49:03,439] - obspy.clients.fdsn.mass_downloader - INFO: Client 'GEONET' - Successfully downloaded 1 channels (of 1)\n",
      "[2021-11-25 00:49:03,460] - obspy.clients.fdsn.mass_downloader - INFO: Client 'GEONET' - Launching basic QC checks...\n",
      "[2021-11-25 00:49:03,475] - obspy.clients.fdsn.mass_downloader - INFO: Client 'GEONET' - Downloaded 0.0 MB [3.82 KB/sec] of data, 0.0 MB of which were discarded afterwards.\n",
      "[2021-11-25 00:49:03,476] - obspy.clients.fdsn.mass_downloader - INFO: Client 'GEONET' - Status for 1 time intervals/channels after downloading: DOWNLOADED\n",
      "[2021-11-25 00:49:03,483] - obspy.clients.fdsn.mass_downloader - INFO: Client 'GEONET' - No station information to download.\n",
      "[2021-11-25 00:49:03,484] - obspy.clients.fdsn.mass_downloader - INFO: ============================== Final report\n",
      "[2021-11-25 00:49:03,485] - obspy.clients.fdsn.mass_downloader - INFO: 0 MiniSEED files [0.0 MB] already existed.\n",
      "[2021-11-25 00:49:03,486] - obspy.clients.fdsn.mass_downloader - INFO: 1 StationXML files [0.0 MB] already existed.\n",
      "[2021-11-25 00:49:03,487] - obspy.clients.fdsn.mass_downloader - INFO: Client 'GEONET' - Acquired 1 MiniSEED files [0.0 MB].\n",
      "[2021-11-25 00:49:03,487] - obspy.clients.fdsn.mass_downloader - INFO: Client 'GEONET' - Acquired 0 StationXML files [0.0 MB].\n",
      "[2021-11-25 00:49:03,488] - obspy.clients.fdsn.mass_downloader - INFO: Downloaded 0.0 MB in total.\n",
      "[2021-11-25 00:49:03,495] - obspy.clients.fdsn.mass_downloader - INFO: Initializing FDSN client(s) for GEONET.\n",
      "[2021-11-25 00:49:03,506] - obspy.clients.fdsn.mass_downloader - INFO: Successfully initialized 1 client(s): GEONET.\n",
      "[2021-11-25 00:49:03,508] - obspy.clients.fdsn.mass_downloader - INFO: Total acquired or preexisting stations: 0\n",
      "[2021-11-25 00:49:03,508] - obspy.clients.fdsn.mass_downloader - INFO: Client 'GEONET' - Requesting unreliable availability.\n"
     ]
    },
    {
     "name": "stdout",
     "output_type": "stream",
     "text": [
      "=================================================================\n",
      "Initiating mass download request.\n"
     ]
    },
    {
     "name": "stderr",
     "output_type": "stream",
     "text": [
      "[2021-11-25 00:49:04,076] - obspy.clients.fdsn.mass_downloader - INFO: Client 'GEONET' - Successfully requested availability (0.57 seconds)\n",
      "[2021-11-25 00:49:04,087] - obspy.clients.fdsn.mass_downloader - INFO: Client 'GEONET' - Found 1 stations (1 channels).\n",
      "[2021-11-25 00:49:04,088] - obspy.clients.fdsn.mass_downloader - INFO: Client 'GEONET' - Will attempt to download data from 1 stations.\n",
      "[2021-11-25 00:49:04,093] - obspy.clients.fdsn.mass_downloader - INFO: Client 'GEONET' - Status for 1 time intervals/channels before downloading: NEEDS_DOWNLOADING\n",
      "[2021-11-25 00:49:05,124] - obspy.clients.fdsn.mass_downloader - INFO: Client 'GEONET' - Successfully downloaded 1 channels (of 1)\n",
      "[2021-11-25 00:49:05,135] - obspy.clients.fdsn.mass_downloader - INFO: Client 'GEONET' - Launching basic QC checks...\n",
      "[2021-11-25 00:49:05,146] - obspy.clients.fdsn.mass_downloader - INFO: Client 'GEONET' - Downloaded 0.0 MB [5.80 KB/sec] of data, 0.0 MB of which were discarded afterwards.\n",
      "[2021-11-25 00:49:05,146] - obspy.clients.fdsn.mass_downloader - INFO: Client 'GEONET' - Status for 1 time intervals/channels after downloading: DOWNLOADED\n",
      "[2021-11-25 00:49:05,152] - obspy.clients.fdsn.mass_downloader - INFO: Client 'GEONET' - No station information to download.\n",
      "[2021-11-25 00:49:05,157] - obspy.clients.fdsn.mass_downloader - INFO: ============================== Final report\n",
      "[2021-11-25 00:49:05,158] - obspy.clients.fdsn.mass_downloader - INFO: 0 MiniSEED files [0.0 MB] already existed.\n",
      "[2021-11-25 00:49:05,159] - obspy.clients.fdsn.mass_downloader - INFO: 1 StationXML files [0.0 MB] already existed.\n",
      "[2021-11-25 00:49:05,159] - obspy.clients.fdsn.mass_downloader - INFO: Client 'GEONET' - Acquired 1 MiniSEED files [0.0 MB].\n",
      "[2021-11-25 00:49:05,160] - obspy.clients.fdsn.mass_downloader - INFO: Client 'GEONET' - Acquired 0 StationXML files [0.0 MB].\n",
      "[2021-11-25 00:49:05,161] - obspy.clients.fdsn.mass_downloader - INFO: Downloaded 0.0 MB in total.\n",
      "[2021-11-25 00:49:05,168] - obspy.clients.fdsn.mass_downloader - INFO: Initializing FDSN client(s) for GEONET.\n",
      "[2021-11-25 00:49:05,173] - obspy.clients.fdsn.mass_downloader - INFO: Successfully initialized 1 client(s): GEONET.\n",
      "[2021-11-25 00:49:05,175] - obspy.clients.fdsn.mass_downloader - INFO: Total acquired or preexisting stations: 0\n",
      "[2021-11-25 00:49:05,176] - obspy.clients.fdsn.mass_downloader - INFO: Client 'GEONET' - Requesting unreliable availability.\n"
     ]
    },
    {
     "name": "stdout",
     "output_type": "stream",
     "text": [
      "=================================================================\n",
      "Initiating mass download request.\n"
     ]
    },
    {
     "name": "stderr",
     "output_type": "stream",
     "text": [
      "[2021-11-25 00:49:05,733] - obspy.clients.fdsn.mass_downloader - INFO: Client 'GEONET' - Successfully requested availability (0.56 seconds)\n",
      "[2021-11-25 00:49:05,734] - obspy.clients.fdsn.mass_downloader - INFO: Client 'GEONET' - Found 1 stations (1 channels).\n",
      "[2021-11-25 00:49:05,734] - obspy.clients.fdsn.mass_downloader - INFO: Client 'GEONET' - Will attempt to download data from 1 stations.\n",
      "[2021-11-25 00:49:05,735] - obspy.clients.fdsn.mass_downloader - INFO: Client 'GEONET' - Status for 1 time intervals/channels before downloading: NEEDS_DOWNLOADING\n",
      "[2021-11-25 00:49:06,623] - obspy.clients.fdsn.mass_downloader - INFO: Client 'GEONET' - Successfully downloaded 1 channels (of 1)\n",
      "[2021-11-25 00:49:06,631] - obspy.clients.fdsn.mass_downloader - INFO: Client 'GEONET' - Launching basic QC checks...\n",
      "[2021-11-25 00:49:06,640] - obspy.clients.fdsn.mass_downloader - INFO: Client 'GEONET' - Downloaded 0.0 MB [5.03 KB/sec] of data, 0.0 MB of which were discarded afterwards.\n",
      "[2021-11-25 00:49:06,641] - obspy.clients.fdsn.mass_downloader - INFO: Client 'GEONET' - Status for 1 time intervals/channels after downloading: DOWNLOADED\n",
      "[2021-11-25 00:49:06,649] - obspy.clients.fdsn.mass_downloader - INFO: Client 'GEONET' - No station information to download.\n",
      "[2021-11-25 00:49:06,650] - obspy.clients.fdsn.mass_downloader - INFO: ============================== Final report\n",
      "[2021-11-25 00:49:06,650] - obspy.clients.fdsn.mass_downloader - INFO: 0 MiniSEED files [0.0 MB] already existed.\n",
      "[2021-11-25 00:49:06,650] - obspy.clients.fdsn.mass_downloader - INFO: 1 StationXML files [0.0 MB] already existed.\n",
      "[2021-11-25 00:49:06,651] - obspy.clients.fdsn.mass_downloader - INFO: Client 'GEONET' - Acquired 1 MiniSEED files [0.0 MB].\n",
      "[2021-11-25 00:49:06,651] - obspy.clients.fdsn.mass_downloader - INFO: Client 'GEONET' - Acquired 0 StationXML files [0.0 MB].\n",
      "[2021-11-25 00:49:06,651] - obspy.clients.fdsn.mass_downloader - INFO: Downloaded 0.0 MB in total.\n",
      "[2021-11-25 00:49:06,657] - obspy.clients.fdsn.mass_downloader - INFO: Initializing FDSN client(s) for GEONET.\n",
      "[2021-11-25 00:49:06,661] - obspy.clients.fdsn.mass_downloader - INFO: Successfully initialized 1 client(s): GEONET.\n",
      "[2021-11-25 00:49:06,661] - obspy.clients.fdsn.mass_downloader - INFO: Total acquired or preexisting stations: 0\n",
      "[2021-11-25 00:49:06,662] - obspy.clients.fdsn.mass_downloader - INFO: Client 'GEONET' - Requesting unreliable availability.\n"
     ]
    },
    {
     "name": "stdout",
     "output_type": "stream",
     "text": [
      "=================================================================\n",
      "Initiating mass download request.\n"
     ]
    },
    {
     "name": "stderr",
     "output_type": "stream",
     "text": [
      "[2021-11-25 00:49:07,263] - obspy.clients.fdsn.mass_downloader - INFO: Client 'GEONET' - Successfully requested availability (0.60 seconds)\n",
      "[2021-11-25 00:49:07,270] - obspy.clients.fdsn.mass_downloader - INFO: Client 'GEONET' - Found 1 stations (1 channels).\n",
      "[2021-11-25 00:49:07,271] - obspy.clients.fdsn.mass_downloader - INFO: Client 'GEONET' - Will attempt to download data from 1 stations.\n",
      "[2021-11-25 00:49:07,276] - obspy.clients.fdsn.mass_downloader - INFO: Client 'GEONET' - Status for 1 time intervals/channels before downloading: NEEDS_DOWNLOADING\n",
      "[2021-11-25 00:49:08,221] - obspy.clients.fdsn.mass_downloader - INFO: Client 'GEONET' - Successfully downloaded 1 channels (of 1)\n",
      "[2021-11-25 00:49:08,232] - obspy.clients.fdsn.mass_downloader - INFO: Client 'GEONET' - Launching basic QC checks...\n",
      "[2021-11-25 00:49:08,253] - obspy.clients.fdsn.mass_downloader - INFO: Client 'GEONET' - Downloaded 0.0 MB [4.21 KB/sec] of data, 0.0 MB of which were discarded afterwards.\n",
      "[2021-11-25 00:49:08,254] - obspy.clients.fdsn.mass_downloader - INFO: Client 'GEONET' - Status for 1 time intervals/channels after downloading: DOWNLOADED\n",
      "[2021-11-25 00:49:08,266] - obspy.clients.fdsn.mass_downloader - INFO: Client 'GEONET' - No station information to download.\n",
      "[2021-11-25 00:49:08,271] - obspy.clients.fdsn.mass_downloader - INFO: ============================== Final report\n",
      "[2021-11-25 00:49:08,273] - obspy.clients.fdsn.mass_downloader - INFO: 0 MiniSEED files [0.0 MB] already existed.\n",
      "[2021-11-25 00:49:08,279] - obspy.clients.fdsn.mass_downloader - INFO: 1 StationXML files [0.0 MB] already existed.\n",
      "[2021-11-25 00:49:08,280] - obspy.clients.fdsn.mass_downloader - INFO: Client 'GEONET' - Acquired 1 MiniSEED files [0.0 MB].\n",
      "[2021-11-25 00:49:08,282] - obspy.clients.fdsn.mass_downloader - INFO: Client 'GEONET' - Acquired 0 StationXML files [0.0 MB].\n",
      "[2021-11-25 00:49:08,283] - obspy.clients.fdsn.mass_downloader - INFO: Downloaded 0.0 MB in total.\n",
      "[2021-11-25 00:49:08,289] - obspy.clients.fdsn.mass_downloader - INFO: Initializing FDSN client(s) for GEONET.\n",
      "[2021-11-25 00:49:08,339] - obspy.clients.fdsn.mass_downloader - INFO: Successfully initialized 1 client(s): GEONET.\n",
      "[2021-11-25 00:49:08,342] - obspy.clients.fdsn.mass_downloader - INFO: Total acquired or preexisting stations: 0\n",
      "[2021-11-25 00:49:08,346] - obspy.clients.fdsn.mass_downloader - INFO: Client 'GEONET' - Requesting unreliable availability.\n"
     ]
    },
    {
     "name": "stdout",
     "output_type": "stream",
     "text": [
      "=================================================================\n",
      "Initiating mass download request.\n"
     ]
    },
    {
     "name": "stderr",
     "output_type": "stream",
     "text": [
      "[2021-11-25 00:49:08,911] - obspy.clients.fdsn.mass_downloader - INFO: Client 'GEONET' - Successfully requested availability (0.56 seconds)\n",
      "[2021-11-25 00:49:08,913] - obspy.clients.fdsn.mass_downloader - INFO: Client 'GEONET' - Found 1 stations (1 channels).\n",
      "[2021-11-25 00:49:08,914] - obspy.clients.fdsn.mass_downloader - INFO: Client 'GEONET' - Will attempt to download data from 1 stations.\n",
      "[2021-11-25 00:49:08,915] - obspy.clients.fdsn.mass_downloader - INFO: Client 'GEONET' - Status for 1 time intervals/channels before downloading: NEEDS_DOWNLOADING\n",
      "[2021-11-25 00:49:09,687] - obspy.clients.fdsn.mass_downloader - INFO: Client 'GEONET' - Successfully downloaded 1 channels (of 1)\n",
      "[2021-11-25 00:49:09,696] - obspy.clients.fdsn.mass_downloader - INFO: Client 'GEONET' - Launching basic QC checks...\n",
      "[2021-11-25 00:49:09,712] - obspy.clients.fdsn.mass_downloader - INFO: Client 'GEONET' - Downloaded 0.0 MB [5.15 KB/sec] of data, 0.0 MB of which were discarded afterwards.\n",
      "[2021-11-25 00:49:09,713] - obspy.clients.fdsn.mass_downloader - INFO: Client 'GEONET' - Status for 1 time intervals/channels after downloading: DOWNLOADED\n",
      "[2021-11-25 00:49:09,719] - obspy.clients.fdsn.mass_downloader - INFO: Client 'GEONET' - No station information to download.\n",
      "[2021-11-25 00:49:09,720] - obspy.clients.fdsn.mass_downloader - INFO: ============================== Final report\n",
      "[2021-11-25 00:49:09,721] - obspy.clients.fdsn.mass_downloader - INFO: 0 MiniSEED files [0.0 MB] already existed.\n",
      "[2021-11-25 00:49:09,722] - obspy.clients.fdsn.mass_downloader - INFO: 1 StationXML files [0.0 MB] already existed.\n",
      "[2021-11-25 00:49:09,723] - obspy.clients.fdsn.mass_downloader - INFO: Client 'GEONET' - Acquired 1 MiniSEED files [0.0 MB].\n",
      "[2021-11-25 00:49:09,723] - obspy.clients.fdsn.mass_downloader - INFO: Client 'GEONET' - Acquired 0 StationXML files [0.0 MB].\n",
      "[2021-11-25 00:49:09,724] - obspy.clients.fdsn.mass_downloader - INFO: Downloaded 0.0 MB in total.\n",
      "[2021-11-25 00:49:09,731] - obspy.clients.fdsn.mass_downloader - INFO: Initializing FDSN client(s) for GEONET.\n",
      "[2021-11-25 00:49:09,736] - obspy.clients.fdsn.mass_downloader - INFO: Successfully initialized 1 client(s): GEONET.\n",
      "[2021-11-25 00:49:09,737] - obspy.clients.fdsn.mass_downloader - INFO: Total acquired or preexisting stations: 0\n",
      "[2021-11-25 00:49:09,737] - obspy.clients.fdsn.mass_downloader - INFO: Client 'GEONET' - Requesting unreliable availability.\n"
     ]
    },
    {
     "name": "stdout",
     "output_type": "stream",
     "text": [
      "=================================================================\n",
      "Initiating mass download request.\n"
     ]
    },
    {
     "name": "stderr",
     "output_type": "stream",
     "text": [
      "[2021-11-25 00:49:10,351] - obspy.clients.fdsn.mass_downloader - INFO: Client 'GEONET' - Successfully requested availability (0.61 seconds)\n",
      "[2021-11-25 00:49:10,391] - obspy.clients.fdsn.mass_downloader - INFO: Client 'GEONET' - Found 1 stations (1 channels).\n",
      "[2021-11-25 00:49:10,396] - obspy.clients.fdsn.mass_downloader - INFO: Client 'GEONET' - Will attempt to download data from 1 stations.\n",
      "[2021-11-25 00:49:10,403] - obspy.clients.fdsn.mass_downloader - INFO: Client 'GEONET' - Status for 1 time intervals/channels before downloading: NEEDS_DOWNLOADING\n",
      "[2021-11-25 00:49:11,340] - obspy.clients.fdsn.mass_downloader - INFO: Client 'GEONET' - Successfully downloaded 1 channels (of 1)\n",
      "[2021-11-25 00:49:11,354] - obspy.clients.fdsn.mass_downloader - INFO: Client 'GEONET' - Launching basic QC checks...\n",
      "[2021-11-25 00:49:11,377] - obspy.clients.fdsn.mass_downloader - INFO: Client 'GEONET' - Downloaded 0.0 MB [4.84 KB/sec] of data, 0.0 MB of which were discarded afterwards.\n",
      "[2021-11-25 00:49:11,381] - obspy.clients.fdsn.mass_downloader - INFO: Client 'GEONET' - Status for 1 time intervals/channels after downloading: DOWNLOADED\n",
      "[2021-11-25 00:49:11,393] - obspy.clients.fdsn.mass_downloader - INFO: Client 'GEONET' - No station information to download.\n",
      "[2021-11-25 00:49:11,411] - obspy.clients.fdsn.mass_downloader - INFO: ============================== Final report\n",
      "[2021-11-25 00:49:11,414] - obspy.clients.fdsn.mass_downloader - INFO: 0 MiniSEED files [0.0 MB] already existed.\n",
      "[2021-11-25 00:49:11,418] - obspy.clients.fdsn.mass_downloader - INFO: 1 StationXML files [0.0 MB] already existed.\n",
      "[2021-11-25 00:49:11,419] - obspy.clients.fdsn.mass_downloader - INFO: Client 'GEONET' - Acquired 1 MiniSEED files [0.0 MB].\n",
      "[2021-11-25 00:49:11,419] - obspy.clients.fdsn.mass_downloader - INFO: Client 'GEONET' - Acquired 0 StationXML files [0.0 MB].\n",
      "[2021-11-25 00:49:11,421] - obspy.clients.fdsn.mass_downloader - INFO: Downloaded 0.0 MB in total.\n",
      "[2021-11-25 00:49:11,429] - obspy.clients.fdsn.mass_downloader - INFO: Initializing FDSN client(s) for GEONET.\n",
      "[2021-11-25 00:49:11,436] - obspy.clients.fdsn.mass_downloader - INFO: Successfully initialized 1 client(s): GEONET.\n",
      "[2021-11-25 00:49:11,437] - obspy.clients.fdsn.mass_downloader - INFO: Total acquired or preexisting stations: 0\n",
      "[2021-11-25 00:49:11,437] - obspy.clients.fdsn.mass_downloader - INFO: Client 'GEONET' - Requesting unreliable availability.\n"
     ]
    },
    {
     "name": "stdout",
     "output_type": "stream",
     "text": [
      "=================================================================\n",
      "Initiating mass download request.\n"
     ]
    },
    {
     "name": "stderr",
     "output_type": "stream",
     "text": [
      "[2021-11-25 00:49:12,050] - obspy.clients.fdsn.mass_downloader - INFO: Client 'GEONET' - Successfully requested availability (0.61 seconds)\n",
      "[2021-11-25 00:49:12,061] - obspy.clients.fdsn.mass_downloader - INFO: Client 'GEONET' - Found 1 stations (1 channels).\n",
      "[2021-11-25 00:49:12,064] - obspy.clients.fdsn.mass_downloader - INFO: Client 'GEONET' - Will attempt to download data from 1 stations.\n",
      "[2021-11-25 00:49:12,065] - obspy.clients.fdsn.mass_downloader - INFO: Client 'GEONET' - Status for 1 time intervals/channels before downloading: NEEDS_DOWNLOADING\n",
      "[2021-11-25 00:49:13,020] - obspy.clients.fdsn.mass_downloader - INFO: Client 'GEONET' - Successfully downloaded 1 channels (of 1)\n",
      "[2021-11-25 00:49:13,023] - obspy.clients.fdsn.mass_downloader - INFO: Client 'GEONET' - Launching basic QC checks...\n",
      "[2021-11-25 00:49:13,033] - obspy.clients.fdsn.mass_downloader - INFO: Client 'GEONET' - Downloaded 0.0 MB [4.22 KB/sec] of data, 0.0 MB of which were discarded afterwards.\n",
      "[2021-11-25 00:49:13,033] - obspy.clients.fdsn.mass_downloader - INFO: Client 'GEONET' - Status for 1 time intervals/channels after downloading: DOWNLOADED\n",
      "[2021-11-25 00:49:13,036] - obspy.clients.fdsn.mass_downloader - INFO: Client 'GEONET' - No station information to download.\n",
      "[2021-11-25 00:49:13,037] - obspy.clients.fdsn.mass_downloader - INFO: ============================== Final report\n",
      "[2021-11-25 00:49:13,037] - obspy.clients.fdsn.mass_downloader - INFO: 0 MiniSEED files [0.0 MB] already existed.\n",
      "[2021-11-25 00:49:13,037] - obspy.clients.fdsn.mass_downloader - INFO: 1 StationXML files [0.0 MB] already existed.\n",
      "[2021-11-25 00:49:13,038] - obspy.clients.fdsn.mass_downloader - INFO: Client 'GEONET' - Acquired 1 MiniSEED files [0.0 MB].\n",
      "[2021-11-25 00:49:13,038] - obspy.clients.fdsn.mass_downloader - INFO: Client 'GEONET' - Acquired 0 StationXML files [0.0 MB].\n",
      "[2021-11-25 00:49:13,038] - obspy.clients.fdsn.mass_downloader - INFO: Downloaded 0.0 MB in total.\n",
      "[2021-11-25 00:49:13,044] - obspy.clients.fdsn.mass_downloader - INFO: Initializing FDSN client(s) for GEONET.\n",
      "[2021-11-25 00:49:13,048] - obspy.clients.fdsn.mass_downloader - INFO: Successfully initialized 1 client(s): GEONET.\n",
      "[2021-11-25 00:49:13,048] - obspy.clients.fdsn.mass_downloader - INFO: Total acquired or preexisting stations: 0\n",
      "[2021-11-25 00:49:13,049] - obspy.clients.fdsn.mass_downloader - INFO: Client 'GEONET' - Requesting unreliable availability.\n"
     ]
    },
    {
     "name": "stdout",
     "output_type": "stream",
     "text": [
      "=================================================================\n",
      "Initiating mass download request.\n"
     ]
    },
    {
     "name": "stderr",
     "output_type": "stream",
     "text": [
      "[2021-11-25 00:49:13,652] - obspy.clients.fdsn.mass_downloader - INFO: Client 'GEONET' - Successfully requested availability (0.60 seconds)\n",
      "[2021-11-25 00:49:13,687] - obspy.clients.fdsn.mass_downloader - INFO: Client 'GEONET' - Found 1 stations (1 channels).\n",
      "[2021-11-25 00:49:13,722] - obspy.clients.fdsn.mass_downloader - INFO: Client 'GEONET' - Will attempt to download data from 1 stations.\n",
      "[2021-11-25 00:49:13,729] - obspy.clients.fdsn.mass_downloader - INFO: Client 'GEONET' - Status for 1 time intervals/channels before downloading: NEEDS_DOWNLOADING\n",
      "[2021-11-25 00:49:14,663] - obspy.clients.fdsn.mass_downloader - INFO: Client 'GEONET' - Successfully downloaded 1 channels (of 1)\n",
      "[2021-11-25 00:49:14,691] - obspy.clients.fdsn.mass_downloader - INFO: Client 'GEONET' - Launching basic QC checks...\n",
      "[2021-11-25 00:49:14,772] - obspy.clients.fdsn.mass_downloader - INFO: Client 'GEONET' - Downloaded 0.0 MB [4.25 KB/sec] of data, 0.0 MB of which were discarded afterwards.\n",
      "[2021-11-25 00:49:14,781] - obspy.clients.fdsn.mass_downloader - INFO: Client 'GEONET' - Status for 1 time intervals/channels after downloading: DOWNLOADED\n",
      "[2021-11-25 00:49:14,786] - obspy.clients.fdsn.mass_downloader - INFO: Client 'GEONET' - No station information to download.\n",
      "[2021-11-25 00:49:14,794] - obspy.clients.fdsn.mass_downloader - INFO: ============================== Final report\n",
      "[2021-11-25 00:49:14,799] - obspy.clients.fdsn.mass_downloader - INFO: 0 MiniSEED files [0.0 MB] already existed.\n",
      "[2021-11-25 00:49:14,811] - obspy.clients.fdsn.mass_downloader - INFO: 1 StationXML files [0.0 MB] already existed.\n",
      "[2021-11-25 00:49:14,817] - obspy.clients.fdsn.mass_downloader - INFO: Client 'GEONET' - Acquired 1 MiniSEED files [0.0 MB].\n",
      "[2021-11-25 00:49:14,823] - obspy.clients.fdsn.mass_downloader - INFO: Client 'GEONET' - Acquired 0 StationXML files [0.0 MB].\n",
      "[2021-11-25 00:49:14,830] - obspy.clients.fdsn.mass_downloader - INFO: Downloaded 0.0 MB in total.\n",
      "[2021-11-25 00:49:14,843] - obspy.clients.fdsn.mass_downloader - INFO: Initializing FDSN client(s) for GEONET.\n",
      "[2021-11-25 00:49:14,869] - obspy.clients.fdsn.mass_downloader - INFO: Successfully initialized 1 client(s): GEONET.\n",
      "[2021-11-25 00:49:14,879] - obspy.clients.fdsn.mass_downloader - INFO: Total acquired or preexisting stations: 0\n",
      "[2021-11-25 00:49:14,886] - obspy.clients.fdsn.mass_downloader - INFO: Client 'GEONET' - Requesting unreliable availability.\n"
     ]
    },
    {
     "name": "stdout",
     "output_type": "stream",
     "text": [
      "=================================================================\n",
      "Initiating mass download request.\n"
     ]
    },
    {
     "name": "stderr",
     "output_type": "stream",
     "text": [
      "[2021-11-25 00:49:15,441] - obspy.clients.fdsn.mass_downloader - INFO: Client 'GEONET' - Successfully requested availability (0.55 seconds)\n",
      "[2021-11-25 00:49:15,452] - obspy.clients.fdsn.mass_downloader - INFO: Client 'GEONET' - Found 1 stations (1 channels).\n",
      "[2021-11-25 00:49:15,461] - obspy.clients.fdsn.mass_downloader - INFO: Client 'GEONET' - Will attempt to download data from 1 stations.\n",
      "[2021-11-25 00:49:15,467] - obspy.clients.fdsn.mass_downloader - INFO: Client 'GEONET' - Status for 1 time intervals/channels before downloading: NEEDS_DOWNLOADING\n",
      "[2021-11-25 00:49:16,448] - obspy.clients.fdsn.mass_downloader - INFO: Client 'GEONET' - Successfully downloaded 1 channels (of 1)\n",
      "[2021-11-25 00:49:16,454] - obspy.clients.fdsn.mass_downloader - INFO: Client 'GEONET' - Launching basic QC checks...\n",
      "[2021-11-25 00:49:16,462] - obspy.clients.fdsn.mass_downloader - INFO: Client 'GEONET' - Downloaded 0.0 MB [4.61 KB/sec] of data, 0.0 MB of which were discarded afterwards.\n",
      "[2021-11-25 00:49:16,462] - obspy.clients.fdsn.mass_downloader - INFO: Client 'GEONET' - Status for 1 time intervals/channels after downloading: DOWNLOADED\n",
      "[2021-11-25 00:49:16,464] - obspy.clients.fdsn.mass_downloader - INFO: Client 'GEONET' - No station information to download.\n",
      "[2021-11-25 00:49:16,465] - obspy.clients.fdsn.mass_downloader - INFO: ============================== Final report\n",
      "[2021-11-25 00:49:16,465] - obspy.clients.fdsn.mass_downloader - INFO: 0 MiniSEED files [0.0 MB] already existed.\n",
      "[2021-11-25 00:49:16,466] - obspy.clients.fdsn.mass_downloader - INFO: 1 StationXML files [0.0 MB] already existed.\n",
      "[2021-11-25 00:49:16,466] - obspy.clients.fdsn.mass_downloader - INFO: Client 'GEONET' - Acquired 1 MiniSEED files [0.0 MB].\n",
      "[2021-11-25 00:49:16,466] - obspy.clients.fdsn.mass_downloader - INFO: Client 'GEONET' - Acquired 0 StationXML files [0.0 MB].\n",
      "[2021-11-25 00:49:16,466] - obspy.clients.fdsn.mass_downloader - INFO: Downloaded 0.0 MB in total.\n",
      "[2021-11-25 00:49:16,469] - obspy.clients.fdsn.mass_downloader - INFO: Initializing FDSN client(s) for GEONET.\n",
      "[2021-11-25 00:49:16,472] - obspy.clients.fdsn.mass_downloader - INFO: Successfully initialized 1 client(s): GEONET.\n",
      "[2021-11-25 00:49:16,472] - obspy.clients.fdsn.mass_downloader - INFO: Total acquired or preexisting stations: 0\n",
      "[2021-11-25 00:49:16,472] - obspy.clients.fdsn.mass_downloader - INFO: Client 'GEONET' - Requesting unreliable availability.\n"
     ]
    },
    {
     "name": "stdout",
     "output_type": "stream",
     "text": [
      "=================================================================\n",
      "Initiating mass download request.\n"
     ]
    },
    {
     "name": "stderr",
     "output_type": "stream",
     "text": [
      "[2021-11-25 00:49:17,689] - obspy.clients.fdsn.mass_downloader - INFO: Client 'GEONET' - Successfully requested availability (1.22 seconds)\n",
      "[2021-11-25 00:49:17,692] - obspy.clients.fdsn.mass_downloader - INFO: Client 'GEONET' - Found 1 stations (1 channels).\n",
      "[2021-11-25 00:49:17,692] - obspy.clients.fdsn.mass_downloader - INFO: Client 'GEONET' - Will attempt to download data from 1 stations.\n",
      "[2021-11-25 00:49:17,693] - obspy.clients.fdsn.mass_downloader - INFO: Client 'GEONET' - Status for 1 time intervals/channels before downloading: NEEDS_DOWNLOADING\n",
      "[2021-11-25 00:49:18,795] - obspy.clients.fdsn.mass_downloader - INFO: Client 'GEONET' - Successfully downloaded 1 channels (of 1)\n",
      "[2021-11-25 00:49:18,809] - obspy.clients.fdsn.mass_downloader - INFO: Client 'GEONET' - Launching basic QC checks...\n",
      "[2021-11-25 00:49:18,820] - obspy.clients.fdsn.mass_downloader - INFO: Client 'GEONET' - Downloaded 0.0 MB [4.50 KB/sec] of data, 0.0 MB of which were discarded afterwards.\n",
      "[2021-11-25 00:49:18,821] - obspy.clients.fdsn.mass_downloader - INFO: Client 'GEONET' - Status for 1 time intervals/channels after downloading: DOWNLOADED\n",
      "[2021-11-25 00:49:18,824] - obspy.clients.fdsn.mass_downloader - INFO: Client 'GEONET' - No station information to download.\n",
      "[2021-11-25 00:49:18,828] - obspy.clients.fdsn.mass_downloader - INFO: ============================== Final report\n",
      "[2021-11-25 00:49:18,830] - obspy.clients.fdsn.mass_downloader - INFO: 0 MiniSEED files [0.0 MB] already existed.\n",
      "[2021-11-25 00:49:18,831] - obspy.clients.fdsn.mass_downloader - INFO: 1 StationXML files [0.0 MB] already existed.\n",
      "[2021-11-25 00:49:18,832] - obspy.clients.fdsn.mass_downloader - INFO: Client 'GEONET' - Acquired 1 MiniSEED files [0.0 MB].\n",
      "[2021-11-25 00:49:18,833] - obspy.clients.fdsn.mass_downloader - INFO: Client 'GEONET' - Acquired 0 StationXML files [0.0 MB].\n",
      "[2021-11-25 00:49:18,834] - obspy.clients.fdsn.mass_downloader - INFO: Downloaded 0.0 MB in total.\n",
      "[2021-11-25 00:49:18,847] - obspy.clients.fdsn.mass_downloader - INFO: Initializing FDSN client(s) for GEONET.\n",
      "[2021-11-25 00:49:18,870] - obspy.clients.fdsn.mass_downloader - INFO: Successfully initialized 1 client(s): GEONET.\n",
      "[2021-11-25 00:49:18,873] - obspy.clients.fdsn.mass_downloader - INFO: Total acquired or preexisting stations: 0\n",
      "[2021-11-25 00:49:18,875] - obspy.clients.fdsn.mass_downloader - INFO: Client 'GEONET' - Requesting unreliable availability.\n"
     ]
    },
    {
     "name": "stdout",
     "output_type": "stream",
     "text": [
      "=================================================================\n",
      "Initiating mass download request.\n"
     ]
    },
    {
     "name": "stderr",
     "output_type": "stream",
     "text": [
      "[2021-11-25 00:49:19,497] - obspy.clients.fdsn.mass_downloader - INFO: Client 'GEONET' - Successfully requested availability (0.62 seconds)\n",
      "[2021-11-25 00:49:19,591] - obspy.clients.fdsn.mass_downloader - INFO: Client 'GEONET' - Found 1 stations (1 channels).\n",
      "[2021-11-25 00:49:19,607] - obspy.clients.fdsn.mass_downloader - INFO: Client 'GEONET' - Will attempt to download data from 1 stations.\n",
      "[2021-11-25 00:49:19,629] - obspy.clients.fdsn.mass_downloader - INFO: Client 'GEONET' - Status for 1 time intervals/channels before downloading: NEEDS_DOWNLOADING\n",
      "[2021-11-25 00:49:20,612] - obspy.clients.fdsn.mass_downloader - INFO: Client 'GEONET' - Successfully downloaded 1 channels (of 1)\n",
      "[2021-11-25 00:49:20,623] - obspy.clients.fdsn.mass_downloader - INFO: Client 'GEONET' - Launching basic QC checks...\n",
      "[2021-11-25 00:49:20,639] - obspy.clients.fdsn.mass_downloader - INFO: Client 'GEONET' - Downloaded 0.0 MB [4.83 KB/sec] of data, 0.0 MB of which were discarded afterwards.\n",
      "[2021-11-25 00:49:20,640] - obspy.clients.fdsn.mass_downloader - INFO: Client 'GEONET' - Status for 1 time intervals/channels after downloading: DOWNLOADED\n",
      "[2021-11-25 00:49:20,650] - obspy.clients.fdsn.mass_downloader - INFO: Client 'GEONET' - No station information to download.\n",
      "[2021-11-25 00:49:20,652] - obspy.clients.fdsn.mass_downloader - INFO: ============================== Final report\n",
      "[2021-11-25 00:49:20,653] - obspy.clients.fdsn.mass_downloader - INFO: 0 MiniSEED files [0.0 MB] already existed.\n",
      "[2021-11-25 00:49:20,654] - obspy.clients.fdsn.mass_downloader - INFO: 1 StationXML files [0.0 MB] already existed.\n",
      "[2021-11-25 00:49:20,655] - obspy.clients.fdsn.mass_downloader - INFO: Client 'GEONET' - Acquired 1 MiniSEED files [0.0 MB].\n",
      "[2021-11-25 00:49:20,655] - obspy.clients.fdsn.mass_downloader - INFO: Client 'GEONET' - Acquired 0 StationXML files [0.0 MB].\n",
      "[2021-11-25 00:49:20,656] - obspy.clients.fdsn.mass_downloader - INFO: Downloaded 0.0 MB in total.\n",
      "[2021-11-25 00:49:20,666] - obspy.clients.fdsn.mass_downloader - INFO: Initializing FDSN client(s) for GEONET.\n",
      "[2021-11-25 00:49:20,677] - obspy.clients.fdsn.mass_downloader - INFO: Successfully initialized 1 client(s): GEONET.\n",
      "[2021-11-25 00:49:20,682] - obspy.clients.fdsn.mass_downloader - INFO: Total acquired or preexisting stations: 0\n",
      "[2021-11-25 00:49:20,683] - obspy.clients.fdsn.mass_downloader - INFO: Client 'GEONET' - Requesting unreliable availability.\n"
     ]
    },
    {
     "name": "stdout",
     "output_type": "stream",
     "text": [
      "=================================================================\n",
      "Initiating mass download request.\n"
     ]
    },
    {
     "name": "stderr",
     "output_type": "stream",
     "text": [
      "[2021-11-25 00:49:21,318] - obspy.clients.fdsn.mass_downloader - INFO: Client 'GEONET' - Successfully requested availability (0.63 seconds)\n",
      "[2021-11-25 00:49:21,333] - obspy.clients.fdsn.mass_downloader - INFO: Client 'GEONET' - Found 1 stations (1 channels).\n",
      "[2021-11-25 00:49:21,334] - obspy.clients.fdsn.mass_downloader - INFO: Client 'GEONET' - Will attempt to download data from 1 stations.\n",
      "[2021-11-25 00:49:21,335] - obspy.clients.fdsn.mass_downloader - INFO: Client 'GEONET' - Status for 1 time intervals/channels before downloading: NEEDS_DOWNLOADING\n",
      "[2021-11-25 00:49:22,362] - obspy.clients.fdsn.mass_downloader - INFO: Client 'GEONET' - Successfully downloaded 1 channels (of 1)\n",
      "[2021-11-25 00:49:22,376] - obspy.clients.fdsn.mass_downloader - INFO: Client 'GEONET' - Launching basic QC checks...\n",
      "[2021-11-25 00:49:22,405] - obspy.clients.fdsn.mass_downloader - INFO: Client 'GEONET' - Downloaded 0.0 MB [5.83 KB/sec] of data, 0.0 MB of which were discarded afterwards.\n",
      "[2021-11-25 00:49:22,416] - obspy.clients.fdsn.mass_downloader - INFO: Client 'GEONET' - Status for 1 time intervals/channels after downloading: DOWNLOADED\n",
      "[2021-11-25 00:49:22,435] - obspy.clients.fdsn.mass_downloader - INFO: Client 'GEONET' - No station information to download.\n",
      "[2021-11-25 00:49:22,439] - obspy.clients.fdsn.mass_downloader - INFO: ============================== Final report\n",
      "[2021-11-25 00:49:22,447] - obspy.clients.fdsn.mass_downloader - INFO: 0 MiniSEED files [0.0 MB] already existed.\n",
      "[2021-11-25 00:49:22,455] - obspy.clients.fdsn.mass_downloader - INFO: 1 StationXML files [0.0 MB] already existed.\n",
      "[2021-11-25 00:49:22,456] - obspy.clients.fdsn.mass_downloader - INFO: Client 'GEONET' - Acquired 1 MiniSEED files [0.0 MB].\n",
      "[2021-11-25 00:49:22,461] - obspy.clients.fdsn.mass_downloader - INFO: Client 'GEONET' - Acquired 0 StationXML files [0.0 MB].\n",
      "[2021-11-25 00:49:22,462] - obspy.clients.fdsn.mass_downloader - INFO: Downloaded 0.0 MB in total.\n",
      "[2021-11-25 00:49:22,476] - obspy.clients.fdsn.mass_downloader - INFO: Initializing FDSN client(s) for GEONET.\n",
      "[2021-11-25 00:49:22,498] - obspy.clients.fdsn.mass_downloader - INFO: Successfully initialized 1 client(s): GEONET.\n",
      "[2021-11-25 00:49:22,505] - obspy.clients.fdsn.mass_downloader - INFO: Total acquired or preexisting stations: 0\n",
      "[2021-11-25 00:49:22,508] - obspy.clients.fdsn.mass_downloader - INFO: Client 'GEONET' - Requesting unreliable availability.\n"
     ]
    },
    {
     "name": "stdout",
     "output_type": "stream",
     "text": [
      "=================================================================\n",
      "Initiating mass download request.\n"
     ]
    },
    {
     "name": "stderr",
     "output_type": "stream",
     "text": [
      "[2021-11-25 00:49:23,147] - obspy.clients.fdsn.mass_downloader - INFO: Client 'GEONET' - Successfully requested availability (0.63 seconds)\n",
      "[2021-11-25 00:49:23,170] - obspy.clients.fdsn.mass_downloader - INFO: Client 'GEONET' - Found 1 stations (1 channels).\n",
      "[2021-11-25 00:49:23,195] - obspy.clients.fdsn.mass_downloader - INFO: Client 'GEONET' - Will attempt to download data from 1 stations.\n",
      "[2021-11-25 00:49:23,201] - obspy.clients.fdsn.mass_downloader - INFO: Client 'GEONET' - Status for 1 time intervals/channels before downloading: NEEDS_DOWNLOADING\n",
      "[2021-11-25 00:49:24,111] - obspy.clients.fdsn.mass_downloader - INFO: Client 'GEONET' - Successfully downloaded 1 channels (of 1)\n",
      "[2021-11-25 00:49:24,120] - obspy.clients.fdsn.mass_downloader - INFO: Client 'GEONET' - Launching basic QC checks...\n",
      "[2021-11-25 00:49:24,133] - obspy.clients.fdsn.mass_downloader - INFO: Client 'GEONET' - Downloaded 0.0 MB [4.55 KB/sec] of data, 0.0 MB of which were discarded afterwards.\n",
      "[2021-11-25 00:49:24,134] - obspy.clients.fdsn.mass_downloader - INFO: Client 'GEONET' - Status for 1 time intervals/channels after downloading: DOWNLOADED\n",
      "[2021-11-25 00:49:24,141] - obspy.clients.fdsn.mass_downloader - INFO: Client 'GEONET' - No station information to download.\n",
      "[2021-11-25 00:49:24,146] - obspy.clients.fdsn.mass_downloader - INFO: ============================== Final report\n",
      "[2021-11-25 00:49:24,147] - obspy.clients.fdsn.mass_downloader - INFO: 0 MiniSEED files [0.0 MB] already existed.\n",
      "[2021-11-25 00:49:24,148] - obspy.clients.fdsn.mass_downloader - INFO: 1 StationXML files [0.0 MB] already existed.\n",
      "[2021-11-25 00:49:24,149] - obspy.clients.fdsn.mass_downloader - INFO: Client 'GEONET' - Acquired 1 MiniSEED files [0.0 MB].\n",
      "[2021-11-25 00:49:24,150] - obspy.clients.fdsn.mass_downloader - INFO: Client 'GEONET' - Acquired 0 StationXML files [0.0 MB].\n",
      "[2021-11-25 00:49:24,151] - obspy.clients.fdsn.mass_downloader - INFO: Downloaded 0.0 MB in total.\n",
      "[2021-11-25 00:49:24,157] - obspy.clients.fdsn.mass_downloader - INFO: Initializing FDSN client(s) for GEONET.\n",
      "[2021-11-25 00:49:24,174] - obspy.clients.fdsn.mass_downloader - INFO: Successfully initialized 1 client(s): GEONET.\n",
      "[2021-11-25 00:49:24,176] - obspy.clients.fdsn.mass_downloader - INFO: Total acquired or preexisting stations: 0\n",
      "[2021-11-25 00:49:24,177] - obspy.clients.fdsn.mass_downloader - INFO: Client 'GEONET' - Requesting unreliable availability.\n"
     ]
    },
    {
     "name": "stdout",
     "output_type": "stream",
     "text": [
      "=================================================================\n",
      "Initiating mass download request.\n"
     ]
    },
    {
     "name": "stderr",
     "output_type": "stream",
     "text": [
      "[2021-11-25 00:49:24,862] - obspy.clients.fdsn.mass_downloader - INFO: Client 'GEONET' - Successfully requested availability (0.68 seconds)\n",
      "[2021-11-25 00:49:24,866] - obspy.clients.fdsn.mass_downloader - INFO: Client 'GEONET' - Found 1 stations (1 channels).\n",
      "[2021-11-25 00:49:24,869] - obspy.clients.fdsn.mass_downloader - INFO: Client 'GEONET' - Will attempt to download data from 1 stations.\n",
      "[2021-11-25 00:49:24,872] - obspy.clients.fdsn.mass_downloader - INFO: Client 'GEONET' - Status for 1 time intervals/channels before downloading: NEEDS_DOWNLOADING\n",
      "[2021-11-25 00:49:25,724] - obspy.clients.fdsn.mass_downloader - INFO: Client 'GEONET' - Successfully downloaded 1 channels (of 1)\n",
      "[2021-11-25 00:49:25,735] - obspy.clients.fdsn.mass_downloader - INFO: Client 'GEONET' - Launching basic QC checks...\n",
      "[2021-11-25 00:49:25,748] - obspy.clients.fdsn.mass_downloader - INFO: Client 'GEONET' - Downloaded 0.0 MB [5.30 KB/sec] of data, 0.0 MB of which were discarded afterwards.\n",
      "[2021-11-25 00:49:25,749] - obspy.clients.fdsn.mass_downloader - INFO: Client 'GEONET' - Status for 1 time intervals/channels after downloading: DOWNLOADED\n",
      "[2021-11-25 00:49:25,752] - obspy.clients.fdsn.mass_downloader - INFO: Client 'GEONET' - No station information to download.\n",
      "[2021-11-25 00:49:25,752] - obspy.clients.fdsn.mass_downloader - INFO: ============================== Final report\n",
      "[2021-11-25 00:49:25,753] - obspy.clients.fdsn.mass_downloader - INFO: 0 MiniSEED files [0.0 MB] already existed.\n",
      "[2021-11-25 00:49:25,753] - obspy.clients.fdsn.mass_downloader - INFO: 1 StationXML files [0.0 MB] already existed.\n",
      "[2021-11-25 00:49:25,753] - obspy.clients.fdsn.mass_downloader - INFO: Client 'GEONET' - Acquired 1 MiniSEED files [0.0 MB].\n",
      "[2021-11-25 00:49:25,753] - obspy.clients.fdsn.mass_downloader - INFO: Client 'GEONET' - Acquired 0 StationXML files [0.0 MB].\n",
      "[2021-11-25 00:49:25,754] - obspy.clients.fdsn.mass_downloader - INFO: Downloaded 0.0 MB in total.\n",
      "[2021-11-25 00:49:25,756] - obspy.clients.fdsn.mass_downloader - INFO: Initializing FDSN client(s) for GEONET.\n",
      "[2021-11-25 00:49:25,760] - obspy.clients.fdsn.mass_downloader - INFO: Successfully initialized 1 client(s): GEONET.\n",
      "[2021-11-25 00:49:25,761] - obspy.clients.fdsn.mass_downloader - INFO: Total acquired or preexisting stations: 0\n",
      "[2021-11-25 00:49:25,761] - obspy.clients.fdsn.mass_downloader - INFO: Client 'GEONET' - Requesting unreliable availability.\n"
     ]
    },
    {
     "name": "stdout",
     "output_type": "stream",
     "text": [
      "=================================================================\n",
      "Initiating mass download request.\n"
     ]
    },
    {
     "name": "stderr",
     "output_type": "stream",
     "text": [
      "[2021-11-25 00:49:26,358] - obspy.clients.fdsn.mass_downloader - INFO: Client 'GEONET' - Successfully requested availability (0.60 seconds)\n",
      "[2021-11-25 00:49:26,360] - obspy.clients.fdsn.mass_downloader - INFO: Client 'GEONET' - Found 1 stations (1 channels).\n",
      "[2021-11-25 00:49:26,361] - obspy.clients.fdsn.mass_downloader - INFO: Client 'GEONET' - Will attempt to download data from 1 stations.\n",
      "[2021-11-25 00:49:26,362] - obspy.clients.fdsn.mass_downloader - INFO: Client 'GEONET' - Status for 1 time intervals/channels before downloading: NEEDS_DOWNLOADING\n",
      "[2021-11-25 00:49:27,176] - obspy.clients.fdsn.mass_downloader - INFO: Client 'GEONET' - Successfully downloaded 1 channels (of 1)\n",
      "[2021-11-25 00:49:27,193] - obspy.clients.fdsn.mass_downloader - INFO: Client 'GEONET' - Launching basic QC checks...\n",
      "[2021-11-25 00:49:27,207] - obspy.clients.fdsn.mass_downloader - INFO: Client 'GEONET' - Downloaded 0.0 MB [3.64 KB/sec] of data, 0.0 MB of which were discarded afterwards.\n",
      "[2021-11-25 00:49:27,209] - obspy.clients.fdsn.mass_downloader - INFO: Client 'GEONET' - Status for 1 time intervals/channels after downloading: DOWNLOADED\n",
      "[2021-11-25 00:49:27,216] - obspy.clients.fdsn.mass_downloader - INFO: Client 'GEONET' - No station information to download.\n",
      "[2021-11-25 00:49:27,230] - obspy.clients.fdsn.mass_downloader - INFO: ============================== Final report\n",
      "[2021-11-25 00:49:27,235] - obspy.clients.fdsn.mass_downloader - INFO: 0 MiniSEED files [0.0 MB] already existed.\n",
      "[2021-11-25 00:49:27,239] - obspy.clients.fdsn.mass_downloader - INFO: 1 StationXML files [0.0 MB] already existed.\n",
      "[2021-11-25 00:49:27,242] - obspy.clients.fdsn.mass_downloader - INFO: Client 'GEONET' - Acquired 1 MiniSEED files [0.0 MB].\n",
      "[2021-11-25 00:49:27,245] - obspy.clients.fdsn.mass_downloader - INFO: Client 'GEONET' - Acquired 0 StationXML files [0.0 MB].\n",
      "[2021-11-25 00:49:27,248] - obspy.clients.fdsn.mass_downloader - INFO: Downloaded 0.0 MB in total.\n",
      "[2021-11-25 00:49:27,264] - obspy.clients.fdsn.mass_downloader - INFO: Initializing FDSN client(s) for GEONET.\n",
      "[2021-11-25 00:49:27,300] - obspy.clients.fdsn.mass_downloader - INFO: Successfully initialized 1 client(s): GEONET.\n",
      "[2021-11-25 00:49:27,310] - obspy.clients.fdsn.mass_downloader - INFO: Total acquired or preexisting stations: 0\n",
      "[2021-11-25 00:49:27,315] - obspy.clients.fdsn.mass_downloader - INFO: Client 'GEONET' - Requesting unreliable availability.\n"
     ]
    },
    {
     "name": "stdout",
     "output_type": "stream",
     "text": [
      "=================================================================\n",
      "Initiating mass download request.\n"
     ]
    },
    {
     "name": "stderr",
     "output_type": "stream",
     "text": [
      "[2021-11-25 00:49:28,537] - obspy.clients.fdsn.mass_downloader - INFO: Client 'GEONET' - Successfully requested availability (1.22 seconds)\n",
      "[2021-11-25 00:49:28,574] - obspy.clients.fdsn.mass_downloader - INFO: Client 'GEONET' - Found 1 stations (1 channels).\n",
      "[2021-11-25 00:49:28,584] - obspy.clients.fdsn.mass_downloader - INFO: Client 'GEONET' - Will attempt to download data from 1 stations.\n",
      "[2021-11-25 00:49:28,597] - obspy.clients.fdsn.mass_downloader - INFO: Client 'GEONET' - Status for 1 time intervals/channels before downloading: NEEDS_DOWNLOADING\n",
      "[2021-11-25 00:49:29,529] - obspy.clients.fdsn.mass_downloader - INFO: Client 'GEONET' - Successfully downloaded 1 channels (of 1)\n",
      "[2021-11-25 00:49:29,541] - obspy.clients.fdsn.mass_downloader - INFO: Client 'GEONET' - Launching basic QC checks...\n",
      "[2021-11-25 00:49:29,557] - obspy.clients.fdsn.mass_downloader - INFO: Client 'GEONET' - Downloaded 0.0 MB [4.94 KB/sec] of data, 0.0 MB of which were discarded afterwards.\n",
      "[2021-11-25 00:49:29,558] - obspy.clients.fdsn.mass_downloader - INFO: Client 'GEONET' - Status for 1 time intervals/channels after downloading: DOWNLOADED\n",
      "[2021-11-25 00:49:29,562] - obspy.clients.fdsn.mass_downloader - INFO: Client 'GEONET' - No station information to download.\n",
      "[2021-11-25 00:49:29,563] - obspy.clients.fdsn.mass_downloader - INFO: ============================== Final report\n",
      "[2021-11-25 00:49:29,564] - obspy.clients.fdsn.mass_downloader - INFO: 0 MiniSEED files [0.0 MB] already existed.\n",
      "[2021-11-25 00:49:29,564] - obspy.clients.fdsn.mass_downloader - INFO: 1 StationXML files [0.0 MB] already existed.\n",
      "[2021-11-25 00:49:29,565] - obspy.clients.fdsn.mass_downloader - INFO: Client 'GEONET' - Acquired 1 MiniSEED files [0.0 MB].\n",
      "[2021-11-25 00:49:29,566] - obspy.clients.fdsn.mass_downloader - INFO: Client 'GEONET' - Acquired 0 StationXML files [0.0 MB].\n",
      "[2021-11-25 00:49:29,567] - obspy.clients.fdsn.mass_downloader - INFO: Downloaded 0.0 MB in total.\n",
      "[2021-11-25 00:49:29,571] - obspy.clients.fdsn.mass_downloader - INFO: Initializing FDSN client(s) for GEONET.\n",
      "[2021-11-25 00:49:29,578] - obspy.clients.fdsn.mass_downloader - INFO: Successfully initialized 1 client(s): GEONET.\n",
      "[2021-11-25 00:49:29,581] - obspy.clients.fdsn.mass_downloader - INFO: Total acquired or preexisting stations: 0\n",
      "[2021-11-25 00:49:29,583] - obspy.clients.fdsn.mass_downloader - INFO: Client 'GEONET' - Requesting unreliable availability.\n"
     ]
    },
    {
     "name": "stdout",
     "output_type": "stream",
     "text": [
      "=================================================================\n",
      "Initiating mass download request.\n"
     ]
    },
    {
     "name": "stderr",
     "output_type": "stream",
     "text": [
      "[2021-11-25 00:49:30,163] - obspy.clients.fdsn.mass_downloader - INFO: Client 'GEONET' - Successfully requested availability (0.58 seconds)\n",
      "[2021-11-25 00:49:30,167] - obspy.clients.fdsn.mass_downloader - INFO: Client 'GEONET' - Found 1 stations (1 channels).\n",
      "[2021-11-25 00:49:30,168] - obspy.clients.fdsn.mass_downloader - INFO: Client 'GEONET' - Will attempt to download data from 1 stations.\n",
      "[2021-11-25 00:49:30,168] - obspy.clients.fdsn.mass_downloader - INFO: Client 'GEONET' - Status for 1 time intervals/channels before downloading: NEEDS_DOWNLOADING\n",
      "[2021-11-25 00:49:31,199] - obspy.clients.fdsn.mass_downloader - INFO: Client 'GEONET' - Successfully downloaded 1 channels (of 1)\n",
      "[2021-11-25 00:49:31,233] - obspy.clients.fdsn.mass_downloader - INFO: Client 'GEONET' - Launching basic QC checks...\n",
      "[2021-11-25 00:49:31,275] - obspy.clients.fdsn.mass_downloader - INFO: Client 'GEONET' - Downloaded 0.0 MB [4.25 KB/sec] of data, 0.0 MB of which were discarded afterwards.\n",
      "[2021-11-25 00:49:31,281] - obspy.clients.fdsn.mass_downloader - INFO: Client 'GEONET' - Status for 1 time intervals/channels after downloading: DOWNLOADED\n",
      "[2021-11-25 00:49:31,287] - obspy.clients.fdsn.mass_downloader - INFO: Client 'GEONET' - No station information to download.\n",
      "[2021-11-25 00:49:31,292] - obspy.clients.fdsn.mass_downloader - INFO: ============================== Final report\n",
      "[2021-11-25 00:49:31,294] - obspy.clients.fdsn.mass_downloader - INFO: 0 MiniSEED files [0.0 MB] already existed.\n",
      "[2021-11-25 00:49:31,298] - obspy.clients.fdsn.mass_downloader - INFO: 1 StationXML files [0.0 MB] already existed.\n",
      "[2021-11-25 00:49:31,300] - obspy.clients.fdsn.mass_downloader - INFO: Client 'GEONET' - Acquired 1 MiniSEED files [0.0 MB].\n",
      "[2021-11-25 00:49:31,302] - obspy.clients.fdsn.mass_downloader - INFO: Client 'GEONET' - Acquired 0 StationXML files [0.0 MB].\n",
      "[2021-11-25 00:49:31,306] - obspy.clients.fdsn.mass_downloader - INFO: Downloaded 0.0 MB in total.\n",
      "[2021-11-25 00:49:31,336] - obspy.clients.fdsn.mass_downloader - INFO: Initializing FDSN client(s) for GEONET.\n",
      "[2021-11-25 00:49:31,359] - obspy.clients.fdsn.mass_downloader - INFO: Successfully initialized 1 client(s): GEONET.\n",
      "[2021-11-25 00:49:31,365] - obspy.clients.fdsn.mass_downloader - INFO: Total acquired or preexisting stations: 0\n",
      "[2021-11-25 00:49:31,371] - obspy.clients.fdsn.mass_downloader - INFO: Client 'GEONET' - Requesting unreliable availability.\n"
     ]
    },
    {
     "name": "stdout",
     "output_type": "stream",
     "text": [
      "=================================================================\n",
      "Initiating mass download request.\n"
     ]
    },
    {
     "name": "stderr",
     "output_type": "stream",
     "text": [
      "[2021-11-25 00:49:31,905] - obspy.clients.fdsn.mass_downloader - INFO: Client 'GEONET' - Successfully requested availability (0.53 seconds)\n",
      "[2021-11-25 00:49:31,915] - obspy.clients.fdsn.mass_downloader - INFO: Client 'GEONET' - Found 1 stations (1 channels).\n",
      "[2021-11-25 00:49:31,950] - obspy.clients.fdsn.mass_downloader - INFO: Client 'GEONET' - Will attempt to download data from 1 stations.\n",
      "[2021-11-25 00:49:31,980] - obspy.clients.fdsn.mass_downloader - INFO: Client 'GEONET' - Status for 1 time intervals/channels before downloading: NEEDS_DOWNLOADING\n",
      "[2021-11-25 00:49:32,779] - obspy.clients.fdsn.mass_downloader - INFO: Client 'GEONET' - Successfully downloaded 1 channels (of 1)\n",
      "[2021-11-25 00:49:32,833] - obspy.clients.fdsn.mass_downloader - INFO: Client 'GEONET' - Launching basic QC checks...\n",
      "[2021-11-25 00:49:32,875] - obspy.clients.fdsn.mass_downloader - INFO: Client 'GEONET' - Downloaded 0.0 MB [4.17 KB/sec] of data, 0.0 MB of which were discarded afterwards.\n",
      "[2021-11-25 00:49:32,877] - obspy.clients.fdsn.mass_downloader - INFO: Client 'GEONET' - Status for 1 time intervals/channels after downloading: DOWNLOADED\n",
      "[2021-11-25 00:49:32,886] - obspy.clients.fdsn.mass_downloader - INFO: Client 'GEONET' - No station information to download.\n",
      "[2021-11-25 00:49:32,889] - obspy.clients.fdsn.mass_downloader - INFO: ============================== Final report\n",
      "[2021-11-25 00:49:32,891] - obspy.clients.fdsn.mass_downloader - INFO: 0 MiniSEED files [0.0 MB] already existed.\n",
      "[2021-11-25 00:49:32,897] - obspy.clients.fdsn.mass_downloader - INFO: 1 StationXML files [0.0 MB] already existed.\n",
      "[2021-11-25 00:49:32,898] - obspy.clients.fdsn.mass_downloader - INFO: Client 'GEONET' - Acquired 1 MiniSEED files [0.0 MB].\n",
      "[2021-11-25 00:49:32,900] - obspy.clients.fdsn.mass_downloader - INFO: Client 'GEONET' - Acquired 0 StationXML files [0.0 MB].\n",
      "[2021-11-25 00:49:32,902] - obspy.clients.fdsn.mass_downloader - INFO: Downloaded 0.0 MB in total.\n",
      "[2021-11-25 00:49:32,929] - obspy.clients.fdsn.mass_downloader - INFO: Initializing FDSN client(s) for GEONET.\n",
      "[2021-11-25 00:49:32,967] - obspy.clients.fdsn.mass_downloader - INFO: Successfully initialized 1 client(s): GEONET.\n",
      "[2021-11-25 00:49:32,992] - obspy.clients.fdsn.mass_downloader - INFO: Total acquired or preexisting stations: 0\n",
      "[2021-11-25 00:49:32,994] - obspy.clients.fdsn.mass_downloader - INFO: Client 'GEONET' - Requesting unreliable availability.\n"
     ]
    },
    {
     "name": "stdout",
     "output_type": "stream",
     "text": [
      "=================================================================\n",
      "Initiating mass download request.\n"
     ]
    },
    {
     "name": "stderr",
     "output_type": "stream",
     "text": [
      "[2021-11-25 00:49:33,675] - obspy.clients.fdsn.mass_downloader - INFO: Client 'GEONET' - Successfully requested availability (0.68 seconds)\n",
      "[2021-11-25 00:49:33,686] - obspy.clients.fdsn.mass_downloader - INFO: Client 'GEONET' - Found 1 stations (1 channels).\n",
      "[2021-11-25 00:49:33,689] - obspy.clients.fdsn.mass_downloader - INFO: Client 'GEONET' - Will attempt to download data from 1 stations.\n",
      "[2021-11-25 00:49:33,690] - obspy.clients.fdsn.mass_downloader - INFO: Client 'GEONET' - Status for 1 time intervals/channels before downloading: NEEDS_DOWNLOADING\n",
      "[2021-11-25 00:49:34,708] - obspy.clients.fdsn.mass_downloader - INFO: Client 'GEONET' - Successfully downloaded 1 channels (of 1)\n",
      "[2021-11-25 00:49:34,718] - obspy.clients.fdsn.mass_downloader - INFO: Client 'GEONET' - Launching basic QC checks...\n",
      "[2021-11-25 00:49:34,737] - obspy.clients.fdsn.mass_downloader - INFO: Client 'GEONET' - Downloaded 0.0 MB [4.89 KB/sec] of data, 0.0 MB of which were discarded afterwards.\n",
      "[2021-11-25 00:49:34,740] - obspy.clients.fdsn.mass_downloader - INFO: Client 'GEONET' - Status for 1 time intervals/channels after downloading: DOWNLOADED\n",
      "[2021-11-25 00:49:34,767] - obspy.clients.fdsn.mass_downloader - INFO: Client 'GEONET' - No station information to download.\n",
      "[2021-11-25 00:49:34,773] - obspy.clients.fdsn.mass_downloader - INFO: ============================== Final report\n",
      "[2021-11-25 00:49:34,777] - obspy.clients.fdsn.mass_downloader - INFO: 0 MiniSEED files [0.0 MB] already existed.\n",
      "[2021-11-25 00:49:34,779] - obspy.clients.fdsn.mass_downloader - INFO: 1 StationXML files [0.0 MB] already existed.\n",
      "[2021-11-25 00:49:34,779] - obspy.clients.fdsn.mass_downloader - INFO: Client 'GEONET' - Acquired 1 MiniSEED files [0.0 MB].\n",
      "[2021-11-25 00:49:34,780] - obspy.clients.fdsn.mass_downloader - INFO: Client 'GEONET' - Acquired 0 StationXML files [0.0 MB].\n",
      "[2021-11-25 00:49:34,780] - obspy.clients.fdsn.mass_downloader - INFO: Downloaded 0.0 MB in total.\n",
      "[2021-11-25 00:49:34,793] - obspy.clients.fdsn.mass_downloader - INFO: Initializing FDSN client(s) for GEONET.\n",
      "[2021-11-25 00:49:34,807] - obspy.clients.fdsn.mass_downloader - INFO: Successfully initialized 1 client(s): GEONET.\n",
      "[2021-11-25 00:49:34,809] - obspy.clients.fdsn.mass_downloader - INFO: Total acquired or preexisting stations: 0\n",
      "[2021-11-25 00:49:34,809] - obspy.clients.fdsn.mass_downloader - INFO: Client 'GEONET' - Requesting unreliable availability.\n"
     ]
    },
    {
     "name": "stdout",
     "output_type": "stream",
     "text": [
      "=================================================================\n",
      "Initiating mass download request.\n"
     ]
    },
    {
     "name": "stderr",
     "output_type": "stream",
     "text": [
      "[2021-11-25 00:49:36,261] - obspy.clients.fdsn.mass_downloader - INFO: Client 'GEONET' - Successfully requested availability (1.45 seconds)\n",
      "[2021-11-25 00:49:36,268] - obspy.clients.fdsn.mass_downloader - INFO: Client 'GEONET' - Found 1 stations (1 channels).\n",
      "[2021-11-25 00:49:36,269] - obspy.clients.fdsn.mass_downloader - INFO: Client 'GEONET' - Will attempt to download data from 1 stations.\n",
      "[2021-11-25 00:49:36,274] - obspy.clients.fdsn.mass_downloader - INFO: Client 'GEONET' - Status for 1 time intervals/channels before downloading: NEEDS_DOWNLOADING\n",
      "[2021-11-25 00:49:37,192] - obspy.clients.fdsn.mass_downloader - INFO: Client 'GEONET' - Successfully downloaded 1 channels (of 1)\n",
      "[2021-11-25 00:49:37,223] - obspy.clients.fdsn.mass_downloader - INFO: Client 'GEONET' - Launching basic QC checks...\n",
      "[2021-11-25 00:49:37,261] - obspy.clients.fdsn.mass_downloader - INFO: Client 'GEONET' - Downloaded 0.0 MB [3.77 KB/sec] of data, 0.0 MB of which were discarded afterwards.\n",
      "[2021-11-25 00:49:37,267] - obspy.clients.fdsn.mass_downloader - INFO: Client 'GEONET' - Status for 1 time intervals/channels after downloading: DOWNLOADED\n",
      "[2021-11-25 00:49:37,284] - obspy.clients.fdsn.mass_downloader - INFO: Client 'GEONET' - No station information to download.\n",
      "[2021-11-25 00:49:37,290] - obspy.clients.fdsn.mass_downloader - INFO: ============================== Final report\n",
      "[2021-11-25 00:49:37,292] - obspy.clients.fdsn.mass_downloader - INFO: 0 MiniSEED files [0.0 MB] already existed.\n",
      "[2021-11-25 00:49:37,296] - obspy.clients.fdsn.mass_downloader - INFO: 1 StationXML files [0.0 MB] already existed.\n",
      "[2021-11-25 00:49:37,298] - obspy.clients.fdsn.mass_downloader - INFO: Client 'GEONET' - Acquired 1 MiniSEED files [0.0 MB].\n",
      "[2021-11-25 00:49:37,302] - obspy.clients.fdsn.mass_downloader - INFO: Client 'GEONET' - Acquired 0 StationXML files [0.0 MB].\n",
      "[2021-11-25 00:49:37,302] - obspy.clients.fdsn.mass_downloader - INFO: Downloaded 0.0 MB in total.\n",
      "[2021-11-25 00:49:37,334] - obspy.clients.fdsn.mass_downloader - INFO: Initializing FDSN client(s) for GEONET.\n",
      "[2021-11-25 00:49:37,358] - obspy.clients.fdsn.mass_downloader - INFO: Successfully initialized 1 client(s): GEONET.\n",
      "[2021-11-25 00:49:37,361] - obspy.clients.fdsn.mass_downloader - INFO: Total acquired or preexisting stations: 0\n",
      "[2021-11-25 00:49:37,363] - obspy.clients.fdsn.mass_downloader - INFO: Client 'GEONET' - Requesting unreliable availability.\n"
     ]
    },
    {
     "name": "stdout",
     "output_type": "stream",
     "text": [
      "=================================================================\n",
      "Initiating mass download request.\n"
     ]
    },
    {
     "name": "stderr",
     "output_type": "stream",
     "text": [
      "[2021-11-25 00:49:38,046] - obspy.clients.fdsn.mass_downloader - INFO: Client 'GEONET' - Successfully requested availability (0.68 seconds)\n",
      "[2021-11-25 00:49:38,051] - obspy.clients.fdsn.mass_downloader - INFO: Client 'GEONET' - Found 1 stations (1 channels).\n",
      "[2021-11-25 00:49:38,052] - obspy.clients.fdsn.mass_downloader - INFO: Client 'GEONET' - Will attempt to download data from 1 stations.\n",
      "[2021-11-25 00:49:38,053] - obspy.clients.fdsn.mass_downloader - INFO: Client 'GEONET' - Status for 1 time intervals/channels before downloading: NEEDS_DOWNLOADING\n",
      "[2021-11-25 00:49:39,920] - obspy.clients.fdsn.mass_downloader - INFO: Client 'GEONET' - Successfully downloaded 1 channels (of 1)\n",
      "[2021-11-25 00:49:39,941] - obspy.clients.fdsn.mass_downloader - INFO: Client 'GEONET' - Launching basic QC checks...\n",
      "[2021-11-25 00:49:39,961] - obspy.clients.fdsn.mass_downloader - INFO: Client 'GEONET' - Downloaded 0.0 MB [3.99 KB/sec] of data, 0.0 MB of which were discarded afterwards.\n",
      "[2021-11-25 00:49:39,964] - obspy.clients.fdsn.mass_downloader - INFO: Client 'GEONET' - Status for 1 time intervals/channels after downloading: DOWNLOADED\n",
      "[2021-11-25 00:49:39,975] - obspy.clients.fdsn.mass_downloader - INFO: Client 'GEONET' - No station information to download.\n",
      "[2021-11-25 00:49:39,977] - obspy.clients.fdsn.mass_downloader - INFO: ============================== Final report\n",
      "[2021-11-25 00:49:39,982] - obspy.clients.fdsn.mass_downloader - INFO: 0 MiniSEED files [0.0 MB] already existed.\n",
      "[2021-11-25 00:49:39,984] - obspy.clients.fdsn.mass_downloader - INFO: 1 StationXML files [0.0 MB] already existed.\n",
      "[2021-11-25 00:49:39,985] - obspy.clients.fdsn.mass_downloader - INFO: Client 'GEONET' - Acquired 1 MiniSEED files [0.0 MB].\n",
      "[2021-11-25 00:49:39,986] - obspy.clients.fdsn.mass_downloader - INFO: Client 'GEONET' - Acquired 0 StationXML files [0.0 MB].\n",
      "[2021-11-25 00:49:39,987] - obspy.clients.fdsn.mass_downloader - INFO: Downloaded 0.0 MB in total.\n",
      "[2021-11-25 00:49:40,007] - obspy.clients.fdsn.mass_downloader - INFO: Initializing FDSN client(s) for GEONET.\n",
      "[2021-11-25 00:49:40,041] - obspy.clients.fdsn.mass_downloader - INFO: Successfully initialized 1 client(s): GEONET.\n",
      "[2021-11-25 00:49:40,045] - obspy.clients.fdsn.mass_downloader - INFO: Total acquired or preexisting stations: 0\n",
      "[2021-11-25 00:49:40,047] - obspy.clients.fdsn.mass_downloader - INFO: Client 'GEONET' - Requesting unreliable availability.\n"
     ]
    },
    {
     "name": "stdout",
     "output_type": "stream",
     "text": [
      "=================================================================\n",
      "Initiating mass download request.\n"
     ]
    },
    {
     "name": "stderr",
     "output_type": "stream",
     "text": [
      "[2021-11-25 00:49:40,619] - obspy.clients.fdsn.mass_downloader - INFO: Client 'GEONET' - Successfully requested availability (0.57 seconds)\n",
      "[2021-11-25 00:49:40,630] - obspy.clients.fdsn.mass_downloader - INFO: Client 'GEONET' - Found 1 stations (1 channels).\n",
      "[2021-11-25 00:49:40,633] - obspy.clients.fdsn.mass_downloader - INFO: Client 'GEONET' - Will attempt to download data from 1 stations.\n",
      "[2021-11-25 00:49:40,637] - obspy.clients.fdsn.mass_downloader - INFO: Client 'GEONET' - Status for 1 time intervals/channels before downloading: NEEDS_DOWNLOADING\n",
      "[2021-11-25 00:49:41,490] - obspy.clients.fdsn.mass_downloader - INFO: Client 'GEONET' - Successfully downloaded 1 channels (of 1)\n",
      "[2021-11-25 00:49:41,501] - obspy.clients.fdsn.mass_downloader - INFO: Client 'GEONET' - Launching basic QC checks...\n",
      "[2021-11-25 00:49:41,517] - obspy.clients.fdsn.mass_downloader - INFO: Client 'GEONET' - Downloaded 0.0 MB [4.22 KB/sec] of data, 0.0 MB of which were discarded afterwards.\n",
      "[2021-11-25 00:49:41,518] - obspy.clients.fdsn.mass_downloader - INFO: Client 'GEONET' - Status for 1 time intervals/channels after downloading: DOWNLOADED\n",
      "[2021-11-25 00:49:41,522] - obspy.clients.fdsn.mass_downloader - INFO: Client 'GEONET' - No station information to download.\n",
      "[2021-11-25 00:49:41,523] - obspy.clients.fdsn.mass_downloader - INFO: ============================== Final report\n",
      "[2021-11-25 00:49:41,523] - obspy.clients.fdsn.mass_downloader - INFO: 0 MiniSEED files [0.0 MB] already existed.\n",
      "[2021-11-25 00:49:41,524] - obspy.clients.fdsn.mass_downloader - INFO: 1 StationXML files [0.0 MB] already existed.\n",
      "[2021-11-25 00:49:41,525] - obspy.clients.fdsn.mass_downloader - INFO: Client 'GEONET' - Acquired 1 MiniSEED files [0.0 MB].\n",
      "[2021-11-25 00:49:41,525] - obspy.clients.fdsn.mass_downloader - INFO: Client 'GEONET' - Acquired 0 StationXML files [0.0 MB].\n",
      "[2021-11-25 00:49:41,525] - obspy.clients.fdsn.mass_downloader - INFO: Downloaded 0.0 MB in total.\n",
      "[2021-11-25 00:49:41,542] - obspy.clients.fdsn.mass_downloader - INFO: Initializing FDSN client(s) for GEONET.\n",
      "[2021-11-25 00:49:41,562] - obspy.clients.fdsn.mass_downloader - INFO: Successfully initialized 1 client(s): GEONET.\n",
      "[2021-11-25 00:49:41,565] - obspy.clients.fdsn.mass_downloader - INFO: Total acquired or preexisting stations: 0\n",
      "[2021-11-25 00:49:41,567] - obspy.clients.fdsn.mass_downloader - INFO: Client 'GEONET' - Requesting unreliable availability.\n"
     ]
    },
    {
     "name": "stdout",
     "output_type": "stream",
     "text": [
      "=================================================================\n",
      "Initiating mass download request.\n"
     ]
    },
    {
     "name": "stderr",
     "output_type": "stream",
     "text": [
      "[2021-11-25 00:49:42,137] - obspy.clients.fdsn.mass_downloader - INFO: Client 'GEONET' - Successfully requested availability (0.57 seconds)\n",
      "[2021-11-25 00:49:42,146] - obspy.clients.fdsn.mass_downloader - INFO: Client 'GEONET' - Found 1 stations (1 channels).\n",
      "[2021-11-25 00:49:42,148] - obspy.clients.fdsn.mass_downloader - INFO: Client 'GEONET' - Will attempt to download data from 1 stations.\n",
      "[2021-11-25 00:49:42,150] - obspy.clients.fdsn.mass_downloader - INFO: Client 'GEONET' - Status for 1 time intervals/channels before downloading: NEEDS_DOWNLOADING\n",
      "[2021-11-25 00:49:43,044] - obspy.clients.fdsn.mass_downloader - INFO: Client 'GEONET' - Successfully downloaded 1 channels (of 1)\n",
      "[2021-11-25 00:49:43,057] - obspy.clients.fdsn.mass_downloader - INFO: Client 'GEONET' - Launching basic QC checks...\n",
      "[2021-11-25 00:49:43,086] - obspy.clients.fdsn.mass_downloader - INFO: Client 'GEONET' - Downloaded 0.0 MB [3.33 KB/sec] of data, 0.0 MB of which were discarded afterwards.\n",
      "[2021-11-25 00:49:43,090] - obspy.clients.fdsn.mass_downloader - INFO: Client 'GEONET' - Status for 1 time intervals/channels after downloading: DOWNLOADED\n",
      "[2021-11-25 00:49:43,100] - obspy.clients.fdsn.mass_downloader - INFO: Client 'GEONET' - No station information to download.\n",
      "[2021-11-25 00:49:43,106] - obspy.clients.fdsn.mass_downloader - INFO: ============================== Final report\n",
      "[2021-11-25 00:49:43,108] - obspy.clients.fdsn.mass_downloader - INFO: 0 MiniSEED files [0.0 MB] already existed.\n",
      "[2021-11-25 00:49:43,113] - obspy.clients.fdsn.mass_downloader - INFO: 1 StationXML files [0.0 MB] already existed.\n",
      "[2021-11-25 00:49:43,116] - obspy.clients.fdsn.mass_downloader - INFO: Client 'GEONET' - Acquired 1 MiniSEED files [0.0 MB].\n",
      "[2021-11-25 00:49:43,122] - obspy.clients.fdsn.mass_downloader - INFO: Client 'GEONET' - Acquired 0 StationXML files [0.0 MB].\n",
      "[2021-11-25 00:49:43,122] - obspy.clients.fdsn.mass_downloader - INFO: Downloaded 0.0 MB in total.\n",
      "[2021-11-25 00:49:43,140] - obspy.clients.fdsn.mass_downloader - INFO: Initializing FDSN client(s) for GEONET.\n",
      "[2021-11-25 00:49:43,154] - obspy.clients.fdsn.mass_downloader - INFO: Successfully initialized 1 client(s): GEONET.\n",
      "[2021-11-25 00:49:43,167] - obspy.clients.fdsn.mass_downloader - INFO: Total acquired or preexisting stations: 0\n",
      "[2021-11-25 00:49:43,169] - obspy.clients.fdsn.mass_downloader - INFO: Client 'GEONET' - Requesting unreliable availability.\n"
     ]
    },
    {
     "name": "stdout",
     "output_type": "stream",
     "text": [
      "=================================================================\n",
      "Initiating mass download request.\n"
     ]
    },
    {
     "name": "stderr",
     "output_type": "stream",
     "text": [
      "[2021-11-25 00:49:43,805] - obspy.clients.fdsn.mass_downloader - INFO: Client 'GEONET' - Successfully requested availability (0.63 seconds)\n",
      "[2021-11-25 00:49:43,813] - obspy.clients.fdsn.mass_downloader - INFO: Client 'GEONET' - Found 1 stations (1 channels).\n",
      "[2021-11-25 00:49:43,816] - obspy.clients.fdsn.mass_downloader - INFO: Client 'GEONET' - Will attempt to download data from 1 stations.\n",
      "[2021-11-25 00:49:43,821] - obspy.clients.fdsn.mass_downloader - INFO: Client 'GEONET' - Status for 1 time intervals/channels before downloading: NEEDS_DOWNLOADING\n",
      "[2021-11-25 00:49:44,624] - obspy.clients.fdsn.mass_downloader - INFO: Client 'GEONET' - Successfully downloaded 1 channels (of 1)\n",
      "[2021-11-25 00:49:44,632] - obspy.clients.fdsn.mass_downloader - INFO: Client 'GEONET' - Launching basic QC checks...\n",
      "[2021-11-25 00:49:44,642] - obspy.clients.fdsn.mass_downloader - INFO: Client 'GEONET' - Downloaded 0.0 MB [5.74 KB/sec] of data, 0.0 MB of which were discarded afterwards.\n",
      "[2021-11-25 00:49:44,643] - obspy.clients.fdsn.mass_downloader - INFO: Client 'GEONET' - Status for 1 time intervals/channels after downloading: DOWNLOADED\n",
      "[2021-11-25 00:49:44,645] - obspy.clients.fdsn.mass_downloader - INFO: Client 'GEONET' - No station information to download.\n",
      "[2021-11-25 00:49:44,652] - obspy.clients.fdsn.mass_downloader - INFO: ============================== Final report\n",
      "[2021-11-25 00:49:44,656] - obspy.clients.fdsn.mass_downloader - INFO: 0 MiniSEED files [0.0 MB] already existed.\n",
      "[2021-11-25 00:49:44,658] - obspy.clients.fdsn.mass_downloader - INFO: 1 StationXML files [0.0 MB] already existed.\n",
      "[2021-11-25 00:49:44,658] - obspy.clients.fdsn.mass_downloader - INFO: Client 'GEONET' - Acquired 1 MiniSEED files [0.0 MB].\n",
      "[2021-11-25 00:49:44,659] - obspy.clients.fdsn.mass_downloader - INFO: Client 'GEONET' - Acquired 0 StationXML files [0.0 MB].\n",
      "[2021-11-25 00:49:44,660] - obspy.clients.fdsn.mass_downloader - INFO: Downloaded 0.0 MB in total.\n",
      "[2021-11-25 00:49:44,663] - obspy.clients.fdsn.mass_downloader - INFO: Initializing FDSN client(s) for GEONET.\n",
      "[2021-11-25 00:49:44,676] - obspy.clients.fdsn.mass_downloader - INFO: Successfully initialized 1 client(s): GEONET.\n",
      "[2021-11-25 00:49:44,680] - obspy.clients.fdsn.mass_downloader - INFO: Total acquired or preexisting stations: 0\n",
      "[2021-11-25 00:49:44,682] - obspy.clients.fdsn.mass_downloader - INFO: Client 'GEONET' - Requesting unreliable availability.\n"
     ]
    },
    {
     "name": "stdout",
     "output_type": "stream",
     "text": [
      "=================================================================\n",
      "Initiating mass download request.\n"
     ]
    },
    {
     "name": "stderr",
     "output_type": "stream",
     "text": [
      "[2021-11-25 00:49:45,959] - obspy.clients.fdsn.mass_downloader - INFO: Client 'GEONET' - Successfully requested availability (1.28 seconds)\n",
      "[2021-11-25 00:49:45,974] - obspy.clients.fdsn.mass_downloader - INFO: Client 'GEONET' - Found 1 stations (1 channels).\n",
      "[2021-11-25 00:49:45,975] - obspy.clients.fdsn.mass_downloader - INFO: Client 'GEONET' - Will attempt to download data from 1 stations.\n",
      "[2021-11-25 00:49:45,977] - obspy.clients.fdsn.mass_downloader - INFO: Client 'GEONET' - Status for 1 time intervals/channels before downloading: NEEDS_DOWNLOADING\n",
      "[2021-11-25 00:49:46,915] - obspy.clients.fdsn.mass_downloader - INFO: Client 'GEONET' - Successfully downloaded 1 channels (of 1)\n",
      "[2021-11-25 00:49:46,997] - obspy.clients.fdsn.mass_downloader - INFO: Client 'GEONET' - Launching basic QC checks...\n",
      "[2021-11-25 00:49:47,054] - obspy.clients.fdsn.mass_downloader - INFO: Client 'GEONET' - Downloaded 0.0 MB [3.47 KB/sec] of data, 0.0 MB of which were discarded afterwards.\n",
      "[2021-11-25 00:49:47,067] - obspy.clients.fdsn.mass_downloader - INFO: Client 'GEONET' - Status for 1 time intervals/channels after downloading: DOWNLOADED\n",
      "[2021-11-25 00:49:47,743] - obspy.clients.fdsn.mass_downloader - INFO: Client 'GEONET' - Successfully downloaded 'normal/stations/NZ.BKZ.xml'.\n",
      "[2021-11-25 00:49:47,782] - obspy.clients.fdsn.mass_downloader - INFO: Client 'GEONET' - Downloaded 1 station files [0.0 MB] in 0.7 seconds [12.54 KB/sec].\n",
      "[2021-11-25 00:49:47,794] - obspy.clients.fdsn.mass_downloader - INFO: ============================== Final report\n",
      "[2021-11-25 00:49:47,795] - obspy.clients.fdsn.mass_downloader - INFO: 0 MiniSEED files [0.0 MB] already existed.\n",
      "[2021-11-25 00:49:47,799] - obspy.clients.fdsn.mass_downloader - INFO: 0 StationXML files [0.0 MB] already existed.\n",
      "[2021-11-25 00:49:47,808] - obspy.clients.fdsn.mass_downloader - INFO: Client 'GEONET' - Acquired 1 MiniSEED files [0.0 MB].\n",
      "[2021-11-25 00:49:47,810] - obspy.clients.fdsn.mass_downloader - INFO: Client 'GEONET' - Acquired 1 StationXML files [0.0 MB].\n",
      "[2021-11-25 00:49:47,813] - obspy.clients.fdsn.mass_downloader - INFO: Downloaded 0.0 MB in total.\n",
      "[2021-11-25 00:49:47,836] - obspy.clients.fdsn.mass_downloader - INFO: Initializing FDSN client(s) for GEONET.\n",
      "[2021-11-25 00:49:47,862] - obspy.clients.fdsn.mass_downloader - INFO: Successfully initialized 1 client(s): GEONET.\n",
      "[2021-11-25 00:49:47,864] - obspy.clients.fdsn.mass_downloader - INFO: Total acquired or preexisting stations: 0\n",
      "[2021-11-25 00:49:47,865] - obspy.clients.fdsn.mass_downloader - INFO: Client 'GEONET' - Requesting unreliable availability.\n"
     ]
    },
    {
     "name": "stdout",
     "output_type": "stream",
     "text": [
      "=================================================================\n",
      "Initiating mass download request.\n"
     ]
    },
    {
     "name": "stderr",
     "output_type": "stream",
     "text": [
      "[2021-11-25 00:49:48,438] - obspy.clients.fdsn.mass_downloader - INFO: Client 'GEONET' - Successfully requested availability (0.57 seconds)\n",
      "[2021-11-25 00:49:48,440] - obspy.clients.fdsn.mass_downloader - INFO: Client 'GEONET' - Found 1 stations (1 channels).\n",
      "[2021-11-25 00:49:48,440] - obspy.clients.fdsn.mass_downloader - INFO: Client 'GEONET' - Will attempt to download data from 1 stations.\n",
      "[2021-11-25 00:49:48,446] - obspy.clients.fdsn.mass_downloader - INFO: Client 'GEONET' - Status for 1 time intervals/channels before downloading: NEEDS_DOWNLOADING\n",
      "[2021-11-25 00:49:49,232] - obspy.clients.fdsn.mass_downloader - INFO: Client 'GEONET' - Successfully downloaded 1 channels (of 1)\n",
      "[2021-11-25 00:49:49,236] - obspy.clients.fdsn.mass_downloader - INFO: Client 'GEONET' - Launching basic QC checks...\n",
      "[2021-11-25 00:49:49,254] - obspy.clients.fdsn.mass_downloader - INFO: Client 'GEONET' - Downloaded 0.0 MB [3.82 KB/sec] of data, 0.0 MB of which were discarded afterwards.\n",
      "[2021-11-25 00:49:49,255] - obspy.clients.fdsn.mass_downloader - INFO: Client 'GEONET' - Status for 1 time intervals/channels after downloading: DOWNLOADED\n",
      "[2021-11-25 00:49:49,262] - obspy.clients.fdsn.mass_downloader - INFO: Client 'GEONET' - No station information to download.\n",
      "[2021-11-25 00:49:49,263] - obspy.clients.fdsn.mass_downloader - INFO: ============================== Final report\n",
      "[2021-11-25 00:49:49,263] - obspy.clients.fdsn.mass_downloader - INFO: 0 MiniSEED files [0.0 MB] already existed.\n",
      "[2021-11-25 00:49:49,264] - obspy.clients.fdsn.mass_downloader - INFO: 1 StationXML files [0.0 MB] already existed.\n",
      "[2021-11-25 00:49:49,265] - obspy.clients.fdsn.mass_downloader - INFO: Client 'GEONET' - Acquired 1 MiniSEED files [0.0 MB].\n",
      "[2021-11-25 00:49:49,266] - obspy.clients.fdsn.mass_downloader - INFO: Client 'GEONET' - Acquired 0 StationXML files [0.0 MB].\n",
      "[2021-11-25 00:49:49,268] - obspy.clients.fdsn.mass_downloader - INFO: Downloaded 0.0 MB in total.\n",
      "[2021-11-25 00:49:49,279] - obspy.clients.fdsn.mass_downloader - INFO: Initializing FDSN client(s) for GEONET.\n",
      "[2021-11-25 00:49:49,290] - obspy.clients.fdsn.mass_downloader - INFO: Successfully initialized 1 client(s): GEONET.\n",
      "[2021-11-25 00:49:49,292] - obspy.clients.fdsn.mass_downloader - INFO: Total acquired or preexisting stations: 0\n",
      "[2021-11-25 00:49:49,292] - obspy.clients.fdsn.mass_downloader - INFO: Client 'GEONET' - Requesting unreliable availability.\n"
     ]
    },
    {
     "name": "stdout",
     "output_type": "stream",
     "text": [
      "=================================================================\n",
      "Initiating mass download request.\n"
     ]
    },
    {
     "name": "stderr",
     "output_type": "stream",
     "text": [
      "[2021-11-25 00:49:49,917] - obspy.clients.fdsn.mass_downloader - INFO: Client 'GEONET' - Successfully requested availability (0.62 seconds)\n",
      "[2021-11-25 00:49:49,936] - obspy.clients.fdsn.mass_downloader - INFO: Client 'GEONET' - Found 1 stations (1 channels).\n",
      "[2021-11-25 00:49:49,939] - obspy.clients.fdsn.mass_downloader - INFO: Client 'GEONET' - Will attempt to download data from 1 stations.\n",
      "[2021-11-25 00:49:49,943] - obspy.clients.fdsn.mass_downloader - INFO: Client 'GEONET' - Status for 1 time intervals/channels before downloading: NEEDS_DOWNLOADING\n",
      "[2021-11-25 00:49:50,681] - obspy.clients.fdsn.mass_downloader - INFO: Client 'GEONET' - Successfully downloaded 1 channels (of 1)\n",
      "[2021-11-25 00:49:50,710] - obspy.clients.fdsn.mass_downloader - INFO: Client 'GEONET' - Launching basic QC checks...\n",
      "[2021-11-25 00:49:50,741] - obspy.clients.fdsn.mass_downloader - INFO: Client 'GEONET' - Downloaded 0.0 MB [3.94 KB/sec] of data, 0.0 MB of which were discarded afterwards.\n",
      "[2021-11-25 00:49:50,748] - obspy.clients.fdsn.mass_downloader - INFO: Client 'GEONET' - Status for 1 time intervals/channels after downloading: DOWNLOADED\n",
      "[2021-11-25 00:49:50,756] - obspy.clients.fdsn.mass_downloader - INFO: Client 'GEONET' - No station information to download.\n",
      "[2021-11-25 00:49:50,760] - obspy.clients.fdsn.mass_downloader - INFO: ============================== Final report\n",
      "[2021-11-25 00:49:50,763] - obspy.clients.fdsn.mass_downloader - INFO: 0 MiniSEED files [0.0 MB] already existed.\n",
      "[2021-11-25 00:49:50,765] - obspy.clients.fdsn.mass_downloader - INFO: 1 StationXML files [0.0 MB] already existed.\n",
      "[2021-11-25 00:49:50,766] - obspy.clients.fdsn.mass_downloader - INFO: Client 'GEONET' - Acquired 1 MiniSEED files [0.0 MB].\n",
      "[2021-11-25 00:49:50,767] - obspy.clients.fdsn.mass_downloader - INFO: Client 'GEONET' - Acquired 0 StationXML files [0.0 MB].\n",
      "[2021-11-25 00:49:50,769] - obspy.clients.fdsn.mass_downloader - INFO: Downloaded 0.0 MB in total.\n",
      "[2021-11-25 00:49:50,781] - obspy.clients.fdsn.mass_downloader - INFO: Initializing FDSN client(s) for GEONET.\n",
      "[2021-11-25 00:49:50,805] - obspy.clients.fdsn.mass_downloader - INFO: Successfully initialized 1 client(s): GEONET.\n",
      "[2021-11-25 00:49:50,811] - obspy.clients.fdsn.mass_downloader - INFO: Total acquired or preexisting stations: 0\n",
      "[2021-11-25 00:49:50,814] - obspy.clients.fdsn.mass_downloader - INFO: Client 'GEONET' - Requesting unreliable availability.\n"
     ]
    },
    {
     "name": "stdout",
     "output_type": "stream",
     "text": [
      "=================================================================\n",
      "Initiating mass download request.\n"
     ]
    },
    {
     "name": "stderr",
     "output_type": "stream",
     "text": [
      "[2021-11-25 00:49:51,439] - obspy.clients.fdsn.mass_downloader - INFO: Client 'GEONET' - Successfully requested availability (0.62 seconds)\n",
      "[2021-11-25 00:49:51,448] - obspy.clients.fdsn.mass_downloader - INFO: Client 'GEONET' - Found 1 stations (1 channels).\n",
      "[2021-11-25 00:49:51,449] - obspy.clients.fdsn.mass_downloader - INFO: Client 'GEONET' - Will attempt to download data from 1 stations.\n",
      "[2021-11-25 00:49:51,450] - obspy.clients.fdsn.mass_downloader - INFO: Client 'GEONET' - Status for 1 time intervals/channels before downloading: NEEDS_DOWNLOADING\n",
      "[2021-11-25 00:49:52,312] - obspy.clients.fdsn.mass_downloader - INFO: Client 'GEONET' - Successfully downloaded 1 channels (of 1)\n",
      "[2021-11-25 00:49:52,319] - obspy.clients.fdsn.mass_downloader - INFO: Client 'GEONET' - Launching basic QC checks...\n",
      "[2021-11-25 00:49:52,328] - obspy.clients.fdsn.mass_downloader - INFO: Client 'GEONET' - Downloaded 0.0 MB [4.65 KB/sec] of data, 0.0 MB of which were discarded afterwards.\n",
      "[2021-11-25 00:49:52,330] - obspy.clients.fdsn.mass_downloader - INFO: Client 'GEONET' - Status for 1 time intervals/channels after downloading: DOWNLOADED\n",
      "[2021-11-25 00:49:52,334] - obspy.clients.fdsn.mass_downloader - INFO: Client 'GEONET' - No station information to download.\n",
      "[2021-11-25 00:49:52,338] - obspy.clients.fdsn.mass_downloader - INFO: ============================== Final report\n",
      "[2021-11-25 00:49:52,339] - obspy.clients.fdsn.mass_downloader - INFO: 0 MiniSEED files [0.0 MB] already existed.\n",
      "[2021-11-25 00:49:52,339] - obspy.clients.fdsn.mass_downloader - INFO: 1 StationXML files [0.0 MB] already existed.\n",
      "[2021-11-25 00:49:52,340] - obspy.clients.fdsn.mass_downloader - INFO: Client 'GEONET' - Acquired 1 MiniSEED files [0.0 MB].\n",
      "[2021-11-25 00:49:52,340] - obspy.clients.fdsn.mass_downloader - INFO: Client 'GEONET' - Acquired 0 StationXML files [0.0 MB].\n",
      "[2021-11-25 00:49:52,341] - obspy.clients.fdsn.mass_downloader - INFO: Downloaded 0.0 MB in total.\n",
      "[2021-11-25 00:49:52,343] - obspy.clients.fdsn.mass_downloader - INFO: Initializing FDSN client(s) for GEONET.\n",
      "[2021-11-25 00:49:52,347] - obspy.clients.fdsn.mass_downloader - INFO: Successfully initialized 1 client(s): GEONET.\n",
      "[2021-11-25 00:49:52,349] - obspy.clients.fdsn.mass_downloader - INFO: Total acquired or preexisting stations: 0\n",
      "[2021-11-25 00:49:52,349] - obspy.clients.fdsn.mass_downloader - INFO: Client 'GEONET' - Requesting unreliable availability.\n"
     ]
    },
    {
     "name": "stdout",
     "output_type": "stream",
     "text": [
      "=================================================================\n",
      "Initiating mass download request.\n"
     ]
    },
    {
     "name": "stderr",
     "output_type": "stream",
     "text": [
      "[2021-11-25 00:49:52,981] - obspy.clients.fdsn.mass_downloader - INFO: Client 'GEONET' - Successfully requested availability (0.63 seconds)\n",
      "[2021-11-25 00:49:52,987] - obspy.clients.fdsn.mass_downloader - INFO: Client 'GEONET' - Found 1 stations (1 channels).\n",
      "[2021-11-25 00:49:52,988] - obspy.clients.fdsn.mass_downloader - INFO: Client 'GEONET' - Will attempt to download data from 1 stations.\n",
      "[2021-11-25 00:49:52,989] - obspy.clients.fdsn.mass_downloader - INFO: Client 'GEONET' - Status for 1 time intervals/channels before downloading: NEEDS_DOWNLOADING\n",
      "[2021-11-25 00:49:53,874] - obspy.clients.fdsn.mass_downloader - INFO: Client 'GEONET' - Successfully downloaded 1 channels (of 1)\n",
      "[2021-11-25 00:49:53,880] - obspy.clients.fdsn.mass_downloader - INFO: Client 'GEONET' - Launching basic QC checks...\n",
      "[2021-11-25 00:49:53,888] - obspy.clients.fdsn.mass_downloader - INFO: Client 'GEONET' - Downloaded 0.0 MB [4.52 KB/sec] of data, 0.0 MB of which were discarded afterwards.\n",
      "[2021-11-25 00:49:53,888] - obspy.clients.fdsn.mass_downloader - INFO: Client 'GEONET' - Status for 1 time intervals/channels after downloading: DOWNLOADED\n",
      "[2021-11-25 00:49:53,890] - obspy.clients.fdsn.mass_downloader - INFO: Client 'GEONET' - No station information to download.\n",
      "[2021-11-25 00:49:53,891] - obspy.clients.fdsn.mass_downloader - INFO: ============================== Final report\n",
      "[2021-11-25 00:49:53,891] - obspy.clients.fdsn.mass_downloader - INFO: 0 MiniSEED files [0.0 MB] already existed.\n",
      "[2021-11-25 00:49:53,892] - obspy.clients.fdsn.mass_downloader - INFO: 1 StationXML files [0.0 MB] already existed.\n",
      "[2021-11-25 00:49:53,892] - obspy.clients.fdsn.mass_downloader - INFO: Client 'GEONET' - Acquired 1 MiniSEED files [0.0 MB].\n",
      "[2021-11-25 00:49:53,892] - obspy.clients.fdsn.mass_downloader - INFO: Client 'GEONET' - Acquired 0 StationXML files [0.0 MB].\n",
      "[2021-11-25 00:49:53,892] - obspy.clients.fdsn.mass_downloader - INFO: Downloaded 0.0 MB in total.\n",
      "[2021-11-25 00:49:53,898] - obspy.clients.fdsn.mass_downloader - INFO: Initializing FDSN client(s) for GEONET.\n",
      "[2021-11-25 00:49:53,902] - obspy.clients.fdsn.mass_downloader - INFO: Successfully initialized 1 client(s): GEONET.\n",
      "[2021-11-25 00:49:53,904] - obspy.clients.fdsn.mass_downloader - INFO: Total acquired or preexisting stations: 0\n",
      "[2021-11-25 00:49:53,905] - obspy.clients.fdsn.mass_downloader - INFO: Client 'GEONET' - Requesting unreliable availability.\n"
     ]
    },
    {
     "name": "stdout",
     "output_type": "stream",
     "text": [
      "=================================================================\n",
      "Initiating mass download request.\n"
     ]
    },
    {
     "name": "stderr",
     "output_type": "stream",
     "text": [
      "[2021-11-25 00:49:54,514] - obspy.clients.fdsn.mass_downloader - INFO: Client 'GEONET' - Successfully requested availability (0.61 seconds)\n",
      "[2021-11-25 00:49:54,526] - obspy.clients.fdsn.mass_downloader - INFO: Client 'GEONET' - Found 1 stations (1 channels).\n",
      "[2021-11-25 00:49:54,528] - obspy.clients.fdsn.mass_downloader - INFO: Client 'GEONET' - Will attempt to download data from 1 stations.\n",
      "[2021-11-25 00:49:54,531] - obspy.clients.fdsn.mass_downloader - INFO: Client 'GEONET' - Status for 1 time intervals/channels before downloading: NEEDS_DOWNLOADING\n",
      "[2021-11-25 00:49:55,475] - obspy.clients.fdsn.mass_downloader - INFO: Client 'GEONET' - Successfully downloaded 1 channels (of 1)\n",
      "[2021-11-25 00:49:55,505] - obspy.clients.fdsn.mass_downloader - INFO: Client 'GEONET' - Launching basic QC checks...\n",
      "[2021-11-25 00:49:55,547] - obspy.clients.fdsn.mass_downloader - INFO: Client 'GEONET' - Downloaded 0.0 MB [3.15 KB/sec] of data, 0.0 MB of which were discarded afterwards.\n",
      "[2021-11-25 00:49:55,553] - obspy.clients.fdsn.mass_downloader - INFO: Client 'GEONET' - Status for 1 time intervals/channels after downloading: DOWNLOADED\n",
      "[2021-11-25 00:49:55,582] - obspy.clients.fdsn.mass_downloader - INFO: Client 'GEONET' - No station information to download.\n",
      "[2021-11-25 00:49:55,591] - obspy.clients.fdsn.mass_downloader - INFO: ============================== Final report\n",
      "[2021-11-25 00:49:55,596] - obspy.clients.fdsn.mass_downloader - INFO: 0 MiniSEED files [0.0 MB] already existed.\n",
      "[2021-11-25 00:49:55,598] - obspy.clients.fdsn.mass_downloader - INFO: 1 StationXML files [0.0 MB] already existed.\n",
      "[2021-11-25 00:49:55,599] - obspy.clients.fdsn.mass_downloader - INFO: Client 'GEONET' - Acquired 1 MiniSEED files [0.0 MB].\n",
      "[2021-11-25 00:49:55,602] - obspy.clients.fdsn.mass_downloader - INFO: Client 'GEONET' - Acquired 0 StationXML files [0.0 MB].\n",
      "[2021-11-25 00:49:55,603] - obspy.clients.fdsn.mass_downloader - INFO: Downloaded 0.0 MB in total.\n",
      "[2021-11-25 00:49:55,617] - obspy.clients.fdsn.mass_downloader - INFO: Initializing FDSN client(s) for GEONET.\n",
      "[2021-11-25 00:49:55,640] - obspy.clients.fdsn.mass_downloader - INFO: Successfully initialized 1 client(s): GEONET.\n",
      "[2021-11-25 00:49:55,641] - obspy.clients.fdsn.mass_downloader - INFO: Total acquired or preexisting stations: 0\n",
      "[2021-11-25 00:49:55,642] - obspy.clients.fdsn.mass_downloader - INFO: Client 'GEONET' - Requesting unreliable availability.\n"
     ]
    },
    {
     "name": "stdout",
     "output_type": "stream",
     "text": [
      "=================================================================\n",
      "Initiating mass download request.\n"
     ]
    },
    {
     "name": "stderr",
     "output_type": "stream",
     "text": [
      "[2021-11-25 00:49:56,319] - obspy.clients.fdsn.mass_downloader - INFO: Client 'GEONET' - Successfully requested availability (0.68 seconds)\n",
      "[2021-11-25 00:49:56,326] - obspy.clients.fdsn.mass_downloader - INFO: Client 'GEONET' - Found 1 stations (1 channels).\n",
      "[2021-11-25 00:49:56,328] - obspy.clients.fdsn.mass_downloader - INFO: Client 'GEONET' - Will attempt to download data from 1 stations.\n",
      "[2021-11-25 00:49:56,333] - obspy.clients.fdsn.mass_downloader - INFO: Client 'GEONET' - Status for 1 time intervals/channels before downloading: NEEDS_DOWNLOADING\n",
      "[2021-11-25 00:49:57,173] - obspy.clients.fdsn.mass_downloader - INFO: Client 'GEONET' - Successfully downloaded 1 channels (of 1)\n",
      "[2021-11-25 00:49:57,223] - obspy.clients.fdsn.mass_downloader - INFO: Client 'GEONET' - Launching basic QC checks...\n",
      "[2021-11-25 00:49:57,244] - obspy.clients.fdsn.mass_downloader - INFO: Client 'GEONET' - Downloaded 0.0 MB [6.21 KB/sec] of data, 0.0 MB of which were discarded afterwards.\n",
      "[2021-11-25 00:49:57,249] - obspy.clients.fdsn.mass_downloader - INFO: Client 'GEONET' - Status for 1 time intervals/channels after downloading: DOWNLOADED\n",
      "[2021-11-25 00:49:57,263] - obspy.clients.fdsn.mass_downloader - INFO: Client 'GEONET' - No station information to download.\n",
      "[2021-11-25 00:49:57,264] - obspy.clients.fdsn.mass_downloader - INFO: ============================== Final report\n",
      "[2021-11-25 00:49:57,265] - obspy.clients.fdsn.mass_downloader - INFO: 0 MiniSEED files [0.0 MB] already existed.\n",
      "[2021-11-25 00:49:57,266] - obspy.clients.fdsn.mass_downloader - INFO: 1 StationXML files [0.0 MB] already existed.\n",
      "[2021-11-25 00:49:57,266] - obspy.clients.fdsn.mass_downloader - INFO: Client 'GEONET' - Acquired 1 MiniSEED files [0.0 MB].\n",
      "[2021-11-25 00:49:57,266] - obspy.clients.fdsn.mass_downloader - INFO: Client 'GEONET' - Acquired 0 StationXML files [0.0 MB].\n",
      "[2021-11-25 00:49:57,267] - obspy.clients.fdsn.mass_downloader - INFO: Downloaded 0.0 MB in total.\n",
      "[2021-11-25 00:49:57,290] - obspy.clients.fdsn.mass_downloader - INFO: Initializing FDSN client(s) for GEONET.\n",
      "[2021-11-25 00:49:57,299] - obspy.clients.fdsn.mass_downloader - INFO: Successfully initialized 1 client(s): GEONET.\n",
      "[2021-11-25 00:49:57,300] - obspy.clients.fdsn.mass_downloader - INFO: Total acquired or preexisting stations: 0\n",
      "[2021-11-25 00:49:57,301] - obspy.clients.fdsn.mass_downloader - INFO: Client 'GEONET' - Requesting unreliable availability.\n"
     ]
    },
    {
     "name": "stdout",
     "output_type": "stream",
     "text": [
      "=================================================================\n",
      "Initiating mass download request.\n"
     ]
    },
    {
     "name": "stderr",
     "output_type": "stream",
     "text": [
      "[2021-11-25 00:49:57,892] - obspy.clients.fdsn.mass_downloader - INFO: Client 'GEONET' - No data available for request.\n",
      "[2021-11-25 00:49:57,906] - obspy.clients.fdsn.mass_downloader - INFO: Client 'GEONET' - No data available.\n",
      "[2021-11-25 00:49:57,916] - obspy.clients.fdsn.mass_downloader - INFO: ============================== Final report\n",
      "[2021-11-25 00:49:57,922] - obspy.clients.fdsn.mass_downloader - INFO: 0 MiniSEED files [0.0 MB] already existed.\n",
      "[2021-11-25 00:49:57,930] - obspy.clients.fdsn.mass_downloader - INFO: 0 StationXML files [0.0 MB] already existed.\n",
      "[2021-11-25 00:49:57,938] - obspy.clients.fdsn.mass_downloader - INFO: Client 'GEONET' - Acquired 0 MiniSEED files [0.0 MB].\n",
      "[2021-11-25 00:49:57,939] - obspy.clients.fdsn.mass_downloader - INFO: Client 'GEONET' - Acquired 0 StationXML files [0.0 MB].\n",
      "[2021-11-25 00:49:57,939] - obspy.clients.fdsn.mass_downloader - INFO: Downloaded 0.0 MB in total.\n",
      "[2021-11-25 00:49:57,975] - obspy.clients.fdsn.mass_downloader - INFO: Initializing FDSN client(s) for GEONET.\n",
      "[2021-11-25 00:49:58,015] - obspy.clients.fdsn.mass_downloader - INFO: Successfully initialized 1 client(s): GEONET.\n",
      "[2021-11-25 00:49:58,021] - obspy.clients.fdsn.mass_downloader - INFO: Total acquired or preexisting stations: 0\n",
      "[2021-11-25 00:49:58,028] - obspy.clients.fdsn.mass_downloader - INFO: Client 'GEONET' - Requesting unreliable availability.\n"
     ]
    },
    {
     "name": "stdout",
     "output_type": "stream",
     "text": [
      "=================================================================\n",
      "Initiating mass download request.\n"
     ]
    },
    {
     "name": "stderr",
     "output_type": "stream",
     "text": [
      "[2021-11-25 00:49:58,599] - obspy.clients.fdsn.mass_downloader - INFO: Client 'GEONET' - Successfully requested availability (0.57 seconds)\n",
      "[2021-11-25 00:49:58,601] - obspy.clients.fdsn.mass_downloader - INFO: Client 'GEONET' - Found 1 stations (1 channels).\n",
      "[2021-11-25 00:49:58,602] - obspy.clients.fdsn.mass_downloader - INFO: Client 'GEONET' - Will attempt to download data from 1 stations.\n",
      "[2021-11-25 00:49:58,603] - obspy.clients.fdsn.mass_downloader - INFO: Client 'GEONET' - Status for 1 time intervals/channels before downloading: NEEDS_DOWNLOADING\n",
      "[2021-11-25 00:49:59,469] - obspy.clients.fdsn.mass_downloader - INFO: Client 'GEONET' - Successfully downloaded 1 channels (of 1)\n",
      "[2021-11-25 00:49:59,477] - obspy.clients.fdsn.mass_downloader - INFO: Client 'GEONET' - Launching basic QC checks...\n",
      "[2021-11-25 00:49:59,493] - obspy.clients.fdsn.mass_downloader - INFO: Client 'GEONET' - Downloaded 0.0 MB [4.60 KB/sec] of data, 0.0 MB of which were discarded afterwards.\n",
      "[2021-11-25 00:49:59,497] - obspy.clients.fdsn.mass_downloader - INFO: Client 'GEONET' - Status for 1 time intervals/channels after downloading: DOWNLOADED\n",
      "[2021-11-25 00:49:59,507] - obspy.clients.fdsn.mass_downloader - INFO: Client 'GEONET' - No station information to download.\n",
      "[2021-11-25 00:49:59,551] - obspy.clients.fdsn.mass_downloader - INFO: ============================== Final report\n",
      "[2021-11-25 00:49:59,555] - obspy.clients.fdsn.mass_downloader - INFO: 0 MiniSEED files [0.0 MB] already existed.\n",
      "[2021-11-25 00:49:59,559] - obspy.clients.fdsn.mass_downloader - INFO: 1 StationXML files [0.0 MB] already existed.\n",
      "[2021-11-25 00:49:59,560] - obspy.clients.fdsn.mass_downloader - INFO: Client 'GEONET' - Acquired 1 MiniSEED files [0.0 MB].\n",
      "[2021-11-25 00:49:59,561] - obspy.clients.fdsn.mass_downloader - INFO: Client 'GEONET' - Acquired 0 StationXML files [0.0 MB].\n",
      "[2021-11-25 00:49:59,562] - obspy.clients.fdsn.mass_downloader - INFO: Downloaded 0.0 MB in total.\n",
      "[2021-11-25 00:49:59,593] - obspy.clients.fdsn.mass_downloader - INFO: Initializing FDSN client(s) for GEONET.\n",
      "[2021-11-25 00:49:59,606] - obspy.clients.fdsn.mass_downloader - INFO: Successfully initialized 1 client(s): GEONET.\n",
      "[2021-11-25 00:49:59,611] - obspy.clients.fdsn.mass_downloader - INFO: Total acquired or preexisting stations: 0\n",
      "[2021-11-25 00:49:59,615] - obspy.clients.fdsn.mass_downloader - INFO: Client 'GEONET' - Requesting unreliable availability.\n"
     ]
    },
    {
     "name": "stdout",
     "output_type": "stream",
     "text": [
      "=================================================================\n",
      "Initiating mass download request.\n"
     ]
    },
    {
     "name": "stderr",
     "output_type": "stream",
     "text": [
      "[2021-11-25 00:50:00,233] - obspy.clients.fdsn.mass_downloader - INFO: Client 'GEONET' - Successfully requested availability (0.62 seconds)\n",
      "[2021-11-25 00:50:00,240] - obspy.clients.fdsn.mass_downloader - INFO: Client 'GEONET' - Found 1 stations (1 channels).\n",
      "[2021-11-25 00:50:00,242] - obspy.clients.fdsn.mass_downloader - INFO: Client 'GEONET' - Will attempt to download data from 1 stations.\n",
      "[2021-11-25 00:50:00,243] - obspy.clients.fdsn.mass_downloader - INFO: Client 'GEONET' - Status for 1 time intervals/channels before downloading: NEEDS_DOWNLOADING\n",
      "[2021-11-25 00:50:01,039] - obspy.clients.fdsn.mass_downloader - INFO: Client 'GEONET' - Successfully downloaded 1 channels (of 1)\n",
      "[2021-11-25 00:50:01,051] - obspy.clients.fdsn.mass_downloader - INFO: Client 'GEONET' - Launching basic QC checks...\n",
      "[2021-11-25 00:50:01,060] - obspy.clients.fdsn.mass_downloader - INFO: Client 'GEONET' - Downloaded 0.0 MB [5.02 KB/sec] of data, 0.0 MB of which were discarded afterwards.\n",
      "[2021-11-25 00:50:01,061] - obspy.clients.fdsn.mass_downloader - INFO: Client 'GEONET' - Status for 1 time intervals/channels after downloading: DOWNLOADED\n",
      "[2021-11-25 00:50:01,064] - obspy.clients.fdsn.mass_downloader - INFO: Client 'GEONET' - No station information to download.\n",
      "[2021-11-25 00:50:01,066] - obspy.clients.fdsn.mass_downloader - INFO: ============================== Final report\n",
      "[2021-11-25 00:50:01,067] - obspy.clients.fdsn.mass_downloader - INFO: 0 MiniSEED files [0.0 MB] already existed.\n",
      "[2021-11-25 00:50:01,068] - obspy.clients.fdsn.mass_downloader - INFO: 1 StationXML files [0.0 MB] already existed.\n",
      "[2021-11-25 00:50:01,068] - obspy.clients.fdsn.mass_downloader - INFO: Client 'GEONET' - Acquired 1 MiniSEED files [0.0 MB].\n",
      "[2021-11-25 00:50:01,068] - obspy.clients.fdsn.mass_downloader - INFO: Client 'GEONET' - Acquired 0 StationXML files [0.0 MB].\n",
      "[2021-11-25 00:50:01,069] - obspy.clients.fdsn.mass_downloader - INFO: Downloaded 0.0 MB in total.\n",
      "[2021-11-25 00:50:01,074] - obspy.clients.fdsn.mass_downloader - INFO: Initializing FDSN client(s) for GEONET.\n",
      "[2021-11-25 00:50:01,080] - obspy.clients.fdsn.mass_downloader - INFO: Successfully initialized 1 client(s): GEONET.\n",
      "[2021-11-25 00:50:01,084] - obspy.clients.fdsn.mass_downloader - INFO: Total acquired or preexisting stations: 0\n",
      "[2021-11-25 00:50:01,086] - obspy.clients.fdsn.mass_downloader - INFO: Client 'GEONET' - Requesting unreliable availability.\n"
     ]
    },
    {
     "name": "stdout",
     "output_type": "stream",
     "text": [
      "=================================================================\n",
      "Initiating mass download request.\n"
     ]
    },
    {
     "name": "stderr",
     "output_type": "stream",
     "text": [
      "[2021-11-25 00:50:01,732] - obspy.clients.fdsn.mass_downloader - INFO: Client 'GEONET' - Successfully requested availability (0.64 seconds)\n",
      "[2021-11-25 00:50:01,791] - obspy.clients.fdsn.mass_downloader - INFO: Client 'GEONET' - Found 1 stations (1 channels).\n",
      "[2021-11-25 00:50:01,803] - obspy.clients.fdsn.mass_downloader - INFO: Client 'GEONET' - Will attempt to download data from 1 stations.\n",
      "[2021-11-25 00:50:01,820] - obspy.clients.fdsn.mass_downloader - INFO: Client 'GEONET' - Status for 1 time intervals/channels before downloading: NEEDS_DOWNLOADING\n",
      "[2021-11-25 00:50:02,728] - obspy.clients.fdsn.mass_downloader - INFO: Client 'GEONET' - Successfully downloaded 1 channels (of 1)\n",
      "[2021-11-25 00:50:02,752] - obspy.clients.fdsn.mass_downloader - INFO: Client 'GEONET' - Launching basic QC checks...\n",
      "[2021-11-25 00:50:02,780] - obspy.clients.fdsn.mass_downloader - INFO: Client 'GEONET' - Downloaded 0.0 MB [3.40 KB/sec] of data, 0.0 MB of which were discarded afterwards.\n",
      "[2021-11-25 00:50:02,784] - obspy.clients.fdsn.mass_downloader - INFO: Client 'GEONET' - Status for 1 time intervals/channels after downloading: DOWNLOADED\n",
      "[2021-11-25 00:50:02,794] - obspy.clients.fdsn.mass_downloader - INFO: Client 'GEONET' - No station information to download.\n",
      "[2021-11-25 00:50:02,799] - obspy.clients.fdsn.mass_downloader - INFO: ============================== Final report\n",
      "[2021-11-25 00:50:02,801] - obspy.clients.fdsn.mass_downloader - INFO: 0 MiniSEED files [0.0 MB] already existed.\n",
      "[2021-11-25 00:50:02,802] - obspy.clients.fdsn.mass_downloader - INFO: 1 StationXML files [0.0 MB] already existed.\n",
      "[2021-11-25 00:50:02,803] - obspy.clients.fdsn.mass_downloader - INFO: Client 'GEONET' - Acquired 1 MiniSEED files [0.0 MB].\n",
      "[2021-11-25 00:50:02,805] - obspy.clients.fdsn.mass_downloader - INFO: Client 'GEONET' - Acquired 0 StationXML files [0.0 MB].\n",
      "[2021-11-25 00:50:02,807] - obspy.clients.fdsn.mass_downloader - INFO: Downloaded 0.0 MB in total.\n",
      "[2021-11-25 00:50:02,815] - obspy.clients.fdsn.mass_downloader - INFO: Initializing FDSN client(s) for GEONET.\n",
      "[2021-11-25 00:50:02,840] - obspy.clients.fdsn.mass_downloader - INFO: Successfully initialized 1 client(s): GEONET.\n",
      "[2021-11-25 00:50:02,846] - obspy.clients.fdsn.mass_downloader - INFO: Total acquired or preexisting stations: 0\n",
      "[2021-11-25 00:50:02,850] - obspy.clients.fdsn.mass_downloader - INFO: Client 'GEONET' - Requesting unreliable availability.\n"
     ]
    },
    {
     "name": "stdout",
     "output_type": "stream",
     "text": [
      "=================================================================\n",
      "Initiating mass download request.\n"
     ]
    },
    {
     "name": "stderr",
     "output_type": "stream",
     "text": [
      "[2021-11-25 00:50:03,448] - obspy.clients.fdsn.mass_downloader - INFO: Client 'GEONET' - Successfully requested availability (0.60 seconds)\n",
      "[2021-11-25 00:50:03,452] - obspy.clients.fdsn.mass_downloader - INFO: Client 'GEONET' - Found 1 stations (1 channels).\n",
      "[2021-11-25 00:50:03,457] - obspy.clients.fdsn.mass_downloader - INFO: Client 'GEONET' - Will attempt to download data from 1 stations.\n",
      "[2021-11-25 00:50:03,460] - obspy.clients.fdsn.mass_downloader - INFO: Client 'GEONET' - Status for 1 time intervals/channels before downloading: NEEDS_DOWNLOADING\n",
      "[2021-11-25 00:50:04,209] - obspy.clients.fdsn.mass_downloader - INFO: Client 'GEONET' - Successfully downloaded 1 channels (of 1)\n",
      "[2021-11-25 00:50:04,220] - obspy.clients.fdsn.mass_downloader - INFO: Client 'GEONET' - Launching basic QC checks...\n",
      "[2021-11-25 00:50:04,241] - obspy.clients.fdsn.mass_downloader - INFO: Client 'GEONET' - Downloaded 0.0 MB [4.67 KB/sec] of data, 0.0 MB of which were discarded afterwards.\n",
      "[2021-11-25 00:50:04,260] - obspy.clients.fdsn.mass_downloader - INFO: Client 'GEONET' - Status for 1 time intervals/channels after downloading: DOWNLOADED\n",
      "[2021-11-25 00:50:04,268] - obspy.clients.fdsn.mass_downloader - INFO: Client 'GEONET' - No station information to download.\n",
      "[2021-11-25 00:50:04,275] - obspy.clients.fdsn.mass_downloader - INFO: ============================== Final report\n",
      "[2021-11-25 00:50:04,278] - obspy.clients.fdsn.mass_downloader - INFO: 0 MiniSEED files [0.0 MB] already existed.\n",
      "[2021-11-25 00:50:04,281] - obspy.clients.fdsn.mass_downloader - INFO: 1 StationXML files [0.0 MB] already existed.\n",
      "[2021-11-25 00:50:04,290] - obspy.clients.fdsn.mass_downloader - INFO: Client 'GEONET' - Acquired 1 MiniSEED files [0.0 MB].\n",
      "[2021-11-25 00:50:04,293] - obspy.clients.fdsn.mass_downloader - INFO: Client 'GEONET' - Acquired 0 StationXML files [0.0 MB].\n",
      "[2021-11-25 00:50:04,306] - obspy.clients.fdsn.mass_downloader - INFO: Downloaded 0.0 MB in total.\n",
      "[2021-11-25 00:50:04,329] - obspy.clients.fdsn.mass_downloader - INFO: Initializing FDSN client(s) for GEONET.\n",
      "[2021-11-25 00:50:04,349] - obspy.clients.fdsn.mass_downloader - INFO: Successfully initialized 1 client(s): GEONET.\n",
      "[2021-11-25 00:50:04,355] - obspy.clients.fdsn.mass_downloader - INFO: Total acquired or preexisting stations: 0\n",
      "[2021-11-25 00:50:04,357] - obspy.clients.fdsn.mass_downloader - INFO: Client 'GEONET' - Requesting unreliable availability.\n"
     ]
    },
    {
     "name": "stdout",
     "output_type": "stream",
     "text": [
      "=================================================================\n",
      "Initiating mass download request.\n"
     ]
    },
    {
     "name": "stderr",
     "output_type": "stream",
     "text": [
      "[2021-11-25 00:50:04,992] - obspy.clients.fdsn.mass_downloader - INFO: Client 'GEONET' - Successfully requested availability (0.63 seconds)\n",
      "[2021-11-25 00:50:05,008] - obspy.clients.fdsn.mass_downloader - INFO: Client 'GEONET' - Found 1 stations (1 channels).\n",
      "[2021-11-25 00:50:05,026] - obspy.clients.fdsn.mass_downloader - INFO: Client 'GEONET' - Will attempt to download data from 1 stations.\n",
      "[2021-11-25 00:50:05,039] - obspy.clients.fdsn.mass_downloader - INFO: Client 'GEONET' - Status for 1 time intervals/channels before downloading: NEEDS_DOWNLOADING\n",
      "[2021-11-25 00:50:05,962] - obspy.clients.fdsn.mass_downloader - INFO: Client 'GEONET' - Successfully downloaded 1 channels (of 1)\n",
      "[2021-11-25 00:50:06,006] - obspy.clients.fdsn.mass_downloader - INFO: Client 'GEONET' - Launching basic QC checks...\n",
      "[2021-11-25 00:50:06,032] - obspy.clients.fdsn.mass_downloader - INFO: Client 'GEONET' - Downloaded 0.0 MB [4.28 KB/sec] of data, 0.0 MB of which were discarded afterwards.\n",
      "[2021-11-25 00:50:06,041] - obspy.clients.fdsn.mass_downloader - INFO: Client 'GEONET' - Status for 1 time intervals/channels after downloading: DOWNLOADED\n",
      "[2021-11-25 00:50:06,052] - obspy.clients.fdsn.mass_downloader - INFO: Client 'GEONET' - No station information to download.\n",
      "[2021-11-25 00:50:06,056] - obspy.clients.fdsn.mass_downloader - INFO: ============================== Final report\n",
      "[2021-11-25 00:50:06,058] - obspy.clients.fdsn.mass_downloader - INFO: 0 MiniSEED files [0.0 MB] already existed.\n",
      "[2021-11-25 00:50:06,059] - obspy.clients.fdsn.mass_downloader - INFO: 1 StationXML files [0.0 MB] already existed.\n",
      "[2021-11-25 00:50:06,062] - obspy.clients.fdsn.mass_downloader - INFO: Client 'GEONET' - Acquired 1 MiniSEED files [0.0 MB].\n",
      "[2021-11-25 00:50:06,063] - obspy.clients.fdsn.mass_downloader - INFO: Client 'GEONET' - Acquired 0 StationXML files [0.0 MB].\n",
      "[2021-11-25 00:50:06,063] - obspy.clients.fdsn.mass_downloader - INFO: Downloaded 0.0 MB in total.\n",
      "[2021-11-25 00:50:06,074] - obspy.clients.fdsn.mass_downloader - INFO: Initializing FDSN client(s) for GEONET.\n",
      "[2021-11-25 00:50:06,103] - obspy.clients.fdsn.mass_downloader - INFO: Successfully initialized 1 client(s): GEONET.\n",
      "[2021-11-25 00:50:06,105] - obspy.clients.fdsn.mass_downloader - INFO: Total acquired or preexisting stations: 0\n",
      "[2021-11-25 00:50:06,107] - obspy.clients.fdsn.mass_downloader - INFO: Client 'GEONET' - Requesting unreliable availability.\n"
     ]
    },
    {
     "name": "stdout",
     "output_type": "stream",
     "text": [
      "=================================================================\n",
      "Initiating mass download request.\n"
     ]
    },
    {
     "name": "stderr",
     "output_type": "stream",
     "text": [
      "[2021-11-25 00:50:06,837] - obspy.clients.fdsn.mass_downloader - INFO: Client 'GEONET' - Successfully requested availability (0.73 seconds)\n",
      "[2021-11-25 00:50:06,844] - obspy.clients.fdsn.mass_downloader - INFO: Client 'GEONET' - Found 1 stations (1 channels).\n",
      "[2021-11-25 00:50:06,845] - obspy.clients.fdsn.mass_downloader - INFO: Client 'GEONET' - Will attempt to download data from 1 stations.\n",
      "[2021-11-25 00:50:06,847] - obspy.clients.fdsn.mass_downloader - INFO: Client 'GEONET' - Status for 1 time intervals/channels before downloading: NEEDS_DOWNLOADING\n",
      "[2021-11-25 00:50:07,701] - obspy.clients.fdsn.mass_downloader - INFO: Client 'GEONET' - Successfully downloaded 1 channels (of 1)\n",
      "[2021-11-25 00:50:07,755] - obspy.clients.fdsn.mass_downloader - INFO: Client 'GEONET' - Launching basic QC checks...\n",
      "[2021-11-25 00:50:07,794] - obspy.clients.fdsn.mass_downloader - INFO: Client 'GEONET' - Downloaded 0.0 MB [3.87 KB/sec] of data, 0.0 MB of which were discarded afterwards.\n",
      "[2021-11-25 00:50:07,807] - obspy.clients.fdsn.mass_downloader - INFO: Client 'GEONET' - Status for 1 time intervals/channels after downloading: DOWNLOADED\n",
      "[2021-11-25 00:50:07,817] - obspy.clients.fdsn.mass_downloader - INFO: Client 'GEONET' - No station information to download.\n",
      "[2021-11-25 00:50:07,832] - obspy.clients.fdsn.mass_downloader - INFO: ============================== Final report\n",
      "[2021-11-25 00:50:07,837] - obspy.clients.fdsn.mass_downloader - INFO: 0 MiniSEED files [0.0 MB] already existed.\n",
      "[2021-11-25 00:50:07,842] - obspy.clients.fdsn.mass_downloader - INFO: 1 StationXML files [0.0 MB] already existed.\n",
      "[2021-11-25 00:50:07,843] - obspy.clients.fdsn.mass_downloader - INFO: Client 'GEONET' - Acquired 1 MiniSEED files [0.0 MB].\n",
      "[2021-11-25 00:50:07,847] - obspy.clients.fdsn.mass_downloader - INFO: Client 'GEONET' - Acquired 0 StationXML files [0.0 MB].\n",
      "[2021-11-25 00:50:07,849] - obspy.clients.fdsn.mass_downloader - INFO: Downloaded 0.0 MB in total.\n",
      "[2021-11-25 00:50:07,870] - obspy.clients.fdsn.mass_downloader - INFO: Initializing FDSN client(s) for GEONET.\n",
      "[2021-11-25 00:50:07,907] - obspy.clients.fdsn.mass_downloader - INFO: Successfully initialized 1 client(s): GEONET.\n",
      "[2021-11-25 00:50:07,909] - obspy.clients.fdsn.mass_downloader - INFO: Total acquired or preexisting stations: 0\n",
      "[2021-11-25 00:50:07,912] - obspy.clients.fdsn.mass_downloader - INFO: Client 'GEONET' - Requesting unreliable availability.\n"
     ]
    },
    {
     "name": "stdout",
     "output_type": "stream",
     "text": [
      "=================================================================\n",
      "Initiating mass download request.\n"
     ]
    },
    {
     "name": "stderr",
     "output_type": "stream",
     "text": [
      "[2021-11-25 00:50:08,673] - obspy.clients.fdsn.mass_downloader - INFO: Client 'GEONET' - Successfully requested availability (0.76 seconds)\n",
      "[2021-11-25 00:50:08,727] - obspy.clients.fdsn.mass_downloader - INFO: Client 'GEONET' - Found 1 stations (1 channels).\n",
      "[2021-11-25 00:50:08,739] - obspy.clients.fdsn.mass_downloader - INFO: Client 'GEONET' - Will attempt to download data from 1 stations.\n",
      "[2021-11-25 00:50:08,751] - obspy.clients.fdsn.mass_downloader - INFO: Client 'GEONET' - Status for 1 time intervals/channels before downloading: NEEDS_DOWNLOADING\n",
      "[2021-11-25 00:50:09,741] - obspy.clients.fdsn.mass_downloader - INFO: Client 'GEONET' - Successfully downloaded 1 channels (of 1)\n",
      "[2021-11-25 00:50:09,800] - obspy.clients.fdsn.mass_downloader - INFO: Client 'GEONET' - Launching basic QC checks...\n",
      "[2021-11-25 00:50:09,842] - obspy.clients.fdsn.mass_downloader - INFO: Client 'GEONET' - Downloaded 0.0 MB [2.96 KB/sec] of data, 0.0 MB of which were discarded afterwards.\n",
      "[2021-11-25 00:50:09,847] - obspy.clients.fdsn.mass_downloader - INFO: Client 'GEONET' - Status for 1 time intervals/channels after downloading: DOWNLOADED\n",
      "[2021-11-25 00:50:09,860] - obspy.clients.fdsn.mass_downloader - INFO: Client 'GEONET' - No station information to download.\n",
      "[2021-11-25 00:50:09,865] - obspy.clients.fdsn.mass_downloader - INFO: ============================== Final report\n",
      "[2021-11-25 00:50:09,869] - obspy.clients.fdsn.mass_downloader - INFO: 0 MiniSEED files [0.0 MB] already existed.\n",
      "[2021-11-25 00:50:09,872] - obspy.clients.fdsn.mass_downloader - INFO: 1 StationXML files [0.0 MB] already existed.\n",
      "[2021-11-25 00:50:09,873] - obspy.clients.fdsn.mass_downloader - INFO: Client 'GEONET' - Acquired 1 MiniSEED files [0.0 MB].\n",
      "[2021-11-25 00:50:09,873] - obspy.clients.fdsn.mass_downloader - INFO: Client 'GEONET' - Acquired 0 StationXML files [0.0 MB].\n",
      "[2021-11-25 00:50:09,873] - obspy.clients.fdsn.mass_downloader - INFO: Downloaded 0.0 MB in total.\n",
      "[2021-11-25 00:50:09,904] - obspy.clients.fdsn.mass_downloader - INFO: Initializing FDSN client(s) for GEONET.\n",
      "[2021-11-25 00:50:09,938] - obspy.clients.fdsn.mass_downloader - INFO: Successfully initialized 1 client(s): GEONET.\n",
      "[2021-11-25 00:50:09,945] - obspy.clients.fdsn.mass_downloader - INFO: Total acquired or preexisting stations: 0\n",
      "[2021-11-25 00:50:09,947] - obspy.clients.fdsn.mass_downloader - INFO: Client 'GEONET' - Requesting unreliable availability.\n"
     ]
    },
    {
     "name": "stdout",
     "output_type": "stream",
     "text": [
      "=================================================================\n",
      "Initiating mass download request.\n"
     ]
    },
    {
     "name": "stderr",
     "output_type": "stream",
     "text": [
      "[2021-11-25 00:50:10,545] - obspy.clients.fdsn.mass_downloader - INFO: Client 'GEONET' - Successfully requested availability (0.60 seconds)\n",
      "[2021-11-25 00:50:10,554] - obspy.clients.fdsn.mass_downloader - INFO: Client 'GEONET' - Found 1 stations (1 channels).\n",
      "[2021-11-25 00:50:10,564] - obspy.clients.fdsn.mass_downloader - INFO: Client 'GEONET' - Will attempt to download data from 1 stations.\n",
      "[2021-11-25 00:50:10,572] - obspy.clients.fdsn.mass_downloader - INFO: Client 'GEONET' - Status for 1 time intervals/channels before downloading: NEEDS_DOWNLOADING\n",
      "[2021-11-25 00:50:12,071] - obspy.clients.fdsn.mass_downloader - INFO: Client 'GEONET' - Successfully downloaded 1 channels (of 1)\n",
      "[2021-11-25 00:50:12,074] - obspy.clients.fdsn.mass_downloader - INFO: Client 'GEONET' - Launching basic QC checks...\n",
      "[2021-11-25 00:50:12,083] - obspy.clients.fdsn.mass_downloader - INFO: Client 'GEONET' - Downloaded 0.0 MB [3.03 KB/sec] of data, 0.0 MB of which were discarded afterwards.\n",
      "[2021-11-25 00:50:12,084] - obspy.clients.fdsn.mass_downloader - INFO: Client 'GEONET' - Status for 1 time intervals/channels after downloading: DOWNLOADED\n",
      "[2021-11-25 00:50:12,090] - obspy.clients.fdsn.mass_downloader - INFO: Client 'GEONET' - No station information to download.\n",
      "[2021-11-25 00:50:12,091] - obspy.clients.fdsn.mass_downloader - INFO: ============================== Final report\n",
      "[2021-11-25 00:50:12,092] - obspy.clients.fdsn.mass_downloader - INFO: 0 MiniSEED files [0.0 MB] already existed.\n",
      "[2021-11-25 00:50:12,093] - obspy.clients.fdsn.mass_downloader - INFO: 1 StationXML files [0.0 MB] already existed.\n",
      "[2021-11-25 00:50:12,093] - obspy.clients.fdsn.mass_downloader - INFO: Client 'GEONET' - Acquired 1 MiniSEED files [0.0 MB].\n",
      "[2021-11-25 00:50:12,093] - obspy.clients.fdsn.mass_downloader - INFO: Client 'GEONET' - Acquired 0 StationXML files [0.0 MB].\n",
      "[2021-11-25 00:50:12,093] - obspy.clients.fdsn.mass_downloader - INFO: Downloaded 0.0 MB in total.\n",
      "[2021-11-25 00:50:12,100] - obspy.clients.fdsn.mass_downloader - INFO: Initializing FDSN client(s) for GEONET.\n",
      "[2021-11-25 00:50:12,111] - obspy.clients.fdsn.mass_downloader - INFO: Successfully initialized 1 client(s): GEONET.\n",
      "[2021-11-25 00:50:12,112] - obspy.clients.fdsn.mass_downloader - INFO: Total acquired or preexisting stations: 0\n",
      "[2021-11-25 00:50:12,113] - obspy.clients.fdsn.mass_downloader - INFO: Client 'GEONET' - Requesting unreliable availability.\n"
     ]
    },
    {
     "name": "stdout",
     "output_type": "stream",
     "text": [
      "=================================================================\n",
      "Initiating mass download request.\n"
     ]
    },
    {
     "name": "stderr",
     "output_type": "stream",
     "text": [
      "[2021-11-25 00:50:13,376] - obspy.clients.fdsn.mass_downloader - INFO: Client 'GEONET' - Successfully requested availability (1.26 seconds)\n",
      "[2021-11-25 00:50:13,439] - obspy.clients.fdsn.mass_downloader - INFO: Client 'GEONET' - Found 1 stations (1 channels).\n",
      "[2021-11-25 00:50:13,459] - obspy.clients.fdsn.mass_downloader - INFO: Client 'GEONET' - Will attempt to download data from 1 stations.\n",
      "[2021-11-25 00:50:13,466] - obspy.clients.fdsn.mass_downloader - INFO: Client 'GEONET' - Status for 1 time intervals/channels before downloading: NEEDS_DOWNLOADING\n",
      "[2021-11-25 00:50:14,347] - obspy.clients.fdsn.mass_downloader - INFO: Client 'GEONET' - Successfully downloaded 1 channels (of 1)\n",
      "[2021-11-25 00:50:14,362] - obspy.clients.fdsn.mass_downloader - INFO: Client 'GEONET' - Launching basic QC checks...\n",
      "[2021-11-25 00:50:14,382] - obspy.clients.fdsn.mass_downloader - INFO: Client 'GEONET' - Downloaded 0.0 MB [4.63 KB/sec] of data, 0.0 MB of which were discarded afterwards.\n",
      "[2021-11-25 00:50:14,383] - obspy.clients.fdsn.mass_downloader - INFO: Client 'GEONET' - Status for 1 time intervals/channels after downloading: DOWNLOADED\n",
      "[2021-11-25 00:50:14,386] - obspy.clients.fdsn.mass_downloader - INFO: Client 'GEONET' - No station information to download.\n",
      "[2021-11-25 00:50:14,390] - obspy.clients.fdsn.mass_downloader - INFO: ============================== Final report\n",
      "[2021-11-25 00:50:14,394] - obspy.clients.fdsn.mass_downloader - INFO: 0 MiniSEED files [0.0 MB] already existed.\n",
      "[2021-11-25 00:50:14,395] - obspy.clients.fdsn.mass_downloader - INFO: 1 StationXML files [0.0 MB] already existed.\n",
      "[2021-11-25 00:50:14,396] - obspy.clients.fdsn.mass_downloader - INFO: Client 'GEONET' - Acquired 1 MiniSEED files [0.0 MB].\n",
      "[2021-11-25 00:50:14,396] - obspy.clients.fdsn.mass_downloader - INFO: Client 'GEONET' - Acquired 0 StationXML files [0.0 MB].\n",
      "[2021-11-25 00:50:14,397] - obspy.clients.fdsn.mass_downloader - INFO: Downloaded 0.0 MB in total.\n",
      "[2021-11-25 00:50:14,403] - obspy.clients.fdsn.mass_downloader - INFO: Initializing FDSN client(s) for GEONET.\n",
      "[2021-11-25 00:50:14,416] - obspy.clients.fdsn.mass_downloader - INFO: Successfully initialized 1 client(s): GEONET.\n",
      "[2021-11-25 00:50:14,418] - obspy.clients.fdsn.mass_downloader - INFO: Total acquired or preexisting stations: 0\n",
      "[2021-11-25 00:50:14,419] - obspy.clients.fdsn.mass_downloader - INFO: Client 'GEONET' - Requesting unreliable availability.\n"
     ]
    },
    {
     "name": "stdout",
     "output_type": "stream",
     "text": [
      "=================================================================\n",
      "Initiating mass download request.\n"
     ]
    },
    {
     "name": "stderr",
     "output_type": "stream",
     "text": [
      "[2021-11-25 00:50:14,980] - obspy.clients.fdsn.mass_downloader - INFO: Client 'GEONET' - Successfully requested availability (0.56 seconds)\n",
      "[2021-11-25 00:50:14,984] - obspy.clients.fdsn.mass_downloader - INFO: Client 'GEONET' - Found 1 stations (1 channels).\n",
      "[2021-11-25 00:50:14,985] - obspy.clients.fdsn.mass_downloader - INFO: Client 'GEONET' - Will attempt to download data from 1 stations.\n",
      "[2021-11-25 00:50:14,987] - obspy.clients.fdsn.mass_downloader - INFO: Client 'GEONET' - Status for 1 time intervals/channels before downloading: NEEDS_DOWNLOADING\n",
      "[2021-11-25 00:50:15,785] - obspy.clients.fdsn.mass_downloader - INFO: Client 'GEONET' - Successfully downloaded 1 channels (of 1)\n",
      "[2021-11-25 00:50:15,827] - obspy.clients.fdsn.mass_downloader - INFO: Client 'GEONET' - Launching basic QC checks...\n",
      "[2021-11-25 00:50:15,840] - obspy.clients.fdsn.mass_downloader - INFO: Client 'GEONET' - Downloaded 0.0 MB [4.78 KB/sec] of data, 0.0 MB of which were discarded afterwards.\n",
      "[2021-11-25 00:50:15,860] - obspy.clients.fdsn.mass_downloader - INFO: Client 'GEONET' - Status for 1 time intervals/channels after downloading: DOWNLOADED\n",
      "[2021-11-25 00:50:15,868] - obspy.clients.fdsn.mass_downloader - INFO: Client 'GEONET' - No station information to download.\n",
      "[2021-11-25 00:50:15,874] - obspy.clients.fdsn.mass_downloader - INFO: ============================== Final report\n",
      "[2021-11-25 00:50:15,880] - obspy.clients.fdsn.mass_downloader - INFO: 0 MiniSEED files [0.0 MB] already existed.\n",
      "[2021-11-25 00:50:15,883] - obspy.clients.fdsn.mass_downloader - INFO: 1 StationXML files [0.0 MB] already existed.\n",
      "[2021-11-25 00:50:15,886] - obspy.clients.fdsn.mass_downloader - INFO: Client 'GEONET' - Acquired 1 MiniSEED files [0.0 MB].\n",
      "[2021-11-25 00:50:15,889] - obspy.clients.fdsn.mass_downloader - INFO: Client 'GEONET' - Acquired 0 StationXML files [0.0 MB].\n",
      "[2021-11-25 00:50:15,891] - obspy.clients.fdsn.mass_downloader - INFO: Downloaded 0.0 MB in total.\n",
      "[2021-11-25 00:50:15,916] - obspy.clients.fdsn.mass_downloader - INFO: Initializing FDSN client(s) for GEONET.\n",
      "[2021-11-25 00:50:15,972] - obspy.clients.fdsn.mass_downloader - INFO: Successfully initialized 1 client(s): GEONET.\n",
      "[2021-11-25 00:50:15,979] - obspy.clients.fdsn.mass_downloader - INFO: Total acquired or preexisting stations: 0\n",
      "[2021-11-25 00:50:15,982] - obspy.clients.fdsn.mass_downloader - INFO: Client 'GEONET' - Requesting unreliable availability.\n"
     ]
    },
    {
     "name": "stdout",
     "output_type": "stream",
     "text": [
      "=================================================================\n",
      "Initiating mass download request.\n"
     ]
    },
    {
     "name": "stderr",
     "output_type": "stream",
     "text": [
      "[2021-11-25 00:50:16,588] - obspy.clients.fdsn.mass_downloader - INFO: Client 'GEONET' - Successfully requested availability (0.60 seconds)\n",
      "[2021-11-25 00:50:16,595] - obspy.clients.fdsn.mass_downloader - INFO: Client 'GEONET' - Found 1 stations (1 channels).\n",
      "[2021-11-25 00:50:16,596] - obspy.clients.fdsn.mass_downloader - INFO: Client 'GEONET' - Will attempt to download data from 1 stations.\n",
      "[2021-11-25 00:50:16,598] - obspy.clients.fdsn.mass_downloader - INFO: Client 'GEONET' - Status for 1 time intervals/channels before downloading: NEEDS_DOWNLOADING\n",
      "[2021-11-25 00:50:17,246] - obspy.clients.fdsn.mass_downloader - INFO: Client 'GEONET' - No data available for request.\n",
      "[2021-11-25 00:50:17,299] - obspy.clients.fdsn.mass_downloader - INFO: Client 'GEONET' - Launching basic QC checks...\n",
      "[2021-11-25 00:50:17,331] - obspy.clients.fdsn.mass_downloader - INFO: Client 'GEONET' - Downloaded 0.0 MB [0.00 KB/sec] of data, 0.0 MB of which were discarded afterwards.\n",
      "[2021-11-25 00:50:17,342] - obspy.clients.fdsn.mass_downloader - INFO: Client 'GEONET' - Status for 1 time intervals/channels after downloading: DOWNLOAD_FAILED\n",
      "[2021-11-25 00:50:17,346] - obspy.clients.fdsn.mass_downloader - INFO: Client 'GEONET' - No station information to download.\n",
      "[2021-11-25 00:50:17,349] - obspy.clients.fdsn.mass_downloader - INFO: Client 'GEONET' - No data could be downloaded.\n",
      "[2021-11-25 00:50:17,355] - obspy.clients.fdsn.mass_downloader - INFO: ============================== Final report\n",
      "[2021-11-25 00:50:17,356] - obspy.clients.fdsn.mass_downloader - INFO: 0 MiniSEED files [0.0 MB] already existed.\n",
      "[2021-11-25 00:50:17,358] - obspy.clients.fdsn.mass_downloader - INFO: 0 StationXML files [0.0 MB] already existed.\n",
      "[2021-11-25 00:50:17,360] - obspy.clients.fdsn.mass_downloader - INFO: Client 'GEONET' - Acquired 0 MiniSEED files [0.0 MB].\n",
      "[2021-11-25 00:50:17,361] - obspy.clients.fdsn.mass_downloader - INFO: Client 'GEONET' - Acquired 0 StationXML files [0.0 MB].\n",
      "[2021-11-25 00:50:17,365] - obspy.clients.fdsn.mass_downloader - INFO: Downloaded 0.0 MB in total.\n",
      "[2021-11-25 00:50:17,400] - obspy.clients.fdsn.mass_downloader - INFO: Initializing FDSN client(s) for GEONET.\n",
      "[2021-11-25 00:50:17,433] - obspy.clients.fdsn.mass_downloader - INFO: Successfully initialized 1 client(s): GEONET.\n",
      "[2021-11-25 00:50:17,438] - obspy.clients.fdsn.mass_downloader - INFO: Total acquired or preexisting stations: 0\n",
      "[2021-11-25 00:50:17,446] - obspy.clients.fdsn.mass_downloader - INFO: Client 'GEONET' - Requesting unreliable availability.\n"
     ]
    },
    {
     "name": "stdout",
     "output_type": "stream",
     "text": [
      "=================================================================\n",
      "Initiating mass download request.\n"
     ]
    },
    {
     "name": "stderr",
     "output_type": "stream",
     "text": [
      "[2021-11-25 00:50:18,033] - obspy.clients.fdsn.mass_downloader - INFO: Client 'GEONET' - Successfully requested availability (0.58 seconds)\n",
      "[2021-11-25 00:50:18,052] - obspy.clients.fdsn.mass_downloader - INFO: Client 'GEONET' - Found 1 stations (1 channels).\n",
      "[2021-11-25 00:50:18,057] - obspy.clients.fdsn.mass_downloader - INFO: Client 'GEONET' - Will attempt to download data from 1 stations.\n",
      "[2021-11-25 00:50:18,068] - obspy.clients.fdsn.mass_downloader - INFO: Client 'GEONET' - Status for 1 time intervals/channels before downloading: NEEDS_DOWNLOADING\n",
      "[2021-11-25 00:50:18,849] - obspy.clients.fdsn.mass_downloader - INFO: Client 'GEONET' - Successfully downloaded 1 channels (of 1)\n",
      "[2021-11-25 00:50:18,875] - obspy.clients.fdsn.mass_downloader - INFO: Client 'GEONET' - Launching basic QC checks...\n",
      "[2021-11-25 00:50:18,898] - obspy.clients.fdsn.mass_downloader - INFO: Client 'GEONET' - Downloaded 0.0 MB [4.45 KB/sec] of data, 0.0 MB of which were discarded afterwards.\n",
      "[2021-11-25 00:50:18,899] - obspy.clients.fdsn.mass_downloader - INFO: Client 'GEONET' - Status for 1 time intervals/channels after downloading: DOWNLOADED\n",
      "[2021-11-25 00:50:18,922] - obspy.clients.fdsn.mass_downloader - INFO: Client 'GEONET' - No station information to download.\n",
      "[2021-11-25 00:50:18,927] - obspy.clients.fdsn.mass_downloader - INFO: ============================== Final report\n",
      "[2021-11-25 00:50:18,928] - obspy.clients.fdsn.mass_downloader - INFO: 0 MiniSEED files [0.0 MB] already existed.\n",
      "[2021-11-25 00:50:18,930] - obspy.clients.fdsn.mass_downloader - INFO: 1 StationXML files [0.0 MB] already existed.\n",
      "[2021-11-25 00:50:18,931] - obspy.clients.fdsn.mass_downloader - INFO: Client 'GEONET' - Acquired 1 MiniSEED files [0.0 MB].\n",
      "[2021-11-25 00:50:18,934] - obspy.clients.fdsn.mass_downloader - INFO: Client 'GEONET' - Acquired 0 StationXML files [0.0 MB].\n",
      "[2021-11-25 00:50:18,936] - obspy.clients.fdsn.mass_downloader - INFO: Downloaded 0.0 MB in total.\n",
      "[2021-11-25 00:50:18,944] - obspy.clients.fdsn.mass_downloader - INFO: Initializing FDSN client(s) for GEONET.\n",
      "[2021-11-25 00:50:18,951] - obspy.clients.fdsn.mass_downloader - INFO: Successfully initialized 1 client(s): GEONET.\n",
      "[2021-11-25 00:50:18,956] - obspy.clients.fdsn.mass_downloader - INFO: Total acquired or preexisting stations: 0\n",
      "[2021-11-25 00:50:18,958] - obspy.clients.fdsn.mass_downloader - INFO: Client 'GEONET' - Requesting unreliable availability.\n"
     ]
    },
    {
     "name": "stdout",
     "output_type": "stream",
     "text": [
      "=================================================================\n",
      "Initiating mass download request.\n"
     ]
    },
    {
     "name": "stderr",
     "output_type": "stream",
     "text": [
      "[2021-11-25 00:50:19,537] - obspy.clients.fdsn.mass_downloader - INFO: Client 'GEONET' - Successfully requested availability (0.58 seconds)\n",
      "[2021-11-25 00:50:19,557] - obspy.clients.fdsn.mass_downloader - INFO: Client 'GEONET' - Found 1 stations (1 channels).\n",
      "[2021-11-25 00:50:19,559] - obspy.clients.fdsn.mass_downloader - INFO: Client 'GEONET' - Will attempt to download data from 1 stations.\n",
      "[2021-11-25 00:50:19,566] - obspy.clients.fdsn.mass_downloader - INFO: Client 'GEONET' - Status for 1 time intervals/channels before downloading: NEEDS_DOWNLOADING\n",
      "[2021-11-25 00:50:20,516] - obspy.clients.fdsn.mass_downloader - INFO: Client 'GEONET' - Successfully downloaded 1 channels (of 1)\n",
      "[2021-11-25 00:50:20,582] - obspy.clients.fdsn.mass_downloader - INFO: Client 'GEONET' - Launching basic QC checks...\n",
      "[2021-11-25 00:50:20,632] - obspy.clients.fdsn.mass_downloader - INFO: Client 'GEONET' - Downloaded 0.0 MB [3.97 KB/sec] of data, 0.0 MB of which were discarded afterwards.\n",
      "[2021-11-25 00:50:20,638] - obspy.clients.fdsn.mass_downloader - INFO: Client 'GEONET' - Status for 1 time intervals/channels after downloading: DOWNLOADED\n",
      "[2021-11-25 00:50:20,650] - obspy.clients.fdsn.mass_downloader - INFO: Client 'GEONET' - No station information to download.\n",
      "[2021-11-25 00:50:20,657] - obspy.clients.fdsn.mass_downloader - INFO: ============================== Final report\n",
      "[2021-11-25 00:50:20,660] - obspy.clients.fdsn.mass_downloader - INFO: 0 MiniSEED files [0.0 MB] already existed.\n",
      "[2021-11-25 00:50:20,660] - obspy.clients.fdsn.mass_downloader - INFO: 1 StationXML files [0.0 MB] already existed.\n",
      "[2021-11-25 00:50:20,661] - obspy.clients.fdsn.mass_downloader - INFO: Client 'GEONET' - Acquired 1 MiniSEED files [0.0 MB].\n",
      "[2021-11-25 00:50:20,661] - obspy.clients.fdsn.mass_downloader - INFO: Client 'GEONET' - Acquired 0 StationXML files [0.0 MB].\n",
      "[2021-11-25 00:50:20,663] - obspy.clients.fdsn.mass_downloader - INFO: Downloaded 0.0 MB in total.\n",
      "[2021-11-25 00:50:20,681] - obspy.clients.fdsn.mass_downloader - INFO: Initializing FDSN client(s) for GEONET.\n",
      "[2021-11-25 00:50:20,685] - obspy.clients.fdsn.mass_downloader - INFO: Successfully initialized 1 client(s): GEONET.\n",
      "[2021-11-25 00:50:20,687] - obspy.clients.fdsn.mass_downloader - INFO: Total acquired or preexisting stations: 0\n",
      "[2021-11-25 00:50:20,688] - obspy.clients.fdsn.mass_downloader - INFO: Client 'GEONET' - Requesting unreliable availability.\n"
     ]
    },
    {
     "name": "stdout",
     "output_type": "stream",
     "text": [
      "=================================================================\n",
      "Initiating mass download request.\n"
     ]
    },
    {
     "name": "stderr",
     "output_type": "stream",
     "text": [
      "[2021-11-25 00:50:21,316] - obspy.clients.fdsn.mass_downloader - INFO: Client 'GEONET' - Successfully requested availability (0.63 seconds)\n",
      "[2021-11-25 00:50:21,318] - obspy.clients.fdsn.mass_downloader - INFO: Client 'GEONET' - Found 1 stations (1 channels).\n",
      "[2021-11-25 00:50:21,318] - obspy.clients.fdsn.mass_downloader - INFO: Client 'GEONET' - Will attempt to download data from 1 stations.\n",
      "[2021-11-25 00:50:21,319] - obspy.clients.fdsn.mass_downloader - INFO: Client 'GEONET' - Status for 1 time intervals/channels before downloading: NEEDS_DOWNLOADING\n",
      "[2021-11-25 00:50:22,127] - obspy.clients.fdsn.mass_downloader - INFO: Client 'GEONET' - Successfully downloaded 1 channels (of 1)\n",
      "[2021-11-25 00:50:22,130] - obspy.clients.fdsn.mass_downloader - INFO: Client 'GEONET' - Launching basic QC checks...\n",
      "[2021-11-25 00:50:22,134] - obspy.clients.fdsn.mass_downloader - INFO: Client 'GEONET' - Downloaded 0.0 MB [4.35 KB/sec] of data, 0.0 MB of which were discarded afterwards.\n",
      "[2021-11-25 00:50:22,134] - obspy.clients.fdsn.mass_downloader - INFO: Client 'GEONET' - Status for 1 time intervals/channels after downloading: DOWNLOADED\n",
      "[2021-11-25 00:50:22,138] - obspy.clients.fdsn.mass_downloader - INFO: Client 'GEONET' - No station information to download.\n",
      "[2021-11-25 00:50:22,139] - obspy.clients.fdsn.mass_downloader - INFO: ============================== Final report\n",
      "[2021-11-25 00:50:22,139] - obspy.clients.fdsn.mass_downloader - INFO: 0 MiniSEED files [0.0 MB] already existed.\n",
      "[2021-11-25 00:50:22,139] - obspy.clients.fdsn.mass_downloader - INFO: 1 StationXML files [0.0 MB] already existed.\n",
      "[2021-11-25 00:50:22,140] - obspy.clients.fdsn.mass_downloader - INFO: Client 'GEONET' - Acquired 1 MiniSEED files [0.0 MB].\n",
      "[2021-11-25 00:50:22,140] - obspy.clients.fdsn.mass_downloader - INFO: Client 'GEONET' - Acquired 0 StationXML files [0.0 MB].\n",
      "[2021-11-25 00:50:22,140] - obspy.clients.fdsn.mass_downloader - INFO: Downloaded 0.0 MB in total.\n",
      "[2021-11-25 00:50:22,142] - obspy.clients.fdsn.mass_downloader - INFO: Initializing FDSN client(s) for GEONET.\n",
      "[2021-11-25 00:50:22,146] - obspy.clients.fdsn.mass_downloader - INFO: Successfully initialized 1 client(s): GEONET.\n",
      "[2021-11-25 00:50:22,147] - obspy.clients.fdsn.mass_downloader - INFO: Total acquired or preexisting stations: 0\n",
      "[2021-11-25 00:50:22,147] - obspy.clients.fdsn.mass_downloader - INFO: Client 'GEONET' - Requesting unreliable availability.\n"
     ]
    },
    {
     "name": "stdout",
     "output_type": "stream",
     "text": [
      "=================================================================\n",
      "Initiating mass download request.\n"
     ]
    },
    {
     "name": "stderr",
     "output_type": "stream",
     "text": [
      "[2021-11-25 00:50:22,745] - obspy.clients.fdsn.mass_downloader - INFO: Client 'GEONET' - Successfully requested availability (0.60 seconds)\n",
      "[2021-11-25 00:50:22,766] - obspy.clients.fdsn.mass_downloader - INFO: Client 'GEONET' - Found 1 stations (1 channels).\n",
      "[2021-11-25 00:50:22,774] - obspy.clients.fdsn.mass_downloader - INFO: Client 'GEONET' - Will attempt to download data from 1 stations.\n",
      "[2021-11-25 00:50:22,783] - obspy.clients.fdsn.mass_downloader - INFO: Client 'GEONET' - Status for 1 time intervals/channels before downloading: NEEDS_DOWNLOADING\n",
      "[2021-11-25 00:50:23,553] - obspy.clients.fdsn.mass_downloader - INFO: Client 'GEONET' - Successfully downloaded 1 channels (of 1)\n",
      "[2021-11-25 00:50:23,602] - obspy.clients.fdsn.mass_downloader - INFO: Client 'GEONET' - Launching basic QC checks...\n",
      "[2021-11-25 00:50:23,656] - obspy.clients.fdsn.mass_downloader - INFO: Client 'GEONET' - Downloaded 0.0 MB [3.78 KB/sec] of data, 0.0 MB of which were discarded afterwards.\n",
      "[2021-11-25 00:50:23,671] - obspy.clients.fdsn.mass_downloader - INFO: Client 'GEONET' - Status for 1 time intervals/channels after downloading: DOWNLOADED\n",
      "[2021-11-25 00:50:23,692] - obspy.clients.fdsn.mass_downloader - INFO: Client 'GEONET' - No station information to download.\n",
      "[2021-11-25 00:50:23,702] - obspy.clients.fdsn.mass_downloader - INFO: ============================== Final report\n",
      "[2021-11-25 00:50:23,710] - obspy.clients.fdsn.mass_downloader - INFO: 0 MiniSEED files [0.0 MB] already existed.\n",
      "[2021-11-25 00:50:23,714] - obspy.clients.fdsn.mass_downloader - INFO: 1 StationXML files [0.0 MB] already existed.\n",
      "[2021-11-25 00:50:23,716] - obspy.clients.fdsn.mass_downloader - INFO: Client 'GEONET' - Acquired 1 MiniSEED files [0.0 MB].\n",
      "[2021-11-25 00:50:23,717] - obspy.clients.fdsn.mass_downloader - INFO: Client 'GEONET' - Acquired 0 StationXML files [0.0 MB].\n",
      "[2021-11-25 00:50:23,721] - obspy.clients.fdsn.mass_downloader - INFO: Downloaded 0.0 MB in total.\n",
      "[2021-11-25 00:50:23,771] - obspy.clients.fdsn.mass_downloader - INFO: Initializing FDSN client(s) for GEONET.\n",
      "[2021-11-25 00:50:23,833] - obspy.clients.fdsn.mass_downloader - INFO: Successfully initialized 1 client(s): GEONET.\n",
      "[2021-11-25 00:50:23,839] - obspy.clients.fdsn.mass_downloader - INFO: Total acquired or preexisting stations: 0\n",
      "[2021-11-25 00:50:23,842] - obspy.clients.fdsn.mass_downloader - INFO: Client 'GEONET' - Requesting unreliable availability.\n"
     ]
    },
    {
     "name": "stdout",
     "output_type": "stream",
     "text": [
      "=================================================================\n",
      "Initiating mass download request.\n"
     ]
    },
    {
     "name": "stderr",
     "output_type": "stream",
     "text": [
      "[2021-11-25 00:50:25,267] - obspy.clients.fdsn.mass_downloader - INFO: Client 'GEONET' - Successfully requested availability (1.42 seconds)\n",
      "[2021-11-25 00:50:25,310] - obspy.clients.fdsn.mass_downloader - INFO: Client 'GEONET' - Found 1 stations (1 channels).\n",
      "[2021-11-25 00:50:25,328] - obspy.clients.fdsn.mass_downloader - INFO: Client 'GEONET' - Will attempt to download data from 1 stations.\n",
      "[2021-11-25 00:50:25,347] - obspy.clients.fdsn.mass_downloader - INFO: Client 'GEONET' - Status for 1 time intervals/channels before downloading: NEEDS_DOWNLOADING\n",
      "[2021-11-25 00:50:26,106] - obspy.clients.fdsn.mass_downloader - INFO: Client 'GEONET' - Successfully downloaded 1 channels (of 1)\n",
      "[2021-11-25 00:50:26,176] - obspy.clients.fdsn.mass_downloader - INFO: Client 'GEONET' - Launching basic QC checks...\n",
      "[2021-11-25 00:50:26,218] - obspy.clients.fdsn.mass_downloader - INFO: Client 'GEONET' - Downloaded 0.0 MB [4.41 KB/sec] of data, 0.0 MB of which were discarded afterwards.\n",
      "[2021-11-25 00:50:26,248] - obspy.clients.fdsn.mass_downloader - INFO: Client 'GEONET' - Status for 1 time intervals/channels after downloading: DOWNLOADED\n",
      "[2021-11-25 00:50:26,272] - obspy.clients.fdsn.mass_downloader - INFO: Client 'GEONET' - No station information to download.\n",
      "[2021-11-25 00:50:26,281] - obspy.clients.fdsn.mass_downloader - INFO: ============================== Final report\n",
      "[2021-11-25 00:50:26,287] - obspy.clients.fdsn.mass_downloader - INFO: 0 MiniSEED files [0.0 MB] already existed.\n",
      "[2021-11-25 00:50:26,289] - obspy.clients.fdsn.mass_downloader - INFO: 1 StationXML files [0.0 MB] already existed.\n",
      "[2021-11-25 00:50:26,290] - obspy.clients.fdsn.mass_downloader - INFO: Client 'GEONET' - Acquired 1 MiniSEED files [0.0 MB].\n",
      "[2021-11-25 00:50:26,291] - obspy.clients.fdsn.mass_downloader - INFO: Client 'GEONET' - Acquired 0 StationXML files [0.0 MB].\n",
      "[2021-11-25 00:50:26,294] - obspy.clients.fdsn.mass_downloader - INFO: Downloaded 0.0 MB in total.\n",
      "[2021-11-25 00:50:26,305] - obspy.clients.fdsn.mass_downloader - INFO: Initializing FDSN client(s) for GEONET.\n",
      "[2021-11-25 00:50:26,352] - obspy.clients.fdsn.mass_downloader - INFO: Successfully initialized 1 client(s): GEONET.\n",
      "[2021-11-25 00:50:26,359] - obspy.clients.fdsn.mass_downloader - INFO: Total acquired or preexisting stations: 0\n",
      "[2021-11-25 00:50:26,362] - obspy.clients.fdsn.mass_downloader - INFO: Client 'GEONET' - Requesting unreliable availability.\n"
     ]
    },
    {
     "name": "stdout",
     "output_type": "stream",
     "text": [
      "=================================================================\n",
      "Initiating mass download request.\n"
     ]
    },
    {
     "name": "stderr",
     "output_type": "stream",
     "text": [
      "[2021-11-25 00:50:27,042] - obspy.clients.fdsn.mass_downloader - INFO: Client 'GEONET' - Successfully requested availability (0.68 seconds)\n",
      "[2021-11-25 00:50:27,113] - obspy.clients.fdsn.mass_downloader - INFO: Client 'GEONET' - Found 1 stations (1 channels).\n",
      "[2021-11-25 00:50:27,122] - obspy.clients.fdsn.mass_downloader - INFO: Client 'GEONET' - Will attempt to download data from 1 stations.\n",
      "[2021-11-25 00:50:27,148] - obspy.clients.fdsn.mass_downloader - INFO: Client 'GEONET' - Status for 1 time intervals/channels before downloading: NEEDS_DOWNLOADING\n",
      "[2021-11-25 00:50:27,982] - obspy.clients.fdsn.mass_downloader - INFO: Client 'GEONET' - Successfully downloaded 1 channels (of 1)\n",
      "[2021-11-25 00:50:28,057] - obspy.clients.fdsn.mass_downloader - INFO: Client 'GEONET' - Launching basic QC checks...\n",
      "[2021-11-25 00:50:28,108] - obspy.clients.fdsn.mass_downloader - INFO: Client 'GEONET' - Downloaded 0.0 MB [3.41 KB/sec] of data, 0.0 MB of which were discarded afterwards.\n",
      "[2021-11-25 00:50:28,117] - obspy.clients.fdsn.mass_downloader - INFO: Client 'GEONET' - Status for 1 time intervals/channels after downloading: DOWNLOADED\n",
      "[2021-11-25 00:50:28,139] - obspy.clients.fdsn.mass_downloader - INFO: Client 'GEONET' - No station information to download.\n",
      "[2021-11-25 00:50:28,146] - obspy.clients.fdsn.mass_downloader - INFO: ============================== Final report\n",
      "[2021-11-25 00:50:28,157] - obspy.clients.fdsn.mass_downloader - INFO: 0 MiniSEED files [0.0 MB] already existed.\n",
      "[2021-11-25 00:50:28,161] - obspy.clients.fdsn.mass_downloader - INFO: 1 StationXML files [0.0 MB] already existed.\n",
      "[2021-11-25 00:50:28,173] - obspy.clients.fdsn.mass_downloader - INFO: Client 'GEONET' - Acquired 1 MiniSEED files [0.0 MB].\n",
      "[2021-11-25 00:50:28,174] - obspy.clients.fdsn.mass_downloader - INFO: Client 'GEONET' - Acquired 0 StationXML files [0.0 MB].\n",
      "[2021-11-25 00:50:28,179] - obspy.clients.fdsn.mass_downloader - INFO: Downloaded 0.0 MB in total.\n",
      "[2021-11-25 00:50:28,198] - obspy.clients.fdsn.mass_downloader - INFO: Initializing FDSN client(s) for GEONET.\n",
      "[2021-11-25 00:50:28,237] - obspy.clients.fdsn.mass_downloader - INFO: Successfully initialized 1 client(s): GEONET.\n",
      "[2021-11-25 00:50:28,241] - obspy.clients.fdsn.mass_downloader - INFO: Total acquired or preexisting stations: 0\n",
      "[2021-11-25 00:50:28,245] - obspy.clients.fdsn.mass_downloader - INFO: Client 'GEONET' - Requesting unreliable availability.\n"
     ]
    },
    {
     "name": "stdout",
     "output_type": "stream",
     "text": [
      "=================================================================\n",
      "Initiating mass download request.\n"
     ]
    },
    {
     "name": "stderr",
     "output_type": "stream",
     "text": [
      "[2021-11-25 00:50:28,835] - obspy.clients.fdsn.mass_downloader - INFO: Client 'GEONET' - Successfully requested availability (0.58 seconds)\n",
      "[2021-11-25 00:50:28,845] - obspy.clients.fdsn.mass_downloader - INFO: Client 'GEONET' - Found 1 stations (1 channels).\n",
      "[2021-11-25 00:50:28,850] - obspy.clients.fdsn.mass_downloader - INFO: Client 'GEONET' - Will attempt to download data from 1 stations.\n",
      "[2021-11-25 00:50:28,860] - obspy.clients.fdsn.mass_downloader - INFO: Client 'GEONET' - Status for 1 time intervals/channels before downloading: NEEDS_DOWNLOADING\n",
      "[2021-11-25 00:50:29,821] - obspy.clients.fdsn.mass_downloader - INFO: Client 'GEONET' - Successfully downloaded 1 channels (of 1)\n",
      "[2021-11-25 00:50:29,854] - obspy.clients.fdsn.mass_downloader - INFO: Client 'GEONET' - Launching basic QC checks...\n",
      "[2021-11-25 00:50:29,902] - obspy.clients.fdsn.mass_downloader - INFO: Client 'GEONET' - Downloaded 0.0 MB [3.61 KB/sec] of data, 0.0 MB of which were discarded afterwards.\n",
      "[2021-11-25 00:50:29,909] - obspy.clients.fdsn.mass_downloader - INFO: Client 'GEONET' - Status for 1 time intervals/channels after downloading: DOWNLOADED\n",
      "[2021-11-25 00:50:29,927] - obspy.clients.fdsn.mass_downloader - INFO: Client 'GEONET' - No station information to download.\n",
      "[2021-11-25 00:50:29,941] - obspy.clients.fdsn.mass_downloader - INFO: ============================== Final report\n",
      "[2021-11-25 00:50:29,943] - obspy.clients.fdsn.mass_downloader - INFO: 0 MiniSEED files [0.0 MB] already existed.\n",
      "[2021-11-25 00:50:29,943] - obspy.clients.fdsn.mass_downloader - INFO: 1 StationXML files [0.0 MB] already existed.\n",
      "[2021-11-25 00:50:29,947] - obspy.clients.fdsn.mass_downloader - INFO: Client 'GEONET' - Acquired 1 MiniSEED files [0.0 MB].\n",
      "[2021-11-25 00:50:29,951] - obspy.clients.fdsn.mass_downloader - INFO: Client 'GEONET' - Acquired 0 StationXML files [0.0 MB].\n",
      "[2021-11-25 00:50:29,960] - obspy.clients.fdsn.mass_downloader - INFO: Downloaded 0.0 MB in total.\n",
      "[2021-11-25 00:50:29,973] - obspy.clients.fdsn.mass_downloader - INFO: Initializing FDSN client(s) for GEONET.\n",
      "[2021-11-25 00:50:29,995] - obspy.clients.fdsn.mass_downloader - INFO: Successfully initialized 1 client(s): GEONET.\n",
      "[2021-11-25 00:50:30,001] - obspy.clients.fdsn.mass_downloader - INFO: Total acquired or preexisting stations: 0\n",
      "[2021-11-25 00:50:30,004] - obspy.clients.fdsn.mass_downloader - INFO: Client 'GEONET' - Requesting unreliable availability.\n"
     ]
    },
    {
     "name": "stdout",
     "output_type": "stream",
     "text": [
      "=================================================================\n",
      "Initiating mass download request.\n"
     ]
    },
    {
     "name": "stderr",
     "output_type": "stream",
     "text": [
      "[2021-11-25 00:50:30,561] - obspy.clients.fdsn.mass_downloader - INFO: Client 'GEONET' - Successfully requested availability (0.56 seconds)\n",
      "[2021-11-25 00:50:30,572] - obspy.clients.fdsn.mass_downloader - INFO: Client 'GEONET' - Found 1 stations (1 channels).\n",
      "[2021-11-25 00:50:30,576] - obspy.clients.fdsn.mass_downloader - INFO: Client 'GEONET' - Will attempt to download data from 1 stations.\n",
      "[2021-11-25 00:50:30,586] - obspy.clients.fdsn.mass_downloader - INFO: Client 'GEONET' - Status for 1 time intervals/channels before downloading: NEEDS_DOWNLOADING\n",
      "[2021-11-25 00:50:31,457] - obspy.clients.fdsn.mass_downloader - INFO: Client 'GEONET' - Successfully downloaded 1 channels (of 1)\n",
      "[2021-11-25 00:50:31,514] - obspy.clients.fdsn.mass_downloader - INFO: Client 'GEONET' - Launching basic QC checks...\n",
      "[2021-11-25 00:50:31,595] - obspy.clients.fdsn.mass_downloader - INFO: Client 'GEONET' - Downloaded 0.0 MB [3.36 KB/sec] of data, 0.0 MB of which were discarded afterwards.\n",
      "[2021-11-25 00:50:31,600] - obspy.clients.fdsn.mass_downloader - INFO: Client 'GEONET' - Status for 1 time intervals/channels after downloading: DOWNLOADED\n",
      "[2021-11-25 00:50:31,611] - obspy.clients.fdsn.mass_downloader - INFO: Client 'GEONET' - No station information to download.\n",
      "[2021-11-25 00:50:31,641] - obspy.clients.fdsn.mass_downloader - INFO: ============================== Final report\n",
      "[2021-11-25 00:50:31,646] - obspy.clients.fdsn.mass_downloader - INFO: 0 MiniSEED files [0.0 MB] already existed.\n",
      "[2021-11-25 00:50:31,649] - obspy.clients.fdsn.mass_downloader - INFO: 1 StationXML files [0.0 MB] already existed.\n",
      "[2021-11-25 00:50:31,649] - obspy.clients.fdsn.mass_downloader - INFO: Client 'GEONET' - Acquired 1 MiniSEED files [0.0 MB].\n",
      "[2021-11-25 00:50:31,650] - obspy.clients.fdsn.mass_downloader - INFO: Client 'GEONET' - Acquired 0 StationXML files [0.0 MB].\n",
      "[2021-11-25 00:50:31,650] - obspy.clients.fdsn.mass_downloader - INFO: Downloaded 0.0 MB in total.\n",
      "[2021-11-25 00:50:31,695] - obspy.clients.fdsn.mass_downloader - INFO: Initializing FDSN client(s) for GEONET.\n",
      "[2021-11-25 00:50:31,749] - obspy.clients.fdsn.mass_downloader - INFO: Successfully initialized 1 client(s): GEONET.\n",
      "[2021-11-25 00:50:31,754] - obspy.clients.fdsn.mass_downloader - INFO: Total acquired or preexisting stations: 0\n",
      "[2021-11-25 00:50:31,757] - obspy.clients.fdsn.mass_downloader - INFO: Client 'GEONET' - Requesting unreliable availability.\n"
     ]
    },
    {
     "name": "stdout",
     "output_type": "stream",
     "text": [
      "=================================================================\n",
      "Initiating mass download request.\n"
     ]
    },
    {
     "name": "stderr",
     "output_type": "stream",
     "text": [
      "[2021-11-25 00:50:32,459] - obspy.clients.fdsn.mass_downloader - INFO: Client 'GEONET' - Successfully requested availability (0.70 seconds)\n",
      "[2021-11-25 00:50:32,486] - obspy.clients.fdsn.mass_downloader - INFO: Client 'GEONET' - Found 1 stations (1 channels).\n",
      "[2021-11-25 00:50:32,492] - obspy.clients.fdsn.mass_downloader - INFO: Client 'GEONET' - Will attempt to download data from 1 stations.\n",
      "[2021-11-25 00:50:32,505] - obspy.clients.fdsn.mass_downloader - INFO: Client 'GEONET' - Status for 1 time intervals/channels before downloading: NEEDS_DOWNLOADING\n",
      "[2021-11-25 00:50:33,392] - obspy.clients.fdsn.mass_downloader - INFO: Client 'GEONET' - Successfully downloaded 1 channels (of 1)\n",
      "[2021-11-25 00:50:33,445] - obspy.clients.fdsn.mass_downloader - INFO: Client 'GEONET' - Launching basic QC checks...\n",
      "[2021-11-25 00:50:33,473] - obspy.clients.fdsn.mass_downloader - INFO: Client 'GEONET' - Downloaded 0.0 MB [4.32 KB/sec] of data, 0.0 MB of which were discarded afterwards.\n",
      "[2021-11-25 00:50:33,475] - obspy.clients.fdsn.mass_downloader - INFO: Client 'GEONET' - Status for 1 time intervals/channels after downloading: DOWNLOADED\n",
      "[2021-11-25 00:50:33,487] - obspy.clients.fdsn.mass_downloader - INFO: Client 'GEONET' - No station information to download.\n",
      "[2021-11-25 00:50:33,493] - obspy.clients.fdsn.mass_downloader - INFO: ============================== Final report\n",
      "[2021-11-25 00:50:33,494] - obspy.clients.fdsn.mass_downloader - INFO: 0 MiniSEED files [0.0 MB] already existed.\n",
      "[2021-11-25 00:50:33,496] - obspy.clients.fdsn.mass_downloader - INFO: 1 StationXML files [0.0 MB] already existed.\n",
      "[2021-11-25 00:50:33,497] - obspy.clients.fdsn.mass_downloader - INFO: Client 'GEONET' - Acquired 1 MiniSEED files [0.0 MB].\n",
      "[2021-11-25 00:50:33,501] - obspy.clients.fdsn.mass_downloader - INFO: Client 'GEONET' - Acquired 0 StationXML files [0.0 MB].\n",
      "[2021-11-25 00:50:33,503] - obspy.clients.fdsn.mass_downloader - INFO: Downloaded 0.0 MB in total.\n",
      "[2021-11-25 00:50:33,513] - obspy.clients.fdsn.mass_downloader - INFO: Initializing FDSN client(s) for GEONET.\n",
      "[2021-11-25 00:50:33,531] - obspy.clients.fdsn.mass_downloader - INFO: Successfully initialized 1 client(s): GEONET.\n",
      "[2021-11-25 00:50:33,534] - obspy.clients.fdsn.mass_downloader - INFO: Total acquired or preexisting stations: 0\n",
      "[2021-11-25 00:50:33,535] - obspy.clients.fdsn.mass_downloader - INFO: Client 'GEONET' - Requesting unreliable availability.\n"
     ]
    },
    {
     "name": "stdout",
     "output_type": "stream",
     "text": [
      "=================================================================\n",
      "Initiating mass download request.\n"
     ]
    },
    {
     "name": "stderr",
     "output_type": "stream",
     "text": [
      "[2021-11-25 00:50:35,107] - obspy.clients.fdsn.mass_downloader - INFO: Client 'GEONET' - Successfully requested availability (1.57 seconds)\n",
      "[2021-11-25 00:50:35,115] - obspy.clients.fdsn.mass_downloader - INFO: Client 'GEONET' - Found 1 stations (1 channels).\n",
      "[2021-11-25 00:50:35,118] - obspy.clients.fdsn.mass_downloader - INFO: Client 'GEONET' - Will attempt to download data from 1 stations.\n",
      "[2021-11-25 00:50:35,124] - obspy.clients.fdsn.mass_downloader - INFO: Client 'GEONET' - Status for 1 time intervals/channels before downloading: NEEDS_DOWNLOADING\n",
      "[2021-11-25 00:50:35,999] - obspy.clients.fdsn.mass_downloader - INFO: Client 'GEONET' - Successfully downloaded 1 channels (of 1)\n",
      "[2021-11-25 00:50:36,015] - obspy.clients.fdsn.mass_downloader - INFO: Client 'GEONET' - Launching basic QC checks...\n",
      "[2021-11-25 00:50:36,033] - obspy.clients.fdsn.mass_downloader - INFO: Client 'GEONET' - Downloaded 0.0 MB [4.57 KB/sec] of data, 0.0 MB of which were discarded afterwards.\n",
      "[2021-11-25 00:50:36,034] - obspy.clients.fdsn.mass_downloader - INFO: Client 'GEONET' - Status for 1 time intervals/channels after downloading: DOWNLOADED\n",
      "[2021-11-25 00:50:36,041] - obspy.clients.fdsn.mass_downloader - INFO: Client 'GEONET' - No station information to download.\n",
      "[2021-11-25 00:50:36,043] - obspy.clients.fdsn.mass_downloader - INFO: ============================== Final report\n",
      "[2021-11-25 00:50:36,044] - obspy.clients.fdsn.mass_downloader - INFO: 0 MiniSEED files [0.0 MB] already existed.\n",
      "[2021-11-25 00:50:36,050] - obspy.clients.fdsn.mass_downloader - INFO: 1 StationXML files [0.0 MB] already existed.\n",
      "[2021-11-25 00:50:36,052] - obspy.clients.fdsn.mass_downloader - INFO: Client 'GEONET' - Acquired 1 MiniSEED files [0.0 MB].\n",
      "[2021-11-25 00:50:36,052] - obspy.clients.fdsn.mass_downloader - INFO: Client 'GEONET' - Acquired 0 StationXML files [0.0 MB].\n",
      "[2021-11-25 00:50:36,053] - obspy.clients.fdsn.mass_downloader - INFO: Downloaded 0.0 MB in total.\n",
      "[2021-11-25 00:50:36,061] - obspy.clients.fdsn.mass_downloader - INFO: Initializing FDSN client(s) for GEONET.\n",
      "[2021-11-25 00:50:36,073] - obspy.clients.fdsn.mass_downloader - INFO: Successfully initialized 1 client(s): GEONET.\n",
      "[2021-11-25 00:50:36,075] - obspy.clients.fdsn.mass_downloader - INFO: Total acquired or preexisting stations: 0\n",
      "[2021-11-25 00:50:36,076] - obspy.clients.fdsn.mass_downloader - INFO: Client 'GEONET' - Requesting unreliable availability.\n"
     ]
    },
    {
     "name": "stdout",
     "output_type": "stream",
     "text": [
      "=================================================================\n",
      "Initiating mass download request.\n"
     ]
    },
    {
     "name": "stderr",
     "output_type": "stream",
     "text": [
      "[2021-11-25 00:50:37,513] - obspy.clients.fdsn.mass_downloader - INFO: Client 'GEONET' - Successfully requested availability (1.44 seconds)\n",
      "[2021-11-25 00:50:37,537] - obspy.clients.fdsn.mass_downloader - INFO: Client 'GEONET' - Found 1 stations (1 channels).\n",
      "[2021-11-25 00:50:37,571] - obspy.clients.fdsn.mass_downloader - INFO: Client 'GEONET' - Will attempt to download data from 1 stations.\n",
      "[2021-11-25 00:50:37,635] - obspy.clients.fdsn.mass_downloader - INFO: Client 'GEONET' - Status for 1 time intervals/channels before downloading: NEEDS_DOWNLOADING\n",
      "[2021-11-25 00:50:38,492] - obspy.clients.fdsn.mass_downloader - INFO: Client 'GEONET' - Successfully downloaded 1 channels (of 1)\n",
      "[2021-11-25 00:50:38,539] - obspy.clients.fdsn.mass_downloader - INFO: Client 'GEONET' - Launching basic QC checks...\n",
      "[2021-11-25 00:50:38,555] - obspy.clients.fdsn.mass_downloader - INFO: Client 'GEONET' - Downloaded 0.0 MB [4.72 KB/sec] of data, 0.0 MB of which were discarded afterwards.\n",
      "[2021-11-25 00:50:38,556] - obspy.clients.fdsn.mass_downloader - INFO: Client 'GEONET' - Status for 1 time intervals/channels after downloading: DOWNLOADED\n",
      "[2021-11-25 00:50:38,563] - obspy.clients.fdsn.mass_downloader - INFO: Client 'GEONET' - No station information to download.\n",
      "[2021-11-25 00:50:38,574] - obspy.clients.fdsn.mass_downloader - INFO: ============================== Final report\n",
      "[2021-11-25 00:50:38,578] - obspy.clients.fdsn.mass_downloader - INFO: 0 MiniSEED files [0.0 MB] already existed.\n",
      "[2021-11-25 00:50:38,581] - obspy.clients.fdsn.mass_downloader - INFO: 1 StationXML files [0.0 MB] already existed.\n",
      "[2021-11-25 00:50:38,583] - obspy.clients.fdsn.mass_downloader - INFO: Client 'GEONET' - Acquired 1 MiniSEED files [0.0 MB].\n",
      "[2021-11-25 00:50:38,585] - obspy.clients.fdsn.mass_downloader - INFO: Client 'GEONET' - Acquired 0 StationXML files [0.0 MB].\n",
      "[2021-11-25 00:50:38,586] - obspy.clients.fdsn.mass_downloader - INFO: Downloaded 0.0 MB in total.\n",
      "[2021-11-25 00:50:38,591] - obspy.clients.fdsn.mass_downloader - INFO: Initializing FDSN client(s) for GEONET.\n",
      "[2021-11-25 00:50:38,605] - obspy.clients.fdsn.mass_downloader - INFO: Successfully initialized 1 client(s): GEONET.\n",
      "[2021-11-25 00:50:38,616] - obspy.clients.fdsn.mass_downloader - INFO: Total acquired or preexisting stations: 0\n",
      "[2021-11-25 00:50:38,618] - obspy.clients.fdsn.mass_downloader - INFO: Client 'GEONET' - Requesting unreliable availability.\n"
     ]
    },
    {
     "name": "stdout",
     "output_type": "stream",
     "text": [
      "=================================================================\n",
      "Initiating mass download request.\n"
     ]
    },
    {
     "name": "stderr",
     "output_type": "stream",
     "text": [
      "[2021-11-25 00:50:39,254] - obspy.clients.fdsn.mass_downloader - INFO: Client 'GEONET' - Successfully requested availability (0.63 seconds)\n",
      "[2021-11-25 00:50:39,257] - obspy.clients.fdsn.mass_downloader - INFO: Client 'GEONET' - Found 1 stations (1 channels).\n",
      "[2021-11-25 00:50:39,258] - obspy.clients.fdsn.mass_downloader - INFO: Client 'GEONET' - Will attempt to download data from 1 stations.\n",
      "[2021-11-25 00:50:39,259] - obspy.clients.fdsn.mass_downloader - INFO: Client 'GEONET' - Status for 1 time intervals/channels before downloading: NEEDS_DOWNLOADING\n",
      "[2021-11-25 00:50:40,284] - obspy.clients.fdsn.mass_downloader - INFO: Client 'GEONET' - Successfully downloaded 1 channels (of 1)\n",
      "[2021-11-25 00:50:40,315] - obspy.clients.fdsn.mass_downloader - INFO: Client 'GEONET' - Launching basic QC checks...\n",
      "[2021-11-25 00:50:40,354] - obspy.clients.fdsn.mass_downloader - INFO: Client 'GEONET' - Downloaded 0.0 MB [3.81 KB/sec] of data, 0.0 MB of which were discarded afterwards.\n",
      "[2021-11-25 00:50:40,360] - obspy.clients.fdsn.mass_downloader - INFO: Client 'GEONET' - Status for 1 time intervals/channels after downloading: DOWNLOADED\n",
      "[2021-11-25 00:50:40,368] - obspy.clients.fdsn.mass_downloader - INFO: Client 'GEONET' - No station information to download.\n",
      "[2021-11-25 00:50:40,378] - obspy.clients.fdsn.mass_downloader - INFO: ============================== Final report\n",
      "[2021-11-25 00:50:40,385] - obspy.clients.fdsn.mass_downloader - INFO: 0 MiniSEED files [0.0 MB] already existed.\n",
      "[2021-11-25 00:50:40,388] - obspy.clients.fdsn.mass_downloader - INFO: 1 StationXML files [0.0 MB] already existed.\n",
      "[2021-11-25 00:50:40,391] - obspy.clients.fdsn.mass_downloader - INFO: Client 'GEONET' - Acquired 1 MiniSEED files [0.0 MB].\n",
      "[2021-11-25 00:50:40,394] - obspy.clients.fdsn.mass_downloader - INFO: Client 'GEONET' - Acquired 0 StationXML files [0.0 MB].\n",
      "[2021-11-25 00:50:40,398] - obspy.clients.fdsn.mass_downloader - INFO: Downloaded 0.0 MB in total.\n",
      "[2021-11-25 00:50:40,428] - obspy.clients.fdsn.mass_downloader - INFO: Initializing FDSN client(s) for GEONET.\n",
      "[2021-11-25 00:50:40,477] - obspy.clients.fdsn.mass_downloader - INFO: Successfully initialized 1 client(s): GEONET.\n",
      "[2021-11-25 00:50:40,505] - obspy.clients.fdsn.mass_downloader - INFO: Total acquired or preexisting stations: 0\n",
      "[2021-11-25 00:50:40,511] - obspy.clients.fdsn.mass_downloader - INFO: Client 'GEONET' - Requesting unreliable availability.\n"
     ]
    },
    {
     "name": "stdout",
     "output_type": "stream",
     "text": [
      "=================================================================\n",
      "Initiating mass download request.\n"
     ]
    },
    {
     "name": "stderr",
     "output_type": "stream",
     "text": [
      "[2021-11-25 00:50:41,158] - obspy.clients.fdsn.mass_downloader - INFO: Client 'GEONET' - Successfully requested availability (0.65 seconds)\n",
      "[2021-11-25 00:50:41,215] - obspy.clients.fdsn.mass_downloader - INFO: Client 'GEONET' - Found 1 stations (1 channels).\n",
      "[2021-11-25 00:50:41,223] - obspy.clients.fdsn.mass_downloader - INFO: Client 'GEONET' - Will attempt to download data from 1 stations.\n",
      "[2021-11-25 00:50:41,249] - obspy.clients.fdsn.mass_downloader - INFO: Client 'GEONET' - Status for 1 time intervals/channels before downloading: NEEDS_DOWNLOADING\n",
      "[2021-11-25 00:50:42,146] - obspy.clients.fdsn.mass_downloader - INFO: Client 'GEONET' - Successfully downloaded 1 channels (of 1)\n",
      "[2021-11-25 00:50:42,273] - obspy.clients.fdsn.mass_downloader - INFO: Client 'GEONET' - Launching basic QC checks...\n",
      "[2021-11-25 00:50:42,382] - obspy.clients.fdsn.mass_downloader - INFO: Client 'GEONET' - Downloaded 0.0 MB [3.02 KB/sec] of data, 0.0 MB of which were discarded afterwards.\n",
      "[2021-11-25 00:50:42,390] - obspy.clients.fdsn.mass_downloader - INFO: Client 'GEONET' - Status for 1 time intervals/channels after downloading: DOWNLOADED\n",
      "[2021-11-25 00:50:42,422] - obspy.clients.fdsn.mass_downloader - INFO: Client 'GEONET' - No station information to download.\n",
      "[2021-11-25 00:50:42,435] - obspy.clients.fdsn.mass_downloader - INFO: ============================== Final report\n",
      "[2021-11-25 00:50:42,442] - obspy.clients.fdsn.mass_downloader - INFO: 0 MiniSEED files [0.0 MB] already existed.\n",
      "[2021-11-25 00:50:42,450] - obspy.clients.fdsn.mass_downloader - INFO: 1 StationXML files [0.0 MB] already existed.\n",
      "[2021-11-25 00:50:42,460] - obspy.clients.fdsn.mass_downloader - INFO: Client 'GEONET' - Acquired 1 MiniSEED files [0.0 MB].\n",
      "[2021-11-25 00:50:42,467] - obspy.clients.fdsn.mass_downloader - INFO: Client 'GEONET' - Acquired 0 StationXML files [0.0 MB].\n",
      "[2021-11-25 00:50:42,472] - obspy.clients.fdsn.mass_downloader - INFO: Downloaded 0.0 MB in total.\n",
      "[2021-11-25 00:50:42,751] - obspy.clients.fdsn.mass_downloader - INFO: Initializing FDSN client(s) for GEONET.\n",
      "[2021-11-25 00:50:42,921] - obspy.clients.fdsn.mass_downloader - INFO: Successfully initialized 1 client(s): GEONET.\n"
     ]
    },
    {
     "name": "stdout",
     "output_type": "stream",
     "text": [
      "=================================================================\n",
      "Initiating mass download request.\n"
     ]
    },
    {
     "name": "stderr",
     "output_type": "stream",
     "text": [
      "[2021-11-25 00:50:42,950] - obspy.clients.fdsn.mass_downloader - INFO: Total acquired or preexisting stations: 0\n",
      "[2021-11-25 00:50:42,965] - obspy.clients.fdsn.mass_downloader - INFO: Client 'GEONET' - Requesting unreliable availability.\n",
      "[2021-11-25 00:50:43,579] - obspy.clients.fdsn.mass_downloader - INFO: Client 'GEONET' - Successfully requested availability (0.61 seconds)\n",
      "[2021-11-25 00:50:43,590] - obspy.clients.fdsn.mass_downloader - INFO: Client 'GEONET' - Found 1 stations (1 channels).\n",
      "[2021-11-25 00:50:43,592] - obspy.clients.fdsn.mass_downloader - INFO: Client 'GEONET' - Will attempt to download data from 1 stations.\n",
      "[2021-11-25 00:50:43,594] - obspy.clients.fdsn.mass_downloader - INFO: Client 'GEONET' - Status for 1 time intervals/channels before downloading: NEEDS_DOWNLOADING\n",
      "[2021-11-25 00:50:44,411] - obspy.clients.fdsn.mass_downloader - INFO: Client 'GEONET' - Successfully downloaded 1 channels (of 1)\n",
      "[2021-11-25 00:50:44,480] - obspy.clients.fdsn.mass_downloader - INFO: Client 'GEONET' - Launching basic QC checks...\n",
      "[2021-11-25 00:50:44,527] - obspy.clients.fdsn.mass_downloader - INFO: Client 'GEONET' - Downloaded 0.0 MB [4.00 KB/sec] of data, 0.0 MB of which were discarded afterwards.\n",
      "[2021-11-25 00:50:44,534] - obspy.clients.fdsn.mass_downloader - INFO: Client 'GEONET' - Status for 1 time intervals/channels after downloading: DOWNLOADED\n",
      "[2021-11-25 00:50:44,552] - obspy.clients.fdsn.mass_downloader - INFO: Client 'GEONET' - No station information to download.\n",
      "[2021-11-25 00:50:44,556] - obspy.clients.fdsn.mass_downloader - INFO: ============================== Final report\n",
      "[2021-11-25 00:50:44,562] - obspy.clients.fdsn.mass_downloader - INFO: 0 MiniSEED files [0.0 MB] already existed.\n",
      "[2021-11-25 00:50:44,565] - obspy.clients.fdsn.mass_downloader - INFO: 1 StationXML files [0.0 MB] already existed.\n",
      "[2021-11-25 00:50:44,566] - obspy.clients.fdsn.mass_downloader - INFO: Client 'GEONET' - Acquired 1 MiniSEED files [0.0 MB].\n",
      "[2021-11-25 00:50:44,566] - obspy.clients.fdsn.mass_downloader - INFO: Client 'GEONET' - Acquired 0 StationXML files [0.0 MB].\n",
      "[2021-11-25 00:50:44,571] - obspy.clients.fdsn.mass_downloader - INFO: Downloaded 0.0 MB in total.\n",
      "[2021-11-25 00:50:44,606] - obspy.clients.fdsn.mass_downloader - INFO: Initializing FDSN client(s) for GEONET.\n",
      "[2021-11-25 00:50:44,709] - obspy.clients.fdsn.mass_downloader - INFO: Successfully initialized 1 client(s): GEONET.\n",
      "[2021-11-25 00:50:44,730] - obspy.clients.fdsn.mass_downloader - INFO: Total acquired or preexisting stations: 0\n",
      "[2021-11-25 00:50:44,734] - obspy.clients.fdsn.mass_downloader - INFO: Client 'GEONET' - Requesting unreliable availability.\n"
     ]
    },
    {
     "name": "stdout",
     "output_type": "stream",
     "text": [
      "=================================================================\n",
      "Initiating mass download request.\n"
     ]
    },
    {
     "name": "stderr",
     "output_type": "stream",
     "text": [
      "[2021-11-25 00:50:45,346] - obspy.clients.fdsn.mass_downloader - INFO: Client 'GEONET' - Successfully requested availability (0.61 seconds)\n",
      "[2021-11-25 00:50:45,385] - obspy.clients.fdsn.mass_downloader - INFO: Client 'GEONET' - Found 1 stations (1 channels).\n",
      "[2021-11-25 00:50:45,398] - obspy.clients.fdsn.mass_downloader - INFO: Client 'GEONET' - Will attempt to download data from 1 stations.\n",
      "[2021-11-25 00:50:45,408] - obspy.clients.fdsn.mass_downloader - INFO: Client 'GEONET' - Status for 1 time intervals/channels before downloading: NEEDS_DOWNLOADING\n",
      "[2021-11-25 00:50:46,222] - obspy.clients.fdsn.mass_downloader - INFO: Client 'GEONET' - Successfully downloaded 1 channels (of 1)\n",
      "[2021-11-25 00:50:46,250] - obspy.clients.fdsn.mass_downloader - INFO: Client 'GEONET' - Launching basic QC checks...\n",
      "[2021-11-25 00:50:46,268] - obspy.clients.fdsn.mass_downloader - INFO: Client 'GEONET' - Downloaded 0.0 MB [3.71 KB/sec] of data, 0.0 MB of which were discarded afterwards.\n",
      "[2021-11-25 00:50:46,273] - obspy.clients.fdsn.mass_downloader - INFO: Client 'GEONET' - Status for 1 time intervals/channels after downloading: DOWNLOADED\n",
      "[2021-11-25 00:50:46,286] - obspy.clients.fdsn.mass_downloader - INFO: Client 'GEONET' - No station information to download.\n",
      "[2021-11-25 00:50:46,291] - obspy.clients.fdsn.mass_downloader - INFO: ============================== Final report\n",
      "[2021-11-25 00:50:46,293] - obspy.clients.fdsn.mass_downloader - INFO: 0 MiniSEED files [0.0 MB] already existed.\n",
      "[2021-11-25 00:50:46,293] - obspy.clients.fdsn.mass_downloader - INFO: 1 StationXML files [0.0 MB] already existed.\n",
      "[2021-11-25 00:50:46,294] - obspy.clients.fdsn.mass_downloader - INFO: Client 'GEONET' - Acquired 1 MiniSEED files [0.0 MB].\n",
      "[2021-11-25 00:50:46,294] - obspy.clients.fdsn.mass_downloader - INFO: Client 'GEONET' - Acquired 0 StationXML files [0.0 MB].\n",
      "[2021-11-25 00:50:46,295] - obspy.clients.fdsn.mass_downloader - INFO: Downloaded 0.0 MB in total.\n",
      "[2021-11-25 00:50:46,311] - obspy.clients.fdsn.mass_downloader - INFO: Initializing FDSN client(s) for GEONET.\n",
      "[2021-11-25 00:50:46,336] - obspy.clients.fdsn.mass_downloader - INFO: Successfully initialized 1 client(s): GEONET.\n",
      "[2021-11-25 00:50:46,340] - obspy.clients.fdsn.mass_downloader - INFO: Total acquired or preexisting stations: 0\n",
      "[2021-11-25 00:50:46,342] - obspy.clients.fdsn.mass_downloader - INFO: Client 'GEONET' - Requesting unreliable availability.\n"
     ]
    },
    {
     "name": "stdout",
     "output_type": "stream",
     "text": [
      "=================================================================\n",
      "Initiating mass download request.\n"
     ]
    },
    {
     "name": "stderr",
     "output_type": "stream",
     "text": [
      "[2021-11-25 00:50:47,045] - obspy.clients.fdsn.mass_downloader - INFO: Client 'GEONET' - Successfully requested availability (0.70 seconds)\n",
      "[2021-11-25 00:50:47,068] - obspy.clients.fdsn.mass_downloader - INFO: Client 'GEONET' - Found 1 stations (1 channels).\n",
      "[2021-11-25 00:50:47,073] - obspy.clients.fdsn.mass_downloader - INFO: Client 'GEONET' - Will attempt to download data from 1 stations.\n",
      "[2021-11-25 00:50:47,086] - obspy.clients.fdsn.mass_downloader - INFO: Client 'GEONET' - Status for 1 time intervals/channels before downloading: NEEDS_DOWNLOADING\n",
      "[2021-11-25 00:50:47,927] - obspy.clients.fdsn.mass_downloader - INFO: Client 'GEONET' - Successfully downloaded 1 channels (of 1)\n",
      "[2021-11-25 00:50:47,943] - obspy.clients.fdsn.mass_downloader - INFO: Client 'GEONET' - Launching basic QC checks...\n",
      "[2021-11-25 00:50:47,960] - obspy.clients.fdsn.mass_downloader - INFO: Client 'GEONET' - Downloaded 0.0 MB [4.21 KB/sec] of data, 0.0 MB of which were discarded afterwards.\n",
      "[2021-11-25 00:50:47,962] - obspy.clients.fdsn.mass_downloader - INFO: Client 'GEONET' - Status for 1 time intervals/channels after downloading: DOWNLOADED\n",
      "[2021-11-25 00:50:47,969] - obspy.clients.fdsn.mass_downloader - INFO: Client 'GEONET' - No station information to download.\n",
      "[2021-11-25 00:50:47,971] - obspy.clients.fdsn.mass_downloader - INFO: ============================== Final report\n",
      "[2021-11-25 00:50:47,972] - obspy.clients.fdsn.mass_downloader - INFO: 0 MiniSEED files [0.0 MB] already existed.\n",
      "[2021-11-25 00:50:47,974] - obspy.clients.fdsn.mass_downloader - INFO: 1 StationXML files [0.0 MB] already existed.\n",
      "[2021-11-25 00:50:47,976] - obspy.clients.fdsn.mass_downloader - INFO: Client 'GEONET' - Acquired 1 MiniSEED files [0.0 MB].\n",
      "[2021-11-25 00:50:47,977] - obspy.clients.fdsn.mass_downloader - INFO: Client 'GEONET' - Acquired 0 StationXML files [0.0 MB].\n",
      "[2021-11-25 00:50:47,977] - obspy.clients.fdsn.mass_downloader - INFO: Downloaded 0.0 MB in total.\n",
      "[2021-11-25 00:50:47,991] - obspy.clients.fdsn.mass_downloader - INFO: Initializing FDSN client(s) for GEONET.\n",
      "[2021-11-25 00:50:48,001] - obspy.clients.fdsn.mass_downloader - INFO: Successfully initialized 1 client(s): GEONET.\n",
      "[2021-11-25 00:50:48,003] - obspy.clients.fdsn.mass_downloader - INFO: Total acquired or preexisting stations: 0\n",
      "[2021-11-25 00:50:48,004] - obspy.clients.fdsn.mass_downloader - INFO: Client 'GEONET' - Requesting unreliable availability.\n"
     ]
    },
    {
     "name": "stdout",
     "output_type": "stream",
     "text": [
      "=================================================================\n",
      "Initiating mass download request.\n"
     ]
    },
    {
     "name": "stderr",
     "output_type": "stream",
     "text": [
      "[2021-11-25 00:50:48,789] - obspy.clients.fdsn.mass_downloader - INFO: Client 'GEONET' - Successfully requested availability (0.78 seconds)\n",
      "[2021-11-25 00:50:48,931] - obspy.clients.fdsn.mass_downloader - INFO: Client 'GEONET' - Found 1 stations (1 channels).\n",
      "[2021-11-25 00:50:48,951] - obspy.clients.fdsn.mass_downloader - INFO: Client 'GEONET' - Will attempt to download data from 1 stations.\n",
      "[2021-11-25 00:50:48,967] - obspy.clients.fdsn.mass_downloader - INFO: Client 'GEONET' - Status for 1 time intervals/channels before downloading: NEEDS_DOWNLOADING\n",
      "[2021-11-25 00:50:49,838] - obspy.clients.fdsn.mass_downloader - INFO: Client 'GEONET' - Successfully downloaded 1 channels (of 1)\n",
      "[2021-11-25 00:50:49,857] - obspy.clients.fdsn.mass_downloader - INFO: Client 'GEONET' - Launching basic QC checks...\n",
      "[2021-11-25 00:50:49,872] - obspy.clients.fdsn.mass_downloader - INFO: Client 'GEONET' - Downloaded 0.0 MB [3.63 KB/sec] of data, 0.0 MB of which were discarded afterwards.\n",
      "[2021-11-25 00:50:49,878] - obspy.clients.fdsn.mass_downloader - INFO: Client 'GEONET' - Status for 1 time intervals/channels after downloading: DOWNLOADED\n",
      "[2021-11-25 00:50:49,884] - obspy.clients.fdsn.mass_downloader - INFO: Client 'GEONET' - No station information to download.\n",
      "[2021-11-25 00:50:49,885] - obspy.clients.fdsn.mass_downloader - INFO: ============================== Final report\n",
      "[2021-11-25 00:50:49,886] - obspy.clients.fdsn.mass_downloader - INFO: 0 MiniSEED files [0.0 MB] already existed.\n",
      "[2021-11-25 00:50:49,887] - obspy.clients.fdsn.mass_downloader - INFO: 1 StationXML files [0.0 MB] already existed.\n",
      "[2021-11-25 00:50:49,888] - obspy.clients.fdsn.mass_downloader - INFO: Client 'GEONET' - Acquired 1 MiniSEED files [0.0 MB].\n",
      "[2021-11-25 00:50:49,888] - obspy.clients.fdsn.mass_downloader - INFO: Client 'GEONET' - Acquired 0 StationXML files [0.0 MB].\n",
      "[2021-11-25 00:50:49,889] - obspy.clients.fdsn.mass_downloader - INFO: Downloaded 0.0 MB in total.\n",
      "[2021-11-25 00:50:49,895] - obspy.clients.fdsn.mass_downloader - INFO: Initializing FDSN client(s) for GEONET.\n",
      "[2021-11-25 00:50:49,906] - obspy.clients.fdsn.mass_downloader - INFO: Successfully initialized 1 client(s): GEONET.\n",
      "[2021-11-25 00:50:49,909] - obspy.clients.fdsn.mass_downloader - INFO: Total acquired or preexisting stations: 0\n",
      "[2021-11-25 00:50:49,910] - obspy.clients.fdsn.mass_downloader - INFO: Client 'GEONET' - Requesting unreliable availability.\n"
     ]
    },
    {
     "name": "stdout",
     "output_type": "stream",
     "text": [
      "=================================================================\n",
      "Initiating mass download request.\n"
     ]
    },
    {
     "name": "stderr",
     "output_type": "stream",
     "text": [
      "[2021-11-25 00:50:50,574] - obspy.clients.fdsn.mass_downloader - INFO: Client 'GEONET' - Successfully requested availability (0.66 seconds)\n",
      "[2021-11-25 00:50:50,614] - obspy.clients.fdsn.mass_downloader - INFO: Client 'GEONET' - Found 1 stations (1 channels).\n",
      "[2021-11-25 00:50:50,626] - obspy.clients.fdsn.mass_downloader - INFO: Client 'GEONET' - Will attempt to download data from 1 stations.\n",
      "[2021-11-25 00:50:50,630] - obspy.clients.fdsn.mass_downloader - INFO: Client 'GEONET' - Status for 1 time intervals/channels before downloading: NEEDS_DOWNLOADING\n",
      "[2021-11-25 00:50:51,491] - obspy.clients.fdsn.mass_downloader - INFO: Client 'GEONET' - Successfully downloaded 1 channels (of 1)\n",
      "[2021-11-25 00:50:51,602] - obspy.clients.fdsn.mass_downloader - INFO: Client 'GEONET' - Launching basic QC checks...\n",
      "[2021-11-25 00:50:51,669] - obspy.clients.fdsn.mass_downloader - INFO: Client 'GEONET' - Downloaded 0.0 MB [4.24 KB/sec] of data, 0.0 MB of which were discarded afterwards.\n",
      "[2021-11-25 00:50:51,675] - obspy.clients.fdsn.mass_downloader - INFO: Client 'GEONET' - Status for 1 time intervals/channels after downloading: DOWNLOADED\n",
      "[2021-11-25 00:50:51,694] - obspy.clients.fdsn.mass_downloader - INFO: Client 'GEONET' - No station information to download.\n",
      "[2021-11-25 00:50:51,724] - obspy.clients.fdsn.mass_downloader - INFO: ============================== Final report\n",
      "[2021-11-25 00:50:51,725] - obspy.clients.fdsn.mass_downloader - INFO: 0 MiniSEED files [0.0 MB] already existed.\n",
      "[2021-11-25 00:50:51,728] - obspy.clients.fdsn.mass_downloader - INFO: 1 StationXML files [0.0 MB] already existed.\n",
      "[2021-11-25 00:50:51,730] - obspy.clients.fdsn.mass_downloader - INFO: Client 'GEONET' - Acquired 1 MiniSEED files [0.0 MB].\n",
      "[2021-11-25 00:50:51,730] - obspy.clients.fdsn.mass_downloader - INFO: Client 'GEONET' - Acquired 0 StationXML files [0.0 MB].\n",
      "[2021-11-25 00:50:51,733] - obspy.clients.fdsn.mass_downloader - INFO: Downloaded 0.0 MB in total.\n",
      "[2021-11-25 00:50:51,817] - obspy.clients.fdsn.mass_downloader - INFO: Initializing FDSN client(s) for GEONET.\n",
      "[2021-11-25 00:50:52,038] - obspy.clients.fdsn.mass_downloader - INFO: Successfully initialized 1 client(s): GEONET.\n"
     ]
    },
    {
     "name": "stdout",
     "output_type": "stream",
     "text": [
      "=================================================================\n",
      "Initiating mass download request.\n"
     ]
    },
    {
     "name": "stderr",
     "output_type": "stream",
     "text": [
      "[2021-11-25 00:50:52,050] - obspy.clients.fdsn.mass_downloader - INFO: Total acquired or preexisting stations: 0\n",
      "[2021-11-25 00:50:52,057] - obspy.clients.fdsn.mass_downloader - INFO: Client 'GEONET' - Requesting unreliable availability.\n",
      "[2021-11-25 00:50:52,742] - obspy.clients.fdsn.mass_downloader - INFO: Client 'GEONET' - Successfully requested availability (0.68 seconds)\n",
      "[2021-11-25 00:50:52,807] - obspy.clients.fdsn.mass_downloader - INFO: Client 'GEONET' - Found 1 stations (1 channels).\n",
      "[2021-11-25 00:50:52,818] - obspy.clients.fdsn.mass_downloader - INFO: Client 'GEONET' - Will attempt to download data from 1 stations.\n",
      "[2021-11-25 00:50:52,840] - obspy.clients.fdsn.mass_downloader - INFO: Client 'GEONET' - Status for 1 time intervals/channels before downloading: NEEDS_DOWNLOADING\n",
      "[2021-11-25 00:50:53,719] - obspy.clients.fdsn.mass_downloader - INFO: Client 'GEONET' - Successfully downloaded 1 channels (of 1)\n",
      "[2021-11-25 00:50:53,800] - obspy.clients.fdsn.mass_downloader - INFO: Client 'GEONET' - Launching basic QC checks...\n",
      "[2021-11-25 00:50:53,830] - obspy.clients.fdsn.mass_downloader - INFO: Client 'GEONET' - Downloaded 0.0 MB [4.38 KB/sec] of data, 0.0 MB of which were discarded afterwards.\n",
      "[2021-11-25 00:50:53,836] - obspy.clients.fdsn.mass_downloader - INFO: Client 'GEONET' - Status for 1 time intervals/channels after downloading: DOWNLOADED\n",
      "[2021-11-25 00:50:53,843] - obspy.clients.fdsn.mass_downloader - INFO: Client 'GEONET' - No station information to download.\n",
      "[2021-11-25 00:50:53,849] - obspy.clients.fdsn.mass_downloader - INFO: ============================== Final report\n",
      "[2021-11-25 00:50:53,850] - obspy.clients.fdsn.mass_downloader - INFO: 0 MiniSEED files [0.0 MB] already existed.\n",
      "[2021-11-25 00:50:53,853] - obspy.clients.fdsn.mass_downloader - INFO: 1 StationXML files [0.0 MB] already existed.\n",
      "[2021-11-25 00:50:53,855] - obspy.clients.fdsn.mass_downloader - INFO: Client 'GEONET' - Acquired 1 MiniSEED files [0.0 MB].\n",
      "[2021-11-25 00:50:53,855] - obspy.clients.fdsn.mass_downloader - INFO: Client 'GEONET' - Acquired 0 StationXML files [0.0 MB].\n",
      "[2021-11-25 00:50:53,856] - obspy.clients.fdsn.mass_downloader - INFO: Downloaded 0.0 MB in total.\n",
      "[2021-11-25 00:50:53,872] - obspy.clients.fdsn.mass_downloader - INFO: Initializing FDSN client(s) for GEONET.\n",
      "[2021-11-25 00:50:53,914] - obspy.clients.fdsn.mass_downloader - INFO: Successfully initialized 1 client(s): GEONET.\n",
      "[2021-11-25 00:50:53,918] - obspy.clients.fdsn.mass_downloader - INFO: Total acquired or preexisting stations: 0\n",
      "[2021-11-25 00:50:53,922] - obspy.clients.fdsn.mass_downloader - INFO: Client 'GEONET' - Requesting unreliable availability.\n"
     ]
    },
    {
     "name": "stdout",
     "output_type": "stream",
     "text": [
      "=================================================================\n",
      "Initiating mass download request.\n"
     ]
    },
    {
     "name": "stderr",
     "output_type": "stream",
     "text": [
      "[2021-11-25 00:50:55,183] - obspy.clients.fdsn.mass_downloader - INFO: Client 'GEONET' - Successfully requested availability (1.26 seconds)\n",
      "[2021-11-25 00:50:55,274] - obspy.clients.fdsn.mass_downloader - INFO: Client 'GEONET' - Found 1 stations (1 channels).\n",
      "[2021-11-25 00:50:55,293] - obspy.clients.fdsn.mass_downloader - INFO: Client 'GEONET' - Will attempt to download data from 1 stations.\n",
      "[2021-11-25 00:50:55,299] - obspy.clients.fdsn.mass_downloader - INFO: Client 'GEONET' - Status for 1 time intervals/channels before downloading: NEEDS_DOWNLOADING\n",
      "[2021-11-25 00:50:56,153] - obspy.clients.fdsn.mass_downloader - INFO: Client 'GEONET' - Successfully downloaded 1 channels (of 1)\n",
      "[2021-11-25 00:50:56,165] - obspy.clients.fdsn.mass_downloader - INFO: Client 'GEONET' - Launching basic QC checks...\n",
      "[2021-11-25 00:50:56,174] - obspy.clients.fdsn.mass_downloader - INFO: Client 'GEONET' - Downloaded 0.0 MB [5.03 KB/sec] of data, 0.0 MB of which were discarded afterwards.\n",
      "[2021-11-25 00:50:56,175] - obspy.clients.fdsn.mass_downloader - INFO: Client 'GEONET' - Status for 1 time intervals/channels after downloading: DOWNLOADED\n",
      "[2021-11-25 00:50:56,178] - obspy.clients.fdsn.mass_downloader - INFO: Client 'GEONET' - No station information to download.\n",
      "[2021-11-25 00:50:56,182] - obspy.clients.fdsn.mass_downloader - INFO: ============================== Final report\n",
      "[2021-11-25 00:50:56,183] - obspy.clients.fdsn.mass_downloader - INFO: 0 MiniSEED files [0.0 MB] already existed.\n",
      "[2021-11-25 00:50:56,183] - obspy.clients.fdsn.mass_downloader - INFO: 1 StationXML files [0.0 MB] already existed.\n",
      "[2021-11-25 00:50:56,184] - obspy.clients.fdsn.mass_downloader - INFO: Client 'GEONET' - Acquired 1 MiniSEED files [0.0 MB].\n",
      "[2021-11-25 00:50:56,184] - obspy.clients.fdsn.mass_downloader - INFO: Client 'GEONET' - Acquired 0 StationXML files [0.0 MB].\n",
      "[2021-11-25 00:50:56,184] - obspy.clients.fdsn.mass_downloader - INFO: Downloaded 0.0 MB in total.\n",
      "[2021-11-25 00:50:56,186] - obspy.clients.fdsn.mass_downloader - INFO: Initializing FDSN client(s) for GEONET.\n",
      "[2021-11-25 00:50:56,189] - obspy.clients.fdsn.mass_downloader - INFO: Successfully initialized 1 client(s): GEONET.\n",
      "[2021-11-25 00:50:56,190] - obspy.clients.fdsn.mass_downloader - INFO: Total acquired or preexisting stations: 0\n",
      "[2021-11-25 00:50:56,190] - obspy.clients.fdsn.mass_downloader - INFO: Client 'GEONET' - Requesting unreliable availability.\n"
     ]
    },
    {
     "name": "stdout",
     "output_type": "stream",
     "text": [
      "=================================================================\n",
      "Initiating mass download request.\n"
     ]
    },
    {
     "name": "stderr",
     "output_type": "stream",
     "text": [
      "[2021-11-25 00:50:56,937] - obspy.clients.fdsn.mass_downloader - INFO: Client 'GEONET' - Successfully requested availability (0.74 seconds)\n",
      "[2021-11-25 00:50:56,944] - obspy.clients.fdsn.mass_downloader - INFO: Client 'GEONET' - Found 1 stations (1 channels).\n",
      "[2021-11-25 00:50:56,949] - obspy.clients.fdsn.mass_downloader - INFO: Client 'GEONET' - Will attempt to download data from 1 stations.\n",
      "[2021-11-25 00:50:56,958] - obspy.clients.fdsn.mass_downloader - INFO: Client 'GEONET' - Status for 1 time intervals/channels before downloading: NEEDS_DOWNLOADING\n",
      "[2021-11-25 00:50:57,812] - obspy.clients.fdsn.mass_downloader - INFO: Client 'GEONET' - Successfully downloaded 1 channels (of 1)\n",
      "[2021-11-25 00:50:57,859] - obspy.clients.fdsn.mass_downloader - INFO: Client 'GEONET' - Launching basic QC checks...\n",
      "[2021-11-25 00:50:57,931] - obspy.clients.fdsn.mass_downloader - INFO: Client 'GEONET' - Downloaded 0.0 MB [5.08 KB/sec] of data, 0.0 MB of which were discarded afterwards.\n",
      "[2021-11-25 00:50:57,936] - obspy.clients.fdsn.mass_downloader - INFO: Client 'GEONET' - Status for 1 time intervals/channels after downloading: DOWNLOADED\n",
      "[2021-11-25 00:50:57,962] - obspy.clients.fdsn.mass_downloader - INFO: Client 'GEONET' - No station information to download.\n",
      "[2021-11-25 00:50:57,963] - obspy.clients.fdsn.mass_downloader - INFO: ============================== Final report\n",
      "[2021-11-25 00:50:57,966] - obspy.clients.fdsn.mass_downloader - INFO: 0 MiniSEED files [0.0 MB] already existed.\n",
      "[2021-11-25 00:50:57,970] - obspy.clients.fdsn.mass_downloader - INFO: 1 StationXML files [0.0 MB] already existed.\n",
      "[2021-11-25 00:50:57,972] - obspy.clients.fdsn.mass_downloader - INFO: Client 'GEONET' - Acquired 1 MiniSEED files [0.0 MB].\n",
      "[2021-11-25 00:50:57,977] - obspy.clients.fdsn.mass_downloader - INFO: Client 'GEONET' - Acquired 0 StationXML files [0.0 MB].\n",
      "[2021-11-25 00:50:57,978] - obspy.clients.fdsn.mass_downloader - INFO: Downloaded 0.0 MB in total.\n",
      "[2021-11-25 00:50:57,991] - obspy.clients.fdsn.mass_downloader - INFO: Initializing FDSN client(s) for GEONET.\n",
      "[2021-11-25 00:50:58,020] - obspy.clients.fdsn.mass_downloader - INFO: Successfully initialized 1 client(s): GEONET.\n",
      "[2021-11-25 00:50:58,025] - obspy.clients.fdsn.mass_downloader - INFO: Total acquired or preexisting stations: 0\n",
      "[2021-11-25 00:50:58,029] - obspy.clients.fdsn.mass_downloader - INFO: Client 'GEONET' - Requesting unreliable availability.\n"
     ]
    },
    {
     "name": "stdout",
     "output_type": "stream",
     "text": [
      "=================================================================\n",
      "Initiating mass download request.\n"
     ]
    },
    {
     "name": "stderr",
     "output_type": "stream",
     "text": [
      "[2021-11-25 00:50:58,721] - obspy.clients.fdsn.mass_downloader - INFO: Client 'GEONET' - Successfully requested availability (0.68 seconds)\n",
      "[2021-11-25 00:50:58,769] - obspy.clients.fdsn.mass_downloader - INFO: Client 'GEONET' - Found 1 stations (1 channels).\n",
      "[2021-11-25 00:50:58,775] - obspy.clients.fdsn.mass_downloader - INFO: Client 'GEONET' - Will attempt to download data from 1 stations.\n",
      "[2021-11-25 00:50:58,799] - obspy.clients.fdsn.mass_downloader - INFO: Client 'GEONET' - Status for 1 time intervals/channels before downloading: NEEDS_DOWNLOADING\n",
      "[2021-11-25 00:50:59,689] - obspy.clients.fdsn.mass_downloader - INFO: Client 'GEONET' - Successfully downloaded 1 channels (of 1)\n",
      "[2021-11-25 00:50:59,788] - obspy.clients.fdsn.mass_downloader - INFO: Client 'GEONET' - Launching basic QC checks...\n",
      "[2021-11-25 00:50:59,817] - obspy.clients.fdsn.mass_downloader - INFO: Client 'GEONET' - Downloaded 0.0 MB [4.75 KB/sec] of data, 0.0 MB of which were discarded afterwards.\n",
      "[2021-11-25 00:50:59,833] - obspy.clients.fdsn.mass_downloader - INFO: Client 'GEONET' - Status for 1 time intervals/channels after downloading: DOWNLOADED\n",
      "[2021-11-25 00:50:59,865] - obspy.clients.fdsn.mass_downloader - INFO: Client 'GEONET' - No station information to download.\n",
      "[2021-11-25 00:50:59,875] - obspy.clients.fdsn.mass_downloader - INFO: ============================== Final report\n",
      "[2021-11-25 00:50:59,881] - obspy.clients.fdsn.mass_downloader - INFO: 0 MiniSEED files [0.0 MB] already existed.\n",
      "[2021-11-25 00:50:59,885] - obspy.clients.fdsn.mass_downloader - INFO: 1 StationXML files [0.0 MB] already existed.\n",
      "[2021-11-25 00:50:59,889] - obspy.clients.fdsn.mass_downloader - INFO: Client 'GEONET' - Acquired 1 MiniSEED files [0.0 MB].\n",
      "[2021-11-25 00:50:59,890] - obspy.clients.fdsn.mass_downloader - INFO: Client 'GEONET' - Acquired 0 StationXML files [0.0 MB].\n",
      "[2021-11-25 00:50:59,892] - obspy.clients.fdsn.mass_downloader - INFO: Downloaded 0.0 MB in total.\n",
      "[2021-11-25 00:50:59,954] - obspy.clients.fdsn.mass_downloader - INFO: Initializing FDSN client(s) for GEONET.\n",
      "[2021-11-25 00:50:59,999] - obspy.clients.fdsn.mass_downloader - INFO: Successfully initialized 1 client(s): GEONET.\n",
      "[2021-11-25 00:51:00,000] - obspy.clients.fdsn.mass_downloader - INFO: Total acquired or preexisting stations: 0\n",
      "[2021-11-25 00:51:00,005] - obspy.clients.fdsn.mass_downloader - INFO: Client 'GEONET' - Requesting unreliable availability.\n"
     ]
    },
    {
     "name": "stdout",
     "output_type": "stream",
     "text": [
      "=================================================================\n",
      "Initiating mass download request.\n"
     ]
    },
    {
     "name": "stderr",
     "output_type": "stream",
     "text": [
      "[2021-11-25 00:51:00,714] - obspy.clients.fdsn.mass_downloader - INFO: Client 'GEONET' - Successfully requested availability (0.71 seconds)\n",
      "[2021-11-25 00:51:00,735] - obspy.clients.fdsn.mass_downloader - INFO: Client 'GEONET' - Found 1 stations (1 channels).\n",
      "[2021-11-25 00:51:00,749] - obspy.clients.fdsn.mass_downloader - INFO: Client 'GEONET' - Will attempt to download data from 1 stations.\n",
      "[2021-11-25 00:51:00,768] - obspy.clients.fdsn.mass_downloader - INFO: Client 'GEONET' - Status for 1 time intervals/channels before downloading: NEEDS_DOWNLOADING\n",
      "[2021-11-25 00:51:01,707] - obspy.clients.fdsn.mass_downloader - INFO: Client 'GEONET' - Successfully downloaded 1 channels (of 1)\n",
      "[2021-11-25 00:51:01,766] - obspy.clients.fdsn.mass_downloader - INFO: Client 'GEONET' - Launching basic QC checks...\n",
      "[2021-11-25 00:51:01,796] - obspy.clients.fdsn.mass_downloader - INFO: Client 'GEONET' - Downloaded 0.0 MB [5.77 KB/sec] of data, 0.0 MB of which were discarded afterwards.\n",
      "[2021-11-25 00:51:01,800] - obspy.clients.fdsn.mass_downloader - INFO: Client 'GEONET' - Status for 1 time intervals/channels after downloading: DOWNLOADED\n",
      "[2021-11-25 00:51:01,814] - obspy.clients.fdsn.mass_downloader - INFO: Client 'GEONET' - No station information to download.\n",
      "[2021-11-25 00:51:01,820] - obspy.clients.fdsn.mass_downloader - INFO: ============================== Final report\n",
      "[2021-11-25 00:51:01,823] - obspy.clients.fdsn.mass_downloader - INFO: 0 MiniSEED files [0.0 MB] already existed.\n",
      "[2021-11-25 00:51:01,827] - obspy.clients.fdsn.mass_downloader - INFO: 1 StationXML files [0.0 MB] already existed.\n",
      "[2021-11-25 00:51:01,829] - obspy.clients.fdsn.mass_downloader - INFO: Client 'GEONET' - Acquired 1 MiniSEED files [0.0 MB].\n",
      "[2021-11-25 00:51:01,830] - obspy.clients.fdsn.mass_downloader - INFO: Client 'GEONET' - Acquired 0 StationXML files [0.0 MB].\n",
      "[2021-11-25 00:51:01,830] - obspy.clients.fdsn.mass_downloader - INFO: Downloaded 0.0 MB in total.\n",
      "[2021-11-25 00:51:01,843] - obspy.clients.fdsn.mass_downloader - INFO: Initializing FDSN client(s) for GEONET.\n",
      "[2021-11-25 00:51:01,867] - obspy.clients.fdsn.mass_downloader - INFO: Successfully initialized 1 client(s): GEONET.\n",
      "[2021-11-25 00:51:01,871] - obspy.clients.fdsn.mass_downloader - INFO: Total acquired or preexisting stations: 0\n",
      "[2021-11-25 00:51:01,874] - obspy.clients.fdsn.mass_downloader - INFO: Client 'GEONET' - Requesting unreliable availability.\n"
     ]
    },
    {
     "name": "stdout",
     "output_type": "stream",
     "text": [
      "=================================================================\n",
      "Initiating mass download request.\n"
     ]
    },
    {
     "name": "stderr",
     "output_type": "stream",
     "text": [
      "[2021-11-25 00:51:02,544] - obspy.clients.fdsn.mass_downloader - INFO: Client 'GEONET' - Successfully requested availability (0.67 seconds)\n",
      "[2021-11-25 00:51:02,553] - obspy.clients.fdsn.mass_downloader - INFO: Client 'GEONET' - Found 1 stations (1 channels).\n",
      "[2021-11-25 00:51:02,556] - obspy.clients.fdsn.mass_downloader - INFO: Client 'GEONET' - Will attempt to download data from 1 stations.\n",
      "[2021-11-25 00:51:02,559] - obspy.clients.fdsn.mass_downloader - INFO: Client 'GEONET' - Status for 1 time intervals/channels before downloading: NEEDS_DOWNLOADING\n",
      "[2021-11-25 00:51:03,360] - obspy.clients.fdsn.mass_downloader - INFO: Client 'GEONET' - Successfully downloaded 1 channels (of 1)\n",
      "[2021-11-25 00:51:03,374] - obspy.clients.fdsn.mass_downloader - INFO: Client 'GEONET' - Launching basic QC checks...\n",
      "[2021-11-25 00:51:03,394] - obspy.clients.fdsn.mass_downloader - INFO: Client 'GEONET' - Downloaded 0.0 MB [5.59 KB/sec] of data, 0.0 MB of which were discarded afterwards.\n",
      "[2021-11-25 00:51:03,395] - obspy.clients.fdsn.mass_downloader - INFO: Client 'GEONET' - Status for 1 time intervals/channels after downloading: DOWNLOADED\n",
      "[2021-11-25 00:51:03,410] - obspy.clients.fdsn.mass_downloader - INFO: Client 'GEONET' - No station information to download.\n",
      "[2021-11-25 00:51:03,412] - obspy.clients.fdsn.mass_downloader - INFO: ============================== Final report\n",
      "[2021-11-25 00:51:03,413] - obspy.clients.fdsn.mass_downloader - INFO: 0 MiniSEED files [0.0 MB] already existed.\n",
      "[2021-11-25 00:51:03,414] - obspy.clients.fdsn.mass_downloader - INFO: 1 StationXML files [0.0 MB] already existed.\n",
      "[2021-11-25 00:51:03,416] - obspy.clients.fdsn.mass_downloader - INFO: Client 'GEONET' - Acquired 1 MiniSEED files [0.0 MB].\n",
      "[2021-11-25 00:51:03,416] - obspy.clients.fdsn.mass_downloader - INFO: Client 'GEONET' - Acquired 0 StationXML files [0.0 MB].\n",
      "[2021-11-25 00:51:03,417] - obspy.clients.fdsn.mass_downloader - INFO: Downloaded 0.0 MB in total.\n",
      "[2021-11-25 00:51:03,423] - obspy.clients.fdsn.mass_downloader - INFO: Initializing FDSN client(s) for GEONET.\n",
      "[2021-11-25 00:51:03,437] - obspy.clients.fdsn.mass_downloader - INFO: Successfully initialized 1 client(s): GEONET.\n",
      "[2021-11-25 00:51:03,440] - obspy.clients.fdsn.mass_downloader - INFO: Total acquired or preexisting stations: 0\n",
      "[2021-11-25 00:51:03,441] - obspy.clients.fdsn.mass_downloader - INFO: Client 'GEONET' - Requesting unreliable availability.\n"
     ]
    },
    {
     "name": "stdout",
     "output_type": "stream",
     "text": [
      "=================================================================\n",
      "Initiating mass download request.\n"
     ]
    },
    {
     "name": "stderr",
     "output_type": "stream",
     "text": [
      "[2021-11-25 00:51:04,120] - obspy.clients.fdsn.mass_downloader - INFO: Client 'GEONET' - Successfully requested availability (0.67 seconds)\n",
      "[2021-11-25 00:51:04,133] - obspy.clients.fdsn.mass_downloader - INFO: Client 'GEONET' - Found 1 stations (1 channels).\n",
      "[2021-11-25 00:51:04,135] - obspy.clients.fdsn.mass_downloader - INFO: Client 'GEONET' - Will attempt to download data from 1 stations.\n",
      "[2021-11-25 00:51:04,139] - obspy.clients.fdsn.mass_downloader - INFO: Client 'GEONET' - Status for 1 time intervals/channels before downloading: NEEDS_DOWNLOADING\n",
      "[2021-11-25 00:51:05,203] - obspy.clients.fdsn.mass_downloader - INFO: Client 'GEONET' - Successfully downloaded 1 channels (of 1)\n",
      "[2021-11-25 00:51:05,256] - obspy.clients.fdsn.mass_downloader - INFO: Client 'GEONET' - Launching basic QC checks...\n",
      "[2021-11-25 00:51:05,301] - obspy.clients.fdsn.mass_downloader - INFO: Client 'GEONET' - Downloaded 0.0 MB [3.63 KB/sec] of data, 0.0 MB of which were discarded afterwards.\n",
      "[2021-11-25 00:51:05,327] - obspy.clients.fdsn.mass_downloader - INFO: Client 'GEONET' - Status for 1 time intervals/channels after downloading: DOWNLOADED\n",
      "[2021-11-25 00:51:05,366] - obspy.clients.fdsn.mass_downloader - INFO: Client 'GEONET' - No station information to download.\n",
      "[2021-11-25 00:51:05,393] - obspy.clients.fdsn.mass_downloader - INFO: ============================== Final report\n",
      "[2021-11-25 00:51:05,397] - obspy.clients.fdsn.mass_downloader - INFO: 0 MiniSEED files [0.0 MB] already existed.\n",
      "[2021-11-25 00:51:05,401] - obspy.clients.fdsn.mass_downloader - INFO: 1 StationXML files [0.0 MB] already existed.\n",
      "[2021-11-25 00:51:05,406] - obspy.clients.fdsn.mass_downloader - INFO: Client 'GEONET' - Acquired 1 MiniSEED files [0.0 MB].\n",
      "[2021-11-25 00:51:05,414] - obspy.clients.fdsn.mass_downloader - INFO: Client 'GEONET' - Acquired 0 StationXML files [0.0 MB].\n",
      "[2021-11-25 00:51:05,415] - obspy.clients.fdsn.mass_downloader - INFO: Downloaded 0.0 MB in total.\n",
      "[2021-11-25 00:51:05,437] - obspy.clients.fdsn.mass_downloader - INFO: Initializing FDSN client(s) for GEONET.\n"
     ]
    },
    {
     "name": "stdout",
     "output_type": "stream",
     "text": [
      "=================================================================\n",
      "Initiating mass download request.\n"
     ]
    },
    {
     "name": "stderr",
     "output_type": "stream",
     "text": [
      "[2021-11-25 00:51:05,760] - obspy.clients.fdsn.mass_downloader - INFO: Successfully initialized 1 client(s): GEONET.\n",
      "[2021-11-25 00:51:05,840] - obspy.clients.fdsn.mass_downloader - INFO: Total acquired or preexisting stations: 0\n",
      "[2021-11-25 00:51:05,861] - obspy.clients.fdsn.mass_downloader - INFO: Client 'GEONET' - Requesting unreliable availability.\n",
      "[2021-11-25 00:51:06,542] - obspy.clients.fdsn.mass_downloader - INFO: Client 'GEONET' - Successfully requested availability (0.68 seconds)\n",
      "[2021-11-25 00:51:06,567] - obspy.clients.fdsn.mass_downloader - INFO: Client 'GEONET' - Found 1 stations (1 channels).\n",
      "[2021-11-25 00:51:06,576] - obspy.clients.fdsn.mass_downloader - INFO: Client 'GEONET' - Will attempt to download data from 1 stations.\n",
      "[2021-11-25 00:51:06,587] - obspy.clients.fdsn.mass_downloader - INFO: Client 'GEONET' - Status for 1 time intervals/channels before downloading: NEEDS_DOWNLOADING\n",
      "[2021-11-25 00:51:07,616] - obspy.clients.fdsn.mass_downloader - INFO: Client 'GEONET' - Successfully downloaded 1 channels (of 1)\n",
      "[2021-11-25 00:51:07,686] - obspy.clients.fdsn.mass_downloader - INFO: Client 'GEONET' - Launching basic QC checks...\n",
      "[2021-11-25 00:51:07,766] - obspy.clients.fdsn.mass_downloader - INFO: Client 'GEONET' - Downloaded 0.0 MB [3.30 KB/sec] of data, 0.0 MB of which were discarded afterwards.\n",
      "[2021-11-25 00:51:07,782] - obspy.clients.fdsn.mass_downloader - INFO: Client 'GEONET' - Status for 1 time intervals/channels after downloading: DOWNLOADED\n",
      "[2021-11-25 00:51:07,802] - obspy.clients.fdsn.mass_downloader - INFO: Client 'GEONET' - No station information to download.\n",
      "[2021-11-25 00:51:07,869] - obspy.clients.fdsn.mass_downloader - INFO: ============================== Final report\n",
      "[2021-11-25 00:51:07,876] - obspy.clients.fdsn.mass_downloader - INFO: 0 MiniSEED files [0.0 MB] already existed.\n",
      "[2021-11-25 00:51:07,884] - obspy.clients.fdsn.mass_downloader - INFO: 1 StationXML files [0.0 MB] already existed.\n",
      "[2021-11-25 00:51:07,903] - obspy.clients.fdsn.mass_downloader - INFO: Client 'GEONET' - Acquired 1 MiniSEED files [0.0 MB].\n",
      "[2021-11-25 00:51:07,918] - obspy.clients.fdsn.mass_downloader - INFO: Client 'GEONET' - Acquired 0 StationXML files [0.0 MB].\n",
      "[2021-11-25 00:51:07,925] - obspy.clients.fdsn.mass_downloader - INFO: Downloaded 0.0 MB in total.\n",
      "[2021-11-25 00:51:07,992] - obspy.clients.fdsn.mass_downloader - INFO: Initializing FDSN client(s) for GEONET.\n",
      "[2021-11-25 00:51:08,074] - obspy.clients.fdsn.mass_downloader - INFO: Successfully initialized 1 client(s): GEONET.\n",
      "[2021-11-25 00:51:08,087] - obspy.clients.fdsn.mass_downloader - INFO: Total acquired or preexisting stations: 0\n",
      "[2021-11-25 00:51:08,092] - obspy.clients.fdsn.mass_downloader - INFO: Client 'GEONET' - Requesting unreliable availability.\n"
     ]
    },
    {
     "name": "stdout",
     "output_type": "stream",
     "text": [
      "=================================================================\n",
      "Initiating mass download request.\n"
     ]
    },
    {
     "name": "stderr",
     "output_type": "stream",
     "text": [
      "[2021-11-25 00:51:08,831] - obspy.clients.fdsn.mass_downloader - INFO: Client 'GEONET' - Successfully requested availability (0.72 seconds)\n",
      "[2021-11-25 00:51:08,916] - obspy.clients.fdsn.mass_downloader - INFO: Client 'GEONET' - Found 1 stations (1 channels).\n",
      "[2021-11-25 00:51:08,984] - obspy.clients.fdsn.mass_downloader - INFO: Client 'GEONET' - Will attempt to download data from 1 stations.\n",
      "[2021-11-25 00:51:09,019] - obspy.clients.fdsn.mass_downloader - INFO: Client 'GEONET' - Status for 1 time intervals/channels before downloading: NEEDS_DOWNLOADING\n",
      "[2021-11-25 00:51:09,914] - obspy.clients.fdsn.mass_downloader - INFO: Client 'GEONET' - Successfully downloaded 1 channels (of 1)\n",
      "[2021-11-25 00:51:09,951] - obspy.clients.fdsn.mass_downloader - INFO: Client 'GEONET' - Launching basic QC checks...\n",
      "[2021-11-25 00:51:09,976] - obspy.clients.fdsn.mass_downloader - INFO: Client 'GEONET' - Downloaded 0.0 MB [4.59 KB/sec] of data, 0.0 MB of which were discarded afterwards.\n",
      "[2021-11-25 00:51:09,995] - obspy.clients.fdsn.mass_downloader - INFO: Client 'GEONET' - Status for 1 time intervals/channels after downloading: DOWNLOADED\n",
      "[2021-11-25 00:51:10,018] - obspy.clients.fdsn.mass_downloader - INFO: Client 'GEONET' - No station information to download.\n",
      "[2021-11-25 00:51:10,042] - obspy.clients.fdsn.mass_downloader - INFO: ============================== Final report\n",
      "[2021-11-25 00:51:10,052] - obspy.clients.fdsn.mass_downloader - INFO: 0 MiniSEED files [0.0 MB] already existed.\n",
      "[2021-11-25 00:51:10,061] - obspy.clients.fdsn.mass_downloader - INFO: 1 StationXML files [0.0 MB] already existed.\n",
      "[2021-11-25 00:51:10,062] - obspy.clients.fdsn.mass_downloader - INFO: Client 'GEONET' - Acquired 1 MiniSEED files [0.0 MB].\n",
      "[2021-11-25 00:51:10,064] - obspy.clients.fdsn.mass_downloader - INFO: Client 'GEONET' - Acquired 0 StationXML files [0.0 MB].\n",
      "[2021-11-25 00:51:10,068] - obspy.clients.fdsn.mass_downloader - INFO: Downloaded 0.0 MB in total.\n",
      "[2021-11-25 00:51:10,086] - obspy.clients.fdsn.mass_downloader - INFO: Initializing FDSN client(s) for GEONET.\n",
      "[2021-11-25 00:51:10,114] - obspy.clients.fdsn.mass_downloader - INFO: Successfully initialized 1 client(s): GEONET.\n",
      "[2021-11-25 00:51:10,127] - obspy.clients.fdsn.mass_downloader - INFO: Total acquired or preexisting stations: 0\n",
      "[2021-11-25 00:51:10,134] - obspy.clients.fdsn.mass_downloader - INFO: Client 'GEONET' - Requesting unreliable availability.\n"
     ]
    },
    {
     "name": "stdout",
     "output_type": "stream",
     "text": [
      "=================================================================\n",
      "Initiating mass download request.\n"
     ]
    },
    {
     "name": "stderr",
     "output_type": "stream",
     "text": [
      "[2021-11-25 00:51:10,789] - obspy.clients.fdsn.mass_downloader - INFO: Client 'GEONET' - Successfully requested availability (0.65 seconds)\n",
      "[2021-11-25 00:51:10,798] - obspy.clients.fdsn.mass_downloader - INFO: Client 'GEONET' - Found 1 stations (1 channels).\n",
      "[2021-11-25 00:51:10,800] - obspy.clients.fdsn.mass_downloader - INFO: Client 'GEONET' - Will attempt to download data from 1 stations.\n",
      "[2021-11-25 00:51:10,804] - obspy.clients.fdsn.mass_downloader - INFO: Client 'GEONET' - Status for 1 time intervals/channels before downloading: NEEDS_DOWNLOADING\n",
      "[2021-11-25 00:51:11,658] - obspy.clients.fdsn.mass_downloader - INFO: Client 'GEONET' - Successfully downloaded 1 channels (of 1)\n",
      "[2021-11-25 00:51:11,706] - obspy.clients.fdsn.mass_downloader - INFO: Client 'GEONET' - Launching basic QC checks...\n",
      "[2021-11-25 00:51:11,725] - obspy.clients.fdsn.mass_downloader - INFO: Client 'GEONET' - Downloaded 0.0 MB [4.51 KB/sec] of data, 0.0 MB of which were discarded afterwards.\n",
      "[2021-11-25 00:51:11,733] - obspy.clients.fdsn.mass_downloader - INFO: Client 'GEONET' - Status for 1 time intervals/channels after downloading: DOWNLOADED\n",
      "[2021-11-25 00:51:11,757] - obspy.clients.fdsn.mass_downloader - INFO: Client 'GEONET' - No station information to download.\n",
      "[2021-11-25 00:51:11,767] - obspy.clients.fdsn.mass_downloader - INFO: ============================== Final report\n",
      "[2021-11-25 00:51:11,773] - obspy.clients.fdsn.mass_downloader - INFO: 0 MiniSEED files [0.0 MB] already existed.\n",
      "[2021-11-25 00:51:11,775] - obspy.clients.fdsn.mass_downloader - INFO: 1 StationXML files [0.0 MB] already existed.\n",
      "[2021-11-25 00:51:11,776] - obspy.clients.fdsn.mass_downloader - INFO: Client 'GEONET' - Acquired 1 MiniSEED files [0.0 MB].\n",
      "[2021-11-25 00:51:11,777] - obspy.clients.fdsn.mass_downloader - INFO: Client 'GEONET' - Acquired 0 StationXML files [0.0 MB].\n",
      "[2021-11-25 00:51:11,777] - obspy.clients.fdsn.mass_downloader - INFO: Downloaded 0.0 MB in total.\n",
      "[2021-11-25 00:51:11,789] - obspy.clients.fdsn.mass_downloader - INFO: Initializing FDSN client(s) for GEONET.\n",
      "[2021-11-25 00:51:11,822] - obspy.clients.fdsn.mass_downloader - INFO: Successfully initialized 1 client(s): GEONET.\n",
      "[2021-11-25 00:51:11,827] - obspy.clients.fdsn.mass_downloader - INFO: Total acquired or preexisting stations: 0\n",
      "[2021-11-25 00:51:11,832] - obspy.clients.fdsn.mass_downloader - INFO: Client 'GEONET' - Requesting unreliable availability.\n"
     ]
    },
    {
     "name": "stdout",
     "output_type": "stream",
     "text": [
      "=================================================================\n",
      "Initiating mass download request.\n"
     ]
    },
    {
     "name": "stderr",
     "output_type": "stream",
     "text": [
      "[2021-11-25 00:51:12,479] - obspy.clients.fdsn.mass_downloader - INFO: Client 'GEONET' - Successfully requested availability (0.65 seconds)\n",
      "[2021-11-25 00:51:12,487] - obspy.clients.fdsn.mass_downloader - INFO: Client 'GEONET' - Found 1 stations (1 channels).\n",
      "[2021-11-25 00:51:12,491] - obspy.clients.fdsn.mass_downloader - INFO: Client 'GEONET' - Will attempt to download data from 1 stations.\n",
      "[2021-11-25 00:51:12,496] - obspy.clients.fdsn.mass_downloader - INFO: Client 'GEONET' - Status for 1 time intervals/channels before downloading: NEEDS_DOWNLOADING\n",
      "[2021-11-25 00:51:13,287] - obspy.clients.fdsn.mass_downloader - INFO: Client 'GEONET' - Successfully downloaded 1 channels (of 1)\n",
      "[2021-11-25 00:51:13,311] - obspy.clients.fdsn.mass_downloader - INFO: Client 'GEONET' - Launching basic QC checks...\n",
      "[2021-11-25 00:51:13,324] - obspy.clients.fdsn.mass_downloader - INFO: Client 'GEONET' - Downloaded 0.0 MB [5.10 KB/sec] of data, 0.0 MB of which were discarded afterwards.\n",
      "[2021-11-25 00:51:13,328] - obspy.clients.fdsn.mass_downloader - INFO: Client 'GEONET' - Status for 1 time intervals/channels after downloading: DOWNLOADED\n",
      "[2021-11-25 00:51:13,337] - obspy.clients.fdsn.mass_downloader - INFO: Client 'GEONET' - No station information to download.\n",
      "[2021-11-25 00:51:13,341] - obspy.clients.fdsn.mass_downloader - INFO: ============================== Final report\n",
      "[2021-11-25 00:51:13,344] - obspy.clients.fdsn.mass_downloader - INFO: 0 MiniSEED files [0.0 MB] already existed.\n",
      "[2021-11-25 00:51:13,345] - obspy.clients.fdsn.mass_downloader - INFO: 1 StationXML files [0.0 MB] already existed.\n",
      "[2021-11-25 00:51:13,346] - obspy.clients.fdsn.mass_downloader - INFO: Client 'GEONET' - Acquired 1 MiniSEED files [0.0 MB].\n",
      "[2021-11-25 00:51:13,346] - obspy.clients.fdsn.mass_downloader - INFO: Client 'GEONET' - Acquired 0 StationXML files [0.0 MB].\n",
      "[2021-11-25 00:51:13,347] - obspy.clients.fdsn.mass_downloader - INFO: Downloaded 0.0 MB in total.\n",
      "[2021-11-25 00:51:13,359] - obspy.clients.fdsn.mass_downloader - INFO: Initializing FDSN client(s) for GEONET.\n",
      "[2021-11-25 00:51:13,367] - obspy.clients.fdsn.mass_downloader - INFO: Successfully initialized 1 client(s): GEONET.\n",
      "[2021-11-25 00:51:13,369] - obspy.clients.fdsn.mass_downloader - INFO: Total acquired or preexisting stations: 0\n",
      "[2021-11-25 00:51:13,370] - obspy.clients.fdsn.mass_downloader - INFO: Client 'GEONET' - Requesting unreliable availability.\n"
     ]
    },
    {
     "name": "stdout",
     "output_type": "stream",
     "text": [
      "=================================================================\n",
      "Initiating mass download request.\n"
     ]
    },
    {
     "name": "stderr",
     "output_type": "stream",
     "text": [
      "[2021-11-25 00:51:13,971] - obspy.clients.fdsn.mass_downloader - INFO: Client 'GEONET' - Successfully requested availability (0.60 seconds)\n",
      "[2021-11-25 00:51:13,981] - obspy.clients.fdsn.mass_downloader - INFO: Client 'GEONET' - Found 1 stations (1 channels).\n",
      "[2021-11-25 00:51:13,983] - obspy.clients.fdsn.mass_downloader - INFO: Client 'GEONET' - Will attempt to download data from 1 stations.\n",
      "[2021-11-25 00:51:13,987] - obspy.clients.fdsn.mass_downloader - INFO: Client 'GEONET' - Status for 1 time intervals/channels before downloading: NEEDS_DOWNLOADING\n",
      "[2021-11-25 00:51:15,439] - obspy.clients.fdsn.mass_downloader - INFO: Client 'GEONET' - Successfully downloaded 1 channels (of 1)\n",
      "[2021-11-25 00:51:15,492] - obspy.clients.fdsn.mass_downloader - INFO: Client 'GEONET' - Launching basic QC checks...\n",
      "[2021-11-25 00:51:15,515] - obspy.clients.fdsn.mass_downloader - INFO: Client 'GEONET' - Downloaded 0.0 MB [2.68 KB/sec] of data, 0.0 MB of which were discarded afterwards.\n",
      "[2021-11-25 00:51:15,517] - obspy.clients.fdsn.mass_downloader - INFO: Client 'GEONET' - Status for 1 time intervals/channels after downloading: DOWNLOADED\n",
      "[2021-11-25 00:51:15,525] - obspy.clients.fdsn.mass_downloader - INFO: Client 'GEONET' - No station information to download.\n",
      "[2021-11-25 00:51:15,555] - obspy.clients.fdsn.mass_downloader - INFO: ============================== Final report\n",
      "[2021-11-25 00:51:15,561] - obspy.clients.fdsn.mass_downloader - INFO: 0 MiniSEED files [0.0 MB] already existed.\n",
      "[2021-11-25 00:51:15,562] - obspy.clients.fdsn.mass_downloader - INFO: 1 StationXML files [0.0 MB] already existed.\n",
      "[2021-11-25 00:51:15,564] - obspy.clients.fdsn.mass_downloader - INFO: Client 'GEONET' - Acquired 1 MiniSEED files [0.0 MB].\n",
      "[2021-11-25 00:51:15,568] - obspy.clients.fdsn.mass_downloader - INFO: Client 'GEONET' - Acquired 0 StationXML files [0.0 MB].\n",
      "[2021-11-25 00:51:15,568] - obspy.clients.fdsn.mass_downloader - INFO: Downloaded 0.0 MB in total.\n",
      "[2021-11-25 00:51:15,609] - obspy.clients.fdsn.mass_downloader - INFO: Initializing FDSN client(s) for GEONET.\n",
      "[2021-11-25 00:51:15,648] - obspy.clients.fdsn.mass_downloader - INFO: Successfully initialized 1 client(s): GEONET.\n",
      "[2021-11-25 00:51:15,655] - obspy.clients.fdsn.mass_downloader - INFO: Total acquired or preexisting stations: 0\n",
      "[2021-11-25 00:51:15,660] - obspy.clients.fdsn.mass_downloader - INFO: Client 'GEONET' - Requesting unreliable availability.\n"
     ]
    },
    {
     "name": "stdout",
     "output_type": "stream",
     "text": [
      "=================================================================\n",
      "Initiating mass download request.\n"
     ]
    },
    {
     "name": "stderr",
     "output_type": "stream",
     "text": [
      "[2021-11-25 00:51:16,428] - obspy.clients.fdsn.mass_downloader - INFO: Client 'GEONET' - Successfully requested availability (0.76 seconds)\n",
      "[2021-11-25 00:51:16,469] - obspy.clients.fdsn.mass_downloader - INFO: Client 'GEONET' - Found 1 stations (1 channels).\n",
      "[2021-11-25 00:51:16,472] - obspy.clients.fdsn.mass_downloader - INFO: Client 'GEONET' - Will attempt to download data from 1 stations.\n",
      "[2021-11-25 00:51:16,473] - obspy.clients.fdsn.mass_downloader - INFO: Client 'GEONET' - Status for 1 time intervals/channels before downloading: NEEDS_DOWNLOADING\n",
      "[2021-11-25 00:51:17,448] - obspy.clients.fdsn.mass_downloader - INFO: Client 'GEONET' - Successfully downloaded 1 channels (of 1)\n",
      "[2021-11-25 00:51:17,468] - obspy.clients.fdsn.mass_downloader - INFO: Client 'GEONET' - Launching basic QC checks...\n",
      "[2021-11-25 00:51:17,489] - obspy.clients.fdsn.mass_downloader - INFO: Client 'GEONET' - Downloaded 0.0 MB [4.74 KB/sec] of data, 0.0 MB of which were discarded afterwards.\n",
      "[2021-11-25 00:51:17,495] - obspy.clients.fdsn.mass_downloader - INFO: Client 'GEONET' - Status for 1 time intervals/channels after downloading: DOWNLOADED\n",
      "[2021-11-25 00:51:17,535] - obspy.clients.fdsn.mass_downloader - INFO: Client 'GEONET' - No station information to download.\n",
      "[2021-11-25 00:51:17,540] - obspy.clients.fdsn.mass_downloader - INFO: ============================== Final report\n",
      "[2021-11-25 00:51:17,546] - obspy.clients.fdsn.mass_downloader - INFO: 0 MiniSEED files [0.0 MB] already existed.\n",
      "[2021-11-25 00:51:17,550] - obspy.clients.fdsn.mass_downloader - INFO: 1 StationXML files [0.0 MB] already existed.\n",
      "[2021-11-25 00:51:17,552] - obspy.clients.fdsn.mass_downloader - INFO: Client 'GEONET' - Acquired 1 MiniSEED files [0.0 MB].\n",
      "[2021-11-25 00:51:17,560] - obspy.clients.fdsn.mass_downloader - INFO: Client 'GEONET' - Acquired 0 StationXML files [0.0 MB].\n",
      "[2021-11-25 00:51:17,562] - obspy.clients.fdsn.mass_downloader - INFO: Downloaded 0.0 MB in total.\n",
      "[2021-11-25 00:51:17,574] - obspy.clients.fdsn.mass_downloader - INFO: Initializing FDSN client(s) for GEONET.\n",
      "[2021-11-25 00:51:17,609] - obspy.clients.fdsn.mass_downloader - INFO: Successfully initialized 1 client(s): GEONET.\n",
      "[2021-11-25 00:51:17,616] - obspy.clients.fdsn.mass_downloader - INFO: Total acquired or preexisting stations: 0\n",
      "[2021-11-25 00:51:17,619] - obspy.clients.fdsn.mass_downloader - INFO: Client 'GEONET' - Requesting unreliable availability.\n"
     ]
    },
    {
     "name": "stdout",
     "output_type": "stream",
     "text": [
      "=================================================================\n",
      "Initiating mass download request.\n"
     ]
    },
    {
     "name": "stderr",
     "output_type": "stream",
     "text": [
      "[2021-11-25 00:51:18,196] - obspy.clients.fdsn.mass_downloader - INFO: Client 'GEONET' - Successfully requested availability (0.57 seconds)\n",
      "[2021-11-25 00:51:18,222] - obspy.clients.fdsn.mass_downloader - INFO: Client 'GEONET' - Found 1 stations (1 channels).\n",
      "[2021-11-25 00:51:18,256] - obspy.clients.fdsn.mass_downloader - INFO: Client 'GEONET' - Will attempt to download data from 1 stations.\n",
      "[2021-11-25 00:51:18,262] - obspy.clients.fdsn.mass_downloader - INFO: Client 'GEONET' - Status for 1 time intervals/channels before downloading: NEEDS_DOWNLOADING\n",
      "[2021-11-25 00:51:19,145] - obspy.clients.fdsn.mass_downloader - INFO: Client 'GEONET' - Successfully downloaded 1 channels (of 1)\n",
      "[2021-11-25 00:51:19,177] - obspy.clients.fdsn.mass_downloader - INFO: Client 'GEONET' - Launching basic QC checks...\n",
      "[2021-11-25 00:51:19,243] - obspy.clients.fdsn.mass_downloader - INFO: Client 'GEONET' - Downloaded 0.0 MB [4.55 KB/sec] of data, 0.0 MB of which were discarded afterwards.\n",
      "[2021-11-25 00:51:19,257] - obspy.clients.fdsn.mass_downloader - INFO: Client 'GEONET' - Status for 1 time intervals/channels after downloading: DOWNLOADED\n",
      "[2021-11-25 00:51:19,268] - obspy.clients.fdsn.mass_downloader - INFO: Client 'GEONET' - No station information to download.\n",
      "[2021-11-25 00:51:19,282] - obspy.clients.fdsn.mass_downloader - INFO: ============================== Final report\n",
      "[2021-11-25 00:51:19,285] - obspy.clients.fdsn.mass_downloader - INFO: 0 MiniSEED files [0.0 MB] already existed.\n",
      "[2021-11-25 00:51:19,288] - obspy.clients.fdsn.mass_downloader - INFO: 1 StationXML files [0.0 MB] already existed.\n",
      "[2021-11-25 00:51:19,290] - obspy.clients.fdsn.mass_downloader - INFO: Client 'GEONET' - Acquired 1 MiniSEED files [0.0 MB].\n",
      "[2021-11-25 00:51:19,294] - obspy.clients.fdsn.mass_downloader - INFO: Client 'GEONET' - Acquired 0 StationXML files [0.0 MB].\n",
      "[2021-11-25 00:51:19,295] - obspy.clients.fdsn.mass_downloader - INFO: Downloaded 0.0 MB in total.\n",
      "[2021-11-25 00:51:19,355] - obspy.clients.fdsn.mass_downloader - INFO: Successfully initialized 1 client(s): GEONET.\n",
      "[2021-11-25 00:51:19,371] - obspy.clients.fdsn.mass_downloader - INFO: Total acquired or preexisting stations: 0\n",
      "[2021-11-25 00:51:19,372] - obspy.clients.fdsn.mass_downloader - INFO: Client 'GEONET' - Requesting unreliable availability.\n"
     ]
    },
    {
     "name": "stdout",
     "output_type": "stream",
     "text": [
      "=================================================================\n",
      "Initiating mass download request.\n"
     ]
    },
    {
     "name": "stderr",
     "output_type": "stream",
     "text": [
      "[2021-11-25 00:51:20,049] - obspy.clients.fdsn.mass_downloader - INFO: Client 'GEONET' - Successfully requested availability (0.68 seconds)\n",
      "[2021-11-25 00:51:20,095] - obspy.clients.fdsn.mass_downloader - INFO: Client 'GEONET' - Found 1 stations (1 channels).\n",
      "[2021-11-25 00:51:20,122] - obspy.clients.fdsn.mass_downloader - INFO: Client 'GEONET' - Will attempt to download data from 1 stations.\n",
      "[2021-11-25 00:51:20,130] - obspy.clients.fdsn.mass_downloader - INFO: Client 'GEONET' - Status for 1 time intervals/channels before downloading: NEEDS_DOWNLOADING\n",
      "[2021-11-25 00:51:21,043] - obspy.clients.fdsn.mass_downloader - INFO: Client 'GEONET' - Successfully downloaded 1 channels (of 1)\n",
      "[2021-11-25 00:51:21,107] - obspy.clients.fdsn.mass_downloader - INFO: Client 'GEONET' - Launching basic QC checks...\n",
      "[2021-11-25 00:51:21,229] - obspy.clients.fdsn.mass_downloader - INFO: Client 'GEONET' - Downloaded 0.0 MB [5.85 KB/sec] of data, 0.0 MB of which were discarded afterwards.\n",
      "[2021-11-25 00:51:21,257] - obspy.clients.fdsn.mass_downloader - INFO: Client 'GEONET' - Status for 1 time intervals/channels after downloading: DOWNLOADED\n",
      "[2021-11-25 00:51:21,278] - obspy.clients.fdsn.mass_downloader - INFO: Client 'GEONET' - No station information to download.\n",
      "[2021-11-25 00:51:21,308] - obspy.clients.fdsn.mass_downloader - INFO: ============================== Final report\n",
      "[2021-11-25 00:51:21,317] - obspy.clients.fdsn.mass_downloader - INFO: 0 MiniSEED files [0.0 MB] already existed.\n",
      "[2021-11-25 00:51:21,318] - obspy.clients.fdsn.mass_downloader - INFO: 1 StationXML files [0.0 MB] already existed.\n",
      "[2021-11-25 00:51:21,324] - obspy.clients.fdsn.mass_downloader - INFO: Client 'GEONET' - Acquired 1 MiniSEED files [0.0 MB].\n",
      "[2021-11-25 00:51:21,325] - obspy.clients.fdsn.mass_downloader - INFO: Client 'GEONET' - Acquired 0 StationXML files [0.0 MB].\n",
      "[2021-11-25 00:51:21,325] - obspy.clients.fdsn.mass_downloader - INFO: Downloaded 0.0 MB in total.\n",
      "[2021-11-25 00:51:21,380] - obspy.clients.fdsn.mass_downloader - INFO: Initializing FDSN client(s) for GEONET.\n",
      "[2021-11-25 00:51:21,466] - obspy.clients.fdsn.mass_downloader - INFO: Successfully initialized 1 client(s): GEONET.\n",
      "[2021-11-25 00:51:21,494] - obspy.clients.fdsn.mass_downloader - INFO: Total acquired or preexisting stations: 0\n",
      "[2021-11-25 00:51:21,502] - obspy.clients.fdsn.mass_downloader - INFO: Client 'GEONET' - Requesting unreliable availability.\n"
     ]
    },
    {
     "name": "stdout",
     "output_type": "stream",
     "text": [
      "=================================================================\n",
      "Initiating mass download request.\n"
     ]
    },
    {
     "name": "stderr",
     "output_type": "stream",
     "text": [
      "[2021-11-25 00:51:22,279] - obspy.clients.fdsn.mass_downloader - INFO: Client 'GEONET' - Successfully requested availability (0.78 seconds)\n",
      "[2021-11-25 00:51:22,322] - obspy.clients.fdsn.mass_downloader - INFO: Client 'GEONET' - Found 1 stations (1 channels).\n",
      "[2021-11-25 00:51:22,384] - obspy.clients.fdsn.mass_downloader - INFO: Client 'GEONET' - Will attempt to download data from 1 stations.\n",
      "[2021-11-25 00:51:22,435] - obspy.clients.fdsn.mass_downloader - INFO: Client 'GEONET' - Status for 1 time intervals/channels before downloading: NEEDS_DOWNLOADING\n",
      "[2021-11-25 00:51:23,475] - obspy.clients.fdsn.mass_downloader - INFO: Client 'GEONET' - Successfully downloaded 1 channels (of 1)\n",
      "[2021-11-25 00:51:23,642] - obspy.clients.fdsn.mass_downloader - INFO: Client 'GEONET' - Launching basic QC checks...\n",
      "[2021-11-25 00:51:23,759] - obspy.clients.fdsn.mass_downloader - INFO: Client 'GEONET' - Downloaded 0.0 MB [3.06 KB/sec] of data, 0.0 MB of which were discarded afterwards.\n",
      "[2021-11-25 00:51:23,766] - obspy.clients.fdsn.mass_downloader - INFO: Client 'GEONET' - Status for 1 time intervals/channels after downloading: DOWNLOADED\n",
      "[2021-11-25 00:51:23,778] - obspy.clients.fdsn.mass_downloader - INFO: Client 'GEONET' - No station information to download.\n",
      "[2021-11-25 00:51:23,798] - obspy.clients.fdsn.mass_downloader - INFO: ============================== Final report\n",
      "[2021-11-25 00:51:23,810] - obspy.clients.fdsn.mass_downloader - INFO: 0 MiniSEED files [0.0 MB] already existed.\n",
      "[2021-11-25 00:51:23,816] - obspy.clients.fdsn.mass_downloader - INFO: 1 StationXML files [0.0 MB] already existed.\n",
      "[2021-11-25 00:51:23,824] - obspy.clients.fdsn.mass_downloader - INFO: Client 'GEONET' - Acquired 1 MiniSEED files [0.0 MB].\n",
      "[2021-11-25 00:51:23,829] - obspy.clients.fdsn.mass_downloader - INFO: Client 'GEONET' - Acquired 0 StationXML files [0.0 MB].\n",
      "[2021-11-25 00:51:23,834] - obspy.clients.fdsn.mass_downloader - INFO: Downloaded 0.0 MB in total.\n",
      "[2021-11-25 00:51:23,842] - obspy.clients.fdsn.mass_downloader - INFO: Initializing FDSN client(s) for GEONET.\n",
      "[2021-11-25 00:51:23,884] - obspy.clients.fdsn.mass_downloader - INFO: Successfully initialized 1 client(s): GEONET.\n",
      "[2021-11-25 00:51:23,899] - obspy.clients.fdsn.mass_downloader - INFO: Total acquired or preexisting stations: 0\n",
      "[2021-11-25 00:51:23,904] - obspy.clients.fdsn.mass_downloader - INFO: Client 'GEONET' - Requesting unreliable availability.\n"
     ]
    },
    {
     "name": "stdout",
     "output_type": "stream",
     "text": [
      "=================================================================\n",
      "Initiating mass download request.\n"
     ]
    },
    {
     "name": "stderr",
     "output_type": "stream",
     "text": [
      "[2021-11-25 00:51:24,689] - obspy.clients.fdsn.mass_downloader - INFO: Client 'GEONET' - Successfully requested availability (0.78 seconds)\n",
      "[2021-11-25 00:51:24,747] - obspy.clients.fdsn.mass_downloader - INFO: Client 'GEONET' - Found 1 stations (1 channels).\n",
      "[2021-11-25 00:51:24,798] - obspy.clients.fdsn.mass_downloader - INFO: Client 'GEONET' - Will attempt to download data from 1 stations.\n",
      "[2021-11-25 00:51:24,844] - obspy.clients.fdsn.mass_downloader - INFO: Client 'GEONET' - Status for 1 time intervals/channels before downloading: NEEDS_DOWNLOADING\n",
      "[2021-11-25 00:51:25,851] - obspy.clients.fdsn.mass_downloader - INFO: Client 'GEONET' - Successfully downloaded 1 channels (of 1)\n",
      "[2021-11-25 00:51:26,007] - obspy.clients.fdsn.mass_downloader - INFO: Client 'GEONET' - Launching basic QC checks...\n",
      "[2021-11-25 00:51:26,121] - obspy.clients.fdsn.mass_downloader - INFO: Client 'GEONET' - Downloaded 0.0 MB [4.12 KB/sec] of data, 0.0 MB of which were discarded afterwards.\n",
      "[2021-11-25 00:51:26,134] - obspy.clients.fdsn.mass_downloader - INFO: Client 'GEONET' - Status for 1 time intervals/channels after downloading: DOWNLOADED\n",
      "[2021-11-25 00:51:26,166] - obspy.clients.fdsn.mass_downloader - INFO: Client 'GEONET' - No station information to download.\n",
      "[2021-11-25 00:51:26,173] - obspy.clients.fdsn.mass_downloader - INFO: ============================== Final report\n",
      "[2021-11-25 00:51:26,178] - obspy.clients.fdsn.mass_downloader - INFO: 0 MiniSEED files [0.0 MB] already existed.\n",
      "[2021-11-25 00:51:26,181] - obspy.clients.fdsn.mass_downloader - INFO: 1 StationXML files [0.0 MB] already existed.\n",
      "[2021-11-25 00:51:26,183] - obspy.clients.fdsn.mass_downloader - INFO: Client 'GEONET' - Acquired 1 MiniSEED files [0.0 MB].\n",
      "[2021-11-25 00:51:26,183] - obspy.clients.fdsn.mass_downloader - INFO: Client 'GEONET' - Acquired 0 StationXML files [0.0 MB].\n",
      "[2021-11-25 00:51:26,184] - obspy.clients.fdsn.mass_downloader - INFO: Downloaded 0.0 MB in total.\n",
      "[2021-11-25 00:51:26,216] - obspy.clients.fdsn.mass_downloader - INFO: Initializing FDSN client(s) for GEONET.\n",
      "[2021-11-25 00:51:26,310] - obspy.clients.fdsn.mass_downloader - INFO: Successfully initialized 1 client(s): GEONET.\n",
      "[2021-11-25 00:51:26,352] - obspy.clients.fdsn.mass_downloader - INFO: Total acquired or preexisting stations: 0\n",
      "[2021-11-25 00:51:26,362] - obspy.clients.fdsn.mass_downloader - INFO: Client 'GEONET' - Requesting unreliable availability.\n"
     ]
    },
    {
     "name": "stdout",
     "output_type": "stream",
     "text": [
      "=================================================================\n",
      "Initiating mass download request.\n"
     ]
    },
    {
     "name": "stderr",
     "output_type": "stream",
     "text": [
      "[2021-11-25 00:51:27,123] - obspy.clients.fdsn.mass_downloader - INFO: Client 'GEONET' - Successfully requested availability (0.75 seconds)\n",
      "[2021-11-25 00:51:27,218] - obspy.clients.fdsn.mass_downloader - INFO: Client 'GEONET' - Found 1 stations (1 channels).\n",
      "[2021-11-25 00:51:27,232] - obspy.clients.fdsn.mass_downloader - INFO: Client 'GEONET' - Will attempt to download data from 1 stations.\n",
      "[2021-11-25 00:51:27,250] - obspy.clients.fdsn.mass_downloader - INFO: Client 'GEONET' - Status for 1 time intervals/channels before downloading: NEEDS_DOWNLOADING\n",
      "[2021-11-25 00:51:28,236] - obspy.clients.fdsn.mass_downloader - INFO: Client 'GEONET' - Successfully downloaded 1 channels (of 1)\n",
      "[2021-11-25 00:51:28,296] - obspy.clients.fdsn.mass_downloader - INFO: Client 'GEONET' - Launching basic QC checks...\n",
      "[2021-11-25 00:51:28,354] - obspy.clients.fdsn.mass_downloader - INFO: Client 'GEONET' - Downloaded 0.0 MB [2.99 KB/sec] of data, 0.0 MB of which were discarded afterwards.\n",
      "[2021-11-25 00:51:28,360] - obspy.clients.fdsn.mass_downloader - INFO: Client 'GEONET' - Status for 1 time intervals/channels after downloading: DOWNLOADED\n",
      "[2021-11-25 00:51:28,392] - obspy.clients.fdsn.mass_downloader - INFO: Client 'GEONET' - No station information to download.\n",
      "[2021-11-25 00:51:28,398] - obspy.clients.fdsn.mass_downloader - INFO: ============================== Final report\n",
      "[2021-11-25 00:51:28,401] - obspy.clients.fdsn.mass_downloader - INFO: 0 MiniSEED files [0.0 MB] already existed.\n",
      "[2021-11-25 00:51:28,401] - obspy.clients.fdsn.mass_downloader - INFO: 1 StationXML files [0.0 MB] already existed.\n",
      "[2021-11-25 00:51:28,402] - obspy.clients.fdsn.mass_downloader - INFO: Client 'GEONET' - Acquired 1 MiniSEED files [0.0 MB].\n",
      "[2021-11-25 00:51:28,402] - obspy.clients.fdsn.mass_downloader - INFO: Client 'GEONET' - Acquired 0 StationXML files [0.0 MB].\n",
      "[2021-11-25 00:51:28,402] - obspy.clients.fdsn.mass_downloader - INFO: Downloaded 0.0 MB in total.\n",
      "[2021-11-25 00:51:28,447] - obspy.clients.fdsn.mass_downloader - INFO: Initializing FDSN client(s) for GEONET.\n",
      "[2021-11-25 00:51:28,478] - obspy.clients.fdsn.mass_downloader - INFO: Successfully initialized 1 client(s): GEONET.\n",
      "[2021-11-25 00:51:28,482] - obspy.clients.fdsn.mass_downloader - INFO: Total acquired or preexisting stations: 0\n",
      "[2021-11-25 00:51:28,485] - obspy.clients.fdsn.mass_downloader - INFO: Client 'GEONET' - Requesting unreliable availability.\n"
     ]
    },
    {
     "name": "stdout",
     "output_type": "stream",
     "text": [
      "=================================================================\n",
      "Initiating mass download request.\n"
     ]
    },
    {
     "name": "stderr",
     "output_type": "stream",
     "text": [
      "[2021-11-25 00:51:29,060] - obspy.clients.fdsn.mass_downloader - INFO: Client 'GEONET' - Successfully requested availability (0.57 seconds)\n",
      "[2021-11-25 00:51:29,091] - obspy.clients.fdsn.mass_downloader - INFO: Client 'GEONET' - Found 1 stations (1 channels).\n",
      "[2021-11-25 00:51:29,107] - obspy.clients.fdsn.mass_downloader - INFO: Client 'GEONET' - Will attempt to download data from 1 stations.\n",
      "[2021-11-25 00:51:29,115] - obspy.clients.fdsn.mass_downloader - INFO: Client 'GEONET' - Status for 1 time intervals/channels before downloading: NEEDS_DOWNLOADING\n",
      "[2021-11-25 00:51:30,180] - obspy.clients.fdsn.mass_downloader - INFO: Client 'GEONET' - Successfully downloaded 1 channels (of 1)\n",
      "[2021-11-25 00:51:30,202] - obspy.clients.fdsn.mass_downloader - INFO: Client 'GEONET' - Launching basic QC checks...\n",
      "[2021-11-25 00:51:30,222] - obspy.clients.fdsn.mass_downloader - INFO: Client 'GEONET' - Downloaded 0.0 MB [4.18 KB/sec] of data, 0.0 MB of which were discarded afterwards.\n",
      "[2021-11-25 00:51:30,225] - obspy.clients.fdsn.mass_downloader - INFO: Client 'GEONET' - Status for 1 time intervals/channels after downloading: DOWNLOADED\n",
      "[2021-11-25 00:51:30,231] - obspy.clients.fdsn.mass_downloader - INFO: Client 'GEONET' - No station information to download.\n",
      "[2021-11-25 00:51:30,241] - obspy.clients.fdsn.mass_downloader - INFO: ============================== Final report\n",
      "[2021-11-25 00:51:30,247] - obspy.clients.fdsn.mass_downloader - INFO: 0 MiniSEED files [0.0 MB] already existed.\n",
      "[2021-11-25 00:51:30,249] - obspy.clients.fdsn.mass_downloader - INFO: 1 StationXML files [0.0 MB] already existed.\n",
      "[2021-11-25 00:51:30,250] - obspy.clients.fdsn.mass_downloader - INFO: Client 'GEONET' - Acquired 1 MiniSEED files [0.0 MB].\n",
      "[2021-11-25 00:51:30,251] - obspy.clients.fdsn.mass_downloader - INFO: Client 'GEONET' - Acquired 0 StationXML files [0.0 MB].\n",
      "[2021-11-25 00:51:30,253] - obspy.clients.fdsn.mass_downloader - INFO: Downloaded 0.0 MB in total.\n",
      "[2021-11-25 00:51:30,269] - obspy.clients.fdsn.mass_downloader - INFO: Initializing FDSN client(s) for GEONET.\n",
      "[2021-11-25 00:51:30,314] - obspy.clients.fdsn.mass_downloader - INFO: Successfully initialized 1 client(s): GEONET.\n",
      "[2021-11-25 00:51:30,326] - obspy.clients.fdsn.mass_downloader - INFO: Total acquired or preexisting stations: 0\n",
      "[2021-11-25 00:51:30,329] - obspy.clients.fdsn.mass_downloader - INFO: Client 'GEONET' - Requesting unreliable availability.\n"
     ]
    },
    {
     "name": "stdout",
     "output_type": "stream",
     "text": [
      "=================================================================\n",
      "Initiating mass download request.\n"
     ]
    },
    {
     "name": "stderr",
     "output_type": "stream",
     "text": [
      "[2021-11-25 00:51:30,949] - obspy.clients.fdsn.mass_downloader - INFO: Client 'GEONET' - Successfully requested availability (0.62 seconds)\n",
      "[2021-11-25 00:51:30,956] - obspy.clients.fdsn.mass_downloader - INFO: Client 'GEONET' - Found 1 stations (1 channels).\n",
      "[2021-11-25 00:51:30,958] - obspy.clients.fdsn.mass_downloader - INFO: Client 'GEONET' - Will attempt to download data from 1 stations.\n",
      "[2021-11-25 00:51:30,959] - obspy.clients.fdsn.mass_downloader - INFO: Client 'GEONET' - Status for 1 time intervals/channels before downloading: NEEDS_DOWNLOADING\n",
      "[2021-11-25 00:51:31,835] - obspy.clients.fdsn.mass_downloader - INFO: Client 'GEONET' - Successfully downloaded 1 channels (of 1)\n",
      "[2021-11-25 00:51:31,903] - obspy.clients.fdsn.mass_downloader - INFO: Client 'GEONET' - Launching basic QC checks...\n",
      "[2021-11-25 00:51:31,940] - obspy.clients.fdsn.mass_downloader - INFO: Client 'GEONET' - Downloaded 0.0 MB [4.81 KB/sec] of data, 0.0 MB of which were discarded afterwards.\n",
      "[2021-11-25 00:51:31,949] - obspy.clients.fdsn.mass_downloader - INFO: Client 'GEONET' - Status for 1 time intervals/channels after downloading: DOWNLOADED\n",
      "[2021-11-25 00:51:31,964] - obspy.clients.fdsn.mass_downloader - INFO: Client 'GEONET' - No station information to download.\n",
      "[2021-11-25 00:51:31,978] - obspy.clients.fdsn.mass_downloader - INFO: ============================== Final report\n",
      "[2021-11-25 00:51:31,983] - obspy.clients.fdsn.mass_downloader - INFO: 0 MiniSEED files [0.0 MB] already existed.\n",
      "[2021-11-25 00:51:31,987] - obspy.clients.fdsn.mass_downloader - INFO: 1 StationXML files [0.0 MB] already existed.\n",
      "[2021-11-25 00:51:31,992] - obspy.clients.fdsn.mass_downloader - INFO: Client 'GEONET' - Acquired 1 MiniSEED files [0.0 MB].\n",
      "[2021-11-25 00:51:31,999] - obspy.clients.fdsn.mass_downloader - INFO: Client 'GEONET' - Acquired 0 StationXML files [0.0 MB].\n",
      "[2021-11-25 00:51:31,999] - obspy.clients.fdsn.mass_downloader - INFO: Downloaded 0.0 MB in total.\n",
      "[2021-11-25 00:51:32,021] - obspy.clients.fdsn.mass_downloader - INFO: Initializing FDSN client(s) for GEONET.\n",
      "[2021-11-25 00:51:32,065] - obspy.clients.fdsn.mass_downloader - INFO: Successfully initialized 1 client(s): GEONET.\n",
      "[2021-11-25 00:51:32,075] - obspy.clients.fdsn.mass_downloader - INFO: Total acquired or preexisting stations: 0\n",
      "[2021-11-25 00:51:32,080] - obspy.clients.fdsn.mass_downloader - INFO: Client 'GEONET' - Requesting unreliable availability.\n"
     ]
    },
    {
     "name": "stdout",
     "output_type": "stream",
     "text": [
      "=================================================================\n",
      "Initiating mass download request.\n"
     ]
    },
    {
     "name": "stderr",
     "output_type": "stream",
     "text": [
      "[2021-11-25 00:51:32,788] - obspy.clients.fdsn.mass_downloader - INFO: Client 'GEONET' - Successfully requested availability (0.70 seconds)\n",
      "[2021-11-25 00:51:32,801] - obspy.clients.fdsn.mass_downloader - INFO: Client 'GEONET' - Found 1 stations (1 channels).\n",
      "[2021-11-25 00:51:32,814] - obspy.clients.fdsn.mass_downloader - INFO: Client 'GEONET' - Will attempt to download data from 1 stations.\n",
      "[2021-11-25 00:51:32,830] - obspy.clients.fdsn.mass_downloader - INFO: Client 'GEONET' - Status for 1 time intervals/channels before downloading: NEEDS_DOWNLOADING\n",
      "[2021-11-25 00:51:33,799] - obspy.clients.fdsn.mass_downloader - INFO: Client 'GEONET' - Successfully downloaded 1 channels (of 1)\n",
      "[2021-11-25 00:51:33,815] - obspy.clients.fdsn.mass_downloader - INFO: Client 'GEONET' - Launching basic QC checks...\n",
      "[2021-11-25 00:51:33,828] - obspy.clients.fdsn.mass_downloader - INFO: Client 'GEONET' - Downloaded 0.0 MB [4.24 KB/sec] of data, 0.0 MB of which were discarded afterwards.\n",
      "[2021-11-25 00:51:33,830] - obspy.clients.fdsn.mass_downloader - INFO: Client 'GEONET' - Status for 1 time intervals/channels after downloading: DOWNLOADED\n",
      "[2021-11-25 00:51:33,839] - obspy.clients.fdsn.mass_downloader - INFO: Client 'GEONET' - No station information to download.\n",
      "[2021-11-25 00:51:33,840] - obspy.clients.fdsn.mass_downloader - INFO: ============================== Final report\n",
      "[2021-11-25 00:51:33,841] - obspy.clients.fdsn.mass_downloader - INFO: 0 MiniSEED files [0.0 MB] already existed.\n",
      "[2021-11-25 00:51:33,842] - obspy.clients.fdsn.mass_downloader - INFO: 1 StationXML files [0.0 MB] already existed.\n",
      "[2021-11-25 00:51:33,843] - obspy.clients.fdsn.mass_downloader - INFO: Client 'GEONET' - Acquired 1 MiniSEED files [0.0 MB].\n",
      "[2021-11-25 00:51:33,844] - obspy.clients.fdsn.mass_downloader - INFO: Client 'GEONET' - Acquired 0 StationXML files [0.0 MB].\n",
      "[2021-11-25 00:51:33,844] - obspy.clients.fdsn.mass_downloader - INFO: Downloaded 0.0 MB in total.\n",
      "[2021-11-25 00:51:33,850] - obspy.clients.fdsn.mass_downloader - INFO: Initializing FDSN client(s) for GEONET.\n",
      "[2021-11-25 00:51:33,868] - obspy.clients.fdsn.mass_downloader - INFO: Successfully initialized 1 client(s): GEONET.\n",
      "[2021-11-25 00:51:33,873] - obspy.clients.fdsn.mass_downloader - INFO: Total acquired or preexisting stations: 0\n",
      "[2021-11-25 00:51:33,876] - obspy.clients.fdsn.mass_downloader - INFO: Client 'GEONET' - Requesting unreliable availability.\n"
     ]
    },
    {
     "name": "stdout",
     "output_type": "stream",
     "text": [
      "=================================================================\n",
      "Initiating mass download request.\n"
     ]
    },
    {
     "name": "stderr",
     "output_type": "stream",
     "text": [
      "[2021-11-25 00:51:34,554] - obspy.clients.fdsn.mass_downloader - INFO: Client 'GEONET' - Successfully requested availability (0.68 seconds)\n",
      "[2021-11-25 00:51:34,607] - obspy.clients.fdsn.mass_downloader - INFO: Client 'GEONET' - Found 1 stations (1 channels).\n",
      "[2021-11-25 00:51:34,621] - obspy.clients.fdsn.mass_downloader - INFO: Client 'GEONET' - Will attempt to download data from 1 stations.\n",
      "[2021-11-25 00:51:34,638] - obspy.clients.fdsn.mass_downloader - INFO: Client 'GEONET' - Status for 1 time intervals/channels before downloading: NEEDS_DOWNLOADING\n",
      "[2021-11-25 00:51:35,608] - obspy.clients.fdsn.mass_downloader - INFO: Client 'GEONET' - Successfully downloaded 1 channels (of 1)\n",
      "[2021-11-25 00:51:35,655] - obspy.clients.fdsn.mass_downloader - INFO: Client 'GEONET' - Launching basic QC checks...\n",
      "[2021-11-25 00:51:35,704] - obspy.clients.fdsn.mass_downloader - INFO: Client 'GEONET' - Downloaded 0.0 MB [5.13 KB/sec] of data, 0.0 MB of which were discarded afterwards.\n",
      "[2021-11-25 00:51:35,713] - obspy.clients.fdsn.mass_downloader - INFO: Client 'GEONET' - Status for 1 time intervals/channels after downloading: DOWNLOADED\n",
      "[2021-11-25 00:51:35,735] - obspy.clients.fdsn.mass_downloader - INFO: Client 'GEONET' - No station information to download.\n",
      "[2021-11-25 00:51:35,740] - obspy.clients.fdsn.mass_downloader - INFO: ============================== Final report\n",
      "[2021-11-25 00:51:35,744] - obspy.clients.fdsn.mass_downloader - INFO: 0 MiniSEED files [0.0 MB] already existed.\n",
      "[2021-11-25 00:51:35,750] - obspy.clients.fdsn.mass_downloader - INFO: 1 StationXML files [0.0 MB] already existed.\n",
      "[2021-11-25 00:51:35,757] - obspy.clients.fdsn.mass_downloader - INFO: Client 'GEONET' - Acquired 1 MiniSEED files [0.0 MB].\n",
      "[2021-11-25 00:51:35,760] - obspy.clients.fdsn.mass_downloader - INFO: Client 'GEONET' - Acquired 0 StationXML files [0.0 MB].\n",
      "[2021-11-25 00:51:35,761] - obspy.clients.fdsn.mass_downloader - INFO: Downloaded 0.0 MB in total.\n",
      "[2021-11-25 00:51:35,829] - obspy.clients.fdsn.mass_downloader - INFO: Initializing FDSN client(s) for GEONET.\n",
      "[2021-11-25 00:51:35,868] - obspy.clients.fdsn.mass_downloader - INFO: Successfully initialized 1 client(s): GEONET.\n",
      "[2021-11-25 00:51:35,872] - obspy.clients.fdsn.mass_downloader - INFO: Total acquired or preexisting stations: 0\n",
      "[2021-11-25 00:51:35,878] - obspy.clients.fdsn.mass_downloader - INFO: Client 'GEONET' - Requesting unreliable availability.\n"
     ]
    },
    {
     "name": "stdout",
     "output_type": "stream",
     "text": [
      "=================================================================\n",
      "Initiating mass download request.\n"
     ]
    },
    {
     "name": "stderr",
     "output_type": "stream",
     "text": [
      "[2021-11-25 00:51:36,432] - obspy.clients.fdsn.mass_downloader - INFO: Client 'GEONET' - Successfully requested availability (0.55 seconds)\n",
      "[2021-11-25 00:51:36,438] - obspy.clients.fdsn.mass_downloader - INFO: Client 'GEONET' - Found 1 stations (1 channels).\n",
      "[2021-11-25 00:51:36,439] - obspy.clients.fdsn.mass_downloader - INFO: Client 'GEONET' - Will attempt to download data from 1 stations.\n",
      "[2021-11-25 00:51:36,440] - obspy.clients.fdsn.mass_downloader - INFO: Client 'GEONET' - Status for 1 time intervals/channels before downloading: NEEDS_DOWNLOADING\n",
      "[2021-11-25 00:51:37,263] - obspy.clients.fdsn.mass_downloader - INFO: Client 'GEONET' - Successfully downloaded 1 channels (of 1)\n",
      "[2021-11-25 00:51:37,271] - obspy.clients.fdsn.mass_downloader - INFO: Client 'GEONET' - Launching basic QC checks...\n",
      "[2021-11-25 00:51:37,277] - obspy.clients.fdsn.mass_downloader - INFO: Client 'GEONET' - Downloaded 0.0 MB [4.83 KB/sec] of data, 0.0 MB of which were discarded afterwards.\n",
      "[2021-11-25 00:51:37,277] - obspy.clients.fdsn.mass_downloader - INFO: Client 'GEONET' - Status for 1 time intervals/channels after downloading: DOWNLOADED\n",
      "[2021-11-25 00:51:37,281] - obspy.clients.fdsn.mass_downloader - INFO: Client 'GEONET' - No station information to download.\n",
      "[2021-11-25 00:51:37,283] - obspy.clients.fdsn.mass_downloader - INFO: ============================== Final report\n",
      "[2021-11-25 00:51:37,284] - obspy.clients.fdsn.mass_downloader - INFO: 0 MiniSEED files [0.0 MB] already existed.\n",
      "[2021-11-25 00:51:37,284] - obspy.clients.fdsn.mass_downloader - INFO: 1 StationXML files [0.0 MB] already existed.\n",
      "[2021-11-25 00:51:37,285] - obspy.clients.fdsn.mass_downloader - INFO: Client 'GEONET' - Acquired 1 MiniSEED files [0.0 MB].\n",
      "[2021-11-25 00:51:37,286] - obspy.clients.fdsn.mass_downloader - INFO: Client 'GEONET' - Acquired 0 StationXML files [0.0 MB].\n",
      "[2021-11-25 00:51:37,286] - obspy.clients.fdsn.mass_downloader - INFO: Downloaded 0.0 MB in total.\n",
      "[2021-11-25 00:51:37,291] - obspy.clients.fdsn.mass_downloader - INFO: Initializing FDSN client(s) for GEONET.\n",
      "[2021-11-25 00:51:37,296] - obspy.clients.fdsn.mass_downloader - INFO: Successfully initialized 1 client(s): GEONET.\n",
      "[2021-11-25 00:51:37,297] - obspy.clients.fdsn.mass_downloader - INFO: Total acquired or preexisting stations: 0\n",
      "[2021-11-25 00:51:37,298] - obspy.clients.fdsn.mass_downloader - INFO: Client 'GEONET' - Requesting unreliable availability.\n"
     ]
    },
    {
     "name": "stdout",
     "output_type": "stream",
     "text": [
      "=================================================================\n",
      "Initiating mass download request.\n"
     ]
    },
    {
     "name": "stderr",
     "output_type": "stream",
     "text": [
      "[2021-11-25 00:51:37,856] - obspy.clients.fdsn.mass_downloader - INFO: Client 'GEONET' - Successfully requested availability (0.56 seconds)\n",
      "[2021-11-25 00:51:37,858] - obspy.clients.fdsn.mass_downloader - INFO: Client 'GEONET' - Found 1 stations (1 channels).\n",
      "[2021-11-25 00:51:37,858] - obspy.clients.fdsn.mass_downloader - INFO: Client 'GEONET' - Will attempt to download data from 1 stations.\n",
      "[2021-11-25 00:51:37,859] - obspy.clients.fdsn.mass_downloader - INFO: Client 'GEONET' - Status for 1 time intervals/channels before downloading: NEEDS_DOWNLOADING\n",
      "[2021-11-25 00:51:39,178] - obspy.clients.fdsn.mass_downloader - INFO: Client 'GEONET' - Successfully downloaded 1 channels (of 1)\n",
      "[2021-11-25 00:51:39,181] - obspy.clients.fdsn.mass_downloader - INFO: Client 'GEONET' - Launching basic QC checks...\n",
      "[2021-11-25 00:51:39,190] - obspy.clients.fdsn.mass_downloader - INFO: Client 'GEONET' - Downloaded 0.0 MB [5.68 KB/sec] of data, 0.0 MB of which were discarded afterwards.\n",
      "[2021-11-25 00:51:39,190] - obspy.clients.fdsn.mass_downloader - INFO: Client 'GEONET' - Status for 1 time intervals/channels after downloading: DOWNLOADED\n",
      "[2021-11-25 00:51:39,192] - obspy.clients.fdsn.mass_downloader - INFO: Client 'GEONET' - No station information to download.\n",
      "[2021-11-25 00:51:39,193] - obspy.clients.fdsn.mass_downloader - INFO: ============================== Final report\n",
      "[2021-11-25 00:51:39,193] - obspy.clients.fdsn.mass_downloader - INFO: 0 MiniSEED files [0.0 MB] already existed.\n",
      "[2021-11-25 00:51:39,193] - obspy.clients.fdsn.mass_downloader - INFO: 1 StationXML files [0.0 MB] already existed.\n",
      "[2021-11-25 00:51:39,193] - obspy.clients.fdsn.mass_downloader - INFO: Client 'GEONET' - Acquired 1 MiniSEED files [0.0 MB].\n",
      "[2021-11-25 00:51:39,194] - obspy.clients.fdsn.mass_downloader - INFO: Client 'GEONET' - Acquired 0 StationXML files [0.0 MB].\n",
      "[2021-11-25 00:51:39,194] - obspy.clients.fdsn.mass_downloader - INFO: Downloaded 0.0 MB in total.\n",
      "[2021-11-25 00:51:39,196] - obspy.clients.fdsn.mass_downloader - INFO: Initializing FDSN client(s) for GEONET.\n",
      "[2021-11-25 00:51:39,199] - obspy.clients.fdsn.mass_downloader - INFO: Successfully initialized 1 client(s): GEONET.\n",
      "[2021-11-25 00:51:39,199] - obspy.clients.fdsn.mass_downloader - INFO: Total acquired or preexisting stations: 0\n",
      "[2021-11-25 00:51:39,200] - obspy.clients.fdsn.mass_downloader - INFO: Client 'GEONET' - Requesting unreliable availability.\n"
     ]
    },
    {
     "name": "stdout",
     "output_type": "stream",
     "text": [
      "=================================================================\n",
      "Initiating mass download request.\n"
     ]
    },
    {
     "name": "stderr",
     "output_type": "stream",
     "text": [
      "[2021-11-25 00:51:39,753] - obspy.clients.fdsn.mass_downloader - INFO: Client 'GEONET' - Successfully requested availability (0.55 seconds)\n",
      "[2021-11-25 00:51:39,754] - obspy.clients.fdsn.mass_downloader - INFO: Client 'GEONET' - Found 1 stations (1 channels).\n",
      "[2021-11-25 00:51:39,754] - obspy.clients.fdsn.mass_downloader - INFO: Client 'GEONET' - Will attempt to download data from 1 stations.\n",
      "[2021-11-25 00:51:39,755] - obspy.clients.fdsn.mass_downloader - INFO: Client 'GEONET' - Status for 1 time intervals/channels before downloading: NEEDS_DOWNLOADING\n",
      "[2021-11-25 00:51:40,517] - obspy.clients.fdsn.mass_downloader - INFO: Client 'GEONET' - Successfully downloaded 1 channels (of 1)\n",
      "[2021-11-25 00:51:40,532] - obspy.clients.fdsn.mass_downloader - INFO: Client 'GEONET' - Launching basic QC checks...\n",
      "[2021-11-25 00:51:40,547] - obspy.clients.fdsn.mass_downloader - INFO: Client 'GEONET' - Downloaded 0.0 MB [4.51 KB/sec] of data, 0.0 MB of which were discarded afterwards.\n",
      "[2021-11-25 00:51:40,549] - obspy.clients.fdsn.mass_downloader - INFO: Client 'GEONET' - Status for 1 time intervals/channels after downloading: DOWNLOADED\n",
      "[2021-11-25 00:51:40,551] - obspy.clients.fdsn.mass_downloader - INFO: Client 'GEONET' - No station information to download.\n",
      "[2021-11-25 00:51:40,552] - obspy.clients.fdsn.mass_downloader - INFO: ============================== Final report\n",
      "[2021-11-25 00:51:40,553] - obspy.clients.fdsn.mass_downloader - INFO: 0 MiniSEED files [0.0 MB] already existed.\n",
      "[2021-11-25 00:51:40,554] - obspy.clients.fdsn.mass_downloader - INFO: 1 StationXML files [0.0 MB] already existed.\n",
      "[2021-11-25 00:51:40,554] - obspy.clients.fdsn.mass_downloader - INFO: Client 'GEONET' - Acquired 1 MiniSEED files [0.0 MB].\n",
      "[2021-11-25 00:51:40,555] - obspy.clients.fdsn.mass_downloader - INFO: Client 'GEONET' - Acquired 0 StationXML files [0.0 MB].\n",
      "[2021-11-25 00:51:40,556] - obspy.clients.fdsn.mass_downloader - INFO: Downloaded 0.0 MB in total.\n",
      "[2021-11-25 00:51:40,564] - obspy.clients.fdsn.mass_downloader - INFO: Initializing FDSN client(s) for GEONET.\n",
      "[2021-11-25 00:51:40,569] - obspy.clients.fdsn.mass_downloader - INFO: Successfully initialized 1 client(s): GEONET.\n",
      "[2021-11-25 00:51:40,570] - obspy.clients.fdsn.mass_downloader - INFO: Total acquired or preexisting stations: 0\n",
      "[2021-11-25 00:51:40,570] - obspy.clients.fdsn.mass_downloader - INFO: Client 'GEONET' - Requesting unreliable availability.\n"
     ]
    },
    {
     "name": "stdout",
     "output_type": "stream",
     "text": [
      "=================================================================\n",
      "Initiating mass download request.\n"
     ]
    },
    {
     "name": "stderr",
     "output_type": "stream",
     "text": [
      "[2021-11-25 00:51:41,134] - obspy.clients.fdsn.mass_downloader - INFO: Client 'GEONET' - Successfully requested availability (0.56 seconds)\n",
      "[2021-11-25 00:51:41,135] - obspy.clients.fdsn.mass_downloader - INFO: Client 'GEONET' - Found 1 stations (1 channels).\n",
      "[2021-11-25 00:51:41,135] - obspy.clients.fdsn.mass_downloader - INFO: Client 'GEONET' - Will attempt to download data from 1 stations.\n",
      "[2021-11-25 00:51:41,137] - obspy.clients.fdsn.mass_downloader - INFO: Client 'GEONET' - Status for 1 time intervals/channels before downloading: NEEDS_DOWNLOADING\n",
      "[2021-11-25 00:51:41,947] - obspy.clients.fdsn.mass_downloader - INFO: Client 'GEONET' - Successfully downloaded 1 channels (of 1)\n",
      "[2021-11-25 00:51:41,954] - obspy.clients.fdsn.mass_downloader - INFO: Client 'GEONET' - Launching basic QC checks...\n",
      "[2021-11-25 00:51:41,965] - obspy.clients.fdsn.mass_downloader - INFO: Client 'GEONET' - Downloaded 0.0 MB [3.68 KB/sec] of data, 0.0 MB of which were discarded afterwards.\n",
      "[2021-11-25 00:51:41,965] - obspy.clients.fdsn.mass_downloader - INFO: Client 'GEONET' - Status for 1 time intervals/channels after downloading: DOWNLOADED\n",
      "[2021-11-25 00:51:41,968] - obspy.clients.fdsn.mass_downloader - INFO: Client 'GEONET' - No station information to download.\n",
      "[2021-11-25 00:51:41,968] - obspy.clients.fdsn.mass_downloader - INFO: ============================== Final report\n",
      "[2021-11-25 00:51:41,969] - obspy.clients.fdsn.mass_downloader - INFO: 0 MiniSEED files [0.0 MB] already existed.\n",
      "[2021-11-25 00:51:41,969] - obspy.clients.fdsn.mass_downloader - INFO: 1 StationXML files [0.0 MB] already existed.\n",
      "[2021-11-25 00:51:41,970] - obspy.clients.fdsn.mass_downloader - INFO: Client 'GEONET' - Acquired 1 MiniSEED files [0.0 MB].\n",
      "[2021-11-25 00:51:41,970] - obspy.clients.fdsn.mass_downloader - INFO: Client 'GEONET' - Acquired 0 StationXML files [0.0 MB].\n",
      "[2021-11-25 00:51:41,970] - obspy.clients.fdsn.mass_downloader - INFO: Downloaded 0.0 MB in total.\n",
      "[2021-11-25 00:51:41,977] - obspy.clients.fdsn.mass_downloader - INFO: Initializing FDSN client(s) for GEONET.\n",
      "[2021-11-25 00:51:41,980] - obspy.clients.fdsn.mass_downloader - INFO: Successfully initialized 1 client(s): GEONET.\n",
      "[2021-11-25 00:51:41,981] - obspy.clients.fdsn.mass_downloader - INFO: Total acquired or preexisting stations: 0\n",
      "[2021-11-25 00:51:41,982] - obspy.clients.fdsn.mass_downloader - INFO: Client 'GEONET' - Requesting unreliable availability.\n"
     ]
    },
    {
     "name": "stdout",
     "output_type": "stream",
     "text": [
      "=================================================================\n",
      "Initiating mass download request.\n"
     ]
    },
    {
     "name": "stderr",
     "output_type": "stream",
     "text": [
      "[2021-11-25 00:51:42,545] - obspy.clients.fdsn.mass_downloader - INFO: Client 'GEONET' - Successfully requested availability (0.56 seconds)\n",
      "[2021-11-25 00:51:42,546] - obspy.clients.fdsn.mass_downloader - INFO: Client 'GEONET' - Found 1 stations (1 channels).\n",
      "[2021-11-25 00:51:42,546] - obspy.clients.fdsn.mass_downloader - INFO: Client 'GEONET' - Will attempt to download data from 1 stations.\n",
      "[2021-11-25 00:51:42,547] - obspy.clients.fdsn.mass_downloader - INFO: Client 'GEONET' - Status for 1 time intervals/channels before downloading: NEEDS_DOWNLOADING\n",
      "[2021-11-25 00:51:43,471] - obspy.clients.fdsn.mass_downloader - INFO: Client 'GEONET' - Successfully downloaded 1 channels (of 1)\n",
      "[2021-11-25 00:51:43,485] - obspy.clients.fdsn.mass_downloader - INFO: Client 'GEONET' - Launching basic QC checks...\n",
      "[2021-11-25 00:51:43,509] - obspy.clients.fdsn.mass_downloader - INFO: Client 'GEONET' - Downloaded 0.0 MB [4.27 KB/sec] of data, 0.0 MB of which were discarded afterwards.\n",
      "[2021-11-25 00:51:43,514] - obspy.clients.fdsn.mass_downloader - INFO: Client 'GEONET' - Status for 1 time intervals/channels after downloading: DOWNLOADED\n",
      "[2021-11-25 00:51:43,521] - obspy.clients.fdsn.mass_downloader - INFO: Client 'GEONET' - No station information to download.\n",
      "[2021-11-25 00:51:43,523] - obspy.clients.fdsn.mass_downloader - INFO: ============================== Final report\n",
      "[2021-11-25 00:51:43,524] - obspy.clients.fdsn.mass_downloader - INFO: 0 MiniSEED files [0.0 MB] already existed.\n",
      "[2021-11-25 00:51:43,525] - obspy.clients.fdsn.mass_downloader - INFO: 1 StationXML files [0.0 MB] already existed.\n",
      "[2021-11-25 00:51:43,526] - obspy.clients.fdsn.mass_downloader - INFO: Client 'GEONET' - Acquired 1 MiniSEED files [0.0 MB].\n",
      "[2021-11-25 00:51:43,526] - obspy.clients.fdsn.mass_downloader - INFO: Client 'GEONET' - Acquired 0 StationXML files [0.0 MB].\n",
      "[2021-11-25 00:51:43,527] - obspy.clients.fdsn.mass_downloader - INFO: Downloaded 0.0 MB in total.\n",
      "[2021-11-25 00:51:43,533] - obspy.clients.fdsn.mass_downloader - INFO: Initializing FDSN client(s) for GEONET.\n",
      "[2021-11-25 00:51:43,544] - obspy.clients.fdsn.mass_downloader - INFO: Successfully initialized 1 client(s): GEONET.\n",
      "[2021-11-25 00:51:43,545] - obspy.clients.fdsn.mass_downloader - INFO: Total acquired or preexisting stations: 0\n",
      "[2021-11-25 00:51:43,546] - obspy.clients.fdsn.mass_downloader - INFO: Client 'GEONET' - Requesting unreliable availability.\n"
     ]
    },
    {
     "name": "stdout",
     "output_type": "stream",
     "text": [
      "=================================================================\n",
      "Initiating mass download request.\n"
     ]
    },
    {
     "name": "stderr",
     "output_type": "stream",
     "text": [
      "[2021-11-25 00:51:44,132] - obspy.clients.fdsn.mass_downloader - INFO: Client 'GEONET' - Successfully requested availability (0.59 seconds)\n",
      "[2021-11-25 00:51:44,142] - obspy.clients.fdsn.mass_downloader - INFO: Client 'GEONET' - Found 1 stations (1 channels).\n",
      "[2021-11-25 00:51:44,147] - obspy.clients.fdsn.mass_downloader - INFO: Client 'GEONET' - Will attempt to download data from 1 stations.\n",
      "[2021-11-25 00:51:44,149] - obspy.clients.fdsn.mass_downloader - INFO: Client 'GEONET' - Status for 1 time intervals/channels before downloading: NEEDS_DOWNLOADING\n",
      "[2021-11-25 00:51:44,994] - obspy.clients.fdsn.mass_downloader - INFO: Client 'GEONET' - Successfully downloaded 1 channels (of 1)\n",
      "[2021-11-25 00:51:45,092] - obspy.clients.fdsn.mass_downloader - INFO: Client 'GEONET' - Launching basic QC checks...\n",
      "[2021-11-25 00:51:45,111] - obspy.clients.fdsn.mass_downloader - INFO: Client 'GEONET' - Downloaded 0.0 MB [3.19 KB/sec] of data, 0.0 MB of which were discarded afterwards.\n",
      "[2021-11-25 00:51:45,112] - obspy.clients.fdsn.mass_downloader - INFO: Client 'GEONET' - Status for 1 time intervals/channels after downloading: DOWNLOADED\n",
      "[2021-11-25 00:51:45,779] - obspy.clients.fdsn.mass_downloader - INFO: Client 'GEONET' - Successfully downloaded 'normal/stations/NZ.BKZ.xml'.\n",
      "[2021-11-25 00:51:45,848] - obspy.clients.fdsn.mass_downloader - INFO: Client 'GEONET' - Downloaded 1 station files [0.0 MB] in 0.7 seconds [11.88 KB/sec].\n",
      "[2021-11-25 00:51:45,875] - obspy.clients.fdsn.mass_downloader - INFO: ============================== Final report\n",
      "[2021-11-25 00:51:45,881] - obspy.clients.fdsn.mass_downloader - INFO: 0 MiniSEED files [0.0 MB] already existed.\n",
      "[2021-11-25 00:51:45,889] - obspy.clients.fdsn.mass_downloader - INFO: 0 StationXML files [0.0 MB] already existed.\n",
      "[2021-11-25 00:51:45,893] - obspy.clients.fdsn.mass_downloader - INFO: Client 'GEONET' - Acquired 1 MiniSEED files [0.0 MB].\n",
      "[2021-11-25 00:51:45,907] - obspy.clients.fdsn.mass_downloader - INFO: Client 'GEONET' - Acquired 1 StationXML files [0.0 MB].\n",
      "[2021-11-25 00:51:45,907] - obspy.clients.fdsn.mass_downloader - INFO: Downloaded 0.0 MB in total.\n",
      "[2021-11-25 00:51:45,937] - obspy.clients.fdsn.mass_downloader - INFO: Initializing FDSN client(s) for GEONET.\n",
      "[2021-11-25 00:51:45,975] - obspy.clients.fdsn.mass_downloader - INFO: Successfully initialized 1 client(s): GEONET.\n",
      "[2021-11-25 00:51:45,977] - obspy.clients.fdsn.mass_downloader - INFO: Total acquired or preexisting stations: 0\n",
      "[2021-11-25 00:51:45,984] - obspy.clients.fdsn.mass_downloader - INFO: Client 'GEONET' - Requesting unreliable availability.\n"
     ]
    },
    {
     "name": "stdout",
     "output_type": "stream",
     "text": [
      "=================================================================\n",
      "Initiating mass download request.\n"
     ]
    },
    {
     "name": "stderr",
     "output_type": "stream",
     "text": [
      "[2021-11-25 00:51:46,610] - obspy.clients.fdsn.mass_downloader - INFO: Client 'GEONET' - Successfully requested availability (0.61 seconds)\n",
      "[2021-11-25 00:51:46,673] - obspy.clients.fdsn.mass_downloader - INFO: Client 'GEONET' - Found 1 stations (1 channels).\n",
      "[2021-11-25 00:51:46,681] - obspy.clients.fdsn.mass_downloader - INFO: Client 'GEONET' - Will attempt to download data from 1 stations.\n",
      "[2021-11-25 00:51:46,704] - obspy.clients.fdsn.mass_downloader - INFO: Client 'GEONET' - Status for 1 time intervals/channels before downloading: NEEDS_DOWNLOADING\n",
      "[2021-11-25 00:51:47,557] - obspy.clients.fdsn.mass_downloader - INFO: Client 'GEONET' - Successfully downloaded 1 channels (of 1)\n",
      "[2021-11-25 00:51:47,597] - obspy.clients.fdsn.mass_downloader - INFO: Client 'GEONET' - Launching basic QC checks...\n",
      "[2021-11-25 00:51:47,671] - obspy.clients.fdsn.mass_downloader - INFO: Client 'GEONET' - Downloaded 0.0 MB [3.59 KB/sec] of data, 0.0 MB of which were discarded afterwards.\n",
      "[2021-11-25 00:51:47,681] - obspy.clients.fdsn.mass_downloader - INFO: Client 'GEONET' - Status for 1 time intervals/channels after downloading: DOWNLOADED\n",
      "[2021-11-25 00:51:47,702] - obspy.clients.fdsn.mass_downloader - INFO: Client 'GEONET' - No station information to download.\n",
      "[2021-11-25 00:51:47,710] - obspy.clients.fdsn.mass_downloader - INFO: ============================== Final report\n",
      "[2021-11-25 00:51:47,713] - obspy.clients.fdsn.mass_downloader - INFO: 0 MiniSEED files [0.0 MB] already existed.\n",
      "[2021-11-25 00:51:47,720] - obspy.clients.fdsn.mass_downloader - INFO: 1 StationXML files [0.0 MB] already existed.\n",
      "[2021-11-25 00:51:47,721] - obspy.clients.fdsn.mass_downloader - INFO: Client 'GEONET' - Acquired 1 MiniSEED files [0.0 MB].\n",
      "[2021-11-25 00:51:47,721] - obspy.clients.fdsn.mass_downloader - INFO: Client 'GEONET' - Acquired 0 StationXML files [0.0 MB].\n",
      "[2021-11-25 00:51:47,722] - obspy.clients.fdsn.mass_downloader - INFO: Downloaded 0.0 MB in total.\n",
      "[2021-11-25 00:51:47,745] - obspy.clients.fdsn.mass_downloader - INFO: Initializing FDSN client(s) for GEONET.\n",
      "[2021-11-25 00:51:47,758] - obspy.clients.fdsn.mass_downloader - INFO: Successfully initialized 1 client(s): GEONET.\n",
      "[2021-11-25 00:51:47,763] - obspy.clients.fdsn.mass_downloader - INFO: Total acquired or preexisting stations: 0\n",
      "[2021-11-25 00:51:47,766] - obspy.clients.fdsn.mass_downloader - INFO: Client 'GEONET' - Requesting unreliable availability.\n"
     ]
    },
    {
     "name": "stdout",
     "output_type": "stream",
     "text": [
      "=================================================================\n",
      "Initiating mass download request.\n"
     ]
    },
    {
     "name": "stderr",
     "output_type": "stream",
     "text": [
      "[2021-11-25 00:51:48,414] - obspy.clients.fdsn.mass_downloader - INFO: Client 'GEONET' - Successfully requested availability (0.65 seconds)\n",
      "[2021-11-25 00:51:48,436] - obspy.clients.fdsn.mass_downloader - INFO: Client 'GEONET' - Found 1 stations (1 channels).\n",
      "[2021-11-25 00:51:48,449] - obspy.clients.fdsn.mass_downloader - INFO: Client 'GEONET' - Will attempt to download data from 1 stations.\n",
      "[2021-11-25 00:51:48,459] - obspy.clients.fdsn.mass_downloader - INFO: Client 'GEONET' - Status for 1 time intervals/channels before downloading: NEEDS_DOWNLOADING\n",
      "[2021-11-25 00:51:49,280] - obspy.clients.fdsn.mass_downloader - INFO: Client 'GEONET' - Successfully downloaded 1 channels (of 1)\n",
      "[2021-11-25 00:51:49,346] - obspy.clients.fdsn.mass_downloader - INFO: Client 'GEONET' - Launching basic QC checks...\n",
      "[2021-11-25 00:51:49,418] - obspy.clients.fdsn.mass_downloader - INFO: Client 'GEONET' - Downloaded 0.0 MB [4.01 KB/sec] of data, 0.0 MB of which were discarded afterwards.\n",
      "[2021-11-25 00:51:49,438] - obspy.clients.fdsn.mass_downloader - INFO: Client 'GEONET' - Status for 1 time intervals/channels after downloading: DOWNLOADED\n",
      "[2021-11-25 00:51:49,459] - obspy.clients.fdsn.mass_downloader - INFO: Client 'GEONET' - No station information to download.\n",
      "[2021-11-25 00:51:49,465] - obspy.clients.fdsn.mass_downloader - INFO: ============================== Final report\n",
      "[2021-11-25 00:51:49,468] - obspy.clients.fdsn.mass_downloader - INFO: 0 MiniSEED files [0.0 MB] already existed.\n",
      "[2021-11-25 00:51:49,472] - obspy.clients.fdsn.mass_downloader - INFO: 1 StationXML files [0.0 MB] already existed.\n",
      "[2021-11-25 00:51:49,474] - obspy.clients.fdsn.mass_downloader - INFO: Client 'GEONET' - Acquired 1 MiniSEED files [0.0 MB].\n",
      "[2021-11-25 00:51:49,474] - obspy.clients.fdsn.mass_downloader - INFO: Client 'GEONET' - Acquired 0 StationXML files [0.0 MB].\n",
      "[2021-11-25 00:51:49,475] - obspy.clients.fdsn.mass_downloader - INFO: Downloaded 0.0 MB in total.\n",
      "[2021-11-25 00:51:49,493] - obspy.clients.fdsn.mass_downloader - INFO: Initializing FDSN client(s) for GEONET.\n",
      "[2021-11-25 00:51:49,526] - obspy.clients.fdsn.mass_downloader - INFO: Successfully initialized 1 client(s): GEONET.\n",
      "[2021-11-25 00:51:49,535] - obspy.clients.fdsn.mass_downloader - INFO: Total acquired or preexisting stations: 0\n",
      "[2021-11-25 00:51:49,539] - obspy.clients.fdsn.mass_downloader - INFO: Client 'GEONET' - Requesting unreliable availability.\n"
     ]
    },
    {
     "name": "stdout",
     "output_type": "stream",
     "text": [
      "=================================================================\n",
      "Initiating mass download request.\n"
     ]
    },
    {
     "name": "stderr",
     "output_type": "stream",
     "text": [
      "[2021-11-25 00:51:50,118] - obspy.clients.fdsn.mass_downloader - INFO: Client 'GEONET' - Successfully requested availability (0.58 seconds)\n",
      "[2021-11-25 00:51:50,144] - obspy.clients.fdsn.mass_downloader - INFO: Client 'GEONET' - Found 1 stations (1 channels).\n",
      "[2021-11-25 00:51:50,151] - obspy.clients.fdsn.mass_downloader - INFO: Client 'GEONET' - Will attempt to download data from 1 stations.\n",
      "[2021-11-25 00:51:50,176] - obspy.clients.fdsn.mass_downloader - INFO: Client 'GEONET' - Status for 1 time intervals/channels before downloading: NEEDS_DOWNLOADING\n",
      "[2021-11-25 00:51:51,034] - obspy.clients.fdsn.mass_downloader - INFO: Client 'GEONET' - Successfully downloaded 1 channels (of 1)\n",
      "[2021-11-25 00:51:51,114] - obspy.clients.fdsn.mass_downloader - INFO: Client 'GEONET' - Launching basic QC checks...\n",
      "[2021-11-25 00:51:51,169] - obspy.clients.fdsn.mass_downloader - INFO: Client 'GEONET' - Downloaded 0.0 MB [5.11 KB/sec] of data, 0.0 MB of which were discarded afterwards.\n",
      "[2021-11-25 00:51:51,176] - obspy.clients.fdsn.mass_downloader - INFO: Client 'GEONET' - Status for 1 time intervals/channels after downloading: DOWNLOADED\n",
      "[2021-11-25 00:51:51,205] - obspy.clients.fdsn.mass_downloader - INFO: Client 'GEONET' - No station information to download.\n",
      "[2021-11-25 00:51:51,216] - obspy.clients.fdsn.mass_downloader - INFO: ============================== Final report\n",
      "[2021-11-25 00:51:51,223] - obspy.clients.fdsn.mass_downloader - INFO: 0 MiniSEED files [0.0 MB] already existed.\n",
      "[2021-11-25 00:51:51,228] - obspy.clients.fdsn.mass_downloader - INFO: 1 StationXML files [0.0 MB] already existed.\n",
      "[2021-11-25 00:51:51,235] - obspy.clients.fdsn.mass_downloader - INFO: Client 'GEONET' - Acquired 1 MiniSEED files [0.0 MB].\n",
      "[2021-11-25 00:51:51,239] - obspy.clients.fdsn.mass_downloader - INFO: Client 'GEONET' - Acquired 0 StationXML files [0.0 MB].\n",
      "[2021-11-25 00:51:51,241] - obspy.clients.fdsn.mass_downloader - INFO: Downloaded 0.0 MB in total.\n",
      "[2021-11-25 00:51:51,284] - obspy.clients.fdsn.mass_downloader - INFO: Initializing FDSN client(s) for GEONET.\n",
      "[2021-11-25 00:51:51,330] - obspy.clients.fdsn.mass_downloader - INFO: Successfully initialized 1 client(s): GEONET.\n",
      "[2021-11-25 00:51:51,339] - obspy.clients.fdsn.mass_downloader - INFO: Total acquired or preexisting stations: 0\n",
      "[2021-11-25 00:51:51,344] - obspy.clients.fdsn.mass_downloader - INFO: Client 'GEONET' - Requesting unreliable availability.\n"
     ]
    },
    {
     "name": "stdout",
     "output_type": "stream",
     "text": [
      "=================================================================\n",
      "Initiating mass download request.\n"
     ]
    },
    {
     "name": "stderr",
     "output_type": "stream",
     "text": [
      "[2021-11-25 00:51:51,958] - obspy.clients.fdsn.mass_downloader - INFO: Client 'GEONET' - Successfully requested availability (0.61 seconds)\n",
      "[2021-11-25 00:51:51,978] - obspy.clients.fdsn.mass_downloader - INFO: Client 'GEONET' - Found 1 stations (1 channels).\n",
      "[2021-11-25 00:51:51,983] - obspy.clients.fdsn.mass_downloader - INFO: Client 'GEONET' - Will attempt to download data from 1 stations.\n",
      "[2021-11-25 00:51:51,992] - obspy.clients.fdsn.mass_downloader - INFO: Client 'GEONET' - Status for 1 time intervals/channels before downloading: NEEDS_DOWNLOADING\n",
      "[2021-11-25 00:51:52,753] - obspy.clients.fdsn.mass_downloader - INFO: Client 'GEONET' - Successfully downloaded 1 channels (of 1)\n",
      "[2021-11-25 00:51:52,767] - obspy.clients.fdsn.mass_downloader - INFO: Client 'GEONET' - Launching basic QC checks...\n",
      "[2021-11-25 00:51:52,781] - obspy.clients.fdsn.mass_downloader - INFO: Client 'GEONET' - Downloaded 0.0 MB [4.67 KB/sec] of data, 0.0 MB of which were discarded afterwards.\n",
      "[2021-11-25 00:51:52,782] - obspy.clients.fdsn.mass_downloader - INFO: Client 'GEONET' - Status for 1 time intervals/channels after downloading: DOWNLOADED\n",
      "[2021-11-25 00:51:52,795] - obspy.clients.fdsn.mass_downloader - INFO: Client 'GEONET' - No station information to download.\n",
      "[2021-11-25 00:51:52,797] - obspy.clients.fdsn.mass_downloader - INFO: ============================== Final report\n",
      "[2021-11-25 00:51:52,798] - obspy.clients.fdsn.mass_downloader - INFO: 0 MiniSEED files [0.0 MB] already existed.\n",
      "[2021-11-25 00:51:52,802] - obspy.clients.fdsn.mass_downloader - INFO: 1 StationXML files [0.0 MB] already existed.\n",
      "[2021-11-25 00:51:52,803] - obspy.clients.fdsn.mass_downloader - INFO: Client 'GEONET' - Acquired 1 MiniSEED files [0.0 MB].\n",
      "[2021-11-25 00:51:52,804] - obspy.clients.fdsn.mass_downloader - INFO: Client 'GEONET' - Acquired 0 StationXML files [0.0 MB].\n",
      "[2021-11-25 00:51:52,805] - obspy.clients.fdsn.mass_downloader - INFO: Downloaded 0.0 MB in total.\n",
      "[2021-11-25 00:51:52,817] - obspy.clients.fdsn.mass_downloader - INFO: Initializing FDSN client(s) for GEONET.\n",
      "[2021-11-25 00:51:52,831] - obspy.clients.fdsn.mass_downloader - INFO: Successfully initialized 1 client(s): GEONET.\n",
      "[2021-11-25 00:51:52,836] - obspy.clients.fdsn.mass_downloader - INFO: Total acquired or preexisting stations: 0\n",
      "[2021-11-25 00:51:52,839] - obspy.clients.fdsn.mass_downloader - INFO: Client 'GEONET' - Requesting unreliable availability.\n"
     ]
    },
    {
     "name": "stdout",
     "output_type": "stream",
     "text": [
      "=================================================================\n",
      "Initiating mass download request.\n"
     ]
    },
    {
     "name": "stderr",
     "output_type": "stream",
     "text": [
      "[2021-11-25 00:51:53,428] - obspy.clients.fdsn.mass_downloader - INFO: Client 'GEONET' - Successfully requested availability (0.59 seconds)\n",
      "[2021-11-25 00:51:53,449] - obspy.clients.fdsn.mass_downloader - INFO: Client 'GEONET' - Found 1 stations (1 channels).\n",
      "[2021-11-25 00:51:53,454] - obspy.clients.fdsn.mass_downloader - INFO: Client 'GEONET' - Will attempt to download data from 1 stations.\n",
      "[2021-11-25 00:51:53,460] - obspy.clients.fdsn.mass_downloader - INFO: Client 'GEONET' - Status for 1 time intervals/channels before downloading: NEEDS_DOWNLOADING\n",
      "[2021-11-25 00:51:54,260] - obspy.clients.fdsn.mass_downloader - INFO: Client 'GEONET' - Successfully downloaded 1 channels (of 1)\n",
      "[2021-11-25 00:51:54,291] - obspy.clients.fdsn.mass_downloader - INFO: Client 'GEONET' - Launching basic QC checks...\n",
      "[2021-11-25 00:51:54,358] - obspy.clients.fdsn.mass_downloader - INFO: Client 'GEONET' - Downloaded 0.0 MB [4.26 KB/sec] of data, 0.0 MB of which were discarded afterwards.\n",
      "[2021-11-25 00:51:54,369] - obspy.clients.fdsn.mass_downloader - INFO: Client 'GEONET' - Status for 1 time intervals/channels after downloading: DOWNLOADED\n",
      "[2021-11-25 00:51:54,384] - obspy.clients.fdsn.mass_downloader - INFO: Client 'GEONET' - No station information to download.\n",
      "[2021-11-25 00:51:54,395] - obspy.clients.fdsn.mass_downloader - INFO: ============================== Final report\n",
      "[2021-11-25 00:51:54,398] - obspy.clients.fdsn.mass_downloader - INFO: 0 MiniSEED files [0.0 MB] already existed.\n",
      "[2021-11-25 00:51:54,400] - obspy.clients.fdsn.mass_downloader - INFO: 1 StationXML files [0.0 MB] already existed.\n",
      "[2021-11-25 00:51:54,403] - obspy.clients.fdsn.mass_downloader - INFO: Client 'GEONET' - Acquired 1 MiniSEED files [0.0 MB].\n",
      "[2021-11-25 00:51:54,404] - obspy.clients.fdsn.mass_downloader - INFO: Client 'GEONET' - Acquired 0 StationXML files [0.0 MB].\n",
      "[2021-11-25 00:51:54,407] - obspy.clients.fdsn.mass_downloader - INFO: Downloaded 0.0 MB in total.\n",
      "[2021-11-25 00:51:54,430] - obspy.clients.fdsn.mass_downloader - INFO: Initializing FDSN client(s) for GEONET.\n",
      "[2021-11-25 00:51:54,462] - obspy.clients.fdsn.mass_downloader - INFO: Successfully initialized 1 client(s): GEONET.\n",
      "[2021-11-25 00:51:54,468] - obspy.clients.fdsn.mass_downloader - INFO: Total acquired or preexisting stations: 0\n",
      "[2021-11-25 00:51:54,474] - obspy.clients.fdsn.mass_downloader - INFO: Client 'GEONET' - Requesting unreliable availability.\n"
     ]
    },
    {
     "name": "stdout",
     "output_type": "stream",
     "text": [
      "=================================================================\n",
      "Initiating mass download request.\n"
     ]
    },
    {
     "name": "stderr",
     "output_type": "stream",
     "text": [
      "[2021-11-25 00:51:55,151] - obspy.clients.fdsn.mass_downloader - INFO: Client 'GEONET' - Successfully requested availability (0.67 seconds)\n",
      "[2021-11-25 00:51:55,182] - obspy.clients.fdsn.mass_downloader - INFO: Client 'GEONET' - Found 1 stations (1 channels).\n",
      "[2021-11-25 00:51:55,194] - obspy.clients.fdsn.mass_downloader - INFO: Client 'GEONET' - Will attempt to download data from 1 stations.\n",
      "[2021-11-25 00:51:55,202] - obspy.clients.fdsn.mass_downloader - INFO: Client 'GEONET' - Status for 1 time intervals/channels before downloading: NEEDS_DOWNLOADING\n",
      "[2021-11-25 00:51:56,167] - obspy.clients.fdsn.mass_downloader - INFO: Client 'GEONET' - Successfully downloaded 1 channels (of 1)\n",
      "[2021-11-25 00:51:56,217] - obspy.clients.fdsn.mass_downloader - INFO: Client 'GEONET' - Launching basic QC checks...\n",
      "[2021-11-25 00:51:56,263] - obspy.clients.fdsn.mass_downloader - INFO: Client 'GEONET' - Downloaded 0.0 MB [6.61 KB/sec] of data, 0.0 MB of which were discarded afterwards.\n",
      "[2021-11-25 00:51:56,286] - obspy.clients.fdsn.mass_downloader - INFO: Client 'GEONET' - Status for 1 time intervals/channels after downloading: DOWNLOADED\n",
      "[2021-11-25 00:51:56,295] - obspy.clients.fdsn.mass_downloader - INFO: Client 'GEONET' - No station information to download.\n",
      "[2021-11-25 00:51:56,302] - obspy.clients.fdsn.mass_downloader - INFO: ============================== Final report\n",
      "[2021-11-25 00:51:56,304] - obspy.clients.fdsn.mass_downloader - INFO: 0 MiniSEED files [0.0 MB] already existed.\n",
      "[2021-11-25 00:51:56,313] - obspy.clients.fdsn.mass_downloader - INFO: 1 StationXML files [0.0 MB] already existed.\n",
      "[2021-11-25 00:51:56,313] - obspy.clients.fdsn.mass_downloader - INFO: Client 'GEONET' - Acquired 1 MiniSEED files [0.0 MB].\n",
      "[2021-11-25 00:51:56,319] - obspy.clients.fdsn.mass_downloader - INFO: Client 'GEONET' - Acquired 0 StationXML files [0.0 MB].\n",
      "[2021-11-25 00:51:56,321] - obspy.clients.fdsn.mass_downloader - INFO: Downloaded 0.0 MB in total.\n",
      "[2021-11-25 00:51:56,407] - obspy.clients.fdsn.mass_downloader - INFO: Initializing FDSN client(s) for GEONET.\n",
      "[2021-11-25 00:51:56,496] - obspy.clients.fdsn.mass_downloader - INFO: Successfully initialized 1 client(s): GEONET.\n",
      "[2021-11-25 00:51:56,507] - obspy.clients.fdsn.mass_downloader - INFO: Total acquired or preexisting stations: 0\n",
      "[2021-11-25 00:51:56,512] - obspy.clients.fdsn.mass_downloader - INFO: Client 'GEONET' - Requesting unreliable availability.\n"
     ]
    },
    {
     "name": "stdout",
     "output_type": "stream",
     "text": [
      "=================================================================\n",
      "Initiating mass download request.\n"
     ]
    },
    {
     "name": "stderr",
     "output_type": "stream",
     "text": [
      "[2021-11-25 00:51:57,129] - obspy.clients.fdsn.mass_downloader - INFO: Client 'GEONET' - No data available for request.\n",
      "[2021-11-25 00:51:57,163] - obspy.clients.fdsn.mass_downloader - INFO: Client 'GEONET' - No data available.\n",
      "[2021-11-25 00:51:57,185] - obspy.clients.fdsn.mass_downloader - INFO: ============================== Final report\n",
      "[2021-11-25 00:51:57,186] - obspy.clients.fdsn.mass_downloader - INFO: 0 MiniSEED files [0.0 MB] already existed.\n",
      "[2021-11-25 00:51:57,197] - obspy.clients.fdsn.mass_downloader - INFO: 0 StationXML files [0.0 MB] already existed.\n",
      "[2021-11-25 00:51:57,213] - obspy.clients.fdsn.mass_downloader - INFO: Client 'GEONET' - Acquired 0 MiniSEED files [0.0 MB].\n",
      "[2021-11-25 00:51:57,232] - obspy.clients.fdsn.mass_downloader - INFO: Client 'GEONET' - Acquired 0 StationXML files [0.0 MB].\n",
      "[2021-11-25 00:51:57,240] - obspy.clients.fdsn.mass_downloader - INFO: Downloaded 0.0 MB in total.\n",
      "[2021-11-25 00:51:57,269] - obspy.clients.fdsn.mass_downloader - INFO: Initializing FDSN client(s) for GEONET.\n",
      "[2021-11-25 00:51:57,393] - obspy.clients.fdsn.mass_downloader - INFO: Successfully initialized 1 client(s): GEONET.\n",
      "[2021-11-25 00:51:57,411] - obspy.clients.fdsn.mass_downloader - INFO: Total acquired or preexisting stations: 0\n",
      "[2021-11-25 00:51:57,419] - obspy.clients.fdsn.mass_downloader - INFO: Client 'GEONET' - Requesting unreliable availability.\n"
     ]
    },
    {
     "name": "stdout",
     "output_type": "stream",
     "text": [
      "=================================================================\n",
      "Initiating mass download request.\n"
     ]
    },
    {
     "name": "stderr",
     "output_type": "stream",
     "text": [
      "[2021-11-25 00:51:58,109] - obspy.clients.fdsn.mass_downloader - INFO: Client 'GEONET' - Successfully requested availability (0.69 seconds)\n",
      "[2021-11-25 00:51:58,228] - obspy.clients.fdsn.mass_downloader - INFO: Client 'GEONET' - Found 1 stations (1 channels).\n",
      "[2021-11-25 00:51:58,240] - obspy.clients.fdsn.mass_downloader - INFO: Client 'GEONET' - Will attempt to download data from 1 stations.\n",
      "[2021-11-25 00:51:58,250] - obspy.clients.fdsn.mass_downloader - INFO: Client 'GEONET' - Status for 1 time intervals/channels before downloading: NEEDS_DOWNLOADING\n",
      "[2021-11-25 00:51:59,066] - obspy.clients.fdsn.mass_downloader - INFO: Client 'GEONET' - Successfully downloaded 1 channels (of 1)\n",
      "[2021-11-25 00:51:59,096] - obspy.clients.fdsn.mass_downloader - INFO: Client 'GEONET' - Launching basic QC checks...\n",
      "[2021-11-25 00:51:59,125] - obspy.clients.fdsn.mass_downloader - INFO: Client 'GEONET' - Downloaded 0.0 MB [5.09 KB/sec] of data, 0.0 MB of which were discarded afterwards.\n",
      "[2021-11-25 00:51:59,129] - obspy.clients.fdsn.mass_downloader - INFO: Client 'GEONET' - Status for 1 time intervals/channels after downloading: DOWNLOADED\n",
      "[2021-11-25 00:51:59,138] - obspy.clients.fdsn.mass_downloader - INFO: Client 'GEONET' - No station information to download.\n",
      "[2021-11-25 00:51:59,143] - obspy.clients.fdsn.mass_downloader - INFO: ============================== Final report\n",
      "[2021-11-25 00:51:59,147] - obspy.clients.fdsn.mass_downloader - INFO: 0 MiniSEED files [0.0 MB] already existed.\n",
      "[2021-11-25 00:51:59,150] - obspy.clients.fdsn.mass_downloader - INFO: 1 StationXML files [0.0 MB] already existed.\n",
      "[2021-11-25 00:51:59,153] - obspy.clients.fdsn.mass_downloader - INFO: Client 'GEONET' - Acquired 1 MiniSEED files [0.0 MB].\n",
      "[2021-11-25 00:51:59,156] - obspy.clients.fdsn.mass_downloader - INFO: Client 'GEONET' - Acquired 0 StationXML files [0.0 MB].\n",
      "[2021-11-25 00:51:59,158] - obspy.clients.fdsn.mass_downloader - INFO: Downloaded 0.0 MB in total.\n",
      "[2021-11-25 00:51:59,167] - obspy.clients.fdsn.mass_downloader - INFO: Initializing FDSN client(s) for GEONET.\n",
      "[2021-11-25 00:51:59,211] - obspy.clients.fdsn.mass_downloader - INFO: Successfully initialized 1 client(s): GEONET.\n",
      "[2021-11-25 00:51:59,223] - obspy.clients.fdsn.mass_downloader - INFO: Total acquired or preexisting stations: 0\n",
      "[2021-11-25 00:51:59,228] - obspy.clients.fdsn.mass_downloader - INFO: Client 'GEONET' - Requesting unreliable availability.\n"
     ]
    },
    {
     "name": "stdout",
     "output_type": "stream",
     "text": [
      "=================================================================\n",
      "Initiating mass download request.\n"
     ]
    },
    {
     "name": "stderr",
     "output_type": "stream",
     "text": [
      "[2021-11-25 00:51:59,868] - obspy.clients.fdsn.mass_downloader - INFO: Client 'GEONET' - Successfully requested availability (0.64 seconds)\n",
      "[2021-11-25 00:51:59,902] - obspy.clients.fdsn.mass_downloader - INFO: Client 'GEONET' - Found 1 stations (1 channels).\n",
      "[2021-11-25 00:51:59,926] - obspy.clients.fdsn.mass_downloader - INFO: Client 'GEONET' - Will attempt to download data from 1 stations.\n",
      "[2021-11-25 00:51:59,931] - obspy.clients.fdsn.mass_downloader - INFO: Client 'GEONET' - Status for 1 time intervals/channels before downloading: NEEDS_DOWNLOADING\n",
      "[2021-11-25 00:52:00,822] - obspy.clients.fdsn.mass_downloader - INFO: Client 'GEONET' - Successfully downloaded 1 channels (of 1)\n",
      "[2021-11-25 00:52:00,865] - obspy.clients.fdsn.mass_downloader - INFO: Client 'GEONET' - Launching basic QC checks...\n",
      "[2021-11-25 00:52:00,910] - obspy.clients.fdsn.mass_downloader - INFO: Client 'GEONET' - Downloaded 0.0 MB [4.92 KB/sec] of data, 0.0 MB of which were discarded afterwards.\n",
      "[2021-11-25 00:52:00,917] - obspy.clients.fdsn.mass_downloader - INFO: Client 'GEONET' - Status for 1 time intervals/channels after downloading: DOWNLOADED\n",
      "[2021-11-25 00:52:00,924] - obspy.clients.fdsn.mass_downloader - INFO: Client 'GEONET' - No station information to download.\n",
      "[2021-11-25 00:52:00,937] - obspy.clients.fdsn.mass_downloader - INFO: ============================== Final report\n",
      "[2021-11-25 00:52:00,939] - obspy.clients.fdsn.mass_downloader - INFO: 0 MiniSEED files [0.0 MB] already existed.\n",
      "[2021-11-25 00:52:00,941] - obspy.clients.fdsn.mass_downloader - INFO: 1 StationXML files [0.0 MB] already existed.\n",
      "[2021-11-25 00:52:00,942] - obspy.clients.fdsn.mass_downloader - INFO: Client 'GEONET' - Acquired 1 MiniSEED files [0.0 MB].\n",
      "[2021-11-25 00:52:00,942] - obspy.clients.fdsn.mass_downloader - INFO: Client 'GEONET' - Acquired 0 StationXML files [0.0 MB].\n",
      "[2021-11-25 00:52:00,947] - obspy.clients.fdsn.mass_downloader - INFO: Downloaded 0.0 MB in total.\n",
      "[2021-11-25 00:52:00,970] - obspy.clients.fdsn.mass_downloader - INFO: Initializing FDSN client(s) for GEONET.\n",
      "[2021-11-25 00:52:00,995] - obspy.clients.fdsn.mass_downloader - INFO: Successfully initialized 1 client(s): GEONET.\n",
      "[2021-11-25 00:52:00,999] - obspy.clients.fdsn.mass_downloader - INFO: Total acquired or preexisting stations: 0\n",
      "[2021-11-25 00:52:01,002] - obspy.clients.fdsn.mass_downloader - INFO: Client 'GEONET' - Requesting unreliable availability.\n"
     ]
    },
    {
     "name": "stdout",
     "output_type": "stream",
     "text": [
      "=================================================================\n",
      "Initiating mass download request.\n"
     ]
    },
    {
     "name": "stderr",
     "output_type": "stream",
     "text": [
      "[2021-11-25 00:52:01,697] - obspy.clients.fdsn.mass_downloader - INFO: Client 'GEONET' - Successfully requested availability (0.69 seconds)\n",
      "[2021-11-25 00:52:01,710] - obspy.clients.fdsn.mass_downloader - INFO: Client 'GEONET' - Found 1 stations (1 channels).\n",
      "[2021-11-25 00:52:01,732] - obspy.clients.fdsn.mass_downloader - INFO: Client 'GEONET' - Will attempt to download data from 1 stations.\n",
      "[2021-11-25 00:52:01,742] - obspy.clients.fdsn.mass_downloader - INFO: Client 'GEONET' - Status for 1 time intervals/channels before downloading: NEEDS_DOWNLOADING\n",
      "[2021-11-25 00:52:02,601] - obspy.clients.fdsn.mass_downloader - INFO: Client 'GEONET' - Successfully downloaded 1 channels (of 1)\n",
      "[2021-11-25 00:52:02,622] - obspy.clients.fdsn.mass_downloader - INFO: Client 'GEONET' - Launching basic QC checks...\n",
      "[2021-11-25 00:52:02,636] - obspy.clients.fdsn.mass_downloader - INFO: Client 'GEONET' - Downloaded 0.0 MB [4.17 KB/sec] of data, 0.0 MB of which were discarded afterwards.\n",
      "[2021-11-25 00:52:02,642] - obspy.clients.fdsn.mass_downloader - INFO: Client 'GEONET' - Status for 1 time intervals/channels after downloading: DOWNLOADED\n",
      "[2021-11-25 00:52:02,653] - obspy.clients.fdsn.mass_downloader - INFO: Client 'GEONET' - No station information to download.\n",
      "[2021-11-25 00:52:02,659] - obspy.clients.fdsn.mass_downloader - INFO: ============================== Final report\n",
      "[2021-11-25 00:52:02,664] - obspy.clients.fdsn.mass_downloader - INFO: 0 MiniSEED files [0.0 MB] already existed.\n",
      "[2021-11-25 00:52:02,666] - obspy.clients.fdsn.mass_downloader - INFO: 1 StationXML files [0.0 MB] already existed.\n",
      "[2021-11-25 00:52:02,670] - obspy.clients.fdsn.mass_downloader - INFO: Client 'GEONET' - Acquired 1 MiniSEED files [0.0 MB].\n",
      "[2021-11-25 00:52:02,674] - obspy.clients.fdsn.mass_downloader - INFO: Client 'GEONET' - Acquired 0 StationXML files [0.0 MB].\n",
      "[2021-11-25 00:52:02,675] - obspy.clients.fdsn.mass_downloader - INFO: Downloaded 0.0 MB in total.\n",
      "[2021-11-25 00:52:02,689] - obspy.clients.fdsn.mass_downloader - INFO: Initializing FDSN client(s) for GEONET.\n",
      "[2021-11-25 00:52:02,707] - obspy.clients.fdsn.mass_downloader - INFO: Successfully initialized 1 client(s): GEONET.\n",
      "[2021-11-25 00:52:02,712] - obspy.clients.fdsn.mass_downloader - INFO: Total acquired or preexisting stations: 0\n",
      "[2021-11-25 00:52:02,714] - obspy.clients.fdsn.mass_downloader - INFO: Client 'GEONET' - Requesting unreliable availability.\n"
     ]
    },
    {
     "name": "stdout",
     "output_type": "stream",
     "text": [
      "=================================================================\n",
      "Initiating mass download request.\n"
     ]
    },
    {
     "name": "stderr",
     "output_type": "stream",
     "text": [
      "[2021-11-25 00:52:03,366] - obspy.clients.fdsn.mass_downloader - INFO: Client 'GEONET' - Successfully requested availability (0.65 seconds)\n",
      "[2021-11-25 00:52:03,414] - obspy.clients.fdsn.mass_downloader - INFO: Client 'GEONET' - Found 1 stations (1 channels).\n",
      "[2021-11-25 00:52:03,433] - obspy.clients.fdsn.mass_downloader - INFO: Client 'GEONET' - Will attempt to download data from 1 stations.\n",
      "[2021-11-25 00:52:03,440] - obspy.clients.fdsn.mass_downloader - INFO: Client 'GEONET' - Status for 1 time intervals/channels before downloading: NEEDS_DOWNLOADING\n",
      "[2021-11-25 00:52:04,267] - obspy.clients.fdsn.mass_downloader - INFO: Client 'GEONET' - Successfully downloaded 1 channels (of 1)\n",
      "[2021-11-25 00:52:04,292] - obspy.clients.fdsn.mass_downloader - INFO: Client 'GEONET' - Launching basic QC checks...\n",
      "[2021-11-25 00:52:04,310] - obspy.clients.fdsn.mass_downloader - INFO: Client 'GEONET' - Downloaded 0.0 MB [4.30 KB/sec] of data, 0.0 MB of which were discarded afterwards.\n",
      "[2021-11-25 00:52:04,318] - obspy.clients.fdsn.mass_downloader - INFO: Client 'GEONET' - Status for 1 time intervals/channels after downloading: DOWNLOADED\n",
      "[2021-11-25 00:52:04,335] - obspy.clients.fdsn.mass_downloader - INFO: Client 'GEONET' - No station information to download.\n",
      "[2021-11-25 00:52:04,341] - obspy.clients.fdsn.mass_downloader - INFO: ============================== Final report\n",
      "[2021-11-25 00:52:04,349] - obspy.clients.fdsn.mass_downloader - INFO: 0 MiniSEED files [0.0 MB] already existed.\n",
      "[2021-11-25 00:52:04,352] - obspy.clients.fdsn.mass_downloader - INFO: 1 StationXML files [0.0 MB] already existed.\n",
      "[2021-11-25 00:52:04,356] - obspy.clients.fdsn.mass_downloader - INFO: Client 'GEONET' - Acquired 1 MiniSEED files [0.0 MB].\n",
      "[2021-11-25 00:52:04,356] - obspy.clients.fdsn.mass_downloader - INFO: Client 'GEONET' - Acquired 0 StationXML files [0.0 MB].\n",
      "[2021-11-25 00:52:04,356] - obspy.clients.fdsn.mass_downloader - INFO: Downloaded 0.0 MB in total.\n",
      "[2021-11-25 00:52:04,371] - obspy.clients.fdsn.mass_downloader - INFO: Initializing FDSN client(s) for GEONET.\n",
      "[2021-11-25 00:52:04,402] - obspy.clients.fdsn.mass_downloader - INFO: Successfully initialized 1 client(s): GEONET.\n",
      "[2021-11-25 00:52:04,406] - obspy.clients.fdsn.mass_downloader - INFO: Total acquired or preexisting stations: 0\n",
      "[2021-11-25 00:52:04,410] - obspy.clients.fdsn.mass_downloader - INFO: Client 'GEONET' - Requesting unreliable availability.\n"
     ]
    },
    {
     "name": "stdout",
     "output_type": "stream",
     "text": [
      "=================================================================\n",
      "Initiating mass download request.\n"
     ]
    },
    {
     "name": "stderr",
     "output_type": "stream",
     "text": [
      "[2021-11-25 00:52:04,957] - obspy.clients.fdsn.mass_downloader - INFO: Client 'GEONET' - Successfully requested availability (0.55 seconds)\n",
      "[2021-11-25 00:52:04,964] - obspy.clients.fdsn.mass_downloader - INFO: Client 'GEONET' - Found 1 stations (1 channels).\n",
      "[2021-11-25 00:52:04,970] - obspy.clients.fdsn.mass_downloader - INFO: Client 'GEONET' - Will attempt to download data from 1 stations.\n",
      "[2021-11-25 00:52:04,974] - obspy.clients.fdsn.mass_downloader - INFO: Client 'GEONET' - Status for 1 time intervals/channels before downloading: NEEDS_DOWNLOADING\n",
      "[2021-11-25 00:52:05,828] - obspy.clients.fdsn.mass_downloader - INFO: Client 'GEONET' - Successfully downloaded 1 channels (of 1)\n",
      "[2021-11-25 00:52:05,862] - obspy.clients.fdsn.mass_downloader - INFO: Client 'GEONET' - Launching basic QC checks...\n",
      "[2021-11-25 00:52:05,878] - obspy.clients.fdsn.mass_downloader - INFO: Client 'GEONET' - Downloaded 0.0 MB [4.56 KB/sec] of data, 0.0 MB of which were discarded afterwards.\n",
      "[2021-11-25 00:52:05,883] - obspy.clients.fdsn.mass_downloader - INFO: Client 'GEONET' - Status for 1 time intervals/channels after downloading: DOWNLOADED\n",
      "[2021-11-25 00:52:05,892] - obspy.clients.fdsn.mass_downloader - INFO: Client 'GEONET' - No station information to download.\n",
      "[2021-11-25 00:52:05,895] - obspy.clients.fdsn.mass_downloader - INFO: ============================== Final report\n",
      "[2021-11-25 00:52:05,897] - obspy.clients.fdsn.mass_downloader - INFO: 0 MiniSEED files [0.0 MB] already existed.\n",
      "[2021-11-25 00:52:05,899] - obspy.clients.fdsn.mass_downloader - INFO: 1 StationXML files [0.0 MB] already existed.\n",
      "[2021-11-25 00:52:05,899] - obspy.clients.fdsn.mass_downloader - INFO: Client 'GEONET' - Acquired 1 MiniSEED files [0.0 MB].\n",
      "[2021-11-25 00:52:05,900] - obspy.clients.fdsn.mass_downloader - INFO: Client 'GEONET' - Acquired 0 StationXML files [0.0 MB].\n",
      "[2021-11-25 00:52:05,901] - obspy.clients.fdsn.mass_downloader - INFO: Downloaded 0.0 MB in total.\n",
      "[2021-11-25 00:52:05,911] - obspy.clients.fdsn.mass_downloader - INFO: Initializing FDSN client(s) for GEONET.\n",
      "[2021-11-25 00:52:05,927] - obspy.clients.fdsn.mass_downloader - INFO: Successfully initialized 1 client(s): GEONET.\n",
      "[2021-11-25 00:52:05,932] - obspy.clients.fdsn.mass_downloader - INFO: Total acquired or preexisting stations: 0\n",
      "[2021-11-25 00:52:05,933] - obspy.clients.fdsn.mass_downloader - INFO: Client 'GEONET' - Requesting unreliable availability.\n"
     ]
    },
    {
     "name": "stdout",
     "output_type": "stream",
     "text": [
      "=================================================================\n",
      "Initiating mass download request.\n"
     ]
    },
    {
     "name": "stderr",
     "output_type": "stream",
     "text": [
      "[2021-11-25 00:52:06,562] - obspy.clients.fdsn.mass_downloader - INFO: Client 'GEONET' - Successfully requested availability (0.63 seconds)\n",
      "[2021-11-25 00:52:06,577] - obspy.clients.fdsn.mass_downloader - INFO: Client 'GEONET' - Found 1 stations (1 channels).\n",
      "[2021-11-25 00:52:06,585] - obspy.clients.fdsn.mass_downloader - INFO: Client 'GEONET' - Will attempt to download data from 1 stations.\n",
      "[2021-11-25 00:52:06,593] - obspy.clients.fdsn.mass_downloader - INFO: Client 'GEONET' - Status for 1 time intervals/channels before downloading: NEEDS_DOWNLOADING\n",
      "[2021-11-25 00:52:07,527] - obspy.clients.fdsn.mass_downloader - INFO: Client 'GEONET' - Successfully downloaded 1 channels (of 1)\n",
      "[2021-11-25 00:52:07,533] - obspy.clients.fdsn.mass_downloader - INFO: Client 'GEONET' - Launching basic QC checks...\n",
      "[2021-11-25 00:52:07,542] - obspy.clients.fdsn.mass_downloader - INFO: Client 'GEONET' - Downloaded 0.0 MB [3.79 KB/sec] of data, 0.0 MB of which were discarded afterwards.\n",
      "[2021-11-25 00:52:07,543] - obspy.clients.fdsn.mass_downloader - INFO: Client 'GEONET' - Status for 1 time intervals/channels after downloading: DOWNLOADED\n",
      "[2021-11-25 00:52:07,548] - obspy.clients.fdsn.mass_downloader - INFO: Client 'GEONET' - No station information to download.\n",
      "[2021-11-25 00:52:07,549] - obspy.clients.fdsn.mass_downloader - INFO: ============================== Final report\n",
      "[2021-11-25 00:52:07,550] - obspy.clients.fdsn.mass_downloader - INFO: 0 MiniSEED files [0.0 MB] already existed.\n",
      "[2021-11-25 00:52:07,550] - obspy.clients.fdsn.mass_downloader - INFO: 1 StationXML files [0.0 MB] already existed.\n",
      "[2021-11-25 00:52:07,550] - obspy.clients.fdsn.mass_downloader - INFO: Client 'GEONET' - Acquired 1 MiniSEED files [0.0 MB].\n",
      "[2021-11-25 00:52:07,551] - obspy.clients.fdsn.mass_downloader - INFO: Client 'GEONET' - Acquired 0 StationXML files [0.0 MB].\n",
      "[2021-11-25 00:52:07,551] - obspy.clients.fdsn.mass_downloader - INFO: Downloaded 0.0 MB in total.\n",
      "[2021-11-25 00:52:07,554] - obspy.clients.fdsn.mass_downloader - INFO: Initializing FDSN client(s) for GEONET.\n",
      "[2021-11-25 00:52:07,557] - obspy.clients.fdsn.mass_downloader - INFO: Successfully initialized 1 client(s): GEONET.\n",
      "[2021-11-25 00:52:07,558] - obspy.clients.fdsn.mass_downloader - INFO: Total acquired or preexisting stations: 0\n",
      "[2021-11-25 00:52:07,559] - obspy.clients.fdsn.mass_downloader - INFO: Client 'GEONET' - Requesting unreliable availability.\n"
     ]
    },
    {
     "name": "stdout",
     "output_type": "stream",
     "text": [
      "=================================================================\n",
      "Initiating mass download request.\n"
     ]
    },
    {
     "name": "stderr",
     "output_type": "stream",
     "text": [
      "[2021-11-25 00:52:08,146] - obspy.clients.fdsn.mass_downloader - INFO: Client 'GEONET' - Successfully requested availability (0.59 seconds)\n",
      "[2021-11-25 00:52:08,151] - obspy.clients.fdsn.mass_downloader - INFO: Client 'GEONET' - Found 1 stations (1 channels).\n",
      "[2021-11-25 00:52:08,152] - obspy.clients.fdsn.mass_downloader - INFO: Client 'GEONET' - Will attempt to download data from 1 stations.\n",
      "[2021-11-25 00:52:08,153] - obspy.clients.fdsn.mass_downloader - INFO: Client 'GEONET' - Status for 1 time intervals/channels before downloading: NEEDS_DOWNLOADING\n",
      "[2021-11-25 00:52:09,015] - obspy.clients.fdsn.mass_downloader - INFO: Client 'GEONET' - Successfully downloaded 1 channels (of 1)\n",
      "[2021-11-25 00:52:09,042] - obspy.clients.fdsn.mass_downloader - INFO: Client 'GEONET' - Launching basic QC checks...\n",
      "[2021-11-25 00:52:09,073] - obspy.clients.fdsn.mass_downloader - INFO: Client 'GEONET' - Downloaded 0.0 MB [3.98 KB/sec] of data, 0.0 MB of which were discarded afterwards.\n",
      "[2021-11-25 00:52:09,076] - obspy.clients.fdsn.mass_downloader - INFO: Client 'GEONET' - Status for 1 time intervals/channels after downloading: DOWNLOADED\n",
      "[2021-11-25 00:52:09,087] - obspy.clients.fdsn.mass_downloader - INFO: Client 'GEONET' - No station information to download.\n",
      "[2021-11-25 00:52:09,092] - obspy.clients.fdsn.mass_downloader - INFO: ============================== Final report\n",
      "[2021-11-25 00:52:09,093] - obspy.clients.fdsn.mass_downloader - INFO: 0 MiniSEED files [0.0 MB] already existed.\n",
      "[2021-11-25 00:52:09,099] - obspy.clients.fdsn.mass_downloader - INFO: 1 StationXML files [0.0 MB] already existed.\n",
      "[2021-11-25 00:52:09,102] - obspy.clients.fdsn.mass_downloader - INFO: Client 'GEONET' - Acquired 1 MiniSEED files [0.0 MB].\n",
      "[2021-11-25 00:52:09,103] - obspy.clients.fdsn.mass_downloader - INFO: Client 'GEONET' - Acquired 0 StationXML files [0.0 MB].\n",
      "[2021-11-25 00:52:09,104] - obspy.clients.fdsn.mass_downloader - INFO: Downloaded 0.0 MB in total.\n",
      "[2021-11-25 00:52:09,124] - obspy.clients.fdsn.mass_downloader - INFO: Initializing FDSN client(s) for GEONET.\n",
      "[2021-11-25 00:52:09,159] - obspy.clients.fdsn.mass_downloader - INFO: Successfully initialized 1 client(s): GEONET.\n",
      "[2021-11-25 00:52:09,163] - obspy.clients.fdsn.mass_downloader - INFO: Total acquired or preexisting stations: 0\n",
      "[2021-11-25 00:52:09,165] - obspy.clients.fdsn.mass_downloader - INFO: Client 'GEONET' - Requesting unreliable availability.\n"
     ]
    },
    {
     "name": "stdout",
     "output_type": "stream",
     "text": [
      "=================================================================\n",
      "Initiating mass download request.\n"
     ]
    },
    {
     "name": "stderr",
     "output_type": "stream",
     "text": [
      "[2021-11-25 00:52:09,769] - obspy.clients.fdsn.mass_downloader - INFO: Client 'GEONET' - Successfully requested availability (0.60 seconds)\n",
      "[2021-11-25 00:52:09,781] - obspy.clients.fdsn.mass_downloader - INFO: Client 'GEONET' - Found 1 stations (1 channels).\n",
      "[2021-11-25 00:52:09,792] - obspy.clients.fdsn.mass_downloader - INFO: Client 'GEONET' - Will attempt to download data from 1 stations.\n",
      "[2021-11-25 00:52:09,797] - obspy.clients.fdsn.mass_downloader - INFO: Client 'GEONET' - Status for 1 time intervals/channels before downloading: NEEDS_DOWNLOADING\n",
      "[2021-11-25 00:52:10,653] - obspy.clients.fdsn.mass_downloader - INFO: Client 'GEONET' - Successfully downloaded 1 channels (of 1)\n",
      "[2021-11-25 00:52:10,662] - obspy.clients.fdsn.mass_downloader - INFO: Client 'GEONET' - Launching basic QC checks...\n",
      "[2021-11-25 00:52:10,671] - obspy.clients.fdsn.mass_downloader - INFO: Client 'GEONET' - Downloaded 0.0 MB [5.28 KB/sec] of data, 0.0 MB of which were discarded afterwards.\n",
      "[2021-11-25 00:52:10,674] - obspy.clients.fdsn.mass_downloader - INFO: Client 'GEONET' - Status for 1 time intervals/channels after downloading: DOWNLOADED\n",
      "[2021-11-25 00:52:10,694] - obspy.clients.fdsn.mass_downloader - INFO: Client 'GEONET' - No station information to download.\n",
      "[2021-11-25 00:52:10,705] - obspy.clients.fdsn.mass_downloader - INFO: ============================== Final report\n",
      "[2021-11-25 00:52:10,711] - obspy.clients.fdsn.mass_downloader - INFO: 0 MiniSEED files [0.0 MB] already existed.\n",
      "[2021-11-25 00:52:10,714] - obspy.clients.fdsn.mass_downloader - INFO: 1 StationXML files [0.0 MB] already existed.\n",
      "[2021-11-25 00:52:10,715] - obspy.clients.fdsn.mass_downloader - INFO: Client 'GEONET' - Acquired 1 MiniSEED files [0.0 MB].\n",
      "[2021-11-25 00:52:10,716] - obspy.clients.fdsn.mass_downloader - INFO: Client 'GEONET' - Acquired 0 StationXML files [0.0 MB].\n",
      "[2021-11-25 00:52:10,716] - obspy.clients.fdsn.mass_downloader - INFO: Downloaded 0.0 MB in total.\n",
      "[2021-11-25 00:52:10,739] - obspy.clients.fdsn.mass_downloader - INFO: Initializing FDSN client(s) for GEONET.\n",
      "[2021-11-25 00:52:10,750] - obspy.clients.fdsn.mass_downloader - INFO: Successfully initialized 1 client(s): GEONET.\n",
      "[2021-11-25 00:52:10,754] - obspy.clients.fdsn.mass_downloader - INFO: Total acquired or preexisting stations: 0\n",
      "[2021-11-25 00:52:10,755] - obspy.clients.fdsn.mass_downloader - INFO: Client 'GEONET' - Requesting unreliable availability.\n"
     ]
    },
    {
     "name": "stdout",
     "output_type": "stream",
     "text": [
      "=================================================================\n",
      "Initiating mass download request.\n"
     ]
    },
    {
     "name": "stderr",
     "output_type": "stream",
     "text": [
      "[2021-11-25 00:52:11,428] - obspy.clients.fdsn.mass_downloader - INFO: Client 'GEONET' - Successfully requested availability (0.67 seconds)\n",
      "[2021-11-25 00:52:11,439] - obspy.clients.fdsn.mass_downloader - INFO: Client 'GEONET' - Found 1 stations (1 channels).\n",
      "[2021-11-25 00:52:11,441] - obspy.clients.fdsn.mass_downloader - INFO: Client 'GEONET' - Will attempt to download data from 1 stations.\n",
      "[2021-11-25 00:52:11,447] - obspy.clients.fdsn.mass_downloader - INFO: Client 'GEONET' - Status for 1 time intervals/channels before downloading: NEEDS_DOWNLOADING\n",
      "[2021-11-25 00:52:12,230] - obspy.clients.fdsn.mass_downloader - INFO: Client 'GEONET' - Successfully downloaded 1 channels (of 1)\n",
      "[2021-11-25 00:52:12,236] - obspy.clients.fdsn.mass_downloader - INFO: Client 'GEONET' - Launching basic QC checks...\n",
      "[2021-11-25 00:52:12,247] - obspy.clients.fdsn.mass_downloader - INFO: Client 'GEONET' - Downloaded 0.0 MB [5.32 KB/sec] of data, 0.0 MB of which were discarded afterwards.\n",
      "[2021-11-25 00:52:12,247] - obspy.clients.fdsn.mass_downloader - INFO: Client 'GEONET' - Status for 1 time intervals/channels after downloading: DOWNLOADED\n",
      "[2021-11-25 00:52:12,250] - obspy.clients.fdsn.mass_downloader - INFO: Client 'GEONET' - No station information to download.\n",
      "[2021-11-25 00:52:12,251] - obspy.clients.fdsn.mass_downloader - INFO: ============================== Final report\n",
      "[2021-11-25 00:52:12,252] - obspy.clients.fdsn.mass_downloader - INFO: 0 MiniSEED files [0.0 MB] already existed.\n",
      "[2021-11-25 00:52:12,254] - obspy.clients.fdsn.mass_downloader - INFO: 1 StationXML files [0.0 MB] already existed.\n",
      "[2021-11-25 00:52:12,254] - obspy.clients.fdsn.mass_downloader - INFO: Client 'GEONET' - Acquired 1 MiniSEED files [0.0 MB].\n",
      "[2021-11-25 00:52:12,255] - obspy.clients.fdsn.mass_downloader - INFO: Client 'GEONET' - Acquired 0 StationXML files [0.0 MB].\n",
      "[2021-11-25 00:52:12,255] - obspy.clients.fdsn.mass_downloader - INFO: Downloaded 0.0 MB in total.\n",
      "[2021-11-25 00:52:12,265] - obspy.clients.fdsn.mass_downloader - INFO: Initializing FDSN client(s) for GEONET.\n",
      "[2021-11-25 00:52:12,274] - obspy.clients.fdsn.mass_downloader - INFO: Successfully initialized 1 client(s): GEONET.\n",
      "[2021-11-25 00:52:12,277] - obspy.clients.fdsn.mass_downloader - INFO: Total acquired or preexisting stations: 0\n",
      "[2021-11-25 00:52:12,278] - obspy.clients.fdsn.mass_downloader - INFO: Client 'GEONET' - Requesting unreliable availability.\n"
     ]
    },
    {
     "name": "stdout",
     "output_type": "stream",
     "text": [
      "=================================================================\n",
      "Initiating mass download request.\n"
     ]
    },
    {
     "name": "stderr",
     "output_type": "stream",
     "text": [
      "[2021-11-25 00:52:12,888] - obspy.clients.fdsn.mass_downloader - INFO: Client 'GEONET' - Successfully requested availability (0.61 seconds)\n",
      "[2021-11-25 00:52:12,977] - obspy.clients.fdsn.mass_downloader - INFO: Client 'GEONET' - Found 1 stations (1 channels).\n",
      "[2021-11-25 00:52:12,981] - obspy.clients.fdsn.mass_downloader - INFO: Client 'GEONET' - Will attempt to download data from 1 stations.\n",
      "[2021-11-25 00:52:13,000] - obspy.clients.fdsn.mass_downloader - INFO: Client 'GEONET' - Status for 1 time intervals/channels before downloading: NEEDS_DOWNLOADING\n",
      "[2021-11-25 00:52:13,893] - obspy.clients.fdsn.mass_downloader - INFO: Client 'GEONET' - Successfully downloaded 1 channels (of 1)\n",
      "[2021-11-25 00:52:13,900] - obspy.clients.fdsn.mass_downloader - INFO: Client 'GEONET' - Launching basic QC checks...\n",
      "[2021-11-25 00:52:13,912] - obspy.clients.fdsn.mass_downloader - INFO: Client 'GEONET' - Downloaded 0.0 MB [4.68 KB/sec] of data, 0.0 MB of which were discarded afterwards.\n",
      "[2021-11-25 00:52:13,912] - obspy.clients.fdsn.mass_downloader - INFO: Client 'GEONET' - Status for 1 time intervals/channels after downloading: DOWNLOADED\n",
      "[2021-11-25 00:52:13,918] - obspy.clients.fdsn.mass_downloader - INFO: Client 'GEONET' - No station information to download.\n",
      "[2021-11-25 00:52:13,919] - obspy.clients.fdsn.mass_downloader - INFO: ============================== Final report\n",
      "[2021-11-25 00:52:13,920] - obspy.clients.fdsn.mass_downloader - INFO: 0 MiniSEED files [0.0 MB] already existed.\n",
      "[2021-11-25 00:52:13,922] - obspy.clients.fdsn.mass_downloader - INFO: 1 StationXML files [0.0 MB] already existed.\n",
      "[2021-11-25 00:52:13,924] - obspy.clients.fdsn.mass_downloader - INFO: Client 'GEONET' - Acquired 1 MiniSEED files [0.0 MB].\n",
      "[2021-11-25 00:52:13,925] - obspy.clients.fdsn.mass_downloader - INFO: Client 'GEONET' - Acquired 0 StationXML files [0.0 MB].\n",
      "[2021-11-25 00:52:13,925] - obspy.clients.fdsn.mass_downloader - INFO: Downloaded 0.0 MB in total.\n",
      "[2021-11-25 00:52:13,933] - obspy.clients.fdsn.mass_downloader - INFO: Initializing FDSN client(s) for GEONET.\n",
      "[2021-11-25 00:52:13,946] - obspy.clients.fdsn.mass_downloader - INFO: Successfully initialized 1 client(s): GEONET.\n",
      "[2021-11-25 00:52:13,947] - obspy.clients.fdsn.mass_downloader - INFO: Total acquired or preexisting stations: 0\n",
      "[2021-11-25 00:52:13,947] - obspy.clients.fdsn.mass_downloader - INFO: Client 'GEONET' - Requesting unreliable availability.\n"
     ]
    },
    {
     "name": "stdout",
     "output_type": "stream",
     "text": [
      "=================================================================\n",
      "Initiating mass download request.\n"
     ]
    },
    {
     "name": "stderr",
     "output_type": "stream",
     "text": [
      "[2021-11-25 00:52:14,617] - obspy.clients.fdsn.mass_downloader - INFO: Client 'GEONET' - Successfully requested availability (0.67 seconds)\n",
      "[2021-11-25 00:52:14,638] - obspy.clients.fdsn.mass_downloader - INFO: Client 'GEONET' - Found 1 stations (1 channels).\n",
      "[2021-11-25 00:52:14,644] - obspy.clients.fdsn.mass_downloader - INFO: Client 'GEONET' - Will attempt to download data from 1 stations.\n",
      "[2021-11-25 00:52:14,650] - obspy.clients.fdsn.mass_downloader - INFO: Client 'GEONET' - Status for 1 time intervals/channels before downloading: NEEDS_DOWNLOADING\n",
      "[2021-11-25 00:52:15,356] - obspy.clients.fdsn.mass_downloader - INFO: Client 'GEONET' - No data available for request.\n",
      "[2021-11-25 00:52:15,368] - obspy.clients.fdsn.mass_downloader - INFO: Client 'GEONET' - Launching basic QC checks...\n",
      "[2021-11-25 00:52:15,371] - obspy.clients.fdsn.mass_downloader - INFO: Client 'GEONET' - Downloaded 0.0 MB [0.00 KB/sec] of data, 0.0 MB of which were discarded afterwards.\n",
      "[2021-11-25 00:52:15,372] - obspy.clients.fdsn.mass_downloader - INFO: Client 'GEONET' - Status for 1 time intervals/channels after downloading: DOWNLOAD_FAILED\n",
      "[2021-11-25 00:52:15,374] - obspy.clients.fdsn.mass_downloader - INFO: Client 'GEONET' - No station information to download.\n",
      "[2021-11-25 00:52:15,378] - obspy.clients.fdsn.mass_downloader - INFO: Client 'GEONET' - No data could be downloaded.\n",
      "[2021-11-25 00:52:15,380] - obspy.clients.fdsn.mass_downloader - INFO: ============================== Final report\n",
      "[2021-11-25 00:52:15,382] - obspy.clients.fdsn.mass_downloader - INFO: 0 MiniSEED files [0.0 MB] already existed.\n",
      "[2021-11-25 00:52:15,382] - obspy.clients.fdsn.mass_downloader - INFO: 0 StationXML files [0.0 MB] already existed.\n",
      "[2021-11-25 00:52:15,385] - obspy.clients.fdsn.mass_downloader - INFO: Client 'GEONET' - Acquired 0 MiniSEED files [0.0 MB].\n",
      "[2021-11-25 00:52:15,386] - obspy.clients.fdsn.mass_downloader - INFO: Client 'GEONET' - Acquired 0 StationXML files [0.0 MB].\n",
      "[2021-11-25 00:52:15,387] - obspy.clients.fdsn.mass_downloader - INFO: Downloaded 0.0 MB in total.\n",
      "[2021-11-25 00:52:15,396] - obspy.clients.fdsn.mass_downloader - INFO: Initializing FDSN client(s) for GEONET.\n",
      "[2021-11-25 00:52:15,416] - obspy.clients.fdsn.mass_downloader - INFO: Successfully initialized 1 client(s): GEONET.\n",
      "[2021-11-25 00:52:15,420] - obspy.clients.fdsn.mass_downloader - INFO: Total acquired or preexisting stations: 0\n",
      "[2021-11-25 00:52:15,423] - obspy.clients.fdsn.mass_downloader - INFO: Client 'GEONET' - Requesting unreliable availability.\n"
     ]
    },
    {
     "name": "stdout",
     "output_type": "stream",
     "text": [
      "=================================================================\n",
      "Initiating mass download request.\n"
     ]
    },
    {
     "name": "stderr",
     "output_type": "stream",
     "text": [
      "[2021-11-25 00:52:16,687] - obspy.clients.fdsn.mass_downloader - INFO: Client 'GEONET' - Successfully requested availability (1.26 seconds)\n",
      "[2021-11-25 00:52:16,700] - obspy.clients.fdsn.mass_downloader - INFO: Client 'GEONET' - Found 1 stations (1 channels).\n",
      "[2021-11-25 00:52:16,703] - obspy.clients.fdsn.mass_downloader - INFO: Client 'GEONET' - Will attempt to download data from 1 stations.\n",
      "[2021-11-25 00:52:16,708] - obspy.clients.fdsn.mass_downloader - INFO: Client 'GEONET' - Status for 1 time intervals/channels before downloading: NEEDS_DOWNLOADING\n",
      "[2021-11-25 00:52:17,581] - obspy.clients.fdsn.mass_downloader - INFO: Client 'GEONET' - Successfully downloaded 1 channels (of 1)\n",
      "[2021-11-25 00:52:17,742] - obspy.clients.fdsn.mass_downloader - INFO: Client 'GEONET' - Launching basic QC checks...\n",
      "[2021-11-25 00:52:17,821] - obspy.clients.fdsn.mass_downloader - INFO: Client 'GEONET' - Downloaded 0.0 MB [3.43 KB/sec] of data, 0.0 MB of which were discarded afterwards.\n",
      "[2021-11-25 00:52:17,829] - obspy.clients.fdsn.mass_downloader - INFO: Client 'GEONET' - Status for 1 time intervals/channels after downloading: DOWNLOADED\n",
      "[2021-11-25 00:52:17,846] - obspy.clients.fdsn.mass_downloader - INFO: Client 'GEONET' - No station information to download.\n",
      "[2021-11-25 00:52:17,859] - obspy.clients.fdsn.mass_downloader - INFO: ============================== Final report\n",
      "[2021-11-25 00:52:17,861] - obspy.clients.fdsn.mass_downloader - INFO: 0 MiniSEED files [0.0 MB] already existed.\n",
      "[2021-11-25 00:52:17,867] - obspy.clients.fdsn.mass_downloader - INFO: 1 StationXML files [0.0 MB] already existed.\n",
      "[2021-11-25 00:52:17,868] - obspy.clients.fdsn.mass_downloader - INFO: Client 'GEONET' - Acquired 1 MiniSEED files [0.0 MB].\n",
      "[2021-11-25 00:52:17,872] - obspy.clients.fdsn.mass_downloader - INFO: Client 'GEONET' - Acquired 0 StationXML files [0.0 MB].\n",
      "[2021-11-25 00:52:17,872] - obspy.clients.fdsn.mass_downloader - INFO: Downloaded 0.0 MB in total.\n",
      "[2021-11-25 00:52:17,891] - obspy.clients.fdsn.mass_downloader - INFO: Initializing FDSN client(s) for GEONET.\n",
      "[2021-11-25 00:52:17,918] - obspy.clients.fdsn.mass_downloader - INFO: Successfully initialized 1 client(s): GEONET.\n",
      "[2021-11-25 00:52:17,929] - obspy.clients.fdsn.mass_downloader - INFO: Total acquired or preexisting stations: 0\n",
      "[2021-11-25 00:52:17,931] - obspy.clients.fdsn.mass_downloader - INFO: Client 'GEONET' - Requesting unreliable availability.\n"
     ]
    },
    {
     "name": "stdout",
     "output_type": "stream",
     "text": [
      "=================================================================\n",
      "Initiating mass download request.\n"
     ]
    },
    {
     "name": "stderr",
     "output_type": "stream",
     "text": [
      "[2021-11-25 00:52:18,646] - obspy.clients.fdsn.mass_downloader - INFO: Client 'GEONET' - Successfully requested availability (0.71 seconds)\n",
      "[2021-11-25 00:52:18,680] - obspy.clients.fdsn.mass_downloader - INFO: Client 'GEONET' - Found 1 stations (1 channels).\n",
      "[2021-11-25 00:52:18,689] - obspy.clients.fdsn.mass_downloader - INFO: Client 'GEONET' - Will attempt to download data from 1 stations.\n",
      "[2021-11-25 00:52:18,694] - obspy.clients.fdsn.mass_downloader - INFO: Client 'GEONET' - Status for 1 time intervals/channels before downloading: NEEDS_DOWNLOADING\n",
      "[2021-11-25 00:52:19,661] - obspy.clients.fdsn.mass_downloader - INFO: Client 'GEONET' - Successfully downloaded 1 channels (of 1)\n",
      "[2021-11-25 00:52:19,738] - obspy.clients.fdsn.mass_downloader - INFO: Client 'GEONET' - Launching basic QC checks...\n",
      "[2021-11-25 00:52:19,923] - obspy.clients.fdsn.mass_downloader - INFO: Client 'GEONET' - Downloaded 0.0 MB [3.88 KB/sec] of data, 0.0 MB of which were discarded afterwards.\n",
      "[2021-11-25 00:52:19,927] - obspy.clients.fdsn.mass_downloader - INFO: Client 'GEONET' - Status for 1 time intervals/channels after downloading: DOWNLOADED\n",
      "[2021-11-25 00:52:19,962] - obspy.clients.fdsn.mass_downloader - INFO: Client 'GEONET' - No station information to download.\n",
      "[2021-11-25 00:52:19,978] - obspy.clients.fdsn.mass_downloader - INFO: ============================== Final report\n",
      "[2021-11-25 00:52:19,980] - obspy.clients.fdsn.mass_downloader - INFO: 0 MiniSEED files [0.0 MB] already existed.\n",
      "[2021-11-25 00:52:19,984] - obspy.clients.fdsn.mass_downloader - INFO: 1 StationXML files [0.0 MB] already existed.\n",
      "[2021-11-25 00:52:19,990] - obspy.clients.fdsn.mass_downloader - INFO: Client 'GEONET' - Acquired 1 MiniSEED files [0.0 MB].\n",
      "[2021-11-25 00:52:19,991] - obspy.clients.fdsn.mass_downloader - INFO: Client 'GEONET' - Acquired 0 StationXML files [0.0 MB].\n",
      "[2021-11-25 00:52:19,991] - obspy.clients.fdsn.mass_downloader - INFO: Downloaded 0.0 MB in total.\n",
      "[2021-11-25 00:52:20,025] - obspy.clients.fdsn.mass_downloader - INFO: Initializing FDSN client(s) for GEONET.\n",
      "[2021-11-25 00:52:20,069] - obspy.clients.fdsn.mass_downloader - INFO: Successfully initialized 1 client(s): GEONET.\n",
      "[2021-11-25 00:52:20,098] - obspy.clients.fdsn.mass_downloader - INFO: Total acquired or preexisting stations: 0\n",
      "[2021-11-25 00:52:20,108] - obspy.clients.fdsn.mass_downloader - INFO: Client 'GEONET' - Requesting unreliable availability.\n"
     ]
    },
    {
     "name": "stdout",
     "output_type": "stream",
     "text": [
      "=================================================================\n",
      "Initiating mass download request.\n"
     ]
    },
    {
     "name": "stderr",
     "output_type": "stream",
     "text": [
      "[2021-11-25 00:52:20,696] - obspy.clients.fdsn.mass_downloader - INFO: Client 'GEONET' - Successfully requested availability (0.58 seconds)\n",
      "[2021-11-25 00:52:20,726] - obspy.clients.fdsn.mass_downloader - INFO: Client 'GEONET' - Found 1 stations (1 channels).\n",
      "[2021-11-25 00:52:20,733] - obspy.clients.fdsn.mass_downloader - INFO: Client 'GEONET' - Will attempt to download data from 1 stations.\n",
      "[2021-11-25 00:52:20,742] - obspy.clients.fdsn.mass_downloader - INFO: Client 'GEONET' - Status for 1 time intervals/channels before downloading: NEEDS_DOWNLOADING\n",
      "[2021-11-25 00:52:21,702] - obspy.clients.fdsn.mass_downloader - INFO: Client 'GEONET' - Successfully downloaded 1 channels (of 1)\n",
      "[2021-11-25 00:52:21,766] - obspy.clients.fdsn.mass_downloader - INFO: Client 'GEONET' - Launching basic QC checks...\n",
      "[2021-11-25 00:52:21,813] - obspy.clients.fdsn.mass_downloader - INFO: Client 'GEONET' - Downloaded 0.0 MB [3.57 KB/sec] of data, 0.0 MB of which were discarded afterwards.\n",
      "[2021-11-25 00:52:21,818] - obspy.clients.fdsn.mass_downloader - INFO: Client 'GEONET' - Status for 1 time intervals/channels after downloading: DOWNLOADED\n",
      "[2021-11-25 00:52:21,834] - obspy.clients.fdsn.mass_downloader - INFO: Client 'GEONET' - No station information to download.\n",
      "[2021-11-25 00:52:21,841] - obspy.clients.fdsn.mass_downloader - INFO: ============================== Final report\n",
      "[2021-11-25 00:52:21,845] - obspy.clients.fdsn.mass_downloader - INFO: 0 MiniSEED files [0.0 MB] already existed.\n",
      "[2021-11-25 00:52:21,846] - obspy.clients.fdsn.mass_downloader - INFO: 1 StationXML files [0.0 MB] already existed.\n",
      "[2021-11-25 00:52:21,852] - obspy.clients.fdsn.mass_downloader - INFO: Client 'GEONET' - Acquired 1 MiniSEED files [0.0 MB].\n",
      "[2021-11-25 00:52:21,853] - obspy.clients.fdsn.mass_downloader - INFO: Client 'GEONET' - Acquired 0 StationXML files [0.0 MB].\n",
      "[2021-11-25 00:52:21,853] - obspy.clients.fdsn.mass_downloader - INFO: Downloaded 0.0 MB in total.\n",
      "[2021-11-25 00:52:21,863] - obspy.clients.fdsn.mass_downloader - INFO: Initializing FDSN client(s) for GEONET.\n",
      "[2021-11-25 00:52:21,882] - obspy.clients.fdsn.mass_downloader - INFO: Successfully initialized 1 client(s): GEONET.\n",
      "[2021-11-25 00:52:21,883] - obspy.clients.fdsn.mass_downloader - INFO: Total acquired or preexisting stations: 0\n",
      "[2021-11-25 00:52:21,883] - obspy.clients.fdsn.mass_downloader - INFO: Client 'GEONET' - Requesting unreliable availability.\n"
     ]
    },
    {
     "name": "stdout",
     "output_type": "stream",
     "text": [
      "=================================================================\n",
      "Initiating mass download request.\n"
     ]
    },
    {
     "name": "stderr",
     "output_type": "stream",
     "text": [
      "[2021-11-25 00:52:22,585] - obspy.clients.fdsn.mass_downloader - INFO: Client 'GEONET' - Successfully requested availability (0.70 seconds)\n",
      "[2021-11-25 00:52:22,609] - obspy.clients.fdsn.mass_downloader - INFO: Client 'GEONET' - Found 1 stations (1 channels).\n",
      "[2021-11-25 00:52:22,614] - obspy.clients.fdsn.mass_downloader - INFO: Client 'GEONET' - Will attempt to download data from 1 stations.\n",
      "[2021-11-25 00:52:22,621] - obspy.clients.fdsn.mass_downloader - INFO: Client 'GEONET' - Status for 1 time intervals/channels before downloading: NEEDS_DOWNLOADING\n",
      "[2021-11-25 00:52:23,497] - obspy.clients.fdsn.mass_downloader - INFO: Client 'GEONET' - Successfully downloaded 1 channels (of 1)\n",
      "[2021-11-25 00:52:23,532] - obspy.clients.fdsn.mass_downloader - INFO: Client 'GEONET' - Launching basic QC checks...\n",
      "[2021-11-25 00:52:23,582] - obspy.clients.fdsn.mass_downloader - INFO: Client 'GEONET' - Downloaded 0.0 MB [3.40 KB/sec] of data, 0.0 MB of which were discarded afterwards.\n",
      "[2021-11-25 00:52:23,593] - obspy.clients.fdsn.mass_downloader - INFO: Client 'GEONET' - Status for 1 time intervals/channels after downloading: DOWNLOADED\n",
      "[2021-11-25 00:52:23,605] - obspy.clients.fdsn.mass_downloader - INFO: Client 'GEONET' - No station information to download.\n",
      "[2021-11-25 00:52:23,611] - obspy.clients.fdsn.mass_downloader - INFO: ============================== Final report\n",
      "[2021-11-25 00:52:23,615] - obspy.clients.fdsn.mass_downloader - INFO: 0 MiniSEED files [0.0 MB] already existed.\n",
      "[2021-11-25 00:52:23,616] - obspy.clients.fdsn.mass_downloader - INFO: 1 StationXML files [0.0 MB] already existed.\n",
      "[2021-11-25 00:52:23,616] - obspy.clients.fdsn.mass_downloader - INFO: Client 'GEONET' - Acquired 1 MiniSEED files [0.0 MB].\n",
      "[2021-11-25 00:52:23,617] - obspy.clients.fdsn.mass_downloader - INFO: Client 'GEONET' - Acquired 0 StationXML files [0.0 MB].\n",
      "[2021-11-25 00:52:23,620] - obspy.clients.fdsn.mass_downloader - INFO: Downloaded 0.0 MB in total.\n",
      "[2021-11-25 00:52:23,638] - obspy.clients.fdsn.mass_downloader - INFO: Initializing FDSN client(s) for GEONET.\n",
      "[2021-11-25 00:52:23,661] - obspy.clients.fdsn.mass_downloader - INFO: Successfully initialized 1 client(s): GEONET.\n",
      "[2021-11-25 00:52:23,665] - obspy.clients.fdsn.mass_downloader - INFO: Total acquired or preexisting stations: 0\n",
      "[2021-11-25 00:52:23,666] - obspy.clients.fdsn.mass_downloader - INFO: Client 'GEONET' - Requesting unreliable availability.\n"
     ]
    },
    {
     "name": "stdout",
     "output_type": "stream",
     "text": [
      "=================================================================\n",
      "Initiating mass download request.\n"
     ]
    },
    {
     "name": "stderr",
     "output_type": "stream",
     "text": [
      "[2021-11-25 00:52:24,372] - obspy.clients.fdsn.mass_downloader - INFO: Client 'GEONET' - Successfully requested availability (0.70 seconds)\n",
      "[2021-11-25 00:52:24,392] - obspy.clients.fdsn.mass_downloader - INFO: Client 'GEONET' - Found 1 stations (1 channels).\n",
      "[2021-11-25 00:52:24,405] - obspy.clients.fdsn.mass_downloader - INFO: Client 'GEONET' - Will attempt to download data from 1 stations.\n",
      "[2021-11-25 00:52:24,413] - obspy.clients.fdsn.mass_downloader - INFO: Client 'GEONET' - Status for 1 time intervals/channels before downloading: NEEDS_DOWNLOADING\n",
      "[2021-11-25 00:52:25,212] - obspy.clients.fdsn.mass_downloader - INFO: Client 'GEONET' - Successfully downloaded 1 channels (of 1)\n",
      "[2021-11-25 00:52:25,223] - obspy.clients.fdsn.mass_downloader - INFO: Client 'GEONET' - Launching basic QC checks...\n",
      "[2021-11-25 00:52:25,234] - obspy.clients.fdsn.mass_downloader - INFO: Client 'GEONET' - Downloaded 0.0 MB [4.44 KB/sec] of data, 0.0 MB of which were discarded afterwards.\n",
      "[2021-11-25 00:52:25,236] - obspy.clients.fdsn.mass_downloader - INFO: Client 'GEONET' - Status for 1 time intervals/channels after downloading: DOWNLOADED\n",
      "[2021-11-25 00:52:25,241] - obspy.clients.fdsn.mass_downloader - INFO: Client 'GEONET' - No station information to download.\n",
      "[2021-11-25 00:52:25,245] - obspy.clients.fdsn.mass_downloader - INFO: ============================== Final report\n",
      "[2021-11-25 00:52:25,247] - obspy.clients.fdsn.mass_downloader - INFO: 0 MiniSEED files [0.0 MB] already existed.\n",
      "[2021-11-25 00:52:25,248] - obspy.clients.fdsn.mass_downloader - INFO: 1 StationXML files [0.0 MB] already existed.\n",
      "[2021-11-25 00:52:25,249] - obspy.clients.fdsn.mass_downloader - INFO: Client 'GEONET' - Acquired 1 MiniSEED files [0.0 MB].\n",
      "[2021-11-25 00:52:25,249] - obspy.clients.fdsn.mass_downloader - INFO: Client 'GEONET' - Acquired 0 StationXML files [0.0 MB].\n",
      "[2021-11-25 00:52:25,250] - obspy.clients.fdsn.mass_downloader - INFO: Downloaded 0.0 MB in total.\n",
      "[2021-11-25 00:52:25,269] - obspy.clients.fdsn.mass_downloader - INFO: Initializing FDSN client(s) for GEONET.\n",
      "[2021-11-25 00:52:25,287] - obspy.clients.fdsn.mass_downloader - INFO: Successfully initialized 1 client(s): GEONET.\n",
      "[2021-11-25 00:52:25,296] - obspy.clients.fdsn.mass_downloader - INFO: Total acquired or preexisting stations: 0\n",
      "[2021-11-25 00:52:25,300] - obspy.clients.fdsn.mass_downloader - INFO: Client 'GEONET' - Requesting unreliable availability.\n"
     ]
    },
    {
     "name": "stdout",
     "output_type": "stream",
     "text": [
      "=================================================================\n",
      "Initiating mass download request.\n"
     ]
    },
    {
     "name": "stderr",
     "output_type": "stream",
     "text": [
      "[2021-11-25 00:52:25,898] - obspy.clients.fdsn.mass_downloader - INFO: Client 'GEONET' - Successfully requested availability (0.60 seconds)\n",
      "[2021-11-25 00:52:25,928] - obspy.clients.fdsn.mass_downloader - INFO: Client 'GEONET' - Found 1 stations (1 channels).\n",
      "[2021-11-25 00:52:25,949] - obspy.clients.fdsn.mass_downloader - INFO: Client 'GEONET' - Will attempt to download data from 1 stations.\n",
      "[2021-11-25 00:52:25,959] - obspy.clients.fdsn.mass_downloader - INFO: Client 'GEONET' - Status for 1 time intervals/channels before downloading: NEEDS_DOWNLOADING\n",
      "[2021-11-25 00:52:26,762] - obspy.clients.fdsn.mass_downloader - INFO: Client 'GEONET' - Successfully downloaded 1 channels (of 1)\n",
      "[2021-11-25 00:52:26,775] - obspy.clients.fdsn.mass_downloader - INFO: Client 'GEONET' - Launching basic QC checks...\n",
      "[2021-11-25 00:52:26,786] - obspy.clients.fdsn.mass_downloader - INFO: Client 'GEONET' - Downloaded 0.0 MB [3.90 KB/sec] of data, 0.0 MB of which were discarded afterwards.\n",
      "[2021-11-25 00:52:26,787] - obspy.clients.fdsn.mass_downloader - INFO: Client 'GEONET' - Status for 1 time intervals/channels after downloading: DOWNLOADED\n",
      "[2021-11-25 00:52:26,797] - obspy.clients.fdsn.mass_downloader - INFO: Client 'GEONET' - No station information to download.\n",
      "[2021-11-25 00:52:26,798] - obspy.clients.fdsn.mass_downloader - INFO: ============================== Final report\n",
      "[2021-11-25 00:52:26,799] - obspy.clients.fdsn.mass_downloader - INFO: 0 MiniSEED files [0.0 MB] already existed.\n",
      "[2021-11-25 00:52:26,801] - obspy.clients.fdsn.mass_downloader - INFO: 1 StationXML files [0.0 MB] already existed.\n",
      "[2021-11-25 00:52:26,804] - obspy.clients.fdsn.mass_downloader - INFO: Client 'GEONET' - Acquired 1 MiniSEED files [0.0 MB].\n",
      "[2021-11-25 00:52:26,808] - obspy.clients.fdsn.mass_downloader - INFO: Client 'GEONET' - Acquired 0 StationXML files [0.0 MB].\n",
      "[2021-11-25 00:52:26,812] - obspy.clients.fdsn.mass_downloader - INFO: Downloaded 0.0 MB in total.\n",
      "[2021-11-25 00:52:26,824] - obspy.clients.fdsn.mass_downloader - INFO: Initializing FDSN client(s) for GEONET.\n",
      "[2021-11-25 00:52:26,867] - obspy.clients.fdsn.mass_downloader - INFO: Successfully initialized 1 client(s): GEONET.\n",
      "[2021-11-25 00:52:26,870] - obspy.clients.fdsn.mass_downloader - INFO: Total acquired or preexisting stations: 0\n",
      "[2021-11-25 00:52:26,871] - obspy.clients.fdsn.mass_downloader - INFO: Client 'GEONET' - Requesting unreliable availability.\n"
     ]
    },
    {
     "name": "stdout",
     "output_type": "stream",
     "text": [
      "=================================================================\n",
      "Initiating mass download request.\n"
     ]
    },
    {
     "name": "stderr",
     "output_type": "stream",
     "text": [
      "[2021-11-25 00:52:27,434] - obspy.clients.fdsn.mass_downloader - INFO: Client 'GEONET' - Successfully requested availability (0.56 seconds)\n",
      "[2021-11-25 00:52:27,447] - obspy.clients.fdsn.mass_downloader - INFO: Client 'GEONET' - Found 1 stations (1 channels).\n",
      "[2021-11-25 00:52:27,451] - obspy.clients.fdsn.mass_downloader - INFO: Client 'GEONET' - Will attempt to download data from 1 stations.\n",
      "[2021-11-25 00:52:27,463] - obspy.clients.fdsn.mass_downloader - INFO: Client 'GEONET' - Status for 1 time intervals/channels before downloading: NEEDS_DOWNLOADING\n",
      "[2021-11-25 00:52:28,357] - obspy.clients.fdsn.mass_downloader - INFO: Client 'GEONET' - Successfully downloaded 1 channels (of 1)\n",
      "[2021-11-25 00:52:28,390] - obspy.clients.fdsn.mass_downloader - INFO: Client 'GEONET' - Launching basic QC checks...\n",
      "[2021-11-25 00:52:28,419] - obspy.clients.fdsn.mass_downloader - INFO: Client 'GEONET' - Downloaded 0.0 MB [3.86 KB/sec] of data, 0.0 MB of which were discarded afterwards.\n",
      "[2021-11-25 00:52:28,423] - obspy.clients.fdsn.mass_downloader - INFO: Client 'GEONET' - Status for 1 time intervals/channels after downloading: DOWNLOADED\n",
      "[2021-11-25 00:52:28,437] - obspy.clients.fdsn.mass_downloader - INFO: Client 'GEONET' - No station information to download.\n",
      "[2021-11-25 00:52:28,445] - obspy.clients.fdsn.mass_downloader - INFO: ============================== Final report\n",
      "[2021-11-25 00:52:28,446] - obspy.clients.fdsn.mass_downloader - INFO: 0 MiniSEED files [0.0 MB] already existed.\n",
      "[2021-11-25 00:52:28,447] - obspy.clients.fdsn.mass_downloader - INFO: 1 StationXML files [0.0 MB] already existed.\n",
      "[2021-11-25 00:52:28,448] - obspy.clients.fdsn.mass_downloader - INFO: Client 'GEONET' - Acquired 1 MiniSEED files [0.0 MB].\n",
      "[2021-11-25 00:52:28,449] - obspy.clients.fdsn.mass_downloader - INFO: Client 'GEONET' - Acquired 0 StationXML files [0.0 MB].\n",
      "[2021-11-25 00:52:28,451] - obspy.clients.fdsn.mass_downloader - INFO: Downloaded 0.0 MB in total.\n",
      "[2021-11-25 00:52:28,469] - obspy.clients.fdsn.mass_downloader - INFO: Initializing FDSN client(s) for GEONET.\n",
      "[2021-11-25 00:52:28,479] - obspy.clients.fdsn.mass_downloader - INFO: Successfully initialized 1 client(s): GEONET.\n",
      "[2021-11-25 00:52:28,480] - obspy.clients.fdsn.mass_downloader - INFO: Total acquired or preexisting stations: 0\n",
      "[2021-11-25 00:52:28,480] - obspy.clients.fdsn.mass_downloader - INFO: Client 'GEONET' - Requesting unreliable availability.\n"
     ]
    },
    {
     "name": "stdout",
     "output_type": "stream",
     "text": [
      "=================================================================\n",
      "Initiating mass download request.\n"
     ]
    },
    {
     "name": "stderr",
     "output_type": "stream",
     "text": [
      "[2021-11-25 00:52:29,160] - obspy.clients.fdsn.mass_downloader - INFO: Client 'GEONET' - Successfully requested availability (0.68 seconds)\n",
      "[2021-11-25 00:52:29,181] - obspy.clients.fdsn.mass_downloader - INFO: Client 'GEONET' - Found 1 stations (1 channels).\n",
      "[2021-11-25 00:52:29,192] - obspy.clients.fdsn.mass_downloader - INFO: Client 'GEONET' - Will attempt to download data from 1 stations.\n",
      "[2021-11-25 00:52:29,211] - obspy.clients.fdsn.mass_downloader - INFO: Client 'GEONET' - Status for 1 time intervals/channels before downloading: NEEDS_DOWNLOADING\n",
      "[2021-11-25 00:52:30,000] - obspy.clients.fdsn.mass_downloader - INFO: Client 'GEONET' - Successfully downloaded 1 channels (of 1)\n",
      "[2021-11-25 00:52:30,035] - obspy.clients.fdsn.mass_downloader - INFO: Client 'GEONET' - Launching basic QC checks...\n",
      "[2021-11-25 00:52:30,071] - obspy.clients.fdsn.mass_downloader - INFO: Client 'GEONET' - Downloaded 0.0 MB [3.77 KB/sec] of data, 0.0 MB of which were discarded afterwards.\n",
      "[2021-11-25 00:52:30,081] - obspy.clients.fdsn.mass_downloader - INFO: Client 'GEONET' - Status for 1 time intervals/channels after downloading: DOWNLOADED\n",
      "[2021-11-25 00:52:30,124] - obspy.clients.fdsn.mass_downloader - INFO: Client 'GEONET' - No station information to download.\n",
      "[2021-11-25 00:52:30,138] - obspy.clients.fdsn.mass_downloader - INFO: ============================== Final report\n",
      "[2021-11-25 00:52:30,141] - obspy.clients.fdsn.mass_downloader - INFO: 0 MiniSEED files [0.0 MB] already existed.\n",
      "[2021-11-25 00:52:30,150] - obspy.clients.fdsn.mass_downloader - INFO: 1 StationXML files [0.0 MB] already existed.\n",
      "[2021-11-25 00:52:30,151] - obspy.clients.fdsn.mass_downloader - INFO: Client 'GEONET' - Acquired 1 MiniSEED files [0.0 MB].\n",
      "[2021-11-25 00:52:30,154] - obspy.clients.fdsn.mass_downloader - INFO: Client 'GEONET' - Acquired 0 StationXML files [0.0 MB].\n",
      "[2021-11-25 00:52:30,155] - obspy.clients.fdsn.mass_downloader - INFO: Downloaded 0.0 MB in total.\n",
      "[2021-11-25 00:52:30,233] - obspy.clients.fdsn.mass_downloader - INFO: Initializing FDSN client(s) for GEONET.\n",
      "[2021-11-25 00:52:30,290] - obspy.clients.fdsn.mass_downloader - INFO: Successfully initialized 1 client(s): GEONET.\n",
      "[2021-11-25 00:52:30,294] - obspy.clients.fdsn.mass_downloader - INFO: Total acquired or preexisting stations: 0\n",
      "[2021-11-25 00:52:30,296] - obspy.clients.fdsn.mass_downloader - INFO: Client 'GEONET' - Requesting unreliable availability.\n"
     ]
    },
    {
     "name": "stdout",
     "output_type": "stream",
     "text": [
      "=================================================================\n",
      "Initiating mass download request.\n"
     ]
    },
    {
     "name": "stderr",
     "output_type": "stream",
     "text": [
      "[2021-11-25 00:52:31,091] - obspy.clients.fdsn.mass_downloader - INFO: Client 'GEONET' - Successfully requested availability (0.79 seconds)\n",
      "[2021-11-25 00:52:31,198] - obspy.clients.fdsn.mass_downloader - INFO: Client 'GEONET' - Found 1 stations (1 channels).\n",
      "[2021-11-25 00:52:31,230] - obspy.clients.fdsn.mass_downloader - INFO: Client 'GEONET' - Will attempt to download data from 1 stations.\n",
      "[2021-11-25 00:52:31,234] - obspy.clients.fdsn.mass_downloader - INFO: Client 'GEONET' - Status for 1 time intervals/channels before downloading: NEEDS_DOWNLOADING\n",
      "[2021-11-25 00:52:32,126] - obspy.clients.fdsn.mass_downloader - INFO: Client 'GEONET' - Successfully downloaded 1 channels (of 1)\n",
      "[2021-11-25 00:52:32,225] - obspy.clients.fdsn.mass_downloader - INFO: Client 'GEONET' - Launching basic QC checks...\n",
      "[2021-11-25 00:52:32,286] - obspy.clients.fdsn.mass_downloader - INFO: Client 'GEONET' - Downloaded 0.0 MB [4.76 KB/sec] of data, 0.0 MB of which were discarded afterwards.\n",
      "[2021-11-25 00:52:32,302] - obspy.clients.fdsn.mass_downloader - INFO: Client 'GEONET' - Status for 1 time intervals/channels after downloading: DOWNLOADED\n",
      "[2021-11-25 00:52:32,331] - obspy.clients.fdsn.mass_downloader - INFO: Client 'GEONET' - No station information to download.\n",
      "[2021-11-25 00:52:32,336] - obspy.clients.fdsn.mass_downloader - INFO: ============================== Final report\n",
      "[2021-11-25 00:52:32,338] - obspy.clients.fdsn.mass_downloader - INFO: 0 MiniSEED files [0.0 MB] already existed.\n",
      "[2021-11-25 00:52:32,341] - obspy.clients.fdsn.mass_downloader - INFO: 1 StationXML files [0.0 MB] already existed.\n",
      "[2021-11-25 00:52:32,348] - obspy.clients.fdsn.mass_downloader - INFO: Client 'GEONET' - Acquired 1 MiniSEED files [0.0 MB].\n",
      "[2021-11-25 00:52:32,348] - obspy.clients.fdsn.mass_downloader - INFO: Client 'GEONET' - Acquired 0 StationXML files [0.0 MB].\n",
      "[2021-11-25 00:52:32,348] - obspy.clients.fdsn.mass_downloader - INFO: Downloaded 0.0 MB in total.\n",
      "[2021-11-25 00:52:32,380] - obspy.clients.fdsn.mass_downloader - INFO: Initializing FDSN client(s) for GEONET.\n",
      "[2021-11-25 00:52:32,406] - obspy.clients.fdsn.mass_downloader - INFO: Successfully initialized 1 client(s): GEONET.\n",
      "[2021-11-25 00:52:32,426] - obspy.clients.fdsn.mass_downloader - INFO: Total acquired or preexisting stations: 0\n",
      "[2021-11-25 00:52:32,431] - obspy.clients.fdsn.mass_downloader - INFO: Client 'GEONET' - Requesting unreliable availability.\n"
     ]
    },
    {
     "name": "stdout",
     "output_type": "stream",
     "text": [
      "=================================================================\n",
      "Initiating mass download request.\n"
     ]
    },
    {
     "name": "stderr",
     "output_type": "stream",
     "text": [
      "[2021-11-25 00:52:33,014] - obspy.clients.fdsn.mass_downloader - INFO: Client 'GEONET' - Successfully requested availability (0.58 seconds)\n",
      "[2021-11-25 00:52:33,019] - obspy.clients.fdsn.mass_downloader - INFO: Client 'GEONET' - Found 1 stations (1 channels).\n",
      "[2021-11-25 00:52:33,020] - obspy.clients.fdsn.mass_downloader - INFO: Client 'GEONET' - Will attempt to download data from 1 stations.\n",
      "[2021-11-25 00:52:33,021] - obspy.clients.fdsn.mass_downloader - INFO: Client 'GEONET' - Status for 1 time intervals/channels before downloading: NEEDS_DOWNLOADING\n",
      "[2021-11-25 00:52:33,878] - obspy.clients.fdsn.mass_downloader - INFO: Client 'GEONET' - Successfully downloaded 1 channels (of 1)\n",
      "[2021-11-25 00:52:33,905] - obspy.clients.fdsn.mass_downloader - INFO: Client 'GEONET' - Launching basic QC checks...\n",
      "[2021-11-25 00:52:33,925] - obspy.clients.fdsn.mass_downloader - INFO: Client 'GEONET' - Downloaded 0.0 MB [4.58 KB/sec] of data, 0.0 MB of which were discarded afterwards.\n",
      "[2021-11-25 00:52:33,938] - obspy.clients.fdsn.mass_downloader - INFO: Client 'GEONET' - Status for 1 time intervals/channels after downloading: DOWNLOADED\n",
      "[2021-11-25 00:52:33,943] - obspy.clients.fdsn.mass_downloader - INFO: Client 'GEONET' - No station information to download.\n",
      "[2021-11-25 00:52:33,950] - obspy.clients.fdsn.mass_downloader - INFO: ============================== Final report\n",
      "[2021-11-25 00:52:33,954] - obspy.clients.fdsn.mass_downloader - INFO: 0 MiniSEED files [0.0 MB] already existed.\n",
      "[2021-11-25 00:52:33,959] - obspy.clients.fdsn.mass_downloader - INFO: 1 StationXML files [0.0 MB] already existed.\n",
      "[2021-11-25 00:52:33,962] - obspy.clients.fdsn.mass_downloader - INFO: Client 'GEONET' - Acquired 1 MiniSEED files [0.0 MB].\n",
      "[2021-11-25 00:52:33,964] - obspy.clients.fdsn.mass_downloader - INFO: Client 'GEONET' - Acquired 0 StationXML files [0.0 MB].\n",
      "[2021-11-25 00:52:33,965] - obspy.clients.fdsn.mass_downloader - INFO: Downloaded 0.0 MB in total.\n",
      "[2021-11-25 00:52:33,989] - obspy.clients.fdsn.mass_downloader - INFO: Initializing FDSN client(s) for GEONET.\n",
      "[2021-11-25 00:52:34,026] - obspy.clients.fdsn.mass_downloader - INFO: Successfully initialized 1 client(s): GEONET.\n",
      "[2021-11-25 00:52:34,034] - obspy.clients.fdsn.mass_downloader - INFO: Total acquired or preexisting stations: 0\n",
      "[2021-11-25 00:52:34,036] - obspy.clients.fdsn.mass_downloader - INFO: Client 'GEONET' - Requesting unreliable availability.\n"
     ]
    },
    {
     "name": "stdout",
     "output_type": "stream",
     "text": [
      "=================================================================\n",
      "Initiating mass download request.\n"
     ]
    },
    {
     "name": "stderr",
     "output_type": "stream",
     "text": [
      "[2021-11-25 00:52:34,604] - obspy.clients.fdsn.mass_downloader - INFO: Client 'GEONET' - Successfully requested availability (0.57 seconds)\n",
      "[2021-11-25 00:52:34,606] - obspy.clients.fdsn.mass_downloader - INFO: Client 'GEONET' - Found 1 stations (1 channels).\n",
      "[2021-11-25 00:52:34,607] - obspy.clients.fdsn.mass_downloader - INFO: Client 'GEONET' - Will attempt to download data from 1 stations.\n",
      "[2021-11-25 00:52:34,608] - obspy.clients.fdsn.mass_downloader - INFO: Client 'GEONET' - Status for 1 time intervals/channels before downloading: NEEDS_DOWNLOADING\n",
      "[2021-11-25 00:52:35,405] - obspy.clients.fdsn.mass_downloader - INFO: Client 'GEONET' - Successfully downloaded 1 channels (of 1)\n",
      "[2021-11-25 00:52:35,511] - obspy.clients.fdsn.mass_downloader - INFO: Client 'GEONET' - Launching basic QC checks...\n",
      "[2021-11-25 00:52:35,587] - obspy.clients.fdsn.mass_downloader - INFO: Client 'GEONET' - Downloaded 0.0 MB [3.34 KB/sec] of data, 0.0 MB of which were discarded afterwards.\n",
      "[2021-11-25 00:52:35,595] - obspy.clients.fdsn.mass_downloader - INFO: Client 'GEONET' - Status for 1 time intervals/channels after downloading: DOWNLOADED\n",
      "[2021-11-25 00:52:35,621] - obspy.clients.fdsn.mass_downloader - INFO: Client 'GEONET' - No station information to download.\n",
      "[2021-11-25 00:52:35,640] - obspy.clients.fdsn.mass_downloader - INFO: ============================== Final report\n",
      "[2021-11-25 00:52:35,650] - obspy.clients.fdsn.mass_downloader - INFO: 0 MiniSEED files [0.0 MB] already existed.\n",
      "[2021-11-25 00:52:35,659] - obspy.clients.fdsn.mass_downloader - INFO: 1 StationXML files [0.0 MB] already existed.\n",
      "[2021-11-25 00:52:35,666] - obspy.clients.fdsn.mass_downloader - INFO: Client 'GEONET' - Acquired 1 MiniSEED files [0.0 MB].\n",
      "[2021-11-25 00:52:35,667] - obspy.clients.fdsn.mass_downloader - INFO: Client 'GEONET' - Acquired 0 StationXML files [0.0 MB].\n",
      "[2021-11-25 00:52:35,671] - obspy.clients.fdsn.mass_downloader - INFO: Downloaded 0.0 MB in total.\n",
      "[2021-11-25 00:52:35,808] - obspy.clients.fdsn.mass_downloader - INFO: Initializing FDSN client(s) for GEONET.\n",
      "[2021-11-25 00:52:35,915] - obspy.clients.fdsn.mass_downloader - INFO: Successfully initialized 1 client(s): GEONET.\n",
      "[2021-11-25 00:52:35,930] - obspy.clients.fdsn.mass_downloader - INFO: Total acquired or preexisting stations: 0\n",
      "[2021-11-25 00:52:35,941] - obspy.clients.fdsn.mass_downloader - INFO: Client 'GEONET' - Requesting unreliable availability.\n"
     ]
    },
    {
     "name": "stdout",
     "output_type": "stream",
     "text": [
      "=================================================================\n",
      "Initiating mass download request.\n"
     ]
    },
    {
     "name": "stderr",
     "output_type": "stream",
     "text": [
      "[2021-11-25 00:52:36,564] - obspy.clients.fdsn.mass_downloader - INFO: Client 'GEONET' - Successfully requested availability (0.62 seconds)\n",
      "[2021-11-25 00:52:36,581] - obspy.clients.fdsn.mass_downloader - INFO: Client 'GEONET' - Found 1 stations (1 channels).\n",
      "[2021-11-25 00:52:36,588] - obspy.clients.fdsn.mass_downloader - INFO: Client 'GEONET' - Will attempt to download data from 1 stations.\n",
      "[2021-11-25 00:52:36,596] - obspy.clients.fdsn.mass_downloader - INFO: Client 'GEONET' - Status for 1 time intervals/channels before downloading: NEEDS_DOWNLOADING\n",
      "[2021-11-25 00:52:37,666] - obspy.clients.fdsn.mass_downloader - INFO: Client 'GEONET' - Successfully downloaded 1 channels (of 1)\n",
      "[2021-11-25 00:52:37,746] - obspy.clients.fdsn.mass_downloader - INFO: Client 'GEONET' - Launching basic QC checks...\n",
      "[2021-11-25 00:52:37,871] - obspy.clients.fdsn.mass_downloader - INFO: Client 'GEONET' - Downloaded 0.0 MB [3.13 KB/sec] of data, 0.0 MB of which were discarded afterwards.\n",
      "[2021-11-25 00:52:37,877] - obspy.clients.fdsn.mass_downloader - INFO: Client 'GEONET' - Status for 1 time intervals/channels after downloading: DOWNLOADED\n",
      "[2021-11-25 00:52:37,911] - obspy.clients.fdsn.mass_downloader - INFO: Client 'GEONET' - No station information to download.\n",
      "[2021-11-25 00:52:37,917] - obspy.clients.fdsn.mass_downloader - INFO: ============================== Final report\n",
      "[2021-11-25 00:52:37,922] - obspy.clients.fdsn.mass_downloader - INFO: 0 MiniSEED files [0.0 MB] already existed.\n",
      "[2021-11-25 00:52:37,923] - obspy.clients.fdsn.mass_downloader - INFO: 1 StationXML files [0.0 MB] already existed.\n",
      "[2021-11-25 00:52:37,923] - obspy.clients.fdsn.mass_downloader - INFO: Client 'GEONET' - Acquired 1 MiniSEED files [0.0 MB].\n",
      "[2021-11-25 00:52:37,924] - obspy.clients.fdsn.mass_downloader - INFO: Client 'GEONET' - Acquired 0 StationXML files [0.0 MB].\n",
      "[2021-11-25 00:52:37,928] - obspy.clients.fdsn.mass_downloader - INFO: Downloaded 0.0 MB in total.\n",
      "[2021-11-25 00:52:37,975] - obspy.clients.fdsn.mass_downloader - INFO: Initializing FDSN client(s) for GEONET.\n",
      "[2021-11-25 00:52:38,015] - obspy.clients.fdsn.mass_downloader - INFO: Successfully initialized 1 client(s): GEONET.\n",
      "[2021-11-25 00:52:38,019] - obspy.clients.fdsn.mass_downloader - INFO: Total acquired or preexisting stations: 0\n",
      "[2021-11-25 00:52:38,022] - obspy.clients.fdsn.mass_downloader - INFO: Client 'GEONET' - Requesting unreliable availability.\n"
     ]
    },
    {
     "name": "stdout",
     "output_type": "stream",
     "text": [
      "=================================================================\n",
      "Initiating mass download request.\n"
     ]
    },
    {
     "name": "stderr",
     "output_type": "stream",
     "text": [
      "[2021-11-25 00:52:38,722] - obspy.clients.fdsn.mass_downloader - INFO: Client 'GEONET' - Successfully requested availability (0.70 seconds)\n",
      "[2021-11-25 00:52:38,886] - obspy.clients.fdsn.mass_downloader - INFO: Client 'GEONET' - Found 1 stations (1 channels).\n",
      "[2021-11-25 00:52:38,907] - obspy.clients.fdsn.mass_downloader - INFO: Client 'GEONET' - Will attempt to download data from 1 stations.\n",
      "[2021-11-25 00:52:38,914] - obspy.clients.fdsn.mass_downloader - INFO: Client 'GEONET' - Status for 1 time intervals/channels before downloading: NEEDS_DOWNLOADING\n",
      "[2021-11-25 00:52:39,745] - obspy.clients.fdsn.mass_downloader - INFO: Client 'GEONET' - Successfully downloaded 1 channels (of 1)\n",
      "[2021-11-25 00:52:39,757] - obspy.clients.fdsn.mass_downloader - INFO: Client 'GEONET' - Launching basic QC checks...\n",
      "[2021-11-25 00:52:39,775] - obspy.clients.fdsn.mass_downloader - INFO: Client 'GEONET' - Downloaded 0.0 MB [3.77 KB/sec] of data, 0.0 MB of which were discarded afterwards.\n",
      "[2021-11-25 00:52:39,775] - obspy.clients.fdsn.mass_downloader - INFO: Client 'GEONET' - Status for 1 time intervals/channels after downloading: DOWNLOADED\n",
      "[2021-11-25 00:52:39,781] - obspy.clients.fdsn.mass_downloader - INFO: Client 'GEONET' - No station information to download.\n",
      "[2021-11-25 00:52:39,785] - obspy.clients.fdsn.mass_downloader - INFO: ============================== Final report\n",
      "[2021-11-25 00:52:39,787] - obspy.clients.fdsn.mass_downloader - INFO: 0 MiniSEED files [0.0 MB] already existed.\n",
      "[2021-11-25 00:52:39,788] - obspy.clients.fdsn.mass_downloader - INFO: 1 StationXML files [0.0 MB] already existed.\n",
      "[2021-11-25 00:52:39,789] - obspy.clients.fdsn.mass_downloader - INFO: Client 'GEONET' - Acquired 1 MiniSEED files [0.0 MB].\n",
      "[2021-11-25 00:52:39,790] - obspy.clients.fdsn.mass_downloader - INFO: Client 'GEONET' - Acquired 0 StationXML files [0.0 MB].\n",
      "[2021-11-25 00:52:39,790] - obspy.clients.fdsn.mass_downloader - INFO: Downloaded 0.0 MB in total.\n",
      "[2021-11-25 00:52:39,793] - obspy.clients.fdsn.mass_downloader - INFO: Initializing FDSN client(s) for GEONET.\n",
      "[2021-11-25 00:52:39,798] - obspy.clients.fdsn.mass_downloader - INFO: Successfully initialized 1 client(s): GEONET.\n",
      "[2021-11-25 00:52:39,799] - obspy.clients.fdsn.mass_downloader - INFO: Total acquired or preexisting stations: 0\n",
      "[2021-11-25 00:52:39,801] - obspy.clients.fdsn.mass_downloader - INFO: Client 'GEONET' - Requesting unreliable availability.\n"
     ]
    },
    {
     "name": "stdout",
     "output_type": "stream",
     "text": [
      "=================================================================\n",
      "Initiating mass download request.\n"
     ]
    },
    {
     "name": "stderr",
     "output_type": "stream",
     "text": [
      "[2021-11-25 00:52:40,337] - obspy.clients.fdsn.mass_downloader - INFO: Client 'GEONET' - Successfully requested availability (0.54 seconds)\n",
      "[2021-11-25 00:52:40,346] - obspy.clients.fdsn.mass_downloader - INFO: Client 'GEONET' - Found 1 stations (1 channels).\n",
      "[2021-11-25 00:52:40,347] - obspy.clients.fdsn.mass_downloader - INFO: Client 'GEONET' - Will attempt to download data from 1 stations.\n",
      "[2021-11-25 00:52:40,348] - obspy.clients.fdsn.mass_downloader - INFO: Client 'GEONET' - Status for 1 time intervals/channels before downloading: NEEDS_DOWNLOADING\n",
      "[2021-11-25 00:52:41,219] - obspy.clients.fdsn.mass_downloader - INFO: Client 'GEONET' - Successfully downloaded 1 channels (of 1)\n",
      "[2021-11-25 00:52:41,227] - obspy.clients.fdsn.mass_downloader - INFO: Client 'GEONET' - Launching basic QC checks...\n",
      "[2021-11-25 00:52:41,235] - obspy.clients.fdsn.mass_downloader - INFO: Client 'GEONET' - Downloaded 0.0 MB [4.58 KB/sec] of data, 0.0 MB of which were discarded afterwards.\n",
      "[2021-11-25 00:52:41,236] - obspy.clients.fdsn.mass_downloader - INFO: Client 'GEONET' - Status for 1 time intervals/channels after downloading: DOWNLOADED\n",
      "[2021-11-25 00:52:41,240] - obspy.clients.fdsn.mass_downloader - INFO: Client 'GEONET' - No station information to download.\n",
      "[2021-11-25 00:52:41,241] - obspy.clients.fdsn.mass_downloader - INFO: ============================== Final report\n",
      "[2021-11-25 00:52:41,242] - obspy.clients.fdsn.mass_downloader - INFO: 0 MiniSEED files [0.0 MB] already existed.\n",
      "[2021-11-25 00:52:41,242] - obspy.clients.fdsn.mass_downloader - INFO: 1 StationXML files [0.0 MB] already existed.\n",
      "[2021-11-25 00:52:41,243] - obspy.clients.fdsn.mass_downloader - INFO: Client 'GEONET' - Acquired 1 MiniSEED files [0.0 MB].\n",
      "[2021-11-25 00:52:41,243] - obspy.clients.fdsn.mass_downloader - INFO: Client 'GEONET' - Acquired 0 StationXML files [0.0 MB].\n",
      "[2021-11-25 00:52:41,244] - obspy.clients.fdsn.mass_downloader - INFO: Downloaded 0.0 MB in total.\n",
      "[2021-11-25 00:52:41,247] - obspy.clients.fdsn.mass_downloader - INFO: Initializing FDSN client(s) for GEONET.\n",
      "[2021-11-25 00:52:41,254] - obspy.clients.fdsn.mass_downloader - INFO: Successfully initialized 1 client(s): GEONET.\n",
      "[2021-11-25 00:52:41,256] - obspy.clients.fdsn.mass_downloader - INFO: Total acquired or preexisting stations: 0\n",
      "[2021-11-25 00:52:41,256] - obspy.clients.fdsn.mass_downloader - INFO: Client 'GEONET' - Requesting unreliable availability.\n"
     ]
    },
    {
     "name": "stdout",
     "output_type": "stream",
     "text": [
      "=================================================================\n",
      "Initiating mass download request.\n"
     ]
    },
    {
     "name": "stderr",
     "output_type": "stream",
     "text": [
      "[2021-11-25 00:52:42,007] - obspy.clients.fdsn.mass_downloader - INFO: Client 'GEONET' - Successfully requested availability (0.75 seconds)\n",
      "[2021-11-25 00:52:42,013] - obspy.clients.fdsn.mass_downloader - INFO: Client 'GEONET' - Found 1 stations (1 channels).\n",
      "[2021-11-25 00:52:42,018] - obspy.clients.fdsn.mass_downloader - INFO: Client 'GEONET' - Will attempt to download data from 1 stations.\n",
      "[2021-11-25 00:52:42,023] - obspy.clients.fdsn.mass_downloader - INFO: Client 'GEONET' - Status for 1 time intervals/channels before downloading: NEEDS_DOWNLOADING\n",
      "[2021-11-25 00:52:42,872] - obspy.clients.fdsn.mass_downloader - INFO: Client 'GEONET' - Successfully downloaded 1 channels (of 1)\n",
      "[2021-11-25 00:52:42,924] - obspy.clients.fdsn.mass_downloader - INFO: Client 'GEONET' - Launching basic QC checks...\n",
      "[2021-11-25 00:52:42,943] - obspy.clients.fdsn.mass_downloader - INFO: Client 'GEONET' - Downloaded 0.0 MB [3.35 KB/sec] of data, 0.0 MB of which were discarded afterwards.\n",
      "[2021-11-25 00:52:42,961] - obspy.clients.fdsn.mass_downloader - INFO: Client 'GEONET' - Status for 1 time intervals/channels after downloading: DOWNLOADED\n",
      "[2021-11-25 00:52:42,979] - obspy.clients.fdsn.mass_downloader - INFO: Client 'GEONET' - No station information to download.\n",
      "[2021-11-25 00:52:43,080] - obspy.clients.fdsn.mass_downloader - INFO: ============================== Final report\n",
      "[2021-11-25 00:52:43,085] - obspy.clients.fdsn.mass_downloader - INFO: 0 MiniSEED files [0.0 MB] already existed.\n",
      "[2021-11-25 00:52:43,101] - obspy.clients.fdsn.mass_downloader - INFO: 1 StationXML files [0.0 MB] already existed.\n",
      "[2021-11-25 00:52:43,105] - obspy.clients.fdsn.mass_downloader - INFO: Client 'GEONET' - Acquired 1 MiniSEED files [0.0 MB].\n",
      "[2021-11-25 00:52:43,114] - obspy.clients.fdsn.mass_downloader - INFO: Client 'GEONET' - Acquired 0 StationXML files [0.0 MB].\n",
      "[2021-11-25 00:52:43,114] - obspy.clients.fdsn.mass_downloader - INFO: Downloaded 0.0 MB in total.\n",
      "[2021-11-25 00:52:43,234] - obspy.clients.fdsn.mass_downloader - INFO: Initializing FDSN client(s) for GEONET.\n",
      "[2021-11-25 00:52:43,328] - obspy.clients.fdsn.mass_downloader - INFO: Successfully initialized 1 client(s): GEONET.\n",
      "[2021-11-25 00:52:43,349] - obspy.clients.fdsn.mass_downloader - INFO: Total acquired or preexisting stations: 0\n",
      "[2021-11-25 00:52:43,356] - obspy.clients.fdsn.mass_downloader - INFO: Client 'GEONET' - Requesting unreliable availability.\n"
     ]
    },
    {
     "name": "stdout",
     "output_type": "stream",
     "text": [
      "=================================================================\n",
      "Initiating mass download request.\n"
     ]
    },
    {
     "name": "stderr",
     "output_type": "stream",
     "text": [
      "[2021-11-25 00:52:44,043] - obspy.clients.fdsn.mass_downloader - INFO: Client 'GEONET' - Successfully requested availability (0.68 seconds)\n",
      "[2021-11-25 00:52:44,059] - obspy.clients.fdsn.mass_downloader - INFO: Client 'GEONET' - Found 1 stations (1 channels).\n",
      "[2021-11-25 00:52:44,077] - obspy.clients.fdsn.mass_downloader - INFO: Client 'GEONET' - Will attempt to download data from 1 stations.\n",
      "[2021-11-25 00:52:44,083] - obspy.clients.fdsn.mass_downloader - INFO: Client 'GEONET' - Status for 1 time intervals/channels before downloading: NEEDS_DOWNLOADING\n",
      "[2021-11-25 00:52:44,970] - obspy.clients.fdsn.mass_downloader - INFO: Client 'GEONET' - Successfully downloaded 1 channels (of 1)\n",
      "[2021-11-25 00:52:45,002] - obspy.clients.fdsn.mass_downloader - INFO: Client 'GEONET' - Launching basic QC checks...\n",
      "[2021-11-25 00:52:45,040] - obspy.clients.fdsn.mass_downloader - INFO: Client 'GEONET' - Downloaded 0.0 MB [4.48 KB/sec] of data, 0.0 MB of which were discarded afterwards.\n",
      "[2021-11-25 00:52:45,045] - obspy.clients.fdsn.mass_downloader - INFO: Client 'GEONET' - Status for 1 time intervals/channels after downloading: DOWNLOADED\n",
      "[2021-11-25 00:52:45,057] - obspy.clients.fdsn.mass_downloader - INFO: Client 'GEONET' - No station information to download.\n",
      "[2021-11-25 00:52:45,060] - obspy.clients.fdsn.mass_downloader - INFO: ============================== Final report\n",
      "[2021-11-25 00:52:45,060] - obspy.clients.fdsn.mass_downloader - INFO: 0 MiniSEED files [0.0 MB] already existed.\n",
      "[2021-11-25 00:52:45,063] - obspy.clients.fdsn.mass_downloader - INFO: 1 StationXML files [0.0 MB] already existed.\n",
      "[2021-11-25 00:52:45,067] - obspy.clients.fdsn.mass_downloader - INFO: Client 'GEONET' - Acquired 1 MiniSEED files [0.0 MB].\n",
      "[2021-11-25 00:52:45,070] - obspy.clients.fdsn.mass_downloader - INFO: Client 'GEONET' - Acquired 0 StationXML files [0.0 MB].\n",
      "[2021-11-25 00:52:45,072] - obspy.clients.fdsn.mass_downloader - INFO: Downloaded 0.0 MB in total.\n",
      "[2021-11-25 00:52:45,114] - obspy.clients.fdsn.mass_downloader - INFO: Initializing FDSN client(s) for GEONET.\n",
      "[2021-11-25 00:52:45,169] - obspy.clients.fdsn.mass_downloader - INFO: Successfully initialized 1 client(s): GEONET.\n",
      "[2021-11-25 00:52:45,186] - obspy.clients.fdsn.mass_downloader - INFO: Total acquired or preexisting stations: 0\n",
      "[2021-11-25 00:52:45,188] - obspy.clients.fdsn.mass_downloader - INFO: Client 'GEONET' - Requesting unreliable availability.\n"
     ]
    },
    {
     "name": "stdout",
     "output_type": "stream",
     "text": [
      "=================================================================\n",
      "Initiating mass download request.\n"
     ]
    },
    {
     "name": "stderr",
     "output_type": "stream",
     "text": [
      "[2021-11-25 00:52:45,781] - obspy.clients.fdsn.mass_downloader - INFO: Client 'GEONET' - Successfully requested availability (0.59 seconds)\n",
      "[2021-11-25 00:52:45,789] - obspy.clients.fdsn.mass_downloader - INFO: Client 'GEONET' - Found 1 stations (1 channels).\n",
      "[2021-11-25 00:52:45,790] - obspy.clients.fdsn.mass_downloader - INFO: Client 'GEONET' - Will attempt to download data from 1 stations.\n",
      "[2021-11-25 00:52:45,794] - obspy.clients.fdsn.mass_downloader - INFO: Client 'GEONET' - Status for 1 time intervals/channels before downloading: NEEDS_DOWNLOADING\n",
      "[2021-11-25 00:52:46,623] - obspy.clients.fdsn.mass_downloader - INFO: Client 'GEONET' - Successfully downloaded 1 channels (of 1)\n",
      "[2021-11-25 00:52:46,628] - obspy.clients.fdsn.mass_downloader - INFO: Client 'GEONET' - Launching basic QC checks...\n",
      "[2021-11-25 00:52:46,633] - obspy.clients.fdsn.mass_downloader - INFO: Client 'GEONET' - Downloaded 0.0 MB [3.66 KB/sec] of data, 0.0 MB of which were discarded afterwards.\n",
      "[2021-11-25 00:52:46,633] - obspy.clients.fdsn.mass_downloader - INFO: Client 'GEONET' - Status for 1 time intervals/channels after downloading: DOWNLOADED\n",
      "[2021-11-25 00:52:46,640] - obspy.clients.fdsn.mass_downloader - INFO: Client 'GEONET' - No station information to download.\n",
      "[2021-11-25 00:52:46,641] - obspy.clients.fdsn.mass_downloader - INFO: ============================== Final report\n",
      "[2021-11-25 00:52:46,642] - obspy.clients.fdsn.mass_downloader - INFO: 0 MiniSEED files [0.0 MB] already existed.\n",
      "[2021-11-25 00:52:46,642] - obspy.clients.fdsn.mass_downloader - INFO: 1 StationXML files [0.0 MB] already existed.\n",
      "[2021-11-25 00:52:46,642] - obspy.clients.fdsn.mass_downloader - INFO: Client 'GEONET' - Acquired 1 MiniSEED files [0.0 MB].\n",
      "[2021-11-25 00:52:46,643] - obspy.clients.fdsn.mass_downloader - INFO: Client 'GEONET' - Acquired 0 StationXML files [0.0 MB].\n",
      "[2021-11-25 00:52:46,643] - obspy.clients.fdsn.mass_downloader - INFO: Downloaded 0.0 MB in total.\n",
      "[2021-11-25 00:52:46,647] - obspy.clients.fdsn.mass_downloader - INFO: Initializing FDSN client(s) for GEONET.\n",
      "[2021-11-25 00:52:46,652] - obspy.clients.fdsn.mass_downloader - INFO: Successfully initialized 1 client(s): GEONET.\n",
      "[2021-11-25 00:52:46,653] - obspy.clients.fdsn.mass_downloader - INFO: Total acquired or preexisting stations: 0\n",
      "[2021-11-25 00:52:46,653] - obspy.clients.fdsn.mass_downloader - INFO: Client 'GEONET' - Requesting unreliable availability.\n"
     ]
    },
    {
     "name": "stdout",
     "output_type": "stream",
     "text": [
      "=================================================================\n",
      "Initiating mass download request.\n"
     ]
    },
    {
     "name": "stderr",
     "output_type": "stream",
     "text": [
      "[2021-11-25 00:52:47,233] - obspy.clients.fdsn.mass_downloader - INFO: Client 'GEONET' - Successfully requested availability (0.58 seconds)\n",
      "[2021-11-25 00:52:47,239] - obspy.clients.fdsn.mass_downloader - INFO: Client 'GEONET' - Found 1 stations (1 channels).\n",
      "[2021-11-25 00:52:47,240] - obspy.clients.fdsn.mass_downloader - INFO: Client 'GEONET' - Will attempt to download data from 1 stations.\n",
      "[2021-11-25 00:52:47,241] - obspy.clients.fdsn.mass_downloader - INFO: Client 'GEONET' - Status for 1 time intervals/channels before downloading: NEEDS_DOWNLOADING\n",
      "[2021-11-25 00:52:48,883] - obspy.clients.fdsn.mass_downloader - INFO: Client 'GEONET' - Successfully downloaded 1 channels (of 1)\n",
      "[2021-11-25 00:52:49,195] - obspy.clients.fdsn.mass_downloader - INFO: Client 'GEONET' - Launching basic QC checks...\n",
      "[2021-11-25 00:52:49,346] - obspy.clients.fdsn.mass_downloader - INFO: Client 'GEONET' - Downloaded 0.0 MB [1.79 KB/sec] of data, 0.0 MB of which were discarded afterwards.\n",
      "[2021-11-25 00:52:49,366] - obspy.clients.fdsn.mass_downloader - INFO: Client 'GEONET' - Status for 1 time intervals/channels after downloading: DOWNLOADED\n",
      "[2021-11-25 00:52:49,403] - obspy.clients.fdsn.mass_downloader - INFO: Client 'GEONET' - No station information to download.\n",
      "[2021-11-25 00:52:49,415] - obspy.clients.fdsn.mass_downloader - INFO: ============================== Final report\n",
      "[2021-11-25 00:52:49,424] - obspy.clients.fdsn.mass_downloader - INFO: 0 MiniSEED files [0.0 MB] already existed.\n",
      "[2021-11-25 00:52:49,431] - obspy.clients.fdsn.mass_downloader - INFO: 1 StationXML files [0.0 MB] already existed.\n",
      "[2021-11-25 00:52:49,436] - obspy.clients.fdsn.mass_downloader - INFO: Client 'GEONET' - Acquired 1 MiniSEED files [0.0 MB].\n",
      "[2021-11-25 00:52:49,438] - obspy.clients.fdsn.mass_downloader - INFO: Client 'GEONET' - Acquired 0 StationXML files [0.0 MB].\n",
      "[2021-11-25 00:52:49,443] - obspy.clients.fdsn.mass_downloader - INFO: Downloaded 0.0 MB in total.\n",
      "[2021-11-25 00:52:49,483] - obspy.clients.fdsn.mass_downloader - INFO: Initializing FDSN client(s) for GEONET.\n",
      "[2021-11-25 00:52:49,684] - obspy.clients.fdsn.mass_downloader - INFO: Successfully initialized 1 client(s): GEONET.\n"
     ]
    },
    {
     "name": "stdout",
     "output_type": "stream",
     "text": [
      "=================================================================\n",
      "Initiating mass download request.\n"
     ]
    },
    {
     "name": "stderr",
     "output_type": "stream",
     "text": [
      "[2021-11-25 00:52:49,754] - obspy.clients.fdsn.mass_downloader - INFO: Total acquired or preexisting stations: 0\n",
      "[2021-11-25 00:52:49,794] - obspy.clients.fdsn.mass_downloader - INFO: Client 'GEONET' - Requesting unreliable availability.\n",
      "[2021-11-25 00:52:50,360] - obspy.clients.fdsn.mass_downloader - INFO: Client 'GEONET' - Successfully requested availability (0.56 seconds)\n",
      "[2021-11-25 00:52:50,363] - obspy.clients.fdsn.mass_downloader - INFO: Client 'GEONET' - Found 1 stations (1 channels).\n",
      "[2021-11-25 00:52:50,363] - obspy.clients.fdsn.mass_downloader - INFO: Client 'GEONET' - Will attempt to download data from 1 stations.\n",
      "[2021-11-25 00:52:50,367] - obspy.clients.fdsn.mass_downloader - INFO: Client 'GEONET' - Status for 1 time intervals/channels before downloading: NEEDS_DOWNLOADING\n",
      "[2021-11-25 00:52:51,203] - obspy.clients.fdsn.mass_downloader - INFO: Client 'GEONET' - Successfully downloaded 1 channels (of 1)\n",
      "[2021-11-25 00:52:51,207] - obspy.clients.fdsn.mass_downloader - INFO: Client 'GEONET' - Launching basic QC checks...\n",
      "[2021-11-25 00:52:51,211] - obspy.clients.fdsn.mass_downloader - INFO: Client 'GEONET' - Downloaded 0.0 MB [4.20 KB/sec] of data, 0.0 MB of which were discarded afterwards.\n",
      "[2021-11-25 00:52:51,211] - obspy.clients.fdsn.mass_downloader - INFO: Client 'GEONET' - Status for 1 time intervals/channels after downloading: DOWNLOADED\n",
      "[2021-11-25 00:52:51,218] - obspy.clients.fdsn.mass_downloader - INFO: Client 'GEONET' - No station information to download.\n",
      "[2021-11-25 00:52:51,219] - obspy.clients.fdsn.mass_downloader - INFO: ============================== Final report\n",
      "[2021-11-25 00:52:51,219] - obspy.clients.fdsn.mass_downloader - INFO: 0 MiniSEED files [0.0 MB] already existed.\n",
      "[2021-11-25 00:52:51,219] - obspy.clients.fdsn.mass_downloader - INFO: 1 StationXML files [0.0 MB] already existed.\n",
      "[2021-11-25 00:52:51,219] - obspy.clients.fdsn.mass_downloader - INFO: Client 'GEONET' - Acquired 1 MiniSEED files [0.0 MB].\n",
      "[2021-11-25 00:52:51,220] - obspy.clients.fdsn.mass_downloader - INFO: Client 'GEONET' - Acquired 0 StationXML files [0.0 MB].\n",
      "[2021-11-25 00:52:51,220] - obspy.clients.fdsn.mass_downloader - INFO: Downloaded 0.0 MB in total.\n",
      "[2021-11-25 00:52:51,222] - obspy.clients.fdsn.mass_downloader - INFO: Initializing FDSN client(s) for GEONET.\n",
      "[2021-11-25 00:52:51,225] - obspy.clients.fdsn.mass_downloader - INFO: Successfully initialized 1 client(s): GEONET.\n",
      "[2021-11-25 00:52:51,225] - obspy.clients.fdsn.mass_downloader - INFO: Total acquired or preexisting stations: 0\n",
      "[2021-11-25 00:52:51,226] - obspy.clients.fdsn.mass_downloader - INFO: Client 'GEONET' - Requesting unreliable availability.\n"
     ]
    },
    {
     "name": "stdout",
     "output_type": "stream",
     "text": [
      "=================================================================\n",
      "Initiating mass download request.\n"
     ]
    },
    {
     "name": "stderr",
     "output_type": "stream",
     "text": [
      "[2021-11-25 00:52:51,935] - obspy.clients.fdsn.mass_downloader - INFO: Client 'GEONET' - Successfully requested availability (0.71 seconds)\n",
      "[2021-11-25 00:52:51,945] - obspy.clients.fdsn.mass_downloader - INFO: Client 'GEONET' - Found 1 stations (1 channels).\n",
      "[2021-11-25 00:52:51,950] - obspy.clients.fdsn.mass_downloader - INFO: Client 'GEONET' - Will attempt to download data from 1 stations.\n",
      "[2021-11-25 00:52:51,952] - obspy.clients.fdsn.mass_downloader - INFO: Client 'GEONET' - Status for 1 time intervals/channels before downloading: NEEDS_DOWNLOADING\n",
      "[2021-11-25 00:52:52,862] - obspy.clients.fdsn.mass_downloader - INFO: Client 'GEONET' - Successfully downloaded 1 channels (of 1)\n",
      "[2021-11-25 00:52:52,869] - obspy.clients.fdsn.mass_downloader - INFO: Client 'GEONET' - Launching basic QC checks...\n",
      "[2021-11-25 00:52:52,876] - obspy.clients.fdsn.mass_downloader - INFO: Client 'GEONET' - Downloaded 0.0 MB [4.42 KB/sec] of data, 0.0 MB of which were discarded afterwards.\n",
      "[2021-11-25 00:52:52,877] - obspy.clients.fdsn.mass_downloader - INFO: Client 'GEONET' - Status for 1 time intervals/channels after downloading: DOWNLOADED\n",
      "[2021-11-25 00:52:52,880] - obspy.clients.fdsn.mass_downloader - INFO: Client 'GEONET' - No station information to download.\n",
      "[2021-11-25 00:52:52,884] - obspy.clients.fdsn.mass_downloader - INFO: ============================== Final report\n",
      "[2021-11-25 00:52:52,886] - obspy.clients.fdsn.mass_downloader - INFO: 0 MiniSEED files [0.0 MB] already existed.\n",
      "[2021-11-25 00:52:52,886] - obspy.clients.fdsn.mass_downloader - INFO: 1 StationXML files [0.0 MB] already existed.\n",
      "[2021-11-25 00:52:52,887] - obspy.clients.fdsn.mass_downloader - INFO: Client 'GEONET' - Acquired 1 MiniSEED files [0.0 MB].\n",
      "[2021-11-25 00:52:52,887] - obspy.clients.fdsn.mass_downloader - INFO: Client 'GEONET' - Acquired 0 StationXML files [0.0 MB].\n",
      "[2021-11-25 00:52:52,888] - obspy.clients.fdsn.mass_downloader - INFO: Downloaded 0.0 MB in total.\n",
      "[2021-11-25 00:52:52,896] - obspy.clients.fdsn.mass_downloader - INFO: Initializing FDSN client(s) for GEONET.\n",
      "[2021-11-25 00:52:52,910] - obspy.clients.fdsn.mass_downloader - INFO: Successfully initialized 1 client(s): GEONET.\n",
      "[2021-11-25 00:52:52,911] - obspy.clients.fdsn.mass_downloader - INFO: Total acquired or preexisting stations: 0\n",
      "[2021-11-25 00:52:52,912] - obspy.clients.fdsn.mass_downloader - INFO: Client 'GEONET' - Requesting unreliable availability.\n"
     ]
    },
    {
     "name": "stdout",
     "output_type": "stream",
     "text": [
      "=================================================================\n",
      "Initiating mass download request.\n"
     ]
    },
    {
     "name": "stderr",
     "output_type": "stream",
     "text": [
      "[2021-11-25 00:52:53,579] - obspy.clients.fdsn.mass_downloader - INFO: Client 'GEONET' - Successfully requested availability (0.67 seconds)\n",
      "[2021-11-25 00:52:53,582] - obspy.clients.fdsn.mass_downloader - INFO: Client 'GEONET' - Found 1 stations (1 channels).\n",
      "[2021-11-25 00:52:53,593] - obspy.clients.fdsn.mass_downloader - INFO: Client 'GEONET' - Will attempt to download data from 1 stations.\n",
      "[2021-11-25 00:52:53,599] - obspy.clients.fdsn.mass_downloader - INFO: Client 'GEONET' - Status for 1 time intervals/channels before downloading: NEEDS_DOWNLOADING\n",
      "[2021-11-25 00:52:54,479] - obspy.clients.fdsn.mass_downloader - INFO: Client 'GEONET' - Successfully downloaded 1 channels (of 1)\n",
      "[2021-11-25 00:52:54,482] - obspy.clients.fdsn.mass_downloader - INFO: Client 'GEONET' - Launching basic QC checks...\n",
      "[2021-11-25 00:52:54,486] - obspy.clients.fdsn.mass_downloader - INFO: Client 'GEONET' - Downloaded 0.0 MB [5.31 KB/sec] of data, 0.0 MB of which were discarded afterwards.\n",
      "[2021-11-25 00:52:54,486] - obspy.clients.fdsn.mass_downloader - INFO: Client 'GEONET' - Status for 1 time intervals/channels after downloading: DOWNLOADED\n",
      "[2021-11-25 00:52:54,488] - obspy.clients.fdsn.mass_downloader - INFO: Client 'GEONET' - No station information to download.\n",
      "[2021-11-25 00:52:54,489] - obspy.clients.fdsn.mass_downloader - INFO: ============================== Final report\n",
      "[2021-11-25 00:52:54,489] - obspy.clients.fdsn.mass_downloader - INFO: 0 MiniSEED files [0.0 MB] already existed.\n",
      "[2021-11-25 00:52:54,489] - obspy.clients.fdsn.mass_downloader - INFO: 1 StationXML files [0.0 MB] already existed.\n",
      "[2021-11-25 00:52:54,490] - obspy.clients.fdsn.mass_downloader - INFO: Client 'GEONET' - Acquired 1 MiniSEED files [0.0 MB].\n",
      "[2021-11-25 00:52:54,490] - obspy.clients.fdsn.mass_downloader - INFO: Client 'GEONET' - Acquired 0 StationXML files [0.0 MB].\n",
      "[2021-11-25 00:52:54,490] - obspy.clients.fdsn.mass_downloader - INFO: Downloaded 0.0 MB in total.\n",
      "[2021-11-25 00:52:54,492] - obspy.clients.fdsn.mass_downloader - INFO: Initializing FDSN client(s) for GEONET.\n",
      "[2021-11-25 00:52:54,497] - obspy.clients.fdsn.mass_downloader - INFO: Successfully initialized 1 client(s): GEONET.\n",
      "[2021-11-25 00:52:54,497] - obspy.clients.fdsn.mass_downloader - INFO: Total acquired or preexisting stations: 0\n",
      "[2021-11-25 00:52:54,497] - obspy.clients.fdsn.mass_downloader - INFO: Client 'GEONET' - Requesting unreliable availability.\n"
     ]
    },
    {
     "name": "stdout",
     "output_type": "stream",
     "text": [
      "=================================================================\n",
      "Initiating mass download request.\n"
     ]
    },
    {
     "name": "stderr",
     "output_type": "stream",
     "text": [
      "[2021-11-25 00:52:55,193] - obspy.clients.fdsn.mass_downloader - INFO: Client 'GEONET' - Successfully requested availability (0.69 seconds)\n",
      "[2021-11-25 00:52:55,223] - obspy.clients.fdsn.mass_downloader - INFO: Client 'GEONET' - Found 1 stations (1 channels).\n",
      "[2021-11-25 00:52:55,231] - obspy.clients.fdsn.mass_downloader - INFO: Client 'GEONET' - Will attempt to download data from 1 stations.\n",
      "[2021-11-25 00:52:55,237] - obspy.clients.fdsn.mass_downloader - INFO: Client 'GEONET' - Status for 1 time intervals/channels before downloading: NEEDS_DOWNLOADING\n",
      "[2021-11-25 00:52:56,067] - obspy.clients.fdsn.mass_downloader - INFO: Client 'GEONET' - Successfully downloaded 1 channels (of 1)\n",
      "[2021-11-25 00:52:56,100] - obspy.clients.fdsn.mass_downloader - INFO: Client 'GEONET' - Launching basic QC checks...\n",
      "[2021-11-25 00:52:56,131] - obspy.clients.fdsn.mass_downloader - INFO: Client 'GEONET' - Downloaded 0.0 MB [5.43 KB/sec] of data, 0.0 MB of which were discarded afterwards.\n",
      "[2021-11-25 00:52:56,146] - obspy.clients.fdsn.mass_downloader - INFO: Client 'GEONET' - Status for 1 time intervals/channels after downloading: DOWNLOADED\n",
      "[2021-11-25 00:52:56,163] - obspy.clients.fdsn.mass_downloader - INFO: Client 'GEONET' - No station information to download.\n",
      "[2021-11-25 00:52:56,168] - obspy.clients.fdsn.mass_downloader - INFO: ============================== Final report\n",
      "[2021-11-25 00:52:56,174] - obspy.clients.fdsn.mass_downloader - INFO: 0 MiniSEED files [0.0 MB] already existed.\n",
      "[2021-11-25 00:52:56,174] - obspy.clients.fdsn.mass_downloader - INFO: 1 StationXML files [0.0 MB] already existed.\n",
      "[2021-11-25 00:52:56,177] - obspy.clients.fdsn.mass_downloader - INFO: Client 'GEONET' - Acquired 1 MiniSEED files [0.0 MB].\n",
      "[2021-11-25 00:52:56,181] - obspy.clients.fdsn.mass_downloader - INFO: Client 'GEONET' - Acquired 0 StationXML files [0.0 MB].\n",
      "[2021-11-25 00:52:56,182] - obspy.clients.fdsn.mass_downloader - INFO: Downloaded 0.0 MB in total.\n",
      "[2021-11-25 00:52:56,215] - obspy.clients.fdsn.mass_downloader - INFO: Initializing FDSN client(s) for GEONET.\n",
      "[2021-11-25 00:52:56,258] - obspy.clients.fdsn.mass_downloader - INFO: Successfully initialized 1 client(s): GEONET.\n",
      "[2021-11-25 00:52:56,259] - obspy.clients.fdsn.mass_downloader - INFO: Total acquired or preexisting stations: 0\n",
      "[2021-11-25 00:52:56,264] - obspy.clients.fdsn.mass_downloader - INFO: Client 'GEONET' - Requesting unreliable availability.\n"
     ]
    },
    {
     "name": "stdout",
     "output_type": "stream",
     "text": [
      "=================================================================\n",
      "Initiating mass download request.\n"
     ]
    },
    {
     "name": "stderr",
     "output_type": "stream",
     "text": [
      "[2021-11-25 00:52:56,913] - obspy.clients.fdsn.mass_downloader - INFO: Client 'GEONET' - Successfully requested availability (0.64 seconds)\n",
      "[2021-11-25 00:52:56,947] - obspy.clients.fdsn.mass_downloader - INFO: Client 'GEONET' - Found 1 stations (1 channels).\n",
      "[2021-11-25 00:52:56,949] - obspy.clients.fdsn.mass_downloader - INFO: Client 'GEONET' - Will attempt to download data from 1 stations.\n",
      "[2021-11-25 00:52:56,954] - obspy.clients.fdsn.mass_downloader - INFO: Client 'GEONET' - Status for 1 time intervals/channels before downloading: NEEDS_DOWNLOADING\n",
      "[2021-11-25 00:52:57,909] - obspy.clients.fdsn.mass_downloader - INFO: Client 'GEONET' - Successfully downloaded 1 channels (of 1)\n",
      "[2021-11-25 00:52:57,989] - obspy.clients.fdsn.mass_downloader - INFO: Client 'GEONET' - Launching basic QC checks...\n",
      "[2021-11-25 00:52:58,038] - obspy.clients.fdsn.mass_downloader - INFO: Client 'GEONET' - Downloaded 0.0 MB [5.87 KB/sec] of data, 0.0 MB of which were discarded afterwards.\n",
      "[2021-11-25 00:52:58,050] - obspy.clients.fdsn.mass_downloader - INFO: Client 'GEONET' - Status for 1 time intervals/channels after downloading: DOWNLOADED\n",
      "[2021-11-25 00:52:58,061] - obspy.clients.fdsn.mass_downloader - INFO: Client 'GEONET' - No station information to download.\n",
      "[2021-11-25 00:52:58,072] - obspy.clients.fdsn.mass_downloader - INFO: ============================== Final report\n",
      "[2021-11-25 00:52:58,075] - obspy.clients.fdsn.mass_downloader - INFO: 0 MiniSEED files [0.0 MB] already existed.\n",
      "[2021-11-25 00:52:58,085] - obspy.clients.fdsn.mass_downloader - INFO: 1 StationXML files [0.0 MB] already existed.\n",
      "[2021-11-25 00:52:58,089] - obspy.clients.fdsn.mass_downloader - INFO: Client 'GEONET' - Acquired 1 MiniSEED files [0.0 MB].\n",
      "[2021-11-25 00:52:58,091] - obspy.clients.fdsn.mass_downloader - INFO: Client 'GEONET' - Acquired 0 StationXML files [0.0 MB].\n",
      "[2021-11-25 00:52:58,093] - obspy.clients.fdsn.mass_downloader - INFO: Downloaded 0.0 MB in total.\n",
      "[2021-11-25 00:52:58,113] - obspy.clients.fdsn.mass_downloader - INFO: Initializing FDSN client(s) for GEONET.\n",
      "[2021-11-25 00:52:58,141] - obspy.clients.fdsn.mass_downloader - INFO: Successfully initialized 1 client(s): GEONET.\n",
      "[2021-11-25 00:52:58,150] - obspy.clients.fdsn.mass_downloader - INFO: Total acquired or preexisting stations: 0\n",
      "[2021-11-25 00:52:58,153] - obspy.clients.fdsn.mass_downloader - INFO: Client 'GEONET' - Requesting unreliable availability.\n"
     ]
    },
    {
     "name": "stdout",
     "output_type": "stream",
     "text": [
      "=================================================================\n",
      "Initiating mass download request.\n"
     ]
    },
    {
     "name": "stderr",
     "output_type": "stream",
     "text": [
      "[2021-11-25 00:52:58,763] - obspy.clients.fdsn.mass_downloader - INFO: Client 'GEONET' - Successfully requested availability (0.61 seconds)\n",
      "[2021-11-25 00:52:58,775] - obspy.clients.fdsn.mass_downloader - INFO: Client 'GEONET' - Found 1 stations (1 channels).\n",
      "[2021-11-25 00:52:58,780] - obspy.clients.fdsn.mass_downloader - INFO: Client 'GEONET' - Will attempt to download data from 1 stations.\n",
      "[2021-11-25 00:52:58,801] - obspy.clients.fdsn.mass_downloader - INFO: Client 'GEONET' - Status for 1 time intervals/channels before downloading: NEEDS_DOWNLOADING\n",
      "[2021-11-25 00:52:59,612] - obspy.clients.fdsn.mass_downloader - INFO: Client 'GEONET' - Successfully downloaded 1 channels (of 1)\n",
      "[2021-11-25 00:52:59,618] - obspy.clients.fdsn.mass_downloader - INFO: Client 'GEONET' - Launching basic QC checks...\n",
      "[2021-11-25 00:52:59,626] - obspy.clients.fdsn.mass_downloader - INFO: Client 'GEONET' - Downloaded 0.0 MB [5.64 KB/sec] of data, 0.0 MB of which were discarded afterwards.\n",
      "[2021-11-25 00:52:59,626] - obspy.clients.fdsn.mass_downloader - INFO: Client 'GEONET' - Status for 1 time intervals/channels after downloading: DOWNLOADED\n",
      "[2021-11-25 00:52:59,636] - obspy.clients.fdsn.mass_downloader - INFO: Client 'GEONET' - No station information to download.\n",
      "[2021-11-25 00:52:59,637] - obspy.clients.fdsn.mass_downloader - INFO: ============================== Final report\n",
      "[2021-11-25 00:52:59,637] - obspy.clients.fdsn.mass_downloader - INFO: 0 MiniSEED files [0.0 MB] already existed.\n",
      "[2021-11-25 00:52:59,639] - obspy.clients.fdsn.mass_downloader - INFO: 1 StationXML files [0.0 MB] already existed.\n",
      "[2021-11-25 00:52:59,641] - obspy.clients.fdsn.mass_downloader - INFO: Client 'GEONET' - Acquired 1 MiniSEED files [0.0 MB].\n",
      "[2021-11-25 00:52:59,641] - obspy.clients.fdsn.mass_downloader - INFO: Client 'GEONET' - Acquired 0 StationXML files [0.0 MB].\n",
      "[2021-11-25 00:52:59,643] - obspy.clients.fdsn.mass_downloader - INFO: Downloaded 0.0 MB in total.\n",
      "[2021-11-25 00:52:59,656] - obspy.clients.fdsn.mass_downloader - INFO: Initializing FDSN client(s) for GEONET.\n",
      "[2021-11-25 00:52:59,665] - obspy.clients.fdsn.mass_downloader - INFO: Successfully initialized 1 client(s): GEONET.\n",
      "[2021-11-25 00:52:59,668] - obspy.clients.fdsn.mass_downloader - INFO: Total acquired or preexisting stations: 0\n",
      "[2021-11-25 00:52:59,670] - obspy.clients.fdsn.mass_downloader - INFO: Client 'GEONET' - Requesting unreliable availability.\n"
     ]
    },
    {
     "name": "stdout",
     "output_type": "stream",
     "text": [
      "=================================================================\n",
      "Initiating mass download request.\n"
     ]
    },
    {
     "name": "stderr",
     "output_type": "stream",
     "text": [
      "[2021-11-25 00:53:00,288] - obspy.clients.fdsn.mass_downloader - INFO: Client 'GEONET' - Successfully requested availability (0.62 seconds)\n",
      "[2021-11-25 00:53:00,326] - obspy.clients.fdsn.mass_downloader - INFO: Client 'GEONET' - Found 1 stations (1 channels).\n",
      "[2021-11-25 00:53:00,334] - obspy.clients.fdsn.mass_downloader - INFO: Client 'GEONET' - Will attempt to download data from 1 stations.\n",
      "[2021-11-25 00:53:00,346] - obspy.clients.fdsn.mass_downloader - INFO: Client 'GEONET' - Status for 1 time intervals/channels before downloading: NEEDS_DOWNLOADING\n",
      "[2021-11-25 00:53:01,371] - obspy.clients.fdsn.mass_downloader - INFO: Client 'GEONET' - Successfully downloaded 1 channels (of 1)\n",
      "[2021-11-25 00:53:01,421] - obspy.clients.fdsn.mass_downloader - INFO: Client 'GEONET' - Launching basic QC checks...\n",
      "[2021-11-25 00:53:01,449] - obspy.clients.fdsn.mass_downloader - INFO: Client 'GEONET' - Downloaded 0.0 MB [3.88 KB/sec] of data, 0.0 MB of which were discarded afterwards.\n",
      "[2021-11-25 00:53:01,456] - obspy.clients.fdsn.mass_downloader - INFO: Client 'GEONET' - Status for 1 time intervals/channels after downloading: DOWNLOADED\n",
      "[2021-11-25 00:53:01,472] - obspy.clients.fdsn.mass_downloader - INFO: Client 'GEONET' - No station information to download.\n",
      "[2021-11-25 00:53:01,484] - obspy.clients.fdsn.mass_downloader - INFO: ============================== Final report\n",
      "[2021-11-25 00:53:01,486] - obspy.clients.fdsn.mass_downloader - INFO: 0 MiniSEED files [0.0 MB] already existed.\n",
      "[2021-11-25 00:53:01,494] - obspy.clients.fdsn.mass_downloader - INFO: 1 StationXML files [0.0 MB] already existed.\n",
      "[2021-11-25 00:53:01,502] - obspy.clients.fdsn.mass_downloader - INFO: Client 'GEONET' - Acquired 1 MiniSEED files [0.0 MB].\n",
      "[2021-11-25 00:53:01,502] - obspy.clients.fdsn.mass_downloader - INFO: Client 'GEONET' - Acquired 0 StationXML files [0.0 MB].\n",
      "[2021-11-25 00:53:01,506] - obspy.clients.fdsn.mass_downloader - INFO: Downloaded 0.0 MB in total.\n",
      "[2021-11-25 00:53:01,515] - obspy.clients.fdsn.mass_downloader - INFO: Initializing FDSN client(s) for GEONET.\n",
      "[2021-11-25 00:53:01,529] - obspy.clients.fdsn.mass_downloader - INFO: Successfully initialized 1 client(s): GEONET.\n",
      "[2021-11-25 00:53:01,540] - obspy.clients.fdsn.mass_downloader - INFO: Total acquired or preexisting stations: 0\n",
      "[2021-11-25 00:53:01,546] - obspy.clients.fdsn.mass_downloader - INFO: Client 'GEONET' - Requesting unreliable availability.\n"
     ]
    },
    {
     "name": "stdout",
     "output_type": "stream",
     "text": [
      "=================================================================\n",
      "Initiating mass download request.\n"
     ]
    },
    {
     "name": "stderr",
     "output_type": "stream",
     "text": [
      "[2021-11-25 00:53:02,318] - obspy.clients.fdsn.mass_downloader - INFO: Client 'GEONET' - Successfully requested availability (0.77 seconds)\n",
      "[2021-11-25 00:53:02,322] - obspy.clients.fdsn.mass_downloader - INFO: Client 'GEONET' - Found 1 stations (1 channels).\n",
      "[2021-11-25 00:53:02,332] - obspy.clients.fdsn.mass_downloader - INFO: Client 'GEONET' - Will attempt to download data from 1 stations.\n",
      "[2021-11-25 00:53:02,339] - obspy.clients.fdsn.mass_downloader - INFO: Client 'GEONET' - Status for 1 time intervals/channels before downloading: NEEDS_DOWNLOADING\n",
      "[2021-11-25 00:53:03,274] - obspy.clients.fdsn.mass_downloader - INFO: Client 'GEONET' - Successfully downloaded 1 channels (of 1)\n",
      "[2021-11-25 00:53:03,281] - obspy.clients.fdsn.mass_downloader - INFO: Client 'GEONET' - Launching basic QC checks...\n",
      "[2021-11-25 00:53:03,288] - obspy.clients.fdsn.mass_downloader - INFO: Client 'GEONET' - Downloaded 0.0 MB [3.37 KB/sec] of data, 0.0 MB of which were discarded afterwards.\n",
      "[2021-11-25 00:53:03,289] - obspy.clients.fdsn.mass_downloader - INFO: Client 'GEONET' - Status for 1 time intervals/channels after downloading: DOWNLOADED\n",
      "[2021-11-25 00:53:03,293] - obspy.clients.fdsn.mass_downloader - INFO: Client 'GEONET' - No station information to download.\n",
      "[2021-11-25 00:53:03,294] - obspy.clients.fdsn.mass_downloader - INFO: ============================== Final report\n",
      "[2021-11-25 00:53:03,294] - obspy.clients.fdsn.mass_downloader - INFO: 0 MiniSEED files [0.0 MB] already existed.\n",
      "[2021-11-25 00:53:03,295] - obspy.clients.fdsn.mass_downloader - INFO: 1 StationXML files [0.0 MB] already existed.\n",
      "[2021-11-25 00:53:03,295] - obspy.clients.fdsn.mass_downloader - INFO: Client 'GEONET' - Acquired 1 MiniSEED files [0.0 MB].\n",
      "[2021-11-25 00:53:03,296] - obspy.clients.fdsn.mass_downloader - INFO: Client 'GEONET' - Acquired 0 StationXML files [0.0 MB].\n",
      "[2021-11-25 00:53:03,296] - obspy.clients.fdsn.mass_downloader - INFO: Downloaded 0.0 MB in total.\n",
      "[2021-11-25 00:53:03,300] - obspy.clients.fdsn.mass_downloader - INFO: Initializing FDSN client(s) for GEONET.\n",
      "[2021-11-25 00:53:03,303] - obspy.clients.fdsn.mass_downloader - INFO: Successfully initialized 1 client(s): GEONET.\n",
      "[2021-11-25 00:53:03,304] - obspy.clients.fdsn.mass_downloader - INFO: Total acquired or preexisting stations: 0\n",
      "[2021-11-25 00:53:03,304] - obspy.clients.fdsn.mass_downloader - INFO: Client 'GEONET' - Requesting unreliable availability.\n"
     ]
    },
    {
     "name": "stdout",
     "output_type": "stream",
     "text": [
      "=================================================================\n",
      "Initiating mass download request.\n"
     ]
    },
    {
     "name": "stderr",
     "output_type": "stream",
     "text": [
      "[2021-11-25 00:53:03,898] - obspy.clients.fdsn.mass_downloader - INFO: Client 'GEONET' - Successfully requested availability (0.59 seconds)\n",
      "[2021-11-25 00:53:03,916] - obspy.clients.fdsn.mass_downloader - INFO: Client 'GEONET' - Found 1 stations (1 channels).\n",
      "[2021-11-25 00:53:03,920] - obspy.clients.fdsn.mass_downloader - INFO: Client 'GEONET' - Will attempt to download data from 1 stations.\n",
      "[2021-11-25 00:53:03,928] - obspy.clients.fdsn.mass_downloader - INFO: Client 'GEONET' - Status for 1 time intervals/channels before downloading: NEEDS_DOWNLOADING\n",
      "[2021-11-25 00:53:04,772] - obspy.clients.fdsn.mass_downloader - INFO: Client 'GEONET' - Successfully downloaded 1 channels (of 1)\n",
      "[2021-11-25 00:53:04,840] - obspy.clients.fdsn.mass_downloader - INFO: Client 'GEONET' - Launching basic QC checks...\n",
      "[2021-11-25 00:53:04,883] - obspy.clients.fdsn.mass_downloader - INFO: Client 'GEONET' - Downloaded 0.0 MB [5.59 KB/sec] of data, 0.0 MB of which were discarded afterwards.\n",
      "[2021-11-25 00:53:04,889] - obspy.clients.fdsn.mass_downloader - INFO: Client 'GEONET' - Status for 1 time intervals/channels after downloading: DOWNLOADED\n",
      "[2021-11-25 00:53:04,898] - obspy.clients.fdsn.mass_downloader - INFO: Client 'GEONET' - No station information to download.\n",
      "[2021-11-25 00:53:04,907] - obspy.clients.fdsn.mass_downloader - INFO: ============================== Final report\n",
      "[2021-11-25 00:53:04,911] - obspy.clients.fdsn.mass_downloader - INFO: 0 MiniSEED files [0.0 MB] already existed.\n",
      "[2021-11-25 00:53:04,922] - obspy.clients.fdsn.mass_downloader - INFO: 1 StationXML files [0.0 MB] already existed.\n",
      "[2021-11-25 00:53:04,923] - obspy.clients.fdsn.mass_downloader - INFO: Client 'GEONET' - Acquired 1 MiniSEED files [0.0 MB].\n",
      "[2021-11-25 00:53:04,923] - obspy.clients.fdsn.mass_downloader - INFO: Client 'GEONET' - Acquired 0 StationXML files [0.0 MB].\n",
      "[2021-11-25 00:53:04,924] - obspy.clients.fdsn.mass_downloader - INFO: Downloaded 0.0 MB in total.\n",
      "[2021-11-25 00:53:04,946] - obspy.clients.fdsn.mass_downloader - INFO: Initializing FDSN client(s) for GEONET.\n",
      "[2021-11-25 00:53:04,968] - obspy.clients.fdsn.mass_downloader - INFO: Successfully initialized 1 client(s): GEONET.\n",
      "[2021-11-25 00:53:04,970] - obspy.clients.fdsn.mass_downloader - INFO: Total acquired or preexisting stations: 0\n",
      "[2021-11-25 00:53:04,973] - obspy.clients.fdsn.mass_downloader - INFO: Client 'GEONET' - Requesting unreliable availability.\n"
     ]
    },
    {
     "name": "stdout",
     "output_type": "stream",
     "text": [
      "=================================================================\n",
      "Initiating mass download request.\n"
     ]
    },
    {
     "name": "stderr",
     "output_type": "stream",
     "text": [
      "[2021-11-25 00:53:05,656] - obspy.clients.fdsn.mass_downloader - INFO: Client 'GEONET' - Successfully requested availability (0.68 seconds)\n",
      "[2021-11-25 00:53:05,683] - obspy.clients.fdsn.mass_downloader - INFO: Client 'GEONET' - Found 1 stations (1 channels).\n",
      "[2021-11-25 00:53:05,698] - obspy.clients.fdsn.mass_downloader - INFO: Client 'GEONET' - Will attempt to download data from 1 stations.\n",
      "[2021-11-25 00:53:05,717] - obspy.clients.fdsn.mass_downloader - INFO: Client 'GEONET' - Status for 1 time intervals/channels before downloading: NEEDS_DOWNLOADING\n",
      "[2021-11-25 00:53:06,647] - obspy.clients.fdsn.mass_downloader - INFO: Client 'GEONET' - Successfully downloaded 1 channels (of 1)\n",
      "[2021-11-25 00:53:06,666] - obspy.clients.fdsn.mass_downloader - INFO: Client 'GEONET' - Launching basic QC checks...\n",
      "[2021-11-25 00:53:06,713] - obspy.clients.fdsn.mass_downloader - INFO: Client 'GEONET' - Downloaded 0.0 MB [4.47 KB/sec] of data, 0.0 MB of which were discarded afterwards.\n",
      "[2021-11-25 00:53:06,731] - obspy.clients.fdsn.mass_downloader - INFO: Client 'GEONET' - Status for 1 time intervals/channels after downloading: DOWNLOADED\n",
      "[2021-11-25 00:53:06,743] - obspy.clients.fdsn.mass_downloader - INFO: Client 'GEONET' - No station information to download.\n",
      "[2021-11-25 00:53:06,747] - obspy.clients.fdsn.mass_downloader - INFO: ============================== Final report\n",
      "[2021-11-25 00:53:06,750] - obspy.clients.fdsn.mass_downloader - INFO: 0 MiniSEED files [0.0 MB] already existed.\n",
      "[2021-11-25 00:53:06,759] - obspy.clients.fdsn.mass_downloader - INFO: 1 StationXML files [0.0 MB] already existed.\n",
      "[2021-11-25 00:53:06,762] - obspy.clients.fdsn.mass_downloader - INFO: Client 'GEONET' - Acquired 1 MiniSEED files [0.0 MB].\n",
      "[2021-11-25 00:53:06,762] - obspy.clients.fdsn.mass_downloader - INFO: Client 'GEONET' - Acquired 0 StationXML files [0.0 MB].\n",
      "[2021-11-25 00:53:06,763] - obspy.clients.fdsn.mass_downloader - INFO: Downloaded 0.0 MB in total.\n",
      "[2021-11-25 00:53:06,772] - obspy.clients.fdsn.mass_downloader - INFO: Initializing FDSN client(s) for GEONET.\n",
      "[2021-11-25 00:53:06,844] - obspy.clients.fdsn.mass_downloader - INFO: Successfully initialized 1 client(s): GEONET.\n",
      "[2021-11-25 00:53:06,850] - obspy.clients.fdsn.mass_downloader - INFO: Total acquired or preexisting stations: 0\n",
      "[2021-11-25 00:53:06,864] - obspy.clients.fdsn.mass_downloader - INFO: Client 'GEONET' - Requesting unreliable availability.\n"
     ]
    },
    {
     "name": "stdout",
     "output_type": "stream",
     "text": [
      "=================================================================\n",
      "Initiating mass download request.\n"
     ]
    },
    {
     "name": "stderr",
     "output_type": "stream",
     "text": [
      "[2021-11-25 00:53:07,488] - obspy.clients.fdsn.mass_downloader - INFO: Client 'GEONET' - Successfully requested availability (0.62 seconds)\n",
      "[2021-11-25 00:53:07,506] - obspy.clients.fdsn.mass_downloader - INFO: Client 'GEONET' - Found 1 stations (1 channels).\n",
      "[2021-11-25 00:53:07,520] - obspy.clients.fdsn.mass_downloader - INFO: Client 'GEONET' - Will attempt to download data from 1 stations.\n",
      "[2021-11-25 00:53:07,532] - obspy.clients.fdsn.mass_downloader - INFO: Client 'GEONET' - Status for 1 time intervals/channels before downloading: NEEDS_DOWNLOADING\n",
      "[2021-11-25 00:53:08,395] - obspy.clients.fdsn.mass_downloader - INFO: Client 'GEONET' - Successfully downloaded 1 channels (of 1)\n",
      "[2021-11-25 00:53:08,407] - obspy.clients.fdsn.mass_downloader - INFO: Client 'GEONET' - Launching basic QC checks...\n",
      "[2021-11-25 00:53:08,419] - obspy.clients.fdsn.mass_downloader - INFO: Client 'GEONET' - Downloaded 0.0 MB [4.36 KB/sec] of data, 0.0 MB of which were discarded afterwards.\n",
      "[2021-11-25 00:53:08,420] - obspy.clients.fdsn.mass_downloader - INFO: Client 'GEONET' - Status for 1 time intervals/channels after downloading: DOWNLOADED\n",
      "[2021-11-25 00:53:08,425] - obspy.clients.fdsn.mass_downloader - INFO: Client 'GEONET' - No station information to download.\n",
      "[2021-11-25 00:53:08,426] - obspy.clients.fdsn.mass_downloader - INFO: ============================== Final report\n",
      "[2021-11-25 00:53:08,427] - obspy.clients.fdsn.mass_downloader - INFO: 0 MiniSEED files [0.0 MB] already existed.\n",
      "[2021-11-25 00:53:08,427] - obspy.clients.fdsn.mass_downloader - INFO: 1 StationXML files [0.0 MB] already existed.\n",
      "[2021-11-25 00:53:08,427] - obspy.clients.fdsn.mass_downloader - INFO: Client 'GEONET' - Acquired 1 MiniSEED files [0.0 MB].\n",
      "[2021-11-25 00:53:08,428] - obspy.clients.fdsn.mass_downloader - INFO: Client 'GEONET' - Acquired 0 StationXML files [0.0 MB].\n",
      "[2021-11-25 00:53:08,428] - obspy.clients.fdsn.mass_downloader - INFO: Downloaded 0.0 MB in total.\n",
      "[2021-11-25 00:53:08,436] - obspy.clients.fdsn.mass_downloader - INFO: Initializing FDSN client(s) for GEONET.\n",
      "[2021-11-25 00:53:08,443] - obspy.clients.fdsn.mass_downloader - INFO: Successfully initialized 1 client(s): GEONET.\n",
      "[2021-11-25 00:53:08,444] - obspy.clients.fdsn.mass_downloader - INFO: Total acquired or preexisting stations: 0\n",
      "[2021-11-25 00:53:08,444] - obspy.clients.fdsn.mass_downloader - INFO: Client 'GEONET' - Requesting unreliable availability.\n"
     ]
    },
    {
     "name": "stdout",
     "output_type": "stream",
     "text": [
      "=================================================================\n",
      "Initiating mass download request.\n"
     ]
    },
    {
     "name": "stderr",
     "output_type": "stream",
     "text": [
      "[2021-11-25 00:53:09,007] - obspy.clients.fdsn.mass_downloader - INFO: Client 'GEONET' - Successfully requested availability (0.56 seconds)\n",
      "[2021-11-25 00:53:09,028] - obspy.clients.fdsn.mass_downloader - INFO: Client 'GEONET' - Found 1 stations (1 channels).\n",
      "[2021-11-25 00:53:09,037] - obspy.clients.fdsn.mass_downloader - INFO: Client 'GEONET' - Will attempt to download data from 1 stations.\n",
      "[2021-11-25 00:53:09,039] - obspy.clients.fdsn.mass_downloader - INFO: Client 'GEONET' - Status for 1 time intervals/channels before downloading: NEEDS_DOWNLOADING\n",
      "[2021-11-25 00:53:09,993] - obspy.clients.fdsn.mass_downloader - INFO: Client 'GEONET' - Successfully downloaded 1 channels (of 1)\n",
      "[2021-11-25 00:53:10,043] - obspy.clients.fdsn.mass_downloader - INFO: Client 'GEONET' - Launching basic QC checks...\n",
      "[2021-11-25 00:53:10,084] - obspy.clients.fdsn.mass_downloader - INFO: Client 'GEONET' - Downloaded 0.0 MB [4.06 KB/sec] of data, 0.0 MB of which were discarded afterwards.\n",
      "[2021-11-25 00:53:10,091] - obspy.clients.fdsn.mass_downloader - INFO: Client 'GEONET' - Status for 1 time intervals/channels after downloading: DOWNLOADED\n",
      "[2021-11-25 00:53:10,103] - obspy.clients.fdsn.mass_downloader - INFO: Client 'GEONET' - No station information to download.\n",
      "[2021-11-25 00:53:10,109] - obspy.clients.fdsn.mass_downloader - INFO: ============================== Final report\n",
      "[2021-11-25 00:53:10,121] - obspy.clients.fdsn.mass_downloader - INFO: 0 MiniSEED files [0.0 MB] already existed.\n",
      "[2021-11-25 00:53:10,131] - obspy.clients.fdsn.mass_downloader - INFO: 1 StationXML files [0.0 MB] already existed.\n",
      "[2021-11-25 00:53:10,136] - obspy.clients.fdsn.mass_downloader - INFO: Client 'GEONET' - Acquired 1 MiniSEED files [0.0 MB].\n",
      "[2021-11-25 00:53:10,137] - obspy.clients.fdsn.mass_downloader - INFO: Client 'GEONET' - Acquired 0 StationXML files [0.0 MB].\n",
      "[2021-11-25 00:53:10,137] - obspy.clients.fdsn.mass_downloader - INFO: Downloaded 0.0 MB in total.\n",
      "[2021-11-25 00:53:10,150] - obspy.clients.fdsn.mass_downloader - INFO: Initializing FDSN client(s) for GEONET.\n",
      "[2021-11-25 00:53:10,179] - obspy.clients.fdsn.mass_downloader - INFO: Successfully initialized 1 client(s): GEONET.\n",
      "[2021-11-25 00:53:10,184] - obspy.clients.fdsn.mass_downloader - INFO: Total acquired or preexisting stations: 0\n",
      "[2021-11-25 00:53:10,187] - obspy.clients.fdsn.mass_downloader - INFO: Client 'GEONET' - Requesting unreliable availability.\n"
     ]
    },
    {
     "name": "stdout",
     "output_type": "stream",
     "text": [
      "=================================================================\n",
      "Initiating mass download request.\n"
     ]
    },
    {
     "name": "stderr",
     "output_type": "stream",
     "text": [
      "[2021-11-25 00:53:10,761] - obspy.clients.fdsn.mass_downloader - INFO: Client 'GEONET' - Successfully requested availability (0.57 seconds)\n",
      "[2021-11-25 00:53:10,789] - obspy.clients.fdsn.mass_downloader - INFO: Client 'GEONET' - Found 1 stations (1 channels).\n",
      "[2021-11-25 00:53:10,798] - obspy.clients.fdsn.mass_downloader - INFO: Client 'GEONET' - Will attempt to download data from 1 stations.\n",
      "[2021-11-25 00:53:10,805] - obspy.clients.fdsn.mass_downloader - INFO: Client 'GEONET' - Status for 1 time intervals/channels before downloading: NEEDS_DOWNLOADING\n",
      "[2021-11-25 00:53:11,674] - obspy.clients.fdsn.mass_downloader - INFO: Client 'GEONET' - Successfully downloaded 1 channels (of 1)\n",
      "[2021-11-25 00:53:11,709] - obspy.clients.fdsn.mass_downloader - INFO: Client 'GEONET' - Launching basic QC checks...\n",
      "[2021-11-25 00:53:11,776] - obspy.clients.fdsn.mass_downloader - INFO: Client 'GEONET' - Downloaded 0.0 MB [5.23 KB/sec] of data, 0.0 MB of which were discarded afterwards.\n",
      "[2021-11-25 00:53:11,788] - obspy.clients.fdsn.mass_downloader - INFO: Client 'GEONET' - Status for 1 time intervals/channels after downloading: DOWNLOADED\n",
      "[2021-11-25 00:53:11,798] - obspy.clients.fdsn.mass_downloader - INFO: Client 'GEONET' - No station information to download.\n",
      "[2021-11-25 00:53:11,812] - obspy.clients.fdsn.mass_downloader - INFO: ============================== Final report\n",
      "[2021-11-25 00:53:11,816] - obspy.clients.fdsn.mass_downloader - INFO: 0 MiniSEED files [0.0 MB] already existed.\n",
      "[2021-11-25 00:53:11,818] - obspy.clients.fdsn.mass_downloader - INFO: 1 StationXML files [0.0 MB] already existed.\n",
      "[2021-11-25 00:53:11,823] - obspy.clients.fdsn.mass_downloader - INFO: Client 'GEONET' - Acquired 1 MiniSEED files [0.0 MB].\n",
      "[2021-11-25 00:53:11,824] - obspy.clients.fdsn.mass_downloader - INFO: Client 'GEONET' - Acquired 0 StationXML files [0.0 MB].\n",
      "[2021-11-25 00:53:11,825] - obspy.clients.fdsn.mass_downloader - INFO: Downloaded 0.0 MB in total.\n",
      "[2021-11-25 00:53:11,844] - obspy.clients.fdsn.mass_downloader - INFO: Initializing FDSN client(s) for GEONET.\n",
      "[2021-11-25 00:53:11,881] - obspy.clients.fdsn.mass_downloader - INFO: Successfully initialized 1 client(s): GEONET.\n",
      "[2021-11-25 00:53:11,883] - obspy.clients.fdsn.mass_downloader - INFO: Total acquired or preexisting stations: 0\n",
      "[2021-11-25 00:53:11,887] - obspy.clients.fdsn.mass_downloader - INFO: Client 'GEONET' - Requesting unreliable availability.\n"
     ]
    },
    {
     "name": "stdout",
     "output_type": "stream",
     "text": [
      "=================================================================\n",
      "Initiating mass download request.\n"
     ]
    },
    {
     "name": "stderr",
     "output_type": "stream",
     "text": [
      "[2021-11-25 00:53:12,460] - obspy.clients.fdsn.mass_downloader - INFO: Client 'GEONET' - Successfully requested availability (0.57 seconds)\n",
      "[2021-11-25 00:53:12,479] - obspy.clients.fdsn.mass_downloader - INFO: Client 'GEONET' - Found 1 stations (1 channels).\n",
      "[2021-11-25 00:53:12,490] - obspy.clients.fdsn.mass_downloader - INFO: Client 'GEONET' - Will attempt to download data from 1 stations.\n",
      "[2021-11-25 00:53:12,495] - obspy.clients.fdsn.mass_downloader - INFO: Client 'GEONET' - Status for 1 time intervals/channels before downloading: NEEDS_DOWNLOADING\n",
      "[2021-11-25 00:53:13,431] - obspy.clients.fdsn.mass_downloader - INFO: Client 'GEONET' - Successfully downloaded 1 channels (of 1)\n",
      "[2021-11-25 00:53:13,458] - obspy.clients.fdsn.mass_downloader - INFO: Client 'GEONET' - Launching basic QC checks...\n",
      "[2021-11-25 00:53:13,473] - obspy.clients.fdsn.mass_downloader - INFO: Client 'GEONET' - Downloaded 0.0 MB [3.82 KB/sec] of data, 0.0 MB of which were discarded afterwards.\n",
      "[2021-11-25 00:53:13,475] - obspy.clients.fdsn.mass_downloader - INFO: Client 'GEONET' - Status for 1 time intervals/channels after downloading: DOWNLOADED\n",
      "[2021-11-25 00:53:13,485] - obspy.clients.fdsn.mass_downloader - INFO: Client 'GEONET' - No station information to download.\n",
      "[2021-11-25 00:53:13,489] - obspy.clients.fdsn.mass_downloader - INFO: ============================== Final report\n",
      "[2021-11-25 00:53:13,491] - obspy.clients.fdsn.mass_downloader - INFO: 0 MiniSEED files [0.0 MB] already existed.\n",
      "[2021-11-25 00:53:13,494] - obspy.clients.fdsn.mass_downloader - INFO: 1 StationXML files [0.0 MB] already existed.\n",
      "[2021-11-25 00:53:13,498] - obspy.clients.fdsn.mass_downloader - INFO: Client 'GEONET' - Acquired 1 MiniSEED files [0.0 MB].\n",
      "[2021-11-25 00:53:13,499] - obspy.clients.fdsn.mass_downloader - INFO: Client 'GEONET' - Acquired 0 StationXML files [0.0 MB].\n",
      "[2021-11-25 00:53:13,500] - obspy.clients.fdsn.mass_downloader - INFO: Downloaded 0.0 MB in total.\n",
      "[2021-11-25 00:53:13,508] - obspy.clients.fdsn.mass_downloader - INFO: Initializing FDSN client(s) for GEONET.\n",
      "[2021-11-25 00:53:13,522] - obspy.clients.fdsn.mass_downloader - INFO: Successfully initialized 1 client(s): GEONET.\n",
      "[2021-11-25 00:53:13,525] - obspy.clients.fdsn.mass_downloader - INFO: Total acquired or preexisting stations: 0\n",
      "[2021-11-25 00:53:13,526] - obspy.clients.fdsn.mass_downloader - INFO: Client 'GEONET' - Requesting unreliable availability.\n"
     ]
    },
    {
     "name": "stdout",
     "output_type": "stream",
     "text": [
      "=================================================================\n",
      "Initiating mass download request.\n"
     ]
    },
    {
     "name": "stderr",
     "output_type": "stream",
     "text": [
      "[2021-11-25 00:53:14,063] - obspy.clients.fdsn.mass_downloader - INFO: Client 'GEONET' - Successfully requested availability (0.54 seconds)\n",
      "[2021-11-25 00:53:14,094] - obspy.clients.fdsn.mass_downloader - INFO: Client 'GEONET' - Found 1 stations (1 channels).\n",
      "[2021-11-25 00:53:14,107] - obspy.clients.fdsn.mass_downloader - INFO: Client 'GEONET' - Will attempt to download data from 1 stations.\n",
      "[2021-11-25 00:53:14,113] - obspy.clients.fdsn.mass_downloader - INFO: Client 'GEONET' - Status for 1 time intervals/channels before downloading: NEEDS_DOWNLOADING\n",
      "[2021-11-25 00:53:14,960] - obspy.clients.fdsn.mass_downloader - INFO: Client 'GEONET' - Successfully downloaded 1 channels (of 1)\n",
      "[2021-11-25 00:53:15,002] - obspy.clients.fdsn.mass_downloader - INFO: Client 'GEONET' - Launching basic QC checks...\n",
      "[2021-11-25 00:53:15,051] - obspy.clients.fdsn.mass_downloader - INFO: Client 'GEONET' - Downloaded 0.0 MB [5.83 KB/sec] of data, 0.0 MB of which were discarded afterwards.\n",
      "[2021-11-25 00:53:15,056] - obspy.clients.fdsn.mass_downloader - INFO: Client 'GEONET' - Status for 1 time intervals/channels after downloading: DOWNLOADED\n",
      "[2021-11-25 00:53:15,079] - obspy.clients.fdsn.mass_downloader - INFO: Client 'GEONET' - No station information to download.\n",
      "[2021-11-25 00:53:15,108] - obspy.clients.fdsn.mass_downloader - INFO: ============================== Final report\n",
      "[2021-11-25 00:53:15,112] - obspy.clients.fdsn.mass_downloader - INFO: 0 MiniSEED files [0.0 MB] already existed.\n",
      "[2021-11-25 00:53:15,116] - obspy.clients.fdsn.mass_downloader - INFO: 1 StationXML files [0.0 MB] already existed.\n",
      "[2021-11-25 00:53:15,120] - obspy.clients.fdsn.mass_downloader - INFO: Client 'GEONET' - Acquired 1 MiniSEED files [0.0 MB].\n",
      "[2021-11-25 00:53:15,123] - obspy.clients.fdsn.mass_downloader - INFO: Client 'GEONET' - Acquired 0 StationXML files [0.0 MB].\n",
      "[2021-11-25 00:53:15,130] - obspy.clients.fdsn.mass_downloader - INFO: Downloaded 0.0 MB in total.\n",
      "[2021-11-25 00:53:15,189] - obspy.clients.fdsn.mass_downloader - INFO: Initializing FDSN client(s) for GEONET.\n",
      "[2021-11-25 00:53:15,242] - obspy.clients.fdsn.mass_downloader - INFO: Successfully initialized 1 client(s): GEONET.\n",
      "[2021-11-25 00:53:15,248] - obspy.clients.fdsn.mass_downloader - INFO: Total acquired or preexisting stations: 0\n",
      "[2021-11-25 00:53:15,254] - obspy.clients.fdsn.mass_downloader - INFO: Client 'GEONET' - Requesting unreliable availability.\n"
     ]
    },
    {
     "name": "stdout",
     "output_type": "stream",
     "text": [
      "=================================================================\n",
      "Initiating mass download request.\n"
     ]
    },
    {
     "name": "stderr",
     "output_type": "stream",
     "text": [
      "[2021-11-25 00:53:15,955] - obspy.clients.fdsn.mass_downloader - INFO: Client 'GEONET' - Successfully requested availability (0.70 seconds)\n",
      "[2021-11-25 00:53:15,983] - obspy.clients.fdsn.mass_downloader - INFO: Client 'GEONET' - Found 1 stations (1 channels).\n",
      "[2021-11-25 00:53:15,988] - obspy.clients.fdsn.mass_downloader - INFO: Client 'GEONET' - Will attempt to download data from 1 stations.\n",
      "[2021-11-25 00:53:15,994] - obspy.clients.fdsn.mass_downloader - INFO: Client 'GEONET' - Status for 1 time intervals/channels before downloading: NEEDS_DOWNLOADING\n",
      "[2021-11-25 00:53:16,904] - obspy.clients.fdsn.mass_downloader - INFO: Client 'GEONET' - Successfully downloaded 1 channels (of 1)\n",
      "[2021-11-25 00:53:16,960] - obspy.clients.fdsn.mass_downloader - INFO: Client 'GEONET' - Launching basic QC checks...\n",
      "[2021-11-25 00:53:17,011] - obspy.clients.fdsn.mass_downloader - INFO: Client 'GEONET' - Downloaded 0.0 MB [3.77 KB/sec] of data, 0.0 MB of which were discarded afterwards.\n",
      "[2021-11-25 00:53:17,027] - obspy.clients.fdsn.mass_downloader - INFO: Client 'GEONET' - Status for 1 time intervals/channels after downloading: DOWNLOADED\n",
      "[2021-11-25 00:53:17,042] - obspy.clients.fdsn.mass_downloader - INFO: Client 'GEONET' - No station information to download.\n",
      "[2021-11-25 00:53:17,051] - obspy.clients.fdsn.mass_downloader - INFO: ============================== Final report\n",
      "[2021-11-25 00:53:17,060] - obspy.clients.fdsn.mass_downloader - INFO: 0 MiniSEED files [0.0 MB] already existed.\n",
      "[2021-11-25 00:53:17,061] - obspy.clients.fdsn.mass_downloader - INFO: 1 StationXML files [0.0 MB] already existed.\n",
      "[2021-11-25 00:53:17,062] - obspy.clients.fdsn.mass_downloader - INFO: Client 'GEONET' - Acquired 1 MiniSEED files [0.0 MB].\n",
      "[2021-11-25 00:53:17,062] - obspy.clients.fdsn.mass_downloader - INFO: Client 'GEONET' - Acquired 0 StationXML files [0.0 MB].\n",
      "[2021-11-25 00:53:17,066] - obspy.clients.fdsn.mass_downloader - INFO: Downloaded 0.0 MB in total.\n",
      "[2021-11-25 00:53:17,089] - obspy.clients.fdsn.mass_downloader - INFO: Initializing FDSN client(s) for GEONET.\n",
      "[2021-11-25 00:53:17,121] - obspy.clients.fdsn.mass_downloader - INFO: Successfully initialized 1 client(s): GEONET.\n",
      "[2021-11-25 00:53:17,139] - obspy.clients.fdsn.mass_downloader - INFO: Total acquired or preexisting stations: 0\n",
      "[2021-11-25 00:53:17,143] - obspy.clients.fdsn.mass_downloader - INFO: Client 'GEONET' - Requesting unreliable availability.\n"
     ]
    },
    {
     "name": "stdout",
     "output_type": "stream",
     "text": [
      "=================================================================\n",
      "Initiating mass download request.\n"
     ]
    },
    {
     "name": "stderr",
     "output_type": "stream",
     "text": [
      "[2021-11-25 00:53:17,752] - obspy.clients.fdsn.mass_downloader - INFO: Client 'GEONET' - Successfully requested availability (0.60 seconds)\n",
      "[2021-11-25 00:53:17,768] - obspy.clients.fdsn.mass_downloader - INFO: Client 'GEONET' - Found 1 stations (1 channels).\n",
      "[2021-11-25 00:53:17,773] - obspy.clients.fdsn.mass_downloader - INFO: Client 'GEONET' - Will attempt to download data from 1 stations.\n",
      "[2021-11-25 00:53:17,777] - obspy.clients.fdsn.mass_downloader - INFO: Client 'GEONET' - Status for 1 time intervals/channels before downloading: NEEDS_DOWNLOADING\n",
      "[2021-11-25 00:53:18,682] - obspy.clients.fdsn.mass_downloader - INFO: Client 'GEONET' - Successfully downloaded 1 channels (of 1)\n",
      "[2021-11-25 00:53:18,701] - obspy.clients.fdsn.mass_downloader - INFO: Client 'GEONET' - Launching basic QC checks...\n",
      "[2021-11-25 00:53:18,735] - obspy.clients.fdsn.mass_downloader - INFO: Client 'GEONET' - Downloaded 0.0 MB [4.94 KB/sec] of data, 0.0 MB of which were discarded afterwards.\n",
      "[2021-11-25 00:53:18,736] - obspy.clients.fdsn.mass_downloader - INFO: Client 'GEONET' - Status for 1 time intervals/channels after downloading: DOWNLOADED\n",
      "[2021-11-25 00:53:18,742] - obspy.clients.fdsn.mass_downloader - INFO: Client 'GEONET' - No station information to download.\n",
      "[2021-11-25 00:53:18,749] - obspy.clients.fdsn.mass_downloader - INFO: ============================== Final report\n",
      "[2021-11-25 00:53:18,750] - obspy.clients.fdsn.mass_downloader - INFO: 0 MiniSEED files [0.0 MB] already existed.\n",
      "[2021-11-25 00:53:18,751] - obspy.clients.fdsn.mass_downloader - INFO: 1 StationXML files [0.0 MB] already existed.\n",
      "[2021-11-25 00:53:18,751] - obspy.clients.fdsn.mass_downloader - INFO: Client 'GEONET' - Acquired 1 MiniSEED files [0.0 MB].\n",
      "[2021-11-25 00:53:18,752] - obspy.clients.fdsn.mass_downloader - INFO: Client 'GEONET' - Acquired 0 StationXML files [0.0 MB].\n",
      "[2021-11-25 00:53:18,753] - obspy.clients.fdsn.mass_downloader - INFO: Downloaded 0.0 MB in total.\n",
      "[2021-11-25 00:53:18,761] - obspy.clients.fdsn.mass_downloader - INFO: Initializing FDSN client(s) for GEONET.\n",
      "[2021-11-25 00:53:18,781] - obspy.clients.fdsn.mass_downloader - INFO: Successfully initialized 1 client(s): GEONET.\n",
      "[2021-11-25 00:53:18,782] - obspy.clients.fdsn.mass_downloader - INFO: Total acquired or preexisting stations: 0\n",
      "[2021-11-25 00:53:18,783] - obspy.clients.fdsn.mass_downloader - INFO: Client 'GEONET' - Requesting unreliable availability.\n"
     ]
    },
    {
     "name": "stdout",
     "output_type": "stream",
     "text": [
      "=================================================================\n",
      "Initiating mass download request.\n"
     ]
    },
    {
     "name": "stderr",
     "output_type": "stream",
     "text": [
      "[2021-11-25 00:53:19,424] - obspy.clients.fdsn.mass_downloader - INFO: Client 'GEONET' - Successfully requested availability (0.64 seconds)\n",
      "[2021-11-25 00:53:19,459] - obspy.clients.fdsn.mass_downloader - INFO: Client 'GEONET' - Found 1 stations (1 channels).\n",
      "[2021-11-25 00:53:19,481] - obspy.clients.fdsn.mass_downloader - INFO: Client 'GEONET' - Will attempt to download data from 1 stations.\n",
      "[2021-11-25 00:53:19,513] - obspy.clients.fdsn.mass_downloader - INFO: Client 'GEONET' - Status for 1 time intervals/channels before downloading: NEEDS_DOWNLOADING\n",
      "[2021-11-25 00:53:20,405] - obspy.clients.fdsn.mass_downloader - INFO: Client 'GEONET' - Successfully downloaded 1 channels (of 1)\n",
      "[2021-11-25 00:53:20,501] - obspy.clients.fdsn.mass_downloader - INFO: Client 'GEONET' - Launching basic QC checks...\n",
      "[2021-11-25 00:53:20,571] - obspy.clients.fdsn.mass_downloader - INFO: Client 'GEONET' - Downloaded 0.0 MB [3.72 KB/sec] of data, 0.0 MB of which were discarded afterwards.\n",
      "[2021-11-25 00:53:20,577] - obspy.clients.fdsn.mass_downloader - INFO: Client 'GEONET' - Status for 1 time intervals/channels after downloading: DOWNLOADED\n",
      "[2021-11-25 00:53:20,595] - obspy.clients.fdsn.mass_downloader - INFO: Client 'GEONET' - No station information to download.\n",
      "[2021-11-25 00:53:20,610] - obspy.clients.fdsn.mass_downloader - INFO: ============================== Final report\n",
      "[2021-11-25 00:53:20,615] - obspy.clients.fdsn.mass_downloader - INFO: 0 MiniSEED files [0.0 MB] already existed.\n",
      "[2021-11-25 00:53:20,623] - obspy.clients.fdsn.mass_downloader - INFO: 1 StationXML files [0.0 MB] already existed.\n",
      "[2021-11-25 00:53:20,626] - obspy.clients.fdsn.mass_downloader - INFO: Client 'GEONET' - Acquired 1 MiniSEED files [0.0 MB].\n",
      "[2021-11-25 00:53:20,626] - obspy.clients.fdsn.mass_downloader - INFO: Client 'GEONET' - Acquired 0 StationXML files [0.0 MB].\n",
      "[2021-11-25 00:53:20,627] - obspy.clients.fdsn.mass_downloader - INFO: Downloaded 0.0 MB in total.\n",
      "[2021-11-25 00:53:20,659] - obspy.clients.fdsn.mass_downloader - INFO: Initializing FDSN client(s) for GEONET.\n",
      "[2021-11-25 00:53:20,698] - obspy.clients.fdsn.mass_downloader - INFO: Successfully initialized 1 client(s): GEONET.\n",
      "[2021-11-25 00:53:20,713] - obspy.clients.fdsn.mass_downloader - INFO: Total acquired or preexisting stations: 0\n",
      "[2021-11-25 00:53:20,715] - obspy.clients.fdsn.mass_downloader - INFO: Client 'GEONET' - Requesting unreliable availability.\n"
     ]
    },
    {
     "name": "stdout",
     "output_type": "stream",
     "text": [
      "=================================================================\n",
      "Initiating mass download request.\n"
     ]
    },
    {
     "name": "stderr",
     "output_type": "stream",
     "text": [
      "[2021-11-25 00:53:21,363] - obspy.clients.fdsn.mass_downloader - INFO: Client 'GEONET' - Successfully requested availability (0.65 seconds)\n",
      "[2021-11-25 00:53:21,411] - obspy.clients.fdsn.mass_downloader - INFO: Client 'GEONET' - Found 1 stations (1 channels).\n",
      "[2021-11-25 00:53:21,423] - obspy.clients.fdsn.mass_downloader - INFO: Client 'GEONET' - Will attempt to download data from 1 stations.\n",
      "[2021-11-25 00:53:21,441] - obspy.clients.fdsn.mass_downloader - INFO: Client 'GEONET' - Status for 1 time intervals/channels before downloading: NEEDS_DOWNLOADING\n",
      "[2021-11-25 00:53:22,462] - obspy.clients.fdsn.mass_downloader - INFO: Client 'GEONET' - Successfully downloaded 1 channels (of 1)\n",
      "[2021-11-25 00:53:22,593] - obspy.clients.fdsn.mass_downloader - INFO: Client 'GEONET' - Launching basic QC checks...\n",
      "[2021-11-25 00:53:22,688] - obspy.clients.fdsn.mass_downloader - INFO: Client 'GEONET' - Downloaded 0.0 MB [4.21 KB/sec] of data, 0.0 MB of which were discarded afterwards.\n",
      "[2021-11-25 00:53:22,692] - obspy.clients.fdsn.mass_downloader - INFO: Client 'GEONET' - Status for 1 time intervals/channels after downloading: DOWNLOADED\n",
      "[2021-11-25 00:53:22,730] - obspy.clients.fdsn.mass_downloader - INFO: Client 'GEONET' - No station information to download.\n",
      "[2021-11-25 00:53:22,757] - obspy.clients.fdsn.mass_downloader - INFO: ============================== Final report\n",
      "[2021-11-25 00:53:22,762] - obspy.clients.fdsn.mass_downloader - INFO: 0 MiniSEED files [0.0 MB] already existed.\n",
      "[2021-11-25 00:53:22,764] - obspy.clients.fdsn.mass_downloader - INFO: 1 StationXML files [0.0 MB] already existed.\n",
      "[2021-11-25 00:53:22,767] - obspy.clients.fdsn.mass_downloader - INFO: Client 'GEONET' - Acquired 1 MiniSEED files [0.0 MB].\n",
      "[2021-11-25 00:53:22,767] - obspy.clients.fdsn.mass_downloader - INFO: Client 'GEONET' - Acquired 0 StationXML files [0.0 MB].\n",
      "[2021-11-25 00:53:22,767] - obspy.clients.fdsn.mass_downloader - INFO: Downloaded 0.0 MB in total.\n",
      "[2021-11-25 00:53:22,790] - obspy.clients.fdsn.mass_downloader - INFO: Initializing FDSN client(s) for GEONET.\n",
      "[2021-11-25 00:53:22,839] - obspy.clients.fdsn.mass_downloader - INFO: Successfully initialized 1 client(s): GEONET.\n"
     ]
    }
   ],
   "source": [
    "import mpl_toolkits\n",
    "import matplotlib.pyplot as plt\n",
    "import pandas as pd\n",
    "import geopandas as gpd\n",
    "import numpy as np\n",
    "import pickle\n",
    "import os\n",
    "import logging\n",
    "from obspy import read\n",
    "\n",
    "\n",
    "from obspy.clients.fdsn.mass_downloader import RectangularDomain, Restrictions, MassDownloader\n",
    "from scipy import signal\n",
    "from obspy import UTCDateTime\n",
    "from obspy.clients.fdsn import Client as FDSN_Client\n",
    "from obspy import read_inventory\n",
    "from obspy.core.util import (BASEMAP_VERSION, CARTOPY_VERSION,\n",
    "                             MATPLOTLIB_VERSION, PROJ4_VERSION)\n",
    "\n",
    "events_df = pd.read_pickle('data/events_processed.pkl')\n",
    "stations_df = pd.read_pickle('data/stations_processed.pkl')\n",
    "\n",
    "events = events_df[(events_df.time > '2020-01-01') & (events_df.time < '2021-01-01')]\n",
    "events = events[3200:3500]\n",
    "\n",
    "\n",
    "def mass_data_downloader(start, stop, event_id, Station,\n",
    "                         Network='NZ', \n",
    "                         Channel='HHZ', \n",
    "                         Location=10\n",
    "                         ):\n",
    "    '''\n",
    "    This function uses the FDSN mass data downloader to automatically download\n",
    "    data from the XH network deployed on the RIS from Nov 2014 - Nov 2016.\n",
    "    More information on the Obspy mass downloader available at:\n",
    "    https://docs.obspy.org/packages/autogen/obspy.clients.fdsn.mass_downloader.html\n",
    "    Inputs:\n",
    "    start: \"YYYYMMDD\"\n",
    "    stop:  \"YYYYMMDD\"\n",
    "    Network: 2-character FDSN network code\n",
    "    Station: 2-character station code\n",
    "    Channel: 3-character channel code\n",
    "    Location: 10.\n",
    "    '''\n",
    "    print(\"=\" * 65)\n",
    "    print(\"Initiating mass download request.\")\n",
    "\n",
    "    domain = RectangularDomain(\n",
    "        minlatitude=-47.749,\n",
    "        maxlatitude=-33.779,\n",
    "        minlongitude=166.104,\n",
    "        maxlongitude=178.990\n",
    "    )\n",
    "\n",
    "    restrictions = Restrictions(\n",
    "        starttime = start,\n",
    "        endtime = stop,\n",
    "        #24 hr\n",
    "        chunklength_in_sec = 86400,\n",
    "        network = Network,\n",
    "        station = Station,\n",
    "        location = Location,\n",
    "        channel = Channel,\n",
    "        reject_channels_with_gaps = False,\n",
    "        minimum_length = 0.0,\n",
    "        minimum_interstation_distance_in_m = 100.0\n",
    "    )\n",
    "\n",
    "    mdl = MassDownloader(providers=['GEONET'])\n",
    "    mdl.download(\n",
    "        domain,\n",
    "        restrictions,\n",
    "        mseed_storage=f\"normal/waveforms/{event_id}\",\n",
    "        stationxml_storage=\"normal/stations\"\n",
    "    )\n",
    "\n",
    "    logger = logging.getLogger(\"obspy.clients.fdsn.mass_downloader\")\n",
    "    logger.setLevel(logging.DEBUG)\n",
    "    \n",
    "    \n",
    "for i, event in events.iterrows():\n",
    "    event_id = event.event_id\n",
    "    \n",
    "    for j, station in stations_df.iterrows():\n",
    "        event_time = event['time']\n",
    "        \n",
    "        start=event_time - 3000\n",
    "        end=event_time - 2970\n",
    "        mass_data_downloader(start, end, event_id, station.station_code)"
   ]
  },
  {
   "cell_type": "code",
   "execution_count": null,
   "id": "6e047e43",
   "metadata": {},
   "outputs": [],
   "source": []
  }
 ],
 "metadata": {
  "kernelspec": {
   "display_name": "Python 3",
   "language": "python",
   "name": "python3"
  },
  "language_info": {
   "codemirror_mode": {
    "name": "ipython",
    "version": 3
   },
   "file_extension": ".py",
   "mimetype": "text/x-python",
   "name": "python",
   "nbconvert_exporter": "python",
   "pygments_lexer": "ipython3",
   "version": "3.9.2"
  }
 },
 "nbformat": 4,
 "nbformat_minor": 5
}
