{
 "cells": [
  {
   "cell_type": "code",
   "execution_count": null,
   "id": "ea1a256a",
   "metadata": {},
   "outputs": [
    {
     "name": "stderr",
     "output_type": "stream",
     "text": [
      "[2021-11-25 00:44:25,860] - obspy.clients.fdsn.mass_downloader - INFO: Initializing FDSN client(s) for GEONET.\n",
      "[2021-11-25 00:44:25,974] - obspy.clients.fdsn.mass_downloader - INFO: Successfully initialized 1 client(s): GEONET.\n",
      "[2021-11-25 00:44:25,975] - obspy.clients.fdsn.mass_downloader - INFO: Total acquired or preexisting stations: 0\n",
      "[2021-11-25 00:44:25,975] - obspy.clients.fdsn.mass_downloader - INFO: Client 'GEONET' - Requesting unreliable availability.\n"
     ]
    },
    {
     "name": "stdout",
     "output_type": "stream",
     "text": [
      "=================================================================\n",
      "Initiating mass download request.\n"
     ]
    },
    {
     "name": "stderr",
     "output_type": "stream",
     "text": [
      "[2021-11-25 00:44:26,623] - obspy.clients.fdsn.mass_downloader - INFO: Client 'GEONET' - Successfully requested availability (0.65 seconds)\n",
      "[2021-11-25 00:44:26,623] - obspy.clients.fdsn.mass_downloader - INFO: Client 'GEONET' - Found 1 stations (1 channels).\n",
      "[2021-11-25 00:44:26,623] - obspy.clients.fdsn.mass_downloader - INFO: Client 'GEONET' - Will attempt to download data from 1 stations.\n",
      "[2021-11-25 00:44:26,624] - obspy.clients.fdsn.mass_downloader - INFO: Client 'GEONET' - Status for 1 time intervals/channels before downloading: NEEDS_DOWNLOADING\n",
      "[2021-11-25 00:44:27,862] - obspy.clients.fdsn.mass_downloader - INFO: Client 'GEONET' - Successfully downloaded 1 channels (of 1)\n",
      "[2021-11-25 00:44:27,864] - obspy.clients.fdsn.mass_downloader - INFO: Client 'GEONET' - Launching basic QC checks...\n",
      "[2021-11-25 00:44:27,889] - obspy.clients.fdsn.mass_downloader - INFO: Client 'GEONET' - Downloaded 0.0 MB [2.82 KB/sec] of data, 0.0 MB of which were discarded afterwards.\n",
      "[2021-11-25 00:44:27,889] - obspy.clients.fdsn.mass_downloader - INFO: Client 'GEONET' - Status for 1 time intervals/channels after downloading: DOWNLOADED\n",
      "[2021-11-25 00:44:27,895] - obspy.clients.fdsn.mass_downloader - INFO: Client 'GEONET' - No station information to download.\n",
      "[2021-11-25 00:44:27,896] - obspy.clients.fdsn.mass_downloader - INFO: ============================== Final report\n",
      "[2021-11-25 00:44:27,897] - obspy.clients.fdsn.mass_downloader - INFO: 0 MiniSEED files [0.0 MB] already existed.\n",
      "[2021-11-25 00:44:27,897] - obspy.clients.fdsn.mass_downloader - INFO: 1 StationXML files [0.0 MB] already existed.\n",
      "[2021-11-25 00:44:27,897] - obspy.clients.fdsn.mass_downloader - INFO: Client 'GEONET' - Acquired 1 MiniSEED files [0.0 MB].\n",
      "[2021-11-25 00:44:27,898] - obspy.clients.fdsn.mass_downloader - INFO: Client 'GEONET' - Acquired 0 StationXML files [0.0 MB].\n",
      "[2021-11-25 00:44:27,898] - obspy.clients.fdsn.mass_downloader - INFO: Downloaded 0.0 MB in total.\n",
      "[2021-11-25 00:44:27,904] - obspy.clients.fdsn.mass_downloader - INFO: Initializing FDSN client(s) for GEONET.\n",
      "[2021-11-25 00:44:27,912] - obspy.clients.fdsn.mass_downloader - INFO: Successfully initialized 1 client(s): GEONET.\n",
      "[2021-11-25 00:44:27,913] - obspy.clients.fdsn.mass_downloader - INFO: Total acquired or preexisting stations: 0\n",
      "[2021-11-25 00:44:27,913] - obspy.clients.fdsn.mass_downloader - INFO: Client 'GEONET' - Requesting unreliable availability.\n"
     ]
    },
    {
     "name": "stdout",
     "output_type": "stream",
     "text": [
      "=================================================================\n",
      "Initiating mass download request.\n"
     ]
    },
    {
     "name": "stderr",
     "output_type": "stream",
     "text": [
      "[2021-11-25 00:44:28,540] - obspy.clients.fdsn.mass_downloader - INFO: Client 'GEONET' - Successfully requested availability (0.63 seconds)\n",
      "[2021-11-25 00:44:28,542] - obspy.clients.fdsn.mass_downloader - INFO: Client 'GEONET' - Found 1 stations (1 channels).\n",
      "[2021-11-25 00:44:28,542] - obspy.clients.fdsn.mass_downloader - INFO: Client 'GEONET' - Will attempt to download data from 1 stations.\n",
      "[2021-11-25 00:44:28,543] - obspy.clients.fdsn.mass_downloader - INFO: Client 'GEONET' - Status for 1 time intervals/channels before downloading: NEEDS_DOWNLOADING\n",
      "[2021-11-25 00:44:29,829] - obspy.clients.fdsn.mass_downloader - INFO: Client 'GEONET' - Successfully downloaded 1 channels (of 1)\n",
      "[2021-11-25 00:44:29,832] - obspy.clients.fdsn.mass_downloader - INFO: Client 'GEONET' - Launching basic QC checks...\n",
      "[2021-11-25 00:44:29,840] - obspy.clients.fdsn.mass_downloader - INFO: Client 'GEONET' - Downloaded 0.0 MB [3.11 KB/sec] of data, 0.0 MB of which were discarded afterwards.\n",
      "[2021-11-25 00:44:29,840] - obspy.clients.fdsn.mass_downloader - INFO: Client 'GEONET' - Status for 1 time intervals/channels after downloading: DOWNLOADED\n",
      "[2021-11-25 00:44:29,845] - obspy.clients.fdsn.mass_downloader - INFO: Client 'GEONET' - No station information to download.\n",
      "[2021-11-25 00:44:29,848] - obspy.clients.fdsn.mass_downloader - INFO: ============================== Final report\n",
      "[2021-11-25 00:44:29,849] - obspy.clients.fdsn.mass_downloader - INFO: 0 MiniSEED files [0.0 MB] already existed.\n",
      "[2021-11-25 00:44:29,850] - obspy.clients.fdsn.mass_downloader - INFO: 1 StationXML files [0.0 MB] already existed.\n",
      "[2021-11-25 00:44:29,851] - obspy.clients.fdsn.mass_downloader - INFO: Client 'GEONET' - Acquired 1 MiniSEED files [0.0 MB].\n",
      "[2021-11-25 00:44:29,852] - obspy.clients.fdsn.mass_downloader - INFO: Client 'GEONET' - Acquired 0 StationXML files [0.0 MB].\n",
      "[2021-11-25 00:44:29,852] - obspy.clients.fdsn.mass_downloader - INFO: Downloaded 0.0 MB in total.\n",
      "[2021-11-25 00:44:29,854] - obspy.clients.fdsn.mass_downloader - INFO: Initializing FDSN client(s) for GEONET.\n",
      "[2021-11-25 00:44:29,860] - obspy.clients.fdsn.mass_downloader - INFO: Successfully initialized 1 client(s): GEONET.\n",
      "[2021-11-25 00:44:29,862] - obspy.clients.fdsn.mass_downloader - INFO: Total acquired or preexisting stations: 0\n",
      "[2021-11-25 00:44:29,864] - obspy.clients.fdsn.mass_downloader - INFO: Client 'GEONET' - Requesting unreliable availability.\n"
     ]
    },
    {
     "name": "stdout",
     "output_type": "stream",
     "text": [
      "=================================================================\n",
      "Initiating mass download request.\n"
     ]
    },
    {
     "name": "stderr",
     "output_type": "stream",
     "text": [
      "[2021-11-25 00:44:30,445] - obspy.clients.fdsn.mass_downloader - INFO: Client 'GEONET' - Successfully requested availability (0.58 seconds)\n",
      "[2021-11-25 00:44:30,446] - obspy.clients.fdsn.mass_downloader - INFO: Client 'GEONET' - Found 1 stations (1 channels).\n",
      "[2021-11-25 00:44:30,447] - obspy.clients.fdsn.mass_downloader - INFO: Client 'GEONET' - Will attempt to download data from 1 stations.\n",
      "[2021-11-25 00:44:30,448] - obspy.clients.fdsn.mass_downloader - INFO: Client 'GEONET' - Status for 1 time intervals/channels before downloading: NEEDS_DOWNLOADING\n",
      "[2021-11-25 00:44:31,453] - obspy.clients.fdsn.mass_downloader - INFO: Client 'GEONET' - Successfully downloaded 1 channels (of 1)\n",
      "[2021-11-25 00:44:31,455] - obspy.clients.fdsn.mass_downloader - INFO: Client 'GEONET' - Launching basic QC checks...\n",
      "[2021-11-25 00:44:31,459] - obspy.clients.fdsn.mass_downloader - INFO: Client 'GEONET' - Downloaded 0.0 MB [3.49 KB/sec] of data, 0.0 MB of which were discarded afterwards.\n",
      "[2021-11-25 00:44:31,460] - obspy.clients.fdsn.mass_downloader - INFO: Client 'GEONET' - Status for 1 time intervals/channels after downloading: DOWNLOADED\n",
      "[2021-11-25 00:44:31,462] - obspy.clients.fdsn.mass_downloader - INFO: Client 'GEONET' - No station information to download.\n",
      "[2021-11-25 00:44:31,463] - obspy.clients.fdsn.mass_downloader - INFO: ============================== Final report\n",
      "[2021-11-25 00:44:31,463] - obspy.clients.fdsn.mass_downloader - INFO: 0 MiniSEED files [0.0 MB] already existed.\n",
      "[2021-11-25 00:44:31,464] - obspy.clients.fdsn.mass_downloader - INFO: 1 StationXML files [0.0 MB] already existed.\n",
      "[2021-11-25 00:44:31,465] - obspy.clients.fdsn.mass_downloader - INFO: Client 'GEONET' - Acquired 1 MiniSEED files [0.0 MB].\n",
      "[2021-11-25 00:44:31,465] - obspy.clients.fdsn.mass_downloader - INFO: Client 'GEONET' - Acquired 0 StationXML files [0.0 MB].\n",
      "[2021-11-25 00:44:31,465] - obspy.clients.fdsn.mass_downloader - INFO: Downloaded 0.0 MB in total.\n",
      "[2021-11-25 00:44:31,469] - obspy.clients.fdsn.mass_downloader - INFO: Initializing FDSN client(s) for GEONET.\n",
      "[2021-11-25 00:44:31,472] - obspy.clients.fdsn.mass_downloader - INFO: Successfully initialized 1 client(s): GEONET.\n",
      "[2021-11-25 00:44:31,473] - obspy.clients.fdsn.mass_downloader - INFO: Total acquired or preexisting stations: 0\n",
      "[2021-11-25 00:44:31,474] - obspy.clients.fdsn.mass_downloader - INFO: Client 'GEONET' - Requesting unreliable availability.\n"
     ]
    },
    {
     "name": "stdout",
     "output_type": "stream",
     "text": [
      "=================================================================\n",
      "Initiating mass download request.\n"
     ]
    },
    {
     "name": "stderr",
     "output_type": "stream",
     "text": [
      "[2021-11-25 00:44:32,058] - obspy.clients.fdsn.mass_downloader - INFO: Client 'GEONET' - Successfully requested availability (0.58 seconds)\n",
      "[2021-11-25 00:44:32,060] - obspy.clients.fdsn.mass_downloader - INFO: Client 'GEONET' - Found 1 stations (1 channels).\n",
      "[2021-11-25 00:44:32,061] - obspy.clients.fdsn.mass_downloader - INFO: Client 'GEONET' - Will attempt to download data from 1 stations.\n",
      "[2021-11-25 00:44:32,062] - obspy.clients.fdsn.mass_downloader - INFO: Client 'GEONET' - Status for 1 time intervals/channels before downloading: NEEDS_DOWNLOADING\n",
      "[2021-11-25 00:44:32,973] - obspy.clients.fdsn.mass_downloader - INFO: Client 'GEONET' - Successfully downloaded 1 channels (of 1)\n",
      "[2021-11-25 00:44:32,976] - obspy.clients.fdsn.mass_downloader - INFO: Client 'GEONET' - Launching basic QC checks...\n",
      "[2021-11-25 00:44:32,981] - obspy.clients.fdsn.mass_downloader - INFO: Client 'GEONET' - Downloaded 0.0 MB [3.29 KB/sec] of data, 0.0 MB of which were discarded afterwards.\n",
      "[2021-11-25 00:44:32,982] - obspy.clients.fdsn.mass_downloader - INFO: Client 'GEONET' - Status for 1 time intervals/channels after downloading: DOWNLOADED\n",
      "[2021-11-25 00:44:32,985] - obspy.clients.fdsn.mass_downloader - INFO: Client 'GEONET' - No station information to download.\n",
      "[2021-11-25 00:44:32,985] - obspy.clients.fdsn.mass_downloader - INFO: ============================== Final report\n",
      "[2021-11-25 00:44:32,986] - obspy.clients.fdsn.mass_downloader - INFO: 0 MiniSEED files [0.0 MB] already existed.\n",
      "[2021-11-25 00:44:32,986] - obspy.clients.fdsn.mass_downloader - INFO: 1 StationXML files [0.0 MB] already existed.\n",
      "[2021-11-25 00:44:32,987] - obspy.clients.fdsn.mass_downloader - INFO: Client 'GEONET' - Acquired 1 MiniSEED files [0.0 MB].\n",
      "[2021-11-25 00:44:32,987] - obspy.clients.fdsn.mass_downloader - INFO: Client 'GEONET' - Acquired 0 StationXML files [0.0 MB].\n",
      "[2021-11-25 00:44:32,988] - obspy.clients.fdsn.mass_downloader - INFO: Downloaded 0.0 MB in total.\n",
      "[2021-11-25 00:44:32,989] - obspy.clients.fdsn.mass_downloader - INFO: Initializing FDSN client(s) for GEONET.\n",
      "[2021-11-25 00:44:32,996] - obspy.clients.fdsn.mass_downloader - INFO: Successfully initialized 1 client(s): GEONET.\n",
      "[2021-11-25 00:44:32,997] - obspy.clients.fdsn.mass_downloader - INFO: Total acquired or preexisting stations: 0\n",
      "[2021-11-25 00:44:32,997] - obspy.clients.fdsn.mass_downloader - INFO: Client 'GEONET' - Requesting unreliable availability.\n"
     ]
    },
    {
     "name": "stdout",
     "output_type": "stream",
     "text": [
      "=================================================================\n",
      "Initiating mass download request.\n"
     ]
    },
    {
     "name": "stderr",
     "output_type": "stream",
     "text": [
      "[2021-11-25 00:44:33,597] - obspy.clients.fdsn.mass_downloader - INFO: Client 'GEONET' - Successfully requested availability (0.60 seconds)\n",
      "[2021-11-25 00:44:33,599] - obspy.clients.fdsn.mass_downloader - INFO: Client 'GEONET' - Found 1 stations (1 channels).\n",
      "[2021-11-25 00:44:33,600] - obspy.clients.fdsn.mass_downloader - INFO: Client 'GEONET' - Will attempt to download data from 1 stations.\n",
      "[2021-11-25 00:44:33,601] - obspy.clients.fdsn.mass_downloader - INFO: Client 'GEONET' - Status for 1 time intervals/channels before downloading: NEEDS_DOWNLOADING\n",
      "[2021-11-25 00:44:34,532] - obspy.clients.fdsn.mass_downloader - INFO: Client 'GEONET' - Successfully downloaded 1 channels (of 1)\n",
      "[2021-11-25 00:44:34,535] - obspy.clients.fdsn.mass_downloader - INFO: Client 'GEONET' - Launching basic QC checks...\n",
      "[2021-11-25 00:44:34,540] - obspy.clients.fdsn.mass_downloader - INFO: Client 'GEONET' - Downloaded 0.0 MB [3.22 KB/sec] of data, 0.0 MB of which were discarded afterwards.\n",
      "[2021-11-25 00:44:34,541] - obspy.clients.fdsn.mass_downloader - INFO: Client 'GEONET' - Status for 1 time intervals/channels after downloading: DOWNLOADED\n",
      "[2021-11-25 00:44:34,544] - obspy.clients.fdsn.mass_downloader - INFO: Client 'GEONET' - No station information to download.\n",
      "[2021-11-25 00:44:34,545] - obspy.clients.fdsn.mass_downloader - INFO: ============================== Final report\n",
      "[2021-11-25 00:44:34,546] - obspy.clients.fdsn.mass_downloader - INFO: 0 MiniSEED files [0.0 MB] already existed.\n",
      "[2021-11-25 00:44:34,547] - obspy.clients.fdsn.mass_downloader - INFO: 1 StationXML files [0.0 MB] already existed.\n",
      "[2021-11-25 00:44:34,548] - obspy.clients.fdsn.mass_downloader - INFO: Client 'GEONET' - Acquired 1 MiniSEED files [0.0 MB].\n",
      "[2021-11-25 00:44:34,549] - obspy.clients.fdsn.mass_downloader - INFO: Client 'GEONET' - Acquired 0 StationXML files [0.0 MB].\n",
      "[2021-11-25 00:44:34,550] - obspy.clients.fdsn.mass_downloader - INFO: Downloaded 0.0 MB in total.\n",
      "[2021-11-25 00:44:34,551] - obspy.clients.fdsn.mass_downloader - INFO: Initializing FDSN client(s) for GEONET.\n",
      "[2021-11-25 00:44:34,555] - obspy.clients.fdsn.mass_downloader - INFO: Successfully initialized 1 client(s): GEONET.\n",
      "[2021-11-25 00:44:34,557] - obspy.clients.fdsn.mass_downloader - INFO: Total acquired or preexisting stations: 0\n",
      "[2021-11-25 00:44:34,557] - obspy.clients.fdsn.mass_downloader - INFO: Client 'GEONET' - Requesting unreliable availability.\n"
     ]
    },
    {
     "name": "stdout",
     "output_type": "stream",
     "text": [
      "=================================================================\n",
      "Initiating mass download request.\n"
     ]
    },
    {
     "name": "stderr",
     "output_type": "stream",
     "text": [
      "[2021-11-25 00:44:35,086] - obspy.clients.fdsn.mass_downloader - INFO: Client 'GEONET' - Successfully requested availability (0.53 seconds)\n",
      "[2021-11-25 00:44:35,088] - obspy.clients.fdsn.mass_downloader - INFO: Client 'GEONET' - Found 1 stations (1 channels).\n",
      "[2021-11-25 00:44:35,089] - obspy.clients.fdsn.mass_downloader - INFO: Client 'GEONET' - Will attempt to download data from 1 stations.\n",
      "[2021-11-25 00:44:35,090] - obspy.clients.fdsn.mass_downloader - INFO: Client 'GEONET' - Status for 1 time intervals/channels before downloading: NEEDS_DOWNLOADING\n",
      "[2021-11-25 00:44:36,251] - obspy.clients.fdsn.mass_downloader - INFO: Client 'GEONET' - Successfully downloaded 1 channels (of 1)\n",
      "[2021-11-25 00:44:36,254] - obspy.clients.fdsn.mass_downloader - INFO: Client 'GEONET' - Launching basic QC checks...\n",
      "[2021-11-25 00:44:36,264] - obspy.clients.fdsn.mass_downloader - INFO: Client 'GEONET' - Downloaded 0.0 MB [3.44 KB/sec] of data, 0.0 MB of which were discarded afterwards.\n",
      "[2021-11-25 00:44:36,265] - obspy.clients.fdsn.mass_downloader - INFO: Client 'GEONET' - Status for 1 time intervals/channels after downloading: DOWNLOADED\n",
      "[2021-11-25 00:44:36,268] - obspy.clients.fdsn.mass_downloader - INFO: Client 'GEONET' - No station information to download.\n",
      "[2021-11-25 00:44:36,269] - obspy.clients.fdsn.mass_downloader - INFO: ============================== Final report\n",
      "[2021-11-25 00:44:36,269] - obspy.clients.fdsn.mass_downloader - INFO: 0 MiniSEED files [0.0 MB] already existed.\n",
      "[2021-11-25 00:44:36,270] - obspy.clients.fdsn.mass_downloader - INFO: 1 StationXML files [0.0 MB] already existed.\n",
      "[2021-11-25 00:44:36,270] - obspy.clients.fdsn.mass_downloader - INFO: Client 'GEONET' - Acquired 1 MiniSEED files [0.0 MB].\n",
      "[2021-11-25 00:44:36,270] - obspy.clients.fdsn.mass_downloader - INFO: Client 'GEONET' - Acquired 0 StationXML files [0.0 MB].\n",
      "[2021-11-25 00:44:36,270] - obspy.clients.fdsn.mass_downloader - INFO: Downloaded 0.0 MB in total.\n",
      "[2021-11-25 00:44:36,272] - obspy.clients.fdsn.mass_downloader - INFO: Initializing FDSN client(s) for GEONET.\n",
      "[2021-11-25 00:44:36,275] - obspy.clients.fdsn.mass_downloader - INFO: Successfully initialized 1 client(s): GEONET.\n",
      "[2021-11-25 00:44:36,276] - obspy.clients.fdsn.mass_downloader - INFO: Total acquired or preexisting stations: 0\n",
      "[2021-11-25 00:44:36,276] - obspy.clients.fdsn.mass_downloader - INFO: Client 'GEONET' - Requesting unreliable availability.\n"
     ]
    },
    {
     "name": "stdout",
     "output_type": "stream",
     "text": [
      "=================================================================\n",
      "Initiating mass download request.\n"
     ]
    },
    {
     "name": "stderr",
     "output_type": "stream",
     "text": [
      "[2021-11-25 00:44:36,965] - obspy.clients.fdsn.mass_downloader - INFO: Client 'GEONET' - Successfully requested availability (0.69 seconds)\n",
      "[2021-11-25 00:44:36,966] - obspy.clients.fdsn.mass_downloader - INFO: Client 'GEONET' - Found 1 stations (1 channels).\n",
      "[2021-11-25 00:44:36,967] - obspy.clients.fdsn.mass_downloader - INFO: Client 'GEONET' - Will attempt to download data from 1 stations.\n",
      "[2021-11-25 00:44:36,968] - obspy.clients.fdsn.mass_downloader - INFO: Client 'GEONET' - Status for 1 time intervals/channels before downloading: NEEDS_DOWNLOADING\n",
      "[2021-11-25 00:44:37,849] - obspy.clients.fdsn.mass_downloader - INFO: Client 'GEONET' - Successfully downloaded 1 channels (of 1)\n",
      "[2021-11-25 00:44:37,851] - obspy.clients.fdsn.mass_downloader - INFO: Client 'GEONET' - Launching basic QC checks...\n",
      "[2021-11-25 00:44:37,854] - obspy.clients.fdsn.mass_downloader - INFO: Client 'GEONET' - Downloaded 0.0 MB [3.41 KB/sec] of data, 0.0 MB of which were discarded afterwards.\n",
      "[2021-11-25 00:44:37,854] - obspy.clients.fdsn.mass_downloader - INFO: Client 'GEONET' - Status for 1 time intervals/channels after downloading: DOWNLOADED\n",
      "[2021-11-25 00:44:37,856] - obspy.clients.fdsn.mass_downloader - INFO: Client 'GEONET' - No station information to download.\n",
      "[2021-11-25 00:44:37,857] - obspy.clients.fdsn.mass_downloader - INFO: ============================== Final report\n",
      "[2021-11-25 00:44:37,857] - obspy.clients.fdsn.mass_downloader - INFO: 0 MiniSEED files [0.0 MB] already existed.\n",
      "[2021-11-25 00:44:37,857] - obspy.clients.fdsn.mass_downloader - INFO: 1 StationXML files [0.0 MB] already existed.\n",
      "[2021-11-25 00:44:37,857] - obspy.clients.fdsn.mass_downloader - INFO: Client 'GEONET' - Acquired 1 MiniSEED files [0.0 MB].\n",
      "[2021-11-25 00:44:37,858] - obspy.clients.fdsn.mass_downloader - INFO: Client 'GEONET' - Acquired 0 StationXML files [0.0 MB].\n",
      "[2021-11-25 00:44:37,858] - obspy.clients.fdsn.mass_downloader - INFO: Downloaded 0.0 MB in total.\n",
      "[2021-11-25 00:44:37,859] - obspy.clients.fdsn.mass_downloader - INFO: Initializing FDSN client(s) for GEONET.\n",
      "[2021-11-25 00:44:37,861] - obspy.clients.fdsn.mass_downloader - INFO: Successfully initialized 1 client(s): GEONET.\n",
      "[2021-11-25 00:44:37,862] - obspy.clients.fdsn.mass_downloader - INFO: Total acquired or preexisting stations: 0\n",
      "[2021-11-25 00:44:37,862] - obspy.clients.fdsn.mass_downloader - INFO: Client 'GEONET' - Requesting unreliable availability.\n"
     ]
    },
    {
     "name": "stdout",
     "output_type": "stream",
     "text": [
      "=================================================================\n",
      "Initiating mass download request.\n"
     ]
    },
    {
     "name": "stderr",
     "output_type": "stream",
     "text": [
      "[2021-11-25 00:44:38,436] - obspy.clients.fdsn.mass_downloader - INFO: Client 'GEONET' - Successfully requested availability (0.57 seconds)\n",
      "[2021-11-25 00:44:38,436] - obspy.clients.fdsn.mass_downloader - INFO: Client 'GEONET' - Found 1 stations (1 channels).\n",
      "[2021-11-25 00:44:38,436] - obspy.clients.fdsn.mass_downloader - INFO: Client 'GEONET' - Will attempt to download data from 1 stations.\n",
      "[2021-11-25 00:44:38,437] - obspy.clients.fdsn.mass_downloader - INFO: Client 'GEONET' - Status for 1 time intervals/channels before downloading: NEEDS_DOWNLOADING\n",
      "[2021-11-25 00:44:40,088] - obspy.clients.fdsn.mass_downloader - INFO: Client 'GEONET' - Successfully downloaded 1 channels (of 1)\n",
      "[2021-11-25 00:44:40,095] - obspy.clients.fdsn.mass_downloader - INFO: Client 'GEONET' - Launching basic QC checks...\n",
      "[2021-11-25 00:44:40,106] - obspy.clients.fdsn.mass_downloader - INFO: Client 'GEONET' - Downloaded 0.0 MB [1.81 KB/sec] of data, 0.0 MB of which were discarded afterwards.\n",
      "[2021-11-25 00:44:40,107] - obspy.clients.fdsn.mass_downloader - INFO: Client 'GEONET' - Status for 1 time intervals/channels after downloading: DOWNLOADED\n",
      "[2021-11-25 00:44:40,113] - obspy.clients.fdsn.mass_downloader - INFO: Client 'GEONET' - No station information to download.\n",
      "[2021-11-25 00:44:40,114] - obspy.clients.fdsn.mass_downloader - INFO: ============================== Final report\n",
      "[2021-11-25 00:44:40,115] - obspy.clients.fdsn.mass_downloader - INFO: 0 MiniSEED files [0.0 MB] already existed.\n",
      "[2021-11-25 00:44:40,116] - obspy.clients.fdsn.mass_downloader - INFO: 1 StationXML files [0.0 MB] already existed.\n",
      "[2021-11-25 00:44:40,117] - obspy.clients.fdsn.mass_downloader - INFO: Client 'GEONET' - Acquired 1 MiniSEED files [0.0 MB].\n",
      "[2021-11-25 00:44:40,117] - obspy.clients.fdsn.mass_downloader - INFO: Client 'GEONET' - Acquired 0 StationXML files [0.0 MB].\n",
      "[2021-11-25 00:44:40,118] - obspy.clients.fdsn.mass_downloader - INFO: Downloaded 0.0 MB in total.\n",
      "[2021-11-25 00:44:40,127] - obspy.clients.fdsn.mass_downloader - INFO: Initializing FDSN client(s) for GEONET.\n",
      "[2021-11-25 00:44:40,132] - obspy.clients.fdsn.mass_downloader - INFO: Successfully initialized 1 client(s): GEONET.\n",
      "[2021-11-25 00:44:40,137] - obspy.clients.fdsn.mass_downloader - INFO: Total acquired or preexisting stations: 0\n",
      "[2021-11-25 00:44:40,137] - obspy.clients.fdsn.mass_downloader - INFO: Client 'GEONET' - Requesting unreliable availability.\n"
     ]
    },
    {
     "name": "stdout",
     "output_type": "stream",
     "text": [
      "=================================================================\n",
      "Initiating mass download request.\n"
     ]
    },
    {
     "name": "stderr",
     "output_type": "stream",
     "text": [
      "[2021-11-25 00:44:40,687] - obspy.clients.fdsn.mass_downloader - INFO: Client 'GEONET' - Successfully requested availability (0.55 seconds)\n",
      "[2021-11-25 00:44:40,688] - obspy.clients.fdsn.mass_downloader - INFO: Client 'GEONET' - Found 1 stations (1 channels).\n",
      "[2021-11-25 00:44:40,688] - obspy.clients.fdsn.mass_downloader - INFO: Client 'GEONET' - Will attempt to download data from 1 stations.\n",
      "[2021-11-25 00:44:40,689] - obspy.clients.fdsn.mass_downloader - INFO: Client 'GEONET' - Status for 1 time intervals/channels before downloading: NEEDS_DOWNLOADING\n",
      "[2021-11-25 00:44:41,927] - obspy.clients.fdsn.mass_downloader - INFO: Client 'GEONET' - Successfully downloaded 1 channels (of 1)\n",
      "[2021-11-25 00:44:41,935] - obspy.clients.fdsn.mass_downloader - INFO: Client 'GEONET' - Launching basic QC checks...\n",
      "[2021-11-25 00:44:41,943] - obspy.clients.fdsn.mass_downloader - INFO: Client 'GEONET' - Downloaded 0.0 MB [2.41 KB/sec] of data, 0.0 MB of which were discarded afterwards.\n",
      "[2021-11-25 00:44:41,943] - obspy.clients.fdsn.mass_downloader - INFO: Client 'GEONET' - Status for 1 time intervals/channels after downloading: DOWNLOADED\n",
      "[2021-11-25 00:44:41,946] - obspy.clients.fdsn.mass_downloader - INFO: Client 'GEONET' - No station information to download.\n",
      "[2021-11-25 00:44:41,947] - obspy.clients.fdsn.mass_downloader - INFO: ============================== Final report\n",
      "[2021-11-25 00:44:41,947] - obspy.clients.fdsn.mass_downloader - INFO: 0 MiniSEED files [0.0 MB] already existed.\n",
      "[2021-11-25 00:44:41,948] - obspy.clients.fdsn.mass_downloader - INFO: 1 StationXML files [0.0 MB] already existed.\n",
      "[2021-11-25 00:44:41,948] - obspy.clients.fdsn.mass_downloader - INFO: Client 'GEONET' - Acquired 1 MiniSEED files [0.0 MB].\n",
      "[2021-11-25 00:44:41,948] - obspy.clients.fdsn.mass_downloader - INFO: Client 'GEONET' - Acquired 0 StationXML files [0.0 MB].\n",
      "[2021-11-25 00:44:41,948] - obspy.clients.fdsn.mass_downloader - INFO: Downloaded 0.0 MB in total.\n",
      "[2021-11-25 00:44:41,956] - obspy.clients.fdsn.mass_downloader - INFO: Initializing FDSN client(s) for GEONET.\n",
      "[2021-11-25 00:44:41,959] - obspy.clients.fdsn.mass_downloader - INFO: Successfully initialized 1 client(s): GEONET.\n",
      "[2021-11-25 00:44:41,960] - obspy.clients.fdsn.mass_downloader - INFO: Total acquired or preexisting stations: 0\n",
      "[2021-11-25 00:44:41,960] - obspy.clients.fdsn.mass_downloader - INFO: Client 'GEONET' - Requesting unreliable availability.\n"
     ]
    },
    {
     "name": "stdout",
     "output_type": "stream",
     "text": [
      "=================================================================\n",
      "Initiating mass download request.\n"
     ]
    },
    {
     "name": "stderr",
     "output_type": "stream",
     "text": [
      "[2021-11-25 00:44:42,502] - obspy.clients.fdsn.mass_downloader - INFO: Client 'GEONET' - No data available for request.\n",
      "[2021-11-25 00:44:42,502] - obspy.clients.fdsn.mass_downloader - INFO: Client 'GEONET' - No data available.\n",
      "[2021-11-25 00:44:42,502] - obspy.clients.fdsn.mass_downloader - INFO: ============================== Final report\n",
      "[2021-11-25 00:44:42,503] - obspy.clients.fdsn.mass_downloader - INFO: 0 MiniSEED files [0.0 MB] already existed.\n",
      "[2021-11-25 00:44:42,503] - obspy.clients.fdsn.mass_downloader - INFO: 0 StationXML files [0.0 MB] already existed.\n",
      "[2021-11-25 00:44:42,503] - obspy.clients.fdsn.mass_downloader - INFO: Client 'GEONET' - Acquired 0 MiniSEED files [0.0 MB].\n",
      "[2021-11-25 00:44:42,504] - obspy.clients.fdsn.mass_downloader - INFO: Client 'GEONET' - Acquired 0 StationXML files [0.0 MB].\n",
      "[2021-11-25 00:44:42,504] - obspy.clients.fdsn.mass_downloader - INFO: Downloaded 0.0 MB in total.\n",
      "[2021-11-25 00:44:42,504] - obspy.clients.fdsn.mass_downloader - INFO: Initializing FDSN client(s) for GEONET.\n",
      "[2021-11-25 00:44:42,508] - obspy.clients.fdsn.mass_downloader - INFO: Successfully initialized 1 client(s): GEONET.\n",
      "[2021-11-25 00:44:42,510] - obspy.clients.fdsn.mass_downloader - INFO: Total acquired or preexisting stations: 0\n",
      "[2021-11-25 00:44:42,510] - obspy.clients.fdsn.mass_downloader - INFO: Client 'GEONET' - Requesting unreliable availability.\n"
     ]
    },
    {
     "name": "stdout",
     "output_type": "stream",
     "text": [
      "=================================================================\n",
      "Initiating mass download request.\n"
     ]
    },
    {
     "name": "stderr",
     "output_type": "stream",
     "text": [
      "[2021-11-25 00:44:43,051] - obspy.clients.fdsn.mass_downloader - INFO: Client 'GEONET' - Successfully requested availability (0.54 seconds)\n",
      "[2021-11-25 00:44:43,051] - obspy.clients.fdsn.mass_downloader - INFO: Client 'GEONET' - Found 1 stations (1 channels).\n",
      "[2021-11-25 00:44:43,051] - obspy.clients.fdsn.mass_downloader - INFO: Client 'GEONET' - Will attempt to download data from 1 stations.\n",
      "[2021-11-25 00:44:43,052] - obspy.clients.fdsn.mass_downloader - INFO: Client 'GEONET' - Status for 1 time intervals/channels before downloading: NEEDS_DOWNLOADING\n",
      "[2021-11-25 00:44:43,979] - obspy.clients.fdsn.mass_downloader - INFO: Client 'GEONET' - Successfully downloaded 1 channels (of 1)\n",
      "[2021-11-25 00:44:43,980] - obspy.clients.fdsn.mass_downloader - INFO: Client 'GEONET' - Launching basic QC checks...\n",
      "[2021-11-25 00:44:43,983] - obspy.clients.fdsn.mass_downloader - INFO: Client 'GEONET' - Downloaded 0.0 MB [3.78 KB/sec] of data, 0.0 MB of which were discarded afterwards.\n",
      "[2021-11-25 00:44:43,983] - obspy.clients.fdsn.mass_downloader - INFO: Client 'GEONET' - Status for 1 time intervals/channels after downloading: DOWNLOADED\n",
      "[2021-11-25 00:44:43,985] - obspy.clients.fdsn.mass_downloader - INFO: Client 'GEONET' - No station information to download.\n",
      "[2021-11-25 00:44:43,986] - obspy.clients.fdsn.mass_downloader - INFO: ============================== Final report\n",
      "[2021-11-25 00:44:43,986] - obspy.clients.fdsn.mass_downloader - INFO: 0 MiniSEED files [0.0 MB] already existed.\n",
      "[2021-11-25 00:44:43,987] - obspy.clients.fdsn.mass_downloader - INFO: 1 StationXML files [0.0 MB] already existed.\n",
      "[2021-11-25 00:44:43,987] - obspy.clients.fdsn.mass_downloader - INFO: Client 'GEONET' - Acquired 1 MiniSEED files [0.0 MB].\n",
      "[2021-11-25 00:44:43,988] - obspy.clients.fdsn.mass_downloader - INFO: Client 'GEONET' - Acquired 0 StationXML files [0.0 MB].\n",
      "[2021-11-25 00:44:43,988] - obspy.clients.fdsn.mass_downloader - INFO: Downloaded 0.0 MB in total.\n",
      "[2021-11-25 00:44:43,989] - obspy.clients.fdsn.mass_downloader - INFO: Initializing FDSN client(s) for GEONET.\n",
      "[2021-11-25 00:44:43,995] - obspy.clients.fdsn.mass_downloader - INFO: Successfully initialized 1 client(s): GEONET.\n",
      "[2021-11-25 00:44:43,996] - obspy.clients.fdsn.mass_downloader - INFO: Total acquired or preexisting stations: 0\n",
      "[2021-11-25 00:44:43,998] - obspy.clients.fdsn.mass_downloader - INFO: Client 'GEONET' - Requesting unreliable availability.\n"
     ]
    },
    {
     "name": "stdout",
     "output_type": "stream",
     "text": [
      "=================================================================\n",
      "Initiating mass download request.\n"
     ]
    },
    {
     "name": "stderr",
     "output_type": "stream",
     "text": [
      "[2021-11-25 00:44:44,544] - obspy.clients.fdsn.mass_downloader - INFO: Client 'GEONET' - Successfully requested availability (0.55 seconds)\n",
      "[2021-11-25 00:44:44,545] - obspy.clients.fdsn.mass_downloader - INFO: Client 'GEONET' - Found 1 stations (1 channels).\n",
      "[2021-11-25 00:44:44,545] - obspy.clients.fdsn.mass_downloader - INFO: Client 'GEONET' - Will attempt to download data from 1 stations.\n",
      "[2021-11-25 00:44:44,546] - obspy.clients.fdsn.mass_downloader - INFO: Client 'GEONET' - Status for 1 time intervals/channels before downloading: NEEDS_DOWNLOADING\n",
      "[2021-11-25 00:44:45,618] - obspy.clients.fdsn.mass_downloader - INFO: Client 'GEONET' - Successfully downloaded 1 channels (of 1)\n",
      "[2021-11-25 00:44:45,620] - obspy.clients.fdsn.mass_downloader - INFO: Client 'GEONET' - Launching basic QC checks...\n",
      "[2021-11-25 00:44:45,627] - obspy.clients.fdsn.mass_downloader - INFO: Client 'GEONET' - Downloaded 0.0 MB [3.73 KB/sec] of data, 0.0 MB of which were discarded afterwards.\n",
      "[2021-11-25 00:44:45,627] - obspy.clients.fdsn.mass_downloader - INFO: Client 'GEONET' - Status for 1 time intervals/channels after downloading: DOWNLOADED\n",
      "[2021-11-25 00:44:45,633] - obspy.clients.fdsn.mass_downloader - INFO: Client 'GEONET' - No station information to download.\n",
      "[2021-11-25 00:44:45,634] - obspy.clients.fdsn.mass_downloader - INFO: ============================== Final report\n",
      "[2021-11-25 00:44:45,635] - obspy.clients.fdsn.mass_downloader - INFO: 0 MiniSEED files [0.0 MB] already existed.\n",
      "[2021-11-25 00:44:45,635] - obspy.clients.fdsn.mass_downloader - INFO: 1 StationXML files [0.0 MB] already existed.\n",
      "[2021-11-25 00:44:45,635] - obspy.clients.fdsn.mass_downloader - INFO: Client 'GEONET' - Acquired 1 MiniSEED files [0.0 MB].\n",
      "[2021-11-25 00:44:45,635] - obspy.clients.fdsn.mass_downloader - INFO: Client 'GEONET' - Acquired 0 StationXML files [0.0 MB].\n",
      "[2021-11-25 00:44:45,636] - obspy.clients.fdsn.mass_downloader - INFO: Downloaded 0.0 MB in total.\n",
      "[2021-11-25 00:44:45,638] - obspy.clients.fdsn.mass_downloader - INFO: Initializing FDSN client(s) for GEONET.\n",
      "[2021-11-25 00:44:45,646] - obspy.clients.fdsn.mass_downloader - INFO: Successfully initialized 1 client(s): GEONET.\n",
      "[2021-11-25 00:44:45,647] - obspy.clients.fdsn.mass_downloader - INFO: Total acquired or preexisting stations: 0\n",
      "[2021-11-25 00:44:45,647] - obspy.clients.fdsn.mass_downloader - INFO: Client 'GEONET' - Requesting unreliable availability.\n"
     ]
    },
    {
     "name": "stdout",
     "output_type": "stream",
     "text": [
      "=================================================================\n",
      "Initiating mass download request.\n"
     ]
    },
    {
     "name": "stderr",
     "output_type": "stream",
     "text": [
      "[2021-11-25 00:44:46,772] - obspy.clients.fdsn.mass_downloader - INFO: Client 'GEONET' - Successfully requested availability (1.12 seconds)\n",
      "[2021-11-25 00:44:46,773] - obspy.clients.fdsn.mass_downloader - INFO: Client 'GEONET' - Found 1 stations (1 channels).\n",
      "[2021-11-25 00:44:46,773] - obspy.clients.fdsn.mass_downloader - INFO: Client 'GEONET' - Will attempt to download data from 1 stations.\n",
      "[2021-11-25 00:44:46,774] - obspy.clients.fdsn.mass_downloader - INFO: Client 'GEONET' - Status for 1 time intervals/channels before downloading: NEEDS_DOWNLOADING\n",
      "[2021-11-25 00:44:47,821] - obspy.clients.fdsn.mass_downloader - INFO: Client 'GEONET' - Successfully downloaded 1 channels (of 1)\n",
      "[2021-11-25 00:44:47,831] - obspy.clients.fdsn.mass_downloader - INFO: Client 'GEONET' - Launching basic QC checks...\n",
      "[2021-11-25 00:44:47,852] - obspy.clients.fdsn.mass_downloader - INFO: Client 'GEONET' - Downloaded 0.0 MB [3.32 KB/sec] of data, 0.0 MB of which were discarded afterwards.\n",
      "[2021-11-25 00:44:47,854] - obspy.clients.fdsn.mass_downloader - INFO: Client 'GEONET' - Status for 1 time intervals/channels after downloading: DOWNLOADED\n",
      "[2021-11-25 00:44:47,868] - obspy.clients.fdsn.mass_downloader - INFO: Client 'GEONET' - No station information to download.\n",
      "[2021-11-25 00:44:47,871] - obspy.clients.fdsn.mass_downloader - INFO: ============================== Final report\n",
      "[2021-11-25 00:44:47,872] - obspy.clients.fdsn.mass_downloader - INFO: 0 MiniSEED files [0.0 MB] already existed.\n",
      "[2021-11-25 00:44:47,873] - obspy.clients.fdsn.mass_downloader - INFO: 1 StationXML files [0.0 MB] already existed.\n",
      "[2021-11-25 00:44:47,873] - obspy.clients.fdsn.mass_downloader - INFO: Client 'GEONET' - Acquired 1 MiniSEED files [0.0 MB].\n",
      "[2021-11-25 00:44:47,874] - obspy.clients.fdsn.mass_downloader - INFO: Client 'GEONET' - Acquired 0 StationXML files [0.0 MB].\n",
      "[2021-11-25 00:44:47,874] - obspy.clients.fdsn.mass_downloader - INFO: Downloaded 0.0 MB in total.\n",
      "[2021-11-25 00:44:47,879] - obspy.clients.fdsn.mass_downloader - INFO: Initializing FDSN client(s) for GEONET.\n",
      "[2021-11-25 00:44:47,884] - obspy.clients.fdsn.mass_downloader - INFO: Successfully initialized 1 client(s): GEONET.\n",
      "[2021-11-25 00:44:47,885] - obspy.clients.fdsn.mass_downloader - INFO: Total acquired or preexisting stations: 0\n",
      "[2021-11-25 00:44:47,886] - obspy.clients.fdsn.mass_downloader - INFO: Client 'GEONET' - Requesting unreliable availability.\n"
     ]
    },
    {
     "name": "stdout",
     "output_type": "stream",
     "text": [
      "=================================================================\n",
      "Initiating mass download request.\n"
     ]
    },
    {
     "name": "stderr",
     "output_type": "stream",
     "text": [
      "[2021-11-25 00:44:48,433] - obspy.clients.fdsn.mass_downloader - INFO: Client 'GEONET' - Successfully requested availability (0.55 seconds)\n",
      "[2021-11-25 00:44:48,434] - obspy.clients.fdsn.mass_downloader - INFO: Client 'GEONET' - Found 1 stations (1 channels).\n",
      "[2021-11-25 00:44:48,435] - obspy.clients.fdsn.mass_downloader - INFO: Client 'GEONET' - Will attempt to download data from 1 stations.\n",
      "[2021-11-25 00:44:48,435] - obspy.clients.fdsn.mass_downloader - INFO: Client 'GEONET' - Status for 1 time intervals/channels before downloading: NEEDS_DOWNLOADING\n",
      "[2021-11-25 00:44:49,309] - obspy.clients.fdsn.mass_downloader - INFO: Client 'GEONET' - Successfully downloaded 1 channels (of 1)\n",
      "[2021-11-25 00:44:49,310] - obspy.clients.fdsn.mass_downloader - INFO: Client 'GEONET' - Launching basic QC checks...\n",
      "[2021-11-25 00:44:49,312] - obspy.clients.fdsn.mass_downloader - INFO: Client 'GEONET' - Downloaded 0.0 MB [3.44 KB/sec] of data, 0.0 MB of which were discarded afterwards.\n",
      "[2021-11-25 00:44:49,313] - obspy.clients.fdsn.mass_downloader - INFO: Client 'GEONET' - Status for 1 time intervals/channels after downloading: DOWNLOADED\n",
      "[2021-11-25 00:44:49,315] - obspy.clients.fdsn.mass_downloader - INFO: Client 'GEONET' - No station information to download.\n",
      "[2021-11-25 00:44:49,316] - obspy.clients.fdsn.mass_downloader - INFO: ============================== Final report\n",
      "[2021-11-25 00:44:49,316] - obspy.clients.fdsn.mass_downloader - INFO: 0 MiniSEED files [0.0 MB] already existed.\n",
      "[2021-11-25 00:44:49,317] - obspy.clients.fdsn.mass_downloader - INFO: 1 StationXML files [0.0 MB] already existed.\n",
      "[2021-11-25 00:44:49,317] - obspy.clients.fdsn.mass_downloader - INFO: Client 'GEONET' - Acquired 1 MiniSEED files [0.0 MB].\n",
      "[2021-11-25 00:44:49,317] - obspy.clients.fdsn.mass_downloader - INFO: Client 'GEONET' - Acquired 0 StationXML files [0.0 MB].\n",
      "[2021-11-25 00:44:49,317] - obspy.clients.fdsn.mass_downloader - INFO: Downloaded 0.0 MB in total.\n",
      "[2021-11-25 00:44:49,323] - obspy.clients.fdsn.mass_downloader - INFO: Initializing FDSN client(s) for GEONET.\n",
      "[2021-11-25 00:44:49,341] - obspy.clients.fdsn.mass_downloader - INFO: Successfully initialized 1 client(s): GEONET.\n",
      "[2021-11-25 00:44:49,343] - obspy.clients.fdsn.mass_downloader - INFO: Total acquired or preexisting stations: 0\n",
      "[2021-11-25 00:44:49,344] - obspy.clients.fdsn.mass_downloader - INFO: Client 'GEONET' - Requesting unreliable availability.\n"
     ]
    },
    {
     "name": "stdout",
     "output_type": "stream",
     "text": [
      "=================================================================\n",
      "Initiating mass download request.\n"
     ]
    },
    {
     "name": "stderr",
     "output_type": "stream",
     "text": [
      "[2021-11-25 00:44:49,900] - obspy.clients.fdsn.mass_downloader - INFO: Client 'GEONET' - Successfully requested availability (0.56 seconds)\n",
      "[2021-11-25 00:44:49,902] - obspy.clients.fdsn.mass_downloader - INFO: Client 'GEONET' - Found 1 stations (1 channels).\n",
      "[2021-11-25 00:44:49,902] - obspy.clients.fdsn.mass_downloader - INFO: Client 'GEONET' - Will attempt to download data from 1 stations.\n",
      "[2021-11-25 00:44:49,903] - obspy.clients.fdsn.mass_downloader - INFO: Client 'GEONET' - Status for 1 time intervals/channels before downloading: NEEDS_DOWNLOADING\n",
      "[2021-11-25 00:44:51,025] - obspy.clients.fdsn.mass_downloader - INFO: Client 'GEONET' - Successfully downloaded 1 channels (of 1)\n",
      "[2021-11-25 00:44:51,026] - obspy.clients.fdsn.mass_downloader - INFO: Client 'GEONET' - Launching basic QC checks...\n",
      "[2021-11-25 00:44:51,030] - obspy.clients.fdsn.mass_downloader - INFO: Client 'GEONET' - Downloaded 0.0 MB [3.57 KB/sec] of data, 0.0 MB of which were discarded afterwards.\n",
      "[2021-11-25 00:44:51,030] - obspy.clients.fdsn.mass_downloader - INFO: Client 'GEONET' - Status for 1 time intervals/channels after downloading: DOWNLOADED\n",
      "[2021-11-25 00:44:51,034] - obspy.clients.fdsn.mass_downloader - INFO: Client 'GEONET' - No station information to download.\n",
      "[2021-11-25 00:44:51,036] - obspy.clients.fdsn.mass_downloader - INFO: ============================== Final report\n",
      "[2021-11-25 00:44:51,036] - obspy.clients.fdsn.mass_downloader - INFO: 0 MiniSEED files [0.0 MB] already existed.\n",
      "[2021-11-25 00:44:51,036] - obspy.clients.fdsn.mass_downloader - INFO: 1 StationXML files [0.0 MB] already existed.\n",
      "[2021-11-25 00:44:51,036] - obspy.clients.fdsn.mass_downloader - INFO: Client 'GEONET' - Acquired 1 MiniSEED files [0.0 MB].\n",
      "[2021-11-25 00:44:51,037] - obspy.clients.fdsn.mass_downloader - INFO: Client 'GEONET' - Acquired 0 StationXML files [0.0 MB].\n",
      "[2021-11-25 00:44:51,037] - obspy.clients.fdsn.mass_downloader - INFO: Downloaded 0.0 MB in total.\n",
      "[2021-11-25 00:44:51,039] - obspy.clients.fdsn.mass_downloader - INFO: Initializing FDSN client(s) for GEONET.\n",
      "[2021-11-25 00:44:51,042] - obspy.clients.fdsn.mass_downloader - INFO: Successfully initialized 1 client(s): GEONET.\n",
      "[2021-11-25 00:44:51,042] - obspy.clients.fdsn.mass_downloader - INFO: Total acquired or preexisting stations: 0\n",
      "[2021-11-25 00:44:51,043] - obspy.clients.fdsn.mass_downloader - INFO: Client 'GEONET' - Requesting unreliable availability.\n"
     ]
    },
    {
     "name": "stdout",
     "output_type": "stream",
     "text": [
      "=================================================================\n",
      "Initiating mass download request.\n"
     ]
    },
    {
     "name": "stderr",
     "output_type": "stream",
     "text": [
      "[2021-11-25 00:44:51,625] - obspy.clients.fdsn.mass_downloader - INFO: Client 'GEONET' - Successfully requested availability (0.58 seconds)\n",
      "[2021-11-25 00:44:51,625] - obspy.clients.fdsn.mass_downloader - INFO: Client 'GEONET' - Found 1 stations (1 channels).\n",
      "[2021-11-25 00:44:51,626] - obspy.clients.fdsn.mass_downloader - INFO: Client 'GEONET' - Will attempt to download data from 1 stations.\n",
      "[2021-11-25 00:44:51,626] - obspy.clients.fdsn.mass_downloader - INFO: Client 'GEONET' - Status for 1 time intervals/channels before downloading: NEEDS_DOWNLOADING\n",
      "[2021-11-25 00:44:52,718] - obspy.clients.fdsn.mass_downloader - INFO: Client 'GEONET' - Successfully downloaded 1 channels (of 1)\n",
      "[2021-11-25 00:44:52,720] - obspy.clients.fdsn.mass_downloader - INFO: Client 'GEONET' - Launching basic QC checks...\n",
      "[2021-11-25 00:44:52,730] - obspy.clients.fdsn.mass_downloader - INFO: Client 'GEONET' - Downloaded 0.0 MB [3.20 KB/sec] of data, 0.0 MB of which were discarded afterwards.\n",
      "[2021-11-25 00:44:52,730] - obspy.clients.fdsn.mass_downloader - INFO: Client 'GEONET' - Status for 1 time intervals/channels after downloading: DOWNLOADED\n",
      "[2021-11-25 00:44:52,733] - obspy.clients.fdsn.mass_downloader - INFO: Client 'GEONET' - No station information to download.\n",
      "[2021-11-25 00:44:52,734] - obspy.clients.fdsn.mass_downloader - INFO: ============================== Final report\n",
      "[2021-11-25 00:44:52,734] - obspy.clients.fdsn.mass_downloader - INFO: 0 MiniSEED files [0.0 MB] already existed.\n",
      "[2021-11-25 00:44:52,735] - obspy.clients.fdsn.mass_downloader - INFO: 1 StationXML files [0.0 MB] already existed.\n",
      "[2021-11-25 00:44:52,736] - obspy.clients.fdsn.mass_downloader - INFO: Client 'GEONET' - Acquired 1 MiniSEED files [0.0 MB].\n",
      "[2021-11-25 00:44:52,736] - obspy.clients.fdsn.mass_downloader - INFO: Client 'GEONET' - Acquired 0 StationXML files [0.0 MB].\n",
      "[2021-11-25 00:44:52,736] - obspy.clients.fdsn.mass_downloader - INFO: Downloaded 0.0 MB in total.\n",
      "[2021-11-25 00:44:52,738] - obspy.clients.fdsn.mass_downloader - INFO: Initializing FDSN client(s) for GEONET.\n",
      "[2021-11-25 00:44:52,743] - obspy.clients.fdsn.mass_downloader - INFO: Successfully initialized 1 client(s): GEONET.\n",
      "[2021-11-25 00:44:52,744] - obspy.clients.fdsn.mass_downloader - INFO: Total acquired or preexisting stations: 0\n",
      "[2021-11-25 00:44:52,745] - obspy.clients.fdsn.mass_downloader - INFO: Client 'GEONET' - Requesting unreliable availability.\n"
     ]
    },
    {
     "name": "stdout",
     "output_type": "stream",
     "text": [
      "=================================================================\n",
      "Initiating mass download request.\n"
     ]
    },
    {
     "name": "stderr",
     "output_type": "stream",
     "text": [
      "[2021-11-25 00:44:53,330] - obspy.clients.fdsn.mass_downloader - INFO: Client 'GEONET' - Successfully requested availability (0.59 seconds)\n",
      "[2021-11-25 00:44:53,332] - obspy.clients.fdsn.mass_downloader - INFO: Client 'GEONET' - Found 1 stations (1 channels).\n",
      "[2021-11-25 00:44:53,332] - obspy.clients.fdsn.mass_downloader - INFO: Client 'GEONET' - Will attempt to download data from 1 stations.\n",
      "[2021-11-25 00:44:53,332] - obspy.clients.fdsn.mass_downloader - INFO: Client 'GEONET' - Status for 1 time intervals/channels before downloading: NEEDS_DOWNLOADING\n",
      "[2021-11-25 00:44:54,265] - obspy.clients.fdsn.mass_downloader - INFO: Client 'GEONET' - Successfully downloaded 1 channels (of 1)\n",
      "[2021-11-25 00:44:54,266] - obspy.clients.fdsn.mass_downloader - INFO: Client 'GEONET' - Launching basic QC checks...\n",
      "[2021-11-25 00:44:54,268] - obspy.clients.fdsn.mass_downloader - INFO: Client 'GEONET' - Downloaded 0.0 MB [3.22 KB/sec] of data, 0.0 MB of which were discarded afterwards.\n",
      "[2021-11-25 00:44:54,269] - obspy.clients.fdsn.mass_downloader - INFO: Client 'GEONET' - Status for 1 time intervals/channels after downloading: DOWNLOADED\n",
      "[2021-11-25 00:44:54,270] - obspy.clients.fdsn.mass_downloader - INFO: Client 'GEONET' - No station information to download.\n",
      "[2021-11-25 00:44:54,271] - obspy.clients.fdsn.mass_downloader - INFO: ============================== Final report\n",
      "[2021-11-25 00:44:54,271] - obspy.clients.fdsn.mass_downloader - INFO: 0 MiniSEED files [0.0 MB] already existed.\n",
      "[2021-11-25 00:44:54,271] - obspy.clients.fdsn.mass_downloader - INFO: 1 StationXML files [0.0 MB] already existed.\n",
      "[2021-11-25 00:44:54,271] - obspy.clients.fdsn.mass_downloader - INFO: Client 'GEONET' - Acquired 1 MiniSEED files [0.0 MB].\n",
      "[2021-11-25 00:44:54,272] - obspy.clients.fdsn.mass_downloader - INFO: Client 'GEONET' - Acquired 0 StationXML files [0.0 MB].\n",
      "[2021-11-25 00:44:54,272] - obspy.clients.fdsn.mass_downloader - INFO: Downloaded 0.0 MB in total.\n",
      "[2021-11-25 00:44:54,272] - obspy.clients.fdsn.mass_downloader - INFO: Initializing FDSN client(s) for GEONET.\n",
      "[2021-11-25 00:44:54,275] - obspy.clients.fdsn.mass_downloader - INFO: Successfully initialized 1 client(s): GEONET.\n",
      "[2021-11-25 00:44:54,275] - obspy.clients.fdsn.mass_downloader - INFO: Total acquired or preexisting stations: 0\n",
      "[2021-11-25 00:44:54,276] - obspy.clients.fdsn.mass_downloader - INFO: Client 'GEONET' - Requesting unreliable availability.\n"
     ]
    },
    {
     "name": "stdout",
     "output_type": "stream",
     "text": [
      "=================================================================\n",
      "Initiating mass download request.\n"
     ]
    },
    {
     "name": "stderr",
     "output_type": "stream",
     "text": [
      "[2021-11-25 00:44:54,824] - obspy.clients.fdsn.mass_downloader - INFO: Client 'GEONET' - Successfully requested availability (0.55 seconds)\n",
      "[2021-11-25 00:44:54,825] - obspy.clients.fdsn.mass_downloader - INFO: Client 'GEONET' - Found 1 stations (1 channels).\n",
      "[2021-11-25 00:44:54,825] - obspy.clients.fdsn.mass_downloader - INFO: Client 'GEONET' - Will attempt to download data from 1 stations.\n",
      "[2021-11-25 00:44:54,826] - obspy.clients.fdsn.mass_downloader - INFO: Client 'GEONET' - Status for 1 time intervals/channels before downloading: NEEDS_DOWNLOADING\n",
      "[2021-11-25 00:44:56,816] - obspy.clients.fdsn.mass_downloader - INFO: Client 'GEONET' - Successfully downloaded 1 channels (of 1)\n",
      "[2021-11-25 00:44:56,822] - obspy.clients.fdsn.mass_downloader - INFO: Client 'GEONET' - Launching basic QC checks...\n",
      "[2021-11-25 00:44:56,834] - obspy.clients.fdsn.mass_downloader - INFO: Client 'GEONET' - Downloaded 0.0 MB [2.26 KB/sec] of data, 0.0 MB of which were discarded afterwards.\n",
      "[2021-11-25 00:44:56,835] - obspy.clients.fdsn.mass_downloader - INFO: Client 'GEONET' - Status for 1 time intervals/channels after downloading: DOWNLOADED\n",
      "[2021-11-25 00:44:56,840] - obspy.clients.fdsn.mass_downloader - INFO: Client 'GEONET' - No station information to download.\n",
      "[2021-11-25 00:44:56,842] - obspy.clients.fdsn.mass_downloader - INFO: ============================== Final report\n",
      "[2021-11-25 00:44:56,842] - obspy.clients.fdsn.mass_downloader - INFO: 0 MiniSEED files [0.0 MB] already existed.\n",
      "[2021-11-25 00:44:56,843] - obspy.clients.fdsn.mass_downloader - INFO: 1 StationXML files [0.0 MB] already existed.\n",
      "[2021-11-25 00:44:56,844] - obspy.clients.fdsn.mass_downloader - INFO: Client 'GEONET' - Acquired 1 MiniSEED files [0.0 MB].\n",
      "[2021-11-25 00:44:56,845] - obspy.clients.fdsn.mass_downloader - INFO: Client 'GEONET' - Acquired 0 StationXML files [0.0 MB].\n",
      "[2021-11-25 00:44:56,845] - obspy.clients.fdsn.mass_downloader - INFO: Downloaded 0.0 MB in total.\n",
      "[2021-11-25 00:44:56,851] - obspy.clients.fdsn.mass_downloader - INFO: Initializing FDSN client(s) for GEONET.\n",
      "[2021-11-25 00:44:56,856] - obspy.clients.fdsn.mass_downloader - INFO: Successfully initialized 1 client(s): GEONET.\n",
      "[2021-11-25 00:44:56,857] - obspy.clients.fdsn.mass_downloader - INFO: Total acquired or preexisting stations: 0\n",
      "[2021-11-25 00:44:56,857] - obspy.clients.fdsn.mass_downloader - INFO: Client 'GEONET' - Requesting unreliable availability.\n"
     ]
    },
    {
     "name": "stdout",
     "output_type": "stream",
     "text": [
      "=================================================================\n",
      "Initiating mass download request.\n"
     ]
    },
    {
     "name": "stderr",
     "output_type": "stream",
     "text": [
      "[2021-11-25 00:44:57,470] - obspy.clients.fdsn.mass_downloader - INFO: Client 'GEONET' - Successfully requested availability (0.61 seconds)\n",
      "[2021-11-25 00:44:57,470] - obspy.clients.fdsn.mass_downloader - INFO: Client 'GEONET' - Found 1 stations (1 channels).\n",
      "[2021-11-25 00:44:57,471] - obspy.clients.fdsn.mass_downloader - INFO: Client 'GEONET' - Will attempt to download data from 1 stations.\n",
      "[2021-11-25 00:44:57,471] - obspy.clients.fdsn.mass_downloader - INFO: Client 'GEONET' - Status for 1 time intervals/channels before downloading: NEEDS_DOWNLOADING\n",
      "[2021-11-25 00:44:58,558] - obspy.clients.fdsn.mass_downloader - INFO: Client 'GEONET' - Successfully downloaded 1 channels (of 1)\n",
      "[2021-11-25 00:44:58,559] - obspy.clients.fdsn.mass_downloader - INFO: Client 'GEONET' - Launching basic QC checks...\n",
      "[2021-11-25 00:44:58,561] - obspy.clients.fdsn.mass_downloader - INFO: Client 'GEONET' - Downloaded 0.0 MB [4.14 KB/sec] of data, 0.0 MB of which were discarded afterwards.\n",
      "[2021-11-25 00:44:58,562] - obspy.clients.fdsn.mass_downloader - INFO: Client 'GEONET' - Status for 1 time intervals/channels after downloading: DOWNLOADED\n",
      "[2021-11-25 00:44:58,564] - obspy.clients.fdsn.mass_downloader - INFO: Client 'GEONET' - No station information to download.\n",
      "[2021-11-25 00:44:58,564] - obspy.clients.fdsn.mass_downloader - INFO: ============================== Final report\n",
      "[2021-11-25 00:44:58,564] - obspy.clients.fdsn.mass_downloader - INFO: 0 MiniSEED files [0.0 MB] already existed.\n",
      "[2021-11-25 00:44:58,565] - obspy.clients.fdsn.mass_downloader - INFO: 1 StationXML files [0.0 MB] already existed.\n",
      "[2021-11-25 00:44:58,565] - obspy.clients.fdsn.mass_downloader - INFO: Client 'GEONET' - Acquired 1 MiniSEED files [0.0 MB].\n",
      "[2021-11-25 00:44:58,565] - obspy.clients.fdsn.mass_downloader - INFO: Client 'GEONET' - Acquired 0 StationXML files [0.0 MB].\n",
      "[2021-11-25 00:44:58,566] - obspy.clients.fdsn.mass_downloader - INFO: Downloaded 0.0 MB in total.\n",
      "[2021-11-25 00:44:58,566] - obspy.clients.fdsn.mass_downloader - INFO: Initializing FDSN client(s) for GEONET.\n",
      "[2021-11-25 00:44:58,569] - obspy.clients.fdsn.mass_downloader - INFO: Successfully initialized 1 client(s): GEONET.\n",
      "[2021-11-25 00:44:58,570] - obspy.clients.fdsn.mass_downloader - INFO: Total acquired or preexisting stations: 0\n",
      "[2021-11-25 00:44:58,570] - obspy.clients.fdsn.mass_downloader - INFO: Client 'GEONET' - Requesting unreliable availability.\n"
     ]
    },
    {
     "name": "stdout",
     "output_type": "stream",
     "text": [
      "=================================================================\n",
      "Initiating mass download request.\n"
     ]
    },
    {
     "name": "stderr",
     "output_type": "stream",
     "text": [
      "[2021-11-25 00:44:59,115] - obspy.clients.fdsn.mass_downloader - INFO: Client 'GEONET' - Successfully requested availability (0.54 seconds)\n",
      "[2021-11-25 00:44:59,115] - obspy.clients.fdsn.mass_downloader - INFO: Client 'GEONET' - Found 1 stations (1 channels).\n",
      "[2021-11-25 00:44:59,116] - obspy.clients.fdsn.mass_downloader - INFO: Client 'GEONET' - Will attempt to download data from 1 stations.\n",
      "[2021-11-25 00:44:59,116] - obspy.clients.fdsn.mass_downloader - INFO: Client 'GEONET' - Status for 1 time intervals/channels before downloading: NEEDS_DOWNLOADING\n",
      "[2021-11-25 00:45:00,181] - obspy.clients.fdsn.mass_downloader - INFO: Client 'GEONET' - Successfully downloaded 1 channels (of 1)\n",
      "[2021-11-25 00:45:00,182] - obspy.clients.fdsn.mass_downloader - INFO: Client 'GEONET' - Launching basic QC checks...\n",
      "[2021-11-25 00:45:00,186] - obspy.clients.fdsn.mass_downloader - INFO: Client 'GEONET' - Downloaded 0.0 MB [3.29 KB/sec] of data, 0.0 MB of which were discarded afterwards.\n",
      "[2021-11-25 00:45:00,186] - obspy.clients.fdsn.mass_downloader - INFO: Client 'GEONET' - Status for 1 time intervals/channels after downloading: DOWNLOADED\n",
      "[2021-11-25 00:45:00,189] - obspy.clients.fdsn.mass_downloader - INFO: Client 'GEONET' - No station information to download.\n",
      "[2021-11-25 00:45:00,190] - obspy.clients.fdsn.mass_downloader - INFO: ============================== Final report\n",
      "[2021-11-25 00:45:00,190] - obspy.clients.fdsn.mass_downloader - INFO: 0 MiniSEED files [0.0 MB] already existed.\n",
      "[2021-11-25 00:45:00,190] - obspy.clients.fdsn.mass_downloader - INFO: 1 StationXML files [0.0 MB] already existed.\n",
      "[2021-11-25 00:45:00,190] - obspy.clients.fdsn.mass_downloader - INFO: Client 'GEONET' - Acquired 1 MiniSEED files [0.0 MB].\n",
      "[2021-11-25 00:45:00,191] - obspy.clients.fdsn.mass_downloader - INFO: Client 'GEONET' - Acquired 0 StationXML files [0.0 MB].\n",
      "[2021-11-25 00:45:00,191] - obspy.clients.fdsn.mass_downloader - INFO: Downloaded 0.0 MB in total.\n",
      "[2021-11-25 00:45:00,195] - obspy.clients.fdsn.mass_downloader - INFO: Initializing FDSN client(s) for GEONET.\n",
      "[2021-11-25 00:45:00,199] - obspy.clients.fdsn.mass_downloader - INFO: Successfully initialized 1 client(s): GEONET.\n",
      "[2021-11-25 00:45:00,200] - obspy.clients.fdsn.mass_downloader - INFO: Total acquired or preexisting stations: 0\n",
      "[2021-11-25 00:45:00,200] - obspy.clients.fdsn.mass_downloader - INFO: Client 'GEONET' - Requesting unreliable availability.\n"
     ]
    },
    {
     "name": "stdout",
     "output_type": "stream",
     "text": [
      "=================================================================\n",
      "Initiating mass download request.\n"
     ]
    },
    {
     "name": "stderr",
     "output_type": "stream",
     "text": [
      "[2021-11-25 00:45:00,763] - obspy.clients.fdsn.mass_downloader - INFO: Client 'GEONET' - Successfully requested availability (0.56 seconds)\n",
      "[2021-11-25 00:45:00,765] - obspy.clients.fdsn.mass_downloader - INFO: Client 'GEONET' - Found 1 stations (1 channels).\n",
      "[2021-11-25 00:45:00,765] - obspy.clients.fdsn.mass_downloader - INFO: Client 'GEONET' - Will attempt to download data from 1 stations.\n",
      "[2021-11-25 00:45:00,766] - obspy.clients.fdsn.mass_downloader - INFO: Client 'GEONET' - Status for 1 time intervals/channels before downloading: NEEDS_DOWNLOADING\n",
      "[2021-11-25 00:45:01,351] - obspy.clients.fdsn.mass_downloader - INFO: Client 'GEONET' - No data available for request.\n",
      "[2021-11-25 00:45:01,352] - obspy.clients.fdsn.mass_downloader - INFO: Client 'GEONET' - Launching basic QC checks...\n",
      "[2021-11-25 00:45:01,353] - obspy.clients.fdsn.mass_downloader - INFO: Client 'GEONET' - Downloaded 0.0 MB [0.00 KB/sec] of data, 0.0 MB of which were discarded afterwards.\n",
      "[2021-11-25 00:45:01,353] - obspy.clients.fdsn.mass_downloader - INFO: Client 'GEONET' - Status for 1 time intervals/channels after downloading: DOWNLOAD_FAILED\n",
      "[2021-11-25 00:45:01,354] - obspy.clients.fdsn.mass_downloader - INFO: Client 'GEONET' - No station information to download.\n",
      "[2021-11-25 00:45:01,354] - obspy.clients.fdsn.mass_downloader - INFO: Client 'GEONET' - No data could be downloaded.\n",
      "[2021-11-25 00:45:01,355] - obspy.clients.fdsn.mass_downloader - INFO: ============================== Final report\n",
      "[2021-11-25 00:45:01,355] - obspy.clients.fdsn.mass_downloader - INFO: 0 MiniSEED files [0.0 MB] already existed.\n",
      "[2021-11-25 00:45:01,356] - obspy.clients.fdsn.mass_downloader - INFO: 0 StationXML files [0.0 MB] already existed.\n",
      "[2021-11-25 00:45:01,356] - obspy.clients.fdsn.mass_downloader - INFO: Client 'GEONET' - Acquired 0 MiniSEED files [0.0 MB].\n",
      "[2021-11-25 00:45:01,357] - obspy.clients.fdsn.mass_downloader - INFO: Client 'GEONET' - Acquired 0 StationXML files [0.0 MB].\n",
      "[2021-11-25 00:45:01,357] - obspy.clients.fdsn.mass_downloader - INFO: Downloaded 0.0 MB in total.\n",
      "[2021-11-25 00:45:01,358] - obspy.clients.fdsn.mass_downloader - INFO: Initializing FDSN client(s) for GEONET.\n",
      "[2021-11-25 00:45:01,360] - obspy.clients.fdsn.mass_downloader - INFO: Successfully initialized 1 client(s): GEONET.\n",
      "[2021-11-25 00:45:01,361] - obspy.clients.fdsn.mass_downloader - INFO: Total acquired or preexisting stations: 0\n",
      "[2021-11-25 00:45:01,362] - obspy.clients.fdsn.mass_downloader - INFO: Client 'GEONET' - Requesting unreliable availability.\n"
     ]
    },
    {
     "name": "stdout",
     "output_type": "stream",
     "text": [
      "=================================================================\n",
      "Initiating mass download request.\n"
     ]
    },
    {
     "name": "stderr",
     "output_type": "stream",
     "text": [
      "[2021-11-25 00:45:01,887] - obspy.clients.fdsn.mass_downloader - INFO: Client 'GEONET' - Successfully requested availability (0.52 seconds)\n",
      "[2021-11-25 00:45:01,888] - obspy.clients.fdsn.mass_downloader - INFO: Client 'GEONET' - Found 1 stations (1 channels).\n",
      "[2021-11-25 00:45:01,888] - obspy.clients.fdsn.mass_downloader - INFO: Client 'GEONET' - Will attempt to download data from 1 stations.\n",
      "[2021-11-25 00:45:01,889] - obspy.clients.fdsn.mass_downloader - INFO: Client 'GEONET' - Status for 1 time intervals/channels before downloading: NEEDS_DOWNLOADING\n",
      "[2021-11-25 00:45:03,011] - obspy.clients.fdsn.mass_downloader - INFO: Client 'GEONET' - Successfully downloaded 1 channels (of 1)\n",
      "[2021-11-25 00:45:03,012] - obspy.clients.fdsn.mass_downloader - INFO: Client 'GEONET' - Launching basic QC checks...\n",
      "[2021-11-25 00:45:03,015] - obspy.clients.fdsn.mass_downloader - INFO: Client 'GEONET' - Downloaded 0.0 MB [2.68 KB/sec] of data, 0.0 MB of which were discarded afterwards.\n",
      "[2021-11-25 00:45:03,016] - obspy.clients.fdsn.mass_downloader - INFO: Client 'GEONET' - Status for 1 time intervals/channels after downloading: DOWNLOADED\n",
      "[2021-11-25 00:45:03,020] - obspy.clients.fdsn.mass_downloader - INFO: Client 'GEONET' - No station information to download.\n",
      "[2021-11-25 00:45:03,025] - obspy.clients.fdsn.mass_downloader - INFO: ============================== Final report\n",
      "[2021-11-25 00:45:03,027] - obspy.clients.fdsn.mass_downloader - INFO: 0 MiniSEED files [0.0 MB] already existed.\n",
      "[2021-11-25 00:45:03,028] - obspy.clients.fdsn.mass_downloader - INFO: 1 StationXML files [0.0 MB] already existed.\n",
      "[2021-11-25 00:45:03,029] - obspy.clients.fdsn.mass_downloader - INFO: Client 'GEONET' - Acquired 1 MiniSEED files [0.0 MB].\n",
      "[2021-11-25 00:45:03,030] - obspy.clients.fdsn.mass_downloader - INFO: Client 'GEONET' - Acquired 0 StationXML files [0.0 MB].\n",
      "[2021-11-25 00:45:03,031] - obspy.clients.fdsn.mass_downloader - INFO: Downloaded 0.0 MB in total.\n",
      "[2021-11-25 00:45:03,034] - obspy.clients.fdsn.mass_downloader - INFO: Initializing FDSN client(s) for GEONET.\n",
      "[2021-11-25 00:45:03,040] - obspy.clients.fdsn.mass_downloader - INFO: Successfully initialized 1 client(s): GEONET.\n",
      "[2021-11-25 00:45:03,041] - obspy.clients.fdsn.mass_downloader - INFO: Total acquired or preexisting stations: 0\n",
      "[2021-11-25 00:45:03,042] - obspy.clients.fdsn.mass_downloader - INFO: Client 'GEONET' - Requesting unreliable availability.\n"
     ]
    },
    {
     "name": "stdout",
     "output_type": "stream",
     "text": [
      "=================================================================\n",
      "Initiating mass download request.\n"
     ]
    },
    {
     "name": "stderr",
     "output_type": "stream",
     "text": [
      "[2021-11-25 00:45:03,593] - obspy.clients.fdsn.mass_downloader - INFO: Client 'GEONET' - Successfully requested availability (0.55 seconds)\n",
      "[2021-11-25 00:45:03,594] - obspy.clients.fdsn.mass_downloader - INFO: Client 'GEONET' - Found 1 stations (1 channels).\n",
      "[2021-11-25 00:45:03,594] - obspy.clients.fdsn.mass_downloader - INFO: Client 'GEONET' - Will attempt to download data from 1 stations.\n",
      "[2021-11-25 00:45:03,594] - obspy.clients.fdsn.mass_downloader - INFO: Client 'GEONET' - Status for 1 time intervals/channels before downloading: NEEDS_DOWNLOADING\n",
      "[2021-11-25 00:45:04,657] - obspy.clients.fdsn.mass_downloader - INFO: Client 'GEONET' - Successfully downloaded 1 channels (of 1)\n",
      "[2021-11-25 00:45:04,663] - obspy.clients.fdsn.mass_downloader - INFO: Client 'GEONET' - Launching basic QC checks...\n",
      "[2021-11-25 00:45:04,668] - obspy.clients.fdsn.mass_downloader - INFO: Client 'GEONET' - Downloaded 0.0 MB [3.75 KB/sec] of data, 0.0 MB of which were discarded afterwards.\n",
      "[2021-11-25 00:45:04,669] - obspy.clients.fdsn.mass_downloader - INFO: Client 'GEONET' - Status for 1 time intervals/channels after downloading: DOWNLOADED\n",
      "[2021-11-25 00:45:04,680] - obspy.clients.fdsn.mass_downloader - INFO: Client 'GEONET' - No station information to download.\n",
      "[2021-11-25 00:45:04,681] - obspy.clients.fdsn.mass_downloader - INFO: ============================== Final report\n",
      "[2021-11-25 00:45:04,681] - obspy.clients.fdsn.mass_downloader - INFO: 0 MiniSEED files [0.0 MB] already existed.\n",
      "[2021-11-25 00:45:04,681] - obspy.clients.fdsn.mass_downloader - INFO: 1 StationXML files [0.0 MB] already existed.\n",
      "[2021-11-25 00:45:04,682] - obspy.clients.fdsn.mass_downloader - INFO: Client 'GEONET' - Acquired 1 MiniSEED files [0.0 MB].\n",
      "[2021-11-25 00:45:04,683] - obspy.clients.fdsn.mass_downloader - INFO: Client 'GEONET' - Acquired 0 StationXML files [0.0 MB].\n",
      "[2021-11-25 00:45:04,683] - obspy.clients.fdsn.mass_downloader - INFO: Downloaded 0.0 MB in total.\n",
      "[2021-11-25 00:45:04,691] - obspy.clients.fdsn.mass_downloader - INFO: Initializing FDSN client(s) for GEONET.\n",
      "[2021-11-25 00:45:04,694] - obspy.clients.fdsn.mass_downloader - INFO: Successfully initialized 1 client(s): GEONET.\n",
      "[2021-11-25 00:45:04,695] - obspy.clients.fdsn.mass_downloader - INFO: Total acquired or preexisting stations: 0\n",
      "[2021-11-25 00:45:04,695] - obspy.clients.fdsn.mass_downloader - INFO: Client 'GEONET' - Requesting unreliable availability.\n"
     ]
    },
    {
     "name": "stdout",
     "output_type": "stream",
     "text": [
      "=================================================================\n",
      "Initiating mass download request.\n"
     ]
    },
    {
     "name": "stderr",
     "output_type": "stream",
     "text": [
      "[2021-11-25 00:45:05,282] - obspy.clients.fdsn.mass_downloader - INFO: Client 'GEONET' - Successfully requested availability (0.59 seconds)\n",
      "[2021-11-25 00:45:05,283] - obspy.clients.fdsn.mass_downloader - INFO: Client 'GEONET' - Found 1 stations (1 channels).\n",
      "[2021-11-25 00:45:05,284] - obspy.clients.fdsn.mass_downloader - INFO: Client 'GEONET' - Will attempt to download data from 1 stations.\n",
      "[2021-11-25 00:45:05,285] - obspy.clients.fdsn.mass_downloader - INFO: Client 'GEONET' - Status for 1 time intervals/channels before downloading: NEEDS_DOWNLOADING\n",
      "[2021-11-25 00:45:06,909] - obspy.clients.fdsn.mass_downloader - INFO: Client 'GEONET' - Successfully downloaded 1 channels (of 1)\n",
      "[2021-11-25 00:45:06,919] - obspy.clients.fdsn.mass_downloader - INFO: Client 'GEONET' - Launching basic QC checks...\n",
      "[2021-11-25 00:45:06,931] - obspy.clients.fdsn.mass_downloader - INFO: Client 'GEONET' - Downloaded 0.0 MB [2.15 KB/sec] of data, 0.0 MB of which were discarded afterwards.\n",
      "[2021-11-25 00:45:06,932] - obspy.clients.fdsn.mass_downloader - INFO: Client 'GEONET' - Status for 1 time intervals/channels after downloading: DOWNLOADED\n",
      "[2021-11-25 00:45:06,945] - obspy.clients.fdsn.mass_downloader - INFO: Client 'GEONET' - No station information to download.\n",
      "[2021-11-25 00:45:06,947] - obspy.clients.fdsn.mass_downloader - INFO: ============================== Final report\n",
      "[2021-11-25 00:45:06,947] - obspy.clients.fdsn.mass_downloader - INFO: 0 MiniSEED files [0.0 MB] already existed.\n",
      "[2021-11-25 00:45:06,948] - obspy.clients.fdsn.mass_downloader - INFO: 1 StationXML files [0.0 MB] already existed.\n",
      "[2021-11-25 00:45:06,949] - obspy.clients.fdsn.mass_downloader - INFO: Client 'GEONET' - Acquired 1 MiniSEED files [0.0 MB].\n",
      "[2021-11-25 00:45:06,950] - obspy.clients.fdsn.mass_downloader - INFO: Client 'GEONET' - Acquired 0 StationXML files [0.0 MB].\n",
      "[2021-11-25 00:45:06,951] - obspy.clients.fdsn.mass_downloader - INFO: Downloaded 0.0 MB in total.\n",
      "[2021-11-25 00:45:06,959] - obspy.clients.fdsn.mass_downloader - INFO: Initializing FDSN client(s) for GEONET.\n",
      "[2021-11-25 00:45:06,964] - obspy.clients.fdsn.mass_downloader - INFO: Successfully initialized 1 client(s): GEONET.\n",
      "[2021-11-25 00:45:06,969] - obspy.clients.fdsn.mass_downloader - INFO: Total acquired or preexisting stations: 0\n",
      "[2021-11-25 00:45:06,970] - obspy.clients.fdsn.mass_downloader - INFO: Client 'GEONET' - Requesting unreliable availability.\n"
     ]
    },
    {
     "name": "stdout",
     "output_type": "stream",
     "text": [
      "=================================================================\n",
      "Initiating mass download request.\n"
     ]
    },
    {
     "name": "stderr",
     "output_type": "stream",
     "text": [
      "[2021-11-25 00:45:07,521] - obspy.clients.fdsn.mass_downloader - INFO: Client 'GEONET' - Successfully requested availability (0.55 seconds)\n",
      "[2021-11-25 00:45:07,522] - obspy.clients.fdsn.mass_downloader - INFO: Client 'GEONET' - Found 1 stations (1 channels).\n",
      "[2021-11-25 00:45:07,522] - obspy.clients.fdsn.mass_downloader - INFO: Client 'GEONET' - Will attempt to download data from 1 stations.\n",
      "[2021-11-25 00:45:07,522] - obspy.clients.fdsn.mass_downloader - INFO: Client 'GEONET' - Status for 1 time intervals/channels before downloading: NEEDS_DOWNLOADING\n",
      "[2021-11-25 00:45:08,695] - obspy.clients.fdsn.mass_downloader - INFO: Client 'GEONET' - Successfully downloaded 1 channels (of 1)\n",
      "[2021-11-25 00:45:08,695] - obspy.clients.fdsn.mass_downloader - INFO: Client 'GEONET' - Launching basic QC checks...\n",
      "[2021-11-25 00:45:08,699] - obspy.clients.fdsn.mass_downloader - INFO: Client 'GEONET' - Downloaded 0.0 MB [2.99 KB/sec] of data, 0.0 MB of which were discarded afterwards.\n",
      "[2021-11-25 00:45:08,699] - obspy.clients.fdsn.mass_downloader - INFO: Client 'GEONET' - Status for 1 time intervals/channels after downloading: DOWNLOADED\n",
      "[2021-11-25 00:45:08,701] - obspy.clients.fdsn.mass_downloader - INFO: Client 'GEONET' - No station information to download.\n",
      "[2021-11-25 00:45:08,702] - obspy.clients.fdsn.mass_downloader - INFO: ============================== Final report\n",
      "[2021-11-25 00:45:08,702] - obspy.clients.fdsn.mass_downloader - INFO: 0 MiniSEED files [0.0 MB] already existed.\n",
      "[2021-11-25 00:45:08,703] - obspy.clients.fdsn.mass_downloader - INFO: 1 StationXML files [0.0 MB] already existed.\n",
      "[2021-11-25 00:45:08,703] - obspy.clients.fdsn.mass_downloader - INFO: Client 'GEONET' - Acquired 1 MiniSEED files [0.0 MB].\n",
      "[2021-11-25 00:45:08,704] - obspy.clients.fdsn.mass_downloader - INFO: Client 'GEONET' - Acquired 0 StationXML files [0.0 MB].\n",
      "[2021-11-25 00:45:08,704] - obspy.clients.fdsn.mass_downloader - INFO: Downloaded 0.0 MB in total.\n",
      "[2021-11-25 00:45:08,704] - obspy.clients.fdsn.mass_downloader - INFO: Initializing FDSN client(s) for GEONET.\n",
      "[2021-11-25 00:45:08,708] - obspy.clients.fdsn.mass_downloader - INFO: Successfully initialized 1 client(s): GEONET.\n",
      "[2021-11-25 00:45:08,709] - obspy.clients.fdsn.mass_downloader - INFO: Total acquired or preexisting stations: 0\n",
      "[2021-11-25 00:45:08,709] - obspy.clients.fdsn.mass_downloader - INFO: Client 'GEONET' - Requesting unreliable availability.\n"
     ]
    },
    {
     "name": "stdout",
     "output_type": "stream",
     "text": [
      "=================================================================\n",
      "Initiating mass download request.\n"
     ]
    },
    {
     "name": "stderr",
     "output_type": "stream",
     "text": [
      "[2021-11-25 00:45:09,303] - obspy.clients.fdsn.mass_downloader - INFO: Client 'GEONET' - Successfully requested availability (0.59 seconds)\n",
      "[2021-11-25 00:45:09,303] - obspy.clients.fdsn.mass_downloader - INFO: Client 'GEONET' - Found 1 stations (1 channels).\n",
      "[2021-11-25 00:45:09,304] - obspy.clients.fdsn.mass_downloader - INFO: Client 'GEONET' - Will attempt to download data from 1 stations.\n",
      "[2021-11-25 00:45:09,304] - obspy.clients.fdsn.mass_downloader - INFO: Client 'GEONET' - Status for 1 time intervals/channels before downloading: NEEDS_DOWNLOADING\n",
      "[2021-11-25 00:45:10,366] - obspy.clients.fdsn.mass_downloader - INFO: Client 'GEONET' - Successfully downloaded 1 channels (of 1)\n",
      "[2021-11-25 00:45:10,371] - obspy.clients.fdsn.mass_downloader - INFO: Client 'GEONET' - Launching basic QC checks...\n",
      "[2021-11-25 00:45:10,384] - obspy.clients.fdsn.mass_downloader - INFO: Client 'GEONET' - Downloaded 0.0 MB [2.82 KB/sec] of data, 0.0 MB of which were discarded afterwards.\n",
      "[2021-11-25 00:45:10,384] - obspy.clients.fdsn.mass_downloader - INFO: Client 'GEONET' - Status for 1 time intervals/channels after downloading: DOWNLOADED\n",
      "[2021-11-25 00:45:10,388] - obspy.clients.fdsn.mass_downloader - INFO: Client 'GEONET' - No station information to download.\n",
      "[2021-11-25 00:45:10,389] - obspy.clients.fdsn.mass_downloader - INFO: ============================== Final report\n",
      "[2021-11-25 00:45:10,390] - obspy.clients.fdsn.mass_downloader - INFO: 0 MiniSEED files [0.0 MB] already existed.\n",
      "[2021-11-25 00:45:10,391] - obspy.clients.fdsn.mass_downloader - INFO: 1 StationXML files [0.0 MB] already existed.\n",
      "[2021-11-25 00:45:10,391] - obspy.clients.fdsn.mass_downloader - INFO: Client 'GEONET' - Acquired 1 MiniSEED files [0.0 MB].\n",
      "[2021-11-25 00:45:10,392] - obspy.clients.fdsn.mass_downloader - INFO: Client 'GEONET' - Acquired 0 StationXML files [0.0 MB].\n",
      "[2021-11-25 00:45:10,393] - obspy.clients.fdsn.mass_downloader - INFO: Downloaded 0.0 MB in total.\n",
      "[2021-11-25 00:45:10,402] - obspy.clients.fdsn.mass_downloader - INFO: Initializing FDSN client(s) for GEONET.\n",
      "[2021-11-25 00:45:10,415] - obspy.clients.fdsn.mass_downloader - INFO: Successfully initialized 1 client(s): GEONET.\n",
      "[2021-11-25 00:45:10,416] - obspy.clients.fdsn.mass_downloader - INFO: Total acquired or preexisting stations: 0\n",
      "[2021-11-25 00:45:10,416] - obspy.clients.fdsn.mass_downloader - INFO: Client 'GEONET' - Requesting unreliable availability.\n"
     ]
    },
    {
     "name": "stdout",
     "output_type": "stream",
     "text": [
      "=================================================================\n",
      "Initiating mass download request.\n"
     ]
    },
    {
     "name": "stderr",
     "output_type": "stream",
     "text": [
      "[2021-11-25 00:45:11,488] - obspy.clients.fdsn.mass_downloader - INFO: Client 'GEONET' - Successfully requested availability (1.07 seconds)\n",
      "[2021-11-25 00:45:11,489] - obspy.clients.fdsn.mass_downloader - INFO: Client 'GEONET' - Found 1 stations (1 channels).\n",
      "[2021-11-25 00:45:11,490] - obspy.clients.fdsn.mass_downloader - INFO: Client 'GEONET' - Will attempt to download data from 1 stations.\n",
      "[2021-11-25 00:45:11,491] - obspy.clients.fdsn.mass_downloader - INFO: Client 'GEONET' - Status for 1 time intervals/channels before downloading: NEEDS_DOWNLOADING\n",
      "[2021-11-25 00:45:12,383] - obspy.clients.fdsn.mass_downloader - INFO: Client 'GEONET' - Successfully downloaded 1 channels (of 1)\n",
      "[2021-11-25 00:45:12,385] - obspy.clients.fdsn.mass_downloader - INFO: Client 'GEONET' - Launching basic QC checks...\n",
      "[2021-11-25 00:45:12,388] - obspy.clients.fdsn.mass_downloader - INFO: Client 'GEONET' - Downloaded 0.0 MB [3.36 KB/sec] of data, 0.0 MB of which were discarded afterwards.\n",
      "[2021-11-25 00:45:12,388] - obspy.clients.fdsn.mass_downloader - INFO: Client 'GEONET' - Status for 1 time intervals/channels after downloading: DOWNLOADED\n",
      "[2021-11-25 00:45:12,389] - obspy.clients.fdsn.mass_downloader - INFO: Client 'GEONET' - No station information to download.\n",
      "[2021-11-25 00:45:12,390] - obspy.clients.fdsn.mass_downloader - INFO: ============================== Final report\n",
      "[2021-11-25 00:45:12,390] - obspy.clients.fdsn.mass_downloader - INFO: 0 MiniSEED files [0.0 MB] already existed.\n",
      "[2021-11-25 00:45:12,390] - obspy.clients.fdsn.mass_downloader - INFO: 1 StationXML files [0.0 MB] already existed.\n",
      "[2021-11-25 00:45:12,391] - obspy.clients.fdsn.mass_downloader - INFO: Client 'GEONET' - Acquired 1 MiniSEED files [0.0 MB].\n",
      "[2021-11-25 00:45:12,391] - obspy.clients.fdsn.mass_downloader - INFO: Client 'GEONET' - Acquired 0 StationXML files [0.0 MB].\n",
      "[2021-11-25 00:45:12,391] - obspy.clients.fdsn.mass_downloader - INFO: Downloaded 0.0 MB in total.\n",
      "[2021-11-25 00:45:12,392] - obspy.clients.fdsn.mass_downloader - INFO: Initializing FDSN client(s) for GEONET.\n",
      "[2021-11-25 00:45:12,396] - obspy.clients.fdsn.mass_downloader - INFO: Successfully initialized 1 client(s): GEONET.\n",
      "[2021-11-25 00:45:12,396] - obspy.clients.fdsn.mass_downloader - INFO: Total acquired or preexisting stations: 0\n",
      "[2021-11-25 00:45:12,397] - obspy.clients.fdsn.mass_downloader - INFO: Client 'GEONET' - Requesting unreliable availability.\n"
     ]
    },
    {
     "name": "stdout",
     "output_type": "stream",
     "text": [
      "=================================================================\n",
      "Initiating mass download request.\n"
     ]
    },
    {
     "name": "stderr",
     "output_type": "stream",
     "text": [
      "[2021-11-25 00:45:12,988] - obspy.clients.fdsn.mass_downloader - INFO: Client 'GEONET' - Successfully requested availability (0.59 seconds)\n",
      "[2021-11-25 00:45:12,988] - obspy.clients.fdsn.mass_downloader - INFO: Client 'GEONET' - Found 1 stations (1 channels).\n",
      "[2021-11-25 00:45:12,988] - obspy.clients.fdsn.mass_downloader - INFO: Client 'GEONET' - Will attempt to download data from 1 stations.\n",
      "[2021-11-25 00:45:12,989] - obspy.clients.fdsn.mass_downloader - INFO: Client 'GEONET' - Status for 1 time intervals/channels before downloading: NEEDS_DOWNLOADING\n",
      "[2021-11-25 00:45:13,995] - obspy.clients.fdsn.mass_downloader - INFO: Client 'GEONET' - Successfully downloaded 1 channels (of 1)\n",
      "[2021-11-25 00:45:14,003] - obspy.clients.fdsn.mass_downloader - INFO: Client 'GEONET' - Launching basic QC checks...\n",
      "[2021-11-25 00:45:14,012] - obspy.clients.fdsn.mass_downloader - INFO: Client 'GEONET' - Downloaded 0.0 MB [3.46 KB/sec] of data, 0.0 MB of which were discarded afterwards.\n",
      "[2021-11-25 00:45:14,013] - obspy.clients.fdsn.mass_downloader - INFO: Client 'GEONET' - Status for 1 time intervals/channels after downloading: DOWNLOADED\n",
      "[2021-11-25 00:45:14,019] - obspy.clients.fdsn.mass_downloader - INFO: Client 'GEONET' - No station information to download.\n",
      "[2021-11-25 00:45:14,020] - obspy.clients.fdsn.mass_downloader - INFO: ============================== Final report\n",
      "[2021-11-25 00:45:14,021] - obspy.clients.fdsn.mass_downloader - INFO: 0 MiniSEED files [0.0 MB] already existed.\n",
      "[2021-11-25 00:45:14,022] - obspy.clients.fdsn.mass_downloader - INFO: 1 StationXML files [0.0 MB] already existed.\n",
      "[2021-11-25 00:45:14,023] - obspy.clients.fdsn.mass_downloader - INFO: Client 'GEONET' - Acquired 1 MiniSEED files [0.0 MB].\n",
      "[2021-11-25 00:45:14,023] - obspy.clients.fdsn.mass_downloader - INFO: Client 'GEONET' - Acquired 0 StationXML files [0.0 MB].\n",
      "[2021-11-25 00:45:14,024] - obspy.clients.fdsn.mass_downloader - INFO: Downloaded 0.0 MB in total.\n",
      "[2021-11-25 00:45:14,031] - obspy.clients.fdsn.mass_downloader - INFO: Initializing FDSN client(s) for GEONET.\n",
      "[2021-11-25 00:45:14,035] - obspy.clients.fdsn.mass_downloader - INFO: Successfully initialized 1 client(s): GEONET.\n",
      "[2021-11-25 00:45:14,036] - obspy.clients.fdsn.mass_downloader - INFO: Total acquired or preexisting stations: 0\n",
      "[2021-11-25 00:45:14,036] - obspy.clients.fdsn.mass_downloader - INFO: Client 'GEONET' - Requesting unreliable availability.\n"
     ]
    },
    {
     "name": "stdout",
     "output_type": "stream",
     "text": [
      "=================================================================\n",
      "Initiating mass download request.\n"
     ]
    },
    {
     "name": "stderr",
     "output_type": "stream",
     "text": [
      "[2021-11-25 00:45:14,616] - obspy.clients.fdsn.mass_downloader - INFO: Client 'GEONET' - Successfully requested availability (0.58 seconds)\n",
      "[2021-11-25 00:45:14,622] - obspy.clients.fdsn.mass_downloader - INFO: Client 'GEONET' - Found 1 stations (1 channels).\n",
      "[2021-11-25 00:45:14,628] - obspy.clients.fdsn.mass_downloader - INFO: Client 'GEONET' - Will attempt to download data from 1 stations.\n",
      "[2021-11-25 00:45:14,635] - obspy.clients.fdsn.mass_downloader - INFO: Client 'GEONET' - Status for 1 time intervals/channels before downloading: NEEDS_DOWNLOADING\n",
      "[2021-11-25 00:45:16,137] - obspy.clients.fdsn.mass_downloader - INFO: Client 'GEONET' - Successfully downloaded 1 channels (of 1)\n",
      "[2021-11-25 00:45:16,140] - obspy.clients.fdsn.mass_downloader - INFO: Client 'GEONET' - Launching basic QC checks...\n",
      "[2021-11-25 00:45:16,149] - obspy.clients.fdsn.mass_downloader - INFO: Client 'GEONET' - Downloaded 0.0 MB [2.34 KB/sec] of data, 0.0 MB of which were discarded afterwards.\n",
      "[2021-11-25 00:45:16,150] - obspy.clients.fdsn.mass_downloader - INFO: Client 'GEONET' - Status for 1 time intervals/channels after downloading: DOWNLOADED\n",
      "[2021-11-25 00:45:16,153] - obspy.clients.fdsn.mass_downloader - INFO: Client 'GEONET' - No station information to download.\n",
      "[2021-11-25 00:45:16,154] - obspy.clients.fdsn.mass_downloader - INFO: ============================== Final report\n",
      "[2021-11-25 00:45:16,154] - obspy.clients.fdsn.mass_downloader - INFO: 0 MiniSEED files [0.0 MB] already existed.\n",
      "[2021-11-25 00:45:16,155] - obspy.clients.fdsn.mass_downloader - INFO: 1 StationXML files [0.0 MB] already existed.\n",
      "[2021-11-25 00:45:16,155] - obspy.clients.fdsn.mass_downloader - INFO: Client 'GEONET' - Acquired 1 MiniSEED files [0.0 MB].\n",
      "[2021-11-25 00:45:16,156] - obspy.clients.fdsn.mass_downloader - INFO: Client 'GEONET' - Acquired 0 StationXML files [0.0 MB].\n",
      "[2021-11-25 00:45:16,156] - obspy.clients.fdsn.mass_downloader - INFO: Downloaded 0.0 MB in total.\n",
      "[2021-11-25 00:45:16,163] - obspy.clients.fdsn.mass_downloader - INFO: Initializing FDSN client(s) for GEONET.\n",
      "[2021-11-25 00:45:16,166] - obspy.clients.fdsn.mass_downloader - INFO: Successfully initialized 1 client(s): GEONET.\n",
      "[2021-11-25 00:45:16,167] - obspy.clients.fdsn.mass_downloader - INFO: Total acquired or preexisting stations: 0\n",
      "[2021-11-25 00:45:16,167] - obspy.clients.fdsn.mass_downloader - INFO: Client 'GEONET' - Requesting unreliable availability.\n"
     ]
    },
    {
     "name": "stdout",
     "output_type": "stream",
     "text": [
      "=================================================================\n",
      "Initiating mass download request.\n"
     ]
    },
    {
     "name": "stderr",
     "output_type": "stream",
     "text": [
      "[2021-11-25 00:45:16,706] - obspy.clients.fdsn.mass_downloader - INFO: Client 'GEONET' - Successfully requested availability (0.54 seconds)\n",
      "[2021-11-25 00:45:16,706] - obspy.clients.fdsn.mass_downloader - INFO: Client 'GEONET' - Found 1 stations (1 channels).\n",
      "[2021-11-25 00:45:16,707] - obspy.clients.fdsn.mass_downloader - INFO: Client 'GEONET' - Will attempt to download data from 1 stations.\n",
      "[2021-11-25 00:45:16,707] - obspy.clients.fdsn.mass_downloader - INFO: Client 'GEONET' - Status for 1 time intervals/channels before downloading: NEEDS_DOWNLOADING\n",
      "[2021-11-25 00:45:18,646] - obspy.clients.fdsn.mass_downloader - INFO: Client 'GEONET' - Successfully downloaded 1 channels (of 1)\n",
      "[2021-11-25 00:45:18,654] - obspy.clients.fdsn.mass_downloader - INFO: Client 'GEONET' - Launching basic QC checks...\n",
      "[2021-11-25 00:45:18,664] - obspy.clients.fdsn.mass_downloader - INFO: Client 'GEONET' - Downloaded 0.0 MB [1.80 KB/sec] of data, 0.0 MB of which were discarded afterwards.\n",
      "[2021-11-25 00:45:18,664] - obspy.clients.fdsn.mass_downloader - INFO: Client 'GEONET' - Status for 1 time intervals/channels after downloading: DOWNLOADED\n",
      "[2021-11-25 00:45:18,667] - obspy.clients.fdsn.mass_downloader - INFO: Client 'GEONET' - No station information to download.\n",
      "[2021-11-25 00:45:18,667] - obspy.clients.fdsn.mass_downloader - INFO: ============================== Final report\n",
      "[2021-11-25 00:45:18,668] - obspy.clients.fdsn.mass_downloader - INFO: 0 MiniSEED files [0.0 MB] already existed.\n",
      "[2021-11-25 00:45:18,668] - obspy.clients.fdsn.mass_downloader - INFO: 1 StationXML files [0.0 MB] already existed.\n",
      "[2021-11-25 00:45:18,668] - obspy.clients.fdsn.mass_downloader - INFO: Client 'GEONET' - Acquired 1 MiniSEED files [0.0 MB].\n",
      "[2021-11-25 00:45:18,669] - obspy.clients.fdsn.mass_downloader - INFO: Client 'GEONET' - Acquired 0 StationXML files [0.0 MB].\n",
      "[2021-11-25 00:45:18,669] - obspy.clients.fdsn.mass_downloader - INFO: Downloaded 0.0 MB in total.\n",
      "[2021-11-25 00:45:18,680] - obspy.clients.fdsn.mass_downloader - INFO: Initializing FDSN client(s) for GEONET.\n",
      "[2021-11-25 00:45:18,691] - obspy.clients.fdsn.mass_downloader - INFO: Successfully initialized 1 client(s): GEONET.\n",
      "[2021-11-25 00:45:18,692] - obspy.clients.fdsn.mass_downloader - INFO: Total acquired or preexisting stations: 0\n",
      "[2021-11-25 00:45:18,692] - obspy.clients.fdsn.mass_downloader - INFO: Client 'GEONET' - Requesting unreliable availability.\n"
     ]
    },
    {
     "name": "stdout",
     "output_type": "stream",
     "text": [
      "=================================================================\n",
      "Initiating mass download request.\n"
     ]
    },
    {
     "name": "stderr",
     "output_type": "stream",
     "text": [
      "[2021-11-25 00:45:19,839] - obspy.clients.fdsn.mass_downloader - INFO: Client 'GEONET' - Successfully requested availability (1.15 seconds)\n",
      "[2021-11-25 00:45:19,841] - obspy.clients.fdsn.mass_downloader - INFO: Client 'GEONET' - Found 1 stations (1 channels).\n",
      "[2021-11-25 00:45:19,842] - obspy.clients.fdsn.mass_downloader - INFO: Client 'GEONET' - Will attempt to download data from 1 stations.\n",
      "[2021-11-25 00:45:19,843] - obspy.clients.fdsn.mass_downloader - INFO: Client 'GEONET' - Status for 1 time intervals/channels before downloading: NEEDS_DOWNLOADING\n",
      "[2021-11-25 00:45:21,368] - obspy.clients.fdsn.mass_downloader - INFO: Client 'GEONET' - Successfully downloaded 1 channels (of 1)\n",
      "[2021-11-25 00:45:21,370] - obspy.clients.fdsn.mass_downloader - INFO: Client 'GEONET' - Launching basic QC checks...\n",
      "[2021-11-25 00:45:21,376] - obspy.clients.fdsn.mass_downloader - INFO: Client 'GEONET' - Downloaded 0.0 MB [2.30 KB/sec] of data, 0.0 MB of which were discarded afterwards.\n",
      "[2021-11-25 00:45:21,376] - obspy.clients.fdsn.mass_downloader - INFO: Client 'GEONET' - Status for 1 time intervals/channels after downloading: DOWNLOADED\n",
      "[2021-11-25 00:45:21,379] - obspy.clients.fdsn.mass_downloader - INFO: Client 'GEONET' - No station information to download.\n",
      "[2021-11-25 00:45:21,381] - obspy.clients.fdsn.mass_downloader - INFO: ============================== Final report\n",
      "[2021-11-25 00:45:21,381] - obspy.clients.fdsn.mass_downloader - INFO: 0 MiniSEED files [0.0 MB] already existed.\n",
      "[2021-11-25 00:45:21,382] - obspy.clients.fdsn.mass_downloader - INFO: 1 StationXML files [0.0 MB] already existed.\n",
      "[2021-11-25 00:45:21,382] - obspy.clients.fdsn.mass_downloader - INFO: Client 'GEONET' - Acquired 1 MiniSEED files [0.0 MB].\n",
      "[2021-11-25 00:45:21,383] - obspy.clients.fdsn.mass_downloader - INFO: Client 'GEONET' - Acquired 0 StationXML files [0.0 MB].\n",
      "[2021-11-25 00:45:21,384] - obspy.clients.fdsn.mass_downloader - INFO: Downloaded 0.0 MB in total.\n",
      "[2021-11-25 00:45:21,387] - obspy.clients.fdsn.mass_downloader - INFO: Initializing FDSN client(s) for GEONET.\n",
      "[2021-11-25 00:45:21,391] - obspy.clients.fdsn.mass_downloader - INFO: Successfully initialized 1 client(s): GEONET.\n",
      "[2021-11-25 00:45:21,393] - obspy.clients.fdsn.mass_downloader - INFO: Total acquired or preexisting stations: 0\n",
      "[2021-11-25 00:45:21,393] - obspy.clients.fdsn.mass_downloader - INFO: Client 'GEONET' - Requesting unreliable availability.\n"
     ]
    },
    {
     "name": "stdout",
     "output_type": "stream",
     "text": [
      "=================================================================\n",
      "Initiating mass download request.\n"
     ]
    },
    {
     "name": "stderr",
     "output_type": "stream",
     "text": [
      "[2021-11-25 00:45:21,939] - obspy.clients.fdsn.mass_downloader - INFO: Client 'GEONET' - Successfully requested availability (0.55 seconds)\n",
      "[2021-11-25 00:45:21,939] - obspy.clients.fdsn.mass_downloader - INFO: Client 'GEONET' - Found 1 stations (1 channels).\n",
      "[2021-11-25 00:45:21,940] - obspy.clients.fdsn.mass_downloader - INFO: Client 'GEONET' - Will attempt to download data from 1 stations.\n",
      "[2021-11-25 00:45:21,940] - obspy.clients.fdsn.mass_downloader - INFO: Client 'GEONET' - Status for 1 time intervals/channels before downloading: NEEDS_DOWNLOADING\n",
      "[2021-11-25 00:45:23,202] - obspy.clients.fdsn.mass_downloader - INFO: Client 'GEONET' - Successfully downloaded 1 channels (of 1)\n",
      "[2021-11-25 00:45:23,212] - obspy.clients.fdsn.mass_downloader - INFO: Client 'GEONET' - Launching basic QC checks...\n",
      "[2021-11-25 00:45:23,222] - obspy.clients.fdsn.mass_downloader - INFO: Client 'GEONET' - Downloaded 0.0 MB [2.36 KB/sec] of data, 0.0 MB of which were discarded afterwards.\n",
      "[2021-11-25 00:45:23,224] - obspy.clients.fdsn.mass_downloader - INFO: Client 'GEONET' - Status for 1 time intervals/channels after downloading: DOWNLOADED\n",
      "[2021-11-25 00:45:23,232] - obspy.clients.fdsn.mass_downloader - INFO: Client 'GEONET' - No station information to download.\n",
      "[2021-11-25 00:45:23,236] - obspy.clients.fdsn.mass_downloader - INFO: ============================== Final report\n",
      "[2021-11-25 00:45:23,238] - obspy.clients.fdsn.mass_downloader - INFO: 0 MiniSEED files [0.0 MB] already existed.\n",
      "[2021-11-25 00:45:23,238] - obspy.clients.fdsn.mass_downloader - INFO: 1 StationXML files [0.0 MB] already existed.\n",
      "[2021-11-25 00:45:23,239] - obspy.clients.fdsn.mass_downloader - INFO: Client 'GEONET' - Acquired 1 MiniSEED files [0.0 MB].\n",
      "[2021-11-25 00:45:23,239] - obspy.clients.fdsn.mass_downloader - INFO: Client 'GEONET' - Acquired 0 StationXML files [0.0 MB].\n",
      "[2021-11-25 00:45:23,240] - obspy.clients.fdsn.mass_downloader - INFO: Downloaded 0.0 MB in total.\n",
      "[2021-11-25 00:45:23,241] - obspy.clients.fdsn.mass_downloader - INFO: Initializing FDSN client(s) for GEONET.\n",
      "[2021-11-25 00:45:23,252] - obspy.clients.fdsn.mass_downloader - INFO: Successfully initialized 1 client(s): GEONET.\n",
      "[2021-11-25 00:45:23,253] - obspy.clients.fdsn.mass_downloader - INFO: Total acquired or preexisting stations: 0\n",
      "[2021-11-25 00:45:23,254] - obspy.clients.fdsn.mass_downloader - INFO: Client 'GEONET' - Requesting unreliable availability.\n"
     ]
    },
    {
     "name": "stdout",
     "output_type": "stream",
     "text": [
      "=================================================================\n",
      "Initiating mass download request.\n"
     ]
    },
    {
     "name": "stderr",
     "output_type": "stream",
     "text": [
      "[2021-11-25 00:45:23,823] - obspy.clients.fdsn.mass_downloader - INFO: Client 'GEONET' - Successfully requested availability (0.57 seconds)\n",
      "[2021-11-25 00:45:23,825] - obspy.clients.fdsn.mass_downloader - INFO: Client 'GEONET' - Found 1 stations (1 channels).\n",
      "[2021-11-25 00:45:23,826] - obspy.clients.fdsn.mass_downloader - INFO: Client 'GEONET' - Will attempt to download data from 1 stations.\n",
      "[2021-11-25 00:45:23,828] - obspy.clients.fdsn.mass_downloader - INFO: Client 'GEONET' - Status for 1 time intervals/channels before downloading: NEEDS_DOWNLOADING\n",
      "[2021-11-25 00:45:25,008] - obspy.clients.fdsn.mass_downloader - INFO: Client 'GEONET' - Successfully downloaded 1 channels (of 1)\n",
      "[2021-11-25 00:45:25,069] - obspy.clients.fdsn.mass_downloader - INFO: Client 'GEONET' - Launching basic QC checks...\n",
      "[2021-11-25 00:45:25,080] - obspy.clients.fdsn.mass_downloader - INFO: Client 'GEONET' - Downloaded 0.0 MB [3.23 KB/sec] of data, 0.0 MB of which were discarded afterwards.\n",
      "[2021-11-25 00:45:25,083] - obspy.clients.fdsn.mass_downloader - INFO: Client 'GEONET' - Status for 1 time intervals/channels after downloading: DOWNLOADED\n",
      "[2021-11-25 00:45:25,095] - obspy.clients.fdsn.mass_downloader - INFO: Client 'GEONET' - No station information to download.\n",
      "[2021-11-25 00:45:25,096] - obspy.clients.fdsn.mass_downloader - INFO: ============================== Final report\n",
      "[2021-11-25 00:45:25,100] - obspy.clients.fdsn.mass_downloader - INFO: 0 MiniSEED files [0.0 MB] already existed.\n",
      "[2021-11-25 00:45:25,105] - obspy.clients.fdsn.mass_downloader - INFO: 1 StationXML files [0.0 MB] already existed.\n",
      "[2021-11-25 00:45:25,106] - obspy.clients.fdsn.mass_downloader - INFO: Client 'GEONET' - Acquired 1 MiniSEED files [0.0 MB].\n",
      "[2021-11-25 00:45:25,107] - obspy.clients.fdsn.mass_downloader - INFO: Client 'GEONET' - Acquired 0 StationXML files [0.0 MB].\n",
      "[2021-11-25 00:45:25,113] - obspy.clients.fdsn.mass_downloader - INFO: Downloaded 0.0 MB in total.\n",
      "[2021-11-25 00:45:25,120] - obspy.clients.fdsn.mass_downloader - INFO: Initializing FDSN client(s) for GEONET.\n",
      "[2021-11-25 00:45:25,128] - obspy.clients.fdsn.mass_downloader - INFO: Successfully initialized 1 client(s): GEONET.\n",
      "[2021-11-25 00:45:25,129] - obspy.clients.fdsn.mass_downloader - INFO: Total acquired or preexisting stations: 0\n",
      "[2021-11-25 00:45:25,130] - obspy.clients.fdsn.mass_downloader - INFO: Client 'GEONET' - Requesting unreliable availability.\n"
     ]
    },
    {
     "name": "stdout",
     "output_type": "stream",
     "text": [
      "=================================================================\n",
      "Initiating mass download request.\n"
     ]
    },
    {
     "name": "stderr",
     "output_type": "stream",
     "text": [
      "[2021-11-25 00:45:25,723] - obspy.clients.fdsn.mass_downloader - INFO: Client 'GEONET' - Successfully requested availability (0.59 seconds)\n",
      "[2021-11-25 00:45:25,723] - obspy.clients.fdsn.mass_downloader - INFO: Client 'GEONET' - Found 1 stations (1 channels).\n",
      "[2021-11-25 00:45:25,723] - obspy.clients.fdsn.mass_downloader - INFO: Client 'GEONET' - Will attempt to download data from 1 stations.\n",
      "[2021-11-25 00:45:25,724] - obspy.clients.fdsn.mass_downloader - INFO: Client 'GEONET' - Status for 1 time intervals/channels before downloading: NEEDS_DOWNLOADING\n",
      "[2021-11-25 00:45:26,629] - obspy.clients.fdsn.mass_downloader - INFO: Client 'GEONET' - Successfully downloaded 1 channels (of 1)\n",
      "[2021-11-25 00:45:26,632] - obspy.clients.fdsn.mass_downloader - INFO: Client 'GEONET' - Launching basic QC checks...\n",
      "[2021-11-25 00:45:26,635] - obspy.clients.fdsn.mass_downloader - INFO: Client 'GEONET' - Downloaded 0.0 MB [3.86 KB/sec] of data, 0.0 MB of which were discarded afterwards.\n",
      "[2021-11-25 00:45:26,635] - obspy.clients.fdsn.mass_downloader - INFO: Client 'GEONET' - Status for 1 time intervals/channels after downloading: DOWNLOADED\n",
      "[2021-11-25 00:45:26,637] - obspy.clients.fdsn.mass_downloader - INFO: Client 'GEONET' - No station information to download.\n",
      "[2021-11-25 00:45:26,638] - obspy.clients.fdsn.mass_downloader - INFO: ============================== Final report\n",
      "[2021-11-25 00:45:26,638] - obspy.clients.fdsn.mass_downloader - INFO: 0 MiniSEED files [0.0 MB] already existed.\n",
      "[2021-11-25 00:45:26,638] - obspy.clients.fdsn.mass_downloader - INFO: 1 StationXML files [0.0 MB] already existed.\n",
      "[2021-11-25 00:45:26,638] - obspy.clients.fdsn.mass_downloader - INFO: Client 'GEONET' - Acquired 1 MiniSEED files [0.0 MB].\n",
      "[2021-11-25 00:45:26,639] - obspy.clients.fdsn.mass_downloader - INFO: Client 'GEONET' - Acquired 0 StationXML files [0.0 MB].\n",
      "[2021-11-25 00:45:26,639] - obspy.clients.fdsn.mass_downloader - INFO: Downloaded 0.0 MB in total.\n",
      "[2021-11-25 00:45:26,640] - obspy.clients.fdsn.mass_downloader - INFO: Initializing FDSN client(s) for GEONET.\n",
      "[2021-11-25 00:45:26,642] - obspy.clients.fdsn.mass_downloader - INFO: Successfully initialized 1 client(s): GEONET.\n",
      "[2021-11-25 00:45:26,643] - obspy.clients.fdsn.mass_downloader - INFO: Total acquired or preexisting stations: 0\n",
      "[2021-11-25 00:45:26,643] - obspy.clients.fdsn.mass_downloader - INFO: Client 'GEONET' - Requesting unreliable availability.\n"
     ]
    },
    {
     "name": "stdout",
     "output_type": "stream",
     "text": [
      "=================================================================\n",
      "Initiating mass download request.\n"
     ]
    },
    {
     "name": "stderr",
     "output_type": "stream",
     "text": [
      "[2021-11-25 00:45:27,161] - obspy.clients.fdsn.mass_downloader - INFO: Client 'GEONET' - Successfully requested availability (0.52 seconds)\n",
      "[2021-11-25 00:45:27,162] - obspy.clients.fdsn.mass_downloader - INFO: Client 'GEONET' - Found 1 stations (1 channels).\n",
      "[2021-11-25 00:45:27,162] - obspy.clients.fdsn.mass_downloader - INFO: Client 'GEONET' - Will attempt to download data from 1 stations.\n",
      "[2021-11-25 00:45:27,163] - obspy.clients.fdsn.mass_downloader - INFO: Client 'GEONET' - Status for 1 time intervals/channels before downloading: NEEDS_DOWNLOADING\n",
      "[2021-11-25 00:45:28,218] - obspy.clients.fdsn.mass_downloader - INFO: Client 'GEONET' - Successfully downloaded 1 channels (of 1)\n",
      "[2021-11-25 00:45:28,223] - obspy.clients.fdsn.mass_downloader - INFO: Client 'GEONET' - Launching basic QC checks...\n",
      "[2021-11-25 00:45:28,227] - obspy.clients.fdsn.mass_downloader - INFO: Client 'GEONET' - Downloaded 0.0 MB [3.31 KB/sec] of data, 0.0 MB of which were discarded afterwards.\n",
      "[2021-11-25 00:45:28,228] - obspy.clients.fdsn.mass_downloader - INFO: Client 'GEONET' - Status for 1 time intervals/channels after downloading: DOWNLOADED\n",
      "[2021-11-25 00:45:28,233] - obspy.clients.fdsn.mass_downloader - INFO: Client 'GEONET' - No station information to download.\n",
      "[2021-11-25 00:45:28,234] - obspy.clients.fdsn.mass_downloader - INFO: ============================== Final report\n",
      "[2021-11-25 00:45:28,235] - obspy.clients.fdsn.mass_downloader - INFO: 0 MiniSEED files [0.0 MB] already existed.\n",
      "[2021-11-25 00:45:28,235] - obspy.clients.fdsn.mass_downloader - INFO: 1 StationXML files [0.0 MB] already existed.\n",
      "[2021-11-25 00:45:28,236] - obspy.clients.fdsn.mass_downloader - INFO: Client 'GEONET' - Acquired 1 MiniSEED files [0.0 MB].\n",
      "[2021-11-25 00:45:28,236] - obspy.clients.fdsn.mass_downloader - INFO: Client 'GEONET' - Acquired 0 StationXML files [0.0 MB].\n",
      "[2021-11-25 00:45:28,236] - obspy.clients.fdsn.mass_downloader - INFO: Downloaded 0.0 MB in total.\n",
      "[2021-11-25 00:45:28,244] - obspy.clients.fdsn.mass_downloader - INFO: Initializing FDSN client(s) for GEONET.\n",
      "[2021-11-25 00:45:28,249] - obspy.clients.fdsn.mass_downloader - INFO: Successfully initialized 1 client(s): GEONET.\n",
      "[2021-11-25 00:45:28,249] - obspy.clients.fdsn.mass_downloader - INFO: Total acquired or preexisting stations: 0\n",
      "[2021-11-25 00:45:28,250] - obspy.clients.fdsn.mass_downloader - INFO: Client 'GEONET' - Requesting unreliable availability.\n"
     ]
    },
    {
     "name": "stdout",
     "output_type": "stream",
     "text": [
      "=================================================================\n",
      "Initiating mass download request.\n"
     ]
    },
    {
     "name": "stderr",
     "output_type": "stream",
     "text": [
      "[2021-11-25 00:45:28,806] - obspy.clients.fdsn.mass_downloader - INFO: Client 'GEONET' - Successfully requested availability (0.56 seconds)\n",
      "[2021-11-25 00:45:28,807] - obspy.clients.fdsn.mass_downloader - INFO: Client 'GEONET' - Found 1 stations (1 channels).\n",
      "[2021-11-25 00:45:28,808] - obspy.clients.fdsn.mass_downloader - INFO: Client 'GEONET' - Will attempt to download data from 1 stations.\n",
      "[2021-11-25 00:45:28,808] - obspy.clients.fdsn.mass_downloader - INFO: Client 'GEONET' - Status for 1 time intervals/channels before downloading: NEEDS_DOWNLOADING\n",
      "[2021-11-25 00:45:30,777] - obspy.clients.fdsn.mass_downloader - INFO: Client 'GEONET' - Successfully downloaded 1 channels (of 1)\n",
      "[2021-11-25 00:45:30,782] - obspy.clients.fdsn.mass_downloader - INFO: Client 'GEONET' - Launching basic QC checks...\n",
      "[2021-11-25 00:45:30,793] - obspy.clients.fdsn.mass_downloader - INFO: Client 'GEONET' - Downloaded 0.0 MB [1.53 KB/sec] of data, 0.0 MB of which were discarded afterwards.\n",
      "[2021-11-25 00:45:30,794] - obspy.clients.fdsn.mass_downloader - INFO: Client 'GEONET' - Status for 1 time intervals/channels after downloading: DOWNLOADED\n",
      "[2021-11-25 00:45:30,797] - obspy.clients.fdsn.mass_downloader - INFO: Client 'GEONET' - No station information to download.\n",
      "[2021-11-25 00:45:30,799] - obspy.clients.fdsn.mass_downloader - INFO: ============================== Final report\n",
      "[2021-11-25 00:45:30,800] - obspy.clients.fdsn.mass_downloader - INFO: 0 MiniSEED files [0.0 MB] already existed.\n",
      "[2021-11-25 00:45:30,800] - obspy.clients.fdsn.mass_downloader - INFO: 1 StationXML files [0.0 MB] already existed.\n",
      "[2021-11-25 00:45:30,801] - obspy.clients.fdsn.mass_downloader - INFO: Client 'GEONET' - Acquired 1 MiniSEED files [0.0 MB].\n",
      "[2021-11-25 00:45:30,801] - obspy.clients.fdsn.mass_downloader - INFO: Client 'GEONET' - Acquired 0 StationXML files [0.0 MB].\n",
      "[2021-11-25 00:45:30,802] - obspy.clients.fdsn.mass_downloader - INFO: Downloaded 0.0 MB in total.\n",
      "[2021-11-25 00:45:30,807] - obspy.clients.fdsn.mass_downloader - INFO: Initializing FDSN client(s) for GEONET.\n",
      "[2021-11-25 00:45:30,812] - obspy.clients.fdsn.mass_downloader - INFO: Successfully initialized 1 client(s): GEONET.\n",
      "[2021-11-25 00:45:30,813] - obspy.clients.fdsn.mass_downloader - INFO: Total acquired or preexisting stations: 0\n",
      "[2021-11-25 00:45:30,814] - obspy.clients.fdsn.mass_downloader - INFO: Client 'GEONET' - Requesting unreliable availability.\n"
     ]
    },
    {
     "name": "stdout",
     "output_type": "stream",
     "text": [
      "=================================================================\n",
      "Initiating mass download request.\n"
     ]
    },
    {
     "name": "stderr",
     "output_type": "stream",
     "text": [
      "[2021-11-25 00:45:31,343] - obspy.clients.fdsn.mass_downloader - INFO: Client 'GEONET' - Successfully requested availability (0.53 seconds)\n",
      "[2021-11-25 00:45:31,344] - obspy.clients.fdsn.mass_downloader - INFO: Client 'GEONET' - Found 1 stations (1 channels).\n",
      "[2021-11-25 00:45:31,344] - obspy.clients.fdsn.mass_downloader - INFO: Client 'GEONET' - Will attempt to download data from 1 stations.\n",
      "[2021-11-25 00:45:31,345] - obspy.clients.fdsn.mass_downloader - INFO: Client 'GEONET' - Status for 1 time intervals/channels before downloading: NEEDS_DOWNLOADING\n",
      "[2021-11-25 00:45:32,471] - obspy.clients.fdsn.mass_downloader - INFO: Client 'GEONET' - Successfully downloaded 1 channels (of 1)\n",
      "[2021-11-25 00:45:32,481] - obspy.clients.fdsn.mass_downloader - INFO: Client 'GEONET' - Launching basic QC checks...\n",
      "[2021-11-25 00:45:32,503] - obspy.clients.fdsn.mass_downloader - INFO: Client 'GEONET' - Downloaded 0.0 MB [3.52 KB/sec] of data, 0.0 MB of which were discarded afterwards.\n",
      "[2021-11-25 00:45:32,505] - obspy.clients.fdsn.mass_downloader - INFO: Client 'GEONET' - Status for 1 time intervals/channels after downloading: DOWNLOADED\n",
      "[2021-11-25 00:45:32,514] - obspy.clients.fdsn.mass_downloader - INFO: Client 'GEONET' - No station information to download.\n",
      "[2021-11-25 00:45:32,515] - obspy.clients.fdsn.mass_downloader - INFO: ============================== Final report\n",
      "[2021-11-25 00:45:32,517] - obspy.clients.fdsn.mass_downloader - INFO: 0 MiniSEED files [0.0 MB] already existed.\n",
      "[2021-11-25 00:45:32,518] - obspy.clients.fdsn.mass_downloader - INFO: 1 StationXML files [0.0 MB] already existed.\n",
      "[2021-11-25 00:45:32,519] - obspy.clients.fdsn.mass_downloader - INFO: Client 'GEONET' - Acquired 1 MiniSEED files [0.0 MB].\n",
      "[2021-11-25 00:45:32,519] - obspy.clients.fdsn.mass_downloader - INFO: Client 'GEONET' - Acquired 0 StationXML files [0.0 MB].\n",
      "[2021-11-25 00:45:32,520] - obspy.clients.fdsn.mass_downloader - INFO: Downloaded 0.0 MB in total.\n",
      "[2021-11-25 00:45:32,530] - obspy.clients.fdsn.mass_downloader - INFO: Initializing FDSN client(s) for GEONET.\n",
      "[2021-11-25 00:45:32,548] - obspy.clients.fdsn.mass_downloader - INFO: Successfully initialized 1 client(s): GEONET.\n",
      "[2021-11-25 00:45:32,550] - obspy.clients.fdsn.mass_downloader - INFO: Total acquired or preexisting stations: 0\n",
      "[2021-11-25 00:45:32,551] - obspy.clients.fdsn.mass_downloader - INFO: Client 'GEONET' - Requesting unreliable availability.\n"
     ]
    },
    {
     "name": "stdout",
     "output_type": "stream",
     "text": [
      "=================================================================\n",
      "Initiating mass download request.\n"
     ]
    },
    {
     "name": "stderr",
     "output_type": "stream",
     "text": [
      "[2021-11-25 00:45:33,134] - obspy.clients.fdsn.mass_downloader - INFO: Client 'GEONET' - Successfully requested availability (0.58 seconds)\n",
      "[2021-11-25 00:45:33,135] - obspy.clients.fdsn.mass_downloader - INFO: Client 'GEONET' - Found 1 stations (1 channels).\n",
      "[2021-11-25 00:45:33,136] - obspy.clients.fdsn.mass_downloader - INFO: Client 'GEONET' - Will attempt to download data from 1 stations.\n",
      "[2021-11-25 00:45:33,137] - obspy.clients.fdsn.mass_downloader - INFO: Client 'GEONET' - Status for 1 time intervals/channels before downloading: NEEDS_DOWNLOADING\n",
      "[2021-11-25 00:45:34,042] - obspy.clients.fdsn.mass_downloader - INFO: Client 'GEONET' - Successfully downloaded 1 channels (of 1)\n",
      "[2021-11-25 00:45:34,044] - obspy.clients.fdsn.mass_downloader - INFO: Client 'GEONET' - Launching basic QC checks...\n",
      "[2021-11-25 00:45:34,047] - obspy.clients.fdsn.mass_downloader - INFO: Client 'GEONET' - Downloaded 0.0 MB [3.87 KB/sec] of data, 0.0 MB of which were discarded afterwards.\n",
      "[2021-11-25 00:45:34,047] - obspy.clients.fdsn.mass_downloader - INFO: Client 'GEONET' - Status for 1 time intervals/channels after downloading: DOWNLOADED\n",
      "[2021-11-25 00:45:34,049] - obspy.clients.fdsn.mass_downloader - INFO: Client 'GEONET' - No station information to download.\n",
      "[2021-11-25 00:45:34,050] - obspy.clients.fdsn.mass_downloader - INFO: ============================== Final report\n",
      "[2021-11-25 00:45:34,051] - obspy.clients.fdsn.mass_downloader - INFO: 0 MiniSEED files [0.0 MB] already existed.\n",
      "[2021-11-25 00:45:34,051] - obspy.clients.fdsn.mass_downloader - INFO: 1 StationXML files [0.0 MB] already existed.\n",
      "[2021-11-25 00:45:34,051] - obspy.clients.fdsn.mass_downloader - INFO: Client 'GEONET' - Acquired 1 MiniSEED files [0.0 MB].\n",
      "[2021-11-25 00:45:34,052] - obspy.clients.fdsn.mass_downloader - INFO: Client 'GEONET' - Acquired 0 StationXML files [0.0 MB].\n",
      "[2021-11-25 00:45:34,052] - obspy.clients.fdsn.mass_downloader - INFO: Downloaded 0.0 MB in total.\n",
      "[2021-11-25 00:45:34,059] - obspy.clients.fdsn.mass_downloader - INFO: Initializing FDSN client(s) for GEONET.\n",
      "[2021-11-25 00:45:34,062] - obspy.clients.fdsn.mass_downloader - INFO: Successfully initialized 1 client(s): GEONET.\n",
      "[2021-11-25 00:45:34,063] - obspy.clients.fdsn.mass_downloader - INFO: Total acquired or preexisting stations: 0\n",
      "[2021-11-25 00:45:34,063] - obspy.clients.fdsn.mass_downloader - INFO: Client 'GEONET' - Requesting unreliable availability.\n"
     ]
    },
    {
     "name": "stdout",
     "output_type": "stream",
     "text": [
      "=================================================================\n",
      "Initiating mass download request.\n"
     ]
    },
    {
     "name": "stderr",
     "output_type": "stream",
     "text": [
      "[2021-11-25 00:45:34,614] - obspy.clients.fdsn.mass_downloader - INFO: Client 'GEONET' - Successfully requested availability (0.55 seconds)\n",
      "[2021-11-25 00:45:34,615] - obspy.clients.fdsn.mass_downloader - INFO: Client 'GEONET' - Found 1 stations (1 channels).\n",
      "[2021-11-25 00:45:34,615] - obspy.clients.fdsn.mass_downloader - INFO: Client 'GEONET' - Will attempt to download data from 1 stations.\n",
      "[2021-11-25 00:45:34,616] - obspy.clients.fdsn.mass_downloader - INFO: Client 'GEONET' - Status for 1 time intervals/channels before downloading: NEEDS_DOWNLOADING\n",
      "[2021-11-25 00:45:36,464] - obspy.clients.fdsn.mass_downloader - INFO: Client 'GEONET' - Successfully downloaded 1 channels (of 1)\n",
      "[2021-11-25 00:45:36,472] - obspy.clients.fdsn.mass_downloader - INFO: Client 'GEONET' - Launching basic QC checks...\n",
      "[2021-11-25 00:45:36,483] - obspy.clients.fdsn.mass_downloader - INFO: Client 'GEONET' - Downloaded 0.0 MB [1.89 KB/sec] of data, 0.0 MB of which were discarded afterwards.\n",
      "[2021-11-25 00:45:36,484] - obspy.clients.fdsn.mass_downloader - INFO: Client 'GEONET' - Status for 1 time intervals/channels after downloading: DOWNLOADED\n",
      "[2021-11-25 00:45:36,487] - obspy.clients.fdsn.mass_downloader - INFO: Client 'GEONET' - No station information to download.\n",
      "[2021-11-25 00:45:36,488] - obspy.clients.fdsn.mass_downloader - INFO: ============================== Final report\n",
      "[2021-11-25 00:45:36,488] - obspy.clients.fdsn.mass_downloader - INFO: 0 MiniSEED files [0.0 MB] already existed.\n",
      "[2021-11-25 00:45:36,488] - obspy.clients.fdsn.mass_downloader - INFO: 1 StationXML files [0.0 MB] already existed.\n",
      "[2021-11-25 00:45:36,489] - obspy.clients.fdsn.mass_downloader - INFO: Client 'GEONET' - Acquired 1 MiniSEED files [0.0 MB].\n",
      "[2021-11-25 00:45:36,489] - obspy.clients.fdsn.mass_downloader - INFO: Client 'GEONET' - Acquired 0 StationXML files [0.0 MB].\n",
      "[2021-11-25 00:45:36,489] - obspy.clients.fdsn.mass_downloader - INFO: Downloaded 0.0 MB in total.\n",
      "[2021-11-25 00:45:36,494] - obspy.clients.fdsn.mass_downloader - INFO: Initializing FDSN client(s) for GEONET.\n",
      "[2021-11-25 00:45:36,498] - obspy.clients.fdsn.mass_downloader - INFO: Successfully initialized 1 client(s): GEONET.\n",
      "[2021-11-25 00:45:36,499] - obspy.clients.fdsn.mass_downloader - INFO: Total acquired or preexisting stations: 0\n",
      "[2021-11-25 00:45:36,499] - obspy.clients.fdsn.mass_downloader - INFO: Client 'GEONET' - Requesting unreliable availability.\n"
     ]
    },
    {
     "name": "stdout",
     "output_type": "stream",
     "text": [
      "=================================================================\n",
      "Initiating mass download request.\n"
     ]
    },
    {
     "name": "stderr",
     "output_type": "stream",
     "text": [
      "[2021-11-25 00:45:37,059] - obspy.clients.fdsn.mass_downloader - INFO: Client 'GEONET' - Successfully requested availability (0.56 seconds)\n",
      "[2021-11-25 00:45:37,060] - obspy.clients.fdsn.mass_downloader - INFO: Client 'GEONET' - Found 1 stations (1 channels).\n",
      "[2021-11-25 00:45:37,060] - obspy.clients.fdsn.mass_downloader - INFO: Client 'GEONET' - Will attempt to download data from 1 stations.\n",
      "[2021-11-25 00:45:37,062] - obspy.clients.fdsn.mass_downloader - INFO: Client 'GEONET' - Status for 1 time intervals/channels before downloading: NEEDS_DOWNLOADING\n",
      "[2021-11-25 00:45:38,136] - obspy.clients.fdsn.mass_downloader - INFO: Client 'GEONET' - Successfully downloaded 1 channels (of 1)\n",
      "[2021-11-25 00:45:38,144] - obspy.clients.fdsn.mass_downloader - INFO: Client 'GEONET' - Launching basic QC checks...\n",
      "[2021-11-25 00:45:38,155] - obspy.clients.fdsn.mass_downloader - INFO: Client 'GEONET' - Downloaded 0.0 MB [3.24 KB/sec] of data, 0.0 MB of which were discarded afterwards.\n",
      "[2021-11-25 00:45:38,160] - obspy.clients.fdsn.mass_downloader - INFO: Client 'GEONET' - Status for 1 time intervals/channels after downloading: DOWNLOADED\n",
      "[2021-11-25 00:45:38,163] - obspy.clients.fdsn.mass_downloader - INFO: Client 'GEONET' - No station information to download.\n",
      "[2021-11-25 00:45:38,164] - obspy.clients.fdsn.mass_downloader - INFO: ============================== Final report\n",
      "[2021-11-25 00:45:38,165] - obspy.clients.fdsn.mass_downloader - INFO: 0 MiniSEED files [0.0 MB] already existed.\n",
      "[2021-11-25 00:45:38,165] - obspy.clients.fdsn.mass_downloader - INFO: 1 StationXML files [0.0 MB] already existed.\n",
      "[2021-11-25 00:45:38,165] - obspy.clients.fdsn.mass_downloader - INFO: Client 'GEONET' - Acquired 1 MiniSEED files [0.0 MB].\n",
      "[2021-11-25 00:45:38,168] - obspy.clients.fdsn.mass_downloader - INFO: Client 'GEONET' - Acquired 0 StationXML files [0.0 MB].\n",
      "[2021-11-25 00:45:38,169] - obspy.clients.fdsn.mass_downloader - INFO: Downloaded 0.0 MB in total.\n",
      "[2021-11-25 00:45:38,172] - obspy.clients.fdsn.mass_downloader - INFO: Initializing FDSN client(s) for GEONET.\n",
      "[2021-11-25 00:45:38,178] - obspy.clients.fdsn.mass_downloader - INFO: Successfully initialized 1 client(s): GEONET.\n",
      "[2021-11-25 00:45:38,179] - obspy.clients.fdsn.mass_downloader - INFO: Total acquired or preexisting stations: 0\n",
      "[2021-11-25 00:45:38,179] - obspy.clients.fdsn.mass_downloader - INFO: Client 'GEONET' - Requesting unreliable availability.\n"
     ]
    },
    {
     "name": "stdout",
     "output_type": "stream",
     "text": [
      "=================================================================\n",
      "Initiating mass download request.\n"
     ]
    },
    {
     "name": "stderr",
     "output_type": "stream",
     "text": [
      "[2021-11-25 00:45:38,805] - obspy.clients.fdsn.mass_downloader - INFO: Client 'GEONET' - Successfully requested availability (0.63 seconds)\n",
      "[2021-11-25 00:45:38,806] - obspy.clients.fdsn.mass_downloader - INFO: Client 'GEONET' - Found 1 stations (1 channels).\n",
      "[2021-11-25 00:45:38,806] - obspy.clients.fdsn.mass_downloader - INFO: Client 'GEONET' - Will attempt to download data from 1 stations.\n",
      "[2021-11-25 00:45:38,807] - obspy.clients.fdsn.mass_downloader - INFO: Client 'GEONET' - Status for 1 time intervals/channels before downloading: NEEDS_DOWNLOADING\n",
      "[2021-11-25 00:45:39,836] - obspy.clients.fdsn.mass_downloader - INFO: Client 'GEONET' - Successfully downloaded 1 channels (of 1)\n",
      "[2021-11-25 00:45:39,845] - obspy.clients.fdsn.mass_downloader - INFO: Client 'GEONET' - Launching basic QC checks...\n",
      "[2021-11-25 00:45:39,863] - obspy.clients.fdsn.mass_downloader - INFO: Client 'GEONET' - Downloaded 0.0 MB [3.38 KB/sec] of data, 0.0 MB of which were discarded afterwards.\n",
      "[2021-11-25 00:45:39,865] - obspy.clients.fdsn.mass_downloader - INFO: Client 'GEONET' - Status for 1 time intervals/channels after downloading: DOWNLOADED\n",
      "[2021-11-25 00:45:39,868] - obspy.clients.fdsn.mass_downloader - INFO: Client 'GEONET' - No station information to download.\n",
      "[2021-11-25 00:45:39,869] - obspy.clients.fdsn.mass_downloader - INFO: ============================== Final report\n",
      "[2021-11-25 00:45:39,873] - obspy.clients.fdsn.mass_downloader - INFO: 0 MiniSEED files [0.0 MB] already existed.\n",
      "[2021-11-25 00:45:39,873] - obspy.clients.fdsn.mass_downloader - INFO: 1 StationXML files [0.0 MB] already existed.\n",
      "[2021-11-25 00:45:39,874] - obspy.clients.fdsn.mass_downloader - INFO: Client 'GEONET' - Acquired 1 MiniSEED files [0.0 MB].\n",
      "[2021-11-25 00:45:39,874] - obspy.clients.fdsn.mass_downloader - INFO: Client 'GEONET' - Acquired 0 StationXML files [0.0 MB].\n",
      "[2021-11-25 00:45:39,874] - obspy.clients.fdsn.mass_downloader - INFO: Downloaded 0.0 MB in total.\n",
      "[2021-11-25 00:45:39,877] - obspy.clients.fdsn.mass_downloader - INFO: Initializing FDSN client(s) for GEONET.\n",
      "[2021-11-25 00:45:39,880] - obspy.clients.fdsn.mass_downloader - INFO: Successfully initialized 1 client(s): GEONET.\n",
      "[2021-11-25 00:45:39,881] - obspy.clients.fdsn.mass_downloader - INFO: Total acquired or preexisting stations: 0\n",
      "[2021-11-25 00:45:39,881] - obspy.clients.fdsn.mass_downloader - INFO: Client 'GEONET' - Requesting unreliable availability.\n"
     ]
    },
    {
     "name": "stdout",
     "output_type": "stream",
     "text": [
      "=================================================================\n",
      "Initiating mass download request.\n"
     ]
    },
    {
     "name": "stderr",
     "output_type": "stream",
     "text": [
      "[2021-11-25 00:45:40,425] - obspy.clients.fdsn.mass_downloader - INFO: Client 'GEONET' - Successfully requested availability (0.54 seconds)\n",
      "[2021-11-25 00:45:40,425] - obspy.clients.fdsn.mass_downloader - INFO: Client 'GEONET' - Found 1 stations (1 channels).\n",
      "[2021-11-25 00:45:40,426] - obspy.clients.fdsn.mass_downloader - INFO: Client 'GEONET' - Will attempt to download data from 1 stations.\n",
      "[2021-11-25 00:45:40,426] - obspy.clients.fdsn.mass_downloader - INFO: Client 'GEONET' - Status for 1 time intervals/channels before downloading: NEEDS_DOWNLOADING\n",
      "[2021-11-25 00:45:41,535] - obspy.clients.fdsn.mass_downloader - INFO: Client 'GEONET' - Successfully downloaded 1 channels (of 1)\n",
      "[2021-11-25 00:45:41,541] - obspy.clients.fdsn.mass_downloader - INFO: Client 'GEONET' - Launching basic QC checks...\n",
      "[2021-11-25 00:45:41,545] - obspy.clients.fdsn.mass_downloader - INFO: Client 'GEONET' - Downloaded 0.0 MB [4.49 KB/sec] of data, 0.0 MB of which were discarded afterwards.\n",
      "[2021-11-25 00:45:41,546] - obspy.clients.fdsn.mass_downloader - INFO: Client 'GEONET' - Status for 1 time intervals/channels after downloading: DOWNLOADED\n",
      "[2021-11-25 00:45:41,548] - obspy.clients.fdsn.mass_downloader - INFO: Client 'GEONET' - No station information to download.\n",
      "[2021-11-25 00:45:41,553] - obspy.clients.fdsn.mass_downloader - INFO: ============================== Final report\n",
      "[2021-11-25 00:45:41,553] - obspy.clients.fdsn.mass_downloader - INFO: 0 MiniSEED files [0.0 MB] already existed.\n",
      "[2021-11-25 00:45:41,553] - obspy.clients.fdsn.mass_downloader - INFO: 1 StationXML files [0.0 MB] already existed.\n",
      "[2021-11-25 00:45:41,554] - obspy.clients.fdsn.mass_downloader - INFO: Client 'GEONET' - Acquired 1 MiniSEED files [0.0 MB].\n",
      "[2021-11-25 00:45:41,554] - obspy.clients.fdsn.mass_downloader - INFO: Client 'GEONET' - Acquired 0 StationXML files [0.0 MB].\n",
      "[2021-11-25 00:45:41,554] - obspy.clients.fdsn.mass_downloader - INFO: Downloaded 0.0 MB in total.\n",
      "[2021-11-25 00:45:41,556] - obspy.clients.fdsn.mass_downloader - INFO: Initializing FDSN client(s) for GEONET.\n",
      "[2021-11-25 00:45:41,560] - obspy.clients.fdsn.mass_downloader - INFO: Successfully initialized 1 client(s): GEONET.\n",
      "[2021-11-25 00:45:41,560] - obspy.clients.fdsn.mass_downloader - INFO: Total acquired or preexisting stations: 0\n",
      "[2021-11-25 00:45:41,560] - obspy.clients.fdsn.mass_downloader - INFO: Client 'GEONET' - Requesting unreliable availability.\n"
     ]
    },
    {
     "name": "stdout",
     "output_type": "stream",
     "text": [
      "=================================================================\n",
      "Initiating mass download request.\n"
     ]
    },
    {
     "name": "stderr",
     "output_type": "stream",
     "text": [
      "[2021-11-25 00:45:42,335] - obspy.clients.fdsn.mass_downloader - INFO: Client 'GEONET' - Successfully requested availability (0.77 seconds)\n",
      "[2021-11-25 00:45:42,335] - obspy.clients.fdsn.mass_downloader - INFO: Client 'GEONET' - Found 1 stations (1 channels).\n",
      "[2021-11-25 00:45:42,335] - obspy.clients.fdsn.mass_downloader - INFO: Client 'GEONET' - Will attempt to download data from 1 stations.\n",
      "[2021-11-25 00:45:42,336] - obspy.clients.fdsn.mass_downloader - INFO: Client 'GEONET' - Status for 1 time intervals/channels before downloading: NEEDS_DOWNLOADING\n",
      "[2021-11-25 00:45:43,394] - obspy.clients.fdsn.mass_downloader - INFO: Client 'GEONET' - Successfully downloaded 1 channels (of 1)\n",
      "[2021-11-25 00:45:43,397] - obspy.clients.fdsn.mass_downloader - INFO: Client 'GEONET' - Launching basic QC checks...\n",
      "[2021-11-25 00:45:43,404] - obspy.clients.fdsn.mass_downloader - INFO: Client 'GEONET' - Downloaded 0.0 MB [3.30 KB/sec] of data, 0.0 MB of which were discarded afterwards.\n",
      "[2021-11-25 00:45:43,405] - obspy.clients.fdsn.mass_downloader - INFO: Client 'GEONET' - Status for 1 time intervals/channels after downloading: DOWNLOADED\n",
      "[2021-11-25 00:45:43,409] - obspy.clients.fdsn.mass_downloader - INFO: Client 'GEONET' - No station information to download.\n",
      "[2021-11-25 00:45:43,410] - obspy.clients.fdsn.mass_downloader - INFO: ============================== Final report\n",
      "[2021-11-25 00:45:43,410] - obspy.clients.fdsn.mass_downloader - INFO: 0 MiniSEED files [0.0 MB] already existed.\n",
      "[2021-11-25 00:45:43,411] - obspy.clients.fdsn.mass_downloader - INFO: 1 StationXML files [0.0 MB] already existed.\n",
      "[2021-11-25 00:45:43,411] - obspy.clients.fdsn.mass_downloader - INFO: Client 'GEONET' - Acquired 1 MiniSEED files [0.0 MB].\n",
      "[2021-11-25 00:45:43,411] - obspy.clients.fdsn.mass_downloader - INFO: Client 'GEONET' - Acquired 0 StationXML files [0.0 MB].\n",
      "[2021-11-25 00:45:43,412] - obspy.clients.fdsn.mass_downloader - INFO: Downloaded 0.0 MB in total.\n",
      "[2021-11-25 00:45:43,414] - obspy.clients.fdsn.mass_downloader - INFO: Initializing FDSN client(s) for GEONET.\n",
      "[2021-11-25 00:45:43,422] - obspy.clients.fdsn.mass_downloader - INFO: Successfully initialized 1 client(s): GEONET.\n",
      "[2021-11-25 00:45:43,423] - obspy.clients.fdsn.mass_downloader - INFO: Total acquired or preexisting stations: 0\n",
      "[2021-11-25 00:45:43,423] - obspy.clients.fdsn.mass_downloader - INFO: Client 'GEONET' - Requesting unreliable availability.\n"
     ]
    },
    {
     "name": "stdout",
     "output_type": "stream",
     "text": [
      "=================================================================\n",
      "Initiating mass download request.\n"
     ]
    },
    {
     "name": "stderr",
     "output_type": "stream",
     "text": [
      "[2021-11-25 00:45:43,990] - obspy.clients.fdsn.mass_downloader - INFO: Client 'GEONET' - Successfully requested availability (0.57 seconds)\n",
      "[2021-11-25 00:45:43,990] - obspy.clients.fdsn.mass_downloader - INFO: Client 'GEONET' - Found 1 stations (1 channels).\n",
      "[2021-11-25 00:45:43,991] - obspy.clients.fdsn.mass_downloader - INFO: Client 'GEONET' - Will attempt to download data from 1 stations.\n",
      "[2021-11-25 00:45:43,991] - obspy.clients.fdsn.mass_downloader - INFO: Client 'GEONET' - Status for 1 time intervals/channels before downloading: NEEDS_DOWNLOADING\n",
      "[2021-11-25 00:45:45,285] - obspy.clients.fdsn.mass_downloader - INFO: Client 'GEONET' - Successfully downloaded 1 channels (of 1)\n",
      "[2021-11-25 00:45:45,298] - obspy.clients.fdsn.mass_downloader - INFO: Client 'GEONET' - Launching basic QC checks...\n",
      "[2021-11-25 00:45:45,309] - obspy.clients.fdsn.mass_downloader - INFO: Client 'GEONET' - Downloaded 0.0 MB [4.21 KB/sec] of data, 0.0 MB of which were discarded afterwards.\n",
      "[2021-11-25 00:45:45,310] - obspy.clients.fdsn.mass_downloader - INFO: Client 'GEONET' - Status for 1 time intervals/channels after downloading: DOWNLOADED\n",
      "[2021-11-25 00:45:45,313] - obspy.clients.fdsn.mass_downloader - INFO: Client 'GEONET' - No station information to download.\n",
      "[2021-11-25 00:45:45,314] - obspy.clients.fdsn.mass_downloader - INFO: ============================== Final report\n",
      "[2021-11-25 00:45:45,314] - obspy.clients.fdsn.mass_downloader - INFO: 0 MiniSEED files [0.0 MB] already existed.\n",
      "[2021-11-25 00:45:45,315] - obspy.clients.fdsn.mass_downloader - INFO: 1 StationXML files [0.0 MB] already existed.\n",
      "[2021-11-25 00:45:45,315] - obspy.clients.fdsn.mass_downloader - INFO: Client 'GEONET' - Acquired 1 MiniSEED files [0.0 MB].\n",
      "[2021-11-25 00:45:45,315] - obspy.clients.fdsn.mass_downloader - INFO: Client 'GEONET' - Acquired 0 StationXML files [0.0 MB].\n",
      "[2021-11-25 00:45:45,315] - obspy.clients.fdsn.mass_downloader - INFO: Downloaded 0.0 MB in total.\n",
      "[2021-11-25 00:45:45,317] - obspy.clients.fdsn.mass_downloader - INFO: Initializing FDSN client(s) for GEONET.\n",
      "[2021-11-25 00:45:45,320] - obspy.clients.fdsn.mass_downloader - INFO: Successfully initialized 1 client(s): GEONET.\n",
      "[2021-11-25 00:45:45,321] - obspy.clients.fdsn.mass_downloader - INFO: Total acquired or preexisting stations: 0\n",
      "[2021-11-25 00:45:45,321] - obspy.clients.fdsn.mass_downloader - INFO: Client 'GEONET' - Requesting unreliable availability.\n"
     ]
    },
    {
     "name": "stdout",
     "output_type": "stream",
     "text": [
      "=================================================================\n",
      "Initiating mass download request.\n"
     ]
    },
    {
     "name": "stderr",
     "output_type": "stream",
     "text": [
      "[2021-11-25 00:45:45,909] - obspy.clients.fdsn.mass_downloader - INFO: Client 'GEONET' - Successfully requested availability (0.59 seconds)\n",
      "[2021-11-25 00:45:45,911] - obspy.clients.fdsn.mass_downloader - INFO: Client 'GEONET' - Found 1 stations (1 channels).\n",
      "[2021-11-25 00:45:45,912] - obspy.clients.fdsn.mass_downloader - INFO: Client 'GEONET' - Will attempt to download data from 1 stations.\n",
      "[2021-11-25 00:45:45,913] - obspy.clients.fdsn.mass_downloader - INFO: Client 'GEONET' - Status for 1 time intervals/channels before downloading: NEEDS_DOWNLOADING\n",
      "[2021-11-25 00:45:46,860] - obspy.clients.fdsn.mass_downloader - INFO: Client 'GEONET' - Successfully downloaded 1 channels (of 1)\n",
      "[2021-11-25 00:45:46,867] - obspy.clients.fdsn.mass_downloader - INFO: Client 'GEONET' - Launching basic QC checks...\n",
      "[2021-11-25 00:45:46,874] - obspy.clients.fdsn.mass_downloader - INFO: Client 'GEONET' - Downloaded 0.0 MB [3.16 KB/sec] of data, 0.0 MB of which were discarded afterwards.\n",
      "[2021-11-25 00:45:46,875] - obspy.clients.fdsn.mass_downloader - INFO: Client 'GEONET' - Status for 1 time intervals/channels after downloading: DOWNLOADED\n",
      "[2021-11-25 00:45:46,877] - obspy.clients.fdsn.mass_downloader - INFO: Client 'GEONET' - No station information to download.\n",
      "[2021-11-25 00:45:46,878] - obspy.clients.fdsn.mass_downloader - INFO: ============================== Final report\n",
      "[2021-11-25 00:45:46,878] - obspy.clients.fdsn.mass_downloader - INFO: 0 MiniSEED files [0.0 MB] already existed.\n",
      "[2021-11-25 00:45:46,878] - obspy.clients.fdsn.mass_downloader - INFO: 1 StationXML files [0.0 MB] already existed.\n",
      "[2021-11-25 00:45:46,879] - obspy.clients.fdsn.mass_downloader - INFO: Client 'GEONET' - Acquired 1 MiniSEED files [0.0 MB].\n",
      "[2021-11-25 00:45:46,879] - obspy.clients.fdsn.mass_downloader - INFO: Client 'GEONET' - Acquired 0 StationXML files [0.0 MB].\n",
      "[2021-11-25 00:45:46,879] - obspy.clients.fdsn.mass_downloader - INFO: Downloaded 0.0 MB in total.\n",
      "[2021-11-25 00:45:46,886] - obspy.clients.fdsn.mass_downloader - INFO: Initializing FDSN client(s) for GEONET.\n",
      "[2021-11-25 00:45:46,888] - obspy.clients.fdsn.mass_downloader - INFO: Successfully initialized 1 client(s): GEONET.\n",
      "[2021-11-25 00:45:46,889] - obspy.clients.fdsn.mass_downloader - INFO: Total acquired or preexisting stations: 0\n",
      "[2021-11-25 00:45:46,889] - obspy.clients.fdsn.mass_downloader - INFO: Client 'GEONET' - Requesting unreliable availability.\n"
     ]
    },
    {
     "name": "stdout",
     "output_type": "stream",
     "text": [
      "=================================================================\n",
      "Initiating mass download request.\n"
     ]
    },
    {
     "name": "stderr",
     "output_type": "stream",
     "text": [
      "[2021-11-25 00:45:47,431] - obspy.clients.fdsn.mass_downloader - INFO: Client 'GEONET' - Successfully requested availability (0.54 seconds)\n",
      "[2021-11-25 00:45:47,437] - obspy.clients.fdsn.mass_downloader - INFO: Client 'GEONET' - Found 1 stations (1 channels).\n",
      "[2021-11-25 00:45:47,439] - obspy.clients.fdsn.mass_downloader - INFO: Client 'GEONET' - Will attempt to download data from 1 stations.\n",
      "[2021-11-25 00:45:47,441] - obspy.clients.fdsn.mass_downloader - INFO: Client 'GEONET' - Status for 1 time intervals/channels before downloading: NEEDS_DOWNLOADING\n",
      "[2021-11-25 00:45:48,696] - obspy.clients.fdsn.mass_downloader - INFO: Client 'GEONET' - Successfully downloaded 1 channels (of 1)\n",
      "[2021-11-25 00:45:48,702] - obspy.clients.fdsn.mass_downloader - INFO: Client 'GEONET' - Launching basic QC checks...\n",
      "[2021-11-25 00:45:48,714] - obspy.clients.fdsn.mass_downloader - INFO: Client 'GEONET' - Downloaded 0.0 MB [3.59 KB/sec] of data, 0.0 MB of which were discarded afterwards.\n",
      "[2021-11-25 00:45:48,715] - obspy.clients.fdsn.mass_downloader - INFO: Client 'GEONET' - Status for 1 time intervals/channels after downloading: DOWNLOADED\n",
      "[2021-11-25 00:45:48,721] - obspy.clients.fdsn.mass_downloader - INFO: Client 'GEONET' - No station information to download.\n",
      "[2021-11-25 00:45:48,723] - obspy.clients.fdsn.mass_downloader - INFO: ============================== Final report\n",
      "[2021-11-25 00:45:48,723] - obspy.clients.fdsn.mass_downloader - INFO: 0 MiniSEED files [0.0 MB] already existed.\n",
      "[2021-11-25 00:45:48,724] - obspy.clients.fdsn.mass_downloader - INFO: 1 StationXML files [0.0 MB] already existed.\n",
      "[2021-11-25 00:45:48,724] - obspy.clients.fdsn.mass_downloader - INFO: Client 'GEONET' - Acquired 1 MiniSEED files [0.0 MB].\n",
      "[2021-11-25 00:45:48,724] - obspy.clients.fdsn.mass_downloader - INFO: Client 'GEONET' - Acquired 0 StationXML files [0.0 MB].\n",
      "[2021-11-25 00:45:48,725] - obspy.clients.fdsn.mass_downloader - INFO: Downloaded 0.0 MB in total.\n",
      "[2021-11-25 00:45:48,732] - obspy.clients.fdsn.mass_downloader - INFO: Initializing FDSN client(s) for GEONET.\n",
      "[2021-11-25 00:45:48,738] - obspy.clients.fdsn.mass_downloader - INFO: Successfully initialized 1 client(s): GEONET.\n",
      "[2021-11-25 00:45:48,740] - obspy.clients.fdsn.mass_downloader - INFO: Total acquired or preexisting stations: 0\n",
      "[2021-11-25 00:45:48,740] - obspy.clients.fdsn.mass_downloader - INFO: Client 'GEONET' - Requesting unreliable availability.\n"
     ]
    },
    {
     "name": "stdout",
     "output_type": "stream",
     "text": [
      "=================================================================\n",
      "Initiating mass download request.\n"
     ]
    },
    {
     "name": "stderr",
     "output_type": "stream",
     "text": [
      "[2021-11-25 00:45:49,861] - obspy.clients.fdsn.mass_downloader - INFO: Client 'GEONET' - Successfully requested availability (1.12 seconds)\n",
      "[2021-11-25 00:45:49,863] - obspy.clients.fdsn.mass_downloader - INFO: Client 'GEONET' - Found 1 stations (1 channels).\n",
      "[2021-11-25 00:45:49,867] - obspy.clients.fdsn.mass_downloader - INFO: Client 'GEONET' - Will attempt to download data from 1 stations.\n",
      "[2021-11-25 00:45:49,868] - obspy.clients.fdsn.mass_downloader - INFO: Client 'GEONET' - Status for 1 time intervals/channels before downloading: NEEDS_DOWNLOADING\n",
      "[2021-11-25 00:45:50,694] - obspy.clients.fdsn.mass_downloader - INFO: Client 'GEONET' - Successfully downloaded 1 channels (of 1)\n",
      "[2021-11-25 00:45:50,696] - obspy.clients.fdsn.mass_downloader - INFO: Client 'GEONET' - Launching basic QC checks...\n",
      "[2021-11-25 00:45:50,699] - obspy.clients.fdsn.mass_downloader - INFO: Client 'GEONET' - Downloaded 0.0 MB [4.24 KB/sec] of data, 0.0 MB of which were discarded afterwards.\n",
      "[2021-11-25 00:45:50,699] - obspy.clients.fdsn.mass_downloader - INFO: Client 'GEONET' - Status for 1 time intervals/channels after downloading: DOWNLOADED\n",
      "[2021-11-25 00:45:50,702] - obspy.clients.fdsn.mass_downloader - INFO: Client 'GEONET' - No station information to download.\n",
      "[2021-11-25 00:45:50,702] - obspy.clients.fdsn.mass_downloader - INFO: ============================== Final report\n",
      "[2021-11-25 00:45:50,703] - obspy.clients.fdsn.mass_downloader - INFO: 0 MiniSEED files [0.0 MB] already existed.\n",
      "[2021-11-25 00:45:50,703] - obspy.clients.fdsn.mass_downloader - INFO: 1 StationXML files [0.0 MB] already existed.\n",
      "[2021-11-25 00:45:50,704] - obspy.clients.fdsn.mass_downloader - INFO: Client 'GEONET' - Acquired 1 MiniSEED files [0.0 MB].\n",
      "[2021-11-25 00:45:50,704] - obspy.clients.fdsn.mass_downloader - INFO: Client 'GEONET' - Acquired 0 StationXML files [0.0 MB].\n",
      "[2021-11-25 00:45:50,708] - obspy.clients.fdsn.mass_downloader - INFO: Downloaded 0.0 MB in total.\n",
      "[2021-11-25 00:45:50,711] - obspy.clients.fdsn.mass_downloader - INFO: Initializing FDSN client(s) for GEONET.\n",
      "[2021-11-25 00:45:50,714] - obspy.clients.fdsn.mass_downloader - INFO: Successfully initialized 1 client(s): GEONET.\n",
      "[2021-11-25 00:45:50,715] - obspy.clients.fdsn.mass_downloader - INFO: Total acquired or preexisting stations: 0\n",
      "[2021-11-25 00:45:50,716] - obspy.clients.fdsn.mass_downloader - INFO: Client 'GEONET' - Requesting unreliable availability.\n"
     ]
    },
    {
     "name": "stdout",
     "output_type": "stream",
     "text": [
      "=================================================================\n",
      "Initiating mass download request.\n"
     ]
    },
    {
     "name": "stderr",
     "output_type": "stream",
     "text": [
      "[2021-11-25 00:45:51,322] - obspy.clients.fdsn.mass_downloader - INFO: Client 'GEONET' - Successfully requested availability (0.61 seconds)\n",
      "[2021-11-25 00:45:51,329] - obspy.clients.fdsn.mass_downloader - INFO: Client 'GEONET' - Found 1 stations (1 channels).\n",
      "[2021-11-25 00:45:51,329] - obspy.clients.fdsn.mass_downloader - INFO: Client 'GEONET' - Will attempt to download data from 1 stations.\n",
      "[2021-11-25 00:45:51,330] - obspy.clients.fdsn.mass_downloader - INFO: Client 'GEONET' - Status for 1 time intervals/channels before downloading: NEEDS_DOWNLOADING\n",
      "[2021-11-25 00:45:52,526] - obspy.clients.fdsn.mass_downloader - INFO: Client 'GEONET' - Successfully downloaded 1 channels (of 1)\n",
      "[2021-11-25 00:45:52,530] - obspy.clients.fdsn.mass_downloader - INFO: Client 'GEONET' - Launching basic QC checks...\n",
      "[2021-11-25 00:45:52,540] - obspy.clients.fdsn.mass_downloader - INFO: Client 'GEONET' - Downloaded 0.0 MB [3.34 KB/sec] of data, 0.0 MB of which were discarded afterwards.\n",
      "[2021-11-25 00:45:52,540] - obspy.clients.fdsn.mass_downloader - INFO: Client 'GEONET' - Status for 1 time intervals/channels after downloading: DOWNLOADED\n",
      "[2021-11-25 00:45:52,545] - obspy.clients.fdsn.mass_downloader - INFO: Client 'GEONET' - No station information to download.\n",
      "[2021-11-25 00:45:52,547] - obspy.clients.fdsn.mass_downloader - INFO: ============================== Final report\n",
      "[2021-11-25 00:45:52,547] - obspy.clients.fdsn.mass_downloader - INFO: 0 MiniSEED files [0.0 MB] already existed.\n",
      "[2021-11-25 00:45:52,547] - obspy.clients.fdsn.mass_downloader - INFO: 1 StationXML files [0.0 MB] already existed.\n",
      "[2021-11-25 00:45:52,548] - obspy.clients.fdsn.mass_downloader - INFO: Client 'GEONET' - Acquired 1 MiniSEED files [0.0 MB].\n",
      "[2021-11-25 00:45:52,548] - obspy.clients.fdsn.mass_downloader - INFO: Client 'GEONET' - Acquired 0 StationXML files [0.0 MB].\n",
      "[2021-11-25 00:45:52,548] - obspy.clients.fdsn.mass_downloader - INFO: Downloaded 0.0 MB in total.\n",
      "[2021-11-25 00:45:52,552] - obspy.clients.fdsn.mass_downloader - INFO: Initializing FDSN client(s) for GEONET.\n",
      "[2021-11-25 00:45:52,556] - obspy.clients.fdsn.mass_downloader - INFO: Successfully initialized 1 client(s): GEONET.\n",
      "[2021-11-25 00:45:52,557] - obspy.clients.fdsn.mass_downloader - INFO: Total acquired or preexisting stations: 0\n",
      "[2021-11-25 00:45:52,557] - obspy.clients.fdsn.mass_downloader - INFO: Client 'GEONET' - Requesting unreliable availability.\n"
     ]
    },
    {
     "name": "stdout",
     "output_type": "stream",
     "text": [
      "=================================================================\n",
      "Initiating mass download request.\n"
     ]
    },
    {
     "name": "stderr",
     "output_type": "stream",
     "text": [
      "[2021-11-25 00:45:53,141] - obspy.clients.fdsn.mass_downloader - INFO: Client 'GEONET' - Successfully requested availability (0.58 seconds)\n",
      "[2021-11-25 00:45:53,141] - obspy.clients.fdsn.mass_downloader - INFO: Client 'GEONET' - Found 1 stations (1 channels).\n",
      "[2021-11-25 00:45:53,142] - obspy.clients.fdsn.mass_downloader - INFO: Client 'GEONET' - Will attempt to download data from 1 stations.\n",
      "[2021-11-25 00:45:53,142] - obspy.clients.fdsn.mass_downloader - INFO: Client 'GEONET' - Status for 1 time intervals/channels before downloading: NEEDS_DOWNLOADING\n",
      "[2021-11-25 00:45:54,103] - obspy.clients.fdsn.mass_downloader - INFO: Client 'GEONET' - Successfully downloaded 1 channels (of 1)\n",
      "[2021-11-25 00:45:54,112] - obspy.clients.fdsn.mass_downloader - INFO: Client 'GEONET' - Launching basic QC checks...\n",
      "[2021-11-25 00:45:54,203] - obspy.clients.fdsn.mass_downloader - INFO: Client 'GEONET' - Downloaded 0.0 MB [2.58 KB/sec] of data, 0.0 MB of which were discarded afterwards.\n",
      "[2021-11-25 00:45:54,208] - obspy.clients.fdsn.mass_downloader - INFO: Client 'GEONET' - Status for 1 time intervals/channels after downloading: DOWNLOADED\n",
      "[2021-11-25 00:45:54,227] - obspy.clients.fdsn.mass_downloader - INFO: Client 'GEONET' - No station information to download.\n",
      "[2021-11-25 00:45:54,233] - obspy.clients.fdsn.mass_downloader - INFO: ============================== Final report\n",
      "[2021-11-25 00:45:54,234] - obspy.clients.fdsn.mass_downloader - INFO: 0 MiniSEED files [0.0 MB] already existed.\n",
      "[2021-11-25 00:45:54,235] - obspy.clients.fdsn.mass_downloader - INFO: 1 StationXML files [0.0 MB] already existed.\n",
      "[2021-11-25 00:45:54,236] - obspy.clients.fdsn.mass_downloader - INFO: Client 'GEONET' - Acquired 1 MiniSEED files [0.0 MB].\n",
      "[2021-11-25 00:45:54,236] - obspy.clients.fdsn.mass_downloader - INFO: Client 'GEONET' - Acquired 0 StationXML files [0.0 MB].\n",
      "[2021-11-25 00:45:54,238] - obspy.clients.fdsn.mass_downloader - INFO: Downloaded 0.0 MB in total.\n",
      "[2021-11-25 00:45:54,249] - obspy.clients.fdsn.mass_downloader - INFO: Initializing FDSN client(s) for GEONET.\n",
      "[2021-11-25 00:45:54,259] - obspy.clients.fdsn.mass_downloader - INFO: Successfully initialized 1 client(s): GEONET.\n",
      "[2021-11-25 00:45:54,268] - obspy.clients.fdsn.mass_downloader - INFO: Total acquired or preexisting stations: 0\n",
      "[2021-11-25 00:45:54,269] - obspy.clients.fdsn.mass_downloader - INFO: Client 'GEONET' - Requesting unreliable availability.\n"
     ]
    },
    {
     "name": "stdout",
     "output_type": "stream",
     "text": [
      "=================================================================\n",
      "Initiating mass download request.\n"
     ]
    },
    {
     "name": "stderr",
     "output_type": "stream",
     "text": [
      "[2021-11-25 00:45:55,505] - obspy.clients.fdsn.mass_downloader - INFO: Client 'GEONET' - Successfully requested availability (1.23 seconds)\n",
      "[2021-11-25 00:45:55,508] - obspy.clients.fdsn.mass_downloader - INFO: Client 'GEONET' - Found 1 stations (1 channels).\n",
      "[2021-11-25 00:45:55,509] - obspy.clients.fdsn.mass_downloader - INFO: Client 'GEONET' - Will attempt to download data from 1 stations.\n",
      "[2021-11-25 00:45:55,514] - obspy.clients.fdsn.mass_downloader - INFO: Client 'GEONET' - Status for 1 time intervals/channels before downloading: NEEDS_DOWNLOADING\n",
      "[2021-11-25 00:45:56,575] - obspy.clients.fdsn.mass_downloader - INFO: Client 'GEONET' - Successfully downloaded 1 channels (of 1)\n",
      "[2021-11-25 00:45:56,585] - obspy.clients.fdsn.mass_downloader - INFO: Client 'GEONET' - Launching basic QC checks...\n",
      "[2021-11-25 00:45:56,601] - obspy.clients.fdsn.mass_downloader - INFO: Client 'GEONET' - Downloaded 0.0 MB [3.77 KB/sec] of data, 0.0 MB of which were discarded afterwards.\n",
      "[2021-11-25 00:45:56,603] - obspy.clients.fdsn.mass_downloader - INFO: Client 'GEONET' - Status for 1 time intervals/channels after downloading: DOWNLOADED\n",
      "[2021-11-25 00:45:56,611] - obspy.clients.fdsn.mass_downloader - INFO: Client 'GEONET' - No station information to download.\n",
      "[2021-11-25 00:45:56,616] - obspy.clients.fdsn.mass_downloader - INFO: ============================== Final report\n",
      "[2021-11-25 00:45:56,617] - obspy.clients.fdsn.mass_downloader - INFO: 0 MiniSEED files [0.0 MB] already existed.\n",
      "[2021-11-25 00:45:56,617] - obspy.clients.fdsn.mass_downloader - INFO: 1 StationXML files [0.0 MB] already existed.\n",
      "[2021-11-25 00:45:56,619] - obspy.clients.fdsn.mass_downloader - INFO: Client 'GEONET' - Acquired 1 MiniSEED files [0.0 MB].\n",
      "[2021-11-25 00:45:56,619] - obspy.clients.fdsn.mass_downloader - INFO: Client 'GEONET' - Acquired 0 StationXML files [0.0 MB].\n",
      "[2021-11-25 00:45:56,619] - obspy.clients.fdsn.mass_downloader - INFO: Downloaded 0.0 MB in total.\n",
      "[2021-11-25 00:45:56,627] - obspy.clients.fdsn.mass_downloader - INFO: Initializing FDSN client(s) for GEONET.\n",
      "[2021-11-25 00:45:56,630] - obspy.clients.fdsn.mass_downloader - INFO: Successfully initialized 1 client(s): GEONET.\n",
      "[2021-11-25 00:45:56,632] - obspy.clients.fdsn.mass_downloader - INFO: Total acquired or preexisting stations: 0\n",
      "[2021-11-25 00:45:56,632] - obspy.clients.fdsn.mass_downloader - INFO: Client 'GEONET' - Requesting unreliable availability.\n"
     ]
    },
    {
     "name": "stdout",
     "output_type": "stream",
     "text": [
      "=================================================================\n",
      "Initiating mass download request.\n"
     ]
    },
    {
     "name": "stderr",
     "output_type": "stream",
     "text": [
      "[2021-11-25 00:45:57,184] - obspy.clients.fdsn.mass_downloader - INFO: Client 'GEONET' - Successfully requested availability (0.55 seconds)\n",
      "[2021-11-25 00:45:57,184] - obspy.clients.fdsn.mass_downloader - INFO: Client 'GEONET' - Found 1 stations (1 channels).\n",
      "[2021-11-25 00:45:57,185] - obspy.clients.fdsn.mass_downloader - INFO: Client 'GEONET' - Will attempt to download data from 1 stations.\n",
      "[2021-11-25 00:45:57,185] - obspy.clients.fdsn.mass_downloader - INFO: Client 'GEONET' - Status for 1 time intervals/channels before downloading: NEEDS_DOWNLOADING\n",
      "[2021-11-25 00:45:58,255] - obspy.clients.fdsn.mass_downloader - INFO: Client 'GEONET' - Successfully downloaded 1 channels (of 1)\n",
      "[2021-11-25 00:45:58,262] - obspy.clients.fdsn.mass_downloader - INFO: Client 'GEONET' - Launching basic QC checks...\n",
      "[2021-11-25 00:45:58,271] - obspy.clients.fdsn.mass_downloader - INFO: Client 'GEONET' - Downloaded 0.0 MB [3.25 KB/sec] of data, 0.0 MB of which were discarded afterwards.\n",
      "[2021-11-25 00:45:58,272] - obspy.clients.fdsn.mass_downloader - INFO: Client 'GEONET' - Status for 1 time intervals/channels after downloading: DOWNLOADED\n",
      "[2021-11-25 00:45:58,279] - obspy.clients.fdsn.mass_downloader - INFO: Client 'GEONET' - No station information to download.\n",
      "[2021-11-25 00:45:58,281] - obspy.clients.fdsn.mass_downloader - INFO: ============================== Final report\n",
      "[2021-11-25 00:45:58,281] - obspy.clients.fdsn.mass_downloader - INFO: 0 MiniSEED files [0.0 MB] already existed.\n",
      "[2021-11-25 00:45:58,282] - obspy.clients.fdsn.mass_downloader - INFO: 1 StationXML files [0.0 MB] already existed.\n",
      "[2021-11-25 00:45:58,282] - obspy.clients.fdsn.mass_downloader - INFO: Client 'GEONET' - Acquired 1 MiniSEED files [0.0 MB].\n",
      "[2021-11-25 00:45:58,282] - obspy.clients.fdsn.mass_downloader - INFO: Client 'GEONET' - Acquired 0 StationXML files [0.0 MB].\n",
      "[2021-11-25 00:45:58,282] - obspy.clients.fdsn.mass_downloader - INFO: Downloaded 0.0 MB in total.\n",
      "[2021-11-25 00:45:58,285] - obspy.clients.fdsn.mass_downloader - INFO: Initializing FDSN client(s) for GEONET.\n",
      "[2021-11-25 00:45:58,293] - obspy.clients.fdsn.mass_downloader - INFO: Successfully initialized 1 client(s): GEONET.\n",
      "[2021-11-25 00:45:58,295] - obspy.clients.fdsn.mass_downloader - INFO: Total acquired or preexisting stations: 0\n",
      "[2021-11-25 00:45:58,295] - obspy.clients.fdsn.mass_downloader - INFO: Client 'GEONET' - Requesting unreliable availability.\n"
     ]
    },
    {
     "name": "stdout",
     "output_type": "stream",
     "text": [
      "=================================================================\n",
      "Initiating mass download request.\n"
     ]
    },
    {
     "name": "stderr",
     "output_type": "stream",
     "text": [
      "[2021-11-25 00:45:58,812] - obspy.clients.fdsn.mass_downloader - INFO: Client 'GEONET' - Successfully requested availability (0.52 seconds)\n",
      "[2021-11-25 00:45:58,813] - obspy.clients.fdsn.mass_downloader - INFO: Client 'GEONET' - Found 1 stations (1 channels).\n",
      "[2021-11-25 00:45:58,813] - obspy.clients.fdsn.mass_downloader - INFO: Client 'GEONET' - Will attempt to download data from 1 stations.\n",
      "[2021-11-25 00:45:58,813] - obspy.clients.fdsn.mass_downloader - INFO: Client 'GEONET' - Status for 1 time intervals/channels before downloading: NEEDS_DOWNLOADING\n",
      "[2021-11-25 00:45:59,800] - obspy.clients.fdsn.mass_downloader - INFO: Client 'GEONET' - Successfully downloaded 1 channels (of 1)\n",
      "[2021-11-25 00:45:59,803] - obspy.clients.fdsn.mass_downloader - INFO: Client 'GEONET' - Launching basic QC checks...\n",
      "[2021-11-25 00:45:59,820] - obspy.clients.fdsn.mass_downloader - INFO: Client 'GEONET' - Downloaded 0.0 MB [3.04 KB/sec] of data, 0.0 MB of which were discarded afterwards.\n",
      "[2021-11-25 00:45:59,821] - obspy.clients.fdsn.mass_downloader - INFO: Client 'GEONET' - Status for 1 time intervals/channels after downloading: DOWNLOADED\n",
      "[2021-11-25 00:45:59,832] - obspy.clients.fdsn.mass_downloader - INFO: Client 'GEONET' - No station information to download.\n",
      "[2021-11-25 00:45:59,837] - obspy.clients.fdsn.mass_downloader - INFO: ============================== Final report\n",
      "[2021-11-25 00:45:59,840] - obspy.clients.fdsn.mass_downloader - INFO: 0 MiniSEED files [0.0 MB] already existed.\n",
      "[2021-11-25 00:45:59,841] - obspy.clients.fdsn.mass_downloader - INFO: 1 StationXML files [0.0 MB] already existed.\n",
      "[2021-11-25 00:45:59,843] - obspy.clients.fdsn.mass_downloader - INFO: Client 'GEONET' - Acquired 1 MiniSEED files [0.0 MB].\n",
      "[2021-11-25 00:45:59,844] - obspy.clients.fdsn.mass_downloader - INFO: Client 'GEONET' - Acquired 0 StationXML files [0.0 MB].\n",
      "[2021-11-25 00:45:59,847] - obspy.clients.fdsn.mass_downloader - INFO: Downloaded 0.0 MB in total.\n",
      "[2021-11-25 00:45:59,858] - obspy.clients.fdsn.mass_downloader - INFO: Initializing FDSN client(s) for GEONET.\n",
      "[2021-11-25 00:45:59,871] - obspy.clients.fdsn.mass_downloader - INFO: Successfully initialized 1 client(s): GEONET.\n",
      "[2021-11-25 00:45:59,875] - obspy.clients.fdsn.mass_downloader - INFO: Total acquired or preexisting stations: 0\n",
      "[2021-11-25 00:45:59,877] - obspy.clients.fdsn.mass_downloader - INFO: Client 'GEONET' - Requesting unreliable availability.\n"
     ]
    },
    {
     "name": "stdout",
     "output_type": "stream",
     "text": [
      "=================================================================\n",
      "Initiating mass download request.\n"
     ]
    },
    {
     "name": "stderr",
     "output_type": "stream",
     "text": [
      "[2021-11-25 00:46:00,417] - obspy.clients.fdsn.mass_downloader - INFO: Client 'GEONET' - Successfully requested availability (0.54 seconds)\n",
      "[2021-11-25 00:46:00,417] - obspy.clients.fdsn.mass_downloader - INFO: Client 'GEONET' - Found 1 stations (1 channels).\n",
      "[2021-11-25 00:46:00,418] - obspy.clients.fdsn.mass_downloader - INFO: Client 'GEONET' - Will attempt to download data from 1 stations.\n",
      "[2021-11-25 00:46:00,418] - obspy.clients.fdsn.mass_downloader - INFO: Client 'GEONET' - Status for 1 time intervals/channels before downloading: NEEDS_DOWNLOADING\n",
      "[2021-11-25 00:46:01,426] - obspy.clients.fdsn.mass_downloader - INFO: Client 'GEONET' - Successfully downloaded 1 channels (of 1)\n",
      "[2021-11-25 00:46:01,440] - obspy.clients.fdsn.mass_downloader - INFO: Client 'GEONET' - Launching basic QC checks...\n",
      "[2021-11-25 00:46:01,452] - obspy.clients.fdsn.mass_downloader - INFO: Client 'GEONET' - Downloaded 0.0 MB [3.43 KB/sec] of data, 0.0 MB of which were discarded afterwards.\n",
      "[2021-11-25 00:46:01,453] - obspy.clients.fdsn.mass_downloader - INFO: Client 'GEONET' - Status for 1 time intervals/channels after downloading: DOWNLOADED\n",
      "[2021-11-25 00:46:01,462] - obspy.clients.fdsn.mass_downloader - INFO: Client 'GEONET' - No station information to download.\n",
      "[2021-11-25 00:46:01,467] - obspy.clients.fdsn.mass_downloader - INFO: ============================== Final report\n",
      "[2021-11-25 00:46:01,468] - obspy.clients.fdsn.mass_downloader - INFO: 0 MiniSEED files [0.0 MB] already existed.\n",
      "[2021-11-25 00:46:01,469] - obspy.clients.fdsn.mass_downloader - INFO: 1 StationXML files [0.0 MB] already existed.\n",
      "[2021-11-25 00:46:01,469] - obspy.clients.fdsn.mass_downloader - INFO: Client 'GEONET' - Acquired 1 MiniSEED files [0.0 MB].\n",
      "[2021-11-25 00:46:01,470] - obspy.clients.fdsn.mass_downloader - INFO: Client 'GEONET' - Acquired 0 StationXML files [0.0 MB].\n",
      "[2021-11-25 00:46:01,471] - obspy.clients.fdsn.mass_downloader - INFO: Downloaded 0.0 MB in total.\n",
      "[2021-11-25 00:46:01,478] - obspy.clients.fdsn.mass_downloader - INFO: Initializing FDSN client(s) for GEONET.\n",
      "[2021-11-25 00:46:01,491] - obspy.clients.fdsn.mass_downloader - INFO: Successfully initialized 1 client(s): GEONET.\n",
      "[2021-11-25 00:46:01,493] - obspy.clients.fdsn.mass_downloader - INFO: Total acquired or preexisting stations: 0\n",
      "[2021-11-25 00:46:01,494] - obspy.clients.fdsn.mass_downloader - INFO: Client 'GEONET' - Requesting unreliable availability.\n"
     ]
    },
    {
     "name": "stdout",
     "output_type": "stream",
     "text": [
      "=================================================================\n",
      "Initiating mass download request.\n"
     ]
    },
    {
     "name": "stderr",
     "output_type": "stream",
     "text": [
      "[2021-11-25 00:46:02,111] - obspy.clients.fdsn.mass_downloader - INFO: Client 'GEONET' - Successfully requested availability (0.61 seconds)\n",
      "[2021-11-25 00:46:02,113] - obspy.clients.fdsn.mass_downloader - INFO: Client 'GEONET' - Found 1 stations (1 channels).\n",
      "[2021-11-25 00:46:02,114] - obspy.clients.fdsn.mass_downloader - INFO: Client 'GEONET' - Will attempt to download data from 1 stations.\n",
      "[2021-11-25 00:46:02,114] - obspy.clients.fdsn.mass_downloader - INFO: Client 'GEONET' - Status for 1 time intervals/channels before downloading: NEEDS_DOWNLOADING\n",
      "[2021-11-25 00:46:03,512] - obspy.clients.fdsn.mass_downloader - INFO: Client 'GEONET' - Successfully downloaded 1 channels (of 1)\n",
      "[2021-11-25 00:46:03,515] - obspy.clients.fdsn.mass_downloader - INFO: Client 'GEONET' - Launching basic QC checks...\n",
      "[2021-11-25 00:46:03,522] - obspy.clients.fdsn.mass_downloader - INFO: Client 'GEONET' - Downloaded 0.0 MB [3.94 KB/sec] of data, 0.0 MB of which were discarded afterwards.\n",
      "[2021-11-25 00:46:03,522] - obspy.clients.fdsn.mass_downloader - INFO: Client 'GEONET' - Status for 1 time intervals/channels after downloading: DOWNLOADED\n",
      "[2021-11-25 00:46:03,524] - obspy.clients.fdsn.mass_downloader - INFO: Client 'GEONET' - No station information to download.\n",
      "[2021-11-25 00:46:03,525] - obspy.clients.fdsn.mass_downloader - INFO: ============================== Final report\n",
      "[2021-11-25 00:46:03,525] - obspy.clients.fdsn.mass_downloader - INFO: 0 MiniSEED files [0.0 MB] already existed.\n",
      "[2021-11-25 00:46:03,526] - obspy.clients.fdsn.mass_downloader - INFO: 1 StationXML files [0.0 MB] already existed.\n",
      "[2021-11-25 00:46:03,526] - obspy.clients.fdsn.mass_downloader - INFO: Client 'GEONET' - Acquired 1 MiniSEED files [0.0 MB].\n",
      "[2021-11-25 00:46:03,526] - obspy.clients.fdsn.mass_downloader - INFO: Client 'GEONET' - Acquired 0 StationXML files [0.0 MB].\n",
      "[2021-11-25 00:46:03,527] - obspy.clients.fdsn.mass_downloader - INFO: Downloaded 0.0 MB in total.\n",
      "[2021-11-25 00:46:03,535] - obspy.clients.fdsn.mass_downloader - INFO: Initializing FDSN client(s) for GEONET.\n",
      "[2021-11-25 00:46:03,538] - obspy.clients.fdsn.mass_downloader - INFO: Successfully initialized 1 client(s): GEONET.\n",
      "[2021-11-25 00:46:03,539] - obspy.clients.fdsn.mass_downloader - INFO: Total acquired or preexisting stations: 0\n",
      "[2021-11-25 00:46:03,539] - obspy.clients.fdsn.mass_downloader - INFO: Client 'GEONET' - Requesting unreliable availability.\n"
     ]
    },
    {
     "name": "stdout",
     "output_type": "stream",
     "text": [
      "=================================================================\n",
      "Initiating mass download request.\n"
     ]
    },
    {
     "name": "stderr",
     "output_type": "stream",
     "text": [
      "[2021-11-25 00:46:04,078] - obspy.clients.fdsn.mass_downloader - INFO: Client 'GEONET' - Successfully requested availability (0.54 seconds)\n",
      "[2021-11-25 00:46:04,078] - obspy.clients.fdsn.mass_downloader - INFO: Client 'GEONET' - Found 1 stations (1 channels).\n",
      "[2021-11-25 00:46:04,078] - obspy.clients.fdsn.mass_downloader - INFO: Client 'GEONET' - Will attempt to download data from 1 stations.\n",
      "[2021-11-25 00:46:04,079] - obspy.clients.fdsn.mass_downloader - INFO: Client 'GEONET' - Status for 1 time intervals/channels before downloading: NEEDS_DOWNLOADING\n",
      "[2021-11-25 00:46:05,162] - obspy.clients.fdsn.mass_downloader - INFO: Client 'GEONET' - Successfully downloaded 1 channels (of 1)\n",
      "[2021-11-25 00:46:05,166] - obspy.clients.fdsn.mass_downloader - INFO: Client 'GEONET' - Launching basic QC checks...\n",
      "[2021-11-25 00:46:05,177] - obspy.clients.fdsn.mass_downloader - INFO: Client 'GEONET' - Downloaded 0.0 MB [3.22 KB/sec] of data, 0.0 MB of which were discarded afterwards.\n",
      "[2021-11-25 00:46:05,178] - obspy.clients.fdsn.mass_downloader - INFO: Client 'GEONET' - Status for 1 time intervals/channels after downloading: DOWNLOADED\n",
      "[2021-11-25 00:46:05,183] - obspy.clients.fdsn.mass_downloader - INFO: Client 'GEONET' - No station information to download.\n",
      "[2021-11-25 00:46:05,185] - obspy.clients.fdsn.mass_downloader - INFO: ============================== Final report\n",
      "[2021-11-25 00:46:05,185] - obspy.clients.fdsn.mass_downloader - INFO: 0 MiniSEED files [0.0 MB] already existed.\n",
      "[2021-11-25 00:46:05,185] - obspy.clients.fdsn.mass_downloader - INFO: 1 StationXML files [0.0 MB] already existed.\n",
      "[2021-11-25 00:46:05,186] - obspy.clients.fdsn.mass_downloader - INFO: Client 'GEONET' - Acquired 1 MiniSEED files [0.0 MB].\n",
      "[2021-11-25 00:46:05,186] - obspy.clients.fdsn.mass_downloader - INFO: Client 'GEONET' - Acquired 0 StationXML files [0.0 MB].\n",
      "[2021-11-25 00:46:05,186] - obspy.clients.fdsn.mass_downloader - INFO: Downloaded 0.0 MB in total.\n",
      "[2021-11-25 00:46:05,189] - obspy.clients.fdsn.mass_downloader - INFO: Initializing FDSN client(s) for GEONET.\n",
      "[2021-11-25 00:46:05,196] - obspy.clients.fdsn.mass_downloader - INFO: Successfully initialized 1 client(s): GEONET.\n",
      "[2021-11-25 00:46:05,198] - obspy.clients.fdsn.mass_downloader - INFO: Total acquired or preexisting stations: 0\n",
      "[2021-11-25 00:46:05,198] - obspy.clients.fdsn.mass_downloader - INFO: Client 'GEONET' - Requesting unreliable availability.\n"
     ]
    },
    {
     "name": "stdout",
     "output_type": "stream",
     "text": [
      "=================================================================\n",
      "Initiating mass download request.\n"
     ]
    },
    {
     "name": "stderr",
     "output_type": "stream",
     "text": [
      "[2021-11-25 00:46:06,393] - obspy.clients.fdsn.mass_downloader - INFO: Client 'GEONET' - Successfully requested availability (1.19 seconds)\n",
      "[2021-11-25 00:46:06,394] - obspy.clients.fdsn.mass_downloader - INFO: Client 'GEONET' - Found 1 stations (1 channels).\n",
      "[2021-11-25 00:46:06,394] - obspy.clients.fdsn.mass_downloader - INFO: Client 'GEONET' - Will attempt to download data from 1 stations.\n",
      "[2021-11-25 00:46:06,394] - obspy.clients.fdsn.mass_downloader - INFO: Client 'GEONET' - Status for 1 time intervals/channels before downloading: NEEDS_DOWNLOADING\n",
      "[2021-11-25 00:46:07,576] - obspy.clients.fdsn.mass_downloader - INFO: Client 'GEONET' - Successfully downloaded 1 channels (of 1)\n",
      "[2021-11-25 00:46:07,585] - obspy.clients.fdsn.mass_downloader - INFO: Client 'GEONET' - Launching basic QC checks...\n",
      "[2021-11-25 00:46:07,600] - obspy.clients.fdsn.mass_downloader - INFO: Client 'GEONET' - Downloaded 0.0 MB [3.36 KB/sec] of data, 0.0 MB of which were discarded afterwards.\n",
      "[2021-11-25 00:46:07,602] - obspy.clients.fdsn.mass_downloader - INFO: Client 'GEONET' - Status for 1 time intervals/channels after downloading: DOWNLOADED\n",
      "[2021-11-25 00:46:07,606] - obspy.clients.fdsn.mass_downloader - INFO: Client 'GEONET' - No station information to download.\n",
      "[2021-11-25 00:46:07,607] - obspy.clients.fdsn.mass_downloader - INFO: ============================== Final report\n",
      "[2021-11-25 00:46:07,607] - obspy.clients.fdsn.mass_downloader - INFO: 0 MiniSEED files [0.0 MB] already existed.\n",
      "[2021-11-25 00:46:07,608] - obspy.clients.fdsn.mass_downloader - INFO: 1 StationXML files [0.0 MB] already existed.\n",
      "[2021-11-25 00:46:07,609] - obspy.clients.fdsn.mass_downloader - INFO: Client 'GEONET' - Acquired 1 MiniSEED files [0.0 MB].\n",
      "[2021-11-25 00:46:07,609] - obspy.clients.fdsn.mass_downloader - INFO: Client 'GEONET' - Acquired 0 StationXML files [0.0 MB].\n",
      "[2021-11-25 00:46:07,610] - obspy.clients.fdsn.mass_downloader - INFO: Downloaded 0.0 MB in total.\n",
      "[2021-11-25 00:46:07,616] - obspy.clients.fdsn.mass_downloader - INFO: Initializing FDSN client(s) for GEONET.\n",
      "[2021-11-25 00:46:07,621] - obspy.clients.fdsn.mass_downloader - INFO: Successfully initialized 1 client(s): GEONET.\n",
      "[2021-11-25 00:46:07,621] - obspy.clients.fdsn.mass_downloader - INFO: Total acquired or preexisting stations: 0\n",
      "[2021-11-25 00:46:07,622] - obspy.clients.fdsn.mass_downloader - INFO: Client 'GEONET' - Requesting unreliable availability.\n"
     ]
    },
    {
     "name": "stdout",
     "output_type": "stream",
     "text": [
      "=================================================================\n",
      "Initiating mass download request.\n"
     ]
    },
    {
     "name": "stderr",
     "output_type": "stream",
     "text": [
      "[2021-11-25 00:46:09,079] - obspy.clients.fdsn.mass_downloader - INFO: Client 'GEONET' - Successfully requested availability (1.46 seconds)\n",
      "[2021-11-25 00:46:09,081] - obspy.clients.fdsn.mass_downloader - INFO: Client 'GEONET' - Found 1 stations (1 channels).\n",
      "[2021-11-25 00:46:09,082] - obspy.clients.fdsn.mass_downloader - INFO: Client 'GEONET' - Will attempt to download data from 1 stations.\n",
      "[2021-11-25 00:46:09,083] - obspy.clients.fdsn.mass_downloader - INFO: Client 'GEONET' - Status for 1 time intervals/channels before downloading: NEEDS_DOWNLOADING\n",
      "[2021-11-25 00:46:10,011] - obspy.clients.fdsn.mass_downloader - INFO: Client 'GEONET' - Successfully downloaded 1 channels (of 1)\n",
      "[2021-11-25 00:46:10,012] - obspy.clients.fdsn.mass_downloader - INFO: Client 'GEONET' - Launching basic QC checks...\n",
      "[2021-11-25 00:46:10,015] - obspy.clients.fdsn.mass_downloader - INFO: Client 'GEONET' - Downloaded 0.0 MB [4.89 KB/sec] of data, 0.0 MB of which were discarded afterwards.\n",
      "[2021-11-25 00:46:10,016] - obspy.clients.fdsn.mass_downloader - INFO: Client 'GEONET' - Status for 1 time intervals/channels after downloading: DOWNLOADED\n",
      "[2021-11-25 00:46:10,017] - obspy.clients.fdsn.mass_downloader - INFO: Client 'GEONET' - No station information to download.\n",
      "[2021-11-25 00:46:10,018] - obspy.clients.fdsn.mass_downloader - INFO: ============================== Final report\n",
      "[2021-11-25 00:46:10,018] - obspy.clients.fdsn.mass_downloader - INFO: 0 MiniSEED files [0.0 MB] already existed.\n",
      "[2021-11-25 00:46:10,019] - obspy.clients.fdsn.mass_downloader - INFO: 1 StationXML files [0.0 MB] already existed.\n",
      "[2021-11-25 00:46:10,019] - obspy.clients.fdsn.mass_downloader - INFO: Client 'GEONET' - Acquired 1 MiniSEED files [0.0 MB].\n",
      "[2021-11-25 00:46:10,020] - obspy.clients.fdsn.mass_downloader - INFO: Client 'GEONET' - Acquired 0 StationXML files [0.0 MB].\n",
      "[2021-11-25 00:46:10,020] - obspy.clients.fdsn.mass_downloader - INFO: Downloaded 0.0 MB in total.\n",
      "[2021-11-25 00:46:10,023] - obspy.clients.fdsn.mass_downloader - INFO: Initializing FDSN client(s) for GEONET.\n",
      "[2021-11-25 00:46:10,030] - obspy.clients.fdsn.mass_downloader - INFO: Successfully initialized 1 client(s): GEONET.\n",
      "[2021-11-25 00:46:10,031] - obspy.clients.fdsn.mass_downloader - INFO: Total acquired or preexisting stations: 0\n",
      "[2021-11-25 00:46:10,031] - obspy.clients.fdsn.mass_downloader - INFO: Client 'GEONET' - Requesting unreliable availability.\n"
     ]
    },
    {
     "name": "stdout",
     "output_type": "stream",
     "text": [
      "=================================================================\n",
      "Initiating mass download request.\n"
     ]
    },
    {
     "name": "stderr",
     "output_type": "stream",
     "text": [
      "[2021-11-25 00:46:10,649] - obspy.clients.fdsn.mass_downloader - INFO: Client 'GEONET' - Successfully requested availability (0.62 seconds)\n",
      "[2021-11-25 00:46:10,684] - obspy.clients.fdsn.mass_downloader - INFO: Client 'GEONET' - Found 1 stations (1 channels).\n",
      "[2021-11-25 00:46:10,685] - obspy.clients.fdsn.mass_downloader - INFO: Client 'GEONET' - Will attempt to download data from 1 stations.\n",
      "[2021-11-25 00:46:10,687] - obspy.clients.fdsn.mass_downloader - INFO: Client 'GEONET' - Status for 1 time intervals/channels before downloading: NEEDS_DOWNLOADING\n",
      "[2021-11-25 00:46:12,390] - obspy.clients.fdsn.mass_downloader - INFO: Client 'GEONET' - Successfully downloaded 1 channels (of 1)\n",
      "[2021-11-25 00:46:12,394] - obspy.clients.fdsn.mass_downloader - INFO: Client 'GEONET' - Launching basic QC checks...\n",
      "[2021-11-25 00:46:12,408] - obspy.clients.fdsn.mass_downloader - INFO: Client 'GEONET' - Downloaded 0.0 MB [2.36 KB/sec] of data, 0.0 MB of which were discarded afterwards.\n",
      "[2021-11-25 00:46:12,409] - obspy.clients.fdsn.mass_downloader - INFO: Client 'GEONET' - Status for 1 time intervals/channels after downloading: DOWNLOADED\n",
      "[2021-11-25 00:46:12,412] - obspy.clients.fdsn.mass_downloader - INFO: Client 'GEONET' - No station information to download.\n",
      "[2021-11-25 00:46:12,413] - obspy.clients.fdsn.mass_downloader - INFO: ============================== Final report\n",
      "[2021-11-25 00:46:12,413] - obspy.clients.fdsn.mass_downloader - INFO: 0 MiniSEED files [0.0 MB] already existed.\n",
      "[2021-11-25 00:46:12,413] - obspy.clients.fdsn.mass_downloader - INFO: 1 StationXML files [0.0 MB] already existed.\n",
      "[2021-11-25 00:46:12,414] - obspy.clients.fdsn.mass_downloader - INFO: Client 'GEONET' - Acquired 1 MiniSEED files [0.0 MB].\n",
      "[2021-11-25 00:46:12,414] - obspy.clients.fdsn.mass_downloader - INFO: Client 'GEONET' - Acquired 0 StationXML files [0.0 MB].\n",
      "[2021-11-25 00:46:12,414] - obspy.clients.fdsn.mass_downloader - INFO: Downloaded 0.0 MB in total.\n",
      "[2021-11-25 00:46:12,419] - obspy.clients.fdsn.mass_downloader - INFO: Initializing FDSN client(s) for GEONET.\n",
      "[2021-11-25 00:46:12,423] - obspy.clients.fdsn.mass_downloader - INFO: Successfully initialized 1 client(s): GEONET.\n",
      "[2021-11-25 00:46:12,424] - obspy.clients.fdsn.mass_downloader - INFO: Total acquired or preexisting stations: 0\n",
      "[2021-11-25 00:46:12,424] - obspy.clients.fdsn.mass_downloader - INFO: Client 'GEONET' - Requesting unreliable availability.\n"
     ]
    },
    {
     "name": "stdout",
     "output_type": "stream",
     "text": [
      "=================================================================\n",
      "Initiating mass download request.\n"
     ]
    },
    {
     "name": "stderr",
     "output_type": "stream",
     "text": [
      "[2021-11-25 00:46:13,080] - obspy.clients.fdsn.mass_downloader - INFO: Client 'GEONET' - Successfully requested availability (0.66 seconds)\n",
      "[2021-11-25 00:46:13,081] - obspy.clients.fdsn.mass_downloader - INFO: Client 'GEONET' - Found 1 stations (1 channels).\n",
      "[2021-11-25 00:46:13,082] - obspy.clients.fdsn.mass_downloader - INFO: Client 'GEONET' - Will attempt to download data from 1 stations.\n",
      "[2021-11-25 00:46:13,083] - obspy.clients.fdsn.mass_downloader - INFO: Client 'GEONET' - Status for 1 time intervals/channels before downloading: NEEDS_DOWNLOADING\n",
      "[2021-11-25 00:46:14,053] - obspy.clients.fdsn.mass_downloader - INFO: Client 'GEONET' - Successfully downloaded 1 channels (of 1)\n",
      "[2021-11-25 00:46:14,078] - obspy.clients.fdsn.mass_downloader - INFO: Client 'GEONET' - Launching basic QC checks...\n",
      "[2021-11-25 00:46:14,100] - obspy.clients.fdsn.mass_downloader - INFO: Client 'GEONET' - Downloaded 0.0 MB [4.03 KB/sec] of data, 0.0 MB of which were discarded afterwards.\n",
      "[2021-11-25 00:46:14,105] - obspy.clients.fdsn.mass_downloader - INFO: Client 'GEONET' - Status for 1 time intervals/channels after downloading: DOWNLOADED\n",
      "[2021-11-25 00:46:14,110] - obspy.clients.fdsn.mass_downloader - INFO: Client 'GEONET' - No station information to download.\n",
      "[2021-11-25 00:46:14,115] - obspy.clients.fdsn.mass_downloader - INFO: ============================== Final report\n",
      "[2021-11-25 00:46:14,117] - obspy.clients.fdsn.mass_downloader - INFO: 0 MiniSEED files [0.0 MB] already existed.\n",
      "[2021-11-25 00:46:14,119] - obspy.clients.fdsn.mass_downloader - INFO: 1 StationXML files [0.0 MB] already existed.\n",
      "[2021-11-25 00:46:14,120] - obspy.clients.fdsn.mass_downloader - INFO: Client 'GEONET' - Acquired 1 MiniSEED files [0.0 MB].\n",
      "[2021-11-25 00:46:14,120] - obspy.clients.fdsn.mass_downloader - INFO: Client 'GEONET' - Acquired 0 StationXML files [0.0 MB].\n",
      "[2021-11-25 00:46:14,128] - obspy.clients.fdsn.mass_downloader - INFO: Downloaded 0.0 MB in total.\n",
      "[2021-11-25 00:46:14,135] - obspy.clients.fdsn.mass_downloader - INFO: Initializing FDSN client(s) for GEONET.\n",
      "[2021-11-25 00:46:14,161] - obspy.clients.fdsn.mass_downloader - INFO: Successfully initialized 1 client(s): GEONET.\n",
      "[2021-11-25 00:46:14,173] - obspy.clients.fdsn.mass_downloader - INFO: Total acquired or preexisting stations: 0\n",
      "[2021-11-25 00:46:14,180] - obspy.clients.fdsn.mass_downloader - INFO: Client 'GEONET' - Requesting unreliable availability.\n"
     ]
    },
    {
     "name": "stdout",
     "output_type": "stream",
     "text": [
      "=================================================================\n",
      "Initiating mass download request.\n"
     ]
    },
    {
     "name": "stderr",
     "output_type": "stream",
     "text": [
      "[2021-11-25 00:46:14,788] - obspy.clients.fdsn.mass_downloader - INFO: Client 'GEONET' - Successfully requested availability (0.61 seconds)\n",
      "[2021-11-25 00:46:14,803] - obspy.clients.fdsn.mass_downloader - INFO: Client 'GEONET' - Found 1 stations (1 channels).\n",
      "[2021-11-25 00:46:14,808] - obspy.clients.fdsn.mass_downloader - INFO: Client 'GEONET' - Will attempt to download data from 1 stations.\n",
      "[2021-11-25 00:46:14,813] - obspy.clients.fdsn.mass_downloader - INFO: Client 'GEONET' - Status for 1 time intervals/channels before downloading: NEEDS_DOWNLOADING\n",
      "[2021-11-25 00:46:15,964] - obspy.clients.fdsn.mass_downloader - INFO: Client 'GEONET' - Successfully downloaded 1 channels (of 1)\n",
      "[2021-11-25 00:46:15,969] - obspy.clients.fdsn.mass_downloader - INFO: Client 'GEONET' - Launching basic QC checks...\n",
      "[2021-11-25 00:46:15,974] - obspy.clients.fdsn.mass_downloader - INFO: Client 'GEONET' - Downloaded 0.0 MB [3.52 KB/sec] of data, 0.0 MB of which were discarded afterwards.\n",
      "[2021-11-25 00:46:15,974] - obspy.clients.fdsn.mass_downloader - INFO: Client 'GEONET' - Status for 1 time intervals/channels after downloading: DOWNLOADED\n",
      "[2021-11-25 00:46:15,979] - obspy.clients.fdsn.mass_downloader - INFO: Client 'GEONET' - No station information to download.\n",
      "[2021-11-25 00:46:15,980] - obspy.clients.fdsn.mass_downloader - INFO: ============================== Final report\n",
      "[2021-11-25 00:46:15,980] - obspy.clients.fdsn.mass_downloader - INFO: 0 MiniSEED files [0.0 MB] already existed.\n",
      "[2021-11-25 00:46:15,980] - obspy.clients.fdsn.mass_downloader - INFO: 1 StationXML files [0.0 MB] already existed.\n",
      "[2021-11-25 00:46:15,980] - obspy.clients.fdsn.mass_downloader - INFO: Client 'GEONET' - Acquired 1 MiniSEED files [0.0 MB].\n",
      "[2021-11-25 00:46:15,981] - obspy.clients.fdsn.mass_downloader - INFO: Client 'GEONET' - Acquired 0 StationXML files [0.0 MB].\n",
      "[2021-11-25 00:46:15,981] - obspy.clients.fdsn.mass_downloader - INFO: Downloaded 0.0 MB in total.\n",
      "[2021-11-25 00:46:15,983] - obspy.clients.fdsn.mass_downloader - INFO: Initializing FDSN client(s) for GEONET.\n",
      "[2021-11-25 00:46:15,990] - obspy.clients.fdsn.mass_downloader - INFO: Successfully initialized 1 client(s): GEONET.\n",
      "[2021-11-25 00:46:15,991] - obspy.clients.fdsn.mass_downloader - INFO: Total acquired or preexisting stations: 0\n",
      "[2021-11-25 00:46:15,991] - obspy.clients.fdsn.mass_downloader - INFO: Client 'GEONET' - Requesting unreliable availability.\n"
     ]
    },
    {
     "name": "stdout",
     "output_type": "stream",
     "text": [
      "=================================================================\n",
      "Initiating mass download request.\n"
     ]
    },
    {
     "name": "stderr",
     "output_type": "stream",
     "text": [
      "[2021-11-25 00:46:16,555] - obspy.clients.fdsn.mass_downloader - INFO: Client 'GEONET' - Successfully requested availability (0.56 seconds)\n",
      "[2021-11-25 00:46:16,555] - obspy.clients.fdsn.mass_downloader - INFO: Client 'GEONET' - Found 1 stations (1 channels).\n",
      "[2021-11-25 00:46:16,556] - obspy.clients.fdsn.mass_downloader - INFO: Client 'GEONET' - Will attempt to download data from 1 stations.\n",
      "[2021-11-25 00:46:16,557] - obspy.clients.fdsn.mass_downloader - INFO: Client 'GEONET' - Status for 1 time intervals/channels before downloading: NEEDS_DOWNLOADING\n",
      "[2021-11-25 00:46:17,870] - obspy.clients.fdsn.mass_downloader - INFO: Client 'GEONET' - Successfully downloaded 1 channels (of 1)\n",
      "[2021-11-25 00:46:17,873] - obspy.clients.fdsn.mass_downloader - INFO: Client 'GEONET' - Launching basic QC checks...\n",
      "[2021-11-25 00:46:17,882] - obspy.clients.fdsn.mass_downloader - INFO: Client 'GEONET' - Downloaded 0.0 MB [3.04 KB/sec] of data, 0.0 MB of which were discarded afterwards.\n",
      "[2021-11-25 00:46:17,882] - obspy.clients.fdsn.mass_downloader - INFO: Client 'GEONET' - Status for 1 time intervals/channels after downloading: DOWNLOADED\n",
      "[2021-11-25 00:46:17,893] - obspy.clients.fdsn.mass_downloader - INFO: Client 'GEONET' - No station information to download.\n",
      "[2021-11-25 00:46:17,895] - obspy.clients.fdsn.mass_downloader - INFO: ============================== Final report\n",
      "[2021-11-25 00:46:17,895] - obspy.clients.fdsn.mass_downloader - INFO: 0 MiniSEED files [0.0 MB] already existed.\n",
      "[2021-11-25 00:46:17,896] - obspy.clients.fdsn.mass_downloader - INFO: 1 StationXML files [0.0 MB] already existed.\n",
      "[2021-11-25 00:46:17,898] - obspy.clients.fdsn.mass_downloader - INFO: Client 'GEONET' - Acquired 1 MiniSEED files [0.0 MB].\n",
      "[2021-11-25 00:46:17,899] - obspy.clients.fdsn.mass_downloader - INFO: Client 'GEONET' - Acquired 0 StationXML files [0.0 MB].\n",
      "[2021-11-25 00:46:17,900] - obspy.clients.fdsn.mass_downloader - INFO: Downloaded 0.0 MB in total.\n",
      "[2021-11-25 00:46:17,904] - obspy.clients.fdsn.mass_downloader - INFO: Initializing FDSN client(s) for GEONET.\n",
      "[2021-11-25 00:46:17,913] - obspy.clients.fdsn.mass_downloader - INFO: Successfully initialized 1 client(s): GEONET.\n",
      "[2021-11-25 00:46:17,914] - obspy.clients.fdsn.mass_downloader - INFO: Total acquired or preexisting stations: 0\n",
      "[2021-11-25 00:46:17,915] - obspy.clients.fdsn.mass_downloader - INFO: Client 'GEONET' - Requesting unreliable availability.\n"
     ]
    },
    {
     "name": "stdout",
     "output_type": "stream",
     "text": [
      "=================================================================\n",
      "Initiating mass download request.\n"
     ]
    },
    {
     "name": "stderr",
     "output_type": "stream",
     "text": [
      "[2021-11-25 00:46:18,504] - obspy.clients.fdsn.mass_downloader - INFO: Client 'GEONET' - Successfully requested availability (0.59 seconds)\n",
      "[2021-11-25 00:46:18,506] - obspy.clients.fdsn.mass_downloader - INFO: Client 'GEONET' - Found 1 stations (1 channels).\n",
      "[2021-11-25 00:46:18,506] - obspy.clients.fdsn.mass_downloader - INFO: Client 'GEONET' - Will attempt to download data from 1 stations.\n",
      "[2021-11-25 00:46:18,506] - obspy.clients.fdsn.mass_downloader - INFO: Client 'GEONET' - Status for 1 time intervals/channels before downloading: NEEDS_DOWNLOADING\n",
      "[2021-11-25 00:46:19,567] - obspy.clients.fdsn.mass_downloader - INFO: Client 'GEONET' - Successfully downloaded 1 channels (of 1)\n",
      "[2021-11-25 00:46:19,574] - obspy.clients.fdsn.mass_downloader - INFO: Client 'GEONET' - Launching basic QC checks...\n",
      "[2021-11-25 00:46:19,616] - obspy.clients.fdsn.mass_downloader - INFO: Client 'GEONET' - Downloaded 0.0 MB [3.28 KB/sec] of data, 0.0 MB of which were discarded afterwards.\n",
      "[2021-11-25 00:46:19,618] - obspy.clients.fdsn.mass_downloader - INFO: Client 'GEONET' - Status for 1 time intervals/channels after downloading: DOWNLOADED\n",
      "[2021-11-25 00:46:19,640] - obspy.clients.fdsn.mass_downloader - INFO: Client 'GEONET' - No station information to download.\n",
      "[2021-11-25 00:46:19,645] - obspy.clients.fdsn.mass_downloader - INFO: ============================== Final report\n",
      "[2021-11-25 00:46:19,647] - obspy.clients.fdsn.mass_downloader - INFO: 0 MiniSEED files [0.0 MB] already existed.\n",
      "[2021-11-25 00:46:19,648] - obspy.clients.fdsn.mass_downloader - INFO: 1 StationXML files [0.0 MB] already existed.\n",
      "[2021-11-25 00:46:19,649] - obspy.clients.fdsn.mass_downloader - INFO: Client 'GEONET' - Acquired 1 MiniSEED files [0.0 MB].\n",
      "[2021-11-25 00:46:19,650] - obspy.clients.fdsn.mass_downloader - INFO: Client 'GEONET' - Acquired 0 StationXML files [0.0 MB].\n",
      "[2021-11-25 00:46:19,650] - obspy.clients.fdsn.mass_downloader - INFO: Downloaded 0.0 MB in total.\n",
      "[2021-11-25 00:46:19,658] - obspy.clients.fdsn.mass_downloader - INFO: Initializing FDSN client(s) for GEONET.\n",
      "[2021-11-25 00:46:19,674] - obspy.clients.fdsn.mass_downloader - INFO: Successfully initialized 1 client(s): GEONET.\n",
      "[2021-11-25 00:46:19,676] - obspy.clients.fdsn.mass_downloader - INFO: Total acquired or preexisting stations: 0\n",
      "[2021-11-25 00:46:19,677] - obspy.clients.fdsn.mass_downloader - INFO: Client 'GEONET' - Requesting unreliable availability.\n"
     ]
    },
    {
     "name": "stdout",
     "output_type": "stream",
     "text": [
      "=================================================================\n",
      "Initiating mass download request.\n"
     ]
    },
    {
     "name": "stderr",
     "output_type": "stream",
     "text": [
      "[2021-11-25 00:46:20,339] - obspy.clients.fdsn.mass_downloader - INFO: Client 'GEONET' - Successfully requested availability (0.66 seconds)\n",
      "[2021-11-25 00:46:20,342] - obspy.clients.fdsn.mass_downloader - INFO: Client 'GEONET' - Found 1 stations (1 channels).\n",
      "[2021-11-25 00:46:20,344] - obspy.clients.fdsn.mass_downloader - INFO: Client 'GEONET' - Will attempt to download data from 1 stations.\n",
      "[2021-11-25 00:46:20,345] - obspy.clients.fdsn.mass_downloader - INFO: Client 'GEONET' - Status for 1 time intervals/channels before downloading: NEEDS_DOWNLOADING\n",
      "[2021-11-25 00:46:22,668] - obspy.clients.fdsn.mass_downloader - INFO: Client 'GEONET' - Successfully downloaded 1 channels (of 1)\n",
      "[2021-11-25 00:46:22,679] - obspy.clients.fdsn.mass_downloader - INFO: Client 'GEONET' - Launching basic QC checks...\n",
      "[2021-11-25 00:46:22,697] - obspy.clients.fdsn.mass_downloader - INFO: Client 'GEONET' - Downloaded 0.0 MB [3.22 KB/sec] of data, 0.0 MB of which were discarded afterwards.\n",
      "[2021-11-25 00:46:22,702] - obspy.clients.fdsn.mass_downloader - INFO: Client 'GEONET' - Status for 1 time intervals/channels after downloading: DOWNLOADED\n",
      "[2021-11-25 00:46:22,718] - obspy.clients.fdsn.mass_downloader - INFO: Client 'GEONET' - No station information to download.\n",
      "[2021-11-25 00:46:22,724] - obspy.clients.fdsn.mass_downloader - INFO: ============================== Final report\n",
      "[2021-11-25 00:46:22,727] - obspy.clients.fdsn.mass_downloader - INFO: 0 MiniSEED files [0.0 MB] already existed.\n",
      "[2021-11-25 00:46:22,732] - obspy.clients.fdsn.mass_downloader - INFO: 1 StationXML files [0.0 MB] already existed.\n",
      "[2021-11-25 00:46:22,735] - obspy.clients.fdsn.mass_downloader - INFO: Client 'GEONET' - Acquired 1 MiniSEED files [0.0 MB].\n",
      "[2021-11-25 00:46:22,739] - obspy.clients.fdsn.mass_downloader - INFO: Client 'GEONET' - Acquired 0 StationXML files [0.0 MB].\n",
      "[2021-11-25 00:46:22,740] - obspy.clients.fdsn.mass_downloader - INFO: Downloaded 0.0 MB in total.\n",
      "[2021-11-25 00:46:22,748] - obspy.clients.fdsn.mass_downloader - INFO: Initializing FDSN client(s) for GEONET.\n",
      "[2021-11-25 00:46:22,765] - obspy.clients.fdsn.mass_downloader - INFO: Successfully initialized 1 client(s): GEONET.\n",
      "[2021-11-25 00:46:22,768] - obspy.clients.fdsn.mass_downloader - INFO: Total acquired or preexisting stations: 0\n",
      "[2021-11-25 00:46:22,768] - obspy.clients.fdsn.mass_downloader - INFO: Client 'GEONET' - Requesting unreliable availability.\n"
     ]
    },
    {
     "name": "stdout",
     "output_type": "stream",
     "text": [
      "=================================================================\n",
      "Initiating mass download request.\n"
     ]
    },
    {
     "name": "stderr",
     "output_type": "stream",
     "text": [
      "[2021-11-25 00:46:23,352] - obspy.clients.fdsn.mass_downloader - INFO: Client 'GEONET' - Successfully requested availability (0.58 seconds)\n",
      "[2021-11-25 00:46:23,354] - obspy.clients.fdsn.mass_downloader - INFO: Client 'GEONET' - Found 1 stations (1 channels).\n",
      "[2021-11-25 00:46:23,354] - obspy.clients.fdsn.mass_downloader - INFO: Client 'GEONET' - Will attempt to download data from 1 stations.\n",
      "[2021-11-25 00:46:23,355] - obspy.clients.fdsn.mass_downloader - INFO: Client 'GEONET' - Status for 1 time intervals/channels before downloading: NEEDS_DOWNLOADING\n",
      "[2021-11-25 00:46:24,189] - obspy.clients.fdsn.mass_downloader - INFO: Client 'GEONET' - Successfully downloaded 1 channels (of 1)\n",
      "[2021-11-25 00:46:24,191] - obspy.clients.fdsn.mass_downloader - INFO: Client 'GEONET' - Launching basic QC checks...\n",
      "[2021-11-25 00:46:24,195] - obspy.clients.fdsn.mass_downloader - INFO: Client 'GEONET' - Downloaded 0.0 MB [3.60 KB/sec] of data, 0.0 MB of which were discarded afterwards.\n",
      "[2021-11-25 00:46:24,195] - obspy.clients.fdsn.mass_downloader - INFO: Client 'GEONET' - Status for 1 time intervals/channels after downloading: DOWNLOADED\n",
      "[2021-11-25 00:46:24,197] - obspy.clients.fdsn.mass_downloader - INFO: Client 'GEONET' - No station information to download.\n",
      "[2021-11-25 00:46:24,198] - obspy.clients.fdsn.mass_downloader - INFO: ============================== Final report\n",
      "[2021-11-25 00:46:24,198] - obspy.clients.fdsn.mass_downloader - INFO: 0 MiniSEED files [0.0 MB] already existed.\n",
      "[2021-11-25 00:46:24,198] - obspy.clients.fdsn.mass_downloader - INFO: 1 StationXML files [0.0 MB] already existed.\n",
      "[2021-11-25 00:46:24,199] - obspy.clients.fdsn.mass_downloader - INFO: Client 'GEONET' - Acquired 1 MiniSEED files [0.0 MB].\n",
      "[2021-11-25 00:46:24,199] - obspy.clients.fdsn.mass_downloader - INFO: Client 'GEONET' - Acquired 0 StationXML files [0.0 MB].\n",
      "[2021-11-25 00:46:24,199] - obspy.clients.fdsn.mass_downloader - INFO: Downloaded 0.0 MB in total.\n",
      "[2021-11-25 00:46:24,217] - obspy.clients.fdsn.mass_downloader - INFO: Initializing FDSN client(s) for GEONET.\n",
      "[2021-11-25 00:46:24,227] - obspy.clients.fdsn.mass_downloader - INFO: Successfully initialized 1 client(s): GEONET.\n",
      "[2021-11-25 00:46:24,230] - obspy.clients.fdsn.mass_downloader - INFO: Total acquired or preexisting stations: 0\n",
      "[2021-11-25 00:46:24,230] - obspy.clients.fdsn.mass_downloader - INFO: Client 'GEONET' - Requesting unreliable availability.\n"
     ]
    },
    {
     "name": "stdout",
     "output_type": "stream",
     "text": [
      "=================================================================\n",
      "Initiating mass download request.\n"
     ]
    },
    {
     "name": "stderr",
     "output_type": "stream",
     "text": [
      "[2021-11-25 00:46:24,818] - obspy.clients.fdsn.mass_downloader - INFO: Client 'GEONET' - Successfully requested availability (0.59 seconds)\n",
      "[2021-11-25 00:46:24,825] - obspy.clients.fdsn.mass_downloader - INFO: Client 'GEONET' - Found 1 stations (1 channels).\n",
      "[2021-11-25 00:46:24,834] - obspy.clients.fdsn.mass_downloader - INFO: Client 'GEONET' - Will attempt to download data from 1 stations.\n",
      "[2021-11-25 00:46:24,837] - obspy.clients.fdsn.mass_downloader - INFO: Client 'GEONET' - Status for 1 time intervals/channels before downloading: NEEDS_DOWNLOADING\n",
      "[2021-11-25 00:46:25,761] - obspy.clients.fdsn.mass_downloader - INFO: Client 'GEONET' - Successfully downloaded 1 channels (of 1)\n",
      "[2021-11-25 00:46:25,777] - obspy.clients.fdsn.mass_downloader - INFO: Client 'GEONET' - Launching basic QC checks...\n",
      "[2021-11-25 00:46:25,788] - obspy.clients.fdsn.mass_downloader - INFO: Client 'GEONET' - Downloaded 0.0 MB [3.76 KB/sec] of data, 0.0 MB of which were discarded afterwards.\n",
      "[2021-11-25 00:46:25,790] - obspy.clients.fdsn.mass_downloader - INFO: Client 'GEONET' - Status for 1 time intervals/channels after downloading: DOWNLOADED\n",
      "[2021-11-25 00:46:25,802] - obspy.clients.fdsn.mass_downloader - INFO: Client 'GEONET' - No station information to download.\n",
      "[2021-11-25 00:46:25,804] - obspy.clients.fdsn.mass_downloader - INFO: ============================== Final report\n",
      "[2021-11-25 00:46:25,806] - obspy.clients.fdsn.mass_downloader - INFO: 0 MiniSEED files [0.0 MB] already existed.\n",
      "[2021-11-25 00:46:25,808] - obspy.clients.fdsn.mass_downloader - INFO: 1 StationXML files [0.0 MB] already existed.\n",
      "[2021-11-25 00:46:25,809] - obspy.clients.fdsn.mass_downloader - INFO: Client 'GEONET' - Acquired 1 MiniSEED files [0.0 MB].\n",
      "[2021-11-25 00:46:25,809] - obspy.clients.fdsn.mass_downloader - INFO: Client 'GEONET' - Acquired 0 StationXML files [0.0 MB].\n",
      "[2021-11-25 00:46:25,809] - obspy.clients.fdsn.mass_downloader - INFO: Downloaded 0.0 MB in total.\n",
      "[2021-11-25 00:46:25,818] - obspy.clients.fdsn.mass_downloader - INFO: Initializing FDSN client(s) for GEONET.\n",
      "[2021-11-25 00:46:25,835] - obspy.clients.fdsn.mass_downloader - INFO: Successfully initialized 1 client(s): GEONET.\n",
      "[2021-11-25 00:46:25,847] - obspy.clients.fdsn.mass_downloader - INFO: Total acquired or preexisting stations: 0\n",
      "[2021-11-25 00:46:25,848] - obspy.clients.fdsn.mass_downloader - INFO: Client 'GEONET' - Requesting unreliable availability.\n"
     ]
    },
    {
     "name": "stdout",
     "output_type": "stream",
     "text": [
      "=================================================================\n",
      "Initiating mass download request.\n"
     ]
    },
    {
     "name": "stderr",
     "output_type": "stream",
     "text": [
      "[2021-11-25 00:46:26,395] - obspy.clients.fdsn.mass_downloader - INFO: Client 'GEONET' - Successfully requested availability (0.55 seconds)\n",
      "[2021-11-25 00:46:26,397] - obspy.clients.fdsn.mass_downloader - INFO: Client 'GEONET' - Found 1 stations (1 channels).\n",
      "[2021-11-25 00:46:26,398] - obspy.clients.fdsn.mass_downloader - INFO: Client 'GEONET' - Will attempt to download data from 1 stations.\n",
      "[2021-11-25 00:46:26,398] - obspy.clients.fdsn.mass_downloader - INFO: Client 'GEONET' - Status for 1 time intervals/channels before downloading: NEEDS_DOWNLOADING\n",
      "[2021-11-25 00:46:27,624] - obspy.clients.fdsn.mass_downloader - INFO: Client 'GEONET' - Successfully downloaded 1 channels (of 1)\n",
      "[2021-11-25 00:46:27,630] - obspy.clients.fdsn.mass_downloader - INFO: Client 'GEONET' - Launching basic QC checks...\n",
      "[2021-11-25 00:46:27,638] - obspy.clients.fdsn.mass_downloader - INFO: Client 'GEONET' - Downloaded 0.0 MB [3.26 KB/sec] of data, 0.0 MB of which were discarded afterwards.\n",
      "[2021-11-25 00:46:27,638] - obspy.clients.fdsn.mass_downloader - INFO: Client 'GEONET' - Status for 1 time intervals/channels after downloading: DOWNLOADED\n",
      "[2021-11-25 00:46:27,641] - obspy.clients.fdsn.mass_downloader - INFO: Client 'GEONET' - No station information to download.\n",
      "[2021-11-25 00:46:27,642] - obspy.clients.fdsn.mass_downloader - INFO: ============================== Final report\n",
      "[2021-11-25 00:46:27,643] - obspy.clients.fdsn.mass_downloader - INFO: 0 MiniSEED files [0.0 MB] already existed.\n",
      "[2021-11-25 00:46:27,643] - obspy.clients.fdsn.mass_downloader - INFO: 1 StationXML files [0.0 MB] already existed.\n",
      "[2021-11-25 00:46:27,644] - obspy.clients.fdsn.mass_downloader - INFO: Client 'GEONET' - Acquired 1 MiniSEED files [0.0 MB].\n",
      "[2021-11-25 00:46:27,644] - obspy.clients.fdsn.mass_downloader - INFO: Client 'GEONET' - Acquired 0 StationXML files [0.0 MB].\n",
      "[2021-11-25 00:46:27,644] - obspy.clients.fdsn.mass_downloader - INFO: Downloaded 0.0 MB in total.\n",
      "[2021-11-25 00:46:27,648] - obspy.clients.fdsn.mass_downloader - INFO: Initializing FDSN client(s) for GEONET.\n",
      "[2021-11-25 00:46:27,653] - obspy.clients.fdsn.mass_downloader - INFO: Successfully initialized 1 client(s): GEONET.\n",
      "[2021-11-25 00:46:27,659] - obspy.clients.fdsn.mass_downloader - INFO: Total acquired or preexisting stations: 0\n",
      "[2021-11-25 00:46:27,660] - obspy.clients.fdsn.mass_downloader - INFO: Client 'GEONET' - Requesting unreliable availability.\n"
     ]
    },
    {
     "name": "stdout",
     "output_type": "stream",
     "text": [
      "=================================================================\n",
      "Initiating mass download request.\n"
     ]
    },
    {
     "name": "stderr",
     "output_type": "stream",
     "text": [
      "[2021-11-25 00:46:28,356] - obspy.clients.fdsn.mass_downloader - INFO: Client 'GEONET' - Successfully requested availability (0.70 seconds)\n",
      "[2021-11-25 00:46:28,361] - obspy.clients.fdsn.mass_downloader - INFO: Client 'GEONET' - Found 1 stations (1 channels).\n",
      "[2021-11-25 00:46:28,367] - obspy.clients.fdsn.mass_downloader - INFO: Client 'GEONET' - Will attempt to download data from 1 stations.\n",
      "[2021-11-25 00:46:28,368] - obspy.clients.fdsn.mass_downloader - INFO: Client 'GEONET' - Status for 1 time intervals/channels before downloading: NEEDS_DOWNLOADING\n",
      "[2021-11-25 00:46:29,220] - obspy.clients.fdsn.mass_downloader - INFO: Client 'GEONET' - Successfully downloaded 1 channels (of 1)\n",
      "[2021-11-25 00:46:29,224] - obspy.clients.fdsn.mass_downloader - INFO: Client 'GEONET' - Launching basic QC checks...\n",
      "[2021-11-25 00:46:29,239] - obspy.clients.fdsn.mass_downloader - INFO: Client 'GEONET' - Downloaded 0.0 MB [4.11 KB/sec] of data, 0.0 MB of which were discarded afterwards.\n",
      "[2021-11-25 00:46:29,243] - obspy.clients.fdsn.mass_downloader - INFO: Client 'GEONET' - Status for 1 time intervals/channels after downloading: DOWNLOADED\n",
      "[2021-11-25 00:46:30,667] - obspy.clients.fdsn.mass_downloader - INFO: Client 'GEONET' - Successfully downloaded 'normal/stations/NZ.BKZ.xml'.\n",
      "[2021-11-25 00:46:30,679] - obspy.clients.fdsn.mass_downloader - INFO: Client 'GEONET' - Downloaded 1 station files [0.0 MB] in 1.4 seconds [5.92 KB/sec].\n",
      "[2021-11-25 00:46:30,686] - obspy.clients.fdsn.mass_downloader - INFO: ============================== Final report\n",
      "[2021-11-25 00:46:30,686] - obspy.clients.fdsn.mass_downloader - INFO: 0 MiniSEED files [0.0 MB] already existed.\n",
      "[2021-11-25 00:46:30,687] - obspy.clients.fdsn.mass_downloader - INFO: 0 StationXML files [0.0 MB] already existed.\n",
      "[2021-11-25 00:46:30,687] - obspy.clients.fdsn.mass_downloader - INFO: Client 'GEONET' - Acquired 1 MiniSEED files [0.0 MB].\n",
      "[2021-11-25 00:46:30,688] - obspy.clients.fdsn.mass_downloader - INFO: Client 'GEONET' - Acquired 1 StationXML files [0.0 MB].\n",
      "[2021-11-25 00:46:30,688] - obspy.clients.fdsn.mass_downloader - INFO: Downloaded 0.0 MB in total.\n",
      "[2021-11-25 00:46:30,691] - obspy.clients.fdsn.mass_downloader - INFO: Initializing FDSN client(s) for GEONET.\n",
      "[2021-11-25 00:46:30,699] - obspy.clients.fdsn.mass_downloader - INFO: Successfully initialized 1 client(s): GEONET.\n",
      "[2021-11-25 00:46:30,700] - obspy.clients.fdsn.mass_downloader - INFO: Total acquired or preexisting stations: 0\n",
      "[2021-11-25 00:46:30,700] - obspy.clients.fdsn.mass_downloader - INFO: Client 'GEONET' - Requesting unreliable availability.\n"
     ]
    },
    {
     "name": "stdout",
     "output_type": "stream",
     "text": [
      "=================================================================\n",
      "Initiating mass download request.\n"
     ]
    },
    {
     "name": "stderr",
     "output_type": "stream",
     "text": [
      "[2021-11-25 00:46:31,281] - obspy.clients.fdsn.mass_downloader - INFO: Client 'GEONET' - Successfully requested availability (0.58 seconds)\n",
      "[2021-11-25 00:46:31,282] - obspy.clients.fdsn.mass_downloader - INFO: Client 'GEONET' - Found 1 stations (1 channels).\n",
      "[2021-11-25 00:46:31,282] - obspy.clients.fdsn.mass_downloader - INFO: Client 'GEONET' - Will attempt to download data from 1 stations.\n",
      "[2021-11-25 00:46:31,282] - obspy.clients.fdsn.mass_downloader - INFO: Client 'GEONET' - Status for 1 time intervals/channels before downloading: NEEDS_DOWNLOADING\n",
      "[2021-11-25 00:46:32,083] - obspy.clients.fdsn.mass_downloader - INFO: Client 'GEONET' - Successfully downloaded 1 channels (of 1)\n",
      "[2021-11-25 00:46:32,084] - obspy.clients.fdsn.mass_downloader - INFO: Client 'GEONET' - Launching basic QC checks...\n",
      "[2021-11-25 00:46:32,087] - obspy.clients.fdsn.mass_downloader - INFO: Client 'GEONET' - Downloaded 0.0 MB [3.12 KB/sec] of data, 0.0 MB of which were discarded afterwards.\n",
      "[2021-11-25 00:46:32,087] - obspy.clients.fdsn.mass_downloader - INFO: Client 'GEONET' - Status for 1 time intervals/channels after downloading: DOWNLOADED\n",
      "[2021-11-25 00:46:32,089] - obspy.clients.fdsn.mass_downloader - INFO: Client 'GEONET' - No station information to download.\n",
      "[2021-11-25 00:46:32,090] - obspy.clients.fdsn.mass_downloader - INFO: ============================== Final report\n",
      "[2021-11-25 00:46:32,090] - obspy.clients.fdsn.mass_downloader - INFO: 0 MiniSEED files [0.0 MB] already existed.\n",
      "[2021-11-25 00:46:32,090] - obspy.clients.fdsn.mass_downloader - INFO: 1 StationXML files [0.0 MB] already existed.\n",
      "[2021-11-25 00:46:32,091] - obspy.clients.fdsn.mass_downloader - INFO: Client 'GEONET' - Acquired 1 MiniSEED files [0.0 MB].\n",
      "[2021-11-25 00:46:32,091] - obspy.clients.fdsn.mass_downloader - INFO: Client 'GEONET' - Acquired 0 StationXML files [0.0 MB].\n",
      "[2021-11-25 00:46:32,091] - obspy.clients.fdsn.mass_downloader - INFO: Downloaded 0.0 MB in total.\n",
      "[2021-11-25 00:46:32,097] - obspy.clients.fdsn.mass_downloader - INFO: Initializing FDSN client(s) for GEONET.\n",
      "[2021-11-25 00:46:32,100] - obspy.clients.fdsn.mass_downloader - INFO: Successfully initialized 1 client(s): GEONET.\n",
      "[2021-11-25 00:46:32,101] - obspy.clients.fdsn.mass_downloader - INFO: Total acquired or preexisting stations: 0\n",
      "[2021-11-25 00:46:32,101] - obspy.clients.fdsn.mass_downloader - INFO: Client 'GEONET' - Requesting unreliable availability.\n"
     ]
    },
    {
     "name": "stdout",
     "output_type": "stream",
     "text": [
      "=================================================================\n",
      "Initiating mass download request.\n"
     ]
    },
    {
     "name": "stderr",
     "output_type": "stream",
     "text": [
      "[2021-11-25 00:46:32,766] - obspy.clients.fdsn.mass_downloader - INFO: Client 'GEONET' - Successfully requested availability (0.66 seconds)\n",
      "[2021-11-25 00:46:32,770] - obspy.clients.fdsn.mass_downloader - INFO: Client 'GEONET' - Found 1 stations (1 channels).\n",
      "[2021-11-25 00:46:32,773] - obspy.clients.fdsn.mass_downloader - INFO: Client 'GEONET' - Will attempt to download data from 1 stations.\n",
      "[2021-11-25 00:46:32,773] - obspy.clients.fdsn.mass_downloader - INFO: Client 'GEONET' - Status for 1 time intervals/channels before downloading: NEEDS_DOWNLOADING\n",
      "[2021-11-25 00:46:33,511] - obspy.clients.fdsn.mass_downloader - INFO: Client 'GEONET' - Successfully downloaded 1 channels (of 1)\n",
      "[2021-11-25 00:46:33,514] - obspy.clients.fdsn.mass_downloader - INFO: Client 'GEONET' - Launching basic QC checks...\n",
      "[2021-11-25 00:46:33,521] - obspy.clients.fdsn.mass_downloader - INFO: Client 'GEONET' - Downloaded 0.0 MB [4.77 KB/sec] of data, 0.0 MB of which were discarded afterwards.\n",
      "[2021-11-25 00:46:33,522] - obspy.clients.fdsn.mass_downloader - INFO: Client 'GEONET' - Status for 1 time intervals/channels after downloading: DOWNLOADED\n",
      "[2021-11-25 00:46:33,524] - obspy.clients.fdsn.mass_downloader - INFO: Client 'GEONET' - No station information to download.\n",
      "[2021-11-25 00:46:33,525] - obspy.clients.fdsn.mass_downloader - INFO: ============================== Final report\n",
      "[2021-11-25 00:46:33,525] - obspy.clients.fdsn.mass_downloader - INFO: 0 MiniSEED files [0.0 MB] already existed.\n",
      "[2021-11-25 00:46:33,526] - obspy.clients.fdsn.mass_downloader - INFO: 1 StationXML files [0.0 MB] already existed.\n",
      "[2021-11-25 00:46:33,526] - obspy.clients.fdsn.mass_downloader - INFO: Client 'GEONET' - Acquired 1 MiniSEED files [0.0 MB].\n",
      "[2021-11-25 00:46:33,526] - obspy.clients.fdsn.mass_downloader - INFO: Client 'GEONET' - Acquired 0 StationXML files [0.0 MB].\n",
      "[2021-11-25 00:46:33,527] - obspy.clients.fdsn.mass_downloader - INFO: Downloaded 0.0 MB in total.\n",
      "[2021-11-25 00:46:33,534] - obspy.clients.fdsn.mass_downloader - INFO: Initializing FDSN client(s) for GEONET.\n",
      "[2021-11-25 00:46:33,542] - obspy.clients.fdsn.mass_downloader - INFO: Successfully initialized 1 client(s): GEONET.\n",
      "[2021-11-25 00:46:33,543] - obspy.clients.fdsn.mass_downloader - INFO: Total acquired or preexisting stations: 0\n",
      "[2021-11-25 00:46:33,543] - obspy.clients.fdsn.mass_downloader - INFO: Client 'GEONET' - Requesting unreliable availability.\n"
     ]
    },
    {
     "name": "stdout",
     "output_type": "stream",
     "text": [
      "=================================================================\n",
      "Initiating mass download request.\n"
     ]
    },
    {
     "name": "stderr",
     "output_type": "stream",
     "text": [
      "[2021-11-25 00:46:34,154] - obspy.clients.fdsn.mass_downloader - INFO: Client 'GEONET' - Successfully requested availability (0.61 seconds)\n",
      "[2021-11-25 00:46:34,155] - obspy.clients.fdsn.mass_downloader - INFO: Client 'GEONET' - Found 1 stations (1 channels).\n",
      "[2021-11-25 00:46:34,156] - obspy.clients.fdsn.mass_downloader - INFO: Client 'GEONET' - Will attempt to download data from 1 stations.\n",
      "[2021-11-25 00:46:34,156] - obspy.clients.fdsn.mass_downloader - INFO: Client 'GEONET' - Status for 1 time intervals/channels before downloading: NEEDS_DOWNLOADING\n",
      "[2021-11-25 00:46:35,790] - obspy.clients.fdsn.mass_downloader - INFO: Client 'GEONET' - Successfully downloaded 1 channels (of 1)\n",
      "[2021-11-25 00:46:35,799] - obspy.clients.fdsn.mass_downloader - INFO: Client 'GEONET' - Launching basic QC checks...\n",
      "[2021-11-25 00:46:35,819] - obspy.clients.fdsn.mass_downloader - INFO: Client 'GEONET' - Downloaded 0.0 MB [2.43 KB/sec] of data, 0.0 MB of which were discarded afterwards.\n",
      "[2021-11-25 00:46:35,820] - obspy.clients.fdsn.mass_downloader - INFO: Client 'GEONET' - Status for 1 time intervals/channels after downloading: DOWNLOADED\n",
      "[2021-11-25 00:46:35,824] - obspy.clients.fdsn.mass_downloader - INFO: Client 'GEONET' - No station information to download.\n",
      "[2021-11-25 00:46:35,826] - obspy.clients.fdsn.mass_downloader - INFO: ============================== Final report\n",
      "[2021-11-25 00:46:35,826] - obspy.clients.fdsn.mass_downloader - INFO: 0 MiniSEED files [0.0 MB] already existed.\n",
      "[2021-11-25 00:46:35,827] - obspy.clients.fdsn.mass_downloader - INFO: 1 StationXML files [0.0 MB] already existed.\n",
      "[2021-11-25 00:46:35,828] - obspy.clients.fdsn.mass_downloader - INFO: Client 'GEONET' - Acquired 1 MiniSEED files [0.0 MB].\n",
      "[2021-11-25 00:46:35,828] - obspy.clients.fdsn.mass_downloader - INFO: Client 'GEONET' - Acquired 0 StationXML files [0.0 MB].\n",
      "[2021-11-25 00:46:35,828] - obspy.clients.fdsn.mass_downloader - INFO: Downloaded 0.0 MB in total.\n",
      "[2021-11-25 00:46:35,835] - obspy.clients.fdsn.mass_downloader - INFO: Initializing FDSN client(s) for GEONET.\n",
      "[2021-11-25 00:46:35,842] - obspy.clients.fdsn.mass_downloader - INFO: Successfully initialized 1 client(s): GEONET.\n",
      "[2021-11-25 00:46:35,844] - obspy.clients.fdsn.mass_downloader - INFO: Total acquired or preexisting stations: 0\n",
      "[2021-11-25 00:46:35,845] - obspy.clients.fdsn.mass_downloader - INFO: Client 'GEONET' - Requesting unreliable availability.\n"
     ]
    },
    {
     "name": "stdout",
     "output_type": "stream",
     "text": [
      "=================================================================\n",
      "Initiating mass download request.\n"
     ]
    },
    {
     "name": "stderr",
     "output_type": "stream",
     "text": [
      "[2021-11-25 00:46:36,488] - obspy.clients.fdsn.mass_downloader - INFO: Client 'GEONET' - Successfully requested availability (0.64 seconds)\n",
      "[2021-11-25 00:46:36,495] - obspy.clients.fdsn.mass_downloader - INFO: Client 'GEONET' - Found 1 stations (1 channels).\n",
      "[2021-11-25 00:46:36,497] - obspy.clients.fdsn.mass_downloader - INFO: Client 'GEONET' - Will attempt to download data from 1 stations.\n",
      "[2021-11-25 00:46:36,503] - obspy.clients.fdsn.mass_downloader - INFO: Client 'GEONET' - Status for 1 time intervals/channels before downloading: NEEDS_DOWNLOADING\n",
      "[2021-11-25 00:46:37,563] - obspy.clients.fdsn.mass_downloader - INFO: Client 'GEONET' - Successfully downloaded 1 channels (of 1)\n",
      "[2021-11-25 00:46:37,568] - obspy.clients.fdsn.mass_downloader - INFO: Client 'GEONET' - Launching basic QC checks...\n",
      "[2021-11-25 00:46:37,582] - obspy.clients.fdsn.mass_downloader - INFO: Client 'GEONET' - Downloaded 0.0 MB [2.82 KB/sec] of data, 0.0 MB of which were discarded afterwards.\n",
      "[2021-11-25 00:46:37,582] - obspy.clients.fdsn.mass_downloader - INFO: Client 'GEONET' - Status for 1 time intervals/channels after downloading: DOWNLOADED\n",
      "[2021-11-25 00:46:37,585] - obspy.clients.fdsn.mass_downloader - INFO: Client 'GEONET' - No station information to download.\n",
      "[2021-11-25 00:46:37,585] - obspy.clients.fdsn.mass_downloader - INFO: ============================== Final report\n",
      "[2021-11-25 00:46:37,588] - obspy.clients.fdsn.mass_downloader - INFO: 0 MiniSEED files [0.0 MB] already existed.\n",
      "[2021-11-25 00:46:37,589] - obspy.clients.fdsn.mass_downloader - INFO: 1 StationXML files [0.0 MB] already existed.\n",
      "[2021-11-25 00:46:37,589] - obspy.clients.fdsn.mass_downloader - INFO: Client 'GEONET' - Acquired 1 MiniSEED files [0.0 MB].\n",
      "[2021-11-25 00:46:37,590] - obspy.clients.fdsn.mass_downloader - INFO: Client 'GEONET' - Acquired 0 StationXML files [0.0 MB].\n",
      "[2021-11-25 00:46:37,591] - obspy.clients.fdsn.mass_downloader - INFO: Downloaded 0.0 MB in total.\n",
      "[2021-11-25 00:46:37,599] - obspy.clients.fdsn.mass_downloader - INFO: Initializing FDSN client(s) for GEONET.\n",
      "[2021-11-25 00:46:37,607] - obspy.clients.fdsn.mass_downloader - INFO: Successfully initialized 1 client(s): GEONET.\n",
      "[2021-11-25 00:46:37,608] - obspy.clients.fdsn.mass_downloader - INFO: Total acquired or preexisting stations: 0\n",
      "[2021-11-25 00:46:37,609] - obspy.clients.fdsn.mass_downloader - INFO: Client 'GEONET' - Requesting unreliable availability.\n"
     ]
    },
    {
     "name": "stdout",
     "output_type": "stream",
     "text": [
      "=================================================================\n",
      "Initiating mass download request.\n"
     ]
    },
    {
     "name": "stderr",
     "output_type": "stream",
     "text": [
      "[2021-11-25 00:46:38,164] - obspy.clients.fdsn.mass_downloader - INFO: Client 'GEONET' - Successfully requested availability (0.55 seconds)\n",
      "[2021-11-25 00:46:38,165] - obspy.clients.fdsn.mass_downloader - INFO: Client 'GEONET' - Found 1 stations (1 channels).\n",
      "[2021-11-25 00:46:38,165] - obspy.clients.fdsn.mass_downloader - INFO: Client 'GEONET' - Will attempt to download data from 1 stations.\n",
      "[2021-11-25 00:46:38,166] - obspy.clients.fdsn.mass_downloader - INFO: Client 'GEONET' - Status for 1 time intervals/channels before downloading: NEEDS_DOWNLOADING\n",
      "[2021-11-25 00:46:39,134] - obspy.clients.fdsn.mass_downloader - INFO: Client 'GEONET' - Successfully downloaded 1 channels (of 1)\n",
      "[2021-11-25 00:46:39,140] - obspy.clients.fdsn.mass_downloader - INFO: Client 'GEONET' - Launching basic QC checks...\n",
      "[2021-11-25 00:46:39,150] - obspy.clients.fdsn.mass_downloader - INFO: Client 'GEONET' - Downloaded 0.0 MB [3.09 KB/sec] of data, 0.0 MB of which were discarded afterwards.\n",
      "[2021-11-25 00:46:39,150] - obspy.clients.fdsn.mass_downloader - INFO: Client 'GEONET' - Status for 1 time intervals/channels after downloading: DOWNLOADED\n",
      "[2021-11-25 00:46:39,153] - obspy.clients.fdsn.mass_downloader - INFO: Client 'GEONET' - No station information to download.\n",
      "[2021-11-25 00:46:39,157] - obspy.clients.fdsn.mass_downloader - INFO: ============================== Final report\n",
      "[2021-11-25 00:46:39,158] - obspy.clients.fdsn.mass_downloader - INFO: 0 MiniSEED files [0.0 MB] already existed.\n",
      "[2021-11-25 00:46:39,158] - obspy.clients.fdsn.mass_downloader - INFO: 1 StationXML files [0.0 MB] already existed.\n",
      "[2021-11-25 00:46:39,159] - obspy.clients.fdsn.mass_downloader - INFO: Client 'GEONET' - Acquired 1 MiniSEED files [0.0 MB].\n",
      "[2021-11-25 00:46:39,160] - obspy.clients.fdsn.mass_downloader - INFO: Client 'GEONET' - Acquired 0 StationXML files [0.0 MB].\n",
      "[2021-11-25 00:46:39,160] - obspy.clients.fdsn.mass_downloader - INFO: Downloaded 0.0 MB in total.\n",
      "[2021-11-25 00:46:39,166] - obspy.clients.fdsn.mass_downloader - INFO: Initializing FDSN client(s) for GEONET.\n",
      "[2021-11-25 00:46:39,172] - obspy.clients.fdsn.mass_downloader - INFO: Successfully initialized 1 client(s): GEONET.\n",
      "[2021-11-25 00:46:39,173] - obspy.clients.fdsn.mass_downloader - INFO: Total acquired or preexisting stations: 0\n",
      "[2021-11-25 00:46:39,174] - obspy.clients.fdsn.mass_downloader - INFO: Client 'GEONET' - Requesting unreliable availability.\n"
     ]
    },
    {
     "name": "stdout",
     "output_type": "stream",
     "text": [
      "=================================================================\n",
      "Initiating mass download request.\n"
     ]
    },
    {
     "name": "stderr",
     "output_type": "stream",
     "text": [
      "[2021-11-25 00:46:39,763] - obspy.clients.fdsn.mass_downloader - INFO: Client 'GEONET' - Successfully requested availability (0.59 seconds)\n",
      "[2021-11-25 00:46:39,779] - obspy.clients.fdsn.mass_downloader - INFO: Client 'GEONET' - Found 1 stations (1 channels).\n",
      "[2021-11-25 00:46:39,783] - obspy.clients.fdsn.mass_downloader - INFO: Client 'GEONET' - Will attempt to download data from 1 stations.\n",
      "[2021-11-25 00:46:39,787] - obspy.clients.fdsn.mass_downloader - INFO: Client 'GEONET' - Status for 1 time intervals/channels before downloading: NEEDS_DOWNLOADING\n",
      "[2021-11-25 00:46:40,881] - obspy.clients.fdsn.mass_downloader - INFO: Client 'GEONET' - Successfully downloaded 1 channels (of 1)\n",
      "[2021-11-25 00:46:40,885] - obspy.clients.fdsn.mass_downloader - INFO: Client 'GEONET' - Launching basic QC checks...\n",
      "[2021-11-25 00:46:40,891] - obspy.clients.fdsn.mass_downloader - INFO: Client 'GEONET' - Downloaded 0.0 MB [2.82 KB/sec] of data, 0.0 MB of which were discarded afterwards.\n",
      "[2021-11-25 00:46:40,892] - obspy.clients.fdsn.mass_downloader - INFO: Client 'GEONET' - Status for 1 time intervals/channels after downloading: DOWNLOADED\n",
      "[2021-11-25 00:46:40,896] - obspy.clients.fdsn.mass_downloader - INFO: Client 'GEONET' - No station information to download.\n",
      "[2021-11-25 00:46:40,898] - obspy.clients.fdsn.mass_downloader - INFO: ============================== Final report\n",
      "[2021-11-25 00:46:40,898] - obspy.clients.fdsn.mass_downloader - INFO: 0 MiniSEED files [0.0 MB] already existed.\n",
      "[2021-11-25 00:46:40,899] - obspy.clients.fdsn.mass_downloader - INFO: 1 StationXML files [0.0 MB] already existed.\n",
      "[2021-11-25 00:46:40,899] - obspy.clients.fdsn.mass_downloader - INFO: Client 'GEONET' - Acquired 1 MiniSEED files [0.0 MB].\n",
      "[2021-11-25 00:46:40,900] - obspy.clients.fdsn.mass_downloader - INFO: Client 'GEONET' - Acquired 0 StationXML files [0.0 MB].\n",
      "[2021-11-25 00:46:40,900] - obspy.clients.fdsn.mass_downloader - INFO: Downloaded 0.0 MB in total.\n",
      "[2021-11-25 00:46:40,904] - obspy.clients.fdsn.mass_downloader - INFO: Initializing FDSN client(s) for GEONET.\n",
      "[2021-11-25 00:46:40,918] - obspy.clients.fdsn.mass_downloader - INFO: Successfully initialized 1 client(s): GEONET.\n",
      "[2021-11-25 00:46:40,919] - obspy.clients.fdsn.mass_downloader - INFO: Total acquired or preexisting stations: 0\n",
      "[2021-11-25 00:46:40,920] - obspy.clients.fdsn.mass_downloader - INFO: Client 'GEONET' - Requesting unreliable availability.\n"
     ]
    },
    {
     "name": "stdout",
     "output_type": "stream",
     "text": [
      "=================================================================\n",
      "Initiating mass download request.\n"
     ]
    },
    {
     "name": "stderr",
     "output_type": "stream",
     "text": [
      "[2021-11-25 00:46:41,469] - obspy.clients.fdsn.mass_downloader - INFO: Client 'GEONET' - No data available for request.\n",
      "[2021-11-25 00:46:41,469] - obspy.clients.fdsn.mass_downloader - INFO: Client 'GEONET' - No data available.\n",
      "[2021-11-25 00:46:41,470] - obspy.clients.fdsn.mass_downloader - INFO: ============================== Final report\n",
      "[2021-11-25 00:46:41,470] - obspy.clients.fdsn.mass_downloader - INFO: 0 MiniSEED files [0.0 MB] already existed.\n",
      "[2021-11-25 00:46:41,470] - obspy.clients.fdsn.mass_downloader - INFO: 0 StationXML files [0.0 MB] already existed.\n",
      "[2021-11-25 00:46:41,471] - obspy.clients.fdsn.mass_downloader - INFO: Client 'GEONET' - Acquired 0 MiniSEED files [0.0 MB].\n",
      "[2021-11-25 00:46:41,471] - obspy.clients.fdsn.mass_downloader - INFO: Client 'GEONET' - Acquired 0 StationXML files [0.0 MB].\n",
      "[2021-11-25 00:46:41,471] - obspy.clients.fdsn.mass_downloader - INFO: Downloaded 0.0 MB in total.\n",
      "[2021-11-25 00:46:41,472] - obspy.clients.fdsn.mass_downloader - INFO: Initializing FDSN client(s) for GEONET.\n",
      "[2021-11-25 00:46:41,474] - obspy.clients.fdsn.mass_downloader - INFO: Successfully initialized 1 client(s): GEONET.\n",
      "[2021-11-25 00:46:41,475] - obspy.clients.fdsn.mass_downloader - INFO: Total acquired or preexisting stations: 0\n",
      "[2021-11-25 00:46:41,475] - obspy.clients.fdsn.mass_downloader - INFO: Client 'GEONET' - Requesting unreliable availability.\n"
     ]
    },
    {
     "name": "stdout",
     "output_type": "stream",
     "text": [
      "=================================================================\n",
      "Initiating mass download request.\n"
     ]
    },
    {
     "name": "stderr",
     "output_type": "stream",
     "text": [
      "[2021-11-25 00:46:41,992] - obspy.clients.fdsn.mass_downloader - INFO: Client 'GEONET' - Successfully requested availability (0.52 seconds)\n",
      "[2021-11-25 00:46:41,993] - obspy.clients.fdsn.mass_downloader - INFO: Client 'GEONET' - Found 1 stations (1 channels).\n",
      "[2021-11-25 00:46:41,993] - obspy.clients.fdsn.mass_downloader - INFO: Client 'GEONET' - Will attempt to download data from 1 stations.\n",
      "[2021-11-25 00:46:41,994] - obspy.clients.fdsn.mass_downloader - INFO: Client 'GEONET' - Status for 1 time intervals/channels before downloading: NEEDS_DOWNLOADING\n",
      "[2021-11-25 00:46:43,070] - obspy.clients.fdsn.mass_downloader - INFO: Client 'GEONET' - Successfully downloaded 1 channels (of 1)\n",
      "[2021-11-25 00:46:43,072] - obspy.clients.fdsn.mass_downloader - INFO: Client 'GEONET' - Launching basic QC checks...\n",
      "[2021-11-25 00:46:43,077] - obspy.clients.fdsn.mass_downloader - INFO: Client 'GEONET' - Downloaded 0.0 MB [3.25 KB/sec] of data, 0.0 MB of which were discarded afterwards.\n",
      "[2021-11-25 00:46:43,077] - obspy.clients.fdsn.mass_downloader - INFO: Client 'GEONET' - Status for 1 time intervals/channels after downloading: DOWNLOADED\n",
      "[2021-11-25 00:46:43,078] - obspy.clients.fdsn.mass_downloader - INFO: Client 'GEONET' - No station information to download.\n",
      "[2021-11-25 00:46:43,079] - obspy.clients.fdsn.mass_downloader - INFO: ============================== Final report\n",
      "[2021-11-25 00:46:43,079] - obspy.clients.fdsn.mass_downloader - INFO: 0 MiniSEED files [0.0 MB] already existed.\n",
      "[2021-11-25 00:46:43,079] - obspy.clients.fdsn.mass_downloader - INFO: 1 StationXML files [0.0 MB] already existed.\n",
      "[2021-11-25 00:46:43,080] - obspy.clients.fdsn.mass_downloader - INFO: Client 'GEONET' - Acquired 1 MiniSEED files [0.0 MB].\n",
      "[2021-11-25 00:46:43,080] - obspy.clients.fdsn.mass_downloader - INFO: Client 'GEONET' - Acquired 0 StationXML files [0.0 MB].\n",
      "[2021-11-25 00:46:43,080] - obspy.clients.fdsn.mass_downloader - INFO: Downloaded 0.0 MB in total.\n",
      "[2021-11-25 00:46:43,086] - obspy.clients.fdsn.mass_downloader - INFO: Initializing FDSN client(s) for GEONET.\n",
      "[2021-11-25 00:46:43,089] - obspy.clients.fdsn.mass_downloader - INFO: Successfully initialized 1 client(s): GEONET.\n",
      "[2021-11-25 00:46:43,089] - obspy.clients.fdsn.mass_downloader - INFO: Total acquired or preexisting stations: 0\n",
      "[2021-11-25 00:46:43,090] - obspy.clients.fdsn.mass_downloader - INFO: Client 'GEONET' - Requesting unreliable availability.\n"
     ]
    },
    {
     "name": "stdout",
     "output_type": "stream",
     "text": [
      "=================================================================\n",
      "Initiating mass download request.\n"
     ]
    },
    {
     "name": "stderr",
     "output_type": "stream",
     "text": [
      "[2021-11-25 00:46:43,715] - obspy.clients.fdsn.mass_downloader - INFO: Client 'GEONET' - Successfully requested availability (0.63 seconds)\n",
      "[2021-11-25 00:46:43,720] - obspy.clients.fdsn.mass_downloader - INFO: Client 'GEONET' - Found 1 stations (1 channels).\n",
      "[2021-11-25 00:46:43,720] - obspy.clients.fdsn.mass_downloader - INFO: Client 'GEONET' - Will attempt to download data from 1 stations.\n",
      "[2021-11-25 00:46:43,721] - obspy.clients.fdsn.mass_downloader - INFO: Client 'GEONET' - Status for 1 time intervals/channels before downloading: NEEDS_DOWNLOADING\n",
      "[2021-11-25 00:46:44,788] - obspy.clients.fdsn.mass_downloader - INFO: Client 'GEONET' - Successfully downloaded 1 channels (of 1)\n",
      "[2021-11-25 00:46:44,792] - obspy.clients.fdsn.mass_downloader - INFO: Client 'GEONET' - Launching basic QC checks...\n",
      "[2021-11-25 00:46:44,802] - obspy.clients.fdsn.mass_downloader - INFO: Client 'GEONET' - Downloaded 0.0 MB [4.21 KB/sec] of data, 0.0 MB of which were discarded afterwards.\n",
      "[2021-11-25 00:46:44,803] - obspy.clients.fdsn.mass_downloader - INFO: Client 'GEONET' - Status for 1 time intervals/channels after downloading: DOWNLOADED\n",
      "[2021-11-25 00:46:44,809] - obspy.clients.fdsn.mass_downloader - INFO: Client 'GEONET' - No station information to download.\n",
      "[2021-11-25 00:46:44,811] - obspy.clients.fdsn.mass_downloader - INFO: ============================== Final report\n",
      "[2021-11-25 00:46:44,812] - obspy.clients.fdsn.mass_downloader - INFO: 0 MiniSEED files [0.0 MB] already existed.\n",
      "[2021-11-25 00:46:44,812] - obspy.clients.fdsn.mass_downloader - INFO: 1 StationXML files [0.0 MB] already existed.\n",
      "[2021-11-25 00:46:44,813] - obspy.clients.fdsn.mass_downloader - INFO: Client 'GEONET' - Acquired 1 MiniSEED files [0.0 MB].\n",
      "[2021-11-25 00:46:44,814] - obspy.clients.fdsn.mass_downloader - INFO: Client 'GEONET' - Acquired 0 StationXML files [0.0 MB].\n",
      "[2021-11-25 00:46:44,814] - obspy.clients.fdsn.mass_downloader - INFO: Downloaded 0.0 MB in total.\n",
      "[2021-11-25 00:46:44,818] - obspy.clients.fdsn.mass_downloader - INFO: Initializing FDSN client(s) for GEONET.\n",
      "[2021-11-25 00:46:44,824] - obspy.clients.fdsn.mass_downloader - INFO: Successfully initialized 1 client(s): GEONET.\n",
      "[2021-11-25 00:46:44,825] - obspy.clients.fdsn.mass_downloader - INFO: Total acquired or preexisting stations: 0\n",
      "[2021-11-25 00:46:44,826] - obspy.clients.fdsn.mass_downloader - INFO: Client 'GEONET' - Requesting unreliable availability.\n"
     ]
    },
    {
     "name": "stdout",
     "output_type": "stream",
     "text": [
      "=================================================================\n",
      "Initiating mass download request.\n"
     ]
    },
    {
     "name": "stderr",
     "output_type": "stream",
     "text": [
      "[2021-11-25 00:46:45,959] - obspy.clients.fdsn.mass_downloader - INFO: Client 'GEONET' - Successfully requested availability (1.13 seconds)\n",
      "[2021-11-25 00:46:45,961] - obspy.clients.fdsn.mass_downloader - INFO: Client 'GEONET' - Found 1 stations (1 channels).\n",
      "[2021-11-25 00:46:45,962] - obspy.clients.fdsn.mass_downloader - INFO: Client 'GEONET' - Will attempt to download data from 1 stations.\n",
      "[2021-11-25 00:46:45,962] - obspy.clients.fdsn.mass_downloader - INFO: Client 'GEONET' - Status for 1 time intervals/channels before downloading: NEEDS_DOWNLOADING\n",
      "[2021-11-25 00:46:46,920] - obspy.clients.fdsn.mass_downloader - INFO: Client 'GEONET' - Successfully downloaded 1 channels (of 1)\n",
      "[2021-11-25 00:46:46,925] - obspy.clients.fdsn.mass_downloader - INFO: Client 'GEONET' - Launching basic QC checks...\n",
      "[2021-11-25 00:46:46,929] - obspy.clients.fdsn.mass_downloader - INFO: Client 'GEONET' - Downloaded 0.0 MB [3.13 KB/sec] of data, 0.0 MB of which were discarded afterwards.\n",
      "[2021-11-25 00:46:46,929] - obspy.clients.fdsn.mass_downloader - INFO: Client 'GEONET' - Status for 1 time intervals/channels after downloading: DOWNLOADED\n",
      "[2021-11-25 00:46:46,931] - obspy.clients.fdsn.mass_downloader - INFO: Client 'GEONET' - No station information to download.\n",
      "[2021-11-25 00:46:46,932] - obspy.clients.fdsn.mass_downloader - INFO: ============================== Final report\n",
      "[2021-11-25 00:46:46,933] - obspy.clients.fdsn.mass_downloader - INFO: 0 MiniSEED files [0.0 MB] already existed.\n",
      "[2021-11-25 00:46:46,933] - obspy.clients.fdsn.mass_downloader - INFO: 1 StationXML files [0.0 MB] already existed.\n",
      "[2021-11-25 00:46:46,934] - obspy.clients.fdsn.mass_downloader - INFO: Client 'GEONET' - Acquired 1 MiniSEED files [0.0 MB].\n",
      "[2021-11-25 00:46:46,934] - obspy.clients.fdsn.mass_downloader - INFO: Client 'GEONET' - Acquired 0 StationXML files [0.0 MB].\n",
      "[2021-11-25 00:46:46,934] - obspy.clients.fdsn.mass_downloader - INFO: Downloaded 0.0 MB in total.\n",
      "[2021-11-25 00:46:46,942] - obspy.clients.fdsn.mass_downloader - INFO: Initializing FDSN client(s) for GEONET.\n",
      "[2021-11-25 00:46:46,953] - obspy.clients.fdsn.mass_downloader - INFO: Successfully initialized 1 client(s): GEONET.\n",
      "[2021-11-25 00:46:46,954] - obspy.clients.fdsn.mass_downloader - INFO: Total acquired or preexisting stations: 0\n",
      "[2021-11-25 00:46:46,954] - obspy.clients.fdsn.mass_downloader - INFO: Client 'GEONET' - Requesting unreliable availability.\n"
     ]
    },
    {
     "name": "stdout",
     "output_type": "stream",
     "text": [
      "=================================================================\n",
      "Initiating mass download request.\n"
     ]
    },
    {
     "name": "stderr",
     "output_type": "stream",
     "text": [
      "[2021-11-25 00:46:47,546] - obspy.clients.fdsn.mass_downloader - INFO: Client 'GEONET' - Successfully requested availability (0.59 seconds)\n",
      "[2021-11-25 00:46:47,555] - obspy.clients.fdsn.mass_downloader - INFO: Client 'GEONET' - Found 1 stations (1 channels).\n",
      "[2021-11-25 00:46:47,558] - obspy.clients.fdsn.mass_downloader - INFO: Client 'GEONET' - Will attempt to download data from 1 stations.\n",
      "[2021-11-25 00:46:47,564] - obspy.clients.fdsn.mass_downloader - INFO: Client 'GEONET' - Status for 1 time intervals/channels before downloading: NEEDS_DOWNLOADING\n",
      "[2021-11-25 00:46:48,371] - obspy.clients.fdsn.mass_downloader - INFO: Client 'GEONET' - Successfully downloaded 1 channels (of 1)\n",
      "[2021-11-25 00:46:48,377] - obspy.clients.fdsn.mass_downloader - INFO: Client 'GEONET' - Launching basic QC checks...\n",
      "[2021-11-25 00:46:48,381] - obspy.clients.fdsn.mass_downloader - INFO: Client 'GEONET' - Downloaded 0.0 MB [3.73 KB/sec] of data, 0.0 MB of which were discarded afterwards.\n",
      "[2021-11-25 00:46:48,381] - obspy.clients.fdsn.mass_downloader - INFO: Client 'GEONET' - Status for 1 time intervals/channels after downloading: DOWNLOADED\n",
      "[2021-11-25 00:46:48,384] - obspy.clients.fdsn.mass_downloader - INFO: Client 'GEONET' - No station information to download.\n",
      "[2021-11-25 00:46:48,384] - obspy.clients.fdsn.mass_downloader - INFO: ============================== Final report\n",
      "[2021-11-25 00:46:48,385] - obspy.clients.fdsn.mass_downloader - INFO: 0 MiniSEED files [0.0 MB] already existed.\n",
      "[2021-11-25 00:46:48,385] - obspy.clients.fdsn.mass_downloader - INFO: 1 StationXML files [0.0 MB] already existed.\n",
      "[2021-11-25 00:46:48,385] - obspy.clients.fdsn.mass_downloader - INFO: Client 'GEONET' - Acquired 1 MiniSEED files [0.0 MB].\n",
      "[2021-11-25 00:46:48,386] - obspy.clients.fdsn.mass_downloader - INFO: Client 'GEONET' - Acquired 0 StationXML files [0.0 MB].\n",
      "[2021-11-25 00:46:48,386] - obspy.clients.fdsn.mass_downloader - INFO: Downloaded 0.0 MB in total.\n",
      "[2021-11-25 00:46:48,388] - obspy.clients.fdsn.mass_downloader - INFO: Initializing FDSN client(s) for GEONET.\n",
      "[2021-11-25 00:46:48,392] - obspy.clients.fdsn.mass_downloader - INFO: Successfully initialized 1 client(s): GEONET.\n",
      "[2021-11-25 00:46:48,392] - obspy.clients.fdsn.mass_downloader - INFO: Total acquired or preexisting stations: 0\n",
      "[2021-11-25 00:46:48,393] - obspy.clients.fdsn.mass_downloader - INFO: Client 'GEONET' - Requesting unreliable availability.\n"
     ]
    },
    {
     "name": "stdout",
     "output_type": "stream",
     "text": [
      "=================================================================\n",
      "Initiating mass download request.\n"
     ]
    },
    {
     "name": "stderr",
     "output_type": "stream",
     "text": [
      "[2021-11-25 00:46:49,026] - obspy.clients.fdsn.mass_downloader - INFO: Client 'GEONET' - Successfully requested availability (0.63 seconds)\n",
      "[2021-11-25 00:46:49,031] - obspy.clients.fdsn.mass_downloader - INFO: Client 'GEONET' - Found 1 stations (1 channels).\n",
      "[2021-11-25 00:46:49,032] - obspy.clients.fdsn.mass_downloader - INFO: Client 'GEONET' - Will attempt to download data from 1 stations.\n",
      "[2021-11-25 00:46:49,033] - obspy.clients.fdsn.mass_downloader - INFO: Client 'GEONET' - Status for 1 time intervals/channels before downloading: NEEDS_DOWNLOADING\n",
      "[2021-11-25 00:46:50,040] - obspy.clients.fdsn.mass_downloader - INFO: Client 'GEONET' - Successfully downloaded 1 channels (of 1)\n",
      "[2021-11-25 00:46:50,043] - obspy.clients.fdsn.mass_downloader - INFO: Client 'GEONET' - Launching basic QC checks...\n",
      "[2021-11-25 00:46:50,053] - obspy.clients.fdsn.mass_downloader - INFO: Client 'GEONET' - Downloaded 0.0 MB [3.97 KB/sec] of data, 0.0 MB of which were discarded afterwards.\n",
      "[2021-11-25 00:46:50,053] - obspy.clients.fdsn.mass_downloader - INFO: Client 'GEONET' - Status for 1 time intervals/channels after downloading: DOWNLOADED\n",
      "[2021-11-25 00:46:50,070] - obspy.clients.fdsn.mass_downloader - INFO: Client 'GEONET' - No station information to download.\n",
      "[2021-11-25 00:46:50,085] - obspy.clients.fdsn.mass_downloader - INFO: ============================== Final report\n",
      "[2021-11-25 00:46:50,086] - obspy.clients.fdsn.mass_downloader - INFO: 0 MiniSEED files [0.0 MB] already existed.\n",
      "[2021-11-25 00:46:50,087] - obspy.clients.fdsn.mass_downloader - INFO: 1 StationXML files [0.0 MB] already existed.\n",
      "[2021-11-25 00:46:50,087] - obspy.clients.fdsn.mass_downloader - INFO: Client 'GEONET' - Acquired 1 MiniSEED files [0.0 MB].\n",
      "[2021-11-25 00:46:50,088] - obspy.clients.fdsn.mass_downloader - INFO: Client 'GEONET' - Acquired 0 StationXML files [0.0 MB].\n",
      "[2021-11-25 00:46:50,088] - obspy.clients.fdsn.mass_downloader - INFO: Downloaded 0.0 MB in total.\n",
      "[2021-11-25 00:46:50,093] - obspy.clients.fdsn.mass_downloader - INFO: Initializing FDSN client(s) for GEONET.\n",
      "[2021-11-25 00:46:50,103] - obspy.clients.fdsn.mass_downloader - INFO: Successfully initialized 1 client(s): GEONET.\n",
      "[2021-11-25 00:46:50,106] - obspy.clients.fdsn.mass_downloader - INFO: Total acquired or preexisting stations: 0\n",
      "[2021-11-25 00:46:50,107] - obspy.clients.fdsn.mass_downloader - INFO: Client 'GEONET' - Requesting unreliable availability.\n"
     ]
    },
    {
     "name": "stdout",
     "output_type": "stream",
     "text": [
      "=================================================================\n",
      "Initiating mass download request.\n"
     ]
    },
    {
     "name": "stderr",
     "output_type": "stream",
     "text": [
      "[2021-11-25 00:46:50,698] - obspy.clients.fdsn.mass_downloader - INFO: Client 'GEONET' - Successfully requested availability (0.59 seconds)\n",
      "[2021-11-25 00:46:50,704] - obspy.clients.fdsn.mass_downloader - INFO: Client 'GEONET' - Found 1 stations (1 channels).\n",
      "[2021-11-25 00:46:50,706] - obspy.clients.fdsn.mass_downloader - INFO: Client 'GEONET' - Will attempt to download data from 1 stations.\n",
      "[2021-11-25 00:46:50,707] - obspy.clients.fdsn.mass_downloader - INFO: Client 'GEONET' - Status for 1 time intervals/channels before downloading: NEEDS_DOWNLOADING\n",
      "[2021-11-25 00:46:52,210] - obspy.clients.fdsn.mass_downloader - INFO: Client 'GEONET' - Successfully downloaded 1 channels (of 1)\n",
      "[2021-11-25 00:46:52,218] - obspy.clients.fdsn.mass_downloader - INFO: Client 'GEONET' - Launching basic QC checks...\n",
      "[2021-11-25 00:46:52,225] - obspy.clients.fdsn.mass_downloader - INFO: Client 'GEONET' - Downloaded 0.0 MB [2.33 KB/sec] of data, 0.0 MB of which were discarded afterwards.\n",
      "[2021-11-25 00:46:52,226] - obspy.clients.fdsn.mass_downloader - INFO: Client 'GEONET' - Status for 1 time intervals/channels after downloading: DOWNLOADED\n",
      "[2021-11-25 00:46:52,230] - obspy.clients.fdsn.mass_downloader - INFO: Client 'GEONET' - No station information to download.\n",
      "[2021-11-25 00:46:52,232] - obspy.clients.fdsn.mass_downloader - INFO: ============================== Final report\n",
      "[2021-11-25 00:46:52,235] - obspy.clients.fdsn.mass_downloader - INFO: 0 MiniSEED files [0.0 MB] already existed.\n",
      "[2021-11-25 00:46:52,236] - obspy.clients.fdsn.mass_downloader - INFO: 1 StationXML files [0.0 MB] already existed.\n",
      "[2021-11-25 00:46:52,237] - obspy.clients.fdsn.mass_downloader - INFO: Client 'GEONET' - Acquired 1 MiniSEED files [0.0 MB].\n",
      "[2021-11-25 00:46:52,238] - obspy.clients.fdsn.mass_downloader - INFO: Client 'GEONET' - Acquired 0 StationXML files [0.0 MB].\n",
      "[2021-11-25 00:46:52,238] - obspy.clients.fdsn.mass_downloader - INFO: Downloaded 0.0 MB in total.\n",
      "[2021-11-25 00:46:52,244] - obspy.clients.fdsn.mass_downloader - INFO: Initializing FDSN client(s) for GEONET.\n",
      "[2021-11-25 00:46:52,249] - obspy.clients.fdsn.mass_downloader - INFO: Successfully initialized 1 client(s): GEONET.\n",
      "[2021-11-25 00:46:52,250] - obspy.clients.fdsn.mass_downloader - INFO: Total acquired or preexisting stations: 0\n",
      "[2021-11-25 00:46:52,250] - obspy.clients.fdsn.mass_downloader - INFO: Client 'GEONET' - Requesting unreliable availability.\n"
     ]
    },
    {
     "name": "stdout",
     "output_type": "stream",
     "text": [
      "=================================================================\n",
      "Initiating mass download request.\n"
     ]
    },
    {
     "name": "stderr",
     "output_type": "stream",
     "text": [
      "[2021-11-25 00:46:53,335] - obspy.clients.fdsn.mass_downloader - INFO: Client 'GEONET' - Successfully requested availability (1.08 seconds)\n",
      "[2021-11-25 00:46:53,336] - obspy.clients.fdsn.mass_downloader - INFO: Client 'GEONET' - Found 1 stations (1 channels).\n",
      "[2021-11-25 00:46:53,337] - obspy.clients.fdsn.mass_downloader - INFO: Client 'GEONET' - Will attempt to download data from 1 stations.\n",
      "[2021-11-25 00:46:53,337] - obspy.clients.fdsn.mass_downloader - INFO: Client 'GEONET' - Status for 1 time intervals/channels before downloading: NEEDS_DOWNLOADING\n",
      "[2021-11-25 00:46:54,077] - obspy.clients.fdsn.mass_downloader - INFO: Client 'GEONET' - Successfully downloaded 1 channels (of 1)\n",
      "[2021-11-25 00:46:54,078] - obspy.clients.fdsn.mass_downloader - INFO: Client 'GEONET' - Launching basic QC checks...\n",
      "[2021-11-25 00:46:54,082] - obspy.clients.fdsn.mass_downloader - INFO: Client 'GEONET' - Downloaded 0.0 MB [4.06 KB/sec] of data, 0.0 MB of which were discarded afterwards.\n",
      "[2021-11-25 00:46:54,082] - obspy.clients.fdsn.mass_downloader - INFO: Client 'GEONET' - Status for 1 time intervals/channels after downloading: DOWNLOADED\n",
      "[2021-11-25 00:46:54,084] - obspy.clients.fdsn.mass_downloader - INFO: Client 'GEONET' - No station information to download.\n",
      "[2021-11-25 00:46:54,085] - obspy.clients.fdsn.mass_downloader - INFO: ============================== Final report\n",
      "[2021-11-25 00:46:54,085] - obspy.clients.fdsn.mass_downloader - INFO: 0 MiniSEED files [0.0 MB] already existed.\n",
      "[2021-11-25 00:46:54,086] - obspy.clients.fdsn.mass_downloader - INFO: 1 StationXML files [0.0 MB] already existed.\n",
      "[2021-11-25 00:46:54,086] - obspy.clients.fdsn.mass_downloader - INFO: Client 'GEONET' - Acquired 1 MiniSEED files [0.0 MB].\n",
      "[2021-11-25 00:46:54,086] - obspy.clients.fdsn.mass_downloader - INFO: Client 'GEONET' - Acquired 0 StationXML files [0.0 MB].\n",
      "[2021-11-25 00:46:54,087] - obspy.clients.fdsn.mass_downloader - INFO: Downloaded 0.0 MB in total.\n",
      "[2021-11-25 00:46:54,091] - obspy.clients.fdsn.mass_downloader - INFO: Initializing FDSN client(s) for GEONET.\n",
      "[2021-11-25 00:46:54,095] - obspy.clients.fdsn.mass_downloader - INFO: Successfully initialized 1 client(s): GEONET.\n",
      "[2021-11-25 00:46:54,096] - obspy.clients.fdsn.mass_downloader - INFO: Total acquired or preexisting stations: 0\n",
      "[2021-11-25 00:46:54,096] - obspy.clients.fdsn.mass_downloader - INFO: Client 'GEONET' - Requesting unreliable availability.\n"
     ]
    },
    {
     "name": "stdout",
     "output_type": "stream",
     "text": [
      "=================================================================\n",
      "Initiating mass download request.\n"
     ]
    },
    {
     "name": "stderr",
     "output_type": "stream",
     "text": [
      "[2021-11-25 00:46:54,660] - obspy.clients.fdsn.mass_downloader - INFO: Client 'GEONET' - Successfully requested availability (0.56 seconds)\n",
      "[2021-11-25 00:46:54,660] - obspy.clients.fdsn.mass_downloader - INFO: Client 'GEONET' - Found 1 stations (1 channels).\n",
      "[2021-11-25 00:46:54,661] - obspy.clients.fdsn.mass_downloader - INFO: Client 'GEONET' - Will attempt to download data from 1 stations.\n",
      "[2021-11-25 00:46:54,661] - obspy.clients.fdsn.mass_downloader - INFO: Client 'GEONET' - Status for 1 time intervals/channels before downloading: NEEDS_DOWNLOADING\n",
      "[2021-11-25 00:46:55,632] - obspy.clients.fdsn.mass_downloader - INFO: Client 'GEONET' - Successfully downloaded 1 channels (of 1)\n",
      "[2021-11-25 00:46:55,635] - obspy.clients.fdsn.mass_downloader - INFO: Client 'GEONET' - Launching basic QC checks...\n",
      "[2021-11-25 00:46:55,647] - obspy.clients.fdsn.mass_downloader - INFO: Client 'GEONET' - Downloaded 0.0 MB [4.11 KB/sec] of data, 0.0 MB of which were discarded afterwards.\n",
      "[2021-11-25 00:46:55,647] - obspy.clients.fdsn.mass_downloader - INFO: Client 'GEONET' - Status for 1 time intervals/channels after downloading: DOWNLOADED\n",
      "[2021-11-25 00:46:55,649] - obspy.clients.fdsn.mass_downloader - INFO: Client 'GEONET' - No station information to download.\n",
      "[2021-11-25 00:46:55,650] - obspy.clients.fdsn.mass_downloader - INFO: ============================== Final report\n",
      "[2021-11-25 00:46:55,650] - obspy.clients.fdsn.mass_downloader - INFO: 0 MiniSEED files [0.0 MB] already existed.\n",
      "[2021-11-25 00:46:55,651] - obspy.clients.fdsn.mass_downloader - INFO: 1 StationXML files [0.0 MB] already existed.\n",
      "[2021-11-25 00:46:55,651] - obspy.clients.fdsn.mass_downloader - INFO: Client 'GEONET' - Acquired 1 MiniSEED files [0.0 MB].\n",
      "[2021-11-25 00:46:55,651] - obspy.clients.fdsn.mass_downloader - INFO: Client 'GEONET' - Acquired 0 StationXML files [0.0 MB].\n",
      "[2021-11-25 00:46:55,651] - obspy.clients.fdsn.mass_downloader - INFO: Downloaded 0.0 MB in total.\n",
      "[2021-11-25 00:46:55,657] - obspy.clients.fdsn.mass_downloader - INFO: Initializing FDSN client(s) for GEONET.\n",
      "[2021-11-25 00:46:55,661] - obspy.clients.fdsn.mass_downloader - INFO: Successfully initialized 1 client(s): GEONET.\n",
      "[2021-11-25 00:46:55,661] - obspy.clients.fdsn.mass_downloader - INFO: Total acquired or preexisting stations: 0\n",
      "[2021-11-25 00:46:55,662] - obspy.clients.fdsn.mass_downloader - INFO: Client 'GEONET' - Requesting unreliable availability.\n"
     ]
    },
    {
     "name": "stdout",
     "output_type": "stream",
     "text": [
      "=================================================================\n",
      "Initiating mass download request.\n"
     ]
    },
    {
     "name": "stderr",
     "output_type": "stream",
     "text": [
      "[2021-11-25 00:46:56,880] - obspy.clients.fdsn.mass_downloader - INFO: Client 'GEONET' - Successfully requested availability (1.22 seconds)\n",
      "[2021-11-25 00:46:56,882] - obspy.clients.fdsn.mass_downloader - INFO: Client 'GEONET' - Found 1 stations (1 channels).\n",
      "[2021-11-25 00:46:56,882] - obspy.clients.fdsn.mass_downloader - INFO: Client 'GEONET' - Will attempt to download data from 1 stations.\n",
      "[2021-11-25 00:46:56,883] - obspy.clients.fdsn.mass_downloader - INFO: Client 'GEONET' - Status for 1 time intervals/channels before downloading: NEEDS_DOWNLOADING\n",
      "[2021-11-25 00:46:57,943] - obspy.clients.fdsn.mass_downloader - INFO: Client 'GEONET' - Successfully downloaded 1 channels (of 1)\n",
      "[2021-11-25 00:46:57,951] - obspy.clients.fdsn.mass_downloader - INFO: Client 'GEONET' - Launching basic QC checks...\n",
      "[2021-11-25 00:46:57,964] - obspy.clients.fdsn.mass_downloader - INFO: Client 'GEONET' - Downloaded 0.0 MB [4.22 KB/sec] of data, 0.0 MB of which were discarded afterwards.\n",
      "[2021-11-25 00:46:57,965] - obspy.clients.fdsn.mass_downloader - INFO: Client 'GEONET' - Status for 1 time intervals/channels after downloading: DOWNLOADED\n",
      "[2021-11-25 00:46:57,970] - obspy.clients.fdsn.mass_downloader - INFO: Client 'GEONET' - No station information to download.\n",
      "[2021-11-25 00:46:57,971] - obspy.clients.fdsn.mass_downloader - INFO: ============================== Final report\n",
      "[2021-11-25 00:46:57,972] - obspy.clients.fdsn.mass_downloader - INFO: 0 MiniSEED files [0.0 MB] already existed.\n",
      "[2021-11-25 00:46:57,972] - obspy.clients.fdsn.mass_downloader - INFO: 1 StationXML files [0.0 MB] already existed.\n",
      "[2021-11-25 00:46:57,973] - obspy.clients.fdsn.mass_downloader - INFO: Client 'GEONET' - Acquired 1 MiniSEED files [0.0 MB].\n",
      "[2021-11-25 00:46:57,974] - obspy.clients.fdsn.mass_downloader - INFO: Client 'GEONET' - Acquired 0 StationXML files [0.0 MB].\n",
      "[2021-11-25 00:46:57,974] - obspy.clients.fdsn.mass_downloader - INFO: Downloaded 0.0 MB in total.\n",
      "[2021-11-25 00:46:57,979] - obspy.clients.fdsn.mass_downloader - INFO: Initializing FDSN client(s) for GEONET.\n",
      "[2021-11-25 00:46:57,989] - obspy.clients.fdsn.mass_downloader - INFO: Successfully initialized 1 client(s): GEONET.\n",
      "[2021-11-25 00:46:57,990] - obspy.clients.fdsn.mass_downloader - INFO: Total acquired or preexisting stations: 0\n",
      "[2021-11-25 00:46:57,990] - obspy.clients.fdsn.mass_downloader - INFO: Client 'GEONET' - Requesting unreliable availability.\n"
     ]
    },
    {
     "name": "stdout",
     "output_type": "stream",
     "text": [
      "=================================================================\n",
      "Initiating mass download request.\n"
     ]
    },
    {
     "name": "stderr",
     "output_type": "stream",
     "text": [
      "[2021-11-25 00:46:58,548] - obspy.clients.fdsn.mass_downloader - INFO: Client 'GEONET' - Successfully requested availability (0.56 seconds)\n",
      "[2021-11-25 00:46:58,550] - obspy.clients.fdsn.mass_downloader - INFO: Client 'GEONET' - Found 1 stations (1 channels).\n",
      "[2021-11-25 00:46:58,551] - obspy.clients.fdsn.mass_downloader - INFO: Client 'GEONET' - Will attempt to download data from 1 stations.\n",
      "[2021-11-25 00:46:58,553] - obspy.clients.fdsn.mass_downloader - INFO: Client 'GEONET' - Status for 1 time intervals/channels before downloading: NEEDS_DOWNLOADING\n",
      "[2021-11-25 00:46:59,514] - obspy.clients.fdsn.mass_downloader - INFO: Client 'GEONET' - Successfully downloaded 1 channels (of 1)\n",
      "[2021-11-25 00:46:59,518] - obspy.clients.fdsn.mass_downloader - INFO: Client 'GEONET' - Launching basic QC checks...\n",
      "[2021-11-25 00:46:59,526] - obspy.clients.fdsn.mass_downloader - INFO: Client 'GEONET' - Downloaded 0.0 MB [3.65 KB/sec] of data, 0.0 MB of which were discarded afterwards.\n",
      "[2021-11-25 00:46:59,528] - obspy.clients.fdsn.mass_downloader - INFO: Client 'GEONET' - Status for 1 time intervals/channels after downloading: DOWNLOADED\n",
      "[2021-11-25 00:46:59,534] - obspy.clients.fdsn.mass_downloader - INFO: Client 'GEONET' - No station information to download.\n",
      "[2021-11-25 00:46:59,538] - obspy.clients.fdsn.mass_downloader - INFO: ============================== Final report\n",
      "[2021-11-25 00:46:59,539] - obspy.clients.fdsn.mass_downloader - INFO: 0 MiniSEED files [0.0 MB] already existed.\n",
      "[2021-11-25 00:46:59,540] - obspy.clients.fdsn.mass_downloader - INFO: 1 StationXML files [0.0 MB] already existed.\n",
      "[2021-11-25 00:46:59,540] - obspy.clients.fdsn.mass_downloader - INFO: Client 'GEONET' - Acquired 1 MiniSEED files [0.0 MB].\n",
      "[2021-11-25 00:46:59,541] - obspy.clients.fdsn.mass_downloader - INFO: Client 'GEONET' - Acquired 0 StationXML files [0.0 MB].\n",
      "[2021-11-25 00:46:59,541] - obspy.clients.fdsn.mass_downloader - INFO: Downloaded 0.0 MB in total.\n",
      "[2021-11-25 00:46:59,548] - obspy.clients.fdsn.mass_downloader - INFO: Initializing FDSN client(s) for GEONET.\n",
      "[2021-11-25 00:46:59,558] - obspy.clients.fdsn.mass_downloader - INFO: Successfully initialized 1 client(s): GEONET.\n",
      "[2021-11-25 00:46:59,562] - obspy.clients.fdsn.mass_downloader - INFO: Total acquired or preexisting stations: 0\n",
      "[2021-11-25 00:46:59,564] - obspy.clients.fdsn.mass_downloader - INFO: Client 'GEONET' - Requesting unreliable availability.\n"
     ]
    },
    {
     "name": "stdout",
     "output_type": "stream",
     "text": [
      "=================================================================\n",
      "Initiating mass download request.\n"
     ]
    },
    {
     "name": "stderr",
     "output_type": "stream",
     "text": [
      "[2021-11-25 00:47:00,714] - obspy.clients.fdsn.mass_downloader - INFO: Client 'GEONET' - Successfully requested availability (1.15 seconds)\n",
      "[2021-11-25 00:47:00,717] - obspy.clients.fdsn.mass_downloader - INFO: Client 'GEONET' - Found 1 stations (1 channels).\n",
      "[2021-11-25 00:47:00,719] - obspy.clients.fdsn.mass_downloader - INFO: Client 'GEONET' - Will attempt to download data from 1 stations.\n",
      "[2021-11-25 00:47:00,720] - obspy.clients.fdsn.mass_downloader - INFO: Client 'GEONET' - Status for 1 time intervals/channels before downloading: NEEDS_DOWNLOADING\n",
      "[2021-11-25 00:47:01,292] - obspy.clients.fdsn.mass_downloader - INFO: Client 'GEONET' - No data available for request.\n",
      "[2021-11-25 00:47:01,294] - obspy.clients.fdsn.mass_downloader - INFO: Client 'GEONET' - Launching basic QC checks...\n",
      "[2021-11-25 00:47:01,295] - obspy.clients.fdsn.mass_downloader - INFO: Client 'GEONET' - Downloaded 0.0 MB [0.00 KB/sec] of data, 0.0 MB of which were discarded afterwards.\n",
      "[2021-11-25 00:47:01,295] - obspy.clients.fdsn.mass_downloader - INFO: Client 'GEONET' - Status for 1 time intervals/channels after downloading: DOWNLOAD_FAILED\n",
      "[2021-11-25 00:47:01,296] - obspy.clients.fdsn.mass_downloader - INFO: Client 'GEONET' - No station information to download.\n",
      "[2021-11-25 00:47:01,296] - obspy.clients.fdsn.mass_downloader - INFO: Client 'GEONET' - No data could be downloaded.\n",
      "[2021-11-25 00:47:01,296] - obspy.clients.fdsn.mass_downloader - INFO: ============================== Final report\n",
      "[2021-11-25 00:47:01,297] - obspy.clients.fdsn.mass_downloader - INFO: 0 MiniSEED files [0.0 MB] already existed.\n",
      "[2021-11-25 00:47:01,297] - obspy.clients.fdsn.mass_downloader - INFO: 0 StationXML files [0.0 MB] already existed.\n",
      "[2021-11-25 00:47:01,297] - obspy.clients.fdsn.mass_downloader - INFO: Client 'GEONET' - Acquired 0 MiniSEED files [0.0 MB].\n",
      "[2021-11-25 00:47:01,298] - obspy.clients.fdsn.mass_downloader - INFO: Client 'GEONET' - Acquired 0 StationXML files [0.0 MB].\n",
      "[2021-11-25 00:47:01,298] - obspy.clients.fdsn.mass_downloader - INFO: Downloaded 0.0 MB in total.\n",
      "[2021-11-25 00:47:01,305] - obspy.clients.fdsn.mass_downloader - INFO: Initializing FDSN client(s) for GEONET.\n",
      "[2021-11-25 00:47:01,315] - obspy.clients.fdsn.mass_downloader - INFO: Successfully initialized 1 client(s): GEONET.\n",
      "[2021-11-25 00:47:01,316] - obspy.clients.fdsn.mass_downloader - INFO: Total acquired or preexisting stations: 0\n",
      "[2021-11-25 00:47:01,316] - obspy.clients.fdsn.mass_downloader - INFO: Client 'GEONET' - Requesting unreliable availability.\n"
     ]
    },
    {
     "name": "stdout",
     "output_type": "stream",
     "text": [
      "=================================================================\n",
      "Initiating mass download request.\n"
     ]
    },
    {
     "name": "stderr",
     "output_type": "stream",
     "text": [
      "[2021-11-25 00:47:01,993] - obspy.clients.fdsn.mass_downloader - INFO: Client 'GEONET' - Successfully requested availability (0.68 seconds)\n",
      "[2021-11-25 00:47:01,999] - obspy.clients.fdsn.mass_downloader - INFO: Client 'GEONET' - Found 1 stations (1 channels).\n",
      "[2021-11-25 00:47:02,000] - obspy.clients.fdsn.mass_downloader - INFO: Client 'GEONET' - Will attempt to download data from 1 stations.\n",
      "[2021-11-25 00:47:02,000] - obspy.clients.fdsn.mass_downloader - INFO: Client 'GEONET' - Status for 1 time intervals/channels before downloading: NEEDS_DOWNLOADING\n",
      "[2021-11-25 00:47:02,766] - obspy.clients.fdsn.mass_downloader - INFO: Client 'GEONET' - Successfully downloaded 1 channels (of 1)\n",
      "[2021-11-25 00:47:02,769] - obspy.clients.fdsn.mass_downloader - INFO: Client 'GEONET' - Launching basic QC checks...\n",
      "[2021-11-25 00:47:02,775] - obspy.clients.fdsn.mass_downloader - INFO: Client 'GEONET' - Downloaded 0.0 MB [4.57 KB/sec] of data, 0.0 MB of which were discarded afterwards.\n",
      "[2021-11-25 00:47:02,776] - obspy.clients.fdsn.mass_downloader - INFO: Client 'GEONET' - Status for 1 time intervals/channels after downloading: DOWNLOADED\n",
      "[2021-11-25 00:47:02,780] - obspy.clients.fdsn.mass_downloader - INFO: Client 'GEONET' - No station information to download.\n",
      "[2021-11-25 00:47:02,781] - obspy.clients.fdsn.mass_downloader - INFO: ============================== Final report\n",
      "[2021-11-25 00:47:02,782] - obspy.clients.fdsn.mass_downloader - INFO: 0 MiniSEED files [0.0 MB] already existed.\n",
      "[2021-11-25 00:47:02,782] - obspy.clients.fdsn.mass_downloader - INFO: 1 StationXML files [0.0 MB] already existed.\n",
      "[2021-11-25 00:47:02,782] - obspy.clients.fdsn.mass_downloader - INFO: Client 'GEONET' - Acquired 1 MiniSEED files [0.0 MB].\n",
      "[2021-11-25 00:47:02,782] - obspy.clients.fdsn.mass_downloader - INFO: Client 'GEONET' - Acquired 0 StationXML files [0.0 MB].\n",
      "[2021-11-25 00:47:02,782] - obspy.clients.fdsn.mass_downloader - INFO: Downloaded 0.0 MB in total.\n",
      "[2021-11-25 00:47:02,789] - obspy.clients.fdsn.mass_downloader - INFO: Initializing FDSN client(s) for GEONET.\n",
      "[2021-11-25 00:47:02,794] - obspy.clients.fdsn.mass_downloader - INFO: Successfully initialized 1 client(s): GEONET.\n",
      "[2021-11-25 00:47:02,794] - obspy.clients.fdsn.mass_downloader - INFO: Total acquired or preexisting stations: 0\n",
      "[2021-11-25 00:47:02,795] - obspy.clients.fdsn.mass_downloader - INFO: Client 'GEONET' - Requesting unreliable availability.\n"
     ]
    },
    {
     "name": "stdout",
     "output_type": "stream",
     "text": [
      "=================================================================\n",
      "Initiating mass download request.\n"
     ]
    },
    {
     "name": "stderr",
     "output_type": "stream",
     "text": [
      "[2021-11-25 00:47:03,485] - obspy.clients.fdsn.mass_downloader - INFO: Client 'GEONET' - Successfully requested availability (0.69 seconds)\n",
      "[2021-11-25 00:47:03,492] - obspy.clients.fdsn.mass_downloader - INFO: Client 'GEONET' - Found 1 stations (1 channels).\n",
      "[2021-11-25 00:47:03,494] - obspy.clients.fdsn.mass_downloader - INFO: Client 'GEONET' - Will attempt to download data from 1 stations.\n",
      "[2021-11-25 00:47:03,495] - obspy.clients.fdsn.mass_downloader - INFO: Client 'GEONET' - Status for 1 time intervals/channels before downloading: NEEDS_DOWNLOADING\n",
      "[2021-11-25 00:47:04,480] - obspy.clients.fdsn.mass_downloader - INFO: Client 'GEONET' - Successfully downloaded 1 channels (of 1)\n",
      "[2021-11-25 00:47:04,485] - obspy.clients.fdsn.mass_downloader - INFO: Client 'GEONET' - Launching basic QC checks...\n",
      "[2021-11-25 00:47:04,499] - obspy.clients.fdsn.mass_downloader - INFO: Client 'GEONET' - Downloaded 0.0 MB [4.07 KB/sec] of data, 0.0 MB of which were discarded afterwards.\n",
      "[2021-11-25 00:47:04,500] - obspy.clients.fdsn.mass_downloader - INFO: Client 'GEONET' - Status for 1 time intervals/channels after downloading: DOWNLOADED\n",
      "[2021-11-25 00:47:04,508] - obspy.clients.fdsn.mass_downloader - INFO: Client 'GEONET' - No station information to download.\n",
      "[2021-11-25 00:47:04,509] - obspy.clients.fdsn.mass_downloader - INFO: ============================== Final report\n",
      "[2021-11-25 00:47:04,510] - obspy.clients.fdsn.mass_downloader - INFO: 0 MiniSEED files [0.0 MB] already existed.\n",
      "[2021-11-25 00:47:04,510] - obspy.clients.fdsn.mass_downloader - INFO: 1 StationXML files [0.0 MB] already existed.\n",
      "[2021-11-25 00:47:04,510] - obspy.clients.fdsn.mass_downloader - INFO: Client 'GEONET' - Acquired 1 MiniSEED files [0.0 MB].\n",
      "[2021-11-25 00:47:04,511] - obspy.clients.fdsn.mass_downloader - INFO: Client 'GEONET' - Acquired 0 StationXML files [0.0 MB].\n",
      "[2021-11-25 00:47:04,511] - obspy.clients.fdsn.mass_downloader - INFO: Downloaded 0.0 MB in total.\n",
      "[2021-11-25 00:47:04,513] - obspy.clients.fdsn.mass_downloader - INFO: Initializing FDSN client(s) for GEONET.\n",
      "[2021-11-25 00:47:04,520] - obspy.clients.fdsn.mass_downloader - INFO: Successfully initialized 1 client(s): GEONET.\n",
      "[2021-11-25 00:47:04,522] - obspy.clients.fdsn.mass_downloader - INFO: Total acquired or preexisting stations: 0\n",
      "[2021-11-25 00:47:04,523] - obspy.clients.fdsn.mass_downloader - INFO: Client 'GEONET' - Requesting unreliable availability.\n"
     ]
    },
    {
     "name": "stdout",
     "output_type": "stream",
     "text": [
      "=================================================================\n",
      "Initiating mass download request.\n"
     ]
    },
    {
     "name": "stderr",
     "output_type": "stream",
     "text": [
      "[2021-11-25 00:47:05,141] - obspy.clients.fdsn.mass_downloader - INFO: Client 'GEONET' - Successfully requested availability (0.62 seconds)\n",
      "[2021-11-25 00:47:05,144] - obspy.clients.fdsn.mass_downloader - INFO: Client 'GEONET' - Found 1 stations (1 channels).\n",
      "[2021-11-25 00:47:05,145] - obspy.clients.fdsn.mass_downloader - INFO: Client 'GEONET' - Will attempt to download data from 1 stations.\n",
      "[2021-11-25 00:47:05,146] - obspy.clients.fdsn.mass_downloader - INFO: Client 'GEONET' - Status for 1 time intervals/channels before downloading: NEEDS_DOWNLOADING\n",
      "[2021-11-25 00:47:06,130] - obspy.clients.fdsn.mass_downloader - INFO: Client 'GEONET' - Successfully downloaded 1 channels (of 1)\n",
      "[2021-11-25 00:47:06,133] - obspy.clients.fdsn.mass_downloader - INFO: Client 'GEONET' - Launching basic QC checks...\n",
      "[2021-11-25 00:47:06,146] - obspy.clients.fdsn.mass_downloader - INFO: Client 'GEONET' - Downloaded 0.0 MB [3.06 KB/sec] of data, 0.0 MB of which were discarded afterwards.\n",
      "[2021-11-25 00:47:06,146] - obspy.clients.fdsn.mass_downloader - INFO: Client 'GEONET' - Status for 1 time intervals/channels after downloading: DOWNLOADED\n",
      "[2021-11-25 00:47:06,149] - obspy.clients.fdsn.mass_downloader - INFO: Client 'GEONET' - No station information to download.\n",
      "[2021-11-25 00:47:06,150] - obspy.clients.fdsn.mass_downloader - INFO: ============================== Final report\n",
      "[2021-11-25 00:47:06,150] - obspy.clients.fdsn.mass_downloader - INFO: 0 MiniSEED files [0.0 MB] already existed.\n",
      "[2021-11-25 00:47:06,151] - obspy.clients.fdsn.mass_downloader - INFO: 1 StationXML files [0.0 MB] already existed.\n",
      "[2021-11-25 00:47:06,151] - obspy.clients.fdsn.mass_downloader - INFO: Client 'GEONET' - Acquired 1 MiniSEED files [0.0 MB].\n",
      "[2021-11-25 00:47:06,152] - obspy.clients.fdsn.mass_downloader - INFO: Client 'GEONET' - Acquired 0 StationXML files [0.0 MB].\n",
      "[2021-11-25 00:47:06,152] - obspy.clients.fdsn.mass_downloader - INFO: Downloaded 0.0 MB in total.\n",
      "[2021-11-25 00:47:06,159] - obspy.clients.fdsn.mass_downloader - INFO: Initializing FDSN client(s) for GEONET.\n",
      "[2021-11-25 00:47:06,162] - obspy.clients.fdsn.mass_downloader - INFO: Successfully initialized 1 client(s): GEONET.\n",
      "[2021-11-25 00:47:06,163] - obspy.clients.fdsn.mass_downloader - INFO: Total acquired or preexisting stations: 0\n",
      "[2021-11-25 00:47:06,163] - obspy.clients.fdsn.mass_downloader - INFO: Client 'GEONET' - Requesting unreliable availability.\n"
     ]
    },
    {
     "name": "stdout",
     "output_type": "stream",
     "text": [
      "=================================================================\n",
      "Initiating mass download request.\n"
     ]
    },
    {
     "name": "stderr",
     "output_type": "stream",
     "text": [
      "[2021-11-25 00:47:06,762] - obspy.clients.fdsn.mass_downloader - INFO: Client 'GEONET' - Successfully requested availability (0.60 seconds)\n",
      "[2021-11-25 00:47:06,763] - obspy.clients.fdsn.mass_downloader - INFO: Client 'GEONET' - Found 1 stations (1 channels).\n",
      "[2021-11-25 00:47:06,763] - obspy.clients.fdsn.mass_downloader - INFO: Client 'GEONET' - Will attempt to download data from 1 stations.\n",
      "[2021-11-25 00:47:06,764] - obspy.clients.fdsn.mass_downloader - INFO: Client 'GEONET' - Status for 1 time intervals/channels before downloading: NEEDS_DOWNLOADING\n",
      "[2021-11-25 00:47:07,716] - obspy.clients.fdsn.mass_downloader - INFO: Client 'GEONET' - Successfully downloaded 1 channels (of 1)\n",
      "[2021-11-25 00:47:07,725] - obspy.clients.fdsn.mass_downloader - INFO: Client 'GEONET' - Launching basic QC checks...\n",
      "[2021-11-25 00:47:07,735] - obspy.clients.fdsn.mass_downloader - INFO: Client 'GEONET' - Downloaded 0.0 MB [4.17 KB/sec] of data, 0.0 MB of which were discarded afterwards.\n",
      "[2021-11-25 00:47:07,735] - obspy.clients.fdsn.mass_downloader - INFO: Client 'GEONET' - Status for 1 time intervals/channels after downloading: DOWNLOADED\n",
      "[2021-11-25 00:47:07,738] - obspy.clients.fdsn.mass_downloader - INFO: Client 'GEONET' - No station information to download.\n",
      "[2021-11-25 00:47:07,739] - obspy.clients.fdsn.mass_downloader - INFO: ============================== Final report\n",
      "[2021-11-25 00:47:07,739] - obspy.clients.fdsn.mass_downloader - INFO: 0 MiniSEED files [0.0 MB] already existed.\n",
      "[2021-11-25 00:47:07,740] - obspy.clients.fdsn.mass_downloader - INFO: 1 StationXML files [0.0 MB] already existed.\n",
      "[2021-11-25 00:47:07,740] - obspy.clients.fdsn.mass_downloader - INFO: Client 'GEONET' - Acquired 1 MiniSEED files [0.0 MB].\n",
      "[2021-11-25 00:47:07,740] - obspy.clients.fdsn.mass_downloader - INFO: Client 'GEONET' - Acquired 0 StationXML files [0.0 MB].\n",
      "[2021-11-25 00:47:07,741] - obspy.clients.fdsn.mass_downloader - INFO: Downloaded 0.0 MB in total.\n",
      "[2021-11-25 00:47:07,748] - obspy.clients.fdsn.mass_downloader - INFO: Initializing FDSN client(s) for GEONET.\n",
      "[2021-11-25 00:47:07,752] - obspy.clients.fdsn.mass_downloader - INFO: Successfully initialized 1 client(s): GEONET.\n",
      "[2021-11-25 00:47:07,753] - obspy.clients.fdsn.mass_downloader - INFO: Total acquired or preexisting stations: 0\n",
      "[2021-11-25 00:47:07,753] - obspy.clients.fdsn.mass_downloader - INFO: Client 'GEONET' - Requesting unreliable availability.\n"
     ]
    },
    {
     "name": "stdout",
     "output_type": "stream",
     "text": [
      "=================================================================\n",
      "Initiating mass download request.\n"
     ]
    },
    {
     "name": "stderr",
     "output_type": "stream",
     "text": [
      "[2021-11-25 00:47:08,240] - obspy.clients.fdsn.mass_downloader - INFO: Client 'GEONET' - Successfully requested availability (0.49 seconds)\n",
      "[2021-11-25 00:47:08,241] - obspy.clients.fdsn.mass_downloader - INFO: Client 'GEONET' - Found 1 stations (1 channels).\n",
      "[2021-11-25 00:47:08,242] - obspy.clients.fdsn.mass_downloader - INFO: Client 'GEONET' - Will attempt to download data from 1 stations.\n",
      "[2021-11-25 00:47:08,242] - obspy.clients.fdsn.mass_downloader - INFO: Client 'GEONET' - Status for 1 time intervals/channels before downloading: NEEDS_DOWNLOADING\n",
      "[2021-11-25 00:47:09,128] - obspy.clients.fdsn.mass_downloader - INFO: Client 'GEONET' - Successfully downloaded 1 channels (of 1)\n",
      "[2021-11-25 00:47:09,138] - obspy.clients.fdsn.mass_downloader - INFO: Client 'GEONET' - Launching basic QC checks...\n",
      "[2021-11-25 00:47:09,157] - obspy.clients.fdsn.mass_downloader - INFO: Client 'GEONET' - Downloaded 0.0 MB [3.35 KB/sec] of data, 0.0 MB of which were discarded afterwards.\n",
      "[2021-11-25 00:47:09,159] - obspy.clients.fdsn.mass_downloader - INFO: Client 'GEONET' - Status for 1 time intervals/channels after downloading: DOWNLOADED\n",
      "[2021-11-25 00:47:09,165] - obspy.clients.fdsn.mass_downloader - INFO: Client 'GEONET' - No station information to download.\n",
      "[2021-11-25 00:47:09,169] - obspy.clients.fdsn.mass_downloader - INFO: ============================== Final report\n",
      "[2021-11-25 00:47:09,170] - obspy.clients.fdsn.mass_downloader - INFO: 0 MiniSEED files [0.0 MB] already existed.\n",
      "[2021-11-25 00:47:09,171] - obspy.clients.fdsn.mass_downloader - INFO: 1 StationXML files [0.0 MB] already existed.\n",
      "[2021-11-25 00:47:09,172] - obspy.clients.fdsn.mass_downloader - INFO: Client 'GEONET' - Acquired 1 MiniSEED files [0.0 MB].\n",
      "[2021-11-25 00:47:09,173] - obspy.clients.fdsn.mass_downloader - INFO: Client 'GEONET' - Acquired 0 StationXML files [0.0 MB].\n",
      "[2021-11-25 00:47:09,173] - obspy.clients.fdsn.mass_downloader - INFO: Downloaded 0.0 MB in total.\n",
      "[2021-11-25 00:47:09,181] - obspy.clients.fdsn.mass_downloader - INFO: Initializing FDSN client(s) for GEONET.\n",
      "[2021-11-25 00:47:09,189] - obspy.clients.fdsn.mass_downloader - INFO: Successfully initialized 1 client(s): GEONET.\n",
      "[2021-11-25 00:47:09,190] - obspy.clients.fdsn.mass_downloader - INFO: Total acquired or preexisting stations: 0\n",
      "[2021-11-25 00:47:09,190] - obspy.clients.fdsn.mass_downloader - INFO: Client 'GEONET' - Requesting unreliable availability.\n"
     ]
    },
    {
     "name": "stdout",
     "output_type": "stream",
     "text": [
      "=================================================================\n",
      "Initiating mass download request.\n"
     ]
    },
    {
     "name": "stderr",
     "output_type": "stream",
     "text": [
      "[2021-11-25 00:47:09,731] - obspy.clients.fdsn.mass_downloader - INFO: Client 'GEONET' - Successfully requested availability (0.54 seconds)\n",
      "[2021-11-25 00:47:09,732] - obspy.clients.fdsn.mass_downloader - INFO: Client 'GEONET' - Found 1 stations (1 channels).\n",
      "[2021-11-25 00:47:09,732] - obspy.clients.fdsn.mass_downloader - INFO: Client 'GEONET' - Will attempt to download data from 1 stations.\n",
      "[2021-11-25 00:47:09,733] - obspy.clients.fdsn.mass_downloader - INFO: Client 'GEONET' - Status for 1 time intervals/channels before downloading: NEEDS_DOWNLOADING\n",
      "[2021-11-25 00:47:10,592] - obspy.clients.fdsn.mass_downloader - INFO: Client 'GEONET' - Successfully downloaded 1 channels (of 1)\n",
      "[2021-11-25 00:47:10,599] - obspy.clients.fdsn.mass_downloader - INFO: Client 'GEONET' - Launching basic QC checks...\n",
      "[2021-11-25 00:47:10,610] - obspy.clients.fdsn.mass_downloader - INFO: Client 'GEONET' - Downloaded 0.0 MB [3.47 KB/sec] of data, 0.0 MB of which were discarded afterwards.\n",
      "[2021-11-25 00:47:10,612] - obspy.clients.fdsn.mass_downloader - INFO: Client 'GEONET' - Status for 1 time intervals/channels after downloading: DOWNLOADED\n",
      "[2021-11-25 00:47:10,617] - obspy.clients.fdsn.mass_downloader - INFO: Client 'GEONET' - No station information to download.\n",
      "[2021-11-25 00:47:10,619] - obspy.clients.fdsn.mass_downloader - INFO: ============================== Final report\n",
      "[2021-11-25 00:47:10,619] - obspy.clients.fdsn.mass_downloader - INFO: 0 MiniSEED files [0.0 MB] already existed.\n",
      "[2021-11-25 00:47:10,620] - obspy.clients.fdsn.mass_downloader - INFO: 1 StationXML files [0.0 MB] already existed.\n",
      "[2021-11-25 00:47:10,621] - obspy.clients.fdsn.mass_downloader - INFO: Client 'GEONET' - Acquired 1 MiniSEED files [0.0 MB].\n",
      "[2021-11-25 00:47:10,622] - obspy.clients.fdsn.mass_downloader - INFO: Client 'GEONET' - Acquired 0 StationXML files [0.0 MB].\n",
      "[2021-11-25 00:47:10,624] - obspy.clients.fdsn.mass_downloader - INFO: Downloaded 0.0 MB in total.\n",
      "[2021-11-25 00:47:10,629] - obspy.clients.fdsn.mass_downloader - INFO: Initializing FDSN client(s) for GEONET.\n",
      "[2021-11-25 00:47:10,633] - obspy.clients.fdsn.mass_downloader - INFO: Successfully initialized 1 client(s): GEONET.\n",
      "[2021-11-25 00:47:10,635] - obspy.clients.fdsn.mass_downloader - INFO: Total acquired or preexisting stations: 0\n",
      "[2021-11-25 00:47:10,635] - obspy.clients.fdsn.mass_downloader - INFO: Client 'GEONET' - Requesting unreliable availability.\n"
     ]
    },
    {
     "name": "stdout",
     "output_type": "stream",
     "text": [
      "=================================================================\n",
      "Initiating mass download request.\n"
     ]
    },
    {
     "name": "stderr",
     "output_type": "stream",
     "text": [
      "[2021-11-25 00:47:11,232] - obspy.clients.fdsn.mass_downloader - INFO: Client 'GEONET' - Successfully requested availability (0.60 seconds)\n",
      "[2021-11-25 00:47:11,233] - obspy.clients.fdsn.mass_downloader - INFO: Client 'GEONET' - Found 1 stations (1 channels).\n",
      "[2021-11-25 00:47:11,234] - obspy.clients.fdsn.mass_downloader - INFO: Client 'GEONET' - Will attempt to download data from 1 stations.\n",
      "[2021-11-25 00:47:11,234] - obspy.clients.fdsn.mass_downloader - INFO: Client 'GEONET' - Status for 1 time intervals/channels before downloading: NEEDS_DOWNLOADING\n",
      "[2021-11-25 00:47:12,172] - obspy.clients.fdsn.mass_downloader - INFO: Client 'GEONET' - Successfully downloaded 1 channels (of 1)\n",
      "[2021-11-25 00:47:12,174] - obspy.clients.fdsn.mass_downloader - INFO: Client 'GEONET' - Launching basic QC checks...\n",
      "[2021-11-25 00:47:12,177] - obspy.clients.fdsn.mass_downloader - INFO: Client 'GEONET' - Downloaded 0.0 MB [3.73 KB/sec] of data, 0.0 MB of which were discarded afterwards.\n",
      "[2021-11-25 00:47:12,178] - obspy.clients.fdsn.mass_downloader - INFO: Client 'GEONET' - Status for 1 time intervals/channels after downloading: DOWNLOADED\n",
      "[2021-11-25 00:47:12,179] - obspy.clients.fdsn.mass_downloader - INFO: Client 'GEONET' - No station information to download.\n",
      "[2021-11-25 00:47:12,180] - obspy.clients.fdsn.mass_downloader - INFO: ============================== Final report\n",
      "[2021-11-25 00:47:12,180] - obspy.clients.fdsn.mass_downloader - INFO: 0 MiniSEED files [0.0 MB] already existed.\n",
      "[2021-11-25 00:47:12,181] - obspy.clients.fdsn.mass_downloader - INFO: 1 StationXML files [0.0 MB] already existed.\n",
      "[2021-11-25 00:47:12,181] - obspy.clients.fdsn.mass_downloader - INFO: Client 'GEONET' - Acquired 1 MiniSEED files [0.0 MB].\n",
      "[2021-11-25 00:47:12,181] - obspy.clients.fdsn.mass_downloader - INFO: Client 'GEONET' - Acquired 0 StationXML files [0.0 MB].\n",
      "[2021-11-25 00:47:12,181] - obspy.clients.fdsn.mass_downloader - INFO: Downloaded 0.0 MB in total.\n",
      "[2021-11-25 00:47:12,184] - obspy.clients.fdsn.mass_downloader - INFO: Initializing FDSN client(s) for GEONET.\n",
      "[2021-11-25 00:47:12,186] - obspy.clients.fdsn.mass_downloader - INFO: Successfully initialized 1 client(s): GEONET.\n",
      "[2021-11-25 00:47:12,187] - obspy.clients.fdsn.mass_downloader - INFO: Total acquired or preexisting stations: 0\n",
      "[2021-11-25 00:47:12,188] - obspy.clients.fdsn.mass_downloader - INFO: Client 'GEONET' - Requesting unreliable availability.\n"
     ]
    },
    {
     "name": "stdout",
     "output_type": "stream",
     "text": [
      "=================================================================\n",
      "Initiating mass download request.\n"
     ]
    },
    {
     "name": "stderr",
     "output_type": "stream",
     "text": [
      "[2021-11-25 00:47:12,737] - obspy.clients.fdsn.mass_downloader - INFO: Client 'GEONET' - Successfully requested availability (0.55 seconds)\n",
      "[2021-11-25 00:47:12,738] - obspy.clients.fdsn.mass_downloader - INFO: Client 'GEONET' - Found 1 stations (1 channels).\n",
      "[2021-11-25 00:47:12,738] - obspy.clients.fdsn.mass_downloader - INFO: Client 'GEONET' - Will attempt to download data from 1 stations.\n",
      "[2021-11-25 00:47:12,739] - obspy.clients.fdsn.mass_downloader - INFO: Client 'GEONET' - Status for 1 time intervals/channels before downloading: NEEDS_DOWNLOADING\n",
      "[2021-11-25 00:47:13,686] - obspy.clients.fdsn.mass_downloader - INFO: Client 'GEONET' - Successfully downloaded 1 channels (of 1)\n",
      "[2021-11-25 00:47:13,688] - obspy.clients.fdsn.mass_downloader - INFO: Client 'GEONET' - Launching basic QC checks...\n",
      "[2021-11-25 00:47:13,698] - obspy.clients.fdsn.mass_downloader - INFO: Client 'GEONET' - Downloaded 0.0 MB [3.17 KB/sec] of data, 0.0 MB of which were discarded afterwards.\n",
      "[2021-11-25 00:47:13,699] - obspy.clients.fdsn.mass_downloader - INFO: Client 'GEONET' - Status for 1 time intervals/channels after downloading: DOWNLOADED\n",
      "[2021-11-25 00:47:13,701] - obspy.clients.fdsn.mass_downloader - INFO: Client 'GEONET' - No station information to download.\n",
      "[2021-11-25 00:47:13,702] - obspy.clients.fdsn.mass_downloader - INFO: ============================== Final report\n",
      "[2021-11-25 00:47:13,703] - obspy.clients.fdsn.mass_downloader - INFO: 0 MiniSEED files [0.0 MB] already existed.\n",
      "[2021-11-25 00:47:13,704] - obspy.clients.fdsn.mass_downloader - INFO: 1 StationXML files [0.0 MB] already existed.\n",
      "[2021-11-25 00:47:13,705] - obspy.clients.fdsn.mass_downloader - INFO: Client 'GEONET' - Acquired 1 MiniSEED files [0.0 MB].\n",
      "[2021-11-25 00:47:13,705] - obspy.clients.fdsn.mass_downloader - INFO: Client 'GEONET' - Acquired 0 StationXML files [0.0 MB].\n",
      "[2021-11-25 00:47:13,705] - obspy.clients.fdsn.mass_downloader - INFO: Downloaded 0.0 MB in total.\n",
      "[2021-11-25 00:47:13,712] - obspy.clients.fdsn.mass_downloader - INFO: Initializing FDSN client(s) for GEONET.\n",
      "[2021-11-25 00:47:13,715] - obspy.clients.fdsn.mass_downloader - INFO: Successfully initialized 1 client(s): GEONET.\n",
      "[2021-11-25 00:47:13,715] - obspy.clients.fdsn.mass_downloader - INFO: Total acquired or preexisting stations: 0\n",
      "[2021-11-25 00:47:13,716] - obspy.clients.fdsn.mass_downloader - INFO: Client 'GEONET' - Requesting unreliable availability.\n"
     ]
    },
    {
     "name": "stdout",
     "output_type": "stream",
     "text": [
      "=================================================================\n",
      "Initiating mass download request.\n"
     ]
    },
    {
     "name": "stderr",
     "output_type": "stream",
     "text": [
      "[2021-11-25 00:47:15,154] - obspy.clients.fdsn.mass_downloader - INFO: Client 'GEONET' - Successfully requested availability (1.44 seconds)\n",
      "[2021-11-25 00:47:15,156] - obspy.clients.fdsn.mass_downloader - INFO: Client 'GEONET' - Found 1 stations (1 channels).\n",
      "[2021-11-25 00:47:15,156] - obspy.clients.fdsn.mass_downloader - INFO: Client 'GEONET' - Will attempt to download data from 1 stations.\n",
      "[2021-11-25 00:47:15,157] - obspy.clients.fdsn.mass_downloader - INFO: Client 'GEONET' - Status for 1 time intervals/channels before downloading: NEEDS_DOWNLOADING\n",
      "[2021-11-25 00:47:16,074] - obspy.clients.fdsn.mass_downloader - INFO: Client 'GEONET' - Successfully downloaded 1 channels (of 1)\n",
      "[2021-11-25 00:47:16,076] - obspy.clients.fdsn.mass_downloader - INFO: Client 'GEONET' - Launching basic QC checks...\n",
      "[2021-11-25 00:47:16,079] - obspy.clients.fdsn.mass_downloader - INFO: Client 'GEONET' - Downloaded 0.0 MB [3.82 KB/sec] of data, 0.0 MB of which were discarded afterwards.\n",
      "[2021-11-25 00:47:16,079] - obspy.clients.fdsn.mass_downloader - INFO: Client 'GEONET' - Status for 1 time intervals/channels after downloading: DOWNLOADED\n",
      "[2021-11-25 00:47:16,081] - obspy.clients.fdsn.mass_downloader - INFO: Client 'GEONET' - No station information to download.\n",
      "[2021-11-25 00:47:16,082] - obspy.clients.fdsn.mass_downloader - INFO: ============================== Final report\n",
      "[2021-11-25 00:47:16,083] - obspy.clients.fdsn.mass_downloader - INFO: 0 MiniSEED files [0.0 MB] already existed.\n",
      "[2021-11-25 00:47:16,084] - obspy.clients.fdsn.mass_downloader - INFO: 1 StationXML files [0.0 MB] already existed.\n",
      "[2021-11-25 00:47:16,084] - obspy.clients.fdsn.mass_downloader - INFO: Client 'GEONET' - Acquired 1 MiniSEED files [0.0 MB].\n",
      "[2021-11-25 00:47:16,084] - obspy.clients.fdsn.mass_downloader - INFO: Client 'GEONET' - Acquired 0 StationXML files [0.0 MB].\n",
      "[2021-11-25 00:47:16,085] - obspy.clients.fdsn.mass_downloader - INFO: Downloaded 0.0 MB in total.\n",
      "[2021-11-25 00:47:16,088] - obspy.clients.fdsn.mass_downloader - INFO: Initializing FDSN client(s) for GEONET.\n",
      "[2021-11-25 00:47:16,091] - obspy.clients.fdsn.mass_downloader - INFO: Successfully initialized 1 client(s): GEONET.\n",
      "[2021-11-25 00:47:16,092] - obspy.clients.fdsn.mass_downloader - INFO: Total acquired or preexisting stations: 0\n",
      "[2021-11-25 00:47:16,093] - obspy.clients.fdsn.mass_downloader - INFO: Client 'GEONET' - Requesting unreliable availability.\n"
     ]
    },
    {
     "name": "stdout",
     "output_type": "stream",
     "text": [
      "=================================================================\n",
      "Initiating mass download request.\n"
     ]
    },
    {
     "name": "stderr",
     "output_type": "stream",
     "text": [
      "[2021-11-25 00:47:17,319] - obspy.clients.fdsn.mass_downloader - INFO: Client 'GEONET' - Successfully requested availability (1.22 seconds)\n",
      "[2021-11-25 00:47:17,322] - obspy.clients.fdsn.mass_downloader - INFO: Client 'GEONET' - Found 1 stations (1 channels).\n",
      "[2021-11-25 00:47:17,326] - obspy.clients.fdsn.mass_downloader - INFO: Client 'GEONET' - Will attempt to download data from 1 stations.\n",
      "[2021-11-25 00:47:17,328] - obspy.clients.fdsn.mass_downloader - INFO: Client 'GEONET' - Status for 1 time intervals/channels before downloading: NEEDS_DOWNLOADING\n",
      "[2021-11-25 00:47:18,209] - obspy.clients.fdsn.mass_downloader - INFO: Client 'GEONET' - Successfully downloaded 1 channels (of 1)\n",
      "[2021-11-25 00:47:18,228] - obspy.clients.fdsn.mass_downloader - INFO: Client 'GEONET' - Launching basic QC checks...\n",
      "[2021-11-25 00:47:18,249] - obspy.clients.fdsn.mass_downloader - INFO: Client 'GEONET' - Downloaded 0.0 MB [4.47 KB/sec] of data, 0.0 MB of which were discarded afterwards.\n",
      "[2021-11-25 00:47:18,249] - obspy.clients.fdsn.mass_downloader - INFO: Client 'GEONET' - Status for 1 time intervals/channels after downloading: DOWNLOADED\n",
      "[2021-11-25 00:47:18,254] - obspy.clients.fdsn.mass_downloader - INFO: Client 'GEONET' - No station information to download.\n",
      "[2021-11-25 00:47:18,258] - obspy.clients.fdsn.mass_downloader - INFO: ============================== Final report\n",
      "[2021-11-25 00:47:18,259] - obspy.clients.fdsn.mass_downloader - INFO: 0 MiniSEED files [0.0 MB] already existed.\n",
      "[2021-11-25 00:47:18,259] - obspy.clients.fdsn.mass_downloader - INFO: 1 StationXML files [0.0 MB] already existed.\n",
      "[2021-11-25 00:47:18,260] - obspy.clients.fdsn.mass_downloader - INFO: Client 'GEONET' - Acquired 1 MiniSEED files [0.0 MB].\n",
      "[2021-11-25 00:47:18,261] - obspy.clients.fdsn.mass_downloader - INFO: Client 'GEONET' - Acquired 0 StationXML files [0.0 MB].\n",
      "[2021-11-25 00:47:18,262] - obspy.clients.fdsn.mass_downloader - INFO: Downloaded 0.0 MB in total.\n",
      "[2021-11-25 00:47:18,269] - obspy.clients.fdsn.mass_downloader - INFO: Initializing FDSN client(s) for GEONET.\n",
      "[2021-11-25 00:47:18,279] - obspy.clients.fdsn.mass_downloader - INFO: Successfully initialized 1 client(s): GEONET.\n",
      "[2021-11-25 00:47:18,280] - obspy.clients.fdsn.mass_downloader - INFO: Total acquired or preexisting stations: 0\n",
      "[2021-11-25 00:47:18,281] - obspy.clients.fdsn.mass_downloader - INFO: Client 'GEONET' - Requesting unreliable availability.\n"
     ]
    },
    {
     "name": "stdout",
     "output_type": "stream",
     "text": [
      "=================================================================\n",
      "Initiating mass download request.\n"
     ]
    },
    {
     "name": "stderr",
     "output_type": "stream",
     "text": [
      "[2021-11-25 00:47:18,870] - obspy.clients.fdsn.mass_downloader - INFO: Client 'GEONET' - Successfully requested availability (0.59 seconds)\n",
      "[2021-11-25 00:47:18,871] - obspy.clients.fdsn.mass_downloader - INFO: Client 'GEONET' - Found 1 stations (1 channels).\n",
      "[2021-11-25 00:47:18,872] - obspy.clients.fdsn.mass_downloader - INFO: Client 'GEONET' - Will attempt to download data from 1 stations.\n",
      "[2021-11-25 00:47:18,872] - obspy.clients.fdsn.mass_downloader - INFO: Client 'GEONET' - Status for 1 time intervals/channels before downloading: NEEDS_DOWNLOADING\n",
      "[2021-11-25 00:47:19,833] - obspy.clients.fdsn.mass_downloader - INFO: Client 'GEONET' - Successfully downloaded 1 channels (of 1)\n",
      "[2021-11-25 00:47:19,835] - obspy.clients.fdsn.mass_downloader - INFO: Client 'GEONET' - Launching basic QC checks...\n",
      "[2021-11-25 00:47:19,839] - obspy.clients.fdsn.mass_downloader - INFO: Client 'GEONET' - Downloaded 0.0 MB [4.68 KB/sec] of data, 0.0 MB of which were discarded afterwards.\n",
      "[2021-11-25 00:47:19,839] - obspy.clients.fdsn.mass_downloader - INFO: Client 'GEONET' - Status for 1 time intervals/channels after downloading: DOWNLOADED\n",
      "[2021-11-25 00:47:19,840] - obspy.clients.fdsn.mass_downloader - INFO: Client 'GEONET' - No station information to download.\n",
      "[2021-11-25 00:47:19,841] - obspy.clients.fdsn.mass_downloader - INFO: ============================== Final report\n",
      "[2021-11-25 00:47:19,841] - obspy.clients.fdsn.mass_downloader - INFO: 0 MiniSEED files [0.0 MB] already existed.\n",
      "[2021-11-25 00:47:19,841] - obspy.clients.fdsn.mass_downloader - INFO: 1 StationXML files [0.0 MB] already existed.\n",
      "[2021-11-25 00:47:19,841] - obspy.clients.fdsn.mass_downloader - INFO: Client 'GEONET' - Acquired 1 MiniSEED files [0.0 MB].\n",
      "[2021-11-25 00:47:19,842] - obspy.clients.fdsn.mass_downloader - INFO: Client 'GEONET' - Acquired 0 StationXML files [0.0 MB].\n",
      "[2021-11-25 00:47:19,842] - obspy.clients.fdsn.mass_downloader - INFO: Downloaded 0.0 MB in total.\n",
      "[2021-11-25 00:47:19,847] - obspy.clients.fdsn.mass_downloader - INFO: Initializing FDSN client(s) for GEONET.\n",
      "[2021-11-25 00:47:19,854] - obspy.clients.fdsn.mass_downloader - INFO: Successfully initialized 1 client(s): GEONET.\n",
      "[2021-11-25 00:47:19,855] - obspy.clients.fdsn.mass_downloader - INFO: Total acquired or preexisting stations: 0\n",
      "[2021-11-25 00:47:19,855] - obspy.clients.fdsn.mass_downloader - INFO: Client 'GEONET' - Requesting unreliable availability.\n"
     ]
    },
    {
     "name": "stdout",
     "output_type": "stream",
     "text": [
      "=================================================================\n",
      "Initiating mass download request.\n"
     ]
    },
    {
     "name": "stderr",
     "output_type": "stream",
     "text": [
      "[2021-11-25 00:47:20,482] - obspy.clients.fdsn.mass_downloader - INFO: Client 'GEONET' - Successfully requested availability (0.63 seconds)\n",
      "[2021-11-25 00:47:20,496] - obspy.clients.fdsn.mass_downloader - INFO: Client 'GEONET' - Found 1 stations (1 channels).\n",
      "[2021-11-25 00:47:20,498] - obspy.clients.fdsn.mass_downloader - INFO: Client 'GEONET' - Will attempt to download data from 1 stations.\n",
      "[2021-11-25 00:47:20,500] - obspy.clients.fdsn.mass_downloader - INFO: Client 'GEONET' - Status for 1 time intervals/channels before downloading: NEEDS_DOWNLOADING\n",
      "[2021-11-25 00:47:21,393] - obspy.clients.fdsn.mass_downloader - INFO: Client 'GEONET' - Successfully downloaded 1 channels (of 1)\n",
      "[2021-11-25 00:47:21,411] - obspy.clients.fdsn.mass_downloader - INFO: Client 'GEONET' - Launching basic QC checks...\n",
      "[2021-11-25 00:47:21,439] - obspy.clients.fdsn.mass_downloader - INFO: Client 'GEONET' - Downloaded 0.0 MB [3.87 KB/sec] of data, 0.0 MB of which were discarded afterwards.\n",
      "[2021-11-25 00:47:21,444] - obspy.clients.fdsn.mass_downloader - INFO: Client 'GEONET' - Status for 1 time intervals/channels after downloading: DOWNLOADED\n",
      "[2021-11-25 00:47:21,452] - obspy.clients.fdsn.mass_downloader - INFO: Client 'GEONET' - No station information to download.\n",
      "[2021-11-25 00:47:21,461] - obspy.clients.fdsn.mass_downloader - INFO: ============================== Final report\n",
      "[2021-11-25 00:47:21,462] - obspy.clients.fdsn.mass_downloader - INFO: 0 MiniSEED files [0.0 MB] already existed.\n",
      "[2021-11-25 00:47:21,464] - obspy.clients.fdsn.mass_downloader - INFO: 1 StationXML files [0.0 MB] already existed.\n",
      "[2021-11-25 00:47:21,464] - obspy.clients.fdsn.mass_downloader - INFO: Client 'GEONET' - Acquired 1 MiniSEED files [0.0 MB].\n",
      "[2021-11-25 00:47:21,465] - obspy.clients.fdsn.mass_downloader - INFO: Client 'GEONET' - Acquired 0 StationXML files [0.0 MB].\n",
      "[2021-11-25 00:47:21,466] - obspy.clients.fdsn.mass_downloader - INFO: Downloaded 0.0 MB in total.\n",
      "[2021-11-25 00:47:21,477] - obspy.clients.fdsn.mass_downloader - INFO: Initializing FDSN client(s) for GEONET.\n",
      "[2021-11-25 00:47:21,495] - obspy.clients.fdsn.mass_downloader - INFO: Successfully initialized 1 client(s): GEONET.\n",
      "[2021-11-25 00:47:21,496] - obspy.clients.fdsn.mass_downloader - INFO: Total acquired or preexisting stations: 0\n",
      "[2021-11-25 00:47:21,497] - obspy.clients.fdsn.mass_downloader - INFO: Client 'GEONET' - Requesting unreliable availability.\n"
     ]
    },
    {
     "name": "stdout",
     "output_type": "stream",
     "text": [
      "=================================================================\n",
      "Initiating mass download request.\n"
     ]
    },
    {
     "name": "stderr",
     "output_type": "stream",
     "text": [
      "[2021-11-25 00:47:22,201] - obspy.clients.fdsn.mass_downloader - INFO: Client 'GEONET' - Successfully requested availability (0.70 seconds)\n",
      "[2021-11-25 00:47:22,208] - obspy.clients.fdsn.mass_downloader - INFO: Client 'GEONET' - Found 1 stations (1 channels).\n",
      "[2021-11-25 00:47:22,208] - obspy.clients.fdsn.mass_downloader - INFO: Client 'GEONET' - Will attempt to download data from 1 stations.\n",
      "[2021-11-25 00:47:22,209] - obspy.clients.fdsn.mass_downloader - INFO: Client 'GEONET' - Status for 1 time intervals/channels before downloading: NEEDS_DOWNLOADING\n",
      "[2021-11-25 00:47:22,994] - obspy.clients.fdsn.mass_downloader - INFO: Client 'GEONET' - Successfully downloaded 1 channels (of 1)\n",
      "[2021-11-25 00:47:22,998] - obspy.clients.fdsn.mass_downloader - INFO: Client 'GEONET' - Launching basic QC checks...\n",
      "[2021-11-25 00:47:23,004] - obspy.clients.fdsn.mass_downloader - INFO: Client 'GEONET' - Downloaded 0.0 MB [3.86 KB/sec] of data, 0.0 MB of which were discarded afterwards.\n",
      "[2021-11-25 00:47:23,005] - obspy.clients.fdsn.mass_downloader - INFO: Client 'GEONET' - Status for 1 time intervals/channels after downloading: DOWNLOADED\n",
      "[2021-11-25 00:47:23,011] - obspy.clients.fdsn.mass_downloader - INFO: Client 'GEONET' - No station information to download.\n",
      "[2021-11-25 00:47:23,013] - obspy.clients.fdsn.mass_downloader - INFO: ============================== Final report\n",
      "[2021-11-25 00:47:23,013] - obspy.clients.fdsn.mass_downloader - INFO: 0 MiniSEED files [0.0 MB] already existed.\n",
      "[2021-11-25 00:47:23,014] - obspy.clients.fdsn.mass_downloader - INFO: 1 StationXML files [0.0 MB] already existed.\n",
      "[2021-11-25 00:47:23,014] - obspy.clients.fdsn.mass_downloader - INFO: Client 'GEONET' - Acquired 1 MiniSEED files [0.0 MB].\n",
      "[2021-11-25 00:47:23,014] - obspy.clients.fdsn.mass_downloader - INFO: Client 'GEONET' - Acquired 0 StationXML files [0.0 MB].\n",
      "[2021-11-25 00:47:23,014] - obspy.clients.fdsn.mass_downloader - INFO: Downloaded 0.0 MB in total.\n",
      "[2021-11-25 00:47:23,017] - obspy.clients.fdsn.mass_downloader - INFO: Initializing FDSN client(s) for GEONET.\n",
      "[2021-11-25 00:47:23,024] - obspy.clients.fdsn.mass_downloader - INFO: Successfully initialized 1 client(s): GEONET.\n",
      "[2021-11-25 00:47:23,025] - obspy.clients.fdsn.mass_downloader - INFO: Total acquired or preexisting stations: 0\n",
      "[2021-11-25 00:47:23,025] - obspy.clients.fdsn.mass_downloader - INFO: Client 'GEONET' - Requesting unreliable availability.\n"
     ]
    },
    {
     "name": "stdout",
     "output_type": "stream",
     "text": [
      "=================================================================\n",
      "Initiating mass download request.\n"
     ]
    },
    {
     "name": "stderr",
     "output_type": "stream",
     "text": [
      "[2021-11-25 00:47:23,579] - obspy.clients.fdsn.mass_downloader - INFO: Client 'GEONET' - Successfully requested availability (0.55 seconds)\n",
      "[2021-11-25 00:47:23,581] - obspy.clients.fdsn.mass_downloader - INFO: Client 'GEONET' - Found 1 stations (1 channels).\n",
      "[2021-11-25 00:47:23,581] - obspy.clients.fdsn.mass_downloader - INFO: Client 'GEONET' - Will attempt to download data from 1 stations.\n",
      "[2021-11-25 00:47:23,581] - obspy.clients.fdsn.mass_downloader - INFO: Client 'GEONET' - Status for 1 time intervals/channels before downloading: NEEDS_DOWNLOADING\n",
      "[2021-11-25 00:47:24,615] - obspy.clients.fdsn.mass_downloader - INFO: Client 'GEONET' - Successfully downloaded 1 channels (of 1)\n",
      "[2021-11-25 00:47:24,656] - obspy.clients.fdsn.mass_downloader - INFO: Client 'GEONET' - Launching basic QC checks...\n",
      "[2021-11-25 00:47:24,674] - obspy.clients.fdsn.mass_downloader - INFO: Client 'GEONET' - Downloaded 0.0 MB [3.73 KB/sec] of data, 0.0 MB of which were discarded afterwards.\n",
      "[2021-11-25 00:47:24,677] - obspy.clients.fdsn.mass_downloader - INFO: Client 'GEONET' - Status for 1 time intervals/channels after downloading: DOWNLOADED\n",
      "[2021-11-25 00:47:24,682] - obspy.clients.fdsn.mass_downloader - INFO: Client 'GEONET' - No station information to download.\n",
      "[2021-11-25 00:47:24,687] - obspy.clients.fdsn.mass_downloader - INFO: ============================== Final report\n",
      "[2021-11-25 00:47:24,688] - obspy.clients.fdsn.mass_downloader - INFO: 0 MiniSEED files [0.0 MB] already existed.\n",
      "[2021-11-25 00:47:24,689] - obspy.clients.fdsn.mass_downloader - INFO: 1 StationXML files [0.0 MB] already existed.\n",
      "[2021-11-25 00:47:24,690] - obspy.clients.fdsn.mass_downloader - INFO: Client 'GEONET' - Acquired 1 MiniSEED files [0.0 MB].\n",
      "[2021-11-25 00:47:24,690] - obspy.clients.fdsn.mass_downloader - INFO: Client 'GEONET' - Acquired 0 StationXML files [0.0 MB].\n",
      "[2021-11-25 00:47:24,690] - obspy.clients.fdsn.mass_downloader - INFO: Downloaded 0.0 MB in total.\n",
      "[2021-11-25 00:47:24,697] - obspy.clients.fdsn.mass_downloader - INFO: Initializing FDSN client(s) for GEONET.\n",
      "[2021-11-25 00:47:24,702] - obspy.clients.fdsn.mass_downloader - INFO: Successfully initialized 1 client(s): GEONET.\n",
      "[2021-11-25 00:47:24,703] - obspy.clients.fdsn.mass_downloader - INFO: Total acquired or preexisting stations: 0\n",
      "[2021-11-25 00:47:24,704] - obspy.clients.fdsn.mass_downloader - INFO: Client 'GEONET' - Requesting unreliable availability.\n"
     ]
    },
    {
     "name": "stdout",
     "output_type": "stream",
     "text": [
      "=================================================================\n",
      "Initiating mass download request.\n"
     ]
    },
    {
     "name": "stderr",
     "output_type": "stream",
     "text": [
      "[2021-11-25 00:47:25,360] - obspy.clients.fdsn.mass_downloader - INFO: Client 'GEONET' - Successfully requested availability (0.66 seconds)\n",
      "[2021-11-25 00:47:25,369] - obspy.clients.fdsn.mass_downloader - INFO: Client 'GEONET' - Found 1 stations (1 channels).\n",
      "[2021-11-25 00:47:25,370] - obspy.clients.fdsn.mass_downloader - INFO: Client 'GEONET' - Will attempt to download data from 1 stations.\n",
      "[2021-11-25 00:47:25,371] - obspy.clients.fdsn.mass_downloader - INFO: Client 'GEONET' - Status for 1 time intervals/channels before downloading: NEEDS_DOWNLOADING\n",
      "[2021-11-25 00:47:26,355] - obspy.clients.fdsn.mass_downloader - INFO: Client 'GEONET' - Successfully downloaded 1 channels (of 1)\n",
      "[2021-11-25 00:47:26,362] - obspy.clients.fdsn.mass_downloader - INFO: Client 'GEONET' - Launching basic QC checks...\n",
      "[2021-11-25 00:47:26,375] - obspy.clients.fdsn.mass_downloader - INFO: Client 'GEONET' - Downloaded 0.0 MB [3.05 KB/sec] of data, 0.0 MB of which were discarded afterwards.\n",
      "[2021-11-25 00:47:26,376] - obspy.clients.fdsn.mass_downloader - INFO: Client 'GEONET' - Status for 1 time intervals/channels after downloading: DOWNLOADED\n",
      "[2021-11-25 00:47:26,382] - obspy.clients.fdsn.mass_downloader - INFO: Client 'GEONET' - No station information to download.\n",
      "[2021-11-25 00:47:26,383] - obspy.clients.fdsn.mass_downloader - INFO: ============================== Final report\n",
      "[2021-11-25 00:47:26,383] - obspy.clients.fdsn.mass_downloader - INFO: 0 MiniSEED files [0.0 MB] already existed.\n",
      "[2021-11-25 00:47:26,383] - obspy.clients.fdsn.mass_downloader - INFO: 1 StationXML files [0.0 MB] already existed.\n",
      "[2021-11-25 00:47:26,384] - obspy.clients.fdsn.mass_downloader - INFO: Client 'GEONET' - Acquired 1 MiniSEED files [0.0 MB].\n",
      "[2021-11-25 00:47:26,385] - obspy.clients.fdsn.mass_downloader - INFO: Client 'GEONET' - Acquired 0 StationXML files [0.0 MB].\n",
      "[2021-11-25 00:47:26,385] - obspy.clients.fdsn.mass_downloader - INFO: Downloaded 0.0 MB in total.\n",
      "[2021-11-25 00:47:26,388] - obspy.clients.fdsn.mass_downloader - INFO: Initializing FDSN client(s) for GEONET.\n",
      "[2021-11-25 00:47:26,395] - obspy.clients.fdsn.mass_downloader - INFO: Successfully initialized 1 client(s): GEONET.\n",
      "[2021-11-25 00:47:26,396] - obspy.clients.fdsn.mass_downloader - INFO: Total acquired or preexisting stations: 0\n",
      "[2021-11-25 00:47:26,396] - obspy.clients.fdsn.mass_downloader - INFO: Client 'GEONET' - Requesting unreliable availability.\n"
     ]
    },
    {
     "name": "stdout",
     "output_type": "stream",
     "text": [
      "=================================================================\n",
      "Initiating mass download request.\n"
     ]
    },
    {
     "name": "stderr",
     "output_type": "stream",
     "text": [
      "[2021-11-25 00:47:27,093] - obspy.clients.fdsn.mass_downloader - INFO: Client 'GEONET' - Successfully requested availability (0.70 seconds)\n",
      "[2021-11-25 00:47:27,094] - obspy.clients.fdsn.mass_downloader - INFO: Client 'GEONET' - Found 1 stations (1 channels).\n",
      "[2021-11-25 00:47:27,094] - obspy.clients.fdsn.mass_downloader - INFO: Client 'GEONET' - Will attempt to download data from 1 stations.\n",
      "[2021-11-25 00:47:27,095] - obspy.clients.fdsn.mass_downloader - INFO: Client 'GEONET' - Status for 1 time intervals/channels before downloading: NEEDS_DOWNLOADING\n",
      "[2021-11-25 00:47:28,067] - obspy.clients.fdsn.mass_downloader - INFO: Client 'GEONET' - Successfully downloaded 1 channels (of 1)\n",
      "[2021-11-25 00:47:28,075] - obspy.clients.fdsn.mass_downloader - INFO: Client 'GEONET' - Launching basic QC checks...\n",
      "[2021-11-25 00:47:28,079] - obspy.clients.fdsn.mass_downloader - INFO: Client 'GEONET' - Downloaded 0.0 MB [4.09 KB/sec] of data, 0.0 MB of which were discarded afterwards.\n",
      "[2021-11-25 00:47:28,079] - obspy.clients.fdsn.mass_downloader - INFO: Client 'GEONET' - Status for 1 time intervals/channels after downloading: DOWNLOADED\n",
      "[2021-11-25 00:47:28,086] - obspy.clients.fdsn.mass_downloader - INFO: Client 'GEONET' - No station information to download.\n",
      "[2021-11-25 00:47:28,089] - obspy.clients.fdsn.mass_downloader - INFO: ============================== Final report\n",
      "[2021-11-25 00:47:28,091] - obspy.clients.fdsn.mass_downloader - INFO: 0 MiniSEED files [0.0 MB] already existed.\n",
      "[2021-11-25 00:47:28,091] - obspy.clients.fdsn.mass_downloader - INFO: 1 StationXML files [0.0 MB] already existed.\n",
      "[2021-11-25 00:47:28,092] - obspy.clients.fdsn.mass_downloader - INFO: Client 'GEONET' - Acquired 1 MiniSEED files [0.0 MB].\n",
      "[2021-11-25 00:47:28,092] - obspy.clients.fdsn.mass_downloader - INFO: Client 'GEONET' - Acquired 0 StationXML files [0.0 MB].\n",
      "[2021-11-25 00:47:28,092] - obspy.clients.fdsn.mass_downloader - INFO: Downloaded 0.0 MB in total.\n",
      "[2021-11-25 00:47:28,095] - obspy.clients.fdsn.mass_downloader - INFO: Initializing FDSN client(s) for GEONET.\n",
      "[2021-11-25 00:47:28,099] - obspy.clients.fdsn.mass_downloader - INFO: Successfully initialized 1 client(s): GEONET.\n",
      "[2021-11-25 00:47:28,100] - obspy.clients.fdsn.mass_downloader - INFO: Total acquired or preexisting stations: 0\n",
      "[2021-11-25 00:47:28,100] - obspy.clients.fdsn.mass_downloader - INFO: Client 'GEONET' - Requesting unreliable availability.\n"
     ]
    },
    {
     "name": "stdout",
     "output_type": "stream",
     "text": [
      "=================================================================\n",
      "Initiating mass download request.\n"
     ]
    },
    {
     "name": "stderr",
     "output_type": "stream",
     "text": [
      "[2021-11-25 00:47:28,700] - obspy.clients.fdsn.mass_downloader - INFO: Client 'GEONET' - Successfully requested availability (0.60 seconds)\n",
      "[2021-11-25 00:47:28,707] - obspy.clients.fdsn.mass_downloader - INFO: Client 'GEONET' - Found 1 stations (1 channels).\n",
      "[2021-11-25 00:47:28,708] - obspy.clients.fdsn.mass_downloader - INFO: Client 'GEONET' - Will attempt to download data from 1 stations.\n",
      "[2021-11-25 00:47:28,710] - obspy.clients.fdsn.mass_downloader - INFO: Client 'GEONET' - Status for 1 time intervals/channels before downloading: NEEDS_DOWNLOADING\n",
      "[2021-11-25 00:47:29,577] - obspy.clients.fdsn.mass_downloader - INFO: Client 'GEONET' - Successfully downloaded 1 channels (of 1)\n",
      "[2021-11-25 00:47:29,586] - obspy.clients.fdsn.mass_downloader - INFO: Client 'GEONET' - Launching basic QC checks...\n",
      "[2021-11-25 00:47:29,608] - obspy.clients.fdsn.mass_downloader - INFO: Client 'GEONET' - Downloaded 0.0 MB [3.46 KB/sec] of data, 0.0 MB of which were discarded afterwards.\n",
      "[2021-11-25 00:47:29,610] - obspy.clients.fdsn.mass_downloader - INFO: Client 'GEONET' - Status for 1 time intervals/channels after downloading: DOWNLOADED\n",
      "[2021-11-25 00:47:29,622] - obspy.clients.fdsn.mass_downloader - INFO: Client 'GEONET' - No station information to download.\n",
      "[2021-11-25 00:47:29,623] - obspy.clients.fdsn.mass_downloader - INFO: ============================== Final report\n",
      "[2021-11-25 00:47:29,624] - obspy.clients.fdsn.mass_downloader - INFO: 0 MiniSEED files [0.0 MB] already existed.\n",
      "[2021-11-25 00:47:29,625] - obspy.clients.fdsn.mass_downloader - INFO: 1 StationXML files [0.0 MB] already existed.\n",
      "[2021-11-25 00:47:29,626] - obspy.clients.fdsn.mass_downloader - INFO: Client 'GEONET' - Acquired 1 MiniSEED files [0.0 MB].\n",
      "[2021-11-25 00:47:29,626] - obspy.clients.fdsn.mass_downloader - INFO: Client 'GEONET' - Acquired 0 StationXML files [0.0 MB].\n",
      "[2021-11-25 00:47:29,627] - obspy.clients.fdsn.mass_downloader - INFO: Downloaded 0.0 MB in total.\n",
      "[2021-11-25 00:47:29,641] - obspy.clients.fdsn.mass_downloader - INFO: Initializing FDSN client(s) for GEONET.\n",
      "[2021-11-25 00:47:29,663] - obspy.clients.fdsn.mass_downloader - INFO: Successfully initialized 1 client(s): GEONET.\n",
      "[2021-11-25 00:47:29,671] - obspy.clients.fdsn.mass_downloader - INFO: Total acquired or preexisting stations: 0\n",
      "[2021-11-25 00:47:29,673] - obspy.clients.fdsn.mass_downloader - INFO: Client 'GEONET' - Requesting unreliable availability.\n"
     ]
    },
    {
     "name": "stdout",
     "output_type": "stream",
     "text": [
      "=================================================================\n",
      "Initiating mass download request.\n"
     ]
    },
    {
     "name": "stderr",
     "output_type": "stream",
     "text": [
      "[2021-11-25 00:47:30,252] - obspy.clients.fdsn.mass_downloader - INFO: Client 'GEONET' - Successfully requested availability (0.58 seconds)\n",
      "[2021-11-25 00:47:30,282] - obspy.clients.fdsn.mass_downloader - INFO: Client 'GEONET' - Found 1 stations (1 channels).\n",
      "[2021-11-25 00:47:30,286] - obspy.clients.fdsn.mass_downloader - INFO: Client 'GEONET' - Will attempt to download data from 1 stations.\n",
      "[2021-11-25 00:47:30,290] - obspy.clients.fdsn.mass_downloader - INFO: Client 'GEONET' - Status for 1 time intervals/channels before downloading: NEEDS_DOWNLOADING\n",
      "[2021-11-25 00:47:31,331] - obspy.clients.fdsn.mass_downloader - INFO: Client 'GEONET' - Successfully downloaded 1 channels (of 1)\n",
      "[2021-11-25 00:47:31,336] - obspy.clients.fdsn.mass_downloader - INFO: Client 'GEONET' - Launching basic QC checks...\n",
      "[2021-11-25 00:47:31,341] - obspy.clients.fdsn.mass_downloader - INFO: Client 'GEONET' - Downloaded 0.0 MB [3.46 KB/sec] of data, 0.0 MB of which were discarded afterwards.\n",
      "[2021-11-25 00:47:31,341] - obspy.clients.fdsn.mass_downloader - INFO: Client 'GEONET' - Status for 1 time intervals/channels after downloading: DOWNLOADED\n",
      "[2021-11-25 00:47:31,344] - obspy.clients.fdsn.mass_downloader - INFO: Client 'GEONET' - No station information to download.\n",
      "[2021-11-25 00:47:31,345] - obspy.clients.fdsn.mass_downloader - INFO: ============================== Final report\n",
      "[2021-11-25 00:47:31,346] - obspy.clients.fdsn.mass_downloader - INFO: 0 MiniSEED files [0.0 MB] already existed.\n",
      "[2021-11-25 00:47:31,346] - obspy.clients.fdsn.mass_downloader - INFO: 1 StationXML files [0.0 MB] already existed.\n",
      "[2021-11-25 00:47:31,347] - obspy.clients.fdsn.mass_downloader - INFO: Client 'GEONET' - Acquired 1 MiniSEED files [0.0 MB].\n",
      "[2021-11-25 00:47:31,347] - obspy.clients.fdsn.mass_downloader - INFO: Client 'GEONET' - Acquired 0 StationXML files [0.0 MB].\n",
      "[2021-11-25 00:47:31,348] - obspy.clients.fdsn.mass_downloader - INFO: Downloaded 0.0 MB in total.\n",
      "[2021-11-25 00:47:31,354] - obspy.clients.fdsn.mass_downloader - INFO: Initializing FDSN client(s) for GEONET.\n",
      "[2021-11-25 00:47:31,359] - obspy.clients.fdsn.mass_downloader - INFO: Successfully initialized 1 client(s): GEONET.\n",
      "[2021-11-25 00:47:31,360] - obspy.clients.fdsn.mass_downloader - INFO: Total acquired or preexisting stations: 0\n",
      "[2021-11-25 00:47:31,361] - obspy.clients.fdsn.mass_downloader - INFO: Client 'GEONET' - Requesting unreliable availability.\n"
     ]
    },
    {
     "name": "stdout",
     "output_type": "stream",
     "text": [
      "=================================================================\n",
      "Initiating mass download request.\n"
     ]
    },
    {
     "name": "stderr",
     "output_type": "stream",
     "text": [
      "[2021-11-25 00:47:32,006] - obspy.clients.fdsn.mass_downloader - INFO: Client 'GEONET' - Successfully requested availability (0.64 seconds)\n",
      "[2021-11-25 00:47:32,007] - obspy.clients.fdsn.mass_downloader - INFO: Client 'GEONET' - Found 1 stations (1 channels).\n",
      "[2021-11-25 00:47:32,007] - obspy.clients.fdsn.mass_downloader - INFO: Client 'GEONET' - Will attempt to download data from 1 stations.\n",
      "[2021-11-25 00:47:32,008] - obspy.clients.fdsn.mass_downloader - INFO: Client 'GEONET' - Status for 1 time intervals/channels before downloading: NEEDS_DOWNLOADING\n",
      "[2021-11-25 00:47:32,967] - obspy.clients.fdsn.mass_downloader - INFO: Client 'GEONET' - Successfully downloaded 1 channels (of 1)\n",
      "[2021-11-25 00:47:32,971] - obspy.clients.fdsn.mass_downloader - INFO: Client 'GEONET' - Launching basic QC checks...\n",
      "[2021-11-25 00:47:32,975] - obspy.clients.fdsn.mass_downloader - INFO: Client 'GEONET' - Downloaded 0.0 MB [3.64 KB/sec] of data, 0.0 MB of which were discarded afterwards.\n",
      "[2021-11-25 00:47:32,976] - obspy.clients.fdsn.mass_downloader - INFO: Client 'GEONET' - Status for 1 time intervals/channels after downloading: DOWNLOADED\n",
      "[2021-11-25 00:47:32,979] - obspy.clients.fdsn.mass_downloader - INFO: Client 'GEONET' - No station information to download.\n",
      "[2021-11-25 00:47:32,980] - obspy.clients.fdsn.mass_downloader - INFO: ============================== Final report\n",
      "[2021-11-25 00:47:32,980] - obspy.clients.fdsn.mass_downloader - INFO: 0 MiniSEED files [0.0 MB] already existed.\n",
      "[2021-11-25 00:47:32,981] - obspy.clients.fdsn.mass_downloader - INFO: 1 StationXML files [0.0 MB] already existed.\n",
      "[2021-11-25 00:47:32,981] - obspy.clients.fdsn.mass_downloader - INFO: Client 'GEONET' - Acquired 1 MiniSEED files [0.0 MB].\n",
      "[2021-11-25 00:47:32,982] - obspy.clients.fdsn.mass_downloader - INFO: Client 'GEONET' - Acquired 0 StationXML files [0.0 MB].\n",
      "[2021-11-25 00:47:32,982] - obspy.clients.fdsn.mass_downloader - INFO: Downloaded 0.0 MB in total.\n",
      "[2021-11-25 00:47:32,985] - obspy.clients.fdsn.mass_downloader - INFO: Initializing FDSN client(s) for GEONET.\n",
      "[2021-11-25 00:47:32,988] - obspy.clients.fdsn.mass_downloader - INFO: Successfully initialized 1 client(s): GEONET.\n",
      "[2021-11-25 00:47:32,989] - obspy.clients.fdsn.mass_downloader - INFO: Total acquired or preexisting stations: 0\n",
      "[2021-11-25 00:47:32,989] - obspy.clients.fdsn.mass_downloader - INFO: Client 'GEONET' - Requesting unreliable availability.\n"
     ]
    },
    {
     "name": "stdout",
     "output_type": "stream",
     "text": [
      "=================================================================\n",
      "Initiating mass download request.\n"
     ]
    },
    {
     "name": "stderr",
     "output_type": "stream",
     "text": [
      "[2021-11-25 00:47:33,609] - obspy.clients.fdsn.mass_downloader - INFO: Client 'GEONET' - Successfully requested availability (0.62 seconds)\n",
      "[2021-11-25 00:47:33,613] - obspy.clients.fdsn.mass_downloader - INFO: Client 'GEONET' - Found 1 stations (1 channels).\n",
      "[2021-11-25 00:47:33,616] - obspy.clients.fdsn.mass_downloader - INFO: Client 'GEONET' - Will attempt to download data from 1 stations.\n",
      "[2021-11-25 00:47:33,617] - obspy.clients.fdsn.mass_downloader - INFO: Client 'GEONET' - Status for 1 time intervals/channels before downloading: NEEDS_DOWNLOADING\n",
      "[2021-11-25 00:47:34,491] - obspy.clients.fdsn.mass_downloader - INFO: Client 'GEONET' - Successfully downloaded 1 channels (of 1)\n",
      "[2021-11-25 00:47:34,495] - obspy.clients.fdsn.mass_downloader - INFO: Client 'GEONET' - Launching basic QC checks...\n",
      "[2021-11-25 00:47:34,500] - obspy.clients.fdsn.mass_downloader - INFO: Client 'GEONET' - Downloaded 0.0 MB [4.02 KB/sec] of data, 0.0 MB of which were discarded afterwards.\n",
      "[2021-11-25 00:47:34,501] - obspy.clients.fdsn.mass_downloader - INFO: Client 'GEONET' - Status for 1 time intervals/channels after downloading: DOWNLOADED\n",
      "[2021-11-25 00:47:34,510] - obspy.clients.fdsn.mass_downloader - INFO: Client 'GEONET' - No station information to download.\n",
      "[2021-11-25 00:47:34,512] - obspy.clients.fdsn.mass_downloader - INFO: ============================== Final report\n",
      "[2021-11-25 00:47:34,513] - obspy.clients.fdsn.mass_downloader - INFO: 0 MiniSEED files [0.0 MB] already existed.\n",
      "[2021-11-25 00:47:34,514] - obspy.clients.fdsn.mass_downloader - INFO: 1 StationXML files [0.0 MB] already existed.\n",
      "[2021-11-25 00:47:34,514] - obspy.clients.fdsn.mass_downloader - INFO: Client 'GEONET' - Acquired 1 MiniSEED files [0.0 MB].\n",
      "[2021-11-25 00:47:34,515] - obspy.clients.fdsn.mass_downloader - INFO: Client 'GEONET' - Acquired 0 StationXML files [0.0 MB].\n",
      "[2021-11-25 00:47:34,515] - obspy.clients.fdsn.mass_downloader - INFO: Downloaded 0.0 MB in total.\n",
      "[2021-11-25 00:47:34,518] - obspy.clients.fdsn.mass_downloader - INFO: Initializing FDSN client(s) for GEONET.\n",
      "[2021-11-25 00:47:34,529] - obspy.clients.fdsn.mass_downloader - INFO: Successfully initialized 1 client(s): GEONET.\n",
      "[2021-11-25 00:47:34,532] - obspy.clients.fdsn.mass_downloader - INFO: Total acquired or preexisting stations: 0\n",
      "[2021-11-25 00:47:34,532] - obspy.clients.fdsn.mass_downloader - INFO: Client 'GEONET' - Requesting unreliable availability.\n"
     ]
    },
    {
     "name": "stdout",
     "output_type": "stream",
     "text": [
      "=================================================================\n",
      "Initiating mass download request.\n"
     ]
    },
    {
     "name": "stderr",
     "output_type": "stream",
     "text": [
      "[2021-11-25 00:47:35,101] - obspy.clients.fdsn.mass_downloader - INFO: Client 'GEONET' - Successfully requested availability (0.57 seconds)\n",
      "[2021-11-25 00:47:35,103] - obspy.clients.fdsn.mass_downloader - INFO: Client 'GEONET' - Found 1 stations (1 channels).\n",
      "[2021-11-25 00:47:35,104] - obspy.clients.fdsn.mass_downloader - INFO: Client 'GEONET' - Will attempt to download data from 1 stations.\n",
      "[2021-11-25 00:47:35,104] - obspy.clients.fdsn.mass_downloader - INFO: Client 'GEONET' - Status for 1 time intervals/channels before downloading: NEEDS_DOWNLOADING\n",
      "[2021-11-25 00:47:36,021] - obspy.clients.fdsn.mass_downloader - INFO: Client 'GEONET' - Successfully downloaded 1 channels (of 1)\n",
      "[2021-11-25 00:47:36,025] - obspy.clients.fdsn.mass_downloader - INFO: Client 'GEONET' - Launching basic QC checks...\n",
      "[2021-11-25 00:47:36,036] - obspy.clients.fdsn.mass_downloader - INFO: Client 'GEONET' - Downloaded 0.0 MB [4.93 KB/sec] of data, 0.0 MB of which were discarded afterwards.\n",
      "[2021-11-25 00:47:36,040] - obspy.clients.fdsn.mass_downloader - INFO: Client 'GEONET' - Status for 1 time intervals/channels after downloading: DOWNLOADED\n",
      "[2021-11-25 00:47:36,046] - obspy.clients.fdsn.mass_downloader - INFO: Client 'GEONET' - No station information to download.\n",
      "[2021-11-25 00:47:36,047] - obspy.clients.fdsn.mass_downloader - INFO: ============================== Final report\n",
      "[2021-11-25 00:47:36,048] - obspy.clients.fdsn.mass_downloader - INFO: 0 MiniSEED files [0.0 MB] already existed.\n",
      "[2021-11-25 00:47:36,049] - obspy.clients.fdsn.mass_downloader - INFO: 1 StationXML files [0.0 MB] already existed.\n",
      "[2021-11-25 00:47:36,050] - obspy.clients.fdsn.mass_downloader - INFO: Client 'GEONET' - Acquired 1 MiniSEED files [0.0 MB].\n",
      "[2021-11-25 00:47:36,050] - obspy.clients.fdsn.mass_downloader - INFO: Client 'GEONET' - Acquired 0 StationXML files [0.0 MB].\n",
      "[2021-11-25 00:47:36,051] - obspy.clients.fdsn.mass_downloader - INFO: Downloaded 0.0 MB in total.\n",
      "[2021-11-25 00:47:36,058] - obspy.clients.fdsn.mass_downloader - INFO: Initializing FDSN client(s) for GEONET.\n",
      "[2021-11-25 00:47:36,064] - obspy.clients.fdsn.mass_downloader - INFO: Successfully initialized 1 client(s): GEONET.\n",
      "[2021-11-25 00:47:36,069] - obspy.clients.fdsn.mass_downloader - INFO: Total acquired or preexisting stations: 0\n",
      "[2021-11-25 00:47:36,071] - obspy.clients.fdsn.mass_downloader - INFO: Client 'GEONET' - Requesting unreliable availability.\n"
     ]
    },
    {
     "name": "stdout",
     "output_type": "stream",
     "text": [
      "=================================================================\n",
      "Initiating mass download request.\n"
     ]
    },
    {
     "name": "stderr",
     "output_type": "stream",
     "text": [
      "[2021-11-25 00:47:36,658] - obspy.clients.fdsn.mass_downloader - INFO: Client 'GEONET' - Successfully requested availability (0.59 seconds)\n",
      "[2021-11-25 00:47:36,659] - obspy.clients.fdsn.mass_downloader - INFO: Client 'GEONET' - Found 1 stations (1 channels).\n",
      "[2021-11-25 00:47:36,660] - obspy.clients.fdsn.mass_downloader - INFO: Client 'GEONET' - Will attempt to download data from 1 stations.\n",
      "[2021-11-25 00:47:36,660] - obspy.clients.fdsn.mass_downloader - INFO: Client 'GEONET' - Status for 1 time intervals/channels before downloading: NEEDS_DOWNLOADING\n",
      "[2021-11-25 00:47:37,586] - obspy.clients.fdsn.mass_downloader - INFO: Client 'GEONET' - Successfully downloaded 1 channels (of 1)\n",
      "[2021-11-25 00:47:37,588] - obspy.clients.fdsn.mass_downloader - INFO: Client 'GEONET' - Launching basic QC checks...\n",
      "[2021-11-25 00:47:37,597] - obspy.clients.fdsn.mass_downloader - INFO: Client 'GEONET' - Downloaded 0.0 MB [3.78 KB/sec] of data, 0.0 MB of which were discarded afterwards.\n",
      "[2021-11-25 00:47:37,597] - obspy.clients.fdsn.mass_downloader - INFO: Client 'GEONET' - Status for 1 time intervals/channels after downloading: DOWNLOADED\n",
      "[2021-11-25 00:47:37,599] - obspy.clients.fdsn.mass_downloader - INFO: Client 'GEONET' - No station information to download.\n",
      "[2021-11-25 00:47:37,600] - obspy.clients.fdsn.mass_downloader - INFO: ============================== Final report\n",
      "[2021-11-25 00:47:37,600] - obspy.clients.fdsn.mass_downloader - INFO: 0 MiniSEED files [0.0 MB] already existed.\n",
      "[2021-11-25 00:47:37,601] - obspy.clients.fdsn.mass_downloader - INFO: 1 StationXML files [0.0 MB] already existed.\n",
      "[2021-11-25 00:47:37,601] - obspy.clients.fdsn.mass_downloader - INFO: Client 'GEONET' - Acquired 1 MiniSEED files [0.0 MB].\n",
      "[2021-11-25 00:47:37,601] - obspy.clients.fdsn.mass_downloader - INFO: Client 'GEONET' - Acquired 0 StationXML files [0.0 MB].\n",
      "[2021-11-25 00:47:37,602] - obspy.clients.fdsn.mass_downloader - INFO: Downloaded 0.0 MB in total.\n",
      "[2021-11-25 00:47:37,604] - obspy.clients.fdsn.mass_downloader - INFO: Initializing FDSN client(s) for GEONET.\n",
      "[2021-11-25 00:47:37,611] - obspy.clients.fdsn.mass_downloader - INFO: Successfully initialized 1 client(s): GEONET.\n",
      "[2021-11-25 00:47:37,612] - obspy.clients.fdsn.mass_downloader - INFO: Total acquired or preexisting stations: 0\n",
      "[2021-11-25 00:47:37,612] - obspy.clients.fdsn.mass_downloader - INFO: Client 'GEONET' - Requesting unreliable availability.\n"
     ]
    },
    {
     "name": "stdout",
     "output_type": "stream",
     "text": [
      "=================================================================\n",
      "Initiating mass download request.\n"
     ]
    },
    {
     "name": "stderr",
     "output_type": "stream",
     "text": [
      "[2021-11-25 00:47:38,246] - obspy.clients.fdsn.mass_downloader - INFO: Client 'GEONET' - Successfully requested availability (0.63 seconds)\n",
      "[2021-11-25 00:47:38,249] - obspy.clients.fdsn.mass_downloader - INFO: Client 'GEONET' - Found 1 stations (1 channels).\n",
      "[2021-11-25 00:47:38,250] - obspy.clients.fdsn.mass_downloader - INFO: Client 'GEONET' - Will attempt to download data from 1 stations.\n",
      "[2021-11-25 00:47:38,250] - obspy.clients.fdsn.mass_downloader - INFO: Client 'GEONET' - Status for 1 time intervals/channels before downloading: NEEDS_DOWNLOADING\n",
      "[2021-11-25 00:47:39,842] - obspy.clients.fdsn.mass_downloader - INFO: Client 'GEONET' - Successfully downloaded 1 channels (of 1)\n",
      "[2021-11-25 00:47:39,845] - obspy.clients.fdsn.mass_downloader - INFO: Client 'GEONET' - Launching basic QC checks...\n",
      "[2021-11-25 00:47:39,853] - obspy.clients.fdsn.mass_downloader - INFO: Client 'GEONET' - Downloaded 0.0 MB [3.46 KB/sec] of data, 0.0 MB of which were discarded afterwards.\n",
      "[2021-11-25 00:47:39,853] - obspy.clients.fdsn.mass_downloader - INFO: Client 'GEONET' - Status for 1 time intervals/channels after downloading: DOWNLOADED\n",
      "[2021-11-25 00:47:39,855] - obspy.clients.fdsn.mass_downloader - INFO: Client 'GEONET' - No station information to download.\n",
      "[2021-11-25 00:47:39,856] - obspy.clients.fdsn.mass_downloader - INFO: ============================== Final report\n",
      "[2021-11-25 00:47:39,856] - obspy.clients.fdsn.mass_downloader - INFO: 0 MiniSEED files [0.0 MB] already existed.\n",
      "[2021-11-25 00:47:39,857] - obspy.clients.fdsn.mass_downloader - INFO: 1 StationXML files [0.0 MB] already existed.\n",
      "[2021-11-25 00:47:39,857] - obspy.clients.fdsn.mass_downloader - INFO: Client 'GEONET' - Acquired 1 MiniSEED files [0.0 MB].\n",
      "[2021-11-25 00:47:39,857] - obspy.clients.fdsn.mass_downloader - INFO: Client 'GEONET' - Acquired 0 StationXML files [0.0 MB].\n",
      "[2021-11-25 00:47:39,857] - obspy.clients.fdsn.mass_downloader - INFO: Downloaded 0.0 MB in total.\n",
      "[2021-11-25 00:47:39,861] - obspy.clients.fdsn.mass_downloader - INFO: Initializing FDSN client(s) for GEONET.\n",
      "[2021-11-25 00:47:39,865] - obspy.clients.fdsn.mass_downloader - INFO: Successfully initialized 1 client(s): GEONET.\n",
      "[2021-11-25 00:47:39,865] - obspy.clients.fdsn.mass_downloader - INFO: Total acquired or preexisting stations: 0\n",
      "[2021-11-25 00:47:39,865] - obspy.clients.fdsn.mass_downloader - INFO: Client 'GEONET' - Requesting unreliable availability.\n"
     ]
    },
    {
     "name": "stdout",
     "output_type": "stream",
     "text": [
      "=================================================================\n",
      "Initiating mass download request.\n"
     ]
    },
    {
     "name": "stderr",
     "output_type": "stream",
     "text": [
      "[2021-11-25 00:47:40,481] - obspy.clients.fdsn.mass_downloader - INFO: Client 'GEONET' - Successfully requested availability (0.61 seconds)\n",
      "[2021-11-25 00:47:40,489] - obspy.clients.fdsn.mass_downloader - INFO: Client 'GEONET' - Found 1 stations (1 channels).\n",
      "[2021-11-25 00:47:40,490] - obspy.clients.fdsn.mass_downloader - INFO: Client 'GEONET' - Will attempt to download data from 1 stations.\n",
      "[2021-11-25 00:47:40,491] - obspy.clients.fdsn.mass_downloader - INFO: Client 'GEONET' - Status for 1 time intervals/channels before downloading: NEEDS_DOWNLOADING\n",
      "[2021-11-25 00:47:41,477] - obspy.clients.fdsn.mass_downloader - INFO: Client 'GEONET' - Successfully downloaded 1 channels (of 1)\n",
      "[2021-11-25 00:47:41,494] - obspy.clients.fdsn.mass_downloader - INFO: Client 'GEONET' - Launching basic QC checks...\n",
      "[2021-11-25 00:47:41,511] - obspy.clients.fdsn.mass_downloader - INFO: Client 'GEONET' - Downloaded 0.0 MB [3.00 KB/sec] of data, 0.0 MB of which were discarded afterwards.\n",
      "[2021-11-25 00:47:41,516] - obspy.clients.fdsn.mass_downloader - INFO: Client 'GEONET' - Status for 1 time intervals/channels after downloading: DOWNLOADED\n",
      "[2021-11-25 00:47:41,545] - obspy.clients.fdsn.mass_downloader - INFO: Client 'GEONET' - No station information to download.\n",
      "[2021-11-25 00:47:41,551] - obspy.clients.fdsn.mass_downloader - INFO: ============================== Final report\n",
      "[2021-11-25 00:47:41,555] - obspy.clients.fdsn.mass_downloader - INFO: 0 MiniSEED files [0.0 MB] already existed.\n",
      "[2021-11-25 00:47:41,556] - obspy.clients.fdsn.mass_downloader - INFO: 1 StationXML files [0.0 MB] already existed.\n",
      "[2021-11-25 00:47:41,564] - obspy.clients.fdsn.mass_downloader - INFO: Client 'GEONET' - Acquired 1 MiniSEED files [0.0 MB].\n",
      "[2021-11-25 00:47:41,564] - obspy.clients.fdsn.mass_downloader - INFO: Client 'GEONET' - Acquired 0 StationXML files [0.0 MB].\n",
      "[2021-11-25 00:47:41,565] - obspy.clients.fdsn.mass_downloader - INFO: Downloaded 0.0 MB in total.\n",
      "[2021-11-25 00:47:41,577] - obspy.clients.fdsn.mass_downloader - INFO: Initializing FDSN client(s) for GEONET.\n",
      "[2021-11-25 00:47:41,595] - obspy.clients.fdsn.mass_downloader - INFO: Successfully initialized 1 client(s): GEONET.\n",
      "[2021-11-25 00:47:41,603] - obspy.clients.fdsn.mass_downloader - INFO: Total acquired or preexisting stations: 0\n",
      "[2021-11-25 00:47:41,605] - obspy.clients.fdsn.mass_downloader - INFO: Client 'GEONET' - Requesting unreliable availability.\n"
     ]
    },
    {
     "name": "stdout",
     "output_type": "stream",
     "text": [
      "=================================================================\n",
      "Initiating mass download request.\n"
     ]
    },
    {
     "name": "stderr",
     "output_type": "stream",
     "text": [
      "[2021-11-25 00:47:42,190] - obspy.clients.fdsn.mass_downloader - INFO: Client 'GEONET' - Successfully requested availability (0.58 seconds)\n",
      "[2021-11-25 00:47:42,192] - obspy.clients.fdsn.mass_downloader - INFO: Client 'GEONET' - Found 1 stations (1 channels).\n",
      "[2021-11-25 00:47:42,194] - obspy.clients.fdsn.mass_downloader - INFO: Client 'GEONET' - Will attempt to download data from 1 stations.\n",
      "[2021-11-25 00:47:42,197] - obspy.clients.fdsn.mass_downloader - INFO: Client 'GEONET' - Status for 1 time intervals/channels before downloading: NEEDS_DOWNLOADING\n",
      "[2021-11-25 00:47:43,266] - obspy.clients.fdsn.mass_downloader - INFO: Client 'GEONET' - Successfully downloaded 1 channels (of 1)\n",
      "[2021-11-25 00:47:43,273] - obspy.clients.fdsn.mass_downloader - INFO: Client 'GEONET' - Launching basic QC checks...\n",
      "[2021-11-25 00:47:43,282] - obspy.clients.fdsn.mass_downloader - INFO: Client 'GEONET' - Downloaded 0.0 MB [3.73 KB/sec] of data, 0.0 MB of which were discarded afterwards.\n",
      "[2021-11-25 00:47:43,282] - obspy.clients.fdsn.mass_downloader - INFO: Client 'GEONET' - Status for 1 time intervals/channels after downloading: DOWNLOADED\n",
      "[2021-11-25 00:47:43,287] - obspy.clients.fdsn.mass_downloader - INFO: Client 'GEONET' - No station information to download.\n",
      "[2021-11-25 00:47:43,289] - obspy.clients.fdsn.mass_downloader - INFO: ============================== Final report\n",
      "[2021-11-25 00:47:43,289] - obspy.clients.fdsn.mass_downloader - INFO: 0 MiniSEED files [0.0 MB] already existed.\n",
      "[2021-11-25 00:47:43,289] - obspy.clients.fdsn.mass_downloader - INFO: 1 StationXML files [0.0 MB] already existed.\n",
      "[2021-11-25 00:47:43,290] - obspy.clients.fdsn.mass_downloader - INFO: Client 'GEONET' - Acquired 1 MiniSEED files [0.0 MB].\n",
      "[2021-11-25 00:47:43,290] - obspy.clients.fdsn.mass_downloader - INFO: Client 'GEONET' - Acquired 0 StationXML files [0.0 MB].\n",
      "[2021-11-25 00:47:43,290] - obspy.clients.fdsn.mass_downloader - INFO: Downloaded 0.0 MB in total.\n",
      "[2021-11-25 00:47:43,293] - obspy.clients.fdsn.mass_downloader - INFO: Initializing FDSN client(s) for GEONET.\n",
      "[2021-11-25 00:47:43,300] - obspy.clients.fdsn.mass_downloader - INFO: Successfully initialized 1 client(s): GEONET.\n",
      "[2021-11-25 00:47:43,301] - obspy.clients.fdsn.mass_downloader - INFO: Total acquired or preexisting stations: 0\n",
      "[2021-11-25 00:47:43,301] - obspy.clients.fdsn.mass_downloader - INFO: Client 'GEONET' - Requesting unreliable availability.\n"
     ]
    },
    {
     "name": "stdout",
     "output_type": "stream",
     "text": [
      "=================================================================\n",
      "Initiating mass download request.\n"
     ]
    },
    {
     "name": "stderr",
     "output_type": "stream",
     "text": [
      "[2021-11-25 00:47:43,862] - obspy.clients.fdsn.mass_downloader - INFO: Client 'GEONET' - Successfully requested availability (0.56 seconds)\n",
      "[2021-11-25 00:47:43,865] - obspy.clients.fdsn.mass_downloader - INFO: Client 'GEONET' - Found 1 stations (1 channels).\n",
      "[2021-11-25 00:47:43,865] - obspy.clients.fdsn.mass_downloader - INFO: Client 'GEONET' - Will attempt to download data from 1 stations.\n",
      "[2021-11-25 00:47:43,866] - obspy.clients.fdsn.mass_downloader - INFO: Client 'GEONET' - Status for 1 time intervals/channels before downloading: NEEDS_DOWNLOADING\n",
      "[2021-11-25 00:47:44,763] - obspy.clients.fdsn.mass_downloader - INFO: Client 'GEONET' - Successfully downloaded 1 channels (of 1)\n",
      "[2021-11-25 00:47:44,774] - obspy.clients.fdsn.mass_downloader - INFO: Client 'GEONET' - Launching basic QC checks...\n",
      "[2021-11-25 00:47:44,809] - obspy.clients.fdsn.mass_downloader - INFO: Client 'GEONET' - Downloaded 0.0 MB [3.32 KB/sec] of data, 0.0 MB of which were discarded afterwards.\n",
      "[2021-11-25 00:47:44,811] - obspy.clients.fdsn.mass_downloader - INFO: Client 'GEONET' - Status for 1 time intervals/channels after downloading: DOWNLOADED\n",
      "[2021-11-25 00:47:44,815] - obspy.clients.fdsn.mass_downloader - INFO: Client 'GEONET' - No station information to download.\n",
      "[2021-11-25 00:47:44,819] - obspy.clients.fdsn.mass_downloader - INFO: ============================== Final report\n",
      "[2021-11-25 00:47:44,821] - obspy.clients.fdsn.mass_downloader - INFO: 0 MiniSEED files [0.0 MB] already existed.\n",
      "[2021-11-25 00:47:44,821] - obspy.clients.fdsn.mass_downloader - INFO: 1 StationXML files [0.0 MB] already existed.\n",
      "[2021-11-25 00:47:44,823] - obspy.clients.fdsn.mass_downloader - INFO: Client 'GEONET' - Acquired 1 MiniSEED files [0.0 MB].\n",
      "[2021-11-25 00:47:44,823] - obspy.clients.fdsn.mass_downloader - INFO: Client 'GEONET' - Acquired 0 StationXML files [0.0 MB].\n",
      "[2021-11-25 00:47:44,824] - obspy.clients.fdsn.mass_downloader - INFO: Downloaded 0.0 MB in total.\n",
      "[2021-11-25 00:47:44,829] - obspy.clients.fdsn.mass_downloader - INFO: Initializing FDSN client(s) for GEONET.\n",
      "[2021-11-25 00:47:44,834] - obspy.clients.fdsn.mass_downloader - INFO: Successfully initialized 1 client(s): GEONET.\n",
      "[2021-11-25 00:47:44,837] - obspy.clients.fdsn.mass_downloader - INFO: Total acquired or preexisting stations: 0\n",
      "[2021-11-25 00:47:44,837] - obspy.clients.fdsn.mass_downloader - INFO: Client 'GEONET' - Requesting unreliable availability.\n"
     ]
    },
    {
     "name": "stdout",
     "output_type": "stream",
     "text": [
      "=================================================================\n",
      "Initiating mass download request.\n"
     ]
    },
    {
     "name": "stderr",
     "output_type": "stream",
     "text": [
      "[2021-11-25 00:47:45,405] - obspy.clients.fdsn.mass_downloader - INFO: Client 'GEONET' - Successfully requested availability (0.57 seconds)\n",
      "[2021-11-25 00:47:45,410] - obspy.clients.fdsn.mass_downloader - INFO: Client 'GEONET' - Found 1 stations (1 channels).\n",
      "[2021-11-25 00:47:45,410] - obspy.clients.fdsn.mass_downloader - INFO: Client 'GEONET' - Will attempt to download data from 1 stations.\n",
      "[2021-11-25 00:47:45,411] - obspy.clients.fdsn.mass_downloader - INFO: Client 'GEONET' - Status for 1 time intervals/channels before downloading: NEEDS_DOWNLOADING\n",
      "[2021-11-25 00:47:46,386] - obspy.clients.fdsn.mass_downloader - INFO: Client 'GEONET' - Successfully downloaded 1 channels (of 1)\n",
      "[2021-11-25 00:47:46,393] - obspy.clients.fdsn.mass_downloader - INFO: Client 'GEONET' - Launching basic QC checks...\n",
      "[2021-11-25 00:47:46,402] - obspy.clients.fdsn.mass_downloader - INFO: Client 'GEONET' - Downloaded 0.0 MB [4.10 KB/sec] of data, 0.0 MB of which were discarded afterwards.\n",
      "[2021-11-25 00:47:46,403] - obspy.clients.fdsn.mass_downloader - INFO: Client 'GEONET' - Status for 1 time intervals/channels after downloading: DOWNLOADED\n",
      "[2021-11-25 00:47:46,406] - obspy.clients.fdsn.mass_downloader - INFO: Client 'GEONET' - No station information to download.\n",
      "[2021-11-25 00:47:46,407] - obspy.clients.fdsn.mass_downloader - INFO: ============================== Final report\n",
      "[2021-11-25 00:47:46,407] - obspy.clients.fdsn.mass_downloader - INFO: 0 MiniSEED files [0.0 MB] already existed.\n",
      "[2021-11-25 00:47:46,407] - obspy.clients.fdsn.mass_downloader - INFO: 1 StationXML files [0.0 MB] already existed.\n",
      "[2021-11-25 00:47:46,408] - obspy.clients.fdsn.mass_downloader - INFO: Client 'GEONET' - Acquired 1 MiniSEED files [0.0 MB].\n",
      "[2021-11-25 00:47:46,408] - obspy.clients.fdsn.mass_downloader - INFO: Client 'GEONET' - Acquired 0 StationXML files [0.0 MB].\n",
      "[2021-11-25 00:47:46,408] - obspy.clients.fdsn.mass_downloader - INFO: Downloaded 0.0 MB in total.\n",
      "[2021-11-25 00:47:46,414] - obspy.clients.fdsn.mass_downloader - INFO: Initializing FDSN client(s) for GEONET.\n",
      "[2021-11-25 00:47:46,417] - obspy.clients.fdsn.mass_downloader - INFO: Successfully initialized 1 client(s): GEONET.\n",
      "[2021-11-25 00:47:46,418] - obspy.clients.fdsn.mass_downloader - INFO: Total acquired or preexisting stations: 0\n",
      "[2021-11-25 00:47:46,418] - obspy.clients.fdsn.mass_downloader - INFO: Client 'GEONET' - Requesting unreliable availability.\n"
     ]
    },
    {
     "name": "stdout",
     "output_type": "stream",
     "text": [
      "=================================================================\n",
      "Initiating mass download request.\n"
     ]
    },
    {
     "name": "stderr",
     "output_type": "stream",
     "text": [
      "[2021-11-25 00:47:46,943] - obspy.clients.fdsn.mass_downloader - INFO: Client 'GEONET' - Successfully requested availability (0.52 seconds)\n",
      "[2021-11-25 00:47:46,944] - obspy.clients.fdsn.mass_downloader - INFO: Client 'GEONET' - Found 1 stations (1 channels).\n",
      "[2021-11-25 00:47:46,944] - obspy.clients.fdsn.mass_downloader - INFO: Client 'GEONET' - Will attempt to download data from 1 stations.\n",
      "[2021-11-25 00:47:46,945] - obspy.clients.fdsn.mass_downloader - INFO: Client 'GEONET' - Status for 1 time intervals/channels before downloading: NEEDS_DOWNLOADING\n",
      "[2021-11-25 00:47:48,650] - obspy.clients.fdsn.mass_downloader - INFO: Client 'GEONET' - Successfully downloaded 1 channels (of 1)\n",
      "[2021-11-25 00:47:48,658] - obspy.clients.fdsn.mass_downloader - INFO: Client 'GEONET' - Launching basic QC checks...\n",
      "[2021-11-25 00:47:48,663] - obspy.clients.fdsn.mass_downloader - INFO: Client 'GEONET' - Downloaded 0.0 MB [1.75 KB/sec] of data, 0.0 MB of which were discarded afterwards.\n",
      "[2021-11-25 00:47:48,663] - obspy.clients.fdsn.mass_downloader - INFO: Client 'GEONET' - Status for 1 time intervals/channels after downloading: DOWNLOADED\n",
      "[2021-11-25 00:47:48,668] - obspy.clients.fdsn.mass_downloader - INFO: Client 'GEONET' - No station information to download.\n",
      "[2021-11-25 00:47:48,670] - obspy.clients.fdsn.mass_downloader - INFO: ============================== Final report\n",
      "[2021-11-25 00:47:48,670] - obspy.clients.fdsn.mass_downloader - INFO: 0 MiniSEED files [0.0 MB] already existed.\n",
      "[2021-11-25 00:47:48,671] - obspy.clients.fdsn.mass_downloader - INFO: 1 StationXML files [0.0 MB] already existed.\n",
      "[2021-11-25 00:47:48,671] - obspy.clients.fdsn.mass_downloader - INFO: Client 'GEONET' - Acquired 1 MiniSEED files [0.0 MB].\n",
      "[2021-11-25 00:47:48,671] - obspy.clients.fdsn.mass_downloader - INFO: Client 'GEONET' - Acquired 0 StationXML files [0.0 MB].\n",
      "[2021-11-25 00:47:48,671] - obspy.clients.fdsn.mass_downloader - INFO: Downloaded 0.0 MB in total.\n",
      "[2021-11-25 00:47:48,680] - obspy.clients.fdsn.mass_downloader - INFO: Initializing FDSN client(s) for GEONET.\n",
      "[2021-11-25 00:47:48,706] - obspy.clients.fdsn.mass_downloader - INFO: Successfully initialized 1 client(s): GEONET.\n",
      "[2021-11-25 00:47:48,710] - obspy.clients.fdsn.mass_downloader - INFO: Total acquired or preexisting stations: 0\n",
      "[2021-11-25 00:47:48,711] - obspy.clients.fdsn.mass_downloader - INFO: Client 'GEONET' - Requesting unreliable availability.\n"
     ]
    },
    {
     "name": "stdout",
     "output_type": "stream",
     "text": [
      "=================================================================\n",
      "Initiating mass download request.\n"
     ]
    },
    {
     "name": "stderr",
     "output_type": "stream",
     "text": [
      "[2021-11-25 00:47:49,288] - obspy.clients.fdsn.mass_downloader - INFO: Client 'GEONET' - Successfully requested availability (0.58 seconds)\n",
      "[2021-11-25 00:47:49,289] - obspy.clients.fdsn.mass_downloader - INFO: Client 'GEONET' - Found 1 stations (1 channels).\n",
      "[2021-11-25 00:47:49,289] - obspy.clients.fdsn.mass_downloader - INFO: Client 'GEONET' - Will attempt to download data from 1 stations.\n",
      "[2021-11-25 00:47:49,290] - obspy.clients.fdsn.mass_downloader - INFO: Client 'GEONET' - Status for 1 time intervals/channels before downloading: NEEDS_DOWNLOADING\n",
      "[2021-11-25 00:47:50,245] - obspy.clients.fdsn.mass_downloader - INFO: Client 'GEONET' - Successfully downloaded 1 channels (of 1)\n",
      "[2021-11-25 00:47:50,247] - obspy.clients.fdsn.mass_downloader - INFO: Client 'GEONET' - Launching basic QC checks...\n",
      "[2021-11-25 00:47:50,257] - obspy.clients.fdsn.mass_downloader - INFO: Client 'GEONET' - Downloaded 0.0 MB [4.71 KB/sec] of data, 0.0 MB of which were discarded afterwards.\n",
      "[2021-11-25 00:47:50,257] - obspy.clients.fdsn.mass_downloader - INFO: Client 'GEONET' - Status for 1 time intervals/channels after downloading: DOWNLOADED\n",
      "[2021-11-25 00:47:50,259] - obspy.clients.fdsn.mass_downloader - INFO: Client 'GEONET' - No station information to download.\n",
      "[2021-11-25 00:47:50,260] - obspy.clients.fdsn.mass_downloader - INFO: ============================== Final report\n",
      "[2021-11-25 00:47:50,260] - obspy.clients.fdsn.mass_downloader - INFO: 0 MiniSEED files [0.0 MB] already existed.\n",
      "[2021-11-25 00:47:50,261] - obspy.clients.fdsn.mass_downloader - INFO: 1 StationXML files [0.0 MB] already existed.\n",
      "[2021-11-25 00:47:50,261] - obspy.clients.fdsn.mass_downloader - INFO: Client 'GEONET' - Acquired 1 MiniSEED files [0.0 MB].\n",
      "[2021-11-25 00:47:50,261] - obspy.clients.fdsn.mass_downloader - INFO: Client 'GEONET' - Acquired 0 StationXML files [0.0 MB].\n",
      "[2021-11-25 00:47:50,262] - obspy.clients.fdsn.mass_downloader - INFO: Downloaded 0.0 MB in total.\n",
      "[2021-11-25 00:47:50,267] - obspy.clients.fdsn.mass_downloader - INFO: Initializing FDSN client(s) for GEONET.\n",
      "[2021-11-25 00:47:50,271] - obspy.clients.fdsn.mass_downloader - INFO: Successfully initialized 1 client(s): GEONET.\n",
      "[2021-11-25 00:47:50,271] - obspy.clients.fdsn.mass_downloader - INFO: Total acquired or preexisting stations: 0\n",
      "[2021-11-25 00:47:50,272] - obspy.clients.fdsn.mass_downloader - INFO: Client 'GEONET' - Requesting unreliable availability.\n"
     ]
    },
    {
     "name": "stdout",
     "output_type": "stream",
     "text": [
      "=================================================================\n",
      "Initiating mass download request.\n"
     ]
    },
    {
     "name": "stderr",
     "output_type": "stream",
     "text": [
      "[2021-11-25 00:47:50,836] - obspy.clients.fdsn.mass_downloader - INFO: Client 'GEONET' - Successfully requested availability (0.56 seconds)\n",
      "[2021-11-25 00:47:50,838] - obspy.clients.fdsn.mass_downloader - INFO: Client 'GEONET' - Found 1 stations (1 channels).\n",
      "[2021-11-25 00:47:50,839] - obspy.clients.fdsn.mass_downloader - INFO: Client 'GEONET' - Will attempt to download data from 1 stations.\n",
      "[2021-11-25 00:47:50,840] - obspy.clients.fdsn.mass_downloader - INFO: Client 'GEONET' - Status for 1 time intervals/channels before downloading: NEEDS_DOWNLOADING\n",
      "[2021-11-25 00:47:51,770] - obspy.clients.fdsn.mass_downloader - INFO: Client 'GEONET' - Successfully downloaded 1 channels (of 1)\n",
      "[2021-11-25 00:47:51,777] - obspy.clients.fdsn.mass_downloader - INFO: Client 'GEONET' - Launching basic QC checks...\n",
      "[2021-11-25 00:47:51,780] - obspy.clients.fdsn.mass_downloader - INFO: Client 'GEONET' - Downloaded 0.0 MB [4.29 KB/sec] of data, 0.0 MB of which were discarded afterwards.\n",
      "[2021-11-25 00:47:51,781] - obspy.clients.fdsn.mass_downloader - INFO: Client 'GEONET' - Status for 1 time intervals/channels after downloading: DOWNLOADED\n",
      "[2021-11-25 00:47:51,782] - obspy.clients.fdsn.mass_downloader - INFO: Client 'GEONET' - No station information to download.\n",
      "[2021-11-25 00:47:51,783] - obspy.clients.fdsn.mass_downloader - INFO: ============================== Final report\n",
      "[2021-11-25 00:47:51,783] - obspy.clients.fdsn.mass_downloader - INFO: 0 MiniSEED files [0.0 MB] already existed.\n",
      "[2021-11-25 00:47:51,783] - obspy.clients.fdsn.mass_downloader - INFO: 1 StationXML files [0.0 MB] already existed.\n",
      "[2021-11-25 00:47:51,784] - obspy.clients.fdsn.mass_downloader - INFO: Client 'GEONET' - Acquired 1 MiniSEED files [0.0 MB].\n",
      "[2021-11-25 00:47:51,784] - obspy.clients.fdsn.mass_downloader - INFO: Client 'GEONET' - Acquired 0 StationXML files [0.0 MB].\n",
      "[2021-11-25 00:47:51,784] - obspy.clients.fdsn.mass_downloader - INFO: Downloaded 0.0 MB in total.\n",
      "[2021-11-25 00:47:51,786] - obspy.clients.fdsn.mass_downloader - INFO: Initializing FDSN client(s) for GEONET.\n",
      "[2021-11-25 00:47:51,789] - obspy.clients.fdsn.mass_downloader - INFO: Successfully initialized 1 client(s): GEONET.\n",
      "[2021-11-25 00:47:51,789] - obspy.clients.fdsn.mass_downloader - INFO: Total acquired or preexisting stations: 0\n",
      "[2021-11-25 00:47:51,790] - obspy.clients.fdsn.mass_downloader - INFO: Client 'GEONET' - Requesting unreliable availability.\n"
     ]
    },
    {
     "name": "stdout",
     "output_type": "stream",
     "text": [
      "=================================================================\n",
      "Initiating mass download request.\n"
     ]
    },
    {
     "name": "stderr",
     "output_type": "stream",
     "text": [
      "[2021-11-25 00:47:52,466] - obspy.clients.fdsn.mass_downloader - INFO: Client 'GEONET' - Successfully requested availability (0.68 seconds)\n",
      "[2021-11-25 00:47:52,472] - obspy.clients.fdsn.mass_downloader - INFO: Client 'GEONET' - Found 1 stations (1 channels).\n",
      "[2021-11-25 00:47:52,473] - obspy.clients.fdsn.mass_downloader - INFO: Client 'GEONET' - Will attempt to download data from 1 stations.\n",
      "[2021-11-25 00:47:52,477] - obspy.clients.fdsn.mass_downloader - INFO: Client 'GEONET' - Status for 1 time intervals/channels before downloading: NEEDS_DOWNLOADING\n",
      "[2021-11-25 00:47:53,349] - obspy.clients.fdsn.mass_downloader - INFO: Client 'GEONET' - Successfully downloaded 1 channels (of 1)\n",
      "[2021-11-25 00:47:53,381] - obspy.clients.fdsn.mass_downloader - INFO: Client 'GEONET' - Launching basic QC checks...\n",
      "[2021-11-25 00:47:53,416] - obspy.clients.fdsn.mass_downloader - INFO: Client 'GEONET' - Downloaded 0.0 MB [3.34 KB/sec] of data, 0.0 MB of which were discarded afterwards.\n",
      "[2021-11-25 00:47:53,421] - obspy.clients.fdsn.mass_downloader - INFO: Client 'GEONET' - Status for 1 time intervals/channels after downloading: DOWNLOADED\n",
      "[2021-11-25 00:47:53,429] - obspy.clients.fdsn.mass_downloader - INFO: Client 'GEONET' - No station information to download.\n",
      "[2021-11-25 00:47:53,431] - obspy.clients.fdsn.mass_downloader - INFO: ============================== Final report\n",
      "[2021-11-25 00:47:53,435] - obspy.clients.fdsn.mass_downloader - INFO: 0 MiniSEED files [0.0 MB] already existed.\n",
      "[2021-11-25 00:47:53,439] - obspy.clients.fdsn.mass_downloader - INFO: 1 StationXML files [0.0 MB] already existed.\n",
      "[2021-11-25 00:47:53,441] - obspy.clients.fdsn.mass_downloader - INFO: Client 'GEONET' - Acquired 1 MiniSEED files [0.0 MB].\n",
      "[2021-11-25 00:47:53,441] - obspy.clients.fdsn.mass_downloader - INFO: Client 'GEONET' - Acquired 0 StationXML files [0.0 MB].\n",
      "[2021-11-25 00:47:53,442] - obspy.clients.fdsn.mass_downloader - INFO: Downloaded 0.0 MB in total.\n",
      "[2021-11-25 00:47:53,447] - obspy.clients.fdsn.mass_downloader - INFO: Initializing FDSN client(s) for GEONET.\n",
      "[2021-11-25 00:47:53,457] - obspy.clients.fdsn.mass_downloader - INFO: Successfully initialized 1 client(s): GEONET.\n",
      "[2021-11-25 00:47:53,458] - obspy.clients.fdsn.mass_downloader - INFO: Total acquired or preexisting stations: 0\n",
      "[2021-11-25 00:47:53,458] - obspy.clients.fdsn.mass_downloader - INFO: Client 'GEONET' - Requesting unreliable availability.\n"
     ]
    },
    {
     "name": "stdout",
     "output_type": "stream",
     "text": [
      "=================================================================\n",
      "Initiating mass download request.\n"
     ]
    },
    {
     "name": "stderr",
     "output_type": "stream",
     "text": [
      "[2021-11-25 00:47:54,662] - obspy.clients.fdsn.mass_downloader - INFO: Client 'GEONET' - Successfully requested availability (1.20 seconds)\n",
      "[2021-11-25 00:47:54,669] - obspy.clients.fdsn.mass_downloader - INFO: Client 'GEONET' - Found 1 stations (1 channels).\n",
      "[2021-11-25 00:47:54,670] - obspy.clients.fdsn.mass_downloader - INFO: Client 'GEONET' - Will attempt to download data from 1 stations.\n",
      "[2021-11-25 00:47:54,674] - obspy.clients.fdsn.mass_downloader - INFO: Client 'GEONET' - Status for 1 time intervals/channels before downloading: NEEDS_DOWNLOADING\n",
      "[2021-11-25 00:47:55,749] - obspy.clients.fdsn.mass_downloader - INFO: Client 'GEONET' - Successfully downloaded 1 channels (of 1)\n",
      "[2021-11-25 00:47:55,751] - obspy.clients.fdsn.mass_downloader - INFO: Client 'GEONET' - Launching basic QC checks...\n",
      "[2021-11-25 00:47:55,758] - obspy.clients.fdsn.mass_downloader - INFO: Client 'GEONET' - Downloaded 0.0 MB [3.76 KB/sec] of data, 0.0 MB of which were discarded afterwards.\n",
      "[2021-11-25 00:47:55,759] - obspy.clients.fdsn.mass_downloader - INFO: Client 'GEONET' - Status for 1 time intervals/channels after downloading: DOWNLOADED\n",
      "[2021-11-25 00:47:55,761] - obspy.clients.fdsn.mass_downloader - INFO: Client 'GEONET' - No station information to download.\n",
      "[2021-11-25 00:47:55,762] - obspy.clients.fdsn.mass_downloader - INFO: ============================== Final report\n",
      "[2021-11-25 00:47:55,762] - obspy.clients.fdsn.mass_downloader - INFO: 0 MiniSEED files [0.0 MB] already existed.\n",
      "[2021-11-25 00:47:55,762] - obspy.clients.fdsn.mass_downloader - INFO: 1 StationXML files [0.0 MB] already existed.\n",
      "[2021-11-25 00:47:55,763] - obspy.clients.fdsn.mass_downloader - INFO: Client 'GEONET' - Acquired 1 MiniSEED files [0.0 MB].\n",
      "[2021-11-25 00:47:55,763] - obspy.clients.fdsn.mass_downloader - INFO: Client 'GEONET' - Acquired 0 StationXML files [0.0 MB].\n",
      "[2021-11-25 00:47:55,763] - obspy.clients.fdsn.mass_downloader - INFO: Downloaded 0.0 MB in total.\n",
      "[2021-11-25 00:47:55,766] - obspy.clients.fdsn.mass_downloader - INFO: Initializing FDSN client(s) for GEONET.\n",
      "[2021-11-25 00:47:55,772] - obspy.clients.fdsn.mass_downloader - INFO: Successfully initialized 1 client(s): GEONET.\n",
      "[2021-11-25 00:47:55,772] - obspy.clients.fdsn.mass_downloader - INFO: Total acquired or preexisting stations: 0\n",
      "[2021-11-25 00:47:55,773] - obspy.clients.fdsn.mass_downloader - INFO: Client 'GEONET' - Requesting unreliable availability.\n"
     ]
    },
    {
     "name": "stdout",
     "output_type": "stream",
     "text": [
      "=================================================================\n",
      "Initiating mass download request.\n"
     ]
    },
    {
     "name": "stderr",
     "output_type": "stream",
     "text": [
      "[2021-11-25 00:47:56,343] - obspy.clients.fdsn.mass_downloader - INFO: Client 'GEONET' - Successfully requested availability (0.57 seconds)\n",
      "[2021-11-25 00:47:56,345] - obspy.clients.fdsn.mass_downloader - INFO: Client 'GEONET' - Found 1 stations (1 channels).\n",
      "[2021-11-25 00:47:56,346] - obspy.clients.fdsn.mass_downloader - INFO: Client 'GEONET' - Will attempt to download data from 1 stations.\n",
      "[2021-11-25 00:47:56,347] - obspy.clients.fdsn.mass_downloader - INFO: Client 'GEONET' - Status for 1 time intervals/channels before downloading: NEEDS_DOWNLOADING\n",
      "[2021-11-25 00:47:57,298] - obspy.clients.fdsn.mass_downloader - INFO: Client 'GEONET' - Successfully downloaded 1 channels (of 1)\n",
      "[2021-11-25 00:47:57,304] - obspy.clients.fdsn.mass_downloader - INFO: Client 'GEONET' - Launching basic QC checks...\n",
      "[2021-11-25 00:47:57,311] - obspy.clients.fdsn.mass_downloader - INFO: Client 'GEONET' - Downloaded 0.0 MB [5.24 KB/sec] of data, 0.0 MB of which were discarded afterwards.\n",
      "[2021-11-25 00:47:57,312] - obspy.clients.fdsn.mass_downloader - INFO: Client 'GEONET' - Status for 1 time intervals/channels after downloading: DOWNLOADED\n",
      "[2021-11-25 00:47:57,316] - obspy.clients.fdsn.mass_downloader - INFO: Client 'GEONET' - No station information to download.\n",
      "[2021-11-25 00:47:57,317] - obspy.clients.fdsn.mass_downloader - INFO: ============================== Final report\n",
      "[2021-11-25 00:47:57,318] - obspy.clients.fdsn.mass_downloader - INFO: 0 MiniSEED files [0.0 MB] already existed.\n",
      "[2021-11-25 00:47:57,318] - obspy.clients.fdsn.mass_downloader - INFO: 1 StationXML files [0.0 MB] already existed.\n",
      "[2021-11-25 00:47:57,318] - obspy.clients.fdsn.mass_downloader - INFO: Client 'GEONET' - Acquired 1 MiniSEED files [0.0 MB].\n",
      "[2021-11-25 00:47:57,318] - obspy.clients.fdsn.mass_downloader - INFO: Client 'GEONET' - Acquired 0 StationXML files [0.0 MB].\n",
      "[2021-11-25 00:47:57,319] - obspy.clients.fdsn.mass_downloader - INFO: Downloaded 0.0 MB in total.\n",
      "[2021-11-25 00:47:57,321] - obspy.clients.fdsn.mass_downloader - INFO: Initializing FDSN client(s) for GEONET.\n",
      "[2021-11-25 00:47:57,324] - obspy.clients.fdsn.mass_downloader - INFO: Successfully initialized 1 client(s): GEONET.\n",
      "[2021-11-25 00:47:57,325] - obspy.clients.fdsn.mass_downloader - INFO: Total acquired or preexisting stations: 0\n",
      "[2021-11-25 00:47:57,325] - obspy.clients.fdsn.mass_downloader - INFO: Client 'GEONET' - Requesting unreliable availability.\n"
     ]
    },
    {
     "name": "stdout",
     "output_type": "stream",
     "text": [
      "=================================================================\n",
      "Initiating mass download request.\n"
     ]
    },
    {
     "name": "stderr",
     "output_type": "stream",
     "text": [
      "[2021-11-25 00:47:58,022] - obspy.clients.fdsn.mass_downloader - INFO: Client 'GEONET' - Successfully requested availability (0.70 seconds)\n",
      "[2021-11-25 00:47:58,024] - obspy.clients.fdsn.mass_downloader - INFO: Client 'GEONET' - Found 1 stations (1 channels).\n",
      "[2021-11-25 00:47:58,025] - obspy.clients.fdsn.mass_downloader - INFO: Client 'GEONET' - Will attempt to download data from 1 stations.\n",
      "[2021-11-25 00:47:58,025] - obspy.clients.fdsn.mass_downloader - INFO: Client 'GEONET' - Status for 1 time intervals/channels before downloading: NEEDS_DOWNLOADING\n",
      "[2021-11-25 00:47:58,920] - obspy.clients.fdsn.mass_downloader - INFO: Client 'GEONET' - Successfully downloaded 1 channels (of 1)\n",
      "[2021-11-25 00:47:58,952] - obspy.clients.fdsn.mass_downloader - INFO: Client 'GEONET' - Launching basic QC checks...\n",
      "[2021-11-25 00:47:58,973] - obspy.clients.fdsn.mass_downloader - INFO: Client 'GEONET' - Downloaded 0.0 MB [4.32 KB/sec] of data, 0.0 MB of which were discarded afterwards.\n",
      "[2021-11-25 00:47:58,977] - obspy.clients.fdsn.mass_downloader - INFO: Client 'GEONET' - Status for 1 time intervals/channels after downloading: DOWNLOADED\n",
      "[2021-11-25 00:47:58,993] - obspy.clients.fdsn.mass_downloader - INFO: Client 'GEONET' - No station information to download.\n",
      "[2021-11-25 00:47:58,995] - obspy.clients.fdsn.mass_downloader - INFO: ============================== Final report\n",
      "[2021-11-25 00:47:59,000] - obspy.clients.fdsn.mass_downloader - INFO: 0 MiniSEED files [0.0 MB] already existed.\n",
      "[2021-11-25 00:47:59,003] - obspy.clients.fdsn.mass_downloader - INFO: 1 StationXML files [0.0 MB] already existed.\n",
      "[2021-11-25 00:47:59,004] - obspy.clients.fdsn.mass_downloader - INFO: Client 'GEONET' - Acquired 1 MiniSEED files [0.0 MB].\n",
      "[2021-11-25 00:47:59,005] - obspy.clients.fdsn.mass_downloader - INFO: Client 'GEONET' - Acquired 0 StationXML files [0.0 MB].\n",
      "[2021-11-25 00:47:59,006] - obspy.clients.fdsn.mass_downloader - INFO: Downloaded 0.0 MB in total.\n",
      "[2021-11-25 00:47:59,018] - obspy.clients.fdsn.mass_downloader - INFO: Initializing FDSN client(s) for GEONET.\n",
      "[2021-11-25 00:47:59,034] - obspy.clients.fdsn.mass_downloader - INFO: Successfully initialized 1 client(s): GEONET.\n",
      "[2021-11-25 00:47:59,036] - obspy.clients.fdsn.mass_downloader - INFO: Total acquired or preexisting stations: 0\n",
      "[2021-11-25 00:47:59,040] - obspy.clients.fdsn.mass_downloader - INFO: Client 'GEONET' - Requesting unreliable availability.\n"
     ]
    },
    {
     "name": "stdout",
     "output_type": "stream",
     "text": [
      "=================================================================\n",
      "Initiating mass download request.\n"
     ]
    },
    {
     "name": "stderr",
     "output_type": "stream",
     "text": [
      "[2021-11-25 00:47:59,613] - obspy.clients.fdsn.mass_downloader - INFO: Client 'GEONET' - Successfully requested availability (0.57 seconds)\n",
      "[2021-11-25 00:47:59,616] - obspy.clients.fdsn.mass_downloader - INFO: Client 'GEONET' - Found 1 stations (1 channels).\n",
      "[2021-11-25 00:47:59,616] - obspy.clients.fdsn.mass_downloader - INFO: Client 'GEONET' - Will attempt to download data from 1 stations.\n",
      "[2021-11-25 00:47:59,617] - obspy.clients.fdsn.mass_downloader - INFO: Client 'GEONET' - Status for 1 time intervals/channels before downloading: NEEDS_DOWNLOADING\n",
      "[2021-11-25 00:48:00,514] - obspy.clients.fdsn.mass_downloader - INFO: Client 'GEONET' - Successfully downloaded 1 channels (of 1)\n",
      "[2021-11-25 00:48:00,519] - obspy.clients.fdsn.mass_downloader - INFO: Client 'GEONET' - Launching basic QC checks...\n",
      "[2021-11-25 00:48:00,537] - obspy.clients.fdsn.mass_downloader - INFO: Client 'GEONET' - Downloaded 0.0 MB [4.44 KB/sec] of data, 0.0 MB of which were discarded afterwards.\n",
      "[2021-11-25 00:48:00,538] - obspy.clients.fdsn.mass_downloader - INFO: Client 'GEONET' - Status for 1 time intervals/channels after downloading: DOWNLOADED\n",
      "[2021-11-25 00:48:00,541] - obspy.clients.fdsn.mass_downloader - INFO: Client 'GEONET' - No station information to download.\n",
      "[2021-11-25 00:48:00,548] - obspy.clients.fdsn.mass_downloader - INFO: ============================== Final report\n",
      "[2021-11-25 00:48:00,549] - obspy.clients.fdsn.mass_downloader - INFO: 0 MiniSEED files [0.0 MB] already existed.\n",
      "[2021-11-25 00:48:00,549] - obspy.clients.fdsn.mass_downloader - INFO: 1 StationXML files [0.0 MB] already existed.\n",
      "[2021-11-25 00:48:00,551] - obspy.clients.fdsn.mass_downloader - INFO: Client 'GEONET' - Acquired 1 MiniSEED files [0.0 MB].\n",
      "[2021-11-25 00:48:00,552] - obspy.clients.fdsn.mass_downloader - INFO: Client 'GEONET' - Acquired 0 StationXML files [0.0 MB].\n",
      "[2021-11-25 00:48:00,553] - obspy.clients.fdsn.mass_downloader - INFO: Downloaded 0.0 MB in total.\n",
      "[2021-11-25 00:48:00,560] - obspy.clients.fdsn.mass_downloader - INFO: Initializing FDSN client(s) for GEONET.\n",
      "[2021-11-25 00:48:00,567] - obspy.clients.fdsn.mass_downloader - INFO: Successfully initialized 1 client(s): GEONET.\n",
      "[2021-11-25 00:48:00,569] - obspy.clients.fdsn.mass_downloader - INFO: Total acquired or preexisting stations: 0\n",
      "[2021-11-25 00:48:00,569] - obspy.clients.fdsn.mass_downloader - INFO: Client 'GEONET' - Requesting unreliable availability.\n"
     ]
    },
    {
     "name": "stdout",
     "output_type": "stream",
     "text": [
      "=================================================================\n",
      "Initiating mass download request.\n"
     ]
    },
    {
     "name": "stderr",
     "output_type": "stream",
     "text": [
      "[2021-11-25 00:48:01,258] - obspy.clients.fdsn.mass_downloader - INFO: Client 'GEONET' - Successfully requested availability (0.69 seconds)\n",
      "[2021-11-25 00:48:01,267] - obspy.clients.fdsn.mass_downloader - INFO: Client 'GEONET' - Found 1 stations (1 channels).\n",
      "[2021-11-25 00:48:01,268] - obspy.clients.fdsn.mass_downloader - INFO: Client 'GEONET' - Will attempt to download data from 1 stations.\n",
      "[2021-11-25 00:48:01,270] - obspy.clients.fdsn.mass_downloader - INFO: Client 'GEONET' - Status for 1 time intervals/channels before downloading: NEEDS_DOWNLOADING\n",
      "[2021-11-25 00:48:02,041] - obspy.clients.fdsn.mass_downloader - INFO: Client 'GEONET' - Successfully downloaded 1 channels (of 1)\n",
      "[2021-11-25 00:48:02,053] - obspy.clients.fdsn.mass_downloader - INFO: Client 'GEONET' - Launching basic QC checks...\n",
      "[2021-11-25 00:48:02,074] - obspy.clients.fdsn.mass_downloader - INFO: Client 'GEONET' - Downloaded 0.0 MB [5.14 KB/sec] of data, 0.0 MB of which were discarded afterwards.\n",
      "[2021-11-25 00:48:02,075] - obspy.clients.fdsn.mass_downloader - INFO: Client 'GEONET' - Status for 1 time intervals/channels after downloading: DOWNLOADED\n",
      "[2021-11-25 00:48:02,081] - obspy.clients.fdsn.mass_downloader - INFO: Client 'GEONET' - No station information to download.\n",
      "[2021-11-25 00:48:02,082] - obspy.clients.fdsn.mass_downloader - INFO: ============================== Final report\n",
      "[2021-11-25 00:48:02,083] - obspy.clients.fdsn.mass_downloader - INFO: 0 MiniSEED files [0.0 MB] already existed.\n",
      "[2021-11-25 00:48:02,084] - obspy.clients.fdsn.mass_downloader - INFO: 1 StationXML files [0.0 MB] already existed.\n",
      "[2021-11-25 00:48:02,085] - obspy.clients.fdsn.mass_downloader - INFO: Client 'GEONET' - Acquired 1 MiniSEED files [0.0 MB].\n",
      "[2021-11-25 00:48:02,085] - obspy.clients.fdsn.mass_downloader - INFO: Client 'GEONET' - Acquired 0 StationXML files [0.0 MB].\n",
      "[2021-11-25 00:48:02,085] - obspy.clients.fdsn.mass_downloader - INFO: Downloaded 0.0 MB in total.\n",
      "[2021-11-25 00:48:02,095] - obspy.clients.fdsn.mass_downloader - INFO: Initializing FDSN client(s) for GEONET.\n",
      "[2021-11-25 00:48:02,112] - obspy.clients.fdsn.mass_downloader - INFO: Successfully initialized 1 client(s): GEONET.\n",
      "[2021-11-25 00:48:02,116] - obspy.clients.fdsn.mass_downloader - INFO: Total acquired or preexisting stations: 0\n",
      "[2021-11-25 00:48:02,122] - obspy.clients.fdsn.mass_downloader - INFO: Client 'GEONET' - Requesting unreliable availability.\n"
     ]
    },
    {
     "name": "stdout",
     "output_type": "stream",
     "text": [
      "=================================================================\n",
      "Initiating mass download request.\n"
     ]
    },
    {
     "name": "stderr",
     "output_type": "stream",
     "text": [
      "[2021-11-25 00:48:02,678] - obspy.clients.fdsn.mass_downloader - INFO: Client 'GEONET' - Successfully requested availability (0.55 seconds)\n",
      "[2021-11-25 00:48:02,680] - obspy.clients.fdsn.mass_downloader - INFO: Client 'GEONET' - Found 1 stations (1 channels).\n",
      "[2021-11-25 00:48:02,680] - obspy.clients.fdsn.mass_downloader - INFO: Client 'GEONET' - Will attempt to download data from 1 stations.\n",
      "[2021-11-25 00:48:02,681] - obspy.clients.fdsn.mass_downloader - INFO: Client 'GEONET' - Status for 1 time intervals/channels before downloading: NEEDS_DOWNLOADING\n",
      "[2021-11-25 00:48:04,229] - obspy.clients.fdsn.mass_downloader - INFO: Client 'GEONET' - Successfully downloaded 1 channels (of 1)\n",
      "[2021-11-25 00:48:04,234] - obspy.clients.fdsn.mass_downloader - INFO: Client 'GEONET' - Launching basic QC checks...\n",
      "[2021-11-25 00:48:04,248] - obspy.clients.fdsn.mass_downloader - INFO: Client 'GEONET' - Downloaded 0.0 MB [2.90 KB/sec] of data, 0.0 MB of which were discarded afterwards.\n",
      "[2021-11-25 00:48:04,252] - obspy.clients.fdsn.mass_downloader - INFO: Client 'GEONET' - Status for 1 time intervals/channels after downloading: DOWNLOADED\n",
      "[2021-11-25 00:48:04,285] - obspy.clients.fdsn.mass_downloader - INFO: Client 'GEONET' - No station information to download.\n",
      "[2021-11-25 00:48:04,295] - obspy.clients.fdsn.mass_downloader - INFO: ============================== Final report\n",
      "[2021-11-25 00:48:04,298] - obspy.clients.fdsn.mass_downloader - INFO: 0 MiniSEED files [0.0 MB] already existed.\n",
      "[2021-11-25 00:48:04,306] - obspy.clients.fdsn.mass_downloader - INFO: 1 StationXML files [0.0 MB] already existed.\n",
      "[2021-11-25 00:48:04,310] - obspy.clients.fdsn.mass_downloader - INFO: Client 'GEONET' - Acquired 1 MiniSEED files [0.0 MB].\n",
      "[2021-11-25 00:48:04,311] - obspy.clients.fdsn.mass_downloader - INFO: Client 'GEONET' - Acquired 0 StationXML files [0.0 MB].\n",
      "[2021-11-25 00:48:04,312] - obspy.clients.fdsn.mass_downloader - INFO: Downloaded 0.0 MB in total.\n",
      "[2021-11-25 00:48:04,335] - obspy.clients.fdsn.mass_downloader - INFO: Initializing FDSN client(s) for GEONET.\n",
      "[2021-11-25 00:48:04,363] - obspy.clients.fdsn.mass_downloader - INFO: Successfully initialized 1 client(s): GEONET.\n",
      "[2021-11-25 00:48:04,372] - obspy.clients.fdsn.mass_downloader - INFO: Total acquired or preexisting stations: 0\n",
      "[2021-11-25 00:48:04,374] - obspy.clients.fdsn.mass_downloader - INFO: Client 'GEONET' - Requesting unreliable availability.\n"
     ]
    },
    {
     "name": "stdout",
     "output_type": "stream",
     "text": [
      "=================================================================\n",
      "Initiating mass download request.\n"
     ]
    },
    {
     "name": "stderr",
     "output_type": "stream",
     "text": [
      "[2021-11-25 00:48:04,916] - obspy.clients.fdsn.mass_downloader - INFO: Client 'GEONET' - Successfully requested availability (0.54 seconds)\n",
      "[2021-11-25 00:48:04,936] - obspy.clients.fdsn.mass_downloader - INFO: Client 'GEONET' - Found 1 stations (1 channels).\n",
      "[2021-11-25 00:48:04,938] - obspy.clients.fdsn.mass_downloader - INFO: Client 'GEONET' - Will attempt to download data from 1 stations.\n",
      "[2021-11-25 00:48:04,944] - obspy.clients.fdsn.mass_downloader - INFO: Client 'GEONET' - Status for 1 time intervals/channels before downloading: NEEDS_DOWNLOADING\n",
      "[2021-11-25 00:48:05,990] - obspy.clients.fdsn.mass_downloader - INFO: Client 'GEONET' - Successfully downloaded 1 channels (of 1)\n",
      "[2021-11-25 00:48:05,998] - obspy.clients.fdsn.mass_downloader - INFO: Client 'GEONET' - Launching basic QC checks...\n",
      "[2021-11-25 00:48:06,004] - obspy.clients.fdsn.mass_downloader - INFO: Client 'GEONET' - Downloaded 0.0 MB [3.83 KB/sec] of data, 0.0 MB of which were discarded afterwards.\n",
      "[2021-11-25 00:48:06,005] - obspy.clients.fdsn.mass_downloader - INFO: Client 'GEONET' - Status for 1 time intervals/channels after downloading: DOWNLOADED\n",
      "[2021-11-25 00:48:06,012] - obspy.clients.fdsn.mass_downloader - INFO: Client 'GEONET' - No station information to download.\n",
      "[2021-11-25 00:48:06,014] - obspy.clients.fdsn.mass_downloader - INFO: ============================== Final report\n",
      "[2021-11-25 00:48:06,015] - obspy.clients.fdsn.mass_downloader - INFO: 0 MiniSEED files [0.0 MB] already existed.\n",
      "[2021-11-25 00:48:06,016] - obspy.clients.fdsn.mass_downloader - INFO: 1 StationXML files [0.0 MB] already existed.\n",
      "[2021-11-25 00:48:06,016] - obspy.clients.fdsn.mass_downloader - INFO: Client 'GEONET' - Acquired 1 MiniSEED files [0.0 MB].\n",
      "[2021-11-25 00:48:06,016] - obspy.clients.fdsn.mass_downloader - INFO: Client 'GEONET' - Acquired 0 StationXML files [0.0 MB].\n",
      "[2021-11-25 00:48:06,017] - obspy.clients.fdsn.mass_downloader - INFO: Downloaded 0.0 MB in total.\n",
      "[2021-11-25 00:48:06,034] - obspy.clients.fdsn.mass_downloader - INFO: Initializing FDSN client(s) for GEONET.\n",
      "[2021-11-25 00:48:06,048] - obspy.clients.fdsn.mass_downloader - INFO: Successfully initialized 1 client(s): GEONET.\n",
      "[2021-11-25 00:48:06,052] - obspy.clients.fdsn.mass_downloader - INFO: Total acquired or preexisting stations: 0\n",
      "[2021-11-25 00:48:06,054] - obspy.clients.fdsn.mass_downloader - INFO: Client 'GEONET' - Requesting unreliable availability.\n"
     ]
    },
    {
     "name": "stdout",
     "output_type": "stream",
     "text": [
      "=================================================================\n",
      "Initiating mass download request.\n"
     ]
    },
    {
     "name": "stderr",
     "output_type": "stream",
     "text": [
      "[2021-11-25 00:48:06,733] - obspy.clients.fdsn.mass_downloader - INFO: Client 'GEONET' - Successfully requested availability (0.68 seconds)\n",
      "[2021-11-25 00:48:06,738] - obspy.clients.fdsn.mass_downloader - INFO: Client 'GEONET' - Found 1 stations (1 channels).\n",
      "[2021-11-25 00:48:06,740] - obspy.clients.fdsn.mass_downloader - INFO: Client 'GEONET' - Will attempt to download data from 1 stations.\n",
      "[2021-11-25 00:48:06,742] - obspy.clients.fdsn.mass_downloader - INFO: Client 'GEONET' - Status for 1 time intervals/channels before downloading: NEEDS_DOWNLOADING\n",
      "[2021-11-25 00:48:07,834] - obspy.clients.fdsn.mass_downloader - INFO: Client 'GEONET' - Successfully downloaded 1 channels (of 1)\n",
      "[2021-11-25 00:48:07,838] - obspy.clients.fdsn.mass_downloader - INFO: Client 'GEONET' - Launching basic QC checks...\n",
      "[2021-11-25 00:48:07,860] - obspy.clients.fdsn.mass_downloader - INFO: Client 'GEONET' - Downloaded 0.0 MB [3.66 KB/sec] of data, 0.0 MB of which were discarded afterwards.\n",
      "[2021-11-25 00:48:07,863] - obspy.clients.fdsn.mass_downloader - INFO: Client 'GEONET' - Status for 1 time intervals/channels after downloading: DOWNLOADED\n",
      "[2021-11-25 00:48:07,871] - obspy.clients.fdsn.mass_downloader - INFO: Client 'GEONET' - No station information to download.\n",
      "[2021-11-25 00:48:07,874] - obspy.clients.fdsn.mass_downloader - INFO: ============================== Final report\n",
      "[2021-11-25 00:48:07,874] - obspy.clients.fdsn.mass_downloader - INFO: 0 MiniSEED files [0.0 MB] already existed.\n",
      "[2021-11-25 00:48:07,879] - obspy.clients.fdsn.mass_downloader - INFO: 1 StationXML files [0.0 MB] already existed.\n",
      "[2021-11-25 00:48:07,881] - obspy.clients.fdsn.mass_downloader - INFO: Client 'GEONET' - Acquired 1 MiniSEED files [0.0 MB].\n",
      "[2021-11-25 00:48:07,882] - obspy.clients.fdsn.mass_downloader - INFO: Client 'GEONET' - Acquired 0 StationXML files [0.0 MB].\n",
      "[2021-11-25 00:48:07,885] - obspy.clients.fdsn.mass_downloader - INFO: Downloaded 0.0 MB in total.\n",
      "[2021-11-25 00:48:07,892] - obspy.clients.fdsn.mass_downloader - INFO: Initializing FDSN client(s) for GEONET.\n",
      "[2021-11-25 00:48:07,897] - obspy.clients.fdsn.mass_downloader - INFO: Successfully initialized 1 client(s): GEONET.\n",
      "[2021-11-25 00:48:07,899] - obspy.clients.fdsn.mass_downloader - INFO: Total acquired or preexisting stations: 0\n",
      "[2021-11-25 00:48:07,900] - obspy.clients.fdsn.mass_downloader - INFO: Client 'GEONET' - Requesting unreliable availability.\n"
     ]
    },
    {
     "name": "stdout",
     "output_type": "stream",
     "text": [
      "=================================================================\n",
      "Initiating mass download request.\n"
     ]
    },
    {
     "name": "stderr",
     "output_type": "stream",
     "text": [
      "[2021-11-25 00:48:08,574] - obspy.clients.fdsn.mass_downloader - INFO: Client 'GEONET' - Successfully requested availability (0.67 seconds)\n",
      "[2021-11-25 00:48:08,582] - obspy.clients.fdsn.mass_downloader - INFO: Client 'GEONET' - Found 1 stations (1 channels).\n",
      "[2021-11-25 00:48:08,588] - obspy.clients.fdsn.mass_downloader - INFO: Client 'GEONET' - Will attempt to download data from 1 stations.\n",
      "[2021-11-25 00:48:08,593] - obspy.clients.fdsn.mass_downloader - INFO: Client 'GEONET' - Status for 1 time intervals/channels before downloading: NEEDS_DOWNLOADING\n",
      "[2021-11-25 00:48:09,681] - obspy.clients.fdsn.mass_downloader - INFO: Client 'GEONET' - Successfully downloaded 1 channels (of 1)\n",
      "[2021-11-25 00:48:09,688] - obspy.clients.fdsn.mass_downloader - INFO: Client 'GEONET' - Launching basic QC checks...\n",
      "[2021-11-25 00:48:09,692] - obspy.clients.fdsn.mass_downloader - INFO: Client 'GEONET' - Downloaded 0.0 MB [4.16 KB/sec] of data, 0.0 MB of which were discarded afterwards.\n",
      "[2021-11-25 00:48:09,693] - obspy.clients.fdsn.mass_downloader - INFO: Client 'GEONET' - Status for 1 time intervals/channels after downloading: DOWNLOADED\n",
      "[2021-11-25 00:48:09,699] - obspy.clients.fdsn.mass_downloader - INFO: Client 'GEONET' - No station information to download.\n",
      "[2021-11-25 00:48:09,700] - obspy.clients.fdsn.mass_downloader - INFO: ============================== Final report\n",
      "[2021-11-25 00:48:09,701] - obspy.clients.fdsn.mass_downloader - INFO: 0 MiniSEED files [0.0 MB] already existed.\n",
      "[2021-11-25 00:48:09,701] - obspy.clients.fdsn.mass_downloader - INFO: 1 StationXML files [0.0 MB] already existed.\n",
      "[2021-11-25 00:48:09,701] - obspy.clients.fdsn.mass_downloader - INFO: Client 'GEONET' - Acquired 1 MiniSEED files [0.0 MB].\n",
      "[2021-11-25 00:48:09,702] - obspy.clients.fdsn.mass_downloader - INFO: Client 'GEONET' - Acquired 0 StationXML files [0.0 MB].\n",
      "[2021-11-25 00:48:09,702] - obspy.clients.fdsn.mass_downloader - INFO: Downloaded 0.0 MB in total.\n",
      "[2021-11-25 00:48:09,704] - obspy.clients.fdsn.mass_downloader - INFO: Initializing FDSN client(s) for GEONET.\n",
      "[2021-11-25 00:48:09,708] - obspy.clients.fdsn.mass_downloader - INFO: Successfully initialized 1 client(s): GEONET.\n",
      "[2021-11-25 00:48:09,709] - obspy.clients.fdsn.mass_downloader - INFO: Total acquired or preexisting stations: 0\n",
      "[2021-11-25 00:48:09,709] - obspy.clients.fdsn.mass_downloader - INFO: Client 'GEONET' - Requesting unreliable availability.\n"
     ]
    },
    {
     "name": "stdout",
     "output_type": "stream",
     "text": [
      "=================================================================\n",
      "Initiating mass download request.\n"
     ]
    },
    {
     "name": "stderr",
     "output_type": "stream",
     "text": [
      "[2021-11-25 00:48:10,266] - obspy.clients.fdsn.mass_downloader - INFO: Client 'GEONET' - Successfully requested availability (0.56 seconds)\n",
      "[2021-11-25 00:48:10,269] - obspy.clients.fdsn.mass_downloader - INFO: Client 'GEONET' - Found 1 stations (1 channels).\n",
      "[2021-11-25 00:48:10,269] - obspy.clients.fdsn.mass_downloader - INFO: Client 'GEONET' - Will attempt to download data from 1 stations.\n",
      "[2021-11-25 00:48:10,270] - obspy.clients.fdsn.mass_downloader - INFO: Client 'GEONET' - Status for 1 time intervals/channels before downloading: NEEDS_DOWNLOADING\n",
      "[2021-11-25 00:48:11,371] - obspy.clients.fdsn.mass_downloader - INFO: Client 'GEONET' - Successfully downloaded 1 channels (of 1)\n",
      "[2021-11-25 00:48:11,394] - obspy.clients.fdsn.mass_downloader - INFO: Client 'GEONET' - Launching basic QC checks...\n",
      "[2021-11-25 00:48:11,419] - obspy.clients.fdsn.mass_downloader - INFO: Client 'GEONET' - Downloaded 0.0 MB [3.18 KB/sec] of data, 0.0 MB of which were discarded afterwards.\n",
      "[2021-11-25 00:48:11,430] - obspy.clients.fdsn.mass_downloader - INFO: Client 'GEONET' - Status for 1 time intervals/channels after downloading: DOWNLOADED\n",
      "[2021-11-25 00:48:11,440] - obspy.clients.fdsn.mass_downloader - INFO: Client 'GEONET' - No station information to download.\n",
      "[2021-11-25 00:48:11,442] - obspy.clients.fdsn.mass_downloader - INFO: ============================== Final report\n",
      "[2021-11-25 00:48:11,448] - obspy.clients.fdsn.mass_downloader - INFO: 0 MiniSEED files [0.0 MB] already existed.\n",
      "[2021-11-25 00:48:11,454] - obspy.clients.fdsn.mass_downloader - INFO: 1 StationXML files [0.0 MB] already existed.\n",
      "[2021-11-25 00:48:11,454] - obspy.clients.fdsn.mass_downloader - INFO: Client 'GEONET' - Acquired 1 MiniSEED files [0.0 MB].\n",
      "[2021-11-25 00:48:11,455] - obspy.clients.fdsn.mass_downloader - INFO: Client 'GEONET' - Acquired 0 StationXML files [0.0 MB].\n",
      "[2021-11-25 00:48:11,460] - obspy.clients.fdsn.mass_downloader - INFO: Downloaded 0.0 MB in total.\n",
      "[2021-11-25 00:48:11,478] - obspy.clients.fdsn.mass_downloader - INFO: Initializing FDSN client(s) for GEONET.\n",
      "[2021-11-25 00:48:11,507] - obspy.clients.fdsn.mass_downloader - INFO: Successfully initialized 1 client(s): GEONET.\n",
      "[2021-11-25 00:48:11,512] - obspy.clients.fdsn.mass_downloader - INFO: Total acquired or preexisting stations: 0\n",
      "[2021-11-25 00:48:11,520] - obspy.clients.fdsn.mass_downloader - INFO: Client 'GEONET' - Requesting unreliable availability.\n"
     ]
    },
    {
     "name": "stdout",
     "output_type": "stream",
     "text": [
      "=================================================================\n",
      "Initiating mass download request.\n"
     ]
    },
    {
     "name": "stderr",
     "output_type": "stream",
     "text": [
      "[2021-11-25 00:48:12,307] - obspy.clients.fdsn.mass_downloader - INFO: Client 'GEONET' - Successfully requested availability (0.78 seconds)\n",
      "[2021-11-25 00:48:12,332] - obspy.clients.fdsn.mass_downloader - INFO: Client 'GEONET' - Found 1 stations (1 channels).\n",
      "[2021-11-25 00:48:12,351] - obspy.clients.fdsn.mass_downloader - INFO: Client 'GEONET' - Will attempt to download data from 1 stations.\n",
      "[2021-11-25 00:48:12,361] - obspy.clients.fdsn.mass_downloader - INFO: Client 'GEONET' - Status for 1 time intervals/channels before downloading: NEEDS_DOWNLOADING\n",
      "[2021-11-25 00:48:13,633] - obspy.clients.fdsn.mass_downloader - INFO: Client 'GEONET' - Successfully downloaded 1 channels (of 1)\n",
      "[2021-11-25 00:48:13,643] - obspy.clients.fdsn.mass_downloader - INFO: Client 'GEONET' - Launching basic QC checks...\n",
      "[2021-11-25 00:48:13,661] - obspy.clients.fdsn.mass_downloader - INFO: Client 'GEONET' - Downloaded 0.0 MB [6.01 KB/sec] of data, 0.0 MB of which were discarded afterwards.\n",
      "[2021-11-25 00:48:13,663] - obspy.clients.fdsn.mass_downloader - INFO: Client 'GEONET' - Status for 1 time intervals/channels after downloading: DOWNLOADED\n",
      "[2021-11-25 00:48:13,670] - obspy.clients.fdsn.mass_downloader - INFO: Client 'GEONET' - No station information to download.\n",
      "[2021-11-25 00:48:13,676] - obspy.clients.fdsn.mass_downloader - INFO: ============================== Final report\n",
      "[2021-11-25 00:48:13,678] - obspy.clients.fdsn.mass_downloader - INFO: 0 MiniSEED files [0.0 MB] already existed.\n",
      "[2021-11-25 00:48:13,680] - obspy.clients.fdsn.mass_downloader - INFO: 1 StationXML files [0.0 MB] already existed.\n",
      "[2021-11-25 00:48:13,682] - obspy.clients.fdsn.mass_downloader - INFO: Client 'GEONET' - Acquired 1 MiniSEED files [0.0 MB].\n",
      "[2021-11-25 00:48:13,682] - obspy.clients.fdsn.mass_downloader - INFO: Client 'GEONET' - Acquired 0 StationXML files [0.0 MB].\n",
      "[2021-11-25 00:48:13,684] - obspy.clients.fdsn.mass_downloader - INFO: Downloaded 0.0 MB in total.\n",
      "[2021-11-25 00:48:13,696] - obspy.clients.fdsn.mass_downloader - INFO: Initializing FDSN client(s) for GEONET.\n",
      "[2021-11-25 00:48:13,715] - obspy.clients.fdsn.mass_downloader - INFO: Successfully initialized 1 client(s): GEONET.\n",
      "[2021-11-25 00:48:13,721] - obspy.clients.fdsn.mass_downloader - INFO: Total acquired or preexisting stations: 0\n",
      "[2021-11-25 00:48:13,725] - obspy.clients.fdsn.mass_downloader - INFO: Client 'GEONET' - Requesting unreliable availability.\n"
     ]
    },
    {
     "name": "stdout",
     "output_type": "stream",
     "text": [
      "=================================================================\n",
      "Initiating mass download request.\n"
     ]
    },
    {
     "name": "stderr",
     "output_type": "stream",
     "text": [
      "[2021-11-25 00:48:14,965] - obspy.clients.fdsn.mass_downloader - INFO: Client 'GEONET' - Successfully requested availability (1.24 seconds)\n",
      "[2021-11-25 00:48:14,985] - obspy.clients.fdsn.mass_downloader - INFO: Client 'GEONET' - Found 1 stations (1 channels).\n",
      "[2021-11-25 00:48:14,986] - obspy.clients.fdsn.mass_downloader - INFO: Client 'GEONET' - Will attempt to download data from 1 stations.\n",
      "[2021-11-25 00:48:14,992] - obspy.clients.fdsn.mass_downloader - INFO: Client 'GEONET' - Status for 1 time intervals/channels before downloading: NEEDS_DOWNLOADING\n",
      "[2021-11-25 00:48:15,792] - obspy.clients.fdsn.mass_downloader - INFO: Client 'GEONET' - Successfully downloaded 1 channels (of 1)\n",
      "[2021-11-25 00:48:15,824] - obspy.clients.fdsn.mass_downloader - INFO: Client 'GEONET' - Launching basic QC checks...\n",
      "[2021-11-25 00:48:15,872] - obspy.clients.fdsn.mass_downloader - INFO: Client 'GEONET' - Downloaded 0.0 MB [3.69 KB/sec] of data, 0.0 MB of which were discarded afterwards.\n",
      "[2021-11-25 00:48:15,876] - obspy.clients.fdsn.mass_downloader - INFO: Client 'GEONET' - Status for 1 time intervals/channels after downloading: DOWNLOADED\n",
      "[2021-11-25 00:48:15,886] - obspy.clients.fdsn.mass_downloader - INFO: Client 'GEONET' - No station information to download.\n",
      "[2021-11-25 00:48:15,891] - obspy.clients.fdsn.mass_downloader - INFO: ============================== Final report\n",
      "[2021-11-25 00:48:15,894] - obspy.clients.fdsn.mass_downloader - INFO: 0 MiniSEED files [0.0 MB] already existed.\n",
      "[2021-11-25 00:48:15,896] - obspy.clients.fdsn.mass_downloader - INFO: 1 StationXML files [0.0 MB] already existed.\n",
      "[2021-11-25 00:48:15,901] - obspy.clients.fdsn.mass_downloader - INFO: Client 'GEONET' - Acquired 1 MiniSEED files [0.0 MB].\n",
      "[2021-11-25 00:48:15,903] - obspy.clients.fdsn.mass_downloader - INFO: Client 'GEONET' - Acquired 0 StationXML files [0.0 MB].\n",
      "[2021-11-25 00:48:15,904] - obspy.clients.fdsn.mass_downloader - INFO: Downloaded 0.0 MB in total.\n",
      "[2021-11-25 00:48:15,940] - obspy.clients.fdsn.mass_downloader - INFO: Initializing FDSN client(s) for GEONET.\n",
      "[2021-11-25 00:48:15,962] - obspy.clients.fdsn.mass_downloader - INFO: Successfully initialized 1 client(s): GEONET.\n",
      "[2021-11-25 00:48:15,966] - obspy.clients.fdsn.mass_downloader - INFO: Total acquired or preexisting stations: 0\n",
      "[2021-11-25 00:48:15,969] - obspy.clients.fdsn.mass_downloader - INFO: Client 'GEONET' - Requesting unreliable availability.\n"
     ]
    },
    {
     "name": "stdout",
     "output_type": "stream",
     "text": [
      "=================================================================\n",
      "Initiating mass download request.\n"
     ]
    },
    {
     "name": "stderr",
     "output_type": "stream",
     "text": [
      "[2021-11-25 00:48:16,619] - obspy.clients.fdsn.mass_downloader - INFO: Client 'GEONET' - Successfully requested availability (0.65 seconds)\n",
      "[2021-11-25 00:48:16,633] - obspy.clients.fdsn.mass_downloader - INFO: Client 'GEONET' - Found 1 stations (1 channels).\n",
      "[2021-11-25 00:48:16,645] - obspy.clients.fdsn.mass_downloader - INFO: Client 'GEONET' - Will attempt to download data from 1 stations.\n",
      "[2021-11-25 00:48:16,651] - obspy.clients.fdsn.mass_downloader - INFO: Client 'GEONET' - Status for 1 time intervals/channels before downloading: NEEDS_DOWNLOADING\n",
      "[2021-11-25 00:48:17,709] - obspy.clients.fdsn.mass_downloader - INFO: Client 'GEONET' - Successfully downloaded 1 channels (of 1)\n",
      "[2021-11-25 00:48:17,751] - obspy.clients.fdsn.mass_downloader - INFO: Client 'GEONET' - Launching basic QC checks...\n",
      "[2021-11-25 00:48:17,796] - obspy.clients.fdsn.mass_downloader - INFO: Client 'GEONET' - Downloaded 0.0 MB [3.28 KB/sec] of data, 0.0 MB of which were discarded afterwards.\n",
      "[2021-11-25 00:48:17,807] - obspy.clients.fdsn.mass_downloader - INFO: Client 'GEONET' - Status for 1 time intervals/channels after downloading: DOWNLOADED\n",
      "[2021-11-25 00:48:17,823] - obspy.clients.fdsn.mass_downloader - INFO: Client 'GEONET' - No station information to download.\n",
      "[2021-11-25 00:48:17,834] - obspy.clients.fdsn.mass_downloader - INFO: ============================== Final report\n",
      "[2021-11-25 00:48:17,841] - obspy.clients.fdsn.mass_downloader - INFO: 0 MiniSEED files [0.0 MB] already existed.\n",
      "[2021-11-25 00:48:17,846] - obspy.clients.fdsn.mass_downloader - INFO: 1 StationXML files [0.0 MB] already existed.\n",
      "[2021-11-25 00:48:17,847] - obspy.clients.fdsn.mass_downloader - INFO: Client 'GEONET' - Acquired 1 MiniSEED files [0.0 MB].\n",
      "[2021-11-25 00:48:17,853] - obspy.clients.fdsn.mass_downloader - INFO: Client 'GEONET' - Acquired 0 StationXML files [0.0 MB].\n",
      "[2021-11-25 00:48:17,856] - obspy.clients.fdsn.mass_downloader - INFO: Downloaded 0.0 MB in total.\n",
      "[2021-11-25 00:48:17,913] - obspy.clients.fdsn.mass_downloader - INFO: Initializing FDSN client(s) for GEONET.\n",
      "[2021-11-25 00:48:17,953] - obspy.clients.fdsn.mass_downloader - INFO: Successfully initialized 1 client(s): GEONET.\n",
      "[2021-11-25 00:48:17,955] - obspy.clients.fdsn.mass_downloader - INFO: Total acquired or preexisting stations: 0\n",
      "[2021-11-25 00:48:17,963] - obspy.clients.fdsn.mass_downloader - INFO: Client 'GEONET' - Requesting unreliable availability.\n"
     ]
    },
    {
     "name": "stdout",
     "output_type": "stream",
     "text": [
      "=================================================================\n",
      "Initiating mass download request.\n"
     ]
    },
    {
     "name": "stderr",
     "output_type": "stream",
     "text": [
      "[2021-11-25 00:48:18,629] - obspy.clients.fdsn.mass_downloader - INFO: Client 'GEONET' - Successfully requested availability (0.66 seconds)\n",
      "[2021-11-25 00:48:18,633] - obspy.clients.fdsn.mass_downloader - INFO: Client 'GEONET' - Found 1 stations (1 channels).\n",
      "[2021-11-25 00:48:18,636] - obspy.clients.fdsn.mass_downloader - INFO: Client 'GEONET' - Will attempt to download data from 1 stations.\n",
      "[2021-11-25 00:48:18,641] - obspy.clients.fdsn.mass_downloader - INFO: Client 'GEONET' - Status for 1 time intervals/channels before downloading: NEEDS_DOWNLOADING\n",
      "[2021-11-25 00:48:19,693] - obspy.clients.fdsn.mass_downloader - INFO: Client 'GEONET' - Successfully downloaded 1 channels (of 1)\n",
      "[2021-11-25 00:48:19,698] - obspy.clients.fdsn.mass_downloader - INFO: Client 'GEONET' - Launching basic QC checks...\n",
      "[2021-11-25 00:48:19,715] - obspy.clients.fdsn.mass_downloader - INFO: Client 'GEONET' - Downloaded 0.0 MB [3.81 KB/sec] of data, 0.0 MB of which were discarded afterwards.\n",
      "[2021-11-25 00:48:19,718] - obspy.clients.fdsn.mass_downloader - INFO: Client 'GEONET' - Status for 1 time intervals/channels after downloading: DOWNLOADED\n",
      "[2021-11-25 00:48:19,726] - obspy.clients.fdsn.mass_downloader - INFO: Client 'GEONET' - No station information to download.\n",
      "[2021-11-25 00:48:19,727] - obspy.clients.fdsn.mass_downloader - INFO: ============================== Final report\n",
      "[2021-11-25 00:48:19,728] - obspy.clients.fdsn.mass_downloader - INFO: 0 MiniSEED files [0.0 MB] already existed.\n",
      "[2021-11-25 00:48:19,729] - obspy.clients.fdsn.mass_downloader - INFO: 1 StationXML files [0.0 MB] already existed.\n",
      "[2021-11-25 00:48:19,730] - obspy.clients.fdsn.mass_downloader - INFO: Client 'GEONET' - Acquired 1 MiniSEED files [0.0 MB].\n",
      "[2021-11-25 00:48:19,731] - obspy.clients.fdsn.mass_downloader - INFO: Client 'GEONET' - Acquired 0 StationXML files [0.0 MB].\n",
      "[2021-11-25 00:48:19,732] - obspy.clients.fdsn.mass_downloader - INFO: Downloaded 0.0 MB in total.\n",
      "[2021-11-25 00:48:19,741] - obspy.clients.fdsn.mass_downloader - INFO: Initializing FDSN client(s) for GEONET.\n",
      "[2021-11-25 00:48:19,746] - obspy.clients.fdsn.mass_downloader - INFO: Successfully initialized 1 client(s): GEONET.\n",
      "[2021-11-25 00:48:19,747] - obspy.clients.fdsn.mass_downloader - INFO: Total acquired or preexisting stations: 0\n",
      "[2021-11-25 00:48:19,747] - obspy.clients.fdsn.mass_downloader - INFO: Client 'GEONET' - Requesting unreliable availability.\n"
     ]
    },
    {
     "name": "stdout",
     "output_type": "stream",
     "text": [
      "=================================================================\n",
      "Initiating mass download request.\n"
     ]
    },
    {
     "name": "stderr",
     "output_type": "stream",
     "text": [
      "[2021-11-25 00:48:20,320] - obspy.clients.fdsn.mass_downloader - INFO: Client 'GEONET' - Successfully requested availability (0.57 seconds)\n",
      "[2021-11-25 00:48:20,329] - obspy.clients.fdsn.mass_downloader - INFO: Client 'GEONET' - Found 1 stations (1 channels).\n",
      "[2021-11-25 00:48:20,337] - obspy.clients.fdsn.mass_downloader - INFO: Client 'GEONET' - Will attempt to download data from 1 stations.\n",
      "[2021-11-25 00:48:20,345] - obspy.clients.fdsn.mass_downloader - INFO: Client 'GEONET' - Status for 1 time intervals/channels before downloading: NEEDS_DOWNLOADING\n",
      "[2021-11-25 00:48:21,257] - obspy.clients.fdsn.mass_downloader - INFO: Client 'GEONET' - Successfully downloaded 1 channels (of 1)\n",
      "[2021-11-25 00:48:21,277] - obspy.clients.fdsn.mass_downloader - INFO: Client 'GEONET' - Launching basic QC checks...\n",
      "[2021-11-25 00:48:21,290] - obspy.clients.fdsn.mass_downloader - INFO: Client 'GEONET' - Downloaded 0.0 MB [3.82 KB/sec] of data, 0.0 MB of which were discarded afterwards.\n",
      "[2021-11-25 00:48:21,291] - obspy.clients.fdsn.mass_downloader - INFO: Client 'GEONET' - Status for 1 time intervals/channels after downloading: DOWNLOADED\n",
      "[2021-11-25 00:48:21,828] - obspy.clients.fdsn.mass_downloader - INFO: Client 'GEONET' - Successfully downloaded 'normal/stations/NZ.BKZ.xml'.\n",
      "[2021-11-25 00:48:21,830] - obspy.clients.fdsn.mass_downloader - INFO: Client 'GEONET' - Downloaded 1 station files [0.0 MB] in 0.5 seconds [15.93 KB/sec].\n",
      "[2021-11-25 00:48:21,831] - obspy.clients.fdsn.mass_downloader - INFO: ============================== Final report\n",
      "[2021-11-25 00:48:21,831] - obspy.clients.fdsn.mass_downloader - INFO: 0 MiniSEED files [0.0 MB] already existed.\n",
      "[2021-11-25 00:48:21,832] - obspy.clients.fdsn.mass_downloader - INFO: 0 StationXML files [0.0 MB] already existed.\n",
      "[2021-11-25 00:48:21,832] - obspy.clients.fdsn.mass_downloader - INFO: Client 'GEONET' - Acquired 1 MiniSEED files [0.0 MB].\n",
      "[2021-11-25 00:48:21,832] - obspy.clients.fdsn.mass_downloader - INFO: Client 'GEONET' - Acquired 1 StationXML files [0.0 MB].\n",
      "[2021-11-25 00:48:21,832] - obspy.clients.fdsn.mass_downloader - INFO: Downloaded 0.0 MB in total.\n",
      "[2021-11-25 00:48:21,835] - obspy.clients.fdsn.mass_downloader - INFO: Initializing FDSN client(s) for GEONET.\n",
      "[2021-11-25 00:48:21,843] - obspy.clients.fdsn.mass_downloader - INFO: Successfully initialized 1 client(s): GEONET.\n",
      "[2021-11-25 00:48:21,845] - obspy.clients.fdsn.mass_downloader - INFO: Total acquired or preexisting stations: 0\n",
      "[2021-11-25 00:48:21,845] - obspy.clients.fdsn.mass_downloader - INFO: Client 'GEONET' - Requesting unreliable availability.\n"
     ]
    },
    {
     "name": "stdout",
     "output_type": "stream",
     "text": [
      "=================================================================\n",
      "Initiating mass download request.\n"
     ]
    },
    {
     "name": "stderr",
     "output_type": "stream",
     "text": [
      "[2021-11-25 00:48:22,457] - obspy.clients.fdsn.mass_downloader - INFO: Client 'GEONET' - Successfully requested availability (0.61 seconds)\n",
      "[2021-11-25 00:48:22,462] - obspy.clients.fdsn.mass_downloader - INFO: Client 'GEONET' - Found 1 stations (1 channels).\n",
      "[2021-11-25 00:48:22,465] - obspy.clients.fdsn.mass_downloader - INFO: Client 'GEONET' - Will attempt to download data from 1 stations.\n",
      "[2021-11-25 00:48:22,472] - obspy.clients.fdsn.mass_downloader - INFO: Client 'GEONET' - Status for 1 time intervals/channels before downloading: NEEDS_DOWNLOADING\n",
      "[2021-11-25 00:48:23,323] - obspy.clients.fdsn.mass_downloader - INFO: Client 'GEONET' - Successfully downloaded 1 channels (of 1)\n",
      "[2021-11-25 00:48:23,350] - obspy.clients.fdsn.mass_downloader - INFO: Client 'GEONET' - Launching basic QC checks...\n",
      "[2021-11-25 00:48:23,370] - obspy.clients.fdsn.mass_downloader - INFO: Client 'GEONET' - Downloaded 0.0 MB [2.87 KB/sec] of data, 0.0 MB of which were discarded afterwards.\n",
      "[2021-11-25 00:48:23,373] - obspy.clients.fdsn.mass_downloader - INFO: Client 'GEONET' - Status for 1 time intervals/channels after downloading: DOWNLOADED\n",
      "[2021-11-25 00:48:23,382] - obspy.clients.fdsn.mass_downloader - INFO: Client 'GEONET' - No station information to download.\n",
      "[2021-11-25 00:48:23,387] - obspy.clients.fdsn.mass_downloader - INFO: ============================== Final report\n",
      "[2021-11-25 00:48:23,389] - obspy.clients.fdsn.mass_downloader - INFO: 0 MiniSEED files [0.0 MB] already existed.\n",
      "[2021-11-25 00:48:23,390] - obspy.clients.fdsn.mass_downloader - INFO: 1 StationXML files [0.0 MB] already existed.\n",
      "[2021-11-25 00:48:23,390] - obspy.clients.fdsn.mass_downloader - INFO: Client 'GEONET' - Acquired 1 MiniSEED files [0.0 MB].\n",
      "[2021-11-25 00:48:23,391] - obspy.clients.fdsn.mass_downloader - INFO: Client 'GEONET' - Acquired 0 StationXML files [0.0 MB].\n",
      "[2021-11-25 00:48:23,391] - obspy.clients.fdsn.mass_downloader - INFO: Downloaded 0.0 MB in total.\n",
      "[2021-11-25 00:48:23,403] - obspy.clients.fdsn.mass_downloader - INFO: Initializing FDSN client(s) for GEONET.\n",
      "[2021-11-25 00:48:23,413] - obspy.clients.fdsn.mass_downloader - INFO: Successfully initialized 1 client(s): GEONET.\n",
      "[2021-11-25 00:48:23,418] - obspy.clients.fdsn.mass_downloader - INFO: Total acquired or preexisting stations: 0\n",
      "[2021-11-25 00:48:23,424] - obspy.clients.fdsn.mass_downloader - INFO: Client 'GEONET' - Requesting unreliable availability.\n"
     ]
    },
    {
     "name": "stdout",
     "output_type": "stream",
     "text": [
      "=================================================================\n",
      "Initiating mass download request.\n"
     ]
    },
    {
     "name": "stderr",
     "output_type": "stream",
     "text": [
      "[2021-11-25 00:48:24,013] - obspy.clients.fdsn.mass_downloader - INFO: Client 'GEONET' - Successfully requested availability (0.59 seconds)\n",
      "[2021-11-25 00:48:24,021] - obspy.clients.fdsn.mass_downloader - INFO: Client 'GEONET' - Found 1 stations (1 channels).\n",
      "[2021-11-25 00:48:24,024] - obspy.clients.fdsn.mass_downloader - INFO: Client 'GEONET' - Will attempt to download data from 1 stations.\n",
      "[2021-11-25 00:48:24,028] - obspy.clients.fdsn.mass_downloader - INFO: Client 'GEONET' - Status for 1 time intervals/channels before downloading: NEEDS_DOWNLOADING\n",
      "[2021-11-25 00:48:24,842] - obspy.clients.fdsn.mass_downloader - INFO: Client 'GEONET' - Successfully downloaded 1 channels (of 1)\n",
      "[2021-11-25 00:48:24,851] - obspy.clients.fdsn.mass_downloader - INFO: Client 'GEONET' - Launching basic QC checks...\n",
      "[2021-11-25 00:48:24,863] - obspy.clients.fdsn.mass_downloader - INFO: Client 'GEONET' - Downloaded 0.0 MB [4.31 KB/sec] of data, 0.0 MB of which were discarded afterwards.\n",
      "[2021-11-25 00:48:24,864] - obspy.clients.fdsn.mass_downloader - INFO: Client 'GEONET' - Status for 1 time intervals/channels after downloading: DOWNLOADED\n",
      "[2021-11-25 00:48:24,870] - obspy.clients.fdsn.mass_downloader - INFO: Client 'GEONET' - No station information to download.\n",
      "[2021-11-25 00:48:24,874] - obspy.clients.fdsn.mass_downloader - INFO: ============================== Final report\n",
      "[2021-11-25 00:48:24,875] - obspy.clients.fdsn.mass_downloader - INFO: 0 MiniSEED files [0.0 MB] already existed.\n",
      "[2021-11-25 00:48:24,876] - obspy.clients.fdsn.mass_downloader - INFO: 1 StationXML files [0.0 MB] already existed.\n",
      "[2021-11-25 00:48:24,877] - obspy.clients.fdsn.mass_downloader - INFO: Client 'GEONET' - Acquired 1 MiniSEED files [0.0 MB].\n",
      "[2021-11-25 00:48:24,877] - obspy.clients.fdsn.mass_downloader - INFO: Client 'GEONET' - Acquired 0 StationXML files [0.0 MB].\n",
      "[2021-11-25 00:48:24,878] - obspy.clients.fdsn.mass_downloader - INFO: Downloaded 0.0 MB in total.\n",
      "[2021-11-25 00:48:24,885] - obspy.clients.fdsn.mass_downloader - INFO: Initializing FDSN client(s) for GEONET.\n",
      "[2021-11-25 00:48:24,893] - obspy.clients.fdsn.mass_downloader - INFO: Successfully initialized 1 client(s): GEONET.\n",
      "[2021-11-25 00:48:24,894] - obspy.clients.fdsn.mass_downloader - INFO: Total acquired or preexisting stations: 0\n",
      "[2021-11-25 00:48:24,895] - obspy.clients.fdsn.mass_downloader - INFO: Client 'GEONET' - Requesting unreliable availability.\n"
     ]
    },
    {
     "name": "stdout",
     "output_type": "stream",
     "text": [
      "=================================================================\n",
      "Initiating mass download request.\n"
     ]
    },
    {
     "name": "stderr",
     "output_type": "stream",
     "text": [
      "[2021-11-25 00:48:25,482] - obspy.clients.fdsn.mass_downloader - INFO: Client 'GEONET' - Successfully requested availability (0.59 seconds)\n",
      "[2021-11-25 00:48:25,484] - obspy.clients.fdsn.mass_downloader - INFO: Client 'GEONET' - Found 1 stations (1 channels).\n",
      "[2021-11-25 00:48:25,485] - obspy.clients.fdsn.mass_downloader - INFO: Client 'GEONET' - Will attempt to download data from 1 stations.\n",
      "[2021-11-25 00:48:25,486] - obspy.clients.fdsn.mass_downloader - INFO: Client 'GEONET' - Status for 1 time intervals/channels before downloading: NEEDS_DOWNLOADING\n",
      "[2021-11-25 00:48:26,453] - obspy.clients.fdsn.mass_downloader - INFO: Client 'GEONET' - Successfully downloaded 1 channels (of 1)\n",
      "[2021-11-25 00:48:26,460] - obspy.clients.fdsn.mass_downloader - INFO: Client 'GEONET' - Launching basic QC checks...\n",
      "[2021-11-25 00:48:26,465] - obspy.clients.fdsn.mass_downloader - INFO: Client 'GEONET' - Downloaded 0.0 MB [4.12 KB/sec] of data, 0.0 MB of which were discarded afterwards.\n",
      "[2021-11-25 00:48:26,467] - obspy.clients.fdsn.mass_downloader - INFO: Client 'GEONET' - Status for 1 time intervals/channels after downloading: DOWNLOADED\n",
      "[2021-11-25 00:48:26,470] - obspy.clients.fdsn.mass_downloader - INFO: Client 'GEONET' - No station information to download.\n",
      "[2021-11-25 00:48:26,471] - obspy.clients.fdsn.mass_downloader - INFO: ============================== Final report\n",
      "[2021-11-25 00:48:26,471] - obspy.clients.fdsn.mass_downloader - INFO: 0 MiniSEED files [0.0 MB] already existed.\n",
      "[2021-11-25 00:48:26,472] - obspy.clients.fdsn.mass_downloader - INFO: 1 StationXML files [0.0 MB] already existed.\n",
      "[2021-11-25 00:48:26,472] - obspy.clients.fdsn.mass_downloader - INFO: Client 'GEONET' - Acquired 1 MiniSEED files [0.0 MB].\n",
      "[2021-11-25 00:48:26,472] - obspy.clients.fdsn.mass_downloader - INFO: Client 'GEONET' - Acquired 0 StationXML files [0.0 MB].\n",
      "[2021-11-25 00:48:26,472] - obspy.clients.fdsn.mass_downloader - INFO: Downloaded 0.0 MB in total.\n",
      "[2021-11-25 00:48:26,478] - obspy.clients.fdsn.mass_downloader - INFO: Initializing FDSN client(s) for GEONET.\n",
      "[2021-11-25 00:48:26,482] - obspy.clients.fdsn.mass_downloader - INFO: Successfully initialized 1 client(s): GEONET.\n",
      "[2021-11-25 00:48:26,482] - obspy.clients.fdsn.mass_downloader - INFO: Total acquired or preexisting stations: 0\n",
      "[2021-11-25 00:48:26,482] - obspy.clients.fdsn.mass_downloader - INFO: Client 'GEONET' - Requesting unreliable availability.\n"
     ]
    },
    {
     "name": "stdout",
     "output_type": "stream",
     "text": [
      "=================================================================\n",
      "Initiating mass download request.\n"
     ]
    },
    {
     "name": "stderr",
     "output_type": "stream",
     "text": [
      "[2021-11-25 00:48:27,143] - obspy.clients.fdsn.mass_downloader - INFO: Client 'GEONET' - Successfully requested availability (0.66 seconds)\n",
      "[2021-11-25 00:48:27,151] - obspy.clients.fdsn.mass_downloader - INFO: Client 'GEONET' - Found 1 stations (1 channels).\n",
      "[2021-11-25 00:48:27,157] - obspy.clients.fdsn.mass_downloader - INFO: Client 'GEONET' - Will attempt to download data from 1 stations.\n",
      "[2021-11-25 00:48:27,159] - obspy.clients.fdsn.mass_downloader - INFO: Client 'GEONET' - Status for 1 time intervals/channels before downloading: NEEDS_DOWNLOADING\n",
      "[2021-11-25 00:48:28,062] - obspy.clients.fdsn.mass_downloader - INFO: Client 'GEONET' - Successfully downloaded 1 channels (of 1)\n",
      "[2021-11-25 00:48:28,071] - obspy.clients.fdsn.mass_downloader - INFO: Client 'GEONET' - Launching basic QC checks...\n",
      "[2021-11-25 00:48:28,086] - obspy.clients.fdsn.mass_downloader - INFO: Client 'GEONET' - Downloaded 0.0 MB [3.38 KB/sec] of data, 0.0 MB of which were discarded afterwards.\n",
      "[2021-11-25 00:48:28,087] - obspy.clients.fdsn.mass_downloader - INFO: Client 'GEONET' - Status for 1 time intervals/channels after downloading: DOWNLOADED\n",
      "[2021-11-25 00:48:28,094] - obspy.clients.fdsn.mass_downloader - INFO: Client 'GEONET' - No station information to download.\n",
      "[2021-11-25 00:48:28,095] - obspy.clients.fdsn.mass_downloader - INFO: ============================== Final report\n",
      "[2021-11-25 00:48:28,096] - obspy.clients.fdsn.mass_downloader - INFO: 0 MiniSEED files [0.0 MB] already existed.\n",
      "[2021-11-25 00:48:28,097] - obspy.clients.fdsn.mass_downloader - INFO: 1 StationXML files [0.0 MB] already existed.\n",
      "[2021-11-25 00:48:28,097] - obspy.clients.fdsn.mass_downloader - INFO: Client 'GEONET' - Acquired 1 MiniSEED files [0.0 MB].\n",
      "[2021-11-25 00:48:28,099] - obspy.clients.fdsn.mass_downloader - INFO: Client 'GEONET' - Acquired 0 StationXML files [0.0 MB].\n",
      "[2021-11-25 00:48:28,099] - obspy.clients.fdsn.mass_downloader - INFO: Downloaded 0.0 MB in total.\n",
      "[2021-11-25 00:48:28,106] - obspy.clients.fdsn.mass_downloader - INFO: Initializing FDSN client(s) for GEONET.\n",
      "[2021-11-25 00:48:28,120] - obspy.clients.fdsn.mass_downloader - INFO: Successfully initialized 1 client(s): GEONET.\n",
      "[2021-11-25 00:48:28,121] - obspy.clients.fdsn.mass_downloader - INFO: Total acquired or preexisting stations: 0\n",
      "[2021-11-25 00:48:28,122] - obspy.clients.fdsn.mass_downloader - INFO: Client 'GEONET' - Requesting unreliable availability.\n"
     ]
    },
    {
     "name": "stdout",
     "output_type": "stream",
     "text": [
      "=================================================================\n",
      "Initiating mass download request.\n"
     ]
    },
    {
     "name": "stderr",
     "output_type": "stream",
     "text": [
      "[2021-11-25 00:48:28,677] - obspy.clients.fdsn.mass_downloader - INFO: Client 'GEONET' - Successfully requested availability (0.55 seconds)\n",
      "[2021-11-25 00:48:28,680] - obspy.clients.fdsn.mass_downloader - INFO: Client 'GEONET' - Found 1 stations (1 channels).\n",
      "[2021-11-25 00:48:28,681] - obspy.clients.fdsn.mass_downloader - INFO: Client 'GEONET' - Will attempt to download data from 1 stations.\n",
      "[2021-11-25 00:48:28,684] - obspy.clients.fdsn.mass_downloader - INFO: Client 'GEONET' - Status for 1 time intervals/channels before downloading: NEEDS_DOWNLOADING\n",
      "[2021-11-25 00:48:29,723] - obspy.clients.fdsn.mass_downloader - INFO: Client 'GEONET' - Successfully downloaded 1 channels (of 1)\n",
      "[2021-11-25 00:48:29,730] - obspy.clients.fdsn.mass_downloader - INFO: Client 'GEONET' - Launching basic QC checks...\n",
      "[2021-11-25 00:48:29,739] - obspy.clients.fdsn.mass_downloader - INFO: Client 'GEONET' - Downloaded 0.0 MB [3.36 KB/sec] of data, 0.0 MB of which were discarded afterwards.\n",
      "[2021-11-25 00:48:29,740] - obspy.clients.fdsn.mass_downloader - INFO: Client 'GEONET' - Status for 1 time intervals/channels after downloading: DOWNLOADED\n",
      "[2021-11-25 00:48:29,742] - obspy.clients.fdsn.mass_downloader - INFO: Client 'GEONET' - No station information to download.\n",
      "[2021-11-25 00:48:29,743] - obspy.clients.fdsn.mass_downloader - INFO: ============================== Final report\n",
      "[2021-11-25 00:48:29,743] - obspy.clients.fdsn.mass_downloader - INFO: 0 MiniSEED files [0.0 MB] already existed.\n",
      "[2021-11-25 00:48:29,744] - obspy.clients.fdsn.mass_downloader - INFO: 1 StationXML files [0.0 MB] already existed.\n",
      "[2021-11-25 00:48:29,744] - obspy.clients.fdsn.mass_downloader - INFO: Client 'GEONET' - Acquired 1 MiniSEED files [0.0 MB].\n",
      "[2021-11-25 00:48:29,744] - obspy.clients.fdsn.mass_downloader - INFO: Client 'GEONET' - Acquired 0 StationXML files [0.0 MB].\n",
      "[2021-11-25 00:48:29,744] - obspy.clients.fdsn.mass_downloader - INFO: Downloaded 0.0 MB in total.\n",
      "[2021-11-25 00:48:29,750] - obspy.clients.fdsn.mass_downloader - INFO: Initializing FDSN client(s) for GEONET.\n",
      "[2021-11-25 00:48:29,753] - obspy.clients.fdsn.mass_downloader - INFO: Successfully initialized 1 client(s): GEONET.\n",
      "[2021-11-25 00:48:29,754] - obspy.clients.fdsn.mass_downloader - INFO: Total acquired or preexisting stations: 0\n",
      "[2021-11-25 00:48:29,754] - obspy.clients.fdsn.mass_downloader - INFO: Client 'GEONET' - Requesting unreliable availability.\n"
     ]
    },
    {
     "name": "stdout",
     "output_type": "stream",
     "text": [
      "=================================================================\n",
      "Initiating mass download request.\n"
     ]
    },
    {
     "name": "stderr",
     "output_type": "stream",
     "text": [
      "[2021-11-25 00:48:30,336] - obspy.clients.fdsn.mass_downloader - INFO: Client 'GEONET' - Successfully requested availability (0.58 seconds)\n",
      "[2021-11-25 00:48:30,338] - obspy.clients.fdsn.mass_downloader - INFO: Client 'GEONET' - Found 1 stations (1 channels).\n",
      "[2021-11-25 00:48:30,338] - obspy.clients.fdsn.mass_downloader - INFO: Client 'GEONET' - Will attempt to download data from 1 stations.\n",
      "[2021-11-25 00:48:30,339] - obspy.clients.fdsn.mass_downloader - INFO: Client 'GEONET' - Status for 1 time intervals/channels before downloading: NEEDS_DOWNLOADING\n",
      "[2021-11-25 00:48:31,399] - obspy.clients.fdsn.mass_downloader - INFO: Client 'GEONET' - Successfully downloaded 1 channels (of 1)\n",
      "[2021-11-25 00:48:31,407] - obspy.clients.fdsn.mass_downloader - INFO: Client 'GEONET' - Launching basic QC checks...\n",
      "[2021-11-25 00:48:31,416] - obspy.clients.fdsn.mass_downloader - INFO: Client 'GEONET' - Downloaded 0.0 MB [3.28 KB/sec] of data, 0.0 MB of which were discarded afterwards.\n",
      "[2021-11-25 00:48:31,417] - obspy.clients.fdsn.mass_downloader - INFO: Client 'GEONET' - Status for 1 time intervals/channels after downloading: DOWNLOADED\n",
      "[2021-11-25 00:48:31,419] - obspy.clients.fdsn.mass_downloader - INFO: Client 'GEONET' - No station information to download.\n",
      "[2021-11-25 00:48:31,419] - obspy.clients.fdsn.mass_downloader - INFO: ============================== Final report\n",
      "[2021-11-25 00:48:31,420] - obspy.clients.fdsn.mass_downloader - INFO: 0 MiniSEED files [0.0 MB] already existed.\n",
      "[2021-11-25 00:48:31,420] - obspy.clients.fdsn.mass_downloader - INFO: 1 StationXML files [0.0 MB] already existed.\n",
      "[2021-11-25 00:48:31,421] - obspy.clients.fdsn.mass_downloader - INFO: Client 'GEONET' - Acquired 1 MiniSEED files [0.0 MB].\n",
      "[2021-11-25 00:48:31,421] - obspy.clients.fdsn.mass_downloader - INFO: Client 'GEONET' - Acquired 0 StationXML files [0.0 MB].\n",
      "[2021-11-25 00:48:31,421] - obspy.clients.fdsn.mass_downloader - INFO: Downloaded 0.0 MB in total.\n",
      "[2021-11-25 00:48:31,427] - obspy.clients.fdsn.mass_downloader - INFO: Initializing FDSN client(s) for GEONET.\n",
      "[2021-11-25 00:48:31,430] - obspy.clients.fdsn.mass_downloader - INFO: Successfully initialized 1 client(s): GEONET.\n",
      "[2021-11-25 00:48:31,431] - obspy.clients.fdsn.mass_downloader - INFO: Total acquired or preexisting stations: 0\n",
      "[2021-11-25 00:48:31,431] - obspy.clients.fdsn.mass_downloader - INFO: Client 'GEONET' - Requesting unreliable availability.\n"
     ]
    },
    {
     "name": "stdout",
     "output_type": "stream",
     "text": [
      "=================================================================\n",
      "Initiating mass download request.\n"
     ]
    },
    {
     "name": "stderr",
     "output_type": "stream",
     "text": [
      "[2021-11-25 00:48:31,969] - obspy.clients.fdsn.mass_downloader - INFO: Client 'GEONET' - No data available for request.\n",
      "[2021-11-25 00:48:31,971] - obspy.clients.fdsn.mass_downloader - INFO: Client 'GEONET' - No data available.\n",
      "[2021-11-25 00:48:31,971] - obspy.clients.fdsn.mass_downloader - INFO: ============================== Final report\n",
      "[2021-11-25 00:48:31,971] - obspy.clients.fdsn.mass_downloader - INFO: 0 MiniSEED files [0.0 MB] already existed.\n",
      "[2021-11-25 00:48:31,971] - obspy.clients.fdsn.mass_downloader - INFO: 0 StationXML files [0.0 MB] already existed.\n",
      "[2021-11-25 00:48:31,972] - obspy.clients.fdsn.mass_downloader - INFO: Client 'GEONET' - Acquired 0 MiniSEED files [0.0 MB].\n",
      "[2021-11-25 00:48:31,972] - obspy.clients.fdsn.mass_downloader - INFO: Client 'GEONET' - Acquired 0 StationXML files [0.0 MB].\n",
      "[2021-11-25 00:48:31,977] - obspy.clients.fdsn.mass_downloader - INFO: Downloaded 0.0 MB in total.\n",
      "[2021-11-25 00:48:31,978] - obspy.clients.fdsn.mass_downloader - INFO: Initializing FDSN client(s) for GEONET.\n",
      "[2021-11-25 00:48:31,985] - obspy.clients.fdsn.mass_downloader - INFO: Successfully initialized 1 client(s): GEONET.\n",
      "[2021-11-25 00:48:31,985] - obspy.clients.fdsn.mass_downloader - INFO: Total acquired or preexisting stations: 0\n",
      "[2021-11-25 00:48:31,986] - obspy.clients.fdsn.mass_downloader - INFO: Client 'GEONET' - Requesting unreliable availability.\n"
     ]
    },
    {
     "name": "stdout",
     "output_type": "stream",
     "text": [
      "=================================================================\n",
      "Initiating mass download request.\n"
     ]
    },
    {
     "name": "stderr",
     "output_type": "stream",
     "text": [
      "[2021-11-25 00:48:32,534] - obspy.clients.fdsn.mass_downloader - INFO: Client 'GEONET' - Successfully requested availability (0.55 seconds)\n",
      "[2021-11-25 00:48:32,534] - obspy.clients.fdsn.mass_downloader - INFO: Client 'GEONET' - Found 1 stations (1 channels).\n",
      "[2021-11-25 00:48:32,535] - obspy.clients.fdsn.mass_downloader - INFO: Client 'GEONET' - Will attempt to download data from 1 stations.\n",
      "[2021-11-25 00:48:32,538] - obspy.clients.fdsn.mass_downloader - INFO: Client 'GEONET' - Status for 1 time intervals/channels before downloading: NEEDS_DOWNLOADING\n",
      "[2021-11-25 00:48:33,346] - obspy.clients.fdsn.mass_downloader - INFO: Client 'GEONET' - Successfully downloaded 1 channels (of 1)\n",
      "[2021-11-25 00:48:33,357] - obspy.clients.fdsn.mass_downloader - INFO: Client 'GEONET' - Launching basic QC checks...\n",
      "[2021-11-25 00:48:33,371] - obspy.clients.fdsn.mass_downloader - INFO: Client 'GEONET' - Downloaded 0.0 MB [3.68 KB/sec] of data, 0.0 MB of which were discarded afterwards.\n",
      "[2021-11-25 00:48:33,372] - obspy.clients.fdsn.mass_downloader - INFO: Client 'GEONET' - Status for 1 time intervals/channels after downloading: DOWNLOADED\n",
      "[2021-11-25 00:48:33,375] - obspy.clients.fdsn.mass_downloader - INFO: Client 'GEONET' - No station information to download.\n",
      "[2021-11-25 00:48:33,376] - obspy.clients.fdsn.mass_downloader - INFO: ============================== Final report\n",
      "[2021-11-25 00:48:33,376] - obspy.clients.fdsn.mass_downloader - INFO: 0 MiniSEED files [0.0 MB] already existed.\n",
      "[2021-11-25 00:48:33,377] - obspy.clients.fdsn.mass_downloader - INFO: 1 StationXML files [0.0 MB] already existed.\n",
      "[2021-11-25 00:48:33,377] - obspy.clients.fdsn.mass_downloader - INFO: Client 'GEONET' - Acquired 1 MiniSEED files [0.0 MB].\n",
      "[2021-11-25 00:48:33,377] - obspy.clients.fdsn.mass_downloader - INFO: Client 'GEONET' - Acquired 0 StationXML files [0.0 MB].\n",
      "[2021-11-25 00:48:33,378] - obspy.clients.fdsn.mass_downloader - INFO: Downloaded 0.0 MB in total.\n",
      "[2021-11-25 00:48:33,383] - obspy.clients.fdsn.mass_downloader - INFO: Initializing FDSN client(s) for GEONET.\n",
      "[2021-11-25 00:48:33,387] - obspy.clients.fdsn.mass_downloader - INFO: Successfully initialized 1 client(s): GEONET.\n",
      "[2021-11-25 00:48:33,388] - obspy.clients.fdsn.mass_downloader - INFO: Total acquired or preexisting stations: 0\n",
      "[2021-11-25 00:48:33,388] - obspy.clients.fdsn.mass_downloader - INFO: Client 'GEONET' - Requesting unreliable availability.\n"
     ]
    },
    {
     "name": "stdout",
     "output_type": "stream",
     "text": [
      "=================================================================\n",
      "Initiating mass download request.\n"
     ]
    },
    {
     "name": "stderr",
     "output_type": "stream",
     "text": [
      "[2021-11-25 00:48:33,937] - obspy.clients.fdsn.mass_downloader - INFO: Client 'GEONET' - Successfully requested availability (0.55 seconds)\n",
      "[2021-11-25 00:48:33,938] - obspy.clients.fdsn.mass_downloader - INFO: Client 'GEONET' - Found 1 stations (1 channels).\n",
      "[2021-11-25 00:48:33,938] - obspy.clients.fdsn.mass_downloader - INFO: Client 'GEONET' - Will attempt to download data from 1 stations.\n",
      "[2021-11-25 00:48:33,939] - obspy.clients.fdsn.mass_downloader - INFO: Client 'GEONET' - Status for 1 time intervals/channels before downloading: NEEDS_DOWNLOADING\n",
      "[2021-11-25 00:48:34,904] - obspy.clients.fdsn.mass_downloader - INFO: Client 'GEONET' - Successfully downloaded 1 channels (of 1)\n",
      "[2021-11-25 00:48:34,919] - obspy.clients.fdsn.mass_downloader - INFO: Client 'GEONET' - Launching basic QC checks...\n",
      "[2021-11-25 00:48:34,937] - obspy.clients.fdsn.mass_downloader - INFO: Client 'GEONET' - Downloaded 0.0 MB [4.60 KB/sec] of data, 0.0 MB of which were discarded afterwards.\n",
      "[2021-11-25 00:48:34,943] - obspy.clients.fdsn.mass_downloader - INFO: Client 'GEONET' - Status for 1 time intervals/channels after downloading: DOWNLOADED\n",
      "[2021-11-25 00:48:34,948] - obspy.clients.fdsn.mass_downloader - INFO: Client 'GEONET' - No station information to download.\n",
      "[2021-11-25 00:48:34,953] - obspy.clients.fdsn.mass_downloader - INFO: ============================== Final report\n",
      "[2021-11-25 00:48:34,956] - obspy.clients.fdsn.mass_downloader - INFO: 0 MiniSEED files [0.0 MB] already existed.\n",
      "[2021-11-25 00:48:34,957] - obspy.clients.fdsn.mass_downloader - INFO: 1 StationXML files [0.0 MB] already existed.\n",
      "[2021-11-25 00:48:34,958] - obspy.clients.fdsn.mass_downloader - INFO: Client 'GEONET' - Acquired 1 MiniSEED files [0.0 MB].\n",
      "[2021-11-25 00:48:34,959] - obspy.clients.fdsn.mass_downloader - INFO: Client 'GEONET' - Acquired 0 StationXML files [0.0 MB].\n",
      "[2021-11-25 00:48:34,960] - obspy.clients.fdsn.mass_downloader - INFO: Downloaded 0.0 MB in total.\n",
      "[2021-11-25 00:48:34,967] - obspy.clients.fdsn.mass_downloader - INFO: Initializing FDSN client(s) for GEONET.\n",
      "[2021-11-25 00:48:34,982] - obspy.clients.fdsn.mass_downloader - INFO: Successfully initialized 1 client(s): GEONET.\n",
      "[2021-11-25 00:48:34,984] - obspy.clients.fdsn.mass_downloader - INFO: Total acquired or preexisting stations: 0\n",
      "[2021-11-25 00:48:34,985] - obspy.clients.fdsn.mass_downloader - INFO: Client 'GEONET' - Requesting unreliable availability.\n"
     ]
    },
    {
     "name": "stdout",
     "output_type": "stream",
     "text": [
      "=================================================================\n",
      "Initiating mass download request.\n"
     ]
    },
    {
     "name": "stderr",
     "output_type": "stream",
     "text": [
      "[2021-11-25 00:48:35,620] - obspy.clients.fdsn.mass_downloader - INFO: Client 'GEONET' - Successfully requested availability (0.63 seconds)\n",
      "[2021-11-25 00:48:35,623] - obspy.clients.fdsn.mass_downloader - INFO: Client 'GEONET' - Found 1 stations (1 channels).\n",
      "[2021-11-25 00:48:35,623] - obspy.clients.fdsn.mass_downloader - INFO: Client 'GEONET' - Will attempt to download data from 1 stations.\n",
      "[2021-11-25 00:48:35,624] - obspy.clients.fdsn.mass_downloader - INFO: Client 'GEONET' - Status for 1 time intervals/channels before downloading: NEEDS_DOWNLOADING\n",
      "[2021-11-25 00:48:36,604] - obspy.clients.fdsn.mass_downloader - INFO: Client 'GEONET' - Successfully downloaded 1 channels (of 1)\n",
      "[2021-11-25 00:48:36,623] - obspy.clients.fdsn.mass_downloader - INFO: Client 'GEONET' - Launching basic QC checks...\n",
      "[2021-11-25 00:48:36,644] - obspy.clients.fdsn.mass_downloader - INFO: Client 'GEONET' - Downloaded 0.0 MB [3.53 KB/sec] of data, 0.0 MB of which were discarded afterwards.\n",
      "[2021-11-25 00:48:36,646] - obspy.clients.fdsn.mass_downloader - INFO: Client 'GEONET' - Status for 1 time intervals/channels after downloading: DOWNLOADED\n",
      "[2021-11-25 00:48:36,652] - obspy.clients.fdsn.mass_downloader - INFO: Client 'GEONET' - No station information to download.\n",
      "[2021-11-25 00:48:36,658] - obspy.clients.fdsn.mass_downloader - INFO: ============================== Final report\n",
      "[2021-11-25 00:48:36,660] - obspy.clients.fdsn.mass_downloader - INFO: 0 MiniSEED files [0.0 MB] already existed.\n",
      "[2021-11-25 00:48:36,661] - obspy.clients.fdsn.mass_downloader - INFO: 1 StationXML files [0.0 MB] already existed.\n",
      "[2021-11-25 00:48:36,662] - obspy.clients.fdsn.mass_downloader - INFO: Client 'GEONET' - Acquired 1 MiniSEED files [0.0 MB].\n",
      "[2021-11-25 00:48:36,664] - obspy.clients.fdsn.mass_downloader - INFO: Client 'GEONET' - Acquired 0 StationXML files [0.0 MB].\n",
      "[2021-11-25 00:48:36,666] - obspy.clients.fdsn.mass_downloader - INFO: Downloaded 0.0 MB in total.\n",
      "[2021-11-25 00:48:36,675] - obspy.clients.fdsn.mass_downloader - INFO: Initializing FDSN client(s) for GEONET.\n",
      "[2021-11-25 00:48:36,680] - obspy.clients.fdsn.mass_downloader - INFO: Successfully initialized 1 client(s): GEONET.\n",
      "[2021-11-25 00:48:36,683] - obspy.clients.fdsn.mass_downloader - INFO: Total acquired or preexisting stations: 0\n",
      "[2021-11-25 00:48:36,685] - obspy.clients.fdsn.mass_downloader - INFO: Client 'GEONET' - Requesting unreliable availability.\n"
     ]
    },
    {
     "name": "stdout",
     "output_type": "stream",
     "text": [
      "=================================================================\n",
      "Initiating mass download request.\n"
     ]
    },
    {
     "name": "stderr",
     "output_type": "stream",
     "text": [
      "[2021-11-25 00:48:37,277] - obspy.clients.fdsn.mass_downloader - INFO: Client 'GEONET' - Successfully requested availability (0.59 seconds)\n",
      "[2021-11-25 00:48:37,282] - obspy.clients.fdsn.mass_downloader - INFO: Client 'GEONET' - Found 1 stations (1 channels).\n",
      "[2021-11-25 00:48:37,282] - obspy.clients.fdsn.mass_downloader - INFO: Client 'GEONET' - Will attempt to download data from 1 stations.\n",
      "[2021-11-25 00:48:37,283] - obspy.clients.fdsn.mass_downloader - INFO: Client 'GEONET' - Status for 1 time intervals/channels before downloading: NEEDS_DOWNLOADING\n",
      "[2021-11-25 00:48:38,334] - obspy.clients.fdsn.mass_downloader - INFO: Client 'GEONET' - Successfully downloaded 1 channels (of 1)\n",
      "[2021-11-25 00:48:38,338] - obspy.clients.fdsn.mass_downloader - INFO: Client 'GEONET' - Launching basic QC checks...\n",
      "[2021-11-25 00:48:38,358] - obspy.clients.fdsn.mass_downloader - INFO: Client 'GEONET' - Downloaded 0.0 MB [2.86 KB/sec] of data, 0.0 MB of which were discarded afterwards.\n",
      "[2021-11-25 00:48:38,358] - obspy.clients.fdsn.mass_downloader - INFO: Client 'GEONET' - Status for 1 time intervals/channels after downloading: DOWNLOADED\n",
      "[2021-11-25 00:48:38,361] - obspy.clients.fdsn.mass_downloader - INFO: Client 'GEONET' - No station information to download.\n",
      "[2021-11-25 00:48:38,363] - obspy.clients.fdsn.mass_downloader - INFO: ============================== Final report\n",
      "[2021-11-25 00:48:38,365] - obspy.clients.fdsn.mass_downloader - INFO: 0 MiniSEED files [0.0 MB] already existed.\n",
      "[2021-11-25 00:48:38,366] - obspy.clients.fdsn.mass_downloader - INFO: 1 StationXML files [0.0 MB] already existed.\n",
      "[2021-11-25 00:48:38,367] - obspy.clients.fdsn.mass_downloader - INFO: Client 'GEONET' - Acquired 1 MiniSEED files [0.0 MB].\n",
      "[2021-11-25 00:48:38,368] - obspy.clients.fdsn.mass_downloader - INFO: Client 'GEONET' - Acquired 0 StationXML files [0.0 MB].\n",
      "[2021-11-25 00:48:38,368] - obspy.clients.fdsn.mass_downloader - INFO: Downloaded 0.0 MB in total.\n",
      "[2021-11-25 00:48:38,380] - obspy.clients.fdsn.mass_downloader - INFO: Initializing FDSN client(s) for GEONET.\n",
      "[2021-11-25 00:48:38,389] - obspy.clients.fdsn.mass_downloader - INFO: Successfully initialized 1 client(s): GEONET.\n",
      "[2021-11-25 00:48:38,390] - obspy.clients.fdsn.mass_downloader - INFO: Total acquired or preexisting stations: 0\n",
      "[2021-11-25 00:48:38,391] - obspy.clients.fdsn.mass_downloader - INFO: Client 'GEONET' - Requesting unreliable availability.\n"
     ]
    },
    {
     "name": "stdout",
     "output_type": "stream",
     "text": [
      "=================================================================\n",
      "Initiating mass download request.\n"
     ]
    },
    {
     "name": "stderr",
     "output_type": "stream",
     "text": [
      "[2021-11-25 00:48:39,058] - obspy.clients.fdsn.mass_downloader - INFO: Client 'GEONET' - Successfully requested availability (0.67 seconds)\n",
      "[2021-11-25 00:48:39,059] - obspy.clients.fdsn.mass_downloader - INFO: Client 'GEONET' - Found 1 stations (1 channels).\n",
      "[2021-11-25 00:48:39,059] - obspy.clients.fdsn.mass_downloader - INFO: Client 'GEONET' - Will attempt to download data from 1 stations.\n",
      "[2021-11-25 00:48:39,060] - obspy.clients.fdsn.mass_downloader - INFO: Client 'GEONET' - Status for 1 time intervals/channels before downloading: NEEDS_DOWNLOADING\n",
      "[2021-11-25 00:48:40,030] - obspy.clients.fdsn.mass_downloader - INFO: Client 'GEONET' - Successfully downloaded 1 channels (of 1)\n",
      "[2021-11-25 00:48:40,039] - obspy.clients.fdsn.mass_downloader - INFO: Client 'GEONET' - Launching basic QC checks...\n",
      "[2021-11-25 00:48:40,060] - obspy.clients.fdsn.mass_downloader - INFO: Client 'GEONET' - Downloaded 0.0 MB [4.09 KB/sec] of data, 0.0 MB of which were discarded afterwards.\n",
      "[2021-11-25 00:48:40,065] - obspy.clients.fdsn.mass_downloader - INFO: Client 'GEONET' - Status for 1 time intervals/channels after downloading: DOWNLOADED\n",
      "[2021-11-25 00:48:40,081] - obspy.clients.fdsn.mass_downloader - INFO: Client 'GEONET' - No station information to download.\n",
      "[2021-11-25 00:48:40,091] - obspy.clients.fdsn.mass_downloader - INFO: ============================== Final report\n",
      "[2021-11-25 00:48:40,092] - obspy.clients.fdsn.mass_downloader - INFO: 0 MiniSEED files [0.0 MB] already existed.\n",
      "[2021-11-25 00:48:40,093] - obspy.clients.fdsn.mass_downloader - INFO: 1 StationXML files [0.0 MB] already existed.\n",
      "[2021-11-25 00:48:40,094] - obspy.clients.fdsn.mass_downloader - INFO: Client 'GEONET' - Acquired 1 MiniSEED files [0.0 MB].\n",
      "[2021-11-25 00:48:40,095] - obspy.clients.fdsn.mass_downloader - INFO: Client 'GEONET' - Acquired 0 StationXML files [0.0 MB].\n",
      "[2021-11-25 00:48:40,096] - obspy.clients.fdsn.mass_downloader - INFO: Downloaded 0.0 MB in total.\n",
      "[2021-11-25 00:48:40,108] - obspy.clients.fdsn.mass_downloader - INFO: Initializing FDSN client(s) for GEONET.\n",
      "[2021-11-25 00:48:40,125] - obspy.clients.fdsn.mass_downloader - INFO: Successfully initialized 1 client(s): GEONET.\n",
      "[2021-11-25 00:48:40,130] - obspy.clients.fdsn.mass_downloader - INFO: Total acquired or preexisting stations: 0\n",
      "[2021-11-25 00:48:40,131] - obspy.clients.fdsn.mass_downloader - INFO: Client 'GEONET' - Requesting unreliable availability.\n"
     ]
    },
    {
     "name": "stdout",
     "output_type": "stream",
     "text": [
      "=================================================================\n",
      "Initiating mass download request.\n"
     ]
    },
    {
     "name": "stderr",
     "output_type": "stream",
     "text": [
      "[2021-11-25 00:48:40,732] - obspy.clients.fdsn.mass_downloader - INFO: Client 'GEONET' - Successfully requested availability (0.60 seconds)\n",
      "[2021-11-25 00:48:40,740] - obspy.clients.fdsn.mass_downloader - INFO: Client 'GEONET' - Found 1 stations (1 channels).\n",
      "[2021-11-25 00:48:40,741] - obspy.clients.fdsn.mass_downloader - INFO: Client 'GEONET' - Will attempt to download data from 1 stations.\n",
      "[2021-11-25 00:48:40,741] - obspy.clients.fdsn.mass_downloader - INFO: Client 'GEONET' - Status for 1 time intervals/channels before downloading: NEEDS_DOWNLOADING\n",
      "[2021-11-25 00:48:41,647] - obspy.clients.fdsn.mass_downloader - INFO: Client 'GEONET' - Successfully downloaded 1 channels (of 1)\n",
      "[2021-11-25 00:48:41,655] - obspy.clients.fdsn.mass_downloader - INFO: Client 'GEONET' - Launching basic QC checks...\n",
      "[2021-11-25 00:48:41,663] - obspy.clients.fdsn.mass_downloader - INFO: Client 'GEONET' - Downloaded 0.0 MB [3.32 KB/sec] of data, 0.0 MB of which were discarded afterwards.\n",
      "[2021-11-25 00:48:41,664] - obspy.clients.fdsn.mass_downloader - INFO: Client 'GEONET' - Status for 1 time intervals/channels after downloading: DOWNLOADED\n",
      "[2021-11-25 00:48:41,670] - obspy.clients.fdsn.mass_downloader - INFO: Client 'GEONET' - No station information to download.\n",
      "[2021-11-25 00:48:41,671] - obspy.clients.fdsn.mass_downloader - INFO: ============================== Final report\n",
      "[2021-11-25 00:48:41,671] - obspy.clients.fdsn.mass_downloader - INFO: 0 MiniSEED files [0.0 MB] already existed.\n",
      "[2021-11-25 00:48:41,671] - obspy.clients.fdsn.mass_downloader - INFO: 1 StationXML files [0.0 MB] already existed.\n",
      "[2021-11-25 00:48:41,671] - obspy.clients.fdsn.mass_downloader - INFO: Client 'GEONET' - Acquired 1 MiniSEED files [0.0 MB].\n",
      "[2021-11-25 00:48:41,672] - obspy.clients.fdsn.mass_downloader - INFO: Client 'GEONET' - Acquired 0 StationXML files [0.0 MB].\n",
      "[2021-11-25 00:48:41,672] - obspy.clients.fdsn.mass_downloader - INFO: Downloaded 0.0 MB in total.\n",
      "[2021-11-25 00:48:41,674] - obspy.clients.fdsn.mass_downloader - INFO: Initializing FDSN client(s) for GEONET.\n",
      "[2021-11-25 00:48:41,678] - obspy.clients.fdsn.mass_downloader - INFO: Successfully initialized 1 client(s): GEONET.\n",
      "[2021-11-25 00:48:41,678] - obspy.clients.fdsn.mass_downloader - INFO: Total acquired or preexisting stations: 0\n",
      "[2021-11-25 00:48:41,679] - obspy.clients.fdsn.mass_downloader - INFO: Client 'GEONET' - Requesting unreliable availability.\n"
     ]
    },
    {
     "name": "stdout",
     "output_type": "stream",
     "text": [
      "=================================================================\n",
      "Initiating mass download request.\n"
     ]
    },
    {
     "name": "stderr",
     "output_type": "stream",
     "text": [
      "[2021-11-25 00:48:42,221] - obspy.clients.fdsn.mass_downloader - INFO: Client 'GEONET' - Successfully requested availability (0.54 seconds)\n",
      "[2021-11-25 00:48:42,222] - obspy.clients.fdsn.mass_downloader - INFO: Client 'GEONET' - Found 1 stations (1 channels).\n",
      "[2021-11-25 00:48:42,222] - obspy.clients.fdsn.mass_downloader - INFO: Client 'GEONET' - Will attempt to download data from 1 stations.\n",
      "[2021-11-25 00:48:42,222] - obspy.clients.fdsn.mass_downloader - INFO: Client 'GEONET' - Status for 1 time intervals/channels before downloading: NEEDS_DOWNLOADING\n",
      "[2021-11-25 00:48:43,066] - obspy.clients.fdsn.mass_downloader - INFO: Client 'GEONET' - Successfully downloaded 1 channels (of 1)\n",
      "[2021-11-25 00:48:43,075] - obspy.clients.fdsn.mass_downloader - INFO: Client 'GEONET' - Launching basic QC checks...\n",
      "[2021-11-25 00:48:43,093] - obspy.clients.fdsn.mass_downloader - INFO: Client 'GEONET' - Downloaded 0.0 MB [3.52 KB/sec] of data, 0.0 MB of which were discarded afterwards.\n",
      "[2021-11-25 00:48:43,094] - obspy.clients.fdsn.mass_downloader - INFO: Client 'GEONET' - Status for 1 time intervals/channels after downloading: DOWNLOADED\n",
      "[2021-11-25 00:48:43,107] - obspy.clients.fdsn.mass_downloader - INFO: Client 'GEONET' - No station information to download.\n",
      "[2021-11-25 00:48:43,109] - obspy.clients.fdsn.mass_downloader - INFO: ============================== Final report\n",
      "[2021-11-25 00:48:43,112] - obspy.clients.fdsn.mass_downloader - INFO: 0 MiniSEED files [0.0 MB] already existed.\n",
      "[2021-11-25 00:48:43,113] - obspy.clients.fdsn.mass_downloader - INFO: 1 StationXML files [0.0 MB] already existed.\n",
      "[2021-11-25 00:48:43,113] - obspy.clients.fdsn.mass_downloader - INFO: Client 'GEONET' - Acquired 1 MiniSEED files [0.0 MB].\n",
      "[2021-11-25 00:48:43,115] - obspy.clients.fdsn.mass_downloader - INFO: Client 'GEONET' - Acquired 0 StationXML files [0.0 MB].\n",
      "[2021-11-25 00:48:43,116] - obspy.clients.fdsn.mass_downloader - INFO: Downloaded 0.0 MB in total.\n",
      "[2021-11-25 00:48:43,124] - obspy.clients.fdsn.mass_downloader - INFO: Initializing FDSN client(s) for GEONET.\n",
      "[2021-11-25 00:48:43,130] - obspy.clients.fdsn.mass_downloader - INFO: Successfully initialized 1 client(s): GEONET.\n",
      "[2021-11-25 00:48:43,131] - obspy.clients.fdsn.mass_downloader - INFO: Total acquired or preexisting stations: 0\n",
      "[2021-11-25 00:48:43,131] - obspy.clients.fdsn.mass_downloader - INFO: Client 'GEONET' - Requesting unreliable availability.\n"
     ]
    },
    {
     "name": "stdout",
     "output_type": "stream",
     "text": [
      "=================================================================\n",
      "Initiating mass download request.\n"
     ]
    },
    {
     "name": "stderr",
     "output_type": "stream",
     "text": [
      "[2021-11-25 00:48:43,777] - obspy.clients.fdsn.mass_downloader - INFO: Client 'GEONET' - Successfully requested availability (0.65 seconds)\n",
      "[2021-11-25 00:48:43,785] - obspy.clients.fdsn.mass_downloader - INFO: Client 'GEONET' - Found 1 stations (1 channels).\n",
      "[2021-11-25 00:48:43,786] - obspy.clients.fdsn.mass_downloader - INFO: Client 'GEONET' - Will attempt to download data from 1 stations.\n",
      "[2021-11-25 00:48:43,789] - obspy.clients.fdsn.mass_downloader - INFO: Client 'GEONET' - Status for 1 time intervals/channels before downloading: NEEDS_DOWNLOADING\n",
      "[2021-11-25 00:48:44,757] - obspy.clients.fdsn.mass_downloader - INFO: Client 'GEONET' - Successfully downloaded 1 channels (of 1)\n",
      "[2021-11-25 00:48:44,772] - obspy.clients.fdsn.mass_downloader - INFO: Client 'GEONET' - Launching basic QC checks...\n",
      "[2021-11-25 00:48:44,781] - obspy.clients.fdsn.mass_downloader - INFO: Client 'GEONET' - Downloaded 0.0 MB [4.09 KB/sec] of data, 0.0 MB of which were discarded afterwards.\n",
      "[2021-11-25 00:48:44,785] - obspy.clients.fdsn.mass_downloader - INFO: Client 'GEONET' - Status for 1 time intervals/channels after downloading: DOWNLOADED\n",
      "[2021-11-25 00:48:44,797] - obspy.clients.fdsn.mass_downloader - INFO: Client 'GEONET' - No station information to download.\n",
      "[2021-11-25 00:48:44,798] - obspy.clients.fdsn.mass_downloader - INFO: ============================== Final report\n",
      "[2021-11-25 00:48:44,800] - obspy.clients.fdsn.mass_downloader - INFO: 0 MiniSEED files [0.0 MB] already existed.\n",
      "[2021-11-25 00:48:44,801] - obspy.clients.fdsn.mass_downloader - INFO: 1 StationXML files [0.0 MB] already existed.\n",
      "[2021-11-25 00:48:44,801] - obspy.clients.fdsn.mass_downloader - INFO: Client 'GEONET' - Acquired 1 MiniSEED files [0.0 MB].\n",
      "[2021-11-25 00:48:44,801] - obspy.clients.fdsn.mass_downloader - INFO: Client 'GEONET' - Acquired 0 StationXML files [0.0 MB].\n",
      "[2021-11-25 00:48:44,802] - obspy.clients.fdsn.mass_downloader - INFO: Downloaded 0.0 MB in total.\n",
      "[2021-11-25 00:48:44,807] - obspy.clients.fdsn.mass_downloader - INFO: Initializing FDSN client(s) for GEONET.\n",
      "[2021-11-25 00:48:44,811] - obspy.clients.fdsn.mass_downloader - INFO: Successfully initialized 1 client(s): GEONET.\n",
      "[2021-11-25 00:48:44,812] - obspy.clients.fdsn.mass_downloader - INFO: Total acquired or preexisting stations: 0\n",
      "[2021-11-25 00:48:44,812] - obspy.clients.fdsn.mass_downloader - INFO: Client 'GEONET' - Requesting unreliable availability.\n"
     ]
    },
    {
     "name": "stdout",
     "output_type": "stream",
     "text": [
      "=================================================================\n",
      "Initiating mass download request.\n"
     ]
    },
    {
     "name": "stderr",
     "output_type": "stream",
     "text": [
      "[2021-11-25 00:48:45,543] - obspy.clients.fdsn.mass_downloader - INFO: Client 'GEONET' - Successfully requested availability (0.73 seconds)\n",
      "[2021-11-25 00:48:45,549] - obspy.clients.fdsn.mass_downloader - INFO: Client 'GEONET' - Found 1 stations (1 channels).\n",
      "[2021-11-25 00:48:45,550] - obspy.clients.fdsn.mass_downloader - INFO: Client 'GEONET' - Will attempt to download data from 1 stations.\n",
      "[2021-11-25 00:48:45,558] - obspy.clients.fdsn.mass_downloader - INFO: Client 'GEONET' - Status for 1 time intervals/channels before downloading: NEEDS_DOWNLOADING\n",
      "[2021-11-25 00:48:46,533] - obspy.clients.fdsn.mass_downloader - INFO: Client 'GEONET' - Successfully downloaded 1 channels (of 1)\n",
      "[2021-11-25 00:48:46,540] - obspy.clients.fdsn.mass_downloader - INFO: Client 'GEONET' - Launching basic QC checks...\n",
      "[2021-11-25 00:48:46,553] - obspy.clients.fdsn.mass_downloader - INFO: Client 'GEONET' - Downloaded 0.0 MB [4.10 KB/sec] of data, 0.0 MB of which were discarded afterwards.\n",
      "[2021-11-25 00:48:46,560] - obspy.clients.fdsn.mass_downloader - INFO: Client 'GEONET' - Status for 1 time intervals/channels after downloading: DOWNLOADED\n",
      "[2021-11-25 00:48:46,570] - obspy.clients.fdsn.mass_downloader - INFO: Client 'GEONET' - No station information to download.\n",
      "[2021-11-25 00:48:46,572] - obspy.clients.fdsn.mass_downloader - INFO: ============================== Final report\n",
      "[2021-11-25 00:48:46,572] - obspy.clients.fdsn.mass_downloader - INFO: 0 MiniSEED files [0.0 MB] already existed.\n",
      "[2021-11-25 00:48:46,573] - obspy.clients.fdsn.mass_downloader - INFO: 1 StationXML files [0.0 MB] already existed.\n",
      "[2021-11-25 00:48:46,573] - obspy.clients.fdsn.mass_downloader - INFO: Client 'GEONET' - Acquired 1 MiniSEED files [0.0 MB].\n",
      "[2021-11-25 00:48:46,574] - obspy.clients.fdsn.mass_downloader - INFO: Client 'GEONET' - Acquired 0 StationXML files [0.0 MB].\n",
      "[2021-11-25 00:48:46,574] - obspy.clients.fdsn.mass_downloader - INFO: Downloaded 0.0 MB in total.\n",
      "[2021-11-25 00:48:46,577] - obspy.clients.fdsn.mass_downloader - INFO: Initializing FDSN client(s) for GEONET.\n",
      "[2021-11-25 00:48:46,583] - obspy.clients.fdsn.mass_downloader - INFO: Successfully initialized 1 client(s): GEONET.\n",
      "[2021-11-25 00:48:46,586] - obspy.clients.fdsn.mass_downloader - INFO: Total acquired or preexisting stations: 0\n",
      "[2021-11-25 00:48:46,586] - obspy.clients.fdsn.mass_downloader - INFO: Client 'GEONET' - Requesting unreliable availability.\n"
     ]
    },
    {
     "name": "stdout",
     "output_type": "stream",
     "text": [
      "=================================================================\n",
      "Initiating mass download request.\n"
     ]
    },
    {
     "name": "stderr",
     "output_type": "stream",
     "text": [
      "[2021-11-25 00:48:47,255] - obspy.clients.fdsn.mass_downloader - INFO: Client 'GEONET' - Successfully requested availability (0.67 seconds)\n",
      "[2021-11-25 00:48:47,271] - obspy.clients.fdsn.mass_downloader - INFO: Client 'GEONET' - Found 1 stations (1 channels).\n",
      "[2021-11-25 00:48:47,273] - obspy.clients.fdsn.mass_downloader - INFO: Client 'GEONET' - Will attempt to download data from 1 stations.\n",
      "[2021-11-25 00:48:47,275] - obspy.clients.fdsn.mass_downloader - INFO: Client 'GEONET' - Status for 1 time intervals/channels before downloading: NEEDS_DOWNLOADING\n",
      "[2021-11-25 00:48:48,131] - obspy.clients.fdsn.mass_downloader - INFO: Client 'GEONET' - Successfully downloaded 1 channels (of 1)\n",
      "[2021-11-25 00:48:48,145] - obspy.clients.fdsn.mass_downloader - INFO: Client 'GEONET' - Launching basic QC checks...\n",
      "[2021-11-25 00:48:48,157] - obspy.clients.fdsn.mass_downloader - INFO: Client 'GEONET' - Downloaded 0.0 MB [3.50 KB/sec] of data, 0.0 MB of which were discarded afterwards.\n",
      "[2021-11-25 00:48:48,160] - obspy.clients.fdsn.mass_downloader - INFO: Client 'GEONET' - Status for 1 time intervals/channels after downloading: DOWNLOADED\n",
      "[2021-11-25 00:48:48,163] - obspy.clients.fdsn.mass_downloader - INFO: Client 'GEONET' - No station information to download.\n",
      "[2021-11-25 00:48:48,164] - obspy.clients.fdsn.mass_downloader - INFO: ============================== Final report\n",
      "[2021-11-25 00:48:48,165] - obspy.clients.fdsn.mass_downloader - INFO: 0 MiniSEED files [0.0 MB] already existed.\n",
      "[2021-11-25 00:48:48,167] - obspy.clients.fdsn.mass_downloader - INFO: 1 StationXML files [0.0 MB] already existed.\n",
      "[2021-11-25 00:48:48,167] - obspy.clients.fdsn.mass_downloader - INFO: Client 'GEONET' - Acquired 1 MiniSEED files [0.0 MB].\n",
      "[2021-11-25 00:48:48,167] - obspy.clients.fdsn.mass_downloader - INFO: Client 'GEONET' - Acquired 0 StationXML files [0.0 MB].\n",
      "[2021-11-25 00:48:48,168] - obspy.clients.fdsn.mass_downloader - INFO: Downloaded 0.0 MB in total.\n",
      "[2021-11-25 00:48:48,172] - obspy.clients.fdsn.mass_downloader - INFO: Initializing FDSN client(s) for GEONET.\n",
      "[2021-11-25 00:48:48,179] - obspy.clients.fdsn.mass_downloader - INFO: Successfully initialized 1 client(s): GEONET.\n",
      "[2021-11-25 00:48:48,180] - obspy.clients.fdsn.mass_downloader - INFO: Total acquired or preexisting stations: 0\n",
      "[2021-11-25 00:48:48,181] - obspy.clients.fdsn.mass_downloader - INFO: Client 'GEONET' - Requesting unreliable availability.\n"
     ]
    },
    {
     "name": "stdout",
     "output_type": "stream",
     "text": [
      "=================================================================\n",
      "Initiating mass download request.\n"
     ]
    },
    {
     "name": "stderr",
     "output_type": "stream",
     "text": [
      "[2021-11-25 00:48:48,709] - obspy.clients.fdsn.mass_downloader - INFO: Client 'GEONET' - Successfully requested availability (0.53 seconds)\n",
      "[2021-11-25 00:48:48,710] - obspy.clients.fdsn.mass_downloader - INFO: Client 'GEONET' - Found 1 stations (1 channels).\n",
      "[2021-11-25 00:48:48,711] - obspy.clients.fdsn.mass_downloader - INFO: Client 'GEONET' - Will attempt to download data from 1 stations.\n",
      "[2021-11-25 00:48:48,711] - obspy.clients.fdsn.mass_downloader - INFO: Client 'GEONET' - Status for 1 time intervals/channels before downloading: NEEDS_DOWNLOADING\n",
      "[2021-11-25 00:48:49,299] - obspy.clients.fdsn.mass_downloader - INFO: Client 'GEONET' - No data available for request.\n",
      "[2021-11-25 00:48:49,301] - obspy.clients.fdsn.mass_downloader - INFO: Client 'GEONET' - Launching basic QC checks...\n",
      "[2021-11-25 00:48:49,302] - obspy.clients.fdsn.mass_downloader - INFO: Client 'GEONET' - Downloaded 0.0 MB [0.00 KB/sec] of data, 0.0 MB of which were discarded afterwards.\n",
      "[2021-11-25 00:48:49,303] - obspy.clients.fdsn.mass_downloader - INFO: Client 'GEONET' - Status for 1 time intervals/channels after downloading: DOWNLOAD_FAILED\n",
      "[2021-11-25 00:48:49,304] - obspy.clients.fdsn.mass_downloader - INFO: Client 'GEONET' - No station information to download.\n",
      "[2021-11-25 00:48:49,305] - obspy.clients.fdsn.mass_downloader - INFO: Client 'GEONET' - No data could be downloaded.\n",
      "[2021-11-25 00:48:49,306] - obspy.clients.fdsn.mass_downloader - INFO: ============================== Final report\n",
      "[2021-11-25 00:48:49,306] - obspy.clients.fdsn.mass_downloader - INFO: 0 MiniSEED files [0.0 MB] already existed.\n",
      "[2021-11-25 00:48:49,308] - obspy.clients.fdsn.mass_downloader - INFO: 0 StationXML files [0.0 MB] already existed.\n",
      "[2021-11-25 00:48:49,310] - obspy.clients.fdsn.mass_downloader - INFO: Client 'GEONET' - Acquired 0 MiniSEED files [0.0 MB].\n",
      "[2021-11-25 00:48:49,311] - obspy.clients.fdsn.mass_downloader - INFO: Client 'GEONET' - Acquired 0 StationXML files [0.0 MB].\n",
      "[2021-11-25 00:48:49,311] - obspy.clients.fdsn.mass_downloader - INFO: Downloaded 0.0 MB in total.\n",
      "[2021-11-25 00:48:49,322] - obspy.clients.fdsn.mass_downloader - INFO: Initializing FDSN client(s) for GEONET.\n",
      "[2021-11-25 00:48:49,332] - obspy.clients.fdsn.mass_downloader - INFO: Successfully initialized 1 client(s): GEONET.\n",
      "[2021-11-25 00:48:49,338] - obspy.clients.fdsn.mass_downloader - INFO: Total acquired or preexisting stations: 0\n",
      "[2021-11-25 00:48:49,339] - obspy.clients.fdsn.mass_downloader - INFO: Client 'GEONET' - Requesting unreliable availability.\n"
     ]
    },
    {
     "name": "stdout",
     "output_type": "stream",
     "text": [
      "=================================================================\n",
      "Initiating mass download request.\n"
     ]
    },
    {
     "name": "stderr",
     "output_type": "stream",
     "text": [
      "[2021-11-25 00:48:49,896] - obspy.clients.fdsn.mass_downloader - INFO: Client 'GEONET' - Successfully requested availability (0.56 seconds)\n",
      "[2021-11-25 00:48:49,897] - obspy.clients.fdsn.mass_downloader - INFO: Client 'GEONET' - Found 1 stations (1 channels).\n",
      "[2021-11-25 00:48:49,898] - obspy.clients.fdsn.mass_downloader - INFO: Client 'GEONET' - Will attempt to download data from 1 stations.\n",
      "[2021-11-25 00:48:49,902] - obspy.clients.fdsn.mass_downloader - INFO: Client 'GEONET' - Status for 1 time intervals/channels before downloading: NEEDS_DOWNLOADING\n",
      "[2021-11-25 00:48:51,513] - obspy.clients.fdsn.mass_downloader - INFO: Client 'GEONET' - Successfully downloaded 1 channels (of 1)\n",
      "[2021-11-25 00:48:51,527] - obspy.clients.fdsn.mass_downloader - INFO: Client 'GEONET' - Launching basic QC checks...\n",
      "[2021-11-25 00:48:51,548] - obspy.clients.fdsn.mass_downloader - INFO: Client 'GEONET' - Downloaded 0.0 MB [2.16 KB/sec] of data, 0.0 MB of which were discarded afterwards.\n",
      "[2021-11-25 00:48:51,549] - obspy.clients.fdsn.mass_downloader - INFO: Client 'GEONET' - Status for 1 time intervals/channels after downloading: DOWNLOADED\n",
      "[2021-11-25 00:48:51,557] - obspy.clients.fdsn.mass_downloader - INFO: Client 'GEONET' - No station information to download.\n",
      "[2021-11-25 00:48:51,559] - obspy.clients.fdsn.mass_downloader - INFO: ============================== Final report\n",
      "[2021-11-25 00:48:51,559] - obspy.clients.fdsn.mass_downloader - INFO: 0 MiniSEED files [0.0 MB] already existed.\n",
      "[2021-11-25 00:48:51,560] - obspy.clients.fdsn.mass_downloader - INFO: 1 StationXML files [0.0 MB] already existed.\n",
      "[2021-11-25 00:48:51,560] - obspy.clients.fdsn.mass_downloader - INFO: Client 'GEONET' - Acquired 1 MiniSEED files [0.0 MB].\n",
      "[2021-11-25 00:48:51,561] - obspy.clients.fdsn.mass_downloader - INFO: Client 'GEONET' - Acquired 0 StationXML files [0.0 MB].\n",
      "[2021-11-25 00:48:51,561] - obspy.clients.fdsn.mass_downloader - INFO: Downloaded 0.0 MB in total.\n",
      "[2021-11-25 00:48:51,567] - obspy.clients.fdsn.mass_downloader - INFO: Initializing FDSN client(s) for GEONET.\n",
      "[2021-11-25 00:48:51,576] - obspy.clients.fdsn.mass_downloader - INFO: Successfully initialized 1 client(s): GEONET.\n",
      "[2021-11-25 00:48:51,577] - obspy.clients.fdsn.mass_downloader - INFO: Total acquired or preexisting stations: 0\n",
      "[2021-11-25 00:48:51,577] - obspy.clients.fdsn.mass_downloader - INFO: Client 'GEONET' - Requesting unreliable availability.\n"
     ]
    },
    {
     "name": "stdout",
     "output_type": "stream",
     "text": [
      "=================================================================\n",
      "Initiating mass download request.\n"
     ]
    },
    {
     "name": "stderr",
     "output_type": "stream",
     "text": [
      "[2021-11-25 00:48:52,242] - obspy.clients.fdsn.mass_downloader - INFO: Client 'GEONET' - Successfully requested availability (0.66 seconds)\n",
      "[2021-11-25 00:48:52,246] - obspy.clients.fdsn.mass_downloader - INFO: Client 'GEONET' - Found 1 stations (1 channels).\n",
      "[2021-11-25 00:48:52,247] - obspy.clients.fdsn.mass_downloader - INFO: Client 'GEONET' - Will attempt to download data from 1 stations.\n",
      "[2021-11-25 00:48:52,248] - obspy.clients.fdsn.mass_downloader - INFO: Client 'GEONET' - Status for 1 time intervals/channels before downloading: NEEDS_DOWNLOADING\n",
      "[2021-11-25 00:48:53,106] - obspy.clients.fdsn.mass_downloader - INFO: Client 'GEONET' - Successfully downloaded 1 channels (of 1)\n",
      "[2021-11-25 00:48:53,121] - obspy.clients.fdsn.mass_downloader - INFO: Client 'GEONET' - Launching basic QC checks...\n",
      "[2021-11-25 00:48:53,140] - obspy.clients.fdsn.mass_downloader - INFO: Client 'GEONET' - Downloaded 0.0 MB [4.03 KB/sec] of data, 0.0 MB of which were discarded afterwards.\n",
      "[2021-11-25 00:48:53,142] - obspy.clients.fdsn.mass_downloader - INFO: Client 'GEONET' - Status for 1 time intervals/channels after downloading: DOWNLOADED\n",
      "[2021-11-25 00:48:53,149] - obspy.clients.fdsn.mass_downloader - INFO: Client 'GEONET' - No station information to download.\n",
      "[2021-11-25 00:48:53,151] - obspy.clients.fdsn.mass_downloader - INFO: ============================== Final report\n",
      "[2021-11-25 00:48:53,151] - obspy.clients.fdsn.mass_downloader - INFO: 0 MiniSEED files [0.0 MB] already existed.\n",
      "[2021-11-25 00:48:53,152] - obspy.clients.fdsn.mass_downloader - INFO: 1 StationXML files [0.0 MB] already existed.\n",
      "[2021-11-25 00:48:53,152] - obspy.clients.fdsn.mass_downloader - INFO: Client 'GEONET' - Acquired 1 MiniSEED files [0.0 MB].\n",
      "[2021-11-25 00:48:53,153] - obspy.clients.fdsn.mass_downloader - INFO: Client 'GEONET' - Acquired 0 StationXML files [0.0 MB].\n",
      "[2021-11-25 00:48:53,153] - obspy.clients.fdsn.mass_downloader - INFO: Downloaded 0.0 MB in total.\n",
      "[2021-11-25 00:48:53,160] - obspy.clients.fdsn.mass_downloader - INFO: Initializing FDSN client(s) for GEONET.\n",
      "[2021-11-25 00:48:53,175] - obspy.clients.fdsn.mass_downloader - INFO: Successfully initialized 1 client(s): GEONET.\n",
      "[2021-11-25 00:48:53,178] - obspy.clients.fdsn.mass_downloader - INFO: Total acquired or preexisting stations: 0\n",
      "[2021-11-25 00:48:53,180] - obspy.clients.fdsn.mass_downloader - INFO: Client 'GEONET' - Requesting unreliable availability.\n"
     ]
    },
    {
     "name": "stdout",
     "output_type": "stream",
     "text": [
      "=================================================================\n",
      "Initiating mass download request.\n"
     ]
    },
    {
     "name": "stderr",
     "output_type": "stream",
     "text": [
      "[2021-11-25 00:48:53,715] - obspy.clients.fdsn.mass_downloader - INFO: Client 'GEONET' - Successfully requested availability (0.53 seconds)\n",
      "[2021-11-25 00:48:53,717] - obspy.clients.fdsn.mass_downloader - INFO: Client 'GEONET' - Found 1 stations (1 channels).\n",
      "[2021-11-25 00:48:53,717] - obspy.clients.fdsn.mass_downloader - INFO: Client 'GEONET' - Will attempt to download data from 1 stations.\n",
      "[2021-11-25 00:48:53,718] - obspy.clients.fdsn.mass_downloader - INFO: Client 'GEONET' - Status for 1 time intervals/channels before downloading: NEEDS_DOWNLOADING\n",
      "[2021-11-25 00:48:54,823] - obspy.clients.fdsn.mass_downloader - INFO: Client 'GEONET' - Successfully downloaded 1 channels (of 1)\n",
      "[2021-11-25 00:48:54,827] - obspy.clients.fdsn.mass_downloader - INFO: Client 'GEONET' - Launching basic QC checks...\n",
      "[2021-11-25 00:48:54,834] - obspy.clients.fdsn.mass_downloader - INFO: Client 'GEONET' - Downloaded 0.0 MB [3.61 KB/sec] of data, 0.0 MB of which were discarded afterwards.\n",
      "[2021-11-25 00:48:54,835] - obspy.clients.fdsn.mass_downloader - INFO: Client 'GEONET' - Status for 1 time intervals/channels after downloading: DOWNLOADED\n",
      "[2021-11-25 00:48:54,840] - obspy.clients.fdsn.mass_downloader - INFO: Client 'GEONET' - No station information to download.\n",
      "[2021-11-25 00:48:54,841] - obspy.clients.fdsn.mass_downloader - INFO: ============================== Final report\n",
      "[2021-11-25 00:48:54,842] - obspy.clients.fdsn.mass_downloader - INFO: 0 MiniSEED files [0.0 MB] already existed.\n",
      "[2021-11-25 00:48:54,842] - obspy.clients.fdsn.mass_downloader - INFO: 1 StationXML files [0.0 MB] already existed.\n",
      "[2021-11-25 00:48:54,842] - obspy.clients.fdsn.mass_downloader - INFO: Client 'GEONET' - Acquired 1 MiniSEED files [0.0 MB].\n",
      "[2021-11-25 00:48:54,843] - obspy.clients.fdsn.mass_downloader - INFO: Client 'GEONET' - Acquired 0 StationXML files [0.0 MB].\n",
      "[2021-11-25 00:48:54,843] - obspy.clients.fdsn.mass_downloader - INFO: Downloaded 0.0 MB in total.\n",
      "[2021-11-25 00:48:54,846] - obspy.clients.fdsn.mass_downloader - INFO: Initializing FDSN client(s) for GEONET.\n",
      "[2021-11-25 00:48:54,860] - obspy.clients.fdsn.mass_downloader - INFO: Successfully initialized 1 client(s): GEONET.\n",
      "[2021-11-25 00:48:54,863] - obspy.clients.fdsn.mass_downloader - INFO: Total acquired or preexisting stations: 0\n",
      "[2021-11-25 00:48:54,863] - obspy.clients.fdsn.mass_downloader - INFO: Client 'GEONET' - Requesting unreliable availability.\n"
     ]
    },
    {
     "name": "stdout",
     "output_type": "stream",
     "text": [
      "=================================================================\n",
      "Initiating mass download request.\n"
     ]
    },
    {
     "name": "stderr",
     "output_type": "stream",
     "text": [
      "[2021-11-25 00:48:55,508] - obspy.clients.fdsn.mass_downloader - INFO: Client 'GEONET' - Successfully requested availability (0.64 seconds)\n",
      "[2021-11-25 00:48:55,509] - obspy.clients.fdsn.mass_downloader - INFO: Client 'GEONET' - Found 1 stations (1 channels).\n",
      "[2021-11-25 00:48:55,509] - obspy.clients.fdsn.mass_downloader - INFO: Client 'GEONET' - Will attempt to download data from 1 stations.\n",
      "[2021-11-25 00:48:55,510] - obspy.clients.fdsn.mass_downloader - INFO: Client 'GEONET' - Status for 1 time intervals/channels before downloading: NEEDS_DOWNLOADING\n",
      "[2021-11-25 00:48:56,459] - obspy.clients.fdsn.mass_downloader - INFO: Client 'GEONET' - Successfully downloaded 1 channels (of 1)\n",
      "[2021-11-25 00:48:56,461] - obspy.clients.fdsn.mass_downloader - INFO: Client 'GEONET' - Launching basic QC checks...\n",
      "[2021-11-25 00:48:56,464] - obspy.clients.fdsn.mass_downloader - INFO: Client 'GEONET' - Downloaded 0.0 MB [3.68 KB/sec] of data, 0.0 MB of which were discarded afterwards.\n",
      "[2021-11-25 00:48:56,465] - obspy.clients.fdsn.mass_downloader - INFO: Client 'GEONET' - Status for 1 time intervals/channels after downloading: DOWNLOADED\n",
      "[2021-11-25 00:48:56,466] - obspy.clients.fdsn.mass_downloader - INFO: Client 'GEONET' - No station information to download.\n",
      "[2021-11-25 00:48:56,470] - obspy.clients.fdsn.mass_downloader - INFO: ============================== Final report\n",
      "[2021-11-25 00:48:56,470] - obspy.clients.fdsn.mass_downloader - INFO: 0 MiniSEED files [0.0 MB] already existed.\n",
      "[2021-11-25 00:48:56,470] - obspy.clients.fdsn.mass_downloader - INFO: 1 StationXML files [0.0 MB] already existed.\n",
      "[2021-11-25 00:48:56,471] - obspy.clients.fdsn.mass_downloader - INFO: Client 'GEONET' - Acquired 1 MiniSEED files [0.0 MB].\n",
      "[2021-11-25 00:48:56,471] - obspy.clients.fdsn.mass_downloader - INFO: Client 'GEONET' - Acquired 0 StationXML files [0.0 MB].\n",
      "[2021-11-25 00:48:56,471] - obspy.clients.fdsn.mass_downloader - INFO: Downloaded 0.0 MB in total.\n",
      "[2021-11-25 00:48:56,474] - obspy.clients.fdsn.mass_downloader - INFO: Initializing FDSN client(s) for GEONET.\n",
      "[2021-11-25 00:48:56,477] - obspy.clients.fdsn.mass_downloader - INFO: Successfully initialized 1 client(s): GEONET.\n",
      "[2021-11-25 00:48:56,477] - obspy.clients.fdsn.mass_downloader - INFO: Total acquired or preexisting stations: 0\n",
      "[2021-11-25 00:48:56,477] - obspy.clients.fdsn.mass_downloader - INFO: Client 'GEONET' - Requesting unreliable availability.\n"
     ]
    },
    {
     "name": "stdout",
     "output_type": "stream",
     "text": [
      "=================================================================\n",
      "Initiating mass download request.\n"
     ]
    },
    {
     "name": "stderr",
     "output_type": "stream",
     "text": [
      "[2021-11-25 00:48:57,044] - obspy.clients.fdsn.mass_downloader - INFO: Client 'GEONET' - Successfully requested availability (0.57 seconds)\n",
      "[2021-11-25 00:48:57,046] - obspy.clients.fdsn.mass_downloader - INFO: Client 'GEONET' - Found 1 stations (1 channels).\n",
      "[2021-11-25 00:48:57,046] - obspy.clients.fdsn.mass_downloader - INFO: Client 'GEONET' - Will attempt to download data from 1 stations.\n",
      "[2021-11-25 00:48:57,047] - obspy.clients.fdsn.mass_downloader - INFO: Client 'GEONET' - Status for 1 time intervals/channels before downloading: NEEDS_DOWNLOADING\n",
      "[2021-11-25 00:48:57,999] - obspy.clients.fdsn.mass_downloader - INFO: Client 'GEONET' - Successfully downloaded 1 channels (of 1)\n",
      "[2021-11-25 00:48:58,006] - obspy.clients.fdsn.mass_downloader - INFO: Client 'GEONET' - Launching basic QC checks...\n",
      "[2021-11-25 00:48:58,091] - obspy.clients.fdsn.mass_downloader - INFO: Client 'GEONET' - Downloaded 0.0 MB [3.14 KB/sec] of data, 0.0 MB of which were discarded afterwards.\n",
      "[2021-11-25 00:48:58,093] - obspy.clients.fdsn.mass_downloader - INFO: Client 'GEONET' - Status for 1 time intervals/channels after downloading: DOWNLOADED\n",
      "[2021-11-25 00:48:58,102] - obspy.clients.fdsn.mass_downloader - INFO: Client 'GEONET' - No station information to download.\n",
      "[2021-11-25 00:48:58,108] - obspy.clients.fdsn.mass_downloader - INFO: ============================== Final report\n",
      "[2021-11-25 00:48:58,110] - obspy.clients.fdsn.mass_downloader - INFO: 0 MiniSEED files [0.0 MB] already existed.\n",
      "[2021-11-25 00:48:58,111] - obspy.clients.fdsn.mass_downloader - INFO: 1 StationXML files [0.0 MB] already existed.\n",
      "[2021-11-25 00:48:58,113] - obspy.clients.fdsn.mass_downloader - INFO: Client 'GEONET' - Acquired 1 MiniSEED files [0.0 MB].\n",
      "[2021-11-25 00:48:58,114] - obspy.clients.fdsn.mass_downloader - INFO: Client 'GEONET' - Acquired 0 StationXML files [0.0 MB].\n",
      "[2021-11-25 00:48:58,115] - obspy.clients.fdsn.mass_downloader - INFO: Downloaded 0.0 MB in total.\n",
      "[2021-11-25 00:48:58,122] - obspy.clients.fdsn.mass_downloader - INFO: Initializing FDSN client(s) for GEONET.\n",
      "[2021-11-25 00:48:58,139] - obspy.clients.fdsn.mass_downloader - INFO: Successfully initialized 1 client(s): GEONET.\n",
      "[2021-11-25 00:48:58,143] - obspy.clients.fdsn.mass_downloader - INFO: Total acquired or preexisting stations: 0\n",
      "[2021-11-25 00:48:58,144] - obspy.clients.fdsn.mass_downloader - INFO: Client 'GEONET' - Requesting unreliable availability.\n"
     ]
    },
    {
     "name": "stdout",
     "output_type": "stream",
     "text": [
      "=================================================================\n",
      "Initiating mass download request.\n"
     ]
    },
    {
     "name": "stderr",
     "output_type": "stream",
     "text": [
      "[2021-11-25 00:48:58,761] - obspy.clients.fdsn.mass_downloader - INFO: Client 'GEONET' - Successfully requested availability (0.62 seconds)\n",
      "[2021-11-25 00:48:58,769] - obspy.clients.fdsn.mass_downloader - INFO: Client 'GEONET' - Found 1 stations (1 channels).\n",
      "[2021-11-25 00:48:58,771] - obspy.clients.fdsn.mass_downloader - INFO: Client 'GEONET' - Will attempt to download data from 1 stations.\n",
      "[2021-11-25 00:48:58,772] - obspy.clients.fdsn.mass_downloader - INFO: Client 'GEONET' - Status for 1 time intervals/channels before downloading: NEEDS_DOWNLOADING\n",
      "[2021-11-25 00:48:59,684] - obspy.clients.fdsn.mass_downloader - INFO: Client 'GEONET' - Successfully downloaded 1 channels (of 1)\n",
      "[2021-11-25 00:48:59,706] - obspy.clients.fdsn.mass_downloader - INFO: Client 'GEONET' - Launching basic QC checks...\n",
      "[2021-11-25 00:48:59,729] - obspy.clients.fdsn.mass_downloader - INFO: Client 'GEONET' - Downloaded 0.0 MB [3.24 KB/sec] of data, 0.0 MB of which were discarded afterwards.\n",
      "[2021-11-25 00:48:59,731] - obspy.clients.fdsn.mass_downloader - INFO: Client 'GEONET' - Status for 1 time intervals/channels after downloading: DOWNLOADED\n",
      "[2021-11-25 00:48:59,738] - obspy.clients.fdsn.mass_downloader - INFO: Client 'GEONET' - No station information to download.\n",
      "[2021-11-25 00:48:59,744] - obspy.clients.fdsn.mass_downloader - INFO: ============================== Final report\n",
      "[2021-11-25 00:48:59,746] - obspy.clients.fdsn.mass_downloader - INFO: 0 MiniSEED files [0.0 MB] already existed.\n",
      "[2021-11-25 00:48:59,748] - obspy.clients.fdsn.mass_downloader - INFO: 1 StationXML files [0.0 MB] already existed.\n",
      "[2021-11-25 00:48:59,749] - obspy.clients.fdsn.mass_downloader - INFO: Client 'GEONET' - Acquired 1 MiniSEED files [0.0 MB].\n",
      "[2021-11-25 00:48:59,754] - obspy.clients.fdsn.mass_downloader - INFO: Client 'GEONET' - Acquired 0 StationXML files [0.0 MB].\n",
      "[2021-11-25 00:48:59,755] - obspy.clients.fdsn.mass_downloader - INFO: Downloaded 0.0 MB in total.\n",
      "[2021-11-25 00:48:59,774] - obspy.clients.fdsn.mass_downloader - INFO: Initializing FDSN client(s) for GEONET.\n",
      "[2021-11-25 00:48:59,808] - obspy.clients.fdsn.mass_downloader - INFO: Successfully initialized 1 client(s): GEONET.\n",
      "[2021-11-25 00:48:59,811] - obspy.clients.fdsn.mass_downloader - INFO: Total acquired or preexisting stations: 0\n",
      "[2021-11-25 00:48:59,815] - obspy.clients.fdsn.mass_downloader - INFO: Client 'GEONET' - Requesting unreliable availability.\n"
     ]
    },
    {
     "name": "stdout",
     "output_type": "stream",
     "text": [
      "=================================================================\n",
      "Initiating mass download request.\n"
     ]
    },
    {
     "name": "stderr",
     "output_type": "stream",
     "text": [
      "[2021-11-25 00:49:00,427] - obspy.clients.fdsn.mass_downloader - INFO: Client 'GEONET' - Successfully requested availability (0.61 seconds)\n",
      "[2021-11-25 00:49:00,458] - obspy.clients.fdsn.mass_downloader - INFO: Client 'GEONET' - Found 1 stations (1 channels).\n",
      "[2021-11-25 00:49:00,461] - obspy.clients.fdsn.mass_downloader - INFO: Client 'GEONET' - Will attempt to download data from 1 stations.\n",
      "[2021-11-25 00:49:00,466] - obspy.clients.fdsn.mass_downloader - INFO: Client 'GEONET' - Status for 1 time intervals/channels before downloading: NEEDS_DOWNLOADING\n",
      "[2021-11-25 00:49:01,357] - obspy.clients.fdsn.mass_downloader - INFO: Client 'GEONET' - Successfully downloaded 1 channels (of 1)\n",
      "[2021-11-25 00:49:01,363] - obspy.clients.fdsn.mass_downloader - INFO: Client 'GEONET' - Launching basic QC checks...\n",
      "[2021-11-25 00:49:01,381] - obspy.clients.fdsn.mass_downloader - INFO: Client 'GEONET' - Downloaded 0.0 MB [3.98 KB/sec] of data, 0.0 MB of which were discarded afterwards.\n",
      "[2021-11-25 00:49:01,381] - obspy.clients.fdsn.mass_downloader - INFO: Client 'GEONET' - Status for 1 time intervals/channels after downloading: DOWNLOADED\n",
      "[2021-11-25 00:49:01,389] - obspy.clients.fdsn.mass_downloader - INFO: Client 'GEONET' - No station information to download.\n",
      "[2021-11-25 00:49:01,390] - obspy.clients.fdsn.mass_downloader - INFO: ============================== Final report\n",
      "[2021-11-25 00:49:01,390] - obspy.clients.fdsn.mass_downloader - INFO: 0 MiniSEED files [0.0 MB] already existed.\n",
      "[2021-11-25 00:49:01,391] - obspy.clients.fdsn.mass_downloader - INFO: 1 StationXML files [0.0 MB] already existed.\n",
      "[2021-11-25 00:49:01,391] - obspy.clients.fdsn.mass_downloader - INFO: Client 'GEONET' - Acquired 1 MiniSEED files [0.0 MB].\n",
      "[2021-11-25 00:49:01,391] - obspy.clients.fdsn.mass_downloader - INFO: Client 'GEONET' - Acquired 0 StationXML files [0.0 MB].\n",
      "[2021-11-25 00:49:01,391] - obspy.clients.fdsn.mass_downloader - INFO: Downloaded 0.0 MB in total.\n",
      "[2021-11-25 00:49:01,394] - obspy.clients.fdsn.mass_downloader - INFO: Initializing FDSN client(s) for GEONET.\n",
      "[2021-11-25 00:49:01,402] - obspy.clients.fdsn.mass_downloader - INFO: Successfully initialized 1 client(s): GEONET.\n",
      "[2021-11-25 00:49:01,403] - obspy.clients.fdsn.mass_downloader - INFO: Total acquired or preexisting stations: 0\n",
      "[2021-11-25 00:49:01,403] - obspy.clients.fdsn.mass_downloader - INFO: Client 'GEONET' - Requesting unreliable availability.\n"
     ]
    },
    {
     "name": "stdout",
     "output_type": "stream",
     "text": [
      "=================================================================\n",
      "Initiating mass download request.\n"
     ]
    },
    {
     "name": "stderr",
     "output_type": "stream",
     "text": [
      "[2021-11-25 00:49:02,089] - obspy.clients.fdsn.mass_downloader - INFO: Client 'GEONET' - Successfully requested availability (0.69 seconds)\n",
      "[2021-11-25 00:49:02,091] - obspy.clients.fdsn.mass_downloader - INFO: Client 'GEONET' - Found 1 stations (1 channels).\n",
      "[2021-11-25 00:49:02,091] - obspy.clients.fdsn.mass_downloader - INFO: Client 'GEONET' - Will attempt to download data from 1 stations.\n",
      "[2021-11-25 00:49:02,092] - obspy.clients.fdsn.mass_downloader - INFO: Client 'GEONET' - Status for 1 time intervals/channels before downloading: NEEDS_DOWNLOADING\n",
      "[2021-11-25 00:49:02,868] - obspy.clients.fdsn.mass_downloader - INFO: Client 'GEONET' - Successfully downloaded 1 channels (of 1)\n",
      "[2021-11-25 00:49:02,882] - obspy.clients.fdsn.mass_downloader - INFO: Client 'GEONET' - Launching basic QC checks...\n",
      "[2021-11-25 00:49:02,901] - obspy.clients.fdsn.mass_downloader - INFO: Client 'GEONET' - Downloaded 0.0 MB [3.83 KB/sec] of data, 0.0 MB of which were discarded afterwards.\n",
      "[2021-11-25 00:49:02,906] - obspy.clients.fdsn.mass_downloader - INFO: Client 'GEONET' - Status for 1 time intervals/channels after downloading: DOWNLOADED\n",
      "[2021-11-25 00:49:02,914] - obspy.clients.fdsn.mass_downloader - INFO: Client 'GEONET' - No station information to download.\n",
      "[2021-11-25 00:49:02,918] - obspy.clients.fdsn.mass_downloader - INFO: ============================== Final report\n",
      "[2021-11-25 00:49:02,923] - obspy.clients.fdsn.mass_downloader - INFO: 0 MiniSEED files [0.0 MB] already existed.\n",
      "[2021-11-25 00:49:02,926] - obspy.clients.fdsn.mass_downloader - INFO: 1 StationXML files [0.0 MB] already existed.\n",
      "[2021-11-25 00:49:02,926] - obspy.clients.fdsn.mass_downloader - INFO: Client 'GEONET' - Acquired 1 MiniSEED files [0.0 MB].\n",
      "[2021-11-25 00:49:02,926] - obspy.clients.fdsn.mass_downloader - INFO: Client 'GEONET' - Acquired 0 StationXML files [0.0 MB].\n",
      "[2021-11-25 00:49:02,927] - obspy.clients.fdsn.mass_downloader - INFO: Downloaded 0.0 MB in total.\n",
      "[2021-11-25 00:49:02,938] - obspy.clients.fdsn.mass_downloader - INFO: Initializing FDSN client(s) for GEONET.\n",
      "[2021-11-25 00:49:02,955] - obspy.clients.fdsn.mass_downloader - INFO: Successfully initialized 1 client(s): GEONET.\n",
      "[2021-11-25 00:49:02,956] - obspy.clients.fdsn.mass_downloader - INFO: Total acquired or preexisting stations: 0\n",
      "[2021-11-25 00:49:02,956] - obspy.clients.fdsn.mass_downloader - INFO: Client 'GEONET' - Requesting unreliable availability.\n"
     ]
    },
    {
     "name": "stdout",
     "output_type": "stream",
     "text": [
      "=================================================================\n",
      "Initiating mass download request.\n"
     ]
    },
    {
     "name": "stderr",
     "output_type": "stream",
     "text": [
      "[2021-11-25 00:49:03,553] - obspy.clients.fdsn.mass_downloader - INFO: Client 'GEONET' - Successfully requested availability (0.60 seconds)\n",
      "[2021-11-25 00:49:03,579] - obspy.clients.fdsn.mass_downloader - INFO: Client 'GEONET' - Found 1 stations (1 channels).\n",
      "[2021-11-25 00:49:03,605] - obspy.clients.fdsn.mass_downloader - INFO: Client 'GEONET' - Will attempt to download data from 1 stations.\n",
      "[2021-11-25 00:49:03,618] - obspy.clients.fdsn.mass_downloader - INFO: Client 'GEONET' - Status for 1 time intervals/channels before downloading: NEEDS_DOWNLOADING\n",
      "[2021-11-25 00:49:04,486] - obspy.clients.fdsn.mass_downloader - INFO: Client 'GEONET' - Successfully downloaded 1 channels (of 1)\n",
      "[2021-11-25 00:49:04,509] - obspy.clients.fdsn.mass_downloader - INFO: Client 'GEONET' - Launching basic QC checks...\n",
      "[2021-11-25 00:49:04,552] - obspy.clients.fdsn.mass_downloader - INFO: Client 'GEONET' - Downloaded 0.0 MB [4.12 KB/sec] of data, 0.0 MB of which were discarded afterwards.\n",
      "[2021-11-25 00:49:04,558] - obspy.clients.fdsn.mass_downloader - INFO: Client 'GEONET' - Status for 1 time intervals/channels after downloading: DOWNLOADED\n",
      "[2021-11-25 00:49:04,566] - obspy.clients.fdsn.mass_downloader - INFO: Client 'GEONET' - No station information to download.\n",
      "[2021-11-25 00:49:04,570] - obspy.clients.fdsn.mass_downloader - INFO: ============================== Final report\n",
      "[2021-11-25 00:49:04,577] - obspy.clients.fdsn.mass_downloader - INFO: 0 MiniSEED files [0.0 MB] already existed.\n",
      "[2021-11-25 00:49:04,580] - obspy.clients.fdsn.mass_downloader - INFO: 1 StationXML files [0.0 MB] already existed.\n",
      "[2021-11-25 00:49:04,582] - obspy.clients.fdsn.mass_downloader - INFO: Client 'GEONET' - Acquired 1 MiniSEED files [0.0 MB].\n",
      "[2021-11-25 00:49:04,582] - obspy.clients.fdsn.mass_downloader - INFO: Client 'GEONET' - Acquired 0 StationXML files [0.0 MB].\n",
      "[2021-11-25 00:49:04,582] - obspy.clients.fdsn.mass_downloader - INFO: Downloaded 0.0 MB in total.\n",
      "[2021-11-25 00:49:04,600] - obspy.clients.fdsn.mass_downloader - INFO: Initializing FDSN client(s) for GEONET.\n",
      "[2021-11-25 00:49:04,639] - obspy.clients.fdsn.mass_downloader - INFO: Successfully initialized 1 client(s): GEONET.\n",
      "[2021-11-25 00:49:04,644] - obspy.clients.fdsn.mass_downloader - INFO: Total acquired or preexisting stations: 0\n",
      "[2021-11-25 00:49:04,647] - obspy.clients.fdsn.mass_downloader - INFO: Client 'GEONET' - Requesting unreliable availability.\n"
     ]
    },
    {
     "name": "stdout",
     "output_type": "stream",
     "text": [
      "=================================================================\n",
      "Initiating mass download request.\n"
     ]
    },
    {
     "name": "stderr",
     "output_type": "stream",
     "text": [
      "[2021-11-25 00:49:05,258] - obspy.clients.fdsn.mass_downloader - INFO: Client 'GEONET' - Successfully requested availability (0.61 seconds)\n",
      "[2021-11-25 00:49:05,263] - obspy.clients.fdsn.mass_downloader - INFO: Client 'GEONET' - Found 1 stations (1 channels).\n",
      "[2021-11-25 00:49:05,265] - obspy.clients.fdsn.mass_downloader - INFO: Client 'GEONET' - Will attempt to download data from 1 stations.\n",
      "[2021-11-25 00:49:05,269] - obspy.clients.fdsn.mass_downloader - INFO: Client 'GEONET' - Status for 1 time intervals/channels before downloading: NEEDS_DOWNLOADING\n",
      "[2021-11-25 00:49:06,117] - obspy.clients.fdsn.mass_downloader - INFO: Client 'GEONET' - Successfully downloaded 1 channels (of 1)\n",
      "[2021-11-25 00:49:06,130] - obspy.clients.fdsn.mass_downloader - INFO: Client 'GEONET' - Launching basic QC checks...\n",
      "[2021-11-25 00:49:06,171] - obspy.clients.fdsn.mass_downloader - INFO: Client 'GEONET' - Downloaded 0.0 MB [4.67 KB/sec] of data, 0.0 MB of which were discarded afterwards.\n",
      "[2021-11-25 00:49:06,174] - obspy.clients.fdsn.mass_downloader - INFO: Client 'GEONET' - Status for 1 time intervals/channels after downloading: DOWNLOADED\n",
      "[2021-11-25 00:49:06,193] - obspy.clients.fdsn.mass_downloader - INFO: Client 'GEONET' - No station information to download.\n",
      "[2021-11-25 00:49:06,198] - obspy.clients.fdsn.mass_downloader - INFO: ============================== Final report\n",
      "[2021-11-25 00:49:06,200] - obspy.clients.fdsn.mass_downloader - INFO: 0 MiniSEED files [0.0 MB] already existed.\n",
      "[2021-11-25 00:49:06,202] - obspy.clients.fdsn.mass_downloader - INFO: 1 StationXML files [0.0 MB] already existed.\n",
      "[2021-11-25 00:49:06,203] - obspy.clients.fdsn.mass_downloader - INFO: Client 'GEONET' - Acquired 1 MiniSEED files [0.0 MB].\n",
      "[2021-11-25 00:49:06,204] - obspy.clients.fdsn.mass_downloader - INFO: Client 'GEONET' - Acquired 0 StationXML files [0.0 MB].\n",
      "[2021-11-25 00:49:06,204] - obspy.clients.fdsn.mass_downloader - INFO: Downloaded 0.0 MB in total.\n",
      "[2021-11-25 00:49:06,214] - obspy.clients.fdsn.mass_downloader - INFO: Initializing FDSN client(s) for GEONET.\n",
      "[2021-11-25 00:49:06,224] - obspy.clients.fdsn.mass_downloader - INFO: Successfully initialized 1 client(s): GEONET.\n",
      "[2021-11-25 00:49:06,235] - obspy.clients.fdsn.mass_downloader - INFO: Total acquired or preexisting stations: 0\n",
      "[2021-11-25 00:49:06,240] - obspy.clients.fdsn.mass_downloader - INFO: Client 'GEONET' - Requesting unreliable availability.\n"
     ]
    },
    {
     "name": "stdout",
     "output_type": "stream",
     "text": [
      "=================================================================\n",
      "Initiating mass download request.\n"
     ]
    },
    {
     "name": "stderr",
     "output_type": "stream",
     "text": [
      "[2021-11-25 00:49:06,919] - obspy.clients.fdsn.mass_downloader - INFO: Client 'GEONET' - Successfully requested availability (0.68 seconds)\n",
      "[2021-11-25 00:49:06,925] - obspy.clients.fdsn.mass_downloader - INFO: Client 'GEONET' - Found 1 stations (1 channels).\n",
      "[2021-11-25 00:49:06,926] - obspy.clients.fdsn.mass_downloader - INFO: Client 'GEONET' - Will attempt to download data from 1 stations.\n",
      "[2021-11-25 00:49:06,928] - obspy.clients.fdsn.mass_downloader - INFO: Client 'GEONET' - Status for 1 time intervals/channels before downloading: NEEDS_DOWNLOADING\n",
      "[2021-11-25 00:49:08,439] - obspy.clients.fdsn.mass_downloader - INFO: Client 'GEONET' - Successfully downloaded 1 channels (of 1)\n",
      "[2021-11-25 00:49:08,442] - obspy.clients.fdsn.mass_downloader - INFO: Client 'GEONET' - Launching basic QC checks...\n",
      "[2021-11-25 00:49:08,449] - obspy.clients.fdsn.mass_downloader - INFO: Client 'GEONET' - Downloaded 0.0 MB [3.32 KB/sec] of data, 0.0 MB of which were discarded afterwards.\n",
      "[2021-11-25 00:49:08,449] - obspy.clients.fdsn.mass_downloader - INFO: Client 'GEONET' - Status for 1 time intervals/channels after downloading: DOWNLOADED\n",
      "[2021-11-25 00:49:08,454] - obspy.clients.fdsn.mass_downloader - INFO: Client 'GEONET' - No station information to download.\n",
      "[2021-11-25 00:49:08,455] - obspy.clients.fdsn.mass_downloader - INFO: ============================== Final report\n",
      "[2021-11-25 00:49:08,455] - obspy.clients.fdsn.mass_downloader - INFO: 0 MiniSEED files [0.0 MB] already existed.\n",
      "[2021-11-25 00:49:08,456] - obspy.clients.fdsn.mass_downloader - INFO: 1 StationXML files [0.0 MB] already existed.\n",
      "[2021-11-25 00:49:08,456] - obspy.clients.fdsn.mass_downloader - INFO: Client 'GEONET' - Acquired 1 MiniSEED files [0.0 MB].\n",
      "[2021-11-25 00:49:08,456] - obspy.clients.fdsn.mass_downloader - INFO: Client 'GEONET' - Acquired 0 StationXML files [0.0 MB].\n",
      "[2021-11-25 00:49:08,456] - obspy.clients.fdsn.mass_downloader - INFO: Downloaded 0.0 MB in total.\n",
      "[2021-11-25 00:49:08,462] - obspy.clients.fdsn.mass_downloader - INFO: Initializing FDSN client(s) for GEONET.\n",
      "[2021-11-25 00:49:08,465] - obspy.clients.fdsn.mass_downloader - INFO: Successfully initialized 1 client(s): GEONET.\n",
      "[2021-11-25 00:49:08,467] - obspy.clients.fdsn.mass_downloader - INFO: Total acquired or preexisting stations: 0\n",
      "[2021-11-25 00:49:08,467] - obspy.clients.fdsn.mass_downloader - INFO: Client 'GEONET' - Requesting unreliable availability.\n"
     ]
    },
    {
     "name": "stdout",
     "output_type": "stream",
     "text": [
      "=================================================================\n",
      "Initiating mass download request.\n"
     ]
    },
    {
     "name": "stderr",
     "output_type": "stream",
     "text": [
      "[2021-11-25 00:49:08,997] - obspy.clients.fdsn.mass_downloader - INFO: Client 'GEONET' - Successfully requested availability (0.53 seconds)\n",
      "[2021-11-25 00:49:09,002] - obspy.clients.fdsn.mass_downloader - INFO: Client 'GEONET' - Found 1 stations (1 channels).\n",
      "[2021-11-25 00:49:09,004] - obspy.clients.fdsn.mass_downloader - INFO: Client 'GEONET' - Will attempt to download data from 1 stations.\n",
      "[2021-11-25 00:49:09,005] - obspy.clients.fdsn.mass_downloader - INFO: Client 'GEONET' - Status for 1 time intervals/channels before downloading: NEEDS_DOWNLOADING\n",
      "[2021-11-25 00:49:09,851] - obspy.clients.fdsn.mass_downloader - INFO: Client 'GEONET' - Successfully downloaded 1 channels (of 1)\n",
      "[2021-11-25 00:49:09,859] - obspy.clients.fdsn.mass_downloader - INFO: Client 'GEONET' - Launching basic QC checks...\n",
      "[2021-11-25 00:49:09,880] - obspy.clients.fdsn.mass_downloader - INFO: Client 'GEONET' - Downloaded 0.0 MB [4.14 KB/sec] of data, 0.0 MB of which were discarded afterwards.\n",
      "[2021-11-25 00:49:09,881] - obspy.clients.fdsn.mass_downloader - INFO: Client 'GEONET' - Status for 1 time intervals/channels after downloading: DOWNLOADED\n",
      "[2021-11-25 00:49:09,885] - obspy.clients.fdsn.mass_downloader - INFO: Client 'GEONET' - No station information to download.\n",
      "[2021-11-25 00:49:09,887] - obspy.clients.fdsn.mass_downloader - INFO: ============================== Final report\n",
      "[2021-11-25 00:49:09,891] - obspy.clients.fdsn.mass_downloader - INFO: 0 MiniSEED files [0.0 MB] already existed.\n",
      "[2021-11-25 00:49:09,893] - obspy.clients.fdsn.mass_downloader - INFO: 1 StationXML files [0.0 MB] already existed.\n",
      "[2021-11-25 00:49:09,894] - obspy.clients.fdsn.mass_downloader - INFO: Client 'GEONET' - Acquired 1 MiniSEED files [0.0 MB].\n",
      "[2021-11-25 00:49:09,895] - obspy.clients.fdsn.mass_downloader - INFO: Client 'GEONET' - Acquired 0 StationXML files [0.0 MB].\n",
      "[2021-11-25 00:49:09,901] - obspy.clients.fdsn.mass_downloader - INFO: Downloaded 0.0 MB in total.\n",
      "[2021-11-25 00:49:09,905] - obspy.clients.fdsn.mass_downloader - INFO: Initializing FDSN client(s) for GEONET.\n",
      "[2021-11-25 00:49:09,920] - obspy.clients.fdsn.mass_downloader - INFO: Successfully initialized 1 client(s): GEONET.\n",
      "[2021-11-25 00:49:09,921] - obspy.clients.fdsn.mass_downloader - INFO: Total acquired or preexisting stations: 0\n",
      "[2021-11-25 00:49:09,921] - obspy.clients.fdsn.mass_downloader - INFO: Client 'GEONET' - Requesting unreliable availability.\n"
     ]
    },
    {
     "name": "stdout",
     "output_type": "stream",
     "text": [
      "=================================================================\n",
      "Initiating mass download request.\n"
     ]
    },
    {
     "name": "stderr",
     "output_type": "stream",
     "text": [
      "[2021-11-25 00:49:10,581] - obspy.clients.fdsn.mass_downloader - INFO: Client 'GEONET' - Successfully requested availability (0.66 seconds)\n",
      "[2021-11-25 00:49:10,600] - obspy.clients.fdsn.mass_downloader - INFO: Client 'GEONET' - Found 1 stations (1 channels).\n",
      "[2021-11-25 00:49:10,602] - obspy.clients.fdsn.mass_downloader - INFO: Client 'GEONET' - Will attempt to download data from 1 stations.\n",
      "[2021-11-25 00:49:10,606] - obspy.clients.fdsn.mass_downloader - INFO: Client 'GEONET' - Status for 1 time intervals/channels before downloading: NEEDS_DOWNLOADING\n",
      "[2021-11-25 00:49:11,368] - obspy.clients.fdsn.mass_downloader - INFO: Client 'GEONET' - Successfully downloaded 1 channels (of 1)\n",
      "[2021-11-25 00:49:11,392] - obspy.clients.fdsn.mass_downloader - INFO: Client 'GEONET' - Launching basic QC checks...\n",
      "[2021-11-25 00:49:11,424] - obspy.clients.fdsn.mass_downloader - INFO: Client 'GEONET' - Downloaded 0.0 MB [4.59 KB/sec] of data, 0.0 MB of which were discarded afterwards.\n",
      "[2021-11-25 00:49:11,427] - obspy.clients.fdsn.mass_downloader - INFO: Client 'GEONET' - Status for 1 time intervals/channels after downloading: DOWNLOADED\n",
      "[2021-11-25 00:49:11,432] - obspy.clients.fdsn.mass_downloader - INFO: Client 'GEONET' - No station information to download.\n",
      "[2021-11-25 00:49:11,433] - obspy.clients.fdsn.mass_downloader - INFO: ============================== Final report\n",
      "[2021-11-25 00:49:11,434] - obspy.clients.fdsn.mass_downloader - INFO: 0 MiniSEED files [0.0 MB] already existed.\n",
      "[2021-11-25 00:49:11,434] - obspy.clients.fdsn.mass_downloader - INFO: 1 StationXML files [0.0 MB] already existed.\n",
      "[2021-11-25 00:49:11,435] - obspy.clients.fdsn.mass_downloader - INFO: Client 'GEONET' - Acquired 1 MiniSEED files [0.0 MB].\n",
      "[2021-11-25 00:49:11,435] - obspy.clients.fdsn.mass_downloader - INFO: Client 'GEONET' - Acquired 0 StationXML files [0.0 MB].\n",
      "[2021-11-25 00:49:11,436] - obspy.clients.fdsn.mass_downloader - INFO: Downloaded 0.0 MB in total.\n",
      "[2021-11-25 00:49:11,443] - obspy.clients.fdsn.mass_downloader - INFO: Initializing FDSN client(s) for GEONET.\n",
      "[2021-11-25 00:49:11,447] - obspy.clients.fdsn.mass_downloader - INFO: Successfully initialized 1 client(s): GEONET.\n",
      "[2021-11-25 00:49:11,448] - obspy.clients.fdsn.mass_downloader - INFO: Total acquired or preexisting stations: 0\n",
      "[2021-11-25 00:49:11,449] - obspy.clients.fdsn.mass_downloader - INFO: Client 'GEONET' - Requesting unreliable availability.\n"
     ]
    },
    {
     "name": "stdout",
     "output_type": "stream",
     "text": [
      "=================================================================\n",
      "Initiating mass download request.\n"
     ]
    },
    {
     "name": "stderr",
     "output_type": "stream",
     "text": [
      "[2021-11-25 00:49:12,058] - obspy.clients.fdsn.mass_downloader - INFO: Client 'GEONET' - Successfully requested availability (0.61 seconds)\n",
      "[2021-11-25 00:49:12,064] - obspy.clients.fdsn.mass_downloader - INFO: Client 'GEONET' - Found 1 stations (1 channels).\n",
      "[2021-11-25 00:49:12,064] - obspy.clients.fdsn.mass_downloader - INFO: Client 'GEONET' - Will attempt to download data from 1 stations.\n",
      "[2021-11-25 00:49:12,066] - obspy.clients.fdsn.mass_downloader - INFO: Client 'GEONET' - Status for 1 time intervals/channels before downloading: NEEDS_DOWNLOADING\n",
      "[2021-11-25 00:49:12,910] - obspy.clients.fdsn.mass_downloader - INFO: Client 'GEONET' - Successfully downloaded 1 channels (of 1)\n",
      "[2021-11-25 00:49:12,917] - obspy.clients.fdsn.mass_downloader - INFO: Client 'GEONET' - Launching basic QC checks...\n",
      "[2021-11-25 00:49:12,924] - obspy.clients.fdsn.mass_downloader - INFO: Client 'GEONET' - Downloaded 0.0 MB [4.77 KB/sec] of data, 0.0 MB of which were discarded afterwards.\n",
      "[2021-11-25 00:49:12,924] - obspy.clients.fdsn.mass_downloader - INFO: Client 'GEONET' - Status for 1 time intervals/channels after downloading: DOWNLOADED\n",
      "[2021-11-25 00:49:12,927] - obspy.clients.fdsn.mass_downloader - INFO: Client 'GEONET' - No station information to download.\n",
      "[2021-11-25 00:49:12,928] - obspy.clients.fdsn.mass_downloader - INFO: ============================== Final report\n",
      "[2021-11-25 00:49:12,928] - obspy.clients.fdsn.mass_downloader - INFO: 0 MiniSEED files [0.0 MB] already existed.\n",
      "[2021-11-25 00:49:12,928] - obspy.clients.fdsn.mass_downloader - INFO: 1 StationXML files [0.0 MB] already existed.\n",
      "[2021-11-25 00:49:12,928] - obspy.clients.fdsn.mass_downloader - INFO: Client 'GEONET' - Acquired 1 MiniSEED files [0.0 MB].\n",
      "[2021-11-25 00:49:12,929] - obspy.clients.fdsn.mass_downloader - INFO: Client 'GEONET' - Acquired 0 StationXML files [0.0 MB].\n",
      "[2021-11-25 00:49:12,929] - obspy.clients.fdsn.mass_downloader - INFO: Downloaded 0.0 MB in total.\n",
      "[2021-11-25 00:49:12,935] - obspy.clients.fdsn.mass_downloader - INFO: Initializing FDSN client(s) for GEONET.\n",
      "[2021-11-25 00:49:12,938] - obspy.clients.fdsn.mass_downloader - INFO: Successfully initialized 1 client(s): GEONET.\n",
      "[2021-11-25 00:49:12,939] - obspy.clients.fdsn.mass_downloader - INFO: Total acquired or preexisting stations: 0\n",
      "[2021-11-25 00:49:12,939] - obspy.clients.fdsn.mass_downloader - INFO: Client 'GEONET' - Requesting unreliable availability.\n"
     ]
    },
    {
     "name": "stdout",
     "output_type": "stream",
     "text": [
      "=================================================================\n",
      "Initiating mass download request.\n"
     ]
    },
    {
     "name": "stderr",
     "output_type": "stream",
     "text": [
      "[2021-11-25 00:49:13,629] - obspy.clients.fdsn.mass_downloader - INFO: Client 'GEONET' - Successfully requested availability (0.69 seconds)\n",
      "[2021-11-25 00:49:13,640] - obspy.clients.fdsn.mass_downloader - INFO: Client 'GEONET' - Found 1 stations (1 channels).\n",
      "[2021-11-25 00:49:13,650] - obspy.clients.fdsn.mass_downloader - INFO: Client 'GEONET' - Will attempt to download data from 1 stations.\n",
      "[2021-11-25 00:49:13,672] - obspy.clients.fdsn.mass_downloader - INFO: Client 'GEONET' - Status for 1 time intervals/channels before downloading: NEEDS_DOWNLOADING\n",
      "[2021-11-25 00:49:14,723] - obspy.clients.fdsn.mass_downloader - INFO: Client 'GEONET' - Successfully downloaded 1 channels (of 1)\n",
      "[2021-11-25 00:49:14,754] - obspy.clients.fdsn.mass_downloader - INFO: Client 'GEONET' - Launching basic QC checks...\n",
      "[2021-11-25 00:49:14,786] - obspy.clients.fdsn.mass_downloader - INFO: Client 'GEONET' - Downloaded 0.0 MB [2.90 KB/sec] of data, 0.0 MB of which were discarded afterwards.\n",
      "[2021-11-25 00:49:14,793] - obspy.clients.fdsn.mass_downloader - INFO: Client 'GEONET' - Status for 1 time intervals/channels after downloading: DOWNLOADED\n",
      "[2021-11-25 00:49:14,820] - obspy.clients.fdsn.mass_downloader - INFO: Client 'GEONET' - No station information to download.\n",
      "[2021-11-25 00:49:14,836] - obspy.clients.fdsn.mass_downloader - INFO: ============================== Final report\n",
      "[2021-11-25 00:49:14,844] - obspy.clients.fdsn.mass_downloader - INFO: 0 MiniSEED files [0.0 MB] already existed.\n",
      "[2021-11-25 00:49:14,848] - obspy.clients.fdsn.mass_downloader - INFO: 1 StationXML files [0.0 MB] already existed.\n",
      "[2021-11-25 00:49:14,853] - obspy.clients.fdsn.mass_downloader - INFO: Client 'GEONET' - Acquired 1 MiniSEED files [0.0 MB].\n",
      "[2021-11-25 00:49:14,854] - obspy.clients.fdsn.mass_downloader - INFO: Client 'GEONET' - Acquired 0 StationXML files [0.0 MB].\n",
      "[2021-11-25 00:49:14,858] - obspy.clients.fdsn.mass_downloader - INFO: Downloaded 0.0 MB in total.\n",
      "[2021-11-25 00:49:14,880] - obspy.clients.fdsn.mass_downloader - INFO: Initializing FDSN client(s) for GEONET.\n",
      "[2021-11-25 00:49:14,907] - obspy.clients.fdsn.mass_downloader - INFO: Successfully initialized 1 client(s): GEONET.\n",
      "[2021-11-25 00:49:14,915] - obspy.clients.fdsn.mass_downloader - INFO: Total acquired or preexisting stations: 0\n",
      "[2021-11-25 00:49:14,918] - obspy.clients.fdsn.mass_downloader - INFO: Client 'GEONET' - Requesting unreliable availability.\n"
     ]
    },
    {
     "name": "stdout",
     "output_type": "stream",
     "text": [
      "=================================================================\n",
      "Initiating mass download request.\n"
     ]
    },
    {
     "name": "stderr",
     "output_type": "stream",
     "text": [
      "[2021-11-25 00:49:15,508] - obspy.clients.fdsn.mass_downloader - INFO: Client 'GEONET' - Successfully requested availability (0.59 seconds)\n",
      "[2021-11-25 00:49:15,570] - obspy.clients.fdsn.mass_downloader - INFO: Client 'GEONET' - Found 1 stations (1 channels).\n",
      "[2021-11-25 00:49:15,577] - obspy.clients.fdsn.mass_downloader - INFO: Client 'GEONET' - Will attempt to download data from 1 stations.\n",
      "[2021-11-25 00:49:15,600] - obspy.clients.fdsn.mass_downloader - INFO: Client 'GEONET' - Status for 1 time intervals/channels before downloading: NEEDS_DOWNLOADING\n",
      "[2021-11-25 00:49:16,548] - obspy.clients.fdsn.mass_downloader - INFO: Client 'GEONET' - Successfully downloaded 1 channels (of 1)\n",
      "[2021-11-25 00:49:16,552] - obspy.clients.fdsn.mass_downloader - INFO: Client 'GEONET' - Launching basic QC checks...\n",
      "[2021-11-25 00:49:16,560] - obspy.clients.fdsn.mass_downloader - INFO: Client 'GEONET' - Downloaded 0.0 MB [3.99 KB/sec] of data, 0.0 MB of which were discarded afterwards.\n",
      "[2021-11-25 00:49:16,560] - obspy.clients.fdsn.mass_downloader - INFO: Client 'GEONET' - Status for 1 time intervals/channels after downloading: DOWNLOADED\n",
      "[2021-11-25 00:49:16,563] - obspy.clients.fdsn.mass_downloader - INFO: Client 'GEONET' - No station information to download.\n",
      "[2021-11-25 00:49:16,566] - obspy.clients.fdsn.mass_downloader - INFO: ============================== Final report\n",
      "[2021-11-25 00:49:16,568] - obspy.clients.fdsn.mass_downloader - INFO: 0 MiniSEED files [0.0 MB] already existed.\n",
      "[2021-11-25 00:49:16,568] - obspy.clients.fdsn.mass_downloader - INFO: 1 StationXML files [0.0 MB] already existed.\n",
      "[2021-11-25 00:49:16,568] - obspy.clients.fdsn.mass_downloader - INFO: Client 'GEONET' - Acquired 1 MiniSEED files [0.0 MB].\n",
      "[2021-11-25 00:49:16,569] - obspy.clients.fdsn.mass_downloader - INFO: Client 'GEONET' - Acquired 0 StationXML files [0.0 MB].\n",
      "[2021-11-25 00:49:16,569] - obspy.clients.fdsn.mass_downloader - INFO: Downloaded 0.0 MB in total.\n",
      "[2021-11-25 00:49:16,576] - obspy.clients.fdsn.mass_downloader - INFO: Initializing FDSN client(s) for GEONET.\n",
      "[2021-11-25 00:49:16,587] - obspy.clients.fdsn.mass_downloader - INFO: Successfully initialized 1 client(s): GEONET.\n",
      "[2021-11-25 00:49:16,589] - obspy.clients.fdsn.mass_downloader - INFO: Total acquired or preexisting stations: 0\n",
      "[2021-11-25 00:49:16,590] - obspy.clients.fdsn.mass_downloader - INFO: Client 'GEONET' - Requesting unreliable availability.\n"
     ]
    },
    {
     "name": "stdout",
     "output_type": "stream",
     "text": [
      "=================================================================\n",
      "Initiating mass download request.\n"
     ]
    },
    {
     "name": "stderr",
     "output_type": "stream",
     "text": [
      "[2021-11-25 00:49:17,292] - obspy.clients.fdsn.mass_downloader - INFO: Client 'GEONET' - Successfully requested availability (0.70 seconds)\n",
      "[2021-11-25 00:49:17,298] - obspy.clients.fdsn.mass_downloader - INFO: Client 'GEONET' - Found 1 stations (1 channels).\n",
      "[2021-11-25 00:49:17,300] - obspy.clients.fdsn.mass_downloader - INFO: Client 'GEONET' - Will attempt to download data from 1 stations.\n",
      "[2021-11-25 00:49:17,303] - obspy.clients.fdsn.mass_downloader - INFO: Client 'GEONET' - Status for 1 time intervals/channels before downloading: NEEDS_DOWNLOADING\n",
      "[2021-11-25 00:49:18,202] - obspy.clients.fdsn.mass_downloader - INFO: Client 'GEONET' - Successfully downloaded 1 channels (of 1)\n",
      "[2021-11-25 00:49:18,206] - obspy.clients.fdsn.mass_downloader - INFO: Client 'GEONET' - Launching basic QC checks...\n",
      "[2021-11-25 00:49:18,214] - obspy.clients.fdsn.mass_downloader - INFO: Client 'GEONET' - Downloaded 0.0 MB [3.35 KB/sec] of data, 0.0 MB of which were discarded afterwards.\n",
      "[2021-11-25 00:49:18,215] - obspy.clients.fdsn.mass_downloader - INFO: Client 'GEONET' - Status for 1 time intervals/channels after downloading: DOWNLOADED\n",
      "[2021-11-25 00:49:18,221] - obspy.clients.fdsn.mass_downloader - INFO: Client 'GEONET' - No station information to download.\n",
      "[2021-11-25 00:49:18,222] - obspy.clients.fdsn.mass_downloader - INFO: ============================== Final report\n",
      "[2021-11-25 00:49:18,222] - obspy.clients.fdsn.mass_downloader - INFO: 0 MiniSEED files [0.0 MB] already existed.\n",
      "[2021-11-25 00:49:18,223] - obspy.clients.fdsn.mass_downloader - INFO: 1 StationXML files [0.0 MB] already existed.\n",
      "[2021-11-25 00:49:18,224] - obspy.clients.fdsn.mass_downloader - INFO: Client 'GEONET' - Acquired 1 MiniSEED files [0.0 MB].\n",
      "[2021-11-25 00:49:18,226] - obspy.clients.fdsn.mass_downloader - INFO: Client 'GEONET' - Acquired 0 StationXML files [0.0 MB].\n",
      "[2021-11-25 00:49:18,227] - obspy.clients.fdsn.mass_downloader - INFO: Downloaded 0.0 MB in total.\n",
      "[2021-11-25 00:49:18,230] - obspy.clients.fdsn.mass_downloader - INFO: Initializing FDSN client(s) for GEONET.\n",
      "[2021-11-25 00:49:18,234] - obspy.clients.fdsn.mass_downloader - INFO: Successfully initialized 1 client(s): GEONET.\n",
      "[2021-11-25 00:49:18,235] - obspy.clients.fdsn.mass_downloader - INFO: Total acquired or preexisting stations: 0\n",
      "[2021-11-25 00:49:18,236] - obspy.clients.fdsn.mass_downloader - INFO: Client 'GEONET' - Requesting unreliable availability.\n"
     ]
    },
    {
     "name": "stdout",
     "output_type": "stream",
     "text": [
      "=================================================================\n",
      "Initiating mass download request.\n"
     ]
    },
    {
     "name": "stderr",
     "output_type": "stream",
     "text": [
      "[2021-11-25 00:49:18,910] - obspy.clients.fdsn.mass_downloader - INFO: Client 'GEONET' - Successfully requested availability (0.67 seconds)\n",
      "[2021-11-25 00:49:18,914] - obspy.clients.fdsn.mass_downloader - INFO: Client 'GEONET' - Found 1 stations (1 channels).\n",
      "[2021-11-25 00:49:18,917] - obspy.clients.fdsn.mass_downloader - INFO: Client 'GEONET' - Will attempt to download data from 1 stations.\n",
      "[2021-11-25 00:49:18,919] - obspy.clients.fdsn.mass_downloader - INFO: Client 'GEONET' - Status for 1 time intervals/channels before downloading: NEEDS_DOWNLOADING\n",
      "[2021-11-25 00:49:19,751] - obspy.clients.fdsn.mass_downloader - INFO: Client 'GEONET' - Successfully downloaded 1 channels (of 1)\n",
      "[2021-11-25 00:49:19,766] - obspy.clients.fdsn.mass_downloader - INFO: Client 'GEONET' - Launching basic QC checks...\n",
      "[2021-11-25 00:49:19,780] - obspy.clients.fdsn.mass_downloader - INFO: Client 'GEONET' - Downloaded 0.0 MB [4.15 KB/sec] of data, 0.0 MB of which were discarded afterwards.\n",
      "[2021-11-25 00:49:19,782] - obspy.clients.fdsn.mass_downloader - INFO: Client 'GEONET' - Status for 1 time intervals/channels after downloading: DOWNLOADED\n",
      "[2021-11-25 00:49:19,790] - obspy.clients.fdsn.mass_downloader - INFO: Client 'GEONET' - No station information to download.\n",
      "[2021-11-25 00:49:19,797] - obspy.clients.fdsn.mass_downloader - INFO: ============================== Final report\n",
      "[2021-11-25 00:49:19,798] - obspy.clients.fdsn.mass_downloader - INFO: 0 MiniSEED files [0.0 MB] already existed.\n",
      "[2021-11-25 00:49:19,799] - obspy.clients.fdsn.mass_downloader - INFO: 1 StationXML files [0.0 MB] already existed.\n",
      "[2021-11-25 00:49:19,800] - obspy.clients.fdsn.mass_downloader - INFO: Client 'GEONET' - Acquired 1 MiniSEED files [0.0 MB].\n",
      "[2021-11-25 00:49:19,801] - obspy.clients.fdsn.mass_downloader - INFO: Client 'GEONET' - Acquired 0 StationXML files [0.0 MB].\n",
      "[2021-11-25 00:49:19,801] - obspy.clients.fdsn.mass_downloader - INFO: Downloaded 0.0 MB in total.\n",
      "[2021-11-25 00:49:19,809] - obspy.clients.fdsn.mass_downloader - INFO: Initializing FDSN client(s) for GEONET.\n",
      "[2021-11-25 00:49:19,816] - obspy.clients.fdsn.mass_downloader - INFO: Successfully initialized 1 client(s): GEONET.\n",
      "[2021-11-25 00:49:19,817] - obspy.clients.fdsn.mass_downloader - INFO: Total acquired or preexisting stations: 0\n",
      "[2021-11-25 00:49:19,817] - obspy.clients.fdsn.mass_downloader - INFO: Client 'GEONET' - Requesting unreliable availability.\n"
     ]
    },
    {
     "name": "stdout",
     "output_type": "stream",
     "text": [
      "=================================================================\n",
      "Initiating mass download request.\n"
     ]
    },
    {
     "name": "stderr",
     "output_type": "stream",
     "text": [
      "[2021-11-25 00:49:20,422] - obspy.clients.fdsn.mass_downloader - INFO: Client 'GEONET' - Successfully requested availability (0.60 seconds)\n",
      "[2021-11-25 00:49:20,427] - obspy.clients.fdsn.mass_downloader - INFO: Client 'GEONET' - Found 1 stations (1 channels).\n",
      "[2021-11-25 00:49:20,433] - obspy.clients.fdsn.mass_downloader - INFO: Client 'GEONET' - Will attempt to download data from 1 stations.\n",
      "[2021-11-25 00:49:20,434] - obspy.clients.fdsn.mass_downloader - INFO: Client 'GEONET' - Status for 1 time intervals/channels before downloading: NEEDS_DOWNLOADING\n",
      "[2021-11-25 00:49:21,326] - obspy.clients.fdsn.mass_downloader - INFO: Client 'GEONET' - Successfully downloaded 1 channels (of 1)\n",
      "[2021-11-25 00:49:21,342] - obspy.clients.fdsn.mass_downloader - INFO: Client 'GEONET' - Launching basic QC checks...\n",
      "[2021-11-25 00:49:21,356] - obspy.clients.fdsn.mass_downloader - INFO: Client 'GEONET' - Downloaded 0.0 MB [3.34 KB/sec] of data, 0.0 MB of which were discarded afterwards.\n",
      "[2021-11-25 00:49:21,357] - obspy.clients.fdsn.mass_downloader - INFO: Client 'GEONET' - Status for 1 time intervals/channels after downloading: DOWNLOADED\n",
      "[2021-11-25 00:49:21,366] - obspy.clients.fdsn.mass_downloader - INFO: Client 'GEONET' - No station information to download.\n",
      "[2021-11-25 00:49:21,367] - obspy.clients.fdsn.mass_downloader - INFO: ============================== Final report\n",
      "[2021-11-25 00:49:21,368] - obspy.clients.fdsn.mass_downloader - INFO: 0 MiniSEED files [0.0 MB] already existed.\n",
      "[2021-11-25 00:49:21,368] - obspy.clients.fdsn.mass_downloader - INFO: 1 StationXML files [0.0 MB] already existed.\n",
      "[2021-11-25 00:49:21,368] - obspy.clients.fdsn.mass_downloader - INFO: Client 'GEONET' - Acquired 1 MiniSEED files [0.0 MB].\n",
      "[2021-11-25 00:49:21,369] - obspy.clients.fdsn.mass_downloader - INFO: Client 'GEONET' - Acquired 0 StationXML files [0.0 MB].\n",
      "[2021-11-25 00:49:21,370] - obspy.clients.fdsn.mass_downloader - INFO: Downloaded 0.0 MB in total.\n",
      "[2021-11-25 00:49:21,375] - obspy.clients.fdsn.mass_downloader - INFO: Initializing FDSN client(s) for GEONET.\n",
      "[2021-11-25 00:49:21,380] - obspy.clients.fdsn.mass_downloader - INFO: Successfully initialized 1 client(s): GEONET.\n",
      "[2021-11-25 00:49:21,382] - obspy.clients.fdsn.mass_downloader - INFO: Total acquired or preexisting stations: 0\n",
      "[2021-11-25 00:49:21,382] - obspy.clients.fdsn.mass_downloader - INFO: Client 'GEONET' - Requesting unreliable availability.\n"
     ]
    },
    {
     "name": "stdout",
     "output_type": "stream",
     "text": [
      "=================================================================\n",
      "Initiating mass download request.\n"
     ]
    },
    {
     "name": "stderr",
     "output_type": "stream",
     "text": [
      "[2021-11-25 00:49:21,960] - obspy.clients.fdsn.mass_downloader - INFO: Client 'GEONET' - Successfully requested availability (0.58 seconds)\n",
      "[2021-11-25 00:49:21,964] - obspy.clients.fdsn.mass_downloader - INFO: Client 'GEONET' - Found 1 stations (1 channels).\n",
      "[2021-11-25 00:49:21,964] - obspy.clients.fdsn.mass_downloader - INFO: Client 'GEONET' - Will attempt to download data from 1 stations.\n",
      "[2021-11-25 00:49:21,966] - obspy.clients.fdsn.mass_downloader - INFO: Client 'GEONET' - Status for 1 time intervals/channels before downloading: NEEDS_DOWNLOADING\n",
      "[2021-11-25 00:49:22,895] - obspy.clients.fdsn.mass_downloader - INFO: Client 'GEONET' - Successfully downloaded 1 channels (of 1)\n",
      "[2021-11-25 00:49:22,903] - obspy.clients.fdsn.mass_downloader - INFO: Client 'GEONET' - Launching basic QC checks...\n",
      "[2021-11-25 00:49:22,912] - obspy.clients.fdsn.mass_downloader - INFO: Client 'GEONET' - Downloaded 0.0 MB [4.30 KB/sec] of data, 0.0 MB of which were discarded afterwards.\n",
      "[2021-11-25 00:49:22,913] - obspy.clients.fdsn.mass_downloader - INFO: Client 'GEONET' - Status for 1 time intervals/channels after downloading: DOWNLOADED\n",
      "[2021-11-25 00:49:22,915] - obspy.clients.fdsn.mass_downloader - INFO: Client 'GEONET' - No station information to download.\n",
      "[2021-11-25 00:49:22,916] - obspy.clients.fdsn.mass_downloader - INFO: ============================== Final report\n",
      "[2021-11-25 00:49:22,917] - obspy.clients.fdsn.mass_downloader - INFO: 0 MiniSEED files [0.0 MB] already existed.\n",
      "[2021-11-25 00:49:22,917] - obspy.clients.fdsn.mass_downloader - INFO: 1 StationXML files [0.0 MB] already existed.\n",
      "[2021-11-25 00:49:22,917] - obspy.clients.fdsn.mass_downloader - INFO: Client 'GEONET' - Acquired 1 MiniSEED files [0.0 MB].\n",
      "[2021-11-25 00:49:22,918] - obspy.clients.fdsn.mass_downloader - INFO: Client 'GEONET' - Acquired 0 StationXML files [0.0 MB].\n",
      "[2021-11-25 00:49:22,918] - obspy.clients.fdsn.mass_downloader - INFO: Downloaded 0.0 MB in total.\n",
      "[2021-11-25 00:49:22,924] - obspy.clients.fdsn.mass_downloader - INFO: Initializing FDSN client(s) for GEONET.\n",
      "[2021-11-25 00:49:22,929] - obspy.clients.fdsn.mass_downloader - INFO: Successfully initialized 1 client(s): GEONET.\n",
      "[2021-11-25 00:49:22,930] - obspy.clients.fdsn.mass_downloader - INFO: Total acquired or preexisting stations: 0\n",
      "[2021-11-25 00:49:22,931] - obspy.clients.fdsn.mass_downloader - INFO: Client 'GEONET' - Requesting unreliable availability.\n"
     ]
    },
    {
     "name": "stdout",
     "output_type": "stream",
     "text": [
      "=================================================================\n",
      "Initiating mass download request.\n"
     ]
    },
    {
     "name": "stderr",
     "output_type": "stream",
     "text": [
      "[2021-11-25 00:49:24,175] - obspy.clients.fdsn.mass_downloader - INFO: Client 'GEONET' - Successfully requested availability (1.24 seconds)\n",
      "[2021-11-25 00:49:24,177] - obspy.clients.fdsn.mass_downloader - INFO: Client 'GEONET' - Found 1 stations (1 channels).\n",
      "[2021-11-25 00:49:24,179] - obspy.clients.fdsn.mass_downloader - INFO: Client 'GEONET' - Will attempt to download data from 1 stations.\n",
      "[2021-11-25 00:49:24,183] - obspy.clients.fdsn.mass_downloader - INFO: Client 'GEONET' - Status for 1 time intervals/channels before downloading: NEEDS_DOWNLOADING\n",
      "[2021-11-25 00:49:25,227] - obspy.clients.fdsn.mass_downloader - INFO: Client 'GEONET' - Successfully downloaded 1 channels (of 1)\n",
      "[2021-11-25 00:49:25,327] - obspy.clients.fdsn.mass_downloader - INFO: Client 'GEONET' - Launching basic QC checks...\n",
      "[2021-11-25 00:49:25,356] - obspy.clients.fdsn.mass_downloader - INFO: Client 'GEONET' - Downloaded 0.0 MB [3.95 KB/sec] of data, 0.0 MB of which were discarded afterwards.\n",
      "[2021-11-25 00:49:25,363] - obspy.clients.fdsn.mass_downloader - INFO: Client 'GEONET' - Status for 1 time intervals/channels after downloading: DOWNLOADED\n",
      "[2021-11-25 00:49:25,378] - obspy.clients.fdsn.mass_downloader - INFO: Client 'GEONET' - No station information to download.\n",
      "[2021-11-25 00:49:25,392] - obspy.clients.fdsn.mass_downloader - INFO: ============================== Final report\n",
      "[2021-11-25 00:49:25,394] - obspy.clients.fdsn.mass_downloader - INFO: 0 MiniSEED files [0.0 MB] already existed.\n",
      "[2021-11-25 00:49:25,399] - obspy.clients.fdsn.mass_downloader - INFO: 1 StationXML files [0.0 MB] already existed.\n",
      "[2021-11-25 00:49:25,402] - obspy.clients.fdsn.mass_downloader - INFO: Client 'GEONET' - Acquired 1 MiniSEED files [0.0 MB].\n",
      "[2021-11-25 00:49:25,402] - obspy.clients.fdsn.mass_downloader - INFO: Client 'GEONET' - Acquired 0 StationXML files [0.0 MB].\n",
      "[2021-11-25 00:49:25,403] - obspy.clients.fdsn.mass_downloader - INFO: Downloaded 0.0 MB in total.\n",
      "[2021-11-25 00:49:25,432] - obspy.clients.fdsn.mass_downloader - INFO: Initializing FDSN client(s) for GEONET.\n",
      "[2021-11-25 00:49:25,456] - obspy.clients.fdsn.mass_downloader - INFO: Successfully initialized 1 client(s): GEONET.\n",
      "[2021-11-25 00:49:25,461] - obspy.clients.fdsn.mass_downloader - INFO: Total acquired or preexisting stations: 0\n",
      "[2021-11-25 00:49:25,466] - obspy.clients.fdsn.mass_downloader - INFO: Client 'GEONET' - Requesting unreliable availability.\n"
     ]
    },
    {
     "name": "stdout",
     "output_type": "stream",
     "text": [
      "=================================================================\n",
      "Initiating mass download request.\n"
     ]
    },
    {
     "name": "stderr",
     "output_type": "stream",
     "text": [
      "[2021-11-25 00:49:26,169] - obspy.clients.fdsn.mass_downloader - INFO: Client 'GEONET' - Successfully requested availability (0.70 seconds)\n",
      "[2021-11-25 00:49:26,171] - obspy.clients.fdsn.mass_downloader - INFO: Client 'GEONET' - Found 1 stations (1 channels).\n",
      "[2021-11-25 00:49:26,174] - obspy.clients.fdsn.mass_downloader - INFO: Client 'GEONET' - Will attempt to download data from 1 stations.\n",
      "[2021-11-25 00:49:26,176] - obspy.clients.fdsn.mass_downloader - INFO: Client 'GEONET' - Status for 1 time intervals/channels before downloading: NEEDS_DOWNLOADING\n",
      "[2021-11-25 00:49:27,039] - obspy.clients.fdsn.mass_downloader - INFO: Client 'GEONET' - Successfully downloaded 1 channels (of 1)\n",
      "[2021-11-25 00:49:27,067] - obspy.clients.fdsn.mass_downloader - INFO: Client 'GEONET' - Launching basic QC checks...\n",
      "[2021-11-25 00:49:27,085] - obspy.clients.fdsn.mass_downloader - INFO: Client 'GEONET' - Downloaded 0.0 MB [3.94 KB/sec] of data, 0.0 MB of which were discarded afterwards.\n",
      "[2021-11-25 00:49:27,088] - obspy.clients.fdsn.mass_downloader - INFO: Client 'GEONET' - Status for 1 time intervals/channels after downloading: DOWNLOADED\n",
      "[2021-11-25 00:49:27,090] - obspy.clients.fdsn.mass_downloader - INFO: Client 'GEONET' - No station information to download.\n",
      "[2021-11-25 00:49:27,092] - obspy.clients.fdsn.mass_downloader - INFO: ============================== Final report\n",
      "[2021-11-25 00:49:27,093] - obspy.clients.fdsn.mass_downloader - INFO: 0 MiniSEED files [0.0 MB] already existed.\n",
      "[2021-11-25 00:49:27,094] - obspy.clients.fdsn.mass_downloader - INFO: 1 StationXML files [0.0 MB] already existed.\n",
      "[2021-11-25 00:49:27,094] - obspy.clients.fdsn.mass_downloader - INFO: Client 'GEONET' - Acquired 1 MiniSEED files [0.0 MB].\n",
      "[2021-11-25 00:49:27,094] - obspy.clients.fdsn.mass_downloader - INFO: Client 'GEONET' - Acquired 0 StationXML files [0.0 MB].\n",
      "[2021-11-25 00:49:27,094] - obspy.clients.fdsn.mass_downloader - INFO: Downloaded 0.0 MB in total.\n",
      "[2021-11-25 00:49:27,116] - obspy.clients.fdsn.mass_downloader - INFO: Initializing FDSN client(s) for GEONET.\n",
      "[2021-11-25 00:49:27,137] - obspy.clients.fdsn.mass_downloader - INFO: Successfully initialized 1 client(s): GEONET.\n",
      "[2021-11-25 00:49:27,141] - obspy.clients.fdsn.mass_downloader - INFO: Total acquired or preexisting stations: 0\n",
      "[2021-11-25 00:49:27,142] - obspy.clients.fdsn.mass_downloader - INFO: Client 'GEONET' - Requesting unreliable availability.\n"
     ]
    },
    {
     "name": "stdout",
     "output_type": "stream",
     "text": [
      "=================================================================\n",
      "Initiating mass download request.\n"
     ]
    },
    {
     "name": "stderr",
     "output_type": "stream",
     "text": [
      "[2021-11-25 00:49:27,837] - obspy.clients.fdsn.mass_downloader - INFO: Client 'GEONET' - Successfully requested availability (0.69 seconds)\n",
      "[2021-11-25 00:49:27,852] - obspy.clients.fdsn.mass_downloader - INFO: Client 'GEONET' - Found 1 stations (1 channels).\n",
      "[2021-11-25 00:49:27,857] - obspy.clients.fdsn.mass_downloader - INFO: Client 'GEONET' - Will attempt to download data from 1 stations.\n",
      "[2021-11-25 00:49:27,859] - obspy.clients.fdsn.mass_downloader - INFO: Client 'GEONET' - Status for 1 time intervals/channels before downloading: NEEDS_DOWNLOADING\n",
      "[2021-11-25 00:49:28,764] - obspy.clients.fdsn.mass_downloader - INFO: Client 'GEONET' - Successfully downloaded 1 channels (of 1)\n",
      "[2021-11-25 00:49:28,817] - obspy.clients.fdsn.mass_downloader - INFO: Client 'GEONET' - Launching basic QC checks...\n",
      "[2021-11-25 00:49:28,835] - obspy.clients.fdsn.mass_downloader - INFO: Client 'GEONET' - Downloaded 0.0 MB [5.79 KB/sec] of data, 0.0 MB of which were discarded afterwards.\n",
      "[2021-11-25 00:49:28,841] - obspy.clients.fdsn.mass_downloader - INFO: Client 'GEONET' - Status for 1 time intervals/channels after downloading: DOWNLOADED\n",
      "[2021-11-25 00:49:28,852] - obspy.clients.fdsn.mass_downloader - INFO: Client 'GEONET' - No station information to download.\n",
      "[2021-11-25 00:49:28,858] - obspy.clients.fdsn.mass_downloader - INFO: ============================== Final report\n",
      "[2021-11-25 00:49:28,865] - obspy.clients.fdsn.mass_downloader - INFO: 0 MiniSEED files [0.0 MB] already existed.\n",
      "[2021-11-25 00:49:28,868] - obspy.clients.fdsn.mass_downloader - INFO: 1 StationXML files [0.0 MB] already existed.\n",
      "[2021-11-25 00:49:28,869] - obspy.clients.fdsn.mass_downloader - INFO: Client 'GEONET' - Acquired 1 MiniSEED files [0.0 MB].\n",
      "[2021-11-25 00:49:28,872] - obspy.clients.fdsn.mass_downloader - INFO: Client 'GEONET' - Acquired 0 StationXML files [0.0 MB].\n",
      "[2021-11-25 00:49:28,875] - obspy.clients.fdsn.mass_downloader - INFO: Downloaded 0.0 MB in total.\n",
      "[2021-11-25 00:49:28,885] - obspy.clients.fdsn.mass_downloader - INFO: Initializing FDSN client(s) for GEONET.\n",
      "[2021-11-25 00:49:28,918] - obspy.clients.fdsn.mass_downloader - INFO: Successfully initialized 1 client(s): GEONET.\n",
      "[2021-11-25 00:49:28,921] - obspy.clients.fdsn.mass_downloader - INFO: Total acquired or preexisting stations: 0\n",
      "[2021-11-25 00:49:28,925] - obspy.clients.fdsn.mass_downloader - INFO: Client 'GEONET' - Requesting unreliable availability.\n"
     ]
    },
    {
     "name": "stdout",
     "output_type": "stream",
     "text": [
      "=================================================================\n",
      "Initiating mass download request.\n"
     ]
    },
    {
     "name": "stderr",
     "output_type": "stream",
     "text": [
      "[2021-11-25 00:49:29,599] - obspy.clients.fdsn.mass_downloader - INFO: Client 'GEONET' - Successfully requested availability (0.67 seconds)\n",
      "[2021-11-25 00:49:29,614] - obspy.clients.fdsn.mass_downloader - INFO: Client 'GEONET' - Found 1 stations (1 channels).\n",
      "[2021-11-25 00:49:29,618] - obspy.clients.fdsn.mass_downloader - INFO: Client 'GEONET' - Will attempt to download data from 1 stations.\n",
      "[2021-11-25 00:49:29,624] - obspy.clients.fdsn.mass_downloader - INFO: Client 'GEONET' - Status for 1 time intervals/channels before downloading: NEEDS_DOWNLOADING\n",
      "[2021-11-25 00:49:30,616] - obspy.clients.fdsn.mass_downloader - INFO: Client 'GEONET' - Successfully downloaded 1 channels (of 1)\n",
      "[2021-11-25 00:49:30,637] - obspy.clients.fdsn.mass_downloader - INFO: Client 'GEONET' - Launching basic QC checks...\n",
      "[2021-11-25 00:49:30,653] - obspy.clients.fdsn.mass_downloader - INFO: Client 'GEONET' - Downloaded 0.0 MB [2.54 KB/sec] of data, 0.0 MB of which were discarded afterwards.\n",
      "[2021-11-25 00:49:30,654] - obspy.clients.fdsn.mass_downloader - INFO: Client 'GEONET' - Status for 1 time intervals/channels after downloading: DOWNLOADED\n",
      "[2021-11-25 00:49:30,663] - obspy.clients.fdsn.mass_downloader - INFO: Client 'GEONET' - No station information to download.\n",
      "[2021-11-25 00:49:30,666] - obspy.clients.fdsn.mass_downloader - INFO: ============================== Final report\n",
      "[2021-11-25 00:49:30,667] - obspy.clients.fdsn.mass_downloader - INFO: 0 MiniSEED files [0.0 MB] already existed.\n",
      "[2021-11-25 00:49:30,667] - obspy.clients.fdsn.mass_downloader - INFO: 1 StationXML files [0.0 MB] already existed.\n",
      "[2021-11-25 00:49:30,669] - obspy.clients.fdsn.mass_downloader - INFO: Client 'GEONET' - Acquired 1 MiniSEED files [0.0 MB].\n",
      "[2021-11-25 00:49:30,670] - obspy.clients.fdsn.mass_downloader - INFO: Client 'GEONET' - Acquired 0 StationXML files [0.0 MB].\n",
      "[2021-11-25 00:49:30,673] - obspy.clients.fdsn.mass_downloader - INFO: Downloaded 0.0 MB in total.\n",
      "[2021-11-25 00:49:30,677] - obspy.clients.fdsn.mass_downloader - INFO: Initializing FDSN client(s) for GEONET.\n",
      "[2021-11-25 00:49:30,690] - obspy.clients.fdsn.mass_downloader - INFO: Successfully initialized 1 client(s): GEONET.\n",
      "[2021-11-25 00:49:30,695] - obspy.clients.fdsn.mass_downloader - INFO: Total acquired or preexisting stations: 0\n",
      "[2021-11-25 00:49:30,698] - obspy.clients.fdsn.mass_downloader - INFO: Client 'GEONET' - Requesting unreliable availability.\n"
     ]
    },
    {
     "name": "stdout",
     "output_type": "stream",
     "text": [
      "=================================================================\n",
      "Initiating mass download request.\n"
     ]
    },
    {
     "name": "stderr",
     "output_type": "stream",
     "text": [
      "[2021-11-25 00:49:31,336] - obspy.clients.fdsn.mass_downloader - INFO: Client 'GEONET' - Successfully requested availability (0.63 seconds)\n",
      "[2021-11-25 00:49:31,348] - obspy.clients.fdsn.mass_downloader - INFO: Client 'GEONET' - Found 1 stations (1 channels).\n",
      "[2021-11-25 00:49:31,351] - obspy.clients.fdsn.mass_downloader - INFO: Client 'GEONET' - Will attempt to download data from 1 stations.\n",
      "[2021-11-25 00:49:31,353] - obspy.clients.fdsn.mass_downloader - INFO: Client 'GEONET' - Status for 1 time intervals/channels before downloading: NEEDS_DOWNLOADING\n",
      "[2021-11-25 00:49:32,635] - obspy.clients.fdsn.mass_downloader - INFO: Client 'GEONET' - Successfully downloaded 1 channels (of 1)\n",
      "[2021-11-25 00:49:32,654] - obspy.clients.fdsn.mass_downloader - INFO: Client 'GEONET' - Launching basic QC checks...\n",
      "[2021-11-25 00:49:32,672] - obspy.clients.fdsn.mass_downloader - INFO: Client 'GEONET' - Downloaded 0.0 MB [3.12 KB/sec] of data, 0.0 MB of which were discarded afterwards.\n",
      "[2021-11-25 00:49:32,678] - obspy.clients.fdsn.mass_downloader - INFO: Client 'GEONET' - Status for 1 time intervals/channels after downloading: DOWNLOADED\n",
      "[2021-11-25 00:49:32,685] - obspy.clients.fdsn.mass_downloader - INFO: Client 'GEONET' - No station information to download.\n",
      "[2021-11-25 00:49:32,689] - obspy.clients.fdsn.mass_downloader - INFO: ============================== Final report\n",
      "[2021-11-25 00:49:32,692] - obspy.clients.fdsn.mass_downloader - INFO: 0 MiniSEED files [0.0 MB] already existed.\n",
      "[2021-11-25 00:49:32,695] - obspy.clients.fdsn.mass_downloader - INFO: 1 StationXML files [0.0 MB] already existed.\n",
      "[2021-11-25 00:49:32,696] - obspy.clients.fdsn.mass_downloader - INFO: Client 'GEONET' - Acquired 1 MiniSEED files [0.0 MB].\n",
      "[2021-11-25 00:49:32,697] - obspy.clients.fdsn.mass_downloader - INFO: Client 'GEONET' - Acquired 0 StationXML files [0.0 MB].\n",
      "[2021-11-25 00:49:32,697] - obspy.clients.fdsn.mass_downloader - INFO: Downloaded 0.0 MB in total.\n",
      "[2021-11-25 00:49:32,705] - obspy.clients.fdsn.mass_downloader - INFO: Initializing FDSN client(s) for GEONET.\n",
      "[2021-11-25 00:49:32,727] - obspy.clients.fdsn.mass_downloader - INFO: Successfully initialized 1 client(s): GEONET.\n",
      "[2021-11-25 00:49:32,740] - obspy.clients.fdsn.mass_downloader - INFO: Total acquired or preexisting stations: 0\n",
      "[2021-11-25 00:49:32,747] - obspy.clients.fdsn.mass_downloader - INFO: Client 'GEONET' - Requesting unreliable availability.\n"
     ]
    },
    {
     "name": "stdout",
     "output_type": "stream",
     "text": [
      "=================================================================\n",
      "Initiating mass download request.\n"
     ]
    },
    {
     "name": "stderr",
     "output_type": "stream",
     "text": [
      "[2021-11-25 00:49:33,459] - obspy.clients.fdsn.mass_downloader - INFO: Client 'GEONET' - Successfully requested availability (0.71 seconds)\n",
      "[2021-11-25 00:49:33,492] - obspy.clients.fdsn.mass_downloader - INFO: Client 'GEONET' - Found 1 stations (1 channels).\n",
      "[2021-11-25 00:49:33,494] - obspy.clients.fdsn.mass_downloader - INFO: Client 'GEONET' - Will attempt to download data from 1 stations.\n",
      "[2021-11-25 00:49:33,496] - obspy.clients.fdsn.mass_downloader - INFO: Client 'GEONET' - Status for 1 time intervals/channels before downloading: NEEDS_DOWNLOADING\n",
      "[2021-11-25 00:49:34,324] - obspy.clients.fdsn.mass_downloader - INFO: Client 'GEONET' - Successfully downloaded 1 channels (of 1)\n",
      "[2021-11-25 00:49:34,338] - obspy.clients.fdsn.mass_downloader - INFO: Client 'GEONET' - Launching basic QC checks...\n",
      "[2021-11-25 00:49:34,347] - obspy.clients.fdsn.mass_downloader - INFO: Client 'GEONET' - Downloaded 0.0 MB [3.72 KB/sec] of data, 0.0 MB of which were discarded afterwards.\n",
      "[2021-11-25 00:49:34,348] - obspy.clients.fdsn.mass_downloader - INFO: Client 'GEONET' - Status for 1 time intervals/channels after downloading: DOWNLOADED\n",
      "[2021-11-25 00:49:34,350] - obspy.clients.fdsn.mass_downloader - INFO: Client 'GEONET' - No station information to download.\n",
      "[2021-11-25 00:49:34,351] - obspy.clients.fdsn.mass_downloader - INFO: ============================== Final report\n",
      "[2021-11-25 00:49:34,351] - obspy.clients.fdsn.mass_downloader - INFO: 0 MiniSEED files [0.0 MB] already existed.\n",
      "[2021-11-25 00:49:34,351] - obspy.clients.fdsn.mass_downloader - INFO: 1 StationXML files [0.0 MB] already existed.\n",
      "[2021-11-25 00:49:34,352] - obspy.clients.fdsn.mass_downloader - INFO: Client 'GEONET' - Acquired 1 MiniSEED files [0.0 MB].\n",
      "[2021-11-25 00:49:34,352] - obspy.clients.fdsn.mass_downloader - INFO: Client 'GEONET' - Acquired 0 StationXML files [0.0 MB].\n",
      "[2021-11-25 00:49:34,352] - obspy.clients.fdsn.mass_downloader - INFO: Downloaded 0.0 MB in total.\n",
      "[2021-11-25 00:49:34,355] - obspy.clients.fdsn.mass_downloader - INFO: Initializing FDSN client(s) for GEONET.\n",
      "[2021-11-25 00:49:34,362] - obspy.clients.fdsn.mass_downloader - INFO: Successfully initialized 1 client(s): GEONET.\n",
      "[2021-11-25 00:49:34,362] - obspy.clients.fdsn.mass_downloader - INFO: Total acquired or preexisting stations: 0\n",
      "[2021-11-25 00:49:34,363] - obspy.clients.fdsn.mass_downloader - INFO: Client 'GEONET' - Requesting unreliable availability.\n"
     ]
    },
    {
     "name": "stdout",
     "output_type": "stream",
     "text": [
      "=================================================================\n",
      "Initiating mass download request.\n"
     ]
    },
    {
     "name": "stderr",
     "output_type": "stream",
     "text": [
      "[2021-11-25 00:49:34,926] - obspy.clients.fdsn.mass_downloader - INFO: Client 'GEONET' - Successfully requested availability (0.56 seconds)\n",
      "[2021-11-25 00:49:34,932] - obspy.clients.fdsn.mass_downloader - INFO: Client 'GEONET' - Found 1 stations (1 channels).\n",
      "[2021-11-25 00:49:34,934] - obspy.clients.fdsn.mass_downloader - INFO: Client 'GEONET' - Will attempt to download data from 1 stations.\n",
      "[2021-11-25 00:49:34,938] - obspy.clients.fdsn.mass_downloader - INFO: Client 'GEONET' - Status for 1 time intervals/channels before downloading: NEEDS_DOWNLOADING\n",
      "[2021-11-25 00:49:35,868] - obspy.clients.fdsn.mass_downloader - INFO: Client 'GEONET' - Successfully downloaded 1 channels (of 1)\n",
      "[2021-11-25 00:49:35,889] - obspy.clients.fdsn.mass_downloader - INFO: Client 'GEONET' - Launching basic QC checks...\n",
      "[2021-11-25 00:49:35,940] - obspy.clients.fdsn.mass_downloader - INFO: Client 'GEONET' - Downloaded 0.0 MB [3.69 KB/sec] of data, 0.0 MB of which were discarded afterwards.\n",
      "[2021-11-25 00:49:35,941] - obspy.clients.fdsn.mass_downloader - INFO: Client 'GEONET' - Status for 1 time intervals/channels after downloading: DOWNLOADED\n",
      "[2021-11-25 00:49:35,950] - obspy.clients.fdsn.mass_downloader - INFO: Client 'GEONET' - No station information to download.\n",
      "[2021-11-25 00:49:35,957] - obspy.clients.fdsn.mass_downloader - INFO: ============================== Final report\n",
      "[2021-11-25 00:49:35,958] - obspy.clients.fdsn.mass_downloader - INFO: 0 MiniSEED files [0.0 MB] already existed.\n",
      "[2021-11-25 00:49:35,962] - obspy.clients.fdsn.mass_downloader - INFO: 1 StationXML files [0.0 MB] already existed.\n",
      "[2021-11-25 00:49:35,964] - obspy.clients.fdsn.mass_downloader - INFO: Client 'GEONET' - Acquired 1 MiniSEED files [0.0 MB].\n",
      "[2021-11-25 00:49:35,966] - obspy.clients.fdsn.mass_downloader - INFO: Client 'GEONET' - Acquired 0 StationXML files [0.0 MB].\n",
      "[2021-11-25 00:49:35,971] - obspy.clients.fdsn.mass_downloader - INFO: Downloaded 0.0 MB in total.\n",
      "[2021-11-25 00:49:35,982] - obspy.clients.fdsn.mass_downloader - INFO: Initializing FDSN client(s) for GEONET.\n",
      "[2021-11-25 00:49:35,996] - obspy.clients.fdsn.mass_downloader - INFO: Successfully initialized 1 client(s): GEONET.\n",
      "[2021-11-25 00:49:36,000] - obspy.clients.fdsn.mass_downloader - INFO: Total acquired or preexisting stations: 0\n",
      "[2021-11-25 00:49:36,005] - obspy.clients.fdsn.mass_downloader - INFO: Client 'GEONET' - Requesting unreliable availability.\n"
     ]
    },
    {
     "name": "stdout",
     "output_type": "stream",
     "text": [
      "=================================================================\n",
      "Initiating mass download request.\n"
     ]
    },
    {
     "name": "stderr",
     "output_type": "stream",
     "text": [
      "[2021-11-25 00:49:36,573] - obspy.clients.fdsn.mass_downloader - INFO: Client 'GEONET' - Successfully requested availability (0.57 seconds)\n",
      "[2021-11-25 00:49:36,574] - obspy.clients.fdsn.mass_downloader - INFO: Client 'GEONET' - Found 1 stations (1 channels).\n",
      "[2021-11-25 00:49:36,575] - obspy.clients.fdsn.mass_downloader - INFO: Client 'GEONET' - Will attempt to download data from 1 stations.\n",
      "[2021-11-25 00:49:36,576] - obspy.clients.fdsn.mass_downloader - INFO: Client 'GEONET' - Status for 1 time intervals/channels before downloading: NEEDS_DOWNLOADING\n",
      "[2021-11-25 00:49:37,614] - obspy.clients.fdsn.mass_downloader - INFO: Client 'GEONET' - Successfully downloaded 1 channels (of 1)\n",
      "[2021-11-25 00:49:37,655] - obspy.clients.fdsn.mass_downloader - INFO: Client 'GEONET' - Launching basic QC checks...\n",
      "[2021-11-25 00:49:37,691] - obspy.clients.fdsn.mass_downloader - INFO: Client 'GEONET' - Downloaded 0.0 MB [2.79 KB/sec] of data, 0.0 MB of which were discarded afterwards.\n",
      "[2021-11-25 00:49:37,701] - obspy.clients.fdsn.mass_downloader - INFO: Client 'GEONET' - Status for 1 time intervals/channels after downloading: DOWNLOADED\n",
      "[2021-11-25 00:49:37,709] - obspy.clients.fdsn.mass_downloader - INFO: Client 'GEONET' - No station information to download.\n",
      "[2021-11-25 00:49:37,720] - obspy.clients.fdsn.mass_downloader - INFO: ============================== Final report\n",
      "[2021-11-25 00:49:37,726] - obspy.clients.fdsn.mass_downloader - INFO: 0 MiniSEED files [0.0 MB] already existed.\n",
      "[2021-11-25 00:49:37,730] - obspy.clients.fdsn.mass_downloader - INFO: 1 StationXML files [0.0 MB] already existed.\n",
      "[2021-11-25 00:49:37,731] - obspy.clients.fdsn.mass_downloader - INFO: Client 'GEONET' - Acquired 1 MiniSEED files [0.0 MB].\n",
      "[2021-11-25 00:49:37,733] - obspy.clients.fdsn.mass_downloader - INFO: Client 'GEONET' - Acquired 0 StationXML files [0.0 MB].\n",
      "[2021-11-25 00:49:37,736] - obspy.clients.fdsn.mass_downloader - INFO: Downloaded 0.0 MB in total.\n",
      "[2021-11-25 00:49:37,751] - obspy.clients.fdsn.mass_downloader - INFO: Initializing FDSN client(s) for GEONET.\n",
      "[2021-11-25 00:49:37,777] - obspy.clients.fdsn.mass_downloader - INFO: Successfully initialized 1 client(s): GEONET.\n",
      "[2021-11-25 00:49:37,789] - obspy.clients.fdsn.mass_downloader - INFO: Total acquired or preexisting stations: 0\n",
      "[2021-11-25 00:49:37,793] - obspy.clients.fdsn.mass_downloader - INFO: Client 'GEONET' - Requesting unreliable availability.\n"
     ]
    },
    {
     "name": "stdout",
     "output_type": "stream",
     "text": [
      "=================================================================\n",
      "Initiating mass download request.\n"
     ]
    },
    {
     "name": "stderr",
     "output_type": "stream",
     "text": [
      "[2021-11-25 00:49:38,452] - obspy.clients.fdsn.mass_downloader - INFO: Client 'GEONET' - Successfully requested availability (0.66 seconds)\n",
      "[2021-11-25 00:49:38,466] - obspy.clients.fdsn.mass_downloader - INFO: Client 'GEONET' - Found 1 stations (1 channels).\n",
      "[2021-11-25 00:49:38,467] - obspy.clients.fdsn.mass_downloader - INFO: Client 'GEONET' - Will attempt to download data from 1 stations.\n",
      "[2021-11-25 00:49:38,468] - obspy.clients.fdsn.mass_downloader - INFO: Client 'GEONET' - Status for 1 time intervals/channels before downloading: NEEDS_DOWNLOADING\n",
      "[2021-11-25 00:49:39,427] - obspy.clients.fdsn.mass_downloader - INFO: Client 'GEONET' - Successfully downloaded 1 channels (of 1)\n",
      "[2021-11-25 00:49:39,463] - obspy.clients.fdsn.mass_downloader - INFO: Client 'GEONET' - Launching basic QC checks...\n",
      "[2021-11-25 00:49:39,482] - obspy.clients.fdsn.mass_downloader - INFO: Client 'GEONET' - Downloaded 0.0 MB [4.05 KB/sec] of data, 0.0 MB of which were discarded afterwards.\n",
      "[2021-11-25 00:49:39,485] - obspy.clients.fdsn.mass_downloader - INFO: Client 'GEONET' - Status for 1 time intervals/channels after downloading: DOWNLOADED\n",
      "[2021-11-25 00:49:39,496] - obspy.clients.fdsn.mass_downloader - INFO: Client 'GEONET' - No station information to download.\n",
      "[2021-11-25 00:49:39,503] - obspy.clients.fdsn.mass_downloader - INFO: ============================== Final report\n",
      "[2021-11-25 00:49:39,505] - obspy.clients.fdsn.mass_downloader - INFO: 0 MiniSEED files [0.0 MB] already existed.\n",
      "[2021-11-25 00:49:39,508] - obspy.clients.fdsn.mass_downloader - INFO: 1 StationXML files [0.0 MB] already existed.\n",
      "[2021-11-25 00:49:39,510] - obspy.clients.fdsn.mass_downloader - INFO: Client 'GEONET' - Acquired 1 MiniSEED files [0.0 MB].\n",
      "[2021-11-25 00:49:39,511] - obspy.clients.fdsn.mass_downloader - INFO: Client 'GEONET' - Acquired 0 StationXML files [0.0 MB].\n",
      "[2021-11-25 00:49:39,512] - obspy.clients.fdsn.mass_downloader - INFO: Downloaded 0.0 MB in total.\n",
      "[2021-11-25 00:49:39,518] - obspy.clients.fdsn.mass_downloader - INFO: Initializing FDSN client(s) for GEONET.\n",
      "[2021-11-25 00:49:39,527] - obspy.clients.fdsn.mass_downloader - INFO: Successfully initialized 1 client(s): GEONET.\n",
      "[2021-11-25 00:49:39,529] - obspy.clients.fdsn.mass_downloader - INFO: Total acquired or preexisting stations: 0\n",
      "[2021-11-25 00:49:39,530] - obspy.clients.fdsn.mass_downloader - INFO: Client 'GEONET' - Requesting unreliable availability.\n"
     ]
    },
    {
     "name": "stdout",
     "output_type": "stream",
     "text": [
      "=================================================================\n",
      "Initiating mass download request.\n"
     ]
    },
    {
     "name": "stderr",
     "output_type": "stream",
     "text": [
      "[2021-11-25 00:49:40,102] - obspy.clients.fdsn.mass_downloader - INFO: Client 'GEONET' - Successfully requested availability (0.57 seconds)\n",
      "[2021-11-25 00:49:40,113] - obspy.clients.fdsn.mass_downloader - INFO: Client 'GEONET' - Found 1 stations (1 channels).\n",
      "[2021-11-25 00:49:40,115] - obspy.clients.fdsn.mass_downloader - INFO: Client 'GEONET' - Will attempt to download data from 1 stations.\n",
      "[2021-11-25 00:49:40,123] - obspy.clients.fdsn.mass_downloader - INFO: Client 'GEONET' - Status for 1 time intervals/channels before downloading: NEEDS_DOWNLOADING\n",
      "[2021-11-25 00:49:41,101] - obspy.clients.fdsn.mass_downloader - INFO: Client 'GEONET' - Successfully downloaded 1 channels (of 1)\n",
      "[2021-11-25 00:49:41,105] - obspy.clients.fdsn.mass_downloader - INFO: Client 'GEONET' - Launching basic QC checks...\n",
      "[2021-11-25 00:49:41,112] - obspy.clients.fdsn.mass_downloader - INFO: Client 'GEONET' - Downloaded 0.0 MB [3.62 KB/sec] of data, 0.0 MB of which were discarded afterwards.\n",
      "[2021-11-25 00:49:41,113] - obspy.clients.fdsn.mass_downloader - INFO: Client 'GEONET' - Status for 1 time intervals/channels after downloading: DOWNLOADED\n",
      "[2021-11-25 00:49:41,120] - obspy.clients.fdsn.mass_downloader - INFO: Client 'GEONET' - No station information to download.\n",
      "[2021-11-25 00:49:41,121] - obspy.clients.fdsn.mass_downloader - INFO: ============================== Final report\n",
      "[2021-11-25 00:49:41,121] - obspy.clients.fdsn.mass_downloader - INFO: 0 MiniSEED files [0.0 MB] already existed.\n",
      "[2021-11-25 00:49:41,121] - obspy.clients.fdsn.mass_downloader - INFO: 1 StationXML files [0.0 MB] already existed.\n",
      "[2021-11-25 00:49:41,122] - obspy.clients.fdsn.mass_downloader - INFO: Client 'GEONET' - Acquired 1 MiniSEED files [0.0 MB].\n",
      "[2021-11-25 00:49:41,122] - obspy.clients.fdsn.mass_downloader - INFO: Client 'GEONET' - Acquired 0 StationXML files [0.0 MB].\n",
      "[2021-11-25 00:49:41,122] - obspy.clients.fdsn.mass_downloader - INFO: Downloaded 0.0 MB in total.\n",
      "[2021-11-25 00:49:41,124] - obspy.clients.fdsn.mass_downloader - INFO: Initializing FDSN client(s) for GEONET.\n",
      "[2021-11-25 00:49:41,134] - obspy.clients.fdsn.mass_downloader - INFO: Successfully initialized 1 client(s): GEONET.\n",
      "[2021-11-25 00:49:41,135] - obspy.clients.fdsn.mass_downloader - INFO: Total acquired or preexisting stations: 0\n",
      "[2021-11-25 00:49:41,135] - obspy.clients.fdsn.mass_downloader - INFO: Client 'GEONET' - Requesting unreliable availability.\n"
     ]
    },
    {
     "name": "stdout",
     "output_type": "stream",
     "text": [
      "=================================================================\n",
      "Initiating mass download request.\n"
     ]
    },
    {
     "name": "stderr",
     "output_type": "stream",
     "text": [
      "[2021-11-25 00:49:41,798] - obspy.clients.fdsn.mass_downloader - INFO: Client 'GEONET' - Successfully requested availability (0.66 seconds)\n",
      "[2021-11-25 00:49:41,812] - obspy.clients.fdsn.mass_downloader - INFO: Client 'GEONET' - Found 1 stations (1 channels).\n",
      "[2021-11-25 00:49:41,820] - obspy.clients.fdsn.mass_downloader - INFO: Client 'GEONET' - Will attempt to download data from 1 stations.\n",
      "[2021-11-25 00:49:41,824] - obspy.clients.fdsn.mass_downloader - INFO: Client 'GEONET' - Status for 1 time intervals/channels before downloading: NEEDS_DOWNLOADING\n",
      "[2021-11-25 00:49:42,620] - obspy.clients.fdsn.mass_downloader - INFO: Client 'GEONET' - Successfully downloaded 1 channels (of 1)\n",
      "[2021-11-25 00:49:42,638] - obspy.clients.fdsn.mass_downloader - INFO: Client 'GEONET' - Launching basic QC checks...\n",
      "[2021-11-25 00:49:42,664] - obspy.clients.fdsn.mass_downloader - INFO: Client 'GEONET' - Downloaded 0.0 MB [3.76 KB/sec] of data, 0.0 MB of which were discarded afterwards.\n",
      "[2021-11-25 00:49:42,668] - obspy.clients.fdsn.mass_downloader - INFO: Client 'GEONET' - Status for 1 time intervals/channels after downloading: DOWNLOADED\n",
      "[2021-11-25 00:49:42,678] - obspy.clients.fdsn.mass_downloader - INFO: Client 'GEONET' - No station information to download.\n",
      "[2021-11-25 00:49:42,685] - obspy.clients.fdsn.mass_downloader - INFO: ============================== Final report\n",
      "[2021-11-25 00:49:42,688] - obspy.clients.fdsn.mass_downloader - INFO: 0 MiniSEED files [0.0 MB] already existed.\n",
      "[2021-11-25 00:49:42,689] - obspy.clients.fdsn.mass_downloader - INFO: 1 StationXML files [0.0 MB] already existed.\n",
      "[2021-11-25 00:49:42,690] - obspy.clients.fdsn.mass_downloader - INFO: Client 'GEONET' - Acquired 1 MiniSEED files [0.0 MB].\n",
      "[2021-11-25 00:49:42,691] - obspy.clients.fdsn.mass_downloader - INFO: Client 'GEONET' - Acquired 0 StationXML files [0.0 MB].\n",
      "[2021-11-25 00:49:42,692] - obspy.clients.fdsn.mass_downloader - INFO: Downloaded 0.0 MB in total.\n",
      "[2021-11-25 00:49:42,707] - obspy.clients.fdsn.mass_downloader - INFO: Initializing FDSN client(s) for GEONET.\n",
      "[2021-11-25 00:49:42,733] - obspy.clients.fdsn.mass_downloader - INFO: Successfully initialized 1 client(s): GEONET.\n",
      "[2021-11-25 00:49:42,738] - obspy.clients.fdsn.mass_downloader - INFO: Total acquired or preexisting stations: 0\n",
      "[2021-11-25 00:49:42,740] - obspy.clients.fdsn.mass_downloader - INFO: Client 'GEONET' - Requesting unreliable availability.\n"
     ]
    },
    {
     "name": "stdout",
     "output_type": "stream",
     "text": [
      "=================================================================\n",
      "Initiating mass download request.\n"
     ]
    },
    {
     "name": "stderr",
     "output_type": "stream",
     "text": [
      "[2021-11-25 00:49:43,410] - obspy.clients.fdsn.mass_downloader - INFO: Client 'GEONET' - Successfully requested availability (0.67 seconds)\n",
      "[2021-11-25 00:49:43,420] - obspy.clients.fdsn.mass_downloader - INFO: Client 'GEONET' - Found 1 stations (1 channels).\n",
      "[2021-11-25 00:49:43,423] - obspy.clients.fdsn.mass_downloader - INFO: Client 'GEONET' - Will attempt to download data from 1 stations.\n",
      "[2021-11-25 00:49:43,425] - obspy.clients.fdsn.mass_downloader - INFO: Client 'GEONET' - Status for 1 time intervals/channels before downloading: NEEDS_DOWNLOADING\n",
      "[2021-11-25 00:49:44,751] - obspy.clients.fdsn.mass_downloader - INFO: Client 'GEONET' - Successfully downloaded 1 channels (of 1)\n",
      "[2021-11-25 00:49:44,790] - obspy.clients.fdsn.mass_downloader - INFO: Client 'GEONET' - Launching basic QC checks...\n",
      "[2021-11-25 00:49:44,823] - obspy.clients.fdsn.mass_downloader - INFO: Client 'GEONET' - Downloaded 0.0 MB [2.94 KB/sec] of data, 0.0 MB of which were discarded afterwards.\n",
      "[2021-11-25 00:49:44,829] - obspy.clients.fdsn.mass_downloader - INFO: Client 'GEONET' - Status for 1 time intervals/channels after downloading: DOWNLOADED\n",
      "[2021-11-25 00:49:44,847] - obspy.clients.fdsn.mass_downloader - INFO: Client 'GEONET' - No station information to download.\n",
      "[2021-11-25 00:49:44,853] - obspy.clients.fdsn.mass_downloader - INFO: ============================== Final report\n",
      "[2021-11-25 00:49:44,857] - obspy.clients.fdsn.mass_downloader - INFO: 0 MiniSEED files [0.0 MB] already existed.\n",
      "[2021-11-25 00:49:44,861] - obspy.clients.fdsn.mass_downloader - INFO: 1 StationXML files [0.0 MB] already existed.\n",
      "[2021-11-25 00:49:44,861] - obspy.clients.fdsn.mass_downloader - INFO: Client 'GEONET' - Acquired 1 MiniSEED files [0.0 MB].\n",
      "[2021-11-25 00:49:44,861] - obspy.clients.fdsn.mass_downloader - INFO: Client 'GEONET' - Acquired 0 StationXML files [0.0 MB].\n",
      "[2021-11-25 00:49:44,862] - obspy.clients.fdsn.mass_downloader - INFO: Downloaded 0.0 MB in total.\n",
      "[2021-11-25 00:49:44,882] - obspy.clients.fdsn.mass_downloader - INFO: Initializing FDSN client(s) for GEONET.\n",
      "[2021-11-25 00:49:44,905] - obspy.clients.fdsn.mass_downloader - INFO: Successfully initialized 1 client(s): GEONET.\n",
      "[2021-11-25 00:49:44,916] - obspy.clients.fdsn.mass_downloader - INFO: Total acquired or preexisting stations: 0\n",
      "[2021-11-25 00:49:44,920] - obspy.clients.fdsn.mass_downloader - INFO: Client 'GEONET' - Requesting unreliable availability.\n"
     ]
    },
    {
     "name": "stdout",
     "output_type": "stream",
     "text": [
      "=================================================================\n",
      "Initiating mass download request.\n"
     ]
    },
    {
     "name": "stderr",
     "output_type": "stream",
     "text": [
      "[2021-11-25 00:49:45,477] - obspy.clients.fdsn.mass_downloader - INFO: Client 'GEONET' - Successfully requested availability (0.56 seconds)\n",
      "[2021-11-25 00:49:45,479] - obspy.clients.fdsn.mass_downloader - INFO: Client 'GEONET' - Found 1 stations (1 channels).\n",
      "[2021-11-25 00:49:45,480] - obspy.clients.fdsn.mass_downloader - INFO: Client 'GEONET' - Will attempt to download data from 1 stations.\n",
      "[2021-11-25 00:49:45,482] - obspy.clients.fdsn.mass_downloader - INFO: Client 'GEONET' - Status for 1 time intervals/channels before downloading: NEEDS_DOWNLOADING\n",
      "[2021-11-25 00:49:46,523] - obspy.clients.fdsn.mass_downloader - INFO: Client 'GEONET' - Successfully downloaded 1 channels (of 1)\n",
      "[2021-11-25 00:49:46,560] - obspy.clients.fdsn.mass_downloader - INFO: Client 'GEONET' - Launching basic QC checks...\n",
      "[2021-11-25 00:49:46,598] - obspy.clients.fdsn.mass_downloader - INFO: Client 'GEONET' - Downloaded 0.0 MB [4.65 KB/sec] of data, 0.0 MB of which were discarded afterwards.\n",
      "[2021-11-25 00:49:46,604] - obspy.clients.fdsn.mass_downloader - INFO: Client 'GEONET' - Status for 1 time intervals/channels after downloading: DOWNLOADED\n",
      "[2021-11-25 00:49:46,657] - obspy.clients.fdsn.mass_downloader - INFO: Client 'GEONET' - No station information to download.\n",
      "[2021-11-25 00:49:46,672] - obspy.clients.fdsn.mass_downloader - INFO: ============================== Final report\n",
      "[2021-11-25 00:49:46,677] - obspy.clients.fdsn.mass_downloader - INFO: 0 MiniSEED files [0.0 MB] already existed.\n",
      "[2021-11-25 00:49:46,687] - obspy.clients.fdsn.mass_downloader - INFO: 1 StationXML files [0.0 MB] already existed.\n",
      "[2021-11-25 00:49:46,692] - obspy.clients.fdsn.mass_downloader - INFO: Client 'GEONET' - Acquired 1 MiniSEED files [0.0 MB].\n",
      "[2021-11-25 00:49:46,693] - obspy.clients.fdsn.mass_downloader - INFO: Client 'GEONET' - Acquired 0 StationXML files [0.0 MB].\n",
      "[2021-11-25 00:49:46,693] - obspy.clients.fdsn.mass_downloader - INFO: Downloaded 0.0 MB in total.\n",
      "[2021-11-25 00:49:46,756] - obspy.clients.fdsn.mass_downloader - INFO: Initializing FDSN client(s) for GEONET.\n",
      "[2021-11-25 00:49:46,919] - obspy.clients.fdsn.mass_downloader - INFO: Successfully initialized 1 client(s): GEONET.\n",
      "[2021-11-25 00:49:46,931] - obspy.clients.fdsn.mass_downloader - INFO: Total acquired or preexisting stations: 0\n"
     ]
    },
    {
     "name": "stdout",
     "output_type": "stream",
     "text": [
      "=================================================================\n",
      "Initiating mass download request.\n"
     ]
    },
    {
     "name": "stderr",
     "output_type": "stream",
     "text": [
      "[2021-11-25 00:49:46,945] - obspy.clients.fdsn.mass_downloader - INFO: Client 'GEONET' - Requesting unreliable availability.\n",
      "[2021-11-25 00:49:47,498] - obspy.clients.fdsn.mass_downloader - INFO: Client 'GEONET' - Successfully requested availability (0.55 seconds)\n",
      "[2021-11-25 00:49:47,533] - obspy.clients.fdsn.mass_downloader - INFO: Client 'GEONET' - Found 1 stations (1 channels).\n",
      "[2021-11-25 00:49:47,535] - obspy.clients.fdsn.mass_downloader - INFO: Client 'GEONET' - Will attempt to download data from 1 stations.\n",
      "[2021-11-25 00:49:47,537] - obspy.clients.fdsn.mass_downloader - INFO: Client 'GEONET' - Status for 1 time intervals/channels before downloading: NEEDS_DOWNLOADING\n",
      "[2021-11-25 00:49:48,408] - obspy.clients.fdsn.mass_downloader - INFO: Client 'GEONET' - Successfully downloaded 1 channels (of 1)\n",
      "[2021-11-25 00:49:48,418] - obspy.clients.fdsn.mass_downloader - INFO: Client 'GEONET' - Launching basic QC checks...\n",
      "[2021-11-25 00:49:48,434] - obspy.clients.fdsn.mass_downloader - INFO: Client 'GEONET' - Downloaded 0.0 MB [5.19 KB/sec] of data, 0.0 MB of which were discarded afterwards.\n",
      "[2021-11-25 00:49:48,437] - obspy.clients.fdsn.mass_downloader - INFO: Client 'GEONET' - Status for 1 time intervals/channels after downloading: DOWNLOADED\n",
      "[2021-11-25 00:49:48,441] - obspy.clients.fdsn.mass_downloader - INFO: Client 'GEONET' - No station information to download.\n",
      "[2021-11-25 00:49:48,446] - obspy.clients.fdsn.mass_downloader - INFO: ============================== Final report\n",
      "[2021-11-25 00:49:48,447] - obspy.clients.fdsn.mass_downloader - INFO: 0 MiniSEED files [0.0 MB] already existed.\n",
      "[2021-11-25 00:49:48,449] - obspy.clients.fdsn.mass_downloader - INFO: 1 StationXML files [0.0 MB] already existed.\n",
      "[2021-11-25 00:49:48,451] - obspy.clients.fdsn.mass_downloader - INFO: Client 'GEONET' - Acquired 1 MiniSEED files [0.0 MB].\n",
      "[2021-11-25 00:49:48,452] - obspy.clients.fdsn.mass_downloader - INFO: Client 'GEONET' - Acquired 0 StationXML files [0.0 MB].\n",
      "[2021-11-25 00:49:48,452] - obspy.clients.fdsn.mass_downloader - INFO: Downloaded 0.0 MB in total.\n",
      "[2021-11-25 00:49:48,455] - obspy.clients.fdsn.mass_downloader - INFO: Initializing FDSN client(s) for GEONET.\n",
      "[2021-11-25 00:49:48,465] - obspy.clients.fdsn.mass_downloader - INFO: Successfully initialized 1 client(s): GEONET.\n",
      "[2021-11-25 00:49:48,467] - obspy.clients.fdsn.mass_downloader - INFO: Total acquired or preexisting stations: 0\n",
      "[2021-11-25 00:49:48,467] - obspy.clients.fdsn.mass_downloader - INFO: Client 'GEONET' - Requesting unreliable availability.\n"
     ]
    },
    {
     "name": "stdout",
     "output_type": "stream",
     "text": [
      "=================================================================\n",
      "Initiating mass download request.\n"
     ]
    },
    {
     "name": "stderr",
     "output_type": "stream",
     "text": [
      "[2021-11-25 00:49:49,078] - obspy.clients.fdsn.mass_downloader - INFO: Client 'GEONET' - Successfully requested availability (0.61 seconds)\n",
      "[2021-11-25 00:49:49,112] - obspy.clients.fdsn.mass_downloader - INFO: Client 'GEONET' - Found 1 stations (1 channels).\n",
      "[2021-11-25 00:49:49,114] - obspy.clients.fdsn.mass_downloader - INFO: Client 'GEONET' - Will attempt to download data from 1 stations.\n",
      "[2021-11-25 00:49:49,115] - obspy.clients.fdsn.mass_downloader - INFO: Client 'GEONET' - Status for 1 time intervals/channels before downloading: NEEDS_DOWNLOADING\n",
      "[2021-11-25 00:49:50,144] - obspy.clients.fdsn.mass_downloader - INFO: Client 'GEONET' - Successfully downloaded 1 channels (of 1)\n",
      "[2021-11-25 00:49:50,148] - obspy.clients.fdsn.mass_downloader - INFO: Client 'GEONET' - Launching basic QC checks...\n",
      "[2021-11-25 00:49:50,157] - obspy.clients.fdsn.mass_downloader - INFO: Client 'GEONET' - Downloaded 0.0 MB [4.40 KB/sec] of data, 0.0 MB of which were discarded afterwards.\n",
      "[2021-11-25 00:49:50,158] - obspy.clients.fdsn.mass_downloader - INFO: Client 'GEONET' - Status for 1 time intervals/channels after downloading: DOWNLOADED\n",
      "[2021-11-25 00:49:50,161] - obspy.clients.fdsn.mass_downloader - INFO: Client 'GEONET' - No station information to download.\n",
      "[2021-11-25 00:49:50,163] - obspy.clients.fdsn.mass_downloader - INFO: ============================== Final report\n",
      "[2021-11-25 00:49:50,165] - obspy.clients.fdsn.mass_downloader - INFO: 0 MiniSEED files [0.0 MB] already existed.\n",
      "[2021-11-25 00:49:50,167] - obspy.clients.fdsn.mass_downloader - INFO: 1 StationXML files [0.0 MB] already existed.\n",
      "[2021-11-25 00:49:50,169] - obspy.clients.fdsn.mass_downloader - INFO: Client 'GEONET' - Acquired 1 MiniSEED files [0.0 MB].\n",
      "[2021-11-25 00:49:50,169] - obspy.clients.fdsn.mass_downloader - INFO: Client 'GEONET' - Acquired 0 StationXML files [0.0 MB].\n",
      "[2021-11-25 00:49:50,173] - obspy.clients.fdsn.mass_downloader - INFO: Downloaded 0.0 MB in total.\n",
      "[2021-11-25 00:49:50,177] - obspy.clients.fdsn.mass_downloader - INFO: Initializing FDSN client(s) for GEONET.\n",
      "[2021-11-25 00:49:50,181] - obspy.clients.fdsn.mass_downloader - INFO: Successfully initialized 1 client(s): GEONET.\n",
      "[2021-11-25 00:49:50,187] - obspy.clients.fdsn.mass_downloader - INFO: Total acquired or preexisting stations: 0\n",
      "[2021-11-25 00:49:50,188] - obspy.clients.fdsn.mass_downloader - INFO: Client 'GEONET' - Requesting unreliable availability.\n"
     ]
    },
    {
     "name": "stdout",
     "output_type": "stream",
     "text": [
      "=================================================================\n",
      "Initiating mass download request.\n"
     ]
    },
    {
     "name": "stderr",
     "output_type": "stream",
     "text": [
      "[2021-11-25 00:49:50,852] - obspy.clients.fdsn.mass_downloader - INFO: Client 'GEONET' - Successfully requested availability (0.66 seconds)\n",
      "[2021-11-25 00:49:50,878] - obspy.clients.fdsn.mass_downloader - INFO: Client 'GEONET' - Found 1 stations (1 channels).\n",
      "[2021-11-25 00:49:50,911] - obspy.clients.fdsn.mass_downloader - INFO: Client 'GEONET' - Will attempt to download data from 1 stations.\n",
      "[2021-11-25 00:49:50,915] - obspy.clients.fdsn.mass_downloader - INFO: Client 'GEONET' - Status for 1 time intervals/channels before downloading: NEEDS_DOWNLOADING\n",
      "[2021-11-25 00:49:51,858] - obspy.clients.fdsn.mass_downloader - INFO: Client 'GEONET' - Successfully downloaded 1 channels (of 1)\n",
      "[2021-11-25 00:49:51,874] - obspy.clients.fdsn.mass_downloader - INFO: Client 'GEONET' - Launching basic QC checks...\n",
      "[2021-11-25 00:49:51,910] - obspy.clients.fdsn.mass_downloader - INFO: Client 'GEONET' - Downloaded 0.0 MB [3.82 KB/sec] of data, 0.0 MB of which were discarded afterwards.\n",
      "[2021-11-25 00:49:51,916] - obspy.clients.fdsn.mass_downloader - INFO: Client 'GEONET' - Status for 1 time intervals/channels after downloading: DOWNLOADED\n",
      "[2021-11-25 00:49:51,926] - obspy.clients.fdsn.mass_downloader - INFO: Client 'GEONET' - No station information to download.\n",
      "[2021-11-25 00:49:51,931] - obspy.clients.fdsn.mass_downloader - INFO: ============================== Final report\n",
      "[2021-11-25 00:49:51,939] - obspy.clients.fdsn.mass_downloader - INFO: 0 MiniSEED files [0.0 MB] already existed.\n",
      "[2021-11-25 00:49:51,942] - obspy.clients.fdsn.mass_downloader - INFO: 1 StationXML files [0.0 MB] already existed.\n",
      "[2021-11-25 00:49:51,943] - obspy.clients.fdsn.mass_downloader - INFO: Client 'GEONET' - Acquired 1 MiniSEED files [0.0 MB].\n",
      "[2021-11-25 00:49:51,943] - obspy.clients.fdsn.mass_downloader - INFO: Client 'GEONET' - Acquired 0 StationXML files [0.0 MB].\n",
      "[2021-11-25 00:49:51,943] - obspy.clients.fdsn.mass_downloader - INFO: Downloaded 0.0 MB in total.\n",
      "[2021-11-25 00:49:51,955] - obspy.clients.fdsn.mass_downloader - INFO: Initializing FDSN client(s) for GEONET.\n",
      "[2021-11-25 00:49:51,965] - obspy.clients.fdsn.mass_downloader - INFO: Successfully initialized 1 client(s): GEONET.\n",
      "[2021-11-25 00:49:51,969] - obspy.clients.fdsn.mass_downloader - INFO: Total acquired or preexisting stations: 0\n",
      "[2021-11-25 00:49:51,971] - obspy.clients.fdsn.mass_downloader - INFO: Client 'GEONET' - Requesting unreliable availability.\n"
     ]
    },
    {
     "name": "stdout",
     "output_type": "stream",
     "text": [
      "=================================================================\n",
      "Initiating mass download request.\n"
     ]
    },
    {
     "name": "stderr",
     "output_type": "stream",
     "text": [
      "[2021-11-25 00:49:52,548] - obspy.clients.fdsn.mass_downloader - INFO: Client 'GEONET' - Successfully requested availability (0.58 seconds)\n",
      "[2021-11-25 00:49:52,555] - obspy.clients.fdsn.mass_downloader - INFO: Client 'GEONET' - Found 1 stations (1 channels).\n",
      "[2021-11-25 00:49:52,557] - obspy.clients.fdsn.mass_downloader - INFO: Client 'GEONET' - Will attempt to download data from 1 stations.\n",
      "[2021-11-25 00:49:52,562] - obspy.clients.fdsn.mass_downloader - INFO: Client 'GEONET' - Status for 1 time intervals/channels before downloading: NEEDS_DOWNLOADING\n",
      "[2021-11-25 00:49:53,612] - obspy.clients.fdsn.mass_downloader - INFO: Client 'GEONET' - Successfully downloaded 1 channels (of 1)\n",
      "[2021-11-25 00:49:53,628] - obspy.clients.fdsn.mass_downloader - INFO: Client 'GEONET' - Launching basic QC checks...\n",
      "[2021-11-25 00:49:53,649] - obspy.clients.fdsn.mass_downloader - INFO: Client 'GEONET' - Downloaded 0.0 MB [4.28 KB/sec] of data, 0.0 MB of which were discarded afterwards.\n",
      "[2021-11-25 00:49:53,653] - obspy.clients.fdsn.mass_downloader - INFO: Client 'GEONET' - Status for 1 time intervals/channels after downloading: DOWNLOADED\n",
      "[2021-11-25 00:49:53,660] - obspy.clients.fdsn.mass_downloader - INFO: Client 'GEONET' - No station information to download.\n",
      "[2021-11-25 00:49:53,662] - obspy.clients.fdsn.mass_downloader - INFO: ============================== Final report\n",
      "[2021-11-25 00:49:53,662] - obspy.clients.fdsn.mass_downloader - INFO: 0 MiniSEED files [0.0 MB] already existed.\n",
      "[2021-11-25 00:49:53,663] - obspy.clients.fdsn.mass_downloader - INFO: 1 StationXML files [0.0 MB] already existed.\n",
      "[2021-11-25 00:49:53,664] - obspy.clients.fdsn.mass_downloader - INFO: Client 'GEONET' - Acquired 1 MiniSEED files [0.0 MB].\n",
      "[2021-11-25 00:49:53,666] - obspy.clients.fdsn.mass_downloader - INFO: Client 'GEONET' - Acquired 0 StationXML files [0.0 MB].\n",
      "[2021-11-25 00:49:53,667] - obspy.clients.fdsn.mass_downloader - INFO: Downloaded 0.0 MB in total.\n",
      "[2021-11-25 00:49:53,671] - obspy.clients.fdsn.mass_downloader - INFO: Initializing FDSN client(s) for GEONET.\n",
      "[2021-11-25 00:49:53,679] - obspy.clients.fdsn.mass_downloader - INFO: Successfully initialized 1 client(s): GEONET.\n",
      "[2021-11-25 00:49:53,681] - obspy.clients.fdsn.mass_downloader - INFO: Total acquired or preexisting stations: 0\n",
      "[2021-11-25 00:49:53,682] - obspy.clients.fdsn.mass_downloader - INFO: Client 'GEONET' - Requesting unreliable availability.\n"
     ]
    },
    {
     "name": "stdout",
     "output_type": "stream",
     "text": [
      "=================================================================\n",
      "Initiating mass download request.\n"
     ]
    },
    {
     "name": "stderr",
     "output_type": "stream",
     "text": [
      "[2021-11-25 00:49:54,351] - obspy.clients.fdsn.mass_downloader - INFO: Client 'GEONET' - Successfully requested availability (0.67 seconds)\n",
      "[2021-11-25 00:49:54,359] - obspy.clients.fdsn.mass_downloader - INFO: Client 'GEONET' - Found 1 stations (1 channels).\n",
      "[2021-11-25 00:49:54,368] - obspy.clients.fdsn.mass_downloader - INFO: Client 'GEONET' - Will attempt to download data from 1 stations.\n",
      "[2021-11-25 00:49:54,371] - obspy.clients.fdsn.mass_downloader - INFO: Client 'GEONET' - Status for 1 time intervals/channels before downloading: NEEDS_DOWNLOADING\n",
      "[2021-11-25 00:49:55,350] - obspy.clients.fdsn.mass_downloader - INFO: Client 'GEONET' - Successfully downloaded 1 channels (of 1)\n",
      "[2021-11-25 00:49:55,365] - obspy.clients.fdsn.mass_downloader - INFO: Client 'GEONET' - Launching basic QC checks...\n",
      "[2021-11-25 00:49:55,394] - obspy.clients.fdsn.mass_downloader - INFO: Client 'GEONET' - Downloaded 0.0 MB [4.07 KB/sec] of data, 0.0 MB of which were discarded afterwards.\n",
      "[2021-11-25 00:49:55,400] - obspy.clients.fdsn.mass_downloader - INFO: Client 'GEONET' - Status for 1 time intervals/channels after downloading: DOWNLOADED\n",
      "[2021-11-25 00:49:55,409] - obspy.clients.fdsn.mass_downloader - INFO: Client 'GEONET' - No station information to download.\n",
      "[2021-11-25 00:49:55,417] - obspy.clients.fdsn.mass_downloader - INFO: ============================== Final report\n",
      "[2021-11-25 00:49:55,419] - obspy.clients.fdsn.mass_downloader - INFO: 0 MiniSEED files [0.0 MB] already existed.\n",
      "[2021-11-25 00:49:55,421] - obspy.clients.fdsn.mass_downloader - INFO: 1 StationXML files [0.0 MB] already existed.\n",
      "[2021-11-25 00:49:55,421] - obspy.clients.fdsn.mass_downloader - INFO: Client 'GEONET' - Acquired 1 MiniSEED files [0.0 MB].\n",
      "[2021-11-25 00:49:55,422] - obspy.clients.fdsn.mass_downloader - INFO: Client 'GEONET' - Acquired 0 StationXML files [0.0 MB].\n",
      "[2021-11-25 00:49:55,422] - obspy.clients.fdsn.mass_downloader - INFO: Downloaded 0.0 MB in total.\n",
      "[2021-11-25 00:49:55,428] - obspy.clients.fdsn.mass_downloader - INFO: Initializing FDSN client(s) for GEONET.\n",
      "[2021-11-25 00:49:55,460] - obspy.clients.fdsn.mass_downloader - INFO: Successfully initialized 1 client(s): GEONET.\n",
      "[2021-11-25 00:49:55,469] - obspy.clients.fdsn.mass_downloader - INFO: Total acquired or preexisting stations: 0\n",
      "[2021-11-25 00:49:55,471] - obspy.clients.fdsn.mass_downloader - INFO: Client 'GEONET' - Requesting unreliable availability.\n"
     ]
    },
    {
     "name": "stdout",
     "output_type": "stream",
     "text": [
      "=================================================================\n",
      "Initiating mass download request.\n"
     ]
    },
    {
     "name": "stderr",
     "output_type": "stream",
     "text": [
      "[2021-11-25 00:49:56,072] - obspy.clients.fdsn.mass_downloader - INFO: Client 'GEONET' - Successfully requested availability (0.60 seconds)\n",
      "[2021-11-25 00:49:56,077] - obspy.clients.fdsn.mass_downloader - INFO: Client 'GEONET' - Found 1 stations (1 channels).\n",
      "[2021-11-25 00:49:56,078] - obspy.clients.fdsn.mass_downloader - INFO: Client 'GEONET' - Will attempt to download data from 1 stations.\n",
      "[2021-11-25 00:49:56,079] - obspy.clients.fdsn.mass_downloader - INFO: Client 'GEONET' - Status for 1 time intervals/channels before downloading: NEEDS_DOWNLOADING\n",
      "[2021-11-25 00:49:56,990] - obspy.clients.fdsn.mass_downloader - INFO: Client 'GEONET' - Successfully downloaded 1 channels (of 1)\n",
      "[2021-11-25 00:49:57,005] - obspy.clients.fdsn.mass_downloader - INFO: Client 'GEONET' - Launching basic QC checks...\n",
      "[2021-11-25 00:49:57,034] - obspy.clients.fdsn.mass_downloader - INFO: Client 'GEONET' - Downloaded 0.0 MB [4.90 KB/sec] of data, 0.0 MB of which were discarded afterwards.\n",
      "[2021-11-25 00:49:57,035] - obspy.clients.fdsn.mass_downloader - INFO: Client 'GEONET' - Status for 1 time intervals/channels after downloading: DOWNLOADED\n",
      "[2021-11-25 00:49:57,042] - obspy.clients.fdsn.mass_downloader - INFO: Client 'GEONET' - No station information to download.\n",
      "[2021-11-25 00:49:57,044] - obspy.clients.fdsn.mass_downloader - INFO: ============================== Final report\n",
      "[2021-11-25 00:49:57,046] - obspy.clients.fdsn.mass_downloader - INFO: 0 MiniSEED files [0.0 MB] already existed.\n",
      "[2021-11-25 00:49:57,049] - obspy.clients.fdsn.mass_downloader - INFO: 1 StationXML files [0.0 MB] already existed.\n",
      "[2021-11-25 00:49:57,049] - obspy.clients.fdsn.mass_downloader - INFO: Client 'GEONET' - Acquired 1 MiniSEED files [0.0 MB].\n",
      "[2021-11-25 00:49:57,050] - obspy.clients.fdsn.mass_downloader - INFO: Client 'GEONET' - Acquired 0 StationXML files [0.0 MB].\n",
      "[2021-11-25 00:49:57,051] - obspy.clients.fdsn.mass_downloader - INFO: Downloaded 0.0 MB in total.\n",
      "[2021-11-25 00:49:57,058] - obspy.clients.fdsn.mass_downloader - INFO: Initializing FDSN client(s) for GEONET.\n",
      "[2021-11-25 00:49:57,074] - obspy.clients.fdsn.mass_downloader - INFO: Successfully initialized 1 client(s): GEONET.\n",
      "[2021-11-25 00:49:57,077] - obspy.clients.fdsn.mass_downloader - INFO: Total acquired or preexisting stations: 0\n",
      "[2021-11-25 00:49:57,077] - obspy.clients.fdsn.mass_downloader - INFO: Client 'GEONET' - Requesting unreliable availability.\n"
     ]
    },
    {
     "name": "stdout",
     "output_type": "stream",
     "text": [
      "=================================================================\n",
      "Initiating mass download request.\n"
     ]
    },
    {
     "name": "stderr",
     "output_type": "stream",
     "text": [
      "[2021-11-25 00:49:57,778] - obspy.clients.fdsn.mass_downloader - INFO: Client 'GEONET' - Successfully requested availability (0.70 seconds)\n",
      "[2021-11-25 00:49:57,787] - obspy.clients.fdsn.mass_downloader - INFO: Client 'GEONET' - Found 1 stations (1 channels).\n",
      "[2021-11-25 00:49:57,791] - obspy.clients.fdsn.mass_downloader - INFO: Client 'GEONET' - Will attempt to download data from 1 stations.\n",
      "[2021-11-25 00:49:57,801] - obspy.clients.fdsn.mass_downloader - INFO: Client 'GEONET' - Status for 1 time intervals/channels before downloading: NEEDS_DOWNLOADING\n",
      "[2021-11-25 00:49:58,931] - obspy.clients.fdsn.mass_downloader - INFO: Client 'GEONET' - Successfully downloaded 1 channels (of 1)\n",
      "[2021-11-25 00:49:58,938] - obspy.clients.fdsn.mass_downloader - INFO: Client 'GEONET' - Launching basic QC checks...\n",
      "[2021-11-25 00:49:58,947] - obspy.clients.fdsn.mass_downloader - INFO: Client 'GEONET' - Downloaded 0.0 MB [4.30 KB/sec] of data, 0.0 MB of which were discarded afterwards.\n",
      "[2021-11-25 00:49:58,947] - obspy.clients.fdsn.mass_downloader - INFO: Client 'GEONET' - Status for 1 time intervals/channels after downloading: DOWNLOADED\n",
      "[2021-11-25 00:49:58,950] - obspy.clients.fdsn.mass_downloader - INFO: Client 'GEONET' - No station information to download.\n",
      "[2021-11-25 00:49:58,955] - obspy.clients.fdsn.mass_downloader - INFO: ============================== Final report\n",
      "[2021-11-25 00:49:58,956] - obspy.clients.fdsn.mass_downloader - INFO: 0 MiniSEED files [0.0 MB] already existed.\n",
      "[2021-11-25 00:49:58,956] - obspy.clients.fdsn.mass_downloader - INFO: 1 StationXML files [0.0 MB] already existed.\n",
      "[2021-11-25 00:49:58,957] - obspy.clients.fdsn.mass_downloader - INFO: Client 'GEONET' - Acquired 1 MiniSEED files [0.0 MB].\n",
      "[2021-11-25 00:49:58,957] - obspy.clients.fdsn.mass_downloader - INFO: Client 'GEONET' - Acquired 0 StationXML files [0.0 MB].\n",
      "[2021-11-25 00:49:58,958] - obspy.clients.fdsn.mass_downloader - INFO: Downloaded 0.0 MB in total.\n",
      "[2021-11-25 00:49:58,964] - obspy.clients.fdsn.mass_downloader - INFO: Initializing FDSN client(s) for GEONET.\n",
      "[2021-11-25 00:49:58,971] - obspy.clients.fdsn.mass_downloader - INFO: Successfully initialized 1 client(s): GEONET.\n",
      "[2021-11-25 00:49:58,972] - obspy.clients.fdsn.mass_downloader - INFO: Total acquired or preexisting stations: 0\n",
      "[2021-11-25 00:49:58,973] - obspy.clients.fdsn.mass_downloader - INFO: Client 'GEONET' - Requesting unreliable availability.\n"
     ]
    },
    {
     "name": "stdout",
     "output_type": "stream",
     "text": [
      "=================================================================\n",
      "Initiating mass download request.\n"
     ]
    },
    {
     "name": "stderr",
     "output_type": "stream",
     "text": [
      "[2021-11-25 00:49:59,634] - obspy.clients.fdsn.mass_downloader - INFO: Client 'GEONET' - Successfully requested availability (0.66 seconds)\n",
      "[2021-11-25 00:49:59,641] - obspy.clients.fdsn.mass_downloader - INFO: Client 'GEONET' - Found 1 stations (1 channels).\n",
      "[2021-11-25 00:49:59,647] - obspy.clients.fdsn.mass_downloader - INFO: Client 'GEONET' - Will attempt to download data from 1 stations.\n",
      "[2021-11-25 00:49:59,652] - obspy.clients.fdsn.mass_downloader - INFO: Client 'GEONET' - Status for 1 time intervals/channels before downloading: NEEDS_DOWNLOADING\n",
      "[2021-11-25 00:50:00,538] - obspy.clients.fdsn.mass_downloader - INFO: Client 'GEONET' - Successfully downloaded 1 channels (of 1)\n",
      "[2021-11-25 00:50:00,604] - obspy.clients.fdsn.mass_downloader - INFO: Client 'GEONET' - Launching basic QC checks...\n",
      "[2021-11-25 00:50:00,643] - obspy.clients.fdsn.mass_downloader - INFO: Client 'GEONET' - Downloaded 0.0 MB [3.71 KB/sec] of data, 0.0 MB of which were discarded afterwards.\n",
      "[2021-11-25 00:50:00,648] - obspy.clients.fdsn.mass_downloader - INFO: Client 'GEONET' - Status for 1 time intervals/channels after downloading: DOWNLOADED\n",
      "[2021-11-25 00:50:00,662] - obspy.clients.fdsn.mass_downloader - INFO: Client 'GEONET' - No station information to download.\n",
      "[2021-11-25 00:50:00,668] - obspy.clients.fdsn.mass_downloader - INFO: ============================== Final report\n",
      "[2021-11-25 00:50:00,672] - obspy.clients.fdsn.mass_downloader - INFO: 0 MiniSEED files [0.0 MB] already existed.\n",
      "[2021-11-25 00:50:00,673] - obspy.clients.fdsn.mass_downloader - INFO: 1 StationXML files [0.0 MB] already existed.\n",
      "[2021-11-25 00:50:00,675] - obspy.clients.fdsn.mass_downloader - INFO: Client 'GEONET' - Acquired 1 MiniSEED files [0.0 MB].\n",
      "[2021-11-25 00:50:00,677] - obspy.clients.fdsn.mass_downloader - INFO: Client 'GEONET' - Acquired 0 StationXML files [0.0 MB].\n",
      "[2021-11-25 00:50:00,677] - obspy.clients.fdsn.mass_downloader - INFO: Downloaded 0.0 MB in total.\n",
      "[2021-11-25 00:50:00,687] - obspy.clients.fdsn.mass_downloader - INFO: Initializing FDSN client(s) for GEONET.\n",
      "[2021-11-25 00:50:00,711] - obspy.clients.fdsn.mass_downloader - INFO: Successfully initialized 1 client(s): GEONET.\n",
      "[2021-11-25 00:50:00,717] - obspy.clients.fdsn.mass_downloader - INFO: Total acquired or preexisting stations: 0\n",
      "[2021-11-25 00:50:00,720] - obspy.clients.fdsn.mass_downloader - INFO: Client 'GEONET' - Requesting unreliable availability.\n"
     ]
    },
    {
     "name": "stdout",
     "output_type": "stream",
     "text": [
      "=================================================================\n",
      "Initiating mass download request.\n"
     ]
    },
    {
     "name": "stderr",
     "output_type": "stream",
     "text": [
      "[2021-11-25 00:50:01,314] - obspy.clients.fdsn.mass_downloader - INFO: Client 'GEONET' - Successfully requested availability (0.59 seconds)\n",
      "[2021-11-25 00:50:01,315] - obspy.clients.fdsn.mass_downloader - INFO: Client 'GEONET' - Found 1 stations (1 channels).\n",
      "[2021-11-25 00:50:01,316] - obspy.clients.fdsn.mass_downloader - INFO: Client 'GEONET' - Will attempt to download data from 1 stations.\n",
      "[2021-11-25 00:50:01,316] - obspy.clients.fdsn.mass_downloader - INFO: Client 'GEONET' - Status for 1 time intervals/channels before downloading: NEEDS_DOWNLOADING\n",
      "[2021-11-25 00:50:02,482] - obspy.clients.fdsn.mass_downloader - INFO: Client 'GEONET' - Successfully downloaded 1 channels (of 1)\n",
      "[2021-11-25 00:50:02,495] - obspy.clients.fdsn.mass_downloader - INFO: Client 'GEONET' - Launching basic QC checks...\n",
      "[2021-11-25 00:50:02,521] - obspy.clients.fdsn.mass_downloader - INFO: Client 'GEONET' - Downloaded 0.0 MB [6.79 KB/sec] of data, 0.0 MB of which were discarded afterwards.\n",
      "[2021-11-25 00:50:02,526] - obspy.clients.fdsn.mass_downloader - INFO: Client 'GEONET' - Status for 1 time intervals/channels after downloading: DOWNLOADED\n",
      "[2021-11-25 00:50:02,545] - obspy.clients.fdsn.mass_downloader - INFO: Client 'GEONET' - No station information to download.\n",
      "[2021-11-25 00:50:02,551] - obspy.clients.fdsn.mass_downloader - INFO: ============================== Final report\n",
      "[2021-11-25 00:50:02,555] - obspy.clients.fdsn.mass_downloader - INFO: 0 MiniSEED files [0.0 MB] already existed.\n",
      "[2021-11-25 00:50:02,560] - obspy.clients.fdsn.mass_downloader - INFO: 1 StationXML files [0.0 MB] already existed.\n",
      "[2021-11-25 00:50:02,563] - obspy.clients.fdsn.mass_downloader - INFO: Client 'GEONET' - Acquired 1 MiniSEED files [0.0 MB].\n",
      "[2021-11-25 00:50:02,567] - obspy.clients.fdsn.mass_downloader - INFO: Client 'GEONET' - Acquired 0 StationXML files [0.0 MB].\n",
      "[2021-11-25 00:50:02,570] - obspy.clients.fdsn.mass_downloader - INFO: Downloaded 0.0 MB in total.\n",
      "[2021-11-25 00:50:02,581] - obspy.clients.fdsn.mass_downloader - INFO: Initializing FDSN client(s) for GEONET.\n",
      "[2021-11-25 00:50:02,619] - obspy.clients.fdsn.mass_downloader - INFO: Successfully initialized 1 client(s): GEONET.\n",
      "[2021-11-25 00:50:02,625] - obspy.clients.fdsn.mass_downloader - INFO: Total acquired or preexisting stations: 0\n",
      "[2021-11-25 00:50:02,626] - obspy.clients.fdsn.mass_downloader - INFO: Client 'GEONET' - Requesting unreliable availability.\n"
     ]
    },
    {
     "name": "stdout",
     "output_type": "stream",
     "text": [
      "=================================================================\n",
      "Initiating mass download request.\n"
     ]
    },
    {
     "name": "stderr",
     "output_type": "stream",
     "text": [
      "[2021-11-25 00:50:03,238] - obspy.clients.fdsn.mass_downloader - INFO: Client 'GEONET' - Successfully requested availability (0.61 seconds)\n",
      "[2021-11-25 00:50:03,273] - obspy.clients.fdsn.mass_downloader - INFO: Client 'GEONET' - Found 1 stations (1 channels).\n",
      "[2021-11-25 00:50:03,282] - obspy.clients.fdsn.mass_downloader - INFO: Client 'GEONET' - Will attempt to download data from 1 stations.\n",
      "[2021-11-25 00:50:03,284] - obspy.clients.fdsn.mass_downloader - INFO: Client 'GEONET' - Status for 1 time intervals/channels before downloading: NEEDS_DOWNLOADING\n",
      "[2021-11-25 00:50:04,059] - obspy.clients.fdsn.mass_downloader - INFO: Client 'GEONET' - Successfully downloaded 1 channels (of 1)\n",
      "[2021-11-25 00:50:04,067] - obspy.clients.fdsn.mass_downloader - INFO: Client 'GEONET' - Launching basic QC checks...\n",
      "[2021-11-25 00:50:04,073] - obspy.clients.fdsn.mass_downloader - INFO: Client 'GEONET' - Downloaded 0.0 MB [4.49 KB/sec] of data, 0.0 MB of which were discarded afterwards.\n",
      "[2021-11-25 00:50:04,074] - obspy.clients.fdsn.mass_downloader - INFO: Client 'GEONET' - Status for 1 time intervals/channels after downloading: DOWNLOADED\n",
      "[2021-11-25 00:50:04,078] - obspy.clients.fdsn.mass_downloader - INFO: Client 'GEONET' - No station information to download.\n",
      "[2021-11-25 00:50:04,081] - obspy.clients.fdsn.mass_downloader - INFO: ============================== Final report\n",
      "[2021-11-25 00:50:04,082] - obspy.clients.fdsn.mass_downloader - INFO: 0 MiniSEED files [0.0 MB] already existed.\n",
      "[2021-11-25 00:50:04,083] - obspy.clients.fdsn.mass_downloader - INFO: 1 StationXML files [0.0 MB] already existed.\n",
      "[2021-11-25 00:50:04,083] - obspy.clients.fdsn.mass_downloader - INFO: Client 'GEONET' - Acquired 1 MiniSEED files [0.0 MB].\n",
      "[2021-11-25 00:50:04,084] - obspy.clients.fdsn.mass_downloader - INFO: Client 'GEONET' - Acquired 0 StationXML files [0.0 MB].\n",
      "[2021-11-25 00:50:04,084] - obspy.clients.fdsn.mass_downloader - INFO: Downloaded 0.0 MB in total.\n",
      "[2021-11-25 00:50:04,096] - obspy.clients.fdsn.mass_downloader - INFO: Initializing FDSN client(s) for GEONET.\n",
      "[2021-11-25 00:50:04,105] - obspy.clients.fdsn.mass_downloader - INFO: Successfully initialized 1 client(s): GEONET.\n",
      "[2021-11-25 00:50:04,108] - obspy.clients.fdsn.mass_downloader - INFO: Total acquired or preexisting stations: 0\n",
      "[2021-11-25 00:50:04,108] - obspy.clients.fdsn.mass_downloader - INFO: Client 'GEONET' - Requesting unreliable availability.\n"
     ]
    },
    {
     "name": "stdout",
     "output_type": "stream",
     "text": [
      "=================================================================\n",
      "Initiating mass download request.\n"
     ]
    },
    {
     "name": "stderr",
     "output_type": "stream",
     "text": [
      "[2021-11-25 00:50:04,689] - obspy.clients.fdsn.mass_downloader - INFO: Client 'GEONET' - Successfully requested availability (0.58 seconds)\n",
      "[2021-11-25 00:50:04,704] - obspy.clients.fdsn.mass_downloader - INFO: Client 'GEONET' - Found 1 stations (1 channels).\n",
      "[2021-11-25 00:50:04,708] - obspy.clients.fdsn.mass_downloader - INFO: Client 'GEONET' - Will attempt to download data from 1 stations.\n",
      "[2021-11-25 00:50:04,717] - obspy.clients.fdsn.mass_downloader - INFO: Client 'GEONET' - Status for 1 time intervals/channels before downloading: NEEDS_DOWNLOADING\n",
      "[2021-11-25 00:50:05,618] - obspy.clients.fdsn.mass_downloader - INFO: Client 'GEONET' - Successfully downloaded 1 channels (of 1)\n",
      "[2021-11-25 00:50:05,625] - obspy.clients.fdsn.mass_downloader - INFO: Client 'GEONET' - Launching basic QC checks...\n",
      "[2021-11-25 00:50:05,630] - obspy.clients.fdsn.mass_downloader - INFO: Client 'GEONET' - Downloaded 0.0 MB [4.45 KB/sec] of data, 0.0 MB of which were discarded afterwards.\n",
      "[2021-11-25 00:50:05,631] - obspy.clients.fdsn.mass_downloader - INFO: Client 'GEONET' - Status for 1 time intervals/channels after downloading: DOWNLOADED\n",
      "[2021-11-25 00:50:05,637] - obspy.clients.fdsn.mass_downloader - INFO: Client 'GEONET' - No station information to download.\n",
      "[2021-11-25 00:50:05,638] - obspy.clients.fdsn.mass_downloader - INFO: ============================== Final report\n",
      "[2021-11-25 00:50:05,639] - obspy.clients.fdsn.mass_downloader - INFO: 0 MiniSEED files [0.0 MB] already existed.\n",
      "[2021-11-25 00:50:05,639] - obspy.clients.fdsn.mass_downloader - INFO: 1 StationXML files [0.0 MB] already existed.\n",
      "[2021-11-25 00:50:05,639] - obspy.clients.fdsn.mass_downloader - INFO: Client 'GEONET' - Acquired 1 MiniSEED files [0.0 MB].\n",
      "[2021-11-25 00:50:05,640] - obspy.clients.fdsn.mass_downloader - INFO: Client 'GEONET' - Acquired 0 StationXML files [0.0 MB].\n",
      "[2021-11-25 00:50:05,640] - obspy.clients.fdsn.mass_downloader - INFO: Downloaded 0.0 MB in total.\n",
      "[2021-11-25 00:50:05,647] - obspy.clients.fdsn.mass_downloader - INFO: Initializing FDSN client(s) for GEONET.\n",
      "[2021-11-25 00:50:05,651] - obspy.clients.fdsn.mass_downloader - INFO: Successfully initialized 1 client(s): GEONET.\n",
      "[2021-11-25 00:50:05,654] - obspy.clients.fdsn.mass_downloader - INFO: Total acquired or preexisting stations: 0\n",
      "[2021-11-25 00:50:05,654] - obspy.clients.fdsn.mass_downloader - INFO: Client 'GEONET' - Requesting unreliable availability.\n"
     ]
    },
    {
     "name": "stdout",
     "output_type": "stream",
     "text": [
      "=================================================================\n",
      "Initiating mass download request.\n"
     ]
    },
    {
     "name": "stderr",
     "output_type": "stream",
     "text": [
      "[2021-11-25 00:50:06,257] - obspy.clients.fdsn.mass_downloader - INFO: Client 'GEONET' - Successfully requested availability (0.60 seconds)\n",
      "[2021-11-25 00:50:06,268] - obspy.clients.fdsn.mass_downloader - INFO: Client 'GEONET' - Found 1 stations (1 channels).\n",
      "[2021-11-25 00:50:06,270] - obspy.clients.fdsn.mass_downloader - INFO: Client 'GEONET' - Will attempt to download data from 1 stations.\n",
      "[2021-11-25 00:50:06,283] - obspy.clients.fdsn.mass_downloader - INFO: Client 'GEONET' - Status for 1 time intervals/channels before downloading: NEEDS_DOWNLOADING\n",
      "[2021-11-25 00:50:07,335] - obspy.clients.fdsn.mass_downloader - INFO: Client 'GEONET' - Successfully downloaded 1 channels (of 1)\n",
      "[2021-11-25 00:50:07,340] - obspy.clients.fdsn.mass_downloader - INFO: Client 'GEONET' - Launching basic QC checks...\n",
      "[2021-11-25 00:50:07,349] - obspy.clients.fdsn.mass_downloader - INFO: Client 'GEONET' - Downloaded 0.0 MB [4.33 KB/sec] of data, 0.0 MB of which were discarded afterwards.\n",
      "[2021-11-25 00:50:07,350] - obspy.clients.fdsn.mass_downloader - INFO: Client 'GEONET' - Status for 1 time intervals/channels after downloading: DOWNLOADED\n",
      "[2021-11-25 00:50:07,352] - obspy.clients.fdsn.mass_downloader - INFO: Client 'GEONET' - No station information to download.\n",
      "[2021-11-25 00:50:07,353] - obspy.clients.fdsn.mass_downloader - INFO: ============================== Final report\n",
      "[2021-11-25 00:50:07,354] - obspy.clients.fdsn.mass_downloader - INFO: 0 MiniSEED files [0.0 MB] already existed.\n",
      "[2021-11-25 00:50:07,354] - obspy.clients.fdsn.mass_downloader - INFO: 1 StationXML files [0.0 MB] already existed.\n",
      "[2021-11-25 00:50:07,354] - obspy.clients.fdsn.mass_downloader - INFO: Client 'GEONET' - Acquired 1 MiniSEED files [0.0 MB].\n",
      "[2021-11-25 00:50:07,355] - obspy.clients.fdsn.mass_downloader - INFO: Client 'GEONET' - Acquired 0 StationXML files [0.0 MB].\n",
      "[2021-11-25 00:50:07,355] - obspy.clients.fdsn.mass_downloader - INFO: Downloaded 0.0 MB in total.\n",
      "[2021-11-25 00:50:07,357] - obspy.clients.fdsn.mass_downloader - INFO: Initializing FDSN client(s) for GEONET.\n",
      "[2021-11-25 00:50:07,361] - obspy.clients.fdsn.mass_downloader - INFO: Successfully initialized 1 client(s): GEONET.\n",
      "[2021-11-25 00:50:07,361] - obspy.clients.fdsn.mass_downloader - INFO: Total acquired or preexisting stations: 0\n",
      "[2021-11-25 00:50:07,362] - obspy.clients.fdsn.mass_downloader - INFO: Client 'GEONET' - Requesting unreliable availability.\n"
     ]
    },
    {
     "name": "stdout",
     "output_type": "stream",
     "text": [
      "=================================================================\n",
      "Initiating mass download request.\n"
     ]
    },
    {
     "name": "stderr",
     "output_type": "stream",
     "text": [
      "[2021-11-25 00:50:08,048] - obspy.clients.fdsn.mass_downloader - INFO: Client 'GEONET' - Successfully requested availability (0.69 seconds)\n",
      "[2021-11-25 00:50:08,096] - obspy.clients.fdsn.mass_downloader - INFO: Client 'GEONET' - Found 1 stations (1 channels).\n",
      "[2021-11-25 00:50:08,149] - obspy.clients.fdsn.mass_downloader - INFO: Client 'GEONET' - Will attempt to download data from 1 stations.\n",
      "[2021-11-25 00:50:08,164] - obspy.clients.fdsn.mass_downloader - INFO: Client 'GEONET' - Status for 1 time intervals/channels before downloading: NEEDS_DOWNLOADING\n",
      "[2021-11-25 00:50:09,193] - obspy.clients.fdsn.mass_downloader - INFO: Client 'GEONET' - Successfully downloaded 1 channels (of 1)\n",
      "[2021-11-25 00:50:09,317] - obspy.clients.fdsn.mass_downloader - INFO: Client 'GEONET' - Launching basic QC checks...\n",
      "[2021-11-25 00:50:09,416] - obspy.clients.fdsn.mass_downloader - INFO: Client 'GEONET' - Downloaded 0.0 MB [3.16 KB/sec] of data, 0.0 MB of which were discarded afterwards.\n",
      "[2021-11-25 00:50:09,425] - obspy.clients.fdsn.mass_downloader - INFO: Client 'GEONET' - Status for 1 time intervals/channels after downloading: DOWNLOADED\n",
      "[2021-11-25 00:50:10,097] - obspy.clients.fdsn.mass_downloader - INFO: Client 'GEONET' - Successfully downloaded 'normal/stations/NZ.BKZ.xml'.\n",
      "[2021-11-25 00:50:10,168] - obspy.clients.fdsn.mass_downloader - INFO: Client 'GEONET' - Downloaded 1 station files [0.0 MB] in 0.7 seconds [12.93 KB/sec].\n",
      "[2021-11-25 00:50:10,184] - obspy.clients.fdsn.mass_downloader - INFO: ============================== Final report\n",
      "[2021-11-25 00:50:10,188] - obspy.clients.fdsn.mass_downloader - INFO: 0 MiniSEED files [0.0 MB] already existed.\n",
      "[2021-11-25 00:50:10,188] - obspy.clients.fdsn.mass_downloader - INFO: 0 StationXML files [0.0 MB] already existed.\n",
      "[2021-11-25 00:50:10,188] - obspy.clients.fdsn.mass_downloader - INFO: Client 'GEONET' - Acquired 1 MiniSEED files [0.0 MB].\n",
      "[2021-11-25 00:50:10,193] - obspy.clients.fdsn.mass_downloader - INFO: Client 'GEONET' - Acquired 1 StationXML files [0.0 MB].\n",
      "[2021-11-25 00:50:10,195] - obspy.clients.fdsn.mass_downloader - INFO: Downloaded 0.0 MB in total.\n",
      "[2021-11-25 00:50:10,204] - obspy.clients.fdsn.mass_downloader - INFO: Initializing FDSN client(s) for GEONET.\n",
      "[2021-11-25 00:50:10,219] - obspy.clients.fdsn.mass_downloader - INFO: Successfully initialized 1 client(s): GEONET.\n",
      "[2021-11-25 00:50:10,224] - obspy.clients.fdsn.mass_downloader - INFO: Total acquired or preexisting stations: 0\n",
      "[2021-11-25 00:50:10,225] - obspy.clients.fdsn.mass_downloader - INFO: Client 'GEONET' - Requesting unreliable availability.\n"
     ]
    },
    {
     "name": "stdout",
     "output_type": "stream",
     "text": [
      "=================================================================\n",
      "Initiating mass download request.\n"
     ]
    },
    {
     "name": "stderr",
     "output_type": "stream",
     "text": [
      "[2021-11-25 00:50:10,859] - obspy.clients.fdsn.mass_downloader - INFO: Client 'GEONET' - Successfully requested availability (0.63 seconds)\n",
      "[2021-11-25 00:50:10,881] - obspy.clients.fdsn.mass_downloader - INFO: Client 'GEONET' - Found 1 stations (1 channels).\n",
      "[2021-11-25 00:50:10,888] - obspy.clients.fdsn.mass_downloader - INFO: Client 'GEONET' - Will attempt to download data from 1 stations.\n",
      "[2021-11-25 00:50:10,892] - obspy.clients.fdsn.mass_downloader - INFO: Client 'GEONET' - Status for 1 time intervals/channels before downloading: NEEDS_DOWNLOADING\n",
      "[2021-11-25 00:50:11,684] - obspy.clients.fdsn.mass_downloader - INFO: Client 'GEONET' - Successfully downloaded 1 channels (of 1)\n",
      "[2021-11-25 00:50:11,691] - obspy.clients.fdsn.mass_downloader - INFO: Client 'GEONET' - Launching basic QC checks...\n",
      "[2021-11-25 00:50:11,714] - obspy.clients.fdsn.mass_downloader - INFO: Client 'GEONET' - Downloaded 0.0 MB [3.82 KB/sec] of data, 0.0 MB of which were discarded afterwards.\n",
      "[2021-11-25 00:50:11,718] - obspy.clients.fdsn.mass_downloader - INFO: Client 'GEONET' - Status for 1 time intervals/channels after downloading: DOWNLOADED\n",
      "[2021-11-25 00:50:11,723] - obspy.clients.fdsn.mass_downloader - INFO: Client 'GEONET' - No station information to download.\n",
      "[2021-11-25 00:50:11,727] - obspy.clients.fdsn.mass_downloader - INFO: ============================== Final report\n",
      "[2021-11-25 00:50:11,730] - obspy.clients.fdsn.mass_downloader - INFO: 0 MiniSEED files [0.0 MB] already existed.\n",
      "[2021-11-25 00:50:11,730] - obspy.clients.fdsn.mass_downloader - INFO: 1 StationXML files [0.0 MB] already existed.\n",
      "[2021-11-25 00:50:11,731] - obspy.clients.fdsn.mass_downloader - INFO: Client 'GEONET' - Acquired 1 MiniSEED files [0.0 MB].\n",
      "[2021-11-25 00:50:11,731] - obspy.clients.fdsn.mass_downloader - INFO: Client 'GEONET' - Acquired 0 StationXML files [0.0 MB].\n",
      "[2021-11-25 00:50:11,731] - obspy.clients.fdsn.mass_downloader - INFO: Downloaded 0.0 MB in total.\n",
      "[2021-11-25 00:50:11,736] - obspy.clients.fdsn.mass_downloader - INFO: Initializing FDSN client(s) for GEONET.\n",
      "[2021-11-25 00:50:11,740] - obspy.clients.fdsn.mass_downloader - INFO: Successfully initialized 1 client(s): GEONET.\n",
      "[2021-11-25 00:50:11,741] - obspy.clients.fdsn.mass_downloader - INFO: Total acquired or preexisting stations: 0\n",
      "[2021-11-25 00:50:11,741] - obspy.clients.fdsn.mass_downloader - INFO: Client 'GEONET' - Requesting unreliable availability.\n"
     ]
    },
    {
     "name": "stdout",
     "output_type": "stream",
     "text": [
      "=================================================================\n",
      "Initiating mass download request.\n"
     ]
    },
    {
     "name": "stderr",
     "output_type": "stream",
     "text": [
      "[2021-11-25 00:50:12,554] - obspy.clients.fdsn.mass_downloader - INFO: Client 'GEONET' - Successfully requested availability (0.81 seconds)\n",
      "[2021-11-25 00:50:12,563] - obspy.clients.fdsn.mass_downloader - INFO: Client 'GEONET' - Found 1 stations (1 channels).\n",
      "[2021-11-25 00:50:12,564] - obspy.clients.fdsn.mass_downloader - INFO: Client 'GEONET' - Will attempt to download data from 1 stations.\n",
      "[2021-11-25 00:50:12,567] - obspy.clients.fdsn.mass_downloader - INFO: Client 'GEONET' - Status for 1 time intervals/channels before downloading: NEEDS_DOWNLOADING\n",
      "[2021-11-25 00:50:13,413] - obspy.clients.fdsn.mass_downloader - INFO: Client 'GEONET' - Successfully downloaded 1 channels (of 1)\n",
      "[2021-11-25 00:50:13,471] - obspy.clients.fdsn.mass_downloader - INFO: Client 'GEONET' - Launching basic QC checks...\n",
      "[2021-11-25 00:50:13,491] - obspy.clients.fdsn.mass_downloader - INFO: Client 'GEONET' - Downloaded 0.0 MB [3.90 KB/sec] of data, 0.0 MB of which were discarded afterwards.\n",
      "[2021-11-25 00:50:13,502] - obspy.clients.fdsn.mass_downloader - INFO: Client 'GEONET' - Status for 1 time intervals/channels after downloading: DOWNLOADED\n",
      "[2021-11-25 00:50:13,522] - obspy.clients.fdsn.mass_downloader - INFO: Client 'GEONET' - No station information to download.\n",
      "[2021-11-25 00:50:13,527] - obspy.clients.fdsn.mass_downloader - INFO: ============================== Final report\n",
      "[2021-11-25 00:50:13,535] - obspy.clients.fdsn.mass_downloader - INFO: 0 MiniSEED files [0.0 MB] already existed.\n",
      "[2021-11-25 00:50:13,545] - obspy.clients.fdsn.mass_downloader - INFO: 1 StationXML files [0.0 MB] already existed.\n",
      "[2021-11-25 00:50:13,547] - obspy.clients.fdsn.mass_downloader - INFO: Client 'GEONET' - Acquired 1 MiniSEED files [0.0 MB].\n",
      "[2021-11-25 00:50:13,548] - obspy.clients.fdsn.mass_downloader - INFO: Client 'GEONET' - Acquired 0 StationXML files [0.0 MB].\n",
      "[2021-11-25 00:50:13,551] - obspy.clients.fdsn.mass_downloader - INFO: Downloaded 0.0 MB in total.\n",
      "[2021-11-25 00:50:13,576] - obspy.clients.fdsn.mass_downloader - INFO: Initializing FDSN client(s) for GEONET.\n",
      "[2021-11-25 00:50:13,639] - obspy.clients.fdsn.mass_downloader - INFO: Successfully initialized 1 client(s): GEONET.\n",
      "[2021-11-25 00:50:13,672] - obspy.clients.fdsn.mass_downloader - INFO: Total acquired or preexisting stations: 0\n",
      "[2021-11-25 00:50:13,675] - obspy.clients.fdsn.mass_downloader - INFO: Client 'GEONET' - Requesting unreliable availability.\n"
     ]
    },
    {
     "name": "stdout",
     "output_type": "stream",
     "text": [
      "=================================================================\n",
      "Initiating mass download request.\n"
     ]
    },
    {
     "name": "stderr",
     "output_type": "stream",
     "text": [
      "[2021-11-25 00:50:14,291] - obspy.clients.fdsn.mass_downloader - INFO: Client 'GEONET' - Successfully requested availability (0.61 seconds)\n",
      "[2021-11-25 00:50:14,293] - obspy.clients.fdsn.mass_downloader - INFO: Client 'GEONET' - Found 1 stations (1 channels).\n",
      "[2021-11-25 00:50:14,293] - obspy.clients.fdsn.mass_downloader - INFO: Client 'GEONET' - Will attempt to download data from 1 stations.\n",
      "[2021-11-25 00:50:14,294] - obspy.clients.fdsn.mass_downloader - INFO: Client 'GEONET' - Status for 1 time intervals/channels before downloading: NEEDS_DOWNLOADING\n",
      "[2021-11-25 00:50:15,230] - obspy.clients.fdsn.mass_downloader - INFO: Client 'GEONET' - Successfully downloaded 1 channels (of 1)\n",
      "[2021-11-25 00:50:15,250] - obspy.clients.fdsn.mass_downloader - INFO: Client 'GEONET' - Launching basic QC checks...\n",
      "[2021-11-25 00:50:15,260] - obspy.clients.fdsn.mass_downloader - INFO: Client 'GEONET' - Downloaded 0.0 MB [4.19 KB/sec] of data, 0.0 MB of which were discarded afterwards.\n",
      "[2021-11-25 00:50:15,265] - obspy.clients.fdsn.mass_downloader - INFO: Client 'GEONET' - Status for 1 time intervals/channels after downloading: DOWNLOADED\n",
      "[2021-11-25 00:50:15,269] - obspy.clients.fdsn.mass_downloader - INFO: Client 'GEONET' - No station information to download.\n",
      "[2021-11-25 00:50:15,271] - obspy.clients.fdsn.mass_downloader - INFO: ============================== Final report\n",
      "[2021-11-25 00:50:15,274] - obspy.clients.fdsn.mass_downloader - INFO: 0 MiniSEED files [0.0 MB] already existed.\n",
      "[2021-11-25 00:50:15,279] - obspy.clients.fdsn.mass_downloader - INFO: 1 StationXML files [0.0 MB] already existed.\n",
      "[2021-11-25 00:50:15,279] - obspy.clients.fdsn.mass_downloader - INFO: Client 'GEONET' - Acquired 1 MiniSEED files [0.0 MB].\n",
      "[2021-11-25 00:50:15,285] - obspy.clients.fdsn.mass_downloader - INFO: Client 'GEONET' - Acquired 0 StationXML files [0.0 MB].\n",
      "[2021-11-25 00:50:15,286] - obspy.clients.fdsn.mass_downloader - INFO: Downloaded 0.0 MB in total.\n",
      "[2021-11-25 00:50:15,301] - obspy.clients.fdsn.mass_downloader - INFO: Initializing FDSN client(s) for GEONET.\n",
      "[2021-11-25 00:50:15,328] - obspy.clients.fdsn.mass_downloader - INFO: Successfully initialized 1 client(s): GEONET.\n",
      "[2021-11-25 00:50:15,336] - obspy.clients.fdsn.mass_downloader - INFO: Total acquired or preexisting stations: 0\n",
      "[2021-11-25 00:50:15,337] - obspy.clients.fdsn.mass_downloader - INFO: Client 'GEONET' - Requesting unreliable availability.\n"
     ]
    },
    {
     "name": "stdout",
     "output_type": "stream",
     "text": [
      "=================================================================\n",
      "Initiating mass download request.\n"
     ]
    },
    {
     "name": "stderr",
     "output_type": "stream",
     "text": [
      "[2021-11-25 00:50:15,965] - obspy.clients.fdsn.mass_downloader - INFO: Client 'GEONET' - Successfully requested availability (0.62 seconds)\n",
      "[2021-11-25 00:50:15,988] - obspy.clients.fdsn.mass_downloader - INFO: Client 'GEONET' - Found 1 stations (1 channels).\n",
      "[2021-11-25 00:50:15,998] - obspy.clients.fdsn.mass_downloader - INFO: Client 'GEONET' - Will attempt to download data from 1 stations.\n",
      "[2021-11-25 00:50:16,007] - obspy.clients.fdsn.mass_downloader - INFO: Client 'GEONET' - Status for 1 time intervals/channels before downloading: NEEDS_DOWNLOADING\n",
      "[2021-11-25 00:50:17,305] - obspy.clients.fdsn.mass_downloader - INFO: Client 'GEONET' - Successfully downloaded 1 channels (of 1)\n",
      "[2021-11-25 00:50:17,338] - obspy.clients.fdsn.mass_downloader - INFO: Client 'GEONET' - Launching basic QC checks...\n",
      "[2021-11-25 00:50:17,365] - obspy.clients.fdsn.mass_downloader - INFO: Client 'GEONET' - Downloaded 0.0 MB [2.27 KB/sec] of data, 0.0 MB of which were discarded afterwards.\n",
      "[2021-11-25 00:50:17,366] - obspy.clients.fdsn.mass_downloader - INFO: Client 'GEONET' - Status for 1 time intervals/channels after downloading: DOWNLOADED\n",
      "[2021-11-25 00:50:17,390] - obspy.clients.fdsn.mass_downloader - INFO: Client 'GEONET' - No station information to download.\n",
      "[2021-11-25 00:50:17,399] - obspy.clients.fdsn.mass_downloader - INFO: ============================== Final report\n",
      "[2021-11-25 00:50:17,405] - obspy.clients.fdsn.mass_downloader - INFO: 0 MiniSEED files [0.0 MB] already existed.\n",
      "[2021-11-25 00:50:17,410] - obspy.clients.fdsn.mass_downloader - INFO: 1 StationXML files [0.0 MB] already existed.\n",
      "[2021-11-25 00:50:17,412] - obspy.clients.fdsn.mass_downloader - INFO: Client 'GEONET' - Acquired 1 MiniSEED files [0.0 MB].\n",
      "[2021-11-25 00:50:17,413] - obspy.clients.fdsn.mass_downloader - INFO: Client 'GEONET' - Acquired 0 StationXML files [0.0 MB].\n",
      "[2021-11-25 00:50:17,413] - obspy.clients.fdsn.mass_downloader - INFO: Downloaded 0.0 MB in total.\n",
      "[2021-11-25 00:50:17,427] - obspy.clients.fdsn.mass_downloader - INFO: Initializing FDSN client(s) for GEONET.\n",
      "[2021-11-25 00:50:17,461] - obspy.clients.fdsn.mass_downloader - INFO: Successfully initialized 1 client(s): GEONET.\n",
      "[2021-11-25 00:50:17,467] - obspy.clients.fdsn.mass_downloader - INFO: Total acquired or preexisting stations: 0\n",
      "[2021-11-25 00:50:17,469] - obspy.clients.fdsn.mass_downloader - INFO: Client 'GEONET' - Requesting unreliable availability.\n"
     ]
    },
    {
     "name": "stdout",
     "output_type": "stream",
     "text": [
      "=================================================================\n",
      "Initiating mass download request.\n"
     ]
    },
    {
     "name": "stderr",
     "output_type": "stream",
     "text": [
      "[2021-11-25 00:50:18,106] - obspy.clients.fdsn.mass_downloader - INFO: Client 'GEONET' - Successfully requested availability (0.63 seconds)\n",
      "[2021-11-25 00:50:18,115] - obspy.clients.fdsn.mass_downloader - INFO: Client 'GEONET' - Found 1 stations (1 channels).\n",
      "[2021-11-25 00:50:18,117] - obspy.clients.fdsn.mass_downloader - INFO: Client 'GEONET' - Will attempt to download data from 1 stations.\n",
      "[2021-11-25 00:50:18,119] - obspy.clients.fdsn.mass_downloader - INFO: Client 'GEONET' - Status for 1 time intervals/channels before downloading: NEEDS_DOWNLOADING\n",
      "[2021-11-25 00:50:19,063] - obspy.clients.fdsn.mass_downloader - INFO: Client 'GEONET' - Successfully downloaded 1 channels (of 1)\n",
      "[2021-11-25 00:50:19,071] - obspy.clients.fdsn.mass_downloader - INFO: Client 'GEONET' - Launching basic QC checks...\n",
      "[2021-11-25 00:50:19,084] - obspy.clients.fdsn.mass_downloader - INFO: Client 'GEONET' - Downloaded 0.0 MB [3.74 KB/sec] of data, 0.0 MB of which were discarded afterwards.\n",
      "[2021-11-25 00:50:19,084] - obspy.clients.fdsn.mass_downloader - INFO: Client 'GEONET' - Status for 1 time intervals/channels after downloading: DOWNLOADED\n",
      "[2021-11-25 00:50:19,087] - obspy.clients.fdsn.mass_downloader - INFO: Client 'GEONET' - No station information to download.\n",
      "[2021-11-25 00:50:19,088] - obspy.clients.fdsn.mass_downloader - INFO: ============================== Final report\n",
      "[2021-11-25 00:50:19,088] - obspy.clients.fdsn.mass_downloader - INFO: 0 MiniSEED files [0.0 MB] already existed.\n",
      "[2021-11-25 00:50:19,088] - obspy.clients.fdsn.mass_downloader - INFO: 1 StationXML files [0.0 MB] already existed.\n",
      "[2021-11-25 00:50:19,088] - obspy.clients.fdsn.mass_downloader - INFO: Client 'GEONET' - Acquired 1 MiniSEED files [0.0 MB].\n",
      "[2021-11-25 00:50:19,089] - obspy.clients.fdsn.mass_downloader - INFO: Client 'GEONET' - Acquired 0 StationXML files [0.0 MB].\n",
      "[2021-11-25 00:50:19,089] - obspy.clients.fdsn.mass_downloader - INFO: Downloaded 0.0 MB in total.\n",
      "[2021-11-25 00:50:19,095] - obspy.clients.fdsn.mass_downloader - INFO: Initializing FDSN client(s) for GEONET.\n",
      "[2021-11-25 00:50:19,103] - obspy.clients.fdsn.mass_downloader - INFO: Successfully initialized 1 client(s): GEONET.\n",
      "[2021-11-25 00:50:19,105] - obspy.clients.fdsn.mass_downloader - INFO: Total acquired or preexisting stations: 0\n",
      "[2021-11-25 00:50:19,106] - obspy.clients.fdsn.mass_downloader - INFO: Client 'GEONET' - Requesting unreliable availability.\n"
     ]
    },
    {
     "name": "stdout",
     "output_type": "stream",
     "text": [
      "=================================================================\n",
      "Initiating mass download request.\n"
     ]
    },
    {
     "name": "stderr",
     "output_type": "stream",
     "text": [
      "[2021-11-25 00:50:20,287] - obspy.clients.fdsn.mass_downloader - INFO: Client 'GEONET' - Successfully requested availability (1.18 seconds)\n",
      "[2021-11-25 00:50:20,295] - obspy.clients.fdsn.mass_downloader - INFO: Client 'GEONET' - Found 1 stations (1 channels).\n",
      "[2021-11-25 00:50:20,300] - obspy.clients.fdsn.mass_downloader - INFO: Client 'GEONET' - Will attempt to download data from 1 stations.\n",
      "[2021-11-25 00:50:20,302] - obspy.clients.fdsn.mass_downloader - INFO: Client 'GEONET' - Status for 1 time intervals/channels before downloading: NEEDS_DOWNLOADING\n",
      "[2021-11-25 00:50:21,281] - obspy.clients.fdsn.mass_downloader - INFO: Client 'GEONET' - Successfully downloaded 1 channels (of 1)\n",
      "[2021-11-25 00:50:21,288] - obspy.clients.fdsn.mass_downloader - INFO: Client 'GEONET' - Launching basic QC checks...\n",
      "[2021-11-25 00:50:21,294] - obspy.clients.fdsn.mass_downloader - INFO: Client 'GEONET' - Downloaded 0.0 MB [3.10 KB/sec] of data, 0.0 MB of which were discarded afterwards.\n",
      "[2021-11-25 00:50:21,295] - obspy.clients.fdsn.mass_downloader - INFO: Client 'GEONET' - Status for 1 time intervals/channels after downloading: DOWNLOADED\n",
      "[2021-11-25 00:50:21,301] - obspy.clients.fdsn.mass_downloader - INFO: Client 'GEONET' - No station information to download.\n",
      "[2021-11-25 00:50:21,302] - obspy.clients.fdsn.mass_downloader - INFO: ============================== Final report\n",
      "[2021-11-25 00:50:21,302] - obspy.clients.fdsn.mass_downloader - INFO: 0 MiniSEED files [0.0 MB] already existed.\n",
      "[2021-11-25 00:50:21,303] - obspy.clients.fdsn.mass_downloader - INFO: 1 StationXML files [0.0 MB] already existed.\n",
      "[2021-11-25 00:50:21,303] - obspy.clients.fdsn.mass_downloader - INFO: Client 'GEONET' - Acquired 1 MiniSEED files [0.0 MB].\n",
      "[2021-11-25 00:50:21,303] - obspy.clients.fdsn.mass_downloader - INFO: Client 'GEONET' - Acquired 0 StationXML files [0.0 MB].\n",
      "[2021-11-25 00:50:21,303] - obspy.clients.fdsn.mass_downloader - INFO: Downloaded 0.0 MB in total.\n",
      "[2021-11-25 00:50:21,310] - obspy.clients.fdsn.mass_downloader - INFO: Initializing FDSN client(s) for GEONET.\n",
      "[2021-11-25 00:50:21,316] - obspy.clients.fdsn.mass_downloader - INFO: Successfully initialized 1 client(s): GEONET.\n",
      "[2021-11-25 00:50:21,319] - obspy.clients.fdsn.mass_downloader - INFO: Total acquired or preexisting stations: 0\n",
      "[2021-11-25 00:50:21,320] - obspy.clients.fdsn.mass_downloader - INFO: Client 'GEONET' - Requesting unreliable availability.\n"
     ]
    },
    {
     "name": "stdout",
     "output_type": "stream",
     "text": [
      "=================================================================\n",
      "Initiating mass download request.\n"
     ]
    },
    {
     "name": "stderr",
     "output_type": "stream",
     "text": [
      "[2021-11-25 00:50:21,965] - obspy.clients.fdsn.mass_downloader - INFO: Client 'GEONET' - No data available for request.\n",
      "[2021-11-25 00:50:21,968] - obspy.clients.fdsn.mass_downloader - INFO: Client 'GEONET' - No data available.\n",
      "[2021-11-25 00:50:21,968] - obspy.clients.fdsn.mass_downloader - INFO: ============================== Final report\n",
      "[2021-11-25 00:50:21,969] - obspy.clients.fdsn.mass_downloader - INFO: 0 MiniSEED files [0.0 MB] already existed.\n",
      "[2021-11-25 00:50:21,969] - obspy.clients.fdsn.mass_downloader - INFO: 0 StationXML files [0.0 MB] already existed.\n",
      "[2021-11-25 00:50:21,969] - obspy.clients.fdsn.mass_downloader - INFO: Client 'GEONET' - Acquired 0 MiniSEED files [0.0 MB].\n",
      "[2021-11-25 00:50:21,969] - obspy.clients.fdsn.mass_downloader - INFO: Client 'GEONET' - Acquired 0 StationXML files [0.0 MB].\n",
      "[2021-11-25 00:50:21,970] - obspy.clients.fdsn.mass_downloader - INFO: Downloaded 0.0 MB in total.\n",
      "[2021-11-25 00:50:21,976] - obspy.clients.fdsn.mass_downloader - INFO: Initializing FDSN client(s) for GEONET.\n",
      "[2021-11-25 00:50:21,979] - obspy.clients.fdsn.mass_downloader - INFO: Successfully initialized 1 client(s): GEONET.\n",
      "[2021-11-25 00:50:21,980] - obspy.clients.fdsn.mass_downloader - INFO: Total acquired or preexisting stations: 0\n",
      "[2021-11-25 00:50:21,980] - obspy.clients.fdsn.mass_downloader - INFO: Client 'GEONET' - Requesting unreliable availability.\n"
     ]
    },
    {
     "name": "stdout",
     "output_type": "stream",
     "text": [
      "=================================================================\n",
      "Initiating mass download request.\n"
     ]
    },
    {
     "name": "stderr",
     "output_type": "stream",
     "text": [
      "[2021-11-25 00:50:22,526] - obspy.clients.fdsn.mass_downloader - INFO: Client 'GEONET' - Successfully requested availability (0.55 seconds)\n",
      "[2021-11-25 00:50:22,530] - obspy.clients.fdsn.mass_downloader - INFO: Client 'GEONET' - Found 1 stations (1 channels).\n",
      "[2021-11-25 00:50:22,531] - obspy.clients.fdsn.mass_downloader - INFO: Client 'GEONET' - Will attempt to download data from 1 stations.\n",
      "[2021-11-25 00:50:22,532] - obspy.clients.fdsn.mass_downloader - INFO: Client 'GEONET' - Status for 1 time intervals/channels before downloading: NEEDS_DOWNLOADING\n",
      "[2021-11-25 00:50:23,396] - obspy.clients.fdsn.mass_downloader - INFO: Client 'GEONET' - Successfully downloaded 1 channels (of 1)\n",
      "[2021-11-25 00:50:23,435] - obspy.clients.fdsn.mass_downloader - INFO: Client 'GEONET' - Launching basic QC checks...\n",
      "[2021-11-25 00:50:23,466] - obspy.clients.fdsn.mass_downloader - INFO: Client 'GEONET' - Downloaded 0.0 MB [3.33 KB/sec] of data, 0.0 MB of which were discarded afterwards.\n",
      "[2021-11-25 00:50:23,468] - obspy.clients.fdsn.mass_downloader - INFO: Client 'GEONET' - Status for 1 time intervals/channels after downloading: DOWNLOADED\n",
      "[2021-11-25 00:50:23,481] - obspy.clients.fdsn.mass_downloader - INFO: Client 'GEONET' - No station information to download.\n",
      "[2021-11-25 00:50:23,495] - obspy.clients.fdsn.mass_downloader - INFO: ============================== Final report\n",
      "[2021-11-25 00:50:23,502] - obspy.clients.fdsn.mass_downloader - INFO: 0 MiniSEED files [0.0 MB] already existed.\n",
      "[2021-11-25 00:50:23,507] - obspy.clients.fdsn.mass_downloader - INFO: 1 StationXML files [0.0 MB] already existed.\n",
      "[2021-11-25 00:50:23,507] - obspy.clients.fdsn.mass_downloader - INFO: Client 'GEONET' - Acquired 1 MiniSEED files [0.0 MB].\n",
      "[2021-11-25 00:50:23,511] - obspy.clients.fdsn.mass_downloader - INFO: Client 'GEONET' - Acquired 0 StationXML files [0.0 MB].\n",
      "[2021-11-25 00:50:23,514] - obspy.clients.fdsn.mass_downloader - INFO: Downloaded 0.0 MB in total.\n",
      "[2021-11-25 00:50:23,560] - obspy.clients.fdsn.mass_downloader - INFO: Initializing FDSN client(s) for GEONET.\n",
      "[2021-11-25 00:50:23,603] - obspy.clients.fdsn.mass_downloader - INFO: Successfully initialized 1 client(s): GEONET.\n",
      "[2021-11-25 00:50:23,610] - obspy.clients.fdsn.mass_downloader - INFO: Total acquired or preexisting stations: 0\n",
      "[2021-11-25 00:50:23,612] - obspy.clients.fdsn.mass_downloader - INFO: Client 'GEONET' - Requesting unreliable availability.\n"
     ]
    },
    {
     "name": "stdout",
     "output_type": "stream",
     "text": [
      "=================================================================\n",
      "Initiating mass download request.\n"
     ]
    },
    {
     "name": "stderr",
     "output_type": "stream",
     "text": [
      "[2021-11-25 00:50:24,200] - obspy.clients.fdsn.mass_downloader - INFO: Client 'GEONET' - Successfully requested availability (0.59 seconds)\n",
      "[2021-11-25 00:50:24,228] - obspy.clients.fdsn.mass_downloader - INFO: Client 'GEONET' - Found 1 stations (1 channels).\n",
      "[2021-11-25 00:50:24,233] - obspy.clients.fdsn.mass_downloader - INFO: Client 'GEONET' - Will attempt to download data from 1 stations.\n",
      "[2021-11-25 00:50:24,235] - obspy.clients.fdsn.mass_downloader - INFO: Client 'GEONET' - Status for 1 time intervals/channels before downloading: NEEDS_DOWNLOADING\n",
      "[2021-11-25 00:50:25,229] - obspy.clients.fdsn.mass_downloader - INFO: Client 'GEONET' - Successfully downloaded 1 channels (of 1)\n",
      "[2021-11-25 00:50:25,272] - obspy.clients.fdsn.mass_downloader - INFO: Client 'GEONET' - Launching basic QC checks...\n",
      "[2021-11-25 00:50:25,328] - obspy.clients.fdsn.mass_downloader - INFO: Client 'GEONET' - Downloaded 0.0 MB [4.39 KB/sec] of data, 0.0 MB of which were discarded afterwards.\n",
      "[2021-11-25 00:50:25,334] - obspy.clients.fdsn.mass_downloader - INFO: Client 'GEONET' - Status for 1 time intervals/channels after downloading: DOWNLOADED\n",
      "[2021-11-25 00:50:25,354] - obspy.clients.fdsn.mass_downloader - INFO: Client 'GEONET' - No station information to download.\n",
      "[2021-11-25 00:50:25,363] - obspy.clients.fdsn.mass_downloader - INFO: ============================== Final report\n",
      "[2021-11-25 00:50:25,367] - obspy.clients.fdsn.mass_downloader - INFO: 0 MiniSEED files [0.0 MB] already existed.\n",
      "[2021-11-25 00:50:25,374] - obspy.clients.fdsn.mass_downloader - INFO: 1 StationXML files [0.0 MB] already existed.\n",
      "[2021-11-25 00:50:25,374] - obspy.clients.fdsn.mass_downloader - INFO: Client 'GEONET' - Acquired 1 MiniSEED files [0.0 MB].\n",
      "[2021-11-25 00:50:25,375] - obspy.clients.fdsn.mass_downloader - INFO: Client 'GEONET' - Acquired 0 StationXML files [0.0 MB].\n",
      "[2021-11-25 00:50:25,375] - obspy.clients.fdsn.mass_downloader - INFO: Downloaded 0.0 MB in total.\n",
      "[2021-11-25 00:50:25,398] - obspy.clients.fdsn.mass_downloader - INFO: Initializing FDSN client(s) for GEONET.\n",
      "[2021-11-25 00:50:25,432] - obspy.clients.fdsn.mass_downloader - INFO: Successfully initialized 1 client(s): GEONET.\n",
      "[2021-11-25 00:50:25,437] - obspy.clients.fdsn.mass_downloader - INFO: Total acquired or preexisting stations: 0\n",
      "[2021-11-25 00:50:25,438] - obspy.clients.fdsn.mass_downloader - INFO: Client 'GEONET' - Requesting unreliable availability.\n"
     ]
    },
    {
     "name": "stdout",
     "output_type": "stream",
     "text": [
      "=================================================================\n",
      "Initiating mass download request.\n"
     ]
    },
    {
     "name": "stderr",
     "output_type": "stream",
     "text": [
      "[2021-11-25 00:50:26,055] - obspy.clients.fdsn.mass_downloader - INFO: Client 'GEONET' - Successfully requested availability (0.62 seconds)\n",
      "[2021-11-25 00:50:26,063] - obspy.clients.fdsn.mass_downloader - INFO: Client 'GEONET' - Found 1 stations (1 channels).\n",
      "[2021-11-25 00:50:26,069] - obspy.clients.fdsn.mass_downloader - INFO: Client 'GEONET' - Will attempt to download data from 1 stations.\n",
      "[2021-11-25 00:50:26,072] - obspy.clients.fdsn.mass_downloader - INFO: Client 'GEONET' - Status for 1 time intervals/channels before downloading: NEEDS_DOWNLOADING\n",
      "[2021-11-25 00:50:27,090] - obspy.clients.fdsn.mass_downloader - INFO: Client 'GEONET' - Successfully downloaded 1 channels (of 1)\n",
      "[2021-11-25 00:50:27,159] - obspy.clients.fdsn.mass_downloader - INFO: Client 'GEONET' - Launching basic QC checks...\n",
      "[2021-11-25 00:50:27,184] - obspy.clients.fdsn.mass_downloader - INFO: Client 'GEONET' - Downloaded 0.0 MB [3.35 KB/sec] of data, 0.0 MB of which were discarded afterwards.\n",
      "[2021-11-25 00:50:27,192] - obspy.clients.fdsn.mass_downloader - INFO: Client 'GEONET' - Status for 1 time intervals/channels after downloading: DOWNLOADED\n",
      "[2021-11-25 00:50:27,210] - obspy.clients.fdsn.mass_downloader - INFO: Client 'GEONET' - No station information to download.\n",
      "[2021-11-25 00:50:27,225] - obspy.clients.fdsn.mass_downloader - INFO: ============================== Final report\n",
      "[2021-11-25 00:50:27,234] - obspy.clients.fdsn.mass_downloader - INFO: 0 MiniSEED files [0.0 MB] already existed.\n",
      "[2021-11-25 00:50:27,234] - obspy.clients.fdsn.mass_downloader - INFO: 1 StationXML files [0.0 MB] already existed.\n",
      "[2021-11-25 00:50:27,238] - obspy.clients.fdsn.mass_downloader - INFO: Client 'GEONET' - Acquired 1 MiniSEED files [0.0 MB].\n",
      "[2021-11-25 00:50:27,239] - obspy.clients.fdsn.mass_downloader - INFO: Client 'GEONET' - Acquired 0 StationXML files [0.0 MB].\n",
      "[2021-11-25 00:50:27,239] - obspy.clients.fdsn.mass_downloader - INFO: Downloaded 0.0 MB in total.\n",
      "[2021-11-25 00:50:27,269] - obspy.clients.fdsn.mass_downloader - INFO: Initializing FDSN client(s) for GEONET.\n",
      "[2021-11-25 00:50:27,288] - obspy.clients.fdsn.mass_downloader - INFO: Successfully initialized 1 client(s): GEONET.\n",
      "[2021-11-25 00:50:27,293] - obspy.clients.fdsn.mass_downloader - INFO: Total acquired or preexisting stations: 0\n",
      "[2021-11-25 00:50:27,295] - obspy.clients.fdsn.mass_downloader - INFO: Client 'GEONET' - Requesting unreliable availability.\n"
     ]
    },
    {
     "name": "stdout",
     "output_type": "stream",
     "text": [
      "=================================================================\n",
      "Initiating mass download request.\n"
     ]
    },
    {
     "name": "stderr",
     "output_type": "stream",
     "text": [
      "[2021-11-25 00:50:27,836] - obspy.clients.fdsn.mass_downloader - INFO: Client 'GEONET' - Successfully requested availability (0.54 seconds)\n",
      "[2021-11-25 00:50:27,849] - obspy.clients.fdsn.mass_downloader - INFO: Client 'GEONET' - Found 1 stations (1 channels).\n",
      "[2021-11-25 00:50:27,860] - obspy.clients.fdsn.mass_downloader - INFO: Client 'GEONET' - Will attempt to download data from 1 stations.\n",
      "[2021-11-25 00:50:27,864] - obspy.clients.fdsn.mass_downloader - INFO: Client 'GEONET' - Status for 1 time intervals/channels before downloading: NEEDS_DOWNLOADING\n",
      "[2021-11-25 00:50:28,746] - obspy.clients.fdsn.mass_downloader - INFO: Client 'GEONET' - Successfully downloaded 1 channels (of 1)\n",
      "[2021-11-25 00:50:28,791] - obspy.clients.fdsn.mass_downloader - INFO: Client 'GEONET' - Launching basic QC checks...\n",
      "[2021-11-25 00:50:28,822] - obspy.clients.fdsn.mass_downloader - INFO: Client 'GEONET' - Downloaded 0.0 MB [3.28 KB/sec] of data, 0.0 MB of which were discarded afterwards.\n",
      "[2021-11-25 00:50:28,825] - obspy.clients.fdsn.mass_downloader - INFO: Client 'GEONET' - Status for 1 time intervals/channels after downloading: DOWNLOADED\n",
      "[2021-11-25 00:50:28,840] - obspy.clients.fdsn.mass_downloader - INFO: Client 'GEONET' - No station information to download.\n",
      "[2021-11-25 00:50:28,844] - obspy.clients.fdsn.mass_downloader - INFO: ============================== Final report\n",
      "[2021-11-25 00:50:28,845] - obspy.clients.fdsn.mass_downloader - INFO: 0 MiniSEED files [0.0 MB] already existed.\n",
      "[2021-11-25 00:50:28,847] - obspy.clients.fdsn.mass_downloader - INFO: 1 StationXML files [0.0 MB] already existed.\n",
      "[2021-11-25 00:50:28,851] - obspy.clients.fdsn.mass_downloader - INFO: Client 'GEONET' - Acquired 1 MiniSEED files [0.0 MB].\n",
      "[2021-11-25 00:50:28,852] - obspy.clients.fdsn.mass_downloader - INFO: Client 'GEONET' - Acquired 0 StationXML files [0.0 MB].\n",
      "[2021-11-25 00:50:28,854] - obspy.clients.fdsn.mass_downloader - INFO: Downloaded 0.0 MB in total.\n",
      "[2021-11-25 00:50:28,882] - obspy.clients.fdsn.mass_downloader - INFO: Initializing FDSN client(s) for GEONET.\n",
      "[2021-11-25 00:50:28,901] - obspy.clients.fdsn.mass_downloader - INFO: Successfully initialized 1 client(s): GEONET.\n",
      "[2021-11-25 00:50:28,908] - obspy.clients.fdsn.mass_downloader - INFO: Total acquired or preexisting stations: 0\n",
      "[2021-11-25 00:50:28,911] - obspy.clients.fdsn.mass_downloader - INFO: Client 'GEONET' - Requesting unreliable availability.\n"
     ]
    },
    {
     "name": "stdout",
     "output_type": "stream",
     "text": [
      "=================================================================\n",
      "Initiating mass download request.\n"
     ]
    },
    {
     "name": "stderr",
     "output_type": "stream",
     "text": [
      "[2021-11-25 00:50:30,118] - obspy.clients.fdsn.mass_downloader - INFO: Client 'GEONET' - Successfully requested availability (1.20 seconds)\n",
      "[2021-11-25 00:50:30,133] - obspy.clients.fdsn.mass_downloader - INFO: Client 'GEONET' - Found 1 stations (1 channels).\n",
      "[2021-11-25 00:50:30,148] - obspy.clients.fdsn.mass_downloader - INFO: Client 'GEONET' - Will attempt to download data from 1 stations.\n",
      "[2021-11-25 00:50:30,153] - obspy.clients.fdsn.mass_downloader - INFO: Client 'GEONET' - Status for 1 time intervals/channels before downloading: NEEDS_DOWNLOADING\n",
      "[2021-11-25 00:50:31,044] - obspy.clients.fdsn.mass_downloader - INFO: Client 'GEONET' - Successfully downloaded 1 channels (of 1)\n",
      "[2021-11-25 00:50:31,073] - obspy.clients.fdsn.mass_downloader - INFO: Client 'GEONET' - Launching basic QC checks...\n",
      "[2021-11-25 00:50:31,106] - obspy.clients.fdsn.mass_downloader - INFO: Client 'GEONET' - Downloaded 0.0 MB [4.46 KB/sec] of data, 0.0 MB of which were discarded afterwards.\n",
      "[2021-11-25 00:50:31,113] - obspy.clients.fdsn.mass_downloader - INFO: Client 'GEONET' - Status for 1 time intervals/channels after downloading: DOWNLOADED\n",
      "[2021-11-25 00:50:31,121] - obspy.clients.fdsn.mass_downloader - INFO: Client 'GEONET' - No station information to download.\n",
      "[2021-11-25 00:50:31,132] - obspy.clients.fdsn.mass_downloader - INFO: ============================== Final report\n",
      "[2021-11-25 00:50:31,137] - obspy.clients.fdsn.mass_downloader - INFO: 0 MiniSEED files [0.0 MB] already existed.\n",
      "[2021-11-25 00:50:31,143] - obspy.clients.fdsn.mass_downloader - INFO: 1 StationXML files [0.0 MB] already existed.\n",
      "[2021-11-25 00:50:31,145] - obspy.clients.fdsn.mass_downloader - INFO: Client 'GEONET' - Acquired 1 MiniSEED files [0.0 MB].\n",
      "[2021-11-25 00:50:31,150] - obspy.clients.fdsn.mass_downloader - INFO: Client 'GEONET' - Acquired 0 StationXML files [0.0 MB].\n",
      "[2021-11-25 00:50:31,156] - obspy.clients.fdsn.mass_downloader - INFO: Downloaded 0.0 MB in total.\n",
      "[2021-11-25 00:50:31,174] - obspy.clients.fdsn.mass_downloader - INFO: Initializing FDSN client(s) for GEONET.\n",
      "[2021-11-25 00:50:31,196] - obspy.clients.fdsn.mass_downloader - INFO: Successfully initialized 1 client(s): GEONET.\n",
      "[2021-11-25 00:50:31,204] - obspy.clients.fdsn.mass_downloader - INFO: Total acquired or preexisting stations: 0\n",
      "[2021-11-25 00:50:31,206] - obspy.clients.fdsn.mass_downloader - INFO: Client 'GEONET' - Requesting unreliable availability.\n"
     ]
    },
    {
     "name": "stdout",
     "output_type": "stream",
     "text": [
      "=================================================================\n",
      "Initiating mass download request.\n"
     ]
    },
    {
     "name": "stderr",
     "output_type": "stream",
     "text": [
      "[2021-11-25 00:50:31,901] - obspy.clients.fdsn.mass_downloader - INFO: Client 'GEONET' - Successfully requested availability (0.69 seconds)\n",
      "[2021-11-25 00:50:31,932] - obspy.clients.fdsn.mass_downloader - INFO: Client 'GEONET' - Found 1 stations (1 channels).\n",
      "[2021-11-25 00:50:31,938] - obspy.clients.fdsn.mass_downloader - INFO: Client 'GEONET' - Will attempt to download data from 1 stations.\n",
      "[2021-11-25 00:50:31,954] - obspy.clients.fdsn.mass_downloader - INFO: Client 'GEONET' - Status for 1 time intervals/channels before downloading: NEEDS_DOWNLOADING\n",
      "[2021-11-25 00:50:32,906] - obspy.clients.fdsn.mass_downloader - INFO: Client 'GEONET' - Successfully downloaded 1 channels (of 1)\n",
      "[2021-11-25 00:50:32,978] - obspy.clients.fdsn.mass_downloader - INFO: Client 'GEONET' - Launching basic QC checks...\n",
      "[2021-11-25 00:50:33,012] - obspy.clients.fdsn.mass_downloader - INFO: Client 'GEONET' - Downloaded 0.0 MB [3.12 KB/sec] of data, 0.0 MB of which were discarded afterwards.\n",
      "[2021-11-25 00:50:33,017] - obspy.clients.fdsn.mass_downloader - INFO: Client 'GEONET' - Status for 1 time intervals/channels after downloading: DOWNLOADED\n",
      "[2021-11-25 00:50:33,025] - obspy.clients.fdsn.mass_downloader - INFO: Client 'GEONET' - No station information to download.\n",
      "[2021-11-25 00:50:33,036] - obspy.clients.fdsn.mass_downloader - INFO: ============================== Final report\n",
      "[2021-11-25 00:50:33,042] - obspy.clients.fdsn.mass_downloader - INFO: 0 MiniSEED files [0.0 MB] already existed.\n",
      "[2021-11-25 00:50:33,053] - obspy.clients.fdsn.mass_downloader - INFO: 1 StationXML files [0.0 MB] already existed.\n",
      "[2021-11-25 00:50:33,063] - obspy.clients.fdsn.mass_downloader - INFO: Client 'GEONET' - Acquired 1 MiniSEED files [0.0 MB].\n",
      "[2021-11-25 00:50:33,064] - obspy.clients.fdsn.mass_downloader - INFO: Client 'GEONET' - Acquired 0 StationXML files [0.0 MB].\n",
      "[2021-11-25 00:50:33,067] - obspy.clients.fdsn.mass_downloader - INFO: Downloaded 0.0 MB in total.\n",
      "[2021-11-25 00:50:33,087] - obspy.clients.fdsn.mass_downloader - INFO: Initializing FDSN client(s) for GEONET.\n",
      "[2021-11-25 00:50:33,167] - obspy.clients.fdsn.mass_downloader - INFO: Successfully initialized 1 client(s): GEONET.\n",
      "[2021-11-25 00:50:33,220] - obspy.clients.fdsn.mass_downloader - INFO: Total acquired or preexisting stations: 0\n",
      "[2021-11-25 00:50:33,222] - obspy.clients.fdsn.mass_downloader - INFO: Client 'GEONET' - Requesting unreliable availability.\n"
     ]
    },
    {
     "name": "stdout",
     "output_type": "stream",
     "text": [
      "=================================================================\n",
      "Initiating mass download request.\n"
     ]
    },
    {
     "name": "stderr",
     "output_type": "stream",
     "text": [
      "[2021-11-25 00:50:33,835] - obspy.clients.fdsn.mass_downloader - INFO: Client 'GEONET' - Successfully requested availability (0.61 seconds)\n",
      "[2021-11-25 00:50:33,855] - obspy.clients.fdsn.mass_downloader - INFO: Client 'GEONET' - Found 1 stations (1 channels).\n",
      "[2021-11-25 00:50:33,870] - obspy.clients.fdsn.mass_downloader - INFO: Client 'GEONET' - Will attempt to download data from 1 stations.\n",
      "[2021-11-25 00:50:33,877] - obspy.clients.fdsn.mass_downloader - INFO: Client 'GEONET' - Status for 1 time intervals/channels before downloading: NEEDS_DOWNLOADING\n",
      "[2021-11-25 00:50:34,743] - obspy.clients.fdsn.mass_downloader - INFO: Client 'GEONET' - Successfully downloaded 1 channels (of 1)\n",
      "[2021-11-25 00:50:34,757] - obspy.clients.fdsn.mass_downloader - INFO: Client 'GEONET' - Launching basic QC checks...\n",
      "[2021-11-25 00:50:34,765] - obspy.clients.fdsn.mass_downloader - INFO: Client 'GEONET' - Downloaded 0.0 MB [3.62 KB/sec] of data, 0.0 MB of which were discarded afterwards.\n",
      "[2021-11-25 00:50:34,766] - obspy.clients.fdsn.mass_downloader - INFO: Client 'GEONET' - Status for 1 time intervals/channels after downloading: DOWNLOADED\n",
      "[2021-11-25 00:50:34,770] - obspy.clients.fdsn.mass_downloader - INFO: Client 'GEONET' - No station information to download.\n",
      "[2021-11-25 00:50:34,771] - obspy.clients.fdsn.mass_downloader - INFO: ============================== Final report\n",
      "[2021-11-25 00:50:34,772] - obspy.clients.fdsn.mass_downloader - INFO: 0 MiniSEED files [0.0 MB] already existed.\n",
      "[2021-11-25 00:50:34,773] - obspy.clients.fdsn.mass_downloader - INFO: 1 StationXML files [0.0 MB] already existed.\n",
      "[2021-11-25 00:50:34,774] - obspy.clients.fdsn.mass_downloader - INFO: Client 'GEONET' - Acquired 1 MiniSEED files [0.0 MB].\n",
      "[2021-11-25 00:50:34,775] - obspy.clients.fdsn.mass_downloader - INFO: Client 'GEONET' - Acquired 0 StationXML files [0.0 MB].\n",
      "[2021-11-25 00:50:34,775] - obspy.clients.fdsn.mass_downloader - INFO: Downloaded 0.0 MB in total.\n",
      "[2021-11-25 00:50:34,782] - obspy.clients.fdsn.mass_downloader - INFO: Initializing FDSN client(s) for GEONET.\n",
      "[2021-11-25 00:50:34,788] - obspy.clients.fdsn.mass_downloader - INFO: Successfully initialized 1 client(s): GEONET.\n",
      "[2021-11-25 00:50:34,791] - obspy.clients.fdsn.mass_downloader - INFO: Total acquired or preexisting stations: 0\n",
      "[2021-11-25 00:50:34,793] - obspy.clients.fdsn.mass_downloader - INFO: Client 'GEONET' - Requesting unreliable availability.\n"
     ]
    },
    {
     "name": "stdout",
     "output_type": "stream",
     "text": [
      "=================================================================\n",
      "Initiating mass download request.\n"
     ]
    },
    {
     "name": "stderr",
     "output_type": "stream",
     "text": [
      "[2021-11-25 00:50:35,419] - obspy.clients.fdsn.mass_downloader - INFO: Client 'GEONET' - Successfully requested availability (0.63 seconds)\n",
      "[2021-11-25 00:50:35,441] - obspy.clients.fdsn.mass_downloader - INFO: Client 'GEONET' - Found 1 stations (1 channels).\n",
      "[2021-11-25 00:50:35,475] - obspy.clients.fdsn.mass_downloader - INFO: Client 'GEONET' - Will attempt to download data from 1 stations.\n",
      "[2021-11-25 00:50:35,488] - obspy.clients.fdsn.mass_downloader - INFO: Client 'GEONET' - Status for 1 time intervals/channels before downloading: NEEDS_DOWNLOADING\n",
      "[2021-11-25 00:50:36,484] - obspy.clients.fdsn.mass_downloader - INFO: Client 'GEONET' - Successfully downloaded 1 channels (of 1)\n",
      "[2021-11-25 00:50:36,516] - obspy.clients.fdsn.mass_downloader - INFO: Client 'GEONET' - Launching basic QC checks...\n",
      "[2021-11-25 00:50:36,549] - obspy.clients.fdsn.mass_downloader - INFO: Client 'GEONET' - Downloaded 0.0 MB [3.96 KB/sec] of data, 0.0 MB of which were discarded afterwards.\n",
      "[2021-11-25 00:50:36,555] - obspy.clients.fdsn.mass_downloader - INFO: Client 'GEONET' - Status for 1 time intervals/channels after downloading: DOWNLOADED\n",
      "[2021-11-25 00:50:36,561] - obspy.clients.fdsn.mass_downloader - INFO: Client 'GEONET' - No station information to download.\n",
      "[2021-11-25 00:50:36,563] - obspy.clients.fdsn.mass_downloader - INFO: ============================== Final report\n",
      "[2021-11-25 00:50:36,564] - obspy.clients.fdsn.mass_downloader - INFO: 0 MiniSEED files [0.0 MB] already existed.\n",
      "[2021-11-25 00:50:36,565] - obspy.clients.fdsn.mass_downloader - INFO: 1 StationXML files [0.0 MB] already existed.\n",
      "[2021-11-25 00:50:36,566] - obspy.clients.fdsn.mass_downloader - INFO: Client 'GEONET' - Acquired 1 MiniSEED files [0.0 MB].\n",
      "[2021-11-25 00:50:36,570] - obspy.clients.fdsn.mass_downloader - INFO: Client 'GEONET' - Acquired 0 StationXML files [0.0 MB].\n",
      "[2021-11-25 00:50:36,572] - obspy.clients.fdsn.mass_downloader - INFO: Downloaded 0.0 MB in total.\n",
      "[2021-11-25 00:50:36,580] - obspy.clients.fdsn.mass_downloader - INFO: Initializing FDSN client(s) for GEONET.\n",
      "[2021-11-25 00:50:36,595] - obspy.clients.fdsn.mass_downloader - INFO: Successfully initialized 1 client(s): GEONET.\n",
      "[2021-11-25 00:50:36,598] - obspy.clients.fdsn.mass_downloader - INFO: Total acquired or preexisting stations: 0\n",
      "[2021-11-25 00:50:36,599] - obspy.clients.fdsn.mass_downloader - INFO: Client 'GEONET' - Requesting unreliable availability.\n"
     ]
    },
    {
     "name": "stdout",
     "output_type": "stream",
     "text": [
      "=================================================================\n",
      "Initiating mass download request.\n"
     ]
    },
    {
     "name": "stderr",
     "output_type": "stream",
     "text": [
      "[2021-11-25 00:50:37,362] - obspy.clients.fdsn.mass_downloader - INFO: Client 'GEONET' - Successfully requested availability (0.76 seconds)\n",
      "[2021-11-25 00:50:37,387] - obspy.clients.fdsn.mass_downloader - INFO: Client 'GEONET' - Found 1 stations (1 channels).\n",
      "[2021-11-25 00:50:37,399] - obspy.clients.fdsn.mass_downloader - INFO: Client 'GEONET' - Will attempt to download data from 1 stations.\n",
      "[2021-11-25 00:50:37,406] - obspy.clients.fdsn.mass_downloader - INFO: Client 'GEONET' - Status for 1 time intervals/channels before downloading: NEEDS_DOWNLOADING\n",
      "[2021-11-25 00:50:38,681] - obspy.clients.fdsn.mass_downloader - INFO: Client 'GEONET' - Successfully downloaded 1 channels (of 1)\n",
      "[2021-11-25 00:50:38,723] - obspy.clients.fdsn.mass_downloader - INFO: Client 'GEONET' - Launching basic QC checks...\n",
      "[2021-11-25 00:50:38,744] - obspy.clients.fdsn.mass_downloader - INFO: Client 'GEONET' - Downloaded 0.0 MB [3.85 KB/sec] of data, 0.0 MB of which were discarded afterwards.\n",
      "[2021-11-25 00:50:38,747] - obspy.clients.fdsn.mass_downloader - INFO: Client 'GEONET' - Status for 1 time intervals/channels after downloading: DOWNLOADED\n",
      "[2021-11-25 00:50:38,751] - obspy.clients.fdsn.mass_downloader - INFO: Client 'GEONET' - No station information to download.\n",
      "[2021-11-25 00:50:38,753] - obspy.clients.fdsn.mass_downloader - INFO: ============================== Final report\n",
      "[2021-11-25 00:50:38,754] - obspy.clients.fdsn.mass_downloader - INFO: 0 MiniSEED files [0.0 MB] already existed.\n",
      "[2021-11-25 00:50:38,755] - obspy.clients.fdsn.mass_downloader - INFO: 1 StationXML files [0.0 MB] already existed.\n",
      "[2021-11-25 00:50:38,755] - obspy.clients.fdsn.mass_downloader - INFO: Client 'GEONET' - Acquired 1 MiniSEED files [0.0 MB].\n",
      "[2021-11-25 00:50:38,759] - obspy.clients.fdsn.mass_downloader - INFO: Client 'GEONET' - Acquired 0 StationXML files [0.0 MB].\n",
      "[2021-11-25 00:50:38,760] - obspy.clients.fdsn.mass_downloader - INFO: Downloaded 0.0 MB in total.\n",
      "[2021-11-25 00:50:38,766] - obspy.clients.fdsn.mass_downloader - INFO: Initializing FDSN client(s) for GEONET.\n",
      "[2021-11-25 00:50:38,777] - obspy.clients.fdsn.mass_downloader - INFO: Successfully initialized 1 client(s): GEONET.\n",
      "[2021-11-25 00:50:38,780] - obspy.clients.fdsn.mass_downloader - INFO: Total acquired or preexisting stations: 0\n",
      "[2021-11-25 00:50:38,781] - obspy.clients.fdsn.mass_downloader - INFO: Client 'GEONET' - Requesting unreliable availability.\n"
     ]
    },
    {
     "name": "stdout",
     "output_type": "stream",
     "text": [
      "=================================================================\n",
      "Initiating mass download request.\n"
     ]
    },
    {
     "name": "stderr",
     "output_type": "stream",
     "text": [
      "[2021-11-25 00:50:39,392] - obspy.clients.fdsn.mass_downloader - INFO: Client 'GEONET' - Successfully requested availability (0.61 seconds)\n",
      "[2021-11-25 00:50:39,405] - obspy.clients.fdsn.mass_downloader - INFO: Client 'GEONET' - Found 1 stations (1 channels).\n",
      "[2021-11-25 00:50:39,408] - obspy.clients.fdsn.mass_downloader - INFO: Client 'GEONET' - Will attempt to download data from 1 stations.\n",
      "[2021-11-25 00:50:39,412] - obspy.clients.fdsn.mass_downloader - INFO: Client 'GEONET' - Status for 1 time intervals/channels before downloading: NEEDS_DOWNLOADING\n",
      "[2021-11-25 00:50:40,347] - obspy.clients.fdsn.mass_downloader - INFO: Client 'GEONET' - Successfully downloaded 1 channels (of 1)\n",
      "[2021-11-25 00:50:40,386] - obspy.clients.fdsn.mass_downloader - INFO: Client 'GEONET' - Launching basic QC checks...\n",
      "[2021-11-25 00:50:40,434] - obspy.clients.fdsn.mass_downloader - INFO: Client 'GEONET' - Downloaded 0.0 MB [3.66 KB/sec] of data, 0.0 MB of which were discarded afterwards.\n",
      "[2021-11-25 00:50:40,438] - obspy.clients.fdsn.mass_downloader - INFO: Client 'GEONET' - Status for 1 time intervals/channels after downloading: DOWNLOADED\n",
      "[2021-11-25 00:50:40,454] - obspy.clients.fdsn.mass_downloader - INFO: Client 'GEONET' - No station information to download.\n",
      "[2021-11-25 00:50:40,475] - obspy.clients.fdsn.mass_downloader - INFO: ============================== Final report\n",
      "[2021-11-25 00:50:40,481] - obspy.clients.fdsn.mass_downloader - INFO: 0 MiniSEED files [0.0 MB] already existed.\n",
      "[2021-11-25 00:50:40,487] - obspy.clients.fdsn.mass_downloader - INFO: 1 StationXML files [0.0 MB] already existed.\n",
      "[2021-11-25 00:50:40,488] - obspy.clients.fdsn.mass_downloader - INFO: Client 'GEONET' - Acquired 1 MiniSEED files [0.0 MB].\n",
      "[2021-11-25 00:50:40,488] - obspy.clients.fdsn.mass_downloader - INFO: Client 'GEONET' - Acquired 0 StationXML files [0.0 MB].\n",
      "[2021-11-25 00:50:40,488] - obspy.clients.fdsn.mass_downloader - INFO: Downloaded 0.0 MB in total.\n",
      "[2021-11-25 00:50:40,514] - obspy.clients.fdsn.mass_downloader - INFO: Initializing FDSN client(s) for GEONET.\n",
      "[2021-11-25 00:50:40,554] - obspy.clients.fdsn.mass_downloader - INFO: Successfully initialized 1 client(s): GEONET.\n",
      "[2021-11-25 00:50:40,557] - obspy.clients.fdsn.mass_downloader - INFO: Total acquired or preexisting stations: 0\n",
      "[2021-11-25 00:50:40,560] - obspy.clients.fdsn.mass_downloader - INFO: Client 'GEONET' - Requesting unreliable availability.\n"
     ]
    },
    {
     "name": "stdout",
     "output_type": "stream",
     "text": [
      "=================================================================\n",
      "Initiating mass download request.\n"
     ]
    },
    {
     "name": "stderr",
     "output_type": "stream",
     "text": [
      "[2021-11-25 00:50:41,172] - obspy.clients.fdsn.mass_downloader - INFO: Client 'GEONET' - Successfully requested availability (0.61 seconds)\n",
      "[2021-11-25 00:50:41,200] - obspy.clients.fdsn.mass_downloader - INFO: Client 'GEONET' - Found 1 stations (1 channels).\n",
      "[2021-11-25 00:50:41,215] - obspy.clients.fdsn.mass_downloader - INFO: Client 'GEONET' - Will attempt to download data from 1 stations.\n",
      "[2021-11-25 00:50:41,220] - obspy.clients.fdsn.mass_downloader - INFO: Client 'GEONET' - Status for 1 time intervals/channels before downloading: NEEDS_DOWNLOADING\n",
      "[2021-11-25 00:50:41,847] - obspy.clients.fdsn.mass_downloader - INFO: Client 'GEONET' - No data available for request.\n",
      "[2021-11-25 00:50:41,946] - obspy.clients.fdsn.mass_downloader - INFO: Client 'GEONET' - Launching basic QC checks...\n",
      "[2021-11-25 00:50:41,970] - obspy.clients.fdsn.mass_downloader - INFO: Client 'GEONET' - Downloaded 0.0 MB [0.00 KB/sec] of data, 0.0 MB of which were discarded afterwards.\n",
      "[2021-11-25 00:50:41,984] - obspy.clients.fdsn.mass_downloader - INFO: Client 'GEONET' - Status for 1 time intervals/channels after downloading: DOWNLOAD_FAILED\n",
      "[2021-11-25 00:50:41,997] - obspy.clients.fdsn.mass_downloader - INFO: Client 'GEONET' - No station information to download.\n",
      "[2021-11-25 00:50:42,002] - obspy.clients.fdsn.mass_downloader - INFO: Client 'GEONET' - No data could be downloaded.\n",
      "[2021-11-25 00:50:42,006] - obspy.clients.fdsn.mass_downloader - INFO: ============================== Final report\n",
      "[2021-11-25 00:50:42,007] - obspy.clients.fdsn.mass_downloader - INFO: 0 MiniSEED files [0.0 MB] already existed.\n",
      "[2021-11-25 00:50:42,007] - obspy.clients.fdsn.mass_downloader - INFO: 0 StationXML files [0.0 MB] already existed.\n",
      "[2021-11-25 00:50:42,008] - obspy.clients.fdsn.mass_downloader - INFO: Client 'GEONET' - Acquired 0 MiniSEED files [0.0 MB].\n",
      "[2021-11-25 00:50:42,014] - obspy.clients.fdsn.mass_downloader - INFO: Client 'GEONET' - Acquired 0 StationXML files [0.0 MB].\n",
      "[2021-11-25 00:50:42,022] - obspy.clients.fdsn.mass_downloader - INFO: Downloaded 0.0 MB in total.\n",
      "[2021-11-25 00:50:42,068] - obspy.clients.fdsn.mass_downloader - INFO: Initializing FDSN client(s) for GEONET.\n",
      "[2021-11-25 00:50:42,121] - obspy.clients.fdsn.mass_downloader - INFO: Successfully initialized 1 client(s): GEONET.\n",
      "[2021-11-25 00:50:42,143] - obspy.clients.fdsn.mass_downloader - INFO: Total acquired or preexisting stations: 0\n",
      "[2021-11-25 00:50:42,146] - obspy.clients.fdsn.mass_downloader - INFO: Client 'GEONET' - Requesting unreliable availability.\n"
     ]
    },
    {
     "name": "stdout",
     "output_type": "stream",
     "text": [
      "=================================================================\n",
      "Initiating mass download request.\n"
     ]
    },
    {
     "name": "stderr",
     "output_type": "stream",
     "text": [
      "[2021-11-25 00:50:42,810] - obspy.clients.fdsn.mass_downloader - INFO: Client 'GEONET' - Successfully requested availability (0.65 seconds)\n",
      "[2021-11-25 00:50:42,852] - obspy.clients.fdsn.mass_downloader - INFO: Client 'GEONET' - Found 1 stations (1 channels).\n",
      "[2021-11-25 00:50:42,881] - obspy.clients.fdsn.mass_downloader - INFO: Client 'GEONET' - Will attempt to download data from 1 stations.\n",
      "[2021-11-25 00:50:42,892] - obspy.clients.fdsn.mass_downloader - INFO: Client 'GEONET' - Status for 1 time intervals/channels before downloading: NEEDS_DOWNLOADING\n",
      "[2021-11-25 00:50:43,914] - obspy.clients.fdsn.mass_downloader - INFO: Client 'GEONET' - Successfully downloaded 1 channels (of 1)\n",
      "[2021-11-25 00:50:44,008] - obspy.clients.fdsn.mass_downloader - INFO: Client 'GEONET' - Launching basic QC checks...\n",
      "[2021-11-25 00:50:44,057] - obspy.clients.fdsn.mass_downloader - INFO: Client 'GEONET' - Downloaded 0.0 MB [2.87 KB/sec] of data, 0.0 MB of which were discarded afterwards.\n",
      "[2021-11-25 00:50:44,064] - obspy.clients.fdsn.mass_downloader - INFO: Client 'GEONET' - Status for 1 time intervals/channels after downloading: DOWNLOADED\n",
      "[2021-11-25 00:50:44,073] - obspy.clients.fdsn.mass_downloader - INFO: Client 'GEONET' - No station information to download.\n",
      "[2021-11-25 00:50:44,091] - obspy.clients.fdsn.mass_downloader - INFO: ============================== Final report\n",
      "[2021-11-25 00:50:44,092] - obspy.clients.fdsn.mass_downloader - INFO: 0 MiniSEED files [0.0 MB] already existed.\n",
      "[2021-11-25 00:50:44,094] - obspy.clients.fdsn.mass_downloader - INFO: 1 StationXML files [0.0 MB] already existed.\n",
      "[2021-11-25 00:50:44,098] - obspy.clients.fdsn.mass_downloader - INFO: Client 'GEONET' - Acquired 1 MiniSEED files [0.0 MB].\n",
      "[2021-11-25 00:50:44,099] - obspy.clients.fdsn.mass_downloader - INFO: Client 'GEONET' - Acquired 0 StationXML files [0.0 MB].\n",
      "[2021-11-25 00:50:44,104] - obspy.clients.fdsn.mass_downloader - INFO: Downloaded 0.0 MB in total.\n",
      "[2021-11-25 00:50:44,139] - obspy.clients.fdsn.mass_downloader - INFO: Initializing FDSN client(s) for GEONET.\n",
      "[2021-11-25 00:50:44,203] - obspy.clients.fdsn.mass_downloader - INFO: Successfully initialized 1 client(s): GEONET.\n",
      "[2021-11-25 00:50:44,209] - obspy.clients.fdsn.mass_downloader - INFO: Total acquired or preexisting stations: 0\n",
      "[2021-11-25 00:50:44,215] - obspy.clients.fdsn.mass_downloader - INFO: Client 'GEONET' - Requesting unreliable availability.\n"
     ]
    },
    {
     "name": "stdout",
     "output_type": "stream",
     "text": [
      "=================================================================\n",
      "Initiating mass download request.\n"
     ]
    },
    {
     "name": "stderr",
     "output_type": "stream",
     "text": [
      "[2021-11-25 00:50:44,993] - obspy.clients.fdsn.mass_downloader - INFO: Client 'GEONET' - Successfully requested availability (0.77 seconds)\n",
      "[2021-11-25 00:50:45,018] - obspy.clients.fdsn.mass_downloader - INFO: Client 'GEONET' - Found 1 stations (1 channels).\n",
      "[2021-11-25 00:50:45,036] - obspy.clients.fdsn.mass_downloader - INFO: Client 'GEONET' - Will attempt to download data from 1 stations.\n",
      "[2021-11-25 00:50:45,043] - obspy.clients.fdsn.mass_downloader - INFO: Client 'GEONET' - Status for 1 time intervals/channels before downloading: NEEDS_DOWNLOADING\n",
      "[2021-11-25 00:50:45,961] - obspy.clients.fdsn.mass_downloader - INFO: Client 'GEONET' - Successfully downloaded 1 channels (of 1)\n",
      "[2021-11-25 00:50:45,997] - obspy.clients.fdsn.mass_downloader - INFO: Client 'GEONET' - Launching basic QC checks...\n",
      "[2021-11-25 00:50:46,015] - obspy.clients.fdsn.mass_downloader - INFO: Client 'GEONET' - Downloaded 0.0 MB [4.35 KB/sec] of data, 0.0 MB of which were discarded afterwards.\n",
      "[2021-11-25 00:50:46,028] - obspy.clients.fdsn.mass_downloader - INFO: Client 'GEONET' - Status for 1 time intervals/channels after downloading: DOWNLOADED\n",
      "[2021-11-25 00:50:46,054] - obspy.clients.fdsn.mass_downloader - INFO: Client 'GEONET' - No station information to download.\n",
      "[2021-11-25 00:50:46,061] - obspy.clients.fdsn.mass_downloader - INFO: ============================== Final report\n",
      "[2021-11-25 00:50:46,065] - obspy.clients.fdsn.mass_downloader - INFO: 0 MiniSEED files [0.0 MB] already existed.\n",
      "[2021-11-25 00:50:46,069] - obspy.clients.fdsn.mass_downloader - INFO: 1 StationXML files [0.0 MB] already existed.\n",
      "[2021-11-25 00:50:46,070] - obspy.clients.fdsn.mass_downloader - INFO: Client 'GEONET' - Acquired 1 MiniSEED files [0.0 MB].\n",
      "[2021-11-25 00:50:46,079] - obspy.clients.fdsn.mass_downloader - INFO: Client 'GEONET' - Acquired 0 StationXML files [0.0 MB].\n",
      "[2021-11-25 00:50:46,090] - obspy.clients.fdsn.mass_downloader - INFO: Downloaded 0.0 MB in total.\n",
      "[2021-11-25 00:50:46,120] - obspy.clients.fdsn.mass_downloader - INFO: Initializing FDSN client(s) for GEONET.\n",
      "[2021-11-25 00:50:46,148] - obspy.clients.fdsn.mass_downloader - INFO: Successfully initialized 1 client(s): GEONET.\n",
      "[2021-11-25 00:50:46,160] - obspy.clients.fdsn.mass_downloader - INFO: Total acquired or preexisting stations: 0\n",
      "[2021-11-25 00:50:46,163] - obspy.clients.fdsn.mass_downloader - INFO: Client 'GEONET' - Requesting unreliable availability.\n"
     ]
    },
    {
     "name": "stdout",
     "output_type": "stream",
     "text": [
      "=================================================================\n",
      "Initiating mass download request.\n"
     ]
    },
    {
     "name": "stderr",
     "output_type": "stream",
     "text": [
      "[2021-11-25 00:50:46,760] - obspy.clients.fdsn.mass_downloader - INFO: Client 'GEONET' - Successfully requested availability (0.60 seconds)\n",
      "[2021-11-25 00:50:46,763] - obspy.clients.fdsn.mass_downloader - INFO: Client 'GEONET' - Found 1 stations (1 channels).\n",
      "[2021-11-25 00:50:46,763] - obspy.clients.fdsn.mass_downloader - INFO: Client 'GEONET' - Will attempt to download data from 1 stations.\n",
      "[2021-11-25 00:50:46,764] - obspy.clients.fdsn.mass_downloader - INFO: Client 'GEONET' - Status for 1 time intervals/channels before downloading: NEEDS_DOWNLOADING\n",
      "[2021-11-25 00:50:47,595] - obspy.clients.fdsn.mass_downloader - INFO: Client 'GEONET' - Successfully downloaded 1 channels (of 1)\n",
      "[2021-11-25 00:50:47,622] - obspy.clients.fdsn.mass_downloader - INFO: Client 'GEONET' - Launching basic QC checks...\n",
      "[2021-11-25 00:50:47,654] - obspy.clients.fdsn.mass_downloader - INFO: Client 'GEONET' - Downloaded 0.0 MB [4.11 KB/sec] of data, 0.0 MB of which were discarded afterwards.\n",
      "[2021-11-25 00:50:47,655] - obspy.clients.fdsn.mass_downloader - INFO: Client 'GEONET' - Status for 1 time intervals/channels after downloading: DOWNLOADED\n",
      "[2021-11-25 00:50:47,664] - obspy.clients.fdsn.mass_downloader - INFO: Client 'GEONET' - No station information to download.\n",
      "[2021-11-25 00:50:47,669] - obspy.clients.fdsn.mass_downloader - INFO: ============================== Final report\n",
      "[2021-11-25 00:50:47,673] - obspy.clients.fdsn.mass_downloader - INFO: 0 MiniSEED files [0.0 MB] already existed.\n",
      "[2021-11-25 00:50:47,673] - obspy.clients.fdsn.mass_downloader - INFO: 1 StationXML files [0.0 MB] already existed.\n",
      "[2021-11-25 00:50:47,676] - obspy.clients.fdsn.mass_downloader - INFO: Client 'GEONET' - Acquired 1 MiniSEED files [0.0 MB].\n",
      "[2021-11-25 00:50:47,677] - obspy.clients.fdsn.mass_downloader - INFO: Client 'GEONET' - Acquired 0 StationXML files [0.0 MB].\n",
      "[2021-11-25 00:50:47,678] - obspy.clients.fdsn.mass_downloader - INFO: Downloaded 0.0 MB in total.\n",
      "[2021-11-25 00:50:47,687] - obspy.clients.fdsn.mass_downloader - INFO: Initializing FDSN client(s) for GEONET.\n",
      "[2021-11-25 00:50:47,710] - obspy.clients.fdsn.mass_downloader - INFO: Successfully initialized 1 client(s): GEONET.\n",
      "[2021-11-25 00:50:47,713] - obspy.clients.fdsn.mass_downloader - INFO: Total acquired or preexisting stations: 0\n",
      "[2021-11-25 00:50:47,715] - obspy.clients.fdsn.mass_downloader - INFO: Client 'GEONET' - Requesting unreliable availability.\n"
     ]
    },
    {
     "name": "stdout",
     "output_type": "stream",
     "text": [
      "=================================================================\n",
      "Initiating mass download request.\n"
     ]
    },
    {
     "name": "stderr",
     "output_type": "stream",
     "text": [
      "[2021-11-25 00:50:48,282] - obspy.clients.fdsn.mass_downloader - INFO: Client 'GEONET' - Successfully requested availability (0.57 seconds)\n",
      "[2021-11-25 00:50:48,288] - obspy.clients.fdsn.mass_downloader - INFO: Client 'GEONET' - Found 1 stations (1 channels).\n",
      "[2021-11-25 00:50:48,291] - obspy.clients.fdsn.mass_downloader - INFO: Client 'GEONET' - Will attempt to download data from 1 stations.\n",
      "[2021-11-25 00:50:48,296] - obspy.clients.fdsn.mass_downloader - INFO: Client 'GEONET' - Status for 1 time intervals/channels before downloading: NEEDS_DOWNLOADING\n",
      "[2021-11-25 00:50:49,199] - obspy.clients.fdsn.mass_downloader - INFO: Client 'GEONET' - Successfully downloaded 1 channels (of 1)\n",
      "[2021-11-25 00:50:49,241] - obspy.clients.fdsn.mass_downloader - INFO: Client 'GEONET' - Launching basic QC checks...\n",
      "[2021-11-25 00:50:49,265] - obspy.clients.fdsn.mass_downloader - INFO: Client 'GEONET' - Downloaded 0.0 MB [3.77 KB/sec] of data, 0.0 MB of which were discarded afterwards.\n",
      "[2021-11-25 00:50:49,265] - obspy.clients.fdsn.mass_downloader - INFO: Client 'GEONET' - Status for 1 time intervals/channels after downloading: DOWNLOADED\n",
      "[2021-11-25 00:50:49,274] - obspy.clients.fdsn.mass_downloader - INFO: Client 'GEONET' - No station information to download.\n",
      "[2021-11-25 00:50:49,277] - obspy.clients.fdsn.mass_downloader - INFO: ============================== Final report\n",
      "[2021-11-25 00:50:49,279] - obspy.clients.fdsn.mass_downloader - INFO: 0 MiniSEED files [0.0 MB] already existed.\n",
      "[2021-11-25 00:50:49,280] - obspy.clients.fdsn.mass_downloader - INFO: 1 StationXML files [0.0 MB] already existed.\n",
      "[2021-11-25 00:50:49,281] - obspy.clients.fdsn.mass_downloader - INFO: Client 'GEONET' - Acquired 1 MiniSEED files [0.0 MB].\n",
      "[2021-11-25 00:50:49,282] - obspy.clients.fdsn.mass_downloader - INFO: Client 'GEONET' - Acquired 0 StationXML files [0.0 MB].\n",
      "[2021-11-25 00:50:49,283] - obspy.clients.fdsn.mass_downloader - INFO: Downloaded 0.0 MB in total.\n",
      "[2021-11-25 00:50:49,303] - obspy.clients.fdsn.mass_downloader - INFO: Initializing FDSN client(s) for GEONET.\n",
      "[2021-11-25 00:50:49,319] - obspy.clients.fdsn.mass_downloader - INFO: Successfully initialized 1 client(s): GEONET.\n",
      "[2021-11-25 00:50:49,322] - obspy.clients.fdsn.mass_downloader - INFO: Total acquired or preexisting stations: 0\n",
      "[2021-11-25 00:50:49,325] - obspy.clients.fdsn.mass_downloader - INFO: Client 'GEONET' - Requesting unreliable availability.\n"
     ]
    },
    {
     "name": "stdout",
     "output_type": "stream",
     "text": [
      "=================================================================\n",
      "Initiating mass download request.\n"
     ]
    },
    {
     "name": "stderr",
     "output_type": "stream",
     "text": [
      "[2021-11-25 00:50:49,925] - obspy.clients.fdsn.mass_downloader - INFO: Client 'GEONET' - Successfully requested availability (0.60 seconds)\n",
      "[2021-11-25 00:50:49,930] - obspy.clients.fdsn.mass_downloader - INFO: Client 'GEONET' - Found 1 stations (1 channels).\n",
      "[2021-11-25 00:50:49,932] - obspy.clients.fdsn.mass_downloader - INFO: Client 'GEONET' - Will attempt to download data from 1 stations.\n",
      "[2021-11-25 00:50:49,933] - obspy.clients.fdsn.mass_downloader - INFO: Client 'GEONET' - Status for 1 time intervals/channels before downloading: NEEDS_DOWNLOADING\n",
      "[2021-11-25 00:50:50,787] - obspy.clients.fdsn.mass_downloader - INFO: Client 'GEONET' - Successfully downloaded 1 channels (of 1)\n",
      "[2021-11-25 00:50:50,798] - obspy.clients.fdsn.mass_downloader - INFO: Client 'GEONET' - Launching basic QC checks...\n",
      "[2021-11-25 00:50:50,821] - obspy.clients.fdsn.mass_downloader - INFO: Client 'GEONET' - Downloaded 0.0 MB [4.09 KB/sec] of data, 0.0 MB of which were discarded afterwards.\n",
      "[2021-11-25 00:50:50,826] - obspy.clients.fdsn.mass_downloader - INFO: Client 'GEONET' - Status for 1 time intervals/channels after downloading: DOWNLOADED\n",
      "[2021-11-25 00:50:50,836] - obspy.clients.fdsn.mass_downloader - INFO: Client 'GEONET' - No station information to download.\n",
      "[2021-11-25 00:50:50,837] - obspy.clients.fdsn.mass_downloader - INFO: ============================== Final report\n",
      "[2021-11-25 00:50:50,838] - obspy.clients.fdsn.mass_downloader - INFO: 0 MiniSEED files [0.0 MB] already existed.\n",
      "[2021-11-25 00:50:50,839] - obspy.clients.fdsn.mass_downloader - INFO: 1 StationXML files [0.0 MB] already existed.\n",
      "[2021-11-25 00:50:50,839] - obspy.clients.fdsn.mass_downloader - INFO: Client 'GEONET' - Acquired 1 MiniSEED files [0.0 MB].\n",
      "[2021-11-25 00:50:50,840] - obspy.clients.fdsn.mass_downloader - INFO: Client 'GEONET' - Acquired 0 StationXML files [0.0 MB].\n",
      "[2021-11-25 00:50:50,841] - obspy.clients.fdsn.mass_downloader - INFO: Downloaded 0.0 MB in total.\n",
      "[2021-11-25 00:50:50,854] - obspy.clients.fdsn.mass_downloader - INFO: Initializing FDSN client(s) for GEONET.\n",
      "[2021-11-25 00:50:50,878] - obspy.clients.fdsn.mass_downloader - INFO: Successfully initialized 1 client(s): GEONET.\n",
      "[2021-11-25 00:50:50,891] - obspy.clients.fdsn.mass_downloader - INFO: Total acquired or preexisting stations: 0\n",
      "[2021-11-25 00:50:50,895] - obspy.clients.fdsn.mass_downloader - INFO: Client 'GEONET' - Requesting unreliable availability.\n"
     ]
    },
    {
     "name": "stdout",
     "output_type": "stream",
     "text": [
      "=================================================================\n",
      "Initiating mass download request.\n"
     ]
    },
    {
     "name": "stderr",
     "output_type": "stream",
     "text": [
      "[2021-11-25 00:50:51,563] - obspy.clients.fdsn.mass_downloader - INFO: Client 'GEONET' - Successfully requested availability (0.66 seconds)\n",
      "[2021-11-25 00:50:51,610] - obspy.clients.fdsn.mass_downloader - INFO: Client 'GEONET' - Found 1 stations (1 channels).\n",
      "[2021-11-25 00:50:51,612] - obspy.clients.fdsn.mass_downloader - INFO: Client 'GEONET' - Will attempt to download data from 1 stations.\n",
      "[2021-11-25 00:50:51,616] - obspy.clients.fdsn.mass_downloader - INFO: Client 'GEONET' - Status for 1 time intervals/channels before downloading: NEEDS_DOWNLOADING\n",
      "[2021-11-25 00:50:52,481] - obspy.clients.fdsn.mass_downloader - INFO: Client 'GEONET' - Successfully downloaded 1 channels (of 1)\n",
      "[2021-11-25 00:50:52,569] - obspy.clients.fdsn.mass_downloader - INFO: Client 'GEONET' - Launching basic QC checks...\n",
      "[2021-11-25 00:50:52,673] - obspy.clients.fdsn.mass_downloader - INFO: Client 'GEONET' - Downloaded 0.0 MB [2.74 KB/sec] of data, 0.0 MB of which were discarded afterwards.\n",
      "[2021-11-25 00:50:52,685] - obspy.clients.fdsn.mass_downloader - INFO: Client 'GEONET' - Status for 1 time intervals/channels after downloading: DOWNLOADED\n",
      "[2021-11-25 00:50:52,734] - obspy.clients.fdsn.mass_downloader - INFO: Client 'GEONET' - No station information to download.\n",
      "[2021-11-25 00:50:52,761] - obspy.clients.fdsn.mass_downloader - INFO: ============================== Final report\n",
      "[2021-11-25 00:50:52,763] - obspy.clients.fdsn.mass_downloader - INFO: 0 MiniSEED files [0.0 MB] already existed.\n",
      "[2021-11-25 00:50:52,766] - obspy.clients.fdsn.mass_downloader - INFO: 1 StationXML files [0.0 MB] already existed.\n",
      "[2021-11-25 00:50:52,767] - obspy.clients.fdsn.mass_downloader - INFO: Client 'GEONET' - Acquired 1 MiniSEED files [0.0 MB].\n",
      "[2021-11-25 00:50:52,768] - obspy.clients.fdsn.mass_downloader - INFO: Client 'GEONET' - Acquired 0 StationXML files [0.0 MB].\n",
      "[2021-11-25 00:50:52,770] - obspy.clients.fdsn.mass_downloader - INFO: Downloaded 0.0 MB in total.\n",
      "[2021-11-25 00:50:52,839] - obspy.clients.fdsn.mass_downloader - INFO: Initializing FDSN client(s) for GEONET.\n",
      "[2021-11-25 00:50:52,906] - obspy.clients.fdsn.mass_downloader - INFO: Successfully initialized 1 client(s): GEONET.\n",
      "[2021-11-25 00:50:52,912] - obspy.clients.fdsn.mass_downloader - INFO: Total acquired or preexisting stations: 0\n",
      "[2021-11-25 00:50:52,919] - obspy.clients.fdsn.mass_downloader - INFO: Client 'GEONET' - Requesting unreliable availability.\n"
     ]
    },
    {
     "name": "stdout",
     "output_type": "stream",
     "text": [
      "=================================================================\n",
      "Initiating mass download request.\n"
     ]
    },
    {
     "name": "stderr",
     "output_type": "stream",
     "text": [
      "[2021-11-25 00:50:53,638] - obspy.clients.fdsn.mass_downloader - INFO: Client 'GEONET' - Successfully requested availability (0.71 seconds)\n",
      "[2021-11-25 00:50:53,750] - obspy.clients.fdsn.mass_downloader - INFO: Client 'GEONET' - Found 1 stations (1 channels).\n",
      "[2021-11-25 00:50:53,774] - obspy.clients.fdsn.mass_downloader - INFO: Client 'GEONET' - Will attempt to download data from 1 stations.\n",
      "[2021-11-25 00:50:53,780] - obspy.clients.fdsn.mass_downloader - INFO: Client 'GEONET' - Status for 1 time intervals/channels before downloading: NEEDS_DOWNLOADING\n",
      "[2021-11-25 00:50:54,716] - obspy.clients.fdsn.mass_downloader - INFO: Client 'GEONET' - Successfully downloaded 1 channels (of 1)\n",
      "[2021-11-25 00:50:54,778] - obspy.clients.fdsn.mass_downloader - INFO: Client 'GEONET' - Launching basic QC checks...\n",
      "[2021-11-25 00:50:54,821] - obspy.clients.fdsn.mass_downloader - INFO: Client 'GEONET' - Downloaded 0.0 MB [3.62 KB/sec] of data, 0.0 MB of which were discarded afterwards.\n",
      "[2021-11-25 00:50:54,830] - obspy.clients.fdsn.mass_downloader - INFO: Client 'GEONET' - Status for 1 time intervals/channels after downloading: DOWNLOADED\n",
      "[2021-11-25 00:50:54,848] - obspy.clients.fdsn.mass_downloader - INFO: Client 'GEONET' - No station information to download.\n",
      "[2021-11-25 00:50:54,855] - obspy.clients.fdsn.mass_downloader - INFO: ============================== Final report\n",
      "[2021-11-25 00:50:54,859] - obspy.clients.fdsn.mass_downloader - INFO: 0 MiniSEED files [0.0 MB] already existed.\n",
      "[2021-11-25 00:50:54,864] - obspy.clients.fdsn.mass_downloader - INFO: 1 StationXML files [0.0 MB] already existed.\n",
      "[2021-11-25 00:50:54,868] - obspy.clients.fdsn.mass_downloader - INFO: Client 'GEONET' - Acquired 1 MiniSEED files [0.0 MB].\n",
      "[2021-11-25 00:50:54,874] - obspy.clients.fdsn.mass_downloader - INFO: Client 'GEONET' - Acquired 0 StationXML files [0.0 MB].\n",
      "[2021-11-25 00:50:54,877] - obspy.clients.fdsn.mass_downloader - INFO: Downloaded 0.0 MB in total.\n",
      "[2021-11-25 00:50:54,895] - obspy.clients.fdsn.mass_downloader - INFO: Initializing FDSN client(s) for GEONET.\n"
     ]
    },
    {
     "name": "stdout",
     "output_type": "stream",
     "text": [
      "=================================================================\n",
      "Initiating mass download request.\n"
     ]
    },
    {
     "name": "stderr",
     "output_type": "stream",
     "text": [
      "[2021-11-25 00:50:55,136] - obspy.clients.fdsn.mass_downloader - INFO: Successfully initialized 1 client(s): GEONET.\n",
      "[2021-11-25 00:50:55,156] - obspy.clients.fdsn.mass_downloader - INFO: Total acquired or preexisting stations: 0\n",
      "[2021-11-25 00:50:55,166] - obspy.clients.fdsn.mass_downloader - INFO: Client 'GEONET' - Requesting unreliable availability.\n",
      "[2021-11-25 00:50:55,794] - obspy.clients.fdsn.mass_downloader - INFO: Client 'GEONET' - Successfully requested availability (0.63 seconds)\n",
      "[2021-11-25 00:50:55,804] - obspy.clients.fdsn.mass_downloader - INFO: Client 'GEONET' - Found 1 stations (1 channels).\n",
      "[2021-11-25 00:50:55,813] - obspy.clients.fdsn.mass_downloader - INFO: Client 'GEONET' - Will attempt to download data from 1 stations.\n",
      "[2021-11-25 00:50:55,819] - obspy.clients.fdsn.mass_downloader - INFO: Client 'GEONET' - Status for 1 time intervals/channels before downloading: NEEDS_DOWNLOADING\n",
      "[2021-11-25 00:50:56,670] - obspy.clients.fdsn.mass_downloader - INFO: Client 'GEONET' - Successfully downloaded 1 channels (of 1)\n",
      "[2021-11-25 00:50:56,710] - obspy.clients.fdsn.mass_downloader - INFO: Client 'GEONET' - Launching basic QC checks...\n",
      "[2021-11-25 00:50:56,748] - obspy.clients.fdsn.mass_downloader - INFO: Client 'GEONET' - Downloaded 0.0 MB [3.43 KB/sec] of data, 0.0 MB of which were discarded afterwards.\n",
      "[2021-11-25 00:50:56,753] - obspy.clients.fdsn.mass_downloader - INFO: Client 'GEONET' - Status for 1 time intervals/channels after downloading: DOWNLOADED\n",
      "[2021-11-25 00:50:56,769] - obspy.clients.fdsn.mass_downloader - INFO: Client 'GEONET' - No station information to download.\n",
      "[2021-11-25 00:50:56,775] - obspy.clients.fdsn.mass_downloader - INFO: ============================== Final report\n",
      "[2021-11-25 00:50:56,779] - obspy.clients.fdsn.mass_downloader - INFO: 0 MiniSEED files [0.0 MB] already existed.\n",
      "[2021-11-25 00:50:56,781] - obspy.clients.fdsn.mass_downloader - INFO: 1 StationXML files [0.0 MB] already existed.\n",
      "[2021-11-25 00:50:56,784] - obspy.clients.fdsn.mass_downloader - INFO: Client 'GEONET' - Acquired 1 MiniSEED files [0.0 MB].\n",
      "[2021-11-25 00:50:56,785] - obspy.clients.fdsn.mass_downloader - INFO: Client 'GEONET' - Acquired 0 StationXML files [0.0 MB].\n",
      "[2021-11-25 00:50:56,785] - obspy.clients.fdsn.mass_downloader - INFO: Downloaded 0.0 MB in total.\n",
      "[2021-11-25 00:50:56,821] - obspy.clients.fdsn.mass_downloader - INFO: Initializing FDSN client(s) for GEONET.\n",
      "[2021-11-25 00:50:56,841] - obspy.clients.fdsn.mass_downloader - INFO: Successfully initialized 1 client(s): GEONET.\n",
      "[2021-11-25 00:50:56,844] - obspy.clients.fdsn.mass_downloader - INFO: Total acquired or preexisting stations: 0\n",
      "[2021-11-25 00:50:56,848] - obspy.clients.fdsn.mass_downloader - INFO: Client 'GEONET' - Requesting unreliable availability.\n"
     ]
    },
    {
     "name": "stdout",
     "output_type": "stream",
     "text": [
      "=================================================================\n",
      "Initiating mass download request.\n"
     ]
    },
    {
     "name": "stderr",
     "output_type": "stream",
     "text": [
      "[2021-11-25 00:50:57,602] - obspy.clients.fdsn.mass_downloader - INFO: Client 'GEONET' - Successfully requested availability (0.75 seconds)\n",
      "[2021-11-25 00:50:57,700] - obspy.clients.fdsn.mass_downloader - INFO: Client 'GEONET' - Found 1 stations (1 channels).\n",
      "[2021-11-25 00:50:57,726] - obspy.clients.fdsn.mass_downloader - INFO: Client 'GEONET' - Will attempt to download data from 1 stations.\n",
      "[2021-11-25 00:50:57,751] - obspy.clients.fdsn.mass_downloader - INFO: Client 'GEONET' - Status for 1 time intervals/channels before downloading: NEEDS_DOWNLOADING\n",
      "[2021-11-25 00:50:58,760] - obspy.clients.fdsn.mass_downloader - INFO: Client 'GEONET' - Successfully downloaded 1 channels (of 1)\n",
      "[2021-11-25 00:50:58,809] - obspy.clients.fdsn.mass_downloader - INFO: Client 'GEONET' - Launching basic QC checks...\n",
      "[2021-11-25 00:50:58,838] - obspy.clients.fdsn.mass_downloader - INFO: Client 'GEONET' - Downloaded 0.0 MB [2.96 KB/sec] of data, 0.0 MB of which were discarded afterwards.\n",
      "[2021-11-25 00:50:58,842] - obspy.clients.fdsn.mass_downloader - INFO: Client 'GEONET' - Status for 1 time intervals/channels after downloading: DOWNLOADED\n",
      "[2021-11-25 00:50:58,863] - obspy.clients.fdsn.mass_downloader - INFO: Client 'GEONET' - No station information to download.\n",
      "[2021-11-25 00:50:58,867] - obspy.clients.fdsn.mass_downloader - INFO: ============================== Final report\n",
      "[2021-11-25 00:50:58,871] - obspy.clients.fdsn.mass_downloader - INFO: 0 MiniSEED files [0.0 MB] already existed.\n",
      "[2021-11-25 00:50:58,872] - obspy.clients.fdsn.mass_downloader - INFO: 1 StationXML files [0.0 MB] already existed.\n",
      "[2021-11-25 00:50:58,877] - obspy.clients.fdsn.mass_downloader - INFO: Client 'GEONET' - Acquired 1 MiniSEED files [0.0 MB].\n",
      "[2021-11-25 00:50:58,879] - obspy.clients.fdsn.mass_downloader - INFO: Client 'GEONET' - Acquired 0 StationXML files [0.0 MB].\n",
      "[2021-11-25 00:50:58,881] - obspy.clients.fdsn.mass_downloader - INFO: Downloaded 0.0 MB in total.\n",
      "[2021-11-25 00:50:58,894] - obspy.clients.fdsn.mass_downloader - INFO: Initializing FDSN client(s) for GEONET.\n",
      "[2021-11-25 00:50:58,931] - obspy.clients.fdsn.mass_downloader - INFO: Successfully initialized 1 client(s): GEONET.\n",
      "[2021-11-25 00:50:58,934] - obspy.clients.fdsn.mass_downloader - INFO: Total acquired or preexisting stations: 0\n",
      "[2021-11-25 00:50:58,937] - obspy.clients.fdsn.mass_downloader - INFO: Client 'GEONET' - Requesting unreliable availability.\n"
     ]
    },
    {
     "name": "stdout",
     "output_type": "stream",
     "text": [
      "=================================================================\n",
      "Initiating mass download request.\n"
     ]
    },
    {
     "name": "stderr",
     "output_type": "stream",
     "text": [
      "[2021-11-25 00:50:59,561] - obspy.clients.fdsn.mass_downloader - INFO: Client 'GEONET' - Successfully requested availability (0.62 seconds)\n",
      "[2021-11-25 00:50:59,587] - obspy.clients.fdsn.mass_downloader - INFO: Client 'GEONET' - Found 1 stations (1 channels).\n",
      "[2021-11-25 00:50:59,590] - obspy.clients.fdsn.mass_downloader - INFO: Client 'GEONET' - Will attempt to download data from 1 stations.\n",
      "[2021-11-25 00:50:59,596] - obspy.clients.fdsn.mass_downloader - INFO: Client 'GEONET' - Status for 1 time intervals/channels before downloading: NEEDS_DOWNLOADING\n",
      "[2021-11-25 00:51:00,597] - obspy.clients.fdsn.mass_downloader - INFO: Client 'GEONET' - Successfully downloaded 1 channels (of 1)\n",
      "[2021-11-25 00:51:00,615] - obspy.clients.fdsn.mass_downloader - INFO: Client 'GEONET' - Launching basic QC checks...\n",
      "[2021-11-25 00:51:00,637] - obspy.clients.fdsn.mass_downloader - INFO: Client 'GEONET' - Downloaded 0.0 MB [3.07 KB/sec] of data, 0.0 MB of which were discarded afterwards.\n",
      "[2021-11-25 00:51:00,641] - obspy.clients.fdsn.mass_downloader - INFO: Client 'GEONET' - Status for 1 time intervals/channels after downloading: DOWNLOADED\n",
      "[2021-11-25 00:51:00,651] - obspy.clients.fdsn.mass_downloader - INFO: Client 'GEONET' - No station information to download.\n",
      "[2021-11-25 00:51:00,657] - obspy.clients.fdsn.mass_downloader - INFO: ============================== Final report\n",
      "[2021-11-25 00:51:00,661] - obspy.clients.fdsn.mass_downloader - INFO: 0 MiniSEED files [0.0 MB] already existed.\n",
      "[2021-11-25 00:51:00,663] - obspy.clients.fdsn.mass_downloader - INFO: 1 StationXML files [0.0 MB] already existed.\n",
      "[2021-11-25 00:51:00,667] - obspy.clients.fdsn.mass_downloader - INFO: Client 'GEONET' - Acquired 1 MiniSEED files [0.0 MB].\n",
      "[2021-11-25 00:51:00,667] - obspy.clients.fdsn.mass_downloader - INFO: Client 'GEONET' - Acquired 0 StationXML files [0.0 MB].\n",
      "[2021-11-25 00:51:00,668] - obspy.clients.fdsn.mass_downloader - INFO: Downloaded 0.0 MB in total.\n",
      "[2021-11-25 00:51:00,690] - obspy.clients.fdsn.mass_downloader - INFO: Initializing FDSN client(s) for GEONET.\n",
      "[2021-11-25 00:51:00,740] - obspy.clients.fdsn.mass_downloader - INFO: Successfully initialized 1 client(s): GEONET.\n",
      "[2021-11-25 00:51:00,749] - obspy.clients.fdsn.mass_downloader - INFO: Total acquired or preexisting stations: 0\n",
      "[2021-11-25 00:51:00,751] - obspy.clients.fdsn.mass_downloader - INFO: Client 'GEONET' - Requesting unreliable availability.\n"
     ]
    },
    {
     "name": "stdout",
     "output_type": "stream",
     "text": [
      "=================================================================\n",
      "Initiating mass download request.\n"
     ]
    },
    {
     "name": "stderr",
     "output_type": "stream",
     "text": [
      "[2021-11-25 00:51:01,307] - obspy.clients.fdsn.mass_downloader - INFO: Client 'GEONET' - Successfully requested availability (0.56 seconds)\n",
      "[2021-11-25 00:51:01,319] - obspy.clients.fdsn.mass_downloader - INFO: Client 'GEONET' - Found 1 stations (1 channels).\n",
      "[2021-11-25 00:51:01,320] - obspy.clients.fdsn.mass_downloader - INFO: Client 'GEONET' - Will attempt to download data from 1 stations.\n",
      "[2021-11-25 00:51:01,328] - obspy.clients.fdsn.mass_downloader - INFO: Client 'GEONET' - Status for 1 time intervals/channels before downloading: NEEDS_DOWNLOADING\n",
      "[2021-11-25 00:51:02,354] - obspy.clients.fdsn.mass_downloader - INFO: Client 'GEONET' - Successfully downloaded 1 channels (of 1)\n",
      "[2021-11-25 00:51:02,394] - obspy.clients.fdsn.mass_downloader - INFO: Client 'GEONET' - Launching basic QC checks...\n",
      "[2021-11-25 00:51:02,427] - obspy.clients.fdsn.mass_downloader - INFO: Client 'GEONET' - Downloaded 0.0 MB [4.32 KB/sec] of data, 0.0 MB of which were discarded afterwards.\n",
      "[2021-11-25 00:51:02,431] - obspy.clients.fdsn.mass_downloader - INFO: Client 'GEONET' - Status for 1 time intervals/channels after downloading: DOWNLOADED\n",
      "[2021-11-25 00:51:02,446] - obspy.clients.fdsn.mass_downloader - INFO: Client 'GEONET' - No station information to download.\n",
      "[2021-11-25 00:51:02,456] - obspy.clients.fdsn.mass_downloader - INFO: ============================== Final report\n",
      "[2021-11-25 00:51:02,461] - obspy.clients.fdsn.mass_downloader - INFO: 0 MiniSEED files [0.0 MB] already existed.\n",
      "[2021-11-25 00:51:02,464] - obspy.clients.fdsn.mass_downloader - INFO: 1 StationXML files [0.0 MB] already existed.\n",
      "[2021-11-25 00:51:02,466] - obspy.clients.fdsn.mass_downloader - INFO: Client 'GEONET' - Acquired 1 MiniSEED files [0.0 MB].\n",
      "[2021-11-25 00:51:02,474] - obspy.clients.fdsn.mass_downloader - INFO: Client 'GEONET' - Acquired 0 StationXML files [0.0 MB].\n",
      "[2021-11-25 00:51:02,475] - obspy.clients.fdsn.mass_downloader - INFO: Downloaded 0.0 MB in total.\n",
      "[2021-11-25 00:51:02,486] - obspy.clients.fdsn.mass_downloader - INFO: Initializing FDSN client(s) for GEONET.\n",
      "[2021-11-25 00:51:02,510] - obspy.clients.fdsn.mass_downloader - INFO: Successfully initialized 1 client(s): GEONET.\n",
      "[2021-11-25 00:51:02,513] - obspy.clients.fdsn.mass_downloader - INFO: Total acquired or preexisting stations: 0\n",
      "[2021-11-25 00:51:02,516] - obspy.clients.fdsn.mass_downloader - INFO: Client 'GEONET' - Requesting unreliable availability.\n"
     ]
    },
    {
     "name": "stdout",
     "output_type": "stream",
     "text": [
      "=================================================================\n",
      "Initiating mass download request.\n"
     ]
    },
    {
     "name": "stderr",
     "output_type": "stream",
     "text": [
      "[2021-11-25 00:51:03,133] - obspy.clients.fdsn.mass_downloader - INFO: Client 'GEONET' - Successfully requested availability (0.61 seconds)\n",
      "[2021-11-25 00:51:03,144] - obspy.clients.fdsn.mass_downloader - INFO: Client 'GEONET' - Found 1 stations (1 channels).\n",
      "[2021-11-25 00:51:03,146] - obspy.clients.fdsn.mass_downloader - INFO: Client 'GEONET' - Will attempt to download data from 1 stations.\n",
      "[2021-11-25 00:51:03,150] - obspy.clients.fdsn.mass_downloader - INFO: Client 'GEONET' - Status for 1 time intervals/channels before downloading: NEEDS_DOWNLOADING\n",
      "[2021-11-25 00:51:04,075] - obspy.clients.fdsn.mass_downloader - INFO: Client 'GEONET' - Successfully downloaded 1 channels (of 1)\n",
      "[2021-11-25 00:51:04,086] - obspy.clients.fdsn.mass_downloader - INFO: Client 'GEONET' - Launching basic QC checks...\n",
      "[2021-11-25 00:51:04,106] - obspy.clients.fdsn.mass_downloader - INFO: Client 'GEONET' - Downloaded 0.0 MB [4.33 KB/sec] of data, 0.0 MB of which were discarded afterwards.\n",
      "[2021-11-25 00:51:04,109] - obspy.clients.fdsn.mass_downloader - INFO: Client 'GEONET' - Status for 1 time intervals/channels after downloading: DOWNLOADED\n",
      "[2021-11-25 00:51:04,115] - obspy.clients.fdsn.mass_downloader - INFO: Client 'GEONET' - No station information to download.\n",
      "[2021-11-25 00:51:04,120] - obspy.clients.fdsn.mass_downloader - INFO: ============================== Final report\n",
      "[2021-11-25 00:51:04,122] - obspy.clients.fdsn.mass_downloader - INFO: 0 MiniSEED files [0.0 MB] already existed.\n",
      "[2021-11-25 00:51:04,124] - obspy.clients.fdsn.mass_downloader - INFO: 1 StationXML files [0.0 MB] already existed.\n",
      "[2021-11-25 00:51:04,125] - obspy.clients.fdsn.mass_downloader - INFO: Client 'GEONET' - Acquired 1 MiniSEED files [0.0 MB].\n",
      "[2021-11-25 00:51:04,125] - obspy.clients.fdsn.mass_downloader - INFO: Client 'GEONET' - Acquired 0 StationXML files [0.0 MB].\n",
      "[2021-11-25 00:51:04,126] - obspy.clients.fdsn.mass_downloader - INFO: Downloaded 0.0 MB in total.\n",
      "[2021-11-25 00:51:04,136] - obspy.clients.fdsn.mass_downloader - INFO: Initializing FDSN client(s) for GEONET.\n",
      "[2021-11-25 00:51:04,158] - obspy.clients.fdsn.mass_downloader - INFO: Successfully initialized 1 client(s): GEONET.\n",
      "[2021-11-25 00:51:04,162] - obspy.clients.fdsn.mass_downloader - INFO: Total acquired or preexisting stations: 0\n",
      "[2021-11-25 00:51:04,164] - obspy.clients.fdsn.mass_downloader - INFO: Client 'GEONET' - Requesting unreliable availability.\n"
     ]
    },
    {
     "name": "stdout",
     "output_type": "stream",
     "text": [
      "=================================================================\n",
      "Initiating mass download request.\n"
     ]
    },
    {
     "name": "stderr",
     "output_type": "stream",
     "text": [
      "[2021-11-25 00:51:04,731] - obspy.clients.fdsn.mass_downloader - INFO: Client 'GEONET' - Successfully requested availability (0.57 seconds)\n",
      "[2021-11-25 00:51:04,741] - obspy.clients.fdsn.mass_downloader - INFO: Client 'GEONET' - Found 1 stations (1 channels).\n",
      "[2021-11-25 00:51:04,744] - obspy.clients.fdsn.mass_downloader - INFO: Client 'GEONET' - Will attempt to download data from 1 stations.\n",
      "[2021-11-25 00:51:04,746] - obspy.clients.fdsn.mass_downloader - INFO: Client 'GEONET' - Status for 1 time intervals/channels before downloading: NEEDS_DOWNLOADING\n",
      "[2021-11-25 00:51:05,645] - obspy.clients.fdsn.mass_downloader - INFO: Client 'GEONET' - Successfully downloaded 1 channels (of 1)\n",
      "[2021-11-25 00:51:05,773] - obspy.clients.fdsn.mass_downloader - INFO: Client 'GEONET' - Launching basic QC checks...\n",
      "[2021-11-25 00:51:05,905] - obspy.clients.fdsn.mass_downloader - INFO: Client 'GEONET' - Downloaded 0.0 MB [3.49 KB/sec] of data, 0.0 MB of which were discarded afterwards.\n",
      "[2021-11-25 00:51:05,916] - obspy.clients.fdsn.mass_downloader - INFO: Client 'GEONET' - Status for 1 time intervals/channels after downloading: DOWNLOADED\n",
      "[2021-11-25 00:51:05,943] - obspy.clients.fdsn.mass_downloader - INFO: Client 'GEONET' - No station information to download.\n",
      "[2021-11-25 00:51:05,955] - obspy.clients.fdsn.mass_downloader - INFO: ============================== Final report\n",
      "[2021-11-25 00:51:05,961] - obspy.clients.fdsn.mass_downloader - INFO: 0 MiniSEED files [0.0 MB] already existed.\n",
      "[2021-11-25 00:51:05,968] - obspy.clients.fdsn.mass_downloader - INFO: 1 StationXML files [0.0 MB] already existed.\n",
      "[2021-11-25 00:51:05,971] - obspy.clients.fdsn.mass_downloader - INFO: Client 'GEONET' - Acquired 1 MiniSEED files [0.0 MB].\n",
      "[2021-11-25 00:51:05,974] - obspy.clients.fdsn.mass_downloader - INFO: Client 'GEONET' - Acquired 0 StationXML files [0.0 MB].\n",
      "[2021-11-25 00:51:05,977] - obspy.clients.fdsn.mass_downloader - INFO: Downloaded 0.0 MB in total.\n",
      "[2021-11-25 00:51:05,990] - obspy.clients.fdsn.mass_downloader - INFO: Initializing FDSN client(s) for GEONET.\n",
      "[2021-11-25 00:51:06,001] - obspy.clients.fdsn.mass_downloader - INFO: Successfully initialized 1 client(s): GEONET.\n",
      "[2021-11-25 00:51:06,002] - obspy.clients.fdsn.mass_downloader - INFO: Total acquired or preexisting stations: 0\n",
      "[2021-11-25 00:51:06,002] - obspy.clients.fdsn.mass_downloader - INFO: Client 'GEONET' - Requesting unreliable availability.\n"
     ]
    },
    {
     "name": "stdout",
     "output_type": "stream",
     "text": [
      "=================================================================\n",
      "Initiating mass download request.\n"
     ]
    },
    {
     "name": "stderr",
     "output_type": "stream",
     "text": [
      "[2021-11-25 00:51:06,632] - obspy.clients.fdsn.mass_downloader - INFO: Client 'GEONET' - Successfully requested availability (0.63 seconds)\n",
      "[2021-11-25 00:51:06,688] - obspy.clients.fdsn.mass_downloader - INFO: Client 'GEONET' - Found 1 stations (1 channels).\n",
      "[2021-11-25 00:51:06,707] - obspy.clients.fdsn.mass_downloader - INFO: Client 'GEONET' - Will attempt to download data from 1 stations.\n",
      "[2021-11-25 00:51:06,709] - obspy.clients.fdsn.mass_downloader - INFO: Client 'GEONET' - Status for 1 time intervals/channels before downloading: NEEDS_DOWNLOADING\n",
      "[2021-11-25 00:51:07,672] - obspy.clients.fdsn.mass_downloader - INFO: Client 'GEONET' - Successfully downloaded 1 channels (of 1)\n",
      "[2021-11-25 00:51:07,718] - obspy.clients.fdsn.mass_downloader - INFO: Client 'GEONET' - Launching basic QC checks...\n",
      "[2021-11-25 00:51:07,736] - obspy.clients.fdsn.mass_downloader - INFO: Client 'GEONET' - Downloaded 0.0 MB [4.09 KB/sec] of data, 0.0 MB of which were discarded afterwards.\n",
      "[2021-11-25 00:51:07,775] - obspy.clients.fdsn.mass_downloader - INFO: Client 'GEONET' - Status for 1 time intervals/channels after downloading: DOWNLOADED\n",
      "[2021-11-25 00:51:07,804] - obspy.clients.fdsn.mass_downloader - INFO: Client 'GEONET' - No station information to download.\n",
      "[2021-11-25 00:51:07,853] - obspy.clients.fdsn.mass_downloader - INFO: ============================== Final report\n",
      "[2021-11-25 00:51:07,859] - obspy.clients.fdsn.mass_downloader - INFO: 0 MiniSEED files [0.0 MB] already existed.\n",
      "[2021-11-25 00:51:07,862] - obspy.clients.fdsn.mass_downloader - INFO: 1 StationXML files [0.0 MB] already existed.\n",
      "[2021-11-25 00:51:07,873] - obspy.clients.fdsn.mass_downloader - INFO: Client 'GEONET' - Acquired 1 MiniSEED files [0.0 MB].\n",
      "[2021-11-25 00:51:07,878] - obspy.clients.fdsn.mass_downloader - INFO: Client 'GEONET' - Acquired 0 StationXML files [0.0 MB].\n",
      "[2021-11-25 00:51:07,892] - obspy.clients.fdsn.mass_downloader - INFO: Downloaded 0.0 MB in total.\n",
      "[2021-11-25 00:51:08,034] - obspy.clients.fdsn.mass_downloader - INFO: Initializing FDSN client(s) for GEONET.\n",
      "[2021-11-25 00:51:08,136] - obspy.clients.fdsn.mass_downloader - INFO: Successfully initialized 1 client(s): GEONET.\n",
      "[2021-11-25 00:51:08,166] - obspy.clients.fdsn.mass_downloader - INFO: Total acquired or preexisting stations: 0\n",
      "[2021-11-25 00:51:08,172] - obspy.clients.fdsn.mass_downloader - INFO: Client 'GEONET' - Requesting unreliable availability.\n"
     ]
    },
    {
     "name": "stdout",
     "output_type": "stream",
     "text": [
      "=================================================================\n",
      "Initiating mass download request.\n"
     ]
    },
    {
     "name": "stderr",
     "output_type": "stream",
     "text": [
      "[2021-11-25 00:51:09,437] - obspy.clients.fdsn.mass_downloader - INFO: Client 'GEONET' - Successfully requested availability (1.26 seconds)\n",
      "[2021-11-25 00:51:09,446] - obspy.clients.fdsn.mass_downloader - INFO: Client 'GEONET' - Found 1 stations (1 channels).\n",
      "[2021-11-25 00:51:09,447] - obspy.clients.fdsn.mass_downloader - INFO: Client 'GEONET' - Will attempt to download data from 1 stations.\n",
      "[2021-11-25 00:51:09,449] - obspy.clients.fdsn.mass_downloader - INFO: Client 'GEONET' - Status for 1 time intervals/channels before downloading: NEEDS_DOWNLOADING\n",
      "[2021-11-25 00:51:10,323] - obspy.clients.fdsn.mass_downloader - INFO: Client 'GEONET' - Successfully downloaded 1 channels (of 1)\n",
      "[2021-11-25 00:51:10,340] - obspy.clients.fdsn.mass_downloader - INFO: Client 'GEONET' - Launching basic QC checks...\n",
      "[2021-11-25 00:51:10,381] - obspy.clients.fdsn.mass_downloader - INFO: Client 'GEONET' - Downloaded 0.0 MB [3.39 KB/sec] of data, 0.0 MB of which were discarded afterwards.\n",
      "[2021-11-25 00:51:10,382] - obspy.clients.fdsn.mass_downloader - INFO: Client 'GEONET' - Status for 1 time intervals/channels after downloading: DOWNLOADED\n",
      "[2021-11-25 00:51:10,390] - obspy.clients.fdsn.mass_downloader - INFO: Client 'GEONET' - No station information to download.\n",
      "[2021-11-25 00:51:10,392] - obspy.clients.fdsn.mass_downloader - INFO: ============================== Final report\n",
      "[2021-11-25 00:51:10,394] - obspy.clients.fdsn.mass_downloader - INFO: 0 MiniSEED files [0.0 MB] already existed.\n",
      "[2021-11-25 00:51:10,395] - obspy.clients.fdsn.mass_downloader - INFO: 1 StationXML files [0.0 MB] already existed.\n",
      "[2021-11-25 00:51:10,396] - obspy.clients.fdsn.mass_downloader - INFO: Client 'GEONET' - Acquired 1 MiniSEED files [0.0 MB].\n",
      "[2021-11-25 00:51:10,397] - obspy.clients.fdsn.mass_downloader - INFO: Client 'GEONET' - Acquired 0 StationXML files [0.0 MB].\n",
      "[2021-11-25 00:51:10,397] - obspy.clients.fdsn.mass_downloader - INFO: Downloaded 0.0 MB in total.\n",
      "[2021-11-25 00:51:10,404] - obspy.clients.fdsn.mass_downloader - INFO: Initializing FDSN client(s) for GEONET.\n",
      "[2021-11-25 00:51:10,408] - obspy.clients.fdsn.mass_downloader - INFO: Successfully initialized 1 client(s): GEONET.\n",
      "[2021-11-25 00:51:10,411] - obspy.clients.fdsn.mass_downloader - INFO: Total acquired or preexisting stations: 0\n",
      "[2021-11-25 00:51:10,412] - obspy.clients.fdsn.mass_downloader - INFO: Client 'GEONET' - Requesting unreliable availability.\n"
     ]
    },
    {
     "name": "stdout",
     "output_type": "stream",
     "text": [
      "=================================================================\n",
      "Initiating mass download request.\n"
     ]
    },
    {
     "name": "stderr",
     "output_type": "stream",
     "text": [
      "[2021-11-25 00:51:11,596] - obspy.clients.fdsn.mass_downloader - INFO: Client 'GEONET' - Successfully requested availability (1.18 seconds)\n",
      "[2021-11-25 00:51:11,604] - obspy.clients.fdsn.mass_downloader - INFO: Client 'GEONET' - Found 1 stations (1 channels).\n",
      "[2021-11-25 00:51:11,606] - obspy.clients.fdsn.mass_downloader - INFO: Client 'GEONET' - Will attempt to download data from 1 stations.\n",
      "[2021-11-25 00:51:11,610] - obspy.clients.fdsn.mass_downloader - INFO: Client 'GEONET' - Status for 1 time intervals/channels before downloading: NEEDS_DOWNLOADING\n",
      "[2021-11-25 00:51:12,569] - obspy.clients.fdsn.mass_downloader - INFO: Client 'GEONET' - Successfully downloaded 1 channels (of 1)\n",
      "[2021-11-25 00:51:12,607] - obspy.clients.fdsn.mass_downloader - INFO: Client 'GEONET' - Launching basic QC checks...\n",
      "[2021-11-25 00:51:12,639] - obspy.clients.fdsn.mass_downloader - INFO: Client 'GEONET' - Downloaded 0.0 MB [4.07 KB/sec] of data, 0.0 MB of which were discarded afterwards.\n",
      "[2021-11-25 00:51:12,650] - obspy.clients.fdsn.mass_downloader - INFO: Client 'GEONET' - Status for 1 time intervals/channels after downloading: DOWNLOADED\n",
      "[2021-11-25 00:51:12,676] - obspy.clients.fdsn.mass_downloader - INFO: Client 'GEONET' - No station information to download.\n",
      "[2021-11-25 00:51:12,689] - obspy.clients.fdsn.mass_downloader - INFO: ============================== Final report\n",
      "[2021-11-25 00:51:12,691] - obspy.clients.fdsn.mass_downloader - INFO: 0 MiniSEED files [0.0 MB] already existed.\n",
      "[2021-11-25 00:51:12,692] - obspy.clients.fdsn.mass_downloader - INFO: 1 StationXML files [0.0 MB] already existed.\n",
      "[2021-11-25 00:51:12,693] - obspy.clients.fdsn.mass_downloader - INFO: Client 'GEONET' - Acquired 1 MiniSEED files [0.0 MB].\n",
      "[2021-11-25 00:51:12,697] - obspy.clients.fdsn.mass_downloader - INFO: Client 'GEONET' - Acquired 0 StationXML files [0.0 MB].\n",
      "[2021-11-25 00:51:12,698] - obspy.clients.fdsn.mass_downloader - INFO: Downloaded 0.0 MB in total.\n",
      "[2021-11-25 00:51:12,724] - obspy.clients.fdsn.mass_downloader - INFO: Initializing FDSN client(s) for GEONET.\n",
      "[2021-11-25 00:51:12,763] - obspy.clients.fdsn.mass_downloader - INFO: Successfully initialized 1 client(s): GEONET.\n",
      "[2021-11-25 00:51:12,777] - obspy.clients.fdsn.mass_downloader - INFO: Total acquired or preexisting stations: 0\n",
      "[2021-11-25 00:51:12,785] - obspy.clients.fdsn.mass_downloader - INFO: Client 'GEONET' - Requesting unreliable availability.\n"
     ]
    },
    {
     "name": "stdout",
     "output_type": "stream",
     "text": [
      "=================================================================\n",
      "Initiating mass download request.\n"
     ]
    },
    {
     "name": "stderr",
     "output_type": "stream",
     "text": [
      "[2021-11-25 00:51:13,388] - obspy.clients.fdsn.mass_downloader - INFO: Client 'GEONET' - Successfully requested availability (0.60 seconds)\n",
      "[2021-11-25 00:51:13,403] - obspy.clients.fdsn.mass_downloader - INFO: Client 'GEONET' - Found 1 stations (1 channels).\n",
      "[2021-11-25 00:51:13,408] - obspy.clients.fdsn.mass_downloader - INFO: Client 'GEONET' - Will attempt to download data from 1 stations.\n",
      "[2021-11-25 00:51:13,410] - obspy.clients.fdsn.mass_downloader - INFO: Client 'GEONET' - Status for 1 time intervals/channels before downloading: NEEDS_DOWNLOADING\n",
      "[2021-11-25 00:51:14,215] - obspy.clients.fdsn.mass_downloader - INFO: Client 'GEONET' - Successfully downloaded 1 channels (of 1)\n",
      "[2021-11-25 00:51:14,219] - obspy.clients.fdsn.mass_downloader - INFO: Client 'GEONET' - Launching basic QC checks...\n",
      "[2021-11-25 00:51:14,230] - obspy.clients.fdsn.mass_downloader - INFO: Client 'GEONET' - Downloaded 0.0 MB [4.40 KB/sec] of data, 0.0 MB of which were discarded afterwards.\n",
      "[2021-11-25 00:51:14,231] - obspy.clients.fdsn.mass_downloader - INFO: Client 'GEONET' - Status for 1 time intervals/channels after downloading: DOWNLOADED\n",
      "[2021-11-25 00:51:14,234] - obspy.clients.fdsn.mass_downloader - INFO: Client 'GEONET' - No station information to download.\n",
      "[2021-11-25 00:51:14,236] - obspy.clients.fdsn.mass_downloader - INFO: ============================== Final report\n",
      "[2021-11-25 00:51:14,237] - obspy.clients.fdsn.mass_downloader - INFO: 0 MiniSEED files [0.0 MB] already existed.\n",
      "[2021-11-25 00:51:14,238] - obspy.clients.fdsn.mass_downloader - INFO: 1 StationXML files [0.0 MB] already existed.\n",
      "[2021-11-25 00:51:14,239] - obspy.clients.fdsn.mass_downloader - INFO: Client 'GEONET' - Acquired 1 MiniSEED files [0.0 MB].\n",
      "[2021-11-25 00:51:14,240] - obspy.clients.fdsn.mass_downloader - INFO: Client 'GEONET' - Acquired 0 StationXML files [0.0 MB].\n",
      "[2021-11-25 00:51:14,240] - obspy.clients.fdsn.mass_downloader - INFO: Downloaded 0.0 MB in total.\n",
      "[2021-11-25 00:51:14,250] - obspy.clients.fdsn.mass_downloader - INFO: Initializing FDSN client(s) for GEONET.\n",
      "[2021-11-25 00:51:14,270] - obspy.clients.fdsn.mass_downloader - INFO: Successfully initialized 1 client(s): GEONET.\n",
      "[2021-11-25 00:51:14,275] - obspy.clients.fdsn.mass_downloader - INFO: Total acquired or preexisting stations: 0\n",
      "[2021-11-25 00:51:14,278] - obspy.clients.fdsn.mass_downloader - INFO: Client 'GEONET' - Requesting unreliable availability.\n"
     ]
    },
    {
     "name": "stdout",
     "output_type": "stream",
     "text": [
      "=================================================================\n",
      "Initiating mass download request.\n"
     ]
    },
    {
     "name": "stderr",
     "output_type": "stream",
     "text": [
      "[2021-11-25 00:51:14,975] - obspy.clients.fdsn.mass_downloader - INFO: Client 'GEONET' - Successfully requested availability (0.69 seconds)\n",
      "[2021-11-25 00:51:15,020] - obspy.clients.fdsn.mass_downloader - INFO: Client 'GEONET' - Found 1 stations (1 channels).\n",
      "[2021-11-25 00:51:15,033] - obspy.clients.fdsn.mass_downloader - INFO: Client 'GEONET' - Will attempt to download data from 1 stations.\n",
      "[2021-11-25 00:51:15,044] - obspy.clients.fdsn.mass_downloader - INFO: Client 'GEONET' - Status for 1 time intervals/channels before downloading: NEEDS_DOWNLOADING\n",
      "[2021-11-25 00:51:16,033] - obspy.clients.fdsn.mass_downloader - INFO: Client 'GEONET' - Successfully downloaded 1 channels (of 1)\n",
      "[2021-11-25 00:51:16,067] - obspy.clients.fdsn.mass_downloader - INFO: Client 'GEONET' - Launching basic QC checks...\n",
      "[2021-11-25 00:51:16,103] - obspy.clients.fdsn.mass_downloader - INFO: Client 'GEONET' - Downloaded 0.0 MB [3.69 KB/sec] of data, 0.0 MB of which were discarded afterwards.\n",
      "[2021-11-25 00:51:16,105] - obspy.clients.fdsn.mass_downloader - INFO: Client 'GEONET' - Status for 1 time intervals/channels after downloading: DOWNLOADED\n",
      "[2021-11-25 00:51:16,118] - obspy.clients.fdsn.mass_downloader - INFO: Client 'GEONET' - No station information to download.\n",
      "[2021-11-25 00:51:16,125] - obspy.clients.fdsn.mass_downloader - INFO: ============================== Final report\n",
      "[2021-11-25 00:51:16,130] - obspy.clients.fdsn.mass_downloader - INFO: 0 MiniSEED files [0.0 MB] already existed.\n",
      "[2021-11-25 00:51:16,133] - obspy.clients.fdsn.mass_downloader - INFO: 1 StationXML files [0.0 MB] already existed.\n",
      "[2021-11-25 00:51:16,134] - obspy.clients.fdsn.mass_downloader - INFO: Client 'GEONET' - Acquired 1 MiniSEED files [0.0 MB].\n",
      "[2021-11-25 00:51:16,134] - obspy.clients.fdsn.mass_downloader - INFO: Client 'GEONET' - Acquired 0 StationXML files [0.0 MB].\n",
      "[2021-11-25 00:51:16,135] - obspy.clients.fdsn.mass_downloader - INFO: Downloaded 0.0 MB in total.\n",
      "[2021-11-25 00:51:16,149] - obspy.clients.fdsn.mass_downloader - INFO: Initializing FDSN client(s) for GEONET.\n",
      "[2021-11-25 00:51:16,168] - obspy.clients.fdsn.mass_downloader - INFO: Successfully initialized 1 client(s): GEONET.\n",
      "[2021-11-25 00:51:16,172] - obspy.clients.fdsn.mass_downloader - INFO: Total acquired or preexisting stations: 0\n",
      "[2021-11-25 00:51:16,176] - obspy.clients.fdsn.mass_downloader - INFO: Client 'GEONET' - Requesting unreliable availability.\n"
     ]
    },
    {
     "name": "stdout",
     "output_type": "stream",
     "text": [
      "=================================================================\n",
      "Initiating mass download request.\n"
     ]
    },
    {
     "name": "stderr",
     "output_type": "stream",
     "text": [
      "[2021-11-25 00:51:16,877] - obspy.clients.fdsn.mass_downloader - INFO: Client 'GEONET' - Successfully requested availability (0.70 seconds)\n",
      "[2021-11-25 00:51:16,896] - obspy.clients.fdsn.mass_downloader - INFO: Client 'GEONET' - Found 1 stations (1 channels).\n",
      "[2021-11-25 00:51:16,911] - obspy.clients.fdsn.mass_downloader - INFO: Client 'GEONET' - Will attempt to download data from 1 stations.\n",
      "[2021-11-25 00:51:16,920] - obspy.clients.fdsn.mass_downloader - INFO: Client 'GEONET' - Status for 1 time intervals/channels before downloading: NEEDS_DOWNLOADING\n",
      "[2021-11-25 00:51:17,827] - obspy.clients.fdsn.mass_downloader - INFO: Client 'GEONET' - Successfully downloaded 1 channels (of 1)\n",
      "[2021-11-25 00:51:17,851] - obspy.clients.fdsn.mass_downloader - INFO: Client 'GEONET' - Launching basic QC checks...\n",
      "[2021-11-25 00:51:17,883] - obspy.clients.fdsn.mass_downloader - INFO: Client 'GEONET' - Downloaded 0.0 MB [3.86 KB/sec] of data, 0.0 MB of which were discarded afterwards.\n",
      "[2021-11-25 00:51:17,889] - obspy.clients.fdsn.mass_downloader - INFO: Client 'GEONET' - Status for 1 time intervals/channels after downloading: DOWNLOADED\n",
      "[2021-11-25 00:51:17,909] - obspy.clients.fdsn.mass_downloader - INFO: Client 'GEONET' - No station information to download.\n",
      "[2021-11-25 00:51:17,932] - obspy.clients.fdsn.mass_downloader - INFO: ============================== Final report\n",
      "[2021-11-25 00:51:17,941] - obspy.clients.fdsn.mass_downloader - INFO: 0 MiniSEED files [0.0 MB] already existed.\n",
      "[2021-11-25 00:51:17,945] - obspy.clients.fdsn.mass_downloader - INFO: 1 StationXML files [0.0 MB] already existed.\n",
      "[2021-11-25 00:51:17,946] - obspy.clients.fdsn.mass_downloader - INFO: Client 'GEONET' - Acquired 1 MiniSEED files [0.0 MB].\n",
      "[2021-11-25 00:51:17,949] - obspy.clients.fdsn.mass_downloader - INFO: Client 'GEONET' - Acquired 0 StationXML files [0.0 MB].\n",
      "[2021-11-25 00:51:17,952] - obspy.clients.fdsn.mass_downloader - INFO: Downloaded 0.0 MB in total.\n",
      "[2021-11-25 00:51:17,972] - obspy.clients.fdsn.mass_downloader - INFO: Initializing FDSN client(s) for GEONET.\n",
      "[2021-11-25 00:51:18,007] - obspy.clients.fdsn.mass_downloader - INFO: Successfully initialized 1 client(s): GEONET.\n",
      "[2021-11-25 00:51:18,018] - obspy.clients.fdsn.mass_downloader - INFO: Total acquired or preexisting stations: 0\n",
      "[2021-11-25 00:51:18,020] - obspy.clients.fdsn.mass_downloader - INFO: Client 'GEONET' - Requesting unreliable availability.\n"
     ]
    },
    {
     "name": "stdout",
     "output_type": "stream",
     "text": [
      "=================================================================\n",
      "Initiating mass download request.\n"
     ]
    },
    {
     "name": "stderr",
     "output_type": "stream",
     "text": [
      "[2021-11-25 00:51:18,625] - obspy.clients.fdsn.mass_downloader - INFO: Client 'GEONET' - Successfully requested availability (0.60 seconds)\n",
      "[2021-11-25 00:51:18,663] - obspy.clients.fdsn.mass_downloader - INFO: Client 'GEONET' - Found 1 stations (1 channels).\n",
      "[2021-11-25 00:51:18,680] - obspy.clients.fdsn.mass_downloader - INFO: Client 'GEONET' - Will attempt to download data from 1 stations.\n",
      "[2021-11-25 00:51:18,696] - obspy.clients.fdsn.mass_downloader - INFO: Client 'GEONET' - Status for 1 time intervals/channels before downloading: NEEDS_DOWNLOADING\n",
      "[2021-11-25 00:51:19,620] - obspy.clients.fdsn.mass_downloader - INFO: Client 'GEONET' - Successfully downloaded 1 channels (of 1)\n",
      "[2021-11-25 00:51:19,681] - obspy.clients.fdsn.mass_downloader - INFO: Client 'GEONET' - Launching basic QC checks...\n",
      "[2021-11-25 00:51:19,739] - obspy.clients.fdsn.mass_downloader - INFO: Client 'GEONET' - Downloaded 0.0 MB [4.32 KB/sec] of data, 0.0 MB of which were discarded afterwards.\n",
      "[2021-11-25 00:51:19,750] - obspy.clients.fdsn.mass_downloader - INFO: Client 'GEONET' - Status for 1 time intervals/channels after downloading: DOWNLOADED\n",
      "[2021-11-25 00:51:19,765] - obspy.clients.fdsn.mass_downloader - INFO: Client 'GEONET' - No station information to download.\n",
      "[2021-11-25 00:51:19,772] - obspy.clients.fdsn.mass_downloader - INFO: ============================== Final report\n",
      "[2021-11-25 00:51:19,774] - obspy.clients.fdsn.mass_downloader - INFO: 0 MiniSEED files [0.0 MB] already existed.\n",
      "[2021-11-25 00:51:19,775] - obspy.clients.fdsn.mass_downloader - INFO: 1 StationXML files [0.0 MB] already existed.\n",
      "[2021-11-25 00:51:19,782] - obspy.clients.fdsn.mass_downloader - INFO: Client 'GEONET' - Acquired 1 MiniSEED files [0.0 MB].\n",
      "[2021-11-25 00:51:19,786] - obspy.clients.fdsn.mass_downloader - INFO: Client 'GEONET' - Acquired 0 StationXML files [0.0 MB].\n",
      "[2021-11-25 00:51:19,789] - obspy.clients.fdsn.mass_downloader - INFO: Downloaded 0.0 MB in total.\n",
      "[2021-11-25 00:51:19,815] - obspy.clients.fdsn.mass_downloader - INFO: Initializing FDSN client(s) for GEONET.\n",
      "[2021-11-25 00:51:19,852] - obspy.clients.fdsn.mass_downloader - INFO: Successfully initialized 1 client(s): GEONET.\n",
      "[2021-11-25 00:51:19,856] - obspy.clients.fdsn.mass_downloader - INFO: Total acquired or preexisting stations: 0\n",
      "[2021-11-25 00:51:19,857] - obspy.clients.fdsn.mass_downloader - INFO: Client 'GEONET' - Requesting unreliable availability.\n"
     ]
    },
    {
     "name": "stdout",
     "output_type": "stream",
     "text": [
      "=================================================================\n",
      "Initiating mass download request.\n"
     ]
    },
    {
     "name": "stderr",
     "output_type": "stream",
     "text": [
      "[2021-11-25 00:51:20,568] - obspy.clients.fdsn.mass_downloader - INFO: Client 'GEONET' - Successfully requested availability (0.71 seconds)\n",
      "[2021-11-25 00:51:20,587] - obspy.clients.fdsn.mass_downloader - INFO: Client 'GEONET' - Found 1 stations (1 channels).\n",
      "[2021-11-25 00:51:20,598] - obspy.clients.fdsn.mass_downloader - INFO: Client 'GEONET' - Will attempt to download data from 1 stations.\n",
      "[2021-11-25 00:51:20,620] - obspy.clients.fdsn.mass_downloader - INFO: Client 'GEONET' - Status for 1 time intervals/channels before downloading: NEEDS_DOWNLOADING\n",
      "[2021-11-25 00:51:21,564] - obspy.clients.fdsn.mass_downloader - INFO: Client 'GEONET' - Successfully downloaded 1 channels (of 1)\n",
      "[2021-11-25 00:51:21,623] - obspy.clients.fdsn.mass_downloader - INFO: Client 'GEONET' - Launching basic QC checks...\n",
      "[2021-11-25 00:51:21,686] - obspy.clients.fdsn.mass_downloader - INFO: Client 'GEONET' - Downloaded 0.0 MB [4.64 KB/sec] of data, 0.0 MB of which were discarded afterwards.\n",
      "[2021-11-25 00:51:21,703] - obspy.clients.fdsn.mass_downloader - INFO: Client 'GEONET' - Status for 1 time intervals/channels after downloading: DOWNLOADED\n",
      "[2021-11-25 00:51:21,711] - obspy.clients.fdsn.mass_downloader - INFO: Client 'GEONET' - No station information to download.\n",
      "[2021-11-25 00:51:21,715] - obspy.clients.fdsn.mass_downloader - INFO: ============================== Final report\n",
      "[2021-11-25 00:51:21,721] - obspy.clients.fdsn.mass_downloader - INFO: 0 MiniSEED files [0.0 MB] already existed.\n",
      "[2021-11-25 00:51:21,725] - obspy.clients.fdsn.mass_downloader - INFO: 1 StationXML files [0.0 MB] already existed.\n",
      "[2021-11-25 00:51:21,726] - obspy.clients.fdsn.mass_downloader - INFO: Client 'GEONET' - Acquired 1 MiniSEED files [0.0 MB].\n",
      "[2021-11-25 00:51:21,732] - obspy.clients.fdsn.mass_downloader - INFO: Client 'GEONET' - Acquired 0 StationXML files [0.0 MB].\n",
      "[2021-11-25 00:51:21,732] - obspy.clients.fdsn.mass_downloader - INFO: Downloaded 0.0 MB in total.\n",
      "[2021-11-25 00:51:21,789] - obspy.clients.fdsn.mass_downloader - INFO: Initializing FDSN client(s) for GEONET.\n",
      "[2021-11-25 00:51:21,883] - obspy.clients.fdsn.mass_downloader - INFO: Successfully initialized 1 client(s): GEONET.\n",
      "[2021-11-25 00:51:21,896] - obspy.clients.fdsn.mass_downloader - INFO: Total acquired or preexisting stations: 0\n",
      "[2021-11-25 00:51:21,899] - obspy.clients.fdsn.mass_downloader - INFO: Client 'GEONET' - Requesting unreliable availability.\n"
     ]
    },
    {
     "name": "stdout",
     "output_type": "stream",
     "text": [
      "=================================================================\n",
      "Initiating mass download request.\n"
     ]
    },
    {
     "name": "stderr",
     "output_type": "stream",
     "text": [
      "[2021-11-25 00:51:22,588] - obspy.clients.fdsn.mass_downloader - INFO: Client 'GEONET' - Successfully requested availability (0.69 seconds)\n",
      "[2021-11-25 00:51:22,626] - obspy.clients.fdsn.mass_downloader - INFO: Client 'GEONET' - Found 1 stations (1 channels).\n",
      "[2021-11-25 00:51:22,639] - obspy.clients.fdsn.mass_downloader - INFO: Client 'GEONET' - Will attempt to download data from 1 stations.\n",
      "[2021-11-25 00:51:22,645] - obspy.clients.fdsn.mass_downloader - INFO: Client 'GEONET' - Status for 1 time intervals/channels before downloading: NEEDS_DOWNLOADING\n",
      "[2021-11-25 00:51:23,635] - obspy.clients.fdsn.mass_downloader - INFO: Client 'GEONET' - Successfully downloaded 1 channels (of 1)\n",
      "[2021-11-25 00:51:23,721] - obspy.clients.fdsn.mass_downloader - INFO: Client 'GEONET' - Launching basic QC checks...\n",
      "[2021-11-25 00:51:23,768] - obspy.clients.fdsn.mass_downloader - INFO: Client 'GEONET' - Downloaded 0.0 MB [3.47 KB/sec] of data, 0.0 MB of which were discarded afterwards.\n",
      "[2021-11-25 00:51:23,787] - obspy.clients.fdsn.mass_downloader - INFO: Client 'GEONET' - Status for 1 time intervals/channels after downloading: DOWNLOADED\n",
      "[2021-11-25 00:51:23,799] - obspy.clients.fdsn.mass_downloader - INFO: Client 'GEONET' - No station information to download.\n",
      "[2021-11-25 00:51:23,809] - obspy.clients.fdsn.mass_downloader - INFO: ============================== Final report\n",
      "[2021-11-25 00:51:23,819] - obspy.clients.fdsn.mass_downloader - INFO: 0 MiniSEED files [0.0 MB] already existed.\n",
      "[2021-11-25 00:51:23,824] - obspy.clients.fdsn.mass_downloader - INFO: 1 StationXML files [0.0 MB] already existed.\n",
      "[2021-11-25 00:51:23,827] - obspy.clients.fdsn.mass_downloader - INFO: Client 'GEONET' - Acquired 1 MiniSEED files [0.0 MB].\n",
      "[2021-11-25 00:51:23,830] - obspy.clients.fdsn.mass_downloader - INFO: Client 'GEONET' - Acquired 0 StationXML files [0.0 MB].\n",
      "[2021-11-25 00:51:23,830] - obspy.clients.fdsn.mass_downloader - INFO: Downloaded 0.0 MB in total.\n",
      "[2021-11-25 00:51:23,841] - obspy.clients.fdsn.mass_downloader - INFO: Initializing FDSN client(s) for GEONET.\n",
      "[2021-11-25 00:51:23,875] - obspy.clients.fdsn.mass_downloader - INFO: Successfully initialized 1 client(s): GEONET.\n",
      "[2021-11-25 00:51:23,879] - obspy.clients.fdsn.mass_downloader - INFO: Total acquired or preexisting stations: 0\n",
      "[2021-11-25 00:51:23,881] - obspy.clients.fdsn.mass_downloader - INFO: Client 'GEONET' - Requesting unreliable availability.\n"
     ]
    },
    {
     "name": "stdout",
     "output_type": "stream",
     "text": [
      "=================================================================\n",
      "Initiating mass download request.\n"
     ]
    },
    {
     "name": "stderr",
     "output_type": "stream",
     "text": [
      "[2021-11-25 00:51:24,607] - obspy.clients.fdsn.mass_downloader - INFO: Client 'GEONET' - Successfully requested availability (0.73 seconds)\n",
      "[2021-11-25 00:51:24,696] - obspy.clients.fdsn.mass_downloader - INFO: Client 'GEONET' - Found 1 stations (1 channels).\n",
      "[2021-11-25 00:51:24,727] - obspy.clients.fdsn.mass_downloader - INFO: Client 'GEONET' - Will attempt to download data from 1 stations.\n",
      "[2021-11-25 00:51:24,768] - obspy.clients.fdsn.mass_downloader - INFO: Client 'GEONET' - Status for 1 time intervals/channels before downloading: NEEDS_DOWNLOADING\n",
      "[2021-11-25 00:51:25,888] - obspy.clients.fdsn.mass_downloader - INFO: Client 'GEONET' - Successfully downloaded 1 channels (of 1)\n",
      "[2021-11-25 00:51:25,977] - obspy.clients.fdsn.mass_downloader - INFO: Client 'GEONET' - Launching basic QC checks...\n",
      "[2021-11-25 00:51:26,104] - obspy.clients.fdsn.mass_downloader - INFO: Client 'GEONET' - Downloaded 0.0 MB [5.30 KB/sec] of data, 0.0 MB of which were discarded afterwards.\n",
      "[2021-11-25 00:51:26,121] - obspy.clients.fdsn.mass_downloader - INFO: Client 'GEONET' - Status for 1 time intervals/channels after downloading: DOWNLOADED\n",
      "[2021-11-25 00:51:26,190] - obspy.clients.fdsn.mass_downloader - INFO: Client 'GEONET' - No station information to download.\n",
      "[2021-11-25 00:51:26,207] - obspy.clients.fdsn.mass_downloader - INFO: ============================== Final report\n",
      "[2021-11-25 00:51:26,220] - obspy.clients.fdsn.mass_downloader - INFO: 0 MiniSEED files [0.0 MB] already existed.\n",
      "[2021-11-25 00:51:26,229] - obspy.clients.fdsn.mass_downloader - INFO: 1 StationXML files [0.0 MB] already existed.\n",
      "[2021-11-25 00:51:26,229] - obspy.clients.fdsn.mass_downloader - INFO: Client 'GEONET' - Acquired 1 MiniSEED files [0.0 MB].\n",
      "[2021-11-25 00:51:26,230] - obspy.clients.fdsn.mass_downloader - INFO: Client 'GEONET' - Acquired 0 StationXML files [0.0 MB].\n",
      "[2021-11-25 00:51:26,236] - obspy.clients.fdsn.mass_downloader - INFO: Downloaded 0.0 MB in total.\n",
      "[2021-11-25 00:51:26,271] - obspy.clients.fdsn.mass_downloader - INFO: Initializing FDSN client(s) for GEONET.\n",
      "[2021-11-25 00:51:26,320] - obspy.clients.fdsn.mass_downloader - INFO: Successfully initialized 1 client(s): GEONET.\n",
      "[2021-11-25 00:51:26,336] - obspy.clients.fdsn.mass_downloader - INFO: Total acquired or preexisting stations: 0\n",
      "[2021-11-25 00:51:26,345] - obspy.clients.fdsn.mass_downloader - INFO: Client 'GEONET' - Requesting unreliable availability.\n"
     ]
    },
    {
     "name": "stdout",
     "output_type": "stream",
     "text": [
      "=================================================================\n",
      "Initiating mass download request.\n"
     ]
    },
    {
     "name": "stderr",
     "output_type": "stream",
     "text": [
      "[2021-11-25 00:51:27,048] - obspy.clients.fdsn.mass_downloader - INFO: Client 'GEONET' - Successfully requested availability (0.70 seconds)\n",
      "[2021-11-25 00:51:27,151] - obspy.clients.fdsn.mass_downloader - INFO: Client 'GEONET' - Found 1 stations (1 channels).\n",
      "[2021-11-25 00:51:27,178] - obspy.clients.fdsn.mass_downloader - INFO: Client 'GEONET' - Will attempt to download data from 1 stations.\n",
      "[2021-11-25 00:51:27,209] - obspy.clients.fdsn.mass_downloader - INFO: Client 'GEONET' - Status for 1 time intervals/channels before downloading: NEEDS_DOWNLOADING\n",
      "[2021-11-25 00:51:28,261] - obspy.clients.fdsn.mass_downloader - INFO: Client 'GEONET' - Successfully downloaded 1 channels (of 1)\n",
      "[2021-11-25 00:51:28,340] - obspy.clients.fdsn.mass_downloader - INFO: Client 'GEONET' - Launching basic QC checks...\n",
      "[2021-11-25 00:51:28,419] - obspy.clients.fdsn.mass_downloader - INFO: Client 'GEONET' - Downloaded 0.0 MB [3.18 KB/sec] of data, 0.0 MB of which were discarded afterwards.\n",
      "[2021-11-25 00:51:28,427] - obspy.clients.fdsn.mass_downloader - INFO: Client 'GEONET' - Status for 1 time intervals/channels after downloading: DOWNLOADED\n",
      "[2021-11-25 00:51:28,455] - obspy.clients.fdsn.mass_downloader - INFO: Client 'GEONET' - No station information to download.\n",
      "[2021-11-25 00:51:28,460] - obspy.clients.fdsn.mass_downloader - INFO: ============================== Final report\n",
      "[2021-11-25 00:51:28,470] - obspy.clients.fdsn.mass_downloader - INFO: 0 MiniSEED files [0.0 MB] already existed.\n",
      "[2021-11-25 00:51:28,473] - obspy.clients.fdsn.mass_downloader - INFO: 1 StationXML files [0.0 MB] already existed.\n",
      "[2021-11-25 00:51:28,474] - obspy.clients.fdsn.mass_downloader - INFO: Client 'GEONET' - Acquired 1 MiniSEED files [0.0 MB].\n",
      "[2021-11-25 00:51:28,478] - obspy.clients.fdsn.mass_downloader - INFO: Client 'GEONET' - Acquired 0 StationXML files [0.0 MB].\n",
      "[2021-11-25 00:51:28,479] - obspy.clients.fdsn.mass_downloader - INFO: Downloaded 0.0 MB in total.\n",
      "[2021-11-25 00:51:28,504] - obspy.clients.fdsn.mass_downloader - INFO: Initializing FDSN client(s) for GEONET.\n",
      "[2021-11-25 00:51:28,538] - obspy.clients.fdsn.mass_downloader - INFO: Successfully initialized 1 client(s): GEONET.\n",
      "[2021-11-25 00:51:28,545] - obspy.clients.fdsn.mass_downloader - INFO: Total acquired or preexisting stations: 0\n",
      "[2021-11-25 00:51:28,548] - obspy.clients.fdsn.mass_downloader - INFO: Client 'GEONET' - Requesting unreliable availability.\n"
     ]
    },
    {
     "name": "stdout",
     "output_type": "stream",
     "text": [
      "=================================================================\n",
      "Initiating mass download request.\n"
     ]
    },
    {
     "name": "stderr",
     "output_type": "stream",
     "text": [
      "[2021-11-25 00:51:30,120] - obspy.clients.fdsn.mass_downloader - INFO: Client 'GEONET' - Successfully requested availability (1.57 seconds)\n",
      "[2021-11-25 00:51:30,126] - obspy.clients.fdsn.mass_downloader - INFO: Client 'GEONET' - Found 1 stations (1 channels).\n",
      "[2021-11-25 00:51:30,132] - obspy.clients.fdsn.mass_downloader - INFO: Client 'GEONET' - Will attempt to download data from 1 stations.\n",
      "[2021-11-25 00:51:30,134] - obspy.clients.fdsn.mass_downloader - INFO: Client 'GEONET' - Status for 1 time intervals/channels before downloading: NEEDS_DOWNLOADING\n",
      "[2021-11-25 00:51:31,080] - obspy.clients.fdsn.mass_downloader - INFO: Client 'GEONET' - Successfully downloaded 1 channels (of 1)\n",
      "[2021-11-25 00:51:31,092] - obspy.clients.fdsn.mass_downloader - INFO: Client 'GEONET' - Launching basic QC checks...\n",
      "[2021-11-25 00:51:31,102] - obspy.clients.fdsn.mass_downloader - INFO: Client 'GEONET' - Downloaded 0.0 MB [4.23 KB/sec] of data, 0.0 MB of which were discarded afterwards.\n",
      "[2021-11-25 00:51:31,103] - obspy.clients.fdsn.mass_downloader - INFO: Client 'GEONET' - Status for 1 time intervals/channels after downloading: DOWNLOADED\n",
      "[2021-11-25 00:51:31,112] - obspy.clients.fdsn.mass_downloader - INFO: Client 'GEONET' - No station information to download.\n",
      "[2021-11-25 00:51:31,118] - obspy.clients.fdsn.mass_downloader - INFO: ============================== Final report\n",
      "[2021-11-25 00:51:31,120] - obspy.clients.fdsn.mass_downloader - INFO: 0 MiniSEED files [0.0 MB] already existed.\n",
      "[2021-11-25 00:51:31,120] - obspy.clients.fdsn.mass_downloader - INFO: 1 StationXML files [0.0 MB] already existed.\n",
      "[2021-11-25 00:51:31,121] - obspy.clients.fdsn.mass_downloader - INFO: Client 'GEONET' - Acquired 1 MiniSEED files [0.0 MB].\n",
      "[2021-11-25 00:51:31,122] - obspy.clients.fdsn.mass_downloader - INFO: Client 'GEONET' - Acquired 0 StationXML files [0.0 MB].\n",
      "[2021-11-25 00:51:31,123] - obspy.clients.fdsn.mass_downloader - INFO: Downloaded 0.0 MB in total.\n",
      "[2021-11-25 00:51:31,138] - obspy.clients.fdsn.mass_downloader - INFO: Initializing FDSN client(s) for GEONET.\n",
      "[2021-11-25 00:51:31,155] - obspy.clients.fdsn.mass_downloader - INFO: Successfully initialized 1 client(s): GEONET.\n",
      "[2021-11-25 00:51:31,159] - obspy.clients.fdsn.mass_downloader - INFO: Total acquired or preexisting stations: 0\n",
      "[2021-11-25 00:51:31,161] - obspy.clients.fdsn.mass_downloader - INFO: Client 'GEONET' - Requesting unreliable availability.\n"
     ]
    },
    {
     "name": "stdout",
     "output_type": "stream",
     "text": [
      "=================================================================\n",
      "Initiating mass download request.\n"
     ]
    },
    {
     "name": "stderr",
     "output_type": "stream",
     "text": [
      "[2021-11-25 00:51:31,904] - obspy.clients.fdsn.mass_downloader - INFO: Client 'GEONET' - Successfully requested availability (0.74 seconds)\n",
      "[2021-11-25 00:51:31,927] - obspy.clients.fdsn.mass_downloader - INFO: Client 'GEONET' - Found 1 stations (1 channels).\n",
      "[2021-11-25 00:51:31,943] - obspy.clients.fdsn.mass_downloader - INFO: Client 'GEONET' - Will attempt to download data from 1 stations.\n",
      "[2021-11-25 00:51:31,949] - obspy.clients.fdsn.mass_downloader - INFO: Client 'GEONET' - Status for 1 time intervals/channels before downloading: NEEDS_DOWNLOADING\n",
      "[2021-11-25 00:51:32,919] - obspy.clients.fdsn.mass_downloader - INFO: Client 'GEONET' - Successfully downloaded 1 channels (of 1)\n",
      "[2021-11-25 00:51:32,967] - obspy.clients.fdsn.mass_downloader - INFO: Client 'GEONET' - Launching basic QC checks...\n",
      "[2021-11-25 00:51:32,998] - obspy.clients.fdsn.mass_downloader - INFO: Client 'GEONET' - Downloaded 0.0 MB [3.09 KB/sec] of data, 0.0 MB of which were discarded afterwards.\n",
      "[2021-11-25 00:51:33,005] - obspy.clients.fdsn.mass_downloader - INFO: Client 'GEONET' - Status for 1 time intervals/channels after downloading: DOWNLOADED\n",
      "[2021-11-25 00:51:33,012] - obspy.clients.fdsn.mass_downloader - INFO: Client 'GEONET' - No station information to download.\n",
      "[2021-11-25 00:51:33,016] - obspy.clients.fdsn.mass_downloader - INFO: ============================== Final report\n",
      "[2021-11-25 00:51:33,020] - obspy.clients.fdsn.mass_downloader - INFO: 0 MiniSEED files [0.0 MB] already existed.\n",
      "[2021-11-25 00:51:33,026] - obspy.clients.fdsn.mass_downloader - INFO: 1 StationXML files [0.0 MB] already existed.\n",
      "[2021-11-25 00:51:33,027] - obspy.clients.fdsn.mass_downloader - INFO: Client 'GEONET' - Acquired 1 MiniSEED files [0.0 MB].\n",
      "[2021-11-25 00:51:33,027] - obspy.clients.fdsn.mass_downloader - INFO: Client 'GEONET' - Acquired 0 StationXML files [0.0 MB].\n",
      "[2021-11-25 00:51:33,028] - obspy.clients.fdsn.mass_downloader - INFO: Downloaded 0.0 MB in total.\n",
      "[2021-11-25 00:51:33,053] - obspy.clients.fdsn.mass_downloader - INFO: Initializing FDSN client(s) for GEONET.\n",
      "[2021-11-25 00:51:33,080] - obspy.clients.fdsn.mass_downloader - INFO: Successfully initialized 1 client(s): GEONET.\n",
      "[2021-11-25 00:51:33,087] - obspy.clients.fdsn.mass_downloader - INFO: Total acquired or preexisting stations: 0\n",
      "[2021-11-25 00:51:33,088] - obspy.clients.fdsn.mass_downloader - INFO: Client 'GEONET' - Requesting unreliable availability.\n"
     ]
    },
    {
     "name": "stdout",
     "output_type": "stream",
     "text": [
      "=================================================================\n",
      "Initiating mass download request.\n"
     ]
    },
    {
     "name": "stderr",
     "output_type": "stream",
     "text": [
      "[2021-11-25 00:51:33,668] - obspy.clients.fdsn.mass_downloader - INFO: Client 'GEONET' - Successfully requested availability (0.58 seconds)\n",
      "[2021-11-25 00:51:33,681] - obspy.clients.fdsn.mass_downloader - INFO: Client 'GEONET' - Found 1 stations (1 channels).\n",
      "[2021-11-25 00:51:33,688] - obspy.clients.fdsn.mass_downloader - INFO: Client 'GEONET' - Will attempt to download data from 1 stations.\n",
      "[2021-11-25 00:51:33,696] - obspy.clients.fdsn.mass_downloader - INFO: Client 'GEONET' - Status for 1 time intervals/channels before downloading: NEEDS_DOWNLOADING\n",
      "[2021-11-25 00:51:34,702] - obspy.clients.fdsn.mass_downloader - INFO: Client 'GEONET' - Successfully downloaded 1 channels (of 1)\n",
      "[2021-11-25 00:51:34,783] - obspy.clients.fdsn.mass_downloader - INFO: Client 'GEONET' - Launching basic QC checks...\n",
      "[2021-11-25 00:51:34,859] - obspy.clients.fdsn.mass_downloader - INFO: Client 'GEONET' - Downloaded 0.0 MB [3.74 KB/sec] of data, 0.0 MB of which were discarded afterwards.\n",
      "[2021-11-25 00:51:34,868] - obspy.clients.fdsn.mass_downloader - INFO: Client 'GEONET' - Status for 1 time intervals/channels after downloading: DOWNLOADED\n",
      "[2021-11-25 00:51:34,882] - obspy.clients.fdsn.mass_downloader - INFO: Client 'GEONET' - No station information to download.\n",
      "[2021-11-25 00:51:34,894] - obspy.clients.fdsn.mass_downloader - INFO: ============================== Final report\n",
      "[2021-11-25 00:51:34,899] - obspy.clients.fdsn.mass_downloader - INFO: 0 MiniSEED files [0.0 MB] already existed.\n",
      "[2021-11-25 00:51:34,906] - obspy.clients.fdsn.mass_downloader - INFO: 1 StationXML files [0.0 MB] already existed.\n",
      "[2021-11-25 00:51:34,907] - obspy.clients.fdsn.mass_downloader - INFO: Client 'GEONET' - Acquired 1 MiniSEED files [0.0 MB].\n",
      "[2021-11-25 00:51:34,914] - obspy.clients.fdsn.mass_downloader - INFO: Client 'GEONET' - Acquired 0 StationXML files [0.0 MB].\n",
      "[2021-11-25 00:51:34,915] - obspy.clients.fdsn.mass_downloader - INFO: Downloaded 0.0 MB in total.\n",
      "[2021-11-25 00:51:34,938] - obspy.clients.fdsn.mass_downloader - INFO: Initializing FDSN client(s) for GEONET.\n",
      "[2021-11-25 00:51:34,990] - obspy.clients.fdsn.mass_downloader - INFO: Successfully initialized 1 client(s): GEONET.\n",
      "[2021-11-25 00:51:35,001] - obspy.clients.fdsn.mass_downloader - INFO: Total acquired or preexisting stations: 0\n",
      "[2021-11-25 00:51:35,009] - obspy.clients.fdsn.mass_downloader - INFO: Client 'GEONET' - Requesting unreliable availability.\n"
     ]
    },
    {
     "name": "stdout",
     "output_type": "stream",
     "text": [
      "=================================================================\n",
      "Initiating mass download request.\n"
     ]
    },
    {
     "name": "stderr",
     "output_type": "stream",
     "text": [
      "[2021-11-25 00:51:35,759] - obspy.clients.fdsn.mass_downloader - INFO: Client 'GEONET' - Successfully requested availability (0.74 seconds)\n",
      "[2021-11-25 00:51:35,797] - obspy.clients.fdsn.mass_downloader - INFO: Client 'GEONET' - Found 1 stations (1 channels).\n",
      "[2021-11-25 00:51:35,812] - obspy.clients.fdsn.mass_downloader - INFO: Client 'GEONET' - Will attempt to download data from 1 stations.\n",
      "[2021-11-25 00:51:35,829] - obspy.clients.fdsn.mass_downloader - INFO: Client 'GEONET' - Status for 1 time intervals/channels before downloading: NEEDS_DOWNLOADING\n",
      "[2021-11-25 00:51:36,738] - obspy.clients.fdsn.mass_downloader - INFO: Client 'GEONET' - Successfully downloaded 1 channels (of 1)\n",
      "[2021-11-25 00:51:36,742] - obspy.clients.fdsn.mass_downloader - INFO: Client 'GEONET' - Launching basic QC checks...\n",
      "[2021-11-25 00:51:36,751] - obspy.clients.fdsn.mass_downloader - INFO: Client 'GEONET' - Downloaded 0.0 MB [3.41 KB/sec] of data, 0.0 MB of which were discarded afterwards.\n",
      "[2021-11-25 00:51:36,752] - obspy.clients.fdsn.mass_downloader - INFO: Client 'GEONET' - Status for 1 time intervals/channels after downloading: DOWNLOADED\n",
      "[2021-11-25 00:51:36,755] - obspy.clients.fdsn.mass_downloader - INFO: Client 'GEONET' - No station information to download.\n",
      "[2021-11-25 00:51:36,756] - obspy.clients.fdsn.mass_downloader - INFO: ============================== Final report\n",
      "[2021-11-25 00:51:36,756] - obspy.clients.fdsn.mass_downloader - INFO: 0 MiniSEED files [0.0 MB] already existed.\n",
      "[2021-11-25 00:51:36,756] - obspy.clients.fdsn.mass_downloader - INFO: 1 StationXML files [0.0 MB] already existed.\n",
      "[2021-11-25 00:51:36,757] - obspy.clients.fdsn.mass_downloader - INFO: Client 'GEONET' - Acquired 1 MiniSEED files [0.0 MB].\n",
      "[2021-11-25 00:51:36,757] - obspy.clients.fdsn.mass_downloader - INFO: Client 'GEONET' - Acquired 0 StationXML files [0.0 MB].\n",
      "[2021-11-25 00:51:36,757] - obspy.clients.fdsn.mass_downloader - INFO: Downloaded 0.0 MB in total.\n",
      "[2021-11-25 00:51:36,760] - obspy.clients.fdsn.mass_downloader - INFO: Initializing FDSN client(s) for GEONET.\n",
      "[2021-11-25 00:51:36,774] - obspy.clients.fdsn.mass_downloader - INFO: Successfully initialized 1 client(s): GEONET.\n",
      "[2021-11-25 00:51:36,777] - obspy.clients.fdsn.mass_downloader - INFO: Total acquired or preexisting stations: 0\n",
      "[2021-11-25 00:51:36,779] - obspy.clients.fdsn.mass_downloader - INFO: Client 'GEONET' - Requesting unreliable availability.\n"
     ]
    },
    {
     "name": "stdout",
     "output_type": "stream",
     "text": [
      "=================================================================\n",
      "Initiating mass download request.\n"
     ]
    },
    {
     "name": "stderr",
     "output_type": "stream",
     "text": [
      "[2021-11-25 00:51:37,438] - obspy.clients.fdsn.mass_downloader - INFO: Client 'GEONET' - Successfully requested availability (0.66 seconds)\n",
      "[2021-11-25 00:51:37,439] - obspy.clients.fdsn.mass_downloader - INFO: Client 'GEONET' - Found 1 stations (1 channels).\n",
      "[2021-11-25 00:51:37,440] - obspy.clients.fdsn.mass_downloader - INFO: Client 'GEONET' - Will attempt to download data from 1 stations.\n",
      "[2021-11-25 00:51:37,441] - obspy.clients.fdsn.mass_downloader - INFO: Client 'GEONET' - Status for 1 time intervals/channels before downloading: NEEDS_DOWNLOADING\n",
      "[2021-11-25 00:51:38,397] - obspy.clients.fdsn.mass_downloader - INFO: Client 'GEONET' - Successfully downloaded 1 channels (of 1)\n",
      "[2021-11-25 00:51:38,406] - obspy.clients.fdsn.mass_downloader - INFO: Client 'GEONET' - Launching basic QC checks...\n",
      "[2021-11-25 00:51:38,420] - obspy.clients.fdsn.mass_downloader - INFO: Client 'GEONET' - Downloaded 0.0 MB [4.15 KB/sec] of data, 0.0 MB of which were discarded afterwards.\n",
      "[2021-11-25 00:51:38,420] - obspy.clients.fdsn.mass_downloader - INFO: Client 'GEONET' - Status for 1 time intervals/channels after downloading: DOWNLOADED\n",
      "[2021-11-25 00:51:38,423] - obspy.clients.fdsn.mass_downloader - INFO: Client 'GEONET' - No station information to download.\n",
      "[2021-11-25 00:51:38,424] - obspy.clients.fdsn.mass_downloader - INFO: ============================== Final report\n",
      "[2021-11-25 00:51:38,424] - obspy.clients.fdsn.mass_downloader - INFO: 0 MiniSEED files [0.0 MB] already existed.\n",
      "[2021-11-25 00:51:38,425] - obspy.clients.fdsn.mass_downloader - INFO: 1 StationXML files [0.0 MB] already existed.\n",
      "[2021-11-25 00:51:38,425] - obspy.clients.fdsn.mass_downloader - INFO: Client 'GEONET' - Acquired 1 MiniSEED files [0.0 MB].\n",
      "[2021-11-25 00:51:38,425] - obspy.clients.fdsn.mass_downloader - INFO: Client 'GEONET' - Acquired 0 StationXML files [0.0 MB].\n",
      "[2021-11-25 00:51:38,426] - obspy.clients.fdsn.mass_downloader - INFO: Downloaded 0.0 MB in total.\n",
      "[2021-11-25 00:51:38,431] - obspy.clients.fdsn.mass_downloader - INFO: Initializing FDSN client(s) for GEONET.\n",
      "[2021-11-25 00:51:38,435] - obspy.clients.fdsn.mass_downloader - INFO: Successfully initialized 1 client(s): GEONET.\n",
      "[2021-11-25 00:51:38,436] - obspy.clients.fdsn.mass_downloader - INFO: Total acquired or preexisting stations: 0\n",
      "[2021-11-25 00:51:38,436] - obspy.clients.fdsn.mass_downloader - INFO: Client 'GEONET' - Requesting unreliable availability.\n"
     ]
    },
    {
     "name": "stdout",
     "output_type": "stream",
     "text": [
      "=================================================================\n",
      "Initiating mass download request.\n"
     ]
    },
    {
     "name": "stderr",
     "output_type": "stream",
     "text": [
      "[2021-11-25 00:51:39,069] - obspy.clients.fdsn.mass_downloader - INFO: Client 'GEONET' - Successfully requested availability (0.63 seconds)\n",
      "[2021-11-25 00:51:39,070] - obspy.clients.fdsn.mass_downloader - INFO: Client 'GEONET' - Found 1 stations (1 channels).\n",
      "[2021-11-25 00:51:39,071] - obspy.clients.fdsn.mass_downloader - INFO: Client 'GEONET' - Will attempt to download data from 1 stations.\n",
      "[2021-11-25 00:51:39,071] - obspy.clients.fdsn.mass_downloader - INFO: Client 'GEONET' - Status for 1 time intervals/channels before downloading: NEEDS_DOWNLOADING\n",
      "[2021-11-25 00:51:40,163] - obspy.clients.fdsn.mass_downloader - INFO: Client 'GEONET' - Successfully downloaded 1 channels (of 1)\n",
      "[2021-11-25 00:51:40,166] - obspy.clients.fdsn.mass_downloader - INFO: Client 'GEONET' - Launching basic QC checks...\n",
      "[2021-11-25 00:51:40,173] - obspy.clients.fdsn.mass_downloader - INFO: Client 'GEONET' - Downloaded 0.0 MB [3.20 KB/sec] of data, 0.0 MB of which were discarded afterwards.\n",
      "[2021-11-25 00:51:40,174] - obspy.clients.fdsn.mass_downloader - INFO: Client 'GEONET' - Status for 1 time intervals/channels after downloading: DOWNLOADED\n",
      "[2021-11-25 00:51:40,177] - obspy.clients.fdsn.mass_downloader - INFO: Client 'GEONET' - No station information to download.\n",
      "[2021-11-25 00:51:40,178] - obspy.clients.fdsn.mass_downloader - INFO: ============================== Final report\n",
      "[2021-11-25 00:51:40,179] - obspy.clients.fdsn.mass_downloader - INFO: 0 MiniSEED files [0.0 MB] already existed.\n",
      "[2021-11-25 00:51:40,179] - obspy.clients.fdsn.mass_downloader - INFO: 1 StationXML files [0.0 MB] already existed.\n",
      "[2021-11-25 00:51:40,179] - obspy.clients.fdsn.mass_downloader - INFO: Client 'GEONET' - Acquired 1 MiniSEED files [0.0 MB].\n",
      "[2021-11-25 00:51:40,180] - obspy.clients.fdsn.mass_downloader - INFO: Client 'GEONET' - Acquired 0 StationXML files [0.0 MB].\n",
      "[2021-11-25 00:51:40,183] - obspy.clients.fdsn.mass_downloader - INFO: Downloaded 0.0 MB in total.\n",
      "[2021-11-25 00:51:40,186] - obspy.clients.fdsn.mass_downloader - INFO: Initializing FDSN client(s) for GEONET.\n",
      "[2021-11-25 00:51:40,190] - obspy.clients.fdsn.mass_downloader - INFO: Successfully initialized 1 client(s): GEONET.\n",
      "[2021-11-25 00:51:40,190] - obspy.clients.fdsn.mass_downloader - INFO: Total acquired or preexisting stations: 0\n",
      "[2021-11-25 00:51:40,191] - obspy.clients.fdsn.mass_downloader - INFO: Client 'GEONET' - Requesting unreliable availability.\n"
     ]
    },
    {
     "name": "stdout",
     "output_type": "stream",
     "text": [
      "=================================================================\n",
      "Initiating mass download request.\n"
     ]
    },
    {
     "name": "stderr",
     "output_type": "stream",
     "text": [
      "[2021-11-25 00:51:40,762] - obspy.clients.fdsn.mass_downloader - INFO: Client 'GEONET' - Successfully requested availability (0.57 seconds)\n",
      "[2021-11-25 00:51:40,763] - obspy.clients.fdsn.mass_downloader - INFO: Client 'GEONET' - Found 1 stations (1 channels).\n",
      "[2021-11-25 00:51:40,763] - obspy.clients.fdsn.mass_downloader - INFO: Client 'GEONET' - Will attempt to download data from 1 stations.\n",
      "[2021-11-25 00:51:40,763] - obspy.clients.fdsn.mass_downloader - INFO: Client 'GEONET' - Status for 1 time intervals/channels before downloading: NEEDS_DOWNLOADING\n",
      "[2021-11-25 00:51:41,579] - obspy.clients.fdsn.mass_downloader - INFO: Client 'GEONET' - Successfully downloaded 1 channels (of 1)\n",
      "[2021-11-25 00:51:41,582] - obspy.clients.fdsn.mass_downloader - INFO: Client 'GEONET' - Launching basic QC checks...\n",
      "[2021-11-25 00:51:41,586] - obspy.clients.fdsn.mass_downloader - INFO: Client 'GEONET' - Downloaded 0.0 MB [3.67 KB/sec] of data, 0.0 MB of which were discarded afterwards.\n",
      "[2021-11-25 00:51:41,586] - obspy.clients.fdsn.mass_downloader - INFO: Client 'GEONET' - Status for 1 time intervals/channels after downloading: DOWNLOADED\n",
      "[2021-11-25 00:51:41,588] - obspy.clients.fdsn.mass_downloader - INFO: Client 'GEONET' - No station information to download.\n",
      "[2021-11-25 00:51:41,589] - obspy.clients.fdsn.mass_downloader - INFO: ============================== Final report\n",
      "[2021-11-25 00:51:41,589] - obspy.clients.fdsn.mass_downloader - INFO: 0 MiniSEED files [0.0 MB] already existed.\n",
      "[2021-11-25 00:51:41,589] - obspy.clients.fdsn.mass_downloader - INFO: 1 StationXML files [0.0 MB] already existed.\n",
      "[2021-11-25 00:51:41,590] - obspy.clients.fdsn.mass_downloader - INFO: Client 'GEONET' - Acquired 1 MiniSEED files [0.0 MB].\n",
      "[2021-11-25 00:51:41,590] - obspy.clients.fdsn.mass_downloader - INFO: Client 'GEONET' - Acquired 0 StationXML files [0.0 MB].\n",
      "[2021-11-25 00:51:41,590] - obspy.clients.fdsn.mass_downloader - INFO: Downloaded 0.0 MB in total.\n",
      "[2021-11-25 00:51:41,597] - obspy.clients.fdsn.mass_downloader - INFO: Initializing FDSN client(s) for GEONET.\n",
      "[2021-11-25 00:51:41,600] - obspy.clients.fdsn.mass_downloader - INFO: Successfully initialized 1 client(s): GEONET.\n",
      "[2021-11-25 00:51:41,601] - obspy.clients.fdsn.mass_downloader - INFO: Total acquired or preexisting stations: 0\n",
      "[2021-11-25 00:51:41,601] - obspy.clients.fdsn.mass_downloader - INFO: Client 'GEONET' - Requesting unreliable availability.\n"
     ]
    },
    {
     "name": "stdout",
     "output_type": "stream",
     "text": [
      "=================================================================\n",
      "Initiating mass download request.\n"
     ]
    },
    {
     "name": "stderr",
     "output_type": "stream",
     "text": [
      "[2021-11-25 00:51:42,219] - obspy.clients.fdsn.mass_downloader - INFO: Client 'GEONET' - Successfully requested availability (0.62 seconds)\n",
      "[2021-11-25 00:51:42,221] - obspy.clients.fdsn.mass_downloader - INFO: Client 'GEONET' - Found 1 stations (1 channels).\n",
      "[2021-11-25 00:51:42,223] - obspy.clients.fdsn.mass_downloader - INFO: Client 'GEONET' - Will attempt to download data from 1 stations.\n",
      "[2021-11-25 00:51:42,225] - obspy.clients.fdsn.mass_downloader - INFO: Client 'GEONET' - Status for 1 time intervals/channels before downloading: NEEDS_DOWNLOADING\n",
      "[2021-11-25 00:51:43,091] - obspy.clients.fdsn.mass_downloader - INFO: Client 'GEONET' - Successfully downloaded 1 channels (of 1)\n",
      "[2021-11-25 00:51:43,094] - obspy.clients.fdsn.mass_downloader - INFO: Client 'GEONET' - Launching basic QC checks...\n",
      "[2021-11-25 00:51:43,102] - obspy.clients.fdsn.mass_downloader - INFO: Client 'GEONET' - Downloaded 0.0 MB [4.65 KB/sec] of data, 0.0 MB of which were discarded afterwards.\n",
      "[2021-11-25 00:51:43,102] - obspy.clients.fdsn.mass_downloader - INFO: Client 'GEONET' - Status for 1 time intervals/channels after downloading: DOWNLOADED\n",
      "[2021-11-25 00:51:43,114] - obspy.clients.fdsn.mass_downloader - INFO: Client 'GEONET' - No station information to download.\n",
      "[2021-11-25 00:51:43,115] - obspy.clients.fdsn.mass_downloader - INFO: ============================== Final report\n",
      "[2021-11-25 00:51:43,115] - obspy.clients.fdsn.mass_downloader - INFO: 0 MiniSEED files [0.0 MB] already existed.\n",
      "[2021-11-25 00:51:43,116] - obspy.clients.fdsn.mass_downloader - INFO: 1 StationXML files [0.0 MB] already existed.\n",
      "[2021-11-25 00:51:43,116] - obspy.clients.fdsn.mass_downloader - INFO: Client 'GEONET' - Acquired 1 MiniSEED files [0.0 MB].\n",
      "[2021-11-25 00:51:43,117] - obspy.clients.fdsn.mass_downloader - INFO: Client 'GEONET' - Acquired 0 StationXML files [0.0 MB].\n",
      "[2021-11-25 00:51:43,117] - obspy.clients.fdsn.mass_downloader - INFO: Downloaded 0.0 MB in total.\n",
      "[2021-11-25 00:51:43,124] - obspy.clients.fdsn.mass_downloader - INFO: Initializing FDSN client(s) for GEONET.\n",
      "[2021-11-25 00:51:43,127] - obspy.clients.fdsn.mass_downloader - INFO: Successfully initialized 1 client(s): GEONET.\n",
      "[2021-11-25 00:51:43,127] - obspy.clients.fdsn.mass_downloader - INFO: Total acquired or preexisting stations: 0\n",
      "[2021-11-25 00:51:43,128] - obspy.clients.fdsn.mass_downloader - INFO: Client 'GEONET' - Requesting unreliable availability.\n"
     ]
    },
    {
     "name": "stdout",
     "output_type": "stream",
     "text": [
      "=================================================================\n",
      "Initiating mass download request.\n"
     ]
    },
    {
     "name": "stderr",
     "output_type": "stream",
     "text": [
      "[2021-11-25 00:51:43,717] - obspy.clients.fdsn.mass_downloader - INFO: Client 'GEONET' - Successfully requested availability (0.59 seconds)\n",
      "[2021-11-25 00:51:43,718] - obspy.clients.fdsn.mass_downloader - INFO: Client 'GEONET' - Found 1 stations (1 channels).\n",
      "[2021-11-25 00:51:43,718] - obspy.clients.fdsn.mass_downloader - INFO: Client 'GEONET' - Will attempt to download data from 1 stations.\n",
      "[2021-11-25 00:51:43,719] - obspy.clients.fdsn.mass_downloader - INFO: Client 'GEONET' - Status for 1 time intervals/channels before downloading: NEEDS_DOWNLOADING\n",
      "[2021-11-25 00:51:44,682] - obspy.clients.fdsn.mass_downloader - INFO: Client 'GEONET' - Successfully downloaded 1 channels (of 1)\n",
      "[2021-11-25 00:51:44,778] - obspy.clients.fdsn.mass_downloader - INFO: Client 'GEONET' - Launching basic QC checks...\n",
      "[2021-11-25 00:51:44,852] - obspy.clients.fdsn.mass_downloader - INFO: Client 'GEONET' - Downloaded 0.0 MB [4.73 KB/sec] of data, 0.0 MB of which were discarded afterwards.\n",
      "[2021-11-25 00:51:44,860] - obspy.clients.fdsn.mass_downloader - INFO: Client 'GEONET' - Status for 1 time intervals/channels after downloading: DOWNLOADED\n",
      "[2021-11-25 00:51:44,895] - obspy.clients.fdsn.mass_downloader - INFO: Client 'GEONET' - No station information to download.\n",
      "[2021-11-25 00:51:44,915] - obspy.clients.fdsn.mass_downloader - INFO: ============================== Final report\n",
      "[2021-11-25 00:51:44,916] - obspy.clients.fdsn.mass_downloader - INFO: 0 MiniSEED files [0.0 MB] already existed.\n",
      "[2021-11-25 00:51:44,920] - obspy.clients.fdsn.mass_downloader - INFO: 1 StationXML files [0.0 MB] already existed.\n",
      "[2021-11-25 00:51:44,921] - obspy.clients.fdsn.mass_downloader - INFO: Client 'GEONET' - Acquired 1 MiniSEED files [0.0 MB].\n",
      "[2021-11-25 00:51:44,922] - obspy.clients.fdsn.mass_downloader - INFO: Client 'GEONET' - Acquired 0 StationXML files [0.0 MB].\n",
      "[2021-11-25 00:51:44,922] - obspy.clients.fdsn.mass_downloader - INFO: Downloaded 0.0 MB in total.\n",
      "[2021-11-25 00:51:45,014] - obspy.clients.fdsn.mass_downloader - INFO: Initializing FDSN client(s) for GEONET.\n",
      "[2021-11-25 00:51:45,057] - obspy.clients.fdsn.mass_downloader - INFO: Successfully initialized 1 client(s): GEONET.\n",
      "[2021-11-25 00:51:45,077] - obspy.clients.fdsn.mass_downloader - INFO: Total acquired or preexisting stations: 0\n",
      "[2021-11-25 00:51:45,088] - obspy.clients.fdsn.mass_downloader - INFO: Client 'GEONET' - Requesting unreliable availability.\n"
     ]
    },
    {
     "name": "stdout",
     "output_type": "stream",
     "text": [
      "=================================================================\n",
      "Initiating mass download request.\n"
     ]
    },
    {
     "name": "stderr",
     "output_type": "stream",
     "text": [
      "[2021-11-25 00:51:45,786] - obspy.clients.fdsn.mass_downloader - INFO: Client 'GEONET' - Successfully requested availability (0.68 seconds)\n",
      "[2021-11-25 00:51:45,836] - obspy.clients.fdsn.mass_downloader - INFO: Client 'GEONET' - Found 1 stations (1 channels).\n",
      "[2021-11-25 00:51:45,848] - obspy.clients.fdsn.mass_downloader - INFO: Client 'GEONET' - Will attempt to download data from 1 stations.\n",
      "[2021-11-25 00:51:45,855] - obspy.clients.fdsn.mass_downloader - INFO: Client 'GEONET' - Status for 1 time intervals/channels before downloading: NEEDS_DOWNLOADING\n",
      "[2021-11-25 00:51:46,751] - obspy.clients.fdsn.mass_downloader - INFO: Client 'GEONET' - Successfully downloaded 1 channels (of 1)\n",
      "[2021-11-25 00:51:46,815] - obspy.clients.fdsn.mass_downloader - INFO: Client 'GEONET' - Launching basic QC checks...\n",
      "[2021-11-25 00:51:46,882] - obspy.clients.fdsn.mass_downloader - INFO: Client 'GEONET' - Downloaded 0.0 MB [3.77 KB/sec] of data, 0.0 MB of which were discarded afterwards.\n",
      "[2021-11-25 00:51:46,894] - obspy.clients.fdsn.mass_downloader - INFO: Client 'GEONET' - Status for 1 time intervals/channels after downloading: DOWNLOADED\n",
      "[2021-11-25 00:51:46,915] - obspy.clients.fdsn.mass_downloader - INFO: Client 'GEONET' - No station information to download.\n",
      "[2021-11-25 00:51:46,931] - obspy.clients.fdsn.mass_downloader - INFO: ============================== Final report\n",
      "[2021-11-25 00:51:46,935] - obspy.clients.fdsn.mass_downloader - INFO: 0 MiniSEED files [0.0 MB] already existed.\n",
      "[2021-11-25 00:51:46,945] - obspy.clients.fdsn.mass_downloader - INFO: 1 StationXML files [0.0 MB] already existed.\n",
      "[2021-11-25 00:51:46,951] - obspy.clients.fdsn.mass_downloader - INFO: Client 'GEONET' - Acquired 1 MiniSEED files [0.0 MB].\n",
      "[2021-11-25 00:51:46,960] - obspy.clients.fdsn.mass_downloader - INFO: Client 'GEONET' - Acquired 0 StationXML files [0.0 MB].\n",
      "[2021-11-25 00:51:46,962] - obspy.clients.fdsn.mass_downloader - INFO: Downloaded 0.0 MB in total.\n",
      "[2021-11-25 00:51:46,999] - obspy.clients.fdsn.mass_downloader - INFO: Initializing FDSN client(s) for GEONET.\n",
      "[2021-11-25 00:51:47,048] - obspy.clients.fdsn.mass_downloader - INFO: Successfully initialized 1 client(s): GEONET.\n",
      "[2021-11-25 00:51:47,052] - obspy.clients.fdsn.mass_downloader - INFO: Total acquired or preexisting stations: 0\n",
      "[2021-11-25 00:51:47,056] - obspy.clients.fdsn.mass_downloader - INFO: Client 'GEONET' - Requesting unreliable availability.\n"
     ]
    },
    {
     "name": "stdout",
     "output_type": "stream",
     "text": [
      "=================================================================\n",
      "Initiating mass download request.\n"
     ]
    },
    {
     "name": "stderr",
     "output_type": "stream",
     "text": [
      "[2021-11-25 00:51:47,678] - obspy.clients.fdsn.mass_downloader - INFO: Client 'GEONET' - Successfully requested availability (0.62 seconds)\n",
      "[2021-11-25 00:51:47,698] - obspy.clients.fdsn.mass_downloader - INFO: Client 'GEONET' - Found 1 stations (1 channels).\n",
      "[2021-11-25 00:51:47,704] - obspy.clients.fdsn.mass_downloader - INFO: Client 'GEONET' - Will attempt to download data from 1 stations.\n",
      "[2021-11-25 00:51:47,710] - obspy.clients.fdsn.mass_downloader - INFO: Client 'GEONET' - Status for 1 time intervals/channels before downloading: NEEDS_DOWNLOADING\n",
      "[2021-11-25 00:51:48,676] - obspy.clients.fdsn.mass_downloader - INFO: Client 'GEONET' - Successfully downloaded 1 channels (of 1)\n",
      "[2021-11-25 00:51:48,698] - obspy.clients.fdsn.mass_downloader - INFO: Client 'GEONET' - Launching basic QC checks...\n",
      "[2021-11-25 00:51:48,727] - obspy.clients.fdsn.mass_downloader - INFO: Client 'GEONET' - Downloaded 0.0 MB [4.66 KB/sec] of data, 0.0 MB of which were discarded afterwards.\n",
      "[2021-11-25 00:51:48,729] - obspy.clients.fdsn.mass_downloader - INFO: Client 'GEONET' - Status for 1 time intervals/channels after downloading: DOWNLOADED\n",
      "[2021-11-25 00:51:48,737] - obspy.clients.fdsn.mass_downloader - INFO: Client 'GEONET' - No station information to download.\n",
      "[2021-11-25 00:51:48,742] - obspy.clients.fdsn.mass_downloader - INFO: ============================== Final report\n",
      "[2021-11-25 00:51:48,744] - obspy.clients.fdsn.mass_downloader - INFO: 0 MiniSEED files [0.0 MB] already existed.\n",
      "[2021-11-25 00:51:48,745] - obspy.clients.fdsn.mass_downloader - INFO: 1 StationXML files [0.0 MB] already existed.\n",
      "[2021-11-25 00:51:48,746] - obspy.clients.fdsn.mass_downloader - INFO: Client 'GEONET' - Acquired 1 MiniSEED files [0.0 MB].\n",
      "[2021-11-25 00:51:48,747] - obspy.clients.fdsn.mass_downloader - INFO: Client 'GEONET' - Acquired 0 StationXML files [0.0 MB].\n",
      "[2021-11-25 00:51:48,747] - obspy.clients.fdsn.mass_downloader - INFO: Downloaded 0.0 MB in total.\n",
      "[2021-11-25 00:51:48,764] - obspy.clients.fdsn.mass_downloader - INFO: Initializing FDSN client(s) for GEONET.\n",
      "[2021-11-25 00:51:48,776] - obspy.clients.fdsn.mass_downloader - INFO: Successfully initialized 1 client(s): GEONET.\n",
      "[2021-11-25 00:51:48,781] - obspy.clients.fdsn.mass_downloader - INFO: Total acquired or preexisting stations: 0\n",
      "[2021-11-25 00:51:48,782] - obspy.clients.fdsn.mass_downloader - INFO: Client 'GEONET' - Requesting unreliable availability.\n"
     ]
    },
    {
     "name": "stdout",
     "output_type": "stream",
     "text": [
      "=================================================================\n",
      "Initiating mass download request.\n"
     ]
    },
    {
     "name": "stderr",
     "output_type": "stream",
     "text": [
      "[2021-11-25 00:51:49,391] - obspy.clients.fdsn.mass_downloader - INFO: Client 'GEONET' - Successfully requested availability (0.61 seconds)\n",
      "[2021-11-25 00:51:49,438] - obspy.clients.fdsn.mass_downloader - INFO: Client 'GEONET' - Found 1 stations (1 channels).\n",
      "[2021-11-25 00:51:49,450] - obspy.clients.fdsn.mass_downloader - INFO: Client 'GEONET' - Will attempt to download data from 1 stations.\n",
      "[2021-11-25 00:51:49,459] - obspy.clients.fdsn.mass_downloader - INFO: Client 'GEONET' - Status for 1 time intervals/channels before downloading: NEEDS_DOWNLOADING\n",
      "[2021-11-25 00:51:50,351] - obspy.clients.fdsn.mass_downloader - INFO: Client 'GEONET' - Successfully downloaded 1 channels (of 1)\n",
      "[2021-11-25 00:51:50,383] - obspy.clients.fdsn.mass_downloader - INFO: Client 'GEONET' - Launching basic QC checks...\n",
      "[2021-11-25 00:51:50,423] - obspy.clients.fdsn.mass_downloader - INFO: Client 'GEONET' - Downloaded 0.0 MB [3.95 KB/sec] of data, 0.0 MB of which were discarded afterwards.\n",
      "[2021-11-25 00:51:50,428] - obspy.clients.fdsn.mass_downloader - INFO: Client 'GEONET' - Status for 1 time intervals/channels after downloading: DOWNLOADED\n",
      "[2021-11-25 00:51:50,475] - obspy.clients.fdsn.mass_downloader - INFO: Client 'GEONET' - No station information to download.\n",
      "[2021-11-25 00:51:50,483] - obspy.clients.fdsn.mass_downloader - INFO: ============================== Final report\n",
      "[2021-11-25 00:51:50,488] - obspy.clients.fdsn.mass_downloader - INFO: 0 MiniSEED files [0.0 MB] already existed.\n",
      "[2021-11-25 00:51:50,491] - obspy.clients.fdsn.mass_downloader - INFO: 1 StationXML files [0.0 MB] already existed.\n",
      "[2021-11-25 00:51:50,492] - obspy.clients.fdsn.mass_downloader - INFO: Client 'GEONET' - Acquired 1 MiniSEED files [0.0 MB].\n",
      "[2021-11-25 00:51:50,496] - obspy.clients.fdsn.mass_downloader - INFO: Client 'GEONET' - Acquired 0 StationXML files [0.0 MB].\n",
      "[2021-11-25 00:51:50,501] - obspy.clients.fdsn.mass_downloader - INFO: Downloaded 0.0 MB in total.\n",
      "[2021-11-25 00:51:50,531] - obspy.clients.fdsn.mass_downloader - INFO: Initializing FDSN client(s) for GEONET.\n",
      "[2021-11-25 00:51:50,606] - obspy.clients.fdsn.mass_downloader - INFO: Successfully initialized 1 client(s): GEONET.\n",
      "[2021-11-25 00:51:50,618] - obspy.clients.fdsn.mass_downloader - INFO: Total acquired or preexisting stations: 0\n",
      "[2021-11-25 00:51:50,619] - obspy.clients.fdsn.mass_downloader - INFO: Client 'GEONET' - Requesting unreliable availability.\n"
     ]
    },
    {
     "name": "stdout",
     "output_type": "stream",
     "text": [
      "=================================================================\n",
      "Initiating mass download request.\n"
     ]
    },
    {
     "name": "stderr",
     "output_type": "stream",
     "text": [
      "[2021-11-25 00:51:51,222] - obspy.clients.fdsn.mass_downloader - INFO: Client 'GEONET' - Successfully requested availability (0.60 seconds)\n",
      "[2021-11-25 00:51:51,249] - obspy.clients.fdsn.mass_downloader - INFO: Client 'GEONET' - Found 1 stations (1 channels).\n",
      "[2021-11-25 00:51:51,257] - obspy.clients.fdsn.mass_downloader - INFO: Client 'GEONET' - Will attempt to download data from 1 stations.\n",
      "[2021-11-25 00:51:51,264] - obspy.clients.fdsn.mass_downloader - INFO: Client 'GEONET' - Status for 1 time intervals/channels before downloading: NEEDS_DOWNLOADING\n",
      "[2021-11-25 00:51:52,343] - obspy.clients.fdsn.mass_downloader - INFO: Client 'GEONET' - Successfully downloaded 1 channels (of 1)\n",
      "[2021-11-25 00:51:52,399] - obspy.clients.fdsn.mass_downloader - INFO: Client 'GEONET' - Launching basic QC checks...\n",
      "[2021-11-25 00:51:52,445] - obspy.clients.fdsn.mass_downloader - INFO: Client 'GEONET' - Downloaded 0.0 MB [4.52 KB/sec] of data, 0.0 MB of which were discarded afterwards.\n",
      "[2021-11-25 00:51:52,452] - obspy.clients.fdsn.mass_downloader - INFO: Client 'GEONET' - Status for 1 time intervals/channels after downloading: DOWNLOADED\n",
      "[2021-11-25 00:51:52,465] - obspy.clients.fdsn.mass_downloader - INFO: Client 'GEONET' - No station information to download.\n",
      "[2021-11-25 00:51:52,474] - obspy.clients.fdsn.mass_downloader - INFO: ============================== Final report\n",
      "[2021-11-25 00:51:52,479] - obspy.clients.fdsn.mass_downloader - INFO: 0 MiniSEED files [0.0 MB] already existed.\n",
      "[2021-11-25 00:51:52,481] - obspy.clients.fdsn.mass_downloader - INFO: 1 StationXML files [0.0 MB] already existed.\n",
      "[2021-11-25 00:51:52,482] - obspy.clients.fdsn.mass_downloader - INFO: Client 'GEONET' - Acquired 1 MiniSEED files [0.0 MB].\n",
      "[2021-11-25 00:51:52,483] - obspy.clients.fdsn.mass_downloader - INFO: Client 'GEONET' - Acquired 0 StationXML files [0.0 MB].\n",
      "[2021-11-25 00:51:52,483] - obspy.clients.fdsn.mass_downloader - INFO: Downloaded 0.0 MB in total.\n",
      "[2021-11-25 00:51:52,492] - obspy.clients.fdsn.mass_downloader - INFO: Initializing FDSN client(s) for GEONET.\n",
      "[2021-11-25 00:51:52,551] - obspy.clients.fdsn.mass_downloader - INFO: Successfully initialized 1 client(s): GEONET.\n",
      "[2021-11-25 00:51:52,559] - obspy.clients.fdsn.mass_downloader - INFO: Total acquired or preexisting stations: 0\n",
      "[2021-11-25 00:51:52,561] - obspy.clients.fdsn.mass_downloader - INFO: Client 'GEONET' - Requesting unreliable availability.\n"
     ]
    },
    {
     "name": "stdout",
     "output_type": "stream",
     "text": [
      "=================================================================\n",
      "Initiating mass download request.\n"
     ]
    },
    {
     "name": "stderr",
     "output_type": "stream",
     "text": [
      "[2021-11-25 00:51:53,224] - obspy.clients.fdsn.mass_downloader - INFO: Client 'GEONET' - Successfully requested availability (0.66 seconds)\n",
      "[2021-11-25 00:51:53,240] - obspy.clients.fdsn.mass_downloader - INFO: Client 'GEONET' - Found 1 stations (1 channels).\n",
      "[2021-11-25 00:51:53,250] - obspy.clients.fdsn.mass_downloader - INFO: Client 'GEONET' - Will attempt to download data from 1 stations.\n",
      "[2021-11-25 00:51:53,264] - obspy.clients.fdsn.mass_downloader - INFO: Client 'GEONET' - Status for 1 time intervals/channels before downloading: NEEDS_DOWNLOADING\n",
      "[2021-11-25 00:51:54,209] - obspy.clients.fdsn.mass_downloader - INFO: Client 'GEONET' - Successfully downloaded 1 channels (of 1)\n",
      "[2021-11-25 00:51:54,253] - obspy.clients.fdsn.mass_downloader - INFO: Client 'GEONET' - Launching basic QC checks...\n",
      "[2021-11-25 00:51:54,292] - obspy.clients.fdsn.mass_downloader - INFO: Client 'GEONET' - Downloaded 0.0 MB [3.72 KB/sec] of data, 0.0 MB of which were discarded afterwards.\n",
      "[2021-11-25 00:51:54,295] - obspy.clients.fdsn.mass_downloader - INFO: Client 'GEONET' - Status for 1 time intervals/channels after downloading: DOWNLOADED\n",
      "[2021-11-25 00:51:54,317] - obspy.clients.fdsn.mass_downloader - INFO: Client 'GEONET' - No station information to download.\n",
      "[2021-11-25 00:51:54,324] - obspy.clients.fdsn.mass_downloader - INFO: ============================== Final report\n",
      "[2021-11-25 00:51:54,327] - obspy.clients.fdsn.mass_downloader - INFO: 0 MiniSEED files [0.0 MB] already existed.\n",
      "[2021-11-25 00:51:54,331] - obspy.clients.fdsn.mass_downloader - INFO: 1 StationXML files [0.0 MB] already existed.\n",
      "[2021-11-25 00:51:54,333] - obspy.clients.fdsn.mass_downloader - INFO: Client 'GEONET' - Acquired 1 MiniSEED files [0.0 MB].\n",
      "[2021-11-25 00:51:54,336] - obspy.clients.fdsn.mass_downloader - INFO: Client 'GEONET' - Acquired 0 StationXML files [0.0 MB].\n",
      "[2021-11-25 00:51:54,336] - obspy.clients.fdsn.mass_downloader - INFO: Downloaded 0.0 MB in total.\n",
      "[2021-11-25 00:51:54,365] - obspy.clients.fdsn.mass_downloader - INFO: Initializing FDSN client(s) for GEONET.\n",
      "[2021-11-25 00:51:54,402] - obspy.clients.fdsn.mass_downloader - INFO: Successfully initialized 1 client(s): GEONET.\n",
      "[2021-11-25 00:51:54,406] - obspy.clients.fdsn.mass_downloader - INFO: Total acquired or preexisting stations: 0\n",
      "[2021-11-25 00:51:54,409] - obspy.clients.fdsn.mass_downloader - INFO: Client 'GEONET' - Requesting unreliable availability.\n"
     ]
    },
    {
     "name": "stdout",
     "output_type": "stream",
     "text": [
      "=================================================================\n",
      "Initiating mass download request.\n"
     ]
    },
    {
     "name": "stderr",
     "output_type": "stream",
     "text": [
      "[2021-11-25 00:51:55,054] - obspy.clients.fdsn.mass_downloader - INFO: Client 'GEONET' - Successfully requested availability (0.64 seconds)\n",
      "[2021-11-25 00:51:55,089] - obspy.clients.fdsn.mass_downloader - INFO: Client 'GEONET' - Found 1 stations (1 channels).\n",
      "[2021-11-25 00:51:55,106] - obspy.clients.fdsn.mass_downloader - INFO: Client 'GEONET' - Will attempt to download data from 1 stations.\n",
      "[2021-11-25 00:51:55,121] - obspy.clients.fdsn.mass_downloader - INFO: Client 'GEONET' - Status for 1 time intervals/channels before downloading: NEEDS_DOWNLOADING\n",
      "[2021-11-25 00:51:56,055] - obspy.clients.fdsn.mass_downloader - INFO: Client 'GEONET' - Successfully downloaded 1 channels (of 1)\n",
      "[2021-11-25 00:51:56,154] - obspy.clients.fdsn.mass_downloader - INFO: Client 'GEONET' - Launching basic QC checks...\n",
      "[2021-11-25 00:51:56,191] - obspy.clients.fdsn.mass_downloader - INFO: Client 'GEONET' - Downloaded 0.0 MB [4.09 KB/sec] of data, 0.0 MB of which were discarded afterwards.\n",
      "[2021-11-25 00:51:56,193] - obspy.clients.fdsn.mass_downloader - INFO: Client 'GEONET' - Status for 1 time intervals/channels after downloading: DOWNLOADED\n",
      "[2021-11-25 00:51:56,204] - obspy.clients.fdsn.mass_downloader - INFO: Client 'GEONET' - No station information to download.\n",
      "[2021-11-25 00:51:56,209] - obspy.clients.fdsn.mass_downloader - INFO: ============================== Final report\n",
      "[2021-11-25 00:51:56,210] - obspy.clients.fdsn.mass_downloader - INFO: 0 MiniSEED files [0.0 MB] already existed.\n",
      "[2021-11-25 00:51:56,211] - obspy.clients.fdsn.mass_downloader - INFO: 1 StationXML files [0.0 MB] already existed.\n",
      "[2021-11-25 00:51:56,212] - obspy.clients.fdsn.mass_downloader - INFO: Client 'GEONET' - Acquired 1 MiniSEED files [0.0 MB].\n",
      "[2021-11-25 00:51:56,212] - obspy.clients.fdsn.mass_downloader - INFO: Client 'GEONET' - Acquired 0 StationXML files [0.0 MB].\n",
      "[2021-11-25 00:51:56,212] - obspy.clients.fdsn.mass_downloader - INFO: Downloaded 0.0 MB in total.\n",
      "[2021-11-25 00:51:56,234] - obspy.clients.fdsn.mass_downloader - INFO: Initializing FDSN client(s) for GEONET.\n",
      "[2021-11-25 00:51:56,288] - obspy.clients.fdsn.mass_downloader - INFO: Successfully initialized 1 client(s): GEONET.\n",
      "[2021-11-25 00:51:56,292] - obspy.clients.fdsn.mass_downloader - INFO: Total acquired or preexisting stations: 0\n",
      "[2021-11-25 00:51:56,297] - obspy.clients.fdsn.mass_downloader - INFO: Client 'GEONET' - Requesting unreliable availability.\n"
     ]
    },
    {
     "name": "stdout",
     "output_type": "stream",
     "text": [
      "=================================================================\n",
      "Initiating mass download request.\n"
     ]
    },
    {
     "name": "stderr",
     "output_type": "stream",
     "text": [
      "[2021-11-25 00:51:56,977] - obspy.clients.fdsn.mass_downloader - INFO: Client 'GEONET' - Successfully requested availability (0.68 seconds)\n",
      "[2021-11-25 00:51:57,036] - obspy.clients.fdsn.mass_downloader - INFO: Client 'GEONET' - Found 1 stations (1 channels).\n",
      "[2021-11-25 00:51:57,052] - obspy.clients.fdsn.mass_downloader - INFO: Client 'GEONET' - Will attempt to download data from 1 stations.\n",
      "[2021-11-25 00:51:57,079] - obspy.clients.fdsn.mass_downloader - INFO: Client 'GEONET' - Status for 1 time intervals/channels before downloading: NEEDS_DOWNLOADING\n",
      "[2021-11-25 00:51:58,158] - obspy.clients.fdsn.mass_downloader - INFO: Client 'GEONET' - Successfully downloaded 1 channels (of 1)\n",
      "[2021-11-25 00:51:58,245] - obspy.clients.fdsn.mass_downloader - INFO: Client 'GEONET' - Launching basic QC checks...\n",
      "[2021-11-25 00:51:58,344] - obspy.clients.fdsn.mass_downloader - INFO: Client 'GEONET' - Downloaded 0.0 MB [4.05 KB/sec] of data, 0.0 MB of which were discarded afterwards.\n",
      "[2021-11-25 00:51:58,349] - obspy.clients.fdsn.mass_downloader - INFO: Client 'GEONET' - Status for 1 time intervals/channels after downloading: DOWNLOADED\n",
      "[2021-11-25 00:51:58,370] - obspy.clients.fdsn.mass_downloader - INFO: Client 'GEONET' - No station information to download.\n",
      "[2021-11-25 00:51:58,377] - obspy.clients.fdsn.mass_downloader - INFO: ============================== Final report\n",
      "[2021-11-25 00:51:58,380] - obspy.clients.fdsn.mass_downloader - INFO: 0 MiniSEED files [0.0 MB] already existed.\n",
      "[2021-11-25 00:51:58,386] - obspy.clients.fdsn.mass_downloader - INFO: 1 StationXML files [0.0 MB] already existed.\n",
      "[2021-11-25 00:51:58,393] - obspy.clients.fdsn.mass_downloader - INFO: Client 'GEONET' - Acquired 1 MiniSEED files [0.0 MB].\n",
      "[2021-11-25 00:51:58,394] - obspy.clients.fdsn.mass_downloader - INFO: Client 'GEONET' - Acquired 0 StationXML files [0.0 MB].\n",
      "[2021-11-25 00:51:58,394] - obspy.clients.fdsn.mass_downloader - INFO: Downloaded 0.0 MB in total.\n",
      "[2021-11-25 00:51:58,430] - obspy.clients.fdsn.mass_downloader - INFO: Initializing FDSN client(s) for GEONET.\n",
      "[2021-11-25 00:51:58,474] - obspy.clients.fdsn.mass_downloader - INFO: Successfully initialized 1 client(s): GEONET.\n",
      "[2021-11-25 00:51:58,487] - obspy.clients.fdsn.mass_downloader - INFO: Total acquired or preexisting stations: 0\n",
      "[2021-11-25 00:51:58,490] - obspy.clients.fdsn.mass_downloader - INFO: Client 'GEONET' - Requesting unreliable availability.\n"
     ]
    },
    {
     "name": "stdout",
     "output_type": "stream",
     "text": [
      "=================================================================\n",
      "Initiating mass download request.\n"
     ]
    },
    {
     "name": "stderr",
     "output_type": "stream",
     "text": [
      "[2021-11-25 00:51:59,080] - obspy.clients.fdsn.mass_downloader - INFO: Client 'GEONET' - Successfully requested availability (0.59 seconds)\n",
      "[2021-11-25 00:51:59,095] - obspy.clients.fdsn.mass_downloader - INFO: Client 'GEONET' - Found 1 stations (1 channels).\n",
      "[2021-11-25 00:51:59,102] - obspy.clients.fdsn.mass_downloader - INFO: Client 'GEONET' - Will attempt to download data from 1 stations.\n",
      "[2021-11-25 00:51:59,108] - obspy.clients.fdsn.mass_downloader - INFO: Client 'GEONET' - Status for 1 time intervals/channels before downloading: NEEDS_DOWNLOADING\n",
      "[2021-11-25 00:51:59,967] - obspy.clients.fdsn.mass_downloader - INFO: Client 'GEONET' - Successfully downloaded 1 channels (of 1)\n",
      "[2021-11-25 00:52:00,011] - obspy.clients.fdsn.mass_downloader - INFO: Client 'GEONET' - Launching basic QC checks...\n",
      "[2021-11-25 00:52:00,030] - obspy.clients.fdsn.mass_downloader - INFO: Client 'GEONET' - Downloaded 0.0 MB [3.97 KB/sec] of data, 0.0 MB of which were discarded afterwards.\n",
      "[2021-11-25 00:52:00,031] - obspy.clients.fdsn.mass_downloader - INFO: Client 'GEONET' - Status for 1 time intervals/channels after downloading: DOWNLOADED\n",
      "[2021-11-25 00:52:00,039] - obspy.clients.fdsn.mass_downloader - INFO: Client 'GEONET' - No station information to download.\n",
      "[2021-11-25 00:52:00,043] - obspy.clients.fdsn.mass_downloader - INFO: ============================== Final report\n",
      "[2021-11-25 00:52:00,048] - obspy.clients.fdsn.mass_downloader - INFO: 0 MiniSEED files [0.0 MB] already existed.\n",
      "[2021-11-25 00:52:00,049] - obspy.clients.fdsn.mass_downloader - INFO: 1 StationXML files [0.0 MB] already existed.\n",
      "[2021-11-25 00:52:00,050] - obspy.clients.fdsn.mass_downloader - INFO: Client 'GEONET' - Acquired 1 MiniSEED files [0.0 MB].\n",
      "[2021-11-25 00:52:00,050] - obspy.clients.fdsn.mass_downloader - INFO: Client 'GEONET' - Acquired 0 StationXML files [0.0 MB].\n",
      "[2021-11-25 00:52:00,051] - obspy.clients.fdsn.mass_downloader - INFO: Downloaded 0.0 MB in total.\n",
      "[2021-11-25 00:52:00,057] - obspy.clients.fdsn.mass_downloader - INFO: Initializing FDSN client(s) for GEONET.\n",
      "[2021-11-25 00:52:00,072] - obspy.clients.fdsn.mass_downloader - INFO: Successfully initialized 1 client(s): GEONET.\n",
      "[2021-11-25 00:52:00,074] - obspy.clients.fdsn.mass_downloader - INFO: Total acquired or preexisting stations: 0\n",
      "[2021-11-25 00:52:00,075] - obspy.clients.fdsn.mass_downloader - INFO: Client 'GEONET' - Requesting unreliable availability.\n"
     ]
    },
    {
     "name": "stdout",
     "output_type": "stream",
     "text": [
      "=================================================================\n",
      "Initiating mass download request.\n"
     ]
    },
    {
     "name": "stderr",
     "output_type": "stream",
     "text": [
      "[2021-11-25 00:52:00,678] - obspy.clients.fdsn.mass_downloader - INFO: Client 'GEONET' - Successfully requested availability (0.60 seconds)\n",
      "[2021-11-25 00:52:00,683] - obspy.clients.fdsn.mass_downloader - INFO: Client 'GEONET' - Found 1 stations (1 channels).\n",
      "[2021-11-25 00:52:00,684] - obspy.clients.fdsn.mass_downloader - INFO: Client 'GEONET' - Will attempt to download data from 1 stations.\n",
      "[2021-11-25 00:52:00,687] - obspy.clients.fdsn.mass_downloader - INFO: Client 'GEONET' - Status for 1 time intervals/channels before downloading: NEEDS_DOWNLOADING\n",
      "[2021-11-25 00:52:01,863] - obspy.clients.fdsn.mass_downloader - INFO: Client 'GEONET' - Successfully downloaded 1 channels (of 1)\n",
      "[2021-11-25 00:52:01,908] - obspy.clients.fdsn.mass_downloader - INFO: Client 'GEONET' - Launching basic QC checks...\n",
      "[2021-11-25 00:52:01,966] - obspy.clients.fdsn.mass_downloader - INFO: Client 'GEONET' - Downloaded 0.0 MB [6.18 KB/sec] of data, 0.0 MB of which were discarded afterwards.\n",
      "[2021-11-25 00:52:01,972] - obspy.clients.fdsn.mass_downloader - INFO: Client 'GEONET' - Status for 1 time intervals/channels after downloading: DOWNLOADED\n",
      "[2021-11-25 00:52:01,995] - obspy.clients.fdsn.mass_downloader - INFO: Client 'GEONET' - No station information to download.\n",
      "[2021-11-25 00:52:01,998] - obspy.clients.fdsn.mass_downloader - INFO: ============================== Final report\n",
      "[2021-11-25 00:52:02,008] - obspy.clients.fdsn.mass_downloader - INFO: 0 MiniSEED files [0.0 MB] already existed.\n",
      "[2021-11-25 00:52:02,017] - obspy.clients.fdsn.mass_downloader - INFO: 1 StationXML files [0.0 MB] already existed.\n",
      "[2021-11-25 00:52:02,019] - obspy.clients.fdsn.mass_downloader - INFO: Client 'GEONET' - Acquired 1 MiniSEED files [0.0 MB].\n",
      "[2021-11-25 00:52:02,019] - obspy.clients.fdsn.mass_downloader - INFO: Client 'GEONET' - Acquired 0 StationXML files [0.0 MB].\n",
      "[2021-11-25 00:52:02,024] - obspy.clients.fdsn.mass_downloader - INFO: Downloaded 0.0 MB in total.\n",
      "[2021-11-25 00:52:02,037] - obspy.clients.fdsn.mass_downloader - INFO: Initializing FDSN client(s) for GEONET.\n",
      "[2021-11-25 00:52:02,140] - obspy.clients.fdsn.mass_downloader - INFO: Successfully initialized 1 client(s): GEONET.\n",
      "[2021-11-25 00:52:02,175] - obspy.clients.fdsn.mass_downloader - INFO: Total acquired or preexisting stations: 0\n",
      "[2021-11-25 00:52:02,179] - obspy.clients.fdsn.mass_downloader - INFO: Client 'GEONET' - Requesting unreliable availability.\n"
     ]
    },
    {
     "name": "stdout",
     "output_type": "stream",
     "text": [
      "=================================================================\n",
      "Initiating mass download request.\n"
     ]
    },
    {
     "name": "stderr",
     "output_type": "stream",
     "text": [
      "[2021-11-25 00:52:02,810] - obspy.clients.fdsn.mass_downloader - INFO: Client 'GEONET' - Successfully requested availability (0.62 seconds)\n",
      "[2021-11-25 00:52:02,818] - obspy.clients.fdsn.mass_downloader - INFO: Client 'GEONET' - Found 1 stations (1 channels).\n",
      "[2021-11-25 00:52:02,820] - obspy.clients.fdsn.mass_downloader - INFO: Client 'GEONET' - Will attempt to download data from 1 stations.\n",
      "[2021-11-25 00:52:02,821] - obspy.clients.fdsn.mass_downloader - INFO: Client 'GEONET' - Status for 1 time intervals/channels before downloading: NEEDS_DOWNLOADING\n",
      "[2021-11-25 00:52:03,694] - obspy.clients.fdsn.mass_downloader - INFO: Client 'GEONET' - Successfully downloaded 1 channels (of 1)\n",
      "[2021-11-25 00:52:03,723] - obspy.clients.fdsn.mass_downloader - INFO: Client 'GEONET' - Launching basic QC checks...\n",
      "[2021-11-25 00:52:03,737] - obspy.clients.fdsn.mass_downloader - INFO: Client 'GEONET' - Downloaded 0.0 MB [3.35 KB/sec] of data, 0.0 MB of which were discarded afterwards.\n",
      "[2021-11-25 00:52:03,738] - obspy.clients.fdsn.mass_downloader - INFO: Client 'GEONET' - Status for 1 time intervals/channels after downloading: DOWNLOADED\n",
      "[2021-11-25 00:52:03,754] - obspy.clients.fdsn.mass_downloader - INFO: Client 'GEONET' - No station information to download.\n",
      "[2021-11-25 00:52:03,760] - obspy.clients.fdsn.mass_downloader - INFO: ============================== Final report\n",
      "[2021-11-25 00:52:03,765] - obspy.clients.fdsn.mass_downloader - INFO: 0 MiniSEED files [0.0 MB] already existed.\n",
      "[2021-11-25 00:52:03,769] - obspy.clients.fdsn.mass_downloader - INFO: 1 StationXML files [0.0 MB] already existed.\n",
      "[2021-11-25 00:52:03,770] - obspy.clients.fdsn.mass_downloader - INFO: Client 'GEONET' - Acquired 1 MiniSEED files [0.0 MB].\n",
      "[2021-11-25 00:52:03,770] - obspy.clients.fdsn.mass_downloader - INFO: Client 'GEONET' - Acquired 0 StationXML files [0.0 MB].\n",
      "[2021-11-25 00:52:03,771] - obspy.clients.fdsn.mass_downloader - INFO: Downloaded 0.0 MB in total.\n",
      "[2021-11-25 00:52:03,788] - obspy.clients.fdsn.mass_downloader - INFO: Initializing FDSN client(s) for GEONET.\n",
      "[2021-11-25 00:52:03,803] - obspy.clients.fdsn.mass_downloader - INFO: Successfully initialized 1 client(s): GEONET.\n",
      "[2021-11-25 00:52:03,807] - obspy.clients.fdsn.mass_downloader - INFO: Total acquired or preexisting stations: 0\n",
      "[2021-11-25 00:52:03,809] - obspy.clients.fdsn.mass_downloader - INFO: Client 'GEONET' - Requesting unreliable availability.\n"
     ]
    },
    {
     "name": "stdout",
     "output_type": "stream",
     "text": [
      "=================================================================\n",
      "Initiating mass download request.\n"
     ]
    },
    {
     "name": "stderr",
     "output_type": "stream",
     "text": [
      "[2021-11-25 00:52:04,389] - obspy.clients.fdsn.mass_downloader - INFO: Client 'GEONET' - Successfully requested availability (0.58 seconds)\n",
      "[2021-11-25 00:52:04,400] - obspy.clients.fdsn.mass_downloader - INFO: Client 'GEONET' - Found 1 stations (1 channels).\n",
      "[2021-11-25 00:52:04,408] - obspy.clients.fdsn.mass_downloader - INFO: Client 'GEONET' - Will attempt to download data from 1 stations.\n",
      "[2021-11-25 00:52:04,420] - obspy.clients.fdsn.mass_downloader - INFO: Client 'GEONET' - Status for 1 time intervals/channels before downloading: NEEDS_DOWNLOADING\n",
      "[2021-11-25 00:52:05,330] - obspy.clients.fdsn.mass_downloader - INFO: Client 'GEONET' - Successfully downloaded 1 channels (of 1)\n",
      "[2021-11-25 00:52:05,365] - obspy.clients.fdsn.mass_downloader - INFO: Client 'GEONET' - Launching basic QC checks...\n",
      "[2021-11-25 00:52:05,408] - obspy.clients.fdsn.mass_downloader - INFO: Client 'GEONET' - Downloaded 0.0 MB [4.32 KB/sec] of data, 0.0 MB of which were discarded afterwards.\n",
      "[2021-11-25 00:52:05,414] - obspy.clients.fdsn.mass_downloader - INFO: Client 'GEONET' - Status for 1 time intervals/channels after downloading: DOWNLOADED\n",
      "[2021-11-25 00:52:05,425] - obspy.clients.fdsn.mass_downloader - INFO: Client 'GEONET' - No station information to download.\n",
      "[2021-11-25 00:52:05,432] - obspy.clients.fdsn.mass_downloader - INFO: ============================== Final report\n",
      "[2021-11-25 00:52:05,434] - obspy.clients.fdsn.mass_downloader - INFO: 0 MiniSEED files [0.0 MB] already existed.\n",
      "[2021-11-25 00:52:05,435] - obspy.clients.fdsn.mass_downloader - INFO: 1 StationXML files [0.0 MB] already existed.\n",
      "[2021-11-25 00:52:05,442] - obspy.clients.fdsn.mass_downloader - INFO: Client 'GEONET' - Acquired 1 MiniSEED files [0.0 MB].\n",
      "[2021-11-25 00:52:05,442] - obspy.clients.fdsn.mass_downloader - INFO: Client 'GEONET' - Acquired 0 StationXML files [0.0 MB].\n",
      "[2021-11-25 00:52:05,442] - obspy.clients.fdsn.mass_downloader - INFO: Downloaded 0.0 MB in total.\n",
      "[2021-11-25 00:52:05,466] - obspy.clients.fdsn.mass_downloader - INFO: Initializing FDSN client(s) for GEONET.\n",
      "[2021-11-25 00:52:05,511] - obspy.clients.fdsn.mass_downloader - INFO: Successfully initialized 1 client(s): GEONET.\n",
      "[2021-11-25 00:52:05,518] - obspy.clients.fdsn.mass_downloader - INFO: Total acquired or preexisting stations: 0\n",
      "[2021-11-25 00:52:05,525] - obspy.clients.fdsn.mass_downloader - INFO: Client 'GEONET' - Requesting unreliable availability.\n"
     ]
    },
    {
     "name": "stdout",
     "output_type": "stream",
     "text": [
      "=================================================================\n",
      "Initiating mass download request.\n"
     ]
    },
    {
     "name": "stderr",
     "output_type": "stream",
     "text": [
      "[2021-11-25 00:52:06,199] - obspy.clients.fdsn.mass_downloader - INFO: Client 'GEONET' - Successfully requested availability (0.67 seconds)\n",
      "[2021-11-25 00:52:06,213] - obspy.clients.fdsn.mass_downloader - INFO: Client 'GEONET' - Found 1 stations (1 channels).\n",
      "[2021-11-25 00:52:06,218] - obspy.clients.fdsn.mass_downloader - INFO: Client 'GEONET' - Will attempt to download data from 1 stations.\n",
      "[2021-11-25 00:52:06,223] - obspy.clients.fdsn.mass_downloader - INFO: Client 'GEONET' - Status for 1 time intervals/channels before downloading: NEEDS_DOWNLOADING\n",
      "[2021-11-25 00:52:07,143] - obspy.clients.fdsn.mass_downloader - INFO: Client 'GEONET' - Successfully downloaded 1 channels (of 1)\n",
      "[2021-11-25 00:52:07,156] - obspy.clients.fdsn.mass_downloader - INFO: Client 'GEONET' - Launching basic QC checks...\n",
      "[2021-11-25 00:52:07,189] - obspy.clients.fdsn.mass_downloader - INFO: Client 'GEONET' - Downloaded 0.0 MB [4.36 KB/sec] of data, 0.0 MB of which were discarded afterwards.\n",
      "[2021-11-25 00:52:07,200] - obspy.clients.fdsn.mass_downloader - INFO: Client 'GEONET' - Status for 1 time intervals/channels after downloading: DOWNLOADED\n",
      "[2021-11-25 00:52:07,215] - obspy.clients.fdsn.mass_downloader - INFO: Client 'GEONET' - No station information to download.\n",
      "[2021-11-25 00:52:07,221] - obspy.clients.fdsn.mass_downloader - INFO: ============================== Final report\n",
      "[2021-11-25 00:52:07,227] - obspy.clients.fdsn.mass_downloader - INFO: 0 MiniSEED files [0.0 MB] already existed.\n",
      "[2021-11-25 00:52:07,231] - obspy.clients.fdsn.mass_downloader - INFO: 1 StationXML files [0.0 MB] already existed.\n",
      "[2021-11-25 00:52:07,235] - obspy.clients.fdsn.mass_downloader - INFO: Client 'GEONET' - Acquired 1 MiniSEED files [0.0 MB].\n",
      "[2021-11-25 00:52:07,236] - obspy.clients.fdsn.mass_downloader - INFO: Client 'GEONET' - Acquired 0 StationXML files [0.0 MB].\n",
      "[2021-11-25 00:52:07,236] - obspy.clients.fdsn.mass_downloader - INFO: Downloaded 0.0 MB in total.\n",
      "[2021-11-25 00:52:07,256] - obspy.clients.fdsn.mass_downloader - INFO: Initializing FDSN client(s) for GEONET.\n",
      "[2021-11-25 00:52:07,283] - obspy.clients.fdsn.mass_downloader - INFO: Successfully initialized 1 client(s): GEONET.\n",
      "[2021-11-25 00:52:07,290] - obspy.clients.fdsn.mass_downloader - INFO: Total acquired or preexisting stations: 0\n",
      "[2021-11-25 00:52:07,292] - obspy.clients.fdsn.mass_downloader - INFO: Client 'GEONET' - Requesting unreliable availability.\n"
     ]
    },
    {
     "name": "stdout",
     "output_type": "stream",
     "text": [
      "=================================================================\n",
      "Initiating mass download request.\n"
     ]
    },
    {
     "name": "stderr",
     "output_type": "stream",
     "text": [
      "[2021-11-25 00:52:07,966] - obspy.clients.fdsn.mass_downloader - INFO: Client 'GEONET' - Successfully requested availability (0.67 seconds)\n",
      "[2021-11-25 00:52:07,973] - obspy.clients.fdsn.mass_downloader - INFO: Client 'GEONET' - Found 1 stations (1 channels).\n",
      "[2021-11-25 00:52:07,976] - obspy.clients.fdsn.mass_downloader - INFO: Client 'GEONET' - Will attempt to download data from 1 stations.\n",
      "[2021-11-25 00:52:07,982] - obspy.clients.fdsn.mass_downloader - INFO: Client 'GEONET' - Status for 1 time intervals/channels before downloading: NEEDS_DOWNLOADING\n",
      "[2021-11-25 00:52:08,862] - obspy.clients.fdsn.mass_downloader - INFO: Client 'GEONET' - Successfully downloaded 1 channels (of 1)\n",
      "[2021-11-25 00:52:08,885] - obspy.clients.fdsn.mass_downloader - INFO: Client 'GEONET' - Launching basic QC checks...\n",
      "[2021-11-25 00:52:08,922] - obspy.clients.fdsn.mass_downloader - INFO: Client 'GEONET' - Downloaded 0.0 MB [3.92 KB/sec] of data, 0.0 MB of which were discarded afterwards.\n",
      "[2021-11-25 00:52:08,926] - obspy.clients.fdsn.mass_downloader - INFO: Client 'GEONET' - Status for 1 time intervals/channels after downloading: DOWNLOADED\n",
      "[2021-11-25 00:52:08,932] - obspy.clients.fdsn.mass_downloader - INFO: Client 'GEONET' - No station information to download.\n",
      "[2021-11-25 00:52:08,940] - obspy.clients.fdsn.mass_downloader - INFO: ============================== Final report\n",
      "[2021-11-25 00:52:08,941] - obspy.clients.fdsn.mass_downloader - INFO: 0 MiniSEED files [0.0 MB] already existed.\n",
      "[2021-11-25 00:52:08,942] - obspy.clients.fdsn.mass_downloader - INFO: 1 StationXML files [0.0 MB] already existed.\n",
      "[2021-11-25 00:52:08,944] - obspy.clients.fdsn.mass_downloader - INFO: Client 'GEONET' - Acquired 1 MiniSEED files [0.0 MB].\n",
      "[2021-11-25 00:52:08,946] - obspy.clients.fdsn.mass_downloader - INFO: Client 'GEONET' - Acquired 0 StationXML files [0.0 MB].\n",
      "[2021-11-25 00:52:08,946] - obspy.clients.fdsn.mass_downloader - INFO: Downloaded 0.0 MB in total.\n",
      "[2021-11-25 00:52:08,955] - obspy.clients.fdsn.mass_downloader - INFO: Initializing FDSN client(s) for GEONET.\n",
      "[2021-11-25 00:52:09,009] - obspy.clients.fdsn.mass_downloader - INFO: Successfully initialized 1 client(s): GEONET.\n",
      "[2021-11-25 00:52:09,012] - obspy.clients.fdsn.mass_downloader - INFO: Total acquired or preexisting stations: 0\n",
      "[2021-11-25 00:52:09,016] - obspy.clients.fdsn.mass_downloader - INFO: Client 'GEONET' - Requesting unreliable availability.\n"
     ]
    },
    {
     "name": "stdout",
     "output_type": "stream",
     "text": [
      "=================================================================\n",
      "Initiating mass download request.\n"
     ]
    },
    {
     "name": "stderr",
     "output_type": "stream",
     "text": [
      "[2021-11-25 00:52:09,722] - obspy.clients.fdsn.mass_downloader - INFO: Client 'GEONET' - Successfully requested availability (0.70 seconds)\n",
      "[2021-11-25 00:52:09,731] - obspy.clients.fdsn.mass_downloader - INFO: Client 'GEONET' - Found 1 stations (1 channels).\n",
      "[2021-11-25 00:52:09,733] - obspy.clients.fdsn.mass_downloader - INFO: Client 'GEONET' - Will attempt to download data from 1 stations.\n",
      "[2021-11-25 00:52:09,736] - obspy.clients.fdsn.mass_downloader - INFO: Client 'GEONET' - Status for 1 time intervals/channels before downloading: NEEDS_DOWNLOADING\n",
      "[2021-11-25 00:52:10,491] - obspy.clients.fdsn.mass_downloader - INFO: Client 'GEONET' - Successfully downloaded 1 channels (of 1)\n",
      "[2021-11-25 00:52:10,521] - obspy.clients.fdsn.mass_downloader - INFO: Client 'GEONET' - Launching basic QC checks...\n",
      "[2021-11-25 00:52:10,545] - obspy.clients.fdsn.mass_downloader - INFO: Client 'GEONET' - Downloaded 0.0 MB [3.92 KB/sec] of data, 0.0 MB of which were discarded afterwards.\n",
      "[2021-11-25 00:52:10,549] - obspy.clients.fdsn.mass_downloader - INFO: Client 'GEONET' - Status for 1 time intervals/channels after downloading: DOWNLOADED\n",
      "[2021-11-25 00:52:10,562] - obspy.clients.fdsn.mass_downloader - INFO: Client 'GEONET' - No station information to download.\n",
      "[2021-11-25 00:52:10,564] - obspy.clients.fdsn.mass_downloader - INFO: ============================== Final report\n",
      "[2021-11-25 00:52:10,566] - obspy.clients.fdsn.mass_downloader - INFO: 0 MiniSEED files [0.0 MB] already existed.\n",
      "[2021-11-25 00:52:10,567] - obspy.clients.fdsn.mass_downloader - INFO: 1 StationXML files [0.0 MB] already existed.\n",
      "[2021-11-25 00:52:10,570] - obspy.clients.fdsn.mass_downloader - INFO: Client 'GEONET' - Acquired 1 MiniSEED files [0.0 MB].\n",
      "[2021-11-25 00:52:10,570] - obspy.clients.fdsn.mass_downloader - INFO: Client 'GEONET' - Acquired 0 StationXML files [0.0 MB].\n",
      "[2021-11-25 00:52:10,571] - obspy.clients.fdsn.mass_downloader - INFO: Downloaded 0.0 MB in total.\n",
      "[2021-11-25 00:52:10,587] - obspy.clients.fdsn.mass_downloader - INFO: Initializing FDSN client(s) for GEONET.\n",
      "[2021-11-25 00:52:10,603] - obspy.clients.fdsn.mass_downloader - INFO: Successfully initialized 1 client(s): GEONET.\n",
      "[2021-11-25 00:52:10,612] - obspy.clients.fdsn.mass_downloader - INFO: Total acquired or preexisting stations: 0\n",
      "[2021-11-25 00:52:10,615] - obspy.clients.fdsn.mass_downloader - INFO: Client 'GEONET' - Requesting unreliable availability.\n"
     ]
    },
    {
     "name": "stdout",
     "output_type": "stream",
     "text": [
      "=================================================================\n",
      "Initiating mass download request.\n"
     ]
    },
    {
     "name": "stderr",
     "output_type": "stream",
     "text": [
      "[2021-11-25 00:52:11,313] - obspy.clients.fdsn.mass_downloader - INFO: Client 'GEONET' - Successfully requested availability (0.70 seconds)\n",
      "[2021-11-25 00:52:11,316] - obspy.clients.fdsn.mass_downloader - INFO: Client 'GEONET' - Found 1 stations (1 channels).\n",
      "[2021-11-25 00:52:11,317] - obspy.clients.fdsn.mass_downloader - INFO: Client 'GEONET' - Will attempt to download data from 1 stations.\n",
      "[2021-11-25 00:52:11,321] - obspy.clients.fdsn.mass_downloader - INFO: Client 'GEONET' - Status for 1 time intervals/channels before downloading: NEEDS_DOWNLOADING\n",
      "[2021-11-25 00:52:12,283] - obspy.clients.fdsn.mass_downloader - INFO: Client 'GEONET' - Successfully downloaded 1 channels (of 1)\n",
      "[2021-11-25 00:52:12,290] - obspy.clients.fdsn.mass_downloader - INFO: Client 'GEONET' - Launching basic QC checks...\n",
      "[2021-11-25 00:52:12,296] - obspy.clients.fdsn.mass_downloader - INFO: Client 'GEONET' - Downloaded 0.0 MB [3.10 KB/sec] of data, 0.0 MB of which were discarded afterwards.\n",
      "[2021-11-25 00:52:12,297] - obspy.clients.fdsn.mass_downloader - INFO: Client 'GEONET' - Status for 1 time intervals/channels after downloading: DOWNLOADED\n",
      "[2021-11-25 00:52:12,303] - obspy.clients.fdsn.mass_downloader - INFO: Client 'GEONET' - No station information to download.\n",
      "[2021-11-25 00:52:12,305] - obspy.clients.fdsn.mass_downloader - INFO: ============================== Final report\n",
      "[2021-11-25 00:52:12,305] - obspy.clients.fdsn.mass_downloader - INFO: 0 MiniSEED files [0.0 MB] already existed.\n",
      "[2021-11-25 00:52:12,306] - obspy.clients.fdsn.mass_downloader - INFO: 1 StationXML files [0.0 MB] already existed.\n",
      "[2021-11-25 00:52:12,307] - obspy.clients.fdsn.mass_downloader - INFO: Client 'GEONET' - Acquired 1 MiniSEED files [0.0 MB].\n",
      "[2021-11-25 00:52:12,307] - obspy.clients.fdsn.mass_downloader - INFO: Client 'GEONET' - Acquired 0 StationXML files [0.0 MB].\n",
      "[2021-11-25 00:52:12,308] - obspy.clients.fdsn.mass_downloader - INFO: Downloaded 0.0 MB in total.\n",
      "[2021-11-25 00:52:12,314] - obspy.clients.fdsn.mass_downloader - INFO: Initializing FDSN client(s) for GEONET.\n",
      "[2021-11-25 00:52:12,322] - obspy.clients.fdsn.mass_downloader - INFO: Successfully initialized 1 client(s): GEONET.\n",
      "[2021-11-25 00:52:12,323] - obspy.clients.fdsn.mass_downloader - INFO: Total acquired or preexisting stations: 0\n",
      "[2021-11-25 00:52:12,323] - obspy.clients.fdsn.mass_downloader - INFO: Client 'GEONET' - Requesting unreliable availability.\n"
     ]
    },
    {
     "name": "stdout",
     "output_type": "stream",
     "text": [
      "=================================================================\n",
      "Initiating mass download request.\n"
     ]
    },
    {
     "name": "stderr",
     "output_type": "stream",
     "text": [
      "[2021-11-25 00:52:12,982] - obspy.clients.fdsn.mass_downloader - INFO: Client 'GEONET' - Successfully requested availability (0.66 seconds)\n",
      "[2021-11-25 00:52:13,012] - obspy.clients.fdsn.mass_downloader - INFO: Client 'GEONET' - Found 1 stations (1 channels).\n",
      "[2021-11-25 00:52:13,017] - obspy.clients.fdsn.mass_downloader - INFO: Client 'GEONET' - Will attempt to download data from 1 stations.\n",
      "[2021-11-25 00:52:13,021] - obspy.clients.fdsn.mass_downloader - INFO: Client 'GEONET' - Status for 1 time intervals/channels before downloading: NEEDS_DOWNLOADING\n",
      "[2021-11-25 00:52:13,917] - obspy.clients.fdsn.mass_downloader - INFO: Client 'GEONET' - Successfully downloaded 1 channels (of 1)\n",
      "[2021-11-25 00:52:13,924] - obspy.clients.fdsn.mass_downloader - INFO: Client 'GEONET' - Launching basic QC checks...\n",
      "[2021-11-25 00:52:13,939] - obspy.clients.fdsn.mass_downloader - INFO: Client 'GEONET' - Downloaded 0.0 MB [4.60 KB/sec] of data, 0.0 MB of which were discarded afterwards.\n",
      "[2021-11-25 00:52:13,943] - obspy.clients.fdsn.mass_downloader - INFO: Client 'GEONET' - Status for 1 time intervals/channels after downloading: DOWNLOADED\n",
      "[2021-11-25 00:52:13,946] - obspy.clients.fdsn.mass_downloader - INFO: Client 'GEONET' - No station information to download.\n",
      "[2021-11-25 00:52:13,948] - obspy.clients.fdsn.mass_downloader - INFO: ============================== Final report\n",
      "[2021-11-25 00:52:13,949] - obspy.clients.fdsn.mass_downloader - INFO: 0 MiniSEED files [0.0 MB] already existed.\n",
      "[2021-11-25 00:52:13,952] - obspy.clients.fdsn.mass_downloader - INFO: 1 StationXML files [0.0 MB] already existed.\n",
      "[2021-11-25 00:52:13,952] - obspy.clients.fdsn.mass_downloader - INFO: Client 'GEONET' - Acquired 1 MiniSEED files [0.0 MB].\n",
      "[2021-11-25 00:52:13,954] - obspy.clients.fdsn.mass_downloader - INFO: Client 'GEONET' - Acquired 0 StationXML files [0.0 MB].\n",
      "[2021-11-25 00:52:13,955] - obspy.clients.fdsn.mass_downloader - INFO: Downloaded 0.0 MB in total.\n",
      "[2021-11-25 00:52:13,965] - obspy.clients.fdsn.mass_downloader - INFO: Initializing FDSN client(s) for GEONET.\n",
      "[2021-11-25 00:52:13,972] - obspy.clients.fdsn.mass_downloader - INFO: Successfully initialized 1 client(s): GEONET.\n",
      "[2021-11-25 00:52:13,973] - obspy.clients.fdsn.mass_downloader - INFO: Total acquired or preexisting stations: 0\n",
      "[2021-11-25 00:52:13,974] - obspy.clients.fdsn.mass_downloader - INFO: Client 'GEONET' - Requesting unreliable availability.\n"
     ]
    },
    {
     "name": "stdout",
     "output_type": "stream",
     "text": [
      "=================================================================\n",
      "Initiating mass download request.\n"
     ]
    },
    {
     "name": "stderr",
     "output_type": "stream",
     "text": [
      "[2021-11-25 00:52:14,733] - obspy.clients.fdsn.mass_downloader - INFO: Client 'GEONET' - Successfully requested availability (0.76 seconds)\n",
      "[2021-11-25 00:52:14,744] - obspy.clients.fdsn.mass_downloader - INFO: Client 'GEONET' - Found 1 stations (1 channels).\n",
      "[2021-11-25 00:52:14,747] - obspy.clients.fdsn.mass_downloader - INFO: Client 'GEONET' - Will attempt to download data from 1 stations.\n",
      "[2021-11-25 00:52:14,749] - obspy.clients.fdsn.mass_downloader - INFO: Client 'GEONET' - Status for 1 time intervals/channels before downloading: NEEDS_DOWNLOADING\n",
      "[2021-11-25 00:52:15,541] - obspy.clients.fdsn.mass_downloader - INFO: Client 'GEONET' - Successfully downloaded 1 channels (of 1)\n",
      "[2021-11-25 00:52:15,558] - obspy.clients.fdsn.mass_downloader - INFO: Client 'GEONET' - Launching basic QC checks...\n",
      "[2021-11-25 00:52:15,568] - obspy.clients.fdsn.mass_downloader - INFO: Client 'GEONET' - Downloaded 0.0 MB [3.74 KB/sec] of data, 0.0 MB of which were discarded afterwards.\n",
      "[2021-11-25 00:52:15,570] - obspy.clients.fdsn.mass_downloader - INFO: Client 'GEONET' - Status for 1 time intervals/channels after downloading: DOWNLOADED\n",
      "[2021-11-25 00:52:15,574] - obspy.clients.fdsn.mass_downloader - INFO: Client 'GEONET' - No station information to download.\n",
      "[2021-11-25 00:52:15,578] - obspy.clients.fdsn.mass_downloader - INFO: ============================== Final report\n",
      "[2021-11-25 00:52:15,579] - obspy.clients.fdsn.mass_downloader - INFO: 0 MiniSEED files [0.0 MB] already existed.\n",
      "[2021-11-25 00:52:15,580] - obspy.clients.fdsn.mass_downloader - INFO: 1 StationXML files [0.0 MB] already existed.\n",
      "[2021-11-25 00:52:15,580] - obspy.clients.fdsn.mass_downloader - INFO: Client 'GEONET' - Acquired 1 MiniSEED files [0.0 MB].\n",
      "[2021-11-25 00:52:15,580] - obspy.clients.fdsn.mass_downloader - INFO: Client 'GEONET' - Acquired 0 StationXML files [0.0 MB].\n",
      "[2021-11-25 00:52:15,581] - obspy.clients.fdsn.mass_downloader - INFO: Downloaded 0.0 MB in total.\n",
      "[2021-11-25 00:52:15,587] - obspy.clients.fdsn.mass_downloader - INFO: Initializing FDSN client(s) for GEONET.\n",
      "[2021-11-25 00:52:15,602] - obspy.clients.fdsn.mass_downloader - INFO: Successfully initialized 1 client(s): GEONET.\n",
      "[2021-11-25 00:52:15,605] - obspy.clients.fdsn.mass_downloader - INFO: Total acquired or preexisting stations: 0\n",
      "[2021-11-25 00:52:15,607] - obspy.clients.fdsn.mass_downloader - INFO: Client 'GEONET' - Requesting unreliable availability.\n"
     ]
    },
    {
     "name": "stdout",
     "output_type": "stream",
     "text": [
      "=================================================================\n",
      "Initiating mass download request.\n"
     ]
    },
    {
     "name": "stderr",
     "output_type": "stream",
     "text": [
      "[2021-11-25 00:52:16,197] - obspy.clients.fdsn.mass_downloader - INFO: Client 'GEONET' - Successfully requested availability (0.59 seconds)\n",
      "[2021-11-25 00:52:16,218] - obspy.clients.fdsn.mass_downloader - INFO: Client 'GEONET' - Found 1 stations (1 channels).\n",
      "[2021-11-25 00:52:16,226] - obspy.clients.fdsn.mass_downloader - INFO: Client 'GEONET' - Will attempt to download data from 1 stations.\n",
      "[2021-11-25 00:52:16,232] - obspy.clients.fdsn.mass_downloader - INFO: Client 'GEONET' - Status for 1 time intervals/channels before downloading: NEEDS_DOWNLOADING\n",
      "[2021-11-25 00:52:17,629] - obspy.clients.fdsn.mass_downloader - INFO: Client 'GEONET' - Successfully downloaded 1 channels (of 1)\n",
      "[2021-11-25 00:52:17,679] - obspy.clients.fdsn.mass_downloader - INFO: Client 'GEONET' - Launching basic QC checks...\n",
      "[2021-11-25 00:52:17,781] - obspy.clients.fdsn.mass_downloader - INFO: Client 'GEONET' - Downloaded 0.0 MB [2.45 KB/sec] of data, 0.0 MB of which were discarded afterwards.\n",
      "[2021-11-25 00:52:17,783] - obspy.clients.fdsn.mass_downloader - INFO: Client 'GEONET' - Status for 1 time intervals/channels after downloading: DOWNLOADED\n",
      "[2021-11-25 00:52:17,822] - obspy.clients.fdsn.mass_downloader - INFO: Client 'GEONET' - No station information to download.\n",
      "[2021-11-25 00:52:17,826] - obspy.clients.fdsn.mass_downloader - INFO: ============================== Final report\n",
      "[2021-11-25 00:52:17,832] - obspy.clients.fdsn.mass_downloader - INFO: 0 MiniSEED files [0.0 MB] already existed.\n",
      "[2021-11-25 00:52:17,839] - obspy.clients.fdsn.mass_downloader - INFO: 1 StationXML files [0.0 MB] already existed.\n",
      "[2021-11-25 00:52:17,840] - obspy.clients.fdsn.mass_downloader - INFO: Client 'GEONET' - Acquired 1 MiniSEED files [0.0 MB].\n",
      "[2021-11-25 00:52:17,841] - obspy.clients.fdsn.mass_downloader - INFO: Client 'GEONET' - Acquired 0 StationXML files [0.0 MB].\n",
      "[2021-11-25 00:52:17,841] - obspy.clients.fdsn.mass_downloader - INFO: Downloaded 0.0 MB in total.\n",
      "[2021-11-25 00:52:17,892] - obspy.clients.fdsn.mass_downloader - INFO: Initializing FDSN client(s) for GEONET.\n",
      "[2021-11-25 00:52:17,914] - obspy.clients.fdsn.mass_downloader - INFO: Successfully initialized 1 client(s): GEONET.\n",
      "[2021-11-25 00:52:17,923] - obspy.clients.fdsn.mass_downloader - INFO: Total acquired or preexisting stations: 0\n",
      "[2021-11-25 00:52:17,926] - obspy.clients.fdsn.mass_downloader - INFO: Client 'GEONET' - Requesting unreliable availability.\n"
     ]
    },
    {
     "name": "stdout",
     "output_type": "stream",
     "text": [
      "=================================================================\n",
      "Initiating mass download request.\n"
     ]
    },
    {
     "name": "stderr",
     "output_type": "stream",
     "text": [
      "[2021-11-25 00:52:18,769] - obspy.clients.fdsn.mass_downloader - INFO: Client 'GEONET' - Successfully requested availability (0.84 seconds)\n",
      "[2021-11-25 00:52:18,791] - obspy.clients.fdsn.mass_downloader - INFO: Client 'GEONET' - Found 1 stations (1 channels).\n",
      "[2021-11-25 00:52:18,793] - obspy.clients.fdsn.mass_downloader - INFO: Client 'GEONET' - Will attempt to download data from 1 stations.\n",
      "[2021-11-25 00:52:18,798] - obspy.clients.fdsn.mass_downloader - INFO: Client 'GEONET' - Status for 1 time intervals/channels before downloading: NEEDS_DOWNLOADING\n",
      "[2021-11-25 00:52:19,770] - obspy.clients.fdsn.mass_downloader - INFO: Client 'GEONET' - Successfully downloaded 1 channels (of 1)\n",
      "[2021-11-25 00:52:20,013] - obspy.clients.fdsn.mass_downloader - INFO: Client 'GEONET' - Launching basic QC checks...\n",
      "[2021-11-25 00:52:20,093] - obspy.clients.fdsn.mass_downloader - INFO: Client 'GEONET' - Downloaded 0.0 MB [2.51 KB/sec] of data, 0.0 MB of which were discarded afterwards.\n",
      "[2021-11-25 00:52:20,097] - obspy.clients.fdsn.mass_downloader - INFO: Client 'GEONET' - Status for 1 time intervals/channels after downloading: DOWNLOADED\n",
      "[2021-11-25 00:52:20,131] - obspy.clients.fdsn.mass_downloader - INFO: Client 'GEONET' - No station information to download.\n",
      "[2021-11-25 00:52:20,142] - obspy.clients.fdsn.mass_downloader - INFO: ============================== Final report\n",
      "[2021-11-25 00:52:20,144] - obspy.clients.fdsn.mass_downloader - INFO: 0 MiniSEED files [0.0 MB] already existed.\n",
      "[2021-11-25 00:52:20,145] - obspy.clients.fdsn.mass_downloader - INFO: 1 StationXML files [0.0 MB] already existed.\n",
      "[2021-11-25 00:52:20,150] - obspy.clients.fdsn.mass_downloader - INFO: Client 'GEONET' - Acquired 1 MiniSEED files [0.0 MB].\n",
      "[2021-11-25 00:52:20,162] - obspy.clients.fdsn.mass_downloader - INFO: Client 'GEONET' - Acquired 0 StationXML files [0.0 MB].\n",
      "[2021-11-25 00:52:20,166] - obspy.clients.fdsn.mass_downloader - INFO: Downloaded 0.0 MB in total.\n",
      "[2021-11-25 00:52:20,189] - obspy.clients.fdsn.mass_downloader - INFO: Initializing FDSN client(s) for GEONET.\n",
      "[2021-11-25 00:52:20,232] - obspy.clients.fdsn.mass_downloader - INFO: Successfully initialized 1 client(s): GEONET.\n",
      "[2021-11-25 00:52:20,239] - obspy.clients.fdsn.mass_downloader - INFO: Total acquired or preexisting stations: 0\n",
      "[2021-11-25 00:52:20,245] - obspy.clients.fdsn.mass_downloader - INFO: Client 'GEONET' - Requesting unreliable availability.\n"
     ]
    },
    {
     "name": "stdout",
     "output_type": "stream",
     "text": [
      "=================================================================\n",
      "Initiating mass download request.\n"
     ]
    },
    {
     "name": "stderr",
     "output_type": "stream",
     "text": [
      "[2021-11-25 00:52:20,917] - obspy.clients.fdsn.mass_downloader - INFO: Client 'GEONET' - No data available for request.\n",
      "[2021-11-25 00:52:20,995] - obspy.clients.fdsn.mass_downloader - INFO: Client 'GEONET' - No data available.\n",
      "[2021-11-25 00:52:21,040] - obspy.clients.fdsn.mass_downloader - INFO: ============================== Final report\n",
      "[2021-11-25 00:52:21,060] - obspy.clients.fdsn.mass_downloader - INFO: 0 MiniSEED files [0.0 MB] already existed.\n",
      "[2021-11-25 00:52:21,089] - obspy.clients.fdsn.mass_downloader - INFO: 0 StationXML files [0.0 MB] already existed.\n",
      "[2021-11-25 00:52:21,100] - obspy.clients.fdsn.mass_downloader - INFO: Client 'GEONET' - Acquired 0 MiniSEED files [0.0 MB].\n",
      "[2021-11-25 00:52:21,117] - obspy.clients.fdsn.mass_downloader - INFO: Client 'GEONET' - Acquired 0 StationXML files [0.0 MB].\n",
      "[2021-11-25 00:52:21,118] - obspy.clients.fdsn.mass_downloader - INFO: Downloaded 0.0 MB in total.\n",
      "[2021-11-25 00:52:21,259] - obspy.clients.fdsn.mass_downloader - INFO: Initializing FDSN client(s) for GEONET.\n",
      "[2021-11-25 00:52:21,385] - obspy.clients.fdsn.mass_downloader - INFO: Successfully initialized 1 client(s): GEONET.\n",
      "[2021-11-25 00:52:21,408] - obspy.clients.fdsn.mass_downloader - INFO: Total acquired or preexisting stations: 0\n",
      "[2021-11-25 00:52:21,417] - obspy.clients.fdsn.mass_downloader - INFO: Client 'GEONET' - Requesting unreliable availability.\n"
     ]
    },
    {
     "name": "stdout",
     "output_type": "stream",
     "text": [
      "=================================================================\n",
      "Initiating mass download request.\n"
     ]
    },
    {
     "name": "stderr",
     "output_type": "stream",
     "text": [
      "[2021-11-25 00:52:22,041] - obspy.clients.fdsn.mass_downloader - INFO: Client 'GEONET' - Successfully requested availability (0.61 seconds)\n",
      "[2021-11-25 00:52:22,052] - obspy.clients.fdsn.mass_downloader - INFO: Client 'GEONET' - Found 1 stations (1 channels).\n",
      "[2021-11-25 00:52:22,053] - obspy.clients.fdsn.mass_downloader - INFO: Client 'GEONET' - Will attempt to download data from 1 stations.\n",
      "[2021-11-25 00:52:22,057] - obspy.clients.fdsn.mass_downloader - INFO: Client 'GEONET' - Status for 1 time intervals/channels before downloading: NEEDS_DOWNLOADING\n",
      "[2021-11-25 00:52:22,970] - obspy.clients.fdsn.mass_downloader - INFO: Client 'GEONET' - Successfully downloaded 1 channels (of 1)\n",
      "[2021-11-25 00:52:23,002] - obspy.clients.fdsn.mass_downloader - INFO: Client 'GEONET' - Launching basic QC checks...\n",
      "[2021-11-25 00:52:23,026] - obspy.clients.fdsn.mass_downloader - INFO: Client 'GEONET' - Downloaded 0.0 MB [3.21 KB/sec] of data, 0.0 MB of which were discarded afterwards.\n",
      "[2021-11-25 00:52:23,029] - obspy.clients.fdsn.mass_downloader - INFO: Client 'GEONET' - Status for 1 time intervals/channels after downloading: DOWNLOADED\n",
      "[2021-11-25 00:52:23,034] - obspy.clients.fdsn.mass_downloader - INFO: Client 'GEONET' - No station information to download.\n",
      "[2021-11-25 00:52:23,040] - obspy.clients.fdsn.mass_downloader - INFO: ============================== Final report\n",
      "[2021-11-25 00:52:23,043] - obspy.clients.fdsn.mass_downloader - INFO: 0 MiniSEED files [0.0 MB] already existed.\n",
      "[2021-11-25 00:52:23,043] - obspy.clients.fdsn.mass_downloader - INFO: 1 StationXML files [0.0 MB] already existed.\n",
      "[2021-11-25 00:52:23,044] - obspy.clients.fdsn.mass_downloader - INFO: Client 'GEONET' - Acquired 1 MiniSEED files [0.0 MB].\n",
      "[2021-11-25 00:52:23,047] - obspy.clients.fdsn.mass_downloader - INFO: Client 'GEONET' - Acquired 0 StationXML files [0.0 MB].\n",
      "[2021-11-25 00:52:23,048] - obspy.clients.fdsn.mass_downloader - INFO: Downloaded 0.0 MB in total.\n",
      "[2021-11-25 00:52:23,070] - obspy.clients.fdsn.mass_downloader - INFO: Initializing FDSN client(s) for GEONET.\n",
      "[2021-11-25 00:52:23,087] - obspy.clients.fdsn.mass_downloader - INFO: Successfully initialized 1 client(s): GEONET.\n",
      "[2021-11-25 00:52:23,093] - obspy.clients.fdsn.mass_downloader - INFO: Total acquired or preexisting stations: 0\n",
      "[2021-11-25 00:52:23,095] - obspy.clients.fdsn.mass_downloader - INFO: Client 'GEONET' - Requesting unreliable availability.\n"
     ]
    },
    {
     "name": "stdout",
     "output_type": "stream",
     "text": [
      "=================================================================\n",
      "Initiating mass download request.\n"
     ]
    },
    {
     "name": "stderr",
     "output_type": "stream",
     "text": [
      "[2021-11-25 00:52:24,366] - obspy.clients.fdsn.mass_downloader - INFO: Client 'GEONET' - Successfully requested availability (1.27 seconds)\n",
      "[2021-11-25 00:52:24,394] - obspy.clients.fdsn.mass_downloader - INFO: Client 'GEONET' - Found 1 stations (1 channels).\n",
      "[2021-11-25 00:52:24,400] - obspy.clients.fdsn.mass_downloader - INFO: Client 'GEONET' - Will attempt to download data from 1 stations.\n",
      "[2021-11-25 00:52:24,421] - obspy.clients.fdsn.mass_downloader - INFO: Client 'GEONET' - Status for 1 time intervals/channels before downloading: NEEDS_DOWNLOADING\n",
      "[2021-11-25 00:52:25,273] - obspy.clients.fdsn.mass_downloader - INFO: Client 'GEONET' - Successfully downloaded 1 channels (of 1)\n",
      "[2021-11-25 00:52:25,286] - obspy.clients.fdsn.mass_downloader - INFO: Client 'GEONET' - Launching basic QC checks...\n",
      "[2021-11-25 00:52:25,312] - obspy.clients.fdsn.mass_downloader - INFO: Client 'GEONET' - Downloaded 0.0 MB [4.71 KB/sec] of data, 0.0 MB of which were discarded afterwards.\n",
      "[2021-11-25 00:52:25,316] - obspy.clients.fdsn.mass_downloader - INFO: Client 'GEONET' - Status for 1 time intervals/channels after downloading: DOWNLOADED\n",
      "[2021-11-25 00:52:25,338] - obspy.clients.fdsn.mass_downloader - INFO: Client 'GEONET' - No station information to download.\n",
      "[2021-11-25 00:52:25,343] - obspy.clients.fdsn.mass_downloader - INFO: ============================== Final report\n",
      "[2021-11-25 00:52:25,346] - obspy.clients.fdsn.mass_downloader - INFO: 0 MiniSEED files [0.0 MB] already existed.\n",
      "[2021-11-25 00:52:25,347] - obspy.clients.fdsn.mass_downloader - INFO: 1 StationXML files [0.0 MB] already existed.\n",
      "[2021-11-25 00:52:25,348] - obspy.clients.fdsn.mass_downloader - INFO: Client 'GEONET' - Acquired 1 MiniSEED files [0.0 MB].\n",
      "[2021-11-25 00:52:25,350] - obspy.clients.fdsn.mass_downloader - INFO: Client 'GEONET' - Acquired 0 StationXML files [0.0 MB].\n",
      "[2021-11-25 00:52:25,352] - obspy.clients.fdsn.mass_downloader - INFO: Downloaded 0.0 MB in total.\n",
      "[2021-11-25 00:52:25,363] - obspy.clients.fdsn.mass_downloader - INFO: Initializing FDSN client(s) for GEONET.\n",
      "[2021-11-25 00:52:25,379] - obspy.clients.fdsn.mass_downloader - INFO: Successfully initialized 1 client(s): GEONET.\n",
      "[2021-11-25 00:52:25,391] - obspy.clients.fdsn.mass_downloader - INFO: Total acquired or preexisting stations: 0\n",
      "[2021-11-25 00:52:25,393] - obspy.clients.fdsn.mass_downloader - INFO: Client 'GEONET' - Requesting unreliable availability.\n"
     ]
    },
    {
     "name": "stdout",
     "output_type": "stream",
     "text": [
      "=================================================================\n",
      "Initiating mass download request.\n"
     ]
    },
    {
     "name": "stderr",
     "output_type": "stream",
     "text": [
      "[2021-11-25 00:52:25,988] - obspy.clients.fdsn.mass_downloader - INFO: Client 'GEONET' - Successfully requested availability (0.60 seconds)\n",
      "[2021-11-25 00:52:26,009] - obspy.clients.fdsn.mass_downloader - INFO: Client 'GEONET' - Found 1 stations (1 channels).\n",
      "[2021-11-25 00:52:26,037] - obspy.clients.fdsn.mass_downloader - INFO: Client 'GEONET' - Will attempt to download data from 1 stations.\n",
      "[2021-11-25 00:52:26,052] - obspy.clients.fdsn.mass_downloader - INFO: Client 'GEONET' - Status for 1 time intervals/channels before downloading: NEEDS_DOWNLOADING\n",
      "[2021-11-25 00:52:26,926] - obspy.clients.fdsn.mass_downloader - INFO: Client 'GEONET' - Successfully downloaded 1 channels (of 1)\n",
      "[2021-11-25 00:52:26,959] - obspy.clients.fdsn.mass_downloader - INFO: Client 'GEONET' - Launching basic QC checks...\n",
      "[2021-11-25 00:52:26,974] - obspy.clients.fdsn.mass_downloader - INFO: Client 'GEONET' - Downloaded 0.0 MB [3.43 KB/sec] of data, 0.0 MB of which were discarded afterwards.\n",
      "[2021-11-25 00:52:26,977] - obspy.clients.fdsn.mass_downloader - INFO: Client 'GEONET' - Status for 1 time intervals/channels after downloading: DOWNLOADED\n",
      "[2021-11-25 00:52:26,988] - obspy.clients.fdsn.mass_downloader - INFO: Client 'GEONET' - No station information to download.\n",
      "[2021-11-25 00:52:26,991] - obspy.clients.fdsn.mass_downloader - INFO: ============================== Final report\n",
      "[2021-11-25 00:52:26,991] - obspy.clients.fdsn.mass_downloader - INFO: 0 MiniSEED files [0.0 MB] already existed.\n",
      "[2021-11-25 00:52:26,992] - obspy.clients.fdsn.mass_downloader - INFO: 1 StationXML files [0.0 MB] already existed.\n",
      "[2021-11-25 00:52:26,993] - obspy.clients.fdsn.mass_downloader - INFO: Client 'GEONET' - Acquired 1 MiniSEED files [0.0 MB].\n",
      "[2021-11-25 00:52:26,993] - obspy.clients.fdsn.mass_downloader - INFO: Client 'GEONET' - Acquired 0 StationXML files [0.0 MB].\n",
      "[2021-11-25 00:52:26,994] - obspy.clients.fdsn.mass_downloader - INFO: Downloaded 0.0 MB in total.\n",
      "[2021-11-25 00:52:27,003] - obspy.clients.fdsn.mass_downloader - INFO: Initializing FDSN client(s) for GEONET.\n",
      "[2021-11-25 00:52:27,014] - obspy.clients.fdsn.mass_downloader - INFO: Successfully initialized 1 client(s): GEONET.\n",
      "[2021-11-25 00:52:27,017] - obspy.clients.fdsn.mass_downloader - INFO: Total acquired or preexisting stations: 0\n",
      "[2021-11-25 00:52:27,017] - obspy.clients.fdsn.mass_downloader - INFO: Client 'GEONET' - Requesting unreliable availability.\n"
     ]
    },
    {
     "name": "stdout",
     "output_type": "stream",
     "text": [
      "=================================================================\n",
      "Initiating mass download request.\n"
     ]
    },
    {
     "name": "stderr",
     "output_type": "stream",
     "text": [
      "[2021-11-25 00:52:27,663] - obspy.clients.fdsn.mass_downloader - INFO: Client 'GEONET' - Successfully requested availability (0.64 seconds)\n",
      "[2021-11-25 00:52:27,763] - obspy.clients.fdsn.mass_downloader - INFO: Client 'GEONET' - Found 1 stations (1 channels).\n",
      "[2021-11-25 00:52:27,768] - obspy.clients.fdsn.mass_downloader - INFO: Client 'GEONET' - Will attempt to download data from 1 stations.\n",
      "[2021-11-25 00:52:27,787] - obspy.clients.fdsn.mass_downloader - INFO: Client 'GEONET' - Status for 1 time intervals/channels before downloading: NEEDS_DOWNLOADING\n",
      "[2021-11-25 00:52:28,644] - obspy.clients.fdsn.mass_downloader - INFO: Client 'GEONET' - Successfully downloaded 1 channels (of 1)\n",
      "[2021-11-25 00:52:28,699] - obspy.clients.fdsn.mass_downloader - INFO: Client 'GEONET' - Launching basic QC checks...\n",
      "[2021-11-25 00:52:28,732] - obspy.clients.fdsn.mass_downloader - INFO: Client 'GEONET' - Downloaded 0.0 MB [3.40 KB/sec] of data, 0.0 MB of which were discarded afterwards.\n",
      "[2021-11-25 00:52:28,735] - obspy.clients.fdsn.mass_downloader - INFO: Client 'GEONET' - Status for 1 time intervals/channels after downloading: DOWNLOADED\n",
      "[2021-11-25 00:52:28,746] - obspy.clients.fdsn.mass_downloader - INFO: Client 'GEONET' - No station information to download.\n",
      "[2021-11-25 00:52:28,766] - obspy.clients.fdsn.mass_downloader - INFO: ============================== Final report\n",
      "[2021-11-25 00:52:28,769] - obspy.clients.fdsn.mass_downloader - INFO: 0 MiniSEED files [0.0 MB] already existed.\n",
      "[2021-11-25 00:52:28,773] - obspy.clients.fdsn.mass_downloader - INFO: 1 StationXML files [0.0 MB] already existed.\n",
      "[2021-11-25 00:52:28,776] - obspy.clients.fdsn.mass_downloader - INFO: Client 'GEONET' - Acquired 1 MiniSEED files [0.0 MB].\n",
      "[2021-11-25 00:52:28,777] - obspy.clients.fdsn.mass_downloader - INFO: Client 'GEONET' - Acquired 0 StationXML files [0.0 MB].\n",
      "[2021-11-25 00:52:28,778] - obspy.clients.fdsn.mass_downloader - INFO: Downloaded 0.0 MB in total.\n",
      "[2021-11-25 00:52:28,848] - obspy.clients.fdsn.mass_downloader - INFO: Initializing FDSN client(s) for GEONET.\n",
      "[2021-11-25 00:52:28,891] - obspy.clients.fdsn.mass_downloader - INFO: Successfully initialized 1 client(s): GEONET.\n",
      "[2021-11-25 00:52:28,895] - obspy.clients.fdsn.mass_downloader - INFO: Total acquired or preexisting stations: 0\n",
      "[2021-11-25 00:52:28,904] - obspy.clients.fdsn.mass_downloader - INFO: Client 'GEONET' - Requesting unreliable availability.\n"
     ]
    },
    {
     "name": "stdout",
     "output_type": "stream",
     "text": [
      "=================================================================\n",
      "Initiating mass download request.\n"
     ]
    },
    {
     "name": "stderr",
     "output_type": "stream",
     "text": [
      "[2021-11-25 00:52:29,659] - obspy.clients.fdsn.mass_downloader - INFO: Client 'GEONET' - Successfully requested availability (0.75 seconds)\n",
      "[2021-11-25 00:52:29,691] - obspy.clients.fdsn.mass_downloader - INFO: Client 'GEONET' - Found 1 stations (1 channels).\n",
      "[2021-11-25 00:52:29,695] - obspy.clients.fdsn.mass_downloader - INFO: Client 'GEONET' - Will attempt to download data from 1 stations.\n",
      "[2021-11-25 00:52:29,711] - obspy.clients.fdsn.mass_downloader - INFO: Client 'GEONET' - Status for 1 time intervals/channels before downloading: NEEDS_DOWNLOADING\n",
      "[2021-11-25 00:52:30,631] - obspy.clients.fdsn.mass_downloader - INFO: Client 'GEONET' - Successfully downloaded 1 channels (of 1)\n",
      "[2021-11-25 00:52:30,707] - obspy.clients.fdsn.mass_downloader - INFO: Client 'GEONET' - Launching basic QC checks...\n",
      "[2021-11-25 00:52:30,804] - obspy.clients.fdsn.mass_downloader - INFO: Client 'GEONET' - Downloaded 0.0 MB [4.71 KB/sec] of data, 0.0 MB of which were discarded afterwards.\n",
      "[2021-11-25 00:52:30,808] - obspy.clients.fdsn.mass_downloader - INFO: Client 'GEONET' - Status for 1 time intervals/channels after downloading: DOWNLOADED\n",
      "[2021-11-25 00:52:30,827] - obspy.clients.fdsn.mass_downloader - INFO: Client 'GEONET' - No station information to download.\n",
      "[2021-11-25 00:52:30,842] - obspy.clients.fdsn.mass_downloader - INFO: ============================== Final report\n",
      "[2021-11-25 00:52:30,850] - obspy.clients.fdsn.mass_downloader - INFO: 0 MiniSEED files [0.0 MB] already existed.\n",
      "[2021-11-25 00:52:30,854] - obspy.clients.fdsn.mass_downloader - INFO: 1 StationXML files [0.0 MB] already existed.\n",
      "[2021-11-25 00:52:30,854] - obspy.clients.fdsn.mass_downloader - INFO: Client 'GEONET' - Acquired 1 MiniSEED files [0.0 MB].\n",
      "[2021-11-25 00:52:30,855] - obspy.clients.fdsn.mass_downloader - INFO: Client 'GEONET' - Acquired 0 StationXML files [0.0 MB].\n",
      "[2021-11-25 00:52:30,857] - obspy.clients.fdsn.mass_downloader - INFO: Downloaded 0.0 MB in total.\n",
      "[2021-11-25 00:52:31,082] - obspy.clients.fdsn.mass_downloader - INFO: Initializing FDSN client(s) for GEONET.\n"
     ]
    },
    {
     "name": "stdout",
     "output_type": "stream",
     "text": [
      "=================================================================\n",
      "Initiating mass download request.\n"
     ]
    },
    {
     "name": "stderr",
     "output_type": "stream",
     "text": [
      "[2021-11-25 00:52:31,306] - obspy.clients.fdsn.mass_downloader - INFO: Successfully initialized 1 client(s): GEONET.\n",
      "[2021-11-25 00:52:31,346] - obspy.clients.fdsn.mass_downloader - INFO: Total acquired or preexisting stations: 0\n",
      "[2021-11-25 00:52:31,359] - obspy.clients.fdsn.mass_downloader - INFO: Client 'GEONET' - Requesting unreliable availability.\n",
      "[2021-11-25 00:52:32,682] - obspy.clients.fdsn.mass_downloader - INFO: Client 'GEONET' - Successfully requested availability (1.31 seconds)\n",
      "[2021-11-25 00:52:32,701] - obspy.clients.fdsn.mass_downloader - INFO: Client 'GEONET' - Found 1 stations (1 channels).\n",
      "[2021-11-25 00:52:32,711] - obspy.clients.fdsn.mass_downloader - INFO: Client 'GEONET' - Will attempt to download data from 1 stations.\n",
      "[2021-11-25 00:52:32,715] - obspy.clients.fdsn.mass_downloader - INFO: Client 'GEONET' - Status for 1 time intervals/channels before downloading: NEEDS_DOWNLOADING\n",
      "[2021-11-25 00:52:33,503] - obspy.clients.fdsn.mass_downloader - INFO: Client 'GEONET' - Successfully downloaded 1 channels (of 1)\n",
      "[2021-11-25 00:52:33,518] - obspy.clients.fdsn.mass_downloader - INFO: Client 'GEONET' - Launching basic QC checks...\n",
      "[2021-11-25 00:52:33,535] - obspy.clients.fdsn.mass_downloader - INFO: Client 'GEONET' - Downloaded 0.0 MB [4.47 KB/sec] of data, 0.0 MB of which were discarded afterwards.\n",
      "[2021-11-25 00:52:33,539] - obspy.clients.fdsn.mass_downloader - INFO: Client 'GEONET' - Status for 1 time intervals/channels after downloading: DOWNLOADED\n",
      "[2021-11-25 00:52:33,546] - obspy.clients.fdsn.mass_downloader - INFO: Client 'GEONET' - No station information to download.\n",
      "[2021-11-25 00:52:33,550] - obspy.clients.fdsn.mass_downloader - INFO: ============================== Final report\n",
      "[2021-11-25 00:52:33,554] - obspy.clients.fdsn.mass_downloader - INFO: 0 MiniSEED files [0.0 MB] already existed.\n",
      "[2021-11-25 00:52:33,555] - obspy.clients.fdsn.mass_downloader - INFO: 1 StationXML files [0.0 MB] already existed.\n",
      "[2021-11-25 00:52:33,557] - obspy.clients.fdsn.mass_downloader - INFO: Client 'GEONET' - Acquired 1 MiniSEED files [0.0 MB].\n",
      "[2021-11-25 00:52:33,559] - obspy.clients.fdsn.mass_downloader - INFO: Client 'GEONET' - Acquired 0 StationXML files [0.0 MB].\n",
      "[2021-11-25 00:52:33,560] - obspy.clients.fdsn.mass_downloader - INFO: Downloaded 0.0 MB in total.\n",
      "[2021-11-25 00:52:33,576] - obspy.clients.fdsn.mass_downloader - INFO: Initializing FDSN client(s) for GEONET.\n",
      "[2021-11-25 00:52:33,586] - obspy.clients.fdsn.mass_downloader - INFO: Successfully initialized 1 client(s): GEONET.\n",
      "[2021-11-25 00:52:33,587] - obspy.clients.fdsn.mass_downloader - INFO: Total acquired or preexisting stations: 0\n",
      "[2021-11-25 00:52:33,588] - obspy.clients.fdsn.mass_downloader - INFO: Client 'GEONET' - Requesting unreliable availability.\n"
     ]
    },
    {
     "name": "stdout",
     "output_type": "stream",
     "text": [
      "=================================================================\n",
      "Initiating mass download request.\n"
     ]
    },
    {
     "name": "stderr",
     "output_type": "stream",
     "text": [
      "[2021-11-25 00:52:34,171] - obspy.clients.fdsn.mass_downloader - INFO: Client 'GEONET' - Successfully requested availability (0.58 seconds)\n",
      "[2021-11-25 00:52:34,192] - obspy.clients.fdsn.mass_downloader - INFO: Client 'GEONET' - Found 1 stations (1 channels).\n",
      "[2021-11-25 00:52:34,203] - obspy.clients.fdsn.mass_downloader - INFO: Client 'GEONET' - Will attempt to download data from 1 stations.\n",
      "[2021-11-25 00:52:34,213] - obspy.clients.fdsn.mass_downloader - INFO: Client 'GEONET' - Status for 1 time intervals/channels before downloading: NEEDS_DOWNLOADING\n",
      "[2021-11-25 00:52:35,016] - obspy.clients.fdsn.mass_downloader - INFO: Client 'GEONET' - Successfully downloaded 1 channels (of 1)\n",
      "[2021-11-25 00:52:35,029] - obspy.clients.fdsn.mass_downloader - INFO: Client 'GEONET' - Launching basic QC checks...\n",
      "[2021-11-25 00:52:35,041] - obspy.clients.fdsn.mass_downloader - INFO: Client 'GEONET' - Downloaded 0.0 MB [4.53 KB/sec] of data, 0.0 MB of which were discarded afterwards.\n",
      "[2021-11-25 00:52:35,044] - obspy.clients.fdsn.mass_downloader - INFO: Client 'GEONET' - Status for 1 time intervals/channels after downloading: DOWNLOADED\n",
      "[2021-11-25 00:52:35,050] - obspy.clients.fdsn.mass_downloader - INFO: Client 'GEONET' - No station information to download.\n",
      "[2021-11-25 00:52:35,070] - obspy.clients.fdsn.mass_downloader - INFO: ============================== Final report\n",
      "[2021-11-25 00:52:35,072] - obspy.clients.fdsn.mass_downloader - INFO: 0 MiniSEED files [0.0 MB] already existed.\n",
      "[2021-11-25 00:52:35,076] - obspy.clients.fdsn.mass_downloader - INFO: 1 StationXML files [0.0 MB] already existed.\n",
      "[2021-11-25 00:52:35,077] - obspy.clients.fdsn.mass_downloader - INFO: Client 'GEONET' - Acquired 1 MiniSEED files [0.0 MB].\n",
      "[2021-11-25 00:52:35,077] - obspy.clients.fdsn.mass_downloader - INFO: Client 'GEONET' - Acquired 0 StationXML files [0.0 MB].\n",
      "[2021-11-25 00:52:35,077] - obspy.clients.fdsn.mass_downloader - INFO: Downloaded 0.0 MB in total.\n",
      "[2021-11-25 00:52:35,107] - obspy.clients.fdsn.mass_downloader - INFO: Initializing FDSN client(s) for GEONET.\n",
      "[2021-11-25 00:52:35,155] - obspy.clients.fdsn.mass_downloader - INFO: Successfully initialized 1 client(s): GEONET.\n",
      "[2021-11-25 00:52:35,166] - obspy.clients.fdsn.mass_downloader - INFO: Total acquired or preexisting stations: 0\n",
      "[2021-11-25 00:52:35,172] - obspy.clients.fdsn.mass_downloader - INFO: Client 'GEONET' - Requesting unreliable availability.\n"
     ]
    },
    {
     "name": "stdout",
     "output_type": "stream",
     "text": [
      "=================================================================\n",
      "Initiating mass download request.\n"
     ]
    },
    {
     "name": "stderr",
     "output_type": "stream",
     "text": [
      "[2021-11-25 00:52:35,915] - obspy.clients.fdsn.mass_downloader - INFO: Client 'GEONET' - Successfully requested availability (0.74 seconds)\n",
      "[2021-11-25 00:52:35,948] - obspy.clients.fdsn.mass_downloader - INFO: Client 'GEONET' - Found 1 stations (1 channels).\n",
      "[2021-11-25 00:52:35,967] - obspy.clients.fdsn.mass_downloader - INFO: Client 'GEONET' - Will attempt to download data from 1 stations.\n",
      "[2021-11-25 00:52:35,978] - obspy.clients.fdsn.mass_downloader - INFO: Client 'GEONET' - Status for 1 time intervals/channels before downloading: NEEDS_DOWNLOADING\n",
      "[2021-11-25 00:52:36,939] - obspy.clients.fdsn.mass_downloader - INFO: Client 'GEONET' - Successfully downloaded 1 channels (of 1)\n",
      "[2021-11-25 00:52:37,005] - obspy.clients.fdsn.mass_downloader - INFO: Client 'GEONET' - Launching basic QC checks...\n",
      "[2021-11-25 00:52:37,023] - obspy.clients.fdsn.mass_downloader - INFO: Client 'GEONET' - Downloaded 0.0 MB [4.55 KB/sec] of data, 0.0 MB of which were discarded afterwards.\n",
      "[2021-11-25 00:52:37,025] - obspy.clients.fdsn.mass_downloader - INFO: Client 'GEONET' - Status for 1 time intervals/channels after downloading: DOWNLOADED\n",
      "[2021-11-25 00:52:37,033] - obspy.clients.fdsn.mass_downloader - INFO: Client 'GEONET' - No station information to download.\n",
      "[2021-11-25 00:52:37,043] - obspy.clients.fdsn.mass_downloader - INFO: ============================== Final report\n",
      "[2021-11-25 00:52:37,048] - obspy.clients.fdsn.mass_downloader - INFO: 0 MiniSEED files [0.0 MB] already existed.\n",
      "[2021-11-25 00:52:37,051] - obspy.clients.fdsn.mass_downloader - INFO: 1 StationXML files [0.0 MB] already existed.\n",
      "[2021-11-25 00:52:37,056] - obspy.clients.fdsn.mass_downloader - INFO: Client 'GEONET' - Acquired 1 MiniSEED files [0.0 MB].\n",
      "[2021-11-25 00:52:37,058] - obspy.clients.fdsn.mass_downloader - INFO: Client 'GEONET' - Acquired 0 StationXML files [0.0 MB].\n",
      "[2021-11-25 00:52:37,058] - obspy.clients.fdsn.mass_downloader - INFO: Downloaded 0.0 MB in total.\n",
      "[2021-11-25 00:52:37,072] - obspy.clients.fdsn.mass_downloader - INFO: Initializing FDSN client(s) for GEONET.\n",
      "[2021-11-25 00:52:37,101] - obspy.clients.fdsn.mass_downloader - INFO: Successfully initialized 1 client(s): GEONET.\n",
      "[2021-11-25 00:52:37,120] - obspy.clients.fdsn.mass_downloader - INFO: Total acquired or preexisting stations: 0\n",
      "[2021-11-25 00:52:37,124] - obspy.clients.fdsn.mass_downloader - INFO: Client 'GEONET' - Requesting unreliable availability.\n"
     ]
    },
    {
     "name": "stdout",
     "output_type": "stream",
     "text": [
      "=================================================================\n",
      "Initiating mass download request.\n"
     ]
    },
    {
     "name": "stderr",
     "output_type": "stream",
     "text": [
      "[2021-11-25 00:52:38,334] - obspy.clients.fdsn.mass_downloader - INFO: Client 'GEONET' - Successfully requested availability (1.21 seconds)\n",
      "[2021-11-25 00:52:38,343] - obspy.clients.fdsn.mass_downloader - INFO: Client 'GEONET' - Found 1 stations (1 channels).\n",
      "[2021-11-25 00:52:38,356] - obspy.clients.fdsn.mass_downloader - INFO: Client 'GEONET' - Will attempt to download data from 1 stations.\n",
      "[2021-11-25 00:52:38,359] - obspy.clients.fdsn.mass_downloader - INFO: Client 'GEONET' - Status for 1 time intervals/channels before downloading: NEEDS_DOWNLOADING\n",
      "[2021-11-25 00:52:39,307] - obspy.clients.fdsn.mass_downloader - INFO: Client 'GEONET' - Successfully downloaded 1 channels (of 1)\n",
      "[2021-11-25 00:52:39,347] - obspy.clients.fdsn.mass_downloader - INFO: Client 'GEONET' - Launching basic QC checks...\n",
      "[2021-11-25 00:52:39,396] - obspy.clients.fdsn.mass_downloader - INFO: Client 'GEONET' - Downloaded 0.0 MB [5.23 KB/sec] of data, 0.0 MB of which were discarded afterwards.\n",
      "[2021-11-25 00:52:39,397] - obspy.clients.fdsn.mass_downloader - INFO: Client 'GEONET' - Status for 1 time intervals/channels after downloading: DOWNLOADED\n",
      "[2021-11-25 00:52:39,402] - obspy.clients.fdsn.mass_downloader - INFO: Client 'GEONET' - No station information to download.\n",
      "[2021-11-25 00:52:39,404] - obspy.clients.fdsn.mass_downloader - INFO: ============================== Final report\n",
      "[2021-11-25 00:52:39,407] - obspy.clients.fdsn.mass_downloader - INFO: 0 MiniSEED files [0.0 MB] already existed.\n",
      "[2021-11-25 00:52:39,409] - obspy.clients.fdsn.mass_downloader - INFO: 1 StationXML files [0.0 MB] already existed.\n",
      "[2021-11-25 00:52:39,414] - obspy.clients.fdsn.mass_downloader - INFO: Client 'GEONET' - Acquired 1 MiniSEED files [0.0 MB].\n",
      "[2021-11-25 00:52:39,414] - obspy.clients.fdsn.mass_downloader - INFO: Client 'GEONET' - Acquired 0 StationXML files [0.0 MB].\n",
      "[2021-11-25 00:52:39,415] - obspy.clients.fdsn.mass_downloader - INFO: Downloaded 0.0 MB in total.\n",
      "[2021-11-25 00:52:39,428] - obspy.clients.fdsn.mass_downloader - INFO: Initializing FDSN client(s) for GEONET.\n",
      "[2021-11-25 00:52:39,450] - obspy.clients.fdsn.mass_downloader - INFO: Successfully initialized 1 client(s): GEONET.\n",
      "[2021-11-25 00:52:39,455] - obspy.clients.fdsn.mass_downloader - INFO: Total acquired or preexisting stations: 0\n",
      "[2021-11-25 00:52:39,457] - obspy.clients.fdsn.mass_downloader - INFO: Client 'GEONET' - Requesting unreliable availability.\n"
     ]
    },
    {
     "name": "stdout",
     "output_type": "stream",
     "text": [
      "=================================================================\n",
      "Initiating mass download request.\n"
     ]
    },
    {
     "name": "stderr",
     "output_type": "stream",
     "text": [
      "[2021-11-25 00:52:40,083] - obspy.clients.fdsn.mass_downloader - INFO: Client 'GEONET' - Successfully requested availability (0.62 seconds)\n",
      "[2021-11-25 00:52:40,091] - obspy.clients.fdsn.mass_downloader - INFO: Client 'GEONET' - Found 1 stations (1 channels).\n",
      "[2021-11-25 00:52:40,097] - obspy.clients.fdsn.mass_downloader - INFO: Client 'GEONET' - Will attempt to download data from 1 stations.\n",
      "[2021-11-25 00:52:40,109] - obspy.clients.fdsn.mass_downloader - INFO: Client 'GEONET' - Status for 1 time intervals/channels before downloading: NEEDS_DOWNLOADING\n",
      "[2021-11-25 00:52:40,942] - obspy.clients.fdsn.mass_downloader - INFO: Client 'GEONET' - Successfully downloaded 1 channels (of 1)\n",
      "[2021-11-25 00:52:40,953] - obspy.clients.fdsn.mass_downloader - INFO: Client 'GEONET' - Launching basic QC checks...\n",
      "[2021-11-25 00:52:40,963] - obspy.clients.fdsn.mass_downloader - INFO: Client 'GEONET' - Downloaded 0.0 MB [4.29 KB/sec] of data, 0.0 MB of which were discarded afterwards.\n",
      "[2021-11-25 00:52:40,964] - obspy.clients.fdsn.mass_downloader - INFO: Client 'GEONET' - Status for 1 time intervals/channels after downloading: DOWNLOADED\n",
      "[2021-11-25 00:52:40,971] - obspy.clients.fdsn.mass_downloader - INFO: Client 'GEONET' - No station information to download.\n",
      "[2021-11-25 00:52:40,972] - obspy.clients.fdsn.mass_downloader - INFO: ============================== Final report\n",
      "[2021-11-25 00:52:40,973] - obspy.clients.fdsn.mass_downloader - INFO: 0 MiniSEED files [0.0 MB] already existed.\n",
      "[2021-11-25 00:52:40,974] - obspy.clients.fdsn.mass_downloader - INFO: 1 StationXML files [0.0 MB] already existed.\n",
      "[2021-11-25 00:52:40,974] - obspy.clients.fdsn.mass_downloader - INFO: Client 'GEONET' - Acquired 1 MiniSEED files [0.0 MB].\n",
      "[2021-11-25 00:52:40,975] - obspy.clients.fdsn.mass_downloader - INFO: Client 'GEONET' - Acquired 0 StationXML files [0.0 MB].\n",
      "[2021-11-25 00:52:40,975] - obspy.clients.fdsn.mass_downloader - INFO: Downloaded 0.0 MB in total.\n",
      "[2021-11-25 00:52:40,978] - obspy.clients.fdsn.mass_downloader - INFO: Initializing FDSN client(s) for GEONET.\n",
      "[2021-11-25 00:52:40,985] - obspy.clients.fdsn.mass_downloader - INFO: Successfully initialized 1 client(s): GEONET.\n",
      "[2021-11-25 00:52:40,991] - obspy.clients.fdsn.mass_downloader - INFO: Total acquired or preexisting stations: 0\n",
      "[2021-11-25 00:52:40,993] - obspy.clients.fdsn.mass_downloader - INFO: Client 'GEONET' - Requesting unreliable availability.\n"
     ]
    },
    {
     "name": "stdout",
     "output_type": "stream",
     "text": [
      "=================================================================\n",
      "Initiating mass download request.\n"
     ]
    },
    {
     "name": "stderr",
     "output_type": "stream",
     "text": [
      "[2021-11-25 00:52:41,689] - obspy.clients.fdsn.mass_downloader - INFO: Client 'GEONET' - Successfully requested availability (0.70 seconds)\n",
      "[2021-11-25 00:52:41,696] - obspy.clients.fdsn.mass_downloader - INFO: Client 'GEONET' - Found 1 stations (1 channels).\n",
      "[2021-11-25 00:52:41,698] - obspy.clients.fdsn.mass_downloader - INFO: Client 'GEONET' - Will attempt to download data from 1 stations.\n",
      "[2021-11-25 00:52:41,703] - obspy.clients.fdsn.mass_downloader - INFO: Client 'GEONET' - Status for 1 time intervals/channels before downloading: NEEDS_DOWNLOADING\n",
      "[2021-11-25 00:52:42,289] - obspy.clients.fdsn.mass_downloader - INFO: Client 'GEONET' - No data available for request.\n",
      "[2021-11-25 00:52:42,326] - obspy.clients.fdsn.mass_downloader - INFO: Client 'GEONET' - Launching basic QC checks...\n",
      "[2021-11-25 00:52:42,344] - obspy.clients.fdsn.mass_downloader - INFO: Client 'GEONET' - Downloaded 0.0 MB [0.00 KB/sec] of data, 0.0 MB of which were discarded afterwards.\n",
      "[2021-11-25 00:52:42,356] - obspy.clients.fdsn.mass_downloader - INFO: Client 'GEONET' - Status for 1 time intervals/channels after downloading: DOWNLOAD_FAILED\n",
      "[2021-11-25 00:52:42,366] - obspy.clients.fdsn.mass_downloader - INFO: Client 'GEONET' - No station information to download.\n",
      "[2021-11-25 00:52:42,372] - obspy.clients.fdsn.mass_downloader - INFO: Client 'GEONET' - No data could be downloaded.\n",
      "[2021-11-25 00:52:42,381] - obspy.clients.fdsn.mass_downloader - INFO: ============================== Final report\n",
      "[2021-11-25 00:52:42,384] - obspy.clients.fdsn.mass_downloader - INFO: 0 MiniSEED files [0.0 MB] already existed.\n",
      "[2021-11-25 00:52:42,385] - obspy.clients.fdsn.mass_downloader - INFO: 0 StationXML files [0.0 MB] already existed.\n",
      "[2021-11-25 00:52:42,386] - obspy.clients.fdsn.mass_downloader - INFO: Client 'GEONET' - Acquired 0 MiniSEED files [0.0 MB].\n",
      "[2021-11-25 00:52:42,386] - obspy.clients.fdsn.mass_downloader - INFO: Client 'GEONET' - Acquired 0 StationXML files [0.0 MB].\n",
      "[2021-11-25 00:52:42,386] - obspy.clients.fdsn.mass_downloader - INFO: Downloaded 0.0 MB in total.\n",
      "[2021-11-25 00:52:42,414] - obspy.clients.fdsn.mass_downloader - INFO: Initializing FDSN client(s) for GEONET.\n",
      "[2021-11-25 00:52:42,463] - obspy.clients.fdsn.mass_downloader - INFO: Successfully initialized 1 client(s): GEONET.\n",
      "[2021-11-25 00:52:42,480] - obspy.clients.fdsn.mass_downloader - INFO: Total acquired or preexisting stations: 0\n",
      "[2021-11-25 00:52:42,483] - obspy.clients.fdsn.mass_downloader - INFO: Client 'GEONET' - Requesting unreliable availability.\n"
     ]
    },
    {
     "name": "stdout",
     "output_type": "stream",
     "text": [
      "=================================================================\n",
      "Initiating mass download request.\n"
     ]
    },
    {
     "name": "stderr",
     "output_type": "stream",
     "text": [
      "[2021-11-25 00:52:43,256] - obspy.clients.fdsn.mass_downloader - INFO: Client 'GEONET' - Successfully requested availability (0.77 seconds)\n",
      "[2021-11-25 00:52:43,307] - obspy.clients.fdsn.mass_downloader - INFO: Client 'GEONET' - Found 1 stations (1 channels).\n",
      "[2021-11-25 00:52:43,328] - obspy.clients.fdsn.mass_downloader - INFO: Client 'GEONET' - Will attempt to download data from 1 stations.\n",
      "[2021-11-25 00:52:43,348] - obspy.clients.fdsn.mass_downloader - INFO: Client 'GEONET' - Status for 1 time intervals/channels before downloading: NEEDS_DOWNLOADING\n",
      "[2021-11-25 00:52:44,242] - obspy.clients.fdsn.mass_downloader - INFO: Client 'GEONET' - Successfully downloaded 1 channels (of 1)\n",
      "[2021-11-25 00:52:44,290] - obspy.clients.fdsn.mass_downloader - INFO: Client 'GEONET' - Launching basic QC checks...\n",
      "[2021-11-25 00:52:44,343] - obspy.clients.fdsn.mass_downloader - INFO: Client 'GEONET' - Downloaded 0.0 MB [4.08 KB/sec] of data, 0.0 MB of which were discarded afterwards.\n",
      "[2021-11-25 00:52:44,353] - obspy.clients.fdsn.mass_downloader - INFO: Client 'GEONET' - Status for 1 time intervals/channels after downloading: DOWNLOADED\n",
      "[2021-11-25 00:52:44,367] - obspy.clients.fdsn.mass_downloader - INFO: Client 'GEONET' - No station information to download.\n",
      "[2021-11-25 00:52:44,382] - obspy.clients.fdsn.mass_downloader - INFO: ============================== Final report\n",
      "[2021-11-25 00:52:44,391] - obspy.clients.fdsn.mass_downloader - INFO: 0 MiniSEED files [0.0 MB] already existed.\n",
      "[2021-11-25 00:52:44,396] - obspy.clients.fdsn.mass_downloader - INFO: 1 StationXML files [0.0 MB] already existed.\n",
      "[2021-11-25 00:52:44,399] - obspy.clients.fdsn.mass_downloader - INFO: Client 'GEONET' - Acquired 1 MiniSEED files [0.0 MB].\n",
      "[2021-11-25 00:52:44,400] - obspy.clients.fdsn.mass_downloader - INFO: Client 'GEONET' - Acquired 0 StationXML files [0.0 MB].\n",
      "[2021-11-25 00:52:44,400] - obspy.clients.fdsn.mass_downloader - INFO: Downloaded 0.0 MB in total.\n",
      "[2021-11-25 00:52:44,434] - obspy.clients.fdsn.mass_downloader - INFO: Initializing FDSN client(s) for GEONET.\n",
      "[2021-11-25 00:52:44,464] - obspy.clients.fdsn.mass_downloader - INFO: Successfully initialized 1 client(s): GEONET.\n",
      "[2021-11-25 00:52:44,473] - obspy.clients.fdsn.mass_downloader - INFO: Total acquired or preexisting stations: 0\n",
      "[2021-11-25 00:52:44,475] - obspy.clients.fdsn.mass_downloader - INFO: Client 'GEONET' - Requesting unreliable availability.\n"
     ]
    },
    {
     "name": "stdout",
     "output_type": "stream",
     "text": [
      "=================================================================\n",
      "Initiating mass download request.\n"
     ]
    },
    {
     "name": "stderr",
     "output_type": "stream",
     "text": [
      "[2021-11-25 00:52:45,156] - obspy.clients.fdsn.mass_downloader - INFO: Client 'GEONET' - Successfully requested availability (0.68 seconds)\n",
      "[2021-11-25 00:52:45,167] - obspy.clients.fdsn.mass_downloader - INFO: Client 'GEONET' - Found 1 stations (1 channels).\n",
      "[2021-11-25 00:52:45,180] - obspy.clients.fdsn.mass_downloader - INFO: Client 'GEONET' - Will attempt to download data from 1 stations.\n",
      "[2021-11-25 00:52:45,188] - obspy.clients.fdsn.mass_downloader - INFO: Client 'GEONET' - Status for 1 time intervals/channels before downloading: NEEDS_DOWNLOADING\n",
      "[2021-11-25 00:52:45,962] - obspy.clients.fdsn.mass_downloader - INFO: Client 'GEONET' - Successfully downloaded 1 channels (of 1)\n",
      "[2021-11-25 00:52:45,976] - obspy.clients.fdsn.mass_downloader - INFO: Client 'GEONET' - Launching basic QC checks...\n",
      "[2021-11-25 00:52:45,982] - obspy.clients.fdsn.mass_downloader - INFO: Client 'GEONET' - Downloaded 0.0 MB [5.83 KB/sec] of data, 0.0 MB of which were discarded afterwards.\n",
      "[2021-11-25 00:52:45,983] - obspy.clients.fdsn.mass_downloader - INFO: Client 'GEONET' - Status for 1 time intervals/channels after downloading: DOWNLOADED\n",
      "[2021-11-25 00:52:45,991] - obspy.clients.fdsn.mass_downloader - INFO: Client 'GEONET' - No station information to download.\n",
      "[2021-11-25 00:52:45,992] - obspy.clients.fdsn.mass_downloader - INFO: ============================== Final report\n",
      "[2021-11-25 00:52:45,993] - obspy.clients.fdsn.mass_downloader - INFO: 0 MiniSEED files [0.0 MB] already existed.\n",
      "[2021-11-25 00:52:45,993] - obspy.clients.fdsn.mass_downloader - INFO: 1 StationXML files [0.0 MB] already existed.\n",
      "[2021-11-25 00:52:45,994] - obspy.clients.fdsn.mass_downloader - INFO: Client 'GEONET' - Acquired 1 MiniSEED files [0.0 MB].\n",
      "[2021-11-25 00:52:45,995] - obspy.clients.fdsn.mass_downloader - INFO: Client 'GEONET' - Acquired 0 StationXML files [0.0 MB].\n",
      "[2021-11-25 00:52:45,995] - obspy.clients.fdsn.mass_downloader - INFO: Downloaded 0.0 MB in total.\n",
      "[2021-11-25 00:52:46,002] - obspy.clients.fdsn.mass_downloader - INFO: Initializing FDSN client(s) for GEONET.\n",
      "[2021-11-25 00:52:46,016] - obspy.clients.fdsn.mass_downloader - INFO: Successfully initialized 1 client(s): GEONET.\n",
      "[2021-11-25 00:52:46,022] - obspy.clients.fdsn.mass_downloader - INFO: Total acquired or preexisting stations: 0\n",
      "[2021-11-25 00:52:46,024] - obspy.clients.fdsn.mass_downloader - INFO: Client 'GEONET' - Requesting unreliable availability.\n"
     ]
    },
    {
     "name": "stdout",
     "output_type": "stream",
     "text": [
      "=================================================================\n",
      "Initiating mass download request.\n"
     ]
    },
    {
     "name": "stderr",
     "output_type": "stream",
     "text": [
      "[2021-11-25 00:52:46,559] - obspy.clients.fdsn.mass_downloader - INFO: Client 'GEONET' - Successfully requested availability (0.53 seconds)\n",
      "[2021-11-25 00:52:46,560] - obspy.clients.fdsn.mass_downloader - INFO: Client 'GEONET' - Found 1 stations (1 channels).\n",
      "[2021-11-25 00:52:46,560] - obspy.clients.fdsn.mass_downloader - INFO: Client 'GEONET' - Will attempt to download data from 1 stations.\n",
      "[2021-11-25 00:52:46,561] - obspy.clients.fdsn.mass_downloader - INFO: Client 'GEONET' - Status for 1 time intervals/channels before downloading: NEEDS_DOWNLOADING\n",
      "[2021-11-25 00:52:47,379] - obspy.clients.fdsn.mass_downloader - INFO: Client 'GEONET' - Successfully downloaded 1 channels (of 1)\n",
      "[2021-11-25 00:52:47,402] - obspy.clients.fdsn.mass_downloader - INFO: Client 'GEONET' - Launching basic QC checks...\n",
      "[2021-11-25 00:52:47,432] - obspy.clients.fdsn.mass_downloader - INFO: Client 'GEONET' - Downloaded 0.0 MB [4.17 KB/sec] of data, 0.0 MB of which were discarded afterwards.\n",
      "[2021-11-25 00:52:47,434] - obspy.clients.fdsn.mass_downloader - INFO: Client 'GEONET' - Status for 1 time intervals/channels after downloading: DOWNLOADED\n",
      "[2021-11-25 00:52:47,439] - obspy.clients.fdsn.mass_downloader - INFO: Client 'GEONET' - No station information to download.\n",
      "[2021-11-25 00:52:47,450] - obspy.clients.fdsn.mass_downloader - INFO: ============================== Final report\n",
      "[2021-11-25 00:52:47,453] - obspy.clients.fdsn.mass_downloader - INFO: 0 MiniSEED files [0.0 MB] already existed.\n",
      "[2021-11-25 00:52:47,454] - obspy.clients.fdsn.mass_downloader - INFO: 1 StationXML files [0.0 MB] already existed.\n",
      "[2021-11-25 00:52:47,460] - obspy.clients.fdsn.mass_downloader - INFO: Client 'GEONET' - Acquired 1 MiniSEED files [0.0 MB].\n",
      "[2021-11-25 00:52:47,460] - obspy.clients.fdsn.mass_downloader - INFO: Client 'GEONET' - Acquired 0 StationXML files [0.0 MB].\n",
      "[2021-11-25 00:52:47,460] - obspy.clients.fdsn.mass_downloader - INFO: Downloaded 0.0 MB in total.\n",
      "[2021-11-25 00:52:47,478] - obspy.clients.fdsn.mass_downloader - INFO: Initializing FDSN client(s) for GEONET.\n",
      "[2021-11-25 00:52:47,504] - obspy.clients.fdsn.mass_downloader - INFO: Successfully initialized 1 client(s): GEONET.\n",
      "[2021-11-25 00:52:47,527] - obspy.clients.fdsn.mass_downloader - INFO: Total acquired or preexisting stations: 0\n",
      "[2021-11-25 00:52:47,530] - obspy.clients.fdsn.mass_downloader - INFO: Client 'GEONET' - Requesting unreliable availability.\n"
     ]
    },
    {
     "name": "stdout",
     "output_type": "stream",
     "text": [
      "=================================================================\n",
      "Initiating mass download request.\n"
     ]
    },
    {
     "name": "stderr",
     "output_type": "stream",
     "text": [
      "[2021-11-25 00:52:48,098] - obspy.clients.fdsn.mass_downloader - INFO: Client 'GEONET' - Successfully requested availability (0.57 seconds)\n",
      "[2021-11-25 00:52:48,103] - obspy.clients.fdsn.mass_downloader - INFO: Client 'GEONET' - Found 1 stations (1 channels).\n",
      "[2021-11-25 00:52:48,105] - obspy.clients.fdsn.mass_downloader - INFO: Client 'GEONET' - Will attempt to download data from 1 stations.\n",
      "[2021-11-25 00:52:48,110] - obspy.clients.fdsn.mass_downloader - INFO: Client 'GEONET' - Status for 1 time intervals/channels before downloading: NEEDS_DOWNLOADING\n",
      "[2021-11-25 00:52:49,198] - obspy.clients.fdsn.mass_downloader - INFO: Client 'GEONET' - Successfully downloaded 1 channels (of 1)\n",
      "[2021-11-25 00:52:49,446] - obspy.clients.fdsn.mass_downloader - INFO: Client 'GEONET' - Launching basic QC checks...\n",
      "[2021-11-25 00:52:49,601] - obspy.clients.fdsn.mass_downloader - INFO: Client 'GEONET' - Downloaded 0.0 MB [2.69 KB/sec] of data, 0.0 MB of which were discarded afterwards.\n",
      "[2021-11-25 00:52:49,620] - obspy.clients.fdsn.mass_downloader - INFO: Client 'GEONET' - Status for 1 time intervals/channels after downloading: DOWNLOADED\n",
      "[2021-11-25 00:52:49,640] - obspy.clients.fdsn.mass_downloader - INFO: Client 'GEONET' - No station information to download.\n",
      "[2021-11-25 00:52:49,755] - obspy.clients.fdsn.mass_downloader - INFO: ============================== Final report\n",
      "[2021-11-25 00:52:49,781] - obspy.clients.fdsn.mass_downloader - INFO: 0 MiniSEED files [0.0 MB] already existed.\n",
      "[2021-11-25 00:52:49,782] - obspy.clients.fdsn.mass_downloader - INFO: 1 StationXML files [0.0 MB] already existed.\n",
      "[2021-11-25 00:52:49,783] - obspy.clients.fdsn.mass_downloader - INFO: Client 'GEONET' - Acquired 1 MiniSEED files [0.0 MB].\n",
      "[2021-11-25 00:52:49,783] - obspy.clients.fdsn.mass_downloader - INFO: Client 'GEONET' - Acquired 0 StationXML files [0.0 MB].\n",
      "[2021-11-25 00:52:49,783] - obspy.clients.fdsn.mass_downloader - INFO: Downloaded 0.0 MB in total.\n",
      "[2021-11-25 00:52:49,857] - obspy.clients.fdsn.mass_downloader - INFO: Initializing FDSN client(s) for GEONET.\n",
      "[2021-11-25 00:52:49,913] - obspy.clients.fdsn.mass_downloader - INFO: Successfully initialized 1 client(s): GEONET.\n",
      "[2021-11-25 00:52:49,942] - obspy.clients.fdsn.mass_downloader - INFO: Total acquired or preexisting stations: 0\n",
      "[2021-11-25 00:52:49,949] - obspy.clients.fdsn.mass_downloader - INFO: Client 'GEONET' - Requesting unreliable availability.\n"
     ]
    },
    {
     "name": "stdout",
     "output_type": "stream",
     "text": [
      "=================================================================\n",
      "Initiating mass download request.\n"
     ]
    },
    {
     "name": "stderr",
     "output_type": "stream",
     "text": [
      "[2021-11-25 00:52:50,617] - obspy.clients.fdsn.mass_downloader - INFO: Client 'GEONET' - Successfully requested availability (0.66 seconds)\n",
      "[2021-11-25 00:52:50,627] - obspy.clients.fdsn.mass_downloader - INFO: Client 'GEONET' - Found 1 stations (1 channels).\n",
      "[2021-11-25 00:52:50,630] - obspy.clients.fdsn.mass_downloader - INFO: Client 'GEONET' - Will attempt to download data from 1 stations.\n",
      "[2021-11-25 00:52:50,632] - obspy.clients.fdsn.mass_downloader - INFO: Client 'GEONET' - Status for 1 time intervals/channels before downloading: NEEDS_DOWNLOADING\n",
      "[2021-11-25 00:52:51,534] - obspy.clients.fdsn.mass_downloader - INFO: Client 'GEONET' - Successfully downloaded 1 channels (of 1)\n",
      "[2021-11-25 00:52:51,559] - obspy.clients.fdsn.mass_downloader - INFO: Client 'GEONET' - Launching basic QC checks...\n",
      "[2021-11-25 00:52:51,581] - obspy.clients.fdsn.mass_downloader - INFO: Client 'GEONET' - Downloaded 0.0 MB [3.33 KB/sec] of data, 0.0 MB of which were discarded afterwards.\n",
      "[2021-11-25 00:52:51,583] - obspy.clients.fdsn.mass_downloader - INFO: Client 'GEONET' - Status for 1 time intervals/channels after downloading: DOWNLOADED\n",
      "[2021-11-25 00:52:51,600] - obspy.clients.fdsn.mass_downloader - INFO: Client 'GEONET' - No station information to download.\n",
      "[2021-11-25 00:52:51,611] - obspy.clients.fdsn.mass_downloader - INFO: ============================== Final report\n",
      "[2021-11-25 00:52:51,613] - obspy.clients.fdsn.mass_downloader - INFO: 0 MiniSEED files [0.0 MB] already existed.\n",
      "[2021-11-25 00:52:51,617] - obspy.clients.fdsn.mass_downloader - INFO: 1 StationXML files [0.0 MB] already existed.\n",
      "[2021-11-25 00:52:51,621] - obspy.clients.fdsn.mass_downloader - INFO: Client 'GEONET' - Acquired 1 MiniSEED files [0.0 MB].\n",
      "[2021-11-25 00:52:51,623] - obspy.clients.fdsn.mass_downloader - INFO: Client 'GEONET' - Acquired 0 StationXML files [0.0 MB].\n",
      "[2021-11-25 00:52:51,624] - obspy.clients.fdsn.mass_downloader - INFO: Downloaded 0.0 MB in total.\n",
      "[2021-11-25 00:52:51,642] - obspy.clients.fdsn.mass_downloader - INFO: Initializing FDSN client(s) for GEONET.\n",
      "[2021-11-25 00:52:51,667] - obspy.clients.fdsn.mass_downloader - INFO: Successfully initialized 1 client(s): GEONET.\n",
      "[2021-11-25 00:52:51,673] - obspy.clients.fdsn.mass_downloader - INFO: Total acquired or preexisting stations: 0\n",
      "[2021-11-25 00:52:51,674] - obspy.clients.fdsn.mass_downloader - INFO: Client 'GEONET' - Requesting unreliable availability.\n"
     ]
    },
    {
     "name": "stdout",
     "output_type": "stream",
     "text": [
      "=================================================================\n",
      "Initiating mass download request.\n"
     ]
    },
    {
     "name": "stderr",
     "output_type": "stream",
     "text": [
      "[2021-11-25 00:52:52,338] - obspy.clients.fdsn.mass_downloader - INFO: Client 'GEONET' - Successfully requested availability (0.66 seconds)\n",
      "[2021-11-25 00:52:52,350] - obspy.clients.fdsn.mass_downloader - INFO: Client 'GEONET' - Found 1 stations (1 channels).\n",
      "[2021-11-25 00:52:52,352] - obspy.clients.fdsn.mass_downloader - INFO: Client 'GEONET' - Will attempt to download data from 1 stations.\n",
      "[2021-11-25 00:52:52,356] - obspy.clients.fdsn.mass_downloader - INFO: Client 'GEONET' - Status for 1 time intervals/channels before downloading: NEEDS_DOWNLOADING\n",
      "[2021-11-25 00:52:53,205] - obspy.clients.fdsn.mass_downloader - INFO: Client 'GEONET' - Successfully downloaded 1 channels (of 1)\n",
      "[2021-11-25 00:52:53,217] - obspy.clients.fdsn.mass_downloader - INFO: Client 'GEONET' - Launching basic QC checks...\n",
      "[2021-11-25 00:52:53,229] - obspy.clients.fdsn.mass_downloader - INFO: Client 'GEONET' - Downloaded 0.0 MB [3.55 KB/sec] of data, 0.0 MB of which were discarded afterwards.\n",
      "[2021-11-25 00:52:53,230] - obspy.clients.fdsn.mass_downloader - INFO: Client 'GEONET' - Status for 1 time intervals/channels after downloading: DOWNLOADED\n",
      "[2021-11-25 00:52:53,235] - obspy.clients.fdsn.mass_downloader - INFO: Client 'GEONET' - No station information to download.\n",
      "[2021-11-25 00:52:53,236] - obspy.clients.fdsn.mass_downloader - INFO: ============================== Final report\n",
      "[2021-11-25 00:52:53,236] - obspy.clients.fdsn.mass_downloader - INFO: 0 MiniSEED files [0.0 MB] already existed.\n",
      "[2021-11-25 00:52:53,237] - obspy.clients.fdsn.mass_downloader - INFO: 1 StationXML files [0.0 MB] already existed.\n",
      "[2021-11-25 00:52:53,237] - obspy.clients.fdsn.mass_downloader - INFO: Client 'GEONET' - Acquired 1 MiniSEED files [0.0 MB].\n",
      "[2021-11-25 00:52:53,237] - obspy.clients.fdsn.mass_downloader - INFO: Client 'GEONET' - Acquired 0 StationXML files [0.0 MB].\n",
      "[2021-11-25 00:52:53,238] - obspy.clients.fdsn.mass_downloader - INFO: Downloaded 0.0 MB in total.\n",
      "[2021-11-25 00:52:53,240] - obspy.clients.fdsn.mass_downloader - INFO: Initializing FDSN client(s) for GEONET.\n",
      "[2021-11-25 00:52:53,248] - obspy.clients.fdsn.mass_downloader - INFO: Successfully initialized 1 client(s): GEONET.\n",
      "[2021-11-25 00:52:53,249] - obspy.clients.fdsn.mass_downloader - INFO: Total acquired or preexisting stations: 0\n",
      "[2021-11-25 00:52:53,249] - obspy.clients.fdsn.mass_downloader - INFO: Client 'GEONET' - Requesting unreliable availability.\n"
     ]
    },
    {
     "name": "stdout",
     "output_type": "stream",
     "text": [
      "=================================================================\n",
      "Initiating mass download request.\n"
     ]
    },
    {
     "name": "stderr",
     "output_type": "stream",
     "text": [
      "[2021-11-25 00:52:53,952] - obspy.clients.fdsn.mass_downloader - INFO: Client 'GEONET' - Successfully requested availability (0.70 seconds)\n",
      "[2021-11-25 00:52:53,954] - obspy.clients.fdsn.mass_downloader - INFO: Client 'GEONET' - Found 1 stations (1 channels).\n",
      "[2021-11-25 00:52:53,954] - obspy.clients.fdsn.mass_downloader - INFO: Client 'GEONET' - Will attempt to download data from 1 stations.\n",
      "[2021-11-25 00:52:53,955] - obspy.clients.fdsn.mass_downloader - INFO: Client 'GEONET' - Status for 1 time intervals/channels before downloading: NEEDS_DOWNLOADING\n",
      "[2021-11-25 00:52:54,918] - obspy.clients.fdsn.mass_downloader - INFO: Client 'GEONET' - Successfully downloaded 1 channels (of 1)\n",
      "[2021-11-25 00:52:54,973] - obspy.clients.fdsn.mass_downloader - INFO: Client 'GEONET' - Launching basic QC checks...\n",
      "[2021-11-25 00:52:55,032] - obspy.clients.fdsn.mass_downloader - INFO: Client 'GEONET' - Downloaded 0.0 MB [3.45 KB/sec] of data, 0.0 MB of which were discarded afterwards.\n",
      "[2021-11-25 00:52:55,036] - obspy.clients.fdsn.mass_downloader - INFO: Client 'GEONET' - Status for 1 time intervals/channels after downloading: DOWNLOADED\n",
      "[2021-11-25 00:52:55,051] - obspy.clients.fdsn.mass_downloader - INFO: Client 'GEONET' - No station information to download.\n",
      "[2021-11-25 00:52:55,057] - obspy.clients.fdsn.mass_downloader - INFO: ============================== Final report\n",
      "[2021-11-25 00:52:55,061] - obspy.clients.fdsn.mass_downloader - INFO: 0 MiniSEED files [0.0 MB] already existed.\n",
      "[2021-11-25 00:52:55,066] - obspy.clients.fdsn.mass_downloader - INFO: 1 StationXML files [0.0 MB] already existed.\n",
      "[2021-11-25 00:52:55,067] - obspy.clients.fdsn.mass_downloader - INFO: Client 'GEONET' - Acquired 1 MiniSEED files [0.0 MB].\n",
      "[2021-11-25 00:52:55,067] - obspy.clients.fdsn.mass_downloader - INFO: Client 'GEONET' - Acquired 0 StationXML files [0.0 MB].\n",
      "[2021-11-25 00:52:55,067] - obspy.clients.fdsn.mass_downloader - INFO: Downloaded 0.0 MB in total.\n",
      "[2021-11-25 00:52:55,094] - obspy.clients.fdsn.mass_downloader - INFO: Initializing FDSN client(s) for GEONET.\n",
      "[2021-11-25 00:52:55,141] - obspy.clients.fdsn.mass_downloader - INFO: Successfully initialized 1 client(s): GEONET.\n",
      "[2021-11-25 00:52:55,143] - obspy.clients.fdsn.mass_downloader - INFO: Total acquired or preexisting stations: 0\n",
      "[2021-11-25 00:52:55,144] - obspy.clients.fdsn.mass_downloader - INFO: Client 'GEONET' - Requesting unreliable availability.\n"
     ]
    },
    {
     "name": "stdout",
     "output_type": "stream",
     "text": [
      "=================================================================\n",
      "Initiating mass download request.\n"
     ]
    },
    {
     "name": "stderr",
     "output_type": "stream",
     "text": [
      "[2021-11-25 00:52:55,707] - obspy.clients.fdsn.mass_downloader - INFO: Client 'GEONET' - Successfully requested availability (0.56 seconds)\n",
      "[2021-11-25 00:52:55,737] - obspy.clients.fdsn.mass_downloader - INFO: Client 'GEONET' - Found 1 stations (1 channels).\n",
      "[2021-11-25 00:52:55,745] - obspy.clients.fdsn.mass_downloader - INFO: Client 'GEONET' - Will attempt to download data from 1 stations.\n",
      "[2021-11-25 00:52:55,749] - obspy.clients.fdsn.mass_downloader - INFO: Client 'GEONET' - Status for 1 time intervals/channels before downloading: NEEDS_DOWNLOADING\n",
      "[2021-11-25 00:52:56,613] - obspy.clients.fdsn.mass_downloader - INFO: Client 'GEONET' - Successfully downloaded 1 channels (of 1)\n",
      "[2021-11-25 00:52:56,625] - obspy.clients.fdsn.mass_downloader - INFO: Client 'GEONET' - Launching basic QC checks...\n",
      "[2021-11-25 00:52:56,635] - obspy.clients.fdsn.mass_downloader - INFO: Client 'GEONET' - Downloaded 0.0 MB [3.57 KB/sec] of data, 0.0 MB of which were discarded afterwards.\n",
      "[2021-11-25 00:52:56,637] - obspy.clients.fdsn.mass_downloader - INFO: Client 'GEONET' - Status for 1 time intervals/channels after downloading: DOWNLOADED\n",
      "[2021-11-25 00:52:56,641] - obspy.clients.fdsn.mass_downloader - INFO: Client 'GEONET' - No station information to download.\n",
      "[2021-11-25 00:52:56,643] - obspy.clients.fdsn.mass_downloader - INFO: ============================== Final report\n",
      "[2021-11-25 00:52:56,643] - obspy.clients.fdsn.mass_downloader - INFO: 0 MiniSEED files [0.0 MB] already existed.\n",
      "[2021-11-25 00:52:56,644] - obspy.clients.fdsn.mass_downloader - INFO: 1 StationXML files [0.0 MB] already existed.\n",
      "[2021-11-25 00:52:56,645] - obspy.clients.fdsn.mass_downloader - INFO: Client 'GEONET' - Acquired 1 MiniSEED files [0.0 MB].\n",
      "[2021-11-25 00:52:56,645] - obspy.clients.fdsn.mass_downloader - INFO: Client 'GEONET' - Acquired 0 StationXML files [0.0 MB].\n",
      "[2021-11-25 00:52:56,646] - obspy.clients.fdsn.mass_downloader - INFO: Downloaded 0.0 MB in total.\n",
      "[2021-11-25 00:52:56,651] - obspy.clients.fdsn.mass_downloader - INFO: Initializing FDSN client(s) for GEONET.\n",
      "[2021-11-25 00:52:56,666] - obspy.clients.fdsn.mass_downloader - INFO: Successfully initialized 1 client(s): GEONET.\n",
      "[2021-11-25 00:52:56,669] - obspy.clients.fdsn.mass_downloader - INFO: Total acquired or preexisting stations: 0\n",
      "[2021-11-25 00:52:56,671] - obspy.clients.fdsn.mass_downloader - INFO: Client 'GEONET' - Requesting unreliable availability.\n"
     ]
    },
    {
     "name": "stdout",
     "output_type": "stream",
     "text": [
      "=================================================================\n",
      "Initiating mass download request.\n"
     ]
    },
    {
     "name": "stderr",
     "output_type": "stream",
     "text": [
      "[2021-11-25 00:52:57,278] - obspy.clients.fdsn.mass_downloader - INFO: Client 'GEONET' - Successfully requested availability (0.61 seconds)\n",
      "[2021-11-25 00:52:57,298] - obspy.clients.fdsn.mass_downloader - INFO: Client 'GEONET' - Found 1 stations (1 channels).\n",
      "[2021-11-25 00:52:57,310] - obspy.clients.fdsn.mass_downloader - INFO: Client 'GEONET' - Will attempt to download data from 1 stations.\n",
      "[2021-11-25 00:52:57,313] - obspy.clients.fdsn.mass_downloader - INFO: Client 'GEONET' - Status for 1 time intervals/channels before downloading: NEEDS_DOWNLOADING\n",
      "[2021-11-25 00:52:58,150] - obspy.clients.fdsn.mass_downloader - INFO: Client 'GEONET' - Successfully downloaded 1 channels (of 1)\n",
      "[2021-11-25 00:52:58,199] - obspy.clients.fdsn.mass_downloader - INFO: Client 'GEONET' - Launching basic QC checks...\n",
      "[2021-11-25 00:52:58,221] - obspy.clients.fdsn.mass_downloader - INFO: Client 'GEONET' - Downloaded 0.0 MB [4.10 KB/sec] of data, 0.0 MB of which were discarded afterwards.\n",
      "[2021-11-25 00:52:58,223] - obspy.clients.fdsn.mass_downloader - INFO: Client 'GEONET' - Status for 1 time intervals/channels after downloading: DOWNLOADED\n",
      "[2021-11-25 00:52:58,232] - obspy.clients.fdsn.mass_downloader - INFO: Client 'GEONET' - No station information to download.\n",
      "[2021-11-25 00:52:58,253] - obspy.clients.fdsn.mass_downloader - INFO: ============================== Final report\n",
      "[2021-11-25 00:52:58,255] - obspy.clients.fdsn.mass_downloader - INFO: 0 MiniSEED files [0.0 MB] already existed.\n",
      "[2021-11-25 00:52:58,256] - obspy.clients.fdsn.mass_downloader - INFO: 1 StationXML files [0.0 MB] already existed.\n",
      "[2021-11-25 00:52:58,259] - obspy.clients.fdsn.mass_downloader - INFO: Client 'GEONET' - Acquired 1 MiniSEED files [0.0 MB].\n",
      "[2021-11-25 00:52:58,259] - obspy.clients.fdsn.mass_downloader - INFO: Client 'GEONET' - Acquired 0 StationXML files [0.0 MB].\n",
      "[2021-11-25 00:52:58,259] - obspy.clients.fdsn.mass_downloader - INFO: Downloaded 0.0 MB in total.\n",
      "[2021-11-25 00:52:58,276] - obspy.clients.fdsn.mass_downloader - INFO: Initializing FDSN client(s) for GEONET.\n",
      "[2021-11-25 00:52:58,306] - obspy.clients.fdsn.mass_downloader - INFO: Successfully initialized 1 client(s): GEONET.\n",
      "[2021-11-25 00:52:58,318] - obspy.clients.fdsn.mass_downloader - INFO: Total acquired or preexisting stations: 0\n",
      "[2021-11-25 00:52:58,321] - obspy.clients.fdsn.mass_downloader - INFO: Client 'GEONET' - Requesting unreliable availability.\n"
     ]
    },
    {
     "name": "stdout",
     "output_type": "stream",
     "text": [
      "=================================================================\n",
      "Initiating mass download request.\n"
     ]
    },
    {
     "name": "stderr",
     "output_type": "stream",
     "text": [
      "[2021-11-25 00:52:58,863] - obspy.clients.fdsn.mass_downloader - INFO: Client 'GEONET' - Successfully requested availability (0.54 seconds)\n",
      "[2021-11-25 00:52:58,876] - obspy.clients.fdsn.mass_downloader - INFO: Client 'GEONET' - Found 1 stations (1 channels).\n",
      "[2021-11-25 00:52:58,877] - obspy.clients.fdsn.mass_downloader - INFO: Client 'GEONET' - Will attempt to download data from 1 stations.\n",
      "[2021-11-25 00:52:58,884] - obspy.clients.fdsn.mass_downloader - INFO: Client 'GEONET' - Status for 1 time intervals/channels before downloading: NEEDS_DOWNLOADING\n",
      "[2021-11-25 00:52:59,613] - obspy.clients.fdsn.mass_downloader - INFO: Client 'GEONET' - Successfully downloaded 1 channels (of 1)\n",
      "[2021-11-25 00:52:59,622] - obspy.clients.fdsn.mass_downloader - INFO: Client 'GEONET' - Launching basic QC checks...\n",
      "[2021-11-25 00:52:59,631] - obspy.clients.fdsn.mass_downloader - INFO: Client 'GEONET' - Downloaded 0.0 MB [4.84 KB/sec] of data, 0.0 MB of which were discarded afterwards.\n",
      "[2021-11-25 00:52:59,631] - obspy.clients.fdsn.mass_downloader - INFO: Client 'GEONET' - Status for 1 time intervals/channels after downloading: DOWNLOADED\n",
      "[2021-11-25 00:52:59,643] - obspy.clients.fdsn.mass_downloader - INFO: Client 'GEONET' - No station information to download.\n",
      "[2021-11-25 00:52:59,647] - obspy.clients.fdsn.mass_downloader - INFO: ============================== Final report\n",
      "[2021-11-25 00:52:59,650] - obspy.clients.fdsn.mass_downloader - INFO: 0 MiniSEED files [0.0 MB] already existed.\n",
      "[2021-11-25 00:52:59,651] - obspy.clients.fdsn.mass_downloader - INFO: 1 StationXML files [0.0 MB] already existed.\n",
      "[2021-11-25 00:52:59,652] - obspy.clients.fdsn.mass_downloader - INFO: Client 'GEONET' - Acquired 1 MiniSEED files [0.0 MB].\n",
      "[2021-11-25 00:52:59,653] - obspy.clients.fdsn.mass_downloader - INFO: Client 'GEONET' - Acquired 0 StationXML files [0.0 MB].\n",
      "[2021-11-25 00:52:59,654] - obspy.clients.fdsn.mass_downloader - INFO: Downloaded 0.0 MB in total.\n",
      "[2021-11-25 00:52:59,664] - obspy.clients.fdsn.mass_downloader - INFO: Initializing FDSN client(s) for GEONET.\n",
      "[2021-11-25 00:52:59,682] - obspy.clients.fdsn.mass_downloader - INFO: Successfully initialized 1 client(s): GEONET.\n",
      "[2021-11-25 00:52:59,683] - obspy.clients.fdsn.mass_downloader - INFO: Total acquired or preexisting stations: 0\n",
      "[2021-11-25 00:52:59,684] - obspy.clients.fdsn.mass_downloader - INFO: Client 'GEONET' - Requesting unreliable availability.\n"
     ]
    },
    {
     "name": "stdout",
     "output_type": "stream",
     "text": [
      "=================================================================\n",
      "Initiating mass download request.\n"
     ]
    },
    {
     "name": "stderr",
     "output_type": "stream",
     "text": [
      "[2021-11-25 00:53:00,278] - obspy.clients.fdsn.mass_downloader - INFO: Client 'GEONET' - Successfully requested availability (0.59 seconds)\n",
      "[2021-11-25 00:53:00,324] - obspy.clients.fdsn.mass_downloader - INFO: Client 'GEONET' - Found 1 stations (1 channels).\n",
      "[2021-11-25 00:53:00,335] - obspy.clients.fdsn.mass_downloader - INFO: Client 'GEONET' - Will attempt to download data from 1 stations.\n",
      "[2021-11-25 00:53:00,341] - obspy.clients.fdsn.mass_downloader - INFO: Client 'GEONET' - Status for 1 time intervals/channels before downloading: NEEDS_DOWNLOADING\n",
      "[2021-11-25 00:53:01,400] - obspy.clients.fdsn.mass_downloader - INFO: Client 'GEONET' - Successfully downloaded 1 channels (of 1)\n",
      "[2021-11-25 00:53:01,434] - obspy.clients.fdsn.mass_downloader - INFO: Client 'GEONET' - Launching basic QC checks...\n",
      "[2021-11-25 00:53:01,485] - obspy.clients.fdsn.mass_downloader - INFO: Client 'GEONET' - Downloaded 0.0 MB [4.30 KB/sec] of data, 0.0 MB of which were discarded afterwards.\n",
      "[2021-11-25 00:53:01,489] - obspy.clients.fdsn.mass_downloader - INFO: Client 'GEONET' - Status for 1 time intervals/channels after downloading: DOWNLOADED\n",
      "[2021-11-25 00:53:01,500] - obspy.clients.fdsn.mass_downloader - INFO: Client 'GEONET' - No station information to download.\n",
      "[2021-11-25 00:53:01,508] - obspy.clients.fdsn.mass_downloader - INFO: ============================== Final report\n",
      "[2021-11-25 00:53:01,510] - obspy.clients.fdsn.mass_downloader - INFO: 0 MiniSEED files [0.0 MB] already existed.\n",
      "[2021-11-25 00:53:01,512] - obspy.clients.fdsn.mass_downloader - INFO: 1 StationXML files [0.0 MB] already existed.\n",
      "[2021-11-25 00:53:01,513] - obspy.clients.fdsn.mass_downloader - INFO: Client 'GEONET' - Acquired 1 MiniSEED files [0.0 MB].\n",
      "[2021-11-25 00:53:01,514] - obspy.clients.fdsn.mass_downloader - INFO: Client 'GEONET' - Acquired 0 StationXML files [0.0 MB].\n",
      "[2021-11-25 00:53:01,515] - obspy.clients.fdsn.mass_downloader - INFO: Downloaded 0.0 MB in total.\n",
      "[2021-11-25 00:53:01,523] - obspy.clients.fdsn.mass_downloader - INFO: Initializing FDSN client(s) for GEONET.\n",
      "[2021-11-25 00:53:01,557] - obspy.clients.fdsn.mass_downloader - INFO: Successfully initialized 1 client(s): GEONET.\n",
      "[2021-11-25 00:53:01,572] - obspy.clients.fdsn.mass_downloader - INFO: Total acquired or preexisting stations: 0\n",
      "[2021-11-25 00:53:01,576] - obspy.clients.fdsn.mass_downloader - INFO: Client 'GEONET' - Requesting unreliable availability.\n"
     ]
    },
    {
     "name": "stdout",
     "output_type": "stream",
     "text": [
      "=================================================================\n",
      "Initiating mass download request.\n"
     ]
    },
    {
     "name": "stderr",
     "output_type": "stream",
     "text": [
      "[2021-11-25 00:53:02,271] - obspy.clients.fdsn.mass_downloader - INFO: Client 'GEONET' - Successfully requested availability (0.69 seconds)\n",
      "[2021-11-25 00:53:02,322] - obspy.clients.fdsn.mass_downloader - INFO: Client 'GEONET' - Found 1 stations (1 channels).\n",
      "[2021-11-25 00:53:02,332] - obspy.clients.fdsn.mass_downloader - INFO: Client 'GEONET' - Will attempt to download data from 1 stations.\n",
      "[2021-11-25 00:53:02,347] - obspy.clients.fdsn.mass_downloader - INFO: Client 'GEONET' - Status for 1 time intervals/channels before downloading: NEEDS_DOWNLOADING\n",
      "[2021-11-25 00:53:03,266] - obspy.clients.fdsn.mass_downloader - INFO: Client 'GEONET' - Successfully downloaded 1 channels (of 1)\n",
      "[2021-11-25 00:53:03,274] - obspy.clients.fdsn.mass_downloader - INFO: Client 'GEONET' - Launching basic QC checks...\n",
      "[2021-11-25 00:53:03,284] - obspy.clients.fdsn.mass_downloader - INFO: Client 'GEONET' - Downloaded 0.0 MB [4.54 KB/sec] of data, 0.0 MB of which were discarded afterwards.\n",
      "[2021-11-25 00:53:03,285] - obspy.clients.fdsn.mass_downloader - INFO: Client 'GEONET' - Status for 1 time intervals/channels after downloading: DOWNLOADED\n",
      "[2021-11-25 00:53:03,287] - obspy.clients.fdsn.mass_downloader - INFO: Client 'GEONET' - No station information to download.\n",
      "[2021-11-25 00:53:03,288] - obspy.clients.fdsn.mass_downloader - INFO: ============================== Final report\n",
      "[2021-11-25 00:53:03,289] - obspy.clients.fdsn.mass_downloader - INFO: 0 MiniSEED files [0.0 MB] already existed.\n",
      "[2021-11-25 00:53:03,289] - obspy.clients.fdsn.mass_downloader - INFO: 1 StationXML files [0.0 MB] already existed.\n",
      "[2021-11-25 00:53:03,289] - obspy.clients.fdsn.mass_downloader - INFO: Client 'GEONET' - Acquired 1 MiniSEED files [0.0 MB].\n",
      "[2021-11-25 00:53:03,290] - obspy.clients.fdsn.mass_downloader - INFO: Client 'GEONET' - Acquired 0 StationXML files [0.0 MB].\n",
      "[2021-11-25 00:53:03,290] - obspy.clients.fdsn.mass_downloader - INFO: Downloaded 0.0 MB in total.\n",
      "[2021-11-25 00:53:03,295] - obspy.clients.fdsn.mass_downloader - INFO: Initializing FDSN client(s) for GEONET.\n",
      "[2021-11-25 00:53:03,301] - obspy.clients.fdsn.mass_downloader - INFO: Successfully initialized 1 client(s): GEONET.\n",
      "[2021-11-25 00:53:03,302] - obspy.clients.fdsn.mass_downloader - INFO: Total acquired or preexisting stations: 0\n",
      "[2021-11-25 00:53:03,302] - obspy.clients.fdsn.mass_downloader - INFO: Client 'GEONET' - Requesting unreliable availability.\n"
     ]
    },
    {
     "name": "stdout",
     "output_type": "stream",
     "text": [
      "=================================================================\n",
      "Initiating mass download request.\n"
     ]
    },
    {
     "name": "stderr",
     "output_type": "stream",
     "text": [
      "[2021-11-25 00:53:03,937] - obspy.clients.fdsn.mass_downloader - INFO: Client 'GEONET' - Successfully requested availability (0.63 seconds)\n",
      "[2021-11-25 00:53:03,948] - obspy.clients.fdsn.mass_downloader - INFO: Client 'GEONET' - Found 1 stations (1 channels).\n",
      "[2021-11-25 00:53:03,954] - obspy.clients.fdsn.mass_downloader - INFO: Client 'GEONET' - Will attempt to download data from 1 stations.\n",
      "[2021-11-25 00:53:03,957] - obspy.clients.fdsn.mass_downloader - INFO: Client 'GEONET' - Status for 1 time intervals/channels before downloading: NEEDS_DOWNLOADING\n",
      "[2021-11-25 00:53:04,878] - obspy.clients.fdsn.mass_downloader - INFO: Client 'GEONET' - Successfully downloaded 1 channels (of 1)\n",
      "[2021-11-25 00:53:04,955] - obspy.clients.fdsn.mass_downloader - INFO: Client 'GEONET' - Launching basic QC checks...\n",
      "[2021-11-25 00:53:04,990] - obspy.clients.fdsn.mass_downloader - INFO: Client 'GEONET' - Downloaded 0.0 MB [3.55 KB/sec] of data, 0.0 MB of which were discarded afterwards.\n",
      "[2021-11-25 00:53:05,006] - obspy.clients.fdsn.mass_downloader - INFO: Client 'GEONET' - Status for 1 time intervals/channels after downloading: DOWNLOADED\n",
      "[2021-11-25 00:53:05,019] - obspy.clients.fdsn.mass_downloader - INFO: Client 'GEONET' - No station information to download.\n",
      "[2021-11-25 00:53:05,043] - obspy.clients.fdsn.mass_downloader - INFO: ============================== Final report\n",
      "[2021-11-25 00:53:05,052] - obspy.clients.fdsn.mass_downloader - INFO: 0 MiniSEED files [0.0 MB] already existed.\n",
      "[2021-11-25 00:53:05,058] - obspy.clients.fdsn.mass_downloader - INFO: 1 StationXML files [0.0 MB] already existed.\n",
      "[2021-11-25 00:53:05,064] - obspy.clients.fdsn.mass_downloader - INFO: Client 'GEONET' - Acquired 1 MiniSEED files [0.0 MB].\n",
      "[2021-11-25 00:53:05,064] - obspy.clients.fdsn.mass_downloader - INFO: Client 'GEONET' - Acquired 0 StationXML files [0.0 MB].\n",
      "[2021-11-25 00:53:05,065] - obspy.clients.fdsn.mass_downloader - INFO: Downloaded 0.0 MB in total.\n",
      "[2021-11-25 00:53:05,075] - obspy.clients.fdsn.mass_downloader - INFO: Initializing FDSN client(s) for GEONET.\n",
      "[2021-11-25 00:53:05,125] - obspy.clients.fdsn.mass_downloader - INFO: Successfully initialized 1 client(s): GEONET.\n",
      "[2021-11-25 00:53:05,128] - obspy.clients.fdsn.mass_downloader - INFO: Total acquired or preexisting stations: 0\n",
      "[2021-11-25 00:53:05,134] - obspy.clients.fdsn.mass_downloader - INFO: Client 'GEONET' - Requesting unreliable availability.\n"
     ]
    },
    {
     "name": "stdout",
     "output_type": "stream",
     "text": [
      "=================================================================\n",
      "Initiating mass download request.\n"
     ]
    },
    {
     "name": "stderr",
     "output_type": "stream",
     "text": [
      "[2021-11-25 00:53:05,729] - obspy.clients.fdsn.mass_downloader - INFO: Client 'GEONET' - Successfully requested availability (0.59 seconds)\n",
      "[2021-11-25 00:53:05,754] - obspy.clients.fdsn.mass_downloader - INFO: Client 'GEONET' - Found 1 stations (1 channels).\n",
      "[2021-11-25 00:53:05,762] - obspy.clients.fdsn.mass_downloader - INFO: Client 'GEONET' - Will attempt to download data from 1 stations.\n",
      "[2021-11-25 00:53:05,797] - obspy.clients.fdsn.mass_downloader - INFO: Client 'GEONET' - Status for 1 time intervals/channels before downloading: NEEDS_DOWNLOADING\n",
      "[2021-11-25 00:53:06,731] - obspy.clients.fdsn.mass_downloader - INFO: Client 'GEONET' - Successfully downloaded 1 channels (of 1)\n",
      "[2021-11-25 00:53:06,766] - obspy.clients.fdsn.mass_downloader - INFO: Client 'GEONET' - Launching basic QC checks...\n",
      "[2021-11-25 00:53:06,797] - obspy.clients.fdsn.mass_downloader - INFO: Client 'GEONET' - Downloaded 0.0 MB [4.45 KB/sec] of data, 0.0 MB of which were discarded afterwards.\n",
      "[2021-11-25 00:53:06,808] - obspy.clients.fdsn.mass_downloader - INFO: Client 'GEONET' - Status for 1 time intervals/channels after downloading: DOWNLOADED\n",
      "[2021-11-25 00:53:06,856] - obspy.clients.fdsn.mass_downloader - INFO: Client 'GEONET' - No station information to download.\n",
      "[2021-11-25 00:53:06,875] - obspy.clients.fdsn.mass_downloader - INFO: ============================== Final report\n",
      "[2021-11-25 00:53:06,876] - obspy.clients.fdsn.mass_downloader - INFO: 0 MiniSEED files [0.0 MB] already existed.\n",
      "[2021-11-25 00:53:06,884] - obspy.clients.fdsn.mass_downloader - INFO: 1 StationXML files [0.0 MB] already existed.\n",
      "[2021-11-25 00:53:06,885] - obspy.clients.fdsn.mass_downloader - INFO: Client 'GEONET' - Acquired 1 MiniSEED files [0.0 MB].\n",
      "[2021-11-25 00:53:06,885] - obspy.clients.fdsn.mass_downloader - INFO: Client 'GEONET' - Acquired 0 StationXML files [0.0 MB].\n",
      "[2021-11-25 00:53:06,885] - obspy.clients.fdsn.mass_downloader - INFO: Downloaded 0.0 MB in total.\n",
      "[2021-11-25 00:53:06,923] - obspy.clients.fdsn.mass_downloader - INFO: Initializing FDSN client(s) for GEONET.\n",
      "[2021-11-25 00:53:07,005] - obspy.clients.fdsn.mass_downloader - INFO: Successfully initialized 1 client(s): GEONET.\n",
      "[2021-11-25 00:53:07,025] - obspy.clients.fdsn.mass_downloader - INFO: Total acquired or preexisting stations: 0\n",
      "[2021-11-25 00:53:07,027] - obspy.clients.fdsn.mass_downloader - INFO: Client 'GEONET' - Requesting unreliable availability.\n"
     ]
    },
    {
     "name": "stdout",
     "output_type": "stream",
     "text": [
      "=================================================================\n",
      "Initiating mass download request.\n"
     ]
    },
    {
     "name": "stderr",
     "output_type": "stream",
     "text": [
      "[2021-11-25 00:53:07,677] - obspy.clients.fdsn.mass_downloader - INFO: Client 'GEONET' - Successfully requested availability (0.65 seconds)\n",
      "[2021-11-25 00:53:07,697] - obspy.clients.fdsn.mass_downloader - INFO: Client 'GEONET' - Found 1 stations (1 channels).\n",
      "[2021-11-25 00:53:07,709] - obspy.clients.fdsn.mass_downloader - INFO: Client 'GEONET' - Will attempt to download data from 1 stations.\n",
      "[2021-11-25 00:53:07,722] - obspy.clients.fdsn.mass_downloader - INFO: Client 'GEONET' - Status for 1 time intervals/channels before downloading: NEEDS_DOWNLOADING\n",
      "[2021-11-25 00:53:08,673] - obspy.clients.fdsn.mass_downloader - INFO: Client 'GEONET' - Successfully downloaded 1 channels (of 1)\n",
      "[2021-11-25 00:53:08,701] - obspy.clients.fdsn.mass_downloader - INFO: Client 'GEONET' - Launching basic QC checks...\n",
      "[2021-11-25 00:53:08,737] - obspy.clients.fdsn.mass_downloader - INFO: Client 'GEONET' - Downloaded 0.0 MB [3.12 KB/sec] of data, 0.0 MB of which were discarded afterwards.\n",
      "[2021-11-25 00:53:08,740] - obspy.clients.fdsn.mass_downloader - INFO: Client 'GEONET' - Status for 1 time intervals/channels after downloading: DOWNLOADED\n",
      "[2021-11-25 00:53:08,753] - obspy.clients.fdsn.mass_downloader - INFO: Client 'GEONET' - No station information to download.\n",
      "[2021-11-25 00:53:08,761] - obspy.clients.fdsn.mass_downloader - INFO: ============================== Final report\n",
      "[2021-11-25 00:53:08,763] - obspy.clients.fdsn.mass_downloader - INFO: 0 MiniSEED files [0.0 MB] already existed.\n",
      "[2021-11-25 00:53:08,764] - obspy.clients.fdsn.mass_downloader - INFO: 1 StationXML files [0.0 MB] already existed.\n",
      "[2021-11-25 00:53:08,765] - obspy.clients.fdsn.mass_downloader - INFO: Client 'GEONET' - Acquired 1 MiniSEED files [0.0 MB].\n",
      "[2021-11-25 00:53:08,765] - obspy.clients.fdsn.mass_downloader - INFO: Client 'GEONET' - Acquired 0 StationXML files [0.0 MB].\n",
      "[2021-11-25 00:53:08,765] - obspy.clients.fdsn.mass_downloader - INFO: Downloaded 0.0 MB in total.\n",
      "[2021-11-25 00:53:08,787] - obspy.clients.fdsn.mass_downloader - INFO: Initializing FDSN client(s) for GEONET.\n",
      "[2021-11-25 00:53:08,819] - obspy.clients.fdsn.mass_downloader - INFO: Successfully initialized 1 client(s): GEONET.\n",
      "[2021-11-25 00:53:08,825] - obspy.clients.fdsn.mass_downloader - INFO: Total acquired or preexisting stations: 0\n",
      "[2021-11-25 00:53:08,829] - obspy.clients.fdsn.mass_downloader - INFO: Client 'GEONET' - Requesting unreliable availability.\n"
     ]
    },
    {
     "name": "stdout",
     "output_type": "stream",
     "text": [
      "=================================================================\n",
      "Initiating mass download request.\n"
     ]
    },
    {
     "name": "stderr",
     "output_type": "stream",
     "text": [
      "[2021-11-25 00:53:09,459] - obspy.clients.fdsn.mass_downloader - INFO: Client 'GEONET' - Successfully requested availability (0.63 seconds)\n",
      "[2021-11-25 00:53:09,525] - obspy.clients.fdsn.mass_downloader - INFO: Client 'GEONET' - Found 1 stations (1 channels).\n",
      "[2021-11-25 00:53:09,545] - obspy.clients.fdsn.mass_downloader - INFO: Client 'GEONET' - Will attempt to download data from 1 stations.\n",
      "[2021-11-25 00:53:09,551] - obspy.clients.fdsn.mass_downloader - INFO: Client 'GEONET' - Status for 1 time intervals/channels before downloading: NEEDS_DOWNLOADING\n",
      "[2021-11-25 00:53:10,467] - obspy.clients.fdsn.mass_downloader - INFO: Client 'GEONET' - Successfully downloaded 1 channels (of 1)\n",
      "[2021-11-25 00:53:10,511] - obspy.clients.fdsn.mass_downloader - INFO: Client 'GEONET' - Launching basic QC checks...\n",
      "[2021-11-25 00:53:10,551] - obspy.clients.fdsn.mass_downloader - INFO: Client 'GEONET' - Downloaded 0.0 MB [3.86 KB/sec] of data, 0.0 MB of which were discarded afterwards.\n",
      "[2021-11-25 00:53:10,555] - obspy.clients.fdsn.mass_downloader - INFO: Client 'GEONET' - Status for 1 time intervals/channels after downloading: DOWNLOADED\n",
      "[2021-11-25 00:53:10,572] - obspy.clients.fdsn.mass_downloader - INFO: Client 'GEONET' - No station information to download.\n",
      "[2021-11-25 00:53:10,579] - obspy.clients.fdsn.mass_downloader - INFO: ============================== Final report\n",
      "[2021-11-25 00:53:10,582] - obspy.clients.fdsn.mass_downloader - INFO: 0 MiniSEED files [0.0 MB] already existed.\n",
      "[2021-11-25 00:53:10,582] - obspy.clients.fdsn.mass_downloader - INFO: 1 StationXML files [0.0 MB] already existed.\n",
      "[2021-11-25 00:53:10,583] - obspy.clients.fdsn.mass_downloader - INFO: Client 'GEONET' - Acquired 1 MiniSEED files [0.0 MB].\n",
      "[2021-11-25 00:53:10,583] - obspy.clients.fdsn.mass_downloader - INFO: Client 'GEONET' - Acquired 0 StationXML files [0.0 MB].\n",
      "[2021-11-25 00:53:10,583] - obspy.clients.fdsn.mass_downloader - INFO: Downloaded 0.0 MB in total.\n",
      "[2021-11-25 00:53:10,620] - obspy.clients.fdsn.mass_downloader - INFO: Initializing FDSN client(s) for GEONET.\n",
      "[2021-11-25 00:53:10,661] - obspy.clients.fdsn.mass_downloader - INFO: Successfully initialized 1 client(s): GEONET.\n",
      "[2021-11-25 00:53:10,665] - obspy.clients.fdsn.mass_downloader - INFO: Total acquired or preexisting stations: 0\n",
      "[2021-11-25 00:53:10,668] - obspy.clients.fdsn.mass_downloader - INFO: Client 'GEONET' - Requesting unreliable availability.\n"
     ]
    },
    {
     "name": "stdout",
     "output_type": "stream",
     "text": [
      "=================================================================\n",
      "Initiating mass download request.\n"
     ]
    },
    {
     "name": "stderr",
     "output_type": "stream",
     "text": [
      "[2021-11-25 00:53:11,269] - obspy.clients.fdsn.mass_downloader - INFO: Client 'GEONET' - Successfully requested availability (0.60 seconds)\n",
      "[2021-11-25 00:53:11,288] - obspy.clients.fdsn.mass_downloader - INFO: Client 'GEONET' - Found 1 stations (1 channels).\n",
      "[2021-11-25 00:53:11,296] - obspy.clients.fdsn.mass_downloader - INFO: Client 'GEONET' - Will attempt to download data from 1 stations.\n",
      "[2021-11-25 00:53:11,311] - obspy.clients.fdsn.mass_downloader - INFO: Client 'GEONET' - Status for 1 time intervals/channels before downloading: NEEDS_DOWNLOADING\n",
      "[2021-11-25 00:53:12,198] - obspy.clients.fdsn.mass_downloader - INFO: Client 'GEONET' - Successfully downloaded 1 channels (of 1)\n",
      "[2021-11-25 00:53:12,231] - obspy.clients.fdsn.mass_downloader - INFO: Client 'GEONET' - Launching basic QC checks...\n",
      "[2021-11-25 00:53:12,275] - obspy.clients.fdsn.mass_downloader - INFO: Client 'GEONET' - Downloaded 0.0 MB [3.37 KB/sec] of data, 0.0 MB of which were discarded afterwards.\n",
      "[2021-11-25 00:53:12,278] - obspy.clients.fdsn.mass_downloader - INFO: Client 'GEONET' - Status for 1 time intervals/channels after downloading: DOWNLOADED\n",
      "[2021-11-25 00:53:12,292] - obspy.clients.fdsn.mass_downloader - INFO: Client 'GEONET' - No station information to download.\n",
      "[2021-11-25 00:53:12,312] - obspy.clients.fdsn.mass_downloader - INFO: ============================== Final report\n",
      "[2021-11-25 00:53:12,317] - obspy.clients.fdsn.mass_downloader - INFO: 0 MiniSEED files [0.0 MB] already existed.\n",
      "[2021-11-25 00:53:12,321] - obspy.clients.fdsn.mass_downloader - INFO: 1 StationXML files [0.0 MB] already existed.\n",
      "[2021-11-25 00:53:12,321] - obspy.clients.fdsn.mass_downloader - INFO: Client 'GEONET' - Acquired 1 MiniSEED files [0.0 MB].\n",
      "[2021-11-25 00:53:12,326] - obspy.clients.fdsn.mass_downloader - INFO: Client 'GEONET' - Acquired 0 StationXML files [0.0 MB].\n",
      "[2021-11-25 00:53:12,327] - obspy.clients.fdsn.mass_downloader - INFO: Downloaded 0.0 MB in total.\n",
      "[2021-11-25 00:53:12,337] - obspy.clients.fdsn.mass_downloader - INFO: Initializing FDSN client(s) for GEONET.\n",
      "[2021-11-25 00:53:12,370] - obspy.clients.fdsn.mass_downloader - INFO: Successfully initialized 1 client(s): GEONET.\n",
      "[2021-11-25 00:53:12,378] - obspy.clients.fdsn.mass_downloader - INFO: Total acquired or preexisting stations: 0\n",
      "[2021-11-25 00:53:12,382] - obspy.clients.fdsn.mass_downloader - INFO: Client 'GEONET' - Requesting unreliable availability.\n"
     ]
    },
    {
     "name": "stdout",
     "output_type": "stream",
     "text": [
      "=================================================================\n",
      "Initiating mass download request.\n"
     ]
    },
    {
     "name": "stderr",
     "output_type": "stream",
     "text": [
      "[2021-11-25 00:53:13,107] - obspy.clients.fdsn.mass_downloader - INFO: Client 'GEONET' - Successfully requested availability (0.72 seconds)\n",
      "[2021-11-25 00:53:13,127] - obspy.clients.fdsn.mass_downloader - INFO: Client 'GEONET' - Found 1 stations (1 channels).\n",
      "[2021-11-25 00:53:13,149] - obspy.clients.fdsn.mass_downloader - INFO: Client 'GEONET' - Will attempt to download data from 1 stations.\n",
      "[2021-11-25 00:53:13,154] - obspy.clients.fdsn.mass_downloader - INFO: Client 'GEONET' - Status for 1 time intervals/channels before downloading: NEEDS_DOWNLOADING\n",
      "[2021-11-25 00:53:14,068] - obspy.clients.fdsn.mass_downloader - INFO: Client 'GEONET' - Successfully downloaded 1 channels (of 1)\n",
      "[2021-11-25 00:53:14,108] - obspy.clients.fdsn.mass_downloader - INFO: Client 'GEONET' - Launching basic QC checks...\n",
      "[2021-11-25 00:53:14,146] - obspy.clients.fdsn.mass_downloader - INFO: Client 'GEONET' - Downloaded 0.0 MB [3.79 KB/sec] of data, 0.0 MB of which were discarded afterwards.\n",
      "[2021-11-25 00:53:14,151] - obspy.clients.fdsn.mass_downloader - INFO: Client 'GEONET' - Status for 1 time intervals/channels after downloading: DOWNLOADED\n",
      "[2021-11-25 00:53:14,162] - obspy.clients.fdsn.mass_downloader - INFO: Client 'GEONET' - No station information to download.\n",
      "[2021-11-25 00:53:14,175] - obspy.clients.fdsn.mass_downloader - INFO: ============================== Final report\n",
      "[2021-11-25 00:53:14,179] - obspy.clients.fdsn.mass_downloader - INFO: 0 MiniSEED files [0.0 MB] already existed.\n",
      "[2021-11-25 00:53:14,183] - obspy.clients.fdsn.mass_downloader - INFO: 1 StationXML files [0.0 MB] already existed.\n",
      "[2021-11-25 00:53:14,186] - obspy.clients.fdsn.mass_downloader - INFO: Client 'GEONET' - Acquired 1 MiniSEED files [0.0 MB].\n",
      "[2021-11-25 00:53:14,187] - obspy.clients.fdsn.mass_downloader - INFO: Client 'GEONET' - Acquired 0 StationXML files [0.0 MB].\n",
      "[2021-11-25 00:53:14,187] - obspy.clients.fdsn.mass_downloader - INFO: Downloaded 0.0 MB in total.\n",
      "[2021-11-25 00:53:14,201] - obspy.clients.fdsn.mass_downloader - INFO: Initializing FDSN client(s) for GEONET.\n",
      "[2021-11-25 00:53:14,246] - obspy.clients.fdsn.mass_downloader - INFO: Successfully initialized 1 client(s): GEONET.\n",
      "[2021-11-25 00:53:14,250] - obspy.clients.fdsn.mass_downloader - INFO: Total acquired or preexisting stations: 0\n",
      "[2021-11-25 00:53:14,253] - obspy.clients.fdsn.mass_downloader - INFO: Client 'GEONET' - Requesting unreliable availability.\n"
     ]
    },
    {
     "name": "stdout",
     "output_type": "stream",
     "text": [
      "=================================================================\n",
      "Initiating mass download request.\n"
     ]
    },
    {
     "name": "stderr",
     "output_type": "stream",
     "text": [
      "[2021-11-25 00:53:14,846] - obspy.clients.fdsn.mass_downloader - INFO: Client 'GEONET' - Successfully requested availability (0.59 seconds)\n",
      "[2021-11-25 00:53:14,928] - obspy.clients.fdsn.mass_downloader - INFO: Client 'GEONET' - Found 1 stations (1 channels).\n",
      "[2021-11-25 00:53:14,959] - obspy.clients.fdsn.mass_downloader - INFO: Client 'GEONET' - Will attempt to download data from 1 stations.\n",
      "[2021-11-25 00:53:14,970] - obspy.clients.fdsn.mass_downloader - INFO: Client 'GEONET' - Status for 1 time intervals/channels before downloading: NEEDS_DOWNLOADING\n",
      "[2021-11-25 00:53:16,005] - obspy.clients.fdsn.mass_downloader - INFO: Client 'GEONET' - Successfully downloaded 1 channels (of 1)\n",
      "[2021-11-25 00:53:16,069] - obspy.clients.fdsn.mass_downloader - INFO: Client 'GEONET' - Launching basic QC checks...\n",
      "[2021-11-25 00:53:16,100] - obspy.clients.fdsn.mass_downloader - INFO: Client 'GEONET' - Downloaded 0.0 MB [3.29 KB/sec] of data, 0.0 MB of which were discarded afterwards.\n",
      "[2021-11-25 00:53:16,112] - obspy.clients.fdsn.mass_downloader - INFO: Client 'GEONET' - Status for 1 time intervals/channels after downloading: DOWNLOADED\n",
      "[2021-11-25 00:53:16,120] - obspy.clients.fdsn.mass_downloader - INFO: Client 'GEONET' - No station information to download.\n",
      "[2021-11-25 00:53:16,125] - obspy.clients.fdsn.mass_downloader - INFO: ============================== Final report\n",
      "[2021-11-25 00:53:16,132] - obspy.clients.fdsn.mass_downloader - INFO: 0 MiniSEED files [0.0 MB] already existed.\n",
      "[2021-11-25 00:53:16,135] - obspy.clients.fdsn.mass_downloader - INFO: 1 StationXML files [0.0 MB] already existed.\n",
      "[2021-11-25 00:53:16,136] - obspy.clients.fdsn.mass_downloader - INFO: Client 'GEONET' - Acquired 1 MiniSEED files [0.0 MB].\n",
      "[2021-11-25 00:53:16,137] - obspy.clients.fdsn.mass_downloader - INFO: Client 'GEONET' - Acquired 0 StationXML files [0.0 MB].\n",
      "[2021-11-25 00:53:16,142] - obspy.clients.fdsn.mass_downloader - INFO: Downloaded 0.0 MB in total.\n",
      "[2021-11-25 00:53:16,175] - obspy.clients.fdsn.mass_downloader - INFO: Initializing FDSN client(s) for GEONET.\n",
      "[2021-11-25 00:53:16,219] - obspy.clients.fdsn.mass_downloader - INFO: Successfully initialized 1 client(s): GEONET.\n",
      "[2021-11-25 00:53:16,229] - obspy.clients.fdsn.mass_downloader - INFO: Total acquired or preexisting stations: 0\n",
      "[2021-11-25 00:53:16,231] - obspy.clients.fdsn.mass_downloader - INFO: Client 'GEONET' - Requesting unreliable availability.\n"
     ]
    },
    {
     "name": "stdout",
     "output_type": "stream",
     "text": [
      "=================================================================\n",
      "Initiating mass download request.\n"
     ]
    },
    {
     "name": "stderr",
     "output_type": "stream",
     "text": [
      "[2021-11-25 00:53:16,819] - obspy.clients.fdsn.mass_downloader - INFO: Client 'GEONET' - Successfully requested availability (0.59 seconds)\n",
      "[2021-11-25 00:53:16,891] - obspy.clients.fdsn.mass_downloader - INFO: Client 'GEONET' - Found 1 stations (1 channels).\n",
      "[2021-11-25 00:53:16,914] - obspy.clients.fdsn.mass_downloader - INFO: Client 'GEONET' - Will attempt to download data from 1 stations.\n",
      "[2021-11-25 00:53:16,929] - obspy.clients.fdsn.mass_downloader - INFO: Client 'GEONET' - Status for 1 time intervals/channels before downloading: NEEDS_DOWNLOADING\n",
      "[2021-11-25 00:53:17,932] - obspy.clients.fdsn.mass_downloader - INFO: Client 'GEONET' - Successfully downloaded 1 channels (of 1)\n",
      "[2021-11-25 00:53:17,992] - obspy.clients.fdsn.mass_downloader - INFO: Client 'GEONET' - Launching basic QC checks...\n",
      "[2021-11-25 00:53:18,059] - obspy.clients.fdsn.mass_downloader - INFO: Client 'GEONET' - Downloaded 0.0 MB [3.43 KB/sec] of data, 0.0 MB of which were discarded afterwards.\n",
      "[2021-11-25 00:53:18,074] - obspy.clients.fdsn.mass_downloader - INFO: Client 'GEONET' - Status for 1 time intervals/channels after downloading: DOWNLOADED\n",
      "[2021-11-25 00:53:18,101] - obspy.clients.fdsn.mass_downloader - INFO: Client 'GEONET' - No station information to download.\n",
      "[2021-11-25 00:53:18,109] - obspy.clients.fdsn.mass_downloader - INFO: ============================== Final report\n",
      "[2021-11-25 00:53:18,112] - obspy.clients.fdsn.mass_downloader - INFO: 0 MiniSEED files [0.0 MB] already existed.\n",
      "[2021-11-25 00:53:18,116] - obspy.clients.fdsn.mass_downloader - INFO: 1 StationXML files [0.0 MB] already existed.\n",
      "[2021-11-25 00:53:18,119] - obspy.clients.fdsn.mass_downloader - INFO: Client 'GEONET' - Acquired 1 MiniSEED files [0.0 MB].\n",
      "[2021-11-25 00:53:18,121] - obspy.clients.fdsn.mass_downloader - INFO: Client 'GEONET' - Acquired 0 StationXML files [0.0 MB].\n",
      "[2021-11-25 00:53:18,124] - obspy.clients.fdsn.mass_downloader - INFO: Downloaded 0.0 MB in total.\n",
      "[2021-11-25 00:53:18,211] - obspy.clients.fdsn.mass_downloader - INFO: Initializing FDSN client(s) for GEONET.\n",
      "[2021-11-25 00:53:18,238] - obspy.clients.fdsn.mass_downloader - INFO: Successfully initialized 1 client(s): GEONET.\n",
      "[2021-11-25 00:53:18,247] - obspy.clients.fdsn.mass_downloader - INFO: Total acquired or preexisting stations: 0\n",
      "[2021-11-25 00:53:18,252] - obspy.clients.fdsn.mass_downloader - INFO: Client 'GEONET' - Requesting unreliable availability.\n"
     ]
    },
    {
     "name": "stdout",
     "output_type": "stream",
     "text": [
      "=================================================================\n",
      "Initiating mass download request.\n"
     ]
    },
    {
     "name": "stderr",
     "output_type": "stream",
     "text": [
      "[2021-11-25 00:53:18,924] - obspy.clients.fdsn.mass_downloader - INFO: Client 'GEONET' - Successfully requested availability (0.67 seconds)\n",
      "[2021-11-25 00:53:18,952] - obspy.clients.fdsn.mass_downloader - INFO: Client 'GEONET' - Found 1 stations (1 channels).\n",
      "[2021-11-25 00:53:18,967] - obspy.clients.fdsn.mass_downloader - INFO: Client 'GEONET' - Will attempt to download data from 1 stations.\n",
      "[2021-11-25 00:53:18,972] - obspy.clients.fdsn.mass_downloader - INFO: Client 'GEONET' - Status for 1 time intervals/channels before downloading: NEEDS_DOWNLOADING\n",
      "[2021-11-25 00:53:20,020] - obspy.clients.fdsn.mass_downloader - INFO: Client 'GEONET' - Successfully downloaded 1 channels (of 1)\n",
      "[2021-11-25 00:53:20,075] - obspy.clients.fdsn.mass_downloader - INFO: Client 'GEONET' - Launching basic QC checks...\n",
      "[2021-11-25 00:53:20,167] - obspy.clients.fdsn.mass_downloader - INFO: Client 'GEONET' - Downloaded 0.0 MB [3.77 KB/sec] of data, 0.0 MB of which were discarded afterwards.\n",
      "[2021-11-25 00:53:20,171] - obspy.clients.fdsn.mass_downloader - INFO: Client 'GEONET' - Status for 1 time intervals/channels after downloading: DOWNLOADED\n",
      "[2021-11-25 00:53:20,217] - obspy.clients.fdsn.mass_downloader - INFO: Client 'GEONET' - No station information to download.\n",
      "[2021-11-25 00:53:20,223] - obspy.clients.fdsn.mass_downloader - INFO: ============================== Final report\n",
      "[2021-11-25 00:53:20,229] - obspy.clients.fdsn.mass_downloader - INFO: 0 MiniSEED files [0.0 MB] already existed.\n",
      "[2021-11-25 00:53:20,233] - obspy.clients.fdsn.mass_downloader - INFO: 1 StationXML files [0.0 MB] already existed.\n",
      "[2021-11-25 00:53:20,233] - obspy.clients.fdsn.mass_downloader - INFO: Client 'GEONET' - Acquired 1 MiniSEED files [0.0 MB].\n",
      "[2021-11-25 00:53:20,237] - obspy.clients.fdsn.mass_downloader - INFO: Client 'GEONET' - Acquired 0 StationXML files [0.0 MB].\n",
      "[2021-11-25 00:53:20,245] - obspy.clients.fdsn.mass_downloader - INFO: Downloaded 0.0 MB in total.\n",
      "[2021-11-25 00:53:20,258] - obspy.clients.fdsn.mass_downloader - INFO: Initializing FDSN client(s) for GEONET.\n",
      "[2021-11-25 00:53:20,295] - obspy.clients.fdsn.mass_downloader - INFO: Successfully initialized 1 client(s): GEONET.\n",
      "[2021-11-25 00:53:20,330] - obspy.clients.fdsn.mass_downloader - INFO: Total acquired or preexisting stations: 0\n",
      "[2021-11-25 00:53:20,334] - obspy.clients.fdsn.mass_downloader - INFO: Client 'GEONET' - Requesting unreliable availability.\n"
     ]
    },
    {
     "name": "stdout",
     "output_type": "stream",
     "text": [
      "=================================================================\n",
      "Initiating mass download request.\n"
     ]
    },
    {
     "name": "stderr",
     "output_type": "stream",
     "text": [
      "[2021-11-25 00:53:20,958] - obspy.clients.fdsn.mass_downloader - INFO: Client 'GEONET' - Successfully requested availability (0.62 seconds)\n",
      "[2021-11-25 00:53:20,983] - obspy.clients.fdsn.mass_downloader - INFO: Client 'GEONET' - Found 1 stations (1 channels).\n",
      "[2021-11-25 00:53:20,990] - obspy.clients.fdsn.mass_downloader - INFO: Client 'GEONET' - Will attempt to download data from 1 stations.\n",
      "[2021-11-25 00:53:20,998] - obspy.clients.fdsn.mass_downloader - INFO: Client 'GEONET' - Status for 1 time intervals/channels before downloading: NEEDS_DOWNLOADING\n",
      "[2021-11-25 00:53:21,780] - obspy.clients.fdsn.mass_downloader - INFO: Client 'GEONET' - Successfully downloaded 1 channels (of 1)\n",
      "[2021-11-25 00:53:21,826] - obspy.clients.fdsn.mass_downloader - INFO: Client 'GEONET' - Launching basic QC checks...\n",
      "[2021-11-25 00:53:21,874] - obspy.clients.fdsn.mass_downloader - INFO: Client 'GEONET' - Downloaded 0.0 MB [4.32 KB/sec] of data, 0.0 MB of which were discarded afterwards.\n",
      "[2021-11-25 00:53:21,884] - obspy.clients.fdsn.mass_downloader - INFO: Client 'GEONET' - Status for 1 time intervals/channels after downloading: DOWNLOADED\n",
      "[2021-11-25 00:53:21,922] - obspy.clients.fdsn.mass_downloader - INFO: Client 'GEONET' - No station information to download.\n",
      "[2021-11-25 00:53:21,940] - obspy.clients.fdsn.mass_downloader - INFO: ============================== Final report\n",
      "[2021-11-25 00:53:21,943] - obspy.clients.fdsn.mass_downloader - INFO: 0 MiniSEED files [0.0 MB] already existed.\n",
      "[2021-11-25 00:53:21,943] - obspy.clients.fdsn.mass_downloader - INFO: 1 StationXML files [0.0 MB] already existed.\n",
      "[2021-11-25 00:53:21,947] - obspy.clients.fdsn.mass_downloader - INFO: Client 'GEONET' - Acquired 1 MiniSEED files [0.0 MB].\n",
      "[2021-11-25 00:53:21,948] - obspy.clients.fdsn.mass_downloader - INFO: Client 'GEONET' - Acquired 0 StationXML files [0.0 MB].\n",
      "[2021-11-25 00:53:21,949] - obspy.clients.fdsn.mass_downloader - INFO: Downloaded 0.0 MB in total.\n",
      "[2021-11-25 00:53:21,969] - obspy.clients.fdsn.mass_downloader - INFO: Initializing FDSN client(s) for GEONET.\n",
      "[2021-11-25 00:53:22,011] - obspy.clients.fdsn.mass_downloader - INFO: Successfully initialized 1 client(s): GEONET.\n",
      "[2021-11-25 00:53:22,022] - obspy.clients.fdsn.mass_downloader - INFO: Total acquired or preexisting stations: 0\n",
      "[2021-11-25 00:53:22,027] - obspy.clients.fdsn.mass_downloader - INFO: Client 'GEONET' - Requesting unreliable availability.\n"
     ]
    },
    {
     "name": "stdout",
     "output_type": "stream",
     "text": [
      "=================================================================\n",
      "Initiating mass download request.\n"
     ]
    },
    {
     "name": "stderr",
     "output_type": "stream",
     "text": [
      "[2021-11-25 00:53:22,611] - obspy.clients.fdsn.mass_downloader - INFO: Client 'GEONET' - Successfully requested availability (0.58 seconds)\n",
      "[2021-11-25 00:53:22,692] - obspy.clients.fdsn.mass_downloader - INFO: Client 'GEONET' - Found 1 stations (1 channels).\n",
      "[2021-11-25 00:53:22,703] - obspy.clients.fdsn.mass_downloader - INFO: Client 'GEONET' - Will attempt to download data from 1 stations.\n",
      "[2021-11-25 00:53:22,711] - obspy.clients.fdsn.mass_downloader - INFO: Client 'GEONET' - Status for 1 time intervals/channels before downloading: NEEDS_DOWNLOADING\n",
      "[2021-11-25 00:53:23,713] - obspy.clients.fdsn.mass_downloader - INFO: Client 'GEONET' - Successfully downloaded 1 channels (of 1)\n",
      "[2021-11-25 00:53:23,800] - obspy.clients.fdsn.mass_downloader - INFO: Client 'GEONET' - Launching basic QC checks...\n",
      "[2021-11-25 00:53:23,951] - obspy.clients.fdsn.mass_downloader - INFO: Client 'GEONET' - Downloaded 0.0 MB [5.27 KB/sec] of data, 0.0 MB of which were discarded afterwards.\n",
      "[2021-11-25 00:53:23,955] - obspy.clients.fdsn.mass_downloader - INFO: Client 'GEONET' - Status for 1 time intervals/channels after downloading: DOWNLOADED\n",
      "[2021-11-25 00:53:23,972] - obspy.clients.fdsn.mass_downloader - INFO: Client 'GEONET' - No station information to download.\n",
      "[2021-11-25 00:53:23,981] - obspy.clients.fdsn.mass_downloader - INFO: ============================== Final report\n",
      "[2021-11-25 00:53:23,983] - obspy.clients.fdsn.mass_downloader - INFO: 0 MiniSEED files [0.0 MB] already existed.\n",
      "[2021-11-25 00:53:23,984] - obspy.clients.fdsn.mass_downloader - INFO: 1 StationXML files [0.0 MB] already existed.\n"
     ]
    }
   ],
   "source": [
    "import mpl_toolkits\n",
    "import matplotlib.pyplot as plt\n",
    "import pandas as pd\n",
    "import geopandas as gpd\n",
    "import numpy as np\n",
    "import pickle\n",
    "import os\n",
    "import logging\n",
    "from obspy import read\n",
    "\n",
    "\n",
    "from obspy.clients.fdsn.mass_downloader import RectangularDomain, Restrictions, MassDownloader\n",
    "from scipy import signal\n",
    "from obspy import UTCDateTime\n",
    "from obspy.clients.fdsn import Client as FDSN_Client\n",
    "from obspy import read_inventory\n",
    "from obspy.core.util import (BASEMAP_VERSION, CARTOPY_VERSION,\n",
    "                             MATPLOTLIB_VERSION, PROJ4_VERSION)\n",
    "\n",
    "events_df = pd.read_pickle('data/events_processed.pkl')\n",
    "stations_df = pd.read_pickle('data/stations_processed.pkl')\n",
    "\n",
    "events = events_df[(events_df.time > '2020-01-01') & (events_df.time < '2021-01-01')]\n",
    "events = events[4200:4500]\n",
    "\n",
    "def mass_data_downloader(start, stop, event_id, Station,\n",
    "                         Network='NZ', \n",
    "                         Channel='HHZ', \n",
    "                         Location=10\n",
    "                         ):\n",
    "    '''\n",
    "    This function uses the FDSN mass data downloader to automatically download\n",
    "    data from the XH network deployed on the RIS from Nov 2014 - Nov 2016.\n",
    "    More information on the Obspy mass downloader available at:\n",
    "    https://docs.obspy.org/packages/autogen/obspy.clients.fdsn.mass_downloader.html\n",
    "    Inputs:\n",
    "    start: \"YYYYMMDD\"\n",
    "    stop:  \"YYYYMMDD\"\n",
    "    Network: 2-character FDSN network code\n",
    "    Station: 2-character station code\n",
    "    Channel: 3-character channel code\n",
    "    Location: 10.\n",
    "    '''\n",
    "    print(\"=\" * 65)\n",
    "    print(\"Initiating mass download request.\")\n",
    "\n",
    "    domain = RectangularDomain(\n",
    "        minlatitude=-47.749,\n",
    "        maxlatitude=-33.779,\n",
    "        minlongitude=166.104,\n",
    "        maxlongitude=178.990\n",
    "    )\n",
    "\n",
    "    restrictions = Restrictions(\n",
    "        starttime = start,\n",
    "        endtime = stop,\n",
    "        #24 hr\n",
    "        chunklength_in_sec = 86400,\n",
    "        network = Network,\n",
    "        station = Station,\n",
    "        location = Location,\n",
    "        channel = Channel,\n",
    "        reject_channels_with_gaps = False,\n",
    "        minimum_length = 0.0,\n",
    "        minimum_interstation_distance_in_m = 100.0\n",
    "    )\n",
    "\n",
    "    mdl = MassDownloader(providers=['GEONET'])\n",
    "    mdl.download(\n",
    "        domain,\n",
    "        restrictions,\n",
    "        mseed_storage=f\"normal/waveforms/{event_id}\",\n",
    "        stationxml_storage=\"normal/stations\"\n",
    "    )\n",
    "\n",
    "    logger = logging.getLogger(\"obspy.clients.fdsn.mass_downloader\")\n",
    "    logger.setLevel(logging.DEBUG)\n",
    "    \n",
    "    \n",
    "for i, event in events.iterrows():\n",
    "    event_id = event.event_id\n",
    "    \n",
    "    for j, station in stations_df.iterrows():\n",
    "        event_time = event['time']\n",
    "        \n",
    "        start=event_time - 3000\n",
    "        end=event_time - 2970\n",
    "        mass_data_downloader(start, end, event_id, station.station_code)"
   ]
  },
  {
   "cell_type": "code",
   "execution_count": null,
   "id": "b024f85f",
   "metadata": {},
   "outputs": [],
   "source": []
  }
 ],
 "metadata": {
  "kernelspec": {
   "display_name": "Python 3",
   "language": "python",
   "name": "python3"
  },
  "language_info": {
   "codemirror_mode": {
    "name": "ipython",
    "version": 3
   },
   "file_extension": ".py",
   "mimetype": "text/x-python",
   "name": "python",
   "nbconvert_exporter": "python",
   "pygments_lexer": "ipython3",
   "version": "3.9.2"
  }
 },
 "nbformat": 4,
 "nbformat_minor": 5
}
