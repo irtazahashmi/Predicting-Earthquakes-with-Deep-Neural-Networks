{
 "cells": [
  {
   "cell_type": "code",
   "execution_count": null,
   "id": "ef6d0070",
   "metadata": {},
   "outputs": [
    {
     "name": "stderr",
     "output_type": "stream",
     "text": [
      "[2021-11-25 00:45:18,449] - obspy.clients.fdsn.mass_downloader - INFO: Initializing FDSN client(s) for GEONET.\n",
      "[2021-11-25 00:45:18,567] - obspy.clients.fdsn.mass_downloader - INFO: Successfully initialized 1 client(s): GEONET.\n",
      "[2021-11-25 00:45:18,569] - obspy.clients.fdsn.mass_downloader - INFO: Total acquired or preexisting stations: 0\n",
      "[2021-11-25 00:45:18,569] - obspy.clients.fdsn.mass_downloader - INFO: Client 'GEONET' - Requesting unreliable availability.\n"
     ]
    },
    {
     "name": "stdout",
     "output_type": "stream",
     "text": [
      "=================================================================\n",
      "Initiating mass download request.\n"
     ]
    },
    {
     "name": "stderr",
     "output_type": "stream",
     "text": [
      "[2021-11-25 00:45:19,311] - obspy.clients.fdsn.mass_downloader - INFO: Client 'GEONET' - Successfully requested availability (0.74 seconds)\n",
      "[2021-11-25 00:45:19,311] - obspy.clients.fdsn.mass_downloader - INFO: Client 'GEONET' - Found 1 stations (1 channels).\n",
      "[2021-11-25 00:45:19,312] - obspy.clients.fdsn.mass_downloader - INFO: Client 'GEONET' - Will attempt to download data from 1 stations.\n",
      "[2021-11-25 00:45:19,312] - obspy.clients.fdsn.mass_downloader - INFO: Client 'GEONET' - Status for 1 time intervals/channels before downloading: NEEDS_DOWNLOADING\n",
      "[2021-11-25 00:45:20,304] - obspy.clients.fdsn.mass_downloader - INFO: Client 'GEONET' - Successfully downloaded 1 channels (of 1)\n",
      "[2021-11-25 00:45:20,307] - obspy.clients.fdsn.mass_downloader - INFO: Client 'GEONET' - Launching basic QC checks...\n",
      "[2021-11-25 00:45:20,339] - obspy.clients.fdsn.mass_downloader - INFO: Client 'GEONET' - Downloaded 0.0 MB [3.02 KB/sec] of data, 0.0 MB of which were discarded afterwards.\n",
      "[2021-11-25 00:45:20,340] - obspy.clients.fdsn.mass_downloader - INFO: Client 'GEONET' - Status for 1 time intervals/channels after downloading: DOWNLOADED\n",
      "[2021-11-25 00:45:20,343] - obspy.clients.fdsn.mass_downloader - INFO: Client 'GEONET' - No station information to download.\n",
      "[2021-11-25 00:45:20,345] - obspy.clients.fdsn.mass_downloader - INFO: ============================== Final report\n",
      "[2021-11-25 00:45:20,346] - obspy.clients.fdsn.mass_downloader - INFO: 0 MiniSEED files [0.0 MB] already existed.\n",
      "[2021-11-25 00:45:20,346] - obspy.clients.fdsn.mass_downloader - INFO: 1 StationXML files [0.0 MB] already existed.\n",
      "[2021-11-25 00:45:20,347] - obspy.clients.fdsn.mass_downloader - INFO: Client 'GEONET' - Acquired 1 MiniSEED files [0.0 MB].\n",
      "[2021-11-25 00:45:20,348] - obspy.clients.fdsn.mass_downloader - INFO: Client 'GEONET' - Acquired 0 StationXML files [0.0 MB].\n",
      "[2021-11-25 00:45:20,348] - obspy.clients.fdsn.mass_downloader - INFO: Downloaded 0.0 MB in total.\n",
      "[2021-11-25 00:45:20,357] - obspy.clients.fdsn.mass_downloader - INFO: Initializing FDSN client(s) for GEONET.\n",
      "[2021-11-25 00:45:20,362] - obspy.clients.fdsn.mass_downloader - INFO: Successfully initialized 1 client(s): GEONET.\n",
      "[2021-11-25 00:45:20,363] - obspy.clients.fdsn.mass_downloader - INFO: Total acquired or preexisting stations: 0\n",
      "[2021-11-25 00:45:20,364] - obspy.clients.fdsn.mass_downloader - INFO: Client 'GEONET' - Requesting unreliable availability.\n"
     ]
    },
    {
     "name": "stdout",
     "output_type": "stream",
     "text": [
      "=================================================================\n",
      "Initiating mass download request.\n"
     ]
    },
    {
     "name": "stderr",
     "output_type": "stream",
     "text": [
      "[2021-11-25 00:45:21,569] - obspy.clients.fdsn.mass_downloader - INFO: Client 'GEONET' - Successfully requested availability (1.20 seconds)\n",
      "[2021-11-25 00:45:21,570] - obspy.clients.fdsn.mass_downloader - INFO: Client 'GEONET' - Found 1 stations (1 channels).\n",
      "[2021-11-25 00:45:21,570] - obspy.clients.fdsn.mass_downloader - INFO: Client 'GEONET' - Will attempt to download data from 1 stations.\n",
      "[2021-11-25 00:45:21,571] - obspy.clients.fdsn.mass_downloader - INFO: Client 'GEONET' - Status for 1 time intervals/channels before downloading: NEEDS_DOWNLOADING\n",
      "[2021-11-25 00:45:22,516] - obspy.clients.fdsn.mass_downloader - INFO: Client 'GEONET' - Successfully downloaded 1 channels (of 1)\n",
      "[2021-11-25 00:45:22,520] - obspy.clients.fdsn.mass_downloader - INFO: Client 'GEONET' - Launching basic QC checks...\n",
      "[2021-11-25 00:45:22,528] - obspy.clients.fdsn.mass_downloader - INFO: Client 'GEONET' - Downloaded 0.0 MB [4.23 KB/sec] of data, 0.0 MB of which were discarded afterwards.\n",
      "[2021-11-25 00:45:22,529] - obspy.clients.fdsn.mass_downloader - INFO: Client 'GEONET' - Status for 1 time intervals/channels after downloading: DOWNLOADED\n",
      "[2021-11-25 00:45:22,532] - obspy.clients.fdsn.mass_downloader - INFO: Client 'GEONET' - No station information to download.\n",
      "[2021-11-25 00:45:22,533] - obspy.clients.fdsn.mass_downloader - INFO: ============================== Final report\n",
      "[2021-11-25 00:45:22,533] - obspy.clients.fdsn.mass_downloader - INFO: 0 MiniSEED files [0.0 MB] already existed.\n",
      "[2021-11-25 00:45:22,534] - obspy.clients.fdsn.mass_downloader - INFO: 1 StationXML files [0.0 MB] already existed.\n",
      "[2021-11-25 00:45:22,535] - obspy.clients.fdsn.mass_downloader - INFO: Client 'GEONET' - Acquired 1 MiniSEED files [0.0 MB].\n",
      "[2021-11-25 00:45:22,536] - obspy.clients.fdsn.mass_downloader - INFO: Client 'GEONET' - Acquired 0 StationXML files [0.0 MB].\n",
      "[2021-11-25 00:45:22,536] - obspy.clients.fdsn.mass_downloader - INFO: Downloaded 0.0 MB in total.\n",
      "[2021-11-25 00:45:22,542] - obspy.clients.fdsn.mass_downloader - INFO: Initializing FDSN client(s) for GEONET.\n",
      "[2021-11-25 00:45:22,550] - obspy.clients.fdsn.mass_downloader - INFO: Successfully initialized 1 client(s): GEONET.\n",
      "[2021-11-25 00:45:22,551] - obspy.clients.fdsn.mass_downloader - INFO: Total acquired or preexisting stations: 0\n",
      "[2021-11-25 00:45:22,551] - obspy.clients.fdsn.mass_downloader - INFO: Client 'GEONET' - Requesting unreliable availability.\n"
     ]
    },
    {
     "name": "stdout",
     "output_type": "stream",
     "text": [
      "=================================================================\n",
      "Initiating mass download request.\n"
     ]
    },
    {
     "name": "stderr",
     "output_type": "stream",
     "text": [
      "[2021-11-25 00:45:23,199] - obspy.clients.fdsn.mass_downloader - INFO: Client 'GEONET' - Successfully requested availability (0.65 seconds)\n",
      "[2021-11-25 00:45:23,202] - obspy.clients.fdsn.mass_downloader - INFO: Client 'GEONET' - Found 1 stations (1 channels).\n",
      "[2021-11-25 00:45:23,203] - obspy.clients.fdsn.mass_downloader - INFO: Client 'GEONET' - Will attempt to download data from 1 stations.\n",
      "[2021-11-25 00:45:23,206] - obspy.clients.fdsn.mass_downloader - INFO: Client 'GEONET' - Status for 1 time intervals/channels before downloading: NEEDS_DOWNLOADING\n",
      "[2021-11-25 00:45:24,267] - obspy.clients.fdsn.mass_downloader - INFO: Client 'GEONET' - Successfully downloaded 1 channels (of 1)\n",
      "[2021-11-25 00:45:24,276] - obspy.clients.fdsn.mass_downloader - INFO: Client 'GEONET' - Launching basic QC checks...\n",
      "[2021-11-25 00:45:24,296] - obspy.clients.fdsn.mass_downloader - INFO: Client 'GEONET' - Downloaded 0.0 MB [2.82 KB/sec] of data, 0.0 MB of which were discarded afterwards.\n",
      "[2021-11-25 00:45:24,298] - obspy.clients.fdsn.mass_downloader - INFO: Client 'GEONET' - Status for 1 time intervals/channels after downloading: DOWNLOADED\n",
      "[2021-11-25 00:45:24,301] - obspy.clients.fdsn.mass_downloader - INFO: Client 'GEONET' - No station information to download.\n",
      "[2021-11-25 00:45:24,302] - obspy.clients.fdsn.mass_downloader - INFO: ============================== Final report\n",
      "[2021-11-25 00:45:24,303] - obspy.clients.fdsn.mass_downloader - INFO: 0 MiniSEED files [0.0 MB] already existed.\n",
      "[2021-11-25 00:45:24,304] - obspy.clients.fdsn.mass_downloader - INFO: 1 StationXML files [0.0 MB] already existed.\n",
      "[2021-11-25 00:45:24,305] - obspy.clients.fdsn.mass_downloader - INFO: Client 'GEONET' - Acquired 1 MiniSEED files [0.0 MB].\n",
      "[2021-11-25 00:45:24,305] - obspy.clients.fdsn.mass_downloader - INFO: Client 'GEONET' - Acquired 0 StationXML files [0.0 MB].\n",
      "[2021-11-25 00:45:24,305] - obspy.clients.fdsn.mass_downloader - INFO: Downloaded 0.0 MB in total.\n",
      "[2021-11-25 00:45:24,311] - obspy.clients.fdsn.mass_downloader - INFO: Initializing FDSN client(s) for GEONET.\n",
      "[2021-11-25 00:45:24,323] - obspy.clients.fdsn.mass_downloader - INFO: Successfully initialized 1 client(s): GEONET.\n",
      "[2021-11-25 00:45:24,325] - obspy.clients.fdsn.mass_downloader - INFO: Total acquired or preexisting stations: 0\n",
      "[2021-11-25 00:45:24,325] - obspy.clients.fdsn.mass_downloader - INFO: Client 'GEONET' - Requesting unreliable availability.\n"
     ]
    },
    {
     "name": "stdout",
     "output_type": "stream",
     "text": [
      "=================================================================\n",
      "Initiating mass download request.\n"
     ]
    },
    {
     "name": "stderr",
     "output_type": "stream",
     "text": [
      "[2021-11-25 00:45:24,881] - obspy.clients.fdsn.mass_downloader - INFO: Client 'GEONET' - Successfully requested availability (0.56 seconds)\n",
      "[2021-11-25 00:45:24,882] - obspy.clients.fdsn.mass_downloader - INFO: Client 'GEONET' - Found 1 stations (1 channels).\n",
      "[2021-11-25 00:45:24,883] - obspy.clients.fdsn.mass_downloader - INFO: Client 'GEONET' - Will attempt to download data from 1 stations.\n",
      "[2021-11-25 00:45:24,883] - obspy.clients.fdsn.mass_downloader - INFO: Client 'GEONET' - Status for 1 time intervals/channels before downloading: NEEDS_DOWNLOADING\n",
      "[2021-11-25 00:45:25,908] - obspy.clients.fdsn.mass_downloader - INFO: Client 'GEONET' - Successfully downloaded 1 channels (of 1)\n",
      "[2021-11-25 00:45:25,909] - obspy.clients.fdsn.mass_downloader - INFO: Client 'GEONET' - Launching basic QC checks...\n",
      "[2021-11-25 00:45:25,913] - obspy.clients.fdsn.mass_downloader - INFO: Client 'GEONET' - Downloaded 0.0 MB [2.93 KB/sec] of data, 0.0 MB of which were discarded afterwards.\n",
      "[2021-11-25 00:45:25,913] - obspy.clients.fdsn.mass_downloader - INFO: Client 'GEONET' - Status for 1 time intervals/channels after downloading: DOWNLOADED\n",
      "[2021-11-25 00:45:25,916] - obspy.clients.fdsn.mass_downloader - INFO: Client 'GEONET' - No station information to download.\n",
      "[2021-11-25 00:45:25,917] - obspy.clients.fdsn.mass_downloader - INFO: ============================== Final report\n",
      "[2021-11-25 00:45:25,917] - obspy.clients.fdsn.mass_downloader - INFO: 0 MiniSEED files [0.0 MB] already existed.\n",
      "[2021-11-25 00:45:25,918] - obspy.clients.fdsn.mass_downloader - INFO: 1 StationXML files [0.0 MB] already existed.\n",
      "[2021-11-25 00:45:25,919] - obspy.clients.fdsn.mass_downloader - INFO: Client 'GEONET' - Acquired 1 MiniSEED files [0.0 MB].\n",
      "[2021-11-25 00:45:25,919] - obspy.clients.fdsn.mass_downloader - INFO: Client 'GEONET' - Acquired 0 StationXML files [0.0 MB].\n",
      "[2021-11-25 00:45:25,920] - obspy.clients.fdsn.mass_downloader - INFO: Downloaded 0.0 MB in total.\n",
      "[2021-11-25 00:45:25,926] - obspy.clients.fdsn.mass_downloader - INFO: Initializing FDSN client(s) for GEONET.\n",
      "[2021-11-25 00:45:25,930] - obspy.clients.fdsn.mass_downloader - INFO: Successfully initialized 1 client(s): GEONET.\n",
      "[2021-11-25 00:45:25,931] - obspy.clients.fdsn.mass_downloader - INFO: Total acquired or preexisting stations: 0\n",
      "[2021-11-25 00:45:25,931] - obspy.clients.fdsn.mass_downloader - INFO: Client 'GEONET' - Requesting unreliable availability.\n"
     ]
    },
    {
     "name": "stdout",
     "output_type": "stream",
     "text": [
      "=================================================================\n",
      "Initiating mass download request.\n"
     ]
    },
    {
     "name": "stderr",
     "output_type": "stream",
     "text": [
      "[2021-11-25 00:45:27,041] - obspy.clients.fdsn.mass_downloader - INFO: Client 'GEONET' - Successfully requested availability (1.11 seconds)\n",
      "[2021-11-25 00:45:27,043] - obspy.clients.fdsn.mass_downloader - INFO: Client 'GEONET' - Found 1 stations (1 channels).\n",
      "[2021-11-25 00:45:27,047] - obspy.clients.fdsn.mass_downloader - INFO: Client 'GEONET' - Will attempt to download data from 1 stations.\n",
      "[2021-11-25 00:45:27,048] - obspy.clients.fdsn.mass_downloader - INFO: Client 'GEONET' - Status for 1 time intervals/channels before downloading: NEEDS_DOWNLOADING\n",
      "[2021-11-25 00:45:28,489] - obspy.clients.fdsn.mass_downloader - INFO: Client 'GEONET' - Successfully downloaded 1 channels (of 1)\n",
      "[2021-11-25 00:45:28,498] - obspy.clients.fdsn.mass_downloader - INFO: Client 'GEONET' - Launching basic QC checks...\n",
      "[2021-11-25 00:45:28,512] - obspy.clients.fdsn.mass_downloader - INFO: Client 'GEONET' - Downloaded 0.0 MB [2.07 KB/sec] of data, 0.0 MB of which were discarded afterwards.\n",
      "[2021-11-25 00:45:28,514] - obspy.clients.fdsn.mass_downloader - INFO: Client 'GEONET' - Status for 1 time intervals/channels after downloading: DOWNLOADED\n",
      "[2021-11-25 00:45:28,522] - obspy.clients.fdsn.mass_downloader - INFO: Client 'GEONET' - No station information to download.\n",
      "[2021-11-25 00:45:28,523] - obspy.clients.fdsn.mass_downloader - INFO: ============================== Final report\n",
      "[2021-11-25 00:45:28,524] - obspy.clients.fdsn.mass_downloader - INFO: 0 MiniSEED files [0.0 MB] already existed.\n",
      "[2021-11-25 00:45:28,525] - obspy.clients.fdsn.mass_downloader - INFO: 1 StationXML files [0.0 MB] already existed.\n",
      "[2021-11-25 00:45:28,527] - obspy.clients.fdsn.mass_downloader - INFO: Client 'GEONET' - Acquired 1 MiniSEED files [0.0 MB].\n",
      "[2021-11-25 00:45:28,529] - obspy.clients.fdsn.mass_downloader - INFO: Client 'GEONET' - Acquired 0 StationXML files [0.0 MB].\n",
      "[2021-11-25 00:45:28,530] - obspy.clients.fdsn.mass_downloader - INFO: Downloaded 0.0 MB in total.\n",
      "[2021-11-25 00:45:28,536] - obspy.clients.fdsn.mass_downloader - INFO: Initializing FDSN client(s) for GEONET.\n",
      "[2021-11-25 00:45:28,548] - obspy.clients.fdsn.mass_downloader - INFO: Successfully initialized 1 client(s): GEONET.\n",
      "[2021-11-25 00:45:28,550] - obspy.clients.fdsn.mass_downloader - INFO: Total acquired or preexisting stations: 0\n",
      "[2021-11-25 00:45:28,551] - obspy.clients.fdsn.mass_downloader - INFO: Client 'GEONET' - Requesting unreliable availability.\n"
     ]
    },
    {
     "name": "stdout",
     "output_type": "stream",
     "text": [
      "=================================================================\n",
      "Initiating mass download request.\n"
     ]
    },
    {
     "name": "stderr",
     "output_type": "stream",
     "text": [
      "[2021-11-25 00:45:29,157] - obspy.clients.fdsn.mass_downloader - INFO: Client 'GEONET' - Successfully requested availability (0.60 seconds)\n",
      "[2021-11-25 00:45:29,158] - obspy.clients.fdsn.mass_downloader - INFO: Client 'GEONET' - Found 1 stations (1 channels).\n",
      "[2021-11-25 00:45:29,158] - obspy.clients.fdsn.mass_downloader - INFO: Client 'GEONET' - Will attempt to download data from 1 stations.\n",
      "[2021-11-25 00:45:29,158] - obspy.clients.fdsn.mass_downloader - INFO: Client 'GEONET' - Status for 1 time intervals/channels before downloading: NEEDS_DOWNLOADING\n",
      "[2021-11-25 00:45:30,499] - obspy.clients.fdsn.mass_downloader - INFO: Client 'GEONET' - Successfully downloaded 1 channels (of 1)\n",
      "[2021-11-25 00:45:30,501] - obspy.clients.fdsn.mass_downloader - INFO: Client 'GEONET' - Launching basic QC checks...\n",
      "[2021-11-25 00:45:30,509] - obspy.clients.fdsn.mass_downloader - INFO: Client 'GEONET' - Downloaded 0.0 MB [2.98 KB/sec] of data, 0.0 MB of which were discarded afterwards.\n",
      "[2021-11-25 00:45:30,510] - obspy.clients.fdsn.mass_downloader - INFO: Client 'GEONET' - Status for 1 time intervals/channels after downloading: DOWNLOADED\n",
      "[2021-11-25 00:45:30,512] - obspy.clients.fdsn.mass_downloader - INFO: Client 'GEONET' - No station information to download.\n",
      "[2021-11-25 00:45:30,516] - obspy.clients.fdsn.mass_downloader - INFO: ============================== Final report\n",
      "[2021-11-25 00:45:30,516] - obspy.clients.fdsn.mass_downloader - INFO: 0 MiniSEED files [0.0 MB] already existed.\n",
      "[2021-11-25 00:45:30,516] - obspy.clients.fdsn.mass_downloader - INFO: 1 StationXML files [0.0 MB] already existed.\n",
      "[2021-11-25 00:45:30,517] - obspy.clients.fdsn.mass_downloader - INFO: Client 'GEONET' - Acquired 1 MiniSEED files [0.0 MB].\n",
      "[2021-11-25 00:45:30,517] - obspy.clients.fdsn.mass_downloader - INFO: Client 'GEONET' - Acquired 0 StationXML files [0.0 MB].\n",
      "[2021-11-25 00:45:30,518] - obspy.clients.fdsn.mass_downloader - INFO: Downloaded 0.0 MB in total.\n",
      "[2021-11-25 00:45:30,525] - obspy.clients.fdsn.mass_downloader - INFO: Initializing FDSN client(s) for GEONET.\n",
      "[2021-11-25 00:45:30,530] - obspy.clients.fdsn.mass_downloader - INFO: Successfully initialized 1 client(s): GEONET.\n",
      "[2021-11-25 00:45:30,531] - obspy.clients.fdsn.mass_downloader - INFO: Total acquired or preexisting stations: 0\n",
      "[2021-11-25 00:45:30,532] - obspy.clients.fdsn.mass_downloader - INFO: Client 'GEONET' - Requesting unreliable availability.\n"
     ]
    },
    {
     "name": "stdout",
     "output_type": "stream",
     "text": [
      "=================================================================\n",
      "Initiating mass download request.\n"
     ]
    },
    {
     "name": "stderr",
     "output_type": "stream",
     "text": [
      "[2021-11-25 00:45:31,076] - obspy.clients.fdsn.mass_downloader - INFO: Client 'GEONET' - Successfully requested availability (0.54 seconds)\n",
      "[2021-11-25 00:45:31,077] - obspy.clients.fdsn.mass_downloader - INFO: Client 'GEONET' - Found 1 stations (1 channels).\n",
      "[2021-11-25 00:45:31,077] - obspy.clients.fdsn.mass_downloader - INFO: Client 'GEONET' - Will attempt to download data from 1 stations.\n",
      "[2021-11-25 00:45:31,078] - obspy.clients.fdsn.mass_downloader - INFO: Client 'GEONET' - Status for 1 time intervals/channels before downloading: NEEDS_DOWNLOADING\n",
      "[2021-11-25 00:45:32,578] - obspy.clients.fdsn.mass_downloader - INFO: Client 'GEONET' - Successfully downloaded 1 channels (of 1)\n",
      "[2021-11-25 00:45:32,585] - obspy.clients.fdsn.mass_downloader - INFO: Client 'GEONET' - Launching basic QC checks...\n",
      "[2021-11-25 00:45:32,595] - obspy.clients.fdsn.mass_downloader - INFO: Client 'GEONET' - Downloaded 0.0 MB [1.99 KB/sec] of data, 0.0 MB of which were discarded afterwards.\n",
      "[2021-11-25 00:45:32,596] - obspy.clients.fdsn.mass_downloader - INFO: Client 'GEONET' - Status for 1 time intervals/channels after downloading: DOWNLOADED\n",
      "[2021-11-25 00:45:32,600] - obspy.clients.fdsn.mass_downloader - INFO: Client 'GEONET' - No station information to download.\n",
      "[2021-11-25 00:45:32,601] - obspy.clients.fdsn.mass_downloader - INFO: ============================== Final report\n",
      "[2021-11-25 00:45:32,602] - obspy.clients.fdsn.mass_downloader - INFO: 0 MiniSEED files [0.0 MB] already existed.\n",
      "[2021-11-25 00:45:32,602] - obspy.clients.fdsn.mass_downloader - INFO: 1 StationXML files [0.0 MB] already existed.\n",
      "[2021-11-25 00:45:32,603] - obspy.clients.fdsn.mass_downloader - INFO: Client 'GEONET' - Acquired 1 MiniSEED files [0.0 MB].\n",
      "[2021-11-25 00:45:32,603] - obspy.clients.fdsn.mass_downloader - INFO: Client 'GEONET' - Acquired 0 StationXML files [0.0 MB].\n",
      "[2021-11-25 00:45:32,603] - obspy.clients.fdsn.mass_downloader - INFO: Downloaded 0.0 MB in total.\n",
      "[2021-11-25 00:45:32,606] - obspy.clients.fdsn.mass_downloader - INFO: Initializing FDSN client(s) for GEONET.\n",
      "[2021-11-25 00:45:32,612] - obspy.clients.fdsn.mass_downloader - INFO: Successfully initialized 1 client(s): GEONET.\n",
      "[2021-11-25 00:45:32,613] - obspy.clients.fdsn.mass_downloader - INFO: Total acquired or preexisting stations: 0\n",
      "[2021-11-25 00:45:32,613] - obspy.clients.fdsn.mass_downloader - INFO: Client 'GEONET' - Requesting unreliable availability.\n"
     ]
    },
    {
     "name": "stdout",
     "output_type": "stream",
     "text": [
      "=================================================================\n",
      "Initiating mass download request.\n"
     ]
    },
    {
     "name": "stderr",
     "output_type": "stream",
     "text": [
      "[2021-11-25 00:45:33,161] - obspy.clients.fdsn.mass_downloader - INFO: Client 'GEONET' - Successfully requested availability (0.55 seconds)\n",
      "[2021-11-25 00:45:33,162] - obspy.clients.fdsn.mass_downloader - INFO: Client 'GEONET' - Found 1 stations (1 channels).\n",
      "[2021-11-25 00:45:33,162] - obspy.clients.fdsn.mass_downloader - INFO: Client 'GEONET' - Will attempt to download data from 1 stations.\n",
      "[2021-11-25 00:45:33,163] - obspy.clients.fdsn.mass_downloader - INFO: Client 'GEONET' - Status for 1 time intervals/channels before downloading: NEEDS_DOWNLOADING\n",
      "[2021-11-25 00:45:34,174] - obspy.clients.fdsn.mass_downloader - INFO: Client 'GEONET' - Successfully downloaded 1 channels (of 1)\n",
      "[2021-11-25 00:45:34,175] - obspy.clients.fdsn.mass_downloader - INFO: Client 'GEONET' - Launching basic QC checks...\n",
      "[2021-11-25 00:45:34,190] - obspy.clients.fdsn.mass_downloader - INFO: Client 'GEONET' - Downloaded 0.0 MB [2.97 KB/sec] of data, 0.0 MB of which were discarded afterwards.\n",
      "[2021-11-25 00:45:34,190] - obspy.clients.fdsn.mass_downloader - INFO: Client 'GEONET' - Status for 1 time intervals/channels after downloading: DOWNLOADED\n",
      "[2021-11-25 00:45:34,194] - obspy.clients.fdsn.mass_downloader - INFO: Client 'GEONET' - No station information to download.\n",
      "[2021-11-25 00:45:34,198] - obspy.clients.fdsn.mass_downloader - INFO: ============================== Final report\n",
      "[2021-11-25 00:45:34,199] - obspy.clients.fdsn.mass_downloader - INFO: 0 MiniSEED files [0.0 MB] already existed.\n",
      "[2021-11-25 00:45:34,200] - obspy.clients.fdsn.mass_downloader - INFO: 1 StationXML files [0.0 MB] already existed.\n",
      "[2021-11-25 00:45:34,200] - obspy.clients.fdsn.mass_downloader - INFO: Client 'GEONET' - Acquired 1 MiniSEED files [0.0 MB].\n",
      "[2021-11-25 00:45:34,201] - obspy.clients.fdsn.mass_downloader - INFO: Client 'GEONET' - Acquired 0 StationXML files [0.0 MB].\n",
      "[2021-11-25 00:45:34,202] - obspy.clients.fdsn.mass_downloader - INFO: Downloaded 0.0 MB in total.\n",
      "[2021-11-25 00:45:34,216] - obspy.clients.fdsn.mass_downloader - INFO: Initializing FDSN client(s) for GEONET.\n",
      "[2021-11-25 00:45:34,229] - obspy.clients.fdsn.mass_downloader - INFO: Successfully initialized 1 client(s): GEONET.\n",
      "[2021-11-25 00:45:34,232] - obspy.clients.fdsn.mass_downloader - INFO: Total acquired or preexisting stations: 0\n",
      "[2021-11-25 00:45:34,233] - obspy.clients.fdsn.mass_downloader - INFO: Client 'GEONET' - Requesting unreliable availability.\n"
     ]
    },
    {
     "name": "stdout",
     "output_type": "stream",
     "text": [
      "=================================================================\n",
      "Initiating mass download request.\n"
     ]
    },
    {
     "name": "stderr",
     "output_type": "stream",
     "text": [
      "[2021-11-25 00:45:35,673] - obspy.clients.fdsn.mass_downloader - INFO: Client 'GEONET' - Successfully requested availability (1.44 seconds)\n",
      "[2021-11-25 00:45:35,674] - obspy.clients.fdsn.mass_downloader - INFO: Client 'GEONET' - Found 1 stations (1 channels).\n",
      "[2021-11-25 00:45:35,675] - obspy.clients.fdsn.mass_downloader - INFO: Client 'GEONET' - Will attempt to download data from 1 stations.\n",
      "[2021-11-25 00:45:35,675] - obspy.clients.fdsn.mass_downloader - INFO: Client 'GEONET' - Status for 1 time intervals/channels before downloading: NEEDS_DOWNLOADING\n",
      "[2021-11-25 00:45:36,526] - obspy.clients.fdsn.mass_downloader - INFO: Client 'GEONET' - Successfully downloaded 1 channels (of 1)\n",
      "[2021-11-25 00:45:36,528] - obspy.clients.fdsn.mass_downloader - INFO: Client 'GEONET' - Launching basic QC checks...\n",
      "[2021-11-25 00:45:36,532] - obspy.clients.fdsn.mass_downloader - INFO: Client 'GEONET' - Downloaded 0.0 MB [3.53 KB/sec] of data, 0.0 MB of which were discarded afterwards.\n",
      "[2021-11-25 00:45:36,533] - obspy.clients.fdsn.mass_downloader - INFO: Client 'GEONET' - Status for 1 time intervals/channels after downloading: DOWNLOADED\n",
      "[2021-11-25 00:45:36,535] - obspy.clients.fdsn.mass_downloader - INFO: Client 'GEONET' - No station information to download.\n",
      "[2021-11-25 00:45:36,536] - obspy.clients.fdsn.mass_downloader - INFO: ============================== Final report\n",
      "[2021-11-25 00:45:36,536] - obspy.clients.fdsn.mass_downloader - INFO: 0 MiniSEED files [0.0 MB] already existed.\n",
      "[2021-11-25 00:45:36,536] - obspy.clients.fdsn.mass_downloader - INFO: 1 StationXML files [0.0 MB] already existed.\n",
      "[2021-11-25 00:45:36,537] - obspy.clients.fdsn.mass_downloader - INFO: Client 'GEONET' - Acquired 1 MiniSEED files [0.0 MB].\n",
      "[2021-11-25 00:45:36,537] - obspy.clients.fdsn.mass_downloader - INFO: Client 'GEONET' - Acquired 0 StationXML files [0.0 MB].\n",
      "[2021-11-25 00:45:36,537] - obspy.clients.fdsn.mass_downloader - INFO: Downloaded 0.0 MB in total.\n",
      "[2021-11-25 00:45:36,539] - obspy.clients.fdsn.mass_downloader - INFO: Initializing FDSN client(s) for GEONET.\n",
      "[2021-11-25 00:45:36,545] - obspy.clients.fdsn.mass_downloader - INFO: Successfully initialized 1 client(s): GEONET.\n",
      "[2021-11-25 00:45:36,546] - obspy.clients.fdsn.mass_downloader - INFO: Total acquired or preexisting stations: 0\n",
      "[2021-11-25 00:45:36,546] - obspy.clients.fdsn.mass_downloader - INFO: Client 'GEONET' - Requesting unreliable availability.\n"
     ]
    },
    {
     "name": "stdout",
     "output_type": "stream",
     "text": [
      "=================================================================\n",
      "Initiating mass download request.\n"
     ]
    },
    {
     "name": "stderr",
     "output_type": "stream",
     "text": [
      "[2021-11-25 00:45:37,099] - obspy.clients.fdsn.mass_downloader - INFO: Client 'GEONET' - No data available for request.\n",
      "[2021-11-25 00:45:37,100] - obspy.clients.fdsn.mass_downloader - INFO: Client 'GEONET' - No data available.\n",
      "[2021-11-25 00:45:37,100] - obspy.clients.fdsn.mass_downloader - INFO: ============================== Final report\n",
      "[2021-11-25 00:45:37,101] - obspy.clients.fdsn.mass_downloader - INFO: 0 MiniSEED files [0.0 MB] already existed.\n",
      "[2021-11-25 00:45:37,101] - obspy.clients.fdsn.mass_downloader - INFO: 0 StationXML files [0.0 MB] already existed.\n",
      "[2021-11-25 00:45:37,105] - obspy.clients.fdsn.mass_downloader - INFO: Client 'GEONET' - Acquired 0 MiniSEED files [0.0 MB].\n",
      "[2021-11-25 00:45:37,105] - obspy.clients.fdsn.mass_downloader - INFO: Client 'GEONET' - Acquired 0 StationXML files [0.0 MB].\n",
      "[2021-11-25 00:45:37,106] - obspy.clients.fdsn.mass_downloader - INFO: Downloaded 0.0 MB in total.\n",
      "[2021-11-25 00:45:37,108] - obspy.clients.fdsn.mass_downloader - INFO: Initializing FDSN client(s) for GEONET.\n",
      "[2021-11-25 00:45:37,117] - obspy.clients.fdsn.mass_downloader - INFO: Successfully initialized 1 client(s): GEONET.\n",
      "[2021-11-25 00:45:37,120] - obspy.clients.fdsn.mass_downloader - INFO: Total acquired or preexisting stations: 0\n",
      "[2021-11-25 00:45:37,121] - obspy.clients.fdsn.mass_downloader - INFO: Client 'GEONET' - Requesting unreliable availability.\n"
     ]
    },
    {
     "name": "stdout",
     "output_type": "stream",
     "text": [
      "=================================================================\n",
      "Initiating mass download request.\n"
     ]
    },
    {
     "name": "stderr",
     "output_type": "stream",
     "text": [
      "[2021-11-25 00:45:37,710] - obspy.clients.fdsn.mass_downloader - INFO: Client 'GEONET' - Successfully requested availability (0.59 seconds)\n",
      "[2021-11-25 00:45:37,712] - obspy.clients.fdsn.mass_downloader - INFO: Client 'GEONET' - Found 1 stations (1 channels).\n",
      "[2021-11-25 00:45:37,712] - obspy.clients.fdsn.mass_downloader - INFO: Client 'GEONET' - Will attempt to download data from 1 stations.\n",
      "[2021-11-25 00:45:37,714] - obspy.clients.fdsn.mass_downloader - INFO: Client 'GEONET' - Status for 1 time intervals/channels before downloading: NEEDS_DOWNLOADING\n",
      "[2021-11-25 00:45:38,568] - obspy.clients.fdsn.mass_downloader - INFO: Client 'GEONET' - Successfully downloaded 1 channels (of 1)\n",
      "[2021-11-25 00:45:38,572] - obspy.clients.fdsn.mass_downloader - INFO: Client 'GEONET' - Launching basic QC checks...\n",
      "[2021-11-25 00:45:38,580] - obspy.clients.fdsn.mass_downloader - INFO: Client 'GEONET' - Downloaded 0.0 MB [2.92 KB/sec] of data, 0.0 MB of which were discarded afterwards.\n",
      "[2021-11-25 00:45:38,581] - obspy.clients.fdsn.mass_downloader - INFO: Client 'GEONET' - Status for 1 time intervals/channels after downloading: DOWNLOADED\n",
      "[2021-11-25 00:45:38,584] - obspy.clients.fdsn.mass_downloader - INFO: Client 'GEONET' - No station information to download.\n",
      "[2021-11-25 00:45:38,585] - obspy.clients.fdsn.mass_downloader - INFO: ============================== Final report\n",
      "[2021-11-25 00:45:38,586] - obspy.clients.fdsn.mass_downloader - INFO: 0 MiniSEED files [0.0 MB] already existed.\n",
      "[2021-11-25 00:45:38,586] - obspy.clients.fdsn.mass_downloader - INFO: 1 StationXML files [0.0 MB] already existed.\n",
      "[2021-11-25 00:45:38,587] - obspy.clients.fdsn.mass_downloader - INFO: Client 'GEONET' - Acquired 1 MiniSEED files [0.0 MB].\n",
      "[2021-11-25 00:45:38,587] - obspy.clients.fdsn.mass_downloader - INFO: Client 'GEONET' - Acquired 0 StationXML files [0.0 MB].\n",
      "[2021-11-25 00:45:38,587] - obspy.clients.fdsn.mass_downloader - INFO: Downloaded 0.0 MB in total.\n",
      "[2021-11-25 00:45:38,591] - obspy.clients.fdsn.mass_downloader - INFO: Initializing FDSN client(s) for GEONET.\n",
      "[2021-11-25 00:45:38,595] - obspy.clients.fdsn.mass_downloader - INFO: Successfully initialized 1 client(s): GEONET.\n",
      "[2021-11-25 00:45:38,598] - obspy.clients.fdsn.mass_downloader - INFO: Total acquired or preexisting stations: 0\n",
      "[2021-11-25 00:45:38,600] - obspy.clients.fdsn.mass_downloader - INFO: Client 'GEONET' - Requesting unreliable availability.\n"
     ]
    },
    {
     "name": "stdout",
     "output_type": "stream",
     "text": [
      "=================================================================\n",
      "Initiating mass download request.\n"
     ]
    },
    {
     "name": "stderr",
     "output_type": "stream",
     "text": [
      "[2021-11-25 00:45:39,156] - obspy.clients.fdsn.mass_downloader - INFO: Client 'GEONET' - Successfully requested availability (0.56 seconds)\n",
      "[2021-11-25 00:45:39,157] - obspy.clients.fdsn.mass_downloader - INFO: Client 'GEONET' - Found 1 stations (1 channels).\n",
      "[2021-11-25 00:45:39,157] - obspy.clients.fdsn.mass_downloader - INFO: Client 'GEONET' - Will attempt to download data from 1 stations.\n",
      "[2021-11-25 00:45:39,158] - obspy.clients.fdsn.mass_downloader - INFO: Client 'GEONET' - Status for 1 time intervals/channels before downloading: NEEDS_DOWNLOADING\n",
      "[2021-11-25 00:45:40,135] - obspy.clients.fdsn.mass_downloader - INFO: Client 'GEONET' - Successfully downloaded 1 channels (of 1)\n",
      "[2021-11-25 00:45:40,142] - obspy.clients.fdsn.mass_downloader - INFO: Client 'GEONET' - Launching basic QC checks...\n",
      "[2021-11-25 00:45:40,150] - obspy.clients.fdsn.mass_downloader - INFO: Client 'GEONET' - Downloaded 0.0 MB [3.06 KB/sec] of data, 0.0 MB of which were discarded afterwards.\n",
      "[2021-11-25 00:45:40,151] - obspy.clients.fdsn.mass_downloader - INFO: Client 'GEONET' - Status for 1 time intervals/channels after downloading: DOWNLOADED\n",
      "[2021-11-25 00:45:40,157] - obspy.clients.fdsn.mass_downloader - INFO: Client 'GEONET' - No station information to download.\n",
      "[2021-11-25 00:45:40,158] - obspy.clients.fdsn.mass_downloader - INFO: ============================== Final report\n",
      "[2021-11-25 00:45:40,158] - obspy.clients.fdsn.mass_downloader - INFO: 0 MiniSEED files [0.0 MB] already existed.\n",
      "[2021-11-25 00:45:40,158] - obspy.clients.fdsn.mass_downloader - INFO: 1 StationXML files [0.0 MB] already existed.\n",
      "[2021-11-25 00:45:40,159] - obspy.clients.fdsn.mass_downloader - INFO: Client 'GEONET' - Acquired 1 MiniSEED files [0.0 MB].\n",
      "[2021-11-25 00:45:40,161] - obspy.clients.fdsn.mass_downloader - INFO: Client 'GEONET' - Acquired 0 StationXML files [0.0 MB].\n",
      "[2021-11-25 00:45:40,162] - obspy.clients.fdsn.mass_downloader - INFO: Downloaded 0.0 MB in total.\n",
      "[2021-11-25 00:45:40,165] - obspy.clients.fdsn.mass_downloader - INFO: Initializing FDSN client(s) for GEONET.\n",
      "[2021-11-25 00:45:40,172] - obspy.clients.fdsn.mass_downloader - INFO: Successfully initialized 1 client(s): GEONET.\n",
      "[2021-11-25 00:45:40,173] - obspy.clients.fdsn.mass_downloader - INFO: Total acquired or preexisting stations: 0\n",
      "[2021-11-25 00:45:40,173] - obspy.clients.fdsn.mass_downloader - INFO: Client 'GEONET' - Requesting unreliable availability.\n"
     ]
    },
    {
     "name": "stdout",
     "output_type": "stream",
     "text": [
      "=================================================================\n",
      "Initiating mass download request.\n"
     ]
    },
    {
     "name": "stderr",
     "output_type": "stream",
     "text": [
      "[2021-11-25 00:45:41,318] - obspy.clients.fdsn.mass_downloader - INFO: Client 'GEONET' - Successfully requested availability (1.14 seconds)\n",
      "[2021-11-25 00:45:41,319] - obspy.clients.fdsn.mass_downloader - INFO: Client 'GEONET' - Found 1 stations (1 channels).\n",
      "[2021-11-25 00:45:41,319] - obspy.clients.fdsn.mass_downloader - INFO: Client 'GEONET' - Will attempt to download data from 1 stations.\n",
      "[2021-11-25 00:45:41,319] - obspy.clients.fdsn.mass_downloader - INFO: Client 'GEONET' - Status for 1 time intervals/channels before downloading: NEEDS_DOWNLOADING\n",
      "[2021-11-25 00:45:43,055] - obspy.clients.fdsn.mass_downloader - INFO: Client 'GEONET' - Successfully downloaded 1 channels (of 1)\n",
      "[2021-11-25 00:45:43,062] - obspy.clients.fdsn.mass_downloader - INFO: Client 'GEONET' - Launching basic QC checks...\n",
      "[2021-11-25 00:45:43,071] - obspy.clients.fdsn.mass_downloader - INFO: Client 'GEONET' - Downloaded 0.0 MB [1.72 KB/sec] of data, 0.0 MB of which were discarded afterwards.\n",
      "[2021-11-25 00:45:43,072] - obspy.clients.fdsn.mass_downloader - INFO: Client 'GEONET' - Status for 1 time intervals/channels after downloading: DOWNLOADED\n",
      "[2021-11-25 00:45:43,080] - obspy.clients.fdsn.mass_downloader - INFO: Client 'GEONET' - No station information to download.\n",
      "[2021-11-25 00:45:43,081] - obspy.clients.fdsn.mass_downloader - INFO: ============================== Final report\n",
      "[2021-11-25 00:45:43,084] - obspy.clients.fdsn.mass_downloader - INFO: 0 MiniSEED files [0.0 MB] already existed.\n",
      "[2021-11-25 00:45:43,088] - obspy.clients.fdsn.mass_downloader - INFO: 1 StationXML files [0.0 MB] already existed.\n",
      "[2021-11-25 00:45:43,095] - obspy.clients.fdsn.mass_downloader - INFO: Client 'GEONET' - Acquired 1 MiniSEED files [0.0 MB].\n",
      "[2021-11-25 00:45:43,099] - obspy.clients.fdsn.mass_downloader - INFO: Client 'GEONET' - Acquired 0 StationXML files [0.0 MB].\n",
      "[2021-11-25 00:45:43,100] - obspy.clients.fdsn.mass_downloader - INFO: Downloaded 0.0 MB in total.\n",
      "[2021-11-25 00:45:43,102] - obspy.clients.fdsn.mass_downloader - INFO: Initializing FDSN client(s) for GEONET.\n",
      "[2021-11-25 00:45:43,113] - obspy.clients.fdsn.mass_downloader - INFO: Successfully initialized 1 client(s): GEONET.\n",
      "[2021-11-25 00:45:43,117] - obspy.clients.fdsn.mass_downloader - INFO: Total acquired or preexisting stations: 0\n",
      "[2021-11-25 00:45:43,119] - obspy.clients.fdsn.mass_downloader - INFO: Client 'GEONET' - Requesting unreliable availability.\n"
     ]
    },
    {
     "name": "stdout",
     "output_type": "stream",
     "text": [
      "=================================================================\n",
      "Initiating mass download request.\n"
     ]
    },
    {
     "name": "stderr",
     "output_type": "stream",
     "text": [
      "[2021-11-25 00:45:43,627] - obspy.clients.fdsn.mass_downloader - INFO: Client 'GEONET' - Successfully requested availability (0.51 seconds)\n",
      "[2021-11-25 00:45:43,628] - obspy.clients.fdsn.mass_downloader - INFO: Client 'GEONET' - Found 1 stations (1 channels).\n",
      "[2021-11-25 00:45:43,628] - obspy.clients.fdsn.mass_downloader - INFO: Client 'GEONET' - Will attempt to download data from 1 stations.\n",
      "[2021-11-25 00:45:43,629] - obspy.clients.fdsn.mass_downloader - INFO: Client 'GEONET' - Status for 1 time intervals/channels before downloading: NEEDS_DOWNLOADING\n",
      "[2021-11-25 00:45:44,556] - obspy.clients.fdsn.mass_downloader - INFO: Client 'GEONET' - Successfully downloaded 1 channels (of 1)\n",
      "[2021-11-25 00:45:44,560] - obspy.clients.fdsn.mass_downloader - INFO: Client 'GEONET' - Launching basic QC checks...\n",
      "[2021-11-25 00:45:44,567] - obspy.clients.fdsn.mass_downloader - INFO: Client 'GEONET' - Downloaded 0.0 MB [3.23 KB/sec] of data, 0.0 MB of which were discarded afterwards.\n",
      "[2021-11-25 00:45:44,567] - obspy.clients.fdsn.mass_downloader - INFO: Client 'GEONET' - Status for 1 time intervals/channels after downloading: DOWNLOADED\n",
      "[2021-11-25 00:45:44,571] - obspy.clients.fdsn.mass_downloader - INFO: Client 'GEONET' - No station information to download.\n",
      "[2021-11-25 00:45:44,572] - obspy.clients.fdsn.mass_downloader - INFO: ============================== Final report\n",
      "[2021-11-25 00:45:44,572] - obspy.clients.fdsn.mass_downloader - INFO: 0 MiniSEED files [0.0 MB] already existed.\n",
      "[2021-11-25 00:45:44,573] - obspy.clients.fdsn.mass_downloader - INFO: 1 StationXML files [0.0 MB] already existed.\n",
      "[2021-11-25 00:45:44,573] - obspy.clients.fdsn.mass_downloader - INFO: Client 'GEONET' - Acquired 1 MiniSEED files [0.0 MB].\n",
      "[2021-11-25 00:45:44,573] - obspy.clients.fdsn.mass_downloader - INFO: Client 'GEONET' - Acquired 0 StationXML files [0.0 MB].\n",
      "[2021-11-25 00:45:44,574] - obspy.clients.fdsn.mass_downloader - INFO: Downloaded 0.0 MB in total.\n",
      "[2021-11-25 00:45:44,575] - obspy.clients.fdsn.mass_downloader - INFO: Initializing FDSN client(s) for GEONET.\n",
      "[2021-11-25 00:45:44,580] - obspy.clients.fdsn.mass_downloader - INFO: Successfully initialized 1 client(s): GEONET.\n",
      "[2021-11-25 00:45:44,581] - obspy.clients.fdsn.mass_downloader - INFO: Total acquired or preexisting stations: 0\n",
      "[2021-11-25 00:45:44,581] - obspy.clients.fdsn.mass_downloader - INFO: Client 'GEONET' - Requesting unreliable availability.\n"
     ]
    },
    {
     "name": "stdout",
     "output_type": "stream",
     "text": [
      "=================================================================\n",
      "Initiating mass download request.\n"
     ]
    },
    {
     "name": "stderr",
     "output_type": "stream",
     "text": [
      "[2021-11-25 00:45:45,147] - obspy.clients.fdsn.mass_downloader - INFO: Client 'GEONET' - Successfully requested availability (0.57 seconds)\n",
      "[2021-11-25 00:45:45,153] - obspy.clients.fdsn.mass_downloader - INFO: Client 'GEONET' - Found 1 stations (1 channels).\n",
      "[2021-11-25 00:45:45,153] - obspy.clients.fdsn.mass_downloader - INFO: Client 'GEONET' - Will attempt to download data from 1 stations.\n",
      "[2021-11-25 00:45:45,154] - obspy.clients.fdsn.mass_downloader - INFO: Client 'GEONET' - Status for 1 time intervals/channels before downloading: NEEDS_DOWNLOADING\n",
      "[2021-11-25 00:45:46,275] - obspy.clients.fdsn.mass_downloader - INFO: Client 'GEONET' - Successfully downloaded 1 channels (of 1)\n",
      "[2021-11-25 00:45:46,283] - obspy.clients.fdsn.mass_downloader - INFO: Client 'GEONET' - Launching basic QC checks...\n",
      "[2021-11-25 00:45:46,293] - obspy.clients.fdsn.mass_downloader - INFO: Client 'GEONET' - Downloaded 0.0 MB [3.13 KB/sec] of data, 0.0 MB of which were discarded afterwards.\n",
      "[2021-11-25 00:45:46,293] - obspy.clients.fdsn.mass_downloader - INFO: Client 'GEONET' - Status for 1 time intervals/channels after downloading: DOWNLOADED\n",
      "[2021-11-25 00:45:46,296] - obspy.clients.fdsn.mass_downloader - INFO: Client 'GEONET' - No station information to download.\n",
      "[2021-11-25 00:45:46,297] - obspy.clients.fdsn.mass_downloader - INFO: ============================== Final report\n",
      "[2021-11-25 00:45:46,297] - obspy.clients.fdsn.mass_downloader - INFO: 0 MiniSEED files [0.0 MB] already existed.\n",
      "[2021-11-25 00:45:46,297] - obspy.clients.fdsn.mass_downloader - INFO: 1 StationXML files [0.0 MB] already existed.\n",
      "[2021-11-25 00:45:46,298] - obspy.clients.fdsn.mass_downloader - INFO: Client 'GEONET' - Acquired 1 MiniSEED files [0.0 MB].\n",
      "[2021-11-25 00:45:46,298] - obspy.clients.fdsn.mass_downloader - INFO: Client 'GEONET' - Acquired 0 StationXML files [0.0 MB].\n",
      "[2021-11-25 00:45:46,298] - obspy.clients.fdsn.mass_downloader - INFO: Downloaded 0.0 MB in total.\n",
      "[2021-11-25 00:45:46,300] - obspy.clients.fdsn.mass_downloader - INFO: Initializing FDSN client(s) for GEONET.\n",
      "[2021-11-25 00:45:46,304] - obspy.clients.fdsn.mass_downloader - INFO: Successfully initialized 1 client(s): GEONET.\n",
      "[2021-11-25 00:45:46,304] - obspy.clients.fdsn.mass_downloader - INFO: Total acquired or preexisting stations: 0\n",
      "[2021-11-25 00:45:46,305] - obspy.clients.fdsn.mass_downloader - INFO: Client 'GEONET' - Requesting unreliable availability.\n"
     ]
    },
    {
     "name": "stdout",
     "output_type": "stream",
     "text": [
      "=================================================================\n",
      "Initiating mass download request.\n"
     ]
    },
    {
     "name": "stderr",
     "output_type": "stream",
     "text": [
      "[2021-11-25 00:45:46,961] - obspy.clients.fdsn.mass_downloader - INFO: Client 'GEONET' - Successfully requested availability (0.66 seconds)\n",
      "[2021-11-25 00:45:46,963] - obspy.clients.fdsn.mass_downloader - INFO: Client 'GEONET' - Found 1 stations (1 channels).\n",
      "[2021-11-25 00:45:46,964] - obspy.clients.fdsn.mass_downloader - INFO: Client 'GEONET' - Will attempt to download data from 1 stations.\n",
      "[2021-11-25 00:45:46,965] - obspy.clients.fdsn.mass_downloader - INFO: Client 'GEONET' - Status for 1 time intervals/channels before downloading: NEEDS_DOWNLOADING\n",
      "[2021-11-25 00:45:48,009] - obspy.clients.fdsn.mass_downloader - INFO: Client 'GEONET' - Successfully downloaded 1 channels (of 1)\n",
      "[2021-11-25 00:45:48,013] - obspy.clients.fdsn.mass_downloader - INFO: Client 'GEONET' - Launching basic QC checks...\n",
      "[2021-11-25 00:45:48,022] - obspy.clients.fdsn.mass_downloader - INFO: Client 'GEONET' - Downloaded 0.0 MB [3.35 KB/sec] of data, 0.0 MB of which were discarded afterwards.\n",
      "[2021-11-25 00:45:48,023] - obspy.clients.fdsn.mass_downloader - INFO: Client 'GEONET' - Status for 1 time intervals/channels after downloading: DOWNLOADED\n",
      "[2021-11-25 00:45:48,025] - obspy.clients.fdsn.mass_downloader - INFO: Client 'GEONET' - No station information to download.\n",
      "[2021-11-25 00:45:48,026] - obspy.clients.fdsn.mass_downloader - INFO: ============================== Final report\n",
      "[2021-11-25 00:45:48,026] - obspy.clients.fdsn.mass_downloader - INFO: 0 MiniSEED files [0.0 MB] already existed.\n",
      "[2021-11-25 00:45:48,027] - obspy.clients.fdsn.mass_downloader - INFO: 1 StationXML files [0.0 MB] already existed.\n",
      "[2021-11-25 00:45:48,027] - obspy.clients.fdsn.mass_downloader - INFO: Client 'GEONET' - Acquired 1 MiniSEED files [0.0 MB].\n",
      "[2021-11-25 00:45:48,027] - obspy.clients.fdsn.mass_downloader - INFO: Client 'GEONET' - Acquired 0 StationXML files [0.0 MB].\n",
      "[2021-11-25 00:45:48,028] - obspy.clients.fdsn.mass_downloader - INFO: Downloaded 0.0 MB in total.\n",
      "[2021-11-25 00:45:48,030] - obspy.clients.fdsn.mass_downloader - INFO: Initializing FDSN client(s) for GEONET.\n",
      "[2021-11-25 00:45:48,037] - obspy.clients.fdsn.mass_downloader - INFO: Successfully initialized 1 client(s): GEONET.\n",
      "[2021-11-25 00:45:48,037] - obspy.clients.fdsn.mass_downloader - INFO: Total acquired or preexisting stations: 0\n",
      "[2021-11-25 00:45:48,038] - obspy.clients.fdsn.mass_downloader - INFO: Client 'GEONET' - Requesting unreliable availability.\n"
     ]
    },
    {
     "name": "stdout",
     "output_type": "stream",
     "text": [
      "=================================================================\n",
      "Initiating mass download request.\n"
     ]
    },
    {
     "name": "stderr",
     "output_type": "stream",
     "text": [
      "[2021-11-25 00:45:48,588] - obspy.clients.fdsn.mass_downloader - INFO: Client 'GEONET' - Successfully requested availability (0.55 seconds)\n",
      "[2021-11-25 00:45:48,589] - obspy.clients.fdsn.mass_downloader - INFO: Client 'GEONET' - Found 1 stations (1 channels).\n",
      "[2021-11-25 00:45:48,591] - obspy.clients.fdsn.mass_downloader - INFO: Client 'GEONET' - Will attempt to download data from 1 stations.\n",
      "[2021-11-25 00:45:48,597] - obspy.clients.fdsn.mass_downloader - INFO: Client 'GEONET' - Status for 1 time intervals/channels before downloading: NEEDS_DOWNLOADING\n",
      "[2021-11-25 00:45:49,395] - obspy.clients.fdsn.mass_downloader - INFO: Client 'GEONET' - Successfully downloaded 1 channels (of 1)\n",
      "[2021-11-25 00:45:49,397] - obspy.clients.fdsn.mass_downloader - INFO: Client 'GEONET' - Launching basic QC checks...\n",
      "[2021-11-25 00:45:49,401] - obspy.clients.fdsn.mass_downloader - INFO: Client 'GEONET' - Downloaded 0.0 MB [3.79 KB/sec] of data, 0.0 MB of which were discarded afterwards.\n",
      "[2021-11-25 00:45:49,401] - obspy.clients.fdsn.mass_downloader - INFO: Client 'GEONET' - Status for 1 time intervals/channels after downloading: DOWNLOADED\n",
      "[2021-11-25 00:45:49,404] - obspy.clients.fdsn.mass_downloader - INFO: Client 'GEONET' - No station information to download.\n",
      "[2021-11-25 00:45:49,404] - obspy.clients.fdsn.mass_downloader - INFO: ============================== Final report\n",
      "[2021-11-25 00:45:49,405] - obspy.clients.fdsn.mass_downloader - INFO: 0 MiniSEED files [0.0 MB] already existed.\n",
      "[2021-11-25 00:45:49,405] - obspy.clients.fdsn.mass_downloader - INFO: 1 StationXML files [0.0 MB] already existed.\n",
      "[2021-11-25 00:45:49,405] - obspy.clients.fdsn.mass_downloader - INFO: Client 'GEONET' - Acquired 1 MiniSEED files [0.0 MB].\n",
      "[2021-11-25 00:45:49,406] - obspy.clients.fdsn.mass_downloader - INFO: Client 'GEONET' - Acquired 0 StationXML files [0.0 MB].\n",
      "[2021-11-25 00:45:49,406] - obspy.clients.fdsn.mass_downloader - INFO: Downloaded 0.0 MB in total.\n",
      "[2021-11-25 00:45:49,409] - obspy.clients.fdsn.mass_downloader - INFO: Initializing FDSN client(s) for GEONET.\n",
      "[2021-11-25 00:45:49,412] - obspy.clients.fdsn.mass_downloader - INFO: Successfully initialized 1 client(s): GEONET.\n",
      "[2021-11-25 00:45:49,412] - obspy.clients.fdsn.mass_downloader - INFO: Total acquired or preexisting stations: 0\n",
      "[2021-11-25 00:45:49,413] - obspy.clients.fdsn.mass_downloader - INFO: Client 'GEONET' - Requesting unreliable availability.\n"
     ]
    },
    {
     "name": "stdout",
     "output_type": "stream",
     "text": [
      "=================================================================\n",
      "Initiating mass download request.\n"
     ]
    },
    {
     "name": "stderr",
     "output_type": "stream",
     "text": [
      "[2021-11-25 00:45:49,982] - obspy.clients.fdsn.mass_downloader - INFO: Client 'GEONET' - Successfully requested availability (0.57 seconds)\n",
      "[2021-11-25 00:45:49,983] - obspy.clients.fdsn.mass_downloader - INFO: Client 'GEONET' - Found 1 stations (1 channels).\n",
      "[2021-11-25 00:45:49,983] - obspy.clients.fdsn.mass_downloader - INFO: Client 'GEONET' - Will attempt to download data from 1 stations.\n",
      "[2021-11-25 00:45:49,983] - obspy.clients.fdsn.mass_downloader - INFO: Client 'GEONET' - Status for 1 time intervals/channels before downloading: NEEDS_DOWNLOADING\n",
      "[2021-11-25 00:45:51,179] - obspy.clients.fdsn.mass_downloader - INFO: Client 'GEONET' - Successfully downloaded 1 channels (of 1)\n",
      "[2021-11-25 00:45:51,182] - obspy.clients.fdsn.mass_downloader - INFO: Client 'GEONET' - Launching basic QC checks...\n",
      "[2021-11-25 00:45:51,190] - obspy.clients.fdsn.mass_downloader - INFO: Client 'GEONET' - Downloaded 0.0 MB [3.34 KB/sec] of data, 0.0 MB of which were discarded afterwards.\n",
      "[2021-11-25 00:45:51,190] - obspy.clients.fdsn.mass_downloader - INFO: Client 'GEONET' - Status for 1 time intervals/channels after downloading: DOWNLOADED\n",
      "[2021-11-25 00:45:51,192] - obspy.clients.fdsn.mass_downloader - INFO: Client 'GEONET' - No station information to download.\n",
      "[2021-11-25 00:45:51,193] - obspy.clients.fdsn.mass_downloader - INFO: ============================== Final report\n",
      "[2021-11-25 00:45:51,193] - obspy.clients.fdsn.mass_downloader - INFO: 0 MiniSEED files [0.0 MB] already existed.\n",
      "[2021-11-25 00:45:51,194] - obspy.clients.fdsn.mass_downloader - INFO: 1 StationXML files [0.0 MB] already existed.\n",
      "[2021-11-25 00:45:51,194] - obspy.clients.fdsn.mass_downloader - INFO: Client 'GEONET' - Acquired 1 MiniSEED files [0.0 MB].\n",
      "[2021-11-25 00:45:51,194] - obspy.clients.fdsn.mass_downloader - INFO: Client 'GEONET' - Acquired 0 StationXML files [0.0 MB].\n",
      "[2021-11-25 00:45:51,194] - obspy.clients.fdsn.mass_downloader - INFO: Downloaded 0.0 MB in total.\n",
      "[2021-11-25 00:45:51,197] - obspy.clients.fdsn.mass_downloader - INFO: Initializing FDSN client(s) for GEONET.\n",
      "[2021-11-25 00:45:51,200] - obspy.clients.fdsn.mass_downloader - INFO: Successfully initialized 1 client(s): GEONET.\n",
      "[2021-11-25 00:45:51,201] - obspy.clients.fdsn.mass_downloader - INFO: Total acquired or preexisting stations: 0\n",
      "[2021-11-25 00:45:51,201] - obspy.clients.fdsn.mass_downloader - INFO: Client 'GEONET' - Requesting unreliable availability.\n"
     ]
    },
    {
     "name": "stdout",
     "output_type": "stream",
     "text": [
      "=================================================================\n",
      "Initiating mass download request.\n"
     ]
    },
    {
     "name": "stderr",
     "output_type": "stream",
     "text": [
      "[2021-11-25 00:45:51,753] - obspy.clients.fdsn.mass_downloader - INFO: Client 'GEONET' - Successfully requested availability (0.55 seconds)\n",
      "[2021-11-25 00:45:51,753] - obspy.clients.fdsn.mass_downloader - INFO: Client 'GEONET' - Found 1 stations (1 channels).\n",
      "[2021-11-25 00:45:51,754] - obspy.clients.fdsn.mass_downloader - INFO: Client 'GEONET' - Will attempt to download data from 1 stations.\n",
      "[2021-11-25 00:45:51,754] - obspy.clients.fdsn.mass_downloader - INFO: Client 'GEONET' - Status for 1 time intervals/channels before downloading: NEEDS_DOWNLOADING\n",
      "[2021-11-25 00:45:52,796] - obspy.clients.fdsn.mass_downloader - INFO: Client 'GEONET' - Successfully downloaded 1 channels (of 1)\n",
      "[2021-11-25 00:45:52,806] - obspy.clients.fdsn.mass_downloader - INFO: Client 'GEONET' - Launching basic QC checks...\n",
      "[2021-11-25 00:45:52,821] - obspy.clients.fdsn.mass_downloader - INFO: Client 'GEONET' - Downloaded 0.0 MB [3.33 KB/sec] of data, 0.0 MB of which were discarded afterwards.\n",
      "[2021-11-25 00:45:52,822] - obspy.clients.fdsn.mass_downloader - INFO: Client 'GEONET' - Status for 1 time intervals/channels after downloading: DOWNLOADED\n",
      "[2021-11-25 00:45:52,825] - obspy.clients.fdsn.mass_downloader - INFO: Client 'GEONET' - No station information to download.\n",
      "[2021-11-25 00:45:52,828] - obspy.clients.fdsn.mass_downloader - INFO: ============================== Final report\n",
      "[2021-11-25 00:45:52,830] - obspy.clients.fdsn.mass_downloader - INFO: 0 MiniSEED files [0.0 MB] already existed.\n",
      "[2021-11-25 00:45:52,831] - obspy.clients.fdsn.mass_downloader - INFO: 1 StationXML files [0.0 MB] already existed.\n",
      "[2021-11-25 00:45:52,832] - obspy.clients.fdsn.mass_downloader - INFO: Client 'GEONET' - Acquired 1 MiniSEED files [0.0 MB].\n",
      "[2021-11-25 00:45:52,832] - obspy.clients.fdsn.mass_downloader - INFO: Client 'GEONET' - Acquired 0 StationXML files [0.0 MB].\n",
      "[2021-11-25 00:45:52,833] - obspy.clients.fdsn.mass_downloader - INFO: Downloaded 0.0 MB in total.\n",
      "[2021-11-25 00:45:52,835] - obspy.clients.fdsn.mass_downloader - INFO: Initializing FDSN client(s) for GEONET.\n",
      "[2021-11-25 00:45:52,847] - obspy.clients.fdsn.mass_downloader - INFO: Successfully initialized 1 client(s): GEONET.\n",
      "[2021-11-25 00:45:52,849] - obspy.clients.fdsn.mass_downloader - INFO: Total acquired or preexisting stations: 0\n",
      "[2021-11-25 00:45:52,850] - obspy.clients.fdsn.mass_downloader - INFO: Client 'GEONET' - Requesting unreliable availability.\n"
     ]
    },
    {
     "name": "stdout",
     "output_type": "stream",
     "text": [
      "=================================================================\n",
      "Initiating mass download request.\n"
     ]
    },
    {
     "name": "stderr",
     "output_type": "stream",
     "text": [
      "[2021-11-25 00:45:53,430] - obspy.clients.fdsn.mass_downloader - INFO: Client 'GEONET' - Successfully requested availability (0.58 seconds)\n",
      "[2021-11-25 00:45:53,431] - obspy.clients.fdsn.mass_downloader - INFO: Client 'GEONET' - Found 1 stations (1 channels).\n",
      "[2021-11-25 00:45:53,431] - obspy.clients.fdsn.mass_downloader - INFO: Client 'GEONET' - Will attempt to download data from 1 stations.\n",
      "[2021-11-25 00:45:53,432] - obspy.clients.fdsn.mass_downloader - INFO: Client 'GEONET' - Status for 1 time intervals/channels before downloading: NEEDS_DOWNLOADING\n",
      "[2021-11-25 00:45:54,382] - obspy.clients.fdsn.mass_downloader - INFO: Client 'GEONET' - Successfully downloaded 1 channels (of 1)\n",
      "[2021-11-25 00:45:54,389] - obspy.clients.fdsn.mass_downloader - INFO: Client 'GEONET' - Launching basic QC checks...\n",
      "[2021-11-25 00:45:54,397] - obspy.clients.fdsn.mass_downloader - INFO: Client 'GEONET' - Downloaded 0.0 MB [3.67 KB/sec] of data, 0.0 MB of which were discarded afterwards.\n",
      "[2021-11-25 00:45:54,397] - obspy.clients.fdsn.mass_downloader - INFO: Client 'GEONET' - Status for 1 time intervals/channels after downloading: DOWNLOADED\n",
      "[2021-11-25 00:45:54,406] - obspy.clients.fdsn.mass_downloader - INFO: Client 'GEONET' - No station information to download.\n",
      "[2021-11-25 00:45:54,407] - obspy.clients.fdsn.mass_downloader - INFO: ============================== Final report\n",
      "[2021-11-25 00:45:54,407] - obspy.clients.fdsn.mass_downloader - INFO: 0 MiniSEED files [0.0 MB] already existed.\n",
      "[2021-11-25 00:45:54,407] - obspy.clients.fdsn.mass_downloader - INFO: 1 StationXML files [0.0 MB] already existed.\n",
      "[2021-11-25 00:45:54,408] - obspy.clients.fdsn.mass_downloader - INFO: Client 'GEONET' - Acquired 1 MiniSEED files [0.0 MB].\n",
      "[2021-11-25 00:45:54,409] - obspy.clients.fdsn.mass_downloader - INFO: Client 'GEONET' - Acquired 0 StationXML files [0.0 MB].\n",
      "[2021-11-25 00:45:54,409] - obspy.clients.fdsn.mass_downloader - INFO: Downloaded 0.0 MB in total.\n",
      "[2021-11-25 00:45:54,412] - obspy.clients.fdsn.mass_downloader - INFO: Initializing FDSN client(s) for GEONET.\n",
      "[2021-11-25 00:45:54,422] - obspy.clients.fdsn.mass_downloader - INFO: Successfully initialized 1 client(s): GEONET.\n",
      "[2021-11-25 00:45:54,423] - obspy.clients.fdsn.mass_downloader - INFO: Total acquired or preexisting stations: 0\n",
      "[2021-11-25 00:45:54,424] - obspy.clients.fdsn.mass_downloader - INFO: Client 'GEONET' - Requesting unreliable availability.\n"
     ]
    },
    {
     "name": "stdout",
     "output_type": "stream",
     "text": [
      "=================================================================\n",
      "Initiating mass download request.\n"
     ]
    },
    {
     "name": "stderr",
     "output_type": "stream",
     "text": [
      "[2021-11-25 00:45:55,017] - obspy.clients.fdsn.mass_downloader - INFO: Client 'GEONET' - Successfully requested availability (0.59 seconds)\n",
      "[2021-11-25 00:45:55,024] - obspy.clients.fdsn.mass_downloader - INFO: Client 'GEONET' - Found 1 stations (1 channels).\n",
      "[2021-11-25 00:45:55,030] - obspy.clients.fdsn.mass_downloader - INFO: Client 'GEONET' - Will attempt to download data from 1 stations.\n",
      "[2021-11-25 00:45:55,035] - obspy.clients.fdsn.mass_downloader - INFO: Client 'GEONET' - Status for 1 time intervals/channels before downloading: NEEDS_DOWNLOADING\n",
      "[2021-11-25 00:45:55,661] - obspy.clients.fdsn.mass_downloader - INFO: Client 'GEONET' - No data available for request.\n",
      "[2021-11-25 00:45:55,662] - obspy.clients.fdsn.mass_downloader - INFO: Client 'GEONET' - Launching basic QC checks...\n",
      "[2021-11-25 00:45:55,663] - obspy.clients.fdsn.mass_downloader - INFO: Client 'GEONET' - Downloaded 0.0 MB [0.00 KB/sec] of data, 0.0 MB of which were discarded afterwards.\n",
      "[2021-11-25 00:45:55,663] - obspy.clients.fdsn.mass_downloader - INFO: Client 'GEONET' - Status for 1 time intervals/channels after downloading: DOWNLOAD_FAILED\n",
      "[2021-11-25 00:45:55,664] - obspy.clients.fdsn.mass_downloader - INFO: Client 'GEONET' - No station information to download.\n",
      "[2021-11-25 00:45:55,664] - obspy.clients.fdsn.mass_downloader - INFO: Client 'GEONET' - No data could be downloaded.\n",
      "[2021-11-25 00:45:55,665] - obspy.clients.fdsn.mass_downloader - INFO: ============================== Final report\n",
      "[2021-11-25 00:45:55,665] - obspy.clients.fdsn.mass_downloader - INFO: 0 MiniSEED files [0.0 MB] already existed.\n",
      "[2021-11-25 00:45:55,666] - obspy.clients.fdsn.mass_downloader - INFO: 0 StationXML files [0.0 MB] already existed.\n",
      "[2021-11-25 00:45:55,667] - obspy.clients.fdsn.mass_downloader - INFO: Client 'GEONET' - Acquired 0 MiniSEED files [0.0 MB].\n",
      "[2021-11-25 00:45:55,667] - obspy.clients.fdsn.mass_downloader - INFO: Client 'GEONET' - Acquired 0 StationXML files [0.0 MB].\n",
      "[2021-11-25 00:45:55,668] - obspy.clients.fdsn.mass_downloader - INFO: Downloaded 0.0 MB in total.\n",
      "[2021-11-25 00:45:55,676] - obspy.clients.fdsn.mass_downloader - INFO: Initializing FDSN client(s) for GEONET.\n",
      "[2021-11-25 00:45:55,681] - obspy.clients.fdsn.mass_downloader - INFO: Successfully initialized 1 client(s): GEONET.\n",
      "[2021-11-25 00:45:55,683] - obspy.clients.fdsn.mass_downloader - INFO: Total acquired or preexisting stations: 0\n",
      "[2021-11-25 00:45:55,683] - obspy.clients.fdsn.mass_downloader - INFO: Client 'GEONET' - Requesting unreliable availability.\n"
     ]
    },
    {
     "name": "stdout",
     "output_type": "stream",
     "text": [
      "=================================================================\n",
      "Initiating mass download request.\n"
     ]
    },
    {
     "name": "stderr",
     "output_type": "stream",
     "text": [
      "[2021-11-25 00:45:56,250] - obspy.clients.fdsn.mass_downloader - INFO: Client 'GEONET' - Successfully requested availability (0.57 seconds)\n",
      "[2021-11-25 00:45:56,251] - obspy.clients.fdsn.mass_downloader - INFO: Client 'GEONET' - Found 1 stations (1 channels).\n",
      "[2021-11-25 00:45:56,251] - obspy.clients.fdsn.mass_downloader - INFO: Client 'GEONET' - Will attempt to download data from 1 stations.\n",
      "[2021-11-25 00:45:56,252] - obspy.clients.fdsn.mass_downloader - INFO: Client 'GEONET' - Status for 1 time intervals/channels before downloading: NEEDS_DOWNLOADING\n",
      "[2021-11-25 00:45:57,200] - obspy.clients.fdsn.mass_downloader - INFO: Client 'GEONET' - Successfully downloaded 1 channels (of 1)\n",
      "[2021-11-25 00:45:57,203] - obspy.clients.fdsn.mass_downloader - INFO: Client 'GEONET' - Launching basic QC checks...\n",
      "[2021-11-25 00:45:57,211] - obspy.clients.fdsn.mass_downloader - INFO: Client 'GEONET' - Downloaded 0.0 MB [3.16 KB/sec] of data, 0.0 MB of which were discarded afterwards.\n",
      "[2021-11-25 00:45:57,212] - obspy.clients.fdsn.mass_downloader - INFO: Client 'GEONET' - Status for 1 time intervals/channels after downloading: DOWNLOADED\n",
      "[2021-11-25 00:45:57,215] - obspy.clients.fdsn.mass_downloader - INFO: Client 'GEONET' - No station information to download.\n",
      "[2021-11-25 00:45:57,216] - obspy.clients.fdsn.mass_downloader - INFO: ============================== Final report\n",
      "[2021-11-25 00:45:57,216] - obspy.clients.fdsn.mass_downloader - INFO: 0 MiniSEED files [0.0 MB] already existed.\n",
      "[2021-11-25 00:45:57,217] - obspy.clients.fdsn.mass_downloader - INFO: 1 StationXML files [0.0 MB] already existed.\n",
      "[2021-11-25 00:45:57,217] - obspy.clients.fdsn.mass_downloader - INFO: Client 'GEONET' - Acquired 1 MiniSEED files [0.0 MB].\n",
      "[2021-11-25 00:45:57,219] - obspy.clients.fdsn.mass_downloader - INFO: Client 'GEONET' - Acquired 0 StationXML files [0.0 MB].\n",
      "[2021-11-25 00:45:57,220] - obspy.clients.fdsn.mass_downloader - INFO: Downloaded 0.0 MB in total.\n",
      "[2021-11-25 00:45:57,223] - obspy.clients.fdsn.mass_downloader - INFO: Initializing FDSN client(s) for GEONET.\n",
      "[2021-11-25 00:45:57,227] - obspy.clients.fdsn.mass_downloader - INFO: Successfully initialized 1 client(s): GEONET.\n",
      "[2021-11-25 00:45:57,227] - obspy.clients.fdsn.mass_downloader - INFO: Total acquired or preexisting stations: 0\n",
      "[2021-11-25 00:45:57,228] - obspy.clients.fdsn.mass_downloader - INFO: Client 'GEONET' - Requesting unreliable availability.\n"
     ]
    },
    {
     "name": "stdout",
     "output_type": "stream",
     "text": [
      "=================================================================\n",
      "Initiating mass download request.\n"
     ]
    },
    {
     "name": "stderr",
     "output_type": "stream",
     "text": [
      "[2021-11-25 00:45:57,770] - obspy.clients.fdsn.mass_downloader - INFO: Client 'GEONET' - Successfully requested availability (0.54 seconds)\n",
      "[2021-11-25 00:45:57,770] - obspy.clients.fdsn.mass_downloader - INFO: Client 'GEONET' - Found 1 stations (1 channels).\n",
      "[2021-11-25 00:45:57,770] - obspy.clients.fdsn.mass_downloader - INFO: Client 'GEONET' - Will attempt to download data from 1 stations.\n",
      "[2021-11-25 00:45:57,772] - obspy.clients.fdsn.mass_downloader - INFO: Client 'GEONET' - Status for 1 time intervals/channels before downloading: NEEDS_DOWNLOADING\n",
      "[2021-11-25 00:45:59,906] - obspy.clients.fdsn.mass_downloader - INFO: Client 'GEONET' - Successfully downloaded 1 channels (of 1)\n",
      "[2021-11-25 00:45:59,910] - obspy.clients.fdsn.mass_downloader - INFO: Client 'GEONET' - Launching basic QC checks...\n",
      "[2021-11-25 00:45:59,921] - obspy.clients.fdsn.mass_downloader - INFO: Client 'GEONET' - Downloaded 0.0 MB [1.40 KB/sec] of data, 0.0 MB of which were discarded afterwards.\n",
      "[2021-11-25 00:45:59,922] - obspy.clients.fdsn.mass_downloader - INFO: Client 'GEONET' - Status for 1 time intervals/channels after downloading: DOWNLOADED\n",
      "[2021-11-25 00:45:59,924] - obspy.clients.fdsn.mass_downloader - INFO: Client 'GEONET' - No station information to download.\n",
      "[2021-11-25 00:45:59,925] - obspy.clients.fdsn.mass_downloader - INFO: ============================== Final report\n",
      "[2021-11-25 00:45:59,925] - obspy.clients.fdsn.mass_downloader - INFO: 0 MiniSEED files [0.0 MB] already existed.\n",
      "[2021-11-25 00:45:59,926] - obspy.clients.fdsn.mass_downloader - INFO: 1 StationXML files [0.0 MB] already existed.\n",
      "[2021-11-25 00:45:59,926] - obspy.clients.fdsn.mass_downloader - INFO: Client 'GEONET' - Acquired 1 MiniSEED files [0.0 MB].\n",
      "[2021-11-25 00:45:59,926] - obspy.clients.fdsn.mass_downloader - INFO: Client 'GEONET' - Acquired 0 StationXML files [0.0 MB].\n",
      "[2021-11-25 00:45:59,927] - obspy.clients.fdsn.mass_downloader - INFO: Downloaded 0.0 MB in total.\n",
      "[2021-11-25 00:45:59,933] - obspy.clients.fdsn.mass_downloader - INFO: Initializing FDSN client(s) for GEONET.\n",
      "[2021-11-25 00:45:59,937] - obspy.clients.fdsn.mass_downloader - INFO: Successfully initialized 1 client(s): GEONET.\n",
      "[2021-11-25 00:45:59,938] - obspy.clients.fdsn.mass_downloader - INFO: Total acquired or preexisting stations: 0\n",
      "[2021-11-25 00:45:59,938] - obspy.clients.fdsn.mass_downloader - INFO: Client 'GEONET' - Requesting unreliable availability.\n"
     ]
    },
    {
     "name": "stdout",
     "output_type": "stream",
     "text": [
      "=================================================================\n",
      "Initiating mass download request.\n"
     ]
    },
    {
     "name": "stderr",
     "output_type": "stream",
     "text": [
      "[2021-11-25 00:46:00,535] - obspy.clients.fdsn.mass_downloader - INFO: Client 'GEONET' - Successfully requested availability (0.60 seconds)\n",
      "[2021-11-25 00:46:00,535] - obspy.clients.fdsn.mass_downloader - INFO: Client 'GEONET' - Found 1 stations (1 channels).\n",
      "[2021-11-25 00:46:00,535] - obspy.clients.fdsn.mass_downloader - INFO: Client 'GEONET' - Will attempt to download data from 1 stations.\n",
      "[2021-11-25 00:46:00,536] - obspy.clients.fdsn.mass_downloader - INFO: Client 'GEONET' - Status for 1 time intervals/channels before downloading: NEEDS_DOWNLOADING\n",
      "[2021-11-25 00:46:01,570] - obspy.clients.fdsn.mass_downloader - INFO: Client 'GEONET' - Successfully downloaded 1 channels (of 1)\n",
      "[2021-11-25 00:46:01,582] - obspy.clients.fdsn.mass_downloader - INFO: Client 'GEONET' - Launching basic QC checks...\n",
      "[2021-11-25 00:46:01,602] - obspy.clients.fdsn.mass_downloader - INFO: Client 'GEONET' - Downloaded 0.0 MB [2.39 KB/sec] of data, 0.0 MB of which were discarded afterwards.\n",
      "[2021-11-25 00:46:01,603] - obspy.clients.fdsn.mass_downloader - INFO: Client 'GEONET' - Status for 1 time intervals/channels after downloading: DOWNLOADED\n",
      "[2021-11-25 00:46:01,616] - obspy.clients.fdsn.mass_downloader - INFO: Client 'GEONET' - No station information to download.\n",
      "[2021-11-25 00:46:01,621] - obspy.clients.fdsn.mass_downloader - INFO: ============================== Final report\n",
      "[2021-11-25 00:46:01,622] - obspy.clients.fdsn.mass_downloader - INFO: 0 MiniSEED files [0.0 MB] already existed.\n",
      "[2021-11-25 00:46:01,623] - obspy.clients.fdsn.mass_downloader - INFO: 1 StationXML files [0.0 MB] already existed.\n",
      "[2021-11-25 00:46:01,624] - obspy.clients.fdsn.mass_downloader - INFO: Client 'GEONET' - Acquired 1 MiniSEED files [0.0 MB].\n",
      "[2021-11-25 00:46:01,625] - obspy.clients.fdsn.mass_downloader - INFO: Client 'GEONET' - Acquired 0 StationXML files [0.0 MB].\n",
      "[2021-11-25 00:46:01,626] - obspy.clients.fdsn.mass_downloader - INFO: Downloaded 0.0 MB in total.\n",
      "[2021-11-25 00:46:01,638] - obspy.clients.fdsn.mass_downloader - INFO: Initializing FDSN client(s) for GEONET.\n",
      "[2021-11-25 00:46:01,653] - obspy.clients.fdsn.mass_downloader - INFO: Successfully initialized 1 client(s): GEONET.\n",
      "[2021-11-25 00:46:01,654] - obspy.clients.fdsn.mass_downloader - INFO: Total acquired or preexisting stations: 0\n",
      "[2021-11-25 00:46:01,655] - obspy.clients.fdsn.mass_downloader - INFO: Client 'GEONET' - Requesting unreliable availability.\n"
     ]
    },
    {
     "name": "stdout",
     "output_type": "stream",
     "text": [
      "=================================================================\n",
      "Initiating mass download request.\n"
     ]
    },
    {
     "name": "stderr",
     "output_type": "stream",
     "text": [
      "[2021-11-25 00:46:02,227] - obspy.clients.fdsn.mass_downloader - INFO: Client 'GEONET' - Successfully requested availability (0.57 seconds)\n",
      "[2021-11-25 00:46:02,234] - obspy.clients.fdsn.mass_downloader - INFO: Client 'GEONET' - Found 1 stations (1 channels).\n",
      "[2021-11-25 00:46:02,235] - obspy.clients.fdsn.mass_downloader - INFO: Client 'GEONET' - Will attempt to download data from 1 stations.\n",
      "[2021-11-25 00:46:02,236] - obspy.clients.fdsn.mass_downloader - INFO: Client 'GEONET' - Status for 1 time intervals/channels before downloading: NEEDS_DOWNLOADING\n",
      "[2021-11-25 00:46:03,091] - obspy.clients.fdsn.mass_downloader - INFO: Client 'GEONET' - Successfully downloaded 1 channels (of 1)\n",
      "[2021-11-25 00:46:03,092] - obspy.clients.fdsn.mass_downloader - INFO: Client 'GEONET' - Launching basic QC checks...\n",
      "[2021-11-25 00:46:03,096] - obspy.clients.fdsn.mass_downloader - INFO: Client 'GEONET' - Downloaded 0.0 MB [3.55 KB/sec] of data, 0.0 MB of which were discarded afterwards.\n",
      "[2021-11-25 00:46:03,096] - obspy.clients.fdsn.mass_downloader - INFO: Client 'GEONET' - Status for 1 time intervals/channels after downloading: DOWNLOADED\n",
      "[2021-11-25 00:46:03,098] - obspy.clients.fdsn.mass_downloader - INFO: Client 'GEONET' - No station information to download.\n",
      "[2021-11-25 00:46:03,098] - obspy.clients.fdsn.mass_downloader - INFO: ============================== Final report\n",
      "[2021-11-25 00:46:03,099] - obspy.clients.fdsn.mass_downloader - INFO: 0 MiniSEED files [0.0 MB] already existed.\n",
      "[2021-11-25 00:46:03,099] - obspy.clients.fdsn.mass_downloader - INFO: 1 StationXML files [0.0 MB] already existed.\n",
      "[2021-11-25 00:46:03,100] - obspy.clients.fdsn.mass_downloader - INFO: Client 'GEONET' - Acquired 1 MiniSEED files [0.0 MB].\n",
      "[2021-11-25 00:46:03,100] - obspy.clients.fdsn.mass_downloader - INFO: Client 'GEONET' - Acquired 0 StationXML files [0.0 MB].\n",
      "[2021-11-25 00:46:03,100] - obspy.clients.fdsn.mass_downloader - INFO: Downloaded 0.0 MB in total.\n",
      "[2021-11-25 00:46:03,106] - obspy.clients.fdsn.mass_downloader - INFO: Initializing FDSN client(s) for GEONET.\n",
      "[2021-11-25 00:46:03,109] - obspy.clients.fdsn.mass_downloader - INFO: Successfully initialized 1 client(s): GEONET.\n",
      "[2021-11-25 00:46:03,110] - obspy.clients.fdsn.mass_downloader - INFO: Total acquired or preexisting stations: 0\n",
      "[2021-11-25 00:46:03,110] - obspy.clients.fdsn.mass_downloader - INFO: Client 'GEONET' - Requesting unreliable availability.\n"
     ]
    },
    {
     "name": "stdout",
     "output_type": "stream",
     "text": [
      "=================================================================\n",
      "Initiating mass download request.\n"
     ]
    },
    {
     "name": "stderr",
     "output_type": "stream",
     "text": [
      "[2021-11-25 00:46:03,693] - obspy.clients.fdsn.mass_downloader - INFO: Client 'GEONET' - Successfully requested availability (0.58 seconds)\n",
      "[2021-11-25 00:46:03,694] - obspy.clients.fdsn.mass_downloader - INFO: Client 'GEONET' - Found 1 stations (1 channels).\n",
      "[2021-11-25 00:46:03,696] - obspy.clients.fdsn.mass_downloader - INFO: Client 'GEONET' - Will attempt to download data from 1 stations.\n",
      "[2021-11-25 00:46:03,698] - obspy.clients.fdsn.mass_downloader - INFO: Client 'GEONET' - Status for 1 time intervals/channels before downloading: NEEDS_DOWNLOADING\n",
      "[2021-11-25 00:46:04,547] - obspy.clients.fdsn.mass_downloader - INFO: Client 'GEONET' - Successfully downloaded 1 channels (of 1)\n",
      "[2021-11-25 00:46:04,550] - obspy.clients.fdsn.mass_downloader - INFO: Client 'GEONET' - Launching basic QC checks...\n",
      "[2021-11-25 00:46:04,558] - obspy.clients.fdsn.mass_downloader - INFO: Client 'GEONET' - Downloaded 0.0 MB [3.56 KB/sec] of data, 0.0 MB of which were discarded afterwards.\n",
      "[2021-11-25 00:46:04,558] - obspy.clients.fdsn.mass_downloader - INFO: Client 'GEONET' - Status for 1 time intervals/channels after downloading: DOWNLOADED\n",
      "[2021-11-25 00:46:04,565] - obspy.clients.fdsn.mass_downloader - INFO: Client 'GEONET' - No station information to download.\n",
      "[2021-11-25 00:46:04,566] - obspy.clients.fdsn.mass_downloader - INFO: ============================== Final report\n",
      "[2021-11-25 00:46:04,566] - obspy.clients.fdsn.mass_downloader - INFO: 0 MiniSEED files [0.0 MB] already existed.\n",
      "[2021-11-25 00:46:04,566] - obspy.clients.fdsn.mass_downloader - INFO: 1 StationXML files [0.0 MB] already existed.\n",
      "[2021-11-25 00:46:04,567] - obspy.clients.fdsn.mass_downloader - INFO: Client 'GEONET' - Acquired 1 MiniSEED files [0.0 MB].\n",
      "[2021-11-25 00:46:04,567] - obspy.clients.fdsn.mass_downloader - INFO: Client 'GEONET' - Acquired 0 StationXML files [0.0 MB].\n",
      "[2021-11-25 00:46:04,567] - obspy.clients.fdsn.mass_downloader - INFO: Downloaded 0.0 MB in total.\n",
      "[2021-11-25 00:46:04,570] - obspy.clients.fdsn.mass_downloader - INFO: Initializing FDSN client(s) for GEONET.\n",
      "[2021-11-25 00:46:04,573] - obspy.clients.fdsn.mass_downloader - INFO: Successfully initialized 1 client(s): GEONET.\n",
      "[2021-11-25 00:46:04,574] - obspy.clients.fdsn.mass_downloader - INFO: Total acquired or preexisting stations: 0\n",
      "[2021-11-25 00:46:04,575] - obspy.clients.fdsn.mass_downloader - INFO: Client 'GEONET' - Requesting unreliable availability.\n"
     ]
    },
    {
     "name": "stdout",
     "output_type": "stream",
     "text": [
      "=================================================================\n",
      "Initiating mass download request.\n"
     ]
    },
    {
     "name": "stderr",
     "output_type": "stream",
     "text": [
      "[2021-11-25 00:46:05,118] - obspy.clients.fdsn.mass_downloader - INFO: Client 'GEONET' - Successfully requested availability (0.54 seconds)\n",
      "[2021-11-25 00:46:05,119] - obspy.clients.fdsn.mass_downloader - INFO: Client 'GEONET' - Found 1 stations (1 channels).\n",
      "[2021-11-25 00:46:05,120] - obspy.clients.fdsn.mass_downloader - INFO: Client 'GEONET' - Will attempt to download data from 1 stations.\n",
      "[2021-11-25 00:46:05,122] - obspy.clients.fdsn.mass_downloader - INFO: Client 'GEONET' - Status for 1 time intervals/channels before downloading: NEEDS_DOWNLOADING\n",
      "[2021-11-25 00:46:05,922] - obspy.clients.fdsn.mass_downloader - INFO: Client 'GEONET' - Successfully downloaded 1 channels (of 1)\n",
      "[2021-11-25 00:46:05,925] - obspy.clients.fdsn.mass_downloader - INFO: Client 'GEONET' - Launching basic QC checks...\n",
      "[2021-11-25 00:46:05,934] - obspy.clients.fdsn.mass_downloader - INFO: Client 'GEONET' - Downloaded 0.0 MB [3.75 KB/sec] of data, 0.0 MB of which were discarded afterwards.\n",
      "[2021-11-25 00:46:05,935] - obspy.clients.fdsn.mass_downloader - INFO: Client 'GEONET' - Status for 1 time intervals/channels after downloading: DOWNLOADED\n",
      "[2021-11-25 00:46:05,937] - obspy.clients.fdsn.mass_downloader - INFO: Client 'GEONET' - No station information to download.\n",
      "[2021-11-25 00:46:05,937] - obspy.clients.fdsn.mass_downloader - INFO: ============================== Final report\n",
      "[2021-11-25 00:46:05,938] - obspy.clients.fdsn.mass_downloader - INFO: 0 MiniSEED files [0.0 MB] already existed.\n",
      "[2021-11-25 00:46:05,938] - obspy.clients.fdsn.mass_downloader - INFO: 1 StationXML files [0.0 MB] already existed.\n",
      "[2021-11-25 00:46:05,938] - obspy.clients.fdsn.mass_downloader - INFO: Client 'GEONET' - Acquired 1 MiniSEED files [0.0 MB].\n",
      "[2021-11-25 00:46:05,939] - obspy.clients.fdsn.mass_downloader - INFO: Client 'GEONET' - Acquired 0 StationXML files [0.0 MB].\n",
      "[2021-11-25 00:46:05,939] - obspy.clients.fdsn.mass_downloader - INFO: Downloaded 0.0 MB in total.\n",
      "[2021-11-25 00:46:05,944] - obspy.clients.fdsn.mass_downloader - INFO: Initializing FDSN client(s) for GEONET.\n",
      "[2021-11-25 00:46:05,956] - obspy.clients.fdsn.mass_downloader - INFO: Successfully initialized 1 client(s): GEONET.\n",
      "[2021-11-25 00:46:05,958] - obspy.clients.fdsn.mass_downloader - INFO: Total acquired or preexisting stations: 0\n",
      "[2021-11-25 00:46:05,958] - obspy.clients.fdsn.mass_downloader - INFO: Client 'GEONET' - Requesting unreliable availability.\n"
     ]
    },
    {
     "name": "stdout",
     "output_type": "stream",
     "text": [
      "=================================================================\n",
      "Initiating mass download request.\n"
     ]
    },
    {
     "name": "stderr",
     "output_type": "stream",
     "text": [
      "[2021-11-25 00:46:06,533] - obspy.clients.fdsn.mass_downloader - INFO: Client 'GEONET' - Successfully requested availability (0.57 seconds)\n",
      "[2021-11-25 00:46:06,533] - obspy.clients.fdsn.mass_downloader - INFO: Client 'GEONET' - Found 1 stations (1 channels).\n",
      "[2021-11-25 00:46:06,534] - obspy.clients.fdsn.mass_downloader - INFO: Client 'GEONET' - Will attempt to download data from 1 stations.\n",
      "[2021-11-25 00:46:06,534] - obspy.clients.fdsn.mass_downloader - INFO: Client 'GEONET' - Status for 1 time intervals/channels before downloading: NEEDS_DOWNLOADING\n",
      "[2021-11-25 00:46:07,474] - obspy.clients.fdsn.mass_downloader - INFO: Client 'GEONET' - Successfully downloaded 1 channels (of 1)\n",
      "[2021-11-25 00:46:07,482] - obspy.clients.fdsn.mass_downloader - INFO: Client 'GEONET' - Launching basic QC checks...\n",
      "[2021-11-25 00:46:07,490] - obspy.clients.fdsn.mass_downloader - INFO: Client 'GEONET' - Downloaded 0.0 MB [3.70 KB/sec] of data, 0.0 MB of which were discarded afterwards.\n",
      "[2021-11-25 00:46:07,491] - obspy.clients.fdsn.mass_downloader - INFO: Client 'GEONET' - Status for 1 time intervals/channels after downloading: DOWNLOADED\n",
      "[2021-11-25 00:46:07,493] - obspy.clients.fdsn.mass_downloader - INFO: Client 'GEONET' - No station information to download.\n",
      "[2021-11-25 00:46:07,493] - obspy.clients.fdsn.mass_downloader - INFO: ============================== Final report\n",
      "[2021-11-25 00:46:07,494] - obspy.clients.fdsn.mass_downloader - INFO: 0 MiniSEED files [0.0 MB] already existed.\n",
      "[2021-11-25 00:46:07,494] - obspy.clients.fdsn.mass_downloader - INFO: 1 StationXML files [0.0 MB] already existed.\n",
      "[2021-11-25 00:46:07,494] - obspy.clients.fdsn.mass_downloader - INFO: Client 'GEONET' - Acquired 1 MiniSEED files [0.0 MB].\n",
      "[2021-11-25 00:46:07,494] - obspy.clients.fdsn.mass_downloader - INFO: Client 'GEONET' - Acquired 0 StationXML files [0.0 MB].\n",
      "[2021-11-25 00:46:07,495] - obspy.clients.fdsn.mass_downloader - INFO: Downloaded 0.0 MB in total.\n",
      "[2021-11-25 00:46:07,497] - obspy.clients.fdsn.mass_downloader - INFO: Initializing FDSN client(s) for GEONET.\n",
      "[2021-11-25 00:46:07,500] - obspy.clients.fdsn.mass_downloader - INFO: Successfully initialized 1 client(s): GEONET.\n",
      "[2021-11-25 00:46:07,505] - obspy.clients.fdsn.mass_downloader - INFO: Total acquired or preexisting stations: 0\n",
      "[2021-11-25 00:46:07,505] - obspy.clients.fdsn.mass_downloader - INFO: Client 'GEONET' - Requesting unreliable availability.\n"
     ]
    },
    {
     "name": "stdout",
     "output_type": "stream",
     "text": [
      "=================================================================\n",
      "Initiating mass download request.\n"
     ]
    },
    {
     "name": "stderr",
     "output_type": "stream",
     "text": [
      "[2021-11-25 00:46:08,103] - obspy.clients.fdsn.mass_downloader - INFO: Client 'GEONET' - Successfully requested availability (0.60 seconds)\n",
      "[2021-11-25 00:46:08,104] - obspy.clients.fdsn.mass_downloader - INFO: Client 'GEONET' - Found 1 stations (1 channels).\n",
      "[2021-11-25 00:46:08,104] - obspy.clients.fdsn.mass_downloader - INFO: Client 'GEONET' - Will attempt to download data from 1 stations.\n",
      "[2021-11-25 00:46:08,105] - obspy.clients.fdsn.mass_downloader - INFO: Client 'GEONET' - Status for 1 time intervals/channels before downloading: NEEDS_DOWNLOADING\n",
      "[2021-11-25 00:46:08,925] - obspy.clients.fdsn.mass_downloader - INFO: Client 'GEONET' - Successfully downloaded 1 channels (of 1)\n",
      "[2021-11-25 00:46:08,932] - obspy.clients.fdsn.mass_downloader - INFO: Client 'GEONET' - Launching basic QC checks...\n",
      "[2021-11-25 00:46:08,936] - obspy.clients.fdsn.mass_downloader - INFO: Client 'GEONET' - Downloaded 0.0 MB [3.64 KB/sec] of data, 0.0 MB of which were discarded afterwards.\n",
      "[2021-11-25 00:46:08,937] - obspy.clients.fdsn.mass_downloader - INFO: Client 'GEONET' - Status for 1 time intervals/channels after downloading: DOWNLOADED\n",
      "[2021-11-25 00:46:08,942] - obspy.clients.fdsn.mass_downloader - INFO: Client 'GEONET' - No station information to download.\n",
      "[2021-11-25 00:46:08,942] - obspy.clients.fdsn.mass_downloader - INFO: ============================== Final report\n",
      "[2021-11-25 00:46:08,943] - obspy.clients.fdsn.mass_downloader - INFO: 0 MiniSEED files [0.0 MB] already existed.\n",
      "[2021-11-25 00:46:08,943] - obspy.clients.fdsn.mass_downloader - INFO: 1 StationXML files [0.0 MB] already existed.\n",
      "[2021-11-25 00:46:08,943] - obspy.clients.fdsn.mass_downloader - INFO: Client 'GEONET' - Acquired 1 MiniSEED files [0.0 MB].\n",
      "[2021-11-25 00:46:08,943] - obspy.clients.fdsn.mass_downloader - INFO: Client 'GEONET' - Acquired 0 StationXML files [0.0 MB].\n",
      "[2021-11-25 00:46:08,944] - obspy.clients.fdsn.mass_downloader - INFO: Downloaded 0.0 MB in total.\n",
      "[2021-11-25 00:46:08,946] - obspy.clients.fdsn.mass_downloader - INFO: Initializing FDSN client(s) for GEONET.\n",
      "[2021-11-25 00:46:08,949] - obspy.clients.fdsn.mass_downloader - INFO: Successfully initialized 1 client(s): GEONET.\n",
      "[2021-11-25 00:46:08,950] - obspy.clients.fdsn.mass_downloader - INFO: Total acquired or preexisting stations: 0\n",
      "[2021-11-25 00:46:08,950] - obspy.clients.fdsn.mass_downloader - INFO: Client 'GEONET' - Requesting unreliable availability.\n"
     ]
    },
    {
     "name": "stdout",
     "output_type": "stream",
     "text": [
      "=================================================================\n",
      "Initiating mass download request.\n"
     ]
    },
    {
     "name": "stderr",
     "output_type": "stream",
     "text": [
      "[2021-11-25 00:46:09,487] - obspy.clients.fdsn.mass_downloader - INFO: Client 'GEONET' - Successfully requested availability (0.54 seconds)\n",
      "[2021-11-25 00:46:09,488] - obspy.clients.fdsn.mass_downloader - INFO: Client 'GEONET' - Found 1 stations (1 channels).\n",
      "[2021-11-25 00:46:09,488] - obspy.clients.fdsn.mass_downloader - INFO: Client 'GEONET' - Will attempt to download data from 1 stations.\n",
      "[2021-11-25 00:46:09,489] - obspy.clients.fdsn.mass_downloader - INFO: Client 'GEONET' - Status for 1 time intervals/channels before downloading: NEEDS_DOWNLOADING\n",
      "[2021-11-25 00:46:10,998] - obspy.clients.fdsn.mass_downloader - INFO: Client 'GEONET' - Successfully downloaded 1 channels (of 1)\n",
      "[2021-11-25 00:46:11,006] - obspy.clients.fdsn.mass_downloader - INFO: Client 'GEONET' - Launching basic QC checks...\n",
      "[2021-11-25 00:46:11,019] - obspy.clients.fdsn.mass_downloader - INFO: Client 'GEONET' - Downloaded 0.0 MB [1.98 KB/sec] of data, 0.0 MB of which were discarded afterwards.\n",
      "[2021-11-25 00:46:11,020] - obspy.clients.fdsn.mass_downloader - INFO: Client 'GEONET' - Status for 1 time intervals/channels after downloading: DOWNLOADED\n",
      "[2021-11-25 00:46:11,024] - obspy.clients.fdsn.mass_downloader - INFO: Client 'GEONET' - No station information to download.\n",
      "[2021-11-25 00:46:11,026] - obspy.clients.fdsn.mass_downloader - INFO: ============================== Final report\n",
      "[2021-11-25 00:46:11,027] - obspy.clients.fdsn.mass_downloader - INFO: 0 MiniSEED files [0.0 MB] already existed.\n",
      "[2021-11-25 00:46:11,028] - obspy.clients.fdsn.mass_downloader - INFO: 1 StationXML files [0.0 MB] already existed.\n",
      "[2021-11-25 00:46:11,028] - obspy.clients.fdsn.mass_downloader - INFO: Client 'GEONET' - Acquired 1 MiniSEED files [0.0 MB].\n",
      "[2021-11-25 00:46:11,031] - obspy.clients.fdsn.mass_downloader - INFO: Client 'GEONET' - Acquired 0 StationXML files [0.0 MB].\n",
      "[2021-11-25 00:46:11,032] - obspy.clients.fdsn.mass_downloader - INFO: Downloaded 0.0 MB in total.\n",
      "[2021-11-25 00:46:11,036] - obspy.clients.fdsn.mass_downloader - INFO: Initializing FDSN client(s) for GEONET.\n",
      "[2021-11-25 00:46:11,046] - obspy.clients.fdsn.mass_downloader - INFO: Successfully initialized 1 client(s): GEONET.\n",
      "[2021-11-25 00:46:11,047] - obspy.clients.fdsn.mass_downloader - INFO: Total acquired or preexisting stations: 0\n",
      "[2021-11-25 00:46:11,048] - obspy.clients.fdsn.mass_downloader - INFO: Client 'GEONET' - Requesting unreliable availability.\n"
     ]
    },
    {
     "name": "stdout",
     "output_type": "stream",
     "text": [
      "=================================================================\n",
      "Initiating mass download request.\n"
     ]
    },
    {
     "name": "stderr",
     "output_type": "stream",
     "text": [
      "[2021-11-25 00:46:11,653] - obspy.clients.fdsn.mass_downloader - INFO: Client 'GEONET' - Successfully requested availability (0.60 seconds)\n",
      "[2021-11-25 00:46:11,654] - obspy.clients.fdsn.mass_downloader - INFO: Client 'GEONET' - Found 1 stations (1 channels).\n",
      "[2021-11-25 00:46:11,655] - obspy.clients.fdsn.mass_downloader - INFO: Client 'GEONET' - Will attempt to download data from 1 stations.\n",
      "[2021-11-25 00:46:11,656] - obspy.clients.fdsn.mass_downloader - INFO: Client 'GEONET' - Status for 1 time intervals/channels before downloading: NEEDS_DOWNLOADING\n",
      "[2021-11-25 00:46:13,263] - obspy.clients.fdsn.mass_downloader - INFO: Client 'GEONET' - Successfully downloaded 1 channels (of 1)\n",
      "[2021-11-25 00:46:13,272] - obspy.clients.fdsn.mass_downloader - INFO: Client 'GEONET' - Launching basic QC checks...\n",
      "[2021-11-25 00:46:13,282] - obspy.clients.fdsn.mass_downloader - INFO: Client 'GEONET' - Downloaded 0.0 MB [1.86 KB/sec] of data, 0.0 MB of which were discarded afterwards.\n",
      "[2021-11-25 00:46:13,282] - obspy.clients.fdsn.mass_downloader - INFO: Client 'GEONET' - Status for 1 time intervals/channels after downloading: DOWNLOADED\n",
      "[2021-11-25 00:46:13,285] - obspy.clients.fdsn.mass_downloader - INFO: Client 'GEONET' - No station information to download.\n",
      "[2021-11-25 00:46:13,285] - obspy.clients.fdsn.mass_downloader - INFO: ============================== Final report\n",
      "[2021-11-25 00:46:13,286] - obspy.clients.fdsn.mass_downloader - INFO: 0 MiniSEED files [0.0 MB] already existed.\n",
      "[2021-11-25 00:46:13,286] - obspy.clients.fdsn.mass_downloader - INFO: 1 StationXML files [0.0 MB] already existed.\n",
      "[2021-11-25 00:46:13,286] - obspy.clients.fdsn.mass_downloader - INFO: Client 'GEONET' - Acquired 1 MiniSEED files [0.0 MB].\n",
      "[2021-11-25 00:46:13,287] - obspy.clients.fdsn.mass_downloader - INFO: Client 'GEONET' - Acquired 0 StationXML files [0.0 MB].\n",
      "[2021-11-25 00:46:13,287] - obspy.clients.fdsn.mass_downloader - INFO: Downloaded 0.0 MB in total.\n",
      "[2021-11-25 00:46:13,289] - obspy.clients.fdsn.mass_downloader - INFO: Initializing FDSN client(s) for GEONET.\n",
      "[2021-11-25 00:46:13,295] - obspy.clients.fdsn.mass_downloader - INFO: Successfully initialized 1 client(s): GEONET.\n",
      "[2021-11-25 00:46:13,298] - obspy.clients.fdsn.mass_downloader - INFO: Total acquired or preexisting stations: 0\n",
      "[2021-11-25 00:46:13,299] - obspy.clients.fdsn.mass_downloader - INFO: Client 'GEONET' - Requesting unreliable availability.\n"
     ]
    },
    {
     "name": "stdout",
     "output_type": "stream",
     "text": [
      "=================================================================\n",
      "Initiating mass download request.\n"
     ]
    },
    {
     "name": "stderr",
     "output_type": "stream",
     "text": [
      "[2021-11-25 00:46:14,012] - obspy.clients.fdsn.mass_downloader - INFO: Client 'GEONET' - Successfully requested availability (0.71 seconds)\n",
      "[2021-11-25 00:46:14,055] - obspy.clients.fdsn.mass_downloader - INFO: Client 'GEONET' - Found 1 stations (1 channels).\n",
      "[2021-11-25 00:46:14,059] - obspy.clients.fdsn.mass_downloader - INFO: Client 'GEONET' - Will attempt to download data from 1 stations.\n",
      "[2021-11-25 00:46:14,076] - obspy.clients.fdsn.mass_downloader - INFO: Client 'GEONET' - Status for 1 time intervals/channels before downloading: NEEDS_DOWNLOADING\n",
      "[2021-11-25 00:46:15,593] - obspy.clients.fdsn.mass_downloader - INFO: Client 'GEONET' - Successfully downloaded 1 channels (of 1)\n",
      "[2021-11-25 00:46:15,601] - obspy.clients.fdsn.mass_downloader - INFO: Client 'GEONET' - Launching basic QC checks...\n",
      "[2021-11-25 00:46:15,605] - obspy.clients.fdsn.mass_downloader - INFO: Client 'GEONET' - Downloaded 0.0 MB [1.98 KB/sec] of data, 0.0 MB of which were discarded afterwards.\n",
      "[2021-11-25 00:46:15,606] - obspy.clients.fdsn.mass_downloader - INFO: Client 'GEONET' - Status for 1 time intervals/channels after downloading: DOWNLOADED\n",
      "[2021-11-25 00:46:15,612] - obspy.clients.fdsn.mass_downloader - INFO: Client 'GEONET' - No station information to download.\n",
      "[2021-11-25 00:46:15,613] - obspy.clients.fdsn.mass_downloader - INFO: ============================== Final report\n",
      "[2021-11-25 00:46:15,613] - obspy.clients.fdsn.mass_downloader - INFO: 0 MiniSEED files [0.0 MB] already existed.\n",
      "[2021-11-25 00:46:15,613] - obspy.clients.fdsn.mass_downloader - INFO: 1 StationXML files [0.0 MB] already existed.\n",
      "[2021-11-25 00:46:15,614] - obspy.clients.fdsn.mass_downloader - INFO: Client 'GEONET' - Acquired 1 MiniSEED files [0.0 MB].\n",
      "[2021-11-25 00:46:15,614] - obspy.clients.fdsn.mass_downloader - INFO: Client 'GEONET' - Acquired 0 StationXML files [0.0 MB].\n",
      "[2021-11-25 00:46:15,614] - obspy.clients.fdsn.mass_downloader - INFO: Downloaded 0.0 MB in total.\n",
      "[2021-11-25 00:46:15,617] - obspy.clients.fdsn.mass_downloader - INFO: Initializing FDSN client(s) for GEONET.\n",
      "[2021-11-25 00:46:15,620] - obspy.clients.fdsn.mass_downloader - INFO: Successfully initialized 1 client(s): GEONET.\n",
      "[2021-11-25 00:46:15,621] - obspy.clients.fdsn.mass_downloader - INFO: Total acquired or preexisting stations: 0\n",
      "[2021-11-25 00:46:15,621] - obspy.clients.fdsn.mass_downloader - INFO: Client 'GEONET' - Requesting unreliable availability.\n"
     ]
    },
    {
     "name": "stdout",
     "output_type": "stream",
     "text": [
      "=================================================================\n",
      "Initiating mass download request.\n"
     ]
    },
    {
     "name": "stderr",
     "output_type": "stream",
     "text": [
      "[2021-11-25 00:46:16,345] - obspy.clients.fdsn.mass_downloader - INFO: Client 'GEONET' - Successfully requested availability (0.72 seconds)\n",
      "[2021-11-25 00:46:16,345] - obspy.clients.fdsn.mass_downloader - INFO: Client 'GEONET' - Found 1 stations (1 channels).\n",
      "[2021-11-25 00:46:16,346] - obspy.clients.fdsn.mass_downloader - INFO: Client 'GEONET' - Will attempt to download data from 1 stations.\n",
      "[2021-11-25 00:46:16,346] - obspy.clients.fdsn.mass_downloader - INFO: Client 'GEONET' - Status for 1 time intervals/channels before downloading: NEEDS_DOWNLOADING\n",
      "[2021-11-25 00:46:17,278] - obspy.clients.fdsn.mass_downloader - INFO: Client 'GEONET' - Successfully downloaded 1 channels (of 1)\n",
      "[2021-11-25 00:46:17,281] - obspy.clients.fdsn.mass_downloader - INFO: Client 'GEONET' - Launching basic QC checks...\n",
      "[2021-11-25 00:46:17,286] - obspy.clients.fdsn.mass_downloader - INFO: Client 'GEONET' - Downloaded 0.0 MB [3.22 KB/sec] of data, 0.0 MB of which were discarded afterwards.\n",
      "[2021-11-25 00:46:17,286] - obspy.clients.fdsn.mass_downloader - INFO: Client 'GEONET' - Status for 1 time intervals/channels after downloading: DOWNLOADED\n",
      "[2021-11-25 00:46:17,289] - obspy.clients.fdsn.mass_downloader - INFO: Client 'GEONET' - No station information to download.\n",
      "[2021-11-25 00:46:17,290] - obspy.clients.fdsn.mass_downloader - INFO: ============================== Final report\n",
      "[2021-11-25 00:46:17,290] - obspy.clients.fdsn.mass_downloader - INFO: 0 MiniSEED files [0.0 MB] already existed.\n",
      "[2021-11-25 00:46:17,291] - obspy.clients.fdsn.mass_downloader - INFO: 1 StationXML files [0.0 MB] already existed.\n",
      "[2021-11-25 00:46:17,292] - obspy.clients.fdsn.mass_downloader - INFO: Client 'GEONET' - Acquired 1 MiniSEED files [0.0 MB].\n",
      "[2021-11-25 00:46:17,292] - obspy.clients.fdsn.mass_downloader - INFO: Client 'GEONET' - Acquired 0 StationXML files [0.0 MB].\n",
      "[2021-11-25 00:46:17,292] - obspy.clients.fdsn.mass_downloader - INFO: Downloaded 0.0 MB in total.\n",
      "[2021-11-25 00:46:17,296] - obspy.clients.fdsn.mass_downloader - INFO: Initializing FDSN client(s) for GEONET.\n",
      "[2021-11-25 00:46:17,305] - obspy.clients.fdsn.mass_downloader - INFO: Successfully initialized 1 client(s): GEONET.\n",
      "[2021-11-25 00:46:17,307] - obspy.clients.fdsn.mass_downloader - INFO: Total acquired or preexisting stations: 0\n",
      "[2021-11-25 00:46:17,308] - obspy.clients.fdsn.mass_downloader - INFO: Client 'GEONET' - Requesting unreliable availability.\n"
     ]
    },
    {
     "name": "stdout",
     "output_type": "stream",
     "text": [
      "=================================================================\n",
      "Initiating mass download request.\n"
     ]
    },
    {
     "name": "stderr",
     "output_type": "stream",
     "text": [
      "[2021-11-25 00:46:17,975] - obspy.clients.fdsn.mass_downloader - INFO: Client 'GEONET' - Successfully requested availability (0.67 seconds)\n",
      "[2021-11-25 00:46:17,976] - obspy.clients.fdsn.mass_downloader - INFO: Client 'GEONET' - Found 1 stations (1 channels).\n",
      "[2021-11-25 00:46:17,976] - obspy.clients.fdsn.mass_downloader - INFO: Client 'GEONET' - Will attempt to download data from 1 stations.\n",
      "[2021-11-25 00:46:17,977] - obspy.clients.fdsn.mass_downloader - INFO: Client 'GEONET' - Status for 1 time intervals/channels before downloading: NEEDS_DOWNLOADING\n",
      "[2021-11-25 00:46:19,137] - obspy.clients.fdsn.mass_downloader - INFO: Client 'GEONET' - Successfully downloaded 1 channels (of 1)\n",
      "[2021-11-25 00:46:19,144] - obspy.clients.fdsn.mass_downloader - INFO: Client 'GEONET' - Launching basic QC checks...\n",
      "[2021-11-25 00:46:19,155] - obspy.clients.fdsn.mass_downloader - INFO: Client 'GEONET' - Downloaded 0.0 MB [3.00 KB/sec] of data, 0.0 MB of which were discarded afterwards.\n",
      "[2021-11-25 00:46:19,155] - obspy.clients.fdsn.mass_downloader - INFO: Client 'GEONET' - Status for 1 time intervals/channels after downloading: DOWNLOADED\n",
      "[2021-11-25 00:46:19,162] - obspy.clients.fdsn.mass_downloader - INFO: Client 'GEONET' - No station information to download.\n",
      "[2021-11-25 00:46:19,163] - obspy.clients.fdsn.mass_downloader - INFO: ============================== Final report\n",
      "[2021-11-25 00:46:19,163] - obspy.clients.fdsn.mass_downloader - INFO: 0 MiniSEED files [0.0 MB] already existed.\n",
      "[2021-11-25 00:46:19,163] - obspy.clients.fdsn.mass_downloader - INFO: 1 StationXML files [0.0 MB] already existed.\n",
      "[2021-11-25 00:46:19,164] - obspy.clients.fdsn.mass_downloader - INFO: Client 'GEONET' - Acquired 1 MiniSEED files [0.0 MB].\n",
      "[2021-11-25 00:46:19,164] - obspy.clients.fdsn.mass_downloader - INFO: Client 'GEONET' - Acquired 0 StationXML files [0.0 MB].\n",
      "[2021-11-25 00:46:19,164] - obspy.clients.fdsn.mass_downloader - INFO: Downloaded 0.0 MB in total.\n",
      "[2021-11-25 00:46:19,167] - obspy.clients.fdsn.mass_downloader - INFO: Initializing FDSN client(s) for GEONET.\n",
      "[2021-11-25 00:46:19,171] - obspy.clients.fdsn.mass_downloader - INFO: Successfully initialized 1 client(s): GEONET.\n",
      "[2021-11-25 00:46:19,172] - obspy.clients.fdsn.mass_downloader - INFO: Total acquired or preexisting stations: 0\n",
      "[2021-11-25 00:46:19,172] - obspy.clients.fdsn.mass_downloader - INFO: Client 'GEONET' - Requesting unreliable availability.\n"
     ]
    },
    {
     "name": "stdout",
     "output_type": "stream",
     "text": [
      "=================================================================\n",
      "Initiating mass download request.\n"
     ]
    },
    {
     "name": "stderr",
     "output_type": "stream",
     "text": [
      "[2021-11-25 00:46:19,734] - obspy.clients.fdsn.mass_downloader - INFO: Client 'GEONET' - Successfully requested availability (0.56 seconds)\n",
      "[2021-11-25 00:46:19,735] - obspy.clients.fdsn.mass_downloader - INFO: Client 'GEONET' - Found 1 stations (1 channels).\n",
      "[2021-11-25 00:46:19,736] - obspy.clients.fdsn.mass_downloader - INFO: Client 'GEONET' - Will attempt to download data from 1 stations.\n",
      "[2021-11-25 00:46:19,736] - obspy.clients.fdsn.mass_downloader - INFO: Client 'GEONET' - Status for 1 time intervals/channels before downloading: NEEDS_DOWNLOADING\n",
      "[2021-11-25 00:46:20,719] - obspy.clients.fdsn.mass_downloader - INFO: Client 'GEONET' - Successfully downloaded 1 channels (of 1)\n",
      "[2021-11-25 00:46:20,726] - obspy.clients.fdsn.mass_downloader - INFO: Client 'GEONET' - Launching basic QC checks...\n",
      "[2021-11-25 00:46:20,730] - obspy.clients.fdsn.mass_downloader - INFO: Client 'GEONET' - Downloaded 0.0 MB [3.54 KB/sec] of data, 0.0 MB of which were discarded afterwards.\n",
      "[2021-11-25 00:46:20,730] - obspy.clients.fdsn.mass_downloader - INFO: Client 'GEONET' - Status for 1 time intervals/channels after downloading: DOWNLOADED\n",
      "[2021-11-25 00:46:20,738] - obspy.clients.fdsn.mass_downloader - INFO: Client 'GEONET' - No station information to download.\n",
      "[2021-11-25 00:46:20,739] - obspy.clients.fdsn.mass_downloader - INFO: ============================== Final report\n",
      "[2021-11-25 00:46:20,739] - obspy.clients.fdsn.mass_downloader - INFO: 0 MiniSEED files [0.0 MB] already existed.\n",
      "[2021-11-25 00:46:20,740] - obspy.clients.fdsn.mass_downloader - INFO: 1 StationXML files [0.0 MB] already existed.\n",
      "[2021-11-25 00:46:20,740] - obspy.clients.fdsn.mass_downloader - INFO: Client 'GEONET' - Acquired 1 MiniSEED files [0.0 MB].\n",
      "[2021-11-25 00:46:20,740] - obspy.clients.fdsn.mass_downloader - INFO: Client 'GEONET' - Acquired 0 StationXML files [0.0 MB].\n",
      "[2021-11-25 00:46:20,740] - obspy.clients.fdsn.mass_downloader - INFO: Downloaded 0.0 MB in total.\n",
      "[2021-11-25 00:46:20,742] - obspy.clients.fdsn.mass_downloader - INFO: Initializing FDSN client(s) for GEONET.\n",
      "[2021-11-25 00:46:20,746] - obspy.clients.fdsn.mass_downloader - INFO: Successfully initialized 1 client(s): GEONET.\n",
      "[2021-11-25 00:46:20,746] - obspy.clients.fdsn.mass_downloader - INFO: Total acquired or preexisting stations: 0\n",
      "[2021-11-25 00:46:20,747] - obspy.clients.fdsn.mass_downloader - INFO: Client 'GEONET' - Requesting unreliable availability.\n"
     ]
    },
    {
     "name": "stdout",
     "output_type": "stream",
     "text": [
      "=================================================================\n",
      "Initiating mass download request.\n"
     ]
    },
    {
     "name": "stderr",
     "output_type": "stream",
     "text": [
      "[2021-11-25 00:46:21,260] - obspy.clients.fdsn.mass_downloader - INFO: Client 'GEONET' - Successfully requested availability (0.51 seconds)\n",
      "[2021-11-25 00:46:21,261] - obspy.clients.fdsn.mass_downloader - INFO: Client 'GEONET' - Found 1 stations (1 channels).\n",
      "[2021-11-25 00:46:21,262] - obspy.clients.fdsn.mass_downloader - INFO: Client 'GEONET' - Will attempt to download data from 1 stations.\n",
      "[2021-11-25 00:46:21,262] - obspy.clients.fdsn.mass_downloader - INFO: Client 'GEONET' - Status for 1 time intervals/channels before downloading: NEEDS_DOWNLOADING\n",
      "[2021-11-25 00:46:22,143] - obspy.clients.fdsn.mass_downloader - INFO: Client 'GEONET' - Successfully downloaded 1 channels (of 1)\n",
      "[2021-11-25 00:46:22,151] - obspy.clients.fdsn.mass_downloader - INFO: Client 'GEONET' - Launching basic QC checks...\n",
      "[2021-11-25 00:46:22,156] - obspy.clients.fdsn.mass_downloader - INFO: Client 'GEONET' - Downloaded 0.0 MB [2.83 KB/sec] of data, 0.0 MB of which were discarded afterwards.\n",
      "[2021-11-25 00:46:22,163] - obspy.clients.fdsn.mass_downloader - INFO: Client 'GEONET' - Status for 1 time intervals/channels after downloading: DOWNLOADED\n",
      "[2021-11-25 00:46:22,166] - obspy.clients.fdsn.mass_downloader - INFO: Client 'GEONET' - No station information to download.\n",
      "[2021-11-25 00:46:22,166] - obspy.clients.fdsn.mass_downloader - INFO: ============================== Final report\n",
      "[2021-11-25 00:46:22,167] - obspy.clients.fdsn.mass_downloader - INFO: 0 MiniSEED files [0.0 MB] already existed.\n",
      "[2021-11-25 00:46:22,167] - obspy.clients.fdsn.mass_downloader - INFO: 1 StationXML files [0.0 MB] already existed.\n",
      "[2021-11-25 00:46:22,167] - obspy.clients.fdsn.mass_downloader - INFO: Client 'GEONET' - Acquired 1 MiniSEED files [0.0 MB].\n",
      "[2021-11-25 00:46:22,167] - obspy.clients.fdsn.mass_downloader - INFO: Client 'GEONET' - Acquired 0 StationXML files [0.0 MB].\n",
      "[2021-11-25 00:46:22,168] - obspy.clients.fdsn.mass_downloader - INFO: Downloaded 0.0 MB in total.\n",
      "[2021-11-25 00:46:22,170] - obspy.clients.fdsn.mass_downloader - INFO: Initializing FDSN client(s) for GEONET.\n",
      "[2021-11-25 00:46:22,172] - obspy.clients.fdsn.mass_downloader - INFO: Successfully initialized 1 client(s): GEONET.\n",
      "[2021-11-25 00:46:22,173] - obspy.clients.fdsn.mass_downloader - INFO: Total acquired or preexisting stations: 0\n",
      "[2021-11-25 00:46:22,173] - obspy.clients.fdsn.mass_downloader - INFO: Client 'GEONET' - Requesting unreliable availability.\n"
     ]
    },
    {
     "name": "stdout",
     "output_type": "stream",
     "text": [
      "=================================================================\n",
      "Initiating mass download request.\n"
     ]
    },
    {
     "name": "stderr",
     "output_type": "stream",
     "text": [
      "[2021-11-25 00:46:22,738] - obspy.clients.fdsn.mass_downloader - INFO: Client 'GEONET' - Successfully requested availability (0.56 seconds)\n",
      "[2021-11-25 00:46:22,740] - obspy.clients.fdsn.mass_downloader - INFO: Client 'GEONET' - Found 1 stations (1 channels).\n",
      "[2021-11-25 00:46:22,742] - obspy.clients.fdsn.mass_downloader - INFO: Client 'GEONET' - Will attempt to download data from 1 stations.\n",
      "[2021-11-25 00:46:22,748] - obspy.clients.fdsn.mass_downloader - INFO: Client 'GEONET' - Status for 1 time intervals/channels before downloading: NEEDS_DOWNLOADING\n",
      "[2021-11-25 00:46:23,879] - obspy.clients.fdsn.mass_downloader - INFO: Client 'GEONET' - Successfully downloaded 1 channels (of 1)\n",
      "[2021-11-25 00:46:23,885] - obspy.clients.fdsn.mass_downloader - INFO: Client 'GEONET' - Launching basic QC checks...\n",
      "[2021-11-25 00:46:23,896] - obspy.clients.fdsn.mass_downloader - INFO: Client 'GEONET' - Downloaded 0.0 MB [3.53 KB/sec] of data, 0.0 MB of which were discarded afterwards.\n",
      "[2021-11-25 00:46:23,896] - obspy.clients.fdsn.mass_downloader - INFO: Client 'GEONET' - Status for 1 time intervals/channels after downloading: DOWNLOADED\n",
      "[2021-11-25 00:46:23,899] - obspy.clients.fdsn.mass_downloader - INFO: Client 'GEONET' - No station information to download.\n",
      "[2021-11-25 00:46:23,900] - obspy.clients.fdsn.mass_downloader - INFO: ============================== Final report\n",
      "[2021-11-25 00:46:23,900] - obspy.clients.fdsn.mass_downloader - INFO: 0 MiniSEED files [0.0 MB] already existed.\n",
      "[2021-11-25 00:46:23,900] - obspy.clients.fdsn.mass_downloader - INFO: 1 StationXML files [0.0 MB] already existed.\n",
      "[2021-11-25 00:46:23,901] - obspy.clients.fdsn.mass_downloader - INFO: Client 'GEONET' - Acquired 1 MiniSEED files [0.0 MB].\n",
      "[2021-11-25 00:46:23,901] - obspy.clients.fdsn.mass_downloader - INFO: Client 'GEONET' - Acquired 0 StationXML files [0.0 MB].\n",
      "[2021-11-25 00:46:23,901] - obspy.clients.fdsn.mass_downloader - INFO: Downloaded 0.0 MB in total.\n",
      "[2021-11-25 00:46:23,907] - obspy.clients.fdsn.mass_downloader - INFO: Initializing FDSN client(s) for GEONET.\n",
      "[2021-11-25 00:46:23,911] - obspy.clients.fdsn.mass_downloader - INFO: Successfully initialized 1 client(s): GEONET.\n",
      "[2021-11-25 00:46:23,912] - obspy.clients.fdsn.mass_downloader - INFO: Total acquired or preexisting stations: 0\n",
      "[2021-11-25 00:46:23,912] - obspy.clients.fdsn.mass_downloader - INFO: Client 'GEONET' - Requesting unreliable availability.\n"
     ]
    },
    {
     "name": "stdout",
     "output_type": "stream",
     "text": [
      "=================================================================\n",
      "Initiating mass download request.\n"
     ]
    },
    {
     "name": "stderr",
     "output_type": "stream",
     "text": [
      "[2021-11-25 00:46:24,477] - obspy.clients.fdsn.mass_downloader - INFO: Client 'GEONET' - Successfully requested availability (0.56 seconds)\n",
      "[2021-11-25 00:46:24,478] - obspy.clients.fdsn.mass_downloader - INFO: Client 'GEONET' - Found 1 stations (1 channels).\n",
      "[2021-11-25 00:46:24,478] - obspy.clients.fdsn.mass_downloader - INFO: Client 'GEONET' - Will attempt to download data from 1 stations.\n",
      "[2021-11-25 00:46:24,479] - obspy.clients.fdsn.mass_downloader - INFO: Client 'GEONET' - Status for 1 time intervals/channels before downloading: NEEDS_DOWNLOADING\n",
      "[2021-11-25 00:46:26,464] - obspy.clients.fdsn.mass_downloader - INFO: Client 'GEONET' - Successfully downloaded 1 channels (of 1)\n",
      "[2021-11-25 00:46:26,471] - obspy.clients.fdsn.mass_downloader - INFO: Client 'GEONET' - Launching basic QC checks...\n",
      "[2021-11-25 00:46:26,480] - obspy.clients.fdsn.mass_downloader - INFO: Client 'GEONET' - Downloaded 0.0 MB [1.51 KB/sec] of data, 0.0 MB of which were discarded afterwards.\n",
      "[2021-11-25 00:46:26,481] - obspy.clients.fdsn.mass_downloader - INFO: Client 'GEONET' - Status for 1 time intervals/channels after downloading: DOWNLOADED\n",
      "[2021-11-25 00:46:26,484] - obspy.clients.fdsn.mass_downloader - INFO: Client 'GEONET' - No station information to download.\n",
      "[2021-11-25 00:46:26,484] - obspy.clients.fdsn.mass_downloader - INFO: ============================== Final report\n",
      "[2021-11-25 00:46:26,485] - obspy.clients.fdsn.mass_downloader - INFO: 0 MiniSEED files [0.0 MB] already existed.\n",
      "[2021-11-25 00:46:26,485] - obspy.clients.fdsn.mass_downloader - INFO: 1 StationXML files [0.0 MB] already existed.\n",
      "[2021-11-25 00:46:26,486] - obspy.clients.fdsn.mass_downloader - INFO: Client 'GEONET' - Acquired 1 MiniSEED files [0.0 MB].\n",
      "[2021-11-25 00:46:26,486] - obspy.clients.fdsn.mass_downloader - INFO: Client 'GEONET' - Acquired 0 StationXML files [0.0 MB].\n",
      "[2021-11-25 00:46:26,486] - obspy.clients.fdsn.mass_downloader - INFO: Downloaded 0.0 MB in total.\n",
      "[2021-11-25 00:46:26,488] - obspy.clients.fdsn.mass_downloader - INFO: Initializing FDSN client(s) for GEONET.\n",
      "[2021-11-25 00:46:26,492] - obspy.clients.fdsn.mass_downloader - INFO: Successfully initialized 1 client(s): GEONET.\n",
      "[2021-11-25 00:46:26,493] - obspy.clients.fdsn.mass_downloader - INFO: Total acquired or preexisting stations: 0\n",
      "[2021-11-25 00:46:26,493] - obspy.clients.fdsn.mass_downloader - INFO: Client 'GEONET' - Requesting unreliable availability.\n"
     ]
    },
    {
     "name": "stdout",
     "output_type": "stream",
     "text": [
      "=================================================================\n",
      "Initiating mass download request.\n"
     ]
    },
    {
     "name": "stderr",
     "output_type": "stream",
     "text": [
      "[2021-11-25 00:46:27,038] - obspy.clients.fdsn.mass_downloader - INFO: Client 'GEONET' - Successfully requested availability (0.55 seconds)\n",
      "[2021-11-25 00:46:27,039] - obspy.clients.fdsn.mass_downloader - INFO: Client 'GEONET' - Found 1 stations (1 channels).\n",
      "[2021-11-25 00:46:27,039] - obspy.clients.fdsn.mass_downloader - INFO: Client 'GEONET' - Will attempt to download data from 1 stations.\n",
      "[2021-11-25 00:46:27,040] - obspy.clients.fdsn.mass_downloader - INFO: Client 'GEONET' - Status for 1 time intervals/channels before downloading: NEEDS_DOWNLOADING\n",
      "[2021-11-25 00:46:27,914] - obspy.clients.fdsn.mass_downloader - INFO: Client 'GEONET' - Successfully downloaded 1 channels (of 1)\n",
      "[2021-11-25 00:46:27,927] - obspy.clients.fdsn.mass_downloader - INFO: Client 'GEONET' - Launching basic QC checks...\n",
      "[2021-11-25 00:46:27,948] - obspy.clients.fdsn.mass_downloader - INFO: Client 'GEONET' - Downloaded 0.0 MB [3.39 KB/sec] of data, 0.0 MB of which were discarded afterwards.\n",
      "[2021-11-25 00:46:27,949] - obspy.clients.fdsn.mass_downloader - INFO: Client 'GEONET' - Status for 1 time intervals/channels after downloading: DOWNLOADED\n",
      "[2021-11-25 00:46:27,953] - obspy.clients.fdsn.mass_downloader - INFO: Client 'GEONET' - No station information to download.\n",
      "[2021-11-25 00:46:27,955] - obspy.clients.fdsn.mass_downloader - INFO: ============================== Final report\n",
      "[2021-11-25 00:46:27,957] - obspy.clients.fdsn.mass_downloader - INFO: 0 MiniSEED files [0.0 MB] already existed.\n",
      "[2021-11-25 00:46:27,959] - obspy.clients.fdsn.mass_downloader - INFO: 1 StationXML files [0.0 MB] already existed.\n",
      "[2021-11-25 00:46:27,960] - obspy.clients.fdsn.mass_downloader - INFO: Client 'GEONET' - Acquired 1 MiniSEED files [0.0 MB].\n",
      "[2021-11-25 00:46:27,963] - obspy.clients.fdsn.mass_downloader - INFO: Client 'GEONET' - Acquired 0 StationXML files [0.0 MB].\n",
      "[2021-11-25 00:46:27,964] - obspy.clients.fdsn.mass_downloader - INFO: Downloaded 0.0 MB in total.\n",
      "[2021-11-25 00:46:27,971] - obspy.clients.fdsn.mass_downloader - INFO: Initializing FDSN client(s) for GEONET.\n",
      "[2021-11-25 00:46:27,981] - obspy.clients.fdsn.mass_downloader - INFO: Successfully initialized 1 client(s): GEONET.\n",
      "[2021-11-25 00:46:27,983] - obspy.clients.fdsn.mass_downloader - INFO: Total acquired or preexisting stations: 0\n",
      "[2021-11-25 00:46:27,984] - obspy.clients.fdsn.mass_downloader - INFO: Client 'GEONET' - Requesting unreliable availability.\n"
     ]
    },
    {
     "name": "stdout",
     "output_type": "stream",
     "text": [
      "=================================================================\n",
      "Initiating mass download request.\n"
     ]
    },
    {
     "name": "stderr",
     "output_type": "stream",
     "text": [
      "[2021-11-25 00:46:28,633] - obspy.clients.fdsn.mass_downloader - INFO: Client 'GEONET' - Successfully requested availability (0.65 seconds)\n",
      "[2021-11-25 00:46:28,639] - obspy.clients.fdsn.mass_downloader - INFO: Client 'GEONET' - Found 1 stations (1 channels).\n",
      "[2021-11-25 00:46:28,644] - obspy.clients.fdsn.mass_downloader - INFO: Client 'GEONET' - Will attempt to download data from 1 stations.\n",
      "[2021-11-25 00:46:28,649] - obspy.clients.fdsn.mass_downloader - INFO: Client 'GEONET' - Status for 1 time intervals/channels before downloading: NEEDS_DOWNLOADING\n",
      "[2021-11-25 00:46:29,684] - obspy.clients.fdsn.mass_downloader - INFO: Client 'GEONET' - Successfully downloaded 1 channels (of 1)\n",
      "[2021-11-25 00:46:29,696] - obspy.clients.fdsn.mass_downloader - INFO: Client 'GEONET' - Launching basic QC checks...\n",
      "[2021-11-25 00:46:29,714] - obspy.clients.fdsn.mass_downloader - INFO: Client 'GEONET' - Downloaded 0.0 MB [2.89 KB/sec] of data, 0.0 MB of which were discarded afterwards.\n",
      "[2021-11-25 00:46:29,715] - obspy.clients.fdsn.mass_downloader - INFO: Client 'GEONET' - Status for 1 time intervals/channels after downloading: DOWNLOADED\n",
      "[2021-11-25 00:46:29,720] - obspy.clients.fdsn.mass_downloader - INFO: Client 'GEONET' - No station information to download.\n",
      "[2021-11-25 00:46:29,725] - obspy.clients.fdsn.mass_downloader - INFO: ============================== Final report\n",
      "[2021-11-25 00:46:29,726] - obspy.clients.fdsn.mass_downloader - INFO: 0 MiniSEED files [0.0 MB] already existed.\n",
      "[2021-11-25 00:46:29,727] - obspy.clients.fdsn.mass_downloader - INFO: 1 StationXML files [0.0 MB] already existed.\n",
      "[2021-11-25 00:46:29,727] - obspy.clients.fdsn.mass_downloader - INFO: Client 'GEONET' - Acquired 1 MiniSEED files [0.0 MB].\n",
      "[2021-11-25 00:46:29,732] - obspy.clients.fdsn.mass_downloader - INFO: Client 'GEONET' - Acquired 0 StationXML files [0.0 MB].\n",
      "[2021-11-25 00:46:29,733] - obspy.clients.fdsn.mass_downloader - INFO: Downloaded 0.0 MB in total.\n",
      "[2021-11-25 00:46:29,742] - obspy.clients.fdsn.mass_downloader - INFO: Initializing FDSN client(s) for GEONET.\n",
      "[2021-11-25 00:46:29,753] - obspy.clients.fdsn.mass_downloader - INFO: Successfully initialized 1 client(s): GEONET.\n",
      "[2021-11-25 00:46:29,755] - obspy.clients.fdsn.mass_downloader - INFO: Total acquired or preexisting stations: 0\n",
      "[2021-11-25 00:46:29,756] - obspy.clients.fdsn.mass_downloader - INFO: Client 'GEONET' - Requesting unreliable availability.\n"
     ]
    },
    {
     "name": "stdout",
     "output_type": "stream",
     "text": [
      "=================================================================\n",
      "Initiating mass download request.\n"
     ]
    },
    {
     "name": "stderr",
     "output_type": "stream",
     "text": [
      "[2021-11-25 00:46:30,308] - obspy.clients.fdsn.mass_downloader - INFO: Client 'GEONET' - Successfully requested availability (0.55 seconds)\n",
      "[2021-11-25 00:46:30,319] - obspy.clients.fdsn.mass_downloader - INFO: Client 'GEONET' - Found 1 stations (1 channels).\n",
      "[2021-11-25 00:46:30,321] - obspy.clients.fdsn.mass_downloader - INFO: Client 'GEONET' - Will attempt to download data from 1 stations.\n",
      "[2021-11-25 00:46:30,325] - obspy.clients.fdsn.mass_downloader - INFO: Client 'GEONET' - Status for 1 time intervals/channels before downloading: NEEDS_DOWNLOADING\n",
      "[2021-11-25 00:46:31,231] - obspy.clients.fdsn.mass_downloader - INFO: Client 'GEONET' - Successfully downloaded 1 channels (of 1)\n",
      "[2021-11-25 00:46:31,236] - obspy.clients.fdsn.mass_downloader - INFO: Client 'GEONET' - Launching basic QC checks...\n",
      "[2021-11-25 00:46:31,241] - obspy.clients.fdsn.mass_downloader - INFO: Client 'GEONET' - Downloaded 0.0 MB [3.87 KB/sec] of data, 0.0 MB of which were discarded afterwards.\n",
      "[2021-11-25 00:46:31,242] - obspy.clients.fdsn.mass_downloader - INFO: Client 'GEONET' - Status for 1 time intervals/channels after downloading: DOWNLOADED\n",
      "[2021-11-25 00:46:31,244] - obspy.clients.fdsn.mass_downloader - INFO: Client 'GEONET' - No station information to download.\n",
      "[2021-11-25 00:46:31,245] - obspy.clients.fdsn.mass_downloader - INFO: ============================== Final report\n",
      "[2021-11-25 00:46:31,245] - obspy.clients.fdsn.mass_downloader - INFO: 0 MiniSEED files [0.0 MB] already existed.\n",
      "[2021-11-25 00:46:31,245] - obspy.clients.fdsn.mass_downloader - INFO: 1 StationXML files [0.0 MB] already existed.\n",
      "[2021-11-25 00:46:31,245] - obspy.clients.fdsn.mass_downloader - INFO: Client 'GEONET' - Acquired 1 MiniSEED files [0.0 MB].\n",
      "[2021-11-25 00:46:31,246] - obspy.clients.fdsn.mass_downloader - INFO: Client 'GEONET' - Acquired 0 StationXML files [0.0 MB].\n",
      "[2021-11-25 00:46:31,246] - obspy.clients.fdsn.mass_downloader - INFO: Downloaded 0.0 MB in total.\n",
      "[2021-11-25 00:46:31,249] - obspy.clients.fdsn.mass_downloader - INFO: Initializing FDSN client(s) for GEONET.\n",
      "[2021-11-25 00:46:31,255] - obspy.clients.fdsn.mass_downloader - INFO: Successfully initialized 1 client(s): GEONET.\n",
      "[2021-11-25 00:46:31,257] - obspy.clients.fdsn.mass_downloader - INFO: Total acquired or preexisting stations: 0\n",
      "[2021-11-25 00:46:31,257] - obspy.clients.fdsn.mass_downloader - INFO: Client 'GEONET' - Requesting unreliable availability.\n"
     ]
    },
    {
     "name": "stdout",
     "output_type": "stream",
     "text": [
      "=================================================================\n",
      "Initiating mass download request.\n"
     ]
    },
    {
     "name": "stderr",
     "output_type": "stream",
     "text": [
      "[2021-11-25 00:46:31,825] - obspy.clients.fdsn.mass_downloader - INFO: Client 'GEONET' - Successfully requested availability (0.57 seconds)\n",
      "[2021-11-25 00:46:31,825] - obspy.clients.fdsn.mass_downloader - INFO: Client 'GEONET' - Found 1 stations (1 channels).\n",
      "[2021-11-25 00:46:31,825] - obspy.clients.fdsn.mass_downloader - INFO: Client 'GEONET' - Will attempt to download data from 1 stations.\n",
      "[2021-11-25 00:46:31,826] - obspy.clients.fdsn.mass_downloader - INFO: Client 'GEONET' - Status for 1 time intervals/channels before downloading: NEEDS_DOWNLOADING\n",
      "[2021-11-25 00:46:32,898] - obspy.clients.fdsn.mass_downloader - INFO: Client 'GEONET' - Successfully downloaded 1 channels (of 1)\n",
      "[2021-11-25 00:46:32,901] - obspy.clients.fdsn.mass_downloader - INFO: Client 'GEONET' - Launching basic QC checks...\n",
      "[2021-11-25 00:46:32,915] - obspy.clients.fdsn.mass_downloader - INFO: Client 'GEONET' - Downloaded 0.0 MB [3.26 KB/sec] of data, 0.0 MB of which were discarded afterwards.\n",
      "[2021-11-25 00:46:32,915] - obspy.clients.fdsn.mass_downloader - INFO: Client 'GEONET' - Status for 1 time intervals/channels after downloading: DOWNLOADED\n",
      "[2021-11-25 00:46:32,918] - obspy.clients.fdsn.mass_downloader - INFO: Client 'GEONET' - No station information to download.\n",
      "[2021-11-25 00:46:32,919] - obspy.clients.fdsn.mass_downloader - INFO: ============================== Final report\n",
      "[2021-11-25 00:46:32,919] - obspy.clients.fdsn.mass_downloader - INFO: 0 MiniSEED files [0.0 MB] already existed.\n",
      "[2021-11-25 00:46:32,919] - obspy.clients.fdsn.mass_downloader - INFO: 1 StationXML files [0.0 MB] already existed.\n",
      "[2021-11-25 00:46:32,920] - obspy.clients.fdsn.mass_downloader - INFO: Client 'GEONET' - Acquired 1 MiniSEED files [0.0 MB].\n",
      "[2021-11-25 00:46:32,921] - obspy.clients.fdsn.mass_downloader - INFO: Client 'GEONET' - Acquired 0 StationXML files [0.0 MB].\n",
      "[2021-11-25 00:46:32,921] - obspy.clients.fdsn.mass_downloader - INFO: Downloaded 0.0 MB in total.\n",
      "[2021-11-25 00:46:32,927] - obspy.clients.fdsn.mass_downloader - INFO: Initializing FDSN client(s) for GEONET.\n",
      "[2021-11-25 00:46:32,931] - obspy.clients.fdsn.mass_downloader - INFO: Successfully initialized 1 client(s): GEONET.\n",
      "[2021-11-25 00:46:32,932] - obspy.clients.fdsn.mass_downloader - INFO: Total acquired or preexisting stations: 0\n",
      "[2021-11-25 00:46:32,932] - obspy.clients.fdsn.mass_downloader - INFO: Client 'GEONET' - Requesting unreliable availability.\n"
     ]
    },
    {
     "name": "stdout",
     "output_type": "stream",
     "text": [
      "=================================================================\n",
      "Initiating mass download request.\n"
     ]
    },
    {
     "name": "stderr",
     "output_type": "stream",
     "text": [
      "[2021-11-25 00:46:33,476] - obspy.clients.fdsn.mass_downloader - INFO: Client 'GEONET' - Successfully requested availability (0.54 seconds)\n",
      "[2021-11-25 00:46:33,477] - obspy.clients.fdsn.mass_downloader - INFO: Client 'GEONET' - Found 1 stations (1 channels).\n",
      "[2021-11-25 00:46:33,478] - obspy.clients.fdsn.mass_downloader - INFO: Client 'GEONET' - Will attempt to download data from 1 stations.\n",
      "[2021-11-25 00:46:33,478] - obspy.clients.fdsn.mass_downloader - INFO: Client 'GEONET' - Status for 1 time intervals/channels before downloading: NEEDS_DOWNLOADING\n",
      "[2021-11-25 00:46:34,497] - obspy.clients.fdsn.mass_downloader - INFO: Client 'GEONET' - Successfully downloaded 1 channels (of 1)\n",
      "[2021-11-25 00:46:34,510] - obspy.clients.fdsn.mass_downloader - INFO: Client 'GEONET' - Launching basic QC checks...\n",
      "[2021-11-25 00:46:34,522] - obspy.clients.fdsn.mass_downloader - INFO: Client 'GEONET' - Downloaded 0.0 MB [2.91 KB/sec] of data, 0.0 MB of which were discarded afterwards.\n",
      "[2021-11-25 00:46:34,522] - obspy.clients.fdsn.mass_downloader - INFO: Client 'GEONET' - Status for 1 time intervals/channels after downloading: DOWNLOADED\n",
      "[2021-11-25 00:46:34,528] - obspy.clients.fdsn.mass_downloader - INFO: Client 'GEONET' - No station information to download.\n",
      "[2021-11-25 00:46:34,529] - obspy.clients.fdsn.mass_downloader - INFO: ============================== Final report\n",
      "[2021-11-25 00:46:34,530] - obspy.clients.fdsn.mass_downloader - INFO: 0 MiniSEED files [0.0 MB] already existed.\n",
      "[2021-11-25 00:46:34,531] - obspy.clients.fdsn.mass_downloader - INFO: 1 StationXML files [0.0 MB] already existed.\n",
      "[2021-11-25 00:46:34,531] - obspy.clients.fdsn.mass_downloader - INFO: Client 'GEONET' - Acquired 1 MiniSEED files [0.0 MB].\n",
      "[2021-11-25 00:46:34,532] - obspy.clients.fdsn.mass_downloader - INFO: Client 'GEONET' - Acquired 0 StationXML files [0.0 MB].\n",
      "[2021-11-25 00:46:34,532] - obspy.clients.fdsn.mass_downloader - INFO: Downloaded 0.0 MB in total.\n",
      "[2021-11-25 00:46:34,535] - obspy.clients.fdsn.mass_downloader - INFO: Initializing FDSN client(s) for GEONET.\n",
      "[2021-11-25 00:46:34,544] - obspy.clients.fdsn.mass_downloader - INFO: Successfully initialized 1 client(s): GEONET.\n",
      "[2021-11-25 00:46:34,545] - obspy.clients.fdsn.mass_downloader - INFO: Total acquired or preexisting stations: 0\n",
      "[2021-11-25 00:46:34,545] - obspy.clients.fdsn.mass_downloader - INFO: Client 'GEONET' - Requesting unreliable availability.\n"
     ]
    },
    {
     "name": "stdout",
     "output_type": "stream",
     "text": [
      "=================================================================\n",
      "Initiating mass download request.\n"
     ]
    },
    {
     "name": "stderr",
     "output_type": "stream",
     "text": [
      "[2021-11-25 00:46:35,114] - obspy.clients.fdsn.mass_downloader - INFO: Client 'GEONET' - Successfully requested availability (0.57 seconds)\n",
      "[2021-11-25 00:46:35,115] - obspy.clients.fdsn.mass_downloader - INFO: Client 'GEONET' - Found 1 stations (1 channels).\n",
      "[2021-11-25 00:46:35,115] - obspy.clients.fdsn.mass_downloader - INFO: Client 'GEONET' - Will attempt to download data from 1 stations.\n",
      "[2021-11-25 00:46:35,116] - obspy.clients.fdsn.mass_downloader - INFO: Client 'GEONET' - Status for 1 time intervals/channels before downloading: NEEDS_DOWNLOADING\n",
      "[2021-11-25 00:46:36,242] - obspy.clients.fdsn.mass_downloader - INFO: Client 'GEONET' - Successfully downloaded 1 channels (of 1)\n",
      "[2021-11-25 00:46:36,246] - obspy.clients.fdsn.mass_downloader - INFO: Client 'GEONET' - Launching basic QC checks...\n",
      "[2021-11-25 00:46:36,251] - obspy.clients.fdsn.mass_downloader - INFO: Client 'GEONET' - Downloaded 0.0 MB [4.43 KB/sec] of data, 0.0 MB of which were discarded afterwards.\n",
      "[2021-11-25 00:46:36,252] - obspy.clients.fdsn.mass_downloader - INFO: Client 'GEONET' - Status for 1 time intervals/channels after downloading: DOWNLOADED\n",
      "[2021-11-25 00:46:36,255] - obspy.clients.fdsn.mass_downloader - INFO: Client 'GEONET' - No station information to download.\n",
      "[2021-11-25 00:46:36,256] - obspy.clients.fdsn.mass_downloader - INFO: ============================== Final report\n",
      "[2021-11-25 00:46:36,256] - obspy.clients.fdsn.mass_downloader - INFO: 0 MiniSEED files [0.0 MB] already existed.\n",
      "[2021-11-25 00:46:36,256] - obspy.clients.fdsn.mass_downloader - INFO: 1 StationXML files [0.0 MB] already existed.\n",
      "[2021-11-25 00:46:36,257] - obspy.clients.fdsn.mass_downloader - INFO: Client 'GEONET' - Acquired 1 MiniSEED files [0.0 MB].\n",
      "[2021-11-25 00:46:36,257] - obspy.clients.fdsn.mass_downloader - INFO: Client 'GEONET' - Acquired 0 StationXML files [0.0 MB].\n",
      "[2021-11-25 00:46:36,257] - obspy.clients.fdsn.mass_downloader - INFO: Downloaded 0.0 MB in total.\n",
      "[2021-11-25 00:46:36,261] - obspy.clients.fdsn.mass_downloader - INFO: Initializing FDSN client(s) for GEONET.\n",
      "[2021-11-25 00:46:36,265] - obspy.clients.fdsn.mass_downloader - INFO: Successfully initialized 1 client(s): GEONET.\n",
      "[2021-11-25 00:46:36,265] - obspy.clients.fdsn.mass_downloader - INFO: Total acquired or preexisting stations: 0\n",
      "[2021-11-25 00:46:36,266] - obspy.clients.fdsn.mass_downloader - INFO: Client 'GEONET' - Requesting unreliable availability.\n"
     ]
    },
    {
     "name": "stdout",
     "output_type": "stream",
     "text": [
      "=================================================================\n",
      "Initiating mass download request.\n"
     ]
    },
    {
     "name": "stderr",
     "output_type": "stream",
     "text": [
      "[2021-11-25 00:46:36,868] - obspy.clients.fdsn.mass_downloader - INFO: Client 'GEONET' - Successfully requested availability (0.60 seconds)\n",
      "[2021-11-25 00:46:36,899] - obspy.clients.fdsn.mass_downloader - INFO: Client 'GEONET' - Found 1 stations (1 channels).\n",
      "[2021-11-25 00:46:36,906] - obspy.clients.fdsn.mass_downloader - INFO: Client 'GEONET' - Will attempt to download data from 1 stations.\n",
      "[2021-11-25 00:46:36,914] - obspy.clients.fdsn.mass_downloader - INFO: Client 'GEONET' - Status for 1 time intervals/channels before downloading: NEEDS_DOWNLOADING\n",
      "[2021-11-25 00:46:37,915] - obspy.clients.fdsn.mass_downloader - INFO: Client 'GEONET' - Successfully downloaded 1 channels (of 1)\n",
      "[2021-11-25 00:46:37,922] - obspy.clients.fdsn.mass_downloader - INFO: Client 'GEONET' - Launching basic QC checks...\n",
      "[2021-11-25 00:46:37,931] - obspy.clients.fdsn.mass_downloader - INFO: Client 'GEONET' - Downloaded 0.0 MB [3.04 KB/sec] of data, 0.0 MB of which were discarded afterwards.\n",
      "[2021-11-25 00:46:37,933] - obspy.clients.fdsn.mass_downloader - INFO: Client 'GEONET' - Status for 1 time intervals/channels after downloading: DOWNLOADED\n",
      "[2021-11-25 00:46:37,940] - obspy.clients.fdsn.mass_downloader - INFO: Client 'GEONET' - No station information to download.\n",
      "[2021-11-25 00:46:37,943] - obspy.clients.fdsn.mass_downloader - INFO: ============================== Final report\n",
      "[2021-11-25 00:46:37,944] - obspy.clients.fdsn.mass_downloader - INFO: 0 MiniSEED files [0.0 MB] already existed.\n",
      "[2021-11-25 00:46:37,946] - obspy.clients.fdsn.mass_downloader - INFO: 1 StationXML files [0.0 MB] already existed.\n",
      "[2021-11-25 00:46:37,946] - obspy.clients.fdsn.mass_downloader - INFO: Client 'GEONET' - Acquired 1 MiniSEED files [0.0 MB].\n",
      "[2021-11-25 00:46:37,947] - obspy.clients.fdsn.mass_downloader - INFO: Client 'GEONET' - Acquired 0 StationXML files [0.0 MB].\n",
      "[2021-11-25 00:46:37,948] - obspy.clients.fdsn.mass_downloader - INFO: Downloaded 0.0 MB in total.\n",
      "[2021-11-25 00:46:37,957] - obspy.clients.fdsn.mass_downloader - INFO: Initializing FDSN client(s) for GEONET.\n",
      "[2021-11-25 00:46:37,964] - obspy.clients.fdsn.mass_downloader - INFO: Successfully initialized 1 client(s): GEONET.\n",
      "[2021-11-25 00:46:37,970] - obspy.clients.fdsn.mass_downloader - INFO: Total acquired or preexisting stations: 0\n",
      "[2021-11-25 00:46:37,971] - obspy.clients.fdsn.mass_downloader - INFO: Client 'GEONET' - Requesting unreliable availability.\n"
     ]
    },
    {
     "name": "stdout",
     "output_type": "stream",
     "text": [
      "=================================================================\n",
      "Initiating mass download request.\n"
     ]
    },
    {
     "name": "stderr",
     "output_type": "stream",
     "text": [
      "[2021-11-25 00:46:38,527] - obspy.clients.fdsn.mass_downloader - INFO: Client 'GEONET' - Successfully requested availability (0.55 seconds)\n",
      "[2021-11-25 00:46:38,553] - obspy.clients.fdsn.mass_downloader - INFO: Client 'GEONET' - Found 1 stations (1 channels).\n",
      "[2021-11-25 00:46:38,571] - obspy.clients.fdsn.mass_downloader - INFO: Client 'GEONET' - Will attempt to download data from 1 stations.\n",
      "[2021-11-25 00:46:38,586] - obspy.clients.fdsn.mass_downloader - INFO: Client 'GEONET' - Status for 1 time intervals/channels before downloading: NEEDS_DOWNLOADING\n",
      "[2021-11-25 00:46:39,861] - obspy.clients.fdsn.mass_downloader - INFO: Client 'GEONET' - Successfully downloaded 1 channels (of 1)\n",
      "[2021-11-25 00:46:39,878] - obspy.clients.fdsn.mass_downloader - INFO: Client 'GEONET' - Launching basic QC checks...\n",
      "[2021-11-25 00:46:39,901] - obspy.clients.fdsn.mass_downloader - INFO: Client 'GEONET' - Downloaded 0.0 MB [3.60 KB/sec] of data, 0.0 MB of which were discarded afterwards.\n",
      "[2021-11-25 00:46:39,902] - obspy.clients.fdsn.mass_downloader - INFO: Client 'GEONET' - Status for 1 time intervals/channels after downloading: DOWNLOADED\n",
      "[2021-11-25 00:46:39,908] - obspy.clients.fdsn.mass_downloader - INFO: Client 'GEONET' - No station information to download.\n",
      "[2021-11-25 00:46:39,909] - obspy.clients.fdsn.mass_downloader - INFO: ============================== Final report\n",
      "[2021-11-25 00:46:39,910] - obspy.clients.fdsn.mass_downloader - INFO: 0 MiniSEED files [0.0 MB] already existed.\n",
      "[2021-11-25 00:46:39,910] - obspy.clients.fdsn.mass_downloader - INFO: 1 StationXML files [0.0 MB] already existed.\n",
      "[2021-11-25 00:46:39,911] - obspy.clients.fdsn.mass_downloader - INFO: Client 'GEONET' - Acquired 1 MiniSEED files [0.0 MB].\n",
      "[2021-11-25 00:46:39,911] - obspy.clients.fdsn.mass_downloader - INFO: Client 'GEONET' - Acquired 0 StationXML files [0.0 MB].\n",
      "[2021-11-25 00:46:39,912] - obspy.clients.fdsn.mass_downloader - INFO: Downloaded 0.0 MB in total.\n",
      "[2021-11-25 00:46:39,916] - obspy.clients.fdsn.mass_downloader - INFO: Initializing FDSN client(s) for GEONET.\n",
      "[2021-11-25 00:46:39,922] - obspy.clients.fdsn.mass_downloader - INFO: Successfully initialized 1 client(s): GEONET.\n",
      "[2021-11-25 00:46:39,924] - obspy.clients.fdsn.mass_downloader - INFO: Total acquired or preexisting stations: 0\n",
      "[2021-11-25 00:46:39,925] - obspy.clients.fdsn.mass_downloader - INFO: Client 'GEONET' - Requesting unreliable availability.\n"
     ]
    },
    {
     "name": "stdout",
     "output_type": "stream",
     "text": [
      "=================================================================\n",
      "Initiating mass download request.\n"
     ]
    },
    {
     "name": "stderr",
     "output_type": "stream",
     "text": [
      "[2021-11-25 00:46:41,029] - obspy.clients.fdsn.mass_downloader - INFO: Client 'GEONET' - Successfully requested availability (1.10 seconds)\n",
      "[2021-11-25 00:46:41,032] - obspy.clients.fdsn.mass_downloader - INFO: Client 'GEONET' - Found 1 stations (1 channels).\n",
      "[2021-11-25 00:46:41,032] - obspy.clients.fdsn.mass_downloader - INFO: Client 'GEONET' - Will attempt to download data from 1 stations.\n",
      "[2021-11-25 00:46:41,033] - obspy.clients.fdsn.mass_downloader - INFO: Client 'GEONET' - Status for 1 time intervals/channels before downloading: NEEDS_DOWNLOADING\n",
      "[2021-11-25 00:46:42,169] - obspy.clients.fdsn.mass_downloader - INFO: Client 'GEONET' - Successfully downloaded 1 channels (of 1)\n",
      "[2021-11-25 00:46:42,170] - obspy.clients.fdsn.mass_downloader - INFO: Client 'GEONET' - Launching basic QC checks...\n",
      "[2021-11-25 00:46:42,173] - obspy.clients.fdsn.mass_downloader - INFO: Client 'GEONET' - Downloaded 0.0 MB [2.21 KB/sec] of data, 0.0 MB of which were discarded afterwards.\n",
      "[2021-11-25 00:46:42,173] - obspy.clients.fdsn.mass_downloader - INFO: Client 'GEONET' - Status for 1 time intervals/channels after downloading: DOWNLOADED\n",
      "[2021-11-25 00:46:42,175] - obspy.clients.fdsn.mass_downloader - INFO: Client 'GEONET' - No station information to download.\n",
      "[2021-11-25 00:46:42,176] - obspy.clients.fdsn.mass_downloader - INFO: ============================== Final report\n",
      "[2021-11-25 00:46:42,176] - obspy.clients.fdsn.mass_downloader - INFO: 0 MiniSEED files [0.0 MB] already existed.\n",
      "[2021-11-25 00:46:42,176] - obspy.clients.fdsn.mass_downloader - INFO: 1 StationXML files [0.0 MB] already existed.\n",
      "[2021-11-25 00:46:42,176] - obspy.clients.fdsn.mass_downloader - INFO: Client 'GEONET' - Acquired 1 MiniSEED files [0.0 MB].\n",
      "[2021-11-25 00:46:42,177] - obspy.clients.fdsn.mass_downloader - INFO: Client 'GEONET' - Acquired 0 StationXML files [0.0 MB].\n",
      "[2021-11-25 00:46:42,177] - obspy.clients.fdsn.mass_downloader - INFO: Downloaded 0.0 MB in total.\n",
      "[2021-11-25 00:46:42,183] - obspy.clients.fdsn.mass_downloader - INFO: Initializing FDSN client(s) for GEONET.\n",
      "[2021-11-25 00:46:42,187] - obspy.clients.fdsn.mass_downloader - INFO: Successfully initialized 1 client(s): GEONET.\n",
      "[2021-11-25 00:46:42,188] - obspy.clients.fdsn.mass_downloader - INFO: Total acquired or preexisting stations: 0\n",
      "[2021-11-25 00:46:42,188] - obspy.clients.fdsn.mass_downloader - INFO: Client 'GEONET' - Requesting unreliable availability.\n"
     ]
    },
    {
     "name": "stdout",
     "output_type": "stream",
     "text": [
      "=================================================================\n",
      "Initiating mass download request.\n"
     ]
    },
    {
     "name": "stderr",
     "output_type": "stream",
     "text": [
      "[2021-11-25 00:46:42,740] - obspy.clients.fdsn.mass_downloader - INFO: Client 'GEONET' - Successfully requested availability (0.55 seconds)\n",
      "[2021-11-25 00:46:42,740] - obspy.clients.fdsn.mass_downloader - INFO: Client 'GEONET' - Found 1 stations (1 channels).\n",
      "[2021-11-25 00:46:42,741] - obspy.clients.fdsn.mass_downloader - INFO: Client 'GEONET' - Will attempt to download data from 1 stations.\n",
      "[2021-11-25 00:46:42,742] - obspy.clients.fdsn.mass_downloader - INFO: Client 'GEONET' - Status for 1 time intervals/channels before downloading: NEEDS_DOWNLOADING\n",
      "[2021-11-25 00:46:43,700] - obspy.clients.fdsn.mass_downloader - INFO: Client 'GEONET' - Successfully downloaded 1 channels (of 1)\n",
      "[2021-11-25 00:46:43,703] - obspy.clients.fdsn.mass_downloader - INFO: Client 'GEONET' - Launching basic QC checks...\n",
      "[2021-11-25 00:46:43,710] - obspy.clients.fdsn.mass_downloader - INFO: Client 'GEONET' - Downloaded 0.0 MB [3.65 KB/sec] of data, 0.0 MB of which were discarded afterwards.\n",
      "[2021-11-25 00:46:43,711] - obspy.clients.fdsn.mass_downloader - INFO: Client 'GEONET' - Status for 1 time intervals/channels after downloading: DOWNLOADED\n",
      "[2021-11-25 00:46:43,714] - obspy.clients.fdsn.mass_downloader - INFO: Client 'GEONET' - No station information to download.\n",
      "[2021-11-25 00:46:43,714] - obspy.clients.fdsn.mass_downloader - INFO: ============================== Final report\n",
      "[2021-11-25 00:46:43,715] - obspy.clients.fdsn.mass_downloader - INFO: 0 MiniSEED files [0.0 MB] already existed.\n",
      "[2021-11-25 00:46:43,720] - obspy.clients.fdsn.mass_downloader - INFO: 1 StationXML files [0.0 MB] already existed.\n",
      "[2021-11-25 00:46:43,721] - obspy.clients.fdsn.mass_downloader - INFO: Client 'GEONET' - Acquired 1 MiniSEED files [0.0 MB].\n",
      "[2021-11-25 00:46:43,721] - obspy.clients.fdsn.mass_downloader - INFO: Client 'GEONET' - Acquired 0 StationXML files [0.0 MB].\n",
      "[2021-11-25 00:46:43,722] - obspy.clients.fdsn.mass_downloader - INFO: Downloaded 0.0 MB in total.\n",
      "[2021-11-25 00:46:43,725] - obspy.clients.fdsn.mass_downloader - INFO: Initializing FDSN client(s) for GEONET.\n",
      "[2021-11-25 00:46:43,728] - obspy.clients.fdsn.mass_downloader - INFO: Successfully initialized 1 client(s): GEONET.\n",
      "[2021-11-25 00:46:43,729] - obspy.clients.fdsn.mass_downloader - INFO: Total acquired or preexisting stations: 0\n",
      "[2021-11-25 00:46:43,729] - obspy.clients.fdsn.mass_downloader - INFO: Client 'GEONET' - Requesting unreliable availability.\n"
     ]
    },
    {
     "name": "stdout",
     "output_type": "stream",
     "text": [
      "=================================================================\n",
      "Initiating mass download request.\n"
     ]
    },
    {
     "name": "stderr",
     "output_type": "stream",
     "text": [
      "[2021-11-25 00:46:44,315] - obspy.clients.fdsn.mass_downloader - INFO: Client 'GEONET' - Successfully requested availability (0.59 seconds)\n",
      "[2021-11-25 00:46:44,315] - obspy.clients.fdsn.mass_downloader - INFO: Client 'GEONET' - Found 1 stations (1 channels).\n",
      "[2021-11-25 00:46:44,316] - obspy.clients.fdsn.mass_downloader - INFO: Client 'GEONET' - Will attempt to download data from 1 stations.\n",
      "[2021-11-25 00:46:44,316] - obspy.clients.fdsn.mass_downloader - INFO: Client 'GEONET' - Status for 1 time intervals/channels before downloading: NEEDS_DOWNLOADING\n",
      "[2021-11-25 00:46:46,107] - obspy.clients.fdsn.mass_downloader - INFO: Client 'GEONET' - Successfully downloaded 1 channels (of 1)\n",
      "[2021-11-25 00:46:46,110] - obspy.clients.fdsn.mass_downloader - INFO: Client 'GEONET' - Launching basic QC checks...\n",
      "[2021-11-25 00:46:46,118] - obspy.clients.fdsn.mass_downloader - INFO: Client 'GEONET' - Downloaded 0.0 MB [1.67 KB/sec] of data, 0.0 MB of which were discarded afterwards.\n",
      "[2021-11-25 00:46:46,118] - obspy.clients.fdsn.mass_downloader - INFO: Client 'GEONET' - Status for 1 time intervals/channels after downloading: DOWNLOADED\n",
      "[2021-11-25 00:46:46,121] - obspy.clients.fdsn.mass_downloader - INFO: Client 'GEONET' - No station information to download.\n",
      "[2021-11-25 00:46:46,124] - obspy.clients.fdsn.mass_downloader - INFO: ============================== Final report\n",
      "[2021-11-25 00:46:46,124] - obspy.clients.fdsn.mass_downloader - INFO: 0 MiniSEED files [0.0 MB] already existed.\n",
      "[2021-11-25 00:46:46,125] - obspy.clients.fdsn.mass_downloader - INFO: 1 StationXML files [0.0 MB] already existed.\n",
      "[2021-11-25 00:46:46,125] - obspy.clients.fdsn.mass_downloader - INFO: Client 'GEONET' - Acquired 1 MiniSEED files [0.0 MB].\n",
      "[2021-11-25 00:46:46,125] - obspy.clients.fdsn.mass_downloader - INFO: Client 'GEONET' - Acquired 0 StationXML files [0.0 MB].\n",
      "[2021-11-25 00:46:46,126] - obspy.clients.fdsn.mass_downloader - INFO: Downloaded 0.0 MB in total.\n",
      "[2021-11-25 00:46:46,128] - obspy.clients.fdsn.mass_downloader - INFO: Initializing FDSN client(s) for GEONET.\n",
      "[2021-11-25 00:46:46,131] - obspy.clients.fdsn.mass_downloader - INFO: Successfully initialized 1 client(s): GEONET.\n",
      "[2021-11-25 00:46:46,132] - obspy.clients.fdsn.mass_downloader - INFO: Total acquired or preexisting stations: 0\n",
      "[2021-11-25 00:46:46,132] - obspy.clients.fdsn.mass_downloader - INFO: Client 'GEONET' - Requesting unreliable availability.\n"
     ]
    },
    {
     "name": "stdout",
     "output_type": "stream",
     "text": [
      "=================================================================\n",
      "Initiating mass download request.\n"
     ]
    },
    {
     "name": "stderr",
     "output_type": "stream",
     "text": [
      "[2021-11-25 00:46:47,309] - obspy.clients.fdsn.mass_downloader - INFO: Client 'GEONET' - Successfully requested availability (1.18 seconds)\n",
      "[2021-11-25 00:46:47,312] - obspy.clients.fdsn.mass_downloader - INFO: Client 'GEONET' - Found 1 stations (1 channels).\n",
      "[2021-11-25 00:46:47,313] - obspy.clients.fdsn.mass_downloader - INFO: Client 'GEONET' - Will attempt to download data from 1 stations.\n",
      "[2021-11-25 00:46:47,313] - obspy.clients.fdsn.mass_downloader - INFO: Client 'GEONET' - Status for 1 time intervals/channels before downloading: NEEDS_DOWNLOADING\n",
      "[2021-11-25 00:46:48,343] - obspy.clients.fdsn.mass_downloader - INFO: Client 'GEONET' - Successfully downloaded 1 channels (of 1)\n",
      "[2021-11-25 00:46:48,347] - obspy.clients.fdsn.mass_downloader - INFO: Client 'GEONET' - Launching basic QC checks...\n",
      "[2021-11-25 00:46:48,356] - obspy.clients.fdsn.mass_downloader - INFO: Client 'GEONET' - Downloaded 0.0 MB [2.43 KB/sec] of data, 0.0 MB of which were discarded afterwards.\n",
      "[2021-11-25 00:46:48,356] - obspy.clients.fdsn.mass_downloader - INFO: Client 'GEONET' - Status for 1 time intervals/channels after downloading: DOWNLOADED\n",
      "[2021-11-25 00:46:48,359] - obspy.clients.fdsn.mass_downloader - INFO: Client 'GEONET' - No station information to download.\n",
      "[2021-11-25 00:46:48,360] - obspy.clients.fdsn.mass_downloader - INFO: ============================== Final report\n",
      "[2021-11-25 00:46:48,361] - obspy.clients.fdsn.mass_downloader - INFO: 0 MiniSEED files [0.0 MB] already existed.\n",
      "[2021-11-25 00:46:48,361] - obspy.clients.fdsn.mass_downloader - INFO: 1 StationXML files [0.0 MB] already existed.\n",
      "[2021-11-25 00:46:48,361] - obspy.clients.fdsn.mass_downloader - INFO: Client 'GEONET' - Acquired 1 MiniSEED files [0.0 MB].\n",
      "[2021-11-25 00:46:48,361] - obspy.clients.fdsn.mass_downloader - INFO: Client 'GEONET' - Acquired 0 StationXML files [0.0 MB].\n",
      "[2021-11-25 00:46:48,362] - obspy.clients.fdsn.mass_downloader - INFO: Downloaded 0.0 MB in total.\n",
      "[2021-11-25 00:46:48,366] - obspy.clients.fdsn.mass_downloader - INFO: Initializing FDSN client(s) for GEONET.\n",
      "[2021-11-25 00:46:48,371] - obspy.clients.fdsn.mass_downloader - INFO: Successfully initialized 1 client(s): GEONET.\n",
      "[2021-11-25 00:46:48,373] - obspy.clients.fdsn.mass_downloader - INFO: Total acquired or preexisting stations: 0\n",
      "[2021-11-25 00:46:48,374] - obspy.clients.fdsn.mass_downloader - INFO: Client 'GEONET' - Requesting unreliable availability.\n"
     ]
    },
    {
     "name": "stdout",
     "output_type": "stream",
     "text": [
      "=================================================================\n",
      "Initiating mass download request.\n"
     ]
    },
    {
     "name": "stderr",
     "output_type": "stream",
     "text": [
      "[2021-11-25 00:46:49,645] - obspy.clients.fdsn.mass_downloader - INFO: Client 'GEONET' - Successfully requested availability (1.27 seconds)\n",
      "[2021-11-25 00:46:49,648] - obspy.clients.fdsn.mass_downloader - INFO: Client 'GEONET' - Found 1 stations (1 channels).\n",
      "[2021-11-25 00:46:49,652] - obspy.clients.fdsn.mass_downloader - INFO: Client 'GEONET' - Will attempt to download data from 1 stations.\n",
      "[2021-11-25 00:46:49,654] - obspy.clients.fdsn.mass_downloader - INFO: Client 'GEONET' - Status for 1 time intervals/channels before downloading: NEEDS_DOWNLOADING\n",
      "[2021-11-25 00:46:50,632] - obspy.clients.fdsn.mass_downloader - INFO: Client 'GEONET' - Successfully downloaded 1 channels (of 1)\n",
      "[2021-11-25 00:46:50,639] - obspy.clients.fdsn.mass_downloader - INFO: Client 'GEONET' - Launching basic QC checks...\n",
      "[2021-11-25 00:46:50,654] - obspy.clients.fdsn.mass_downloader - INFO: Client 'GEONET' - Downloaded 0.0 MB [3.06 KB/sec] of data, 0.0 MB of which were discarded afterwards.\n",
      "[2021-11-25 00:46:50,655] - obspy.clients.fdsn.mass_downloader - INFO: Client 'GEONET' - Status for 1 time intervals/channels after downloading: DOWNLOADED\n",
      "[2021-11-25 00:46:50,660] - obspy.clients.fdsn.mass_downloader - INFO: Client 'GEONET' - No station information to download.\n",
      "[2021-11-25 00:46:50,662] - obspy.clients.fdsn.mass_downloader - INFO: ============================== Final report\n",
      "[2021-11-25 00:46:50,663] - obspy.clients.fdsn.mass_downloader - INFO: 0 MiniSEED files [0.0 MB] already existed.\n",
      "[2021-11-25 00:46:50,663] - obspy.clients.fdsn.mass_downloader - INFO: 1 StationXML files [0.0 MB] already existed.\n",
      "[2021-11-25 00:46:50,664] - obspy.clients.fdsn.mass_downloader - INFO: Client 'GEONET' - Acquired 1 MiniSEED files [0.0 MB].\n",
      "[2021-11-25 00:46:50,664] - obspy.clients.fdsn.mass_downloader - INFO: Client 'GEONET' - Acquired 0 StationXML files [0.0 MB].\n",
      "[2021-11-25 00:46:50,665] - obspy.clients.fdsn.mass_downloader - INFO: Downloaded 0.0 MB in total.\n",
      "[2021-11-25 00:46:50,672] - obspy.clients.fdsn.mass_downloader - INFO: Initializing FDSN client(s) for GEONET.\n",
      "[2021-11-25 00:46:50,687] - obspy.clients.fdsn.mass_downloader - INFO: Successfully initialized 1 client(s): GEONET.\n",
      "[2021-11-25 00:46:50,689] - obspy.clients.fdsn.mass_downloader - INFO: Total acquired or preexisting stations: 0\n",
      "[2021-11-25 00:46:50,693] - obspy.clients.fdsn.mass_downloader - INFO: Client 'GEONET' - Requesting unreliable availability.\n"
     ]
    },
    {
     "name": "stdout",
     "output_type": "stream",
     "text": [
      "=================================================================\n",
      "Initiating mass download request.\n"
     ]
    },
    {
     "name": "stderr",
     "output_type": "stream",
     "text": [
      "[2021-11-25 00:46:51,303] - obspy.clients.fdsn.mass_downloader - INFO: Client 'GEONET' - Successfully requested availability (0.61 seconds)\n",
      "[2021-11-25 00:46:51,314] - obspy.clients.fdsn.mass_downloader - INFO: Client 'GEONET' - Found 1 stations (1 channels).\n",
      "[2021-11-25 00:46:51,321] - obspy.clients.fdsn.mass_downloader - INFO: Client 'GEONET' - Will attempt to download data from 1 stations.\n",
      "[2021-11-25 00:46:51,334] - obspy.clients.fdsn.mass_downloader - INFO: Client 'GEONET' - Status for 1 time intervals/channels before downloading: NEEDS_DOWNLOADING\n",
      "[2021-11-25 00:46:53,174] - obspy.clients.fdsn.mass_downloader - INFO: Client 'GEONET' - Successfully downloaded 1 channels (of 1)\n",
      "[2021-11-25 00:46:53,178] - obspy.clients.fdsn.mass_downloader - INFO: Client 'GEONET' - Launching basic QC checks...\n",
      "[2021-11-25 00:46:53,187] - obspy.clients.fdsn.mass_downloader - INFO: Client 'GEONET' - Downloaded 0.0 MB [1.66 KB/sec] of data, 0.0 MB of which were discarded afterwards.\n",
      "[2021-11-25 00:46:53,188] - obspy.clients.fdsn.mass_downloader - INFO: Client 'GEONET' - Status for 1 time intervals/channels after downloading: DOWNLOADED\n",
      "[2021-11-25 00:46:53,193] - obspy.clients.fdsn.mass_downloader - INFO: Client 'GEONET' - No station information to download.\n",
      "[2021-11-25 00:46:53,194] - obspy.clients.fdsn.mass_downloader - INFO: ============================== Final report\n",
      "[2021-11-25 00:46:53,194] - obspy.clients.fdsn.mass_downloader - INFO: 0 MiniSEED files [0.0 MB] already existed.\n",
      "[2021-11-25 00:46:53,194] - obspy.clients.fdsn.mass_downloader - INFO: 1 StationXML files [0.0 MB] already existed.\n",
      "[2021-11-25 00:46:53,195] - obspy.clients.fdsn.mass_downloader - INFO: Client 'GEONET' - Acquired 1 MiniSEED files [0.0 MB].\n",
      "[2021-11-25 00:46:53,195] - obspy.clients.fdsn.mass_downloader - INFO: Client 'GEONET' - Acquired 0 StationXML files [0.0 MB].\n",
      "[2021-11-25 00:46:53,195] - obspy.clients.fdsn.mass_downloader - INFO: Downloaded 0.0 MB in total.\n",
      "[2021-11-25 00:46:53,197] - obspy.clients.fdsn.mass_downloader - INFO: Initializing FDSN client(s) for GEONET.\n",
      "[2021-11-25 00:46:53,201] - obspy.clients.fdsn.mass_downloader - INFO: Successfully initialized 1 client(s): GEONET.\n",
      "[2021-11-25 00:46:53,201] - obspy.clients.fdsn.mass_downloader - INFO: Total acquired or preexisting stations: 0\n",
      "[2021-11-25 00:46:53,202] - obspy.clients.fdsn.mass_downloader - INFO: Client 'GEONET' - Requesting unreliable availability.\n"
     ]
    },
    {
     "name": "stdout",
     "output_type": "stream",
     "text": [
      "=================================================================\n",
      "Initiating mass download request.\n"
     ]
    },
    {
     "name": "stderr",
     "output_type": "stream",
     "text": [
      "[2021-11-25 00:46:53,745] - obspy.clients.fdsn.mass_downloader - INFO: Client 'GEONET' - Successfully requested availability (0.54 seconds)\n",
      "[2021-11-25 00:46:53,746] - obspy.clients.fdsn.mass_downloader - INFO: Client 'GEONET' - Found 1 stations (1 channels).\n",
      "[2021-11-25 00:46:53,746] - obspy.clients.fdsn.mass_downloader - INFO: Client 'GEONET' - Will attempt to download data from 1 stations.\n",
      "[2021-11-25 00:46:53,747] - obspy.clients.fdsn.mass_downloader - INFO: Client 'GEONET' - Status for 1 time intervals/channels before downloading: NEEDS_DOWNLOADING\n",
      "[2021-11-25 00:46:54,797] - obspy.clients.fdsn.mass_downloader - INFO: Client 'GEONET' - Successfully downloaded 1 channels (of 1)\n",
      "[2021-11-25 00:46:54,800] - obspy.clients.fdsn.mass_downloader - INFO: Client 'GEONET' - Launching basic QC checks...\n",
      "[2021-11-25 00:46:54,803] - obspy.clients.fdsn.mass_downloader - INFO: Client 'GEONET' - Downloaded 0.0 MB [2.85 KB/sec] of data, 0.0 MB of which were discarded afterwards.\n",
      "[2021-11-25 00:46:54,803] - obspy.clients.fdsn.mass_downloader - INFO: Client 'GEONET' - Status for 1 time intervals/channels after downloading: DOWNLOADED\n",
      "[2021-11-25 00:46:54,805] - obspy.clients.fdsn.mass_downloader - INFO: Client 'GEONET' - No station information to download.\n",
      "[2021-11-25 00:46:54,805] - obspy.clients.fdsn.mass_downloader - INFO: ============================== Final report\n",
      "[2021-11-25 00:46:54,806] - obspy.clients.fdsn.mass_downloader - INFO: 0 MiniSEED files [0.0 MB] already existed.\n",
      "[2021-11-25 00:46:54,806] - obspy.clients.fdsn.mass_downloader - INFO: 1 StationXML files [0.0 MB] already existed.\n",
      "[2021-11-25 00:46:54,807] - obspy.clients.fdsn.mass_downloader - INFO: Client 'GEONET' - Acquired 1 MiniSEED files [0.0 MB].\n",
      "[2021-11-25 00:46:54,807] - obspy.clients.fdsn.mass_downloader - INFO: Client 'GEONET' - Acquired 0 StationXML files [0.0 MB].\n",
      "[2021-11-25 00:46:54,807] - obspy.clients.fdsn.mass_downloader - INFO: Downloaded 0.0 MB in total.\n",
      "[2021-11-25 00:46:54,808] - obspy.clients.fdsn.mass_downloader - INFO: Initializing FDSN client(s) for GEONET.\n",
      "[2021-11-25 00:46:54,811] - obspy.clients.fdsn.mass_downloader - INFO: Successfully initialized 1 client(s): GEONET.\n",
      "[2021-11-25 00:46:54,812] - obspy.clients.fdsn.mass_downloader - INFO: Total acquired or preexisting stations: 0\n",
      "[2021-11-25 00:46:54,812] - obspy.clients.fdsn.mass_downloader - INFO: Client 'GEONET' - Requesting unreliable availability.\n"
     ]
    },
    {
     "name": "stdout",
     "output_type": "stream",
     "text": [
      "=================================================================\n",
      "Initiating mass download request.\n"
     ]
    },
    {
     "name": "stderr",
     "output_type": "stream",
     "text": [
      "[2021-11-25 00:46:55,345] - obspy.clients.fdsn.mass_downloader - INFO: Client 'GEONET' - Successfully requested availability (0.53 seconds)\n",
      "[2021-11-25 00:46:55,346] - obspy.clients.fdsn.mass_downloader - INFO: Client 'GEONET' - Found 1 stations (1 channels).\n",
      "[2021-11-25 00:46:55,347] - obspy.clients.fdsn.mass_downloader - INFO: Client 'GEONET' - Will attempt to download data from 1 stations.\n",
      "[2021-11-25 00:46:55,347] - obspy.clients.fdsn.mass_downloader - INFO: Client 'GEONET' - Status for 1 time intervals/channels before downloading: NEEDS_DOWNLOADING\n",
      "[2021-11-25 00:46:56,408] - obspy.clients.fdsn.mass_downloader - INFO: Client 'GEONET' - Successfully downloaded 1 channels (of 1)\n",
      "[2021-11-25 00:46:56,409] - obspy.clients.fdsn.mass_downloader - INFO: Client 'GEONET' - Launching basic QC checks...\n",
      "[2021-11-25 00:46:56,412] - obspy.clients.fdsn.mass_downloader - INFO: Client 'GEONET' - Downloaded 0.0 MB [4.24 KB/sec] of data, 0.0 MB of which were discarded afterwards.\n",
      "[2021-11-25 00:46:56,412] - obspy.clients.fdsn.mass_downloader - INFO: Client 'GEONET' - Status for 1 time intervals/channels after downloading: DOWNLOADED\n",
      "[2021-11-25 00:46:56,414] - obspy.clients.fdsn.mass_downloader - INFO: Client 'GEONET' - No station information to download.\n",
      "[2021-11-25 00:46:56,414] - obspy.clients.fdsn.mass_downloader - INFO: ============================== Final report\n",
      "[2021-11-25 00:46:56,415] - obspy.clients.fdsn.mass_downloader - INFO: 0 MiniSEED files [0.0 MB] already existed.\n",
      "[2021-11-25 00:46:56,415] - obspy.clients.fdsn.mass_downloader - INFO: 1 StationXML files [0.0 MB] already existed.\n",
      "[2021-11-25 00:46:56,415] - obspy.clients.fdsn.mass_downloader - INFO: Client 'GEONET' - Acquired 1 MiniSEED files [0.0 MB].\n",
      "[2021-11-25 00:46:56,415] - obspy.clients.fdsn.mass_downloader - INFO: Client 'GEONET' - Acquired 0 StationXML files [0.0 MB].\n",
      "[2021-11-25 00:46:56,416] - obspy.clients.fdsn.mass_downloader - INFO: Downloaded 0.0 MB in total.\n",
      "[2021-11-25 00:46:56,417] - obspy.clients.fdsn.mass_downloader - INFO: Initializing FDSN client(s) for GEONET.\n",
      "[2021-11-25 00:46:56,419] - obspy.clients.fdsn.mass_downloader - INFO: Successfully initialized 1 client(s): GEONET.\n",
      "[2021-11-25 00:46:56,420] - obspy.clients.fdsn.mass_downloader - INFO: Total acquired or preexisting stations: 0\n",
      "[2021-11-25 00:46:56,420] - obspy.clients.fdsn.mass_downloader - INFO: Client 'GEONET' - Requesting unreliable availability.\n"
     ]
    },
    {
     "name": "stdout",
     "output_type": "stream",
     "text": [
      "=================================================================\n",
      "Initiating mass download request.\n"
     ]
    },
    {
     "name": "stderr",
     "output_type": "stream",
     "text": [
      "[2021-11-25 00:46:56,979] - obspy.clients.fdsn.mass_downloader - INFO: Client 'GEONET' - Successfully requested availability (0.56 seconds)\n",
      "[2021-11-25 00:46:56,993] - obspy.clients.fdsn.mass_downloader - INFO: Client 'GEONET' - Found 1 stations (1 channels).\n",
      "[2021-11-25 00:46:56,995] - obspy.clients.fdsn.mass_downloader - INFO: Client 'GEONET' - Will attempt to download data from 1 stations.\n",
      "[2021-11-25 00:46:56,998] - obspy.clients.fdsn.mass_downloader - INFO: Client 'GEONET' - Status for 1 time intervals/channels before downloading: NEEDS_DOWNLOADING\n",
      "[2021-11-25 00:46:57,971] - obspy.clients.fdsn.mass_downloader - INFO: Client 'GEONET' - Successfully downloaded 1 channels (of 1)\n",
      "[2021-11-25 00:46:57,978] - obspy.clients.fdsn.mass_downloader - INFO: Client 'GEONET' - Launching basic QC checks...\n",
      "[2021-11-25 00:46:57,990] - obspy.clients.fdsn.mass_downloader - INFO: Client 'GEONET' - Downloaded 0.0 MB [3.59 KB/sec] of data, 0.0 MB of which were discarded afterwards.\n",
      "[2021-11-25 00:46:57,991] - obspy.clients.fdsn.mass_downloader - INFO: Client 'GEONET' - Status for 1 time intervals/channels after downloading: DOWNLOADED\n",
      "[2021-11-25 00:46:57,995] - obspy.clients.fdsn.mass_downloader - INFO: Client 'GEONET' - No station information to download.\n",
      "[2021-11-25 00:46:57,995] - obspy.clients.fdsn.mass_downloader - INFO: ============================== Final report\n",
      "[2021-11-25 00:46:57,996] - obspy.clients.fdsn.mass_downloader - INFO: 0 MiniSEED files [0.0 MB] already existed.\n",
      "[2021-11-25 00:46:57,996] - obspy.clients.fdsn.mass_downloader - INFO: 1 StationXML files [0.0 MB] already existed.\n",
      "[2021-11-25 00:46:57,996] - obspy.clients.fdsn.mass_downloader - INFO: Client 'GEONET' - Acquired 1 MiniSEED files [0.0 MB].\n",
      "[2021-11-25 00:46:57,996] - obspy.clients.fdsn.mass_downloader - INFO: Client 'GEONET' - Acquired 0 StationXML files [0.0 MB].\n",
      "[2021-11-25 00:46:57,997] - obspy.clients.fdsn.mass_downloader - INFO: Downloaded 0.0 MB in total.\n",
      "[2021-11-25 00:46:57,999] - obspy.clients.fdsn.mass_downloader - INFO: Initializing FDSN client(s) for GEONET.\n",
      "[2021-11-25 00:46:58,002] - obspy.clients.fdsn.mass_downloader - INFO: Successfully initialized 1 client(s): GEONET.\n",
      "[2021-11-25 00:46:58,002] - obspy.clients.fdsn.mass_downloader - INFO: Total acquired or preexisting stations: 0\n",
      "[2021-11-25 00:46:58,002] - obspy.clients.fdsn.mass_downloader - INFO: Client 'GEONET' - Requesting unreliable availability.\n"
     ]
    },
    {
     "name": "stdout",
     "output_type": "stream",
     "text": [
      "=================================================================\n",
      "Initiating mass download request.\n"
     ]
    },
    {
     "name": "stderr",
     "output_type": "stream",
     "text": [
      "[2021-11-25 00:46:58,557] - obspy.clients.fdsn.mass_downloader - INFO: Client 'GEONET' - Successfully requested availability (0.55 seconds)\n",
      "[2021-11-25 00:46:58,559] - obspy.clients.fdsn.mass_downloader - INFO: Client 'GEONET' - Found 1 stations (1 channels).\n",
      "[2021-11-25 00:46:58,561] - obspy.clients.fdsn.mass_downloader - INFO: Client 'GEONET' - Will attempt to download data from 1 stations.\n",
      "[2021-11-25 00:46:58,565] - obspy.clients.fdsn.mass_downloader - INFO: Client 'GEONET' - Status for 1 time intervals/channels before downloading: NEEDS_DOWNLOADING\n",
      "[2021-11-25 00:47:00,095] - obspy.clients.fdsn.mass_downloader - INFO: Client 'GEONET' - Successfully downloaded 1 channels (of 1)\n",
      "[2021-11-25 00:47:00,099] - obspy.clients.fdsn.mass_downloader - INFO: Client 'GEONET' - Launching basic QC checks...\n",
      "[2021-11-25 00:47:00,107] - obspy.clients.fdsn.mass_downloader - INFO: Client 'GEONET' - Downloaded 0.0 MB [2.62 KB/sec] of data, 0.0 MB of which were discarded afterwards.\n",
      "[2021-11-25 00:47:00,107] - obspy.clients.fdsn.mass_downloader - INFO: Client 'GEONET' - Status for 1 time intervals/channels after downloading: DOWNLOADED\n",
      "[2021-11-25 00:47:00,114] - obspy.clients.fdsn.mass_downloader - INFO: Client 'GEONET' - No station information to download.\n",
      "[2021-11-25 00:47:00,115] - obspy.clients.fdsn.mass_downloader - INFO: ============================== Final report\n",
      "[2021-11-25 00:47:00,115] - obspy.clients.fdsn.mass_downloader - INFO: 0 MiniSEED files [0.0 MB] already existed.\n",
      "[2021-11-25 00:47:00,115] - obspy.clients.fdsn.mass_downloader - INFO: 1 StationXML files [0.0 MB] already existed.\n",
      "[2021-11-25 00:47:00,116] - obspy.clients.fdsn.mass_downloader - INFO: Client 'GEONET' - Acquired 1 MiniSEED files [0.0 MB].\n",
      "[2021-11-25 00:47:00,116] - obspy.clients.fdsn.mass_downloader - INFO: Client 'GEONET' - Acquired 0 StationXML files [0.0 MB].\n",
      "[2021-11-25 00:47:00,116] - obspy.clients.fdsn.mass_downloader - INFO: Downloaded 0.0 MB in total.\n",
      "[2021-11-25 00:47:00,119] - obspy.clients.fdsn.mass_downloader - INFO: Initializing FDSN client(s) for GEONET.\n",
      "[2021-11-25 00:47:00,122] - obspy.clients.fdsn.mass_downloader - INFO: Successfully initialized 1 client(s): GEONET.\n",
      "[2021-11-25 00:47:00,125] - obspy.clients.fdsn.mass_downloader - INFO: Total acquired or preexisting stations: 0\n",
      "[2021-11-25 00:47:00,125] - obspy.clients.fdsn.mass_downloader - INFO: Client 'GEONET' - Requesting unreliable availability.\n"
     ]
    },
    {
     "name": "stdout",
     "output_type": "stream",
     "text": [
      "=================================================================\n",
      "Initiating mass download request.\n"
     ]
    },
    {
     "name": "stderr",
     "output_type": "stream",
     "text": [
      "[2021-11-25 00:47:00,675] - obspy.clients.fdsn.mass_downloader - INFO: Client 'GEONET' - Successfully requested availability (0.55 seconds)\n",
      "[2021-11-25 00:47:00,676] - obspy.clients.fdsn.mass_downloader - INFO: Client 'GEONET' - Found 1 stations (1 channels).\n",
      "[2021-11-25 00:47:00,677] - obspy.clients.fdsn.mass_downloader - INFO: Client 'GEONET' - Will attempt to download data from 1 stations.\n",
      "[2021-11-25 00:47:00,677] - obspy.clients.fdsn.mass_downloader - INFO: Client 'GEONET' - Status for 1 time intervals/channels before downloading: NEEDS_DOWNLOADING\n",
      "[2021-11-25 00:47:01,620] - obspy.clients.fdsn.mass_downloader - INFO: Client 'GEONET' - Successfully downloaded 1 channels (of 1)\n",
      "[2021-11-25 00:47:01,639] - obspy.clients.fdsn.mass_downloader - INFO: Client 'GEONET' - Launching basic QC checks...\n",
      "[2021-11-25 00:47:01,657] - obspy.clients.fdsn.mass_downloader - INFO: Client 'GEONET' - Downloaded 0.0 MB [2.61 KB/sec] of data, 0.0 MB of which were discarded afterwards.\n",
      "[2021-11-25 00:47:01,658] - obspy.clients.fdsn.mass_downloader - INFO: Client 'GEONET' - Status for 1 time intervals/channels after downloading: DOWNLOADED\n",
      "[2021-11-25 00:47:01,663] - obspy.clients.fdsn.mass_downloader - INFO: Client 'GEONET' - No station information to download.\n",
      "[2021-11-25 00:47:01,665] - obspy.clients.fdsn.mass_downloader - INFO: ============================== Final report\n",
      "[2021-11-25 00:47:01,666] - obspy.clients.fdsn.mass_downloader - INFO: 0 MiniSEED files [0.0 MB] already existed.\n",
      "[2021-11-25 00:47:01,668] - obspy.clients.fdsn.mass_downloader - INFO: 1 StationXML files [0.0 MB] already existed.\n",
      "[2021-11-25 00:47:01,669] - obspy.clients.fdsn.mass_downloader - INFO: Client 'GEONET' - Acquired 1 MiniSEED files [0.0 MB].\n",
      "[2021-11-25 00:47:01,672] - obspy.clients.fdsn.mass_downloader - INFO: Client 'GEONET' - Acquired 0 StationXML files [0.0 MB].\n",
      "[2021-11-25 00:47:01,673] - obspy.clients.fdsn.mass_downloader - INFO: Downloaded 0.0 MB in total.\n",
      "[2021-11-25 00:47:01,679] - obspy.clients.fdsn.mass_downloader - INFO: Initializing FDSN client(s) for GEONET.\n",
      "[2021-11-25 00:47:01,694] - obspy.clients.fdsn.mass_downloader - INFO: Successfully initialized 1 client(s): GEONET.\n",
      "[2021-11-25 00:47:01,698] - obspy.clients.fdsn.mass_downloader - INFO: Total acquired or preexisting stations: 0\n",
      "[2021-11-25 00:47:01,699] - obspy.clients.fdsn.mass_downloader - INFO: Client 'GEONET' - Requesting unreliable availability.\n"
     ]
    },
    {
     "name": "stdout",
     "output_type": "stream",
     "text": [
      "=================================================================\n",
      "Initiating mass download request.\n"
     ]
    },
    {
     "name": "stderr",
     "output_type": "stream",
     "text": [
      "[2021-11-25 00:47:02,794] - obspy.clients.fdsn.mass_downloader - INFO: Client 'GEONET' - Successfully requested availability (1.09 seconds)\n",
      "[2021-11-25 00:47:02,798] - obspy.clients.fdsn.mass_downloader - INFO: Client 'GEONET' - Found 1 stations (1 channels).\n",
      "[2021-11-25 00:47:02,798] - obspy.clients.fdsn.mass_downloader - INFO: Client 'GEONET' - Will attempt to download data from 1 stations.\n",
      "[2021-11-25 00:47:02,800] - obspy.clients.fdsn.mass_downloader - INFO: Client 'GEONET' - Status for 1 time intervals/channels before downloading: NEEDS_DOWNLOADING\n",
      "[2021-11-25 00:47:03,904] - obspy.clients.fdsn.mass_downloader - INFO: Client 'GEONET' - Successfully downloaded 1 channels (of 1)\n",
      "[2021-11-25 00:47:03,915] - obspy.clients.fdsn.mass_downloader - INFO: Client 'GEONET' - Launching basic QC checks...\n",
      "[2021-11-25 00:47:03,933] - obspy.clients.fdsn.mass_downloader - INFO: Client 'GEONET' - Downloaded 0.0 MB [4.06 KB/sec] of data, 0.0 MB of which were discarded afterwards.\n",
      "[2021-11-25 00:47:03,933] - obspy.clients.fdsn.mass_downloader - INFO: Client 'GEONET' - Status for 1 time intervals/channels after downloading: DOWNLOADED\n",
      "[2021-11-25 00:47:03,937] - obspy.clients.fdsn.mass_downloader - INFO: Client 'GEONET' - No station information to download.\n",
      "[2021-11-25 00:47:03,938] - obspy.clients.fdsn.mass_downloader - INFO: ============================== Final report\n",
      "[2021-11-25 00:47:03,938] - obspy.clients.fdsn.mass_downloader - INFO: 0 MiniSEED files [0.0 MB] already existed.\n",
      "[2021-11-25 00:47:03,939] - obspy.clients.fdsn.mass_downloader - INFO: 1 StationXML files [0.0 MB] already existed.\n",
      "[2021-11-25 00:47:03,939] - obspy.clients.fdsn.mass_downloader - INFO: Client 'GEONET' - Acquired 1 MiniSEED files [0.0 MB].\n",
      "[2021-11-25 00:47:03,940] - obspy.clients.fdsn.mass_downloader - INFO: Client 'GEONET' - Acquired 0 StationXML files [0.0 MB].\n",
      "[2021-11-25 00:47:03,940] - obspy.clients.fdsn.mass_downloader - INFO: Downloaded 0.0 MB in total.\n",
      "[2021-11-25 00:47:03,947] - obspy.clients.fdsn.mass_downloader - INFO: Initializing FDSN client(s) for GEONET.\n",
      "[2021-11-25 00:47:03,952] - obspy.clients.fdsn.mass_downloader - INFO: Successfully initialized 1 client(s): GEONET.\n",
      "[2021-11-25 00:47:03,953] - obspy.clients.fdsn.mass_downloader - INFO: Total acquired or preexisting stations: 0\n",
      "[2021-11-25 00:47:03,953] - obspy.clients.fdsn.mass_downloader - INFO: Client 'GEONET' - Requesting unreliable availability.\n"
     ]
    },
    {
     "name": "stdout",
     "output_type": "stream",
     "text": [
      "=================================================================\n",
      "Initiating mass download request.\n"
     ]
    },
    {
     "name": "stderr",
     "output_type": "stream",
     "text": [
      "[2021-11-25 00:47:04,494] - obspy.clients.fdsn.mass_downloader - INFO: Client 'GEONET' - Successfully requested availability (0.54 seconds)\n",
      "[2021-11-25 00:47:04,500] - obspy.clients.fdsn.mass_downloader - INFO: Client 'GEONET' - Found 1 stations (1 channels).\n",
      "[2021-11-25 00:47:04,500] - obspy.clients.fdsn.mass_downloader - INFO: Client 'GEONET' - Will attempt to download data from 1 stations.\n",
      "[2021-11-25 00:47:04,501] - obspy.clients.fdsn.mass_downloader - INFO: Client 'GEONET' - Status for 1 time intervals/channels before downloading: NEEDS_DOWNLOADING\n",
      "[2021-11-25 00:47:05,426] - obspy.clients.fdsn.mass_downloader - INFO: Client 'GEONET' - Successfully downloaded 1 channels (of 1)\n",
      "[2021-11-25 00:47:05,431] - obspy.clients.fdsn.mass_downloader - INFO: Client 'GEONET' - Launching basic QC checks...\n",
      "[2021-11-25 00:47:05,454] - obspy.clients.fdsn.mass_downloader - INFO: Client 'GEONET' - Downloaded 0.0 MB [3.79 KB/sec] of data, 0.0 MB of which were discarded afterwards.\n",
      "[2021-11-25 00:47:05,457] - obspy.clients.fdsn.mass_downloader - INFO: Client 'GEONET' - Status for 1 time intervals/channels after downloading: DOWNLOADED\n",
      "[2021-11-25 00:47:05,466] - obspy.clients.fdsn.mass_downloader - INFO: Client 'GEONET' - No station information to download.\n",
      "[2021-11-25 00:47:05,468] - obspy.clients.fdsn.mass_downloader - INFO: ============================== Final report\n",
      "[2021-11-25 00:47:05,469] - obspy.clients.fdsn.mass_downloader - INFO: 0 MiniSEED files [0.0 MB] already existed.\n",
      "[2021-11-25 00:47:05,469] - obspy.clients.fdsn.mass_downloader - INFO: 1 StationXML files [0.0 MB] already existed.\n",
      "[2021-11-25 00:47:05,470] - obspy.clients.fdsn.mass_downloader - INFO: Client 'GEONET' - Acquired 1 MiniSEED files [0.0 MB].\n",
      "[2021-11-25 00:47:05,470] - obspy.clients.fdsn.mass_downloader - INFO: Client 'GEONET' - Acquired 0 StationXML files [0.0 MB].\n",
      "[2021-11-25 00:47:05,471] - obspy.clients.fdsn.mass_downloader - INFO: Downloaded 0.0 MB in total.\n",
      "[2021-11-25 00:47:05,477] - obspy.clients.fdsn.mass_downloader - INFO: Initializing FDSN client(s) for GEONET.\n",
      "[2021-11-25 00:47:05,484] - obspy.clients.fdsn.mass_downloader - INFO: Successfully initialized 1 client(s): GEONET.\n",
      "[2021-11-25 00:47:05,486] - obspy.clients.fdsn.mass_downloader - INFO: Total acquired or preexisting stations: 0\n",
      "[2021-11-25 00:47:05,486] - obspy.clients.fdsn.mass_downloader - INFO: Client 'GEONET' - Requesting unreliable availability.\n"
     ]
    },
    {
     "name": "stdout",
     "output_type": "stream",
     "text": [
      "=================================================================\n",
      "Initiating mass download request.\n"
     ]
    },
    {
     "name": "stderr",
     "output_type": "stream",
     "text": [
      "[2021-11-25 00:47:05,998] - obspy.clients.fdsn.mass_downloader - INFO: Client 'GEONET' - Successfully requested availability (0.51 seconds)\n",
      "[2021-11-25 00:47:05,998] - obspy.clients.fdsn.mass_downloader - INFO: Client 'GEONET' - Found 1 stations (1 channels).\n",
      "[2021-11-25 00:47:05,999] - obspy.clients.fdsn.mass_downloader - INFO: Client 'GEONET' - Will attempt to download data from 1 stations.\n",
      "[2021-11-25 00:47:06,000] - obspy.clients.fdsn.mass_downloader - INFO: Client 'GEONET' - Status for 1 time intervals/channels before downloading: NEEDS_DOWNLOADING\n",
      "[2021-11-25 00:47:07,671] - obspy.clients.fdsn.mass_downloader - INFO: Client 'GEONET' - Successfully downloaded 1 channels (of 1)\n",
      "[2021-11-25 00:47:07,674] - obspy.clients.fdsn.mass_downloader - INFO: Client 'GEONET' - Launching basic QC checks...\n",
      "[2021-11-25 00:47:07,689] - obspy.clients.fdsn.mass_downloader - INFO: Client 'GEONET' - Downloaded 0.0 MB [1.79 KB/sec] of data, 0.0 MB of which were discarded afterwards.\n",
      "[2021-11-25 00:47:07,689] - obspy.clients.fdsn.mass_downloader - INFO: Client 'GEONET' - Status for 1 time intervals/channels after downloading: DOWNLOADED\n",
      "[2021-11-25 00:47:07,699] - obspy.clients.fdsn.mass_downloader - INFO: Client 'GEONET' - No station information to download.\n",
      "[2021-11-25 00:47:07,700] - obspy.clients.fdsn.mass_downloader - INFO: ============================== Final report\n",
      "[2021-11-25 00:47:07,700] - obspy.clients.fdsn.mass_downloader - INFO: 0 MiniSEED files [0.0 MB] already existed.\n",
      "[2021-11-25 00:47:07,701] - obspy.clients.fdsn.mass_downloader - INFO: 1 StationXML files [0.0 MB] already existed.\n",
      "[2021-11-25 00:47:07,702] - obspy.clients.fdsn.mass_downloader - INFO: Client 'GEONET' - Acquired 1 MiniSEED files [0.0 MB].\n",
      "[2021-11-25 00:47:07,703] - obspy.clients.fdsn.mass_downloader - INFO: Client 'GEONET' - Acquired 0 StationXML files [0.0 MB].\n",
      "[2021-11-25 00:47:07,704] - obspy.clients.fdsn.mass_downloader - INFO: Downloaded 0.0 MB in total.\n",
      "[2021-11-25 00:47:07,714] - obspy.clients.fdsn.mass_downloader - INFO: Initializing FDSN client(s) for GEONET.\n",
      "[2021-11-25 00:47:07,723] - obspy.clients.fdsn.mass_downloader - INFO: Successfully initialized 1 client(s): GEONET.\n",
      "[2021-11-25 00:47:07,725] - obspy.clients.fdsn.mass_downloader - INFO: Total acquired or preexisting stations: 0\n",
      "[2021-11-25 00:47:07,725] - obspy.clients.fdsn.mass_downloader - INFO: Client 'GEONET' - Requesting unreliable availability.\n"
     ]
    },
    {
     "name": "stdout",
     "output_type": "stream",
     "text": [
      "=================================================================\n",
      "Initiating mass download request.\n"
     ]
    },
    {
     "name": "stderr",
     "output_type": "stream",
     "text": [
      "[2021-11-25 00:47:08,849] - obspy.clients.fdsn.mass_downloader - INFO: Client 'GEONET' - Successfully requested availability (1.12 seconds)\n",
      "[2021-11-25 00:47:08,851] - obspy.clients.fdsn.mass_downloader - INFO: Client 'GEONET' - Found 1 stations (1 channels).\n",
      "[2021-11-25 00:47:08,857] - obspy.clients.fdsn.mass_downloader - INFO: Client 'GEONET' - Will attempt to download data from 1 stations.\n",
      "[2021-11-25 00:47:08,859] - obspy.clients.fdsn.mass_downloader - INFO: Client 'GEONET' - Status for 1 time intervals/channels before downloading: NEEDS_DOWNLOADING\n",
      "[2021-11-25 00:47:10,015] - obspy.clients.fdsn.mass_downloader - INFO: Client 'GEONET' - Successfully downloaded 1 channels (of 1)\n",
      "[2021-11-25 00:47:10,025] - obspy.clients.fdsn.mass_downloader - INFO: Client 'GEONET' - Launching basic QC checks...\n",
      "[2021-11-25 00:47:10,034] - obspy.clients.fdsn.mass_downloader - INFO: Client 'GEONET' - Downloaded 0.0 MB [3.87 KB/sec] of data, 0.0 MB of which were discarded afterwards.\n",
      "[2021-11-25 00:47:10,035] - obspy.clients.fdsn.mass_downloader - INFO: Client 'GEONET' - Status for 1 time intervals/channels after downloading: DOWNLOADED\n",
      "[2021-11-25 00:47:10,040] - obspy.clients.fdsn.mass_downloader - INFO: Client 'GEONET' - No station information to download.\n",
      "[2021-11-25 00:47:10,041] - obspy.clients.fdsn.mass_downloader - INFO: ============================== Final report\n",
      "[2021-11-25 00:47:10,041] - obspy.clients.fdsn.mass_downloader - INFO: 0 MiniSEED files [0.0 MB] already existed.\n",
      "[2021-11-25 00:47:10,042] - obspy.clients.fdsn.mass_downloader - INFO: 1 StationXML files [0.0 MB] already existed.\n",
      "[2021-11-25 00:47:10,042] - obspy.clients.fdsn.mass_downloader - INFO: Client 'GEONET' - Acquired 1 MiniSEED files [0.0 MB].\n",
      "[2021-11-25 00:47:10,043] - obspy.clients.fdsn.mass_downloader - INFO: Client 'GEONET' - Acquired 0 StationXML files [0.0 MB].\n",
      "[2021-11-25 00:47:10,043] - obspy.clients.fdsn.mass_downloader - INFO: Downloaded 0.0 MB in total.\n",
      "[2021-11-25 00:47:10,049] - obspy.clients.fdsn.mass_downloader - INFO: Initializing FDSN client(s) for GEONET.\n",
      "[2021-11-25 00:47:10,052] - obspy.clients.fdsn.mass_downloader - INFO: Successfully initialized 1 client(s): GEONET.\n",
      "[2021-11-25 00:47:10,053] - obspy.clients.fdsn.mass_downloader - INFO: Total acquired or preexisting stations: 0\n",
      "[2021-11-25 00:47:10,054] - obspy.clients.fdsn.mass_downloader - INFO: Client 'GEONET' - Requesting unreliable availability.\n"
     ]
    },
    {
     "name": "stdout",
     "output_type": "stream",
     "text": [
      "=================================================================\n",
      "Initiating mass download request.\n"
     ]
    },
    {
     "name": "stderr",
     "output_type": "stream",
     "text": [
      "[2021-11-25 00:47:10,860] - obspy.clients.fdsn.mass_downloader - INFO: Client 'GEONET' - Successfully requested availability (0.80 seconds)\n",
      "[2021-11-25 00:47:10,864] - obspy.clients.fdsn.mass_downloader - INFO: Client 'GEONET' - Found 1 stations (1 channels).\n",
      "[2021-11-25 00:47:10,868] - obspy.clients.fdsn.mass_downloader - INFO: Client 'GEONET' - Will attempt to download data from 1 stations.\n",
      "[2021-11-25 00:47:10,874] - obspy.clients.fdsn.mass_downloader - INFO: Client 'GEONET' - Status for 1 time intervals/channels before downloading: NEEDS_DOWNLOADING\n",
      "[2021-11-25 00:47:11,906] - obspy.clients.fdsn.mass_downloader - INFO: Client 'GEONET' - Successfully downloaded 1 channels (of 1)\n",
      "[2021-11-25 00:47:11,913] - obspy.clients.fdsn.mass_downloader - INFO: Client 'GEONET' - Launching basic QC checks...\n",
      "[2021-11-25 00:47:11,917] - obspy.clients.fdsn.mass_downloader - INFO: Client 'GEONET' - Downloaded 0.0 MB [3.40 KB/sec] of data, 0.0 MB of which were discarded afterwards.\n",
      "[2021-11-25 00:47:11,917] - obspy.clients.fdsn.mass_downloader - INFO: Client 'GEONET' - Status for 1 time intervals/channels after downloading: DOWNLOADED\n",
      "[2021-11-25 00:47:11,923] - obspy.clients.fdsn.mass_downloader - INFO: Client 'GEONET' - No station information to download.\n",
      "[2021-11-25 00:47:11,924] - obspy.clients.fdsn.mass_downloader - INFO: ============================== Final report\n",
      "[2021-11-25 00:47:11,927] - obspy.clients.fdsn.mass_downloader - INFO: 0 MiniSEED files [0.0 MB] already existed.\n",
      "[2021-11-25 00:47:11,928] - obspy.clients.fdsn.mass_downloader - INFO: 1 StationXML files [0.0 MB] already existed.\n",
      "[2021-11-25 00:47:11,928] - obspy.clients.fdsn.mass_downloader - INFO: Client 'GEONET' - Acquired 1 MiniSEED files [0.0 MB].\n",
      "[2021-11-25 00:47:11,929] - obspy.clients.fdsn.mass_downloader - INFO: Client 'GEONET' - Acquired 0 StationXML files [0.0 MB].\n",
      "[2021-11-25 00:47:11,929] - obspy.clients.fdsn.mass_downloader - INFO: Downloaded 0.0 MB in total.\n",
      "[2021-11-25 00:47:11,936] - obspy.clients.fdsn.mass_downloader - INFO: Initializing FDSN client(s) for GEONET.\n",
      "[2021-11-25 00:47:11,943] - obspy.clients.fdsn.mass_downloader - INFO: Successfully initialized 1 client(s): GEONET.\n",
      "[2021-11-25 00:47:11,944] - obspy.clients.fdsn.mass_downloader - INFO: Total acquired or preexisting stations: 0\n",
      "[2021-11-25 00:47:11,944] - obspy.clients.fdsn.mass_downloader - INFO: Client 'GEONET' - Requesting unreliable availability.\n"
     ]
    },
    {
     "name": "stdout",
     "output_type": "stream",
     "text": [
      "=================================================================\n",
      "Initiating mass download request.\n"
     ]
    },
    {
     "name": "stderr",
     "output_type": "stream",
     "text": [
      "[2021-11-25 00:47:12,525] - obspy.clients.fdsn.mass_downloader - INFO: Client 'GEONET' - Successfully requested availability (0.58 seconds)\n",
      "[2021-11-25 00:47:12,526] - obspy.clients.fdsn.mass_downloader - INFO: Client 'GEONET' - Found 1 stations (1 channels).\n",
      "[2021-11-25 00:47:12,526] - obspy.clients.fdsn.mass_downloader - INFO: Client 'GEONET' - Will attempt to download data from 1 stations.\n",
      "[2021-11-25 00:47:12,527] - obspy.clients.fdsn.mass_downloader - INFO: Client 'GEONET' - Status for 1 time intervals/channels before downloading: NEEDS_DOWNLOADING\n",
      "[2021-11-25 00:47:13,729] - obspy.clients.fdsn.mass_downloader - INFO: Client 'GEONET' - Successfully downloaded 1 channels (of 1)\n",
      "[2021-11-25 00:47:13,738] - obspy.clients.fdsn.mass_downloader - INFO: Client 'GEONET' - Launching basic QC checks...\n",
      "[2021-11-25 00:47:13,742] - obspy.clients.fdsn.mass_downloader - INFO: Client 'GEONET' - Downloaded 0.0 MB [4.55 KB/sec] of data, 0.0 MB of which were discarded afterwards.\n",
      "[2021-11-25 00:47:13,742] - obspy.clients.fdsn.mass_downloader - INFO: Client 'GEONET' - Status for 1 time intervals/channels after downloading: DOWNLOADED\n",
      "[2021-11-25 00:47:13,748] - obspy.clients.fdsn.mass_downloader - INFO: Client 'GEONET' - No station information to download.\n",
      "[2021-11-25 00:47:13,749] - obspy.clients.fdsn.mass_downloader - INFO: ============================== Final report\n",
      "[2021-11-25 00:47:13,749] - obspy.clients.fdsn.mass_downloader - INFO: 0 MiniSEED files [0.0 MB] already existed.\n",
      "[2021-11-25 00:47:13,750] - obspy.clients.fdsn.mass_downloader - INFO: 1 StationXML files [0.0 MB] already existed.\n",
      "[2021-11-25 00:47:13,750] - obspy.clients.fdsn.mass_downloader - INFO: Client 'GEONET' - Acquired 1 MiniSEED files [0.0 MB].\n",
      "[2021-11-25 00:47:13,750] - obspy.clients.fdsn.mass_downloader - INFO: Client 'GEONET' - Acquired 0 StationXML files [0.0 MB].\n",
      "[2021-11-25 00:47:13,750] - obspy.clients.fdsn.mass_downloader - INFO: Downloaded 0.0 MB in total.\n",
      "[2021-11-25 00:47:13,753] - obspy.clients.fdsn.mass_downloader - INFO: Initializing FDSN client(s) for GEONET.\n",
      "[2021-11-25 00:47:13,756] - obspy.clients.fdsn.mass_downloader - INFO: Successfully initialized 1 client(s): GEONET.\n",
      "[2021-11-25 00:47:13,757] - obspy.clients.fdsn.mass_downloader - INFO: Total acquired or preexisting stations: 0\n",
      "[2021-11-25 00:47:13,757] - obspy.clients.fdsn.mass_downloader - INFO: Client 'GEONET' - Requesting unreliable availability.\n"
     ]
    },
    {
     "name": "stdout",
     "output_type": "stream",
     "text": [
      "=================================================================\n",
      "Initiating mass download request.\n"
     ]
    },
    {
     "name": "stderr",
     "output_type": "stream",
     "text": [
      "[2021-11-25 00:47:14,320] - obspy.clients.fdsn.mass_downloader - INFO: Client 'GEONET' - Successfully requested availability (0.56 seconds)\n",
      "[2021-11-25 00:47:14,321] - obspy.clients.fdsn.mass_downloader - INFO: Client 'GEONET' - Found 1 stations (1 channels).\n",
      "[2021-11-25 00:47:14,322] - obspy.clients.fdsn.mass_downloader - INFO: Client 'GEONET' - Will attempt to download data from 1 stations.\n",
      "[2021-11-25 00:47:14,323] - obspy.clients.fdsn.mass_downloader - INFO: Client 'GEONET' - Status for 1 time intervals/channels before downloading: NEEDS_DOWNLOADING\n",
      "[2021-11-25 00:47:15,199] - obspy.clients.fdsn.mass_downloader - INFO: Client 'GEONET' - Successfully downloaded 1 channels (of 1)\n",
      "[2021-11-25 00:47:15,202] - obspy.clients.fdsn.mass_downloader - INFO: Client 'GEONET' - Launching basic QC checks...\n",
      "[2021-11-25 00:47:15,210] - obspy.clients.fdsn.mass_downloader - INFO: Client 'GEONET' - Downloaded 0.0 MB [3.42 KB/sec] of data, 0.0 MB of which were discarded afterwards.\n",
      "[2021-11-25 00:47:15,211] - obspy.clients.fdsn.mass_downloader - INFO: Client 'GEONET' - Status for 1 time intervals/channels after downloading: DOWNLOADED\n",
      "[2021-11-25 00:47:15,213] - obspy.clients.fdsn.mass_downloader - INFO: Client 'GEONET' - No station information to download.\n",
      "[2021-11-25 00:47:15,214] - obspy.clients.fdsn.mass_downloader - INFO: ============================== Final report\n",
      "[2021-11-25 00:47:15,214] - obspy.clients.fdsn.mass_downloader - INFO: 0 MiniSEED files [0.0 MB] already existed.\n",
      "[2021-11-25 00:47:15,214] - obspy.clients.fdsn.mass_downloader - INFO: 1 StationXML files [0.0 MB] already existed.\n",
      "[2021-11-25 00:47:15,215] - obspy.clients.fdsn.mass_downloader - INFO: Client 'GEONET' - Acquired 1 MiniSEED files [0.0 MB].\n",
      "[2021-11-25 00:47:15,215] - obspy.clients.fdsn.mass_downloader - INFO: Client 'GEONET' - Acquired 0 StationXML files [0.0 MB].\n",
      "[2021-11-25 00:47:15,215] - obspy.clients.fdsn.mass_downloader - INFO: Downloaded 0.0 MB in total.\n",
      "[2021-11-25 00:47:15,231] - obspy.clients.fdsn.mass_downloader - INFO: Initializing FDSN client(s) for GEONET.\n",
      "[2021-11-25 00:47:15,234] - obspy.clients.fdsn.mass_downloader - INFO: Successfully initialized 1 client(s): GEONET.\n",
      "[2021-11-25 00:47:15,234] - obspy.clients.fdsn.mass_downloader - INFO: Total acquired or preexisting stations: 0\n",
      "[2021-11-25 00:47:15,235] - obspy.clients.fdsn.mass_downloader - INFO: Client 'GEONET' - Requesting unreliable availability.\n"
     ]
    },
    {
     "name": "stdout",
     "output_type": "stream",
     "text": [
      "=================================================================\n",
      "Initiating mass download request.\n"
     ]
    },
    {
     "name": "stderr",
     "output_type": "stream",
     "text": [
      "[2021-11-25 00:47:15,934] - obspy.clients.fdsn.mass_downloader - INFO: Client 'GEONET' - Successfully requested availability (0.70 seconds)\n",
      "[2021-11-25 00:47:15,934] - obspy.clients.fdsn.mass_downloader - INFO: Client 'GEONET' - Found 1 stations (1 channels).\n",
      "[2021-11-25 00:47:15,934] - obspy.clients.fdsn.mass_downloader - INFO: Client 'GEONET' - Will attempt to download data from 1 stations.\n",
      "[2021-11-25 00:47:15,935] - obspy.clients.fdsn.mass_downloader - INFO: Client 'GEONET' - Status for 1 time intervals/channels before downloading: NEEDS_DOWNLOADING\n",
      "[2021-11-25 00:47:16,840] - obspy.clients.fdsn.mass_downloader - INFO: Client 'GEONET' - Successfully downloaded 1 channels (of 1)\n",
      "[2021-11-25 00:47:16,852] - obspy.clients.fdsn.mass_downloader - INFO: Client 'GEONET' - Launching basic QC checks...\n",
      "[2021-11-25 00:47:16,863] - obspy.clients.fdsn.mass_downloader - INFO: Client 'GEONET' - Downloaded 0.0 MB [3.82 KB/sec] of data, 0.0 MB of which were discarded afterwards.\n",
      "[2021-11-25 00:47:16,864] - obspy.clients.fdsn.mass_downloader - INFO: Client 'GEONET' - Status for 1 time intervals/channels after downloading: DOWNLOADED\n",
      "[2021-11-25 00:47:16,870] - obspy.clients.fdsn.mass_downloader - INFO: Client 'GEONET' - No station information to download.\n",
      "[2021-11-25 00:47:16,871] - obspy.clients.fdsn.mass_downloader - INFO: ============================== Final report\n",
      "[2021-11-25 00:47:16,872] - obspy.clients.fdsn.mass_downloader - INFO: 0 MiniSEED files [0.0 MB] already existed.\n",
      "[2021-11-25 00:47:16,873] - obspy.clients.fdsn.mass_downloader - INFO: 1 StationXML files [0.0 MB] already existed.\n",
      "[2021-11-25 00:47:16,873] - obspy.clients.fdsn.mass_downloader - INFO: Client 'GEONET' - Acquired 1 MiniSEED files [0.0 MB].\n",
      "[2021-11-25 00:47:16,874] - obspy.clients.fdsn.mass_downloader - INFO: Client 'GEONET' - Acquired 0 StationXML files [0.0 MB].\n",
      "[2021-11-25 00:47:16,874] - obspy.clients.fdsn.mass_downloader - INFO: Downloaded 0.0 MB in total.\n",
      "[2021-11-25 00:47:16,881] - obspy.clients.fdsn.mass_downloader - INFO: Initializing FDSN client(s) for GEONET.\n",
      "[2021-11-25 00:47:16,886] - obspy.clients.fdsn.mass_downloader - INFO: Successfully initialized 1 client(s): GEONET.\n",
      "[2021-11-25 00:47:16,887] - obspy.clients.fdsn.mass_downloader - INFO: Total acquired or preexisting stations: 0\n",
      "[2021-11-25 00:47:16,888] - obspy.clients.fdsn.mass_downloader - INFO: Client 'GEONET' - Requesting unreliable availability.\n"
     ]
    },
    {
     "name": "stdout",
     "output_type": "stream",
     "text": [
      "=================================================================\n",
      "Initiating mass download request.\n"
     ]
    },
    {
     "name": "stderr",
     "output_type": "stream",
     "text": [
      "[2021-11-25 00:47:17,421] - obspy.clients.fdsn.mass_downloader - INFO: Client 'GEONET' - Successfully requested availability (0.53 seconds)\n",
      "[2021-11-25 00:47:17,421] - obspy.clients.fdsn.mass_downloader - INFO: Client 'GEONET' - Found 1 stations (1 channels).\n",
      "[2021-11-25 00:47:17,422] - obspy.clients.fdsn.mass_downloader - INFO: Client 'GEONET' - Will attempt to download data from 1 stations.\n",
      "[2021-11-25 00:47:17,422] - obspy.clients.fdsn.mass_downloader - INFO: Client 'GEONET' - Status for 1 time intervals/channels before downloading: NEEDS_DOWNLOADING\n",
      "[2021-11-25 00:47:18,272] - obspy.clients.fdsn.mass_downloader - INFO: Client 'GEONET' - Successfully downloaded 1 channels (of 1)\n",
      "[2021-11-25 00:47:18,279] - obspy.clients.fdsn.mass_downloader - INFO: Client 'GEONET' - Launching basic QC checks...\n",
      "[2021-11-25 00:47:18,285] - obspy.clients.fdsn.mass_downloader - INFO: Client 'GEONET' - Downloaded 0.0 MB [4.68 KB/sec] of data, 0.0 MB of which were discarded afterwards.\n",
      "[2021-11-25 00:47:18,285] - obspy.clients.fdsn.mass_downloader - INFO: Client 'GEONET' - Status for 1 time intervals/channels after downloading: DOWNLOADED\n",
      "[2021-11-25 00:47:18,291] - obspy.clients.fdsn.mass_downloader - INFO: Client 'GEONET' - No station information to download.\n",
      "[2021-11-25 00:47:18,292] - obspy.clients.fdsn.mass_downloader - INFO: ============================== Final report\n",
      "[2021-11-25 00:47:18,295] - obspy.clients.fdsn.mass_downloader - INFO: 0 MiniSEED files [0.0 MB] already existed.\n",
      "[2021-11-25 00:47:18,296] - obspy.clients.fdsn.mass_downloader - INFO: 1 StationXML files [0.0 MB] already existed.\n",
      "[2021-11-25 00:47:18,296] - obspy.clients.fdsn.mass_downloader - INFO: Client 'GEONET' - Acquired 1 MiniSEED files [0.0 MB].\n",
      "[2021-11-25 00:47:18,297] - obspy.clients.fdsn.mass_downloader - INFO: Client 'GEONET' - Acquired 0 StationXML files [0.0 MB].\n",
      "[2021-11-25 00:47:18,297] - obspy.clients.fdsn.mass_downloader - INFO: Downloaded 0.0 MB in total.\n",
      "[2021-11-25 00:47:18,300] - obspy.clients.fdsn.mass_downloader - INFO: Initializing FDSN client(s) for GEONET.\n",
      "[2021-11-25 00:47:18,304] - obspy.clients.fdsn.mass_downloader - INFO: Successfully initialized 1 client(s): GEONET.\n",
      "[2021-11-25 00:47:18,305] - obspy.clients.fdsn.mass_downloader - INFO: Total acquired or preexisting stations: 0\n",
      "[2021-11-25 00:47:18,305] - obspy.clients.fdsn.mass_downloader - INFO: Client 'GEONET' - Requesting unreliable availability.\n"
     ]
    },
    {
     "name": "stdout",
     "output_type": "stream",
     "text": [
      "=================================================================\n",
      "Initiating mass download request.\n"
     ]
    },
    {
     "name": "stderr",
     "output_type": "stream",
     "text": [
      "[2021-11-25 00:47:18,862] - obspy.clients.fdsn.mass_downloader - INFO: Client 'GEONET' - Successfully requested availability (0.56 seconds)\n",
      "[2021-11-25 00:47:18,863] - obspy.clients.fdsn.mass_downloader - INFO: Client 'GEONET' - Found 1 stations (1 channels).\n",
      "[2021-11-25 00:47:18,863] - obspy.clients.fdsn.mass_downloader - INFO: Client 'GEONET' - Will attempt to download data from 1 stations.\n",
      "[2021-11-25 00:47:18,864] - obspy.clients.fdsn.mass_downloader - INFO: Client 'GEONET' - Status for 1 time intervals/channels before downloading: NEEDS_DOWNLOADING\n",
      "[2021-11-25 00:47:19,848] - obspy.clients.fdsn.mass_downloader - INFO: Client 'GEONET' - Successfully downloaded 1 channels (of 1)\n",
      "[2021-11-25 00:47:19,854] - obspy.clients.fdsn.mass_downloader - INFO: Client 'GEONET' - Launching basic QC checks...\n",
      "[2021-11-25 00:47:19,874] - obspy.clients.fdsn.mass_downloader - INFO: Client 'GEONET' - Downloaded 0.0 MB [3.55 KB/sec] of data, 0.0 MB of which were discarded afterwards.\n",
      "[2021-11-25 00:47:19,875] - obspy.clients.fdsn.mass_downloader - INFO: Client 'GEONET' - Status for 1 time intervals/channels after downloading: DOWNLOADED\n",
      "[2021-11-25 00:47:20,442] - obspy.clients.fdsn.mass_downloader - INFO: Client 'GEONET' - Successfully downloaded 'normal/stations/NZ.BKZ.xml'.\n",
      "[2021-11-25 00:47:20,445] - obspy.clients.fdsn.mass_downloader - INFO: Client 'GEONET' - Downloaded 1 station files [0.0 MB] in 0.6 seconds [14.91 KB/sec].\n",
      "[2021-11-25 00:47:20,446] - obspy.clients.fdsn.mass_downloader - INFO: ============================== Final report\n",
      "[2021-11-25 00:47:20,447] - obspy.clients.fdsn.mass_downloader - INFO: 0 MiniSEED files [0.0 MB] already existed.\n",
      "[2021-11-25 00:47:20,447] - obspy.clients.fdsn.mass_downloader - INFO: 0 StationXML files [0.0 MB] already existed.\n",
      "[2021-11-25 00:47:20,447] - obspy.clients.fdsn.mass_downloader - INFO: Client 'GEONET' - Acquired 1 MiniSEED files [0.0 MB].\n",
      "[2021-11-25 00:47:20,447] - obspy.clients.fdsn.mass_downloader - INFO: Client 'GEONET' - Acquired 1 StationXML files [0.0 MB].\n",
      "[2021-11-25 00:47:20,448] - obspy.clients.fdsn.mass_downloader - INFO: Downloaded 0.0 MB in total.\n",
      "[2021-11-25 00:47:20,455] - obspy.clients.fdsn.mass_downloader - INFO: Initializing FDSN client(s) for GEONET.\n",
      "[2021-11-25 00:47:20,474] - obspy.clients.fdsn.mass_downloader - INFO: Successfully initialized 1 client(s): GEONET.\n",
      "[2021-11-25 00:47:20,483] - obspy.clients.fdsn.mass_downloader - INFO: Total acquired or preexisting stations: 0\n",
      "[2021-11-25 00:47:20,492] - obspy.clients.fdsn.mass_downloader - INFO: Client 'GEONET' - Requesting unreliable availability.\n"
     ]
    },
    {
     "name": "stdout",
     "output_type": "stream",
     "text": [
      "=================================================================\n",
      "Initiating mass download request.\n"
     ]
    },
    {
     "name": "stderr",
     "output_type": "stream",
     "text": [
      "[2021-11-25 00:47:21,221] - obspy.clients.fdsn.mass_downloader - INFO: Client 'GEONET' - Successfully requested availability (0.72 seconds)\n",
      "[2021-11-25 00:47:21,230] - obspy.clients.fdsn.mass_downloader - INFO: Client 'GEONET' - Found 1 stations (1 channels).\n",
      "[2021-11-25 00:47:21,235] - obspy.clients.fdsn.mass_downloader - INFO: Client 'GEONET' - Will attempt to download data from 1 stations.\n",
      "[2021-11-25 00:47:21,239] - obspy.clients.fdsn.mass_downloader - INFO: Client 'GEONET' - Status for 1 time intervals/channels before downloading: NEEDS_DOWNLOADING\n",
      "[2021-11-25 00:47:22,168] - obspy.clients.fdsn.mass_downloader - INFO: Client 'GEONET' - Successfully downloaded 1 channels (of 1)\n",
      "[2021-11-25 00:47:22,173] - obspy.clients.fdsn.mass_downloader - INFO: Client 'GEONET' - Launching basic QC checks...\n",
      "[2021-11-25 00:47:22,180] - obspy.clients.fdsn.mass_downloader - INFO: Client 'GEONET' - Downloaded 0.0 MB [2.73 KB/sec] of data, 0.0 MB of which were discarded afterwards.\n",
      "[2021-11-25 00:47:22,181] - obspy.clients.fdsn.mass_downloader - INFO: Client 'GEONET' - Status for 1 time intervals/channels after downloading: DOWNLOADED\n",
      "[2021-11-25 00:47:22,185] - obspy.clients.fdsn.mass_downloader - INFO: Client 'GEONET' - No station information to download.\n",
      "[2021-11-25 00:47:22,186] - obspy.clients.fdsn.mass_downloader - INFO: ============================== Final report\n",
      "[2021-11-25 00:47:22,186] - obspy.clients.fdsn.mass_downloader - INFO: 0 MiniSEED files [0.0 MB] already existed.\n",
      "[2021-11-25 00:47:22,186] - obspy.clients.fdsn.mass_downloader - INFO: 1 StationXML files [0.0 MB] already existed.\n",
      "[2021-11-25 00:47:22,187] - obspy.clients.fdsn.mass_downloader - INFO: Client 'GEONET' - Acquired 1 MiniSEED files [0.0 MB].\n",
      "[2021-11-25 00:47:22,187] - obspy.clients.fdsn.mass_downloader - INFO: Client 'GEONET' - Acquired 0 StationXML files [0.0 MB].\n",
      "[2021-11-25 00:47:22,188] - obspy.clients.fdsn.mass_downloader - INFO: Downloaded 0.0 MB in total.\n",
      "[2021-11-25 00:47:22,195] - obspy.clients.fdsn.mass_downloader - INFO: Initializing FDSN client(s) for GEONET.\n",
      "[2021-11-25 00:47:22,207] - obspy.clients.fdsn.mass_downloader - INFO: Successfully initialized 1 client(s): GEONET.\n",
      "[2021-11-25 00:47:22,209] - obspy.clients.fdsn.mass_downloader - INFO: Total acquired or preexisting stations: 0\n",
      "[2021-11-25 00:47:22,209] - obspy.clients.fdsn.mass_downloader - INFO: Client 'GEONET' - Requesting unreliable availability.\n"
     ]
    },
    {
     "name": "stdout",
     "output_type": "stream",
     "text": [
      "=================================================================\n",
      "Initiating mass download request.\n"
     ]
    },
    {
     "name": "stderr",
     "output_type": "stream",
     "text": [
      "[2021-11-25 00:47:22,762] - obspy.clients.fdsn.mass_downloader - INFO: Client 'GEONET' - Successfully requested availability (0.55 seconds)\n",
      "[2021-11-25 00:47:22,764] - obspy.clients.fdsn.mass_downloader - INFO: Client 'GEONET' - Found 1 stations (1 channels).\n",
      "[2021-11-25 00:47:22,764] - obspy.clients.fdsn.mass_downloader - INFO: Client 'GEONET' - Will attempt to download data from 1 stations.\n",
      "[2021-11-25 00:47:22,765] - obspy.clients.fdsn.mass_downloader - INFO: Client 'GEONET' - Status for 1 time intervals/channels before downloading: NEEDS_DOWNLOADING\n",
      "[2021-11-25 00:47:23,625] - obspy.clients.fdsn.mass_downloader - INFO: Client 'GEONET' - Successfully downloaded 1 channels (of 1)\n",
      "[2021-11-25 00:47:23,629] - obspy.clients.fdsn.mass_downloader - INFO: Client 'GEONET' - Launching basic QC checks...\n",
      "[2021-11-25 00:47:23,638] - obspy.clients.fdsn.mass_downloader - INFO: Client 'GEONET' - Downloaded 0.0 MB [3.48 KB/sec] of data, 0.0 MB of which were discarded afterwards.\n",
      "[2021-11-25 00:47:23,638] - obspy.clients.fdsn.mass_downloader - INFO: Client 'GEONET' - Status for 1 time intervals/channels after downloading: DOWNLOADED\n",
      "[2021-11-25 00:47:23,640] - obspy.clients.fdsn.mass_downloader - INFO: Client 'GEONET' - No station information to download.\n",
      "[2021-11-25 00:47:23,641] - obspy.clients.fdsn.mass_downloader - INFO: ============================== Final report\n",
      "[2021-11-25 00:47:23,641] - obspy.clients.fdsn.mass_downloader - INFO: 0 MiniSEED files [0.0 MB] already existed.\n",
      "[2021-11-25 00:47:23,642] - obspy.clients.fdsn.mass_downloader - INFO: 1 StationXML files [0.0 MB] already existed.\n",
      "[2021-11-25 00:47:23,642] - obspy.clients.fdsn.mass_downloader - INFO: Client 'GEONET' - Acquired 1 MiniSEED files [0.0 MB].\n",
      "[2021-11-25 00:47:23,642] - obspy.clients.fdsn.mass_downloader - INFO: Client 'GEONET' - Acquired 0 StationXML files [0.0 MB].\n",
      "[2021-11-25 00:47:23,643] - obspy.clients.fdsn.mass_downloader - INFO: Downloaded 0.0 MB in total.\n",
      "[2021-11-25 00:47:23,649] - obspy.clients.fdsn.mass_downloader - INFO: Initializing FDSN client(s) for GEONET.\n",
      "[2021-11-25 00:47:23,653] - obspy.clients.fdsn.mass_downloader - INFO: Successfully initialized 1 client(s): GEONET.\n",
      "[2021-11-25 00:47:23,654] - obspy.clients.fdsn.mass_downloader - INFO: Total acquired or preexisting stations: 0\n",
      "[2021-11-25 00:47:23,654] - obspy.clients.fdsn.mass_downloader - INFO: Client 'GEONET' - Requesting unreliable availability.\n"
     ]
    },
    {
     "name": "stdout",
     "output_type": "stream",
     "text": [
      "=================================================================\n",
      "Initiating mass download request.\n"
     ]
    },
    {
     "name": "stderr",
     "output_type": "stream",
     "text": [
      "[2021-11-25 00:47:24,761] - obspy.clients.fdsn.mass_downloader - INFO: Client 'GEONET' - Successfully requested availability (1.11 seconds)\n",
      "[2021-11-25 00:47:24,763] - obspy.clients.fdsn.mass_downloader - INFO: Client 'GEONET' - Found 1 stations (1 channels).\n",
      "[2021-11-25 00:47:24,763] - obspy.clients.fdsn.mass_downloader - INFO: Client 'GEONET' - Will attempt to download data from 1 stations.\n",
      "[2021-11-25 00:47:24,764] - obspy.clients.fdsn.mass_downloader - INFO: Client 'GEONET' - Status for 1 time intervals/channels before downloading: NEEDS_DOWNLOADING\n",
      "[2021-11-25 00:47:26,653] - obspy.clients.fdsn.mass_downloader - INFO: Client 'GEONET' - Successfully downloaded 1 channels (of 1)\n",
      "[2021-11-25 00:47:26,661] - obspy.clients.fdsn.mass_downloader - INFO: Client 'GEONET' - Launching basic QC checks...\n",
      "[2021-11-25 00:47:26,671] - obspy.clients.fdsn.mass_downloader - INFO: Client 'GEONET' - Downloaded 0.0 MB [2.11 KB/sec] of data, 0.0 MB of which were discarded afterwards.\n",
      "[2021-11-25 00:47:26,672] - obspy.clients.fdsn.mass_downloader - INFO: Client 'GEONET' - Status for 1 time intervals/channels after downloading: DOWNLOADED\n",
      "[2021-11-25 00:47:26,674] - obspy.clients.fdsn.mass_downloader - INFO: Client 'GEONET' - No station information to download.\n",
      "[2021-11-25 00:47:26,675] - obspy.clients.fdsn.mass_downloader - INFO: ============================== Final report\n",
      "[2021-11-25 00:47:26,675] - obspy.clients.fdsn.mass_downloader - INFO: 0 MiniSEED files [0.0 MB] already existed.\n",
      "[2021-11-25 00:47:26,676] - obspy.clients.fdsn.mass_downloader - INFO: 1 StationXML files [0.0 MB] already existed.\n",
      "[2021-11-25 00:47:26,676] - obspy.clients.fdsn.mass_downloader - INFO: Client 'GEONET' - Acquired 1 MiniSEED files [0.0 MB].\n",
      "[2021-11-25 00:47:26,677] - obspy.clients.fdsn.mass_downloader - INFO: Client 'GEONET' - Acquired 0 StationXML files [0.0 MB].\n",
      "[2021-11-25 00:47:26,678] - obspy.clients.fdsn.mass_downloader - INFO: Downloaded 0.0 MB in total.\n",
      "[2021-11-25 00:47:26,680] - obspy.clients.fdsn.mass_downloader - INFO: Initializing FDSN client(s) for GEONET.\n",
      "[2021-11-25 00:47:26,683] - obspy.clients.fdsn.mass_downloader - INFO: Successfully initialized 1 client(s): GEONET.\n",
      "[2021-11-25 00:47:26,684] - obspy.clients.fdsn.mass_downloader - INFO: Total acquired or preexisting stations: 0\n",
      "[2021-11-25 00:47:26,684] - obspy.clients.fdsn.mass_downloader - INFO: Client 'GEONET' - Requesting unreliable availability.\n"
     ]
    },
    {
     "name": "stdout",
     "output_type": "stream",
     "text": [
      "=================================================================\n",
      "Initiating mass download request.\n"
     ]
    },
    {
     "name": "stderr",
     "output_type": "stream",
     "text": [
      "[2021-11-25 00:47:27,232] - obspy.clients.fdsn.mass_downloader - INFO: Client 'GEONET' - Successfully requested availability (0.55 seconds)\n",
      "[2021-11-25 00:47:27,233] - obspy.clients.fdsn.mass_downloader - INFO: Client 'GEONET' - Found 1 stations (1 channels).\n",
      "[2021-11-25 00:47:27,233] - obspy.clients.fdsn.mass_downloader - INFO: Client 'GEONET' - Will attempt to download data from 1 stations.\n",
      "[2021-11-25 00:47:27,234] - obspy.clients.fdsn.mass_downloader - INFO: Client 'GEONET' - Status for 1 time intervals/channels before downloading: NEEDS_DOWNLOADING\n",
      "[2021-11-25 00:47:28,112] - obspy.clients.fdsn.mass_downloader - INFO: Client 'GEONET' - Successfully downloaded 1 channels (of 1)\n",
      "[2021-11-25 00:47:28,116] - obspy.clients.fdsn.mass_downloader - INFO: Client 'GEONET' - Launching basic QC checks...\n",
      "[2021-11-25 00:47:28,123] - obspy.clients.fdsn.mass_downloader - INFO: Client 'GEONET' - Downloaded 0.0 MB [3.41 KB/sec] of data, 0.0 MB of which were discarded afterwards.\n",
      "[2021-11-25 00:47:28,124] - obspy.clients.fdsn.mass_downloader - INFO: Client 'GEONET' - Status for 1 time intervals/channels after downloading: DOWNLOADED\n",
      "[2021-11-25 00:47:28,126] - obspy.clients.fdsn.mass_downloader - INFO: Client 'GEONET' - No station information to download.\n",
      "[2021-11-25 00:47:28,127] - obspy.clients.fdsn.mass_downloader - INFO: ============================== Final report\n",
      "[2021-11-25 00:47:28,127] - obspy.clients.fdsn.mass_downloader - INFO: 0 MiniSEED files [0.0 MB] already existed.\n",
      "[2021-11-25 00:47:28,127] - obspy.clients.fdsn.mass_downloader - INFO: 1 StationXML files [0.0 MB] already existed.\n",
      "[2021-11-25 00:47:28,128] - obspy.clients.fdsn.mass_downloader - INFO: Client 'GEONET' - Acquired 1 MiniSEED files [0.0 MB].\n",
      "[2021-11-25 00:47:28,128] - obspy.clients.fdsn.mass_downloader - INFO: Client 'GEONET' - Acquired 0 StationXML files [0.0 MB].\n",
      "[2021-11-25 00:47:28,128] - obspy.clients.fdsn.mass_downloader - INFO: Downloaded 0.0 MB in total.\n",
      "[2021-11-25 00:47:28,134] - obspy.clients.fdsn.mass_downloader - INFO: Initializing FDSN client(s) for GEONET.\n",
      "[2021-11-25 00:47:28,138] - obspy.clients.fdsn.mass_downloader - INFO: Successfully initialized 1 client(s): GEONET.\n",
      "[2021-11-25 00:47:28,138] - obspy.clients.fdsn.mass_downloader - INFO: Total acquired or preexisting stations: 0\n",
      "[2021-11-25 00:47:28,139] - obspy.clients.fdsn.mass_downloader - INFO: Client 'GEONET' - Requesting unreliable availability.\n"
     ]
    },
    {
     "name": "stdout",
     "output_type": "stream",
     "text": [
      "=================================================================\n",
      "Initiating mass download request.\n"
     ]
    },
    {
     "name": "stderr",
     "output_type": "stream",
     "text": [
      "[2021-11-25 00:47:28,757] - obspy.clients.fdsn.mass_downloader - INFO: Client 'GEONET' - Successfully requested availability (0.62 seconds)\n",
      "[2021-11-25 00:47:28,760] - obspy.clients.fdsn.mass_downloader - INFO: Client 'GEONET' - Found 1 stations (1 channels).\n",
      "[2021-11-25 00:47:28,760] - obspy.clients.fdsn.mass_downloader - INFO: Client 'GEONET' - Will attempt to download data from 1 stations.\n",
      "[2021-11-25 00:47:28,761] - obspy.clients.fdsn.mass_downloader - INFO: Client 'GEONET' - Status for 1 time intervals/channels before downloading: NEEDS_DOWNLOADING\n",
      "[2021-11-25 00:47:29,494] - obspy.clients.fdsn.mass_downloader - INFO: Client 'GEONET' - Successfully downloaded 1 channels (of 1)\n",
      "[2021-11-25 00:47:29,497] - obspy.clients.fdsn.mass_downloader - INFO: Client 'GEONET' - Launching basic QC checks...\n",
      "[2021-11-25 00:47:29,505] - obspy.clients.fdsn.mass_downloader - INFO: Client 'GEONET' - Downloaded 0.0 MB [3.41 KB/sec] of data, 0.0 MB of which were discarded afterwards.\n",
      "[2021-11-25 00:47:29,506] - obspy.clients.fdsn.mass_downloader - INFO: Client 'GEONET' - Status for 1 time intervals/channels after downloading: DOWNLOADED\n",
      "[2021-11-25 00:47:29,513] - obspy.clients.fdsn.mass_downloader - INFO: Client 'GEONET' - No station information to download.\n",
      "[2021-11-25 00:47:29,515] - obspy.clients.fdsn.mass_downloader - INFO: ============================== Final report\n",
      "[2021-11-25 00:47:29,515] - obspy.clients.fdsn.mass_downloader - INFO: 0 MiniSEED files [0.0 MB] already existed.\n",
      "[2021-11-25 00:47:29,517] - obspy.clients.fdsn.mass_downloader - INFO: 1 StationXML files [0.0 MB] already existed.\n",
      "[2021-11-25 00:47:29,517] - obspy.clients.fdsn.mass_downloader - INFO: Client 'GEONET' - Acquired 1 MiniSEED files [0.0 MB].\n",
      "[2021-11-25 00:47:29,521] - obspy.clients.fdsn.mass_downloader - INFO: Client 'GEONET' - Acquired 0 StationXML files [0.0 MB].\n",
      "[2021-11-25 00:47:29,521] - obspy.clients.fdsn.mass_downloader - INFO: Downloaded 0.0 MB in total.\n",
      "[2021-11-25 00:47:29,528] - obspy.clients.fdsn.mass_downloader - INFO: Initializing FDSN client(s) for GEONET.\n",
      "[2021-11-25 00:47:29,542] - obspy.clients.fdsn.mass_downloader - INFO: Successfully initialized 1 client(s): GEONET.\n",
      "[2021-11-25 00:47:29,544] - obspy.clients.fdsn.mass_downloader - INFO: Total acquired or preexisting stations: 0\n",
      "[2021-11-25 00:47:29,546] - obspy.clients.fdsn.mass_downloader - INFO: Client 'GEONET' - Requesting unreliable availability.\n"
     ]
    },
    {
     "name": "stdout",
     "output_type": "stream",
     "text": [
      "=================================================================\n",
      "Initiating mass download request.\n"
     ]
    },
    {
     "name": "stderr",
     "output_type": "stream",
     "text": [
      "[2021-11-25 00:47:30,144] - obspy.clients.fdsn.mass_downloader - INFO: Client 'GEONET' - Successfully requested availability (0.59 seconds)\n",
      "[2021-11-25 00:47:30,180] - obspy.clients.fdsn.mass_downloader - INFO: Client 'GEONET' - Found 1 stations (1 channels).\n",
      "[2021-11-25 00:47:30,186] - obspy.clients.fdsn.mass_downloader - INFO: Client 'GEONET' - Will attempt to download data from 1 stations.\n",
      "[2021-11-25 00:47:30,203] - obspy.clients.fdsn.mass_downloader - INFO: Client 'GEONET' - Status for 1 time intervals/channels before downloading: NEEDS_DOWNLOADING\n",
      "[2021-11-25 00:47:31,063] - obspy.clients.fdsn.mass_downloader - INFO: Client 'GEONET' - Successfully downloaded 1 channels (of 1)\n",
      "[2021-11-25 00:47:31,072] - obspy.clients.fdsn.mass_downloader - INFO: Client 'GEONET' - Launching basic QC checks...\n",
      "[2021-11-25 00:47:31,077] - obspy.clients.fdsn.mass_downloader - INFO: Client 'GEONET' - Downloaded 0.0 MB [3.55 KB/sec] of data, 0.0 MB of which were discarded afterwards.\n",
      "[2021-11-25 00:47:31,078] - obspy.clients.fdsn.mass_downloader - INFO: Client 'GEONET' - Status for 1 time intervals/channels after downloading: DOWNLOADED\n",
      "[2021-11-25 00:47:31,088] - obspy.clients.fdsn.mass_downloader - INFO: Client 'GEONET' - No station information to download.\n",
      "[2021-11-25 00:47:31,090] - obspy.clients.fdsn.mass_downloader - INFO: ============================== Final report\n",
      "[2021-11-25 00:47:31,090] - obspy.clients.fdsn.mass_downloader - INFO: 0 MiniSEED files [0.0 MB] already existed.\n",
      "[2021-11-25 00:47:31,090] - obspy.clients.fdsn.mass_downloader - INFO: 1 StationXML files [0.0 MB] already existed.\n",
      "[2021-11-25 00:47:31,091] - obspy.clients.fdsn.mass_downloader - INFO: Client 'GEONET' - Acquired 1 MiniSEED files [0.0 MB].\n",
      "[2021-11-25 00:47:31,092] - obspy.clients.fdsn.mass_downloader - INFO: Client 'GEONET' - Acquired 0 StationXML files [0.0 MB].\n",
      "[2021-11-25 00:47:31,092] - obspy.clients.fdsn.mass_downloader - INFO: Downloaded 0.0 MB in total.\n",
      "[2021-11-25 00:47:31,100] - obspy.clients.fdsn.mass_downloader - INFO: Initializing FDSN client(s) for GEONET.\n",
      "[2021-11-25 00:47:31,104] - obspy.clients.fdsn.mass_downloader - INFO: Successfully initialized 1 client(s): GEONET.\n",
      "[2021-11-25 00:47:31,105] - obspy.clients.fdsn.mass_downloader - INFO: Total acquired or preexisting stations: 0\n",
      "[2021-11-25 00:47:31,105] - obspy.clients.fdsn.mass_downloader - INFO: Client 'GEONET' - Requesting unreliable availability.\n"
     ]
    },
    {
     "name": "stdout",
     "output_type": "stream",
     "text": [
      "=================================================================\n",
      "Initiating mass download request.\n"
     ]
    },
    {
     "name": "stderr",
     "output_type": "stream",
     "text": [
      "[2021-11-25 00:47:31,659] - obspy.clients.fdsn.mass_downloader - INFO: Client 'GEONET' - No data available for request.\n",
      "[2021-11-25 00:47:31,660] - obspy.clients.fdsn.mass_downloader - INFO: Client 'GEONET' - No data available.\n",
      "[2021-11-25 00:47:31,660] - obspy.clients.fdsn.mass_downloader - INFO: ============================== Final report\n",
      "[2021-11-25 00:47:31,661] - obspy.clients.fdsn.mass_downloader - INFO: 0 MiniSEED files [0.0 MB] already existed.\n",
      "[2021-11-25 00:47:31,661] - obspy.clients.fdsn.mass_downloader - INFO: 0 StationXML files [0.0 MB] already existed.\n",
      "[2021-11-25 00:47:31,661] - obspy.clients.fdsn.mass_downloader - INFO: Client 'GEONET' - Acquired 0 MiniSEED files [0.0 MB].\n",
      "[2021-11-25 00:47:31,661] - obspy.clients.fdsn.mass_downloader - INFO: Client 'GEONET' - Acquired 0 StationXML files [0.0 MB].\n",
      "[2021-11-25 00:47:31,662] - obspy.clients.fdsn.mass_downloader - INFO: Downloaded 0.0 MB in total.\n",
      "[2021-11-25 00:47:31,663] - obspy.clients.fdsn.mass_downloader - INFO: Initializing FDSN client(s) for GEONET.\n",
      "[2021-11-25 00:47:31,665] - obspy.clients.fdsn.mass_downloader - INFO: Successfully initialized 1 client(s): GEONET.\n",
      "[2021-11-25 00:47:31,666] - obspy.clients.fdsn.mass_downloader - INFO: Total acquired or preexisting stations: 0\n",
      "[2021-11-25 00:47:31,666] - obspy.clients.fdsn.mass_downloader - INFO: Client 'GEONET' - Requesting unreliable availability.\n"
     ]
    },
    {
     "name": "stdout",
     "output_type": "stream",
     "text": [
      "=================================================================\n",
      "Initiating mass download request.\n"
     ]
    },
    {
     "name": "stderr",
     "output_type": "stream",
     "text": [
      "[2021-11-25 00:47:32,323] - obspy.clients.fdsn.mass_downloader - INFO: Client 'GEONET' - Successfully requested availability (0.66 seconds)\n",
      "[2021-11-25 00:47:32,326] - obspy.clients.fdsn.mass_downloader - INFO: Client 'GEONET' - Found 1 stations (1 channels).\n",
      "[2021-11-25 00:47:32,328] - obspy.clients.fdsn.mass_downloader - INFO: Client 'GEONET' - Will attempt to download data from 1 stations.\n",
      "[2021-11-25 00:47:32,330] - obspy.clients.fdsn.mass_downloader - INFO: Client 'GEONET' - Status for 1 time intervals/channels before downloading: NEEDS_DOWNLOADING\n",
      "[2021-11-25 00:47:33,293] - obspy.clients.fdsn.mass_downloader - INFO: Client 'GEONET' - Successfully downloaded 1 channels (of 1)\n",
      "[2021-11-25 00:47:33,295] - obspy.clients.fdsn.mass_downloader - INFO: Client 'GEONET' - Launching basic QC checks...\n",
      "[2021-11-25 00:47:33,298] - obspy.clients.fdsn.mass_downloader - INFO: Client 'GEONET' - Downloaded 0.0 MB [3.13 KB/sec] of data, 0.0 MB of which were discarded afterwards.\n",
      "[2021-11-25 00:47:33,299] - obspy.clients.fdsn.mass_downloader - INFO: Client 'GEONET' - Status for 1 time intervals/channels after downloading: DOWNLOADED\n",
      "[2021-11-25 00:47:33,304] - obspy.clients.fdsn.mass_downloader - INFO: Client 'GEONET' - No station information to download.\n",
      "[2021-11-25 00:47:33,307] - obspy.clients.fdsn.mass_downloader - INFO: ============================== Final report\n",
      "[2021-11-25 00:47:33,308] - obspy.clients.fdsn.mass_downloader - INFO: 0 MiniSEED files [0.0 MB] already existed.\n",
      "[2021-11-25 00:47:33,309] - obspy.clients.fdsn.mass_downloader - INFO: 1 StationXML files [0.0 MB] already existed.\n",
      "[2021-11-25 00:47:33,310] - obspy.clients.fdsn.mass_downloader - INFO: Client 'GEONET' - Acquired 1 MiniSEED files [0.0 MB].\n",
      "[2021-11-25 00:47:33,310] - obspy.clients.fdsn.mass_downloader - INFO: Client 'GEONET' - Acquired 0 StationXML files [0.0 MB].\n",
      "[2021-11-25 00:47:33,310] - obspy.clients.fdsn.mass_downloader - INFO: Downloaded 0.0 MB in total.\n",
      "[2021-11-25 00:47:33,313] - obspy.clients.fdsn.mass_downloader - INFO: Initializing FDSN client(s) for GEONET.\n",
      "[2021-11-25 00:47:33,319] - obspy.clients.fdsn.mass_downloader - INFO: Successfully initialized 1 client(s): GEONET.\n",
      "[2021-11-25 00:47:33,320] - obspy.clients.fdsn.mass_downloader - INFO: Total acquired or preexisting stations: 0\n",
      "[2021-11-25 00:47:33,320] - obspy.clients.fdsn.mass_downloader - INFO: Client 'GEONET' - Requesting unreliable availability.\n"
     ]
    },
    {
     "name": "stdout",
     "output_type": "stream",
     "text": [
      "=================================================================\n",
      "Initiating mass download request.\n"
     ]
    },
    {
     "name": "stderr",
     "output_type": "stream",
     "text": [
      "[2021-11-25 00:47:33,916] - obspy.clients.fdsn.mass_downloader - INFO: Client 'GEONET' - Successfully requested availability (0.60 seconds)\n",
      "[2021-11-25 00:47:33,933] - obspy.clients.fdsn.mass_downloader - INFO: Client 'GEONET' - Found 1 stations (1 channels).\n",
      "[2021-11-25 00:47:33,936] - obspy.clients.fdsn.mass_downloader - INFO: Client 'GEONET' - Will attempt to download data from 1 stations.\n",
      "[2021-11-25 00:47:33,945] - obspy.clients.fdsn.mass_downloader - INFO: Client 'GEONET' - Status for 1 time intervals/channels before downloading: NEEDS_DOWNLOADING\n",
      "[2021-11-25 00:47:34,907] - obspy.clients.fdsn.mass_downloader - INFO: Client 'GEONET' - Successfully downloaded 1 channels (of 1)\n",
      "[2021-11-25 00:47:34,915] - obspy.clients.fdsn.mass_downloader - INFO: Client 'GEONET' - Launching basic QC checks...\n",
      "[2021-11-25 00:47:34,932] - obspy.clients.fdsn.mass_downloader - INFO: Client 'GEONET' - Downloaded 0.0 MB [3.64 KB/sec] of data, 0.0 MB of which were discarded afterwards.\n",
      "[2021-11-25 00:47:34,934] - obspy.clients.fdsn.mass_downloader - INFO: Client 'GEONET' - Status for 1 time intervals/channels after downloading: DOWNLOADED\n",
      "[2021-11-25 00:47:34,941] - obspy.clients.fdsn.mass_downloader - INFO: Client 'GEONET' - No station information to download.\n",
      "[2021-11-25 00:47:34,946] - obspy.clients.fdsn.mass_downloader - INFO: ============================== Final report\n",
      "[2021-11-25 00:47:34,948] - obspy.clients.fdsn.mass_downloader - INFO: 0 MiniSEED files [0.0 MB] already existed.\n",
      "[2021-11-25 00:47:34,949] - obspy.clients.fdsn.mass_downloader - INFO: 1 StationXML files [0.0 MB] already existed.\n",
      "[2021-11-25 00:47:34,949] - obspy.clients.fdsn.mass_downloader - INFO: Client 'GEONET' - Acquired 1 MiniSEED files [0.0 MB].\n",
      "[2021-11-25 00:47:34,951] - obspy.clients.fdsn.mass_downloader - INFO: Client 'GEONET' - Acquired 0 StationXML files [0.0 MB].\n",
      "[2021-11-25 00:47:34,951] - obspy.clients.fdsn.mass_downloader - INFO: Downloaded 0.0 MB in total.\n",
      "[2021-11-25 00:47:34,960] - obspy.clients.fdsn.mass_downloader - INFO: Initializing FDSN client(s) for GEONET.\n",
      "[2021-11-25 00:47:34,968] - obspy.clients.fdsn.mass_downloader - INFO: Successfully initialized 1 client(s): GEONET.\n",
      "[2021-11-25 00:47:34,974] - obspy.clients.fdsn.mass_downloader - INFO: Total acquired or preexisting stations: 0\n",
      "[2021-11-25 00:47:34,976] - obspy.clients.fdsn.mass_downloader - INFO: Client 'GEONET' - Requesting unreliable availability.\n"
     ]
    },
    {
     "name": "stdout",
     "output_type": "stream",
     "text": [
      "=================================================================\n",
      "Initiating mass download request.\n"
     ]
    },
    {
     "name": "stderr",
     "output_type": "stream",
     "text": [
      "[2021-11-25 00:47:35,584] - obspy.clients.fdsn.mass_downloader - INFO: Client 'GEONET' - Successfully requested availability (0.61 seconds)\n",
      "[2021-11-25 00:47:35,585] - obspy.clients.fdsn.mass_downloader - INFO: Client 'GEONET' - Found 1 stations (1 channels).\n",
      "[2021-11-25 00:47:35,586] - obspy.clients.fdsn.mass_downloader - INFO: Client 'GEONET' - Will attempt to download data from 1 stations.\n",
      "[2021-11-25 00:47:35,586] - obspy.clients.fdsn.mass_downloader - INFO: Client 'GEONET' - Status for 1 time intervals/channels before downloading: NEEDS_DOWNLOADING\n",
      "[2021-11-25 00:47:36,530] - obspy.clients.fdsn.mass_downloader - INFO: Client 'GEONET' - Successfully downloaded 1 channels (of 1)\n",
      "[2021-11-25 00:47:36,533] - obspy.clients.fdsn.mass_downloader - INFO: Client 'GEONET' - Launching basic QC checks...\n",
      "[2021-11-25 00:47:36,542] - obspy.clients.fdsn.mass_downloader - INFO: Client 'GEONET' - Downloaded 0.0 MB [3.17 KB/sec] of data, 0.0 MB of which were discarded afterwards.\n",
      "[2021-11-25 00:47:36,543] - obspy.clients.fdsn.mass_downloader - INFO: Client 'GEONET' - Status for 1 time intervals/channels after downloading: DOWNLOADED\n",
      "[2021-11-25 00:47:36,548] - obspy.clients.fdsn.mass_downloader - INFO: Client 'GEONET' - No station information to download.\n",
      "[2021-11-25 00:47:36,549] - obspy.clients.fdsn.mass_downloader - INFO: ============================== Final report\n",
      "[2021-11-25 00:47:36,549] - obspy.clients.fdsn.mass_downloader - INFO: 0 MiniSEED files [0.0 MB] already existed.\n",
      "[2021-11-25 00:47:36,549] - obspy.clients.fdsn.mass_downloader - INFO: 1 StationXML files [0.0 MB] already existed.\n",
      "[2021-11-25 00:47:36,550] - obspy.clients.fdsn.mass_downloader - INFO: Client 'GEONET' - Acquired 1 MiniSEED files [0.0 MB].\n",
      "[2021-11-25 00:47:36,550] - obspy.clients.fdsn.mass_downloader - INFO: Client 'GEONET' - Acquired 0 StationXML files [0.0 MB].\n",
      "[2021-11-25 00:47:36,550] - obspy.clients.fdsn.mass_downloader - INFO: Downloaded 0.0 MB in total.\n",
      "[2021-11-25 00:47:36,552] - obspy.clients.fdsn.mass_downloader - INFO: Initializing FDSN client(s) for GEONET.\n",
      "[2021-11-25 00:47:36,556] - obspy.clients.fdsn.mass_downloader - INFO: Successfully initialized 1 client(s): GEONET.\n",
      "[2021-11-25 00:47:36,559] - obspy.clients.fdsn.mass_downloader - INFO: Total acquired or preexisting stations: 0\n",
      "[2021-11-25 00:47:36,560] - obspy.clients.fdsn.mass_downloader - INFO: Client 'GEONET' - Requesting unreliable availability.\n"
     ]
    },
    {
     "name": "stdout",
     "output_type": "stream",
     "text": [
      "=================================================================\n",
      "Initiating mass download request.\n"
     ]
    },
    {
     "name": "stderr",
     "output_type": "stream",
     "text": [
      "[2021-11-25 00:47:37,110] - obspy.clients.fdsn.mass_downloader - INFO: Client 'GEONET' - Successfully requested availability (0.55 seconds)\n",
      "[2021-11-25 00:47:37,111] - obspy.clients.fdsn.mass_downloader - INFO: Client 'GEONET' - Found 1 stations (1 channels).\n",
      "[2021-11-25 00:47:37,111] - obspy.clients.fdsn.mass_downloader - INFO: Client 'GEONET' - Will attempt to download data from 1 stations.\n",
      "[2021-11-25 00:47:37,112] - obspy.clients.fdsn.mass_downloader - INFO: Client 'GEONET' - Status for 1 time intervals/channels before downloading: NEEDS_DOWNLOADING\n",
      "[2021-11-25 00:47:37,917] - obspy.clients.fdsn.mass_downloader - INFO: Client 'GEONET' - Successfully downloaded 1 channels (of 1)\n",
      "[2021-11-25 00:47:37,924] - obspy.clients.fdsn.mass_downloader - INFO: Client 'GEONET' - Launching basic QC checks...\n",
      "[2021-11-25 00:47:37,938] - obspy.clients.fdsn.mass_downloader - INFO: Client 'GEONET' - Downloaded 0.0 MB [3.08 KB/sec] of data, 0.0 MB of which were discarded afterwards.\n",
      "[2021-11-25 00:47:37,939] - obspy.clients.fdsn.mass_downloader - INFO: Client 'GEONET' - Status for 1 time intervals/channels after downloading: DOWNLOADED\n",
      "[2021-11-25 00:47:37,944] - obspy.clients.fdsn.mass_downloader - INFO: Client 'GEONET' - No station information to download.\n",
      "[2021-11-25 00:47:37,945] - obspy.clients.fdsn.mass_downloader - INFO: ============================== Final report\n",
      "[2021-11-25 00:47:37,945] - obspy.clients.fdsn.mass_downloader - INFO: 0 MiniSEED files [0.0 MB] already existed.\n",
      "[2021-11-25 00:47:37,946] - obspy.clients.fdsn.mass_downloader - INFO: 1 StationXML files [0.0 MB] already existed.\n",
      "[2021-11-25 00:47:37,946] - obspy.clients.fdsn.mass_downloader - INFO: Client 'GEONET' - Acquired 1 MiniSEED files [0.0 MB].\n",
      "[2021-11-25 00:47:37,946] - obspy.clients.fdsn.mass_downloader - INFO: Client 'GEONET' - Acquired 0 StationXML files [0.0 MB].\n",
      "[2021-11-25 00:47:37,947] - obspy.clients.fdsn.mass_downloader - INFO: Downloaded 0.0 MB in total.\n",
      "[2021-11-25 00:47:37,955] - obspy.clients.fdsn.mass_downloader - INFO: Initializing FDSN client(s) for GEONET.\n",
      "[2021-11-25 00:47:37,959] - obspy.clients.fdsn.mass_downloader - INFO: Successfully initialized 1 client(s): GEONET.\n",
      "[2021-11-25 00:47:37,960] - obspy.clients.fdsn.mass_downloader - INFO: Total acquired or preexisting stations: 0\n",
      "[2021-11-25 00:47:37,960] - obspy.clients.fdsn.mass_downloader - INFO: Client 'GEONET' - Requesting unreliable availability.\n"
     ]
    },
    {
     "name": "stdout",
     "output_type": "stream",
     "text": [
      "=================================================================\n",
      "Initiating mass download request.\n"
     ]
    },
    {
     "name": "stderr",
     "output_type": "stream",
     "text": [
      "[2021-11-25 00:47:38,582] - obspy.clients.fdsn.mass_downloader - INFO: Client 'GEONET' - Successfully requested availability (0.62 seconds)\n",
      "[2021-11-25 00:47:38,604] - obspy.clients.fdsn.mass_downloader - INFO: Client 'GEONET' - Found 1 stations (1 channels).\n",
      "[2021-11-25 00:47:38,607] - obspy.clients.fdsn.mass_downloader - INFO: Client 'GEONET' - Will attempt to download data from 1 stations.\n",
      "[2021-11-25 00:47:38,613] - obspy.clients.fdsn.mass_downloader - INFO: Client 'GEONET' - Status for 1 time intervals/channels before downloading: NEEDS_DOWNLOADING\n",
      "[2021-11-25 00:47:39,577] - obspy.clients.fdsn.mass_downloader - INFO: Client 'GEONET' - Successfully downloaded 1 channels (of 1)\n",
      "[2021-11-25 00:47:39,582] - obspy.clients.fdsn.mass_downloader - INFO: Client 'GEONET' - Launching basic QC checks...\n",
      "[2021-11-25 00:47:39,592] - obspy.clients.fdsn.mass_downloader - INFO: Client 'GEONET' - Downloaded 0.0 MB [3.66 KB/sec] of data, 0.0 MB of which were discarded afterwards.\n",
      "[2021-11-25 00:47:39,593] - obspy.clients.fdsn.mass_downloader - INFO: Client 'GEONET' - Status for 1 time intervals/channels after downloading: DOWNLOADED\n",
      "[2021-11-25 00:47:39,599] - obspy.clients.fdsn.mass_downloader - INFO: Client 'GEONET' - No station information to download.\n",
      "[2021-11-25 00:47:39,601] - obspy.clients.fdsn.mass_downloader - INFO: ============================== Final report\n",
      "[2021-11-25 00:47:39,601] - obspy.clients.fdsn.mass_downloader - INFO: 0 MiniSEED files [0.0 MB] already existed.\n",
      "[2021-11-25 00:47:39,601] - obspy.clients.fdsn.mass_downloader - INFO: 1 StationXML files [0.0 MB] already existed.\n",
      "[2021-11-25 00:47:39,602] - obspy.clients.fdsn.mass_downloader - INFO: Client 'GEONET' - Acquired 1 MiniSEED files [0.0 MB].\n",
      "[2021-11-25 00:47:39,602] - obspy.clients.fdsn.mass_downloader - INFO: Client 'GEONET' - Acquired 0 StationXML files [0.0 MB].\n",
      "[2021-11-25 00:47:39,603] - obspy.clients.fdsn.mass_downloader - INFO: Downloaded 0.0 MB in total.\n",
      "[2021-11-25 00:47:39,610] - obspy.clients.fdsn.mass_downloader - INFO: Initializing FDSN client(s) for GEONET.\n",
      "[2021-11-25 00:47:39,615] - obspy.clients.fdsn.mass_downloader - INFO: Successfully initialized 1 client(s): GEONET.\n",
      "[2021-11-25 00:47:39,616] - obspy.clients.fdsn.mass_downloader - INFO: Total acquired or preexisting stations: 0\n",
      "[2021-11-25 00:47:39,616] - obspy.clients.fdsn.mass_downloader - INFO: Client 'GEONET' - Requesting unreliable availability.\n"
     ]
    },
    {
     "name": "stdout",
     "output_type": "stream",
     "text": [
      "=================================================================\n",
      "Initiating mass download request.\n"
     ]
    },
    {
     "name": "stderr",
     "output_type": "stream",
     "text": [
      "[2021-11-25 00:47:40,166] - obspy.clients.fdsn.mass_downloader - INFO: Client 'GEONET' - Successfully requested availability (0.55 seconds)\n",
      "[2021-11-25 00:47:40,168] - obspy.clients.fdsn.mass_downloader - INFO: Client 'GEONET' - Found 1 stations (1 channels).\n",
      "[2021-11-25 00:47:40,169] - obspy.clients.fdsn.mass_downloader - INFO: Client 'GEONET' - Will attempt to download data from 1 stations.\n",
      "[2021-11-25 00:47:40,169] - obspy.clients.fdsn.mass_downloader - INFO: Client 'GEONET' - Status for 1 time intervals/channels before downloading: NEEDS_DOWNLOADING\n",
      "[2021-11-25 00:47:41,110] - obspy.clients.fdsn.mass_downloader - INFO: Client 'GEONET' - Successfully downloaded 1 channels (of 1)\n",
      "[2021-11-25 00:47:41,113] - obspy.clients.fdsn.mass_downloader - INFO: Client 'GEONET' - Launching basic QC checks...\n",
      "[2021-11-25 00:47:41,121] - obspy.clients.fdsn.mass_downloader - INFO: Client 'GEONET' - Downloaded 0.0 MB [3.19 KB/sec] of data, 0.0 MB of which were discarded afterwards.\n",
      "[2021-11-25 00:47:41,121] - obspy.clients.fdsn.mass_downloader - INFO: Client 'GEONET' - Status for 1 time intervals/channels after downloading: DOWNLOADED\n",
      "[2021-11-25 00:47:41,123] - obspy.clients.fdsn.mass_downloader - INFO: Client 'GEONET' - No station information to download.\n",
      "[2021-11-25 00:47:41,124] - obspy.clients.fdsn.mass_downloader - INFO: ============================== Final report\n",
      "[2021-11-25 00:47:41,125] - obspy.clients.fdsn.mass_downloader - INFO: 0 MiniSEED files [0.0 MB] already existed.\n",
      "[2021-11-25 00:47:41,125] - obspy.clients.fdsn.mass_downloader - INFO: 1 StationXML files [0.0 MB] already existed.\n",
      "[2021-11-25 00:47:41,125] - obspy.clients.fdsn.mass_downloader - INFO: Client 'GEONET' - Acquired 1 MiniSEED files [0.0 MB].\n",
      "[2021-11-25 00:47:41,125] - obspy.clients.fdsn.mass_downloader - INFO: Client 'GEONET' - Acquired 0 StationXML files [0.0 MB].\n",
      "[2021-11-25 00:47:41,126] - obspy.clients.fdsn.mass_downloader - INFO: Downloaded 0.0 MB in total.\n",
      "[2021-11-25 00:47:41,128] - obspy.clients.fdsn.mass_downloader - INFO: Initializing FDSN client(s) for GEONET.\n",
      "[2021-11-25 00:47:41,135] - obspy.clients.fdsn.mass_downloader - INFO: Successfully initialized 1 client(s): GEONET.\n",
      "[2021-11-25 00:47:41,135] - obspy.clients.fdsn.mass_downloader - INFO: Total acquired or preexisting stations: 0\n",
      "[2021-11-25 00:47:41,135] - obspy.clients.fdsn.mass_downloader - INFO: Client 'GEONET' - Requesting unreliable availability.\n"
     ]
    },
    {
     "name": "stdout",
     "output_type": "stream",
     "text": [
      "=================================================================\n",
      "Initiating mass download request.\n"
     ]
    },
    {
     "name": "stderr",
     "output_type": "stream",
     "text": [
      "[2021-11-25 00:47:41,692] - obspy.clients.fdsn.mass_downloader - INFO: Client 'GEONET' - Successfully requested availability (0.55 seconds)\n",
      "[2021-11-25 00:47:41,699] - obspy.clients.fdsn.mass_downloader - INFO: Client 'GEONET' - Found 1 stations (1 channels).\n",
      "[2021-11-25 00:47:41,707] - obspy.clients.fdsn.mass_downloader - INFO: Client 'GEONET' - Will attempt to download data from 1 stations.\n",
      "[2021-11-25 00:47:41,712] - obspy.clients.fdsn.mass_downloader - INFO: Client 'GEONET' - Status for 1 time intervals/channels before downloading: NEEDS_DOWNLOADING\n",
      "[2021-11-25 00:47:42,464] - obspy.clients.fdsn.mass_downloader - INFO: Client 'GEONET' - Successfully downloaded 1 channels (of 1)\n",
      "[2021-11-25 00:47:42,472] - obspy.clients.fdsn.mass_downloader - INFO: Client 'GEONET' - Launching basic QC checks...\n",
      "[2021-11-25 00:47:42,496] - obspy.clients.fdsn.mass_downloader - INFO: Client 'GEONET' - Downloaded 0.0 MB [3.34 KB/sec] of data, 0.0 MB of which were discarded afterwards.\n",
      "[2021-11-25 00:47:42,497] - obspy.clients.fdsn.mass_downloader - INFO: Client 'GEONET' - Status for 1 time intervals/channels after downloading: DOWNLOADED\n",
      "[2021-11-25 00:47:42,503] - obspy.clients.fdsn.mass_downloader - INFO: Client 'GEONET' - No station information to download.\n",
      "[2021-11-25 00:47:42,513] - obspy.clients.fdsn.mass_downloader - INFO: ============================== Final report\n",
      "[2021-11-25 00:47:42,515] - obspy.clients.fdsn.mass_downloader - INFO: 0 MiniSEED files [0.0 MB] already existed.\n",
      "[2021-11-25 00:47:42,516] - obspy.clients.fdsn.mass_downloader - INFO: 1 StationXML files [0.0 MB] already existed.\n",
      "[2021-11-25 00:47:42,516] - obspy.clients.fdsn.mass_downloader - INFO: Client 'GEONET' - Acquired 1 MiniSEED files [0.0 MB].\n",
      "[2021-11-25 00:47:42,517] - obspy.clients.fdsn.mass_downloader - INFO: Client 'GEONET' - Acquired 0 StationXML files [0.0 MB].\n",
      "[2021-11-25 00:47:42,517] - obspy.clients.fdsn.mass_downloader - INFO: Downloaded 0.0 MB in total.\n",
      "[2021-11-25 00:47:42,522] - obspy.clients.fdsn.mass_downloader - INFO: Initializing FDSN client(s) for GEONET.\n",
      "[2021-11-25 00:47:42,531] - obspy.clients.fdsn.mass_downloader - INFO: Successfully initialized 1 client(s): GEONET.\n",
      "[2021-11-25 00:47:42,532] - obspy.clients.fdsn.mass_downloader - INFO: Total acquired or preexisting stations: 0\n",
      "[2021-11-25 00:47:42,533] - obspy.clients.fdsn.mass_downloader - INFO: Client 'GEONET' - Requesting unreliable availability.\n"
     ]
    },
    {
     "name": "stdout",
     "output_type": "stream",
     "text": [
      "=================================================================\n",
      "Initiating mass download request.\n"
     ]
    },
    {
     "name": "stderr",
     "output_type": "stream",
     "text": [
      "[2021-11-25 00:47:43,790] - obspy.clients.fdsn.mass_downloader - INFO: Client 'GEONET' - Successfully requested availability (1.26 seconds)\n",
      "[2021-11-25 00:47:43,797] - obspy.clients.fdsn.mass_downloader - INFO: Client 'GEONET' - Found 1 stations (1 channels).\n",
      "[2021-11-25 00:47:43,800] - obspy.clients.fdsn.mass_downloader - INFO: Client 'GEONET' - Will attempt to download data from 1 stations.\n",
      "[2021-11-25 00:47:43,802] - obspy.clients.fdsn.mass_downloader - INFO: Client 'GEONET' - Status for 1 time intervals/channels before downloading: NEEDS_DOWNLOADING\n",
      "[2021-11-25 00:47:44,867] - obspy.clients.fdsn.mass_downloader - INFO: Client 'GEONET' - Successfully downloaded 1 channels (of 1)\n",
      "[2021-11-25 00:47:44,880] - obspy.clients.fdsn.mass_downloader - INFO: Client 'GEONET' - Launching basic QC checks...\n",
      "[2021-11-25 00:47:44,899] - obspy.clients.fdsn.mass_downloader - INFO: Client 'GEONET' - Downloaded 0.0 MB [3.73 KB/sec] of data, 0.0 MB of which were discarded afterwards.\n",
      "[2021-11-25 00:47:44,901] - obspy.clients.fdsn.mass_downloader - INFO: Client 'GEONET' - Status for 1 time intervals/channels after downloading: DOWNLOADED\n",
      "[2021-11-25 00:47:44,905] - obspy.clients.fdsn.mass_downloader - INFO: Client 'GEONET' - No station information to download.\n",
      "[2021-11-25 00:47:44,910] - obspy.clients.fdsn.mass_downloader - INFO: ============================== Final report\n",
      "[2021-11-25 00:47:44,910] - obspy.clients.fdsn.mass_downloader - INFO: 0 MiniSEED files [0.0 MB] already existed.\n",
      "[2021-11-25 00:47:44,911] - obspy.clients.fdsn.mass_downloader - INFO: 1 StationXML files [0.0 MB] already existed.\n",
      "[2021-11-25 00:47:44,911] - obspy.clients.fdsn.mass_downloader - INFO: Client 'GEONET' - Acquired 1 MiniSEED files [0.0 MB].\n",
      "[2021-11-25 00:47:44,912] - obspy.clients.fdsn.mass_downloader - INFO: Client 'GEONET' - Acquired 0 StationXML files [0.0 MB].\n",
      "[2021-11-25 00:47:44,912] - obspy.clients.fdsn.mass_downloader - INFO: Downloaded 0.0 MB in total.\n",
      "[2021-11-25 00:47:44,923] - obspy.clients.fdsn.mass_downloader - INFO: Initializing FDSN client(s) for GEONET.\n",
      "[2021-11-25 00:47:44,938] - obspy.clients.fdsn.mass_downloader - INFO: Successfully initialized 1 client(s): GEONET.\n",
      "[2021-11-25 00:47:44,939] - obspy.clients.fdsn.mass_downloader - INFO: Total acquired or preexisting stations: 0\n",
      "[2021-11-25 00:47:44,940] - obspy.clients.fdsn.mass_downloader - INFO: Client 'GEONET' - Requesting unreliable availability.\n"
     ]
    },
    {
     "name": "stdout",
     "output_type": "stream",
     "text": [
      "=================================================================\n",
      "Initiating mass download request.\n"
     ]
    },
    {
     "name": "stderr",
     "output_type": "stream",
     "text": [
      "[2021-11-25 00:47:45,497] - obspy.clients.fdsn.mass_downloader - INFO: Client 'GEONET' - Successfully requested availability (0.56 seconds)\n",
      "[2021-11-25 00:47:45,503] - obspy.clients.fdsn.mass_downloader - INFO: Client 'GEONET' - Found 1 stations (1 channels).\n",
      "[2021-11-25 00:47:45,503] - obspy.clients.fdsn.mass_downloader - INFO: Client 'GEONET' - Will attempt to download data from 1 stations.\n",
      "[2021-11-25 00:47:45,504] - obspy.clients.fdsn.mass_downloader - INFO: Client 'GEONET' - Status for 1 time intervals/channels before downloading: NEEDS_DOWNLOADING\n",
      "[2021-11-25 00:47:46,608] - obspy.clients.fdsn.mass_downloader - INFO: Client 'GEONET' - Successfully downloaded 1 channels (of 1)\n",
      "[2021-11-25 00:47:46,614] - obspy.clients.fdsn.mass_downloader - INFO: Client 'GEONET' - Launching basic QC checks...\n",
      "[2021-11-25 00:47:46,626] - obspy.clients.fdsn.mass_downloader - INFO: Client 'GEONET' - Downloaded 0.0 MB [3.61 KB/sec] of data, 0.0 MB of which were discarded afterwards.\n",
      "[2021-11-25 00:47:46,626] - obspy.clients.fdsn.mass_downloader - INFO: Client 'GEONET' - Status for 1 time intervals/channels after downloading: DOWNLOADED\n",
      "[2021-11-25 00:47:46,629] - obspy.clients.fdsn.mass_downloader - INFO: Client 'GEONET' - No station information to download.\n",
      "[2021-11-25 00:47:46,633] - obspy.clients.fdsn.mass_downloader - INFO: ============================== Final report\n",
      "[2021-11-25 00:47:46,634] - obspy.clients.fdsn.mass_downloader - INFO: 0 MiniSEED files [0.0 MB] already existed.\n",
      "[2021-11-25 00:47:46,634] - obspy.clients.fdsn.mass_downloader - INFO: 1 StationXML files [0.0 MB] already existed.\n",
      "[2021-11-25 00:47:46,635] - obspy.clients.fdsn.mass_downloader - INFO: Client 'GEONET' - Acquired 1 MiniSEED files [0.0 MB].\n",
      "[2021-11-25 00:47:46,635] - obspy.clients.fdsn.mass_downloader - INFO: Client 'GEONET' - Acquired 0 StationXML files [0.0 MB].\n",
      "[2021-11-25 00:47:46,635] - obspy.clients.fdsn.mass_downloader - INFO: Downloaded 0.0 MB in total.\n",
      "[2021-11-25 00:47:46,638] - obspy.clients.fdsn.mass_downloader - INFO: Initializing FDSN client(s) for GEONET.\n",
      "[2021-11-25 00:47:46,647] - obspy.clients.fdsn.mass_downloader - INFO: Successfully initialized 1 client(s): GEONET.\n",
      "[2021-11-25 00:47:46,648] - obspy.clients.fdsn.mass_downloader - INFO: Total acquired or preexisting stations: 0\n",
      "[2021-11-25 00:47:46,648] - obspy.clients.fdsn.mass_downloader - INFO: Client 'GEONET' - Requesting unreliable availability.\n"
     ]
    },
    {
     "name": "stdout",
     "output_type": "stream",
     "text": [
      "=================================================================\n",
      "Initiating mass download request.\n"
     ]
    },
    {
     "name": "stderr",
     "output_type": "stream",
     "text": [
      "[2021-11-25 00:47:47,208] - obspy.clients.fdsn.mass_downloader - INFO: Client 'GEONET' - Successfully requested availability (0.56 seconds)\n",
      "[2021-11-25 00:47:47,210] - obspy.clients.fdsn.mass_downloader - INFO: Client 'GEONET' - Found 1 stations (1 channels).\n",
      "[2021-11-25 00:47:47,210] - obspy.clients.fdsn.mass_downloader - INFO: Client 'GEONET' - Will attempt to download data from 1 stations.\n",
      "[2021-11-25 00:47:47,210] - obspy.clients.fdsn.mass_downloader - INFO: Client 'GEONET' - Status for 1 time intervals/channels before downloading: NEEDS_DOWNLOADING\n",
      "[2021-11-25 00:47:48,071] - obspy.clients.fdsn.mass_downloader - INFO: Client 'GEONET' - Successfully downloaded 1 channels (of 1)\n",
      "[2021-11-25 00:47:48,080] - obspy.clients.fdsn.mass_downloader - INFO: Client 'GEONET' - Launching basic QC checks...\n",
      "[2021-11-25 00:47:48,098] - obspy.clients.fdsn.mass_downloader - INFO: Client 'GEONET' - Downloaded 0.0 MB [4.03 KB/sec] of data, 0.0 MB of which were discarded afterwards.\n",
      "[2021-11-25 00:47:48,099] - obspy.clients.fdsn.mass_downloader - INFO: Client 'GEONET' - Status for 1 time intervals/channels after downloading: DOWNLOADED\n",
      "[2021-11-25 00:47:48,101] - obspy.clients.fdsn.mass_downloader - INFO: Client 'GEONET' - No station information to download.\n",
      "[2021-11-25 00:47:48,106] - obspy.clients.fdsn.mass_downloader - INFO: ============================== Final report\n",
      "[2021-11-25 00:47:48,108] - obspy.clients.fdsn.mass_downloader - INFO: 0 MiniSEED files [0.0 MB] already existed.\n",
      "[2021-11-25 00:47:48,109] - obspy.clients.fdsn.mass_downloader - INFO: 1 StationXML files [0.0 MB] already existed.\n",
      "[2021-11-25 00:47:48,109] - obspy.clients.fdsn.mass_downloader - INFO: Client 'GEONET' - Acquired 1 MiniSEED files [0.0 MB].\n",
      "[2021-11-25 00:47:48,110] - obspy.clients.fdsn.mass_downloader - INFO: Client 'GEONET' - Acquired 0 StationXML files [0.0 MB].\n",
      "[2021-11-25 00:47:48,112] - obspy.clients.fdsn.mass_downloader - INFO: Downloaded 0.0 MB in total.\n",
      "[2021-11-25 00:47:48,117] - obspy.clients.fdsn.mass_downloader - INFO: Initializing FDSN client(s) for GEONET.\n",
      "[2021-11-25 00:47:48,132] - obspy.clients.fdsn.mass_downloader - INFO: Successfully initialized 1 client(s): GEONET.\n",
      "[2021-11-25 00:47:48,133] - obspy.clients.fdsn.mass_downloader - INFO: Total acquired or preexisting stations: 0\n",
      "[2021-11-25 00:47:48,134] - obspy.clients.fdsn.mass_downloader - INFO: Client 'GEONET' - Requesting unreliable availability.\n"
     ]
    },
    {
     "name": "stdout",
     "output_type": "stream",
     "text": [
      "=================================================================\n",
      "Initiating mass download request.\n"
     ]
    },
    {
     "name": "stderr",
     "output_type": "stream",
     "text": [
      "[2021-11-25 00:47:48,696] - obspy.clients.fdsn.mass_downloader - INFO: Client 'GEONET' - Successfully requested availability (0.56 seconds)\n",
      "[2021-11-25 00:47:48,704] - obspy.clients.fdsn.mass_downloader - INFO: Client 'GEONET' - Found 1 stations (1 channels).\n",
      "[2021-11-25 00:47:48,706] - obspy.clients.fdsn.mass_downloader - INFO: Client 'GEONET' - Will attempt to download data from 1 stations.\n",
      "[2021-11-25 00:47:48,708] - obspy.clients.fdsn.mass_downloader - INFO: Client 'GEONET' - Status for 1 time intervals/channels before downloading: NEEDS_DOWNLOADING\n",
      "[2021-11-25 00:47:49,326] - obspy.clients.fdsn.mass_downloader - INFO: Client 'GEONET' - No data available for request.\n",
      "[2021-11-25 00:47:49,327] - obspy.clients.fdsn.mass_downloader - INFO: Client 'GEONET' - Launching basic QC checks...\n",
      "[2021-11-25 00:47:49,328] - obspy.clients.fdsn.mass_downloader - INFO: Client 'GEONET' - Downloaded 0.0 MB [0.00 KB/sec] of data, 0.0 MB of which were discarded afterwards.\n",
      "[2021-11-25 00:47:49,329] - obspy.clients.fdsn.mass_downloader - INFO: Client 'GEONET' - Status for 1 time intervals/channels after downloading: DOWNLOAD_FAILED\n",
      "[2021-11-25 00:47:49,334] - obspy.clients.fdsn.mass_downloader - INFO: Client 'GEONET' - No station information to download.\n",
      "[2021-11-25 00:47:49,335] - obspy.clients.fdsn.mass_downloader - INFO: Client 'GEONET' - No data could be downloaded.\n",
      "[2021-11-25 00:47:49,335] - obspy.clients.fdsn.mass_downloader - INFO: ============================== Final report\n",
      "[2021-11-25 00:47:49,336] - obspy.clients.fdsn.mass_downloader - INFO: 0 MiniSEED files [0.0 MB] already existed.\n",
      "[2021-11-25 00:47:49,337] - obspy.clients.fdsn.mass_downloader - INFO: 0 StationXML files [0.0 MB] already existed.\n",
      "[2021-11-25 00:47:49,338] - obspy.clients.fdsn.mass_downloader - INFO: Client 'GEONET' - Acquired 0 MiniSEED files [0.0 MB].\n",
      "[2021-11-25 00:47:49,338] - obspy.clients.fdsn.mass_downloader - INFO: Client 'GEONET' - Acquired 0 StationXML files [0.0 MB].\n",
      "[2021-11-25 00:47:49,338] - obspy.clients.fdsn.mass_downloader - INFO: Downloaded 0.0 MB in total.\n",
      "[2021-11-25 00:47:49,346] - obspy.clients.fdsn.mass_downloader - INFO: Initializing FDSN client(s) for GEONET.\n",
      "[2021-11-25 00:47:49,350] - obspy.clients.fdsn.mass_downloader - INFO: Successfully initialized 1 client(s): GEONET.\n",
      "[2021-11-25 00:47:49,351] - obspy.clients.fdsn.mass_downloader - INFO: Total acquired or preexisting stations: 0\n",
      "[2021-11-25 00:47:49,351] - obspy.clients.fdsn.mass_downloader - INFO: Client 'GEONET' - Requesting unreliable availability.\n"
     ]
    },
    {
     "name": "stdout",
     "output_type": "stream",
     "text": [
      "=================================================================\n",
      "Initiating mass download request.\n"
     ]
    },
    {
     "name": "stderr",
     "output_type": "stream",
     "text": [
      "[2021-11-25 00:47:49,902] - obspy.clients.fdsn.mass_downloader - INFO: Client 'GEONET' - Successfully requested availability (0.55 seconds)\n",
      "[2021-11-25 00:47:49,909] - obspy.clients.fdsn.mass_downloader - INFO: Client 'GEONET' - Found 1 stations (1 channels).\n",
      "[2021-11-25 00:47:49,922] - obspy.clients.fdsn.mass_downloader - INFO: Client 'GEONET' - Will attempt to download data from 1 stations.\n",
      "[2021-11-25 00:47:49,937] - obspy.clients.fdsn.mass_downloader - INFO: Client 'GEONET' - Status for 1 time intervals/channels before downloading: NEEDS_DOWNLOADING\n",
      "[2021-11-25 00:47:50,801] - obspy.clients.fdsn.mass_downloader - INFO: Client 'GEONET' - Successfully downloaded 1 channels (of 1)\n",
      "[2021-11-25 00:47:50,810] - obspy.clients.fdsn.mass_downloader - INFO: Client 'GEONET' - Launching basic QC checks...\n",
      "[2021-11-25 00:47:50,823] - obspy.clients.fdsn.mass_downloader - INFO: Client 'GEONET' - Downloaded 0.0 MB [2.92 KB/sec] of data, 0.0 MB of which were discarded afterwards.\n",
      "[2021-11-25 00:47:50,826] - obspy.clients.fdsn.mass_downloader - INFO: Client 'GEONET' - Status for 1 time intervals/channels after downloading: DOWNLOADED\n",
      "[2021-11-25 00:47:50,833] - obspy.clients.fdsn.mass_downloader - INFO: Client 'GEONET' - No station information to download.\n",
      "[2021-11-25 00:47:50,836] - obspy.clients.fdsn.mass_downloader - INFO: ============================== Final report\n",
      "[2021-11-25 00:47:50,837] - obspy.clients.fdsn.mass_downloader - INFO: 0 MiniSEED files [0.0 MB] already existed.\n",
      "[2021-11-25 00:47:50,838] - obspy.clients.fdsn.mass_downloader - INFO: 1 StationXML files [0.0 MB] already existed.\n",
      "[2021-11-25 00:47:50,838] - obspy.clients.fdsn.mass_downloader - INFO: Client 'GEONET' - Acquired 1 MiniSEED files [0.0 MB].\n",
      "[2021-11-25 00:47:50,839] - obspy.clients.fdsn.mass_downloader - INFO: Client 'GEONET' - Acquired 0 StationXML files [0.0 MB].\n",
      "[2021-11-25 00:47:50,839] - obspy.clients.fdsn.mass_downloader - INFO: Downloaded 0.0 MB in total.\n",
      "[2021-11-25 00:47:50,847] - obspy.clients.fdsn.mass_downloader - INFO: Initializing FDSN client(s) for GEONET.\n",
      "[2021-11-25 00:47:50,852] - obspy.clients.fdsn.mass_downloader - INFO: Successfully initialized 1 client(s): GEONET.\n",
      "[2021-11-25 00:47:50,853] - obspy.clients.fdsn.mass_downloader - INFO: Total acquired or preexisting stations: 0\n",
      "[2021-11-25 00:47:50,854] - obspy.clients.fdsn.mass_downloader - INFO: Client 'GEONET' - Requesting unreliable availability.\n"
     ]
    },
    {
     "name": "stdout",
     "output_type": "stream",
     "text": [
      "=================================================================\n",
      "Initiating mass download request.\n"
     ]
    },
    {
     "name": "stderr",
     "output_type": "stream",
     "text": [
      "[2021-11-25 00:47:51,417] - obspy.clients.fdsn.mass_downloader - INFO: Client 'GEONET' - Successfully requested availability (0.56 seconds)\n",
      "[2021-11-25 00:47:51,418] - obspy.clients.fdsn.mass_downloader - INFO: Client 'GEONET' - Found 1 stations (1 channels).\n",
      "[2021-11-25 00:47:51,418] - obspy.clients.fdsn.mass_downloader - INFO: Client 'GEONET' - Will attempt to download data from 1 stations.\n",
      "[2021-11-25 00:47:51,419] - obspy.clients.fdsn.mass_downloader - INFO: Client 'GEONET' - Status for 1 time intervals/channels before downloading: NEEDS_DOWNLOADING\n",
      "[2021-11-25 00:47:52,251] - obspy.clients.fdsn.mass_downloader - INFO: Client 'GEONET' - Successfully downloaded 1 channels (of 1)\n",
      "[2021-11-25 00:47:52,262] - obspy.clients.fdsn.mass_downloader - INFO: Client 'GEONET' - Launching basic QC checks...\n",
      "[2021-11-25 00:47:52,272] - obspy.clients.fdsn.mass_downloader - INFO: Client 'GEONET' - Downloaded 0.0 MB [3.57 KB/sec] of data, 0.0 MB of which were discarded afterwards.\n",
      "[2021-11-25 00:47:52,277] - obspy.clients.fdsn.mass_downloader - INFO: Client 'GEONET' - Status for 1 time intervals/channels after downloading: DOWNLOADED\n",
      "[2021-11-25 00:47:52,281] - obspy.clients.fdsn.mass_downloader - INFO: Client 'GEONET' - No station information to download.\n",
      "[2021-11-25 00:47:52,282] - obspy.clients.fdsn.mass_downloader - INFO: ============================== Final report\n",
      "[2021-11-25 00:47:52,283] - obspy.clients.fdsn.mass_downloader - INFO: 0 MiniSEED files [0.0 MB] already existed.\n",
      "[2021-11-25 00:47:52,283] - obspy.clients.fdsn.mass_downloader - INFO: 1 StationXML files [0.0 MB] already existed.\n",
      "[2021-11-25 00:47:52,284] - obspy.clients.fdsn.mass_downloader - INFO: Client 'GEONET' - Acquired 1 MiniSEED files [0.0 MB].\n",
      "[2021-11-25 00:47:52,285] - obspy.clients.fdsn.mass_downloader - INFO: Client 'GEONET' - Acquired 0 StationXML files [0.0 MB].\n",
      "[2021-11-25 00:47:52,285] - obspy.clients.fdsn.mass_downloader - INFO: Downloaded 0.0 MB in total.\n",
      "[2021-11-25 00:47:52,292] - obspy.clients.fdsn.mass_downloader - INFO: Initializing FDSN client(s) for GEONET.\n",
      "[2021-11-25 00:47:52,296] - obspy.clients.fdsn.mass_downloader - INFO: Successfully initialized 1 client(s): GEONET.\n",
      "[2021-11-25 00:47:52,297] - obspy.clients.fdsn.mass_downloader - INFO: Total acquired or preexisting stations: 0\n",
      "[2021-11-25 00:47:52,297] - obspy.clients.fdsn.mass_downloader - INFO: Client 'GEONET' - Requesting unreliable availability.\n"
     ]
    },
    {
     "name": "stdout",
     "output_type": "stream",
     "text": [
      "=================================================================\n",
      "Initiating mass download request.\n"
     ]
    },
    {
     "name": "stderr",
     "output_type": "stream",
     "text": [
      "[2021-11-25 00:47:53,511] - obspy.clients.fdsn.mass_downloader - INFO: Client 'GEONET' - Successfully requested availability (1.21 seconds)\n",
      "[2021-11-25 00:47:53,513] - obspy.clients.fdsn.mass_downloader - INFO: Client 'GEONET' - Found 1 stations (1 channels).\n",
      "[2021-11-25 00:47:53,514] - obspy.clients.fdsn.mass_downloader - INFO: Client 'GEONET' - Will attempt to download data from 1 stations.\n",
      "[2021-11-25 00:47:53,518] - obspy.clients.fdsn.mass_downloader - INFO: Client 'GEONET' - Status for 1 time intervals/channels before downloading: NEEDS_DOWNLOADING\n",
      "[2021-11-25 00:47:54,301] - obspy.clients.fdsn.mass_downloader - INFO: Client 'GEONET' - Successfully downloaded 1 channels (of 1)\n",
      "[2021-11-25 00:47:54,305] - obspy.clients.fdsn.mass_downloader - INFO: Client 'GEONET' - Launching basic QC checks...\n",
      "[2021-11-25 00:47:54,311] - obspy.clients.fdsn.mass_downloader - INFO: Client 'GEONET' - Downloaded 0.0 MB [3.87 KB/sec] of data, 0.0 MB of which were discarded afterwards.\n",
      "[2021-11-25 00:47:54,312] - obspy.clients.fdsn.mass_downloader - INFO: Client 'GEONET' - Status for 1 time intervals/channels after downloading: DOWNLOADED\n",
      "[2021-11-25 00:47:54,315] - obspy.clients.fdsn.mass_downloader - INFO: Client 'GEONET' - No station information to download.\n",
      "[2021-11-25 00:47:54,316] - obspy.clients.fdsn.mass_downloader - INFO: ============================== Final report\n",
      "[2021-11-25 00:47:54,317] - obspy.clients.fdsn.mass_downloader - INFO: 0 MiniSEED files [0.0 MB] already existed.\n",
      "[2021-11-25 00:47:54,317] - obspy.clients.fdsn.mass_downloader - INFO: 1 StationXML files [0.0 MB] already existed.\n",
      "[2021-11-25 00:47:54,317] - obspy.clients.fdsn.mass_downloader - INFO: Client 'GEONET' - Acquired 1 MiniSEED files [0.0 MB].\n",
      "[2021-11-25 00:47:54,318] - obspy.clients.fdsn.mass_downloader - INFO: Client 'GEONET' - Acquired 0 StationXML files [0.0 MB].\n",
      "[2021-11-25 00:47:54,318] - obspy.clients.fdsn.mass_downloader - INFO: Downloaded 0.0 MB in total.\n",
      "[2021-11-25 00:47:54,321] - obspy.clients.fdsn.mass_downloader - INFO: Initializing FDSN client(s) for GEONET.\n",
      "[2021-11-25 00:47:54,327] - obspy.clients.fdsn.mass_downloader - INFO: Successfully initialized 1 client(s): GEONET.\n",
      "[2021-11-25 00:47:54,328] - obspy.clients.fdsn.mass_downloader - INFO: Total acquired or preexisting stations: 0\n",
      "[2021-11-25 00:47:54,328] - obspy.clients.fdsn.mass_downloader - INFO: Client 'GEONET' - Requesting unreliable availability.\n"
     ]
    },
    {
     "name": "stdout",
     "output_type": "stream",
     "text": [
      "=================================================================\n",
      "Initiating mass download request.\n"
     ]
    },
    {
     "name": "stderr",
     "output_type": "stream",
     "text": [
      "[2021-11-25 00:47:54,874] - obspy.clients.fdsn.mass_downloader - INFO: Client 'GEONET' - Successfully requested availability (0.55 seconds)\n",
      "[2021-11-25 00:47:54,875] - obspy.clients.fdsn.mass_downloader - INFO: Client 'GEONET' - Found 1 stations (1 channels).\n",
      "[2021-11-25 00:47:54,875] - obspy.clients.fdsn.mass_downloader - INFO: Client 'GEONET' - Will attempt to download data from 1 stations.\n",
      "[2021-11-25 00:47:54,877] - obspy.clients.fdsn.mass_downloader - INFO: Client 'GEONET' - Status for 1 time intervals/channels before downloading: NEEDS_DOWNLOADING\n",
      "[2021-11-25 00:47:55,625] - obspy.clients.fdsn.mass_downloader - INFO: Client 'GEONET' - Successfully downloaded 1 channels (of 1)\n",
      "[2021-11-25 00:47:55,634] - obspy.clients.fdsn.mass_downloader - INFO: Client 'GEONET' - Launching basic QC checks...\n",
      "[2021-11-25 00:47:55,653] - obspy.clients.fdsn.mass_downloader - INFO: Client 'GEONET' - Downloaded 0.0 MB [3.97 KB/sec] of data, 0.0 MB of which were discarded afterwards.\n",
      "[2021-11-25 00:47:55,653] - obspy.clients.fdsn.mass_downloader - INFO: Client 'GEONET' - Status for 1 time intervals/channels after downloading: DOWNLOADED\n",
      "[2021-11-25 00:47:55,660] - obspy.clients.fdsn.mass_downloader - INFO: Client 'GEONET' - No station information to download.\n",
      "[2021-11-25 00:47:55,661] - obspy.clients.fdsn.mass_downloader - INFO: ============================== Final report\n",
      "[2021-11-25 00:47:55,661] - obspy.clients.fdsn.mass_downloader - INFO: 0 MiniSEED files [0.0 MB] already existed.\n",
      "[2021-11-25 00:47:55,662] - obspy.clients.fdsn.mass_downloader - INFO: 1 StationXML files [0.0 MB] already existed.\n",
      "[2021-11-25 00:47:55,662] - obspy.clients.fdsn.mass_downloader - INFO: Client 'GEONET' - Acquired 1 MiniSEED files [0.0 MB].\n",
      "[2021-11-25 00:47:55,662] - obspy.clients.fdsn.mass_downloader - INFO: Client 'GEONET' - Acquired 0 StationXML files [0.0 MB].\n",
      "[2021-11-25 00:47:55,663] - obspy.clients.fdsn.mass_downloader - INFO: Downloaded 0.0 MB in total.\n",
      "[2021-11-25 00:47:55,670] - obspy.clients.fdsn.mass_downloader - INFO: Initializing FDSN client(s) for GEONET.\n",
      "[2021-11-25 00:47:55,677] - obspy.clients.fdsn.mass_downloader - INFO: Successfully initialized 1 client(s): GEONET.\n",
      "[2021-11-25 00:47:55,679] - obspy.clients.fdsn.mass_downloader - INFO: Total acquired or preexisting stations: 0\n",
      "[2021-11-25 00:47:55,680] - obspy.clients.fdsn.mass_downloader - INFO: Client 'GEONET' - Requesting unreliable availability.\n"
     ]
    },
    {
     "name": "stdout",
     "output_type": "stream",
     "text": [
      "=================================================================\n",
      "Initiating mass download request.\n"
     ]
    },
    {
     "name": "stderr",
     "output_type": "stream",
     "text": [
      "[2021-11-25 00:47:56,263] - obspy.clients.fdsn.mass_downloader - INFO: Client 'GEONET' - Successfully requested availability (0.58 seconds)\n",
      "[2021-11-25 00:47:56,265] - obspy.clients.fdsn.mass_downloader - INFO: Client 'GEONET' - Found 1 stations (1 channels).\n",
      "[2021-11-25 00:47:56,273] - obspy.clients.fdsn.mass_downloader - INFO: Client 'GEONET' - Will attempt to download data from 1 stations.\n",
      "[2021-11-25 00:47:56,275] - obspy.clients.fdsn.mass_downloader - INFO: Client 'GEONET' - Status for 1 time intervals/channels before downloading: NEEDS_DOWNLOADING\n",
      "[2021-11-25 00:47:57,136] - obspy.clients.fdsn.mass_downloader - INFO: Client 'GEONET' - Successfully downloaded 1 channels (of 1)\n",
      "[2021-11-25 00:47:57,139] - obspy.clients.fdsn.mass_downloader - INFO: Client 'GEONET' - Launching basic QC checks...\n",
      "[2021-11-25 00:47:57,148] - obspy.clients.fdsn.mass_downloader - INFO: Client 'GEONET' - Downloaded 0.0 MB [3.52 KB/sec] of data, 0.0 MB of which were discarded afterwards.\n",
      "[2021-11-25 00:47:57,148] - obspy.clients.fdsn.mass_downloader - INFO: Client 'GEONET' - Status for 1 time intervals/channels after downloading: DOWNLOADED\n",
      "[2021-11-25 00:47:57,150] - obspy.clients.fdsn.mass_downloader - INFO: Client 'GEONET' - No station information to download.\n",
      "[2021-11-25 00:47:57,151] - obspy.clients.fdsn.mass_downloader - INFO: ============================== Final report\n",
      "[2021-11-25 00:47:57,151] - obspy.clients.fdsn.mass_downloader - INFO: 0 MiniSEED files [0.0 MB] already existed.\n",
      "[2021-11-25 00:47:57,151] - obspy.clients.fdsn.mass_downloader - INFO: 1 StationXML files [0.0 MB] already existed.\n",
      "[2021-11-25 00:47:57,152] - obspy.clients.fdsn.mass_downloader - INFO: Client 'GEONET' - Acquired 1 MiniSEED files [0.0 MB].\n",
      "[2021-11-25 00:47:57,152] - obspy.clients.fdsn.mass_downloader - INFO: Client 'GEONET' - Acquired 0 StationXML files [0.0 MB].\n",
      "[2021-11-25 00:47:57,152] - obspy.clients.fdsn.mass_downloader - INFO: Downloaded 0.0 MB in total.\n",
      "[2021-11-25 00:47:57,158] - obspy.clients.fdsn.mass_downloader - INFO: Initializing FDSN client(s) for GEONET.\n",
      "[2021-11-25 00:47:57,162] - obspy.clients.fdsn.mass_downloader - INFO: Successfully initialized 1 client(s): GEONET.\n",
      "[2021-11-25 00:47:57,163] - obspy.clients.fdsn.mass_downloader - INFO: Total acquired or preexisting stations: 0\n",
      "[2021-11-25 00:47:57,163] - obspy.clients.fdsn.mass_downloader - INFO: Client 'GEONET' - Requesting unreliable availability.\n"
     ]
    },
    {
     "name": "stdout",
     "output_type": "stream",
     "text": [
      "=================================================================\n",
      "Initiating mass download request.\n"
     ]
    },
    {
     "name": "stderr",
     "output_type": "stream",
     "text": [
      "[2021-11-25 00:47:57,797] - obspy.clients.fdsn.mass_downloader - INFO: Client 'GEONET' - Successfully requested availability (0.63 seconds)\n",
      "[2021-11-25 00:47:57,799] - obspy.clients.fdsn.mass_downloader - INFO: Client 'GEONET' - Found 1 stations (1 channels).\n",
      "[2021-11-25 00:47:57,800] - obspy.clients.fdsn.mass_downloader - INFO: Client 'GEONET' - Will attempt to download data from 1 stations.\n",
      "[2021-11-25 00:47:57,800] - obspy.clients.fdsn.mass_downloader - INFO: Client 'GEONET' - Status for 1 time intervals/channels before downloading: NEEDS_DOWNLOADING\n",
      "[2021-11-25 00:47:58,685] - obspy.clients.fdsn.mass_downloader - INFO: Client 'GEONET' - Successfully downloaded 1 channels (of 1)\n",
      "[2021-11-25 00:47:58,693] - obspy.clients.fdsn.mass_downloader - INFO: Client 'GEONET' - Launching basic QC checks...\n",
      "[2021-11-25 00:47:58,702] - obspy.clients.fdsn.mass_downloader - INFO: Client 'GEONET' - Downloaded 0.0 MB [2.81 KB/sec] of data, 0.0 MB of which were discarded afterwards.\n",
      "[2021-11-25 00:47:58,704] - obspy.clients.fdsn.mass_downloader - INFO: Client 'GEONET' - Status for 1 time intervals/channels after downloading: DOWNLOADED\n",
      "[2021-11-25 00:47:58,709] - obspy.clients.fdsn.mass_downloader - INFO: Client 'GEONET' - No station information to download.\n",
      "[2021-11-25 00:47:58,711] - obspy.clients.fdsn.mass_downloader - INFO: ============================== Final report\n",
      "[2021-11-25 00:47:58,713] - obspy.clients.fdsn.mass_downloader - INFO: 0 MiniSEED files [0.0 MB] already existed.\n",
      "[2021-11-25 00:47:58,714] - obspy.clients.fdsn.mass_downloader - INFO: 1 StationXML files [0.0 MB] already existed.\n",
      "[2021-11-25 00:47:58,715] - obspy.clients.fdsn.mass_downloader - INFO: Client 'GEONET' - Acquired 1 MiniSEED files [0.0 MB].\n",
      "[2021-11-25 00:47:58,716] - obspy.clients.fdsn.mass_downloader - INFO: Client 'GEONET' - Acquired 0 StationXML files [0.0 MB].\n",
      "[2021-11-25 00:47:58,717] - obspy.clients.fdsn.mass_downloader - INFO: Downloaded 0.0 MB in total.\n",
      "[2021-11-25 00:47:58,725] - obspy.clients.fdsn.mass_downloader - INFO: Initializing FDSN client(s) for GEONET.\n",
      "[2021-11-25 00:47:58,738] - obspy.clients.fdsn.mass_downloader - INFO: Successfully initialized 1 client(s): GEONET.\n",
      "[2021-11-25 00:47:58,740] - obspy.clients.fdsn.mass_downloader - INFO: Total acquired or preexisting stations: 0\n",
      "[2021-11-25 00:47:58,744] - obspy.clients.fdsn.mass_downloader - INFO: Client 'GEONET' - Requesting unreliable availability.\n"
     ]
    },
    {
     "name": "stdout",
     "output_type": "stream",
     "text": [
      "=================================================================\n",
      "Initiating mass download request.\n"
     ]
    },
    {
     "name": "stderr",
     "output_type": "stream",
     "text": [
      "[2021-11-25 00:47:59,356] - obspy.clients.fdsn.mass_downloader - INFO: Client 'GEONET' - Successfully requested availability (0.61 seconds)\n",
      "[2021-11-25 00:47:59,361] - obspy.clients.fdsn.mass_downloader - INFO: Client 'GEONET' - Found 1 stations (1 channels).\n",
      "[2021-11-25 00:47:59,362] - obspy.clients.fdsn.mass_downloader - INFO: Client 'GEONET' - Will attempt to download data from 1 stations.\n",
      "[2021-11-25 00:47:59,362] - obspy.clients.fdsn.mass_downloader - INFO: Client 'GEONET' - Status for 1 time intervals/channels before downloading: NEEDS_DOWNLOADING\n",
      "[2021-11-25 00:48:00,218] - obspy.clients.fdsn.mass_downloader - INFO: Client 'GEONET' - Successfully downloaded 1 channels (of 1)\n",
      "[2021-11-25 00:48:00,227] - obspy.clients.fdsn.mass_downloader - INFO: Client 'GEONET' - Launching basic QC checks...\n",
      "[2021-11-25 00:48:00,232] - obspy.clients.fdsn.mass_downloader - INFO: Client 'GEONET' - Downloaded 0.0 MB [3.49 KB/sec] of data, 0.0 MB of which were discarded afterwards.\n",
      "[2021-11-25 00:48:00,233] - obspy.clients.fdsn.mass_downloader - INFO: Client 'GEONET' - Status for 1 time intervals/channels after downloading: DOWNLOADED\n",
      "[2021-11-25 00:48:00,238] - obspy.clients.fdsn.mass_downloader - INFO: Client 'GEONET' - No station information to download.\n",
      "[2021-11-25 00:48:00,239] - obspy.clients.fdsn.mass_downloader - INFO: ============================== Final report\n",
      "[2021-11-25 00:48:00,240] - obspy.clients.fdsn.mass_downloader - INFO: 0 MiniSEED files [0.0 MB] already existed.\n",
      "[2021-11-25 00:48:00,240] - obspy.clients.fdsn.mass_downloader - INFO: 1 StationXML files [0.0 MB] already existed.\n",
      "[2021-11-25 00:48:00,240] - obspy.clients.fdsn.mass_downloader - INFO: Client 'GEONET' - Acquired 1 MiniSEED files [0.0 MB].\n",
      "[2021-11-25 00:48:00,241] - obspy.clients.fdsn.mass_downloader - INFO: Client 'GEONET' - Acquired 0 StationXML files [0.0 MB].\n",
      "[2021-11-25 00:48:00,241] - obspy.clients.fdsn.mass_downloader - INFO: Downloaded 0.0 MB in total.\n",
      "[2021-11-25 00:48:00,247] - obspy.clients.fdsn.mass_downloader - INFO: Initializing FDSN client(s) for GEONET.\n",
      "[2021-11-25 00:48:00,255] - obspy.clients.fdsn.mass_downloader - INFO: Successfully initialized 1 client(s): GEONET.\n",
      "[2021-11-25 00:48:00,256] - obspy.clients.fdsn.mass_downloader - INFO: Total acquired or preexisting stations: 0\n",
      "[2021-11-25 00:48:00,256] - obspy.clients.fdsn.mass_downloader - INFO: Client 'GEONET' - Requesting unreliable availability.\n"
     ]
    },
    {
     "name": "stdout",
     "output_type": "stream",
     "text": [
      "=================================================================\n",
      "Initiating mass download request.\n"
     ]
    },
    {
     "name": "stderr",
     "output_type": "stream",
     "text": [
      "[2021-11-25 00:48:00,813] - obspy.clients.fdsn.mass_downloader - INFO: Client 'GEONET' - Successfully requested availability (0.56 seconds)\n",
      "[2021-11-25 00:48:00,820] - obspy.clients.fdsn.mass_downloader - INFO: Client 'GEONET' - Found 1 stations (1 channels).\n",
      "[2021-11-25 00:48:00,821] - obspy.clients.fdsn.mass_downloader - INFO: Client 'GEONET' - Will attempt to download data from 1 stations.\n",
      "[2021-11-25 00:48:00,822] - obspy.clients.fdsn.mass_downloader - INFO: Client 'GEONET' - Status for 1 time intervals/channels before downloading: NEEDS_DOWNLOADING\n",
      "[2021-11-25 00:48:01,689] - obspy.clients.fdsn.mass_downloader - INFO: Client 'GEONET' - Successfully downloaded 1 channels (of 1)\n",
      "[2021-11-25 00:48:01,704] - obspy.clients.fdsn.mass_downloader - INFO: Client 'GEONET' - Launching basic QC checks...\n",
      "[2021-11-25 00:48:01,717] - obspy.clients.fdsn.mass_downloader - INFO: Client 'GEONET' - Downloaded 0.0 MB [2.84 KB/sec] of data, 0.0 MB of which were discarded afterwards.\n",
      "[2021-11-25 00:48:01,717] - obspy.clients.fdsn.mass_downloader - INFO: Client 'GEONET' - Status for 1 time intervals/channels after downloading: DOWNLOADED\n",
      "[2021-11-25 00:48:01,724] - obspy.clients.fdsn.mass_downloader - INFO: Client 'GEONET' - No station information to download.\n",
      "[2021-11-25 00:48:01,726] - obspy.clients.fdsn.mass_downloader - INFO: ============================== Final report\n",
      "[2021-11-25 00:48:01,727] - obspy.clients.fdsn.mass_downloader - INFO: 0 MiniSEED files [0.0 MB] already existed.\n",
      "[2021-11-25 00:48:01,727] - obspy.clients.fdsn.mass_downloader - INFO: 1 StationXML files [0.0 MB] already existed.\n",
      "[2021-11-25 00:48:01,729] - obspy.clients.fdsn.mass_downloader - INFO: Client 'GEONET' - Acquired 1 MiniSEED files [0.0 MB].\n",
      "[2021-11-25 00:48:01,730] - obspy.clients.fdsn.mass_downloader - INFO: Client 'GEONET' - Acquired 0 StationXML files [0.0 MB].\n",
      "[2021-11-25 00:48:01,731] - obspy.clients.fdsn.mass_downloader - INFO: Downloaded 0.0 MB in total.\n",
      "[2021-11-25 00:48:01,741] - obspy.clients.fdsn.mass_downloader - INFO: Initializing FDSN client(s) for GEONET.\n",
      "[2021-11-25 00:48:01,769] - obspy.clients.fdsn.mass_downloader - INFO: Successfully initialized 1 client(s): GEONET.\n",
      "[2021-11-25 00:48:01,777] - obspy.clients.fdsn.mass_downloader - INFO: Total acquired or preexisting stations: 0\n",
      "[2021-11-25 00:48:01,782] - obspy.clients.fdsn.mass_downloader - INFO: Client 'GEONET' - Requesting unreliable availability.\n"
     ]
    },
    {
     "name": "stdout",
     "output_type": "stream",
     "text": [
      "=================================================================\n",
      "Initiating mass download request.\n"
     ]
    },
    {
     "name": "stderr",
     "output_type": "stream",
     "text": [
      "[2021-11-25 00:48:03,282] - obspy.clients.fdsn.mass_downloader - INFO: Client 'GEONET' - Successfully requested availability (1.49 seconds)\n",
      "[2021-11-25 00:48:03,285] - obspy.clients.fdsn.mass_downloader - INFO: Client 'GEONET' - Found 1 stations (1 channels).\n",
      "[2021-11-25 00:48:03,286] - obspy.clients.fdsn.mass_downloader - INFO: Client 'GEONET' - Will attempt to download data from 1 stations.\n",
      "[2021-11-25 00:48:03,287] - obspy.clients.fdsn.mass_downloader - INFO: Client 'GEONET' - Status for 1 time intervals/channels before downloading: NEEDS_DOWNLOADING\n",
      "[2021-11-25 00:48:04,062] - obspy.clients.fdsn.mass_downloader - INFO: Client 'GEONET' - Successfully downloaded 1 channels (of 1)\n",
      "[2021-11-25 00:48:04,070] - obspy.clients.fdsn.mass_downloader - INFO: Client 'GEONET' - Launching basic QC checks...\n",
      "[2021-11-25 00:48:04,083] - obspy.clients.fdsn.mass_downloader - INFO: Client 'GEONET' - Downloaded 0.0 MB [3.84 KB/sec] of data, 0.0 MB of which were discarded afterwards.\n",
      "[2021-11-25 00:48:04,084] - obspy.clients.fdsn.mass_downloader - INFO: Client 'GEONET' - Status for 1 time intervals/channels after downloading: DOWNLOADED\n",
      "[2021-11-25 00:48:04,087] - obspy.clients.fdsn.mass_downloader - INFO: Client 'GEONET' - No station information to download.\n",
      "[2021-11-25 00:48:04,088] - obspy.clients.fdsn.mass_downloader - INFO: ============================== Final report\n",
      "[2021-11-25 00:48:04,088] - obspy.clients.fdsn.mass_downloader - INFO: 0 MiniSEED files [0.0 MB] already existed.\n",
      "[2021-11-25 00:48:04,089] - obspy.clients.fdsn.mass_downloader - INFO: 1 StationXML files [0.0 MB] already existed.\n",
      "[2021-11-25 00:48:04,089] - obspy.clients.fdsn.mass_downloader - INFO: Client 'GEONET' - Acquired 1 MiniSEED files [0.0 MB].\n",
      "[2021-11-25 00:48:04,089] - obspy.clients.fdsn.mass_downloader - INFO: Client 'GEONET' - Acquired 0 StationXML files [0.0 MB].\n",
      "[2021-11-25 00:48:04,090] - obspy.clients.fdsn.mass_downloader - INFO: Downloaded 0.0 MB in total.\n",
      "[2021-11-25 00:48:04,094] - obspy.clients.fdsn.mass_downloader - INFO: Initializing FDSN client(s) for GEONET.\n",
      "[2021-11-25 00:48:04,098] - obspy.clients.fdsn.mass_downloader - INFO: Successfully initialized 1 client(s): GEONET.\n",
      "[2021-11-25 00:48:04,102] - obspy.clients.fdsn.mass_downloader - INFO: Total acquired or preexisting stations: 0\n",
      "[2021-11-25 00:48:04,104] - obspy.clients.fdsn.mass_downloader - INFO: Client 'GEONET' - Requesting unreliable availability.\n"
     ]
    },
    {
     "name": "stdout",
     "output_type": "stream",
     "text": [
      "=================================================================\n",
      "Initiating mass download request.\n"
     ]
    },
    {
     "name": "stderr",
     "output_type": "stream",
     "text": [
      "[2021-11-25 00:48:04,681] - obspy.clients.fdsn.mass_downloader - INFO: Client 'GEONET' - Successfully requested availability (0.57 seconds)\n",
      "[2021-11-25 00:48:04,691] - obspy.clients.fdsn.mass_downloader - INFO: Client 'GEONET' - Found 1 stations (1 channels).\n",
      "[2021-11-25 00:48:04,693] - obspy.clients.fdsn.mass_downloader - INFO: Client 'GEONET' - Will attempt to download data from 1 stations.\n",
      "[2021-11-25 00:48:04,696] - obspy.clients.fdsn.mass_downloader - INFO: Client 'GEONET' - Status for 1 time intervals/channels before downloading: NEEDS_DOWNLOADING\n",
      "[2021-11-25 00:48:05,593] - obspy.clients.fdsn.mass_downloader - INFO: Client 'GEONET' - Successfully downloaded 1 channels (of 1)\n",
      "[2021-11-25 00:48:05,629] - obspy.clients.fdsn.mass_downloader - INFO: Client 'GEONET' - Launching basic QC checks...\n",
      "[2021-11-25 00:48:05,651] - obspy.clients.fdsn.mass_downloader - INFO: Client 'GEONET' - Downloaded 0.0 MB [3.27 KB/sec] of data, 0.0 MB of which were discarded afterwards.\n",
      "[2021-11-25 00:48:05,653] - obspy.clients.fdsn.mass_downloader - INFO: Client 'GEONET' - Status for 1 time intervals/channels after downloading: DOWNLOADED\n",
      "[2021-11-25 00:48:05,663] - obspy.clients.fdsn.mass_downloader - INFO: Client 'GEONET' - No station information to download.\n",
      "[2021-11-25 00:48:05,667] - obspy.clients.fdsn.mass_downloader - INFO: ============================== Final report\n",
      "[2021-11-25 00:48:05,668] - obspy.clients.fdsn.mass_downloader - INFO: 0 MiniSEED files [0.0 MB] already existed.\n",
      "[2021-11-25 00:48:05,669] - obspy.clients.fdsn.mass_downloader - INFO: 1 StationXML files [0.0 MB] already existed.\n",
      "[2021-11-25 00:48:05,670] - obspy.clients.fdsn.mass_downloader - INFO: Client 'GEONET' - Acquired 1 MiniSEED files [0.0 MB].\n",
      "[2021-11-25 00:48:05,670] - obspy.clients.fdsn.mass_downloader - INFO: Client 'GEONET' - Acquired 0 StationXML files [0.0 MB].\n",
      "[2021-11-25 00:48:05,671] - obspy.clients.fdsn.mass_downloader - INFO: Downloaded 0.0 MB in total.\n",
      "[2021-11-25 00:48:05,677] - obspy.clients.fdsn.mass_downloader - INFO: Initializing FDSN client(s) for GEONET.\n",
      "[2021-11-25 00:48:05,724] - obspy.clients.fdsn.mass_downloader - INFO: Successfully initialized 1 client(s): GEONET.\n",
      "[2021-11-25 00:48:05,738] - obspy.clients.fdsn.mass_downloader - INFO: Total acquired or preexisting stations: 0\n",
      "[2021-11-25 00:48:05,742] - obspy.clients.fdsn.mass_downloader - INFO: Client 'GEONET' - Requesting unreliable availability.\n"
     ]
    },
    {
     "name": "stdout",
     "output_type": "stream",
     "text": [
      "=================================================================\n",
      "Initiating mass download request.\n"
     ]
    },
    {
     "name": "stderr",
     "output_type": "stream",
     "text": [
      "[2021-11-25 00:48:06,332] - obspy.clients.fdsn.mass_downloader - INFO: Client 'GEONET' - Successfully requested availability (0.58 seconds)\n",
      "[2021-11-25 00:48:06,334] - obspy.clients.fdsn.mass_downloader - INFO: Client 'GEONET' - Found 1 stations (1 channels).\n",
      "[2021-11-25 00:48:06,334] - obspy.clients.fdsn.mass_downloader - INFO: Client 'GEONET' - Will attempt to download data from 1 stations.\n",
      "[2021-11-25 00:48:06,335] - obspy.clients.fdsn.mass_downloader - INFO: Client 'GEONET' - Status for 1 time intervals/channels before downloading: NEEDS_DOWNLOADING\n",
      "[2021-11-25 00:48:07,127] - obspy.clients.fdsn.mass_downloader - INFO: Client 'GEONET' - Successfully downloaded 1 channels (of 1)\n",
      "[2021-11-25 00:48:07,162] - obspy.clients.fdsn.mass_downloader - INFO: Client 'GEONET' - Launching basic QC checks...\n",
      "[2021-11-25 00:48:07,181] - obspy.clients.fdsn.mass_downloader - INFO: Client 'GEONET' - Downloaded 0.0 MB [3.64 KB/sec] of data, 0.0 MB of which were discarded afterwards.\n",
      "[2021-11-25 00:48:07,183] - obspy.clients.fdsn.mass_downloader - INFO: Client 'GEONET' - Status for 1 time intervals/channels after downloading: DOWNLOADED\n",
      "[2021-11-25 00:48:07,189] - obspy.clients.fdsn.mass_downloader - INFO: Client 'GEONET' - No station information to download.\n",
      "[2021-11-25 00:48:07,194] - obspy.clients.fdsn.mass_downloader - INFO: ============================== Final report\n",
      "[2021-11-25 00:48:07,197] - obspy.clients.fdsn.mass_downloader - INFO: 0 MiniSEED files [0.0 MB] already existed.\n",
      "[2021-11-25 00:48:07,198] - obspy.clients.fdsn.mass_downloader - INFO: 1 StationXML files [0.0 MB] already existed.\n",
      "[2021-11-25 00:48:07,204] - obspy.clients.fdsn.mass_downloader - INFO: Client 'GEONET' - Acquired 1 MiniSEED files [0.0 MB].\n",
      "[2021-11-25 00:48:07,205] - obspy.clients.fdsn.mass_downloader - INFO: Client 'GEONET' - Acquired 0 StationXML files [0.0 MB].\n",
      "[2021-11-25 00:48:07,205] - obspy.clients.fdsn.mass_downloader - INFO: Downloaded 0.0 MB in total.\n",
      "[2021-11-25 00:48:07,211] - obspy.clients.fdsn.mass_downloader - INFO: Initializing FDSN client(s) for GEONET.\n",
      "[2021-11-25 00:48:07,236] - obspy.clients.fdsn.mass_downloader - INFO: Successfully initialized 1 client(s): GEONET.\n",
      "[2021-11-25 00:48:07,240] - obspy.clients.fdsn.mass_downloader - INFO: Total acquired or preexisting stations: 0\n",
      "[2021-11-25 00:48:07,242] - obspy.clients.fdsn.mass_downloader - INFO: Client 'GEONET' - Requesting unreliable availability.\n"
     ]
    },
    {
     "name": "stdout",
     "output_type": "stream",
     "text": [
      "=================================================================\n",
      "Initiating mass download request.\n"
     ]
    },
    {
     "name": "stderr",
     "output_type": "stream",
     "text": [
      "[2021-11-25 00:48:07,803] - obspy.clients.fdsn.mass_downloader - INFO: Client 'GEONET' - Successfully requested availability (0.56 seconds)\n",
      "[2021-11-25 00:48:07,805] - obspy.clients.fdsn.mass_downloader - INFO: Client 'GEONET' - Found 1 stations (1 channels).\n",
      "[2021-11-25 00:48:07,806] - obspy.clients.fdsn.mass_downloader - INFO: Client 'GEONET' - Will attempt to download data from 1 stations.\n",
      "[2021-11-25 00:48:07,806] - obspy.clients.fdsn.mass_downloader - INFO: Client 'GEONET' - Status for 1 time intervals/channels before downloading: NEEDS_DOWNLOADING\n",
      "[2021-11-25 00:48:08,777] - obspy.clients.fdsn.mass_downloader - INFO: Client 'GEONET' - Successfully downloaded 1 channels (of 1)\n",
      "[2021-11-25 00:48:08,787] - obspy.clients.fdsn.mass_downloader - INFO: Client 'GEONET' - Launching basic QC checks...\n",
      "[2021-11-25 00:48:08,806] - obspy.clients.fdsn.mass_downloader - INFO: Client 'GEONET' - Downloaded 0.0 MB [3.60 KB/sec] of data, 0.0 MB of which were discarded afterwards.\n",
      "[2021-11-25 00:48:08,810] - obspy.clients.fdsn.mass_downloader - INFO: Client 'GEONET' - Status for 1 time intervals/channels after downloading: DOWNLOADED\n",
      "[2021-11-25 00:48:08,817] - obspy.clients.fdsn.mass_downloader - INFO: Client 'GEONET' - No station information to download.\n",
      "[2021-11-25 00:48:08,818] - obspy.clients.fdsn.mass_downloader - INFO: ============================== Final report\n",
      "[2021-11-25 00:48:08,819] - obspy.clients.fdsn.mass_downloader - INFO: 0 MiniSEED files [0.0 MB] already existed.\n",
      "[2021-11-25 00:48:08,820] - obspy.clients.fdsn.mass_downloader - INFO: 1 StationXML files [0.0 MB] already existed.\n",
      "[2021-11-25 00:48:08,821] - obspy.clients.fdsn.mass_downloader - INFO: Client 'GEONET' - Acquired 1 MiniSEED files [0.0 MB].\n",
      "[2021-11-25 00:48:08,821] - obspy.clients.fdsn.mass_downloader - INFO: Client 'GEONET' - Acquired 0 StationXML files [0.0 MB].\n",
      "[2021-11-25 00:48:08,822] - obspy.clients.fdsn.mass_downloader - INFO: Downloaded 0.0 MB in total.\n",
      "[2021-11-25 00:48:08,827] - obspy.clients.fdsn.mass_downloader - INFO: Initializing FDSN client(s) for GEONET.\n",
      "[2021-11-25 00:48:08,843] - obspy.clients.fdsn.mass_downloader - INFO: Successfully initialized 1 client(s): GEONET.\n",
      "[2021-11-25 00:48:08,852] - obspy.clients.fdsn.mass_downloader - INFO: Total acquired or preexisting stations: 0\n",
      "[2021-11-25 00:48:08,853] - obspy.clients.fdsn.mass_downloader - INFO: Client 'GEONET' - Requesting unreliable availability.\n"
     ]
    },
    {
     "name": "stdout",
     "output_type": "stream",
     "text": [
      "=================================================================\n",
      "Initiating mass download request.\n"
     ]
    },
    {
     "name": "stderr",
     "output_type": "stream",
     "text": [
      "[2021-11-25 00:48:09,483] - obspy.clients.fdsn.mass_downloader - INFO: Client 'GEONET' - Successfully requested availability (0.63 seconds)\n",
      "[2021-11-25 00:48:09,496] - obspy.clients.fdsn.mass_downloader - INFO: Client 'GEONET' - Found 1 stations (1 channels).\n",
      "[2021-11-25 00:48:09,497] - obspy.clients.fdsn.mass_downloader - INFO: Client 'GEONET' - Will attempt to download data from 1 stations.\n",
      "[2021-11-25 00:48:09,500] - obspy.clients.fdsn.mass_downloader - INFO: Client 'GEONET' - Status for 1 time intervals/channels before downloading: NEEDS_DOWNLOADING\n",
      "[2021-11-25 00:48:10,386] - obspy.clients.fdsn.mass_downloader - INFO: Client 'GEONET' - Successfully downloaded 1 channels (of 1)\n",
      "[2021-11-25 00:48:10,396] - obspy.clients.fdsn.mass_downloader - INFO: Client 'GEONET' - Launching basic QC checks...\n",
      "[2021-11-25 00:48:10,424] - obspy.clients.fdsn.mass_downloader - INFO: Client 'GEONET' - Downloaded 0.0 MB [3.39 KB/sec] of data, 0.0 MB of which were discarded afterwards.\n",
      "[2021-11-25 00:48:10,428] - obspy.clients.fdsn.mass_downloader - INFO: Client 'GEONET' - Status for 1 time intervals/channels after downloading: DOWNLOADED\n",
      "[2021-11-25 00:48:10,446] - obspy.clients.fdsn.mass_downloader - INFO: Client 'GEONET' - No station information to download.\n",
      "[2021-11-25 00:48:10,452] - obspy.clients.fdsn.mass_downloader - INFO: ============================== Final report\n",
      "[2021-11-25 00:48:10,454] - obspy.clients.fdsn.mass_downloader - INFO: 0 MiniSEED files [0.0 MB] already existed.\n",
      "[2021-11-25 00:48:10,461] - obspy.clients.fdsn.mass_downloader - INFO: 1 StationXML files [0.0 MB] already existed.\n",
      "[2021-11-25 00:48:10,462] - obspy.clients.fdsn.mass_downloader - INFO: Client 'GEONET' - Acquired 1 MiniSEED files [0.0 MB].\n",
      "[2021-11-25 00:48:10,466] - obspy.clients.fdsn.mass_downloader - INFO: Client 'GEONET' - Acquired 0 StationXML files [0.0 MB].\n",
      "[2021-11-25 00:48:10,468] - obspy.clients.fdsn.mass_downloader - INFO: Downloaded 0.0 MB in total.\n",
      "[2021-11-25 00:48:10,501] - obspy.clients.fdsn.mass_downloader - INFO: Initializing FDSN client(s) for GEONET.\n",
      "[2021-11-25 00:48:10,554] - obspy.clients.fdsn.mass_downloader - INFO: Successfully initialized 1 client(s): GEONET.\n",
      "[2021-11-25 00:48:10,556] - obspy.clients.fdsn.mass_downloader - INFO: Total acquired or preexisting stations: 0\n",
      "[2021-11-25 00:48:10,559] - obspy.clients.fdsn.mass_downloader - INFO: Client 'GEONET' - Requesting unreliable availability.\n"
     ]
    },
    {
     "name": "stdout",
     "output_type": "stream",
     "text": [
      "=================================================================\n",
      "Initiating mass download request.\n"
     ]
    },
    {
     "name": "stderr",
     "output_type": "stream",
     "text": [
      "[2021-11-25 00:48:11,200] - obspy.clients.fdsn.mass_downloader - INFO: Client 'GEONET' - Successfully requested availability (0.64 seconds)\n",
      "[2021-11-25 00:48:11,213] - obspy.clients.fdsn.mass_downloader - INFO: Client 'GEONET' - Found 1 stations (1 channels).\n",
      "[2021-11-25 00:48:11,218] - obspy.clients.fdsn.mass_downloader - INFO: Client 'GEONET' - Will attempt to download data from 1 stations.\n",
      "[2021-11-25 00:48:11,222] - obspy.clients.fdsn.mass_downloader - INFO: Client 'GEONET' - Status for 1 time intervals/channels before downloading: NEEDS_DOWNLOADING\n",
      "[2021-11-25 00:48:12,248] - obspy.clients.fdsn.mass_downloader - INFO: Client 'GEONET' - Successfully downloaded 1 channels (of 1)\n",
      "[2021-11-25 00:48:12,260] - obspy.clients.fdsn.mass_downloader - INFO: Client 'GEONET' - Launching basic QC checks...\n",
      "[2021-11-25 00:48:12,278] - obspy.clients.fdsn.mass_downloader - INFO: Client 'GEONET' - Downloaded 0.0 MB [3.41 KB/sec] of data, 0.0 MB of which were discarded afterwards.\n",
      "[2021-11-25 00:48:12,286] - obspy.clients.fdsn.mass_downloader - INFO: Client 'GEONET' - Status for 1 time intervals/channels after downloading: DOWNLOADED\n",
      "[2021-11-25 00:48:12,308] - obspy.clients.fdsn.mass_downloader - INFO: Client 'GEONET' - No station information to download.\n",
      "[2021-11-25 00:48:12,316] - obspy.clients.fdsn.mass_downloader - INFO: ============================== Final report\n",
      "[2021-11-25 00:48:12,329] - obspy.clients.fdsn.mass_downloader - INFO: 0 MiniSEED files [0.0 MB] already existed.\n",
      "[2021-11-25 00:48:12,335] - obspy.clients.fdsn.mass_downloader - INFO: 1 StationXML files [0.0 MB] already existed.\n",
      "[2021-11-25 00:48:12,336] - obspy.clients.fdsn.mass_downloader - INFO: Client 'GEONET' - Acquired 1 MiniSEED files [0.0 MB].\n",
      "[2021-11-25 00:48:12,336] - obspy.clients.fdsn.mass_downloader - INFO: Client 'GEONET' - Acquired 0 StationXML files [0.0 MB].\n",
      "[2021-11-25 00:48:12,336] - obspy.clients.fdsn.mass_downloader - INFO: Downloaded 0.0 MB in total.\n",
      "[2021-11-25 00:48:12,344] - obspy.clients.fdsn.mass_downloader - INFO: Initializing FDSN client(s) for GEONET.\n",
      "[2021-11-25 00:48:12,378] - obspy.clients.fdsn.mass_downloader - INFO: Successfully initialized 1 client(s): GEONET.\n",
      "[2021-11-25 00:48:12,386] - obspy.clients.fdsn.mass_downloader - INFO: Total acquired or preexisting stations: 0\n",
      "[2021-11-25 00:48:12,389] - obspy.clients.fdsn.mass_downloader - INFO: Client 'GEONET' - Requesting unreliable availability.\n"
     ]
    },
    {
     "name": "stdout",
     "output_type": "stream",
     "text": [
      "=================================================================\n",
      "Initiating mass download request.\n"
     ]
    },
    {
     "name": "stderr",
     "output_type": "stream",
     "text": [
      "[2021-11-25 00:48:12,974] - obspy.clients.fdsn.mass_downloader - INFO: Client 'GEONET' - Successfully requested availability (0.58 seconds)\n",
      "[2021-11-25 00:48:12,979] - obspy.clients.fdsn.mass_downloader - INFO: Client 'GEONET' - Found 1 stations (1 channels).\n",
      "[2021-11-25 00:48:12,979] - obspy.clients.fdsn.mass_downloader - INFO: Client 'GEONET' - Will attempt to download data from 1 stations.\n",
      "[2021-11-25 00:48:12,980] - obspy.clients.fdsn.mass_downloader - INFO: Client 'GEONET' - Status for 1 time intervals/channels before downloading: NEEDS_DOWNLOADING\n",
      "[2021-11-25 00:48:13,833] - obspy.clients.fdsn.mass_downloader - INFO: Client 'GEONET' - Successfully downloaded 1 channels (of 1)\n",
      "[2021-11-25 00:48:13,842] - obspy.clients.fdsn.mass_downloader - INFO: Client 'GEONET' - Launching basic QC checks...\n",
      "[2021-11-25 00:48:13,852] - obspy.clients.fdsn.mass_downloader - INFO: Client 'GEONET' - Downloaded 0.0 MB [2.91 KB/sec] of data, 0.0 MB of which were discarded afterwards.\n",
      "[2021-11-25 00:48:13,853] - obspy.clients.fdsn.mass_downloader - INFO: Client 'GEONET' - Status for 1 time intervals/channels after downloading: DOWNLOADED\n",
      "[2021-11-25 00:48:13,860] - obspy.clients.fdsn.mass_downloader - INFO: Client 'GEONET' - No station information to download.\n",
      "[2021-11-25 00:48:13,860] - obspy.clients.fdsn.mass_downloader - INFO: ============================== Final report\n",
      "[2021-11-25 00:48:13,861] - obspy.clients.fdsn.mass_downloader - INFO: 0 MiniSEED files [0.0 MB] already existed.\n",
      "[2021-11-25 00:48:13,862] - obspy.clients.fdsn.mass_downloader - INFO: 1 StationXML files [0.0 MB] already existed.\n",
      "[2021-11-25 00:48:13,862] - obspy.clients.fdsn.mass_downloader - INFO: Client 'GEONET' - Acquired 1 MiniSEED files [0.0 MB].\n",
      "[2021-11-25 00:48:13,863] - obspy.clients.fdsn.mass_downloader - INFO: Client 'GEONET' - Acquired 0 StationXML files [0.0 MB].\n",
      "[2021-11-25 00:48:13,864] - obspy.clients.fdsn.mass_downloader - INFO: Downloaded 0.0 MB in total.\n",
      "[2021-11-25 00:48:13,867] - obspy.clients.fdsn.mass_downloader - INFO: Initializing FDSN client(s) for GEONET.\n",
      "[2021-11-25 00:48:13,872] - obspy.clients.fdsn.mass_downloader - INFO: Successfully initialized 1 client(s): GEONET.\n",
      "[2021-11-25 00:48:13,876] - obspy.clients.fdsn.mass_downloader - INFO: Total acquired or preexisting stations: 0\n",
      "[2021-11-25 00:48:13,877] - obspy.clients.fdsn.mass_downloader - INFO: Client 'GEONET' - Requesting unreliable availability.\n"
     ]
    },
    {
     "name": "stdout",
     "output_type": "stream",
     "text": [
      "=================================================================\n",
      "Initiating mass download request.\n"
     ]
    },
    {
     "name": "stderr",
     "output_type": "stream",
     "text": [
      "[2021-11-25 00:48:14,438] - obspy.clients.fdsn.mass_downloader - INFO: Client 'GEONET' - Successfully requested availability (0.56 seconds)\n",
      "[2021-11-25 00:48:14,445] - obspy.clients.fdsn.mass_downloader - INFO: Client 'GEONET' - Found 1 stations (1 channels).\n",
      "[2021-11-25 00:48:14,446] - obspy.clients.fdsn.mass_downloader - INFO: Client 'GEONET' - Will attempt to download data from 1 stations.\n",
      "[2021-11-25 00:48:14,447] - obspy.clients.fdsn.mass_downloader - INFO: Client 'GEONET' - Status for 1 time intervals/channels before downloading: NEEDS_DOWNLOADING\n",
      "[2021-11-25 00:48:15,441] - obspy.clients.fdsn.mass_downloader - INFO: Client 'GEONET' - Successfully downloaded 1 channels (of 1)\n",
      "[2021-11-25 00:48:15,488] - obspy.clients.fdsn.mass_downloader - INFO: Client 'GEONET' - Launching basic QC checks...\n",
      "[2021-11-25 00:48:15,526] - obspy.clients.fdsn.mass_downloader - INFO: Client 'GEONET' - Downloaded 0.0 MB [3.42 KB/sec] of data, 0.0 MB of which were discarded afterwards.\n",
      "[2021-11-25 00:48:15,545] - obspy.clients.fdsn.mass_downloader - INFO: Client 'GEONET' - Status for 1 time intervals/channels after downloading: DOWNLOADED\n",
      "[2021-11-25 00:48:15,572] - obspy.clients.fdsn.mass_downloader - INFO: Client 'GEONET' - No station information to download.\n",
      "[2021-11-25 00:48:15,582] - obspy.clients.fdsn.mass_downloader - INFO: ============================== Final report\n",
      "[2021-11-25 00:48:15,590] - obspy.clients.fdsn.mass_downloader - INFO: 0 MiniSEED files [0.0 MB] already existed.\n",
      "[2021-11-25 00:48:15,597] - obspy.clients.fdsn.mass_downloader - INFO: 1 StationXML files [0.0 MB] already existed.\n",
      "[2021-11-25 00:48:15,608] - obspy.clients.fdsn.mass_downloader - INFO: Client 'GEONET' - Acquired 1 MiniSEED files [0.0 MB].\n",
      "[2021-11-25 00:48:15,608] - obspy.clients.fdsn.mass_downloader - INFO: Client 'GEONET' - Acquired 0 StationXML files [0.0 MB].\n",
      "[2021-11-25 00:48:15,608] - obspy.clients.fdsn.mass_downloader - INFO: Downloaded 0.0 MB in total.\n",
      "[2021-11-25 00:48:15,688] - obspy.clients.fdsn.mass_downloader - INFO: Initializing FDSN client(s) for GEONET.\n",
      "[2021-11-25 00:48:15,729] - obspy.clients.fdsn.mass_downloader - INFO: Successfully initialized 1 client(s): GEONET.\n",
      "[2021-11-25 00:48:15,740] - obspy.clients.fdsn.mass_downloader - INFO: Total acquired or preexisting stations: 0\n",
      "[2021-11-25 00:48:15,746] - obspy.clients.fdsn.mass_downloader - INFO: Client 'GEONET' - Requesting unreliable availability.\n"
     ]
    },
    {
     "name": "stdout",
     "output_type": "stream",
     "text": [
      "=================================================================\n",
      "Initiating mass download request.\n"
     ]
    },
    {
     "name": "stderr",
     "output_type": "stream",
     "text": [
      "[2021-11-25 00:48:16,379] - obspy.clients.fdsn.mass_downloader - INFO: Client 'GEONET' - Successfully requested availability (0.63 seconds)\n",
      "[2021-11-25 00:48:16,385] - obspy.clients.fdsn.mass_downloader - INFO: Client 'GEONET' - Found 1 stations (1 channels).\n",
      "[2021-11-25 00:48:16,387] - obspy.clients.fdsn.mass_downloader - INFO: Client 'GEONET' - Will attempt to download data from 1 stations.\n",
      "[2021-11-25 00:48:16,388] - obspy.clients.fdsn.mass_downloader - INFO: Client 'GEONET' - Status for 1 time intervals/channels before downloading: NEEDS_DOWNLOADING\n",
      "[2021-11-25 00:48:17,293] - obspy.clients.fdsn.mass_downloader - INFO: Client 'GEONET' - Successfully downloaded 1 channels (of 1)\n",
      "[2021-11-25 00:48:17,296] - obspy.clients.fdsn.mass_downloader - INFO: Client 'GEONET' - Launching basic QC checks...\n",
      "[2021-11-25 00:48:17,303] - obspy.clients.fdsn.mass_downloader - INFO: Client 'GEONET' - Downloaded 0.0 MB [3.33 KB/sec] of data, 0.0 MB of which were discarded afterwards.\n",
      "[2021-11-25 00:48:17,303] - obspy.clients.fdsn.mass_downloader - INFO: Client 'GEONET' - Status for 1 time intervals/channels after downloading: DOWNLOADED\n",
      "[2021-11-25 00:48:17,306] - obspy.clients.fdsn.mass_downloader - INFO: Client 'GEONET' - No station information to download.\n",
      "[2021-11-25 00:48:17,307] - obspy.clients.fdsn.mass_downloader - INFO: ============================== Final report\n",
      "[2021-11-25 00:48:17,307] - obspy.clients.fdsn.mass_downloader - INFO: 0 MiniSEED files [0.0 MB] already existed.\n",
      "[2021-11-25 00:48:17,308] - obspy.clients.fdsn.mass_downloader - INFO: 1 StationXML files [0.0 MB] already existed.\n",
      "[2021-11-25 00:48:17,308] - obspy.clients.fdsn.mass_downloader - INFO: Client 'GEONET' - Acquired 1 MiniSEED files [0.0 MB].\n",
      "[2021-11-25 00:48:17,309] - obspy.clients.fdsn.mass_downloader - INFO: Client 'GEONET' - Acquired 0 StationXML files [0.0 MB].\n",
      "[2021-11-25 00:48:17,309] - obspy.clients.fdsn.mass_downloader - INFO: Downloaded 0.0 MB in total.\n",
      "[2021-11-25 00:48:17,314] - obspy.clients.fdsn.mass_downloader - INFO: Initializing FDSN client(s) for GEONET.\n",
      "[2021-11-25 00:48:17,318] - obspy.clients.fdsn.mass_downloader - INFO: Successfully initialized 1 client(s): GEONET.\n",
      "[2021-11-25 00:48:17,319] - obspy.clients.fdsn.mass_downloader - INFO: Total acquired or preexisting stations: 0\n",
      "[2021-11-25 00:48:17,319] - obspy.clients.fdsn.mass_downloader - INFO: Client 'GEONET' - Requesting unreliable availability.\n"
     ]
    },
    {
     "name": "stdout",
     "output_type": "stream",
     "text": [
      "=================================================================\n",
      "Initiating mass download request.\n"
     ]
    },
    {
     "name": "stderr",
     "output_type": "stream",
     "text": [
      "[2021-11-25 00:48:17,895] - obspy.clients.fdsn.mass_downloader - INFO: Client 'GEONET' - Successfully requested availability (0.57 seconds)\n",
      "[2021-11-25 00:48:17,914] - obspy.clients.fdsn.mass_downloader - INFO: Client 'GEONET' - Found 1 stations (1 channels).\n",
      "[2021-11-25 00:48:17,929] - obspy.clients.fdsn.mass_downloader - INFO: Client 'GEONET' - Will attempt to download data from 1 stations.\n",
      "[2021-11-25 00:48:17,940] - obspy.clients.fdsn.mass_downloader - INFO: Client 'GEONET' - Status for 1 time intervals/channels before downloading: NEEDS_DOWNLOADING\n",
      "[2021-11-25 00:48:18,956] - obspy.clients.fdsn.mass_downloader - INFO: Client 'GEONET' - Successfully downloaded 1 channels (of 1)\n",
      "[2021-11-25 00:48:18,972] - obspy.clients.fdsn.mass_downloader - INFO: Client 'GEONET' - Launching basic QC checks...\n",
      "[2021-11-25 00:48:19,002] - obspy.clients.fdsn.mass_downloader - INFO: Client 'GEONET' - Downloaded 0.0 MB [3.02 KB/sec] of data, 0.0 MB of which were discarded afterwards.\n",
      "[2021-11-25 00:48:19,003] - obspy.clients.fdsn.mass_downloader - INFO: Client 'GEONET' - Status for 1 time intervals/channels after downloading: DOWNLOADED\n",
      "[2021-11-25 00:48:19,008] - obspy.clients.fdsn.mass_downloader - INFO: Client 'GEONET' - No station information to download.\n",
      "[2021-11-25 00:48:19,010] - obspy.clients.fdsn.mass_downloader - INFO: ============================== Final report\n",
      "[2021-11-25 00:48:19,011] - obspy.clients.fdsn.mass_downloader - INFO: 0 MiniSEED files [0.0 MB] already existed.\n",
      "[2021-11-25 00:48:19,012] - obspy.clients.fdsn.mass_downloader - INFO: 1 StationXML files [0.0 MB] already existed.\n",
      "[2021-11-25 00:48:19,013] - obspy.clients.fdsn.mass_downloader - INFO: Client 'GEONET' - Acquired 1 MiniSEED files [0.0 MB].\n",
      "[2021-11-25 00:48:19,018] - obspy.clients.fdsn.mass_downloader - INFO: Client 'GEONET' - Acquired 0 StationXML files [0.0 MB].\n",
      "[2021-11-25 00:48:19,018] - obspy.clients.fdsn.mass_downloader - INFO: Downloaded 0.0 MB in total.\n",
      "[2021-11-25 00:48:19,026] - obspy.clients.fdsn.mass_downloader - INFO: Initializing FDSN client(s) for GEONET.\n",
      "[2021-11-25 00:48:19,036] - obspy.clients.fdsn.mass_downloader - INFO: Successfully initialized 1 client(s): GEONET.\n",
      "[2021-11-25 00:48:19,039] - obspy.clients.fdsn.mass_downloader - INFO: Total acquired or preexisting stations: 0\n",
      "[2021-11-25 00:48:19,042] - obspy.clients.fdsn.mass_downloader - INFO: Client 'GEONET' - Requesting unreliable availability.\n"
     ]
    },
    {
     "name": "stdout",
     "output_type": "stream",
     "text": [
      "=================================================================\n",
      "Initiating mass download request.\n"
     ]
    },
    {
     "name": "stderr",
     "output_type": "stream",
     "text": [
      "[2021-11-25 00:48:19,627] - obspy.clients.fdsn.mass_downloader - INFO: Client 'GEONET' - Successfully requested availability (0.58 seconds)\n",
      "[2021-11-25 00:48:19,630] - obspy.clients.fdsn.mass_downloader - INFO: Client 'GEONET' - Found 1 stations (1 channels).\n",
      "[2021-11-25 00:48:19,631] - obspy.clients.fdsn.mass_downloader - INFO: Client 'GEONET' - Will attempt to download data from 1 stations.\n",
      "[2021-11-25 00:48:19,632] - obspy.clients.fdsn.mass_downloader - INFO: Client 'GEONET' - Status for 1 time intervals/channels before downloading: NEEDS_DOWNLOADING\n",
      "[2021-11-25 00:48:20,497] - obspy.clients.fdsn.mass_downloader - INFO: Client 'GEONET' - Successfully downloaded 1 channels (of 1)\n",
      "[2021-11-25 00:48:20,504] - obspy.clients.fdsn.mass_downloader - INFO: Client 'GEONET' - Launching basic QC checks...\n",
      "[2021-11-25 00:48:20,514] - obspy.clients.fdsn.mass_downloader - INFO: Client 'GEONET' - Downloaded 0.0 MB [3.49 KB/sec] of data, 0.0 MB of which were discarded afterwards.\n",
      "[2021-11-25 00:48:20,516] - obspy.clients.fdsn.mass_downloader - INFO: Client 'GEONET' - Status for 1 time intervals/channels after downloading: DOWNLOADED\n",
      "[2021-11-25 00:48:20,523] - obspy.clients.fdsn.mass_downloader - INFO: Client 'GEONET' - No station information to download.\n",
      "[2021-11-25 00:48:20,525] - obspy.clients.fdsn.mass_downloader - INFO: ============================== Final report\n",
      "[2021-11-25 00:48:20,527] - obspy.clients.fdsn.mass_downloader - INFO: 0 MiniSEED files [0.0 MB] already existed.\n",
      "[2021-11-25 00:48:20,528] - obspy.clients.fdsn.mass_downloader - INFO: 1 StationXML files [0.0 MB] already existed.\n",
      "[2021-11-25 00:48:20,529] - obspy.clients.fdsn.mass_downloader - INFO: Client 'GEONET' - Acquired 1 MiniSEED files [0.0 MB].\n",
      "[2021-11-25 00:48:20,531] - obspy.clients.fdsn.mass_downloader - INFO: Client 'GEONET' - Acquired 0 StationXML files [0.0 MB].\n",
      "[2021-11-25 00:48:20,533] - obspy.clients.fdsn.mass_downloader - INFO: Downloaded 0.0 MB in total.\n",
      "[2021-11-25 00:48:20,540] - obspy.clients.fdsn.mass_downloader - INFO: Initializing FDSN client(s) for GEONET.\n",
      "[2021-11-25 00:48:20,547] - obspy.clients.fdsn.mass_downloader - INFO: Successfully initialized 1 client(s): GEONET.\n",
      "[2021-11-25 00:48:20,549] - obspy.clients.fdsn.mass_downloader - INFO: Total acquired or preexisting stations: 0\n",
      "[2021-11-25 00:48:20,551] - obspy.clients.fdsn.mass_downloader - INFO: Client 'GEONET' - Requesting unreliable availability.\n"
     ]
    },
    {
     "name": "stdout",
     "output_type": "stream",
     "text": [
      "=================================================================\n",
      "Initiating mass download request.\n"
     ]
    },
    {
     "name": "stderr",
     "output_type": "stream",
     "text": [
      "[2021-11-25 00:48:21,236] - obspy.clients.fdsn.mass_downloader - INFO: Client 'GEONET' - Successfully requested availability (0.68 seconds)\n",
      "[2021-11-25 00:48:21,239] - obspy.clients.fdsn.mass_downloader - INFO: Client 'GEONET' - Found 1 stations (1 channels).\n",
      "[2021-11-25 00:48:21,242] - obspy.clients.fdsn.mass_downloader - INFO: Client 'GEONET' - Will attempt to download data from 1 stations.\n",
      "[2021-11-25 00:48:21,243] - obspy.clients.fdsn.mass_downloader - INFO: Client 'GEONET' - Status for 1 time intervals/channels before downloading: NEEDS_DOWNLOADING\n",
      "[2021-11-25 00:48:22,057] - obspy.clients.fdsn.mass_downloader - INFO: Client 'GEONET' - Successfully downloaded 1 channels (of 1)\n",
      "[2021-11-25 00:48:22,078] - obspy.clients.fdsn.mass_downloader - INFO: Client 'GEONET' - Launching basic QC checks...\n",
      "[2021-11-25 00:48:22,097] - obspy.clients.fdsn.mass_downloader - INFO: Client 'GEONET' - Downloaded 0.0 MB [4.23 KB/sec] of data, 0.0 MB of which were discarded afterwards.\n",
      "[2021-11-25 00:48:22,098] - obspy.clients.fdsn.mass_downloader - INFO: Client 'GEONET' - Status for 1 time intervals/channels after downloading: DOWNLOADED\n",
      "[2021-11-25 00:48:22,107] - obspy.clients.fdsn.mass_downloader - INFO: Client 'GEONET' - No station information to download.\n",
      "[2021-11-25 00:48:22,114] - obspy.clients.fdsn.mass_downloader - INFO: ============================== Final report\n",
      "[2021-11-25 00:48:22,115] - obspy.clients.fdsn.mass_downloader - INFO: 0 MiniSEED files [0.0 MB] already existed.\n",
      "[2021-11-25 00:48:22,116] - obspy.clients.fdsn.mass_downloader - INFO: 1 StationXML files [0.0 MB] already existed.\n",
      "[2021-11-25 00:48:22,117] - obspy.clients.fdsn.mass_downloader - INFO: Client 'GEONET' - Acquired 1 MiniSEED files [0.0 MB].\n",
      "[2021-11-25 00:48:22,117] - obspy.clients.fdsn.mass_downloader - INFO: Client 'GEONET' - Acquired 0 StationXML files [0.0 MB].\n",
      "[2021-11-25 00:48:22,118] - obspy.clients.fdsn.mass_downloader - INFO: Downloaded 0.0 MB in total.\n",
      "[2021-11-25 00:48:22,122] - obspy.clients.fdsn.mass_downloader - INFO: Initializing FDSN client(s) for GEONET.\n",
      "[2021-11-25 00:48:22,132] - obspy.clients.fdsn.mass_downloader - INFO: Successfully initialized 1 client(s): GEONET.\n",
      "[2021-11-25 00:48:22,135] - obspy.clients.fdsn.mass_downloader - INFO: Total acquired or preexisting stations: 0\n",
      "[2021-11-25 00:48:22,136] - obspy.clients.fdsn.mass_downloader - INFO: Client 'GEONET' - Requesting unreliable availability.\n"
     ]
    },
    {
     "name": "stdout",
     "output_type": "stream",
     "text": [
      "=================================================================\n",
      "Initiating mass download request.\n"
     ]
    },
    {
     "name": "stderr",
     "output_type": "stream",
     "text": [
      "[2021-11-25 00:48:22,701] - obspy.clients.fdsn.mass_downloader - INFO: Client 'GEONET' - Successfully requested availability (0.56 seconds)\n",
      "[2021-11-25 00:48:22,724] - obspy.clients.fdsn.mass_downloader - INFO: Client 'GEONET' - Found 1 stations (1 channels).\n",
      "[2021-11-25 00:48:22,727] - obspy.clients.fdsn.mass_downloader - INFO: Client 'GEONET' - Will attempt to download data from 1 stations.\n",
      "[2021-11-25 00:48:22,731] - obspy.clients.fdsn.mass_downloader - INFO: Client 'GEONET' - Status for 1 time intervals/channels before downloading: NEEDS_DOWNLOADING\n",
      "[2021-11-25 00:48:23,670] - obspy.clients.fdsn.mass_downloader - INFO: Client 'GEONET' - Successfully downloaded 1 channels (of 1)\n",
      "[2021-11-25 00:48:23,680] - obspy.clients.fdsn.mass_downloader - INFO: Client 'GEONET' - Launching basic QC checks...\n",
      "[2021-11-25 00:48:23,708] - obspy.clients.fdsn.mass_downloader - INFO: Client 'GEONET' - Downloaded 0.0 MB [3.71 KB/sec] of data, 0.0 MB of which were discarded afterwards.\n",
      "[2021-11-25 00:48:23,709] - obspy.clients.fdsn.mass_downloader - INFO: Client 'GEONET' - Status for 1 time intervals/channels after downloading: DOWNLOADED\n",
      "[2021-11-25 00:48:23,715] - obspy.clients.fdsn.mass_downloader - INFO: Client 'GEONET' - No station information to download.\n",
      "[2021-11-25 00:48:23,719] - obspy.clients.fdsn.mass_downloader - INFO: ============================== Final report\n",
      "[2021-11-25 00:48:23,720] - obspy.clients.fdsn.mass_downloader - INFO: 0 MiniSEED files [0.0 MB] already existed.\n",
      "[2021-11-25 00:48:23,720] - obspy.clients.fdsn.mass_downloader - INFO: 1 StationXML files [0.0 MB] already existed.\n",
      "[2021-11-25 00:48:23,721] - obspy.clients.fdsn.mass_downloader - INFO: Client 'GEONET' - Acquired 1 MiniSEED files [0.0 MB].\n",
      "[2021-11-25 00:48:23,722] - obspy.clients.fdsn.mass_downloader - INFO: Client 'GEONET' - Acquired 0 StationXML files [0.0 MB].\n",
      "[2021-11-25 00:48:23,723] - obspy.clients.fdsn.mass_downloader - INFO: Downloaded 0.0 MB in total.\n",
      "[2021-11-25 00:48:23,730] - obspy.clients.fdsn.mass_downloader - INFO: Initializing FDSN client(s) for GEONET.\n",
      "[2021-11-25 00:48:23,753] - obspy.clients.fdsn.mass_downloader - INFO: Successfully initialized 1 client(s): GEONET.\n",
      "[2021-11-25 00:48:23,760] - obspy.clients.fdsn.mass_downloader - INFO: Total acquired or preexisting stations: 0\n",
      "[2021-11-25 00:48:23,762] - obspy.clients.fdsn.mass_downloader - INFO: Client 'GEONET' - Requesting unreliable availability.\n"
     ]
    },
    {
     "name": "stdout",
     "output_type": "stream",
     "text": [
      "=================================================================\n",
      "Initiating mass download request.\n"
     ]
    },
    {
     "name": "stderr",
     "output_type": "stream",
     "text": [
      "[2021-11-25 00:48:25,020] - obspy.clients.fdsn.mass_downloader - INFO: Client 'GEONET' - Successfully requested availability (1.25 seconds)\n",
      "[2021-11-25 00:48:25,026] - obspy.clients.fdsn.mass_downloader - INFO: Client 'GEONET' - Found 1 stations (1 channels).\n",
      "[2021-11-25 00:48:25,028] - obspy.clients.fdsn.mass_downloader - INFO: Client 'GEONET' - Will attempt to download data from 1 stations.\n",
      "[2021-11-25 00:48:25,029] - obspy.clients.fdsn.mass_downloader - INFO: Client 'GEONET' - Status for 1 time intervals/channels before downloading: NEEDS_DOWNLOADING\n",
      "[2021-11-25 00:48:25,858] - obspy.clients.fdsn.mass_downloader - INFO: Client 'GEONET' - Successfully downloaded 1 channels (of 1)\n",
      "[2021-11-25 00:48:25,871] - obspy.clients.fdsn.mass_downloader - INFO: Client 'GEONET' - Launching basic QC checks...\n",
      "[2021-11-25 00:48:25,885] - obspy.clients.fdsn.mass_downloader - INFO: Client 'GEONET' - Downloaded 0.0 MB [3.62 KB/sec] of data, 0.0 MB of which were discarded afterwards.\n",
      "[2021-11-25 00:48:25,886] - obspy.clients.fdsn.mass_downloader - INFO: Client 'GEONET' - Status for 1 time intervals/channels after downloading: DOWNLOADED\n",
      "[2021-11-25 00:48:25,888] - obspy.clients.fdsn.mass_downloader - INFO: Client 'GEONET' - No station information to download.\n",
      "[2021-11-25 00:48:25,891] - obspy.clients.fdsn.mass_downloader - INFO: ============================== Final report\n",
      "[2021-11-25 00:48:25,893] - obspy.clients.fdsn.mass_downloader - INFO: 0 MiniSEED files [0.0 MB] already existed.\n",
      "[2021-11-25 00:48:25,894] - obspy.clients.fdsn.mass_downloader - INFO: 1 StationXML files [0.0 MB] already existed.\n",
      "[2021-11-25 00:48:25,895] - obspy.clients.fdsn.mass_downloader - INFO: Client 'GEONET' - Acquired 1 MiniSEED files [0.0 MB].\n",
      "[2021-11-25 00:48:25,896] - obspy.clients.fdsn.mass_downloader - INFO: Client 'GEONET' - Acquired 0 StationXML files [0.0 MB].\n",
      "[2021-11-25 00:48:25,897] - obspy.clients.fdsn.mass_downloader - INFO: Downloaded 0.0 MB in total.\n",
      "[2021-11-25 00:48:25,900] - obspy.clients.fdsn.mass_downloader - INFO: Initializing FDSN client(s) for GEONET.\n",
      "[2021-11-25 00:48:25,912] - obspy.clients.fdsn.mass_downloader - INFO: Successfully initialized 1 client(s): GEONET.\n",
      "[2021-11-25 00:48:25,913] - obspy.clients.fdsn.mass_downloader - INFO: Total acquired or preexisting stations: 0\n",
      "[2021-11-25 00:48:25,913] - obspy.clients.fdsn.mass_downloader - INFO: Client 'GEONET' - Requesting unreliable availability.\n"
     ]
    },
    {
     "name": "stdout",
     "output_type": "stream",
     "text": [
      "=================================================================\n",
      "Initiating mass download request.\n"
     ]
    },
    {
     "name": "stderr",
     "output_type": "stream",
     "text": [
      "[2021-11-25 00:48:26,537] - obspy.clients.fdsn.mass_downloader - INFO: Client 'GEONET' - Successfully requested availability (0.62 seconds)\n",
      "[2021-11-25 00:48:26,538] - obspy.clients.fdsn.mass_downloader - INFO: Client 'GEONET' - Found 1 stations (1 channels).\n",
      "[2021-11-25 00:48:26,539] - obspy.clients.fdsn.mass_downloader - INFO: Client 'GEONET' - Will attempt to download data from 1 stations.\n",
      "[2021-11-25 00:48:26,539] - obspy.clients.fdsn.mass_downloader - INFO: Client 'GEONET' - Status for 1 time intervals/channels before downloading: NEEDS_DOWNLOADING\n",
      "[2021-11-25 00:48:27,662] - obspy.clients.fdsn.mass_downloader - INFO: Client 'GEONET' - Successfully downloaded 1 channels (of 1)\n",
      "[2021-11-25 00:48:27,672] - obspy.clients.fdsn.mass_downloader - INFO: Client 'GEONET' - Launching basic QC checks...\n",
      "[2021-11-25 00:48:27,680] - obspy.clients.fdsn.mass_downloader - INFO: Client 'GEONET' - Downloaded 0.0 MB [4.42 KB/sec] of data, 0.0 MB of which were discarded afterwards.\n",
      "[2021-11-25 00:48:27,681] - obspy.clients.fdsn.mass_downloader - INFO: Client 'GEONET' - Status for 1 time intervals/channels after downloading: DOWNLOADED\n",
      "[2021-11-25 00:48:27,688] - obspy.clients.fdsn.mass_downloader - INFO: Client 'GEONET' - No station information to download.\n",
      "[2021-11-25 00:48:27,689] - obspy.clients.fdsn.mass_downloader - INFO: ============================== Final report\n",
      "[2021-11-25 00:48:27,690] - obspy.clients.fdsn.mass_downloader - INFO: 0 MiniSEED files [0.0 MB] already existed.\n",
      "[2021-11-25 00:48:27,690] - obspy.clients.fdsn.mass_downloader - INFO: 1 StationXML files [0.0 MB] already existed.\n",
      "[2021-11-25 00:48:27,690] - obspy.clients.fdsn.mass_downloader - INFO: Client 'GEONET' - Acquired 1 MiniSEED files [0.0 MB].\n",
      "[2021-11-25 00:48:27,690] - obspy.clients.fdsn.mass_downloader - INFO: Client 'GEONET' - Acquired 0 StationXML files [0.0 MB].\n",
      "[2021-11-25 00:48:27,691] - obspy.clients.fdsn.mass_downloader - INFO: Downloaded 0.0 MB in total.\n",
      "[2021-11-25 00:48:27,693] - obspy.clients.fdsn.mass_downloader - INFO: Initializing FDSN client(s) for GEONET.\n",
      "[2021-11-25 00:48:27,696] - obspy.clients.fdsn.mass_downloader - INFO: Successfully initialized 1 client(s): GEONET.\n",
      "[2021-11-25 00:48:27,696] - obspy.clients.fdsn.mass_downloader - INFO: Total acquired or preexisting stations: 0\n",
      "[2021-11-25 00:48:27,697] - obspy.clients.fdsn.mass_downloader - INFO: Client 'GEONET' - Requesting unreliable availability.\n"
     ]
    },
    {
     "name": "stdout",
     "output_type": "stream",
     "text": [
      "=================================================================\n",
      "Initiating mass download request.\n"
     ]
    },
    {
     "name": "stderr",
     "output_type": "stream",
     "text": [
      "[2021-11-25 00:48:28,281] - obspy.clients.fdsn.mass_downloader - INFO: Client 'GEONET' - Successfully requested availability (0.58 seconds)\n",
      "[2021-11-25 00:48:28,287] - obspy.clients.fdsn.mass_downloader - INFO: Client 'GEONET' - Found 1 stations (1 channels).\n",
      "[2021-11-25 00:48:28,287] - obspy.clients.fdsn.mass_downloader - INFO: Client 'GEONET' - Will attempt to download data from 1 stations.\n",
      "[2021-11-25 00:48:28,288] - obspy.clients.fdsn.mass_downloader - INFO: Client 'GEONET' - Status for 1 time intervals/channels before downloading: NEEDS_DOWNLOADING\n",
      "[2021-11-25 00:48:29,284] - obspy.clients.fdsn.mass_downloader - INFO: Client 'GEONET' - Successfully downloaded 1 channels (of 1)\n",
      "[2021-11-25 00:48:29,294] - obspy.clients.fdsn.mass_downloader - INFO: Client 'GEONET' - Launching basic QC checks...\n",
      "[2021-11-25 00:48:29,316] - obspy.clients.fdsn.mass_downloader - INFO: Client 'GEONET' - Downloaded 0.0 MB [3.00 KB/sec] of data, 0.0 MB of which were discarded afterwards.\n",
      "[2021-11-25 00:48:29,318] - obspy.clients.fdsn.mass_downloader - INFO: Client 'GEONET' - Status for 1 time intervals/channels after downloading: DOWNLOADED\n",
      "[2021-11-25 00:48:29,324] - obspy.clients.fdsn.mass_downloader - INFO: Client 'GEONET' - No station information to download.\n",
      "[2021-11-25 00:48:29,330] - obspy.clients.fdsn.mass_downloader - INFO: ============================== Final report\n",
      "[2021-11-25 00:48:29,332] - obspy.clients.fdsn.mass_downloader - INFO: 0 MiniSEED files [0.0 MB] already existed.\n",
      "[2021-11-25 00:48:29,333] - obspy.clients.fdsn.mass_downloader - INFO: 1 StationXML files [0.0 MB] already existed.\n",
      "[2021-11-25 00:48:29,333] - obspy.clients.fdsn.mass_downloader - INFO: Client 'GEONET' - Acquired 1 MiniSEED files [0.0 MB].\n",
      "[2021-11-25 00:48:29,334] - obspy.clients.fdsn.mass_downloader - INFO: Client 'GEONET' - Acquired 0 StationXML files [0.0 MB].\n",
      "[2021-11-25 00:48:29,335] - obspy.clients.fdsn.mass_downloader - INFO: Downloaded 0.0 MB in total.\n",
      "[2021-11-25 00:48:29,345] - obspy.clients.fdsn.mass_downloader - INFO: Initializing FDSN client(s) for GEONET.\n",
      "[2021-11-25 00:48:29,351] - obspy.clients.fdsn.mass_downloader - INFO: Successfully initialized 1 client(s): GEONET.\n",
      "[2021-11-25 00:48:29,352] - obspy.clients.fdsn.mass_downloader - INFO: Total acquired or preexisting stations: 0\n",
      "[2021-11-25 00:48:29,353] - obspy.clients.fdsn.mass_downloader - INFO: Client 'GEONET' - Requesting unreliable availability.\n"
     ]
    },
    {
     "name": "stdout",
     "output_type": "stream",
     "text": [
      "=================================================================\n",
      "Initiating mass download request.\n"
     ]
    },
    {
     "name": "stderr",
     "output_type": "stream",
     "text": [
      "[2021-11-25 00:48:29,940] - obspy.clients.fdsn.mass_downloader - INFO: Client 'GEONET' - Successfully requested availability (0.59 seconds)\n",
      "[2021-11-25 00:48:29,946] - obspy.clients.fdsn.mass_downloader - INFO: Client 'GEONET' - Found 1 stations (1 channels).\n",
      "[2021-11-25 00:48:29,951] - obspy.clients.fdsn.mass_downloader - INFO: Client 'GEONET' - Will attempt to download data from 1 stations.\n",
      "[2021-11-25 00:48:29,960] - obspy.clients.fdsn.mass_downloader - INFO: Client 'GEONET' - Status for 1 time intervals/channels before downloading: NEEDS_DOWNLOADING\n",
      "[2021-11-25 00:48:30,960] - obspy.clients.fdsn.mass_downloader - INFO: Client 'GEONET' - Successfully downloaded 1 channels (of 1)\n",
      "[2021-11-25 00:48:30,977] - obspy.clients.fdsn.mass_downloader - INFO: Client 'GEONET' - Launching basic QC checks...\n",
      "[2021-11-25 00:48:30,995] - obspy.clients.fdsn.mass_downloader - INFO: Client 'GEONET' - Downloaded 0.0 MB [3.99 KB/sec] of data, 0.0 MB of which were discarded afterwards.\n",
      "[2021-11-25 00:48:31,001] - obspy.clients.fdsn.mass_downloader - INFO: Client 'GEONET' - Status for 1 time intervals/channels after downloading: DOWNLOADED\n",
      "[2021-11-25 00:48:31,009] - obspy.clients.fdsn.mass_downloader - INFO: Client 'GEONET' - No station information to download.\n",
      "[2021-11-25 00:48:31,012] - obspy.clients.fdsn.mass_downloader - INFO: ============================== Final report\n",
      "[2021-11-25 00:48:31,012] - obspy.clients.fdsn.mass_downloader - INFO: 0 MiniSEED files [0.0 MB] already existed.\n",
      "[2021-11-25 00:48:31,013] - obspy.clients.fdsn.mass_downloader - INFO: 1 StationXML files [0.0 MB] already existed.\n",
      "[2021-11-25 00:48:31,015] - obspy.clients.fdsn.mass_downloader - INFO: Client 'GEONET' - Acquired 1 MiniSEED files [0.0 MB].\n",
      "[2021-11-25 00:48:31,015] - obspy.clients.fdsn.mass_downloader - INFO: Client 'GEONET' - Acquired 0 StationXML files [0.0 MB].\n",
      "[2021-11-25 00:48:31,016] - obspy.clients.fdsn.mass_downloader - INFO: Downloaded 0.0 MB in total.\n",
      "[2021-11-25 00:48:31,022] - obspy.clients.fdsn.mass_downloader - INFO: Initializing FDSN client(s) for GEONET.\n",
      "[2021-11-25 00:48:31,026] - obspy.clients.fdsn.mass_downloader - INFO: Successfully initialized 1 client(s): GEONET.\n",
      "[2021-11-25 00:48:31,027] - obspy.clients.fdsn.mass_downloader - INFO: Total acquired or preexisting stations: 0\n",
      "[2021-11-25 00:48:31,027] - obspy.clients.fdsn.mass_downloader - INFO: Client 'GEONET' - Requesting unreliable availability.\n"
     ]
    },
    {
     "name": "stdout",
     "output_type": "stream",
     "text": [
      "=================================================================\n",
      "Initiating mass download request.\n"
     ]
    },
    {
     "name": "stderr",
     "output_type": "stream",
     "text": [
      "[2021-11-25 00:48:31,789] - obspy.clients.fdsn.mass_downloader - INFO: Client 'GEONET' - Successfully requested availability (0.76 seconds)\n",
      "[2021-11-25 00:48:31,795] - obspy.clients.fdsn.mass_downloader - INFO: Client 'GEONET' - Found 1 stations (1 channels).\n",
      "[2021-11-25 00:48:31,796] - obspy.clients.fdsn.mass_downloader - INFO: Client 'GEONET' - Will attempt to download data from 1 stations.\n",
      "[2021-11-25 00:48:31,797] - obspy.clients.fdsn.mass_downloader - INFO: Client 'GEONET' - Status for 1 time intervals/channels before downloading: NEEDS_DOWNLOADING\n",
      "[2021-11-25 00:48:32,789] - obspy.clients.fdsn.mass_downloader - INFO: Client 'GEONET' - Successfully downloaded 1 channels (of 1)\n",
      "[2021-11-25 00:48:32,823] - obspy.clients.fdsn.mass_downloader - INFO: Client 'GEONET' - Launching basic QC checks...\n",
      "[2021-11-25 00:48:32,853] - obspy.clients.fdsn.mass_downloader - INFO: Client 'GEONET' - Downloaded 0.0 MB [2.45 KB/sec] of data, 0.0 MB of which were discarded afterwards.\n",
      "[2021-11-25 00:48:32,854] - obspy.clients.fdsn.mass_downloader - INFO: Client 'GEONET' - Status for 1 time intervals/channels after downloading: DOWNLOADED\n",
      "[2021-11-25 00:48:32,858] - obspy.clients.fdsn.mass_downloader - INFO: Client 'GEONET' - No station information to download.\n",
      "[2021-11-25 00:48:32,864] - obspy.clients.fdsn.mass_downloader - INFO: ============================== Final report\n",
      "[2021-11-25 00:48:32,866] - obspy.clients.fdsn.mass_downloader - INFO: 0 MiniSEED files [0.0 MB] already existed.\n",
      "[2021-11-25 00:48:32,868] - obspy.clients.fdsn.mass_downloader - INFO: 1 StationXML files [0.0 MB] already existed.\n",
      "[2021-11-25 00:48:32,869] - obspy.clients.fdsn.mass_downloader - INFO: Client 'GEONET' - Acquired 1 MiniSEED files [0.0 MB].\n",
      "[2021-11-25 00:48:32,870] - obspy.clients.fdsn.mass_downloader - INFO: Client 'GEONET' - Acquired 0 StationXML files [0.0 MB].\n",
      "[2021-11-25 00:48:32,870] - obspy.clients.fdsn.mass_downloader - INFO: Downloaded 0.0 MB in total.\n",
      "[2021-11-25 00:48:32,877] - obspy.clients.fdsn.mass_downloader - INFO: Initializing FDSN client(s) for GEONET.\n",
      "[2021-11-25 00:48:32,884] - obspy.clients.fdsn.mass_downloader - INFO: Successfully initialized 1 client(s): GEONET.\n",
      "[2021-11-25 00:48:32,886] - obspy.clients.fdsn.mass_downloader - INFO: Total acquired or preexisting stations: 0\n",
      "[2021-11-25 00:48:32,887] - obspy.clients.fdsn.mass_downloader - INFO: Client 'GEONET' - Requesting unreliable availability.\n"
     ]
    },
    {
     "name": "stdout",
     "output_type": "stream",
     "text": [
      "=================================================================\n",
      "Initiating mass download request.\n"
     ]
    },
    {
     "name": "stderr",
     "output_type": "stream",
     "text": [
      "[2021-11-25 00:48:33,494] - obspy.clients.fdsn.mass_downloader - INFO: Client 'GEONET' - Successfully requested availability (0.61 seconds)\n",
      "[2021-11-25 00:48:33,496] - obspy.clients.fdsn.mass_downloader - INFO: Client 'GEONET' - Found 1 stations (1 channels).\n",
      "[2021-11-25 00:48:33,496] - obspy.clients.fdsn.mass_downloader - INFO: Client 'GEONET' - Will attempt to download data from 1 stations.\n",
      "[2021-11-25 00:48:33,496] - obspy.clients.fdsn.mass_downloader - INFO: Client 'GEONET' - Status for 1 time intervals/channels before downloading: NEEDS_DOWNLOADING\n",
      "[2021-11-25 00:48:34,468] - obspy.clients.fdsn.mass_downloader - INFO: Client 'GEONET' - Successfully downloaded 1 channels (of 1)\n",
      "[2021-11-25 00:48:34,476] - obspy.clients.fdsn.mass_downloader - INFO: Client 'GEONET' - Launching basic QC checks...\n",
      "[2021-11-25 00:48:34,490] - obspy.clients.fdsn.mass_downloader - INFO: Client 'GEONET' - Downloaded 0.0 MB [3.58 KB/sec] of data, 0.0 MB of which were discarded afterwards.\n",
      "[2021-11-25 00:48:34,490] - obspy.clients.fdsn.mass_downloader - INFO: Client 'GEONET' - Status for 1 time intervals/channels after downloading: DOWNLOADED\n",
      "[2021-11-25 00:48:34,493] - obspy.clients.fdsn.mass_downloader - INFO: Client 'GEONET' - No station information to download.\n",
      "[2021-11-25 00:48:34,495] - obspy.clients.fdsn.mass_downloader - INFO: ============================== Final report\n",
      "[2021-11-25 00:48:34,496] - obspy.clients.fdsn.mass_downloader - INFO: 0 MiniSEED files [0.0 MB] already existed.\n",
      "[2021-11-25 00:48:34,496] - obspy.clients.fdsn.mass_downloader - INFO: 1 StationXML files [0.0 MB] already existed.\n",
      "[2021-11-25 00:48:34,497] - obspy.clients.fdsn.mass_downloader - INFO: Client 'GEONET' - Acquired 1 MiniSEED files [0.0 MB].\n",
      "[2021-11-25 00:48:34,497] - obspy.clients.fdsn.mass_downloader - INFO: Client 'GEONET' - Acquired 0 StationXML files [0.0 MB].\n",
      "[2021-11-25 00:48:34,497] - obspy.clients.fdsn.mass_downloader - INFO: Downloaded 0.0 MB in total.\n",
      "[2021-11-25 00:48:34,501] - obspy.clients.fdsn.mass_downloader - INFO: Initializing FDSN client(s) for GEONET.\n",
      "[2021-11-25 00:48:34,508] - obspy.clients.fdsn.mass_downloader - INFO: Successfully initialized 1 client(s): GEONET.\n",
      "[2021-11-25 00:48:34,512] - obspy.clients.fdsn.mass_downloader - INFO: Total acquired or preexisting stations: 0\n",
      "[2021-11-25 00:48:34,513] - obspy.clients.fdsn.mass_downloader - INFO: Client 'GEONET' - Requesting unreliable availability.\n"
     ]
    },
    {
     "name": "stdout",
     "output_type": "stream",
     "text": [
      "=================================================================\n",
      "Initiating mass download request.\n"
     ]
    },
    {
     "name": "stderr",
     "output_type": "stream",
     "text": [
      "[2021-11-25 00:48:35,119] - obspy.clients.fdsn.mass_downloader - INFO: Client 'GEONET' - Successfully requested availability (0.61 seconds)\n",
      "[2021-11-25 00:48:35,128] - obspy.clients.fdsn.mass_downloader - INFO: Client 'GEONET' - Found 1 stations (1 channels).\n",
      "[2021-11-25 00:48:35,135] - obspy.clients.fdsn.mass_downloader - INFO: Client 'GEONET' - Will attempt to download data from 1 stations.\n",
      "[2021-11-25 00:48:35,142] - obspy.clients.fdsn.mass_downloader - INFO: Client 'GEONET' - Status for 1 time intervals/channels before downloading: NEEDS_DOWNLOADING\n",
      "[2021-11-25 00:48:36,038] - obspy.clients.fdsn.mass_downloader - INFO: Client 'GEONET' - Successfully downloaded 1 channels (of 1)\n",
      "[2021-11-25 00:48:36,045] - obspy.clients.fdsn.mass_downloader - INFO: Client 'GEONET' - Launching basic QC checks...\n",
      "[2021-11-25 00:48:36,050] - obspy.clients.fdsn.mass_downloader - INFO: Client 'GEONET' - Downloaded 0.0 MB [2.80 KB/sec] of data, 0.0 MB of which were discarded afterwards.\n",
      "[2021-11-25 00:48:36,050] - obspy.clients.fdsn.mass_downloader - INFO: Client 'GEONET' - Status for 1 time intervals/channels after downloading: DOWNLOADED\n",
      "[2021-11-25 00:48:36,052] - obspy.clients.fdsn.mass_downloader - INFO: Client 'GEONET' - No station information to download.\n",
      "[2021-11-25 00:48:36,053] - obspy.clients.fdsn.mass_downloader - INFO: ============================== Final report\n",
      "[2021-11-25 00:48:36,053] - obspy.clients.fdsn.mass_downloader - INFO: 0 MiniSEED files [0.0 MB] already existed.\n",
      "[2021-11-25 00:48:36,053] - obspy.clients.fdsn.mass_downloader - INFO: 1 StationXML files [0.0 MB] already existed.\n",
      "[2021-11-25 00:48:36,053] - obspy.clients.fdsn.mass_downloader - INFO: Client 'GEONET' - Acquired 1 MiniSEED files [0.0 MB].\n",
      "[2021-11-25 00:48:36,054] - obspy.clients.fdsn.mass_downloader - INFO: Client 'GEONET' - Acquired 0 StationXML files [0.0 MB].\n",
      "[2021-11-25 00:48:36,054] - obspy.clients.fdsn.mass_downloader - INFO: Downloaded 0.0 MB in total.\n",
      "[2021-11-25 00:48:36,058] - obspy.clients.fdsn.mass_downloader - INFO: Initializing FDSN client(s) for GEONET.\n",
      "[2021-11-25 00:48:36,061] - obspy.clients.fdsn.mass_downloader - INFO: Successfully initialized 1 client(s): GEONET.\n",
      "[2021-11-25 00:48:36,062] - obspy.clients.fdsn.mass_downloader - INFO: Total acquired or preexisting stations: 0\n",
      "[2021-11-25 00:48:36,062] - obspy.clients.fdsn.mass_downloader - INFO: Client 'GEONET' - Requesting unreliable availability.\n"
     ]
    },
    {
     "name": "stdout",
     "output_type": "stream",
     "text": [
      "=================================================================\n",
      "Initiating mass download request.\n"
     ]
    },
    {
     "name": "stderr",
     "output_type": "stream",
     "text": [
      "[2021-11-25 00:48:36,623] - obspy.clients.fdsn.mass_downloader - INFO: Client 'GEONET' - Successfully requested availability (0.56 seconds)\n",
      "[2021-11-25 00:48:36,637] - obspy.clients.fdsn.mass_downloader - INFO: Client 'GEONET' - Found 1 stations (1 channels).\n",
      "[2021-11-25 00:48:36,642] - obspy.clients.fdsn.mass_downloader - INFO: Client 'GEONET' - Will attempt to download data from 1 stations.\n",
      "[2021-11-25 00:48:36,644] - obspy.clients.fdsn.mass_downloader - INFO: Client 'GEONET' - Status for 1 time intervals/channels before downloading: NEEDS_DOWNLOADING\n",
      "[2021-11-25 00:48:37,512] - obspy.clients.fdsn.mass_downloader - INFO: Client 'GEONET' - Successfully downloaded 1 channels (of 1)\n",
      "[2021-11-25 00:48:37,520] - obspy.clients.fdsn.mass_downloader - INFO: Client 'GEONET' - Launching basic QC checks...\n",
      "[2021-11-25 00:48:37,530] - obspy.clients.fdsn.mass_downloader - INFO: Client 'GEONET' - Downloaded 0.0 MB [3.48 KB/sec] of data, 0.0 MB of which were discarded afterwards.\n",
      "[2021-11-25 00:48:37,531] - obspy.clients.fdsn.mass_downloader - INFO: Client 'GEONET' - Status for 1 time intervals/channels after downloading: DOWNLOADED\n",
      "[2021-11-25 00:48:37,533] - obspy.clients.fdsn.mass_downloader - INFO: Client 'GEONET' - No station information to download.\n",
      "[2021-11-25 00:48:37,534] - obspy.clients.fdsn.mass_downloader - INFO: ============================== Final report\n",
      "[2021-11-25 00:48:37,534] - obspy.clients.fdsn.mass_downloader - INFO: 0 MiniSEED files [0.0 MB] already existed.\n",
      "[2021-11-25 00:48:37,535] - obspy.clients.fdsn.mass_downloader - INFO: 1 StationXML files [0.0 MB] already existed.\n",
      "[2021-11-25 00:48:37,535] - obspy.clients.fdsn.mass_downloader - INFO: Client 'GEONET' - Acquired 1 MiniSEED files [0.0 MB].\n",
      "[2021-11-25 00:48:37,535] - obspy.clients.fdsn.mass_downloader - INFO: Client 'GEONET' - Acquired 0 StationXML files [0.0 MB].\n",
      "[2021-11-25 00:48:37,536] - obspy.clients.fdsn.mass_downloader - INFO: Downloaded 0.0 MB in total.\n",
      "[2021-11-25 00:48:37,542] - obspy.clients.fdsn.mass_downloader - INFO: Initializing FDSN client(s) for GEONET.\n",
      "[2021-11-25 00:48:37,546] - obspy.clients.fdsn.mass_downloader - INFO: Successfully initialized 1 client(s): GEONET.\n",
      "[2021-11-25 00:48:37,547] - obspy.clients.fdsn.mass_downloader - INFO: Total acquired or preexisting stations: 0\n",
      "[2021-11-25 00:48:37,547] - obspy.clients.fdsn.mass_downloader - INFO: Client 'GEONET' - Requesting unreliable availability.\n"
     ]
    },
    {
     "name": "stdout",
     "output_type": "stream",
     "text": [
      "=================================================================\n",
      "Initiating mass download request.\n"
     ]
    },
    {
     "name": "stderr",
     "output_type": "stream",
     "text": [
      "[2021-11-25 00:48:38,196] - obspy.clients.fdsn.mass_downloader - INFO: Client 'GEONET' - Successfully requested availability (0.65 seconds)\n",
      "[2021-11-25 00:48:38,203] - obspy.clients.fdsn.mass_downloader - INFO: Client 'GEONET' - Found 1 stations (1 channels).\n",
      "[2021-11-25 00:48:38,204] - obspy.clients.fdsn.mass_downloader - INFO: Client 'GEONET' - Will attempt to download data from 1 stations.\n",
      "[2021-11-25 00:48:38,205] - obspy.clients.fdsn.mass_downloader - INFO: Client 'GEONET' - Status for 1 time intervals/channels before downloading: NEEDS_DOWNLOADING\n",
      "[2021-11-25 00:48:39,108] - obspy.clients.fdsn.mass_downloader - INFO: Client 'GEONET' - Successfully downloaded 1 channels (of 1)\n",
      "[2021-11-25 00:48:39,112] - obspy.clients.fdsn.mass_downloader - INFO: Client 'GEONET' - Launching basic QC checks...\n",
      "[2021-11-25 00:48:39,119] - obspy.clients.fdsn.mass_downloader - INFO: Client 'GEONET' - Downloaded 0.0 MB [3.87 KB/sec] of data, 0.0 MB of which were discarded afterwards.\n",
      "[2021-11-25 00:48:39,120] - obspy.clients.fdsn.mass_downloader - INFO: Client 'GEONET' - Status for 1 time intervals/channels after downloading: DOWNLOADED\n",
      "[2021-11-25 00:48:39,122] - obspy.clients.fdsn.mass_downloader - INFO: Client 'GEONET' - No station information to download.\n",
      "[2021-11-25 00:48:39,123] - obspy.clients.fdsn.mass_downloader - INFO: ============================== Final report\n",
      "[2021-11-25 00:48:39,123] - obspy.clients.fdsn.mass_downloader - INFO: 0 MiniSEED files [0.0 MB] already existed.\n",
      "[2021-11-25 00:48:39,123] - obspy.clients.fdsn.mass_downloader - INFO: 1 StationXML files [0.0 MB] already existed.\n",
      "[2021-11-25 00:48:39,124] - obspy.clients.fdsn.mass_downloader - INFO: Client 'GEONET' - Acquired 1 MiniSEED files [0.0 MB].\n",
      "[2021-11-25 00:48:39,124] - obspy.clients.fdsn.mass_downloader - INFO: Client 'GEONET' - Acquired 0 StationXML files [0.0 MB].\n",
      "[2021-11-25 00:48:39,124] - obspy.clients.fdsn.mass_downloader - INFO: Downloaded 0.0 MB in total.\n",
      "[2021-11-25 00:48:39,130] - obspy.clients.fdsn.mass_downloader - INFO: Initializing FDSN client(s) for GEONET.\n",
      "[2021-11-25 00:48:39,133] - obspy.clients.fdsn.mass_downloader - INFO: Successfully initialized 1 client(s): GEONET.\n",
      "[2021-11-25 00:48:39,134] - obspy.clients.fdsn.mass_downloader - INFO: Total acquired or preexisting stations: 0\n",
      "[2021-11-25 00:48:39,134] - obspy.clients.fdsn.mass_downloader - INFO: Client 'GEONET' - Requesting unreliable availability.\n"
     ]
    },
    {
     "name": "stdout",
     "output_type": "stream",
     "text": [
      "=================================================================\n",
      "Initiating mass download request.\n"
     ]
    },
    {
     "name": "stderr",
     "output_type": "stream",
     "text": [
      "[2021-11-25 00:48:39,782] - obspy.clients.fdsn.mass_downloader - INFO: Client 'GEONET' - Successfully requested availability (0.65 seconds)\n",
      "[2021-11-25 00:48:39,783] - obspy.clients.fdsn.mass_downloader - INFO: Client 'GEONET' - Found 1 stations (1 channels).\n",
      "[2021-11-25 00:48:39,783] - obspy.clients.fdsn.mass_downloader - INFO: Client 'GEONET' - Will attempt to download data from 1 stations.\n",
      "[2021-11-25 00:48:39,784] - obspy.clients.fdsn.mass_downloader - INFO: Client 'GEONET' - Status for 1 time intervals/channels before downloading: NEEDS_DOWNLOADING\n",
      "[2021-11-25 00:48:40,616] - obspy.clients.fdsn.mass_downloader - INFO: Client 'GEONET' - Successfully downloaded 1 channels (of 1)\n",
      "[2021-11-25 00:48:40,624] - obspy.clients.fdsn.mass_downloader - INFO: Client 'GEONET' - Launching basic QC checks...\n",
      "[2021-11-25 00:48:40,629] - obspy.clients.fdsn.mass_downloader - INFO: Client 'GEONET' - Downloaded 0.0 MB [3.58 KB/sec] of data, 0.0 MB of which were discarded afterwards.\n",
      "[2021-11-25 00:48:40,630] - obspy.clients.fdsn.mass_downloader - INFO: Client 'GEONET' - Status for 1 time intervals/channels after downloading: DOWNLOADED\n",
      "[2021-11-25 00:48:40,635] - obspy.clients.fdsn.mass_downloader - INFO: Client 'GEONET' - No station information to download.\n",
      "[2021-11-25 00:48:40,636] - obspy.clients.fdsn.mass_downloader - INFO: ============================== Final report\n",
      "[2021-11-25 00:48:40,637] - obspy.clients.fdsn.mass_downloader - INFO: 0 MiniSEED files [0.0 MB] already existed.\n",
      "[2021-11-25 00:48:40,638] - obspy.clients.fdsn.mass_downloader - INFO: 1 StationXML files [0.0 MB] already existed.\n",
      "[2021-11-25 00:48:40,638] - obspy.clients.fdsn.mass_downloader - INFO: Client 'GEONET' - Acquired 1 MiniSEED files [0.0 MB].\n",
      "[2021-11-25 00:48:40,639] - obspy.clients.fdsn.mass_downloader - INFO: Client 'GEONET' - Acquired 0 StationXML files [0.0 MB].\n",
      "[2021-11-25 00:48:40,639] - obspy.clients.fdsn.mass_downloader - INFO: Downloaded 0.0 MB in total.\n",
      "[2021-11-25 00:48:40,642] - obspy.clients.fdsn.mass_downloader - INFO: Initializing FDSN client(s) for GEONET.\n",
      "[2021-11-25 00:48:40,645] - obspy.clients.fdsn.mass_downloader - INFO: Successfully initialized 1 client(s): GEONET.\n",
      "[2021-11-25 00:48:40,647] - obspy.clients.fdsn.mass_downloader - INFO: Total acquired or preexisting stations: 0\n",
      "[2021-11-25 00:48:40,647] - obspy.clients.fdsn.mass_downloader - INFO: Client 'GEONET' - Requesting unreliable availability.\n"
     ]
    },
    {
     "name": "stdout",
     "output_type": "stream",
     "text": [
      "=================================================================\n",
      "Initiating mass download request.\n"
     ]
    },
    {
     "name": "stderr",
     "output_type": "stream",
     "text": [
      "[2021-11-25 00:48:41,189] - obspy.clients.fdsn.mass_downloader - INFO: Client 'GEONET' - Successfully requested availability (0.54 seconds)\n",
      "[2021-11-25 00:48:41,191] - obspy.clients.fdsn.mass_downloader - INFO: Client 'GEONET' - Found 1 stations (1 channels).\n",
      "[2021-11-25 00:48:41,192] - obspy.clients.fdsn.mass_downloader - INFO: Client 'GEONET' - Will attempt to download data from 1 stations.\n",
      "[2021-11-25 00:48:41,194] - obspy.clients.fdsn.mass_downloader - INFO: Client 'GEONET' - Status for 1 time intervals/channels before downloading: NEEDS_DOWNLOADING\n",
      "[2021-11-25 00:48:42,155] - obspy.clients.fdsn.mass_downloader - INFO: Client 'GEONET' - Successfully downloaded 1 channels (of 1)\n",
      "[2021-11-25 00:48:42,162] - obspy.clients.fdsn.mass_downloader - INFO: Client 'GEONET' - Launching basic QC checks...\n",
      "[2021-11-25 00:48:42,176] - obspy.clients.fdsn.mass_downloader - INFO: Client 'GEONET' - Downloaded 0.0 MB [3.64 KB/sec] of data, 0.0 MB of which were discarded afterwards.\n",
      "[2021-11-25 00:48:42,177] - obspy.clients.fdsn.mass_downloader - INFO: Client 'GEONET' - Status for 1 time intervals/channels after downloading: DOWNLOADED\n",
      "[2021-11-25 00:48:42,179] - obspy.clients.fdsn.mass_downloader - INFO: Client 'GEONET' - No station information to download.\n",
      "[2021-11-25 00:48:42,180] - obspy.clients.fdsn.mass_downloader - INFO: ============================== Final report\n",
      "[2021-11-25 00:48:42,180] - obspy.clients.fdsn.mass_downloader - INFO: 0 MiniSEED files [0.0 MB] already existed.\n",
      "[2021-11-25 00:48:42,180] - obspy.clients.fdsn.mass_downloader - INFO: 1 StationXML files [0.0 MB] already existed.\n",
      "[2021-11-25 00:48:42,181] - obspy.clients.fdsn.mass_downloader - INFO: Client 'GEONET' - Acquired 1 MiniSEED files [0.0 MB].\n",
      "[2021-11-25 00:48:42,181] - obspy.clients.fdsn.mass_downloader - INFO: Client 'GEONET' - Acquired 0 StationXML files [0.0 MB].\n",
      "[2021-11-25 00:48:42,181] - obspy.clients.fdsn.mass_downloader - INFO: Downloaded 0.0 MB in total.\n",
      "[2021-11-25 00:48:42,183] - obspy.clients.fdsn.mass_downloader - INFO: Initializing FDSN client(s) for GEONET.\n",
      "[2021-11-25 00:48:42,190] - obspy.clients.fdsn.mass_downloader - INFO: Successfully initialized 1 client(s): GEONET.\n",
      "[2021-11-25 00:48:42,191] - obspy.clients.fdsn.mass_downloader - INFO: Total acquired or preexisting stations: 0\n",
      "[2021-11-25 00:48:42,191] - obspy.clients.fdsn.mass_downloader - INFO: Client 'GEONET' - Requesting unreliable availability.\n"
     ]
    },
    {
     "name": "stdout",
     "output_type": "stream",
     "text": [
      "=================================================================\n",
      "Initiating mass download request.\n"
     ]
    },
    {
     "name": "stderr",
     "output_type": "stream",
     "text": [
      "[2021-11-25 00:48:42,855] - obspy.clients.fdsn.mass_downloader - INFO: Client 'GEONET' - Successfully requested availability (0.66 seconds)\n",
      "[2021-11-25 00:48:42,860] - obspy.clients.fdsn.mass_downloader - INFO: Client 'GEONET' - Found 1 stations (1 channels).\n",
      "[2021-11-25 00:48:42,861] - obspy.clients.fdsn.mass_downloader - INFO: Client 'GEONET' - Will attempt to download data from 1 stations.\n",
      "[2021-11-25 00:48:42,861] - obspy.clients.fdsn.mass_downloader - INFO: Client 'GEONET' - Status for 1 time intervals/channels before downloading: NEEDS_DOWNLOADING\n",
      "[2021-11-25 00:48:43,830] - obspy.clients.fdsn.mass_downloader - INFO: Client 'GEONET' - Successfully downloaded 1 channels (of 1)\n",
      "[2021-11-25 00:48:43,836] - obspy.clients.fdsn.mass_downloader - INFO: Client 'GEONET' - Launching basic QC checks...\n",
      "[2021-11-25 00:48:43,844] - obspy.clients.fdsn.mass_downloader - INFO: Client 'GEONET' - Downloaded 0.0 MB [5.14 KB/sec] of data, 0.0 MB of which were discarded afterwards.\n",
      "[2021-11-25 00:48:43,845] - obspy.clients.fdsn.mass_downloader - INFO: Client 'GEONET' - Status for 1 time intervals/channels after downloading: DOWNLOADED\n",
      "[2021-11-25 00:48:43,851] - obspy.clients.fdsn.mass_downloader - INFO: Client 'GEONET' - No station information to download.\n",
      "[2021-11-25 00:48:43,852] - obspy.clients.fdsn.mass_downloader - INFO: ============================== Final report\n",
      "[2021-11-25 00:48:43,853] - obspy.clients.fdsn.mass_downloader - INFO: 0 MiniSEED files [0.0 MB] already existed.\n",
      "[2021-11-25 00:48:43,853] - obspy.clients.fdsn.mass_downloader - INFO: 1 StationXML files [0.0 MB] already existed.\n",
      "[2021-11-25 00:48:43,853] - obspy.clients.fdsn.mass_downloader - INFO: Client 'GEONET' - Acquired 1 MiniSEED files [0.0 MB].\n",
      "[2021-11-25 00:48:43,854] - obspy.clients.fdsn.mass_downloader - INFO: Client 'GEONET' - Acquired 0 StationXML files [0.0 MB].\n",
      "[2021-11-25 00:48:43,854] - obspy.clients.fdsn.mass_downloader - INFO: Downloaded 0.0 MB in total.\n",
      "[2021-11-25 00:48:43,856] - obspy.clients.fdsn.mass_downloader - INFO: Initializing FDSN client(s) for GEONET.\n",
      "[2021-11-25 00:48:43,862] - obspy.clients.fdsn.mass_downloader - INFO: Successfully initialized 1 client(s): GEONET.\n",
      "[2021-11-25 00:48:43,866] - obspy.clients.fdsn.mass_downloader - INFO: Total acquired or preexisting stations: 0\n",
      "[2021-11-25 00:48:43,867] - obspy.clients.fdsn.mass_downloader - INFO: Client 'GEONET' - Requesting unreliable availability.\n"
     ]
    },
    {
     "name": "stdout",
     "output_type": "stream",
     "text": [
      "=================================================================\n",
      "Initiating mass download request.\n"
     ]
    },
    {
     "name": "stderr",
     "output_type": "stream",
     "text": [
      "[2021-11-25 00:48:44,432] - obspy.clients.fdsn.mass_downloader - INFO: Client 'GEONET' - Successfully requested availability (0.56 seconds)\n",
      "[2021-11-25 00:48:44,435] - obspy.clients.fdsn.mass_downloader - INFO: Client 'GEONET' - Found 1 stations (1 channels).\n",
      "[2021-11-25 00:48:44,435] - obspy.clients.fdsn.mass_downloader - INFO: Client 'GEONET' - Will attempt to download data from 1 stations.\n",
      "[2021-11-25 00:48:44,436] - obspy.clients.fdsn.mass_downloader - INFO: Client 'GEONET' - Status for 1 time intervals/channels before downloading: NEEDS_DOWNLOADING\n",
      "[2021-11-25 00:48:45,432] - obspy.clients.fdsn.mass_downloader - INFO: Client 'GEONET' - Successfully downloaded 1 channels (of 1)\n",
      "[2021-11-25 00:48:45,444] - obspy.clients.fdsn.mass_downloader - INFO: Client 'GEONET' - Launching basic QC checks...\n",
      "[2021-11-25 00:48:45,456] - obspy.clients.fdsn.mass_downloader - INFO: Client 'GEONET' - Downloaded 0.0 MB [3.48 KB/sec] of data, 0.0 MB of which were discarded afterwards.\n",
      "[2021-11-25 00:48:45,457] - obspy.clients.fdsn.mass_downloader - INFO: Client 'GEONET' - Status for 1 time intervals/channels after downloading: DOWNLOADED\n",
      "[2021-11-25 00:48:45,463] - obspy.clients.fdsn.mass_downloader - INFO: Client 'GEONET' - No station information to download.\n",
      "[2021-11-25 00:48:45,467] - obspy.clients.fdsn.mass_downloader - INFO: ============================== Final report\n",
      "[2021-11-25 00:48:45,468] - obspy.clients.fdsn.mass_downloader - INFO: 0 MiniSEED files [0.0 MB] already existed.\n",
      "[2021-11-25 00:48:45,469] - obspy.clients.fdsn.mass_downloader - INFO: 1 StationXML files [0.0 MB] already existed.\n",
      "[2021-11-25 00:48:45,470] - obspy.clients.fdsn.mass_downloader - INFO: Client 'GEONET' - Acquired 1 MiniSEED files [0.0 MB].\n",
      "[2021-11-25 00:48:45,470] - obspy.clients.fdsn.mass_downloader - INFO: Client 'GEONET' - Acquired 0 StationXML files [0.0 MB].\n",
      "[2021-11-25 00:48:45,470] - obspy.clients.fdsn.mass_downloader - INFO: Downloaded 0.0 MB in total.\n",
      "[2021-11-25 00:48:45,477] - obspy.clients.fdsn.mass_downloader - INFO: Initializing FDSN client(s) for GEONET.\n",
      "[2021-11-25 00:48:45,481] - obspy.clients.fdsn.mass_downloader - INFO: Successfully initialized 1 client(s): GEONET.\n",
      "[2021-11-25 00:48:45,483] - obspy.clients.fdsn.mass_downloader - INFO: Total acquired or preexisting stations: 0\n",
      "[2021-11-25 00:48:45,483] - obspy.clients.fdsn.mass_downloader - INFO: Client 'GEONET' - Requesting unreliable availability.\n"
     ]
    },
    {
     "name": "stdout",
     "output_type": "stream",
     "text": [
      "=================================================================\n",
      "Initiating mass download request.\n"
     ]
    },
    {
     "name": "stderr",
     "output_type": "stream",
     "text": [
      "[2021-11-25 00:48:46,038] - obspy.clients.fdsn.mass_downloader - INFO: Client 'GEONET' - Successfully requested availability (0.55 seconds)\n",
      "[2021-11-25 00:48:46,039] - obspy.clients.fdsn.mass_downloader - INFO: Client 'GEONET' - Found 1 stations (1 channels).\n",
      "[2021-11-25 00:48:46,039] - obspy.clients.fdsn.mass_downloader - INFO: Client 'GEONET' - Will attempt to download data from 1 stations.\n",
      "[2021-11-25 00:48:46,040] - obspy.clients.fdsn.mass_downloader - INFO: Client 'GEONET' - Status for 1 time intervals/channels before downloading: NEEDS_DOWNLOADING\n",
      "[2021-11-25 00:48:46,988] - obspy.clients.fdsn.mass_downloader - INFO: Client 'GEONET' - Successfully downloaded 1 channels (of 1)\n",
      "[2021-11-25 00:48:46,992] - obspy.clients.fdsn.mass_downloader - INFO: Client 'GEONET' - Launching basic QC checks...\n",
      "[2021-11-25 00:48:47,000] - obspy.clients.fdsn.mass_downloader - INFO: Client 'GEONET' - Downloaded 0.0 MB [4.21 KB/sec] of data, 0.0 MB of which were discarded afterwards.\n",
      "[2021-11-25 00:48:47,000] - obspy.clients.fdsn.mass_downloader - INFO: Client 'GEONET' - Status for 1 time intervals/channels after downloading: DOWNLOADED\n",
      "[2021-11-25 00:48:47,006] - obspy.clients.fdsn.mass_downloader - INFO: Client 'GEONET' - No station information to download.\n",
      "[2021-11-25 00:48:47,007] - obspy.clients.fdsn.mass_downloader - INFO: ============================== Final report\n",
      "[2021-11-25 00:48:47,007] - obspy.clients.fdsn.mass_downloader - INFO: 0 MiniSEED files [0.0 MB] already existed.\n",
      "[2021-11-25 00:48:47,008] - obspy.clients.fdsn.mass_downloader - INFO: 1 StationXML files [0.0 MB] already existed.\n",
      "[2021-11-25 00:48:47,008] - obspy.clients.fdsn.mass_downloader - INFO: Client 'GEONET' - Acquired 1 MiniSEED files [0.0 MB].\n",
      "[2021-11-25 00:48:47,009] - obspy.clients.fdsn.mass_downloader - INFO: Client 'GEONET' - Acquired 0 StationXML files [0.0 MB].\n",
      "[2021-11-25 00:48:47,009] - obspy.clients.fdsn.mass_downloader - INFO: Downloaded 0.0 MB in total.\n",
      "[2021-11-25 00:48:47,016] - obspy.clients.fdsn.mass_downloader - INFO: Initializing FDSN client(s) for GEONET.\n",
      "[2021-11-25 00:48:47,019] - obspy.clients.fdsn.mass_downloader - INFO: Successfully initialized 1 client(s): GEONET.\n",
      "[2021-11-25 00:48:47,020] - obspy.clients.fdsn.mass_downloader - INFO: Total acquired or preexisting stations: 0\n",
      "[2021-11-25 00:48:47,020] - obspy.clients.fdsn.mass_downloader - INFO: Client 'GEONET' - Requesting unreliable availability.\n"
     ]
    },
    {
     "name": "stdout",
     "output_type": "stream",
     "text": [
      "=================================================================\n",
      "Initiating mass download request.\n"
     ]
    },
    {
     "name": "stderr",
     "output_type": "stream",
     "text": [
      "[2021-11-25 00:48:48,230] - obspy.clients.fdsn.mass_downloader - INFO: Client 'GEONET' - Successfully requested availability (1.21 seconds)\n",
      "[2021-11-25 00:48:48,240] - obspy.clients.fdsn.mass_downloader - INFO: Client 'GEONET' - Found 1 stations (1 channels).\n",
      "[2021-11-25 00:48:48,241] - obspy.clients.fdsn.mass_downloader - INFO: Client 'GEONET' - Will attempt to download data from 1 stations.\n",
      "[2021-11-25 00:48:48,242] - obspy.clients.fdsn.mass_downloader - INFO: Client 'GEONET' - Status for 1 time intervals/channels before downloading: NEEDS_DOWNLOADING\n",
      "[2021-11-25 00:48:49,120] - obspy.clients.fdsn.mass_downloader - INFO: Client 'GEONET' - Successfully downloaded 1 channels (of 1)\n",
      "[2021-11-25 00:48:49,125] - obspy.clients.fdsn.mass_downloader - INFO: Client 'GEONET' - Launching basic QC checks...\n",
      "[2021-11-25 00:48:49,132] - obspy.clients.fdsn.mass_downloader - INFO: Client 'GEONET' - Downloaded 0.0 MB [3.42 KB/sec] of data, 0.0 MB of which were discarded afterwards.\n",
      "[2021-11-25 00:48:49,133] - obspy.clients.fdsn.mass_downloader - INFO: Client 'GEONET' - Status for 1 time intervals/channels after downloading: DOWNLOADED\n",
      "[2021-11-25 00:48:49,135] - obspy.clients.fdsn.mass_downloader - INFO: Client 'GEONET' - No station information to download.\n",
      "[2021-11-25 00:48:49,136] - obspy.clients.fdsn.mass_downloader - INFO: ============================== Final report\n",
      "[2021-11-25 00:48:49,136] - obspy.clients.fdsn.mass_downloader - INFO: 0 MiniSEED files [0.0 MB] already existed.\n",
      "[2021-11-25 00:48:49,136] - obspy.clients.fdsn.mass_downloader - INFO: 1 StationXML files [0.0 MB] already existed.\n",
      "[2021-11-25 00:48:49,137] - obspy.clients.fdsn.mass_downloader - INFO: Client 'GEONET' - Acquired 1 MiniSEED files [0.0 MB].\n",
      "[2021-11-25 00:48:49,137] - obspy.clients.fdsn.mass_downloader - INFO: Client 'GEONET' - Acquired 0 StationXML files [0.0 MB].\n",
      "[2021-11-25 00:48:49,137] - obspy.clients.fdsn.mass_downloader - INFO: Downloaded 0.0 MB in total.\n",
      "[2021-11-25 00:48:49,140] - obspy.clients.fdsn.mass_downloader - INFO: Initializing FDSN client(s) for GEONET.\n",
      "[2021-11-25 00:48:49,143] - obspy.clients.fdsn.mass_downloader - INFO: Successfully initialized 1 client(s): GEONET.\n",
      "[2021-11-25 00:48:49,143] - obspy.clients.fdsn.mass_downloader - INFO: Total acquired or preexisting stations: 0\n",
      "[2021-11-25 00:48:49,144] - obspy.clients.fdsn.mass_downloader - INFO: Client 'GEONET' - Requesting unreliable availability.\n"
     ]
    },
    {
     "name": "stdout",
     "output_type": "stream",
     "text": [
      "=================================================================\n",
      "Initiating mass download request.\n"
     ]
    },
    {
     "name": "stderr",
     "output_type": "stream",
     "text": [
      "[2021-11-25 00:48:49,745] - obspy.clients.fdsn.mass_downloader - INFO: Client 'GEONET' - Successfully requested availability (0.60 seconds)\n",
      "[2021-11-25 00:48:49,746] - obspy.clients.fdsn.mass_downloader - INFO: Client 'GEONET' - Found 1 stations (1 channels).\n",
      "[2021-11-25 00:48:49,746] - obspy.clients.fdsn.mass_downloader - INFO: Client 'GEONET' - Will attempt to download data from 1 stations.\n",
      "[2021-11-25 00:48:49,747] - obspy.clients.fdsn.mass_downloader - INFO: Client 'GEONET' - Status for 1 time intervals/channels before downloading: NEEDS_DOWNLOADING\n",
      "[2021-11-25 00:48:50,980] - obspy.clients.fdsn.mass_downloader - INFO: Client 'GEONET' - Successfully downloaded 1 channels (of 1)\n",
      "[2021-11-25 00:48:50,987] - obspy.clients.fdsn.mass_downloader - INFO: Client 'GEONET' - Launching basic QC checks...\n",
      "[2021-11-25 00:48:51,001] - obspy.clients.fdsn.mass_downloader - INFO: Client 'GEONET' - Downloaded 0.0 MB [3.63 KB/sec] of data, 0.0 MB of which were discarded afterwards.\n",
      "[2021-11-25 00:48:51,001] - obspy.clients.fdsn.mass_downloader - INFO: Client 'GEONET' - Status for 1 time intervals/channels after downloading: DOWNLOADED\n",
      "[2021-11-25 00:48:51,004] - obspy.clients.fdsn.mass_downloader - INFO: Client 'GEONET' - No station information to download.\n",
      "[2021-11-25 00:48:51,006] - obspy.clients.fdsn.mass_downloader - INFO: ============================== Final report\n",
      "[2021-11-25 00:48:51,007] - obspy.clients.fdsn.mass_downloader - INFO: 0 MiniSEED files [0.0 MB] already existed.\n",
      "[2021-11-25 00:48:51,008] - obspy.clients.fdsn.mass_downloader - INFO: 1 StationXML files [0.0 MB] already existed.\n",
      "[2021-11-25 00:48:51,008] - obspy.clients.fdsn.mass_downloader - INFO: Client 'GEONET' - Acquired 1 MiniSEED files [0.0 MB].\n",
      "[2021-11-25 00:48:51,008] - obspy.clients.fdsn.mass_downloader - INFO: Client 'GEONET' - Acquired 0 StationXML files [0.0 MB].\n",
      "[2021-11-25 00:48:51,009] - obspy.clients.fdsn.mass_downloader - INFO: Downloaded 0.0 MB in total.\n",
      "[2021-11-25 00:48:51,011] - obspy.clients.fdsn.mass_downloader - INFO: Initializing FDSN client(s) for GEONET.\n",
      "[2021-11-25 00:48:51,016] - obspy.clients.fdsn.mass_downloader - INFO: Successfully initialized 1 client(s): GEONET.\n",
      "[2021-11-25 00:48:51,017] - obspy.clients.fdsn.mass_downloader - INFO: Total acquired or preexisting stations: 0\n",
      "[2021-11-25 00:48:51,018] - obspy.clients.fdsn.mass_downloader - INFO: Client 'GEONET' - Requesting unreliable availability.\n"
     ]
    },
    {
     "name": "stdout",
     "output_type": "stream",
     "text": [
      "=================================================================\n",
      "Initiating mass download request.\n"
     ]
    },
    {
     "name": "stderr",
     "output_type": "stream",
     "text": [
      "[2021-11-25 00:48:51,686] - obspy.clients.fdsn.mass_downloader - INFO: Client 'GEONET' - Successfully requested availability (0.67 seconds)\n",
      "[2021-11-25 00:48:51,688] - obspy.clients.fdsn.mass_downloader - INFO: Client 'GEONET' - Found 1 stations (1 channels).\n",
      "[2021-11-25 00:48:51,688] - obspy.clients.fdsn.mass_downloader - INFO: Client 'GEONET' - Will attempt to download data from 1 stations.\n",
      "[2021-11-25 00:48:51,689] - obspy.clients.fdsn.mass_downloader - INFO: Client 'GEONET' - Status for 1 time intervals/channels before downloading: NEEDS_DOWNLOADING\n",
      "[2021-11-25 00:48:52,646] - obspy.clients.fdsn.mass_downloader - INFO: Client 'GEONET' - Successfully downloaded 1 channels (of 1)\n",
      "[2021-11-25 00:48:52,665] - obspy.clients.fdsn.mass_downloader - INFO: Client 'GEONET' - Launching basic QC checks...\n",
      "[2021-11-25 00:48:52,676] - obspy.clients.fdsn.mass_downloader - INFO: Client 'GEONET' - Downloaded 0.0 MB [3.60 KB/sec] of data, 0.0 MB of which were discarded afterwards.\n",
      "[2021-11-25 00:48:52,680] - obspy.clients.fdsn.mass_downloader - INFO: Client 'GEONET' - Status for 1 time intervals/channels after downloading: DOWNLOADED\n",
      "[2021-11-25 00:48:52,688] - obspy.clients.fdsn.mass_downloader - INFO: Client 'GEONET' - No station information to download.\n",
      "[2021-11-25 00:48:52,695] - obspy.clients.fdsn.mass_downloader - INFO: ============================== Final report\n",
      "[2021-11-25 00:48:52,697] - obspy.clients.fdsn.mass_downloader - INFO: 0 MiniSEED files [0.0 MB] already existed.\n",
      "[2021-11-25 00:48:52,698] - obspy.clients.fdsn.mass_downloader - INFO: 1 StationXML files [0.0 MB] already existed.\n",
      "[2021-11-25 00:48:52,699] - obspy.clients.fdsn.mass_downloader - INFO: Client 'GEONET' - Acquired 1 MiniSEED files [0.0 MB].\n",
      "[2021-11-25 00:48:52,700] - obspy.clients.fdsn.mass_downloader - INFO: Client 'GEONET' - Acquired 0 StationXML files [0.0 MB].\n",
      "[2021-11-25 00:48:52,700] - obspy.clients.fdsn.mass_downloader - INFO: Downloaded 0.0 MB in total.\n",
      "[2021-11-25 00:48:52,708] - obspy.clients.fdsn.mass_downloader - INFO: Initializing FDSN client(s) for GEONET.\n",
      "[2021-11-25 00:48:52,724] - obspy.clients.fdsn.mass_downloader - INFO: Successfully initialized 1 client(s): GEONET.\n",
      "[2021-11-25 00:48:52,728] - obspy.clients.fdsn.mass_downloader - INFO: Total acquired or preexisting stations: 0\n",
      "[2021-11-25 00:48:52,729] - obspy.clients.fdsn.mass_downloader - INFO: Client 'GEONET' - Requesting unreliable availability.\n"
     ]
    },
    {
     "name": "stdout",
     "output_type": "stream",
     "text": [
      "=================================================================\n",
      "Initiating mass download request.\n"
     ]
    },
    {
     "name": "stderr",
     "output_type": "stream",
     "text": [
      "[2021-11-25 00:48:53,268] - obspy.clients.fdsn.mass_downloader - INFO: Client 'GEONET' - Successfully requested availability (0.54 seconds)\n",
      "[2021-11-25 00:48:53,269] - obspy.clients.fdsn.mass_downloader - INFO: Client 'GEONET' - Found 1 stations (1 channels).\n",
      "[2021-11-25 00:48:53,269] - obspy.clients.fdsn.mass_downloader - INFO: Client 'GEONET' - Will attempt to download data from 1 stations.\n",
      "[2021-11-25 00:48:53,270] - obspy.clients.fdsn.mass_downloader - INFO: Client 'GEONET' - Status for 1 time intervals/channels before downloading: NEEDS_DOWNLOADING\n",
      "[2021-11-25 00:48:54,113] - obspy.clients.fdsn.mass_downloader - INFO: Client 'GEONET' - Successfully downloaded 1 channels (of 1)\n",
      "[2021-11-25 00:48:54,117] - obspy.clients.fdsn.mass_downloader - INFO: Client 'GEONET' - Launching basic QC checks...\n",
      "[2021-11-25 00:48:54,125] - obspy.clients.fdsn.mass_downloader - INFO: Client 'GEONET' - Downloaded 0.0 MB [3.55 KB/sec] of data, 0.0 MB of which were discarded afterwards.\n",
      "[2021-11-25 00:48:54,126] - obspy.clients.fdsn.mass_downloader - INFO: Client 'GEONET' - Status for 1 time intervals/channels after downloading: DOWNLOADED\n",
      "[2021-11-25 00:48:54,129] - obspy.clients.fdsn.mass_downloader - INFO: Client 'GEONET' - No station information to download.\n",
      "[2021-11-25 00:48:54,131] - obspy.clients.fdsn.mass_downloader - INFO: ============================== Final report\n",
      "[2021-11-25 00:48:54,131] - obspy.clients.fdsn.mass_downloader - INFO: 0 MiniSEED files [0.0 MB] already existed.\n",
      "[2021-11-25 00:48:54,132] - obspy.clients.fdsn.mass_downloader - INFO: 1 StationXML files [0.0 MB] already existed.\n",
      "[2021-11-25 00:48:54,132] - obspy.clients.fdsn.mass_downloader - INFO: Client 'GEONET' - Acquired 1 MiniSEED files [0.0 MB].\n",
      "[2021-11-25 00:48:54,133] - obspy.clients.fdsn.mass_downloader - INFO: Client 'GEONET' - Acquired 0 StationXML files [0.0 MB].\n",
      "[2021-11-25 00:48:54,134] - obspy.clients.fdsn.mass_downloader - INFO: Downloaded 0.0 MB in total.\n",
      "[2021-11-25 00:48:54,139] - obspy.clients.fdsn.mass_downloader - INFO: Initializing FDSN client(s) for GEONET.\n",
      "[2021-11-25 00:48:54,146] - obspy.clients.fdsn.mass_downloader - INFO: Successfully initialized 1 client(s): GEONET.\n",
      "[2021-11-25 00:48:54,147] - obspy.clients.fdsn.mass_downloader - INFO: Total acquired or preexisting stations: 0\n",
      "[2021-11-25 00:48:54,148] - obspy.clients.fdsn.mass_downloader - INFO: Client 'GEONET' - Requesting unreliable availability.\n"
     ]
    },
    {
     "name": "stdout",
     "output_type": "stream",
     "text": [
      "=================================================================\n",
      "Initiating mass download request.\n"
     ]
    },
    {
     "name": "stderr",
     "output_type": "stream",
     "text": [
      "[2021-11-25 00:48:54,710] - obspy.clients.fdsn.mass_downloader - INFO: Client 'GEONET' - Successfully requested availability (0.56 seconds)\n",
      "[2021-11-25 00:48:54,711] - obspy.clients.fdsn.mass_downloader - INFO: Client 'GEONET' - Found 1 stations (1 channels).\n",
      "[2021-11-25 00:48:54,711] - obspy.clients.fdsn.mass_downloader - INFO: Client 'GEONET' - Will attempt to download data from 1 stations.\n",
      "[2021-11-25 00:48:54,711] - obspy.clients.fdsn.mass_downloader - INFO: Client 'GEONET' - Status for 1 time intervals/channels before downloading: NEEDS_DOWNLOADING\n",
      "[2021-11-25 00:48:55,684] - obspy.clients.fdsn.mass_downloader - INFO: Client 'GEONET' - Successfully downloaded 1 channels (of 1)\n",
      "[2021-11-25 00:48:55,695] - obspy.clients.fdsn.mass_downloader - INFO: Client 'GEONET' - Launching basic QC checks...\n",
      "[2021-11-25 00:48:55,722] - obspy.clients.fdsn.mass_downloader - INFO: Client 'GEONET' - Downloaded 0.0 MB [4.07 KB/sec] of data, 0.0 MB of which were discarded afterwards.\n",
      "[2021-11-25 00:48:55,725] - obspy.clients.fdsn.mass_downloader - INFO: Client 'GEONET' - Status for 1 time intervals/channels after downloading: DOWNLOADED\n",
      "[2021-11-25 00:48:55,729] - obspy.clients.fdsn.mass_downloader - INFO: Client 'GEONET' - No station information to download.\n",
      "[2021-11-25 00:48:55,730] - obspy.clients.fdsn.mass_downloader - INFO: ============================== Final report\n",
      "[2021-11-25 00:48:55,731] - obspy.clients.fdsn.mass_downloader - INFO: 0 MiniSEED files [0.0 MB] already existed.\n",
      "[2021-11-25 00:48:55,731] - obspy.clients.fdsn.mass_downloader - INFO: 1 StationXML files [0.0 MB] already existed.\n",
      "[2021-11-25 00:48:55,734] - obspy.clients.fdsn.mass_downloader - INFO: Client 'GEONET' - Acquired 1 MiniSEED files [0.0 MB].\n",
      "[2021-11-25 00:48:55,735] - obspy.clients.fdsn.mass_downloader - INFO: Client 'GEONET' - Acquired 0 StationXML files [0.0 MB].\n",
      "[2021-11-25 00:48:55,735] - obspy.clients.fdsn.mass_downloader - INFO: Downloaded 0.0 MB in total.\n",
      "[2021-11-25 00:48:55,740] - obspy.clients.fdsn.mass_downloader - INFO: Initializing FDSN client(s) for GEONET.\n",
      "[2021-11-25 00:48:55,750] - obspy.clients.fdsn.mass_downloader - INFO: Successfully initialized 1 client(s): GEONET.\n",
      "[2021-11-25 00:48:55,751] - obspy.clients.fdsn.mass_downloader - INFO: Total acquired or preexisting stations: 0\n",
      "[2021-11-25 00:48:55,752] - obspy.clients.fdsn.mass_downloader - INFO: Client 'GEONET' - Requesting unreliable availability.\n"
     ]
    },
    {
     "name": "stdout",
     "output_type": "stream",
     "text": [
      "=================================================================\n",
      "Initiating mass download request.\n"
     ]
    },
    {
     "name": "stderr",
     "output_type": "stream",
     "text": [
      "[2021-11-25 00:48:56,402] - obspy.clients.fdsn.mass_downloader - INFO: Client 'GEONET' - Successfully requested availability (0.65 seconds)\n",
      "[2021-11-25 00:48:56,402] - obspy.clients.fdsn.mass_downloader - INFO: Client 'GEONET' - Found 1 stations (1 channels).\n",
      "[2021-11-25 00:48:56,403] - obspy.clients.fdsn.mass_downloader - INFO: Client 'GEONET' - Will attempt to download data from 1 stations.\n",
      "[2021-11-25 00:48:56,403] - obspy.clients.fdsn.mass_downloader - INFO: Client 'GEONET' - Status for 1 time intervals/channels before downloading: NEEDS_DOWNLOADING\n",
      "[2021-11-25 00:48:57,340] - obspy.clients.fdsn.mass_downloader - INFO: Client 'GEONET' - Successfully downloaded 1 channels (of 1)\n",
      "[2021-11-25 00:48:57,343] - obspy.clients.fdsn.mass_downloader - INFO: Client 'GEONET' - Launching basic QC checks...\n",
      "[2021-11-25 00:48:57,351] - obspy.clients.fdsn.mass_downloader - INFO: Client 'GEONET' - Downloaded 0.0 MB [3.73 KB/sec] of data, 0.0 MB of which were discarded afterwards.\n",
      "[2021-11-25 00:48:57,352] - obspy.clients.fdsn.mass_downloader - INFO: Client 'GEONET' - Status for 1 time intervals/channels after downloading: DOWNLOADED\n",
      "[2021-11-25 00:48:57,354] - obspy.clients.fdsn.mass_downloader - INFO: Client 'GEONET' - No station information to download.\n",
      "[2021-11-25 00:48:57,355] - obspy.clients.fdsn.mass_downloader - INFO: ============================== Final report\n",
      "[2021-11-25 00:48:57,355] - obspy.clients.fdsn.mass_downloader - INFO: 0 MiniSEED files [0.0 MB] already existed.\n",
      "[2021-11-25 00:48:57,355] - obspy.clients.fdsn.mass_downloader - INFO: 1 StationXML files [0.0 MB] already existed.\n",
      "[2021-11-25 00:48:57,355] - obspy.clients.fdsn.mass_downloader - INFO: Client 'GEONET' - Acquired 1 MiniSEED files [0.0 MB].\n",
      "[2021-11-25 00:48:57,356] - obspy.clients.fdsn.mass_downloader - INFO: Client 'GEONET' - Acquired 0 StationXML files [0.0 MB].\n",
      "[2021-11-25 00:48:57,356] - obspy.clients.fdsn.mass_downloader - INFO: Downloaded 0.0 MB in total.\n",
      "[2021-11-25 00:48:57,358] - obspy.clients.fdsn.mass_downloader - INFO: Initializing FDSN client(s) for GEONET.\n",
      "[2021-11-25 00:48:57,363] - obspy.clients.fdsn.mass_downloader - INFO: Successfully initialized 1 client(s): GEONET.\n",
      "[2021-11-25 00:48:57,365] - obspy.clients.fdsn.mass_downloader - INFO: Total acquired or preexisting stations: 0\n",
      "[2021-11-25 00:48:57,365] - obspy.clients.fdsn.mass_downloader - INFO: Client 'GEONET' - Requesting unreliable availability.\n"
     ]
    },
    {
     "name": "stdout",
     "output_type": "stream",
     "text": [
      "=================================================================\n",
      "Initiating mass download request.\n"
     ]
    },
    {
     "name": "stderr",
     "output_type": "stream",
     "text": [
      "[2021-11-25 00:48:58,076] - obspy.clients.fdsn.mass_downloader - INFO: Client 'GEONET' - Successfully requested availability (0.71 seconds)\n",
      "[2021-11-25 00:48:58,079] - obspy.clients.fdsn.mass_downloader - INFO: Client 'GEONET' - Found 1 stations (1 channels).\n",
      "[2021-11-25 00:48:58,080] - obspy.clients.fdsn.mass_downloader - INFO: Client 'GEONET' - Will attempt to download data from 1 stations.\n",
      "[2021-11-25 00:48:58,083] - obspy.clients.fdsn.mass_downloader - INFO: Client 'GEONET' - Status for 1 time intervals/channels before downloading: NEEDS_DOWNLOADING\n",
      "[2021-11-25 00:48:59,182] - obspy.clients.fdsn.mass_downloader - INFO: Client 'GEONET' - Successfully downloaded 1 channels (of 1)\n",
      "[2021-11-25 00:48:59,189] - obspy.clients.fdsn.mass_downloader - INFO: Client 'GEONET' - Launching basic QC checks...\n",
      "[2021-11-25 00:48:59,204] - obspy.clients.fdsn.mass_downloader - INFO: Client 'GEONET' - Downloaded 0.0 MB [5.01 KB/sec] of data, 0.0 MB of which were discarded afterwards.\n",
      "[2021-11-25 00:48:59,205] - obspy.clients.fdsn.mass_downloader - INFO: Client 'GEONET' - Status for 1 time intervals/channels after downloading: DOWNLOADED\n",
      "[2021-11-25 00:48:59,210] - obspy.clients.fdsn.mass_downloader - INFO: Client 'GEONET' - No station information to download.\n",
      "[2021-11-25 00:48:59,211] - obspy.clients.fdsn.mass_downloader - INFO: ============================== Final report\n",
      "[2021-11-25 00:48:59,212] - obspy.clients.fdsn.mass_downloader - INFO: 0 MiniSEED files [0.0 MB] already existed.\n",
      "[2021-11-25 00:48:59,213] - obspy.clients.fdsn.mass_downloader - INFO: 1 StationXML files [0.0 MB] already existed.\n",
      "[2021-11-25 00:48:59,214] - obspy.clients.fdsn.mass_downloader - INFO: Client 'GEONET' - Acquired 1 MiniSEED files [0.0 MB].\n",
      "[2021-11-25 00:48:59,215] - obspy.clients.fdsn.mass_downloader - INFO: Client 'GEONET' - Acquired 0 StationXML files [0.0 MB].\n",
      "[2021-11-25 00:48:59,215] - obspy.clients.fdsn.mass_downloader - INFO: Downloaded 0.0 MB in total.\n",
      "[2021-11-25 00:48:59,227] - obspy.clients.fdsn.mass_downloader - INFO: Initializing FDSN client(s) for GEONET.\n",
      "[2021-11-25 00:48:59,268] - obspy.clients.fdsn.mass_downloader - INFO: Successfully initialized 1 client(s): GEONET.\n",
      "[2021-11-25 00:48:59,274] - obspy.clients.fdsn.mass_downloader - INFO: Total acquired or preexisting stations: 0\n",
      "[2021-11-25 00:48:59,277] - obspy.clients.fdsn.mass_downloader - INFO: Client 'GEONET' - Requesting unreliable availability.\n"
     ]
    },
    {
     "name": "stdout",
     "output_type": "stream",
     "text": [
      "=================================================================\n",
      "Initiating mass download request.\n"
     ]
    },
    {
     "name": "stderr",
     "output_type": "stream",
     "text": [
      "[2021-11-25 00:48:59,921] - obspy.clients.fdsn.mass_downloader - INFO: Client 'GEONET' - Successfully requested availability (0.64 seconds)\n",
      "[2021-11-25 00:48:59,936] - obspy.clients.fdsn.mass_downloader - INFO: Client 'GEONET' - Found 1 stations (1 channels).\n",
      "[2021-11-25 00:48:59,937] - obspy.clients.fdsn.mass_downloader - INFO: Client 'GEONET' - Will attempt to download data from 1 stations.\n",
      "[2021-11-25 00:48:59,941] - obspy.clients.fdsn.mass_downloader - INFO: Client 'GEONET' - Status for 1 time intervals/channels before downloading: NEEDS_DOWNLOADING\n",
      "[2021-11-25 00:49:00,842] - obspy.clients.fdsn.mass_downloader - INFO: Client 'GEONET' - Successfully downloaded 1 channels (of 1)\n",
      "[2021-11-25 00:49:00,846] - obspy.clients.fdsn.mass_downloader - INFO: Client 'GEONET' - Launching basic QC checks...\n",
      "[2021-11-25 00:49:00,857] - obspy.clients.fdsn.mass_downloader - INFO: Client 'GEONET' - Downloaded 0.0 MB [2.82 KB/sec] of data, 0.0 MB of which were discarded afterwards.\n",
      "[2021-11-25 00:49:00,857] - obspy.clients.fdsn.mass_downloader - INFO: Client 'GEONET' - Status for 1 time intervals/channels after downloading: DOWNLOADED\n",
      "[2021-11-25 00:49:00,862] - obspy.clients.fdsn.mass_downloader - INFO: Client 'GEONET' - No station information to download.\n",
      "[2021-11-25 00:49:00,863] - obspy.clients.fdsn.mass_downloader - INFO: ============================== Final report\n",
      "[2021-11-25 00:49:00,863] - obspy.clients.fdsn.mass_downloader - INFO: 0 MiniSEED files [0.0 MB] already existed.\n",
      "[2021-11-25 00:49:00,864] - obspy.clients.fdsn.mass_downloader - INFO: 1 StationXML files [0.0 MB] already existed.\n",
      "[2021-11-25 00:49:00,864] - obspy.clients.fdsn.mass_downloader - INFO: Client 'GEONET' - Acquired 1 MiniSEED files [0.0 MB].\n",
      "[2021-11-25 00:49:00,865] - obspy.clients.fdsn.mass_downloader - INFO: Client 'GEONET' - Acquired 0 StationXML files [0.0 MB].\n",
      "[2021-11-25 00:49:00,865] - obspy.clients.fdsn.mass_downloader - INFO: Downloaded 0.0 MB in total.\n",
      "[2021-11-25 00:49:00,872] - obspy.clients.fdsn.mass_downloader - INFO: Initializing FDSN client(s) for GEONET.\n",
      "[2021-11-25 00:49:00,876] - obspy.clients.fdsn.mass_downloader - INFO: Successfully initialized 1 client(s): GEONET.\n",
      "[2021-11-25 00:49:00,877] - obspy.clients.fdsn.mass_downloader - INFO: Total acquired or preexisting stations: 0\n",
      "[2021-11-25 00:49:00,877] - obspy.clients.fdsn.mass_downloader - INFO: Client 'GEONET' - Requesting unreliable availability.\n"
     ]
    },
    {
     "name": "stdout",
     "output_type": "stream",
     "text": [
      "=================================================================\n",
      "Initiating mass download request.\n"
     ]
    },
    {
     "name": "stderr",
     "output_type": "stream",
     "text": [
      "[2021-11-25 00:49:01,439] - obspy.clients.fdsn.mass_downloader - INFO: Client 'GEONET' - Successfully requested availability (0.56 seconds)\n",
      "[2021-11-25 00:49:01,440] - obspy.clients.fdsn.mass_downloader - INFO: Client 'GEONET' - Found 1 stations (1 channels).\n",
      "[2021-11-25 00:49:01,440] - obspy.clients.fdsn.mass_downloader - INFO: Client 'GEONET' - Will attempt to download data from 1 stations.\n",
      "[2021-11-25 00:49:01,442] - obspy.clients.fdsn.mass_downloader - INFO: Client 'GEONET' - Status for 1 time intervals/channels before downloading: NEEDS_DOWNLOADING\n",
      "[2021-11-25 00:49:02,306] - obspy.clients.fdsn.mass_downloader - INFO: Client 'GEONET' - Successfully downloaded 1 channels (of 1)\n",
      "[2021-11-25 00:49:02,311] - obspy.clients.fdsn.mass_downloader - INFO: Client 'GEONET' - Launching basic QC checks...\n",
      "[2021-11-25 00:49:02,325] - obspy.clients.fdsn.mass_downloader - INFO: Client 'GEONET' - Downloaded 0.0 MB [3.46 KB/sec] of data, 0.0 MB of which were discarded afterwards.\n",
      "[2021-11-25 00:49:02,326] - obspy.clients.fdsn.mass_downloader - INFO: Client 'GEONET' - Status for 1 time intervals/channels after downloading: DOWNLOADED\n",
      "[2021-11-25 00:49:02,328] - obspy.clients.fdsn.mass_downloader - INFO: Client 'GEONET' - No station information to download.\n",
      "[2021-11-25 00:49:02,329] - obspy.clients.fdsn.mass_downloader - INFO: ============================== Final report\n",
      "[2021-11-25 00:49:02,329] - obspy.clients.fdsn.mass_downloader - INFO: 0 MiniSEED files [0.0 MB] already existed.\n",
      "[2021-11-25 00:49:02,330] - obspy.clients.fdsn.mass_downloader - INFO: 1 StationXML files [0.0 MB] already existed.\n",
      "[2021-11-25 00:49:02,330] - obspy.clients.fdsn.mass_downloader - INFO: Client 'GEONET' - Acquired 1 MiniSEED files [0.0 MB].\n",
      "[2021-11-25 00:49:02,330] - obspy.clients.fdsn.mass_downloader - INFO: Client 'GEONET' - Acquired 0 StationXML files [0.0 MB].\n",
      "[2021-11-25 00:49:02,330] - obspy.clients.fdsn.mass_downloader - INFO: Downloaded 0.0 MB in total.\n",
      "[2021-11-25 00:49:02,339] - obspy.clients.fdsn.mass_downloader - INFO: Initializing FDSN client(s) for GEONET.\n",
      "[2021-11-25 00:49:02,343] - obspy.clients.fdsn.mass_downloader - INFO: Successfully initialized 1 client(s): GEONET.\n",
      "[2021-11-25 00:49:02,343] - obspy.clients.fdsn.mass_downloader - INFO: Total acquired or preexisting stations: 0\n",
      "[2021-11-25 00:49:02,344] - obspy.clients.fdsn.mass_downloader - INFO: Client 'GEONET' - Requesting unreliable availability.\n"
     ]
    },
    {
     "name": "stdout",
     "output_type": "stream",
     "text": [
      "=================================================================\n",
      "Initiating mass download request.\n"
     ]
    },
    {
     "name": "stderr",
     "output_type": "stream",
     "text": [
      "[2021-11-25 00:49:02,939] - obspy.clients.fdsn.mass_downloader - INFO: Client 'GEONET' - Successfully requested availability (0.59 seconds)\n",
      "[2021-11-25 00:49:02,947] - obspy.clients.fdsn.mass_downloader - INFO: Client 'GEONET' - Found 1 stations (1 channels).\n",
      "[2021-11-25 00:49:02,951] - obspy.clients.fdsn.mass_downloader - INFO: Client 'GEONET' - Will attempt to download data from 1 stations.\n",
      "[2021-11-25 00:49:02,953] - obspy.clients.fdsn.mass_downloader - INFO: Client 'GEONET' - Status for 1 time intervals/channels before downloading: NEEDS_DOWNLOADING\n",
      "[2021-11-25 00:49:03,781] - obspy.clients.fdsn.mass_downloader - INFO: Client 'GEONET' - Successfully downloaded 1 channels (of 1)\n",
      "[2021-11-25 00:49:03,804] - obspy.clients.fdsn.mass_downloader - INFO: Client 'GEONET' - Launching basic QC checks...\n",
      "[2021-11-25 00:49:03,817] - obspy.clients.fdsn.mass_downloader - INFO: Client 'GEONET' - Downloaded 0.0 MB [4.13 KB/sec] of data, 0.0 MB of which were discarded afterwards.\n",
      "[2021-11-25 00:49:03,818] - obspy.clients.fdsn.mass_downloader - INFO: Client 'GEONET' - Status for 1 time intervals/channels after downloading: DOWNLOADED\n",
      "[2021-11-25 00:49:03,826] - obspy.clients.fdsn.mass_downloader - INFO: Client 'GEONET' - No station information to download.\n",
      "[2021-11-25 00:49:03,828] - obspy.clients.fdsn.mass_downloader - INFO: ============================== Final report\n",
      "[2021-11-25 00:49:03,829] - obspy.clients.fdsn.mass_downloader - INFO: 0 MiniSEED files [0.0 MB] already existed.\n",
      "[2021-11-25 00:49:03,832] - obspy.clients.fdsn.mass_downloader - INFO: 1 StationXML files [0.0 MB] already existed.\n",
      "[2021-11-25 00:49:03,832] - obspy.clients.fdsn.mass_downloader - INFO: Client 'GEONET' - Acquired 1 MiniSEED files [0.0 MB].\n",
      "[2021-11-25 00:49:03,833] - obspy.clients.fdsn.mass_downloader - INFO: Client 'GEONET' - Acquired 0 StationXML files [0.0 MB].\n",
      "[2021-11-25 00:49:03,834] - obspy.clients.fdsn.mass_downloader - INFO: Downloaded 0.0 MB in total.\n",
      "[2021-11-25 00:49:03,840] - obspy.clients.fdsn.mass_downloader - INFO: Initializing FDSN client(s) for GEONET.\n",
      "[2021-11-25 00:49:03,854] - obspy.clients.fdsn.mass_downloader - INFO: Successfully initialized 1 client(s): GEONET.\n",
      "[2021-11-25 00:49:03,861] - obspy.clients.fdsn.mass_downloader - INFO: Total acquired or preexisting stations: 0\n",
      "[2021-11-25 00:49:03,862] - obspy.clients.fdsn.mass_downloader - INFO: Client 'GEONET' - Requesting unreliable availability.\n"
     ]
    },
    {
     "name": "stdout",
     "output_type": "stream",
     "text": [
      "=================================================================\n",
      "Initiating mass download request.\n"
     ]
    },
    {
     "name": "stderr",
     "output_type": "stream",
     "text": [
      "[2021-11-25 00:49:04,435] - obspy.clients.fdsn.mass_downloader - INFO: Client 'GEONET' - Successfully requested availability (0.57 seconds)\n",
      "[2021-11-25 00:49:04,473] - obspy.clients.fdsn.mass_downloader - INFO: Client 'GEONET' - Found 1 stations (1 channels).\n",
      "[2021-11-25 00:49:04,479] - obspy.clients.fdsn.mass_downloader - INFO: Client 'GEONET' - Will attempt to download data from 1 stations.\n",
      "[2021-11-25 00:49:04,492] - obspy.clients.fdsn.mass_downloader - INFO: Client 'GEONET' - Status for 1 time intervals/channels before downloading: NEEDS_DOWNLOADING\n",
      "[2021-11-25 00:49:05,377] - obspy.clients.fdsn.mass_downloader - INFO: Client 'GEONET' - Successfully downloaded 1 channels (of 1)\n",
      "[2021-11-25 00:49:05,405] - obspy.clients.fdsn.mass_downloader - INFO: Client 'GEONET' - Launching basic QC checks...\n",
      "[2021-11-25 00:49:05,422] - obspy.clients.fdsn.mass_downloader - INFO: Client 'GEONET' - Downloaded 0.0 MB [3.35 KB/sec] of data, 0.0 MB of which were discarded afterwards.\n",
      "[2021-11-25 00:49:05,423] - obspy.clients.fdsn.mass_downloader - INFO: Client 'GEONET' - Status for 1 time intervals/channels after downloading: DOWNLOADED\n",
      "[2021-11-25 00:49:05,434] - obspy.clients.fdsn.mass_downloader - INFO: Client 'GEONET' - No station information to download.\n",
      "[2021-11-25 00:49:05,441] - obspy.clients.fdsn.mass_downloader - INFO: ============================== Final report\n",
      "[2021-11-25 00:49:05,444] - obspy.clients.fdsn.mass_downloader - INFO: 0 MiniSEED files [0.0 MB] already existed.\n",
      "[2021-11-25 00:49:05,446] - obspy.clients.fdsn.mass_downloader - INFO: 1 StationXML files [0.0 MB] already existed.\n",
      "[2021-11-25 00:49:05,446] - obspy.clients.fdsn.mass_downloader - INFO: Client 'GEONET' - Acquired 1 MiniSEED files [0.0 MB].\n",
      "[2021-11-25 00:49:05,446] - obspy.clients.fdsn.mass_downloader - INFO: Client 'GEONET' - Acquired 0 StationXML files [0.0 MB].\n",
      "[2021-11-25 00:49:05,447] - obspy.clients.fdsn.mass_downloader - INFO: Downloaded 0.0 MB in total.\n",
      "[2021-11-25 00:49:05,452] - obspy.clients.fdsn.mass_downloader - INFO: Initializing FDSN client(s) for GEONET.\n",
      "[2021-11-25 00:49:05,467] - obspy.clients.fdsn.mass_downloader - INFO: Successfully initialized 1 client(s): GEONET.\n",
      "[2021-11-25 00:49:05,469] - obspy.clients.fdsn.mass_downloader - INFO: Total acquired or preexisting stations: 0\n",
      "[2021-11-25 00:49:05,469] - obspy.clients.fdsn.mass_downloader - INFO: Client 'GEONET' - Requesting unreliable availability.\n"
     ]
    },
    {
     "name": "stdout",
     "output_type": "stream",
     "text": [
      "=================================================================\n",
      "Initiating mass download request.\n"
     ]
    },
    {
     "name": "stderr",
     "output_type": "stream",
     "text": [
      "[2021-11-25 00:49:06,165] - obspy.clients.fdsn.mass_downloader - INFO: Client 'GEONET' - Successfully requested availability (0.70 seconds)\n",
      "[2021-11-25 00:49:06,177] - obspy.clients.fdsn.mass_downloader - INFO: Client 'GEONET' - Found 1 stations (1 channels).\n",
      "[2021-11-25 00:49:06,189] - obspy.clients.fdsn.mass_downloader - INFO: Client 'GEONET' - Will attempt to download data from 1 stations.\n",
      "[2021-11-25 00:49:06,192] - obspy.clients.fdsn.mass_downloader - INFO: Client 'GEONET' - Status for 1 time intervals/channels before downloading: NEEDS_DOWNLOADING\n",
      "[2021-11-25 00:49:06,986] - obspy.clients.fdsn.mass_downloader - INFO: Client 'GEONET' - Successfully downloaded 1 channels (of 1)\n",
      "[2021-11-25 00:49:07,003] - obspy.clients.fdsn.mass_downloader - INFO: Client 'GEONET' - Launching basic QC checks...\n",
      "[2021-11-25 00:49:07,012] - obspy.clients.fdsn.mass_downloader - INFO: Client 'GEONET' - Downloaded 0.0 MB [3.13 KB/sec] of data, 0.0 MB of which were discarded afterwards.\n",
      "[2021-11-25 00:49:07,013] - obspy.clients.fdsn.mass_downloader - INFO: Client 'GEONET' - Status for 1 time intervals/channels after downloading: DOWNLOADED\n",
      "[2021-11-25 00:49:07,015] - obspy.clients.fdsn.mass_downloader - INFO: Client 'GEONET' - No station information to download.\n",
      "[2021-11-25 00:49:07,016] - obspy.clients.fdsn.mass_downloader - INFO: ============================== Final report\n",
      "[2021-11-25 00:49:07,016] - obspy.clients.fdsn.mass_downloader - INFO: 0 MiniSEED files [0.0 MB] already existed.\n",
      "[2021-11-25 00:49:07,017] - obspy.clients.fdsn.mass_downloader - INFO: 1 StationXML files [0.0 MB] already existed.\n",
      "[2021-11-25 00:49:07,017] - obspy.clients.fdsn.mass_downloader - INFO: Client 'GEONET' - Acquired 1 MiniSEED files [0.0 MB].\n",
      "[2021-11-25 00:49:07,017] - obspy.clients.fdsn.mass_downloader - INFO: Client 'GEONET' - Acquired 0 StationXML files [0.0 MB].\n",
      "[2021-11-25 00:49:07,018] - obspy.clients.fdsn.mass_downloader - INFO: Downloaded 0.0 MB in total.\n",
      "[2021-11-25 00:49:07,024] - obspy.clients.fdsn.mass_downloader - INFO: Initializing FDSN client(s) for GEONET.\n",
      "[2021-11-25 00:49:07,028] - obspy.clients.fdsn.mass_downloader - INFO: Successfully initialized 1 client(s): GEONET.\n",
      "[2021-11-25 00:49:07,029] - obspy.clients.fdsn.mass_downloader - INFO: Total acquired or preexisting stations: 0\n",
      "[2021-11-25 00:49:07,029] - obspy.clients.fdsn.mass_downloader - INFO: Client 'GEONET' - Requesting unreliable availability.\n"
     ]
    },
    {
     "name": "stdout",
     "output_type": "stream",
     "text": [
      "=================================================================\n",
      "Initiating mass download request.\n"
     ]
    },
    {
     "name": "stderr",
     "output_type": "stream",
     "text": [
      "[2021-11-25 00:49:07,568] - obspy.clients.fdsn.mass_downloader - INFO: Client 'GEONET' - Successfully requested availability (0.54 seconds)\n",
      "[2021-11-25 00:49:07,570] - obspy.clients.fdsn.mass_downloader - INFO: Client 'GEONET' - Found 1 stations (1 channels).\n",
      "[2021-11-25 00:49:07,570] - obspy.clients.fdsn.mass_downloader - INFO: Client 'GEONET' - Will attempt to download data from 1 stations.\n",
      "[2021-11-25 00:49:07,571] - obspy.clients.fdsn.mass_downloader - INFO: Client 'GEONET' - Status for 1 time intervals/channels before downloading: NEEDS_DOWNLOADING\n",
      "[2021-11-25 00:49:08,411] - obspy.clients.fdsn.mass_downloader - INFO: Client 'GEONET' - Successfully downloaded 1 channels (of 1)\n",
      "[2021-11-25 00:49:08,417] - obspy.clients.fdsn.mass_downloader - INFO: Client 'GEONET' - Launching basic QC checks...\n",
      "[2021-11-25 00:49:08,426] - obspy.clients.fdsn.mass_downloader - INFO: Client 'GEONET' - Downloaded 0.0 MB [2.96 KB/sec] of data, 0.0 MB of which were discarded afterwards.\n",
      "[2021-11-25 00:49:08,427] - obspy.clients.fdsn.mass_downloader - INFO: Client 'GEONET' - Status for 1 time intervals/channels after downloading: DOWNLOADED\n",
      "[2021-11-25 00:49:08,434] - obspy.clients.fdsn.mass_downloader - INFO: Client 'GEONET' - No station information to download.\n",
      "[2021-11-25 00:49:08,438] - obspy.clients.fdsn.mass_downloader - INFO: ============================== Final report\n",
      "[2021-11-25 00:49:08,438] - obspy.clients.fdsn.mass_downloader - INFO: 0 MiniSEED files [0.0 MB] already existed.\n",
      "[2021-11-25 00:49:08,439] - obspy.clients.fdsn.mass_downloader - INFO: 1 StationXML files [0.0 MB] already existed.\n",
      "[2021-11-25 00:49:08,439] - obspy.clients.fdsn.mass_downloader - INFO: Client 'GEONET' - Acquired 1 MiniSEED files [0.0 MB].\n",
      "[2021-11-25 00:49:08,440] - obspy.clients.fdsn.mass_downloader - INFO: Client 'GEONET' - Acquired 0 StationXML files [0.0 MB].\n",
      "[2021-11-25 00:49:08,440] - obspy.clients.fdsn.mass_downloader - INFO: Downloaded 0.0 MB in total.\n",
      "[2021-11-25 00:49:08,442] - obspy.clients.fdsn.mass_downloader - INFO: Initializing FDSN client(s) for GEONET.\n",
      "[2021-11-25 00:49:08,448] - obspy.clients.fdsn.mass_downloader - INFO: Successfully initialized 1 client(s): GEONET.\n",
      "[2021-11-25 00:49:08,449] - obspy.clients.fdsn.mass_downloader - INFO: Total acquired or preexisting stations: 0\n",
      "[2021-11-25 00:49:08,449] - obspy.clients.fdsn.mass_downloader - INFO: Client 'GEONET' - Requesting unreliable availability.\n"
     ]
    },
    {
     "name": "stdout",
     "output_type": "stream",
     "text": [
      "=================================================================\n",
      "Initiating mass download request.\n"
     ]
    },
    {
     "name": "stderr",
     "output_type": "stream",
     "text": [
      "[2021-11-25 00:49:09,004] - obspy.clients.fdsn.mass_downloader - INFO: Client 'GEONET' - Successfully requested availability (0.55 seconds)\n",
      "[2021-11-25 00:49:09,011] - obspy.clients.fdsn.mass_downloader - INFO: Client 'GEONET' - Found 1 stations (1 channels).\n",
      "[2021-11-25 00:49:09,013] - obspy.clients.fdsn.mass_downloader - INFO: Client 'GEONET' - Will attempt to download data from 1 stations.\n",
      "[2021-11-25 00:49:09,014] - obspy.clients.fdsn.mass_downloader - INFO: Client 'GEONET' - Status for 1 time intervals/channels before downloading: NEEDS_DOWNLOADING\n",
      "[2021-11-25 00:49:09,960] - obspy.clients.fdsn.mass_downloader - INFO: Client 'GEONET' - Successfully downloaded 1 channels (of 1)\n",
      "[2021-11-25 00:49:09,968] - obspy.clients.fdsn.mass_downloader - INFO: Client 'GEONET' - Launching basic QC checks...\n",
      "[2021-11-25 00:49:09,991] - obspy.clients.fdsn.mass_downloader - INFO: Client 'GEONET' - Downloaded 0.0 MB [4.22 KB/sec] of data, 0.0 MB of which were discarded afterwards.\n",
      "[2021-11-25 00:49:09,992] - obspy.clients.fdsn.mass_downloader - INFO: Client 'GEONET' - Status for 1 time intervals/channels after downloading: DOWNLOADED\n",
      "[2021-11-25 00:49:10,001] - obspy.clients.fdsn.mass_downloader - INFO: Client 'GEONET' - No station information to download.\n",
      "[2021-11-25 00:49:10,003] - obspy.clients.fdsn.mass_downloader - INFO: ============================== Final report\n",
      "[2021-11-25 00:49:10,005] - obspy.clients.fdsn.mass_downloader - INFO: 0 MiniSEED files [0.0 MB] already existed.\n",
      "[2021-11-25 00:49:10,006] - obspy.clients.fdsn.mass_downloader - INFO: 1 StationXML files [0.0 MB] already existed.\n",
      "[2021-11-25 00:49:10,007] - obspy.clients.fdsn.mass_downloader - INFO: Client 'GEONET' - Acquired 1 MiniSEED files [0.0 MB].\n",
      "[2021-11-25 00:49:10,008] - obspy.clients.fdsn.mass_downloader - INFO: Client 'GEONET' - Acquired 0 StationXML files [0.0 MB].\n",
      "[2021-11-25 00:49:10,008] - obspy.clients.fdsn.mass_downloader - INFO: Downloaded 0.0 MB in total.\n",
      "[2021-11-25 00:49:10,016] - obspy.clients.fdsn.mass_downloader - INFO: Initializing FDSN client(s) for GEONET.\n",
      "[2021-11-25 00:49:10,043] - obspy.clients.fdsn.mass_downloader - INFO: Successfully initialized 1 client(s): GEONET.\n",
      "[2021-11-25 00:49:10,045] - obspy.clients.fdsn.mass_downloader - INFO: Total acquired or preexisting stations: 0\n",
      "[2021-11-25 00:49:10,045] - obspy.clients.fdsn.mass_downloader - INFO: Client 'GEONET' - Requesting unreliable availability.\n"
     ]
    },
    {
     "name": "stdout",
     "output_type": "stream",
     "text": [
      "=================================================================\n",
      "Initiating mass download request.\n"
     ]
    },
    {
     "name": "stderr",
     "output_type": "stream",
     "text": [
      "[2021-11-25 00:49:10,688] - obspy.clients.fdsn.mass_downloader - INFO: Client 'GEONET' - Successfully requested availability (0.64 seconds)\n",
      "[2021-11-25 00:49:10,694] - obspy.clients.fdsn.mass_downloader - INFO: Client 'GEONET' - Found 1 stations (1 channels).\n",
      "[2021-11-25 00:49:10,695] - obspy.clients.fdsn.mass_downloader - INFO: Client 'GEONET' - Will attempt to download data from 1 stations.\n",
      "[2021-11-25 00:49:10,695] - obspy.clients.fdsn.mass_downloader - INFO: Client 'GEONET' - Status for 1 time intervals/channels before downloading: NEEDS_DOWNLOADING\n",
      "[2021-11-25 00:49:11,544] - obspy.clients.fdsn.mass_downloader - INFO: Client 'GEONET' - Successfully downloaded 1 channels (of 1)\n",
      "[2021-11-25 00:49:11,586] - obspy.clients.fdsn.mass_downloader - INFO: Client 'GEONET' - Launching basic QC checks...\n",
      "[2021-11-25 00:49:11,603] - obspy.clients.fdsn.mass_downloader - INFO: Client 'GEONET' - Downloaded 0.0 MB [3.39 KB/sec] of data, 0.0 MB of which were discarded afterwards.\n",
      "[2021-11-25 00:49:11,605] - obspy.clients.fdsn.mass_downloader - INFO: Client 'GEONET' - Status for 1 time intervals/channels after downloading: DOWNLOADED\n",
      "[2021-11-25 00:49:11,612] - obspy.clients.fdsn.mass_downloader - INFO: Client 'GEONET' - No station information to download.\n",
      "[2021-11-25 00:49:11,616] - obspy.clients.fdsn.mass_downloader - INFO: ============================== Final report\n",
      "[2021-11-25 00:49:11,617] - obspy.clients.fdsn.mass_downloader - INFO: 0 MiniSEED files [0.0 MB] already existed.\n",
      "[2021-11-25 00:49:11,619] - obspy.clients.fdsn.mass_downloader - INFO: 1 StationXML files [0.0 MB] already existed.\n",
      "[2021-11-25 00:49:11,619] - obspy.clients.fdsn.mass_downloader - INFO: Client 'GEONET' - Acquired 1 MiniSEED files [0.0 MB].\n",
      "[2021-11-25 00:49:11,620] - obspy.clients.fdsn.mass_downloader - INFO: Client 'GEONET' - Acquired 0 StationXML files [0.0 MB].\n",
      "[2021-11-25 00:49:11,620] - obspy.clients.fdsn.mass_downloader - INFO: Downloaded 0.0 MB in total.\n",
      "[2021-11-25 00:49:11,636] - obspy.clients.fdsn.mass_downloader - INFO: Initializing FDSN client(s) for GEONET.\n",
      "[2021-11-25 00:49:11,650] - obspy.clients.fdsn.mass_downloader - INFO: Successfully initialized 1 client(s): GEONET.\n",
      "[2021-11-25 00:49:11,654] - obspy.clients.fdsn.mass_downloader - INFO: Total acquired or preexisting stations: 0\n",
      "[2021-11-25 00:49:11,657] - obspy.clients.fdsn.mass_downloader - INFO: Client 'GEONET' - Requesting unreliable availability.\n"
     ]
    },
    {
     "name": "stdout",
     "output_type": "stream",
     "text": [
      "=================================================================\n",
      "Initiating mass download request.\n"
     ]
    },
    {
     "name": "stderr",
     "output_type": "stream",
     "text": [
      "[2021-11-25 00:49:12,256] - obspy.clients.fdsn.mass_downloader - INFO: Client 'GEONET' - Successfully requested availability (0.60 seconds)\n",
      "[2021-11-25 00:49:12,267] - obspy.clients.fdsn.mass_downloader - INFO: Client 'GEONET' - Found 1 stations (1 channels).\n",
      "[2021-11-25 00:49:12,268] - obspy.clients.fdsn.mass_downloader - INFO: Client 'GEONET' - Will attempt to download data from 1 stations.\n",
      "[2021-11-25 00:49:12,269] - obspy.clients.fdsn.mass_downloader - INFO: Client 'GEONET' - Status for 1 time intervals/channels before downloading: NEEDS_DOWNLOADING\n",
      "[2021-11-25 00:49:13,112] - obspy.clients.fdsn.mass_downloader - INFO: Client 'GEONET' - Successfully downloaded 1 channels (of 1)\n",
      "[2021-11-25 00:49:13,119] - obspy.clients.fdsn.mass_downloader - INFO: Client 'GEONET' - Launching basic QC checks...\n",
      "[2021-11-25 00:49:13,135] - obspy.clients.fdsn.mass_downloader - INFO: Client 'GEONET' - Downloaded 0.0 MB [3.58 KB/sec] of data, 0.0 MB of which were discarded afterwards.\n",
      "[2021-11-25 00:49:13,137] - obspy.clients.fdsn.mass_downloader - INFO: Client 'GEONET' - Status for 1 time intervals/channels after downloading: DOWNLOADED\n",
      "[2021-11-25 00:49:13,142] - obspy.clients.fdsn.mass_downloader - INFO: Client 'GEONET' - No station information to download.\n",
      "[2021-11-25 00:49:13,143] - obspy.clients.fdsn.mass_downloader - INFO: ============================== Final report\n",
      "[2021-11-25 00:49:13,144] - obspy.clients.fdsn.mass_downloader - INFO: 0 MiniSEED files [0.0 MB] already existed.\n",
      "[2021-11-25 00:49:13,144] - obspy.clients.fdsn.mass_downloader - INFO: 1 StationXML files [0.0 MB] already existed.\n",
      "[2021-11-25 00:49:13,145] - obspy.clients.fdsn.mass_downloader - INFO: Client 'GEONET' - Acquired 1 MiniSEED files [0.0 MB].\n",
      "[2021-11-25 00:49:13,145] - obspy.clients.fdsn.mass_downloader - INFO: Client 'GEONET' - Acquired 0 StationXML files [0.0 MB].\n",
      "[2021-11-25 00:49:13,146] - obspy.clients.fdsn.mass_downloader - INFO: Downloaded 0.0 MB in total.\n",
      "[2021-11-25 00:49:13,155] - obspy.clients.fdsn.mass_downloader - INFO: Initializing FDSN client(s) for GEONET.\n",
      "[2021-11-25 00:49:13,159] - obspy.clients.fdsn.mass_downloader - INFO: Successfully initialized 1 client(s): GEONET.\n",
      "[2021-11-25 00:49:13,160] - obspy.clients.fdsn.mass_downloader - INFO: Total acquired or preexisting stations: 0\n",
      "[2021-11-25 00:49:13,160] - obspy.clients.fdsn.mass_downloader - INFO: Client 'GEONET' - Requesting unreliable availability.\n"
     ]
    },
    {
     "name": "stdout",
     "output_type": "stream",
     "text": [
      "=================================================================\n",
      "Initiating mass download request.\n"
     ]
    },
    {
     "name": "stderr",
     "output_type": "stream",
     "text": [
      "[2021-11-25 00:49:13,734] - obspy.clients.fdsn.mass_downloader - INFO: Client 'GEONET' - Successfully requested availability (0.57 seconds)\n",
      "[2021-11-25 00:49:13,742] - obspy.clients.fdsn.mass_downloader - INFO: Client 'GEONET' - Found 1 stations (1 channels).\n",
      "[2021-11-25 00:49:13,749] - obspy.clients.fdsn.mass_downloader - INFO: Client 'GEONET' - Will attempt to download data from 1 stations.\n",
      "[2021-11-25 00:49:13,751] - obspy.clients.fdsn.mass_downloader - INFO: Client 'GEONET' - Status for 1 time intervals/channels before downloading: NEEDS_DOWNLOADING\n",
      "[2021-11-25 00:49:14,652] - obspy.clients.fdsn.mass_downloader - INFO: Client 'GEONET' - Successfully downloaded 1 channels (of 1)\n",
      "[2021-11-25 00:49:14,673] - obspy.clients.fdsn.mass_downloader - INFO: Client 'GEONET' - Launching basic QC checks...\n",
      "[2021-11-25 00:49:14,780] - obspy.clients.fdsn.mass_downloader - INFO: Client 'GEONET' - Downloaded 0.0 MB [3.31 KB/sec] of data, 0.0 MB of which were discarded afterwards.\n",
      "[2021-11-25 00:49:14,784] - obspy.clients.fdsn.mass_downloader - INFO: Client 'GEONET' - Status for 1 time intervals/channels after downloading: DOWNLOADED\n",
      "[2021-11-25 00:49:14,798] - obspy.clients.fdsn.mass_downloader - INFO: Client 'GEONET' - No station information to download.\n",
      "[2021-11-25 00:49:14,803] - obspy.clients.fdsn.mass_downloader - INFO: ============================== Final report\n",
      "[2021-11-25 00:49:14,814] - obspy.clients.fdsn.mass_downloader - INFO: 0 MiniSEED files [0.0 MB] already existed.\n",
      "[2021-11-25 00:49:14,817] - obspy.clients.fdsn.mass_downloader - INFO: 1 StationXML files [0.0 MB] already existed.\n",
      "[2021-11-25 00:49:14,823] - obspy.clients.fdsn.mass_downloader - INFO: Client 'GEONET' - Acquired 1 MiniSEED files [0.0 MB].\n",
      "[2021-11-25 00:49:14,824] - obspy.clients.fdsn.mass_downloader - INFO: Client 'GEONET' - Acquired 0 StationXML files [0.0 MB].\n",
      "[2021-11-25 00:49:14,825] - obspy.clients.fdsn.mass_downloader - INFO: Downloaded 0.0 MB in total.\n",
      "[2021-11-25 00:49:14,849] - obspy.clients.fdsn.mass_downloader - INFO: Initializing FDSN client(s) for GEONET.\n",
      "[2021-11-25 00:49:14,876] - obspy.clients.fdsn.mass_downloader - INFO: Successfully initialized 1 client(s): GEONET.\n",
      "[2021-11-25 00:49:14,889] - obspy.clients.fdsn.mass_downloader - INFO: Total acquired or preexisting stations: 0\n",
      "[2021-11-25 00:49:14,892] - obspy.clients.fdsn.mass_downloader - INFO: Client 'GEONET' - Requesting unreliable availability.\n"
     ]
    },
    {
     "name": "stdout",
     "output_type": "stream",
     "text": [
      "=================================================================\n",
      "Initiating mass download request.\n"
     ]
    },
    {
     "name": "stderr",
     "output_type": "stream",
     "text": [
      "[2021-11-25 00:49:16,025] - obspy.clients.fdsn.mass_downloader - INFO: Client 'GEONET' - No data available for request.\n",
      "[2021-11-25 00:49:16,042] - obspy.clients.fdsn.mass_downloader - INFO: Client 'GEONET' - No data available.\n",
      "[2021-11-25 00:49:16,043] - obspy.clients.fdsn.mass_downloader - INFO: ============================== Final report\n",
      "[2021-11-25 00:49:16,043] - obspy.clients.fdsn.mass_downloader - INFO: 0 MiniSEED files [0.0 MB] already existed.\n",
      "[2021-11-25 00:49:16,043] - obspy.clients.fdsn.mass_downloader - INFO: 0 StationXML files [0.0 MB] already existed.\n",
      "[2021-11-25 00:49:16,044] - obspy.clients.fdsn.mass_downloader - INFO: Client 'GEONET' - Acquired 0 MiniSEED files [0.0 MB].\n",
      "[2021-11-25 00:49:16,044] - obspy.clients.fdsn.mass_downloader - INFO: Client 'GEONET' - Acquired 0 StationXML files [0.0 MB].\n",
      "[2021-11-25 00:49:16,044] - obspy.clients.fdsn.mass_downloader - INFO: Downloaded 0.0 MB in total.\n",
      "[2021-11-25 00:49:16,047] - obspy.clients.fdsn.mass_downloader - INFO: Initializing FDSN client(s) for GEONET.\n",
      "[2021-11-25 00:49:16,057] - obspy.clients.fdsn.mass_downloader - INFO: Successfully initialized 1 client(s): GEONET.\n",
      "[2021-11-25 00:49:16,061] - obspy.clients.fdsn.mass_downloader - INFO: Total acquired or preexisting stations: 0\n",
      "[2021-11-25 00:49:16,061] - obspy.clients.fdsn.mass_downloader - INFO: Client 'GEONET' - Requesting unreliable availability.\n"
     ]
    },
    {
     "name": "stdout",
     "output_type": "stream",
     "text": [
      "=================================================================\n",
      "Initiating mass download request.\n"
     ]
    },
    {
     "name": "stderr",
     "output_type": "stream",
     "text": [
      "[2021-11-25 00:49:16,680] - obspy.clients.fdsn.mass_downloader - INFO: Client 'GEONET' - Successfully requested availability (0.62 seconds)\n",
      "[2021-11-25 00:49:16,683] - obspy.clients.fdsn.mass_downloader - INFO: Client 'GEONET' - Found 1 stations (1 channels).\n",
      "[2021-11-25 00:49:16,683] - obspy.clients.fdsn.mass_downloader - INFO: Client 'GEONET' - Will attempt to download data from 1 stations.\n",
      "[2021-11-25 00:49:16,687] - obspy.clients.fdsn.mass_downloader - INFO: Client 'GEONET' - Status for 1 time intervals/channels before downloading: NEEDS_DOWNLOADING\n",
      "[2021-11-25 00:49:17,433] - obspy.clients.fdsn.mass_downloader - INFO: Client 'GEONET' - Successfully downloaded 1 channels (of 1)\n",
      "[2021-11-25 00:49:17,437] - obspy.clients.fdsn.mass_downloader - INFO: Client 'GEONET' - Launching basic QC checks...\n",
      "[2021-11-25 00:49:17,445] - obspy.clients.fdsn.mass_downloader - INFO: Client 'GEONET' - Downloaded 0.0 MB [3.35 KB/sec] of data, 0.0 MB of which were discarded afterwards.\n",
      "[2021-11-25 00:49:17,448] - obspy.clients.fdsn.mass_downloader - INFO: Client 'GEONET' - Status for 1 time intervals/channels after downloading: DOWNLOADED\n",
      "[2021-11-25 00:49:17,450] - obspy.clients.fdsn.mass_downloader - INFO: Client 'GEONET' - No station information to download.\n",
      "[2021-11-25 00:49:17,451] - obspy.clients.fdsn.mass_downloader - INFO: ============================== Final report\n",
      "[2021-11-25 00:49:17,451] - obspy.clients.fdsn.mass_downloader - INFO: 0 MiniSEED files [0.0 MB] already existed.\n",
      "[2021-11-25 00:49:17,452] - obspy.clients.fdsn.mass_downloader - INFO: 1 StationXML files [0.0 MB] already existed.\n",
      "[2021-11-25 00:49:17,452] - obspy.clients.fdsn.mass_downloader - INFO: Client 'GEONET' - Acquired 1 MiniSEED files [0.0 MB].\n",
      "[2021-11-25 00:49:17,452] - obspy.clients.fdsn.mass_downloader - INFO: Client 'GEONET' - Acquired 0 StationXML files [0.0 MB].\n",
      "[2021-11-25 00:49:17,453] - obspy.clients.fdsn.mass_downloader - INFO: Downloaded 0.0 MB in total.\n",
      "[2021-11-25 00:49:17,455] - obspy.clients.fdsn.mass_downloader - INFO: Initializing FDSN client(s) for GEONET.\n",
      "[2021-11-25 00:49:17,462] - obspy.clients.fdsn.mass_downloader - INFO: Successfully initialized 1 client(s): GEONET.\n",
      "[2021-11-25 00:49:17,464] - obspy.clients.fdsn.mass_downloader - INFO: Total acquired or preexisting stations: 0\n",
      "[2021-11-25 00:49:17,465] - obspy.clients.fdsn.mass_downloader - INFO: Client 'GEONET' - Requesting unreliable availability.\n"
     ]
    },
    {
     "name": "stdout",
     "output_type": "stream",
     "text": [
      "=================================================================\n",
      "Initiating mass download request.\n"
     ]
    },
    {
     "name": "stderr",
     "output_type": "stream",
     "text": [
      "[2021-11-25 00:49:18,620] - obspy.clients.fdsn.mass_downloader - INFO: Client 'GEONET' - Successfully requested availability (1.15 seconds)\n",
      "[2021-11-25 00:49:18,627] - obspy.clients.fdsn.mass_downloader - INFO: Client 'GEONET' - Found 1 stations (1 channels).\n",
      "[2021-11-25 00:49:18,629] - obspy.clients.fdsn.mass_downloader - INFO: Client 'GEONET' - Will attempt to download data from 1 stations.\n",
      "[2021-11-25 00:49:18,635] - obspy.clients.fdsn.mass_downloader - INFO: Client 'GEONET' - Status for 1 time intervals/channels before downloading: NEEDS_DOWNLOADING\n",
      "[2021-11-25 00:49:19,574] - obspy.clients.fdsn.mass_downloader - INFO: Client 'GEONET' - Successfully downloaded 1 channels (of 1)\n",
      "[2021-11-25 00:49:19,680] - obspy.clients.fdsn.mass_downloader - INFO: Client 'GEONET' - Launching basic QC checks...\n",
      "[2021-11-25 00:49:19,726] - obspy.clients.fdsn.mass_downloader - INFO: Client 'GEONET' - Downloaded 0.0 MB [2.88 KB/sec] of data, 0.0 MB of which were discarded afterwards.\n",
      "[2021-11-25 00:49:19,735] - obspy.clients.fdsn.mass_downloader - INFO: Client 'GEONET' - Status for 1 time intervals/channels after downloading: DOWNLOADED\n",
      "[2021-11-25 00:49:19,749] - obspy.clients.fdsn.mass_downloader - INFO: Client 'GEONET' - No station information to download.\n",
      "[2021-11-25 00:49:19,755] - obspy.clients.fdsn.mass_downloader - INFO: ============================== Final report\n",
      "[2021-11-25 00:49:19,759] - obspy.clients.fdsn.mass_downloader - INFO: 0 MiniSEED files [0.0 MB] already existed.\n",
      "[2021-11-25 00:49:19,761] - obspy.clients.fdsn.mass_downloader - INFO: 1 StationXML files [0.0 MB] already existed.\n",
      "[2021-11-25 00:49:19,763] - obspy.clients.fdsn.mass_downloader - INFO: Client 'GEONET' - Acquired 1 MiniSEED files [0.0 MB].\n",
      "[2021-11-25 00:49:19,765] - obspy.clients.fdsn.mass_downloader - INFO: Client 'GEONET' - Acquired 0 StationXML files [0.0 MB].\n",
      "[2021-11-25 00:49:19,766] - obspy.clients.fdsn.mass_downloader - INFO: Downloaded 0.0 MB in total.\n",
      "[2021-11-25 00:49:19,773] - obspy.clients.fdsn.mass_downloader - INFO: Initializing FDSN client(s) for GEONET.\n",
      "[2021-11-25 00:49:19,784] - obspy.clients.fdsn.mass_downloader - INFO: Successfully initialized 1 client(s): GEONET.\n",
      "[2021-11-25 00:49:19,787] - obspy.clients.fdsn.mass_downloader - INFO: Total acquired or preexisting stations: 0\n",
      "[2021-11-25 00:49:19,791] - obspy.clients.fdsn.mass_downloader - INFO: Client 'GEONET' - Requesting unreliable availability.\n"
     ]
    },
    {
     "name": "stdout",
     "output_type": "stream",
     "text": [
      "=================================================================\n",
      "Initiating mass download request.\n"
     ]
    },
    {
     "name": "stderr",
     "output_type": "stream",
     "text": [
      "[2021-11-25 00:49:20,367] - obspy.clients.fdsn.mass_downloader - INFO: Client 'GEONET' - Successfully requested availability (0.57 seconds)\n",
      "[2021-11-25 00:49:20,382] - obspy.clients.fdsn.mass_downloader - INFO: Client 'GEONET' - Found 1 stations (1 channels).\n",
      "[2021-11-25 00:49:20,385] - obspy.clients.fdsn.mass_downloader - INFO: Client 'GEONET' - Will attempt to download data from 1 stations.\n",
      "[2021-11-25 00:49:20,388] - obspy.clients.fdsn.mass_downloader - INFO: Client 'GEONET' - Status for 1 time intervals/channels before downloading: NEEDS_DOWNLOADING\n",
      "[2021-11-25 00:49:21,317] - obspy.clients.fdsn.mass_downloader - INFO: Client 'GEONET' - Successfully downloaded 1 channels (of 1)\n",
      "[2021-11-25 00:49:21,335] - obspy.clients.fdsn.mass_downloader - INFO: Client 'GEONET' - Launching basic QC checks...\n",
      "[2021-11-25 00:49:21,350] - obspy.clients.fdsn.mass_downloader - INFO: Client 'GEONET' - Downloaded 0.0 MB [3.27 KB/sec] of data, 0.0 MB of which were discarded afterwards.\n",
      "[2021-11-25 00:49:21,351] - obspy.clients.fdsn.mass_downloader - INFO: Client 'GEONET' - Status for 1 time intervals/channels after downloading: DOWNLOADED\n",
      "[2021-11-25 00:49:21,359] - obspy.clients.fdsn.mass_downloader - INFO: Client 'GEONET' - No station information to download.\n",
      "[2021-11-25 00:49:21,361] - obspy.clients.fdsn.mass_downloader - INFO: ============================== Final report\n",
      "[2021-11-25 00:49:21,365] - obspy.clients.fdsn.mass_downloader - INFO: 0 MiniSEED files [0.0 MB] already existed.\n",
      "[2021-11-25 00:49:21,367] - obspy.clients.fdsn.mass_downloader - INFO: 1 StationXML files [0.0 MB] already existed.\n",
      "[2021-11-25 00:49:21,367] - obspy.clients.fdsn.mass_downloader - INFO: Client 'GEONET' - Acquired 1 MiniSEED files [0.0 MB].\n",
      "[2021-11-25 00:49:21,368] - obspy.clients.fdsn.mass_downloader - INFO: Client 'GEONET' - Acquired 0 StationXML files [0.0 MB].\n",
      "[2021-11-25 00:49:21,368] - obspy.clients.fdsn.mass_downloader - INFO: Downloaded 0.0 MB in total.\n",
      "[2021-11-25 00:49:21,373] - obspy.clients.fdsn.mass_downloader - INFO: Initializing FDSN client(s) for GEONET.\n",
      "[2021-11-25 00:49:21,378] - obspy.clients.fdsn.mass_downloader - INFO: Successfully initialized 1 client(s): GEONET.\n",
      "[2021-11-25 00:49:21,380] - obspy.clients.fdsn.mass_downloader - INFO: Total acquired or preexisting stations: 0\n",
      "[2021-11-25 00:49:21,380] - obspy.clients.fdsn.mass_downloader - INFO: Client 'GEONET' - Requesting unreliable availability.\n"
     ]
    },
    {
     "name": "stdout",
     "output_type": "stream",
     "text": [
      "=================================================================\n",
      "Initiating mass download request.\n"
     ]
    },
    {
     "name": "stderr",
     "output_type": "stream",
     "text": [
      "[2021-11-25 00:49:22,059] - obspy.clients.fdsn.mass_downloader - INFO: Client 'GEONET' - Successfully requested availability (0.68 seconds)\n",
      "[2021-11-25 00:49:22,070] - obspy.clients.fdsn.mass_downloader - INFO: Client 'GEONET' - Found 1 stations (1 channels).\n",
      "[2021-11-25 00:49:22,074] - obspy.clients.fdsn.mass_downloader - INFO: Client 'GEONET' - Will attempt to download data from 1 stations.\n",
      "[2021-11-25 00:49:22,081] - obspy.clients.fdsn.mass_downloader - INFO: Client 'GEONET' - Status for 1 time intervals/channels before downloading: NEEDS_DOWNLOADING\n",
      "[2021-11-25 00:49:23,009] - obspy.clients.fdsn.mass_downloader - INFO: Client 'GEONET' - Successfully downloaded 1 channels (of 1)\n",
      "[2021-11-25 00:49:23,016] - obspy.clients.fdsn.mass_downloader - INFO: Client 'GEONET' - Launching basic QC checks...\n",
      "[2021-11-25 00:49:23,022] - obspy.clients.fdsn.mass_downloader - INFO: Client 'GEONET' - Downloaded 0.0 MB [2.69 KB/sec] of data, 0.0 MB of which were discarded afterwards.\n",
      "[2021-11-25 00:49:23,023] - obspy.clients.fdsn.mass_downloader - INFO: Client 'GEONET' - Status for 1 time intervals/channels after downloading: DOWNLOADED\n",
      "[2021-11-25 00:49:23,026] - obspy.clients.fdsn.mass_downloader - INFO: Client 'GEONET' - No station information to download.\n",
      "[2021-11-25 00:49:23,027] - obspy.clients.fdsn.mass_downloader - INFO: ============================== Final report\n",
      "[2021-11-25 00:49:23,028] - obspy.clients.fdsn.mass_downloader - INFO: 0 MiniSEED files [0.0 MB] already existed.\n",
      "[2021-11-25 00:49:23,028] - obspy.clients.fdsn.mass_downloader - INFO: 1 StationXML files [0.0 MB] already existed.\n",
      "[2021-11-25 00:49:23,029] - obspy.clients.fdsn.mass_downloader - INFO: Client 'GEONET' - Acquired 1 MiniSEED files [0.0 MB].\n",
      "[2021-11-25 00:49:23,029] - obspy.clients.fdsn.mass_downloader - INFO: Client 'GEONET' - Acquired 0 StationXML files [0.0 MB].\n",
      "[2021-11-25 00:49:23,029] - obspy.clients.fdsn.mass_downloader - INFO: Downloaded 0.0 MB in total.\n",
      "[2021-11-25 00:49:23,035] - obspy.clients.fdsn.mass_downloader - INFO: Initializing FDSN client(s) for GEONET.\n",
      "[2021-11-25 00:49:23,039] - obspy.clients.fdsn.mass_downloader - INFO: Successfully initialized 1 client(s): GEONET.\n",
      "[2021-11-25 00:49:23,040] - obspy.clients.fdsn.mass_downloader - INFO: Total acquired or preexisting stations: 0\n",
      "[2021-11-25 00:49:23,040] - obspy.clients.fdsn.mass_downloader - INFO: Client 'GEONET' - Requesting unreliable availability.\n"
     ]
    },
    {
     "name": "stdout",
     "output_type": "stream",
     "text": [
      "=================================================================\n",
      "Initiating mass download request.\n"
     ]
    },
    {
     "name": "stderr",
     "output_type": "stream",
     "text": [
      "[2021-11-25 00:49:23,599] - obspy.clients.fdsn.mass_downloader - INFO: Client 'GEONET' - Successfully requested availability (0.56 seconds)\n",
      "[2021-11-25 00:49:23,610] - obspy.clients.fdsn.mass_downloader - INFO: Client 'GEONET' - Found 1 stations (1 channels).\n",
      "[2021-11-25 00:49:23,612] - obspy.clients.fdsn.mass_downloader - INFO: Client 'GEONET' - Will attempt to download data from 1 stations.\n",
      "[2021-11-25 00:49:23,620] - obspy.clients.fdsn.mass_downloader - INFO: Client 'GEONET' - Status for 1 time intervals/channels before downloading: NEEDS_DOWNLOADING\n",
      "[2021-11-25 00:49:24,542] - obspy.clients.fdsn.mass_downloader - INFO: Client 'GEONET' - Successfully downloaded 1 channels (of 1)\n",
      "[2021-11-25 00:49:24,557] - obspy.clients.fdsn.mass_downloader - INFO: Client 'GEONET' - Launching basic QC checks...\n",
      "[2021-11-25 00:49:24,568] - obspy.clients.fdsn.mass_downloader - INFO: Client 'GEONET' - Downloaded 0.0 MB [3.90 KB/sec] of data, 0.0 MB of which were discarded afterwards.\n",
      "[2021-11-25 00:49:24,568] - obspy.clients.fdsn.mass_downloader - INFO: Client 'GEONET' - Status for 1 time intervals/channels after downloading: DOWNLOADED\n",
      "[2021-11-25 00:49:24,574] - obspy.clients.fdsn.mass_downloader - INFO: Client 'GEONET' - No station information to download.\n",
      "[2021-11-25 00:49:24,581] - obspy.clients.fdsn.mass_downloader - INFO: ============================== Final report\n",
      "[2021-11-25 00:49:24,583] - obspy.clients.fdsn.mass_downloader - INFO: 0 MiniSEED files [0.0 MB] already existed.\n",
      "[2021-11-25 00:49:24,584] - obspy.clients.fdsn.mass_downloader - INFO: 1 StationXML files [0.0 MB] already existed.\n",
      "[2021-11-25 00:49:24,584] - obspy.clients.fdsn.mass_downloader - INFO: Client 'GEONET' - Acquired 1 MiniSEED files [0.0 MB].\n",
      "[2021-11-25 00:49:24,585] - obspy.clients.fdsn.mass_downloader - INFO: Client 'GEONET' - Acquired 0 StationXML files [0.0 MB].\n",
      "[2021-11-25 00:49:24,586] - obspy.clients.fdsn.mass_downloader - INFO: Downloaded 0.0 MB in total.\n",
      "[2021-11-25 00:49:24,627] - obspy.clients.fdsn.mass_downloader - INFO: Initializing FDSN client(s) for GEONET.\n",
      "[2021-11-25 00:49:24,639] - obspy.clients.fdsn.mass_downloader - INFO: Successfully initialized 1 client(s): GEONET.\n",
      "[2021-11-25 00:49:24,640] - obspy.clients.fdsn.mass_downloader - INFO: Total acquired or preexisting stations: 0\n",
      "[2021-11-25 00:49:24,640] - obspy.clients.fdsn.mass_downloader - INFO: Client 'GEONET' - Requesting unreliable availability.\n"
     ]
    },
    {
     "name": "stdout",
     "output_type": "stream",
     "text": [
      "=================================================================\n",
      "Initiating mass download request.\n"
     ]
    },
    {
     "name": "stderr",
     "output_type": "stream",
     "text": [
      "[2021-11-25 00:49:25,231] - obspy.clients.fdsn.mass_downloader - INFO: Client 'GEONET' - Successfully requested availability (0.59 seconds)\n",
      "[2021-11-25 00:49:25,293] - obspy.clients.fdsn.mass_downloader - INFO: Client 'GEONET' - Found 1 stations (1 channels).\n",
      "[2021-11-25 00:49:25,324] - obspy.clients.fdsn.mass_downloader - INFO: Client 'GEONET' - Will attempt to download data from 1 stations.\n",
      "[2021-11-25 00:49:25,337] - obspy.clients.fdsn.mass_downloader - INFO: Client 'GEONET' - Status for 1 time intervals/channels before downloading: NEEDS_DOWNLOADING\n",
      "[2021-11-25 00:49:26,226] - obspy.clients.fdsn.mass_downloader - INFO: Client 'GEONET' - Successfully downloaded 1 channels (of 1)\n",
      "[2021-11-25 00:49:26,239] - obspy.clients.fdsn.mass_downloader - INFO: Client 'GEONET' - Launching basic QC checks...\n",
      "[2021-11-25 00:49:26,249] - obspy.clients.fdsn.mass_downloader - INFO: Client 'GEONET' - Downloaded 0.0 MB [2.88 KB/sec] of data, 0.0 MB of which were discarded afterwards.\n",
      "[2021-11-25 00:49:26,250] - obspy.clients.fdsn.mass_downloader - INFO: Client 'GEONET' - Status for 1 time intervals/channels after downloading: DOWNLOADED\n",
      "[2021-11-25 00:49:26,253] - obspy.clients.fdsn.mass_downloader - INFO: Client 'GEONET' - No station information to download.\n",
      "[2021-11-25 00:49:26,258] - obspy.clients.fdsn.mass_downloader - INFO: ============================== Final report\n",
      "[2021-11-25 00:49:26,260] - obspy.clients.fdsn.mass_downloader - INFO: 0 MiniSEED files [0.0 MB] already existed.\n",
      "[2021-11-25 00:49:26,261] - obspy.clients.fdsn.mass_downloader - INFO: 1 StationXML files [0.0 MB] already existed.\n",
      "[2021-11-25 00:49:26,263] - obspy.clients.fdsn.mass_downloader - INFO: Client 'GEONET' - Acquired 1 MiniSEED files [0.0 MB].\n",
      "[2021-11-25 00:49:26,263] - obspy.clients.fdsn.mass_downloader - INFO: Client 'GEONET' - Acquired 0 StationXML files [0.0 MB].\n",
      "[2021-11-25 00:49:26,264] - obspy.clients.fdsn.mass_downloader - INFO: Downloaded 0.0 MB in total.\n",
      "[2021-11-25 00:49:26,272] - obspy.clients.fdsn.mass_downloader - INFO: Initializing FDSN client(s) for GEONET.\n",
      "[2021-11-25 00:49:26,278] - obspy.clients.fdsn.mass_downloader - INFO: Successfully initialized 1 client(s): GEONET.\n",
      "[2021-11-25 00:49:26,280] - obspy.clients.fdsn.mass_downloader - INFO: Total acquired or preexisting stations: 0\n",
      "[2021-11-25 00:49:26,280] - obspy.clients.fdsn.mass_downloader - INFO: Client 'GEONET' - Requesting unreliable availability.\n"
     ]
    },
    {
     "name": "stdout",
     "output_type": "stream",
     "text": [
      "=================================================================\n",
      "Initiating mass download request.\n"
     ]
    },
    {
     "name": "stderr",
     "output_type": "stream",
     "text": [
      "[2021-11-25 00:49:26,885] - obspy.clients.fdsn.mass_downloader - INFO: Client 'GEONET' - Successfully requested availability (0.60 seconds)\n",
      "[2021-11-25 00:49:26,892] - obspy.clients.fdsn.mass_downloader - INFO: Client 'GEONET' - Found 1 stations (1 channels).\n",
      "[2021-11-25 00:49:26,902] - obspy.clients.fdsn.mass_downloader - INFO: Client 'GEONET' - Will attempt to download data from 1 stations.\n",
      "[2021-11-25 00:49:26,925] - obspy.clients.fdsn.mass_downloader - INFO: Client 'GEONET' - Status for 1 time intervals/channels before downloading: NEEDS_DOWNLOADING\n",
      "[2021-11-25 00:49:27,827] - obspy.clients.fdsn.mass_downloader - INFO: Client 'GEONET' - Successfully downloaded 1 channels (of 1)\n",
      "[2021-11-25 00:49:27,839] - obspy.clients.fdsn.mass_downloader - INFO: Client 'GEONET' - Launching basic QC checks...\n",
      "[2021-11-25 00:49:27,870] - obspy.clients.fdsn.mass_downloader - INFO: Client 'GEONET' - Downloaded 0.0 MB [3.37 KB/sec] of data, 0.0 MB of which were discarded afterwards.\n",
      "[2021-11-25 00:49:27,871] - obspy.clients.fdsn.mass_downloader - INFO: Client 'GEONET' - Status for 1 time intervals/channels after downloading: DOWNLOADED\n",
      "[2021-11-25 00:49:27,879] - obspy.clients.fdsn.mass_downloader - INFO: Client 'GEONET' - No station information to download.\n",
      "[2021-11-25 00:49:27,880] - obspy.clients.fdsn.mass_downloader - INFO: ============================== Final report\n",
      "[2021-11-25 00:49:27,881] - obspy.clients.fdsn.mass_downloader - INFO: 0 MiniSEED files [0.0 MB] already existed.\n",
      "[2021-11-25 00:49:27,881] - obspy.clients.fdsn.mass_downloader - INFO: 1 StationXML files [0.0 MB] already existed.\n",
      "[2021-11-25 00:49:27,882] - obspy.clients.fdsn.mass_downloader - INFO: Client 'GEONET' - Acquired 1 MiniSEED files [0.0 MB].\n",
      "[2021-11-25 00:49:27,883] - obspy.clients.fdsn.mass_downloader - INFO: Client 'GEONET' - Acquired 0 StationXML files [0.0 MB].\n",
      "[2021-11-25 00:49:27,884] - obspy.clients.fdsn.mass_downloader - INFO: Downloaded 0.0 MB in total.\n",
      "[2021-11-25 00:49:27,892] - obspy.clients.fdsn.mass_downloader - INFO: Initializing FDSN client(s) for GEONET.\n",
      "[2021-11-25 00:49:27,903] - obspy.clients.fdsn.mass_downloader - INFO: Successfully initialized 1 client(s): GEONET.\n",
      "[2021-11-25 00:49:27,905] - obspy.clients.fdsn.mass_downloader - INFO: Total acquired or preexisting stations: 0\n",
      "[2021-11-25 00:49:27,906] - obspy.clients.fdsn.mass_downloader - INFO: Client 'GEONET' - Requesting unreliable availability.\n"
     ]
    },
    {
     "name": "stdout",
     "output_type": "stream",
     "text": [
      "=================================================================\n",
      "Initiating mass download request.\n"
     ]
    },
    {
     "name": "stderr",
     "output_type": "stream",
     "text": [
      "[2021-11-25 00:49:28,595] - obspy.clients.fdsn.mass_downloader - INFO: Client 'GEONET' - Successfully requested availability (0.68 seconds)\n",
      "[2021-11-25 00:49:28,624] - obspy.clients.fdsn.mass_downloader - INFO: Client 'GEONET' - Found 1 stations (1 channels).\n",
      "[2021-11-25 00:49:28,634] - obspy.clients.fdsn.mass_downloader - INFO: Client 'GEONET' - Will attempt to download data from 1 stations.\n",
      "[2021-11-25 00:49:28,648] - obspy.clients.fdsn.mass_downloader - INFO: Client 'GEONET' - Status for 1 time intervals/channels before downloading: NEEDS_DOWNLOADING\n",
      "[2021-11-25 00:49:29,651] - obspy.clients.fdsn.mass_downloader - INFO: Client 'GEONET' - Successfully downloaded 1 channels (of 1)\n",
      "[2021-11-25 00:49:29,663] - obspy.clients.fdsn.mass_downloader - INFO: Client 'GEONET' - Launching basic QC checks...\n",
      "[2021-11-25 00:49:29,672] - obspy.clients.fdsn.mass_downloader - INFO: Client 'GEONET' - Downloaded 0.0 MB [4.08 KB/sec] of data, 0.0 MB of which were discarded afterwards.\n",
      "[2021-11-25 00:49:29,674] - obspy.clients.fdsn.mass_downloader - INFO: Client 'GEONET' - Status for 1 time intervals/channels after downloading: DOWNLOADED\n",
      "[2021-11-25 00:49:29,676] - obspy.clients.fdsn.mass_downloader - INFO: Client 'GEONET' - No station information to download.\n",
      "[2021-11-25 00:49:29,677] - obspy.clients.fdsn.mass_downloader - INFO: ============================== Final report\n",
      "[2021-11-25 00:49:29,678] - obspy.clients.fdsn.mass_downloader - INFO: 0 MiniSEED files [0.0 MB] already existed.\n",
      "[2021-11-25 00:49:29,678] - obspy.clients.fdsn.mass_downloader - INFO: 1 StationXML files [0.0 MB] already existed.\n",
      "[2021-11-25 00:49:29,678] - obspy.clients.fdsn.mass_downloader - INFO: Client 'GEONET' - Acquired 1 MiniSEED files [0.0 MB].\n",
      "[2021-11-25 00:49:29,679] - obspy.clients.fdsn.mass_downloader - INFO: Client 'GEONET' - Acquired 0 StationXML files [0.0 MB].\n",
      "[2021-11-25 00:49:29,679] - obspy.clients.fdsn.mass_downloader - INFO: Downloaded 0.0 MB in total.\n",
      "[2021-11-25 00:49:29,685] - obspy.clients.fdsn.mass_downloader - INFO: Initializing FDSN client(s) for GEONET.\n",
      "[2021-11-25 00:49:29,690] - obspy.clients.fdsn.mass_downloader - INFO: Successfully initialized 1 client(s): GEONET.\n",
      "[2021-11-25 00:49:29,692] - obspy.clients.fdsn.mass_downloader - INFO: Total acquired or preexisting stations: 0\n",
      "[2021-11-25 00:49:29,696] - obspy.clients.fdsn.mass_downloader - INFO: Client 'GEONET' - Requesting unreliable availability.\n"
     ]
    },
    {
     "name": "stdout",
     "output_type": "stream",
     "text": [
      "=================================================================\n",
      "Initiating mass download request.\n"
     ]
    },
    {
     "name": "stderr",
     "output_type": "stream",
     "text": [
      "[2021-11-25 00:49:30,307] - obspy.clients.fdsn.mass_downloader - INFO: Client 'GEONET' - Successfully requested availability (0.61 seconds)\n",
      "[2021-11-25 00:49:30,310] - obspy.clients.fdsn.mass_downloader - INFO: Client 'GEONET' - Found 1 stations (1 channels).\n",
      "[2021-11-25 00:49:30,317] - obspy.clients.fdsn.mass_downloader - INFO: Client 'GEONET' - Will attempt to download data from 1 stations.\n",
      "[2021-11-25 00:49:30,320] - obspy.clients.fdsn.mass_downloader - INFO: Client 'GEONET' - Status for 1 time intervals/channels before downloading: NEEDS_DOWNLOADING\n",
      "[2021-11-25 00:49:31,334] - obspy.clients.fdsn.mass_downloader - INFO: Client 'GEONET' - Successfully downloaded 1 channels (of 1)\n",
      "[2021-11-25 00:49:31,353] - obspy.clients.fdsn.mass_downloader - INFO: Client 'GEONET' - Launching basic QC checks...\n",
      "[2021-11-25 00:49:31,369] - obspy.clients.fdsn.mass_downloader - INFO: Client 'GEONET' - Downloaded 0.0 MB [3.89 KB/sec] of data, 0.0 MB of which were discarded afterwards.\n",
      "[2021-11-25 00:49:31,381] - obspy.clients.fdsn.mass_downloader - INFO: Client 'GEONET' - Status for 1 time intervals/channels after downloading: DOWNLOADED\n",
      "[2021-11-25 00:49:31,388] - obspy.clients.fdsn.mass_downloader - INFO: Client 'GEONET' - No station information to download.\n",
      "[2021-11-25 00:49:31,393] - obspy.clients.fdsn.mass_downloader - INFO: ============================== Final report\n",
      "[2021-11-25 00:49:31,397] - obspy.clients.fdsn.mass_downloader - INFO: 0 MiniSEED files [0.0 MB] already existed.\n",
      "[2021-11-25 00:49:31,399] - obspy.clients.fdsn.mass_downloader - INFO: 1 StationXML files [0.0 MB] already existed.\n",
      "[2021-11-25 00:49:31,402] - obspy.clients.fdsn.mass_downloader - INFO: Client 'GEONET' - Acquired 1 MiniSEED files [0.0 MB].\n",
      "[2021-11-25 00:49:31,402] - obspy.clients.fdsn.mass_downloader - INFO: Client 'GEONET' - Acquired 0 StationXML files [0.0 MB].\n",
      "[2021-11-25 00:49:31,408] - obspy.clients.fdsn.mass_downloader - INFO: Downloaded 0.0 MB in total.\n",
      "[2021-11-25 00:49:31,427] - obspy.clients.fdsn.mass_downloader - INFO: Initializing FDSN client(s) for GEONET.\n",
      "[2021-11-25 00:49:31,450] - obspy.clients.fdsn.mass_downloader - INFO: Successfully initialized 1 client(s): GEONET.\n",
      "[2021-11-25 00:49:31,456] - obspy.clients.fdsn.mass_downloader - INFO: Total acquired or preexisting stations: 0\n",
      "[2021-11-25 00:49:31,460] - obspy.clients.fdsn.mass_downloader - INFO: Client 'GEONET' - Requesting unreliable availability.\n"
     ]
    },
    {
     "name": "stdout",
     "output_type": "stream",
     "text": [
      "=================================================================\n",
      "Initiating mass download request.\n"
     ]
    },
    {
     "name": "stderr",
     "output_type": "stream",
     "text": [
      "[2021-11-25 00:49:32,041] - obspy.clients.fdsn.mass_downloader - INFO: Client 'GEONET' - Successfully requested availability (0.58 seconds)\n",
      "[2021-11-25 00:49:32,058] - obspy.clients.fdsn.mass_downloader - INFO: Client 'GEONET' - Found 1 stations (1 channels).\n",
      "[2021-11-25 00:49:32,061] - obspy.clients.fdsn.mass_downloader - INFO: Client 'GEONET' - Will attempt to download data from 1 stations.\n",
      "[2021-11-25 00:49:32,066] - obspy.clients.fdsn.mass_downloader - INFO: Client 'GEONET' - Status for 1 time intervals/channels before downloading: NEEDS_DOWNLOADING\n",
      "[2021-11-25 00:49:32,946] - obspy.clients.fdsn.mass_downloader - INFO: Client 'GEONET' - Successfully downloaded 1 channels (of 1)\n",
      "[2021-11-25 00:49:32,981] - obspy.clients.fdsn.mass_downloader - INFO: Client 'GEONET' - Launching basic QC checks...\n",
      "[2021-11-25 00:49:33,016] - obspy.clients.fdsn.mass_downloader - INFO: Client 'GEONET' - Downloaded 0.0 MB [3.91 KB/sec] of data, 0.0 MB of which were discarded afterwards.\n",
      "[2021-11-25 00:49:33,020] - obspy.clients.fdsn.mass_downloader - INFO: Client 'GEONET' - Status for 1 time intervals/channels after downloading: DOWNLOADED\n",
      "[2021-11-25 00:49:33,029] - obspy.clients.fdsn.mass_downloader - INFO: Client 'GEONET' - No station information to download.\n",
      "[2021-11-25 00:49:33,030] - obspy.clients.fdsn.mass_downloader - INFO: ============================== Final report\n",
      "[2021-11-25 00:49:33,030] - obspy.clients.fdsn.mass_downloader - INFO: 0 MiniSEED files [0.0 MB] already existed.\n",
      "[2021-11-25 00:49:33,032] - obspy.clients.fdsn.mass_downloader - INFO: 1 StationXML files [0.0 MB] already existed.\n",
      "[2021-11-25 00:49:33,033] - obspy.clients.fdsn.mass_downloader - INFO: Client 'GEONET' - Acquired 1 MiniSEED files [0.0 MB].\n",
      "[2021-11-25 00:49:33,038] - obspy.clients.fdsn.mass_downloader - INFO: Client 'GEONET' - Acquired 0 StationXML files [0.0 MB].\n",
      "[2021-11-25 00:49:33,038] - obspy.clients.fdsn.mass_downloader - INFO: Downloaded 0.0 MB in total.\n",
      "[2021-11-25 00:49:33,050] - obspy.clients.fdsn.mass_downloader - INFO: Initializing FDSN client(s) for GEONET.\n",
      "[2021-11-25 00:49:33,070] - obspy.clients.fdsn.mass_downloader - INFO: Successfully initialized 1 client(s): GEONET.\n",
      "[2021-11-25 00:49:33,078] - obspy.clients.fdsn.mass_downloader - INFO: Total acquired or preexisting stations: 0\n",
      "[2021-11-25 00:49:33,081] - obspy.clients.fdsn.mass_downloader - INFO: Client 'GEONET' - Requesting unreliable availability.\n"
     ]
    },
    {
     "name": "stdout",
     "output_type": "stream",
     "text": [
      "=================================================================\n",
      "Initiating mass download request.\n"
     ]
    },
    {
     "name": "stderr",
     "output_type": "stream",
     "text": [
      "[2021-11-25 00:49:33,785] - obspy.clients.fdsn.mass_downloader - INFO: Client 'GEONET' - Successfully requested availability (0.70 seconds)\n",
      "[2021-11-25 00:49:33,787] - obspy.clients.fdsn.mass_downloader - INFO: Client 'GEONET' - Found 1 stations (1 channels).\n",
      "[2021-11-25 00:49:33,787] - obspy.clients.fdsn.mass_downloader - INFO: Client 'GEONET' - Will attempt to download data from 1 stations.\n",
      "[2021-11-25 00:49:33,788] - obspy.clients.fdsn.mass_downloader - INFO: Client 'GEONET' - Status for 1 time intervals/channels before downloading: NEEDS_DOWNLOADING\n",
      "[2021-11-25 00:49:34,403] - obspy.clients.fdsn.mass_downloader - INFO: Client 'GEONET' - No data available for request.\n",
      "[2021-11-25 00:49:34,404] - obspy.clients.fdsn.mass_downloader - INFO: Client 'GEONET' - Launching basic QC checks...\n",
      "[2021-11-25 00:49:34,405] - obspy.clients.fdsn.mass_downloader - INFO: Client 'GEONET' - Downloaded 0.0 MB [0.00 KB/sec] of data, 0.0 MB of which were discarded afterwards.\n",
      "[2021-11-25 00:49:34,405] - obspy.clients.fdsn.mass_downloader - INFO: Client 'GEONET' - Status for 1 time intervals/channels after downloading: DOWNLOAD_FAILED\n",
      "[2021-11-25 00:49:34,406] - obspy.clients.fdsn.mass_downloader - INFO: Client 'GEONET' - No station information to download.\n",
      "[2021-11-25 00:49:34,406] - obspy.clients.fdsn.mass_downloader - INFO: Client 'GEONET' - No data could be downloaded.\n",
      "[2021-11-25 00:49:34,407] - obspy.clients.fdsn.mass_downloader - INFO: ============================== Final report\n",
      "[2021-11-25 00:49:34,407] - obspy.clients.fdsn.mass_downloader - INFO: 0 MiniSEED files [0.0 MB] already existed.\n",
      "[2021-11-25 00:49:34,407] - obspy.clients.fdsn.mass_downloader - INFO: 0 StationXML files [0.0 MB] already existed.\n",
      "[2021-11-25 00:49:34,408] - obspy.clients.fdsn.mass_downloader - INFO: Client 'GEONET' - Acquired 0 MiniSEED files [0.0 MB].\n",
      "[2021-11-25 00:49:34,408] - obspy.clients.fdsn.mass_downloader - INFO: Client 'GEONET' - Acquired 0 StationXML files [0.0 MB].\n",
      "[2021-11-25 00:49:34,408] - obspy.clients.fdsn.mass_downloader - INFO: Downloaded 0.0 MB in total.\n",
      "[2021-11-25 00:49:34,411] - obspy.clients.fdsn.mass_downloader - INFO: Initializing FDSN client(s) for GEONET.\n",
      "[2021-11-25 00:49:34,418] - obspy.clients.fdsn.mass_downloader - INFO: Successfully initialized 1 client(s): GEONET.\n",
      "[2021-11-25 00:49:34,422] - obspy.clients.fdsn.mass_downloader - INFO: Total acquired or preexisting stations: 0\n",
      "[2021-11-25 00:49:34,423] - obspy.clients.fdsn.mass_downloader - INFO: Client 'GEONET' - Requesting unreliable availability.\n"
     ]
    },
    {
     "name": "stdout",
     "output_type": "stream",
     "text": [
      "=================================================================\n",
      "Initiating mass download request.\n"
     ]
    },
    {
     "name": "stderr",
     "output_type": "stream",
     "text": [
      "[2021-11-25 00:49:34,990] - obspy.clients.fdsn.mass_downloader - INFO: Client 'GEONET' - Successfully requested availability (0.57 seconds)\n",
      "[2021-11-25 00:49:34,992] - obspy.clients.fdsn.mass_downloader - INFO: Client 'GEONET' - Found 1 stations (1 channels).\n",
      "[2021-11-25 00:49:34,993] - obspy.clients.fdsn.mass_downloader - INFO: Client 'GEONET' - Will attempt to download data from 1 stations.\n",
      "[2021-11-25 00:49:34,995] - obspy.clients.fdsn.mass_downloader - INFO: Client 'GEONET' - Status for 1 time intervals/channels before downloading: NEEDS_DOWNLOADING\n",
      "[2021-11-25 00:49:35,819] - obspy.clients.fdsn.mass_downloader - INFO: Client 'GEONET' - Successfully downloaded 1 channels (of 1)\n",
      "[2021-11-25 00:49:35,840] - obspy.clients.fdsn.mass_downloader - INFO: Client 'GEONET' - Launching basic QC checks...\n",
      "[2021-11-25 00:49:35,853] - obspy.clients.fdsn.mass_downloader - INFO: Client 'GEONET' - Downloaded 0.0 MB [3.56 KB/sec] of data, 0.0 MB of which were discarded afterwards.\n",
      "[2021-11-25 00:49:35,854] - obspy.clients.fdsn.mass_downloader - INFO: Client 'GEONET' - Status for 1 time intervals/channels after downloading: DOWNLOADED\n",
      "[2021-11-25 00:49:35,860] - obspy.clients.fdsn.mass_downloader - INFO: Client 'GEONET' - No station information to download.\n",
      "[2021-11-25 00:49:35,865] - obspy.clients.fdsn.mass_downloader - INFO: ============================== Final report\n",
      "[2021-11-25 00:49:35,867] - obspy.clients.fdsn.mass_downloader - INFO: 0 MiniSEED files [0.0 MB] already existed.\n",
      "[2021-11-25 00:49:35,868] - obspy.clients.fdsn.mass_downloader - INFO: 1 StationXML files [0.0 MB] already existed.\n",
      "[2021-11-25 00:49:35,869] - obspy.clients.fdsn.mass_downloader - INFO: Client 'GEONET' - Acquired 1 MiniSEED files [0.0 MB].\n",
      "[2021-11-25 00:49:35,870] - obspy.clients.fdsn.mass_downloader - INFO: Client 'GEONET' - Acquired 0 StationXML files [0.0 MB].\n",
      "[2021-11-25 00:49:35,871] - obspy.clients.fdsn.mass_downloader - INFO: Downloaded 0.0 MB in total.\n",
      "[2021-11-25 00:49:35,883] - obspy.clients.fdsn.mass_downloader - INFO: Initializing FDSN client(s) for GEONET.\n",
      "[2021-11-25 00:49:35,926] - obspy.clients.fdsn.mass_downloader - INFO: Successfully initialized 1 client(s): GEONET.\n",
      "[2021-11-25 00:49:35,930] - obspy.clients.fdsn.mass_downloader - INFO: Total acquired or preexisting stations: 0\n",
      "[2021-11-25 00:49:35,935] - obspy.clients.fdsn.mass_downloader - INFO: Client 'GEONET' - Requesting unreliable availability.\n"
     ]
    },
    {
     "name": "stdout",
     "output_type": "stream",
     "text": [
      "=================================================================\n",
      "Initiating mass download request.\n"
     ]
    },
    {
     "name": "stderr",
     "output_type": "stream",
     "text": [
      "[2021-11-25 00:49:37,231] - obspy.clients.fdsn.mass_downloader - INFO: Client 'GEONET' - Successfully requested availability (1.30 seconds)\n",
      "[2021-11-25 00:49:37,260] - obspy.clients.fdsn.mass_downloader - INFO: Client 'GEONET' - Found 1 stations (1 channels).\n",
      "[2021-11-25 00:49:37,266] - obspy.clients.fdsn.mass_downloader - INFO: Client 'GEONET' - Will attempt to download data from 1 stations.\n",
      "[2021-11-25 00:49:37,271] - obspy.clients.fdsn.mass_downloader - INFO: Client 'GEONET' - Status for 1 time intervals/channels before downloading: NEEDS_DOWNLOADING\n",
      "[2021-11-25 00:49:38,172] - obspy.clients.fdsn.mass_downloader - INFO: Client 'GEONET' - Successfully downloaded 1 channels (of 1)\n",
      "[2021-11-25 00:49:38,180] - obspy.clients.fdsn.mass_downloader - INFO: Client 'GEONET' - Launching basic QC checks...\n",
      "[2021-11-25 00:49:38,186] - obspy.clients.fdsn.mass_downloader - INFO: Client 'GEONET' - Downloaded 0.0 MB [3.37 KB/sec] of data, 0.0 MB of which were discarded afterwards.\n",
      "[2021-11-25 00:49:38,186] - obspy.clients.fdsn.mass_downloader - INFO: Client 'GEONET' - Status for 1 time intervals/channels after downloading: DOWNLOADED\n",
      "[2021-11-25 00:49:38,188] - obspy.clients.fdsn.mass_downloader - INFO: Client 'GEONET' - No station information to download.\n",
      "[2021-11-25 00:49:38,189] - obspy.clients.fdsn.mass_downloader - INFO: ============================== Final report\n",
      "[2021-11-25 00:49:38,190] - obspy.clients.fdsn.mass_downloader - INFO: 0 MiniSEED files [0.0 MB] already existed.\n",
      "[2021-11-25 00:49:38,191] - obspy.clients.fdsn.mass_downloader - INFO: 1 StationXML files [0.0 MB] already existed.\n",
      "[2021-11-25 00:49:38,191] - obspy.clients.fdsn.mass_downloader - INFO: Client 'GEONET' - Acquired 1 MiniSEED files [0.0 MB].\n",
      "[2021-11-25 00:49:38,191] - obspy.clients.fdsn.mass_downloader - INFO: Client 'GEONET' - Acquired 0 StationXML files [0.0 MB].\n",
      "[2021-11-25 00:49:38,191] - obspy.clients.fdsn.mass_downloader - INFO: Downloaded 0.0 MB in total.\n",
      "[2021-11-25 00:49:38,194] - obspy.clients.fdsn.mass_downloader - INFO: Initializing FDSN client(s) for GEONET.\n",
      "[2021-11-25 00:49:38,202] - obspy.clients.fdsn.mass_downloader - INFO: Successfully initialized 1 client(s): GEONET.\n",
      "[2021-11-25 00:49:38,203] - obspy.clients.fdsn.mass_downloader - INFO: Total acquired or preexisting stations: 0\n",
      "[2021-11-25 00:49:38,203] - obspy.clients.fdsn.mass_downloader - INFO: Client 'GEONET' - Requesting unreliable availability.\n"
     ]
    },
    {
     "name": "stdout",
     "output_type": "stream",
     "text": [
      "=================================================================\n",
      "Initiating mass download request.\n"
     ]
    },
    {
     "name": "stderr",
     "output_type": "stream",
     "text": [
      "[2021-11-25 00:49:38,842] - obspy.clients.fdsn.mass_downloader - INFO: Client 'GEONET' - Successfully requested availability (0.64 seconds)\n",
      "[2021-11-25 00:49:38,849] - obspy.clients.fdsn.mass_downloader - INFO: Client 'GEONET' - Found 1 stations (1 channels).\n",
      "[2021-11-25 00:49:38,850] - obspy.clients.fdsn.mass_downloader - INFO: Client 'GEONET' - Will attempt to download data from 1 stations.\n",
      "[2021-11-25 00:49:38,851] - obspy.clients.fdsn.mass_downloader - INFO: Client 'GEONET' - Status for 1 time intervals/channels before downloading: NEEDS_DOWNLOADING\n",
      "[2021-11-25 00:49:39,697] - obspy.clients.fdsn.mass_downloader - INFO: Client 'GEONET' - Successfully downloaded 1 channels (of 1)\n",
      "[2021-11-25 00:49:39,716] - obspy.clients.fdsn.mass_downloader - INFO: Client 'GEONET' - Launching basic QC checks...\n",
      "[2021-11-25 00:49:39,729] - obspy.clients.fdsn.mass_downloader - INFO: Client 'GEONET' - Downloaded 0.0 MB [2.91 KB/sec] of data, 0.0 MB of which were discarded afterwards.\n",
      "[2021-11-25 00:49:39,735] - obspy.clients.fdsn.mass_downloader - INFO: Client 'GEONET' - Status for 1 time intervals/channels after downloading: DOWNLOADED\n",
      "[2021-11-25 00:49:39,744] - obspy.clients.fdsn.mass_downloader - INFO: Client 'GEONET' - No station information to download.\n",
      "[2021-11-25 00:49:39,752] - obspy.clients.fdsn.mass_downloader - INFO: ============================== Final report\n",
      "[2021-11-25 00:49:39,754] - obspy.clients.fdsn.mass_downloader - INFO: 0 MiniSEED files [0.0 MB] already existed.\n",
      "[2021-11-25 00:49:39,755] - obspy.clients.fdsn.mass_downloader - INFO: 1 StationXML files [0.0 MB] already existed.\n",
      "[2021-11-25 00:49:39,756] - obspy.clients.fdsn.mass_downloader - INFO: Client 'GEONET' - Acquired 1 MiniSEED files [0.0 MB].\n",
      "[2021-11-25 00:49:39,758] - obspy.clients.fdsn.mass_downloader - INFO: Client 'GEONET' - Acquired 0 StationXML files [0.0 MB].\n",
      "[2021-11-25 00:49:39,758] - obspy.clients.fdsn.mass_downloader - INFO: Downloaded 0.0 MB in total.\n",
      "[2021-11-25 00:49:39,771] - obspy.clients.fdsn.mass_downloader - INFO: Initializing FDSN client(s) for GEONET.\n",
      "[2021-11-25 00:49:39,791] - obspy.clients.fdsn.mass_downloader - INFO: Successfully initialized 1 client(s): GEONET.\n",
      "[2021-11-25 00:49:39,794] - obspy.clients.fdsn.mass_downloader - INFO: Total acquired or preexisting stations: 0\n",
      "[2021-11-25 00:49:39,797] - obspy.clients.fdsn.mass_downloader - INFO: Client 'GEONET' - Requesting unreliable availability.\n"
     ]
    },
    {
     "name": "stdout",
     "output_type": "stream",
     "text": [
      "=================================================================\n",
      "Initiating mass download request.\n"
     ]
    },
    {
     "name": "stderr",
     "output_type": "stream",
     "text": [
      "[2021-11-25 00:49:40,376] - obspy.clients.fdsn.mass_downloader - INFO: Client 'GEONET' - Successfully requested availability (0.58 seconds)\n",
      "[2021-11-25 00:49:40,381] - obspy.clients.fdsn.mass_downloader - INFO: Client 'GEONET' - Found 1 stations (1 channels).\n",
      "[2021-11-25 00:49:40,382] - obspy.clients.fdsn.mass_downloader - INFO: Client 'GEONET' - Will attempt to download data from 1 stations.\n",
      "[2021-11-25 00:49:40,383] - obspy.clients.fdsn.mass_downloader - INFO: Client 'GEONET' - Status for 1 time intervals/channels before downloading: NEEDS_DOWNLOADING\n",
      "[2021-11-25 00:49:41,288] - obspy.clients.fdsn.mass_downloader - INFO: Client 'GEONET' - Successfully downloaded 1 channels (of 1)\n",
      "[2021-11-25 00:49:41,297] - obspy.clients.fdsn.mass_downloader - INFO: Client 'GEONET' - Launching basic QC checks...\n",
      "[2021-11-25 00:49:41,306] - obspy.clients.fdsn.mass_downloader - INFO: Client 'GEONET' - Downloaded 0.0 MB [3.29 KB/sec] of data, 0.0 MB of which were discarded afterwards.\n",
      "[2021-11-25 00:49:41,307] - obspy.clients.fdsn.mass_downloader - INFO: Client 'GEONET' - Status for 1 time intervals/channels after downloading: DOWNLOADED\n",
      "[2021-11-25 00:49:41,312] - obspy.clients.fdsn.mass_downloader - INFO: Client 'GEONET' - No station information to download.\n",
      "[2021-11-25 00:49:41,315] - obspy.clients.fdsn.mass_downloader - INFO: ============================== Final report\n",
      "[2021-11-25 00:49:41,316] - obspy.clients.fdsn.mass_downloader - INFO: 0 MiniSEED files [0.0 MB] already existed.\n",
      "[2021-11-25 00:49:41,317] - obspy.clients.fdsn.mass_downloader - INFO: 1 StationXML files [0.0 MB] already existed.\n",
      "[2021-11-25 00:49:41,321] - obspy.clients.fdsn.mass_downloader - INFO: Client 'GEONET' - Acquired 1 MiniSEED files [0.0 MB].\n",
      "[2021-11-25 00:49:41,322] - obspy.clients.fdsn.mass_downloader - INFO: Client 'GEONET' - Acquired 0 StationXML files [0.0 MB].\n",
      "[2021-11-25 00:49:41,323] - obspy.clients.fdsn.mass_downloader - INFO: Downloaded 0.0 MB in total.\n",
      "[2021-11-25 00:49:41,326] - obspy.clients.fdsn.mass_downloader - INFO: Initializing FDSN client(s) for GEONET.\n",
      "[2021-11-25 00:49:41,338] - obspy.clients.fdsn.mass_downloader - INFO: Successfully initialized 1 client(s): GEONET.\n",
      "[2021-11-25 00:49:41,339] - obspy.clients.fdsn.mass_downloader - INFO: Total acquired or preexisting stations: 0\n",
      "[2021-11-25 00:49:41,341] - obspy.clients.fdsn.mass_downloader - INFO: Client 'GEONET' - Requesting unreliable availability.\n"
     ]
    },
    {
     "name": "stdout",
     "output_type": "stream",
     "text": [
      "=================================================================\n",
      "Initiating mass download request.\n"
     ]
    },
    {
     "name": "stderr",
     "output_type": "stream",
     "text": [
      "[2021-11-25 00:49:41,958] - obspy.clients.fdsn.mass_downloader - INFO: Client 'GEONET' - Successfully requested availability (0.62 seconds)\n",
      "[2021-11-25 00:49:41,973] - obspy.clients.fdsn.mass_downloader - INFO: Client 'GEONET' - Found 1 stations (1 channels).\n",
      "[2021-11-25 00:49:41,982] - obspy.clients.fdsn.mass_downloader - INFO: Client 'GEONET' - Will attempt to download data from 1 stations.\n",
      "[2021-11-25 00:49:41,986] - obspy.clients.fdsn.mass_downloader - INFO: Client 'GEONET' - Status for 1 time intervals/channels before downloading: NEEDS_DOWNLOADING\n",
      "[2021-11-25 00:49:42,875] - obspy.clients.fdsn.mass_downloader - INFO: Client 'GEONET' - Successfully downloaded 1 channels (of 1)\n",
      "[2021-11-25 00:49:42,982] - obspy.clients.fdsn.mass_downloader - INFO: Client 'GEONET' - Launching basic QC checks...\n",
      "[2021-11-25 00:49:43,039] - obspy.clients.fdsn.mass_downloader - INFO: Client 'GEONET' - Downloaded 0.0 MB [3.04 KB/sec] of data, 0.0 MB of which were discarded afterwards.\n",
      "[2021-11-25 00:49:43,043] - obspy.clients.fdsn.mass_downloader - INFO: Client 'GEONET' - Status for 1 time intervals/channels after downloading: DOWNLOADED\n",
      "[2021-11-25 00:49:43,051] - obspy.clients.fdsn.mass_downloader - INFO: Client 'GEONET' - No station information to download.\n",
      "[2021-11-25 00:49:43,056] - obspy.clients.fdsn.mass_downloader - INFO: ============================== Final report\n",
      "[2021-11-25 00:49:43,058] - obspy.clients.fdsn.mass_downloader - INFO: 0 MiniSEED files [0.0 MB] already existed.\n",
      "[2021-11-25 00:49:43,061] - obspy.clients.fdsn.mass_downloader - INFO: 1 StationXML files [0.0 MB] already existed.\n",
      "[2021-11-25 00:49:43,062] - obspy.clients.fdsn.mass_downloader - INFO: Client 'GEONET' - Acquired 1 MiniSEED files [0.0 MB].\n",
      "[2021-11-25 00:49:43,063] - obspy.clients.fdsn.mass_downloader - INFO: Client 'GEONET' - Acquired 0 StationXML files [0.0 MB].\n",
      "[2021-11-25 00:49:43,066] - obspy.clients.fdsn.mass_downloader - INFO: Downloaded 0.0 MB in total.\n",
      "[2021-11-25 00:49:43,078] - obspy.clients.fdsn.mass_downloader - INFO: Initializing FDSN client(s) for GEONET.\n",
      "[2021-11-25 00:49:43,103] - obspy.clients.fdsn.mass_downloader - INFO: Successfully initialized 1 client(s): GEONET.\n",
      "[2021-11-25 00:49:43,107] - obspy.clients.fdsn.mass_downloader - INFO: Total acquired or preexisting stations: 0\n",
      "[2021-11-25 00:49:43,110] - obspy.clients.fdsn.mass_downloader - INFO: Client 'GEONET' - Requesting unreliable availability.\n"
     ]
    },
    {
     "name": "stdout",
     "output_type": "stream",
     "text": [
      "=================================================================\n",
      "Initiating mass download request.\n"
     ]
    },
    {
     "name": "stderr",
     "output_type": "stream",
     "text": [
      "[2021-11-25 00:49:43,666] - obspy.clients.fdsn.mass_downloader - INFO: Client 'GEONET' - Successfully requested availability (0.56 seconds)\n",
      "[2021-11-25 00:49:43,684] - obspy.clients.fdsn.mass_downloader - INFO: Client 'GEONET' - Found 1 stations (1 channels).\n",
      "[2021-11-25 00:49:43,687] - obspy.clients.fdsn.mass_downloader - INFO: Client 'GEONET' - Will attempt to download data from 1 stations.\n",
      "[2021-11-25 00:49:43,691] - obspy.clients.fdsn.mass_downloader - INFO: Client 'GEONET' - Status for 1 time intervals/channels before downloading: NEEDS_DOWNLOADING\n",
      "[2021-11-25 00:49:44,498] - obspy.clients.fdsn.mass_downloader - INFO: Client 'GEONET' - Successfully downloaded 1 channels (of 1)\n",
      "[2021-11-25 00:49:44,527] - obspy.clients.fdsn.mass_downloader - INFO: Client 'GEONET' - Launching basic QC checks...\n",
      "[2021-11-25 00:49:44,541] - obspy.clients.fdsn.mass_downloader - INFO: Client 'GEONET' - Downloaded 0.0 MB [3.62 KB/sec] of data, 0.0 MB of which were discarded afterwards.\n",
      "[2021-11-25 00:49:44,542] - obspy.clients.fdsn.mass_downloader - INFO: Client 'GEONET' - Status for 1 time intervals/channels after downloading: DOWNLOADED\n",
      "[2021-11-25 00:49:44,548] - obspy.clients.fdsn.mass_downloader - INFO: Client 'GEONET' - No station information to download.\n",
      "[2021-11-25 00:49:44,550] - obspy.clients.fdsn.mass_downloader - INFO: ============================== Final report\n",
      "[2021-11-25 00:49:44,554] - obspy.clients.fdsn.mass_downloader - INFO: 0 MiniSEED files [0.0 MB] already existed.\n",
      "[2021-11-25 00:49:44,556] - obspy.clients.fdsn.mass_downloader - INFO: 1 StationXML files [0.0 MB] already existed.\n",
      "[2021-11-25 00:49:44,556] - obspy.clients.fdsn.mass_downloader - INFO: Client 'GEONET' - Acquired 1 MiniSEED files [0.0 MB].\n",
      "[2021-11-25 00:49:44,556] - obspy.clients.fdsn.mass_downloader - INFO: Client 'GEONET' - Acquired 0 StationXML files [0.0 MB].\n",
      "[2021-11-25 00:49:44,557] - obspy.clients.fdsn.mass_downloader - INFO: Downloaded 0.0 MB in total.\n",
      "[2021-11-25 00:49:44,563] - obspy.clients.fdsn.mass_downloader - INFO: Initializing FDSN client(s) for GEONET.\n",
      "[2021-11-25 00:49:44,579] - obspy.clients.fdsn.mass_downloader - INFO: Successfully initialized 1 client(s): GEONET.\n",
      "[2021-11-25 00:49:44,584] - obspy.clients.fdsn.mass_downloader - INFO: Total acquired or preexisting stations: 0\n",
      "[2021-11-25 00:49:44,585] - obspy.clients.fdsn.mass_downloader - INFO: Client 'GEONET' - Requesting unreliable availability.\n"
     ]
    },
    {
     "name": "stdout",
     "output_type": "stream",
     "text": [
      "=================================================================\n",
      "Initiating mass download request.\n"
     ]
    },
    {
     "name": "stderr",
     "output_type": "stream",
     "text": [
      "[2021-11-25 00:49:45,179] - obspy.clients.fdsn.mass_downloader - INFO: Client 'GEONET' - Successfully requested availability (0.59 seconds)\n",
      "[2021-11-25 00:49:45,189] - obspy.clients.fdsn.mass_downloader - INFO: Client 'GEONET' - Found 1 stations (1 channels).\n",
      "[2021-11-25 00:49:45,190] - obspy.clients.fdsn.mass_downloader - INFO: Client 'GEONET' - Will attempt to download data from 1 stations.\n",
      "[2021-11-25 00:49:45,192] - obspy.clients.fdsn.mass_downloader - INFO: Client 'GEONET' - Status for 1 time intervals/channels before downloading: NEEDS_DOWNLOADING\n",
      "[2021-11-25 00:49:45,940] - obspy.clients.fdsn.mass_downloader - INFO: Client 'GEONET' - Successfully downloaded 1 channels (of 1)\n",
      "[2021-11-25 00:49:45,952] - obspy.clients.fdsn.mass_downloader - INFO: Client 'GEONET' - Launching basic QC checks...\n",
      "[2021-11-25 00:49:45,977] - obspy.clients.fdsn.mass_downloader - INFO: Client 'GEONET' - Downloaded 0.0 MB [3.99 KB/sec] of data, 0.0 MB of which were discarded afterwards.\n",
      "[2021-11-25 00:49:45,979] - obspy.clients.fdsn.mass_downloader - INFO: Client 'GEONET' - Status for 1 time intervals/channels after downloading: DOWNLOADED\n",
      "[2021-11-25 00:49:45,987] - obspy.clients.fdsn.mass_downloader - INFO: Client 'GEONET' - No station information to download.\n",
      "[2021-11-25 00:49:45,989] - obspy.clients.fdsn.mass_downloader - INFO: ============================== Final report\n",
      "[2021-11-25 00:49:45,990] - obspy.clients.fdsn.mass_downloader - INFO: 0 MiniSEED files [0.0 MB] already existed.\n",
      "[2021-11-25 00:49:45,991] - obspy.clients.fdsn.mass_downloader - INFO: 1 StationXML files [0.0 MB] already existed.\n",
      "[2021-11-25 00:49:45,991] - obspy.clients.fdsn.mass_downloader - INFO: Client 'GEONET' - Acquired 1 MiniSEED files [0.0 MB].\n",
      "[2021-11-25 00:49:45,991] - obspy.clients.fdsn.mass_downloader - INFO: Client 'GEONET' - Acquired 0 StationXML files [0.0 MB].\n",
      "[2021-11-25 00:49:45,991] - obspy.clients.fdsn.mass_downloader - INFO: Downloaded 0.0 MB in total.\n",
      "[2021-11-25 00:49:45,997] - obspy.clients.fdsn.mass_downloader - INFO: Initializing FDSN client(s) for GEONET.\n",
      "[2021-11-25 00:49:46,009] - obspy.clients.fdsn.mass_downloader - INFO: Successfully initialized 1 client(s): GEONET.\n",
      "[2021-11-25 00:49:46,014] - obspy.clients.fdsn.mass_downloader - INFO: Total acquired or preexisting stations: 0\n",
      "[2021-11-25 00:49:46,016] - obspy.clients.fdsn.mass_downloader - INFO: Client 'GEONET' - Requesting unreliable availability.\n"
     ]
    },
    {
     "name": "stdout",
     "output_type": "stream",
     "text": [
      "=================================================================\n",
      "Initiating mass download request.\n"
     ]
    },
    {
     "name": "stderr",
     "output_type": "stream",
     "text": [
      "[2021-11-25 00:49:46,654] - obspy.clients.fdsn.mass_downloader - INFO: Client 'GEONET' - Successfully requested availability (0.63 seconds)\n",
      "[2021-11-25 00:49:46,719] - obspy.clients.fdsn.mass_downloader - INFO: Client 'GEONET' - Found 1 stations (1 channels).\n",
      "[2021-11-25 00:49:46,757] - obspy.clients.fdsn.mass_downloader - INFO: Client 'GEONET' - Will attempt to download data from 1 stations.\n",
      "[2021-11-25 00:49:46,812] - obspy.clients.fdsn.mass_downloader - INFO: Client 'GEONET' - Status for 1 time intervals/channels before downloading: NEEDS_DOWNLOADING\n",
      "[2021-11-25 00:49:47,715] - obspy.clients.fdsn.mass_downloader - INFO: Client 'GEONET' - Successfully downloaded 1 channels (of 1)\n",
      "[2021-11-25 00:49:47,748] - obspy.clients.fdsn.mass_downloader - INFO: Client 'GEONET' - Launching basic QC checks...\n",
      "[2021-11-25 00:49:47,768] - obspy.clients.fdsn.mass_downloader - INFO: Client 'GEONET' - Downloaded 0.0 MB [2.99 KB/sec] of data, 0.0 MB of which were discarded afterwards.\n",
      "[2021-11-25 00:49:47,771] - obspy.clients.fdsn.mass_downloader - INFO: Client 'GEONET' - Status for 1 time intervals/channels after downloading: DOWNLOADED\n",
      "[2021-11-25 00:49:47,786] - obspy.clients.fdsn.mass_downloader - INFO: Client 'GEONET' - No station information to download.\n",
      "[2021-11-25 00:49:47,792] - obspy.clients.fdsn.mass_downloader - INFO: ============================== Final report\n",
      "[2021-11-25 00:49:47,798] - obspy.clients.fdsn.mass_downloader - INFO: 0 MiniSEED files [0.0 MB] already existed.\n",
      "[2021-11-25 00:49:47,802] - obspy.clients.fdsn.mass_downloader - INFO: 1 StationXML files [0.0 MB] already existed.\n",
      "[2021-11-25 00:49:47,803] - obspy.clients.fdsn.mass_downloader - INFO: Client 'GEONET' - Acquired 1 MiniSEED files [0.0 MB].\n",
      "[2021-11-25 00:49:47,803] - obspy.clients.fdsn.mass_downloader - INFO: Client 'GEONET' - Acquired 0 StationXML files [0.0 MB].\n",
      "[2021-11-25 00:49:47,803] - obspy.clients.fdsn.mass_downloader - INFO: Downloaded 0.0 MB in total.\n",
      "[2021-11-25 00:49:47,815] - obspy.clients.fdsn.mass_downloader - INFO: Initializing FDSN client(s) for GEONET.\n",
      "[2021-11-25 00:49:47,840] - obspy.clients.fdsn.mass_downloader - INFO: Successfully initialized 1 client(s): GEONET.\n",
      "[2021-11-25 00:49:47,845] - obspy.clients.fdsn.mass_downloader - INFO: Total acquired or preexisting stations: 0\n",
      "[2021-11-25 00:49:47,848] - obspy.clients.fdsn.mass_downloader - INFO: Client 'GEONET' - Requesting unreliable availability.\n"
     ]
    },
    {
     "name": "stdout",
     "output_type": "stream",
     "text": [
      "=================================================================\n",
      "Initiating mass download request.\n"
     ]
    },
    {
     "name": "stderr",
     "output_type": "stream",
     "text": [
      "[2021-11-25 00:49:48,473] - obspy.clients.fdsn.mass_downloader - INFO: Client 'GEONET' - Successfully requested availability (0.62 seconds)\n",
      "[2021-11-25 00:49:48,475] - obspy.clients.fdsn.mass_downloader - INFO: Client 'GEONET' - Found 1 stations (1 channels).\n",
      "[2021-11-25 00:49:48,476] - obspy.clients.fdsn.mass_downloader - INFO: Client 'GEONET' - Will attempt to download data from 1 stations.\n",
      "[2021-11-25 00:49:48,477] - obspy.clients.fdsn.mass_downloader - INFO: Client 'GEONET' - Status for 1 time intervals/channels before downloading: NEEDS_DOWNLOADING\n",
      "[2021-11-25 00:49:49,307] - obspy.clients.fdsn.mass_downloader - INFO: Client 'GEONET' - Successfully downloaded 1 channels (of 1)\n",
      "[2021-11-25 00:49:49,312] - obspy.clients.fdsn.mass_downloader - INFO: Client 'GEONET' - Launching basic QC checks...\n",
      "[2021-11-25 00:49:49,329] - obspy.clients.fdsn.mass_downloader - INFO: Client 'GEONET' - Downloaded 0.0 MB [3.61 KB/sec] of data, 0.0 MB of which were discarded afterwards.\n",
      "[2021-11-25 00:49:49,330] - obspy.clients.fdsn.mass_downloader - INFO: Client 'GEONET' - Status for 1 time intervals/channels after downloading: DOWNLOADED\n",
      "[2021-11-25 00:49:49,334] - obspy.clients.fdsn.mass_downloader - INFO: Client 'GEONET' - No station information to download.\n",
      "[2021-11-25 00:49:49,335] - obspy.clients.fdsn.mass_downloader - INFO: ============================== Final report\n",
      "[2021-11-25 00:49:49,336] - obspy.clients.fdsn.mass_downloader - INFO: 0 MiniSEED files [0.0 MB] already existed.\n",
      "[2021-11-25 00:49:49,336] - obspy.clients.fdsn.mass_downloader - INFO: 1 StationXML files [0.0 MB] already existed.\n",
      "[2021-11-25 00:49:49,340] - obspy.clients.fdsn.mass_downloader - INFO: Client 'GEONET' - Acquired 1 MiniSEED files [0.0 MB].\n",
      "[2021-11-25 00:49:49,341] - obspy.clients.fdsn.mass_downloader - INFO: Client 'GEONET' - Acquired 0 StationXML files [0.0 MB].\n",
      "[2021-11-25 00:49:49,341] - obspy.clients.fdsn.mass_downloader - INFO: Downloaded 0.0 MB in total.\n",
      "[2021-11-25 00:49:49,344] - obspy.clients.fdsn.mass_downloader - INFO: Initializing FDSN client(s) for GEONET.\n",
      "[2021-11-25 00:49:49,356] - obspy.clients.fdsn.mass_downloader - INFO: Successfully initialized 1 client(s): GEONET.\n",
      "[2021-11-25 00:49:49,359] - obspy.clients.fdsn.mass_downloader - INFO: Total acquired or preexisting stations: 0\n",
      "[2021-11-25 00:49:49,362] - obspy.clients.fdsn.mass_downloader - INFO: Client 'GEONET' - Requesting unreliable availability.\n"
     ]
    },
    {
     "name": "stdout",
     "output_type": "stream",
     "text": [
      "=================================================================\n",
      "Initiating mass download request.\n"
     ]
    },
    {
     "name": "stderr",
     "output_type": "stream",
     "text": [
      "[2021-11-25 00:49:49,944] - obspy.clients.fdsn.mass_downloader - INFO: Client 'GEONET' - Successfully requested availability (0.58 seconds)\n",
      "[2021-11-25 00:49:49,947] - obspy.clients.fdsn.mass_downloader - INFO: Client 'GEONET' - Found 1 stations (1 channels).\n",
      "[2021-11-25 00:49:49,948] - obspy.clients.fdsn.mass_downloader - INFO: Client 'GEONET' - Will attempt to download data from 1 stations.\n",
      "[2021-11-25 00:49:49,951] - obspy.clients.fdsn.mass_downloader - INFO: Client 'GEONET' - Status for 1 time intervals/channels before downloading: NEEDS_DOWNLOADING\n",
      "[2021-11-25 00:49:50,835] - obspy.clients.fdsn.mass_downloader - INFO: Client 'GEONET' - Successfully downloaded 1 channels (of 1)\n",
      "[2021-11-25 00:49:50,857] - obspy.clients.fdsn.mass_downloader - INFO: Client 'GEONET' - Launching basic QC checks...\n",
      "[2021-11-25 00:49:50,907] - obspy.clients.fdsn.mass_downloader - INFO: Client 'GEONET' - Downloaded 0.0 MB [3.36 KB/sec] of data, 0.0 MB of which were discarded afterwards.\n",
      "[2021-11-25 00:49:50,921] - obspy.clients.fdsn.mass_downloader - INFO: Client 'GEONET' - Status for 1 time intervals/channels after downloading: DOWNLOADED\n",
      "[2021-11-25 00:49:50,941] - obspy.clients.fdsn.mass_downloader - INFO: Client 'GEONET' - No station information to download.\n",
      "[2021-11-25 00:49:50,955] - obspy.clients.fdsn.mass_downloader - INFO: ============================== Final report\n",
      "[2021-11-25 00:49:50,962] - obspy.clients.fdsn.mass_downloader - INFO: 0 MiniSEED files [0.0 MB] already existed.\n",
      "[2021-11-25 00:49:50,964] - obspy.clients.fdsn.mass_downloader - INFO: 1 StationXML files [0.0 MB] already existed.\n",
      "[2021-11-25 00:49:50,965] - obspy.clients.fdsn.mass_downloader - INFO: Client 'GEONET' - Acquired 1 MiniSEED files [0.0 MB].\n",
      "[2021-11-25 00:49:50,968] - obspy.clients.fdsn.mass_downloader - INFO: Client 'GEONET' - Acquired 0 StationXML files [0.0 MB].\n",
      "[2021-11-25 00:49:50,969] - obspy.clients.fdsn.mass_downloader - INFO: Downloaded 0.0 MB in total.\n",
      "[2021-11-25 00:49:50,985] - obspy.clients.fdsn.mass_downloader - INFO: Initializing FDSN client(s) for GEONET.\n",
      "[2021-11-25 00:49:51,006] - obspy.clients.fdsn.mass_downloader - INFO: Successfully initialized 1 client(s): GEONET.\n",
      "[2021-11-25 00:49:51,017] - obspy.clients.fdsn.mass_downloader - INFO: Total acquired or preexisting stations: 0\n",
      "[2021-11-25 00:49:51,019] - obspy.clients.fdsn.mass_downloader - INFO: Client 'GEONET' - Requesting unreliable availability.\n"
     ]
    },
    {
     "name": "stdout",
     "output_type": "stream",
     "text": [
      "=================================================================\n",
      "Initiating mass download request.\n"
     ]
    },
    {
     "name": "stderr",
     "output_type": "stream",
     "text": [
      "[2021-11-25 00:49:51,605] - obspy.clients.fdsn.mass_downloader - INFO: Client 'GEONET' - Successfully requested availability (0.58 seconds)\n",
      "[2021-11-25 00:49:51,645] - obspy.clients.fdsn.mass_downloader - INFO: Client 'GEONET' - Found 1 stations (1 channels).\n",
      "[2021-11-25 00:49:51,653] - obspy.clients.fdsn.mass_downloader - INFO: Client 'GEONET' - Will attempt to download data from 1 stations.\n",
      "[2021-11-25 00:49:51,657] - obspy.clients.fdsn.mass_downloader - INFO: Client 'GEONET' - Status for 1 time intervals/channels before downloading: NEEDS_DOWNLOADING\n",
      "[2021-11-25 00:49:52,605] - obspy.clients.fdsn.mass_downloader - INFO: Client 'GEONET' - Successfully downloaded 1 channels (of 1)\n",
      "[2021-11-25 00:49:52,619] - obspy.clients.fdsn.mass_downloader - INFO: Client 'GEONET' - Launching basic QC checks...\n",
      "[2021-11-25 00:49:52,631] - obspy.clients.fdsn.mass_downloader - INFO: Client 'GEONET' - Downloaded 0.0 MB [3.21 KB/sec] of data, 0.0 MB of which were discarded afterwards.\n",
      "[2021-11-25 00:49:52,635] - obspy.clients.fdsn.mass_downloader - INFO: Client 'GEONET' - Status for 1 time intervals/channels after downloading: DOWNLOADED\n",
      "[2021-11-25 00:49:52,650] - obspy.clients.fdsn.mass_downloader - INFO: Client 'GEONET' - No station information to download.\n",
      "[2021-11-25 00:49:52,652] - obspy.clients.fdsn.mass_downloader - INFO: ============================== Final report\n",
      "[2021-11-25 00:49:52,653] - obspy.clients.fdsn.mass_downloader - INFO: 0 MiniSEED files [0.0 MB] already existed.\n",
      "[2021-11-25 00:49:52,655] - obspy.clients.fdsn.mass_downloader - INFO: 1 StationXML files [0.0 MB] already existed.\n",
      "[2021-11-25 00:49:52,655] - obspy.clients.fdsn.mass_downloader - INFO: Client 'GEONET' - Acquired 1 MiniSEED files [0.0 MB].\n",
      "[2021-11-25 00:49:52,656] - obspy.clients.fdsn.mass_downloader - INFO: Client 'GEONET' - Acquired 0 StationXML files [0.0 MB].\n",
      "[2021-11-25 00:49:52,656] - obspy.clients.fdsn.mass_downloader - INFO: Downloaded 0.0 MB in total.\n",
      "[2021-11-25 00:49:52,664] - obspy.clients.fdsn.mass_downloader - INFO: Initializing FDSN client(s) for GEONET.\n",
      "[2021-11-25 00:49:52,679] - obspy.clients.fdsn.mass_downloader - INFO: Successfully initialized 1 client(s): GEONET.\n",
      "[2021-11-25 00:49:52,681] - obspy.clients.fdsn.mass_downloader - INFO: Total acquired or preexisting stations: 0\n",
      "[2021-11-25 00:49:52,682] - obspy.clients.fdsn.mass_downloader - INFO: Client 'GEONET' - Requesting unreliable availability.\n"
     ]
    },
    {
     "name": "stdout",
     "output_type": "stream",
     "text": [
      "=================================================================\n",
      "Initiating mass download request.\n"
     ]
    },
    {
     "name": "stderr",
     "output_type": "stream",
     "text": [
      "[2021-11-25 00:49:53,252] - obspy.clients.fdsn.mass_downloader - INFO: Client 'GEONET' - Successfully requested availability (0.57 seconds)\n",
      "[2021-11-25 00:49:53,259] - obspy.clients.fdsn.mass_downloader - INFO: Client 'GEONET' - Found 1 stations (1 channels).\n",
      "[2021-11-25 00:49:53,265] - obspy.clients.fdsn.mass_downloader - INFO: Client 'GEONET' - Will attempt to download data from 1 stations.\n",
      "[2021-11-25 00:49:53,273] - obspy.clients.fdsn.mass_downloader - INFO: Client 'GEONET' - Status for 1 time intervals/channels before downloading: NEEDS_DOWNLOADING\n",
      "[2021-11-25 00:49:54,507] - obspy.clients.fdsn.mass_downloader - INFO: Client 'GEONET' - Successfully downloaded 1 channels (of 1)\n",
      "[2021-11-25 00:49:54,526] - obspy.clients.fdsn.mass_downloader - INFO: Client 'GEONET' - Launching basic QC checks...\n",
      "[2021-11-25 00:49:54,554] - obspy.clients.fdsn.mass_downloader - INFO: Client 'GEONET' - Downloaded 0.0 MB [2.94 KB/sec] of data, 0.0 MB of which were discarded afterwards.\n",
      "[2021-11-25 00:49:54,558] - obspy.clients.fdsn.mass_downloader - INFO: Client 'GEONET' - Status for 1 time intervals/channels after downloading: DOWNLOADED\n",
      "[2021-11-25 00:49:54,568] - obspy.clients.fdsn.mass_downloader - INFO: Client 'GEONET' - No station information to download.\n",
      "[2021-11-25 00:49:54,570] - obspy.clients.fdsn.mass_downloader - INFO: ============================== Final report\n",
      "[2021-11-25 00:49:54,571] - obspy.clients.fdsn.mass_downloader - INFO: 0 MiniSEED files [0.0 MB] already existed.\n",
      "[2021-11-25 00:49:54,572] - obspy.clients.fdsn.mass_downloader - INFO: 1 StationXML files [0.0 MB] already existed.\n",
      "[2021-11-25 00:49:54,573] - obspy.clients.fdsn.mass_downloader - INFO: Client 'GEONET' - Acquired 1 MiniSEED files [0.0 MB].\n",
      "[2021-11-25 00:49:54,573] - obspy.clients.fdsn.mass_downloader - INFO: Client 'GEONET' - Acquired 0 StationXML files [0.0 MB].\n",
      "[2021-11-25 00:49:54,574] - obspy.clients.fdsn.mass_downloader - INFO: Downloaded 0.0 MB in total.\n",
      "[2021-11-25 00:49:54,582] - obspy.clients.fdsn.mass_downloader - INFO: Initializing FDSN client(s) for GEONET.\n",
      "[2021-11-25 00:49:54,603] - obspy.clients.fdsn.mass_downloader - INFO: Successfully initialized 1 client(s): GEONET.\n",
      "[2021-11-25 00:49:54,606] - obspy.clients.fdsn.mass_downloader - INFO: Total acquired or preexisting stations: 0\n",
      "[2021-11-25 00:49:54,606] - obspy.clients.fdsn.mass_downloader - INFO: Client 'GEONET' - Requesting unreliable availability.\n"
     ]
    },
    {
     "name": "stdout",
     "output_type": "stream",
     "text": [
      "=================================================================\n",
      "Initiating mass download request.\n"
     ]
    },
    {
     "name": "stderr",
     "output_type": "stream",
     "text": [
      "[2021-11-25 00:49:55,217] - obspy.clients.fdsn.mass_downloader - INFO: Client 'GEONET' - Successfully requested availability (0.61 seconds)\n",
      "[2021-11-25 00:49:55,235] - obspy.clients.fdsn.mass_downloader - INFO: Client 'GEONET' - Found 1 stations (1 channels).\n",
      "[2021-11-25 00:49:55,249] - obspy.clients.fdsn.mass_downloader - INFO: Client 'GEONET' - Will attempt to download data from 1 stations.\n",
      "[2021-11-25 00:49:55,273] - obspy.clients.fdsn.mass_downloader - INFO: Client 'GEONET' - Status for 1 time intervals/channels before downloading: NEEDS_DOWNLOADING\n",
      "[2021-11-25 00:49:56,215] - obspy.clients.fdsn.mass_downloader - INFO: Client 'GEONET' - Successfully downloaded 1 channels (of 1)\n",
      "[2021-11-25 00:49:56,232] - obspy.clients.fdsn.mass_downloader - INFO: Client 'GEONET' - Launching basic QC checks...\n",
      "[2021-11-25 00:49:56,254] - obspy.clients.fdsn.mass_downloader - INFO: Client 'GEONET' - Downloaded 0.0 MB [3.30 KB/sec] of data, 0.0 MB of which were discarded afterwards.\n",
      "[2021-11-25 00:49:56,262] - obspy.clients.fdsn.mass_downloader - INFO: Client 'GEONET' - Status for 1 time intervals/channels after downloading: DOWNLOADED\n",
      "[2021-11-25 00:49:56,287] - obspy.clients.fdsn.mass_downloader - INFO: Client 'GEONET' - No station information to download.\n",
      "[2021-11-25 00:49:56,292] - obspy.clients.fdsn.mass_downloader - INFO: ============================== Final report\n",
      "[2021-11-25 00:49:56,299] - obspy.clients.fdsn.mass_downloader - INFO: 0 MiniSEED files [0.0 MB] already existed.\n",
      "[2021-11-25 00:49:56,305] - obspy.clients.fdsn.mass_downloader - INFO: 1 StationXML files [0.0 MB] already existed.\n",
      "[2021-11-25 00:49:56,313] - obspy.clients.fdsn.mass_downloader - INFO: Client 'GEONET' - Acquired 1 MiniSEED files [0.0 MB].\n",
      "[2021-11-25 00:49:56,319] - obspy.clients.fdsn.mass_downloader - INFO: Client 'GEONET' - Acquired 0 StationXML files [0.0 MB].\n",
      "[2021-11-25 00:49:56,320] - obspy.clients.fdsn.mass_downloader - INFO: Downloaded 0.0 MB in total.\n",
      "[2021-11-25 00:49:56,328] - obspy.clients.fdsn.mass_downloader - INFO: Initializing FDSN client(s) for GEONET.\n",
      "[2021-11-25 00:49:56,336] - obspy.clients.fdsn.mass_downloader - INFO: Successfully initialized 1 client(s): GEONET.\n",
      "[2021-11-25 00:49:56,338] - obspy.clients.fdsn.mass_downloader - INFO: Total acquired or preexisting stations: 0\n",
      "[2021-11-25 00:49:56,339] - obspy.clients.fdsn.mass_downloader - INFO: Client 'GEONET' - Requesting unreliable availability.\n"
     ]
    },
    {
     "name": "stdout",
     "output_type": "stream",
     "text": [
      "=================================================================\n",
      "Initiating mass download request.\n"
     ]
    },
    {
     "name": "stderr",
     "output_type": "stream",
     "text": [
      "[2021-11-25 00:49:56,956] - obspy.clients.fdsn.mass_downloader - INFO: Client 'GEONET' - Successfully requested availability (0.62 seconds)\n",
      "[2021-11-25 00:49:56,963] - obspy.clients.fdsn.mass_downloader - INFO: Client 'GEONET' - Found 1 stations (1 channels).\n",
      "[2021-11-25 00:49:56,967] - obspy.clients.fdsn.mass_downloader - INFO: Client 'GEONET' - Will attempt to download data from 1 stations.\n",
      "[2021-11-25 00:49:56,979] - obspy.clients.fdsn.mass_downloader - INFO: Client 'GEONET' - Status for 1 time intervals/channels before downloading: NEEDS_DOWNLOADING\n",
      "[2021-11-25 00:49:57,937] - obspy.clients.fdsn.mass_downloader - INFO: Client 'GEONET' - Successfully downloaded 1 channels (of 1)\n",
      "[2021-11-25 00:49:57,977] - obspy.clients.fdsn.mass_downloader - INFO: Client 'GEONET' - Launching basic QC checks...\n",
      "[2021-11-25 00:49:58,006] - obspy.clients.fdsn.mass_downloader - INFO: Client 'GEONET' - Downloaded 0.0 MB [3.58 KB/sec] of data, 0.0 MB of which were discarded afterwards.\n",
      "[2021-11-25 00:49:58,010] - obspy.clients.fdsn.mass_downloader - INFO: Client 'GEONET' - Status for 1 time intervals/channels after downloading: DOWNLOADED\n",
      "[2021-11-25 00:49:58,023] - obspy.clients.fdsn.mass_downloader - INFO: Client 'GEONET' - No station information to download.\n",
      "[2021-11-25 00:49:58,028] - obspy.clients.fdsn.mass_downloader - INFO: ============================== Final report\n",
      "[2021-11-25 00:49:58,034] - obspy.clients.fdsn.mass_downloader - INFO: 0 MiniSEED files [0.0 MB] already existed.\n",
      "[2021-11-25 00:49:58,036] - obspy.clients.fdsn.mass_downloader - INFO: 1 StationXML files [0.0 MB] already existed.\n",
      "[2021-11-25 00:49:58,036] - obspy.clients.fdsn.mass_downloader - INFO: Client 'GEONET' - Acquired 1 MiniSEED files [0.0 MB].\n",
      "[2021-11-25 00:49:58,038] - obspy.clients.fdsn.mass_downloader - INFO: Client 'GEONET' - Acquired 0 StationXML files [0.0 MB].\n",
      "[2021-11-25 00:49:58,045] - obspy.clients.fdsn.mass_downloader - INFO: Downloaded 0.0 MB in total.\n",
      "[2021-11-25 00:49:58,071] - obspy.clients.fdsn.mass_downloader - INFO: Initializing FDSN client(s) for GEONET.\n",
      "[2021-11-25 00:49:58,099] - obspy.clients.fdsn.mass_downloader - INFO: Successfully initialized 1 client(s): GEONET.\n",
      "[2021-11-25 00:49:58,107] - obspy.clients.fdsn.mass_downloader - INFO: Total acquired or preexisting stations: 0\n",
      "[2021-11-25 00:49:58,112] - obspy.clients.fdsn.mass_downloader - INFO: Client 'GEONET' - Requesting unreliable availability.\n"
     ]
    },
    {
     "name": "stdout",
     "output_type": "stream",
     "text": [
      "=================================================================\n",
      "Initiating mass download request.\n"
     ]
    },
    {
     "name": "stderr",
     "output_type": "stream",
     "text": [
      "[2021-11-25 00:49:58,807] - obspy.clients.fdsn.mass_downloader - INFO: Client 'GEONET' - Successfully requested availability (0.69 seconds)\n",
      "[2021-11-25 00:49:58,817] - obspy.clients.fdsn.mass_downloader - INFO: Client 'GEONET' - Found 1 stations (1 channels).\n",
      "[2021-11-25 00:49:58,819] - obspy.clients.fdsn.mass_downloader - INFO: Client 'GEONET' - Will attempt to download data from 1 stations.\n",
      "[2021-11-25 00:49:58,821] - obspy.clients.fdsn.mass_downloader - INFO: Client 'GEONET' - Status for 1 time intervals/channels before downloading: NEEDS_DOWNLOADING\n",
      "[2021-11-25 00:49:59,752] - obspy.clients.fdsn.mass_downloader - INFO: Client 'GEONET' - Successfully downloaded 1 channels (of 1)\n",
      "[2021-11-25 00:49:59,777] - obspy.clients.fdsn.mass_downloader - INFO: Client 'GEONET' - Launching basic QC checks...\n",
      "[2021-11-25 00:49:59,791] - obspy.clients.fdsn.mass_downloader - INFO: Client 'GEONET' - Downloaded 0.0 MB [2.65 KB/sec] of data, 0.0 MB of which were discarded afterwards.\n",
      "[2021-11-25 00:49:59,795] - obspy.clients.fdsn.mass_downloader - INFO: Client 'GEONET' - Status for 1 time intervals/channels after downloading: DOWNLOADED\n",
      "[2021-11-25 00:49:59,803] - obspy.clients.fdsn.mass_downloader - INFO: Client 'GEONET' - No station information to download.\n",
      "[2021-11-25 00:49:59,812] - obspy.clients.fdsn.mass_downloader - INFO: ============================== Final report\n",
      "[2021-11-25 00:49:59,815] - obspy.clients.fdsn.mass_downloader - INFO: 0 MiniSEED files [0.0 MB] already existed.\n",
      "[2021-11-25 00:49:59,818] - obspy.clients.fdsn.mass_downloader - INFO: 1 StationXML files [0.0 MB] already existed.\n",
      "[2021-11-25 00:49:59,819] - obspy.clients.fdsn.mass_downloader - INFO: Client 'GEONET' - Acquired 1 MiniSEED files [0.0 MB].\n",
      "[2021-11-25 00:49:59,820] - obspy.clients.fdsn.mass_downloader - INFO: Client 'GEONET' - Acquired 0 StationXML files [0.0 MB].\n",
      "[2021-11-25 00:49:59,827] - obspy.clients.fdsn.mass_downloader - INFO: Downloaded 0.0 MB in total.\n",
      "[2021-11-25 00:49:59,833] - obspy.clients.fdsn.mass_downloader - INFO: Initializing FDSN client(s) for GEONET.\n",
      "[2021-11-25 00:49:59,852] - obspy.clients.fdsn.mass_downloader - INFO: Successfully initialized 1 client(s): GEONET.\n",
      "[2021-11-25 00:49:59,855] - obspy.clients.fdsn.mass_downloader - INFO: Total acquired or preexisting stations: 0\n",
      "[2021-11-25 00:49:59,860] - obspy.clients.fdsn.mass_downloader - INFO: Client 'GEONET' - Requesting unreliable availability.\n"
     ]
    },
    {
     "name": "stdout",
     "output_type": "stream",
     "text": [
      "=================================================================\n",
      "Initiating mass download request.\n"
     ]
    },
    {
     "name": "stderr",
     "output_type": "stream",
     "text": [
      "[2021-11-25 00:50:00,447] - obspy.clients.fdsn.mass_downloader - INFO: Client 'GEONET' - Successfully requested availability (0.58 seconds)\n",
      "[2021-11-25 00:50:00,461] - obspy.clients.fdsn.mass_downloader - INFO: Client 'GEONET' - Found 1 stations (1 channels).\n",
      "[2021-11-25 00:50:00,490] - obspy.clients.fdsn.mass_downloader - INFO: Client 'GEONET' - Will attempt to download data from 1 stations.\n",
      "[2021-11-25 00:50:00,538] - obspy.clients.fdsn.mass_downloader - INFO: Client 'GEONET' - Status for 1 time intervals/channels before downloading: NEEDS_DOWNLOADING\n",
      "[2021-11-25 00:50:01,751] - obspy.clients.fdsn.mass_downloader - INFO: Client 'GEONET' - Successfully downloaded 1 channels (of 1)\n",
      "[2021-11-25 00:50:01,803] - obspy.clients.fdsn.mass_downloader - INFO: Client 'GEONET' - Launching basic QC checks...\n",
      "[2021-11-25 00:50:01,857] - obspy.clients.fdsn.mass_downloader - INFO: Client 'GEONET' - Downloaded 0.0 MB [3.32 KB/sec] of data, 0.0 MB of which were discarded afterwards.\n",
      "[2021-11-25 00:50:01,870] - obspy.clients.fdsn.mass_downloader - INFO: Client 'GEONET' - Status for 1 time intervals/channels after downloading: DOWNLOADED\n",
      "[2021-11-25 00:50:01,889] - obspy.clients.fdsn.mass_downloader - INFO: Client 'GEONET' - No station information to download.\n",
      "[2021-11-25 00:50:01,915] - obspy.clients.fdsn.mass_downloader - INFO: ============================== Final report\n",
      "[2021-11-25 00:50:01,920] - obspy.clients.fdsn.mass_downloader - INFO: 0 MiniSEED files [0.0 MB] already existed.\n",
      "[2021-11-25 00:50:01,931] - obspy.clients.fdsn.mass_downloader - INFO: 1 StationXML files [0.0 MB] already existed.\n",
      "[2021-11-25 00:50:01,932] - obspy.clients.fdsn.mass_downloader - INFO: Client 'GEONET' - Acquired 1 MiniSEED files [0.0 MB].\n",
      "[2021-11-25 00:50:01,933] - obspy.clients.fdsn.mass_downloader - INFO: Client 'GEONET' - Acquired 0 StationXML files [0.0 MB].\n",
      "[2021-11-25 00:50:01,934] - obspy.clients.fdsn.mass_downloader - INFO: Downloaded 0.0 MB in total.\n",
      "[2021-11-25 00:50:01,978] - obspy.clients.fdsn.mass_downloader - INFO: Initializing FDSN client(s) for GEONET.\n",
      "[2021-11-25 00:50:02,033] - obspy.clients.fdsn.mass_downloader - INFO: Successfully initialized 1 client(s): GEONET.\n",
      "[2021-11-25 00:50:02,044] - obspy.clients.fdsn.mass_downloader - INFO: Total acquired or preexisting stations: 0\n",
      "[2021-11-25 00:50:02,051] - obspy.clients.fdsn.mass_downloader - INFO: Client 'GEONET' - Requesting unreliable availability.\n"
     ]
    },
    {
     "name": "stdout",
     "output_type": "stream",
     "text": [
      "=================================================================\n",
      "Initiating mass download request.\n"
     ]
    },
    {
     "name": "stderr",
     "output_type": "stream",
     "text": [
      "[2021-11-25 00:50:02,710] - obspy.clients.fdsn.mass_downloader - INFO: Client 'GEONET' - Successfully requested availability (0.66 seconds)\n",
      "[2021-11-25 00:50:02,728] - obspy.clients.fdsn.mass_downloader - INFO: Client 'GEONET' - Found 1 stations (1 channels).\n",
      "[2021-11-25 00:50:02,734] - obspy.clients.fdsn.mass_downloader - INFO: Client 'GEONET' - Will attempt to download data from 1 stations.\n",
      "[2021-11-25 00:50:02,747] - obspy.clients.fdsn.mass_downloader - INFO: Client 'GEONET' - Status for 1 time intervals/channels before downloading: NEEDS_DOWNLOADING\n",
      "[2021-11-25 00:50:03,606] - obspy.clients.fdsn.mass_downloader - INFO: Client 'GEONET' - Successfully downloaded 1 channels (of 1)\n",
      "[2021-11-25 00:50:03,634] - obspy.clients.fdsn.mass_downloader - INFO: Client 'GEONET' - Launching basic QC checks...\n",
      "[2021-11-25 00:50:03,660] - obspy.clients.fdsn.mass_downloader - INFO: Client 'GEONET' - Downloaded 0.0 MB [3.44 KB/sec] of data, 0.0 MB of which were discarded afterwards.\n",
      "[2021-11-25 00:50:03,662] - obspy.clients.fdsn.mass_downloader - INFO: Client 'GEONET' - Status for 1 time intervals/channels after downloading: DOWNLOADED\n",
      "[2021-11-25 00:50:03,684] - obspy.clients.fdsn.mass_downloader - INFO: Client 'GEONET' - No station information to download.\n",
      "[2021-11-25 00:50:03,694] - obspy.clients.fdsn.mass_downloader - INFO: ============================== Final report\n",
      "[2021-11-25 00:50:03,699] - obspy.clients.fdsn.mass_downloader - INFO: 0 MiniSEED files [0.0 MB] already existed.\n",
      "[2021-11-25 00:50:03,702] - obspy.clients.fdsn.mass_downloader - INFO: 1 StationXML files [0.0 MB] already existed.\n",
      "[2021-11-25 00:50:03,702] - obspy.clients.fdsn.mass_downloader - INFO: Client 'GEONET' - Acquired 1 MiniSEED files [0.0 MB].\n",
      "[2021-11-25 00:50:03,704] - obspy.clients.fdsn.mass_downloader - INFO: Client 'GEONET' - Acquired 0 StationXML files [0.0 MB].\n",
      "[2021-11-25 00:50:03,704] - obspy.clients.fdsn.mass_downloader - INFO: Downloaded 0.0 MB in total.\n",
      "[2021-11-25 00:50:03,714] - obspy.clients.fdsn.mass_downloader - INFO: Initializing FDSN client(s) for GEONET.\n",
      "[2021-11-25 00:50:03,745] - obspy.clients.fdsn.mass_downloader - INFO: Successfully initialized 1 client(s): GEONET.\n",
      "[2021-11-25 00:50:03,753] - obspy.clients.fdsn.mass_downloader - INFO: Total acquired or preexisting stations: 0\n",
      "[2021-11-25 00:50:03,758] - obspy.clients.fdsn.mass_downloader - INFO: Client 'GEONET' - Requesting unreliable availability.\n"
     ]
    },
    {
     "name": "stdout",
     "output_type": "stream",
     "text": [
      "=================================================================\n",
      "Initiating mass download request.\n"
     ]
    },
    {
     "name": "stderr",
     "output_type": "stream",
     "text": [
      "[2021-11-25 00:50:04,419] - obspy.clients.fdsn.mass_downloader - INFO: Client 'GEONET' - Successfully requested availability (0.66 seconds)\n",
      "[2021-11-25 00:50:04,426] - obspy.clients.fdsn.mass_downloader - INFO: Client 'GEONET' - Found 1 stations (1 channels).\n",
      "[2021-11-25 00:50:04,438] - obspy.clients.fdsn.mass_downloader - INFO: Client 'GEONET' - Will attempt to download data from 1 stations.\n",
      "[2021-11-25 00:50:04,441] - obspy.clients.fdsn.mass_downloader - INFO: Client 'GEONET' - Status for 1 time intervals/channels before downloading: NEEDS_DOWNLOADING\n",
      "[2021-11-25 00:50:05,367] - obspy.clients.fdsn.mass_downloader - INFO: Client 'GEONET' - Successfully downloaded 1 channels (of 1)\n",
      "[2021-11-25 00:50:05,395] - obspy.clients.fdsn.mass_downloader - INFO: Client 'GEONET' - Launching basic QC checks...\n",
      "[2021-11-25 00:50:05,418] - obspy.clients.fdsn.mass_downloader - INFO: Client 'GEONET' - Downloaded 0.0 MB [3.21 KB/sec] of data, 0.0 MB of which were discarded afterwards.\n",
      "[2021-11-25 00:50:05,424] - obspy.clients.fdsn.mass_downloader - INFO: Client 'GEONET' - Status for 1 time intervals/channels after downloading: DOWNLOADED\n",
      "[2021-11-25 00:50:05,442] - obspy.clients.fdsn.mass_downloader - INFO: Client 'GEONET' - No station information to download.\n",
      "[2021-11-25 00:50:05,448] - obspy.clients.fdsn.mass_downloader - INFO: ============================== Final report\n",
      "[2021-11-25 00:50:05,454] - obspy.clients.fdsn.mass_downloader - INFO: 0 MiniSEED files [0.0 MB] already existed.\n",
      "[2021-11-25 00:50:05,455] - obspy.clients.fdsn.mass_downloader - INFO: 1 StationXML files [0.0 MB] already existed.\n",
      "[2021-11-25 00:50:05,456] - obspy.clients.fdsn.mass_downloader - INFO: Client 'GEONET' - Acquired 1 MiniSEED files [0.0 MB].\n",
      "[2021-11-25 00:50:05,457] - obspy.clients.fdsn.mass_downloader - INFO: Client 'GEONET' - Acquired 0 StationXML files [0.0 MB].\n",
      "[2021-11-25 00:50:05,460] - obspy.clients.fdsn.mass_downloader - INFO: Downloaded 0.0 MB in total.\n",
      "[2021-11-25 00:50:05,482] - obspy.clients.fdsn.mass_downloader - INFO: Initializing FDSN client(s) for GEONET.\n",
      "[2021-11-25 00:50:05,495] - obspy.clients.fdsn.mass_downloader - INFO: Successfully initialized 1 client(s): GEONET.\n",
      "[2021-11-25 00:50:05,498] - obspy.clients.fdsn.mass_downloader - INFO: Total acquired or preexisting stations: 0\n",
      "[2021-11-25 00:50:05,500] - obspy.clients.fdsn.mass_downloader - INFO: Client 'GEONET' - Requesting unreliable availability.\n"
     ]
    },
    {
     "name": "stdout",
     "output_type": "stream",
     "text": [
      "=================================================================\n",
      "Initiating mass download request.\n"
     ]
    },
    {
     "name": "stderr",
     "output_type": "stream",
     "text": [
      "[2021-11-25 00:50:06,172] - obspy.clients.fdsn.mass_downloader - INFO: Client 'GEONET' - Successfully requested availability (0.67 seconds)\n",
      "[2021-11-25 00:50:06,179] - obspy.clients.fdsn.mass_downloader - INFO: Client 'GEONET' - Found 1 stations (1 channels).\n",
      "[2021-11-25 00:50:06,180] - obspy.clients.fdsn.mass_downloader - INFO: Client 'GEONET' - Will attempt to download data from 1 stations.\n",
      "[2021-11-25 00:50:06,186] - obspy.clients.fdsn.mass_downloader - INFO: Client 'GEONET' - Status for 1 time intervals/channels before downloading: NEEDS_DOWNLOADING\n",
      "[2021-11-25 00:50:06,978] - obspy.clients.fdsn.mass_downloader - INFO: Client 'GEONET' - Successfully downloaded 1 channels (of 1)\n",
      "[2021-11-25 00:50:06,986] - obspy.clients.fdsn.mass_downloader - INFO: Client 'GEONET' - Launching basic QC checks...\n",
      "[2021-11-25 00:50:07,005] - obspy.clients.fdsn.mass_downloader - INFO: Client 'GEONET' - Downloaded 0.0 MB [3.78 KB/sec] of data, 0.0 MB of which were discarded afterwards.\n",
      "[2021-11-25 00:50:07,008] - obspy.clients.fdsn.mass_downloader - INFO: Client 'GEONET' - Status for 1 time intervals/channels after downloading: DOWNLOADED\n",
      "[2021-11-25 00:50:07,017] - obspy.clients.fdsn.mass_downloader - INFO: Client 'GEONET' - No station information to download.\n",
      "[2021-11-25 00:50:07,027] - obspy.clients.fdsn.mass_downloader - INFO: ============================== Final report\n",
      "[2021-11-25 00:50:07,030] - obspy.clients.fdsn.mass_downloader - INFO: 0 MiniSEED files [0.0 MB] already existed.\n",
      "[2021-11-25 00:50:07,031] - obspy.clients.fdsn.mass_downloader - INFO: 1 StationXML files [0.0 MB] already existed.\n",
      "[2021-11-25 00:50:07,034] - obspy.clients.fdsn.mass_downloader - INFO: Client 'GEONET' - Acquired 1 MiniSEED files [0.0 MB].\n",
      "[2021-11-25 00:50:07,036] - obspy.clients.fdsn.mass_downloader - INFO: Client 'GEONET' - Acquired 0 StationXML files [0.0 MB].\n",
      "[2021-11-25 00:50:07,037] - obspy.clients.fdsn.mass_downloader - INFO: Downloaded 0.0 MB in total.\n",
      "[2021-11-25 00:50:07,048] - obspy.clients.fdsn.mass_downloader - INFO: Initializing FDSN client(s) for GEONET.\n",
      "[2021-11-25 00:50:07,066] - obspy.clients.fdsn.mass_downloader - INFO: Successfully initialized 1 client(s): GEONET.\n",
      "[2021-11-25 00:50:07,068] - obspy.clients.fdsn.mass_downloader - INFO: Total acquired or preexisting stations: 0\n",
      "[2021-11-25 00:50:07,069] - obspy.clients.fdsn.mass_downloader - INFO: Client 'GEONET' - Requesting unreliable availability.\n"
     ]
    },
    {
     "name": "stdout",
     "output_type": "stream",
     "text": [
      "=================================================================\n",
      "Initiating mass download request.\n"
     ]
    },
    {
     "name": "stderr",
     "output_type": "stream",
     "text": [
      "[2021-11-25 00:50:07,682] - obspy.clients.fdsn.mass_downloader - INFO: Client 'GEONET' - Successfully requested availability (0.61 seconds)\n",
      "[2021-11-25 00:50:07,733] - obspy.clients.fdsn.mass_downloader - INFO: Client 'GEONET' - Found 1 stations (1 channels).\n",
      "[2021-11-25 00:50:07,747] - obspy.clients.fdsn.mass_downloader - INFO: Client 'GEONET' - Will attempt to download data from 1 stations.\n",
      "[2021-11-25 00:50:07,764] - obspy.clients.fdsn.mass_downloader - INFO: Client 'GEONET' - Status for 1 time intervals/channels before downloading: NEEDS_DOWNLOADING\n",
      "[2021-11-25 00:50:08,666] - obspy.clients.fdsn.mass_downloader - INFO: Client 'GEONET' - Successfully downloaded 1 channels (of 1)\n",
      "[2021-11-25 00:50:08,710] - obspy.clients.fdsn.mass_downloader - INFO: Client 'GEONET' - Launching basic QC checks...\n",
      "[2021-11-25 00:50:08,768] - obspy.clients.fdsn.mass_downloader - INFO: Client 'GEONET' - Downloaded 0.0 MB [3.84 KB/sec] of data, 0.0 MB of which were discarded afterwards.\n",
      "[2021-11-25 00:50:08,774] - obspy.clients.fdsn.mass_downloader - INFO: Client 'GEONET' - Status for 1 time intervals/channels after downloading: DOWNLOADED\n",
      "[2021-11-25 00:50:08,814] - obspy.clients.fdsn.mass_downloader - INFO: Client 'GEONET' - No station information to download.\n",
      "[2021-11-25 00:50:08,829] - obspy.clients.fdsn.mass_downloader - INFO: ============================== Final report\n",
      "[2021-11-25 00:50:08,839] - obspy.clients.fdsn.mass_downloader - INFO: 0 MiniSEED files [0.0 MB] already existed.\n",
      "[2021-11-25 00:50:08,847] - obspy.clients.fdsn.mass_downloader - INFO: 1 StationXML files [0.0 MB] already existed.\n",
      "[2021-11-25 00:50:08,851] - obspy.clients.fdsn.mass_downloader - INFO: Client 'GEONET' - Acquired 1 MiniSEED files [0.0 MB].\n",
      "[2021-11-25 00:50:08,855] - obspy.clients.fdsn.mass_downloader - INFO: Client 'GEONET' - Acquired 0 StationXML files [0.0 MB].\n",
      "[2021-11-25 00:50:08,858] - obspy.clients.fdsn.mass_downloader - INFO: Downloaded 0.0 MB in total.\n",
      "[2021-11-25 00:50:08,966] - obspy.clients.fdsn.mass_downloader - INFO: Initializing FDSN client(s) for GEONET.\n"
     ]
    },
    {
     "name": "stdout",
     "output_type": "stream",
     "text": [
      "=================================================================\n",
      "Initiating mass download request.\n"
     ]
    },
    {
     "name": "stderr",
     "output_type": "stream",
     "text": [
      "[2021-11-25 00:50:09,349] - obspy.clients.fdsn.mass_downloader - INFO: Successfully initialized 1 client(s): GEONET.\n",
      "[2021-11-25 00:50:09,386] - obspy.clients.fdsn.mass_downloader - INFO: Total acquired or preexisting stations: 0\n",
      "[2021-11-25 00:50:09,397] - obspy.clients.fdsn.mass_downloader - INFO: Client 'GEONET' - Requesting unreliable availability.\n",
      "[2021-11-25 00:50:10,038] - obspy.clients.fdsn.mass_downloader - INFO: Client 'GEONET' - Successfully requested availability (0.63 seconds)\n",
      "[2021-11-25 00:50:10,064] - obspy.clients.fdsn.mass_downloader - INFO: Client 'GEONET' - Found 1 stations (1 channels).\n",
      "[2021-11-25 00:50:10,078] - obspy.clients.fdsn.mass_downloader - INFO: Client 'GEONET' - Will attempt to download data from 1 stations.\n",
      "[2021-11-25 00:50:10,088] - obspy.clients.fdsn.mass_downloader - INFO: Client 'GEONET' - Status for 1 time intervals/channels before downloading: NEEDS_DOWNLOADING\n",
      "[2021-11-25 00:50:11,127] - obspy.clients.fdsn.mass_downloader - INFO: Client 'GEONET' - Successfully downloaded 1 channels (of 1)\n",
      "[2021-11-25 00:50:11,135] - obspy.clients.fdsn.mass_downloader - INFO: Client 'GEONET' - Launching basic QC checks...\n",
      "[2021-11-25 00:50:11,140] - obspy.clients.fdsn.mass_downloader - INFO: Client 'GEONET' - Downloaded 0.0 MB [3.41 KB/sec] of data, 0.0 MB of which were discarded afterwards.\n",
      "[2021-11-25 00:50:11,140] - obspy.clients.fdsn.mass_downloader - INFO: Client 'GEONET' - Status for 1 time intervals/channels after downloading: DOWNLOADED\n",
      "[2021-11-25 00:50:11,147] - obspy.clients.fdsn.mass_downloader - INFO: Client 'GEONET' - No station information to download.\n",
      "[2021-11-25 00:50:11,148] - obspy.clients.fdsn.mass_downloader - INFO: ============================== Final report\n",
      "[2021-11-25 00:50:11,148] - obspy.clients.fdsn.mass_downloader - INFO: 0 MiniSEED files [0.0 MB] already existed.\n",
      "[2021-11-25 00:50:11,149] - obspy.clients.fdsn.mass_downloader - INFO: 1 StationXML files [0.0 MB] already existed.\n",
      "[2021-11-25 00:50:11,149] - obspy.clients.fdsn.mass_downloader - INFO: Client 'GEONET' - Acquired 1 MiniSEED files [0.0 MB].\n",
      "[2021-11-25 00:50:11,149] - obspy.clients.fdsn.mass_downloader - INFO: Client 'GEONET' - Acquired 0 StationXML files [0.0 MB].\n",
      "[2021-11-25 00:50:11,150] - obspy.clients.fdsn.mass_downloader - INFO: Downloaded 0.0 MB in total.\n",
      "[2021-11-25 00:50:11,160] - obspy.clients.fdsn.mass_downloader - INFO: Initializing FDSN client(s) for GEONET.\n",
      "[2021-11-25 00:50:11,172] - obspy.clients.fdsn.mass_downloader - INFO: Successfully initialized 1 client(s): GEONET.\n",
      "[2021-11-25 00:50:11,173] - obspy.clients.fdsn.mass_downloader - INFO: Total acquired or preexisting stations: 0\n",
      "[2021-11-25 00:50:11,175] - obspy.clients.fdsn.mass_downloader - INFO: Client 'GEONET' - Requesting unreliable availability.\n"
     ]
    },
    {
     "name": "stdout",
     "output_type": "stream",
     "text": [
      "=================================================================\n",
      "Initiating mass download request.\n"
     ]
    },
    {
     "name": "stderr",
     "output_type": "stream",
     "text": [
      "[2021-11-25 00:50:11,759] - obspy.clients.fdsn.mass_downloader - INFO: Client 'GEONET' - Successfully requested availability (0.58 seconds)\n",
      "[2021-11-25 00:50:11,761] - obspy.clients.fdsn.mass_downloader - INFO: Client 'GEONET' - Found 1 stations (1 channels).\n",
      "[2021-11-25 00:50:11,762] - obspy.clients.fdsn.mass_downloader - INFO: Client 'GEONET' - Will attempt to download data from 1 stations.\n",
      "[2021-11-25 00:50:11,762] - obspy.clients.fdsn.mass_downloader - INFO: Client 'GEONET' - Status for 1 time intervals/channels before downloading: NEEDS_DOWNLOADING\n",
      "[2021-11-25 00:50:12,625] - obspy.clients.fdsn.mass_downloader - INFO: Client 'GEONET' - Successfully downloaded 1 channels (of 1)\n",
      "[2021-11-25 00:50:12,634] - obspy.clients.fdsn.mass_downloader - INFO: Client 'GEONET' - Launching basic QC checks...\n",
      "[2021-11-25 00:50:12,645] - obspy.clients.fdsn.mass_downloader - INFO: Client 'GEONET' - Downloaded 0.0 MB [3.45 KB/sec] of data, 0.0 MB of which were discarded afterwards.\n",
      "[2021-11-25 00:50:12,645] - obspy.clients.fdsn.mass_downloader - INFO: Client 'GEONET' - Status for 1 time intervals/channels after downloading: DOWNLOADED\n",
      "[2021-11-25 00:50:12,649] - obspy.clients.fdsn.mass_downloader - INFO: Client 'GEONET' - No station information to download.\n",
      "[2021-11-25 00:50:12,651] - obspy.clients.fdsn.mass_downloader - INFO: ============================== Final report\n",
      "[2021-11-25 00:50:12,651] - obspy.clients.fdsn.mass_downloader - INFO: 0 MiniSEED files [0.0 MB] already existed.\n",
      "[2021-11-25 00:50:12,652] - obspy.clients.fdsn.mass_downloader - INFO: 1 StationXML files [0.0 MB] already existed.\n",
      "[2021-11-25 00:50:12,652] - obspy.clients.fdsn.mass_downloader - INFO: Client 'GEONET' - Acquired 1 MiniSEED files [0.0 MB].\n",
      "[2021-11-25 00:50:12,653] - obspy.clients.fdsn.mass_downloader - INFO: Client 'GEONET' - Acquired 0 StationXML files [0.0 MB].\n",
      "[2021-11-25 00:50:12,653] - obspy.clients.fdsn.mass_downloader - INFO: Downloaded 0.0 MB in total.\n",
      "[2021-11-25 00:50:12,659] - obspy.clients.fdsn.mass_downloader - INFO: Initializing FDSN client(s) for GEONET.\n",
      "[2021-11-25 00:50:12,666] - obspy.clients.fdsn.mass_downloader - INFO: Successfully initialized 1 client(s): GEONET.\n",
      "[2021-11-25 00:50:12,667] - obspy.clients.fdsn.mass_downloader - INFO: Total acquired or preexisting stations: 0\n",
      "[2021-11-25 00:50:12,668] - obspy.clients.fdsn.mass_downloader - INFO: Client 'GEONET' - Requesting unreliable availability.\n"
     ]
    },
    {
     "name": "stdout",
     "output_type": "stream",
     "text": [
      "=================================================================\n",
      "Initiating mass download request.\n"
     ]
    },
    {
     "name": "stderr",
     "output_type": "stream",
     "text": [
      "[2021-11-25 00:50:13,281] - obspy.clients.fdsn.mass_downloader - INFO: Client 'GEONET' - Successfully requested availability (0.61 seconds)\n",
      "[2021-11-25 00:50:13,294] - obspy.clients.fdsn.mass_downloader - INFO: Client 'GEONET' - Found 1 stations (1 channels).\n",
      "[2021-11-25 00:50:13,300] - obspy.clients.fdsn.mass_downloader - INFO: Client 'GEONET' - Will attempt to download data from 1 stations.\n",
      "[2021-11-25 00:50:13,314] - obspy.clients.fdsn.mass_downloader - INFO: Client 'GEONET' - Status for 1 time intervals/channels before downloading: NEEDS_DOWNLOADING\n",
      "[2021-11-25 00:50:14,347] - obspy.clients.fdsn.mass_downloader - INFO: Client 'GEONET' - Successfully downloaded 1 channels (of 1)\n",
      "[2021-11-25 00:50:14,362] - obspy.clients.fdsn.mass_downloader - INFO: Client 'GEONET' - Launching basic QC checks...\n",
      "[2021-11-25 00:50:14,372] - obspy.clients.fdsn.mass_downloader - INFO: Client 'GEONET' - Downloaded 0.0 MB [4.87 KB/sec] of data, 0.0 MB of which were discarded afterwards.\n",
      "[2021-11-25 00:50:14,373] - obspy.clients.fdsn.mass_downloader - INFO: Client 'GEONET' - Status for 1 time intervals/channels after downloading: DOWNLOADED\n",
      "[2021-11-25 00:50:14,390] - obspy.clients.fdsn.mass_downloader - INFO: Client 'GEONET' - No station information to download.\n",
      "[2021-11-25 00:50:14,392] - obspy.clients.fdsn.mass_downloader - INFO: ============================== Final report\n",
      "[2021-11-25 00:50:14,394] - obspy.clients.fdsn.mass_downloader - INFO: 0 MiniSEED files [0.0 MB] already existed.\n",
      "[2021-11-25 00:50:14,395] - obspy.clients.fdsn.mass_downloader - INFO: 1 StationXML files [0.0 MB] already existed.\n",
      "[2021-11-25 00:50:14,396] - obspy.clients.fdsn.mass_downloader - INFO: Client 'GEONET' - Acquired 1 MiniSEED files [0.0 MB].\n",
      "[2021-11-25 00:50:14,397] - obspy.clients.fdsn.mass_downloader - INFO: Client 'GEONET' - Acquired 0 StationXML files [0.0 MB].\n",
      "[2021-11-25 00:50:14,398] - obspy.clients.fdsn.mass_downloader - INFO: Downloaded 0.0 MB in total.\n",
      "[2021-11-25 00:50:14,403] - obspy.clients.fdsn.mass_downloader - INFO: Initializing FDSN client(s) for GEONET.\n",
      "[2021-11-25 00:50:14,413] - obspy.clients.fdsn.mass_downloader - INFO: Successfully initialized 1 client(s): GEONET.\n",
      "[2021-11-25 00:50:14,415] - obspy.clients.fdsn.mass_downloader - INFO: Total acquired or preexisting stations: 0\n",
      "[2021-11-25 00:50:14,416] - obspy.clients.fdsn.mass_downloader - INFO: Client 'GEONET' - Requesting unreliable availability.\n"
     ]
    },
    {
     "name": "stdout",
     "output_type": "stream",
     "text": [
      "=================================================================\n",
      "Initiating mass download request.\n"
     ]
    },
    {
     "name": "stderr",
     "output_type": "stream",
     "text": [
      "[2021-11-25 00:50:15,002] - obspy.clients.fdsn.mass_downloader - INFO: Client 'GEONET' - Successfully requested availability (0.58 seconds)\n",
      "[2021-11-25 00:50:15,009] - obspy.clients.fdsn.mass_downloader - INFO: Client 'GEONET' - Found 1 stations (1 channels).\n",
      "[2021-11-25 00:50:15,010] - obspy.clients.fdsn.mass_downloader - INFO: Client 'GEONET' - Will attempt to download data from 1 stations.\n",
      "[2021-11-25 00:50:15,011] - obspy.clients.fdsn.mass_downloader - INFO: Client 'GEONET' - Status for 1 time intervals/channels before downloading: NEEDS_DOWNLOADING\n",
      "[2021-11-25 00:50:15,881] - obspy.clients.fdsn.mass_downloader - INFO: Client 'GEONET' - Successfully downloaded 1 channels (of 1)\n",
      "[2021-11-25 00:50:15,948] - obspy.clients.fdsn.mass_downloader - INFO: Client 'GEONET' - Launching basic QC checks...\n",
      "[2021-11-25 00:50:15,980] - obspy.clients.fdsn.mass_downloader - INFO: Client 'GEONET' - Downloaded 0.0 MB [3.76 KB/sec] of data, 0.0 MB of which were discarded afterwards.\n",
      "[2021-11-25 00:50:15,986] - obspy.clients.fdsn.mass_downloader - INFO: Client 'GEONET' - Status for 1 time intervals/channels after downloading: DOWNLOADED\n",
      "[2021-11-25 00:50:16,006] - obspy.clients.fdsn.mass_downloader - INFO: Client 'GEONET' - No station information to download.\n",
      "[2021-11-25 00:50:16,011] - obspy.clients.fdsn.mass_downloader - INFO: ============================== Final report\n",
      "[2021-11-25 00:50:16,014] - obspy.clients.fdsn.mass_downloader - INFO: 0 MiniSEED files [0.0 MB] already existed.\n",
      "[2021-11-25 00:50:16,015] - obspy.clients.fdsn.mass_downloader - INFO: 1 StationXML files [0.0 MB] already existed.\n",
      "[2021-11-25 00:50:16,018] - obspy.clients.fdsn.mass_downloader - INFO: Client 'GEONET' - Acquired 1 MiniSEED files [0.0 MB].\n",
      "[2021-11-25 00:50:16,018] - obspy.clients.fdsn.mass_downloader - INFO: Client 'GEONET' - Acquired 0 StationXML files [0.0 MB].\n",
      "[2021-11-25 00:50:16,019] - obspy.clients.fdsn.mass_downloader - INFO: Downloaded 0.0 MB in total.\n",
      "[2021-11-25 00:50:16,025] - obspy.clients.fdsn.mass_downloader - INFO: Initializing FDSN client(s) for GEONET.\n",
      "[2021-11-25 00:50:16,053] - obspy.clients.fdsn.mass_downloader - INFO: Successfully initialized 1 client(s): GEONET.\n",
      "[2021-11-25 00:50:16,060] - obspy.clients.fdsn.mass_downloader - INFO: Total acquired or preexisting stations: 0\n",
      "[2021-11-25 00:50:16,063] - obspy.clients.fdsn.mass_downloader - INFO: Client 'GEONET' - Requesting unreliable availability.\n"
     ]
    },
    {
     "name": "stdout",
     "output_type": "stream",
     "text": [
      "=================================================================\n",
      "Initiating mass download request.\n"
     ]
    },
    {
     "name": "stderr",
     "output_type": "stream",
     "text": [
      "[2021-11-25 00:50:16,712] - obspy.clients.fdsn.mass_downloader - INFO: Client 'GEONET' - Successfully requested availability (0.65 seconds)\n",
      "[2021-11-25 00:50:16,742] - obspy.clients.fdsn.mass_downloader - INFO: Client 'GEONET' - Found 1 stations (1 channels).\n",
      "[2021-11-25 00:50:16,744] - obspy.clients.fdsn.mass_downloader - INFO: Client 'GEONET' - Will attempt to download data from 1 stations.\n",
      "[2021-11-25 00:50:16,745] - obspy.clients.fdsn.mass_downloader - INFO: Client 'GEONET' - Status for 1 time intervals/channels before downloading: NEEDS_DOWNLOADING\n",
      "[2021-11-25 00:50:17,967] - obspy.clients.fdsn.mass_downloader - INFO: Client 'GEONET' - Successfully downloaded 1 channels (of 1)\n",
      "[2021-11-25 00:50:17,988] - obspy.clients.fdsn.mass_downloader - INFO: Client 'GEONET' - Launching basic QC checks...\n",
      "[2021-11-25 00:50:18,040] - obspy.clients.fdsn.mass_downloader - INFO: Client 'GEONET' - Downloaded 0.0 MB [3.29 KB/sec] of data, 0.0 MB of which were discarded afterwards.\n",
      "[2021-11-25 00:50:18,045] - obspy.clients.fdsn.mass_downloader - INFO: Client 'GEONET' - Status for 1 time intervals/channels after downloading: DOWNLOADED\n",
      "[2021-11-25 00:50:18,057] - obspy.clients.fdsn.mass_downloader - INFO: Client 'GEONET' - No station information to download.\n",
      "[2021-11-25 00:50:18,061] - obspy.clients.fdsn.mass_downloader - INFO: ============================== Final report\n",
      "[2021-11-25 00:50:18,063] - obspy.clients.fdsn.mass_downloader - INFO: 0 MiniSEED files [0.0 MB] already existed.\n",
      "[2021-11-25 00:50:18,065] - obspy.clients.fdsn.mass_downloader - INFO: 1 StationXML files [0.0 MB] already existed.\n",
      "[2021-11-25 00:50:18,067] - obspy.clients.fdsn.mass_downloader - INFO: Client 'GEONET' - Acquired 1 MiniSEED files [0.0 MB].\n",
      "[2021-11-25 00:50:18,070] - obspy.clients.fdsn.mass_downloader - INFO: Client 'GEONET' - Acquired 0 StationXML files [0.0 MB].\n",
      "[2021-11-25 00:50:18,071] - obspy.clients.fdsn.mass_downloader - INFO: Downloaded 0.0 MB in total.\n",
      "[2021-11-25 00:50:18,089] - obspy.clients.fdsn.mass_downloader - INFO: Initializing FDSN client(s) for GEONET.\n",
      "[2021-11-25 00:50:18,110] - obspy.clients.fdsn.mass_downloader - INFO: Successfully initialized 1 client(s): GEONET.\n",
      "[2021-11-25 00:50:18,113] - obspy.clients.fdsn.mass_downloader - INFO: Total acquired or preexisting stations: 0\n",
      "[2021-11-25 00:50:18,115] - obspy.clients.fdsn.mass_downloader - INFO: Client 'GEONET' - Requesting unreliable availability.\n"
     ]
    },
    {
     "name": "stdout",
     "output_type": "stream",
     "text": [
      "=================================================================\n",
      "Initiating mass download request.\n"
     ]
    },
    {
     "name": "stderr",
     "output_type": "stream",
     "text": [
      "[2021-11-25 00:50:18,839] - obspy.clients.fdsn.mass_downloader - INFO: Client 'GEONET' - Successfully requested availability (0.72 seconds)\n",
      "[2021-11-25 00:50:18,854] - obspy.clients.fdsn.mass_downloader - INFO: Client 'GEONET' - Found 1 stations (1 channels).\n",
      "[2021-11-25 00:50:18,864] - obspy.clients.fdsn.mass_downloader - INFO: Client 'GEONET' - Will attempt to download data from 1 stations.\n",
      "[2021-11-25 00:50:18,868] - obspy.clients.fdsn.mass_downloader - INFO: Client 'GEONET' - Status for 1 time intervals/channels before downloading: NEEDS_DOWNLOADING\n",
      "[2021-11-25 00:50:19,988] - obspy.clients.fdsn.mass_downloader - INFO: Client 'GEONET' - Successfully downloaded 1 channels (of 1)\n",
      "[2021-11-25 00:50:20,005] - obspy.clients.fdsn.mass_downloader - INFO: Client 'GEONET' - Launching basic QC checks...\n",
      "[2021-11-25 00:50:20,021] - obspy.clients.fdsn.mass_downloader - INFO: Client 'GEONET' - Downloaded 0.0 MB [2.24 KB/sec] of data, 0.0 MB of which were discarded afterwards.\n",
      "[2021-11-25 00:50:20,022] - obspy.clients.fdsn.mass_downloader - INFO: Client 'GEONET' - Status for 1 time intervals/channels after downloading: DOWNLOADED\n",
      "[2021-11-25 00:50:20,024] - obspy.clients.fdsn.mass_downloader - INFO: Client 'GEONET' - No station information to download.\n",
      "[2021-11-25 00:50:20,027] - obspy.clients.fdsn.mass_downloader - INFO: ============================== Final report\n",
      "[2021-11-25 00:50:20,029] - obspy.clients.fdsn.mass_downloader - INFO: 0 MiniSEED files [0.0 MB] already existed.\n",
      "[2021-11-25 00:50:20,030] - obspy.clients.fdsn.mass_downloader - INFO: 1 StationXML files [0.0 MB] already existed.\n",
      "[2021-11-25 00:50:20,030] - obspy.clients.fdsn.mass_downloader - INFO: Client 'GEONET' - Acquired 1 MiniSEED files [0.0 MB].\n",
      "[2021-11-25 00:50:20,031] - obspy.clients.fdsn.mass_downloader - INFO: Client 'GEONET' - Acquired 0 StationXML files [0.0 MB].\n",
      "[2021-11-25 00:50:20,031] - obspy.clients.fdsn.mass_downloader - INFO: Downloaded 0.0 MB in total.\n",
      "[2021-11-25 00:50:20,037] - obspy.clients.fdsn.mass_downloader - INFO: Initializing FDSN client(s) for GEONET.\n",
      "[2021-11-25 00:50:20,040] - obspy.clients.fdsn.mass_downloader - INFO: Successfully initialized 1 client(s): GEONET.\n",
      "[2021-11-25 00:50:20,041] - obspy.clients.fdsn.mass_downloader - INFO: Total acquired or preexisting stations: 0\n",
      "[2021-11-25 00:50:20,041] - obspy.clients.fdsn.mass_downloader - INFO: Client 'GEONET' - Requesting unreliable availability.\n"
     ]
    },
    {
     "name": "stdout",
     "output_type": "stream",
     "text": [
      "=================================================================\n",
      "Initiating mass download request.\n"
     ]
    },
    {
     "name": "stderr",
     "output_type": "stream",
     "text": [
      "[2021-11-25 00:50:20,619] - obspy.clients.fdsn.mass_downloader - INFO: Client 'GEONET' - Successfully requested availability (0.58 seconds)\n",
      "[2021-11-25 00:50:20,633] - obspy.clients.fdsn.mass_downloader - INFO: Client 'GEONET' - Found 1 stations (1 channels).\n",
      "[2021-11-25 00:50:20,641] - obspy.clients.fdsn.mass_downloader - INFO: Client 'GEONET' - Will attempt to download data from 1 stations.\n",
      "[2021-11-25 00:50:20,651] - obspy.clients.fdsn.mass_downloader - INFO: Client 'GEONET' - Status for 1 time intervals/channels before downloading: NEEDS_DOWNLOADING\n",
      "[2021-11-25 00:50:21,649] - obspy.clients.fdsn.mass_downloader - INFO: Client 'GEONET' - Successfully downloaded 1 channels (of 1)\n",
      "[2021-11-25 00:50:21,655] - obspy.clients.fdsn.mass_downloader - INFO: Client 'GEONET' - Launching basic QC checks...\n",
      "[2021-11-25 00:50:21,661] - obspy.clients.fdsn.mass_downloader - INFO: Client 'GEONET' - Downloaded 0.0 MB [3.54 KB/sec] of data, 0.0 MB of which were discarded afterwards.\n",
      "[2021-11-25 00:50:21,662] - obspy.clients.fdsn.mass_downloader - INFO: Client 'GEONET' - Status for 1 time intervals/channels after downloading: DOWNLOADED\n",
      "[2021-11-25 00:50:21,665] - obspy.clients.fdsn.mass_downloader - INFO: Client 'GEONET' - No station information to download.\n",
      "[2021-11-25 00:50:21,668] - obspy.clients.fdsn.mass_downloader - INFO: ============================== Final report\n",
      "[2021-11-25 00:50:21,668] - obspy.clients.fdsn.mass_downloader - INFO: 0 MiniSEED files [0.0 MB] already existed.\n",
      "[2021-11-25 00:50:21,668] - obspy.clients.fdsn.mass_downloader - INFO: 1 StationXML files [0.0 MB] already existed.\n",
      "[2021-11-25 00:50:21,669] - obspy.clients.fdsn.mass_downloader - INFO: Client 'GEONET' - Acquired 1 MiniSEED files [0.0 MB].\n",
      "[2021-11-25 00:50:21,669] - obspy.clients.fdsn.mass_downloader - INFO: Client 'GEONET' - Acquired 0 StationXML files [0.0 MB].\n",
      "[2021-11-25 00:50:21,669] - obspy.clients.fdsn.mass_downloader - INFO: Downloaded 0.0 MB in total.\n",
      "[2021-11-25 00:50:21,672] - obspy.clients.fdsn.mass_downloader - INFO: Initializing FDSN client(s) for GEONET.\n",
      "[2021-11-25 00:50:21,680] - obspy.clients.fdsn.mass_downloader - INFO: Successfully initialized 1 client(s): GEONET.\n",
      "[2021-11-25 00:50:21,681] - obspy.clients.fdsn.mass_downloader - INFO: Total acquired or preexisting stations: 0\n",
      "[2021-11-25 00:50:21,681] - obspy.clients.fdsn.mass_downloader - INFO: Client 'GEONET' - Requesting unreliable availability.\n"
     ]
    },
    {
     "name": "stdout",
     "output_type": "stream",
     "text": [
      "=================================================================\n",
      "Initiating mass download request.\n"
     ]
    },
    {
     "name": "stderr",
     "output_type": "stream",
     "text": [
      "[2021-11-25 00:50:22,259] - obspy.clients.fdsn.mass_downloader - INFO: Client 'GEONET' - Successfully requested availability (0.58 seconds)\n",
      "[2021-11-25 00:50:22,261] - obspy.clients.fdsn.mass_downloader - INFO: Client 'GEONET' - Found 1 stations (1 channels).\n",
      "[2021-11-25 00:50:22,262] - obspy.clients.fdsn.mass_downloader - INFO: Client 'GEONET' - Will attempt to download data from 1 stations.\n",
      "[2021-11-25 00:50:22,262] - obspy.clients.fdsn.mass_downloader - INFO: Client 'GEONET' - Status for 1 time intervals/channels before downloading: NEEDS_DOWNLOADING\n",
      "[2021-11-25 00:50:23,016] - obspy.clients.fdsn.mass_downloader - INFO: Client 'GEONET' - Successfully downloaded 1 channels (of 1)\n",
      "[2021-11-25 00:50:23,024] - obspy.clients.fdsn.mass_downloader - INFO: Client 'GEONET' - Launching basic QC checks...\n",
      "[2021-11-25 00:50:23,029] - obspy.clients.fdsn.mass_downloader - INFO: Client 'GEONET' - Downloaded 0.0 MB [3.94 KB/sec] of data, 0.0 MB of which were discarded afterwards.\n",
      "[2021-11-25 00:50:23,030] - obspy.clients.fdsn.mass_downloader - INFO: Client 'GEONET' - Status for 1 time intervals/channels after downloading: DOWNLOADED\n",
      "[2021-11-25 00:50:23,035] - obspy.clients.fdsn.mass_downloader - INFO: Client 'GEONET' - No station information to download.\n",
      "[2021-11-25 00:50:23,036] - obspy.clients.fdsn.mass_downloader - INFO: ============================== Final report\n",
      "[2021-11-25 00:50:23,037] - obspy.clients.fdsn.mass_downloader - INFO: 0 MiniSEED files [0.0 MB] already existed.\n",
      "[2021-11-25 00:50:23,037] - obspy.clients.fdsn.mass_downloader - INFO: 1 StationXML files [0.0 MB] already existed.\n",
      "[2021-11-25 00:50:23,037] - obspy.clients.fdsn.mass_downloader - INFO: Client 'GEONET' - Acquired 1 MiniSEED files [0.0 MB].\n",
      "[2021-11-25 00:50:23,038] - obspy.clients.fdsn.mass_downloader - INFO: Client 'GEONET' - Acquired 0 StationXML files [0.0 MB].\n",
      "[2021-11-25 00:50:23,039] - obspy.clients.fdsn.mass_downloader - INFO: Downloaded 0.0 MB in total.\n",
      "[2021-11-25 00:50:23,045] - obspy.clients.fdsn.mass_downloader - INFO: Initializing FDSN client(s) for GEONET.\n",
      "[2021-11-25 00:50:23,059] - obspy.clients.fdsn.mass_downloader - INFO: Successfully initialized 1 client(s): GEONET.\n",
      "[2021-11-25 00:50:23,062] - obspy.clients.fdsn.mass_downloader - INFO: Total acquired or preexisting stations: 0\n",
      "[2021-11-25 00:50:23,063] - obspy.clients.fdsn.mass_downloader - INFO: Client 'GEONET' - Requesting unreliable availability.\n"
     ]
    },
    {
     "name": "stdout",
     "output_type": "stream",
     "text": [
      "=================================================================\n",
      "Initiating mass download request.\n"
     ]
    },
    {
     "name": "stderr",
     "output_type": "stream",
     "text": [
      "[2021-11-25 00:50:23,681] - obspy.clients.fdsn.mass_downloader - INFO: Client 'GEONET' - Successfully requested availability (0.62 seconds)\n",
      "[2021-11-25 00:50:23,699] - obspy.clients.fdsn.mass_downloader - INFO: Client 'GEONET' - Found 1 stations (1 channels).\n",
      "[2021-11-25 00:50:23,717] - obspy.clients.fdsn.mass_downloader - INFO: Client 'GEONET' - Will attempt to download data from 1 stations.\n",
      "[2021-11-25 00:50:23,737] - obspy.clients.fdsn.mass_downloader - INFO: Client 'GEONET' - Status for 1 time intervals/channels before downloading: NEEDS_DOWNLOADING\n",
      "[2021-11-25 00:50:24,654] - obspy.clients.fdsn.mass_downloader - INFO: Client 'GEONET' - Successfully downloaded 1 channels (of 1)\n",
      "[2021-11-25 00:50:24,702] - obspy.clients.fdsn.mass_downloader - INFO: Client 'GEONET' - Launching basic QC checks...\n",
      "[2021-11-25 00:50:24,738] - obspy.clients.fdsn.mass_downloader - INFO: Client 'GEONET' - Downloaded 0.0 MB [2.73 KB/sec] of data, 0.0 MB of which were discarded afterwards.\n",
      "[2021-11-25 00:50:24,744] - obspy.clients.fdsn.mass_downloader - INFO: Client 'GEONET' - Status for 1 time intervals/channels after downloading: DOWNLOADED\n",
      "[2021-11-25 00:50:24,754] - obspy.clients.fdsn.mass_downloader - INFO: Client 'GEONET' - No station information to download.\n",
      "[2021-11-25 00:50:24,759] - obspy.clients.fdsn.mass_downloader - INFO: ============================== Final report\n",
      "[2021-11-25 00:50:24,768] - obspy.clients.fdsn.mass_downloader - INFO: 0 MiniSEED files [0.0 MB] already existed.\n",
      "[2021-11-25 00:50:24,776] - obspy.clients.fdsn.mass_downloader - INFO: 1 StationXML files [0.0 MB] already existed.\n",
      "[2021-11-25 00:50:24,780] - obspy.clients.fdsn.mass_downloader - INFO: Client 'GEONET' - Acquired 1 MiniSEED files [0.0 MB].\n",
      "[2021-11-25 00:50:24,782] - obspy.clients.fdsn.mass_downloader - INFO: Client 'GEONET' - Acquired 0 StationXML files [0.0 MB].\n",
      "[2021-11-25 00:50:24,782] - obspy.clients.fdsn.mass_downloader - INFO: Downloaded 0.0 MB in total.\n",
      "[2021-11-25 00:50:24,803] - obspy.clients.fdsn.mass_downloader - INFO: Initializing FDSN client(s) for GEONET.\n",
      "[2021-11-25 00:50:24,844] - obspy.clients.fdsn.mass_downloader - INFO: Successfully initialized 1 client(s): GEONET.\n",
      "[2021-11-25 00:50:24,856] - obspy.clients.fdsn.mass_downloader - INFO: Total acquired or preexisting stations: 0\n",
      "[2021-11-25 00:50:24,858] - obspy.clients.fdsn.mass_downloader - INFO: Client 'GEONET' - Requesting unreliable availability.\n"
     ]
    },
    {
     "name": "stdout",
     "output_type": "stream",
     "text": [
      "=================================================================\n",
      "Initiating mass download request.\n"
     ]
    },
    {
     "name": "stderr",
     "output_type": "stream",
     "text": [
      "[2021-11-25 00:50:25,437] - obspy.clients.fdsn.mass_downloader - INFO: Client 'GEONET' - Successfully requested availability (0.57 seconds)\n",
      "[2021-11-25 00:50:25,448] - obspy.clients.fdsn.mass_downloader - INFO: Client 'GEONET' - Found 1 stations (1 channels).\n",
      "[2021-11-25 00:50:25,451] - obspy.clients.fdsn.mass_downloader - INFO: Client 'GEONET' - Will attempt to download data from 1 stations.\n",
      "[2021-11-25 00:50:25,456] - obspy.clients.fdsn.mass_downloader - INFO: Client 'GEONET' - Status for 1 time intervals/channels before downloading: NEEDS_DOWNLOADING\n",
      "[2021-11-25 00:50:26,341] - obspy.clients.fdsn.mass_downloader - INFO: Client 'GEONET' - Successfully downloaded 1 channels (of 1)\n",
      "[2021-11-25 00:50:26,370] - obspy.clients.fdsn.mass_downloader - INFO: Client 'GEONET' - Launching basic QC checks...\n",
      "[2021-11-25 00:50:26,382] - obspy.clients.fdsn.mass_downloader - INFO: Client 'GEONET' - Downloaded 0.0 MB [3.30 KB/sec] of data, 0.0 MB of which were discarded afterwards.\n",
      "[2021-11-25 00:50:26,384] - obspy.clients.fdsn.mass_downloader - INFO: Client 'GEONET' - Status for 1 time intervals/channels after downloading: DOWNLOADED\n",
      "[2021-11-25 00:50:26,396] - obspy.clients.fdsn.mass_downloader - INFO: Client 'GEONET' - No station information to download.\n",
      "[2021-11-25 00:50:26,400] - obspy.clients.fdsn.mass_downloader - INFO: ============================== Final report\n",
      "[2021-11-25 00:50:26,404] - obspy.clients.fdsn.mass_downloader - INFO: 0 MiniSEED files [0.0 MB] already existed.\n",
      "[2021-11-25 00:50:26,407] - obspy.clients.fdsn.mass_downloader - INFO: 1 StationXML files [0.0 MB] already existed.\n",
      "[2021-11-25 00:50:26,410] - obspy.clients.fdsn.mass_downloader - INFO: Client 'GEONET' - Acquired 1 MiniSEED files [0.0 MB].\n",
      "[2021-11-25 00:50:26,413] - obspy.clients.fdsn.mass_downloader - INFO: Client 'GEONET' - Acquired 0 StationXML files [0.0 MB].\n",
      "[2021-11-25 00:50:26,414] - obspy.clients.fdsn.mass_downloader - INFO: Downloaded 0.0 MB in total.\n",
      "[2021-11-25 00:50:26,453] - obspy.clients.fdsn.mass_downloader - INFO: Initializing FDSN client(s) for GEONET.\n",
      "[2021-11-25 00:50:26,482] - obspy.clients.fdsn.mass_downloader - INFO: Successfully initialized 1 client(s): GEONET.\n",
      "[2021-11-25 00:50:26,486] - obspy.clients.fdsn.mass_downloader - INFO: Total acquired or preexisting stations: 0\n",
      "[2021-11-25 00:50:26,492] - obspy.clients.fdsn.mass_downloader - INFO: Client 'GEONET' - Requesting unreliable availability.\n"
     ]
    },
    {
     "name": "stdout",
     "output_type": "stream",
     "text": [
      "=================================================================\n",
      "Initiating mass download request.\n"
     ]
    },
    {
     "name": "stderr",
     "output_type": "stream",
     "text": [
      "[2021-11-25 00:50:27,105] - obspy.clients.fdsn.mass_downloader - INFO: Client 'GEONET' - Successfully requested availability (0.61 seconds)\n",
      "[2021-11-25 00:50:27,156] - obspy.clients.fdsn.mass_downloader - INFO: Client 'GEONET' - Found 1 stations (1 channels).\n",
      "[2021-11-25 00:50:27,161] - obspy.clients.fdsn.mass_downloader - INFO: Client 'GEONET' - Will attempt to download data from 1 stations.\n",
      "[2021-11-25 00:50:27,169] - obspy.clients.fdsn.mass_downloader - INFO: Client 'GEONET' - Status for 1 time intervals/channels before downloading: NEEDS_DOWNLOADING\n",
      "[2021-11-25 00:50:28,125] - obspy.clients.fdsn.mass_downloader - INFO: Client 'GEONET' - Successfully downloaded 1 channels (of 1)\n",
      "[2021-11-25 00:50:28,157] - obspy.clients.fdsn.mass_downloader - INFO: Client 'GEONET' - Launching basic QC checks...\n",
      "[2021-11-25 00:50:28,172] - obspy.clients.fdsn.mass_downloader - INFO: Client 'GEONET' - Downloaded 0.0 MB [3.12 KB/sec] of data, 0.0 MB of which were discarded afterwards.\n",
      "[2021-11-25 00:50:28,184] - obspy.clients.fdsn.mass_downloader - INFO: Client 'GEONET' - Status for 1 time intervals/channels after downloading: DOWNLOADED\n",
      "[2021-11-25 00:50:28,198] - obspy.clients.fdsn.mass_downloader - INFO: Client 'GEONET' - No station information to download.\n",
      "[2021-11-25 00:50:28,205] - obspy.clients.fdsn.mass_downloader - INFO: ============================== Final report\n",
      "[2021-11-25 00:50:28,206] - obspy.clients.fdsn.mass_downloader - INFO: 0 MiniSEED files [0.0 MB] already existed.\n",
      "[2021-11-25 00:50:28,206] - obspy.clients.fdsn.mass_downloader - INFO: 1 StationXML files [0.0 MB] already existed.\n",
      "[2021-11-25 00:50:28,207] - obspy.clients.fdsn.mass_downloader - INFO: Client 'GEONET' - Acquired 1 MiniSEED files [0.0 MB].\n",
      "[2021-11-25 00:50:28,207] - obspy.clients.fdsn.mass_downloader - INFO: Client 'GEONET' - Acquired 0 StationXML files [0.0 MB].\n",
      "[2021-11-25 00:50:28,208] - obspy.clients.fdsn.mass_downloader - INFO: Downloaded 0.0 MB in total.\n",
      "[2021-11-25 00:50:28,235] - obspy.clients.fdsn.mass_downloader - INFO: Initializing FDSN client(s) for GEONET.\n",
      "[2021-11-25 00:50:28,262] - obspy.clients.fdsn.mass_downloader - INFO: Successfully initialized 1 client(s): GEONET.\n",
      "[2021-11-25 00:50:28,265] - obspy.clients.fdsn.mass_downloader - INFO: Total acquired or preexisting stations: 0\n",
      "[2021-11-25 00:50:28,267] - obspy.clients.fdsn.mass_downloader - INFO: Client 'GEONET' - Requesting unreliable availability.\n"
     ]
    },
    {
     "name": "stdout",
     "output_type": "stream",
     "text": [
      "=================================================================\n",
      "Initiating mass download request.\n"
     ]
    },
    {
     "name": "stderr",
     "output_type": "stream",
     "text": [
      "[2021-11-25 00:50:28,883] - obspy.clients.fdsn.mass_downloader - INFO: Client 'GEONET' - Successfully requested availability (0.61 seconds)\n",
      "[2021-11-25 00:50:28,896] - obspy.clients.fdsn.mass_downloader - INFO: Client 'GEONET' - Found 1 stations (1 channels).\n",
      "[2021-11-25 00:50:28,899] - obspy.clients.fdsn.mass_downloader - INFO: Client 'GEONET' - Will attempt to download data from 1 stations.\n",
      "[2021-11-25 00:50:28,902] - obspy.clients.fdsn.mass_downloader - INFO: Client 'GEONET' - Status for 1 time intervals/channels before downloading: NEEDS_DOWNLOADING\n",
      "[2021-11-25 00:50:30,036] - obspy.clients.fdsn.mass_downloader - INFO: Client 'GEONET' - Successfully downloaded 1 channels (of 1)\n",
      "[2021-11-25 00:50:30,067] - obspy.clients.fdsn.mass_downloader - INFO: Client 'GEONET' - Launching basic QC checks...\n",
      "[2021-11-25 00:50:30,101] - obspy.clients.fdsn.mass_downloader - INFO: Client 'GEONET' - Downloaded 0.0 MB [3.10 KB/sec] of data, 0.0 MB of which were discarded afterwards.\n",
      "[2021-11-25 00:50:30,120] - obspy.clients.fdsn.mass_downloader - INFO: Client 'GEONET' - Status for 1 time intervals/channels after downloading: DOWNLOADED\n",
      "[2021-11-25 00:50:30,127] - obspy.clients.fdsn.mass_downloader - INFO: Client 'GEONET' - No station information to download.\n",
      "[2021-11-25 00:50:30,134] - obspy.clients.fdsn.mass_downloader - INFO: ============================== Final report\n",
      "[2021-11-25 00:50:30,139] - obspy.clients.fdsn.mass_downloader - INFO: 0 MiniSEED files [0.0 MB] already existed.\n",
      "[2021-11-25 00:50:30,142] - obspy.clients.fdsn.mass_downloader - INFO: 1 StationXML files [0.0 MB] already existed.\n",
      "[2021-11-25 00:50:30,150] - obspy.clients.fdsn.mass_downloader - INFO: Client 'GEONET' - Acquired 1 MiniSEED files [0.0 MB].\n",
      "[2021-11-25 00:50:30,154] - obspy.clients.fdsn.mass_downloader - INFO: Client 'GEONET' - Acquired 0 StationXML files [0.0 MB].\n",
      "[2021-11-25 00:50:30,156] - obspy.clients.fdsn.mass_downloader - INFO: Downloaded 0.0 MB in total.\n",
      "[2021-11-25 00:50:30,171] - obspy.clients.fdsn.mass_downloader - INFO: Initializing FDSN client(s) for GEONET.\n",
      "[2021-11-25 00:50:30,200] - obspy.clients.fdsn.mass_downloader - INFO: Successfully initialized 1 client(s): GEONET.\n",
      "[2021-11-25 00:50:30,210] - obspy.clients.fdsn.mass_downloader - INFO: Total acquired or preexisting stations: 0\n",
      "[2021-11-25 00:50:30,216] - obspy.clients.fdsn.mass_downloader - INFO: Client 'GEONET' - Requesting unreliable availability.\n"
     ]
    },
    {
     "name": "stdout",
     "output_type": "stream",
     "text": [
      "=================================================================\n",
      "Initiating mass download request.\n"
     ]
    },
    {
     "name": "stderr",
     "output_type": "stream",
     "text": [
      "[2021-11-25 00:50:30,798] - obspy.clients.fdsn.mass_downloader - INFO: Client 'GEONET' - Successfully requested availability (0.58 seconds)\n",
      "[2021-11-25 00:50:30,807] - obspy.clients.fdsn.mass_downloader - INFO: Client 'GEONET' - Found 1 stations (1 channels).\n",
      "[2021-11-25 00:50:30,814] - obspy.clients.fdsn.mass_downloader - INFO: Client 'GEONET' - Will attempt to download data from 1 stations.\n",
      "[2021-11-25 00:50:30,817] - obspy.clients.fdsn.mass_downloader - INFO: Client 'GEONET' - Status for 1 time intervals/channels before downloading: NEEDS_DOWNLOADING\n",
      "[2021-11-25 00:50:31,881] - obspy.clients.fdsn.mass_downloader - INFO: Client 'GEONET' - Successfully downloaded 1 channels (of 1)\n",
      "[2021-11-25 00:50:31,927] - obspy.clients.fdsn.mass_downloader - INFO: Client 'GEONET' - Launching basic QC checks...\n",
      "[2021-11-25 00:50:31,966] - obspy.clients.fdsn.mass_downloader - INFO: Client 'GEONET' - Downloaded 0.0 MB [4.20 KB/sec] of data, 0.0 MB of which were discarded afterwards.\n",
      "[2021-11-25 00:50:31,968] - obspy.clients.fdsn.mass_downloader - INFO: Client 'GEONET' - Status for 1 time intervals/channels after downloading: DOWNLOADED\n",
      "[2021-11-25 00:50:31,999] - obspy.clients.fdsn.mass_downloader - INFO: Client 'GEONET' - No station information to download.\n",
      "[2021-11-25 00:50:32,004] - obspy.clients.fdsn.mass_downloader - INFO: ============================== Final report\n",
      "[2021-11-25 00:50:32,009] - obspy.clients.fdsn.mass_downloader - INFO: 0 MiniSEED files [0.0 MB] already existed.\n",
      "[2021-11-25 00:50:32,015] - obspy.clients.fdsn.mass_downloader - INFO: 1 StationXML files [0.0 MB] already existed.\n",
      "[2021-11-25 00:50:32,020] - obspy.clients.fdsn.mass_downloader - INFO: Client 'GEONET' - Acquired 1 MiniSEED files [0.0 MB].\n",
      "[2021-11-25 00:50:32,023] - obspy.clients.fdsn.mass_downloader - INFO: Client 'GEONET' - Acquired 0 StationXML files [0.0 MB].\n",
      "[2021-11-25 00:50:32,030] - obspy.clients.fdsn.mass_downloader - INFO: Downloaded 0.0 MB in total.\n",
      "[2021-11-25 00:50:32,063] - obspy.clients.fdsn.mass_downloader - INFO: Initializing FDSN client(s) for GEONET.\n",
      "[2021-11-25 00:50:32,146] - obspy.clients.fdsn.mass_downloader - INFO: Successfully initialized 1 client(s): GEONET.\n",
      "[2021-11-25 00:50:32,156] - obspy.clients.fdsn.mass_downloader - INFO: Total acquired or preexisting stations: 0\n",
      "[2021-11-25 00:50:32,162] - obspy.clients.fdsn.mass_downloader - INFO: Client 'GEONET' - Requesting unreliable availability.\n"
     ]
    },
    {
     "name": "stdout",
     "output_type": "stream",
     "text": [
      "=================================================================\n",
      "Initiating mass download request.\n"
     ]
    },
    {
     "name": "stderr",
     "output_type": "stream",
     "text": [
      "[2021-11-25 00:50:32,745] - obspy.clients.fdsn.mass_downloader - INFO: Client 'GEONET' - Successfully requested availability (0.58 seconds)\n",
      "[2021-11-25 00:50:32,770] - obspy.clients.fdsn.mass_downloader - INFO: Client 'GEONET' - Found 1 stations (1 channels).\n",
      "[2021-11-25 00:50:32,784] - obspy.clients.fdsn.mass_downloader - INFO: Client 'GEONET' - Will attempt to download data from 1 stations.\n",
      "[2021-11-25 00:50:32,803] - obspy.clients.fdsn.mass_downloader - INFO: Client 'GEONET' - Status for 1 time intervals/channels before downloading: NEEDS_DOWNLOADING\n",
      "[2021-11-25 00:50:34,320] - obspy.clients.fdsn.mass_downloader - INFO: Client 'GEONET' - Successfully downloaded 1 channels (of 1)\n",
      "[2021-11-25 00:50:34,358] - obspy.clients.fdsn.mass_downloader - INFO: Client 'GEONET' - Launching basic QC checks...\n",
      "[2021-11-25 00:50:34,384] - obspy.clients.fdsn.mass_downloader - INFO: Client 'GEONET' - Downloaded 0.0 MB [2.30 KB/sec] of data, 0.0 MB of which were discarded afterwards.\n",
      "[2021-11-25 00:50:34,390] - obspy.clients.fdsn.mass_downloader - INFO: Client 'GEONET' - Status for 1 time intervals/channels after downloading: DOWNLOADED\n",
      "[2021-11-25 00:50:34,405] - obspy.clients.fdsn.mass_downloader - INFO: Client 'GEONET' - No station information to download.\n",
      "[2021-11-25 00:50:34,410] - obspy.clients.fdsn.mass_downloader - INFO: ============================== Final report\n",
      "[2021-11-25 00:50:34,412] - obspy.clients.fdsn.mass_downloader - INFO: 0 MiniSEED files [0.0 MB] already existed.\n",
      "[2021-11-25 00:50:34,412] - obspy.clients.fdsn.mass_downloader - INFO: 1 StationXML files [0.0 MB] already existed.\n",
      "[2021-11-25 00:50:34,414] - obspy.clients.fdsn.mass_downloader - INFO: Client 'GEONET' - Acquired 1 MiniSEED files [0.0 MB].\n",
      "[2021-11-25 00:50:34,419] - obspy.clients.fdsn.mass_downloader - INFO: Client 'GEONET' - Acquired 0 StationXML files [0.0 MB].\n",
      "[2021-11-25 00:50:34,424] - obspy.clients.fdsn.mass_downloader - INFO: Downloaded 0.0 MB in total.\n",
      "[2021-11-25 00:50:34,470] - obspy.clients.fdsn.mass_downloader - INFO: Initializing FDSN client(s) for GEONET.\n",
      "[2021-11-25 00:50:34,505] - obspy.clients.fdsn.mass_downloader - INFO: Successfully initialized 1 client(s): GEONET.\n",
      "[2021-11-25 00:50:34,509] - obspy.clients.fdsn.mass_downloader - INFO: Total acquired or preexisting stations: 0\n",
      "[2021-11-25 00:50:34,514] - obspy.clients.fdsn.mass_downloader - INFO: Client 'GEONET' - Requesting unreliable availability.\n"
     ]
    },
    {
     "name": "stdout",
     "output_type": "stream",
     "text": [
      "=================================================================\n",
      "Initiating mass download request.\n"
     ]
    },
    {
     "name": "stderr",
     "output_type": "stream",
     "text": [
      "[2021-11-25 00:50:35,204] - obspy.clients.fdsn.mass_downloader - INFO: Client 'GEONET' - Successfully requested availability (0.68 seconds)\n",
      "[2021-11-25 00:50:35,219] - obspy.clients.fdsn.mass_downloader - INFO: Client 'GEONET' - Found 1 stations (1 channels).\n",
      "[2021-11-25 00:50:35,227] - obspy.clients.fdsn.mass_downloader - INFO: Client 'GEONET' - Will attempt to download data from 1 stations.\n",
      "[2021-11-25 00:50:35,236] - obspy.clients.fdsn.mass_downloader - INFO: Client 'GEONET' - Status for 1 time intervals/channels before downloading: NEEDS_DOWNLOADING\n",
      "[2021-11-25 00:50:36,248] - obspy.clients.fdsn.mass_downloader - INFO: Client 'GEONET' - Successfully downloaded 1 channels (of 1)\n",
      "[2021-11-25 00:50:36,272] - obspy.clients.fdsn.mass_downloader - INFO: Client 'GEONET' - Launching basic QC checks...\n",
      "[2021-11-25 00:50:36,294] - obspy.clients.fdsn.mass_downloader - INFO: Client 'GEONET' - Downloaded 0.0 MB [4.11 KB/sec] of data, 0.0 MB of which were discarded afterwards.\n",
      "[2021-11-25 00:50:36,296] - obspy.clients.fdsn.mass_downloader - INFO: Client 'GEONET' - Status for 1 time intervals/channels after downloading: DOWNLOADED\n",
      "[2021-11-25 00:50:36,307] - obspy.clients.fdsn.mass_downloader - INFO: Client 'GEONET' - No station information to download.\n",
      "[2021-11-25 00:50:36,318] - obspy.clients.fdsn.mass_downloader - INFO: ============================== Final report\n",
      "[2021-11-25 00:50:36,321] - obspy.clients.fdsn.mass_downloader - INFO: 0 MiniSEED files [0.0 MB] already existed.\n",
      "[2021-11-25 00:50:36,323] - obspy.clients.fdsn.mass_downloader - INFO: 1 StationXML files [0.0 MB] already existed.\n",
      "[2021-11-25 00:50:36,325] - obspy.clients.fdsn.mass_downloader - INFO: Client 'GEONET' - Acquired 1 MiniSEED files [0.0 MB].\n",
      "[2021-11-25 00:50:36,326] - obspy.clients.fdsn.mass_downloader - INFO: Client 'GEONET' - Acquired 0 StationXML files [0.0 MB].\n",
      "[2021-11-25 00:50:36,327] - obspy.clients.fdsn.mass_downloader - INFO: Downloaded 0.0 MB in total.\n",
      "[2021-11-25 00:50:36,343] - obspy.clients.fdsn.mass_downloader - INFO: Initializing FDSN client(s) for GEONET.\n",
      "[2021-11-25 00:50:36,356] - obspy.clients.fdsn.mass_downloader - INFO: Successfully initialized 1 client(s): GEONET.\n",
      "[2021-11-25 00:50:36,359] - obspy.clients.fdsn.mass_downloader - INFO: Total acquired or preexisting stations: 0\n",
      "[2021-11-25 00:50:36,361] - obspy.clients.fdsn.mass_downloader - INFO: Client 'GEONET' - Requesting unreliable availability.\n"
     ]
    },
    {
     "name": "stdout",
     "output_type": "stream",
     "text": [
      "=================================================================\n",
      "Initiating mass download request.\n"
     ]
    },
    {
     "name": "stderr",
     "output_type": "stream",
     "text": [
      "[2021-11-25 00:50:36,918] - obspy.clients.fdsn.mass_downloader - INFO: Client 'GEONET' - Successfully requested availability (0.56 seconds)\n",
      "[2021-11-25 00:50:36,919] - obspy.clients.fdsn.mass_downloader - INFO: Client 'GEONET' - Found 1 stations (1 channels).\n",
      "[2021-11-25 00:50:36,920] - obspy.clients.fdsn.mass_downloader - INFO: Client 'GEONET' - Will attempt to download data from 1 stations.\n",
      "[2021-11-25 00:50:36,920] - obspy.clients.fdsn.mass_downloader - INFO: Client 'GEONET' - Status for 1 time intervals/channels before downloading: NEEDS_DOWNLOADING\n",
      "[2021-11-25 00:50:37,781] - obspy.clients.fdsn.mass_downloader - INFO: Client 'GEONET' - Successfully downloaded 1 channels (of 1)\n",
      "[2021-11-25 00:50:37,808] - obspy.clients.fdsn.mass_downloader - INFO: Client 'GEONET' - Launching basic QC checks...\n",
      "[2021-11-25 00:50:37,837] - obspy.clients.fdsn.mass_downloader - INFO: Client 'GEONET' - Downloaded 0.0 MB [3.39 KB/sec] of data, 0.0 MB of which were discarded afterwards.\n",
      "[2021-11-25 00:50:37,849] - obspy.clients.fdsn.mass_downloader - INFO: Client 'GEONET' - Status for 1 time intervals/channels after downloading: DOWNLOADED\n",
      "[2021-11-25 00:50:37,860] - obspy.clients.fdsn.mass_downloader - INFO: Client 'GEONET' - No station information to download.\n",
      "[2021-11-25 00:50:37,865] - obspy.clients.fdsn.mass_downloader - INFO: ============================== Final report\n",
      "[2021-11-25 00:50:37,868] - obspy.clients.fdsn.mass_downloader - INFO: 0 MiniSEED files [0.0 MB] already existed.\n",
      "[2021-11-25 00:50:37,868] - obspy.clients.fdsn.mass_downloader - INFO: 1 StationXML files [0.0 MB] already existed.\n",
      "[2021-11-25 00:50:37,869] - obspy.clients.fdsn.mass_downloader - INFO: Client 'GEONET' - Acquired 1 MiniSEED files [0.0 MB].\n",
      "[2021-11-25 00:50:37,870] - obspy.clients.fdsn.mass_downloader - INFO: Client 'GEONET' - Acquired 0 StationXML files [0.0 MB].\n",
      "[2021-11-25 00:50:37,870] - obspy.clients.fdsn.mass_downloader - INFO: Downloaded 0.0 MB in total.\n",
      "[2021-11-25 00:50:37,889] - obspy.clients.fdsn.mass_downloader - INFO: Initializing FDSN client(s) for GEONET.\n",
      "[2021-11-25 00:50:37,921] - obspy.clients.fdsn.mass_downloader - INFO: Successfully initialized 1 client(s): GEONET.\n",
      "[2021-11-25 00:50:37,923] - obspy.clients.fdsn.mass_downloader - INFO: Total acquired or preexisting stations: 0\n",
      "[2021-11-25 00:50:37,925] - obspy.clients.fdsn.mass_downloader - INFO: Client 'GEONET' - Requesting unreliable availability.\n"
     ]
    },
    {
     "name": "stdout",
     "output_type": "stream",
     "text": [
      "=================================================================\n",
      "Initiating mass download request.\n"
     ]
    },
    {
     "name": "stderr",
     "output_type": "stream",
     "text": [
      "[2021-11-25 00:50:38,486] - obspy.clients.fdsn.mass_downloader - INFO: Client 'GEONET' - Successfully requested availability (0.56 seconds)\n",
      "[2021-11-25 00:50:38,510] - obspy.clients.fdsn.mass_downloader - INFO: Client 'GEONET' - Found 1 stations (1 channels).\n",
      "[2021-11-25 00:50:38,517] - obspy.clients.fdsn.mass_downloader - INFO: Client 'GEONET' - Will attempt to download data from 1 stations.\n",
      "[2021-11-25 00:50:38,520] - obspy.clients.fdsn.mass_downloader - INFO: Client 'GEONET' - Status for 1 time intervals/channels before downloading: NEEDS_DOWNLOADING\n",
      "[2021-11-25 00:50:39,550] - obspy.clients.fdsn.mass_downloader - INFO: Client 'GEONET' - Successfully downloaded 1 channels (of 1)\n",
      "[2021-11-25 00:50:39,561] - obspy.clients.fdsn.mass_downloader - INFO: Client 'GEONET' - Launching basic QC checks...\n",
      "[2021-11-25 00:50:39,572] - obspy.clients.fdsn.mass_downloader - INFO: Client 'GEONET' - Downloaded 0.0 MB [3.95 KB/sec] of data, 0.0 MB of which were discarded afterwards.\n",
      "[2021-11-25 00:50:39,573] - obspy.clients.fdsn.mass_downloader - INFO: Client 'GEONET' - Status for 1 time intervals/channels after downloading: DOWNLOADED\n",
      "[2021-11-25 00:50:39,577] - obspy.clients.fdsn.mass_downloader - INFO: Client 'GEONET' - No station information to download.\n",
      "[2021-11-25 00:50:39,578] - obspy.clients.fdsn.mass_downloader - INFO: ============================== Final report\n",
      "[2021-11-25 00:50:39,578] - obspy.clients.fdsn.mass_downloader - INFO: 0 MiniSEED files [0.0 MB] already existed.\n",
      "[2021-11-25 00:50:39,580] - obspy.clients.fdsn.mass_downloader - INFO: 1 StationXML files [0.0 MB] already existed.\n",
      "[2021-11-25 00:50:39,581] - obspy.clients.fdsn.mass_downloader - INFO: Client 'GEONET' - Acquired 1 MiniSEED files [0.0 MB].\n",
      "[2021-11-25 00:50:39,581] - obspy.clients.fdsn.mass_downloader - INFO: Client 'GEONET' - Acquired 0 StationXML files [0.0 MB].\n",
      "[2021-11-25 00:50:39,582] - obspy.clients.fdsn.mass_downloader - INFO: Downloaded 0.0 MB in total.\n",
      "[2021-11-25 00:50:39,588] - obspy.clients.fdsn.mass_downloader - INFO: Initializing FDSN client(s) for GEONET.\n",
      "[2021-11-25 00:50:39,599] - obspy.clients.fdsn.mass_downloader - INFO: Successfully initialized 1 client(s): GEONET.\n",
      "[2021-11-25 00:50:39,608] - obspy.clients.fdsn.mass_downloader - INFO: Total acquired or preexisting stations: 0\n",
      "[2021-11-25 00:50:39,615] - obspy.clients.fdsn.mass_downloader - INFO: Client 'GEONET' - Requesting unreliable availability.\n"
     ]
    },
    {
     "name": "stdout",
     "output_type": "stream",
     "text": [
      "=================================================================\n",
      "Initiating mass download request.\n"
     ]
    },
    {
     "name": "stderr",
     "output_type": "stream",
     "text": [
      "[2021-11-25 00:50:40,985] - obspy.clients.fdsn.mass_downloader - INFO: Client 'GEONET' - Successfully requested availability (1.37 seconds)\n",
      "[2021-11-25 00:50:41,020] - obspy.clients.fdsn.mass_downloader - INFO: Client 'GEONET' - Found 1 stations (1 channels).\n",
      "[2021-11-25 00:50:41,043] - obspy.clients.fdsn.mass_downloader - INFO: Client 'GEONET' - Will attempt to download data from 1 stations.\n",
      "[2021-11-25 00:50:41,062] - obspy.clients.fdsn.mass_downloader - INFO: Client 'GEONET' - Status for 1 time intervals/channels before downloading: NEEDS_DOWNLOADING\n",
      "[2021-11-25 00:50:42,028] - obspy.clients.fdsn.mass_downloader - INFO: Client 'GEONET' - Successfully downloaded 1 channels (of 1)\n",
      "[2021-11-25 00:50:42,119] - obspy.clients.fdsn.mass_downloader - INFO: Client 'GEONET' - Launching basic QC checks...\n",
      "[2021-11-25 00:50:42,221] - obspy.clients.fdsn.mass_downloader - INFO: Client 'GEONET' - Downloaded 0.0 MB [3.45 KB/sec] of data, 0.0 MB of which were discarded afterwards.\n",
      "[2021-11-25 00:50:42,238] - obspy.clients.fdsn.mass_downloader - INFO: Client 'GEONET' - Status for 1 time intervals/channels after downloading: DOWNLOADED\n",
      "[2021-11-25 00:50:42,255] - obspy.clients.fdsn.mass_downloader - INFO: Client 'GEONET' - No station information to download.\n",
      "[2021-11-25 00:50:42,287] - obspy.clients.fdsn.mass_downloader - INFO: ============================== Final report\n",
      "[2021-11-25 00:50:42,296] - obspy.clients.fdsn.mass_downloader - INFO: 0 MiniSEED files [0.0 MB] already existed.\n",
      "[2021-11-25 00:50:42,302] - obspy.clients.fdsn.mass_downloader - INFO: 1 StationXML files [0.0 MB] already existed.\n",
      "[2021-11-25 00:50:42,310] - obspy.clients.fdsn.mass_downloader - INFO: Client 'GEONET' - Acquired 1 MiniSEED files [0.0 MB].\n",
      "[2021-11-25 00:50:42,315] - obspy.clients.fdsn.mass_downloader - INFO: Client 'GEONET' - Acquired 0 StationXML files [0.0 MB].\n",
      "[2021-11-25 00:50:42,321] - obspy.clients.fdsn.mass_downloader - INFO: Downloaded 0.0 MB in total.\n",
      "[2021-11-25 00:50:42,363] - obspy.clients.fdsn.mass_downloader - INFO: Initializing FDSN client(s) for GEONET.\n",
      "[2021-11-25 00:50:42,423] - obspy.clients.fdsn.mass_downloader - INFO: Successfully initialized 1 client(s): GEONET.\n",
      "[2021-11-25 00:50:42,434] - obspy.clients.fdsn.mass_downloader - INFO: Total acquired or preexisting stations: 0\n",
      "[2021-11-25 00:50:42,440] - obspy.clients.fdsn.mass_downloader - INFO: Client 'GEONET' - Requesting unreliable availability.\n"
     ]
    },
    {
     "name": "stdout",
     "output_type": "stream",
     "text": [
      "=================================================================\n",
      "Initiating mass download request.\n"
     ]
    },
    {
     "name": "stderr",
     "output_type": "stream",
     "text": [
      "[2021-11-25 00:50:43,059] - obspy.clients.fdsn.mass_downloader - INFO: Client 'GEONET' - Successfully requested availability (0.61 seconds)\n",
      "[2021-11-25 00:50:43,104] - obspy.clients.fdsn.mass_downloader - INFO: Client 'GEONET' - Found 1 stations (1 channels).\n",
      "[2021-11-25 00:50:43,122] - obspy.clients.fdsn.mass_downloader - INFO: Client 'GEONET' - Will attempt to download data from 1 stations.\n",
      "[2021-11-25 00:50:43,143] - obspy.clients.fdsn.mass_downloader - INFO: Client 'GEONET' - Status for 1 time intervals/channels before downloading: NEEDS_DOWNLOADING\n",
      "[2021-11-25 00:50:44,003] - obspy.clients.fdsn.mass_downloader - INFO: Client 'GEONET' - Successfully downloaded 1 channels (of 1)\n",
      "[2021-11-25 00:50:44,047] - obspy.clients.fdsn.mass_downloader - INFO: Client 'GEONET' - Launching basic QC checks...\n",
      "[2021-11-25 00:50:44,110] - obspy.clients.fdsn.mass_downloader - INFO: Client 'GEONET' - Downloaded 0.0 MB [3.39 KB/sec] of data, 0.0 MB of which were discarded afterwards.\n",
      "[2021-11-25 00:50:44,116] - obspy.clients.fdsn.mass_downloader - INFO: Client 'GEONET' - Status for 1 time intervals/channels after downloading: DOWNLOADED\n",
      "[2021-11-25 00:50:44,146] - obspy.clients.fdsn.mass_downloader - INFO: Client 'GEONET' - No station information to download.\n",
      "[2021-11-25 00:50:44,155] - obspy.clients.fdsn.mass_downloader - INFO: ============================== Final report\n",
      "[2021-11-25 00:50:44,165] - obspy.clients.fdsn.mass_downloader - INFO: 0 MiniSEED files [0.0 MB] already existed.\n",
      "[2021-11-25 00:50:44,168] - obspy.clients.fdsn.mass_downloader - INFO: 1 StationXML files [0.0 MB] already existed.\n",
      "[2021-11-25 00:50:44,170] - obspy.clients.fdsn.mass_downloader - INFO: Client 'GEONET' - Acquired 1 MiniSEED files [0.0 MB].\n",
      "[2021-11-25 00:50:44,170] - obspy.clients.fdsn.mass_downloader - INFO: Client 'GEONET' - Acquired 0 StationXML files [0.0 MB].\n",
      "[2021-11-25 00:50:44,171] - obspy.clients.fdsn.mass_downloader - INFO: Downloaded 0.0 MB in total.\n",
      "[2021-11-25 00:50:44,185] - obspy.clients.fdsn.mass_downloader - INFO: Initializing FDSN client(s) for GEONET.\n",
      "[2021-11-25 00:50:44,219] - obspy.clients.fdsn.mass_downloader - INFO: Successfully initialized 1 client(s): GEONET.\n",
      "[2021-11-25 00:50:44,223] - obspy.clients.fdsn.mass_downloader - INFO: Total acquired or preexisting stations: 0\n",
      "[2021-11-25 00:50:44,232] - obspy.clients.fdsn.mass_downloader - INFO: Client 'GEONET' - Requesting unreliable availability.\n"
     ]
    },
    {
     "name": "stdout",
     "output_type": "stream",
     "text": [
      "=================================================================\n",
      "Initiating mass download request.\n"
     ]
    },
    {
     "name": "stderr",
     "output_type": "stream",
     "text": [
      "[2021-11-25 00:50:44,959] - obspy.clients.fdsn.mass_downloader - INFO: Client 'GEONET' - Successfully requested availability (0.72 seconds)\n",
      "[2021-11-25 00:50:45,023] - obspy.clients.fdsn.mass_downloader - INFO: Client 'GEONET' - Found 1 stations (1 channels).\n",
      "[2021-11-25 00:50:45,037] - obspy.clients.fdsn.mass_downloader - INFO: Client 'GEONET' - Will attempt to download data from 1 stations.\n",
      "[2021-11-25 00:50:45,057] - obspy.clients.fdsn.mass_downloader - INFO: Client 'GEONET' - Status for 1 time intervals/channels before downloading: NEEDS_DOWNLOADING\n",
      "[2021-11-25 00:50:46,047] - obspy.clients.fdsn.mass_downloader - INFO: Client 'GEONET' - Successfully downloaded 1 channels (of 1)\n",
      "[2021-11-25 00:50:46,079] - obspy.clients.fdsn.mass_downloader - INFO: Client 'GEONET' - Launching basic QC checks...\n",
      "[2021-11-25 00:50:46,127] - obspy.clients.fdsn.mass_downloader - INFO: Client 'GEONET' - Downloaded 0.0 MB [4.19 KB/sec] of data, 0.0 MB of which were discarded afterwards.\n",
      "[2021-11-25 00:50:46,132] - obspy.clients.fdsn.mass_downloader - INFO: Client 'GEONET' - Status for 1 time intervals/channels after downloading: DOWNLOADED\n",
      "[2021-11-25 00:50:46,148] - obspy.clients.fdsn.mass_downloader - INFO: Client 'GEONET' - No station information to download.\n",
      "[2021-11-25 00:50:46,155] - obspy.clients.fdsn.mass_downloader - INFO: ============================== Final report\n",
      "[2021-11-25 00:50:46,158] - obspy.clients.fdsn.mass_downloader - INFO: 0 MiniSEED files [0.0 MB] already existed.\n",
      "[2021-11-25 00:50:46,158] - obspy.clients.fdsn.mass_downloader - INFO: 1 StationXML files [0.0 MB] already existed.\n",
      "[2021-11-25 00:50:46,158] - obspy.clients.fdsn.mass_downloader - INFO: Client 'GEONET' - Acquired 1 MiniSEED files [0.0 MB].\n",
      "[2021-11-25 00:50:46,159] - obspy.clients.fdsn.mass_downloader - INFO: Client 'GEONET' - Acquired 0 StationXML files [0.0 MB].\n",
      "[2021-11-25 00:50:46,162] - obspy.clients.fdsn.mass_downloader - INFO: Downloaded 0.0 MB in total.\n",
      "[2021-11-25 00:50:46,184] - obspy.clients.fdsn.mass_downloader - INFO: Initializing FDSN client(s) for GEONET.\n",
      "[2021-11-25 00:50:46,209] - obspy.clients.fdsn.mass_downloader - INFO: Successfully initialized 1 client(s): GEONET.\n",
      "[2021-11-25 00:50:46,213] - obspy.clients.fdsn.mass_downloader - INFO: Total acquired or preexisting stations: 0\n",
      "[2021-11-25 00:50:46,217] - obspy.clients.fdsn.mass_downloader - INFO: Client 'GEONET' - Requesting unreliable availability.\n"
     ]
    },
    {
     "name": "stdout",
     "output_type": "stream",
     "text": [
      "=================================================================\n",
      "Initiating mass download request.\n"
     ]
    },
    {
     "name": "stderr",
     "output_type": "stream",
     "text": [
      "[2021-11-25 00:50:47,438] - obspy.clients.fdsn.mass_downloader - INFO: Client 'GEONET' - Successfully requested availability (1.22 seconds)\n",
      "[2021-11-25 00:50:47,446] - obspy.clients.fdsn.mass_downloader - INFO: Client 'GEONET' - Found 1 stations (1 channels).\n",
      "[2021-11-25 00:50:47,453] - obspy.clients.fdsn.mass_downloader - INFO: Client 'GEONET' - Will attempt to download data from 1 stations.\n",
      "[2021-11-25 00:50:47,460] - obspy.clients.fdsn.mass_downloader - INFO: Client 'GEONET' - Status for 1 time intervals/channels before downloading: NEEDS_DOWNLOADING\n",
      "[2021-11-25 00:50:48,965] - obspy.clients.fdsn.mass_downloader - INFO: Client 'GEONET' - Successfully downloaded 1 channels (of 1)\n",
      "[2021-11-25 00:50:49,092] - obspy.clients.fdsn.mass_downloader - INFO: Client 'GEONET' - Launching basic QC checks...\n",
      "[2021-11-25 00:50:49,183] - obspy.clients.fdsn.mass_downloader - INFO: Client 'GEONET' - Downloaded 0.0 MB [2.16 KB/sec] of data, 0.0 MB of which were discarded afterwards.\n",
      "[2021-11-25 00:50:49,190] - obspy.clients.fdsn.mass_downloader - INFO: Client 'GEONET' - Status for 1 time intervals/channels after downloading: DOWNLOADED\n",
      "[2021-11-25 00:50:49,215] - obspy.clients.fdsn.mass_downloader - INFO: Client 'GEONET' - No station information to download.\n",
      "[2021-11-25 00:50:49,218] - obspy.clients.fdsn.mass_downloader - INFO: ============================== Final report\n",
      "[2021-11-25 00:50:49,227] - obspy.clients.fdsn.mass_downloader - INFO: 0 MiniSEED files [0.0 MB] already existed.\n",
      "[2021-11-25 00:50:49,232] - obspy.clients.fdsn.mass_downloader - INFO: 1 StationXML files [0.0 MB] already existed.\n",
      "[2021-11-25 00:50:49,237] - obspy.clients.fdsn.mass_downloader - INFO: Client 'GEONET' - Acquired 1 MiniSEED files [0.0 MB].\n",
      "[2021-11-25 00:50:49,262] - obspy.clients.fdsn.mass_downloader - INFO: Client 'GEONET' - Acquired 0 StationXML files [0.0 MB].\n",
      "[2021-11-25 00:50:49,288] - obspy.clients.fdsn.mass_downloader - INFO: Downloaded 0.0 MB in total.\n",
      "[2021-11-25 00:50:49,324] - obspy.clients.fdsn.mass_downloader - INFO: Initializing FDSN client(s) for GEONET.\n",
      "[2021-11-25 00:50:49,371] - obspy.clients.fdsn.mass_downloader - INFO: Successfully initialized 1 client(s): GEONET.\n",
      "[2021-11-25 00:50:49,373] - obspy.clients.fdsn.mass_downloader - INFO: Total acquired or preexisting stations: 0\n",
      "[2021-11-25 00:50:49,373] - obspy.clients.fdsn.mass_downloader - INFO: Client 'GEONET' - Requesting unreliable availability.\n"
     ]
    },
    {
     "name": "stdout",
     "output_type": "stream",
     "text": [
      "=================================================================\n",
      "Initiating mass download request.\n"
     ]
    },
    {
     "name": "stderr",
     "output_type": "stream",
     "text": [
      "[2021-11-25 00:50:50,042] - obspy.clients.fdsn.mass_downloader - INFO: Client 'GEONET' - Successfully requested availability (0.67 seconds)\n",
      "[2021-11-25 00:50:50,059] - obspy.clients.fdsn.mass_downloader - INFO: Client 'GEONET' - Found 1 stations (1 channels).\n",
      "[2021-11-25 00:50:50,080] - obspy.clients.fdsn.mass_downloader - INFO: Client 'GEONET' - Will attempt to download data from 1 stations.\n",
      "[2021-11-25 00:50:50,099] - obspy.clients.fdsn.mass_downloader - INFO: Client 'GEONET' - Status for 1 time intervals/channels before downloading: NEEDS_DOWNLOADING\n",
      "[2021-11-25 00:50:51,064] - obspy.clients.fdsn.mass_downloader - INFO: Client 'GEONET' - Successfully downloaded 1 channels (of 1)\n",
      "[2021-11-25 00:50:51,239] - obspy.clients.fdsn.mass_downloader - INFO: Client 'GEONET' - Launching basic QC checks...\n",
      "[2021-11-25 00:50:51,344] - obspy.clients.fdsn.mass_downloader - INFO: Client 'GEONET' - Downloaded 0.0 MB [5.39 KB/sec] of data, 0.0 MB of which were discarded afterwards.\n",
      "[2021-11-25 00:50:51,362] - obspy.clients.fdsn.mass_downloader - INFO: Client 'GEONET' - Status for 1 time intervals/channels after downloading: DOWNLOADED\n",
      "[2021-11-25 00:50:51,431] - obspy.clients.fdsn.mass_downloader - INFO: Client 'GEONET' - No station information to download.\n",
      "[2021-11-25 00:50:51,478] - obspy.clients.fdsn.mass_downloader - INFO: ============================== Final report\n",
      "[2021-11-25 00:50:51,484] - obspy.clients.fdsn.mass_downloader - INFO: 0 MiniSEED files [0.0 MB] already existed.\n",
      "[2021-11-25 00:50:51,494] - obspy.clients.fdsn.mass_downloader - INFO: 1 StationXML files [0.0 MB] already existed.\n",
      "[2021-11-25 00:50:51,497] - obspy.clients.fdsn.mass_downloader - INFO: Client 'GEONET' - Acquired 1 MiniSEED files [0.0 MB].\n",
      "[2021-11-25 00:50:51,499] - obspy.clients.fdsn.mass_downloader - INFO: Client 'GEONET' - Acquired 0 StationXML files [0.0 MB].\n",
      "[2021-11-25 00:50:51,513] - obspy.clients.fdsn.mass_downloader - INFO: Downloaded 0.0 MB in total.\n",
      "[2021-11-25 00:50:51,575] - obspy.clients.fdsn.mass_downloader - INFO: Initializing FDSN client(s) for GEONET.\n",
      "[2021-11-25 00:50:51,732] - obspy.clients.fdsn.mass_downloader - INFO: Successfully initialized 1 client(s): GEONET.\n",
      "[2021-11-25 00:50:51,745] - obspy.clients.fdsn.mass_downloader - INFO: Total acquired or preexisting stations: 0\n",
      "[2021-11-25 00:50:51,755] - obspy.clients.fdsn.mass_downloader - INFO: Client 'GEONET' - Requesting unreliable availability.\n"
     ]
    },
    {
     "name": "stdout",
     "output_type": "stream",
     "text": [
      "=================================================================\n",
      "Initiating mass download request.\n"
     ]
    },
    {
     "name": "stderr",
     "output_type": "stream",
     "text": [
      "[2021-11-25 00:50:52,354] - obspy.clients.fdsn.mass_downloader - INFO: Client 'GEONET' - Successfully requested availability (0.60 seconds)\n",
      "[2021-11-25 00:50:52,373] - obspy.clients.fdsn.mass_downloader - INFO: Client 'GEONET' - Found 1 stations (1 channels).\n",
      "[2021-11-25 00:50:52,379] - obspy.clients.fdsn.mass_downloader - INFO: Client 'GEONET' - Will attempt to download data from 1 stations.\n",
      "[2021-11-25 00:50:52,387] - obspy.clients.fdsn.mass_downloader - INFO: Client 'GEONET' - Status for 1 time intervals/channels before downloading: NEEDS_DOWNLOADING\n",
      "[2021-11-25 00:50:53,338] - obspy.clients.fdsn.mass_downloader - INFO: Client 'GEONET' - Successfully downloaded 1 channels (of 1)\n",
      "[2021-11-25 00:50:53,405] - obspy.clients.fdsn.mass_downloader - INFO: Client 'GEONET' - Launching basic QC checks...\n",
      "[2021-11-25 00:50:53,453] - obspy.clients.fdsn.mass_downloader - INFO: Client 'GEONET' - Downloaded 0.0 MB [3.04 KB/sec] of data, 0.0 MB of which were discarded afterwards.\n",
      "[2021-11-25 00:50:53,463] - obspy.clients.fdsn.mass_downloader - INFO: Client 'GEONET' - Status for 1 time intervals/channels after downloading: DOWNLOADED\n",
      "[2021-11-25 00:50:53,488] - obspy.clients.fdsn.mass_downloader - INFO: Client 'GEONET' - No station information to download.\n",
      "[2021-11-25 00:50:53,562] - obspy.clients.fdsn.mass_downloader - INFO: ============================== Final report\n",
      "[2021-11-25 00:50:53,569] - obspy.clients.fdsn.mass_downloader - INFO: 0 MiniSEED files [0.0 MB] already existed.\n",
      "[2021-11-25 00:50:53,576] - obspy.clients.fdsn.mass_downloader - INFO: 1 StationXML files [0.0 MB] already existed.\n",
      "[2021-11-25 00:50:53,578] - obspy.clients.fdsn.mass_downloader - INFO: Client 'GEONET' - Acquired 1 MiniSEED files [0.0 MB].\n",
      "[2021-11-25 00:50:53,578] - obspy.clients.fdsn.mass_downloader - INFO: Client 'GEONET' - Acquired 0 StationXML files [0.0 MB].\n",
      "[2021-11-25 00:50:53,579] - obspy.clients.fdsn.mass_downloader - INFO: Downloaded 0.0 MB in total.\n",
      "[2021-11-25 00:50:53,781] - obspy.clients.fdsn.mass_downloader - INFO: Initializing FDSN client(s) for GEONET.\n",
      "[2021-11-25 00:50:53,861] - obspy.clients.fdsn.mass_downloader - INFO: Successfully initialized 1 client(s): GEONET.\n",
      "[2021-11-25 00:50:53,872] - obspy.clients.fdsn.mass_downloader - INFO: Total acquired or preexisting stations: 0\n",
      "[2021-11-25 00:50:53,875] - obspy.clients.fdsn.mass_downloader - INFO: Client 'GEONET' - Requesting unreliable availability.\n"
     ]
    },
    {
     "name": "stdout",
     "output_type": "stream",
     "text": [
      "=================================================================\n",
      "Initiating mass download request.\n"
     ]
    },
    {
     "name": "stderr",
     "output_type": "stream",
     "text": [
      "[2021-11-25 00:50:54,459] - obspy.clients.fdsn.mass_downloader - INFO: Client 'GEONET' - Successfully requested availability (0.58 seconds)\n",
      "[2021-11-25 00:50:54,469] - obspy.clients.fdsn.mass_downloader - INFO: Client 'GEONET' - Found 1 stations (1 channels).\n",
      "[2021-11-25 00:50:54,472] - obspy.clients.fdsn.mass_downloader - INFO: Client 'GEONET' - Will attempt to download data from 1 stations.\n",
      "[2021-11-25 00:50:54,478] - obspy.clients.fdsn.mass_downloader - INFO: Client 'GEONET' - Status for 1 time intervals/channels before downloading: NEEDS_DOWNLOADING\n",
      "[2021-11-25 00:50:55,396] - obspy.clients.fdsn.mass_downloader - INFO: Client 'GEONET' - Successfully downloaded 1 channels (of 1)\n",
      "[2021-11-25 00:50:55,465] - obspy.clients.fdsn.mass_downloader - INFO: Client 'GEONET' - Launching basic QC checks...\n",
      "[2021-11-25 00:50:55,552] - obspy.clients.fdsn.mass_downloader - INFO: Client 'GEONET' - Downloaded 0.0 MB [3.56 KB/sec] of data, 0.0 MB of which were discarded afterwards.\n",
      "[2021-11-25 00:50:55,559] - obspy.clients.fdsn.mass_downloader - INFO: Client 'GEONET' - Status for 1 time intervals/channels after downloading: DOWNLOADED\n",
      "[2021-11-25 00:50:55,576] - obspy.clients.fdsn.mass_downloader - INFO: Client 'GEONET' - No station information to download.\n",
      "[2021-11-25 00:50:55,582] - obspy.clients.fdsn.mass_downloader - INFO: ============================== Final report\n",
      "[2021-11-25 00:50:55,586] - obspy.clients.fdsn.mass_downloader - INFO: 0 MiniSEED files [0.0 MB] already existed.\n",
      "[2021-11-25 00:50:55,589] - obspy.clients.fdsn.mass_downloader - INFO: 1 StationXML files [0.0 MB] already existed.\n",
      "[2021-11-25 00:50:55,592] - obspy.clients.fdsn.mass_downloader - INFO: Client 'GEONET' - Acquired 1 MiniSEED files [0.0 MB].\n",
      "[2021-11-25 00:50:55,593] - obspy.clients.fdsn.mass_downloader - INFO: Client 'GEONET' - Acquired 0 StationXML files [0.0 MB].\n",
      "[2021-11-25 00:50:55,594] - obspy.clients.fdsn.mass_downloader - INFO: Downloaded 0.0 MB in total.\n",
      "[2021-11-25 00:50:55,622] - obspy.clients.fdsn.mass_downloader - INFO: Initializing FDSN client(s) for GEONET.\n",
      "[2021-11-25 00:50:55,667] - obspy.clients.fdsn.mass_downloader - INFO: Successfully initialized 1 client(s): GEONET.\n",
      "[2021-11-25 00:50:55,671] - obspy.clients.fdsn.mass_downloader - INFO: Total acquired or preexisting stations: 0\n",
      "[2021-11-25 00:50:55,677] - obspy.clients.fdsn.mass_downloader - INFO: Client 'GEONET' - Requesting unreliable availability.\n"
     ]
    },
    {
     "name": "stdout",
     "output_type": "stream",
     "text": [
      "=================================================================\n",
      "Initiating mass download request.\n"
     ]
    },
    {
     "name": "stderr",
     "output_type": "stream",
     "text": [
      "[2021-11-25 00:50:56,321] - obspy.clients.fdsn.mass_downloader - INFO: Client 'GEONET' - Successfully requested availability (0.64 seconds)\n",
      "[2021-11-25 00:50:56,347] - obspy.clients.fdsn.mass_downloader - INFO: Client 'GEONET' - Found 1 stations (1 channels).\n",
      "[2021-11-25 00:50:56,355] - obspy.clients.fdsn.mass_downloader - INFO: Client 'GEONET' - Will attempt to download data from 1 stations.\n",
      "[2021-11-25 00:50:56,361] - obspy.clients.fdsn.mass_downloader - INFO: Client 'GEONET' - Status for 1 time intervals/channels before downloading: NEEDS_DOWNLOADING\n",
      "[2021-11-25 00:50:57,387] - obspy.clients.fdsn.mass_downloader - INFO: Client 'GEONET' - Successfully downloaded 1 channels (of 1)\n",
      "[2021-11-25 00:50:57,407] - obspy.clients.fdsn.mass_downloader - INFO: Client 'GEONET' - Launching basic QC checks...\n",
      "[2021-11-25 00:50:57,447] - obspy.clients.fdsn.mass_downloader - INFO: Client 'GEONET' - Downloaded 0.0 MB [3.46 KB/sec] of data, 0.0 MB of which were discarded afterwards.\n",
      "[2021-11-25 00:50:57,452] - obspy.clients.fdsn.mass_downloader - INFO: Client 'GEONET' - Status for 1 time intervals/channels after downloading: DOWNLOADED\n",
      "[2021-11-25 00:50:57,479] - obspy.clients.fdsn.mass_downloader - INFO: Client 'GEONET' - No station information to download.\n",
      "[2021-11-25 00:50:57,486] - obspy.clients.fdsn.mass_downloader - INFO: ============================== Final report\n",
      "[2021-11-25 00:50:57,487] - obspy.clients.fdsn.mass_downloader - INFO: 0 MiniSEED files [0.0 MB] already existed.\n",
      "[2021-11-25 00:50:57,488] - obspy.clients.fdsn.mass_downloader - INFO: 1 StationXML files [0.0 MB] already existed.\n",
      "[2021-11-25 00:50:57,489] - obspy.clients.fdsn.mass_downloader - INFO: Client 'GEONET' - Acquired 1 MiniSEED files [0.0 MB].\n",
      "[2021-11-25 00:50:57,489] - obspy.clients.fdsn.mass_downloader - INFO: Client 'GEONET' - Acquired 0 StationXML files [0.0 MB].\n",
      "[2021-11-25 00:50:57,495] - obspy.clients.fdsn.mass_downloader - INFO: Downloaded 0.0 MB in total.\n",
      "[2021-11-25 00:50:57,511] - obspy.clients.fdsn.mass_downloader - INFO: Initializing FDSN client(s) for GEONET.\n",
      "[2021-11-25 00:50:57,560] - obspy.clients.fdsn.mass_downloader - INFO: Successfully initialized 1 client(s): GEONET.\n",
      "[2021-11-25 00:50:57,569] - obspy.clients.fdsn.mass_downloader - INFO: Total acquired or preexisting stations: 0\n",
      "[2021-11-25 00:50:57,574] - obspy.clients.fdsn.mass_downloader - INFO: Client 'GEONET' - Requesting unreliable availability.\n"
     ]
    },
    {
     "name": "stdout",
     "output_type": "stream",
     "text": [
      "=================================================================\n",
      "Initiating mass download request.\n"
     ]
    },
    {
     "name": "stderr",
     "output_type": "stream",
     "text": [
      "[2021-11-25 00:50:58,186] - obspy.clients.fdsn.mass_downloader - INFO: Client 'GEONET' - Successfully requested availability (0.61 seconds)\n",
      "[2021-11-25 00:50:58,213] - obspy.clients.fdsn.mass_downloader - INFO: Client 'GEONET' - Found 1 stations (1 channels).\n",
      "[2021-11-25 00:50:58,221] - obspy.clients.fdsn.mass_downloader - INFO: Client 'GEONET' - Will attempt to download data from 1 stations.\n",
      "[2021-11-25 00:50:58,228] - obspy.clients.fdsn.mass_downloader - INFO: Client 'GEONET' - Status for 1 time intervals/channels before downloading: NEEDS_DOWNLOADING\n",
      "[2021-11-25 00:50:59,666] - obspy.clients.fdsn.mass_downloader - INFO: Client 'GEONET' - Successfully downloaded 1 channels (of 1)\n",
      "[2021-11-25 00:50:59,775] - obspy.clients.fdsn.mass_downloader - INFO: Client 'GEONET' - Launching basic QC checks...\n",
      "[2021-11-25 00:50:59,805] - obspy.clients.fdsn.mass_downloader - INFO: Client 'GEONET' - Downloaded 0.0 MB [2.30 KB/sec] of data, 0.0 MB of which were discarded afterwards.\n",
      "[2021-11-25 00:50:59,809] - obspy.clients.fdsn.mass_downloader - INFO: Client 'GEONET' - Status for 1 time intervals/channels after downloading: DOWNLOADED\n",
      "[2021-11-25 00:51:00,449] - obspy.clients.fdsn.mass_downloader - INFO: Client 'GEONET' - Successfully downloaded 'normal/stations/NZ.BKZ.xml'.\n",
      "[2021-11-25 00:51:00,514] - obspy.clients.fdsn.mass_downloader - INFO: Client 'GEONET' - Downloaded 1 station files [0.0 MB] in 0.7 seconds [12.30 KB/sec].\n",
      "[2021-11-25 00:51:00,527] - obspy.clients.fdsn.mass_downloader - INFO: ============================== Final report\n",
      "[2021-11-25 00:51:00,533] - obspy.clients.fdsn.mass_downloader - INFO: 0 MiniSEED files [0.0 MB] already existed.\n",
      "[2021-11-25 00:51:00,537] - obspy.clients.fdsn.mass_downloader - INFO: 0 StationXML files [0.0 MB] already existed.\n",
      "[2021-11-25 00:51:00,543] - obspy.clients.fdsn.mass_downloader - INFO: Client 'GEONET' - Acquired 1 MiniSEED files [0.0 MB].\n",
      "[2021-11-25 00:51:00,543] - obspy.clients.fdsn.mass_downloader - INFO: Client 'GEONET' - Acquired 1 StationXML files [0.0 MB].\n",
      "[2021-11-25 00:51:00,544] - obspy.clients.fdsn.mass_downloader - INFO: Downloaded 0.0 MB in total.\n",
      "[2021-11-25 00:51:00,564] - obspy.clients.fdsn.mass_downloader - INFO: Initializing FDSN client(s) for GEONET.\n",
      "[2021-11-25 00:51:00,592] - obspy.clients.fdsn.mass_downloader - INFO: Successfully initialized 1 client(s): GEONET.\n",
      "[2021-11-25 00:51:00,595] - obspy.clients.fdsn.mass_downloader - INFO: Total acquired or preexisting stations: 0\n",
      "[2021-11-25 00:51:00,599] - obspy.clients.fdsn.mass_downloader - INFO: Client 'GEONET' - Requesting unreliable availability.\n"
     ]
    },
    {
     "name": "stdout",
     "output_type": "stream",
     "text": [
      "=================================================================\n",
      "Initiating mass download request.\n"
     ]
    },
    {
     "name": "stderr",
     "output_type": "stream",
     "text": [
      "[2021-11-25 00:51:01,283] - obspy.clients.fdsn.mass_downloader - INFO: Client 'GEONET' - Successfully requested availability (0.68 seconds)\n",
      "[2021-11-25 00:51:01,301] - obspy.clients.fdsn.mass_downloader - INFO: Client 'GEONET' - Found 1 stations (1 channels).\n",
      "[2021-11-25 00:51:01,307] - obspy.clients.fdsn.mass_downloader - INFO: Client 'GEONET' - Will attempt to download data from 1 stations.\n",
      "[2021-11-25 00:51:01,312] - obspy.clients.fdsn.mass_downloader - INFO: Client 'GEONET' - Status for 1 time intervals/channels before downloading: NEEDS_DOWNLOADING\n",
      "[2021-11-25 00:51:02,130] - obspy.clients.fdsn.mass_downloader - INFO: Client 'GEONET' - Successfully downloaded 1 channels (of 1)\n",
      "[2021-11-25 00:51:02,190] - obspy.clients.fdsn.mass_downloader - INFO: Client 'GEONET' - Launching basic QC checks...\n",
      "[2021-11-25 00:51:02,225] - obspy.clients.fdsn.mass_downloader - INFO: Client 'GEONET' - Downloaded 0.0 MB [3.48 KB/sec] of data, 0.0 MB of which were discarded afterwards.\n",
      "[2021-11-25 00:51:02,232] - obspy.clients.fdsn.mass_downloader - INFO: Client 'GEONET' - Status for 1 time intervals/channels after downloading: DOWNLOADED\n",
      "[2021-11-25 00:51:02,243] - obspy.clients.fdsn.mass_downloader - INFO: Client 'GEONET' - No station information to download.\n",
      "[2021-11-25 00:51:02,249] - obspy.clients.fdsn.mass_downloader - INFO: ============================== Final report\n",
      "[2021-11-25 00:51:02,250] - obspy.clients.fdsn.mass_downloader - INFO: 0 MiniSEED files [0.0 MB] already existed.\n",
      "[2021-11-25 00:51:02,251] - obspy.clients.fdsn.mass_downloader - INFO: 1 StationXML files [0.0 MB] already existed.\n",
      "[2021-11-25 00:51:02,252] - obspy.clients.fdsn.mass_downloader - INFO: Client 'GEONET' - Acquired 1 MiniSEED files [0.0 MB].\n",
      "[2021-11-25 00:51:02,254] - obspy.clients.fdsn.mass_downloader - INFO: Client 'GEONET' - Acquired 0 StationXML files [0.0 MB].\n",
      "[2021-11-25 00:51:02,255] - obspy.clients.fdsn.mass_downloader - INFO: Downloaded 0.0 MB in total.\n",
      "[2021-11-25 00:51:02,285] - obspy.clients.fdsn.mass_downloader - INFO: Initializing FDSN client(s) for GEONET.\n",
      "[2021-11-25 00:51:02,315] - obspy.clients.fdsn.mass_downloader - INFO: Successfully initialized 1 client(s): GEONET.\n",
      "[2021-11-25 00:51:02,321] - obspy.clients.fdsn.mass_downloader - INFO: Total acquired or preexisting stations: 0\n",
      "[2021-11-25 00:51:02,327] - obspy.clients.fdsn.mass_downloader - INFO: Client 'GEONET' - Requesting unreliable availability.\n"
     ]
    },
    {
     "name": "stdout",
     "output_type": "stream",
     "text": [
      "=================================================================\n",
      "Initiating mass download request.\n"
     ]
    },
    {
     "name": "stderr",
     "output_type": "stream",
     "text": [
      "[2021-11-25 00:51:02,884] - obspy.clients.fdsn.mass_downloader - INFO: Client 'GEONET' - Successfully requested availability (0.55 seconds)\n",
      "[2021-11-25 00:51:02,886] - obspy.clients.fdsn.mass_downloader - INFO: Client 'GEONET' - Found 1 stations (1 channels).\n",
      "[2021-11-25 00:51:02,886] - obspy.clients.fdsn.mass_downloader - INFO: Client 'GEONET' - Will attempt to download data from 1 stations.\n",
      "[2021-11-25 00:51:02,888] - obspy.clients.fdsn.mass_downloader - INFO: Client 'GEONET' - Status for 1 time intervals/channels before downloading: NEEDS_DOWNLOADING\n",
      "[2021-11-25 00:51:03,641] - obspy.clients.fdsn.mass_downloader - INFO: Client 'GEONET' - Successfully downloaded 1 channels (of 1)\n",
      "[2021-11-25 00:51:03,659] - obspy.clients.fdsn.mass_downloader - INFO: Client 'GEONET' - Launching basic QC checks...\n",
      "[2021-11-25 00:51:03,671] - obspy.clients.fdsn.mass_downloader - INFO: Client 'GEONET' - Downloaded 0.0 MB [3.91 KB/sec] of data, 0.0 MB of which were discarded afterwards.\n",
      "[2021-11-25 00:51:03,673] - obspy.clients.fdsn.mass_downloader - INFO: Client 'GEONET' - Status for 1 time intervals/channels after downloading: DOWNLOADED\n",
      "[2021-11-25 00:51:03,681] - obspy.clients.fdsn.mass_downloader - INFO: Client 'GEONET' - No station information to download.\n",
      "[2021-11-25 00:51:03,688] - obspy.clients.fdsn.mass_downloader - INFO: ============================== Final report\n",
      "[2021-11-25 00:51:03,690] - obspy.clients.fdsn.mass_downloader - INFO: 0 MiniSEED files [0.0 MB] already existed.\n",
      "[2021-11-25 00:51:03,691] - obspy.clients.fdsn.mass_downloader - INFO: 1 StationXML files [0.0 MB] already existed.\n",
      "[2021-11-25 00:51:03,692] - obspy.clients.fdsn.mass_downloader - INFO: Client 'GEONET' - Acquired 1 MiniSEED files [0.0 MB].\n",
      "[2021-11-25 00:51:03,692] - obspy.clients.fdsn.mass_downloader - INFO: Client 'GEONET' - Acquired 0 StationXML files [0.0 MB].\n",
      "[2021-11-25 00:51:03,693] - obspy.clients.fdsn.mass_downloader - INFO: Downloaded 0.0 MB in total.\n",
      "[2021-11-25 00:51:03,702] - obspy.clients.fdsn.mass_downloader - INFO: Initializing FDSN client(s) for GEONET.\n",
      "[2021-11-25 00:51:03,725] - obspy.clients.fdsn.mass_downloader - INFO: Successfully initialized 1 client(s): GEONET.\n",
      "[2021-11-25 00:51:03,728] - obspy.clients.fdsn.mass_downloader - INFO: Total acquired or preexisting stations: 0\n",
      "[2021-11-25 00:51:03,728] - obspy.clients.fdsn.mass_downloader - INFO: Client 'GEONET' - Requesting unreliable availability.\n"
     ]
    },
    {
     "name": "stdout",
     "output_type": "stream",
     "text": [
      "=================================================================\n",
      "Initiating mass download request.\n"
     ]
    },
    {
     "name": "stderr",
     "output_type": "stream",
     "text": [
      "[2021-11-25 00:51:04,438] - obspy.clients.fdsn.mass_downloader - INFO: Client 'GEONET' - Successfully requested availability (0.71 seconds)\n",
      "[2021-11-25 00:51:04,444] - obspy.clients.fdsn.mass_downloader - INFO: Client 'GEONET' - Found 1 stations (1 channels).\n",
      "[2021-11-25 00:51:04,446] - obspy.clients.fdsn.mass_downloader - INFO: Client 'GEONET' - Will attempt to download data from 1 stations.\n",
      "[2021-11-25 00:51:04,448] - obspy.clients.fdsn.mass_downloader - INFO: Client 'GEONET' - Status for 1 time intervals/channels before downloading: NEEDS_DOWNLOADING\n",
      "[2021-11-25 00:51:05,630] - obspy.clients.fdsn.mass_downloader - INFO: Client 'GEONET' - Successfully downloaded 1 channels (of 1)\n",
      "[2021-11-25 00:51:05,737] - obspy.clients.fdsn.mass_downloader - INFO: Client 'GEONET' - Launching basic QC checks...\n",
      "[2021-11-25 00:51:05,847] - obspy.clients.fdsn.mass_downloader - INFO: Client 'GEONET' - Downloaded 0.0 MB [3.52 KB/sec] of data, 0.0 MB of which were discarded afterwards.\n",
      "[2021-11-25 00:51:05,853] - obspy.clients.fdsn.mass_downloader - INFO: Client 'GEONET' - Status for 1 time intervals/channels after downloading: DOWNLOADED\n",
      "[2021-11-25 00:51:05,901] - obspy.clients.fdsn.mass_downloader - INFO: Client 'GEONET' - No station information to download.\n",
      "[2021-11-25 00:51:05,907] - obspy.clients.fdsn.mass_downloader - INFO: ============================== Final report\n",
      "[2021-11-25 00:51:05,911] - obspy.clients.fdsn.mass_downloader - INFO: 0 MiniSEED files [0.0 MB] already existed.\n",
      "[2021-11-25 00:51:05,915] - obspy.clients.fdsn.mass_downloader - INFO: 1 StationXML files [0.0 MB] already existed.\n",
      "[2021-11-25 00:51:05,920] - obspy.clients.fdsn.mass_downloader - INFO: Client 'GEONET' - Acquired 1 MiniSEED files [0.0 MB].\n",
      "[2021-11-25 00:51:05,928] - obspy.clients.fdsn.mass_downloader - INFO: Client 'GEONET' - Acquired 0 StationXML files [0.0 MB].\n",
      "[2021-11-25 00:51:05,934] - obspy.clients.fdsn.mass_downloader - INFO: Downloaded 0.0 MB in total.\n",
      "[2021-11-25 00:51:05,960] - obspy.clients.fdsn.mass_downloader - INFO: Initializing FDSN client(s) for GEONET.\n",
      "[2021-11-25 00:51:06,002] - obspy.clients.fdsn.mass_downloader - INFO: Successfully initialized 1 client(s): GEONET.\n",
      "[2021-11-25 00:51:06,002] - obspy.clients.fdsn.mass_downloader - INFO: Total acquired or preexisting stations: 0\n",
      "[2021-11-25 00:51:06,003] - obspy.clients.fdsn.mass_downloader - INFO: Client 'GEONET' - Requesting unreliable availability.\n"
     ]
    },
    {
     "name": "stdout",
     "output_type": "stream",
     "text": [
      "=================================================================\n",
      "Initiating mass download request.\n"
     ]
    },
    {
     "name": "stderr",
     "output_type": "stream",
     "text": [
      "[2021-11-25 00:51:06,746] - obspy.clients.fdsn.mass_downloader - INFO: Client 'GEONET' - Successfully requested availability (0.74 seconds)\n",
      "[2021-11-25 00:51:06,775] - obspy.clients.fdsn.mass_downloader - INFO: Client 'GEONET' - Found 1 stations (1 channels).\n",
      "[2021-11-25 00:51:06,785] - obspy.clients.fdsn.mass_downloader - INFO: Client 'GEONET' - Will attempt to download data from 1 stations.\n",
      "[2021-11-25 00:51:06,790] - obspy.clients.fdsn.mass_downloader - INFO: Client 'GEONET' - Status for 1 time intervals/channels before downloading: NEEDS_DOWNLOADING\n",
      "[2021-11-25 00:51:07,667] - obspy.clients.fdsn.mass_downloader - INFO: Client 'GEONET' - Successfully downloaded 1 channels (of 1)\n",
      "[2021-11-25 00:51:07,789] - obspy.clients.fdsn.mass_downloader - INFO: Client 'GEONET' - Launching basic QC checks...\n",
      "[2021-11-25 00:51:07,833] - obspy.clients.fdsn.mass_downloader - INFO: Client 'GEONET' - Downloaded 0.0 MB [3.03 KB/sec] of data, 0.0 MB of which were discarded afterwards.\n",
      "[2021-11-25 00:51:07,847] - obspy.clients.fdsn.mass_downloader - INFO: Client 'GEONET' - Status for 1 time intervals/channels after downloading: DOWNLOADED\n",
      "[2021-11-25 00:51:07,886] - obspy.clients.fdsn.mass_downloader - INFO: Client 'GEONET' - No station information to download.\n",
      "[2021-11-25 00:51:07,899] - obspy.clients.fdsn.mass_downloader - INFO: ============================== Final report\n",
      "[2021-11-25 00:51:07,918] - obspy.clients.fdsn.mass_downloader - INFO: 0 MiniSEED files [0.0 MB] already existed.\n",
      "[2021-11-25 00:51:07,930] - obspy.clients.fdsn.mass_downloader - INFO: 1 StationXML files [0.0 MB] already existed.\n",
      "[2021-11-25 00:51:07,935] - obspy.clients.fdsn.mass_downloader - INFO: Client 'GEONET' - Acquired 1 MiniSEED files [0.0 MB].\n",
      "[2021-11-25 00:51:07,939] - obspy.clients.fdsn.mass_downloader - INFO: Client 'GEONET' - Acquired 0 StationXML files [0.0 MB].\n",
      "[2021-11-25 00:51:07,940] - obspy.clients.fdsn.mass_downloader - INFO: Downloaded 0.0 MB in total.\n",
      "[2021-11-25 00:51:07,953] - obspy.clients.fdsn.mass_downloader - INFO: Initializing FDSN client(s) for GEONET.\n",
      "[2021-11-25 00:51:08,080] - obspy.clients.fdsn.mass_downloader - INFO: Successfully initialized 1 client(s): GEONET.\n",
      "[2021-11-25 00:51:08,101] - obspy.clients.fdsn.mass_downloader - INFO: Total acquired or preexisting stations: 0\n",
      "[2021-11-25 00:51:08,120] - obspy.clients.fdsn.mass_downloader - INFO: Client 'GEONET' - Requesting unreliable availability.\n"
     ]
    },
    {
     "name": "stdout",
     "output_type": "stream",
     "text": [
      "=================================================================\n",
      "Initiating mass download request.\n"
     ]
    },
    {
     "name": "stderr",
     "output_type": "stream",
     "text": [
      "[2021-11-25 00:51:08,855] - obspy.clients.fdsn.mass_downloader - INFO: Client 'GEONET' - Successfully requested availability (0.69 seconds)\n",
      "[2021-11-25 00:51:08,939] - obspy.clients.fdsn.mass_downloader - INFO: Client 'GEONET' - Found 1 stations (1 channels).\n",
      "[2021-11-25 00:51:08,973] - obspy.clients.fdsn.mass_downloader - INFO: Client 'GEONET' - Will attempt to download data from 1 stations.\n",
      "[2021-11-25 00:51:08,999] - obspy.clients.fdsn.mass_downloader - INFO: Client 'GEONET' - Status for 1 time intervals/channels before downloading: NEEDS_DOWNLOADING\n",
      "[2021-11-25 00:51:10,050] - obspy.clients.fdsn.mass_downloader - INFO: Client 'GEONET' - Successfully downloaded 1 channels (of 1)\n",
      "[2021-11-25 00:51:10,098] - obspy.clients.fdsn.mass_downloader - INFO: Client 'GEONET' - Launching basic QC checks...\n",
      "[2021-11-25 00:51:10,134] - obspy.clients.fdsn.mass_downloader - INFO: Client 'GEONET' - Downloaded 0.0 MB [2.47 KB/sec] of data, 0.0 MB of which were discarded afterwards.\n",
      "[2021-11-25 00:51:10,144] - obspy.clients.fdsn.mass_downloader - INFO: Client 'GEONET' - Status for 1 time intervals/channels after downloading: DOWNLOADED\n",
      "[2021-11-25 00:51:10,154] - obspy.clients.fdsn.mass_downloader - INFO: Client 'GEONET' - No station information to download.\n",
      "[2021-11-25 00:51:10,162] - obspy.clients.fdsn.mass_downloader - INFO: ============================== Final report\n",
      "[2021-11-25 00:51:10,170] - obspy.clients.fdsn.mass_downloader - INFO: 0 MiniSEED files [0.0 MB] already existed.\n",
      "[2021-11-25 00:51:10,178] - obspy.clients.fdsn.mass_downloader - INFO: 1 StationXML files [0.0 MB] already existed.\n",
      "[2021-11-25 00:51:10,185] - obspy.clients.fdsn.mass_downloader - INFO: Client 'GEONET' - Acquired 1 MiniSEED files [0.0 MB].\n",
      "[2021-11-25 00:51:10,188] - obspy.clients.fdsn.mass_downloader - INFO: Client 'GEONET' - Acquired 0 StationXML files [0.0 MB].\n",
      "[2021-11-25 00:51:10,192] - obspy.clients.fdsn.mass_downloader - INFO: Downloaded 0.0 MB in total.\n",
      "[2021-11-25 00:51:10,259] - obspy.clients.fdsn.mass_downloader - INFO: Initializing FDSN client(s) for GEONET.\n",
      "[2021-11-25 00:51:10,283] - obspy.clients.fdsn.mass_downloader - INFO: Successfully initialized 1 client(s): GEONET.\n",
      "[2021-11-25 00:51:10,291] - obspy.clients.fdsn.mass_downloader - INFO: Total acquired or preexisting stations: 0\n",
      "[2021-11-25 00:51:10,297] - obspy.clients.fdsn.mass_downloader - INFO: Client 'GEONET' - Requesting unreliable availability.\n"
     ]
    },
    {
     "name": "stdout",
     "output_type": "stream",
     "text": [
      "=================================================================\n",
      "Initiating mass download request.\n"
     ]
    },
    {
     "name": "stderr",
     "output_type": "stream",
     "text": [
      "[2021-11-25 00:51:10,915] - obspy.clients.fdsn.mass_downloader - INFO: Client 'GEONET' - Successfully requested availability (0.62 seconds)\n",
      "[2021-11-25 00:51:10,926] - obspy.clients.fdsn.mass_downloader - INFO: Client 'GEONET' - Found 1 stations (1 channels).\n",
      "[2021-11-25 00:51:10,929] - obspy.clients.fdsn.mass_downloader - INFO: Client 'GEONET' - Will attempt to download data from 1 stations.\n",
      "[2021-11-25 00:51:10,931] - obspy.clients.fdsn.mass_downloader - INFO: Client 'GEONET' - Status for 1 time intervals/channels before downloading: NEEDS_DOWNLOADING\n",
      "[2021-11-25 00:51:11,753] - obspy.clients.fdsn.mass_downloader - INFO: Client 'GEONET' - Successfully downloaded 1 channels (of 1)\n",
      "[2021-11-25 00:51:11,820] - obspy.clients.fdsn.mass_downloader - INFO: Client 'GEONET' - Launching basic QC checks...\n",
      "[2021-11-25 00:51:11,844] - obspy.clients.fdsn.mass_downloader - INFO: Client 'GEONET' - Downloaded 0.0 MB [3.43 KB/sec] of data, 0.0 MB of which were discarded afterwards.\n",
      "[2021-11-25 00:51:11,852] - obspy.clients.fdsn.mass_downloader - INFO: Client 'GEONET' - Status for 1 time intervals/channels after downloading: DOWNLOADED\n",
      "[2021-11-25 00:51:11,861] - obspy.clients.fdsn.mass_downloader - INFO: Client 'GEONET' - No station information to download.\n",
      "[2021-11-25 00:51:11,867] - obspy.clients.fdsn.mass_downloader - INFO: ============================== Final report\n",
      "[2021-11-25 00:51:11,872] - obspy.clients.fdsn.mass_downloader - INFO: 0 MiniSEED files [0.0 MB] already existed.\n",
      "[2021-11-25 00:51:11,873] - obspy.clients.fdsn.mass_downloader - INFO: 1 StationXML files [0.0 MB] already existed.\n",
      "[2021-11-25 00:51:11,878] - obspy.clients.fdsn.mass_downloader - INFO: Client 'GEONET' - Acquired 1 MiniSEED files [0.0 MB].\n",
      "[2021-11-25 00:51:11,879] - obspy.clients.fdsn.mass_downloader - INFO: Client 'GEONET' - Acquired 0 StationXML files [0.0 MB].\n",
      "[2021-11-25 00:51:11,879] - obspy.clients.fdsn.mass_downloader - INFO: Downloaded 0.0 MB in total.\n",
      "[2021-11-25 00:51:11,901] - obspy.clients.fdsn.mass_downloader - INFO: Initializing FDSN client(s) for GEONET.\n",
      "[2021-11-25 00:51:11,941] - obspy.clients.fdsn.mass_downloader - INFO: Successfully initialized 1 client(s): GEONET.\n",
      "[2021-11-25 00:51:11,952] - obspy.clients.fdsn.mass_downloader - INFO: Total acquired or preexisting stations: 0\n",
      "[2021-11-25 00:51:11,958] - obspy.clients.fdsn.mass_downloader - INFO: Client 'GEONET' - Requesting unreliable availability.\n"
     ]
    },
    {
     "name": "stdout",
     "output_type": "stream",
     "text": [
      "=================================================================\n",
      "Initiating mass download request.\n"
     ]
    },
    {
     "name": "stderr",
     "output_type": "stream",
     "text": [
      "[2021-11-25 00:51:12,510] - obspy.clients.fdsn.mass_downloader - INFO: Client 'GEONET' - No data available for request.\n",
      "[2021-11-25 00:51:12,546] - obspy.clients.fdsn.mass_downloader - INFO: Client 'GEONET' - No data available.\n",
      "[2021-11-25 00:51:12,568] - obspy.clients.fdsn.mass_downloader - INFO: ============================== Final report\n",
      "[2021-11-25 00:51:12,580] - obspy.clients.fdsn.mass_downloader - INFO: 0 MiniSEED files [0.0 MB] already existed.\n",
      "[2021-11-25 00:51:12,586] - obspy.clients.fdsn.mass_downloader - INFO: 0 StationXML files [0.0 MB] already existed.\n",
      "[2021-11-25 00:51:12,594] - obspy.clients.fdsn.mass_downloader - INFO: Client 'GEONET' - Acquired 0 MiniSEED files [0.0 MB].\n",
      "[2021-11-25 00:51:12,605] - obspy.clients.fdsn.mass_downloader - INFO: Client 'GEONET' - Acquired 0 StationXML files [0.0 MB].\n",
      "[2021-11-25 00:51:12,611] - obspy.clients.fdsn.mass_downloader - INFO: Downloaded 0.0 MB in total.\n",
      "[2021-11-25 00:51:12,676] - obspy.clients.fdsn.mass_downloader - INFO: Initializing FDSN client(s) for GEONET.\n",
      "[2021-11-25 00:51:12,744] - obspy.clients.fdsn.mass_downloader - INFO: Successfully initialized 1 client(s): GEONET.\n",
      "[2021-11-25 00:51:12,755] - obspy.clients.fdsn.mass_downloader - INFO: Total acquired or preexisting stations: 0\n",
      "[2021-11-25 00:51:12,761] - obspy.clients.fdsn.mass_downloader - INFO: Client 'GEONET' - Requesting unreliable availability.\n"
     ]
    },
    {
     "name": "stdout",
     "output_type": "stream",
     "text": [
      "=================================================================\n",
      "Initiating mass download request.\n"
     ]
    },
    {
     "name": "stderr",
     "output_type": "stream",
     "text": [
      "[2021-11-25 00:51:13,463] - obspy.clients.fdsn.mass_downloader - INFO: Client 'GEONET' - Successfully requested availability (0.69 seconds)\n",
      "[2021-11-25 00:51:13,475] - obspy.clients.fdsn.mass_downloader - INFO: Client 'GEONET' - Found 1 stations (1 channels).\n",
      "[2021-11-25 00:51:13,477] - obspy.clients.fdsn.mass_downloader - INFO: Client 'GEONET' - Will attempt to download data from 1 stations.\n",
      "[2021-11-25 00:51:13,479] - obspy.clients.fdsn.mass_downloader - INFO: Client 'GEONET' - Status for 1 time intervals/channels before downloading: NEEDS_DOWNLOADING\n",
      "[2021-11-25 00:51:14,406] - obspy.clients.fdsn.mass_downloader - INFO: Client 'GEONET' - Successfully downloaded 1 channels (of 1)\n",
      "[2021-11-25 00:51:14,470] - obspy.clients.fdsn.mass_downloader - INFO: Client 'GEONET' - Launching basic QC checks...\n",
      "[2021-11-25 00:51:14,508] - obspy.clients.fdsn.mass_downloader - INFO: Client 'GEONET' - Downloaded 0.0 MB [3.05 KB/sec] of data, 0.0 MB of which were discarded afterwards.\n",
      "[2021-11-25 00:51:14,513] - obspy.clients.fdsn.mass_downloader - INFO: Client 'GEONET' - Status for 1 time intervals/channels after downloading: DOWNLOADED\n",
      "[2021-11-25 00:51:14,522] - obspy.clients.fdsn.mass_downloader - INFO: Client 'GEONET' - No station information to download.\n",
      "[2021-11-25 00:51:14,554] - obspy.clients.fdsn.mass_downloader - INFO: ============================== Final report\n",
      "[2021-11-25 00:51:14,559] - obspy.clients.fdsn.mass_downloader - INFO: 0 MiniSEED files [0.0 MB] already existed.\n",
      "[2021-11-25 00:51:14,566] - obspy.clients.fdsn.mass_downloader - INFO: 1 StationXML files [0.0 MB] already existed.\n",
      "[2021-11-25 00:51:14,566] - obspy.clients.fdsn.mass_downloader - INFO: Client 'GEONET' - Acquired 1 MiniSEED files [0.0 MB].\n",
      "[2021-11-25 00:51:14,567] - obspy.clients.fdsn.mass_downloader - INFO: Client 'GEONET' - Acquired 0 StationXML files [0.0 MB].\n",
      "[2021-11-25 00:51:14,567] - obspy.clients.fdsn.mass_downloader - INFO: Downloaded 0.0 MB in total.\n",
      "[2021-11-25 00:51:14,586] - obspy.clients.fdsn.mass_downloader - INFO: Initializing FDSN client(s) for GEONET.\n",
      "[2021-11-25 00:51:14,645] - obspy.clients.fdsn.mass_downloader - INFO: Successfully initialized 1 client(s): GEONET.\n",
      "[2021-11-25 00:51:14,652] - obspy.clients.fdsn.mass_downloader - INFO: Total acquired or preexisting stations: 0\n",
      "[2021-11-25 00:51:14,654] - obspy.clients.fdsn.mass_downloader - INFO: Client 'GEONET' - Requesting unreliable availability.\n"
     ]
    },
    {
     "name": "stdout",
     "output_type": "stream",
     "text": [
      "=================================================================\n",
      "Initiating mass download request.\n"
     ]
    },
    {
     "name": "stderr",
     "output_type": "stream",
     "text": [
      "[2021-11-25 00:51:15,359] - obspy.clients.fdsn.mass_downloader - INFO: Client 'GEONET' - Successfully requested availability (0.70 seconds)\n",
      "[2021-11-25 00:51:15,375] - obspy.clients.fdsn.mass_downloader - INFO: Client 'GEONET' - Found 1 stations (1 channels).\n",
      "[2021-11-25 00:51:15,382] - obspy.clients.fdsn.mass_downloader - INFO: Client 'GEONET' - Will attempt to download data from 1 stations.\n",
      "[2021-11-25 00:51:15,392] - obspy.clients.fdsn.mass_downloader - INFO: Client 'GEONET' - Status for 1 time intervals/channels before downloading: NEEDS_DOWNLOADING\n",
      "[2021-11-25 00:51:16,424] - obspy.clients.fdsn.mass_downloader - INFO: Client 'GEONET' - Successfully downloaded 1 channels (of 1)\n",
      "[2021-11-25 00:51:16,467] - obspy.clients.fdsn.mass_downloader - INFO: Client 'GEONET' - Launching basic QC checks...\n",
      "[2021-11-25 00:51:16,538] - obspy.clients.fdsn.mass_downloader - INFO: Client 'GEONET' - Downloaded 0.0 MB [2.91 KB/sec] of data, 0.0 MB of which were discarded afterwards.\n",
      "[2021-11-25 00:51:16,547] - obspy.clients.fdsn.mass_downloader - INFO: Client 'GEONET' - Status for 1 time intervals/channels after downloading: DOWNLOADED\n",
      "[2021-11-25 00:51:16,564] - obspy.clients.fdsn.mass_downloader - INFO: Client 'GEONET' - No station information to download.\n",
      "[2021-11-25 00:51:16,572] - obspy.clients.fdsn.mass_downloader - INFO: ============================== Final report\n",
      "[2021-11-25 00:51:16,580] - obspy.clients.fdsn.mass_downloader - INFO: 0 MiniSEED files [0.0 MB] already existed.\n",
      "[2021-11-25 00:51:16,588] - obspy.clients.fdsn.mass_downloader - INFO: 1 StationXML files [0.0 MB] already existed.\n",
      "[2021-11-25 00:51:16,592] - obspy.clients.fdsn.mass_downloader - INFO: Client 'GEONET' - Acquired 1 MiniSEED files [0.0 MB].\n",
      "[2021-11-25 00:51:16,593] - obspy.clients.fdsn.mass_downloader - INFO: Client 'GEONET' - Acquired 0 StationXML files [0.0 MB].\n",
      "[2021-11-25 00:51:16,593] - obspy.clients.fdsn.mass_downloader - INFO: Downloaded 0.0 MB in total.\n",
      "[2021-11-25 00:51:16,625] - obspy.clients.fdsn.mass_downloader - INFO: Initializing FDSN client(s) for GEONET.\n",
      "[2021-11-25 00:51:16,680] - obspy.clients.fdsn.mass_downloader - INFO: Successfully initialized 1 client(s): GEONET.\n",
      "[2021-11-25 00:51:16,684] - obspy.clients.fdsn.mass_downloader - INFO: Total acquired or preexisting stations: 0\n",
      "[2021-11-25 00:51:16,691] - obspy.clients.fdsn.mass_downloader - INFO: Client 'GEONET' - Requesting unreliable availability.\n"
     ]
    },
    {
     "name": "stdout",
     "output_type": "stream",
     "text": [
      "=================================================================\n",
      "Initiating mass download request.\n"
     ]
    },
    {
     "name": "stderr",
     "output_type": "stream",
     "text": [
      "[2021-11-25 00:51:17,426] - obspy.clients.fdsn.mass_downloader - INFO: Client 'GEONET' - Successfully requested availability (0.73 seconds)\n",
      "[2021-11-25 00:51:17,431] - obspy.clients.fdsn.mass_downloader - INFO: Client 'GEONET' - Found 1 stations (1 channels).\n",
      "[2021-11-25 00:51:17,437] - obspy.clients.fdsn.mass_downloader - INFO: Client 'GEONET' - Will attempt to download data from 1 stations.\n",
      "[2021-11-25 00:51:17,443] - obspy.clients.fdsn.mass_downloader - INFO: Client 'GEONET' - Status for 1 time intervals/channels before downloading: NEEDS_DOWNLOADING\n",
      "[2021-11-25 00:51:18,262] - obspy.clients.fdsn.mass_downloader - INFO: Client 'GEONET' - Successfully downloaded 1 channels (of 1)\n",
      "[2021-11-25 00:51:18,309] - obspy.clients.fdsn.mass_downloader - INFO: Client 'GEONET' - Launching basic QC checks...\n",
      "[2021-11-25 00:51:18,347] - obspy.clients.fdsn.mass_downloader - INFO: Client 'GEONET' - Downloaded 0.0 MB [3.54 KB/sec] of data, 0.0 MB of which were discarded afterwards.\n",
      "[2021-11-25 00:51:18,351] - obspy.clients.fdsn.mass_downloader - INFO: Client 'GEONET' - Status for 1 time intervals/channels after downloading: DOWNLOADED\n",
      "[2021-11-25 00:51:18,369] - obspy.clients.fdsn.mass_downloader - INFO: Client 'GEONET' - No station information to download.\n",
      "[2021-11-25 00:51:18,373] - obspy.clients.fdsn.mass_downloader - INFO: ============================== Final report\n",
      "[2021-11-25 00:51:18,377] - obspy.clients.fdsn.mass_downloader - INFO: 0 MiniSEED files [0.0 MB] already existed.\n",
      "[2021-11-25 00:51:18,378] - obspy.clients.fdsn.mass_downloader - INFO: 1 StationXML files [0.0 MB] already existed.\n",
      "[2021-11-25 00:51:18,379] - obspy.clients.fdsn.mass_downloader - INFO: Client 'GEONET' - Acquired 1 MiniSEED files [0.0 MB].\n",
      "[2021-11-25 00:51:18,379] - obspy.clients.fdsn.mass_downloader - INFO: Client 'GEONET' - Acquired 0 StationXML files [0.0 MB].\n",
      "[2021-11-25 00:51:18,379] - obspy.clients.fdsn.mass_downloader - INFO: Downloaded 0.0 MB in total.\n",
      "[2021-11-25 00:51:18,409] - obspy.clients.fdsn.mass_downloader - INFO: Initializing FDSN client(s) for GEONET.\n",
      "[2021-11-25 00:51:18,428] - obspy.clients.fdsn.mass_downloader - INFO: Successfully initialized 1 client(s): GEONET.\n",
      "[2021-11-25 00:51:18,431] - obspy.clients.fdsn.mass_downloader - INFO: Total acquired or preexisting stations: 0\n",
      "[2021-11-25 00:51:18,435] - obspy.clients.fdsn.mass_downloader - INFO: Client 'GEONET' - Requesting unreliable availability.\n"
     ]
    },
    {
     "name": "stdout",
     "output_type": "stream",
     "text": [
      "=================================================================\n",
      "Initiating mass download request.\n"
     ]
    },
    {
     "name": "stderr",
     "output_type": "stream",
     "text": [
      "[2021-11-25 00:51:19,027] - obspy.clients.fdsn.mass_downloader - INFO: Client 'GEONET' - Successfully requested availability (0.59 seconds)\n",
      "[2021-11-25 00:51:19,057] - obspy.clients.fdsn.mass_downloader - INFO: Client 'GEONET' - Found 1 stations (1 channels).\n",
      "[2021-11-25 00:51:19,065] - obspy.clients.fdsn.mass_downloader - INFO: Client 'GEONET' - Will attempt to download data from 1 stations.\n",
      "[2021-11-25 00:51:19,075] - obspy.clients.fdsn.mass_downloader - INFO: Client 'GEONET' - Status for 1 time intervals/channels before downloading: NEEDS_DOWNLOADING\n",
      "[2021-11-25 00:51:20,020] - obspy.clients.fdsn.mass_downloader - INFO: Client 'GEONET' - Successfully downloaded 1 channels (of 1)\n",
      "[2021-11-25 00:51:20,085] - obspy.clients.fdsn.mass_downloader - INFO: Client 'GEONET' - Launching basic QC checks...\n",
      "[2021-11-25 00:51:20,136] - obspy.clients.fdsn.mass_downloader - INFO: Client 'GEONET' - Downloaded 0.0 MB [2.64 KB/sec] of data, 0.0 MB of which were discarded afterwards.\n",
      "[2021-11-25 00:51:20,143] - obspy.clients.fdsn.mass_downloader - INFO: Client 'GEONET' - Status for 1 time intervals/channels after downloading: DOWNLOADED\n",
      "[2021-11-25 00:51:20,156] - obspy.clients.fdsn.mass_downloader - INFO: Client 'GEONET' - No station information to download.\n",
      "[2021-11-25 00:51:20,161] - obspy.clients.fdsn.mass_downloader - INFO: ============================== Final report\n",
      "[2021-11-25 00:51:20,167] - obspy.clients.fdsn.mass_downloader - INFO: 0 MiniSEED files [0.0 MB] already existed.\n",
      "[2021-11-25 00:51:20,171] - obspy.clients.fdsn.mass_downloader - INFO: 1 StationXML files [0.0 MB] already existed.\n",
      "[2021-11-25 00:51:20,172] - obspy.clients.fdsn.mass_downloader - INFO: Client 'GEONET' - Acquired 1 MiniSEED files [0.0 MB].\n",
      "[2021-11-25 00:51:20,178] - obspy.clients.fdsn.mass_downloader - INFO: Client 'GEONET' - Acquired 0 StationXML files [0.0 MB].\n",
      "[2021-11-25 00:51:20,185] - obspy.clients.fdsn.mass_downloader - INFO: Downloaded 0.0 MB in total.\n",
      "[2021-11-25 00:51:20,219] - obspy.clients.fdsn.mass_downloader - INFO: Initializing FDSN client(s) for GEONET.\n",
      "[2021-11-25 00:51:20,321] - obspy.clients.fdsn.mass_downloader - INFO: Successfully initialized 1 client(s): GEONET.\n",
      "[2021-11-25 00:51:20,323] - obspy.clients.fdsn.mass_downloader - INFO: Total acquired or preexisting stations: 0\n",
      "[2021-11-25 00:51:20,327] - obspy.clients.fdsn.mass_downloader - INFO: Client 'GEONET' - Requesting unreliable availability.\n"
     ]
    },
    {
     "name": "stdout",
     "output_type": "stream",
     "text": [
      "=================================================================\n",
      "Initiating mass download request.\n"
     ]
    },
    {
     "name": "stderr",
     "output_type": "stream",
     "text": [
      "[2021-11-25 00:51:20,915] - obspy.clients.fdsn.mass_downloader - INFO: Client 'GEONET' - Successfully requested availability (0.58 seconds)\n",
      "[2021-11-25 00:51:20,935] - obspy.clients.fdsn.mass_downloader - INFO: Client 'GEONET' - Found 1 stations (1 channels).\n",
      "[2021-11-25 00:51:20,947] - obspy.clients.fdsn.mass_downloader - INFO: Client 'GEONET' - Will attempt to download data from 1 stations.\n",
      "[2021-11-25 00:51:20,968] - obspy.clients.fdsn.mass_downloader - INFO: Client 'GEONET' - Status for 1 time intervals/channels before downloading: NEEDS_DOWNLOADING\n",
      "[2021-11-25 00:51:21,978] - obspy.clients.fdsn.mass_downloader - INFO: Client 'GEONET' - Successfully downloaded 1 channels (of 1)\n",
      "[2021-11-25 00:51:22,014] - obspy.clients.fdsn.mass_downloader - INFO: Client 'GEONET' - Launching basic QC checks...\n",
      "[2021-11-25 00:51:22,052] - obspy.clients.fdsn.mass_downloader - INFO: Client 'GEONET' - Downloaded 0.0 MB [3.46 KB/sec] of data, 0.0 MB of which were discarded afterwards.\n",
      "[2021-11-25 00:51:22,080] - obspy.clients.fdsn.mass_downloader - INFO: Client 'GEONET' - Status for 1 time intervals/channels after downloading: DOWNLOADED\n",
      "[2021-11-25 00:51:22,151] - obspy.clients.fdsn.mass_downloader - INFO: Client 'GEONET' - No station information to download.\n",
      "[2021-11-25 00:51:22,164] - obspy.clients.fdsn.mass_downloader - INFO: ============================== Final report\n",
      "[2021-11-25 00:51:22,173] - obspy.clients.fdsn.mass_downloader - INFO: 0 MiniSEED files [0.0 MB] already existed.\n",
      "[2021-11-25 00:51:22,174] - obspy.clients.fdsn.mass_downloader - INFO: 1 StationXML files [0.0 MB] already existed.\n",
      "[2021-11-25 00:51:22,175] - obspy.clients.fdsn.mass_downloader - INFO: Client 'GEONET' - Acquired 1 MiniSEED files [0.0 MB].\n",
      "[2021-11-25 00:51:22,176] - obspy.clients.fdsn.mass_downloader - INFO: Client 'GEONET' - Acquired 0 StationXML files [0.0 MB].\n",
      "[2021-11-25 00:51:22,180] - obspy.clients.fdsn.mass_downloader - INFO: Downloaded 0.0 MB in total.\n",
      "[2021-11-25 00:51:22,216] - obspy.clients.fdsn.mass_downloader - INFO: Initializing FDSN client(s) for GEONET.\n",
      "[2021-11-25 00:51:22,314] - obspy.clients.fdsn.mass_downloader - INFO: Successfully initialized 1 client(s): GEONET.\n",
      "[2021-11-25 00:51:22,354] - obspy.clients.fdsn.mass_downloader - INFO: Total acquired or preexisting stations: 0\n",
      "[2021-11-25 00:51:22,368] - obspy.clients.fdsn.mass_downloader - INFO: Client 'GEONET' - Requesting unreliable availability.\n"
     ]
    },
    {
     "name": "stdout",
     "output_type": "stream",
     "text": [
      "=================================================================\n",
      "Initiating mass download request.\n"
     ]
    },
    {
     "name": "stderr",
     "output_type": "stream",
     "text": [
      "[2021-11-25 00:51:23,127] - obspy.clients.fdsn.mass_downloader - INFO: Client 'GEONET' - Successfully requested availability (0.75 seconds)\n",
      "[2021-11-25 00:51:23,153] - obspy.clients.fdsn.mass_downloader - INFO: Client 'GEONET' - Found 1 stations (1 channels).\n",
      "[2021-11-25 00:51:23,162] - obspy.clients.fdsn.mass_downloader - INFO: Client 'GEONET' - Will attempt to download data from 1 stations.\n",
      "[2021-11-25 00:51:23,172] - obspy.clients.fdsn.mass_downloader - INFO: Client 'GEONET' - Status for 1 time intervals/channels before downloading: NEEDS_DOWNLOADING\n",
      "[2021-11-25 00:51:24,054] - obspy.clients.fdsn.mass_downloader - INFO: Client 'GEONET' - Successfully downloaded 1 channels (of 1)\n",
      "[2021-11-25 00:51:24,160] - obspy.clients.fdsn.mass_downloader - INFO: Client 'GEONET' - Launching basic QC checks...\n",
      "[2021-11-25 00:51:24,203] - obspy.clients.fdsn.mass_downloader - INFO: Client 'GEONET' - Downloaded 0.0 MB [3.17 KB/sec] of data, 0.0 MB of which were discarded afterwards.\n",
      "[2021-11-25 00:51:24,210] - obspy.clients.fdsn.mass_downloader - INFO: Client 'GEONET' - Status for 1 time intervals/channels after downloading: DOWNLOADED\n",
      "[2021-11-25 00:51:24,230] - obspy.clients.fdsn.mass_downloader - INFO: Client 'GEONET' - No station information to download.\n",
      "[2021-11-25 00:51:24,242] - obspy.clients.fdsn.mass_downloader - INFO: ============================== Final report\n",
      "[2021-11-25 00:51:24,251] - obspy.clients.fdsn.mass_downloader - INFO: 0 MiniSEED files [0.0 MB] already existed.\n",
      "[2021-11-25 00:51:24,253] - obspy.clients.fdsn.mass_downloader - INFO: 1 StationXML files [0.0 MB] already existed.\n",
      "[2021-11-25 00:51:24,253] - obspy.clients.fdsn.mass_downloader - INFO: Client 'GEONET' - Acquired 1 MiniSEED files [0.0 MB].\n",
      "[2021-11-25 00:51:24,254] - obspy.clients.fdsn.mass_downloader - INFO: Client 'GEONET' - Acquired 0 StationXML files [0.0 MB].\n",
      "[2021-11-25 00:51:24,254] - obspy.clients.fdsn.mass_downloader - INFO: Downloaded 0.0 MB in total.\n",
      "[2021-11-25 00:51:24,305] - obspy.clients.fdsn.mass_downloader - INFO: Initializing FDSN client(s) for GEONET.\n",
      "[2021-11-25 00:51:24,340] - obspy.clients.fdsn.mass_downloader - INFO: Successfully initialized 1 client(s): GEONET.\n",
      "[2021-11-25 00:51:24,345] - obspy.clients.fdsn.mass_downloader - INFO: Total acquired or preexisting stations: 0\n",
      "[2021-11-25 00:51:24,350] - obspy.clients.fdsn.mass_downloader - INFO: Client 'GEONET' - Requesting unreliable availability.\n"
     ]
    },
    {
     "name": "stdout",
     "output_type": "stream",
     "text": [
      "=================================================================\n",
      "Initiating mass download request.\n"
     ]
    },
    {
     "name": "stderr",
     "output_type": "stream",
     "text": [
      "[2021-11-25 00:51:25,492] - obspy.clients.fdsn.mass_downloader - INFO: Client 'GEONET' - Successfully requested availability (1.14 seconds)\n",
      "[2021-11-25 00:51:25,506] - obspy.clients.fdsn.mass_downloader - INFO: Client 'GEONET' - Found 1 stations (1 channels).\n",
      "[2021-11-25 00:51:25,522] - obspy.clients.fdsn.mass_downloader - INFO: Client 'GEONET' - Will attempt to download data from 1 stations.\n",
      "[2021-11-25 00:51:25,534] - obspy.clients.fdsn.mass_downloader - INFO: Client 'GEONET' - Status for 1 time intervals/channels before downloading: NEEDS_DOWNLOADING\n",
      "[2021-11-25 00:51:26,479] - obspy.clients.fdsn.mass_downloader - INFO: Client 'GEONET' - Successfully downloaded 1 channels (of 1)\n",
      "[2021-11-25 00:51:26,515] - obspy.clients.fdsn.mass_downloader - INFO: Client 'GEONET' - Launching basic QC checks...\n",
      "[2021-11-25 00:51:26,629] - obspy.clients.fdsn.mass_downloader - INFO: Client 'GEONET' - Downloaded 0.0 MB [2.61 KB/sec] of data, 0.0 MB of which were discarded afterwards.\n",
      "[2021-11-25 00:51:26,634] - obspy.clients.fdsn.mass_downloader - INFO: Client 'GEONET' - Status for 1 time intervals/channels after downloading: DOWNLOADED\n",
      "[2021-11-25 00:51:26,645] - obspy.clients.fdsn.mass_downloader - INFO: Client 'GEONET' - No station information to download.\n",
      "[2021-11-25 00:51:26,667] - obspy.clients.fdsn.mass_downloader - INFO: ============================== Final report\n",
      "[2021-11-25 00:51:26,669] - obspy.clients.fdsn.mass_downloader - INFO: 0 MiniSEED files [0.0 MB] already existed.\n",
      "[2021-11-25 00:51:26,679] - obspy.clients.fdsn.mass_downloader - INFO: 1 StationXML files [0.0 MB] already existed.\n",
      "[2021-11-25 00:51:26,688] - obspy.clients.fdsn.mass_downloader - INFO: Client 'GEONET' - Acquired 1 MiniSEED files [0.0 MB].\n",
      "[2021-11-25 00:51:26,692] - obspy.clients.fdsn.mass_downloader - INFO: Client 'GEONET' - Acquired 0 StationXML files [0.0 MB].\n",
      "[2021-11-25 00:51:26,692] - obspy.clients.fdsn.mass_downloader - INFO: Downloaded 0.0 MB in total.\n",
      "[2021-11-25 00:51:26,746] - obspy.clients.fdsn.mass_downloader - INFO: Initializing FDSN client(s) for GEONET.\n",
      "[2021-11-25 00:51:26,788] - obspy.clients.fdsn.mass_downloader - INFO: Successfully initialized 1 client(s): GEONET.\n",
      "[2021-11-25 00:51:26,793] - obspy.clients.fdsn.mass_downloader - INFO: Total acquired or preexisting stations: 0\n",
      "[2021-11-25 00:51:26,799] - obspy.clients.fdsn.mass_downloader - INFO: Client 'GEONET' - Requesting unreliable availability.\n"
     ]
    },
    {
     "name": "stdout",
     "output_type": "stream",
     "text": [
      "=================================================================\n",
      "Initiating mass download request.\n"
     ]
    },
    {
     "name": "stderr",
     "output_type": "stream",
     "text": [
      "[2021-11-25 00:51:27,479] - obspy.clients.fdsn.mass_downloader - INFO: Client 'GEONET' - Successfully requested availability (0.68 seconds)\n",
      "[2021-11-25 00:51:27,512] - obspy.clients.fdsn.mass_downloader - INFO: Client 'GEONET' - Found 1 stations (1 channels).\n",
      "[2021-11-25 00:51:27,536] - obspy.clients.fdsn.mass_downloader - INFO: Client 'GEONET' - Will attempt to download data from 1 stations.\n",
      "[2021-11-25 00:51:27,576] - obspy.clients.fdsn.mass_downloader - INFO: Client 'GEONET' - Status for 1 time intervals/channels before downloading: NEEDS_DOWNLOADING\n",
      "[2021-11-25 00:51:28,638] - obspy.clients.fdsn.mass_downloader - INFO: Client 'GEONET' - Successfully downloaded 1 channels (of 1)\n",
      "[2021-11-25 00:51:28,705] - obspy.clients.fdsn.mass_downloader - INFO: Client 'GEONET' - Launching basic QC checks...\n",
      "[2021-11-25 00:51:28,737] - obspy.clients.fdsn.mass_downloader - INFO: Client 'GEONET' - Downloaded 0.0 MB [3.74 KB/sec] of data, 0.0 MB of which were discarded afterwards.\n",
      "[2021-11-25 00:51:28,750] - obspy.clients.fdsn.mass_downloader - INFO: Client 'GEONET' - Status for 1 time intervals/channels after downloading: DOWNLOADED\n",
      "[2021-11-25 00:51:28,765] - obspy.clients.fdsn.mass_downloader - INFO: Client 'GEONET' - No station information to download.\n",
      "[2021-11-25 00:51:28,775] - obspy.clients.fdsn.mass_downloader - INFO: ============================== Final report\n",
      "[2021-11-25 00:51:28,786] - obspy.clients.fdsn.mass_downloader - INFO: 0 MiniSEED files [0.0 MB] already existed.\n",
      "[2021-11-25 00:51:28,790] - obspy.clients.fdsn.mass_downloader - INFO: 1 StationXML files [0.0 MB] already existed.\n",
      "[2021-11-25 00:51:28,791] - obspy.clients.fdsn.mass_downloader - INFO: Client 'GEONET' - Acquired 1 MiniSEED files [0.0 MB].\n",
      "[2021-11-25 00:51:28,797] - obspy.clients.fdsn.mass_downloader - INFO: Client 'GEONET' - Acquired 0 StationXML files [0.0 MB].\n",
      "[2021-11-25 00:51:28,798] - obspy.clients.fdsn.mass_downloader - INFO: Downloaded 0.0 MB in total.\n",
      "[2021-11-25 00:51:28,811] - obspy.clients.fdsn.mass_downloader - INFO: Initializing FDSN client(s) for GEONET.\n",
      "[2021-11-25 00:51:28,849] - obspy.clients.fdsn.mass_downloader - INFO: Successfully initialized 1 client(s): GEONET.\n",
      "[2021-11-25 00:51:28,855] - obspy.clients.fdsn.mass_downloader - INFO: Total acquired or preexisting stations: 0\n",
      "[2021-11-25 00:51:28,866] - obspy.clients.fdsn.mass_downloader - INFO: Client 'GEONET' - Requesting unreliable availability.\n"
     ]
    },
    {
     "name": "stdout",
     "output_type": "stream",
     "text": [
      "=================================================================\n",
      "Initiating mass download request.\n"
     ]
    },
    {
     "name": "stderr",
     "output_type": "stream",
     "text": [
      "[2021-11-25 00:51:29,592] - obspy.clients.fdsn.mass_downloader - INFO: Client 'GEONET' - Successfully requested availability (0.72 seconds)\n",
      "[2021-11-25 00:51:29,646] - obspy.clients.fdsn.mass_downloader - INFO: Client 'GEONET' - Found 1 stations (1 channels).\n",
      "[2021-11-25 00:51:29,661] - obspy.clients.fdsn.mass_downloader - INFO: Client 'GEONET' - Will attempt to download data from 1 stations.\n",
      "[2021-11-25 00:51:29,671] - obspy.clients.fdsn.mass_downloader - INFO: Client 'GEONET' - Status for 1 time intervals/channels before downloading: NEEDS_DOWNLOADING\n",
      "[2021-11-25 00:51:30,613] - obspy.clients.fdsn.mass_downloader - INFO: Client 'GEONET' - Successfully downloaded 1 channels (of 1)\n",
      "[2021-11-25 00:51:30,638] - obspy.clients.fdsn.mass_downloader - INFO: Client 'GEONET' - Launching basic QC checks...\n",
      "[2021-11-25 00:51:30,655] - obspy.clients.fdsn.mass_downloader - INFO: Client 'GEONET' - Downloaded 0.0 MB [4.31 KB/sec] of data, 0.0 MB of which were discarded afterwards.\n",
      "[2021-11-25 00:51:30,659] - obspy.clients.fdsn.mass_downloader - INFO: Client 'GEONET' - Status for 1 time intervals/channels after downloading: DOWNLOADED\n",
      "[2021-11-25 00:51:30,671] - obspy.clients.fdsn.mass_downloader - INFO: Client 'GEONET' - No station information to download.\n",
      "[2021-11-25 00:51:30,673] - obspy.clients.fdsn.mass_downloader - INFO: ============================== Final report\n",
      "[2021-11-25 00:51:30,680] - obspy.clients.fdsn.mass_downloader - INFO: 0 MiniSEED files [0.0 MB] already existed.\n",
      "[2021-11-25 00:51:30,684] - obspy.clients.fdsn.mass_downloader - INFO: 1 StationXML files [0.0 MB] already existed.\n",
      "[2021-11-25 00:51:30,685] - obspy.clients.fdsn.mass_downloader - INFO: Client 'GEONET' - Acquired 1 MiniSEED files [0.0 MB].\n",
      "[2021-11-25 00:51:30,688] - obspy.clients.fdsn.mass_downloader - INFO: Client 'GEONET' - Acquired 0 StationXML files [0.0 MB].\n",
      "[2021-11-25 00:51:30,690] - obspy.clients.fdsn.mass_downloader - INFO: Downloaded 0.0 MB in total.\n",
      "[2021-11-25 00:51:30,698] - obspy.clients.fdsn.mass_downloader - INFO: Initializing FDSN client(s) for GEONET.\n",
      "[2021-11-25 00:51:30,719] - obspy.clients.fdsn.mass_downloader - INFO: Successfully initialized 1 client(s): GEONET.\n",
      "[2021-11-25 00:51:30,724] - obspy.clients.fdsn.mass_downloader - INFO: Total acquired or preexisting stations: 0\n",
      "[2021-11-25 00:51:30,728] - obspy.clients.fdsn.mass_downloader - INFO: Client 'GEONET' - Requesting unreliable availability.\n"
     ]
    },
    {
     "name": "stdout",
     "output_type": "stream",
     "text": [
      "=================================================================\n",
      "Initiating mass download request.\n"
     ]
    },
    {
     "name": "stderr",
     "output_type": "stream",
     "text": [
      "[2021-11-25 00:51:31,335] - obspy.clients.fdsn.mass_downloader - INFO: Client 'GEONET' - Successfully requested availability (0.60 seconds)\n",
      "[2021-11-25 00:51:31,359] - obspy.clients.fdsn.mass_downloader - INFO: Client 'GEONET' - Found 1 stations (1 channels).\n",
      "[2021-11-25 00:51:31,368] - obspy.clients.fdsn.mass_downloader - INFO: Client 'GEONET' - Will attempt to download data from 1 stations.\n",
      "[2021-11-25 00:51:31,379] - obspy.clients.fdsn.mass_downloader - INFO: Client 'GEONET' - Status for 1 time intervals/channels before downloading: NEEDS_DOWNLOADING\n",
      "[2021-11-25 00:51:32,316] - obspy.clients.fdsn.mass_downloader - INFO: Client 'GEONET' - Successfully downloaded 1 channels (of 1)\n",
      "[2021-11-25 00:51:32,331] - obspy.clients.fdsn.mass_downloader - INFO: Client 'GEONET' - Launching basic QC checks...\n",
      "[2021-11-25 00:51:32,347] - obspy.clients.fdsn.mass_downloader - INFO: Client 'GEONET' - Downloaded 0.0 MB [3.94 KB/sec] of data, 0.0 MB of which were discarded afterwards.\n",
      "[2021-11-25 00:51:32,353] - obspy.clients.fdsn.mass_downloader - INFO: Client 'GEONET' - Status for 1 time intervals/channels after downloading: DOWNLOADED\n",
      "[2021-11-25 00:51:32,362] - obspy.clients.fdsn.mass_downloader - INFO: Client 'GEONET' - No station information to download.\n",
      "[2021-11-25 00:51:32,368] - obspy.clients.fdsn.mass_downloader - INFO: ============================== Final report\n",
      "[2021-11-25 00:51:32,374] - obspy.clients.fdsn.mass_downloader - INFO: 0 MiniSEED files [0.0 MB] already existed.\n",
      "[2021-11-25 00:51:32,377] - obspy.clients.fdsn.mass_downloader - INFO: 1 StationXML files [0.0 MB] already existed.\n",
      "[2021-11-25 00:51:32,377] - obspy.clients.fdsn.mass_downloader - INFO: Client 'GEONET' - Acquired 1 MiniSEED files [0.0 MB].\n",
      "[2021-11-25 00:51:32,377] - obspy.clients.fdsn.mass_downloader - INFO: Client 'GEONET' - Acquired 0 StationXML files [0.0 MB].\n",
      "[2021-11-25 00:51:32,380] - obspy.clients.fdsn.mass_downloader - INFO: Downloaded 0.0 MB in total.\n",
      "[2021-11-25 00:51:32,415] - obspy.clients.fdsn.mass_downloader - INFO: Initializing FDSN client(s) for GEONET.\n",
      "[2021-11-25 00:51:32,446] - obspy.clients.fdsn.mass_downloader - INFO: Successfully initialized 1 client(s): GEONET.\n",
      "[2021-11-25 00:51:32,451] - obspy.clients.fdsn.mass_downloader - INFO: Total acquired or preexisting stations: 0\n",
      "[2021-11-25 00:51:32,457] - obspy.clients.fdsn.mass_downloader - INFO: Client 'GEONET' - Requesting unreliable availability.\n"
     ]
    },
    {
     "name": "stdout",
     "output_type": "stream",
     "text": [
      "=================================================================\n",
      "Initiating mass download request.\n"
     ]
    },
    {
     "name": "stderr",
     "output_type": "stream",
     "text": [
      "[2021-11-25 00:51:33,053] - obspy.clients.fdsn.mass_downloader - INFO: Client 'GEONET' - Successfully requested availability (0.59 seconds)\n",
      "[2021-11-25 00:51:33,067] - obspy.clients.fdsn.mass_downloader - INFO: Client 'GEONET' - Found 1 stations (1 channels).\n",
      "[2021-11-25 00:51:33,073] - obspy.clients.fdsn.mass_downloader - INFO: Client 'GEONET' - Will attempt to download data from 1 stations.\n",
      "[2021-11-25 00:51:33,084] - obspy.clients.fdsn.mass_downloader - INFO: Client 'GEONET' - Status for 1 time intervals/channels before downloading: NEEDS_DOWNLOADING\n",
      "[2021-11-25 00:51:33,747] - obspy.clients.fdsn.mass_downloader - INFO: Client 'GEONET' - No data available for request.\n",
      "[2021-11-25 00:51:33,770] - obspy.clients.fdsn.mass_downloader - INFO: Client 'GEONET' - Launching basic QC checks...\n",
      "[2021-11-25 00:51:33,776] - obspy.clients.fdsn.mass_downloader - INFO: Client 'GEONET' - Downloaded 0.0 MB [0.00 KB/sec] of data, 0.0 MB of which were discarded afterwards.\n",
      "[2021-11-25 00:51:33,782] - obspy.clients.fdsn.mass_downloader - INFO: Client 'GEONET' - Status for 1 time intervals/channels after downloading: DOWNLOAD_FAILED\n",
      "[2021-11-25 00:51:33,787] - obspy.clients.fdsn.mass_downloader - INFO: Client 'GEONET' - No station information to download.\n",
      "[2021-11-25 00:51:33,793] - obspy.clients.fdsn.mass_downloader - INFO: Client 'GEONET' - No data could be downloaded.\n",
      "[2021-11-25 00:51:33,797] - obspy.clients.fdsn.mass_downloader - INFO: ============================== Final report\n",
      "[2021-11-25 00:51:33,800] - obspy.clients.fdsn.mass_downloader - INFO: 0 MiniSEED files [0.0 MB] already existed.\n",
      "[2021-11-25 00:51:33,801] - obspy.clients.fdsn.mass_downloader - INFO: 0 StationXML files [0.0 MB] already existed.\n",
      "[2021-11-25 00:51:33,803] - obspy.clients.fdsn.mass_downloader - INFO: Client 'GEONET' - Acquired 0 MiniSEED files [0.0 MB].\n",
      "[2021-11-25 00:51:33,805] - obspy.clients.fdsn.mass_downloader - INFO: Client 'GEONET' - Acquired 0 StationXML files [0.0 MB].\n",
      "[2021-11-25 00:51:33,807] - obspy.clients.fdsn.mass_downloader - INFO: Downloaded 0.0 MB in total.\n",
      "[2021-11-25 00:51:33,814] - obspy.clients.fdsn.mass_downloader - INFO: Initializing FDSN client(s) for GEONET.\n",
      "[2021-11-25 00:51:33,830] - obspy.clients.fdsn.mass_downloader - INFO: Successfully initialized 1 client(s): GEONET.\n",
      "[2021-11-25 00:51:33,834] - obspy.clients.fdsn.mass_downloader - INFO: Total acquired or preexisting stations: 0\n",
      "[2021-11-25 00:51:33,837] - obspy.clients.fdsn.mass_downloader - INFO: Client 'GEONET' - Requesting unreliable availability.\n"
     ]
    },
    {
     "name": "stdout",
     "output_type": "stream",
     "text": [
      "=================================================================\n",
      "Initiating mass download request.\n"
     ]
    },
    {
     "name": "stderr",
     "output_type": "stream",
     "text": [
      "[2021-11-25 00:51:34,410] - obspy.clients.fdsn.mass_downloader - INFO: Client 'GEONET' - Successfully requested availability (0.57 seconds)\n",
      "[2021-11-25 00:51:34,430] - obspy.clients.fdsn.mass_downloader - INFO: Client 'GEONET' - Found 1 stations (1 channels).\n",
      "[2021-11-25 00:51:34,434] - obspy.clients.fdsn.mass_downloader - INFO: Client 'GEONET' - Will attempt to download data from 1 stations.\n",
      "[2021-11-25 00:51:34,449] - obspy.clients.fdsn.mass_downloader - INFO: Client 'GEONET' - Status for 1 time intervals/channels before downloading: NEEDS_DOWNLOADING\n",
      "[2021-11-25 00:51:35,389] - obspy.clients.fdsn.mass_downloader - INFO: Client 'GEONET' - Successfully downloaded 1 channels (of 1)\n",
      "[2021-11-25 00:51:35,413] - obspy.clients.fdsn.mass_downloader - INFO: Client 'GEONET' - Launching basic QC checks...\n",
      "[2021-11-25 00:51:35,433] - obspy.clients.fdsn.mass_downloader - INFO: Client 'GEONET' - Downloaded 0.0 MB [3.23 KB/sec] of data, 0.0 MB of which were discarded afterwards.\n",
      "[2021-11-25 00:51:35,446] - obspy.clients.fdsn.mass_downloader - INFO: Client 'GEONET' - Status for 1 time intervals/channels after downloading: DOWNLOADED\n",
      "[2021-11-25 00:51:35,464] - obspy.clients.fdsn.mass_downloader - INFO: Client 'GEONET' - No station information to download.\n",
      "[2021-11-25 00:51:35,471] - obspy.clients.fdsn.mass_downloader - INFO: ============================== Final report\n",
      "[2021-11-25 00:51:35,475] - obspy.clients.fdsn.mass_downloader - INFO: 0 MiniSEED files [0.0 MB] already existed.\n",
      "[2021-11-25 00:51:35,480] - obspy.clients.fdsn.mass_downloader - INFO: 1 StationXML files [0.0 MB] already existed.\n",
      "[2021-11-25 00:51:35,480] - obspy.clients.fdsn.mass_downloader - INFO: Client 'GEONET' - Acquired 1 MiniSEED files [0.0 MB].\n",
      "[2021-11-25 00:51:35,482] - obspy.clients.fdsn.mass_downloader - INFO: Client 'GEONET' - Acquired 0 StationXML files [0.0 MB].\n",
      "[2021-11-25 00:51:35,488] - obspy.clients.fdsn.mass_downloader - INFO: Downloaded 0.0 MB in total.\n",
      "[2021-11-25 00:51:35,503] - obspy.clients.fdsn.mass_downloader - INFO: Initializing FDSN client(s) for GEONET.\n",
      "[2021-11-25 00:51:35,524] - obspy.clients.fdsn.mass_downloader - INFO: Successfully initialized 1 client(s): GEONET.\n",
      "[2021-11-25 00:51:35,528] - obspy.clients.fdsn.mass_downloader - INFO: Total acquired or preexisting stations: 0\n",
      "[2021-11-25 00:51:35,532] - obspy.clients.fdsn.mass_downloader - INFO: Client 'GEONET' - Requesting unreliable availability.\n"
     ]
    },
    {
     "name": "stdout",
     "output_type": "stream",
     "text": [
      "=================================================================\n",
      "Initiating mass download request.\n"
     ]
    },
    {
     "name": "stderr",
     "output_type": "stream",
     "text": [
      "[2021-11-25 00:51:36,144] - obspy.clients.fdsn.mass_downloader - INFO: Client 'GEONET' - Successfully requested availability (0.61 seconds)\n",
      "[2021-11-25 00:51:36,185] - obspy.clients.fdsn.mass_downloader - INFO: Client 'GEONET' - Found 1 stations (1 channels).\n",
      "[2021-11-25 00:51:36,198] - obspy.clients.fdsn.mass_downloader - INFO: Client 'GEONET' - Will attempt to download data from 1 stations.\n",
      "[2021-11-25 00:51:36,209] - obspy.clients.fdsn.mass_downloader - INFO: Client 'GEONET' - Status for 1 time intervals/channels before downloading: NEEDS_DOWNLOADING\n",
      "[2021-11-25 00:51:37,092] - obspy.clients.fdsn.mass_downloader - INFO: Client 'GEONET' - Successfully downloaded 1 channels (of 1)\n",
      "[2021-11-25 00:51:37,098] - obspy.clients.fdsn.mass_downloader - INFO: Client 'GEONET' - Launching basic QC checks...\n",
      "[2021-11-25 00:51:37,114] - obspy.clients.fdsn.mass_downloader - INFO: Client 'GEONET' - Downloaded 0.0 MB [3.66 KB/sec] of data, 0.0 MB of which were discarded afterwards.\n",
      "[2021-11-25 00:51:37,117] - obspy.clients.fdsn.mass_downloader - INFO: Client 'GEONET' - Status for 1 time intervals/channels after downloading: DOWNLOADED\n",
      "[2021-11-25 00:51:37,126] - obspy.clients.fdsn.mass_downloader - INFO: Client 'GEONET' - No station information to download.\n",
      "[2021-11-25 00:51:37,132] - obspy.clients.fdsn.mass_downloader - INFO: ============================== Final report\n",
      "[2021-11-25 00:51:37,133] - obspy.clients.fdsn.mass_downloader - INFO: 0 MiniSEED files [0.0 MB] already existed.\n",
      "[2021-11-25 00:51:37,135] - obspy.clients.fdsn.mass_downloader - INFO: 1 StationXML files [0.0 MB] already existed.\n",
      "[2021-11-25 00:51:37,137] - obspy.clients.fdsn.mass_downloader - INFO: Client 'GEONET' - Acquired 1 MiniSEED files [0.0 MB].\n",
      "[2021-11-25 00:51:37,138] - obspy.clients.fdsn.mass_downloader - INFO: Client 'GEONET' - Acquired 0 StationXML files [0.0 MB].\n",
      "[2021-11-25 00:51:37,138] - obspy.clients.fdsn.mass_downloader - INFO: Downloaded 0.0 MB in total.\n",
      "[2021-11-25 00:51:37,151] - obspy.clients.fdsn.mass_downloader - INFO: Initializing FDSN client(s) for GEONET.\n",
      "[2021-11-25 00:51:37,167] - obspy.clients.fdsn.mass_downloader - INFO: Successfully initialized 1 client(s): GEONET.\n",
      "[2021-11-25 00:51:37,170] - obspy.clients.fdsn.mass_downloader - INFO: Total acquired or preexisting stations: 0\n",
      "[2021-11-25 00:51:37,172] - obspy.clients.fdsn.mass_downloader - INFO: Client 'GEONET' - Requesting unreliable availability.\n"
     ]
    },
    {
     "name": "stdout",
     "output_type": "stream",
     "text": [
      "=================================================================\n",
      "Initiating mass download request.\n"
     ]
    },
    {
     "name": "stderr",
     "output_type": "stream",
     "text": [
      "[2021-11-25 00:51:37,766] - obspy.clients.fdsn.mass_downloader - INFO: Client 'GEONET' - Successfully requested availability (0.59 seconds)\n",
      "[2021-11-25 00:51:37,767] - obspy.clients.fdsn.mass_downloader - INFO: Client 'GEONET' - Found 1 stations (1 channels).\n",
      "[2021-11-25 00:51:37,768] - obspy.clients.fdsn.mass_downloader - INFO: Client 'GEONET' - Will attempt to download data from 1 stations.\n",
      "[2021-11-25 00:51:37,769] - obspy.clients.fdsn.mass_downloader - INFO: Client 'GEONET' - Status for 1 time intervals/channels before downloading: NEEDS_DOWNLOADING\n",
      "[2021-11-25 00:51:38,621] - obspy.clients.fdsn.mass_downloader - INFO: Client 'GEONET' - Successfully downloaded 1 channels (of 1)\n",
      "[2021-11-25 00:51:38,626] - obspy.clients.fdsn.mass_downloader - INFO: Client 'GEONET' - Launching basic QC checks...\n",
      "[2021-11-25 00:51:38,635] - obspy.clients.fdsn.mass_downloader - INFO: Client 'GEONET' - Downloaded 0.0 MB [2.94 KB/sec] of data, 0.0 MB of which were discarded afterwards.\n",
      "[2021-11-25 00:51:38,639] - obspy.clients.fdsn.mass_downloader - INFO: Client 'GEONET' - Status for 1 time intervals/channels after downloading: DOWNLOADED\n",
      "[2021-11-25 00:51:38,647] - obspy.clients.fdsn.mass_downloader - INFO: Client 'GEONET' - No station information to download.\n",
      "[2021-11-25 00:51:38,648] - obspy.clients.fdsn.mass_downloader - INFO: ============================== Final report\n",
      "[2021-11-25 00:51:38,649] - obspy.clients.fdsn.mass_downloader - INFO: 0 MiniSEED files [0.0 MB] already existed.\n",
      "[2021-11-25 00:51:38,649] - obspy.clients.fdsn.mass_downloader - INFO: 1 StationXML files [0.0 MB] already existed.\n",
      "[2021-11-25 00:51:38,649] - obspy.clients.fdsn.mass_downloader - INFO: Client 'GEONET' - Acquired 1 MiniSEED files [0.0 MB].\n",
      "[2021-11-25 00:51:38,650] - obspy.clients.fdsn.mass_downloader - INFO: Client 'GEONET' - Acquired 0 StationXML files [0.0 MB].\n",
      "[2021-11-25 00:51:38,650] - obspy.clients.fdsn.mass_downloader - INFO: Downloaded 0.0 MB in total.\n",
      "[2021-11-25 00:51:38,659] - obspy.clients.fdsn.mass_downloader - INFO: Initializing FDSN client(s) for GEONET.\n",
      "[2021-11-25 00:51:38,669] - obspy.clients.fdsn.mass_downloader - INFO: Successfully initialized 1 client(s): GEONET.\n",
      "[2021-11-25 00:51:38,671] - obspy.clients.fdsn.mass_downloader - INFO: Total acquired or preexisting stations: 0\n",
      "[2021-11-25 00:51:38,672] - obspy.clients.fdsn.mass_downloader - INFO: Client 'GEONET' - Requesting unreliable availability.\n"
     ]
    },
    {
     "name": "stdout",
     "output_type": "stream",
     "text": [
      "=================================================================\n",
      "Initiating mass download request.\n"
     ]
    },
    {
     "name": "stderr",
     "output_type": "stream",
     "text": [
      "[2021-11-25 00:51:39,911] - obspy.clients.fdsn.mass_downloader - INFO: Client 'GEONET' - Successfully requested availability (1.24 seconds)\n",
      "[2021-11-25 00:51:39,913] - obspy.clients.fdsn.mass_downloader - INFO: Client 'GEONET' - Found 1 stations (1 channels).\n",
      "[2021-11-25 00:51:39,916] - obspy.clients.fdsn.mass_downloader - INFO: Client 'GEONET' - Will attempt to download data from 1 stations.\n",
      "[2021-11-25 00:51:39,918] - obspy.clients.fdsn.mass_downloader - INFO: Client 'GEONET' - Status for 1 time intervals/channels before downloading: NEEDS_DOWNLOADING\n",
      "[2021-11-25 00:51:40,707] - obspy.clients.fdsn.mass_downloader - INFO: Client 'GEONET' - Successfully downloaded 1 channels (of 1)\n",
      "[2021-11-25 00:51:40,709] - obspy.clients.fdsn.mass_downloader - INFO: Client 'GEONET' - Launching basic QC checks...\n",
      "[2021-11-25 00:51:40,712] - obspy.clients.fdsn.mass_downloader - INFO: Client 'GEONET' - Downloaded 0.0 MB [3.80 KB/sec] of data, 0.0 MB of which were discarded afterwards.\n",
      "[2021-11-25 00:51:40,712] - obspy.clients.fdsn.mass_downloader - INFO: Client 'GEONET' - Status for 1 time intervals/channels after downloading: DOWNLOADED\n",
      "[2021-11-25 00:51:40,714] - obspy.clients.fdsn.mass_downloader - INFO: Client 'GEONET' - No station information to download.\n",
      "[2021-11-25 00:51:40,715] - obspy.clients.fdsn.mass_downloader - INFO: ============================== Final report\n",
      "[2021-11-25 00:51:40,715] - obspy.clients.fdsn.mass_downloader - INFO: 0 MiniSEED files [0.0 MB] already existed.\n",
      "[2021-11-25 00:51:40,715] - obspy.clients.fdsn.mass_downloader - INFO: 1 StationXML files [0.0 MB] already existed.\n",
      "[2021-11-25 00:51:40,716] - obspy.clients.fdsn.mass_downloader - INFO: Client 'GEONET' - Acquired 1 MiniSEED files [0.0 MB].\n",
      "[2021-11-25 00:51:40,716] - obspy.clients.fdsn.mass_downloader - INFO: Client 'GEONET' - Acquired 0 StationXML files [0.0 MB].\n",
      "[2021-11-25 00:51:40,716] - obspy.clients.fdsn.mass_downloader - INFO: Downloaded 0.0 MB in total.\n",
      "[2021-11-25 00:51:40,719] - obspy.clients.fdsn.mass_downloader - INFO: Initializing FDSN client(s) for GEONET.\n",
      "[2021-11-25 00:51:40,723] - obspy.clients.fdsn.mass_downloader - INFO: Successfully initialized 1 client(s): GEONET.\n",
      "[2021-11-25 00:51:40,724] - obspy.clients.fdsn.mass_downloader - INFO: Total acquired or preexisting stations: 0\n",
      "[2021-11-25 00:51:40,724] - obspy.clients.fdsn.mass_downloader - INFO: Client 'GEONET' - Requesting unreliable availability.\n"
     ]
    },
    {
     "name": "stdout",
     "output_type": "stream",
     "text": [
      "=================================================================\n",
      "Initiating mass download request.\n"
     ]
    },
    {
     "name": "stderr",
     "output_type": "stream",
     "text": [
      "[2021-11-25 00:51:41,299] - obspy.clients.fdsn.mass_downloader - INFO: Client 'GEONET' - Successfully requested availability (0.58 seconds)\n",
      "[2021-11-25 00:51:41,300] - obspy.clients.fdsn.mass_downloader - INFO: Client 'GEONET' - Found 1 stations (1 channels).\n",
      "[2021-11-25 00:51:41,301] - obspy.clients.fdsn.mass_downloader - INFO: Client 'GEONET' - Will attempt to download data from 1 stations.\n",
      "[2021-11-25 00:51:41,302] - obspy.clients.fdsn.mass_downloader - INFO: Client 'GEONET' - Status for 1 time intervals/channels before downloading: NEEDS_DOWNLOADING\n",
      "[2021-11-25 00:51:42,189] - obspy.clients.fdsn.mass_downloader - INFO: Client 'GEONET' - Successfully downloaded 1 channels (of 1)\n",
      "[2021-11-25 00:51:42,219] - obspy.clients.fdsn.mass_downloader - INFO: Client 'GEONET' - Launching basic QC checks...\n",
      "[2021-11-25 00:51:42,239] - obspy.clients.fdsn.mass_downloader - INFO: Client 'GEONET' - Downloaded 0.0 MB [2.74 KB/sec] of data, 0.0 MB of which were discarded afterwards.\n",
      "[2021-11-25 00:51:42,245] - obspy.clients.fdsn.mass_downloader - INFO: Client 'GEONET' - Status for 1 time intervals/channels after downloading: DOWNLOADED\n",
      "[2021-11-25 00:51:42,251] - obspy.clients.fdsn.mass_downloader - INFO: Client 'GEONET' - No station information to download.\n",
      "[2021-11-25 00:51:42,254] - obspy.clients.fdsn.mass_downloader - INFO: ============================== Final report\n",
      "[2021-11-25 00:51:42,256] - obspy.clients.fdsn.mass_downloader - INFO: 0 MiniSEED files [0.0 MB] already existed.\n",
      "[2021-11-25 00:51:42,260] - obspy.clients.fdsn.mass_downloader - INFO: 1 StationXML files [0.0 MB] already existed.\n",
      "[2021-11-25 00:51:42,260] - obspy.clients.fdsn.mass_downloader - INFO: Client 'GEONET' - Acquired 1 MiniSEED files [0.0 MB].\n",
      "[2021-11-25 00:51:42,261] - obspy.clients.fdsn.mass_downloader - INFO: Client 'GEONET' - Acquired 0 StationXML files [0.0 MB].\n",
      "[2021-11-25 00:51:42,262] - obspy.clients.fdsn.mass_downloader - INFO: Downloaded 0.0 MB in total.\n",
      "[2021-11-25 00:51:42,280] - obspy.clients.fdsn.mass_downloader - INFO: Initializing FDSN client(s) for GEONET.\n",
      "[2021-11-25 00:51:42,291] - obspy.clients.fdsn.mass_downloader - INFO: Successfully initialized 1 client(s): GEONET.\n",
      "[2021-11-25 00:51:42,294] - obspy.clients.fdsn.mass_downloader - INFO: Total acquired or preexisting stations: 0\n",
      "[2021-11-25 00:51:42,295] - obspy.clients.fdsn.mass_downloader - INFO: Client 'GEONET' - Requesting unreliable availability.\n"
     ]
    },
    {
     "name": "stdout",
     "output_type": "stream",
     "text": [
      "=================================================================\n",
      "Initiating mass download request.\n"
     ]
    },
    {
     "name": "stderr",
     "output_type": "stream",
     "text": [
      "[2021-11-25 00:51:42,845] - obspy.clients.fdsn.mass_downloader - INFO: Client 'GEONET' - Successfully requested availability (0.55 seconds)\n",
      "[2021-11-25 00:51:42,846] - obspy.clients.fdsn.mass_downloader - INFO: Client 'GEONET' - Found 1 stations (1 channels).\n",
      "[2021-11-25 00:51:42,846] - obspy.clients.fdsn.mass_downloader - INFO: Client 'GEONET' - Will attempt to download data from 1 stations.\n",
      "[2021-11-25 00:51:42,846] - obspy.clients.fdsn.mass_downloader - INFO: Client 'GEONET' - Status for 1 time intervals/channels before downloading: NEEDS_DOWNLOADING\n",
      "[2021-11-25 00:51:43,584] - obspy.clients.fdsn.mass_downloader - INFO: Client 'GEONET' - Successfully downloaded 1 channels (of 1)\n",
      "[2021-11-25 00:51:43,587] - obspy.clients.fdsn.mass_downloader - INFO: Client 'GEONET' - Launching basic QC checks...\n",
      "[2021-11-25 00:51:43,591] - obspy.clients.fdsn.mass_downloader - INFO: Client 'GEONET' - Downloaded 0.0 MB [4.06 KB/sec] of data, 0.0 MB of which were discarded afterwards.\n",
      "[2021-11-25 00:51:43,592] - obspy.clients.fdsn.mass_downloader - INFO: Client 'GEONET' - Status for 1 time intervals/channels after downloading: DOWNLOADED\n",
      "[2021-11-25 00:51:43,597] - obspy.clients.fdsn.mass_downloader - INFO: Client 'GEONET' - No station information to download.\n",
      "[2021-11-25 00:51:43,598] - obspy.clients.fdsn.mass_downloader - INFO: ============================== Final report\n",
      "[2021-11-25 00:51:43,599] - obspy.clients.fdsn.mass_downloader - INFO: 0 MiniSEED files [0.0 MB] already existed.\n",
      "[2021-11-25 00:51:43,599] - obspy.clients.fdsn.mass_downloader - INFO: 1 StationXML files [0.0 MB] already existed.\n",
      "[2021-11-25 00:51:43,599] - obspy.clients.fdsn.mass_downloader - INFO: Client 'GEONET' - Acquired 1 MiniSEED files [0.0 MB].\n",
      "[2021-11-25 00:51:43,599] - obspy.clients.fdsn.mass_downloader - INFO: Client 'GEONET' - Acquired 0 StationXML files [0.0 MB].\n",
      "[2021-11-25 00:51:43,600] - obspy.clients.fdsn.mass_downloader - INFO: Downloaded 0.0 MB in total.\n",
      "[2021-11-25 00:51:43,603] - obspy.clients.fdsn.mass_downloader - INFO: Initializing FDSN client(s) for GEONET.\n",
      "[2021-11-25 00:51:43,611] - obspy.clients.fdsn.mass_downloader - INFO: Successfully initialized 1 client(s): GEONET.\n",
      "[2021-11-25 00:51:43,614] - obspy.clients.fdsn.mass_downloader - INFO: Total acquired or preexisting stations: 0\n",
      "[2021-11-25 00:51:43,615] - obspy.clients.fdsn.mass_downloader - INFO: Client 'GEONET' - Requesting unreliable availability.\n"
     ]
    },
    {
     "name": "stdout",
     "output_type": "stream",
     "text": [
      "=================================================================\n",
      "Initiating mass download request.\n"
     ]
    },
    {
     "name": "stderr",
     "output_type": "stream",
     "text": [
      "[2021-11-25 00:51:44,262] - obspy.clients.fdsn.mass_downloader - INFO: Client 'GEONET' - Successfully requested availability (0.65 seconds)\n",
      "[2021-11-25 00:51:44,263] - obspy.clients.fdsn.mass_downloader - INFO: Client 'GEONET' - Found 1 stations (1 channels).\n",
      "[2021-11-25 00:51:44,264] - obspy.clients.fdsn.mass_downloader - INFO: Client 'GEONET' - Will attempt to download data from 1 stations.\n",
      "[2021-11-25 00:51:44,264] - obspy.clients.fdsn.mass_downloader - INFO: Client 'GEONET' - Status for 1 time intervals/channels before downloading: NEEDS_DOWNLOADING\n",
      "[2021-11-25 00:51:44,992] - obspy.clients.fdsn.mass_downloader - INFO: Client 'GEONET' - Successfully downloaded 1 channels (of 1)\n",
      "[2021-11-25 00:51:45,088] - obspy.clients.fdsn.mass_downloader - INFO: Client 'GEONET' - Launching basic QC checks...\n",
      "[2021-11-25 00:51:45,105] - obspy.clients.fdsn.mass_downloader - INFO: Client 'GEONET' - Downloaded 0.0 MB [3.65 KB/sec] of data, 0.0 MB of which were discarded afterwards.\n",
      "[2021-11-25 00:51:45,109] - obspy.clients.fdsn.mass_downloader - INFO: Client 'GEONET' - Status for 1 time intervals/channels after downloading: DOWNLOADED\n",
      "[2021-11-25 00:51:45,112] - obspy.clients.fdsn.mass_downloader - INFO: Client 'GEONET' - No station information to download.\n",
      "[2021-11-25 00:51:45,116] - obspy.clients.fdsn.mass_downloader - INFO: ============================== Final report\n",
      "[2021-11-25 00:51:45,121] - obspy.clients.fdsn.mass_downloader - INFO: 0 MiniSEED files [0.0 MB] already existed.\n",
      "[2021-11-25 00:51:45,128] - obspy.clients.fdsn.mass_downloader - INFO: 1 StationXML files [0.0 MB] already existed.\n",
      "[2021-11-25 00:51:45,129] - obspy.clients.fdsn.mass_downloader - INFO: Client 'GEONET' - Acquired 1 MiniSEED files [0.0 MB].\n",
      "[2021-11-25 00:51:45,129] - obspy.clients.fdsn.mass_downloader - INFO: Client 'GEONET' - Acquired 0 StationXML files [0.0 MB].\n",
      "[2021-11-25 00:51:45,130] - obspy.clients.fdsn.mass_downloader - INFO: Downloaded 0.0 MB in total.\n",
      "[2021-11-25 00:51:45,138] - obspy.clients.fdsn.mass_downloader - INFO: Initializing FDSN client(s) for GEONET.\n",
      "[2021-11-25 00:51:45,147] - obspy.clients.fdsn.mass_downloader - INFO: Successfully initialized 1 client(s): GEONET.\n",
      "[2021-11-25 00:51:45,157] - obspy.clients.fdsn.mass_downloader - INFO: Total acquired or preexisting stations: 0\n",
      "[2021-11-25 00:51:45,167] - obspy.clients.fdsn.mass_downloader - INFO: Client 'GEONET' - Requesting unreliable availability.\n"
     ]
    },
    {
     "name": "stdout",
     "output_type": "stream",
     "text": [
      "=================================================================\n",
      "Initiating mass download request.\n"
     ]
    },
    {
     "name": "stderr",
     "output_type": "stream",
     "text": [
      "[2021-11-25 00:51:45,923] - obspy.clients.fdsn.mass_downloader - INFO: Client 'GEONET' - Successfully requested availability (0.75 seconds)\n",
      "[2021-11-25 00:51:45,947] - obspy.clients.fdsn.mass_downloader - INFO: Client 'GEONET' - Found 1 stations (1 channels).\n",
      "[2021-11-25 00:51:45,963] - obspy.clients.fdsn.mass_downloader - INFO: Client 'GEONET' - Will attempt to download data from 1 stations.\n",
      "[2021-11-25 00:51:45,979] - obspy.clients.fdsn.mass_downloader - INFO: Client 'GEONET' - Status for 1 time intervals/channels before downloading: NEEDS_DOWNLOADING\n",
      "[2021-11-25 00:51:47,030] - obspy.clients.fdsn.mass_downloader - INFO: Client 'GEONET' - Successfully downloaded 1 channels (of 1)\n",
      "[2021-11-25 00:51:47,107] - obspy.clients.fdsn.mass_downloader - INFO: Client 'GEONET' - Launching basic QC checks...\n",
      "[2021-11-25 00:51:47,175] - obspy.clients.fdsn.mass_downloader - INFO: Client 'GEONET' - Downloaded 0.0 MB [2.84 KB/sec] of data, 0.0 MB of which were discarded afterwards.\n",
      "[2021-11-25 00:51:47,181] - obspy.clients.fdsn.mass_downloader - INFO: Client 'GEONET' - Status for 1 time intervals/channels after downloading: DOWNLOADED\n",
      "[2021-11-25 00:51:47,211] - obspy.clients.fdsn.mass_downloader - INFO: Client 'GEONET' - No station information to download.\n",
      "[2021-11-25 00:51:47,236] - obspy.clients.fdsn.mass_downloader - INFO: ============================== Final report\n",
      "[2021-11-25 00:51:47,239] - obspy.clients.fdsn.mass_downloader - INFO: 0 MiniSEED files [0.0 MB] already existed.\n",
      "[2021-11-25 00:51:47,246] - obspy.clients.fdsn.mass_downloader - INFO: 1 StationXML files [0.0 MB] already existed.\n",
      "[2021-11-25 00:51:47,246] - obspy.clients.fdsn.mass_downloader - INFO: Client 'GEONET' - Acquired 1 MiniSEED files [0.0 MB].\n",
      "[2021-11-25 00:51:47,251] - obspy.clients.fdsn.mass_downloader - INFO: Client 'GEONET' - Acquired 0 StationXML files [0.0 MB].\n",
      "[2021-11-25 00:51:47,252] - obspy.clients.fdsn.mass_downloader - INFO: Downloaded 0.0 MB in total.\n",
      "[2021-11-25 00:51:47,278] - obspy.clients.fdsn.mass_downloader - INFO: Initializing FDSN client(s) for GEONET.\n",
      "[2021-11-25 00:51:47,328] - obspy.clients.fdsn.mass_downloader - INFO: Successfully initialized 1 client(s): GEONET.\n",
      "[2021-11-25 00:51:47,332] - obspy.clients.fdsn.mass_downloader - INFO: Total acquired or preexisting stations: 0\n",
      "[2021-11-25 00:51:47,336] - obspy.clients.fdsn.mass_downloader - INFO: Client 'GEONET' - Requesting unreliable availability.\n"
     ]
    },
    {
     "name": "stdout",
     "output_type": "stream",
     "text": [
      "=================================================================\n",
      "Initiating mass download request.\n"
     ]
    },
    {
     "name": "stderr",
     "output_type": "stream",
     "text": [
      "[2021-11-25 00:51:47,951] - obspy.clients.fdsn.mass_downloader - INFO: Client 'GEONET' - Successfully requested availability (0.61 seconds)\n",
      "[2021-11-25 00:51:47,969] - obspy.clients.fdsn.mass_downloader - INFO: Client 'GEONET' - Found 1 stations (1 channels).\n",
      "[2021-11-25 00:51:47,980] - obspy.clients.fdsn.mass_downloader - INFO: Client 'GEONET' - Will attempt to download data from 1 stations.\n",
      "[2021-11-25 00:51:47,987] - obspy.clients.fdsn.mass_downloader - INFO: Client 'GEONET' - Status for 1 time intervals/channels before downloading: NEEDS_DOWNLOADING\n",
      "[2021-11-25 00:51:48,889] - obspy.clients.fdsn.mass_downloader - INFO: Client 'GEONET' - Successfully downloaded 1 channels (of 1)\n",
      "[2021-11-25 00:51:48,921] - obspy.clients.fdsn.mass_downloader - INFO: Client 'GEONET' - Launching basic QC checks...\n",
      "[2021-11-25 00:51:48,958] - obspy.clients.fdsn.mass_downloader - INFO: Client 'GEONET' - Downloaded 0.0 MB [3.31 KB/sec] of data, 0.0 MB of which were discarded afterwards.\n",
      "[2021-11-25 00:51:48,960] - obspy.clients.fdsn.mass_downloader - INFO: Client 'GEONET' - Status for 1 time intervals/channels after downloading: DOWNLOADED\n",
      "[2021-11-25 00:51:48,970] - obspy.clients.fdsn.mass_downloader - INFO: Client 'GEONET' - No station information to download.\n",
      "[2021-11-25 00:51:48,976] - obspy.clients.fdsn.mass_downloader - INFO: ============================== Final report\n",
      "[2021-11-25 00:51:48,980] - obspy.clients.fdsn.mass_downloader - INFO: 0 MiniSEED files [0.0 MB] already existed.\n",
      "[2021-11-25 00:51:48,980] - obspy.clients.fdsn.mass_downloader - INFO: 1 StationXML files [0.0 MB] already existed.\n",
      "[2021-11-25 00:51:48,980] - obspy.clients.fdsn.mass_downloader - INFO: Client 'GEONET' - Acquired 1 MiniSEED files [0.0 MB].\n",
      "[2021-11-25 00:51:48,981] - obspy.clients.fdsn.mass_downloader - INFO: Client 'GEONET' - Acquired 0 StationXML files [0.0 MB].\n",
      "[2021-11-25 00:51:48,981] - obspy.clients.fdsn.mass_downloader - INFO: Downloaded 0.0 MB in total.\n",
      "[2021-11-25 00:51:48,995] - obspy.clients.fdsn.mass_downloader - INFO: Initializing FDSN client(s) for GEONET.\n",
      "[2021-11-25 00:51:49,026] - obspy.clients.fdsn.mass_downloader - INFO: Successfully initialized 1 client(s): GEONET.\n",
      "[2021-11-25 00:51:49,038] - obspy.clients.fdsn.mass_downloader - INFO: Total acquired or preexisting stations: 0\n",
      "[2021-11-25 00:51:49,042] - obspy.clients.fdsn.mass_downloader - INFO: Client 'GEONET' - Requesting unreliable availability.\n"
     ]
    },
    {
     "name": "stdout",
     "output_type": "stream",
     "text": [
      "=================================================================\n",
      "Initiating mass download request.\n"
     ]
    },
    {
     "name": "stderr",
     "output_type": "stream",
     "text": [
      "[2021-11-25 00:51:49,700] - obspy.clients.fdsn.mass_downloader - INFO: Client 'GEONET' - Successfully requested availability (0.65 seconds)\n",
      "[2021-11-25 00:51:49,742] - obspy.clients.fdsn.mass_downloader - INFO: Client 'GEONET' - Found 1 stations (1 channels).\n",
      "[2021-11-25 00:51:49,759] - obspy.clients.fdsn.mass_downloader - INFO: Client 'GEONET' - Will attempt to download data from 1 stations.\n",
      "[2021-11-25 00:51:49,782] - obspy.clients.fdsn.mass_downloader - INFO: Client 'GEONET' - Status for 1 time intervals/channels before downloading: NEEDS_DOWNLOADING\n",
      "[2021-11-25 00:51:50,539] - obspy.clients.fdsn.mass_downloader - INFO: Client 'GEONET' - Successfully downloaded 1 channels (of 1)\n",
      "[2021-11-25 00:51:50,646] - obspy.clients.fdsn.mass_downloader - INFO: Client 'GEONET' - Launching basic QC checks...\n",
      "[2021-11-25 00:51:50,725] - obspy.clients.fdsn.mass_downloader - INFO: Client 'GEONET' - Downloaded 0.0 MB [3.55 KB/sec] of data, 0.0 MB of which were discarded afterwards.\n",
      "[2021-11-25 00:51:50,731] - obspy.clients.fdsn.mass_downloader - INFO: Client 'GEONET' - Status for 1 time intervals/channels after downloading: DOWNLOADED\n",
      "[2021-11-25 00:51:50,748] - obspy.clients.fdsn.mass_downloader - INFO: Client 'GEONET' - No station information to download.\n",
      "[2021-11-25 00:51:50,761] - obspy.clients.fdsn.mass_downloader - INFO: ============================== Final report\n",
      "[2021-11-25 00:51:50,765] - obspy.clients.fdsn.mass_downloader - INFO: 0 MiniSEED files [0.0 MB] already existed.\n",
      "[2021-11-25 00:51:50,766] - obspy.clients.fdsn.mass_downloader - INFO: 1 StationXML files [0.0 MB] already existed.\n",
      "[2021-11-25 00:51:50,766] - obspy.clients.fdsn.mass_downloader - INFO: Client 'GEONET' - Acquired 1 MiniSEED files [0.0 MB].\n",
      "[2021-11-25 00:51:50,766] - obspy.clients.fdsn.mass_downloader - INFO: Client 'GEONET' - Acquired 0 StationXML files [0.0 MB].\n",
      "[2021-11-25 00:51:50,767] - obspy.clients.fdsn.mass_downloader - INFO: Downloaded 0.0 MB in total.\n",
      "[2021-11-25 00:51:50,793] - obspy.clients.fdsn.mass_downloader - INFO: Initializing FDSN client(s) for GEONET.\n",
      "[2021-11-25 00:51:50,841] - obspy.clients.fdsn.mass_downloader - INFO: Successfully initialized 1 client(s): GEONET.\n",
      "[2021-11-25 00:51:50,846] - obspy.clients.fdsn.mass_downloader - INFO: Total acquired or preexisting stations: 0\n",
      "[2021-11-25 00:51:50,850] - obspy.clients.fdsn.mass_downloader - INFO: Client 'GEONET' - Requesting unreliable availability.\n"
     ]
    },
    {
     "name": "stdout",
     "output_type": "stream",
     "text": [
      "=================================================================\n",
      "Initiating mass download request.\n"
     ]
    },
    {
     "name": "stderr",
     "output_type": "stream",
     "text": [
      "[2021-11-25 00:51:51,430] - obspy.clients.fdsn.mass_downloader - INFO: Client 'GEONET' - Successfully requested availability (0.58 seconds)\n",
      "[2021-11-25 00:51:51,443] - obspy.clients.fdsn.mass_downloader - INFO: Client 'GEONET' - Found 1 stations (1 channels).\n",
      "[2021-11-25 00:51:51,454] - obspy.clients.fdsn.mass_downloader - INFO: Client 'GEONET' - Will attempt to download data from 1 stations.\n",
      "[2021-11-25 00:51:51,462] - obspy.clients.fdsn.mass_downloader - INFO: Client 'GEONET' - Status for 1 time intervals/channels before downloading: NEEDS_DOWNLOADING\n",
      "[2021-11-25 00:51:52,209] - obspy.clients.fdsn.mass_downloader - INFO: Client 'GEONET' - Successfully downloaded 1 channels (of 1)\n",
      "[2021-11-25 00:51:52,223] - obspy.clients.fdsn.mass_downloader - INFO: Client 'GEONET' - Launching basic QC checks...\n",
      "[2021-11-25 00:51:52,238] - obspy.clients.fdsn.mass_downloader - INFO: Client 'GEONET' - Downloaded 0.0 MB [3.99 KB/sec] of data, 0.0 MB of which were discarded afterwards.\n",
      "[2021-11-25 00:51:52,239] - obspy.clients.fdsn.mass_downloader - INFO: Client 'GEONET' - Status for 1 time intervals/channels after downloading: DOWNLOADED\n",
      "[2021-11-25 00:51:52,248] - obspy.clients.fdsn.mass_downloader - INFO: Client 'GEONET' - No station information to download.\n",
      "[2021-11-25 00:51:52,251] - obspy.clients.fdsn.mass_downloader - INFO: ============================== Final report\n",
      "[2021-11-25 00:51:52,251] - obspy.clients.fdsn.mass_downloader - INFO: 0 MiniSEED files [0.0 MB] already existed.\n",
      "[2021-11-25 00:51:52,252] - obspy.clients.fdsn.mass_downloader - INFO: 1 StationXML files [0.0 MB] already existed.\n",
      "[2021-11-25 00:51:52,253] - obspy.clients.fdsn.mass_downloader - INFO: Client 'GEONET' - Acquired 1 MiniSEED files [0.0 MB].\n",
      "[2021-11-25 00:51:52,254] - obspy.clients.fdsn.mass_downloader - INFO: Client 'GEONET' - Acquired 0 StationXML files [0.0 MB].\n",
      "[2021-11-25 00:51:52,255] - obspy.clients.fdsn.mass_downloader - INFO: Downloaded 0.0 MB in total.\n",
      "[2021-11-25 00:51:52,264] - obspy.clients.fdsn.mass_downloader - INFO: Initializing FDSN client(s) for GEONET.\n",
      "[2021-11-25 00:51:52,272] - obspy.clients.fdsn.mass_downloader - INFO: Successfully initialized 1 client(s): GEONET.\n",
      "[2021-11-25 00:51:52,273] - obspy.clients.fdsn.mass_downloader - INFO: Total acquired or preexisting stations: 0\n",
      "[2021-11-25 00:51:52,274] - obspy.clients.fdsn.mass_downloader - INFO: Client 'GEONET' - Requesting unreliable availability.\n"
     ]
    },
    {
     "name": "stdout",
     "output_type": "stream",
     "text": [
      "=================================================================\n",
      "Initiating mass download request.\n"
     ]
    },
    {
     "name": "stderr",
     "output_type": "stream",
     "text": [
      "[2021-11-25 00:51:52,877] - obspy.clients.fdsn.mass_downloader - INFO: Client 'GEONET' - Successfully requested availability (0.60 seconds)\n",
      "[2021-11-25 00:51:52,915] - obspy.clients.fdsn.mass_downloader - INFO: Client 'GEONET' - Found 1 stations (1 channels).\n",
      "[2021-11-25 00:51:52,924] - obspy.clients.fdsn.mass_downloader - INFO: Client 'GEONET' - Will attempt to download data from 1 stations.\n",
      "[2021-11-25 00:51:52,938] - obspy.clients.fdsn.mass_downloader - INFO: Client 'GEONET' - Status for 1 time intervals/channels before downloading: NEEDS_DOWNLOADING\n",
      "[2021-11-25 00:51:53,850] - obspy.clients.fdsn.mass_downloader - INFO: Client 'GEONET' - Successfully downloaded 1 channels (of 1)\n",
      "[2021-11-25 00:51:53,868] - obspy.clients.fdsn.mass_downloader - INFO: Client 'GEONET' - Launching basic QC checks...\n",
      "[2021-11-25 00:51:53,884] - obspy.clients.fdsn.mass_downloader - INFO: Client 'GEONET' - Downloaded 0.0 MB [3.89 KB/sec] of data, 0.0 MB of which were discarded afterwards.\n",
      "[2021-11-25 00:51:53,885] - obspy.clients.fdsn.mass_downloader - INFO: Client 'GEONET' - Status for 1 time intervals/channels after downloading: DOWNLOADED\n",
      "[2021-11-25 00:51:53,892] - obspy.clients.fdsn.mass_downloader - INFO: Client 'GEONET' - No station information to download.\n",
      "[2021-11-25 00:51:53,894] - obspy.clients.fdsn.mass_downloader - INFO: ============================== Final report\n",
      "[2021-11-25 00:51:53,895] - obspy.clients.fdsn.mass_downloader - INFO: 0 MiniSEED files [0.0 MB] already existed.\n",
      "[2021-11-25 00:51:53,896] - obspy.clients.fdsn.mass_downloader - INFO: 1 StationXML files [0.0 MB] already existed.\n",
      "[2021-11-25 00:51:53,897] - obspy.clients.fdsn.mass_downloader - INFO: Client 'GEONET' - Acquired 1 MiniSEED files [0.0 MB].\n",
      "[2021-11-25 00:51:53,898] - obspy.clients.fdsn.mass_downloader - INFO: Client 'GEONET' - Acquired 0 StationXML files [0.0 MB].\n",
      "[2021-11-25 00:51:53,898] - obspy.clients.fdsn.mass_downloader - INFO: Downloaded 0.0 MB in total.\n",
      "[2021-11-25 00:51:53,903] - obspy.clients.fdsn.mass_downloader - INFO: Initializing FDSN client(s) for GEONET.\n",
      "[2021-11-25 00:51:53,913] - obspy.clients.fdsn.mass_downloader - INFO: Successfully initialized 1 client(s): GEONET.\n",
      "[2021-11-25 00:51:53,914] - obspy.clients.fdsn.mass_downloader - INFO: Total acquired or preexisting stations: 0\n",
      "[2021-11-25 00:51:53,915] - obspy.clients.fdsn.mass_downloader - INFO: Client 'GEONET' - Requesting unreliable availability.\n"
     ]
    },
    {
     "name": "stdout",
     "output_type": "stream",
     "text": [
      "=================================================================\n",
      "Initiating mass download request.\n"
     ]
    },
    {
     "name": "stderr",
     "output_type": "stream",
     "text": [
      "[2021-11-25 00:51:54,498] - obspy.clients.fdsn.mass_downloader - INFO: Client 'GEONET' - Successfully requested availability (0.58 seconds)\n",
      "[2021-11-25 00:51:54,551] - obspy.clients.fdsn.mass_downloader - INFO: Client 'GEONET' - Found 1 stations (1 channels).\n",
      "[2021-11-25 00:51:54,567] - obspy.clients.fdsn.mass_downloader - INFO: Client 'GEONET' - Will attempt to download data from 1 stations.\n",
      "[2021-11-25 00:51:54,579] - obspy.clients.fdsn.mass_downloader - INFO: Client 'GEONET' - Status for 1 time intervals/channels before downloading: NEEDS_DOWNLOADING\n",
      "[2021-11-25 00:51:55,460] - obspy.clients.fdsn.mass_downloader - INFO: Client 'GEONET' - Successfully downloaded 1 channels (of 1)\n",
      "[2021-11-25 00:51:55,520] - obspy.clients.fdsn.mass_downloader - INFO: Client 'GEONET' - Launching basic QC checks...\n",
      "[2021-11-25 00:51:55,587] - obspy.clients.fdsn.mass_downloader - INFO: Client 'GEONET' - Downloaded 0.0 MB [3.83 KB/sec] of data, 0.0 MB of which were discarded afterwards.\n",
      "[2021-11-25 00:51:55,591] - obspy.clients.fdsn.mass_downloader - INFO: Client 'GEONET' - Status for 1 time intervals/channels after downloading: DOWNLOADED\n",
      "[2021-11-25 00:51:55,615] - obspy.clients.fdsn.mass_downloader - INFO: Client 'GEONET' - No station information to download.\n",
      "[2021-11-25 00:51:55,622] - obspy.clients.fdsn.mass_downloader - INFO: ============================== Final report\n",
      "[2021-11-25 00:51:55,624] - obspy.clients.fdsn.mass_downloader - INFO: 0 MiniSEED files [0.0 MB] already existed.\n",
      "[2021-11-25 00:51:55,626] - obspy.clients.fdsn.mass_downloader - INFO: 1 StationXML files [0.0 MB] already existed.\n",
      "[2021-11-25 00:51:55,629] - obspy.clients.fdsn.mass_downloader - INFO: Client 'GEONET' - Acquired 1 MiniSEED files [0.0 MB].\n",
      "[2021-11-25 00:51:55,630] - obspy.clients.fdsn.mass_downloader - INFO: Client 'GEONET' - Acquired 0 StationXML files [0.0 MB].\n",
      "[2021-11-25 00:51:55,633] - obspy.clients.fdsn.mass_downloader - INFO: Downloaded 0.0 MB in total.\n",
      "[2021-11-25 00:51:55,665] - obspy.clients.fdsn.mass_downloader - INFO: Initializing FDSN client(s) for GEONET.\n",
      "[2021-11-25 00:51:55,692] - obspy.clients.fdsn.mass_downloader - INFO: Successfully initialized 1 client(s): GEONET.\n",
      "[2021-11-25 00:51:55,725] - obspy.clients.fdsn.mass_downloader - INFO: Total acquired or preexisting stations: 0\n",
      "[2021-11-25 00:51:55,728] - obspy.clients.fdsn.mass_downloader - INFO: Client 'GEONET' - Requesting unreliable availability.\n"
     ]
    },
    {
     "name": "stdout",
     "output_type": "stream",
     "text": [
      "=================================================================\n",
      "Initiating mass download request.\n"
     ]
    },
    {
     "name": "stderr",
     "output_type": "stream",
     "text": [
      "[2021-11-25 00:51:56,351] - obspy.clients.fdsn.mass_downloader - INFO: Client 'GEONET' - Successfully requested availability (0.61 seconds)\n",
      "[2021-11-25 00:51:56,484] - obspy.clients.fdsn.mass_downloader - INFO: Client 'GEONET' - Found 1 stations (1 channels).\n",
      "[2021-11-25 00:51:56,518] - obspy.clients.fdsn.mass_downloader - INFO: Client 'GEONET' - Will attempt to download data from 1 stations.\n",
      "[2021-11-25 00:51:56,540] - obspy.clients.fdsn.mass_downloader - INFO: Client 'GEONET' - Status for 1 time intervals/channels before downloading: NEEDS_DOWNLOADING\n",
      "[2021-11-25 00:51:57,450] - obspy.clients.fdsn.mass_downloader - INFO: Client 'GEONET' - Successfully downloaded 1 channels (of 1)\n",
      "[2021-11-25 00:51:57,530] - obspy.clients.fdsn.mass_downloader - INFO: Client 'GEONET' - Launching basic QC checks...\n",
      "[2021-11-25 00:51:57,576] - obspy.clients.fdsn.mass_downloader - INFO: Client 'GEONET' - Downloaded 0.0 MB [3.69 KB/sec] of data, 0.0 MB of which were discarded afterwards.\n",
      "[2021-11-25 00:51:57,582] - obspy.clients.fdsn.mass_downloader - INFO: Client 'GEONET' - Status for 1 time intervals/channels after downloading: DOWNLOADED\n",
      "[2021-11-25 00:51:57,601] - obspy.clients.fdsn.mass_downloader - INFO: Client 'GEONET' - No station information to download.\n",
      "[2021-11-25 00:51:57,612] - obspy.clients.fdsn.mass_downloader - INFO: ============================== Final report\n",
      "[2021-11-25 00:51:57,615] - obspy.clients.fdsn.mass_downloader - INFO: 0 MiniSEED files [0.0 MB] already existed.\n",
      "[2021-11-25 00:51:57,618] - obspy.clients.fdsn.mass_downloader - INFO: 1 StationXML files [0.0 MB] already existed.\n",
      "[2021-11-25 00:51:57,626] - obspy.clients.fdsn.mass_downloader - INFO: Client 'GEONET' - Acquired 1 MiniSEED files [0.0 MB].\n",
      "[2021-11-25 00:51:57,628] - obspy.clients.fdsn.mass_downloader - INFO: Client 'GEONET' - Acquired 0 StationXML files [0.0 MB].\n",
      "[2021-11-25 00:51:57,630] - obspy.clients.fdsn.mass_downloader - INFO: Downloaded 0.0 MB in total.\n",
      "[2021-11-25 00:51:57,644] - obspy.clients.fdsn.mass_downloader - INFO: Initializing FDSN client(s) for GEONET.\n",
      "[2021-11-25 00:51:57,687] - obspy.clients.fdsn.mass_downloader - INFO: Successfully initialized 1 client(s): GEONET.\n",
      "[2021-11-25 00:51:57,690] - obspy.clients.fdsn.mass_downloader - INFO: Total acquired or preexisting stations: 0\n",
      "[2021-11-25 00:51:57,693] - obspy.clients.fdsn.mass_downloader - INFO: Client 'GEONET' - Requesting unreliable availability.\n"
     ]
    },
    {
     "name": "stdout",
     "output_type": "stream",
     "text": [
      "=================================================================\n",
      "Initiating mass download request.\n"
     ]
    },
    {
     "name": "stderr",
     "output_type": "stream",
     "text": [
      "[2021-11-25 00:51:58,369] - obspy.clients.fdsn.mass_downloader - INFO: Client 'GEONET' - Successfully requested availability (0.68 seconds)\n",
      "[2021-11-25 00:51:58,428] - obspy.clients.fdsn.mass_downloader - INFO: Client 'GEONET' - Found 1 stations (1 channels).\n",
      "[2021-11-25 00:51:58,440] - obspy.clients.fdsn.mass_downloader - INFO: Client 'GEONET' - Will attempt to download data from 1 stations.\n",
      "[2021-11-25 00:51:58,451] - obspy.clients.fdsn.mass_downloader - INFO: Client 'GEONET' - Status for 1 time intervals/channels before downloading: NEEDS_DOWNLOADING\n",
      "[2021-11-25 00:51:59,521] - obspy.clients.fdsn.mass_downloader - INFO: Client 'GEONET' - Successfully downloaded 1 channels (of 1)\n",
      "[2021-11-25 00:51:59,656] - obspy.clients.fdsn.mass_downloader - INFO: Client 'GEONET' - Launching basic QC checks...\n",
      "[2021-11-25 00:51:59,696] - obspy.clients.fdsn.mass_downloader - INFO: Client 'GEONET' - Downloaded 0.0 MB [2.59 KB/sec] of data, 0.0 MB of which were discarded afterwards.\n",
      "[2021-11-25 00:51:59,701] - obspy.clients.fdsn.mass_downloader - INFO: Client 'GEONET' - Status for 1 time intervals/channels after downloading: DOWNLOADED\n",
      "[2021-11-25 00:51:59,715] - obspy.clients.fdsn.mass_downloader - INFO: Client 'GEONET' - No station information to download.\n",
      "[2021-11-25 00:51:59,730] - obspy.clients.fdsn.mass_downloader - INFO: ============================== Final report\n",
      "[2021-11-25 00:51:59,736] - obspy.clients.fdsn.mass_downloader - INFO: 0 MiniSEED files [0.0 MB] already existed.\n",
      "[2021-11-25 00:51:59,749] - obspy.clients.fdsn.mass_downloader - INFO: 1 StationXML files [0.0 MB] already existed.\n",
      "[2021-11-25 00:51:59,750] - obspy.clients.fdsn.mass_downloader - INFO: Client 'GEONET' - Acquired 1 MiniSEED files [0.0 MB].\n",
      "[2021-11-25 00:51:59,750] - obspy.clients.fdsn.mass_downloader - INFO: Client 'GEONET' - Acquired 0 StationXML files [0.0 MB].\n",
      "[2021-11-25 00:51:59,756] - obspy.clients.fdsn.mass_downloader - INFO: Downloaded 0.0 MB in total.\n",
      "[2021-11-25 00:51:59,785] - obspy.clients.fdsn.mass_downloader - INFO: Initializing FDSN client(s) for GEONET.\n",
      "[2021-11-25 00:51:59,799] - obspy.clients.fdsn.mass_downloader - INFO: Successfully initialized 1 client(s): GEONET.\n",
      "[2021-11-25 00:51:59,804] - obspy.clients.fdsn.mass_downloader - INFO: Total acquired or preexisting stations: 0\n",
      "[2021-11-25 00:51:59,807] - obspy.clients.fdsn.mass_downloader - INFO: Client 'GEONET' - Requesting unreliable availability.\n"
     ]
    },
    {
     "name": "stdout",
     "output_type": "stream",
     "text": [
      "=================================================================\n",
      "Initiating mass download request.\n"
     ]
    },
    {
     "name": "stderr",
     "output_type": "stream",
     "text": [
      "[2021-11-25 00:52:00,438] - obspy.clients.fdsn.mass_downloader - INFO: Client 'GEONET' - Successfully requested availability (0.63 seconds)\n",
      "[2021-11-25 00:52:00,453] - obspy.clients.fdsn.mass_downloader - INFO: Client 'GEONET' - Found 1 stations (1 channels).\n",
      "[2021-11-25 00:52:00,460] - obspy.clients.fdsn.mass_downloader - INFO: Client 'GEONET' - Will attempt to download data from 1 stations.\n",
      "[2021-11-25 00:52:00,471] - obspy.clients.fdsn.mass_downloader - INFO: Client 'GEONET' - Status for 1 time intervals/channels before downloading: NEEDS_DOWNLOADING\n",
      "[2021-11-25 00:52:01,635] - obspy.clients.fdsn.mass_downloader - INFO: Client 'GEONET' - Successfully downloaded 1 channels (of 1)\n",
      "[2021-11-25 00:52:01,676] - obspy.clients.fdsn.mass_downloader - INFO: Client 'GEONET' - Launching basic QC checks...\n",
      "[2021-11-25 00:52:01,715] - obspy.clients.fdsn.mass_downloader - INFO: Client 'GEONET' - Downloaded 0.0 MB [3.38 KB/sec] of data, 0.0 MB of which were discarded afterwards.\n",
      "[2021-11-25 00:52:01,723] - obspy.clients.fdsn.mass_downloader - INFO: Client 'GEONET' - Status for 1 time intervals/channels after downloading: DOWNLOADED\n",
      "[2021-11-25 00:52:01,751] - obspy.clients.fdsn.mass_downloader - INFO: Client 'GEONET' - No station information to download.\n",
      "[2021-11-25 00:52:01,783] - obspy.clients.fdsn.mass_downloader - INFO: ============================== Final report\n",
      "[2021-11-25 00:52:01,790] - obspy.clients.fdsn.mass_downloader - INFO: 0 MiniSEED files [0.0 MB] already existed.\n",
      "[2021-11-25 00:52:01,790] - obspy.clients.fdsn.mass_downloader - INFO: 1 StationXML files [0.0 MB] already existed.\n",
      "[2021-11-25 00:52:01,792] - obspy.clients.fdsn.mass_downloader - INFO: Client 'GEONET' - Acquired 1 MiniSEED files [0.0 MB].\n",
      "[2021-11-25 00:52:01,796] - obspy.clients.fdsn.mass_downloader - INFO: Client 'GEONET' - Acquired 0 StationXML files [0.0 MB].\n",
      "[2021-11-25 00:52:01,807] - obspy.clients.fdsn.mass_downloader - INFO: Downloaded 0.0 MB in total.\n",
      "[2021-11-25 00:52:01,818] - obspy.clients.fdsn.mass_downloader - INFO: Initializing FDSN client(s) for GEONET.\n",
      "[2021-11-25 00:52:01,887] - obspy.clients.fdsn.mass_downloader - INFO: Successfully initialized 1 client(s): GEONET.\n",
      "[2021-11-25 00:52:01,894] - obspy.clients.fdsn.mass_downloader - INFO: Total acquired or preexisting stations: 0\n",
      "[2021-11-25 00:52:01,899] - obspy.clients.fdsn.mass_downloader - INFO: Client 'GEONET' - Requesting unreliable availability.\n"
     ]
    },
    {
     "name": "stdout",
     "output_type": "stream",
     "text": [
      "=================================================================\n",
      "Initiating mass download request.\n"
     ]
    },
    {
     "name": "stderr",
     "output_type": "stream",
     "text": [
      "[2021-11-25 00:52:02,631] - obspy.clients.fdsn.mass_downloader - INFO: Client 'GEONET' - Successfully requested availability (0.73 seconds)\n",
      "[2021-11-25 00:52:02,640] - obspy.clients.fdsn.mass_downloader - INFO: Client 'GEONET' - Found 1 stations (1 channels).\n",
      "[2021-11-25 00:52:02,649] - obspy.clients.fdsn.mass_downloader - INFO: Client 'GEONET' - Will attempt to download data from 1 stations.\n",
      "[2021-11-25 00:52:02,653] - obspy.clients.fdsn.mass_downloader - INFO: Client 'GEONET' - Status for 1 time intervals/channels before downloading: NEEDS_DOWNLOADING\n",
      "[2021-11-25 00:52:03,428] - obspy.clients.fdsn.mass_downloader - INFO: Client 'GEONET' - Successfully downloaded 1 channels (of 1)\n",
      "[2021-11-25 00:52:03,472] - obspy.clients.fdsn.mass_downloader - INFO: Client 'GEONET' - Launching basic QC checks...\n",
      "[2021-11-25 00:52:03,528] - obspy.clients.fdsn.mass_downloader - INFO: Client 'GEONET' - Downloaded 0.0 MB [3.13 KB/sec] of data, 0.0 MB of which were discarded afterwards.\n",
      "[2021-11-25 00:52:03,534] - obspy.clients.fdsn.mass_downloader - INFO: Client 'GEONET' - Status for 1 time intervals/channels after downloading: DOWNLOADED\n",
      "[2021-11-25 00:52:03,557] - obspy.clients.fdsn.mass_downloader - INFO: Client 'GEONET' - No station information to download.\n",
      "[2021-11-25 00:52:03,565] - obspy.clients.fdsn.mass_downloader - INFO: ============================== Final report\n",
      "[2021-11-25 00:52:03,570] - obspy.clients.fdsn.mass_downloader - INFO: 0 MiniSEED files [0.0 MB] already existed.\n",
      "[2021-11-25 00:52:03,573] - obspy.clients.fdsn.mass_downloader - INFO: 1 StationXML files [0.0 MB] already existed.\n",
      "[2021-11-25 00:52:03,574] - obspy.clients.fdsn.mass_downloader - INFO: Client 'GEONET' - Acquired 1 MiniSEED files [0.0 MB].\n",
      "[2021-11-25 00:52:03,575] - obspy.clients.fdsn.mass_downloader - INFO: Client 'GEONET' - Acquired 0 StationXML files [0.0 MB].\n",
      "[2021-11-25 00:52:03,577] - obspy.clients.fdsn.mass_downloader - INFO: Downloaded 0.0 MB in total.\n",
      "[2021-11-25 00:52:03,606] - obspy.clients.fdsn.mass_downloader - INFO: Initializing FDSN client(s) for GEONET.\n",
      "[2021-11-25 00:52:03,647] - obspy.clients.fdsn.mass_downloader - INFO: Successfully initialized 1 client(s): GEONET.\n",
      "[2021-11-25 00:52:03,652] - obspy.clients.fdsn.mass_downloader - INFO: Total acquired or preexisting stations: 0\n",
      "[2021-11-25 00:52:03,653] - obspy.clients.fdsn.mass_downloader - INFO: Client 'GEONET' - Requesting unreliable availability.\n"
     ]
    },
    {
     "name": "stdout",
     "output_type": "stream",
     "text": [
      "=================================================================\n",
      "Initiating mass download request.\n"
     ]
    },
    {
     "name": "stderr",
     "output_type": "stream",
     "text": [
      "[2021-11-25 00:52:04,264] - obspy.clients.fdsn.mass_downloader - INFO: Client 'GEONET' - Successfully requested availability (0.61 seconds)\n",
      "[2021-11-25 00:52:04,281] - obspy.clients.fdsn.mass_downloader - INFO: Client 'GEONET' - Found 1 stations (1 channels).\n",
      "[2021-11-25 00:52:04,292] - obspy.clients.fdsn.mass_downloader - INFO: Client 'GEONET' - Will attempt to download data from 1 stations.\n",
      "[2021-11-25 00:52:04,298] - obspy.clients.fdsn.mass_downloader - INFO: Client 'GEONET' - Status for 1 time intervals/channels before downloading: NEEDS_DOWNLOADING\n",
      "[2021-11-25 00:52:05,096] - obspy.clients.fdsn.mass_downloader - INFO: Client 'GEONET' - Successfully downloaded 1 channels (of 1)\n",
      "[2021-11-25 00:52:05,127] - obspy.clients.fdsn.mass_downloader - INFO: Client 'GEONET' - Launching basic QC checks...\n",
      "[2021-11-25 00:52:05,168] - obspy.clients.fdsn.mass_downloader - INFO: Client 'GEONET' - Downloaded 0.0 MB [3.73 KB/sec] of data, 0.0 MB of which were discarded afterwards.\n",
      "[2021-11-25 00:52:05,173] - obspy.clients.fdsn.mass_downloader - INFO: Client 'GEONET' - Status for 1 time intervals/channels after downloading: DOWNLOADED\n",
      "[2021-11-25 00:52:05,187] - obspy.clients.fdsn.mass_downloader - INFO: Client 'GEONET' - No station information to download.\n",
      "[2021-11-25 00:52:05,197] - obspy.clients.fdsn.mass_downloader - INFO: ============================== Final report\n",
      "[2021-11-25 00:52:05,206] - obspy.clients.fdsn.mass_downloader - INFO: 0 MiniSEED files [0.0 MB] already existed.\n",
      "[2021-11-25 00:52:05,208] - obspy.clients.fdsn.mass_downloader - INFO: 1 StationXML files [0.0 MB] already existed.\n",
      "[2021-11-25 00:52:05,209] - obspy.clients.fdsn.mass_downloader - INFO: Client 'GEONET' - Acquired 1 MiniSEED files [0.0 MB].\n",
      "[2021-11-25 00:52:05,209] - obspy.clients.fdsn.mass_downloader - INFO: Client 'GEONET' - Acquired 0 StationXML files [0.0 MB].\n",
      "[2021-11-25 00:52:05,210] - obspy.clients.fdsn.mass_downloader - INFO: Downloaded 0.0 MB in total.\n",
      "[2021-11-25 00:52:05,229] - obspy.clients.fdsn.mass_downloader - INFO: Initializing FDSN client(s) for GEONET.\n",
      "[2021-11-25 00:52:05,265] - obspy.clients.fdsn.mass_downloader - INFO: Successfully initialized 1 client(s): GEONET.\n",
      "[2021-11-25 00:52:05,268] - obspy.clients.fdsn.mass_downloader - INFO: Total acquired or preexisting stations: 0\n",
      "[2021-11-25 00:52:05,278] - obspy.clients.fdsn.mass_downloader - INFO: Client 'GEONET' - Requesting unreliable availability.\n"
     ]
    },
    {
     "name": "stdout",
     "output_type": "stream",
     "text": [
      "=================================================================\n",
      "Initiating mass download request.\n"
     ]
    },
    {
     "name": "stderr",
     "output_type": "stream",
     "text": [
      "[2021-11-25 00:52:05,865] - obspy.clients.fdsn.mass_downloader - INFO: Client 'GEONET' - Successfully requested availability (0.58 seconds)\n",
      "[2021-11-25 00:52:05,873] - obspy.clients.fdsn.mass_downloader - INFO: Client 'GEONET' - Found 1 stations (1 channels).\n",
      "[2021-11-25 00:52:05,876] - obspy.clients.fdsn.mass_downloader - INFO: Client 'GEONET' - Will attempt to download data from 1 stations.\n",
      "[2021-11-25 00:52:05,877] - obspy.clients.fdsn.mass_downloader - INFO: Client 'GEONET' - Status for 1 time intervals/channels before downloading: NEEDS_DOWNLOADING\n",
      "[2021-11-25 00:52:06,731] - obspy.clients.fdsn.mass_downloader - INFO: Client 'GEONET' - Successfully downloaded 1 channels (of 1)\n",
      "[2021-11-25 00:52:06,740] - obspy.clients.fdsn.mass_downloader - INFO: Client 'GEONET' - Launching basic QC checks...\n",
      "[2021-11-25 00:52:06,752] - obspy.clients.fdsn.mass_downloader - INFO: Client 'GEONET' - Downloaded 0.0 MB [4.11 KB/sec] of data, 0.0 MB of which were discarded afterwards.\n",
      "[2021-11-25 00:52:06,752] - obspy.clients.fdsn.mass_downloader - INFO: Client 'GEONET' - Status for 1 time intervals/channels after downloading: DOWNLOADED\n",
      "[2021-11-25 00:52:06,756] - obspy.clients.fdsn.mass_downloader - INFO: Client 'GEONET' - No station information to download.\n",
      "[2021-11-25 00:52:06,757] - obspy.clients.fdsn.mass_downloader - INFO: ============================== Final report\n",
      "[2021-11-25 00:52:06,757] - obspy.clients.fdsn.mass_downloader - INFO: 0 MiniSEED files [0.0 MB] already existed.\n",
      "[2021-11-25 00:52:06,757] - obspy.clients.fdsn.mass_downloader - INFO: 1 StationXML files [0.0 MB] already existed.\n",
      "[2021-11-25 00:52:06,758] - obspy.clients.fdsn.mass_downloader - INFO: Client 'GEONET' - Acquired 1 MiniSEED files [0.0 MB].\n",
      "[2021-11-25 00:52:06,758] - obspy.clients.fdsn.mass_downloader - INFO: Client 'GEONET' - Acquired 0 StationXML files [0.0 MB].\n",
      "[2021-11-25 00:52:06,758] - obspy.clients.fdsn.mass_downloader - INFO: Downloaded 0.0 MB in total.\n",
      "[2021-11-25 00:52:06,764] - obspy.clients.fdsn.mass_downloader - INFO: Initializing FDSN client(s) for GEONET.\n",
      "[2021-11-25 00:52:06,772] - obspy.clients.fdsn.mass_downloader - INFO: Successfully initialized 1 client(s): GEONET.\n",
      "[2021-11-25 00:52:06,774] - obspy.clients.fdsn.mass_downloader - INFO: Total acquired or preexisting stations: 0\n",
      "[2021-11-25 00:52:06,775] - obspy.clients.fdsn.mass_downloader - INFO: Client 'GEONET' - Requesting unreliable availability.\n"
     ]
    },
    {
     "name": "stdout",
     "output_type": "stream",
     "text": [
      "=================================================================\n",
      "Initiating mass download request.\n"
     ]
    },
    {
     "name": "stderr",
     "output_type": "stream",
     "text": [
      "[2021-11-25 00:52:07,350] - obspy.clients.fdsn.mass_downloader - INFO: Client 'GEONET' - Successfully requested availability (0.57 seconds)\n",
      "[2021-11-25 00:52:07,388] - obspy.clients.fdsn.mass_downloader - INFO: Client 'GEONET' - Found 1 stations (1 channels).\n",
      "[2021-11-25 00:52:07,393] - obspy.clients.fdsn.mass_downloader - INFO: Client 'GEONET' - Will attempt to download data from 1 stations.\n",
      "[2021-11-25 00:52:07,397] - obspy.clients.fdsn.mass_downloader - INFO: Client 'GEONET' - Status for 1 time intervals/channels before downloading: NEEDS_DOWNLOADING\n",
      "[2021-11-25 00:52:08,390] - obspy.clients.fdsn.mass_downloader - INFO: Client 'GEONET' - Successfully downloaded 1 channels (of 1)\n",
      "[2021-11-25 00:52:08,410] - obspy.clients.fdsn.mass_downloader - INFO: Client 'GEONET' - Launching basic QC checks...\n",
      "[2021-11-25 00:52:08,437] - obspy.clients.fdsn.mass_downloader - INFO: Client 'GEONET' - Downloaded 0.0 MB [4.05 KB/sec] of data, 0.0 MB of which were discarded afterwards.\n",
      "[2021-11-25 00:52:08,444] - obspy.clients.fdsn.mass_downloader - INFO: Client 'GEONET' - Status for 1 time intervals/channels after downloading: DOWNLOADED\n",
      "[2021-11-25 00:52:08,452] - obspy.clients.fdsn.mass_downloader - INFO: Client 'GEONET' - No station information to download.\n",
      "[2021-11-25 00:52:08,456] - obspy.clients.fdsn.mass_downloader - INFO: ============================== Final report\n",
      "[2021-11-25 00:52:08,459] - obspy.clients.fdsn.mass_downloader - INFO: 0 MiniSEED files [0.0 MB] already existed.\n",
      "[2021-11-25 00:52:08,462] - obspy.clients.fdsn.mass_downloader - INFO: 1 StationXML files [0.0 MB] already existed.\n",
      "[2021-11-25 00:52:08,463] - obspy.clients.fdsn.mass_downloader - INFO: Client 'GEONET' - Acquired 1 MiniSEED files [0.0 MB].\n",
      "[2021-11-25 00:52:08,463] - obspy.clients.fdsn.mass_downloader - INFO: Client 'GEONET' - Acquired 0 StationXML files [0.0 MB].\n",
      "[2021-11-25 00:52:08,464] - obspy.clients.fdsn.mass_downloader - INFO: Downloaded 0.0 MB in total.\n",
      "[2021-11-25 00:52:08,474] - obspy.clients.fdsn.mass_downloader - INFO: Initializing FDSN client(s) for GEONET.\n",
      "[2021-11-25 00:52:08,510] - obspy.clients.fdsn.mass_downloader - INFO: Successfully initialized 1 client(s): GEONET.\n",
      "[2021-11-25 00:52:08,521] - obspy.clients.fdsn.mass_downloader - INFO: Total acquired or preexisting stations: 0\n",
      "[2021-11-25 00:52:08,524] - obspy.clients.fdsn.mass_downloader - INFO: Client 'GEONET' - Requesting unreliable availability.\n"
     ]
    },
    {
     "name": "stdout",
     "output_type": "stream",
     "text": [
      "=================================================================\n",
      "Initiating mass download request.\n"
     ]
    },
    {
     "name": "stderr",
     "output_type": "stream",
     "text": [
      "[2021-11-25 00:52:09,146] - obspy.clients.fdsn.mass_downloader - INFO: Client 'GEONET' - Successfully requested availability (0.62 seconds)\n",
      "[2021-11-25 00:52:09,165] - obspy.clients.fdsn.mass_downloader - INFO: Client 'GEONET' - Found 1 stations (1 channels).\n",
      "[2021-11-25 00:52:09,174] - obspy.clients.fdsn.mass_downloader - INFO: Client 'GEONET' - Will attempt to download data from 1 stations.\n",
      "[2021-11-25 00:52:09,183] - obspy.clients.fdsn.mass_downloader - INFO: Client 'GEONET' - Status for 1 time intervals/channels before downloading: NEEDS_DOWNLOADING\n",
      "[2021-11-25 00:52:10,068] - obspy.clients.fdsn.mass_downloader - INFO: Client 'GEONET' - Successfully downloaded 1 channels (of 1)\n",
      "[2021-11-25 00:52:10,111] - obspy.clients.fdsn.mass_downloader - INFO: Client 'GEONET' - Launching basic QC checks...\n",
      "[2021-11-25 00:52:10,142] - obspy.clients.fdsn.mass_downloader - INFO: Client 'GEONET' - Downloaded 0.0 MB [4.41 KB/sec] of data, 0.0 MB of which were discarded afterwards.\n",
      "[2021-11-25 00:52:10,147] - obspy.clients.fdsn.mass_downloader - INFO: Client 'GEONET' - Status for 1 time intervals/channels after downloading: DOWNLOADED\n",
      "[2021-11-25 00:52:10,158] - obspy.clients.fdsn.mass_downloader - INFO: Client 'GEONET' - No station information to download.\n",
      "[2021-11-25 00:52:10,165] - obspy.clients.fdsn.mass_downloader - INFO: ============================== Final report\n",
      "[2021-11-25 00:52:10,169] - obspy.clients.fdsn.mass_downloader - INFO: 0 MiniSEED files [0.0 MB] already existed.\n",
      "[2021-11-25 00:52:10,172] - obspy.clients.fdsn.mass_downloader - INFO: 1 StationXML files [0.0 MB] already existed.\n",
      "[2021-11-25 00:52:10,173] - obspy.clients.fdsn.mass_downloader - INFO: Client 'GEONET' - Acquired 1 MiniSEED files [0.0 MB].\n",
      "[2021-11-25 00:52:10,173] - obspy.clients.fdsn.mass_downloader - INFO: Client 'GEONET' - Acquired 0 StationXML files [0.0 MB].\n",
      "[2021-11-25 00:52:10,179] - obspy.clients.fdsn.mass_downloader - INFO: Downloaded 0.0 MB in total.\n",
      "[2021-11-25 00:52:10,187] - obspy.clients.fdsn.mass_downloader - INFO: Initializing FDSN client(s) for GEONET.\n",
      "[2021-11-25 00:52:10,212] - obspy.clients.fdsn.mass_downloader - INFO: Successfully initialized 1 client(s): GEONET.\n",
      "[2021-11-25 00:52:10,216] - obspy.clients.fdsn.mass_downloader - INFO: Total acquired or preexisting stations: 0\n",
      "[2021-11-25 00:52:10,218] - obspy.clients.fdsn.mass_downloader - INFO: Client 'GEONET' - Requesting unreliable availability.\n"
     ]
    },
    {
     "name": "stdout",
     "output_type": "stream",
     "text": [
      "=================================================================\n",
      "Initiating mass download request.\n"
     ]
    },
    {
     "name": "stderr",
     "output_type": "stream",
     "text": [
      "[2021-11-25 00:52:10,902] - obspy.clients.fdsn.mass_downloader - INFO: Client 'GEONET' - Successfully requested availability (0.68 seconds)\n",
      "[2021-11-25 00:52:10,916] - obspy.clients.fdsn.mass_downloader - INFO: Client 'GEONET' - Found 1 stations (1 channels).\n",
      "[2021-11-25 00:52:10,930] - obspy.clients.fdsn.mass_downloader - INFO: Client 'GEONET' - Will attempt to download data from 1 stations.\n",
      "[2021-11-25 00:52:10,949] - obspy.clients.fdsn.mass_downloader - INFO: Client 'GEONET' - Status for 1 time intervals/channels before downloading: NEEDS_DOWNLOADING\n",
      "[2021-11-25 00:52:11,831] - obspy.clients.fdsn.mass_downloader - INFO: Client 'GEONET' - Successfully downloaded 1 channels (of 1)\n",
      "[2021-11-25 00:52:11,848] - obspy.clients.fdsn.mass_downloader - INFO: Client 'GEONET' - Launching basic QC checks...\n",
      "[2021-11-25 00:52:11,894] - obspy.clients.fdsn.mass_downloader - INFO: Client 'GEONET' - Downloaded 0.0 MB [3.46 KB/sec] of data, 0.0 MB of which were discarded afterwards.\n",
      "[2021-11-25 00:52:11,899] - obspy.clients.fdsn.mass_downloader - INFO: Client 'GEONET' - Status for 1 time intervals/channels after downloading: DOWNLOADED\n",
      "[2021-11-25 00:52:11,906] - obspy.clients.fdsn.mass_downloader - INFO: Client 'GEONET' - No station information to download.\n",
      "[2021-11-25 00:52:11,912] - obspy.clients.fdsn.mass_downloader - INFO: ============================== Final report\n",
      "[2021-11-25 00:52:11,918] - obspy.clients.fdsn.mass_downloader - INFO: 0 MiniSEED files [0.0 MB] already existed.\n",
      "[2021-11-25 00:52:11,922] - obspy.clients.fdsn.mass_downloader - INFO: 1 StationXML files [0.0 MB] already existed.\n",
      "[2021-11-25 00:52:11,923] - obspy.clients.fdsn.mass_downloader - INFO: Client 'GEONET' - Acquired 1 MiniSEED files [0.0 MB].\n",
      "[2021-11-25 00:52:11,927] - obspy.clients.fdsn.mass_downloader - INFO: Client 'GEONET' - Acquired 0 StationXML files [0.0 MB].\n",
      "[2021-11-25 00:52:11,927] - obspy.clients.fdsn.mass_downloader - INFO: Downloaded 0.0 MB in total.\n",
      "[2021-11-25 00:52:11,959] - obspy.clients.fdsn.mass_downloader - INFO: Initializing FDSN client(s) for GEONET.\n",
      "[2021-11-25 00:52:11,998] - obspy.clients.fdsn.mass_downloader - INFO: Successfully initialized 1 client(s): GEONET.\n",
      "[2021-11-25 00:52:12,000] - obspy.clients.fdsn.mass_downloader - INFO: Total acquired or preexisting stations: 0\n",
      "[2021-11-25 00:52:12,002] - obspy.clients.fdsn.mass_downloader - INFO: Client 'GEONET' - Requesting unreliable availability.\n"
     ]
    },
    {
     "name": "stdout",
     "output_type": "stream",
     "text": [
      "=================================================================\n",
      "Initiating mass download request.\n"
     ]
    },
    {
     "name": "stderr",
     "output_type": "stream",
     "text": [
      "[2021-11-25 00:52:12,682] - obspy.clients.fdsn.mass_downloader - INFO: Client 'GEONET' - Successfully requested availability (0.68 seconds)\n",
      "[2021-11-25 00:52:12,705] - obspy.clients.fdsn.mass_downloader - INFO: Client 'GEONET' - Found 1 stations (1 channels).\n",
      "[2021-11-25 00:52:12,714] - obspy.clients.fdsn.mass_downloader - INFO: Client 'GEONET' - Will attempt to download data from 1 stations.\n",
      "[2021-11-25 00:52:12,734] - obspy.clients.fdsn.mass_downloader - INFO: Client 'GEONET' - Status for 1 time intervals/channels before downloading: NEEDS_DOWNLOADING\n",
      "[2021-11-25 00:52:13,724] - obspy.clients.fdsn.mass_downloader - INFO: Client 'GEONET' - Successfully downloaded 1 channels (of 1)\n",
      "[2021-11-25 00:52:13,754] - obspy.clients.fdsn.mass_downloader - INFO: Client 'GEONET' - Launching basic QC checks...\n",
      "[2021-11-25 00:52:13,792] - obspy.clients.fdsn.mass_downloader - INFO: Client 'GEONET' - Downloaded 0.0 MB [5.02 KB/sec] of data, 0.0 MB of which were discarded afterwards.\n",
      "[2021-11-25 00:52:13,800] - obspy.clients.fdsn.mass_downloader - INFO: Client 'GEONET' - Status for 1 time intervals/channels after downloading: DOWNLOADED\n",
      "[2021-11-25 00:52:13,819] - obspy.clients.fdsn.mass_downloader - INFO: Client 'GEONET' - No station information to download.\n",
      "[2021-11-25 00:52:13,829] - obspy.clients.fdsn.mass_downloader - INFO: ============================== Final report\n",
      "[2021-11-25 00:52:13,832] - obspy.clients.fdsn.mass_downloader - INFO: 0 MiniSEED files [0.0 MB] already existed.\n",
      "[2021-11-25 00:52:13,835] - obspy.clients.fdsn.mass_downloader - INFO: 1 StationXML files [0.0 MB] already existed.\n",
      "[2021-11-25 00:52:13,837] - obspy.clients.fdsn.mass_downloader - INFO: Client 'GEONET' - Acquired 1 MiniSEED files [0.0 MB].\n",
      "[2021-11-25 00:52:13,840] - obspy.clients.fdsn.mass_downloader - INFO: Client 'GEONET' - Acquired 0 StationXML files [0.0 MB].\n",
      "[2021-11-25 00:52:13,843] - obspy.clients.fdsn.mass_downloader - INFO: Downloaded 0.0 MB in total.\n",
      "[2021-11-25 00:52:13,853] - obspy.clients.fdsn.mass_downloader - INFO: Initializing FDSN client(s) for GEONET.\n",
      "[2021-11-25 00:52:13,863] - obspy.clients.fdsn.mass_downloader - INFO: Successfully initialized 1 client(s): GEONET.\n",
      "[2021-11-25 00:52:13,864] - obspy.clients.fdsn.mass_downloader - INFO: Total acquired or preexisting stations: 0\n",
      "[2021-11-25 00:52:13,864] - obspy.clients.fdsn.mass_downloader - INFO: Client 'GEONET' - Requesting unreliable availability.\n"
     ]
    },
    {
     "name": "stdout",
     "output_type": "stream",
     "text": [
      "=================================================================\n",
      "Initiating mass download request.\n"
     ]
    },
    {
     "name": "stderr",
     "output_type": "stream",
     "text": [
      "[2021-11-25 00:52:14,568] - obspy.clients.fdsn.mass_downloader - INFO: Client 'GEONET' - Successfully requested availability (0.70 seconds)\n",
      "[2021-11-25 00:52:14,589] - obspy.clients.fdsn.mass_downloader - INFO: Client 'GEONET' - Found 1 stations (1 channels).\n",
      "[2021-11-25 00:52:14,599] - obspy.clients.fdsn.mass_downloader - INFO: Client 'GEONET' - Will attempt to download data from 1 stations.\n",
      "[2021-11-25 00:52:14,610] - obspy.clients.fdsn.mass_downloader - INFO: Client 'GEONET' - Status for 1 time intervals/channels before downloading: NEEDS_DOWNLOADING\n",
      "[2021-11-25 00:52:15,483] - obspy.clients.fdsn.mass_downloader - INFO: Client 'GEONET' - Successfully downloaded 1 channels (of 1)\n",
      "[2021-11-25 00:52:15,496] - obspy.clients.fdsn.mass_downloader - INFO: Client 'GEONET' - Launching basic QC checks...\n",
      "[2021-11-25 00:52:15,506] - obspy.clients.fdsn.mass_downloader - INFO: Client 'GEONET' - Downloaded 0.0 MB [4.04 KB/sec] of data, 0.0 MB of which were discarded afterwards.\n",
      "[2021-11-25 00:52:15,510] - obspy.clients.fdsn.mass_downloader - INFO: Client 'GEONET' - Status for 1 time intervals/channels after downloading: DOWNLOADED\n",
      "[2021-11-25 00:52:15,519] - obspy.clients.fdsn.mass_downloader - INFO: Client 'GEONET' - No station information to download.\n",
      "[2021-11-25 00:52:15,521] - obspy.clients.fdsn.mass_downloader - INFO: ============================== Final report\n",
      "[2021-11-25 00:52:15,522] - obspy.clients.fdsn.mass_downloader - INFO: 0 MiniSEED files [0.0 MB] already existed.\n",
      "[2021-11-25 00:52:15,522] - obspy.clients.fdsn.mass_downloader - INFO: 1 StationXML files [0.0 MB] already existed.\n",
      "[2021-11-25 00:52:15,523] - obspy.clients.fdsn.mass_downloader - INFO: Client 'GEONET' - Acquired 1 MiniSEED files [0.0 MB].\n",
      "[2021-11-25 00:52:15,523] - obspy.clients.fdsn.mass_downloader - INFO: Client 'GEONET' - Acquired 0 StationXML files [0.0 MB].\n",
      "[2021-11-25 00:52:15,524] - obspy.clients.fdsn.mass_downloader - INFO: Downloaded 0.0 MB in total.\n",
      "[2021-11-25 00:52:15,530] - obspy.clients.fdsn.mass_downloader - INFO: Initializing FDSN client(s) for GEONET.\n",
      "[2021-11-25 00:52:15,550] - obspy.clients.fdsn.mass_downloader - INFO: Successfully initialized 1 client(s): GEONET.\n",
      "[2021-11-25 00:52:15,555] - obspy.clients.fdsn.mass_downloader - INFO: Total acquired or preexisting stations: 0\n",
      "[2021-11-25 00:52:15,559] - obspy.clients.fdsn.mass_downloader - INFO: Client 'GEONET' - Requesting unreliable availability.\n"
     ]
    },
    {
     "name": "stdout",
     "output_type": "stream",
     "text": [
      "=================================================================\n",
      "Initiating mass download request.\n"
     ]
    },
    {
     "name": "stderr",
     "output_type": "stream",
     "text": [
      "[2021-11-25 00:52:16,243] - obspy.clients.fdsn.mass_downloader - INFO: Client 'GEONET' - Successfully requested availability (0.68 seconds)\n",
      "[2021-11-25 00:52:16,252] - obspy.clients.fdsn.mass_downloader - INFO: Client 'GEONET' - Found 1 stations (1 channels).\n",
      "[2021-11-25 00:52:16,256] - obspy.clients.fdsn.mass_downloader - INFO: Client 'GEONET' - Will attempt to download data from 1 stations.\n",
      "[2021-11-25 00:52:16,258] - obspy.clients.fdsn.mass_downloader - INFO: Client 'GEONET' - Status for 1 time intervals/channels before downloading: NEEDS_DOWNLOADING\n",
      "[2021-11-25 00:52:17,232] - obspy.clients.fdsn.mass_downloader - INFO: Client 'GEONET' - Successfully downloaded 1 channels (of 1)\n",
      "[2021-11-25 00:52:17,386] - obspy.clients.fdsn.mass_downloader - INFO: Client 'GEONET' - Launching basic QC checks...\n",
      "[2021-11-25 00:52:17,527] - obspy.clients.fdsn.mass_downloader - INFO: Client 'GEONET' - Downloaded 0.0 MB [4.04 KB/sec] of data, 0.0 MB of which were discarded afterwards.\n",
      "[2021-11-25 00:52:17,541] - obspy.clients.fdsn.mass_downloader - INFO: Client 'GEONET' - Status for 1 time intervals/channels after downloading: DOWNLOADED\n",
      "[2021-11-25 00:52:17,620] - obspy.clients.fdsn.mass_downloader - INFO: Client 'GEONET' - No station information to download.\n",
      "[2021-11-25 00:52:17,637] - obspy.clients.fdsn.mass_downloader - INFO: ============================== Final report\n",
      "[2021-11-25 00:52:17,641] - obspy.clients.fdsn.mass_downloader - INFO: 0 MiniSEED files [0.0 MB] already existed.\n",
      "[2021-11-25 00:52:17,651] - obspy.clients.fdsn.mass_downloader - INFO: 1 StationXML files [0.0 MB] already existed.\n",
      "[2021-11-25 00:52:17,657] - obspy.clients.fdsn.mass_downloader - INFO: Client 'GEONET' - Acquired 1 MiniSEED files [0.0 MB].\n",
      "[2021-11-25 00:52:17,671] - obspy.clients.fdsn.mass_downloader - INFO: Client 'GEONET' - Acquired 0 StationXML files [0.0 MB].\n",
      "[2021-11-25 00:52:17,676] - obspy.clients.fdsn.mass_downloader - INFO: Downloaded 0.0 MB in total.\n",
      "[2021-11-25 00:52:17,750] - obspy.clients.fdsn.mass_downloader - INFO: Initializing FDSN client(s) for GEONET.\n",
      "[2021-11-25 00:52:17,834] - obspy.clients.fdsn.mass_downloader - INFO: Successfully initialized 1 client(s): GEONET.\n",
      "[2021-11-25 00:52:17,839] - obspy.clients.fdsn.mass_downloader - INFO: Total acquired or preexisting stations: 0\n",
      "[2021-11-25 00:52:17,848] - obspy.clients.fdsn.mass_downloader - INFO: Client 'GEONET' - Requesting unreliable availability.\n"
     ]
    },
    {
     "name": "stdout",
     "output_type": "stream",
     "text": [
      "=================================================================\n",
      "Initiating mass download request.\n"
     ]
    },
    {
     "name": "stderr",
     "output_type": "stream",
     "text": [
      "[2021-11-25 00:52:18,475] - obspy.clients.fdsn.mass_downloader - INFO: Client 'GEONET' - Successfully requested availability (0.62 seconds)\n",
      "[2021-11-25 00:52:18,496] - obspy.clients.fdsn.mass_downloader - INFO: Client 'GEONET' - Found 1 stations (1 channels).\n",
      "[2021-11-25 00:52:18,500] - obspy.clients.fdsn.mass_downloader - INFO: Client 'GEONET' - Will attempt to download data from 1 stations.\n",
      "[2021-11-25 00:52:18,511] - obspy.clients.fdsn.mass_downloader - INFO: Client 'GEONET' - Status for 1 time intervals/channels before downloading: NEEDS_DOWNLOADING\n",
      "[2021-11-25 00:52:19,435] - obspy.clients.fdsn.mass_downloader - INFO: Client 'GEONET' - Successfully downloaded 1 channels (of 1)\n",
      "[2021-11-25 00:52:19,487] - obspy.clients.fdsn.mass_downloader - INFO: Client 'GEONET' - Launching basic QC checks...\n",
      "[2021-11-25 00:52:19,512] - obspy.clients.fdsn.mass_downloader - INFO: Client 'GEONET' - Downloaded 0.0 MB [3.23 KB/sec] of data, 0.0 MB of which were discarded afterwards.\n",
      "[2021-11-25 00:52:19,516] - obspy.clients.fdsn.mass_downloader - INFO: Client 'GEONET' - Status for 1 time intervals/channels after downloading: DOWNLOADED\n",
      "[2021-11-25 00:52:19,526] - obspy.clients.fdsn.mass_downloader - INFO: Client 'GEONET' - No station information to download.\n",
      "[2021-11-25 00:52:19,531] - obspy.clients.fdsn.mass_downloader - INFO: ============================== Final report\n",
      "[2021-11-25 00:52:19,536] - obspy.clients.fdsn.mass_downloader - INFO: 0 MiniSEED files [0.0 MB] already existed.\n",
      "[2021-11-25 00:52:19,543] - obspy.clients.fdsn.mass_downloader - INFO: 1 StationXML files [0.0 MB] already existed.\n",
      "[2021-11-25 00:52:19,543] - obspy.clients.fdsn.mass_downloader - INFO: Client 'GEONET' - Acquired 1 MiniSEED files [0.0 MB].\n",
      "[2021-11-25 00:52:19,544] - obspy.clients.fdsn.mass_downloader - INFO: Client 'GEONET' - Acquired 0 StationXML files [0.0 MB].\n",
      "[2021-11-25 00:52:19,544] - obspy.clients.fdsn.mass_downloader - INFO: Downloaded 0.0 MB in total.\n",
      "[2021-11-25 00:52:19,561] - obspy.clients.fdsn.mass_downloader - INFO: Initializing FDSN client(s) for GEONET.\n",
      "[2021-11-25 00:52:19,592] - obspy.clients.fdsn.mass_downloader - INFO: Successfully initialized 1 client(s): GEONET.\n",
      "[2021-11-25 00:52:19,606] - obspy.clients.fdsn.mass_downloader - INFO: Total acquired or preexisting stations: 0\n",
      "[2021-11-25 00:52:19,609] - obspy.clients.fdsn.mass_downloader - INFO: Client 'GEONET' - Requesting unreliable availability.\n"
     ]
    },
    {
     "name": "stdout",
     "output_type": "stream",
     "text": [
      "=================================================================\n",
      "Initiating mass download request.\n"
     ]
    },
    {
     "name": "stderr",
     "output_type": "stream",
     "text": [
      "[2021-11-25 00:52:20,343] - obspy.clients.fdsn.mass_downloader - INFO: Client 'GEONET' - Successfully requested availability (0.73 seconds)\n",
      "[2021-11-25 00:52:20,355] - obspy.clients.fdsn.mass_downloader - INFO: Client 'GEONET' - Found 1 stations (1 channels).\n",
      "[2021-11-25 00:52:20,359] - obspy.clients.fdsn.mass_downloader - INFO: Client 'GEONET' - Will attempt to download data from 1 stations.\n",
      "[2021-11-25 00:52:20,362] - obspy.clients.fdsn.mass_downloader - INFO: Client 'GEONET' - Status for 1 time intervals/channels before downloading: NEEDS_DOWNLOADING\n",
      "[2021-11-25 00:52:21,414] - obspy.clients.fdsn.mass_downloader - INFO: Client 'GEONET' - Successfully downloaded 1 channels (of 1)\n",
      "[2021-11-25 00:52:21,629] - obspy.clients.fdsn.mass_downloader - INFO: Client 'GEONET' - Launching basic QC checks...\n",
      "[2021-11-25 00:52:21,698] - obspy.clients.fdsn.mass_downloader - INFO: Client 'GEONET' - Downloaded 0.0 MB [2.45 KB/sec] of data, 0.0 MB of which were discarded afterwards.\n",
      "[2021-11-25 00:52:21,717] - obspy.clients.fdsn.mass_downloader - INFO: Client 'GEONET' - Status for 1 time intervals/channels after downloading: DOWNLOADED\n",
      "[2021-11-25 00:52:21,732] - obspy.clients.fdsn.mass_downloader - INFO: Client 'GEONET' - No station information to download.\n",
      "[2021-11-25 00:52:21,741] - obspy.clients.fdsn.mass_downloader - INFO: ============================== Final report\n",
      "[2021-11-25 00:52:21,742] - obspy.clients.fdsn.mass_downloader - INFO: 0 MiniSEED files [0.0 MB] already existed.\n",
      "[2021-11-25 00:52:21,747] - obspy.clients.fdsn.mass_downloader - INFO: 1 StationXML files [0.0 MB] already existed.\n",
      "[2021-11-25 00:52:21,748] - obspy.clients.fdsn.mass_downloader - INFO: Client 'GEONET' - Acquired 1 MiniSEED files [0.0 MB].\n",
      "[2021-11-25 00:52:21,756] - obspy.clients.fdsn.mass_downloader - INFO: Client 'GEONET' - Acquired 0 StationXML files [0.0 MB].\n",
      "[2021-11-25 00:52:21,757] - obspy.clients.fdsn.mass_downloader - INFO: Downloaded 0.0 MB in total.\n",
      "[2021-11-25 00:52:21,784] - obspy.clients.fdsn.mass_downloader - INFO: Initializing FDSN client(s) for GEONET.\n",
      "[2021-11-25 00:52:21,822] - obspy.clients.fdsn.mass_downloader - INFO: Successfully initialized 1 client(s): GEONET.\n",
      "[2021-11-25 00:52:21,825] - obspy.clients.fdsn.mass_downloader - INFO: Total acquired or preexisting stations: 0\n",
      "[2021-11-25 00:52:21,829] - obspy.clients.fdsn.mass_downloader - INFO: Client 'GEONET' - Requesting unreliable availability.\n"
     ]
    },
    {
     "name": "stdout",
     "output_type": "stream",
     "text": [
      "=================================================================\n",
      "Initiating mass download request.\n"
     ]
    },
    {
     "name": "stderr",
     "output_type": "stream",
     "text": [
      "[2021-11-25 00:52:22,472] - obspy.clients.fdsn.mass_downloader - INFO: Client 'GEONET' - Successfully requested availability (0.64 seconds)\n",
      "[2021-11-25 00:52:22,485] - obspy.clients.fdsn.mass_downloader - INFO: Client 'GEONET' - Found 1 stations (1 channels).\n",
      "[2021-11-25 00:52:22,490] - obspy.clients.fdsn.mass_downloader - INFO: Client 'GEONET' - Will attempt to download data from 1 stations.\n",
      "[2021-11-25 00:52:22,496] - obspy.clients.fdsn.mass_downloader - INFO: Client 'GEONET' - Status for 1 time intervals/channels before downloading: NEEDS_DOWNLOADING\n",
      "[2021-11-25 00:52:23,412] - obspy.clients.fdsn.mass_downloader - INFO: Client 'GEONET' - Successfully downloaded 1 channels (of 1)\n",
      "[2021-11-25 00:52:23,424] - obspy.clients.fdsn.mass_downloader - INFO: Client 'GEONET' - Launching basic QC checks...\n",
      "[2021-11-25 00:52:23,442] - obspy.clients.fdsn.mass_downloader - INFO: Client 'GEONET' - Downloaded 0.0 MB [3.27 KB/sec] of data, 0.0 MB of which were discarded afterwards.\n",
      "[2021-11-25 00:52:23,446] - obspy.clients.fdsn.mass_downloader - INFO: Client 'GEONET' - Status for 1 time intervals/channels after downloading: DOWNLOADED\n",
      "[2021-11-25 00:52:23,454] - obspy.clients.fdsn.mass_downloader - INFO: Client 'GEONET' - No station information to download.\n",
      "[2021-11-25 00:52:23,459] - obspy.clients.fdsn.mass_downloader - INFO: ============================== Final report\n",
      "[2021-11-25 00:52:23,461] - obspy.clients.fdsn.mass_downloader - INFO: 0 MiniSEED files [0.0 MB] already existed.\n",
      "[2021-11-25 00:52:23,462] - obspy.clients.fdsn.mass_downloader - INFO: 1 StationXML files [0.0 MB] already existed.\n",
      "[2021-11-25 00:52:23,462] - obspy.clients.fdsn.mass_downloader - INFO: Client 'GEONET' - Acquired 1 MiniSEED files [0.0 MB].\n",
      "[2021-11-25 00:52:23,462] - obspy.clients.fdsn.mass_downloader - INFO: Client 'GEONET' - Acquired 0 StationXML files [0.0 MB].\n",
      "[2021-11-25 00:52:23,463] - obspy.clients.fdsn.mass_downloader - INFO: Downloaded 0.0 MB in total.\n",
      "[2021-11-25 00:52:23,470] - obspy.clients.fdsn.mass_downloader - INFO: Initializing FDSN client(s) for GEONET.\n",
      "[2021-11-25 00:52:23,497] - obspy.clients.fdsn.mass_downloader - INFO: Successfully initialized 1 client(s): GEONET.\n",
      "[2021-11-25 00:52:23,501] - obspy.clients.fdsn.mass_downloader - INFO: Total acquired or preexisting stations: 0\n",
      "[2021-11-25 00:52:23,504] - obspy.clients.fdsn.mass_downloader - INFO: Client 'GEONET' - Requesting unreliable availability.\n"
     ]
    },
    {
     "name": "stdout",
     "output_type": "stream",
     "text": [
      "=================================================================\n",
      "Initiating mass download request.\n"
     ]
    },
    {
     "name": "stderr",
     "output_type": "stream",
     "text": [
      "[2021-11-25 00:52:24,197] - obspy.clients.fdsn.mass_downloader - INFO: Client 'GEONET' - Successfully requested availability (0.69 seconds)\n",
      "[2021-11-25 00:52:24,209] - obspy.clients.fdsn.mass_downloader - INFO: Client 'GEONET' - Found 1 stations (1 channels).\n",
      "[2021-11-25 00:52:24,213] - obspy.clients.fdsn.mass_downloader - INFO: Client 'GEONET' - Will attempt to download data from 1 stations.\n",
      "[2021-11-25 00:52:24,215] - obspy.clients.fdsn.mass_downloader - INFO: Client 'GEONET' - Status for 1 time intervals/channels before downloading: NEEDS_DOWNLOADING\n",
      "[2021-11-25 00:52:25,024] - obspy.clients.fdsn.mass_downloader - INFO: Client 'GEONET' - Successfully downloaded 1 channels (of 1)\n",
      "[2021-11-25 00:52:25,036] - obspy.clients.fdsn.mass_downloader - INFO: Client 'GEONET' - Launching basic QC checks...\n",
      "[2021-11-25 00:52:25,052] - obspy.clients.fdsn.mass_downloader - INFO: Client 'GEONET' - Downloaded 0.0 MB [3.73 KB/sec] of data, 0.0 MB of which were discarded afterwards.\n",
      "[2021-11-25 00:52:25,056] - obspy.clients.fdsn.mass_downloader - INFO: Client 'GEONET' - Status for 1 time intervals/channels after downloading: DOWNLOADED\n",
      "[2021-11-25 00:52:25,066] - obspy.clients.fdsn.mass_downloader - INFO: Client 'GEONET' - No station information to download.\n",
      "[2021-11-25 00:52:25,073] - obspy.clients.fdsn.mass_downloader - INFO: ============================== Final report\n",
      "[2021-11-25 00:52:25,076] - obspy.clients.fdsn.mass_downloader - INFO: 0 MiniSEED files [0.0 MB] already existed.\n",
      "[2021-11-25 00:52:25,081] - obspy.clients.fdsn.mass_downloader - INFO: 1 StationXML files [0.0 MB] already existed.\n",
      "[2021-11-25 00:52:25,083] - obspy.clients.fdsn.mass_downloader - INFO: Client 'GEONET' - Acquired 1 MiniSEED files [0.0 MB].\n",
      "[2021-11-25 00:52:25,083] - obspy.clients.fdsn.mass_downloader - INFO: Client 'GEONET' - Acquired 0 StationXML files [0.0 MB].\n",
      "[2021-11-25 00:52:25,084] - obspy.clients.fdsn.mass_downloader - INFO: Downloaded 0.0 MB in total.\n",
      "[2021-11-25 00:52:25,092] - obspy.clients.fdsn.mass_downloader - INFO: Initializing FDSN client(s) for GEONET.\n",
      "[2021-11-25 00:52:25,110] - obspy.clients.fdsn.mass_downloader - INFO: Successfully initialized 1 client(s): GEONET.\n",
      "[2021-11-25 00:52:25,114] - obspy.clients.fdsn.mass_downloader - INFO: Total acquired or preexisting stations: 0\n",
      "[2021-11-25 00:52:25,117] - obspy.clients.fdsn.mass_downloader - INFO: Client 'GEONET' - Requesting unreliable availability.\n"
     ]
    },
    {
     "name": "stdout",
     "output_type": "stream",
     "text": [
      "=================================================================\n",
      "Initiating mass download request.\n"
     ]
    },
    {
     "name": "stderr",
     "output_type": "stream",
     "text": [
      "[2021-11-25 00:52:25,760] - obspy.clients.fdsn.mass_downloader - INFO: Client 'GEONET' - Successfully requested availability (0.64 seconds)\n",
      "[2021-11-25 00:52:25,844] - obspy.clients.fdsn.mass_downloader - INFO: Client 'GEONET' - Found 1 stations (1 channels).\n",
      "[2021-11-25 00:52:25,856] - obspy.clients.fdsn.mass_downloader - INFO: Client 'GEONET' - Will attempt to download data from 1 stations.\n",
      "[2021-11-25 00:52:25,864] - obspy.clients.fdsn.mass_downloader - INFO: Client 'GEONET' - Status for 1 time intervals/channels before downloading: NEEDS_DOWNLOADING\n",
      "[2021-11-25 00:52:26,802] - obspy.clients.fdsn.mass_downloader - INFO: Client 'GEONET' - Successfully downloaded 1 channels (of 1)\n",
      "[2021-11-25 00:52:26,818] - obspy.clients.fdsn.mass_downloader - INFO: Client 'GEONET' - Launching basic QC checks...\n",
      "[2021-11-25 00:52:26,839] - obspy.clients.fdsn.mass_downloader - INFO: Client 'GEONET' - Downloaded 0.0 MB [3.36 KB/sec] of data, 0.0 MB of which were discarded afterwards.\n",
      "[2021-11-25 00:52:26,843] - obspy.clients.fdsn.mass_downloader - INFO: Client 'GEONET' - Status for 1 time intervals/channels after downloading: DOWNLOADED\n",
      "[2021-11-25 00:52:26,867] - obspy.clients.fdsn.mass_downloader - INFO: Client 'GEONET' - No station information to download.\n",
      "[2021-11-25 00:52:26,874] - obspy.clients.fdsn.mass_downloader - INFO: ============================== Final report\n",
      "[2021-11-25 00:52:26,880] - obspy.clients.fdsn.mass_downloader - INFO: 0 MiniSEED files [0.0 MB] already existed.\n",
      "[2021-11-25 00:52:26,883] - obspy.clients.fdsn.mass_downloader - INFO: 1 StationXML files [0.0 MB] already existed.\n",
      "[2021-11-25 00:52:26,884] - obspy.clients.fdsn.mass_downloader - INFO: Client 'GEONET' - Acquired 1 MiniSEED files [0.0 MB].\n",
      "[2021-11-25 00:52:26,884] - obspy.clients.fdsn.mass_downloader - INFO: Client 'GEONET' - Acquired 0 StationXML files [0.0 MB].\n",
      "[2021-11-25 00:52:26,885] - obspy.clients.fdsn.mass_downloader - INFO: Downloaded 0.0 MB in total.\n",
      "[2021-11-25 00:52:26,890] - obspy.clients.fdsn.mass_downloader - INFO: Initializing FDSN client(s) for GEONET.\n",
      "[2021-11-25 00:52:26,903] - obspy.clients.fdsn.mass_downloader - INFO: Successfully initialized 1 client(s): GEONET.\n",
      "[2021-11-25 00:52:26,905] - obspy.clients.fdsn.mass_downloader - INFO: Total acquired or preexisting stations: 0\n",
      "[2021-11-25 00:52:26,906] - obspy.clients.fdsn.mass_downloader - INFO: Client 'GEONET' - Requesting unreliable availability.\n"
     ]
    },
    {
     "name": "stdout",
     "output_type": "stream",
     "text": [
      "=================================================================\n",
      "Initiating mass download request.\n"
     ]
    },
    {
     "name": "stderr",
     "output_type": "stream",
     "text": [
      "[2021-11-25 00:52:27,652] - obspy.clients.fdsn.mass_downloader - INFO: Client 'GEONET' - Successfully requested availability (0.75 seconds)\n",
      "[2021-11-25 00:52:27,769] - obspy.clients.fdsn.mass_downloader - INFO: Client 'GEONET' - Found 1 stations (1 channels).\n",
      "[2021-11-25 00:52:27,783] - obspy.clients.fdsn.mass_downloader - INFO: Client 'GEONET' - Will attempt to download data from 1 stations.\n",
      "[2021-11-25 00:52:27,794] - obspy.clients.fdsn.mass_downloader - INFO: Client 'GEONET' - Status for 1 time intervals/channels before downloading: NEEDS_DOWNLOADING\n",
      "[2021-11-25 00:52:28,674] - obspy.clients.fdsn.mass_downloader - INFO: Client 'GEONET' - Successfully downloaded 1 channels (of 1)\n",
      "[2021-11-25 00:52:28,714] - obspy.clients.fdsn.mass_downloader - INFO: Client 'GEONET' - Launching basic QC checks...\n",
      "[2021-11-25 00:52:28,787] - obspy.clients.fdsn.mass_downloader - INFO: Client 'GEONET' - Downloaded 0.0 MB [3.45 KB/sec] of data, 0.0 MB of which were discarded afterwards.\n",
      "[2021-11-25 00:52:28,804] - obspy.clients.fdsn.mass_downloader - INFO: Client 'GEONET' - Status for 1 time intervals/channels after downloading: DOWNLOADED\n",
      "[2021-11-25 00:52:28,813] - obspy.clients.fdsn.mass_downloader - INFO: Client 'GEONET' - No station information to download.\n",
      "[2021-11-25 00:52:28,816] - obspy.clients.fdsn.mass_downloader - INFO: ============================== Final report\n",
      "[2021-11-25 00:52:28,828] - obspy.clients.fdsn.mass_downloader - INFO: 0 MiniSEED files [0.0 MB] already existed.\n",
      "[2021-11-25 00:52:28,830] - obspy.clients.fdsn.mass_downloader - INFO: 1 StationXML files [0.0 MB] already existed.\n",
      "[2021-11-25 00:52:28,830] - obspy.clients.fdsn.mass_downloader - INFO: Client 'GEONET' - Acquired 1 MiniSEED files [0.0 MB].\n",
      "[2021-11-25 00:52:28,831] - obspy.clients.fdsn.mass_downloader - INFO: Client 'GEONET' - Acquired 0 StationXML files [0.0 MB].\n",
      "[2021-11-25 00:52:28,831] - obspy.clients.fdsn.mass_downloader - INFO: Downloaded 0.0 MB in total.\n",
      "[2021-11-25 00:52:28,872] - obspy.clients.fdsn.mass_downloader - INFO: Initializing FDSN client(s) for GEONET.\n",
      "[2021-11-25 00:52:28,938] - obspy.clients.fdsn.mass_downloader - INFO: Successfully initialized 1 client(s): GEONET.\n",
      "[2021-11-25 00:52:28,946] - obspy.clients.fdsn.mass_downloader - INFO: Total acquired or preexisting stations: 0\n",
      "[2021-11-25 00:52:28,953] - obspy.clients.fdsn.mass_downloader - INFO: Client 'GEONET' - Requesting unreliable availability.\n"
     ]
    },
    {
     "name": "stdout",
     "output_type": "stream",
     "text": [
      "=================================================================\n",
      "Initiating mass download request.\n"
     ]
    },
    {
     "name": "stderr",
     "output_type": "stream",
     "text": [
      "[2021-11-25 00:52:29,672] - obspy.clients.fdsn.mass_downloader - INFO: Client 'GEONET' - Successfully requested availability (0.72 seconds)\n",
      "[2021-11-25 00:52:29,704] - obspy.clients.fdsn.mass_downloader - INFO: Client 'GEONET' - Found 1 stations (1 channels).\n",
      "[2021-11-25 00:52:29,728] - obspy.clients.fdsn.mass_downloader - INFO: Client 'GEONET' - Will attempt to download data from 1 stations.\n",
      "[2021-11-25 00:52:29,746] - obspy.clients.fdsn.mass_downloader - INFO: Client 'GEONET' - Status for 1 time intervals/channels before downloading: NEEDS_DOWNLOADING\n",
      "[2021-11-25 00:52:30,693] - obspy.clients.fdsn.mass_downloader - INFO: Client 'GEONET' - Successfully downloaded 1 channels (of 1)\n",
      "[2021-11-25 00:52:30,785] - obspy.clients.fdsn.mass_downloader - INFO: Client 'GEONET' - Launching basic QC checks...\n",
      "[2021-11-25 00:52:30,841] - obspy.clients.fdsn.mass_downloader - INFO: Client 'GEONET' - Downloaded 0.0 MB [3.53 KB/sec] of data, 0.0 MB of which were discarded afterwards.\n",
      "[2021-11-25 00:52:30,850] - obspy.clients.fdsn.mass_downloader - INFO: Client 'GEONET' - Status for 1 time intervals/channels after downloading: DOWNLOADED\n",
      "[2021-11-25 00:52:31,030] - obspy.clients.fdsn.mass_downloader - INFO: Client 'GEONET' - No station information to download.\n",
      "[2021-11-25 00:52:31,114] - obspy.clients.fdsn.mass_downloader - INFO: ============================== Final report\n",
      "[2021-11-25 00:52:31,120] - obspy.clients.fdsn.mass_downloader - INFO: 0 MiniSEED files [0.0 MB] already existed.\n",
      "[2021-11-25 00:52:31,129] - obspy.clients.fdsn.mass_downloader - INFO: 1 StationXML files [0.0 MB] already existed.\n",
      "[2021-11-25 00:52:31,132] - obspy.clients.fdsn.mass_downloader - INFO: Client 'GEONET' - Acquired 1 MiniSEED files [0.0 MB].\n",
      "[2021-11-25 00:52:31,137] - obspy.clients.fdsn.mass_downloader - INFO: Client 'GEONET' - Acquired 0 StationXML files [0.0 MB].\n",
      "[2021-11-25 00:52:31,138] - obspy.clients.fdsn.mass_downloader - INFO: Downloaded 0.0 MB in total.\n",
      "[2021-11-25 00:52:31,258] - obspy.clients.fdsn.mass_downloader - INFO: Initializing FDSN client(s) for GEONET.\n",
      "[2021-11-25 00:52:31,332] - obspy.clients.fdsn.mass_downloader - INFO: Successfully initialized 1 client(s): GEONET.\n",
      "[2021-11-25 00:52:31,385] - obspy.clients.fdsn.mass_downloader - INFO: Total acquired or preexisting stations: 0\n",
      "[2021-11-25 00:52:31,387] - obspy.clients.fdsn.mass_downloader - INFO: Client 'GEONET' - Requesting unreliable availability.\n"
     ]
    },
    {
     "name": "stdout",
     "output_type": "stream",
     "text": [
      "=================================================================\n",
      "Initiating mass download request.\n"
     ]
    },
    {
     "name": "stderr",
     "output_type": "stream",
     "text": [
      "[2021-11-25 00:52:32,080] - obspy.clients.fdsn.mass_downloader - INFO: Client 'GEONET' - Successfully requested availability (0.69 seconds)\n",
      "[2021-11-25 00:52:32,159] - obspy.clients.fdsn.mass_downloader - INFO: Client 'GEONET' - Found 1 stations (1 channels).\n",
      "[2021-11-25 00:52:32,173] - obspy.clients.fdsn.mass_downloader - INFO: Client 'GEONET' - Will attempt to download data from 1 stations.\n",
      "[2021-11-25 00:52:32,190] - obspy.clients.fdsn.mass_downloader - INFO: Client 'GEONET' - Status for 1 time intervals/channels before downloading: NEEDS_DOWNLOADING\n",
      "[2021-11-25 00:52:33,352] - obspy.clients.fdsn.mass_downloader - INFO: Client 'GEONET' - Successfully downloaded 1 channels (of 1)\n",
      "[2021-11-25 00:52:33,378] - obspy.clients.fdsn.mass_downloader - INFO: Client 'GEONET' - Launching basic QC checks...\n",
      "[2021-11-25 00:52:33,409] - obspy.clients.fdsn.mass_downloader - INFO: Client 'GEONET' - Downloaded 0.0 MB [4.48 KB/sec] of data, 0.0 MB of which were discarded afterwards.\n",
      "[2021-11-25 00:52:33,414] - obspy.clients.fdsn.mass_downloader - INFO: Client 'GEONET' - Status for 1 time intervals/channels after downloading: DOWNLOADED\n",
      "[2021-11-25 00:52:33,417] - obspy.clients.fdsn.mass_downloader - INFO: Client 'GEONET' - No station information to download.\n",
      "[2021-11-25 00:52:33,418] - obspy.clients.fdsn.mass_downloader - INFO: ============================== Final report\n",
      "[2021-11-25 00:52:33,421] - obspy.clients.fdsn.mass_downloader - INFO: 0 MiniSEED files [0.0 MB] already existed.\n",
      "[2021-11-25 00:52:33,425] - obspy.clients.fdsn.mass_downloader - INFO: 1 StationXML files [0.0 MB] already existed.\n",
      "[2021-11-25 00:52:33,426] - obspy.clients.fdsn.mass_downloader - INFO: Client 'GEONET' - Acquired 1 MiniSEED files [0.0 MB].\n",
      "[2021-11-25 00:52:33,426] - obspy.clients.fdsn.mass_downloader - INFO: Client 'GEONET' - Acquired 0 StationXML files [0.0 MB].\n",
      "[2021-11-25 00:52:33,427] - obspy.clients.fdsn.mass_downloader - INFO: Downloaded 0.0 MB in total.\n",
      "[2021-11-25 00:52:33,442] - obspy.clients.fdsn.mass_downloader - INFO: Initializing FDSN client(s) for GEONET.\n",
      "[2021-11-25 00:52:33,475] - obspy.clients.fdsn.mass_downloader - INFO: Successfully initialized 1 client(s): GEONET.\n",
      "[2021-11-25 00:52:33,478] - obspy.clients.fdsn.mass_downloader - INFO: Total acquired or preexisting stations: 0\n",
      "[2021-11-25 00:52:33,485] - obspy.clients.fdsn.mass_downloader - INFO: Client 'GEONET' - Requesting unreliable availability.\n"
     ]
    },
    {
     "name": "stdout",
     "output_type": "stream",
     "text": [
      "=================================================================\n",
      "Initiating mass download request.\n"
     ]
    },
    {
     "name": "stderr",
     "output_type": "stream",
     "text": [
      "[2021-11-25 00:52:34,126] - obspy.clients.fdsn.mass_downloader - INFO: Client 'GEONET' - Successfully requested availability (0.64 seconds)\n",
      "[2021-11-25 00:52:34,157] - obspy.clients.fdsn.mass_downloader - INFO: Client 'GEONET' - Found 1 stations (1 channels).\n",
      "[2021-11-25 00:52:34,163] - obspy.clients.fdsn.mass_downloader - INFO: Client 'GEONET' - Will attempt to download data from 1 stations.\n",
      "[2021-11-25 00:52:34,170] - obspy.clients.fdsn.mass_downloader - INFO: Client 'GEONET' - Status for 1 time intervals/channels before downloading: NEEDS_DOWNLOADING\n",
      "[2021-11-25 00:52:35,068] - obspy.clients.fdsn.mass_downloader - INFO: Client 'GEONET' - Successfully downloaded 1 channels (of 1)\n",
      "[2021-11-25 00:52:35,088] - obspy.clients.fdsn.mass_downloader - INFO: Client 'GEONET' - Launching basic QC checks...\n",
      "[2021-11-25 00:52:35,129] - obspy.clients.fdsn.mass_downloader - INFO: Client 'GEONET' - Downloaded 0.0 MB [3.42 KB/sec] of data, 0.0 MB of which were discarded afterwards.\n",
      "[2021-11-25 00:52:35,137] - obspy.clients.fdsn.mass_downloader - INFO: Client 'GEONET' - Status for 1 time intervals/channels after downloading: DOWNLOADED\n",
      "[2021-11-25 00:52:35,163] - obspy.clients.fdsn.mass_downloader - INFO: Client 'GEONET' - No station information to download.\n",
      "[2021-11-25 00:52:35,173] - obspy.clients.fdsn.mass_downloader - INFO: ============================== Final report\n",
      "[2021-11-25 00:52:35,180] - obspy.clients.fdsn.mass_downloader - INFO: 0 MiniSEED files [0.0 MB] already existed.\n",
      "[2021-11-25 00:52:35,189] - obspy.clients.fdsn.mass_downloader - INFO: 1 StationXML files [0.0 MB] already existed.\n",
      "[2021-11-25 00:52:35,190] - obspy.clients.fdsn.mass_downloader - INFO: Client 'GEONET' - Acquired 1 MiniSEED files [0.0 MB].\n",
      "[2021-11-25 00:52:35,190] - obspy.clients.fdsn.mass_downloader - INFO: Client 'GEONET' - Acquired 0 StationXML files [0.0 MB].\n",
      "[2021-11-25 00:52:35,191] - obspy.clients.fdsn.mass_downloader - INFO: Downloaded 0.0 MB in total.\n",
      "[2021-11-25 00:52:35,204] - obspy.clients.fdsn.mass_downloader - INFO: Initializing FDSN client(s) for GEONET.\n",
      "[2021-11-25 00:52:35,229] - obspy.clients.fdsn.mass_downloader - INFO: Successfully initialized 1 client(s): GEONET.\n",
      "[2021-11-25 00:52:35,245] - obspy.clients.fdsn.mass_downloader - INFO: Total acquired or preexisting stations: 0\n",
      "[2021-11-25 00:52:35,247] - obspy.clients.fdsn.mass_downloader - INFO: Client 'GEONET' - Requesting unreliable availability.\n"
     ]
    },
    {
     "name": "stdout",
     "output_type": "stream",
     "text": [
      "=================================================================\n",
      "Initiating mass download request.\n"
     ]
    },
    {
     "name": "stderr",
     "output_type": "stream",
     "text": [
      "[2021-11-25 00:52:35,881] - obspy.clients.fdsn.mass_downloader - INFO: Client 'GEONET' - Successfully requested availability (0.63 seconds)\n",
      "[2021-11-25 00:52:35,953] - obspy.clients.fdsn.mass_downloader - INFO: Client 'GEONET' - Found 1 stations (1 channels).\n",
      "[2021-11-25 00:52:35,968] - obspy.clients.fdsn.mass_downloader - INFO: Client 'GEONET' - Will attempt to download data from 1 stations.\n",
      "[2021-11-25 00:52:35,976] - obspy.clients.fdsn.mass_downloader - INFO: Client 'GEONET' - Status for 1 time intervals/channels before downloading: NEEDS_DOWNLOADING\n",
      "[2021-11-25 00:52:37,542] - obspy.clients.fdsn.mass_downloader - INFO: Client 'GEONET' - Successfully downloaded 1 channels (of 1)\n",
      "[2021-11-25 00:52:37,579] - obspy.clients.fdsn.mass_downloader - INFO: Client 'GEONET' - Launching basic QC checks...\n",
      "[2021-11-25 00:52:37,615] - obspy.clients.fdsn.mass_downloader - INFO: Client 'GEONET' - Downloaded 0.0 MB [2.56 KB/sec] of data, 0.0 MB of which were discarded afterwards.\n",
      "[2021-11-25 00:52:37,620] - obspy.clients.fdsn.mass_downloader - INFO: Client 'GEONET' - Status for 1 time intervals/channels after downloading: DOWNLOADED\n",
      "[2021-11-25 00:52:37,626] - obspy.clients.fdsn.mass_downloader - INFO: Client 'GEONET' - No station information to download.\n",
      "[2021-11-25 00:52:37,631] - obspy.clients.fdsn.mass_downloader - INFO: ============================== Final report\n",
      "[2021-11-25 00:52:37,632] - obspy.clients.fdsn.mass_downloader - INFO: 0 MiniSEED files [0.0 MB] already existed.\n",
      "[2021-11-25 00:52:37,633] - obspy.clients.fdsn.mass_downloader - INFO: 1 StationXML files [0.0 MB] already existed.\n",
      "[2021-11-25 00:52:37,633] - obspy.clients.fdsn.mass_downloader - INFO: Client 'GEONET' - Acquired 1 MiniSEED files [0.0 MB].\n",
      "[2021-11-25 00:52:37,634] - obspy.clients.fdsn.mass_downloader - INFO: Client 'GEONET' - Acquired 0 StationXML files [0.0 MB].\n",
      "[2021-11-25 00:52:37,634] - obspy.clients.fdsn.mass_downloader - INFO: Downloaded 0.0 MB in total.\n",
      "[2021-11-25 00:52:37,646] - obspy.clients.fdsn.mass_downloader - INFO: Initializing FDSN client(s) for GEONET.\n",
      "[2021-11-25 00:52:37,738] - obspy.clients.fdsn.mass_downloader - INFO: Successfully initialized 1 client(s): GEONET.\n",
      "[2021-11-25 00:52:37,742] - obspy.clients.fdsn.mass_downloader - INFO: Total acquired or preexisting stations: 0\n",
      "[2021-11-25 00:52:37,750] - obspy.clients.fdsn.mass_downloader - INFO: Client 'GEONET' - Requesting unreliable availability.\n"
     ]
    },
    {
     "name": "stdout",
     "output_type": "stream",
     "text": [
      "=================================================================\n",
      "Initiating mass download request.\n"
     ]
    },
    {
     "name": "stderr",
     "output_type": "stream",
     "text": [
      "[2021-11-25 00:52:38,404] - obspy.clients.fdsn.mass_downloader - INFO: Client 'GEONET' - Successfully requested availability (0.64 seconds)\n",
      "[2021-11-25 00:52:38,414] - obspy.clients.fdsn.mass_downloader - INFO: Client 'GEONET' - Found 1 stations (1 channels).\n",
      "[2021-11-25 00:52:38,415] - obspy.clients.fdsn.mass_downloader - INFO: Client 'GEONET' - Will attempt to download data from 1 stations.\n",
      "[2021-11-25 00:52:38,423] - obspy.clients.fdsn.mass_downloader - INFO: Client 'GEONET' - Status for 1 time intervals/channels before downloading: NEEDS_DOWNLOADING\n",
      "[2021-11-25 00:52:39,380] - obspy.clients.fdsn.mass_downloader - INFO: Client 'GEONET' - Successfully downloaded 1 channels (of 1)\n",
      "[2021-11-25 00:52:39,403] - obspy.clients.fdsn.mass_downloader - INFO: Client 'GEONET' - Launching basic QC checks...\n",
      "[2021-11-25 00:52:39,436] - obspy.clients.fdsn.mass_downloader - INFO: Client 'GEONET' - Downloaded 0.0 MB [3.12 KB/sec] of data, 0.0 MB of which were discarded afterwards.\n",
      "[2021-11-25 00:52:39,441] - obspy.clients.fdsn.mass_downloader - INFO: Client 'GEONET' - Status for 1 time intervals/channels after downloading: DOWNLOADED\n",
      "[2021-11-25 00:52:39,452] - obspy.clients.fdsn.mass_downloader - INFO: Client 'GEONET' - No station information to download.\n",
      "[2021-11-25 00:52:39,460] - obspy.clients.fdsn.mass_downloader - INFO: ============================== Final report\n",
      "[2021-11-25 00:52:39,464] - obspy.clients.fdsn.mass_downloader - INFO: 0 MiniSEED files [0.0 MB] already existed.\n",
      "[2021-11-25 00:52:39,466] - obspy.clients.fdsn.mass_downloader - INFO: 1 StationXML files [0.0 MB] already existed.\n",
      "[2021-11-25 00:52:39,467] - obspy.clients.fdsn.mass_downloader - INFO: Client 'GEONET' - Acquired 1 MiniSEED files [0.0 MB].\n",
      "[2021-11-25 00:52:39,468] - obspy.clients.fdsn.mass_downloader - INFO: Client 'GEONET' - Acquired 0 StationXML files [0.0 MB].\n",
      "[2021-11-25 00:52:39,468] - obspy.clients.fdsn.mass_downloader - INFO: Downloaded 0.0 MB in total.\n",
      "[2021-11-25 00:52:39,478] - obspy.clients.fdsn.mass_downloader - INFO: Initializing FDSN client(s) for GEONET.\n",
      "[2021-11-25 00:52:39,494] - obspy.clients.fdsn.mass_downloader - INFO: Successfully initialized 1 client(s): GEONET.\n",
      "[2021-11-25 00:52:39,503] - obspy.clients.fdsn.mass_downloader - INFO: Total acquired or preexisting stations: 0\n",
      "[2021-11-25 00:52:39,505] - obspy.clients.fdsn.mass_downloader - INFO: Client 'GEONET' - Requesting unreliable availability.\n"
     ]
    },
    {
     "name": "stdout",
     "output_type": "stream",
     "text": [
      "=================================================================\n",
      "Initiating mass download request.\n"
     ]
    },
    {
     "name": "stderr",
     "output_type": "stream",
     "text": [
      "[2021-11-25 00:52:40,067] - obspy.clients.fdsn.mass_downloader - INFO: Client 'GEONET' - Successfully requested availability (0.56 seconds)\n",
      "[2021-11-25 00:52:40,078] - obspy.clients.fdsn.mass_downloader - INFO: Client 'GEONET' - Found 1 stations (1 channels).\n",
      "[2021-11-25 00:52:40,086] - obspy.clients.fdsn.mass_downloader - INFO: Client 'GEONET' - Will attempt to download data from 1 stations.\n",
      "[2021-11-25 00:52:40,090] - obspy.clients.fdsn.mass_downloader - INFO: Client 'GEONET' - Status for 1 time intervals/channels before downloading: NEEDS_DOWNLOADING\n",
      "[2021-11-25 00:52:41,196] - obspy.clients.fdsn.mass_downloader - INFO: Client 'GEONET' - Successfully downloaded 1 channels (of 1)\n",
      "[2021-11-25 00:52:41,204] - obspy.clients.fdsn.mass_downloader - INFO: Client 'GEONET' - Launching basic QC checks...\n",
      "[2021-11-25 00:52:41,208] - obspy.clients.fdsn.mass_downloader - INFO: Client 'GEONET' - Downloaded 0.0 MB [4.18 KB/sec] of data, 0.0 MB of which were discarded afterwards.\n",
      "[2021-11-25 00:52:41,209] - obspy.clients.fdsn.mass_downloader - INFO: Client 'GEONET' - Status for 1 time intervals/channels after downloading: DOWNLOADED\n",
      "[2021-11-25 00:52:41,220] - obspy.clients.fdsn.mass_downloader - INFO: Client 'GEONET' - No station information to download.\n",
      "[2021-11-25 00:52:41,222] - obspy.clients.fdsn.mass_downloader - INFO: ============================== Final report\n",
      "[2021-11-25 00:52:41,223] - obspy.clients.fdsn.mass_downloader - INFO: 0 MiniSEED files [0.0 MB] already existed.\n",
      "[2021-11-25 00:52:41,224] - obspy.clients.fdsn.mass_downloader - INFO: 1 StationXML files [0.0 MB] already existed.\n",
      "[2021-11-25 00:52:41,226] - obspy.clients.fdsn.mass_downloader - INFO: Client 'GEONET' - Acquired 1 MiniSEED files [0.0 MB].\n",
      "[2021-11-25 00:52:41,226] - obspy.clients.fdsn.mass_downloader - INFO: Client 'GEONET' - Acquired 0 StationXML files [0.0 MB].\n",
      "[2021-11-25 00:52:41,227] - obspy.clients.fdsn.mass_downloader - INFO: Downloaded 0.0 MB in total.\n",
      "[2021-11-25 00:52:41,231] - obspy.clients.fdsn.mass_downloader - INFO: Initializing FDSN client(s) for GEONET.\n",
      "[2021-11-25 00:52:41,238] - obspy.clients.fdsn.mass_downloader - INFO: Successfully initialized 1 client(s): GEONET.\n",
      "[2021-11-25 00:52:41,240] - obspy.clients.fdsn.mass_downloader - INFO: Total acquired or preexisting stations: 0\n",
      "[2021-11-25 00:52:41,240] - obspy.clients.fdsn.mass_downloader - INFO: Client 'GEONET' - Requesting unreliable availability.\n"
     ]
    },
    {
     "name": "stdout",
     "output_type": "stream",
     "text": [
      "=================================================================\n",
      "Initiating mass download request.\n"
     ]
    },
    {
     "name": "stderr",
     "output_type": "stream",
     "text": [
      "[2021-11-25 00:52:41,887] - obspy.clients.fdsn.mass_downloader - INFO: Client 'GEONET' - Successfully requested availability (0.65 seconds)\n",
      "[2021-11-25 00:52:41,907] - obspy.clients.fdsn.mass_downloader - INFO: Client 'GEONET' - Found 1 stations (1 channels).\n",
      "[2021-11-25 00:52:41,910] - obspy.clients.fdsn.mass_downloader - INFO: Client 'GEONET' - Will attempt to download data from 1 stations.\n",
      "[2021-11-25 00:52:41,917] - obspy.clients.fdsn.mass_downloader - INFO: Client 'GEONET' - Status for 1 time intervals/channels before downloading: NEEDS_DOWNLOADING\n",
      "[2021-11-25 00:52:42,797] - obspy.clients.fdsn.mass_downloader - INFO: Client 'GEONET' - Successfully downloaded 1 channels (of 1)\n",
      "[2021-11-25 00:52:42,873] - obspy.clients.fdsn.mass_downloader - INFO: Client 'GEONET' - Launching basic QC checks...\n",
      "[2021-11-25 00:52:42,925] - obspy.clients.fdsn.mass_downloader - INFO: Client 'GEONET' - Downloaded 0.0 MB [3.74 KB/sec] of data, 0.0 MB of which were discarded afterwards.\n",
      "[2021-11-25 00:52:42,931] - obspy.clients.fdsn.mass_downloader - INFO: Client 'GEONET' - Status for 1 time intervals/channels after downloading: DOWNLOADED\n",
      "[2021-11-25 00:52:42,957] - obspy.clients.fdsn.mass_downloader - INFO: Client 'GEONET' - No station information to download.\n",
      "[2021-11-25 00:52:42,965] - obspy.clients.fdsn.mass_downloader - INFO: ============================== Final report\n",
      "[2021-11-25 00:52:42,967] - obspy.clients.fdsn.mass_downloader - INFO: 0 MiniSEED files [0.0 MB] already existed.\n",
      "[2021-11-25 00:52:42,977] - obspy.clients.fdsn.mass_downloader - INFO: 1 StationXML files [0.0 MB] already existed.\n",
      "[2021-11-25 00:52:42,983] - obspy.clients.fdsn.mass_downloader - INFO: Client 'GEONET' - Acquired 1 MiniSEED files [0.0 MB].\n",
      "[2021-11-25 00:52:42,984] - obspy.clients.fdsn.mass_downloader - INFO: Client 'GEONET' - Acquired 0 StationXML files [0.0 MB].\n",
      "[2021-11-25 00:52:42,991] - obspy.clients.fdsn.mass_downloader - INFO: Downloaded 0.0 MB in total.\n",
      "[2021-11-25 00:52:43,205] - obspy.clients.fdsn.mass_downloader - INFO: Initializing FDSN client(s) for GEONET.\n",
      "[2021-11-25 00:52:43,325] - obspy.clients.fdsn.mass_downloader - INFO: Successfully initialized 1 client(s): GEONET.\n",
      "[2021-11-25 00:52:43,341] - obspy.clients.fdsn.mass_downloader - INFO: Total acquired or preexisting stations: 0\n",
      "[2021-11-25 00:52:43,356] - obspy.clients.fdsn.mass_downloader - INFO: Client 'GEONET' - Requesting unreliable availability.\n"
     ]
    },
    {
     "name": "stdout",
     "output_type": "stream",
     "text": [
      "=================================================================\n",
      "Initiating mass download request.\n"
     ]
    },
    {
     "name": "stderr",
     "output_type": "stream",
     "text": [
      "[2021-11-25 00:52:44,019] - obspy.clients.fdsn.mass_downloader - INFO: Client 'GEONET' - Successfully requested availability (0.66 seconds)\n",
      "[2021-11-25 00:52:44,058] - obspy.clients.fdsn.mass_downloader - INFO: Client 'GEONET' - Found 1 stations (1 channels).\n",
      "[2021-11-25 00:52:44,065] - obspy.clients.fdsn.mass_downloader - INFO: Client 'GEONET' - Will attempt to download data from 1 stations.\n",
      "[2021-11-25 00:52:44,084] - obspy.clients.fdsn.mass_downloader - INFO: Client 'GEONET' - Status for 1 time intervals/channels before downloading: NEEDS_DOWNLOADING\n",
      "[2021-11-25 00:52:44,958] - obspy.clients.fdsn.mass_downloader - INFO: Client 'GEONET' - Successfully downloaded 1 channels (of 1)\n",
      "[2021-11-25 00:52:44,994] - obspy.clients.fdsn.mass_downloader - INFO: Client 'GEONET' - Launching basic QC checks...\n",
      "[2021-11-25 00:52:45,025] - obspy.clients.fdsn.mass_downloader - INFO: Client 'GEONET' - Downloaded 0.0 MB [3.40 KB/sec] of data, 0.0 MB of which were discarded afterwards.\n",
      "[2021-11-25 00:52:45,031] - obspy.clients.fdsn.mass_downloader - INFO: Client 'GEONET' - Status for 1 time intervals/channels after downloading: DOWNLOADED\n",
      "[2021-11-25 00:52:45,038] - obspy.clients.fdsn.mass_downloader - INFO: Client 'GEONET' - No station information to download.\n",
      "[2021-11-25 00:52:45,043] - obspy.clients.fdsn.mass_downloader - INFO: ============================== Final report\n",
      "[2021-11-25 00:52:45,046] - obspy.clients.fdsn.mass_downloader - INFO: 0 MiniSEED files [0.0 MB] already existed.\n",
      "[2021-11-25 00:52:45,046] - obspy.clients.fdsn.mass_downloader - INFO: 1 StationXML files [0.0 MB] already existed.\n",
      "[2021-11-25 00:52:45,047] - obspy.clients.fdsn.mass_downloader - INFO: Client 'GEONET' - Acquired 1 MiniSEED files [0.0 MB].\n",
      "[2021-11-25 00:52:45,052] - obspy.clients.fdsn.mass_downloader - INFO: Client 'GEONET' - Acquired 0 StationXML files [0.0 MB].\n",
      "[2021-11-25 00:52:45,052] - obspy.clients.fdsn.mass_downloader - INFO: Downloaded 0.0 MB in total.\n",
      "[2021-11-25 00:52:45,063] - obspy.clients.fdsn.mass_downloader - INFO: Initializing FDSN client(s) for GEONET.\n",
      "[2021-11-25 00:52:45,088] - obspy.clients.fdsn.mass_downloader - INFO: Successfully initialized 1 client(s): GEONET.\n",
      "[2021-11-25 00:52:45,093] - obspy.clients.fdsn.mass_downloader - INFO: Total acquired or preexisting stations: 0\n",
      "[2021-11-25 00:52:45,097] - obspy.clients.fdsn.mass_downloader - INFO: Client 'GEONET' - Requesting unreliable availability.\n"
     ]
    },
    {
     "name": "stdout",
     "output_type": "stream",
     "text": [
      "=================================================================\n",
      "Initiating mass download request.\n"
     ]
    },
    {
     "name": "stderr",
     "output_type": "stream",
     "text": [
      "[2021-11-25 00:52:46,256] - obspy.clients.fdsn.mass_downloader - INFO: Client 'GEONET' - Successfully requested availability (1.16 seconds)\n",
      "[2021-11-25 00:52:46,258] - obspy.clients.fdsn.mass_downloader - INFO: Client 'GEONET' - Found 1 stations (1 channels).\n",
      "[2021-11-25 00:52:46,259] - obspy.clients.fdsn.mass_downloader - INFO: Client 'GEONET' - Will attempt to download data from 1 stations.\n",
      "[2021-11-25 00:52:46,259] - obspy.clients.fdsn.mass_downloader - INFO: Client 'GEONET' - Status for 1 time intervals/channels before downloading: NEEDS_DOWNLOADING\n",
      "[2021-11-25 00:52:48,061] - obspy.clients.fdsn.mass_downloader - INFO: Client 'GEONET' - Successfully downloaded 1 channels (of 1)\n",
      "[2021-11-25 00:52:48,092] - obspy.clients.fdsn.mass_downloader - INFO: Client 'GEONET' - Launching basic QC checks...\n",
      "[2021-11-25 00:52:48,108] - obspy.clients.fdsn.mass_downloader - INFO: Client 'GEONET' - Downloaded 0.0 MB [2.19 KB/sec] of data, 0.0 MB of which were discarded afterwards.\n",
      "[2021-11-25 00:52:48,111] - obspy.clients.fdsn.mass_downloader - INFO: Client 'GEONET' - Status for 1 time intervals/channels after downloading: DOWNLOADED\n",
      "[2021-11-25 00:52:48,134] - obspy.clients.fdsn.mass_downloader - INFO: Client 'GEONET' - No station information to download.\n",
      "[2021-11-25 00:52:48,145] - obspy.clients.fdsn.mass_downloader - INFO: ============================== Final report\n",
      "[2021-11-25 00:52:48,148] - obspy.clients.fdsn.mass_downloader - INFO: 0 MiniSEED files [0.0 MB] already existed.\n",
      "[2021-11-25 00:52:48,151] - obspy.clients.fdsn.mass_downloader - INFO: 1 StationXML files [0.0 MB] already existed.\n",
      "[2021-11-25 00:52:48,155] - obspy.clients.fdsn.mass_downloader - INFO: Client 'GEONET' - Acquired 1 MiniSEED files [0.0 MB].\n",
      "[2021-11-25 00:52:48,156] - obspy.clients.fdsn.mass_downloader - INFO: Client 'GEONET' - Acquired 0 StationXML files [0.0 MB].\n",
      "[2021-11-25 00:52:48,156] - obspy.clients.fdsn.mass_downloader - INFO: Downloaded 0.0 MB in total.\n",
      "[2021-11-25 00:52:48,167] - obspy.clients.fdsn.mass_downloader - INFO: Initializing FDSN client(s) for GEONET.\n",
      "[2021-11-25 00:52:48,203] - obspy.clients.fdsn.mass_downloader - INFO: Successfully initialized 1 client(s): GEONET.\n",
      "[2021-11-25 00:52:48,206] - obspy.clients.fdsn.mass_downloader - INFO: Total acquired or preexisting stations: 0\n",
      "[2021-11-25 00:52:48,208] - obspy.clients.fdsn.mass_downloader - INFO: Client 'GEONET' - Requesting unreliable availability.\n"
     ]
    },
    {
     "name": "stdout",
     "output_type": "stream",
     "text": [
      "=================================================================\n",
      "Initiating mass download request.\n"
     ]
    },
    {
     "name": "stderr",
     "output_type": "stream",
     "text": [
      "[2021-11-25 00:52:49,145] - obspy.clients.fdsn.mass_downloader - INFO: Client 'GEONET' - Successfully requested availability (0.94 seconds)\n",
      "[2021-11-25 00:52:49,260] - obspy.clients.fdsn.mass_downloader - INFO: Client 'GEONET' - Found 1 stations (1 channels).\n",
      "[2021-11-25 00:52:49,277] - obspy.clients.fdsn.mass_downloader - INFO: Client 'GEONET' - Will attempt to download data from 1 stations.\n",
      "[2021-11-25 00:52:49,295] - obspy.clients.fdsn.mass_downloader - INFO: Client 'GEONET' - Status for 1 time intervals/channels before downloading: NEEDS_DOWNLOADING\n",
      "[2021-11-25 00:52:50,253] - obspy.clients.fdsn.mass_downloader - INFO: Client 'GEONET' - Successfully downloaded 1 channels (of 1)\n",
      "[2021-11-25 00:52:50,256] - obspy.clients.fdsn.mass_downloader - INFO: Client 'GEONET' - Launching basic QC checks...\n",
      "[2021-11-25 00:52:50,260] - obspy.clients.fdsn.mass_downloader - INFO: Client 'GEONET' - Downloaded 0.0 MB [4.10 KB/sec] of data, 0.0 MB of which were discarded afterwards.\n",
      "[2021-11-25 00:52:50,261] - obspy.clients.fdsn.mass_downloader - INFO: Client 'GEONET' - Status for 1 time intervals/channels after downloading: DOWNLOADED\n",
      "[2021-11-25 00:52:50,262] - obspy.clients.fdsn.mass_downloader - INFO: Client 'GEONET' - No station information to download.\n",
      "[2021-11-25 00:52:50,263] - obspy.clients.fdsn.mass_downloader - INFO: ============================== Final report\n",
      "[2021-11-25 00:52:50,263] - obspy.clients.fdsn.mass_downloader - INFO: 0 MiniSEED files [0.0 MB] already existed.\n",
      "[2021-11-25 00:52:50,264] - obspy.clients.fdsn.mass_downloader - INFO: 1 StationXML files [0.0 MB] already existed.\n",
      "[2021-11-25 00:52:50,264] - obspy.clients.fdsn.mass_downloader - INFO: Client 'GEONET' - Acquired 1 MiniSEED files [0.0 MB].\n",
      "[2021-11-25 00:52:50,264] - obspy.clients.fdsn.mass_downloader - INFO: Client 'GEONET' - Acquired 0 StationXML files [0.0 MB].\n",
      "[2021-11-25 00:52:50,264] - obspy.clients.fdsn.mass_downloader - INFO: Downloaded 0.0 MB in total.\n",
      "[2021-11-25 00:52:50,270] - obspy.clients.fdsn.mass_downloader - INFO: Initializing FDSN client(s) for GEONET.\n",
      "[2021-11-25 00:52:50,278] - obspy.clients.fdsn.mass_downloader - INFO: Successfully initialized 1 client(s): GEONET.\n",
      "[2021-11-25 00:52:50,279] - obspy.clients.fdsn.mass_downloader - INFO: Total acquired or preexisting stations: 0\n",
      "[2021-11-25 00:52:50,280] - obspy.clients.fdsn.mass_downloader - INFO: Client 'GEONET' - Requesting unreliable availability.\n"
     ]
    },
    {
     "name": "stdout",
     "output_type": "stream",
     "text": [
      "=================================================================\n",
      "Initiating mass download request.\n"
     ]
    },
    {
     "name": "stderr",
     "output_type": "stream",
     "text": [
      "[2021-11-25 00:52:50,894] - obspy.clients.fdsn.mass_downloader - INFO: Client 'GEONET' - Successfully requested availability (0.61 seconds)\n",
      "[2021-11-25 00:52:50,896] - obspy.clients.fdsn.mass_downloader - INFO: Client 'GEONET' - Found 1 stations (1 channels).\n",
      "[2021-11-25 00:52:50,897] - obspy.clients.fdsn.mass_downloader - INFO: Client 'GEONET' - Will attempt to download data from 1 stations.\n",
      "[2021-11-25 00:52:50,900] - obspy.clients.fdsn.mass_downloader - INFO: Client 'GEONET' - Status for 1 time intervals/channels before downloading: NEEDS_DOWNLOADING\n",
      "[2021-11-25 00:52:51,964] - obspy.clients.fdsn.mass_downloader - INFO: Client 'GEONET' - Successfully downloaded 1 channels (of 1)\n",
      "[2021-11-25 00:52:51,978] - obspy.clients.fdsn.mass_downloader - INFO: Client 'GEONET' - Launching basic QC checks...\n",
      "[2021-11-25 00:52:51,999] - obspy.clients.fdsn.mass_downloader - INFO: Client 'GEONET' - Downloaded 0.0 MB [5.13 KB/sec] of data, 0.0 MB of which were discarded afterwards.\n",
      "[2021-11-25 00:52:52,001] - obspy.clients.fdsn.mass_downloader - INFO: Client 'GEONET' - Status for 1 time intervals/channels after downloading: DOWNLOADED\n",
      "[2021-11-25 00:52:52,010] - obspy.clients.fdsn.mass_downloader - INFO: Client 'GEONET' - No station information to download.\n",
      "[2021-11-25 00:52:52,011] - obspy.clients.fdsn.mass_downloader - INFO: ============================== Final report\n",
      "[2021-11-25 00:52:52,012] - obspy.clients.fdsn.mass_downloader - INFO: 0 MiniSEED files [0.0 MB] already existed.\n",
      "[2021-11-25 00:52:52,013] - obspy.clients.fdsn.mass_downloader - INFO: 1 StationXML files [0.0 MB] already existed.\n",
      "[2021-11-25 00:52:52,014] - obspy.clients.fdsn.mass_downloader - INFO: Client 'GEONET' - Acquired 1 MiniSEED files [0.0 MB].\n",
      "[2021-11-25 00:52:52,014] - obspy.clients.fdsn.mass_downloader - INFO: Client 'GEONET' - Acquired 0 StationXML files [0.0 MB].\n",
      "[2021-11-25 00:52:52,014] - obspy.clients.fdsn.mass_downloader - INFO: Downloaded 0.0 MB in total.\n",
      "[2021-11-25 00:52:52,019] - obspy.clients.fdsn.mass_downloader - INFO: Initializing FDSN client(s) for GEONET.\n",
      "[2021-11-25 00:52:52,038] - obspy.clients.fdsn.mass_downloader - INFO: Successfully initialized 1 client(s): GEONET.\n",
      "[2021-11-25 00:52:52,042] - obspy.clients.fdsn.mass_downloader - INFO: Total acquired or preexisting stations: 0\n",
      "[2021-11-25 00:52:52,043] - obspy.clients.fdsn.mass_downloader - INFO: Client 'GEONET' - Requesting unreliable availability.\n"
     ]
    },
    {
     "name": "stdout",
     "output_type": "stream",
     "text": [
      "=================================================================\n",
      "Initiating mass download request.\n"
     ]
    },
    {
     "name": "stderr",
     "output_type": "stream",
     "text": [
      "[2021-11-25 00:52:52,644] - obspy.clients.fdsn.mass_downloader - INFO: Client 'GEONET' - Successfully requested availability (0.60 seconds)\n",
      "[2021-11-25 00:52:52,658] - obspy.clients.fdsn.mass_downloader - INFO: Client 'GEONET' - Found 1 stations (1 channels).\n",
      "[2021-11-25 00:52:52,666] - obspy.clients.fdsn.mass_downloader - INFO: Client 'GEONET' - Will attempt to download data from 1 stations.\n",
      "[2021-11-25 00:52:52,670] - obspy.clients.fdsn.mass_downloader - INFO: Client 'GEONET' - Status for 1 time intervals/channels before downloading: NEEDS_DOWNLOADING\n",
      "[2021-11-25 00:52:53,594] - obspy.clients.fdsn.mass_downloader - INFO: Client 'GEONET' - Successfully downloaded 1 channels (of 1)\n",
      "[2021-11-25 00:52:53,634] - obspy.clients.fdsn.mass_downloader - INFO: Client 'GEONET' - Launching basic QC checks...\n",
      "[2021-11-25 00:52:53,661] - obspy.clients.fdsn.mass_downloader - INFO: Client 'GEONET' - Downloaded 0.0 MB [3.15 KB/sec] of data, 0.0 MB of which were discarded afterwards.\n",
      "[2021-11-25 00:52:53,667] - obspy.clients.fdsn.mass_downloader - INFO: Client 'GEONET' - Status for 1 time intervals/channels after downloading: DOWNLOADED\n",
      "[2021-11-25 00:52:53,677] - obspy.clients.fdsn.mass_downloader - INFO: Client 'GEONET' - No station information to download.\n",
      "[2021-11-25 00:52:53,684] - obspy.clients.fdsn.mass_downloader - INFO: ============================== Final report\n",
      "[2021-11-25 00:52:53,691] - obspy.clients.fdsn.mass_downloader - INFO: 0 MiniSEED files [0.0 MB] already existed.\n",
      "[2021-11-25 00:52:53,694] - obspy.clients.fdsn.mass_downloader - INFO: 1 StationXML files [0.0 MB] already existed.\n",
      "[2021-11-25 00:52:53,695] - obspy.clients.fdsn.mass_downloader - INFO: Client 'GEONET' - Acquired 1 MiniSEED files [0.0 MB].\n",
      "[2021-11-25 00:52:53,695] - obspy.clients.fdsn.mass_downloader - INFO: Client 'GEONET' - Acquired 0 StationXML files [0.0 MB].\n",
      "[2021-11-25 00:52:53,695] - obspy.clients.fdsn.mass_downloader - INFO: Downloaded 0.0 MB in total.\n",
      "[2021-11-25 00:52:53,734] - obspy.clients.fdsn.mass_downloader - INFO: Initializing FDSN client(s) for GEONET.\n",
      "[2021-11-25 00:52:53,774] - obspy.clients.fdsn.mass_downloader - INFO: Successfully initialized 1 client(s): GEONET.\n",
      "[2021-11-25 00:52:53,775] - obspy.clients.fdsn.mass_downloader - INFO: Total acquired or preexisting stations: 0\n",
      "[2021-11-25 00:52:53,778] - obspy.clients.fdsn.mass_downloader - INFO: Client 'GEONET' - Requesting unreliable availability.\n"
     ]
    },
    {
     "name": "stdout",
     "output_type": "stream",
     "text": [
      "=================================================================\n",
      "Initiating mass download request.\n"
     ]
    },
    {
     "name": "stderr",
     "output_type": "stream",
     "text": [
      "[2021-11-25 00:52:54,452] - obspy.clients.fdsn.mass_downloader - INFO: Client 'GEONET' - Successfully requested availability (0.67 seconds)\n",
      "[2021-11-25 00:52:54,462] - obspy.clients.fdsn.mass_downloader - INFO: Client 'GEONET' - Found 1 stations (1 channels).\n",
      "[2021-11-25 00:52:54,462] - obspy.clients.fdsn.mass_downloader - INFO: Client 'GEONET' - Will attempt to download data from 1 stations.\n",
      "[2021-11-25 00:52:54,463] - obspy.clients.fdsn.mass_downloader - INFO: Client 'GEONET' - Status for 1 time intervals/channels before downloading: NEEDS_DOWNLOADING\n",
      "[2021-11-25 00:52:55,185] - obspy.clients.fdsn.mass_downloader - INFO: Client 'GEONET' - Successfully downloaded 1 channels (of 1)\n",
      "[2021-11-25 00:52:55,231] - obspy.clients.fdsn.mass_downloader - INFO: Client 'GEONET' - Launching basic QC checks...\n",
      "[2021-11-25 00:52:55,262] - obspy.clients.fdsn.mass_downloader - INFO: Client 'GEONET' - Downloaded 0.0 MB [3.92 KB/sec] of data, 0.0 MB of which were discarded afterwards.\n",
      "[2021-11-25 00:52:55,273] - obspy.clients.fdsn.mass_downloader - INFO: Client 'GEONET' - Status for 1 time intervals/channels after downloading: DOWNLOADED\n",
      "[2021-11-25 00:52:55,295] - obspy.clients.fdsn.mass_downloader - INFO: Client 'GEONET' - No station information to download.\n",
      "[2021-11-25 00:52:55,300] - obspy.clients.fdsn.mass_downloader - INFO: ============================== Final report\n",
      "[2021-11-25 00:52:55,302] - obspy.clients.fdsn.mass_downloader - INFO: 0 MiniSEED files [0.0 MB] already existed.\n",
      "[2021-11-25 00:52:55,302] - obspy.clients.fdsn.mass_downloader - INFO: 1 StationXML files [0.0 MB] already existed.\n",
      "[2021-11-25 00:52:55,302] - obspy.clients.fdsn.mass_downloader - INFO: Client 'GEONET' - Acquired 1 MiniSEED files [0.0 MB].\n",
      "[2021-11-25 00:52:55,303] - obspy.clients.fdsn.mass_downloader - INFO: Client 'GEONET' - Acquired 0 StationXML files [0.0 MB].\n",
      "[2021-11-25 00:52:55,309] - obspy.clients.fdsn.mass_downloader - INFO: Downloaded 0.0 MB in total.\n",
      "[2021-11-25 00:52:55,319] - obspy.clients.fdsn.mass_downloader - INFO: Initializing FDSN client(s) for GEONET.\n",
      "[2021-11-25 00:52:55,347] - obspy.clients.fdsn.mass_downloader - INFO: Successfully initialized 1 client(s): GEONET.\n",
      "[2021-11-25 00:52:55,349] - obspy.clients.fdsn.mass_downloader - INFO: Total acquired or preexisting stations: 0\n",
      "[2021-11-25 00:52:55,355] - obspy.clients.fdsn.mass_downloader - INFO: Client 'GEONET' - Requesting unreliable availability.\n"
     ]
    },
    {
     "name": "stdout",
     "output_type": "stream",
     "text": [
      "=================================================================\n",
      "Initiating mass download request.\n"
     ]
    },
    {
     "name": "stderr",
     "output_type": "stream",
     "text": [
      "[2021-11-25 00:52:55,921] - obspy.clients.fdsn.mass_downloader - INFO: Client 'GEONET' - Successfully requested availability (0.56 seconds)\n",
      "[2021-11-25 00:52:55,945] - obspy.clients.fdsn.mass_downloader - INFO: Client 'GEONET' - Found 1 stations (1 channels).\n",
      "[2021-11-25 00:52:55,955] - obspy.clients.fdsn.mass_downloader - INFO: Client 'GEONET' - Will attempt to download data from 1 stations.\n",
      "[2021-11-25 00:52:55,964] - obspy.clients.fdsn.mass_downloader - INFO: Client 'GEONET' - Status for 1 time intervals/channels before downloading: NEEDS_DOWNLOADING\n",
      "[2021-11-25 00:52:56,838] - obspy.clients.fdsn.mass_downloader - INFO: Client 'GEONET' - Successfully downloaded 1 channels (of 1)\n",
      "[2021-11-25 00:52:56,863] - obspy.clients.fdsn.mass_downloader - INFO: Client 'GEONET' - Launching basic QC checks...\n",
      "[2021-11-25 00:52:56,895] - obspy.clients.fdsn.mass_downloader - INFO: Client 'GEONET' - Downloaded 0.0 MB [4.58 KB/sec] of data, 0.0 MB of which were discarded afterwards.\n",
      "[2021-11-25 00:52:56,900] - obspy.clients.fdsn.mass_downloader - INFO: Client 'GEONET' - Status for 1 time intervals/channels after downloading: DOWNLOADED\n",
      "[2021-11-25 00:52:56,912] - obspy.clients.fdsn.mass_downloader - INFO: Client 'GEONET' - No station information to download.\n",
      "[2021-11-25 00:52:56,918] - obspy.clients.fdsn.mass_downloader - INFO: ============================== Final report\n",
      "[2021-11-25 00:52:56,920] - obspy.clients.fdsn.mass_downloader - INFO: 0 MiniSEED files [0.0 MB] already existed.\n",
      "[2021-11-25 00:52:56,926] - obspy.clients.fdsn.mass_downloader - INFO: 1 StationXML files [0.0 MB] already existed.\n",
      "[2021-11-25 00:52:56,927] - obspy.clients.fdsn.mass_downloader - INFO: Client 'GEONET' - Acquired 1 MiniSEED files [0.0 MB].\n",
      "[2021-11-25 00:52:56,928] - obspy.clients.fdsn.mass_downloader - INFO: Client 'GEONET' - Acquired 0 StationXML files [0.0 MB].\n",
      "[2021-11-25 00:52:56,928] - obspy.clients.fdsn.mass_downloader - INFO: Downloaded 0.0 MB in total.\n",
      "[2021-11-25 00:52:56,954] - obspy.clients.fdsn.mass_downloader - INFO: Initializing FDSN client(s) for GEONET.\n",
      "[2021-11-25 00:52:56,973] - obspy.clients.fdsn.mass_downloader - INFO: Successfully initialized 1 client(s): GEONET.\n",
      "[2021-11-25 00:52:56,976] - obspy.clients.fdsn.mass_downloader - INFO: Total acquired or preexisting stations: 0\n",
      "[2021-11-25 00:52:56,978] - obspy.clients.fdsn.mass_downloader - INFO: Client 'GEONET' - Requesting unreliable availability.\n"
     ]
    },
    {
     "name": "stdout",
     "output_type": "stream",
     "text": [
      "=================================================================\n",
      "Initiating mass download request.\n"
     ]
    },
    {
     "name": "stderr",
     "output_type": "stream",
     "text": [
      "[2021-11-25 00:52:57,574] - obspy.clients.fdsn.mass_downloader - INFO: Client 'GEONET' - Successfully requested availability (0.59 seconds)\n",
      "[2021-11-25 00:52:57,593] - obspy.clients.fdsn.mass_downloader - INFO: Client 'GEONET' - Found 1 stations (1 channels).\n",
      "[2021-11-25 00:52:57,600] - obspy.clients.fdsn.mass_downloader - INFO: Client 'GEONET' - Will attempt to download data from 1 stations.\n",
      "[2021-11-25 00:52:57,604] - obspy.clients.fdsn.mass_downloader - INFO: Client 'GEONET' - Status for 1 time intervals/channels before downloading: NEEDS_DOWNLOADING\n",
      "[2021-11-25 00:52:58,451] - obspy.clients.fdsn.mass_downloader - INFO: Client 'GEONET' - Successfully downloaded 1 channels (of 1)\n",
      "[2021-11-25 00:52:58,470] - obspy.clients.fdsn.mass_downloader - INFO: Client 'GEONET' - Launching basic QC checks...\n",
      "[2021-11-25 00:52:58,491] - obspy.clients.fdsn.mass_downloader - INFO: Client 'GEONET' - Downloaded 0.0 MB [4.11 KB/sec] of data, 0.0 MB of which were discarded afterwards.\n",
      "[2021-11-25 00:52:58,506] - obspy.clients.fdsn.mass_downloader - INFO: Client 'GEONET' - Status for 1 time intervals/channels after downloading: DOWNLOADED\n",
      "[2021-11-25 00:52:58,521] - obspy.clients.fdsn.mass_downloader - INFO: Client 'GEONET' - No station information to download.\n",
      "[2021-11-25 00:52:58,524] - obspy.clients.fdsn.mass_downloader - INFO: ============================== Final report\n",
      "[2021-11-25 00:52:58,526] - obspy.clients.fdsn.mass_downloader - INFO: 0 MiniSEED files [0.0 MB] already existed.\n",
      "[2021-11-25 00:52:58,527] - obspy.clients.fdsn.mass_downloader - INFO: 1 StationXML files [0.0 MB] already existed.\n",
      "[2021-11-25 00:52:58,530] - obspy.clients.fdsn.mass_downloader - INFO: Client 'GEONET' - Acquired 1 MiniSEED files [0.0 MB].\n",
      "[2021-11-25 00:52:58,533] - obspy.clients.fdsn.mass_downloader - INFO: Client 'GEONET' - Acquired 0 StationXML files [0.0 MB].\n",
      "[2021-11-25 00:52:58,536] - obspy.clients.fdsn.mass_downloader - INFO: Downloaded 0.0 MB in total.\n",
      "[2021-11-25 00:52:58,551] - obspy.clients.fdsn.mass_downloader - INFO: Initializing FDSN client(s) for GEONET.\n",
      "[2021-11-25 00:52:58,564] - obspy.clients.fdsn.mass_downloader - INFO: Successfully initialized 1 client(s): GEONET.\n",
      "[2021-11-25 00:52:58,569] - obspy.clients.fdsn.mass_downloader - INFO: Total acquired or preexisting stations: 0\n",
      "[2021-11-25 00:52:58,571] - obspy.clients.fdsn.mass_downloader - INFO: Client 'GEONET' - Requesting unreliable availability.\n"
     ]
    },
    {
     "name": "stdout",
     "output_type": "stream",
     "text": [
      "=================================================================\n",
      "Initiating mass download request.\n"
     ]
    },
    {
     "name": "stderr",
     "output_type": "stream",
     "text": [
      "[2021-11-25 00:52:59,088] - obspy.clients.fdsn.mass_downloader - INFO: Client 'GEONET' - Successfully requested availability (0.51 seconds)\n",
      "[2021-11-25 00:52:59,091] - obspy.clients.fdsn.mass_downloader - INFO: Client 'GEONET' - Found 1 stations (1 channels).\n",
      "[2021-11-25 00:52:59,091] - obspy.clients.fdsn.mass_downloader - INFO: Client 'GEONET' - Will attempt to download data from 1 stations.\n",
      "[2021-11-25 00:52:59,092] - obspy.clients.fdsn.mass_downloader - INFO: Client 'GEONET' - Status for 1 time intervals/channels before downloading: NEEDS_DOWNLOADING\n",
      "[2021-11-25 00:52:59,818] - obspy.clients.fdsn.mass_downloader - INFO: Client 'GEONET' - Successfully downloaded 1 channels (of 1)\n",
      "[2021-11-25 00:52:59,852] - obspy.clients.fdsn.mass_downloader - INFO: Client 'GEONET' - Launching basic QC checks...\n",
      "[2021-11-25 00:52:59,895] - obspy.clients.fdsn.mass_downloader - INFO: Client 'GEONET' - Downloaded 0.0 MB [3.96 KB/sec] of data, 0.0 MB of which were discarded afterwards.\n",
      "[2021-11-25 00:52:59,902] - obspy.clients.fdsn.mass_downloader - INFO: Client 'GEONET' - Status for 1 time intervals/channels after downloading: DOWNLOADED\n",
      "[2021-11-25 00:52:59,918] - obspy.clients.fdsn.mass_downloader - INFO: Client 'GEONET' - No station information to download.\n",
      "[2021-11-25 00:52:59,933] - obspy.clients.fdsn.mass_downloader - INFO: ============================== Final report\n",
      "[2021-11-25 00:52:59,936] - obspy.clients.fdsn.mass_downloader - INFO: 0 MiniSEED files [0.0 MB] already existed.\n",
      "[2021-11-25 00:52:59,941] - obspy.clients.fdsn.mass_downloader - INFO: 1 StationXML files [0.0 MB] already existed.\n",
      "[2021-11-25 00:52:59,943] - obspy.clients.fdsn.mass_downloader - INFO: Client 'GEONET' - Acquired 1 MiniSEED files [0.0 MB].\n",
      "[2021-11-25 00:52:59,944] - obspy.clients.fdsn.mass_downloader - INFO: Client 'GEONET' - Acquired 0 StationXML files [0.0 MB].\n",
      "[2021-11-25 00:52:59,947] - obspy.clients.fdsn.mass_downloader - INFO: Downloaded 0.0 MB in total.\n",
      "[2021-11-25 00:52:59,957] - obspy.clients.fdsn.mass_downloader - INFO: Initializing FDSN client(s) for GEONET.\n",
      "[2021-11-25 00:52:59,982] - obspy.clients.fdsn.mass_downloader - INFO: Successfully initialized 1 client(s): GEONET.\n",
      "[2021-11-25 00:52:59,986] - obspy.clients.fdsn.mass_downloader - INFO: Total acquired or preexisting stations: 0\n",
      "[2021-11-25 00:52:59,987] - obspy.clients.fdsn.mass_downloader - INFO: Client 'GEONET' - Requesting unreliable availability.\n"
     ]
    },
    {
     "name": "stdout",
     "output_type": "stream",
     "text": [
      "=================================================================\n",
      "Initiating mass download request.\n"
     ]
    },
    {
     "name": "stderr",
     "output_type": "stream",
     "text": [
      "[2021-11-25 00:53:00,623] - obspy.clients.fdsn.mass_downloader - INFO: Client 'GEONET' - Successfully requested availability (0.64 seconds)\n",
      "[2021-11-25 00:53:00,712] - obspy.clients.fdsn.mass_downloader - INFO: Client 'GEONET' - Found 1 stations (1 channels).\n",
      "[2021-11-25 00:53:00,726] - obspy.clients.fdsn.mass_downloader - INFO: Client 'GEONET' - Will attempt to download data from 1 stations.\n",
      "[2021-11-25 00:53:00,758] - obspy.clients.fdsn.mass_downloader - INFO: Client 'GEONET' - Status for 1 time intervals/channels before downloading: NEEDS_DOWNLOADING\n",
      "[2021-11-25 00:53:01,690] - obspy.clients.fdsn.mass_downloader - INFO: Client 'GEONET' - Successfully downloaded 1 channels (of 1)\n",
      "[2021-11-25 00:53:01,773] - obspy.clients.fdsn.mass_downloader - INFO: Client 'GEONET' - Launching basic QC checks...\n",
      "[2021-11-25 00:53:01,825] - obspy.clients.fdsn.mass_downloader - INFO: Client 'GEONET' - Downloaded 0.0 MB [3.12 KB/sec] of data, 0.0 MB of which were discarded afterwards.\n",
      "[2021-11-25 00:53:01,831] - obspy.clients.fdsn.mass_downloader - INFO: Client 'GEONET' - Status for 1 time intervals/channels after downloading: DOWNLOADED\n",
      "[2021-11-25 00:53:01,859] - obspy.clients.fdsn.mass_downloader - INFO: Client 'GEONET' - No station information to download.\n",
      "[2021-11-25 00:53:01,879] - obspy.clients.fdsn.mass_downloader - INFO: ============================== Final report\n",
      "[2021-11-25 00:53:01,884] - obspy.clients.fdsn.mass_downloader - INFO: 0 MiniSEED files [0.0 MB] already existed.\n",
      "[2021-11-25 00:53:01,885] - obspy.clients.fdsn.mass_downloader - INFO: 1 StationXML files [0.0 MB] already existed.\n",
      "[2021-11-25 00:53:01,885] - obspy.clients.fdsn.mass_downloader - INFO: Client 'GEONET' - Acquired 1 MiniSEED files [0.0 MB].\n",
      "[2021-11-25 00:53:01,885] - obspy.clients.fdsn.mass_downloader - INFO: Client 'GEONET' - Acquired 0 StationXML files [0.0 MB].\n",
      "[2021-11-25 00:53:01,885] - obspy.clients.fdsn.mass_downloader - INFO: Downloaded 0.0 MB in total.\n",
      "[2021-11-25 00:53:01,938] - obspy.clients.fdsn.mass_downloader - INFO: Initializing FDSN client(s) for GEONET.\n",
      "[2021-11-25 00:53:02,002] - obspy.clients.fdsn.mass_downloader - INFO: Successfully initialized 1 client(s): GEONET.\n",
      "[2021-11-25 00:53:02,017] - obspy.clients.fdsn.mass_downloader - INFO: Total acquired or preexisting stations: 0\n",
      "[2021-11-25 00:53:02,020] - obspy.clients.fdsn.mass_downloader - INFO: Client 'GEONET' - Requesting unreliable availability.\n"
     ]
    },
    {
     "name": "stdout",
     "output_type": "stream",
     "text": [
      "=================================================================\n",
      "Initiating mass download request.\n"
     ]
    },
    {
     "name": "stderr",
     "output_type": "stream",
     "text": [
      "[2021-11-25 00:53:02,672] - obspy.clients.fdsn.mass_downloader - INFO: Client 'GEONET' - Successfully requested availability (0.65 seconds)\n",
      "[2021-11-25 00:53:02,680] - obspy.clients.fdsn.mass_downloader - INFO: Client 'GEONET' - Found 1 stations (1 channels).\n",
      "[2021-11-25 00:53:02,684] - obspy.clients.fdsn.mass_downloader - INFO: Client 'GEONET' - Will attempt to download data from 1 stations.\n",
      "[2021-11-25 00:53:02,686] - obspy.clients.fdsn.mass_downloader - INFO: Client 'GEONET' - Status for 1 time intervals/channels before downloading: NEEDS_DOWNLOADING\n",
      "[2021-11-25 00:53:03,582] - obspy.clients.fdsn.mass_downloader - INFO: Client 'GEONET' - Successfully downloaded 1 channels (of 1)\n",
      "[2021-11-25 00:53:03,614] - obspy.clients.fdsn.mass_downloader - INFO: Client 'GEONET' - Launching basic QC checks...\n",
      "[2021-11-25 00:53:03,656] - obspy.clients.fdsn.mass_downloader - INFO: Client 'GEONET' - Downloaded 0.0 MB [4.43 KB/sec] of data, 0.0 MB of which were discarded afterwards.\n",
      "[2021-11-25 00:53:03,661] - obspy.clients.fdsn.mass_downloader - INFO: Client 'GEONET' - Status for 1 time intervals/channels after downloading: DOWNLOADED\n",
      "[2021-11-25 00:53:03,680] - obspy.clients.fdsn.mass_downloader - INFO: Client 'GEONET' - No station information to download.\n",
      "[2021-11-25 00:53:03,686] - obspy.clients.fdsn.mass_downloader - INFO: ============================== Final report\n",
      "[2021-11-25 00:53:03,693] - obspy.clients.fdsn.mass_downloader - INFO: 0 MiniSEED files [0.0 MB] already existed.\n",
      "[2021-11-25 00:53:03,695] - obspy.clients.fdsn.mass_downloader - INFO: 1 StationXML files [0.0 MB] already existed.\n",
      "[2021-11-25 00:53:03,703] - obspy.clients.fdsn.mass_downloader - INFO: Client 'GEONET' - Acquired 1 MiniSEED files [0.0 MB].\n",
      "[2021-11-25 00:53:03,709] - obspy.clients.fdsn.mass_downloader - INFO: Client 'GEONET' - Acquired 0 StationXML files [0.0 MB].\n",
      "[2021-11-25 00:53:03,711] - obspy.clients.fdsn.mass_downloader - INFO: Downloaded 0.0 MB in total.\n",
      "[2021-11-25 00:53:03,742] - obspy.clients.fdsn.mass_downloader - INFO: Initializing FDSN client(s) for GEONET.\n",
      "[2021-11-25 00:53:03,766] - obspy.clients.fdsn.mass_downloader - INFO: Successfully initialized 1 client(s): GEONET.\n",
      "[2021-11-25 00:53:03,778] - obspy.clients.fdsn.mass_downloader - INFO: Total acquired or preexisting stations: 0\n",
      "[2021-11-25 00:53:03,780] - obspy.clients.fdsn.mass_downloader - INFO: Client 'GEONET' - Requesting unreliable availability.\n"
     ]
    },
    {
     "name": "stdout",
     "output_type": "stream",
     "text": [
      "=================================================================\n",
      "Initiating mass download request.\n"
     ]
    },
    {
     "name": "stderr",
     "output_type": "stream",
     "text": [
      "[2021-11-25 00:53:04,571] - obspy.clients.fdsn.mass_downloader - INFO: Client 'GEONET' - Successfully requested availability (0.79 seconds)\n",
      "[2021-11-25 00:53:04,602] - obspy.clients.fdsn.mass_downloader - INFO: Client 'GEONET' - Found 1 stations (1 channels).\n",
      "[2021-11-25 00:53:04,609] - obspy.clients.fdsn.mass_downloader - INFO: Client 'GEONET' - Will attempt to download data from 1 stations.\n",
      "[2021-11-25 00:53:04,616] - obspy.clients.fdsn.mass_downloader - INFO: Client 'GEONET' - Status for 1 time intervals/channels before downloading: NEEDS_DOWNLOADING\n",
      "[2021-11-25 00:53:05,467] - obspy.clients.fdsn.mass_downloader - INFO: Client 'GEONET' - Successfully downloaded 1 channels (of 1)\n",
      "[2021-11-25 00:53:05,483] - obspy.clients.fdsn.mass_downloader - INFO: Client 'GEONET' - Launching basic QC checks...\n",
      "[2021-11-25 00:53:05,495] - obspy.clients.fdsn.mass_downloader - INFO: Client 'GEONET' - Downloaded 0.0 MB [3.72 KB/sec] of data, 0.0 MB of which were discarded afterwards.\n",
      "[2021-11-25 00:53:05,502] - obspy.clients.fdsn.mass_downloader - INFO: Client 'GEONET' - Status for 1 time intervals/channels after downloading: DOWNLOADED\n",
      "[2021-11-25 00:53:05,515] - obspy.clients.fdsn.mass_downloader - INFO: Client 'GEONET' - No station information to download.\n",
      "[2021-11-25 00:53:05,523] - obspy.clients.fdsn.mass_downloader - INFO: ============================== Final report\n",
      "[2021-11-25 00:53:05,525] - obspy.clients.fdsn.mass_downloader - INFO: 0 MiniSEED files [0.0 MB] already existed.\n",
      "[2021-11-25 00:53:05,526] - obspy.clients.fdsn.mass_downloader - INFO: 1 StationXML files [0.0 MB] already existed.\n",
      "[2021-11-25 00:53:05,526] - obspy.clients.fdsn.mass_downloader - INFO: Client 'GEONET' - Acquired 1 MiniSEED files [0.0 MB].\n",
      "[2021-11-25 00:53:05,527] - obspy.clients.fdsn.mass_downloader - INFO: Client 'GEONET' - Acquired 0 StationXML files [0.0 MB].\n",
      "[2021-11-25 00:53:05,527] - obspy.clients.fdsn.mass_downloader - INFO: Downloaded 0.0 MB in total.\n",
      "[2021-11-25 00:53:05,617] - obspy.clients.fdsn.mass_downloader - INFO: Initializing FDSN client(s) for GEONET.\n",
      "[2021-11-25 00:53:05,674] - obspy.clients.fdsn.mass_downloader - INFO: Successfully initialized 1 client(s): GEONET.\n",
      "[2021-11-25 00:53:05,682] - obspy.clients.fdsn.mass_downloader - INFO: Total acquired or preexisting stations: 0\n",
      "[2021-11-25 00:53:05,692] - obspy.clients.fdsn.mass_downloader - INFO: Client 'GEONET' - Requesting unreliable availability.\n"
     ]
    },
    {
     "name": "stdout",
     "output_type": "stream",
     "text": [
      "=================================================================\n",
      "Initiating mass download request.\n"
     ]
    },
    {
     "name": "stderr",
     "output_type": "stream",
     "text": [
      "[2021-11-25 00:53:06,323] - obspy.clients.fdsn.mass_downloader - INFO: Client 'GEONET' - Successfully requested availability (0.63 seconds)\n",
      "[2021-11-25 00:53:06,330] - obspy.clients.fdsn.mass_downloader - INFO: Client 'GEONET' - Found 1 stations (1 channels).\n",
      "[2021-11-25 00:53:06,332] - obspy.clients.fdsn.mass_downloader - INFO: Client 'GEONET' - Will attempt to download data from 1 stations.\n",
      "[2021-11-25 00:53:06,333] - obspy.clients.fdsn.mass_downloader - INFO: Client 'GEONET' - Status for 1 time intervals/channels before downloading: NEEDS_DOWNLOADING\n",
      "[2021-11-25 00:53:07,045] - obspy.clients.fdsn.mass_downloader - INFO: Client 'GEONET' - Successfully downloaded 1 channels (of 1)\n",
      "[2021-11-25 00:53:07,117] - obspy.clients.fdsn.mass_downloader - INFO: Client 'GEONET' - Launching basic QC checks...\n",
      "[2021-11-25 00:53:07,159] - obspy.clients.fdsn.mass_downloader - INFO: Client 'GEONET' - Downloaded 0.0 MB [3.88 KB/sec] of data, 0.0 MB of which were discarded afterwards.\n",
      "[2021-11-25 00:53:07,160] - obspy.clients.fdsn.mass_downloader - INFO: Client 'GEONET' - Status for 1 time intervals/channels after downloading: DOWNLOADED\n",
      "[2021-11-25 00:53:07,167] - obspy.clients.fdsn.mass_downloader - INFO: Client 'GEONET' - No station information to download.\n",
      "[2021-11-25 00:53:07,175] - obspy.clients.fdsn.mass_downloader - INFO: ============================== Final report\n",
      "[2021-11-25 00:53:07,177] - obspy.clients.fdsn.mass_downloader - INFO: 0 MiniSEED files [0.0 MB] already existed.\n",
      "[2021-11-25 00:53:07,178] - obspy.clients.fdsn.mass_downloader - INFO: 1 StationXML files [0.0 MB] already existed.\n",
      "[2021-11-25 00:53:07,179] - obspy.clients.fdsn.mass_downloader - INFO: Client 'GEONET' - Acquired 1 MiniSEED files [0.0 MB].\n",
      "[2021-11-25 00:53:07,185] - obspy.clients.fdsn.mass_downloader - INFO: Client 'GEONET' - Acquired 0 StationXML files [0.0 MB].\n",
      "[2021-11-25 00:53:07,185] - obspy.clients.fdsn.mass_downloader - INFO: Downloaded 0.0 MB in total.\n",
      "[2021-11-25 00:53:07,215] - obspy.clients.fdsn.mass_downloader - INFO: Initializing FDSN client(s) for GEONET.\n",
      "[2021-11-25 00:53:07,237] - obspy.clients.fdsn.mass_downloader - INFO: Successfully initialized 1 client(s): GEONET.\n",
      "[2021-11-25 00:53:07,239] - obspy.clients.fdsn.mass_downloader - INFO: Total acquired or preexisting stations: 0\n",
      "[2021-11-25 00:53:07,241] - obspy.clients.fdsn.mass_downloader - INFO: Client 'GEONET' - Requesting unreliable availability.\n"
     ]
    },
    {
     "name": "stdout",
     "output_type": "stream",
     "text": [
      "=================================================================\n",
      "Initiating mass download request.\n"
     ]
    },
    {
     "name": "stderr",
     "output_type": "stream",
     "text": [
      "[2021-11-25 00:53:07,917] - obspy.clients.fdsn.mass_downloader - INFO: Client 'GEONET' - Successfully requested availability (0.67 seconds)\n",
      "[2021-11-25 00:53:07,938] - obspy.clients.fdsn.mass_downloader - INFO: Client 'GEONET' - Found 1 stations (1 channels).\n",
      "[2021-11-25 00:53:07,953] - obspy.clients.fdsn.mass_downloader - INFO: Client 'GEONET' - Will attempt to download data from 1 stations.\n",
      "[2021-11-25 00:53:07,965] - obspy.clients.fdsn.mass_downloader - INFO: Client 'GEONET' - Status for 1 time intervals/channels before downloading: NEEDS_DOWNLOADING\n",
      "[2021-11-25 00:53:08,845] - obspy.clients.fdsn.mass_downloader - INFO: Client 'GEONET' - Successfully downloaded 1 channels (of 1)\n",
      "[2021-11-25 00:53:08,908] - obspy.clients.fdsn.mass_downloader - INFO: Client 'GEONET' - Launching basic QC checks...\n",
      "[2021-11-25 00:53:08,947] - obspy.clients.fdsn.mass_downloader - INFO: Client 'GEONET' - Downloaded 0.0 MB [3.90 KB/sec] of data, 0.0 MB of which were discarded afterwards.\n",
      "[2021-11-25 00:53:08,964] - obspy.clients.fdsn.mass_downloader - INFO: Client 'GEONET' - Status for 1 time intervals/channels after downloading: DOWNLOADED\n",
      "[2021-11-25 00:53:08,985] - obspy.clients.fdsn.mass_downloader - INFO: Client 'GEONET' - No station information to download.\n",
      "[2021-11-25 00:53:09,002] - obspy.clients.fdsn.mass_downloader - INFO: ============================== Final report\n",
      "[2021-11-25 00:53:09,004] - obspy.clients.fdsn.mass_downloader - INFO: 0 MiniSEED files [0.0 MB] already existed.\n",
      "[2021-11-25 00:53:09,005] - obspy.clients.fdsn.mass_downloader - INFO: 1 StationXML files [0.0 MB] already existed.\n",
      "[2021-11-25 00:53:09,009] - obspy.clients.fdsn.mass_downloader - INFO: Client 'GEONET' - Acquired 1 MiniSEED files [0.0 MB].\n",
      "[2021-11-25 00:53:09,010] - obspy.clients.fdsn.mass_downloader - INFO: Client 'GEONET' - Acquired 0 StationXML files [0.0 MB].\n",
      "[2021-11-25 00:53:09,013] - obspy.clients.fdsn.mass_downloader - INFO: Downloaded 0.0 MB in total.\n",
      "[2021-11-25 00:53:09,034] - obspy.clients.fdsn.mass_downloader - INFO: Initializing FDSN client(s) for GEONET.\n",
      "[2021-11-25 00:53:09,063] - obspy.clients.fdsn.mass_downloader - INFO: Successfully initialized 1 client(s): GEONET.\n",
      "[2021-11-25 00:53:09,069] - obspy.clients.fdsn.mass_downloader - INFO: Total acquired or preexisting stations: 0\n",
      "[2021-11-25 00:53:09,071] - obspy.clients.fdsn.mass_downloader - INFO: Client 'GEONET' - Requesting unreliable availability.\n"
     ]
    },
    {
     "name": "stdout",
     "output_type": "stream",
     "text": [
      "=================================================================\n",
      "Initiating mass download request.\n"
     ]
    },
    {
     "name": "stderr",
     "output_type": "stream",
     "text": [
      "[2021-11-25 00:53:09,856] - obspy.clients.fdsn.mass_downloader - INFO: Client 'GEONET' - No data available for request.\n",
      "[2021-11-25 00:53:09,872] - obspy.clients.fdsn.mass_downloader - INFO: Client 'GEONET' - No data available.\n",
      "[2021-11-25 00:53:09,887] - obspy.clients.fdsn.mass_downloader - INFO: ============================== Final report\n",
      "[2021-11-25 00:53:09,893] - obspy.clients.fdsn.mass_downloader - INFO: 0 MiniSEED files [0.0 MB] already existed.\n",
      "[2021-11-25 00:53:09,896] - obspy.clients.fdsn.mass_downloader - INFO: 0 StationXML files [0.0 MB] already existed.\n",
      "[2021-11-25 00:53:09,899] - obspy.clients.fdsn.mass_downloader - INFO: Client 'GEONET' - Acquired 0 MiniSEED files [0.0 MB].\n",
      "[2021-11-25 00:53:09,906] - obspy.clients.fdsn.mass_downloader - INFO: Client 'GEONET' - Acquired 0 StationXML files [0.0 MB].\n",
      "[2021-11-25 00:53:09,915] - obspy.clients.fdsn.mass_downloader - INFO: Downloaded 0.0 MB in total.\n",
      "[2021-11-25 00:53:09,940] - obspy.clients.fdsn.mass_downloader - INFO: Initializing FDSN client(s) for GEONET.\n",
      "[2021-11-25 00:53:09,971] - obspy.clients.fdsn.mass_downloader - INFO: Successfully initialized 1 client(s): GEONET.\n",
      "[2021-11-25 00:53:09,982] - obspy.clients.fdsn.mass_downloader - INFO: Total acquired or preexisting stations: 0\n",
      "[2021-11-25 00:53:09,987] - obspy.clients.fdsn.mass_downloader - INFO: Client 'GEONET' - Requesting unreliable availability.\n"
     ]
    },
    {
     "name": "stdout",
     "output_type": "stream",
     "text": [
      "=================================================================\n",
      "Initiating mass download request.\n"
     ]
    },
    {
     "name": "stderr",
     "output_type": "stream",
     "text": [
      "[2021-11-25 00:53:10,670] - obspy.clients.fdsn.mass_downloader - INFO: Client 'GEONET' - Successfully requested availability (0.68 seconds)\n",
      "[2021-11-25 00:53:10,700] - obspy.clients.fdsn.mass_downloader - INFO: Client 'GEONET' - Found 1 stations (1 channels).\n",
      "[2021-11-25 00:53:10,705] - obspy.clients.fdsn.mass_downloader - INFO: Client 'GEONET' - Will attempt to download data from 1 stations.\n",
      "[2021-11-25 00:53:10,713] - obspy.clients.fdsn.mass_downloader - INFO: Client 'GEONET' - Status for 1 time intervals/channels before downloading: NEEDS_DOWNLOADING\n",
      "[2021-11-25 00:53:11,516] - obspy.clients.fdsn.mass_downloader - INFO: Client 'GEONET' - Successfully downloaded 1 channels (of 1)\n",
      "[2021-11-25 00:53:11,587] - obspy.clients.fdsn.mass_downloader - INFO: Client 'GEONET' - Launching basic QC checks...\n",
      "[2021-11-25 00:53:11,626] - obspy.clients.fdsn.mass_downloader - INFO: Client 'GEONET' - Downloaded 0.0 MB [4.11 KB/sec] of data, 0.0 MB of which were discarded afterwards.\n",
      "[2021-11-25 00:53:11,627] - obspy.clients.fdsn.mass_downloader - INFO: Client 'GEONET' - Status for 1 time intervals/channels after downloading: DOWNLOADED\n",
      "[2021-11-25 00:53:11,639] - obspy.clients.fdsn.mass_downloader - INFO: Client 'GEONET' - No station information to download.\n",
      "[2021-11-25 00:53:11,642] - obspy.clients.fdsn.mass_downloader - INFO: ============================== Final report\n",
      "[2021-11-25 00:53:11,643] - obspy.clients.fdsn.mass_downloader - INFO: 0 MiniSEED files [0.0 MB] already existed.\n",
      "[2021-11-25 00:53:11,649] - obspy.clients.fdsn.mass_downloader - INFO: 1 StationXML files [0.0 MB] already existed.\n",
      "[2021-11-25 00:53:11,651] - obspy.clients.fdsn.mass_downloader - INFO: Client 'GEONET' - Acquired 1 MiniSEED files [0.0 MB].\n",
      "[2021-11-25 00:53:11,651] - obspy.clients.fdsn.mass_downloader - INFO: Client 'GEONET' - Acquired 0 StationXML files [0.0 MB].\n",
      "[2021-11-25 00:53:11,652] - obspy.clients.fdsn.mass_downloader - INFO: Downloaded 0.0 MB in total.\n",
      "[2021-11-25 00:53:11,661] - obspy.clients.fdsn.mass_downloader - INFO: Initializing FDSN client(s) for GEONET.\n",
      "[2021-11-25 00:53:11,694] - obspy.clients.fdsn.mass_downloader - INFO: Successfully initialized 1 client(s): GEONET.\n",
      "[2021-11-25 00:53:11,700] - obspy.clients.fdsn.mass_downloader - INFO: Total acquired or preexisting stations: 0\n",
      "[2021-11-25 00:53:11,702] - obspy.clients.fdsn.mass_downloader - INFO: Client 'GEONET' - Requesting unreliable availability.\n"
     ]
    },
    {
     "name": "stdout",
     "output_type": "stream",
     "text": [
      "=================================================================\n",
      "Initiating mass download request.\n"
     ]
    },
    {
     "name": "stderr",
     "output_type": "stream",
     "text": [
      "[2021-11-25 00:53:12,285] - obspy.clients.fdsn.mass_downloader - INFO: Client 'GEONET' - Successfully requested availability (0.58 seconds)\n",
      "[2021-11-25 00:53:12,318] - obspy.clients.fdsn.mass_downloader - INFO: Client 'GEONET' - Found 1 stations (1 channels).\n",
      "[2021-11-25 00:53:12,328] - obspy.clients.fdsn.mass_downloader - INFO: Client 'GEONET' - Will attempt to download data from 1 stations.\n",
      "[2021-11-25 00:53:12,340] - obspy.clients.fdsn.mass_downloader - INFO: Client 'GEONET' - Status for 1 time intervals/channels before downloading: NEEDS_DOWNLOADING\n",
      "[2021-11-25 00:53:13,169] - obspy.clients.fdsn.mass_downloader - INFO: Client 'GEONET' - Successfully downloaded 1 channels (of 1)\n",
      "[2021-11-25 00:53:13,207] - obspy.clients.fdsn.mass_downloader - INFO: Client 'GEONET' - Launching basic QC checks...\n",
      "[2021-11-25 00:53:13,233] - obspy.clients.fdsn.mass_downloader - INFO: Client 'GEONET' - Downloaded 0.0 MB [4.14 KB/sec] of data, 0.0 MB of which were discarded afterwards.\n",
      "[2021-11-25 00:53:13,237] - obspy.clients.fdsn.mass_downloader - INFO: Client 'GEONET' - Status for 1 time intervals/channels after downloading: DOWNLOADED\n",
      "[2021-11-25 00:53:13,246] - obspy.clients.fdsn.mass_downloader - INFO: Client 'GEONET' - No station information to download.\n",
      "[2021-11-25 00:53:13,254] - obspy.clients.fdsn.mass_downloader - INFO: ============================== Final report\n",
      "[2021-11-25 00:53:13,255] - obspy.clients.fdsn.mass_downloader - INFO: 0 MiniSEED files [0.0 MB] already existed.\n",
      "[2021-11-25 00:53:13,257] - obspy.clients.fdsn.mass_downloader - INFO: 1 StationXML files [0.0 MB] already existed.\n",
      "[2021-11-25 00:53:13,257] - obspy.clients.fdsn.mass_downloader - INFO: Client 'GEONET' - Acquired 1 MiniSEED files [0.0 MB].\n",
      "[2021-11-25 00:53:13,260] - obspy.clients.fdsn.mass_downloader - INFO: Client 'GEONET' - Acquired 0 StationXML files [0.0 MB].\n",
      "[2021-11-25 00:53:13,260] - obspy.clients.fdsn.mass_downloader - INFO: Downloaded 0.0 MB in total.\n",
      "[2021-11-25 00:53:13,267] - obspy.clients.fdsn.mass_downloader - INFO: Initializing FDSN client(s) for GEONET.\n",
      "[2021-11-25 00:53:13,286] - obspy.clients.fdsn.mass_downloader - INFO: Successfully initialized 1 client(s): GEONET.\n",
      "[2021-11-25 00:53:13,288] - obspy.clients.fdsn.mass_downloader - INFO: Total acquired or preexisting stations: 0\n",
      "[2021-11-25 00:53:13,291] - obspy.clients.fdsn.mass_downloader - INFO: Client 'GEONET' - Requesting unreliable availability.\n"
     ]
    },
    {
     "name": "stdout",
     "output_type": "stream",
     "text": [
      "=================================================================\n",
      "Initiating mass download request.\n"
     ]
    },
    {
     "name": "stderr",
     "output_type": "stream",
     "text": [
      "[2021-11-25 00:53:13,876] - obspy.clients.fdsn.mass_downloader - INFO: Client 'GEONET' - Successfully requested availability (0.58 seconds)\n",
      "[2021-11-25 00:53:13,891] - obspy.clients.fdsn.mass_downloader - INFO: Client 'GEONET' - Found 1 stations (1 channels).\n",
      "[2021-11-25 00:53:13,895] - obspy.clients.fdsn.mass_downloader - INFO: Client 'GEONET' - Will attempt to download data from 1 stations.\n",
      "[2021-11-25 00:53:13,897] - obspy.clients.fdsn.mass_downloader - INFO: Client 'GEONET' - Status for 1 time intervals/channels before downloading: NEEDS_DOWNLOADING\n",
      "[2021-11-25 00:53:14,652] - obspy.clients.fdsn.mass_downloader - INFO: Client 'GEONET' - Successfully downloaded 1 channels (of 1)\n",
      "[2021-11-25 00:53:14,691] - obspy.clients.fdsn.mass_downloader - INFO: Client 'GEONET' - Launching basic QC checks...\n",
      "[2021-11-25 00:53:14,738] - obspy.clients.fdsn.mass_downloader - INFO: Client 'GEONET' - Downloaded 0.0 MB [3.88 KB/sec] of data, 0.0 MB of which were discarded afterwards.\n",
      "[2021-11-25 00:53:14,744] - obspy.clients.fdsn.mass_downloader - INFO: Client 'GEONET' - Status for 1 time intervals/channels after downloading: DOWNLOADED\n",
      "[2021-11-25 00:53:14,755] - obspy.clients.fdsn.mass_downloader - INFO: Client 'GEONET' - No station information to download.\n",
      "[2021-11-25 00:53:14,761] - obspy.clients.fdsn.mass_downloader - INFO: ============================== Final report\n",
      "[2021-11-25 00:53:14,764] - obspy.clients.fdsn.mass_downloader - INFO: 0 MiniSEED files [0.0 MB] already existed.\n",
      "[2021-11-25 00:53:14,765] - obspy.clients.fdsn.mass_downloader - INFO: 1 StationXML files [0.0 MB] already existed.\n",
      "[2021-11-25 00:53:14,771] - obspy.clients.fdsn.mass_downloader - INFO: Client 'GEONET' - Acquired 1 MiniSEED files [0.0 MB].\n",
      "[2021-11-25 00:53:14,775] - obspy.clients.fdsn.mass_downloader - INFO: Client 'GEONET' - Acquired 0 StationXML files [0.0 MB].\n",
      "[2021-11-25 00:53:14,775] - obspy.clients.fdsn.mass_downloader - INFO: Downloaded 0.0 MB in total.\n",
      "[2021-11-25 00:53:14,805] - obspy.clients.fdsn.mass_downloader - INFO: Initializing FDSN client(s) for GEONET.\n",
      "[2021-11-25 00:53:14,860] - obspy.clients.fdsn.mass_downloader - INFO: Successfully initialized 1 client(s): GEONET.\n",
      "[2021-11-25 00:53:14,868] - obspy.clients.fdsn.mass_downloader - INFO: Total acquired or preexisting stations: 0\n",
      "[2021-11-25 00:53:14,873] - obspy.clients.fdsn.mass_downloader - INFO: Client 'GEONET' - Requesting unreliable availability.\n"
     ]
    },
    {
     "name": "stdout",
     "output_type": "stream",
     "text": [
      "=================================================================\n",
      "Initiating mass download request.\n"
     ]
    },
    {
     "name": "stderr",
     "output_type": "stream",
     "text": [
      "[2021-11-25 00:53:15,462] - obspy.clients.fdsn.mass_downloader - INFO: Client 'GEONET' - Successfully requested availability (0.59 seconds)\n",
      "[2021-11-25 00:53:15,521] - obspy.clients.fdsn.mass_downloader - INFO: Client 'GEONET' - Found 1 stations (1 channels).\n",
      "[2021-11-25 00:53:15,532] - obspy.clients.fdsn.mass_downloader - INFO: Client 'GEONET' - Will attempt to download data from 1 stations.\n",
      "[2021-11-25 00:53:15,552] - obspy.clients.fdsn.mass_downloader - INFO: Client 'GEONET' - Status for 1 time intervals/channels before downloading: NEEDS_DOWNLOADING\n",
      "[2021-11-25 00:53:16,276] - obspy.clients.fdsn.mass_downloader - INFO: Client 'GEONET' - Successfully downloaded 1 channels (of 1)\n",
      "[2021-11-25 00:53:16,310] - obspy.clients.fdsn.mass_downloader - INFO: Client 'GEONET' - Launching basic QC checks...\n",
      "[2021-11-25 00:53:16,330] - obspy.clients.fdsn.mass_downloader - INFO: Client 'GEONET' - Downloaded 0.0 MB [3.49 KB/sec] of data, 0.0 MB of which were discarded afterwards.\n",
      "[2021-11-25 00:53:16,332] - obspy.clients.fdsn.mass_downloader - INFO: Client 'GEONET' - Status for 1 time intervals/channels after downloading: DOWNLOADED\n",
      "[2021-11-25 00:53:16,339] - obspy.clients.fdsn.mass_downloader - INFO: Client 'GEONET' - No station information to download.\n",
      "[2021-11-25 00:53:16,341] - obspy.clients.fdsn.mass_downloader - INFO: ============================== Final report\n",
      "[2021-11-25 00:53:16,342] - obspy.clients.fdsn.mass_downloader - INFO: 0 MiniSEED files [0.0 MB] already existed.\n",
      "[2021-11-25 00:53:16,344] - obspy.clients.fdsn.mass_downloader - INFO: 1 StationXML files [0.0 MB] already existed.\n",
      "[2021-11-25 00:53:16,345] - obspy.clients.fdsn.mass_downloader - INFO: Client 'GEONET' - Acquired 1 MiniSEED files [0.0 MB].\n",
      "[2021-11-25 00:53:16,346] - obspy.clients.fdsn.mass_downloader - INFO: Client 'GEONET' - Acquired 0 StationXML files [0.0 MB].\n",
      "[2021-11-25 00:53:16,346] - obspy.clients.fdsn.mass_downloader - INFO: Downloaded 0.0 MB in total.\n",
      "[2021-11-25 00:53:16,353] - obspy.clients.fdsn.mass_downloader - INFO: Initializing FDSN client(s) for GEONET.\n",
      "[2021-11-25 00:53:16,360] - obspy.clients.fdsn.mass_downloader - INFO: Successfully initialized 1 client(s): GEONET.\n",
      "[2021-11-25 00:53:16,361] - obspy.clients.fdsn.mass_downloader - INFO: Total acquired or preexisting stations: 0\n",
      "[2021-11-25 00:53:16,362] - obspy.clients.fdsn.mass_downloader - INFO: Client 'GEONET' - Requesting unreliable availability.\n"
     ]
    },
    {
     "name": "stdout",
     "output_type": "stream",
     "text": [
      "=================================================================\n",
      "Initiating mass download request.\n"
     ]
    },
    {
     "name": "stderr",
     "output_type": "stream",
     "text": [
      "[2021-11-25 00:53:17,051] - obspy.clients.fdsn.mass_downloader - INFO: Client 'GEONET' - Successfully requested availability (0.69 seconds)\n",
      "[2021-11-25 00:53:17,111] - obspy.clients.fdsn.mass_downloader - INFO: Client 'GEONET' - Found 1 stations (1 channels).\n",
      "[2021-11-25 00:53:17,117] - obspy.clients.fdsn.mass_downloader - INFO: Client 'GEONET' - Will attempt to download data from 1 stations.\n",
      "[2021-11-25 00:53:17,138] - obspy.clients.fdsn.mass_downloader - INFO: Client 'GEONET' - Status for 1 time intervals/channels before downloading: NEEDS_DOWNLOADING\n",
      "[2021-11-25 00:53:18,079] - obspy.clients.fdsn.mass_downloader - INFO: Client 'GEONET' - Successfully downloaded 1 channels (of 1)\n",
      "[2021-11-25 00:53:18,159] - obspy.clients.fdsn.mass_downloader - INFO: Client 'GEONET' - Launching basic QC checks...\n",
      "[2021-11-25 00:53:18,210] - obspy.clients.fdsn.mass_downloader - INFO: Client 'GEONET' - Downloaded 0.0 MB [3.55 KB/sec] of data, 0.0 MB of which were discarded afterwards.\n",
      "[2021-11-25 00:53:18,215] - obspy.clients.fdsn.mass_downloader - INFO: Client 'GEONET' - Status for 1 time intervals/channels after downloading: DOWNLOADED\n",
      "[2021-11-25 00:53:18,231] - obspy.clients.fdsn.mass_downloader - INFO: Client 'GEONET' - No station information to download.\n",
      "[2021-11-25 00:53:18,235] - obspy.clients.fdsn.mass_downloader - INFO: ============================== Final report\n",
      "[2021-11-25 00:53:18,239] - obspy.clients.fdsn.mass_downloader - INFO: 0 MiniSEED files [0.0 MB] already existed.\n",
      "[2021-11-25 00:53:18,243] - obspy.clients.fdsn.mass_downloader - INFO: 1 StationXML files [0.0 MB] already existed.\n",
      "[2021-11-25 00:53:18,244] - obspy.clients.fdsn.mass_downloader - INFO: Client 'GEONET' - Acquired 1 MiniSEED files [0.0 MB].\n",
      "[2021-11-25 00:53:18,244] - obspy.clients.fdsn.mass_downloader - INFO: Client 'GEONET' - Acquired 0 StationXML files [0.0 MB].\n",
      "[2021-11-25 00:53:18,244] - obspy.clients.fdsn.mass_downloader - INFO: Downloaded 0.0 MB in total.\n",
      "[2021-11-25 00:53:18,301] - obspy.clients.fdsn.mass_downloader - INFO: Initializing FDSN client(s) for GEONET.\n",
      "[2021-11-25 00:53:18,335] - obspy.clients.fdsn.mass_downloader - INFO: Successfully initialized 1 client(s): GEONET.\n",
      "[2021-11-25 00:53:18,343] - obspy.clients.fdsn.mass_downloader - INFO: Total acquired or preexisting stations: 0\n",
      "[2021-11-25 00:53:18,346] - obspy.clients.fdsn.mass_downloader - INFO: Client 'GEONET' - Requesting unreliable availability.\n"
     ]
    },
    {
     "name": "stdout",
     "output_type": "stream",
     "text": [
      "=================================================================\n",
      "Initiating mass download request.\n"
     ]
    },
    {
     "name": "stderr",
     "output_type": "stream",
     "text": [
      "[2021-11-25 00:53:18,978] - obspy.clients.fdsn.mass_downloader - INFO: Client 'GEONET' - Successfully requested availability (0.63 seconds)\n",
      "[2021-11-25 00:53:19,001] - obspy.clients.fdsn.mass_downloader - INFO: Client 'GEONET' - Found 1 stations (1 channels).\n",
      "[2021-11-25 00:53:19,026] - obspy.clients.fdsn.mass_downloader - INFO: Client 'GEONET' - Will attempt to download data from 1 stations.\n",
      "[2021-11-25 00:53:19,034] - obspy.clients.fdsn.mass_downloader - INFO: Client 'GEONET' - Status for 1 time intervals/channels before downloading: NEEDS_DOWNLOADING\n",
      "[2021-11-25 00:53:19,978] - obspy.clients.fdsn.mass_downloader - INFO: Client 'GEONET' - Successfully downloaded 1 channels (of 1)\n",
      "[2021-11-25 00:53:20,065] - obspy.clients.fdsn.mass_downloader - INFO: Client 'GEONET' - Launching basic QC checks...\n",
      "[2021-11-25 00:53:20,136] - obspy.clients.fdsn.mass_downloader - INFO: Client 'GEONET' - Downloaded 0.0 MB [3.01 KB/sec] of data, 0.0 MB of which were discarded afterwards.\n",
      "[2021-11-25 00:53:20,152] - obspy.clients.fdsn.mass_downloader - INFO: Client 'GEONET' - Status for 1 time intervals/channels after downloading: DOWNLOADED\n",
      "[2021-11-25 00:53:20,172] - obspy.clients.fdsn.mass_downloader - INFO: Client 'GEONET' - No station information to download.\n",
      "[2021-11-25 00:53:20,187] - obspy.clients.fdsn.mass_downloader - INFO: ============================== Final report\n",
      "[2021-11-25 00:53:20,189] - obspy.clients.fdsn.mass_downloader - INFO: 0 MiniSEED files [0.0 MB] already existed.\n",
      "[2021-11-25 00:53:20,190] - obspy.clients.fdsn.mass_downloader - INFO: 1 StationXML files [0.0 MB] already existed.\n",
      "[2021-11-25 00:53:20,190] - obspy.clients.fdsn.mass_downloader - INFO: Client 'GEONET' - Acquired 1 MiniSEED files [0.0 MB].\n",
      "[2021-11-25 00:53:20,190] - obspy.clients.fdsn.mass_downloader - INFO: Client 'GEONET' - Acquired 0 StationXML files [0.0 MB].\n",
      "[2021-11-25 00:53:20,193] - obspy.clients.fdsn.mass_downloader - INFO: Downloaded 0.0 MB in total.\n",
      "[2021-11-25 00:53:20,243] - obspy.clients.fdsn.mass_downloader - INFO: Initializing FDSN client(s) for GEONET.\n",
      "[2021-11-25 00:53:20,307] - obspy.clients.fdsn.mass_downloader - INFO: Successfully initialized 1 client(s): GEONET.\n",
      "[2021-11-25 00:53:20,308] - obspy.clients.fdsn.mass_downloader - INFO: Total acquired or preexisting stations: 0\n",
      "[2021-11-25 00:53:20,315] - obspy.clients.fdsn.mass_downloader - INFO: Client 'GEONET' - Requesting unreliable availability.\n"
     ]
    },
    {
     "name": "stdout",
     "output_type": "stream",
     "text": [
      "=================================================================\n",
      "Initiating mass download request.\n"
     ]
    },
    {
     "name": "stderr",
     "output_type": "stream",
     "text": [
      "[2021-11-25 00:53:20,949] - obspy.clients.fdsn.mass_downloader - INFO: Client 'GEONET' - Successfully requested availability (0.63 seconds)\n",
      "[2021-11-25 00:53:20,975] - obspy.clients.fdsn.mass_downloader - INFO: Client 'GEONET' - Found 1 stations (1 channels).\n",
      "[2021-11-25 00:53:21,000] - obspy.clients.fdsn.mass_downloader - INFO: Client 'GEONET' - Will attempt to download data from 1 stations.\n",
      "[2021-11-25 00:53:21,013] - obspy.clients.fdsn.mass_downloader - INFO: Client 'GEONET' - Status for 1 time intervals/channels before downloading: NEEDS_DOWNLOADING\n",
      "[2021-11-25 00:53:21,808] - obspy.clients.fdsn.mass_downloader - INFO: Client 'GEONET' - Successfully downloaded 1 channels (of 1)\n",
      "[2021-11-25 00:53:21,852] - obspy.clients.fdsn.mass_downloader - INFO: Client 'GEONET' - Launching basic QC checks...\n",
      "[2021-11-25 00:53:21,957] - obspy.clients.fdsn.mass_downloader - INFO: Client 'GEONET' - Downloaded 0.0 MB [3.63 KB/sec] of data, 0.0 MB of which were discarded afterwards.\n",
      "[2021-11-25 00:53:21,967] - obspy.clients.fdsn.mass_downloader - INFO: Client 'GEONET' - Status for 1 time intervals/channels after downloading: DOWNLOADED\n",
      "[2021-11-25 00:53:21,989] - obspy.clients.fdsn.mass_downloader - INFO: Client 'GEONET' - No station information to download.\n",
      "[2021-11-25 00:53:21,999] - obspy.clients.fdsn.mass_downloader - INFO: ============================== Final report\n",
      "[2021-11-25 00:53:22,004] - obspy.clients.fdsn.mass_downloader - INFO: 0 MiniSEED files [0.0 MB] already existed.\n",
      "[2021-11-25 00:53:22,008] - obspy.clients.fdsn.mass_downloader - INFO: 1 StationXML files [0.0 MB] already existed.\n",
      "[2021-11-25 00:53:22,009] - obspy.clients.fdsn.mass_downloader - INFO: Client 'GEONET' - Acquired 1 MiniSEED files [0.0 MB].\n",
      "[2021-11-25 00:53:22,009] - obspy.clients.fdsn.mass_downloader - INFO: Client 'GEONET' - Acquired 0 StationXML files [0.0 MB].\n",
      "[2021-11-25 00:53:22,011] - obspy.clients.fdsn.mass_downloader - INFO: Downloaded 0.0 MB in total.\n",
      "[2021-11-25 00:53:22,054] - obspy.clients.fdsn.mass_downloader - INFO: Initializing FDSN client(s) for GEONET.\n",
      "[2021-11-25 00:53:22,106] - obspy.clients.fdsn.mass_downloader - INFO: Successfully initialized 1 client(s): GEONET.\n",
      "[2021-11-25 00:53:22,110] - obspy.clients.fdsn.mass_downloader - INFO: Total acquired or preexisting stations: 0\n",
      "[2021-11-25 00:53:22,121] - obspy.clients.fdsn.mass_downloader - INFO: Client 'GEONET' - Requesting unreliable availability.\n"
     ]
    },
    {
     "name": "stdout",
     "output_type": "stream",
     "text": [
      "=================================================================\n",
      "Initiating mass download request.\n"
     ]
    }
   ],
   "source": [
    "import mpl_toolkits\n",
    "import matplotlib.pyplot as plt\n",
    "import pandas as pd\n",
    "import geopandas as gpd\n",
    "import numpy as np\n",
    "import pickle\n",
    "import os\n",
    "import logging\n",
    "from obspy import read\n",
    "\n",
    "\n",
    "from obspy.clients.fdsn.mass_downloader import RectangularDomain, Restrictions, MassDownloader\n",
    "from scipy import signal\n",
    "from obspy import UTCDateTime\n",
    "from obspy.clients.fdsn import Client as FDSN_Client\n",
    "from obspy import read_inventory\n",
    "from obspy.core.util import (BASEMAP_VERSION, CARTOPY_VERSION,\n",
    "                             MATPLOTLIB_VERSION, PROJ4_VERSION)\n",
    "\n",
    "events_df = pd.read_pickle('data/events_processed.pkl')\n",
    "stations_df = pd.read_pickle('data/stations_processed.pkl')\n",
    "\n",
    "events = events_df[(events_df.time > '2020-01-01') & (events_df.time < '2021-01-01')]\n",
    "events = events[6700:7000]\n",
    "\n",
    "def mass_data_downloader(start, stop, event_id, Station,\n",
    "                         Network='NZ', \n",
    "                         Channel='HHZ', \n",
    "                         Location=10\n",
    "                         ):\n",
    "    '''\n",
    "    This function uses the FDSN mass data downloader to automatically download\n",
    "    data from the XH network deployed on the RIS from Nov 2014 - Nov 2016.\n",
    "    More information on the Obspy mass downloader available at:\n",
    "    https://docs.obspy.org/packages/autogen/obspy.clients.fdsn.mass_downloader.html\n",
    "    Inputs:\n",
    "    start: \"YYYYMMDD\"\n",
    "    stop:  \"YYYYMMDD\"\n",
    "    Network: 2-character FDSN network code\n",
    "    Station: 2-character station code\n",
    "    Channel: 3-character channel code\n",
    "    Location: 10.\n",
    "    '''\n",
    "    print(\"=\" * 65)\n",
    "    print(\"Initiating mass download request.\")\n",
    "\n",
    "    domain = RectangularDomain(\n",
    "        minlatitude=-47.749,\n",
    "        maxlatitude=-33.779,\n",
    "        minlongitude=166.104,\n",
    "        maxlongitude=178.990\n",
    "    )\n",
    "\n",
    "    restrictions = Restrictions(\n",
    "        starttime = start,\n",
    "        endtime = stop,\n",
    "        #24 hr\n",
    "        chunklength_in_sec = 86400,\n",
    "        network = Network,\n",
    "        station = Station,\n",
    "        location = Location,\n",
    "        channel = Channel,\n",
    "        reject_channels_with_gaps = False,\n",
    "        minimum_length = 0.0,\n",
    "        minimum_interstation_distance_in_m = 100.0\n",
    "    )\n",
    "\n",
    "    mdl = MassDownloader(providers=['GEONET'])\n",
    "    mdl.download(\n",
    "        domain,\n",
    "        restrictions,\n",
    "        mseed_storage=f\"normal/waveforms/{event_id}\",\n",
    "        stationxml_storage=\"normal/stations\"\n",
    "    )\n",
    "\n",
    "    logger = logging.getLogger(\"obspy.clients.fdsn.mass_downloader\")\n",
    "    logger.setLevel(logging.DEBUG)\n",
    "    \n",
    "    \n",
    "for i, event in events.iterrows():\n",
    "    event_id = event.event_id\n",
    "    \n",
    "    for j, station in stations_df.iterrows():\n",
    "        event_time = event['time']\n",
    "        \n",
    "        start=event_time - 3000\n",
    "        end=event_time - 2970\n",
    "        mass_data_downloader(start, end, event_id, station.station_code)"
   ]
  },
  {
   "cell_type": "code",
   "execution_count": null,
   "id": "ad69c37b",
   "metadata": {},
   "outputs": [],
   "source": []
  }
 ],
 "metadata": {
  "kernelspec": {
   "display_name": "Python 3",
   "language": "python",
   "name": "python3"
  },
  "language_info": {
   "codemirror_mode": {
    "name": "ipython",
    "version": 3
   },
   "file_extension": ".py",
   "mimetype": "text/x-python",
   "name": "python",
   "nbconvert_exporter": "python",
   "pygments_lexer": "ipython3",
   "version": "3.9.2"
  }
 },
 "nbformat": 4,
 "nbformat_minor": 5
}
