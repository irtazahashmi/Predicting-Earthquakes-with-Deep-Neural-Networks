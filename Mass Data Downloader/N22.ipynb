{
 "cells": [
  {
   "cell_type": "code",
   "execution_count": null,
   "id": "a7e69277",
   "metadata": {},
   "outputs": [
    {
     "name": "stderr",
     "output_type": "stream",
     "text": [
      "[2021-11-25 00:46:17,016] - obspy.clients.fdsn.mass_downloader - INFO: Initializing FDSN client(s) for GEONET.\n",
      "[2021-11-25 00:46:17,129] - obspy.clients.fdsn.mass_downloader - INFO: Successfully initialized 1 client(s): GEONET.\n",
      "[2021-11-25 00:46:17,135] - obspy.clients.fdsn.mass_downloader - INFO: Total acquired or preexisting stations: 0\n",
      "[2021-11-25 00:46:17,135] - obspy.clients.fdsn.mass_downloader - INFO: Client 'GEONET' - Requesting unreliable availability.\n"
     ]
    },
    {
     "name": "stdout",
     "output_type": "stream",
     "text": [
      "=================================================================\n",
      "Initiating mass download request.\n"
     ]
    },
    {
     "name": "stderr",
     "output_type": "stream",
     "text": [
      "[2021-11-25 00:46:18,505] - obspy.clients.fdsn.mass_downloader - INFO: Client 'GEONET' - Successfully requested availability (1.37 seconds)\n",
      "[2021-11-25 00:46:18,506] - obspy.clients.fdsn.mass_downloader - INFO: Client 'GEONET' - Found 1 stations (1 channels).\n",
      "[2021-11-25 00:46:18,507] - obspy.clients.fdsn.mass_downloader - INFO: Client 'GEONET' - Will attempt to download data from 1 stations.\n",
      "[2021-11-25 00:46:18,511] - obspy.clients.fdsn.mass_downloader - INFO: Client 'GEONET' - Status for 1 time intervals/channels before downloading: NEEDS_DOWNLOADING\n",
      "[2021-11-25 00:46:19,568] - obspy.clients.fdsn.mass_downloader - INFO: Client 'GEONET' - Successfully downloaded 1 channels (of 1)\n",
      "[2021-11-25 00:46:19,575] - obspy.clients.fdsn.mass_downloader - INFO: Client 'GEONET' - Launching basic QC checks...\n",
      "[2021-11-25 00:46:19,661] - obspy.clients.fdsn.mass_downloader - INFO: Client 'GEONET' - Downloaded 0.0 MB [3.77 KB/sec] of data, 0.0 MB of which were discarded afterwards.\n",
      "[2021-11-25 00:46:19,666] - obspy.clients.fdsn.mass_downloader - INFO: Client 'GEONET' - Status for 1 time intervals/channels after downloading: DOWNLOADED\n",
      "[2021-11-25 00:46:19,671] - obspy.clients.fdsn.mass_downloader - INFO: Client 'GEONET' - No station information to download.\n",
      "[2021-11-25 00:46:19,673] - obspy.clients.fdsn.mass_downloader - INFO: ============================== Final report\n",
      "[2021-11-25 00:46:19,674] - obspy.clients.fdsn.mass_downloader - INFO: 0 MiniSEED files [0.0 MB] already existed.\n",
      "[2021-11-25 00:46:19,676] - obspy.clients.fdsn.mass_downloader - INFO: 1 StationXML files [0.0 MB] already existed.\n",
      "[2021-11-25 00:46:19,678] - obspy.clients.fdsn.mass_downloader - INFO: Client 'GEONET' - Acquired 1 MiniSEED files [0.0 MB].\n",
      "[2021-11-25 00:46:19,681] - obspy.clients.fdsn.mass_downloader - INFO: Client 'GEONET' - Acquired 0 StationXML files [0.0 MB].\n",
      "[2021-11-25 00:46:19,681] - obspy.clients.fdsn.mass_downloader - INFO: Downloaded 0.0 MB in total.\n",
      "[2021-11-25 00:46:19,687] - obspy.clients.fdsn.mass_downloader - INFO: Initializing FDSN client(s) for GEONET.\n",
      "[2021-11-25 00:46:19,691] - obspy.clients.fdsn.mass_downloader - INFO: Successfully initialized 1 client(s): GEONET.\n",
      "[2021-11-25 00:46:19,693] - obspy.clients.fdsn.mass_downloader - INFO: Total acquired or preexisting stations: 0\n",
      "[2021-11-25 00:46:19,694] - obspy.clients.fdsn.mass_downloader - INFO: Client 'GEONET' - Requesting unreliable availability.\n"
     ]
    },
    {
     "name": "stdout",
     "output_type": "stream",
     "text": [
      "=================================================================\n",
      "Initiating mass download request.\n"
     ]
    },
    {
     "name": "stderr",
     "output_type": "stream",
     "text": [
      "[2021-11-25 00:46:20,377] - obspy.clients.fdsn.mass_downloader - INFO: Client 'GEONET' - Successfully requested availability (0.68 seconds)\n",
      "[2021-11-25 00:46:20,378] - obspy.clients.fdsn.mass_downloader - INFO: Client 'GEONET' - Found 1 stations (1 channels).\n",
      "[2021-11-25 00:46:20,378] - obspy.clients.fdsn.mass_downloader - INFO: Client 'GEONET' - Will attempt to download data from 1 stations.\n",
      "[2021-11-25 00:46:20,379] - obspy.clients.fdsn.mass_downloader - INFO: Client 'GEONET' - Status for 1 time intervals/channels before downloading: NEEDS_DOWNLOADING\n",
      "[2021-11-25 00:46:21,765] - obspy.clients.fdsn.mass_downloader - INFO: Client 'GEONET' - Successfully downloaded 1 channels (of 1)\n",
      "[2021-11-25 00:46:21,779] - obspy.clients.fdsn.mass_downloader - INFO: Client 'GEONET' - Launching basic QC checks...\n",
      "[2021-11-25 00:46:21,797] - obspy.clients.fdsn.mass_downloader - INFO: Client 'GEONET' - Downloaded 0.0 MB [4.65 KB/sec] of data, 0.0 MB of which were discarded afterwards.\n",
      "[2021-11-25 00:46:21,799] - obspy.clients.fdsn.mass_downloader - INFO: Client 'GEONET' - Status for 1 time intervals/channels after downloading: DOWNLOADED\n",
      "[2021-11-25 00:46:21,805] - obspy.clients.fdsn.mass_downloader - INFO: Client 'GEONET' - No station information to download.\n",
      "[2021-11-25 00:46:21,807] - obspy.clients.fdsn.mass_downloader - INFO: ============================== Final report\n",
      "[2021-11-25 00:46:21,808] - obspy.clients.fdsn.mass_downloader - INFO: 0 MiniSEED files [0.0 MB] already existed.\n",
      "[2021-11-25 00:46:21,810] - obspy.clients.fdsn.mass_downloader - INFO: 1 StationXML files [0.0 MB] already existed.\n",
      "[2021-11-25 00:46:21,812] - obspy.clients.fdsn.mass_downloader - INFO: Client 'GEONET' - Acquired 1 MiniSEED files [0.0 MB].\n",
      "[2021-11-25 00:46:21,814] - obspy.clients.fdsn.mass_downloader - INFO: Client 'GEONET' - Acquired 0 StationXML files [0.0 MB].\n",
      "[2021-11-25 00:46:21,814] - obspy.clients.fdsn.mass_downloader - INFO: Downloaded 0.0 MB in total.\n",
      "[2021-11-25 00:46:21,825] - obspy.clients.fdsn.mass_downloader - INFO: Initializing FDSN client(s) for GEONET.\n",
      "[2021-11-25 00:46:21,839] - obspy.clients.fdsn.mass_downloader - INFO: Successfully initialized 1 client(s): GEONET.\n",
      "[2021-11-25 00:46:21,840] - obspy.clients.fdsn.mass_downloader - INFO: Total acquired or preexisting stations: 0\n",
      "[2021-11-25 00:46:21,840] - obspy.clients.fdsn.mass_downloader - INFO: Client 'GEONET' - Requesting unreliable availability.\n"
     ]
    },
    {
     "name": "stdout",
     "output_type": "stream",
     "text": [
      "=================================================================\n",
      "Initiating mass download request.\n"
     ]
    },
    {
     "name": "stderr",
     "output_type": "stream",
     "text": [
      "[2021-11-25 00:46:23,295] - obspy.clients.fdsn.mass_downloader - INFO: Client 'GEONET' - Successfully requested availability (1.45 seconds)\n",
      "[2021-11-25 00:46:23,302] - obspy.clients.fdsn.mass_downloader - INFO: Client 'GEONET' - Found 1 stations (1 channels).\n",
      "[2021-11-25 00:46:23,306] - obspy.clients.fdsn.mass_downloader - INFO: Client 'GEONET' - Will attempt to download data from 1 stations.\n",
      "[2021-11-25 00:46:23,308] - obspy.clients.fdsn.mass_downloader - INFO: Client 'GEONET' - Status for 1 time intervals/channels before downloading: NEEDS_DOWNLOADING\n",
      "[2021-11-25 00:46:24,272] - obspy.clients.fdsn.mass_downloader - INFO: Client 'GEONET' - Successfully downloaded 1 channels (of 1)\n",
      "[2021-11-25 00:46:24,282] - obspy.clients.fdsn.mass_downloader - INFO: Client 'GEONET' - Launching basic QC checks...\n",
      "[2021-11-25 00:46:24,292] - obspy.clients.fdsn.mass_downloader - INFO: Client 'GEONET' - Downloaded 0.0 MB [3.62 KB/sec] of data, 0.0 MB of which were discarded afterwards.\n",
      "[2021-11-25 00:46:24,293] - obspy.clients.fdsn.mass_downloader - INFO: Client 'GEONET' - Status for 1 time intervals/channels after downloading: DOWNLOADED\n",
      "[2021-11-25 00:46:24,833] - obspy.clients.fdsn.mass_downloader - INFO: Client 'GEONET' - Successfully downloaded 'normal/stations/NZ.BKZ.xml'.\n",
      "[2021-11-25 00:46:24,837] - obspy.clients.fdsn.mass_downloader - INFO: Client 'GEONET' - Downloaded 1 station files [0.0 MB] in 0.5 seconds [16.60 KB/sec].\n",
      "[2021-11-25 00:46:24,842] - obspy.clients.fdsn.mass_downloader - INFO: ============================== Final report\n",
      "[2021-11-25 00:46:24,843] - obspy.clients.fdsn.mass_downloader - INFO: 0 MiniSEED files [0.0 MB] already existed.\n",
      "[2021-11-25 00:46:24,844] - obspy.clients.fdsn.mass_downloader - INFO: 0 StationXML files [0.0 MB] already existed.\n",
      "[2021-11-25 00:46:24,846] - obspy.clients.fdsn.mass_downloader - INFO: Client 'GEONET' - Acquired 1 MiniSEED files [0.0 MB].\n",
      "[2021-11-25 00:46:24,847] - obspy.clients.fdsn.mass_downloader - INFO: Client 'GEONET' - Acquired 1 StationXML files [0.0 MB].\n",
      "[2021-11-25 00:46:24,847] - obspy.clients.fdsn.mass_downloader - INFO: Downloaded 0.0 MB in total.\n",
      "[2021-11-25 00:46:24,865] - obspy.clients.fdsn.mass_downloader - INFO: Initializing FDSN client(s) for GEONET.\n",
      "[2021-11-25 00:46:24,869] - obspy.clients.fdsn.mass_downloader - INFO: Successfully initialized 1 client(s): GEONET.\n",
      "[2021-11-25 00:46:24,870] - obspy.clients.fdsn.mass_downloader - INFO: Total acquired or preexisting stations: 0\n",
      "[2021-11-25 00:46:24,871] - obspy.clients.fdsn.mass_downloader - INFO: Client 'GEONET' - Requesting unreliable availability.\n"
     ]
    },
    {
     "name": "stdout",
     "output_type": "stream",
     "text": [
      "=================================================================\n",
      "Initiating mass download request.\n"
     ]
    },
    {
     "name": "stderr",
     "output_type": "stream",
     "text": [
      "[2021-11-25 00:46:25,562] - obspy.clients.fdsn.mass_downloader - INFO: Client 'GEONET' - Successfully requested availability (0.69 seconds)\n",
      "[2021-11-25 00:46:25,563] - obspy.clients.fdsn.mass_downloader - INFO: Client 'GEONET' - Found 1 stations (1 channels).\n",
      "[2021-11-25 00:46:25,564] - obspy.clients.fdsn.mass_downloader - INFO: Client 'GEONET' - Will attempt to download data from 1 stations.\n",
      "[2021-11-25 00:46:25,570] - obspy.clients.fdsn.mass_downloader - INFO: Client 'GEONET' - Status for 1 time intervals/channels before downloading: NEEDS_DOWNLOADING\n",
      "[2021-11-25 00:46:26,548] - obspy.clients.fdsn.mass_downloader - INFO: Client 'GEONET' - Successfully downloaded 1 channels (of 1)\n",
      "[2021-11-25 00:46:26,555] - obspy.clients.fdsn.mass_downloader - INFO: Client 'GEONET' - Launching basic QC checks...\n",
      "[2021-11-25 00:46:26,579] - obspy.clients.fdsn.mass_downloader - INFO: Client 'GEONET' - Downloaded 0.0 MB [3.06 KB/sec] of data, 0.0 MB of which were discarded afterwards.\n",
      "[2021-11-25 00:46:26,581] - obspy.clients.fdsn.mass_downloader - INFO: Client 'GEONET' - Status for 1 time intervals/channels after downloading: DOWNLOADED\n",
      "[2021-11-25 00:46:26,587] - obspy.clients.fdsn.mass_downloader - INFO: Client 'GEONET' - No station information to download.\n",
      "[2021-11-25 00:46:26,592] - obspy.clients.fdsn.mass_downloader - INFO: ============================== Final report\n",
      "[2021-11-25 00:46:26,594] - obspy.clients.fdsn.mass_downloader - INFO: 0 MiniSEED files [0.0 MB] already existed.\n",
      "[2021-11-25 00:46:26,595] - obspy.clients.fdsn.mass_downloader - INFO: 1 StationXML files [0.0 MB] already existed.\n",
      "[2021-11-25 00:46:26,595] - obspy.clients.fdsn.mass_downloader - INFO: Client 'GEONET' - Acquired 1 MiniSEED files [0.0 MB].\n",
      "[2021-11-25 00:46:26,597] - obspy.clients.fdsn.mass_downloader - INFO: Client 'GEONET' - Acquired 0 StationXML files [0.0 MB].\n",
      "[2021-11-25 00:46:26,603] - obspy.clients.fdsn.mass_downloader - INFO: Downloaded 0.0 MB in total.\n",
      "[2021-11-25 00:46:26,621] - obspy.clients.fdsn.mass_downloader - INFO: Initializing FDSN client(s) for GEONET.\n",
      "[2021-11-25 00:46:26,650] - obspy.clients.fdsn.mass_downloader - INFO: Successfully initialized 1 client(s): GEONET.\n",
      "[2021-11-25 00:46:26,656] - obspy.clients.fdsn.mass_downloader - INFO: Total acquired or preexisting stations: 0\n",
      "[2021-11-25 00:46:26,658] - obspy.clients.fdsn.mass_downloader - INFO: Client 'GEONET' - Requesting unreliable availability.\n"
     ]
    },
    {
     "name": "stdout",
     "output_type": "stream",
     "text": [
      "=================================================================\n",
      "Initiating mass download request.\n"
     ]
    },
    {
     "name": "stderr",
     "output_type": "stream",
     "text": [
      "[2021-11-25 00:46:27,228] - obspy.clients.fdsn.mass_downloader - INFO: Client 'GEONET' - Successfully requested availability (0.57 seconds)\n",
      "[2021-11-25 00:46:27,232] - obspy.clients.fdsn.mass_downloader - INFO: Client 'GEONET' - Found 1 stations (1 channels).\n",
      "[2021-11-25 00:46:27,235] - obspy.clients.fdsn.mass_downloader - INFO: Client 'GEONET' - Will attempt to download data from 1 stations.\n",
      "[2021-11-25 00:46:27,235] - obspy.clients.fdsn.mass_downloader - INFO: Client 'GEONET' - Status for 1 time intervals/channels before downloading: NEEDS_DOWNLOADING\n",
      "[2021-11-25 00:46:28,233] - obspy.clients.fdsn.mass_downloader - INFO: Client 'GEONET' - Successfully downloaded 1 channels (of 1)\n",
      "[2021-11-25 00:46:28,244] - obspy.clients.fdsn.mass_downloader - INFO: Client 'GEONET' - Launching basic QC checks...\n",
      "[2021-11-25 00:46:28,259] - obspy.clients.fdsn.mass_downloader - INFO: Client 'GEONET' - Downloaded 0.0 MB [3.49 KB/sec] of data, 0.0 MB of which were discarded afterwards.\n",
      "[2021-11-25 00:46:28,260] - obspy.clients.fdsn.mass_downloader - INFO: Client 'GEONET' - Status for 1 time intervals/channels after downloading: DOWNLOADED\n",
      "[2021-11-25 00:46:28,263] - obspy.clients.fdsn.mass_downloader - INFO: Client 'GEONET' - No station information to download.\n",
      "[2021-11-25 00:46:28,268] - obspy.clients.fdsn.mass_downloader - INFO: ============================== Final report\n",
      "[2021-11-25 00:46:28,269] - obspy.clients.fdsn.mass_downloader - INFO: 0 MiniSEED files [0.0 MB] already existed.\n",
      "[2021-11-25 00:46:28,269] - obspy.clients.fdsn.mass_downloader - INFO: 1 StationXML files [0.0 MB] already existed.\n",
      "[2021-11-25 00:46:28,270] - obspy.clients.fdsn.mass_downloader - INFO: Client 'GEONET' - Acquired 1 MiniSEED files [0.0 MB].\n",
      "[2021-11-25 00:46:28,270] - obspy.clients.fdsn.mass_downloader - INFO: Client 'GEONET' - Acquired 0 StationXML files [0.0 MB].\n",
      "[2021-11-25 00:46:28,271] - obspy.clients.fdsn.mass_downloader - INFO: Downloaded 0.0 MB in total.\n",
      "[2021-11-25 00:46:28,274] - obspy.clients.fdsn.mass_downloader - INFO: Initializing FDSN client(s) for GEONET.\n",
      "[2021-11-25 00:46:28,282] - obspy.clients.fdsn.mass_downloader - INFO: Successfully initialized 1 client(s): GEONET.\n",
      "[2021-11-25 00:46:28,283] - obspy.clients.fdsn.mass_downloader - INFO: Total acquired or preexisting stations: 0\n",
      "[2021-11-25 00:46:28,284] - obspy.clients.fdsn.mass_downloader - INFO: Client 'GEONET' - Requesting unreliable availability.\n"
     ]
    },
    {
     "name": "stdout",
     "output_type": "stream",
     "text": [
      "=================================================================\n",
      "Initiating mass download request.\n"
     ]
    },
    {
     "name": "stderr",
     "output_type": "stream",
     "text": [
      "[2021-11-25 00:46:28,931] - obspy.clients.fdsn.mass_downloader - INFO: Client 'GEONET' - Successfully requested availability (0.65 seconds)\n",
      "[2021-11-25 00:46:28,934] - obspy.clients.fdsn.mass_downloader - INFO: Client 'GEONET' - Found 1 stations (1 channels).\n",
      "[2021-11-25 00:46:28,935] - obspy.clients.fdsn.mass_downloader - INFO: Client 'GEONET' - Will attempt to download data from 1 stations.\n",
      "[2021-11-25 00:46:28,940] - obspy.clients.fdsn.mass_downloader - INFO: Client 'GEONET' - Status for 1 time intervals/channels before downloading: NEEDS_DOWNLOADING\n",
      "[2021-11-25 00:46:30,103] - obspy.clients.fdsn.mass_downloader - INFO: Client 'GEONET' - Successfully downloaded 1 channels (of 1)\n",
      "[2021-11-25 00:46:30,112] - obspy.clients.fdsn.mass_downloader - INFO: Client 'GEONET' - Launching basic QC checks...\n",
      "[2021-11-25 00:46:30,126] - obspy.clients.fdsn.mass_downloader - INFO: Client 'GEONET' - Downloaded 0.0 MB [3.87 KB/sec] of data, 0.0 MB of which were discarded afterwards.\n",
      "[2021-11-25 00:46:30,127] - obspy.clients.fdsn.mass_downloader - INFO: Client 'GEONET' - Status for 1 time intervals/channels after downloading: DOWNLOADED\n",
      "[2021-11-25 00:46:30,133] - obspy.clients.fdsn.mass_downloader - INFO: Client 'GEONET' - No station information to download.\n",
      "[2021-11-25 00:46:30,134] - obspy.clients.fdsn.mass_downloader - INFO: ============================== Final report\n",
      "[2021-11-25 00:46:30,135] - obspy.clients.fdsn.mass_downloader - INFO: 0 MiniSEED files [0.0 MB] already existed.\n",
      "[2021-11-25 00:46:30,136] - obspy.clients.fdsn.mass_downloader - INFO: 1 StationXML files [0.0 MB] already existed.\n",
      "[2021-11-25 00:46:30,137] - obspy.clients.fdsn.mass_downloader - INFO: Client 'GEONET' - Acquired 1 MiniSEED files [0.0 MB].\n",
      "[2021-11-25 00:46:30,137] - obspy.clients.fdsn.mass_downloader - INFO: Client 'GEONET' - Acquired 0 StationXML files [0.0 MB].\n",
      "[2021-11-25 00:46:30,138] - obspy.clients.fdsn.mass_downloader - INFO: Downloaded 0.0 MB in total.\n",
      "[2021-11-25 00:46:30,141] - obspy.clients.fdsn.mass_downloader - INFO: Initializing FDSN client(s) for GEONET.\n",
      "[2021-11-25 00:46:30,151] - obspy.clients.fdsn.mass_downloader - INFO: Successfully initialized 1 client(s): GEONET.\n",
      "[2021-11-25 00:46:30,153] - obspy.clients.fdsn.mass_downloader - INFO: Total acquired or preexisting stations: 0\n",
      "[2021-11-25 00:46:30,153] - obspy.clients.fdsn.mass_downloader - INFO: Client 'GEONET' - Requesting unreliable availability.\n"
     ]
    },
    {
     "name": "stdout",
     "output_type": "stream",
     "text": [
      "=================================================================\n",
      "Initiating mass download request.\n"
     ]
    },
    {
     "name": "stderr",
     "output_type": "stream",
     "text": [
      "[2021-11-25 00:46:30,774] - obspy.clients.fdsn.mass_downloader - INFO: Client 'GEONET' - Successfully requested availability (0.62 seconds)\n",
      "[2021-11-25 00:46:30,777] - obspy.clients.fdsn.mass_downloader - INFO: Client 'GEONET' - Found 1 stations (1 channels).\n",
      "[2021-11-25 00:46:30,782] - obspy.clients.fdsn.mass_downloader - INFO: Client 'GEONET' - Will attempt to download data from 1 stations.\n",
      "[2021-11-25 00:46:30,785] - obspy.clients.fdsn.mass_downloader - INFO: Client 'GEONET' - Status for 1 time intervals/channels before downloading: NEEDS_DOWNLOADING\n",
      "[2021-11-25 00:46:31,756] - obspy.clients.fdsn.mass_downloader - INFO: Client 'GEONET' - Successfully downloaded 1 channels (of 1)\n",
      "[2021-11-25 00:46:31,762] - obspy.clients.fdsn.mass_downloader - INFO: Client 'GEONET' - Launching basic QC checks...\n",
      "[2021-11-25 00:46:31,777] - obspy.clients.fdsn.mass_downloader - INFO: Client 'GEONET' - Downloaded 0.0 MB [3.63 KB/sec] of data, 0.0 MB of which were discarded afterwards.\n",
      "[2021-11-25 00:46:31,778] - obspy.clients.fdsn.mass_downloader - INFO: Client 'GEONET' - Status for 1 time intervals/channels after downloading: DOWNLOADED\n",
      "[2021-11-25 00:46:31,783] - obspy.clients.fdsn.mass_downloader - INFO: Client 'GEONET' - No station information to download.\n",
      "[2021-11-25 00:46:31,784] - obspy.clients.fdsn.mass_downloader - INFO: ============================== Final report\n",
      "[2021-11-25 00:46:31,784] - obspy.clients.fdsn.mass_downloader - INFO: 0 MiniSEED files [0.0 MB] already existed.\n",
      "[2021-11-25 00:46:31,785] - obspy.clients.fdsn.mass_downloader - INFO: 1 StationXML files [0.0 MB] already existed.\n",
      "[2021-11-25 00:46:31,785] - obspy.clients.fdsn.mass_downloader - INFO: Client 'GEONET' - Acquired 1 MiniSEED files [0.0 MB].\n",
      "[2021-11-25 00:46:31,786] - obspy.clients.fdsn.mass_downloader - INFO: Client 'GEONET' - Acquired 0 StationXML files [0.0 MB].\n",
      "[2021-11-25 00:46:31,786] - obspy.clients.fdsn.mass_downloader - INFO: Downloaded 0.0 MB in total.\n",
      "[2021-11-25 00:46:31,792] - obspy.clients.fdsn.mass_downloader - INFO: Initializing FDSN client(s) for GEONET.\n",
      "[2021-11-25 00:46:31,796] - obspy.clients.fdsn.mass_downloader - INFO: Successfully initialized 1 client(s): GEONET.\n",
      "[2021-11-25 00:46:31,797] - obspy.clients.fdsn.mass_downloader - INFO: Total acquired or preexisting stations: 0\n",
      "[2021-11-25 00:46:31,797] - obspy.clients.fdsn.mass_downloader - INFO: Client 'GEONET' - Requesting unreliable availability.\n"
     ]
    },
    {
     "name": "stdout",
     "output_type": "stream",
     "text": [
      "=================================================================\n",
      "Initiating mass download request.\n"
     ]
    },
    {
     "name": "stderr",
     "output_type": "stream",
     "text": [
      "[2021-11-25 00:46:32,328] - obspy.clients.fdsn.mass_downloader - INFO: Client 'GEONET' - Successfully requested availability (0.53 seconds)\n",
      "[2021-11-25 00:46:32,329] - obspy.clients.fdsn.mass_downloader - INFO: Client 'GEONET' - Found 1 stations (1 channels).\n",
      "[2021-11-25 00:46:32,330] - obspy.clients.fdsn.mass_downloader - INFO: Client 'GEONET' - Will attempt to download data from 1 stations.\n",
      "[2021-11-25 00:46:32,332] - obspy.clients.fdsn.mass_downloader - INFO: Client 'GEONET' - Status for 1 time intervals/channels before downloading: NEEDS_DOWNLOADING\n",
      "[2021-11-25 00:46:33,375] - obspy.clients.fdsn.mass_downloader - INFO: Client 'GEONET' - Successfully downloaded 1 channels (of 1)\n",
      "[2021-11-25 00:46:33,395] - obspy.clients.fdsn.mass_downloader - INFO: Client 'GEONET' - Launching basic QC checks...\n",
      "[2021-11-25 00:46:33,401] - obspy.clients.fdsn.mass_downloader - INFO: Client 'GEONET' - Downloaded 0.0 MB [3.76 KB/sec] of data, 0.0 MB of which were discarded afterwards.\n",
      "[2021-11-25 00:46:33,402] - obspy.clients.fdsn.mass_downloader - INFO: Client 'GEONET' - Status for 1 time intervals/channels after downloading: DOWNLOADED\n",
      "[2021-11-25 00:46:33,410] - obspy.clients.fdsn.mass_downloader - INFO: Client 'GEONET' - No station information to download.\n",
      "[2021-11-25 00:46:33,411] - obspy.clients.fdsn.mass_downloader - INFO: ============================== Final report\n",
      "[2021-11-25 00:46:33,412] - obspy.clients.fdsn.mass_downloader - INFO: 0 MiniSEED files [0.0 MB] already existed.\n",
      "[2021-11-25 00:46:33,413] - obspy.clients.fdsn.mass_downloader - INFO: 1 StationXML files [0.0 MB] already existed.\n",
      "[2021-11-25 00:46:33,413] - obspy.clients.fdsn.mass_downloader - INFO: Client 'GEONET' - Acquired 1 MiniSEED files [0.0 MB].\n",
      "[2021-11-25 00:46:33,414] - obspy.clients.fdsn.mass_downloader - INFO: Client 'GEONET' - Acquired 0 StationXML files [0.0 MB].\n",
      "[2021-11-25 00:46:33,414] - obspy.clients.fdsn.mass_downloader - INFO: Downloaded 0.0 MB in total.\n",
      "[2021-11-25 00:46:33,417] - obspy.clients.fdsn.mass_downloader - INFO: Initializing FDSN client(s) for GEONET.\n",
      "[2021-11-25 00:46:33,422] - obspy.clients.fdsn.mass_downloader - INFO: Successfully initialized 1 client(s): GEONET.\n",
      "[2021-11-25 00:46:33,423] - obspy.clients.fdsn.mass_downloader - INFO: Total acquired or preexisting stations: 0\n",
      "[2021-11-25 00:46:33,424] - obspy.clients.fdsn.mass_downloader - INFO: Client 'GEONET' - Requesting unreliable availability.\n"
     ]
    },
    {
     "name": "stdout",
     "output_type": "stream",
     "text": [
      "=================================================================\n",
      "Initiating mass download request.\n"
     ]
    },
    {
     "name": "stderr",
     "output_type": "stream",
     "text": [
      "[2021-11-25 00:46:34,034] - obspy.clients.fdsn.mass_downloader - INFO: Client 'GEONET' - Successfully requested availability (0.61 seconds)\n",
      "[2021-11-25 00:46:34,037] - obspy.clients.fdsn.mass_downloader - INFO: Client 'GEONET' - Found 1 stations (1 channels).\n",
      "[2021-11-25 00:46:34,038] - obspy.clients.fdsn.mass_downloader - INFO: Client 'GEONET' - Will attempt to download data from 1 stations.\n",
      "[2021-11-25 00:46:34,041] - obspy.clients.fdsn.mass_downloader - INFO: Client 'GEONET' - Status for 1 time intervals/channels before downloading: NEEDS_DOWNLOADING\n",
      "[2021-11-25 00:46:35,895] - obspy.clients.fdsn.mass_downloader - INFO: Client 'GEONET' - Successfully downloaded 1 channels (of 1)\n",
      "[2021-11-25 00:46:35,901] - obspy.clients.fdsn.mass_downloader - INFO: Client 'GEONET' - Launching basic QC checks...\n",
      "[2021-11-25 00:46:35,913] - obspy.clients.fdsn.mass_downloader - INFO: Client 'GEONET' - Downloaded 0.0 MB [2.15 KB/sec] of data, 0.0 MB of which were discarded afterwards.\n",
      "[2021-11-25 00:46:35,913] - obspy.clients.fdsn.mass_downloader - INFO: Client 'GEONET' - Status for 1 time intervals/channels after downloading: DOWNLOADED\n",
      "[2021-11-25 00:46:35,916] - obspy.clients.fdsn.mass_downloader - INFO: Client 'GEONET' - No station information to download.\n",
      "[2021-11-25 00:46:35,917] - obspy.clients.fdsn.mass_downloader - INFO: ============================== Final report\n",
      "[2021-11-25 00:46:35,918] - obspy.clients.fdsn.mass_downloader - INFO: 0 MiniSEED files [0.0 MB] already existed.\n",
      "[2021-11-25 00:46:35,918] - obspy.clients.fdsn.mass_downloader - INFO: 1 StationXML files [0.0 MB] already existed.\n",
      "[2021-11-25 00:46:35,919] - obspy.clients.fdsn.mass_downloader - INFO: Client 'GEONET' - Acquired 1 MiniSEED files [0.0 MB].\n",
      "[2021-11-25 00:46:35,919] - obspy.clients.fdsn.mass_downloader - INFO: Client 'GEONET' - Acquired 0 StationXML files [0.0 MB].\n",
      "[2021-11-25 00:46:35,919] - obspy.clients.fdsn.mass_downloader - INFO: Downloaded 0.0 MB in total.\n",
      "[2021-11-25 00:46:35,926] - obspy.clients.fdsn.mass_downloader - INFO: Initializing FDSN client(s) for GEONET.\n",
      "[2021-11-25 00:46:35,929] - obspy.clients.fdsn.mass_downloader - INFO: Successfully initialized 1 client(s): GEONET.\n",
      "[2021-11-25 00:46:35,930] - obspy.clients.fdsn.mass_downloader - INFO: Total acquired or preexisting stations: 0\n",
      "[2021-11-25 00:46:35,930] - obspy.clients.fdsn.mass_downloader - INFO: Client 'GEONET' - Requesting unreliable availability.\n"
     ]
    },
    {
     "name": "stdout",
     "output_type": "stream",
     "text": [
      "=================================================================\n",
      "Initiating mass download request.\n"
     ]
    },
    {
     "name": "stderr",
     "output_type": "stream",
     "text": [
      "[2021-11-25 00:46:36,494] - obspy.clients.fdsn.mass_downloader - INFO: Client 'GEONET' - No data available for request.\n",
      "[2021-11-25 00:46:36,496] - obspy.clients.fdsn.mass_downloader - INFO: Client 'GEONET' - No data available.\n",
      "[2021-11-25 00:46:36,497] - obspy.clients.fdsn.mass_downloader - INFO: ============================== Final report\n",
      "[2021-11-25 00:46:36,498] - obspy.clients.fdsn.mass_downloader - INFO: 0 MiniSEED files [0.0 MB] already existed.\n",
      "[2021-11-25 00:46:36,499] - obspy.clients.fdsn.mass_downloader - INFO: 0 StationXML files [0.0 MB] already existed.\n",
      "[2021-11-25 00:46:36,499] - obspy.clients.fdsn.mass_downloader - INFO: Client 'GEONET' - Acquired 0 MiniSEED files [0.0 MB].\n",
      "[2021-11-25 00:46:36,505] - obspy.clients.fdsn.mass_downloader - INFO: Client 'GEONET' - Acquired 0 StationXML files [0.0 MB].\n",
      "[2021-11-25 00:46:36,506] - obspy.clients.fdsn.mass_downloader - INFO: Downloaded 0.0 MB in total.\n",
      "[2021-11-25 00:46:36,508] - obspy.clients.fdsn.mass_downloader - INFO: Initializing FDSN client(s) for GEONET.\n",
      "[2021-11-25 00:46:36,519] - obspy.clients.fdsn.mass_downloader - INFO: Successfully initialized 1 client(s): GEONET.\n",
      "[2021-11-25 00:46:36,521] - obspy.clients.fdsn.mass_downloader - INFO: Total acquired or preexisting stations: 0\n",
      "[2021-11-25 00:46:36,523] - obspy.clients.fdsn.mass_downloader - INFO: Client 'GEONET' - Requesting unreliable availability.\n"
     ]
    },
    {
     "name": "stdout",
     "output_type": "stream",
     "text": [
      "=================================================================\n",
      "Initiating mass download request.\n"
     ]
    },
    {
     "name": "stderr",
     "output_type": "stream",
     "text": [
      "[2021-11-25 00:46:37,124] - obspy.clients.fdsn.mass_downloader - INFO: Client 'GEONET' - Successfully requested availability (0.60 seconds)\n",
      "[2021-11-25 00:46:37,129] - obspy.clients.fdsn.mass_downloader - INFO: Client 'GEONET' - Found 1 stations (1 channels).\n",
      "[2021-11-25 00:46:37,129] - obspy.clients.fdsn.mass_downloader - INFO: Client 'GEONET' - Will attempt to download data from 1 stations.\n",
      "[2021-11-25 00:46:37,130] - obspy.clients.fdsn.mass_downloader - INFO: Client 'GEONET' - Status for 1 time intervals/channels before downloading: NEEDS_DOWNLOADING\n",
      "[2021-11-25 00:46:38,062] - obspy.clients.fdsn.mass_downloader - INFO: Client 'GEONET' - Successfully downloaded 1 channels (of 1)\n",
      "[2021-11-25 00:46:38,070] - obspy.clients.fdsn.mass_downloader - INFO: Client 'GEONET' - Launching basic QC checks...\n",
      "[2021-11-25 00:46:38,080] - obspy.clients.fdsn.mass_downloader - INFO: Client 'GEONET' - Downloaded 0.0 MB [4.79 KB/sec] of data, 0.0 MB of which were discarded afterwards.\n",
      "[2021-11-25 00:46:38,080] - obspy.clients.fdsn.mass_downloader - INFO: Client 'GEONET' - Status for 1 time intervals/channels after downloading: DOWNLOADED\n",
      "[2021-11-25 00:46:38,083] - obspy.clients.fdsn.mass_downloader - INFO: Client 'GEONET' - No station information to download.\n",
      "[2021-11-25 00:46:38,088] - obspy.clients.fdsn.mass_downloader - INFO: ============================== Final report\n",
      "[2021-11-25 00:46:38,089] - obspy.clients.fdsn.mass_downloader - INFO: 0 MiniSEED files [0.0 MB] already existed.\n",
      "[2021-11-25 00:46:38,089] - obspy.clients.fdsn.mass_downloader - INFO: 1 StationXML files [0.0 MB] already existed.\n",
      "[2021-11-25 00:46:38,090] - obspy.clients.fdsn.mass_downloader - INFO: Client 'GEONET' - Acquired 1 MiniSEED files [0.0 MB].\n",
      "[2021-11-25 00:46:38,090] - obspy.clients.fdsn.mass_downloader - INFO: Client 'GEONET' - Acquired 0 StationXML files [0.0 MB].\n",
      "[2021-11-25 00:46:38,090] - obspy.clients.fdsn.mass_downloader - INFO: Downloaded 0.0 MB in total.\n",
      "[2021-11-25 00:46:38,094] - obspy.clients.fdsn.mass_downloader - INFO: Initializing FDSN client(s) for GEONET.\n",
      "[2021-11-25 00:46:38,103] - obspy.clients.fdsn.mass_downloader - INFO: Successfully initialized 1 client(s): GEONET.\n",
      "[2021-11-25 00:46:38,104] - obspy.clients.fdsn.mass_downloader - INFO: Total acquired or preexisting stations: 0\n",
      "[2021-11-25 00:46:38,105] - obspy.clients.fdsn.mass_downloader - INFO: Client 'GEONET' - Requesting unreliable availability.\n"
     ]
    },
    {
     "name": "stdout",
     "output_type": "stream",
     "text": [
      "=================================================================\n",
      "Initiating mass download request.\n"
     ]
    },
    {
     "name": "stderr",
     "output_type": "stream",
     "text": [
      "[2021-11-25 00:46:38,662] - obspy.clients.fdsn.mass_downloader - INFO: Client 'GEONET' - Successfully requested availability (0.56 seconds)\n",
      "[2021-11-25 00:46:38,678] - obspy.clients.fdsn.mass_downloader - INFO: Client 'GEONET' - Found 1 stations (1 channels).\n",
      "[2021-11-25 00:46:38,687] - obspy.clients.fdsn.mass_downloader - INFO: Client 'GEONET' - Will attempt to download data from 1 stations.\n",
      "[2021-11-25 00:46:38,692] - obspy.clients.fdsn.mass_downloader - INFO: Client 'GEONET' - Status for 1 time intervals/channels before downloading: NEEDS_DOWNLOADING\n",
      "[2021-11-25 00:46:39,758] - obspy.clients.fdsn.mass_downloader - INFO: Client 'GEONET' - Successfully downloaded 1 channels (of 1)\n",
      "[2021-11-25 00:46:39,782] - obspy.clients.fdsn.mass_downloader - INFO: Client 'GEONET' - Launching basic QC checks...\n",
      "[2021-11-25 00:46:39,822] - obspy.clients.fdsn.mass_downloader - INFO: Client 'GEONET' - Downloaded 0.0 MB [2.76 KB/sec] of data, 0.0 MB of which were discarded afterwards.\n",
      "[2021-11-25 00:46:39,823] - obspy.clients.fdsn.mass_downloader - INFO: Client 'GEONET' - Status for 1 time intervals/channels after downloading: DOWNLOADED\n",
      "[2021-11-25 00:46:39,829] - obspy.clients.fdsn.mass_downloader - INFO: Client 'GEONET' - No station information to download.\n",
      "[2021-11-25 00:46:39,830] - obspy.clients.fdsn.mass_downloader - INFO: ============================== Final report\n",
      "[2021-11-25 00:46:39,835] - obspy.clients.fdsn.mass_downloader - INFO: 0 MiniSEED files [0.0 MB] already existed.\n",
      "[2021-11-25 00:46:39,837] - obspy.clients.fdsn.mass_downloader - INFO: 1 StationXML files [0.0 MB] already existed.\n",
      "[2021-11-25 00:46:39,838] - obspy.clients.fdsn.mass_downloader - INFO: Client 'GEONET' - Acquired 1 MiniSEED files [0.0 MB].\n",
      "[2021-11-25 00:46:39,839] - obspy.clients.fdsn.mass_downloader - INFO: Client 'GEONET' - Acquired 0 StationXML files [0.0 MB].\n",
      "[2021-11-25 00:46:39,843] - obspy.clients.fdsn.mass_downloader - INFO: Downloaded 0.0 MB in total.\n",
      "[2021-11-25 00:46:39,854] - obspy.clients.fdsn.mass_downloader - INFO: Initializing FDSN client(s) for GEONET.\n",
      "[2021-11-25 00:46:39,869] - obspy.clients.fdsn.mass_downloader - INFO: Successfully initialized 1 client(s): GEONET.\n",
      "[2021-11-25 00:46:39,871] - obspy.clients.fdsn.mass_downloader - INFO: Total acquired or preexisting stations: 0\n",
      "[2021-11-25 00:46:39,873] - obspy.clients.fdsn.mass_downloader - INFO: Client 'GEONET' - Requesting unreliable availability.\n"
     ]
    },
    {
     "name": "stdout",
     "output_type": "stream",
     "text": [
      "=================================================================\n",
      "Initiating mass download request.\n"
     ]
    },
    {
     "name": "stderr",
     "output_type": "stream",
     "text": [
      "[2021-11-25 00:46:40,489] - obspy.clients.fdsn.mass_downloader - INFO: Client 'GEONET' - Successfully requested availability (0.62 seconds)\n",
      "[2021-11-25 00:46:40,490] - obspy.clients.fdsn.mass_downloader - INFO: Client 'GEONET' - Found 1 stations (1 channels).\n",
      "[2021-11-25 00:46:40,490] - obspy.clients.fdsn.mass_downloader - INFO: Client 'GEONET' - Will attempt to download data from 1 stations.\n",
      "[2021-11-25 00:46:40,491] - obspy.clients.fdsn.mass_downloader - INFO: Client 'GEONET' - Status for 1 time intervals/channels before downloading: NEEDS_DOWNLOADING\n",
      "[2021-11-25 00:46:41,637] - obspy.clients.fdsn.mass_downloader - INFO: Client 'GEONET' - Successfully downloaded 1 channels (of 1)\n",
      "[2021-11-25 00:46:41,639] - obspy.clients.fdsn.mass_downloader - INFO: Client 'GEONET' - Launching basic QC checks...\n",
      "[2021-11-25 00:46:41,642] - obspy.clients.fdsn.mass_downloader - INFO: Client 'GEONET' - Downloaded 0.0 MB [4.80 KB/sec] of data, 0.0 MB of which were discarded afterwards.\n",
      "[2021-11-25 00:46:41,642] - obspy.clients.fdsn.mass_downloader - INFO: Client 'GEONET' - Status for 1 time intervals/channels after downloading: DOWNLOADED\n",
      "[2021-11-25 00:46:41,644] - obspy.clients.fdsn.mass_downloader - INFO: Client 'GEONET' - No station information to download.\n",
      "[2021-11-25 00:46:41,645] - obspy.clients.fdsn.mass_downloader - INFO: ============================== Final report\n",
      "[2021-11-25 00:46:41,645] - obspy.clients.fdsn.mass_downloader - INFO: 0 MiniSEED files [0.0 MB] already existed.\n",
      "[2021-11-25 00:46:41,646] - obspy.clients.fdsn.mass_downloader - INFO: 1 StationXML files [0.0 MB] already existed.\n",
      "[2021-11-25 00:46:41,646] - obspy.clients.fdsn.mass_downloader - INFO: Client 'GEONET' - Acquired 1 MiniSEED files [0.0 MB].\n",
      "[2021-11-25 00:46:41,646] - obspy.clients.fdsn.mass_downloader - INFO: Client 'GEONET' - Acquired 0 StationXML files [0.0 MB].\n",
      "[2021-11-25 00:46:41,646] - obspy.clients.fdsn.mass_downloader - INFO: Downloaded 0.0 MB in total.\n",
      "[2021-11-25 00:46:41,648] - obspy.clients.fdsn.mass_downloader - INFO: Initializing FDSN client(s) for GEONET.\n",
      "[2021-11-25 00:46:41,655] - obspy.clients.fdsn.mass_downloader - INFO: Successfully initialized 1 client(s): GEONET.\n",
      "[2021-11-25 00:46:41,655] - obspy.clients.fdsn.mass_downloader - INFO: Total acquired or preexisting stations: 0\n",
      "[2021-11-25 00:46:41,656] - obspy.clients.fdsn.mass_downloader - INFO: Client 'GEONET' - Requesting unreliable availability.\n"
     ]
    },
    {
     "name": "stdout",
     "output_type": "stream",
     "text": [
      "=================================================================\n",
      "Initiating mass download request.\n"
     ]
    },
    {
     "name": "stderr",
     "output_type": "stream",
     "text": [
      "[2021-11-25 00:46:42,332] - obspy.clients.fdsn.mass_downloader - INFO: Client 'GEONET' - Successfully requested availability (0.68 seconds)\n",
      "[2021-11-25 00:46:42,333] - obspy.clients.fdsn.mass_downloader - INFO: Client 'GEONET' - Found 1 stations (1 channels).\n",
      "[2021-11-25 00:46:42,333] - obspy.clients.fdsn.mass_downloader - INFO: Client 'GEONET' - Will attempt to download data from 1 stations.\n",
      "[2021-11-25 00:46:42,335] - obspy.clients.fdsn.mass_downloader - INFO: Client 'GEONET' - Status for 1 time intervals/channels before downloading: NEEDS_DOWNLOADING\n",
      "[2021-11-25 00:46:43,175] - obspy.clients.fdsn.mass_downloader - INFO: Client 'GEONET' - Successfully downloaded 1 channels (of 1)\n",
      "[2021-11-25 00:46:43,178] - obspy.clients.fdsn.mass_downloader - INFO: Client 'GEONET' - Launching basic QC checks...\n",
      "[2021-11-25 00:46:43,187] - obspy.clients.fdsn.mass_downloader - INFO: Client 'GEONET' - Downloaded 0.0 MB [3.57 KB/sec] of data, 0.0 MB of which were discarded afterwards.\n",
      "[2021-11-25 00:46:43,187] - obspy.clients.fdsn.mass_downloader - INFO: Client 'GEONET' - Status for 1 time intervals/channels after downloading: DOWNLOADED\n",
      "[2021-11-25 00:46:43,189] - obspy.clients.fdsn.mass_downloader - INFO: Client 'GEONET' - No station information to download.\n",
      "[2021-11-25 00:46:43,190] - obspy.clients.fdsn.mass_downloader - INFO: ============================== Final report\n",
      "[2021-11-25 00:46:43,190] - obspy.clients.fdsn.mass_downloader - INFO: 0 MiniSEED files [0.0 MB] already existed.\n",
      "[2021-11-25 00:46:43,191] - obspy.clients.fdsn.mass_downloader - INFO: 1 StationXML files [0.0 MB] already existed.\n",
      "[2021-11-25 00:46:43,191] - obspy.clients.fdsn.mass_downloader - INFO: Client 'GEONET' - Acquired 1 MiniSEED files [0.0 MB].\n",
      "[2021-11-25 00:46:43,191] - obspy.clients.fdsn.mass_downloader - INFO: Client 'GEONET' - Acquired 0 StationXML files [0.0 MB].\n",
      "[2021-11-25 00:46:43,191] - obspy.clients.fdsn.mass_downloader - INFO: Downloaded 0.0 MB in total.\n",
      "[2021-11-25 00:46:43,197] - obspy.clients.fdsn.mass_downloader - INFO: Initializing FDSN client(s) for GEONET.\n",
      "[2021-11-25 00:46:43,200] - obspy.clients.fdsn.mass_downloader - INFO: Successfully initialized 1 client(s): GEONET.\n",
      "[2021-11-25 00:46:43,201] - obspy.clients.fdsn.mass_downloader - INFO: Total acquired or preexisting stations: 0\n",
      "[2021-11-25 00:46:43,201] - obspy.clients.fdsn.mass_downloader - INFO: Client 'GEONET' - Requesting unreliable availability.\n"
     ]
    },
    {
     "name": "stdout",
     "output_type": "stream",
     "text": [
      "=================================================================\n",
      "Initiating mass download request.\n"
     ]
    },
    {
     "name": "stderr",
     "output_type": "stream",
     "text": [
      "[2021-11-25 00:46:44,423] - obspy.clients.fdsn.mass_downloader - INFO: Client 'GEONET' - Successfully requested availability (1.22 seconds)\n",
      "[2021-11-25 00:46:44,426] - obspy.clients.fdsn.mass_downloader - INFO: Client 'GEONET' - Found 1 stations (1 channels).\n",
      "[2021-11-25 00:46:44,427] - obspy.clients.fdsn.mass_downloader - INFO: Client 'GEONET' - Will attempt to download data from 1 stations.\n",
      "[2021-11-25 00:46:44,427] - obspy.clients.fdsn.mass_downloader - INFO: Client 'GEONET' - Status for 1 time intervals/channels before downloading: NEEDS_DOWNLOADING\n",
      "[2021-11-25 00:46:45,608] - obspy.clients.fdsn.mass_downloader - INFO: Client 'GEONET' - Successfully downloaded 1 channels (of 1)\n",
      "[2021-11-25 00:46:45,611] - obspy.clients.fdsn.mass_downloader - INFO: Client 'GEONET' - Launching basic QC checks...\n",
      "[2021-11-25 00:46:45,617] - obspy.clients.fdsn.mass_downloader - INFO: Client 'GEONET' - Downloaded 0.0 MB [3.39 KB/sec] of data, 0.0 MB of which were discarded afterwards.\n",
      "[2021-11-25 00:46:45,620] - obspy.clients.fdsn.mass_downloader - INFO: Client 'GEONET' - Status for 1 time intervals/channels after downloading: DOWNLOADED\n",
      "[2021-11-25 00:46:45,622] - obspy.clients.fdsn.mass_downloader - INFO: Client 'GEONET' - No station information to download.\n",
      "[2021-11-25 00:46:45,623] - obspy.clients.fdsn.mass_downloader - INFO: ============================== Final report\n",
      "[2021-11-25 00:46:45,623] - obspy.clients.fdsn.mass_downloader - INFO: 0 MiniSEED files [0.0 MB] already existed.\n",
      "[2021-11-25 00:46:45,624] - obspy.clients.fdsn.mass_downloader - INFO: 1 StationXML files [0.0 MB] already existed.\n",
      "[2021-11-25 00:46:45,624] - obspy.clients.fdsn.mass_downloader - INFO: Client 'GEONET' - Acquired 1 MiniSEED files [0.0 MB].\n",
      "[2021-11-25 00:46:45,624] - obspy.clients.fdsn.mass_downloader - INFO: Client 'GEONET' - Acquired 0 StationXML files [0.0 MB].\n",
      "[2021-11-25 00:46:45,625] - obspy.clients.fdsn.mass_downloader - INFO: Downloaded 0.0 MB in total.\n",
      "[2021-11-25 00:46:45,627] - obspy.clients.fdsn.mass_downloader - INFO: Initializing FDSN client(s) for GEONET.\n",
      "[2021-11-25 00:46:45,632] - obspy.clients.fdsn.mass_downloader - INFO: Successfully initialized 1 client(s): GEONET.\n",
      "[2021-11-25 00:46:45,632] - obspy.clients.fdsn.mass_downloader - INFO: Total acquired or preexisting stations: 0\n",
      "[2021-11-25 00:46:45,633] - obspy.clients.fdsn.mass_downloader - INFO: Client 'GEONET' - Requesting unreliable availability.\n"
     ]
    },
    {
     "name": "stdout",
     "output_type": "stream",
     "text": [
      "=================================================================\n",
      "Initiating mass download request.\n"
     ]
    },
    {
     "name": "stderr",
     "output_type": "stream",
     "text": [
      "[2021-11-25 00:46:46,245] - obspy.clients.fdsn.mass_downloader - INFO: Client 'GEONET' - Successfully requested availability (0.61 seconds)\n",
      "[2021-11-25 00:46:46,245] - obspy.clients.fdsn.mass_downloader - INFO: Client 'GEONET' - Found 1 stations (1 channels).\n",
      "[2021-11-25 00:46:46,246] - obspy.clients.fdsn.mass_downloader - INFO: Client 'GEONET' - Will attempt to download data from 1 stations.\n",
      "[2021-11-25 00:46:46,246] - obspy.clients.fdsn.mass_downloader - INFO: Client 'GEONET' - Status for 1 time intervals/channels before downloading: NEEDS_DOWNLOADING\n",
      "[2021-11-25 00:46:47,085] - obspy.clients.fdsn.mass_downloader - INFO: Client 'GEONET' - Successfully downloaded 1 channels (of 1)\n",
      "[2021-11-25 00:46:47,096] - obspy.clients.fdsn.mass_downloader - INFO: Client 'GEONET' - Launching basic QC checks...\n",
      "[2021-11-25 00:46:47,104] - obspy.clients.fdsn.mass_downloader - INFO: Client 'GEONET' - Downloaded 0.0 MB [4.12 KB/sec] of data, 0.0 MB of which were discarded afterwards.\n",
      "[2021-11-25 00:46:47,104] - obspy.clients.fdsn.mass_downloader - INFO: Client 'GEONET' - Status for 1 time intervals/channels after downloading: DOWNLOADED\n",
      "[2021-11-25 00:46:47,107] - obspy.clients.fdsn.mass_downloader - INFO: Client 'GEONET' - No station information to download.\n",
      "[2021-11-25 00:46:47,113] - obspy.clients.fdsn.mass_downloader - INFO: ============================== Final report\n",
      "[2021-11-25 00:46:47,113] - obspy.clients.fdsn.mass_downloader - INFO: 0 MiniSEED files [0.0 MB] already existed.\n",
      "[2021-11-25 00:46:47,114] - obspy.clients.fdsn.mass_downloader - INFO: 1 StationXML files [0.0 MB] already existed.\n",
      "[2021-11-25 00:46:47,114] - obspy.clients.fdsn.mass_downloader - INFO: Client 'GEONET' - Acquired 1 MiniSEED files [0.0 MB].\n",
      "[2021-11-25 00:46:47,115] - obspy.clients.fdsn.mass_downloader - INFO: Client 'GEONET' - Acquired 0 StationXML files [0.0 MB].\n",
      "[2021-11-25 00:46:47,115] - obspy.clients.fdsn.mass_downloader - INFO: Downloaded 0.0 MB in total.\n",
      "[2021-11-25 00:46:47,118] - obspy.clients.fdsn.mass_downloader - INFO: Initializing FDSN client(s) for GEONET.\n",
      "[2021-11-25 00:46:47,122] - obspy.clients.fdsn.mass_downloader - INFO: Successfully initialized 1 client(s): GEONET.\n",
      "[2021-11-25 00:46:47,122] - obspy.clients.fdsn.mass_downloader - INFO: Total acquired or preexisting stations: 0\n",
      "[2021-11-25 00:46:47,123] - obspy.clients.fdsn.mass_downloader - INFO: Client 'GEONET' - Requesting unreliable availability.\n"
     ]
    },
    {
     "name": "stdout",
     "output_type": "stream",
     "text": [
      "=================================================================\n",
      "Initiating mass download request.\n"
     ]
    },
    {
     "name": "stderr",
     "output_type": "stream",
     "text": [
      "[2021-11-25 00:46:47,722] - obspy.clients.fdsn.mass_downloader - INFO: Client 'GEONET' - Successfully requested availability (0.60 seconds)\n",
      "[2021-11-25 00:46:47,727] - obspy.clients.fdsn.mass_downloader - INFO: Client 'GEONET' - Found 1 stations (1 channels).\n",
      "[2021-11-25 00:46:47,734] - obspy.clients.fdsn.mass_downloader - INFO: Client 'GEONET' - Will attempt to download data from 1 stations.\n",
      "[2021-11-25 00:46:47,737] - obspy.clients.fdsn.mass_downloader - INFO: Client 'GEONET' - Status for 1 time intervals/channels before downloading: NEEDS_DOWNLOADING\n",
      "[2021-11-25 00:46:48,666] - obspy.clients.fdsn.mass_downloader - INFO: Client 'GEONET' - Successfully downloaded 1 channels (of 1)\n",
      "[2021-11-25 00:46:48,684] - obspy.clients.fdsn.mass_downloader - INFO: Client 'GEONET' - Launching basic QC checks...\n",
      "[2021-11-25 00:46:48,706] - obspy.clients.fdsn.mass_downloader - INFO: Client 'GEONET' - Downloaded 0.0 MB [3.19 KB/sec] of data, 0.0 MB of which were discarded afterwards.\n",
      "[2021-11-25 00:46:48,713] - obspy.clients.fdsn.mass_downloader - INFO: Client 'GEONET' - Status for 1 time intervals/channels after downloading: DOWNLOADED\n",
      "[2021-11-25 00:46:48,718] - obspy.clients.fdsn.mass_downloader - INFO: Client 'GEONET' - No station information to download.\n",
      "[2021-11-25 00:46:48,720] - obspy.clients.fdsn.mass_downloader - INFO: ============================== Final report\n",
      "[2021-11-25 00:46:48,721] - obspy.clients.fdsn.mass_downloader - INFO: 0 MiniSEED files [0.0 MB] already existed.\n",
      "[2021-11-25 00:46:48,724] - obspy.clients.fdsn.mass_downloader - INFO: 1 StationXML files [0.0 MB] already existed.\n",
      "[2021-11-25 00:46:48,725] - obspy.clients.fdsn.mass_downloader - INFO: Client 'GEONET' - Acquired 1 MiniSEED files [0.0 MB].\n",
      "[2021-11-25 00:46:48,726] - obspy.clients.fdsn.mass_downloader - INFO: Client 'GEONET' - Acquired 0 StationXML files [0.0 MB].\n",
      "[2021-11-25 00:46:48,727] - obspy.clients.fdsn.mass_downloader - INFO: Downloaded 0.0 MB in total.\n",
      "[2021-11-25 00:46:48,731] - obspy.clients.fdsn.mass_downloader - INFO: Initializing FDSN client(s) for GEONET.\n",
      "[2021-11-25 00:46:48,746] - obspy.clients.fdsn.mass_downloader - INFO: Successfully initialized 1 client(s): GEONET.\n",
      "[2021-11-25 00:46:48,751] - obspy.clients.fdsn.mass_downloader - INFO: Total acquired or preexisting stations: 0\n",
      "[2021-11-25 00:46:48,753] - obspy.clients.fdsn.mass_downloader - INFO: Client 'GEONET' - Requesting unreliable availability.\n"
     ]
    },
    {
     "name": "stdout",
     "output_type": "stream",
     "text": [
      "=================================================================\n",
      "Initiating mass download request.\n"
     ]
    },
    {
     "name": "stderr",
     "output_type": "stream",
     "text": [
      "[2021-11-25 00:46:49,381] - obspy.clients.fdsn.mass_downloader - INFO: Client 'GEONET' - Successfully requested availability (0.63 seconds)\n",
      "[2021-11-25 00:46:49,384] - obspy.clients.fdsn.mass_downloader - INFO: Client 'GEONET' - Found 1 stations (1 channels).\n",
      "[2021-11-25 00:46:49,389] - obspy.clients.fdsn.mass_downloader - INFO: Client 'GEONET' - Will attempt to download data from 1 stations.\n",
      "[2021-11-25 00:46:49,390] - obspy.clients.fdsn.mass_downloader - INFO: Client 'GEONET' - Status for 1 time intervals/channels before downloading: NEEDS_DOWNLOADING\n",
      "[2021-11-25 00:46:50,445] - obspy.clients.fdsn.mass_downloader - INFO: Client 'GEONET' - Successfully downloaded 1 channels (of 1)\n",
      "[2021-11-25 00:46:50,460] - obspy.clients.fdsn.mass_downloader - INFO: Client 'GEONET' - Launching basic QC checks...\n",
      "[2021-11-25 00:46:50,477] - obspy.clients.fdsn.mass_downloader - INFO: Client 'GEONET' - Downloaded 0.0 MB [3.76 KB/sec] of data, 0.0 MB of which were discarded afterwards.\n",
      "[2021-11-25 00:46:50,479] - obspy.clients.fdsn.mass_downloader - INFO: Client 'GEONET' - Status for 1 time intervals/channels after downloading: DOWNLOADED\n",
      "[2021-11-25 00:46:50,486] - obspy.clients.fdsn.mass_downloader - INFO: Client 'GEONET' - No station information to download.\n",
      "[2021-11-25 00:46:50,487] - obspy.clients.fdsn.mass_downloader - INFO: ============================== Final report\n",
      "[2021-11-25 00:46:50,488] - obspy.clients.fdsn.mass_downloader - INFO: 0 MiniSEED files [0.0 MB] already existed.\n",
      "[2021-11-25 00:46:50,488] - obspy.clients.fdsn.mass_downloader - INFO: 1 StationXML files [0.0 MB] already existed.\n",
      "[2021-11-25 00:46:50,488] - obspy.clients.fdsn.mass_downloader - INFO: Client 'GEONET' - Acquired 1 MiniSEED files [0.0 MB].\n",
      "[2021-11-25 00:46:50,489] - obspy.clients.fdsn.mass_downloader - INFO: Client 'GEONET' - Acquired 0 StationXML files [0.0 MB].\n",
      "[2021-11-25 00:46:50,489] - obspy.clients.fdsn.mass_downloader - INFO: Downloaded 0.0 MB in total.\n",
      "[2021-11-25 00:46:50,497] - obspy.clients.fdsn.mass_downloader - INFO: Initializing FDSN client(s) for GEONET.\n",
      "[2021-11-25 00:46:50,504] - obspy.clients.fdsn.mass_downloader - INFO: Successfully initialized 1 client(s): GEONET.\n",
      "[2021-11-25 00:46:50,505] - obspy.clients.fdsn.mass_downloader - INFO: Total acquired or preexisting stations: 0\n",
      "[2021-11-25 00:46:50,505] - obspy.clients.fdsn.mass_downloader - INFO: Client 'GEONET' - Requesting unreliable availability.\n"
     ]
    },
    {
     "name": "stdout",
     "output_type": "stream",
     "text": [
      "=================================================================\n",
      "Initiating mass download request.\n"
     ]
    },
    {
     "name": "stderr",
     "output_type": "stream",
     "text": [
      "[2021-11-25 00:46:51,076] - obspy.clients.fdsn.mass_downloader - INFO: Client 'GEONET' - Successfully requested availability (0.57 seconds)\n",
      "[2021-11-25 00:46:51,078] - obspy.clients.fdsn.mass_downloader - INFO: Client 'GEONET' - Found 1 stations (1 channels).\n",
      "[2021-11-25 00:46:51,078] - obspy.clients.fdsn.mass_downloader - INFO: Client 'GEONET' - Will attempt to download data from 1 stations.\n",
      "[2021-11-25 00:46:51,078] - obspy.clients.fdsn.mass_downloader - INFO: Client 'GEONET' - Status for 1 time intervals/channels before downloading: NEEDS_DOWNLOADING\n",
      "[2021-11-25 00:46:52,210] - obspy.clients.fdsn.mass_downloader - INFO: Client 'GEONET' - Successfully downloaded 1 channels (of 1)\n",
      "[2021-11-25 00:46:52,218] - obspy.clients.fdsn.mass_downloader - INFO: Client 'GEONET' - Launching basic QC checks...\n",
      "[2021-11-25 00:46:52,225] - obspy.clients.fdsn.mass_downloader - INFO: Client 'GEONET' - Downloaded 0.0 MB [3.95 KB/sec] of data, 0.0 MB of which were discarded afterwards.\n",
      "[2021-11-25 00:46:52,226] - obspy.clients.fdsn.mass_downloader - INFO: Client 'GEONET' - Status for 1 time intervals/channels after downloading: DOWNLOADED\n",
      "[2021-11-25 00:46:52,235] - obspy.clients.fdsn.mass_downloader - INFO: Client 'GEONET' - No station information to download.\n",
      "[2021-11-25 00:46:52,237] - obspy.clients.fdsn.mass_downloader - INFO: ============================== Final report\n",
      "[2021-11-25 00:46:52,237] - obspy.clients.fdsn.mass_downloader - INFO: 0 MiniSEED files [0.0 MB] already existed.\n",
      "[2021-11-25 00:46:52,237] - obspy.clients.fdsn.mass_downloader - INFO: 1 StationXML files [0.0 MB] already existed.\n",
      "[2021-11-25 00:46:52,238] - obspy.clients.fdsn.mass_downloader - INFO: Client 'GEONET' - Acquired 1 MiniSEED files [0.0 MB].\n",
      "[2021-11-25 00:46:52,238] - obspy.clients.fdsn.mass_downloader - INFO: Client 'GEONET' - Acquired 0 StationXML files [0.0 MB].\n",
      "[2021-11-25 00:46:52,239] - obspy.clients.fdsn.mass_downloader - INFO: Downloaded 0.0 MB in total.\n",
      "[2021-11-25 00:46:52,246] - obspy.clients.fdsn.mass_downloader - INFO: Initializing FDSN client(s) for GEONET.\n",
      "[2021-11-25 00:46:52,251] - obspy.clients.fdsn.mass_downloader - INFO: Successfully initialized 1 client(s): GEONET.\n",
      "[2021-11-25 00:46:52,251] - obspy.clients.fdsn.mass_downloader - INFO: Total acquired or preexisting stations: 0\n",
      "[2021-11-25 00:46:52,252] - obspy.clients.fdsn.mass_downloader - INFO: Client 'GEONET' - Requesting unreliable availability.\n"
     ]
    },
    {
     "name": "stdout",
     "output_type": "stream",
     "text": [
      "=================================================================\n",
      "Initiating mass download request.\n"
     ]
    },
    {
     "name": "stderr",
     "output_type": "stream",
     "text": [
      "[2021-11-25 00:46:52,826] - obspy.clients.fdsn.mass_downloader - INFO: Client 'GEONET' - Successfully requested availability (0.57 seconds)\n",
      "[2021-11-25 00:46:52,827] - obspy.clients.fdsn.mass_downloader - INFO: Client 'GEONET' - Found 1 stations (1 channels).\n",
      "[2021-11-25 00:46:52,828] - obspy.clients.fdsn.mass_downloader - INFO: Client 'GEONET' - Will attempt to download data from 1 stations.\n",
      "[2021-11-25 00:46:52,828] - obspy.clients.fdsn.mass_downloader - INFO: Client 'GEONET' - Status for 1 time intervals/channels before downloading: NEEDS_DOWNLOADING\n",
      "[2021-11-25 00:46:53,754] - obspy.clients.fdsn.mass_downloader - INFO: Client 'GEONET' - Successfully downloaded 1 channels (of 1)\n",
      "[2021-11-25 00:46:53,763] - obspy.clients.fdsn.mass_downloader - INFO: Client 'GEONET' - Launching basic QC checks...\n",
      "[2021-11-25 00:46:53,771] - obspy.clients.fdsn.mass_downloader - INFO: Client 'GEONET' - Downloaded 0.0 MB [3.21 KB/sec] of data, 0.0 MB of which were discarded afterwards.\n",
      "[2021-11-25 00:46:53,772] - obspy.clients.fdsn.mass_downloader - INFO: Client 'GEONET' - Status for 1 time intervals/channels after downloading: DOWNLOADED\n",
      "[2021-11-25 00:46:53,774] - obspy.clients.fdsn.mass_downloader - INFO: Client 'GEONET' - No station information to download.\n",
      "[2021-11-25 00:46:53,775] - obspy.clients.fdsn.mass_downloader - INFO: ============================== Final report\n",
      "[2021-11-25 00:46:53,775] - obspy.clients.fdsn.mass_downloader - INFO: 0 MiniSEED files [0.0 MB] already existed.\n",
      "[2021-11-25 00:46:53,775] - obspy.clients.fdsn.mass_downloader - INFO: 1 StationXML files [0.0 MB] already existed.\n",
      "[2021-11-25 00:46:53,776] - obspy.clients.fdsn.mass_downloader - INFO: Client 'GEONET' - Acquired 1 MiniSEED files [0.0 MB].\n",
      "[2021-11-25 00:46:53,776] - obspy.clients.fdsn.mass_downloader - INFO: Client 'GEONET' - Acquired 0 StationXML files [0.0 MB].\n",
      "[2021-11-25 00:46:53,776] - obspy.clients.fdsn.mass_downloader - INFO: Downloaded 0.0 MB in total.\n",
      "[2021-11-25 00:46:53,784] - obspy.clients.fdsn.mass_downloader - INFO: Initializing FDSN client(s) for GEONET.\n",
      "[2021-11-25 00:46:53,788] - obspy.clients.fdsn.mass_downloader - INFO: Successfully initialized 1 client(s): GEONET.\n",
      "[2021-11-25 00:46:53,789] - obspy.clients.fdsn.mass_downloader - INFO: Total acquired or preexisting stations: 0\n",
      "[2021-11-25 00:46:53,789] - obspy.clients.fdsn.mass_downloader - INFO: Client 'GEONET' - Requesting unreliable availability.\n"
     ]
    },
    {
     "name": "stdout",
     "output_type": "stream",
     "text": [
      "=================================================================\n",
      "Initiating mass download request.\n"
     ]
    },
    {
     "name": "stderr",
     "output_type": "stream",
     "text": [
      "[2021-11-25 00:46:54,301] - obspy.clients.fdsn.mass_downloader - INFO: Client 'GEONET' - Successfully requested availability (0.51 seconds)\n",
      "[2021-11-25 00:46:54,303] - obspy.clients.fdsn.mass_downloader - INFO: Client 'GEONET' - Found 1 stations (1 channels).\n",
      "[2021-11-25 00:46:54,306] - obspy.clients.fdsn.mass_downloader - INFO: Client 'GEONET' - Will attempt to download data from 1 stations.\n",
      "[2021-11-25 00:46:54,309] - obspy.clients.fdsn.mass_downloader - INFO: Client 'GEONET' - Status for 1 time intervals/channels before downloading: NEEDS_DOWNLOADING\n",
      "[2021-11-25 00:46:54,968] - obspy.clients.fdsn.mass_downloader - INFO: Client 'GEONET' - No data available for request.\n",
      "[2021-11-25 00:46:54,970] - obspy.clients.fdsn.mass_downloader - INFO: Client 'GEONET' - Launching basic QC checks...\n",
      "[2021-11-25 00:46:54,971] - obspy.clients.fdsn.mass_downloader - INFO: Client 'GEONET' - Downloaded 0.0 MB [0.00 KB/sec] of data, 0.0 MB of which were discarded afterwards.\n",
      "[2021-11-25 00:46:54,972] - obspy.clients.fdsn.mass_downloader - INFO: Client 'GEONET' - Status for 1 time intervals/channels after downloading: DOWNLOAD_FAILED\n",
      "[2021-11-25 00:46:54,974] - obspy.clients.fdsn.mass_downloader - INFO: Client 'GEONET' - No station information to download.\n",
      "[2021-11-25 00:46:54,975] - obspy.clients.fdsn.mass_downloader - INFO: Client 'GEONET' - No data could be downloaded.\n",
      "[2021-11-25 00:46:54,975] - obspy.clients.fdsn.mass_downloader - INFO: ============================== Final report\n",
      "[2021-11-25 00:46:54,976] - obspy.clients.fdsn.mass_downloader - INFO: 0 MiniSEED files [0.0 MB] already existed.\n",
      "[2021-11-25 00:46:54,977] - obspy.clients.fdsn.mass_downloader - INFO: 0 StationXML files [0.0 MB] already existed.\n",
      "[2021-11-25 00:46:54,978] - obspy.clients.fdsn.mass_downloader - INFO: Client 'GEONET' - Acquired 0 MiniSEED files [0.0 MB].\n",
      "[2021-11-25 00:46:54,979] - obspy.clients.fdsn.mass_downloader - INFO: Client 'GEONET' - Acquired 0 StationXML files [0.0 MB].\n",
      "[2021-11-25 00:46:54,980] - obspy.clients.fdsn.mass_downloader - INFO: Downloaded 0.0 MB in total.\n",
      "[2021-11-25 00:46:54,981] - obspy.clients.fdsn.mass_downloader - INFO: Initializing FDSN client(s) for GEONET.\n",
      "[2021-11-25 00:46:54,987] - obspy.clients.fdsn.mass_downloader - INFO: Successfully initialized 1 client(s): GEONET.\n",
      "[2021-11-25 00:46:54,989] - obspy.clients.fdsn.mass_downloader - INFO: Total acquired or preexisting stations: 0\n",
      "[2021-11-25 00:46:54,990] - obspy.clients.fdsn.mass_downloader - INFO: Client 'GEONET' - Requesting unreliable availability.\n"
     ]
    },
    {
     "name": "stdout",
     "output_type": "stream",
     "text": [
      "=================================================================\n",
      "Initiating mass download request.\n"
     ]
    },
    {
     "name": "stderr",
     "output_type": "stream",
     "text": [
      "[2021-11-25 00:46:55,569] - obspy.clients.fdsn.mass_downloader - INFO: Client 'GEONET' - Successfully requested availability (0.58 seconds)\n",
      "[2021-11-25 00:46:55,574] - obspy.clients.fdsn.mass_downloader - INFO: Client 'GEONET' - Found 1 stations (1 channels).\n",
      "[2021-11-25 00:46:55,574] - obspy.clients.fdsn.mass_downloader - INFO: Client 'GEONET' - Will attempt to download data from 1 stations.\n",
      "[2021-11-25 00:46:55,575] - obspy.clients.fdsn.mass_downloader - INFO: Client 'GEONET' - Status for 1 time intervals/channels before downloading: NEEDS_DOWNLOADING\n",
      "[2021-11-25 00:46:56,961] - obspy.clients.fdsn.mass_downloader - INFO: Client 'GEONET' - Successfully downloaded 1 channels (of 1)\n",
      "[2021-11-25 00:46:56,969] - obspy.clients.fdsn.mass_downloader - INFO: Client 'GEONET' - Launching basic QC checks...\n",
      "[2021-11-25 00:46:57,005] - obspy.clients.fdsn.mass_downloader - INFO: Client 'GEONET' - Downloaded 0.0 MB [2.16 KB/sec] of data, 0.0 MB of which were discarded afterwards.\n",
      "[2021-11-25 00:46:57,012] - obspy.clients.fdsn.mass_downloader - INFO: Client 'GEONET' - Status for 1 time intervals/channels after downloading: DOWNLOADED\n",
      "[2021-11-25 00:46:57,021] - obspy.clients.fdsn.mass_downloader - INFO: Client 'GEONET' - No station information to download.\n",
      "[2021-11-25 00:46:57,038] - obspy.clients.fdsn.mass_downloader - INFO: ============================== Final report\n",
      "[2021-11-25 00:46:57,044] - obspy.clients.fdsn.mass_downloader - INFO: 0 MiniSEED files [0.0 MB] already existed.\n",
      "[2021-11-25 00:46:57,044] - obspy.clients.fdsn.mass_downloader - INFO: 1 StationXML files [0.0 MB] already existed.\n",
      "[2021-11-25 00:46:57,048] - obspy.clients.fdsn.mass_downloader - INFO: Client 'GEONET' - Acquired 1 MiniSEED files [0.0 MB].\n",
      "[2021-11-25 00:46:57,049] - obspy.clients.fdsn.mass_downloader - INFO: Client 'GEONET' - Acquired 0 StationXML files [0.0 MB].\n",
      "[2021-11-25 00:46:57,054] - obspy.clients.fdsn.mass_downloader - INFO: Downloaded 0.0 MB in total.\n",
      "[2021-11-25 00:46:57,071] - obspy.clients.fdsn.mass_downloader - INFO: Initializing FDSN client(s) for GEONET.\n",
      "[2021-11-25 00:46:57,077] - obspy.clients.fdsn.mass_downloader - INFO: Successfully initialized 1 client(s): GEONET.\n",
      "[2021-11-25 00:46:57,079] - obspy.clients.fdsn.mass_downloader - INFO: Total acquired or preexisting stations: 0\n",
      "[2021-11-25 00:46:57,080] - obspy.clients.fdsn.mass_downloader - INFO: Client 'GEONET' - Requesting unreliable availability.\n"
     ]
    },
    {
     "name": "stdout",
     "output_type": "stream",
     "text": [
      "=================================================================\n",
      "Initiating mass download request.\n"
     ]
    },
    {
     "name": "stderr",
     "output_type": "stream",
     "text": [
      "[2021-11-25 00:46:57,680] - obspy.clients.fdsn.mass_downloader - INFO: Client 'GEONET' - Successfully requested availability (0.60 seconds)\n",
      "[2021-11-25 00:46:57,681] - obspy.clients.fdsn.mass_downloader - INFO: Client 'GEONET' - Found 1 stations (1 channels).\n",
      "[2021-11-25 00:46:57,682] - obspy.clients.fdsn.mass_downloader - INFO: Client 'GEONET' - Will attempt to download data from 1 stations.\n",
      "[2021-11-25 00:46:57,682] - obspy.clients.fdsn.mass_downloader - INFO: Client 'GEONET' - Status for 1 time intervals/channels before downloading: NEEDS_DOWNLOADING\n",
      "[2021-11-25 00:46:58,942] - obspy.clients.fdsn.mass_downloader - INFO: Client 'GEONET' - Successfully downloaded 1 channels (of 1)\n",
      "[2021-11-25 00:46:59,026] - obspy.clients.fdsn.mass_downloader - INFO: Client 'GEONET' - Launching basic QC checks...\n",
      "[2021-11-25 00:46:59,070] - obspy.clients.fdsn.mass_downloader - INFO: Client 'GEONET' - Downloaded 0.0 MB [2.98 KB/sec] of data, 0.0 MB of which were discarded afterwards.\n",
      "[2021-11-25 00:46:59,072] - obspy.clients.fdsn.mass_downloader - INFO: Client 'GEONET' - Status for 1 time intervals/channels after downloading: DOWNLOADED\n",
      "[2021-11-25 00:46:59,080] - obspy.clients.fdsn.mass_downloader - INFO: Client 'GEONET' - No station information to download.\n",
      "[2021-11-25 00:46:59,087] - obspy.clients.fdsn.mass_downloader - INFO: ============================== Final report\n",
      "[2021-11-25 00:46:59,090] - obspy.clients.fdsn.mass_downloader - INFO: 0 MiniSEED files [0.0 MB] already existed.\n",
      "[2021-11-25 00:46:59,092] - obspy.clients.fdsn.mass_downloader - INFO: 1 StationXML files [0.0 MB] already existed.\n",
      "[2021-11-25 00:46:59,093] - obspy.clients.fdsn.mass_downloader - INFO: Client 'GEONET' - Acquired 1 MiniSEED files [0.0 MB].\n",
      "[2021-11-25 00:46:59,093] - obspy.clients.fdsn.mass_downloader - INFO: Client 'GEONET' - Acquired 0 StationXML files [0.0 MB].\n",
      "[2021-11-25 00:46:59,093] - obspy.clients.fdsn.mass_downloader - INFO: Downloaded 0.0 MB in total.\n",
      "[2021-11-25 00:46:59,108] - obspy.clients.fdsn.mass_downloader - INFO: Initializing FDSN client(s) for GEONET.\n",
      "[2021-11-25 00:46:59,163] - obspy.clients.fdsn.mass_downloader - INFO: Successfully initialized 1 client(s): GEONET.\n",
      "[2021-11-25 00:46:59,168] - obspy.clients.fdsn.mass_downloader - INFO: Total acquired or preexisting stations: 0\n",
      "[2021-11-25 00:46:59,176] - obspy.clients.fdsn.mass_downloader - INFO: Client 'GEONET' - Requesting unreliable availability.\n"
     ]
    },
    {
     "name": "stdout",
     "output_type": "stream",
     "text": [
      "=================================================================\n",
      "Initiating mass download request.\n"
     ]
    },
    {
     "name": "stderr",
     "output_type": "stream",
     "text": [
      "[2021-11-25 00:46:59,780] - obspy.clients.fdsn.mass_downloader - INFO: Client 'GEONET' - Successfully requested availability (0.60 seconds)\n",
      "[2021-11-25 00:46:59,784] - obspy.clients.fdsn.mass_downloader - INFO: Client 'GEONET' - Found 1 stations (1 channels).\n",
      "[2021-11-25 00:46:59,785] - obspy.clients.fdsn.mass_downloader - INFO: Client 'GEONET' - Will attempt to download data from 1 stations.\n",
      "[2021-11-25 00:46:59,788] - obspy.clients.fdsn.mass_downloader - INFO: Client 'GEONET' - Status for 1 time intervals/channels before downloading: NEEDS_DOWNLOADING\n",
      "[2021-11-25 00:47:00,676] - obspy.clients.fdsn.mass_downloader - INFO: Client 'GEONET' - Successfully downloaded 1 channels (of 1)\n",
      "[2021-11-25 00:47:00,680] - obspy.clients.fdsn.mass_downloader - INFO: Client 'GEONET' - Launching basic QC checks...\n",
      "[2021-11-25 00:47:00,689] - obspy.clients.fdsn.mass_downloader - INFO: Client 'GEONET' - Downloaded 0.0 MB [3.41 KB/sec] of data, 0.0 MB of which were discarded afterwards.\n",
      "[2021-11-25 00:47:00,689] - obspy.clients.fdsn.mass_downloader - INFO: Client 'GEONET' - Status for 1 time intervals/channels after downloading: DOWNLOADED\n",
      "[2021-11-25 00:47:00,692] - obspy.clients.fdsn.mass_downloader - INFO: Client 'GEONET' - No station information to download.\n",
      "[2021-11-25 00:47:00,693] - obspy.clients.fdsn.mass_downloader - INFO: ============================== Final report\n",
      "[2021-11-25 00:47:00,693] - obspy.clients.fdsn.mass_downloader - INFO: 0 MiniSEED files [0.0 MB] already existed.\n",
      "[2021-11-25 00:47:00,694] - obspy.clients.fdsn.mass_downloader - INFO: 1 StationXML files [0.0 MB] already existed.\n",
      "[2021-11-25 00:47:00,694] - obspy.clients.fdsn.mass_downloader - INFO: Client 'GEONET' - Acquired 1 MiniSEED files [0.0 MB].\n",
      "[2021-11-25 00:47:00,694] - obspy.clients.fdsn.mass_downloader - INFO: Client 'GEONET' - Acquired 0 StationXML files [0.0 MB].\n",
      "[2021-11-25 00:47:00,695] - obspy.clients.fdsn.mass_downloader - INFO: Downloaded 0.0 MB in total.\n",
      "[2021-11-25 00:47:00,699] - obspy.clients.fdsn.mass_downloader - INFO: Initializing FDSN client(s) for GEONET.\n",
      "[2021-11-25 00:47:00,702] - obspy.clients.fdsn.mass_downloader - INFO: Successfully initialized 1 client(s): GEONET.\n",
      "[2021-11-25 00:47:00,703] - obspy.clients.fdsn.mass_downloader - INFO: Total acquired or preexisting stations: 0\n",
      "[2021-11-25 00:47:00,704] - obspy.clients.fdsn.mass_downloader - INFO: Client 'GEONET' - Requesting unreliable availability.\n"
     ]
    },
    {
     "name": "stdout",
     "output_type": "stream",
     "text": [
      "=================================================================\n",
      "Initiating mass download request.\n"
     ]
    },
    {
     "name": "stderr",
     "output_type": "stream",
     "text": [
      "[2021-11-25 00:47:01,245] - obspy.clients.fdsn.mass_downloader - INFO: Client 'GEONET' - Successfully requested availability (0.54 seconds)\n",
      "[2021-11-25 00:47:01,246] - obspy.clients.fdsn.mass_downloader - INFO: Client 'GEONET' - Found 1 stations (1 channels).\n",
      "[2021-11-25 00:47:01,246] - obspy.clients.fdsn.mass_downloader - INFO: Client 'GEONET' - Will attempt to download data from 1 stations.\n",
      "[2021-11-25 00:47:01,247] - obspy.clients.fdsn.mass_downloader - INFO: Client 'GEONET' - Status for 1 time intervals/channels before downloading: NEEDS_DOWNLOADING\n",
      "[2021-11-25 00:47:02,203] - obspy.clients.fdsn.mass_downloader - INFO: Client 'GEONET' - Successfully downloaded 1 channels (of 1)\n",
      "[2021-11-25 00:47:02,223] - obspy.clients.fdsn.mass_downloader - INFO: Client 'GEONET' - Launching basic QC checks...\n",
      "[2021-11-25 00:47:02,237] - obspy.clients.fdsn.mass_downloader - INFO: Client 'GEONET' - Downloaded 0.0 MB [3.59 KB/sec] of data, 0.0 MB of which were discarded afterwards.\n",
      "[2021-11-25 00:47:02,238] - obspy.clients.fdsn.mass_downloader - INFO: Client 'GEONET' - Status for 1 time intervals/channels after downloading: DOWNLOADED\n",
      "[2021-11-25 00:47:02,246] - obspy.clients.fdsn.mass_downloader - INFO: Client 'GEONET' - No station information to download.\n",
      "[2021-11-25 00:47:02,248] - obspy.clients.fdsn.mass_downloader - INFO: ============================== Final report\n",
      "[2021-11-25 00:47:02,249] - obspy.clients.fdsn.mass_downloader - INFO: 0 MiniSEED files [0.0 MB] already existed.\n",
      "[2021-11-25 00:47:02,250] - obspy.clients.fdsn.mass_downloader - INFO: 1 StationXML files [0.0 MB] already existed.\n",
      "[2021-11-25 00:47:02,251] - obspy.clients.fdsn.mass_downloader - INFO: Client 'GEONET' - Acquired 1 MiniSEED files [0.0 MB].\n",
      "[2021-11-25 00:47:02,251] - obspy.clients.fdsn.mass_downloader - INFO: Client 'GEONET' - Acquired 0 StationXML files [0.0 MB].\n",
      "[2021-11-25 00:47:02,252] - obspy.clients.fdsn.mass_downloader - INFO: Downloaded 0.0 MB in total.\n",
      "[2021-11-25 00:47:02,258] - obspy.clients.fdsn.mass_downloader - INFO: Initializing FDSN client(s) for GEONET.\n",
      "[2021-11-25 00:47:02,276] - obspy.clients.fdsn.mass_downloader - INFO: Successfully initialized 1 client(s): GEONET.\n",
      "[2021-11-25 00:47:02,282] - obspy.clients.fdsn.mass_downloader - INFO: Total acquired or preexisting stations: 0\n",
      "[2021-11-25 00:47:02,288] - obspy.clients.fdsn.mass_downloader - INFO: Client 'GEONET' - Requesting unreliable availability.\n"
     ]
    },
    {
     "name": "stdout",
     "output_type": "stream",
     "text": [
      "=================================================================\n",
      "Initiating mass download request.\n"
     ]
    },
    {
     "name": "stderr",
     "output_type": "stream",
     "text": [
      "[2021-11-25 00:47:02,941] - obspy.clients.fdsn.mass_downloader - INFO: Client 'GEONET' - Successfully requested availability (0.65 seconds)\n",
      "[2021-11-25 00:47:02,944] - obspy.clients.fdsn.mass_downloader - INFO: Client 'GEONET' - Found 1 stations (1 channels).\n",
      "[2021-11-25 00:47:02,944] - obspy.clients.fdsn.mass_downloader - INFO: Client 'GEONET' - Will attempt to download data from 1 stations.\n",
      "[2021-11-25 00:47:02,945] - obspy.clients.fdsn.mass_downloader - INFO: Client 'GEONET' - Status for 1 time intervals/channels before downloading: NEEDS_DOWNLOADING\n",
      "[2021-11-25 00:47:03,854] - obspy.clients.fdsn.mass_downloader - INFO: Client 'GEONET' - Successfully downloaded 1 channels (of 1)\n",
      "[2021-11-25 00:47:03,866] - obspy.clients.fdsn.mass_downloader - INFO: Client 'GEONET' - Launching basic QC checks...\n",
      "[2021-11-25 00:47:03,894] - obspy.clients.fdsn.mass_downloader - INFO: Client 'GEONET' - Downloaded 0.0 MB [3.27 KB/sec] of data, 0.0 MB of which were discarded afterwards.\n",
      "[2021-11-25 00:47:03,895] - obspy.clients.fdsn.mass_downloader - INFO: Client 'GEONET' - Status for 1 time intervals/channels after downloading: DOWNLOADED\n",
      "[2021-11-25 00:47:03,902] - obspy.clients.fdsn.mass_downloader - INFO: Client 'GEONET' - No station information to download.\n",
      "[2021-11-25 00:47:03,905] - obspy.clients.fdsn.mass_downloader - INFO: ============================== Final report\n",
      "[2021-11-25 00:47:03,906] - obspy.clients.fdsn.mass_downloader - INFO: 0 MiniSEED files [0.0 MB] already existed.\n",
      "[2021-11-25 00:47:03,907] - obspy.clients.fdsn.mass_downloader - INFO: 1 StationXML files [0.0 MB] already existed.\n",
      "[2021-11-25 00:47:03,907] - obspy.clients.fdsn.mass_downloader - INFO: Client 'GEONET' - Acquired 1 MiniSEED files [0.0 MB].\n",
      "[2021-11-25 00:47:03,908] - obspy.clients.fdsn.mass_downloader - INFO: Client 'GEONET' - Acquired 0 StationXML files [0.0 MB].\n",
      "[2021-11-25 00:47:03,909] - obspy.clients.fdsn.mass_downloader - INFO: Downloaded 0.0 MB in total.\n",
      "[2021-11-25 00:47:03,913] - obspy.clients.fdsn.mass_downloader - INFO: Initializing FDSN client(s) for GEONET.\n",
      "[2021-11-25 00:47:03,918] - obspy.clients.fdsn.mass_downloader - INFO: Successfully initialized 1 client(s): GEONET.\n",
      "[2021-11-25 00:47:03,923] - obspy.clients.fdsn.mass_downloader - INFO: Total acquired or preexisting stations: 0\n",
      "[2021-11-25 00:47:03,925] - obspy.clients.fdsn.mass_downloader - INFO: Client 'GEONET' - Requesting unreliable availability.\n"
     ]
    },
    {
     "name": "stdout",
     "output_type": "stream",
     "text": [
      "=================================================================\n",
      "Initiating mass download request.\n"
     ]
    },
    {
     "name": "stderr",
     "output_type": "stream",
     "text": [
      "[2021-11-25 00:47:04,519] - obspy.clients.fdsn.mass_downloader - INFO: Client 'GEONET' - Successfully requested availability (0.59 seconds)\n",
      "[2021-11-25 00:47:04,521] - obspy.clients.fdsn.mass_downloader - INFO: Client 'GEONET' - Found 1 stations (1 channels).\n",
      "[2021-11-25 00:47:04,522] - obspy.clients.fdsn.mass_downloader - INFO: Client 'GEONET' - Will attempt to download data from 1 stations.\n",
      "[2021-11-25 00:47:04,523] - obspy.clients.fdsn.mass_downloader - INFO: Client 'GEONET' - Status for 1 time intervals/channels before downloading: NEEDS_DOWNLOADING\n",
      "[2021-11-25 00:47:06,399] - obspy.clients.fdsn.mass_downloader - INFO: Client 'GEONET' - Successfully downloaded 1 channels (of 1)\n",
      "[2021-11-25 00:47:06,401] - obspy.clients.fdsn.mass_downloader - INFO: Client 'GEONET' - Launching basic QC checks...\n",
      "[2021-11-25 00:47:06,408] - obspy.clients.fdsn.mass_downloader - INFO: Client 'GEONET' - Downloaded 0.0 MB [2.13 KB/sec] of data, 0.0 MB of which were discarded afterwards.\n",
      "[2021-11-25 00:47:06,409] - obspy.clients.fdsn.mass_downloader - INFO: Client 'GEONET' - Status for 1 time intervals/channels after downloading: DOWNLOADED\n",
      "[2021-11-25 00:47:06,412] - obspy.clients.fdsn.mass_downloader - INFO: Client 'GEONET' - No station information to download.\n",
      "[2021-11-25 00:47:06,413] - obspy.clients.fdsn.mass_downloader - INFO: ============================== Final report\n",
      "[2021-11-25 00:47:06,414] - obspy.clients.fdsn.mass_downloader - INFO: 0 MiniSEED files [0.0 MB] already existed.\n",
      "[2021-11-25 00:47:06,415] - obspy.clients.fdsn.mass_downloader - INFO: 1 StationXML files [0.0 MB] already existed.\n",
      "[2021-11-25 00:47:06,416] - obspy.clients.fdsn.mass_downloader - INFO: Client 'GEONET' - Acquired 1 MiniSEED files [0.0 MB].\n",
      "[2021-11-25 00:47:06,416] - obspy.clients.fdsn.mass_downloader - INFO: Client 'GEONET' - Acquired 0 StationXML files [0.0 MB].\n",
      "[2021-11-25 00:47:06,419] - obspy.clients.fdsn.mass_downloader - INFO: Downloaded 0.0 MB in total.\n",
      "[2021-11-25 00:47:06,422] - obspy.clients.fdsn.mass_downloader - INFO: Initializing FDSN client(s) for GEONET.\n",
      "[2021-11-25 00:47:06,431] - obspy.clients.fdsn.mass_downloader - INFO: Successfully initialized 1 client(s): GEONET.\n",
      "[2021-11-25 00:47:06,433] - obspy.clients.fdsn.mass_downloader - INFO: Total acquired or preexisting stations: 0\n",
      "[2021-11-25 00:47:06,434] - obspy.clients.fdsn.mass_downloader - INFO: Client 'GEONET' - Requesting unreliable availability.\n"
     ]
    },
    {
     "name": "stdout",
     "output_type": "stream",
     "text": [
      "=================================================================\n",
      "Initiating mass download request.\n"
     ]
    },
    {
     "name": "stderr",
     "output_type": "stream",
     "text": [
      "[2021-11-25 00:47:07,083] - obspy.clients.fdsn.mass_downloader - INFO: Client 'GEONET' - Successfully requested availability (0.65 seconds)\n",
      "[2021-11-25 00:47:07,084] - obspy.clients.fdsn.mass_downloader - INFO: Client 'GEONET' - Found 1 stations (1 channels).\n",
      "[2021-11-25 00:47:07,084] - obspy.clients.fdsn.mass_downloader - INFO: Client 'GEONET' - Will attempt to download data from 1 stations.\n",
      "[2021-11-25 00:47:07,085] - obspy.clients.fdsn.mass_downloader - INFO: Client 'GEONET' - Status for 1 time intervals/channels before downloading: NEEDS_DOWNLOADING\n",
      "[2021-11-25 00:47:08,109] - obspy.clients.fdsn.mass_downloader - INFO: Client 'GEONET' - Successfully downloaded 1 channels (of 1)\n",
      "[2021-11-25 00:47:08,115] - obspy.clients.fdsn.mass_downloader - INFO: Client 'GEONET' - Launching basic QC checks...\n",
      "[2021-11-25 00:47:08,135] - obspy.clients.fdsn.mass_downloader - INFO: Client 'GEONET' - Downloaded 0.0 MB [3.40 KB/sec] of data, 0.0 MB of which were discarded afterwards.\n",
      "[2021-11-25 00:47:08,136] - obspy.clients.fdsn.mass_downloader - INFO: Client 'GEONET' - Status for 1 time intervals/channels after downloading: DOWNLOADED\n",
      "[2021-11-25 00:47:08,143] - obspy.clients.fdsn.mass_downloader - INFO: Client 'GEONET' - No station information to download.\n",
      "[2021-11-25 00:47:08,144] - obspy.clients.fdsn.mass_downloader - INFO: ============================== Final report\n",
      "[2021-11-25 00:47:08,144] - obspy.clients.fdsn.mass_downloader - INFO: 0 MiniSEED files [0.0 MB] already existed.\n",
      "[2021-11-25 00:47:08,145] - obspy.clients.fdsn.mass_downloader - INFO: 1 StationXML files [0.0 MB] already existed.\n",
      "[2021-11-25 00:47:08,145] - obspy.clients.fdsn.mass_downloader - INFO: Client 'GEONET' - Acquired 1 MiniSEED files [0.0 MB].\n",
      "[2021-11-25 00:47:08,145] - obspy.clients.fdsn.mass_downloader - INFO: Client 'GEONET' - Acquired 0 StationXML files [0.0 MB].\n",
      "[2021-11-25 00:47:08,146] - obspy.clients.fdsn.mass_downloader - INFO: Downloaded 0.0 MB in total.\n",
      "[2021-11-25 00:47:08,148] - obspy.clients.fdsn.mass_downloader - INFO: Initializing FDSN client(s) for GEONET.\n",
      "[2021-11-25 00:47:08,156] - obspy.clients.fdsn.mass_downloader - INFO: Successfully initialized 1 client(s): GEONET.\n",
      "[2021-11-25 00:47:08,158] - obspy.clients.fdsn.mass_downloader - INFO: Total acquired or preexisting stations: 0\n",
      "[2021-11-25 00:47:08,158] - obspy.clients.fdsn.mass_downloader - INFO: Client 'GEONET' - Requesting unreliable availability.\n"
     ]
    },
    {
     "name": "stdout",
     "output_type": "stream",
     "text": [
      "=================================================================\n",
      "Initiating mass download request.\n"
     ]
    },
    {
     "name": "stderr",
     "output_type": "stream",
     "text": [
      "[2021-11-25 00:47:08,724] - obspy.clients.fdsn.mass_downloader - INFO: Client 'GEONET' - Successfully requested availability (0.56 seconds)\n",
      "[2021-11-25 00:47:08,725] - obspy.clients.fdsn.mass_downloader - INFO: Client 'GEONET' - Found 1 stations (1 channels).\n",
      "[2021-11-25 00:47:08,725] - obspy.clients.fdsn.mass_downloader - INFO: Client 'GEONET' - Will attempt to download data from 1 stations.\n",
      "[2021-11-25 00:47:08,726] - obspy.clients.fdsn.mass_downloader - INFO: Client 'GEONET' - Status for 1 time intervals/channels before downloading: NEEDS_DOWNLOADING\n",
      "[2021-11-25 00:47:09,680] - obspy.clients.fdsn.mass_downloader - INFO: Client 'GEONET' - Successfully downloaded 1 channels (of 1)\n",
      "[2021-11-25 00:47:09,683] - obspy.clients.fdsn.mass_downloader - INFO: Client 'GEONET' - Launching basic QC checks...\n",
      "[2021-11-25 00:47:09,691] - obspy.clients.fdsn.mass_downloader - INFO: Client 'GEONET' - Downloaded 0.0 MB [3.14 KB/sec] of data, 0.0 MB of which were discarded afterwards.\n",
      "[2021-11-25 00:47:09,692] - obspy.clients.fdsn.mass_downloader - INFO: Client 'GEONET' - Status for 1 time intervals/channels after downloading: DOWNLOADED\n",
      "[2021-11-25 00:47:09,694] - obspy.clients.fdsn.mass_downloader - INFO: Client 'GEONET' - No station information to download.\n",
      "[2021-11-25 00:47:09,694] - obspy.clients.fdsn.mass_downloader - INFO: ============================== Final report\n",
      "[2021-11-25 00:47:09,695] - obspy.clients.fdsn.mass_downloader - INFO: 0 MiniSEED files [0.0 MB] already existed.\n",
      "[2021-11-25 00:47:09,695] - obspy.clients.fdsn.mass_downloader - INFO: 1 StationXML files [0.0 MB] already existed.\n",
      "[2021-11-25 00:47:09,695] - obspy.clients.fdsn.mass_downloader - INFO: Client 'GEONET' - Acquired 1 MiniSEED files [0.0 MB].\n",
      "[2021-11-25 00:47:09,695] - obspy.clients.fdsn.mass_downloader - INFO: Client 'GEONET' - Acquired 0 StationXML files [0.0 MB].\n",
      "[2021-11-25 00:47:09,696] - obspy.clients.fdsn.mass_downloader - INFO: Downloaded 0.0 MB in total.\n",
      "[2021-11-25 00:47:09,698] - obspy.clients.fdsn.mass_downloader - INFO: Initializing FDSN client(s) for GEONET.\n",
      "[2021-11-25 00:47:09,700] - obspy.clients.fdsn.mass_downloader - INFO: Successfully initialized 1 client(s): GEONET.\n",
      "[2021-11-25 00:47:09,701] - obspy.clients.fdsn.mass_downloader - INFO: Total acquired or preexisting stations: 0\n",
      "[2021-11-25 00:47:09,701] - obspy.clients.fdsn.mass_downloader - INFO: Client 'GEONET' - Requesting unreliable availability.\n"
     ]
    },
    {
     "name": "stdout",
     "output_type": "stream",
     "text": [
      "=================================================================\n",
      "Initiating mass download request.\n"
     ]
    },
    {
     "name": "stderr",
     "output_type": "stream",
     "text": [
      "[2021-11-25 00:47:10,268] - obspy.clients.fdsn.mass_downloader - INFO: Client 'GEONET' - Successfully requested availability (0.57 seconds)\n",
      "[2021-11-25 00:47:10,270] - obspy.clients.fdsn.mass_downloader - INFO: Client 'GEONET' - Found 1 stations (1 channels).\n",
      "[2021-11-25 00:47:10,272] - obspy.clients.fdsn.mass_downloader - INFO: Client 'GEONET' - Will attempt to download data from 1 stations.\n",
      "[2021-11-25 00:47:10,273] - obspy.clients.fdsn.mass_downloader - INFO: Client 'GEONET' - Status for 1 time intervals/channels before downloading: NEEDS_DOWNLOADING\n",
      "[2021-11-25 00:47:11,230] - obspy.clients.fdsn.mass_downloader - INFO: Client 'GEONET' - Successfully downloaded 1 channels (of 1)\n",
      "[2021-11-25 00:47:11,235] - obspy.clients.fdsn.mass_downloader - INFO: Client 'GEONET' - Launching basic QC checks...\n",
      "[2021-11-25 00:47:11,243] - obspy.clients.fdsn.mass_downloader - INFO: Client 'GEONET' - Downloaded 0.0 MB [3.13 KB/sec] of data, 0.0 MB of which were discarded afterwards.\n",
      "[2021-11-25 00:47:11,243] - obspy.clients.fdsn.mass_downloader - INFO: Client 'GEONET' - Status for 1 time intervals/channels after downloading: DOWNLOADED\n",
      "[2021-11-25 00:47:11,245] - obspy.clients.fdsn.mass_downloader - INFO: Client 'GEONET' - No station information to download.\n",
      "[2021-11-25 00:47:11,246] - obspy.clients.fdsn.mass_downloader - INFO: ============================== Final report\n",
      "[2021-11-25 00:47:11,246] - obspy.clients.fdsn.mass_downloader - INFO: 0 MiniSEED files [0.0 MB] already existed.\n",
      "[2021-11-25 00:47:11,246] - obspy.clients.fdsn.mass_downloader - INFO: 1 StationXML files [0.0 MB] already existed.\n",
      "[2021-11-25 00:47:11,247] - obspy.clients.fdsn.mass_downloader - INFO: Client 'GEONET' - Acquired 1 MiniSEED files [0.0 MB].\n",
      "[2021-11-25 00:47:11,247] - obspy.clients.fdsn.mass_downloader - INFO: Client 'GEONET' - Acquired 0 StationXML files [0.0 MB].\n",
      "[2021-11-25 00:47:11,247] - obspy.clients.fdsn.mass_downloader - INFO: Downloaded 0.0 MB in total.\n",
      "[2021-11-25 00:47:11,249] - obspy.clients.fdsn.mass_downloader - INFO: Initializing FDSN client(s) for GEONET.\n",
      "[2021-11-25 00:47:11,252] - obspy.clients.fdsn.mass_downloader - INFO: Successfully initialized 1 client(s): GEONET.\n",
      "[2021-11-25 00:47:11,253] - obspy.clients.fdsn.mass_downloader - INFO: Total acquired or preexisting stations: 0\n",
      "[2021-11-25 00:47:11,253] - obspy.clients.fdsn.mass_downloader - INFO: Client 'GEONET' - Requesting unreliable availability.\n"
     ]
    },
    {
     "name": "stdout",
     "output_type": "stream",
     "text": [
      "=================================================================\n",
      "Initiating mass download request.\n"
     ]
    },
    {
     "name": "stderr",
     "output_type": "stream",
     "text": [
      "[2021-11-25 00:47:12,375] - obspy.clients.fdsn.mass_downloader - INFO: Client 'GEONET' - Successfully requested availability (1.12 seconds)\n",
      "[2021-11-25 00:47:12,382] - obspy.clients.fdsn.mass_downloader - INFO: Client 'GEONET' - Found 1 stations (1 channels).\n",
      "[2021-11-25 00:47:12,383] - obspy.clients.fdsn.mass_downloader - INFO: Client 'GEONET' - Will attempt to download data from 1 stations.\n",
      "[2021-11-25 00:47:12,384] - obspy.clients.fdsn.mass_downloader - INFO: Client 'GEONET' - Status for 1 time intervals/channels before downloading: NEEDS_DOWNLOADING\n",
      "[2021-11-25 00:47:13,294] - obspy.clients.fdsn.mass_downloader - INFO: Client 'GEONET' - Successfully downloaded 1 channels (of 1)\n",
      "[2021-11-25 00:47:13,297] - obspy.clients.fdsn.mass_downloader - INFO: Client 'GEONET' - Launching basic QC checks...\n",
      "[2021-11-25 00:47:13,309] - obspy.clients.fdsn.mass_downloader - INFO: Client 'GEONET' - Downloaded 0.0 MB [3.31 KB/sec] of data, 0.0 MB of which were discarded afterwards.\n",
      "[2021-11-25 00:47:13,309] - obspy.clients.fdsn.mass_downloader - INFO: Client 'GEONET' - Status for 1 time intervals/channels after downloading: DOWNLOADED\n",
      "[2021-11-25 00:47:13,312] - obspy.clients.fdsn.mass_downloader - INFO: Client 'GEONET' - No station information to download.\n",
      "[2021-11-25 00:47:13,313] - obspy.clients.fdsn.mass_downloader - INFO: ============================== Final report\n",
      "[2021-11-25 00:47:13,314] - obspy.clients.fdsn.mass_downloader - INFO: 0 MiniSEED files [0.0 MB] already existed.\n",
      "[2021-11-25 00:47:13,315] - obspy.clients.fdsn.mass_downloader - INFO: 1 StationXML files [0.0 MB] already existed.\n",
      "[2021-11-25 00:47:13,315] - obspy.clients.fdsn.mass_downloader - INFO: Client 'GEONET' - Acquired 1 MiniSEED files [0.0 MB].\n",
      "[2021-11-25 00:47:13,316] - obspy.clients.fdsn.mass_downloader - INFO: Client 'GEONET' - Acquired 0 StationXML files [0.0 MB].\n",
      "[2021-11-25 00:47:13,316] - obspy.clients.fdsn.mass_downloader - INFO: Downloaded 0.0 MB in total.\n",
      "[2021-11-25 00:47:13,320] - obspy.clients.fdsn.mass_downloader - INFO: Initializing FDSN client(s) for GEONET.\n",
      "[2021-11-25 00:47:13,325] - obspy.clients.fdsn.mass_downloader - INFO: Successfully initialized 1 client(s): GEONET.\n",
      "[2021-11-25 00:47:13,330] - obspy.clients.fdsn.mass_downloader - INFO: Total acquired or preexisting stations: 0\n",
      "[2021-11-25 00:47:13,332] - obspy.clients.fdsn.mass_downloader - INFO: Client 'GEONET' - Requesting unreliable availability.\n"
     ]
    },
    {
     "name": "stdout",
     "output_type": "stream",
     "text": [
      "=================================================================\n",
      "Initiating mass download request.\n"
     ]
    },
    {
     "name": "stderr",
     "output_type": "stream",
     "text": [
      "[2021-11-25 00:47:14,030] - obspy.clients.fdsn.mass_downloader - INFO: Client 'GEONET' - Successfully requested availability (0.70 seconds)\n",
      "[2021-11-25 00:47:14,031] - obspy.clients.fdsn.mass_downloader - INFO: Client 'GEONET' - Found 1 stations (1 channels).\n",
      "[2021-11-25 00:47:14,032] - obspy.clients.fdsn.mass_downloader - INFO: Client 'GEONET' - Will attempt to download data from 1 stations.\n",
      "[2021-11-25 00:47:14,032] - obspy.clients.fdsn.mass_downloader - INFO: Client 'GEONET' - Status for 1 time intervals/channels before downloading: NEEDS_DOWNLOADING\n",
      "[2021-11-25 00:47:15,167] - obspy.clients.fdsn.mass_downloader - INFO: Client 'GEONET' - Successfully downloaded 1 channels (of 1)\n",
      "[2021-11-25 00:47:15,175] - obspy.clients.fdsn.mass_downloader - INFO: Client 'GEONET' - Launching basic QC checks...\n",
      "[2021-11-25 00:47:15,189] - obspy.clients.fdsn.mass_downloader - INFO: Client 'GEONET' - Downloaded 0.0 MB [3.51 KB/sec] of data, 0.0 MB of which were discarded afterwards.\n",
      "[2021-11-25 00:47:15,190] - obspy.clients.fdsn.mass_downloader - INFO: Client 'GEONET' - Status for 1 time intervals/channels after downloading: DOWNLOADED\n",
      "[2021-11-25 00:47:15,192] - obspy.clients.fdsn.mass_downloader - INFO: Client 'GEONET' - No station information to download.\n",
      "[2021-11-25 00:47:15,193] - obspy.clients.fdsn.mass_downloader - INFO: ============================== Final report\n",
      "[2021-11-25 00:47:15,195] - obspy.clients.fdsn.mass_downloader - INFO: 0 MiniSEED files [0.0 MB] already existed.\n",
      "[2021-11-25 00:47:15,197] - obspy.clients.fdsn.mass_downloader - INFO: 1 StationXML files [0.0 MB] already existed.\n",
      "[2021-11-25 00:47:15,197] - obspy.clients.fdsn.mass_downloader - INFO: Client 'GEONET' - Acquired 1 MiniSEED files [0.0 MB].\n",
      "[2021-11-25 00:47:15,198] - obspy.clients.fdsn.mass_downloader - INFO: Client 'GEONET' - Acquired 0 StationXML files [0.0 MB].\n",
      "[2021-11-25 00:47:15,198] - obspy.clients.fdsn.mass_downloader - INFO: Downloaded 0.0 MB in total.\n",
      "[2021-11-25 00:47:15,200] - obspy.clients.fdsn.mass_downloader - INFO: Initializing FDSN client(s) for GEONET.\n",
      "[2021-11-25 00:47:15,208] - obspy.clients.fdsn.mass_downloader - INFO: Successfully initialized 1 client(s): GEONET.\n",
      "[2021-11-25 00:47:15,209] - obspy.clients.fdsn.mass_downloader - INFO: Total acquired or preexisting stations: 0\n",
      "[2021-11-25 00:47:15,209] - obspy.clients.fdsn.mass_downloader - INFO: Client 'GEONET' - Requesting unreliable availability.\n"
     ]
    },
    {
     "name": "stdout",
     "output_type": "stream",
     "text": [
      "=================================================================\n",
      "Initiating mass download request.\n"
     ]
    },
    {
     "name": "stderr",
     "output_type": "stream",
     "text": [
      "[2021-11-25 00:47:15,873] - obspy.clients.fdsn.mass_downloader - INFO: Client 'GEONET' - Successfully requested availability (0.66 seconds)\n",
      "[2021-11-25 00:47:15,874] - obspy.clients.fdsn.mass_downloader - INFO: Client 'GEONET' - Found 1 stations (1 channels).\n",
      "[2021-11-25 00:47:15,874] - obspy.clients.fdsn.mass_downloader - INFO: Client 'GEONET' - Will attempt to download data from 1 stations.\n",
      "[2021-11-25 00:47:15,875] - obspy.clients.fdsn.mass_downloader - INFO: Client 'GEONET' - Status for 1 time intervals/channels before downloading: NEEDS_DOWNLOADING\n",
      "[2021-11-25 00:47:16,974] - obspy.clients.fdsn.mass_downloader - INFO: Client 'GEONET' - Successfully downloaded 1 channels (of 1)\n",
      "[2021-11-25 00:47:16,977] - obspy.clients.fdsn.mass_downloader - INFO: Client 'GEONET' - Launching basic QC checks...\n",
      "[2021-11-25 00:47:16,982] - obspy.clients.fdsn.mass_downloader - INFO: Client 'GEONET' - Downloaded 0.0 MB [3.63 KB/sec] of data, 0.0 MB of which were discarded afterwards.\n",
      "[2021-11-25 00:47:16,983] - obspy.clients.fdsn.mass_downloader - INFO: Client 'GEONET' - Status for 1 time intervals/channels after downloading: DOWNLOADED\n",
      "[2021-11-25 00:47:16,985] - obspy.clients.fdsn.mass_downloader - INFO: Client 'GEONET' - No station information to download.\n",
      "[2021-11-25 00:47:16,986] - obspy.clients.fdsn.mass_downloader - INFO: ============================== Final report\n",
      "[2021-11-25 00:47:16,986] - obspy.clients.fdsn.mass_downloader - INFO: 0 MiniSEED files [0.0 MB] already existed.\n",
      "[2021-11-25 00:47:16,986] - obspy.clients.fdsn.mass_downloader - INFO: 1 StationXML files [0.0 MB] already existed.\n",
      "[2021-11-25 00:47:16,987] - obspy.clients.fdsn.mass_downloader - INFO: Client 'GEONET' - Acquired 1 MiniSEED files [0.0 MB].\n",
      "[2021-11-25 00:47:16,987] - obspy.clients.fdsn.mass_downloader - INFO: Client 'GEONET' - Acquired 0 StationXML files [0.0 MB].\n",
      "[2021-11-25 00:47:16,987] - obspy.clients.fdsn.mass_downloader - INFO: Downloaded 0.0 MB in total.\n",
      "[2021-11-25 00:47:16,993] - obspy.clients.fdsn.mass_downloader - INFO: Initializing FDSN client(s) for GEONET.\n",
      "[2021-11-25 00:47:16,996] - obspy.clients.fdsn.mass_downloader - INFO: Successfully initialized 1 client(s): GEONET.\n",
      "[2021-11-25 00:47:16,997] - obspy.clients.fdsn.mass_downloader - INFO: Total acquired or preexisting stations: 0\n",
      "[2021-11-25 00:47:16,997] - obspy.clients.fdsn.mass_downloader - INFO: Client 'GEONET' - Requesting unreliable availability.\n"
     ]
    },
    {
     "name": "stdout",
     "output_type": "stream",
     "text": [
      "=================================================================\n",
      "Initiating mass download request.\n"
     ]
    },
    {
     "name": "stderr",
     "output_type": "stream",
     "text": [
      "[2021-11-25 00:47:17,547] - obspy.clients.fdsn.mass_downloader - INFO: Client 'GEONET' - Successfully requested availability (0.55 seconds)\n",
      "[2021-11-25 00:47:17,548] - obspy.clients.fdsn.mass_downloader - INFO: Client 'GEONET' - Found 1 stations (1 channels).\n",
      "[2021-11-25 00:47:17,548] - obspy.clients.fdsn.mass_downloader - INFO: Client 'GEONET' - Will attempt to download data from 1 stations.\n",
      "[2021-11-25 00:47:17,549] - obspy.clients.fdsn.mass_downloader - INFO: Client 'GEONET' - Status for 1 time intervals/channels before downloading: NEEDS_DOWNLOADING\n",
      "[2021-11-25 00:47:18,562] - obspy.clients.fdsn.mass_downloader - INFO: Client 'GEONET' - Successfully downloaded 1 channels (of 1)\n",
      "[2021-11-25 00:47:18,568] - obspy.clients.fdsn.mass_downloader - INFO: Client 'GEONET' - Launching basic QC checks...\n",
      "[2021-11-25 00:47:18,575] - obspy.clients.fdsn.mass_downloader - INFO: Client 'GEONET' - Downloaded 0.0 MB [3.44 KB/sec] of data, 0.0 MB of which were discarded afterwards.\n",
      "[2021-11-25 00:47:18,576] - obspy.clients.fdsn.mass_downloader - INFO: Client 'GEONET' - Status for 1 time intervals/channels after downloading: DOWNLOADED\n",
      "[2021-11-25 00:47:18,582] - obspy.clients.fdsn.mass_downloader - INFO: Client 'GEONET' - No station information to download.\n",
      "[2021-11-25 00:47:18,583] - obspy.clients.fdsn.mass_downloader - INFO: ============================== Final report\n",
      "[2021-11-25 00:47:18,583] - obspy.clients.fdsn.mass_downloader - INFO: 0 MiniSEED files [0.0 MB] already existed.\n",
      "[2021-11-25 00:47:18,583] - obspy.clients.fdsn.mass_downloader - INFO: 1 StationXML files [0.0 MB] already existed.\n",
      "[2021-11-25 00:47:18,584] - obspy.clients.fdsn.mass_downloader - INFO: Client 'GEONET' - Acquired 1 MiniSEED files [0.0 MB].\n",
      "[2021-11-25 00:47:18,584] - obspy.clients.fdsn.mass_downloader - INFO: Client 'GEONET' - Acquired 0 StationXML files [0.0 MB].\n",
      "[2021-11-25 00:47:18,584] - obspy.clients.fdsn.mass_downloader - INFO: Downloaded 0.0 MB in total.\n",
      "[2021-11-25 00:47:18,587] - obspy.clients.fdsn.mass_downloader - INFO: Initializing FDSN client(s) for GEONET.\n",
      "[2021-11-25 00:47:18,593] - obspy.clients.fdsn.mass_downloader - INFO: Successfully initialized 1 client(s): GEONET.\n",
      "[2021-11-25 00:47:18,594] - obspy.clients.fdsn.mass_downloader - INFO: Total acquired or preexisting stations: 0\n",
      "[2021-11-25 00:47:18,594] - obspy.clients.fdsn.mass_downloader - INFO: Client 'GEONET' - Requesting unreliable availability.\n"
     ]
    },
    {
     "name": "stdout",
     "output_type": "stream",
     "text": [
      "=================================================================\n",
      "Initiating mass download request.\n"
     ]
    },
    {
     "name": "stderr",
     "output_type": "stream",
     "text": [
      "[2021-11-25 00:47:20,051] - obspy.clients.fdsn.mass_downloader - INFO: Client 'GEONET' - Successfully requested availability (1.45 seconds)\n",
      "[2021-11-25 00:47:20,054] - obspy.clients.fdsn.mass_downloader - INFO: Client 'GEONET' - Found 1 stations (1 channels).\n",
      "[2021-11-25 00:47:20,055] - obspy.clients.fdsn.mass_downloader - INFO: Client 'GEONET' - Will attempt to download data from 1 stations.\n",
      "[2021-11-25 00:47:20,056] - obspy.clients.fdsn.mass_downloader - INFO: Client 'GEONET' - Status for 1 time intervals/channels before downloading: NEEDS_DOWNLOADING\n",
      "[2021-11-25 00:47:21,075] - obspy.clients.fdsn.mass_downloader - INFO: Client 'GEONET' - Successfully downloaded 1 channels (of 1)\n",
      "[2021-11-25 00:47:21,228] - obspy.clients.fdsn.mass_downloader - INFO: Client 'GEONET' - Launching basic QC checks...\n",
      "[2021-11-25 00:47:21,247] - obspy.clients.fdsn.mass_downloader - INFO: Client 'GEONET' - Downloaded 0.0 MB [3.44 KB/sec] of data, 0.0 MB of which were discarded afterwards.\n",
      "[2021-11-25 00:47:21,255] - obspy.clients.fdsn.mass_downloader - INFO: Client 'GEONET' - Status for 1 time intervals/channels after downloading: DOWNLOADED\n",
      "[2021-11-25 00:47:21,267] - obspy.clients.fdsn.mass_downloader - INFO: Client 'GEONET' - No station information to download.\n",
      "[2021-11-25 00:47:21,273] - obspy.clients.fdsn.mass_downloader - INFO: ============================== Final report\n",
      "[2021-11-25 00:47:21,275] - obspy.clients.fdsn.mass_downloader - INFO: 0 MiniSEED files [0.0 MB] already existed.\n",
      "[2021-11-25 00:47:21,275] - obspy.clients.fdsn.mass_downloader - INFO: 1 StationXML files [0.0 MB] already existed.\n",
      "[2021-11-25 00:47:21,276] - obspy.clients.fdsn.mass_downloader - INFO: Client 'GEONET' - Acquired 1 MiniSEED files [0.0 MB].\n",
      "[2021-11-25 00:47:21,276] - obspy.clients.fdsn.mass_downloader - INFO: Client 'GEONET' - Acquired 0 StationXML files [0.0 MB].\n",
      "[2021-11-25 00:47:21,277] - obspy.clients.fdsn.mass_downloader - INFO: Downloaded 0.0 MB in total.\n",
      "[2021-11-25 00:47:21,301] - obspy.clients.fdsn.mass_downloader - INFO: Initializing FDSN client(s) for GEONET.\n",
      "[2021-11-25 00:47:21,312] - obspy.clients.fdsn.mass_downloader - INFO: Successfully initialized 1 client(s): GEONET.\n",
      "[2021-11-25 00:47:21,316] - obspy.clients.fdsn.mass_downloader - INFO: Total acquired or preexisting stations: 0\n",
      "[2021-11-25 00:47:21,318] - obspy.clients.fdsn.mass_downloader - INFO: Client 'GEONET' - Requesting unreliable availability.\n"
     ]
    },
    {
     "name": "stdout",
     "output_type": "stream",
     "text": [
      "=================================================================\n",
      "Initiating mass download request.\n"
     ]
    },
    {
     "name": "stderr",
     "output_type": "stream",
     "text": [
      "[2021-11-25 00:47:21,915] - obspy.clients.fdsn.mass_downloader - INFO: Client 'GEONET' - Successfully requested availability (0.59 seconds)\n",
      "[2021-11-25 00:47:21,917] - obspy.clients.fdsn.mass_downloader - INFO: Client 'GEONET' - Found 1 stations (1 channels).\n",
      "[2021-11-25 00:47:21,920] - obspy.clients.fdsn.mass_downloader - INFO: Client 'GEONET' - Will attempt to download data from 1 stations.\n",
      "[2021-11-25 00:47:21,921] - obspy.clients.fdsn.mass_downloader - INFO: Client 'GEONET' - Status for 1 time intervals/channels before downloading: NEEDS_DOWNLOADING\n",
      "[2021-11-25 00:47:23,451] - obspy.clients.fdsn.mass_downloader - INFO: Client 'GEONET' - Successfully downloaded 1 channels (of 1)\n",
      "[2021-11-25 00:47:23,459] - obspy.clients.fdsn.mass_downloader - INFO: Client 'GEONET' - Launching basic QC checks...\n",
      "[2021-11-25 00:47:23,466] - obspy.clients.fdsn.mass_downloader - INFO: Client 'GEONET' - Downloaded 0.0 MB [4.23 KB/sec] of data, 0.0 MB of which were discarded afterwards.\n",
      "[2021-11-25 00:47:23,466] - obspy.clients.fdsn.mass_downloader - INFO: Client 'GEONET' - Status for 1 time intervals/channels after downloading: DOWNLOADED\n",
      "[2021-11-25 00:47:23,471] - obspy.clients.fdsn.mass_downloader - INFO: Client 'GEONET' - No station information to download.\n",
      "[2021-11-25 00:47:23,472] - obspy.clients.fdsn.mass_downloader - INFO: ============================== Final report\n",
      "[2021-11-25 00:47:23,472] - obspy.clients.fdsn.mass_downloader - INFO: 0 MiniSEED files [0.0 MB] already existed.\n",
      "[2021-11-25 00:47:23,472] - obspy.clients.fdsn.mass_downloader - INFO: 1 StationXML files [0.0 MB] already existed.\n",
      "[2021-11-25 00:47:23,473] - obspy.clients.fdsn.mass_downloader - INFO: Client 'GEONET' - Acquired 1 MiniSEED files [0.0 MB].\n",
      "[2021-11-25 00:47:23,473] - obspy.clients.fdsn.mass_downloader - INFO: Client 'GEONET' - Acquired 0 StationXML files [0.0 MB].\n",
      "[2021-11-25 00:47:23,473] - obspy.clients.fdsn.mass_downloader - INFO: Downloaded 0.0 MB in total.\n",
      "[2021-11-25 00:47:23,475] - obspy.clients.fdsn.mass_downloader - INFO: Initializing FDSN client(s) for GEONET.\n",
      "[2021-11-25 00:47:23,482] - obspy.clients.fdsn.mass_downloader - INFO: Successfully initialized 1 client(s): GEONET.\n",
      "[2021-11-25 00:47:23,483] - obspy.clients.fdsn.mass_downloader - INFO: Total acquired or preexisting stations: 0\n",
      "[2021-11-25 00:47:23,483] - obspy.clients.fdsn.mass_downloader - INFO: Client 'GEONET' - Requesting unreliable availability.\n"
     ]
    },
    {
     "name": "stdout",
     "output_type": "stream",
     "text": [
      "=================================================================\n",
      "Initiating mass download request.\n"
     ]
    },
    {
     "name": "stderr",
     "output_type": "stream",
     "text": [
      "[2021-11-25 00:47:24,070] - obspy.clients.fdsn.mass_downloader - INFO: Client 'GEONET' - Successfully requested availability (0.59 seconds)\n",
      "[2021-11-25 00:47:24,071] - obspy.clients.fdsn.mass_downloader - INFO: Client 'GEONET' - Found 1 stations (1 channels).\n",
      "[2021-11-25 00:47:24,071] - obspy.clients.fdsn.mass_downloader - INFO: Client 'GEONET' - Will attempt to download data from 1 stations.\n",
      "[2021-11-25 00:47:24,072] - obspy.clients.fdsn.mass_downloader - INFO: Client 'GEONET' - Status for 1 time intervals/channels before downloading: NEEDS_DOWNLOADING\n",
      "[2021-11-25 00:47:25,075] - obspy.clients.fdsn.mass_downloader - INFO: Client 'GEONET' - Successfully downloaded 1 channels (of 1)\n",
      "[2021-11-25 00:47:25,101] - obspy.clients.fdsn.mass_downloader - INFO: Client 'GEONET' - Launching basic QC checks...\n",
      "[2021-11-25 00:47:25,121] - obspy.clients.fdsn.mass_downloader - INFO: Client 'GEONET' - Downloaded 0.0 MB [3.89 KB/sec] of data, 0.0 MB of which were discarded afterwards.\n",
      "[2021-11-25 00:47:25,130] - obspy.clients.fdsn.mass_downloader - INFO: Client 'GEONET' - Status for 1 time intervals/channels after downloading: DOWNLOADED\n",
      "[2021-11-25 00:47:25,137] - obspy.clients.fdsn.mass_downloader - INFO: Client 'GEONET' - No station information to download.\n",
      "[2021-11-25 00:47:25,142] - obspy.clients.fdsn.mass_downloader - INFO: ============================== Final report\n",
      "[2021-11-25 00:47:25,144] - obspy.clients.fdsn.mass_downloader - INFO: 0 MiniSEED files [0.0 MB] already existed.\n",
      "[2021-11-25 00:47:25,145] - obspy.clients.fdsn.mass_downloader - INFO: 1 StationXML files [0.0 MB] already existed.\n",
      "[2021-11-25 00:47:25,146] - obspy.clients.fdsn.mass_downloader - INFO: Client 'GEONET' - Acquired 1 MiniSEED files [0.0 MB].\n",
      "[2021-11-25 00:47:25,147] - obspy.clients.fdsn.mass_downloader - INFO: Client 'GEONET' - Acquired 0 StationXML files [0.0 MB].\n",
      "[2021-11-25 00:47:25,147] - obspy.clients.fdsn.mass_downloader - INFO: Downloaded 0.0 MB in total.\n",
      "[2021-11-25 00:47:25,157] - obspy.clients.fdsn.mass_downloader - INFO: Initializing FDSN client(s) for GEONET.\n",
      "[2021-11-25 00:47:25,171] - obspy.clients.fdsn.mass_downloader - INFO: Successfully initialized 1 client(s): GEONET.\n",
      "[2021-11-25 00:47:25,174] - obspy.clients.fdsn.mass_downloader - INFO: Total acquired or preexisting stations: 0\n",
      "[2021-11-25 00:47:25,174] - obspy.clients.fdsn.mass_downloader - INFO: Client 'GEONET' - Requesting unreliable availability.\n"
     ]
    },
    {
     "name": "stdout",
     "output_type": "stream",
     "text": [
      "=================================================================\n",
      "Initiating mass download request.\n"
     ]
    },
    {
     "name": "stderr",
     "output_type": "stream",
     "text": [
      "[2021-11-25 00:47:25,791] - obspy.clients.fdsn.mass_downloader - INFO: Client 'GEONET' - Successfully requested availability (0.62 seconds)\n",
      "[2021-11-25 00:47:25,842] - obspy.clients.fdsn.mass_downloader - INFO: Client 'GEONET' - Found 1 stations (1 channels).\n",
      "[2021-11-25 00:47:25,851] - obspy.clients.fdsn.mass_downloader - INFO: Client 'GEONET' - Will attempt to download data from 1 stations.\n",
      "[2021-11-25 00:47:25,858] - obspy.clients.fdsn.mass_downloader - INFO: Client 'GEONET' - Status for 1 time intervals/channels before downloading: NEEDS_DOWNLOADING\n",
      "[2021-11-25 00:47:26,988] - obspy.clients.fdsn.mass_downloader - INFO: Client 'GEONET' - Successfully downloaded 1 channels (of 1)\n",
      "[2021-11-25 00:47:26,994] - obspy.clients.fdsn.mass_downloader - INFO: Client 'GEONET' - Launching basic QC checks...\n",
      "[2021-11-25 00:47:27,004] - obspy.clients.fdsn.mass_downloader - INFO: Client 'GEONET' - Downloaded 0.0 MB [3.99 KB/sec] of data, 0.0 MB of which were discarded afterwards.\n",
      "[2021-11-25 00:47:27,005] - obspy.clients.fdsn.mass_downloader - INFO: Client 'GEONET' - Status for 1 time intervals/channels after downloading: DOWNLOADED\n",
      "[2021-11-25 00:47:27,010] - obspy.clients.fdsn.mass_downloader - INFO: Client 'GEONET' - No station information to download.\n",
      "[2021-11-25 00:47:27,012] - obspy.clients.fdsn.mass_downloader - INFO: ============================== Final report\n",
      "[2021-11-25 00:47:27,012] - obspy.clients.fdsn.mass_downloader - INFO: 0 MiniSEED files [0.0 MB] already existed.\n",
      "[2021-11-25 00:47:27,013] - obspy.clients.fdsn.mass_downloader - INFO: 1 StationXML files [0.0 MB] already existed.\n",
      "[2021-11-25 00:47:27,013] - obspy.clients.fdsn.mass_downloader - INFO: Client 'GEONET' - Acquired 1 MiniSEED files [0.0 MB].\n",
      "[2021-11-25 00:47:27,014] - obspy.clients.fdsn.mass_downloader - INFO: Client 'GEONET' - Acquired 0 StationXML files [0.0 MB].\n",
      "[2021-11-25 00:47:27,014] - obspy.clients.fdsn.mass_downloader - INFO: Downloaded 0.0 MB in total.\n",
      "[2021-11-25 00:47:27,017] - obspy.clients.fdsn.mass_downloader - INFO: Initializing FDSN client(s) for GEONET.\n",
      "[2021-11-25 00:47:27,023] - obspy.clients.fdsn.mass_downloader - INFO: Successfully initialized 1 client(s): GEONET.\n",
      "[2021-11-25 00:47:27,024] - obspy.clients.fdsn.mass_downloader - INFO: Total acquired or preexisting stations: 0\n",
      "[2021-11-25 00:47:27,024] - obspy.clients.fdsn.mass_downloader - INFO: Client 'GEONET' - Requesting unreliable availability.\n"
     ]
    },
    {
     "name": "stdout",
     "output_type": "stream",
     "text": [
      "=================================================================\n",
      "Initiating mass download request.\n"
     ]
    },
    {
     "name": "stderr",
     "output_type": "stream",
     "text": [
      "[2021-11-25 00:47:28,293] - obspy.clients.fdsn.mass_downloader - INFO: Client 'GEONET' - Successfully requested availability (1.27 seconds)\n",
      "[2021-11-25 00:47:28,296] - obspy.clients.fdsn.mass_downloader - INFO: Client 'GEONET' - Found 1 stations (1 channels).\n",
      "[2021-11-25 00:47:28,296] - obspy.clients.fdsn.mass_downloader - INFO: Client 'GEONET' - Will attempt to download data from 1 stations.\n",
      "[2021-11-25 00:47:28,297] - obspy.clients.fdsn.mass_downloader - INFO: Client 'GEONET' - Status for 1 time intervals/channels before downloading: NEEDS_DOWNLOADING\n",
      "[2021-11-25 00:47:29,306] - obspy.clients.fdsn.mass_downloader - INFO: Client 'GEONET' - Successfully downloaded 1 channels (of 1)\n",
      "[2021-11-25 00:47:29,315] - obspy.clients.fdsn.mass_downloader - INFO: Client 'GEONET' - Launching basic QC checks...\n",
      "[2021-11-25 00:47:29,336] - obspy.clients.fdsn.mass_downloader - INFO: Client 'GEONET' - Downloaded 0.0 MB [3.95 KB/sec] of data, 0.0 MB of which were discarded afterwards.\n",
      "[2021-11-25 00:47:29,338] - obspy.clients.fdsn.mass_downloader - INFO: Client 'GEONET' - Status for 1 time intervals/channels after downloading: DOWNLOADED\n",
      "[2021-11-25 00:47:29,348] - obspy.clients.fdsn.mass_downloader - INFO: Client 'GEONET' - No station information to download.\n",
      "[2021-11-25 00:47:29,349] - obspy.clients.fdsn.mass_downloader - INFO: ============================== Final report\n",
      "[2021-11-25 00:47:29,350] - obspy.clients.fdsn.mass_downloader - INFO: 0 MiniSEED files [0.0 MB] already existed.\n",
      "[2021-11-25 00:47:29,359] - obspy.clients.fdsn.mass_downloader - INFO: 1 StationXML files [0.0 MB] already existed.\n",
      "[2021-11-25 00:47:29,360] - obspy.clients.fdsn.mass_downloader - INFO: Client 'GEONET' - Acquired 1 MiniSEED files [0.0 MB].\n",
      "[2021-11-25 00:47:29,360] - obspy.clients.fdsn.mass_downloader - INFO: Client 'GEONET' - Acquired 0 StationXML files [0.0 MB].\n",
      "[2021-11-25 00:47:29,360] - obspy.clients.fdsn.mass_downloader - INFO: Downloaded 0.0 MB in total.\n",
      "[2021-11-25 00:47:29,382] - obspy.clients.fdsn.mass_downloader - INFO: Initializing FDSN client(s) for GEONET.\n",
      "[2021-11-25 00:47:29,408] - obspy.clients.fdsn.mass_downloader - INFO: Successfully initialized 1 client(s): GEONET.\n",
      "[2021-11-25 00:47:29,417] - obspy.clients.fdsn.mass_downloader - INFO: Total acquired or preexisting stations: 0\n",
      "[2021-11-25 00:47:29,419] - obspy.clients.fdsn.mass_downloader - INFO: Client 'GEONET' - Requesting unreliable availability.\n"
     ]
    },
    {
     "name": "stdout",
     "output_type": "stream",
     "text": [
      "=================================================================\n",
      "Initiating mass download request.\n"
     ]
    },
    {
     "name": "stderr",
     "output_type": "stream",
     "text": [
      "[2021-11-25 00:47:30,102] - obspy.clients.fdsn.mass_downloader - INFO: Client 'GEONET' - Successfully requested availability (0.68 seconds)\n",
      "[2021-11-25 00:47:30,166] - obspy.clients.fdsn.mass_downloader - INFO: Client 'GEONET' - Found 1 stations (1 channels).\n",
      "[2021-11-25 00:47:30,171] - obspy.clients.fdsn.mass_downloader - INFO: Client 'GEONET' - Will attempt to download data from 1 stations.\n",
      "[2021-11-25 00:47:30,185] - obspy.clients.fdsn.mass_downloader - INFO: Client 'GEONET' - Status for 1 time intervals/channels before downloading: NEEDS_DOWNLOADING\n",
      "[2021-11-25 00:47:31,186] - obspy.clients.fdsn.mass_downloader - INFO: Client 'GEONET' - Successfully downloaded 1 channels (of 1)\n",
      "[2021-11-25 00:47:31,195] - obspy.clients.fdsn.mass_downloader - INFO: Client 'GEONET' - Launching basic QC checks...\n",
      "[2021-11-25 00:47:31,209] - obspy.clients.fdsn.mass_downloader - INFO: Client 'GEONET' - Downloaded 0.0 MB [3.58 KB/sec] of data, 0.0 MB of which were discarded afterwards.\n",
      "[2021-11-25 00:47:31,210] - obspy.clients.fdsn.mass_downloader - INFO: Client 'GEONET' - Status for 1 time intervals/channels after downloading: DOWNLOADED\n",
      "[2021-11-25 00:47:31,219] - obspy.clients.fdsn.mass_downloader - INFO: Client 'GEONET' - No station information to download.\n",
      "[2021-11-25 00:47:31,221] - obspy.clients.fdsn.mass_downloader - INFO: ============================== Final report\n",
      "[2021-11-25 00:47:31,222] - obspy.clients.fdsn.mass_downloader - INFO: 0 MiniSEED files [0.0 MB] already existed.\n",
      "[2021-11-25 00:47:31,223] - obspy.clients.fdsn.mass_downloader - INFO: 1 StationXML files [0.0 MB] already existed.\n",
      "[2021-11-25 00:47:31,223] - obspy.clients.fdsn.mass_downloader - INFO: Client 'GEONET' - Acquired 1 MiniSEED files [0.0 MB].\n",
      "[2021-11-25 00:47:31,224] - obspy.clients.fdsn.mass_downloader - INFO: Client 'GEONET' - Acquired 0 StationXML files [0.0 MB].\n",
      "[2021-11-25 00:47:31,225] - obspy.clients.fdsn.mass_downloader - INFO: Downloaded 0.0 MB in total.\n",
      "[2021-11-25 00:47:31,231] - obspy.clients.fdsn.mass_downloader - INFO: Initializing FDSN client(s) for GEONET.\n",
      "[2021-11-25 00:47:31,239] - obspy.clients.fdsn.mass_downloader - INFO: Successfully initialized 1 client(s): GEONET.\n",
      "[2021-11-25 00:47:31,243] - obspy.clients.fdsn.mass_downloader - INFO: Total acquired or preexisting stations: 0\n",
      "[2021-11-25 00:47:31,244] - obspy.clients.fdsn.mass_downloader - INFO: Client 'GEONET' - Requesting unreliable availability.\n"
     ]
    },
    {
     "name": "stdout",
     "output_type": "stream",
     "text": [
      "=================================================================\n",
      "Initiating mass download request.\n"
     ]
    },
    {
     "name": "stderr",
     "output_type": "stream",
     "text": [
      "[2021-11-25 00:47:31,826] - obspy.clients.fdsn.mass_downloader - INFO: Client 'GEONET' - Successfully requested availability (0.58 seconds)\n",
      "[2021-11-25 00:47:31,828] - obspy.clients.fdsn.mass_downloader - INFO: Client 'GEONET' - Found 1 stations (1 channels).\n",
      "[2021-11-25 00:47:31,828] - obspy.clients.fdsn.mass_downloader - INFO: Client 'GEONET' - Will attempt to download data from 1 stations.\n",
      "[2021-11-25 00:47:31,829] - obspy.clients.fdsn.mass_downloader - INFO: Client 'GEONET' - Status for 1 time intervals/channels before downloading: NEEDS_DOWNLOADING\n",
      "[2021-11-25 00:47:33,036] - obspy.clients.fdsn.mass_downloader - INFO: Client 'GEONET' - Successfully downloaded 1 channels (of 1)\n",
      "[2021-11-25 00:47:33,039] - obspy.clients.fdsn.mass_downloader - INFO: Client 'GEONET' - Launching basic QC checks...\n",
      "[2021-11-25 00:47:33,047] - obspy.clients.fdsn.mass_downloader - INFO: Client 'GEONET' - Downloaded 0.0 MB [3.31 KB/sec] of data, 0.0 MB of which were discarded afterwards.\n",
      "[2021-11-25 00:47:33,047] - obspy.clients.fdsn.mass_downloader - INFO: Client 'GEONET' - Status for 1 time intervals/channels after downloading: DOWNLOADED\n",
      "[2021-11-25 00:47:33,053] - obspy.clients.fdsn.mass_downloader - INFO: Client 'GEONET' - No station information to download.\n",
      "[2021-11-25 00:47:33,053] - obspy.clients.fdsn.mass_downloader - INFO: ============================== Final report\n",
      "[2021-11-25 00:47:33,054] - obspy.clients.fdsn.mass_downloader - INFO: 0 MiniSEED files [0.0 MB] already existed.\n",
      "[2021-11-25 00:47:33,054] - obspy.clients.fdsn.mass_downloader - INFO: 1 StationXML files [0.0 MB] already existed.\n",
      "[2021-11-25 00:47:33,054] - obspy.clients.fdsn.mass_downloader - INFO: Client 'GEONET' - Acquired 1 MiniSEED files [0.0 MB].\n",
      "[2021-11-25 00:47:33,054] - obspy.clients.fdsn.mass_downloader - INFO: Client 'GEONET' - Acquired 0 StationXML files [0.0 MB].\n",
      "[2021-11-25 00:47:33,055] - obspy.clients.fdsn.mass_downloader - INFO: Downloaded 0.0 MB in total.\n",
      "[2021-11-25 00:47:33,061] - obspy.clients.fdsn.mass_downloader - INFO: Initializing FDSN client(s) for GEONET.\n",
      "[2021-11-25 00:47:33,068] - obspy.clients.fdsn.mass_downloader - INFO: Successfully initialized 1 client(s): GEONET.\n",
      "[2021-11-25 00:47:33,069] - obspy.clients.fdsn.mass_downloader - INFO: Total acquired or preexisting stations: 0\n",
      "[2021-11-25 00:47:33,070] - obspy.clients.fdsn.mass_downloader - INFO: Client 'GEONET' - Requesting unreliable availability.\n"
     ]
    },
    {
     "name": "stdout",
     "output_type": "stream",
     "text": [
      "=================================================================\n",
      "Initiating mass download request.\n"
     ]
    },
    {
     "name": "stderr",
     "output_type": "stream",
     "text": [
      "[2021-11-25 00:47:33,605] - obspy.clients.fdsn.mass_downloader - INFO: Client 'GEONET' - Successfully requested availability (0.53 seconds)\n",
      "[2021-11-25 00:47:33,608] - obspy.clients.fdsn.mass_downloader - INFO: Client 'GEONET' - Found 1 stations (1 channels).\n",
      "[2021-11-25 00:47:33,609] - obspy.clients.fdsn.mass_downloader - INFO: Client 'GEONET' - Will attempt to download data from 1 stations.\n",
      "[2021-11-25 00:47:33,610] - obspy.clients.fdsn.mass_downloader - INFO: Client 'GEONET' - Status for 1 time intervals/channels before downloading: NEEDS_DOWNLOADING\n",
      "[2021-11-25 00:47:34,932] - obspy.clients.fdsn.mass_downloader - INFO: Client 'GEONET' - Successfully downloaded 1 channels (of 1)\n",
      "[2021-11-25 00:47:34,940] - obspy.clients.fdsn.mass_downloader - INFO: Client 'GEONET' - Launching basic QC checks...\n",
      "[2021-11-25 00:47:34,951] - obspy.clients.fdsn.mass_downloader - INFO: Client 'GEONET' - Downloaded 0.0 MB [4.15 KB/sec] of data, 0.0 MB of which were discarded afterwards.\n",
      "[2021-11-25 00:47:34,953] - obspy.clients.fdsn.mass_downloader - INFO: Client 'GEONET' - Status for 1 time intervals/channels after downloading: DOWNLOADED\n",
      "[2021-11-25 00:47:34,960] - obspy.clients.fdsn.mass_downloader - INFO: Client 'GEONET' - No station information to download.\n",
      "[2021-11-25 00:47:34,963] - obspy.clients.fdsn.mass_downloader - INFO: ============================== Final report\n",
      "[2021-11-25 00:47:34,964] - obspy.clients.fdsn.mass_downloader - INFO: 0 MiniSEED files [0.0 MB] already existed.\n",
      "[2021-11-25 00:47:34,966] - obspy.clients.fdsn.mass_downloader - INFO: 1 StationXML files [0.0 MB] already existed.\n",
      "[2021-11-25 00:47:34,968] - obspy.clients.fdsn.mass_downloader - INFO: Client 'GEONET' - Acquired 1 MiniSEED files [0.0 MB].\n",
      "[2021-11-25 00:47:34,970] - obspy.clients.fdsn.mass_downloader - INFO: Client 'GEONET' - Acquired 0 StationXML files [0.0 MB].\n",
      "[2021-11-25 00:47:34,970] - obspy.clients.fdsn.mass_downloader - INFO: Downloaded 0.0 MB in total.\n",
      "[2021-11-25 00:47:34,976] - obspy.clients.fdsn.mass_downloader - INFO: Initializing FDSN client(s) for GEONET.\n",
      "[2021-11-25 00:47:34,988] - obspy.clients.fdsn.mass_downloader - INFO: Successfully initialized 1 client(s): GEONET.\n",
      "[2021-11-25 00:47:34,991] - obspy.clients.fdsn.mass_downloader - INFO: Total acquired or preexisting stations: 0\n",
      "[2021-11-25 00:47:34,992] - obspy.clients.fdsn.mass_downloader - INFO: Client 'GEONET' - Requesting unreliable availability.\n"
     ]
    },
    {
     "name": "stdout",
     "output_type": "stream",
     "text": [
      "=================================================================\n",
      "Initiating mass download request.\n"
     ]
    },
    {
     "name": "stderr",
     "output_type": "stream",
     "text": [
      "[2021-11-25 00:47:35,554] - obspy.clients.fdsn.mass_downloader - INFO: Client 'GEONET' - Successfully requested availability (0.56 seconds)\n",
      "[2021-11-25 00:47:35,555] - obspy.clients.fdsn.mass_downloader - INFO: Client 'GEONET' - Found 1 stations (1 channels).\n",
      "[2021-11-25 00:47:35,556] - obspy.clients.fdsn.mass_downloader - INFO: Client 'GEONET' - Will attempt to download data from 1 stations.\n",
      "[2021-11-25 00:47:35,557] - obspy.clients.fdsn.mass_downloader - INFO: Client 'GEONET' - Status for 1 time intervals/channels before downloading: NEEDS_DOWNLOADING\n",
      "[2021-11-25 00:47:36,497] - obspy.clients.fdsn.mass_downloader - INFO: Client 'GEONET' - Successfully downloaded 1 channels (of 1)\n",
      "[2021-11-25 00:47:36,499] - obspy.clients.fdsn.mass_downloader - INFO: Client 'GEONET' - Launching basic QC checks...\n",
      "[2021-11-25 00:47:36,502] - obspy.clients.fdsn.mass_downloader - INFO: Client 'GEONET' - Downloaded 0.0 MB [3.72 KB/sec] of data, 0.0 MB of which were discarded afterwards.\n",
      "[2021-11-25 00:47:36,503] - obspy.clients.fdsn.mass_downloader - INFO: Client 'GEONET' - Status for 1 time intervals/channels after downloading: DOWNLOADED\n",
      "[2021-11-25 00:47:36,505] - obspy.clients.fdsn.mass_downloader - INFO: Client 'GEONET' - No station information to download.\n",
      "[2021-11-25 00:47:36,510] - obspy.clients.fdsn.mass_downloader - INFO: ============================== Final report\n",
      "[2021-11-25 00:47:36,510] - obspy.clients.fdsn.mass_downloader - INFO: 0 MiniSEED files [0.0 MB] already existed.\n",
      "[2021-11-25 00:47:36,510] - obspy.clients.fdsn.mass_downloader - INFO: 1 StationXML files [0.0 MB] already existed.\n",
      "[2021-11-25 00:47:36,511] - obspy.clients.fdsn.mass_downloader - INFO: Client 'GEONET' - Acquired 1 MiniSEED files [0.0 MB].\n",
      "[2021-11-25 00:47:36,511] - obspy.clients.fdsn.mass_downloader - INFO: Client 'GEONET' - Acquired 0 StationXML files [0.0 MB].\n",
      "[2021-11-25 00:47:36,511] - obspy.clients.fdsn.mass_downloader - INFO: Downloaded 0.0 MB in total.\n",
      "[2021-11-25 00:47:36,514] - obspy.clients.fdsn.mass_downloader - INFO: Initializing FDSN client(s) for GEONET.\n",
      "[2021-11-25 00:47:36,518] - obspy.clients.fdsn.mass_downloader - INFO: Successfully initialized 1 client(s): GEONET.\n",
      "[2021-11-25 00:47:36,519] - obspy.clients.fdsn.mass_downloader - INFO: Total acquired or preexisting stations: 0\n",
      "[2021-11-25 00:47:36,519] - obspy.clients.fdsn.mass_downloader - INFO: Client 'GEONET' - Requesting unreliable availability.\n"
     ]
    },
    {
     "name": "stdout",
     "output_type": "stream",
     "text": [
      "=================================================================\n",
      "Initiating mass download request.\n"
     ]
    },
    {
     "name": "stderr",
     "output_type": "stream",
     "text": [
      "[2021-11-25 00:47:37,071] - obspy.clients.fdsn.mass_downloader - INFO: Client 'GEONET' - Successfully requested availability (0.55 seconds)\n",
      "[2021-11-25 00:47:37,072] - obspy.clients.fdsn.mass_downloader - INFO: Client 'GEONET' - Found 1 stations (1 channels).\n",
      "[2021-11-25 00:47:37,072] - obspy.clients.fdsn.mass_downloader - INFO: Client 'GEONET' - Will attempt to download data from 1 stations.\n",
      "[2021-11-25 00:47:37,072] - obspy.clients.fdsn.mass_downloader - INFO: Client 'GEONET' - Status for 1 time intervals/channels before downloading: NEEDS_DOWNLOADING\n",
      "[2021-11-25 00:47:38,906] - obspy.clients.fdsn.mass_downloader - INFO: Client 'GEONET' - Successfully downloaded 1 channels (of 1)\n",
      "[2021-11-25 00:47:38,919] - obspy.clients.fdsn.mass_downloader - INFO: Client 'GEONET' - Launching basic QC checks...\n",
      "[2021-11-25 00:47:38,946] - obspy.clients.fdsn.mass_downloader - INFO: Client 'GEONET' - Downloaded 0.0 MB [2.98 KB/sec] of data, 0.0 MB of which were discarded afterwards.\n",
      "[2021-11-25 00:47:38,947] - obspy.clients.fdsn.mass_downloader - INFO: Client 'GEONET' - Status for 1 time intervals/channels after downloading: DOWNLOADED\n",
      "[2021-11-25 00:47:38,954] - obspy.clients.fdsn.mass_downloader - INFO: Client 'GEONET' - No station information to download.\n",
      "[2021-11-25 00:47:38,962] - obspy.clients.fdsn.mass_downloader - INFO: ============================== Final report\n",
      "[2021-11-25 00:47:38,963] - obspy.clients.fdsn.mass_downloader - INFO: 0 MiniSEED files [0.0 MB] already existed.\n",
      "[2021-11-25 00:47:38,965] - obspy.clients.fdsn.mass_downloader - INFO: 1 StationXML files [0.0 MB] already existed.\n",
      "[2021-11-25 00:47:38,969] - obspy.clients.fdsn.mass_downloader - INFO: Client 'GEONET' - Acquired 1 MiniSEED files [0.0 MB].\n",
      "[2021-11-25 00:47:38,970] - obspy.clients.fdsn.mass_downloader - INFO: Client 'GEONET' - Acquired 0 StationXML files [0.0 MB].\n",
      "[2021-11-25 00:47:38,971] - obspy.clients.fdsn.mass_downloader - INFO: Downloaded 0.0 MB in total.\n",
      "[2021-11-25 00:47:38,985] - obspy.clients.fdsn.mass_downloader - INFO: Initializing FDSN client(s) for GEONET.\n",
      "[2021-11-25 00:47:39,004] - obspy.clients.fdsn.mass_downloader - INFO: Successfully initialized 1 client(s): GEONET.\n",
      "[2021-11-25 00:47:39,009] - obspy.clients.fdsn.mass_downloader - INFO: Total acquired or preexisting stations: 0\n",
      "[2021-11-25 00:47:39,011] - obspy.clients.fdsn.mass_downloader - INFO: Client 'GEONET' - Requesting unreliable availability.\n"
     ]
    },
    {
     "name": "stdout",
     "output_type": "stream",
     "text": [
      "=================================================================\n",
      "Initiating mass download request.\n"
     ]
    },
    {
     "name": "stderr",
     "output_type": "stream",
     "text": [
      "[2021-11-25 00:47:39,700] - obspy.clients.fdsn.mass_downloader - INFO: Client 'GEONET' - Successfully requested availability (0.69 seconds)\n",
      "[2021-11-25 00:47:39,709] - obspy.clients.fdsn.mass_downloader - INFO: Client 'GEONET' - Found 1 stations (1 channels).\n",
      "[2021-11-25 00:47:39,710] - obspy.clients.fdsn.mass_downloader - INFO: Client 'GEONET' - Will attempt to download data from 1 stations.\n",
      "[2021-11-25 00:47:39,710] - obspy.clients.fdsn.mass_downloader - INFO: Client 'GEONET' - Status for 1 time intervals/channels before downloading: NEEDS_DOWNLOADING\n",
      "[2021-11-25 00:47:40,724] - obspy.clients.fdsn.mass_downloader - INFO: Client 'GEONET' - Successfully downloaded 1 channels (of 1)\n",
      "[2021-11-25 00:47:40,733] - obspy.clients.fdsn.mass_downloader - INFO: Client 'GEONET' - Launching basic QC checks...\n",
      "[2021-11-25 00:47:40,752] - obspy.clients.fdsn.mass_downloader - INFO: Client 'GEONET' - Downloaded 0.0 MB [3.93 KB/sec] of data, 0.0 MB of which were discarded afterwards.\n",
      "[2021-11-25 00:47:40,754] - obspy.clients.fdsn.mass_downloader - INFO: Client 'GEONET' - Status for 1 time intervals/channels after downloading: DOWNLOADED\n",
      "[2021-11-25 00:47:40,758] - obspy.clients.fdsn.mass_downloader - INFO: Client 'GEONET' - No station information to download.\n",
      "[2021-11-25 00:47:40,759] - obspy.clients.fdsn.mass_downloader - INFO: ============================== Final report\n",
      "[2021-11-25 00:47:40,759] - obspy.clients.fdsn.mass_downloader - INFO: 0 MiniSEED files [0.0 MB] already existed.\n",
      "[2021-11-25 00:47:40,759] - obspy.clients.fdsn.mass_downloader - INFO: 1 StationXML files [0.0 MB] already existed.\n",
      "[2021-11-25 00:47:40,760] - obspy.clients.fdsn.mass_downloader - INFO: Client 'GEONET' - Acquired 1 MiniSEED files [0.0 MB].\n",
      "[2021-11-25 00:47:40,760] - obspy.clients.fdsn.mass_downloader - INFO: Client 'GEONET' - Acquired 0 StationXML files [0.0 MB].\n",
      "[2021-11-25 00:47:40,760] - obspy.clients.fdsn.mass_downloader - INFO: Downloaded 0.0 MB in total.\n",
      "[2021-11-25 00:47:40,767] - obspy.clients.fdsn.mass_downloader - INFO: Initializing FDSN client(s) for GEONET.\n",
      "[2021-11-25 00:47:40,771] - obspy.clients.fdsn.mass_downloader - INFO: Successfully initialized 1 client(s): GEONET.\n",
      "[2021-11-25 00:47:40,772] - obspy.clients.fdsn.mass_downloader - INFO: Total acquired or preexisting stations: 0\n",
      "[2021-11-25 00:47:40,772] - obspy.clients.fdsn.mass_downloader - INFO: Client 'GEONET' - Requesting unreliable availability.\n"
     ]
    },
    {
     "name": "stdout",
     "output_type": "stream",
     "text": [
      "=================================================================\n",
      "Initiating mass download request.\n"
     ]
    },
    {
     "name": "stderr",
     "output_type": "stream",
     "text": [
      "[2021-11-25 00:47:41,349] - obspy.clients.fdsn.mass_downloader - INFO: Client 'GEONET' - Successfully requested availability (0.58 seconds)\n",
      "[2021-11-25 00:47:41,357] - obspy.clients.fdsn.mass_downloader - INFO: Client 'GEONET' - Found 1 stations (1 channels).\n",
      "[2021-11-25 00:47:41,358] - obspy.clients.fdsn.mass_downloader - INFO: Client 'GEONET' - Will attempt to download data from 1 stations.\n",
      "[2021-11-25 00:47:41,360] - obspy.clients.fdsn.mass_downloader - INFO: Client 'GEONET' - Status for 1 time intervals/channels before downloading: NEEDS_DOWNLOADING\n",
      "[2021-11-25 00:47:42,417] - obspy.clients.fdsn.mass_downloader - INFO: Client 'GEONET' - Successfully downloaded 1 channels (of 1)\n",
      "[2021-11-25 00:47:42,424] - obspy.clients.fdsn.mass_downloader - INFO: Client 'GEONET' - Launching basic QC checks...\n",
      "[2021-11-25 00:47:42,432] - obspy.clients.fdsn.mass_downloader - INFO: Client 'GEONET' - Downloaded 0.0 MB [3.78 KB/sec] of data, 0.0 MB of which were discarded afterwards.\n",
      "[2021-11-25 00:47:42,432] - obspy.clients.fdsn.mass_downloader - INFO: Client 'GEONET' - Status for 1 time intervals/channels after downloading: DOWNLOADED\n",
      "[2021-11-25 00:47:42,434] - obspy.clients.fdsn.mass_downloader - INFO: Client 'GEONET' - No station information to download.\n",
      "[2021-11-25 00:47:42,435] - obspy.clients.fdsn.mass_downloader - INFO: ============================== Final report\n",
      "[2021-11-25 00:47:42,435] - obspy.clients.fdsn.mass_downloader - INFO: 0 MiniSEED files [0.0 MB] already existed.\n",
      "[2021-11-25 00:47:42,436] - obspy.clients.fdsn.mass_downloader - INFO: 1 StationXML files [0.0 MB] already existed.\n",
      "[2021-11-25 00:47:42,437] - obspy.clients.fdsn.mass_downloader - INFO: Client 'GEONET' - Acquired 1 MiniSEED files [0.0 MB].\n",
      "[2021-11-25 00:47:42,437] - obspy.clients.fdsn.mass_downloader - INFO: Client 'GEONET' - Acquired 0 StationXML files [0.0 MB].\n",
      "[2021-11-25 00:47:42,437] - obspy.clients.fdsn.mass_downloader - INFO: Downloaded 0.0 MB in total.\n",
      "[2021-11-25 00:47:42,443] - obspy.clients.fdsn.mass_downloader - INFO: Initializing FDSN client(s) for GEONET.\n",
      "[2021-11-25 00:47:42,449] - obspy.clients.fdsn.mass_downloader - INFO: Successfully initialized 1 client(s): GEONET.\n",
      "[2021-11-25 00:47:42,450] - obspy.clients.fdsn.mass_downloader - INFO: Total acquired or preexisting stations: 0\n",
      "[2021-11-25 00:47:42,450] - obspy.clients.fdsn.mass_downloader - INFO: Client 'GEONET' - Requesting unreliable availability.\n"
     ]
    },
    {
     "name": "stdout",
     "output_type": "stream",
     "text": [
      "=================================================================\n",
      "Initiating mass download request.\n"
     ]
    },
    {
     "name": "stderr",
     "output_type": "stream",
     "text": [
      "[2021-11-25 00:47:43,117] - obspy.clients.fdsn.mass_downloader - INFO: Client 'GEONET' - Successfully requested availability (0.67 seconds)\n",
      "[2021-11-25 00:47:43,126] - obspy.clients.fdsn.mass_downloader - INFO: Client 'GEONET' - Found 1 stations (1 channels).\n",
      "[2021-11-25 00:47:43,137] - obspy.clients.fdsn.mass_downloader - INFO: Client 'GEONET' - Will attempt to download data from 1 stations.\n",
      "[2021-11-25 00:47:43,149] - obspy.clients.fdsn.mass_downloader - INFO: Client 'GEONET' - Status for 1 time intervals/channels before downloading: NEEDS_DOWNLOADING\n",
      "[2021-11-25 00:47:44,120] - obspy.clients.fdsn.mass_downloader - INFO: Client 'GEONET' - Successfully downloaded 1 channels (of 1)\n",
      "[2021-11-25 00:47:44,123] - obspy.clients.fdsn.mass_downloader - INFO: Client 'GEONET' - Launching basic QC checks...\n",
      "[2021-11-25 00:47:44,132] - obspy.clients.fdsn.mass_downloader - INFO: Client 'GEONET' - Downloaded 0.0 MB [2.61 KB/sec] of data, 0.0 MB of which were discarded afterwards.\n",
      "[2021-11-25 00:47:44,132] - obspy.clients.fdsn.mass_downloader - INFO: Client 'GEONET' - Status for 1 time intervals/channels after downloading: DOWNLOADED\n",
      "[2021-11-25 00:47:44,134] - obspy.clients.fdsn.mass_downloader - INFO: Client 'GEONET' - No station information to download.\n",
      "[2021-11-25 00:47:44,135] - obspy.clients.fdsn.mass_downloader - INFO: ============================== Final report\n",
      "[2021-11-25 00:47:44,135] - obspy.clients.fdsn.mass_downloader - INFO: 0 MiniSEED files [0.0 MB] already existed.\n",
      "[2021-11-25 00:47:44,135] - obspy.clients.fdsn.mass_downloader - INFO: 1 StationXML files [0.0 MB] already existed.\n",
      "[2021-11-25 00:47:44,136] - obspy.clients.fdsn.mass_downloader - INFO: Client 'GEONET' - Acquired 1 MiniSEED files [0.0 MB].\n",
      "[2021-11-25 00:47:44,136] - obspy.clients.fdsn.mass_downloader - INFO: Client 'GEONET' - Acquired 0 StationXML files [0.0 MB].\n",
      "[2021-11-25 00:47:44,136] - obspy.clients.fdsn.mass_downloader - INFO: Downloaded 0.0 MB in total.\n",
      "[2021-11-25 00:47:44,141] - obspy.clients.fdsn.mass_downloader - INFO: Initializing FDSN client(s) for GEONET.\n",
      "[2021-11-25 00:47:44,144] - obspy.clients.fdsn.mass_downloader - INFO: Successfully initialized 1 client(s): GEONET.\n",
      "[2021-11-25 00:47:44,145] - obspy.clients.fdsn.mass_downloader - INFO: Total acquired or preexisting stations: 0\n",
      "[2021-11-25 00:47:44,145] - obspy.clients.fdsn.mass_downloader - INFO: Client 'GEONET' - Requesting unreliable availability.\n"
     ]
    },
    {
     "name": "stdout",
     "output_type": "stream",
     "text": [
      "=================================================================\n",
      "Initiating mass download request.\n"
     ]
    },
    {
     "name": "stderr",
     "output_type": "stream",
     "text": [
      "[2021-11-25 00:47:44,697] - obspy.clients.fdsn.mass_downloader - INFO: Client 'GEONET' - Successfully requested availability (0.55 seconds)\n",
      "[2021-11-25 00:47:44,709] - obspy.clients.fdsn.mass_downloader - INFO: Client 'GEONET' - Found 1 stations (1 channels).\n",
      "[2021-11-25 00:47:44,718] - obspy.clients.fdsn.mass_downloader - INFO: Client 'GEONET' - Will attempt to download data from 1 stations.\n",
      "[2021-11-25 00:47:44,726] - obspy.clients.fdsn.mass_downloader - INFO: Client 'GEONET' - Status for 1 time intervals/channels before downloading: NEEDS_DOWNLOADING\n",
      "[2021-11-25 00:47:45,870] - obspy.clients.fdsn.mass_downloader - INFO: Client 'GEONET' - Successfully downloaded 1 channels (of 1)\n",
      "[2021-11-25 00:47:45,879] - obspy.clients.fdsn.mass_downloader - INFO: Client 'GEONET' - Launching basic QC checks...\n",
      "[2021-11-25 00:47:45,888] - obspy.clients.fdsn.mass_downloader - INFO: Client 'GEONET' - Downloaded 0.0 MB [3.56 KB/sec] of data, 0.0 MB of which were discarded afterwards.\n",
      "[2021-11-25 00:47:45,889] - obspy.clients.fdsn.mass_downloader - INFO: Client 'GEONET' - Status for 1 time intervals/channels after downloading: DOWNLOADED\n",
      "[2021-11-25 00:47:45,891] - obspy.clients.fdsn.mass_downloader - INFO: Client 'GEONET' - No station information to download.\n",
      "[2021-11-25 00:47:45,892] - obspy.clients.fdsn.mass_downloader - INFO: ============================== Final report\n",
      "[2021-11-25 00:47:45,892] - obspy.clients.fdsn.mass_downloader - INFO: 0 MiniSEED files [0.0 MB] already existed.\n",
      "[2021-11-25 00:47:45,892] - obspy.clients.fdsn.mass_downloader - INFO: 1 StationXML files [0.0 MB] already existed.\n",
      "[2021-11-25 00:47:45,893] - obspy.clients.fdsn.mass_downloader - INFO: Client 'GEONET' - Acquired 1 MiniSEED files [0.0 MB].\n",
      "[2021-11-25 00:47:45,893] - obspy.clients.fdsn.mass_downloader - INFO: Client 'GEONET' - Acquired 0 StationXML files [0.0 MB].\n",
      "[2021-11-25 00:47:45,893] - obspy.clients.fdsn.mass_downloader - INFO: Downloaded 0.0 MB in total.\n",
      "[2021-11-25 00:47:45,896] - obspy.clients.fdsn.mass_downloader - INFO: Initializing FDSN client(s) for GEONET.\n",
      "[2021-11-25 00:47:45,899] - obspy.clients.fdsn.mass_downloader - INFO: Successfully initialized 1 client(s): GEONET.\n",
      "[2021-11-25 00:47:45,902] - obspy.clients.fdsn.mass_downloader - INFO: Total acquired or preexisting stations: 0\n",
      "[2021-11-25 00:47:45,902] - obspy.clients.fdsn.mass_downloader - INFO: Client 'GEONET' - Requesting unreliable availability.\n"
     ]
    },
    {
     "name": "stdout",
     "output_type": "stream",
     "text": [
      "=================================================================\n",
      "Initiating mass download request.\n"
     ]
    },
    {
     "name": "stderr",
     "output_type": "stream",
     "text": [
      "[2021-11-25 00:47:46,457] - obspy.clients.fdsn.mass_downloader - INFO: Client 'GEONET' - Successfully requested availability (0.55 seconds)\n",
      "[2021-11-25 00:47:46,458] - obspy.clients.fdsn.mass_downloader - INFO: Client 'GEONET' - Found 1 stations (1 channels).\n",
      "[2021-11-25 00:47:46,458] - obspy.clients.fdsn.mass_downloader - INFO: Client 'GEONET' - Will attempt to download data from 1 stations.\n",
      "[2021-11-25 00:47:46,459] - obspy.clients.fdsn.mass_downloader - INFO: Client 'GEONET' - Status for 1 time intervals/channels before downloading: NEEDS_DOWNLOADING\n",
      "[2021-11-25 00:47:47,341] - obspy.clients.fdsn.mass_downloader - INFO: Client 'GEONET' - Successfully downloaded 1 channels (of 1)\n",
      "[2021-11-25 00:47:47,349] - obspy.clients.fdsn.mass_downloader - INFO: Client 'GEONET' - Launching basic QC checks...\n",
      "[2021-11-25 00:47:47,368] - obspy.clients.fdsn.mass_downloader - INFO: Client 'GEONET' - Downloaded 0.0 MB [3.37 KB/sec] of data, 0.0 MB of which were discarded afterwards.\n",
      "[2021-11-25 00:47:47,370] - obspy.clients.fdsn.mass_downloader - INFO: Client 'GEONET' - Status for 1 time intervals/channels after downloading: DOWNLOADED\n",
      "[2021-11-25 00:47:47,375] - obspy.clients.fdsn.mass_downloader - INFO: Client 'GEONET' - No station information to download.\n",
      "[2021-11-25 00:47:47,379] - obspy.clients.fdsn.mass_downloader - INFO: ============================== Final report\n",
      "[2021-11-25 00:47:47,379] - obspy.clients.fdsn.mass_downloader - INFO: 0 MiniSEED files [0.0 MB] already existed.\n",
      "[2021-11-25 00:47:47,381] - obspy.clients.fdsn.mass_downloader - INFO: 1 StationXML files [0.0 MB] already existed.\n",
      "[2021-11-25 00:47:47,381] - obspy.clients.fdsn.mass_downloader - INFO: Client 'GEONET' - Acquired 1 MiniSEED files [0.0 MB].\n",
      "[2021-11-25 00:47:47,381] - obspy.clients.fdsn.mass_downloader - INFO: Client 'GEONET' - Acquired 0 StationXML files [0.0 MB].\n",
      "[2021-11-25 00:47:47,383] - obspy.clients.fdsn.mass_downloader - INFO: Downloaded 0.0 MB in total.\n",
      "[2021-11-25 00:47:47,391] - obspy.clients.fdsn.mass_downloader - INFO: Initializing FDSN client(s) for GEONET.\n",
      "[2021-11-25 00:47:47,401] - obspy.clients.fdsn.mass_downloader - INFO: Successfully initialized 1 client(s): GEONET.\n",
      "[2021-11-25 00:47:47,404] - obspy.clients.fdsn.mass_downloader - INFO: Total acquired or preexisting stations: 0\n",
      "[2021-11-25 00:47:47,405] - obspy.clients.fdsn.mass_downloader - INFO: Client 'GEONET' - Requesting unreliable availability.\n"
     ]
    },
    {
     "name": "stdout",
     "output_type": "stream",
     "text": [
      "=================================================================\n",
      "Initiating mass download request.\n"
     ]
    },
    {
     "name": "stderr",
     "output_type": "stream",
     "text": [
      "[2021-11-25 00:47:47,951] - obspy.clients.fdsn.mass_downloader - INFO: Client 'GEONET' - Successfully requested availability (0.55 seconds)\n",
      "[2021-11-25 00:47:47,952] - obspy.clients.fdsn.mass_downloader - INFO: Client 'GEONET' - Found 1 stations (1 channels).\n",
      "[2021-11-25 00:47:47,952] - obspy.clients.fdsn.mass_downloader - INFO: Client 'GEONET' - Will attempt to download data from 1 stations.\n",
      "[2021-11-25 00:47:47,952] - obspy.clients.fdsn.mass_downloader - INFO: Client 'GEONET' - Status for 1 time intervals/channels before downloading: NEEDS_DOWNLOADING\n",
      "[2021-11-25 00:47:49,017] - obspy.clients.fdsn.mass_downloader - INFO: Client 'GEONET' - Successfully downloaded 1 channels (of 1)\n",
      "[2021-11-25 00:47:49,029] - obspy.clients.fdsn.mass_downloader - INFO: Client 'GEONET' - Launching basic QC checks...\n",
      "[2021-11-25 00:47:49,041] - obspy.clients.fdsn.mass_downloader - INFO: Client 'GEONET' - Downloaded 0.0 MB [3.72 KB/sec] of data, 0.0 MB of which were discarded afterwards.\n",
      "[2021-11-25 00:47:49,042] - obspy.clients.fdsn.mass_downloader - INFO: Client 'GEONET' - Status for 1 time intervals/channels after downloading: DOWNLOADED\n",
      "[2021-11-25 00:47:49,049] - obspy.clients.fdsn.mass_downloader - INFO: Client 'GEONET' - No station information to download.\n",
      "[2021-11-25 00:47:49,050] - obspy.clients.fdsn.mass_downloader - INFO: ============================== Final report\n",
      "[2021-11-25 00:47:49,051] - obspy.clients.fdsn.mass_downloader - INFO: 0 MiniSEED files [0.0 MB] already existed.\n",
      "[2021-11-25 00:47:49,052] - obspy.clients.fdsn.mass_downloader - INFO: 1 StationXML files [0.0 MB] already existed.\n",
      "[2021-11-25 00:47:49,056] - obspy.clients.fdsn.mass_downloader - INFO: Client 'GEONET' - Acquired 1 MiniSEED files [0.0 MB].\n",
      "[2021-11-25 00:47:49,056] - obspy.clients.fdsn.mass_downloader - INFO: Client 'GEONET' - Acquired 0 StationXML files [0.0 MB].\n",
      "[2021-11-25 00:47:49,057] - obspy.clients.fdsn.mass_downloader - INFO: Downloaded 0.0 MB in total.\n",
      "[2021-11-25 00:47:49,060] - obspy.clients.fdsn.mass_downloader - INFO: Initializing FDSN client(s) for GEONET.\n",
      "[2021-11-25 00:47:49,076] - obspy.clients.fdsn.mass_downloader - INFO: Successfully initialized 1 client(s): GEONET.\n",
      "[2021-11-25 00:47:49,081] - obspy.clients.fdsn.mass_downloader - INFO: Total acquired or preexisting stations: 0\n",
      "[2021-11-25 00:47:49,083] - obspy.clients.fdsn.mass_downloader - INFO: Client 'GEONET' - Requesting unreliable availability.\n"
     ]
    },
    {
     "name": "stdout",
     "output_type": "stream",
     "text": [
      "=================================================================\n",
      "Initiating mass download request.\n"
     ]
    },
    {
     "name": "stderr",
     "output_type": "stream",
     "text": [
      "[2021-11-25 00:47:49,641] - obspy.clients.fdsn.mass_downloader - INFO: Client 'GEONET' - Successfully requested availability (0.56 seconds)\n",
      "[2021-11-25 00:47:49,644] - obspy.clients.fdsn.mass_downloader - INFO: Client 'GEONET' - Found 1 stations (1 channels).\n",
      "[2021-11-25 00:47:49,646] - obspy.clients.fdsn.mass_downloader - INFO: Client 'GEONET' - Will attempt to download data from 1 stations.\n",
      "[2021-11-25 00:47:49,649] - obspy.clients.fdsn.mass_downloader - INFO: Client 'GEONET' - Status for 1 time intervals/channels before downloading: NEEDS_DOWNLOADING\n",
      "[2021-11-25 00:47:50,758] - obspy.clients.fdsn.mass_downloader - INFO: Client 'GEONET' - Successfully downloaded 1 channels (of 1)\n",
      "[2021-11-25 00:47:50,773] - obspy.clients.fdsn.mass_downloader - INFO: Client 'GEONET' - Launching basic QC checks...\n",
      "[2021-11-25 00:47:50,789] - obspy.clients.fdsn.mass_downloader - INFO: Client 'GEONET' - Downloaded 0.0 MB [6.69 KB/sec] of data, 0.0 MB of which were discarded afterwards.\n",
      "[2021-11-25 00:47:50,791] - obspy.clients.fdsn.mass_downloader - INFO: Client 'GEONET' - Status for 1 time intervals/channels after downloading: DOWNLOADED\n",
      "[2021-11-25 00:47:50,800] - obspy.clients.fdsn.mass_downloader - INFO: Client 'GEONET' - No station information to download.\n",
      "[2021-11-25 00:47:50,803] - obspy.clients.fdsn.mass_downloader - INFO: ============================== Final report\n",
      "[2021-11-25 00:47:50,805] - obspy.clients.fdsn.mass_downloader - INFO: 0 MiniSEED files [0.0 MB] already existed.\n",
      "[2021-11-25 00:47:50,806] - obspy.clients.fdsn.mass_downloader - INFO: 1 StationXML files [0.0 MB] already existed.\n",
      "[2021-11-25 00:47:50,810] - obspy.clients.fdsn.mass_downloader - INFO: Client 'GEONET' - Acquired 1 MiniSEED files [0.0 MB].\n",
      "[2021-11-25 00:47:50,812] - obspy.clients.fdsn.mass_downloader - INFO: Client 'GEONET' - Acquired 0 StationXML files [0.0 MB].\n",
      "[2021-11-25 00:47:50,812] - obspy.clients.fdsn.mass_downloader - INFO: Downloaded 0.0 MB in total.\n",
      "[2021-11-25 00:47:50,815] - obspy.clients.fdsn.mass_downloader - INFO: Initializing FDSN client(s) for GEONET.\n",
      "[2021-11-25 00:47:50,835] - obspy.clients.fdsn.mass_downloader - INFO: Successfully initialized 1 client(s): GEONET.\n",
      "[2021-11-25 00:47:50,838] - obspy.clients.fdsn.mass_downloader - INFO: Total acquired or preexisting stations: 0\n",
      "[2021-11-25 00:47:50,838] - obspy.clients.fdsn.mass_downloader - INFO: Client 'GEONET' - Requesting unreliable availability.\n"
     ]
    },
    {
     "name": "stdout",
     "output_type": "stream",
     "text": [
      "=================================================================\n",
      "Initiating mass download request.\n"
     ]
    },
    {
     "name": "stderr",
     "output_type": "stream",
     "text": [
      "[2021-11-25 00:47:51,486] - obspy.clients.fdsn.mass_downloader - INFO: Client 'GEONET' - Successfully requested availability (0.65 seconds)\n",
      "[2021-11-25 00:47:51,492] - obspy.clients.fdsn.mass_downloader - INFO: Client 'GEONET' - Found 1 stations (1 channels).\n",
      "[2021-11-25 00:47:51,493] - obspy.clients.fdsn.mass_downloader - INFO: Client 'GEONET' - Will attempt to download data from 1 stations.\n",
      "[2021-11-25 00:47:51,494] - obspy.clients.fdsn.mass_downloader - INFO: Client 'GEONET' - Status for 1 time intervals/channels before downloading: NEEDS_DOWNLOADING\n",
      "[2021-11-25 00:47:52,440] - obspy.clients.fdsn.mass_downloader - INFO: Client 'GEONET' - Successfully downloaded 1 channels (of 1)\n",
      "[2021-11-25 00:47:52,443] - obspy.clients.fdsn.mass_downloader - INFO: Client 'GEONET' - Launching basic QC checks...\n",
      "[2021-11-25 00:47:52,460] - obspy.clients.fdsn.mass_downloader - INFO: Client 'GEONET' - Downloaded 0.0 MB [3.70 KB/sec] of data, 0.0 MB of which were discarded afterwards.\n",
      "[2021-11-25 00:47:52,461] - obspy.clients.fdsn.mass_downloader - INFO: Client 'GEONET' - Status for 1 time intervals/channels after downloading: DOWNLOADED\n",
      "[2021-11-25 00:47:52,470] - obspy.clients.fdsn.mass_downloader - INFO: Client 'GEONET' - No station information to download.\n",
      "[2021-11-25 00:47:52,471] - obspy.clients.fdsn.mass_downloader - INFO: ============================== Final report\n",
      "[2021-11-25 00:47:52,471] - obspy.clients.fdsn.mass_downloader - INFO: 0 MiniSEED files [0.0 MB] already existed.\n",
      "[2021-11-25 00:47:52,472] - obspy.clients.fdsn.mass_downloader - INFO: 1 StationXML files [0.0 MB] already existed.\n",
      "[2021-11-25 00:47:52,473] - obspy.clients.fdsn.mass_downloader - INFO: Client 'GEONET' - Acquired 1 MiniSEED files [0.0 MB].\n",
      "[2021-11-25 00:47:52,473] - obspy.clients.fdsn.mass_downloader - INFO: Client 'GEONET' - Acquired 0 StationXML files [0.0 MB].\n",
      "[2021-11-25 00:47:52,474] - obspy.clients.fdsn.mass_downloader - INFO: Downloaded 0.0 MB in total.\n",
      "[2021-11-25 00:47:52,481] - obspy.clients.fdsn.mass_downloader - INFO: Initializing FDSN client(s) for GEONET.\n",
      "[2021-11-25 00:47:52,510] - obspy.clients.fdsn.mass_downloader - INFO: Successfully initialized 1 client(s): GEONET.\n",
      "[2021-11-25 00:47:52,514] - obspy.clients.fdsn.mass_downloader - INFO: Total acquired or preexisting stations: 0\n",
      "[2021-11-25 00:47:52,515] - obspy.clients.fdsn.mass_downloader - INFO: Client 'GEONET' - Requesting unreliable availability.\n"
     ]
    },
    {
     "name": "stdout",
     "output_type": "stream",
     "text": [
      "=================================================================\n",
      "Initiating mass download request.\n"
     ]
    },
    {
     "name": "stderr",
     "output_type": "stream",
     "text": [
      "[2021-11-25 00:47:53,704] - obspy.clients.fdsn.mass_downloader - INFO: Client 'GEONET' - Successfully requested availability (1.19 seconds)\n",
      "[2021-11-25 00:47:53,726] - obspy.clients.fdsn.mass_downloader - INFO: Client 'GEONET' - Found 1 stations (1 channels).\n",
      "[2021-11-25 00:47:53,739] - obspy.clients.fdsn.mass_downloader - INFO: Client 'GEONET' - Will attempt to download data from 1 stations.\n",
      "[2021-11-25 00:47:53,741] - obspy.clients.fdsn.mass_downloader - INFO: Client 'GEONET' - Status for 1 time intervals/channels before downloading: NEEDS_DOWNLOADING\n",
      "[2021-11-25 00:47:54,857] - obspy.clients.fdsn.mass_downloader - INFO: Client 'GEONET' - Successfully downloaded 1 channels (of 1)\n",
      "[2021-11-25 00:47:54,866] - obspy.clients.fdsn.mass_downloader - INFO: Client 'GEONET' - Launching basic QC checks...\n",
      "[2021-11-25 00:47:54,875] - obspy.clients.fdsn.mass_downloader - INFO: Client 'GEONET' - Downloaded 0.0 MB [3.61 KB/sec] of data, 0.0 MB of which were discarded afterwards.\n",
      "[2021-11-25 00:47:54,876] - obspy.clients.fdsn.mass_downloader - INFO: Client 'GEONET' - Status for 1 time intervals/channels after downloading: DOWNLOADED\n",
      "[2021-11-25 00:47:54,883] - obspy.clients.fdsn.mass_downloader - INFO: Client 'GEONET' - No station information to download.\n",
      "[2021-11-25 00:47:54,884] - obspy.clients.fdsn.mass_downloader - INFO: ============================== Final report\n",
      "[2021-11-25 00:47:54,884] - obspy.clients.fdsn.mass_downloader - INFO: 0 MiniSEED files [0.0 MB] already existed.\n",
      "[2021-11-25 00:47:54,885] - obspy.clients.fdsn.mass_downloader - INFO: 1 StationXML files [0.0 MB] already existed.\n",
      "[2021-11-25 00:47:54,885] - obspy.clients.fdsn.mass_downloader - INFO: Client 'GEONET' - Acquired 1 MiniSEED files [0.0 MB].\n",
      "[2021-11-25 00:47:54,886] - obspy.clients.fdsn.mass_downloader - INFO: Client 'GEONET' - Acquired 0 StationXML files [0.0 MB].\n",
      "[2021-11-25 00:47:54,886] - obspy.clients.fdsn.mass_downloader - INFO: Downloaded 0.0 MB in total.\n",
      "[2021-11-25 00:47:54,892] - obspy.clients.fdsn.mass_downloader - INFO: Initializing FDSN client(s) for GEONET.\n",
      "[2021-11-25 00:47:54,904] - obspy.clients.fdsn.mass_downloader - INFO: Successfully initialized 1 client(s): GEONET.\n",
      "[2021-11-25 00:47:54,906] - obspy.clients.fdsn.mass_downloader - INFO: Total acquired or preexisting stations: 0\n",
      "[2021-11-25 00:47:54,907] - obspy.clients.fdsn.mass_downloader - INFO: Client 'GEONET' - Requesting unreliable availability.\n"
     ]
    },
    {
     "name": "stdout",
     "output_type": "stream",
     "text": [
      "=================================================================\n",
      "Initiating mass download request.\n"
     ]
    },
    {
     "name": "stderr",
     "output_type": "stream",
     "text": [
      "[2021-11-25 00:47:55,487] - obspy.clients.fdsn.mass_downloader - INFO: Client 'GEONET' - Successfully requested availability (0.58 seconds)\n",
      "[2021-11-25 00:47:55,487] - obspy.clients.fdsn.mass_downloader - INFO: Client 'GEONET' - Found 1 stations (1 channels).\n",
      "[2021-11-25 00:47:55,488] - obspy.clients.fdsn.mass_downloader - INFO: Client 'GEONET' - Will attempt to download data from 1 stations.\n",
      "[2021-11-25 00:47:55,489] - obspy.clients.fdsn.mass_downloader - INFO: Client 'GEONET' - Status for 1 time intervals/channels before downloading: NEEDS_DOWNLOADING\n",
      "[2021-11-25 00:47:56,673] - obspy.clients.fdsn.mass_downloader - INFO: Client 'GEONET' - Successfully downloaded 1 channels (of 1)\n",
      "[2021-11-25 00:47:56,732] - obspy.clients.fdsn.mass_downloader - INFO: Client 'GEONET' - Launching basic QC checks...\n",
      "[2021-11-25 00:47:56,751] - obspy.clients.fdsn.mass_downloader - INFO: Client 'GEONET' - Downloaded 0.0 MB [4.03 KB/sec] of data, 0.0 MB of which were discarded afterwards.\n",
      "[2021-11-25 00:47:56,759] - obspy.clients.fdsn.mass_downloader - INFO: Client 'GEONET' - Status for 1 time intervals/channels after downloading: DOWNLOADED\n",
      "[2021-11-25 00:47:56,774] - obspy.clients.fdsn.mass_downloader - INFO: Client 'GEONET' - No station information to download.\n",
      "[2021-11-25 00:47:56,782] - obspy.clients.fdsn.mass_downloader - INFO: ============================== Final report\n",
      "[2021-11-25 00:47:56,783] - obspy.clients.fdsn.mass_downloader - INFO: 0 MiniSEED files [0.0 MB] already existed.\n",
      "[2021-11-25 00:47:56,786] - obspy.clients.fdsn.mass_downloader - INFO: 1 StationXML files [0.0 MB] already existed.\n",
      "[2021-11-25 00:47:56,788] - obspy.clients.fdsn.mass_downloader - INFO: Client 'GEONET' - Acquired 1 MiniSEED files [0.0 MB].\n",
      "[2021-11-25 00:47:56,789] - obspy.clients.fdsn.mass_downloader - INFO: Client 'GEONET' - Acquired 0 StationXML files [0.0 MB].\n",
      "[2021-11-25 00:47:56,792] - obspy.clients.fdsn.mass_downloader - INFO: Downloaded 0.0 MB in total.\n",
      "[2021-11-25 00:47:56,808] - obspy.clients.fdsn.mass_downloader - INFO: Initializing FDSN client(s) for GEONET.\n",
      "[2021-11-25 00:47:56,821] - obspy.clients.fdsn.mass_downloader - INFO: Successfully initialized 1 client(s): GEONET.\n",
      "[2021-11-25 00:47:56,823] - obspy.clients.fdsn.mass_downloader - INFO: Total acquired or preexisting stations: 0\n",
      "[2021-11-25 00:47:56,824] - obspy.clients.fdsn.mass_downloader - INFO: Client 'GEONET' - Requesting unreliable availability.\n"
     ]
    },
    {
     "name": "stdout",
     "output_type": "stream",
     "text": [
      "=================================================================\n",
      "Initiating mass download request.\n"
     ]
    },
    {
     "name": "stderr",
     "output_type": "stream",
     "text": [
      "[2021-11-25 00:47:57,432] - obspy.clients.fdsn.mass_downloader - INFO: Client 'GEONET' - Successfully requested availability (0.60 seconds)\n",
      "[2021-11-25 00:47:57,436] - obspy.clients.fdsn.mass_downloader - INFO: Client 'GEONET' - Found 1 stations (1 channels).\n",
      "[2021-11-25 00:47:57,439] - obspy.clients.fdsn.mass_downloader - INFO: Client 'GEONET' - Will attempt to download data from 1 stations.\n",
      "[2021-11-25 00:47:57,439] - obspy.clients.fdsn.mass_downloader - INFO: Client 'GEONET' - Status for 1 time intervals/channels before downloading: NEEDS_DOWNLOADING\n",
      "[2021-11-25 00:47:58,693] - obspy.clients.fdsn.mass_downloader - INFO: Client 'GEONET' - Successfully downloaded 1 channels (of 1)\n",
      "[2021-11-25 00:47:58,703] - obspy.clients.fdsn.mass_downloader - INFO: Client 'GEONET' - Launching basic QC checks...\n",
      "[2021-11-25 00:47:58,719] - obspy.clients.fdsn.mass_downloader - INFO: Client 'GEONET' - Downloaded 0.0 MB [2.78 KB/sec] of data, 0.0 MB of which were discarded afterwards.\n",
      "[2021-11-25 00:47:58,723] - obspy.clients.fdsn.mass_downloader - INFO: Client 'GEONET' - Status for 1 time intervals/channels after downloading: DOWNLOADED\n",
      "[2021-11-25 00:47:58,730] - obspy.clients.fdsn.mass_downloader - INFO: Client 'GEONET' - No station information to download.\n",
      "[2021-11-25 00:47:58,731] - obspy.clients.fdsn.mass_downloader - INFO: ============================== Final report\n",
      "[2021-11-25 00:47:58,732] - obspy.clients.fdsn.mass_downloader - INFO: 0 MiniSEED files [0.0 MB] already existed.\n",
      "[2021-11-25 00:47:58,733] - obspy.clients.fdsn.mass_downloader - INFO: 1 StationXML files [0.0 MB] already existed.\n",
      "[2021-11-25 00:47:58,733] - obspy.clients.fdsn.mass_downloader - INFO: Client 'GEONET' - Acquired 1 MiniSEED files [0.0 MB].\n",
      "[2021-11-25 00:47:58,734] - obspy.clients.fdsn.mass_downloader - INFO: Client 'GEONET' - Acquired 0 StationXML files [0.0 MB].\n",
      "[2021-11-25 00:47:58,734] - obspy.clients.fdsn.mass_downloader - INFO: Downloaded 0.0 MB in total.\n",
      "[2021-11-25 00:47:58,739] - obspy.clients.fdsn.mass_downloader - INFO: Initializing FDSN client(s) for GEONET.\n",
      "[2021-11-25 00:47:58,749] - obspy.clients.fdsn.mass_downloader - INFO: Successfully initialized 1 client(s): GEONET.\n",
      "[2021-11-25 00:47:58,752] - obspy.clients.fdsn.mass_downloader - INFO: Total acquired or preexisting stations: 0\n",
      "[2021-11-25 00:47:58,753] - obspy.clients.fdsn.mass_downloader - INFO: Client 'GEONET' - Requesting unreliable availability.\n"
     ]
    },
    {
     "name": "stdout",
     "output_type": "stream",
     "text": [
      "=================================================================\n",
      "Initiating mass download request.\n"
     ]
    },
    {
     "name": "stderr",
     "output_type": "stream",
     "text": [
      "[2021-11-25 00:47:59,416] - obspy.clients.fdsn.mass_downloader - INFO: Client 'GEONET' - Successfully requested availability (0.66 seconds)\n",
      "[2021-11-25 00:47:59,423] - obspy.clients.fdsn.mass_downloader - INFO: Client 'GEONET' - Found 1 stations (1 channels).\n",
      "[2021-11-25 00:47:59,423] - obspy.clients.fdsn.mass_downloader - INFO: Client 'GEONET' - Will attempt to download data from 1 stations.\n",
      "[2021-11-25 00:47:59,424] - obspy.clients.fdsn.mass_downloader - INFO: Client 'GEONET' - Status for 1 time intervals/channels before downloading: NEEDS_DOWNLOADING\n",
      "[2021-11-25 00:48:00,916] - obspy.clients.fdsn.mass_downloader - INFO: Client 'GEONET' - Successfully downloaded 1 channels (of 1)\n",
      "[2021-11-25 00:48:00,919] - obspy.clients.fdsn.mass_downloader - INFO: Client 'GEONET' - Launching basic QC checks...\n",
      "[2021-11-25 00:48:00,924] - obspy.clients.fdsn.mass_downloader - INFO: Client 'GEONET' - Downloaded 0.0 MB [2.68 KB/sec] of data, 0.0 MB of which were discarded afterwards.\n",
      "[2021-11-25 00:48:00,925] - obspy.clients.fdsn.mass_downloader - INFO: Client 'GEONET' - Status for 1 time intervals/channels after downloading: DOWNLOADED\n",
      "[2021-11-25 00:48:00,927] - obspy.clients.fdsn.mass_downloader - INFO: Client 'GEONET' - No station information to download.\n",
      "[2021-11-25 00:48:00,928] - obspy.clients.fdsn.mass_downloader - INFO: ============================== Final report\n",
      "[2021-11-25 00:48:00,928] - obspy.clients.fdsn.mass_downloader - INFO: 0 MiniSEED files [0.0 MB] already existed.\n",
      "[2021-11-25 00:48:00,928] - obspy.clients.fdsn.mass_downloader - INFO: 1 StationXML files [0.0 MB] already existed.\n",
      "[2021-11-25 00:48:00,929] - obspy.clients.fdsn.mass_downloader - INFO: Client 'GEONET' - Acquired 1 MiniSEED files [0.0 MB].\n",
      "[2021-11-25 00:48:00,930] - obspy.clients.fdsn.mass_downloader - INFO: Client 'GEONET' - Acquired 0 StationXML files [0.0 MB].\n",
      "[2021-11-25 00:48:00,930] - obspy.clients.fdsn.mass_downloader - INFO: Downloaded 0.0 MB in total.\n",
      "[2021-11-25 00:48:00,937] - obspy.clients.fdsn.mass_downloader - INFO: Initializing FDSN client(s) for GEONET.\n",
      "[2021-11-25 00:48:00,942] - obspy.clients.fdsn.mass_downloader - INFO: Successfully initialized 1 client(s): GEONET.\n",
      "[2021-11-25 00:48:00,943] - obspy.clients.fdsn.mass_downloader - INFO: Total acquired or preexisting stations: 0\n",
      "[2021-11-25 00:48:00,943] - obspy.clients.fdsn.mass_downloader - INFO: Client 'GEONET' - Requesting unreliable availability.\n"
     ]
    },
    {
     "name": "stdout",
     "output_type": "stream",
     "text": [
      "=================================================================\n",
      "Initiating mass download request.\n"
     ]
    },
    {
     "name": "stderr",
     "output_type": "stream",
     "text": [
      "[2021-11-25 00:48:01,493] - obspy.clients.fdsn.mass_downloader - INFO: Client 'GEONET' - Successfully requested availability (0.55 seconds)\n",
      "[2021-11-25 00:48:01,495] - obspy.clients.fdsn.mass_downloader - INFO: Client 'GEONET' - Found 1 stations (1 channels).\n",
      "[2021-11-25 00:48:01,496] - obspy.clients.fdsn.mass_downloader - INFO: Client 'GEONET' - Will attempt to download data from 1 stations.\n",
      "[2021-11-25 00:48:01,497] - obspy.clients.fdsn.mass_downloader - INFO: Client 'GEONET' - Status for 1 time intervals/channels before downloading: NEEDS_DOWNLOADING\n",
      "[2021-11-25 00:48:02,415] - obspy.clients.fdsn.mass_downloader - INFO: Client 'GEONET' - Successfully downloaded 1 channels (of 1)\n",
      "[2021-11-25 00:48:02,425] - obspy.clients.fdsn.mass_downloader - INFO: Client 'GEONET' - Launching basic QC checks...\n",
      "[2021-11-25 00:48:02,457] - obspy.clients.fdsn.mass_downloader - INFO: Client 'GEONET' - Downloaded 0.0 MB [3.26 KB/sec] of data, 0.0 MB of which were discarded afterwards.\n",
      "[2021-11-25 00:48:02,458] - obspy.clients.fdsn.mass_downloader - INFO: Client 'GEONET' - Status for 1 time intervals/channels after downloading: DOWNLOADED\n",
      "[2021-11-25 00:48:02,463] - obspy.clients.fdsn.mass_downloader - INFO: Client 'GEONET' - No station information to download.\n",
      "[2021-11-25 00:48:02,465] - obspy.clients.fdsn.mass_downloader - INFO: ============================== Final report\n",
      "[2021-11-25 00:48:02,466] - obspy.clients.fdsn.mass_downloader - INFO: 0 MiniSEED files [0.0 MB] already existed.\n",
      "[2021-11-25 00:48:02,467] - obspy.clients.fdsn.mass_downloader - INFO: 1 StationXML files [0.0 MB] already existed.\n",
      "[2021-11-25 00:48:02,467] - obspy.clients.fdsn.mass_downloader - INFO: Client 'GEONET' - Acquired 1 MiniSEED files [0.0 MB].\n",
      "[2021-11-25 00:48:02,468] - obspy.clients.fdsn.mass_downloader - INFO: Client 'GEONET' - Acquired 0 StationXML files [0.0 MB].\n",
      "[2021-11-25 00:48:02,468] - obspy.clients.fdsn.mass_downloader - INFO: Downloaded 0.0 MB in total.\n",
      "[2021-11-25 00:48:02,477] - obspy.clients.fdsn.mass_downloader - INFO: Initializing FDSN client(s) for GEONET.\n",
      "[2021-11-25 00:48:02,489] - obspy.clients.fdsn.mass_downloader - INFO: Successfully initialized 1 client(s): GEONET.\n",
      "[2021-11-25 00:48:02,490] - obspy.clients.fdsn.mass_downloader - INFO: Total acquired or preexisting stations: 0\n",
      "[2021-11-25 00:48:02,491] - obspy.clients.fdsn.mass_downloader - INFO: Client 'GEONET' - Requesting unreliable availability.\n"
     ]
    },
    {
     "name": "stdout",
     "output_type": "stream",
     "text": [
      "=================================================================\n",
      "Initiating mass download request.\n"
     ]
    },
    {
     "name": "stderr",
     "output_type": "stream",
     "text": [
      "[2021-11-25 00:48:03,694] - obspy.clients.fdsn.mass_downloader - INFO: Client 'GEONET' - Successfully requested availability (1.20 seconds)\n",
      "[2021-11-25 00:48:03,696] - obspy.clients.fdsn.mass_downloader - INFO: Client 'GEONET' - Found 1 stations (1 channels).\n",
      "[2021-11-25 00:48:03,696] - obspy.clients.fdsn.mass_downloader - INFO: Client 'GEONET' - Will attempt to download data from 1 stations.\n",
      "[2021-11-25 00:48:03,697] - obspy.clients.fdsn.mass_downloader - INFO: Client 'GEONET' - Status for 1 time intervals/channels before downloading: NEEDS_DOWNLOADING\n",
      "[2021-11-25 00:48:04,960] - obspy.clients.fdsn.mass_downloader - INFO: Client 'GEONET' - Successfully downloaded 1 channels (of 1)\n",
      "[2021-11-25 00:48:04,970] - obspy.clients.fdsn.mass_downloader - INFO: Client 'GEONET' - Launching basic QC checks...\n",
      "[2021-11-25 00:48:04,984] - obspy.clients.fdsn.mass_downloader - INFO: Client 'GEONET' - Downloaded 0.0 MB [3.93 KB/sec] of data, 0.0 MB of which were discarded afterwards.\n",
      "[2021-11-25 00:48:04,985] - obspy.clients.fdsn.mass_downloader - INFO: Client 'GEONET' - Status for 1 time intervals/channels after downloading: DOWNLOADED\n",
      "[2021-11-25 00:48:04,997] - obspy.clients.fdsn.mass_downloader - INFO: Client 'GEONET' - No station information to download.\n",
      "[2021-11-25 00:48:05,060] - obspy.clients.fdsn.mass_downloader - INFO: ============================== Final report\n",
      "[2021-11-25 00:48:05,077] - obspy.clients.fdsn.mass_downloader - INFO: 0 MiniSEED files [0.0 MB] already existed.\n",
      "[2021-11-25 00:48:05,078] - obspy.clients.fdsn.mass_downloader - INFO: 1 StationXML files [0.0 MB] already existed.\n",
      "[2021-11-25 00:48:05,079] - obspy.clients.fdsn.mass_downloader - INFO: Client 'GEONET' - Acquired 1 MiniSEED files [0.0 MB].\n",
      "[2021-11-25 00:48:05,079] - obspy.clients.fdsn.mass_downloader - INFO: Client 'GEONET' - Acquired 0 StationXML files [0.0 MB].\n",
      "[2021-11-25 00:48:05,083] - obspy.clients.fdsn.mass_downloader - INFO: Downloaded 0.0 MB in total.\n",
      "[2021-11-25 00:48:05,143] - obspy.clients.fdsn.mass_downloader - INFO: Initializing FDSN client(s) for GEONET.\n",
      "[2021-11-25 00:48:05,172] - obspy.clients.fdsn.mass_downloader - INFO: Successfully initialized 1 client(s): GEONET.\n",
      "[2021-11-25 00:48:05,175] - obspy.clients.fdsn.mass_downloader - INFO: Total acquired or preexisting stations: 0\n",
      "[2021-11-25 00:48:05,178] - obspy.clients.fdsn.mass_downloader - INFO: Client 'GEONET' - Requesting unreliable availability.\n"
     ]
    },
    {
     "name": "stdout",
     "output_type": "stream",
     "text": [
      "=================================================================\n",
      "Initiating mass download request.\n"
     ]
    },
    {
     "name": "stderr",
     "output_type": "stream",
     "text": [
      "[2021-11-25 00:48:05,851] - obspy.clients.fdsn.mass_downloader - INFO: Client 'GEONET' - Successfully requested availability (0.67 seconds)\n",
      "[2021-11-25 00:48:05,857] - obspy.clients.fdsn.mass_downloader - INFO: Client 'GEONET' - Found 1 stations (1 channels).\n",
      "[2021-11-25 00:48:05,858] - obspy.clients.fdsn.mass_downloader - INFO: Client 'GEONET' - Will attempt to download data from 1 stations.\n",
      "[2021-11-25 00:48:05,859] - obspy.clients.fdsn.mass_downloader - INFO: Client 'GEONET' - Status for 1 time intervals/channels before downloading: NEEDS_DOWNLOADING\n",
      "[2021-11-25 00:48:06,828] - obspy.clients.fdsn.mass_downloader - INFO: Client 'GEONET' - Successfully downloaded 1 channels (of 1)\n",
      "[2021-11-25 00:48:06,840] - obspy.clients.fdsn.mass_downloader - INFO: Client 'GEONET' - Launching basic QC checks...\n",
      "[2021-11-25 00:48:06,852] - obspy.clients.fdsn.mass_downloader - INFO: Client 'GEONET' - Downloaded 0.0 MB [4.11 KB/sec] of data, 0.0 MB of which were discarded afterwards.\n",
      "[2021-11-25 00:48:06,857] - obspy.clients.fdsn.mass_downloader - INFO: Client 'GEONET' - Status for 1 time intervals/channels after downloading: DOWNLOADED\n",
      "[2021-11-25 00:48:06,865] - obspy.clients.fdsn.mass_downloader - INFO: Client 'GEONET' - No station information to download.\n",
      "[2021-11-25 00:48:06,872] - obspy.clients.fdsn.mass_downloader - INFO: ============================== Final report\n",
      "[2021-11-25 00:48:06,878] - obspy.clients.fdsn.mass_downloader - INFO: 0 MiniSEED files [0.0 MB] already existed.\n",
      "[2021-11-25 00:48:06,880] - obspy.clients.fdsn.mass_downloader - INFO: 1 StationXML files [0.0 MB] already existed.\n",
      "[2021-11-25 00:48:06,881] - obspy.clients.fdsn.mass_downloader - INFO: Client 'GEONET' - Acquired 1 MiniSEED files [0.0 MB].\n",
      "[2021-11-25 00:48:06,881] - obspy.clients.fdsn.mass_downloader - INFO: Client 'GEONET' - Acquired 0 StationXML files [0.0 MB].\n",
      "[2021-11-25 00:48:06,881] - obspy.clients.fdsn.mass_downloader - INFO: Downloaded 0.0 MB in total.\n",
      "[2021-11-25 00:48:06,893] - obspy.clients.fdsn.mass_downloader - INFO: Initializing FDSN client(s) for GEONET.\n",
      "[2021-11-25 00:48:06,902] - obspy.clients.fdsn.mass_downloader - INFO: Successfully initialized 1 client(s): GEONET.\n",
      "[2021-11-25 00:48:06,907] - obspy.clients.fdsn.mass_downloader - INFO: Total acquired or preexisting stations: 0\n",
      "[2021-11-25 00:48:06,908] - obspy.clients.fdsn.mass_downloader - INFO: Client 'GEONET' - Requesting unreliable availability.\n"
     ]
    },
    {
     "name": "stdout",
     "output_type": "stream",
     "text": [
      "=================================================================\n",
      "Initiating mass download request.\n"
     ]
    },
    {
     "name": "stderr",
     "output_type": "stream",
     "text": [
      "[2021-11-25 00:48:07,462] - obspy.clients.fdsn.mass_downloader - INFO: Client 'GEONET' - Successfully requested availability (0.55 seconds)\n",
      "[2021-11-25 00:48:07,485] - obspy.clients.fdsn.mass_downloader - INFO: Client 'GEONET' - Found 1 stations (1 channels).\n",
      "[2021-11-25 00:48:07,493] - obspy.clients.fdsn.mass_downloader - INFO: Client 'GEONET' - Will attempt to download data from 1 stations.\n",
      "[2021-11-25 00:48:07,495] - obspy.clients.fdsn.mass_downloader - INFO: Client 'GEONET' - Status for 1 time intervals/channels before downloading: NEEDS_DOWNLOADING\n",
      "[2021-11-25 00:48:08,589] - obspy.clients.fdsn.mass_downloader - INFO: Client 'GEONET' - Successfully downloaded 1 channels (of 1)\n",
      "[2021-11-25 00:48:08,607] - obspy.clients.fdsn.mass_downloader - INFO: Client 'GEONET' - Launching basic QC checks...\n",
      "[2021-11-25 00:48:08,618] - obspy.clients.fdsn.mass_downloader - INFO: Client 'GEONET' - Downloaded 0.0 MB [3.68 KB/sec] of data, 0.0 MB of which were discarded afterwards.\n",
      "[2021-11-25 00:48:08,619] - obspy.clients.fdsn.mass_downloader - INFO: Client 'GEONET' - Status for 1 time intervals/channels after downloading: DOWNLOADED\n",
      "[2021-11-25 00:48:08,622] - obspy.clients.fdsn.mass_downloader - INFO: Client 'GEONET' - No station information to download.\n",
      "[2021-11-25 00:48:08,627] - obspy.clients.fdsn.mass_downloader - INFO: ============================== Final report\n",
      "[2021-11-25 00:48:08,629] - obspy.clients.fdsn.mass_downloader - INFO: 0 MiniSEED files [0.0 MB] already existed.\n",
      "[2021-11-25 00:48:08,630] - obspy.clients.fdsn.mass_downloader - INFO: 1 StationXML files [0.0 MB] already existed.\n",
      "[2021-11-25 00:48:08,631] - obspy.clients.fdsn.mass_downloader - INFO: Client 'GEONET' - Acquired 1 MiniSEED files [0.0 MB].\n",
      "[2021-11-25 00:48:08,633] - obspy.clients.fdsn.mass_downloader - INFO: Client 'GEONET' - Acquired 0 StationXML files [0.0 MB].\n",
      "[2021-11-25 00:48:08,634] - obspy.clients.fdsn.mass_downloader - INFO: Downloaded 0.0 MB in total.\n",
      "[2021-11-25 00:48:08,643] - obspy.clients.fdsn.mass_downloader - INFO: Initializing FDSN client(s) for GEONET.\n",
      "[2021-11-25 00:48:08,655] - obspy.clients.fdsn.mass_downloader - INFO: Successfully initialized 1 client(s): GEONET.\n",
      "[2021-11-25 00:48:08,660] - obspy.clients.fdsn.mass_downloader - INFO: Total acquired or preexisting stations: 0\n",
      "[2021-11-25 00:48:08,661] - obspy.clients.fdsn.mass_downloader - INFO: Client 'GEONET' - Requesting unreliable availability.\n"
     ]
    },
    {
     "name": "stdout",
     "output_type": "stream",
     "text": [
      "=================================================================\n",
      "Initiating mass download request.\n"
     ]
    },
    {
     "name": "stderr",
     "output_type": "stream",
     "text": [
      "[2021-11-25 00:48:09,267] - obspy.clients.fdsn.mass_downloader - INFO: Client 'GEONET' - Successfully requested availability (0.61 seconds)\n",
      "[2021-11-25 00:48:09,278] - obspy.clients.fdsn.mass_downloader - INFO: Client 'GEONET' - Found 1 stations (1 channels).\n",
      "[2021-11-25 00:48:09,286] - obspy.clients.fdsn.mass_downloader - INFO: Client 'GEONET' - Will attempt to download data from 1 stations.\n",
      "[2021-11-25 00:48:09,287] - obspy.clients.fdsn.mass_downloader - INFO: Client 'GEONET' - Status for 1 time intervals/channels before downloading: NEEDS_DOWNLOADING\n",
      "[2021-11-25 00:48:10,491] - obspy.clients.fdsn.mass_downloader - INFO: Client 'GEONET' - Successfully downloaded 1 channels (of 1)\n",
      "[2021-11-25 00:48:10,553] - obspy.clients.fdsn.mass_downloader - INFO: Client 'GEONET' - Launching basic QC checks...\n",
      "[2021-11-25 00:48:10,577] - obspy.clients.fdsn.mass_downloader - INFO: Client 'GEONET' - Downloaded 0.0 MB [3.61 KB/sec] of data, 0.0 MB of which were discarded afterwards.\n",
      "[2021-11-25 00:48:10,583] - obspy.clients.fdsn.mass_downloader - INFO: Client 'GEONET' - Status for 1 time intervals/channels after downloading: DOWNLOADED\n",
      "[2021-11-25 00:48:10,594] - obspy.clients.fdsn.mass_downloader - INFO: Client 'GEONET' - No station information to download.\n",
      "[2021-11-25 00:48:10,599] - obspy.clients.fdsn.mass_downloader - INFO: ============================== Final report\n",
      "[2021-11-25 00:48:10,600] - obspy.clients.fdsn.mass_downloader - INFO: 0 MiniSEED files [0.0 MB] already existed.\n",
      "[2021-11-25 00:48:10,601] - obspy.clients.fdsn.mass_downloader - INFO: 1 StationXML files [0.0 MB] already existed.\n",
      "[2021-11-25 00:48:10,602] - obspy.clients.fdsn.mass_downloader - INFO: Client 'GEONET' - Acquired 1 MiniSEED files [0.0 MB].\n",
      "[2021-11-25 00:48:10,602] - obspy.clients.fdsn.mass_downloader - INFO: Client 'GEONET' - Acquired 0 StationXML files [0.0 MB].\n",
      "[2021-11-25 00:48:10,603] - obspy.clients.fdsn.mass_downloader - INFO: Downloaded 0.0 MB in total.\n",
      "[2021-11-25 00:48:10,612] - obspy.clients.fdsn.mass_downloader - INFO: Initializing FDSN client(s) for GEONET.\n",
      "[2021-11-25 00:48:10,634] - obspy.clients.fdsn.mass_downloader - INFO: Successfully initialized 1 client(s): GEONET.\n",
      "[2021-11-25 00:48:10,636] - obspy.clients.fdsn.mass_downloader - INFO: Total acquired or preexisting stations: 0\n",
      "[2021-11-25 00:48:10,637] - obspy.clients.fdsn.mass_downloader - INFO: Client 'GEONET' - Requesting unreliable availability.\n"
     ]
    },
    {
     "name": "stdout",
     "output_type": "stream",
     "text": [
      "=================================================================\n",
      "Initiating mass download request.\n"
     ]
    },
    {
     "name": "stderr",
     "output_type": "stream",
     "text": [
      "[2021-11-25 00:48:11,214] - obspy.clients.fdsn.mass_downloader - INFO: Client 'GEONET' - Successfully requested availability (0.58 seconds)\n",
      "[2021-11-25 00:48:11,224] - obspy.clients.fdsn.mass_downloader - INFO: Client 'GEONET' - Found 1 stations (1 channels).\n",
      "[2021-11-25 00:48:11,230] - obspy.clients.fdsn.mass_downloader - INFO: Client 'GEONET' - Will attempt to download data from 1 stations.\n",
      "[2021-11-25 00:48:11,233] - obspy.clients.fdsn.mass_downloader - INFO: Client 'GEONET' - Status for 1 time intervals/channels before downloading: NEEDS_DOWNLOADING\n",
      "[2021-11-25 00:48:12,577] - obspy.clients.fdsn.mass_downloader - INFO: Client 'GEONET' - Successfully downloaded 1 channels (of 1)\n",
      "[2021-11-25 00:48:12,706] - obspy.clients.fdsn.mass_downloader - INFO: Client 'GEONET' - Launching basic QC checks...\n",
      "[2021-11-25 00:48:12,760] - obspy.clients.fdsn.mass_downloader - INFO: Client 'GEONET' - Downloaded 0.0 MB [2.73 KB/sec] of data, 0.0 MB of which were discarded afterwards.\n",
      "[2021-11-25 00:48:12,765] - obspy.clients.fdsn.mass_downloader - INFO: Client 'GEONET' - Status for 1 time intervals/channels after downloading: DOWNLOADED\n",
      "[2021-11-25 00:48:12,782] - obspy.clients.fdsn.mass_downloader - INFO: Client 'GEONET' - No station information to download.\n",
      "[2021-11-25 00:48:12,787] - obspy.clients.fdsn.mass_downloader - INFO: ============================== Final report\n",
      "[2021-11-25 00:48:12,788] - obspy.clients.fdsn.mass_downloader - INFO: 0 MiniSEED files [0.0 MB] already existed.\n",
      "[2021-11-25 00:48:12,790] - obspy.clients.fdsn.mass_downloader - INFO: 1 StationXML files [0.0 MB] already existed.\n",
      "[2021-11-25 00:48:12,790] - obspy.clients.fdsn.mass_downloader - INFO: Client 'GEONET' - Acquired 1 MiniSEED files [0.0 MB].\n",
      "[2021-11-25 00:48:12,791] - obspy.clients.fdsn.mass_downloader - INFO: Client 'GEONET' - Acquired 0 StationXML files [0.0 MB].\n",
      "[2021-11-25 00:48:12,791] - obspy.clients.fdsn.mass_downloader - INFO: Downloaded 0.0 MB in total.\n",
      "[2021-11-25 00:48:12,799] - obspy.clients.fdsn.mass_downloader - INFO: Initializing FDSN client(s) for GEONET.\n",
      "[2021-11-25 00:48:12,850] - obspy.clients.fdsn.mass_downloader - INFO: Successfully initialized 1 client(s): GEONET.\n",
      "[2021-11-25 00:48:12,853] - obspy.clients.fdsn.mass_downloader - INFO: Total acquired or preexisting stations: 0\n",
      "[2021-11-25 00:48:12,854] - obspy.clients.fdsn.mass_downloader - INFO: Client 'GEONET' - Requesting unreliable availability.\n"
     ]
    },
    {
     "name": "stdout",
     "output_type": "stream",
     "text": [
      "=================================================================\n",
      "Initiating mass download request.\n"
     ]
    },
    {
     "name": "stderr",
     "output_type": "stream",
     "text": [
      "[2021-11-25 00:48:13,458] - obspy.clients.fdsn.mass_downloader - INFO: Client 'GEONET' - Successfully requested availability (0.60 seconds)\n",
      "[2021-11-25 00:48:13,464] - obspy.clients.fdsn.mass_downloader - INFO: Client 'GEONET' - Found 1 stations (1 channels).\n",
      "[2021-11-25 00:48:13,470] - obspy.clients.fdsn.mass_downloader - INFO: Client 'GEONET' - Will attempt to download data from 1 stations.\n",
      "[2021-11-25 00:48:13,475] - obspy.clients.fdsn.mass_downloader - INFO: Client 'GEONET' - Status for 1 time intervals/channels before downloading: NEEDS_DOWNLOADING\n",
      "[2021-11-25 00:48:14,748] - obspy.clients.fdsn.mass_downloader - INFO: Client 'GEONET' - Successfully downloaded 1 channels (of 1)\n",
      "[2021-11-25 00:48:14,759] - obspy.clients.fdsn.mass_downloader - INFO: Client 'GEONET' - Launching basic QC checks...\n",
      "[2021-11-25 00:48:14,777] - obspy.clients.fdsn.mass_downloader - INFO: Client 'GEONET' - Downloaded 0.0 MB [6.29 KB/sec] of data, 0.0 MB of which were discarded afterwards.\n",
      "[2021-11-25 00:48:14,779] - obspy.clients.fdsn.mass_downloader - INFO: Client 'GEONET' - Status for 1 time intervals/channels after downloading: DOWNLOADED\n",
      "[2021-11-25 00:48:14,782] - obspy.clients.fdsn.mass_downloader - INFO: Client 'GEONET' - No station information to download.\n",
      "[2021-11-25 00:48:14,786] - obspy.clients.fdsn.mass_downloader - INFO: ============================== Final report\n",
      "[2021-11-25 00:48:14,788] - obspy.clients.fdsn.mass_downloader - INFO: 0 MiniSEED files [0.0 MB] already existed.\n",
      "[2021-11-25 00:48:14,790] - obspy.clients.fdsn.mass_downloader - INFO: 1 StationXML files [0.0 MB] already existed.\n",
      "[2021-11-25 00:48:14,792] - obspy.clients.fdsn.mass_downloader - INFO: Client 'GEONET' - Acquired 1 MiniSEED files [0.0 MB].\n",
      "[2021-11-25 00:48:14,793] - obspy.clients.fdsn.mass_downloader - INFO: Client 'GEONET' - Acquired 0 StationXML files [0.0 MB].\n",
      "[2021-11-25 00:48:14,799] - obspy.clients.fdsn.mass_downloader - INFO: Downloaded 0.0 MB in total.\n",
      "[2021-11-25 00:48:14,814] - obspy.clients.fdsn.mass_downloader - INFO: Initializing FDSN client(s) for GEONET.\n",
      "[2021-11-25 00:48:14,825] - obspy.clients.fdsn.mass_downloader - INFO: Successfully initialized 1 client(s): GEONET.\n",
      "[2021-11-25 00:48:14,827] - obspy.clients.fdsn.mass_downloader - INFO: Total acquired or preexisting stations: 0\n",
      "[2021-11-25 00:48:14,828] - obspy.clients.fdsn.mass_downloader - INFO: Client 'GEONET' - Requesting unreliable availability.\n"
     ]
    },
    {
     "name": "stdout",
     "output_type": "stream",
     "text": [
      "=================================================================\n",
      "Initiating mass download request.\n"
     ]
    },
    {
     "name": "stderr",
     "output_type": "stream",
     "text": [
      "[2021-11-25 00:48:15,373] - obspy.clients.fdsn.mass_downloader - INFO: Client 'GEONET' - Successfully requested availability (0.54 seconds)\n",
      "[2021-11-25 00:48:15,395] - obspy.clients.fdsn.mass_downloader - INFO: Client 'GEONET' - Found 1 stations (1 channels).\n",
      "[2021-11-25 00:48:15,407] - obspy.clients.fdsn.mass_downloader - INFO: Client 'GEONET' - Will attempt to download data from 1 stations.\n",
      "[2021-11-25 00:48:15,426] - obspy.clients.fdsn.mass_downloader - INFO: Client 'GEONET' - Status for 1 time intervals/channels before downloading: NEEDS_DOWNLOADING\n",
      "[2021-11-25 00:48:16,300] - obspy.clients.fdsn.mass_downloader - INFO: Client 'GEONET' - Successfully downloaded 1 channels (of 1)\n",
      "[2021-11-25 00:48:16,308] - obspy.clients.fdsn.mass_downloader - INFO: Client 'GEONET' - Launching basic QC checks...\n",
      "[2021-11-25 00:48:16,313] - obspy.clients.fdsn.mass_downloader - INFO: Client 'GEONET' - Downloaded 0.0 MB [3.56 KB/sec] of data, 0.0 MB of which were discarded afterwards.\n",
      "[2021-11-25 00:48:16,314] - obspy.clients.fdsn.mass_downloader - INFO: Client 'GEONET' - Status for 1 time intervals/channels after downloading: DOWNLOADED\n",
      "[2021-11-25 00:48:16,320] - obspy.clients.fdsn.mass_downloader - INFO: Client 'GEONET' - No station information to download.\n",
      "[2021-11-25 00:48:16,321] - obspy.clients.fdsn.mass_downloader - INFO: ============================== Final report\n",
      "[2021-11-25 00:48:16,322] - obspy.clients.fdsn.mass_downloader - INFO: 0 MiniSEED files [0.0 MB] already existed.\n",
      "[2021-11-25 00:48:16,322] - obspy.clients.fdsn.mass_downloader - INFO: 1 StationXML files [0.0 MB] already existed.\n",
      "[2021-11-25 00:48:16,323] - obspy.clients.fdsn.mass_downloader - INFO: Client 'GEONET' - Acquired 1 MiniSEED files [0.0 MB].\n",
      "[2021-11-25 00:48:16,324] - obspy.clients.fdsn.mass_downloader - INFO: Client 'GEONET' - Acquired 0 StationXML files [0.0 MB].\n",
      "[2021-11-25 00:48:16,324] - obspy.clients.fdsn.mass_downloader - INFO: Downloaded 0.0 MB in total.\n",
      "[2021-11-25 00:48:16,341] - obspy.clients.fdsn.mass_downloader - INFO: Initializing FDSN client(s) for GEONET.\n",
      "[2021-11-25 00:48:16,346] - obspy.clients.fdsn.mass_downloader - INFO: Successfully initialized 1 client(s): GEONET.\n",
      "[2021-11-25 00:48:16,351] - obspy.clients.fdsn.mass_downloader - INFO: Total acquired or preexisting stations: 0\n",
      "[2021-11-25 00:48:16,352] - obspy.clients.fdsn.mass_downloader - INFO: Client 'GEONET' - Requesting unreliable availability.\n"
     ]
    },
    {
     "name": "stdout",
     "output_type": "stream",
     "text": [
      "=================================================================\n",
      "Initiating mass download request.\n"
     ]
    },
    {
     "name": "stderr",
     "output_type": "stream",
     "text": [
      "[2021-11-25 00:48:16,915] - obspy.clients.fdsn.mass_downloader - INFO: Client 'GEONET' - Successfully requested availability (0.56 seconds)\n",
      "[2021-11-25 00:48:16,918] - obspy.clients.fdsn.mass_downloader - INFO: Client 'GEONET' - Found 1 stations (1 channels).\n",
      "[2021-11-25 00:48:16,922] - obspy.clients.fdsn.mass_downloader - INFO: Client 'GEONET' - Will attempt to download data from 1 stations.\n",
      "[2021-11-25 00:48:16,925] - obspy.clients.fdsn.mass_downloader - INFO: Client 'GEONET' - Status for 1 time intervals/channels before downloading: NEEDS_DOWNLOADING\n",
      "[2021-11-25 00:48:17,778] - obspy.clients.fdsn.mass_downloader - INFO: Client 'GEONET' - Successfully downloaded 1 channels (of 1)\n",
      "[2021-11-25 00:48:17,828] - obspy.clients.fdsn.mass_downloader - INFO: Client 'GEONET' - Launching basic QC checks...\n",
      "[2021-11-25 00:48:17,853] - obspy.clients.fdsn.mass_downloader - INFO: Client 'GEONET' - Downloaded 0.0 MB [4.47 KB/sec] of data, 0.0 MB of which were discarded afterwards.\n",
      "[2021-11-25 00:48:17,862] - obspy.clients.fdsn.mass_downloader - INFO: Client 'GEONET' - Status for 1 time intervals/channels after downloading: DOWNLOADED\n",
      "[2021-11-25 00:48:17,908] - obspy.clients.fdsn.mass_downloader - INFO: Client 'GEONET' - No station information to download.\n",
      "[2021-11-25 00:48:17,915] - obspy.clients.fdsn.mass_downloader - INFO: ============================== Final report\n",
      "[2021-11-25 00:48:17,920] - obspy.clients.fdsn.mass_downloader - INFO: 0 MiniSEED files [0.0 MB] already existed.\n",
      "[2021-11-25 00:48:17,928] - obspy.clients.fdsn.mass_downloader - INFO: 1 StationXML files [0.0 MB] already existed.\n",
      "[2021-11-25 00:48:17,934] - obspy.clients.fdsn.mass_downloader - INFO: Client 'GEONET' - Acquired 1 MiniSEED files [0.0 MB].\n",
      "[2021-11-25 00:48:17,936] - obspy.clients.fdsn.mass_downloader - INFO: Client 'GEONET' - Acquired 0 StationXML files [0.0 MB].\n",
      "[2021-11-25 00:48:17,936] - obspy.clients.fdsn.mass_downloader - INFO: Downloaded 0.0 MB in total.\n",
      "[2021-11-25 00:48:17,942] - obspy.clients.fdsn.mass_downloader - INFO: Initializing FDSN client(s) for GEONET.\n",
      "[2021-11-25 00:48:17,997] - obspy.clients.fdsn.mass_downloader - INFO: Successfully initialized 1 client(s): GEONET.\n",
      "[2021-11-25 00:48:18,004] - obspy.clients.fdsn.mass_downloader - INFO: Total acquired or preexisting stations: 0\n",
      "[2021-11-25 00:48:18,006] - obspy.clients.fdsn.mass_downloader - INFO: Client 'GEONET' - Requesting unreliable availability.\n"
     ]
    },
    {
     "name": "stdout",
     "output_type": "stream",
     "text": [
      "=================================================================\n",
      "Initiating mass download request.\n"
     ]
    },
    {
     "name": "stderr",
     "output_type": "stream",
     "text": [
      "[2021-11-25 00:48:18,609] - obspy.clients.fdsn.mass_downloader - INFO: Client 'GEONET' - Successfully requested availability (0.60 seconds)\n",
      "[2021-11-25 00:48:18,615] - obspy.clients.fdsn.mass_downloader - INFO: Client 'GEONET' - Found 1 stations (1 channels).\n",
      "[2021-11-25 00:48:18,621] - obspy.clients.fdsn.mass_downloader - INFO: Client 'GEONET' - Will attempt to download data from 1 stations.\n",
      "[2021-11-25 00:48:18,625] - obspy.clients.fdsn.mass_downloader - INFO: Client 'GEONET' - Status for 1 time intervals/channels before downloading: NEEDS_DOWNLOADING\n",
      "[2021-11-25 00:48:19,694] - obspy.clients.fdsn.mass_downloader - INFO: Client 'GEONET' - Successfully downloaded 1 channels (of 1)\n",
      "[2021-11-25 00:48:19,707] - obspy.clients.fdsn.mass_downloader - INFO: Client 'GEONET' - Launching basic QC checks...\n",
      "[2021-11-25 00:48:19,724] - obspy.clients.fdsn.mass_downloader - INFO: Client 'GEONET' - Downloaded 0.0 MB [4.66 KB/sec] of data, 0.0 MB of which were discarded afterwards.\n",
      "[2021-11-25 00:48:19,725] - obspy.clients.fdsn.mass_downloader - INFO: Client 'GEONET' - Status for 1 time intervals/channels after downloading: DOWNLOADED\n",
      "[2021-11-25 00:48:19,729] - obspy.clients.fdsn.mass_downloader - INFO: Client 'GEONET' - No station information to download.\n",
      "[2021-11-25 00:48:19,732] - obspy.clients.fdsn.mass_downloader - INFO: ============================== Final report\n",
      "[2021-11-25 00:48:19,738] - obspy.clients.fdsn.mass_downloader - INFO: 0 MiniSEED files [0.0 MB] already existed.\n",
      "[2021-11-25 00:48:19,739] - obspy.clients.fdsn.mass_downloader - INFO: 1 StationXML files [0.0 MB] already existed.\n",
      "[2021-11-25 00:48:19,740] - obspy.clients.fdsn.mass_downloader - INFO: Client 'GEONET' - Acquired 1 MiniSEED files [0.0 MB].\n",
      "[2021-11-25 00:48:19,740] - obspy.clients.fdsn.mass_downloader - INFO: Client 'GEONET' - Acquired 0 StationXML files [0.0 MB].\n",
      "[2021-11-25 00:48:19,740] - obspy.clients.fdsn.mass_downloader - INFO: Downloaded 0.0 MB in total.\n",
      "[2021-11-25 00:48:19,744] - obspy.clients.fdsn.mass_downloader - INFO: Initializing FDSN client(s) for GEONET.\n",
      "[2021-11-25 00:48:19,748] - obspy.clients.fdsn.mass_downloader - INFO: Successfully initialized 1 client(s): GEONET.\n",
      "[2021-11-25 00:48:19,753] - obspy.clients.fdsn.mass_downloader - INFO: Total acquired or preexisting stations: 0\n",
      "[2021-11-25 00:48:19,756] - obspy.clients.fdsn.mass_downloader - INFO: Client 'GEONET' - Requesting unreliable availability.\n"
     ]
    },
    {
     "name": "stdout",
     "output_type": "stream",
     "text": [
      "=================================================================\n",
      "Initiating mass download request.\n"
     ]
    },
    {
     "name": "stderr",
     "output_type": "stream",
     "text": [
      "[2021-11-25 00:48:20,353] - obspy.clients.fdsn.mass_downloader - INFO: Client 'GEONET' - Successfully requested availability (0.60 seconds)\n",
      "[2021-11-25 00:48:20,361] - obspy.clients.fdsn.mass_downloader - INFO: Client 'GEONET' - Found 1 stations (1 channels).\n",
      "[2021-11-25 00:48:20,367] - obspy.clients.fdsn.mass_downloader - INFO: Client 'GEONET' - Will attempt to download data from 1 stations.\n",
      "[2021-11-25 00:48:20,372] - obspy.clients.fdsn.mass_downloader - INFO: Client 'GEONET' - Status for 1 time intervals/channels before downloading: NEEDS_DOWNLOADING\n",
      "[2021-11-25 00:48:21,266] - obspy.clients.fdsn.mass_downloader - INFO: Client 'GEONET' - Successfully downloaded 1 channels (of 1)\n",
      "[2021-11-25 00:48:21,282] - obspy.clients.fdsn.mass_downloader - INFO: Client 'GEONET' - Launching basic QC checks...\n",
      "[2021-11-25 00:48:21,294] - obspy.clients.fdsn.mass_downloader - INFO: Client 'GEONET' - Downloaded 0.0 MB [4.45 KB/sec] of data, 0.0 MB of which were discarded afterwards.\n",
      "[2021-11-25 00:48:21,295] - obspy.clients.fdsn.mass_downloader - INFO: Client 'GEONET' - Status for 1 time intervals/channels after downloading: DOWNLOADED\n",
      "[2021-11-25 00:48:21,301] - obspy.clients.fdsn.mass_downloader - INFO: Client 'GEONET' - No station information to download.\n",
      "[2021-11-25 00:48:21,303] - obspy.clients.fdsn.mass_downloader - INFO: ============================== Final report\n",
      "[2021-11-25 00:48:21,303] - obspy.clients.fdsn.mass_downloader - INFO: 0 MiniSEED files [0.0 MB] already existed.\n",
      "[2021-11-25 00:48:21,304] - obspy.clients.fdsn.mass_downloader - INFO: 1 StationXML files [0.0 MB] already existed.\n",
      "[2021-11-25 00:48:21,305] - obspy.clients.fdsn.mass_downloader - INFO: Client 'GEONET' - Acquired 1 MiniSEED files [0.0 MB].\n",
      "[2021-11-25 00:48:21,305] - obspy.clients.fdsn.mass_downloader - INFO: Client 'GEONET' - Acquired 0 StationXML files [0.0 MB].\n",
      "[2021-11-25 00:48:21,306] - obspy.clients.fdsn.mass_downloader - INFO: Downloaded 0.0 MB in total.\n",
      "[2021-11-25 00:48:21,309] - obspy.clients.fdsn.mass_downloader - INFO: Initializing FDSN client(s) for GEONET.\n",
      "[2021-11-25 00:48:21,313] - obspy.clients.fdsn.mass_downloader - INFO: Successfully initialized 1 client(s): GEONET.\n",
      "[2021-11-25 00:48:21,315] - obspy.clients.fdsn.mass_downloader - INFO: Total acquired or preexisting stations: 0\n",
      "[2021-11-25 00:48:21,315] - obspy.clients.fdsn.mass_downloader - INFO: Client 'GEONET' - Requesting unreliable availability.\n"
     ]
    },
    {
     "name": "stdout",
     "output_type": "stream",
     "text": [
      "=================================================================\n",
      "Initiating mass download request.\n"
     ]
    },
    {
     "name": "stderr",
     "output_type": "stream",
     "text": [
      "[2021-11-25 00:48:21,991] - obspy.clients.fdsn.mass_downloader - INFO: Client 'GEONET' - Successfully requested availability (0.68 seconds)\n",
      "[2021-11-25 00:48:21,997] - obspy.clients.fdsn.mass_downloader - INFO: Client 'GEONET' - Found 1 stations (1 channels).\n",
      "[2021-11-25 00:48:22,002] - obspy.clients.fdsn.mass_downloader - INFO: Client 'GEONET' - Will attempt to download data from 1 stations.\n",
      "[2021-11-25 00:48:22,004] - obspy.clients.fdsn.mass_downloader - INFO: Client 'GEONET' - Status for 1 time intervals/channels before downloading: NEEDS_DOWNLOADING\n",
      "[2021-11-25 00:48:22,966] - obspy.clients.fdsn.mass_downloader - INFO: Client 'GEONET' - Successfully downloaded 1 channels (of 1)\n",
      "[2021-11-25 00:48:22,976] - obspy.clients.fdsn.mass_downloader - INFO: Client 'GEONET' - Launching basic QC checks...\n",
      "[2021-11-25 00:48:22,986] - obspy.clients.fdsn.mass_downloader - INFO: Client 'GEONET' - Downloaded 0.0 MB [3.62 KB/sec] of data, 0.0 MB of which were discarded afterwards.\n",
      "[2021-11-25 00:48:22,986] - obspy.clients.fdsn.mass_downloader - INFO: Client 'GEONET' - Status for 1 time intervals/channels after downloading: DOWNLOADED\n",
      "[2021-11-25 00:48:22,989] - obspy.clients.fdsn.mass_downloader - INFO: Client 'GEONET' - No station information to download.\n",
      "[2021-11-25 00:48:22,990] - obspy.clients.fdsn.mass_downloader - INFO: ============================== Final report\n",
      "[2021-11-25 00:48:22,990] - obspy.clients.fdsn.mass_downloader - INFO: 0 MiniSEED files [0.0 MB] already existed.\n",
      "[2021-11-25 00:48:22,990] - obspy.clients.fdsn.mass_downloader - INFO: 1 StationXML files [0.0 MB] already existed.\n",
      "[2021-11-25 00:48:22,991] - obspy.clients.fdsn.mass_downloader - INFO: Client 'GEONET' - Acquired 1 MiniSEED files [0.0 MB].\n",
      "[2021-11-25 00:48:22,992] - obspy.clients.fdsn.mass_downloader - INFO: Client 'GEONET' - Acquired 0 StationXML files [0.0 MB].\n",
      "[2021-11-25 00:48:22,993] - obspy.clients.fdsn.mass_downloader - INFO: Downloaded 0.0 MB in total.\n",
      "[2021-11-25 00:48:22,999] - obspy.clients.fdsn.mass_downloader - INFO: Initializing FDSN client(s) for GEONET.\n",
      "[2021-11-25 00:48:23,006] - obspy.clients.fdsn.mass_downloader - INFO: Successfully initialized 1 client(s): GEONET.\n",
      "[2021-11-25 00:48:23,009] - obspy.clients.fdsn.mass_downloader - INFO: Total acquired or preexisting stations: 0\n",
      "[2021-11-25 00:48:23,010] - obspy.clients.fdsn.mass_downloader - INFO: Client 'GEONET' - Requesting unreliable availability.\n"
     ]
    },
    {
     "name": "stdout",
     "output_type": "stream",
     "text": [
      "=================================================================\n",
      "Initiating mass download request.\n"
     ]
    },
    {
     "name": "stderr",
     "output_type": "stream",
     "text": [
      "[2021-11-25 00:48:23,550] - obspy.clients.fdsn.mass_downloader - INFO: Client 'GEONET' - Successfully requested availability (0.54 seconds)\n",
      "[2021-11-25 00:48:23,552] - obspy.clients.fdsn.mass_downloader - INFO: Client 'GEONET' - Found 1 stations (1 channels).\n",
      "[2021-11-25 00:48:23,552] - obspy.clients.fdsn.mass_downloader - INFO: Client 'GEONET' - Will attempt to download data from 1 stations.\n",
      "[2021-11-25 00:48:23,554] - obspy.clients.fdsn.mass_downloader - INFO: Client 'GEONET' - Status for 1 time intervals/channels before downloading: NEEDS_DOWNLOADING\n",
      "[2021-11-25 00:48:24,429] - obspy.clients.fdsn.mass_downloader - INFO: Client 'GEONET' - Successfully downloaded 1 channels (of 1)\n",
      "[2021-11-25 00:48:24,450] - obspy.clients.fdsn.mass_downloader - INFO: Client 'GEONET' - Launching basic QC checks...\n",
      "[2021-11-25 00:48:24,462] - obspy.clients.fdsn.mass_downloader - INFO: Client 'GEONET' - Downloaded 0.0 MB [3.36 KB/sec] of data, 0.0 MB of which were discarded afterwards.\n",
      "[2021-11-25 00:48:24,466] - obspy.clients.fdsn.mass_downloader - INFO: Client 'GEONET' - Status for 1 time intervals/channels after downloading: DOWNLOADED\n",
      "[2021-11-25 00:48:24,474] - obspy.clients.fdsn.mass_downloader - INFO: Client 'GEONET' - No station information to download.\n",
      "[2021-11-25 00:48:24,476] - obspy.clients.fdsn.mass_downloader - INFO: ============================== Final report\n",
      "[2021-11-25 00:48:24,476] - obspy.clients.fdsn.mass_downloader - INFO: 0 MiniSEED files [0.0 MB] already existed.\n",
      "[2021-11-25 00:48:24,477] - obspy.clients.fdsn.mass_downloader - INFO: 1 StationXML files [0.0 MB] already existed.\n",
      "[2021-11-25 00:48:24,478] - obspy.clients.fdsn.mass_downloader - INFO: Client 'GEONET' - Acquired 1 MiniSEED files [0.0 MB].\n",
      "[2021-11-25 00:48:24,479] - obspy.clients.fdsn.mass_downloader - INFO: Client 'GEONET' - Acquired 0 StationXML files [0.0 MB].\n",
      "[2021-11-25 00:48:24,479] - obspy.clients.fdsn.mass_downloader - INFO: Downloaded 0.0 MB in total.\n",
      "[2021-11-25 00:48:24,502] - obspy.clients.fdsn.mass_downloader - INFO: Initializing FDSN client(s) for GEONET.\n",
      "[2021-11-25 00:48:24,532] - obspy.clients.fdsn.mass_downloader - INFO: Successfully initialized 1 client(s): GEONET.\n",
      "[2021-11-25 00:48:24,542] - obspy.clients.fdsn.mass_downloader - INFO: Total acquired or preexisting stations: 0\n",
      "[2021-11-25 00:48:24,543] - obspy.clients.fdsn.mass_downloader - INFO: Client 'GEONET' - Requesting unreliable availability.\n"
     ]
    },
    {
     "name": "stdout",
     "output_type": "stream",
     "text": [
      "=================================================================\n",
      "Initiating mass download request.\n"
     ]
    },
    {
     "name": "stderr",
     "output_type": "stream",
     "text": [
      "[2021-11-25 00:48:25,126] - obspy.clients.fdsn.mass_downloader - INFO: Client 'GEONET' - Successfully requested availability (0.58 seconds)\n",
      "[2021-11-25 00:48:25,134] - obspy.clients.fdsn.mass_downloader - INFO: Client 'GEONET' - Found 1 stations (1 channels).\n",
      "[2021-11-25 00:48:25,135] - obspy.clients.fdsn.mass_downloader - INFO: Client 'GEONET' - Will attempt to download data from 1 stations.\n",
      "[2021-11-25 00:48:25,137] - obspy.clients.fdsn.mass_downloader - INFO: Client 'GEONET' - Status for 1 time intervals/channels before downloading: NEEDS_DOWNLOADING\n",
      "[2021-11-25 00:48:26,655] - obspy.clients.fdsn.mass_downloader - INFO: Client 'GEONET' - Successfully downloaded 1 channels (of 1)\n",
      "[2021-11-25 00:48:26,658] - obspy.clients.fdsn.mass_downloader - INFO: Client 'GEONET' - Launching basic QC checks...\n",
      "[2021-11-25 00:48:26,667] - obspy.clients.fdsn.mass_downloader - INFO: Client 'GEONET' - Downloaded 0.0 MB [2.97 KB/sec] of data, 0.0 MB of which were discarded afterwards.\n",
      "[2021-11-25 00:48:26,668] - obspy.clients.fdsn.mass_downloader - INFO: Client 'GEONET' - Status for 1 time intervals/channels after downloading: DOWNLOADED\n",
      "[2021-11-25 00:48:26,673] - obspy.clients.fdsn.mass_downloader - INFO: Client 'GEONET' - No station information to download.\n",
      "[2021-11-25 00:48:26,674] - obspy.clients.fdsn.mass_downloader - INFO: ============================== Final report\n",
      "[2021-11-25 00:48:26,674] - obspy.clients.fdsn.mass_downloader - INFO: 0 MiniSEED files [0.0 MB] already existed.\n",
      "[2021-11-25 00:48:26,675] - obspy.clients.fdsn.mass_downloader - INFO: 1 StationXML files [0.0 MB] already existed.\n",
      "[2021-11-25 00:48:26,675] - obspy.clients.fdsn.mass_downloader - INFO: Client 'GEONET' - Acquired 1 MiniSEED files [0.0 MB].\n",
      "[2021-11-25 00:48:26,676] - obspy.clients.fdsn.mass_downloader - INFO: Client 'GEONET' - Acquired 0 StationXML files [0.0 MB].\n",
      "[2021-11-25 00:48:26,677] - obspy.clients.fdsn.mass_downloader - INFO: Downloaded 0.0 MB in total.\n",
      "[2021-11-25 00:48:26,680] - obspy.clients.fdsn.mass_downloader - INFO: Initializing FDSN client(s) for GEONET.\n",
      "[2021-11-25 00:48:26,687] - obspy.clients.fdsn.mass_downloader - INFO: Successfully initialized 1 client(s): GEONET.\n",
      "[2021-11-25 00:48:26,688] - obspy.clients.fdsn.mass_downloader - INFO: Total acquired or preexisting stations: 0\n",
      "[2021-11-25 00:48:26,688] - obspy.clients.fdsn.mass_downloader - INFO: Client 'GEONET' - Requesting unreliable availability.\n"
     ]
    },
    {
     "name": "stdout",
     "output_type": "stream",
     "text": [
      "=================================================================\n",
      "Initiating mass download request.\n"
     ]
    },
    {
     "name": "stderr",
     "output_type": "stream",
     "text": [
      "[2021-11-25 00:48:27,268] - obspy.clients.fdsn.mass_downloader - INFO: Client 'GEONET' - Successfully requested availability (0.58 seconds)\n",
      "[2021-11-25 00:48:27,273] - obspy.clients.fdsn.mass_downloader - INFO: Client 'GEONET' - Found 1 stations (1 channels).\n",
      "[2021-11-25 00:48:27,275] - obspy.clients.fdsn.mass_downloader - INFO: Client 'GEONET' - Will attempt to download data from 1 stations.\n",
      "[2021-11-25 00:48:27,279] - obspy.clients.fdsn.mass_downloader - INFO: Client 'GEONET' - Status for 1 time intervals/channels before downloading: NEEDS_DOWNLOADING\n",
      "[2021-11-25 00:48:28,143] - obspy.clients.fdsn.mass_downloader - INFO: Client 'GEONET' - Successfully downloaded 1 channels (of 1)\n",
      "[2021-11-25 00:48:28,159] - obspy.clients.fdsn.mass_downloader - INFO: Client 'GEONET' - Launching basic QC checks...\n",
      "[2021-11-25 00:48:28,189] - obspy.clients.fdsn.mass_downloader - INFO: Client 'GEONET' - Downloaded 0.0 MB [3.42 KB/sec] of data, 0.0 MB of which were discarded afterwards.\n",
      "[2021-11-25 00:48:28,191] - obspy.clients.fdsn.mass_downloader - INFO: Client 'GEONET' - Status for 1 time intervals/channels after downloading: DOWNLOADED\n",
      "[2021-11-25 00:48:28,197] - obspy.clients.fdsn.mass_downloader - INFO: Client 'GEONET' - No station information to download.\n",
      "[2021-11-25 00:48:28,198] - obspy.clients.fdsn.mass_downloader - INFO: ============================== Final report\n",
      "[2021-11-25 00:48:28,199] - obspy.clients.fdsn.mass_downloader - INFO: 0 MiniSEED files [0.0 MB] already existed.\n",
      "[2021-11-25 00:48:28,199] - obspy.clients.fdsn.mass_downloader - INFO: 1 StationXML files [0.0 MB] already existed.\n",
      "[2021-11-25 00:48:28,200] - obspy.clients.fdsn.mass_downloader - INFO: Client 'GEONET' - Acquired 1 MiniSEED files [0.0 MB].\n",
      "[2021-11-25 00:48:28,200] - obspy.clients.fdsn.mass_downloader - INFO: Client 'GEONET' - Acquired 0 StationXML files [0.0 MB].\n",
      "[2021-11-25 00:48:28,202] - obspy.clients.fdsn.mass_downloader - INFO: Downloaded 0.0 MB in total.\n",
      "[2021-11-25 00:48:28,211] - obspy.clients.fdsn.mass_downloader - INFO: Initializing FDSN client(s) for GEONET.\n",
      "[2021-11-25 00:48:28,219] - obspy.clients.fdsn.mass_downloader - INFO: Successfully initialized 1 client(s): GEONET.\n",
      "[2021-11-25 00:48:28,220] - obspy.clients.fdsn.mass_downloader - INFO: Total acquired or preexisting stations: 0\n",
      "[2021-11-25 00:48:28,220] - obspy.clients.fdsn.mass_downloader - INFO: Client 'GEONET' - Requesting unreliable availability.\n"
     ]
    },
    {
     "name": "stdout",
     "output_type": "stream",
     "text": [
      "=================================================================\n",
      "Initiating mass download request.\n"
     ]
    },
    {
     "name": "stderr",
     "output_type": "stream",
     "text": [
      "[2021-11-25 00:48:28,832] - obspy.clients.fdsn.mass_downloader - INFO: Client 'GEONET' - Successfully requested availability (0.61 seconds)\n",
      "[2021-11-25 00:48:28,833] - obspy.clients.fdsn.mass_downloader - INFO: Client 'GEONET' - Found 1 stations (1 channels).\n",
      "[2021-11-25 00:48:28,833] - obspy.clients.fdsn.mass_downloader - INFO: Client 'GEONET' - Will attempt to download data from 1 stations.\n",
      "[2021-11-25 00:48:28,834] - obspy.clients.fdsn.mass_downloader - INFO: Client 'GEONET' - Status for 1 time intervals/channels before downloading: NEEDS_DOWNLOADING\n",
      "[2021-11-25 00:48:30,242] - obspy.clients.fdsn.mass_downloader - INFO: Client 'GEONET' - Successfully downloaded 1 channels (of 1)\n",
      "[2021-11-25 00:48:30,254] - obspy.clients.fdsn.mass_downloader - INFO: Client 'GEONET' - Launching basic QC checks...\n",
      "[2021-11-25 00:48:30,268] - obspy.clients.fdsn.mass_downloader - INFO: Client 'GEONET' - Downloaded 0.0 MB [3.17 KB/sec] of data, 0.0 MB of which were discarded afterwards.\n",
      "[2021-11-25 00:48:30,269] - obspy.clients.fdsn.mass_downloader - INFO: Client 'GEONET' - Status for 1 time intervals/channels after downloading: DOWNLOADED\n",
      "[2021-11-25 00:48:30,271] - obspy.clients.fdsn.mass_downloader - INFO: Client 'GEONET' - No station information to download.\n",
      "[2021-11-25 00:48:30,272] - obspy.clients.fdsn.mass_downloader - INFO: ============================== Final report\n",
      "[2021-11-25 00:48:30,272] - obspy.clients.fdsn.mass_downloader - INFO: 0 MiniSEED files [0.0 MB] already existed.\n",
      "[2021-11-25 00:48:30,273] - obspy.clients.fdsn.mass_downloader - INFO: 1 StationXML files [0.0 MB] already existed.\n",
      "[2021-11-25 00:48:30,273] - obspy.clients.fdsn.mass_downloader - INFO: Client 'GEONET' - Acquired 1 MiniSEED files [0.0 MB].\n",
      "[2021-11-25 00:48:30,273] - obspy.clients.fdsn.mass_downloader - INFO: Client 'GEONET' - Acquired 0 StationXML files [0.0 MB].\n",
      "[2021-11-25 00:48:30,274] - obspy.clients.fdsn.mass_downloader - INFO: Downloaded 0.0 MB in total.\n",
      "[2021-11-25 00:48:30,276] - obspy.clients.fdsn.mass_downloader - INFO: Initializing FDSN client(s) for GEONET.\n",
      "[2021-11-25 00:48:30,284] - obspy.clients.fdsn.mass_downloader - INFO: Successfully initialized 1 client(s): GEONET.\n",
      "[2021-11-25 00:48:30,284] - obspy.clients.fdsn.mass_downloader - INFO: Total acquired or preexisting stations: 0\n",
      "[2021-11-25 00:48:30,285] - obspy.clients.fdsn.mass_downloader - INFO: Client 'GEONET' - Requesting unreliable availability.\n"
     ]
    },
    {
     "name": "stdout",
     "output_type": "stream",
     "text": [
      "=================================================================\n",
      "Initiating mass download request.\n"
     ]
    },
    {
     "name": "stderr",
     "output_type": "stream",
     "text": [
      "[2021-11-25 00:48:30,937] - obspy.clients.fdsn.mass_downloader - INFO: Client 'GEONET' - Successfully requested availability (0.65 seconds)\n",
      "[2021-11-25 00:48:30,968] - obspy.clients.fdsn.mass_downloader - INFO: Client 'GEONET' - Found 1 stations (1 channels).\n",
      "[2021-11-25 00:48:30,972] - obspy.clients.fdsn.mass_downloader - INFO: Client 'GEONET' - Will attempt to download data from 1 stations.\n",
      "[2021-11-25 00:48:30,975] - obspy.clients.fdsn.mass_downloader - INFO: Client 'GEONET' - Status for 1 time intervals/channels before downloading: NEEDS_DOWNLOADING\n",
      "[2021-11-25 00:48:31,965] - obspy.clients.fdsn.mass_downloader - INFO: Client 'GEONET' - Successfully downloaded 1 channels (of 1)\n",
      "[2021-11-25 00:48:31,968] - obspy.clients.fdsn.mass_downloader - INFO: Client 'GEONET' - Launching basic QC checks...\n",
      "[2021-11-25 00:48:31,985] - obspy.clients.fdsn.mass_downloader - INFO: Client 'GEONET' - Downloaded 0.0 MB [3.59 KB/sec] of data, 0.0 MB of which were discarded afterwards.\n",
      "[2021-11-25 00:48:31,985] - obspy.clients.fdsn.mass_downloader - INFO: Client 'GEONET' - Status for 1 time intervals/channels after downloading: DOWNLOADED\n",
      "[2021-11-25 00:48:31,987] - obspy.clients.fdsn.mass_downloader - INFO: Client 'GEONET' - No station information to download.\n",
      "[2021-11-25 00:48:31,988] - obspy.clients.fdsn.mass_downloader - INFO: ============================== Final report\n",
      "[2021-11-25 00:48:31,989] - obspy.clients.fdsn.mass_downloader - INFO: 0 MiniSEED files [0.0 MB] already existed.\n",
      "[2021-11-25 00:48:31,989] - obspy.clients.fdsn.mass_downloader - INFO: 1 StationXML files [0.0 MB] already existed.\n",
      "[2021-11-25 00:48:31,989] - obspy.clients.fdsn.mass_downloader - INFO: Client 'GEONET' - Acquired 1 MiniSEED files [0.0 MB].\n",
      "[2021-11-25 00:48:31,990] - obspy.clients.fdsn.mass_downloader - INFO: Client 'GEONET' - Acquired 0 StationXML files [0.0 MB].\n",
      "[2021-11-25 00:48:31,990] - obspy.clients.fdsn.mass_downloader - INFO: Downloaded 0.0 MB in total.\n",
      "[2021-11-25 00:48:31,992] - obspy.clients.fdsn.mass_downloader - INFO: Initializing FDSN client(s) for GEONET.\n",
      "[2021-11-25 00:48:31,996] - obspy.clients.fdsn.mass_downloader - INFO: Successfully initialized 1 client(s): GEONET.\n",
      "[2021-11-25 00:48:31,996] - obspy.clients.fdsn.mass_downloader - INFO: Total acquired or preexisting stations: 0\n",
      "[2021-11-25 00:48:31,997] - obspy.clients.fdsn.mass_downloader - INFO: Client 'GEONET' - Requesting unreliable availability.\n"
     ]
    },
    {
     "name": "stdout",
     "output_type": "stream",
     "text": [
      "=================================================================\n",
      "Initiating mass download request.\n"
     ]
    },
    {
     "name": "stderr",
     "output_type": "stream",
     "text": [
      "[2021-11-25 00:48:32,590] - obspy.clients.fdsn.mass_downloader - INFO: Client 'GEONET' - No data available for request.\n",
      "[2021-11-25 00:48:32,592] - obspy.clients.fdsn.mass_downloader - INFO: Client 'GEONET' - No data available.\n",
      "[2021-11-25 00:48:32,593] - obspy.clients.fdsn.mass_downloader - INFO: ============================== Final report\n",
      "[2021-11-25 00:48:32,594] - obspy.clients.fdsn.mass_downloader - INFO: 0 MiniSEED files [0.0 MB] already existed.\n",
      "[2021-11-25 00:48:32,595] - obspy.clients.fdsn.mass_downloader - INFO: 0 StationXML files [0.0 MB] already existed.\n",
      "[2021-11-25 00:48:32,598] - obspy.clients.fdsn.mass_downloader - INFO: Client 'GEONET' - Acquired 0 MiniSEED files [0.0 MB].\n",
      "[2021-11-25 00:48:32,600] - obspy.clients.fdsn.mass_downloader - INFO: Client 'GEONET' - Acquired 0 StationXML files [0.0 MB].\n",
      "[2021-11-25 00:48:32,601] - obspy.clients.fdsn.mass_downloader - INFO: Downloaded 0.0 MB in total.\n",
      "[2021-11-25 00:48:32,604] - obspy.clients.fdsn.mass_downloader - INFO: Initializing FDSN client(s) for GEONET.\n",
      "[2021-11-25 00:48:32,608] - obspy.clients.fdsn.mass_downloader - INFO: Successfully initialized 1 client(s): GEONET.\n",
      "[2021-11-25 00:48:32,609] - obspy.clients.fdsn.mass_downloader - INFO: Total acquired or preexisting stations: 0\n",
      "[2021-11-25 00:48:32,609] - obspy.clients.fdsn.mass_downloader - INFO: Client 'GEONET' - Requesting unreliable availability.\n"
     ]
    },
    {
     "name": "stdout",
     "output_type": "stream",
     "text": [
      "=================================================================\n",
      "Initiating mass download request.\n"
     ]
    },
    {
     "name": "stderr",
     "output_type": "stream",
     "text": [
      "[2021-11-25 00:48:33,176] - obspy.clients.fdsn.mass_downloader - INFO: Client 'GEONET' - Successfully requested availability (0.57 seconds)\n",
      "[2021-11-25 00:48:33,177] - obspy.clients.fdsn.mass_downloader - INFO: Client 'GEONET' - Found 1 stations (1 channels).\n",
      "[2021-11-25 00:48:33,178] - obspy.clients.fdsn.mass_downloader - INFO: Client 'GEONET' - Will attempt to download data from 1 stations.\n",
      "[2021-11-25 00:48:33,182] - obspy.clients.fdsn.mass_downloader - INFO: Client 'GEONET' - Status for 1 time intervals/channels before downloading: NEEDS_DOWNLOADING\n",
      "[2021-11-25 00:48:34,039] - obspy.clients.fdsn.mass_downloader - INFO: Client 'GEONET' - Successfully downloaded 1 channels (of 1)\n",
      "[2021-11-25 00:48:34,045] - obspy.clients.fdsn.mass_downloader - INFO: Client 'GEONET' - Launching basic QC checks...\n",
      "[2021-11-25 00:48:34,056] - obspy.clients.fdsn.mass_downloader - INFO: Client 'GEONET' - Downloaded 0.0 MB [4.67 KB/sec] of data, 0.0 MB of which were discarded afterwards.\n",
      "[2021-11-25 00:48:34,056] - obspy.clients.fdsn.mass_downloader - INFO: Client 'GEONET' - Status for 1 time intervals/channels after downloading: DOWNLOADED\n",
      "[2021-11-25 00:48:34,059] - obspy.clients.fdsn.mass_downloader - INFO: Client 'GEONET' - No station information to download.\n",
      "[2021-11-25 00:48:34,059] - obspy.clients.fdsn.mass_downloader - INFO: ============================== Final report\n",
      "[2021-11-25 00:48:34,060] - obspy.clients.fdsn.mass_downloader - INFO: 0 MiniSEED files [0.0 MB] already existed.\n",
      "[2021-11-25 00:48:34,061] - obspy.clients.fdsn.mass_downloader - INFO: 1 StationXML files [0.0 MB] already existed.\n",
      "[2021-11-25 00:48:34,062] - obspy.clients.fdsn.mass_downloader - INFO: Client 'GEONET' - Acquired 1 MiniSEED files [0.0 MB].\n",
      "[2021-11-25 00:48:34,062] - obspy.clients.fdsn.mass_downloader - INFO: Client 'GEONET' - Acquired 0 StationXML files [0.0 MB].\n",
      "[2021-11-25 00:48:34,063] - obspy.clients.fdsn.mass_downloader - INFO: Downloaded 0.0 MB in total.\n",
      "[2021-11-25 00:48:34,072] - obspy.clients.fdsn.mass_downloader - INFO: Initializing FDSN client(s) for GEONET.\n",
      "[2021-11-25 00:48:34,075] - obspy.clients.fdsn.mass_downloader - INFO: Successfully initialized 1 client(s): GEONET.\n",
      "[2021-11-25 00:48:34,076] - obspy.clients.fdsn.mass_downloader - INFO: Total acquired or preexisting stations: 0\n",
      "[2021-11-25 00:48:34,076] - obspy.clients.fdsn.mass_downloader - INFO: Client 'GEONET' - Requesting unreliable availability.\n"
     ]
    },
    {
     "name": "stdout",
     "output_type": "stream",
     "text": [
      "=================================================================\n",
      "Initiating mass download request.\n"
     ]
    },
    {
     "name": "stderr",
     "output_type": "stream",
     "text": [
      "[2021-11-25 00:48:34,641] - obspy.clients.fdsn.mass_downloader - INFO: Client 'GEONET' - Successfully requested availability (0.56 seconds)\n",
      "[2021-11-25 00:48:34,642] - obspy.clients.fdsn.mass_downloader - INFO: Client 'GEONET' - Found 1 stations (1 channels).\n",
      "[2021-11-25 00:48:34,642] - obspy.clients.fdsn.mass_downloader - INFO: Client 'GEONET' - Will attempt to download data from 1 stations.\n",
      "[2021-11-25 00:48:34,643] - obspy.clients.fdsn.mass_downloader - INFO: Client 'GEONET' - Status for 1 time intervals/channels before downloading: NEEDS_DOWNLOADING\n",
      "[2021-11-25 00:48:35,493] - obspy.clients.fdsn.mass_downloader - INFO: Client 'GEONET' - Successfully downloaded 1 channels (of 1)\n",
      "[2021-11-25 00:48:35,500] - obspy.clients.fdsn.mass_downloader - INFO: Client 'GEONET' - Launching basic QC checks...\n",
      "[2021-11-25 00:48:35,508] - obspy.clients.fdsn.mass_downloader - INFO: Client 'GEONET' - Downloaded 0.0 MB [3.50 KB/sec] of data, 0.0 MB of which were discarded afterwards.\n",
      "[2021-11-25 00:48:35,508] - obspy.clients.fdsn.mass_downloader - INFO: Client 'GEONET' - Status for 1 time intervals/channels after downloading: DOWNLOADED\n",
      "[2021-11-25 00:48:35,511] - obspy.clients.fdsn.mass_downloader - INFO: Client 'GEONET' - No station information to download.\n",
      "[2021-11-25 00:48:35,515] - obspy.clients.fdsn.mass_downloader - INFO: ============================== Final report\n",
      "[2021-11-25 00:48:35,515] - obspy.clients.fdsn.mass_downloader - INFO: 0 MiniSEED files [0.0 MB] already existed.\n",
      "[2021-11-25 00:48:35,516] - obspy.clients.fdsn.mass_downloader - INFO: 1 StationXML files [0.0 MB] already existed.\n",
      "[2021-11-25 00:48:35,516] - obspy.clients.fdsn.mass_downloader - INFO: Client 'GEONET' - Acquired 1 MiniSEED files [0.0 MB].\n",
      "[2021-11-25 00:48:35,516] - obspy.clients.fdsn.mass_downloader - INFO: Client 'GEONET' - Acquired 0 StationXML files [0.0 MB].\n",
      "[2021-11-25 00:48:35,517] - obspy.clients.fdsn.mass_downloader - INFO: Downloaded 0.0 MB in total.\n",
      "[2021-11-25 00:48:35,519] - obspy.clients.fdsn.mass_downloader - INFO: Initializing FDSN client(s) for GEONET.\n",
      "[2021-11-25 00:48:35,528] - obspy.clients.fdsn.mass_downloader - INFO: Successfully initialized 1 client(s): GEONET.\n",
      "[2021-11-25 00:48:35,529] - obspy.clients.fdsn.mass_downloader - INFO: Total acquired or preexisting stations: 0\n",
      "[2021-11-25 00:48:35,529] - obspy.clients.fdsn.mass_downloader - INFO: Client 'GEONET' - Requesting unreliable availability.\n"
     ]
    },
    {
     "name": "stdout",
     "output_type": "stream",
     "text": [
      "=================================================================\n",
      "Initiating mass download request.\n"
     ]
    },
    {
     "name": "stderr",
     "output_type": "stream",
     "text": [
      "[2021-11-25 00:48:36,152] - obspy.clients.fdsn.mass_downloader - INFO: Client 'GEONET' - Successfully requested availability (0.62 seconds)\n",
      "[2021-11-25 00:48:36,153] - obspy.clients.fdsn.mass_downloader - INFO: Client 'GEONET' - Found 1 stations (1 channels).\n",
      "[2021-11-25 00:48:36,153] - obspy.clients.fdsn.mass_downloader - INFO: Client 'GEONET' - Will attempt to download data from 1 stations.\n",
      "[2021-11-25 00:48:36,153] - obspy.clients.fdsn.mass_downloader - INFO: Client 'GEONET' - Status for 1 time intervals/channels before downloading: NEEDS_DOWNLOADING\n",
      "[2021-11-25 00:48:37,278] - obspy.clients.fdsn.mass_downloader - INFO: Client 'GEONET' - Successfully downloaded 1 channels (of 1)\n",
      "[2021-11-25 00:48:37,287] - obspy.clients.fdsn.mass_downloader - INFO: Client 'GEONET' - Launching basic QC checks...\n",
      "[2021-11-25 00:48:37,302] - obspy.clients.fdsn.mass_downloader - INFO: Client 'GEONET' - Downloaded 0.0 MB [4.41 KB/sec] of data, 0.0 MB of which were discarded afterwards.\n",
      "[2021-11-25 00:48:37,303] - obspy.clients.fdsn.mass_downloader - INFO: Client 'GEONET' - Status for 1 time intervals/channels after downloading: DOWNLOADED\n",
      "[2021-11-25 00:48:37,305] - obspy.clients.fdsn.mass_downloader - INFO: Client 'GEONET' - No station information to download.\n",
      "[2021-11-25 00:48:37,306] - obspy.clients.fdsn.mass_downloader - INFO: ============================== Final report\n",
      "[2021-11-25 00:48:37,306] - obspy.clients.fdsn.mass_downloader - INFO: 0 MiniSEED files [0.0 MB] already existed.\n",
      "[2021-11-25 00:48:37,307] - obspy.clients.fdsn.mass_downloader - INFO: 1 StationXML files [0.0 MB] already existed.\n",
      "[2021-11-25 00:48:37,307] - obspy.clients.fdsn.mass_downloader - INFO: Client 'GEONET' - Acquired 1 MiniSEED files [0.0 MB].\n",
      "[2021-11-25 00:48:37,307] - obspy.clients.fdsn.mass_downloader - INFO: Client 'GEONET' - Acquired 0 StationXML files [0.0 MB].\n",
      "[2021-11-25 00:48:37,308] - obspy.clients.fdsn.mass_downloader - INFO: Downloaded 0.0 MB in total.\n",
      "[2021-11-25 00:48:37,310] - obspy.clients.fdsn.mass_downloader - INFO: Initializing FDSN client(s) for GEONET.\n",
      "[2021-11-25 00:48:37,315] - obspy.clients.fdsn.mass_downloader - INFO: Successfully initialized 1 client(s): GEONET.\n",
      "[2021-11-25 00:48:37,316] - obspy.clients.fdsn.mass_downloader - INFO: Total acquired or preexisting stations: 0\n",
      "[2021-11-25 00:48:37,317] - obspy.clients.fdsn.mass_downloader - INFO: Client 'GEONET' - Requesting unreliable availability.\n"
     ]
    },
    {
     "name": "stdout",
     "output_type": "stream",
     "text": [
      "=================================================================\n",
      "Initiating mass download request.\n"
     ]
    },
    {
     "name": "stderr",
     "output_type": "stream",
     "text": [
      "[2021-11-25 00:48:38,544] - obspy.clients.fdsn.mass_downloader - INFO: Client 'GEONET' - Successfully requested availability (1.23 seconds)\n",
      "[2021-11-25 00:48:38,549] - obspy.clients.fdsn.mass_downloader - INFO: Client 'GEONET' - Found 1 stations (1 channels).\n",
      "[2021-11-25 00:48:38,549] - obspy.clients.fdsn.mass_downloader - INFO: Client 'GEONET' - Will attempt to download data from 1 stations.\n",
      "[2021-11-25 00:48:38,550] - obspy.clients.fdsn.mass_downloader - INFO: Client 'GEONET' - Status for 1 time intervals/channels before downloading: NEEDS_DOWNLOADING\n",
      "[2021-11-25 00:48:39,406] - obspy.clients.fdsn.mass_downloader - INFO: Client 'GEONET' - Successfully downloaded 1 channels (of 1)\n",
      "[2021-11-25 00:48:39,408] - obspy.clients.fdsn.mass_downloader - INFO: Client 'GEONET' - Launching basic QC checks...\n",
      "[2021-11-25 00:48:39,415] - obspy.clients.fdsn.mass_downloader - INFO: Client 'GEONET' - Downloaded 0.0 MB [3.51 KB/sec] of data, 0.0 MB of which were discarded afterwards.\n",
      "[2021-11-25 00:48:39,415] - obspy.clients.fdsn.mass_downloader - INFO: Client 'GEONET' - Status for 1 time intervals/channels after downloading: DOWNLOADED\n",
      "[2021-11-25 00:48:39,418] - obspy.clients.fdsn.mass_downloader - INFO: Client 'GEONET' - No station information to download.\n",
      "[2021-11-25 00:48:39,422] - obspy.clients.fdsn.mass_downloader - INFO: ============================== Final report\n",
      "[2021-11-25 00:48:39,423] - obspy.clients.fdsn.mass_downloader - INFO: 0 MiniSEED files [0.0 MB] already existed.\n",
      "[2021-11-25 00:48:39,423] - obspy.clients.fdsn.mass_downloader - INFO: 1 StationXML files [0.0 MB] already existed.\n",
      "[2021-11-25 00:48:39,424] - obspy.clients.fdsn.mass_downloader - INFO: Client 'GEONET' - Acquired 1 MiniSEED files [0.0 MB].\n",
      "[2021-11-25 00:48:39,424] - obspy.clients.fdsn.mass_downloader - INFO: Client 'GEONET' - Acquired 0 StationXML files [0.0 MB].\n",
      "[2021-11-25 00:48:39,424] - obspy.clients.fdsn.mass_downloader - INFO: Downloaded 0.0 MB in total.\n",
      "[2021-11-25 00:48:39,430] - obspy.clients.fdsn.mass_downloader - INFO: Initializing FDSN client(s) for GEONET.\n",
      "[2021-11-25 00:48:39,437] - obspy.clients.fdsn.mass_downloader - INFO: Successfully initialized 1 client(s): GEONET.\n",
      "[2021-11-25 00:48:39,438] - obspy.clients.fdsn.mass_downloader - INFO: Total acquired or preexisting stations: 0\n",
      "[2021-11-25 00:48:39,439] - obspy.clients.fdsn.mass_downloader - INFO: Client 'GEONET' - Requesting unreliable availability.\n"
     ]
    },
    {
     "name": "stdout",
     "output_type": "stream",
     "text": [
      "=================================================================\n",
      "Initiating mass download request.\n"
     ]
    },
    {
     "name": "stderr",
     "output_type": "stream",
     "text": [
      "[2021-11-25 00:48:39,988] - obspy.clients.fdsn.mass_downloader - INFO: Client 'GEONET' - Successfully requested availability (0.55 seconds)\n",
      "[2021-11-25 00:48:39,989] - obspy.clients.fdsn.mass_downloader - INFO: Client 'GEONET' - Found 1 stations (1 channels).\n",
      "[2021-11-25 00:48:39,989] - obspy.clients.fdsn.mass_downloader - INFO: Client 'GEONET' - Will attempt to download data from 1 stations.\n",
      "[2021-11-25 00:48:39,990] - obspy.clients.fdsn.mass_downloader - INFO: Client 'GEONET' - Status for 1 time intervals/channels before downloading: NEEDS_DOWNLOADING\n",
      "[2021-11-25 00:48:41,181] - obspy.clients.fdsn.mass_downloader - INFO: Client 'GEONET' - Successfully downloaded 1 channels (of 1)\n",
      "[2021-11-25 00:48:41,194] - obspy.clients.fdsn.mass_downloader - INFO: Client 'GEONET' - Launching basic QC checks...\n",
      "[2021-11-25 00:48:41,211] - obspy.clients.fdsn.mass_downloader - INFO: Client 'GEONET' - Downloaded 0.0 MB [3.33 KB/sec] of data, 0.0 MB of which were discarded afterwards.\n",
      "[2021-11-25 00:48:41,212] - obspy.clients.fdsn.mass_downloader - INFO: Client 'GEONET' - Status for 1 time intervals/channels after downloading: DOWNLOADED\n",
      "[2021-11-25 00:48:41,220] - obspy.clients.fdsn.mass_downloader - INFO: Client 'GEONET' - No station information to download.\n",
      "[2021-11-25 00:48:41,222] - obspy.clients.fdsn.mass_downloader - INFO: ============================== Final report\n",
      "[2021-11-25 00:48:41,224] - obspy.clients.fdsn.mass_downloader - INFO: 0 MiniSEED files [0.0 MB] already existed.\n",
      "[2021-11-25 00:48:41,225] - obspy.clients.fdsn.mass_downloader - INFO: 1 StationXML files [0.0 MB] already existed.\n",
      "[2021-11-25 00:48:41,226] - obspy.clients.fdsn.mass_downloader - INFO: Client 'GEONET' - Acquired 1 MiniSEED files [0.0 MB].\n",
      "[2021-11-25 00:48:41,226] - obspy.clients.fdsn.mass_downloader - INFO: Client 'GEONET' - Acquired 0 StationXML files [0.0 MB].\n",
      "[2021-11-25 00:48:41,227] - obspy.clients.fdsn.mass_downloader - INFO: Downloaded 0.0 MB in total.\n",
      "[2021-11-25 00:48:41,234] - obspy.clients.fdsn.mass_downloader - INFO: Initializing FDSN client(s) for GEONET.\n",
      "[2021-11-25 00:48:41,239] - obspy.clients.fdsn.mass_downloader - INFO: Successfully initialized 1 client(s): GEONET.\n",
      "[2021-11-25 00:48:41,243] - obspy.clients.fdsn.mass_downloader - INFO: Total acquired or preexisting stations: 0\n",
      "[2021-11-25 00:48:41,244] - obspy.clients.fdsn.mass_downloader - INFO: Client 'GEONET' - Requesting unreliable availability.\n"
     ]
    },
    {
     "name": "stdout",
     "output_type": "stream",
     "text": [
      "=================================================================\n",
      "Initiating mass download request.\n"
     ]
    },
    {
     "name": "stderr",
     "output_type": "stream",
     "text": [
      "[2021-11-25 00:48:41,805] - obspy.clients.fdsn.mass_downloader - INFO: Client 'GEONET' - Successfully requested availability (0.56 seconds)\n",
      "[2021-11-25 00:48:41,806] - obspy.clients.fdsn.mass_downloader - INFO: Client 'GEONET' - Found 1 stations (1 channels).\n",
      "[2021-11-25 00:48:41,807] - obspy.clients.fdsn.mass_downloader - INFO: Client 'GEONET' - Will attempt to download data from 1 stations.\n",
      "[2021-11-25 00:48:41,807] - obspy.clients.fdsn.mass_downloader - INFO: Client 'GEONET' - Status for 1 time intervals/channels before downloading: NEEDS_DOWNLOADING\n",
      "[2021-11-25 00:48:43,187] - obspy.clients.fdsn.mass_downloader - INFO: Client 'GEONET' - Successfully downloaded 1 channels (of 1)\n",
      "[2021-11-25 00:48:43,193] - obspy.clients.fdsn.mass_downloader - INFO: Client 'GEONET' - Launching basic QC checks...\n",
      "[2021-11-25 00:48:43,202] - obspy.clients.fdsn.mass_downloader - INFO: Client 'GEONET' - Downloaded 0.0 MB [2.53 KB/sec] of data, 0.0 MB of which were discarded afterwards.\n",
      "[2021-11-25 00:48:43,202] - obspy.clients.fdsn.mass_downloader - INFO: Client 'GEONET' - Status for 1 time intervals/channels after downloading: DOWNLOADED\n",
      "[2021-11-25 00:48:43,209] - obspy.clients.fdsn.mass_downloader - INFO: Client 'GEONET' - No station information to download.\n",
      "[2021-11-25 00:48:43,210] - obspy.clients.fdsn.mass_downloader - INFO: ============================== Final report\n",
      "[2021-11-25 00:48:43,211] - obspy.clients.fdsn.mass_downloader - INFO: 0 MiniSEED files [0.0 MB] already existed.\n",
      "[2021-11-25 00:48:43,212] - obspy.clients.fdsn.mass_downloader - INFO: 1 StationXML files [0.0 MB] already existed.\n",
      "[2021-11-25 00:48:43,212] - obspy.clients.fdsn.mass_downloader - INFO: Client 'GEONET' - Acquired 1 MiniSEED files [0.0 MB].\n",
      "[2021-11-25 00:48:43,213] - obspy.clients.fdsn.mass_downloader - INFO: Client 'GEONET' - Acquired 0 StationXML files [0.0 MB].\n",
      "[2021-11-25 00:48:43,214] - obspy.clients.fdsn.mass_downloader - INFO: Downloaded 0.0 MB in total.\n",
      "[2021-11-25 00:48:43,225] - obspy.clients.fdsn.mass_downloader - INFO: Initializing FDSN client(s) for GEONET.\n",
      "[2021-11-25 00:48:43,237] - obspy.clients.fdsn.mass_downloader - INFO: Successfully initialized 1 client(s): GEONET.\n",
      "[2021-11-25 00:48:43,242] - obspy.clients.fdsn.mass_downloader - INFO: Total acquired or preexisting stations: 0\n",
      "[2021-11-25 00:48:43,243] - obspy.clients.fdsn.mass_downloader - INFO: Client 'GEONET' - Requesting unreliable availability.\n"
     ]
    },
    {
     "name": "stdout",
     "output_type": "stream",
     "text": [
      "=================================================================\n",
      "Initiating mass download request.\n"
     ]
    },
    {
     "name": "stderr",
     "output_type": "stream",
     "text": [
      "[2021-11-25 00:48:43,804] - obspy.clients.fdsn.mass_downloader - INFO: Client 'GEONET' - Successfully requested availability (0.56 seconds)\n",
      "[2021-11-25 00:48:43,806] - obspy.clients.fdsn.mass_downloader - INFO: Client 'GEONET' - Found 1 stations (1 channels).\n",
      "[2021-11-25 00:48:43,806] - obspy.clients.fdsn.mass_downloader - INFO: Client 'GEONET' - Will attempt to download data from 1 stations.\n",
      "[2021-11-25 00:48:43,807] - obspy.clients.fdsn.mass_downloader - INFO: Client 'GEONET' - Status for 1 time intervals/channels before downloading: NEEDS_DOWNLOADING\n",
      "[2021-11-25 00:48:44,667] - obspy.clients.fdsn.mass_downloader - INFO: Client 'GEONET' - Successfully downloaded 1 channels (of 1)\n",
      "[2021-11-25 00:48:44,682] - obspy.clients.fdsn.mass_downloader - INFO: Client 'GEONET' - Launching basic QC checks...\n",
      "[2021-11-25 00:48:44,705] - obspy.clients.fdsn.mass_downloader - INFO: Client 'GEONET' - Downloaded 0.0 MB [3.45 KB/sec] of data, 0.0 MB of which were discarded afterwards.\n",
      "[2021-11-25 00:48:44,712] - obspy.clients.fdsn.mass_downloader - INFO: Client 'GEONET' - Status for 1 time intervals/channels after downloading: DOWNLOADED\n",
      "[2021-11-25 00:48:44,718] - obspy.clients.fdsn.mass_downloader - INFO: Client 'GEONET' - No station information to download.\n",
      "[2021-11-25 00:48:44,720] - obspy.clients.fdsn.mass_downloader - INFO: ============================== Final report\n",
      "[2021-11-25 00:48:44,721] - obspy.clients.fdsn.mass_downloader - INFO: 0 MiniSEED files [0.0 MB] already existed.\n",
      "[2021-11-25 00:48:44,724] - obspy.clients.fdsn.mass_downloader - INFO: 1 StationXML files [0.0 MB] already existed.\n",
      "[2021-11-25 00:48:44,726] - obspy.clients.fdsn.mass_downloader - INFO: Client 'GEONET' - Acquired 1 MiniSEED files [0.0 MB].\n",
      "[2021-11-25 00:48:44,727] - obspy.clients.fdsn.mass_downloader - INFO: Client 'GEONET' - Acquired 0 StationXML files [0.0 MB].\n",
      "[2021-11-25 00:48:44,729] - obspy.clients.fdsn.mass_downloader - INFO: Downloaded 0.0 MB in total.\n",
      "[2021-11-25 00:48:44,746] - obspy.clients.fdsn.mass_downloader - INFO: Initializing FDSN client(s) for GEONET.\n",
      "[2021-11-25 00:48:44,761] - obspy.clients.fdsn.mass_downloader - INFO: Successfully initialized 1 client(s): GEONET.\n",
      "[2021-11-25 00:48:44,764] - obspy.clients.fdsn.mass_downloader - INFO: Total acquired or preexisting stations: 0\n",
      "[2021-11-25 00:48:44,765] - obspy.clients.fdsn.mass_downloader - INFO: Client 'GEONET' - Requesting unreliable availability.\n"
     ]
    },
    {
     "name": "stdout",
     "output_type": "stream",
     "text": [
      "=================================================================\n",
      "Initiating mass download request.\n"
     ]
    },
    {
     "name": "stderr",
     "output_type": "stream",
     "text": [
      "[2021-11-25 00:48:45,457] - obspy.clients.fdsn.mass_downloader - INFO: Client 'GEONET' - Successfully requested availability (0.69 seconds)\n",
      "[2021-11-25 00:48:45,463] - obspy.clients.fdsn.mass_downloader - INFO: Client 'GEONET' - Found 1 stations (1 channels).\n",
      "[2021-11-25 00:48:45,468] - obspy.clients.fdsn.mass_downloader - INFO: Client 'GEONET' - Will attempt to download data from 1 stations.\n",
      "[2021-11-25 00:48:45,469] - obspy.clients.fdsn.mass_downloader - INFO: Client 'GEONET' - Status for 1 time intervals/channels before downloading: NEEDS_DOWNLOADING\n",
      "[2021-11-25 00:48:46,518] - obspy.clients.fdsn.mass_downloader - INFO: Client 'GEONET' - Successfully downloaded 1 channels (of 1)\n",
      "[2021-11-25 00:48:46,530] - obspy.clients.fdsn.mass_downloader - INFO: Client 'GEONET' - Launching basic QC checks...\n",
      "[2021-11-25 00:48:46,539] - obspy.clients.fdsn.mass_downloader - INFO: Client 'GEONET' - Downloaded 0.0 MB [4.27 KB/sec] of data, 0.0 MB of which were discarded afterwards.\n",
      "[2021-11-25 00:48:46,540] - obspy.clients.fdsn.mass_downloader - INFO: Client 'GEONET' - Status for 1 time intervals/channels after downloading: DOWNLOADED\n",
      "[2021-11-25 00:48:46,542] - obspy.clients.fdsn.mass_downloader - INFO: Client 'GEONET' - No station information to download.\n",
      "[2021-11-25 00:48:46,547] - obspy.clients.fdsn.mass_downloader - INFO: ============================== Final report\n",
      "[2021-11-25 00:48:46,548] - obspy.clients.fdsn.mass_downloader - INFO: 0 MiniSEED files [0.0 MB] already existed.\n",
      "[2021-11-25 00:48:46,549] - obspy.clients.fdsn.mass_downloader - INFO: 1 StationXML files [0.0 MB] already existed.\n",
      "[2021-11-25 00:48:46,550] - obspy.clients.fdsn.mass_downloader - INFO: Client 'GEONET' - Acquired 1 MiniSEED files [0.0 MB].\n",
      "[2021-11-25 00:48:46,550] - obspy.clients.fdsn.mass_downloader - INFO: Client 'GEONET' - Acquired 0 StationXML files [0.0 MB].\n",
      "[2021-11-25 00:48:46,551] - obspy.clients.fdsn.mass_downloader - INFO: Downloaded 0.0 MB in total.\n",
      "[2021-11-25 00:48:46,565] - obspy.clients.fdsn.mass_downloader - INFO: Initializing FDSN client(s) for GEONET.\n",
      "[2021-11-25 00:48:46,572] - obspy.clients.fdsn.mass_downloader - INFO: Successfully initialized 1 client(s): GEONET.\n",
      "[2021-11-25 00:48:46,574] - obspy.clients.fdsn.mass_downloader - INFO: Total acquired or preexisting stations: 0\n",
      "[2021-11-25 00:48:46,574] - obspy.clients.fdsn.mass_downloader - INFO: Client 'GEONET' - Requesting unreliable availability.\n"
     ]
    },
    {
     "name": "stdout",
     "output_type": "stream",
     "text": [
      "=================================================================\n",
      "Initiating mass download request.\n"
     ]
    },
    {
     "name": "stderr",
     "output_type": "stream",
     "text": [
      "[2021-11-25 00:48:47,120] - obspy.clients.fdsn.mass_downloader - INFO: Client 'GEONET' - Successfully requested availability (0.55 seconds)\n",
      "[2021-11-25 00:48:47,122] - obspy.clients.fdsn.mass_downloader - INFO: Client 'GEONET' - Found 1 stations (1 channels).\n",
      "[2021-11-25 00:48:47,122] - obspy.clients.fdsn.mass_downloader - INFO: Client 'GEONET' - Will attempt to download data from 1 stations.\n",
      "[2021-11-25 00:48:47,123] - obspy.clients.fdsn.mass_downloader - INFO: Client 'GEONET' - Status for 1 time intervals/channels before downloading: NEEDS_DOWNLOADING\n",
      "[2021-11-25 00:48:48,230] - obspy.clients.fdsn.mass_downloader - INFO: Client 'GEONET' - Successfully downloaded 1 channels (of 1)\n",
      "[2021-11-25 00:48:48,241] - obspy.clients.fdsn.mass_downloader - INFO: Client 'GEONET' - Launching basic QC checks...\n",
      "[2021-11-25 00:48:48,253] - obspy.clients.fdsn.mass_downloader - INFO: Client 'GEONET' - Downloaded 0.0 MB [4.48 KB/sec] of data, 0.0 MB of which were discarded afterwards.\n",
      "[2021-11-25 00:48:48,253] - obspy.clients.fdsn.mass_downloader - INFO: Client 'GEONET' - Status for 1 time intervals/channels after downloading: DOWNLOADED\n",
      "[2021-11-25 00:48:48,258] - obspy.clients.fdsn.mass_downloader - INFO: Client 'GEONET' - No station information to download.\n",
      "[2021-11-25 00:48:48,259] - obspy.clients.fdsn.mass_downloader - INFO: ============================== Final report\n",
      "[2021-11-25 00:48:48,260] - obspy.clients.fdsn.mass_downloader - INFO: 0 MiniSEED files [0.0 MB] already existed.\n",
      "[2021-11-25 00:48:48,263] - obspy.clients.fdsn.mass_downloader - INFO: 1 StationXML files [0.0 MB] already existed.\n",
      "[2021-11-25 00:48:48,263] - obspy.clients.fdsn.mass_downloader - INFO: Client 'GEONET' - Acquired 1 MiniSEED files [0.0 MB].\n",
      "[2021-11-25 00:48:48,263] - obspy.clients.fdsn.mass_downloader - INFO: Client 'GEONET' - Acquired 0 StationXML files [0.0 MB].\n",
      "[2021-11-25 00:48:48,264] - obspy.clients.fdsn.mass_downloader - INFO: Downloaded 0.0 MB in total.\n",
      "[2021-11-25 00:48:48,272] - obspy.clients.fdsn.mass_downloader - INFO: Initializing FDSN client(s) for GEONET.\n",
      "[2021-11-25 00:48:48,283] - obspy.clients.fdsn.mass_downloader - INFO: Successfully initialized 1 client(s): GEONET.\n",
      "[2021-11-25 00:48:48,287] - obspy.clients.fdsn.mass_downloader - INFO: Total acquired or preexisting stations: 0\n",
      "[2021-11-25 00:48:48,288] - obspy.clients.fdsn.mass_downloader - INFO: Client 'GEONET' - Requesting unreliable availability.\n"
     ]
    },
    {
     "name": "stdout",
     "output_type": "stream",
     "text": [
      "=================================================================\n",
      "Initiating mass download request.\n"
     ]
    },
    {
     "name": "stderr",
     "output_type": "stream",
     "text": [
      "[2021-11-25 00:48:48,874] - obspy.clients.fdsn.mass_downloader - INFO: Client 'GEONET' - Successfully requested availability (0.59 seconds)\n",
      "[2021-11-25 00:48:48,876] - obspy.clients.fdsn.mass_downloader - INFO: Client 'GEONET' - Found 1 stations (1 channels).\n",
      "[2021-11-25 00:48:48,876] - obspy.clients.fdsn.mass_downloader - INFO: Client 'GEONET' - Will attempt to download data from 1 stations.\n",
      "[2021-11-25 00:48:48,877] - obspy.clients.fdsn.mass_downloader - INFO: Client 'GEONET' - Status for 1 time intervals/channels before downloading: NEEDS_DOWNLOADING\n",
      "[2021-11-25 00:48:49,650] - obspy.clients.fdsn.mass_downloader - INFO: Client 'GEONET' - Successfully downloaded 1 channels (of 1)\n",
      "[2021-11-25 00:48:49,655] - obspy.clients.fdsn.mass_downloader - INFO: Client 'GEONET' - Launching basic QC checks...\n",
      "[2021-11-25 00:48:49,661] - obspy.clients.fdsn.mass_downloader - INFO: Client 'GEONET' - Downloaded 0.0 MB [3.86 KB/sec] of data, 0.0 MB of which were discarded afterwards.\n",
      "[2021-11-25 00:48:49,662] - obspy.clients.fdsn.mass_downloader - INFO: Client 'GEONET' - Status for 1 time intervals/channels after downloading: DOWNLOADED\n",
      "[2021-11-25 00:48:49,664] - obspy.clients.fdsn.mass_downloader - INFO: Client 'GEONET' - No station information to download.\n",
      "[2021-11-25 00:48:49,664] - obspy.clients.fdsn.mass_downloader - INFO: ============================== Final report\n",
      "[2021-11-25 00:48:49,665] - obspy.clients.fdsn.mass_downloader - INFO: 0 MiniSEED files [0.0 MB] already existed.\n",
      "[2021-11-25 00:48:49,665] - obspy.clients.fdsn.mass_downloader - INFO: 1 StationXML files [0.0 MB] already existed.\n",
      "[2021-11-25 00:48:49,665] - obspy.clients.fdsn.mass_downloader - INFO: Client 'GEONET' - Acquired 1 MiniSEED files [0.0 MB].\n",
      "[2021-11-25 00:48:49,667] - obspy.clients.fdsn.mass_downloader - INFO: Client 'GEONET' - Acquired 0 StationXML files [0.0 MB].\n",
      "[2021-11-25 00:48:49,669] - obspy.clients.fdsn.mass_downloader - INFO: Downloaded 0.0 MB in total.\n",
      "[2021-11-25 00:48:49,672] - obspy.clients.fdsn.mass_downloader - INFO: Initializing FDSN client(s) for GEONET.\n",
      "[2021-11-25 00:48:49,677] - obspy.clients.fdsn.mass_downloader - INFO: Successfully initialized 1 client(s): GEONET.\n",
      "[2021-11-25 00:48:49,677] - obspy.clients.fdsn.mass_downloader - INFO: Total acquired or preexisting stations: 0\n",
      "[2021-11-25 00:48:49,678] - obspy.clients.fdsn.mass_downloader - INFO: Client 'GEONET' - Requesting unreliable availability.\n"
     ]
    },
    {
     "name": "stdout",
     "output_type": "stream",
     "text": [
      "=================================================================\n",
      "Initiating mass download request.\n"
     ]
    },
    {
     "name": "stderr",
     "output_type": "stream",
     "text": [
      "[2021-11-25 00:48:50,264] - obspy.clients.fdsn.mass_downloader - INFO: Client 'GEONET' - Successfully requested availability (0.59 seconds)\n",
      "[2021-11-25 00:48:50,265] - obspy.clients.fdsn.mass_downloader - INFO: Client 'GEONET' - Found 1 stations (1 channels).\n",
      "[2021-11-25 00:48:50,266] - obspy.clients.fdsn.mass_downloader - INFO: Client 'GEONET' - Will attempt to download data from 1 stations.\n",
      "[2021-11-25 00:48:50,266] - obspy.clients.fdsn.mass_downloader - INFO: Client 'GEONET' - Status for 1 time intervals/channels before downloading: NEEDS_DOWNLOADING\n",
      "[2021-11-25 00:48:50,816] - obspy.clients.fdsn.mass_downloader - INFO: Client 'GEONET' - No data available for request.\n",
      "[2021-11-25 00:48:50,824] - obspy.clients.fdsn.mass_downloader - INFO: Client 'GEONET' - Launching basic QC checks...\n",
      "[2021-11-25 00:48:50,827] - obspy.clients.fdsn.mass_downloader - INFO: Client 'GEONET' - Downloaded 0.0 MB [0.00 KB/sec] of data, 0.0 MB of which were discarded afterwards.\n",
      "[2021-11-25 00:48:50,834] - obspy.clients.fdsn.mass_downloader - INFO: Client 'GEONET' - Status for 1 time intervals/channels after downloading: DOWNLOAD_FAILED\n",
      "[2021-11-25 00:48:50,836] - obspy.clients.fdsn.mass_downloader - INFO: Client 'GEONET' - No station information to download.\n",
      "[2021-11-25 00:48:50,840] - obspy.clients.fdsn.mass_downloader - INFO: Client 'GEONET' - No data could be downloaded.\n",
      "[2021-11-25 00:48:50,841] - obspy.clients.fdsn.mass_downloader - INFO: ============================== Final report\n",
      "[2021-11-25 00:48:50,842] - obspy.clients.fdsn.mass_downloader - INFO: 0 MiniSEED files [0.0 MB] already existed.\n",
      "[2021-11-25 00:48:50,847] - obspy.clients.fdsn.mass_downloader - INFO: 0 StationXML files [0.0 MB] already existed.\n",
      "[2021-11-25 00:48:50,850] - obspy.clients.fdsn.mass_downloader - INFO: Client 'GEONET' - Acquired 0 MiniSEED files [0.0 MB].\n",
      "[2021-11-25 00:48:50,850] - obspy.clients.fdsn.mass_downloader - INFO: Client 'GEONET' - Acquired 0 StationXML files [0.0 MB].\n",
      "[2021-11-25 00:48:50,852] - obspy.clients.fdsn.mass_downloader - INFO: Downloaded 0.0 MB in total.\n",
      "[2021-11-25 00:48:50,880] - obspy.clients.fdsn.mass_downloader - INFO: Initializing FDSN client(s) for GEONET.\n",
      "[2021-11-25 00:48:50,902] - obspy.clients.fdsn.mass_downloader - INFO: Successfully initialized 1 client(s): GEONET.\n",
      "[2021-11-25 00:48:50,905] - obspy.clients.fdsn.mass_downloader - INFO: Total acquired or preexisting stations: 0\n",
      "[2021-11-25 00:48:50,907] - obspy.clients.fdsn.mass_downloader - INFO: Client 'GEONET' - Requesting unreliable availability.\n"
     ]
    },
    {
     "name": "stdout",
     "output_type": "stream",
     "text": [
      "=================================================================\n",
      "Initiating mass download request.\n"
     ]
    },
    {
     "name": "stderr",
     "output_type": "stream",
     "text": [
      "[2021-11-25 00:48:51,508] - obspy.clients.fdsn.mass_downloader - INFO: Client 'GEONET' - Successfully requested availability (0.60 seconds)\n",
      "[2021-11-25 00:48:51,515] - obspy.clients.fdsn.mass_downloader - INFO: Client 'GEONET' - Found 1 stations (1 channels).\n",
      "[2021-11-25 00:48:51,517] - obspy.clients.fdsn.mass_downloader - INFO: Client 'GEONET' - Will attempt to download data from 1 stations.\n",
      "[2021-11-25 00:48:51,522] - obspy.clients.fdsn.mass_downloader - INFO: Client 'GEONET' - Status for 1 time intervals/channels before downloading: NEEDS_DOWNLOADING\n",
      "[2021-11-25 00:48:52,461] - obspy.clients.fdsn.mass_downloader - INFO: Client 'GEONET' - Successfully downloaded 1 channels (of 1)\n",
      "[2021-11-25 00:48:52,469] - obspy.clients.fdsn.mass_downloader - INFO: Client 'GEONET' - Launching basic QC checks...\n",
      "[2021-11-25 00:48:52,482] - obspy.clients.fdsn.mass_downloader - INFO: Client 'GEONET' - Downloaded 0.0 MB [3.19 KB/sec] of data, 0.0 MB of which were discarded afterwards.\n",
      "[2021-11-25 00:48:52,482] - obspy.clients.fdsn.mass_downloader - INFO: Client 'GEONET' - Status for 1 time intervals/channels after downloading: DOWNLOADED\n",
      "[2021-11-25 00:48:52,488] - obspy.clients.fdsn.mass_downloader - INFO: Client 'GEONET' - No station information to download.\n",
      "[2021-11-25 00:48:52,489] - obspy.clients.fdsn.mass_downloader - INFO: ============================== Final report\n",
      "[2021-11-25 00:48:52,490] - obspy.clients.fdsn.mass_downloader - INFO: 0 MiniSEED files [0.0 MB] already existed.\n",
      "[2021-11-25 00:48:52,490] - obspy.clients.fdsn.mass_downloader - INFO: 1 StationXML files [0.0 MB] already existed.\n",
      "[2021-11-25 00:48:52,491] - obspy.clients.fdsn.mass_downloader - INFO: Client 'GEONET' - Acquired 1 MiniSEED files [0.0 MB].\n",
      "[2021-11-25 00:48:52,491] - obspy.clients.fdsn.mass_downloader - INFO: Client 'GEONET' - Acquired 0 StationXML files [0.0 MB].\n",
      "[2021-11-25 00:48:52,492] - obspy.clients.fdsn.mass_downloader - INFO: Downloaded 0.0 MB in total.\n",
      "[2021-11-25 00:48:52,498] - obspy.clients.fdsn.mass_downloader - INFO: Initializing FDSN client(s) for GEONET.\n",
      "[2021-11-25 00:48:52,506] - obspy.clients.fdsn.mass_downloader - INFO: Successfully initialized 1 client(s): GEONET.\n",
      "[2021-11-25 00:48:52,508] - obspy.clients.fdsn.mass_downloader - INFO: Total acquired or preexisting stations: 0\n",
      "[2021-11-25 00:48:52,508] - obspy.clients.fdsn.mass_downloader - INFO: Client 'GEONET' - Requesting unreliable availability.\n"
     ]
    },
    {
     "name": "stdout",
     "output_type": "stream",
     "text": [
      "=================================================================\n",
      "Initiating mass download request.\n"
     ]
    },
    {
     "name": "stderr",
     "output_type": "stream",
     "text": [
      "[2021-11-25 00:48:53,182] - obspy.clients.fdsn.mass_downloader - INFO: Client 'GEONET' - Successfully requested availability (0.67 seconds)\n",
      "[2021-11-25 00:48:53,189] - obspy.clients.fdsn.mass_downloader - INFO: Client 'GEONET' - Found 1 stations (1 channels).\n",
      "[2021-11-25 00:48:53,190] - obspy.clients.fdsn.mass_downloader - INFO: Client 'GEONET' - Will attempt to download data from 1 stations.\n",
      "[2021-11-25 00:48:53,194] - obspy.clients.fdsn.mass_downloader - INFO: Client 'GEONET' - Status for 1 time intervals/channels before downloading: NEEDS_DOWNLOADING\n",
      "[2021-11-25 00:48:54,198] - obspy.clients.fdsn.mass_downloader - INFO: Client 'GEONET' - Successfully downloaded 1 channels (of 1)\n",
      "[2021-11-25 00:48:54,206] - obspy.clients.fdsn.mass_downloader - INFO: Client 'GEONET' - Launching basic QC checks...\n",
      "[2021-11-25 00:48:54,221] - obspy.clients.fdsn.mass_downloader - INFO: Client 'GEONET' - Downloaded 0.0 MB [3.99 KB/sec] of data, 0.0 MB of which were discarded afterwards.\n",
      "[2021-11-25 00:48:54,222] - obspy.clients.fdsn.mass_downloader - INFO: Client 'GEONET' - Status for 1 time intervals/channels after downloading: DOWNLOADED\n",
      "[2021-11-25 00:48:54,230] - obspy.clients.fdsn.mass_downloader - INFO: Client 'GEONET' - No station information to download.\n",
      "[2021-11-25 00:48:54,232] - obspy.clients.fdsn.mass_downloader - INFO: ============================== Final report\n",
      "[2021-11-25 00:48:54,232] - obspy.clients.fdsn.mass_downloader - INFO: 0 MiniSEED files [0.0 MB] already existed.\n",
      "[2021-11-25 00:48:54,233] - obspy.clients.fdsn.mass_downloader - INFO: 1 StationXML files [0.0 MB] already existed.\n",
      "[2021-11-25 00:48:54,233] - obspy.clients.fdsn.mass_downloader - INFO: Client 'GEONET' - Acquired 1 MiniSEED files [0.0 MB].\n",
      "[2021-11-25 00:48:54,233] - obspy.clients.fdsn.mass_downloader - INFO: Client 'GEONET' - Acquired 0 StationXML files [0.0 MB].\n",
      "[2021-11-25 00:48:54,234] - obspy.clients.fdsn.mass_downloader - INFO: Downloaded 0.0 MB in total.\n",
      "[2021-11-25 00:48:54,240] - obspy.clients.fdsn.mass_downloader - INFO: Initializing FDSN client(s) for GEONET.\n",
      "[2021-11-25 00:48:54,250] - obspy.clients.fdsn.mass_downloader - INFO: Successfully initialized 1 client(s): GEONET.\n",
      "[2021-11-25 00:48:54,252] - obspy.clients.fdsn.mass_downloader - INFO: Total acquired or preexisting stations: 0\n",
      "[2021-11-25 00:48:54,253] - obspy.clients.fdsn.mass_downloader - INFO: Client 'GEONET' - Requesting unreliable availability.\n"
     ]
    },
    {
     "name": "stdout",
     "output_type": "stream",
     "text": [
      "=================================================================\n",
      "Initiating mass download request.\n"
     ]
    },
    {
     "name": "stderr",
     "output_type": "stream",
     "text": [
      "[2021-11-25 00:48:54,856] - obspy.clients.fdsn.mass_downloader - INFO: Client 'GEONET' - Successfully requested availability (0.60 seconds)\n",
      "[2021-11-25 00:48:54,857] - obspy.clients.fdsn.mass_downloader - INFO: Client 'GEONET' - Found 1 stations (1 channels).\n",
      "[2021-11-25 00:48:54,857] - obspy.clients.fdsn.mass_downloader - INFO: Client 'GEONET' - Will attempt to download data from 1 stations.\n",
      "[2021-11-25 00:48:54,858] - obspy.clients.fdsn.mass_downloader - INFO: Client 'GEONET' - Status for 1 time intervals/channels before downloading: NEEDS_DOWNLOADING\n",
      "[2021-11-25 00:48:55,710] - obspy.clients.fdsn.mass_downloader - INFO: Client 'GEONET' - Successfully downloaded 1 channels (of 1)\n",
      "[2021-11-25 00:48:55,727] - obspy.clients.fdsn.mass_downloader - INFO: Client 'GEONET' - Launching basic QC checks...\n",
      "[2021-11-25 00:48:55,740] - obspy.clients.fdsn.mass_downloader - INFO: Client 'GEONET' - Downloaded 0.0 MB [2.89 KB/sec] of data, 0.0 MB of which were discarded afterwards.\n",
      "[2021-11-25 00:48:55,741] - obspy.clients.fdsn.mass_downloader - INFO: Client 'GEONET' - Status for 1 time intervals/channels after downloading: DOWNLOADED\n",
      "[2021-11-25 00:48:55,746] - obspy.clients.fdsn.mass_downloader - INFO: Client 'GEONET' - No station information to download.\n",
      "[2021-11-25 00:48:55,748] - obspy.clients.fdsn.mass_downloader - INFO: ============================== Final report\n",
      "[2021-11-25 00:48:55,748] - obspy.clients.fdsn.mass_downloader - INFO: 0 MiniSEED files [0.0 MB] already existed.\n",
      "[2021-11-25 00:48:55,749] - obspy.clients.fdsn.mass_downloader - INFO: 1 StationXML files [0.0 MB] already existed.\n",
      "[2021-11-25 00:48:55,749] - obspy.clients.fdsn.mass_downloader - INFO: Client 'GEONET' - Acquired 1 MiniSEED files [0.0 MB].\n",
      "[2021-11-25 00:48:55,749] - obspy.clients.fdsn.mass_downloader - INFO: Client 'GEONET' - Acquired 0 StationXML files [0.0 MB].\n",
      "[2021-11-25 00:48:55,750] - obspy.clients.fdsn.mass_downloader - INFO: Downloaded 0.0 MB in total.\n",
      "[2021-11-25 00:48:55,753] - obspy.clients.fdsn.mass_downloader - INFO: Initializing FDSN client(s) for GEONET.\n",
      "[2021-11-25 00:48:55,760] - obspy.clients.fdsn.mass_downloader - INFO: Successfully initialized 1 client(s): GEONET.\n",
      "[2021-11-25 00:48:55,761] - obspy.clients.fdsn.mass_downloader - INFO: Total acquired or preexisting stations: 0\n",
      "[2021-11-25 00:48:55,761] - obspy.clients.fdsn.mass_downloader - INFO: Client 'GEONET' - Requesting unreliable availability.\n"
     ]
    },
    {
     "name": "stdout",
     "output_type": "stream",
     "text": [
      "=================================================================\n",
      "Initiating mass download request.\n"
     ]
    },
    {
     "name": "stderr",
     "output_type": "stream",
     "text": [
      "[2021-11-25 00:48:56,413] - obspy.clients.fdsn.mass_downloader - INFO: Client 'GEONET' - Successfully requested availability (0.65 seconds)\n",
      "[2021-11-25 00:48:56,414] - obspy.clients.fdsn.mass_downloader - INFO: Client 'GEONET' - Found 1 stations (1 channels).\n",
      "[2021-11-25 00:48:56,414] - obspy.clients.fdsn.mass_downloader - INFO: Client 'GEONET' - Will attempt to download data from 1 stations.\n",
      "[2021-11-25 00:48:56,414] - obspy.clients.fdsn.mass_downloader - INFO: Client 'GEONET' - Status for 1 time intervals/channels before downloading: NEEDS_DOWNLOADING\n",
      "[2021-11-25 00:48:57,305] - obspy.clients.fdsn.mass_downloader - INFO: Client 'GEONET' - Successfully downloaded 1 channels (of 1)\n",
      "[2021-11-25 00:48:57,308] - obspy.clients.fdsn.mass_downloader - INFO: Client 'GEONET' - Launching basic QC checks...\n",
      "[2021-11-25 00:48:57,316] - obspy.clients.fdsn.mass_downloader - INFO: Client 'GEONET' - Downloaded 0.0 MB [3.92 KB/sec] of data, 0.0 MB of which were discarded afterwards.\n",
      "[2021-11-25 00:48:57,316] - obspy.clients.fdsn.mass_downloader - INFO: Client 'GEONET' - Status for 1 time intervals/channels after downloading: DOWNLOADED\n",
      "[2021-11-25 00:48:57,318] - obspy.clients.fdsn.mass_downloader - INFO: Client 'GEONET' - No station information to download.\n",
      "[2021-11-25 00:48:57,319] - obspy.clients.fdsn.mass_downloader - INFO: ============================== Final report\n",
      "[2021-11-25 00:48:57,319] - obspy.clients.fdsn.mass_downloader - INFO: 0 MiniSEED files [0.0 MB] already existed.\n",
      "[2021-11-25 00:48:57,320] - obspy.clients.fdsn.mass_downloader - INFO: 1 StationXML files [0.0 MB] already existed.\n",
      "[2021-11-25 00:48:57,320] - obspy.clients.fdsn.mass_downloader - INFO: Client 'GEONET' - Acquired 1 MiniSEED files [0.0 MB].\n",
      "[2021-11-25 00:48:57,320] - obspy.clients.fdsn.mass_downloader - INFO: Client 'GEONET' - Acquired 0 StationXML files [0.0 MB].\n",
      "[2021-11-25 00:48:57,320] - obspy.clients.fdsn.mass_downloader - INFO: Downloaded 0.0 MB in total.\n",
      "[2021-11-25 00:48:57,323] - obspy.clients.fdsn.mass_downloader - INFO: Initializing FDSN client(s) for GEONET.\n",
      "[2021-11-25 00:48:57,328] - obspy.clients.fdsn.mass_downloader - INFO: Successfully initialized 1 client(s): GEONET.\n",
      "[2021-11-25 00:48:57,329] - obspy.clients.fdsn.mass_downloader - INFO: Total acquired or preexisting stations: 0\n",
      "[2021-11-25 00:48:57,329] - obspy.clients.fdsn.mass_downloader - INFO: Client 'GEONET' - Requesting unreliable availability.\n"
     ]
    },
    {
     "name": "stdout",
     "output_type": "stream",
     "text": [
      "=================================================================\n",
      "Initiating mass download request.\n"
     ]
    },
    {
     "name": "stderr",
     "output_type": "stream",
     "text": [
      "[2021-11-25 00:48:57,952] - obspy.clients.fdsn.mass_downloader - INFO: Client 'GEONET' - Successfully requested availability (0.62 seconds)\n",
      "[2021-11-25 00:48:57,953] - obspy.clients.fdsn.mass_downloader - INFO: Client 'GEONET' - Found 1 stations (1 channels).\n",
      "[2021-11-25 00:48:57,954] - obspy.clients.fdsn.mass_downloader - INFO: Client 'GEONET' - Will attempt to download data from 1 stations.\n",
      "[2021-11-25 00:48:57,954] - obspy.clients.fdsn.mass_downloader - INFO: Client 'GEONET' - Status for 1 time intervals/channels before downloading: NEEDS_DOWNLOADING\n",
      "[2021-11-25 00:48:58,699] - obspy.clients.fdsn.mass_downloader - INFO: Client 'GEONET' - Successfully downloaded 1 channels (of 1)\n",
      "[2021-11-25 00:48:58,715] - obspy.clients.fdsn.mass_downloader - INFO: Client 'GEONET' - Launching basic QC checks...\n",
      "[2021-11-25 00:48:58,762] - obspy.clients.fdsn.mass_downloader - INFO: Client 'GEONET' - Downloaded 0.0 MB [3.95 KB/sec] of data, 0.0 MB of which were discarded afterwards.\n",
      "[2021-11-25 00:48:58,763] - obspy.clients.fdsn.mass_downloader - INFO: Client 'GEONET' - Status for 1 time intervals/channels after downloading: DOWNLOADED\n",
      "[2021-11-25 00:48:58,772] - obspy.clients.fdsn.mass_downloader - INFO: Client 'GEONET' - No station information to download.\n",
      "[2021-11-25 00:48:58,778] - obspy.clients.fdsn.mass_downloader - INFO: ============================== Final report\n",
      "[2021-11-25 00:48:58,779] - obspy.clients.fdsn.mass_downloader - INFO: 0 MiniSEED files [0.0 MB] already existed.\n",
      "[2021-11-25 00:48:58,780] - obspy.clients.fdsn.mass_downloader - INFO: 1 StationXML files [0.0 MB] already existed.\n",
      "[2021-11-25 00:48:58,781] - obspy.clients.fdsn.mass_downloader - INFO: Client 'GEONET' - Acquired 1 MiniSEED files [0.0 MB].\n",
      "[2021-11-25 00:48:58,782] - obspy.clients.fdsn.mass_downloader - INFO: Client 'GEONET' - Acquired 0 StationXML files [0.0 MB].\n",
      "[2021-11-25 00:48:58,784] - obspy.clients.fdsn.mass_downloader - INFO: Downloaded 0.0 MB in total.\n",
      "[2021-11-25 00:48:58,792] - obspy.clients.fdsn.mass_downloader - INFO: Initializing FDSN client(s) for GEONET.\n",
      "[2021-11-25 00:48:58,804] - obspy.clients.fdsn.mass_downloader - INFO: Successfully initialized 1 client(s): GEONET.\n",
      "[2021-11-25 00:48:58,805] - obspy.clients.fdsn.mass_downloader - INFO: Total acquired or preexisting stations: 0\n",
      "[2021-11-25 00:48:58,806] - obspy.clients.fdsn.mass_downloader - INFO: Client 'GEONET' - Requesting unreliable availability.\n"
     ]
    },
    {
     "name": "stdout",
     "output_type": "stream",
     "text": [
      "=================================================================\n",
      "Initiating mass download request.\n"
     ]
    },
    {
     "name": "stderr",
     "output_type": "stream",
     "text": [
      "[2021-11-25 00:48:59,508] - obspy.clients.fdsn.mass_downloader - INFO: Client 'GEONET' - Successfully requested availability (0.70 seconds)\n",
      "[2021-11-25 00:48:59,522] - obspy.clients.fdsn.mass_downloader - INFO: Client 'GEONET' - Found 1 stations (1 channels).\n",
      "[2021-11-25 00:48:59,523] - obspy.clients.fdsn.mass_downloader - INFO: Client 'GEONET' - Will attempt to download data from 1 stations.\n",
      "[2021-11-25 00:48:59,524] - obspy.clients.fdsn.mass_downloader - INFO: Client 'GEONET' - Status for 1 time intervals/channels before downloading: NEEDS_DOWNLOADING\n",
      "[2021-11-25 00:49:00,543] - obspy.clients.fdsn.mass_downloader - INFO: Client 'GEONET' - Successfully downloaded 1 channels (of 1)\n",
      "[2021-11-25 00:49:00,560] - obspy.clients.fdsn.mass_downloader - INFO: Client 'GEONET' - Launching basic QC checks...\n",
      "[2021-11-25 00:49:00,586] - obspy.clients.fdsn.mass_downloader - INFO: Client 'GEONET' - Downloaded 0.0 MB [3.88 KB/sec] of data, 0.0 MB of which were discarded afterwards.\n",
      "[2021-11-25 00:49:00,589] - obspy.clients.fdsn.mass_downloader - INFO: Client 'GEONET' - Status for 1 time intervals/channels after downloading: DOWNLOADED\n",
      "[2021-11-25 00:49:00,596] - obspy.clients.fdsn.mass_downloader - INFO: Client 'GEONET' - No station information to download.\n",
      "[2021-11-25 00:49:00,600] - obspy.clients.fdsn.mass_downloader - INFO: ============================== Final report\n",
      "[2021-11-25 00:49:00,602] - obspy.clients.fdsn.mass_downloader - INFO: 0 MiniSEED files [0.0 MB] already existed.\n",
      "[2021-11-25 00:49:00,607] - obspy.clients.fdsn.mass_downloader - INFO: 1 StationXML files [0.0 MB] already existed.\n",
      "[2021-11-25 00:49:00,608] - obspy.clients.fdsn.mass_downloader - INFO: Client 'GEONET' - Acquired 1 MiniSEED files [0.0 MB].\n",
      "[2021-11-25 00:49:00,610] - obspy.clients.fdsn.mass_downloader - INFO: Client 'GEONET' - Acquired 0 StationXML files [0.0 MB].\n",
      "[2021-11-25 00:49:00,610] - obspy.clients.fdsn.mass_downloader - INFO: Downloaded 0.0 MB in total.\n",
      "[2021-11-25 00:49:00,621] - obspy.clients.fdsn.mass_downloader - INFO: Initializing FDSN client(s) for GEONET.\n",
      "[2021-11-25 00:49:00,637] - obspy.clients.fdsn.mass_downloader - INFO: Successfully initialized 1 client(s): GEONET.\n",
      "[2021-11-25 00:49:00,641] - obspy.clients.fdsn.mass_downloader - INFO: Total acquired or preexisting stations: 0\n",
      "[2021-11-25 00:49:00,642] - obspy.clients.fdsn.mass_downloader - INFO: Client 'GEONET' - Requesting unreliable availability.\n"
     ]
    },
    {
     "name": "stdout",
     "output_type": "stream",
     "text": [
      "=================================================================\n",
      "Initiating mass download request.\n"
     ]
    },
    {
     "name": "stderr",
     "output_type": "stream",
     "text": [
      "[2021-11-25 00:49:01,267] - obspy.clients.fdsn.mass_downloader - INFO: Client 'GEONET' - Successfully requested availability (0.62 seconds)\n",
      "[2021-11-25 00:49:01,275] - obspy.clients.fdsn.mass_downloader - INFO: Client 'GEONET' - Found 1 stations (1 channels).\n",
      "[2021-11-25 00:49:01,276] - obspy.clients.fdsn.mass_downloader - INFO: Client 'GEONET' - Will attempt to download data from 1 stations.\n",
      "[2021-11-25 00:49:01,280] - obspy.clients.fdsn.mass_downloader - INFO: Client 'GEONET' - Status for 1 time intervals/channels before downloading: NEEDS_DOWNLOADING\n",
      "[2021-11-25 00:49:02,193] - obspy.clients.fdsn.mass_downloader - INFO: Client 'GEONET' - Successfully downloaded 1 channels (of 1)\n",
      "[2021-11-25 00:49:02,214] - obspy.clients.fdsn.mass_downloader - INFO: Client 'GEONET' - Launching basic QC checks...\n",
      "[2021-11-25 00:49:02,236] - obspy.clients.fdsn.mass_downloader - INFO: Client 'GEONET' - Downloaded 0.0 MB [3.77 KB/sec] of data, 0.0 MB of which were discarded afterwards.\n",
      "[2021-11-25 00:49:02,239] - obspy.clients.fdsn.mass_downloader - INFO: Client 'GEONET' - Status for 1 time intervals/channels after downloading: DOWNLOADED\n",
      "[2021-11-25 00:49:02,250] - obspy.clients.fdsn.mass_downloader - INFO: Client 'GEONET' - No station information to download.\n",
      "[2021-11-25 00:49:02,252] - obspy.clients.fdsn.mass_downloader - INFO: ============================== Final report\n",
      "[2021-11-25 00:49:02,256] - obspy.clients.fdsn.mass_downloader - INFO: 0 MiniSEED files [0.0 MB] already existed.\n",
      "[2021-11-25 00:49:02,257] - obspy.clients.fdsn.mass_downloader - INFO: 1 StationXML files [0.0 MB] already existed.\n",
      "[2021-11-25 00:49:02,258] - obspy.clients.fdsn.mass_downloader - INFO: Client 'GEONET' - Acquired 1 MiniSEED files [0.0 MB].\n",
      "[2021-11-25 00:49:02,259] - obspy.clients.fdsn.mass_downloader - INFO: Client 'GEONET' - Acquired 0 StationXML files [0.0 MB].\n",
      "[2021-11-25 00:49:02,259] - obspy.clients.fdsn.mass_downloader - INFO: Downloaded 0.0 MB in total.\n",
      "[2021-11-25 00:49:02,263] - obspy.clients.fdsn.mass_downloader - INFO: Initializing FDSN client(s) for GEONET.\n",
      "[2021-11-25 00:49:02,272] - obspy.clients.fdsn.mass_downloader - INFO: Successfully initialized 1 client(s): GEONET.\n",
      "[2021-11-25 00:49:02,273] - obspy.clients.fdsn.mass_downloader - INFO: Total acquired or preexisting stations: 0\n",
      "[2021-11-25 00:49:02,273] - obspy.clients.fdsn.mass_downloader - INFO: Client 'GEONET' - Requesting unreliable availability.\n"
     ]
    },
    {
     "name": "stdout",
     "output_type": "stream",
     "text": [
      "=================================================================\n",
      "Initiating mass download request.\n"
     ]
    },
    {
     "name": "stderr",
     "output_type": "stream",
     "text": [
      "[2021-11-25 00:49:02,902] - obspy.clients.fdsn.mass_downloader - INFO: Client 'GEONET' - Successfully requested availability (0.63 seconds)\n",
      "[2021-11-25 00:49:02,910] - obspy.clients.fdsn.mass_downloader - INFO: Client 'GEONET' - Found 1 stations (1 channels).\n",
      "[2021-11-25 00:49:02,917] - obspy.clients.fdsn.mass_downloader - INFO: Client 'GEONET' - Will attempt to download data from 1 stations.\n",
      "[2021-11-25 00:49:02,923] - obspy.clients.fdsn.mass_downloader - INFO: Client 'GEONET' - Status for 1 time intervals/channels before downloading: NEEDS_DOWNLOADING\n",
      "[2021-11-25 00:49:04,024] - obspy.clients.fdsn.mass_downloader - INFO: Client 'GEONET' - Successfully downloaded 1 channels (of 1)\n",
      "[2021-11-25 00:49:04,039] - obspy.clients.fdsn.mass_downloader - INFO: Client 'GEONET' - Launching basic QC checks...\n",
      "[2021-11-25 00:49:04,050] - obspy.clients.fdsn.mass_downloader - INFO: Client 'GEONET' - Downloaded 0.0 MB [3.18 KB/sec] of data, 0.0 MB of which were discarded afterwards.\n",
      "[2021-11-25 00:49:04,053] - obspy.clients.fdsn.mass_downloader - INFO: Client 'GEONET' - Status for 1 time intervals/channels after downloading: DOWNLOADED\n",
      "[2021-11-25 00:49:04,064] - obspy.clients.fdsn.mass_downloader - INFO: Client 'GEONET' - No station information to download.\n",
      "[2021-11-25 00:49:04,067] - obspy.clients.fdsn.mass_downloader - INFO: ============================== Final report\n",
      "[2021-11-25 00:49:04,073] - obspy.clients.fdsn.mass_downloader - INFO: 0 MiniSEED files [0.0 MB] already existed.\n",
      "[2021-11-25 00:49:04,074] - obspy.clients.fdsn.mass_downloader - INFO: 1 StationXML files [0.0 MB] already existed.\n",
      "[2021-11-25 00:49:04,075] - obspy.clients.fdsn.mass_downloader - INFO: Client 'GEONET' - Acquired 1 MiniSEED files [0.0 MB].\n",
      "[2021-11-25 00:49:04,076] - obspy.clients.fdsn.mass_downloader - INFO: Client 'GEONET' - Acquired 0 StationXML files [0.0 MB].\n",
      "[2021-11-25 00:49:04,077] - obspy.clients.fdsn.mass_downloader - INFO: Downloaded 0.0 MB in total.\n",
      "[2021-11-25 00:49:04,089] - obspy.clients.fdsn.mass_downloader - INFO: Initializing FDSN client(s) for GEONET.\n",
      "[2021-11-25 00:49:04,103] - obspy.clients.fdsn.mass_downloader - INFO: Successfully initialized 1 client(s): GEONET.\n",
      "[2021-11-25 00:49:04,108] - obspy.clients.fdsn.mass_downloader - INFO: Total acquired or preexisting stations: 0\n",
      "[2021-11-25 00:49:04,109] - obspy.clients.fdsn.mass_downloader - INFO: Client 'GEONET' - Requesting unreliable availability.\n"
     ]
    },
    {
     "name": "stdout",
     "output_type": "stream",
     "text": [
      "=================================================================\n",
      "Initiating mass download request.\n"
     ]
    },
    {
     "name": "stderr",
     "output_type": "stream",
     "text": [
      "[2021-11-25 00:49:04,796] - obspy.clients.fdsn.mass_downloader - INFO: Client 'GEONET' - Successfully requested availability (0.68 seconds)\n",
      "[2021-11-25 00:49:04,806] - obspy.clients.fdsn.mass_downloader - INFO: Client 'GEONET' - Found 1 stations (1 channels).\n",
      "[2021-11-25 00:49:04,811] - obspy.clients.fdsn.mass_downloader - INFO: Client 'GEONET' - Will attempt to download data from 1 stations.\n",
      "[2021-11-25 00:49:04,814] - obspy.clients.fdsn.mass_downloader - INFO: Client 'GEONET' - Status for 1 time intervals/channels before downloading: NEEDS_DOWNLOADING\n",
      "[2021-11-25 00:49:06,314] - obspy.clients.fdsn.mass_downloader - INFO: Client 'GEONET' - Successfully downloaded 1 channels (of 1)\n",
      "[2021-11-25 00:49:06,323] - obspy.clients.fdsn.mass_downloader - INFO: Client 'GEONET' - Launching basic QC checks...\n",
      "[2021-11-25 00:49:06,330] - obspy.clients.fdsn.mass_downloader - INFO: Client 'GEONET' - Downloaded 0.0 MB [2.34 KB/sec] of data, 0.0 MB of which were discarded afterwards.\n",
      "[2021-11-25 00:49:06,330] - obspy.clients.fdsn.mass_downloader - INFO: Client 'GEONET' - Status for 1 time intervals/channels after downloading: DOWNLOADED\n",
      "[2021-11-25 00:49:06,333] - obspy.clients.fdsn.mass_downloader - INFO: Client 'GEONET' - No station information to download.\n",
      "[2021-11-25 00:49:06,338] - obspy.clients.fdsn.mass_downloader - INFO: ============================== Final report\n",
      "[2021-11-25 00:49:06,339] - obspy.clients.fdsn.mass_downloader - INFO: 0 MiniSEED files [0.0 MB] already existed.\n",
      "[2021-11-25 00:49:06,339] - obspy.clients.fdsn.mass_downloader - INFO: 1 StationXML files [0.0 MB] already existed.\n",
      "[2021-11-25 00:49:06,340] - obspy.clients.fdsn.mass_downloader - INFO: Client 'GEONET' - Acquired 1 MiniSEED files [0.0 MB].\n",
      "[2021-11-25 00:49:06,340] - obspy.clients.fdsn.mass_downloader - INFO: Client 'GEONET' - Acquired 0 StationXML files [0.0 MB].\n",
      "[2021-11-25 00:49:06,340] - obspy.clients.fdsn.mass_downloader - INFO: Downloaded 0.0 MB in total.\n",
      "[2021-11-25 00:49:06,344] - obspy.clients.fdsn.mass_downloader - INFO: Initializing FDSN client(s) for GEONET.\n",
      "[2021-11-25 00:49:06,352] - obspy.clients.fdsn.mass_downloader - INFO: Successfully initialized 1 client(s): GEONET.\n",
      "[2021-11-25 00:49:06,354] - obspy.clients.fdsn.mass_downloader - INFO: Total acquired or preexisting stations: 0\n",
      "[2021-11-25 00:49:06,354] - obspy.clients.fdsn.mass_downloader - INFO: Client 'GEONET' - Requesting unreliable availability.\n"
     ]
    },
    {
     "name": "stdout",
     "output_type": "stream",
     "text": [
      "=================================================================\n",
      "Initiating mass download request.\n"
     ]
    },
    {
     "name": "stderr",
     "output_type": "stream",
     "text": [
      "[2021-11-25 00:49:07,046] - obspy.clients.fdsn.mass_downloader - INFO: Client 'GEONET' - Successfully requested availability (0.69 seconds)\n",
      "[2021-11-25 00:49:07,052] - obspy.clients.fdsn.mass_downloader - INFO: Client 'GEONET' - Found 1 stations (1 channels).\n",
      "[2021-11-25 00:49:07,052] - obspy.clients.fdsn.mass_downloader - INFO: Client 'GEONET' - Will attempt to download data from 1 stations.\n",
      "[2021-11-25 00:49:07,053] - obspy.clients.fdsn.mass_downloader - INFO: Client 'GEONET' - Status for 1 time intervals/channels before downloading: NEEDS_DOWNLOADING\n",
      "[2021-11-25 00:49:07,882] - obspy.clients.fdsn.mass_downloader - INFO: Client 'GEONET' - Successfully downloaded 1 channels (of 1)\n",
      "[2021-11-25 00:49:07,890] - obspy.clients.fdsn.mass_downloader - INFO: Client 'GEONET' - Launching basic QC checks...\n",
      "[2021-11-25 00:49:07,906] - obspy.clients.fdsn.mass_downloader - INFO: Client 'GEONET' - Downloaded 0.0 MB [3.60 KB/sec] of data, 0.0 MB of which were discarded afterwards.\n",
      "[2021-11-25 00:49:07,906] - obspy.clients.fdsn.mass_downloader - INFO: Client 'GEONET' - Status for 1 time intervals/channels after downloading: DOWNLOADED\n",
      "[2021-11-25 00:49:07,909] - obspy.clients.fdsn.mass_downloader - INFO: Client 'GEONET' - No station information to download.\n",
      "[2021-11-25 00:49:07,910] - obspy.clients.fdsn.mass_downloader - INFO: ============================== Final report\n",
      "[2021-11-25 00:49:07,910] - obspy.clients.fdsn.mass_downloader - INFO: 0 MiniSEED files [0.0 MB] already existed.\n",
      "[2021-11-25 00:49:07,910] - obspy.clients.fdsn.mass_downloader - INFO: 1 StationXML files [0.0 MB] already existed.\n",
      "[2021-11-25 00:49:07,911] - obspy.clients.fdsn.mass_downloader - INFO: Client 'GEONET' - Acquired 1 MiniSEED files [0.0 MB].\n",
      "[2021-11-25 00:49:07,911] - obspy.clients.fdsn.mass_downloader - INFO: Client 'GEONET' - Acquired 0 StationXML files [0.0 MB].\n",
      "[2021-11-25 00:49:07,911] - obspy.clients.fdsn.mass_downloader - INFO: Downloaded 0.0 MB in total.\n",
      "[2021-11-25 00:49:07,914] - obspy.clients.fdsn.mass_downloader - INFO: Initializing FDSN client(s) for GEONET.\n",
      "[2021-11-25 00:49:07,924] - obspy.clients.fdsn.mass_downloader - INFO: Successfully initialized 1 client(s): GEONET.\n",
      "[2021-11-25 00:49:07,925] - obspy.clients.fdsn.mass_downloader - INFO: Total acquired or preexisting stations: 0\n",
      "[2021-11-25 00:49:07,925] - obspy.clients.fdsn.mass_downloader - INFO: Client 'GEONET' - Requesting unreliable availability.\n"
     ]
    },
    {
     "name": "stdout",
     "output_type": "stream",
     "text": [
      "=================================================================\n",
      "Initiating mass download request.\n"
     ]
    },
    {
     "name": "stderr",
     "output_type": "stream",
     "text": [
      "[2021-11-25 00:49:08,479] - obspy.clients.fdsn.mass_downloader - INFO: Client 'GEONET' - Successfully requested availability (0.55 seconds)\n",
      "[2021-11-25 00:49:08,485] - obspy.clients.fdsn.mass_downloader - INFO: Client 'GEONET' - Found 1 stations (1 channels).\n",
      "[2021-11-25 00:49:08,486] - obspy.clients.fdsn.mass_downloader - INFO: Client 'GEONET' - Will attempt to download data from 1 stations.\n",
      "[2021-11-25 00:49:08,486] - obspy.clients.fdsn.mass_downloader - INFO: Client 'GEONET' - Status for 1 time intervals/channels before downloading: NEEDS_DOWNLOADING\n",
      "[2021-11-25 00:49:09,462] - obspy.clients.fdsn.mass_downloader - INFO: Client 'GEONET' - Successfully downloaded 1 channels (of 1)\n",
      "[2021-11-25 00:49:09,480] - obspy.clients.fdsn.mass_downloader - INFO: Client 'GEONET' - Launching basic QC checks...\n",
      "[2021-11-25 00:49:09,507] - obspy.clients.fdsn.mass_downloader - INFO: Client 'GEONET' - Downloaded 0.0 MB [3.53 KB/sec] of data, 0.0 MB of which were discarded afterwards.\n",
      "[2021-11-25 00:49:09,510] - obspy.clients.fdsn.mass_downloader - INFO: Client 'GEONET' - Status for 1 time intervals/channels after downloading: DOWNLOADED\n",
      "[2021-11-25 00:49:09,522] - obspy.clients.fdsn.mass_downloader - INFO: Client 'GEONET' - No station information to download.\n",
      "[2021-11-25 00:49:09,525] - obspy.clients.fdsn.mass_downloader - INFO: ============================== Final report\n",
      "[2021-11-25 00:49:09,526] - obspy.clients.fdsn.mass_downloader - INFO: 0 MiniSEED files [0.0 MB] already existed.\n",
      "[2021-11-25 00:49:09,527] - obspy.clients.fdsn.mass_downloader - INFO: 1 StationXML files [0.0 MB] already existed.\n",
      "[2021-11-25 00:49:09,528] - obspy.clients.fdsn.mass_downloader - INFO: Client 'GEONET' - Acquired 1 MiniSEED files [0.0 MB].\n",
      "[2021-11-25 00:49:09,528] - obspy.clients.fdsn.mass_downloader - INFO: Client 'GEONET' - Acquired 0 StationXML files [0.0 MB].\n",
      "[2021-11-25 00:49:09,533] - obspy.clients.fdsn.mass_downloader - INFO: Downloaded 0.0 MB in total.\n",
      "[2021-11-25 00:49:09,541] - obspy.clients.fdsn.mass_downloader - INFO: Initializing FDSN client(s) for GEONET.\n",
      "[2021-11-25 00:49:09,557] - obspy.clients.fdsn.mass_downloader - INFO: Successfully initialized 1 client(s): GEONET.\n",
      "[2021-11-25 00:49:09,559] - obspy.clients.fdsn.mass_downloader - INFO: Total acquired or preexisting stations: 0\n",
      "[2021-11-25 00:49:09,560] - obspy.clients.fdsn.mass_downloader - INFO: Client 'GEONET' - Requesting unreliable availability.\n"
     ]
    },
    {
     "name": "stdout",
     "output_type": "stream",
     "text": [
      "=================================================================\n",
      "Initiating mass download request.\n"
     ]
    },
    {
     "name": "stderr",
     "output_type": "stream",
     "text": [
      "[2021-11-25 00:49:10,105] - obspy.clients.fdsn.mass_downloader - INFO: Client 'GEONET' - Successfully requested availability (0.54 seconds)\n",
      "[2021-11-25 00:49:10,113] - obspy.clients.fdsn.mass_downloader - INFO: Client 'GEONET' - Found 1 stations (1 channels).\n",
      "[2021-11-25 00:49:10,114] - obspy.clients.fdsn.mass_downloader - INFO: Client 'GEONET' - Will attempt to download data from 1 stations.\n",
      "[2021-11-25 00:49:10,116] - obspy.clients.fdsn.mass_downloader - INFO: Client 'GEONET' - Status for 1 time intervals/channels before downloading: NEEDS_DOWNLOADING\n",
      "[2021-11-25 00:49:11,088] - obspy.clients.fdsn.mass_downloader - INFO: Client 'GEONET' - Successfully downloaded 1 channels (of 1)\n",
      "[2021-11-25 00:49:11,099] - obspy.clients.fdsn.mass_downloader - INFO: Client 'GEONET' - Launching basic QC checks...\n",
      "[2021-11-25 00:49:11,116] - obspy.clients.fdsn.mass_downloader - INFO: Client 'GEONET' - Downloaded 0.0 MB [4.09 KB/sec] of data, 0.0 MB of which were discarded afterwards.\n",
      "[2021-11-25 00:49:11,116] - obspy.clients.fdsn.mass_downloader - INFO: Client 'GEONET' - Status for 1 time intervals/channels after downloading: DOWNLOADED\n",
      "[2021-11-25 00:49:11,119] - obspy.clients.fdsn.mass_downloader - INFO: Client 'GEONET' - No station information to download.\n",
      "[2021-11-25 00:49:11,120] - obspy.clients.fdsn.mass_downloader - INFO: ============================== Final report\n",
      "[2021-11-25 00:49:11,121] - obspy.clients.fdsn.mass_downloader - INFO: 0 MiniSEED files [0.0 MB] already existed.\n",
      "[2021-11-25 00:49:11,122] - obspy.clients.fdsn.mass_downloader - INFO: 1 StationXML files [0.0 MB] already existed.\n",
      "[2021-11-25 00:49:11,122] - obspy.clients.fdsn.mass_downloader - INFO: Client 'GEONET' - Acquired 1 MiniSEED files [0.0 MB].\n",
      "[2021-11-25 00:49:11,122] - obspy.clients.fdsn.mass_downloader - INFO: Client 'GEONET' - Acquired 0 StationXML files [0.0 MB].\n",
      "[2021-11-25 00:49:11,122] - obspy.clients.fdsn.mass_downloader - INFO: Downloaded 0.0 MB in total.\n",
      "[2021-11-25 00:49:11,130] - obspy.clients.fdsn.mass_downloader - INFO: Initializing FDSN client(s) for GEONET.\n",
      "[2021-11-25 00:49:11,134] - obspy.clients.fdsn.mass_downloader - INFO: Successfully initialized 1 client(s): GEONET.\n",
      "[2021-11-25 00:49:11,135] - obspy.clients.fdsn.mass_downloader - INFO: Total acquired or preexisting stations: 0\n",
      "[2021-11-25 00:49:11,135] - obspy.clients.fdsn.mass_downloader - INFO: Client 'GEONET' - Requesting unreliable availability.\n"
     ]
    },
    {
     "name": "stdout",
     "output_type": "stream",
     "text": [
      "=================================================================\n",
      "Initiating mass download request.\n"
     ]
    },
    {
     "name": "stderr",
     "output_type": "stream",
     "text": [
      "[2021-11-25 00:49:11,779] - obspy.clients.fdsn.mass_downloader - INFO: Client 'GEONET' - Successfully requested availability (0.64 seconds)\n",
      "[2021-11-25 00:49:11,781] - obspy.clients.fdsn.mass_downloader - INFO: Client 'GEONET' - Found 1 stations (1 channels).\n",
      "[2021-11-25 00:49:11,781] - obspy.clients.fdsn.mass_downloader - INFO: Client 'GEONET' - Will attempt to download data from 1 stations.\n",
      "[2021-11-25 00:49:11,782] - obspy.clients.fdsn.mass_downloader - INFO: Client 'GEONET' - Status for 1 time intervals/channels before downloading: NEEDS_DOWNLOADING\n",
      "[2021-11-25 00:49:12,688] - obspy.clients.fdsn.mass_downloader - INFO: Client 'GEONET' - Successfully downloaded 1 channels (of 1)\n",
      "[2021-11-25 00:49:12,706] - obspy.clients.fdsn.mass_downloader - INFO: Client 'GEONET' - Launching basic QC checks...\n",
      "[2021-11-25 00:49:12,722] - obspy.clients.fdsn.mass_downloader - INFO: Client 'GEONET' - Downloaded 0.0 MB [3.80 KB/sec] of data, 0.0 MB of which were discarded afterwards.\n",
      "[2021-11-25 00:49:12,726] - obspy.clients.fdsn.mass_downloader - INFO: Client 'GEONET' - Status for 1 time intervals/channels after downloading: DOWNLOADED\n",
      "[2021-11-25 00:49:12,742] - obspy.clients.fdsn.mass_downloader - INFO: Client 'GEONET' - No station information to download.\n",
      "[2021-11-25 00:49:12,743] - obspy.clients.fdsn.mass_downloader - INFO: ============================== Final report\n",
      "[2021-11-25 00:49:12,750] - obspy.clients.fdsn.mass_downloader - INFO: 0 MiniSEED files [0.0 MB] already existed.\n",
      "[2021-11-25 00:49:12,751] - obspy.clients.fdsn.mass_downloader - INFO: 1 StationXML files [0.0 MB] already existed.\n",
      "[2021-11-25 00:49:12,751] - obspy.clients.fdsn.mass_downloader - INFO: Client 'GEONET' - Acquired 1 MiniSEED files [0.0 MB].\n",
      "[2021-11-25 00:49:12,754] - obspy.clients.fdsn.mass_downloader - INFO: Client 'GEONET' - Acquired 0 StationXML files [0.0 MB].\n",
      "[2021-11-25 00:49:12,755] - obspy.clients.fdsn.mass_downloader - INFO: Downloaded 0.0 MB in total.\n",
      "[2021-11-25 00:49:12,766] - obspy.clients.fdsn.mass_downloader - INFO: Initializing FDSN client(s) for GEONET.\n",
      "[2021-11-25 00:49:12,773] - obspy.clients.fdsn.mass_downloader - INFO: Successfully initialized 1 client(s): GEONET.\n",
      "[2021-11-25 00:49:12,775] - obspy.clients.fdsn.mass_downloader - INFO: Total acquired or preexisting stations: 0\n",
      "[2021-11-25 00:49:12,775] - obspy.clients.fdsn.mass_downloader - INFO: Client 'GEONET' - Requesting unreliable availability.\n"
     ]
    },
    {
     "name": "stdout",
     "output_type": "stream",
     "text": [
      "=================================================================\n",
      "Initiating mass download request.\n"
     ]
    },
    {
     "name": "stderr",
     "output_type": "stream",
     "text": [
      "[2021-11-25 00:49:13,338] - obspy.clients.fdsn.mass_downloader - INFO: Client 'GEONET' - Successfully requested availability (0.56 seconds)\n",
      "[2021-11-25 00:49:13,347] - obspy.clients.fdsn.mass_downloader - INFO: Client 'GEONET' - Found 1 stations (1 channels).\n",
      "[2021-11-25 00:49:13,350] - obspy.clients.fdsn.mass_downloader - INFO: Client 'GEONET' - Will attempt to download data from 1 stations.\n",
      "[2021-11-25 00:49:13,355] - obspy.clients.fdsn.mass_downloader - INFO: Client 'GEONET' - Status for 1 time intervals/channels before downloading: NEEDS_DOWNLOADING\n",
      "[2021-11-25 00:49:14,383] - obspy.clients.fdsn.mass_downloader - INFO: Client 'GEONET' - Successfully downloaded 1 channels (of 1)\n",
      "[2021-11-25 00:49:14,386] - obspy.clients.fdsn.mass_downloader - INFO: Client 'GEONET' - Launching basic QC checks...\n",
      "[2021-11-25 00:49:14,399] - obspy.clients.fdsn.mass_downloader - INFO: Client 'GEONET' - Downloaded 0.0 MB [3.46 KB/sec] of data, 0.0 MB of which were discarded afterwards.\n",
      "[2021-11-25 00:49:14,400] - obspy.clients.fdsn.mass_downloader - INFO: Client 'GEONET' - Status for 1 time intervals/channels after downloading: DOWNLOADED\n",
      "[2021-11-25 00:49:14,407] - obspy.clients.fdsn.mass_downloader - INFO: Client 'GEONET' - No station information to download.\n",
      "[2021-11-25 00:49:14,408] - obspy.clients.fdsn.mass_downloader - INFO: ============================== Final report\n",
      "[2021-11-25 00:49:14,413] - obspy.clients.fdsn.mass_downloader - INFO: 0 MiniSEED files [0.0 MB] already existed.\n",
      "[2021-11-25 00:49:14,415] - obspy.clients.fdsn.mass_downloader - INFO: 1 StationXML files [0.0 MB] already existed.\n",
      "[2021-11-25 00:49:14,415] - obspy.clients.fdsn.mass_downloader - INFO: Client 'GEONET' - Acquired 1 MiniSEED files [0.0 MB].\n",
      "[2021-11-25 00:49:14,416] - obspy.clients.fdsn.mass_downloader - INFO: Client 'GEONET' - Acquired 0 StationXML files [0.0 MB].\n",
      "[2021-11-25 00:49:14,417] - obspy.clients.fdsn.mass_downloader - INFO: Downloaded 0.0 MB in total.\n",
      "[2021-11-25 00:49:14,427] - obspy.clients.fdsn.mass_downloader - INFO: Initializing FDSN client(s) for GEONET.\n",
      "[2021-11-25 00:49:14,441] - obspy.clients.fdsn.mass_downloader - INFO: Successfully initialized 1 client(s): GEONET.\n",
      "[2021-11-25 00:49:14,444] - obspy.clients.fdsn.mass_downloader - INFO: Total acquired or preexisting stations: 0\n",
      "[2021-11-25 00:49:14,445] - obspy.clients.fdsn.mass_downloader - INFO: Client 'GEONET' - Requesting unreliable availability.\n"
     ]
    },
    {
     "name": "stdout",
     "output_type": "stream",
     "text": [
      "=================================================================\n",
      "Initiating mass download request.\n"
     ]
    },
    {
     "name": "stderr",
     "output_type": "stream",
     "text": [
      "[2021-11-25 00:49:15,058] - obspy.clients.fdsn.mass_downloader - INFO: Client 'GEONET' - Successfully requested availability (0.61 seconds)\n",
      "[2021-11-25 00:49:15,068] - obspy.clients.fdsn.mass_downloader - INFO: Client 'GEONET' - Found 1 stations (1 channels).\n",
      "[2021-11-25 00:49:15,070] - obspy.clients.fdsn.mass_downloader - INFO: Client 'GEONET' - Will attempt to download data from 1 stations.\n",
      "[2021-11-25 00:49:15,071] - obspy.clients.fdsn.mass_downloader - INFO: Client 'GEONET' - Status for 1 time intervals/channels before downloading: NEEDS_DOWNLOADING\n",
      "[2021-11-25 00:49:15,966] - obspy.clients.fdsn.mass_downloader - INFO: Client 'GEONET' - Successfully downloaded 1 channels (of 1)\n",
      "[2021-11-25 00:49:15,973] - obspy.clients.fdsn.mass_downloader - INFO: Client 'GEONET' - Launching basic QC checks...\n",
      "[2021-11-25 00:49:15,979] - obspy.clients.fdsn.mass_downloader - INFO: Client 'GEONET' - Downloaded 0.0 MB [5.59 KB/sec] of data, 0.0 MB of which were discarded afterwards.\n",
      "[2021-11-25 00:49:15,980] - obspy.clients.fdsn.mass_downloader - INFO: Client 'GEONET' - Status for 1 time intervals/channels after downloading: DOWNLOADED\n",
      "[2021-11-25 00:49:15,986] - obspy.clients.fdsn.mass_downloader - INFO: Client 'GEONET' - No station information to download.\n",
      "[2021-11-25 00:49:15,987] - obspy.clients.fdsn.mass_downloader - INFO: ============================== Final report\n",
      "[2021-11-25 00:49:15,987] - obspy.clients.fdsn.mass_downloader - INFO: 0 MiniSEED files [0.0 MB] already existed.\n",
      "[2021-11-25 00:49:15,988] - obspy.clients.fdsn.mass_downloader - INFO: 1 StationXML files [0.0 MB] already existed.\n",
      "[2021-11-25 00:49:15,988] - obspy.clients.fdsn.mass_downloader - INFO: Client 'GEONET' - Acquired 1 MiniSEED files [0.0 MB].\n",
      "[2021-11-25 00:49:15,989] - obspy.clients.fdsn.mass_downloader - INFO: Client 'GEONET' - Acquired 0 StationXML files [0.0 MB].\n",
      "[2021-11-25 00:49:15,989] - obspy.clients.fdsn.mass_downloader - INFO: Downloaded 0.0 MB in total.\n",
      "[2021-11-25 00:49:15,995] - obspy.clients.fdsn.mass_downloader - INFO: Initializing FDSN client(s) for GEONET.\n",
      "[2021-11-25 00:49:16,003] - obspy.clients.fdsn.mass_downloader - INFO: Successfully initialized 1 client(s): GEONET.\n",
      "[2021-11-25 00:49:16,004] - obspy.clients.fdsn.mass_downloader - INFO: Total acquired or preexisting stations: 0\n",
      "[2021-11-25 00:49:16,004] - obspy.clients.fdsn.mass_downloader - INFO: Client 'GEONET' - Requesting unreliable availability.\n"
     ]
    },
    {
     "name": "stdout",
     "output_type": "stream",
     "text": [
      "=================================================================\n",
      "Initiating mass download request.\n"
     ]
    },
    {
     "name": "stderr",
     "output_type": "stream",
     "text": [
      "[2021-11-25 00:49:16,612] - obspy.clients.fdsn.mass_downloader - INFO: Client 'GEONET' - Successfully requested availability (0.61 seconds)\n",
      "[2021-11-25 00:49:16,618] - obspy.clients.fdsn.mass_downloader - INFO: Client 'GEONET' - Found 1 stations (1 channels).\n",
      "[2021-11-25 00:49:16,619] - obspy.clients.fdsn.mass_downloader - INFO: Client 'GEONET' - Will attempt to download data from 1 stations.\n",
      "[2021-11-25 00:49:16,625] - obspy.clients.fdsn.mass_downloader - INFO: Client 'GEONET' - Status for 1 time intervals/channels before downloading: NEEDS_DOWNLOADING\n",
      "[2021-11-25 00:49:17,516] - obspy.clients.fdsn.mass_downloader - INFO: Client 'GEONET' - Successfully downloaded 1 channels (of 1)\n",
      "[2021-11-25 00:49:17,519] - obspy.clients.fdsn.mass_downloader - INFO: Client 'GEONET' - Launching basic QC checks...\n",
      "[2021-11-25 00:49:17,526] - obspy.clients.fdsn.mass_downloader - INFO: Client 'GEONET' - Downloaded 0.0 MB [3.96 KB/sec] of data, 0.0 MB of which were discarded afterwards.\n",
      "[2021-11-25 00:49:17,527] - obspy.clients.fdsn.mass_downloader - INFO: Client 'GEONET' - Status for 1 time intervals/channels after downloading: DOWNLOADED\n",
      "[2021-11-25 00:49:17,532] - obspy.clients.fdsn.mass_downloader - INFO: Client 'GEONET' - No station information to download.\n",
      "[2021-11-25 00:49:17,533] - obspy.clients.fdsn.mass_downloader - INFO: ============================== Final report\n",
      "[2021-11-25 00:49:17,533] - obspy.clients.fdsn.mass_downloader - INFO: 0 MiniSEED files [0.0 MB] already existed.\n",
      "[2021-11-25 00:49:17,533] - obspy.clients.fdsn.mass_downloader - INFO: 1 StationXML files [0.0 MB] already existed.\n",
      "[2021-11-25 00:49:17,533] - obspy.clients.fdsn.mass_downloader - INFO: Client 'GEONET' - Acquired 1 MiniSEED files [0.0 MB].\n",
      "[2021-11-25 00:49:17,534] - obspy.clients.fdsn.mass_downloader - INFO: Client 'GEONET' - Acquired 0 StationXML files [0.0 MB].\n",
      "[2021-11-25 00:49:17,534] - obspy.clients.fdsn.mass_downloader - INFO: Downloaded 0.0 MB in total.\n",
      "[2021-11-25 00:49:17,536] - obspy.clients.fdsn.mass_downloader - INFO: Initializing FDSN client(s) for GEONET.\n",
      "[2021-11-25 00:49:17,540] - obspy.clients.fdsn.mass_downloader - INFO: Successfully initialized 1 client(s): GEONET.\n",
      "[2021-11-25 00:49:17,540] - obspy.clients.fdsn.mass_downloader - INFO: Total acquired or preexisting stations: 0\n",
      "[2021-11-25 00:49:17,540] - obspy.clients.fdsn.mass_downloader - INFO: Client 'GEONET' - Requesting unreliable availability.\n"
     ]
    },
    {
     "name": "stdout",
     "output_type": "stream",
     "text": [
      "=================================================================\n",
      "Initiating mass download request.\n"
     ]
    },
    {
     "name": "stderr",
     "output_type": "stream",
     "text": [
      "[2021-11-25 00:49:18,124] - obspy.clients.fdsn.mass_downloader - INFO: Client 'GEONET' - Successfully requested availability (0.58 seconds)\n",
      "[2021-11-25 00:49:18,125] - obspy.clients.fdsn.mass_downloader - INFO: Client 'GEONET' - Found 1 stations (1 channels).\n",
      "[2021-11-25 00:49:18,125] - obspy.clients.fdsn.mass_downloader - INFO: Client 'GEONET' - Will attempt to download data from 1 stations.\n",
      "[2021-11-25 00:49:18,126] - obspy.clients.fdsn.mass_downloader - INFO: Client 'GEONET' - Status for 1 time intervals/channels before downloading: NEEDS_DOWNLOADING\n",
      "[2021-11-25 00:49:19,068] - obspy.clients.fdsn.mass_downloader - INFO: Client 'GEONET' - Successfully downloaded 1 channels (of 1)\n",
      "[2021-11-25 00:49:19,217] - obspy.clients.fdsn.mass_downloader - INFO: Client 'GEONET' - Launching basic QC checks...\n",
      "[2021-11-25 00:49:19,239] - obspy.clients.fdsn.mass_downloader - INFO: Client 'GEONET' - Downloaded 0.0 MB [3.67 KB/sec] of data, 0.0 MB of which were discarded afterwards.\n",
      "[2021-11-25 00:49:19,241] - obspy.clients.fdsn.mass_downloader - INFO: Client 'GEONET' - Status for 1 time intervals/channels after downloading: DOWNLOADED\n",
      "[2021-11-25 00:49:19,253] - obspy.clients.fdsn.mass_downloader - INFO: Client 'GEONET' - No station information to download.\n",
      "[2021-11-25 00:49:19,259] - obspy.clients.fdsn.mass_downloader - INFO: ============================== Final report\n",
      "[2021-11-25 00:49:19,273] - obspy.clients.fdsn.mass_downloader - INFO: 0 MiniSEED files [0.0 MB] already existed.\n",
      "[2021-11-25 00:49:19,277] - obspy.clients.fdsn.mass_downloader - INFO: 1 StationXML files [0.0 MB] already existed.\n",
      "[2021-11-25 00:49:19,278] - obspy.clients.fdsn.mass_downloader - INFO: Client 'GEONET' - Acquired 1 MiniSEED files [0.0 MB].\n",
      "[2021-11-25 00:49:19,278] - obspy.clients.fdsn.mass_downloader - INFO: Client 'GEONET' - Acquired 0 StationXML files [0.0 MB].\n",
      "[2021-11-25 00:49:19,279] - obspy.clients.fdsn.mass_downloader - INFO: Downloaded 0.0 MB in total.\n",
      "[2021-11-25 00:49:19,308] - obspy.clients.fdsn.mass_downloader - INFO: Initializing FDSN client(s) for GEONET.\n",
      "[2021-11-25 00:49:19,326] - obspy.clients.fdsn.mass_downloader - INFO: Successfully initialized 1 client(s): GEONET.\n",
      "[2021-11-25 00:49:19,328] - obspy.clients.fdsn.mass_downloader - INFO: Total acquired or preexisting stations: 0\n",
      "[2021-11-25 00:49:19,331] - obspy.clients.fdsn.mass_downloader - INFO: Client 'GEONET' - Requesting unreliable availability.\n"
     ]
    },
    {
     "name": "stdout",
     "output_type": "stream",
     "text": [
      "=================================================================\n",
      "Initiating mass download request.\n"
     ]
    },
    {
     "name": "stderr",
     "output_type": "stream",
     "text": [
      "[2021-11-25 00:49:20,012] - obspy.clients.fdsn.mass_downloader - INFO: Client 'GEONET' - Successfully requested availability (0.68 seconds)\n",
      "[2021-11-25 00:49:20,019] - obspy.clients.fdsn.mass_downloader - INFO: Client 'GEONET' - Found 1 stations (1 channels).\n",
      "[2021-11-25 00:49:20,022] - obspy.clients.fdsn.mass_downloader - INFO: Client 'GEONET' - Will attempt to download data from 1 stations.\n",
      "[2021-11-25 00:49:20,028] - obspy.clients.fdsn.mass_downloader - INFO: Client 'GEONET' - Status for 1 time intervals/channels before downloading: NEEDS_DOWNLOADING\n",
      "[2021-11-25 00:49:20,924] - obspy.clients.fdsn.mass_downloader - INFO: Client 'GEONET' - Successfully downloaded 1 channels (of 1)\n",
      "[2021-11-25 00:49:20,934] - obspy.clients.fdsn.mass_downloader - INFO: Client 'GEONET' - Launching basic QC checks...\n",
      "[2021-11-25 00:49:20,948] - obspy.clients.fdsn.mass_downloader - INFO: Client 'GEONET' - Downloaded 0.0 MB [3.92 KB/sec] of data, 0.0 MB of which were discarded afterwards.\n",
      "[2021-11-25 00:49:20,949] - obspy.clients.fdsn.mass_downloader - INFO: Client 'GEONET' - Status for 1 time intervals/channels after downloading: DOWNLOADED\n",
      "[2021-11-25 00:49:20,955] - obspy.clients.fdsn.mass_downloader - INFO: Client 'GEONET' - No station information to download.\n",
      "[2021-11-25 00:49:20,956] - obspy.clients.fdsn.mass_downloader - INFO: ============================== Final report\n",
      "[2021-11-25 00:49:20,956] - obspy.clients.fdsn.mass_downloader - INFO: 0 MiniSEED files [0.0 MB] already existed.\n",
      "[2021-11-25 00:49:20,957] - obspy.clients.fdsn.mass_downloader - INFO: 1 StationXML files [0.0 MB] already existed.\n",
      "[2021-11-25 00:49:20,957] - obspy.clients.fdsn.mass_downloader - INFO: Client 'GEONET' - Acquired 1 MiniSEED files [0.0 MB].\n",
      "[2021-11-25 00:49:20,958] - obspy.clients.fdsn.mass_downloader - INFO: Client 'GEONET' - Acquired 0 StationXML files [0.0 MB].\n",
      "[2021-11-25 00:49:20,958] - obspy.clients.fdsn.mass_downloader - INFO: Downloaded 0.0 MB in total.\n",
      "[2021-11-25 00:49:20,960] - obspy.clients.fdsn.mass_downloader - INFO: Initializing FDSN client(s) for GEONET.\n",
      "[2021-11-25 00:49:20,967] - obspy.clients.fdsn.mass_downloader - INFO: Successfully initialized 1 client(s): GEONET.\n",
      "[2021-11-25 00:49:20,968] - obspy.clients.fdsn.mass_downloader - INFO: Total acquired or preexisting stations: 0\n",
      "[2021-11-25 00:49:20,968] - obspy.clients.fdsn.mass_downloader - INFO: Client 'GEONET' - Requesting unreliable availability.\n"
     ]
    },
    {
     "name": "stdout",
     "output_type": "stream",
     "text": [
      "=================================================================\n",
      "Initiating mass download request.\n"
     ]
    },
    {
     "name": "stderr",
     "output_type": "stream",
     "text": [
      "[2021-11-25 00:49:21,512] - obspy.clients.fdsn.mass_downloader - INFO: Client 'GEONET' - Successfully requested availability (0.54 seconds)\n",
      "[2021-11-25 00:49:21,520] - obspy.clients.fdsn.mass_downloader - INFO: Client 'GEONET' - Found 1 stations (1 channels).\n",
      "[2021-11-25 00:49:21,521] - obspy.clients.fdsn.mass_downloader - INFO: Client 'GEONET' - Will attempt to download data from 1 stations.\n",
      "[2021-11-25 00:49:21,526] - obspy.clients.fdsn.mass_downloader - INFO: Client 'GEONET' - Status for 1 time intervals/channels before downloading: NEEDS_DOWNLOADING\n",
      "[2021-11-25 00:49:22,485] - obspy.clients.fdsn.mass_downloader - INFO: Client 'GEONET' - Successfully downloaded 1 channels (of 1)\n",
      "[2021-11-25 00:49:22,515] - obspy.clients.fdsn.mass_downloader - INFO: Client 'GEONET' - Launching basic QC checks...\n",
      "[2021-11-25 00:49:22,534] - obspy.clients.fdsn.mass_downloader - INFO: Client 'GEONET' - Downloaded 0.0 MB [3.56 KB/sec] of data, 0.0 MB of which were discarded afterwards.\n",
      "[2021-11-25 00:49:22,541] - obspy.clients.fdsn.mass_downloader - INFO: Client 'GEONET' - Status for 1 time intervals/channels after downloading: DOWNLOADED\n",
      "[2021-11-25 00:49:22,555] - obspy.clients.fdsn.mass_downloader - INFO: Client 'GEONET' - No station information to download.\n",
      "[2021-11-25 00:49:22,557] - obspy.clients.fdsn.mass_downloader - INFO: ============================== Final report\n",
      "[2021-11-25 00:49:22,562] - obspy.clients.fdsn.mass_downloader - INFO: 0 MiniSEED files [0.0 MB] already existed.\n",
      "[2021-11-25 00:49:22,563] - obspy.clients.fdsn.mass_downloader - INFO: 1 StationXML files [0.0 MB] already existed.\n",
      "[2021-11-25 00:49:22,563] - obspy.clients.fdsn.mass_downloader - INFO: Client 'GEONET' - Acquired 1 MiniSEED files [0.0 MB].\n",
      "[2021-11-25 00:49:22,566] - obspy.clients.fdsn.mass_downloader - INFO: Client 'GEONET' - Acquired 0 StationXML files [0.0 MB].\n",
      "[2021-11-25 00:49:22,567] - obspy.clients.fdsn.mass_downloader - INFO: Downloaded 0.0 MB in total.\n",
      "[2021-11-25 00:49:22,570] - obspy.clients.fdsn.mass_downloader - INFO: Initializing FDSN client(s) for GEONET.\n",
      "[2021-11-25 00:49:22,587] - obspy.clients.fdsn.mass_downloader - INFO: Successfully initialized 1 client(s): GEONET.\n",
      "[2021-11-25 00:49:22,591] - obspy.clients.fdsn.mass_downloader - INFO: Total acquired or preexisting stations: 0\n",
      "[2021-11-25 00:49:22,593] - obspy.clients.fdsn.mass_downloader - INFO: Client 'GEONET' - Requesting unreliable availability.\n"
     ]
    },
    {
     "name": "stdout",
     "output_type": "stream",
     "text": [
      "=================================================================\n",
      "Initiating mass download request.\n"
     ]
    },
    {
     "name": "stderr",
     "output_type": "stream",
     "text": [
      "[2021-11-25 00:49:23,181] - obspy.clients.fdsn.mass_downloader - INFO: Client 'GEONET' - Successfully requested availability (0.59 seconds)\n",
      "[2021-11-25 00:49:23,203] - obspy.clients.fdsn.mass_downloader - INFO: Client 'GEONET' - Found 1 stations (1 channels).\n",
      "[2021-11-25 00:49:23,217] - obspy.clients.fdsn.mass_downloader - INFO: Client 'GEONET' - Will attempt to download data from 1 stations.\n",
      "[2021-11-25 00:49:23,225] - obspy.clients.fdsn.mass_downloader - INFO: Client 'GEONET' - Status for 1 time intervals/channels before downloading: NEEDS_DOWNLOADING\n",
      "[2021-11-25 00:49:24,277] - obspy.clients.fdsn.mass_downloader - INFO: Client 'GEONET' - Successfully downloaded 1 channels (of 1)\n",
      "[2021-11-25 00:49:24,299] - obspy.clients.fdsn.mass_downloader - INFO: Client 'GEONET' - Launching basic QC checks...\n",
      "[2021-11-25 00:49:24,318] - obspy.clients.fdsn.mass_downloader - INFO: Client 'GEONET' - Downloaded 0.0 MB [3.81 KB/sec] of data, 0.0 MB of which were discarded afterwards.\n",
      "[2021-11-25 00:49:24,324] - obspy.clients.fdsn.mass_downloader - INFO: Client 'GEONET' - Status for 1 time intervals/channels after downloading: DOWNLOADED\n",
      "[2021-11-25 00:49:24,330] - obspy.clients.fdsn.mass_downloader - INFO: Client 'GEONET' - No station information to download.\n",
      "[2021-11-25 00:49:24,336] - obspy.clients.fdsn.mass_downloader - INFO: ============================== Final report\n",
      "[2021-11-25 00:49:24,342] - obspy.clients.fdsn.mass_downloader - INFO: 0 MiniSEED files [0.0 MB] already existed.\n",
      "[2021-11-25 00:49:24,344] - obspy.clients.fdsn.mass_downloader - INFO: 1 StationXML files [0.0 MB] already existed.\n",
      "[2021-11-25 00:49:24,345] - obspy.clients.fdsn.mass_downloader - INFO: Client 'GEONET' - Acquired 1 MiniSEED files [0.0 MB].\n",
      "[2021-11-25 00:49:24,350] - obspy.clients.fdsn.mass_downloader - INFO: Client 'GEONET' - Acquired 0 StationXML files [0.0 MB].\n",
      "[2021-11-25 00:49:24,351] - obspy.clients.fdsn.mass_downloader - INFO: Downloaded 0.0 MB in total.\n",
      "[2021-11-25 00:49:24,365] - obspy.clients.fdsn.mass_downloader - INFO: Initializing FDSN client(s) for GEONET.\n",
      "[2021-11-25 00:49:24,381] - obspy.clients.fdsn.mass_downloader - INFO: Successfully initialized 1 client(s): GEONET.\n",
      "[2021-11-25 00:49:24,388] - obspy.clients.fdsn.mass_downloader - INFO: Total acquired or preexisting stations: 0\n",
      "[2021-11-25 00:49:24,390] - obspy.clients.fdsn.mass_downloader - INFO: Client 'GEONET' - Requesting unreliable availability.\n"
     ]
    },
    {
     "name": "stdout",
     "output_type": "stream",
     "text": [
      "=================================================================\n",
      "Initiating mass download request.\n"
     ]
    },
    {
     "name": "stderr",
     "output_type": "stream",
     "text": [
      "[2021-11-25 00:49:25,068] - obspy.clients.fdsn.mass_downloader - INFO: Client 'GEONET' - Successfully requested availability (0.68 seconds)\n",
      "[2021-11-25 00:49:25,084] - obspy.clients.fdsn.mass_downloader - INFO: Client 'GEONET' - Found 1 stations (1 channels).\n",
      "[2021-11-25 00:49:25,085] - obspy.clients.fdsn.mass_downloader - INFO: Client 'GEONET' - Will attempt to download data from 1 stations.\n",
      "[2021-11-25 00:49:25,094] - obspy.clients.fdsn.mass_downloader - INFO: Client 'GEONET' - Status for 1 time intervals/channels before downloading: NEEDS_DOWNLOADING\n",
      "[2021-11-25 00:49:26,214] - obspy.clients.fdsn.mass_downloader - INFO: Client 'GEONET' - Successfully downloaded 1 channels (of 1)\n",
      "[2021-11-25 00:49:26,221] - obspy.clients.fdsn.mass_downloader - INFO: Client 'GEONET' - Launching basic QC checks...\n",
      "[2021-11-25 00:49:26,235] - obspy.clients.fdsn.mass_downloader - INFO: Client 'GEONET' - Downloaded 0.0 MB [4.99 KB/sec] of data, 0.0 MB of which were discarded afterwards.\n",
      "[2021-11-25 00:49:26,237] - obspy.clients.fdsn.mass_downloader - INFO: Client 'GEONET' - Status for 1 time intervals/channels after downloading: DOWNLOADED\n",
      "[2021-11-25 00:49:26,245] - obspy.clients.fdsn.mass_downloader - INFO: Client 'GEONET' - No station information to download.\n",
      "[2021-11-25 00:49:26,248] - obspy.clients.fdsn.mass_downloader - INFO: ============================== Final report\n",
      "[2021-11-25 00:49:26,248] - obspy.clients.fdsn.mass_downloader - INFO: 0 MiniSEED files [0.0 MB] already existed.\n",
      "[2021-11-25 00:49:26,250] - obspy.clients.fdsn.mass_downloader - INFO: 1 StationXML files [0.0 MB] already existed.\n",
      "[2021-11-25 00:49:26,251] - obspy.clients.fdsn.mass_downloader - INFO: Client 'GEONET' - Acquired 1 MiniSEED files [0.0 MB].\n",
      "[2021-11-25 00:49:26,251] - obspy.clients.fdsn.mass_downloader - INFO: Client 'GEONET' - Acquired 0 StationXML files [0.0 MB].\n",
      "[2021-11-25 00:49:26,252] - obspy.clients.fdsn.mass_downloader - INFO: Downloaded 0.0 MB in total.\n",
      "[2021-11-25 00:49:26,261] - obspy.clients.fdsn.mass_downloader - INFO: Initializing FDSN client(s) for GEONET.\n",
      "[2021-11-25 00:49:26,271] - obspy.clients.fdsn.mass_downloader - INFO: Successfully initialized 1 client(s): GEONET.\n",
      "[2021-11-25 00:49:26,272] - obspy.clients.fdsn.mass_downloader - INFO: Total acquired or preexisting stations: 0\n",
      "[2021-11-25 00:49:26,273] - obspy.clients.fdsn.mass_downloader - INFO: Client 'GEONET' - Requesting unreliable availability.\n"
     ]
    },
    {
     "name": "stdout",
     "output_type": "stream",
     "text": [
      "=================================================================\n",
      "Initiating mass download request.\n"
     ]
    },
    {
     "name": "stderr",
     "output_type": "stream",
     "text": [
      "[2021-11-25 00:49:26,835] - obspy.clients.fdsn.mass_downloader - INFO: Client 'GEONET' - Successfully requested availability (0.56 seconds)\n",
      "[2021-11-25 00:49:26,838] - obspy.clients.fdsn.mass_downloader - INFO: Client 'GEONET' - Found 1 stations (1 channels).\n",
      "[2021-11-25 00:49:26,840] - obspy.clients.fdsn.mass_downloader - INFO: Client 'GEONET' - Will attempt to download data from 1 stations.\n",
      "[2021-11-25 00:49:26,844] - obspy.clients.fdsn.mass_downloader - INFO: Client 'GEONET' - Status for 1 time intervals/channels before downloading: NEEDS_DOWNLOADING\n",
      "[2021-11-25 00:49:27,897] - obspy.clients.fdsn.mass_downloader - INFO: Client 'GEONET' - Successfully downloaded 1 channels (of 1)\n",
      "[2021-11-25 00:49:27,905] - obspy.clients.fdsn.mass_downloader - INFO: Client 'GEONET' - Launching basic QC checks...\n",
      "[2021-11-25 00:49:27,914] - obspy.clients.fdsn.mass_downloader - INFO: Client 'GEONET' - Downloaded 0.0 MB [3.81 KB/sec] of data, 0.0 MB of which were discarded afterwards.\n",
      "[2021-11-25 00:49:27,915] - obspy.clients.fdsn.mass_downloader - INFO: Client 'GEONET' - Status for 1 time intervals/channels after downloading: DOWNLOADED\n",
      "[2021-11-25 00:49:27,920] - obspy.clients.fdsn.mass_downloader - INFO: Client 'GEONET' - No station information to download.\n",
      "[2021-11-25 00:49:27,922] - obspy.clients.fdsn.mass_downloader - INFO: ============================== Final report\n",
      "[2021-11-25 00:49:27,922] - obspy.clients.fdsn.mass_downloader - INFO: 0 MiniSEED files [0.0 MB] already existed.\n",
      "[2021-11-25 00:49:27,923] - obspy.clients.fdsn.mass_downloader - INFO: 1 StationXML files [0.0 MB] already existed.\n",
      "[2021-11-25 00:49:27,923] - obspy.clients.fdsn.mass_downloader - INFO: Client 'GEONET' - Acquired 1 MiniSEED files [0.0 MB].\n",
      "[2021-11-25 00:49:27,924] - obspy.clients.fdsn.mass_downloader - INFO: Client 'GEONET' - Acquired 0 StationXML files [0.0 MB].\n",
      "[2021-11-25 00:49:27,925] - obspy.clients.fdsn.mass_downloader - INFO: Downloaded 0.0 MB in total.\n",
      "[2021-11-25 00:49:27,929] - obspy.clients.fdsn.mass_downloader - INFO: Initializing FDSN client(s) for GEONET.\n",
      "[2021-11-25 00:49:27,938] - obspy.clients.fdsn.mass_downloader - INFO: Successfully initialized 1 client(s): GEONET.\n",
      "[2021-11-25 00:49:27,940] - obspy.clients.fdsn.mass_downloader - INFO: Total acquired or preexisting stations: 0\n",
      "[2021-11-25 00:49:27,941] - obspy.clients.fdsn.mass_downloader - INFO: Client 'GEONET' - Requesting unreliable availability.\n"
     ]
    },
    {
     "name": "stdout",
     "output_type": "stream",
     "text": [
      "=================================================================\n",
      "Initiating mass download request.\n"
     ]
    },
    {
     "name": "stderr",
     "output_type": "stream",
     "text": [
      "[2021-11-25 00:49:28,667] - obspy.clients.fdsn.mass_downloader - INFO: Client 'GEONET' - Successfully requested availability (0.73 seconds)\n",
      "[2021-11-25 00:49:28,725] - obspy.clients.fdsn.mass_downloader - INFO: Client 'GEONET' - Found 1 stations (1 channels).\n",
      "[2021-11-25 00:49:28,747] - obspy.clients.fdsn.mass_downloader - INFO: Client 'GEONET' - Will attempt to download data from 1 stations.\n",
      "[2021-11-25 00:49:28,767] - obspy.clients.fdsn.mass_downloader - INFO: Client 'GEONET' - Status for 1 time intervals/channels before downloading: NEEDS_DOWNLOADING\n",
      "[2021-11-25 00:49:29,844] - obspy.clients.fdsn.mass_downloader - INFO: Client 'GEONET' - Successfully downloaded 1 channels (of 1)\n",
      "[2021-11-25 00:49:29,852] - obspy.clients.fdsn.mass_downloader - INFO: Client 'GEONET' - Launching basic QC checks...\n",
      "[2021-11-25 00:49:29,863] - obspy.clients.fdsn.mass_downloader - INFO: Client 'GEONET' - Downloaded 0.0 MB [5.31 KB/sec] of data, 0.0 MB of which were discarded afterwards.\n",
      "[2021-11-25 00:49:29,864] - obspy.clients.fdsn.mass_downloader - INFO: Client 'GEONET' - Status for 1 time intervals/channels after downloading: DOWNLOADED\n",
      "[2021-11-25 00:49:29,868] - obspy.clients.fdsn.mass_downloader - INFO: Client 'GEONET' - No station information to download.\n",
      "[2021-11-25 00:49:29,870] - obspy.clients.fdsn.mass_downloader - INFO: ============================== Final report\n",
      "[2021-11-25 00:49:29,871] - obspy.clients.fdsn.mass_downloader - INFO: 0 MiniSEED files [0.0 MB] already existed.\n",
      "[2021-11-25 00:49:29,872] - obspy.clients.fdsn.mass_downloader - INFO: 1 StationXML files [0.0 MB] already existed.\n",
      "[2021-11-25 00:49:29,873] - obspy.clients.fdsn.mass_downloader - INFO: Client 'GEONET' - Acquired 1 MiniSEED files [0.0 MB].\n",
      "[2021-11-25 00:49:29,873] - obspy.clients.fdsn.mass_downloader - INFO: Client 'GEONET' - Acquired 0 StationXML files [0.0 MB].\n",
      "[2021-11-25 00:49:29,875] - obspy.clients.fdsn.mass_downloader - INFO: Downloaded 0.0 MB in total.\n",
      "[2021-11-25 00:49:29,888] - obspy.clients.fdsn.mass_downloader - INFO: Initializing FDSN client(s) for GEONET.\n",
      "[2021-11-25 00:49:29,921] - obspy.clients.fdsn.mass_downloader - INFO: Successfully initialized 1 client(s): GEONET.\n",
      "[2021-11-25 00:49:29,928] - obspy.clients.fdsn.mass_downloader - INFO: Total acquired or preexisting stations: 0\n",
      "[2021-11-25 00:49:29,929] - obspy.clients.fdsn.mass_downloader - INFO: Client 'GEONET' - Requesting unreliable availability.\n"
     ]
    },
    {
     "name": "stdout",
     "output_type": "stream",
     "text": [
      "=================================================================\n",
      "Initiating mass download request.\n"
     ]
    },
    {
     "name": "stderr",
     "output_type": "stream",
     "text": [
      "[2021-11-25 00:49:30,512] - obspy.clients.fdsn.mass_downloader - INFO: Client 'GEONET' - Successfully requested availability (0.58 seconds)\n",
      "[2021-11-25 00:49:30,525] - obspy.clients.fdsn.mass_downloader - INFO: Client 'GEONET' - Found 1 stations (1 channels).\n",
      "[2021-11-25 00:49:30,544] - obspy.clients.fdsn.mass_downloader - INFO: Client 'GEONET' - Will attempt to download data from 1 stations.\n",
      "[2021-11-25 00:49:30,563] - obspy.clients.fdsn.mass_downloader - INFO: Client 'GEONET' - Status for 1 time intervals/channels before downloading: NEEDS_DOWNLOADING\n",
      "[2021-11-25 00:49:31,475] - obspy.clients.fdsn.mass_downloader - INFO: Client 'GEONET' - Successfully downloaded 1 channels (of 1)\n",
      "[2021-11-25 00:49:31,493] - obspy.clients.fdsn.mass_downloader - INFO: Client 'GEONET' - Launching basic QC checks...\n",
      "[2021-11-25 00:49:31,528] - obspy.clients.fdsn.mass_downloader - INFO: Client 'GEONET' - Downloaded 0.0 MB [5.03 KB/sec] of data, 0.0 MB of which were discarded afterwards.\n",
      "[2021-11-25 00:49:31,541] - obspy.clients.fdsn.mass_downloader - INFO: Client 'GEONET' - Status for 1 time intervals/channels after downloading: DOWNLOADED\n",
      "[2021-11-25 00:49:31,560] - obspy.clients.fdsn.mass_downloader - INFO: Client 'GEONET' - No station information to download.\n",
      "[2021-11-25 00:49:31,566] - obspy.clients.fdsn.mass_downloader - INFO: ============================== Final report\n",
      "[2021-11-25 00:49:31,570] - obspy.clients.fdsn.mass_downloader - INFO: 0 MiniSEED files [0.0 MB] already existed.\n",
      "[2021-11-25 00:49:31,572] - obspy.clients.fdsn.mass_downloader - INFO: 1 StationXML files [0.0 MB] already existed.\n",
      "[2021-11-25 00:49:31,572] - obspy.clients.fdsn.mass_downloader - INFO: Client 'GEONET' - Acquired 1 MiniSEED files [0.0 MB].\n",
      "[2021-11-25 00:49:31,572] - obspy.clients.fdsn.mass_downloader - INFO: Client 'GEONET' - Acquired 0 StationXML files [0.0 MB].\n",
      "[2021-11-25 00:49:31,573] - obspy.clients.fdsn.mass_downloader - INFO: Downloaded 0.0 MB in total.\n",
      "[2021-11-25 00:49:31,581] - obspy.clients.fdsn.mass_downloader - INFO: Initializing FDSN client(s) for GEONET.\n",
      "[2021-11-25 00:49:31,610] - obspy.clients.fdsn.mass_downloader - INFO: Successfully initialized 1 client(s): GEONET.\n",
      "[2021-11-25 00:49:31,619] - obspy.clients.fdsn.mass_downloader - INFO: Total acquired or preexisting stations: 0\n",
      "[2021-11-25 00:49:31,624] - obspy.clients.fdsn.mass_downloader - INFO: Client 'GEONET' - Requesting unreliable availability.\n"
     ]
    },
    {
     "name": "stdout",
     "output_type": "stream",
     "text": [
      "=================================================================\n",
      "Initiating mass download request.\n"
     ]
    },
    {
     "name": "stderr",
     "output_type": "stream",
     "text": [
      "[2021-11-25 00:49:32,204] - obspy.clients.fdsn.mass_downloader - INFO: Client 'GEONET' - Successfully requested availability (0.58 seconds)\n",
      "[2021-11-25 00:49:32,228] - obspy.clients.fdsn.mass_downloader - INFO: Client 'GEONET' - Found 1 stations (1 channels).\n",
      "[2021-11-25 00:49:32,233] - obspy.clients.fdsn.mass_downloader - INFO: Client 'GEONET' - Will attempt to download data from 1 stations.\n",
      "[2021-11-25 00:49:32,239] - obspy.clients.fdsn.mass_downloader - INFO: Client 'GEONET' - Status for 1 time intervals/channels before downloading: NEEDS_DOWNLOADING\n",
      "[2021-11-25 00:49:33,349] - obspy.clients.fdsn.mass_downloader - INFO: Client 'GEONET' - Successfully downloaded 1 channels (of 1)\n",
      "[2021-11-25 00:49:33,375] - obspy.clients.fdsn.mass_downloader - INFO: Client 'GEONET' - Launching basic QC checks...\n",
      "[2021-11-25 00:49:33,390] - obspy.clients.fdsn.mass_downloader - INFO: Client 'GEONET' - Downloaded 0.0 MB [4.12 KB/sec] of data, 0.0 MB of which were discarded afterwards.\n",
      "[2021-11-25 00:49:33,390] - obspy.clients.fdsn.mass_downloader - INFO: Client 'GEONET' - Status for 1 time intervals/channels after downloading: DOWNLOADED\n",
      "[2021-11-25 00:49:33,411] - obspy.clients.fdsn.mass_downloader - INFO: Client 'GEONET' - No station information to download.\n",
      "[2021-11-25 00:49:33,425] - obspy.clients.fdsn.mass_downloader - INFO: ============================== Final report\n",
      "[2021-11-25 00:49:33,438] - obspy.clients.fdsn.mass_downloader - INFO: 0 MiniSEED files [0.0 MB] already existed.\n",
      "[2021-11-25 00:49:33,444] - obspy.clients.fdsn.mass_downloader - INFO: 1 StationXML files [0.0 MB] already existed.\n",
      "[2021-11-25 00:49:33,448] - obspy.clients.fdsn.mass_downloader - INFO: Client 'GEONET' - Acquired 1 MiniSEED files [0.0 MB].\n",
      "[2021-11-25 00:49:33,450] - obspy.clients.fdsn.mass_downloader - INFO: Client 'GEONET' - Acquired 0 StationXML files [0.0 MB].\n",
      "[2021-11-25 00:49:33,456] - obspy.clients.fdsn.mass_downloader - INFO: Downloaded 0.0 MB in total.\n",
      "[2021-11-25 00:49:33,489] - obspy.clients.fdsn.mass_downloader - INFO: Initializing FDSN client(s) for GEONET.\n",
      "[2021-11-25 00:49:33,522] - obspy.clients.fdsn.mass_downloader - INFO: Successfully initialized 1 client(s): GEONET.\n",
      "[2021-11-25 00:49:33,529] - obspy.clients.fdsn.mass_downloader - INFO: Total acquired or preexisting stations: 0\n",
      "[2021-11-25 00:49:33,533] - obspy.clients.fdsn.mass_downloader - INFO: Client 'GEONET' - Requesting unreliable availability.\n"
     ]
    },
    {
     "name": "stdout",
     "output_type": "stream",
     "text": [
      "=================================================================\n",
      "Initiating mass download request.\n"
     ]
    },
    {
     "name": "stderr",
     "output_type": "stream",
     "text": [
      "[2021-11-25 00:49:34,138] - obspy.clients.fdsn.mass_downloader - INFO: Client 'GEONET' - Successfully requested availability (0.60 seconds)\n",
      "[2021-11-25 00:49:34,140] - obspy.clients.fdsn.mass_downloader - INFO: Client 'GEONET' - Found 1 stations (1 channels).\n",
      "[2021-11-25 00:49:34,140] - obspy.clients.fdsn.mass_downloader - INFO: Client 'GEONET' - Will attempt to download data from 1 stations.\n",
      "[2021-11-25 00:49:34,141] - obspy.clients.fdsn.mass_downloader - INFO: Client 'GEONET' - Status for 1 time intervals/channels before downloading: NEEDS_DOWNLOADING\n",
      "[2021-11-25 00:49:34,977] - obspy.clients.fdsn.mass_downloader - INFO: Client 'GEONET' - Successfully downloaded 1 channels (of 1)\n",
      "[2021-11-25 00:49:34,983] - obspy.clients.fdsn.mass_downloader - INFO: Client 'GEONET' - Launching basic QC checks...\n",
      "[2021-11-25 00:49:34,994] - obspy.clients.fdsn.mass_downloader - INFO: Client 'GEONET' - Downloaded 0.0 MB [3.57 KB/sec] of data, 0.0 MB of which were discarded afterwards.\n",
      "[2021-11-25 00:49:34,995] - obspy.clients.fdsn.mass_downloader - INFO: Client 'GEONET' - Status for 1 time intervals/channels after downloading: DOWNLOADED\n",
      "[2021-11-25 00:49:34,999] - obspy.clients.fdsn.mass_downloader - INFO: Client 'GEONET' - No station information to download.\n",
      "[2021-11-25 00:49:35,001] - obspy.clients.fdsn.mass_downloader - INFO: ============================== Final report\n",
      "[2021-11-25 00:49:35,001] - obspy.clients.fdsn.mass_downloader - INFO: 0 MiniSEED files [0.0 MB] already existed.\n",
      "[2021-11-25 00:49:35,002] - obspy.clients.fdsn.mass_downloader - INFO: 1 StationXML files [0.0 MB] already existed.\n",
      "[2021-11-25 00:49:35,003] - obspy.clients.fdsn.mass_downloader - INFO: Client 'GEONET' - Acquired 1 MiniSEED files [0.0 MB].\n",
      "[2021-11-25 00:49:35,003] - obspy.clients.fdsn.mass_downloader - INFO: Client 'GEONET' - Acquired 0 StationXML files [0.0 MB].\n",
      "[2021-11-25 00:49:35,003] - obspy.clients.fdsn.mass_downloader - INFO: Downloaded 0.0 MB in total.\n",
      "[2021-11-25 00:49:35,006] - obspy.clients.fdsn.mass_downloader - INFO: Initializing FDSN client(s) for GEONET.\n",
      "[2021-11-25 00:49:35,014] - obspy.clients.fdsn.mass_downloader - INFO: Successfully initialized 1 client(s): GEONET.\n",
      "[2021-11-25 00:49:35,015] - obspy.clients.fdsn.mass_downloader - INFO: Total acquired or preexisting stations: 0\n",
      "[2021-11-25 00:49:35,016] - obspy.clients.fdsn.mass_downloader - INFO: Client 'GEONET' - Requesting unreliable availability.\n"
     ]
    },
    {
     "name": "stdout",
     "output_type": "stream",
     "text": [
      "=================================================================\n",
      "Initiating mass download request.\n"
     ]
    },
    {
     "name": "stderr",
     "output_type": "stream",
     "text": [
      "[2021-11-25 00:49:36,440] - obspy.clients.fdsn.mass_downloader - INFO: Client 'GEONET' - Successfully requested availability (1.42 seconds)\n",
      "[2021-11-25 00:49:36,455] - obspy.clients.fdsn.mass_downloader - INFO: Client 'GEONET' - Found 1 stations (1 channels).\n",
      "[2021-11-25 00:49:36,461] - obspy.clients.fdsn.mass_downloader - INFO: Client 'GEONET' - Will attempt to download data from 1 stations.\n",
      "[2021-11-25 00:49:36,469] - obspy.clients.fdsn.mass_downloader - INFO: Client 'GEONET' - Status for 1 time intervals/channels before downloading: NEEDS_DOWNLOADING\n",
      "[2021-11-25 00:49:37,460] - obspy.clients.fdsn.mass_downloader - INFO: Client 'GEONET' - Successfully downloaded 1 channels (of 1)\n",
      "[2021-11-25 00:49:37,472] - obspy.clients.fdsn.mass_downloader - INFO: Client 'GEONET' - Launching basic QC checks...\n",
      "[2021-11-25 00:49:37,490] - obspy.clients.fdsn.mass_downloader - INFO: Client 'GEONET' - Downloaded 0.0 MB [4.03 KB/sec] of data, 0.0 MB of which were discarded afterwards.\n",
      "[2021-11-25 00:49:37,496] - obspy.clients.fdsn.mass_downloader - INFO: Client 'GEONET' - Status for 1 time intervals/channels after downloading: DOWNLOADED\n",
      "[2021-11-25 00:49:37,549] - obspy.clients.fdsn.mass_downloader - INFO: Client 'GEONET' - No station information to download.\n",
      "[2021-11-25 00:49:37,599] - obspy.clients.fdsn.mass_downloader - INFO: ============================== Final report\n",
      "[2021-11-25 00:49:37,608] - obspy.clients.fdsn.mass_downloader - INFO: 0 MiniSEED files [0.0 MB] already existed.\n",
      "[2021-11-25 00:49:37,618] - obspy.clients.fdsn.mass_downloader - INFO: 1 StationXML files [0.0 MB] already existed.\n",
      "[2021-11-25 00:49:37,618] - obspy.clients.fdsn.mass_downloader - INFO: Client 'GEONET' - Acquired 1 MiniSEED files [0.0 MB].\n",
      "[2021-11-25 00:49:37,618] - obspy.clients.fdsn.mass_downloader - INFO: Client 'GEONET' - Acquired 0 StationXML files [0.0 MB].\n",
      "[2021-11-25 00:49:37,619] - obspy.clients.fdsn.mass_downloader - INFO: Downloaded 0.0 MB in total.\n",
      "[2021-11-25 00:49:37,642] - obspy.clients.fdsn.mass_downloader - INFO: Initializing FDSN client(s) for GEONET.\n",
      "[2021-11-25 00:49:37,663] - obspy.clients.fdsn.mass_downloader - INFO: Successfully initialized 1 client(s): GEONET.\n",
      "[2021-11-25 00:49:37,665] - obspy.clients.fdsn.mass_downloader - INFO: Total acquired or preexisting stations: 0\n",
      "[2021-11-25 00:49:37,669] - obspy.clients.fdsn.mass_downloader - INFO: Client 'GEONET' - Requesting unreliable availability.\n"
     ]
    },
    {
     "name": "stdout",
     "output_type": "stream",
     "text": [
      "=================================================================\n",
      "Initiating mass download request.\n"
     ]
    },
    {
     "name": "stderr",
     "output_type": "stream",
     "text": [
      "[2021-11-25 00:49:39,111] - obspy.clients.fdsn.mass_downloader - INFO: Client 'GEONET' - Successfully requested availability (1.44 seconds)\n",
      "[2021-11-25 00:49:39,118] - obspy.clients.fdsn.mass_downloader - INFO: Client 'GEONET' - Found 1 stations (1 channels).\n",
      "[2021-11-25 00:49:39,119] - obspy.clients.fdsn.mass_downloader - INFO: Client 'GEONET' - Will attempt to download data from 1 stations.\n",
      "[2021-11-25 00:49:39,120] - obspy.clients.fdsn.mass_downloader - INFO: Client 'GEONET' - Status for 1 time intervals/channels before downloading: NEEDS_DOWNLOADING\n",
      "[2021-11-25 00:49:39,962] - obspy.clients.fdsn.mass_downloader - INFO: Client 'GEONET' - Successfully downloaded 1 channels (of 1)\n",
      "[2021-11-25 00:49:39,976] - obspy.clients.fdsn.mass_downloader - INFO: Client 'GEONET' - Launching basic QC checks...\n",
      "[2021-11-25 00:49:39,998] - obspy.clients.fdsn.mass_downloader - INFO: Client 'GEONET' - Downloaded 0.0 MB [4.13 KB/sec] of data, 0.0 MB of which were discarded afterwards.\n",
      "[2021-11-25 00:49:40,001] - obspy.clients.fdsn.mass_downloader - INFO: Client 'GEONET' - Status for 1 time intervals/channels after downloading: DOWNLOADED\n",
      "[2021-11-25 00:49:40,014] - obspy.clients.fdsn.mass_downloader - INFO: Client 'GEONET' - No station information to download.\n",
      "[2021-11-25 00:49:40,026] - obspy.clients.fdsn.mass_downloader - INFO: ============================== Final report\n",
      "[2021-11-25 00:49:40,031] - obspy.clients.fdsn.mass_downloader - INFO: 0 MiniSEED files [0.0 MB] already existed.\n",
      "[2021-11-25 00:49:40,033] - obspy.clients.fdsn.mass_downloader - INFO: 1 StationXML files [0.0 MB] already existed.\n",
      "[2021-11-25 00:49:40,034] - obspy.clients.fdsn.mass_downloader - INFO: Client 'GEONET' - Acquired 1 MiniSEED files [0.0 MB].\n",
      "[2021-11-25 00:49:40,037] - obspy.clients.fdsn.mass_downloader - INFO: Client 'GEONET' - Acquired 0 StationXML files [0.0 MB].\n",
      "[2021-11-25 00:49:40,038] - obspy.clients.fdsn.mass_downloader - INFO: Downloaded 0.0 MB in total.\n",
      "[2021-11-25 00:49:40,053] - obspy.clients.fdsn.mass_downloader - INFO: Initializing FDSN client(s) for GEONET.\n",
      "[2021-11-25 00:49:40,066] - obspy.clients.fdsn.mass_downloader - INFO: Successfully initialized 1 client(s): GEONET.\n",
      "[2021-11-25 00:49:40,069] - obspy.clients.fdsn.mass_downloader - INFO: Total acquired or preexisting stations: 0\n",
      "[2021-11-25 00:49:40,071] - obspy.clients.fdsn.mass_downloader - INFO: Client 'GEONET' - Requesting unreliable availability.\n"
     ]
    },
    {
     "name": "stdout",
     "output_type": "stream",
     "text": [
      "=================================================================\n",
      "Initiating mass download request.\n"
     ]
    },
    {
     "name": "stderr",
     "output_type": "stream",
     "text": [
      "[2021-11-25 00:49:40,682] - obspy.clients.fdsn.mass_downloader - INFO: Client 'GEONET' - Successfully requested availability (0.61 seconds)\n",
      "[2021-11-25 00:49:40,688] - obspy.clients.fdsn.mass_downloader - INFO: Client 'GEONET' - Found 1 stations (1 channels).\n",
      "[2021-11-25 00:49:40,692] - obspy.clients.fdsn.mass_downloader - INFO: Client 'GEONET' - Will attempt to download data from 1 stations.\n",
      "[2021-11-25 00:49:40,701] - obspy.clients.fdsn.mass_downloader - INFO: Client 'GEONET' - Status for 1 time intervals/channels before downloading: NEEDS_DOWNLOADING\n",
      "[2021-11-25 00:49:41,740] - obspy.clients.fdsn.mass_downloader - INFO: Client 'GEONET' - Successfully downloaded 1 channels (of 1)\n",
      "[2021-11-25 00:49:41,763] - obspy.clients.fdsn.mass_downloader - INFO: Client 'GEONET' - Launching basic QC checks...\n",
      "[2021-11-25 00:49:41,800] - obspy.clients.fdsn.mass_downloader - INFO: Client 'GEONET' - Downloaded 0.0 MB [3.82 KB/sec] of data, 0.0 MB of which were discarded afterwards.\n",
      "[2021-11-25 00:49:41,802] - obspy.clients.fdsn.mass_downloader - INFO: Client 'GEONET' - Status for 1 time intervals/channels after downloading: DOWNLOADED\n",
      "[2021-11-25 00:49:41,814] - obspy.clients.fdsn.mass_downloader - INFO: Client 'GEONET' - No station information to download.\n",
      "[2021-11-25 00:49:41,822] - obspy.clients.fdsn.mass_downloader - INFO: ============================== Final report\n",
      "[2021-11-25 00:49:41,822] - obspy.clients.fdsn.mass_downloader - INFO: 0 MiniSEED files [0.0 MB] already existed.\n",
      "[2021-11-25 00:49:41,823] - obspy.clients.fdsn.mass_downloader - INFO: 1 StationXML files [0.0 MB] already existed.\n",
      "[2021-11-25 00:49:41,825] - obspy.clients.fdsn.mass_downloader - INFO: Client 'GEONET' - Acquired 1 MiniSEED files [0.0 MB].\n",
      "[2021-11-25 00:49:41,827] - obspy.clients.fdsn.mass_downloader - INFO: Client 'GEONET' - Acquired 0 StationXML files [0.0 MB].\n",
      "[2021-11-25 00:49:41,827] - obspy.clients.fdsn.mass_downloader - INFO: Downloaded 0.0 MB in total.\n",
      "[2021-11-25 00:49:41,836] - obspy.clients.fdsn.mass_downloader - INFO: Initializing FDSN client(s) for GEONET.\n",
      "[2021-11-25 00:49:41,855] - obspy.clients.fdsn.mass_downloader - INFO: Successfully initialized 1 client(s): GEONET.\n",
      "[2021-11-25 00:49:41,857] - obspy.clients.fdsn.mass_downloader - INFO: Total acquired or preexisting stations: 0\n",
      "[2021-11-25 00:49:41,858] - obspy.clients.fdsn.mass_downloader - INFO: Client 'GEONET' - Requesting unreliable availability.\n"
     ]
    },
    {
     "name": "stdout",
     "output_type": "stream",
     "text": [
      "=================================================================\n",
      "Initiating mass download request.\n"
     ]
    },
    {
     "name": "stderr",
     "output_type": "stream",
     "text": [
      "[2021-11-25 00:49:42,437] - obspy.clients.fdsn.mass_downloader - INFO: Client 'GEONET' - Successfully requested availability (0.58 seconds)\n",
      "[2021-11-25 00:49:42,455] - obspy.clients.fdsn.mass_downloader - INFO: Client 'GEONET' - Found 1 stations (1 channels).\n",
      "[2021-11-25 00:49:42,457] - obspy.clients.fdsn.mass_downloader - INFO: Client 'GEONET' - Will attempt to download data from 1 stations.\n",
      "[2021-11-25 00:49:42,462] - obspy.clients.fdsn.mass_downloader - INFO: Client 'GEONET' - Status for 1 time intervals/channels before downloading: NEEDS_DOWNLOADING\n",
      "[2021-11-25 00:49:43,473] - obspy.clients.fdsn.mass_downloader - INFO: Client 'GEONET' - Successfully downloaded 1 channels (of 1)\n",
      "[2021-11-25 00:49:43,477] - obspy.clients.fdsn.mass_downloader - INFO: Client 'GEONET' - Launching basic QC checks...\n",
      "[2021-11-25 00:49:43,485] - obspy.clients.fdsn.mass_downloader - INFO: Client 'GEONET' - Downloaded 0.0 MB [7.47 KB/sec] of data, 0.0 MB of which were discarded afterwards.\n",
      "[2021-11-25 00:49:43,486] - obspy.clients.fdsn.mass_downloader - INFO: Client 'GEONET' - Status for 1 time intervals/channels after downloading: DOWNLOADED\n",
      "[2021-11-25 00:49:43,489] - obspy.clients.fdsn.mass_downloader - INFO: Client 'GEONET' - No station information to download.\n",
      "[2021-11-25 00:49:43,493] - obspy.clients.fdsn.mass_downloader - INFO: ============================== Final report\n",
      "[2021-11-25 00:49:43,495] - obspy.clients.fdsn.mass_downloader - INFO: 0 MiniSEED files [0.0 MB] already existed.\n",
      "[2021-11-25 00:49:43,495] - obspy.clients.fdsn.mass_downloader - INFO: 1 StationXML files [0.0 MB] already existed.\n",
      "[2021-11-25 00:49:43,496] - obspy.clients.fdsn.mass_downloader - INFO: Client 'GEONET' - Acquired 1 MiniSEED files [0.0 MB].\n",
      "[2021-11-25 00:49:43,496] - obspy.clients.fdsn.mass_downloader - INFO: Client 'GEONET' - Acquired 0 StationXML files [0.0 MB].\n",
      "[2021-11-25 00:49:43,497] - obspy.clients.fdsn.mass_downloader - INFO: Downloaded 0.0 MB in total.\n",
      "[2021-11-25 00:49:43,499] - obspy.clients.fdsn.mass_downloader - INFO: Initializing FDSN client(s) for GEONET.\n",
      "[2021-11-25 00:49:43,537] - obspy.clients.fdsn.mass_downloader - INFO: Successfully initialized 1 client(s): GEONET.\n",
      "[2021-11-25 00:49:43,540] - obspy.clients.fdsn.mass_downloader - INFO: Total acquired or preexisting stations: 0\n",
      "[2021-11-25 00:49:43,540] - obspy.clients.fdsn.mass_downloader - INFO: Client 'GEONET' - Requesting unreliable availability.\n"
     ]
    },
    {
     "name": "stdout",
     "output_type": "stream",
     "text": [
      "=================================================================\n",
      "Initiating mass download request.\n"
     ]
    },
    {
     "name": "stderr",
     "output_type": "stream",
     "text": [
      "[2021-11-25 00:49:44,107] - obspy.clients.fdsn.mass_downloader - INFO: Client 'GEONET' - Successfully requested availability (0.56 seconds)\n",
      "[2021-11-25 00:49:44,123] - obspy.clients.fdsn.mass_downloader - INFO: Client 'GEONET' - Found 1 stations (1 channels).\n",
      "[2021-11-25 00:49:44,128] - obspy.clients.fdsn.mass_downloader - INFO: Client 'GEONET' - Will attempt to download data from 1 stations.\n",
      "[2021-11-25 00:49:44,138] - obspy.clients.fdsn.mass_downloader - INFO: Client 'GEONET' - Status for 1 time intervals/channels before downloading: NEEDS_DOWNLOADING\n",
      "[2021-11-25 00:49:45,041] - obspy.clients.fdsn.mass_downloader - INFO: Client 'GEONET' - Successfully downloaded 1 channels (of 1)\n",
      "[2021-11-25 00:49:45,065] - obspy.clients.fdsn.mass_downloader - INFO: Client 'GEONET' - Launching basic QC checks...\n",
      "[2021-11-25 00:49:45,084] - obspy.clients.fdsn.mass_downloader - INFO: Client 'GEONET' - Downloaded 0.0 MB [3.85 KB/sec] of data, 0.0 MB of which were discarded afterwards.\n",
      "[2021-11-25 00:49:45,086] - obspy.clients.fdsn.mass_downloader - INFO: Client 'GEONET' - Status for 1 time intervals/channels after downloading: DOWNLOADED\n",
      "[2021-11-25 00:49:45,093] - obspy.clients.fdsn.mass_downloader - INFO: Client 'GEONET' - No station information to download.\n",
      "[2021-11-25 00:49:45,096] - obspy.clients.fdsn.mass_downloader - INFO: ============================== Final report\n",
      "[2021-11-25 00:49:45,097] - obspy.clients.fdsn.mass_downloader - INFO: 0 MiniSEED files [0.0 MB] already existed.\n",
      "[2021-11-25 00:49:45,098] - obspy.clients.fdsn.mass_downloader - INFO: 1 StationXML files [0.0 MB] already existed.\n",
      "[2021-11-25 00:49:45,099] - obspy.clients.fdsn.mass_downloader - INFO: Client 'GEONET' - Acquired 1 MiniSEED files [0.0 MB].\n",
      "[2021-11-25 00:49:45,100] - obspy.clients.fdsn.mass_downloader - INFO: Client 'GEONET' - Acquired 0 StationXML files [0.0 MB].\n",
      "[2021-11-25 00:49:45,101] - obspy.clients.fdsn.mass_downloader - INFO: Downloaded 0.0 MB in total.\n",
      "[2021-11-25 00:49:45,115] - obspy.clients.fdsn.mass_downloader - INFO: Initializing FDSN client(s) for GEONET.\n",
      "[2021-11-25 00:49:45,132] - obspy.clients.fdsn.mass_downloader - INFO: Successfully initialized 1 client(s): GEONET.\n",
      "[2021-11-25 00:49:45,137] - obspy.clients.fdsn.mass_downloader - INFO: Total acquired or preexisting stations: 0\n",
      "[2021-11-25 00:49:45,140] - obspy.clients.fdsn.mass_downloader - INFO: Client 'GEONET' - Requesting unreliable availability.\n"
     ]
    },
    {
     "name": "stdout",
     "output_type": "stream",
     "text": [
      "=================================================================\n",
      "Initiating mass download request.\n"
     ]
    },
    {
     "name": "stderr",
     "output_type": "stream",
     "text": [
      "[2021-11-25 00:49:45,831] - obspy.clients.fdsn.mass_downloader - INFO: Client 'GEONET' - Successfully requested availability (0.69 seconds)\n",
      "[2021-11-25 00:49:45,838] - obspy.clients.fdsn.mass_downloader - INFO: Client 'GEONET' - Found 1 stations (1 channels).\n",
      "[2021-11-25 00:49:45,839] - obspy.clients.fdsn.mass_downloader - INFO: Client 'GEONET' - Will attempt to download data from 1 stations.\n",
      "[2021-11-25 00:49:45,840] - obspy.clients.fdsn.mass_downloader - INFO: Client 'GEONET' - Status for 1 time intervals/channels before downloading: NEEDS_DOWNLOADING\n",
      "[2021-11-25 00:49:46,709] - obspy.clients.fdsn.mass_downloader - INFO: Client 'GEONET' - Successfully downloaded 1 channels (of 1)\n",
      "[2021-11-25 00:49:46,915] - obspy.clients.fdsn.mass_downloader - INFO: Client 'GEONET' - Launching basic QC checks...\n",
      "[2021-11-25 00:49:47,008] - obspy.clients.fdsn.mass_downloader - INFO: Client 'GEONET' - Downloaded 0.0 MB [3.73 KB/sec] of data, 0.0 MB of which were discarded afterwards.\n",
      "[2021-11-25 00:49:47,015] - obspy.clients.fdsn.mass_downloader - INFO: Client 'GEONET' - Status for 1 time intervals/channels after downloading: DOWNLOADED\n",
      "[2021-11-25 00:49:47,042] - obspy.clients.fdsn.mass_downloader - INFO: Client 'GEONET' - No station information to download.\n",
      "[2021-11-25 00:49:47,047] - obspy.clients.fdsn.mass_downloader - INFO: ============================== Final report\n",
      "[2021-11-25 00:49:47,052] - obspy.clients.fdsn.mass_downloader - INFO: 0 MiniSEED files [0.0 MB] already existed.\n",
      "[2021-11-25 00:49:47,060] - obspy.clients.fdsn.mass_downloader - INFO: 1 StationXML files [0.0 MB] already existed.\n",
      "[2021-11-25 00:49:47,068] - obspy.clients.fdsn.mass_downloader - INFO: Client 'GEONET' - Acquired 1 MiniSEED files [0.0 MB].\n",
      "[2021-11-25 00:49:47,069] - obspy.clients.fdsn.mass_downloader - INFO: Client 'GEONET' - Acquired 0 StationXML files [0.0 MB].\n",
      "[2021-11-25 00:49:47,071] - obspy.clients.fdsn.mass_downloader - INFO: Downloaded 0.0 MB in total.\n",
      "[2021-11-25 00:49:47,096] - obspy.clients.fdsn.mass_downloader - INFO: Initializing FDSN client(s) for GEONET.\n",
      "[2021-11-25 00:49:47,129] - obspy.clients.fdsn.mass_downloader - INFO: Successfully initialized 1 client(s): GEONET.\n",
      "[2021-11-25 00:49:47,135] - obspy.clients.fdsn.mass_downloader - INFO: Total acquired or preexisting stations: 0\n",
      "[2021-11-25 00:49:47,138] - obspy.clients.fdsn.mass_downloader - INFO: Client 'GEONET' - Requesting unreliable availability.\n"
     ]
    },
    {
     "name": "stdout",
     "output_type": "stream",
     "text": [
      "=================================================================\n",
      "Initiating mass download request.\n"
     ]
    },
    {
     "name": "stderr",
     "output_type": "stream",
     "text": [
      "[2021-11-25 00:49:47,824] - obspy.clients.fdsn.mass_downloader - INFO: Client 'GEONET' - Successfully requested availability (0.68 seconds)\n",
      "[2021-11-25 00:49:47,846] - obspy.clients.fdsn.mass_downloader - INFO: Client 'GEONET' - Found 1 stations (1 channels).\n",
      "[2021-11-25 00:49:47,852] - obspy.clients.fdsn.mass_downloader - INFO: Client 'GEONET' - Will attempt to download data from 1 stations.\n",
      "[2021-11-25 00:49:47,858] - obspy.clients.fdsn.mass_downloader - INFO: Client 'GEONET' - Status for 1 time intervals/channels before downloading: NEEDS_DOWNLOADING\n",
      "[2021-11-25 00:49:48,931] - obspy.clients.fdsn.mass_downloader - INFO: Client 'GEONET' - Successfully downloaded 1 channels (of 1)\n",
      "[2021-11-25 00:49:48,940] - obspy.clients.fdsn.mass_downloader - INFO: Client 'GEONET' - Launching basic QC checks...\n",
      "[2021-11-25 00:49:48,953] - obspy.clients.fdsn.mass_downloader - INFO: Client 'GEONET' - Downloaded 0.0 MB [4.69 KB/sec] of data, 0.0 MB of which were discarded afterwards.\n",
      "[2021-11-25 00:49:48,954] - obspy.clients.fdsn.mass_downloader - INFO: Client 'GEONET' - Status for 1 time intervals/channels after downloading: DOWNLOADED\n",
      "[2021-11-25 00:49:48,960] - obspy.clients.fdsn.mass_downloader - INFO: Client 'GEONET' - No station information to download.\n",
      "[2021-11-25 00:49:48,968] - obspy.clients.fdsn.mass_downloader - INFO: ============================== Final report\n",
      "[2021-11-25 00:49:48,973] - obspy.clients.fdsn.mass_downloader - INFO: 0 MiniSEED files [0.0 MB] already existed.\n",
      "[2021-11-25 00:49:48,983] - obspy.clients.fdsn.mass_downloader - INFO: 1 StationXML files [0.0 MB] already existed.\n",
      "[2021-11-25 00:49:48,988] - obspy.clients.fdsn.mass_downloader - INFO: Client 'GEONET' - Acquired 1 MiniSEED files [0.0 MB].\n",
      "[2021-11-25 00:49:49,001] - obspy.clients.fdsn.mass_downloader - INFO: Client 'GEONET' - Acquired 0 StationXML files [0.0 MB].\n",
      "[2021-11-25 00:49:49,003] - obspy.clients.fdsn.mass_downloader - INFO: Downloaded 0.0 MB in total.\n",
      "[2021-11-25 00:49:49,069] - obspy.clients.fdsn.mass_downloader - INFO: Initializing FDSN client(s) for GEONET.\n",
      "[2021-11-25 00:49:49,114] - obspy.clients.fdsn.mass_downloader - INFO: Successfully initialized 1 client(s): GEONET.\n",
      "[2021-11-25 00:49:49,118] - obspy.clients.fdsn.mass_downloader - INFO: Total acquired or preexisting stations: 0\n",
      "[2021-11-25 00:49:49,120] - obspy.clients.fdsn.mass_downloader - INFO: Client 'GEONET' - Requesting unreliable availability.\n"
     ]
    },
    {
     "name": "stdout",
     "output_type": "stream",
     "text": [
      "=================================================================\n",
      "Initiating mass download request.\n"
     ]
    },
    {
     "name": "stderr",
     "output_type": "stream",
     "text": [
      "[2021-11-25 00:49:49,721] - obspy.clients.fdsn.mass_downloader - INFO: Client 'GEONET' - Successfully requested availability (0.60 seconds)\n",
      "[2021-11-25 00:49:49,729] - obspy.clients.fdsn.mass_downloader - INFO: Client 'GEONET' - Found 1 stations (1 channels).\n",
      "[2021-11-25 00:49:49,736] - obspy.clients.fdsn.mass_downloader - INFO: Client 'GEONET' - Will attempt to download data from 1 stations.\n",
      "[2021-11-25 00:49:49,745] - obspy.clients.fdsn.mass_downloader - INFO: Client 'GEONET' - Status for 1 time intervals/channels before downloading: NEEDS_DOWNLOADING\n",
      "[2021-11-25 00:49:50,645] - obspy.clients.fdsn.mass_downloader - INFO: Client 'GEONET' - Successfully downloaded 1 channels (of 1)\n",
      "[2021-11-25 00:49:50,696] - obspy.clients.fdsn.mass_downloader - INFO: Client 'GEONET' - Launching basic QC checks...\n",
      "[2021-11-25 00:49:50,731] - obspy.clients.fdsn.mass_downloader - INFO: Client 'GEONET' - Downloaded 0.0 MB [3.78 KB/sec] of data, 0.0 MB of which were discarded afterwards.\n",
      "[2021-11-25 00:49:50,734] - obspy.clients.fdsn.mass_downloader - INFO: Client 'GEONET' - Status for 1 time intervals/channels after downloading: DOWNLOADED\n",
      "[2021-11-25 00:49:50,744] - obspy.clients.fdsn.mass_downloader - INFO: Client 'GEONET' - No station information to download.\n",
      "[2021-11-25 00:49:50,751] - obspy.clients.fdsn.mass_downloader - INFO: ============================== Final report\n",
      "[2021-11-25 00:49:50,752] - obspy.clients.fdsn.mass_downloader - INFO: 0 MiniSEED files [0.0 MB] already existed.\n",
      "[2021-11-25 00:49:50,754] - obspy.clients.fdsn.mass_downloader - INFO: 1 StationXML files [0.0 MB] already existed.\n",
      "[2021-11-25 00:49:50,755] - obspy.clients.fdsn.mass_downloader - INFO: Client 'GEONET' - Acquired 1 MiniSEED files [0.0 MB].\n",
      "[2021-11-25 00:49:50,757] - obspy.clients.fdsn.mass_downloader - INFO: Client 'GEONET' - Acquired 0 StationXML files [0.0 MB].\n",
      "[2021-11-25 00:49:50,757] - obspy.clients.fdsn.mass_downloader - INFO: Downloaded 0.0 MB in total.\n",
      "[2021-11-25 00:49:50,764] - obspy.clients.fdsn.mass_downloader - INFO: Initializing FDSN client(s) for GEONET.\n",
      "[2021-11-25 00:49:50,787] - obspy.clients.fdsn.mass_downloader - INFO: Successfully initialized 1 client(s): GEONET.\n",
      "[2021-11-25 00:49:50,793] - obspy.clients.fdsn.mass_downloader - INFO: Total acquired or preexisting stations: 0\n",
      "[2021-11-25 00:49:50,794] - obspy.clients.fdsn.mass_downloader - INFO: Client 'GEONET' - Requesting unreliable availability.\n"
     ]
    },
    {
     "name": "stdout",
     "output_type": "stream",
     "text": [
      "=================================================================\n",
      "Initiating mass download request.\n"
     ]
    },
    {
     "name": "stderr",
     "output_type": "stream",
     "text": [
      "[2021-11-25 00:49:51,428] - obspy.clients.fdsn.mass_downloader - INFO: Client 'GEONET' - Successfully requested availability (0.63 seconds)\n",
      "[2021-11-25 00:49:51,440] - obspy.clients.fdsn.mass_downloader - INFO: Client 'GEONET' - Found 1 stations (1 channels).\n",
      "[2021-11-25 00:49:51,443] - obspy.clients.fdsn.mass_downloader - INFO: Client 'GEONET' - Will attempt to download data from 1 stations.\n",
      "[2021-11-25 00:49:51,448] - obspy.clients.fdsn.mass_downloader - INFO: Client 'GEONET' - Status for 1 time intervals/channels before downloading: NEEDS_DOWNLOADING\n",
      "[2021-11-25 00:49:52,415] - obspy.clients.fdsn.mass_downloader - INFO: Client 'GEONET' - Successfully downloaded 1 channels (of 1)\n",
      "[2021-11-25 00:49:52,446] - obspy.clients.fdsn.mass_downloader - INFO: Client 'GEONET' - Launching basic QC checks...\n",
      "[2021-11-25 00:49:52,456] - obspy.clients.fdsn.mass_downloader - INFO: Client 'GEONET' - Downloaded 0.0 MB [4.52 KB/sec] of data, 0.0 MB of which were discarded afterwards.\n",
      "[2021-11-25 00:49:52,461] - obspy.clients.fdsn.mass_downloader - INFO: Client 'GEONET' - Status for 1 time intervals/channels after downloading: DOWNLOADED\n",
      "[2021-11-25 00:49:52,469] - obspy.clients.fdsn.mass_downloader - INFO: Client 'GEONET' - No station information to download.\n",
      "[2021-11-25 00:49:52,474] - obspy.clients.fdsn.mass_downloader - INFO: ============================== Final report\n",
      "[2021-11-25 00:49:52,477] - obspy.clients.fdsn.mass_downloader - INFO: 0 MiniSEED files [0.0 MB] already existed.\n",
      "[2021-11-25 00:49:52,478] - obspy.clients.fdsn.mass_downloader - INFO: 1 StationXML files [0.0 MB] already existed.\n",
      "[2021-11-25 00:49:52,480] - obspy.clients.fdsn.mass_downloader - INFO: Client 'GEONET' - Acquired 1 MiniSEED files [0.0 MB].\n",
      "[2021-11-25 00:49:52,481] - obspy.clients.fdsn.mass_downloader - INFO: Client 'GEONET' - Acquired 0 StationXML files [0.0 MB].\n",
      "[2021-11-25 00:49:52,482] - obspy.clients.fdsn.mass_downloader - INFO: Downloaded 0.0 MB in total.\n",
      "[2021-11-25 00:49:52,488] - obspy.clients.fdsn.mass_downloader - INFO: Initializing FDSN client(s) for GEONET.\n",
      "[2021-11-25 00:49:52,504] - obspy.clients.fdsn.mass_downloader - INFO: Successfully initialized 1 client(s): GEONET.\n",
      "[2021-11-25 00:49:52,510] - obspy.clients.fdsn.mass_downloader - INFO: Total acquired or preexisting stations: 0\n",
      "[2021-11-25 00:49:52,512] - obspy.clients.fdsn.mass_downloader - INFO: Client 'GEONET' - Requesting unreliable availability.\n"
     ]
    },
    {
     "name": "stdout",
     "output_type": "stream",
     "text": [
      "=================================================================\n",
      "Initiating mass download request.\n"
     ]
    },
    {
     "name": "stderr",
     "output_type": "stream",
     "text": [
      "[2021-11-25 00:49:53,145] - obspy.clients.fdsn.mass_downloader - INFO: Client 'GEONET' - Successfully requested availability (0.63 seconds)\n",
      "[2021-11-25 00:49:53,148] - obspy.clients.fdsn.mass_downloader - INFO: Client 'GEONET' - Found 1 stations (1 channels).\n",
      "[2021-11-25 00:49:53,149] - obspy.clients.fdsn.mass_downloader - INFO: Client 'GEONET' - Will attempt to download data from 1 stations.\n",
      "[2021-11-25 00:49:53,150] - obspy.clients.fdsn.mass_downloader - INFO: Client 'GEONET' - Status for 1 time intervals/channels before downloading: NEEDS_DOWNLOADING\n",
      "[2021-11-25 00:49:53,987] - obspy.clients.fdsn.mass_downloader - INFO: Client 'GEONET' - Successfully downloaded 1 channels (of 1)\n",
      "[2021-11-25 00:49:53,995] - obspy.clients.fdsn.mass_downloader - INFO: Client 'GEONET' - Launching basic QC checks...\n",
      "[2021-11-25 00:49:54,003] - obspy.clients.fdsn.mass_downloader - INFO: Client 'GEONET' - Downloaded 0.0 MB [3.58 KB/sec] of data, 0.0 MB of which were discarded afterwards.\n",
      "[2021-11-25 00:49:54,004] - obspy.clients.fdsn.mass_downloader - INFO: Client 'GEONET' - Status for 1 time intervals/channels after downloading: DOWNLOADED\n",
      "[2021-11-25 00:49:54,022] - obspy.clients.fdsn.mass_downloader - INFO: Client 'GEONET' - No station information to download.\n",
      "[2021-11-25 00:49:54,030] - obspy.clients.fdsn.mass_downloader - INFO: ============================== Final report\n",
      "[2021-11-25 00:49:54,032] - obspy.clients.fdsn.mass_downloader - INFO: 0 MiniSEED files [0.0 MB] already existed.\n",
      "[2021-11-25 00:49:54,034] - obspy.clients.fdsn.mass_downloader - INFO: 1 StationXML files [0.0 MB] already existed.\n",
      "[2021-11-25 00:49:54,035] - obspy.clients.fdsn.mass_downloader - INFO: Client 'GEONET' - Acquired 1 MiniSEED files [0.0 MB].\n",
      "[2021-11-25 00:49:54,036] - obspy.clients.fdsn.mass_downloader - INFO: Client 'GEONET' - Acquired 0 StationXML files [0.0 MB].\n",
      "[2021-11-25 00:49:54,036] - obspy.clients.fdsn.mass_downloader - INFO: Downloaded 0.0 MB in total.\n",
      "[2021-11-25 00:49:54,058] - obspy.clients.fdsn.mass_downloader - INFO: Initializing FDSN client(s) for GEONET.\n",
      "[2021-11-25 00:49:54,072] - obspy.clients.fdsn.mass_downloader - INFO: Successfully initialized 1 client(s): GEONET.\n",
      "[2021-11-25 00:49:54,076] - obspy.clients.fdsn.mass_downloader - INFO: Total acquired or preexisting stations: 0\n",
      "[2021-11-25 00:49:54,079] - obspy.clients.fdsn.mass_downloader - INFO: Client 'GEONET' - Requesting unreliable availability.\n"
     ]
    },
    {
     "name": "stdout",
     "output_type": "stream",
     "text": [
      "=================================================================\n",
      "Initiating mass download request.\n"
     ]
    },
    {
     "name": "stderr",
     "output_type": "stream",
     "text": [
      "[2021-11-25 00:49:54,693] - obspy.clients.fdsn.mass_downloader - INFO: Client 'GEONET' - Successfully requested availability (0.61 seconds)\n",
      "[2021-11-25 00:49:54,695] - obspy.clients.fdsn.mass_downloader - INFO: Client 'GEONET' - Found 1 stations (1 channels).\n",
      "[2021-11-25 00:49:54,696] - obspy.clients.fdsn.mass_downloader - INFO: Client 'GEONET' - Will attempt to download data from 1 stations.\n",
      "[2021-11-25 00:49:54,697] - obspy.clients.fdsn.mass_downloader - INFO: Client 'GEONET' - Status for 1 time intervals/channels before downloading: NEEDS_DOWNLOADING\n",
      "[2021-11-25 00:49:55,701] - obspy.clients.fdsn.mass_downloader - INFO: Client 'GEONET' - Successfully downloaded 1 channels (of 1)\n",
      "[2021-11-25 00:49:55,709] - obspy.clients.fdsn.mass_downloader - INFO: Client 'GEONET' - Launching basic QC checks...\n",
      "[2021-11-25 00:49:55,723] - obspy.clients.fdsn.mass_downloader - INFO: Client 'GEONET' - Downloaded 0.0 MB [5.98 KB/sec] of data, 0.0 MB of which were discarded afterwards.\n",
      "[2021-11-25 00:49:55,724] - obspy.clients.fdsn.mass_downloader - INFO: Client 'GEONET' - Status for 1 time intervals/channels after downloading: DOWNLOADED\n",
      "[2021-11-25 00:49:55,727] - obspy.clients.fdsn.mass_downloader - INFO: Client 'GEONET' - No station information to download.\n",
      "[2021-11-25 00:49:55,730] - obspy.clients.fdsn.mass_downloader - INFO: ============================== Final report\n",
      "[2021-11-25 00:49:55,731] - obspy.clients.fdsn.mass_downloader - INFO: 0 MiniSEED files [0.0 MB] already existed.\n",
      "[2021-11-25 00:49:55,732] - obspy.clients.fdsn.mass_downloader - INFO: 1 StationXML files [0.0 MB] already existed.\n",
      "[2021-11-25 00:49:55,732] - obspy.clients.fdsn.mass_downloader - INFO: Client 'GEONET' - Acquired 1 MiniSEED files [0.0 MB].\n",
      "[2021-11-25 00:49:55,733] - obspy.clients.fdsn.mass_downloader - INFO: Client 'GEONET' - Acquired 0 StationXML files [0.0 MB].\n",
      "[2021-11-25 00:49:55,734] - obspy.clients.fdsn.mass_downloader - INFO: Downloaded 0.0 MB in total.\n",
      "[2021-11-25 00:49:55,743] - obspy.clients.fdsn.mass_downloader - INFO: Initializing FDSN client(s) for GEONET.\n",
      "[2021-11-25 00:49:55,750] - obspy.clients.fdsn.mass_downloader - INFO: Successfully initialized 1 client(s): GEONET.\n",
      "[2021-11-25 00:49:55,755] - obspy.clients.fdsn.mass_downloader - INFO: Total acquired or preexisting stations: 0\n",
      "[2021-11-25 00:49:55,756] - obspy.clients.fdsn.mass_downloader - INFO: Client 'GEONET' - Requesting unreliable availability.\n"
     ]
    },
    {
     "name": "stdout",
     "output_type": "stream",
     "text": [
      "=================================================================\n",
      "Initiating mass download request.\n"
     ]
    },
    {
     "name": "stderr",
     "output_type": "stream",
     "text": [
      "[2021-11-25 00:49:56,402] - obspy.clients.fdsn.mass_downloader - INFO: Client 'GEONET' - Successfully requested availability (0.65 seconds)\n",
      "[2021-11-25 00:49:56,404] - obspy.clients.fdsn.mass_downloader - INFO: Client 'GEONET' - Found 1 stations (1 channels).\n",
      "[2021-11-25 00:49:56,405] - obspy.clients.fdsn.mass_downloader - INFO: Client 'GEONET' - Will attempt to download data from 1 stations.\n",
      "[2021-11-25 00:49:56,405] - obspy.clients.fdsn.mass_downloader - INFO: Client 'GEONET' - Status for 1 time intervals/channels before downloading: NEEDS_DOWNLOADING\n",
      "[2021-11-25 00:49:57,432] - obspy.clients.fdsn.mass_downloader - INFO: Client 'GEONET' - Successfully downloaded 1 channels (of 1)\n",
      "[2021-11-25 00:49:57,440] - obspy.clients.fdsn.mass_downloader - INFO: Client 'GEONET' - Launching basic QC checks...\n",
      "[2021-11-25 00:49:57,449] - obspy.clients.fdsn.mass_downloader - INFO: Client 'GEONET' - Downloaded 0.0 MB [4.36 KB/sec] of data, 0.0 MB of which were discarded afterwards.\n",
      "[2021-11-25 00:49:57,450] - obspy.clients.fdsn.mass_downloader - INFO: Client 'GEONET' - Status for 1 time intervals/channels after downloading: DOWNLOADED\n",
      "[2021-11-25 00:49:57,455] - obspy.clients.fdsn.mass_downloader - INFO: Client 'GEONET' - No station information to download.\n",
      "[2021-11-25 00:49:57,458] - obspy.clients.fdsn.mass_downloader - INFO: ============================== Final report\n",
      "[2021-11-25 00:49:57,458] - obspy.clients.fdsn.mass_downloader - INFO: 0 MiniSEED files [0.0 MB] already existed.\n",
      "[2021-11-25 00:49:57,459] - obspy.clients.fdsn.mass_downloader - INFO: 1 StationXML files [0.0 MB] already existed.\n",
      "[2021-11-25 00:49:57,460] - obspy.clients.fdsn.mass_downloader - INFO: Client 'GEONET' - Acquired 1 MiniSEED files [0.0 MB].\n",
      "[2021-11-25 00:49:57,461] - obspy.clients.fdsn.mass_downloader - INFO: Client 'GEONET' - Acquired 0 StationXML files [0.0 MB].\n",
      "[2021-11-25 00:49:57,461] - obspy.clients.fdsn.mass_downloader - INFO: Downloaded 0.0 MB in total.\n",
      "[2021-11-25 00:49:57,471] - obspy.clients.fdsn.mass_downloader - INFO: Initializing FDSN client(s) for GEONET.\n",
      "[2021-11-25 00:49:57,484] - obspy.clients.fdsn.mass_downloader - INFO: Successfully initialized 1 client(s): GEONET.\n",
      "[2021-11-25 00:49:57,485] - obspy.clients.fdsn.mass_downloader - INFO: Total acquired or preexisting stations: 0\n",
      "[2021-11-25 00:49:57,486] - obspy.clients.fdsn.mass_downloader - INFO: Client 'GEONET' - Requesting unreliable availability.\n"
     ]
    },
    {
     "name": "stdout",
     "output_type": "stream",
     "text": [
      "=================================================================\n",
      "Initiating mass download request.\n"
     ]
    },
    {
     "name": "stderr",
     "output_type": "stream",
     "text": [
      "[2021-11-25 00:49:58,060] - obspy.clients.fdsn.mass_downloader - INFO: Client 'GEONET' - Successfully requested availability (0.57 seconds)\n",
      "[2021-11-25 00:49:58,080] - obspy.clients.fdsn.mass_downloader - INFO: Client 'GEONET' - Found 1 stations (1 channels).\n",
      "[2021-11-25 00:49:58,092] - obspy.clients.fdsn.mass_downloader - INFO: Client 'GEONET' - Will attempt to download data from 1 stations.\n",
      "[2021-11-25 00:49:58,101] - obspy.clients.fdsn.mass_downloader - INFO: Client 'GEONET' - Status for 1 time intervals/channels before downloading: NEEDS_DOWNLOADING\n",
      "[2021-11-25 00:49:59,159] - obspy.clients.fdsn.mass_downloader - INFO: Client 'GEONET' - Successfully downloaded 1 channels (of 1)\n",
      "[2021-11-25 00:49:59,168] - obspy.clients.fdsn.mass_downloader - INFO: Client 'GEONET' - Launching basic QC checks...\n",
      "[2021-11-25 00:49:59,178] - obspy.clients.fdsn.mass_downloader - INFO: Client 'GEONET' - Downloaded 0.0 MB [3.85 KB/sec] of data, 0.0 MB of which were discarded afterwards.\n",
      "[2021-11-25 00:49:59,178] - obspy.clients.fdsn.mass_downloader - INFO: Client 'GEONET' - Status for 1 time intervals/channels after downloading: DOWNLOADED\n",
      "[2021-11-25 00:49:59,186] - obspy.clients.fdsn.mass_downloader - INFO: Client 'GEONET' - No station information to download.\n",
      "[2021-11-25 00:49:59,188] - obspy.clients.fdsn.mass_downloader - INFO: ============================== Final report\n",
      "[2021-11-25 00:49:59,189] - obspy.clients.fdsn.mass_downloader - INFO: 0 MiniSEED files [0.0 MB] already existed.\n",
      "[2021-11-25 00:49:59,189] - obspy.clients.fdsn.mass_downloader - INFO: 1 StationXML files [0.0 MB] already existed.\n",
      "[2021-11-25 00:49:59,190] - obspy.clients.fdsn.mass_downloader - INFO: Client 'GEONET' - Acquired 1 MiniSEED files [0.0 MB].\n",
      "[2021-11-25 00:49:59,190] - obspy.clients.fdsn.mass_downloader - INFO: Client 'GEONET' - Acquired 0 StationXML files [0.0 MB].\n",
      "[2021-11-25 00:49:59,190] - obspy.clients.fdsn.mass_downloader - INFO: Downloaded 0.0 MB in total.\n",
      "[2021-11-25 00:49:59,196] - obspy.clients.fdsn.mass_downloader - INFO: Initializing FDSN client(s) for GEONET.\n",
      "[2021-11-25 00:49:59,201] - obspy.clients.fdsn.mass_downloader - INFO: Successfully initialized 1 client(s): GEONET.\n",
      "[2021-11-25 00:49:59,202] - obspy.clients.fdsn.mass_downloader - INFO: Total acquired or preexisting stations: 0\n",
      "[2021-11-25 00:49:59,202] - obspy.clients.fdsn.mass_downloader - INFO: Client 'GEONET' - Requesting unreliable availability.\n"
     ]
    },
    {
     "name": "stdout",
     "output_type": "stream",
     "text": [
      "=================================================================\n",
      "Initiating mass download request.\n"
     ]
    },
    {
     "name": "stderr",
     "output_type": "stream",
     "text": [
      "[2021-11-25 00:49:59,894] - obspy.clients.fdsn.mass_downloader - INFO: Client 'GEONET' - Successfully requested availability (0.69 seconds)\n",
      "[2021-11-25 00:49:59,902] - obspy.clients.fdsn.mass_downloader - INFO: Client 'GEONET' - Found 1 stations (1 channels).\n",
      "[2021-11-25 00:49:59,911] - obspy.clients.fdsn.mass_downloader - INFO: Client 'GEONET' - Will attempt to download data from 1 stations.\n",
      "[2021-11-25 00:49:59,917] - obspy.clients.fdsn.mass_downloader - INFO: Client 'GEONET' - Status for 1 time intervals/channels before downloading: NEEDS_DOWNLOADING\n",
      "[2021-11-25 00:50:01,020] - obspy.clients.fdsn.mass_downloader - INFO: Client 'GEONET' - Successfully downloaded 1 channels (of 1)\n",
      "[2021-11-25 00:50:01,033] - obspy.clients.fdsn.mass_downloader - INFO: Client 'GEONET' - Launching basic QC checks...\n",
      "[2021-11-25 00:50:01,044] - obspy.clients.fdsn.mass_downloader - INFO: Client 'GEONET' - Downloaded 0.0 MB [3.62 KB/sec] of data, 0.0 MB of which were discarded afterwards.\n",
      "[2021-11-25 00:50:01,048] - obspy.clients.fdsn.mass_downloader - INFO: Client 'GEONET' - Status for 1 time intervals/channels after downloading: DOWNLOADED\n",
      "[2021-11-25 00:50:01,057] - obspy.clients.fdsn.mass_downloader - INFO: Client 'GEONET' - No station information to download.\n",
      "[2021-11-25 00:50:01,059] - obspy.clients.fdsn.mass_downloader - INFO: ============================== Final report\n",
      "[2021-11-25 00:50:01,060] - obspy.clients.fdsn.mass_downloader - INFO: 0 MiniSEED files [0.0 MB] already existed.\n",
      "[2021-11-25 00:50:01,061] - obspy.clients.fdsn.mass_downloader - INFO: 1 StationXML files [0.0 MB] already existed.\n",
      "[2021-11-25 00:50:01,061] - obspy.clients.fdsn.mass_downloader - INFO: Client 'GEONET' - Acquired 1 MiniSEED files [0.0 MB].\n",
      "[2021-11-25 00:50:01,062] - obspy.clients.fdsn.mass_downloader - INFO: Client 'GEONET' - Acquired 0 StationXML files [0.0 MB].\n",
      "[2021-11-25 00:50:01,063] - obspy.clients.fdsn.mass_downloader - INFO: Downloaded 0.0 MB in total.\n",
      "[2021-11-25 00:50:01,067] - obspy.clients.fdsn.mass_downloader - INFO: Initializing FDSN client(s) for GEONET.\n",
      "[2021-11-25 00:50:01,075] - obspy.clients.fdsn.mass_downloader - INFO: Successfully initialized 1 client(s): GEONET.\n",
      "[2021-11-25 00:50:01,076] - obspy.clients.fdsn.mass_downloader - INFO: Total acquired or preexisting stations: 0\n",
      "[2021-11-25 00:50:01,077] - obspy.clients.fdsn.mass_downloader - INFO: Client 'GEONET' - Requesting unreliable availability.\n"
     ]
    },
    {
     "name": "stdout",
     "output_type": "stream",
     "text": [
      "=================================================================\n",
      "Initiating mass download request.\n"
     ]
    },
    {
     "name": "stderr",
     "output_type": "stream",
     "text": [
      "[2021-11-25 00:50:01,767] - obspy.clients.fdsn.mass_downloader - INFO: Client 'GEONET' - Successfully requested availability (0.69 seconds)\n",
      "[2021-11-25 00:50:01,841] - obspy.clients.fdsn.mass_downloader - INFO: Client 'GEONET' - Found 1 stations (1 channels).\n",
      "[2021-11-25 00:50:01,847] - obspy.clients.fdsn.mass_downloader - INFO: Client 'GEONET' - Will attempt to download data from 1 stations.\n",
      "[2021-11-25 00:50:01,869] - obspy.clients.fdsn.mass_downloader - INFO: Client 'GEONET' - Status for 1 time intervals/channels before downloading: NEEDS_DOWNLOADING\n",
      "[2021-11-25 00:50:02,832] - obspy.clients.fdsn.mass_downloader - INFO: Client 'GEONET' - Successfully downloaded 1 channels (of 1)\n",
      "[2021-11-25 00:50:02,863] - obspy.clients.fdsn.mass_downloader - INFO: Client 'GEONET' - Launching basic QC checks...\n",
      "[2021-11-25 00:50:02,894] - obspy.clients.fdsn.mass_downloader - INFO: Client 'GEONET' - Downloaded 0.0 MB [4.71 KB/sec] of data, 0.0 MB of which were discarded afterwards.\n",
      "[2021-11-25 00:50:02,900] - obspy.clients.fdsn.mass_downloader - INFO: Client 'GEONET' - Status for 1 time intervals/channels after downloading: DOWNLOADED\n",
      "[2021-11-25 00:50:02,909] - obspy.clients.fdsn.mass_downloader - INFO: Client 'GEONET' - No station information to download.\n",
      "[2021-11-25 00:50:02,914] - obspy.clients.fdsn.mass_downloader - INFO: ============================== Final report\n",
      "[2021-11-25 00:50:02,917] - obspy.clients.fdsn.mass_downloader - INFO: 0 MiniSEED files [0.0 MB] already existed.\n",
      "[2021-11-25 00:50:02,918] - obspy.clients.fdsn.mass_downloader - INFO: 1 StationXML files [0.0 MB] already existed.\n",
      "[2021-11-25 00:50:02,919] - obspy.clients.fdsn.mass_downloader - INFO: Client 'GEONET' - Acquired 1 MiniSEED files [0.0 MB].\n",
      "[2021-11-25 00:50:02,920] - obspy.clients.fdsn.mass_downloader - INFO: Client 'GEONET' - Acquired 0 StationXML files [0.0 MB].\n",
      "[2021-11-25 00:50:02,922] - obspy.clients.fdsn.mass_downloader - INFO: Downloaded 0.0 MB in total.\n",
      "[2021-11-25 00:50:02,935] - obspy.clients.fdsn.mass_downloader - INFO: Initializing FDSN client(s) for GEONET.\n",
      "[2021-11-25 00:50:02,948] - obspy.clients.fdsn.mass_downloader - INFO: Successfully initialized 1 client(s): GEONET.\n",
      "[2021-11-25 00:50:02,949] - obspy.clients.fdsn.mass_downloader - INFO: Total acquired or preexisting stations: 0\n",
      "[2021-11-25 00:50:02,950] - obspy.clients.fdsn.mass_downloader - INFO: Client 'GEONET' - Requesting unreliable availability.\n"
     ]
    },
    {
     "name": "stdout",
     "output_type": "stream",
     "text": [
      "=================================================================\n",
      "Initiating mass download request.\n"
     ]
    },
    {
     "name": "stderr",
     "output_type": "stream",
     "text": [
      "[2021-11-25 00:50:03,536] - obspy.clients.fdsn.mass_downloader - INFO: Client 'GEONET' - Successfully requested availability (0.59 seconds)\n",
      "[2021-11-25 00:50:03,539] - obspy.clients.fdsn.mass_downloader - INFO: Client 'GEONET' - Found 1 stations (1 channels).\n",
      "[2021-11-25 00:50:03,541] - obspy.clients.fdsn.mass_downloader - INFO: Client 'GEONET' - Will attempt to download data from 1 stations.\n",
      "[2021-11-25 00:50:03,546] - obspy.clients.fdsn.mass_downloader - INFO: Client 'GEONET' - Status for 1 time intervals/channels before downloading: NEEDS_DOWNLOADING\n",
      "[2021-11-25 00:50:04,764] - obspy.clients.fdsn.mass_downloader - INFO: Client 'GEONET' - Successfully downloaded 1 channels (of 1)\n",
      "[2021-11-25 00:50:04,779] - obspy.clients.fdsn.mass_downloader - INFO: Client 'GEONET' - Launching basic QC checks...\n",
      "[2021-11-25 00:50:04,795] - obspy.clients.fdsn.mass_downloader - INFO: Client 'GEONET' - Downloaded 0.0 MB [6.13 KB/sec] of data, 0.0 MB of which were discarded afterwards.\n",
      "[2021-11-25 00:50:04,797] - obspy.clients.fdsn.mass_downloader - INFO: Client 'GEONET' - Status for 1 time intervals/channels after downloading: DOWNLOADED\n",
      "[2021-11-25 00:50:04,805] - obspy.clients.fdsn.mass_downloader - INFO: Client 'GEONET' - No station information to download.\n",
      "[2021-11-25 00:50:04,807] - obspy.clients.fdsn.mass_downloader - INFO: ============================== Final report\n",
      "[2021-11-25 00:50:04,809] - obspy.clients.fdsn.mass_downloader - INFO: 0 MiniSEED files [0.0 MB] already existed.\n",
      "[2021-11-25 00:50:04,810] - obspy.clients.fdsn.mass_downloader - INFO: 1 StationXML files [0.0 MB] already existed.\n",
      "[2021-11-25 00:50:04,812] - obspy.clients.fdsn.mass_downloader - INFO: Client 'GEONET' - Acquired 1 MiniSEED files [0.0 MB].\n",
      "[2021-11-25 00:50:04,812] - obspy.clients.fdsn.mass_downloader - INFO: Client 'GEONET' - Acquired 0 StationXML files [0.0 MB].\n",
      "[2021-11-25 00:50:04,812] - obspy.clients.fdsn.mass_downloader - INFO: Downloaded 0.0 MB in total.\n",
      "[2021-11-25 00:50:04,819] - obspy.clients.fdsn.mass_downloader - INFO: Initializing FDSN client(s) for GEONET.\n",
      "[2021-11-25 00:50:04,833] - obspy.clients.fdsn.mass_downloader - INFO: Successfully initialized 1 client(s): GEONET.\n",
      "[2021-11-25 00:50:04,834] - obspy.clients.fdsn.mass_downloader - INFO: Total acquired or preexisting stations: 0\n",
      "[2021-11-25 00:50:04,835] - obspy.clients.fdsn.mass_downloader - INFO: Client 'GEONET' - Requesting unreliable availability.\n"
     ]
    },
    {
     "name": "stdout",
     "output_type": "stream",
     "text": [
      "=================================================================\n",
      "Initiating mass download request.\n"
     ]
    },
    {
     "name": "stderr",
     "output_type": "stream",
     "text": [
      "[2021-11-25 00:50:05,512] - obspy.clients.fdsn.mass_downloader - INFO: Client 'GEONET' - Successfully requested availability (0.68 seconds)\n",
      "[2021-11-25 00:50:05,520] - obspy.clients.fdsn.mass_downloader - INFO: Client 'GEONET' - Found 1 stations (1 channels).\n",
      "[2021-11-25 00:50:05,522] - obspy.clients.fdsn.mass_downloader - INFO: Client 'GEONET' - Will attempt to download data from 1 stations.\n",
      "[2021-11-25 00:50:05,523] - obspy.clients.fdsn.mass_downloader - INFO: Client 'GEONET' - Status for 1 time intervals/channels before downloading: NEEDS_DOWNLOADING\n",
      "[2021-11-25 00:50:06,411] - obspy.clients.fdsn.mass_downloader - INFO: Client 'GEONET' - Successfully downloaded 1 channels (of 1)\n",
      "[2021-11-25 00:50:06,425] - obspy.clients.fdsn.mass_downloader - INFO: Client 'GEONET' - Launching basic QC checks...\n",
      "[2021-11-25 00:50:06,438] - obspy.clients.fdsn.mass_downloader - INFO: Client 'GEONET' - Downloaded 0.0 MB [3.36 KB/sec] of data, 0.0 MB of which were discarded afterwards.\n",
      "[2021-11-25 00:50:06,439] - obspy.clients.fdsn.mass_downloader - INFO: Client 'GEONET' - Status for 1 time intervals/channels after downloading: DOWNLOADED\n",
      "[2021-11-25 00:50:06,447] - obspy.clients.fdsn.mass_downloader - INFO: Client 'GEONET' - No station information to download.\n",
      "[2021-11-25 00:50:06,448] - obspy.clients.fdsn.mass_downloader - INFO: ============================== Final report\n",
      "[2021-11-25 00:50:06,452] - obspy.clients.fdsn.mass_downloader - INFO: 0 MiniSEED files [0.0 MB] already existed.\n",
      "[2021-11-25 00:50:06,455] - obspy.clients.fdsn.mass_downloader - INFO: 1 StationXML files [0.0 MB] already existed.\n",
      "[2021-11-25 00:50:06,456] - obspy.clients.fdsn.mass_downloader - INFO: Client 'GEONET' - Acquired 1 MiniSEED files [0.0 MB].\n",
      "[2021-11-25 00:50:06,457] - obspy.clients.fdsn.mass_downloader - INFO: Client 'GEONET' - Acquired 0 StationXML files [0.0 MB].\n",
      "[2021-11-25 00:50:06,457] - obspy.clients.fdsn.mass_downloader - INFO: Downloaded 0.0 MB in total.\n",
      "[2021-11-25 00:50:06,465] - obspy.clients.fdsn.mass_downloader - INFO: Initializing FDSN client(s) for GEONET.\n",
      "[2021-11-25 00:50:06,473] - obspy.clients.fdsn.mass_downloader - INFO: Successfully initialized 1 client(s): GEONET.\n",
      "[2021-11-25 00:50:06,474] - obspy.clients.fdsn.mass_downloader - INFO: Total acquired or preexisting stations: 0\n",
      "[2021-11-25 00:50:06,474] - obspy.clients.fdsn.mass_downloader - INFO: Client 'GEONET' - Requesting unreliable availability.\n"
     ]
    },
    {
     "name": "stdout",
     "output_type": "stream",
     "text": [
      "=================================================================\n",
      "Initiating mass download request.\n"
     ]
    },
    {
     "name": "stderr",
     "output_type": "stream",
     "text": [
      "[2021-11-25 00:50:07,738] - obspy.clients.fdsn.mass_downloader - INFO: Client 'GEONET' - Successfully requested availability (1.26 seconds)\n",
      "[2021-11-25 00:50:07,766] - obspy.clients.fdsn.mass_downloader - INFO: Client 'GEONET' - Found 1 stations (1 channels).\n",
      "[2021-11-25 00:50:07,778] - obspy.clients.fdsn.mass_downloader - INFO: Client 'GEONET' - Will attempt to download data from 1 stations.\n",
      "[2021-11-25 00:50:07,786] - obspy.clients.fdsn.mass_downloader - INFO: Client 'GEONET' - Status for 1 time intervals/channels before downloading: NEEDS_DOWNLOADING\n",
      "[2021-11-25 00:50:08,760] - obspy.clients.fdsn.mass_downloader - INFO: Client 'GEONET' - Successfully downloaded 1 channels (of 1)\n",
      "[2021-11-25 00:50:08,859] - obspy.clients.fdsn.mass_downloader - INFO: Client 'GEONET' - Launching basic QC checks...\n",
      "[2021-11-25 00:50:09,221] - obspy.clients.fdsn.mass_downloader - INFO: Client 'GEONET' - Downloaded 0.0 MB [4.35 KB/sec] of data, 0.0 MB of which were discarded afterwards.\n",
      "[2021-11-25 00:50:09,259] - obspy.clients.fdsn.mass_downloader - INFO: Client 'GEONET' - Status for 1 time intervals/channels after downloading: DOWNLOADED\n",
      "[2021-11-25 00:50:09,329] - obspy.clients.fdsn.mass_downloader - INFO: Client 'GEONET' - No station information to download.\n",
      "[2021-11-25 00:50:09,376] - obspy.clients.fdsn.mass_downloader - INFO: ============================== Final report\n",
      "[2021-11-25 00:50:09,392] - obspy.clients.fdsn.mass_downloader - INFO: 0 MiniSEED files [0.0 MB] already existed.\n",
      "[2021-11-25 00:50:09,395] - obspy.clients.fdsn.mass_downloader - INFO: 1 StationXML files [0.0 MB] already existed.\n",
      "[2021-11-25 00:50:09,419] - obspy.clients.fdsn.mass_downloader - INFO: Client 'GEONET' - Acquired 1 MiniSEED files [0.0 MB].\n",
      "[2021-11-25 00:50:09,426] - obspy.clients.fdsn.mass_downloader - INFO: Client 'GEONET' - Acquired 0 StationXML files [0.0 MB].\n",
      "[2021-11-25 00:50:09,435] - obspy.clients.fdsn.mass_downloader - INFO: Downloaded 0.0 MB in total.\n",
      "[2021-11-25 00:50:09,755] - obspy.clients.fdsn.mass_downloader - INFO: Initializing FDSN client(s) for GEONET.\n",
      "[2021-11-25 00:50:09,882] - obspy.clients.fdsn.mass_downloader - INFO: Successfully initialized 1 client(s): GEONET.\n",
      "[2021-11-25 00:50:09,893] - obspy.clients.fdsn.mass_downloader - INFO: Total acquired or preexisting stations: 0\n",
      "[2021-11-25 00:50:09,900] - obspy.clients.fdsn.mass_downloader - INFO: Client 'GEONET' - Requesting unreliable availability.\n"
     ]
    },
    {
     "name": "stdout",
     "output_type": "stream",
     "text": [
      "=================================================================\n",
      "Initiating mass download request.\n"
     ]
    },
    {
     "name": "stderr",
     "output_type": "stream",
     "text": [
      "[2021-11-25 00:50:10,545] - obspy.clients.fdsn.mass_downloader - INFO: Client 'GEONET' - Successfully requested availability (0.64 seconds)\n",
      "[2021-11-25 00:50:10,562] - obspy.clients.fdsn.mass_downloader - INFO: Client 'GEONET' - Found 1 stations (1 channels).\n",
      "[2021-11-25 00:50:10,568] - obspy.clients.fdsn.mass_downloader - INFO: Client 'GEONET' - Will attempt to download data from 1 stations.\n",
      "[2021-11-25 00:50:10,576] - obspy.clients.fdsn.mass_downloader - INFO: Client 'GEONET' - Status for 1 time intervals/channels before downloading: NEEDS_DOWNLOADING\n",
      "[2021-11-25 00:50:11,547] - obspy.clients.fdsn.mass_downloader - INFO: Client 'GEONET' - Successfully downloaded 1 channels (of 1)\n",
      "[2021-11-25 00:50:11,575] - obspy.clients.fdsn.mass_downloader - INFO: Client 'GEONET' - Launching basic QC checks...\n",
      "[2021-11-25 00:50:11,587] - obspy.clients.fdsn.mass_downloader - INFO: Client 'GEONET' - Downloaded 0.0 MB [6.10 KB/sec] of data, 0.0 MB of which were discarded afterwards.\n",
      "[2021-11-25 00:50:11,594] - obspy.clients.fdsn.mass_downloader - INFO: Client 'GEONET' - Status for 1 time intervals/channels after downloading: DOWNLOADED\n",
      "[2021-11-25 00:50:11,598] - obspy.clients.fdsn.mass_downloader - INFO: Client 'GEONET' - No station information to download.\n",
      "[2021-11-25 00:50:11,606] - obspy.clients.fdsn.mass_downloader - INFO: ============================== Final report\n",
      "[2021-11-25 00:50:11,610] - obspy.clients.fdsn.mass_downloader - INFO: 0 MiniSEED files [0.0 MB] already existed.\n",
      "[2021-11-25 00:50:11,622] - obspy.clients.fdsn.mass_downloader - INFO: 1 StationXML files [0.0 MB] already existed.\n",
      "[2021-11-25 00:50:11,625] - obspy.clients.fdsn.mass_downloader - INFO: Client 'GEONET' - Acquired 1 MiniSEED files [0.0 MB].\n",
      "[2021-11-25 00:50:11,629] - obspy.clients.fdsn.mass_downloader - INFO: Client 'GEONET' - Acquired 0 StationXML files [0.0 MB].\n",
      "[2021-11-25 00:50:11,632] - obspy.clients.fdsn.mass_downloader - INFO: Downloaded 0.0 MB in total.\n",
      "[2021-11-25 00:50:11,644] - obspy.clients.fdsn.mass_downloader - INFO: Initializing FDSN client(s) for GEONET.\n",
      "[2021-11-25 00:50:11,661] - obspy.clients.fdsn.mass_downloader - INFO: Successfully initialized 1 client(s): GEONET.\n",
      "[2021-11-25 00:50:11,668] - obspy.clients.fdsn.mass_downloader - INFO: Total acquired or preexisting stations: 0\n",
      "[2021-11-25 00:50:11,669] - obspy.clients.fdsn.mass_downloader - INFO: Client 'GEONET' - Requesting unreliable availability.\n"
     ]
    },
    {
     "name": "stdout",
     "output_type": "stream",
     "text": [
      "=================================================================\n",
      "Initiating mass download request.\n"
     ]
    },
    {
     "name": "stderr",
     "output_type": "stream",
     "text": [
      "[2021-11-25 00:50:12,307] - obspy.clients.fdsn.mass_downloader - INFO: Client 'GEONET' - Successfully requested availability (0.64 seconds)\n",
      "[2021-11-25 00:50:12,354] - obspy.clients.fdsn.mass_downloader - INFO: Client 'GEONET' - Found 1 stations (1 channels).\n",
      "[2021-11-25 00:50:12,367] - obspy.clients.fdsn.mass_downloader - INFO: Client 'GEONET' - Will attempt to download data from 1 stations.\n",
      "[2021-11-25 00:50:12,374] - obspy.clients.fdsn.mass_downloader - INFO: Client 'GEONET' - Status for 1 time intervals/channels before downloading: NEEDS_DOWNLOADING\n",
      "[2021-11-25 00:50:13,281] - obspy.clients.fdsn.mass_downloader - INFO: Client 'GEONET' - Successfully downloaded 1 channels (of 1)\n",
      "[2021-11-25 00:50:13,315] - obspy.clients.fdsn.mass_downloader - INFO: Client 'GEONET' - Launching basic QC checks...\n",
      "[2021-11-25 00:50:13,378] - obspy.clients.fdsn.mass_downloader - INFO: Client 'GEONET' - Downloaded 0.0 MB [4.37 KB/sec] of data, 0.0 MB of which were discarded afterwards.\n",
      "[2021-11-25 00:50:13,397] - obspy.clients.fdsn.mass_downloader - INFO: Client 'GEONET' - Status for 1 time intervals/channels after downloading: DOWNLOADED\n",
      "[2021-11-25 00:50:14,078] - obspy.clients.fdsn.mass_downloader - INFO: Client 'GEONET' - Successfully downloaded 'normal/stations/NZ.BKZ.xml'.\n",
      "[2021-11-25 00:50:14,101] - obspy.clients.fdsn.mass_downloader - INFO: Client 'GEONET' - Downloaded 1 station files [0.0 MB] in 0.7 seconds [13.18 KB/sec].\n",
      "[2021-11-25 00:50:14,110] - obspy.clients.fdsn.mass_downloader - INFO: ============================== Final report\n",
      "[2021-11-25 00:50:14,113] - obspy.clients.fdsn.mass_downloader - INFO: 0 MiniSEED files [0.0 MB] already existed.\n",
      "[2021-11-25 00:50:14,120] - obspy.clients.fdsn.mass_downloader - INFO: 0 StationXML files [0.0 MB] already existed.\n",
      "[2021-11-25 00:50:14,122] - obspy.clients.fdsn.mass_downloader - INFO: Client 'GEONET' - Acquired 1 MiniSEED files [0.0 MB].\n",
      "[2021-11-25 00:50:14,123] - obspy.clients.fdsn.mass_downloader - INFO: Client 'GEONET' - Acquired 1 StationXML files [0.0 MB].\n",
      "[2021-11-25 00:50:14,124] - obspy.clients.fdsn.mass_downloader - INFO: Downloaded 0.0 MB in total.\n",
      "[2021-11-25 00:50:14,132] - obspy.clients.fdsn.mass_downloader - INFO: Initializing FDSN client(s) for GEONET.\n",
      "[2021-11-25 00:50:14,143] - obspy.clients.fdsn.mass_downloader - INFO: Successfully initialized 1 client(s): GEONET.\n",
      "[2021-11-25 00:50:14,146] - obspy.clients.fdsn.mass_downloader - INFO: Total acquired or preexisting stations: 0\n",
      "[2021-11-25 00:50:14,147] - obspy.clients.fdsn.mass_downloader - INFO: Client 'GEONET' - Requesting unreliable availability.\n"
     ]
    },
    {
     "name": "stdout",
     "output_type": "stream",
     "text": [
      "=================================================================\n",
      "Initiating mass download request.\n"
     ]
    },
    {
     "name": "stderr",
     "output_type": "stream",
     "text": [
      "[2021-11-25 00:50:14,706] - obspy.clients.fdsn.mass_downloader - INFO: Client 'GEONET' - Successfully requested availability (0.56 seconds)\n",
      "[2021-11-25 00:50:14,709] - obspy.clients.fdsn.mass_downloader - INFO: Client 'GEONET' - Found 1 stations (1 channels).\n",
      "[2021-11-25 00:50:14,709] - obspy.clients.fdsn.mass_downloader - INFO: Client 'GEONET' - Will attempt to download data from 1 stations.\n",
      "[2021-11-25 00:50:14,713] - obspy.clients.fdsn.mass_downloader - INFO: Client 'GEONET' - Status for 1 time intervals/channels before downloading: NEEDS_DOWNLOADING\n",
      "[2021-11-25 00:50:15,567] - obspy.clients.fdsn.mass_downloader - INFO: Client 'GEONET' - Successfully downloaded 1 channels (of 1)\n",
      "[2021-11-25 00:50:15,594] - obspy.clients.fdsn.mass_downloader - INFO: Client 'GEONET' - Launching basic QC checks...\n",
      "[2021-11-25 00:50:15,632] - obspy.clients.fdsn.mass_downloader - INFO: Client 'GEONET' - Downloaded 0.0 MB [3.45 KB/sec] of data, 0.0 MB of which were discarded afterwards.\n",
      "[2021-11-25 00:50:15,635] - obspy.clients.fdsn.mass_downloader - INFO: Client 'GEONET' - Status for 1 time intervals/channels after downloading: DOWNLOADED\n",
      "[2021-11-25 00:50:15,645] - obspy.clients.fdsn.mass_downloader - INFO: Client 'GEONET' - No station information to download.\n",
      "[2021-11-25 00:50:15,649] - obspy.clients.fdsn.mass_downloader - INFO: ============================== Final report\n",
      "[2021-11-25 00:50:15,655] - obspy.clients.fdsn.mass_downloader - INFO: 0 MiniSEED files [0.0 MB] already existed.\n",
      "[2021-11-25 00:50:15,657] - obspy.clients.fdsn.mass_downloader - INFO: 1 StationXML files [0.0 MB] already existed.\n",
      "[2021-11-25 00:50:15,658] - obspy.clients.fdsn.mass_downloader - INFO: Client 'GEONET' - Acquired 1 MiniSEED files [0.0 MB].\n",
      "[2021-11-25 00:50:15,661] - obspy.clients.fdsn.mass_downloader - INFO: Client 'GEONET' - Acquired 0 StationXML files [0.0 MB].\n",
      "[2021-11-25 00:50:15,661] - obspy.clients.fdsn.mass_downloader - INFO: Downloaded 0.0 MB in total.\n",
      "[2021-11-25 00:50:15,672] - obspy.clients.fdsn.mass_downloader - INFO: Initializing FDSN client(s) for GEONET.\n",
      "[2021-11-25 00:50:15,695] - obspy.clients.fdsn.mass_downloader - INFO: Successfully initialized 1 client(s): GEONET.\n",
      "[2021-11-25 00:50:15,698] - obspy.clients.fdsn.mass_downloader - INFO: Total acquired or preexisting stations: 0\n",
      "[2021-11-25 00:50:15,699] - obspy.clients.fdsn.mass_downloader - INFO: Client 'GEONET' - Requesting unreliable availability.\n"
     ]
    },
    {
     "name": "stdout",
     "output_type": "stream",
     "text": [
      "=================================================================\n",
      "Initiating mass download request.\n"
     ]
    },
    {
     "name": "stderr",
     "output_type": "stream",
     "text": [
      "[2021-11-25 00:50:16,280] - obspy.clients.fdsn.mass_downloader - INFO: Client 'GEONET' - Successfully requested availability (0.58 seconds)\n",
      "[2021-11-25 00:50:16,302] - obspy.clients.fdsn.mass_downloader - INFO: Client 'GEONET' - Found 1 stations (1 channels).\n",
      "[2021-11-25 00:50:16,319] - obspy.clients.fdsn.mass_downloader - INFO: Client 'GEONET' - Will attempt to download data from 1 stations.\n",
      "[2021-11-25 00:50:16,330] - obspy.clients.fdsn.mass_downloader - INFO: Client 'GEONET' - Status for 1 time intervals/channels before downloading: NEEDS_DOWNLOADING\n",
      "[2021-11-25 00:50:17,262] - obspy.clients.fdsn.mass_downloader - INFO: Client 'GEONET' - Successfully downloaded 1 channels (of 1)\n",
      "[2021-11-25 00:50:17,307] - obspy.clients.fdsn.mass_downloader - INFO: Client 'GEONET' - Launching basic QC checks...\n",
      "[2021-11-25 00:50:17,365] - obspy.clients.fdsn.mass_downloader - INFO: Client 'GEONET' - Downloaded 0.0 MB [3.15 KB/sec] of data, 0.0 MB of which were discarded afterwards.\n",
      "[2021-11-25 00:50:17,366] - obspy.clients.fdsn.mass_downloader - INFO: Client 'GEONET' - Status for 1 time intervals/channels after downloading: DOWNLOADED\n",
      "[2021-11-25 00:50:17,391] - obspy.clients.fdsn.mass_downloader - INFO: Client 'GEONET' - No station information to download.\n",
      "[2021-11-25 00:50:17,399] - obspy.clients.fdsn.mass_downloader - INFO: ============================== Final report\n",
      "[2021-11-25 00:50:17,409] - obspy.clients.fdsn.mass_downloader - INFO: 0 MiniSEED files [0.0 MB] already existed.\n",
      "[2021-11-25 00:50:17,412] - obspy.clients.fdsn.mass_downloader - INFO: 1 StationXML files [0.0 MB] already existed.\n",
      "[2021-11-25 00:50:17,413] - obspy.clients.fdsn.mass_downloader - INFO: Client 'GEONET' - Acquired 1 MiniSEED files [0.0 MB].\n",
      "[2021-11-25 00:50:17,419] - obspy.clients.fdsn.mass_downloader - INFO: Client 'GEONET' - Acquired 0 StationXML files [0.0 MB].\n",
      "[2021-11-25 00:50:17,423] - obspy.clients.fdsn.mass_downloader - INFO: Downloaded 0.0 MB in total.\n",
      "[2021-11-25 00:50:17,452] - obspy.clients.fdsn.mass_downloader - INFO: Initializing FDSN client(s) for GEONET.\n",
      "[2021-11-25 00:50:17,481] - obspy.clients.fdsn.mass_downloader - INFO: Successfully initialized 1 client(s): GEONET.\n",
      "[2021-11-25 00:50:17,485] - obspy.clients.fdsn.mass_downloader - INFO: Total acquired or preexisting stations: 0\n",
      "[2021-11-25 00:50:17,486] - obspy.clients.fdsn.mass_downloader - INFO: Client 'GEONET' - Requesting unreliable availability.\n"
     ]
    },
    {
     "name": "stdout",
     "output_type": "stream",
     "text": [
      "=================================================================\n",
      "Initiating mass download request.\n"
     ]
    },
    {
     "name": "stderr",
     "output_type": "stream",
     "text": [
      "[2021-11-25 00:50:18,139] - obspy.clients.fdsn.mass_downloader - INFO: Client 'GEONET' - Successfully requested availability (0.65 seconds)\n",
      "[2021-11-25 00:50:18,146] - obspy.clients.fdsn.mass_downloader - INFO: Client 'GEONET' - Found 1 stations (1 channels).\n",
      "[2021-11-25 00:50:18,147] - obspy.clients.fdsn.mass_downloader - INFO: Client 'GEONET' - Will attempt to download data from 1 stations.\n",
      "[2021-11-25 00:50:18,149] - obspy.clients.fdsn.mass_downloader - INFO: Client 'GEONET' - Status for 1 time intervals/channels before downloading: NEEDS_DOWNLOADING\n",
      "[2021-11-25 00:50:19,350] - obspy.clients.fdsn.mass_downloader - INFO: Client 'GEONET' - Successfully downloaded 1 channels (of 1)\n",
      "[2021-11-25 00:50:19,360] - obspy.clients.fdsn.mass_downloader - INFO: Client 'GEONET' - Launching basic QC checks...\n",
      "[2021-11-25 00:50:19,369] - obspy.clients.fdsn.mass_downloader - INFO: Client 'GEONET' - Downloaded 0.0 MB [3.74 KB/sec] of data, 0.0 MB of which were discarded afterwards.\n",
      "[2021-11-25 00:50:19,369] - obspy.clients.fdsn.mass_downloader - INFO: Client 'GEONET' - Status for 1 time intervals/channels after downloading: DOWNLOADED\n",
      "[2021-11-25 00:50:19,372] - obspy.clients.fdsn.mass_downloader - INFO: Client 'GEONET' - No station information to download.\n",
      "[2021-11-25 00:50:19,373] - obspy.clients.fdsn.mass_downloader - INFO: ============================== Final report\n",
      "[2021-11-25 00:50:19,373] - obspy.clients.fdsn.mass_downloader - INFO: 0 MiniSEED files [0.0 MB] already existed.\n",
      "[2021-11-25 00:50:19,373] - obspy.clients.fdsn.mass_downloader - INFO: 1 StationXML files [0.0 MB] already existed.\n",
      "[2021-11-25 00:50:19,374] - obspy.clients.fdsn.mass_downloader - INFO: Client 'GEONET' - Acquired 1 MiniSEED files [0.0 MB].\n",
      "[2021-11-25 00:50:19,374] - obspy.clients.fdsn.mass_downloader - INFO: Client 'GEONET' - Acquired 0 StationXML files [0.0 MB].\n",
      "[2021-11-25 00:50:19,374] - obspy.clients.fdsn.mass_downloader - INFO: Downloaded 0.0 MB in total.\n",
      "[2021-11-25 00:50:19,377] - obspy.clients.fdsn.mass_downloader - INFO: Initializing FDSN client(s) for GEONET.\n",
      "[2021-11-25 00:50:19,380] - obspy.clients.fdsn.mass_downloader - INFO: Successfully initialized 1 client(s): GEONET.\n",
      "[2021-11-25 00:50:19,382] - obspy.clients.fdsn.mass_downloader - INFO: Total acquired or preexisting stations: 0\n",
      "[2021-11-25 00:50:19,382] - obspy.clients.fdsn.mass_downloader - INFO: Client 'GEONET' - Requesting unreliable availability.\n"
     ]
    },
    {
     "name": "stdout",
     "output_type": "stream",
     "text": [
      "=================================================================\n",
      "Initiating mass download request.\n"
     ]
    },
    {
     "name": "stderr",
     "output_type": "stream",
     "text": [
      "[2021-11-25 00:50:20,001] - obspy.clients.fdsn.mass_downloader - INFO: Client 'GEONET' - Successfully requested availability (0.62 seconds)\n",
      "[2021-11-25 00:50:20,017] - obspy.clients.fdsn.mass_downloader - INFO: Client 'GEONET' - Found 1 stations (1 channels).\n",
      "[2021-11-25 00:50:20,018] - obspy.clients.fdsn.mass_downloader - INFO: Client 'GEONET' - Will attempt to download data from 1 stations.\n",
      "[2021-11-25 00:50:20,019] - obspy.clients.fdsn.mass_downloader - INFO: Client 'GEONET' - Status for 1 time intervals/channels before downloading: NEEDS_DOWNLOADING\n",
      "[2021-11-25 00:50:20,884] - obspy.clients.fdsn.mass_downloader - INFO: Client 'GEONET' - Successfully downloaded 1 channels (of 1)\n",
      "[2021-11-25 00:50:20,891] - obspy.clients.fdsn.mass_downloader - INFO: Client 'GEONET' - Launching basic QC checks...\n",
      "[2021-11-25 00:50:20,900] - obspy.clients.fdsn.mass_downloader - INFO: Client 'GEONET' - Downloaded 0.0 MB [4.03 KB/sec] of data, 0.0 MB of which were discarded afterwards.\n",
      "[2021-11-25 00:50:20,900] - obspy.clients.fdsn.mass_downloader - INFO: Client 'GEONET' - Status for 1 time intervals/channels after downloading: DOWNLOADED\n",
      "[2021-11-25 00:50:20,903] - obspy.clients.fdsn.mass_downloader - INFO: Client 'GEONET' - No station information to download.\n",
      "[2021-11-25 00:50:20,906] - obspy.clients.fdsn.mass_downloader - INFO: ============================== Final report\n",
      "[2021-11-25 00:50:20,906] - obspy.clients.fdsn.mass_downloader - INFO: 0 MiniSEED files [0.0 MB] already existed.\n",
      "[2021-11-25 00:50:20,907] - obspy.clients.fdsn.mass_downloader - INFO: 1 StationXML files [0.0 MB] already existed.\n",
      "[2021-11-25 00:50:20,907] - obspy.clients.fdsn.mass_downloader - INFO: Client 'GEONET' - Acquired 1 MiniSEED files [0.0 MB].\n",
      "[2021-11-25 00:50:20,908] - obspy.clients.fdsn.mass_downloader - INFO: Client 'GEONET' - Acquired 0 StationXML files [0.0 MB].\n",
      "[2021-11-25 00:50:20,908] - obspy.clients.fdsn.mass_downloader - INFO: Downloaded 0.0 MB in total.\n",
      "[2021-11-25 00:50:20,917] - obspy.clients.fdsn.mass_downloader - INFO: Initializing FDSN client(s) for GEONET.\n",
      "[2021-11-25 00:50:20,932] - obspy.clients.fdsn.mass_downloader - INFO: Successfully initialized 1 client(s): GEONET.\n",
      "[2021-11-25 00:50:20,937] - obspy.clients.fdsn.mass_downloader - INFO: Total acquired or preexisting stations: 0\n",
      "[2021-11-25 00:50:20,940] - obspy.clients.fdsn.mass_downloader - INFO: Client 'GEONET' - Requesting unreliable availability.\n"
     ]
    },
    {
     "name": "stdout",
     "output_type": "stream",
     "text": [
      "=================================================================\n",
      "Initiating mass download request.\n"
     ]
    },
    {
     "name": "stderr",
     "output_type": "stream",
     "text": [
      "[2021-11-25 00:50:21,488] - obspy.clients.fdsn.mass_downloader - INFO: Client 'GEONET' - Successfully requested availability (0.55 seconds)\n",
      "[2021-11-25 00:50:21,489] - obspy.clients.fdsn.mass_downloader - INFO: Client 'GEONET' - Found 1 stations (1 channels).\n",
      "[2021-11-25 00:50:21,490] - obspy.clients.fdsn.mass_downloader - INFO: Client 'GEONET' - Will attempt to download data from 1 stations.\n",
      "[2021-11-25 00:50:21,490] - obspy.clients.fdsn.mass_downloader - INFO: Client 'GEONET' - Status for 1 time intervals/channels before downloading: NEEDS_DOWNLOADING\n",
      "[2021-11-25 00:50:22,517] - obspy.clients.fdsn.mass_downloader - INFO: Client 'GEONET' - Successfully downloaded 1 channels (of 1)\n",
      "[2021-11-25 00:50:22,524] - obspy.clients.fdsn.mass_downloader - INFO: Client 'GEONET' - Launching basic QC checks...\n",
      "[2021-11-25 00:50:22,532] - obspy.clients.fdsn.mass_downloader - INFO: Client 'GEONET' - Downloaded 0.0 MB [4.36 KB/sec] of data, 0.0 MB of which were discarded afterwards.\n",
      "[2021-11-25 00:50:22,533] - obspy.clients.fdsn.mass_downloader - INFO: Client 'GEONET' - Status for 1 time intervals/channels after downloading: DOWNLOADED\n",
      "[2021-11-25 00:50:22,535] - obspy.clients.fdsn.mass_downloader - INFO: Client 'GEONET' - No station information to download.\n",
      "[2021-11-25 00:50:22,536] - obspy.clients.fdsn.mass_downloader - INFO: ============================== Final report\n",
      "[2021-11-25 00:50:22,536] - obspy.clients.fdsn.mass_downloader - INFO: 0 MiniSEED files [0.0 MB] already existed.\n",
      "[2021-11-25 00:50:22,537] - obspy.clients.fdsn.mass_downloader - INFO: 1 StationXML files [0.0 MB] already existed.\n",
      "[2021-11-25 00:50:22,537] - obspy.clients.fdsn.mass_downloader - INFO: Client 'GEONET' - Acquired 1 MiniSEED files [0.0 MB].\n",
      "[2021-11-25 00:50:22,537] - obspy.clients.fdsn.mass_downloader - INFO: Client 'GEONET' - Acquired 0 StationXML files [0.0 MB].\n",
      "[2021-11-25 00:50:22,537] - obspy.clients.fdsn.mass_downloader - INFO: Downloaded 0.0 MB in total.\n",
      "[2021-11-25 00:50:22,539] - obspy.clients.fdsn.mass_downloader - INFO: Initializing FDSN client(s) for GEONET.\n",
      "[2021-11-25 00:50:22,546] - obspy.clients.fdsn.mass_downloader - INFO: Successfully initialized 1 client(s): GEONET.\n",
      "[2021-11-25 00:50:22,547] - obspy.clients.fdsn.mass_downloader - INFO: Total acquired or preexisting stations: 0\n",
      "[2021-11-25 00:50:22,547] - obspy.clients.fdsn.mass_downloader - INFO: Client 'GEONET' - Requesting unreliable availability.\n"
     ]
    },
    {
     "name": "stdout",
     "output_type": "stream",
     "text": [
      "=================================================================\n",
      "Initiating mass download request.\n"
     ]
    },
    {
     "name": "stderr",
     "output_type": "stream",
     "text": [
      "[2021-11-25 00:50:23,272] - obspy.clients.fdsn.mass_downloader - INFO: Client 'GEONET' - Successfully requested availability (0.72 seconds)\n",
      "[2021-11-25 00:50:23,287] - obspy.clients.fdsn.mass_downloader - INFO: Client 'GEONET' - Found 1 stations (1 channels).\n",
      "[2021-11-25 00:50:23,298] - obspy.clients.fdsn.mass_downloader - INFO: Client 'GEONET' - Will attempt to download data from 1 stations.\n",
      "[2021-11-25 00:50:23,310] - obspy.clients.fdsn.mass_downloader - INFO: Client 'GEONET' - Status for 1 time intervals/channels before downloading: NEEDS_DOWNLOADING\n",
      "[2021-11-25 00:50:24,342] - obspy.clients.fdsn.mass_downloader - INFO: Client 'GEONET' - Successfully downloaded 1 channels (of 1)\n",
      "[2021-11-25 00:50:24,384] - obspy.clients.fdsn.mass_downloader - INFO: Client 'GEONET' - Launching basic QC checks...\n",
      "[2021-11-25 00:50:24,420] - obspy.clients.fdsn.mass_downloader - INFO: Client 'GEONET' - Downloaded 0.0 MB [3.32 KB/sec] of data, 0.0 MB of which were discarded afterwards.\n",
      "[2021-11-25 00:50:24,429] - obspy.clients.fdsn.mass_downloader - INFO: Client 'GEONET' - Status for 1 time intervals/channels after downloading: DOWNLOADED\n",
      "[2021-11-25 00:50:24,450] - obspy.clients.fdsn.mass_downloader - INFO: Client 'GEONET' - No station information to download.\n",
      "[2021-11-25 00:50:24,460] - obspy.clients.fdsn.mass_downloader - INFO: ============================== Final report\n",
      "[2021-11-25 00:50:24,470] - obspy.clients.fdsn.mass_downloader - INFO: 0 MiniSEED files [0.0 MB] already existed.\n",
      "[2021-11-25 00:50:24,472] - obspy.clients.fdsn.mass_downloader - INFO: 1 StationXML files [0.0 MB] already existed.\n",
      "[2021-11-25 00:50:24,480] - obspy.clients.fdsn.mass_downloader - INFO: Client 'GEONET' - Acquired 1 MiniSEED files [0.0 MB].\n",
      "[2021-11-25 00:50:24,483] - obspy.clients.fdsn.mass_downloader - INFO: Client 'GEONET' - Acquired 0 StationXML files [0.0 MB].\n",
      "[2021-11-25 00:50:24,483] - obspy.clients.fdsn.mass_downloader - INFO: Downloaded 0.0 MB in total.\n",
      "[2021-11-25 00:50:24,490] - obspy.clients.fdsn.mass_downloader - INFO: Initializing FDSN client(s) for GEONET.\n",
      "[2021-11-25 00:50:24,543] - obspy.clients.fdsn.mass_downloader - INFO: Successfully initialized 1 client(s): GEONET.\n",
      "[2021-11-25 00:50:24,561] - obspy.clients.fdsn.mass_downloader - INFO: Total acquired or preexisting stations: 0\n",
      "[2021-11-25 00:50:24,564] - obspy.clients.fdsn.mass_downloader - INFO: Client 'GEONET' - Requesting unreliable availability.\n"
     ]
    },
    {
     "name": "stdout",
     "output_type": "stream",
     "text": [
      "=================================================================\n",
      "Initiating mass download request.\n"
     ]
    },
    {
     "name": "stderr",
     "output_type": "stream",
     "text": [
      "[2021-11-25 00:50:25,132] - obspy.clients.fdsn.mass_downloader - INFO: Client 'GEONET' - No data available for request.\n",
      "[2021-11-25 00:50:25,141] - obspy.clients.fdsn.mass_downloader - INFO: Client 'GEONET' - No data available.\n",
      "[2021-11-25 00:50:25,147] - obspy.clients.fdsn.mass_downloader - INFO: ============================== Final report\n",
      "[2021-11-25 00:50:25,150] - obspy.clients.fdsn.mass_downloader - INFO: 0 MiniSEED files [0.0 MB] already existed.\n",
      "[2021-11-25 00:50:25,150] - obspy.clients.fdsn.mass_downloader - INFO: 0 StationXML files [0.0 MB] already existed.\n",
      "[2021-11-25 00:50:25,153] - obspy.clients.fdsn.mass_downloader - INFO: Client 'GEONET' - Acquired 0 MiniSEED files [0.0 MB].\n",
      "[2021-11-25 00:50:25,161] - obspy.clients.fdsn.mass_downloader - INFO: Client 'GEONET' - Acquired 0 StationXML files [0.0 MB].\n",
      "[2021-11-25 00:50:25,170] - obspy.clients.fdsn.mass_downloader - INFO: Downloaded 0.0 MB in total.\n",
      "[2021-11-25 00:50:25,214] - obspy.clients.fdsn.mass_downloader - INFO: Initializing FDSN client(s) for GEONET.\n",
      "[2021-11-25 00:50:25,296] - obspy.clients.fdsn.mass_downloader - INFO: Successfully initialized 1 client(s): GEONET.\n",
      "[2021-11-25 00:50:25,308] - obspy.clients.fdsn.mass_downloader - INFO: Total acquired or preexisting stations: 0\n",
      "[2021-11-25 00:50:25,315] - obspy.clients.fdsn.mass_downloader - INFO: Client 'GEONET' - Requesting unreliable availability.\n"
     ]
    },
    {
     "name": "stdout",
     "output_type": "stream",
     "text": [
      "=================================================================\n",
      "Initiating mass download request.\n"
     ]
    },
    {
     "name": "stderr",
     "output_type": "stream",
     "text": [
      "[2021-11-25 00:50:25,895] - obspy.clients.fdsn.mass_downloader - INFO: Client 'GEONET' - Successfully requested availability (0.57 seconds)\n",
      "[2021-11-25 00:50:25,897] - obspy.clients.fdsn.mass_downloader - INFO: Client 'GEONET' - Found 1 stations (1 channels).\n",
      "[2021-11-25 00:50:25,897] - obspy.clients.fdsn.mass_downloader - INFO: Client 'GEONET' - Will attempt to download data from 1 stations.\n",
      "[2021-11-25 00:50:25,898] - obspy.clients.fdsn.mass_downloader - INFO: Client 'GEONET' - Status for 1 time intervals/channels before downloading: NEEDS_DOWNLOADING\n",
      "[2021-11-25 00:50:26,733] - obspy.clients.fdsn.mass_downloader - INFO: Client 'GEONET' - Successfully downloaded 1 channels (of 1)\n",
      "[2021-11-25 00:50:26,781] - obspy.clients.fdsn.mass_downloader - INFO: Client 'GEONET' - Launching basic QC checks...\n",
      "[2021-11-25 00:50:26,807] - obspy.clients.fdsn.mass_downloader - INFO: Client 'GEONET' - Downloaded 0.0 MB [5.13 KB/sec] of data, 0.0 MB of which were discarded afterwards.\n",
      "[2021-11-25 00:50:26,810] - obspy.clients.fdsn.mass_downloader - INFO: Client 'GEONET' - Status for 1 time intervals/channels after downloading: DOWNLOADED\n",
      "[2021-11-25 00:50:26,821] - obspy.clients.fdsn.mass_downloader - INFO: Client 'GEONET' - No station information to download.\n",
      "[2021-11-25 00:50:26,826] - obspy.clients.fdsn.mass_downloader - INFO: ============================== Final report\n",
      "[2021-11-25 00:50:26,833] - obspy.clients.fdsn.mass_downloader - INFO: 0 MiniSEED files [0.0 MB] already existed.\n",
      "[2021-11-25 00:50:26,834] - obspy.clients.fdsn.mass_downloader - INFO: 1 StationXML files [0.0 MB] already existed.\n",
      "[2021-11-25 00:50:26,835] - obspy.clients.fdsn.mass_downloader - INFO: Client 'GEONET' - Acquired 1 MiniSEED files [0.0 MB].\n",
      "[2021-11-25 00:50:26,837] - obspy.clients.fdsn.mass_downloader - INFO: Client 'GEONET' - Acquired 0 StationXML files [0.0 MB].\n",
      "[2021-11-25 00:50:26,839] - obspy.clients.fdsn.mass_downloader - INFO: Downloaded 0.0 MB in total.\n",
      "[2021-11-25 00:50:26,867] - obspy.clients.fdsn.mass_downloader - INFO: Initializing FDSN client(s) for GEONET.\n",
      "[2021-11-25 00:50:26,887] - obspy.clients.fdsn.mass_downloader - INFO: Successfully initialized 1 client(s): GEONET.\n",
      "[2021-11-25 00:50:26,892] - obspy.clients.fdsn.mass_downloader - INFO: Total acquired or preexisting stations: 0\n",
      "[2021-11-25 00:50:26,893] - obspy.clients.fdsn.mass_downloader - INFO: Client 'GEONET' - Requesting unreliable availability.\n"
     ]
    },
    {
     "name": "stdout",
     "output_type": "stream",
     "text": [
      "=================================================================\n",
      "Initiating mass download request.\n"
     ]
    },
    {
     "name": "stderr",
     "output_type": "stream",
     "text": [
      "[2021-11-25 00:50:27,493] - obspy.clients.fdsn.mass_downloader - INFO: Client 'GEONET' - Successfully requested availability (0.60 seconds)\n",
      "[2021-11-25 00:50:27,540] - obspy.clients.fdsn.mass_downloader - INFO: Client 'GEONET' - Found 1 stations (1 channels).\n",
      "[2021-11-25 00:50:27,546] - obspy.clients.fdsn.mass_downloader - INFO: Client 'GEONET' - Will attempt to download data from 1 stations.\n",
      "[2021-11-25 00:50:27,553] - obspy.clients.fdsn.mass_downloader - INFO: Client 'GEONET' - Status for 1 time intervals/channels before downloading: NEEDS_DOWNLOADING\n",
      "[2021-11-25 00:50:28,518] - obspy.clients.fdsn.mass_downloader - INFO: Client 'GEONET' - Successfully downloaded 1 channels (of 1)\n",
      "[2021-11-25 00:50:28,572] - obspy.clients.fdsn.mass_downloader - INFO: Client 'GEONET' - Launching basic QC checks...\n",
      "[2021-11-25 00:50:28,606] - obspy.clients.fdsn.mass_downloader - INFO: Client 'GEONET' - Downloaded 0.0 MB [3.76 KB/sec] of data, 0.0 MB of which were discarded afterwards.\n",
      "[2021-11-25 00:50:28,608] - obspy.clients.fdsn.mass_downloader - INFO: Client 'GEONET' - Status for 1 time intervals/channels after downloading: DOWNLOADED\n",
      "[2021-11-25 00:50:28,619] - obspy.clients.fdsn.mass_downloader - INFO: Client 'GEONET' - No station information to download.\n",
      "[2021-11-25 00:50:28,624] - obspy.clients.fdsn.mass_downloader - INFO: ============================== Final report\n",
      "[2021-11-25 00:50:28,631] - obspy.clients.fdsn.mass_downloader - INFO: 0 MiniSEED files [0.0 MB] already existed.\n",
      "[2021-11-25 00:50:28,632] - obspy.clients.fdsn.mass_downloader - INFO: 1 StationXML files [0.0 MB] already existed.\n",
      "[2021-11-25 00:50:28,639] - obspy.clients.fdsn.mass_downloader - INFO: Client 'GEONET' - Acquired 1 MiniSEED files [0.0 MB].\n",
      "[2021-11-25 00:50:28,639] - obspy.clients.fdsn.mass_downloader - INFO: Client 'GEONET' - Acquired 0 StationXML files [0.0 MB].\n",
      "[2021-11-25 00:50:28,639] - obspy.clients.fdsn.mass_downloader - INFO: Downloaded 0.0 MB in total.\n",
      "[2021-11-25 00:50:28,662] - obspy.clients.fdsn.mass_downloader - INFO: Initializing FDSN client(s) for GEONET.\n",
      "[2021-11-25 00:50:28,693] - obspy.clients.fdsn.mass_downloader - INFO: Successfully initialized 1 client(s): GEONET.\n",
      "[2021-11-25 00:50:28,698] - obspy.clients.fdsn.mass_downloader - INFO: Total acquired or preexisting stations: 0\n",
      "[2021-11-25 00:50:28,700] - obspy.clients.fdsn.mass_downloader - INFO: Client 'GEONET' - Requesting unreliable availability.\n"
     ]
    },
    {
     "name": "stdout",
     "output_type": "stream",
     "text": [
      "=================================================================\n",
      "Initiating mass download request.\n"
     ]
    },
    {
     "name": "stderr",
     "output_type": "stream",
     "text": [
      "[2021-11-25 00:50:29,327] - obspy.clients.fdsn.mass_downloader - INFO: Client 'GEONET' - Successfully requested availability (0.63 seconds)\n",
      "[2021-11-25 00:50:29,348] - obspy.clients.fdsn.mass_downloader - INFO: Client 'GEONET' - Found 1 stations (1 channels).\n",
      "[2021-11-25 00:50:29,354] - obspy.clients.fdsn.mass_downloader - INFO: Client 'GEONET' - Will attempt to download data from 1 stations.\n",
      "[2021-11-25 00:50:29,364] - obspy.clients.fdsn.mass_downloader - INFO: Client 'GEONET' - Status for 1 time intervals/channels before downloading: NEEDS_DOWNLOADING\n",
      "[2021-11-25 00:50:30,494] - obspy.clients.fdsn.mass_downloader - INFO: Client 'GEONET' - Successfully downloaded 1 channels (of 1)\n",
      "[2021-11-25 00:50:30,506] - obspy.clients.fdsn.mass_downloader - INFO: Client 'GEONET' - Launching basic QC checks...\n",
      "[2021-11-25 00:50:30,530] - obspy.clients.fdsn.mass_downloader - INFO: Client 'GEONET' - Downloaded 0.0 MB [4.48 KB/sec] of data, 0.0 MB of which were discarded afterwards.\n",
      "[2021-11-25 00:50:30,533] - obspy.clients.fdsn.mass_downloader - INFO: Client 'GEONET' - Status for 1 time intervals/channels after downloading: DOWNLOADED\n",
      "[2021-11-25 00:50:30,547] - obspy.clients.fdsn.mass_downloader - INFO: Client 'GEONET' - No station information to download.\n",
      "[2021-11-25 00:50:30,554] - obspy.clients.fdsn.mass_downloader - INFO: ============================== Final report\n",
      "[2021-11-25 00:50:30,560] - obspy.clients.fdsn.mass_downloader - INFO: 0 MiniSEED files [0.0 MB] already existed.\n",
      "[2021-11-25 00:50:30,563] - obspy.clients.fdsn.mass_downloader - INFO: 1 StationXML files [0.0 MB] already existed.\n",
      "[2021-11-25 00:50:30,565] - obspy.clients.fdsn.mass_downloader - INFO: Client 'GEONET' - Acquired 1 MiniSEED files [0.0 MB].\n",
      "[2021-11-25 00:50:30,570] - obspy.clients.fdsn.mass_downloader - INFO: Client 'GEONET' - Acquired 0 StationXML files [0.0 MB].\n",
      "[2021-11-25 00:50:30,573] - obspy.clients.fdsn.mass_downloader - INFO: Downloaded 0.0 MB in total.\n",
      "[2021-11-25 00:50:30,611] - obspy.clients.fdsn.mass_downloader - INFO: Initializing FDSN client(s) for GEONET.\n",
      "[2021-11-25 00:50:30,648] - obspy.clients.fdsn.mass_downloader - INFO: Successfully initialized 1 client(s): GEONET.\n",
      "[2021-11-25 00:50:30,650] - obspy.clients.fdsn.mass_downloader - INFO: Total acquired or preexisting stations: 0\n",
      "[2021-11-25 00:50:30,651] - obspy.clients.fdsn.mass_downloader - INFO: Client 'GEONET' - Requesting unreliable availability.\n"
     ]
    },
    {
     "name": "stdout",
     "output_type": "stream",
     "text": [
      "=================================================================\n",
      "Initiating mass download request.\n"
     ]
    },
    {
     "name": "stderr",
     "output_type": "stream",
     "text": [
      "[2021-11-25 00:50:31,348] - obspy.clients.fdsn.mass_downloader - INFO: Client 'GEONET' - Successfully requested availability (0.70 seconds)\n",
      "[2021-11-25 00:50:31,413] - obspy.clients.fdsn.mass_downloader - INFO: Client 'GEONET' - Found 1 stations (1 channels).\n",
      "[2021-11-25 00:50:31,425] - obspy.clients.fdsn.mass_downloader - INFO: Client 'GEONET' - Will attempt to download data from 1 stations.\n",
      "[2021-11-25 00:50:31,447] - obspy.clients.fdsn.mass_downloader - INFO: Client 'GEONET' - Status for 1 time intervals/channels before downloading: NEEDS_DOWNLOADING\n",
      "[2021-11-25 00:50:32,365] - obspy.clients.fdsn.mass_downloader - INFO: Client 'GEONET' - Successfully downloaded 1 channels (of 1)\n",
      "[2021-11-25 00:50:32,425] - obspy.clients.fdsn.mass_downloader - INFO: Client 'GEONET' - Launching basic QC checks...\n",
      "[2021-11-25 00:50:32,445] - obspy.clients.fdsn.mass_downloader - INFO: Client 'GEONET' - Downloaded 0.0 MB [3.21 KB/sec] of data, 0.0 MB of which were discarded afterwards.\n",
      "[2021-11-25 00:50:32,450] - obspy.clients.fdsn.mass_downloader - INFO: Client 'GEONET' - Status for 1 time intervals/channels after downloading: DOWNLOADED\n",
      "[2021-11-25 00:50:32,469] - obspy.clients.fdsn.mass_downloader - INFO: Client 'GEONET' - No station information to download.\n",
      "[2021-11-25 00:50:32,474] - obspy.clients.fdsn.mass_downloader - INFO: ============================== Final report\n",
      "[2021-11-25 00:50:32,480] - obspy.clients.fdsn.mass_downloader - INFO: 0 MiniSEED files [0.0 MB] already existed.\n",
      "[2021-11-25 00:50:32,482] - obspy.clients.fdsn.mass_downloader - INFO: 1 StationXML files [0.0 MB] already existed.\n",
      "[2021-11-25 00:50:32,482] - obspy.clients.fdsn.mass_downloader - INFO: Client 'GEONET' - Acquired 1 MiniSEED files [0.0 MB].\n",
      "[2021-11-25 00:50:32,483] - obspy.clients.fdsn.mass_downloader - INFO: Client 'GEONET' - Acquired 0 StationXML files [0.0 MB].\n",
      "[2021-11-25 00:50:32,483] - obspy.clients.fdsn.mass_downloader - INFO: Downloaded 0.0 MB in total.\n",
      "[2021-11-25 00:50:32,505] - obspy.clients.fdsn.mass_downloader - INFO: Initializing FDSN client(s) for GEONET.\n",
      "[2021-11-25 00:50:32,522] - obspy.clients.fdsn.mass_downloader - INFO: Successfully initialized 1 client(s): GEONET.\n",
      "[2021-11-25 00:50:32,529] - obspy.clients.fdsn.mass_downloader - INFO: Total acquired or preexisting stations: 0\n",
      "[2021-11-25 00:50:32,531] - obspy.clients.fdsn.mass_downloader - INFO: Client 'GEONET' - Requesting unreliable availability.\n"
     ]
    },
    {
     "name": "stdout",
     "output_type": "stream",
     "text": [
      "=================================================================\n",
      "Initiating mass download request.\n"
     ]
    },
    {
     "name": "stderr",
     "output_type": "stream",
     "text": [
      "[2021-11-25 00:50:33,090] - obspy.clients.fdsn.mass_downloader - INFO: Client 'GEONET' - Successfully requested availability (0.56 seconds)\n",
      "[2021-11-25 00:50:33,113] - obspy.clients.fdsn.mass_downloader - INFO: Client 'GEONET' - Found 1 stations (1 channels).\n",
      "[2021-11-25 00:50:33,145] - obspy.clients.fdsn.mass_downloader - INFO: Client 'GEONET' - Will attempt to download data from 1 stations.\n",
      "[2021-11-25 00:50:33,183] - obspy.clients.fdsn.mass_downloader - INFO: Client 'GEONET' - Status for 1 time intervals/channels before downloading: NEEDS_DOWNLOADING\n",
      "[2021-11-25 00:50:34,465] - obspy.clients.fdsn.mass_downloader - INFO: Client 'GEONET' - Successfully downloaded 1 channels (of 1)\n",
      "[2021-11-25 00:50:34,511] - obspy.clients.fdsn.mass_downloader - INFO: Client 'GEONET' - Launching basic QC checks...\n",
      "[2021-11-25 00:50:34,532] - obspy.clients.fdsn.mass_downloader - INFO: Client 'GEONET' - Downloaded 0.0 MB [3.16 KB/sec] of data, 0.0 MB of which were discarded afterwards.\n",
      "[2021-11-25 00:50:34,536] - obspy.clients.fdsn.mass_downloader - INFO: Client 'GEONET' - Status for 1 time intervals/channels after downloading: DOWNLOADED\n",
      "[2021-11-25 00:50:34,554] - obspy.clients.fdsn.mass_downloader - INFO: Client 'GEONET' - No station information to download.\n",
      "[2021-11-25 00:50:34,557] - obspy.clients.fdsn.mass_downloader - INFO: ============================== Final report\n",
      "[2021-11-25 00:50:34,564] - obspy.clients.fdsn.mass_downloader - INFO: 0 MiniSEED files [0.0 MB] already existed.\n",
      "[2021-11-25 00:50:34,567] - obspy.clients.fdsn.mass_downloader - INFO: 1 StationXML files [0.0 MB] already existed.\n",
      "[2021-11-25 00:50:34,567] - obspy.clients.fdsn.mass_downloader - INFO: Client 'GEONET' - Acquired 1 MiniSEED files [0.0 MB].\n",
      "[2021-11-25 00:50:34,568] - obspy.clients.fdsn.mass_downloader - INFO: Client 'GEONET' - Acquired 0 StationXML files [0.0 MB].\n",
      "[2021-11-25 00:50:34,570] - obspy.clients.fdsn.mass_downloader - INFO: Downloaded 0.0 MB in total.\n",
      "[2021-11-25 00:50:34,580] - obspy.clients.fdsn.mass_downloader - INFO: Initializing FDSN client(s) for GEONET.\n",
      "[2021-11-25 00:50:34,591] - obspy.clients.fdsn.mass_downloader - INFO: Successfully initialized 1 client(s): GEONET.\n",
      "[2021-11-25 00:50:34,611] - obspy.clients.fdsn.mass_downloader - INFO: Total acquired or preexisting stations: 0\n",
      "[2021-11-25 00:50:34,615] - obspy.clients.fdsn.mass_downloader - INFO: Client 'GEONET' - Requesting unreliable availability.\n"
     ]
    },
    {
     "name": "stdout",
     "output_type": "stream",
     "text": [
      "=================================================================\n",
      "Initiating mass download request.\n"
     ]
    },
    {
     "name": "stderr",
     "output_type": "stream",
     "text": [
      "[2021-11-25 00:50:35,223] - obspy.clients.fdsn.mass_downloader - INFO: Client 'GEONET' - Successfully requested availability (0.61 seconds)\n",
      "[2021-11-25 00:50:35,255] - obspy.clients.fdsn.mass_downloader - INFO: Client 'GEONET' - Found 1 stations (1 channels).\n",
      "[2021-11-25 00:50:35,294] - obspy.clients.fdsn.mass_downloader - INFO: Client 'GEONET' - Will attempt to download data from 1 stations.\n",
      "[2021-11-25 00:50:35,323] - obspy.clients.fdsn.mass_downloader - INFO: Client 'GEONET' - Status for 1 time intervals/channels before downloading: NEEDS_DOWNLOADING\n",
      "[2021-11-25 00:50:36,188] - obspy.clients.fdsn.mass_downloader - INFO: Client 'GEONET' - Successfully downloaded 1 channels (of 1)\n",
      "[2021-11-25 00:50:36,203] - obspy.clients.fdsn.mass_downloader - INFO: Client 'GEONET' - Launching basic QC checks...\n",
      "[2021-11-25 00:50:36,227] - obspy.clients.fdsn.mass_downloader - INFO: Client 'GEONET' - Downloaded 0.0 MB [4.36 KB/sec] of data, 0.0 MB of which were discarded afterwards.\n",
      "[2021-11-25 00:50:36,230] - obspy.clients.fdsn.mass_downloader - INFO: Client 'GEONET' - Status for 1 time intervals/channels after downloading: DOWNLOADED\n",
      "[2021-11-25 00:50:36,242] - obspy.clients.fdsn.mass_downloader - INFO: Client 'GEONET' - No station information to download.\n",
      "[2021-11-25 00:50:36,248] - obspy.clients.fdsn.mass_downloader - INFO: ============================== Final report\n",
      "[2021-11-25 00:50:36,256] - obspy.clients.fdsn.mass_downloader - INFO: 0 MiniSEED files [0.0 MB] already existed.\n",
      "[2021-11-25 00:50:36,260] - obspy.clients.fdsn.mass_downloader - INFO: 1 StationXML files [0.0 MB] already existed.\n",
      "[2021-11-25 00:50:36,262] - obspy.clients.fdsn.mass_downloader - INFO: Client 'GEONET' - Acquired 1 MiniSEED files [0.0 MB].\n",
      "[2021-11-25 00:50:36,262] - obspy.clients.fdsn.mass_downloader - INFO: Client 'GEONET' - Acquired 0 StationXML files [0.0 MB].\n",
      "[2021-11-25 00:50:36,264] - obspy.clients.fdsn.mass_downloader - INFO: Downloaded 0.0 MB in total.\n",
      "[2021-11-25 00:50:36,286] - obspy.clients.fdsn.mass_downloader - INFO: Initializing FDSN client(s) for GEONET.\n",
      "[2021-11-25 00:50:36,304] - obspy.clients.fdsn.mass_downloader - INFO: Successfully initialized 1 client(s): GEONET.\n",
      "[2021-11-25 00:50:36,306] - obspy.clients.fdsn.mass_downloader - INFO: Total acquired or preexisting stations: 0\n",
      "[2021-11-25 00:50:36,312] - obspy.clients.fdsn.mass_downloader - INFO: Client 'GEONET' - Requesting unreliable availability.\n"
     ]
    },
    {
     "name": "stdout",
     "output_type": "stream",
     "text": [
      "=================================================================\n",
      "Initiating mass download request.\n"
     ]
    },
    {
     "name": "stderr",
     "output_type": "stream",
     "text": [
      "[2021-11-25 00:50:36,968] - obspy.clients.fdsn.mass_downloader - INFO: Client 'GEONET' - Successfully requested availability (0.65 seconds)\n",
      "[2021-11-25 00:50:36,980] - obspy.clients.fdsn.mass_downloader - INFO: Client 'GEONET' - Found 1 stations (1 channels).\n",
      "[2021-11-25 00:50:36,981] - obspy.clients.fdsn.mass_downloader - INFO: Client 'GEONET' - Will attempt to download data from 1 stations.\n",
      "[2021-11-25 00:50:36,983] - obspy.clients.fdsn.mass_downloader - INFO: Client 'GEONET' - Status for 1 time intervals/channels before downloading: NEEDS_DOWNLOADING\n",
      "[2021-11-25 00:50:37,953] - obspy.clients.fdsn.mass_downloader - INFO: Client 'GEONET' - Successfully downloaded 1 channels (of 1)\n",
      "[2021-11-25 00:50:37,982] - obspy.clients.fdsn.mass_downloader - INFO: Client 'GEONET' - Launching basic QC checks...\n",
      "[2021-11-25 00:50:38,003] - obspy.clients.fdsn.mass_downloader - INFO: Client 'GEONET' - Downloaded 0.0 MB [3.01 KB/sec] of data, 0.0 MB of which were discarded afterwards.\n",
      "[2021-11-25 00:50:38,005] - obspy.clients.fdsn.mass_downloader - INFO: Client 'GEONET' - Status for 1 time intervals/channels after downloading: DOWNLOADED\n",
      "[2021-11-25 00:50:38,018] - obspy.clients.fdsn.mass_downloader - INFO: Client 'GEONET' - No station information to download.\n",
      "[2021-11-25 00:50:38,020] - obspy.clients.fdsn.mass_downloader - INFO: ============================== Final report\n",
      "[2021-11-25 00:50:38,021] - obspy.clients.fdsn.mass_downloader - INFO: 0 MiniSEED files [0.0 MB] already existed.\n",
      "[2021-11-25 00:50:38,021] - obspy.clients.fdsn.mass_downloader - INFO: 1 StationXML files [0.0 MB] already existed.\n",
      "[2021-11-25 00:50:38,023] - obspy.clients.fdsn.mass_downloader - INFO: Client 'GEONET' - Acquired 1 MiniSEED files [0.0 MB].\n",
      "[2021-11-25 00:50:38,023] - obspy.clients.fdsn.mass_downloader - INFO: Client 'GEONET' - Acquired 0 StationXML files [0.0 MB].\n",
      "[2021-11-25 00:50:38,024] - obspy.clients.fdsn.mass_downloader - INFO: Downloaded 0.0 MB in total.\n",
      "[2021-11-25 00:50:38,030] - obspy.clients.fdsn.mass_downloader - INFO: Initializing FDSN client(s) for GEONET.\n",
      "[2021-11-25 00:50:38,049] - obspy.clients.fdsn.mass_downloader - INFO: Successfully initialized 1 client(s): GEONET.\n",
      "[2021-11-25 00:50:38,051] - obspy.clients.fdsn.mass_downloader - INFO: Total acquired or preexisting stations: 0\n",
      "[2021-11-25 00:50:38,052] - obspy.clients.fdsn.mass_downloader - INFO: Client 'GEONET' - Requesting unreliable availability.\n"
     ]
    },
    {
     "name": "stdout",
     "output_type": "stream",
     "text": [
      "=================================================================\n",
      "Initiating mass download request.\n"
     ]
    },
    {
     "name": "stderr",
     "output_type": "stream",
     "text": [
      "[2021-11-25 00:50:38,666] - obspy.clients.fdsn.mass_downloader - INFO: Client 'GEONET' - Successfully requested availability (0.61 seconds)\n",
      "[2021-11-25 00:50:38,683] - obspy.clients.fdsn.mass_downloader - INFO: Client 'GEONET' - Found 1 stations (1 channels).\n",
      "[2021-11-25 00:50:38,700] - obspy.clients.fdsn.mass_downloader - INFO: Client 'GEONET' - Will attempt to download data from 1 stations.\n",
      "[2021-11-25 00:50:38,714] - obspy.clients.fdsn.mass_downloader - INFO: Client 'GEONET' - Status for 1 time intervals/channels before downloading: NEEDS_DOWNLOADING\n",
      "[2021-11-25 00:50:39,768] - obspy.clients.fdsn.mass_downloader - INFO: Client 'GEONET' - Successfully downloaded 1 channels (of 1)\n",
      "[2021-11-25 00:50:39,803] - obspy.clients.fdsn.mass_downloader - INFO: Client 'GEONET' - Launching basic QC checks...\n",
      "[2021-11-25 00:50:39,829] - obspy.clients.fdsn.mass_downloader - INFO: Client 'GEONET' - Downloaded 0.0 MB [3.74 KB/sec] of data, 0.0 MB of which were discarded afterwards.\n",
      "[2021-11-25 00:50:39,833] - obspy.clients.fdsn.mass_downloader - INFO: Client 'GEONET' - Status for 1 time intervals/channels after downloading: DOWNLOADED\n",
      "[2021-11-25 00:50:39,841] - obspy.clients.fdsn.mass_downloader - INFO: Client 'GEONET' - No station information to download.\n",
      "[2021-11-25 00:50:39,845] - obspy.clients.fdsn.mass_downloader - INFO: ============================== Final report\n",
      "[2021-11-25 00:50:39,848] - obspy.clients.fdsn.mass_downloader - INFO: 0 MiniSEED files [0.0 MB] already existed.\n",
      "[2021-11-25 00:50:39,851] - obspy.clients.fdsn.mass_downloader - INFO: 1 StationXML files [0.0 MB] already existed.\n",
      "[2021-11-25 00:50:39,852] - obspy.clients.fdsn.mass_downloader - INFO: Client 'GEONET' - Acquired 1 MiniSEED files [0.0 MB].\n",
      "[2021-11-25 00:50:39,852] - obspy.clients.fdsn.mass_downloader - INFO: Client 'GEONET' - Acquired 0 StationXML files [0.0 MB].\n",
      "[2021-11-25 00:50:39,852] - obspy.clients.fdsn.mass_downloader - INFO: Downloaded 0.0 MB in total.\n",
      "[2021-11-25 00:50:39,867] - obspy.clients.fdsn.mass_downloader - INFO: Initializing FDSN client(s) for GEONET.\n",
      "[2021-11-25 00:50:39,878] - obspy.clients.fdsn.mass_downloader - INFO: Successfully initialized 1 client(s): GEONET.\n",
      "[2021-11-25 00:50:39,880] - obspy.clients.fdsn.mass_downloader - INFO: Total acquired or preexisting stations: 0\n",
      "[2021-11-25 00:50:39,881] - obspy.clients.fdsn.mass_downloader - INFO: Client 'GEONET' - Requesting unreliable availability.\n"
     ]
    },
    {
     "name": "stdout",
     "output_type": "stream",
     "text": [
      "=================================================================\n",
      "Initiating mass download request.\n"
     ]
    },
    {
     "name": "stderr",
     "output_type": "stream",
     "text": [
      "[2021-11-25 00:50:40,637] - obspy.clients.fdsn.mass_downloader - INFO: Client 'GEONET' - Successfully requested availability (0.75 seconds)\n",
      "[2021-11-25 00:50:40,651] - obspy.clients.fdsn.mass_downloader - INFO: Client 'GEONET' - Found 1 stations (1 channels).\n",
      "[2021-11-25 00:50:40,667] - obspy.clients.fdsn.mass_downloader - INFO: Client 'GEONET' - Will attempt to download data from 1 stations.\n",
      "[2021-11-25 00:50:40,757] - obspy.clients.fdsn.mass_downloader - INFO: Client 'GEONET' - Status for 1 time intervals/channels before downloading: NEEDS_DOWNLOADING\n",
      "[2021-11-25 00:50:41,855] - obspy.clients.fdsn.mass_downloader - INFO: Client 'GEONET' - Successfully downloaded 1 channels (of 1)\n",
      "[2021-11-25 00:50:41,918] - obspy.clients.fdsn.mass_downloader - INFO: Client 'GEONET' - Launching basic QC checks...\n",
      "[2021-11-25 00:50:41,959] - obspy.clients.fdsn.mass_downloader - INFO: Client 'GEONET' - Downloaded 0.0 MB [4.72 KB/sec] of data, 0.0 MB of which were discarded afterwards.\n",
      "[2021-11-25 00:50:41,963] - obspy.clients.fdsn.mass_downloader - INFO: Client 'GEONET' - Status for 1 time intervals/channels after downloading: DOWNLOADED\n",
      "[2021-11-25 00:50:41,988] - obspy.clients.fdsn.mass_downloader - INFO: Client 'GEONET' - No station information to download.\n",
      "[2021-11-25 00:50:41,996] - obspy.clients.fdsn.mass_downloader - INFO: ============================== Final report\n",
      "[2021-11-25 00:50:42,007] - obspy.clients.fdsn.mass_downloader - INFO: 0 MiniSEED files [0.0 MB] already existed.\n",
      "[2021-11-25 00:50:42,008] - obspy.clients.fdsn.mass_downloader - INFO: 1 StationXML files [0.0 MB] already existed.\n",
      "[2021-11-25 00:50:42,014] - obspy.clients.fdsn.mass_downloader - INFO: Client 'GEONET' - Acquired 1 MiniSEED files [0.0 MB].\n",
      "[2021-11-25 00:50:42,021] - obspy.clients.fdsn.mass_downloader - INFO: Client 'GEONET' - Acquired 0 StationXML files [0.0 MB].\n",
      "[2021-11-25 00:50:42,030] - obspy.clients.fdsn.mass_downloader - INFO: Downloaded 0.0 MB in total.\n",
      "[2021-11-25 00:50:42,077] - obspy.clients.fdsn.mass_downloader - INFO: Initializing FDSN client(s) for GEONET.\n",
      "[2021-11-25 00:50:42,180] - obspy.clients.fdsn.mass_downloader - INFO: Successfully initialized 1 client(s): GEONET.\n",
      "[2021-11-25 00:50:42,187] - obspy.clients.fdsn.mass_downloader - INFO: Total acquired or preexisting stations: 0\n",
      "[2021-11-25 00:50:42,188] - obspy.clients.fdsn.mass_downloader - INFO: Client 'GEONET' - Requesting unreliable availability.\n"
     ]
    },
    {
     "name": "stdout",
     "output_type": "stream",
     "text": [
      "=================================================================\n",
      "Initiating mass download request.\n"
     ]
    },
    {
     "name": "stderr",
     "output_type": "stream",
     "text": [
      "[2021-11-25 00:50:42,836] - obspy.clients.fdsn.mass_downloader - INFO: Client 'GEONET' - Successfully requested availability (0.64 seconds)\n",
      "[2021-11-25 00:50:42,917] - obspy.clients.fdsn.mass_downloader - INFO: Client 'GEONET' - Found 1 stations (1 channels).\n",
      "[2021-11-25 00:50:42,942] - obspy.clients.fdsn.mass_downloader - INFO: Client 'GEONET' - Will attempt to download data from 1 stations.\n",
      "[2021-11-25 00:50:42,979] - obspy.clients.fdsn.mass_downloader - INFO: Client 'GEONET' - Status for 1 time intervals/channels before downloading: NEEDS_DOWNLOADING\n",
      "[2021-11-25 00:50:43,952] - obspy.clients.fdsn.mass_downloader - INFO: Client 'GEONET' - Successfully downloaded 1 channels (of 1)\n",
      "[2021-11-25 00:50:44,026] - obspy.clients.fdsn.mass_downloader - INFO: Client 'GEONET' - Launching basic QC checks...\n",
      "[2021-11-25 00:50:44,059] - obspy.clients.fdsn.mass_downloader - INFO: Client 'GEONET' - Downloaded 0.0 MB [3.13 KB/sec] of data, 0.0 MB of which were discarded afterwards.\n",
      "[2021-11-25 00:50:44,067] - obspy.clients.fdsn.mass_downloader - INFO: Client 'GEONET' - Status for 1 time intervals/channels after downloading: DOWNLOADED\n",
      "[2021-11-25 00:50:44,091] - obspy.clients.fdsn.mass_downloader - INFO: Client 'GEONET' - No station information to download.\n",
      "[2021-11-25 00:50:44,109] - obspy.clients.fdsn.mass_downloader - INFO: ============================== Final report\n",
      "[2021-11-25 00:50:44,114] - obspy.clients.fdsn.mass_downloader - INFO: 0 MiniSEED files [0.0 MB] already existed.\n",
      "[2021-11-25 00:50:44,121] - obspy.clients.fdsn.mass_downloader - INFO: 1 StationXML files [0.0 MB] already existed.\n",
      "[2021-11-25 00:50:44,121] - obspy.clients.fdsn.mass_downloader - INFO: Client 'GEONET' - Acquired 1 MiniSEED files [0.0 MB].\n",
      "[2021-11-25 00:50:44,122] - obspy.clients.fdsn.mass_downloader - INFO: Client 'GEONET' - Acquired 0 StationXML files [0.0 MB].\n",
      "[2021-11-25 00:50:44,122] - obspy.clients.fdsn.mass_downloader - INFO: Downloaded 0.0 MB in total.\n",
      "[2021-11-25 00:50:44,146] - obspy.clients.fdsn.mass_downloader - INFO: Initializing FDSN client(s) for GEONET.\n",
      "[2021-11-25 00:50:44,186] - obspy.clients.fdsn.mass_downloader - INFO: Successfully initialized 1 client(s): GEONET.\n",
      "[2021-11-25 00:50:44,190] - obspy.clients.fdsn.mass_downloader - INFO: Total acquired or preexisting stations: 0\n",
      "[2021-11-25 00:50:44,197] - obspy.clients.fdsn.mass_downloader - INFO: Client 'GEONET' - Requesting unreliable availability.\n"
     ]
    },
    {
     "name": "stdout",
     "output_type": "stream",
     "text": [
      "=================================================================\n",
      "Initiating mass download request.\n"
     ]
    },
    {
     "name": "stderr",
     "output_type": "stream",
     "text": [
      "[2021-11-25 00:50:44,952] - obspy.clients.fdsn.mass_downloader - INFO: Client 'GEONET' - Successfully requested availability (0.75 seconds)\n",
      "[2021-11-25 00:50:45,043] - obspy.clients.fdsn.mass_downloader - INFO: Client 'GEONET' - Found 1 stations (1 channels).\n",
      "[2021-11-25 00:50:45,063] - obspy.clients.fdsn.mass_downloader - INFO: Client 'GEONET' - Will attempt to download data from 1 stations.\n",
      "[2021-11-25 00:50:45,078] - obspy.clients.fdsn.mass_downloader - INFO: Client 'GEONET' - Status for 1 time intervals/channels before downloading: NEEDS_DOWNLOADING\n",
      "[2021-11-25 00:50:45,793] - obspy.clients.fdsn.mass_downloader - INFO: Client 'GEONET' - No data available for request.\n",
      "[2021-11-25 00:50:45,811] - obspy.clients.fdsn.mass_downloader - INFO: Client 'GEONET' - Launching basic QC checks...\n",
      "[2021-11-25 00:50:45,817] - obspy.clients.fdsn.mass_downloader - INFO: Client 'GEONET' - Downloaded 0.0 MB [0.00 KB/sec] of data, 0.0 MB of which were discarded afterwards.\n",
      "[2021-11-25 00:50:45,818] - obspy.clients.fdsn.mass_downloader - INFO: Client 'GEONET' - Status for 1 time intervals/channels after downloading: DOWNLOAD_FAILED\n",
      "[2021-11-25 00:50:45,822] - obspy.clients.fdsn.mass_downloader - INFO: Client 'GEONET' - No station information to download.\n",
      "[2021-11-25 00:50:45,825] - obspy.clients.fdsn.mass_downloader - INFO: Client 'GEONET' - No data could be downloaded.\n",
      "[2021-11-25 00:50:45,826] - obspy.clients.fdsn.mass_downloader - INFO: ============================== Final report\n",
      "[2021-11-25 00:50:45,827] - obspy.clients.fdsn.mass_downloader - INFO: 0 MiniSEED files [0.0 MB] already existed.\n",
      "[2021-11-25 00:50:45,831] - obspy.clients.fdsn.mass_downloader - INFO: 0 StationXML files [0.0 MB] already existed.\n",
      "[2021-11-25 00:50:45,833] - obspy.clients.fdsn.mass_downloader - INFO: Client 'GEONET' - Acquired 0 MiniSEED files [0.0 MB].\n",
      "[2021-11-25 00:50:45,834] - obspy.clients.fdsn.mass_downloader - INFO: Client 'GEONET' - Acquired 0 StationXML files [0.0 MB].\n",
      "[2021-11-25 00:50:45,835] - obspy.clients.fdsn.mass_downloader - INFO: Downloaded 0.0 MB in total.\n",
      "[2021-11-25 00:50:45,853] - obspy.clients.fdsn.mass_downloader - INFO: Initializing FDSN client(s) for GEONET.\n",
      "[2021-11-25 00:50:45,870] - obspy.clients.fdsn.mass_downloader - INFO: Successfully initialized 1 client(s): GEONET.\n",
      "[2021-11-25 00:50:45,876] - obspy.clients.fdsn.mass_downloader - INFO: Total acquired or preexisting stations: 0\n",
      "[2021-11-25 00:50:45,878] - obspy.clients.fdsn.mass_downloader - INFO: Client 'GEONET' - Requesting unreliable availability.\n"
     ]
    },
    {
     "name": "stdout",
     "output_type": "stream",
     "text": [
      "=================================================================\n",
      "Initiating mass download request.\n"
     ]
    },
    {
     "name": "stderr",
     "output_type": "stream",
     "text": [
      "[2021-11-25 00:50:46,430] - obspy.clients.fdsn.mass_downloader - INFO: Client 'GEONET' - Successfully requested availability (0.55 seconds)\n",
      "[2021-11-25 00:50:46,433] - obspy.clients.fdsn.mass_downloader - INFO: Client 'GEONET' - Found 1 stations (1 channels).\n",
      "[2021-11-25 00:50:46,434] - obspy.clients.fdsn.mass_downloader - INFO: Client 'GEONET' - Will attempt to download data from 1 stations.\n",
      "[2021-11-25 00:50:46,435] - obspy.clients.fdsn.mass_downloader - INFO: Client 'GEONET' - Status for 1 time intervals/channels before downloading: NEEDS_DOWNLOADING\n",
      "[2021-11-25 00:50:47,345] - obspy.clients.fdsn.mass_downloader - INFO: Client 'GEONET' - Successfully downloaded 1 channels (of 1)\n",
      "[2021-11-25 00:50:47,366] - obspy.clients.fdsn.mass_downloader - INFO: Client 'GEONET' - Launching basic QC checks...\n",
      "[2021-11-25 00:50:47,379] - obspy.clients.fdsn.mass_downloader - INFO: Client 'GEONET' - Downloaded 0.0 MB [3.26 KB/sec] of data, 0.0 MB of which were discarded afterwards.\n",
      "[2021-11-25 00:50:47,384] - obspy.clients.fdsn.mass_downloader - INFO: Client 'GEONET' - Status for 1 time intervals/channels after downloading: DOWNLOADED\n",
      "[2021-11-25 00:50:47,391] - obspy.clients.fdsn.mass_downloader - INFO: Client 'GEONET' - No station information to download.\n",
      "[2021-11-25 00:50:47,393] - obspy.clients.fdsn.mass_downloader - INFO: ============================== Final report\n",
      "[2021-11-25 00:50:47,394] - obspy.clients.fdsn.mass_downloader - INFO: 0 MiniSEED files [0.0 MB] already existed.\n",
      "[2021-11-25 00:50:47,394] - obspy.clients.fdsn.mass_downloader - INFO: 1 StationXML files [0.0 MB] already existed.\n",
      "[2021-11-25 00:50:47,395] - obspy.clients.fdsn.mass_downloader - INFO: Client 'GEONET' - Acquired 1 MiniSEED files [0.0 MB].\n",
      "[2021-11-25 00:50:47,395] - obspy.clients.fdsn.mass_downloader - INFO: Client 'GEONET' - Acquired 0 StationXML files [0.0 MB].\n",
      "[2021-11-25 00:50:47,396] - obspy.clients.fdsn.mass_downloader - INFO: Downloaded 0.0 MB in total.\n",
      "[2021-11-25 00:50:47,406] - obspy.clients.fdsn.mass_downloader - INFO: Initializing FDSN client(s) for GEONET.\n",
      "[2021-11-25 00:50:47,432] - obspy.clients.fdsn.mass_downloader - INFO: Successfully initialized 1 client(s): GEONET.\n",
      "[2021-11-25 00:50:47,436] - obspy.clients.fdsn.mass_downloader - INFO: Total acquired or preexisting stations: 0\n",
      "[2021-11-25 00:50:47,441] - obspy.clients.fdsn.mass_downloader - INFO: Client 'GEONET' - Requesting unreliable availability.\n"
     ]
    },
    {
     "name": "stdout",
     "output_type": "stream",
     "text": [
      "=================================================================\n",
      "Initiating mass download request.\n"
     ]
    },
    {
     "name": "stderr",
     "output_type": "stream",
     "text": [
      "[2021-11-25 00:50:48,026] - obspy.clients.fdsn.mass_downloader - INFO: Client 'GEONET' - Successfully requested availability (0.58 seconds)\n",
      "[2021-11-25 00:50:48,029] - obspy.clients.fdsn.mass_downloader - INFO: Client 'GEONET' - Found 1 stations (1 channels).\n",
      "[2021-11-25 00:50:48,030] - obspy.clients.fdsn.mass_downloader - INFO: Client 'GEONET' - Will attempt to download data from 1 stations.\n",
      "[2021-11-25 00:50:48,034] - obspy.clients.fdsn.mass_downloader - INFO: Client 'GEONET' - Status for 1 time intervals/channels before downloading: NEEDS_DOWNLOADING\n",
      "[2021-11-25 00:50:49,100] - obspy.clients.fdsn.mass_downloader - INFO: Client 'GEONET' - Successfully downloaded 1 channels (of 1)\n",
      "[2021-11-25 00:50:49,189] - obspy.clients.fdsn.mass_downloader - INFO: Client 'GEONET' - Launching basic QC checks...\n",
      "[2021-11-25 00:50:49,230] - obspy.clients.fdsn.mass_downloader - INFO: Client 'GEONET' - Downloaded 0.0 MB [3.47 KB/sec] of data, 0.0 MB of which were discarded afterwards.\n",
      "[2021-11-25 00:50:49,234] - obspy.clients.fdsn.mass_downloader - INFO: Client 'GEONET' - Status for 1 time intervals/channels after downloading: DOWNLOADED\n",
      "[2021-11-25 00:50:49,247] - obspy.clients.fdsn.mass_downloader - INFO: Client 'GEONET' - No station information to download.\n",
      "[2021-11-25 00:50:49,254] - obspy.clients.fdsn.mass_downloader - INFO: ============================== Final report\n",
      "[2021-11-25 00:50:49,257] - obspy.clients.fdsn.mass_downloader - INFO: 0 MiniSEED files [0.0 MB] already existed.\n",
      "[2021-11-25 00:50:49,258] - obspy.clients.fdsn.mass_downloader - INFO: 1 StationXML files [0.0 MB] already existed.\n",
      "[2021-11-25 00:50:49,260] - obspy.clients.fdsn.mass_downloader - INFO: Client 'GEONET' - Acquired 1 MiniSEED files [0.0 MB].\n",
      "[2021-11-25 00:50:49,261] - obspy.clients.fdsn.mass_downloader - INFO: Client 'GEONET' - Acquired 0 StationXML files [0.0 MB].\n",
      "[2021-11-25 00:50:49,263] - obspy.clients.fdsn.mass_downloader - INFO: Downloaded 0.0 MB in total.\n",
      "[2021-11-25 00:50:49,273] - obspy.clients.fdsn.mass_downloader - INFO: Initializing FDSN client(s) for GEONET.\n",
      "[2021-11-25 00:50:49,283] - obspy.clients.fdsn.mass_downloader - INFO: Successfully initialized 1 client(s): GEONET.\n",
      "[2021-11-25 00:50:49,285] - obspy.clients.fdsn.mass_downloader - INFO: Total acquired or preexisting stations: 0\n",
      "[2021-11-25 00:50:49,287] - obspy.clients.fdsn.mass_downloader - INFO: Client 'GEONET' - Requesting unreliable availability.\n"
     ]
    },
    {
     "name": "stdout",
     "output_type": "stream",
     "text": [
      "=================================================================\n",
      "Initiating mass download request.\n"
     ]
    },
    {
     "name": "stderr",
     "output_type": "stream",
     "text": [
      "[2021-11-25 00:50:50,043] - obspy.clients.fdsn.mass_downloader - INFO: Client 'GEONET' - Successfully requested availability (0.76 seconds)\n",
      "[2021-11-25 00:50:50,082] - obspy.clients.fdsn.mass_downloader - INFO: Client 'GEONET' - Found 1 stations (1 channels).\n",
      "[2021-11-25 00:50:50,102] - obspy.clients.fdsn.mass_downloader - INFO: Client 'GEONET' - Will attempt to download data from 1 stations.\n",
      "[2021-11-25 00:50:50,110] - obspy.clients.fdsn.mass_downloader - INFO: Client 'GEONET' - Status for 1 time intervals/channels before downloading: NEEDS_DOWNLOADING\n",
      "[2021-11-25 00:50:51,043] - obspy.clients.fdsn.mass_downloader - INFO: Client 'GEONET' - Successfully downloaded 1 channels (of 1)\n",
      "[2021-11-25 00:50:51,206] - obspy.clients.fdsn.mass_downloader - INFO: Client 'GEONET' - Launching basic QC checks...\n",
      "[2021-11-25 00:50:51,418] - obspy.clients.fdsn.mass_downloader - INFO: Client 'GEONET' - Downloaded 0.0 MB [2.85 KB/sec] of data, 0.0 MB of which were discarded afterwards.\n",
      "[2021-11-25 00:50:51,428] - obspy.clients.fdsn.mass_downloader - INFO: Client 'GEONET' - Status for 1 time intervals/channels after downloading: DOWNLOADED\n",
      "[2021-11-25 00:50:51,438] - obspy.clients.fdsn.mass_downloader - INFO: Client 'GEONET' - No station information to download.\n",
      "[2021-11-25 00:50:51,467] - obspy.clients.fdsn.mass_downloader - INFO: ============================== Final report\n",
      "[2021-11-25 00:50:51,477] - obspy.clients.fdsn.mass_downloader - INFO: 0 MiniSEED files [0.0 MB] already existed.\n",
      "[2021-11-25 00:50:51,482] - obspy.clients.fdsn.mass_downloader - INFO: 1 StationXML files [0.0 MB] already existed.\n",
      "[2021-11-25 00:50:51,483] - obspy.clients.fdsn.mass_downloader - INFO: Client 'GEONET' - Acquired 1 MiniSEED files [0.0 MB].\n",
      "[2021-11-25 00:50:51,484] - obspy.clients.fdsn.mass_downloader - INFO: Client 'GEONET' - Acquired 0 StationXML files [0.0 MB].\n",
      "[2021-11-25 00:50:51,484] - obspy.clients.fdsn.mass_downloader - INFO: Downloaded 0.0 MB in total.\n",
      "[2021-11-25 00:50:51,541] - obspy.clients.fdsn.mass_downloader - INFO: Initializing FDSN client(s) for GEONET.\n",
      "[2021-11-25 00:50:51,612] - obspy.clients.fdsn.mass_downloader - INFO: Successfully initialized 1 client(s): GEONET.\n",
      "[2021-11-25 00:50:51,616] - obspy.clients.fdsn.mass_downloader - INFO: Total acquired or preexisting stations: 0\n",
      "[2021-11-25 00:50:51,622] - obspy.clients.fdsn.mass_downloader - INFO: Client 'GEONET' - Requesting unreliable availability.\n"
     ]
    },
    {
     "name": "stdout",
     "output_type": "stream",
     "text": [
      "=================================================================\n",
      "Initiating mass download request.\n"
     ]
    },
    {
     "name": "stderr",
     "output_type": "stream",
     "text": [
      "[2021-11-25 00:50:52,226] - obspy.clients.fdsn.mass_downloader - INFO: Client 'GEONET' - Successfully requested availability (0.60 seconds)\n",
      "[2021-11-25 00:50:52,236] - obspy.clients.fdsn.mass_downloader - INFO: Client 'GEONET' - Found 1 stations (1 channels).\n",
      "[2021-11-25 00:50:52,242] - obspy.clients.fdsn.mass_downloader - INFO: Client 'GEONET' - Will attempt to download data from 1 stations.\n",
      "[2021-11-25 00:50:52,248] - obspy.clients.fdsn.mass_downloader - INFO: Client 'GEONET' - Status for 1 time intervals/channels before downloading: NEEDS_DOWNLOADING\n",
      "[2021-11-25 00:50:53,268] - obspy.clients.fdsn.mass_downloader - INFO: Client 'GEONET' - Successfully downloaded 1 channels (of 1)\n",
      "[2021-11-25 00:50:53,344] - obspy.clients.fdsn.mass_downloader - INFO: Client 'GEONET' - Launching basic QC checks...\n",
      "[2021-11-25 00:50:53,413] - obspy.clients.fdsn.mass_downloader - INFO: Client 'GEONET' - Downloaded 0.0 MB [3.22 KB/sec] of data, 0.0 MB of which were discarded afterwards.\n",
      "[2021-11-25 00:50:53,420] - obspy.clients.fdsn.mass_downloader - INFO: Client 'GEONET' - Status for 1 time intervals/channels after downloading: DOWNLOADED\n",
      "[2021-11-25 00:50:53,436] - obspy.clients.fdsn.mass_downloader - INFO: Client 'GEONET' - No station information to download.\n",
      "[2021-11-25 00:50:53,450] - obspy.clients.fdsn.mass_downloader - INFO: ============================== Final report\n",
      "[2021-11-25 00:50:53,461] - obspy.clients.fdsn.mass_downloader - INFO: 0 MiniSEED files [0.0 MB] already existed.\n",
      "[2021-11-25 00:50:53,465] - obspy.clients.fdsn.mass_downloader - INFO: 1 StationXML files [0.0 MB] already existed.\n",
      "[2021-11-25 00:50:53,467] - obspy.clients.fdsn.mass_downloader - INFO: Client 'GEONET' - Acquired 1 MiniSEED files [0.0 MB].\n",
      "[2021-11-25 00:50:53,467] - obspy.clients.fdsn.mass_downloader - INFO: Client 'GEONET' - Acquired 0 StationXML files [0.0 MB].\n",
      "[2021-11-25 00:50:53,468] - obspy.clients.fdsn.mass_downloader - INFO: Downloaded 0.0 MB in total.\n",
      "[2021-11-25 00:50:53,542] - obspy.clients.fdsn.mass_downloader - INFO: Initializing FDSN client(s) for GEONET.\n"
     ]
    },
    {
     "name": "stdout",
     "output_type": "stream",
     "text": [
      "=================================================================\n",
      "Initiating mass download request.\n"
     ]
    },
    {
     "name": "stderr",
     "output_type": "stream",
     "text": [
      "[2021-11-25 00:50:53,744] - obspy.clients.fdsn.mass_downloader - INFO: Successfully initialized 1 client(s): GEONET.\n",
      "[2021-11-25 00:50:53,780] - obspy.clients.fdsn.mass_downloader - INFO: Total acquired or preexisting stations: 0\n",
      "[2021-11-25 00:50:53,789] - obspy.clients.fdsn.mass_downloader - INFO: Client 'GEONET' - Requesting unreliable availability.\n",
      "[2021-11-25 00:50:54,441] - obspy.clients.fdsn.mass_downloader - INFO: Client 'GEONET' - Successfully requested availability (0.65 seconds)\n",
      "[2021-11-25 00:50:54,463] - obspy.clients.fdsn.mass_downloader - INFO: Client 'GEONET' - Found 1 stations (1 channels).\n",
      "[2021-11-25 00:50:54,465] - obspy.clients.fdsn.mass_downloader - INFO: Client 'GEONET' - Will attempt to download data from 1 stations.\n",
      "[2021-11-25 00:50:54,469] - obspy.clients.fdsn.mass_downloader - INFO: Client 'GEONET' - Status for 1 time intervals/channels before downloading: NEEDS_DOWNLOADING\n",
      "[2021-11-25 00:50:55,420] - obspy.clients.fdsn.mass_downloader - INFO: Client 'GEONET' - Successfully downloaded 1 channels (of 1)\n",
      "[2021-11-25 00:50:55,473] - obspy.clients.fdsn.mass_downloader - INFO: Client 'GEONET' - Launching basic QC checks...\n",
      "[2021-11-25 00:50:55,550] - obspy.clients.fdsn.mass_downloader - INFO: Client 'GEONET' - Downloaded 0.0 MB [3.02 KB/sec] of data, 0.0 MB of which were discarded afterwards.\n",
      "[2021-11-25 00:50:55,556] - obspy.clients.fdsn.mass_downloader - INFO: Client 'GEONET' - Status for 1 time intervals/channels after downloading: DOWNLOADED\n",
      "[2021-11-25 00:50:55,564] - obspy.clients.fdsn.mass_downloader - INFO: Client 'GEONET' - No station information to download.\n",
      "[2021-11-25 00:50:55,578] - obspy.clients.fdsn.mass_downloader - INFO: ============================== Final report\n",
      "[2021-11-25 00:50:55,587] - obspy.clients.fdsn.mass_downloader - INFO: 0 MiniSEED files [0.0 MB] already existed.\n",
      "[2021-11-25 00:50:55,592] - obspy.clients.fdsn.mass_downloader - INFO: 1 StationXML files [0.0 MB] already existed.\n",
      "[2021-11-25 00:50:55,593] - obspy.clients.fdsn.mass_downloader - INFO: Client 'GEONET' - Acquired 1 MiniSEED files [0.0 MB].\n",
      "[2021-11-25 00:50:55,594] - obspy.clients.fdsn.mass_downloader - INFO: Client 'GEONET' - Acquired 0 StationXML files [0.0 MB].\n",
      "[2021-11-25 00:50:55,595] - obspy.clients.fdsn.mass_downloader - INFO: Downloaded 0.0 MB in total.\n",
      "[2021-11-25 00:50:55,601] - obspy.clients.fdsn.mass_downloader - INFO: Initializing FDSN client(s) for GEONET.\n",
      "[2021-11-25 00:50:55,634] - obspy.clients.fdsn.mass_downloader - INFO: Successfully initialized 1 client(s): GEONET.\n",
      "[2021-11-25 00:50:55,643] - obspy.clients.fdsn.mass_downloader - INFO: Total acquired or preexisting stations: 0\n",
      "[2021-11-25 00:50:55,645] - obspy.clients.fdsn.mass_downloader - INFO: Client 'GEONET' - Requesting unreliable availability.\n"
     ]
    },
    {
     "name": "stdout",
     "output_type": "stream",
     "text": [
      "=================================================================\n",
      "Initiating mass download request.\n"
     ]
    },
    {
     "name": "stderr",
     "output_type": "stream",
     "text": [
      "[2021-11-25 00:50:56,316] - obspy.clients.fdsn.mass_downloader - INFO: Client 'GEONET' - Successfully requested availability (0.67 seconds)\n",
      "[2021-11-25 00:50:56,348] - obspy.clients.fdsn.mass_downloader - INFO: Client 'GEONET' - Found 1 stations (1 channels).\n",
      "[2021-11-25 00:50:56,361] - obspy.clients.fdsn.mass_downloader - INFO: Client 'GEONET' - Will attempt to download data from 1 stations.\n",
      "[2021-11-25 00:50:56,368] - obspy.clients.fdsn.mass_downloader - INFO: Client 'GEONET' - Status for 1 time intervals/channels before downloading: NEEDS_DOWNLOADING\n",
      "[2021-11-25 00:50:57,499] - obspy.clients.fdsn.mass_downloader - INFO: Client 'GEONET' - Successfully downloaded 1 channels (of 1)\n",
      "[2021-11-25 00:50:57,557] - obspy.clients.fdsn.mass_downloader - INFO: Client 'GEONET' - Launching basic QC checks...\n",
      "[2021-11-25 00:50:57,651] - obspy.clients.fdsn.mass_downloader - INFO: Client 'GEONET' - Downloaded 0.0 MB [3.58 KB/sec] of data, 0.0 MB of which were discarded afterwards.\n",
      "[2021-11-25 00:50:57,658] - obspy.clients.fdsn.mass_downloader - INFO: Client 'GEONET' - Status for 1 time intervals/channels after downloading: DOWNLOADED\n",
      "[2021-11-25 00:50:57,693] - obspy.clients.fdsn.mass_downloader - INFO: Client 'GEONET' - No station information to download.\n",
      "[2021-11-25 00:50:57,709] - obspy.clients.fdsn.mass_downloader - INFO: ============================== Final report\n",
      "[2021-11-25 00:50:57,725] - obspy.clients.fdsn.mass_downloader - INFO: 0 MiniSEED files [0.0 MB] already existed.\n",
      "[2021-11-25 00:50:57,731] - obspy.clients.fdsn.mass_downloader - INFO: 1 StationXML files [0.0 MB] already existed.\n",
      "[2021-11-25 00:50:57,732] - obspy.clients.fdsn.mass_downloader - INFO: Client 'GEONET' - Acquired 1 MiniSEED files [0.0 MB].\n",
      "[2021-11-25 00:50:57,738] - obspy.clients.fdsn.mass_downloader - INFO: Client 'GEONET' - Acquired 0 StationXML files [0.0 MB].\n",
      "[2021-11-25 00:50:57,739] - obspy.clients.fdsn.mass_downloader - INFO: Downloaded 0.0 MB in total.\n",
      "[2021-11-25 00:50:57,775] - obspy.clients.fdsn.mass_downloader - INFO: Initializing FDSN client(s) for GEONET.\n",
      "[2021-11-25 00:50:57,818] - obspy.clients.fdsn.mass_downloader - INFO: Successfully initialized 1 client(s): GEONET.\n",
      "[2021-11-25 00:50:57,820] - obspy.clients.fdsn.mass_downloader - INFO: Total acquired or preexisting stations: 0\n",
      "[2021-11-25 00:50:57,823] - obspy.clients.fdsn.mass_downloader - INFO: Client 'GEONET' - Requesting unreliable availability.\n"
     ]
    },
    {
     "name": "stdout",
     "output_type": "stream",
     "text": [
      "=================================================================\n",
      "Initiating mass download request.\n"
     ]
    },
    {
     "name": "stderr",
     "output_type": "stream",
     "text": [
      "[2021-11-25 00:50:58,430] - obspy.clients.fdsn.mass_downloader - INFO: Client 'GEONET' - Successfully requested availability (0.61 seconds)\n",
      "[2021-11-25 00:50:58,443] - obspy.clients.fdsn.mass_downloader - INFO: Client 'GEONET' - Found 1 stations (1 channels).\n",
      "[2021-11-25 00:50:58,445] - obspy.clients.fdsn.mass_downloader - INFO: Client 'GEONET' - Will attempt to download data from 1 stations.\n",
      "[2021-11-25 00:50:58,448] - obspy.clients.fdsn.mass_downloader - INFO: Client 'GEONET' - Status for 1 time intervals/channels before downloading: NEEDS_DOWNLOADING\n",
      "[2021-11-25 00:50:59,412] - obspy.clients.fdsn.mass_downloader - INFO: Client 'GEONET' - Successfully downloaded 1 channels (of 1)\n",
      "[2021-11-25 00:50:59,510] - obspy.clients.fdsn.mass_downloader - INFO: Client 'GEONET' - Launching basic QC checks...\n",
      "[2021-11-25 00:50:59,560] - obspy.clients.fdsn.mass_downloader - INFO: Client 'GEONET' - Downloaded 0.0 MB [3.83 KB/sec] of data, 0.0 MB of which were discarded afterwards.\n",
      "[2021-11-25 00:50:59,569] - obspy.clients.fdsn.mass_downloader - INFO: Client 'GEONET' - Status for 1 time intervals/channels after downloading: DOWNLOADED\n",
      "[2021-11-25 00:50:59,584] - obspy.clients.fdsn.mass_downloader - INFO: Client 'GEONET' - No station information to download.\n",
      "[2021-11-25 00:50:59,590] - obspy.clients.fdsn.mass_downloader - INFO: ============================== Final report\n",
      "[2021-11-25 00:50:59,598] - obspy.clients.fdsn.mass_downloader - INFO: 0 MiniSEED files [0.0 MB] already existed.\n",
      "[2021-11-25 00:50:59,601] - obspy.clients.fdsn.mass_downloader - INFO: 1 StationXML files [0.0 MB] already existed.\n",
      "[2021-11-25 00:50:59,605] - obspy.clients.fdsn.mass_downloader - INFO: Client 'GEONET' - Acquired 1 MiniSEED files [0.0 MB].\n",
      "[2021-11-25 00:50:59,605] - obspy.clients.fdsn.mass_downloader - INFO: Client 'GEONET' - Acquired 0 StationXML files [0.0 MB].\n",
      "[2021-11-25 00:50:59,606] - obspy.clients.fdsn.mass_downloader - INFO: Downloaded 0.0 MB in total.\n",
      "[2021-11-25 00:50:59,632] - obspy.clients.fdsn.mass_downloader - INFO: Initializing FDSN client(s) for GEONET.\n",
      "[2021-11-25 00:50:59,692] - obspy.clients.fdsn.mass_downloader - INFO: Successfully initialized 1 client(s): GEONET.\n",
      "[2021-11-25 00:50:59,704] - obspy.clients.fdsn.mass_downloader - INFO: Total acquired or preexisting stations: 0\n",
      "[2021-11-25 00:50:59,706] - obspy.clients.fdsn.mass_downloader - INFO: Client 'GEONET' - Requesting unreliable availability.\n"
     ]
    },
    {
     "name": "stdout",
     "output_type": "stream",
     "text": [
      "=================================================================\n",
      "Initiating mass download request.\n"
     ]
    },
    {
     "name": "stderr",
     "output_type": "stream",
     "text": [
      "[2021-11-25 00:51:00,368] - obspy.clients.fdsn.mass_downloader - INFO: Client 'GEONET' - Successfully requested availability (0.66 seconds)\n",
      "[2021-11-25 00:51:00,380] - obspy.clients.fdsn.mass_downloader - INFO: Client 'GEONET' - Found 1 stations (1 channels).\n",
      "[2021-11-25 00:51:00,389] - obspy.clients.fdsn.mass_downloader - INFO: Client 'GEONET' - Will attempt to download data from 1 stations.\n",
      "[2021-11-25 00:51:00,395] - obspy.clients.fdsn.mass_downloader - INFO: Client 'GEONET' - Status for 1 time intervals/channels before downloading: NEEDS_DOWNLOADING\n",
      "[2021-11-25 00:51:01,292] - obspy.clients.fdsn.mass_downloader - INFO: Client 'GEONET' - Successfully downloaded 1 channels (of 1)\n",
      "[2021-11-25 00:51:01,313] - obspy.clients.fdsn.mass_downloader - INFO: Client 'GEONET' - Launching basic QC checks...\n",
      "[2021-11-25 00:51:01,331] - obspy.clients.fdsn.mass_downloader - INFO: Client 'GEONET' - Downloaded 0.0 MB [3.91 KB/sec] of data, 0.0 MB of which were discarded afterwards.\n",
      "[2021-11-25 00:51:01,334] - obspy.clients.fdsn.mass_downloader - INFO: Client 'GEONET' - Status for 1 time intervals/channels after downloading: DOWNLOADED\n",
      "[2021-11-25 00:51:01,347] - obspy.clients.fdsn.mass_downloader - INFO: Client 'GEONET' - No station information to download.\n",
      "[2021-11-25 00:51:01,358] - obspy.clients.fdsn.mass_downloader - INFO: ============================== Final report\n",
      "[2021-11-25 00:51:01,363] - obspy.clients.fdsn.mass_downloader - INFO: 0 MiniSEED files [0.0 MB] already existed.\n",
      "[2021-11-25 00:51:01,368] - obspy.clients.fdsn.mass_downloader - INFO: 1 StationXML files [0.0 MB] already existed.\n",
      "[2021-11-25 00:51:01,370] - obspy.clients.fdsn.mass_downloader - INFO: Client 'GEONET' - Acquired 1 MiniSEED files [0.0 MB].\n",
      "[2021-11-25 00:51:01,370] - obspy.clients.fdsn.mass_downloader - INFO: Client 'GEONET' - Acquired 0 StationXML files [0.0 MB].\n",
      "[2021-11-25 00:51:01,371] - obspy.clients.fdsn.mass_downloader - INFO: Downloaded 0.0 MB in total.\n",
      "[2021-11-25 00:51:01,382] - obspy.clients.fdsn.mass_downloader - INFO: Initializing FDSN client(s) for GEONET.\n",
      "[2021-11-25 00:51:01,405] - obspy.clients.fdsn.mass_downloader - INFO: Successfully initialized 1 client(s): GEONET.\n",
      "[2021-11-25 00:51:01,412] - obspy.clients.fdsn.mass_downloader - INFO: Total acquired or preexisting stations: 0\n",
      "[2021-11-25 00:51:01,413] - obspy.clients.fdsn.mass_downloader - INFO: Client 'GEONET' - Requesting unreliable availability.\n"
     ]
    },
    {
     "name": "stdout",
     "output_type": "stream",
     "text": [
      "=================================================================\n",
      "Initiating mass download request.\n"
     ]
    },
    {
     "name": "stderr",
     "output_type": "stream",
     "text": [
      "[2021-11-25 00:51:02,092] - obspy.clients.fdsn.mass_downloader - INFO: Client 'GEONET' - Successfully requested availability (0.68 seconds)\n",
      "[2021-11-25 00:51:02,121] - obspy.clients.fdsn.mass_downloader - INFO: Client 'GEONET' - Found 1 stations (1 channels).\n",
      "[2021-11-25 00:51:02,134] - obspy.clients.fdsn.mass_downloader - INFO: Client 'GEONET' - Will attempt to download data from 1 stations.\n",
      "[2021-11-25 00:51:02,147] - obspy.clients.fdsn.mass_downloader - INFO: Client 'GEONET' - Status for 1 time intervals/channels before downloading: NEEDS_DOWNLOADING\n",
      "[2021-11-25 00:51:03,046] - obspy.clients.fdsn.mass_downloader - INFO: Client 'GEONET' - Successfully downloaded 1 channels (of 1)\n",
      "[2021-11-25 00:51:03,066] - obspy.clients.fdsn.mass_downloader - INFO: Client 'GEONET' - Launching basic QC checks...\n",
      "[2021-11-25 00:51:03,094] - obspy.clients.fdsn.mass_downloader - INFO: Client 'GEONET' - Downloaded 0.0 MB [3.97 KB/sec] of data, 0.0 MB of which were discarded afterwards.\n",
      "[2021-11-25 00:51:03,095] - obspy.clients.fdsn.mass_downloader - INFO: Client 'GEONET' - Status for 1 time intervals/channels after downloading: DOWNLOADED\n",
      "[2021-11-25 00:51:03,102] - obspy.clients.fdsn.mass_downloader - INFO: Client 'GEONET' - No station information to download.\n",
      "[2021-11-25 00:51:03,104] - obspy.clients.fdsn.mass_downloader - INFO: ============================== Final report\n",
      "[2021-11-25 00:51:03,109] - obspy.clients.fdsn.mass_downloader - INFO: 0 MiniSEED files [0.0 MB] already existed.\n",
      "[2021-11-25 00:51:03,111] - obspy.clients.fdsn.mass_downloader - INFO: 1 StationXML files [0.0 MB] already existed.\n",
      "[2021-11-25 00:51:03,112] - obspy.clients.fdsn.mass_downloader - INFO: Client 'GEONET' - Acquired 1 MiniSEED files [0.0 MB].\n",
      "[2021-11-25 00:51:03,115] - obspy.clients.fdsn.mass_downloader - INFO: Client 'GEONET' - Acquired 0 StationXML files [0.0 MB].\n",
      "[2021-11-25 00:51:03,116] - obspy.clients.fdsn.mass_downloader - INFO: Downloaded 0.0 MB in total.\n",
      "[2021-11-25 00:51:03,142] - obspy.clients.fdsn.mass_downloader - INFO: Initializing FDSN client(s) for GEONET.\n",
      "[2021-11-25 00:51:03,165] - obspy.clients.fdsn.mass_downloader - INFO: Successfully initialized 1 client(s): GEONET.\n",
      "[2021-11-25 00:51:03,168] - obspy.clients.fdsn.mass_downloader - INFO: Total acquired or preexisting stations: 0\n",
      "[2021-11-25 00:51:03,169] - obspy.clients.fdsn.mass_downloader - INFO: Client 'GEONET' - Requesting unreliable availability.\n"
     ]
    },
    {
     "name": "stdout",
     "output_type": "stream",
     "text": [
      "=================================================================\n",
      "Initiating mass download request.\n"
     ]
    },
    {
     "name": "stderr",
     "output_type": "stream",
     "text": [
      "[2021-11-25 00:51:03,750] - obspy.clients.fdsn.mass_downloader - INFO: Client 'GEONET' - Successfully requested availability (0.57 seconds)\n",
      "[2021-11-25 00:51:03,759] - obspy.clients.fdsn.mass_downloader - INFO: Client 'GEONET' - Found 1 stations (1 channels).\n",
      "[2021-11-25 00:51:03,764] - obspy.clients.fdsn.mass_downloader - INFO: Client 'GEONET' - Will attempt to download data from 1 stations.\n",
      "[2021-11-25 00:51:03,769] - obspy.clients.fdsn.mass_downloader - INFO: Client 'GEONET' - Status for 1 time intervals/channels before downloading: NEEDS_DOWNLOADING\n",
      "[2021-11-25 00:51:04,573] - obspy.clients.fdsn.mass_downloader - INFO: Client 'GEONET' - Successfully downloaded 1 channels (of 1)\n",
      "[2021-11-25 00:51:04,599] - obspy.clients.fdsn.mass_downloader - INFO: Client 'GEONET' - Launching basic QC checks...\n",
      "[2021-11-25 00:51:04,620] - obspy.clients.fdsn.mass_downloader - INFO: Client 'GEONET' - Downloaded 0.0 MB [4.29 KB/sec] of data, 0.0 MB of which were discarded afterwards.\n",
      "[2021-11-25 00:51:04,627] - obspy.clients.fdsn.mass_downloader - INFO: Client 'GEONET' - Status for 1 time intervals/channels after downloading: DOWNLOADED\n",
      "[2021-11-25 00:51:04,651] - obspy.clients.fdsn.mass_downloader - INFO: Client 'GEONET' - No station information to download.\n",
      "[2021-11-25 00:51:04,655] - obspy.clients.fdsn.mass_downloader - INFO: ============================== Final report\n",
      "[2021-11-25 00:51:04,667] - obspy.clients.fdsn.mass_downloader - INFO: 0 MiniSEED files [0.0 MB] already existed.\n",
      "[2021-11-25 00:51:04,671] - obspy.clients.fdsn.mass_downloader - INFO: 1 StationXML files [0.0 MB] already existed.\n",
      "[2021-11-25 00:51:04,673] - obspy.clients.fdsn.mass_downloader - INFO: Client 'GEONET' - Acquired 1 MiniSEED files [0.0 MB].\n",
      "[2021-11-25 00:51:04,676] - obspy.clients.fdsn.mass_downloader - INFO: Client 'GEONET' - Acquired 0 StationXML files [0.0 MB].\n",
      "[2021-11-25 00:51:04,677] - obspy.clients.fdsn.mass_downloader - INFO: Downloaded 0.0 MB in total.\n",
      "[2021-11-25 00:51:04,687] - obspy.clients.fdsn.mass_downloader - INFO: Initializing FDSN client(s) for GEONET.\n",
      "[2021-11-25 00:51:04,718] - obspy.clients.fdsn.mass_downloader - INFO: Successfully initialized 1 client(s): GEONET.\n",
      "[2021-11-25 00:51:04,722] - obspy.clients.fdsn.mass_downloader - INFO: Total acquired or preexisting stations: 0\n",
      "[2021-11-25 00:51:04,726] - obspy.clients.fdsn.mass_downloader - INFO: Client 'GEONET' - Requesting unreliable availability.\n"
     ]
    },
    {
     "name": "stdout",
     "output_type": "stream",
     "text": [
      "=================================================================\n",
      "Initiating mass download request.\n"
     ]
    },
    {
     "name": "stderr",
     "output_type": "stream",
     "text": [
      "[2021-11-25 00:51:05,368] - obspy.clients.fdsn.mass_downloader - INFO: Client 'GEONET' - Successfully requested availability (0.64 seconds)\n",
      "[2021-11-25 00:51:05,479] - obspy.clients.fdsn.mass_downloader - INFO: Client 'GEONET' - Found 1 stations (1 channels).\n",
      "[2021-11-25 00:51:05,486] - obspy.clients.fdsn.mass_downloader - INFO: Client 'GEONET' - Will attempt to download data from 1 stations.\n",
      "[2021-11-25 00:51:05,493] - obspy.clients.fdsn.mass_downloader - INFO: Client 'GEONET' - Status for 1 time intervals/channels before downloading: NEEDS_DOWNLOADING\n",
      "[2021-11-25 00:51:06,761] - obspy.clients.fdsn.mass_downloader - INFO: Client 'GEONET' - Successfully downloaded 1 channels (of 1)\n",
      "[2021-11-25 00:51:06,789] - obspy.clients.fdsn.mass_downloader - INFO: Client 'GEONET' - Launching basic QC checks...\n",
      "[2021-11-25 00:51:06,805] - obspy.clients.fdsn.mass_downloader - INFO: Client 'GEONET' - Downloaded 0.0 MB [3.09 KB/sec] of data, 0.0 MB of which were discarded afterwards.\n",
      "[2021-11-25 00:51:06,811] - obspy.clients.fdsn.mass_downloader - INFO: Client 'GEONET' - Status for 1 time intervals/channels after downloading: DOWNLOADED\n",
      "[2021-11-25 00:51:06,830] - obspy.clients.fdsn.mass_downloader - INFO: Client 'GEONET' - No station information to download.\n",
      "[2021-11-25 00:51:06,836] - obspy.clients.fdsn.mass_downloader - INFO: ============================== Final report\n",
      "[2021-11-25 00:51:06,843] - obspy.clients.fdsn.mass_downloader - INFO: 0 MiniSEED files [0.0 MB] already existed.\n",
      "[2021-11-25 00:51:06,844] - obspy.clients.fdsn.mass_downloader - INFO: 1 StationXML files [0.0 MB] already existed.\n",
      "[2021-11-25 00:51:06,845] - obspy.clients.fdsn.mass_downloader - INFO: Client 'GEONET' - Acquired 1 MiniSEED files [0.0 MB].\n",
      "[2021-11-25 00:51:06,845] - obspy.clients.fdsn.mass_downloader - INFO: Client 'GEONET' - Acquired 0 StationXML files [0.0 MB].\n",
      "[2021-11-25 00:51:06,845] - obspy.clients.fdsn.mass_downloader - INFO: Downloaded 0.0 MB in total.\n",
      "[2021-11-25 00:51:06,855] - obspy.clients.fdsn.mass_downloader - INFO: Initializing FDSN client(s) for GEONET.\n",
      "[2021-11-25 00:51:06,883] - obspy.clients.fdsn.mass_downloader - INFO: Successfully initialized 1 client(s): GEONET.\n",
      "[2021-11-25 00:51:06,887] - obspy.clients.fdsn.mass_downloader - INFO: Total acquired or preexisting stations: 0\n",
      "[2021-11-25 00:51:06,889] - obspy.clients.fdsn.mass_downloader - INFO: Client 'GEONET' - Requesting unreliable availability.\n"
     ]
    },
    {
     "name": "stdout",
     "output_type": "stream",
     "text": [
      "=================================================================\n",
      "Initiating mass download request.\n"
     ]
    },
    {
     "name": "stderr",
     "output_type": "stream",
     "text": [
      "[2021-11-25 00:51:07,633] - obspy.clients.fdsn.mass_downloader - INFO: Client 'GEONET' - Successfully requested availability (0.74 seconds)\n",
      "[2021-11-25 00:51:07,683] - obspy.clients.fdsn.mass_downloader - INFO: Client 'GEONET' - Found 1 stations (1 channels).\n",
      "[2021-11-25 00:51:07,695] - obspy.clients.fdsn.mass_downloader - INFO: Client 'GEONET' - Will attempt to download data from 1 stations.\n",
      "[2021-11-25 00:51:07,734] - obspy.clients.fdsn.mass_downloader - INFO: Client 'GEONET' - Status for 1 time intervals/channels before downloading: NEEDS_DOWNLOADING\n",
      "[2021-11-25 00:51:08,632] - obspy.clients.fdsn.mass_downloader - INFO: Client 'GEONET' - Successfully downloaded 1 channels (of 1)\n",
      "[2021-11-25 00:51:08,669] - obspy.clients.fdsn.mass_downloader - INFO: Client 'GEONET' - Launching basic QC checks...\n",
      "[2021-11-25 00:51:08,716] - obspy.clients.fdsn.mass_downloader - INFO: Client 'GEONET' - Downloaded 0.0 MB [4.48 KB/sec] of data, 0.0 MB of which were discarded afterwards.\n",
      "[2021-11-25 00:51:08,720] - obspy.clients.fdsn.mass_downloader - INFO: Client 'GEONET' - Status for 1 time intervals/channels after downloading: DOWNLOADED\n",
      "[2021-11-25 00:51:08,754] - obspy.clients.fdsn.mass_downloader - INFO: Client 'GEONET' - No station information to download.\n",
      "[2021-11-25 00:51:08,776] - obspy.clients.fdsn.mass_downloader - INFO: ============================== Final report\n",
      "[2021-11-25 00:51:08,794] - obspy.clients.fdsn.mass_downloader - INFO: 0 MiniSEED files [0.0 MB] already existed.\n",
      "[2021-11-25 00:51:08,797] - obspy.clients.fdsn.mass_downloader - INFO: 1 StationXML files [0.0 MB] already existed.\n",
      "[2021-11-25 00:51:08,797] - obspy.clients.fdsn.mass_downloader - INFO: Client 'GEONET' - Acquired 1 MiniSEED files [0.0 MB].\n",
      "[2021-11-25 00:51:08,801] - obspy.clients.fdsn.mass_downloader - INFO: Client 'GEONET' - Acquired 0 StationXML files [0.0 MB].\n",
      "[2021-11-25 00:51:08,808] - obspy.clients.fdsn.mass_downloader - INFO: Downloaded 0.0 MB in total.\n",
      "[2021-11-25 00:51:08,903] - obspy.clients.fdsn.mass_downloader - INFO: Initializing FDSN client(s) for GEONET.\n",
      "[2021-11-25 00:51:09,003] - obspy.clients.fdsn.mass_downloader - INFO: Successfully initialized 1 client(s): GEONET.\n",
      "[2021-11-25 00:51:09,036] - obspy.clients.fdsn.mass_downloader - INFO: Total acquired or preexisting stations: 0\n",
      "[2021-11-25 00:51:09,065] - obspy.clients.fdsn.mass_downloader - INFO: Client 'GEONET' - Requesting unreliable availability.\n"
     ]
    },
    {
     "name": "stdout",
     "output_type": "stream",
     "text": [
      "=================================================================\n",
      "Initiating mass download request.\n"
     ]
    },
    {
     "name": "stderr",
     "output_type": "stream",
     "text": [
      "[2021-11-25 00:51:09,655] - obspy.clients.fdsn.mass_downloader - INFO: Client 'GEONET' - Successfully requested availability (0.58 seconds)\n",
      "[2021-11-25 00:51:09,659] - obspy.clients.fdsn.mass_downloader - INFO: Client 'GEONET' - Found 1 stations (1 channels).\n",
      "[2021-11-25 00:51:09,659] - obspy.clients.fdsn.mass_downloader - INFO: Client 'GEONET' - Will attempt to download data from 1 stations.\n",
      "[2021-11-25 00:51:09,660] - obspy.clients.fdsn.mass_downloader - INFO: Client 'GEONET' - Status for 1 time intervals/channels before downloading: NEEDS_DOWNLOADING\n",
      "[2021-11-25 00:51:10,622] - obspy.clients.fdsn.mass_downloader - INFO: Client 'GEONET' - Successfully downloaded 1 channels (of 1)\n",
      "[2021-11-25 00:51:10,635] - obspy.clients.fdsn.mass_downloader - INFO: Client 'GEONET' - Launching basic QC checks...\n",
      "[2021-11-25 00:51:10,645] - obspy.clients.fdsn.mass_downloader - INFO: Client 'GEONET' - Downloaded 0.0 MB [4.11 KB/sec] of data, 0.0 MB of which were discarded afterwards.\n",
      "[2021-11-25 00:51:10,646] - obspy.clients.fdsn.mass_downloader - INFO: Client 'GEONET' - Status for 1 time intervals/channels after downloading: DOWNLOADED\n",
      "[2021-11-25 00:51:10,649] - obspy.clients.fdsn.mass_downloader - INFO: Client 'GEONET' - No station information to download.\n",
      "[2021-11-25 00:51:10,650] - obspy.clients.fdsn.mass_downloader - INFO: ============================== Final report\n",
      "[2021-11-25 00:51:10,651] - obspy.clients.fdsn.mass_downloader - INFO: 0 MiniSEED files [0.0 MB] already existed.\n",
      "[2021-11-25 00:51:10,653] - obspy.clients.fdsn.mass_downloader - INFO: 1 StationXML files [0.0 MB] already existed.\n",
      "[2021-11-25 00:51:10,654] - obspy.clients.fdsn.mass_downloader - INFO: Client 'GEONET' - Acquired 1 MiniSEED files [0.0 MB].\n",
      "[2021-11-25 00:51:10,654] - obspy.clients.fdsn.mass_downloader - INFO: Client 'GEONET' - Acquired 0 StationXML files [0.0 MB].\n",
      "[2021-11-25 00:51:10,655] - obspy.clients.fdsn.mass_downloader - INFO: Downloaded 0.0 MB in total.\n",
      "[2021-11-25 00:51:10,661] - obspy.clients.fdsn.mass_downloader - INFO: Initializing FDSN client(s) for GEONET.\n",
      "[2021-11-25 00:51:10,666] - obspy.clients.fdsn.mass_downloader - INFO: Successfully initialized 1 client(s): GEONET.\n",
      "[2021-11-25 00:51:10,667] - obspy.clients.fdsn.mass_downloader - INFO: Total acquired or preexisting stations: 0\n",
      "[2021-11-25 00:51:10,668] - obspy.clients.fdsn.mass_downloader - INFO: Client 'GEONET' - Requesting unreliable availability.\n"
     ]
    },
    {
     "name": "stdout",
     "output_type": "stream",
     "text": [
      "=================================================================\n",
      "Initiating mass download request.\n"
     ]
    },
    {
     "name": "stderr",
     "output_type": "stream",
     "text": [
      "[2021-11-25 00:51:11,233] - obspy.clients.fdsn.mass_downloader - INFO: Client 'GEONET' - Successfully requested availability (0.56 seconds)\n",
      "[2021-11-25 00:51:11,238] - obspy.clients.fdsn.mass_downloader - INFO: Client 'GEONET' - Found 1 stations (1 channels).\n",
      "[2021-11-25 00:51:11,245] - obspy.clients.fdsn.mass_downloader - INFO: Client 'GEONET' - Will attempt to download data from 1 stations.\n",
      "[2021-11-25 00:51:11,250] - obspy.clients.fdsn.mass_downloader - INFO: Client 'GEONET' - Status for 1 time intervals/channels before downloading: NEEDS_DOWNLOADING\n",
      "[2021-11-25 00:51:12,150] - obspy.clients.fdsn.mass_downloader - INFO: Client 'GEONET' - Successfully downloaded 1 channels (of 1)\n",
      "[2021-11-25 00:51:12,206] - obspy.clients.fdsn.mass_downloader - INFO: Client 'GEONET' - Launching basic QC checks...\n",
      "[2021-11-25 00:51:12,267] - obspy.clients.fdsn.mass_downloader - INFO: Client 'GEONET' - Downloaded 0.0 MB [4.36 KB/sec] of data, 0.0 MB of which were discarded afterwards.\n",
      "[2021-11-25 00:51:12,270] - obspy.clients.fdsn.mass_downloader - INFO: Client 'GEONET' - Status for 1 time intervals/channels after downloading: DOWNLOADED\n",
      "[2021-11-25 00:51:12,284] - obspy.clients.fdsn.mass_downloader - INFO: Client 'GEONET' - No station information to download.\n",
      "[2021-11-25 00:51:12,289] - obspy.clients.fdsn.mass_downloader - INFO: ============================== Final report\n",
      "[2021-11-25 00:51:12,290] - obspy.clients.fdsn.mass_downloader - INFO: 0 MiniSEED files [0.0 MB] already existed.\n",
      "[2021-11-25 00:51:12,291] - obspy.clients.fdsn.mass_downloader - INFO: 1 StationXML files [0.0 MB] already existed.\n",
      "[2021-11-25 00:51:12,293] - obspy.clients.fdsn.mass_downloader - INFO: Client 'GEONET' - Acquired 1 MiniSEED files [0.0 MB].\n",
      "[2021-11-25 00:51:12,294] - obspy.clients.fdsn.mass_downloader - INFO: Client 'GEONET' - Acquired 0 StationXML files [0.0 MB].\n",
      "[2021-11-25 00:51:12,296] - obspy.clients.fdsn.mass_downloader - INFO: Downloaded 0.0 MB in total.\n",
      "[2021-11-25 00:51:12,304] - obspy.clients.fdsn.mass_downloader - INFO: Initializing FDSN client(s) for GEONET.\n",
      "[2021-11-25 00:51:12,321] - obspy.clients.fdsn.mass_downloader - INFO: Successfully initialized 1 client(s): GEONET.\n",
      "[2021-11-25 00:51:12,324] - obspy.clients.fdsn.mass_downloader - INFO: Total acquired or preexisting stations: 0\n",
      "[2021-11-25 00:51:12,326] - obspy.clients.fdsn.mass_downloader - INFO: Client 'GEONET' - Requesting unreliable availability.\n"
     ]
    },
    {
     "name": "stdout",
     "output_type": "stream",
     "text": [
      "=================================================================\n",
      "Initiating mass download request.\n"
     ]
    },
    {
     "name": "stderr",
     "output_type": "stream",
     "text": [
      "[2021-11-25 00:51:12,888] - obspy.clients.fdsn.mass_downloader - INFO: Client 'GEONET' - Successfully requested availability (0.56 seconds)\n",
      "[2021-11-25 00:51:12,928] - obspy.clients.fdsn.mass_downloader - INFO: Client 'GEONET' - Found 1 stations (1 channels).\n",
      "[2021-11-25 00:51:12,938] - obspy.clients.fdsn.mass_downloader - INFO: Client 'GEONET' - Will attempt to download data from 1 stations.\n",
      "[2021-11-25 00:51:12,942] - obspy.clients.fdsn.mass_downloader - INFO: Client 'GEONET' - Status for 1 time intervals/channels before downloading: NEEDS_DOWNLOADING\n",
      "[2021-11-25 00:51:14,041] - obspy.clients.fdsn.mass_downloader - INFO: Client 'GEONET' - Successfully downloaded 1 channels (of 1)\n",
      "[2021-11-25 00:51:14,060] - obspy.clients.fdsn.mass_downloader - INFO: Client 'GEONET' - Launching basic QC checks...\n",
      "[2021-11-25 00:51:14,078] - obspy.clients.fdsn.mass_downloader - INFO: Client 'GEONET' - Downloaded 0.0 MB [6.06 KB/sec] of data, 0.0 MB of which were discarded afterwards.\n",
      "[2021-11-25 00:51:14,079] - obspy.clients.fdsn.mass_downloader - INFO: Client 'GEONET' - Status for 1 time intervals/channels after downloading: DOWNLOADED\n",
      "[2021-11-25 00:51:14,084] - obspy.clients.fdsn.mass_downloader - INFO: Client 'GEONET' - No station information to download.\n",
      "[2021-11-25 00:51:14,086] - obspy.clients.fdsn.mass_downloader - INFO: ============================== Final report\n",
      "[2021-11-25 00:51:14,086] - obspy.clients.fdsn.mass_downloader - INFO: 0 MiniSEED files [0.0 MB] already existed.\n",
      "[2021-11-25 00:51:14,086] - obspy.clients.fdsn.mass_downloader - INFO: 1 StationXML files [0.0 MB] already existed.\n",
      "[2021-11-25 00:51:14,087] - obspy.clients.fdsn.mass_downloader - INFO: Client 'GEONET' - Acquired 1 MiniSEED files [0.0 MB].\n",
      "[2021-11-25 00:51:14,087] - obspy.clients.fdsn.mass_downloader - INFO: Client 'GEONET' - Acquired 0 StationXML files [0.0 MB].\n",
      "[2021-11-25 00:51:14,088] - obspy.clients.fdsn.mass_downloader - INFO: Downloaded 0.0 MB in total.\n",
      "[2021-11-25 00:51:14,096] - obspy.clients.fdsn.mass_downloader - INFO: Initializing FDSN client(s) for GEONET.\n",
      "[2021-11-25 00:51:14,104] - obspy.clients.fdsn.mass_downloader - INFO: Successfully initialized 1 client(s): GEONET.\n",
      "[2021-11-25 00:51:14,107] - obspy.clients.fdsn.mass_downloader - INFO: Total acquired or preexisting stations: 0\n",
      "[2021-11-25 00:51:14,107] - obspy.clients.fdsn.mass_downloader - INFO: Client 'GEONET' - Requesting unreliable availability.\n"
     ]
    },
    {
     "name": "stdout",
     "output_type": "stream",
     "text": [
      "=================================================================\n",
      "Initiating mass download request.\n"
     ]
    },
    {
     "name": "stderr",
     "output_type": "stream",
     "text": [
      "[2021-11-25 00:51:14,715] - obspy.clients.fdsn.mass_downloader - INFO: Client 'GEONET' - Successfully requested availability (0.60 seconds)\n",
      "[2021-11-25 00:51:14,758] - obspy.clients.fdsn.mass_downloader - INFO: Client 'GEONET' - Found 1 stations (1 channels).\n",
      "[2021-11-25 00:51:14,780] - obspy.clients.fdsn.mass_downloader - INFO: Client 'GEONET' - Will attempt to download data from 1 stations.\n",
      "[2021-11-25 00:51:14,785] - obspy.clients.fdsn.mass_downloader - INFO: Client 'GEONET' - Status for 1 time intervals/channels before downloading: NEEDS_DOWNLOADING\n",
      "[2021-11-25 00:51:15,771] - obspy.clients.fdsn.mass_downloader - INFO: Client 'GEONET' - Successfully downloaded 1 channels (of 1)\n",
      "[2021-11-25 00:51:15,809] - obspy.clients.fdsn.mass_downloader - INFO: Client 'GEONET' - Launching basic QC checks...\n",
      "[2021-11-25 00:51:15,930] - obspy.clients.fdsn.mass_downloader - INFO: Client 'GEONET' - Downloaded 0.0 MB [4.08 KB/sec] of data, 0.0 MB of which were discarded afterwards.\n",
      "[2021-11-25 00:51:15,938] - obspy.clients.fdsn.mass_downloader - INFO: Client 'GEONET' - Status for 1 time intervals/channels after downloading: DOWNLOADED\n",
      "[2021-11-25 00:51:15,971] - obspy.clients.fdsn.mass_downloader - INFO: Client 'GEONET' - No station information to download.\n",
      "[2021-11-25 00:51:15,978] - obspy.clients.fdsn.mass_downloader - INFO: ============================== Final report\n",
      "[2021-11-25 00:51:15,989] - obspy.clients.fdsn.mass_downloader - INFO: 0 MiniSEED files [0.0 MB] already existed.\n",
      "[2021-11-25 00:51:15,994] - obspy.clients.fdsn.mass_downloader - INFO: 1 StationXML files [0.0 MB] already existed.\n",
      "[2021-11-25 00:51:15,995] - obspy.clients.fdsn.mass_downloader - INFO: Client 'GEONET' - Acquired 1 MiniSEED files [0.0 MB].\n",
      "[2021-11-25 00:51:15,996] - obspy.clients.fdsn.mass_downloader - INFO: Client 'GEONET' - Acquired 0 StationXML files [0.0 MB].\n",
      "[2021-11-25 00:51:15,998] - obspy.clients.fdsn.mass_downloader - INFO: Downloaded 0.0 MB in total.\n",
      "[2021-11-25 00:51:16,044] - obspy.clients.fdsn.mass_downloader - INFO: Initializing FDSN client(s) for GEONET.\n",
      "[2021-11-25 00:51:16,085] - obspy.clients.fdsn.mass_downloader - INFO: Successfully initialized 1 client(s): GEONET.\n",
      "[2021-11-25 00:51:16,088] - obspy.clients.fdsn.mass_downloader - INFO: Total acquired or preexisting stations: 0\n",
      "[2021-11-25 00:51:16,090] - obspy.clients.fdsn.mass_downloader - INFO: Client 'GEONET' - Requesting unreliable availability.\n"
     ]
    },
    {
     "name": "stdout",
     "output_type": "stream",
     "text": [
      "=================================================================\n",
      "Initiating mass download request.\n"
     ]
    },
    {
     "name": "stderr",
     "output_type": "stream",
     "text": [
      "[2021-11-25 00:51:16,700] - obspy.clients.fdsn.mass_downloader - INFO: Client 'GEONET' - Successfully requested availability (0.60 seconds)\n",
      "[2021-11-25 00:51:16,787] - obspy.clients.fdsn.mass_downloader - INFO: Client 'GEONET' - Found 1 stations (1 channels).\n",
      "[2021-11-25 00:51:16,804] - obspy.clients.fdsn.mass_downloader - INFO: Client 'GEONET' - Will attempt to download data from 1 stations.\n",
      "[2021-11-25 00:51:16,813] - obspy.clients.fdsn.mass_downloader - INFO: Client 'GEONET' - Status for 1 time intervals/channels before downloading: NEEDS_DOWNLOADING\n",
      "[2021-11-25 00:51:17,901] - obspy.clients.fdsn.mass_downloader - INFO: Client 'GEONET' - Successfully downloaded 1 channels (of 1)\n",
      "[2021-11-25 00:51:17,950] - obspy.clients.fdsn.mass_downloader - INFO: Client 'GEONET' - Launching basic QC checks...\n",
      "[2021-11-25 00:51:17,994] - obspy.clients.fdsn.mass_downloader - INFO: Client 'GEONET' - Downloaded 0.0 MB [3.64 KB/sec] of data, 0.0 MB of which were discarded afterwards.\n",
      "[2021-11-25 00:51:18,005] - obspy.clients.fdsn.mass_downloader - INFO: Client 'GEONET' - Status for 1 time intervals/channels after downloading: DOWNLOADED\n",
      "[2021-11-25 00:51:18,012] - obspy.clients.fdsn.mass_downloader - INFO: Client 'GEONET' - No station information to download.\n",
      "[2021-11-25 00:51:18,025] - obspy.clients.fdsn.mass_downloader - INFO: ============================== Final report\n",
      "[2021-11-25 00:51:18,036] - obspy.clients.fdsn.mass_downloader - INFO: 0 MiniSEED files [0.0 MB] already existed.\n",
      "[2021-11-25 00:51:18,036] - obspy.clients.fdsn.mass_downloader - INFO: 1 StationXML files [0.0 MB] already existed.\n",
      "[2021-11-25 00:51:18,042] - obspy.clients.fdsn.mass_downloader - INFO: Client 'GEONET' - Acquired 1 MiniSEED files [0.0 MB].\n",
      "[2021-11-25 00:51:18,043] - obspy.clients.fdsn.mass_downloader - INFO: Client 'GEONET' - Acquired 0 StationXML files [0.0 MB].\n",
      "[2021-11-25 00:51:18,046] - obspy.clients.fdsn.mass_downloader - INFO: Downloaded 0.0 MB in total.\n",
      "[2021-11-25 00:51:18,088] - obspy.clients.fdsn.mass_downloader - INFO: Initializing FDSN client(s) for GEONET.\n",
      "[2021-11-25 00:51:18,123] - obspy.clients.fdsn.mass_downloader - INFO: Successfully initialized 1 client(s): GEONET.\n",
      "[2021-11-25 00:51:18,130] - obspy.clients.fdsn.mass_downloader - INFO: Total acquired or preexisting stations: 0\n",
      "[2021-11-25 00:51:18,133] - obspy.clients.fdsn.mass_downloader - INFO: Client 'GEONET' - Requesting unreliable availability.\n"
     ]
    },
    {
     "name": "stdout",
     "output_type": "stream",
     "text": [
      "=================================================================\n",
      "Initiating mass download request.\n"
     ]
    },
    {
     "name": "stderr",
     "output_type": "stream",
     "text": [
      "[2021-11-25 00:51:18,774] - obspy.clients.fdsn.mass_downloader - INFO: Client 'GEONET' - Successfully requested availability (0.64 seconds)\n",
      "[2021-11-25 00:51:18,788] - obspy.clients.fdsn.mass_downloader - INFO: Client 'GEONET' - Found 1 stations (1 channels).\n",
      "[2021-11-25 00:51:18,810] - obspy.clients.fdsn.mass_downloader - INFO: Client 'GEONET' - Will attempt to download data from 1 stations.\n",
      "[2021-11-25 00:51:18,820] - obspy.clients.fdsn.mass_downloader - INFO: Client 'GEONET' - Status for 1 time intervals/channels before downloading: NEEDS_DOWNLOADING\n",
      "[2021-11-25 00:51:19,855] - obspy.clients.fdsn.mass_downloader - INFO: Client 'GEONET' - Successfully downloaded 1 channels (of 1)\n",
      "[2021-11-25 00:51:19,902] - obspy.clients.fdsn.mass_downloader - INFO: Client 'GEONET' - Launching basic QC checks...\n",
      "[2021-11-25 00:51:19,946] - obspy.clients.fdsn.mass_downloader - INFO: Client 'GEONET' - Downloaded 0.0 MB [3.82 KB/sec] of data, 0.0 MB of which were discarded afterwards.\n",
      "[2021-11-25 00:51:19,955] - obspy.clients.fdsn.mass_downloader - INFO: Client 'GEONET' - Status for 1 time intervals/channels after downloading: DOWNLOADED\n",
      "[2021-11-25 00:51:19,978] - obspy.clients.fdsn.mass_downloader - INFO: ============================== Final report\n",
      "[2021-11-25 00:51:19,996] - obspy.clients.fdsn.mass_downloader - INFO: 0 MiniSEED files [0.0 MB] already existed.\n",
      "[2021-11-25 00:51:20,002] - obspy.clients.fdsn.mass_downloader - INFO: 1 StationXML files [0.0 MB] already existed.\n",
      "[2021-11-25 00:51:20,003] - obspy.clients.fdsn.mass_downloader - INFO: Client 'GEONET' - Acquired 1 MiniSEED files [0.0 MB].\n",
      "[2021-11-25 00:51:20,012] - obspy.clients.fdsn.mass_downloader - INFO: Client 'GEONET' - Acquired 0 StationXML files [0.0 MB].\n",
      "[2021-11-25 00:51:20,022] - obspy.clients.fdsn.mass_downloader - INFO: Downloaded 0.0 MB in total.\n",
      "[2021-11-25 00:51:20,039] - obspy.clients.fdsn.mass_downloader - INFO: Initializing FDSN client(s) for GEONET.\n",
      "[2021-11-25 00:51:20,086] - obspy.clients.fdsn.mass_downloader - INFO: Successfully initialized 1 client(s): GEONET.\n",
      "[2021-11-25 00:51:20,090] - obspy.clients.fdsn.mass_downloader - INFO: Total acquired or preexisting stations: 0\n",
      "[2021-11-25 00:51:20,092] - obspy.clients.fdsn.mass_downloader - INFO: Client 'GEONET' - Requesting unreliable availability.\n"
     ]
    },
    {
     "name": "stdout",
     "output_type": "stream",
     "text": [
      "=================================================================\n",
      "Initiating mass download request.\n"
     ]
    },
    {
     "name": "stderr",
     "output_type": "stream",
     "text": [
      "[2021-11-25 00:51:20,723] - obspy.clients.fdsn.mass_downloader - INFO: Client 'GEONET' - Successfully requested availability (0.63 seconds)\n",
      "[2021-11-25 00:51:20,746] - obspy.clients.fdsn.mass_downloader - INFO: Client 'GEONET' - Found 1 stations (1 channels).\n",
      "[2021-11-25 00:51:20,756] - obspy.clients.fdsn.mass_downloader - INFO: Client 'GEONET' - Will attempt to download data from 1 stations.\n",
      "[2021-11-25 00:51:20,763] - obspy.clients.fdsn.mass_downloader - INFO: Client 'GEONET' - Status for 1 time intervals/channels before downloading: NEEDS_DOWNLOADING\n",
      "[2021-11-25 00:51:21,700] - obspy.clients.fdsn.mass_downloader - INFO: Client 'GEONET' - Successfully downloaded 1 channels (of 1)\n",
      "[2021-11-25 00:51:21,854] - obspy.clients.fdsn.mass_downloader - INFO: Client 'GEONET' - Launching basic QC checks...\n",
      "[2021-11-25 00:51:21,947] - obspy.clients.fdsn.mass_downloader - INFO: Client 'GEONET' - Downloaded 0.0 MB [3.77 KB/sec] of data, 0.0 MB of which were discarded afterwards.\n",
      "[2021-11-25 00:51:21,951] - obspy.clients.fdsn.mass_downloader - INFO: Client 'GEONET' - Status for 1 time intervals/channels after downloading: DOWNLOADED\n",
      "[2021-11-25 00:51:21,967] - obspy.clients.fdsn.mass_downloader - INFO: Client 'GEONET' - No station information to download.\n",
      "[2021-11-25 00:51:21,981] - obspy.clients.fdsn.mass_downloader - INFO: ============================== Final report\n",
      "[2021-11-25 00:51:21,984] - obspy.clients.fdsn.mass_downloader - INFO: 0 MiniSEED files [0.0 MB] already existed.\n",
      "[2021-11-25 00:51:21,989] - obspy.clients.fdsn.mass_downloader - INFO: 1 StationXML files [0.0 MB] already existed.\n",
      "[2021-11-25 00:51:21,990] - obspy.clients.fdsn.mass_downloader - INFO: Client 'GEONET' - Acquired 1 MiniSEED files [0.0 MB].\n",
      "[2021-11-25 00:51:21,999] - obspy.clients.fdsn.mass_downloader - INFO: Client 'GEONET' - Acquired 0 StationXML files [0.0 MB].\n",
      "[2021-11-25 00:51:22,002] - obspy.clients.fdsn.mass_downloader - INFO: Downloaded 0.0 MB in total.\n",
      "[2021-11-25 00:51:22,051] - obspy.clients.fdsn.mass_downloader - INFO: Initializing FDSN client(s) for GEONET.\n",
      "[2021-11-25 00:51:22,105] - obspy.clients.fdsn.mass_downloader - INFO: Successfully initialized 1 client(s): GEONET.\n",
      "[2021-11-25 00:51:22,114] - obspy.clients.fdsn.mass_downloader - INFO: Total acquired or preexisting stations: 0\n",
      "[2021-11-25 00:51:22,115] - obspy.clients.fdsn.mass_downloader - INFO: Client 'GEONET' - Requesting unreliable availability.\n"
     ]
    },
    {
     "name": "stdout",
     "output_type": "stream",
     "text": [
      "=================================================================\n",
      "Initiating mass download request.\n"
     ]
    },
    {
     "name": "stderr",
     "output_type": "stream",
     "text": [
      "[2021-11-25 00:51:22,758] - obspy.clients.fdsn.mass_downloader - INFO: Client 'GEONET' - Successfully requested availability (0.64 seconds)\n",
      "[2021-11-25 00:51:22,779] - obspy.clients.fdsn.mass_downloader - INFO: Client 'GEONET' - Found 1 stations (1 channels).\n",
      "[2021-11-25 00:51:22,794] - obspy.clients.fdsn.mass_downloader - INFO: Client 'GEONET' - Will attempt to download data from 1 stations.\n",
      "[2021-11-25 00:51:22,802] - obspy.clients.fdsn.mass_downloader - INFO: Client 'GEONET' - Status for 1 time intervals/channels before downloading: NEEDS_DOWNLOADING\n",
      "[2021-11-25 00:51:23,874] - obspy.clients.fdsn.mass_downloader - INFO: Client 'GEONET' - Successfully downloaded 1 channels (of 1)\n",
      "[2021-11-25 00:51:23,916] - obspy.clients.fdsn.mass_downloader - INFO: Client 'GEONET' - Launching basic QC checks...\n",
      "[2021-11-25 00:51:23,957] - obspy.clients.fdsn.mass_downloader - INFO: Client 'GEONET' - Downloaded 0.0 MB [3.76 KB/sec] of data, 0.0 MB of which were discarded afterwards.\n",
      "[2021-11-25 00:51:23,960] - obspy.clients.fdsn.mass_downloader - INFO: Client 'GEONET' - Status for 1 time intervals/channels after downloading: DOWNLOADED\n",
      "[2021-11-25 00:51:23,966] - obspy.clients.fdsn.mass_downloader - INFO: Client 'GEONET' - No station information to download.\n",
      "[2021-11-25 00:51:23,968] - obspy.clients.fdsn.mass_downloader - INFO: ============================== Final report\n",
      "[2021-11-25 00:51:23,976] - obspy.clients.fdsn.mass_downloader - INFO: 0 MiniSEED files [0.0 MB] already existed.\n",
      "[2021-11-25 00:51:23,980] - obspy.clients.fdsn.mass_downloader - INFO: 1 StationXML files [0.0 MB] already existed.\n",
      "[2021-11-25 00:51:23,980] - obspy.clients.fdsn.mass_downloader - INFO: Client 'GEONET' - Acquired 1 MiniSEED files [0.0 MB].\n",
      "[2021-11-25 00:51:23,986] - obspy.clients.fdsn.mass_downloader - INFO: Client 'GEONET' - Acquired 0 StationXML files [0.0 MB].\n",
      "[2021-11-25 00:51:23,988] - obspy.clients.fdsn.mass_downloader - INFO: Downloaded 0.0 MB in total.\n",
      "[2021-11-25 00:51:23,994] - obspy.clients.fdsn.mass_downloader - INFO: Initializing FDSN client(s) for GEONET.\n",
      "[2021-11-25 00:51:24,011] - obspy.clients.fdsn.mass_downloader - INFO: Successfully initialized 1 client(s): GEONET.\n",
      "[2021-11-25 00:51:24,015] - obspy.clients.fdsn.mass_downloader - INFO: Total acquired or preexisting stations: 0\n",
      "[2021-11-25 00:51:24,017] - obspy.clients.fdsn.mass_downloader - INFO: Client 'GEONET' - Requesting unreliable availability.\n"
     ]
    },
    {
     "name": "stdout",
     "output_type": "stream",
     "text": [
      "=================================================================\n",
      "Initiating mass download request.\n"
     ]
    },
    {
     "name": "stderr",
     "output_type": "stream",
     "text": [
      "[2021-11-25 00:51:24,735] - obspy.clients.fdsn.mass_downloader - INFO: Client 'GEONET' - Successfully requested availability (0.71 seconds)\n",
      "[2021-11-25 00:51:24,775] - obspy.clients.fdsn.mass_downloader - INFO: Client 'GEONET' - Found 1 stations (1 channels).\n",
      "[2021-11-25 00:51:24,782] - obspy.clients.fdsn.mass_downloader - INFO: Client 'GEONET' - Will attempt to download data from 1 stations.\n",
      "[2021-11-25 00:51:24,790] - obspy.clients.fdsn.mass_downloader - INFO: Client 'GEONET' - Status for 1 time intervals/channels before downloading: NEEDS_DOWNLOADING\n",
      "[2021-11-25 00:51:25,843] - obspy.clients.fdsn.mass_downloader - INFO: Client 'GEONET' - Successfully downloaded 1 channels (of 1)\n",
      "[2021-11-25 00:51:25,958] - obspy.clients.fdsn.mass_downloader - INFO: Client 'GEONET' - Launching basic QC checks...\n",
      "[2021-11-25 00:51:26,041] - obspy.clients.fdsn.mass_downloader - INFO: Client 'GEONET' - Downloaded 0.0 MB [5.59 KB/sec] of data, 0.0 MB of which were discarded afterwards.\n",
      "[2021-11-25 00:51:26,056] - obspy.clients.fdsn.mass_downloader - INFO: Client 'GEONET' - Status for 1 time intervals/channels after downloading: DOWNLOADED\n",
      "[2021-11-25 00:51:26,129] - obspy.clients.fdsn.mass_downloader - INFO: Client 'GEONET' - No station information to download.\n",
      "[2021-11-25 00:51:26,139] - obspy.clients.fdsn.mass_downloader - INFO: ============================== Final report\n",
      "[2021-11-25 00:51:26,150] - obspy.clients.fdsn.mass_downloader - INFO: 0 MiniSEED files [0.0 MB] already existed.\n",
      "[2021-11-25 00:51:26,151] - obspy.clients.fdsn.mass_downloader - INFO: 1 StationXML files [0.0 MB] already existed.\n",
      "[2021-11-25 00:51:26,152] - obspy.clients.fdsn.mass_downloader - INFO: Client 'GEONET' - Acquired 1 MiniSEED files [0.0 MB].\n",
      "[2021-11-25 00:51:26,155] - obspy.clients.fdsn.mass_downloader - INFO: Client 'GEONET' - Acquired 0 StationXML files [0.0 MB].\n",
      "[2021-11-25 00:51:26,157] - obspy.clients.fdsn.mass_downloader - INFO: Downloaded 0.0 MB in total.\n",
      "[2021-11-25 00:51:26,208] - obspy.clients.fdsn.mass_downloader - INFO: Initializing FDSN client(s) for GEONET.\n",
      "[2021-11-25 00:51:26,282] - obspy.clients.fdsn.mass_downloader - INFO: Successfully initialized 1 client(s): GEONET.\n",
      "[2021-11-25 00:51:26,312] - obspy.clients.fdsn.mass_downloader - INFO: Total acquired or preexisting stations: 0\n",
      "[2021-11-25 00:51:26,320] - obspy.clients.fdsn.mass_downloader - INFO: Client 'GEONET' - Requesting unreliable availability.\n"
     ]
    },
    {
     "name": "stdout",
     "output_type": "stream",
     "text": [
      "=================================================================\n",
      "Initiating mass download request.\n"
     ]
    },
    {
     "name": "stderr",
     "output_type": "stream",
     "text": [
      "[2021-11-25 00:51:27,046] - obspy.clients.fdsn.mass_downloader - INFO: Client 'GEONET' - Successfully requested availability (0.73 seconds)\n",
      "[2021-11-25 00:51:27,128] - obspy.clients.fdsn.mass_downloader - INFO: Client 'GEONET' - Found 1 stations (1 channels).\n",
      "[2021-11-25 00:51:27,150] - obspy.clients.fdsn.mass_downloader - INFO: Client 'GEONET' - Will attempt to download data from 1 stations.\n",
      "[2021-11-25 00:51:27,171] - obspy.clients.fdsn.mass_downloader - INFO: Client 'GEONET' - Status for 1 time intervals/channels before downloading: NEEDS_DOWNLOADING\n",
      "[2021-11-25 00:51:28,106] - obspy.clients.fdsn.mass_downloader - INFO: Client 'GEONET' - Successfully downloaded 1 channels (of 1)\n",
      "[2021-11-25 00:51:28,136] - obspy.clients.fdsn.mass_downloader - INFO: Client 'GEONET' - Launching basic QC checks...\n",
      "[2021-11-25 00:51:28,160] - obspy.clients.fdsn.mass_downloader - INFO: Client 'GEONET' - Downloaded 0.0 MB [4.86 KB/sec] of data, 0.0 MB of which were discarded afterwards.\n",
      "[2021-11-25 00:51:28,170] - obspy.clients.fdsn.mass_downloader - INFO: Client 'GEONET' - Status for 1 time intervals/channels after downloading: DOWNLOADED\n",
      "[2021-11-25 00:51:28,192] - obspy.clients.fdsn.mass_downloader - INFO: Client 'GEONET' - No station information to download.\n",
      "[2021-11-25 00:51:28,203] - obspy.clients.fdsn.mass_downloader - INFO: ============================== Final report\n",
      "[2021-11-25 00:51:28,216] - obspy.clients.fdsn.mass_downloader - INFO: 0 MiniSEED files [0.0 MB] already existed.\n",
      "[2021-11-25 00:51:28,222] - obspy.clients.fdsn.mass_downloader - INFO: 1 StationXML files [0.0 MB] already existed.\n",
      "[2021-11-25 00:51:28,223] - obspy.clients.fdsn.mass_downloader - INFO: Client 'GEONET' - Acquired 1 MiniSEED files [0.0 MB].\n",
      "[2021-11-25 00:51:28,223] - obspy.clients.fdsn.mass_downloader - INFO: Client 'GEONET' - Acquired 0 StationXML files [0.0 MB].\n",
      "[2021-11-25 00:51:28,223] - obspy.clients.fdsn.mass_downloader - INFO: Downloaded 0.0 MB in total.\n",
      "[2021-11-25 00:51:28,274] - obspy.clients.fdsn.mass_downloader - INFO: Initializing FDSN client(s) for GEONET.\n",
      "[2021-11-25 00:51:28,331] - obspy.clients.fdsn.mass_downloader - INFO: Successfully initialized 1 client(s): GEONET.\n",
      "[2021-11-25 00:51:28,335] - obspy.clients.fdsn.mass_downloader - INFO: Total acquired or preexisting stations: 0\n",
      "[2021-11-25 00:51:28,337] - obspy.clients.fdsn.mass_downloader - INFO: Client 'GEONET' - Requesting unreliable availability.\n"
     ]
    },
    {
     "name": "stdout",
     "output_type": "stream",
     "text": [
      "=================================================================\n",
      "Initiating mass download request.\n"
     ]
    },
    {
     "name": "stderr",
     "output_type": "stream",
     "text": [
      "[2021-11-25 00:51:28,921] - obspy.clients.fdsn.mass_downloader - INFO: Client 'GEONET' - Successfully requested availability (0.58 seconds)\n",
      "[2021-11-25 00:51:28,935] - obspy.clients.fdsn.mass_downloader - INFO: Client 'GEONET' - Found 1 stations (1 channels).\n",
      "[2021-11-25 00:51:28,942] - obspy.clients.fdsn.mass_downloader - INFO: Client 'GEONET' - Will attempt to download data from 1 stations.\n",
      "[2021-11-25 00:51:28,955] - obspy.clients.fdsn.mass_downloader - INFO: Client 'GEONET' - Status for 1 time intervals/channels before downloading: NEEDS_DOWNLOADING\n",
      "[2021-11-25 00:51:29,858] - obspy.clients.fdsn.mass_downloader - INFO: Client 'GEONET' - Successfully downloaded 1 channels (of 1)\n",
      "[2021-11-25 00:51:29,895] - obspy.clients.fdsn.mass_downloader - INFO: Client 'GEONET' - Launching basic QC checks...\n",
      "[2021-11-25 00:51:29,929] - obspy.clients.fdsn.mass_downloader - INFO: Client 'GEONET' - Downloaded 0.0 MB [5.41 KB/sec] of data, 0.0 MB of which were discarded afterwards.\n",
      "[2021-11-25 00:51:29,936] - obspy.clients.fdsn.mass_downloader - INFO: Client 'GEONET' - Status for 1 time intervals/channels after downloading: DOWNLOADED\n",
      "[2021-11-25 00:51:29,951] - obspy.clients.fdsn.mass_downloader - INFO: Client 'GEONET' - No station information to download.\n",
      "[2021-11-25 00:51:29,956] - obspy.clients.fdsn.mass_downloader - INFO: ============================== Final report\n",
      "[2021-11-25 00:51:29,965] - obspy.clients.fdsn.mass_downloader - INFO: 0 MiniSEED files [0.0 MB] already existed.\n",
      "[2021-11-25 00:51:29,967] - obspy.clients.fdsn.mass_downloader - INFO: 1 StationXML files [0.0 MB] already existed.\n",
      "[2021-11-25 00:51:29,968] - obspy.clients.fdsn.mass_downloader - INFO: Client 'GEONET' - Acquired 1 MiniSEED files [0.0 MB].\n",
      "[2021-11-25 00:51:29,970] - obspy.clients.fdsn.mass_downloader - INFO: Client 'GEONET' - Acquired 0 StationXML files [0.0 MB].\n",
      "[2021-11-25 00:51:29,972] - obspy.clients.fdsn.mass_downloader - INFO: Downloaded 0.0 MB in total.\n",
      "[2021-11-25 00:51:29,989] - obspy.clients.fdsn.mass_downloader - INFO: Initializing FDSN client(s) for GEONET.\n",
      "[2021-11-25 00:51:30,005] - obspy.clients.fdsn.mass_downloader - INFO: Successfully initialized 1 client(s): GEONET.\n",
      "[2021-11-25 00:51:30,008] - obspy.clients.fdsn.mass_downloader - INFO: Total acquired or preexisting stations: 0\n",
      "[2021-11-25 00:51:30,009] - obspy.clients.fdsn.mass_downloader - INFO: Client 'GEONET' - Requesting unreliable availability.\n"
     ]
    },
    {
     "name": "stdout",
     "output_type": "stream",
     "text": [
      "=================================================================\n",
      "Initiating mass download request.\n"
     ]
    },
    {
     "name": "stderr",
     "output_type": "stream",
     "text": [
      "[2021-11-25 00:51:30,584] - obspy.clients.fdsn.mass_downloader - INFO: Client 'GEONET' - Successfully requested availability (0.57 seconds)\n",
      "[2021-11-25 00:51:30,593] - obspy.clients.fdsn.mass_downloader - INFO: Client 'GEONET' - Found 1 stations (1 channels).\n",
      "[2021-11-25 00:51:30,604] - obspy.clients.fdsn.mass_downloader - INFO: Client 'GEONET' - Will attempt to download data from 1 stations.\n",
      "[2021-11-25 00:51:30,611] - obspy.clients.fdsn.mass_downloader - INFO: Client 'GEONET' - Status for 1 time intervals/channels before downloading: NEEDS_DOWNLOADING\n",
      "[2021-11-25 00:51:31,499] - obspy.clients.fdsn.mass_downloader - INFO: Client 'GEONET' - Successfully downloaded 1 channels (of 1)\n",
      "[2021-11-25 00:51:31,575] - obspy.clients.fdsn.mass_downloader - INFO: Client 'GEONET' - Launching basic QC checks...\n",
      "[2021-11-25 00:51:31,666] - obspy.clients.fdsn.mass_downloader - INFO: Client 'GEONET' - Downloaded 0.0 MB [4.80 KB/sec] of data, 0.0 MB of which were discarded afterwards.\n",
      "[2021-11-25 00:51:31,674] - obspy.clients.fdsn.mass_downloader - INFO: Client 'GEONET' - Status for 1 time intervals/channels after downloading: DOWNLOADED\n",
      "[2021-11-25 00:51:31,711] - obspy.clients.fdsn.mass_downloader - INFO: Client 'GEONET' - No station information to download.\n",
      "[2021-11-25 00:51:31,726] - obspy.clients.fdsn.mass_downloader - INFO: ============================== Final report\n",
      "[2021-11-25 00:51:31,733] - obspy.clients.fdsn.mass_downloader - INFO: 0 MiniSEED files [0.0 MB] already existed.\n",
      "[2021-11-25 00:51:31,739] - obspy.clients.fdsn.mass_downloader - INFO: 1 StationXML files [0.0 MB] already existed.\n",
      "[2021-11-25 00:51:31,749] - obspy.clients.fdsn.mass_downloader - INFO: Client 'GEONET' - Acquired 1 MiniSEED files [0.0 MB].\n",
      "[2021-11-25 00:51:31,753] - obspy.clients.fdsn.mass_downloader - INFO: Client 'GEONET' - Acquired 0 StationXML files [0.0 MB].\n",
      "[2021-11-25 00:51:31,756] - obspy.clients.fdsn.mass_downloader - INFO: Downloaded 0.0 MB in total.\n",
      "[2021-11-25 00:51:31,807] - obspy.clients.fdsn.mass_downloader - INFO: Initializing FDSN client(s) for GEONET.\n",
      "[2021-11-25 00:51:31,857] - obspy.clients.fdsn.mass_downloader - INFO: Successfully initialized 1 client(s): GEONET.\n",
      "[2021-11-25 00:51:31,875] - obspy.clients.fdsn.mass_downloader - INFO: Total acquired or preexisting stations: 0\n",
      "[2021-11-25 00:51:31,891] - obspy.clients.fdsn.mass_downloader - INFO: Client 'GEONET' - Requesting unreliable availability.\n"
     ]
    },
    {
     "name": "stdout",
     "output_type": "stream",
     "text": [
      "=================================================================\n",
      "Initiating mass download request.\n"
     ]
    },
    {
     "name": "stderr",
     "output_type": "stream",
     "text": [
      "[2021-11-25 00:51:32,489] - obspy.clients.fdsn.mass_downloader - INFO: Client 'GEONET' - Successfully requested availability (0.58 seconds)\n",
      "[2021-11-25 00:51:32,504] - obspy.clients.fdsn.mass_downloader - INFO: Client 'GEONET' - Found 1 stations (1 channels).\n",
      "[2021-11-25 00:51:32,508] - obspy.clients.fdsn.mass_downloader - INFO: Client 'GEONET' - Will attempt to download data from 1 stations.\n",
      "[2021-11-25 00:51:32,513] - obspy.clients.fdsn.mass_downloader - INFO: Client 'GEONET' - Status for 1 time intervals/channels before downloading: NEEDS_DOWNLOADING\n",
      "[2021-11-25 00:51:33,515] - obspy.clients.fdsn.mass_downloader - INFO: Client 'GEONET' - Successfully downloaded 1 channels (of 1)\n",
      "[2021-11-25 00:51:33,536] - obspy.clients.fdsn.mass_downloader - INFO: Client 'GEONET' - Launching basic QC checks...\n",
      "[2021-11-25 00:51:33,593] - obspy.clients.fdsn.mass_downloader - INFO: Client 'GEONET' - Downloaded 0.0 MB [4.02 KB/sec] of data, 0.0 MB of which were discarded afterwards.\n",
      "[2021-11-25 00:51:33,596] - obspy.clients.fdsn.mass_downloader - INFO: Client 'GEONET' - Status for 1 time intervals/channels after downloading: DOWNLOADED\n",
      "[2021-11-25 00:51:33,615] - obspy.clients.fdsn.mass_downloader - INFO: Client 'GEONET' - No station information to download.\n",
      "[2021-11-25 00:51:33,624] - obspy.clients.fdsn.mass_downloader - INFO: ============================== Final report\n",
      "[2021-11-25 00:51:33,632] - obspy.clients.fdsn.mass_downloader - INFO: 0 MiniSEED files [0.0 MB] already existed.\n",
      "[2021-11-25 00:51:33,633] - obspy.clients.fdsn.mass_downloader - INFO: 1 StationXML files [0.0 MB] already existed.\n",
      "[2021-11-25 00:51:33,633] - obspy.clients.fdsn.mass_downloader - INFO: Client 'GEONET' - Acquired 1 MiniSEED files [0.0 MB].\n",
      "[2021-11-25 00:51:33,637] - obspy.clients.fdsn.mass_downloader - INFO: Client 'GEONET' - Acquired 0 StationXML files [0.0 MB].\n",
      "[2021-11-25 00:51:33,644] - obspy.clients.fdsn.mass_downloader - INFO: Downloaded 0.0 MB in total.\n",
      "[2021-11-25 00:51:33,674] - obspy.clients.fdsn.mass_downloader - INFO: Initializing FDSN client(s) for GEONET.\n",
      "[2021-11-25 00:51:33,697] - obspy.clients.fdsn.mass_downloader - INFO: Successfully initialized 1 client(s): GEONET.\n",
      "[2021-11-25 00:51:33,702] - obspy.clients.fdsn.mass_downloader - INFO: Total acquired or preexisting stations: 0\n",
      "[2021-11-25 00:51:33,707] - obspy.clients.fdsn.mass_downloader - INFO: Client 'GEONET' - Requesting unreliable availability.\n"
     ]
    },
    {
     "name": "stdout",
     "output_type": "stream",
     "text": [
      "=================================================================\n",
      "Initiating mass download request.\n"
     ]
    },
    {
     "name": "stderr",
     "output_type": "stream",
     "text": [
      "[2021-11-25 00:51:34,271] - obspy.clients.fdsn.mass_downloader - INFO: Client 'GEONET' - Successfully requested availability (0.56 seconds)\n",
      "[2021-11-25 00:51:34,277] - obspy.clients.fdsn.mass_downloader - INFO: Client 'GEONET' - Found 1 stations (1 channels).\n",
      "[2021-11-25 00:51:34,278] - obspy.clients.fdsn.mass_downloader - INFO: Client 'GEONET' - Will attempt to download data from 1 stations.\n",
      "[2021-11-25 00:51:34,282] - obspy.clients.fdsn.mass_downloader - INFO: Client 'GEONET' - Status for 1 time intervals/channels before downloading: NEEDS_DOWNLOADING\n",
      "[2021-11-25 00:51:35,012] - obspy.clients.fdsn.mass_downloader - INFO: Client 'GEONET' - Successfully downloaded 1 channels (of 1)\n",
      "[2021-11-25 00:51:35,060] - obspy.clients.fdsn.mass_downloader - INFO: Client 'GEONET' - Launching basic QC checks...\n",
      "[2021-11-25 00:51:35,097] - obspy.clients.fdsn.mass_downloader - INFO: Client 'GEONET' - Downloaded 0.0 MB [3.88 KB/sec] of data, 0.0 MB of which were discarded afterwards.\n",
      "[2021-11-25 00:51:35,099] - obspy.clients.fdsn.mass_downloader - INFO: Client 'GEONET' - Status for 1 time intervals/channels after downloading: DOWNLOADED\n",
      "[2021-11-25 00:51:35,109] - obspy.clients.fdsn.mass_downloader - INFO: Client 'GEONET' - No station information to download.\n",
      "[2021-11-25 00:51:35,116] - obspy.clients.fdsn.mass_downloader - INFO: ============================== Final report\n",
      "[2021-11-25 00:51:35,130] - obspy.clients.fdsn.mass_downloader - INFO: 0 MiniSEED files [0.0 MB] already existed.\n",
      "[2021-11-25 00:51:35,133] - obspy.clients.fdsn.mass_downloader - INFO: 1 StationXML files [0.0 MB] already existed.\n",
      "[2021-11-25 00:51:35,134] - obspy.clients.fdsn.mass_downloader - INFO: Client 'GEONET' - Acquired 1 MiniSEED files [0.0 MB].\n",
      "[2021-11-25 00:51:35,138] - obspy.clients.fdsn.mass_downloader - INFO: Client 'GEONET' - Acquired 0 StationXML files [0.0 MB].\n",
      "[2021-11-25 00:51:35,139] - obspy.clients.fdsn.mass_downloader - INFO: Downloaded 0.0 MB in total.\n",
      "[2021-11-25 00:51:35,152] - obspy.clients.fdsn.mass_downloader - INFO: Initializing FDSN client(s) for GEONET.\n",
      "[2021-11-25 00:51:35,211] - obspy.clients.fdsn.mass_downloader - INFO: Successfully initialized 1 client(s): GEONET.\n",
      "[2021-11-25 00:51:35,213] - obspy.clients.fdsn.mass_downloader - INFO: Total acquired or preexisting stations: 0\n",
      "[2021-11-25 00:51:35,215] - obspy.clients.fdsn.mass_downloader - INFO: Client 'GEONET' - Requesting unreliable availability.\n"
     ]
    },
    {
     "name": "stdout",
     "output_type": "stream",
     "text": [
      "=================================================================\n",
      "Initiating mass download request.\n"
     ]
    },
    {
     "name": "stderr",
     "output_type": "stream",
     "text": [
      "[2021-11-25 00:51:35,979] - obspy.clients.fdsn.mass_downloader - INFO: Client 'GEONET' - Successfully requested availability (0.76 seconds)\n",
      "[2021-11-25 00:51:36,001] - obspy.clients.fdsn.mass_downloader - INFO: Client 'GEONET' - Found 1 stations (1 channels).\n",
      "[2021-11-25 00:51:36,026] - obspy.clients.fdsn.mass_downloader - INFO: Client 'GEONET' - Will attempt to download data from 1 stations.\n",
      "[2021-11-25 00:51:36,040] - obspy.clients.fdsn.mass_downloader - INFO: Client 'GEONET' - Status for 1 time intervals/channels before downloading: NEEDS_DOWNLOADING\n",
      "[2021-11-25 00:51:37,050] - obspy.clients.fdsn.mass_downloader - INFO: Client 'GEONET' - Successfully downloaded 1 channels (of 1)\n",
      "[2021-11-25 00:51:37,056] - obspy.clients.fdsn.mass_downloader - INFO: Client 'GEONET' - Launching basic QC checks...\n",
      "[2021-11-25 00:51:37,061] - obspy.clients.fdsn.mass_downloader - INFO: Client 'GEONET' - Downloaded 0.0 MB [4.73 KB/sec] of data, 0.0 MB of which were discarded afterwards.\n",
      "[2021-11-25 00:51:37,061] - obspy.clients.fdsn.mass_downloader - INFO: Client 'GEONET' - Status for 1 time intervals/channels after downloading: DOWNLOADED\n",
      "[2021-11-25 00:51:37,064] - obspy.clients.fdsn.mass_downloader - INFO: Client 'GEONET' - No station information to download.\n",
      "[2021-11-25 00:51:37,066] - obspy.clients.fdsn.mass_downloader - INFO: ============================== Final report\n",
      "[2021-11-25 00:51:37,066] - obspy.clients.fdsn.mass_downloader - INFO: 0 MiniSEED files [0.0 MB] already existed.\n",
      "[2021-11-25 00:51:37,066] - obspy.clients.fdsn.mass_downloader - INFO: 1 StationXML files [0.0 MB] already existed.\n",
      "[2021-11-25 00:51:37,067] - obspy.clients.fdsn.mass_downloader - INFO: Client 'GEONET' - Acquired 1 MiniSEED files [0.0 MB].\n",
      "[2021-11-25 00:51:37,067] - obspy.clients.fdsn.mass_downloader - INFO: Client 'GEONET' - Acquired 0 StationXML files [0.0 MB].\n",
      "[2021-11-25 00:51:37,067] - obspy.clients.fdsn.mass_downloader - INFO: Downloaded 0.0 MB in total.\n",
      "[2021-11-25 00:51:37,069] - obspy.clients.fdsn.mass_downloader - INFO: Initializing FDSN client(s) for GEONET.\n",
      "[2021-11-25 00:51:37,080] - obspy.clients.fdsn.mass_downloader - INFO: Successfully initialized 1 client(s): GEONET.\n",
      "[2021-11-25 00:51:37,084] - obspy.clients.fdsn.mass_downloader - INFO: Total acquired or preexisting stations: 0\n",
      "[2021-11-25 00:51:37,086] - obspy.clients.fdsn.mass_downloader - INFO: Client 'GEONET' - Requesting unreliable availability.\n"
     ]
    },
    {
     "name": "stdout",
     "output_type": "stream",
     "text": [
      "=================================================================\n",
      "Initiating mass download request.\n"
     ]
    },
    {
     "name": "stderr",
     "output_type": "stream",
     "text": [
      "[2021-11-25 00:51:37,739] - obspy.clients.fdsn.mass_downloader - INFO: Client 'GEONET' - Successfully requested availability (0.65 seconds)\n",
      "[2021-11-25 00:51:37,741] - obspy.clients.fdsn.mass_downloader - INFO: Client 'GEONET' - Found 1 stations (1 channels).\n",
      "[2021-11-25 00:51:37,742] - obspy.clients.fdsn.mass_downloader - INFO: Client 'GEONET' - Will attempt to download data from 1 stations.\n",
      "[2021-11-25 00:51:37,743] - obspy.clients.fdsn.mass_downloader - INFO: Client 'GEONET' - Status for 1 time intervals/channels before downloading: NEEDS_DOWNLOADING\n",
      "[2021-11-25 00:51:38,635] - obspy.clients.fdsn.mass_downloader - INFO: Client 'GEONET' - Successfully downloaded 1 channels (of 1)\n",
      "[2021-11-25 00:51:38,648] - obspy.clients.fdsn.mass_downloader - INFO: Client 'GEONET' - Launching basic QC checks...\n",
      "[2021-11-25 00:51:38,659] - obspy.clients.fdsn.mass_downloader - INFO: Client 'GEONET' - Downloaded 0.0 MB [3.32 KB/sec] of data, 0.0 MB of which were discarded afterwards.\n",
      "[2021-11-25 00:51:38,660] - obspy.clients.fdsn.mass_downloader - INFO: Client 'GEONET' - Status for 1 time intervals/channels after downloading: DOWNLOADED\n",
      "[2021-11-25 00:51:38,667] - obspy.clients.fdsn.mass_downloader - INFO: Client 'GEONET' - No station information to download.\n",
      "[2021-11-25 00:51:38,668] - obspy.clients.fdsn.mass_downloader - INFO: ============================== Final report\n",
      "[2021-11-25 00:51:38,669] - obspy.clients.fdsn.mass_downloader - INFO: 0 MiniSEED files [0.0 MB] already existed.\n",
      "[2021-11-25 00:51:38,669] - obspy.clients.fdsn.mass_downloader - INFO: 1 StationXML files [0.0 MB] already existed.\n",
      "[2021-11-25 00:51:38,669] - obspy.clients.fdsn.mass_downloader - INFO: Client 'GEONET' - Acquired 1 MiniSEED files [0.0 MB].\n",
      "[2021-11-25 00:51:38,670] - obspy.clients.fdsn.mass_downloader - INFO: Client 'GEONET' - Acquired 0 StationXML files [0.0 MB].\n",
      "[2021-11-25 00:51:38,670] - obspy.clients.fdsn.mass_downloader - INFO: Downloaded 0.0 MB in total.\n",
      "[2021-11-25 00:51:38,673] - obspy.clients.fdsn.mass_downloader - INFO: Initializing FDSN client(s) for GEONET.\n",
      "[2021-11-25 00:51:38,683] - obspy.clients.fdsn.mass_downloader - INFO: Successfully initialized 1 client(s): GEONET.\n",
      "[2021-11-25 00:51:38,688] - obspy.clients.fdsn.mass_downloader - INFO: Total acquired or preexisting stations: 0\n",
      "[2021-11-25 00:51:38,690] - obspy.clients.fdsn.mass_downloader - INFO: Client 'GEONET' - Requesting unreliable availability.\n"
     ]
    },
    {
     "name": "stdout",
     "output_type": "stream",
     "text": [
      "=================================================================\n",
      "Initiating mass download request.\n"
     ]
    },
    {
     "name": "stderr",
     "output_type": "stream",
     "text": [
      "[2021-11-25 00:51:39,288] - obspy.clients.fdsn.mass_downloader - INFO: Client 'GEONET' - Successfully requested availability (0.60 seconds)\n",
      "[2021-11-25 00:51:39,288] - obspy.clients.fdsn.mass_downloader - INFO: Client 'GEONET' - Found 1 stations (1 channels).\n",
      "[2021-11-25 00:51:39,289] - obspy.clients.fdsn.mass_downloader - INFO: Client 'GEONET' - Will attempt to download data from 1 stations.\n",
      "[2021-11-25 00:51:39,289] - obspy.clients.fdsn.mass_downloader - INFO: Client 'GEONET' - Status for 1 time intervals/channels before downloading: NEEDS_DOWNLOADING\n",
      "[2021-11-25 00:51:40,262] - obspy.clients.fdsn.mass_downloader - INFO: Client 'GEONET' - Successfully downloaded 1 channels (of 1)\n",
      "[2021-11-25 00:51:40,269] - obspy.clients.fdsn.mass_downloader - INFO: Client 'GEONET' - Launching basic QC checks...\n",
      "[2021-11-25 00:51:40,273] - obspy.clients.fdsn.mass_downloader - INFO: Client 'GEONET' - Downloaded 0.0 MB [3.58 KB/sec] of data, 0.0 MB of which were discarded afterwards.\n",
      "[2021-11-25 00:51:40,273] - obspy.clients.fdsn.mass_downloader - INFO: Client 'GEONET' - Status for 1 time intervals/channels after downloading: DOWNLOADED\n",
      "[2021-11-25 00:51:40,279] - obspy.clients.fdsn.mass_downloader - INFO: Client 'GEONET' - No station information to download.\n",
      "[2021-11-25 00:51:40,280] - obspy.clients.fdsn.mass_downloader - INFO: ============================== Final report\n",
      "[2021-11-25 00:51:40,280] - obspy.clients.fdsn.mass_downloader - INFO: 0 MiniSEED files [0.0 MB] already existed.\n",
      "[2021-11-25 00:51:40,281] - obspy.clients.fdsn.mass_downloader - INFO: 1 StationXML files [0.0 MB] already existed.\n",
      "[2021-11-25 00:51:40,281] - obspy.clients.fdsn.mass_downloader - INFO: Client 'GEONET' - Acquired 1 MiniSEED files [0.0 MB].\n",
      "[2021-11-25 00:51:40,281] - obspy.clients.fdsn.mass_downloader - INFO: Client 'GEONET' - Acquired 0 StationXML files [0.0 MB].\n",
      "[2021-11-25 00:51:40,281] - obspy.clients.fdsn.mass_downloader - INFO: Downloaded 0.0 MB in total.\n",
      "[2021-11-25 00:51:40,287] - obspy.clients.fdsn.mass_downloader - INFO: Initializing FDSN client(s) for GEONET.\n",
      "[2021-11-25 00:51:40,291] - obspy.clients.fdsn.mass_downloader - INFO: Successfully initialized 1 client(s): GEONET.\n",
      "[2021-11-25 00:51:40,292] - obspy.clients.fdsn.mass_downloader - INFO: Total acquired or preexisting stations: 0\n",
      "[2021-11-25 00:51:40,292] - obspy.clients.fdsn.mass_downloader - INFO: Client 'GEONET' - Requesting unreliable availability.\n"
     ]
    },
    {
     "name": "stdout",
     "output_type": "stream",
     "text": [
      "=================================================================\n",
      "Initiating mass download request.\n"
     ]
    },
    {
     "name": "stderr",
     "output_type": "stream",
     "text": [
      "[2021-11-25 00:51:40,817] - obspy.clients.fdsn.mass_downloader - INFO: Client 'GEONET' - Successfully requested availability (0.52 seconds)\n",
      "[2021-11-25 00:51:40,817] - obspy.clients.fdsn.mass_downloader - INFO: Client 'GEONET' - Found 1 stations (1 channels).\n",
      "[2021-11-25 00:51:40,817] - obspy.clients.fdsn.mass_downloader - INFO: Client 'GEONET' - Will attempt to download data from 1 stations.\n",
      "[2021-11-25 00:51:40,818] - obspy.clients.fdsn.mass_downloader - INFO: Client 'GEONET' - Status for 1 time intervals/channels before downloading: NEEDS_DOWNLOADING\n",
      "[2021-11-25 00:51:41,793] - obspy.clients.fdsn.mass_downloader - INFO: Client 'GEONET' - Successfully downloaded 1 channels (of 1)\n",
      "[2021-11-25 00:51:41,801] - obspy.clients.fdsn.mass_downloader - INFO: Client 'GEONET' - Launching basic QC checks...\n",
      "[2021-11-25 00:51:41,809] - obspy.clients.fdsn.mass_downloader - INFO: Client 'GEONET' - Downloaded 0.0 MB [6.62 KB/sec] of data, 0.0 MB of which were discarded afterwards.\n",
      "[2021-11-25 00:51:41,810] - obspy.clients.fdsn.mass_downloader - INFO: Client 'GEONET' - Status for 1 time intervals/channels after downloading: DOWNLOADED\n",
      "[2021-11-25 00:51:41,812] - obspy.clients.fdsn.mass_downloader - INFO: Client 'GEONET' - No station information to download.\n",
      "[2021-11-25 00:51:41,813] - obspy.clients.fdsn.mass_downloader - INFO: ============================== Final report\n",
      "[2021-11-25 00:51:41,814] - obspy.clients.fdsn.mass_downloader - INFO: 0 MiniSEED files [0.0 MB] already existed.\n",
      "[2021-11-25 00:51:41,814] - obspy.clients.fdsn.mass_downloader - INFO: 1 StationXML files [0.0 MB] already existed.\n",
      "[2021-11-25 00:51:41,814] - obspy.clients.fdsn.mass_downloader - INFO: Client 'GEONET' - Acquired 1 MiniSEED files [0.0 MB].\n",
      "[2021-11-25 00:51:41,815] - obspy.clients.fdsn.mass_downloader - INFO: Client 'GEONET' - Acquired 0 StationXML files [0.0 MB].\n",
      "[2021-11-25 00:51:41,815] - obspy.clients.fdsn.mass_downloader - INFO: Downloaded 0.0 MB in total.\n",
      "[2021-11-25 00:51:41,817] - obspy.clients.fdsn.mass_downloader - INFO: Initializing FDSN client(s) for GEONET.\n",
      "[2021-11-25 00:51:41,824] - obspy.clients.fdsn.mass_downloader - INFO: Successfully initialized 1 client(s): GEONET.\n",
      "[2021-11-25 00:51:41,824] - obspy.clients.fdsn.mass_downloader - INFO: Total acquired or preexisting stations: 0\n",
      "[2021-11-25 00:51:41,825] - obspy.clients.fdsn.mass_downloader - INFO: Client 'GEONET' - Requesting unreliable availability.\n"
     ]
    },
    {
     "name": "stdout",
     "output_type": "stream",
     "text": [
      "=================================================================\n",
      "Initiating mass download request.\n"
     ]
    },
    {
     "name": "stderr",
     "output_type": "stream",
     "text": [
      "[2021-11-25 00:51:42,363] - obspy.clients.fdsn.mass_downloader - INFO: Client 'GEONET' - Successfully requested availability (0.54 seconds)\n",
      "[2021-11-25 00:51:42,364] - obspy.clients.fdsn.mass_downloader - INFO: Client 'GEONET' - Found 1 stations (1 channels).\n",
      "[2021-11-25 00:51:42,364] - obspy.clients.fdsn.mass_downloader - INFO: Client 'GEONET' - Will attempt to download data from 1 stations.\n",
      "[2021-11-25 00:51:42,365] - obspy.clients.fdsn.mass_downloader - INFO: Client 'GEONET' - Status for 1 time intervals/channels before downloading: NEEDS_DOWNLOADING\n",
      "[2021-11-25 00:51:43,180] - obspy.clients.fdsn.mass_downloader - INFO: Client 'GEONET' - Successfully downloaded 1 channels (of 1)\n",
      "[2021-11-25 00:51:43,185] - obspy.clients.fdsn.mass_downloader - INFO: Client 'GEONET' - Launching basic QC checks...\n",
      "[2021-11-25 00:51:43,194] - obspy.clients.fdsn.mass_downloader - INFO: Client 'GEONET' - Downloaded 0.0 MB [4.89 KB/sec] of data, 0.0 MB of which were discarded afterwards.\n",
      "[2021-11-25 00:51:43,195] - obspy.clients.fdsn.mass_downloader - INFO: Client 'GEONET' - Status for 1 time intervals/channels after downloading: DOWNLOADED\n",
      "[2021-11-25 00:51:43,199] - obspy.clients.fdsn.mass_downloader - INFO: Client 'GEONET' - No station information to download.\n",
      "[2021-11-25 00:51:43,201] - obspy.clients.fdsn.mass_downloader - INFO: ============================== Final report\n",
      "[2021-11-25 00:51:43,201] - obspy.clients.fdsn.mass_downloader - INFO: 0 MiniSEED files [0.0 MB] already existed.\n",
      "[2021-11-25 00:51:43,202] - obspy.clients.fdsn.mass_downloader - INFO: 1 StationXML files [0.0 MB] already existed.\n",
      "[2021-11-25 00:51:43,202] - obspy.clients.fdsn.mass_downloader - INFO: Client 'GEONET' - Acquired 1 MiniSEED files [0.0 MB].\n",
      "[2021-11-25 00:51:43,203] - obspy.clients.fdsn.mass_downloader - INFO: Client 'GEONET' - Acquired 0 StationXML files [0.0 MB].\n",
      "[2021-11-25 00:51:43,203] - obspy.clients.fdsn.mass_downloader - INFO: Downloaded 0.0 MB in total.\n",
      "[2021-11-25 00:51:43,211] - obspy.clients.fdsn.mass_downloader - INFO: Initializing FDSN client(s) for GEONET.\n",
      "[2021-11-25 00:51:43,219] - obspy.clients.fdsn.mass_downloader - INFO: Successfully initialized 1 client(s): GEONET.\n",
      "[2021-11-25 00:51:43,221] - obspy.clients.fdsn.mass_downloader - INFO: Total acquired or preexisting stations: 0\n",
      "[2021-11-25 00:51:43,221] - obspy.clients.fdsn.mass_downloader - INFO: Client 'GEONET' - Requesting unreliable availability.\n"
     ]
    },
    {
     "name": "stdout",
     "output_type": "stream",
     "text": [
      "=================================================================\n",
      "Initiating mass download request.\n"
     ]
    },
    {
     "name": "stderr",
     "output_type": "stream",
     "text": [
      "[2021-11-25 00:51:43,902] - obspy.clients.fdsn.mass_downloader - INFO: Client 'GEONET' - Successfully requested availability (0.68 seconds)\n",
      "[2021-11-25 00:51:43,905] - obspy.clients.fdsn.mass_downloader - INFO: Client 'GEONET' - Found 1 stations (1 channels).\n",
      "[2021-11-25 00:51:43,906] - obspy.clients.fdsn.mass_downloader - INFO: Client 'GEONET' - Will attempt to download data from 1 stations.\n",
      "[2021-11-25 00:51:43,907] - obspy.clients.fdsn.mass_downloader - INFO: Client 'GEONET' - Status for 1 time intervals/channels before downloading: NEEDS_DOWNLOADING\n",
      "[2021-11-25 00:51:44,810] - obspy.clients.fdsn.mass_downloader - INFO: Client 'GEONET' - Successfully downloaded 1 channels (of 1)\n",
      "[2021-11-25 00:51:44,869] - obspy.clients.fdsn.mass_downloader - INFO: Client 'GEONET' - Launching basic QC checks...\n",
      "[2021-11-25 00:51:44,918] - obspy.clients.fdsn.mass_downloader - INFO: Client 'GEONET' - Downloaded 0.0 MB [3.67 KB/sec] of data, 0.0 MB of which were discarded afterwards.\n",
      "[2021-11-25 00:51:44,924] - obspy.clients.fdsn.mass_downloader - INFO: Client 'GEONET' - Status for 1 time intervals/channels after downloading: DOWNLOADED\n",
      "[2021-11-25 00:51:44,952] - obspy.clients.fdsn.mass_downloader - INFO: Client 'GEONET' - No station information to download.\n",
      "[2021-11-25 00:51:44,961] - obspy.clients.fdsn.mass_downloader - INFO: ============================== Final report\n",
      "[2021-11-25 00:51:44,970] - obspy.clients.fdsn.mass_downloader - INFO: 0 MiniSEED files [0.0 MB] already existed.\n",
      "[2021-11-25 00:51:44,975] - obspy.clients.fdsn.mass_downloader - INFO: 1 StationXML files [0.0 MB] already existed.\n",
      "[2021-11-25 00:51:44,975] - obspy.clients.fdsn.mass_downloader - INFO: Client 'GEONET' - Acquired 1 MiniSEED files [0.0 MB].\n",
      "[2021-11-25 00:51:44,982] - obspy.clients.fdsn.mass_downloader - INFO: Client 'GEONET' - Acquired 0 StationXML files [0.0 MB].\n",
      "[2021-11-25 00:51:44,984] - obspy.clients.fdsn.mass_downloader - INFO: Downloaded 0.0 MB in total.\n",
      "[2021-11-25 00:51:45,008] - obspy.clients.fdsn.mass_downloader - INFO: Initializing FDSN client(s) for GEONET.\n",
      "[2021-11-25 00:51:45,063] - obspy.clients.fdsn.mass_downloader - INFO: Successfully initialized 1 client(s): GEONET.\n",
      "[2021-11-25 00:51:45,072] - obspy.clients.fdsn.mass_downloader - INFO: Total acquired or preexisting stations: 0\n",
      "[2021-11-25 00:51:45,076] - obspy.clients.fdsn.mass_downloader - INFO: Client 'GEONET' - Requesting unreliable availability.\n"
     ]
    },
    {
     "name": "stdout",
     "output_type": "stream",
     "text": [
      "=================================================================\n",
      "Initiating mass download request.\n"
     ]
    },
    {
     "name": "stderr",
     "output_type": "stream",
     "text": [
      "[2021-11-25 00:51:45,824] - obspy.clients.fdsn.mass_downloader - INFO: Client 'GEONET' - Successfully requested availability (0.74 seconds)\n",
      "[2021-11-25 00:51:45,849] - obspy.clients.fdsn.mass_downloader - INFO: Client 'GEONET' - Found 1 stations (1 channels).\n",
      "[2021-11-25 00:51:45,861] - obspy.clients.fdsn.mass_downloader - INFO: Client 'GEONET' - Will attempt to download data from 1 stations.\n",
      "[2021-11-25 00:51:45,869] - obspy.clients.fdsn.mass_downloader - INFO: Client 'GEONET' - Status for 1 time intervals/channels before downloading: NEEDS_DOWNLOADING\n",
      "[2021-11-25 00:51:46,922] - obspy.clients.fdsn.mass_downloader - INFO: Client 'GEONET' - Successfully downloaded 1 channels (of 1)\n",
      "[2021-11-25 00:51:46,982] - obspy.clients.fdsn.mass_downloader - INFO: Client 'GEONET' - Launching basic QC checks...\n",
      "[2021-11-25 00:51:47,036] - obspy.clients.fdsn.mass_downloader - INFO: Client 'GEONET' - Downloaded 0.0 MB [4.88 KB/sec] of data, 0.0 MB of which were discarded afterwards.\n",
      "[2021-11-25 00:51:47,043] - obspy.clients.fdsn.mass_downloader - INFO: Client 'GEONET' - Status for 1 time intervals/channels after downloading: DOWNLOADED\n",
      "[2021-11-25 00:51:47,075] - obspy.clients.fdsn.mass_downloader - INFO: Client 'GEONET' - No station information to download.\n",
      "[2021-11-25 00:51:47,091] - obspy.clients.fdsn.mass_downloader - INFO: ============================== Final report\n",
      "[2021-11-25 00:51:47,106] - obspy.clients.fdsn.mass_downloader - INFO: 0 MiniSEED files [0.0 MB] already existed.\n",
      "[2021-11-25 00:51:47,108] - obspy.clients.fdsn.mass_downloader - INFO: 1 StationXML files [0.0 MB] already existed.\n",
      "[2021-11-25 00:51:47,108] - obspy.clients.fdsn.mass_downloader - INFO: Client 'GEONET' - Acquired 1 MiniSEED files [0.0 MB].\n",
      "[2021-11-25 00:51:47,110] - obspy.clients.fdsn.mass_downloader - INFO: Client 'GEONET' - Acquired 0 StationXML files [0.0 MB].\n",
      "[2021-11-25 00:51:47,116] - obspy.clients.fdsn.mass_downloader - INFO: Downloaded 0.0 MB in total.\n",
      "[2021-11-25 00:51:47,177] - obspy.clients.fdsn.mass_downloader - INFO: Initializing FDSN client(s) for GEONET.\n",
      "[2021-11-25 00:51:47,251] - obspy.clients.fdsn.mass_downloader - INFO: Successfully initialized 1 client(s): GEONET.\n",
      "[2021-11-25 00:51:47,255] - obspy.clients.fdsn.mass_downloader - INFO: Total acquired or preexisting stations: 0\n",
      "[2021-11-25 00:51:47,257] - obspy.clients.fdsn.mass_downloader - INFO: Client 'GEONET' - Requesting unreliable availability.\n"
     ]
    },
    {
     "name": "stdout",
     "output_type": "stream",
     "text": [
      "=================================================================\n",
      "Initiating mass download request.\n"
     ]
    },
    {
     "name": "stderr",
     "output_type": "stream",
     "text": [
      "[2021-11-25 00:51:47,961] - obspy.clients.fdsn.mass_downloader - INFO: Client 'GEONET' - Successfully requested availability (0.70 seconds)\n",
      "[2021-11-25 00:51:47,982] - obspy.clients.fdsn.mass_downloader - INFO: Client 'GEONET' - Found 1 stations (1 channels).\n",
      "[2021-11-25 00:51:47,987] - obspy.clients.fdsn.mass_downloader - INFO: Client 'GEONET' - Will attempt to download data from 1 stations.\n",
      "[2021-11-25 00:51:48,000] - obspy.clients.fdsn.mass_downloader - INFO: Client 'GEONET' - Status for 1 time intervals/channels before downloading: NEEDS_DOWNLOADING\n",
      "[2021-11-25 00:51:49,023] - obspy.clients.fdsn.mass_downloader - INFO: Client 'GEONET' - Successfully downloaded 1 channels (of 1)\n",
      "[2021-11-25 00:51:49,081] - obspy.clients.fdsn.mass_downloader - INFO: Client 'GEONET' - Launching basic QC checks...\n",
      "[2021-11-25 00:51:49,126] - obspy.clients.fdsn.mass_downloader - INFO: Client 'GEONET' - Downloaded 0.0 MB [3.33 KB/sec] of data, 0.0 MB of which were discarded afterwards.\n",
      "[2021-11-25 00:51:49,134] - obspy.clients.fdsn.mass_downloader - INFO: Client 'GEONET' - Status for 1 time intervals/channels after downloading: DOWNLOADED\n",
      "[2021-11-25 00:51:49,152] - obspy.clients.fdsn.mass_downloader - INFO: Client 'GEONET' - No station information to download.\n",
      "[2021-11-25 00:51:49,158] - obspy.clients.fdsn.mass_downloader - INFO: ============================== Final report\n",
      "[2021-11-25 00:51:49,170] - obspy.clients.fdsn.mass_downloader - INFO: 0 MiniSEED files [0.0 MB] already existed.\n",
      "[2021-11-25 00:51:49,171] - obspy.clients.fdsn.mass_downloader - INFO: 1 StationXML files [0.0 MB] already existed.\n",
      "[2021-11-25 00:51:49,174] - obspy.clients.fdsn.mass_downloader - INFO: Client 'GEONET' - Acquired 1 MiniSEED files [0.0 MB].\n",
      "[2021-11-25 00:51:49,178] - obspy.clients.fdsn.mass_downloader - INFO: Client 'GEONET' - Acquired 0 StationXML files [0.0 MB].\n",
      "[2021-11-25 00:51:49,182] - obspy.clients.fdsn.mass_downloader - INFO: Downloaded 0.0 MB in total.\n",
      "[2021-11-25 00:51:49,208] - obspy.clients.fdsn.mass_downloader - INFO: Initializing FDSN client(s) for GEONET.\n",
      "[2021-11-25 00:51:49,245] - obspy.clients.fdsn.mass_downloader - INFO: Successfully initialized 1 client(s): GEONET.\n",
      "[2021-11-25 00:51:49,248] - obspy.clients.fdsn.mass_downloader - INFO: Total acquired or preexisting stations: 0\n",
      "[2021-11-25 00:51:49,250] - obspy.clients.fdsn.mass_downloader - INFO: Client 'GEONET' - Requesting unreliable availability.\n"
     ]
    },
    {
     "name": "stdout",
     "output_type": "stream",
     "text": [
      "=================================================================\n",
      "Initiating mass download request.\n"
     ]
    },
    {
     "name": "stderr",
     "output_type": "stream",
     "text": [
      "[2021-11-25 00:51:49,928] - obspy.clients.fdsn.mass_downloader - INFO: Client 'GEONET' - Successfully requested availability (0.68 seconds)\n",
      "[2021-11-25 00:51:49,936] - obspy.clients.fdsn.mass_downloader - INFO: Client 'GEONET' - Found 1 stations (1 channels).\n",
      "[2021-11-25 00:51:49,939] - obspy.clients.fdsn.mass_downloader - INFO: Client 'GEONET' - Will attempt to download data from 1 stations.\n",
      "[2021-11-25 00:51:49,940] - obspy.clients.fdsn.mass_downloader - INFO: Client 'GEONET' - Status for 1 time intervals/channels before downloading: NEEDS_DOWNLOADING\n",
      "[2021-11-25 00:51:50,893] - obspy.clients.fdsn.mass_downloader - INFO: Client 'GEONET' - Successfully downloaded 1 channels (of 1)\n",
      "[2021-11-25 00:51:50,954] - obspy.clients.fdsn.mass_downloader - INFO: Client 'GEONET' - Launching basic QC checks...\n",
      "[2021-11-25 00:51:51,027] - obspy.clients.fdsn.mass_downloader - INFO: Client 'GEONET' - Downloaded 0.0 MB [4.48 KB/sec] of data, 0.0 MB of which were discarded afterwards.\n",
      "[2021-11-25 00:51:51,033] - obspy.clients.fdsn.mass_downloader - INFO: Client 'GEONET' - Status for 1 time intervals/channels after downloading: DOWNLOADED\n",
      "[2021-11-25 00:51:51,068] - obspy.clients.fdsn.mass_downloader - INFO: Client 'GEONET' - No station information to download.\n",
      "[2021-11-25 00:51:51,085] - obspy.clients.fdsn.mass_downloader - INFO: ============================== Final report\n",
      "[2021-11-25 00:51:51,098] - obspy.clients.fdsn.mass_downloader - INFO: 0 MiniSEED files [0.0 MB] already existed.\n",
      "[2021-11-25 00:51:51,107] - obspy.clients.fdsn.mass_downloader - INFO: 1 StationXML files [0.0 MB] already existed.\n",
      "[2021-11-25 00:51:51,108] - obspy.clients.fdsn.mass_downloader - INFO: Client 'GEONET' - Acquired 1 MiniSEED files [0.0 MB].\n",
      "[2021-11-25 00:51:51,108] - obspy.clients.fdsn.mass_downloader - INFO: Client 'GEONET' - Acquired 0 StationXML files [0.0 MB].\n",
      "[2021-11-25 00:51:51,109] - obspy.clients.fdsn.mass_downloader - INFO: Downloaded 0.0 MB in total.\n",
      "[2021-11-25 00:51:51,134] - obspy.clients.fdsn.mass_downloader - INFO: Initializing FDSN client(s) for GEONET.\n",
      "[2021-11-25 00:51:51,182] - obspy.clients.fdsn.mass_downloader - INFO: Successfully initialized 1 client(s): GEONET.\n",
      "[2021-11-25 00:51:51,197] - obspy.clients.fdsn.mass_downloader - INFO: Total acquired or preexisting stations: 0\n",
      "[2021-11-25 00:51:51,200] - obspy.clients.fdsn.mass_downloader - INFO: Client 'GEONET' - Requesting unreliable availability.\n"
     ]
    },
    {
     "name": "stdout",
     "output_type": "stream",
     "text": [
      "=================================================================\n",
      "Initiating mass download request.\n"
     ]
    },
    {
     "name": "stderr",
     "output_type": "stream",
     "text": [
      "[2021-11-25 00:51:51,791] - obspy.clients.fdsn.mass_downloader - INFO: Client 'GEONET' - Successfully requested availability (0.59 seconds)\n",
      "[2021-11-25 00:51:51,814] - obspy.clients.fdsn.mass_downloader - INFO: Client 'GEONET' - Found 1 stations (1 channels).\n",
      "[2021-11-25 00:51:51,830] - obspy.clients.fdsn.mass_downloader - INFO: Client 'GEONET' - Will attempt to download data from 1 stations.\n",
      "[2021-11-25 00:51:51,841] - obspy.clients.fdsn.mass_downloader - INFO: Client 'GEONET' - Status for 1 time intervals/channels before downloading: NEEDS_DOWNLOADING\n",
      "[2021-11-25 00:51:52,582] - obspy.clients.fdsn.mass_downloader - INFO: Client 'GEONET' - Successfully downloaded 1 channels (of 1)\n",
      "[2021-11-25 00:51:52,604] - obspy.clients.fdsn.mass_downloader - INFO: Client 'GEONET' - Launching basic QC checks...\n",
      "[2021-11-25 00:51:52,619] - obspy.clients.fdsn.mass_downloader - INFO: Client 'GEONET' - Downloaded 0.0 MB [4.09 KB/sec] of data, 0.0 MB of which were discarded afterwards.\n",
      "[2021-11-25 00:51:52,621] - obspy.clients.fdsn.mass_downloader - INFO: Client 'GEONET' - Status for 1 time intervals/channels after downloading: DOWNLOADED\n",
      "[2021-11-25 00:51:52,634] - obspy.clients.fdsn.mass_downloader - INFO: Client 'GEONET' - No station information to download.\n",
      "[2021-11-25 00:51:52,641] - obspy.clients.fdsn.mass_downloader - INFO: ============================== Final report\n",
      "[2021-11-25 00:51:52,645] - obspy.clients.fdsn.mass_downloader - INFO: 0 MiniSEED files [0.0 MB] already existed.\n",
      "[2021-11-25 00:51:52,647] - obspy.clients.fdsn.mass_downloader - INFO: 1 StationXML files [0.0 MB] already existed.\n",
      "[2021-11-25 00:51:52,648] - obspy.clients.fdsn.mass_downloader - INFO: Client 'GEONET' - Acquired 1 MiniSEED files [0.0 MB].\n",
      "[2021-11-25 00:51:52,650] - obspy.clients.fdsn.mass_downloader - INFO: Client 'GEONET' - Acquired 0 StationXML files [0.0 MB].\n",
      "[2021-11-25 00:51:52,652] - obspy.clients.fdsn.mass_downloader - INFO: Downloaded 0.0 MB in total.\n",
      "[2021-11-25 00:51:52,663] - obspy.clients.fdsn.mass_downloader - INFO: Initializing FDSN client(s) for GEONET.\n",
      "[2021-11-25 00:51:52,681] - obspy.clients.fdsn.mass_downloader - INFO: Successfully initialized 1 client(s): GEONET.\n",
      "[2021-11-25 00:51:52,685] - obspy.clients.fdsn.mass_downloader - INFO: Total acquired or preexisting stations: 0\n",
      "[2021-11-25 00:51:52,689] - obspy.clients.fdsn.mass_downloader - INFO: Client 'GEONET' - Requesting unreliable availability.\n"
     ]
    },
    {
     "name": "stdout",
     "output_type": "stream",
     "text": [
      "=================================================================\n",
      "Initiating mass download request.\n"
     ]
    },
    {
     "name": "stderr",
     "output_type": "stream",
     "text": [
      "[2021-11-25 00:51:53,374] - obspy.clients.fdsn.mass_downloader - INFO: Client 'GEONET' - Successfully requested availability (0.68 seconds)\n",
      "[2021-11-25 00:51:53,386] - obspy.clients.fdsn.mass_downloader - INFO: Client 'GEONET' - Found 1 stations (1 channels).\n",
      "[2021-11-25 00:51:53,397] - obspy.clients.fdsn.mass_downloader - INFO: Client 'GEONET' - Will attempt to download data from 1 stations.\n",
      "[2021-11-25 00:51:53,406] - obspy.clients.fdsn.mass_downloader - INFO: Client 'GEONET' - Status for 1 time intervals/channels before downloading: NEEDS_DOWNLOADING\n",
      "[2021-11-25 00:51:54,507] - obspy.clients.fdsn.mass_downloader - INFO: Client 'GEONET' - Successfully downloaded 1 channels (of 1)\n",
      "[2021-11-25 00:51:54,564] - obspy.clients.fdsn.mass_downloader - INFO: Client 'GEONET' - Launching basic QC checks...\n",
      "[2021-11-25 00:51:54,608] - obspy.clients.fdsn.mass_downloader - INFO: Client 'GEONET' - Downloaded 0.0 MB [4.44 KB/sec] of data, 0.0 MB of which were discarded afterwards.\n",
      "[2021-11-25 00:51:54,618] - obspy.clients.fdsn.mass_downloader - INFO: Client 'GEONET' - Status for 1 time intervals/channels after downloading: DOWNLOADED\n",
      "[2021-11-25 00:51:54,624] - obspy.clients.fdsn.mass_downloader - INFO: Client 'GEONET' - No station information to download.\n",
      "[2021-11-25 00:51:54,628] - obspy.clients.fdsn.mass_downloader - INFO: ============================== Final report\n",
      "[2021-11-25 00:51:54,634] - obspy.clients.fdsn.mass_downloader - INFO: 0 MiniSEED files [0.0 MB] already existed.\n",
      "[2021-11-25 00:51:54,637] - obspy.clients.fdsn.mass_downloader - INFO: 1 StationXML files [0.0 MB] already existed.\n",
      "[2021-11-25 00:51:54,639] - obspy.clients.fdsn.mass_downloader - INFO: Client 'GEONET' - Acquired 1 MiniSEED files [0.0 MB].\n",
      "[2021-11-25 00:51:54,641] - obspy.clients.fdsn.mass_downloader - INFO: Client 'GEONET' - Acquired 0 StationXML files [0.0 MB].\n",
      "[2021-11-25 00:51:54,642] - obspy.clients.fdsn.mass_downloader - INFO: Downloaded 0.0 MB in total.\n",
      "[2021-11-25 00:51:54,654] - obspy.clients.fdsn.mass_downloader - INFO: Initializing FDSN client(s) for GEONET.\n",
      "[2021-11-25 00:51:54,719] - obspy.clients.fdsn.mass_downloader - INFO: Successfully initialized 1 client(s): GEONET.\n",
      "[2021-11-25 00:51:54,724] - obspy.clients.fdsn.mass_downloader - INFO: Total acquired or preexisting stations: 0\n",
      "[2021-11-25 00:51:54,726] - obspy.clients.fdsn.mass_downloader - INFO: Client 'GEONET' - Requesting unreliable availability.\n"
     ]
    },
    {
     "name": "stdout",
     "output_type": "stream",
     "text": [
      "=================================================================\n",
      "Initiating mass download request.\n"
     ]
    },
    {
     "name": "stderr",
     "output_type": "stream",
     "text": [
      "[2021-11-25 00:51:55,431] - obspy.clients.fdsn.mass_downloader - INFO: Client 'GEONET' - Successfully requested availability (0.70 seconds)\n",
      "[2021-11-25 00:51:55,443] - obspy.clients.fdsn.mass_downloader - INFO: Client 'GEONET' - Found 1 stations (1 channels).\n",
      "[2021-11-25 00:51:55,468] - obspy.clients.fdsn.mass_downloader - INFO: Client 'GEONET' - Will attempt to download data from 1 stations.\n",
      "[2021-11-25 00:51:55,484] - obspy.clients.fdsn.mass_downloader - INFO: Client 'GEONET' - Status for 1 time intervals/channels before downloading: NEEDS_DOWNLOADING\n",
      "[2021-11-25 00:51:56,993] - obspy.clients.fdsn.mass_downloader - INFO: Client 'GEONET' - Successfully downloaded 1 channels (of 1)\n",
      "[2021-11-25 00:51:57,080] - obspy.clients.fdsn.mass_downloader - INFO: Client 'GEONET' - Launching basic QC checks...\n",
      "[2021-11-25 00:51:57,163] - obspy.clients.fdsn.mass_downloader - INFO: Client 'GEONET' - Downloaded 0.0 MB [2.90 KB/sec] of data, 0.0 MB of which were discarded afterwards.\n",
      "[2021-11-25 00:51:57,169] - obspy.clients.fdsn.mass_downloader - INFO: Client 'GEONET' - Status for 1 time intervals/channels after downloading: DOWNLOADED\n",
      "[2021-11-25 00:51:57,182] - obspy.clients.fdsn.mass_downloader - INFO: Client 'GEONET' - No station information to download.\n",
      "[2021-11-25 00:51:57,192] - obspy.clients.fdsn.mass_downloader - INFO: ============================== Final report\n",
      "[2021-11-25 00:51:57,204] - obspy.clients.fdsn.mass_downloader - INFO: 0 MiniSEED files [0.0 MB] already existed.\n",
      "[2021-11-25 00:51:57,207] - obspy.clients.fdsn.mass_downloader - INFO: 1 StationXML files [0.0 MB] already existed.\n",
      "[2021-11-25 00:51:57,208] - obspy.clients.fdsn.mass_downloader - INFO: Client 'GEONET' - Acquired 1 MiniSEED files [0.0 MB].\n",
      "[2021-11-25 00:51:57,213] - obspy.clients.fdsn.mass_downloader - INFO: Client 'GEONET' - Acquired 0 StationXML files [0.0 MB].\n",
      "[2021-11-25 00:51:57,214] - obspy.clients.fdsn.mass_downloader - INFO: Downloaded 0.0 MB in total.\n",
      "[2021-11-25 00:51:57,264] - obspy.clients.fdsn.mass_downloader - INFO: Initializing FDSN client(s) for GEONET.\n",
      "[2021-11-25 00:51:57,326] - obspy.clients.fdsn.mass_downloader - INFO: Successfully initialized 1 client(s): GEONET.\n",
      "[2021-11-25 00:51:57,335] - obspy.clients.fdsn.mass_downloader - INFO: Total acquired or preexisting stations: 0\n",
      "[2021-11-25 00:51:57,339] - obspy.clients.fdsn.mass_downloader - INFO: Client 'GEONET' - Requesting unreliable availability.\n"
     ]
    },
    {
     "name": "stdout",
     "output_type": "stream",
     "text": [
      "=================================================================\n",
      "Initiating mass download request.\n"
     ]
    },
    {
     "name": "stderr",
     "output_type": "stream",
     "text": [
      "[2021-11-25 00:51:57,989] - obspy.clients.fdsn.mass_downloader - INFO: Client 'GEONET' - Successfully requested availability (0.64 seconds)\n",
      "[2021-11-25 00:51:57,992] - obspy.clients.fdsn.mass_downloader - INFO: Client 'GEONET' - Found 1 stations (1 channels).\n",
      "[2021-11-25 00:51:57,993] - obspy.clients.fdsn.mass_downloader - INFO: Client 'GEONET' - Will attempt to download data from 1 stations.\n",
      "[2021-11-25 00:51:57,996] - obspy.clients.fdsn.mass_downloader - INFO: Client 'GEONET' - Status for 1 time intervals/channels before downloading: NEEDS_DOWNLOADING\n",
      "[2021-11-25 00:51:58,990] - obspy.clients.fdsn.mass_downloader - INFO: Client 'GEONET' - Successfully downloaded 1 channels (of 1)\n",
      "[2021-11-25 00:51:59,028] - obspy.clients.fdsn.mass_downloader - INFO: Client 'GEONET' - Launching basic QC checks...\n",
      "[2021-11-25 00:51:59,079] - obspy.clients.fdsn.mass_downloader - INFO: Client 'GEONET' - Downloaded 0.0 MB [4.39 KB/sec] of data, 0.0 MB of which were discarded afterwards.\n",
      "[2021-11-25 00:51:59,082] - obspy.clients.fdsn.mass_downloader - INFO: Client 'GEONET' - Status for 1 time intervals/channels after downloading: DOWNLOADED\n",
      "[2021-11-25 00:51:59,097] - obspy.clients.fdsn.mass_downloader - INFO: Client 'GEONET' - No station information to download.\n",
      "[2021-11-25 00:51:59,101] - obspy.clients.fdsn.mass_downloader - INFO: ============================== Final report\n",
      "[2021-11-25 00:51:59,106] - obspy.clients.fdsn.mass_downloader - INFO: 0 MiniSEED files [0.0 MB] already existed.\n",
      "[2021-11-25 00:51:59,108] - obspy.clients.fdsn.mass_downloader - INFO: 1 StationXML files [0.0 MB] already existed.\n",
      "[2021-11-25 00:51:59,110] - obspy.clients.fdsn.mass_downloader - INFO: Client 'GEONET' - Acquired 1 MiniSEED files [0.0 MB].\n",
      "[2021-11-25 00:51:59,114] - obspy.clients.fdsn.mass_downloader - INFO: Client 'GEONET' - Acquired 0 StationXML files [0.0 MB].\n",
      "[2021-11-25 00:51:59,115] - obspy.clients.fdsn.mass_downloader - INFO: Downloaded 0.0 MB in total.\n",
      "[2021-11-25 00:51:59,130] - obspy.clients.fdsn.mass_downloader - INFO: Initializing FDSN client(s) for GEONET.\n",
      "[2021-11-25 00:51:59,154] - obspy.clients.fdsn.mass_downloader - INFO: Successfully initialized 1 client(s): GEONET.\n",
      "[2021-11-25 00:51:59,157] - obspy.clients.fdsn.mass_downloader - INFO: Total acquired or preexisting stations: 0\n",
      "[2021-11-25 00:51:59,159] - obspy.clients.fdsn.mass_downloader - INFO: Client 'GEONET' - Requesting unreliable availability.\n"
     ]
    },
    {
     "name": "stdout",
     "output_type": "stream",
     "text": [
      "=================================================================\n",
      "Initiating mass download request.\n"
     ]
    },
    {
     "name": "stderr",
     "output_type": "stream",
     "text": [
      "[2021-11-25 00:51:59,754] - obspy.clients.fdsn.mass_downloader - INFO: Client 'GEONET' - Successfully requested availability (0.59 seconds)\n",
      "[2021-11-25 00:51:59,781] - obspy.clients.fdsn.mass_downloader - INFO: Client 'GEONET' - Found 1 stations (1 channels).\n",
      "[2021-11-25 00:51:59,782] - obspy.clients.fdsn.mass_downloader - INFO: Client 'GEONET' - Will attempt to download data from 1 stations.\n",
      "[2021-11-25 00:51:59,785] - obspy.clients.fdsn.mass_downloader - INFO: Client 'GEONET' - Status for 1 time intervals/channels before downloading: NEEDS_DOWNLOADING\n",
      "[2021-11-25 00:52:00,827] - obspy.clients.fdsn.mass_downloader - INFO: Client 'GEONET' - Successfully downloaded 1 channels (of 1)\n",
      "[2021-11-25 00:52:00,865] - obspy.clients.fdsn.mass_downloader - INFO: Client 'GEONET' - Launching basic QC checks...\n",
      "[2021-11-25 00:52:00,888] - obspy.clients.fdsn.mass_downloader - INFO: Client 'GEONET' - Downloaded 0.0 MB [4.25 KB/sec] of data, 0.0 MB of which were discarded afterwards.\n",
      "[2021-11-25 00:52:00,900] - obspy.clients.fdsn.mass_downloader - INFO: Client 'GEONET' - Status for 1 time intervals/channels after downloading: DOWNLOADED\n",
      "[2021-11-25 00:52:00,918] - obspy.clients.fdsn.mass_downloader - INFO: Client 'GEONET' - No station information to download.\n",
      "[2021-11-25 00:52:00,924] - obspy.clients.fdsn.mass_downloader - INFO: ============================== Final report\n",
      "[2021-11-25 00:52:00,931] - obspy.clients.fdsn.mass_downloader - INFO: 0 MiniSEED files [0.0 MB] already existed.\n",
      "[2021-11-25 00:52:00,933] - obspy.clients.fdsn.mass_downloader - INFO: 1 StationXML files [0.0 MB] already existed.\n",
      "[2021-11-25 00:52:00,934] - obspy.clients.fdsn.mass_downloader - INFO: Client 'GEONET' - Acquired 1 MiniSEED files [0.0 MB].\n",
      "[2021-11-25 00:52:00,937] - obspy.clients.fdsn.mass_downloader - INFO: Client 'GEONET' - Acquired 0 StationXML files [0.0 MB].\n",
      "[2021-11-25 00:52:00,940] - obspy.clients.fdsn.mass_downloader - INFO: Downloaded 0.0 MB in total.\n",
      "[2021-11-25 00:52:00,953] - obspy.clients.fdsn.mass_downloader - INFO: Initializing FDSN client(s) for GEONET.\n",
      "[2021-11-25 00:52:00,973] - obspy.clients.fdsn.mass_downloader - INFO: Successfully initialized 1 client(s): GEONET.\n",
      "[2021-11-25 00:52:00,986] - obspy.clients.fdsn.mass_downloader - INFO: Total acquired or preexisting stations: 0\n",
      "[2021-11-25 00:52:00,993] - obspy.clients.fdsn.mass_downloader - INFO: Client 'GEONET' - Requesting unreliable availability.\n"
     ]
    },
    {
     "name": "stdout",
     "output_type": "stream",
     "text": [
      "=================================================================\n",
      "Initiating mass download request.\n"
     ]
    },
    {
     "name": "stderr",
     "output_type": "stream",
     "text": [
      "[2021-11-25 00:52:01,700] - obspy.clients.fdsn.mass_downloader - INFO: Client 'GEONET' - Successfully requested availability (0.71 seconds)\n",
      "[2021-11-25 00:52:01,718] - obspy.clients.fdsn.mass_downloader - INFO: Client 'GEONET' - Found 1 stations (1 channels).\n",
      "[2021-11-25 00:52:01,743] - obspy.clients.fdsn.mass_downloader - INFO: Client 'GEONET' - Will attempt to download data from 1 stations.\n",
      "[2021-11-25 00:52:01,760] - obspy.clients.fdsn.mass_downloader - INFO: Client 'GEONET' - Status for 1 time intervals/channels before downloading: NEEDS_DOWNLOADING\n",
      "[2021-11-25 00:52:02,691] - obspy.clients.fdsn.mass_downloader - INFO: Client 'GEONET' - Successfully downloaded 1 channels (of 1)\n",
      "[2021-11-25 00:52:02,704] - obspy.clients.fdsn.mass_downloader - INFO: Client 'GEONET' - Launching basic QC checks...\n",
      "[2021-11-25 00:52:02,724] - obspy.clients.fdsn.mass_downloader - INFO: Client 'GEONET' - Downloaded 0.0 MB [4.43 KB/sec] of data, 0.0 MB of which were discarded afterwards.\n",
      "[2021-11-25 00:52:02,725] - obspy.clients.fdsn.mass_downloader - INFO: Client 'GEONET' - Status for 1 time intervals/channels after downloading: DOWNLOADED\n",
      "[2021-11-25 00:52:02,731] - obspy.clients.fdsn.mass_downloader - INFO: Client 'GEONET' - No station information to download.\n",
      "[2021-11-25 00:52:02,736] - obspy.clients.fdsn.mass_downloader - INFO: ============================== Final report\n",
      "[2021-11-25 00:52:02,737] - obspy.clients.fdsn.mass_downloader - INFO: 0 MiniSEED files [0.0 MB] already existed.\n",
      "[2021-11-25 00:52:02,738] - obspy.clients.fdsn.mass_downloader - INFO: 1 StationXML files [0.0 MB] already existed.\n",
      "[2021-11-25 00:52:02,738] - obspy.clients.fdsn.mass_downloader - INFO: Client 'GEONET' - Acquired 1 MiniSEED files [0.0 MB].\n",
      "[2021-11-25 00:52:02,739] - obspy.clients.fdsn.mass_downloader - INFO: Client 'GEONET' - Acquired 0 StationXML files [0.0 MB].\n",
      "[2021-11-25 00:52:02,740] - obspy.clients.fdsn.mass_downloader - INFO: Downloaded 0.0 MB in total.\n",
      "[2021-11-25 00:52:02,753] - obspy.clients.fdsn.mass_downloader - INFO: Initializing FDSN client(s) for GEONET.\n",
      "[2021-11-25 00:52:02,763] - obspy.clients.fdsn.mass_downloader - INFO: Successfully initialized 1 client(s): GEONET.\n",
      "[2021-11-25 00:52:02,765] - obspy.clients.fdsn.mass_downloader - INFO: Total acquired or preexisting stations: 0\n",
      "[2021-11-25 00:52:02,766] - obspy.clients.fdsn.mass_downloader - INFO: Client 'GEONET' - Requesting unreliable availability.\n"
     ]
    },
    {
     "name": "stdout",
     "output_type": "stream",
     "text": [
      "=================================================================\n",
      "Initiating mass download request.\n"
     ]
    },
    {
     "name": "stderr",
     "output_type": "stream",
     "text": [
      "[2021-11-25 00:52:03,340] - obspy.clients.fdsn.mass_downloader - INFO: Client 'GEONET' - Successfully requested availability (0.57 seconds)\n",
      "[2021-11-25 00:52:03,362] - obspy.clients.fdsn.mass_downloader - INFO: Client 'GEONET' - Found 1 stations (1 channels).\n",
      "[2021-11-25 00:52:03,367] - obspy.clients.fdsn.mass_downloader - INFO: Client 'GEONET' - Will attempt to download data from 1 stations.\n",
      "[2021-11-25 00:52:03,390] - obspy.clients.fdsn.mass_downloader - INFO: Client 'GEONET' - Status for 1 time intervals/channels before downloading: NEEDS_DOWNLOADING\n",
      "[2021-11-25 00:52:04,840] - obspy.clients.fdsn.mass_downloader - INFO: Client 'GEONET' - Successfully downloaded 1 channels (of 1)\n",
      "[2021-11-25 00:52:04,851] - obspy.clients.fdsn.mass_downloader - INFO: Client 'GEONET' - Launching basic QC checks...\n",
      "[2021-11-25 00:52:04,863] - obspy.clients.fdsn.mass_downloader - INFO: Client 'GEONET' - Downloaded 0.0 MB [5.52 KB/sec] of data, 0.0 MB of which were discarded afterwards.\n",
      "[2021-11-25 00:52:04,864] - obspy.clients.fdsn.mass_downloader - INFO: Client 'GEONET' - Status for 1 time intervals/channels after downloading: DOWNLOADED\n",
      "[2021-11-25 00:52:04,876] - obspy.clients.fdsn.mass_downloader - INFO: Client 'GEONET' - No station information to download.\n",
      "[2021-11-25 00:52:04,882] - obspy.clients.fdsn.mass_downloader - INFO: ============================== Final report\n",
      "[2021-11-25 00:52:04,883] - obspy.clients.fdsn.mass_downloader - INFO: 0 MiniSEED files [0.0 MB] already existed.\n",
      "[2021-11-25 00:52:04,884] - obspy.clients.fdsn.mass_downloader - INFO: 1 StationXML files [0.0 MB] already existed.\n",
      "[2021-11-25 00:52:04,885] - obspy.clients.fdsn.mass_downloader - INFO: Client 'GEONET' - Acquired 1 MiniSEED files [0.0 MB].\n",
      "[2021-11-25 00:52:04,886] - obspy.clients.fdsn.mass_downloader - INFO: Client 'GEONET' - Acquired 0 StationXML files [0.0 MB].\n",
      "[2021-11-25 00:52:04,887] - obspy.clients.fdsn.mass_downloader - INFO: Downloaded 0.0 MB in total.\n",
      "[2021-11-25 00:52:04,895] - obspy.clients.fdsn.mass_downloader - INFO: Initializing FDSN client(s) for GEONET.\n",
      "[2021-11-25 00:52:04,904] - obspy.clients.fdsn.mass_downloader - INFO: Successfully initialized 1 client(s): GEONET.\n",
      "[2021-11-25 00:52:04,907] - obspy.clients.fdsn.mass_downloader - INFO: Total acquired or preexisting stations: 0\n",
      "[2021-11-25 00:52:04,908] - obspy.clients.fdsn.mass_downloader - INFO: Client 'GEONET' - Requesting unreliable availability.\n"
     ]
    },
    {
     "name": "stdout",
     "output_type": "stream",
     "text": [
      "=================================================================\n",
      "Initiating mass download request.\n"
     ]
    },
    {
     "name": "stderr",
     "output_type": "stream",
     "text": [
      "[2021-11-25 00:52:05,479] - obspy.clients.fdsn.mass_downloader - INFO: Client 'GEONET' - Successfully requested availability (0.57 seconds)\n",
      "[2021-11-25 00:52:05,512] - obspy.clients.fdsn.mass_downloader - INFO: Client 'GEONET' - Found 1 stations (1 channels).\n",
      "[2021-11-25 00:52:05,522] - obspy.clients.fdsn.mass_downloader - INFO: Client 'GEONET' - Will attempt to download data from 1 stations.\n",
      "[2021-11-25 00:52:05,527] - obspy.clients.fdsn.mass_downloader - INFO: Client 'GEONET' - Status for 1 time intervals/channels before downloading: NEEDS_DOWNLOADING\n",
      "[2021-11-25 00:52:06,353] - obspy.clients.fdsn.mass_downloader - INFO: Client 'GEONET' - Successfully downloaded 1 channels (of 1)\n",
      "[2021-11-25 00:52:06,366] - obspy.clients.fdsn.mass_downloader - INFO: Client 'GEONET' - Launching basic QC checks...\n",
      "[2021-11-25 00:52:06,389] - obspy.clients.fdsn.mass_downloader - INFO: Client 'GEONET' - Downloaded 0.0 MB [3.68 KB/sec] of data, 0.0 MB of which were discarded afterwards.\n",
      "[2021-11-25 00:52:06,391] - obspy.clients.fdsn.mass_downloader - INFO: Client 'GEONET' - Status for 1 time intervals/channels after downloading: DOWNLOADED\n",
      "[2021-11-25 00:52:06,400] - obspy.clients.fdsn.mass_downloader - INFO: Client 'GEONET' - No station information to download.\n",
      "[2021-11-25 00:52:06,406] - obspy.clients.fdsn.mass_downloader - INFO: ============================== Final report\n",
      "[2021-11-25 00:52:06,407] - obspy.clients.fdsn.mass_downloader - INFO: 0 MiniSEED files [0.0 MB] already existed.\n",
      "[2021-11-25 00:52:06,409] - obspy.clients.fdsn.mass_downloader - INFO: 1 StationXML files [0.0 MB] already existed.\n",
      "[2021-11-25 00:52:06,410] - obspy.clients.fdsn.mass_downloader - INFO: Client 'GEONET' - Acquired 1 MiniSEED files [0.0 MB].\n",
      "[2021-11-25 00:52:06,414] - obspy.clients.fdsn.mass_downloader - INFO: Client 'GEONET' - Acquired 0 StationXML files [0.0 MB].\n",
      "[2021-11-25 00:52:06,415] - obspy.clients.fdsn.mass_downloader - INFO: Downloaded 0.0 MB in total.\n",
      "[2021-11-25 00:52:06,461] - obspy.clients.fdsn.mass_downloader - INFO: Initializing FDSN client(s) for GEONET.\n",
      "[2021-11-25 00:52:06,481] - obspy.clients.fdsn.mass_downloader - INFO: Successfully initialized 1 client(s): GEONET.\n",
      "[2021-11-25 00:52:06,484] - obspy.clients.fdsn.mass_downloader - INFO: Total acquired or preexisting stations: 0\n",
      "[2021-11-25 00:52:06,486] - obspy.clients.fdsn.mass_downloader - INFO: Client 'GEONET' - Requesting unreliable availability.\n"
     ]
    },
    {
     "name": "stdout",
     "output_type": "stream",
     "text": [
      "=================================================================\n",
      "Initiating mass download request.\n"
     ]
    },
    {
     "name": "stderr",
     "output_type": "stream",
     "text": [
      "[2021-11-25 00:52:07,215] - obspy.clients.fdsn.mass_downloader - INFO: Client 'GEONET' - Successfully requested availability (0.73 seconds)\n",
      "[2021-11-25 00:52:07,233] - obspy.clients.fdsn.mass_downloader - INFO: Client 'GEONET' - Found 1 stations (1 channels).\n",
      "[2021-11-25 00:52:07,248] - obspy.clients.fdsn.mass_downloader - INFO: Client 'GEONET' - Will attempt to download data from 1 stations.\n",
      "[2021-11-25 00:52:07,258] - obspy.clients.fdsn.mass_downloader - INFO: Client 'GEONET' - Status for 1 time intervals/channels before downloading: NEEDS_DOWNLOADING\n",
      "[2021-11-25 00:52:08,185] - obspy.clients.fdsn.mass_downloader - INFO: Client 'GEONET' - Successfully downloaded 1 channels (of 1)\n",
      "[2021-11-25 00:52:08,198] - obspy.clients.fdsn.mass_downloader - INFO: Client 'GEONET' - Launching basic QC checks...\n",
      "[2021-11-25 00:52:08,217] - obspy.clients.fdsn.mass_downloader - INFO: Client 'GEONET' - Downloaded 0.0 MB [3.97 KB/sec] of data, 0.0 MB of which were discarded afterwards.\n",
      "[2021-11-25 00:52:08,221] - obspy.clients.fdsn.mass_downloader - INFO: Client 'GEONET' - Status for 1 time intervals/channels after downloading: DOWNLOADED\n",
      "[2021-11-25 00:52:08,227] - obspy.clients.fdsn.mass_downloader - INFO: Client 'GEONET' - No station information to download.\n",
      "[2021-11-25 00:52:08,233] - obspy.clients.fdsn.mass_downloader - INFO: ============================== Final report\n",
      "[2021-11-25 00:52:08,235] - obspy.clients.fdsn.mass_downloader - INFO: 0 MiniSEED files [0.0 MB] already existed.\n",
      "[2021-11-25 00:52:08,238] - obspy.clients.fdsn.mass_downloader - INFO: 1 StationXML files [0.0 MB] already existed.\n",
      "[2021-11-25 00:52:08,241] - obspy.clients.fdsn.mass_downloader - INFO: Client 'GEONET' - Acquired 1 MiniSEED files [0.0 MB].\n",
      "[2021-11-25 00:52:08,244] - obspy.clients.fdsn.mass_downloader - INFO: Client 'GEONET' - Acquired 0 StationXML files [0.0 MB].\n",
      "[2021-11-25 00:52:08,245] - obspy.clients.fdsn.mass_downloader - INFO: Downloaded 0.0 MB in total.\n",
      "[2021-11-25 00:52:08,259] - obspy.clients.fdsn.mass_downloader - INFO: Initializing FDSN client(s) for GEONET.\n",
      "[2021-11-25 00:52:08,296] - obspy.clients.fdsn.mass_downloader - INFO: Successfully initialized 1 client(s): GEONET.\n",
      "[2021-11-25 00:52:08,299] - obspy.clients.fdsn.mass_downloader - INFO: Total acquired or preexisting stations: 0\n",
      "[2021-11-25 00:52:08,303] - obspy.clients.fdsn.mass_downloader - INFO: Client 'GEONET' - Requesting unreliable availability.\n"
     ]
    },
    {
     "name": "stdout",
     "output_type": "stream",
     "text": [
      "=================================================================\n",
      "Initiating mass download request.\n"
     ]
    },
    {
     "name": "stderr",
     "output_type": "stream",
     "text": [
      "[2021-11-25 00:52:08,902] - obspy.clients.fdsn.mass_downloader - INFO: Client 'GEONET' - Successfully requested availability (0.60 seconds)\n",
      "[2021-11-25 00:52:08,927] - obspy.clients.fdsn.mass_downloader - INFO: Client 'GEONET' - Found 1 stations (1 channels).\n",
      "[2021-11-25 00:52:08,930] - obspy.clients.fdsn.mass_downloader - INFO: Client 'GEONET' - Will attempt to download data from 1 stations.\n",
      "[2021-11-25 00:52:08,934] - obspy.clients.fdsn.mass_downloader - INFO: Client 'GEONET' - Status for 1 time intervals/channels before downloading: NEEDS_DOWNLOADING\n",
      "[2021-11-25 00:52:09,992] - obspy.clients.fdsn.mass_downloader - INFO: Client 'GEONET' - Successfully downloaded 1 channels (of 1)\n",
      "[2021-11-25 00:52:10,013] - obspy.clients.fdsn.mass_downloader - INFO: Client 'GEONET' - Launching basic QC checks...\n",
      "[2021-11-25 00:52:10,048] - obspy.clients.fdsn.mass_downloader - INFO: Client 'GEONET' - Downloaded 0.0 MB [5.18 KB/sec] of data, 0.0 MB of which were discarded afterwards.\n",
      "[2021-11-25 00:52:10,051] - obspy.clients.fdsn.mass_downloader - INFO: Client 'GEONET' - Status for 1 time intervals/channels after downloading: DOWNLOADED\n",
      "[2021-11-25 00:52:10,062] - obspy.clients.fdsn.mass_downloader - INFO: Client 'GEONET' - No station information to download.\n",
      "[2021-11-25 00:52:10,074] - obspy.clients.fdsn.mass_downloader - INFO: ============================== Final report\n",
      "[2021-11-25 00:52:10,081] - obspy.clients.fdsn.mass_downloader - INFO: 0 MiniSEED files [0.0 MB] already existed.\n",
      "[2021-11-25 00:52:10,089] - obspy.clients.fdsn.mass_downloader - INFO: 1 StationXML files [0.0 MB] already existed.\n",
      "[2021-11-25 00:52:10,089] - obspy.clients.fdsn.mass_downloader - INFO: Client 'GEONET' - Acquired 1 MiniSEED files [0.0 MB].\n",
      "[2021-11-25 00:52:10,092] - obspy.clients.fdsn.mass_downloader - INFO: Client 'GEONET' - Acquired 0 StationXML files [0.0 MB].\n",
      "[2021-11-25 00:52:10,092] - obspy.clients.fdsn.mass_downloader - INFO: Downloaded 0.0 MB in total.\n",
      "[2021-11-25 00:52:10,131] - obspy.clients.fdsn.mass_downloader - INFO: Initializing FDSN client(s) for GEONET.\n",
      "[2021-11-25 00:52:10,159] - obspy.clients.fdsn.mass_downloader - INFO: Successfully initialized 1 client(s): GEONET.\n",
      "[2021-11-25 00:52:10,174] - obspy.clients.fdsn.mass_downloader - INFO: Total acquired or preexisting stations: 0\n",
      "[2021-11-25 00:52:10,179] - obspy.clients.fdsn.mass_downloader - INFO: Client 'GEONET' - Requesting unreliable availability.\n"
     ]
    },
    {
     "name": "stdout",
     "output_type": "stream",
     "text": [
      "=================================================================\n",
      "Initiating mass download request.\n"
     ]
    },
    {
     "name": "stderr",
     "output_type": "stream",
     "text": [
      "[2021-11-25 00:52:10,738] - obspy.clients.fdsn.mass_downloader - INFO: Client 'GEONET' - Successfully requested availability (0.56 seconds)\n",
      "[2021-11-25 00:52:10,748] - obspy.clients.fdsn.mass_downloader - INFO: Client 'GEONET' - Found 1 stations (1 channels).\n",
      "[2021-11-25 00:52:10,749] - obspy.clients.fdsn.mass_downloader - INFO: Client 'GEONET' - Will attempt to download data from 1 stations.\n",
      "[2021-11-25 00:52:10,754] - obspy.clients.fdsn.mass_downloader - INFO: Client 'GEONET' - Status for 1 time intervals/channels before downloading: NEEDS_DOWNLOADING\n",
      "[2021-11-25 00:52:11,603] - obspy.clients.fdsn.mass_downloader - INFO: Client 'GEONET' - Successfully downloaded 1 channels (of 1)\n",
      "[2021-11-25 00:52:11,682] - obspy.clients.fdsn.mass_downloader - INFO: Client 'GEONET' - Launching basic QC checks...\n",
      "[2021-11-25 00:52:11,750] - obspy.clients.fdsn.mass_downloader - INFO: Client 'GEONET' - Downloaded 0.0 MB [3.81 KB/sec] of data, 0.0 MB of which were discarded afterwards.\n",
      "[2021-11-25 00:52:11,755] - obspy.clients.fdsn.mass_downloader - INFO: Client 'GEONET' - Status for 1 time intervals/channels after downloading: DOWNLOADED\n",
      "[2021-11-25 00:52:12,390] - obspy.clients.fdsn.mass_downloader - INFO: Client 'GEONET' - Successfully downloaded 'normal/stations/NZ.BKZ.xml'.\n",
      "[2021-11-25 00:52:12,403] - obspy.clients.fdsn.mass_downloader - INFO: Client 'GEONET' - Downloaded 1 station files [0.0 MB] in 0.6 seconds [14.25 KB/sec].\n",
      "[2021-11-25 00:52:12,410] - obspy.clients.fdsn.mass_downloader - INFO: ============================== Final report\n",
      "[2021-11-25 00:52:12,411] - obspy.clients.fdsn.mass_downloader - INFO: 0 MiniSEED files [0.0 MB] already existed.\n",
      "[2021-11-25 00:52:12,412] - obspy.clients.fdsn.mass_downloader - INFO: 0 StationXML files [0.0 MB] already existed.\n",
      "[2021-11-25 00:52:12,413] - obspy.clients.fdsn.mass_downloader - INFO: Client 'GEONET' - Acquired 1 MiniSEED files [0.0 MB].\n",
      "[2021-11-25 00:52:12,414] - obspy.clients.fdsn.mass_downloader - INFO: Client 'GEONET' - Acquired 1 StationXML files [0.0 MB].\n",
      "[2021-11-25 00:52:12,415] - obspy.clients.fdsn.mass_downloader - INFO: Downloaded 0.0 MB in total.\n",
      "[2021-11-25 00:52:12,424] - obspy.clients.fdsn.mass_downloader - INFO: Initializing FDSN client(s) for GEONET.\n",
      "[2021-11-25 00:52:12,434] - obspy.clients.fdsn.mass_downloader - INFO: Successfully initialized 1 client(s): GEONET.\n",
      "[2021-11-25 00:52:12,435] - obspy.clients.fdsn.mass_downloader - INFO: Total acquired or preexisting stations: 0\n",
      "[2021-11-25 00:52:12,435] - obspy.clients.fdsn.mass_downloader - INFO: Client 'GEONET' - Requesting unreliable availability.\n"
     ]
    },
    {
     "name": "stdout",
     "output_type": "stream",
     "text": [
      "=================================================================\n",
      "Initiating mass download request.\n"
     ]
    },
    {
     "name": "stderr",
     "output_type": "stream",
     "text": [
      "[2021-11-25 00:52:13,146] - obspy.clients.fdsn.mass_downloader - INFO: Client 'GEONET' - Successfully requested availability (0.71 seconds)\n",
      "[2021-11-25 00:52:13,151] - obspy.clients.fdsn.mass_downloader - INFO: Client 'GEONET' - Found 1 stations (1 channels).\n",
      "[2021-11-25 00:52:13,162] - obspy.clients.fdsn.mass_downloader - INFO: Client 'GEONET' - Will attempt to download data from 1 stations.\n",
      "[2021-11-25 00:52:13,171] - obspy.clients.fdsn.mass_downloader - INFO: Client 'GEONET' - Status for 1 time intervals/channels before downloading: NEEDS_DOWNLOADING\n",
      "[2021-11-25 00:52:14,212] - obspy.clients.fdsn.mass_downloader - INFO: Client 'GEONET' - Successfully downloaded 1 channels (of 1)\n",
      "[2021-11-25 00:52:14,220] - obspy.clients.fdsn.mass_downloader - INFO: Client 'GEONET' - Launching basic QC checks...\n",
      "[2021-11-25 00:52:14,227] - obspy.clients.fdsn.mass_downloader - INFO: Client 'GEONET' - Downloaded 0.0 MB [2.90 KB/sec] of data, 0.0 MB of which were discarded afterwards.\n",
      "[2021-11-25 00:52:14,227] - obspy.clients.fdsn.mass_downloader - INFO: Client 'GEONET' - Status for 1 time intervals/channels after downloading: DOWNLOADED\n",
      "[2021-11-25 00:52:14,231] - obspy.clients.fdsn.mass_downloader - INFO: Client 'GEONET' - No station information to download.\n",
      "[2021-11-25 00:52:14,232] - obspy.clients.fdsn.mass_downloader - INFO: ============================== Final report\n",
      "[2021-11-25 00:52:14,233] - obspy.clients.fdsn.mass_downloader - INFO: 0 MiniSEED files [0.0 MB] already existed.\n",
      "[2021-11-25 00:52:14,233] - obspy.clients.fdsn.mass_downloader - INFO: 1 StationXML files [0.0 MB] already existed.\n",
      "[2021-11-25 00:52:14,233] - obspy.clients.fdsn.mass_downloader - INFO: Client 'GEONET' - Acquired 1 MiniSEED files [0.0 MB].\n",
      "[2021-11-25 00:52:14,233] - obspy.clients.fdsn.mass_downloader - INFO: Client 'GEONET' - Acquired 0 StationXML files [0.0 MB].\n",
      "[2021-11-25 00:52:14,234] - obspy.clients.fdsn.mass_downloader - INFO: Downloaded 0.0 MB in total.\n",
      "[2021-11-25 00:52:14,236] - obspy.clients.fdsn.mass_downloader - INFO: Initializing FDSN client(s) for GEONET.\n",
      "[2021-11-25 00:52:14,244] - obspy.clients.fdsn.mass_downloader - INFO: Successfully initialized 1 client(s): GEONET.\n",
      "[2021-11-25 00:52:14,247] - obspy.clients.fdsn.mass_downloader - INFO: Total acquired or preexisting stations: 0\n",
      "[2021-11-25 00:52:14,247] - obspy.clients.fdsn.mass_downloader - INFO: Client 'GEONET' - Requesting unreliable availability.\n"
     ]
    },
    {
     "name": "stdout",
     "output_type": "stream",
     "text": [
      "=================================================================\n",
      "Initiating mass download request.\n"
     ]
    },
    {
     "name": "stderr",
     "output_type": "stream",
     "text": [
      "[2021-11-25 00:52:14,929] - obspy.clients.fdsn.mass_downloader - INFO: Client 'GEONET' - Successfully requested availability (0.68 seconds)\n",
      "[2021-11-25 00:52:14,940] - obspy.clients.fdsn.mass_downloader - INFO: Client 'GEONET' - Found 1 stations (1 channels).\n",
      "[2021-11-25 00:52:14,943] - obspy.clients.fdsn.mass_downloader - INFO: Client 'GEONET' - Will attempt to download data from 1 stations.\n",
      "[2021-11-25 00:52:14,946] - obspy.clients.fdsn.mass_downloader - INFO: Client 'GEONET' - Status for 1 time intervals/channels before downloading: NEEDS_DOWNLOADING\n",
      "[2021-11-25 00:52:15,771] - obspy.clients.fdsn.mass_downloader - INFO: Client 'GEONET' - Successfully downloaded 1 channels (of 1)\n",
      "[2021-11-25 00:52:15,779] - obspy.clients.fdsn.mass_downloader - INFO: Client 'GEONET' - Launching basic QC checks...\n",
      "[2021-11-25 00:52:15,795] - obspy.clients.fdsn.mass_downloader - INFO: Client 'GEONET' - Downloaded 0.0 MB [4.26 KB/sec] of data, 0.0 MB of which were discarded afterwards.\n",
      "[2021-11-25 00:52:15,796] - obspy.clients.fdsn.mass_downloader - INFO: Client 'GEONET' - Status for 1 time intervals/channels after downloading: DOWNLOADED\n",
      "[2021-11-25 00:52:15,804] - obspy.clients.fdsn.mass_downloader - INFO: Client 'GEONET' - No station information to download.\n",
      "[2021-11-25 00:52:15,805] - obspy.clients.fdsn.mass_downloader - INFO: ============================== Final report\n",
      "[2021-11-25 00:52:15,806] - obspy.clients.fdsn.mass_downloader - INFO: 0 MiniSEED files [0.0 MB] already existed.\n",
      "[2021-11-25 00:52:15,806] - obspy.clients.fdsn.mass_downloader - INFO: 1 StationXML files [0.0 MB] already existed.\n",
      "[2021-11-25 00:52:15,807] - obspy.clients.fdsn.mass_downloader - INFO: Client 'GEONET' - Acquired 1 MiniSEED files [0.0 MB].\n",
      "[2021-11-25 00:52:15,807] - obspy.clients.fdsn.mass_downloader - INFO: Client 'GEONET' - Acquired 0 StationXML files [0.0 MB].\n",
      "[2021-11-25 00:52:15,807] - obspy.clients.fdsn.mass_downloader - INFO: Downloaded 0.0 MB in total.\n",
      "[2021-11-25 00:52:15,813] - obspy.clients.fdsn.mass_downloader - INFO: Initializing FDSN client(s) for GEONET.\n",
      "[2021-11-25 00:52:15,818] - obspy.clients.fdsn.mass_downloader - INFO: Successfully initialized 1 client(s): GEONET.\n",
      "[2021-11-25 00:52:15,822] - obspy.clients.fdsn.mass_downloader - INFO: Total acquired or preexisting stations: 0\n",
      "[2021-11-25 00:52:15,824] - obspy.clients.fdsn.mass_downloader - INFO: Client 'GEONET' - Requesting unreliable availability.\n"
     ]
    },
    {
     "name": "stdout",
     "output_type": "stream",
     "text": [
      "=================================================================\n",
      "Initiating mass download request.\n"
     ]
    },
    {
     "name": "stderr",
     "output_type": "stream",
     "text": [
      "[2021-11-25 00:52:16,443] - obspy.clients.fdsn.mass_downloader - INFO: Client 'GEONET' - Successfully requested availability (0.62 seconds)\n",
      "[2021-11-25 00:52:16,457] - obspy.clients.fdsn.mass_downloader - INFO: Client 'GEONET' - Found 1 stations (1 channels).\n",
      "[2021-11-25 00:52:16,462] - obspy.clients.fdsn.mass_downloader - INFO: Client 'GEONET' - Will attempt to download data from 1 stations.\n",
      "[2021-11-25 00:52:16,470] - obspy.clients.fdsn.mass_downloader - INFO: Client 'GEONET' - Status for 1 time intervals/channels before downloading: NEEDS_DOWNLOADING\n",
      "[2021-11-25 00:52:17,408] - obspy.clients.fdsn.mass_downloader - INFO: Client 'GEONET' - Successfully downloaded 1 channels (of 1)\n",
      "[2021-11-25 00:52:17,615] - obspy.clients.fdsn.mass_downloader - INFO: Client 'GEONET' - Launching basic QC checks...\n",
      "[2021-11-25 00:52:17,685] - obspy.clients.fdsn.mass_downloader - INFO: Client 'GEONET' - Downloaded 0.0 MB [3.99 KB/sec] of data, 0.0 MB of which were discarded afterwards.\n",
      "[2021-11-25 00:52:17,691] - obspy.clients.fdsn.mass_downloader - INFO: Client 'GEONET' - Status for 1 time intervals/channels after downloading: DOWNLOADED\n",
      "[2021-11-25 00:52:17,768] - obspy.clients.fdsn.mass_downloader - INFO: Client 'GEONET' - No station information to download.\n",
      "[2021-11-25 00:52:17,775] - obspy.clients.fdsn.mass_downloader - INFO: ============================== Final report\n",
      "[2021-11-25 00:52:17,784] - obspy.clients.fdsn.mass_downloader - INFO: 0 MiniSEED files [0.0 MB] already existed.\n",
      "[2021-11-25 00:52:17,788] - obspy.clients.fdsn.mass_downloader - INFO: 1 StationXML files [0.0 MB] already existed.\n",
      "[2021-11-25 00:52:17,791] - obspy.clients.fdsn.mass_downloader - INFO: Client 'GEONET' - Acquired 1 MiniSEED files [0.0 MB].\n",
      "[2021-11-25 00:52:17,791] - obspy.clients.fdsn.mass_downloader - INFO: Client 'GEONET' - Acquired 0 StationXML files [0.0 MB].\n",
      "[2021-11-25 00:52:17,792] - obspy.clients.fdsn.mass_downloader - INFO: Downloaded 0.0 MB in total.\n",
      "[2021-11-25 00:52:17,838] - obspy.clients.fdsn.mass_downloader - INFO: Initializing FDSN client(s) for GEONET.\n",
      "[2021-11-25 00:52:17,875] - obspy.clients.fdsn.mass_downloader - INFO: Successfully initialized 1 client(s): GEONET.\n",
      "[2021-11-25 00:52:17,884] - obspy.clients.fdsn.mass_downloader - INFO: Total acquired or preexisting stations: 0\n",
      "[2021-11-25 00:52:17,887] - obspy.clients.fdsn.mass_downloader - INFO: Client 'GEONET' - Requesting unreliable availability.\n"
     ]
    },
    {
     "name": "stdout",
     "output_type": "stream",
     "text": [
      "=================================================================\n",
      "Initiating mass download request.\n"
     ]
    },
    {
     "name": "stderr",
     "output_type": "stream",
     "text": [
      "[2021-11-25 00:52:18,628] - obspy.clients.fdsn.mass_downloader - INFO: Client 'GEONET' - Successfully requested availability (0.74 seconds)\n",
      "[2021-11-25 00:52:18,686] - obspy.clients.fdsn.mass_downloader - INFO: Client 'GEONET' - Found 1 stations (1 channels).\n",
      "[2021-11-25 00:52:18,694] - obspy.clients.fdsn.mass_downloader - INFO: Client 'GEONET' - Will attempt to download data from 1 stations.\n",
      "[2021-11-25 00:52:18,701] - obspy.clients.fdsn.mass_downloader - INFO: Client 'GEONET' - Status for 1 time intervals/channels before downloading: NEEDS_DOWNLOADING\n",
      "[2021-11-25 00:52:19,738] - obspy.clients.fdsn.mass_downloader - INFO: Client 'GEONET' - Successfully downloaded 1 channels (of 1)\n",
      "[2021-11-25 00:52:20,005] - obspy.clients.fdsn.mass_downloader - INFO: Client 'GEONET' - Launching basic QC checks...\n",
      "[2021-11-25 00:52:20,088] - obspy.clients.fdsn.mass_downloader - INFO: Client 'GEONET' - Downloaded 0.0 MB [2.37 KB/sec] of data, 0.0 MB of which were discarded afterwards.\n",
      "[2021-11-25 00:52:20,099] - obspy.clients.fdsn.mass_downloader - INFO: Client 'GEONET' - Status for 1 time intervals/channels after downloading: DOWNLOADED\n",
      "[2021-11-25 00:52:20,136] - obspy.clients.fdsn.mass_downloader - INFO: Client 'GEONET' - No station information to download.\n",
      "[2021-11-25 00:52:20,142] - obspy.clients.fdsn.mass_downloader - INFO: ============================== Final report\n",
      "[2021-11-25 00:52:20,145] - obspy.clients.fdsn.mass_downloader - INFO: 0 MiniSEED files [0.0 MB] already existed.\n",
      "[2021-11-25 00:52:20,151] - obspy.clients.fdsn.mass_downloader - INFO: 1 StationXML files [0.0 MB] already existed.\n",
      "[2021-11-25 00:52:20,151] - obspy.clients.fdsn.mass_downloader - INFO: Client 'GEONET' - Acquired 1 MiniSEED files [0.0 MB].\n",
      "[2021-11-25 00:52:20,158] - obspy.clients.fdsn.mass_downloader - INFO: Client 'GEONET' - Acquired 0 StationXML files [0.0 MB].\n",
      "[2021-11-25 00:52:20,160] - obspy.clients.fdsn.mass_downloader - INFO: Downloaded 0.0 MB in total.\n",
      "[2021-11-25 00:52:20,190] - obspy.clients.fdsn.mass_downloader - INFO: Initializing FDSN client(s) for GEONET.\n",
      "[2021-11-25 00:52:20,228] - obspy.clients.fdsn.mass_downloader - INFO: Successfully initialized 1 client(s): GEONET.\n",
      "[2021-11-25 00:52:20,239] - obspy.clients.fdsn.mass_downloader - INFO: Total acquired or preexisting stations: 0\n",
      "[2021-11-25 00:52:20,244] - obspy.clients.fdsn.mass_downloader - INFO: Client 'GEONET' - Requesting unreliable availability.\n"
     ]
    },
    {
     "name": "stdout",
     "output_type": "stream",
     "text": [
      "=================================================================\n",
      "Initiating mass download request.\n"
     ]
    },
    {
     "name": "stderr",
     "output_type": "stream",
     "text": [
      "[2021-11-25 00:52:20,971] - obspy.clients.fdsn.mass_downloader - INFO: Client 'GEONET' - Successfully requested availability (0.72 seconds)\n",
      "[2021-11-25 00:52:21,162] - obspy.clients.fdsn.mass_downloader - INFO: Client 'GEONET' - Found 1 stations (1 channels).\n",
      "[2021-11-25 00:52:21,212] - obspy.clients.fdsn.mass_downloader - INFO: Client 'GEONET' - Will attempt to download data from 1 stations.\n",
      "[2021-11-25 00:52:21,217] - obspy.clients.fdsn.mass_downloader - INFO: Client 'GEONET' - Status for 1 time intervals/channels before downloading: NEEDS_DOWNLOADING\n",
      "[2021-11-25 00:52:22,210] - obspy.clients.fdsn.mass_downloader - INFO: Client 'GEONET' - Successfully downloaded 1 channels (of 1)\n",
      "[2021-11-25 00:52:22,217] - obspy.clients.fdsn.mass_downloader - INFO: Client 'GEONET' - Launching basic QC checks...\n",
      "[2021-11-25 00:52:22,226] - obspy.clients.fdsn.mass_downloader - INFO: Client 'GEONET' - Downloaded 0.0 MB [4.08 KB/sec] of data, 0.0 MB of which were discarded afterwards.\n",
      "[2021-11-25 00:52:22,229] - obspy.clients.fdsn.mass_downloader - INFO: Client 'GEONET' - Status for 1 time intervals/channels after downloading: DOWNLOADED\n",
      "[2021-11-25 00:52:22,237] - obspy.clients.fdsn.mass_downloader - INFO: Client 'GEONET' - No station information to download.\n",
      "[2021-11-25 00:52:22,242] - obspy.clients.fdsn.mass_downloader - INFO: ============================== Final report\n",
      "[2021-11-25 00:52:22,244] - obspy.clients.fdsn.mass_downloader - INFO: 0 MiniSEED files [0.0 MB] already existed.\n",
      "[2021-11-25 00:52:22,245] - obspy.clients.fdsn.mass_downloader - INFO: 1 StationXML files [0.0 MB] already existed.\n",
      "[2021-11-25 00:52:22,246] - obspy.clients.fdsn.mass_downloader - INFO: Client 'GEONET' - Acquired 1 MiniSEED files [0.0 MB].\n",
      "[2021-11-25 00:52:22,247] - obspy.clients.fdsn.mass_downloader - INFO: Client 'GEONET' - Acquired 0 StationXML files [0.0 MB].\n",
      "[2021-11-25 00:52:22,247] - obspy.clients.fdsn.mass_downloader - INFO: Downloaded 0.0 MB in total.\n",
      "[2021-11-25 00:52:22,254] - obspy.clients.fdsn.mass_downloader - INFO: Initializing FDSN client(s) for GEONET.\n",
      "[2021-11-25 00:52:22,264] - obspy.clients.fdsn.mass_downloader - INFO: Successfully initialized 1 client(s): GEONET.\n",
      "[2021-11-25 00:52:22,265] - obspy.clients.fdsn.mass_downloader - INFO: Total acquired or preexisting stations: 0\n",
      "[2021-11-25 00:52:22,265] - obspy.clients.fdsn.mass_downloader - INFO: Client 'GEONET' - Requesting unreliable availability.\n"
     ]
    },
    {
     "name": "stdout",
     "output_type": "stream",
     "text": [
      "=================================================================\n",
      "Initiating mass download request.\n"
     ]
    },
    {
     "name": "stderr",
     "output_type": "stream",
     "text": [
      "[2021-11-25 00:52:22,825] - obspy.clients.fdsn.mass_downloader - INFO: Client 'GEONET' - Successfully requested availability (0.56 seconds)\n",
      "[2021-11-25 00:52:22,837] - obspy.clients.fdsn.mass_downloader - INFO: Client 'GEONET' - Found 1 stations (1 channels).\n",
      "[2021-11-25 00:52:22,838] - obspy.clients.fdsn.mass_downloader - INFO: Client 'GEONET' - Will attempt to download data from 1 stations.\n",
      "[2021-11-25 00:52:22,843] - obspy.clients.fdsn.mass_downloader - INFO: Client 'GEONET' - Status for 1 time intervals/channels before downloading: NEEDS_DOWNLOADING\n",
      "[2021-11-25 00:52:23,702] - obspy.clients.fdsn.mass_downloader - INFO: Client 'GEONET' - Successfully downloaded 1 channels (of 1)\n",
      "[2021-11-25 00:52:23,758] - obspy.clients.fdsn.mass_downloader - INFO: Client 'GEONET' - Launching basic QC checks...\n",
      "[2021-11-25 00:52:23,811] - obspy.clients.fdsn.mass_downloader - INFO: Client 'GEONET' - Downloaded 0.0 MB [3.85 KB/sec] of data, 0.0 MB of which were discarded afterwards.\n",
      "[2021-11-25 00:52:23,815] - obspy.clients.fdsn.mass_downloader - INFO: Client 'GEONET' - Status for 1 time intervals/channels after downloading: DOWNLOADED\n",
      "[2021-11-25 00:52:23,831] - obspy.clients.fdsn.mass_downloader - INFO: Client 'GEONET' - No station information to download.\n",
      "[2021-11-25 00:52:23,836] - obspy.clients.fdsn.mass_downloader - INFO: ============================== Final report\n",
      "[2021-11-25 00:52:23,839] - obspy.clients.fdsn.mass_downloader - INFO: 0 MiniSEED files [0.0 MB] already existed.\n",
      "[2021-11-25 00:52:23,844] - obspy.clients.fdsn.mass_downloader - INFO: 1 StationXML files [0.0 MB] already existed.\n",
      "[2021-11-25 00:52:23,849] - obspy.clients.fdsn.mass_downloader - INFO: Client 'GEONET' - Acquired 1 MiniSEED files [0.0 MB].\n",
      "[2021-11-25 00:52:23,852] - obspy.clients.fdsn.mass_downloader - INFO: Client 'GEONET' - Acquired 0 StationXML files [0.0 MB].\n",
      "[2021-11-25 00:52:23,856] - obspy.clients.fdsn.mass_downloader - INFO: Downloaded 0.0 MB in total.\n",
      "[2021-11-25 00:52:23,877] - obspy.clients.fdsn.mass_downloader - INFO: Initializing FDSN client(s) for GEONET.\n",
      "[2021-11-25 00:52:23,917] - obspy.clients.fdsn.mass_downloader - INFO: Successfully initialized 1 client(s): GEONET.\n",
      "[2021-11-25 00:52:23,927] - obspy.clients.fdsn.mass_downloader - INFO: Total acquired or preexisting stations: 0\n",
      "[2021-11-25 00:52:23,928] - obspy.clients.fdsn.mass_downloader - INFO: Client 'GEONET' - Requesting unreliable availability.\n"
     ]
    },
    {
     "name": "stdout",
     "output_type": "stream",
     "text": [
      "=================================================================\n",
      "Initiating mass download request.\n"
     ]
    },
    {
     "name": "stderr",
     "output_type": "stream",
     "text": [
      "[2021-11-25 00:52:24,607] - obspy.clients.fdsn.mass_downloader - INFO: Client 'GEONET' - No data available for request.\n",
      "[2021-11-25 00:52:24,617] - obspy.clients.fdsn.mass_downloader - INFO: Client 'GEONET' - No data available.\n",
      "[2021-11-25 00:52:24,618] - obspy.clients.fdsn.mass_downloader - INFO: ============================== Final report\n",
      "[2021-11-25 00:52:24,622] - obspy.clients.fdsn.mass_downloader - INFO: 0 MiniSEED files [0.0 MB] already existed.\n",
      "[2021-11-25 00:52:24,627] - obspy.clients.fdsn.mass_downloader - INFO: 0 StationXML files [0.0 MB] already existed.\n",
      "[2021-11-25 00:52:24,631] - obspy.clients.fdsn.mass_downloader - INFO: Client 'GEONET' - Acquired 0 MiniSEED files [0.0 MB].\n",
      "[2021-11-25 00:52:24,632] - obspy.clients.fdsn.mass_downloader - INFO: Client 'GEONET' - Acquired 0 StationXML files [0.0 MB].\n",
      "[2021-11-25 00:52:24,634] - obspy.clients.fdsn.mass_downloader - INFO: Downloaded 0.0 MB in total.\n",
      "[2021-11-25 00:52:24,648] - obspy.clients.fdsn.mass_downloader - INFO: Initializing FDSN client(s) for GEONET.\n",
      "[2021-11-25 00:52:24,712] - obspy.clients.fdsn.mass_downloader - INFO: Successfully initialized 1 client(s): GEONET.\n",
      "[2021-11-25 00:52:24,718] - obspy.clients.fdsn.mass_downloader - INFO: Total acquired or preexisting stations: 0\n",
      "[2021-11-25 00:52:24,720] - obspy.clients.fdsn.mass_downloader - INFO: Client 'GEONET' - Requesting unreliable availability.\n"
     ]
    },
    {
     "name": "stdout",
     "output_type": "stream",
     "text": [
      "=================================================================\n",
      "Initiating mass download request.\n"
     ]
    },
    {
     "name": "stderr",
     "output_type": "stream",
     "text": [
      "[2021-11-25 00:52:25,343] - obspy.clients.fdsn.mass_downloader - INFO: Client 'GEONET' - Successfully requested availability (0.62 seconds)\n",
      "[2021-11-25 00:52:25,364] - obspy.clients.fdsn.mass_downloader - INFO: Client 'GEONET' - Found 1 stations (1 channels).\n",
      "[2021-11-25 00:52:25,370] - obspy.clients.fdsn.mass_downloader - INFO: Client 'GEONET' - Will attempt to download data from 1 stations.\n",
      "[2021-11-25 00:52:25,372] - obspy.clients.fdsn.mass_downloader - INFO: Client 'GEONET' - Status for 1 time intervals/channels before downloading: NEEDS_DOWNLOADING\n",
      "[2021-11-25 00:52:26,297] - obspy.clients.fdsn.mass_downloader - INFO: Client 'GEONET' - Successfully downloaded 1 channels (of 1)\n",
      "[2021-11-25 00:52:26,353] - obspy.clients.fdsn.mass_downloader - INFO: Client 'GEONET' - Launching basic QC checks...\n",
      "[2021-11-25 00:52:26,401] - obspy.clients.fdsn.mass_downloader - INFO: Client 'GEONET' - Downloaded 0.0 MB [4.16 KB/sec] of data, 0.0 MB of which were discarded afterwards.\n",
      "[2021-11-25 00:52:26,407] - obspy.clients.fdsn.mass_downloader - INFO: Client 'GEONET' - Status for 1 time intervals/channels after downloading: DOWNLOADED\n",
      "[2021-11-25 00:52:26,415] - obspy.clients.fdsn.mass_downloader - INFO: Client 'GEONET' - No station information to download.\n",
      "[2021-11-25 00:52:26,423] - obspy.clients.fdsn.mass_downloader - INFO: ============================== Final report\n",
      "[2021-11-25 00:52:26,429] - obspy.clients.fdsn.mass_downloader - INFO: 0 MiniSEED files [0.0 MB] already existed.\n",
      "[2021-11-25 00:52:26,433] - obspy.clients.fdsn.mass_downloader - INFO: 1 StationXML files [0.0 MB] already existed.\n",
      "[2021-11-25 00:52:26,434] - obspy.clients.fdsn.mass_downloader - INFO: Client 'GEONET' - Acquired 1 MiniSEED files [0.0 MB].\n",
      "[2021-11-25 00:52:26,442] - obspy.clients.fdsn.mass_downloader - INFO: Client 'GEONET' - Acquired 0 StationXML files [0.0 MB].\n",
      "[2021-11-25 00:52:26,443] - obspy.clients.fdsn.mass_downloader - INFO: Downloaded 0.0 MB in total.\n",
      "[2021-11-25 00:52:26,460] - obspy.clients.fdsn.mass_downloader - INFO: Initializing FDSN client(s) for GEONET.\n",
      "[2021-11-25 00:52:26,496] - obspy.clients.fdsn.mass_downloader - INFO: Successfully initialized 1 client(s): GEONET.\n",
      "[2021-11-25 00:52:26,502] - obspy.clients.fdsn.mass_downloader - INFO: Total acquired or preexisting stations: 0\n",
      "[2021-11-25 00:52:26,503] - obspy.clients.fdsn.mass_downloader - INFO: Client 'GEONET' - Requesting unreliable availability.\n"
     ]
    },
    {
     "name": "stdout",
     "output_type": "stream",
     "text": [
      "=================================================================\n",
      "Initiating mass download request.\n"
     ]
    },
    {
     "name": "stderr",
     "output_type": "stream",
     "text": [
      "[2021-11-25 00:52:27,149] - obspy.clients.fdsn.mass_downloader - INFO: Client 'GEONET' - Successfully requested availability (0.65 seconds)\n",
      "[2021-11-25 00:52:27,151] - obspy.clients.fdsn.mass_downloader - INFO: Client 'GEONET' - Found 1 stations (1 channels).\n",
      "[2021-11-25 00:52:27,155] - obspy.clients.fdsn.mass_downloader - INFO: Client 'GEONET' - Will attempt to download data from 1 stations.\n",
      "[2021-11-25 00:52:27,157] - obspy.clients.fdsn.mass_downloader - INFO: Client 'GEONET' - Status for 1 time intervals/channels before downloading: NEEDS_DOWNLOADING\n",
      "[2021-11-25 00:52:28,167] - obspy.clients.fdsn.mass_downloader - INFO: Client 'GEONET' - Successfully downloaded 1 channels (of 1)\n",
      "[2021-11-25 00:52:28,228] - obspy.clients.fdsn.mass_downloader - INFO: Client 'GEONET' - Launching basic QC checks...\n",
      "[2021-11-25 00:52:28,313] - obspy.clients.fdsn.mass_downloader - INFO: Client 'GEONET' - Downloaded 0.0 MB [3.28 KB/sec] of data, 0.0 MB of which were discarded afterwards.\n",
      "[2021-11-25 00:52:28,319] - obspy.clients.fdsn.mass_downloader - INFO: Client 'GEONET' - Status for 1 time intervals/channels after downloading: DOWNLOADED\n",
      "[2021-11-25 00:52:28,341] - obspy.clients.fdsn.mass_downloader - INFO: Client 'GEONET' - No station information to download.\n",
      "[2021-11-25 00:52:28,348] - obspy.clients.fdsn.mass_downloader - INFO: ============================== Final report\n",
      "[2021-11-25 00:52:28,353] - obspy.clients.fdsn.mass_downloader - INFO: 0 MiniSEED files [0.0 MB] already existed.\n",
      "[2021-11-25 00:52:28,359] - obspy.clients.fdsn.mass_downloader - INFO: 1 StationXML files [0.0 MB] already existed.\n",
      "[2021-11-25 00:52:28,364] - obspy.clients.fdsn.mass_downloader - INFO: Client 'GEONET' - Acquired 1 MiniSEED files [0.0 MB].\n",
      "[2021-11-25 00:52:28,366] - obspy.clients.fdsn.mass_downloader - INFO: Client 'GEONET' - Acquired 0 StationXML files [0.0 MB].\n",
      "[2021-11-25 00:52:28,367] - obspy.clients.fdsn.mass_downloader - INFO: Downloaded 0.0 MB in total.\n",
      "[2021-11-25 00:52:28,390] - obspy.clients.fdsn.mass_downloader - INFO: Initializing FDSN client(s) for GEONET.\n",
      "[2021-11-25 00:52:28,413] - obspy.clients.fdsn.mass_downloader - INFO: Successfully initialized 1 client(s): GEONET.\n",
      "[2021-11-25 00:52:28,419] - obspy.clients.fdsn.mass_downloader - INFO: Total acquired or preexisting stations: 0\n",
      "[2021-11-25 00:52:28,420] - obspy.clients.fdsn.mass_downloader - INFO: Client 'GEONET' - Requesting unreliable availability.\n"
     ]
    },
    {
     "name": "stdout",
     "output_type": "stream",
     "text": [
      "=================================================================\n",
      "Initiating mass download request.\n"
     ]
    },
    {
     "name": "stderr",
     "output_type": "stream",
     "text": [
      "[2021-11-25 00:52:29,036] - obspy.clients.fdsn.mass_downloader - INFO: Client 'GEONET' - Successfully requested availability (0.61 seconds)\n",
      "[2021-11-25 00:52:29,075] - obspy.clients.fdsn.mass_downloader - INFO: Client 'GEONET' - Found 1 stations (1 channels).\n",
      "[2021-11-25 00:52:29,100] - obspy.clients.fdsn.mass_downloader - INFO: Client 'GEONET' - Will attempt to download data from 1 stations.\n",
      "[2021-11-25 00:52:29,118] - obspy.clients.fdsn.mass_downloader - INFO: Client 'GEONET' - Status for 1 time intervals/channels before downloading: NEEDS_DOWNLOADING\n",
      "[2021-11-25 00:52:30,057] - obspy.clients.fdsn.mass_downloader - INFO: Client 'GEONET' - Successfully downloaded 1 channels (of 1)\n",
      "[2021-11-25 00:52:30,118] - obspy.clients.fdsn.mass_downloader - INFO: Client 'GEONET' - Launching basic QC checks...\n",
      "[2021-11-25 00:52:30,201] - obspy.clients.fdsn.mass_downloader - INFO: Client 'GEONET' - Downloaded 0.0 MB [5.74 KB/sec] of data, 0.0 MB of which were discarded afterwards.\n",
      "[2021-11-25 00:52:30,220] - obspy.clients.fdsn.mass_downloader - INFO: Client 'GEONET' - Status for 1 time intervals/channels after downloading: DOWNLOADED\n",
      "[2021-11-25 00:52:30,240] - obspy.clients.fdsn.mass_downloader - INFO: Client 'GEONET' - No station information to download.\n",
      "[2021-11-25 00:52:30,244] - obspy.clients.fdsn.mass_downloader - INFO: ============================== Final report\n",
      "[2021-11-25 00:52:30,247] - obspy.clients.fdsn.mass_downloader - INFO: 0 MiniSEED files [0.0 MB] already existed.\n",
      "[2021-11-25 00:52:30,252] - obspy.clients.fdsn.mass_downloader - INFO: 1 StationXML files [0.0 MB] already existed.\n",
      "[2021-11-25 00:52:30,256] - obspy.clients.fdsn.mass_downloader - INFO: Client 'GEONET' - Acquired 1 MiniSEED files [0.0 MB].\n",
      "[2021-11-25 00:52:30,264] - obspy.clients.fdsn.mass_downloader - INFO: Client 'GEONET' - Acquired 0 StationXML files [0.0 MB].\n",
      "[2021-11-25 00:52:30,264] - obspy.clients.fdsn.mass_downloader - INFO: Downloaded 0.0 MB in total.\n",
      "[2021-11-25 00:52:30,288] - obspy.clients.fdsn.mass_downloader - INFO: Initializing FDSN client(s) for GEONET.\n",
      "[2021-11-25 00:52:30,325] - obspy.clients.fdsn.mass_downloader - INFO: Successfully initialized 1 client(s): GEONET.\n",
      "[2021-11-25 00:52:30,332] - obspy.clients.fdsn.mass_downloader - INFO: Total acquired or preexisting stations: 0\n",
      "[2021-11-25 00:52:30,336] - obspy.clients.fdsn.mass_downloader - INFO: Client 'GEONET' - Requesting unreliable availability.\n"
     ]
    },
    {
     "name": "stdout",
     "output_type": "stream",
     "text": [
      "=================================================================\n",
      "Initiating mass download request.\n"
     ]
    },
    {
     "name": "stderr",
     "output_type": "stream",
     "text": [
      "[2021-11-25 00:52:31,115] - obspy.clients.fdsn.mass_downloader - INFO: Client 'GEONET' - Successfully requested availability (0.78 seconds)\n",
      "[2021-11-25 00:52:31,244] - obspy.clients.fdsn.mass_downloader - INFO: Client 'GEONET' - Found 1 stations (1 channels).\n",
      "[2021-11-25 00:52:31,259] - obspy.clients.fdsn.mass_downloader - INFO: Client 'GEONET' - Will attempt to download data from 1 stations.\n",
      "[2021-11-25 00:52:31,290] - obspy.clients.fdsn.mass_downloader - INFO: Client 'GEONET' - Status for 1 time intervals/channels before downloading: NEEDS_DOWNLOADING\n",
      "[2021-11-25 00:52:32,234] - obspy.clients.fdsn.mass_downloader - INFO: Client 'GEONET' - Successfully downloaded 1 channels (of 1)\n",
      "[2021-11-25 00:52:32,292] - obspy.clients.fdsn.mass_downloader - INFO: Client 'GEONET' - Launching basic QC checks...\n",
      "[2021-11-25 00:52:32,384] - obspy.clients.fdsn.mass_downloader - INFO: Client 'GEONET' - Downloaded 0.0 MB [3.06 KB/sec] of data, 0.0 MB of which were discarded afterwards.\n",
      "[2021-11-25 00:52:32,388] - obspy.clients.fdsn.mass_downloader - INFO: Client 'GEONET' - Status for 1 time intervals/channels after downloading: DOWNLOADED\n",
      "[2021-11-25 00:52:32,398] - obspy.clients.fdsn.mass_downloader - INFO: Client 'GEONET' - No station information to download.\n",
      "[2021-11-25 00:52:32,410] - obspy.clients.fdsn.mass_downloader - INFO: ============================== Final report\n",
      "[2021-11-25 00:52:32,424] - obspy.clients.fdsn.mass_downloader - INFO: 0 MiniSEED files [0.0 MB] already existed.\n",
      "[2021-11-25 00:52:32,428] - obspy.clients.fdsn.mass_downloader - INFO: 1 StationXML files [0.0 MB] already existed.\n",
      "[2021-11-25 00:52:32,431] - obspy.clients.fdsn.mass_downloader - INFO: Client 'GEONET' - Acquired 1 MiniSEED files [0.0 MB].\n",
      "[2021-11-25 00:52:32,432] - obspy.clients.fdsn.mass_downloader - INFO: Client 'GEONET' - Acquired 0 StationXML files [0.0 MB].\n",
      "[2021-11-25 00:52:32,439] - obspy.clients.fdsn.mass_downloader - INFO: Downloaded 0.0 MB in total.\n",
      "[2021-11-25 00:52:32,465] - obspy.clients.fdsn.mass_downloader - INFO: Initializing FDSN client(s) for GEONET.\n",
      "[2021-11-25 00:52:32,514] - obspy.clients.fdsn.mass_downloader - INFO: Successfully initialized 1 client(s): GEONET.\n",
      "[2021-11-25 00:52:32,515] - obspy.clients.fdsn.mass_downloader - INFO: Total acquired or preexisting stations: 0\n",
      "[2021-11-25 00:52:32,535] - obspy.clients.fdsn.mass_downloader - INFO: Client 'GEONET' - Requesting unreliable availability.\n"
     ]
    },
    {
     "name": "stdout",
     "output_type": "stream",
     "text": [
      "=================================================================\n",
      "Initiating mass download request.\n"
     ]
    },
    {
     "name": "stderr",
     "output_type": "stream",
     "text": [
      "[2021-11-25 00:52:33,163] - obspy.clients.fdsn.mass_downloader - INFO: Client 'GEONET' - Successfully requested availability (0.62 seconds)\n",
      "[2021-11-25 00:52:33,169] - obspy.clients.fdsn.mass_downloader - INFO: Client 'GEONET' - Found 1 stations (1 channels).\n",
      "[2021-11-25 00:52:33,172] - obspy.clients.fdsn.mass_downloader - INFO: Client 'GEONET' - Will attempt to download data from 1 stations.\n",
      "[2021-11-25 00:52:33,180] - obspy.clients.fdsn.mass_downloader - INFO: Client 'GEONET' - Status for 1 time intervals/channels before downloading: NEEDS_DOWNLOADING\n",
      "[2021-11-25 00:52:34,062] - obspy.clients.fdsn.mass_downloader - INFO: Client 'GEONET' - Successfully downloaded 1 channels (of 1)\n",
      "[2021-11-25 00:52:34,087] - obspy.clients.fdsn.mass_downloader - INFO: Client 'GEONET' - Launching basic QC checks...\n",
      "[2021-11-25 00:52:34,131] - obspy.clients.fdsn.mass_downloader - INFO: Client 'GEONET' - Downloaded 0.0 MB [4.49 KB/sec] of data, 0.0 MB of which were discarded afterwards.\n",
      "[2021-11-25 00:52:34,141] - obspy.clients.fdsn.mass_downloader - INFO: Client 'GEONET' - Status for 1 time intervals/channels after downloading: DOWNLOADED\n",
      "[2021-11-25 00:52:34,147] - obspy.clients.fdsn.mass_downloader - INFO: Client 'GEONET' - No station information to download.\n",
      "[2021-11-25 00:52:34,160] - obspy.clients.fdsn.mass_downloader - INFO: ============================== Final report\n",
      "[2021-11-25 00:52:34,167] - obspy.clients.fdsn.mass_downloader - INFO: 0 MiniSEED files [0.0 MB] already existed.\n",
      "[2021-11-25 00:52:34,168] - obspy.clients.fdsn.mass_downloader - INFO: 1 StationXML files [0.0 MB] already existed.\n",
      "[2021-11-25 00:52:34,171] - obspy.clients.fdsn.mass_downloader - INFO: Client 'GEONET' - Acquired 1 MiniSEED files [0.0 MB].\n",
      "[2021-11-25 00:52:34,178] - obspy.clients.fdsn.mass_downloader - INFO: Client 'GEONET' - Acquired 0 StationXML files [0.0 MB].\n",
      "[2021-11-25 00:52:34,180] - obspy.clients.fdsn.mass_downloader - INFO: Downloaded 0.0 MB in total.\n",
      "[2021-11-25 00:52:34,216] - obspy.clients.fdsn.mass_downloader - INFO: Initializing FDSN client(s) for GEONET.\n",
      "[2021-11-25 00:52:34,263] - obspy.clients.fdsn.mass_downloader - INFO: Successfully initialized 1 client(s): GEONET.\n",
      "[2021-11-25 00:52:34,265] - obspy.clients.fdsn.mass_downloader - INFO: Total acquired or preexisting stations: 0\n",
      "[2021-11-25 00:52:34,267] - obspy.clients.fdsn.mass_downloader - INFO: Client 'GEONET' - Requesting unreliable availability.\n"
     ]
    },
    {
     "name": "stdout",
     "output_type": "stream",
     "text": [
      "=================================================================\n",
      "Initiating mass download request.\n"
     ]
    },
    {
     "name": "stderr",
     "output_type": "stream",
     "text": [
      "[2021-11-25 00:52:34,926] - obspy.clients.fdsn.mass_downloader - INFO: Client 'GEONET' - Successfully requested availability (0.66 seconds)\n",
      "[2021-11-25 00:52:34,930] - obspy.clients.fdsn.mass_downloader - INFO: Client 'GEONET' - Found 1 stations (1 channels).\n",
      "[2021-11-25 00:52:34,932] - obspy.clients.fdsn.mass_downloader - INFO: Client 'GEONET' - Will attempt to download data from 1 stations.\n",
      "[2021-11-25 00:52:34,938] - obspy.clients.fdsn.mass_downloader - INFO: Client 'GEONET' - Status for 1 time intervals/channels before downloading: NEEDS_DOWNLOADING\n",
      "[2021-11-25 00:52:35,776] - obspy.clients.fdsn.mass_downloader - INFO: Client 'GEONET' - Successfully downloaded 1 channels (of 1)\n",
      "[2021-11-25 00:52:35,889] - obspy.clients.fdsn.mass_downloader - INFO: Client 'GEONET' - Launching basic QC checks...\n",
      "[2021-11-25 00:52:35,931] - obspy.clients.fdsn.mass_downloader - INFO: Client 'GEONET' - Downloaded 0.0 MB [3.73 KB/sec] of data, 0.0 MB of which were discarded afterwards.\n",
      "[2021-11-25 00:52:35,938] - obspy.clients.fdsn.mass_downloader - INFO: Client 'GEONET' - Status for 1 time intervals/channels after downloading: DOWNLOADED\n",
      "[2021-11-25 00:52:35,960] - obspy.clients.fdsn.mass_downloader - INFO: Client 'GEONET' - No station information to download.\n",
      "[2021-11-25 00:52:35,971] - obspy.clients.fdsn.mass_downloader - INFO: ============================== Final report\n",
      "[2021-11-25 00:52:35,978] - obspy.clients.fdsn.mass_downloader - INFO: 0 MiniSEED files [0.0 MB] already existed.\n",
      "[2021-11-25 00:52:35,995] - obspy.clients.fdsn.mass_downloader - INFO: 1 StationXML files [0.0 MB] already existed.\n",
      "[2021-11-25 00:52:36,004] - obspy.clients.fdsn.mass_downloader - INFO: Client 'GEONET' - Acquired 1 MiniSEED files [0.0 MB].\n",
      "[2021-11-25 00:52:36,005] - obspy.clients.fdsn.mass_downloader - INFO: Client 'GEONET' - Acquired 0 StationXML files [0.0 MB].\n",
      "[2021-11-25 00:52:36,005] - obspy.clients.fdsn.mass_downloader - INFO: Downloaded 0.0 MB in total.\n",
      "[2021-11-25 00:52:36,053] - obspy.clients.fdsn.mass_downloader - INFO: Initializing FDSN client(s) for GEONET.\n",
      "[2021-11-25 00:52:36,097] - obspy.clients.fdsn.mass_downloader - INFO: Successfully initialized 1 client(s): GEONET.\n",
      "[2021-11-25 00:52:36,100] - obspy.clients.fdsn.mass_downloader - INFO: Total acquired or preexisting stations: 0\n",
      "[2021-11-25 00:52:36,110] - obspy.clients.fdsn.mass_downloader - INFO: Client 'GEONET' - Requesting unreliable availability.\n"
     ]
    },
    {
     "name": "stdout",
     "output_type": "stream",
     "text": [
      "=================================================================\n",
      "Initiating mass download request.\n"
     ]
    },
    {
     "name": "stderr",
     "output_type": "stream",
     "text": [
      "[2021-11-25 00:52:36,744] - obspy.clients.fdsn.mass_downloader - INFO: Client 'GEONET' - Successfully requested availability (0.63 seconds)\n",
      "[2021-11-25 00:52:36,769] - obspy.clients.fdsn.mass_downloader - INFO: Client 'GEONET' - Found 1 stations (1 channels).\n",
      "[2021-11-25 00:52:36,783] - obspy.clients.fdsn.mass_downloader - INFO: Client 'GEONET' - Will attempt to download data from 1 stations.\n",
      "[2021-11-25 00:52:36,792] - obspy.clients.fdsn.mass_downloader - INFO: Client 'GEONET' - Status for 1 time intervals/channels before downloading: NEEDS_DOWNLOADING\n",
      "[2021-11-25 00:52:37,649] - obspy.clients.fdsn.mass_downloader - INFO: Client 'GEONET' - Successfully downloaded 1 channels (of 1)\n",
      "[2021-11-25 00:52:37,840] - obspy.clients.fdsn.mass_downloader - INFO: Client 'GEONET' - Launching basic QC checks...\n",
      "[2021-11-25 00:52:37,903] - obspy.clients.fdsn.mass_downloader - INFO: Client 'GEONET' - Downloaded 0.0 MB [3.39 KB/sec] of data, 0.0 MB of which were discarded afterwards.\n",
      "[2021-11-25 00:52:37,912] - obspy.clients.fdsn.mass_downloader - INFO: Client 'GEONET' - Status for 1 time intervals/channels after downloading: DOWNLOADED\n",
      "[2021-11-25 00:52:37,921] - obspy.clients.fdsn.mass_downloader - INFO: Client 'GEONET' - No station information to download.\n",
      "[2021-11-25 00:52:37,933] - obspy.clients.fdsn.mass_downloader - INFO: ============================== Final report\n",
      "[2021-11-25 00:52:37,945] - obspy.clients.fdsn.mass_downloader - INFO: 0 MiniSEED files [0.0 MB] already existed.\n",
      "[2021-11-25 00:52:37,950] - obspy.clients.fdsn.mass_downloader - INFO: 1 StationXML files [0.0 MB] already existed.\n",
      "[2021-11-25 00:52:37,950] - obspy.clients.fdsn.mass_downloader - INFO: Client 'GEONET' - Acquired 1 MiniSEED files [0.0 MB].\n",
      "[2021-11-25 00:52:37,955] - obspy.clients.fdsn.mass_downloader - INFO: Client 'GEONET' - Acquired 0 StationXML files [0.0 MB].\n",
      "[2021-11-25 00:52:37,957] - obspy.clients.fdsn.mass_downloader - INFO: Downloaded 0.0 MB in total.\n",
      "[2021-11-25 00:52:37,975] - obspy.clients.fdsn.mass_downloader - INFO: Initializing FDSN client(s) for GEONET.\n",
      "[2021-11-25 00:52:38,010] - obspy.clients.fdsn.mass_downloader - INFO: Successfully initialized 1 client(s): GEONET.\n",
      "[2021-11-25 00:52:38,018] - obspy.clients.fdsn.mass_downloader - INFO: Total acquired or preexisting stations: 0\n",
      "[2021-11-25 00:52:38,024] - obspy.clients.fdsn.mass_downloader - INFO: Client 'GEONET' - Requesting unreliable availability.\n"
     ]
    },
    {
     "name": "stdout",
     "output_type": "stream",
     "text": [
      "=================================================================\n",
      "Initiating mass download request.\n"
     ]
    },
    {
     "name": "stderr",
     "output_type": "stream",
     "text": [
      "[2021-11-25 00:52:38,722] - obspy.clients.fdsn.mass_downloader - INFO: Client 'GEONET' - Successfully requested availability (0.69 seconds)\n",
      "[2021-11-25 00:52:38,846] - obspy.clients.fdsn.mass_downloader - INFO: Client 'GEONET' - Found 1 stations (1 channels).\n",
      "[2021-11-25 00:52:38,866] - obspy.clients.fdsn.mass_downloader - INFO: Client 'GEONET' - Will attempt to download data from 1 stations.\n",
      "[2021-11-25 00:52:38,896] - obspy.clients.fdsn.mass_downloader - INFO: Client 'GEONET' - Status for 1 time intervals/channels before downloading: NEEDS_DOWNLOADING\n",
      "[2021-11-25 00:52:39,825] - obspy.clients.fdsn.mass_downloader - INFO: Client 'GEONET' - Successfully downloaded 1 channels (of 1)\n",
      "[2021-11-25 00:52:39,830] - obspy.clients.fdsn.mass_downloader - INFO: Client 'GEONET' - Launching basic QC checks...\n",
      "[2021-11-25 00:52:39,837] - obspy.clients.fdsn.mass_downloader - INFO: Client 'GEONET' - Downloaded 0.0 MB [4.46 KB/sec] of data, 0.0 MB of which were discarded afterwards.\n",
      "[2021-11-25 00:52:39,838] - obspy.clients.fdsn.mass_downloader - INFO: Client 'GEONET' - Status for 1 time intervals/channels after downloading: DOWNLOADED\n",
      "[2021-11-25 00:52:39,840] - obspy.clients.fdsn.mass_downloader - INFO: Client 'GEONET' - No station information to download.\n",
      "[2021-11-25 00:52:39,841] - obspy.clients.fdsn.mass_downloader - INFO: ============================== Final report\n",
      "[2021-11-25 00:52:39,842] - obspy.clients.fdsn.mass_downloader - INFO: 0 MiniSEED files [0.0 MB] already existed.\n",
      "[2021-11-25 00:52:39,842] - obspy.clients.fdsn.mass_downloader - INFO: 1 StationXML files [0.0 MB] already existed.\n",
      "[2021-11-25 00:52:39,842] - obspy.clients.fdsn.mass_downloader - INFO: Client 'GEONET' - Acquired 1 MiniSEED files [0.0 MB].\n",
      "[2021-11-25 00:52:39,843] - obspy.clients.fdsn.mass_downloader - INFO: Client 'GEONET' - Acquired 0 StationXML files [0.0 MB].\n",
      "[2021-11-25 00:52:39,843] - obspy.clients.fdsn.mass_downloader - INFO: Downloaded 0.0 MB in total.\n",
      "[2021-11-25 00:52:39,845] - obspy.clients.fdsn.mass_downloader - INFO: Initializing FDSN client(s) for GEONET.\n",
      "[2021-11-25 00:52:39,848] - obspy.clients.fdsn.mass_downloader - INFO: Successfully initialized 1 client(s): GEONET.\n",
      "[2021-11-25 00:52:39,849] - obspy.clients.fdsn.mass_downloader - INFO: Total acquired or preexisting stations: 0\n",
      "[2021-11-25 00:52:39,849] - obspy.clients.fdsn.mass_downloader - INFO: Client 'GEONET' - Requesting unreliable availability.\n"
     ]
    },
    {
     "name": "stdout",
     "output_type": "stream",
     "text": [
      "=================================================================\n",
      "Initiating mass download request.\n"
     ]
    },
    {
     "name": "stderr",
     "output_type": "stream",
     "text": [
      "[2021-11-25 00:52:40,418] - obspy.clients.fdsn.mass_downloader - INFO: Client 'GEONET' - Successfully requested availability (0.56 seconds)\n",
      "[2021-11-25 00:52:40,426] - obspy.clients.fdsn.mass_downloader - INFO: Client 'GEONET' - Found 1 stations (1 channels).\n",
      "[2021-11-25 00:52:40,432] - obspy.clients.fdsn.mass_downloader - INFO: Client 'GEONET' - Will attempt to download data from 1 stations.\n",
      "[2021-11-25 00:52:40,434] - obspy.clients.fdsn.mass_downloader - INFO: Client 'GEONET' - Status for 1 time intervals/channels before downloading: NEEDS_DOWNLOADING\n",
      "[2021-11-25 00:52:41,444] - obspy.clients.fdsn.mass_downloader - INFO: Client 'GEONET' - Successfully downloaded 1 channels (of 1)\n",
      "[2021-11-25 00:52:41,464] - obspy.clients.fdsn.mass_downloader - INFO: Client 'GEONET' - Launching basic QC checks...\n",
      "[2021-11-25 00:52:41,487] - obspy.clients.fdsn.mass_downloader - INFO: Client 'GEONET' - Downloaded 0.0 MB [5.37 KB/sec] of data, 0.0 MB of which were discarded afterwards.\n",
      "[2021-11-25 00:52:41,496] - obspy.clients.fdsn.mass_downloader - INFO: Client 'GEONET' - Status for 1 time intervals/channels after downloading: DOWNLOADED\n",
      "[2021-11-25 00:52:41,500] - obspy.clients.fdsn.mass_downloader - INFO: Client 'GEONET' - No station information to download.\n",
      "[2021-11-25 00:52:41,503] - obspy.clients.fdsn.mass_downloader - INFO: ============================== Final report\n",
      "[2021-11-25 00:52:41,504] - obspy.clients.fdsn.mass_downloader - INFO: 0 MiniSEED files [0.0 MB] already existed.\n",
      "[2021-11-25 00:52:41,505] - obspy.clients.fdsn.mass_downloader - INFO: 1 StationXML files [0.0 MB] already existed.\n",
      "[2021-11-25 00:52:41,508] - obspy.clients.fdsn.mass_downloader - INFO: Client 'GEONET' - Acquired 1 MiniSEED files [0.0 MB].\n",
      "[2021-11-25 00:52:41,508] - obspy.clients.fdsn.mass_downloader - INFO: Client 'GEONET' - Acquired 0 StationXML files [0.0 MB].\n",
      "[2021-11-25 00:52:41,509] - obspy.clients.fdsn.mass_downloader - INFO: Downloaded 0.0 MB in total.\n",
      "[2021-11-25 00:52:41,512] - obspy.clients.fdsn.mass_downloader - INFO: Initializing FDSN client(s) for GEONET.\n",
      "[2021-11-25 00:52:41,524] - obspy.clients.fdsn.mass_downloader - INFO: Successfully initialized 1 client(s): GEONET.\n",
      "[2021-11-25 00:52:41,526] - obspy.clients.fdsn.mass_downloader - INFO: Total acquired or preexisting stations: 0\n",
      "[2021-11-25 00:52:41,527] - obspy.clients.fdsn.mass_downloader - INFO: Client 'GEONET' - Requesting unreliable availability.\n"
     ]
    },
    {
     "name": "stdout",
     "output_type": "stream",
     "text": [
      "=================================================================\n",
      "Initiating mass download request.\n"
     ]
    },
    {
     "name": "stderr",
     "output_type": "stream",
     "text": [
      "[2021-11-25 00:52:42,673] - obspy.clients.fdsn.mass_downloader - INFO: Client 'GEONET' - Successfully requested availability (1.15 seconds)\n",
      "[2021-11-25 00:52:42,732] - obspy.clients.fdsn.mass_downloader - INFO: Client 'GEONET' - Found 1 stations (1 channels).\n",
      "[2021-11-25 00:52:42,755] - obspy.clients.fdsn.mass_downloader - INFO: Client 'GEONET' - Will attempt to download data from 1 stations.\n",
      "[2021-11-25 00:52:42,766] - obspy.clients.fdsn.mass_downloader - INFO: Client 'GEONET' - Status for 1 time intervals/channels before downloading: NEEDS_DOWNLOADING\n",
      "[2021-11-25 00:52:43,796] - obspy.clients.fdsn.mass_downloader - INFO: Client 'GEONET' - Successfully downloaded 1 channels (of 1)\n",
      "[2021-11-25 00:52:43,859] - obspy.clients.fdsn.mass_downloader - INFO: Client 'GEONET' - Launching basic QC checks...\n",
      "[2021-11-25 00:52:43,892] - obspy.clients.fdsn.mass_downloader - INFO: Client 'GEONET' - Downloaded 0.0 MB [2.87 KB/sec] of data, 0.0 MB of which were discarded afterwards.\n",
      "[2021-11-25 00:52:43,913] - obspy.clients.fdsn.mass_downloader - INFO: Client 'GEONET' - Status for 1 time intervals/channels after downloading: DOWNLOADED\n",
      "[2021-11-25 00:52:43,962] - obspy.clients.fdsn.mass_downloader - INFO: Client 'GEONET' - No station information to download.\n",
      "[2021-11-25 00:52:43,971] - obspy.clients.fdsn.mass_downloader - INFO: ============================== Final report\n",
      "[2021-11-25 00:52:43,981] - obspy.clients.fdsn.mass_downloader - INFO: 0 MiniSEED files [0.0 MB] already existed.\n",
      "[2021-11-25 00:52:43,983] - obspy.clients.fdsn.mass_downloader - INFO: 1 StationXML files [0.0 MB] already existed.\n",
      "[2021-11-25 00:52:43,983] - obspy.clients.fdsn.mass_downloader - INFO: Client 'GEONET' - Acquired 1 MiniSEED files [0.0 MB].\n",
      "[2021-11-25 00:52:43,990] - obspy.clients.fdsn.mass_downloader - INFO: Client 'GEONET' - Acquired 0 StationXML files [0.0 MB].\n",
      "[2021-11-25 00:52:43,994] - obspy.clients.fdsn.mass_downloader - INFO: Downloaded 0.0 MB in total.\n",
      "[2021-11-25 00:52:44,042] - obspy.clients.fdsn.mass_downloader - INFO: Initializing FDSN client(s) for GEONET.\n",
      "[2021-11-25 00:52:44,076] - obspy.clients.fdsn.mass_downloader - INFO: Successfully initialized 1 client(s): GEONET.\n",
      "[2021-11-25 00:52:44,087] - obspy.clients.fdsn.mass_downloader - INFO: Total acquired or preexisting stations: 0\n",
      "[2021-11-25 00:52:44,092] - obspy.clients.fdsn.mass_downloader - INFO: Client 'GEONET' - Requesting unreliable availability.\n"
     ]
    },
    {
     "name": "stdout",
     "output_type": "stream",
     "text": [
      "=================================================================\n",
      "Initiating mass download request.\n"
     ]
    },
    {
     "name": "stderr",
     "output_type": "stream",
     "text": [
      "[2021-11-25 00:52:44,653] - obspy.clients.fdsn.mass_downloader - INFO: Client 'GEONET' - Successfully requested availability (0.56 seconds)\n",
      "[2021-11-25 00:52:44,690] - obspy.clients.fdsn.mass_downloader - INFO: Client 'GEONET' - Found 1 stations (1 channels).\n",
      "[2021-11-25 00:52:44,733] - obspy.clients.fdsn.mass_downloader - INFO: Client 'GEONET' - Will attempt to download data from 1 stations.\n",
      "[2021-11-25 00:52:44,779] - obspy.clients.fdsn.mass_downloader - INFO: Client 'GEONET' - Status for 1 time intervals/channels before downloading: NEEDS_DOWNLOADING\n",
      "[2021-11-25 00:52:45,379] - obspy.clients.fdsn.mass_downloader - INFO: Client 'GEONET' - No data available for request.\n",
      "[2021-11-25 00:52:45,392] - obspy.clients.fdsn.mass_downloader - INFO: Client 'GEONET' - Launching basic QC checks...\n",
      "[2021-11-25 00:52:45,394] - obspy.clients.fdsn.mass_downloader - INFO: Client 'GEONET' - Downloaded 0.0 MB [0.00 KB/sec] of data, 0.0 MB of which were discarded afterwards.\n",
      "[2021-11-25 00:52:45,395] - obspy.clients.fdsn.mass_downloader - INFO: Client 'GEONET' - Status for 1 time intervals/channels after downloading: DOWNLOAD_FAILED\n",
      "[2021-11-25 00:52:45,399] - obspy.clients.fdsn.mass_downloader - INFO: Client 'GEONET' - No station information to download.\n",
      "[2021-11-25 00:52:45,403] - obspy.clients.fdsn.mass_downloader - INFO: Client 'GEONET' - No data could be downloaded.\n",
      "[2021-11-25 00:52:45,404] - obspy.clients.fdsn.mass_downloader - INFO: ============================== Final report\n",
      "[2021-11-25 00:52:45,404] - obspy.clients.fdsn.mass_downloader - INFO: 0 MiniSEED files [0.0 MB] already existed.\n",
      "[2021-11-25 00:52:45,405] - obspy.clients.fdsn.mass_downloader - INFO: 0 StationXML files [0.0 MB] already existed.\n",
      "[2021-11-25 00:52:45,405] - obspy.clients.fdsn.mass_downloader - INFO: Client 'GEONET' - Acquired 0 MiniSEED files [0.0 MB].\n",
      "[2021-11-25 00:52:45,406] - obspy.clients.fdsn.mass_downloader - INFO: Client 'GEONET' - Acquired 0 StationXML files [0.0 MB].\n",
      "[2021-11-25 00:52:45,406] - obspy.clients.fdsn.mass_downloader - INFO: Downloaded 0.0 MB in total.\n",
      "[2021-11-25 00:52:45,413] - obspy.clients.fdsn.mass_downloader - INFO: Initializing FDSN client(s) for GEONET.\n",
      "[2021-11-25 00:52:45,422] - obspy.clients.fdsn.mass_downloader - INFO: Successfully initialized 1 client(s): GEONET.\n",
      "[2021-11-25 00:52:45,424] - obspy.clients.fdsn.mass_downloader - INFO: Total acquired or preexisting stations: 0\n",
      "[2021-11-25 00:52:45,427] - obspy.clients.fdsn.mass_downloader - INFO: Client 'GEONET' - Requesting unreliable availability.\n"
     ]
    },
    {
     "name": "stdout",
     "output_type": "stream",
     "text": [
      "=================================================================\n",
      "Initiating mass download request.\n"
     ]
    },
    {
     "name": "stderr",
     "output_type": "stream",
     "text": [
      "[2021-11-25 00:52:46,089] - obspy.clients.fdsn.mass_downloader - INFO: Client 'GEONET' - Successfully requested availability (0.66 seconds)\n",
      "[2021-11-25 00:52:46,098] - obspy.clients.fdsn.mass_downloader - INFO: Client 'GEONET' - Found 1 stations (1 channels).\n",
      "[2021-11-25 00:52:46,101] - obspy.clients.fdsn.mass_downloader - INFO: Client 'GEONET' - Will attempt to download data from 1 stations.\n",
      "[2021-11-25 00:52:46,103] - obspy.clients.fdsn.mass_downloader - INFO: Client 'GEONET' - Status for 1 time intervals/channels before downloading: NEEDS_DOWNLOADING\n",
      "[2021-11-25 00:52:47,818] - obspy.clients.fdsn.mass_downloader - INFO: Client 'GEONET' - Successfully downloaded 1 channels (of 1)\n",
      "[2021-11-25 00:52:47,861] - obspy.clients.fdsn.mass_downloader - INFO: Client 'GEONET' - Launching basic QC checks...\n",
      "[2021-11-25 00:52:47,893] - obspy.clients.fdsn.mass_downloader - INFO: Client 'GEONET' - Downloaded 0.0 MB [1.71 KB/sec] of data, 0.0 MB of which were discarded afterwards.\n",
      "[2021-11-25 00:52:47,905] - obspy.clients.fdsn.mass_downloader - INFO: Client 'GEONET' - Status for 1 time intervals/channels after downloading: DOWNLOADED\n",
      "[2021-11-25 00:52:47,914] - obspy.clients.fdsn.mass_downloader - INFO: Client 'GEONET' - No station information to download.\n",
      "[2021-11-25 00:52:47,920] - obspy.clients.fdsn.mass_downloader - INFO: ============================== Final report\n",
      "[2021-11-25 00:52:47,925] - obspy.clients.fdsn.mass_downloader - INFO: 0 MiniSEED files [0.0 MB] already existed.\n",
      "[2021-11-25 00:52:47,929] - obspy.clients.fdsn.mass_downloader - INFO: 1 StationXML files [0.0 MB] already existed.\n",
      "[2021-11-25 00:52:47,929] - obspy.clients.fdsn.mass_downloader - INFO: Client 'GEONET' - Acquired 1 MiniSEED files [0.0 MB].\n",
      "[2021-11-25 00:52:47,929] - obspy.clients.fdsn.mass_downloader - INFO: Client 'GEONET' - Acquired 0 StationXML files [0.0 MB].\n",
      "[2021-11-25 00:52:47,930] - obspy.clients.fdsn.mass_downloader - INFO: Downloaded 0.0 MB in total.\n",
      "[2021-11-25 00:52:47,953] - obspy.clients.fdsn.mass_downloader - INFO: Initializing FDSN client(s) for GEONET.\n",
      "[2021-11-25 00:52:47,994] - obspy.clients.fdsn.mass_downloader - INFO: Successfully initialized 1 client(s): GEONET.\n",
      "[2021-11-25 00:52:47,999] - obspy.clients.fdsn.mass_downloader - INFO: Total acquired or preexisting stations: 0\n",
      "[2021-11-25 00:52:48,003] - obspy.clients.fdsn.mass_downloader - INFO: Client 'GEONET' - Requesting unreliable availability.\n"
     ]
    },
    {
     "name": "stdout",
     "output_type": "stream",
     "text": [
      "=================================================================\n",
      "Initiating mass download request.\n"
     ]
    },
    {
     "name": "stderr",
     "output_type": "stream",
     "text": [
      "[2021-11-25 00:52:48,627] - obspy.clients.fdsn.mass_downloader - INFO: Client 'GEONET' - Successfully requested availability (0.62 seconds)\n",
      "[2021-11-25 00:52:48,656] - obspy.clients.fdsn.mass_downloader - INFO: Client 'GEONET' - Found 1 stations (1 channels).\n",
      "[2021-11-25 00:52:48,683] - obspy.clients.fdsn.mass_downloader - INFO: Client 'GEONET' - Will attempt to download data from 1 stations.\n",
      "[2021-11-25 00:52:48,693] - obspy.clients.fdsn.mass_downloader - INFO: Client 'GEONET' - Status for 1 time intervals/channels before downloading: NEEDS_DOWNLOADING\n",
      "[2021-11-25 00:52:49,716] - obspy.clients.fdsn.mass_downloader - INFO: Client 'GEONET' - Successfully downloaded 1 channels (of 1)\n",
      "[2021-11-25 00:52:49,870] - obspy.clients.fdsn.mass_downloader - INFO: Client 'GEONET' - Launching basic QC checks...\n",
      "[2021-11-25 00:52:49,930] - obspy.clients.fdsn.mass_downloader - INFO: Client 'GEONET' - Downloaded 0.0 MB [3.96 KB/sec] of data, 0.0 MB of which were discarded afterwards.\n",
      "[2021-11-25 00:52:49,947] - obspy.clients.fdsn.mass_downloader - INFO: Client 'GEONET' - Status for 1 time intervals/channels after downloading: DOWNLOADED\n",
      "[2021-11-25 00:52:49,976] - obspy.clients.fdsn.mass_downloader - INFO: Client 'GEONET' - No station information to download.\n",
      "[2021-11-25 00:52:49,984] - obspy.clients.fdsn.mass_downloader - INFO: ============================== Final report\n",
      "[2021-11-25 00:52:49,988] - obspy.clients.fdsn.mass_downloader - INFO: 0 MiniSEED files [0.0 MB] already existed.\n",
      "[2021-11-25 00:52:49,993] - obspy.clients.fdsn.mass_downloader - INFO: 1 StationXML files [0.0 MB] already existed.\n",
      "[2021-11-25 00:52:49,997] - obspy.clients.fdsn.mass_downloader - INFO: Client 'GEONET' - Acquired 1 MiniSEED files [0.0 MB].\n",
      "[2021-11-25 00:52:49,999] - obspy.clients.fdsn.mass_downloader - INFO: Client 'GEONET' - Acquired 0 StationXML files [0.0 MB].\n",
      "[2021-11-25 00:52:50,000] - obspy.clients.fdsn.mass_downloader - INFO: Downloaded 0.0 MB in total.\n",
      "[2021-11-25 00:52:50,005] - obspy.clients.fdsn.mass_downloader - INFO: Initializing FDSN client(s) for GEONET.\n",
      "[2021-11-25 00:52:50,018] - obspy.clients.fdsn.mass_downloader - INFO: Successfully initialized 1 client(s): GEONET.\n",
      "[2021-11-25 00:52:50,019] - obspy.clients.fdsn.mass_downloader - INFO: Total acquired or preexisting stations: 0\n",
      "[2021-11-25 00:52:50,020] - obspy.clients.fdsn.mass_downloader - INFO: Client 'GEONET' - Requesting unreliable availability.\n"
     ]
    },
    {
     "name": "stdout",
     "output_type": "stream",
     "text": [
      "=================================================================\n",
      "Initiating mass download request.\n"
     ]
    },
    {
     "name": "stderr",
     "output_type": "stream",
     "text": [
      "[2021-11-25 00:52:50,569] - obspy.clients.fdsn.mass_downloader - INFO: Client 'GEONET' - Successfully requested availability (0.55 seconds)\n",
      "[2021-11-25 00:52:50,593] - obspy.clients.fdsn.mass_downloader - INFO: Client 'GEONET' - Found 1 stations (1 channels).\n",
      "[2021-11-25 00:52:50,606] - obspy.clients.fdsn.mass_downloader - INFO: Client 'GEONET' - Will attempt to download data from 1 stations.\n",
      "[2021-11-25 00:52:50,618] - obspy.clients.fdsn.mass_downloader - INFO: Client 'GEONET' - Status for 1 time intervals/channels before downloading: NEEDS_DOWNLOADING\n",
      "[2021-11-25 00:52:51,373] - obspy.clients.fdsn.mass_downloader - INFO: Client 'GEONET' - Successfully downloaded 1 channels (of 1)\n",
      "[2021-11-25 00:52:51,407] - obspy.clients.fdsn.mass_downloader - INFO: Client 'GEONET' - Launching basic QC checks...\n",
      "[2021-11-25 00:52:51,421] - obspy.clients.fdsn.mass_downloader - INFO: Client 'GEONET' - Downloaded 0.0 MB [3.89 KB/sec] of data, 0.0 MB of which were discarded afterwards.\n",
      "[2021-11-25 00:52:51,428] - obspy.clients.fdsn.mass_downloader - INFO: Client 'GEONET' - Status for 1 time intervals/channels after downloading: DOWNLOADED\n",
      "[2021-11-25 00:52:51,431] - obspy.clients.fdsn.mass_downloader - INFO: Client 'GEONET' - No station information to download.\n",
      "[2021-11-25 00:52:51,435] - obspy.clients.fdsn.mass_downloader - INFO: ============================== Final report\n",
      "[2021-11-25 00:52:51,437] - obspy.clients.fdsn.mass_downloader - INFO: 0 MiniSEED files [0.0 MB] already existed.\n",
      "[2021-11-25 00:52:51,438] - obspy.clients.fdsn.mass_downloader - INFO: 1 StationXML files [0.0 MB] already existed.\n",
      "[2021-11-25 00:52:51,439] - obspy.clients.fdsn.mass_downloader - INFO: Client 'GEONET' - Acquired 1 MiniSEED files [0.0 MB].\n",
      "[2021-11-25 00:52:51,440] - obspy.clients.fdsn.mass_downloader - INFO: Client 'GEONET' - Acquired 0 StationXML files [0.0 MB].\n",
      "[2021-11-25 00:52:51,440] - obspy.clients.fdsn.mass_downloader - INFO: Downloaded 0.0 MB in total.\n",
      "[2021-11-25 00:52:51,445] - obspy.clients.fdsn.mass_downloader - INFO: Initializing FDSN client(s) for GEONET.\n",
      "[2021-11-25 00:52:51,453] - obspy.clients.fdsn.mass_downloader - INFO: Successfully initialized 1 client(s): GEONET.\n",
      "[2021-11-25 00:52:51,454] - obspy.clients.fdsn.mass_downloader - INFO: Total acquired or preexisting stations: 0\n",
      "[2021-11-25 00:52:51,455] - obspy.clients.fdsn.mass_downloader - INFO: Client 'GEONET' - Requesting unreliable availability.\n"
     ]
    },
    {
     "name": "stdout",
     "output_type": "stream",
     "text": [
      "=================================================================\n",
      "Initiating mass download request.\n"
     ]
    },
    {
     "name": "stderr",
     "output_type": "stream",
     "text": [
      "[2021-11-25 00:52:52,071] - obspy.clients.fdsn.mass_downloader - INFO: Client 'GEONET' - Successfully requested availability (0.61 seconds)\n",
      "[2021-11-25 00:52:52,075] - obspy.clients.fdsn.mass_downloader - INFO: Client 'GEONET' - Found 1 stations (1 channels).\n",
      "[2021-11-25 00:52:52,076] - obspy.clients.fdsn.mass_downloader - INFO: Client 'GEONET' - Will attempt to download data from 1 stations.\n",
      "[2021-11-25 00:52:52,076] - obspy.clients.fdsn.mass_downloader - INFO: Client 'GEONET' - Status for 1 time intervals/channels before downloading: NEEDS_DOWNLOADING\n",
      "[2021-11-25 00:52:52,901] - obspy.clients.fdsn.mass_downloader - INFO: Client 'GEONET' - Successfully downloaded 1 channels (of 1)\n",
      "[2021-11-25 00:52:52,911] - obspy.clients.fdsn.mass_downloader - INFO: Client 'GEONET' - Launching basic QC checks...\n",
      "[2021-11-25 00:52:52,936] - obspy.clients.fdsn.mass_downloader - INFO: Client 'GEONET' - Downloaded 0.0 MB [4.24 KB/sec] of data, 0.0 MB of which were discarded afterwards.\n",
      "[2021-11-25 00:52:52,937] - obspy.clients.fdsn.mass_downloader - INFO: Client 'GEONET' - Status for 1 time intervals/channels after downloading: DOWNLOADED\n",
      "[2021-11-25 00:52:52,942] - obspy.clients.fdsn.mass_downloader - INFO: Client 'GEONET' - No station information to download.\n",
      "[2021-11-25 00:52:52,944] - obspy.clients.fdsn.mass_downloader - INFO: ============================== Final report\n",
      "[2021-11-25 00:52:52,948] - obspy.clients.fdsn.mass_downloader - INFO: 0 MiniSEED files [0.0 MB] already existed.\n",
      "[2021-11-25 00:52:52,949] - obspy.clients.fdsn.mass_downloader - INFO: 1 StationXML files [0.0 MB] already existed.\n",
      "[2021-11-25 00:52:52,950] - obspy.clients.fdsn.mass_downloader - INFO: Client 'GEONET' - Acquired 1 MiniSEED files [0.0 MB].\n",
      "[2021-11-25 00:52:52,951] - obspy.clients.fdsn.mass_downloader - INFO: Client 'GEONET' - Acquired 0 StationXML files [0.0 MB].\n",
      "[2021-11-25 00:52:52,951] - obspy.clients.fdsn.mass_downloader - INFO: Downloaded 0.0 MB in total.\n",
      "[2021-11-25 00:52:52,966] - obspy.clients.fdsn.mass_downloader - INFO: Initializing FDSN client(s) for GEONET.\n",
      "[2021-11-25 00:52:52,973] - obspy.clients.fdsn.mass_downloader - INFO: Successfully initialized 1 client(s): GEONET.\n",
      "[2021-11-25 00:52:52,976] - obspy.clients.fdsn.mass_downloader - INFO: Total acquired or preexisting stations: 0\n",
      "[2021-11-25 00:52:52,977] - obspy.clients.fdsn.mass_downloader - INFO: Client 'GEONET' - Requesting unreliable availability.\n"
     ]
    },
    {
     "name": "stdout",
     "output_type": "stream",
     "text": [
      "=================================================================\n",
      "Initiating mass download request.\n"
     ]
    },
    {
     "name": "stderr",
     "output_type": "stream",
     "text": [
      "[2021-11-25 00:52:53,647] - obspy.clients.fdsn.mass_downloader - INFO: Client 'GEONET' - Successfully requested availability (0.67 seconds)\n",
      "[2021-11-25 00:52:53,661] - obspy.clients.fdsn.mass_downloader - INFO: Client 'GEONET' - Found 1 stations (1 channels).\n",
      "[2021-11-25 00:52:53,684] - obspy.clients.fdsn.mass_downloader - INFO: Client 'GEONET' - Will attempt to download data from 1 stations.\n",
      "[2021-11-25 00:52:53,700] - obspy.clients.fdsn.mass_downloader - INFO: Client 'GEONET' - Status for 1 time intervals/channels before downloading: NEEDS_DOWNLOADING\n",
      "[2021-11-25 00:52:54,561] - obspy.clients.fdsn.mass_downloader - INFO: Client 'GEONET' - Successfully downloaded 1 channels (of 1)\n",
      "[2021-11-25 00:52:54,574] - obspy.clients.fdsn.mass_downloader - INFO: Client 'GEONET' - Launching basic QC checks...\n",
      "[2021-11-25 00:52:54,584] - obspy.clients.fdsn.mass_downloader - INFO: Client 'GEONET' - Downloaded 0.0 MB [4.17 KB/sec] of data, 0.0 MB of which were discarded afterwards.\n",
      "[2021-11-25 00:52:54,585] - obspy.clients.fdsn.mass_downloader - INFO: Client 'GEONET' - Status for 1 time intervals/channels after downloading: DOWNLOADED\n",
      "[2021-11-25 00:52:54,587] - obspy.clients.fdsn.mass_downloader - INFO: Client 'GEONET' - No station information to download.\n",
      "[2021-11-25 00:52:54,588] - obspy.clients.fdsn.mass_downloader - INFO: ============================== Final report\n",
      "[2021-11-25 00:52:54,588] - obspy.clients.fdsn.mass_downloader - INFO: 0 MiniSEED files [0.0 MB] already existed.\n",
      "[2021-11-25 00:52:54,588] - obspy.clients.fdsn.mass_downloader - INFO: 1 StationXML files [0.0 MB] already existed.\n",
      "[2021-11-25 00:52:54,589] - obspy.clients.fdsn.mass_downloader - INFO: Client 'GEONET' - Acquired 1 MiniSEED files [0.0 MB].\n",
      "[2021-11-25 00:52:54,589] - obspy.clients.fdsn.mass_downloader - INFO: Client 'GEONET' - Acquired 0 StationXML files [0.0 MB].\n",
      "[2021-11-25 00:52:54,589] - obspy.clients.fdsn.mass_downloader - INFO: Downloaded 0.0 MB in total.\n",
      "[2021-11-25 00:52:54,595] - obspy.clients.fdsn.mass_downloader - INFO: Initializing FDSN client(s) for GEONET.\n",
      "[2021-11-25 00:52:54,598] - obspy.clients.fdsn.mass_downloader - INFO: Successfully initialized 1 client(s): GEONET.\n",
      "[2021-11-25 00:52:54,599] - obspy.clients.fdsn.mass_downloader - INFO: Total acquired or preexisting stations: 0\n",
      "[2021-11-25 00:52:54,599] - obspy.clients.fdsn.mass_downloader - INFO: Client 'GEONET' - Requesting unreliable availability.\n"
     ]
    },
    {
     "name": "stdout",
     "output_type": "stream",
     "text": [
      "=================================================================\n",
      "Initiating mass download request.\n"
     ]
    },
    {
     "name": "stderr",
     "output_type": "stream",
     "text": [
      "[2021-11-25 00:52:55,230] - obspy.clients.fdsn.mass_downloader - INFO: Client 'GEONET' - Successfully requested availability (0.63 seconds)\n",
      "[2021-11-25 00:52:55,244] - obspy.clients.fdsn.mass_downloader - INFO: Client 'GEONET' - Found 1 stations (1 channels).\n",
      "[2021-11-25 00:52:55,255] - obspy.clients.fdsn.mass_downloader - INFO: Client 'GEONET' - Will attempt to download data from 1 stations.\n",
      "[2021-11-25 00:52:55,274] - obspy.clients.fdsn.mass_downloader - INFO: Client 'GEONET' - Status for 1 time intervals/channels before downloading: NEEDS_DOWNLOADING\n",
      "[2021-11-25 00:52:56,180] - obspy.clients.fdsn.mass_downloader - INFO: Client 'GEONET' - Successfully downloaded 1 channels (of 1)\n",
      "[2021-11-25 00:52:56,230] - obspy.clients.fdsn.mass_downloader - INFO: Client 'GEONET' - Launching basic QC checks...\n",
      "[2021-11-25 00:52:56,297] - obspy.clients.fdsn.mass_downloader - INFO: Client 'GEONET' - Downloaded 0.0 MB [4.88 KB/sec] of data, 0.0 MB of which were discarded afterwards.\n",
      "[2021-11-25 00:52:56,300] - obspy.clients.fdsn.mass_downloader - INFO: Client 'GEONET' - Status for 1 time intervals/channels after downloading: DOWNLOADED\n",
      "[2021-11-25 00:52:56,307] - obspy.clients.fdsn.mass_downloader - INFO: Client 'GEONET' - No station information to download.\n",
      "[2021-11-25 00:52:56,311] - obspy.clients.fdsn.mass_downloader - INFO: ============================== Final report\n",
      "[2021-11-25 00:52:56,318] - obspy.clients.fdsn.mass_downloader - INFO: 0 MiniSEED files [0.0 MB] already existed.\n",
      "[2021-11-25 00:52:56,324] - obspy.clients.fdsn.mass_downloader - INFO: 1 StationXML files [0.0 MB] already existed.\n",
      "[2021-11-25 00:52:56,332] - obspy.clients.fdsn.mass_downloader - INFO: Client 'GEONET' - Acquired 1 MiniSEED files [0.0 MB].\n",
      "[2021-11-25 00:52:56,333] - obspy.clients.fdsn.mass_downloader - INFO: Client 'GEONET' - Acquired 0 StationXML files [0.0 MB].\n",
      "[2021-11-25 00:52:56,333] - obspy.clients.fdsn.mass_downloader - INFO: Downloaded 0.0 MB in total.\n",
      "[2021-11-25 00:52:56,363] - obspy.clients.fdsn.mass_downloader - INFO: Initializing FDSN client(s) for GEONET.\n",
      "[2021-11-25 00:52:56,390] - obspy.clients.fdsn.mass_downloader - INFO: Successfully initialized 1 client(s): GEONET.\n",
      "[2021-11-25 00:52:56,394] - obspy.clients.fdsn.mass_downloader - INFO: Total acquired or preexisting stations: 0\n",
      "[2021-11-25 00:52:56,395] - obspy.clients.fdsn.mass_downloader - INFO: Client 'GEONET' - Requesting unreliable availability.\n"
     ]
    },
    {
     "name": "stdout",
     "output_type": "stream",
     "text": [
      "=================================================================\n",
      "Initiating mass download request.\n"
     ]
    },
    {
     "name": "stderr",
     "output_type": "stream",
     "text": [
      "[2021-11-25 00:52:57,064] - obspy.clients.fdsn.mass_downloader - INFO: Client 'GEONET' - Successfully requested availability (0.67 seconds)\n",
      "[2021-11-25 00:52:57,070] - obspy.clients.fdsn.mass_downloader - INFO: Client 'GEONET' - Found 1 stations (1 channels).\n",
      "[2021-11-25 00:52:57,071] - obspy.clients.fdsn.mass_downloader - INFO: Client 'GEONET' - Will attempt to download data from 1 stations.\n",
      "[2021-11-25 00:52:57,071] - obspy.clients.fdsn.mass_downloader - INFO: Client 'GEONET' - Status for 1 time intervals/channels before downloading: NEEDS_DOWNLOADING\n",
      "[2021-11-25 00:52:57,907] - obspy.clients.fdsn.mass_downloader - INFO: Client 'GEONET' - Successfully downloaded 1 channels (of 1)\n",
      "[2021-11-25 00:52:57,997] - obspy.clients.fdsn.mass_downloader - INFO: Client 'GEONET' - Launching basic QC checks...\n",
      "[2021-11-25 00:52:58,050] - obspy.clients.fdsn.mass_downloader - INFO: Client 'GEONET' - Downloaded 0.0 MB [4.37 KB/sec] of data, 0.0 MB of which were discarded afterwards.\n",
      "[2021-11-25 00:52:58,053] - obspy.clients.fdsn.mass_downloader - INFO: Client 'GEONET' - Status for 1 time intervals/channels after downloading: DOWNLOADED\n",
      "[2021-11-25 00:52:58,086] - obspy.clients.fdsn.mass_downloader - INFO: Client 'GEONET' - No station information to download.\n",
      "[2021-11-25 00:52:58,088] - obspy.clients.fdsn.mass_downloader - INFO: ============================== Final report\n",
      "[2021-11-25 00:52:58,090] - obspy.clients.fdsn.mass_downloader - INFO: 0 MiniSEED files [0.0 MB] already existed.\n",
      "[2021-11-25 00:52:58,093] - obspy.clients.fdsn.mass_downloader - INFO: 1 StationXML files [0.0 MB] already existed.\n",
      "[2021-11-25 00:52:58,102] - obspy.clients.fdsn.mass_downloader - INFO: Client 'GEONET' - Acquired 1 MiniSEED files [0.0 MB].\n",
      "[2021-11-25 00:52:58,105] - obspy.clients.fdsn.mass_downloader - INFO: Client 'GEONET' - Acquired 0 StationXML files [0.0 MB].\n",
      "[2021-11-25 00:52:58,105] - obspy.clients.fdsn.mass_downloader - INFO: Downloaded 0.0 MB in total.\n",
      "[2021-11-25 00:52:58,119] - obspy.clients.fdsn.mass_downloader - INFO: Initializing FDSN client(s) for GEONET.\n",
      "[2021-11-25 00:52:58,147] - obspy.clients.fdsn.mass_downloader - INFO: Successfully initialized 1 client(s): GEONET.\n",
      "[2021-11-25 00:52:58,150] - obspy.clients.fdsn.mass_downloader - INFO: Total acquired or preexisting stations: 0\n",
      "[2021-11-25 00:52:58,153] - obspy.clients.fdsn.mass_downloader - INFO: Client 'GEONET' - Requesting unreliable availability.\n"
     ]
    },
    {
     "name": "stdout",
     "output_type": "stream",
     "text": [
      "=================================================================\n",
      "Initiating mass download request.\n"
     ]
    },
    {
     "name": "stderr",
     "output_type": "stream",
     "text": [
      "[2021-11-25 00:52:58,814] - obspy.clients.fdsn.mass_downloader - INFO: Client 'GEONET' - Successfully requested availability (0.66 seconds)\n",
      "[2021-11-25 00:52:58,832] - obspy.clients.fdsn.mass_downloader - INFO: Client 'GEONET' - Found 1 stations (1 channels).\n",
      "[2021-11-25 00:52:58,843] - obspy.clients.fdsn.mass_downloader - INFO: Client 'GEONET' - Will attempt to download data from 1 stations.\n",
      "[2021-11-25 00:52:58,857] - obspy.clients.fdsn.mass_downloader - INFO: Client 'GEONET' - Status for 1 time intervals/channels before downloading: NEEDS_DOWNLOADING\n",
      "[2021-11-25 00:52:59,789] - obspy.clients.fdsn.mass_downloader - INFO: Client 'GEONET' - Successfully downloaded 1 channels (of 1)\n",
      "[2021-11-25 00:52:59,822] - obspy.clients.fdsn.mass_downloader - INFO: Client 'GEONET' - Launching basic QC checks...\n",
      "[2021-11-25 00:52:59,871] - obspy.clients.fdsn.mass_downloader - INFO: Client 'GEONET' - Downloaded 0.0 MB [3.67 KB/sec] of data, 0.0 MB of which were discarded afterwards.\n",
      "[2021-11-25 00:52:59,875] - obspy.clients.fdsn.mass_downloader - INFO: Client 'GEONET' - Status for 1 time intervals/channels after downloading: DOWNLOADED\n",
      "[2021-11-25 00:52:59,897] - obspy.clients.fdsn.mass_downloader - INFO: Client 'GEONET' - No station information to download.\n",
      "[2021-11-25 00:52:59,912] - obspy.clients.fdsn.mass_downloader - INFO: ============================== Final report\n",
      "[2021-11-25 00:52:59,918] - obspy.clients.fdsn.mass_downloader - INFO: 0 MiniSEED files [0.0 MB] already existed.\n",
      "[2021-11-25 00:52:59,929] - obspy.clients.fdsn.mass_downloader - INFO: 1 StationXML files [0.0 MB] already existed.\n",
      "[2021-11-25 00:52:59,930] - obspy.clients.fdsn.mass_downloader - INFO: Client 'GEONET' - Acquired 1 MiniSEED files [0.0 MB].\n",
      "[2021-11-25 00:52:59,932] - obspy.clients.fdsn.mass_downloader - INFO: Client 'GEONET' - Acquired 0 StationXML files [0.0 MB].\n",
      "[2021-11-25 00:52:59,933] - obspy.clients.fdsn.mass_downloader - INFO: Downloaded 0.0 MB in total.\n",
      "[2021-11-25 00:52:59,948] - obspy.clients.fdsn.mass_downloader - INFO: Initializing FDSN client(s) for GEONET.\n",
      "[2021-11-25 00:52:59,974] - obspy.clients.fdsn.mass_downloader - INFO: Successfully initialized 1 client(s): GEONET.\n",
      "[2021-11-25 00:52:59,979] - obspy.clients.fdsn.mass_downloader - INFO: Total acquired or preexisting stations: 0\n",
      "[2021-11-25 00:52:59,983] - obspy.clients.fdsn.mass_downloader - INFO: Client 'GEONET' - Requesting unreliable availability.\n"
     ]
    },
    {
     "name": "stdout",
     "output_type": "stream",
     "text": [
      "=================================================================\n",
      "Initiating mass download request.\n"
     ]
    },
    {
     "name": "stderr",
     "output_type": "stream",
     "text": [
      "[2021-11-25 00:53:00,710] - obspy.clients.fdsn.mass_downloader - INFO: Client 'GEONET' - Successfully requested availability (0.73 seconds)\n",
      "[2021-11-25 00:53:00,748] - obspy.clients.fdsn.mass_downloader - INFO: Client 'GEONET' - Found 1 stations (1 channels).\n",
      "[2021-11-25 00:53:00,766] - obspy.clients.fdsn.mass_downloader - INFO: Client 'GEONET' - Will attempt to download data from 1 stations.\n",
      "[2021-11-25 00:53:00,797] - obspy.clients.fdsn.mass_downloader - INFO: Client 'GEONET' - Status for 1 time intervals/channels before downloading: NEEDS_DOWNLOADING\n",
      "[2021-11-25 00:53:01,764] - obspy.clients.fdsn.mass_downloader - INFO: Client 'GEONET' - Successfully downloaded 1 channels (of 1)\n",
      "[2021-11-25 00:53:01,825] - obspy.clients.fdsn.mass_downloader - INFO: Client 'GEONET' - Launching basic QC checks...\n",
      "[2021-11-25 00:53:01,874] - obspy.clients.fdsn.mass_downloader - INFO: Client 'GEONET' - Downloaded 0.0 MB [3.52 KB/sec] of data, 0.0 MB of which were discarded afterwards.\n",
      "[2021-11-25 00:53:01,878] - obspy.clients.fdsn.mass_downloader - INFO: Client 'GEONET' - Status for 1 time intervals/channels after downloading: DOWNLOADED\n",
      "[2021-11-25 00:53:01,892] - obspy.clients.fdsn.mass_downloader - INFO: Client 'GEONET' - No station information to download.\n",
      "[2021-11-25 00:53:01,893] - obspy.clients.fdsn.mass_downloader - INFO: ============================== Final report\n",
      "[2021-11-25 00:53:01,894] - obspy.clients.fdsn.mass_downloader - INFO: 0 MiniSEED files [0.0 MB] already existed.\n",
      "[2021-11-25 00:53:01,896] - obspy.clients.fdsn.mass_downloader - INFO: 1 StationXML files [0.0 MB] already existed.\n",
      "[2021-11-25 00:53:01,900] - obspy.clients.fdsn.mass_downloader - INFO: Client 'GEONET' - Acquired 1 MiniSEED files [0.0 MB].\n",
      "[2021-11-25 00:53:01,911] - obspy.clients.fdsn.mass_downloader - INFO: Client 'GEONET' - Acquired 0 StationXML files [0.0 MB].\n",
      "[2021-11-25 00:53:01,916] - obspy.clients.fdsn.mass_downloader - INFO: Downloaded 0.0 MB in total.\n",
      "[2021-11-25 00:53:01,930] - obspy.clients.fdsn.mass_downloader - INFO: Initializing FDSN client(s) for GEONET.\n",
      "[2021-11-25 00:53:01,961] - obspy.clients.fdsn.mass_downloader - INFO: Successfully initialized 1 client(s): GEONET.\n",
      "[2021-11-25 00:53:01,997] - obspy.clients.fdsn.mass_downloader - INFO: Total acquired or preexisting stations: 0\n",
      "[2021-11-25 00:53:02,002] - obspy.clients.fdsn.mass_downloader - INFO: Client 'GEONET' - Requesting unreliable availability.\n"
     ]
    },
    {
     "name": "stdout",
     "output_type": "stream",
     "text": [
      "=================================================================\n",
      "Initiating mass download request.\n"
     ]
    },
    {
     "name": "stderr",
     "output_type": "stream",
     "text": [
      "[2021-11-25 00:53:02,601] - obspy.clients.fdsn.mass_downloader - INFO: Client 'GEONET' - Successfully requested availability (0.60 seconds)\n",
      "[2021-11-25 00:53:02,603] - obspy.clients.fdsn.mass_downloader - INFO: Client 'GEONET' - Found 1 stations (1 channels).\n",
      "[2021-11-25 00:53:02,604] - obspy.clients.fdsn.mass_downloader - INFO: Client 'GEONET' - Will attempt to download data from 1 stations.\n",
      "[2021-11-25 00:53:02,604] - obspy.clients.fdsn.mass_downloader - INFO: Client 'GEONET' - Status for 1 time intervals/channels before downloading: NEEDS_DOWNLOADING\n",
      "[2021-11-25 00:53:03,514] - obspy.clients.fdsn.mass_downloader - INFO: Client 'GEONET' - Successfully downloaded 1 channels (of 1)\n",
      "[2021-11-25 00:53:03,556] - obspy.clients.fdsn.mass_downloader - INFO: Client 'GEONET' - Launching basic QC checks...\n",
      "[2021-11-25 00:53:03,590] - obspy.clients.fdsn.mass_downloader - INFO: Client 'GEONET' - Downloaded 0.0 MB [3.16 KB/sec] of data, 0.0 MB of which were discarded afterwards.\n",
      "[2021-11-25 00:53:03,594] - obspy.clients.fdsn.mass_downloader - INFO: Client 'GEONET' - Status for 1 time intervals/channels after downloading: DOWNLOADED\n",
      "[2021-11-25 00:53:03,606] - obspy.clients.fdsn.mass_downloader - INFO: Client 'GEONET' - No station information to download.\n",
      "[2021-11-25 00:53:03,614] - obspy.clients.fdsn.mass_downloader - INFO: ============================== Final report\n",
      "[2021-11-25 00:53:03,619] - obspy.clients.fdsn.mass_downloader - INFO: 0 MiniSEED files [0.0 MB] already existed.\n",
      "[2021-11-25 00:53:03,623] - obspy.clients.fdsn.mass_downloader - INFO: 1 StationXML files [0.0 MB] already existed.\n",
      "[2021-11-25 00:53:03,624] - obspy.clients.fdsn.mass_downloader - INFO: Client 'GEONET' - Acquired 1 MiniSEED files [0.0 MB].\n",
      "[2021-11-25 00:53:03,624] - obspy.clients.fdsn.mass_downloader - INFO: Client 'GEONET' - Acquired 0 StationXML files [0.0 MB].\n",
      "[2021-11-25 00:53:03,628] - obspy.clients.fdsn.mass_downloader - INFO: Downloaded 0.0 MB in total.\n",
      "[2021-11-25 00:53:03,645] - obspy.clients.fdsn.mass_downloader - INFO: Initializing FDSN client(s) for GEONET.\n",
      "[2021-11-25 00:53:03,672] - obspy.clients.fdsn.mass_downloader - INFO: Successfully initialized 1 client(s): GEONET.\n",
      "[2021-11-25 00:53:03,675] - obspy.clients.fdsn.mass_downloader - INFO: Total acquired or preexisting stations: 0\n",
      "[2021-11-25 00:53:03,678] - obspy.clients.fdsn.mass_downloader - INFO: Client 'GEONET' - Requesting unreliable availability.\n"
     ]
    },
    {
     "name": "stdout",
     "output_type": "stream",
     "text": [
      "=================================================================\n",
      "Initiating mass download request.\n"
     ]
    },
    {
     "name": "stderr",
     "output_type": "stream",
     "text": [
      "[2021-11-25 00:53:04,241] - obspy.clients.fdsn.mass_downloader - INFO: Client 'GEONET' - Successfully requested availability (0.56 seconds)\n",
      "[2021-11-25 00:53:04,243] - obspy.clients.fdsn.mass_downloader - INFO: Client 'GEONET' - Found 1 stations (1 channels).\n",
      "[2021-11-25 00:53:04,243] - obspy.clients.fdsn.mass_downloader - INFO: Client 'GEONET' - Will attempt to download data from 1 stations.\n",
      "[2021-11-25 00:53:04,243] - obspy.clients.fdsn.mass_downloader - INFO: Client 'GEONET' - Status for 1 time intervals/channels before downloading: NEEDS_DOWNLOADING\n",
      "[2021-11-25 00:53:05,174] - obspy.clients.fdsn.mass_downloader - INFO: Client 'GEONET' - Successfully downloaded 1 channels (of 1)\n",
      "[2021-11-25 00:53:05,197] - obspy.clients.fdsn.mass_downloader - INFO: Client 'GEONET' - Launching basic QC checks...\n",
      "[2021-11-25 00:53:05,216] - obspy.clients.fdsn.mass_downloader - INFO: Client 'GEONET' - Downloaded 0.0 MB [3.68 KB/sec] of data, 0.0 MB of which were discarded afterwards.\n",
      "[2021-11-25 00:53:05,225] - obspy.clients.fdsn.mass_downloader - INFO: Client 'GEONET' - Status for 1 time intervals/channels after downloading: DOWNLOADED\n",
      "[2021-11-25 00:53:05,233] - obspy.clients.fdsn.mass_downloader - INFO: Client 'GEONET' - No station information to download.\n",
      "[2021-11-25 00:53:05,234] - obspy.clients.fdsn.mass_downloader - INFO: ============================== Final report\n",
      "[2021-11-25 00:53:05,234] - obspy.clients.fdsn.mass_downloader - INFO: 0 MiniSEED files [0.0 MB] already existed.\n",
      "[2021-11-25 00:53:05,235] - obspy.clients.fdsn.mass_downloader - INFO: 1 StationXML files [0.0 MB] already existed.\n",
      "[2021-11-25 00:53:05,240] - obspy.clients.fdsn.mass_downloader - INFO: Client 'GEONET' - Acquired 1 MiniSEED files [0.0 MB].\n",
      "[2021-11-25 00:53:05,242] - obspy.clients.fdsn.mass_downloader - INFO: Client 'GEONET' - Acquired 0 StationXML files [0.0 MB].\n",
      "[2021-11-25 00:53:05,243] - obspy.clients.fdsn.mass_downloader - INFO: Downloaded 0.0 MB in total.\n",
      "[2021-11-25 00:53:05,255] - obspy.clients.fdsn.mass_downloader - INFO: Initializing FDSN client(s) for GEONET.\n",
      "[2021-11-25 00:53:05,261] - obspy.clients.fdsn.mass_downloader - INFO: Successfully initialized 1 client(s): GEONET.\n",
      "[2021-11-25 00:53:05,262] - obspy.clients.fdsn.mass_downloader - INFO: Total acquired or preexisting stations: 0\n",
      "[2021-11-25 00:53:05,262] - obspy.clients.fdsn.mass_downloader - INFO: Client 'GEONET' - Requesting unreliable availability.\n"
     ]
    },
    {
     "name": "stdout",
     "output_type": "stream",
     "text": [
      "=================================================================\n",
      "Initiating mass download request.\n"
     ]
    },
    {
     "name": "stderr",
     "output_type": "stream",
     "text": [
      "[2021-11-25 00:53:05,854] - obspy.clients.fdsn.mass_downloader - INFO: Client 'GEONET' - Successfully requested availability (0.59 seconds)\n",
      "[2021-11-25 00:53:05,919] - obspy.clients.fdsn.mass_downloader - INFO: Client 'GEONET' - Found 1 stations (1 channels).\n",
      "[2021-11-25 00:53:05,931] - obspy.clients.fdsn.mass_downloader - INFO: Client 'GEONET' - Will attempt to download data from 1 stations.\n",
      "[2021-11-25 00:53:05,949] - obspy.clients.fdsn.mass_downloader - INFO: Client 'GEONET' - Status for 1 time intervals/channels before downloading: NEEDS_DOWNLOADING\n",
      "[2021-11-25 00:53:06,897] - obspy.clients.fdsn.mass_downloader - INFO: Client 'GEONET' - Successfully downloaded 1 channels (of 1)\n",
      "[2021-11-25 00:53:06,957] - obspy.clients.fdsn.mass_downloader - INFO: Client 'GEONET' - Launching basic QC checks...\n",
      "[2021-11-25 00:53:06,996] - obspy.clients.fdsn.mass_downloader - INFO: Client 'GEONET' - Downloaded 0.0 MB [4.13 KB/sec] of data, 0.0 MB of which were discarded afterwards.\n",
      "[2021-11-25 00:53:07,019] - obspy.clients.fdsn.mass_downloader - INFO: Client 'GEONET' - Status for 1 time intervals/channels after downloading: DOWNLOADED\n",
      "[2021-11-25 00:53:07,031] - obspy.clients.fdsn.mass_downloader - INFO: Client 'GEONET' - No station information to download.\n",
      "[2021-11-25 00:53:07,038] - obspy.clients.fdsn.mass_downloader - INFO: ============================== Final report\n",
      "[2021-11-25 00:53:07,046] - obspy.clients.fdsn.mass_downloader - INFO: 0 MiniSEED files [0.0 MB] already existed.\n",
      "[2021-11-25 00:53:07,053] - obspy.clients.fdsn.mass_downloader - INFO: 1 StationXML files [0.0 MB] already existed.\n",
      "[2021-11-25 00:53:07,055] - obspy.clients.fdsn.mass_downloader - INFO: Client 'GEONET' - Acquired 1 MiniSEED files [0.0 MB].\n",
      "[2021-11-25 00:53:07,057] - obspy.clients.fdsn.mass_downloader - INFO: Client 'GEONET' - Acquired 0 StationXML files [0.0 MB].\n",
      "[2021-11-25 00:53:07,059] - obspy.clients.fdsn.mass_downloader - INFO: Downloaded 0.0 MB in total.\n",
      "[2021-11-25 00:53:07,068] - obspy.clients.fdsn.mass_downloader - INFO: Initializing FDSN client(s) for GEONET.\n",
      "[2021-11-25 00:53:07,157] - obspy.clients.fdsn.mass_downloader - INFO: Successfully initialized 1 client(s): GEONET.\n",
      "[2021-11-25 00:53:07,164] - obspy.clients.fdsn.mass_downloader - INFO: Total acquired or preexisting stations: 0\n",
      "[2021-11-25 00:53:07,170] - obspy.clients.fdsn.mass_downloader - INFO: Client 'GEONET' - Requesting unreliable availability.\n"
     ]
    },
    {
     "name": "stdout",
     "output_type": "stream",
     "text": [
      "=================================================================\n",
      "Initiating mass download request.\n"
     ]
    },
    {
     "name": "stderr",
     "output_type": "stream",
     "text": [
      "[2021-11-25 00:53:07,760] - obspy.clients.fdsn.mass_downloader - INFO: Client 'GEONET' - Successfully requested availability (0.59 seconds)\n",
      "[2021-11-25 00:53:07,792] - obspy.clients.fdsn.mass_downloader - INFO: Client 'GEONET' - Found 1 stations (1 channels).\n",
      "[2021-11-25 00:53:07,797] - obspy.clients.fdsn.mass_downloader - INFO: Client 'GEONET' - Will attempt to download data from 1 stations.\n",
      "[2021-11-25 00:53:07,814] - obspy.clients.fdsn.mass_downloader - INFO: Client 'GEONET' - Status for 1 time intervals/channels before downloading: NEEDS_DOWNLOADING\n",
      "[2021-11-25 00:53:08,787] - obspy.clients.fdsn.mass_downloader - INFO: Client 'GEONET' - Successfully downloaded 1 channels (of 1)\n",
      "[2021-11-25 00:53:08,820] - obspy.clients.fdsn.mass_downloader - INFO: Client 'GEONET' - Launching basic QC checks...\n",
      "[2021-11-25 00:53:08,872] - obspy.clients.fdsn.mass_downloader - INFO: Client 'GEONET' - Downloaded 0.0 MB [3.70 KB/sec] of data, 0.0 MB of which were discarded afterwards.\n",
      "[2021-11-25 00:53:08,875] - obspy.clients.fdsn.mass_downloader - INFO: Client 'GEONET' - Status for 1 time intervals/channels after downloading: DOWNLOADED\n",
      "[2021-11-25 00:53:08,887] - obspy.clients.fdsn.mass_downloader - INFO: Client 'GEONET' - No station information to download.\n",
      "[2021-11-25 00:53:08,897] - obspy.clients.fdsn.mass_downloader - INFO: ============================== Final report\n",
      "[2021-11-25 00:53:08,906] - obspy.clients.fdsn.mass_downloader - INFO: 0 MiniSEED files [0.0 MB] already existed.\n",
      "[2021-11-25 00:53:08,907] - obspy.clients.fdsn.mass_downloader - INFO: 1 StationXML files [0.0 MB] already existed.\n",
      "[2021-11-25 00:53:08,914] - obspy.clients.fdsn.mass_downloader - INFO: Client 'GEONET' - Acquired 1 MiniSEED files [0.0 MB].\n",
      "[2021-11-25 00:53:08,916] - obspy.clients.fdsn.mass_downloader - INFO: Client 'GEONET' - Acquired 0 StationXML files [0.0 MB].\n",
      "[2021-11-25 00:53:08,916] - obspy.clients.fdsn.mass_downloader - INFO: Downloaded 0.0 MB in total.\n",
      "[2021-11-25 00:53:08,922] - obspy.clients.fdsn.mass_downloader - INFO: Initializing FDSN client(s) for GEONET.\n",
      "[2021-11-25 00:53:08,950] - obspy.clients.fdsn.mass_downloader - INFO: Successfully initialized 1 client(s): GEONET.\n",
      "[2021-11-25 00:53:08,956] - obspy.clients.fdsn.mass_downloader - INFO: Total acquired or preexisting stations: 0\n",
      "[2021-11-25 00:53:08,962] - obspy.clients.fdsn.mass_downloader - INFO: Client 'GEONET' - Requesting unreliable availability.\n"
     ]
    },
    {
     "name": "stdout",
     "output_type": "stream",
     "text": [
      "=================================================================\n",
      "Initiating mass download request.\n"
     ]
    },
    {
     "name": "stderr",
     "output_type": "stream",
     "text": [
      "[2021-11-25 00:53:09,644] - obspy.clients.fdsn.mass_downloader - INFO: Client 'GEONET' - Successfully requested availability (0.68 seconds)\n",
      "[2021-11-25 00:53:09,663] - obspy.clients.fdsn.mass_downloader - INFO: Client 'GEONET' - Found 1 stations (1 channels).\n",
      "[2021-11-25 00:53:09,683] - obspy.clients.fdsn.mass_downloader - INFO: Client 'GEONET' - Will attempt to download data from 1 stations.\n",
      "[2021-11-25 00:53:09,697] - obspy.clients.fdsn.mass_downloader - INFO: Client 'GEONET' - Status for 1 time intervals/channels before downloading: NEEDS_DOWNLOADING\n",
      "[2021-11-25 00:53:10,851] - obspy.clients.fdsn.mass_downloader - INFO: Client 'GEONET' - Successfully downloaded 1 channels (of 1)\n",
      "[2021-11-25 00:53:10,888] - obspy.clients.fdsn.mass_downloader - INFO: Client 'GEONET' - Launching basic QC checks...\n",
      "[2021-11-25 00:53:10,917] - obspy.clients.fdsn.mass_downloader - INFO: Client 'GEONET' - Downloaded 0.0 MB [3.45 KB/sec] of data, 0.0 MB of which were discarded afterwards.\n",
      "[2021-11-25 00:53:10,922] - obspy.clients.fdsn.mass_downloader - INFO: Client 'GEONET' - Status for 1 time intervals/channels after downloading: DOWNLOADED\n",
      "[2021-11-25 00:53:10,939] - obspy.clients.fdsn.mass_downloader - INFO: Client 'GEONET' - No station information to download.\n",
      "[2021-11-25 00:53:10,951] - obspy.clients.fdsn.mass_downloader - INFO: ============================== Final report\n",
      "[2021-11-25 00:53:10,960] - obspy.clients.fdsn.mass_downloader - INFO: 0 MiniSEED files [0.0 MB] already existed.\n",
      "[2021-11-25 00:53:10,963] - obspy.clients.fdsn.mass_downloader - INFO: 1 StationXML files [0.0 MB] already existed.\n",
      "[2021-11-25 00:53:10,972] - obspy.clients.fdsn.mass_downloader - INFO: Client 'GEONET' - Acquired 1 MiniSEED files [0.0 MB].\n",
      "[2021-11-25 00:53:10,973] - obspy.clients.fdsn.mass_downloader - INFO: Client 'GEONET' - Acquired 0 StationXML files [0.0 MB].\n",
      "[2021-11-25 00:53:10,978] - obspy.clients.fdsn.mass_downloader - INFO: Downloaded 0.0 MB in total.\n",
      "[2021-11-25 00:53:11,002] - obspy.clients.fdsn.mass_downloader - INFO: Initializing FDSN client(s) for GEONET.\n",
      "[2021-11-25 00:53:11,076] - obspy.clients.fdsn.mass_downloader - INFO: Successfully initialized 1 client(s): GEONET.\n",
      "[2021-11-25 00:53:11,080] - obspy.clients.fdsn.mass_downloader - INFO: Total acquired or preexisting stations: 0\n",
      "[2021-11-25 00:53:11,085] - obspy.clients.fdsn.mass_downloader - INFO: Client 'GEONET' - Requesting unreliable availability.\n"
     ]
    },
    {
     "name": "stdout",
     "output_type": "stream",
     "text": [
      "=================================================================\n",
      "Initiating mass download request.\n"
     ]
    },
    {
     "name": "stderr",
     "output_type": "stream",
     "text": [
      "[2021-11-25 00:53:11,766] - obspy.clients.fdsn.mass_downloader - INFO: Client 'GEONET' - Successfully requested availability (0.68 seconds)\n",
      "[2021-11-25 00:53:11,791] - obspy.clients.fdsn.mass_downloader - INFO: Client 'GEONET' - Found 1 stations (1 channels).\n",
      "[2021-11-25 00:53:11,805] - obspy.clients.fdsn.mass_downloader - INFO: Client 'GEONET' - Will attempt to download data from 1 stations.\n",
      "[2021-11-25 00:53:11,812] - obspy.clients.fdsn.mass_downloader - INFO: Client 'GEONET' - Status for 1 time intervals/channels before downloading: NEEDS_DOWNLOADING\n",
      "[2021-11-25 00:53:12,713] - obspy.clients.fdsn.mass_downloader - INFO: Client 'GEONET' - Successfully downloaded 1 channels (of 1)\n",
      "[2021-11-25 00:53:12,769] - obspy.clients.fdsn.mass_downloader - INFO: Client 'GEONET' - Launching basic QC checks...\n",
      "[2021-11-25 00:53:12,785] - obspy.clients.fdsn.mass_downloader - INFO: Client 'GEONET' - Downloaded 0.0 MB [5.95 KB/sec] of data, 0.0 MB of which were discarded afterwards.\n",
      "[2021-11-25 00:53:12,789] - obspy.clients.fdsn.mass_downloader - INFO: Client 'GEONET' - Status for 1 time intervals/channels after downloading: DOWNLOADED\n",
      "[2021-11-25 00:53:12,803] - obspy.clients.fdsn.mass_downloader - INFO: Client 'GEONET' - No station information to download.\n",
      "[2021-11-25 00:53:12,810] - obspy.clients.fdsn.mass_downloader - INFO: ============================== Final report\n",
      "[2021-11-25 00:53:12,815] - obspy.clients.fdsn.mass_downloader - INFO: 0 MiniSEED files [0.0 MB] already existed.\n",
      "[2021-11-25 00:53:12,819] - obspy.clients.fdsn.mass_downloader - INFO: 1 StationXML files [0.0 MB] already existed.\n",
      "[2021-11-25 00:53:12,825] - obspy.clients.fdsn.mass_downloader - INFO: Client 'GEONET' - Acquired 1 MiniSEED files [0.0 MB].\n",
      "[2021-11-25 00:53:12,832] - obspy.clients.fdsn.mass_downloader - INFO: Client 'GEONET' - Acquired 0 StationXML files [0.0 MB].\n",
      "[2021-11-25 00:53:12,832] - obspy.clients.fdsn.mass_downloader - INFO: Downloaded 0.0 MB in total.\n",
      "[2021-11-25 00:53:12,855] - obspy.clients.fdsn.mass_downloader - INFO: Initializing FDSN client(s) for GEONET.\n",
      "[2021-11-25 00:53:12,882] - obspy.clients.fdsn.mass_downloader - INFO: Successfully initialized 1 client(s): GEONET.\n",
      "[2021-11-25 00:53:12,885] - obspy.clients.fdsn.mass_downloader - INFO: Total acquired or preexisting stations: 0\n",
      "[2021-11-25 00:53:12,887] - obspy.clients.fdsn.mass_downloader - INFO: Client 'GEONET' - Requesting unreliable availability.\n"
     ]
    },
    {
     "name": "stdout",
     "output_type": "stream",
     "text": [
      "=================================================================\n",
      "Initiating mass download request.\n"
     ]
    },
    {
     "name": "stderr",
     "output_type": "stream",
     "text": [
      "[2021-11-25 00:53:13,591] - obspy.clients.fdsn.mass_downloader - INFO: Client 'GEONET' - Successfully requested availability (0.70 seconds)\n",
      "[2021-11-25 00:53:13,605] - obspy.clients.fdsn.mass_downloader - INFO: Client 'GEONET' - Found 1 stations (1 channels).\n",
      "[2021-11-25 00:53:13,610] - obspy.clients.fdsn.mass_downloader - INFO: Client 'GEONET' - Will attempt to download data from 1 stations.\n",
      "[2021-11-25 00:53:13,612] - obspy.clients.fdsn.mass_downloader - INFO: Client 'GEONET' - Status for 1 time intervals/channels before downloading: NEEDS_DOWNLOADING\n",
      "[2021-11-25 00:53:14,572] - obspy.clients.fdsn.mass_downloader - INFO: Client 'GEONET' - Successfully downloaded 1 channels (of 1)\n",
      "[2021-11-25 00:53:14,626] - obspy.clients.fdsn.mass_downloader - INFO: Client 'GEONET' - Launching basic QC checks...\n",
      "[2021-11-25 00:53:14,660] - obspy.clients.fdsn.mass_downloader - INFO: Client 'GEONET' - Downloaded 0.0 MB [3.50 KB/sec] of data, 0.0 MB of which were discarded afterwards.\n",
      "[2021-11-25 00:53:14,668] - obspy.clients.fdsn.mass_downloader - INFO: Client 'GEONET' - Status for 1 time intervals/channels after downloading: DOWNLOADED\n",
      "[2021-11-25 00:53:14,715] - obspy.clients.fdsn.mass_downloader - INFO: Client 'GEONET' - No station information to download.\n",
      "[2021-11-25 00:53:14,728] - obspy.clients.fdsn.mass_downloader - INFO: ============================== Final report\n",
      "[2021-11-25 00:53:14,735] - obspy.clients.fdsn.mass_downloader - INFO: 0 MiniSEED files [0.0 MB] already existed.\n",
      "[2021-11-25 00:53:14,740] - obspy.clients.fdsn.mass_downloader - INFO: 1 StationXML files [0.0 MB] already existed.\n",
      "[2021-11-25 00:53:14,744] - obspy.clients.fdsn.mass_downloader - INFO: Client 'GEONET' - Acquired 1 MiniSEED files [0.0 MB].\n",
      "[2021-11-25 00:53:14,749] - obspy.clients.fdsn.mass_downloader - INFO: Client 'GEONET' - Acquired 0 StationXML files [0.0 MB].\n",
      "[2021-11-25 00:53:14,749] - obspy.clients.fdsn.mass_downloader - INFO: Downloaded 0.0 MB in total.\n",
      "[2021-11-25 00:53:14,769] - obspy.clients.fdsn.mass_downloader - INFO: Initializing FDSN client(s) for GEONET.\n",
      "[2021-11-25 00:53:14,825] - obspy.clients.fdsn.mass_downloader - INFO: Successfully initialized 1 client(s): GEONET.\n",
      "[2021-11-25 00:53:14,828] - obspy.clients.fdsn.mass_downloader - INFO: Total acquired or preexisting stations: 0\n",
      "[2021-11-25 00:53:14,830] - obspy.clients.fdsn.mass_downloader - INFO: Client 'GEONET' - Requesting unreliable availability.\n"
     ]
    },
    {
     "name": "stdout",
     "output_type": "stream",
     "text": [
      "=================================================================\n",
      "Initiating mass download request.\n"
     ]
    },
    {
     "name": "stderr",
     "output_type": "stream",
     "text": [
      "[2021-11-25 00:53:15,441] - obspy.clients.fdsn.mass_downloader - INFO: Client 'GEONET' - Successfully requested availability (0.61 seconds)\n",
      "[2021-11-25 00:53:15,533] - obspy.clients.fdsn.mass_downloader - INFO: Client 'GEONET' - Found 1 stations (1 channels).\n",
      "[2021-11-25 00:53:15,546] - obspy.clients.fdsn.mass_downloader - INFO: Client 'GEONET' - Will attempt to download data from 1 stations.\n",
      "[2021-11-25 00:53:15,563] - obspy.clients.fdsn.mass_downloader - INFO: Client 'GEONET' - Status for 1 time intervals/channels before downloading: NEEDS_DOWNLOADING\n",
      "[2021-11-25 00:53:16,487] - obspy.clients.fdsn.mass_downloader - INFO: Client 'GEONET' - Successfully downloaded 1 channels (of 1)\n",
      "[2021-11-25 00:53:16,530] - obspy.clients.fdsn.mass_downloader - INFO: Client 'GEONET' - Launching basic QC checks...\n",
      "[2021-11-25 00:53:16,554] - obspy.clients.fdsn.mass_downloader - INFO: Client 'GEONET' - Downloaded 0.0 MB [4.84 KB/sec] of data, 0.0 MB of which were discarded afterwards.\n",
      "[2021-11-25 00:53:16,564] - obspy.clients.fdsn.mass_downloader - INFO: Client 'GEONET' - Status for 1 time intervals/channels after downloading: DOWNLOADED\n",
      "[2021-11-25 00:53:16,579] - obspy.clients.fdsn.mass_downloader - INFO: Client 'GEONET' - No station information to download.\n",
      "[2021-11-25 00:53:16,592] - obspy.clients.fdsn.mass_downloader - INFO: ============================== Final report\n",
      "[2021-11-25 00:53:16,594] - obspy.clients.fdsn.mass_downloader - INFO: 0 MiniSEED files [0.0 MB] already existed.\n",
      "[2021-11-25 00:53:16,595] - obspy.clients.fdsn.mass_downloader - INFO: 1 StationXML files [0.0 MB] already existed.\n",
      "[2021-11-25 00:53:16,596] - obspy.clients.fdsn.mass_downloader - INFO: Client 'GEONET' - Acquired 1 MiniSEED files [0.0 MB].\n",
      "[2021-11-25 00:53:16,596] - obspy.clients.fdsn.mass_downloader - INFO: Client 'GEONET' - Acquired 0 StationXML files [0.0 MB].\n",
      "[2021-11-25 00:53:16,596] - obspy.clients.fdsn.mass_downloader - INFO: Downloaded 0.0 MB in total.\n",
      "[2021-11-25 00:53:16,620] - obspy.clients.fdsn.mass_downloader - INFO: Initializing FDSN client(s) for GEONET.\n",
      "[2021-11-25 00:53:16,638] - obspy.clients.fdsn.mass_downloader - INFO: Successfully initialized 1 client(s): GEONET.\n",
      "[2021-11-25 00:53:16,640] - obspy.clients.fdsn.mass_downloader - INFO: Total acquired or preexisting stations: 0\n",
      "[2021-11-25 00:53:16,642] - obspy.clients.fdsn.mass_downloader - INFO: Client 'GEONET' - Requesting unreliable availability.\n"
     ]
    },
    {
     "name": "stdout",
     "output_type": "stream",
     "text": [
      "=================================================================\n",
      "Initiating mass download request.\n"
     ]
    },
    {
     "name": "stderr",
     "output_type": "stream",
     "text": [
      "[2021-11-25 00:53:17,365] - obspy.clients.fdsn.mass_downloader - INFO: Client 'GEONET' - Successfully requested availability (0.72 seconds)\n",
      "[2021-11-25 00:53:17,414] - obspy.clients.fdsn.mass_downloader - INFO: Client 'GEONET' - Found 1 stations (1 channels).\n",
      "[2021-11-25 00:53:17,423] - obspy.clients.fdsn.mass_downloader - INFO: Client 'GEONET' - Will attempt to download data from 1 stations.\n",
      "[2021-11-25 00:53:17,432] - obspy.clients.fdsn.mass_downloader - INFO: Client 'GEONET' - Status for 1 time intervals/channels before downloading: NEEDS_DOWNLOADING\n",
      "[2021-11-25 00:53:18,453] - obspy.clients.fdsn.mass_downloader - INFO: Client 'GEONET' - Successfully downloaded 1 channels (of 1)\n",
      "[2021-11-25 00:53:18,519] - obspy.clients.fdsn.mass_downloader - INFO: Client 'GEONET' - Launching basic QC checks...\n",
      "[2021-11-25 00:53:18,599] - obspy.clients.fdsn.mass_downloader - INFO: Client 'GEONET' - Downloaded 0.0 MB [3.90 KB/sec] of data, 0.0 MB of which were discarded afterwards.\n",
      "[2021-11-25 00:53:18,608] - obspy.clients.fdsn.mass_downloader - INFO: Client 'GEONET' - Status for 1 time intervals/channels after downloading: DOWNLOADED\n",
      "[2021-11-25 00:53:18,625] - obspy.clients.fdsn.mass_downloader - INFO: Client 'GEONET' - No station information to download.\n",
      "[2021-11-25 00:53:18,629] - obspy.clients.fdsn.mass_downloader - INFO: ============================== Final report\n",
      "[2021-11-25 00:53:18,636] - obspy.clients.fdsn.mass_downloader - INFO: 0 MiniSEED files [0.0 MB] already existed.\n",
      "[2021-11-25 00:53:18,637] - obspy.clients.fdsn.mass_downloader - INFO: 1 StationXML files [0.0 MB] already existed.\n",
      "[2021-11-25 00:53:18,642] - obspy.clients.fdsn.mass_downloader - INFO: Client 'GEONET' - Acquired 1 MiniSEED files [0.0 MB].\n",
      "[2021-11-25 00:53:18,644] - obspy.clients.fdsn.mass_downloader - INFO: Client 'GEONET' - Acquired 0 StationXML files [0.0 MB].\n",
      "[2021-11-25 00:53:18,645] - obspy.clients.fdsn.mass_downloader - INFO: Downloaded 0.0 MB in total.\n",
      "[2021-11-25 00:53:18,675] - obspy.clients.fdsn.mass_downloader - INFO: Initializing FDSN client(s) for GEONET.\n",
      "[2021-11-25 00:53:18,699] - obspy.clients.fdsn.mass_downloader - INFO: Successfully initialized 1 client(s): GEONET.\n",
      "[2021-11-25 00:53:18,702] - obspy.clients.fdsn.mass_downloader - INFO: Total acquired or preexisting stations: 0\n",
      "[2021-11-25 00:53:18,704] - obspy.clients.fdsn.mass_downloader - INFO: Client 'GEONET' - Requesting unreliable availability.\n"
     ]
    },
    {
     "name": "stdout",
     "output_type": "stream",
     "text": [
      "=================================================================\n",
      "Initiating mass download request.\n"
     ]
    },
    {
     "name": "stderr",
     "output_type": "stream",
     "text": [
      "[2021-11-25 00:53:19,317] - obspy.clients.fdsn.mass_downloader - INFO: Client 'GEONET' - Successfully requested availability (0.61 seconds)\n",
      "[2021-11-25 00:53:19,342] - obspy.clients.fdsn.mass_downloader - INFO: Client 'GEONET' - Found 1 stations (1 channels).\n",
      "[2021-11-25 00:53:19,356] - obspy.clients.fdsn.mass_downloader - INFO: Client 'GEONET' - Will attempt to download data from 1 stations.\n",
      "[2021-11-25 00:53:19,362] - obspy.clients.fdsn.mass_downloader - INFO: Client 'GEONET' - Status for 1 time intervals/channels before downloading: NEEDS_DOWNLOADING\n",
      "[2021-11-25 00:53:20,303] - obspy.clients.fdsn.mass_downloader - INFO: Client 'GEONET' - Successfully downloaded 1 channels (of 1)\n",
      "[2021-11-25 00:53:20,380] - obspy.clients.fdsn.mass_downloader - INFO: Client 'GEONET' - Launching basic QC checks...\n",
      "[2021-11-25 00:53:20,419] - obspy.clients.fdsn.mass_downloader - INFO: Client 'GEONET' - Downloaded 0.0 MB [3.56 KB/sec] of data, 0.0 MB of which were discarded afterwards.\n",
      "[2021-11-25 00:53:20,434] - obspy.clients.fdsn.mass_downloader - INFO: Client 'GEONET' - Status for 1 time intervals/channels after downloading: DOWNLOADED\n",
      "[2021-11-25 00:53:20,459] - obspy.clients.fdsn.mass_downloader - INFO: Client 'GEONET' - No station information to download.\n",
      "[2021-11-25 00:53:20,488] - obspy.clients.fdsn.mass_downloader - INFO: ============================== Final report\n",
      "[2021-11-25 00:53:20,504] - obspy.clients.fdsn.mass_downloader - INFO: 0 MiniSEED files [0.0 MB] already existed.\n",
      "[2021-11-25 00:53:20,512] - obspy.clients.fdsn.mass_downloader - INFO: 1 StationXML files [0.0 MB] already existed.\n",
      "[2021-11-25 00:53:20,513] - obspy.clients.fdsn.mass_downloader - INFO: Client 'GEONET' - Acquired 1 MiniSEED files [0.0 MB].\n",
      "[2021-11-25 00:53:20,514] - obspy.clients.fdsn.mass_downloader - INFO: Client 'GEONET' - Acquired 0 StationXML files [0.0 MB].\n",
      "[2021-11-25 00:53:20,520] - obspy.clients.fdsn.mass_downloader - INFO: Downloaded 0.0 MB in total.\n",
      "[2021-11-25 00:53:20,590] - obspy.clients.fdsn.mass_downloader - INFO: Initializing FDSN client(s) for GEONET.\n",
      "[2021-11-25 00:53:20,646] - obspy.clients.fdsn.mass_downloader - INFO: Successfully initialized 1 client(s): GEONET.\n",
      "[2021-11-25 00:53:20,649] - obspy.clients.fdsn.mass_downloader - INFO: Total acquired or preexisting stations: 0\n",
      "[2021-11-25 00:53:20,659] - obspy.clients.fdsn.mass_downloader - INFO: Client 'GEONET' - Requesting unreliable availability.\n"
     ]
    },
    {
     "name": "stdout",
     "output_type": "stream",
     "text": [
      "=================================================================\n",
      "Initiating mass download request.\n"
     ]
    },
    {
     "name": "stderr",
     "output_type": "stream",
     "text": [
      "[2021-11-25 00:53:21,960] - obspy.clients.fdsn.mass_downloader - INFO: Client 'GEONET' - Successfully requested availability (1.30 seconds)\n",
      "[2021-11-25 00:53:22,007] - obspy.clients.fdsn.mass_downloader - INFO: Client 'GEONET' - Found 1 stations (1 channels).\n",
      "[2021-11-25 00:53:22,021] - obspy.clients.fdsn.mass_downloader - INFO: Client 'GEONET' - Will attempt to download data from 1 stations.\n",
      "[2021-11-25 00:53:22,039] - obspy.clients.fdsn.mass_downloader - INFO: Client 'GEONET' - Status for 1 time intervals/channels before downloading: NEEDS_DOWNLOADING\n",
      "[2021-11-25 00:53:23,049] - obspy.clients.fdsn.mass_downloader - INFO: Client 'GEONET' - Successfully downloaded 1 channels (of 1)\n",
      "[2021-11-25 00:53:23,093] - obspy.clients.fdsn.mass_downloader - INFO: Client 'GEONET' - Launching basic QC checks...\n",
      "[2021-11-25 00:53:23,111] - obspy.clients.fdsn.mass_downloader - INFO: Client 'GEONET' - Downloaded 0.0 MB [3.92 KB/sec] of data, 0.0 MB of which were discarded afterwards.\n",
      "[2021-11-25 00:53:23,113] - obspy.clients.fdsn.mass_downloader - INFO: Client 'GEONET' - Status for 1 time intervals/channels after downloading: DOWNLOADED\n",
      "[2021-11-25 00:53:23,121] - obspy.clients.fdsn.mass_downloader - INFO: Client 'GEONET' - No station information to download.\n",
      "[2021-11-25 00:53:23,127] - obspy.clients.fdsn.mass_downloader - INFO: ============================== Final report\n",
      "[2021-11-25 00:53:23,134] - obspy.clients.fdsn.mass_downloader - INFO: 0 MiniSEED files [0.0 MB] already existed.\n",
      "[2021-11-25 00:53:23,136] - obspy.clients.fdsn.mass_downloader - INFO: 1 StationXML files [0.0 MB] already existed.\n",
      "[2021-11-25 00:53:23,140] - obspy.clients.fdsn.mass_downloader - INFO: Client 'GEONET' - Acquired 1 MiniSEED files [0.0 MB].\n",
      "[2021-11-25 00:53:23,141] - obspy.clients.fdsn.mass_downloader - INFO: Client 'GEONET' - Acquired 0 StationXML files [0.0 MB].\n",
      "[2021-11-25 00:53:23,143] - obspy.clients.fdsn.mass_downloader - INFO: Downloaded 0.0 MB in total.\n",
      "[2021-11-25 00:53:23,150] - obspy.clients.fdsn.mass_downloader - INFO: Initializing FDSN client(s) for GEONET.\n",
      "[2021-11-25 00:53:23,176] - obspy.clients.fdsn.mass_downloader - INFO: Successfully initialized 1 client(s): GEONET.\n",
      "[2021-11-25 00:53:23,181] - obspy.clients.fdsn.mass_downloader - INFO: Total acquired or preexisting stations: 0\n",
      "[2021-11-25 00:53:23,184] - obspy.clients.fdsn.mass_downloader - INFO: Client 'GEONET' - Requesting unreliable availability.\n"
     ]
    },
    {
     "name": "stdout",
     "output_type": "stream",
     "text": [
      "=================================================================\n",
      "Initiating mass download request.\n"
     ]
    },
    {
     "name": "stderr",
     "output_type": "stream",
     "text": [
      "[2021-11-25 00:53:23,828] - obspy.clients.fdsn.mass_downloader - INFO: Client 'GEONET' - Successfully requested availability (0.64 seconds)\n",
      "[2021-11-25 00:53:23,950] - obspy.clients.fdsn.mass_downloader - INFO: Client 'GEONET' - Found 1 stations (1 channels).\n"
     ]
    }
   ],
   "source": [
    "import mpl_toolkits\n",
    "import matplotlib.pyplot as plt\n",
    "import pandas as pd\n",
    "import geopandas as gpd\n",
    "import numpy as np\n",
    "import pickle\n",
    "import os\n",
    "import logging\n",
    "from obspy import read\n",
    "\n",
    "\n",
    "from obspy.clients.fdsn.mass_downloader import RectangularDomain, Restrictions, MassDownloader\n",
    "from scipy import signal\n",
    "from obspy import UTCDateTime\n",
    "from obspy.clients.fdsn import Client as FDSN_Client\n",
    "from obspy import read_inventory\n",
    "from obspy.core.util import (BASEMAP_VERSION, CARTOPY_VERSION,\n",
    "                             MATPLOTLIB_VERSION, PROJ4_VERSION)\n",
    "\n",
    "events_df = pd.read_pickle('data/events_processed.pkl')\n",
    "stations_df = pd.read_pickle('data/stations_processed.pkl')\n",
    "\n",
    "events = events_df[(events_df.time > '2020-01-01') & (events_df.time < '2021-01-01')]\n",
    "events = events[12200:13000]\n",
    "\n",
    "def mass_data_downloader(start, stop, event_id, Station,\n",
    "                         Network='NZ', \n",
    "                         Channel='HHZ', \n",
    "                         Location=10\n",
    "                         ):\n",
    "    '''\n",
    "    This function uses the FDSN mass data downloader to automatically download\n",
    "    data from the XH network deployed on the RIS from Nov 2014 - Nov 2016.\n",
    "    More information on the Obspy mass downloader available at:\n",
    "    https://docs.obspy.org/packages/autogen/obspy.clients.fdsn.mass_downloader.html\n",
    "    Inputs:\n",
    "    start: \"YYYYMMDD\"\n",
    "    stop:  \"YYYYMMDD\"\n",
    "    Network: 2-character FDSN network code\n",
    "    Station: 2-character station code\n",
    "    Channel: 3-character channel code\n",
    "    Location: 10.\n",
    "    '''\n",
    "    print(\"=\" * 65)\n",
    "    print(\"Initiating mass download request.\")\n",
    "\n",
    "    domain = RectangularDomain(\n",
    "        minlatitude=-47.749,\n",
    "        maxlatitude=-33.779,\n",
    "        minlongitude=166.104,\n",
    "        maxlongitude=178.990\n",
    "    )\n",
    "\n",
    "    restrictions = Restrictions(\n",
    "        starttime = start,\n",
    "        endtime = stop,\n",
    "        #24 hr\n",
    "        chunklength_in_sec = 86400,\n",
    "        network = Network,\n",
    "        station = Station,\n",
    "        location = Location,\n",
    "        channel = Channel,\n",
    "        reject_channels_with_gaps = False,\n",
    "        minimum_length = 0.0,\n",
    "        minimum_interstation_distance_in_m = 100.0\n",
    "    )\n",
    "\n",
    "    mdl = MassDownloader(providers=['GEONET'])\n",
    "    mdl.download(\n",
    "        domain,\n",
    "        restrictions,\n",
    "        mseed_storage=f\"normal/waveforms/{event_id}\",\n",
    "        stationxml_storage=\"normal/stations\"\n",
    "    )\n",
    "\n",
    "    logger = logging.getLogger(\"obspy.clients.fdsn.mass_downloader\")\n",
    "    logger.setLevel(logging.DEBUG)\n",
    "    \n",
    "    \n",
    "for i, event in events.iterrows():\n",
    "    event_id = event.event_id\n",
    "    \n",
    "    for j, station in stations_df.iterrows():\n",
    "        event_time = event['time']\n",
    "        \n",
    "        start=event_time - 3000\n",
    "        end=event_time - 2970\n",
    "        mass_data_downloader(start, end, event_id, station.station_code)"
   ]
  },
  {
   "cell_type": "code",
   "execution_count": null,
   "id": "eafb238b",
   "metadata": {},
   "outputs": [],
   "source": []
  }
 ],
 "metadata": {
  "kernelspec": {
   "display_name": "Python 3",
   "language": "python",
   "name": "python3"
  },
  "language_info": {
   "codemirror_mode": {
    "name": "ipython",
    "version": 3
   },
   "file_extension": ".py",
   "mimetype": "text/x-python",
   "name": "python",
   "nbconvert_exporter": "python",
   "pygments_lexer": "ipython3",
   "version": "3.9.2"
  }
 },
 "nbformat": 4,
 "nbformat_minor": 5
}
