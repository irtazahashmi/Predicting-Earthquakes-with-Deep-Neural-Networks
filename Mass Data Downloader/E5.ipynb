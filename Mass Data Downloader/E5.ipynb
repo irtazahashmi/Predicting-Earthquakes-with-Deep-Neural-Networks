{
 "cells": [
  {
   "cell_type": "code",
   "execution_count": null,
   "id": "49ea891a",
   "metadata": {},
   "outputs": [
    {
     "name": "stderr",
     "output_type": "stream",
     "text": [
      "[2021-11-25 00:48:27,888] - obspy.clients.fdsn.mass_downloader - INFO: Initializing FDSN client(s) for GEONET.\n",
      "[2021-11-25 00:48:28,064] - obspy.clients.fdsn.mass_downloader - INFO: Successfully initialized 1 client(s): GEONET.\n",
      "[2021-11-25 00:48:28,065] - obspy.clients.fdsn.mass_downloader - INFO: Total acquired or preexisting stations: 0\n",
      "[2021-11-25 00:48:28,070] - obspy.clients.fdsn.mass_downloader - INFO: Client 'GEONET' - Requesting unreliable availability.\n"
     ]
    },
    {
     "name": "stdout",
     "output_type": "stream",
     "text": [
      "=================================================================\n",
      "Initiating mass download request.\n"
     ]
    },
    {
     "name": "stderr",
     "output_type": "stream",
     "text": [
      "[2021-11-25 00:48:28,791] - obspy.clients.fdsn.mass_downloader - INFO: Client 'GEONET' - Successfully requested availability (0.72 seconds)\n",
      "[2021-11-25 00:48:28,792] - obspy.clients.fdsn.mass_downloader - INFO: Client 'GEONET' - Found 1 stations (1 channels).\n",
      "[2021-11-25 00:48:28,793] - obspy.clients.fdsn.mass_downloader - INFO: Client 'GEONET' - Will attempt to download data from 1 stations.\n",
      "[2021-11-25 00:48:28,794] - obspy.clients.fdsn.mass_downloader - INFO: Client 'GEONET' - Status for 1 time intervals/channels before downloading: NEEDS_DOWNLOADING\n",
      "[2021-11-25 00:48:29,670] - obspy.clients.fdsn.mass_downloader - INFO: Client 'GEONET' - Successfully downloaded 1 channels (of 1)\n",
      "[2021-11-25 00:48:29,673] - obspy.clients.fdsn.mass_downloader - INFO: Client 'GEONET' - Launching basic QC checks...\n",
      "[2021-11-25 00:48:29,693] - obspy.clients.fdsn.mass_downloader - INFO: Client 'GEONET' - Downloaded 0.0 MB [4.55 KB/sec] of data, 0.0 MB of which were discarded afterwards.\n",
      "[2021-11-25 00:48:29,693] - obspy.clients.fdsn.mass_downloader - INFO: Client 'GEONET' - Status for 1 time intervals/channels after downloading: DOWNLOADED\n",
      "[2021-11-25 00:48:29,695] - obspy.clients.fdsn.mass_downloader - INFO: Client 'GEONET' - No station information to download.\n",
      "[2021-11-25 00:48:29,696] - obspy.clients.fdsn.mass_downloader - INFO: ============================== Final report\n",
      "[2021-11-25 00:48:29,696] - obspy.clients.fdsn.mass_downloader - INFO: 0 MiniSEED files [0.0 MB] already existed.\n",
      "[2021-11-25 00:48:29,697] - obspy.clients.fdsn.mass_downloader - INFO: 1 StationXML files [0.0 MB] already existed.\n",
      "[2021-11-25 00:48:29,697] - obspy.clients.fdsn.mass_downloader - INFO: Client 'GEONET' - Acquired 1 MiniSEED files [0.0 MB].\n",
      "[2021-11-25 00:48:29,697] - obspy.clients.fdsn.mass_downloader - INFO: Client 'GEONET' - Acquired 0 StationXML files [0.0 MB].\n",
      "[2021-11-25 00:48:29,697] - obspy.clients.fdsn.mass_downloader - INFO: Downloaded 0.0 MB in total.\n",
      "[2021-11-25 00:48:29,700] - obspy.clients.fdsn.mass_downloader - INFO: Initializing FDSN client(s) for GEONET.\n",
      "[2021-11-25 00:48:29,703] - obspy.clients.fdsn.mass_downloader - INFO: Successfully initialized 1 client(s): GEONET.\n",
      "[2021-11-25 00:48:29,704] - obspy.clients.fdsn.mass_downloader - INFO: Total acquired or preexisting stations: 0\n",
      "[2021-11-25 00:48:29,704] - obspy.clients.fdsn.mass_downloader - INFO: Client 'GEONET' - Requesting unreliable availability.\n"
     ]
    },
    {
     "name": "stdout",
     "output_type": "stream",
     "text": [
      "=================================================================\n",
      "Initiating mass download request.\n"
     ]
    },
    {
     "name": "stderr",
     "output_type": "stream",
     "text": [
      "[2021-11-25 00:48:30,332] - obspy.clients.fdsn.mass_downloader - INFO: Client 'GEONET' - Successfully requested availability (0.63 seconds)\n",
      "[2021-11-25 00:48:30,334] - obspy.clients.fdsn.mass_downloader - INFO: Client 'GEONET' - Found 1 stations (1 channels).\n",
      "[2021-11-25 00:48:30,334] - obspy.clients.fdsn.mass_downloader - INFO: Client 'GEONET' - Will attempt to download data from 1 stations.\n",
      "[2021-11-25 00:48:30,335] - obspy.clients.fdsn.mass_downloader - INFO: Client 'GEONET' - Status for 1 time intervals/channels before downloading: NEEDS_DOWNLOADING\n",
      "[2021-11-25 00:48:31,156] - obspy.clients.fdsn.mass_downloader - INFO: Client 'GEONET' - Successfully downloaded 1 channels (of 1)\n",
      "[2021-11-25 00:48:31,176] - obspy.clients.fdsn.mass_downloader - INFO: Client 'GEONET' - Launching basic QC checks...\n",
      "[2021-11-25 00:48:31,186] - obspy.clients.fdsn.mass_downloader - INFO: Client 'GEONET' - Downloaded 0.0 MB [5.95 KB/sec] of data, 0.0 MB of which were discarded afterwards.\n",
      "[2021-11-25 00:48:31,187] - obspy.clients.fdsn.mass_downloader - INFO: Client 'GEONET' - Status for 1 time intervals/channels after downloading: DOWNLOADED\n",
      "[2021-11-25 00:48:31,191] - obspy.clients.fdsn.mass_downloader - INFO: Client 'GEONET' - No station information to download.\n",
      "[2021-11-25 00:48:31,197] - obspy.clients.fdsn.mass_downloader - INFO: ============================== Final report\n",
      "[2021-11-25 00:48:31,198] - obspy.clients.fdsn.mass_downloader - INFO: 0 MiniSEED files [0.0 MB] already existed.\n",
      "[2021-11-25 00:48:31,199] - obspy.clients.fdsn.mass_downloader - INFO: 1 StationXML files [0.0 MB] already existed.\n",
      "[2021-11-25 00:48:31,201] - obspy.clients.fdsn.mass_downloader - INFO: Client 'GEONET' - Acquired 1 MiniSEED files [0.0 MB].\n",
      "[2021-11-25 00:48:31,201] - obspy.clients.fdsn.mass_downloader - INFO: Client 'GEONET' - Acquired 0 StationXML files [0.0 MB].\n",
      "[2021-11-25 00:48:31,202] - obspy.clients.fdsn.mass_downloader - INFO: Downloaded 0.0 MB in total.\n",
      "[2021-11-25 00:48:31,208] - obspy.clients.fdsn.mass_downloader - INFO: Initializing FDSN client(s) for GEONET.\n",
      "[2021-11-25 00:48:31,213] - obspy.clients.fdsn.mass_downloader - INFO: Successfully initialized 1 client(s): GEONET.\n",
      "[2021-11-25 00:48:31,214] - obspy.clients.fdsn.mass_downloader - INFO: Total acquired or preexisting stations: 0\n",
      "[2021-11-25 00:48:31,214] - obspy.clients.fdsn.mass_downloader - INFO: Client 'GEONET' - Requesting unreliable availability.\n"
     ]
    },
    {
     "name": "stdout",
     "output_type": "stream",
     "text": [
      "=================================================================\n",
      "Initiating mass download request.\n"
     ]
    },
    {
     "name": "stderr",
     "output_type": "stream",
     "text": [
      "[2021-11-25 00:48:31,769] - obspy.clients.fdsn.mass_downloader - INFO: Client 'GEONET' - Successfully requested availability (0.55 seconds)\n",
      "[2021-11-25 00:48:31,775] - obspy.clients.fdsn.mass_downloader - INFO: Client 'GEONET' - Found 1 stations (1 channels).\n",
      "[2021-11-25 00:48:31,776] - obspy.clients.fdsn.mass_downloader - INFO: Client 'GEONET' - Will attempt to download data from 1 stations.\n",
      "[2021-11-25 00:48:31,776] - obspy.clients.fdsn.mass_downloader - INFO: Client 'GEONET' - Status for 1 time intervals/channels before downloading: NEEDS_DOWNLOADING\n",
      "[2021-11-25 00:48:32,523] - obspy.clients.fdsn.mass_downloader - INFO: Client 'GEONET' - Successfully downloaded 1 channels (of 1)\n",
      "[2021-11-25 00:48:32,539] - obspy.clients.fdsn.mass_downloader - INFO: Client 'GEONET' - Launching basic QC checks...\n",
      "[2021-11-25 00:48:32,548] - obspy.clients.fdsn.mass_downloader - INFO: Client 'GEONET' - Downloaded 0.0 MB [5.27 KB/sec] of data, 0.0 MB of which were discarded afterwards.\n",
      "[2021-11-25 00:48:32,550] - obspy.clients.fdsn.mass_downloader - INFO: Client 'GEONET' - Status for 1 time intervals/channels after downloading: DOWNLOADED\n",
      "[2021-11-25 00:48:32,554] - obspy.clients.fdsn.mass_downloader - INFO: Client 'GEONET' - No station information to download.\n",
      "[2021-11-25 00:48:32,562] - obspy.clients.fdsn.mass_downloader - INFO: ============================== Final report\n",
      "[2021-11-25 00:48:32,563] - obspy.clients.fdsn.mass_downloader - INFO: 0 MiniSEED files [0.0 MB] already existed.\n",
      "[2021-11-25 00:48:32,564] - obspy.clients.fdsn.mass_downloader - INFO: 1 StationXML files [0.0 MB] already existed.\n",
      "[2021-11-25 00:48:32,566] - obspy.clients.fdsn.mass_downloader - INFO: Client 'GEONET' - Acquired 1 MiniSEED files [0.0 MB].\n",
      "[2021-11-25 00:48:32,568] - obspy.clients.fdsn.mass_downloader - INFO: Client 'GEONET' - Acquired 0 StationXML files [0.0 MB].\n",
      "[2021-11-25 00:48:32,568] - obspy.clients.fdsn.mass_downloader - INFO: Downloaded 0.0 MB in total.\n",
      "[2021-11-25 00:48:32,571] - obspy.clients.fdsn.mass_downloader - INFO: Initializing FDSN client(s) for GEONET.\n",
      "[2021-11-25 00:48:32,581] - obspy.clients.fdsn.mass_downloader - INFO: Successfully initialized 1 client(s): GEONET.\n",
      "[2021-11-25 00:48:32,586] - obspy.clients.fdsn.mass_downloader - INFO: Total acquired or preexisting stations: 0\n",
      "[2021-11-25 00:48:32,588] - obspy.clients.fdsn.mass_downloader - INFO: Client 'GEONET' - Requesting unreliable availability.\n"
     ]
    },
    {
     "name": "stdout",
     "output_type": "stream",
     "text": [
      "=================================================================\n",
      "Initiating mass download request.\n"
     ]
    },
    {
     "name": "stderr",
     "output_type": "stream",
     "text": [
      "[2021-11-25 00:48:33,289] - obspy.clients.fdsn.mass_downloader - INFO: Client 'GEONET' - Successfully requested availability (0.70 seconds)\n",
      "[2021-11-25 00:48:33,292] - obspy.clients.fdsn.mass_downloader - INFO: Client 'GEONET' - Found 1 stations (1 channels).\n",
      "[2021-11-25 00:48:33,292] - obspy.clients.fdsn.mass_downloader - INFO: Client 'GEONET' - Will attempt to download data from 1 stations.\n",
      "[2021-11-25 00:48:33,293] - obspy.clients.fdsn.mass_downloader - INFO: Client 'GEONET' - Status for 1 time intervals/channels before downloading: NEEDS_DOWNLOADING\n",
      "[2021-11-25 00:48:34,663] - obspy.clients.fdsn.mass_downloader - INFO: Client 'GEONET' - Successfully downloaded 1 channels (of 1)\n",
      "[2021-11-25 00:48:34,670] - obspy.clients.fdsn.mass_downloader - INFO: Client 'GEONET' - Launching basic QC checks...\n",
      "[2021-11-25 00:48:34,679] - obspy.clients.fdsn.mass_downloader - INFO: Client 'GEONET' - Downloaded 0.0 MB [2.18 KB/sec] of data, 0.0 MB of which were discarded afterwards.\n",
      "[2021-11-25 00:48:34,682] - obspy.clients.fdsn.mass_downloader - INFO: Client 'GEONET' - Status for 1 time intervals/channels after downloading: DOWNLOADED\n",
      "[2021-11-25 00:48:34,685] - obspy.clients.fdsn.mass_downloader - INFO: Client 'GEONET' - No station information to download.\n",
      "[2021-11-25 00:48:34,685] - obspy.clients.fdsn.mass_downloader - INFO: ============================== Final report\n",
      "[2021-11-25 00:48:34,686] - obspy.clients.fdsn.mass_downloader - INFO: 0 MiniSEED files [0.0 MB] already existed.\n",
      "[2021-11-25 00:48:34,686] - obspy.clients.fdsn.mass_downloader - INFO: 1 StationXML files [0.0 MB] already existed.\n",
      "[2021-11-25 00:48:34,687] - obspy.clients.fdsn.mass_downloader - INFO: Client 'GEONET' - Acquired 1 MiniSEED files [0.0 MB].\n",
      "[2021-11-25 00:48:34,687] - obspy.clients.fdsn.mass_downloader - INFO: Client 'GEONET' - Acquired 0 StationXML files [0.0 MB].\n",
      "[2021-11-25 00:48:34,687] - obspy.clients.fdsn.mass_downloader - INFO: Downloaded 0.0 MB in total.\n",
      "[2021-11-25 00:48:34,694] - obspy.clients.fdsn.mass_downloader - INFO: Initializing FDSN client(s) for GEONET.\n",
      "[2021-11-25 00:48:34,703] - obspy.clients.fdsn.mass_downloader - INFO: Successfully initialized 1 client(s): GEONET.\n",
      "[2021-11-25 00:48:34,704] - obspy.clients.fdsn.mass_downloader - INFO: Total acquired or preexisting stations: 0\n",
      "[2021-11-25 00:48:34,706] - obspy.clients.fdsn.mass_downloader - INFO: Client 'GEONET' - Requesting unreliable availability.\n"
     ]
    },
    {
     "name": "stdout",
     "output_type": "stream",
     "text": [
      "=================================================================\n",
      "Initiating mass download request.\n"
     ]
    },
    {
     "name": "stderr",
     "output_type": "stream",
     "text": [
      "[2021-11-25 00:48:35,378] - obspy.clients.fdsn.mass_downloader - INFO: Client 'GEONET' - Successfully requested availability (0.67 seconds)\n",
      "[2021-11-25 00:48:35,381] - obspy.clients.fdsn.mass_downloader - INFO: Client 'GEONET' - Found 1 stations (1 channels).\n",
      "[2021-11-25 00:48:35,381] - obspy.clients.fdsn.mass_downloader - INFO: Client 'GEONET' - Will attempt to download data from 1 stations.\n",
      "[2021-11-25 00:48:35,382] - obspy.clients.fdsn.mass_downloader - INFO: Client 'GEONET' - Status for 1 time intervals/channels before downloading: NEEDS_DOWNLOADING\n",
      "[2021-11-25 00:48:36,271] - obspy.clients.fdsn.mass_downloader - INFO: Client 'GEONET' - Successfully downloaded 1 channels (of 1)\n",
      "[2021-11-25 00:48:36,285] - obspy.clients.fdsn.mass_downloader - INFO: Client 'GEONET' - Launching basic QC checks...\n",
      "[2021-11-25 00:48:36,302] - obspy.clients.fdsn.mass_downloader - INFO: Client 'GEONET' - Downloaded 0.0 MB [3.89 KB/sec] of data, 0.0 MB of which were discarded afterwards.\n",
      "[2021-11-25 00:48:36,302] - obspy.clients.fdsn.mass_downloader - INFO: Client 'GEONET' - Status for 1 time intervals/channels after downloading: DOWNLOADED\n",
      "[2021-11-25 00:48:36,310] - obspy.clients.fdsn.mass_downloader - INFO: Client 'GEONET' - No station information to download.\n",
      "[2021-11-25 00:48:36,311] - obspy.clients.fdsn.mass_downloader - INFO: ============================== Final report\n",
      "[2021-11-25 00:48:36,314] - obspy.clients.fdsn.mass_downloader - INFO: 0 MiniSEED files [0.0 MB] already existed.\n",
      "[2021-11-25 00:48:36,314] - obspy.clients.fdsn.mass_downloader - INFO: 1 StationXML files [0.0 MB] already existed.\n",
      "[2021-11-25 00:48:36,314] - obspy.clients.fdsn.mass_downloader - INFO: Client 'GEONET' - Acquired 1 MiniSEED files [0.0 MB].\n",
      "[2021-11-25 00:48:36,315] - obspy.clients.fdsn.mass_downloader - INFO: Client 'GEONET' - Acquired 0 StationXML files [0.0 MB].\n",
      "[2021-11-25 00:48:36,315] - obspy.clients.fdsn.mass_downloader - INFO: Downloaded 0.0 MB in total.\n",
      "[2021-11-25 00:48:36,337] - obspy.clients.fdsn.mass_downloader - INFO: Initializing FDSN client(s) for GEONET.\n",
      "[2021-11-25 00:48:36,350] - obspy.clients.fdsn.mass_downloader - INFO: Successfully initialized 1 client(s): GEONET.\n",
      "[2021-11-25 00:48:36,353] - obspy.clients.fdsn.mass_downloader - INFO: Total acquired or preexisting stations: 0\n",
      "[2021-11-25 00:48:36,353] - obspy.clients.fdsn.mass_downloader - INFO: Client 'GEONET' - Requesting unreliable availability.\n"
     ]
    },
    {
     "name": "stdout",
     "output_type": "stream",
     "text": [
      "=================================================================\n",
      "Initiating mass download request.\n"
     ]
    },
    {
     "name": "stderr",
     "output_type": "stream",
     "text": [
      "[2021-11-25 00:48:36,907] - obspy.clients.fdsn.mass_downloader - INFO: Client 'GEONET' - Successfully requested availability (0.55 seconds)\n",
      "[2021-11-25 00:48:36,914] - obspy.clients.fdsn.mass_downloader - INFO: Client 'GEONET' - Found 1 stations (1 channels).\n",
      "[2021-11-25 00:48:36,915] - obspy.clients.fdsn.mass_downloader - INFO: Client 'GEONET' - Will attempt to download data from 1 stations.\n",
      "[2021-11-25 00:48:36,919] - obspy.clients.fdsn.mass_downloader - INFO: Client 'GEONET' - Status for 1 time intervals/channels before downloading: NEEDS_DOWNLOADING\n",
      "[2021-11-25 00:48:37,739] - obspy.clients.fdsn.mass_downloader - INFO: Client 'GEONET' - Successfully downloaded 1 channels (of 1)\n",
      "[2021-11-25 00:48:37,753] - obspy.clients.fdsn.mass_downloader - INFO: Client 'GEONET' - Launching basic QC checks...\n",
      "[2021-11-25 00:48:37,764] - obspy.clients.fdsn.mass_downloader - INFO: Client 'GEONET' - Downloaded 0.0 MB [5.45 KB/sec] of data, 0.0 MB of which were discarded afterwards.\n",
      "[2021-11-25 00:48:37,765] - obspy.clients.fdsn.mass_downloader - INFO: Client 'GEONET' - Status for 1 time intervals/channels after downloading: DOWNLOADED\n",
      "[2021-11-25 00:48:37,772] - obspy.clients.fdsn.mass_downloader - INFO: Client 'GEONET' - No station information to download.\n",
      "[2021-11-25 00:48:37,776] - obspy.clients.fdsn.mass_downloader - INFO: ============================== Final report\n",
      "[2021-11-25 00:48:37,776] - obspy.clients.fdsn.mass_downloader - INFO: 0 MiniSEED files [0.0 MB] already existed.\n",
      "[2021-11-25 00:48:37,777] - obspy.clients.fdsn.mass_downloader - INFO: 1 StationXML files [0.0 MB] already existed.\n",
      "[2021-11-25 00:48:37,777] - obspy.clients.fdsn.mass_downloader - INFO: Client 'GEONET' - Acquired 1 MiniSEED files [0.0 MB].\n",
      "[2021-11-25 00:48:37,777] - obspy.clients.fdsn.mass_downloader - INFO: Client 'GEONET' - Acquired 0 StationXML files [0.0 MB].\n",
      "[2021-11-25 00:48:37,778] - obspy.clients.fdsn.mass_downloader - INFO: Downloaded 0.0 MB in total.\n",
      "[2021-11-25 00:48:37,784] - obspy.clients.fdsn.mass_downloader - INFO: Initializing FDSN client(s) for GEONET.\n",
      "[2021-11-25 00:48:37,791] - obspy.clients.fdsn.mass_downloader - INFO: Successfully initialized 1 client(s): GEONET.\n",
      "[2021-11-25 00:48:37,792] - obspy.clients.fdsn.mass_downloader - INFO: Total acquired or preexisting stations: 0\n",
      "[2021-11-25 00:48:37,792] - obspy.clients.fdsn.mass_downloader - INFO: Client 'GEONET' - Requesting unreliable availability.\n"
     ]
    },
    {
     "name": "stdout",
     "output_type": "stream",
     "text": [
      "=================================================================\n",
      "Initiating mass download request.\n"
     ]
    },
    {
     "name": "stderr",
     "output_type": "stream",
     "text": [
      "[2021-11-25 00:48:38,350] - obspy.clients.fdsn.mass_downloader - INFO: Client 'GEONET' - Successfully requested availability (0.56 seconds)\n",
      "[2021-11-25 00:48:38,357] - obspy.clients.fdsn.mass_downloader - INFO: Client 'GEONET' - Found 1 stations (1 channels).\n",
      "[2021-11-25 00:48:38,358] - obspy.clients.fdsn.mass_downloader - INFO: Client 'GEONET' - Will attempt to download data from 1 stations.\n",
      "[2021-11-25 00:48:38,359] - obspy.clients.fdsn.mass_downloader - INFO: Client 'GEONET' - Status for 1 time intervals/channels before downloading: NEEDS_DOWNLOADING\n",
      "[2021-11-25 00:48:39,184] - obspy.clients.fdsn.mass_downloader - INFO: Client 'GEONET' - Successfully downloaded 1 channels (of 1)\n",
      "[2021-11-25 00:48:39,190] - obspy.clients.fdsn.mass_downloader - INFO: Client 'GEONET' - Launching basic QC checks...\n",
      "[2021-11-25 00:48:39,195] - obspy.clients.fdsn.mass_downloader - INFO: Client 'GEONET' - Downloaded 0.0 MB [4.84 KB/sec] of data, 0.0 MB of which were discarded afterwards.\n",
      "[2021-11-25 00:48:39,195] - obspy.clients.fdsn.mass_downloader - INFO: Client 'GEONET' - Status for 1 time intervals/channels after downloading: DOWNLOADED\n",
      "[2021-11-25 00:48:39,198] - obspy.clients.fdsn.mass_downloader - INFO: Client 'GEONET' - No station information to download.\n",
      "[2021-11-25 00:48:39,199] - obspy.clients.fdsn.mass_downloader - INFO: ============================== Final report\n",
      "[2021-11-25 00:48:39,199] - obspy.clients.fdsn.mass_downloader - INFO: 0 MiniSEED files [0.0 MB] already existed.\n",
      "[2021-11-25 00:48:39,199] - obspy.clients.fdsn.mass_downloader - INFO: 1 StationXML files [0.0 MB] already existed.\n",
      "[2021-11-25 00:48:39,200] - obspy.clients.fdsn.mass_downloader - INFO: Client 'GEONET' - Acquired 1 MiniSEED files [0.0 MB].\n",
      "[2021-11-25 00:48:39,200] - obspy.clients.fdsn.mass_downloader - INFO: Client 'GEONET' - Acquired 0 StationXML files [0.0 MB].\n",
      "[2021-11-25 00:48:39,200] - obspy.clients.fdsn.mass_downloader - INFO: Downloaded 0.0 MB in total.\n",
      "[2021-11-25 00:48:39,204] - obspy.clients.fdsn.mass_downloader - INFO: Initializing FDSN client(s) for GEONET.\n",
      "[2021-11-25 00:48:39,208] - obspy.clients.fdsn.mass_downloader - INFO: Successfully initialized 1 client(s): GEONET.\n",
      "[2021-11-25 00:48:39,208] - obspy.clients.fdsn.mass_downloader - INFO: Total acquired or preexisting stations: 0\n",
      "[2021-11-25 00:48:39,209] - obspy.clients.fdsn.mass_downloader - INFO: Client 'GEONET' - Requesting unreliable availability.\n"
     ]
    },
    {
     "name": "stdout",
     "output_type": "stream",
     "text": [
      "=================================================================\n",
      "Initiating mass download request.\n"
     ]
    },
    {
     "name": "stderr",
     "output_type": "stream",
     "text": [
      "[2021-11-25 00:48:39,753] - obspy.clients.fdsn.mass_downloader - INFO: Client 'GEONET' - Successfully requested availability (0.54 seconds)\n",
      "[2021-11-25 00:48:39,754] - obspy.clients.fdsn.mass_downloader - INFO: Client 'GEONET' - Found 1 stations (1 channels).\n",
      "[2021-11-25 00:48:39,755] - obspy.clients.fdsn.mass_downloader - INFO: Client 'GEONET' - Will attempt to download data from 1 stations.\n",
      "[2021-11-25 00:48:39,755] - obspy.clients.fdsn.mass_downloader - INFO: Client 'GEONET' - Status for 1 time intervals/channels before downloading: NEEDS_DOWNLOADING\n",
      "[2021-11-25 00:48:40,470] - obspy.clients.fdsn.mass_downloader - INFO: Client 'GEONET' - Successfully downloaded 1 channels (of 1)\n",
      "[2021-11-25 00:48:40,475] - obspy.clients.fdsn.mass_downloader - INFO: Client 'GEONET' - Launching basic QC checks...\n",
      "[2021-11-25 00:48:40,481] - obspy.clients.fdsn.mass_downloader - INFO: Client 'GEONET' - Downloaded 0.0 MB [5.57 KB/sec] of data, 0.0 MB of which were discarded afterwards.\n",
      "[2021-11-25 00:48:40,481] - obspy.clients.fdsn.mass_downloader - INFO: Client 'GEONET' - Status for 1 time intervals/channels after downloading: DOWNLOADED\n",
      "[2021-11-25 00:48:40,487] - obspy.clients.fdsn.mass_downloader - INFO: Client 'GEONET' - No station information to download.\n",
      "[2021-11-25 00:48:40,490] - obspy.clients.fdsn.mass_downloader - INFO: ============================== Final report\n",
      "[2021-11-25 00:48:40,490] - obspy.clients.fdsn.mass_downloader - INFO: 0 MiniSEED files [0.0 MB] already existed.\n",
      "[2021-11-25 00:48:40,491] - obspy.clients.fdsn.mass_downloader - INFO: 1 StationXML files [0.0 MB] already existed.\n",
      "[2021-11-25 00:48:40,492] - obspy.clients.fdsn.mass_downloader - INFO: Client 'GEONET' - Acquired 1 MiniSEED files [0.0 MB].\n",
      "[2021-11-25 00:48:40,492] - obspy.clients.fdsn.mass_downloader - INFO: Client 'GEONET' - Acquired 0 StationXML files [0.0 MB].\n",
      "[2021-11-25 00:48:40,493] - obspy.clients.fdsn.mass_downloader - INFO: Downloaded 0.0 MB in total.\n",
      "[2021-11-25 00:48:40,500] - obspy.clients.fdsn.mass_downloader - INFO: Initializing FDSN client(s) for GEONET.\n",
      "[2021-11-25 00:48:40,515] - obspy.clients.fdsn.mass_downloader - INFO: Successfully initialized 1 client(s): GEONET.\n",
      "[2021-11-25 00:48:40,516] - obspy.clients.fdsn.mass_downloader - INFO: Total acquired or preexisting stations: 0\n",
      "[2021-11-25 00:48:40,517] - obspy.clients.fdsn.mass_downloader - INFO: Client 'GEONET' - Requesting unreliable availability.\n"
     ]
    },
    {
     "name": "stdout",
     "output_type": "stream",
     "text": [
      "=================================================================\n",
      "Initiating mass download request.\n"
     ]
    },
    {
     "name": "stderr",
     "output_type": "stream",
     "text": [
      "[2021-11-25 00:48:41,075] - obspy.clients.fdsn.mass_downloader - INFO: Client 'GEONET' - Successfully requested availability (0.56 seconds)\n",
      "[2021-11-25 00:48:41,075] - obspy.clients.fdsn.mass_downloader - INFO: Client 'GEONET' - Found 1 stations (1 channels).\n",
      "[2021-11-25 00:48:41,075] - obspy.clients.fdsn.mass_downloader - INFO: Client 'GEONET' - Will attempt to download data from 1 stations.\n",
      "[2021-11-25 00:48:41,076] - obspy.clients.fdsn.mass_downloader - INFO: Client 'GEONET' - Status for 1 time intervals/channels before downloading: NEEDS_DOWNLOADING\n",
      "[2021-11-25 00:48:41,992] - obspy.clients.fdsn.mass_downloader - INFO: Client 'GEONET' - Successfully downloaded 1 channels (of 1)\n",
      "[2021-11-25 00:48:41,996] - obspy.clients.fdsn.mass_downloader - INFO: Client 'GEONET' - Launching basic QC checks...\n",
      "[2021-11-25 00:48:42,004] - obspy.clients.fdsn.mass_downloader - INFO: Client 'GEONET' - Downloaded 0.0 MB [6.53 KB/sec] of data, 0.0 MB of which were discarded afterwards.\n",
      "[2021-11-25 00:48:42,005] - obspy.clients.fdsn.mass_downloader - INFO: Client 'GEONET' - Status for 1 time intervals/channels after downloading: DOWNLOADED\n",
      "[2021-11-25 00:48:42,011] - obspy.clients.fdsn.mass_downloader - INFO: Client 'GEONET' - No station information to download.\n",
      "[2021-11-25 00:48:42,012] - obspy.clients.fdsn.mass_downloader - INFO: ============================== Final report\n",
      "[2021-11-25 00:48:42,012] - obspy.clients.fdsn.mass_downloader - INFO: 0 MiniSEED files [0.0 MB] already existed.\n",
      "[2021-11-25 00:48:42,013] - obspy.clients.fdsn.mass_downloader - INFO: 1 StationXML files [0.0 MB] already existed.\n",
      "[2021-11-25 00:48:42,013] - obspy.clients.fdsn.mass_downloader - INFO: Client 'GEONET' - Acquired 1 MiniSEED files [0.0 MB].\n",
      "[2021-11-25 00:48:42,013] - obspy.clients.fdsn.mass_downloader - INFO: Client 'GEONET' - Acquired 0 StationXML files [0.0 MB].\n",
      "[2021-11-25 00:48:42,014] - obspy.clients.fdsn.mass_downloader - INFO: Downloaded 0.0 MB in total.\n",
      "[2021-11-25 00:48:42,016] - obspy.clients.fdsn.mass_downloader - INFO: Initializing FDSN client(s) for GEONET.\n",
      "[2021-11-25 00:48:42,025] - obspy.clients.fdsn.mass_downloader - INFO: Successfully initialized 1 client(s): GEONET.\n",
      "[2021-11-25 00:48:42,028] - obspy.clients.fdsn.mass_downloader - INFO: Total acquired or preexisting stations: 0\n",
      "[2021-11-25 00:48:42,029] - obspy.clients.fdsn.mass_downloader - INFO: Client 'GEONET' - Requesting unreliable availability.\n"
     ]
    },
    {
     "name": "stdout",
     "output_type": "stream",
     "text": [
      "=================================================================\n",
      "Initiating mass download request.\n"
     ]
    },
    {
     "name": "stderr",
     "output_type": "stream",
     "text": [
      "[2021-11-25 00:48:42,662] - obspy.clients.fdsn.mass_downloader - INFO: Client 'GEONET' - No data available for request.\n",
      "[2021-11-25 00:48:42,669] - obspy.clients.fdsn.mass_downloader - INFO: Client 'GEONET' - No data available.\n",
      "[2021-11-25 00:48:42,670] - obspy.clients.fdsn.mass_downloader - INFO: ============================== Final report\n",
      "[2021-11-25 00:48:42,674] - obspy.clients.fdsn.mass_downloader - INFO: 0 MiniSEED files [0.0 MB] already existed.\n",
      "[2021-11-25 00:48:42,676] - obspy.clients.fdsn.mass_downloader - INFO: 0 StationXML files [0.0 MB] already existed.\n",
      "[2021-11-25 00:48:42,676] - obspy.clients.fdsn.mass_downloader - INFO: Client 'GEONET' - Acquired 0 MiniSEED files [0.0 MB].\n",
      "[2021-11-25 00:48:42,677] - obspy.clients.fdsn.mass_downloader - INFO: Client 'GEONET' - Acquired 0 StationXML files [0.0 MB].\n",
      "[2021-11-25 00:48:42,677] - obspy.clients.fdsn.mass_downloader - INFO: Downloaded 0.0 MB in total.\n",
      "[2021-11-25 00:48:42,686] - obspy.clients.fdsn.mass_downloader - INFO: Initializing FDSN client(s) for GEONET.\n",
      "[2021-11-25 00:48:42,694] - obspy.clients.fdsn.mass_downloader - INFO: Successfully initialized 1 client(s): GEONET.\n",
      "[2021-11-25 00:48:42,695] - obspy.clients.fdsn.mass_downloader - INFO: Total acquired or preexisting stations: 0\n",
      "[2021-11-25 00:48:42,695] - obspy.clients.fdsn.mass_downloader - INFO: Client 'GEONET' - Requesting unreliable availability.\n"
     ]
    },
    {
     "name": "stdout",
     "output_type": "stream",
     "text": [
      "=================================================================\n",
      "Initiating mass download request.\n"
     ]
    },
    {
     "name": "stderr",
     "output_type": "stream",
     "text": [
      "[2021-11-25 00:48:43,379] - obspy.clients.fdsn.mass_downloader - INFO: Client 'GEONET' - Successfully requested availability (0.68 seconds)\n",
      "[2021-11-25 00:48:43,389] - obspy.clients.fdsn.mass_downloader - INFO: Client 'GEONET' - Found 1 stations (1 channels).\n",
      "[2021-11-25 00:48:43,390] - obspy.clients.fdsn.mass_downloader - INFO: Client 'GEONET' - Will attempt to download data from 1 stations.\n",
      "[2021-11-25 00:48:43,390] - obspy.clients.fdsn.mass_downloader - INFO: Client 'GEONET' - Status for 1 time intervals/channels before downloading: NEEDS_DOWNLOADING\n",
      "[2021-11-25 00:48:44,297] - obspy.clients.fdsn.mass_downloader - INFO: Client 'GEONET' - Successfully downloaded 1 channels (of 1)\n",
      "[2021-11-25 00:48:44,315] - obspy.clients.fdsn.mass_downloader - INFO: Client 'GEONET' - Launching basic QC checks...\n",
      "[2021-11-25 00:48:44,355] - obspy.clients.fdsn.mass_downloader - INFO: Client 'GEONET' - Downloaded 0.0 MB [4.34 KB/sec] of data, 0.0 MB of which were discarded afterwards.\n",
      "[2021-11-25 00:48:44,357] - obspy.clients.fdsn.mass_downloader - INFO: Client 'GEONET' - Status for 1 time intervals/channels after downloading: DOWNLOADED\n",
      "[2021-11-25 00:48:44,362] - obspy.clients.fdsn.mass_downloader - INFO: Client 'GEONET' - No station information to download.\n",
      "[2021-11-25 00:48:44,363] - obspy.clients.fdsn.mass_downloader - INFO: ============================== Final report\n",
      "[2021-11-25 00:48:44,364] - obspy.clients.fdsn.mass_downloader - INFO: 0 MiniSEED files [0.0 MB] already existed.\n",
      "[2021-11-25 00:48:44,364] - obspy.clients.fdsn.mass_downloader - INFO: 1 StationXML files [0.0 MB] already existed.\n",
      "[2021-11-25 00:48:44,365] - obspy.clients.fdsn.mass_downloader - INFO: Client 'GEONET' - Acquired 1 MiniSEED files [0.0 MB].\n",
      "[2021-11-25 00:48:44,366] - obspy.clients.fdsn.mass_downloader - INFO: Client 'GEONET' - Acquired 0 StationXML files [0.0 MB].\n",
      "[2021-11-25 00:48:44,367] - obspy.clients.fdsn.mass_downloader - INFO: Downloaded 0.0 MB in total.\n",
      "[2021-11-25 00:48:44,375] - obspy.clients.fdsn.mass_downloader - INFO: Initializing FDSN client(s) for GEONET.\n",
      "[2021-11-25 00:48:44,386] - obspy.clients.fdsn.mass_downloader - INFO: Successfully initialized 1 client(s): GEONET.\n",
      "[2021-11-25 00:48:44,388] - obspy.clients.fdsn.mass_downloader - INFO: Total acquired or preexisting stations: 0\n",
      "[2021-11-25 00:48:44,388] - obspy.clients.fdsn.mass_downloader - INFO: Client 'GEONET' - Requesting unreliable availability.\n"
     ]
    },
    {
     "name": "stdout",
     "output_type": "stream",
     "text": [
      "=================================================================\n",
      "Initiating mass download request.\n"
     ]
    },
    {
     "name": "stderr",
     "output_type": "stream",
     "text": [
      "[2021-11-25 00:48:45,839] - obspy.clients.fdsn.mass_downloader - INFO: Client 'GEONET' - Successfully requested availability (1.45 seconds)\n",
      "[2021-11-25 00:48:45,844] - obspy.clients.fdsn.mass_downloader - INFO: Client 'GEONET' - Found 1 stations (1 channels).\n",
      "[2021-11-25 00:48:45,846] - obspy.clients.fdsn.mass_downloader - INFO: Client 'GEONET' - Will attempt to download data from 1 stations.\n",
      "[2021-11-25 00:48:45,849] - obspy.clients.fdsn.mass_downloader - INFO: Client 'GEONET' - Status for 1 time intervals/channels before downloading: NEEDS_DOWNLOADING\n",
      "[2021-11-25 00:48:46,588] - obspy.clients.fdsn.mass_downloader - INFO: Client 'GEONET' - Successfully downloaded 1 channels (of 1)\n",
      "[2021-11-25 00:48:46,590] - obspy.clients.fdsn.mass_downloader - INFO: Client 'GEONET' - Launching basic QC checks...\n",
      "[2021-11-25 00:48:46,592] - obspy.clients.fdsn.mass_downloader - INFO: Client 'GEONET' - Downloaded 0.0 MB [5.43 KB/sec] of data, 0.0 MB of which were discarded afterwards.\n",
      "[2021-11-25 00:48:46,593] - obspy.clients.fdsn.mass_downloader - INFO: Client 'GEONET' - Status for 1 time intervals/channels after downloading: DOWNLOADED\n",
      "[2021-11-25 00:48:46,594] - obspy.clients.fdsn.mass_downloader - INFO: Client 'GEONET' - No station information to download.\n",
      "[2021-11-25 00:48:46,595] - obspy.clients.fdsn.mass_downloader - INFO: ============================== Final report\n",
      "[2021-11-25 00:48:46,595] - obspy.clients.fdsn.mass_downloader - INFO: 0 MiniSEED files [0.0 MB] already existed.\n",
      "[2021-11-25 00:48:46,596] - obspy.clients.fdsn.mass_downloader - INFO: 1 StationXML files [0.0 MB] already existed.\n",
      "[2021-11-25 00:48:46,596] - obspy.clients.fdsn.mass_downloader - INFO: Client 'GEONET' - Acquired 1 MiniSEED files [0.0 MB].\n",
      "[2021-11-25 00:48:46,596] - obspy.clients.fdsn.mass_downloader - INFO: Client 'GEONET' - Acquired 0 StationXML files [0.0 MB].\n",
      "[2021-11-25 00:48:46,596] - obspy.clients.fdsn.mass_downloader - INFO: Downloaded 0.0 MB in total.\n",
      "[2021-11-25 00:48:46,598] - obspy.clients.fdsn.mass_downloader - INFO: Initializing FDSN client(s) for GEONET.\n",
      "[2021-11-25 00:48:46,601] - obspy.clients.fdsn.mass_downloader - INFO: Successfully initialized 1 client(s): GEONET.\n",
      "[2021-11-25 00:48:46,602] - obspy.clients.fdsn.mass_downloader - INFO: Total acquired or preexisting stations: 0\n",
      "[2021-11-25 00:48:46,602] - obspy.clients.fdsn.mass_downloader - INFO: Client 'GEONET' - Requesting unreliable availability.\n"
     ]
    },
    {
     "name": "stdout",
     "output_type": "stream",
     "text": [
      "=================================================================\n",
      "Initiating mass download request.\n"
     ]
    },
    {
     "name": "stderr",
     "output_type": "stream",
     "text": [
      "[2021-11-25 00:48:47,310] - obspy.clients.fdsn.mass_downloader - INFO: Client 'GEONET' - Successfully requested availability (0.71 seconds)\n",
      "[2021-11-25 00:48:47,317] - obspy.clients.fdsn.mass_downloader - INFO: Client 'GEONET' - Found 1 stations (1 channels).\n",
      "[2021-11-25 00:48:47,318] - obspy.clients.fdsn.mass_downloader - INFO: Client 'GEONET' - Will attempt to download data from 1 stations.\n",
      "[2021-11-25 00:48:47,322] - obspy.clients.fdsn.mass_downloader - INFO: Client 'GEONET' - Status for 1 time intervals/channels before downloading: NEEDS_DOWNLOADING\n",
      "[2021-11-25 00:48:48,144] - obspy.clients.fdsn.mass_downloader - INFO: Client 'GEONET' - Successfully downloaded 1 channels (of 1)\n",
      "[2021-11-25 00:48:48,154] - obspy.clients.fdsn.mass_downloader - INFO: Client 'GEONET' - Launching basic QC checks...\n",
      "[2021-11-25 00:48:48,164] - obspy.clients.fdsn.mass_downloader - INFO: Client 'GEONET' - Downloaded 0.0 MB [4.26 KB/sec] of data, 0.0 MB of which were discarded afterwards.\n",
      "[2021-11-25 00:48:48,164] - obspy.clients.fdsn.mass_downloader - INFO: Client 'GEONET' - Status for 1 time intervals/channels after downloading: DOWNLOADED\n",
      "[2021-11-25 00:48:48,170] - obspy.clients.fdsn.mass_downloader - INFO: Client 'GEONET' - No station information to download.\n",
      "[2021-11-25 00:48:48,172] - obspy.clients.fdsn.mass_downloader - INFO: ============================== Final report\n",
      "[2021-11-25 00:48:48,172] - obspy.clients.fdsn.mass_downloader - INFO: 0 MiniSEED files [0.0 MB] already existed.\n",
      "[2021-11-25 00:48:48,173] - obspy.clients.fdsn.mass_downloader - INFO: 1 StationXML files [0.0 MB] already existed.\n",
      "[2021-11-25 00:48:48,174] - obspy.clients.fdsn.mass_downloader - INFO: Client 'GEONET' - Acquired 1 MiniSEED files [0.0 MB].\n",
      "[2021-11-25 00:48:48,174] - obspy.clients.fdsn.mass_downloader - INFO: Client 'GEONET' - Acquired 0 StationXML files [0.0 MB].\n",
      "[2021-11-25 00:48:48,174] - obspy.clients.fdsn.mass_downloader - INFO: Downloaded 0.0 MB in total.\n",
      "[2021-11-25 00:48:48,181] - obspy.clients.fdsn.mass_downloader - INFO: Initializing FDSN client(s) for GEONET.\n",
      "[2021-11-25 00:48:48,184] - obspy.clients.fdsn.mass_downloader - INFO: Successfully initialized 1 client(s): GEONET.\n",
      "[2021-11-25 00:48:48,185] - obspy.clients.fdsn.mass_downloader - INFO: Total acquired or preexisting stations: 0\n",
      "[2021-11-25 00:48:48,186] - obspy.clients.fdsn.mass_downloader - INFO: Client 'GEONET' - Requesting unreliable availability.\n"
     ]
    },
    {
     "name": "stdout",
     "output_type": "stream",
     "text": [
      "=================================================================\n",
      "Initiating mass download request.\n"
     ]
    },
    {
     "name": "stderr",
     "output_type": "stream",
     "text": [
      "[2021-11-25 00:48:48,820] - obspy.clients.fdsn.mass_downloader - INFO: Client 'GEONET' - Successfully requested availability (0.63 seconds)\n",
      "[2021-11-25 00:48:48,821] - obspy.clients.fdsn.mass_downloader - INFO: Client 'GEONET' - Found 1 stations (1 channels).\n",
      "[2021-11-25 00:48:48,822] - obspy.clients.fdsn.mass_downloader - INFO: Client 'GEONET' - Will attempt to download data from 1 stations.\n",
      "[2021-11-25 00:48:48,822] - obspy.clients.fdsn.mass_downloader - INFO: Client 'GEONET' - Status for 1 time intervals/channels before downloading: NEEDS_DOWNLOADING\n",
      "[2021-11-25 00:48:49,563] - obspy.clients.fdsn.mass_downloader - INFO: Client 'GEONET' - Successfully downloaded 1 channels (of 1)\n",
      "[2021-11-25 00:48:49,566] - obspy.clients.fdsn.mass_downloader - INFO: Client 'GEONET' - Launching basic QC checks...\n",
      "[2021-11-25 00:48:49,581] - obspy.clients.fdsn.mass_downloader - INFO: Client 'GEONET' - Downloaded 0.0 MB [4.05 KB/sec] of data, 0.0 MB of which were discarded afterwards.\n",
      "[2021-11-25 00:48:49,582] - obspy.clients.fdsn.mass_downloader - INFO: Client 'GEONET' - Status for 1 time intervals/channels after downloading: DOWNLOADED\n",
      "[2021-11-25 00:48:49,584] - obspy.clients.fdsn.mass_downloader - INFO: Client 'GEONET' - No station information to download.\n",
      "[2021-11-25 00:48:49,586] - obspy.clients.fdsn.mass_downloader - INFO: ============================== Final report\n",
      "[2021-11-25 00:48:49,586] - obspy.clients.fdsn.mass_downloader - INFO: 0 MiniSEED files [0.0 MB] already existed.\n",
      "[2021-11-25 00:48:49,586] - obspy.clients.fdsn.mass_downloader - INFO: 1 StationXML files [0.0 MB] already existed.\n",
      "[2021-11-25 00:48:49,587] - obspy.clients.fdsn.mass_downloader - INFO: Client 'GEONET' - Acquired 1 MiniSEED files [0.0 MB].\n",
      "[2021-11-25 00:48:49,587] - obspy.clients.fdsn.mass_downloader - INFO: Client 'GEONET' - Acquired 0 StationXML files [0.0 MB].\n",
      "[2021-11-25 00:48:49,587] - obspy.clients.fdsn.mass_downloader - INFO: Downloaded 0.0 MB in total.\n",
      "[2021-11-25 00:48:49,593] - obspy.clients.fdsn.mass_downloader - INFO: Initializing FDSN client(s) for GEONET.\n",
      "[2021-11-25 00:48:49,599] - obspy.clients.fdsn.mass_downloader - INFO: Successfully initialized 1 client(s): GEONET.\n",
      "[2021-11-25 00:48:49,600] - obspy.clients.fdsn.mass_downloader - INFO: Total acquired or preexisting stations: 0\n",
      "[2021-11-25 00:48:49,600] - obspy.clients.fdsn.mass_downloader - INFO: Client 'GEONET' - Requesting unreliable availability.\n"
     ]
    },
    {
     "name": "stdout",
     "output_type": "stream",
     "text": [
      "=================================================================\n",
      "Initiating mass download request.\n"
     ]
    },
    {
     "name": "stderr",
     "output_type": "stream",
     "text": [
      "[2021-11-25 00:48:50,117] - obspy.clients.fdsn.mass_downloader - INFO: Client 'GEONET' - Successfully requested availability (0.52 seconds)\n",
      "[2021-11-25 00:48:50,118] - obspy.clients.fdsn.mass_downloader - INFO: Client 'GEONET' - Found 1 stations (1 channels).\n",
      "[2021-11-25 00:48:50,119] - obspy.clients.fdsn.mass_downloader - INFO: Client 'GEONET' - Will attempt to download data from 1 stations.\n",
      "[2021-11-25 00:48:50,120] - obspy.clients.fdsn.mass_downloader - INFO: Client 'GEONET' - Status for 1 time intervals/channels before downloading: NEEDS_DOWNLOADING\n",
      "[2021-11-25 00:48:50,882] - obspy.clients.fdsn.mass_downloader - INFO: Client 'GEONET' - Successfully downloaded 1 channels (of 1)\n",
      "[2021-11-25 00:48:50,885] - obspy.clients.fdsn.mass_downloader - INFO: Client 'GEONET' - Launching basic QC checks...\n",
      "[2021-11-25 00:48:50,900] - obspy.clients.fdsn.mass_downloader - INFO: Client 'GEONET' - Downloaded 0.0 MB [5.24 KB/sec] of data, 0.0 MB of which were discarded afterwards.\n",
      "[2021-11-25 00:48:50,901] - obspy.clients.fdsn.mass_downloader - INFO: Client 'GEONET' - Status for 1 time intervals/channels after downloading: DOWNLOADED\n",
      "[2021-11-25 00:48:50,906] - obspy.clients.fdsn.mass_downloader - INFO: Client 'GEONET' - No station information to download.\n",
      "[2021-11-25 00:48:50,913] - obspy.clients.fdsn.mass_downloader - INFO: ============================== Final report\n",
      "[2021-11-25 00:48:50,915] - obspy.clients.fdsn.mass_downloader - INFO: 0 MiniSEED files [0.0 MB] already existed.\n",
      "[2021-11-25 00:48:50,918] - obspy.clients.fdsn.mass_downloader - INFO: 1 StationXML files [0.0 MB] already existed.\n",
      "[2021-11-25 00:48:50,920] - obspy.clients.fdsn.mass_downloader - INFO: Client 'GEONET' - Acquired 1 MiniSEED files [0.0 MB].\n",
      "[2021-11-25 00:48:50,921] - obspy.clients.fdsn.mass_downloader - INFO: Client 'GEONET' - Acquired 0 StationXML files [0.0 MB].\n",
      "[2021-11-25 00:48:50,924] - obspy.clients.fdsn.mass_downloader - INFO: Downloaded 0.0 MB in total.\n",
      "[2021-11-25 00:48:50,934] - obspy.clients.fdsn.mass_downloader - INFO: Initializing FDSN client(s) for GEONET.\n",
      "[2021-11-25 00:48:50,944] - obspy.clients.fdsn.mass_downloader - INFO: Successfully initialized 1 client(s): GEONET.\n",
      "[2021-11-25 00:48:50,946] - obspy.clients.fdsn.mass_downloader - INFO: Total acquired or preexisting stations: 0\n",
      "[2021-11-25 00:48:50,948] - obspy.clients.fdsn.mass_downloader - INFO: Client 'GEONET' - Requesting unreliable availability.\n"
     ]
    },
    {
     "name": "stdout",
     "output_type": "stream",
     "text": [
      "=================================================================\n",
      "Initiating mass download request.\n"
     ]
    },
    {
     "name": "stderr",
     "output_type": "stream",
     "text": [
      "[2021-11-25 00:48:51,526] - obspy.clients.fdsn.mass_downloader - INFO: Client 'GEONET' - Successfully requested availability (0.57 seconds)\n",
      "[2021-11-25 00:48:51,527] - obspy.clients.fdsn.mass_downloader - INFO: Client 'GEONET' - Found 1 stations (1 channels).\n",
      "[2021-11-25 00:48:51,527] - obspy.clients.fdsn.mass_downloader - INFO: Client 'GEONET' - Will attempt to download data from 1 stations.\n",
      "[2021-11-25 00:48:51,532] - obspy.clients.fdsn.mass_downloader - INFO: Client 'GEONET' - Status for 1 time intervals/channels before downloading: NEEDS_DOWNLOADING\n",
      "[2021-11-25 00:48:52,300] - obspy.clients.fdsn.mass_downloader - INFO: Client 'GEONET' - Successfully downloaded 1 channels (of 1)\n",
      "[2021-11-25 00:48:52,303] - obspy.clients.fdsn.mass_downloader - INFO: Client 'GEONET' - Launching basic QC checks...\n",
      "[2021-11-25 00:48:52,306] - obspy.clients.fdsn.mass_downloader - INFO: Client 'GEONET' - Downloaded 0.0 MB [3.93 KB/sec] of data, 0.0 MB of which were discarded afterwards.\n",
      "[2021-11-25 00:48:52,306] - obspy.clients.fdsn.mass_downloader - INFO: Client 'GEONET' - Status for 1 time intervals/channels after downloading: DOWNLOADED\n",
      "[2021-11-25 00:48:52,310] - obspy.clients.fdsn.mass_downloader - INFO: Client 'GEONET' - No station information to download.\n",
      "[2021-11-25 00:48:52,311] - obspy.clients.fdsn.mass_downloader - INFO: ============================== Final report\n",
      "[2021-11-25 00:48:52,311] - obspy.clients.fdsn.mass_downloader - INFO: 0 MiniSEED files [0.0 MB] already existed.\n",
      "[2021-11-25 00:48:52,312] - obspy.clients.fdsn.mass_downloader - INFO: 1 StationXML files [0.0 MB] already existed.\n",
      "[2021-11-25 00:48:52,312] - obspy.clients.fdsn.mass_downloader - INFO: Client 'GEONET' - Acquired 1 MiniSEED files [0.0 MB].\n",
      "[2021-11-25 00:48:52,312] - obspy.clients.fdsn.mass_downloader - INFO: Client 'GEONET' - Acquired 0 StationXML files [0.0 MB].\n",
      "[2021-11-25 00:48:52,313] - obspy.clients.fdsn.mass_downloader - INFO: Downloaded 0.0 MB in total.\n",
      "[2021-11-25 00:48:52,315] - obspy.clients.fdsn.mass_downloader - INFO: Initializing FDSN client(s) for GEONET.\n",
      "[2021-11-25 00:48:52,318] - obspy.clients.fdsn.mass_downloader - INFO: Successfully initialized 1 client(s): GEONET.\n",
      "[2021-11-25 00:48:52,319] - obspy.clients.fdsn.mass_downloader - INFO: Total acquired or preexisting stations: 0\n",
      "[2021-11-25 00:48:52,319] - obspy.clients.fdsn.mass_downloader - INFO: Client 'GEONET' - Requesting unreliable availability.\n"
     ]
    },
    {
     "name": "stdout",
     "output_type": "stream",
     "text": [
      "=================================================================\n",
      "Initiating mass download request.\n"
     ]
    },
    {
     "name": "stderr",
     "output_type": "stream",
     "text": [
      "[2021-11-25 00:48:52,877] - obspy.clients.fdsn.mass_downloader - INFO: Client 'GEONET' - Successfully requested availability (0.56 seconds)\n",
      "[2021-11-25 00:48:52,879] - obspy.clients.fdsn.mass_downloader - INFO: Client 'GEONET' - Found 1 stations (1 channels).\n",
      "[2021-11-25 00:48:52,880] - obspy.clients.fdsn.mass_downloader - INFO: Client 'GEONET' - Will attempt to download data from 1 stations.\n",
      "[2021-11-25 00:48:52,880] - obspy.clients.fdsn.mass_downloader - INFO: Client 'GEONET' - Status for 1 time intervals/channels before downloading: NEEDS_DOWNLOADING\n",
      "[2021-11-25 00:48:53,607] - obspy.clients.fdsn.mass_downloader - INFO: Client 'GEONET' - Successfully downloaded 1 channels (of 1)\n",
      "[2021-11-25 00:48:53,609] - obspy.clients.fdsn.mass_downloader - INFO: Client 'GEONET' - Launching basic QC checks...\n",
      "[2021-11-25 00:48:53,616] - obspy.clients.fdsn.mass_downloader - INFO: Client 'GEONET' - Downloaded 0.0 MB [4.14 KB/sec] of data, 0.0 MB of which were discarded afterwards.\n",
      "[2021-11-25 00:48:53,616] - obspy.clients.fdsn.mass_downloader - INFO: Client 'GEONET' - Status for 1 time intervals/channels after downloading: DOWNLOADED\n",
      "[2021-11-25 00:48:53,619] - obspy.clients.fdsn.mass_downloader - INFO: Client 'GEONET' - No station information to download.\n",
      "[2021-11-25 00:48:53,619] - obspy.clients.fdsn.mass_downloader - INFO: ============================== Final report\n",
      "[2021-11-25 00:48:53,620] - obspy.clients.fdsn.mass_downloader - INFO: 0 MiniSEED files [0.0 MB] already existed.\n",
      "[2021-11-25 00:48:53,620] - obspy.clients.fdsn.mass_downloader - INFO: 1 StationXML files [0.0 MB] already existed.\n",
      "[2021-11-25 00:48:53,620] - obspy.clients.fdsn.mass_downloader - INFO: Client 'GEONET' - Acquired 1 MiniSEED files [0.0 MB].\n",
      "[2021-11-25 00:48:53,620] - obspy.clients.fdsn.mass_downloader - INFO: Client 'GEONET' - Acquired 0 StationXML files [0.0 MB].\n",
      "[2021-11-25 00:48:53,621] - obspy.clients.fdsn.mass_downloader - INFO: Downloaded 0.0 MB in total.\n",
      "[2021-11-25 00:48:53,623] - obspy.clients.fdsn.mass_downloader - INFO: Initializing FDSN client(s) for GEONET.\n",
      "[2021-11-25 00:48:53,626] - obspy.clients.fdsn.mass_downloader - INFO: Successfully initialized 1 client(s): GEONET.\n",
      "[2021-11-25 00:48:53,626] - obspy.clients.fdsn.mass_downloader - INFO: Total acquired or preexisting stations: 0\n",
      "[2021-11-25 00:48:53,626] - obspy.clients.fdsn.mass_downloader - INFO: Client 'GEONET' - Requesting unreliable availability.\n"
     ]
    },
    {
     "name": "stdout",
     "output_type": "stream",
     "text": [
      "=================================================================\n",
      "Initiating mass download request.\n"
     ]
    },
    {
     "name": "stderr",
     "output_type": "stream",
     "text": [
      "[2021-11-25 00:48:54,160] - obspy.clients.fdsn.mass_downloader - INFO: Client 'GEONET' - Successfully requested availability (0.53 seconds)\n",
      "[2021-11-25 00:48:54,161] - obspy.clients.fdsn.mass_downloader - INFO: Client 'GEONET' - Found 1 stations (1 channels).\n",
      "[2021-11-25 00:48:54,161] - obspy.clients.fdsn.mass_downloader - INFO: Client 'GEONET' - Will attempt to download data from 1 stations.\n",
      "[2021-11-25 00:48:54,162] - obspy.clients.fdsn.mass_downloader - INFO: Client 'GEONET' - Status for 1 time intervals/channels before downloading: NEEDS_DOWNLOADING\n",
      "[2021-11-25 00:48:55,045] - obspy.clients.fdsn.mass_downloader - INFO: Client 'GEONET' - Successfully downloaded 1 channels (of 1)\n",
      "[2021-11-25 00:48:55,051] - obspy.clients.fdsn.mass_downloader - INFO: Client 'GEONET' - Launching basic QC checks...\n",
      "[2021-11-25 00:48:55,058] - obspy.clients.fdsn.mass_downloader - INFO: Client 'GEONET' - Downloaded 0.0 MB [6.76 KB/sec] of data, 0.0 MB of which were discarded afterwards.\n",
      "[2021-11-25 00:48:55,059] - obspy.clients.fdsn.mass_downloader - INFO: Client 'GEONET' - Status for 1 time intervals/channels after downloading: DOWNLOADED\n",
      "[2021-11-25 00:48:55,061] - obspy.clients.fdsn.mass_downloader - INFO: Client 'GEONET' - No station information to download.\n",
      "[2021-11-25 00:48:55,061] - obspy.clients.fdsn.mass_downloader - INFO: ============================== Final report\n",
      "[2021-11-25 00:48:55,062] - obspy.clients.fdsn.mass_downloader - INFO: 0 MiniSEED files [0.0 MB] already existed.\n",
      "[2021-11-25 00:48:55,062] - obspy.clients.fdsn.mass_downloader - INFO: 1 StationXML files [0.0 MB] already existed.\n",
      "[2021-11-25 00:48:55,062] - obspy.clients.fdsn.mass_downloader - INFO: Client 'GEONET' - Acquired 1 MiniSEED files [0.0 MB].\n",
      "[2021-11-25 00:48:55,063] - obspy.clients.fdsn.mass_downloader - INFO: Client 'GEONET' - Acquired 0 StationXML files [0.0 MB].\n",
      "[2021-11-25 00:48:55,063] - obspy.clients.fdsn.mass_downloader - INFO: Downloaded 0.0 MB in total.\n",
      "[2021-11-25 00:48:55,067] - obspy.clients.fdsn.mass_downloader - INFO: Initializing FDSN client(s) for GEONET.\n",
      "[2021-11-25 00:48:55,070] - obspy.clients.fdsn.mass_downloader - INFO: Successfully initialized 1 client(s): GEONET.\n",
      "[2021-11-25 00:48:55,071] - obspy.clients.fdsn.mass_downloader - INFO: Total acquired or preexisting stations: 0\n",
      "[2021-11-25 00:48:55,071] - obspy.clients.fdsn.mass_downloader - INFO: Client 'GEONET' - Requesting unreliable availability.\n"
     ]
    },
    {
     "name": "stdout",
     "output_type": "stream",
     "text": [
      "=================================================================\n",
      "Initiating mass download request.\n"
     ]
    },
    {
     "name": "stderr",
     "output_type": "stream",
     "text": [
      "[2021-11-25 00:48:55,655] - obspy.clients.fdsn.mass_downloader - INFO: Client 'GEONET' - Successfully requested availability (0.58 seconds)\n",
      "[2021-11-25 00:48:55,656] - obspy.clients.fdsn.mass_downloader - INFO: Client 'GEONET' - Found 1 stations (1 channels).\n",
      "[2021-11-25 00:48:55,656] - obspy.clients.fdsn.mass_downloader - INFO: Client 'GEONET' - Will attempt to download data from 1 stations.\n",
      "[2021-11-25 00:48:55,657] - obspy.clients.fdsn.mass_downloader - INFO: Client 'GEONET' - Status for 1 time intervals/channels before downloading: NEEDS_DOWNLOADING\n",
      "[2021-11-25 00:48:56,522] - obspy.clients.fdsn.mass_downloader - INFO: Client 'GEONET' - Successfully downloaded 1 channels (of 1)\n",
      "[2021-11-25 00:48:56,530] - obspy.clients.fdsn.mass_downloader - INFO: Client 'GEONET' - Launching basic QC checks...\n",
      "[2021-11-25 00:48:56,548] - obspy.clients.fdsn.mass_downloader - INFO: Client 'GEONET' - Downloaded 0.0 MB [4.59 KB/sec] of data, 0.0 MB of which were discarded afterwards.\n",
      "[2021-11-25 00:48:56,549] - obspy.clients.fdsn.mass_downloader - INFO: Client 'GEONET' - Status for 1 time intervals/channels after downloading: DOWNLOADED\n",
      "[2021-11-25 00:48:56,552] - obspy.clients.fdsn.mass_downloader - INFO: Client 'GEONET' - No station information to download.\n",
      "[2021-11-25 00:48:56,553] - obspy.clients.fdsn.mass_downloader - INFO: ============================== Final report\n",
      "[2021-11-25 00:48:56,553] - obspy.clients.fdsn.mass_downloader - INFO: 0 MiniSEED files [0.0 MB] already existed.\n",
      "[2021-11-25 00:48:56,554] - obspy.clients.fdsn.mass_downloader - INFO: 1 StationXML files [0.0 MB] already existed.\n",
      "[2021-11-25 00:48:56,555] - obspy.clients.fdsn.mass_downloader - INFO: Client 'GEONET' - Acquired 1 MiniSEED files [0.0 MB].\n",
      "[2021-11-25 00:48:56,555] - obspy.clients.fdsn.mass_downloader - INFO: Client 'GEONET' - Acquired 0 StationXML files [0.0 MB].\n",
      "[2021-11-25 00:48:56,556] - obspy.clients.fdsn.mass_downloader - INFO: Downloaded 0.0 MB in total.\n",
      "[2021-11-25 00:48:56,563] - obspy.clients.fdsn.mass_downloader - INFO: Initializing FDSN client(s) for GEONET.\n",
      "[2021-11-25 00:48:56,573] - obspy.clients.fdsn.mass_downloader - INFO: Successfully initialized 1 client(s): GEONET.\n",
      "[2021-11-25 00:48:56,576] - obspy.clients.fdsn.mass_downloader - INFO: Total acquired or preexisting stations: 0\n",
      "[2021-11-25 00:48:56,578] - obspy.clients.fdsn.mass_downloader - INFO: Client 'GEONET' - Requesting unreliable availability.\n"
     ]
    },
    {
     "name": "stdout",
     "output_type": "stream",
     "text": [
      "=================================================================\n",
      "Initiating mass download request.\n"
     ]
    },
    {
     "name": "stderr",
     "output_type": "stream",
     "text": [
      "[2021-11-25 00:48:58,072] - obspy.clients.fdsn.mass_downloader - INFO: Client 'GEONET' - Successfully requested availability (1.49 seconds)\n",
      "[2021-11-25 00:48:58,074] - obspy.clients.fdsn.mass_downloader - INFO: Client 'GEONET' - Found 1 stations (1 channels).\n",
      "[2021-11-25 00:48:58,075] - obspy.clients.fdsn.mass_downloader - INFO: Client 'GEONET' - Will attempt to download data from 1 stations.\n",
      "[2021-11-25 00:48:58,083] - obspy.clients.fdsn.mass_downloader - INFO: Client 'GEONET' - Status for 1 time intervals/channels before downloading: NEEDS_DOWNLOADING\n",
      "[2021-11-25 00:48:58,957] - obspy.clients.fdsn.mass_downloader - INFO: Client 'GEONET' - Successfully downloaded 1 channels (of 1)\n",
      "[2021-11-25 00:48:58,961] - obspy.clients.fdsn.mass_downloader - INFO: Client 'GEONET' - Launching basic QC checks...\n",
      "[2021-11-25 00:48:58,971] - obspy.clients.fdsn.mass_downloader - INFO: Client 'GEONET' - Downloaded 0.0 MB [4.61 KB/sec] of data, 0.0 MB of which were discarded afterwards.\n",
      "[2021-11-25 00:48:58,972] - obspy.clients.fdsn.mass_downloader - INFO: Client 'GEONET' - Status for 1 time intervals/channels after downloading: DOWNLOADED\n",
      "[2021-11-25 00:48:58,976] - obspy.clients.fdsn.mass_downloader - INFO: Client 'GEONET' - No station information to download.\n",
      "[2021-11-25 00:48:58,977] - obspy.clients.fdsn.mass_downloader - INFO: ============================== Final report\n",
      "[2021-11-25 00:48:58,977] - obspy.clients.fdsn.mass_downloader - INFO: 0 MiniSEED files [0.0 MB] already existed.\n",
      "[2021-11-25 00:48:58,977] - obspy.clients.fdsn.mass_downloader - INFO: 1 StationXML files [0.0 MB] already existed.\n",
      "[2021-11-25 00:48:58,978] - obspy.clients.fdsn.mass_downloader - INFO: Client 'GEONET' - Acquired 1 MiniSEED files [0.0 MB].\n",
      "[2021-11-25 00:48:58,978] - obspy.clients.fdsn.mass_downloader - INFO: Client 'GEONET' - Acquired 0 StationXML files [0.0 MB].\n",
      "[2021-11-25 00:48:58,978] - obspy.clients.fdsn.mass_downloader - INFO: Downloaded 0.0 MB in total.\n",
      "[2021-11-25 00:48:58,987] - obspy.clients.fdsn.mass_downloader - INFO: Initializing FDSN client(s) for GEONET.\n",
      "[2021-11-25 00:48:58,991] - obspy.clients.fdsn.mass_downloader - INFO: Successfully initialized 1 client(s): GEONET.\n",
      "[2021-11-25 00:48:58,992] - obspy.clients.fdsn.mass_downloader - INFO: Total acquired or preexisting stations: 0\n",
      "[2021-11-25 00:48:58,993] - obspy.clients.fdsn.mass_downloader - INFO: Client 'GEONET' - Requesting unreliable availability.\n"
     ]
    },
    {
     "name": "stdout",
     "output_type": "stream",
     "text": [
      "=================================================================\n",
      "Initiating mass download request.\n"
     ]
    },
    {
     "name": "stderr",
     "output_type": "stream",
     "text": [
      "[2021-11-25 00:48:59,729] - obspy.clients.fdsn.mass_downloader - INFO: Client 'GEONET' - Successfully requested availability (0.74 seconds)\n",
      "[2021-11-25 00:48:59,737] - obspy.clients.fdsn.mass_downloader - INFO: Client 'GEONET' - Found 1 stations (1 channels).\n",
      "[2021-11-25 00:48:59,739] - obspy.clients.fdsn.mass_downloader - INFO: Client 'GEONET' - Will attempt to download data from 1 stations.\n",
      "[2021-11-25 00:48:59,743] - obspy.clients.fdsn.mass_downloader - INFO: Client 'GEONET' - Status for 1 time intervals/channels before downloading: NEEDS_DOWNLOADING\n",
      "[2021-11-25 00:49:00,411] - obspy.clients.fdsn.mass_downloader - INFO: Client 'GEONET' - Successfully downloaded 0 channels (of 1)\n",
      "[2021-11-25 00:49:00,460] - obspy.clients.fdsn.mass_downloader - INFO: Client 'GEONET' - Launching basic QC checks...\n",
      "[2021-11-25 00:49:00,467] - obspy.clients.fdsn.mass_downloader - INFO: Client 'GEONET' - Downloaded 0.0 MB [0.00 KB/sec] of data, 0.0 MB of which were discarded afterwards.\n",
      "[2021-11-25 00:49:00,473] - obspy.clients.fdsn.mass_downloader - INFO: Client 'GEONET' - Status for 1 time intervals/channels after downloading: DOWNLOAD_FAILED\n",
      "[2021-11-25 00:49:00,477] - obspy.clients.fdsn.mass_downloader - INFO: Client 'GEONET' - No station information to download.\n",
      "[2021-11-25 00:49:00,483] - obspy.clients.fdsn.mass_downloader - INFO: Client 'GEONET' - No data could be downloaded.\n",
      "[2021-11-25 00:49:00,488] - obspy.clients.fdsn.mass_downloader - INFO: ============================== Final report\n",
      "[2021-11-25 00:49:00,493] - obspy.clients.fdsn.mass_downloader - INFO: 0 MiniSEED files [0.0 MB] already existed.\n",
      "[2021-11-25 00:49:00,496] - obspy.clients.fdsn.mass_downloader - INFO: 0 StationXML files [0.0 MB] already existed.\n",
      "[2021-11-25 00:49:00,500] - obspy.clients.fdsn.mass_downloader - INFO: Client 'GEONET' - Acquired 0 MiniSEED files [0.0 MB].\n",
      "[2021-11-25 00:49:00,500] - obspy.clients.fdsn.mass_downloader - INFO: Client 'GEONET' - Acquired 0 StationXML files [0.0 MB].\n",
      "[2021-11-25 00:49:00,509] - obspy.clients.fdsn.mass_downloader - INFO: Downloaded 0.0 MB in total.\n",
      "[2021-11-25 00:49:00,542] - obspy.clients.fdsn.mass_downloader - INFO: Initializing FDSN client(s) for GEONET.\n",
      "[2021-11-25 00:49:00,567] - obspy.clients.fdsn.mass_downloader - INFO: Successfully initialized 1 client(s): GEONET.\n",
      "[2021-11-25 00:49:00,576] - obspy.clients.fdsn.mass_downloader - INFO: Total acquired or preexisting stations: 0\n",
      "[2021-11-25 00:49:00,585] - obspy.clients.fdsn.mass_downloader - INFO: Client 'GEONET' - Requesting unreliable availability.\n"
     ]
    },
    {
     "name": "stdout",
     "output_type": "stream",
     "text": [
      "=================================================================\n",
      "Initiating mass download request.\n"
     ]
    },
    {
     "name": "stderr",
     "output_type": "stream",
     "text": [
      "[2021-11-25 00:49:01,302] - obspy.clients.fdsn.mass_downloader - INFO: Client 'GEONET' - Successfully requested availability (0.71 seconds)\n",
      "[2021-11-25 00:49:01,307] - obspy.clients.fdsn.mass_downloader - INFO: Client 'GEONET' - Found 1 stations (1 channels).\n",
      "[2021-11-25 00:49:01,309] - obspy.clients.fdsn.mass_downloader - INFO: Client 'GEONET' - Will attempt to download data from 1 stations.\n",
      "[2021-11-25 00:49:01,310] - obspy.clients.fdsn.mass_downloader - INFO: Client 'GEONET' - Status for 1 time intervals/channels before downloading: NEEDS_DOWNLOADING\n",
      "[2021-11-25 00:49:02,022] - obspy.clients.fdsn.mass_downloader - INFO: Client 'GEONET' - Successfully downloaded 1 channels (of 1)\n",
      "[2021-11-25 00:49:02,030] - obspy.clients.fdsn.mass_downloader - INFO: Client 'GEONET' - Launching basic QC checks...\n",
      "[2021-11-25 00:49:02,046] - obspy.clients.fdsn.mass_downloader - INFO: Client 'GEONET' - Downloaded 0.0 MB [4.88 KB/sec] of data, 0.0 MB of which were discarded afterwards.\n",
      "[2021-11-25 00:49:02,047] - obspy.clients.fdsn.mass_downloader - INFO: Client 'GEONET' - Status for 1 time intervals/channels after downloading: DOWNLOADED\n",
      "[2021-11-25 00:49:02,050] - obspy.clients.fdsn.mass_downloader - INFO: Client 'GEONET' - No station information to download.\n",
      "[2021-11-25 00:49:02,051] - obspy.clients.fdsn.mass_downloader - INFO: ============================== Final report\n",
      "[2021-11-25 00:49:02,051] - obspy.clients.fdsn.mass_downloader - INFO: 0 MiniSEED files [0.0 MB] already existed.\n",
      "[2021-11-25 00:49:02,052] - obspy.clients.fdsn.mass_downloader - INFO: 1 StationXML files [0.0 MB] already existed.\n",
      "[2021-11-25 00:49:02,053] - obspy.clients.fdsn.mass_downloader - INFO: Client 'GEONET' - Acquired 1 MiniSEED files [0.0 MB].\n",
      "[2021-11-25 00:49:02,054] - obspy.clients.fdsn.mass_downloader - INFO: Client 'GEONET' - Acquired 0 StationXML files [0.0 MB].\n",
      "[2021-11-25 00:49:02,054] - obspy.clients.fdsn.mass_downloader - INFO: Downloaded 0.0 MB in total.\n",
      "[2021-11-25 00:49:02,061] - obspy.clients.fdsn.mass_downloader - INFO: Initializing FDSN client(s) for GEONET.\n",
      "[2021-11-25 00:49:02,065] - obspy.clients.fdsn.mass_downloader - INFO: Successfully initialized 1 client(s): GEONET.\n",
      "[2021-11-25 00:49:02,065] - obspy.clients.fdsn.mass_downloader - INFO: Total acquired or preexisting stations: 0\n",
      "[2021-11-25 00:49:02,066] - obspy.clients.fdsn.mass_downloader - INFO: Client 'GEONET' - Requesting unreliable availability.\n"
     ]
    },
    {
     "name": "stdout",
     "output_type": "stream",
     "text": [
      "=================================================================\n",
      "Initiating mass download request.\n"
     ]
    },
    {
     "name": "stderr",
     "output_type": "stream",
     "text": [
      "[2021-11-25 00:49:02,694] - obspy.clients.fdsn.mass_downloader - INFO: Client 'GEONET' - Successfully requested availability (0.63 seconds)\n",
      "[2021-11-25 00:49:02,698] - obspy.clients.fdsn.mass_downloader - INFO: Client 'GEONET' - Found 1 stations (1 channels).\n",
      "[2021-11-25 00:49:02,699] - obspy.clients.fdsn.mass_downloader - INFO: Client 'GEONET' - Will attempt to download data from 1 stations.\n",
      "[2021-11-25 00:49:02,700] - obspy.clients.fdsn.mass_downloader - INFO: Client 'GEONET' - Status for 1 time intervals/channels before downloading: NEEDS_DOWNLOADING\n",
      "[2021-11-25 00:49:03,613] - obspy.clients.fdsn.mass_downloader - INFO: Client 'GEONET' - Successfully downloaded 1 channels (of 1)\n",
      "[2021-11-25 00:49:03,657] - obspy.clients.fdsn.mass_downloader - INFO: Client 'GEONET' - Launching basic QC checks...\n",
      "[2021-11-25 00:49:03,685] - obspy.clients.fdsn.mass_downloader - INFO: Client 'GEONET' - Downloaded 0.0 MB [3.69 KB/sec] of data, 0.0 MB of which were discarded afterwards.\n",
      "[2021-11-25 00:49:03,692] - obspy.clients.fdsn.mass_downloader - INFO: Client 'GEONET' - Status for 1 time intervals/channels after downloading: DOWNLOADED\n",
      "[2021-11-25 00:49:03,700] - obspy.clients.fdsn.mass_downloader - INFO: Client 'GEONET' - No station information to download.\n",
      "[2021-11-25 00:49:03,707] - obspy.clients.fdsn.mass_downloader - INFO: ============================== Final report\n",
      "[2021-11-25 00:49:03,713] - obspy.clients.fdsn.mass_downloader - INFO: 0 MiniSEED files [0.0 MB] already existed.\n",
      "[2021-11-25 00:49:03,719] - obspy.clients.fdsn.mass_downloader - INFO: 1 StationXML files [0.0 MB] already existed.\n",
      "[2021-11-25 00:49:03,721] - obspy.clients.fdsn.mass_downloader - INFO: Client 'GEONET' - Acquired 1 MiniSEED files [0.0 MB].\n",
      "[2021-11-25 00:49:03,722] - obspy.clients.fdsn.mass_downloader - INFO: Client 'GEONET' - Acquired 0 StationXML files [0.0 MB].\n",
      "[2021-11-25 00:49:03,724] - obspy.clients.fdsn.mass_downloader - INFO: Downloaded 0.0 MB in total.\n",
      "[2021-11-25 00:49:03,747] - obspy.clients.fdsn.mass_downloader - INFO: Initializing FDSN client(s) for GEONET.\n",
      "[2021-11-25 00:49:03,779] - obspy.clients.fdsn.mass_downloader - INFO: Successfully initialized 1 client(s): GEONET.\n",
      "[2021-11-25 00:49:03,786] - obspy.clients.fdsn.mass_downloader - INFO: Total acquired or preexisting stations: 0\n",
      "[2021-11-25 00:49:03,793] - obspy.clients.fdsn.mass_downloader - INFO: Client 'GEONET' - Requesting unreliable availability.\n"
     ]
    },
    {
     "name": "stdout",
     "output_type": "stream",
     "text": [
      "=================================================================\n",
      "Initiating mass download request.\n"
     ]
    },
    {
     "name": "stderr",
     "output_type": "stream",
     "text": [
      "[2021-11-25 00:49:04,485] - obspy.clients.fdsn.mass_downloader - INFO: Client 'GEONET' - Successfully requested availability (0.69 seconds)\n",
      "[2021-11-25 00:49:04,496] - obspy.clients.fdsn.mass_downloader - INFO: Client 'GEONET' - Found 1 stations (1 channels).\n",
      "[2021-11-25 00:49:04,509] - obspy.clients.fdsn.mass_downloader - INFO: Client 'GEONET' - Will attempt to download data from 1 stations.\n",
      "[2021-11-25 00:49:04,524] - obspy.clients.fdsn.mass_downloader - INFO: Client 'GEONET' - Status for 1 time intervals/channels before downloading: NEEDS_DOWNLOADING\n",
      "[2021-11-25 00:49:05,320] - obspy.clients.fdsn.mass_downloader - INFO: Client 'GEONET' - Successfully downloaded 1 channels (of 1)\n",
      "[2021-11-25 00:49:05,328] - obspy.clients.fdsn.mass_downloader - INFO: Client 'GEONET' - Launching basic QC checks...\n",
      "[2021-11-25 00:49:05,343] - obspy.clients.fdsn.mass_downloader - INFO: Client 'GEONET' - Downloaded 0.0 MB [4.48 KB/sec] of data, 0.0 MB of which were discarded afterwards.\n",
      "[2021-11-25 00:49:05,344] - obspy.clients.fdsn.mass_downloader - INFO: Client 'GEONET' - Status for 1 time intervals/channels after downloading: DOWNLOADED\n",
      "[2021-11-25 00:49:05,350] - obspy.clients.fdsn.mass_downloader - INFO: Client 'GEONET' - No station information to download.\n",
      "[2021-11-25 00:49:05,351] - obspy.clients.fdsn.mass_downloader - INFO: ============================== Final report\n",
      "[2021-11-25 00:49:05,352] - obspy.clients.fdsn.mass_downloader - INFO: 0 MiniSEED files [0.0 MB] already existed.\n",
      "[2021-11-25 00:49:05,359] - obspy.clients.fdsn.mass_downloader - INFO: 1 StationXML files [0.0 MB] already existed.\n",
      "[2021-11-25 00:49:05,360] - obspy.clients.fdsn.mass_downloader - INFO: Client 'GEONET' - Acquired 1 MiniSEED files [0.0 MB].\n",
      "[2021-11-25 00:49:05,360] - obspy.clients.fdsn.mass_downloader - INFO: Client 'GEONET' - Acquired 0 StationXML files [0.0 MB].\n",
      "[2021-11-25 00:49:05,360] - obspy.clients.fdsn.mass_downloader - INFO: Downloaded 0.0 MB in total.\n",
      "[2021-11-25 00:49:05,379] - obspy.clients.fdsn.mass_downloader - INFO: Initializing FDSN client(s) for GEONET.\n",
      "[2021-11-25 00:49:05,402] - obspy.clients.fdsn.mass_downloader - INFO: Successfully initialized 1 client(s): GEONET.\n",
      "[2021-11-25 00:49:05,404] - obspy.clients.fdsn.mass_downloader - INFO: Total acquired or preexisting stations: 0\n",
      "[2021-11-25 00:49:05,405] - obspy.clients.fdsn.mass_downloader - INFO: Client 'GEONET' - Requesting unreliable availability.\n"
     ]
    },
    {
     "name": "stdout",
     "output_type": "stream",
     "text": [
      "=================================================================\n",
      "Initiating mass download request.\n"
     ]
    },
    {
     "name": "stderr",
     "output_type": "stream",
     "text": [
      "[2021-11-25 00:49:05,977] - obspy.clients.fdsn.mass_downloader - INFO: Client 'GEONET' - Successfully requested availability (0.57 seconds)\n",
      "[2021-11-25 00:49:05,983] - obspy.clients.fdsn.mass_downloader - INFO: Client 'GEONET' - Found 1 stations (1 channels).\n",
      "[2021-11-25 00:49:05,984] - obspy.clients.fdsn.mass_downloader - INFO: Client 'GEONET' - Will attempt to download data from 1 stations.\n",
      "[2021-11-25 00:49:05,985] - obspy.clients.fdsn.mass_downloader - INFO: Client 'GEONET' - Status for 1 time intervals/channels before downloading: NEEDS_DOWNLOADING\n",
      "[2021-11-25 00:49:06,701] - obspy.clients.fdsn.mass_downloader - INFO: Client 'GEONET' - Successfully downloaded 1 channels (of 1)\n",
      "[2021-11-25 00:49:06,704] - obspy.clients.fdsn.mass_downloader - INFO: Client 'GEONET' - Launching basic QC checks...\n",
      "[2021-11-25 00:49:06,708] - obspy.clients.fdsn.mass_downloader - INFO: Client 'GEONET' - Downloaded 0.0 MB [4.88 KB/sec] of data, 0.0 MB of which were discarded afterwards.\n",
      "[2021-11-25 00:49:06,708] - obspy.clients.fdsn.mass_downloader - INFO: Client 'GEONET' - Status for 1 time intervals/channels after downloading: DOWNLOADED\n",
      "[2021-11-25 00:49:06,710] - obspy.clients.fdsn.mass_downloader - INFO: Client 'GEONET' - No station information to download.\n",
      "[2021-11-25 00:49:06,711] - obspy.clients.fdsn.mass_downloader - INFO: ============================== Final report\n",
      "[2021-11-25 00:49:06,711] - obspy.clients.fdsn.mass_downloader - INFO: 0 MiniSEED files [0.0 MB] already existed.\n",
      "[2021-11-25 00:49:06,711] - obspy.clients.fdsn.mass_downloader - INFO: 1 StationXML files [0.0 MB] already existed.\n",
      "[2021-11-25 00:49:06,712] - obspy.clients.fdsn.mass_downloader - INFO: Client 'GEONET' - Acquired 1 MiniSEED files [0.0 MB].\n",
      "[2021-11-25 00:49:06,712] - obspy.clients.fdsn.mass_downloader - INFO: Client 'GEONET' - Acquired 0 StationXML files [0.0 MB].\n",
      "[2021-11-25 00:49:06,712] - obspy.clients.fdsn.mass_downloader - INFO: Downloaded 0.0 MB in total.\n",
      "[2021-11-25 00:49:06,718] - obspy.clients.fdsn.mass_downloader - INFO: Initializing FDSN client(s) for GEONET.\n",
      "[2021-11-25 00:49:06,721] - obspy.clients.fdsn.mass_downloader - INFO: Successfully initialized 1 client(s): GEONET.\n",
      "[2021-11-25 00:49:06,721] - obspy.clients.fdsn.mass_downloader - INFO: Total acquired or preexisting stations: 0\n",
      "[2021-11-25 00:49:06,722] - obspy.clients.fdsn.mass_downloader - INFO: Client 'GEONET' - Requesting unreliable availability.\n"
     ]
    },
    {
     "name": "stdout",
     "output_type": "stream",
     "text": [
      "=================================================================\n",
      "Initiating mass download request.\n"
     ]
    },
    {
     "name": "stderr",
     "output_type": "stream",
     "text": [
      "[2021-11-25 00:49:07,321] - obspy.clients.fdsn.mass_downloader - INFO: Client 'GEONET' - Successfully requested availability (0.60 seconds)\n",
      "[2021-11-25 00:49:07,327] - obspy.clients.fdsn.mass_downloader - INFO: Client 'GEONET' - Found 1 stations (1 channels).\n",
      "[2021-11-25 00:49:07,327] - obspy.clients.fdsn.mass_downloader - INFO: Client 'GEONET' - Will attempt to download data from 1 stations.\n",
      "[2021-11-25 00:49:07,328] - obspy.clients.fdsn.mass_downloader - INFO: Client 'GEONET' - Status for 1 time intervals/channels before downloading: NEEDS_DOWNLOADING\n",
      "[2021-11-25 00:49:08,100] - obspy.clients.fdsn.mass_downloader - INFO: Client 'GEONET' - Successfully downloaded 1 channels (of 1)\n",
      "[2021-11-25 00:49:08,106] - obspy.clients.fdsn.mass_downloader - INFO: Client 'GEONET' - Launching basic QC checks...\n",
      "[2021-11-25 00:49:08,144] - obspy.clients.fdsn.mass_downloader - INFO: Client 'GEONET' - Downloaded 0.0 MB [3.92 KB/sec] of data, 0.0 MB of which were discarded afterwards.\n",
      "[2021-11-25 00:49:08,144] - obspy.clients.fdsn.mass_downloader - INFO: Client 'GEONET' - Status for 1 time intervals/channels after downloading: DOWNLOADED\n",
      "[2021-11-25 00:49:08,148] - obspy.clients.fdsn.mass_downloader - INFO: Client 'GEONET' - No station information to download.\n",
      "[2021-11-25 00:49:08,150] - obspy.clients.fdsn.mass_downloader - INFO: ============================== Final report\n",
      "[2021-11-25 00:49:08,150] - obspy.clients.fdsn.mass_downloader - INFO: 0 MiniSEED files [0.0 MB] already existed.\n",
      "[2021-11-25 00:49:08,150] - obspy.clients.fdsn.mass_downloader - INFO: 1 StationXML files [0.0 MB] already existed.\n",
      "[2021-11-25 00:49:08,151] - obspy.clients.fdsn.mass_downloader - INFO: Client 'GEONET' - Acquired 1 MiniSEED files [0.0 MB].\n",
      "[2021-11-25 00:49:08,151] - obspy.clients.fdsn.mass_downloader - INFO: Client 'GEONET' - Acquired 0 StationXML files [0.0 MB].\n",
      "[2021-11-25 00:49:08,152] - obspy.clients.fdsn.mass_downloader - INFO: Downloaded 0.0 MB in total.\n",
      "[2021-11-25 00:49:08,158] - obspy.clients.fdsn.mass_downloader - INFO: Initializing FDSN client(s) for GEONET.\n",
      "[2021-11-25 00:49:08,162] - obspy.clients.fdsn.mass_downloader - INFO: Successfully initialized 1 client(s): GEONET.\n",
      "[2021-11-25 00:49:08,162] - obspy.clients.fdsn.mass_downloader - INFO: Total acquired or preexisting stations: 0\n",
      "[2021-11-25 00:49:08,162] - obspy.clients.fdsn.mass_downloader - INFO: Client 'GEONET' - Requesting unreliable availability.\n"
     ]
    },
    {
     "name": "stdout",
     "output_type": "stream",
     "text": [
      "=================================================================\n",
      "Initiating mass download request.\n"
     ]
    },
    {
     "name": "stderr",
     "output_type": "stream",
     "text": [
      "[2021-11-25 00:49:08,715] - obspy.clients.fdsn.mass_downloader - INFO: Client 'GEONET' - Successfully requested availability (0.55 seconds)\n",
      "[2021-11-25 00:49:08,722] - obspy.clients.fdsn.mass_downloader - INFO: Client 'GEONET' - Found 1 stations (1 channels).\n",
      "[2021-11-25 00:49:08,722] - obspy.clients.fdsn.mass_downloader - INFO: Client 'GEONET' - Will attempt to download data from 1 stations.\n",
      "[2021-11-25 00:49:08,725] - obspy.clients.fdsn.mass_downloader - INFO: Client 'GEONET' - Status for 1 time intervals/channels before downloading: NEEDS_DOWNLOADING\n",
      "[2021-11-25 00:49:09,501] - obspy.clients.fdsn.mass_downloader - INFO: Client 'GEONET' - Successfully downloaded 1 channels (of 1)\n",
      "[2021-11-25 00:49:09,517] - obspy.clients.fdsn.mass_downloader - INFO: Client 'GEONET' - Launching basic QC checks...\n",
      "[2021-11-25 00:49:09,534] - obspy.clients.fdsn.mass_downloader - INFO: Client 'GEONET' - Downloaded 0.0 MB [4.46 KB/sec] of data, 0.0 MB of which were discarded afterwards.\n",
      "[2021-11-25 00:49:09,536] - obspy.clients.fdsn.mass_downloader - INFO: Client 'GEONET' - Status for 1 time intervals/channels after downloading: DOWNLOADED\n",
      "[2021-11-25 00:49:09,542] - obspy.clients.fdsn.mass_downloader - INFO: Client 'GEONET' - No station information to download.\n",
      "[2021-11-25 00:49:09,544] - obspy.clients.fdsn.mass_downloader - INFO: ============================== Final report\n",
      "[2021-11-25 00:49:09,549] - obspy.clients.fdsn.mass_downloader - INFO: 0 MiniSEED files [0.0 MB] already existed.\n",
      "[2021-11-25 00:49:09,551] - obspy.clients.fdsn.mass_downloader - INFO: 1 StationXML files [0.0 MB] already existed.\n",
      "[2021-11-25 00:49:09,551] - obspy.clients.fdsn.mass_downloader - INFO: Client 'GEONET' - Acquired 1 MiniSEED files [0.0 MB].\n",
      "[2021-11-25 00:49:09,552] - obspy.clients.fdsn.mass_downloader - INFO: Client 'GEONET' - Acquired 0 StationXML files [0.0 MB].\n",
      "[2021-11-25 00:49:09,552] - obspy.clients.fdsn.mass_downloader - INFO: Downloaded 0.0 MB in total.\n",
      "[2021-11-25 00:49:09,559] - obspy.clients.fdsn.mass_downloader - INFO: Initializing FDSN client(s) for GEONET.\n",
      "[2021-11-25 00:49:09,568] - obspy.clients.fdsn.mass_downloader - INFO: Successfully initialized 1 client(s): GEONET.\n",
      "[2021-11-25 00:49:09,569] - obspy.clients.fdsn.mass_downloader - INFO: Total acquired or preexisting stations: 0\n",
      "[2021-11-25 00:49:09,569] - obspy.clients.fdsn.mass_downloader - INFO: Client 'GEONET' - Requesting unreliable availability.\n"
     ]
    },
    {
     "name": "stdout",
     "output_type": "stream",
     "text": [
      "=================================================================\n",
      "Initiating mass download request.\n"
     ]
    },
    {
     "name": "stderr",
     "output_type": "stream",
     "text": [
      "[2021-11-25 00:49:10,137] - obspy.clients.fdsn.mass_downloader - INFO: Client 'GEONET' - Successfully requested availability (0.57 seconds)\n",
      "[2021-11-25 00:49:10,139] - obspy.clients.fdsn.mass_downloader - INFO: Client 'GEONET' - Found 1 stations (1 channels).\n",
      "[2021-11-25 00:49:10,140] - obspy.clients.fdsn.mass_downloader - INFO: Client 'GEONET' - Will attempt to download data from 1 stations.\n",
      "[2021-11-25 00:49:10,141] - obspy.clients.fdsn.mass_downloader - INFO: Client 'GEONET' - Status for 1 time intervals/channels before downloading: NEEDS_DOWNLOADING\n",
      "[2021-11-25 00:49:10,930] - obspy.clients.fdsn.mass_downloader - INFO: Client 'GEONET' - Successfully downloaded 1 channels (of 1)\n",
      "[2021-11-25 00:49:10,934] - obspy.clients.fdsn.mass_downloader - INFO: Client 'GEONET' - Launching basic QC checks...\n",
      "[2021-11-25 00:49:10,952] - obspy.clients.fdsn.mass_downloader - INFO: Client 'GEONET' - Downloaded 0.0 MB [4.44 KB/sec] of data, 0.0 MB of which were discarded afterwards.\n",
      "[2021-11-25 00:49:10,953] - obspy.clients.fdsn.mass_downloader - INFO: Client 'GEONET' - Status for 1 time intervals/channels after downloading: DOWNLOADED\n",
      "[2021-11-25 00:49:10,956] - obspy.clients.fdsn.mass_downloader - INFO: Client 'GEONET' - No station information to download.\n",
      "[2021-11-25 00:49:10,957] - obspy.clients.fdsn.mass_downloader - INFO: ============================== Final report\n",
      "[2021-11-25 00:49:10,958] - obspy.clients.fdsn.mass_downloader - INFO: 0 MiniSEED files [0.0 MB] already existed.\n",
      "[2021-11-25 00:49:10,958] - obspy.clients.fdsn.mass_downloader - INFO: 1 StationXML files [0.0 MB] already existed.\n",
      "[2021-11-25 00:49:10,959] - obspy.clients.fdsn.mass_downloader - INFO: Client 'GEONET' - Acquired 1 MiniSEED files [0.0 MB].\n",
      "[2021-11-25 00:49:10,960] - obspy.clients.fdsn.mass_downloader - INFO: Client 'GEONET' - Acquired 0 StationXML files [0.0 MB].\n",
      "[2021-11-25 00:49:10,961] - obspy.clients.fdsn.mass_downloader - INFO: Downloaded 0.0 MB in total.\n",
      "[2021-11-25 00:49:10,970] - obspy.clients.fdsn.mass_downloader - INFO: Initializing FDSN client(s) for GEONET.\n",
      "[2021-11-25 00:49:10,975] - obspy.clients.fdsn.mass_downloader - INFO: Successfully initialized 1 client(s): GEONET.\n",
      "[2021-11-25 00:49:10,976] - obspy.clients.fdsn.mass_downloader - INFO: Total acquired or preexisting stations: 0\n",
      "[2021-11-25 00:49:10,976] - obspy.clients.fdsn.mass_downloader - INFO: Client 'GEONET' - Requesting unreliable availability.\n"
     ]
    },
    {
     "name": "stdout",
     "output_type": "stream",
     "text": [
      "=================================================================\n",
      "Initiating mass download request.\n"
     ]
    },
    {
     "name": "stderr",
     "output_type": "stream",
     "text": [
      "[2021-11-25 00:49:11,671] - obspy.clients.fdsn.mass_downloader - INFO: Client 'GEONET' - Successfully requested availability (0.69 seconds)\n",
      "[2021-11-25 00:49:11,679] - obspy.clients.fdsn.mass_downloader - INFO: Client 'GEONET' - Found 1 stations (1 channels).\n",
      "[2021-11-25 00:49:11,680] - obspy.clients.fdsn.mass_downloader - INFO: Client 'GEONET' - Will attempt to download data from 1 stations.\n",
      "[2021-11-25 00:49:11,684] - obspy.clients.fdsn.mass_downloader - INFO: Client 'GEONET' - Status for 1 time intervals/channels before downloading: NEEDS_DOWNLOADING\n",
      "[2021-11-25 00:49:12,421] - obspy.clients.fdsn.mass_downloader - INFO: Client 'GEONET' - Successfully downloaded 1 channels (of 1)\n",
      "[2021-11-25 00:49:12,425] - obspy.clients.fdsn.mass_downloader - INFO: Client 'GEONET' - Launching basic QC checks...\n",
      "[2021-11-25 00:49:12,440] - obspy.clients.fdsn.mass_downloader - INFO: Client 'GEONET' - Downloaded 0.0 MB [4.11 KB/sec] of data, 0.0 MB of which were discarded afterwards.\n",
      "[2021-11-25 00:49:12,442] - obspy.clients.fdsn.mass_downloader - INFO: Client 'GEONET' - Status for 1 time intervals/channels after downloading: DOWNLOADED\n",
      "[2021-11-25 00:49:12,453] - obspy.clients.fdsn.mass_downloader - INFO: Client 'GEONET' - No station information to download.\n",
      "[2021-11-25 00:49:12,455] - obspy.clients.fdsn.mass_downloader - INFO: ============================== Final report\n",
      "[2021-11-25 00:49:12,456] - obspy.clients.fdsn.mass_downloader - INFO: 0 MiniSEED files [0.0 MB] already existed.\n",
      "[2021-11-25 00:49:12,457] - obspy.clients.fdsn.mass_downloader - INFO: 1 StationXML files [0.0 MB] already existed.\n",
      "[2021-11-25 00:49:12,458] - obspy.clients.fdsn.mass_downloader - INFO: Client 'GEONET' - Acquired 1 MiniSEED files [0.0 MB].\n",
      "[2021-11-25 00:49:12,459] - obspy.clients.fdsn.mass_downloader - INFO: Client 'GEONET' - Acquired 0 StationXML files [0.0 MB].\n",
      "[2021-11-25 00:49:12,459] - obspy.clients.fdsn.mass_downloader - INFO: Downloaded 0.0 MB in total.\n",
      "[2021-11-25 00:49:12,468] - obspy.clients.fdsn.mass_downloader - INFO: Initializing FDSN client(s) for GEONET.\n",
      "[2021-11-25 00:49:12,490] - obspy.clients.fdsn.mass_downloader - INFO: Successfully initialized 1 client(s): GEONET.\n",
      "[2021-11-25 00:49:12,491] - obspy.clients.fdsn.mass_downloader - INFO: Total acquired or preexisting stations: 0\n",
      "[2021-11-25 00:49:12,498] - obspy.clients.fdsn.mass_downloader - INFO: Client 'GEONET' - Requesting unreliable availability.\n"
     ]
    },
    {
     "name": "stdout",
     "output_type": "stream",
     "text": [
      "=================================================================\n",
      "Initiating mass download request.\n"
     ]
    },
    {
     "name": "stderr",
     "output_type": "stream",
     "text": [
      "[2021-11-25 00:49:13,131] - obspy.clients.fdsn.mass_downloader - INFO: Client 'GEONET' - Successfully requested availability (0.63 seconds)\n",
      "[2021-11-25 00:49:13,137] - obspy.clients.fdsn.mass_downloader - INFO: Client 'GEONET' - Found 1 stations (1 channels).\n",
      "[2021-11-25 00:49:13,141] - obspy.clients.fdsn.mass_downloader - INFO: Client 'GEONET' - Will attempt to download data from 1 stations.\n",
      "[2021-11-25 00:49:13,144] - obspy.clients.fdsn.mass_downloader - INFO: Client 'GEONET' - Status for 1 time intervals/channels before downloading: NEEDS_DOWNLOADING\n",
      "[2021-11-25 00:49:13,959] - obspy.clients.fdsn.mass_downloader - INFO: Client 'GEONET' - Successfully downloaded 1 channels (of 1)\n",
      "[2021-11-25 00:49:13,976] - obspy.clients.fdsn.mass_downloader - INFO: Client 'GEONET' - Launching basic QC checks...\n",
      "[2021-11-25 00:49:13,988] - obspy.clients.fdsn.mass_downloader - INFO: Client 'GEONET' - Downloaded 0.0 MB [4.24 KB/sec] of data, 0.0 MB of which were discarded afterwards.\n",
      "[2021-11-25 00:49:13,988] - obspy.clients.fdsn.mass_downloader - INFO: Client 'GEONET' - Status for 1 time intervals/channels after downloading: DOWNLOADED\n",
      "[2021-11-25 00:49:13,994] - obspy.clients.fdsn.mass_downloader - INFO: Client 'GEONET' - No station information to download.\n",
      "[2021-11-25 00:49:14,001] - obspy.clients.fdsn.mass_downloader - INFO: ============================== Final report\n",
      "[2021-11-25 00:49:14,009] - obspy.clients.fdsn.mass_downloader - INFO: 0 MiniSEED files [0.0 MB] already existed.\n",
      "[2021-11-25 00:49:14,017] - obspy.clients.fdsn.mass_downloader - INFO: 1 StationXML files [0.0 MB] already existed.\n",
      "[2021-11-25 00:49:14,018] - obspy.clients.fdsn.mass_downloader - INFO: Client 'GEONET' - Acquired 1 MiniSEED files [0.0 MB].\n",
      "[2021-11-25 00:49:14,020] - obspy.clients.fdsn.mass_downloader - INFO: Client 'GEONET' - Acquired 0 StationXML files [0.0 MB].\n",
      "[2021-11-25 00:49:14,022] - obspy.clients.fdsn.mass_downloader - INFO: Downloaded 0.0 MB in total.\n",
      "[2021-11-25 00:49:14,026] - obspy.clients.fdsn.mass_downloader - INFO: Initializing FDSN client(s) for GEONET.\n",
      "[2021-11-25 00:49:14,041] - obspy.clients.fdsn.mass_downloader - INFO: Successfully initialized 1 client(s): GEONET.\n",
      "[2021-11-25 00:49:14,046] - obspy.clients.fdsn.mass_downloader - INFO: Total acquired or preexisting stations: 0\n",
      "[2021-11-25 00:49:14,050] - obspy.clients.fdsn.mass_downloader - INFO: Client 'GEONET' - Requesting unreliable availability.\n"
     ]
    },
    {
     "name": "stdout",
     "output_type": "stream",
     "text": [
      "=================================================================\n",
      "Initiating mass download request.\n"
     ]
    },
    {
     "name": "stderr",
     "output_type": "stream",
     "text": [
      "[2021-11-25 00:49:14,664] - obspy.clients.fdsn.mass_downloader - INFO: Client 'GEONET' - Successfully requested availability (0.61 seconds)\n",
      "[2021-11-25 00:49:14,673] - obspy.clients.fdsn.mass_downloader - INFO: Client 'GEONET' - Found 1 stations (1 channels).\n",
      "[2021-11-25 00:49:14,678] - obspy.clients.fdsn.mass_downloader - INFO: Client 'GEONET' - Will attempt to download data from 1 stations.\n",
      "[2021-11-25 00:49:14,697] - obspy.clients.fdsn.mass_downloader - INFO: Client 'GEONET' - Status for 1 time intervals/channels before downloading: NEEDS_DOWNLOADING\n",
      "[2021-11-25 00:49:15,470] - obspy.clients.fdsn.mass_downloader - INFO: Client 'GEONET' - Successfully downloaded 1 channels (of 1)\n",
      "[2021-11-25 00:49:15,491] - obspy.clients.fdsn.mass_downloader - INFO: Client 'GEONET' - Launching basic QC checks...\n",
      "[2021-11-25 00:49:15,508] - obspy.clients.fdsn.mass_downloader - INFO: Client 'GEONET' - Downloaded 0.0 MB [4.60 KB/sec] of data, 0.0 MB of which were discarded afterwards.\n",
      "[2021-11-25 00:49:15,516] - obspy.clients.fdsn.mass_downloader - INFO: Client 'GEONET' - Status for 1 time intervals/channels after downloading: DOWNLOADED\n",
      "[2021-11-25 00:49:15,572] - obspy.clients.fdsn.mass_downloader - INFO: Client 'GEONET' - No station information to download.\n",
      "[2021-11-25 00:49:15,576] - obspy.clients.fdsn.mass_downloader - INFO: ============================== Final report\n",
      "[2021-11-25 00:49:15,579] - obspy.clients.fdsn.mass_downloader - INFO: 0 MiniSEED files [0.0 MB] already existed.\n",
      "[2021-11-25 00:49:15,580] - obspy.clients.fdsn.mass_downloader - INFO: 1 StationXML files [0.0 MB] already existed.\n",
      "[2021-11-25 00:49:15,585] - obspy.clients.fdsn.mass_downloader - INFO: Client 'GEONET' - Acquired 1 MiniSEED files [0.0 MB].\n",
      "[2021-11-25 00:49:15,587] - obspy.clients.fdsn.mass_downloader - INFO: Client 'GEONET' - Acquired 0 StationXML files [0.0 MB].\n",
      "[2021-11-25 00:49:15,587] - obspy.clients.fdsn.mass_downloader - INFO: Downloaded 0.0 MB in total.\n",
      "[2021-11-25 00:49:15,641] - obspy.clients.fdsn.mass_downloader - INFO: Initializing FDSN client(s) for GEONET.\n",
      "[2021-11-25 00:49:15,699] - obspy.clients.fdsn.mass_downloader - INFO: Successfully initialized 1 client(s): GEONET.\n",
      "[2021-11-25 00:49:15,701] - obspy.clients.fdsn.mass_downloader - INFO: Total acquired or preexisting stations: 0\n",
      "[2021-11-25 00:49:15,705] - obspy.clients.fdsn.mass_downloader - INFO: Client 'GEONET' - Requesting unreliable availability.\n"
     ]
    },
    {
     "name": "stdout",
     "output_type": "stream",
     "text": [
      "=================================================================\n",
      "Initiating mass download request.\n"
     ]
    },
    {
     "name": "stderr",
     "output_type": "stream",
     "text": [
      "[2021-11-25 00:49:16,338] - obspy.clients.fdsn.mass_downloader - INFO: Client 'GEONET' - Successfully requested availability (0.63 seconds)\n",
      "[2021-11-25 00:49:16,339] - obspy.clients.fdsn.mass_downloader - INFO: Client 'GEONET' - Found 1 stations (1 channels).\n",
      "[2021-11-25 00:49:16,340] - obspy.clients.fdsn.mass_downloader - INFO: Client 'GEONET' - Will attempt to download data from 1 stations.\n",
      "[2021-11-25 00:49:16,340] - obspy.clients.fdsn.mass_downloader - INFO: Client 'GEONET' - Status for 1 time intervals/channels before downloading: NEEDS_DOWNLOADING\n",
      "[2021-11-25 00:49:17,263] - obspy.clients.fdsn.mass_downloader - INFO: Client 'GEONET' - Successfully downloaded 1 channels (of 1)\n",
      "[2021-11-25 00:49:17,272] - obspy.clients.fdsn.mass_downloader - INFO: Client 'GEONET' - Launching basic QC checks...\n",
      "[2021-11-25 00:49:17,297] - obspy.clients.fdsn.mass_downloader - INFO: Client 'GEONET' - Downloaded 0.0 MB [4.32 KB/sec] of data, 0.0 MB of which were discarded afterwards.\n",
      "[2021-11-25 00:49:17,298] - obspy.clients.fdsn.mass_downloader - INFO: Client 'GEONET' - Status for 1 time intervals/channels after downloading: DOWNLOADED\n",
      "[2021-11-25 00:49:17,303] - obspy.clients.fdsn.mass_downloader - INFO: Client 'GEONET' - No station information to download.\n",
      "[2021-11-25 00:49:17,305] - obspy.clients.fdsn.mass_downloader - INFO: ============================== Final report\n",
      "[2021-11-25 00:49:17,305] - obspy.clients.fdsn.mass_downloader - INFO: 0 MiniSEED files [0.0 MB] already existed.\n",
      "[2021-11-25 00:49:17,306] - obspy.clients.fdsn.mass_downloader - INFO: 1 StationXML files [0.0 MB] already existed.\n",
      "[2021-11-25 00:49:17,307] - obspy.clients.fdsn.mass_downloader - INFO: Client 'GEONET' - Acquired 1 MiniSEED files [0.0 MB].\n",
      "[2021-11-25 00:49:17,307] - obspy.clients.fdsn.mass_downloader - INFO: Client 'GEONET' - Acquired 0 StationXML files [0.0 MB].\n",
      "[2021-11-25 00:49:17,308] - obspy.clients.fdsn.mass_downloader - INFO: Downloaded 0.0 MB in total.\n",
      "[2021-11-25 00:49:17,313] - obspy.clients.fdsn.mass_downloader - INFO: Initializing FDSN client(s) for GEONET.\n",
      "[2021-11-25 00:49:17,325] - obspy.clients.fdsn.mass_downloader - INFO: Successfully initialized 1 client(s): GEONET.\n",
      "[2021-11-25 00:49:17,326] - obspy.clients.fdsn.mass_downloader - INFO: Total acquired or preexisting stations: 0\n",
      "[2021-11-25 00:49:17,327] - obspy.clients.fdsn.mass_downloader - INFO: Client 'GEONET' - Requesting unreliable availability.\n"
     ]
    },
    {
     "name": "stdout",
     "output_type": "stream",
     "text": [
      "=================================================================\n",
      "Initiating mass download request.\n"
     ]
    },
    {
     "name": "stderr",
     "output_type": "stream",
     "text": [
      "[2021-11-25 00:49:17,924] - obspy.clients.fdsn.mass_downloader - INFO: Client 'GEONET' - Successfully requested availability (0.60 seconds)\n",
      "[2021-11-25 00:49:17,925] - obspy.clients.fdsn.mass_downloader - INFO: Client 'GEONET' - Found 1 stations (1 channels).\n",
      "[2021-11-25 00:49:17,926] - obspy.clients.fdsn.mass_downloader - INFO: Client 'GEONET' - Will attempt to download data from 1 stations.\n",
      "[2021-11-25 00:49:17,926] - obspy.clients.fdsn.mass_downloader - INFO: Client 'GEONET' - Status for 1 time intervals/channels before downloading: NEEDS_DOWNLOADING\n",
      "[2021-11-25 00:49:18,662] - obspy.clients.fdsn.mass_downloader - INFO: Client 'GEONET' - Successfully downloaded 1 channels (of 1)\n",
      "[2021-11-25 00:49:18,672] - obspy.clients.fdsn.mass_downloader - INFO: Client 'GEONET' - Launching basic QC checks...\n",
      "[2021-11-25 00:49:18,696] - obspy.clients.fdsn.mass_downloader - INFO: Client 'GEONET' - Downloaded 0.0 MB [5.37 KB/sec] of data, 0.0 MB of which were discarded afterwards.\n",
      "[2021-11-25 00:49:18,697] - obspy.clients.fdsn.mass_downloader - INFO: Client 'GEONET' - Status for 1 time intervals/channels after downloading: DOWNLOADED\n",
      "[2021-11-25 00:49:18,704] - obspy.clients.fdsn.mass_downloader - INFO: Client 'GEONET' - No station information to download.\n",
      "[2021-11-25 00:49:18,710] - obspy.clients.fdsn.mass_downloader - INFO: ============================== Final report\n",
      "[2021-11-25 00:49:18,711] - obspy.clients.fdsn.mass_downloader - INFO: 0 MiniSEED files [0.0 MB] already existed.\n",
      "[2021-11-25 00:49:18,713] - obspy.clients.fdsn.mass_downloader - INFO: 1 StationXML files [0.0 MB] already existed.\n",
      "[2021-11-25 00:49:18,714] - obspy.clients.fdsn.mass_downloader - INFO: Client 'GEONET' - Acquired 1 MiniSEED files [0.0 MB].\n",
      "[2021-11-25 00:49:18,716] - obspy.clients.fdsn.mass_downloader - INFO: Client 'GEONET' - Acquired 0 StationXML files [0.0 MB].\n",
      "[2021-11-25 00:49:18,717] - obspy.clients.fdsn.mass_downloader - INFO: Downloaded 0.0 MB in total.\n",
      "[2021-11-25 00:49:18,725] - obspy.clients.fdsn.mass_downloader - INFO: Initializing FDSN client(s) for GEONET.\n",
      "[2021-11-25 00:49:18,741] - obspy.clients.fdsn.mass_downloader - INFO: Successfully initialized 1 client(s): GEONET.\n",
      "[2021-11-25 00:49:18,743] - obspy.clients.fdsn.mass_downloader - INFO: Total acquired or preexisting stations: 0\n",
      "[2021-11-25 00:49:18,744] - obspy.clients.fdsn.mass_downloader - INFO: Client 'GEONET' - Requesting unreliable availability.\n"
     ]
    },
    {
     "name": "stdout",
     "output_type": "stream",
     "text": [
      "=================================================================\n",
      "Initiating mass download request.\n"
     ]
    },
    {
     "name": "stderr",
     "output_type": "stream",
     "text": [
      "[2021-11-25 00:49:19,367] - obspy.clients.fdsn.mass_downloader - INFO: Client 'GEONET' - Successfully requested availability (0.62 seconds)\n",
      "[2021-11-25 00:49:19,387] - obspy.clients.fdsn.mass_downloader - INFO: Client 'GEONET' - Found 1 stations (1 channels).\n",
      "[2021-11-25 00:49:19,390] - obspy.clients.fdsn.mass_downloader - INFO: Client 'GEONET' - Will attempt to download data from 1 stations.\n",
      "[2021-11-25 00:49:19,393] - obspy.clients.fdsn.mass_downloader - INFO: Client 'GEONET' - Status for 1 time intervals/channels before downloading: NEEDS_DOWNLOADING\n",
      "[2021-11-25 00:49:20,174] - obspy.clients.fdsn.mass_downloader - INFO: Client 'GEONET' - Successfully downloaded 1 channels (of 1)\n",
      "[2021-11-25 00:49:20,188] - obspy.clients.fdsn.mass_downloader - INFO: Client 'GEONET' - Launching basic QC checks...\n",
      "[2021-11-25 00:49:20,210] - obspy.clients.fdsn.mass_downloader - INFO: Client 'GEONET' - Downloaded 0.0 MB [4.49 KB/sec] of data, 0.0 MB of which were discarded afterwards.\n",
      "[2021-11-25 00:49:20,211] - obspy.clients.fdsn.mass_downloader - INFO: Client 'GEONET' - Status for 1 time intervals/channels after downloading: DOWNLOADED\n",
      "[2021-11-25 00:49:20,214] - obspy.clients.fdsn.mass_downloader - INFO: Client 'GEONET' - No station information to download.\n",
      "[2021-11-25 00:49:20,221] - obspy.clients.fdsn.mass_downloader - INFO: ============================== Final report\n",
      "[2021-11-25 00:49:20,222] - obspy.clients.fdsn.mass_downloader - INFO: 0 MiniSEED files [0.0 MB] already existed.\n",
      "[2021-11-25 00:49:20,223] - obspy.clients.fdsn.mass_downloader - INFO: 1 StationXML files [0.0 MB] already existed.\n",
      "[2021-11-25 00:49:20,224] - obspy.clients.fdsn.mass_downloader - INFO: Client 'GEONET' - Acquired 1 MiniSEED files [0.0 MB].\n",
      "[2021-11-25 00:49:20,227] - obspy.clients.fdsn.mass_downloader - INFO: Client 'GEONET' - Acquired 0 StationXML files [0.0 MB].\n",
      "[2021-11-25 00:49:20,233] - obspy.clients.fdsn.mass_downloader - INFO: Downloaded 0.0 MB in total.\n",
      "[2021-11-25 00:49:20,243] - obspy.clients.fdsn.mass_downloader - INFO: Initializing FDSN client(s) for GEONET.\n",
      "[2021-11-25 00:49:20,255] - obspy.clients.fdsn.mass_downloader - INFO: Successfully initialized 1 client(s): GEONET.\n",
      "[2021-11-25 00:49:20,261] - obspy.clients.fdsn.mass_downloader - INFO: Total acquired or preexisting stations: 0\n",
      "[2021-11-25 00:49:20,266] - obspy.clients.fdsn.mass_downloader - INFO: Client 'GEONET' - Requesting unreliable availability.\n"
     ]
    },
    {
     "name": "stdout",
     "output_type": "stream",
     "text": [
      "=================================================================\n",
      "Initiating mass download request.\n"
     ]
    },
    {
     "name": "stderr",
     "output_type": "stream",
     "text": [
      "[2021-11-25 00:49:20,821] - obspy.clients.fdsn.mass_downloader - INFO: Client 'GEONET' - Successfully requested availability (0.55 seconds)\n",
      "[2021-11-25 00:49:20,835] - obspy.clients.fdsn.mass_downloader - INFO: Client 'GEONET' - Found 1 stations (1 channels).\n",
      "[2021-11-25 00:49:20,837] - obspy.clients.fdsn.mass_downloader - INFO: Client 'GEONET' - Will attempt to download data from 1 stations.\n",
      "[2021-11-25 00:49:20,841] - obspy.clients.fdsn.mass_downloader - INFO: Client 'GEONET' - Status for 1 time intervals/channels before downloading: NEEDS_DOWNLOADING\n",
      "[2021-11-25 00:49:22,158] - obspy.clients.fdsn.mass_downloader - INFO: Client 'GEONET' - Successfully downloaded 1 channels (of 1)\n",
      "[2021-11-25 00:49:22,168] - obspy.clients.fdsn.mass_downloader - INFO: Client 'GEONET' - Launching basic QC checks...\n",
      "[2021-11-25 00:49:22,183] - obspy.clients.fdsn.mass_downloader - INFO: Client 'GEONET' - Downloaded 0.0 MB [3.03 KB/sec] of data, 0.0 MB of which were discarded afterwards.\n",
      "[2021-11-25 00:49:22,184] - obspy.clients.fdsn.mass_downloader - INFO: Client 'GEONET' - Status for 1 time intervals/channels after downloading: DOWNLOADED\n",
      "[2021-11-25 00:49:22,190] - obspy.clients.fdsn.mass_downloader - INFO: Client 'GEONET' - No station information to download.\n",
      "[2021-11-25 00:49:22,191] - obspy.clients.fdsn.mass_downloader - INFO: ============================== Final report\n",
      "[2021-11-25 00:49:22,192] - obspy.clients.fdsn.mass_downloader - INFO: 0 MiniSEED files [0.0 MB] already existed.\n",
      "[2021-11-25 00:49:22,193] - obspy.clients.fdsn.mass_downloader - INFO: 1 StationXML files [0.0 MB] already existed.\n",
      "[2021-11-25 00:49:22,194] - obspy.clients.fdsn.mass_downloader - INFO: Client 'GEONET' - Acquired 1 MiniSEED files [0.0 MB].\n",
      "[2021-11-25 00:49:22,195] - obspy.clients.fdsn.mass_downloader - INFO: Client 'GEONET' - Acquired 0 StationXML files [0.0 MB].\n",
      "[2021-11-25 00:49:22,195] - obspy.clients.fdsn.mass_downloader - INFO: Downloaded 0.0 MB in total.\n",
      "[2021-11-25 00:49:22,202] - obspy.clients.fdsn.mass_downloader - INFO: Initializing FDSN client(s) for GEONET.\n",
      "[2021-11-25 00:49:22,231] - obspy.clients.fdsn.mass_downloader - INFO: Successfully initialized 1 client(s): GEONET.\n",
      "[2021-11-25 00:49:22,234] - obspy.clients.fdsn.mass_downloader - INFO: Total acquired or preexisting stations: 0\n",
      "[2021-11-25 00:49:22,243] - obspy.clients.fdsn.mass_downloader - INFO: Client 'GEONET' - Requesting unreliable availability.\n"
     ]
    },
    {
     "name": "stdout",
     "output_type": "stream",
     "text": [
      "=================================================================\n",
      "Initiating mass download request.\n"
     ]
    },
    {
     "name": "stderr",
     "output_type": "stream",
     "text": [
      "[2021-11-25 00:49:22,822] - obspy.clients.fdsn.mass_downloader - INFO: Client 'GEONET' - Successfully requested availability (0.58 seconds)\n",
      "[2021-11-25 00:49:22,830] - obspy.clients.fdsn.mass_downloader - INFO: Client 'GEONET' - Found 1 stations (1 channels).\n",
      "[2021-11-25 00:49:22,832] - obspy.clients.fdsn.mass_downloader - INFO: Client 'GEONET' - Will attempt to download data from 1 stations.\n",
      "[2021-11-25 00:49:22,837] - obspy.clients.fdsn.mass_downloader - INFO: Client 'GEONET' - Status for 1 time intervals/channels before downloading: NEEDS_DOWNLOADING\n",
      "[2021-11-25 00:49:23,604] - obspy.clients.fdsn.mass_downloader - INFO: Client 'GEONET' - Successfully downloaded 1 channels (of 1)\n",
      "[2021-11-25 00:49:23,620] - obspy.clients.fdsn.mass_downloader - INFO: Client 'GEONET' - Launching basic QC checks...\n",
      "[2021-11-25 00:49:23,660] - obspy.clients.fdsn.mass_downloader - INFO: Client 'GEONET' - Downloaded 0.0 MB [4.51 KB/sec] of data, 0.0 MB of which were discarded afterwards.\n",
      "[2021-11-25 00:49:23,663] - obspy.clients.fdsn.mass_downloader - INFO: Client 'GEONET' - Status for 1 time intervals/channels after downloading: DOWNLOADED\n",
      "[2021-11-25 00:49:23,689] - obspy.clients.fdsn.mass_downloader - INFO: Client 'GEONET' - No station information to download.\n",
      "[2021-11-25 00:49:23,693] - obspy.clients.fdsn.mass_downloader - INFO: ============================== Final report\n",
      "[2021-11-25 00:49:23,695] - obspy.clients.fdsn.mass_downloader - INFO: 0 MiniSEED files [0.0 MB] already existed.\n",
      "[2021-11-25 00:49:23,696] - obspy.clients.fdsn.mass_downloader - INFO: 1 StationXML files [0.0 MB] already existed.\n",
      "[2021-11-25 00:49:23,702] - obspy.clients.fdsn.mass_downloader - INFO: Client 'GEONET' - Acquired 1 MiniSEED files [0.0 MB].\n",
      "[2021-11-25 00:49:23,702] - obspy.clients.fdsn.mass_downloader - INFO: Client 'GEONET' - Acquired 0 StationXML files [0.0 MB].\n",
      "[2021-11-25 00:49:23,706] - obspy.clients.fdsn.mass_downloader - INFO: Downloaded 0.0 MB in total.\n",
      "[2021-11-25 00:49:23,711] - obspy.clients.fdsn.mass_downloader - INFO: Initializing FDSN client(s) for GEONET.\n",
      "[2021-11-25 00:49:23,723] - obspy.clients.fdsn.mass_downloader - INFO: Successfully initialized 1 client(s): GEONET.\n",
      "[2021-11-25 00:49:23,729] - obspy.clients.fdsn.mass_downloader - INFO: Total acquired or preexisting stations: 0\n",
      "[2021-11-25 00:49:23,730] - obspy.clients.fdsn.mass_downloader - INFO: Client 'GEONET' - Requesting unreliable availability.\n"
     ]
    },
    {
     "name": "stdout",
     "output_type": "stream",
     "text": [
      "=================================================================\n",
      "Initiating mass download request.\n"
     ]
    },
    {
     "name": "stderr",
     "output_type": "stream",
     "text": [
      "[2021-11-25 00:49:24,307] - obspy.clients.fdsn.mass_downloader - INFO: Client 'GEONET' - Successfully requested availability (0.58 seconds)\n",
      "[2021-11-25 00:49:24,322] - obspy.clients.fdsn.mass_downloader - INFO: Client 'GEONET' - Found 1 stations (1 channels).\n",
      "[2021-11-25 00:49:24,325] - obspy.clients.fdsn.mass_downloader - INFO: Client 'GEONET' - Will attempt to download data from 1 stations.\n",
      "[2021-11-25 00:49:24,330] - obspy.clients.fdsn.mass_downloader - INFO: Client 'GEONET' - Status for 1 time intervals/channels before downloading: NEEDS_DOWNLOADING\n",
      "[2021-11-25 00:49:25,135] - obspy.clients.fdsn.mass_downloader - INFO: Client 'GEONET' - Successfully downloaded 1 channels (of 1)\n",
      "[2021-11-25 00:49:25,146] - obspy.clients.fdsn.mass_downloader - INFO: Client 'GEONET' - Launching basic QC checks...\n",
      "[2021-11-25 00:49:25,161] - obspy.clients.fdsn.mass_downloader - INFO: Client 'GEONET' - Downloaded 0.0 MB [5.61 KB/sec] of data, 0.0 MB of which were discarded afterwards.\n",
      "[2021-11-25 00:49:25,169] - obspy.clients.fdsn.mass_downloader - INFO: Client 'GEONET' - Status for 1 time intervals/channels after downloading: DOWNLOADED\n",
      "[2021-11-25 00:49:25,193] - obspy.clients.fdsn.mass_downloader - INFO: Client 'GEONET' - No station information to download.\n",
      "[2021-11-25 00:49:25,202] - obspy.clients.fdsn.mass_downloader - INFO: ============================== Final report\n",
      "[2021-11-25 00:49:25,209] - obspy.clients.fdsn.mass_downloader - INFO: 0 MiniSEED files [0.0 MB] already existed.\n",
      "[2021-11-25 00:49:25,216] - obspy.clients.fdsn.mass_downloader - INFO: 1 StationXML files [0.0 MB] already existed.\n",
      "[2021-11-25 00:49:25,224] - obspy.clients.fdsn.mass_downloader - INFO: Client 'GEONET' - Acquired 1 MiniSEED files [0.0 MB].\n",
      "[2021-11-25 00:49:25,225] - obspy.clients.fdsn.mass_downloader - INFO: Client 'GEONET' - Acquired 0 StationXML files [0.0 MB].\n",
      "[2021-11-25 00:49:25,225] - obspy.clients.fdsn.mass_downloader - INFO: Downloaded 0.0 MB in total.\n",
      "[2021-11-25 00:49:25,290] - obspy.clients.fdsn.mass_downloader - INFO: Initializing FDSN client(s) for GEONET.\n",
      "[2021-11-25 00:49:25,359] - obspy.clients.fdsn.mass_downloader - INFO: Successfully initialized 1 client(s): GEONET.\n",
      "[2021-11-25 00:49:25,371] - obspy.clients.fdsn.mass_downloader - INFO: Total acquired or preexisting stations: 0\n",
      "[2021-11-25 00:49:25,377] - obspy.clients.fdsn.mass_downloader - INFO: Client 'GEONET' - Requesting unreliable availability.\n"
     ]
    },
    {
     "name": "stdout",
     "output_type": "stream",
     "text": [
      "=================================================================\n",
      "Initiating mass download request.\n"
     ]
    },
    {
     "name": "stderr",
     "output_type": "stream",
     "text": [
      "[2021-11-25 00:49:25,990] - obspy.clients.fdsn.mass_downloader - INFO: Client 'GEONET' - Successfully requested availability (0.61 seconds)\n",
      "[2021-11-25 00:49:25,997] - obspy.clients.fdsn.mass_downloader - INFO: Client 'GEONET' - Found 1 stations (1 channels).\n",
      "[2021-11-25 00:49:26,002] - obspy.clients.fdsn.mass_downloader - INFO: Client 'GEONET' - Will attempt to download data from 1 stations.\n",
      "[2021-11-25 00:49:26,005] - obspy.clients.fdsn.mass_downloader - INFO: Client 'GEONET' - Status for 1 time intervals/channels before downloading: NEEDS_DOWNLOADING\n",
      "[2021-11-25 00:49:26,792] - obspy.clients.fdsn.mass_downloader - INFO: Client 'GEONET' - Successfully downloaded 1 channels (of 1)\n",
      "[2021-11-25 00:49:26,811] - obspy.clients.fdsn.mass_downloader - INFO: Client 'GEONET' - Launching basic QC checks...\n",
      "[2021-11-25 00:49:26,828] - obspy.clients.fdsn.mass_downloader - INFO: Client 'GEONET' - Downloaded 0.0 MB [4.39 KB/sec] of data, 0.0 MB of which were discarded afterwards.\n",
      "[2021-11-25 00:49:26,836] - obspy.clients.fdsn.mass_downloader - INFO: Client 'GEONET' - Status for 1 time intervals/channels after downloading: DOWNLOADED\n",
      "[2021-11-25 00:49:26,851] - obspy.clients.fdsn.mass_downloader - INFO: Client 'GEONET' - No station information to download.\n",
      "[2021-11-25 00:49:26,854] - obspy.clients.fdsn.mass_downloader - INFO: ============================== Final report\n",
      "[2021-11-25 00:49:26,855] - obspy.clients.fdsn.mass_downloader - INFO: 0 MiniSEED files [0.0 MB] already existed.\n",
      "[2021-11-25 00:49:26,856] - obspy.clients.fdsn.mass_downloader - INFO: 1 StationXML files [0.0 MB] already existed.\n",
      "[2021-11-25 00:49:26,858] - obspy.clients.fdsn.mass_downloader - INFO: Client 'GEONET' - Acquired 1 MiniSEED files [0.0 MB].\n",
      "[2021-11-25 00:49:26,858] - obspy.clients.fdsn.mass_downloader - INFO: Client 'GEONET' - Acquired 0 StationXML files [0.0 MB].\n",
      "[2021-11-25 00:49:26,866] - obspy.clients.fdsn.mass_downloader - INFO: Downloaded 0.0 MB in total.\n",
      "[2021-11-25 00:49:26,884] - obspy.clients.fdsn.mass_downloader - INFO: Initializing FDSN client(s) for GEONET.\n",
      "[2021-11-25 00:49:26,922] - obspy.clients.fdsn.mass_downloader - INFO: Successfully initialized 1 client(s): GEONET.\n",
      "[2021-11-25 00:49:26,933] - obspy.clients.fdsn.mass_downloader - INFO: Total acquired or preexisting stations: 0\n",
      "[2021-11-25 00:49:26,937] - obspy.clients.fdsn.mass_downloader - INFO: Client 'GEONET' - Requesting unreliable availability.\n"
     ]
    },
    {
     "name": "stdout",
     "output_type": "stream",
     "text": [
      "=================================================================\n",
      "Initiating mass download request.\n"
     ]
    },
    {
     "name": "stderr",
     "output_type": "stream",
     "text": [
      "[2021-11-25 00:49:27,553] - obspy.clients.fdsn.mass_downloader - INFO: Client 'GEONET' - Successfully requested availability (0.61 seconds)\n",
      "[2021-11-25 00:49:27,562] - obspy.clients.fdsn.mass_downloader - INFO: Client 'GEONET' - Found 1 stations (1 channels).\n",
      "[2021-11-25 00:49:27,584] - obspy.clients.fdsn.mass_downloader - INFO: Client 'GEONET' - Will attempt to download data from 1 stations.\n",
      "[2021-11-25 00:49:27,590] - obspy.clients.fdsn.mass_downloader - INFO: Client 'GEONET' - Status for 1 time intervals/channels before downloading: NEEDS_DOWNLOADING\n",
      "[2021-11-25 00:49:28,663] - obspy.clients.fdsn.mass_downloader - INFO: Client 'GEONET' - Successfully downloaded 1 channels (of 1)\n",
      "[2021-11-25 00:49:28,735] - obspy.clients.fdsn.mass_downloader - INFO: Client 'GEONET' - Launching basic QC checks...\n",
      "[2021-11-25 00:49:28,802] - obspy.clients.fdsn.mass_downloader - INFO: Client 'GEONET' - Downloaded 0.0 MB [2.70 KB/sec] of data, 0.0 MB of which were discarded afterwards.\n",
      "[2021-11-25 00:49:28,809] - obspy.clients.fdsn.mass_downloader - INFO: Client 'GEONET' - Status for 1 time intervals/channels after downloading: DOWNLOADED\n",
      "[2021-11-25 00:49:28,817] - obspy.clients.fdsn.mass_downloader - INFO: Client 'GEONET' - No station information to download.\n",
      "[2021-11-25 00:49:28,824] - obspy.clients.fdsn.mass_downloader - INFO: ============================== Final report\n",
      "[2021-11-25 00:49:28,828] - obspy.clients.fdsn.mass_downloader - INFO: 0 MiniSEED files [0.0 MB] already existed.\n",
      "[2021-11-25 00:49:28,830] - obspy.clients.fdsn.mass_downloader - INFO: 1 StationXML files [0.0 MB] already existed.\n",
      "[2021-11-25 00:49:28,837] - obspy.clients.fdsn.mass_downloader - INFO: Client 'GEONET' - Acquired 1 MiniSEED files [0.0 MB].\n",
      "[2021-11-25 00:49:28,844] - obspy.clients.fdsn.mass_downloader - INFO: Client 'GEONET' - Acquired 0 StationXML files [0.0 MB].\n",
      "[2021-11-25 00:49:28,847] - obspy.clients.fdsn.mass_downloader - INFO: Downloaded 0.0 MB in total.\n",
      "[2021-11-25 00:49:28,858] - obspy.clients.fdsn.mass_downloader - INFO: Initializing FDSN client(s) for GEONET.\n",
      "[2021-11-25 00:49:28,888] - obspy.clients.fdsn.mass_downloader - INFO: Successfully initialized 1 client(s): GEONET.\n",
      "[2021-11-25 00:49:28,899] - obspy.clients.fdsn.mass_downloader - INFO: Total acquired or preexisting stations: 0\n",
      "[2021-11-25 00:49:28,904] - obspy.clients.fdsn.mass_downloader - INFO: Client 'GEONET' - Requesting unreliable availability.\n"
     ]
    },
    {
     "name": "stdout",
     "output_type": "stream",
     "text": [
      "=================================================================\n",
      "Initiating mass download request.\n"
     ]
    },
    {
     "name": "stderr",
     "output_type": "stream",
     "text": [
      "[2021-11-25 00:49:29,520] - obspy.clients.fdsn.mass_downloader - INFO: Client 'GEONET' - Successfully requested availability (0.61 seconds)\n",
      "[2021-11-25 00:49:29,529] - obspy.clients.fdsn.mass_downloader - INFO: Client 'GEONET' - Found 1 stations (1 channels).\n",
      "[2021-11-25 00:49:29,533] - obspy.clients.fdsn.mass_downloader - INFO: Client 'GEONET' - Will attempt to download data from 1 stations.\n",
      "[2021-11-25 00:49:29,537] - obspy.clients.fdsn.mass_downloader - INFO: Client 'GEONET' - Status for 1 time intervals/channels before downloading: NEEDS_DOWNLOADING\n",
      "[2021-11-25 00:49:30,350] - obspy.clients.fdsn.mass_downloader - INFO: Client 'GEONET' - Successfully downloaded 1 channels (of 1)\n",
      "[2021-11-25 00:49:30,353] - obspy.clients.fdsn.mass_downloader - INFO: Client 'GEONET' - Launching basic QC checks...\n",
      "[2021-11-25 00:49:30,366] - obspy.clients.fdsn.mass_downloader - INFO: Client 'GEONET' - Downloaded 0.0 MB [4.95 KB/sec] of data, 0.0 MB of which were discarded afterwards.\n",
      "[2021-11-25 00:49:30,368] - obspy.clients.fdsn.mass_downloader - INFO: Client 'GEONET' - Status for 1 time intervals/channels after downloading: DOWNLOADED\n",
      "[2021-11-25 00:49:30,376] - obspy.clients.fdsn.mass_downloader - INFO: Client 'GEONET' - No station information to download.\n",
      "[2021-11-25 00:49:30,377] - obspy.clients.fdsn.mass_downloader - INFO: ============================== Final report\n",
      "[2021-11-25 00:49:30,377] - obspy.clients.fdsn.mass_downloader - INFO: 0 MiniSEED files [0.0 MB] already existed.\n",
      "[2021-11-25 00:49:30,378] - obspy.clients.fdsn.mass_downloader - INFO: 1 StationXML files [0.0 MB] already existed.\n",
      "[2021-11-25 00:49:30,379] - obspy.clients.fdsn.mass_downloader - INFO: Client 'GEONET' - Acquired 1 MiniSEED files [0.0 MB].\n",
      "[2021-11-25 00:49:30,380] - obspy.clients.fdsn.mass_downloader - INFO: Client 'GEONET' - Acquired 0 StationXML files [0.0 MB].\n",
      "[2021-11-25 00:49:30,381] - obspy.clients.fdsn.mass_downloader - INFO: Downloaded 0.0 MB in total.\n",
      "[2021-11-25 00:49:30,394] - obspy.clients.fdsn.mass_downloader - INFO: Initializing FDSN client(s) for GEONET.\n",
      "[2021-11-25 00:49:30,419] - obspy.clients.fdsn.mass_downloader - INFO: Successfully initialized 1 client(s): GEONET.\n",
      "[2021-11-25 00:49:30,431] - obspy.clients.fdsn.mass_downloader - INFO: Total acquired or preexisting stations: 0\n",
      "[2021-11-25 00:49:30,441] - obspy.clients.fdsn.mass_downloader - INFO: Client 'GEONET' - Requesting unreliable availability.\n"
     ]
    },
    {
     "name": "stdout",
     "output_type": "stream",
     "text": [
      "=================================================================\n",
      "Initiating mass download request.\n"
     ]
    },
    {
     "name": "stderr",
     "output_type": "stream",
     "text": [
      "[2021-11-25 00:49:31,090] - obspy.clients.fdsn.mass_downloader - INFO: Client 'GEONET' - Successfully requested availability (0.64 seconds)\n",
      "[2021-11-25 00:49:31,094] - obspy.clients.fdsn.mass_downloader - INFO: Client 'GEONET' - Found 1 stations (1 channels).\n",
      "[2021-11-25 00:49:31,097] - obspy.clients.fdsn.mass_downloader - INFO: Client 'GEONET' - Will attempt to download data from 1 stations.\n",
      "[2021-11-25 00:49:31,102] - obspy.clients.fdsn.mass_downloader - INFO: Client 'GEONET' - Status for 1 time intervals/channels before downloading: NEEDS_DOWNLOADING\n",
      "[2021-11-25 00:49:31,988] - obspy.clients.fdsn.mass_downloader - INFO: Client 'GEONET' - Successfully downloaded 1 channels (of 1)\n",
      "[2021-11-25 00:49:32,023] - obspy.clients.fdsn.mass_downloader - INFO: Client 'GEONET' - Launching basic QC checks...\n",
      "[2021-11-25 00:49:32,047] - obspy.clients.fdsn.mass_downloader - INFO: Client 'GEONET' - Downloaded 0.0 MB [4.45 KB/sec] of data, 0.0 MB of which were discarded afterwards.\n",
      "[2021-11-25 00:49:32,053] - obspy.clients.fdsn.mass_downloader - INFO: Client 'GEONET' - Status for 1 time intervals/channels after downloading: DOWNLOADED\n",
      "[2021-11-25 00:49:32,059] - obspy.clients.fdsn.mass_downloader - INFO: Client 'GEONET' - No station information to download.\n",
      "[2021-11-25 00:49:32,065] - obspy.clients.fdsn.mass_downloader - INFO: ============================== Final report\n",
      "[2021-11-25 00:49:32,067] - obspy.clients.fdsn.mass_downloader - INFO: 0 MiniSEED files [0.0 MB] already existed.\n",
      "[2021-11-25 00:49:32,068] - obspy.clients.fdsn.mass_downloader - INFO: 1 StationXML files [0.0 MB] already existed.\n",
      "[2021-11-25 00:49:32,068] - obspy.clients.fdsn.mass_downloader - INFO: Client 'GEONET' - Acquired 1 MiniSEED files [0.0 MB].\n",
      "[2021-11-25 00:49:32,068] - obspy.clients.fdsn.mass_downloader - INFO: Client 'GEONET' - Acquired 0 StationXML files [0.0 MB].\n",
      "[2021-11-25 00:49:32,069] - obspy.clients.fdsn.mass_downloader - INFO: Downloaded 0.0 MB in total.\n",
      "[2021-11-25 00:49:32,087] - obspy.clients.fdsn.mass_downloader - INFO: Initializing FDSN client(s) for GEONET.\n",
      "[2021-11-25 00:49:32,107] - obspy.clients.fdsn.mass_downloader - INFO: Successfully initialized 1 client(s): GEONET.\n",
      "[2021-11-25 00:49:32,109] - obspy.clients.fdsn.mass_downloader - INFO: Total acquired or preexisting stations: 0\n",
      "[2021-11-25 00:49:32,111] - obspy.clients.fdsn.mass_downloader - INFO: Client 'GEONET' - Requesting unreliable availability.\n"
     ]
    },
    {
     "name": "stdout",
     "output_type": "stream",
     "text": [
      "=================================================================\n",
      "Initiating mass download request.\n"
     ]
    },
    {
     "name": "stderr",
     "output_type": "stream",
     "text": [
      "[2021-11-25 00:49:32,683] - obspy.clients.fdsn.mass_downloader - INFO: Client 'GEONET' - Successfully requested availability (0.57 seconds)\n",
      "[2021-11-25 00:49:32,703] - obspy.clients.fdsn.mass_downloader - INFO: Client 'GEONET' - Found 1 stations (1 channels).\n",
      "[2021-11-25 00:49:32,705] - obspy.clients.fdsn.mass_downloader - INFO: Client 'GEONET' - Will attempt to download data from 1 stations.\n",
      "[2021-11-25 00:49:32,706] - obspy.clients.fdsn.mass_downloader - INFO: Client 'GEONET' - Status for 1 time intervals/channels before downloading: NEEDS_DOWNLOADING\n",
      "[2021-11-25 00:49:33,584] - obspy.clients.fdsn.mass_downloader - INFO: Client 'GEONET' - Successfully downloaded 1 channels (of 1)\n",
      "[2021-11-25 00:49:33,593] - obspy.clients.fdsn.mass_downloader - INFO: Client 'GEONET' - Launching basic QC checks...\n",
      "[2021-11-25 00:49:33,608] - obspy.clients.fdsn.mass_downloader - INFO: Client 'GEONET' - Downloaded 0.0 MB [5.26 KB/sec] of data, 0.0 MB of which were discarded afterwards.\n",
      "[2021-11-25 00:49:33,612] - obspy.clients.fdsn.mass_downloader - INFO: Client 'GEONET' - Status for 1 time intervals/channels after downloading: DOWNLOADED\n",
      "[2021-11-25 00:49:33,653] - obspy.clients.fdsn.mass_downloader - INFO: Client 'GEONET' - No station information to download.\n",
      "[2021-11-25 00:49:33,668] - obspy.clients.fdsn.mass_downloader - INFO: ============================== Final report\n",
      "[2021-11-25 00:49:33,669] - obspy.clients.fdsn.mass_downloader - INFO: 0 MiniSEED files [0.0 MB] already existed.\n",
      "[2021-11-25 00:49:33,675] - obspy.clients.fdsn.mass_downloader - INFO: 1 StationXML files [0.0 MB] already existed.\n",
      "[2021-11-25 00:49:33,678] - obspy.clients.fdsn.mass_downloader - INFO: Client 'GEONET' - Acquired 1 MiniSEED files [0.0 MB].\n",
      "[2021-11-25 00:49:33,678] - obspy.clients.fdsn.mass_downloader - INFO: Client 'GEONET' - Acquired 0 StationXML files [0.0 MB].\n",
      "[2021-11-25 00:49:33,680] - obspy.clients.fdsn.mass_downloader - INFO: Downloaded 0.0 MB in total.\n",
      "[2021-11-25 00:49:33,688] - obspy.clients.fdsn.mass_downloader - INFO: Initializing FDSN client(s) for GEONET.\n",
      "[2021-11-25 00:49:33,704] - obspy.clients.fdsn.mass_downloader - INFO: Successfully initialized 1 client(s): GEONET.\n",
      "[2021-11-25 00:49:33,706] - obspy.clients.fdsn.mass_downloader - INFO: Total acquired or preexisting stations: 0\n",
      "[2021-11-25 00:49:33,708] - obspy.clients.fdsn.mass_downloader - INFO: Client 'GEONET' - Requesting unreliable availability.\n"
     ]
    },
    {
     "name": "stdout",
     "output_type": "stream",
     "text": [
      "=================================================================\n",
      "Initiating mass download request.\n"
     ]
    },
    {
     "name": "stderr",
     "output_type": "stream",
     "text": [
      "[2021-11-25 00:49:34,409] - obspy.clients.fdsn.mass_downloader - INFO: Client 'GEONET' - Successfully requested availability (0.70 seconds)\n",
      "[2021-11-25 00:49:34,411] - obspy.clients.fdsn.mass_downloader - INFO: Client 'GEONET' - Found 1 stations (1 channels).\n",
      "[2021-11-25 00:49:34,412] - obspy.clients.fdsn.mass_downloader - INFO: Client 'GEONET' - Will attempt to download data from 1 stations.\n",
      "[2021-11-25 00:49:34,412] - obspy.clients.fdsn.mass_downloader - INFO: Client 'GEONET' - Status for 1 time intervals/channels before downloading: NEEDS_DOWNLOADING\n",
      "[2021-11-25 00:49:35,271] - obspy.clients.fdsn.mass_downloader - INFO: Client 'GEONET' - Successfully downloaded 1 channels (of 1)\n",
      "[2021-11-25 00:49:35,335] - obspy.clients.fdsn.mass_downloader - INFO: Client 'GEONET' - Launching basic QC checks...\n",
      "[2021-11-25 00:49:35,379] - obspy.clients.fdsn.mass_downloader - INFO: Client 'GEONET' - Downloaded 0.0 MB [4.35 KB/sec] of data, 0.0 MB of which were discarded afterwards.\n",
      "[2021-11-25 00:49:35,383] - obspy.clients.fdsn.mass_downloader - INFO: Client 'GEONET' - Status for 1 time intervals/channels after downloading: DOWNLOADED\n",
      "[2021-11-25 00:49:35,397] - obspy.clients.fdsn.mass_downloader - INFO: Client 'GEONET' - No station information to download.\n",
      "[2021-11-25 00:49:35,406] - obspy.clients.fdsn.mass_downloader - INFO: ============================== Final report\n",
      "[2021-11-25 00:49:35,408] - obspy.clients.fdsn.mass_downloader - INFO: 0 MiniSEED files [0.0 MB] already existed.\n",
      "[2021-11-25 00:49:35,409] - obspy.clients.fdsn.mass_downloader - INFO: 1 StationXML files [0.0 MB] already existed.\n",
      "[2021-11-25 00:49:35,411] - obspy.clients.fdsn.mass_downloader - INFO: Client 'GEONET' - Acquired 1 MiniSEED files [0.0 MB].\n",
      "[2021-11-25 00:49:35,419] - obspy.clients.fdsn.mass_downloader - INFO: Client 'GEONET' - Acquired 0 StationXML files [0.0 MB].\n",
      "[2021-11-25 00:49:35,420] - obspy.clients.fdsn.mass_downloader - INFO: Downloaded 0.0 MB in total.\n",
      "[2021-11-25 00:49:35,430] - obspy.clients.fdsn.mass_downloader - INFO: Initializing FDSN client(s) for GEONET.\n",
      "[2021-11-25 00:49:35,444] - obspy.clients.fdsn.mass_downloader - INFO: Successfully initialized 1 client(s): GEONET.\n",
      "[2021-11-25 00:49:35,452] - obspy.clients.fdsn.mass_downloader - INFO: Total acquired or preexisting stations: 0\n",
      "[2021-11-25 00:49:35,454] - obspy.clients.fdsn.mass_downloader - INFO: Client 'GEONET' - Requesting unreliable availability.\n"
     ]
    },
    {
     "name": "stdout",
     "output_type": "stream",
     "text": [
      "=================================================================\n",
      "Initiating mass download request.\n"
     ]
    },
    {
     "name": "stderr",
     "output_type": "stream",
     "text": [
      "[2021-11-25 00:49:36,104] - obspy.clients.fdsn.mass_downloader - INFO: Client 'GEONET' - Successfully requested availability (0.65 seconds)\n",
      "[2021-11-25 00:49:36,119] - obspy.clients.fdsn.mass_downloader - INFO: Client 'GEONET' - Found 1 stations (1 channels).\n",
      "[2021-11-25 00:49:36,125] - obspy.clients.fdsn.mass_downloader - INFO: Client 'GEONET' - Will attempt to download data from 1 stations.\n",
      "[2021-11-25 00:49:36,129] - obspy.clients.fdsn.mass_downloader - INFO: Client 'GEONET' - Status for 1 time intervals/channels before downloading: NEEDS_DOWNLOADING\n",
      "[2021-11-25 00:49:37,032] - obspy.clients.fdsn.mass_downloader - INFO: Client 'GEONET' - Successfully downloaded 1 channels (of 1)\n",
      "[2021-11-25 00:49:37,035] - obspy.clients.fdsn.mass_downloader - INFO: Client 'GEONET' - Launching basic QC checks...\n",
      "[2021-11-25 00:49:37,042] - obspy.clients.fdsn.mass_downloader - INFO: Client 'GEONET' - Downloaded 0.0 MB [7.29 KB/sec] of data, 0.0 MB of which were discarded afterwards.\n",
      "[2021-11-25 00:49:37,043] - obspy.clients.fdsn.mass_downloader - INFO: Client 'GEONET' - Status for 1 time intervals/channels after downloading: DOWNLOADED\n",
      "[2021-11-25 00:49:37,046] - obspy.clients.fdsn.mass_downloader - INFO: Client 'GEONET' - No station information to download.\n",
      "[2021-11-25 00:49:37,047] - obspy.clients.fdsn.mass_downloader - INFO: ============================== Final report\n",
      "[2021-11-25 00:49:37,048] - obspy.clients.fdsn.mass_downloader - INFO: 0 MiniSEED files [0.0 MB] already existed.\n",
      "[2021-11-25 00:49:37,048] - obspy.clients.fdsn.mass_downloader - INFO: 1 StationXML files [0.0 MB] already existed.\n",
      "[2021-11-25 00:49:37,049] - obspy.clients.fdsn.mass_downloader - INFO: Client 'GEONET' - Acquired 1 MiniSEED files [0.0 MB].\n",
      "[2021-11-25 00:49:37,049] - obspy.clients.fdsn.mass_downloader - INFO: Client 'GEONET' - Acquired 0 StationXML files [0.0 MB].\n",
      "[2021-11-25 00:49:37,049] - obspy.clients.fdsn.mass_downloader - INFO: Downloaded 0.0 MB in total.\n",
      "[2021-11-25 00:49:37,057] - obspy.clients.fdsn.mass_downloader - INFO: Initializing FDSN client(s) for GEONET.\n",
      "[2021-11-25 00:49:37,061] - obspy.clients.fdsn.mass_downloader - INFO: Successfully initialized 1 client(s): GEONET.\n",
      "[2021-11-25 00:49:37,061] - obspy.clients.fdsn.mass_downloader - INFO: Total acquired or preexisting stations: 0\n",
      "[2021-11-25 00:49:37,062] - obspy.clients.fdsn.mass_downloader - INFO: Client 'GEONET' - Requesting unreliable availability.\n"
     ]
    },
    {
     "name": "stdout",
     "output_type": "stream",
     "text": [
      "=================================================================\n",
      "Initiating mass download request.\n"
     ]
    },
    {
     "name": "stderr",
     "output_type": "stream",
     "text": [
      "[2021-11-25 00:49:38,341] - obspy.clients.fdsn.mass_downloader - INFO: Client 'GEONET' - Successfully requested availability (1.28 seconds)\n",
      "[2021-11-25 00:49:38,343] - obspy.clients.fdsn.mass_downloader - INFO: Client 'GEONET' - Found 1 stations (1 channels).\n",
      "[2021-11-25 00:49:38,344] - obspy.clients.fdsn.mass_downloader - INFO: Client 'GEONET' - Will attempt to download data from 1 stations.\n",
      "[2021-11-25 00:49:38,345] - obspy.clients.fdsn.mass_downloader - INFO: Client 'GEONET' - Status for 1 time intervals/channels before downloading: NEEDS_DOWNLOADING\n",
      "[2021-11-25 00:49:39,110] - obspy.clients.fdsn.mass_downloader - INFO: Client 'GEONET' - Successfully downloaded 1 channels (of 1)\n",
      "[2021-11-25 00:49:39,120] - obspy.clients.fdsn.mass_downloader - INFO: Client 'GEONET' - Launching basic QC checks...\n",
      "[2021-11-25 00:49:39,130] - obspy.clients.fdsn.mass_downloader - INFO: Client 'GEONET' - Downloaded 0.0 MB [5.83 KB/sec] of data, 0.0 MB of which were discarded afterwards.\n",
      "[2021-11-25 00:49:39,130] - obspy.clients.fdsn.mass_downloader - INFO: Client 'GEONET' - Status for 1 time intervals/channels after downloading: DOWNLOADED\n",
      "[2021-11-25 00:49:39,134] - obspy.clients.fdsn.mass_downloader - INFO: Client 'GEONET' - No station information to download.\n",
      "[2021-11-25 00:49:39,135] - obspy.clients.fdsn.mass_downloader - INFO: ============================== Final report\n",
      "[2021-11-25 00:49:39,136] - obspy.clients.fdsn.mass_downloader - INFO: 0 MiniSEED files [0.0 MB] already existed.\n",
      "[2021-11-25 00:49:39,137] - obspy.clients.fdsn.mass_downloader - INFO: 1 StationXML files [0.0 MB] already existed.\n",
      "[2021-11-25 00:49:39,138] - obspy.clients.fdsn.mass_downloader - INFO: Client 'GEONET' - Acquired 1 MiniSEED files [0.0 MB].\n",
      "[2021-11-25 00:49:39,139] - obspy.clients.fdsn.mass_downloader - INFO: Client 'GEONET' - Acquired 0 StationXML files [0.0 MB].\n",
      "[2021-11-25 00:49:39,139] - obspy.clients.fdsn.mass_downloader - INFO: Downloaded 0.0 MB in total.\n",
      "[2021-11-25 00:49:39,142] - obspy.clients.fdsn.mass_downloader - INFO: Initializing FDSN client(s) for GEONET.\n",
      "[2021-11-25 00:49:39,150] - obspy.clients.fdsn.mass_downloader - INFO: Successfully initialized 1 client(s): GEONET.\n",
      "[2021-11-25 00:49:39,152] - obspy.clients.fdsn.mass_downloader - INFO: Total acquired or preexisting stations: 0\n",
      "[2021-11-25 00:49:39,153] - obspy.clients.fdsn.mass_downloader - INFO: Client 'GEONET' - Requesting unreliable availability.\n"
     ]
    },
    {
     "name": "stdout",
     "output_type": "stream",
     "text": [
      "=================================================================\n",
      "Initiating mass download request.\n"
     ]
    },
    {
     "name": "stderr",
     "output_type": "stream",
     "text": [
      "[2021-11-25 00:49:39,743] - obspy.clients.fdsn.mass_downloader - INFO: Client 'GEONET' - Successfully requested availability (0.59 seconds)\n",
      "[2021-11-25 00:49:39,753] - obspy.clients.fdsn.mass_downloader - INFO: Client 'GEONET' - Found 1 stations (1 channels).\n",
      "[2021-11-25 00:49:39,754] - obspy.clients.fdsn.mass_downloader - INFO: Client 'GEONET' - Will attempt to download data from 1 stations.\n",
      "[2021-11-25 00:49:39,756] - obspy.clients.fdsn.mass_downloader - INFO: Client 'GEONET' - Status for 1 time intervals/channels before downloading: NEEDS_DOWNLOADING\n",
      "[2021-11-25 00:49:40,547] - obspy.clients.fdsn.mass_downloader - INFO: Client 'GEONET' - Successfully downloaded 1 channels (of 1)\n",
      "[2021-11-25 00:49:40,592] - obspy.clients.fdsn.mass_downloader - INFO: Client 'GEONET' - Launching basic QC checks...\n",
      "[2021-11-25 00:49:40,626] - obspy.clients.fdsn.mass_downloader - INFO: Client 'GEONET' - Downloaded 0.0 MB [5.47 KB/sec] of data, 0.0 MB of which were discarded afterwards.\n",
      "[2021-11-25 00:49:40,632] - obspy.clients.fdsn.mass_downloader - INFO: Client 'GEONET' - Status for 1 time intervals/channels after downloading: DOWNLOADED\n",
      "[2021-11-25 00:49:40,648] - obspy.clients.fdsn.mass_downloader - INFO: Client 'GEONET' - No station information to download.\n",
      "[2021-11-25 00:49:40,656] - obspy.clients.fdsn.mass_downloader - INFO: ============================== Final report\n",
      "[2021-11-25 00:49:40,658] - obspy.clients.fdsn.mass_downloader - INFO: 0 MiniSEED files [0.0 MB] already existed.\n",
      "[2021-11-25 00:49:40,663] - obspy.clients.fdsn.mass_downloader - INFO: 1 StationXML files [0.0 MB] already existed.\n",
      "[2021-11-25 00:49:40,670] - obspy.clients.fdsn.mass_downloader - INFO: Client 'GEONET' - Acquired 1 MiniSEED files [0.0 MB].\n",
      "[2021-11-25 00:49:40,672] - obspy.clients.fdsn.mass_downloader - INFO: Client 'GEONET' - Acquired 0 StationXML files [0.0 MB].\n",
      "[2021-11-25 00:49:40,673] - obspy.clients.fdsn.mass_downloader - INFO: Downloaded 0.0 MB in total.\n",
      "[2021-11-25 00:49:40,688] - obspy.clients.fdsn.mass_downloader - INFO: Initializing FDSN client(s) for GEONET.\n",
      "[2021-11-25 00:49:40,707] - obspy.clients.fdsn.mass_downloader - INFO: Successfully initialized 1 client(s): GEONET.\n",
      "[2021-11-25 00:49:40,713] - obspy.clients.fdsn.mass_downloader - INFO: Total acquired or preexisting stations: 0\n",
      "[2021-11-25 00:49:40,715] - obspy.clients.fdsn.mass_downloader - INFO: Client 'GEONET' - Requesting unreliable availability.\n"
     ]
    },
    {
     "name": "stdout",
     "output_type": "stream",
     "text": [
      "=================================================================\n",
      "Initiating mass download request.\n"
     ]
    },
    {
     "name": "stderr",
     "output_type": "stream",
     "text": [
      "[2021-11-25 00:49:41,437] - obspy.clients.fdsn.mass_downloader - INFO: Client 'GEONET' - Successfully requested availability (0.72 seconds)\n",
      "[2021-11-25 00:49:41,460] - obspy.clients.fdsn.mass_downloader - INFO: Client 'GEONET' - Found 1 stations (1 channels).\n",
      "[2021-11-25 00:49:41,466] - obspy.clients.fdsn.mass_downloader - INFO: Client 'GEONET' - Will attempt to download data from 1 stations.\n",
      "[2021-11-25 00:49:41,469] - obspy.clients.fdsn.mass_downloader - INFO: Client 'GEONET' - Status for 1 time intervals/channels before downloading: NEEDS_DOWNLOADING\n",
      "[2021-11-25 00:49:42,361] - obspy.clients.fdsn.mass_downloader - INFO: Client 'GEONET' - Successfully downloaded 1 channels (of 1)\n",
      "[2021-11-25 00:49:42,383] - obspy.clients.fdsn.mass_downloader - INFO: Client 'GEONET' - Launching basic QC checks...\n",
      "[2021-11-25 00:49:42,408] - obspy.clients.fdsn.mass_downloader - INFO: Client 'GEONET' - Downloaded 0.0 MB [3.32 KB/sec] of data, 0.0 MB of which were discarded afterwards.\n",
      "[2021-11-25 00:49:42,409] - obspy.clients.fdsn.mass_downloader - INFO: Client 'GEONET' - Status for 1 time intervals/channels after downloading: DOWNLOADED\n",
      "[2021-11-25 00:49:42,430] - obspy.clients.fdsn.mass_downloader - INFO: Client 'GEONET' - No station information to download.\n",
      "[2021-11-25 00:49:42,437] - obspy.clients.fdsn.mass_downloader - INFO: ============================== Final report\n",
      "[2021-11-25 00:49:42,449] - obspy.clients.fdsn.mass_downloader - INFO: 0 MiniSEED files [0.0 MB] already existed.\n",
      "[2021-11-25 00:49:42,452] - obspy.clients.fdsn.mass_downloader - INFO: 1 StationXML files [0.0 MB] already existed.\n",
      "[2021-11-25 00:49:42,453] - obspy.clients.fdsn.mass_downloader - INFO: Client 'GEONET' - Acquired 1 MiniSEED files [0.0 MB].\n",
      "[2021-11-25 00:49:42,454] - obspy.clients.fdsn.mass_downloader - INFO: Client 'GEONET' - Acquired 0 StationXML files [0.0 MB].\n",
      "[2021-11-25 00:49:42,455] - obspy.clients.fdsn.mass_downloader - INFO: Downloaded 0.0 MB in total.\n",
      "[2021-11-25 00:49:42,469] - obspy.clients.fdsn.mass_downloader - INFO: Initializing FDSN client(s) for GEONET.\n",
      "[2021-11-25 00:49:42,483] - obspy.clients.fdsn.mass_downloader - INFO: Successfully initialized 1 client(s): GEONET.\n",
      "[2021-11-25 00:49:42,485] - obspy.clients.fdsn.mass_downloader - INFO: Total acquired or preexisting stations: 0\n",
      "[2021-11-25 00:49:42,486] - obspy.clients.fdsn.mass_downloader - INFO: Client 'GEONET' - Requesting unreliable availability.\n"
     ]
    },
    {
     "name": "stdout",
     "output_type": "stream",
     "text": [
      "=================================================================\n",
      "Initiating mass download request.\n"
     ]
    },
    {
     "name": "stderr",
     "output_type": "stream",
     "text": [
      "[2021-11-25 00:49:43,093] - obspy.clients.fdsn.mass_downloader - INFO: Client 'GEONET' - Successfully requested availability (0.61 seconds)\n",
      "[2021-11-25 00:49:43,100] - obspy.clients.fdsn.mass_downloader - INFO: Client 'GEONET' - Found 1 stations (1 channels).\n",
      "[2021-11-25 00:49:43,107] - obspy.clients.fdsn.mass_downloader - INFO: Client 'GEONET' - Will attempt to download data from 1 stations.\n",
      "[2021-11-25 00:49:43,112] - obspy.clients.fdsn.mass_downloader - INFO: Client 'GEONET' - Status for 1 time intervals/channels before downloading: NEEDS_DOWNLOADING\n",
      "[2021-11-25 00:49:44,008] - obspy.clients.fdsn.mass_downloader - INFO: Client 'GEONET' - Successfully downloaded 1 channels (of 1)\n",
      "[2021-11-25 00:49:44,035] - obspy.clients.fdsn.mass_downloader - INFO: Client 'GEONET' - Launching basic QC checks...\n",
      "[2021-11-25 00:49:44,059] - obspy.clients.fdsn.mass_downloader - INFO: Client 'GEONET' - Downloaded 0.0 MB [4.43 KB/sec] of data, 0.0 MB of which were discarded afterwards.\n",
      "[2021-11-25 00:49:44,064] - obspy.clients.fdsn.mass_downloader - INFO: Client 'GEONET' - Status for 1 time intervals/channels after downloading: DOWNLOADED\n",
      "[2021-11-25 00:49:44,081] - obspy.clients.fdsn.mass_downloader - INFO: Client 'GEONET' - No station information to download.\n",
      "[2021-11-25 00:49:44,094] - obspy.clients.fdsn.mass_downloader - INFO: ============================== Final report\n",
      "[2021-11-25 00:49:44,099] - obspy.clients.fdsn.mass_downloader - INFO: 0 MiniSEED files [0.0 MB] already existed.\n",
      "[2021-11-25 00:49:44,103] - obspy.clients.fdsn.mass_downloader - INFO: 1 StationXML files [0.0 MB] already existed.\n",
      "[2021-11-25 00:49:44,109] - obspy.clients.fdsn.mass_downloader - INFO: Client 'GEONET' - Acquired 1 MiniSEED files [0.0 MB].\n",
      "[2021-11-25 00:49:44,109] - obspy.clients.fdsn.mass_downloader - INFO: Client 'GEONET' - Acquired 0 StationXML files [0.0 MB].\n",
      "[2021-11-25 00:49:44,114] - obspy.clients.fdsn.mass_downloader - INFO: Downloaded 0.0 MB in total.\n",
      "[2021-11-25 00:49:44,124] - obspy.clients.fdsn.mass_downloader - INFO: Initializing FDSN client(s) for GEONET.\n",
      "[2021-11-25 00:49:44,154] - obspy.clients.fdsn.mass_downloader - INFO: Successfully initialized 1 client(s): GEONET.\n",
      "[2021-11-25 00:49:44,159] - obspy.clients.fdsn.mass_downloader - INFO: Total acquired or preexisting stations: 0\n",
      "[2021-11-25 00:49:44,163] - obspy.clients.fdsn.mass_downloader - INFO: Client 'GEONET' - Requesting unreliable availability.\n"
     ]
    },
    {
     "name": "stdout",
     "output_type": "stream",
     "text": [
      "=================================================================\n",
      "Initiating mass download request.\n"
     ]
    },
    {
     "name": "stderr",
     "output_type": "stream",
     "text": [
      "[2021-11-25 00:49:44,778] - obspy.clients.fdsn.mass_downloader - INFO: Client 'GEONET' - Successfully requested availability (0.61 seconds)\n",
      "[2021-11-25 00:49:44,798] - obspy.clients.fdsn.mass_downloader - INFO: Client 'GEONET' - Found 1 stations (1 channels).\n",
      "[2021-11-25 00:49:44,809] - obspy.clients.fdsn.mass_downloader - INFO: Client 'GEONET' - Will attempt to download data from 1 stations.\n",
      "[2021-11-25 00:49:44,815] - obspy.clients.fdsn.mass_downloader - INFO: Client 'GEONET' - Status for 1 time intervals/channels before downloading: NEEDS_DOWNLOADING\n",
      "[2021-11-25 00:49:45,608] - obspy.clients.fdsn.mass_downloader - INFO: Client 'GEONET' - Successfully downloaded 1 channels (of 1)\n",
      "[2021-11-25 00:49:45,618] - obspy.clients.fdsn.mass_downloader - INFO: Client 'GEONET' - Launching basic QC checks...\n",
      "[2021-11-25 00:49:45,627] - obspy.clients.fdsn.mass_downloader - INFO: Client 'GEONET' - Downloaded 0.0 MB [5.11 KB/sec] of data, 0.0 MB of which were discarded afterwards.\n",
      "[2021-11-25 00:49:45,629] - obspy.clients.fdsn.mass_downloader - INFO: Client 'GEONET' - Status for 1 time intervals/channels after downloading: DOWNLOADED\n",
      "[2021-11-25 00:49:45,646] - obspy.clients.fdsn.mass_downloader - INFO: Client 'GEONET' - No station information to download.\n",
      "[2021-11-25 00:49:45,648] - obspy.clients.fdsn.mass_downloader - INFO: ============================== Final report\n",
      "[2021-11-25 00:49:45,650] - obspy.clients.fdsn.mass_downloader - INFO: 0 MiniSEED files [0.0 MB] already existed.\n",
      "[2021-11-25 00:49:45,651] - obspy.clients.fdsn.mass_downloader - INFO: 1 StationXML files [0.0 MB] already existed.\n",
      "[2021-11-25 00:49:45,652] - obspy.clients.fdsn.mass_downloader - INFO: Client 'GEONET' - Acquired 1 MiniSEED files [0.0 MB].\n",
      "[2021-11-25 00:49:45,652] - obspy.clients.fdsn.mass_downloader - INFO: Client 'GEONET' - Acquired 0 StationXML files [0.0 MB].\n",
      "[2021-11-25 00:49:45,655] - obspy.clients.fdsn.mass_downloader - INFO: Downloaded 0.0 MB in total.\n",
      "[2021-11-25 00:49:45,661] - obspy.clients.fdsn.mass_downloader - INFO: Initializing FDSN client(s) for GEONET.\n",
      "[2021-11-25 00:49:45,687] - obspy.clients.fdsn.mass_downloader - INFO: Successfully initialized 1 client(s): GEONET.\n",
      "[2021-11-25 00:49:45,693] - obspy.clients.fdsn.mass_downloader - INFO: Total acquired or preexisting stations: 0\n",
      "[2021-11-25 00:49:45,697] - obspy.clients.fdsn.mass_downloader - INFO: Client 'GEONET' - Requesting unreliable availability.\n"
     ]
    },
    {
     "name": "stdout",
     "output_type": "stream",
     "text": [
      "=================================================================\n",
      "Initiating mass download request.\n"
     ]
    },
    {
     "name": "stderr",
     "output_type": "stream",
     "text": [
      "[2021-11-25 00:49:46,294] - obspy.clients.fdsn.mass_downloader - INFO: Client 'GEONET' - Successfully requested availability (0.59 seconds)\n",
      "[2021-11-25 00:49:46,307] - obspy.clients.fdsn.mass_downloader - INFO: Client 'GEONET' - Found 1 stations (1 channels).\n",
      "[2021-11-25 00:49:46,312] - obspy.clients.fdsn.mass_downloader - INFO: Client 'GEONET' - Will attempt to download data from 1 stations.\n",
      "[2021-11-25 00:49:46,318] - obspy.clients.fdsn.mass_downloader - INFO: Client 'GEONET' - Status for 1 time intervals/channels before downloading: NEEDS_DOWNLOADING\n",
      "[2021-11-25 00:49:47,207] - obspy.clients.fdsn.mass_downloader - INFO: Client 'GEONET' - Successfully downloaded 1 channels (of 1)\n",
      "[2021-11-25 00:49:47,238] - obspy.clients.fdsn.mass_downloader - INFO: Client 'GEONET' - Launching basic QC checks...\n",
      "[2021-11-25 00:49:47,258] - obspy.clients.fdsn.mass_downloader - INFO: Client 'GEONET' - Downloaded 0.0 MB [3.87 KB/sec] of data, 0.0 MB of which were discarded afterwards.\n",
      "[2021-11-25 00:49:47,261] - obspy.clients.fdsn.mass_downloader - INFO: Client 'GEONET' - Status for 1 time intervals/channels after downloading: DOWNLOADED\n",
      "[2021-11-25 00:49:47,269] - obspy.clients.fdsn.mass_downloader - INFO: Client 'GEONET' - No station information to download.\n",
      "[2021-11-25 00:49:47,271] - obspy.clients.fdsn.mass_downloader - INFO: ============================== Final report\n",
      "[2021-11-25 00:49:47,272] - obspy.clients.fdsn.mass_downloader - INFO: 0 MiniSEED files [0.0 MB] already existed.\n",
      "[2021-11-25 00:49:47,272] - obspy.clients.fdsn.mass_downloader - INFO: 1 StationXML files [0.0 MB] already existed.\n",
      "[2021-11-25 00:49:47,273] - obspy.clients.fdsn.mass_downloader - INFO: Client 'GEONET' - Acquired 1 MiniSEED files [0.0 MB].\n",
      "[2021-11-25 00:49:47,273] - obspy.clients.fdsn.mass_downloader - INFO: Client 'GEONET' - Acquired 0 StationXML files [0.0 MB].\n",
      "[2021-11-25 00:49:47,274] - obspy.clients.fdsn.mass_downloader - INFO: Downloaded 0.0 MB in total.\n",
      "[2021-11-25 00:49:47,280] - obspy.clients.fdsn.mass_downloader - INFO: Initializing FDSN client(s) for GEONET.\n",
      "[2021-11-25 00:49:47,289] - obspy.clients.fdsn.mass_downloader - INFO: Successfully initialized 1 client(s): GEONET.\n",
      "[2021-11-25 00:49:47,290] - obspy.clients.fdsn.mass_downloader - INFO: Total acquired or preexisting stations: 0\n",
      "[2021-11-25 00:49:47,290] - obspy.clients.fdsn.mass_downloader - INFO: Client 'GEONET' - Requesting unreliable availability.\n"
     ]
    },
    {
     "name": "stdout",
     "output_type": "stream",
     "text": [
      "=================================================================\n",
      "Initiating mass download request.\n"
     ]
    },
    {
     "name": "stderr",
     "output_type": "stream",
     "text": [
      "[2021-11-25 00:49:47,943] - obspy.clients.fdsn.mass_downloader - INFO: Client 'GEONET' - Successfully requested availability (0.65 seconds)\n",
      "[2021-11-25 00:49:47,964] - obspy.clients.fdsn.mass_downloader - INFO: Client 'GEONET' - Found 1 stations (1 channels).\n",
      "[2021-11-25 00:49:47,969] - obspy.clients.fdsn.mass_downloader - INFO: Client 'GEONET' - Will attempt to download data from 1 stations.\n",
      "[2021-11-25 00:49:47,972] - obspy.clients.fdsn.mass_downloader - INFO: Client 'GEONET' - Status for 1 time intervals/channels before downloading: NEEDS_DOWNLOADING\n",
      "[2021-11-25 00:49:48,809] - obspy.clients.fdsn.mass_downloader - INFO: Client 'GEONET' - Successfully downloaded 1 channels (of 1)\n",
      "[2021-11-25 00:49:48,819] - obspy.clients.fdsn.mass_downloader - INFO: Client 'GEONET' - Launching basic QC checks...\n",
      "[2021-11-25 00:49:48,827] - obspy.clients.fdsn.mass_downloader - INFO: Client 'GEONET' - Downloaded 0.0 MB [5.39 KB/sec] of data, 0.0 MB of which were discarded afterwards.\n",
      "[2021-11-25 00:49:48,831] - obspy.clients.fdsn.mass_downloader - INFO: Client 'GEONET' - Status for 1 time intervals/channels after downloading: DOWNLOADED\n",
      "[2021-11-25 00:49:48,837] - obspy.clients.fdsn.mass_downloader - INFO: Client 'GEONET' - No station information to download.\n",
      "[2021-11-25 00:49:48,838] - obspy.clients.fdsn.mass_downloader - INFO: ============================== Final report\n",
      "[2021-11-25 00:49:48,839] - obspy.clients.fdsn.mass_downloader - INFO: 0 MiniSEED files [0.0 MB] already existed.\n",
      "[2021-11-25 00:49:48,842] - obspy.clients.fdsn.mass_downloader - INFO: 1 StationXML files [0.0 MB] already existed.\n",
      "[2021-11-25 00:49:48,843] - obspy.clients.fdsn.mass_downloader - INFO: Client 'GEONET' - Acquired 1 MiniSEED files [0.0 MB].\n",
      "[2021-11-25 00:49:48,844] - obspy.clients.fdsn.mass_downloader - INFO: Client 'GEONET' - Acquired 0 StationXML files [0.0 MB].\n",
      "[2021-11-25 00:49:48,845] - obspy.clients.fdsn.mass_downloader - INFO: Downloaded 0.0 MB in total.\n",
      "[2021-11-25 00:49:48,853] - obspy.clients.fdsn.mass_downloader - INFO: Initializing FDSN client(s) for GEONET.\n",
      "[2021-11-25 00:49:48,865] - obspy.clients.fdsn.mass_downloader - INFO: Successfully initialized 1 client(s): GEONET.\n",
      "[2021-11-25 00:49:48,870] - obspy.clients.fdsn.mass_downloader - INFO: Total acquired or preexisting stations: 0\n",
      "[2021-11-25 00:49:48,872] - obspy.clients.fdsn.mass_downloader - INFO: Client 'GEONET' - Requesting unreliable availability.\n"
     ]
    },
    {
     "name": "stdout",
     "output_type": "stream",
     "text": [
      "=================================================================\n",
      "Initiating mass download request.\n"
     ]
    },
    {
     "name": "stderr",
     "output_type": "stream",
     "text": [
      "[2021-11-25 00:49:49,614] - obspy.clients.fdsn.mass_downloader - INFO: Client 'GEONET' - Successfully requested availability (0.74 seconds)\n",
      "[2021-11-25 00:49:49,642] - obspy.clients.fdsn.mass_downloader - INFO: Client 'GEONET' - Found 1 stations (1 channels).\n",
      "[2021-11-25 00:49:49,654] - obspy.clients.fdsn.mass_downloader - INFO: Client 'GEONET' - Will attempt to download data from 1 stations.\n",
      "[2021-11-25 00:49:49,658] - obspy.clients.fdsn.mass_downloader - INFO: Client 'GEONET' - Status for 1 time intervals/channels before downloading: NEEDS_DOWNLOADING\n",
      "[2021-11-25 00:49:50,446] - obspy.clients.fdsn.mass_downloader - INFO: Client 'GEONET' - Successfully downloaded 1 channels (of 1)\n",
      "[2021-11-25 00:49:50,460] - obspy.clients.fdsn.mass_downloader - INFO: Client 'GEONET' - Launching basic QC checks...\n",
      "[2021-11-25 00:49:50,472] - obspy.clients.fdsn.mass_downloader - INFO: Client 'GEONET' - Downloaded 0.0 MB [6.15 KB/sec] of data, 0.0 MB of which were discarded afterwards.\n",
      "[2021-11-25 00:49:50,474] - obspy.clients.fdsn.mass_downloader - INFO: Client 'GEONET' - Status for 1 time intervals/channels after downloading: DOWNLOADED\n",
      "[2021-11-25 00:49:50,490] - obspy.clients.fdsn.mass_downloader - INFO: Client 'GEONET' - No station information to download.\n",
      "[2021-11-25 00:49:50,497] - obspy.clients.fdsn.mass_downloader - INFO: ============================== Final report\n",
      "[2021-11-25 00:49:50,498] - obspy.clients.fdsn.mass_downloader - INFO: 0 MiniSEED files [0.0 MB] already existed.\n",
      "[2021-11-25 00:49:50,499] - obspy.clients.fdsn.mass_downloader - INFO: 1 StationXML files [0.0 MB] already existed.\n",
      "[2021-11-25 00:49:50,502] - obspy.clients.fdsn.mass_downloader - INFO: Client 'GEONET' - Acquired 1 MiniSEED files [0.0 MB].\n",
      "[2021-11-25 00:49:50,505] - obspy.clients.fdsn.mass_downloader - INFO: Client 'GEONET' - Acquired 0 StationXML files [0.0 MB].\n",
      "[2021-11-25 00:49:50,505] - obspy.clients.fdsn.mass_downloader - INFO: Downloaded 0.0 MB in total.\n",
      "[2021-11-25 00:49:50,512] - obspy.clients.fdsn.mass_downloader - INFO: Initializing FDSN client(s) for GEONET.\n",
      "[2021-11-25 00:49:50,536] - obspy.clients.fdsn.mass_downloader - INFO: Successfully initialized 1 client(s): GEONET.\n",
      "[2021-11-25 00:49:50,540] - obspy.clients.fdsn.mass_downloader - INFO: Total acquired or preexisting stations: 0\n",
      "[2021-11-25 00:49:50,544] - obspy.clients.fdsn.mass_downloader - INFO: Client 'GEONET' - Requesting unreliable availability.\n"
     ]
    },
    {
     "name": "stdout",
     "output_type": "stream",
     "text": [
      "=================================================================\n",
      "Initiating mass download request.\n"
     ]
    },
    {
     "name": "stderr",
     "output_type": "stream",
     "text": [
      "[2021-11-25 00:49:51,124] - obspy.clients.fdsn.mass_downloader - INFO: Client 'GEONET' - Successfully requested availability (0.58 seconds)\n",
      "[2021-11-25 00:49:51,132] - obspy.clients.fdsn.mass_downloader - INFO: Client 'GEONET' - Found 1 stations (1 channels).\n",
      "[2021-11-25 00:49:51,144] - obspy.clients.fdsn.mass_downloader - INFO: Client 'GEONET' - Will attempt to download data from 1 stations.\n",
      "[2021-11-25 00:49:51,147] - obspy.clients.fdsn.mass_downloader - INFO: Client 'GEONET' - Status for 1 time intervals/channels before downloading: NEEDS_DOWNLOADING\n",
      "[2021-11-25 00:49:51,910] - obspy.clients.fdsn.mass_downloader - INFO: Client 'GEONET' - Successfully downloaded 1 channels (of 1)\n",
      "[2021-11-25 00:49:51,955] - obspy.clients.fdsn.mass_downloader - INFO: Client 'GEONET' - Launching basic QC checks...\n",
      "[2021-11-25 00:49:51,965] - obspy.clients.fdsn.mass_downloader - INFO: Client 'GEONET' - Downloaded 0.0 MB [4.99 KB/sec] of data, 0.0 MB of which were discarded afterwards.\n",
      "[2021-11-25 00:49:51,970] - obspy.clients.fdsn.mass_downloader - INFO: Client 'GEONET' - Status for 1 time intervals/channels after downloading: DOWNLOADED\n",
      "[2021-11-25 00:49:51,974] - obspy.clients.fdsn.mass_downloader - INFO: Client 'GEONET' - No station information to download.\n",
      "[2021-11-25 00:49:51,975] - obspy.clients.fdsn.mass_downloader - INFO: ============================== Final report\n",
      "[2021-11-25 00:49:51,976] - obspy.clients.fdsn.mass_downloader - INFO: 0 MiniSEED files [0.0 MB] already existed.\n",
      "[2021-11-25 00:49:51,977] - obspy.clients.fdsn.mass_downloader - INFO: 1 StationXML files [0.0 MB] already existed.\n",
      "[2021-11-25 00:49:51,978] - obspy.clients.fdsn.mass_downloader - INFO: Client 'GEONET' - Acquired 1 MiniSEED files [0.0 MB].\n",
      "[2021-11-25 00:49:51,979] - obspy.clients.fdsn.mass_downloader - INFO: Client 'GEONET' - Acquired 0 StationXML files [0.0 MB].\n",
      "[2021-11-25 00:49:51,979] - obspy.clients.fdsn.mass_downloader - INFO: Downloaded 0.0 MB in total.\n",
      "[2021-11-25 00:49:52,003] - obspy.clients.fdsn.mass_downloader - INFO: Initializing FDSN client(s) for GEONET.\n",
      "[2021-11-25 00:49:52,035] - obspy.clients.fdsn.mass_downloader - INFO: Successfully initialized 1 client(s): GEONET.\n",
      "[2021-11-25 00:49:52,038] - obspy.clients.fdsn.mass_downloader - INFO: Total acquired or preexisting stations: 0\n",
      "[2021-11-25 00:49:52,039] - obspy.clients.fdsn.mass_downloader - INFO: Client 'GEONET' - Requesting unreliable availability.\n"
     ]
    },
    {
     "name": "stdout",
     "output_type": "stream",
     "text": [
      "=================================================================\n",
      "Initiating mass download request.\n"
     ]
    },
    {
     "name": "stderr",
     "output_type": "stream",
     "text": [
      "[2021-11-25 00:49:52,653] - obspy.clients.fdsn.mass_downloader - INFO: Client 'GEONET' - Successfully requested availability (0.61 seconds)\n",
      "[2021-11-25 00:49:52,666] - obspy.clients.fdsn.mass_downloader - INFO: Client 'GEONET' - Found 1 stations (1 channels).\n",
      "[2021-11-25 00:49:52,670] - obspy.clients.fdsn.mass_downloader - INFO: Client 'GEONET' - Will attempt to download data from 1 stations.\n",
      "[2021-11-25 00:49:52,675] - obspy.clients.fdsn.mass_downloader - INFO: Client 'GEONET' - Status for 1 time intervals/channels before downloading: NEEDS_DOWNLOADING\n",
      "[2021-11-25 00:49:53,775] - obspy.clients.fdsn.mass_downloader - INFO: Client 'GEONET' - Successfully downloaded 1 channels (of 1)\n",
      "[2021-11-25 00:49:53,783] - obspy.clients.fdsn.mass_downloader - INFO: Client 'GEONET' - Launching basic QC checks...\n",
      "[2021-11-25 00:49:53,805] - obspy.clients.fdsn.mass_downloader - INFO: Client 'GEONET' - Downloaded 0.0 MB [4.53 KB/sec] of data, 0.0 MB of which were discarded afterwards.\n",
      "[2021-11-25 00:49:53,806] - obspy.clients.fdsn.mass_downloader - INFO: Client 'GEONET' - Status for 1 time intervals/channels after downloading: DOWNLOADED\n",
      "[2021-11-25 00:49:53,814] - obspy.clients.fdsn.mass_downloader - INFO: Client 'GEONET' - No station information to download.\n",
      "[2021-11-25 00:49:53,815] - obspy.clients.fdsn.mass_downloader - INFO: ============================== Final report\n",
      "[2021-11-25 00:49:53,816] - obspy.clients.fdsn.mass_downloader - INFO: 0 MiniSEED files [0.0 MB] already existed.\n",
      "[2021-11-25 00:49:53,817] - obspy.clients.fdsn.mass_downloader - INFO: 1 StationXML files [0.0 MB] already existed.\n",
      "[2021-11-25 00:49:53,818] - obspy.clients.fdsn.mass_downloader - INFO: Client 'GEONET' - Acquired 1 MiniSEED files [0.0 MB].\n",
      "[2021-11-25 00:49:53,819] - obspy.clients.fdsn.mass_downloader - INFO: Client 'GEONET' - Acquired 0 StationXML files [0.0 MB].\n",
      "[2021-11-25 00:49:53,819] - obspy.clients.fdsn.mass_downloader - INFO: Downloaded 0.0 MB in total.\n",
      "[2021-11-25 00:49:53,832] - obspy.clients.fdsn.mass_downloader - INFO: Initializing FDSN client(s) for GEONET.\n",
      "[2021-11-25 00:49:53,841] - obspy.clients.fdsn.mass_downloader - INFO: Successfully initialized 1 client(s): GEONET.\n",
      "[2021-11-25 00:49:53,842] - obspy.clients.fdsn.mass_downloader - INFO: Total acquired or preexisting stations: 0\n",
      "[2021-11-25 00:49:53,842] - obspy.clients.fdsn.mass_downloader - INFO: Client 'GEONET' - Requesting unreliable availability.\n"
     ]
    },
    {
     "name": "stdout",
     "output_type": "stream",
     "text": [
      "=================================================================\n",
      "Initiating mass download request.\n"
     ]
    },
    {
     "name": "stderr",
     "output_type": "stream",
     "text": [
      "[2021-11-25 00:49:54,433] - obspy.clients.fdsn.mass_downloader - INFO: Client 'GEONET' - Successfully requested availability (0.59 seconds)\n",
      "[2021-11-25 00:49:54,435] - obspy.clients.fdsn.mass_downloader - INFO: Client 'GEONET' - Found 1 stations (1 channels).\n",
      "[2021-11-25 00:49:54,436] - obspy.clients.fdsn.mass_downloader - INFO: Client 'GEONET' - Will attempt to download data from 1 stations.\n",
      "[2021-11-25 00:49:54,438] - obspy.clients.fdsn.mass_downloader - INFO: Client 'GEONET' - Status for 1 time intervals/channels before downloading: NEEDS_DOWNLOADING\n",
      "[2021-11-25 00:49:55,323] - obspy.clients.fdsn.mass_downloader - INFO: Client 'GEONET' - Successfully downloaded 1 channels (of 1)\n",
      "[2021-11-25 00:49:55,359] - obspy.clients.fdsn.mass_downloader - INFO: Client 'GEONET' - Launching basic QC checks...\n",
      "[2021-11-25 00:49:55,388] - obspy.clients.fdsn.mass_downloader - INFO: Client 'GEONET' - Downloaded 0.0 MB [4.39 KB/sec] of data, 0.0 MB of which were discarded afterwards.\n",
      "[2021-11-25 00:49:55,393] - obspy.clients.fdsn.mass_downloader - INFO: Client 'GEONET' - Status for 1 time intervals/channels after downloading: DOWNLOADED\n",
      "[2021-11-25 00:49:55,415] - obspy.clients.fdsn.mass_downloader - INFO: Client 'GEONET' - No station information to download.\n",
      "[2021-11-25 00:49:55,419] - obspy.clients.fdsn.mass_downloader - INFO: ============================== Final report\n",
      "[2021-11-25 00:49:55,421] - obspy.clients.fdsn.mass_downloader - INFO: 0 MiniSEED files [0.0 MB] already existed.\n",
      "[2021-11-25 00:49:55,422] - obspy.clients.fdsn.mass_downloader - INFO: 1 StationXML files [0.0 MB] already existed.\n",
      "[2021-11-25 00:49:55,425] - obspy.clients.fdsn.mass_downloader - INFO: Client 'GEONET' - Acquired 1 MiniSEED files [0.0 MB].\n",
      "[2021-11-25 00:49:55,428] - obspy.clients.fdsn.mass_downloader - INFO: Client 'GEONET' - Acquired 0 StationXML files [0.0 MB].\n",
      "[2021-11-25 00:49:55,429] - obspy.clients.fdsn.mass_downloader - INFO: Downloaded 0.0 MB in total.\n",
      "[2021-11-25 00:49:55,442] - obspy.clients.fdsn.mass_downloader - INFO: Initializing FDSN client(s) for GEONET.\n",
      "[2021-11-25 00:49:55,476] - obspy.clients.fdsn.mass_downloader - INFO: Successfully initialized 1 client(s): GEONET.\n",
      "[2021-11-25 00:49:55,482] - obspy.clients.fdsn.mass_downloader - INFO: Total acquired or preexisting stations: 0\n",
      "[2021-11-25 00:49:55,487] - obspy.clients.fdsn.mass_downloader - INFO: Client 'GEONET' - Requesting unreliable availability.\n"
     ]
    },
    {
     "name": "stdout",
     "output_type": "stream",
     "text": [
      "=================================================================\n",
      "Initiating mass download request.\n"
     ]
    },
    {
     "name": "stderr",
     "output_type": "stream",
     "text": [
      "[2021-11-25 00:49:56,052] - obspy.clients.fdsn.mass_downloader - INFO: Client 'GEONET' - Successfully requested availability (0.56 seconds)\n",
      "[2021-11-25 00:49:56,053] - obspy.clients.fdsn.mass_downloader - INFO: Client 'GEONET' - Found 1 stations (1 channels).\n",
      "[2021-11-25 00:49:56,053] - obspy.clients.fdsn.mass_downloader - INFO: Client 'GEONET' - Will attempt to download data from 1 stations.\n",
      "[2021-11-25 00:49:56,054] - obspy.clients.fdsn.mass_downloader - INFO: Client 'GEONET' - Status for 1 time intervals/channels before downloading: NEEDS_DOWNLOADING\n",
      "[2021-11-25 00:49:56,884] - obspy.clients.fdsn.mass_downloader - INFO: Client 'GEONET' - Successfully downloaded 1 channels (of 1)\n",
      "[2021-11-25 00:49:56,900] - obspy.clients.fdsn.mass_downloader - INFO: Client 'GEONET' - Launching basic QC checks...\n",
      "[2021-11-25 00:49:56,940] - obspy.clients.fdsn.mass_downloader - INFO: Client 'GEONET' - Downloaded 0.0 MB [5.33 KB/sec] of data, 0.0 MB of which were discarded afterwards.\n",
      "[2021-11-25 00:49:56,943] - obspy.clients.fdsn.mass_downloader - INFO: Client 'GEONET' - Status for 1 time intervals/channels after downloading: DOWNLOADED\n",
      "[2021-11-25 00:49:56,955] - obspy.clients.fdsn.mass_downloader - INFO: Client 'GEONET' - No station information to download.\n",
      "[2021-11-25 00:49:56,960] - obspy.clients.fdsn.mass_downloader - INFO: ============================== Final report\n",
      "[2021-11-25 00:49:56,964] - obspy.clients.fdsn.mass_downloader - INFO: 0 MiniSEED files [0.0 MB] already existed.\n",
      "[2021-11-25 00:49:56,965] - obspy.clients.fdsn.mass_downloader - INFO: 1 StationXML files [0.0 MB] already existed.\n",
      "[2021-11-25 00:49:56,966] - obspy.clients.fdsn.mass_downloader - INFO: Client 'GEONET' - Acquired 1 MiniSEED files [0.0 MB].\n",
      "[2021-11-25 00:49:56,967] - obspy.clients.fdsn.mass_downloader - INFO: Client 'GEONET' - Acquired 0 StationXML files [0.0 MB].\n",
      "[2021-11-25 00:49:56,969] - obspy.clients.fdsn.mass_downloader - INFO: Downloaded 0.0 MB in total.\n",
      "[2021-11-25 00:49:56,998] - obspy.clients.fdsn.mass_downloader - INFO: Initializing FDSN client(s) for GEONET.\n",
      "[2021-11-25 00:49:57,016] - obspy.clients.fdsn.mass_downloader - INFO: Successfully initialized 1 client(s): GEONET.\n",
      "[2021-11-25 00:49:57,023] - obspy.clients.fdsn.mass_downloader - INFO: Total acquired or preexisting stations: 0\n",
      "[2021-11-25 00:49:57,027] - obspy.clients.fdsn.mass_downloader - INFO: Client 'GEONET' - Requesting unreliable availability.\n"
     ]
    },
    {
     "name": "stdout",
     "output_type": "stream",
     "text": [
      "=================================================================\n",
      "Initiating mass download request.\n"
     ]
    },
    {
     "name": "stderr",
     "output_type": "stream",
     "text": [
      "[2021-11-25 00:49:57,560] - obspy.clients.fdsn.mass_downloader - INFO: Client 'GEONET' - Successfully requested availability (0.53 seconds)\n",
      "[2021-11-25 00:49:57,562] - obspy.clients.fdsn.mass_downloader - INFO: Client 'GEONET' - Found 1 stations (1 channels).\n",
      "[2021-11-25 00:49:57,562] - obspy.clients.fdsn.mass_downloader - INFO: Client 'GEONET' - Will attempt to download data from 1 stations.\n",
      "[2021-11-25 00:49:57,563] - obspy.clients.fdsn.mass_downloader - INFO: Client 'GEONET' - Status for 1 time intervals/channels before downloading: NEEDS_DOWNLOADING\n",
      "[2021-11-25 00:49:58,330] - obspy.clients.fdsn.mass_downloader - INFO: Client 'GEONET' - Successfully downloaded 1 channels (of 1)\n",
      "[2021-11-25 00:49:58,334] - obspy.clients.fdsn.mass_downloader - INFO: Client 'GEONET' - Launching basic QC checks...\n",
      "[2021-11-25 00:49:58,342] - obspy.clients.fdsn.mass_downloader - INFO: Client 'GEONET' - Downloaded 0.0 MB [3.90 KB/sec] of data, 0.0 MB of which were discarded afterwards.\n",
      "[2021-11-25 00:49:58,343] - obspy.clients.fdsn.mass_downloader - INFO: Client 'GEONET' - Status for 1 time intervals/channels after downloading: DOWNLOADED\n",
      "[2021-11-25 00:49:58,346] - obspy.clients.fdsn.mass_downloader - INFO: Client 'GEONET' - No station information to download.\n",
      "[2021-11-25 00:49:58,350] - obspy.clients.fdsn.mass_downloader - INFO: ============================== Final report\n",
      "[2021-11-25 00:49:58,351] - obspy.clients.fdsn.mass_downloader - INFO: 0 MiniSEED files [0.0 MB] already existed.\n",
      "[2021-11-25 00:49:58,352] - obspy.clients.fdsn.mass_downloader - INFO: 1 StationXML files [0.0 MB] already existed.\n",
      "[2021-11-25 00:49:58,352] - obspy.clients.fdsn.mass_downloader - INFO: Client 'GEONET' - Acquired 1 MiniSEED files [0.0 MB].\n",
      "[2021-11-25 00:49:58,353] - obspy.clients.fdsn.mass_downloader - INFO: Client 'GEONET' - Acquired 0 StationXML files [0.0 MB].\n",
      "[2021-11-25 00:49:58,353] - obspy.clients.fdsn.mass_downloader - INFO: Downloaded 0.0 MB in total.\n",
      "[2021-11-25 00:49:58,362] - obspy.clients.fdsn.mass_downloader - INFO: Initializing FDSN client(s) for GEONET.\n",
      "[2021-11-25 00:49:58,366] - obspy.clients.fdsn.mass_downloader - INFO: Successfully initialized 1 client(s): GEONET.\n",
      "[2021-11-25 00:49:58,367] - obspy.clients.fdsn.mass_downloader - INFO: Total acquired or preexisting stations: 0\n",
      "[2021-11-25 00:49:58,367] - obspy.clients.fdsn.mass_downloader - INFO: Client 'GEONET' - Requesting unreliable availability.\n"
     ]
    },
    {
     "name": "stdout",
     "output_type": "stream",
     "text": [
      "=================================================================\n",
      "Initiating mass download request.\n"
     ]
    },
    {
     "name": "stderr",
     "output_type": "stream",
     "text": [
      "[2021-11-25 00:49:58,964] - obspy.clients.fdsn.mass_downloader - INFO: Client 'GEONET' - Successfully requested availability (0.60 seconds)\n",
      "[2021-11-25 00:49:58,970] - obspy.clients.fdsn.mass_downloader - INFO: Client 'GEONET' - Found 1 stations (1 channels).\n",
      "[2021-11-25 00:49:58,971] - obspy.clients.fdsn.mass_downloader - INFO: Client 'GEONET' - Will attempt to download data from 1 stations.\n",
      "[2021-11-25 00:49:58,971] - obspy.clients.fdsn.mass_downloader - INFO: Client 'GEONET' - Status for 1 time intervals/channels before downloading: NEEDS_DOWNLOADING\n",
      "[2021-11-25 00:49:59,819] - obspy.clients.fdsn.mass_downloader - INFO: Client 'GEONET' - Successfully downloaded 1 channels (of 1)\n",
      "[2021-11-25 00:49:59,834] - obspy.clients.fdsn.mass_downloader - INFO: Client 'GEONET' - Launching basic QC checks...\n",
      "[2021-11-25 00:49:59,855] - obspy.clients.fdsn.mass_downloader - INFO: Client 'GEONET' - Downloaded 0.0 MB [5.82 KB/sec] of data, 0.0 MB of which were discarded afterwards.\n",
      "[2021-11-25 00:49:59,862] - obspy.clients.fdsn.mass_downloader - INFO: Client 'GEONET' - Status for 1 time intervals/channels after downloading: DOWNLOADED\n",
      "[2021-11-25 00:49:59,872] - obspy.clients.fdsn.mass_downloader - INFO: Client 'GEONET' - No station information to download.\n",
      "[2021-11-25 00:49:59,878] - obspy.clients.fdsn.mass_downloader - INFO: ============================== Final report\n",
      "[2021-11-25 00:49:59,880] - obspy.clients.fdsn.mass_downloader - INFO: 0 MiniSEED files [0.0 MB] already existed.\n",
      "[2021-11-25 00:49:59,882] - obspy.clients.fdsn.mass_downloader - INFO: 1 StationXML files [0.0 MB] already existed.\n",
      "[2021-11-25 00:49:59,884] - obspy.clients.fdsn.mass_downloader - INFO: Client 'GEONET' - Acquired 1 MiniSEED files [0.0 MB].\n",
      "[2021-11-25 00:49:59,885] - obspy.clients.fdsn.mass_downloader - INFO: Client 'GEONET' - Acquired 0 StationXML files [0.0 MB].\n",
      "[2021-11-25 00:49:59,886] - obspy.clients.fdsn.mass_downloader - INFO: Downloaded 0.0 MB in total.\n",
      "[2021-11-25 00:49:59,891] - obspy.clients.fdsn.mass_downloader - INFO: Initializing FDSN client(s) for GEONET.\n",
      "[2021-11-25 00:49:59,914] - obspy.clients.fdsn.mass_downloader - INFO: Successfully initialized 1 client(s): GEONET.\n",
      "[2021-11-25 00:49:59,917] - obspy.clients.fdsn.mass_downloader - INFO: Total acquired or preexisting stations: 0\n",
      "[2021-11-25 00:49:59,920] - obspy.clients.fdsn.mass_downloader - INFO: Client 'GEONET' - Requesting unreliable availability.\n"
     ]
    },
    {
     "name": "stdout",
     "output_type": "stream",
     "text": [
      "=================================================================\n",
      "Initiating mass download request.\n"
     ]
    },
    {
     "name": "stderr",
     "output_type": "stream",
     "text": [
      "[2021-11-25 00:50:00,622] - obspy.clients.fdsn.mass_downloader - INFO: Client 'GEONET' - Successfully requested availability (0.70 seconds)\n",
      "[2021-11-25 00:50:00,644] - obspy.clients.fdsn.mass_downloader - INFO: Client 'GEONET' - Found 1 stations (1 channels).\n",
      "[2021-11-25 00:50:00,648] - obspy.clients.fdsn.mass_downloader - INFO: Client 'GEONET' - Will attempt to download data from 1 stations.\n",
      "[2021-11-25 00:50:00,663] - obspy.clients.fdsn.mass_downloader - INFO: Client 'GEONET' - Status for 1 time intervals/channels before downloading: NEEDS_DOWNLOADING\n",
      "[2021-11-25 00:50:01,659] - obspy.clients.fdsn.mass_downloader - INFO: Client 'GEONET' - Successfully downloaded 1 channels (of 1)\n",
      "[2021-11-25 00:50:01,749] - obspy.clients.fdsn.mass_downloader - INFO: Client 'GEONET' - Launching basic QC checks...\n",
      "[2021-11-25 00:50:01,795] - obspy.clients.fdsn.mass_downloader - INFO: Client 'GEONET' - Downloaded 0.0 MB [4.23 KB/sec] of data, 0.0 MB of which were discarded afterwards.\n",
      "[2021-11-25 00:50:01,802] - obspy.clients.fdsn.mass_downloader - INFO: Client 'GEONET' - Status for 1 time intervals/channels after downloading: DOWNLOADED\n",
      "[2021-11-25 00:50:01,814] - obspy.clients.fdsn.mass_downloader - INFO: Client 'GEONET' - No station information to download.\n",
      "[2021-11-25 00:50:01,840] - obspy.clients.fdsn.mass_downloader - INFO: ============================== Final report\n",
      "[2021-11-25 00:50:01,844] - obspy.clients.fdsn.mass_downloader - INFO: 0 MiniSEED files [0.0 MB] already existed.\n",
      "[2021-11-25 00:50:01,845] - obspy.clients.fdsn.mass_downloader - INFO: 1 StationXML files [0.0 MB] already existed.\n",
      "[2021-11-25 00:50:01,845] - obspy.clients.fdsn.mass_downloader - INFO: Client 'GEONET' - Acquired 1 MiniSEED files [0.0 MB].\n",
      "[2021-11-25 00:50:01,846] - obspy.clients.fdsn.mass_downloader - INFO: Client 'GEONET' - Acquired 0 StationXML files [0.0 MB].\n",
      "[2021-11-25 00:50:01,853] - obspy.clients.fdsn.mass_downloader - INFO: Downloaded 0.0 MB in total.\n",
      "[2021-11-25 00:50:01,888] - obspy.clients.fdsn.mass_downloader - INFO: Initializing FDSN client(s) for GEONET.\n",
      "[2021-11-25 00:50:02,039] - obspy.clients.fdsn.mass_downloader - INFO: Successfully initialized 1 client(s): GEONET.\n",
      "[2021-11-25 00:50:02,055] - obspy.clients.fdsn.mass_downloader - INFO: Total acquired or preexisting stations: 0\n",
      "[2021-11-25 00:50:02,070] - obspy.clients.fdsn.mass_downloader - INFO: Client 'GEONET' - Requesting unreliable availability.\n"
     ]
    },
    {
     "name": "stdout",
     "output_type": "stream",
     "text": [
      "=================================================================\n",
      "Initiating mass download request.\n"
     ]
    },
    {
     "name": "stderr",
     "output_type": "stream",
     "text": [
      "[2021-11-25 00:50:02,706] - obspy.clients.fdsn.mass_downloader - INFO: Client 'GEONET' - Successfully requested availability (0.63 seconds)\n",
      "[2021-11-25 00:50:02,724] - obspy.clients.fdsn.mass_downloader - INFO: Client 'GEONET' - Found 1 stations (1 channels).\n",
      "[2021-11-25 00:50:02,735] - obspy.clients.fdsn.mass_downloader - INFO: Client 'GEONET' - Will attempt to download data from 1 stations.\n",
      "[2021-11-25 00:50:02,741] - obspy.clients.fdsn.mass_downloader - INFO: Client 'GEONET' - Status for 1 time intervals/channels before downloading: NEEDS_DOWNLOADING\n",
      "[2021-11-25 00:50:03,502] - obspy.clients.fdsn.mass_downloader - INFO: Client 'GEONET' - Successfully downloaded 1 channels (of 1)\n",
      "[2021-11-25 00:50:03,537] - obspy.clients.fdsn.mass_downloader - INFO: Client 'GEONET' - Launching basic QC checks...\n",
      "[2021-11-25 00:50:03,555] - obspy.clients.fdsn.mass_downloader - INFO: Client 'GEONET' - Downloaded 0.0 MB [4.53 KB/sec] of data, 0.0 MB of which were discarded afterwards.\n",
      "[2021-11-25 00:50:03,557] - obspy.clients.fdsn.mass_downloader - INFO: Client 'GEONET' - Status for 1 time intervals/channels after downloading: DOWNLOADED\n",
      "[2021-11-25 00:50:03,575] - obspy.clients.fdsn.mass_downloader - INFO: Client 'GEONET' - No station information to download.\n",
      "[2021-11-25 00:50:03,582] - obspy.clients.fdsn.mass_downloader - INFO: ============================== Final report\n",
      "[2021-11-25 00:50:03,584] - obspy.clients.fdsn.mass_downloader - INFO: 0 MiniSEED files [0.0 MB] already existed.\n",
      "[2021-11-25 00:50:03,585] - obspy.clients.fdsn.mass_downloader - INFO: 1 StationXML files [0.0 MB] already existed.\n",
      "[2021-11-25 00:50:03,588] - obspy.clients.fdsn.mass_downloader - INFO: Client 'GEONET' - Acquired 1 MiniSEED files [0.0 MB].\n",
      "[2021-11-25 00:50:03,588] - obspy.clients.fdsn.mass_downloader - INFO: Client 'GEONET' - Acquired 0 StationXML files [0.0 MB].\n",
      "[2021-11-25 00:50:03,591] - obspy.clients.fdsn.mass_downloader - INFO: Downloaded 0.0 MB in total.\n",
      "[2021-11-25 00:50:03,605] - obspy.clients.fdsn.mass_downloader - INFO: Initializing FDSN client(s) for GEONET.\n",
      "[2021-11-25 00:50:03,628] - obspy.clients.fdsn.mass_downloader - INFO: Successfully initialized 1 client(s): GEONET.\n",
      "[2021-11-25 00:50:03,631] - obspy.clients.fdsn.mass_downloader - INFO: Total acquired or preexisting stations: 0\n",
      "[2021-11-25 00:50:03,633] - obspy.clients.fdsn.mass_downloader - INFO: Client 'GEONET' - Requesting unreliable availability.\n"
     ]
    },
    {
     "name": "stdout",
     "output_type": "stream",
     "text": [
      "=================================================================\n",
      "Initiating mass download request.\n"
     ]
    },
    {
     "name": "stderr",
     "output_type": "stream",
     "text": [
      "[2021-11-25 00:50:04,207] - obspy.clients.fdsn.mass_downloader - INFO: Client 'GEONET' - Successfully requested availability (0.57 seconds)\n",
      "[2021-11-25 00:50:04,217] - obspy.clients.fdsn.mass_downloader - INFO: Client 'GEONET' - Found 1 stations (1 channels).\n",
      "[2021-11-25 00:50:04,228] - obspy.clients.fdsn.mass_downloader - INFO: Client 'GEONET' - Will attempt to download data from 1 stations.\n",
      "[2021-11-25 00:50:04,233] - obspy.clients.fdsn.mass_downloader - INFO: Client 'GEONET' - Status for 1 time intervals/channels before downloading: NEEDS_DOWNLOADING\n",
      "[2021-11-25 00:50:05,088] - obspy.clients.fdsn.mass_downloader - INFO: Client 'GEONET' - Successfully downloaded 1 channels (of 1)\n",
      "[2021-11-25 00:50:05,116] - obspy.clients.fdsn.mass_downloader - INFO: Client 'GEONET' - Launching basic QC checks...\n",
      "[2021-11-25 00:50:05,144] - obspy.clients.fdsn.mass_downloader - INFO: Client 'GEONET' - Downloaded 0.0 MB [5.19 KB/sec] of data, 0.0 MB of which were discarded afterwards.\n",
      "[2021-11-25 00:50:05,146] - obspy.clients.fdsn.mass_downloader - INFO: Client 'GEONET' - Status for 1 time intervals/channels after downloading: DOWNLOADED\n",
      "[2021-11-25 00:50:05,156] - obspy.clients.fdsn.mass_downloader - INFO: Client 'GEONET' - No station information to download.\n",
      "[2021-11-25 00:50:05,162] - obspy.clients.fdsn.mass_downloader - INFO: ============================== Final report\n",
      "[2021-11-25 00:50:05,163] - obspy.clients.fdsn.mass_downloader - INFO: 0 MiniSEED files [0.0 MB] already existed.\n",
      "[2021-11-25 00:50:05,163] - obspy.clients.fdsn.mass_downloader - INFO: 1 StationXML files [0.0 MB] already existed.\n",
      "[2021-11-25 00:50:05,164] - obspy.clients.fdsn.mass_downloader - INFO: Client 'GEONET' - Acquired 1 MiniSEED files [0.0 MB].\n",
      "[2021-11-25 00:50:05,165] - obspy.clients.fdsn.mass_downloader - INFO: Client 'GEONET' - Acquired 0 StationXML files [0.0 MB].\n",
      "[2021-11-25 00:50:05,165] - obspy.clients.fdsn.mass_downloader - INFO: Downloaded 0.0 MB in total.\n",
      "[2021-11-25 00:50:05,175] - obspy.clients.fdsn.mass_downloader - INFO: Initializing FDSN client(s) for GEONET.\n",
      "[2021-11-25 00:50:05,196] - obspy.clients.fdsn.mass_downloader - INFO: Successfully initialized 1 client(s): GEONET.\n",
      "[2021-11-25 00:50:05,200] - obspy.clients.fdsn.mass_downloader - INFO: Total acquired or preexisting stations: 0\n",
      "[2021-11-25 00:50:05,202] - obspy.clients.fdsn.mass_downloader - INFO: Client 'GEONET' - Requesting unreliable availability.\n"
     ]
    },
    {
     "name": "stdout",
     "output_type": "stream",
     "text": [
      "=================================================================\n",
      "Initiating mass download request.\n"
     ]
    },
    {
     "name": "stderr",
     "output_type": "stream",
     "text": [
      "[2021-11-25 00:50:05,774] - obspy.clients.fdsn.mass_downloader - INFO: Client 'GEONET' - Successfully requested availability (0.57 seconds)\n",
      "[2021-11-25 00:50:05,801] - obspy.clients.fdsn.mass_downloader - INFO: Client 'GEONET' - Found 1 stations (1 channels).\n",
      "[2021-11-25 00:50:05,819] - obspy.clients.fdsn.mass_downloader - INFO: Client 'GEONET' - Will attempt to download data from 1 stations.\n",
      "[2021-11-25 00:50:05,828] - obspy.clients.fdsn.mass_downloader - INFO: Client 'GEONET' - Status for 1 time intervals/channels before downloading: NEEDS_DOWNLOADING\n",
      "[2021-11-25 00:50:06,647] - obspy.clients.fdsn.mass_downloader - INFO: Client 'GEONET' - Successfully downloaded 1 channels (of 1)\n",
      "[2021-11-25 00:50:06,661] - obspy.clients.fdsn.mass_downloader - INFO: Client 'GEONET' - Launching basic QC checks...\n",
      "[2021-11-25 00:50:06,675] - obspy.clients.fdsn.mass_downloader - INFO: Client 'GEONET' - Downloaded 0.0 MB [4.33 KB/sec] of data, 0.0 MB of which were discarded afterwards.\n",
      "[2021-11-25 00:50:06,676] - obspy.clients.fdsn.mass_downloader - INFO: Client 'GEONET' - Status for 1 time intervals/channels after downloading: DOWNLOADED\n",
      "[2021-11-25 00:50:06,683] - obspy.clients.fdsn.mass_downloader - INFO: Client 'GEONET' - No station information to download.\n",
      "[2021-11-25 00:50:06,684] - obspy.clients.fdsn.mass_downloader - INFO: ============================== Final report\n",
      "[2021-11-25 00:50:06,685] - obspy.clients.fdsn.mass_downloader - INFO: 0 MiniSEED files [0.0 MB] already existed.\n",
      "[2021-11-25 00:50:06,685] - obspy.clients.fdsn.mass_downloader - INFO: 1 StationXML files [0.0 MB] already existed.\n",
      "[2021-11-25 00:50:06,686] - obspy.clients.fdsn.mass_downloader - INFO: Client 'GEONET' - Acquired 1 MiniSEED files [0.0 MB].\n",
      "[2021-11-25 00:50:06,686] - obspy.clients.fdsn.mass_downloader - INFO: Client 'GEONET' - Acquired 0 StationXML files [0.0 MB].\n",
      "[2021-11-25 00:50:06,686] - obspy.clients.fdsn.mass_downloader - INFO: Downloaded 0.0 MB in total.\n",
      "[2021-11-25 00:50:06,693] - obspy.clients.fdsn.mass_downloader - INFO: Initializing FDSN client(s) for GEONET.\n",
      "[2021-11-25 00:50:06,701] - obspy.clients.fdsn.mass_downloader - INFO: Successfully initialized 1 client(s): GEONET.\n",
      "[2021-11-25 00:50:06,705] - obspy.clients.fdsn.mass_downloader - INFO: Total acquired or preexisting stations: 0\n",
      "[2021-11-25 00:50:06,707] - obspy.clients.fdsn.mass_downloader - INFO: Client 'GEONET' - Requesting unreliable availability.\n"
     ]
    },
    {
     "name": "stdout",
     "output_type": "stream",
     "text": [
      "=================================================================\n",
      "Initiating mass download request.\n"
     ]
    },
    {
     "name": "stderr",
     "output_type": "stream",
     "text": [
      "[2021-11-25 00:50:07,419] - obspy.clients.fdsn.mass_downloader - INFO: Client 'GEONET' - Successfully requested availability (0.71 seconds)\n",
      "[2021-11-25 00:50:07,432] - obspy.clients.fdsn.mass_downloader - INFO: Client 'GEONET' - Found 1 stations (1 channels).\n",
      "[2021-11-25 00:50:07,437] - obspy.clients.fdsn.mass_downloader - INFO: Client 'GEONET' - Will attempt to download data from 1 stations.\n",
      "[2021-11-25 00:50:07,443] - obspy.clients.fdsn.mass_downloader - INFO: Client 'GEONET' - Status for 1 time intervals/channels before downloading: NEEDS_DOWNLOADING\n",
      "[2021-11-25 00:50:08,487] - obspy.clients.fdsn.mass_downloader - INFO: Client 'GEONET' - Successfully downloaded 1 channels (of 1)\n",
      "[2021-11-25 00:50:08,572] - obspy.clients.fdsn.mass_downloader - INFO: Client 'GEONET' - Launching basic QC checks...\n",
      "[2021-11-25 00:50:08,656] - obspy.clients.fdsn.mass_downloader - INFO: Client 'GEONET' - Downloaded 0.0 MB [6.76 KB/sec] of data, 0.0 MB of which were discarded afterwards.\n",
      "[2021-11-25 00:50:08,660] - obspy.clients.fdsn.mass_downloader - INFO: Client 'GEONET' - Status for 1 time intervals/channels after downloading: DOWNLOADED\n",
      "[2021-11-25 00:50:08,666] - obspy.clients.fdsn.mass_downloader - INFO: Client 'GEONET' - No station information to download.\n",
      "[2021-11-25 00:50:08,695] - obspy.clients.fdsn.mass_downloader - INFO: ============================== Final report\n",
      "[2021-11-25 00:50:08,696] - obspy.clients.fdsn.mass_downloader - INFO: 0 MiniSEED files [0.0 MB] already existed.\n",
      "[2021-11-25 00:50:08,701] - obspy.clients.fdsn.mass_downloader - INFO: 1 StationXML files [0.0 MB] already existed.\n",
      "[2021-11-25 00:50:08,705] - obspy.clients.fdsn.mass_downloader - INFO: Client 'GEONET' - Acquired 1 MiniSEED files [0.0 MB].\n",
      "[2021-11-25 00:50:08,712] - obspy.clients.fdsn.mass_downloader - INFO: Client 'GEONET' - Acquired 0 StationXML files [0.0 MB].\n",
      "[2021-11-25 00:50:08,713] - obspy.clients.fdsn.mass_downloader - INFO: Downloaded 0.0 MB in total.\n",
      "[2021-11-25 00:50:08,731] - obspy.clients.fdsn.mass_downloader - INFO: Initializing FDSN client(s) for GEONET.\n",
      "[2021-11-25 00:50:08,819] - obspy.clients.fdsn.mass_downloader - INFO: Successfully initialized 1 client(s): GEONET.\n",
      "[2021-11-25 00:50:08,839] - obspy.clients.fdsn.mass_downloader - INFO: Total acquired or preexisting stations: 0\n",
      "[2021-11-25 00:50:08,843] - obspy.clients.fdsn.mass_downloader - INFO: Client 'GEONET' - Requesting unreliable availability.\n"
     ]
    },
    {
     "name": "stdout",
     "output_type": "stream",
     "text": [
      "=================================================================\n",
      "Initiating mass download request.\n"
     ]
    },
    {
     "name": "stderr",
     "output_type": "stream",
     "text": [
      "[2021-11-25 00:50:09,485] - obspy.clients.fdsn.mass_downloader - INFO: Client 'GEONET' - Successfully requested availability (0.64 seconds)\n",
      "[2021-11-25 00:50:09,559] - obspy.clients.fdsn.mass_downloader - INFO: Client 'GEONET' - Found 1 stations (1 channels).\n",
      "[2021-11-25 00:50:09,589] - obspy.clients.fdsn.mass_downloader - INFO: Client 'GEONET' - Will attempt to download data from 1 stations.\n",
      "[2021-11-25 00:50:09,673] - obspy.clients.fdsn.mass_downloader - INFO: Client 'GEONET' - Status for 1 time intervals/channels before downloading: NEEDS_DOWNLOADING\n",
      "[2021-11-25 00:50:10,514] - obspy.clients.fdsn.mass_downloader - INFO: Client 'GEONET' - Successfully downloaded 1 channels (of 1)\n",
      "[2021-11-25 00:50:10,558] - obspy.clients.fdsn.mass_downloader - INFO: Client 'GEONET' - Launching basic QC checks...\n",
      "[2021-11-25 00:50:10,583] - obspy.clients.fdsn.mass_downloader - INFO: Client 'GEONET' - Downloaded 0.0 MB [3.79 KB/sec] of data, 0.0 MB of which were discarded afterwards.\n",
      "[2021-11-25 00:50:10,587] - obspy.clients.fdsn.mass_downloader - INFO: Client 'GEONET' - Status for 1 time intervals/channels after downloading: DOWNLOADED\n",
      "[2021-11-25 00:50:10,604] - obspy.clients.fdsn.mass_downloader - INFO: Client 'GEONET' - No station information to download.\n",
      "[2021-11-25 00:50:10,609] - obspy.clients.fdsn.mass_downloader - INFO: ============================== Final report\n",
      "[2021-11-25 00:50:10,613] - obspy.clients.fdsn.mass_downloader - INFO: 0 MiniSEED files [0.0 MB] already existed.\n",
      "[2021-11-25 00:50:10,614] - obspy.clients.fdsn.mass_downloader - INFO: 1 StationXML files [0.0 MB] already existed.\n",
      "[2021-11-25 00:50:10,615] - obspy.clients.fdsn.mass_downloader - INFO: Client 'GEONET' - Acquired 1 MiniSEED files [0.0 MB].\n",
      "[2021-11-25 00:50:10,616] - obspy.clients.fdsn.mass_downloader - INFO: Client 'GEONET' - Acquired 0 StationXML files [0.0 MB].\n",
      "[2021-11-25 00:50:10,616] - obspy.clients.fdsn.mass_downloader - INFO: Downloaded 0.0 MB in total.\n",
      "[2021-11-25 00:50:10,647] - obspy.clients.fdsn.mass_downloader - INFO: Initializing FDSN client(s) for GEONET.\n",
      "[2021-11-25 00:50:10,655] - obspy.clients.fdsn.mass_downloader - INFO: Successfully initialized 1 client(s): GEONET.\n",
      "[2021-11-25 00:50:10,657] - obspy.clients.fdsn.mass_downloader - INFO: Total acquired or preexisting stations: 0\n",
      "[2021-11-25 00:50:10,657] - obspy.clients.fdsn.mass_downloader - INFO: Client 'GEONET' - Requesting unreliable availability.\n"
     ]
    },
    {
     "name": "stdout",
     "output_type": "stream",
     "text": [
      "=================================================================\n",
      "Initiating mass download request.\n"
     ]
    },
    {
     "name": "stderr",
     "output_type": "stream",
     "text": [
      "[2021-11-25 00:50:11,359] - obspy.clients.fdsn.mass_downloader - INFO: Client 'GEONET' - Successfully requested availability (0.70 seconds)\n",
      "[2021-11-25 00:50:11,367] - obspy.clients.fdsn.mass_downloader - INFO: Client 'GEONET' - Found 1 stations (1 channels).\n",
      "[2021-11-25 00:50:11,369] - obspy.clients.fdsn.mass_downloader - INFO: Client 'GEONET' - Will attempt to download data from 1 stations.\n",
      "[2021-11-25 00:50:11,374] - obspy.clients.fdsn.mass_downloader - INFO: Client 'GEONET' - Status for 1 time intervals/channels before downloading: NEEDS_DOWNLOADING\n",
      "[2021-11-25 00:50:12,185] - obspy.clients.fdsn.mass_downloader - INFO: Client 'GEONET' - Successfully downloaded 1 channels (of 1)\n",
      "[2021-11-25 00:50:12,195] - obspy.clients.fdsn.mass_downloader - INFO: Client 'GEONET' - Launching basic QC checks...\n",
      "[2021-11-25 00:50:12,206] - obspy.clients.fdsn.mass_downloader - INFO: Client 'GEONET' - Downloaded 0.0 MB [4.92 KB/sec] of data, 0.0 MB of which were discarded afterwards.\n",
      "[2021-11-25 00:50:12,209] - obspy.clients.fdsn.mass_downloader - INFO: Client 'GEONET' - Status for 1 time intervals/channels after downloading: DOWNLOADED\n",
      "[2021-11-25 00:50:12,233] - obspy.clients.fdsn.mass_downloader - INFO: Client 'GEONET' - No station information to download.\n",
      "[2021-11-25 00:50:12,240] - obspy.clients.fdsn.mass_downloader - INFO: ============================== Final report\n",
      "[2021-11-25 00:50:12,241] - obspy.clients.fdsn.mass_downloader - INFO: 0 MiniSEED files [0.0 MB] already existed.\n",
      "[2021-11-25 00:50:12,245] - obspy.clients.fdsn.mass_downloader - INFO: 1 StationXML files [0.0 MB] already existed.\n",
      "[2021-11-25 00:50:12,246] - obspy.clients.fdsn.mass_downloader - INFO: Client 'GEONET' - Acquired 1 MiniSEED files [0.0 MB].\n",
      "[2021-11-25 00:50:12,247] - obspy.clients.fdsn.mass_downloader - INFO: Client 'GEONET' - Acquired 0 StationXML files [0.0 MB].\n",
      "[2021-11-25 00:50:12,247] - obspy.clients.fdsn.mass_downloader - INFO: Downloaded 0.0 MB in total.\n",
      "[2021-11-25 00:50:12,257] - obspy.clients.fdsn.mass_downloader - INFO: Initializing FDSN client(s) for GEONET.\n",
      "[2021-11-25 00:50:12,293] - obspy.clients.fdsn.mass_downloader - INFO: Successfully initialized 1 client(s): GEONET.\n",
      "[2021-11-25 00:50:12,298] - obspy.clients.fdsn.mass_downloader - INFO: Total acquired or preexisting stations: 0\n",
      "[2021-11-25 00:50:12,300] - obspy.clients.fdsn.mass_downloader - INFO: Client 'GEONET' - Requesting unreliable availability.\n"
     ]
    },
    {
     "name": "stdout",
     "output_type": "stream",
     "text": [
      "=================================================================\n",
      "Initiating mass download request.\n"
     ]
    },
    {
     "name": "stderr",
     "output_type": "stream",
     "text": [
      "[2021-11-25 00:50:12,879] - obspy.clients.fdsn.mass_downloader - INFO: Client 'GEONET' - Successfully requested availability (0.58 seconds)\n",
      "[2021-11-25 00:50:12,881] - obspy.clients.fdsn.mass_downloader - INFO: Client 'GEONET' - Found 1 stations (1 channels).\n",
      "[2021-11-25 00:50:12,882] - obspy.clients.fdsn.mass_downloader - INFO: Client 'GEONET' - Will attempt to download data from 1 stations.\n",
      "[2021-11-25 00:50:12,882] - obspy.clients.fdsn.mass_downloader - INFO: Client 'GEONET' - Status for 1 time intervals/channels before downloading: NEEDS_DOWNLOADING\n",
      "[2021-11-25 00:50:13,753] - obspy.clients.fdsn.mass_downloader - INFO: Client 'GEONET' - Successfully downloaded 1 channels (of 1)\n",
      "[2021-11-25 00:50:13,811] - obspy.clients.fdsn.mass_downloader - INFO: Client 'GEONET' - Launching basic QC checks...\n",
      "[2021-11-25 00:50:13,850] - obspy.clients.fdsn.mass_downloader - INFO: Client 'GEONET' - Downloaded 0.0 MB [5.94 KB/sec] of data, 0.0 MB of which were discarded afterwards.\n",
      "[2021-11-25 00:50:13,869] - obspy.clients.fdsn.mass_downloader - INFO: Client 'GEONET' - Status for 1 time intervals/channels after downloading: DOWNLOADED\n",
      "[2021-11-25 00:50:13,881] - obspy.clients.fdsn.mass_downloader - INFO: Client 'GEONET' - No station information to download.\n",
      "[2021-11-25 00:50:13,891] - obspy.clients.fdsn.mass_downloader - INFO: ============================== Final report\n",
      "[2021-11-25 00:50:13,896] - obspy.clients.fdsn.mass_downloader - INFO: 0 MiniSEED files [0.0 MB] already existed.\n",
      "[2021-11-25 00:50:13,900] - obspy.clients.fdsn.mass_downloader - INFO: 1 StationXML files [0.0 MB] already existed.\n",
      "[2021-11-25 00:50:13,906] - obspy.clients.fdsn.mass_downloader - INFO: Client 'GEONET' - Acquired 1 MiniSEED files [0.0 MB].\n",
      "[2021-11-25 00:50:13,909] - obspy.clients.fdsn.mass_downloader - INFO: Client 'GEONET' - Acquired 0 StationXML files [0.0 MB].\n",
      "[2021-11-25 00:50:13,918] - obspy.clients.fdsn.mass_downloader - INFO: Downloaded 0.0 MB in total.\n",
      "[2021-11-25 00:50:13,938] - obspy.clients.fdsn.mass_downloader - INFO: Initializing FDSN client(s) for GEONET.\n",
      "[2021-11-25 00:50:13,983] - obspy.clients.fdsn.mass_downloader - INFO: Successfully initialized 1 client(s): GEONET.\n",
      "[2021-11-25 00:50:13,992] - obspy.clients.fdsn.mass_downloader - INFO: Total acquired or preexisting stations: 0\n",
      "[2021-11-25 00:50:13,997] - obspy.clients.fdsn.mass_downloader - INFO: Client 'GEONET' - Requesting unreliable availability.\n"
     ]
    },
    {
     "name": "stdout",
     "output_type": "stream",
     "text": [
      "=================================================================\n",
      "Initiating mass download request.\n"
     ]
    },
    {
     "name": "stderr",
     "output_type": "stream",
     "text": [
      "[2021-11-25 00:50:14,633] - obspy.clients.fdsn.mass_downloader - INFO: Client 'GEONET' - Successfully requested availability (0.63 seconds)\n",
      "[2021-11-25 00:50:14,640] - obspy.clients.fdsn.mass_downloader - INFO: Client 'GEONET' - Found 1 stations (1 channels).\n",
      "[2021-11-25 00:50:14,644] - obspy.clients.fdsn.mass_downloader - INFO: Client 'GEONET' - Will attempt to download data from 1 stations.\n",
      "[2021-11-25 00:50:14,647] - obspy.clients.fdsn.mass_downloader - INFO: Client 'GEONET' - Status for 1 time intervals/channels before downloading: NEEDS_DOWNLOADING\n",
      "[2021-11-25 00:50:15,422] - obspy.clients.fdsn.mass_downloader - INFO: Client 'GEONET' - Successfully downloaded 1 channels (of 1)\n",
      "[2021-11-25 00:50:15,438] - obspy.clients.fdsn.mass_downloader - INFO: Client 'GEONET' - Launching basic QC checks...\n",
      "[2021-11-25 00:50:15,457] - obspy.clients.fdsn.mass_downloader - INFO: Client 'GEONET' - Downloaded 0.0 MB [5.15 KB/sec] of data, 0.0 MB of which were discarded afterwards.\n",
      "[2021-11-25 00:50:15,469] - obspy.clients.fdsn.mass_downloader - INFO: Client 'GEONET' - Status for 1 time intervals/channels after downloading: DOWNLOADED\n",
      "[2021-11-25 00:50:15,482] - obspy.clients.fdsn.mass_downloader - INFO: Client 'GEONET' - No station information to download.\n",
      "[2021-11-25 00:50:15,512] - obspy.clients.fdsn.mass_downloader - INFO: ============================== Final report\n",
      "[2021-11-25 00:50:15,517] - obspy.clients.fdsn.mass_downloader - INFO: 0 MiniSEED files [0.0 MB] already existed.\n",
      "[2021-11-25 00:50:15,518] - obspy.clients.fdsn.mass_downloader - INFO: 1 StationXML files [0.0 MB] already existed.\n",
      "[2021-11-25 00:50:15,522] - obspy.clients.fdsn.mass_downloader - INFO: Client 'GEONET' - Acquired 1 MiniSEED files [0.0 MB].\n",
      "[2021-11-25 00:50:15,525] - obspy.clients.fdsn.mass_downloader - INFO: Client 'GEONET' - Acquired 0 StationXML files [0.0 MB].\n",
      "[2021-11-25 00:50:15,533] - obspy.clients.fdsn.mass_downloader - INFO: Downloaded 0.0 MB in total.\n",
      "[2021-11-25 00:50:15,539] - obspy.clients.fdsn.mass_downloader - INFO: Initializing FDSN client(s) for GEONET.\n",
      "[2021-11-25 00:50:15,575] - obspy.clients.fdsn.mass_downloader - INFO: Successfully initialized 1 client(s): GEONET.\n",
      "[2021-11-25 00:50:15,583] - obspy.clients.fdsn.mass_downloader - INFO: Total acquired or preexisting stations: 0\n",
      "[2021-11-25 00:50:15,590] - obspy.clients.fdsn.mass_downloader - INFO: Client 'GEONET' - Requesting unreliable availability.\n"
     ]
    },
    {
     "name": "stdout",
     "output_type": "stream",
     "text": [
      "=================================================================\n",
      "Initiating mass download request.\n"
     ]
    },
    {
     "name": "stderr",
     "output_type": "stream",
     "text": [
      "[2021-11-25 00:50:16,249] - obspy.clients.fdsn.mass_downloader - INFO: Client 'GEONET' - Successfully requested availability (0.65 seconds)\n",
      "[2021-11-25 00:50:16,281] - obspy.clients.fdsn.mass_downloader - INFO: Client 'GEONET' - Found 1 stations (1 channels).\n",
      "[2021-11-25 00:50:16,291] - obspy.clients.fdsn.mass_downloader - INFO: Client 'GEONET' - Will attempt to download data from 1 stations.\n",
      "[2021-11-25 00:50:16,297] - obspy.clients.fdsn.mass_downloader - INFO: Client 'GEONET' - Status for 1 time intervals/channels before downloading: NEEDS_DOWNLOADING\n",
      "[2021-11-25 00:50:17,123] - obspy.clients.fdsn.mass_downloader - INFO: Client 'GEONET' - Successfully downloaded 1 channels (of 1)\n",
      "[2021-11-25 00:50:17,139] - obspy.clients.fdsn.mass_downloader - INFO: Client 'GEONET' - Launching basic QC checks...\n",
      "[2021-11-25 00:50:17,170] - obspy.clients.fdsn.mass_downloader - INFO: Client 'GEONET' - Downloaded 0.0 MB [4.44 KB/sec] of data, 0.0 MB of which were discarded afterwards.\n",
      "[2021-11-25 00:50:17,171] - obspy.clients.fdsn.mass_downloader - INFO: Client 'GEONET' - Status for 1 time intervals/channels after downloading: DOWNLOADED\n",
      "[2021-11-25 00:50:17,174] - obspy.clients.fdsn.mass_downloader - INFO: Client 'GEONET' - No station information to download.\n",
      "[2021-11-25 00:50:17,180] - obspy.clients.fdsn.mass_downloader - INFO: ============================== Final report\n",
      "[2021-11-25 00:50:17,181] - obspy.clients.fdsn.mass_downloader - INFO: 0 MiniSEED files [0.0 MB] already existed.\n",
      "[2021-11-25 00:50:17,182] - obspy.clients.fdsn.mass_downloader - INFO: 1 StationXML files [0.0 MB] already existed.\n",
      "[2021-11-25 00:50:17,183] - obspy.clients.fdsn.mass_downloader - INFO: Client 'GEONET' - Acquired 1 MiniSEED files [0.0 MB].\n",
      "[2021-11-25 00:50:17,185] - obspy.clients.fdsn.mass_downloader - INFO: Client 'GEONET' - Acquired 0 StationXML files [0.0 MB].\n",
      "[2021-11-25 00:50:17,186] - obspy.clients.fdsn.mass_downloader - INFO: Downloaded 0.0 MB in total.\n",
      "[2021-11-25 00:50:17,197] - obspy.clients.fdsn.mass_downloader - INFO: Initializing FDSN client(s) for GEONET.\n",
      "[2021-11-25 00:50:17,231] - obspy.clients.fdsn.mass_downloader - INFO: Successfully initialized 1 client(s): GEONET.\n",
      "[2021-11-25 00:50:17,240] - obspy.clients.fdsn.mass_downloader - INFO: Total acquired or preexisting stations: 0\n",
      "[2021-11-25 00:50:17,245] - obspy.clients.fdsn.mass_downloader - INFO: Client 'GEONET' - Requesting unreliable availability.\n"
     ]
    },
    {
     "name": "stdout",
     "output_type": "stream",
     "text": [
      "=================================================================\n",
      "Initiating mass download request.\n"
     ]
    },
    {
     "name": "stderr",
     "output_type": "stream",
     "text": [
      "[2021-11-25 00:50:17,852] - obspy.clients.fdsn.mass_downloader - INFO: Client 'GEONET' - Successfully requested availability (0.60 seconds)\n",
      "[2021-11-25 00:50:17,860] - obspy.clients.fdsn.mass_downloader - INFO: Client 'GEONET' - Found 1 stations (1 channels).\n",
      "[2021-11-25 00:50:17,864] - obspy.clients.fdsn.mass_downloader - INFO: Client 'GEONET' - Will attempt to download data from 1 stations.\n",
      "[2021-11-25 00:50:17,867] - obspy.clients.fdsn.mass_downloader - INFO: Client 'GEONET' - Status for 1 time intervals/channels before downloading: NEEDS_DOWNLOADING\n",
      "[2021-11-25 00:50:18,625] - obspy.clients.fdsn.mass_downloader - INFO: Client 'GEONET' - Successfully downloaded 1 channels (of 1)\n",
      "[2021-11-25 00:50:18,631] - obspy.clients.fdsn.mass_downloader - INFO: Client 'GEONET' - Launching basic QC checks...\n",
      "[2021-11-25 00:50:18,648] - obspy.clients.fdsn.mass_downloader - INFO: Client 'GEONET' - Downloaded 0.0 MB [4.67 KB/sec] of data, 0.0 MB of which were discarded afterwards.\n",
      "[2021-11-25 00:50:18,649] - obspy.clients.fdsn.mass_downloader - INFO: Client 'GEONET' - Status for 1 time intervals/channels after downloading: DOWNLOADED\n",
      "[2021-11-25 00:50:18,653] - obspy.clients.fdsn.mass_downloader - INFO: Client 'GEONET' - No station information to download.\n",
      "[2021-11-25 00:50:18,654] - obspy.clients.fdsn.mass_downloader - INFO: ============================== Final report\n",
      "[2021-11-25 00:50:18,654] - obspy.clients.fdsn.mass_downloader - INFO: 0 MiniSEED files [0.0 MB] already existed.\n",
      "[2021-11-25 00:50:18,655] - obspy.clients.fdsn.mass_downloader - INFO: 1 StationXML files [0.0 MB] already existed.\n",
      "[2021-11-25 00:50:18,657] - obspy.clients.fdsn.mass_downloader - INFO: Client 'GEONET' - Acquired 1 MiniSEED files [0.0 MB].\n",
      "[2021-11-25 00:50:18,658] - obspy.clients.fdsn.mass_downloader - INFO: Client 'GEONET' - Acquired 0 StationXML files [0.0 MB].\n",
      "[2021-11-25 00:50:18,658] - obspy.clients.fdsn.mass_downloader - INFO: Downloaded 0.0 MB in total.\n",
      "[2021-11-25 00:50:18,697] - obspy.clients.fdsn.mass_downloader - INFO: Initializing FDSN client(s) for GEONET.\n",
      "[2021-11-25 00:50:18,735] - obspy.clients.fdsn.mass_downloader - INFO: Successfully initialized 1 client(s): GEONET.\n",
      "[2021-11-25 00:50:18,739] - obspy.clients.fdsn.mass_downloader - INFO: Total acquired or preexisting stations: 0\n",
      "[2021-11-25 00:50:18,744] - obspy.clients.fdsn.mass_downloader - INFO: Client 'GEONET' - Requesting unreliable availability.\n"
     ]
    },
    {
     "name": "stdout",
     "output_type": "stream",
     "text": [
      "=================================================================\n",
      "Initiating mass download request.\n"
     ]
    },
    {
     "name": "stderr",
     "output_type": "stream",
     "text": [
      "[2021-11-25 00:50:19,350] - obspy.clients.fdsn.mass_downloader - INFO: Client 'GEONET' - Successfully requested availability (0.60 seconds)\n",
      "[2021-11-25 00:50:19,353] - obspy.clients.fdsn.mass_downloader - INFO: Client 'GEONET' - Found 1 stations (1 channels).\n",
      "[2021-11-25 00:50:19,354] - obspy.clients.fdsn.mass_downloader - INFO: Client 'GEONET' - Will attempt to download data from 1 stations.\n",
      "[2021-11-25 00:50:19,357] - obspy.clients.fdsn.mass_downloader - INFO: Client 'GEONET' - Status for 1 time intervals/channels before downloading: NEEDS_DOWNLOADING\n",
      "[2021-11-25 00:50:20,238] - obspy.clients.fdsn.mass_downloader - INFO: Client 'GEONET' - Successfully downloaded 1 channels (of 1)\n",
      "[2021-11-25 00:50:20,265] - obspy.clients.fdsn.mass_downloader - INFO: Client 'GEONET' - Launching basic QC checks...\n",
      "[2021-11-25 00:50:20,286] - obspy.clients.fdsn.mass_downloader - INFO: Client 'GEONET' - Downloaded 0.0 MB [4.43 KB/sec] of data, 0.0 MB of which were discarded afterwards.\n",
      "[2021-11-25 00:50:20,291] - obspy.clients.fdsn.mass_downloader - INFO: Client 'GEONET' - Status for 1 time intervals/channels after downloading: DOWNLOADED\n",
      "[2021-11-25 00:50:20,299] - obspy.clients.fdsn.mass_downloader - INFO: Client 'GEONET' - No station information to download.\n",
      "[2021-11-25 00:50:20,302] - obspy.clients.fdsn.mass_downloader - INFO: ============================== Final report\n",
      "[2021-11-25 00:50:20,303] - obspy.clients.fdsn.mass_downloader - INFO: 0 MiniSEED files [0.0 MB] already existed.\n",
      "[2021-11-25 00:50:20,306] - obspy.clients.fdsn.mass_downloader - INFO: 1 StationXML files [0.0 MB] already existed.\n",
      "[2021-11-25 00:50:20,306] - obspy.clients.fdsn.mass_downloader - INFO: Client 'GEONET' - Acquired 1 MiniSEED files [0.0 MB].\n",
      "[2021-11-25 00:50:20,307] - obspy.clients.fdsn.mass_downloader - INFO: Client 'GEONET' - Acquired 0 StationXML files [0.0 MB].\n",
      "[2021-11-25 00:50:20,307] - obspy.clients.fdsn.mass_downloader - INFO: Downloaded 0.0 MB in total.\n",
      "[2021-11-25 00:50:20,315] - obspy.clients.fdsn.mass_downloader - INFO: Initializing FDSN client(s) for GEONET.\n",
      "[2021-11-25 00:50:20,335] - obspy.clients.fdsn.mass_downloader - INFO: Successfully initialized 1 client(s): GEONET.\n",
      "[2021-11-25 00:50:20,340] - obspy.clients.fdsn.mass_downloader - INFO: Total acquired or preexisting stations: 0\n",
      "[2021-11-25 00:50:20,341] - obspy.clients.fdsn.mass_downloader - INFO: Client 'GEONET' - Requesting unreliable availability.\n"
     ]
    },
    {
     "name": "stdout",
     "output_type": "stream",
     "text": [
      "=================================================================\n",
      "Initiating mass download request.\n"
     ]
    },
    {
     "name": "stderr",
     "output_type": "stream",
     "text": [
      "[2021-11-25 00:50:20,930] - obspy.clients.fdsn.mass_downloader - INFO: Client 'GEONET' - Successfully requested availability (0.59 seconds)\n",
      "[2021-11-25 00:50:20,936] - obspy.clients.fdsn.mass_downloader - INFO: Client 'GEONET' - Found 1 stations (1 channels).\n",
      "[2021-11-25 00:50:20,940] - obspy.clients.fdsn.mass_downloader - INFO: Client 'GEONET' - Will attempt to download data from 1 stations.\n",
      "[2021-11-25 00:50:20,943] - obspy.clients.fdsn.mass_downloader - INFO: Client 'GEONET' - Status for 1 time intervals/channels before downloading: NEEDS_DOWNLOADING\n",
      "[2021-11-25 00:50:21,790] - obspy.clients.fdsn.mass_downloader - INFO: Client 'GEONET' - Successfully downloaded 1 channels (of 1)\n",
      "[2021-11-25 00:50:21,814] - obspy.clients.fdsn.mass_downloader - INFO: Client 'GEONET' - Launching basic QC checks...\n",
      "[2021-11-25 00:50:21,843] - obspy.clients.fdsn.mass_downloader - INFO: Client 'GEONET' - Downloaded 0.0 MB [4.05 KB/sec] of data, 0.0 MB of which were discarded afterwards.\n",
      "[2021-11-25 00:50:21,846] - obspy.clients.fdsn.mass_downloader - INFO: Client 'GEONET' - Status for 1 time intervals/channels after downloading: DOWNLOADED\n",
      "[2021-11-25 00:50:21,854] - obspy.clients.fdsn.mass_downloader - INFO: Client 'GEONET' - No station information to download.\n",
      "[2021-11-25 00:50:21,860] - obspy.clients.fdsn.mass_downloader - INFO: ============================== Final report\n",
      "[2021-11-25 00:50:21,862] - obspy.clients.fdsn.mass_downloader - INFO: 0 MiniSEED files [0.0 MB] already existed.\n",
      "[2021-11-25 00:50:21,864] - obspy.clients.fdsn.mass_downloader - INFO: 1 StationXML files [0.0 MB] already existed.\n",
      "[2021-11-25 00:50:21,865] - obspy.clients.fdsn.mass_downloader - INFO: Client 'GEONET' - Acquired 1 MiniSEED files [0.0 MB].\n",
      "[2021-11-25 00:50:21,865] - obspy.clients.fdsn.mass_downloader - INFO: Client 'GEONET' - Acquired 0 StationXML files [0.0 MB].\n",
      "[2021-11-25 00:50:21,865] - obspy.clients.fdsn.mass_downloader - INFO: Downloaded 0.0 MB in total.\n",
      "[2021-11-25 00:50:21,878] - obspy.clients.fdsn.mass_downloader - INFO: Initializing FDSN client(s) for GEONET.\n",
      "[2021-11-25 00:50:21,901] - obspy.clients.fdsn.mass_downloader - INFO: Successfully initialized 1 client(s): GEONET.\n",
      "[2021-11-25 00:50:21,907] - obspy.clients.fdsn.mass_downloader - INFO: Total acquired or preexisting stations: 0\n",
      "[2021-11-25 00:50:21,909] - obspy.clients.fdsn.mass_downloader - INFO: Client 'GEONET' - Requesting unreliable availability.\n"
     ]
    },
    {
     "name": "stdout",
     "output_type": "stream",
     "text": [
      "=================================================================\n",
      "Initiating mass download request.\n"
     ]
    },
    {
     "name": "stderr",
     "output_type": "stream",
     "text": [
      "[2021-11-25 00:50:22,506] - obspy.clients.fdsn.mass_downloader - INFO: Client 'GEONET' - Successfully requested availability (0.60 seconds)\n",
      "[2021-11-25 00:50:22,509] - obspy.clients.fdsn.mass_downloader - INFO: Client 'GEONET' - Found 1 stations (1 channels).\n",
      "[2021-11-25 00:50:22,509] - obspy.clients.fdsn.mass_downloader - INFO: Client 'GEONET' - Will attempt to download data from 1 stations.\n",
      "[2021-11-25 00:50:22,510] - obspy.clients.fdsn.mass_downloader - INFO: Client 'GEONET' - Status for 1 time intervals/channels before downloading: NEEDS_DOWNLOADING\n",
      "[2021-11-25 00:50:23,430] - obspy.clients.fdsn.mass_downloader - INFO: Client 'GEONET' - Successfully downloaded 1 channels (of 1)\n",
      "[2021-11-25 00:50:23,466] - obspy.clients.fdsn.mass_downloader - INFO: Client 'GEONET' - Launching basic QC checks...\n",
      "[2021-11-25 00:50:23,495] - obspy.clients.fdsn.mass_downloader - INFO: Client 'GEONET' - Downloaded 0.0 MB [3.68 KB/sec] of data, 0.0 MB of which were discarded afterwards.\n",
      "[2021-11-25 00:50:23,508] - obspy.clients.fdsn.mass_downloader - INFO: Client 'GEONET' - Status for 1 time intervals/channels after downloading: DOWNLOADED\n",
      "[2021-11-25 00:50:23,547] - obspy.clients.fdsn.mass_downloader - INFO: Client 'GEONET' - No station information to download.\n",
      "[2021-11-25 00:50:23,558] - obspy.clients.fdsn.mass_downloader - INFO: ============================== Final report\n",
      "[2021-11-25 00:50:23,566] - obspy.clients.fdsn.mass_downloader - INFO: 0 MiniSEED files [0.0 MB] already existed.\n",
      "[2021-11-25 00:50:23,574] - obspy.clients.fdsn.mass_downloader - INFO: 1 StationXML files [0.0 MB] already existed.\n",
      "[2021-11-25 00:50:23,580] - obspy.clients.fdsn.mass_downloader - INFO: Client 'GEONET' - Acquired 1 MiniSEED files [0.0 MB].\n",
      "[2021-11-25 00:50:23,580] - obspy.clients.fdsn.mass_downloader - INFO: Client 'GEONET' - Acquired 0 StationXML files [0.0 MB].\n",
      "[2021-11-25 00:50:23,581] - obspy.clients.fdsn.mass_downloader - INFO: Downloaded 0.0 MB in total.\n",
      "[2021-11-25 00:50:23,624] - obspy.clients.fdsn.mass_downloader - INFO: Initializing FDSN client(s) for GEONET.\n",
      "[2021-11-25 00:50:23,667] - obspy.clients.fdsn.mass_downloader - INFO: Successfully initialized 1 client(s): GEONET.\n",
      "[2021-11-25 00:50:23,671] - obspy.clients.fdsn.mass_downloader - INFO: Total acquired or preexisting stations: 0\n",
      "[2021-11-25 00:50:23,677] - obspy.clients.fdsn.mass_downloader - INFO: Client 'GEONET' - Requesting unreliable availability.\n"
     ]
    },
    {
     "name": "stdout",
     "output_type": "stream",
     "text": [
      "=================================================================\n",
      "Initiating mass download request.\n"
     ]
    },
    {
     "name": "stderr",
     "output_type": "stream",
     "text": [
      "[2021-11-25 00:50:24,341] - obspy.clients.fdsn.mass_downloader - INFO: Client 'GEONET' - Successfully requested availability (0.65 seconds)\n",
      "[2021-11-25 00:50:24,362] - obspy.clients.fdsn.mass_downloader - INFO: Client 'GEONET' - Found 1 stations (1 channels).\n",
      "[2021-11-25 00:50:24,374] - obspy.clients.fdsn.mass_downloader - INFO: Client 'GEONET' - Will attempt to download data from 1 stations.\n",
      "[2021-11-25 00:50:24,381] - obspy.clients.fdsn.mass_downloader - INFO: Client 'GEONET' - Status for 1 time intervals/channels before downloading: NEEDS_DOWNLOADING\n",
      "[2021-11-25 00:50:25,286] - obspy.clients.fdsn.mass_downloader - INFO: Client 'GEONET' - Successfully downloaded 1 channels (of 1)\n",
      "[2021-11-25 00:50:25,349] - obspy.clients.fdsn.mass_downloader - INFO: Client 'GEONET' - Launching basic QC checks...\n",
      "[2021-11-25 00:50:25,378] - obspy.clients.fdsn.mass_downloader - INFO: Client 'GEONET' - Downloaded 0.0 MB [5.89 KB/sec] of data, 0.0 MB of which were discarded afterwards.\n",
      "[2021-11-25 00:50:25,385] - obspy.clients.fdsn.mass_downloader - INFO: Client 'GEONET' - Status for 1 time intervals/channels after downloading: DOWNLOADED\n",
      "[2021-11-25 00:50:25,400] - obspy.clients.fdsn.mass_downloader - INFO: Client 'GEONET' - No station information to download.\n",
      "[2021-11-25 00:50:25,406] - obspy.clients.fdsn.mass_downloader - INFO: ============================== Final report\n",
      "[2021-11-25 00:50:25,408] - obspy.clients.fdsn.mass_downloader - INFO: 0 MiniSEED files [0.0 MB] already existed.\n",
      "[2021-11-25 00:50:25,414] - obspy.clients.fdsn.mass_downloader - INFO: 1 StationXML files [0.0 MB] already existed.\n",
      "[2021-11-25 00:50:25,418] - obspy.clients.fdsn.mass_downloader - INFO: Client 'GEONET' - Acquired 1 MiniSEED files [0.0 MB].\n",
      "[2021-11-25 00:50:25,419] - obspy.clients.fdsn.mass_downloader - INFO: Client 'GEONET' - Acquired 0 StationXML files [0.0 MB].\n",
      "[2021-11-25 00:50:25,422] - obspy.clients.fdsn.mass_downloader - INFO: Downloaded 0.0 MB in total.\n",
      "[2021-11-25 00:50:25,444] - obspy.clients.fdsn.mass_downloader - INFO: Initializing FDSN client(s) for GEONET.\n",
      "[2021-11-25 00:50:25,481] - obspy.clients.fdsn.mass_downloader - INFO: Successfully initialized 1 client(s): GEONET.\n",
      "[2021-11-25 00:50:25,488] - obspy.clients.fdsn.mass_downloader - INFO: Total acquired or preexisting stations: 0\n",
      "[2021-11-25 00:50:25,490] - obspy.clients.fdsn.mass_downloader - INFO: Client 'GEONET' - Requesting unreliable availability.\n"
     ]
    },
    {
     "name": "stdout",
     "output_type": "stream",
     "text": [
      "=================================================================\n",
      "Initiating mass download request.\n"
     ]
    },
    {
     "name": "stderr",
     "output_type": "stream",
     "text": [
      "[2021-11-25 00:50:26,148] - obspy.clients.fdsn.mass_downloader - INFO: Client 'GEONET' - No data available for request.\n",
      "[2021-11-25 00:50:26,197] - obspy.clients.fdsn.mass_downloader - INFO: Client 'GEONET' - No data available.\n",
      "[2021-11-25 00:50:26,226] - obspy.clients.fdsn.mass_downloader - INFO: ============================== Final report\n",
      "[2021-11-25 00:50:26,246] - obspy.clients.fdsn.mass_downloader - INFO: 0 MiniSEED files [0.0 MB] already existed.\n",
      "[2021-11-25 00:50:26,266] - obspy.clients.fdsn.mass_downloader - INFO: 0 StationXML files [0.0 MB] already existed.\n",
      "[2021-11-25 00:50:26,278] - obspy.clients.fdsn.mass_downloader - INFO: Client 'GEONET' - Acquired 0 MiniSEED files [0.0 MB].\n",
      "[2021-11-25 00:50:26,294] - obspy.clients.fdsn.mass_downloader - INFO: Client 'GEONET' - Acquired 0 StationXML files [0.0 MB].\n",
      "[2021-11-25 00:50:26,300] - obspy.clients.fdsn.mass_downloader - INFO: Downloaded 0.0 MB in total.\n",
      "[2021-11-25 00:50:26,326] - obspy.clients.fdsn.mass_downloader - INFO: Initializing FDSN client(s) for GEONET.\n",
      "[2021-11-25 00:50:26,369] - obspy.clients.fdsn.mass_downloader - INFO: Successfully initialized 1 client(s): GEONET.\n",
      "[2021-11-25 00:50:26,380] - obspy.clients.fdsn.mass_downloader - INFO: Total acquired or preexisting stations: 0\n",
      "[2021-11-25 00:50:26,381] - obspy.clients.fdsn.mass_downloader - INFO: Client 'GEONET' - Requesting unreliable availability.\n"
     ]
    },
    {
     "name": "stdout",
     "output_type": "stream",
     "text": [
      "=================================================================\n",
      "Initiating mass download request.\n"
     ]
    },
    {
     "name": "stderr",
     "output_type": "stream",
     "text": [
      "[2021-11-25 00:50:27,166] - obspy.clients.fdsn.mass_downloader - INFO: Client 'GEONET' - Successfully requested availability (0.78 seconds)\n",
      "[2021-11-25 00:50:27,179] - obspy.clients.fdsn.mass_downloader - INFO: Client 'GEONET' - Found 1 stations (1 channels).\n",
      "[2021-11-25 00:50:27,183] - obspy.clients.fdsn.mass_downloader - INFO: Client 'GEONET' - Will attempt to download data from 1 stations.\n",
      "[2021-11-25 00:50:27,192] - obspy.clients.fdsn.mass_downloader - INFO: Client 'GEONET' - Status for 1 time intervals/channels before downloading: NEEDS_DOWNLOADING\n",
      "[2021-11-25 00:50:28,004] - obspy.clients.fdsn.mass_downloader - INFO: Client 'GEONET' - Successfully downloaded 1 channels (of 1)\n",
      "[2021-11-25 00:50:28,080] - obspy.clients.fdsn.mass_downloader - INFO: Client 'GEONET' - Launching basic QC checks...\n",
      "[2021-11-25 00:50:28,131] - obspy.clients.fdsn.mass_downloader - INFO: Client 'GEONET' - Downloaded 0.0 MB [4.14 KB/sec] of data, 0.0 MB of which were discarded afterwards.\n",
      "[2021-11-25 00:50:28,140] - obspy.clients.fdsn.mass_downloader - INFO: Client 'GEONET' - Status for 1 time intervals/channels after downloading: DOWNLOADED\n",
      "[2021-11-25 00:50:28,147] - obspy.clients.fdsn.mass_downloader - INFO: Client 'GEONET' - No station information to download.\n",
      "[2021-11-25 00:50:28,158] - obspy.clients.fdsn.mass_downloader - INFO: ============================== Final report\n",
      "[2021-11-25 00:50:28,161] - obspy.clients.fdsn.mass_downloader - INFO: 0 MiniSEED files [0.0 MB] already existed.\n",
      "[2021-11-25 00:50:28,162] - obspy.clients.fdsn.mass_downloader - INFO: 1 StationXML files [0.0 MB] already existed.\n",
      "[2021-11-25 00:50:28,163] - obspy.clients.fdsn.mass_downloader - INFO: Client 'GEONET' - Acquired 1 MiniSEED files [0.0 MB].\n",
      "[2021-11-25 00:50:28,168] - obspy.clients.fdsn.mass_downloader - INFO: Client 'GEONET' - Acquired 0 StationXML files [0.0 MB].\n",
      "[2021-11-25 00:50:28,168] - obspy.clients.fdsn.mass_downloader - INFO: Downloaded 0.0 MB in total.\n",
      "[2021-11-25 00:50:28,198] - obspy.clients.fdsn.mass_downloader - INFO: Initializing FDSN client(s) for GEONET.\n",
      "[2021-11-25 00:50:28,222] - obspy.clients.fdsn.mass_downloader - INFO: Successfully initialized 1 client(s): GEONET.\n",
      "[2021-11-25 00:50:28,232] - obspy.clients.fdsn.mass_downloader - INFO: Total acquired or preexisting stations: 0\n",
      "[2021-11-25 00:50:28,239] - obspy.clients.fdsn.mass_downloader - INFO: Client 'GEONET' - Requesting unreliable availability.\n"
     ]
    },
    {
     "name": "stdout",
     "output_type": "stream",
     "text": [
      "=================================================================\n",
      "Initiating mass download request.\n"
     ]
    },
    {
     "name": "stderr",
     "output_type": "stream",
     "text": [
      "[2021-11-25 00:50:28,810] - obspy.clients.fdsn.mass_downloader - INFO: Client 'GEONET' - Successfully requested availability (0.57 seconds)\n",
      "[2021-11-25 00:50:28,835] - obspy.clients.fdsn.mass_downloader - INFO: Client 'GEONET' - Found 1 stations (1 channels).\n",
      "[2021-11-25 00:50:28,838] - obspy.clients.fdsn.mass_downloader - INFO: Client 'GEONET' - Will attempt to download data from 1 stations.\n",
      "[2021-11-25 00:50:28,845] - obspy.clients.fdsn.mass_downloader - INFO: Client 'GEONET' - Status for 1 time intervals/channels before downloading: NEEDS_DOWNLOADING\n",
      "[2021-11-25 00:50:29,979] - obspy.clients.fdsn.mass_downloader - INFO: Client 'GEONET' - Successfully downloaded 1 channels (of 1)\n",
      "[2021-11-25 00:50:30,002] - obspy.clients.fdsn.mass_downloader - INFO: Client 'GEONET' - Launching basic QC checks...\n",
      "[2021-11-25 00:50:30,038] - obspy.clients.fdsn.mass_downloader - INFO: Client 'GEONET' - Downloaded 0.0 MB [3.53 KB/sec] of data, 0.0 MB of which were discarded afterwards.\n",
      "[2021-11-25 00:50:30,048] - obspy.clients.fdsn.mass_downloader - INFO: Client 'GEONET' - Status for 1 time intervals/channels after downloading: DOWNLOADED\n",
      "[2021-11-25 00:50:30,062] - obspy.clients.fdsn.mass_downloader - INFO: Client 'GEONET' - No station information to download.\n",
      "[2021-11-25 00:50:30,067] - obspy.clients.fdsn.mass_downloader - INFO: ============================== Final report\n",
      "[2021-11-25 00:50:30,073] - obspy.clients.fdsn.mass_downloader - INFO: 0 MiniSEED files [0.0 MB] already existed.\n",
      "[2021-11-25 00:50:30,079] - obspy.clients.fdsn.mass_downloader - INFO: 1 StationXML files [0.0 MB] already existed.\n",
      "[2021-11-25 00:50:30,093] - obspy.clients.fdsn.mass_downloader - INFO: Client 'GEONET' - Acquired 1 MiniSEED files [0.0 MB].\n",
      "[2021-11-25 00:50:30,094] - obspy.clients.fdsn.mass_downloader - INFO: Client 'GEONET' - Acquired 0 StationXML files [0.0 MB].\n",
      "[2021-11-25 00:50:30,098] - obspy.clients.fdsn.mass_downloader - INFO: Downloaded 0.0 MB in total.\n",
      "[2021-11-25 00:50:30,122] - obspy.clients.fdsn.mass_downloader - INFO: Initializing FDSN client(s) for GEONET.\n",
      "[2021-11-25 00:50:30,150] - obspy.clients.fdsn.mass_downloader - INFO: Successfully initialized 1 client(s): GEONET.\n",
      "[2021-11-25 00:50:30,155] - obspy.clients.fdsn.mass_downloader - INFO: Total acquired or preexisting stations: 0\n",
      "[2021-11-25 00:50:30,158] - obspy.clients.fdsn.mass_downloader - INFO: Client 'GEONET' - Requesting unreliable availability.\n"
     ]
    },
    {
     "name": "stdout",
     "output_type": "stream",
     "text": [
      "=================================================================\n",
      "Initiating mass download request.\n"
     ]
    },
    {
     "name": "stderr",
     "output_type": "stream",
     "text": [
      "[2021-11-25 00:50:30,858] - obspy.clients.fdsn.mass_downloader - INFO: Client 'GEONET' - Successfully requested availability (0.70 seconds)\n",
      "[2021-11-25 00:50:30,912] - obspy.clients.fdsn.mass_downloader - INFO: Client 'GEONET' - Found 1 stations (1 channels).\n",
      "[2021-11-25 00:50:30,920] - obspy.clients.fdsn.mass_downloader - INFO: Client 'GEONET' - Will attempt to download data from 1 stations.\n",
      "[2021-11-25 00:50:30,925] - obspy.clients.fdsn.mass_downloader - INFO: Client 'GEONET' - Status for 1 time intervals/channels before downloading: NEEDS_DOWNLOADING\n",
      "[2021-11-25 00:50:31,797] - obspy.clients.fdsn.mass_downloader - INFO: Client 'GEONET' - Successfully downloaded 1 channels (of 1)\n",
      "[2021-11-25 00:50:31,850] - obspy.clients.fdsn.mass_downloader - INFO: Client 'GEONET' - Launching basic QC checks...\n",
      "[2021-11-25 00:50:31,937] - obspy.clients.fdsn.mass_downloader - INFO: Client 'GEONET' - Downloaded 0.0 MB [3.83 KB/sec] of data, 0.0 MB of which were discarded afterwards.\n",
      "[2021-11-25 00:50:31,945] - obspy.clients.fdsn.mass_downloader - INFO: Client 'GEONET' - Status for 1 time intervals/channels after downloading: DOWNLOADED\n",
      "[2021-11-25 00:50:31,959] - obspy.clients.fdsn.mass_downloader - INFO: Client 'GEONET' - No station information to download.\n",
      "[2021-11-25 00:50:31,985] - obspy.clients.fdsn.mass_downloader - INFO: ============================== Final report\n",
      "[2021-11-25 00:50:31,986] - obspy.clients.fdsn.mass_downloader - INFO: 0 MiniSEED files [0.0 MB] already existed.\n",
      "[2021-11-25 00:50:31,987] - obspy.clients.fdsn.mass_downloader - INFO: 1 StationXML files [0.0 MB] already existed.\n",
      "[2021-11-25 00:50:31,988] - obspy.clients.fdsn.mass_downloader - INFO: Client 'GEONET' - Acquired 1 MiniSEED files [0.0 MB].\n",
      "[2021-11-25 00:50:31,988] - obspy.clients.fdsn.mass_downloader - INFO: Client 'GEONET' - Acquired 0 StationXML files [0.0 MB].\n",
      "[2021-11-25 00:50:31,988] - obspy.clients.fdsn.mass_downloader - INFO: Downloaded 0.0 MB in total.\n",
      "[2021-11-25 00:50:32,020] - obspy.clients.fdsn.mass_downloader - INFO: Initializing FDSN client(s) for GEONET.\n",
      "[2021-11-25 00:50:32,098] - obspy.clients.fdsn.mass_downloader - INFO: Successfully initialized 1 client(s): GEONET.\n",
      "[2021-11-25 00:50:32,102] - obspy.clients.fdsn.mass_downloader - INFO: Total acquired or preexisting stations: 0\n",
      "[2021-11-25 00:50:32,103] - obspy.clients.fdsn.mass_downloader - INFO: Client 'GEONET' - Requesting unreliable availability.\n"
     ]
    },
    {
     "name": "stdout",
     "output_type": "stream",
     "text": [
      "=================================================================\n",
      "Initiating mass download request.\n"
     ]
    },
    {
     "name": "stderr",
     "output_type": "stream",
     "text": [
      "[2021-11-25 00:50:32,764] - obspy.clients.fdsn.mass_downloader - INFO: Client 'GEONET' - Successfully requested availability (0.66 seconds)\n",
      "[2021-11-25 00:50:32,795] - obspy.clients.fdsn.mass_downloader - INFO: Client 'GEONET' - Found 1 stations (1 channels).\n",
      "[2021-11-25 00:50:32,808] - obspy.clients.fdsn.mass_downloader - INFO: Client 'GEONET' - Will attempt to download data from 1 stations.\n",
      "[2021-11-25 00:50:32,818] - obspy.clients.fdsn.mass_downloader - INFO: Client 'GEONET' - Status for 1 time intervals/channels before downloading: NEEDS_DOWNLOADING\n",
      "[2021-11-25 00:50:33,701] - obspy.clients.fdsn.mass_downloader - INFO: Client 'GEONET' - Successfully downloaded 1 channels (of 1)\n",
      "[2021-11-25 00:50:33,739] - obspy.clients.fdsn.mass_downloader - INFO: Client 'GEONET' - Launching basic QC checks...\n",
      "[2021-11-25 00:50:33,778] - obspy.clients.fdsn.mass_downloader - INFO: Client 'GEONET' - Downloaded 0.0 MB [3.32 KB/sec] of data, 0.0 MB of which were discarded afterwards.\n",
      "[2021-11-25 00:50:33,783] - obspy.clients.fdsn.mass_downloader - INFO: Client 'GEONET' - Status for 1 time intervals/channels after downloading: DOWNLOADED\n",
      "[2021-11-25 00:50:33,826] - obspy.clients.fdsn.mass_downloader - INFO: Client 'GEONET' - No station information to download.\n",
      "[2021-11-25 00:50:33,834] - obspy.clients.fdsn.mass_downloader - INFO: ============================== Final report\n",
      "[2021-11-25 00:50:33,836] - obspy.clients.fdsn.mass_downloader - INFO: 0 MiniSEED files [0.0 MB] already existed.\n",
      "[2021-11-25 00:50:33,841] - obspy.clients.fdsn.mass_downloader - INFO: 1 StationXML files [0.0 MB] already existed.\n",
      "[2021-11-25 00:50:33,842] - obspy.clients.fdsn.mass_downloader - INFO: Client 'GEONET' - Acquired 1 MiniSEED files [0.0 MB].\n",
      "[2021-11-25 00:50:33,843] - obspy.clients.fdsn.mass_downloader - INFO: Client 'GEONET' - Acquired 0 StationXML files [0.0 MB].\n",
      "[2021-11-25 00:50:33,843] - obspy.clients.fdsn.mass_downloader - INFO: Downloaded 0.0 MB in total.\n",
      "[2021-11-25 00:50:33,862] - obspy.clients.fdsn.mass_downloader - INFO: Initializing FDSN client(s) for GEONET.\n",
      "[2021-11-25 00:50:33,926] - obspy.clients.fdsn.mass_downloader - INFO: Successfully initialized 1 client(s): GEONET.\n",
      "[2021-11-25 00:50:33,934] - obspy.clients.fdsn.mass_downloader - INFO: Total acquired or preexisting stations: 0\n",
      "[2021-11-25 00:50:33,938] - obspy.clients.fdsn.mass_downloader - INFO: Client 'GEONET' - Requesting unreliable availability.\n"
     ]
    },
    {
     "name": "stdout",
     "output_type": "stream",
     "text": [
      "=================================================================\n",
      "Initiating mass download request.\n"
     ]
    },
    {
     "name": "stderr",
     "output_type": "stream",
     "text": [
      "[2021-11-25 00:50:34,644] - obspy.clients.fdsn.mass_downloader - INFO: Client 'GEONET' - Successfully requested availability (0.70 seconds)\n",
      "[2021-11-25 00:50:34,655] - obspy.clients.fdsn.mass_downloader - INFO: Client 'GEONET' - Found 1 stations (1 channels).\n",
      "[2021-11-25 00:50:34,658] - obspy.clients.fdsn.mass_downloader - INFO: Client 'GEONET' - Will attempt to download data from 1 stations.\n",
      "[2021-11-25 00:50:34,664] - obspy.clients.fdsn.mass_downloader - INFO: Client 'GEONET' - Status for 1 time intervals/channels before downloading: NEEDS_DOWNLOADING\n",
      "[2021-11-25 00:50:35,503] - obspy.clients.fdsn.mass_downloader - INFO: Client 'GEONET' - Successfully downloaded 1 channels (of 1)\n",
      "[2021-11-25 00:50:35,556] - obspy.clients.fdsn.mass_downloader - INFO: Client 'GEONET' - Launching basic QC checks...\n",
      "[2021-11-25 00:50:35,650] - obspy.clients.fdsn.mass_downloader - INFO: Client 'GEONET' - Downloaded 0.0 MB [4.52 KB/sec] of data, 0.0 MB of which were discarded afterwards.\n",
      "[2021-11-25 00:50:35,653] - obspy.clients.fdsn.mass_downloader - INFO: Client 'GEONET' - Status for 1 time intervals/channels after downloading: DOWNLOADED\n",
      "[2021-11-25 00:50:35,731] - obspy.clients.fdsn.mass_downloader - INFO: Client 'GEONET' - No station information to download.\n",
      "[2021-11-25 00:50:35,753] - obspy.clients.fdsn.mass_downloader - INFO: ============================== Final report\n",
      "[2021-11-25 00:50:35,756] - obspy.clients.fdsn.mass_downloader - INFO: 0 MiniSEED files [0.0 MB] already existed.\n",
      "[2021-11-25 00:50:35,762] - obspy.clients.fdsn.mass_downloader - INFO: 1 StationXML files [0.0 MB] already existed.\n",
      "[2021-11-25 00:50:35,772] - obspy.clients.fdsn.mass_downloader - INFO: Client 'GEONET' - Acquired 1 MiniSEED files [0.0 MB].\n",
      "[2021-11-25 00:50:35,773] - obspy.clients.fdsn.mass_downloader - INFO: Client 'GEONET' - Acquired 0 StationXML files [0.0 MB].\n",
      "[2021-11-25 00:50:35,773] - obspy.clients.fdsn.mass_downloader - INFO: Downloaded 0.0 MB in total.\n",
      "[2021-11-25 00:50:35,825] - obspy.clients.fdsn.mass_downloader - INFO: Initializing FDSN client(s) for GEONET.\n",
      "[2021-11-25 00:50:35,846] - obspy.clients.fdsn.mass_downloader - INFO: Successfully initialized 1 client(s): GEONET.\n",
      "[2021-11-25 00:50:35,849] - obspy.clients.fdsn.mass_downloader - INFO: Total acquired or preexisting stations: 0\n",
      "[2021-11-25 00:50:35,853] - obspy.clients.fdsn.mass_downloader - INFO: Client 'GEONET' - Requesting unreliable availability.\n"
     ]
    },
    {
     "name": "stdout",
     "output_type": "stream",
     "text": [
      "=================================================================\n",
      "Initiating mass download request.\n"
     ]
    },
    {
     "name": "stderr",
     "output_type": "stream",
     "text": [
      "[2021-11-25 00:50:36,420] - obspy.clients.fdsn.mass_downloader - INFO: Client 'GEONET' - Successfully requested availability (0.57 seconds)\n",
      "[2021-11-25 00:50:36,437] - obspy.clients.fdsn.mass_downloader - INFO: Client 'GEONET' - Found 1 stations (1 channels).\n",
      "[2021-11-25 00:50:36,438] - obspy.clients.fdsn.mass_downloader - INFO: Client 'GEONET' - Will attempt to download data from 1 stations.\n",
      "[2021-11-25 00:50:36,439] - obspy.clients.fdsn.mass_downloader - INFO: Client 'GEONET' - Status for 1 time intervals/channels before downloading: NEEDS_DOWNLOADING\n",
      "[2021-11-25 00:50:37,178] - obspy.clients.fdsn.mass_downloader - INFO: Client 'GEONET' - Successfully downloaded 1 channels (of 1)\n",
      "[2021-11-25 00:50:37,180] - obspy.clients.fdsn.mass_downloader - INFO: Client 'GEONET' - Launching basic QC checks...\n",
      "[2021-11-25 00:50:37,184] - obspy.clients.fdsn.mass_downloader - INFO: Client 'GEONET' - Downloaded 0.0 MB [4.12 KB/sec] of data, 0.0 MB of which were discarded afterwards.\n",
      "[2021-11-25 00:50:37,184] - obspy.clients.fdsn.mass_downloader - INFO: Client 'GEONET' - Status for 1 time intervals/channels after downloading: DOWNLOADED\n",
      "[2021-11-25 00:50:37,189] - obspy.clients.fdsn.mass_downloader - INFO: Client 'GEONET' - No station information to download.\n",
      "[2021-11-25 00:50:37,191] - obspy.clients.fdsn.mass_downloader - INFO: ============================== Final report\n",
      "[2021-11-25 00:50:37,192] - obspy.clients.fdsn.mass_downloader - INFO: 0 MiniSEED files [0.0 MB] already existed.\n",
      "[2021-11-25 00:50:37,192] - obspy.clients.fdsn.mass_downloader - INFO: 1 StationXML files [0.0 MB] already existed.\n",
      "[2021-11-25 00:50:37,193] - obspy.clients.fdsn.mass_downloader - INFO: Client 'GEONET' - Acquired 1 MiniSEED files [0.0 MB].\n",
      "[2021-11-25 00:50:37,193] - obspy.clients.fdsn.mass_downloader - INFO: Client 'GEONET' - Acquired 0 StationXML files [0.0 MB].\n",
      "[2021-11-25 00:50:37,193] - obspy.clients.fdsn.mass_downloader - INFO: Downloaded 0.0 MB in total.\n",
      "[2021-11-25 00:50:37,203] - obspy.clients.fdsn.mass_downloader - INFO: Initializing FDSN client(s) for GEONET.\n",
      "[2021-11-25 00:50:37,222] - obspy.clients.fdsn.mass_downloader - INFO: Successfully initialized 1 client(s): GEONET.\n",
      "[2021-11-25 00:50:37,225] - obspy.clients.fdsn.mass_downloader - INFO: Total acquired or preexisting stations: 0\n",
      "[2021-11-25 00:50:37,228] - obspy.clients.fdsn.mass_downloader - INFO: Client 'GEONET' - Requesting unreliable availability.\n"
     ]
    },
    {
     "name": "stdout",
     "output_type": "stream",
     "text": [
      "=================================================================\n",
      "Initiating mass download request.\n"
     ]
    },
    {
     "name": "stderr",
     "output_type": "stream",
     "text": [
      "[2021-11-25 00:50:37,852] - obspy.clients.fdsn.mass_downloader - INFO: Client 'GEONET' - Successfully requested availability (0.62 seconds)\n",
      "[2021-11-25 00:50:37,862] - obspy.clients.fdsn.mass_downloader - INFO: Client 'GEONET' - Found 1 stations (1 channels).\n",
      "[2021-11-25 00:50:37,865] - obspy.clients.fdsn.mass_downloader - INFO: Client 'GEONET' - Will attempt to download data from 1 stations.\n",
      "[2021-11-25 00:50:37,867] - obspy.clients.fdsn.mass_downloader - INFO: Client 'GEONET' - Status for 1 time intervals/channels before downloading: NEEDS_DOWNLOADING\n",
      "[2021-11-25 00:50:38,682] - obspy.clients.fdsn.mass_downloader - INFO: Client 'GEONET' - Successfully downloaded 1 channels (of 1)\n",
      "[2021-11-25 00:50:38,716] - obspy.clients.fdsn.mass_downloader - INFO: Client 'GEONET' - Launching basic QC checks...\n",
      "[2021-11-25 00:50:38,737] - obspy.clients.fdsn.mass_downloader - INFO: Client 'GEONET' - Downloaded 0.0 MB [3.63 KB/sec] of data, 0.0 MB of which were discarded afterwards.\n",
      "[2021-11-25 00:50:38,739] - obspy.clients.fdsn.mass_downloader - INFO: Client 'GEONET' - Status for 1 time intervals/channels after downloading: DOWNLOADED\n",
      "[2021-11-25 00:50:38,745] - obspy.clients.fdsn.mass_downloader - INFO: Client 'GEONET' - No station information to download.\n",
      "[2021-11-25 00:50:38,748] - obspy.clients.fdsn.mass_downloader - INFO: ============================== Final report\n",
      "[2021-11-25 00:50:38,748] - obspy.clients.fdsn.mass_downloader - INFO: 0 MiniSEED files [0.0 MB] already existed.\n",
      "[2021-11-25 00:50:38,749] - obspy.clients.fdsn.mass_downloader - INFO: 1 StationXML files [0.0 MB] already existed.\n",
      "[2021-11-25 00:50:38,750] - obspy.clients.fdsn.mass_downloader - INFO: Client 'GEONET' - Acquired 1 MiniSEED files [0.0 MB].\n",
      "[2021-11-25 00:50:38,750] - obspy.clients.fdsn.mass_downloader - INFO: Client 'GEONET' - Acquired 0 StationXML files [0.0 MB].\n",
      "[2021-11-25 00:50:38,750] - obspy.clients.fdsn.mass_downloader - INFO: Downloaded 0.0 MB in total.\n",
      "[2021-11-25 00:50:38,754] - obspy.clients.fdsn.mass_downloader - INFO: Initializing FDSN client(s) for GEONET.\n",
      "[2021-11-25 00:50:38,768] - obspy.clients.fdsn.mass_downloader - INFO: Successfully initialized 1 client(s): GEONET.\n",
      "[2021-11-25 00:50:38,772] - obspy.clients.fdsn.mass_downloader - INFO: Total acquired or preexisting stations: 0\n",
      "[2021-11-25 00:50:38,774] - obspy.clients.fdsn.mass_downloader - INFO: Client 'GEONET' - Requesting unreliable availability.\n"
     ]
    },
    {
     "name": "stdout",
     "output_type": "stream",
     "text": [
      "=================================================================\n",
      "Initiating mass download request.\n"
     ]
    },
    {
     "name": "stderr",
     "output_type": "stream",
     "text": [
      "[2021-11-25 00:50:39,384] - obspy.clients.fdsn.mass_downloader - INFO: Client 'GEONET' - Successfully requested availability (0.61 seconds)\n",
      "[2021-11-25 00:50:39,399] - obspy.clients.fdsn.mass_downloader - INFO: Client 'GEONET' - Found 1 stations (1 channels).\n",
      "[2021-11-25 00:50:39,405] - obspy.clients.fdsn.mass_downloader - INFO: Client 'GEONET' - Will attempt to download data from 1 stations.\n",
      "[2021-11-25 00:50:39,408] - obspy.clients.fdsn.mass_downloader - INFO: Client 'GEONET' - Status for 1 time intervals/channels before downloading: NEEDS_DOWNLOADING\n",
      "[2021-11-25 00:50:40,221] - obspy.clients.fdsn.mass_downloader - INFO: Client 'GEONET' - Successfully downloaded 1 channels (of 1)\n",
      "[2021-11-25 00:50:40,306] - obspy.clients.fdsn.mass_downloader - INFO: Client 'GEONET' - Launching basic QC checks...\n",
      "[2021-11-25 00:50:40,348] - obspy.clients.fdsn.mass_downloader - INFO: Client 'GEONET' - Downloaded 0.0 MB [6.16 KB/sec] of data, 0.0 MB of which were discarded afterwards.\n",
      "[2021-11-25 00:50:40,352] - obspy.clients.fdsn.mass_downloader - INFO: Client 'GEONET' - Status for 1 time intervals/channels after downloading: DOWNLOADED\n",
      "[2021-11-25 00:50:40,361] - obspy.clients.fdsn.mass_downloader - INFO: Client 'GEONET' - No station information to download.\n",
      "[2021-11-25 00:50:40,373] - obspy.clients.fdsn.mass_downloader - INFO: ============================== Final report\n",
      "[2021-11-25 00:50:40,377] - obspy.clients.fdsn.mass_downloader - INFO: 0 MiniSEED files [0.0 MB] already existed.\n",
      "[2021-11-25 00:50:40,381] - obspy.clients.fdsn.mass_downloader - INFO: 1 StationXML files [0.0 MB] already existed.\n",
      "[2021-11-25 00:50:40,386] - obspy.clients.fdsn.mass_downloader - INFO: Client 'GEONET' - Acquired 1 MiniSEED files [0.0 MB].\n",
      "[2021-11-25 00:50:40,388] - obspy.clients.fdsn.mass_downloader - INFO: Client 'GEONET' - Acquired 0 StationXML files [0.0 MB].\n",
      "[2021-11-25 00:50:40,391] - obspy.clients.fdsn.mass_downloader - INFO: Downloaded 0.0 MB in total.\n",
      "[2021-11-25 00:50:40,423] - obspy.clients.fdsn.mass_downloader - INFO: Initializing FDSN client(s) for GEONET.\n",
      "[2021-11-25 00:50:40,477] - obspy.clients.fdsn.mass_downloader - INFO: Successfully initialized 1 client(s): GEONET.\n",
      "[2021-11-25 00:50:40,488] - obspy.clients.fdsn.mass_downloader - INFO: Total acquired or preexisting stations: 0\n",
      "[2021-11-25 00:50:40,490] - obspy.clients.fdsn.mass_downloader - INFO: Client 'GEONET' - Requesting unreliable availability.\n"
     ]
    },
    {
     "name": "stdout",
     "output_type": "stream",
     "text": [
      "=================================================================\n",
      "Initiating mass download request.\n"
     ]
    },
    {
     "name": "stderr",
     "output_type": "stream",
     "text": [
      "[2021-11-25 00:50:41,100] - obspy.clients.fdsn.mass_downloader - INFO: Client 'GEONET' - Successfully requested availability (0.60 seconds)\n",
      "[2021-11-25 00:50:41,151] - obspy.clients.fdsn.mass_downloader - INFO: Client 'GEONET' - Found 1 stations (1 channels).\n",
      "[2021-11-25 00:50:41,173] - obspy.clients.fdsn.mass_downloader - INFO: Client 'GEONET' - Will attempt to download data from 1 stations.\n",
      "[2021-11-25 00:50:41,183] - obspy.clients.fdsn.mass_downloader - INFO: Client 'GEONET' - Status for 1 time intervals/channels before downloading: NEEDS_DOWNLOADING\n",
      "[2021-11-25 00:50:42,051] - obspy.clients.fdsn.mass_downloader - INFO: Client 'GEONET' - Successfully downloaded 1 channels (of 1)\n",
      "[2021-11-25 00:50:42,174] - obspy.clients.fdsn.mass_downloader - INFO: Client 'GEONET' - Launching basic QC checks...\n",
      "[2021-11-25 00:50:42,272] - obspy.clients.fdsn.mass_downloader - INFO: Client 'GEONET' - Downloaded 0.0 MB [4.76 KB/sec] of data, 0.0 MB of which were discarded afterwards.\n",
      "[2021-11-25 00:50:42,305] - obspy.clients.fdsn.mass_downloader - INFO: Client 'GEONET' - Status for 1 time intervals/channels after downloading: DOWNLOADED\n",
      "[2021-11-25 00:50:42,319] - obspy.clients.fdsn.mass_downloader - INFO: Client 'GEONET' - No station information to download.\n",
      "[2021-11-25 00:50:42,335] - obspy.clients.fdsn.mass_downloader - INFO: ============================== Final report\n",
      "[2021-11-25 00:50:42,337] - obspy.clients.fdsn.mass_downloader - INFO: 0 MiniSEED files [0.0 MB] already existed.\n",
      "[2021-11-25 00:50:42,338] - obspy.clients.fdsn.mass_downloader - INFO: 1 StationXML files [0.0 MB] already existed.\n",
      "[2021-11-25 00:50:42,341] - obspy.clients.fdsn.mass_downloader - INFO: Client 'GEONET' - Acquired 1 MiniSEED files [0.0 MB].\n",
      "[2021-11-25 00:50:42,344] - obspy.clients.fdsn.mass_downloader - INFO: Client 'GEONET' - Acquired 0 StationXML files [0.0 MB].\n",
      "[2021-11-25 00:50:42,359] - obspy.clients.fdsn.mass_downloader - INFO: Downloaded 0.0 MB in total.\n",
      "[2021-11-25 00:50:42,422] - obspy.clients.fdsn.mass_downloader - INFO: Initializing FDSN client(s) for GEONET.\n",
      "[2021-11-25 00:50:42,478] - obspy.clients.fdsn.mass_downloader - INFO: Successfully initialized 1 client(s): GEONET.\n",
      "[2021-11-25 00:50:42,499] - obspy.clients.fdsn.mass_downloader - INFO: Total acquired or preexisting stations: 0\n",
      "[2021-11-25 00:50:42,525] - obspy.clients.fdsn.mass_downloader - INFO: Client 'GEONET' - Requesting unreliable availability.\n"
     ]
    },
    {
     "name": "stdout",
     "output_type": "stream",
     "text": [
      "=================================================================\n",
      "Initiating mass download request.\n"
     ]
    },
    {
     "name": "stderr",
     "output_type": "stream",
     "text": [
      "[2021-11-25 00:50:43,288] - obspy.clients.fdsn.mass_downloader - INFO: Client 'GEONET' - Successfully requested availability (0.76 seconds)\n",
      "[2021-11-25 00:50:43,299] - obspy.clients.fdsn.mass_downloader - INFO: Client 'GEONET' - Found 1 stations (1 channels).\n",
      "[2021-11-25 00:50:43,304] - obspy.clients.fdsn.mass_downloader - INFO: Client 'GEONET' - Will attempt to download data from 1 stations.\n",
      "[2021-11-25 00:50:43,309] - obspy.clients.fdsn.mass_downloader - INFO: Client 'GEONET' - Status for 1 time intervals/channels before downloading: NEEDS_DOWNLOADING\n",
      "[2021-11-25 00:50:44,158] - obspy.clients.fdsn.mass_downloader - INFO: Client 'GEONET' - Successfully downloaded 1 channels (of 1)\n",
      "[2021-11-25 00:50:44,199] - obspy.clients.fdsn.mass_downloader - INFO: Client 'GEONET' - Launching basic QC checks...\n",
      "[2021-11-25 00:50:44,242] - obspy.clients.fdsn.mass_downloader - INFO: Client 'GEONET' - Downloaded 0.0 MB [4.58 KB/sec] of data, 0.0 MB of which were discarded afterwards.\n",
      "[2021-11-25 00:50:44,248] - obspy.clients.fdsn.mass_downloader - INFO: Client 'GEONET' - Status for 1 time intervals/channels after downloading: DOWNLOADED\n",
      "[2021-11-25 00:50:44,266] - obspy.clients.fdsn.mass_downloader - INFO: Client 'GEONET' - No station information to download.\n",
      "[2021-11-25 00:50:44,277] - obspy.clients.fdsn.mass_downloader - INFO: ============================== Final report\n",
      "[2021-11-25 00:50:44,282] - obspy.clients.fdsn.mass_downloader - INFO: 0 MiniSEED files [0.0 MB] already existed.\n",
      "[2021-11-25 00:50:44,283] - obspy.clients.fdsn.mass_downloader - INFO: 1 StationXML files [0.0 MB] already existed.\n",
      "[2021-11-25 00:50:44,283] - obspy.clients.fdsn.mass_downloader - INFO: Client 'GEONET' - Acquired 1 MiniSEED files [0.0 MB].\n",
      "[2021-11-25 00:50:44,286] - obspy.clients.fdsn.mass_downloader - INFO: Client 'GEONET' - Acquired 0 StationXML files [0.0 MB].\n",
      "[2021-11-25 00:50:44,287] - obspy.clients.fdsn.mass_downloader - INFO: Downloaded 0.0 MB in total.\n",
      "[2021-11-25 00:50:44,310] - obspy.clients.fdsn.mass_downloader - INFO: Initializing FDSN client(s) for GEONET.\n",
      "[2021-11-25 00:50:44,346] - obspy.clients.fdsn.mass_downloader - INFO: Successfully initialized 1 client(s): GEONET.\n",
      "[2021-11-25 00:50:44,351] - obspy.clients.fdsn.mass_downloader - INFO: Total acquired or preexisting stations: 0\n",
      "[2021-11-25 00:50:44,354] - obspy.clients.fdsn.mass_downloader - INFO: Client 'GEONET' - Requesting unreliable availability.\n"
     ]
    },
    {
     "name": "stdout",
     "output_type": "stream",
     "text": [
      "=================================================================\n",
      "Initiating mass download request.\n"
     ]
    },
    {
     "name": "stderr",
     "output_type": "stream",
     "text": [
      "[2021-11-25 00:50:45,021] - obspy.clients.fdsn.mass_downloader - INFO: Client 'GEONET' - Successfully requested availability (0.66 seconds)\n",
      "[2021-11-25 00:50:45,039] - obspy.clients.fdsn.mass_downloader - INFO: Client 'GEONET' - Found 1 stations (1 channels).\n",
      "[2021-11-25 00:50:45,060] - obspy.clients.fdsn.mass_downloader - INFO: Client 'GEONET' - Will attempt to download data from 1 stations.\n",
      "[2021-11-25 00:50:45,073] - obspy.clients.fdsn.mass_downloader - INFO: Client 'GEONET' - Status for 1 time intervals/channels before downloading: NEEDS_DOWNLOADING\n",
      "[2021-11-25 00:50:45,777] - obspy.clients.fdsn.mass_downloader - INFO: Client 'GEONET' - Successfully downloaded 0 channels (of 1)\n",
      "[2021-11-25 00:50:45,791] - obspy.clients.fdsn.mass_downloader - INFO: Client 'GEONET' - Launching basic QC checks...\n",
      "[2021-11-25 00:50:45,793] - obspy.clients.fdsn.mass_downloader - INFO: Client 'GEONET' - Downloaded 0.0 MB [0.00 KB/sec] of data, 0.0 MB of which were discarded afterwards.\n",
      "[2021-11-25 00:50:45,798] - obspy.clients.fdsn.mass_downloader - INFO: Client 'GEONET' - Status for 1 time intervals/channels after downloading: DOWNLOAD_FAILED\n",
      "[2021-11-25 00:50:45,804] - obspy.clients.fdsn.mass_downloader - INFO: Client 'GEONET' - No station information to download.\n",
      "[2021-11-25 00:50:45,807] - obspy.clients.fdsn.mass_downloader - INFO: Client 'GEONET' - No data could be downloaded.\n",
      "[2021-11-25 00:50:45,811] - obspy.clients.fdsn.mass_downloader - INFO: ============================== Final report\n",
      "[2021-11-25 00:50:45,811] - obspy.clients.fdsn.mass_downloader - INFO: 0 MiniSEED files [0.0 MB] already existed.\n",
      "[2021-11-25 00:50:45,812] - obspy.clients.fdsn.mass_downloader - INFO: 0 StationXML files [0.0 MB] already existed.\n",
      "[2021-11-25 00:50:45,813] - obspy.clients.fdsn.mass_downloader - INFO: Client 'GEONET' - Acquired 0 MiniSEED files [0.0 MB].\n",
      "[2021-11-25 00:50:45,817] - obspy.clients.fdsn.mass_downloader - INFO: Client 'GEONET' - Acquired 0 StationXML files [0.0 MB].\n",
      "[2021-11-25 00:50:45,818] - obspy.clients.fdsn.mass_downloader - INFO: Downloaded 0.0 MB in total.\n",
      "[2021-11-25 00:50:45,826] - obspy.clients.fdsn.mass_downloader - INFO: Initializing FDSN client(s) for GEONET.\n",
      "[2021-11-25 00:50:45,851] - obspy.clients.fdsn.mass_downloader - INFO: Successfully initialized 1 client(s): GEONET.\n",
      "[2021-11-25 00:50:45,854] - obspy.clients.fdsn.mass_downloader - INFO: Total acquired or preexisting stations: 0\n",
      "[2021-11-25 00:50:45,855] - obspy.clients.fdsn.mass_downloader - INFO: Client 'GEONET' - Requesting unreliable availability.\n"
     ]
    },
    {
     "name": "stdout",
     "output_type": "stream",
     "text": [
      "=================================================================\n",
      "Initiating mass download request.\n"
     ]
    },
    {
     "name": "stderr",
     "output_type": "stream",
     "text": [
      "[2021-11-25 00:50:46,505] - obspy.clients.fdsn.mass_downloader - INFO: Client 'GEONET' - Successfully requested availability (0.65 seconds)\n",
      "[2021-11-25 00:50:46,516] - obspy.clients.fdsn.mass_downloader - INFO: Client 'GEONET' - Found 1 stations (1 channels).\n",
      "[2021-11-25 00:50:46,518] - obspy.clients.fdsn.mass_downloader - INFO: Client 'GEONET' - Will attempt to download data from 1 stations.\n",
      "[2021-11-25 00:50:46,522] - obspy.clients.fdsn.mass_downloader - INFO: Client 'GEONET' - Status for 1 time intervals/channels before downloading: NEEDS_DOWNLOADING\n",
      "[2021-11-25 00:50:47,231] - obspy.clients.fdsn.mass_downloader - INFO: Client 'GEONET' - Successfully downloaded 1 channels (of 1)\n",
      "[2021-11-25 00:50:47,244] - obspy.clients.fdsn.mass_downloader - INFO: Client 'GEONET' - Launching basic QC checks...\n",
      "[2021-11-25 00:50:47,267] - obspy.clients.fdsn.mass_downloader - INFO: Client 'GEONET' - Downloaded 0.0 MB [4.90 KB/sec] of data, 0.0 MB of which were discarded afterwards.\n",
      "[2021-11-25 00:50:47,271] - obspy.clients.fdsn.mass_downloader - INFO: Client 'GEONET' - Status for 1 time intervals/channels after downloading: DOWNLOADED\n",
      "[2021-11-25 00:50:47,279] - obspy.clients.fdsn.mass_downloader - INFO: Client 'GEONET' - No station information to download.\n",
      "[2021-11-25 00:50:47,281] - obspy.clients.fdsn.mass_downloader - INFO: ============================== Final report\n",
      "[2021-11-25 00:50:47,282] - obspy.clients.fdsn.mass_downloader - INFO: 0 MiniSEED files [0.0 MB] already existed.\n",
      "[2021-11-25 00:50:47,283] - obspy.clients.fdsn.mass_downloader - INFO: 1 StationXML files [0.0 MB] already existed.\n",
      "[2021-11-25 00:50:47,283] - obspy.clients.fdsn.mass_downloader - INFO: Client 'GEONET' - Acquired 1 MiniSEED files [0.0 MB].\n",
      "[2021-11-25 00:50:47,284] - obspy.clients.fdsn.mass_downloader - INFO: Client 'GEONET' - Acquired 0 StationXML files [0.0 MB].\n",
      "[2021-11-25 00:50:47,284] - obspy.clients.fdsn.mass_downloader - INFO: Downloaded 0.0 MB in total.\n",
      "[2021-11-25 00:50:47,287] - obspy.clients.fdsn.mass_downloader - INFO: Initializing FDSN client(s) for GEONET.\n",
      "[2021-11-25 00:50:47,296] - obspy.clients.fdsn.mass_downloader - INFO: Successfully initialized 1 client(s): GEONET.\n",
      "[2021-11-25 00:50:47,298] - obspy.clients.fdsn.mass_downloader - INFO: Total acquired or preexisting stations: 0\n",
      "[2021-11-25 00:50:47,298] - obspy.clients.fdsn.mass_downloader - INFO: Client 'GEONET' - Requesting unreliable availability.\n"
     ]
    },
    {
     "name": "stdout",
     "output_type": "stream",
     "text": [
      "=================================================================\n",
      "Initiating mass download request.\n"
     ]
    },
    {
     "name": "stderr",
     "output_type": "stream",
     "text": [
      "[2021-11-25 00:50:47,898] - obspy.clients.fdsn.mass_downloader - INFO: Client 'GEONET' - Successfully requested availability (0.60 seconds)\n",
      "[2021-11-25 00:50:47,917] - obspy.clients.fdsn.mass_downloader - INFO: Client 'GEONET' - Found 1 stations (1 channels).\n",
      "[2021-11-25 00:50:47,920] - obspy.clients.fdsn.mass_downloader - INFO: Client 'GEONET' - Will attempt to download data from 1 stations.\n",
      "[2021-11-25 00:50:47,930] - obspy.clients.fdsn.mass_downloader - INFO: Client 'GEONET' - Status for 1 time intervals/channels before downloading: NEEDS_DOWNLOADING\n",
      "[2021-11-25 00:50:48,795] - obspy.clients.fdsn.mass_downloader - INFO: Client 'GEONET' - Successfully downloaded 1 channels (of 1)\n",
      "[2021-11-25 00:50:48,933] - obspy.clients.fdsn.mass_downloader - INFO: Client 'GEONET' - Launching basic QC checks...\n",
      "[2021-11-25 00:50:49,031] - obspy.clients.fdsn.mass_downloader - INFO: Client 'GEONET' - Downloaded 0.0 MB [3.53 KB/sec] of data, 0.0 MB of which were discarded afterwards.\n",
      "[2021-11-25 00:50:49,046] - obspy.clients.fdsn.mass_downloader - INFO: Client 'GEONET' - Status for 1 time intervals/channels after downloading: DOWNLOADED\n",
      "[2021-11-25 00:50:49,057] - obspy.clients.fdsn.mass_downloader - INFO: Client 'GEONET' - No station information to download.\n",
      "[2021-11-25 00:50:49,079] - obspy.clients.fdsn.mass_downloader - INFO: ============================== Final report\n",
      "[2021-11-25 00:50:49,082] - obspy.clients.fdsn.mass_downloader - INFO: 0 MiniSEED files [0.0 MB] already existed.\n",
      "[2021-11-25 00:50:49,097] - obspy.clients.fdsn.mass_downloader - INFO: 1 StationXML files [0.0 MB] already existed.\n",
      "[2021-11-25 00:50:49,112] - obspy.clients.fdsn.mass_downloader - INFO: Client 'GEONET' - Acquired 1 MiniSEED files [0.0 MB].\n",
      "[2021-11-25 00:50:49,113] - obspy.clients.fdsn.mass_downloader - INFO: Client 'GEONET' - Acquired 0 StationXML files [0.0 MB].\n",
      "[2021-11-25 00:50:49,122] - obspy.clients.fdsn.mass_downloader - INFO: Downloaded 0.0 MB in total.\n",
      "[2021-11-25 00:50:49,203] - obspy.clients.fdsn.mass_downloader - INFO: Initializing FDSN client(s) for GEONET.\n",
      "[2021-11-25 00:50:49,231] - obspy.clients.fdsn.mass_downloader - INFO: Successfully initialized 1 client(s): GEONET.\n",
      "[2021-11-25 00:50:49,241] - obspy.clients.fdsn.mass_downloader - INFO: Total acquired or preexisting stations: 0\n",
      "[2021-11-25 00:50:49,247] - obspy.clients.fdsn.mass_downloader - INFO: Client 'GEONET' - Requesting unreliable availability.\n"
     ]
    },
    {
     "name": "stdout",
     "output_type": "stream",
     "text": [
      "=================================================================\n",
      "Initiating mass download request.\n"
     ]
    },
    {
     "name": "stderr",
     "output_type": "stream",
     "text": [
      "[2021-11-25 00:50:49,849] - obspy.clients.fdsn.mass_downloader - INFO: Client 'GEONET' - Successfully requested availability (0.56 seconds)\n",
      "[2021-11-25 00:50:49,858] - obspy.clients.fdsn.mass_downloader - INFO: Client 'GEONET' - Found 1 stations (1 channels).\n",
      "[2021-11-25 00:50:49,860] - obspy.clients.fdsn.mass_downloader - INFO: Client 'GEONET' - Will attempt to download data from 1 stations.\n",
      "[2021-11-25 00:50:49,864] - obspy.clients.fdsn.mass_downloader - INFO: Client 'GEONET' - Status for 1 time intervals/channels before downloading: NEEDS_DOWNLOADING\n",
      "[2021-11-25 00:50:50,661] - obspy.clients.fdsn.mass_downloader - INFO: Client 'GEONET' - Successfully downloaded 1 channels (of 1)\n",
      "[2021-11-25 00:50:50,686] - obspy.clients.fdsn.mass_downloader - INFO: Client 'GEONET' - Launching basic QC checks...\n",
      "[2021-11-25 00:50:50,707] - obspy.clients.fdsn.mass_downloader - INFO: Client 'GEONET' - Downloaded 0.0 MB [4.29 KB/sec] of data, 0.0 MB of which were discarded afterwards.\n",
      "[2021-11-25 00:50:50,712] - obspy.clients.fdsn.mass_downloader - INFO: Client 'GEONET' - Status for 1 time intervals/channels after downloading: DOWNLOADED\n",
      "[2021-11-25 00:50:50,723] - obspy.clients.fdsn.mass_downloader - INFO: Client 'GEONET' - No station information to download.\n",
      "[2021-11-25 00:50:50,729] - obspy.clients.fdsn.mass_downloader - INFO: ============================== Final report\n",
      "[2021-11-25 00:50:50,730] - obspy.clients.fdsn.mass_downloader - INFO: 0 MiniSEED files [0.0 MB] already existed.\n",
      "[2021-11-25 00:50:50,732] - obspy.clients.fdsn.mass_downloader - INFO: 1 StationXML files [0.0 MB] already existed.\n",
      "[2021-11-25 00:50:50,735] - obspy.clients.fdsn.mass_downloader - INFO: Client 'GEONET' - Acquired 1 MiniSEED files [0.0 MB].\n",
      "[2021-11-25 00:50:50,735] - obspy.clients.fdsn.mass_downloader - INFO: Client 'GEONET' - Acquired 0 StationXML files [0.0 MB].\n",
      "[2021-11-25 00:50:50,736] - obspy.clients.fdsn.mass_downloader - INFO: Downloaded 0.0 MB in total.\n",
      "[2021-11-25 00:50:50,748] - obspy.clients.fdsn.mass_downloader - INFO: Initializing FDSN client(s) for GEONET.\n",
      "[2021-11-25 00:50:50,769] - obspy.clients.fdsn.mass_downloader - INFO: Successfully initialized 1 client(s): GEONET.\n",
      "[2021-11-25 00:50:50,775] - obspy.clients.fdsn.mass_downloader - INFO: Total acquired or preexisting stations: 0\n",
      "[2021-11-25 00:50:50,777] - obspy.clients.fdsn.mass_downloader - INFO: Client 'GEONET' - Requesting unreliable availability.\n"
     ]
    },
    {
     "name": "stdout",
     "output_type": "stream",
     "text": [
      "=================================================================\n",
      "Initiating mass download request.\n"
     ]
    },
    {
     "name": "stderr",
     "output_type": "stream",
     "text": [
      "[2021-11-25 00:50:51,403] - obspy.clients.fdsn.mass_downloader - INFO: Client 'GEONET' - Successfully requested availability (0.62 seconds)\n",
      "[2021-11-25 00:50:51,501] - obspy.clients.fdsn.mass_downloader - INFO: Client 'GEONET' - Found 1 stations (1 channels).\n",
      "[2021-11-25 00:50:51,546] - obspy.clients.fdsn.mass_downloader - INFO: Client 'GEONET' - Will attempt to download data from 1 stations.\n",
      "[2021-11-25 00:50:51,555] - obspy.clients.fdsn.mass_downloader - INFO: Client 'GEONET' - Status for 1 time intervals/channels before downloading: NEEDS_DOWNLOADING\n",
      "[2021-11-25 00:50:52,400] - obspy.clients.fdsn.mass_downloader - INFO: Client 'GEONET' - Successfully downloaded 1 channels (of 1)\n",
      "[2021-11-25 00:50:52,505] - obspy.clients.fdsn.mass_downloader - INFO: Client 'GEONET' - Launching basic QC checks...\n",
      "[2021-11-25 00:50:52,635] - obspy.clients.fdsn.mass_downloader - INFO: Client 'GEONET' - Downloaded 0.0 MB [3.84 KB/sec] of data, 0.0 MB of which were discarded afterwards.\n",
      "[2021-11-25 00:50:52,641] - obspy.clients.fdsn.mass_downloader - INFO: Client 'GEONET' - Status for 1 time intervals/channels after downloading: DOWNLOADED\n",
      "[2021-11-25 00:50:52,672] - obspy.clients.fdsn.mass_downloader - INFO: Client 'GEONET' - No station information to download.\n",
      "[2021-11-25 00:50:52,684] - obspy.clients.fdsn.mass_downloader - INFO: ============================== Final report\n",
      "[2021-11-25 00:50:52,686] - obspy.clients.fdsn.mass_downloader - INFO: 0 MiniSEED files [0.0 MB] already existed.\n",
      "[2021-11-25 00:50:52,687] - obspy.clients.fdsn.mass_downloader - INFO: 1 StationXML files [0.0 MB] already existed.\n",
      "[2021-11-25 00:50:52,693] - obspy.clients.fdsn.mass_downloader - INFO: Client 'GEONET' - Acquired 1 MiniSEED files [0.0 MB].\n",
      "[2021-11-25 00:50:52,694] - obspy.clients.fdsn.mass_downloader - INFO: Client 'GEONET' - Acquired 0 StationXML files [0.0 MB].\n",
      "[2021-11-25 00:50:52,700] - obspy.clients.fdsn.mass_downloader - INFO: Downloaded 0.0 MB in total.\n",
      "[2021-11-25 00:50:52,789] - obspy.clients.fdsn.mass_downloader - INFO: Initializing FDSN client(s) for GEONET.\n",
      "[2021-11-25 00:50:52,899] - obspy.clients.fdsn.mass_downloader - INFO: Successfully initialized 1 client(s): GEONET.\n",
      "[2021-11-25 00:50:52,916] - obspy.clients.fdsn.mass_downloader - INFO: Total acquired or preexisting stations: 0\n",
      "[2021-11-25 00:50:52,923] - obspy.clients.fdsn.mass_downloader - INFO: Client 'GEONET' - Requesting unreliable availability.\n"
     ]
    },
    {
     "name": "stdout",
     "output_type": "stream",
     "text": [
      "=================================================================\n",
      "Initiating mass download request.\n"
     ]
    },
    {
     "name": "stderr",
     "output_type": "stream",
     "text": [
      "[2021-11-25 00:50:53,713] - obspy.clients.fdsn.mass_downloader - INFO: Client 'GEONET' - Successfully requested availability (0.77 seconds)\n",
      "[2021-11-25 00:50:53,769] - obspy.clients.fdsn.mass_downloader - INFO: Client 'GEONET' - Found 1 stations (1 channels).\n",
      "[2021-11-25 00:50:53,785] - obspy.clients.fdsn.mass_downloader - INFO: Client 'GEONET' - Will attempt to download data from 1 stations.\n",
      "[2021-11-25 00:50:53,788] - obspy.clients.fdsn.mass_downloader - INFO: Client 'GEONET' - Status for 1 time intervals/channels before downloading: NEEDS_DOWNLOADING\n",
      "[2021-11-25 00:50:54,568] - obspy.clients.fdsn.mass_downloader - INFO: Client 'GEONET' - Successfully downloaded 1 channels (of 1)\n",
      "[2021-11-25 00:50:54,581] - obspy.clients.fdsn.mass_downloader - INFO: Client 'GEONET' - Launching basic QC checks...\n",
      "[2021-11-25 00:50:54,591] - obspy.clients.fdsn.mass_downloader - INFO: Client 'GEONET' - Downloaded 0.0 MB [4.61 KB/sec] of data, 0.0 MB of which were discarded afterwards.\n",
      "[2021-11-25 00:50:54,596] - obspy.clients.fdsn.mass_downloader - INFO: Client 'GEONET' - Status for 1 time intervals/channels after downloading: DOWNLOADED\n",
      "[2021-11-25 00:50:54,607] - obspy.clients.fdsn.mass_downloader - INFO: Client 'GEONET' - No station information to download.\n",
      "[2021-11-25 00:50:54,614] - obspy.clients.fdsn.mass_downloader - INFO: ============================== Final report\n",
      "[2021-11-25 00:50:54,615] - obspy.clients.fdsn.mass_downloader - INFO: 0 MiniSEED files [0.0 MB] already existed.\n",
      "[2021-11-25 00:50:54,617] - obspy.clients.fdsn.mass_downloader - INFO: 1 StationXML files [0.0 MB] already existed.\n",
      "[2021-11-25 00:50:54,619] - obspy.clients.fdsn.mass_downloader - INFO: Client 'GEONET' - Acquired 1 MiniSEED files [0.0 MB].\n",
      "[2021-11-25 00:50:54,620] - obspy.clients.fdsn.mass_downloader - INFO: Client 'GEONET' - Acquired 0 StationXML files [0.0 MB].\n",
      "[2021-11-25 00:50:54,622] - obspy.clients.fdsn.mass_downloader - INFO: Downloaded 0.0 MB in total.\n",
      "[2021-11-25 00:50:54,629] - obspy.clients.fdsn.mass_downloader - INFO: Initializing FDSN client(s) for GEONET.\n",
      "[2021-11-25 00:50:54,638] - obspy.clients.fdsn.mass_downloader - INFO: Successfully initialized 1 client(s): GEONET.\n",
      "[2021-11-25 00:50:54,641] - obspy.clients.fdsn.mass_downloader - INFO: Total acquired or preexisting stations: 0\n",
      "[2021-11-25 00:50:54,643] - obspy.clients.fdsn.mass_downloader - INFO: Client 'GEONET' - Requesting unreliable availability.\n"
     ]
    },
    {
     "name": "stdout",
     "output_type": "stream",
     "text": [
      "=================================================================\n",
      "Initiating mass download request.\n"
     ]
    },
    {
     "name": "stderr",
     "output_type": "stream",
     "text": [
      "[2021-11-25 00:50:55,397] - obspy.clients.fdsn.mass_downloader - INFO: Client 'GEONET' - Successfully requested availability (0.75 seconds)\n",
      "[2021-11-25 00:50:55,432] - obspy.clients.fdsn.mass_downloader - INFO: Client 'GEONET' - Found 1 stations (1 channels).\n",
      "[2021-11-25 00:50:55,446] - obspy.clients.fdsn.mass_downloader - INFO: Client 'GEONET' - Will attempt to download data from 1 stations.\n",
      "[2021-11-25 00:50:55,451] - obspy.clients.fdsn.mass_downloader - INFO: Client 'GEONET' - Status for 1 time intervals/channels before downloading: NEEDS_DOWNLOADING\n",
      "[2021-11-25 00:50:56,442] - obspy.clients.fdsn.mass_downloader - INFO: Client 'GEONET' - Successfully downloaded 1 channels (of 1)\n",
      "[2021-11-25 00:50:56,575] - obspy.clients.fdsn.mass_downloader - INFO: Client 'GEONET' - Launching basic QC checks...\n",
      "[2021-11-25 00:50:56,628] - obspy.clients.fdsn.mass_downloader - INFO: Client 'GEONET' - Downloaded 0.0 MB [3.24 KB/sec] of data, 0.0 MB of which were discarded afterwards.\n",
      "[2021-11-25 00:50:56,638] - obspy.clients.fdsn.mass_downloader - INFO: Client 'GEONET' - Status for 1 time intervals/channels after downloading: DOWNLOADED\n",
      "[2021-11-25 00:50:56,652] - obspy.clients.fdsn.mass_downloader - INFO: Client 'GEONET' - No station information to download.\n",
      "[2021-11-25 00:50:56,665] - obspy.clients.fdsn.mass_downloader - INFO: ============================== Final report\n",
      "[2021-11-25 00:50:56,666] - obspy.clients.fdsn.mass_downloader - INFO: 0 MiniSEED files [0.0 MB] already existed.\n",
      "[2021-11-25 00:50:56,666] - obspy.clients.fdsn.mass_downloader - INFO: 1 StationXML files [0.0 MB] already existed.\n",
      "[2021-11-25 00:50:56,667] - obspy.clients.fdsn.mass_downloader - INFO: Client 'GEONET' - Acquired 1 MiniSEED files [0.0 MB].\n",
      "[2021-11-25 00:50:56,667] - obspy.clients.fdsn.mass_downloader - INFO: Client 'GEONET' - Acquired 0 StationXML files [0.0 MB].\n",
      "[2021-11-25 00:50:56,667] - obspy.clients.fdsn.mass_downloader - INFO: Downloaded 0.0 MB in total.\n",
      "[2021-11-25 00:50:56,688] - obspy.clients.fdsn.mass_downloader - INFO: Initializing FDSN client(s) for GEONET.\n",
      "[2021-11-25 00:50:56,722] - obspy.clients.fdsn.mass_downloader - INFO: Successfully initialized 1 client(s): GEONET.\n",
      "[2021-11-25 00:50:56,731] - obspy.clients.fdsn.mass_downloader - INFO: Total acquired or preexisting stations: 0\n",
      "[2021-11-25 00:50:56,740] - obspy.clients.fdsn.mass_downloader - INFO: Client 'GEONET' - Requesting unreliable availability.\n"
     ]
    },
    {
     "name": "stdout",
     "output_type": "stream",
     "text": [
      "=================================================================\n",
      "Initiating mass download request.\n"
     ]
    },
    {
     "name": "stderr",
     "output_type": "stream",
     "text": [
      "[2021-11-25 00:50:58,260] - obspy.clients.fdsn.mass_downloader - INFO: Client 'GEONET' - Successfully requested availability (1.51 seconds)\n",
      "[2021-11-25 00:50:58,278] - obspy.clients.fdsn.mass_downloader - INFO: Client 'GEONET' - Found 1 stations (1 channels).\n",
      "[2021-11-25 00:50:58,288] - obspy.clients.fdsn.mass_downloader - INFO: Client 'GEONET' - Will attempt to download data from 1 stations.\n",
      "[2021-11-25 00:50:58,308] - obspy.clients.fdsn.mass_downloader - INFO: Client 'GEONET' - Status for 1 time intervals/channels before downloading: NEEDS_DOWNLOADING\n",
      "[2021-11-25 00:50:59,125] - obspy.clients.fdsn.mass_downloader - INFO: Client 'GEONET' - Successfully downloaded 1 channels (of 1)\n",
      "[2021-11-25 00:50:59,154] - obspy.clients.fdsn.mass_downloader - INFO: Client 'GEONET' - Launching basic QC checks...\n",
      "[2021-11-25 00:50:59,195] - obspy.clients.fdsn.mass_downloader - INFO: Client 'GEONET' - Downloaded 0.0 MB [4.80 KB/sec] of data, 0.0 MB of which were discarded afterwards.\n",
      "[2021-11-25 00:50:59,204] - obspy.clients.fdsn.mass_downloader - INFO: Client 'GEONET' - Status for 1 time intervals/channels after downloading: DOWNLOADED\n",
      "[2021-11-25 00:50:59,221] - obspy.clients.fdsn.mass_downloader - INFO: Client 'GEONET' - No station information to download.\n",
      "[2021-11-25 00:50:59,229] - obspy.clients.fdsn.mass_downloader - INFO: ============================== Final report\n",
      "[2021-11-25 00:50:59,231] - obspy.clients.fdsn.mass_downloader - INFO: 0 MiniSEED files [0.0 MB] already existed.\n",
      "[2021-11-25 00:50:59,231] - obspy.clients.fdsn.mass_downloader - INFO: 1 StationXML files [0.0 MB] already existed.\n",
      "[2021-11-25 00:50:59,232] - obspy.clients.fdsn.mass_downloader - INFO: Client 'GEONET' - Acquired 1 MiniSEED files [0.0 MB].\n",
      "[2021-11-25 00:50:59,232] - obspy.clients.fdsn.mass_downloader - INFO: Client 'GEONET' - Acquired 0 StationXML files [0.0 MB].\n",
      "[2021-11-25 00:50:59,232] - obspy.clients.fdsn.mass_downloader - INFO: Downloaded 0.0 MB in total.\n",
      "[2021-11-25 00:50:59,283] - obspy.clients.fdsn.mass_downloader - INFO: Initializing FDSN client(s) for GEONET.\n",
      "[2021-11-25 00:50:59,329] - obspy.clients.fdsn.mass_downloader - INFO: Successfully initialized 1 client(s): GEONET.\n",
      "[2021-11-25 00:50:59,331] - obspy.clients.fdsn.mass_downloader - INFO: Total acquired or preexisting stations: 0\n",
      "[2021-11-25 00:50:59,338] - obspy.clients.fdsn.mass_downloader - INFO: Client 'GEONET' - Requesting unreliable availability.\n"
     ]
    },
    {
     "name": "stdout",
     "output_type": "stream",
     "text": [
      "=================================================================\n",
      "Initiating mass download request.\n"
     ]
    },
    {
     "name": "stderr",
     "output_type": "stream",
     "text": [
      "[2021-11-25 00:50:59,947] - obspy.clients.fdsn.mass_downloader - INFO: Client 'GEONET' - Successfully requested availability (0.60 seconds)\n",
      "[2021-11-25 00:50:59,976] - obspy.clients.fdsn.mass_downloader - INFO: Client 'GEONET' - Found 1 stations (1 channels).\n",
      "[2021-11-25 00:50:59,986] - obspy.clients.fdsn.mass_downloader - INFO: Client 'GEONET' - Will attempt to download data from 1 stations.\n",
      "[2021-11-25 00:50:59,994] - obspy.clients.fdsn.mass_downloader - INFO: Client 'GEONET' - Status for 1 time intervals/channels before downloading: NEEDS_DOWNLOADING\n",
      "[2021-11-25 00:51:00,857] - obspy.clients.fdsn.mass_downloader - INFO: Client 'GEONET' - Successfully downloaded 1 channels (of 1)\n",
      "[2021-11-25 00:51:00,889] - obspy.clients.fdsn.mass_downloader - INFO: Client 'GEONET' - Launching basic QC checks...\n",
      "[2021-11-25 00:51:00,937] - obspy.clients.fdsn.mass_downloader - INFO: Client 'GEONET' - Downloaded 0.0 MB [2.89 KB/sec] of data, 0.0 MB of which were discarded afterwards.\n",
      "[2021-11-25 00:51:00,940] - obspy.clients.fdsn.mass_downloader - INFO: Client 'GEONET' - Status for 1 time intervals/channels after downloading: DOWNLOADED\n",
      "[2021-11-25 00:51:00,954] - obspy.clients.fdsn.mass_downloader - INFO: Client 'GEONET' - No station information to download.\n",
      "[2021-11-25 00:51:00,960] - obspy.clients.fdsn.mass_downloader - INFO: ============================== Final report\n",
      "[2021-11-25 00:51:00,962] - obspy.clients.fdsn.mass_downloader - INFO: 0 MiniSEED files [0.0 MB] already existed.\n",
      "[2021-11-25 00:51:00,963] - obspy.clients.fdsn.mass_downloader - INFO: 1 StationXML files [0.0 MB] already existed.\n",
      "[2021-11-25 00:51:00,963] - obspy.clients.fdsn.mass_downloader - INFO: Client 'GEONET' - Acquired 1 MiniSEED files [0.0 MB].\n",
      "[2021-11-25 00:51:00,963] - obspy.clients.fdsn.mass_downloader - INFO: Client 'GEONET' - Acquired 0 StationXML files [0.0 MB].\n",
      "[2021-11-25 00:51:00,963] - obspy.clients.fdsn.mass_downloader - INFO: Downloaded 0.0 MB in total.\n",
      "[2021-11-25 00:51:00,971] - obspy.clients.fdsn.mass_downloader - INFO: Initializing FDSN client(s) for GEONET.\n",
      "[2021-11-25 00:51:00,997] - obspy.clients.fdsn.mass_downloader - INFO: Successfully initialized 1 client(s): GEONET.\n",
      "[2021-11-25 00:51:01,000] - obspy.clients.fdsn.mass_downloader - INFO: Total acquired or preexisting stations: 0\n",
      "[2021-11-25 00:51:01,001] - obspy.clients.fdsn.mass_downloader - INFO: Client 'GEONET' - Requesting unreliable availability.\n"
     ]
    },
    {
     "name": "stdout",
     "output_type": "stream",
     "text": [
      "=================================================================\n",
      "Initiating mass download request.\n"
     ]
    },
    {
     "name": "stderr",
     "output_type": "stream",
     "text": [
      "[2021-11-25 00:51:01,708] - obspy.clients.fdsn.mass_downloader - INFO: Client 'GEONET' - Successfully requested availability (0.70 seconds)\n",
      "[2021-11-25 00:51:01,732] - obspy.clients.fdsn.mass_downloader - INFO: Client 'GEONET' - Found 1 stations (1 channels).\n",
      "[2021-11-25 00:51:01,742] - obspy.clients.fdsn.mass_downloader - INFO: Client 'GEONET' - Will attempt to download data from 1 stations.\n",
      "[2021-11-25 00:51:01,766] - obspy.clients.fdsn.mass_downloader - INFO: Client 'GEONET' - Status for 1 time intervals/channels before downloading: NEEDS_DOWNLOADING\n",
      "[2021-11-25 00:51:02,638] - obspy.clients.fdsn.mass_downloader - INFO: Client 'GEONET' - Successfully downloaded 1 channels (of 1)\n",
      "[2021-11-25 00:51:02,703] - obspy.clients.fdsn.mass_downloader - INFO: Client 'GEONET' - Launching basic QC checks...\n",
      "[2021-11-25 00:51:02,732] - obspy.clients.fdsn.mass_downloader - INFO: Client 'GEONET' - Downloaded 0.0 MB [3.82 KB/sec] of data, 0.0 MB of which were discarded afterwards.\n",
      "[2021-11-25 00:51:02,736] - obspy.clients.fdsn.mass_downloader - INFO: Client 'GEONET' - Status for 1 time intervals/channels after downloading: DOWNLOADED\n",
      "[2021-11-25 00:51:02,746] - obspy.clients.fdsn.mass_downloader - INFO: Client 'GEONET' - No station information to download.\n",
      "[2021-11-25 00:51:02,751] - obspy.clients.fdsn.mass_downloader - INFO: ============================== Final report\n",
      "[2021-11-25 00:51:02,752] - obspy.clients.fdsn.mass_downloader - INFO: 0 MiniSEED files [0.0 MB] already existed.\n",
      "[2021-11-25 00:51:02,753] - obspy.clients.fdsn.mass_downloader - INFO: 1 StationXML files [0.0 MB] already existed.\n",
      "[2021-11-25 00:51:02,753] - obspy.clients.fdsn.mass_downloader - INFO: Client 'GEONET' - Acquired 1 MiniSEED files [0.0 MB].\n",
      "[2021-11-25 00:51:02,754] - obspy.clients.fdsn.mass_downloader - INFO: Client 'GEONET' - Acquired 0 StationXML files [0.0 MB].\n",
      "[2021-11-25 00:51:02,754] - obspy.clients.fdsn.mass_downloader - INFO: Downloaded 0.0 MB in total.\n",
      "[2021-11-25 00:51:02,763] - obspy.clients.fdsn.mass_downloader - INFO: Initializing FDSN client(s) for GEONET.\n",
      "[2021-11-25 00:51:02,775] - obspy.clients.fdsn.mass_downloader - INFO: Successfully initialized 1 client(s): GEONET.\n",
      "[2021-11-25 00:51:02,784] - obspy.clients.fdsn.mass_downloader - INFO: Total acquired or preexisting stations: 0\n",
      "[2021-11-25 00:51:02,790] - obspy.clients.fdsn.mass_downloader - INFO: Client 'GEONET' - Requesting unreliable availability.\n"
     ]
    },
    {
     "name": "stdout",
     "output_type": "stream",
     "text": [
      "=================================================================\n",
      "Initiating mass download request.\n"
     ]
    },
    {
     "name": "stderr",
     "output_type": "stream",
     "text": [
      "[2021-11-25 00:51:03,380] - obspy.clients.fdsn.mass_downloader - INFO: Client 'GEONET' - Successfully requested availability (0.59 seconds)\n",
      "[2021-11-25 00:51:03,383] - obspy.clients.fdsn.mass_downloader - INFO: Client 'GEONET' - Found 1 stations (1 channels).\n",
      "[2021-11-25 00:51:03,384] - obspy.clients.fdsn.mass_downloader - INFO: Client 'GEONET' - Will attempt to download data from 1 stations.\n",
      "[2021-11-25 00:51:03,390] - obspy.clients.fdsn.mass_downloader - INFO: Client 'GEONET' - Status for 1 time intervals/channels before downloading: NEEDS_DOWNLOADING\n",
      "[2021-11-25 00:51:04,148] - obspy.clients.fdsn.mass_downloader - INFO: Client 'GEONET' - Successfully downloaded 1 channels (of 1)\n",
      "[2021-11-25 00:51:04,158] - obspy.clients.fdsn.mass_downloader - INFO: Client 'GEONET' - Launching basic QC checks...\n",
      "[2021-11-25 00:51:04,169] - obspy.clients.fdsn.mass_downloader - INFO: Client 'GEONET' - Downloaded 0.0 MB [4.59 KB/sec] of data, 0.0 MB of which were discarded afterwards.\n",
      "[2021-11-25 00:51:04,171] - obspy.clients.fdsn.mass_downloader - INFO: Client 'GEONET' - Status for 1 time intervals/channels after downloading: DOWNLOADED\n",
      "[2021-11-25 00:51:04,179] - obspy.clients.fdsn.mass_downloader - INFO: Client 'GEONET' - No station information to download.\n",
      "[2021-11-25 00:51:04,185] - obspy.clients.fdsn.mass_downloader - INFO: ============================== Final report\n",
      "[2021-11-25 00:51:04,186] - obspy.clients.fdsn.mass_downloader - INFO: 0 MiniSEED files [0.0 MB] already existed.\n",
      "[2021-11-25 00:51:04,187] - obspy.clients.fdsn.mass_downloader - INFO: 1 StationXML files [0.0 MB] already existed.\n",
      "[2021-11-25 00:51:04,188] - obspy.clients.fdsn.mass_downloader - INFO: Client 'GEONET' - Acquired 1 MiniSEED files [0.0 MB].\n",
      "[2021-11-25 00:51:04,189] - obspy.clients.fdsn.mass_downloader - INFO: Client 'GEONET' - Acquired 0 StationXML files [0.0 MB].\n",
      "[2021-11-25 00:51:04,194] - obspy.clients.fdsn.mass_downloader - INFO: Downloaded 0.0 MB in total.\n",
      "[2021-11-25 00:51:04,198] - obspy.clients.fdsn.mass_downloader - INFO: Initializing FDSN client(s) for GEONET.\n",
      "[2021-11-25 00:51:04,212] - obspy.clients.fdsn.mass_downloader - INFO: Successfully initialized 1 client(s): GEONET.\n",
      "[2021-11-25 00:51:04,217] - obspy.clients.fdsn.mass_downloader - INFO: Total acquired or preexisting stations: 0\n",
      "[2021-11-25 00:51:04,220] - obspy.clients.fdsn.mass_downloader - INFO: Client 'GEONET' - Requesting unreliable availability.\n"
     ]
    },
    {
     "name": "stdout",
     "output_type": "stream",
     "text": [
      "=================================================================\n",
      "Initiating mass download request.\n"
     ]
    },
    {
     "name": "stderr",
     "output_type": "stream",
     "text": [
      "[2021-11-25 00:51:04,792] - obspy.clients.fdsn.mass_downloader - INFO: Client 'GEONET' - Successfully requested availability (0.57 seconds)\n",
      "[2021-11-25 00:51:04,801] - obspy.clients.fdsn.mass_downloader - INFO: Client 'GEONET' - Found 1 stations (1 channels).\n",
      "[2021-11-25 00:51:04,803] - obspy.clients.fdsn.mass_downloader - INFO: Client 'GEONET' - Will attempt to download data from 1 stations.\n",
      "[2021-11-25 00:51:04,807] - obspy.clients.fdsn.mass_downloader - INFO: Client 'GEONET' - Status for 1 time intervals/channels before downloading: NEEDS_DOWNLOADING\n",
      "[2021-11-25 00:51:05,739] - obspy.clients.fdsn.mass_downloader - INFO: Client 'GEONET' - Successfully downloaded 1 channels (of 1)\n",
      "[2021-11-25 00:51:05,846] - obspy.clients.fdsn.mass_downloader - INFO: Client 'GEONET' - Launching basic QC checks...\n",
      "[2021-11-25 00:51:05,906] - obspy.clients.fdsn.mass_downloader - INFO: Client 'GEONET' - Downloaded 0.0 MB [4.38 KB/sec] of data, 0.0 MB of which were discarded afterwards.\n",
      "[2021-11-25 00:51:05,913] - obspy.clients.fdsn.mass_downloader - INFO: Client 'GEONET' - Status for 1 time intervals/channels after downloading: DOWNLOADED\n",
      "[2021-11-25 00:51:05,925] - obspy.clients.fdsn.mass_downloader - INFO: Client 'GEONET' - No station information to download.\n",
      "[2021-11-25 00:51:05,938] - obspy.clients.fdsn.mass_downloader - INFO: ============================== Final report\n",
      "[2021-11-25 00:51:05,946] - obspy.clients.fdsn.mass_downloader - INFO: 0 MiniSEED files [0.0 MB] already existed.\n",
      "[2021-11-25 00:51:05,953] - obspy.clients.fdsn.mass_downloader - INFO: 1 StationXML files [0.0 MB] already existed.\n",
      "[2021-11-25 00:51:05,958] - obspy.clients.fdsn.mass_downloader - INFO: Client 'GEONET' - Acquired 1 MiniSEED files [0.0 MB].\n",
      "[2021-11-25 00:51:05,962] - obspy.clients.fdsn.mass_downloader - INFO: Client 'GEONET' - Acquired 0 StationXML files [0.0 MB].\n",
      "[2021-11-25 00:51:05,968] - obspy.clients.fdsn.mass_downloader - INFO: Downloaded 0.0 MB in total.\n",
      "[2021-11-25 00:51:05,978] - obspy.clients.fdsn.mass_downloader - INFO: Initializing FDSN client(s) for GEONET.\n",
      "[2021-11-25 00:51:05,989] - obspy.clients.fdsn.mass_downloader - INFO: Successfully initialized 1 client(s): GEONET.\n",
      "[2021-11-25 00:51:05,996] - obspy.clients.fdsn.mass_downloader - INFO: Total acquired or preexisting stations: 0\n",
      "[2021-11-25 00:51:05,998] - obspy.clients.fdsn.mass_downloader - INFO: Client 'GEONET' - Requesting unreliable availability.\n"
     ]
    },
    {
     "name": "stdout",
     "output_type": "stream",
     "text": [
      "=================================================================\n",
      "Initiating mass download request.\n"
     ]
    },
    {
     "name": "stderr",
     "output_type": "stream",
     "text": [
      "[2021-11-25 00:51:07,255] - obspy.clients.fdsn.mass_downloader - INFO: Client 'GEONET' - Successfully requested availability (1.26 seconds)\n",
      "[2021-11-25 00:51:07,258] - obspy.clients.fdsn.mass_downloader - INFO: Client 'GEONET' - Found 1 stations (1 channels).\n",
      "[2021-11-25 00:51:07,259] - obspy.clients.fdsn.mass_downloader - INFO: Client 'GEONET' - Will attempt to download data from 1 stations.\n",
      "[2021-11-25 00:51:07,262] - obspy.clients.fdsn.mass_downloader - INFO: Client 'GEONET' - Status for 1 time intervals/channels before downloading: NEEDS_DOWNLOADING\n",
      "[2021-11-25 00:51:08,164] - obspy.clients.fdsn.mass_downloader - INFO: Client 'GEONET' - Successfully downloaded 1 channels (of 1)\n",
      "[2021-11-25 00:51:08,200] - obspy.clients.fdsn.mass_downloader - INFO: Client 'GEONET' - Launching basic QC checks...\n",
      "[2021-11-25 00:51:08,232] - obspy.clients.fdsn.mass_downloader - INFO: Client 'GEONET' - Downloaded 0.0 MB [4.29 KB/sec] of data, 0.0 MB of which were discarded afterwards.\n",
      "[2021-11-25 00:51:08,234] - obspy.clients.fdsn.mass_downloader - INFO: Client 'GEONET' - Status for 1 time intervals/channels after downloading: DOWNLOADED\n",
      "[2021-11-25 00:51:08,248] - obspy.clients.fdsn.mass_downloader - INFO: Client 'GEONET' - No station information to download.\n",
      "[2021-11-25 00:51:08,252] - obspy.clients.fdsn.mass_downloader - INFO: ============================== Final report\n",
      "[2021-11-25 00:51:08,258] - obspy.clients.fdsn.mass_downloader - INFO: 0 MiniSEED files [0.0 MB] already existed.\n",
      "[2021-11-25 00:51:08,258] - obspy.clients.fdsn.mass_downloader - INFO: 1 StationXML files [0.0 MB] already existed.\n",
      "[2021-11-25 00:51:08,259] - obspy.clients.fdsn.mass_downloader - INFO: Client 'GEONET' - Acquired 1 MiniSEED files [0.0 MB].\n",
      "[2021-11-25 00:51:08,261] - obspy.clients.fdsn.mass_downloader - INFO: Client 'GEONET' - Acquired 0 StationXML files [0.0 MB].\n",
      "[2021-11-25 00:51:08,265] - obspy.clients.fdsn.mass_downloader - INFO: Downloaded 0.0 MB in total.\n",
      "[2021-11-25 00:51:08,296] - obspy.clients.fdsn.mass_downloader - INFO: Initializing FDSN client(s) for GEONET.\n",
      "[2021-11-25 00:51:08,324] - obspy.clients.fdsn.mass_downloader - INFO: Successfully initialized 1 client(s): GEONET.\n",
      "[2021-11-25 00:51:08,328] - obspy.clients.fdsn.mass_downloader - INFO: Total acquired or preexisting stations: 0\n",
      "[2021-11-25 00:51:08,331] - obspy.clients.fdsn.mass_downloader - INFO: Client 'GEONET' - Requesting unreliable availability.\n"
     ]
    },
    {
     "name": "stdout",
     "output_type": "stream",
     "text": [
      "=================================================================\n",
      "Initiating mass download request.\n"
     ]
    },
    {
     "name": "stderr",
     "output_type": "stream",
     "text": [
      "[2021-11-25 00:51:08,956] - obspy.clients.fdsn.mass_downloader - INFO: Client 'GEONET' - Successfully requested availability (0.62 seconds)\n",
      "[2021-11-25 00:51:09,030] - obspy.clients.fdsn.mass_downloader - INFO: Client 'GEONET' - Found 1 stations (1 channels).\n",
      "[2021-11-25 00:51:09,050] - obspy.clients.fdsn.mass_downloader - INFO: Client 'GEONET' - Will attempt to download data from 1 stations.\n",
      "[2021-11-25 00:51:09,065] - obspy.clients.fdsn.mass_downloader - INFO: Client 'GEONET' - Status for 1 time intervals/channels before downloading: NEEDS_DOWNLOADING\n",
      "[2021-11-25 00:51:09,920] - obspy.clients.fdsn.mass_downloader - INFO: Client 'GEONET' - Successfully downloaded 1 channels (of 1)\n",
      "[2021-11-25 00:51:09,961] - obspy.clients.fdsn.mass_downloader - INFO: Client 'GEONET' - Launching basic QC checks...\n",
      "[2021-11-25 00:51:10,010] - obspy.clients.fdsn.mass_downloader - INFO: Client 'GEONET' - Downloaded 0.0 MB [4.06 KB/sec] of data, 0.0 MB of which were discarded afterwards.\n",
      "[2021-11-25 00:51:10,013] - obspy.clients.fdsn.mass_downloader - INFO: Client 'GEONET' - Status for 1 time intervals/channels after downloading: DOWNLOADED\n",
      "[2021-11-25 00:51:10,018] - obspy.clients.fdsn.mass_downloader - INFO: Client 'GEONET' - No station information to download.\n",
      "[2021-11-25 00:51:10,025] - obspy.clients.fdsn.mass_downloader - INFO: ============================== Final report\n",
      "[2021-11-25 00:51:10,028] - obspy.clients.fdsn.mass_downloader - INFO: 0 MiniSEED files [0.0 MB] already existed.\n",
      "[2021-11-25 00:51:10,031] - obspy.clients.fdsn.mass_downloader - INFO: 1 StationXML files [0.0 MB] already existed.\n",
      "[2021-11-25 00:51:10,032] - obspy.clients.fdsn.mass_downloader - INFO: Client 'GEONET' - Acquired 1 MiniSEED files [0.0 MB].\n",
      "[2021-11-25 00:51:10,032] - obspy.clients.fdsn.mass_downloader - INFO: Client 'GEONET' - Acquired 0 StationXML files [0.0 MB].\n",
      "[2021-11-25 00:51:10,032] - obspy.clients.fdsn.mass_downloader - INFO: Downloaded 0.0 MB in total.\n",
      "[2021-11-25 00:51:10,065] - obspy.clients.fdsn.mass_downloader - INFO: Initializing FDSN client(s) for GEONET.\n",
      "[2021-11-25 00:51:10,111] - obspy.clients.fdsn.mass_downloader - INFO: Successfully initialized 1 client(s): GEONET.\n",
      "[2021-11-25 00:51:10,132] - obspy.clients.fdsn.mass_downloader - INFO: Total acquired or preexisting stations: 0\n",
      "[2021-11-25 00:51:10,138] - obspy.clients.fdsn.mass_downloader - INFO: Client 'GEONET' - Requesting unreliable availability.\n"
     ]
    },
    {
     "name": "stdout",
     "output_type": "stream",
     "text": [
      "=================================================================\n",
      "Initiating mass download request.\n"
     ]
    },
    {
     "name": "stderr",
     "output_type": "stream",
     "text": [
      "[2021-11-25 00:51:10,708] - obspy.clients.fdsn.mass_downloader - INFO: Client 'GEONET' - Successfully requested availability (0.56 seconds)\n",
      "[2021-11-25 00:51:10,712] - obspy.clients.fdsn.mass_downloader - INFO: Client 'GEONET' - Found 1 stations (1 channels).\n",
      "[2021-11-25 00:51:10,713] - obspy.clients.fdsn.mass_downloader - INFO: Client 'GEONET' - Will attempt to download data from 1 stations.\n",
      "[2021-11-25 00:51:10,714] - obspy.clients.fdsn.mass_downloader - INFO: Client 'GEONET' - Status for 1 time intervals/channels before downloading: NEEDS_DOWNLOADING\n",
      "[2021-11-25 00:51:11,561] - obspy.clients.fdsn.mass_downloader - INFO: Client 'GEONET' - Successfully downloaded 1 channels (of 1)\n",
      "[2021-11-25 00:51:11,597] - obspy.clients.fdsn.mass_downloader - INFO: Client 'GEONET' - Launching basic QC checks...\n",
      "[2021-11-25 00:51:11,613] - obspy.clients.fdsn.mass_downloader - INFO: Client 'GEONET' - Downloaded 0.0 MB [4.57 KB/sec] of data, 0.0 MB of which were discarded afterwards.\n",
      "[2021-11-25 00:51:11,616] - obspy.clients.fdsn.mass_downloader - INFO: Client 'GEONET' - Status for 1 time intervals/channels after downloading: DOWNLOADED\n",
      "[2021-11-25 00:51:11,625] - obspy.clients.fdsn.mass_downloader - INFO: Client 'GEONET' - No station information to download.\n",
      "[2021-11-25 00:51:11,631] - obspy.clients.fdsn.mass_downloader - INFO: ============================== Final report\n",
      "[2021-11-25 00:51:11,633] - obspy.clients.fdsn.mass_downloader - INFO: 0 MiniSEED files [0.0 MB] already existed.\n",
      "[2021-11-25 00:51:11,633] - obspy.clients.fdsn.mass_downloader - INFO: 1 StationXML files [0.0 MB] already existed.\n",
      "[2021-11-25 00:51:11,634] - obspy.clients.fdsn.mass_downloader - INFO: Client 'GEONET' - Acquired 1 MiniSEED files [0.0 MB].\n",
      "[2021-11-25 00:51:11,636] - obspy.clients.fdsn.mass_downloader - INFO: Client 'GEONET' - Acquired 0 StationXML files [0.0 MB].\n",
      "[2021-11-25 00:51:11,636] - obspy.clients.fdsn.mass_downloader - INFO: Downloaded 0.0 MB in total.\n",
      "[2021-11-25 00:51:11,645] - obspy.clients.fdsn.mass_downloader - INFO: Initializing FDSN client(s) for GEONET.\n",
      "[2021-11-25 00:51:11,688] - obspy.clients.fdsn.mass_downloader - INFO: Successfully initialized 1 client(s): GEONET.\n",
      "[2021-11-25 00:51:11,698] - obspy.clients.fdsn.mass_downloader - INFO: Total acquired or preexisting stations: 0\n",
      "[2021-11-25 00:51:11,701] - obspy.clients.fdsn.mass_downloader - INFO: Client 'GEONET' - Requesting unreliable availability.\n"
     ]
    },
    {
     "name": "stdout",
     "output_type": "stream",
     "text": [
      "=================================================================\n",
      "Initiating mass download request.\n"
     ]
    },
    {
     "name": "stderr",
     "output_type": "stream",
     "text": [
      "[2021-11-25 00:51:12,391] - obspy.clients.fdsn.mass_downloader - INFO: Client 'GEONET' - Successfully requested availability (0.69 seconds)\n",
      "[2021-11-25 00:51:12,405] - obspy.clients.fdsn.mass_downloader - INFO: Client 'GEONET' - Found 1 stations (1 channels).\n",
      "[2021-11-25 00:51:12,418] - obspy.clients.fdsn.mass_downloader - INFO: Client 'GEONET' - Will attempt to download data from 1 stations.\n",
      "[2021-11-25 00:51:12,421] - obspy.clients.fdsn.mass_downloader - INFO: Client 'GEONET' - Status for 1 time intervals/channels before downloading: NEEDS_DOWNLOADING\n",
      "[2021-11-25 00:51:13,173] - obspy.clients.fdsn.mass_downloader - INFO: Client 'GEONET' - Successfully downloaded 1 channels (of 1)\n",
      "[2021-11-25 00:51:13,210] - obspy.clients.fdsn.mass_downloader - INFO: Client 'GEONET' - Launching basic QC checks...\n",
      "[2021-11-25 00:51:13,230] - obspy.clients.fdsn.mass_downloader - INFO: Client 'GEONET' - Downloaded 0.0 MB [3.85 KB/sec] of data, 0.0 MB of which were discarded afterwards.\n",
      "[2021-11-25 00:51:13,233] - obspy.clients.fdsn.mass_downloader - INFO: Client 'GEONET' - Status for 1 time intervals/channels after downloading: DOWNLOADED\n",
      "[2021-11-25 00:51:13,240] - obspy.clients.fdsn.mass_downloader - INFO: Client 'GEONET' - No station information to download.\n",
      "[2021-11-25 00:51:13,242] - obspy.clients.fdsn.mass_downloader - INFO: ============================== Final report\n",
      "[2021-11-25 00:51:13,243] - obspy.clients.fdsn.mass_downloader - INFO: 0 MiniSEED files [0.0 MB] already existed.\n",
      "[2021-11-25 00:51:13,244] - obspy.clients.fdsn.mass_downloader - INFO: 1 StationXML files [0.0 MB] already existed.\n",
      "[2021-11-25 00:51:13,245] - obspy.clients.fdsn.mass_downloader - INFO: Client 'GEONET' - Acquired 1 MiniSEED files [0.0 MB].\n",
      "[2021-11-25 00:51:13,246] - obspy.clients.fdsn.mass_downloader - INFO: Client 'GEONET' - Acquired 0 StationXML files [0.0 MB].\n",
      "[2021-11-25 00:51:13,247] - obspy.clients.fdsn.mass_downloader - INFO: Downloaded 0.0 MB in total.\n",
      "[2021-11-25 00:51:13,260] - obspy.clients.fdsn.mass_downloader - INFO: Initializing FDSN client(s) for GEONET.\n",
      "[2021-11-25 00:51:13,270] - obspy.clients.fdsn.mass_downloader - INFO: Successfully initialized 1 client(s): GEONET.\n",
      "[2021-11-25 00:51:13,272] - obspy.clients.fdsn.mass_downloader - INFO: Total acquired or preexisting stations: 0\n",
      "[2021-11-25 00:51:13,274] - obspy.clients.fdsn.mass_downloader - INFO: Client 'GEONET' - Requesting unreliable availability.\n"
     ]
    },
    {
     "name": "stdout",
     "output_type": "stream",
     "text": [
      "=================================================================\n",
      "Initiating mass download request.\n"
     ]
    },
    {
     "name": "stderr",
     "output_type": "stream",
     "text": [
      "[2021-11-25 00:51:13,867] - obspy.clients.fdsn.mass_downloader - INFO: Client 'GEONET' - Successfully requested availability (0.59 seconds)\n",
      "[2021-11-25 00:51:13,882] - obspy.clients.fdsn.mass_downloader - INFO: Client 'GEONET' - Will attempt to download data from 1 stations.\n",
      "[2021-11-25 00:51:13,891] - obspy.clients.fdsn.mass_downloader - INFO: Client 'GEONET' - Status for 1 time intervals/channels before downloading: NEEDS_DOWNLOADING\n",
      "[2021-11-25 00:51:14,800] - obspy.clients.fdsn.mass_downloader - INFO: Client 'GEONET' - Successfully downloaded 1 channels (of 1)\n",
      "[2021-11-25 00:51:14,883] - obspy.clients.fdsn.mass_downloader - INFO: Client 'GEONET' - Launching basic QC checks...\n",
      "[2021-11-25 00:51:14,961] - obspy.clients.fdsn.mass_downloader - INFO: Client 'GEONET' - Downloaded 0.0 MB [4.11 KB/sec] of data, 0.0 MB of which were discarded afterwards.\n",
      "[2021-11-25 00:51:14,972] - obspy.clients.fdsn.mass_downloader - INFO: Client 'GEONET' - Status for 1 time intervals/channels after downloading: DOWNLOADED\n",
      "[2021-11-25 00:51:14,997] - obspy.clients.fdsn.mass_downloader - INFO: Client 'GEONET' - No station information to download.\n",
      "[2021-11-25 00:51:15,006] - obspy.clients.fdsn.mass_downloader - INFO: ============================== Final report\n",
      "[2021-11-25 00:51:15,014] - obspy.clients.fdsn.mass_downloader - INFO: 0 MiniSEED files [0.0 MB] already existed.\n",
      "[2021-11-25 00:51:15,015] - obspy.clients.fdsn.mass_downloader - INFO: 1 StationXML files [0.0 MB] already existed.\n",
      "[2021-11-25 00:51:15,018] - obspy.clients.fdsn.mass_downloader - INFO: Client 'GEONET' - Acquired 1 MiniSEED files [0.0 MB].\n",
      "[2021-11-25 00:51:15,028] - obspy.clients.fdsn.mass_downloader - INFO: Client 'GEONET' - Acquired 0 StationXML files [0.0 MB].\n",
      "[2021-11-25 00:51:15,035] - obspy.clients.fdsn.mass_downloader - INFO: Downloaded 0.0 MB in total.\n",
      "[2021-11-25 00:51:15,082] - obspy.clients.fdsn.mass_downloader - INFO: Initializing FDSN client(s) for GEONET.\n",
      "[2021-11-25 00:51:15,144] - obspy.clients.fdsn.mass_downloader - INFO: Successfully initialized 1 client(s): GEONET.\n",
      "[2021-11-25 00:51:15,149] - obspy.clients.fdsn.mass_downloader - INFO: Total acquired or preexisting stations: 0\n",
      "[2021-11-25 00:51:15,155] - obspy.clients.fdsn.mass_downloader - INFO: Client 'GEONET' - Requesting unreliable availability.\n"
     ]
    },
    {
     "name": "stdout",
     "output_type": "stream",
     "text": [
      "=================================================================\n",
      "Initiating mass download request.\n"
     ]
    },
    {
     "name": "stderr",
     "output_type": "stream",
     "text": [
      "[2021-11-25 00:51:15,776] - obspy.clients.fdsn.mass_downloader - INFO: Client 'GEONET' - Successfully requested availability (0.62 seconds)\n",
      "[2021-11-25 00:51:15,789] - obspy.clients.fdsn.mass_downloader - INFO: Client 'GEONET' - Found 1 stations (1 channels).\n",
      "[2021-11-25 00:51:15,797] - obspy.clients.fdsn.mass_downloader - INFO: Client 'GEONET' - Will attempt to download data from 1 stations.\n",
      "[2021-11-25 00:51:15,809] - obspy.clients.fdsn.mass_downloader - INFO: Client 'GEONET' - Status for 1 time intervals/channels before downloading: NEEDS_DOWNLOADING\n",
      "[2021-11-25 00:51:16,620] - obspy.clients.fdsn.mass_downloader - INFO: Client 'GEONET' - Successfully downloaded 1 channels (of 1)\n",
      "[2021-11-25 00:51:16,670] - obspy.clients.fdsn.mass_downloader - INFO: Client 'GEONET' - Launching basic QC checks...\n",
      "[2021-11-25 00:51:16,714] - obspy.clients.fdsn.mass_downloader - INFO: Client 'GEONET' - Downloaded 0.0 MB [4.17 KB/sec] of data, 0.0 MB of which were discarded afterwards.\n",
      "[2021-11-25 00:51:16,717] - obspy.clients.fdsn.mass_downloader - INFO: Client 'GEONET' - Status for 1 time intervals/channels after downloading: DOWNLOADED\n",
      "[2021-11-25 00:51:16,752] - obspy.clients.fdsn.mass_downloader - INFO: Client 'GEONET' - No station information to download.\n",
      "[2021-11-25 00:51:16,768] - obspy.clients.fdsn.mass_downloader - INFO: ============================== Final report\n",
      "[2021-11-25 00:51:16,772] - obspy.clients.fdsn.mass_downloader - INFO: 0 MiniSEED files [0.0 MB] already existed.\n",
      "[2021-11-25 00:51:16,774] - obspy.clients.fdsn.mass_downloader - INFO: 1 StationXML files [0.0 MB] already existed.\n",
      "[2021-11-25 00:51:16,774] - obspy.clients.fdsn.mass_downloader - INFO: Client 'GEONET' - Acquired 1 MiniSEED files [0.0 MB].\n",
      "[2021-11-25 00:51:16,774] - obspy.clients.fdsn.mass_downloader - INFO: Client 'GEONET' - Acquired 0 StationXML files [0.0 MB].\n",
      "[2021-11-25 00:51:16,775] - obspy.clients.fdsn.mass_downloader - INFO: Downloaded 0.0 MB in total.\n",
      "[2021-11-25 00:51:16,806] - obspy.clients.fdsn.mass_downloader - INFO: Initializing FDSN client(s) for GEONET.\n",
      "[2021-11-25 00:51:16,856] - obspy.clients.fdsn.mass_downloader - INFO: Successfully initialized 1 client(s): GEONET.\n",
      "[2021-11-25 00:51:16,861] - obspy.clients.fdsn.mass_downloader - INFO: Total acquired or preexisting stations: 0\n",
      "[2021-11-25 00:51:16,869] - obspy.clients.fdsn.mass_downloader - INFO: Client 'GEONET' - Requesting unreliable availability.\n"
     ]
    },
    {
     "name": "stdout",
     "output_type": "stream",
     "text": [
      "=================================================================\n",
      "Initiating mass download request.\n"
     ]
    },
    {
     "name": "stderr",
     "output_type": "stream",
     "text": [
      "[2021-11-25 00:51:17,458] - obspy.clients.fdsn.mass_downloader - INFO: Client 'GEONET' - Successfully requested availability (0.59 seconds)\n",
      "[2021-11-25 00:51:17,467] - obspy.clients.fdsn.mass_downloader - INFO: Client 'GEONET' - Found 1 stations (1 channels).\n",
      "[2021-11-25 00:51:17,470] - obspy.clients.fdsn.mass_downloader - INFO: Client 'GEONET' - Will attempt to download data from 1 stations.\n",
      "[2021-11-25 00:51:17,477] - obspy.clients.fdsn.mass_downloader - INFO: Client 'GEONET' - Status for 1 time intervals/channels before downloading: NEEDS_DOWNLOADING\n",
      "[2021-11-25 00:51:18,287] - obspy.clients.fdsn.mass_downloader - INFO: Client 'GEONET' - Successfully downloaded 1 channels (of 1)\n",
      "[2021-11-25 00:51:18,323] - obspy.clients.fdsn.mass_downloader - INFO: Client 'GEONET' - Launching basic QC checks...\n",
      "[2021-11-25 00:51:18,375] - obspy.clients.fdsn.mass_downloader - INFO: Client 'GEONET' - Downloaded 0.0 MB [3.64 KB/sec] of data, 0.0 MB of which were discarded afterwards.\n",
      "[2021-11-25 00:51:18,377] - obspy.clients.fdsn.mass_downloader - INFO: Client 'GEONET' - Status for 1 time intervals/channels after downloading: DOWNLOADED\n",
      "[2021-11-25 00:51:18,387] - obspy.clients.fdsn.mass_downloader - INFO: Client 'GEONET' - No station information to download.\n",
      "[2021-11-25 00:51:18,391] - obspy.clients.fdsn.mass_downloader - INFO: ============================== Final report\n",
      "[2021-11-25 00:51:18,392] - obspy.clients.fdsn.mass_downloader - INFO: 0 MiniSEED files [0.0 MB] already existed.\n",
      "[2021-11-25 00:51:18,393] - obspy.clients.fdsn.mass_downloader - INFO: 1 StationXML files [0.0 MB] already existed.\n",
      "[2021-11-25 00:51:18,394] - obspy.clients.fdsn.mass_downloader - INFO: Client 'GEONET' - Acquired 1 MiniSEED files [0.0 MB].\n",
      "[2021-11-25 00:51:18,395] - obspy.clients.fdsn.mass_downloader - INFO: Client 'GEONET' - Acquired 0 StationXML files [0.0 MB].\n",
      "[2021-11-25 00:51:18,396] - obspy.clients.fdsn.mass_downloader - INFO: Downloaded 0.0 MB in total.\n",
      "[2021-11-25 00:51:18,410] - obspy.clients.fdsn.mass_downloader - INFO: Initializing FDSN client(s) for GEONET.\n",
      "[2021-11-25 00:51:18,428] - obspy.clients.fdsn.mass_downloader - INFO: Successfully initialized 1 client(s): GEONET.\n",
      "[2021-11-25 00:51:18,435] - obspy.clients.fdsn.mass_downloader - INFO: Total acquired or preexisting stations: 0\n",
      "[2021-11-25 00:51:18,437] - obspy.clients.fdsn.mass_downloader - INFO: Client 'GEONET' - Requesting unreliable availability.\n"
     ]
    },
    {
     "name": "stdout",
     "output_type": "stream",
     "text": [
      "=================================================================\n",
      "Initiating mass download request.\n"
     ]
    },
    {
     "name": "stderr",
     "output_type": "stream",
     "text": [
      "[2021-11-25 00:51:19,047] - obspy.clients.fdsn.mass_downloader - INFO: Client 'GEONET' - Successfully requested availability (0.61 seconds)\n",
      "[2021-11-25 00:51:19,134] - obspy.clients.fdsn.mass_downloader - INFO: Client 'GEONET' - Found 1 stations (1 channels).\n",
      "[2021-11-25 00:51:19,140] - obspy.clients.fdsn.mass_downloader - INFO: Client 'GEONET' - Will attempt to download data from 1 stations.\n",
      "[2021-11-25 00:51:19,151] - obspy.clients.fdsn.mass_downloader - INFO: Client 'GEONET' - Status for 1 time intervals/channels before downloading: NEEDS_DOWNLOADING\n",
      "[2021-11-25 00:51:19,983] - obspy.clients.fdsn.mass_downloader - INFO: Client 'GEONET' - Successfully downloaded 1 channels (of 1)\n",
      "[2021-11-25 00:51:20,085] - obspy.clients.fdsn.mass_downloader - INFO: Client 'GEONET' - Launching basic QC checks...\n",
      "[2021-11-25 00:51:20,117] - obspy.clients.fdsn.mass_downloader - INFO: Client 'GEONET' - Downloaded 0.0 MB [4.38 KB/sec] of data, 0.0 MB of which were discarded afterwards.\n",
      "[2021-11-25 00:51:20,129] - obspy.clients.fdsn.mass_downloader - INFO: Client 'GEONET' - Status for 1 time intervals/channels after downloading: DOWNLOADED\n",
      "[2021-11-25 00:51:20,144] - obspy.clients.fdsn.mass_downloader - INFO: Client 'GEONET' - No station information to download.\n",
      "[2021-11-25 00:51:20,157] - obspy.clients.fdsn.mass_downloader - INFO: ============================== Final report\n",
      "[2021-11-25 00:51:20,159] - obspy.clients.fdsn.mass_downloader - INFO: 0 MiniSEED files [0.0 MB] already existed.\n",
      "[2021-11-25 00:51:20,159] - obspy.clients.fdsn.mass_downloader - INFO: 1 StationXML files [0.0 MB] already existed.\n",
      "[2021-11-25 00:51:20,160] - obspy.clients.fdsn.mass_downloader - INFO: Client 'GEONET' - Acquired 1 MiniSEED files [0.0 MB].\n",
      "[2021-11-25 00:51:20,164] - obspy.clients.fdsn.mass_downloader - INFO: Client 'GEONET' - Acquired 0 StationXML files [0.0 MB].\n",
      "[2021-11-25 00:51:20,165] - obspy.clients.fdsn.mass_downloader - INFO: Downloaded 0.0 MB in total.\n",
      "[2021-11-25 00:51:20,174] - obspy.clients.fdsn.mass_downloader - INFO: Initializing FDSN client(s) for GEONET.\n",
      "[2021-11-25 00:51:20,235] - obspy.clients.fdsn.mass_downloader - INFO: Successfully initialized 1 client(s): GEONET.\n",
      "[2021-11-25 00:51:20,249] - obspy.clients.fdsn.mass_downloader - INFO: Total acquired or preexisting stations: 0\n",
      "[2021-11-25 00:51:20,256] - obspy.clients.fdsn.mass_downloader - INFO: Client 'GEONET' - Requesting unreliable availability.\n"
     ]
    },
    {
     "name": "stdout",
     "output_type": "stream",
     "text": [
      "=================================================================\n",
      "Initiating mass download request.\n"
     ]
    },
    {
     "name": "stderr",
     "output_type": "stream",
     "text": [
      "[2021-11-25 00:51:20,850] - obspy.clients.fdsn.mass_downloader - INFO: Client 'GEONET' - Successfully requested availability (0.59 seconds)\n",
      "[2021-11-25 00:51:20,888] - obspy.clients.fdsn.mass_downloader - INFO: Client 'GEONET' - Found 1 stations (1 channels).\n",
      "[2021-11-25 00:51:20,916] - obspy.clients.fdsn.mass_downloader - INFO: Client 'GEONET' - Will attempt to download data from 1 stations.\n",
      "[2021-11-25 00:51:20,923] - obspy.clients.fdsn.mass_downloader - INFO: Client 'GEONET' - Status for 1 time intervals/channels before downloading: NEEDS_DOWNLOADING\n",
      "[2021-11-25 00:51:21,901] - obspy.clients.fdsn.mass_downloader - INFO: Client 'GEONET' - Successfully downloaded 1 channels (of 1)\n",
      "[2021-11-25 00:51:21,988] - obspy.clients.fdsn.mass_downloader - INFO: Client 'GEONET' - Launching basic QC checks...\n",
      "[2021-11-25 00:51:22,046] - obspy.clients.fdsn.mass_downloader - INFO: Client 'GEONET' - Downloaded 0.0 MB [3.35 KB/sec] of data, 0.0 MB of which were discarded afterwards.\n",
      "[2021-11-25 00:51:22,082] - obspy.clients.fdsn.mass_downloader - INFO: Client 'GEONET' - Status for 1 time intervals/channels after downloading: DOWNLOADED\n",
      "[2021-11-25 00:51:22,137] - obspy.clients.fdsn.mass_downloader - INFO: Client 'GEONET' - No station information to download.\n",
      "[2021-11-25 00:51:22,167] - obspy.clients.fdsn.mass_downloader - INFO: ============================== Final report\n",
      "[2021-11-25 00:51:22,168] - obspy.clients.fdsn.mass_downloader - INFO: 0 MiniSEED files [0.0 MB] already existed.\n",
      "[2021-11-25 00:51:22,169] - obspy.clients.fdsn.mass_downloader - INFO: 1 StationXML files [0.0 MB] already existed.\n",
      "[2021-11-25 00:51:22,169] - obspy.clients.fdsn.mass_downloader - INFO: Client 'GEONET' - Acquired 1 MiniSEED files [0.0 MB].\n",
      "[2021-11-25 00:51:22,173] - obspy.clients.fdsn.mass_downloader - INFO: Client 'GEONET' - Acquired 0 StationXML files [0.0 MB].\n",
      "[2021-11-25 00:51:22,174] - obspy.clients.fdsn.mass_downloader - INFO: Downloaded 0.0 MB in total.\n",
      "[2021-11-25 00:51:22,244] - obspy.clients.fdsn.mass_downloader - INFO: Initializing FDSN client(s) for GEONET.\n"
     ]
    },
    {
     "name": "stdout",
     "output_type": "stream",
     "text": [
      "=================================================================\n",
      "Initiating mass download request.\n"
     ]
    },
    {
     "name": "stderr",
     "output_type": "stream",
     "text": [
      "[2021-11-25 00:51:22,461] - obspy.clients.fdsn.mass_downloader - INFO: Successfully initialized 1 client(s): GEONET.\n",
      "[2021-11-25 00:51:22,479] - obspy.clients.fdsn.mass_downloader - INFO: Total acquired or preexisting stations: 0\n",
      "[2021-11-25 00:51:22,504] - obspy.clients.fdsn.mass_downloader - INFO: Client 'GEONET' - Requesting unreliable availability.\n",
      "[2021-11-25 00:51:23,197] - obspy.clients.fdsn.mass_downloader - INFO: Client 'GEONET' - Successfully requested availability (0.68 seconds)\n",
      "[2021-11-25 00:51:23,213] - obspy.clients.fdsn.mass_downloader - INFO: Client 'GEONET' - Found 1 stations (1 channels).\n",
      "[2021-11-25 00:51:23,222] - obspy.clients.fdsn.mass_downloader - INFO: Client 'GEONET' - Will attempt to download data from 1 stations.\n",
      "[2021-11-25 00:51:23,226] - obspy.clients.fdsn.mass_downloader - INFO: Client 'GEONET' - Status for 1 time intervals/channels before downloading: NEEDS_DOWNLOADING\n",
      "[2021-11-25 00:51:24,073] - obspy.clients.fdsn.mass_downloader - INFO: Client 'GEONET' - Successfully downloaded 1 channels (of 1)\n",
      "[2021-11-25 00:51:24,173] - obspy.clients.fdsn.mass_downloader - INFO: Client 'GEONET' - Launching basic QC checks...\n",
      "[2021-11-25 00:51:24,214] - obspy.clients.fdsn.mass_downloader - INFO: Client 'GEONET' - Downloaded 0.0 MB [4.33 KB/sec] of data, 0.0 MB of which were discarded afterwards.\n",
      "[2021-11-25 00:51:24,217] - obspy.clients.fdsn.mass_downloader - INFO: Client 'GEONET' - Status for 1 time intervals/channels after downloading: DOWNLOADED\n",
      "[2021-11-25 00:51:24,228] - obspy.clients.fdsn.mass_downloader - INFO: Client 'GEONET' - No station information to download.\n",
      "[2021-11-25 00:51:24,235] - obspy.clients.fdsn.mass_downloader - INFO: ============================== Final report\n",
      "[2021-11-25 00:51:24,238] - obspy.clients.fdsn.mass_downloader - INFO: 0 MiniSEED files [0.0 MB] already existed.\n",
      "[2021-11-25 00:51:24,244] - obspy.clients.fdsn.mass_downloader - INFO: 1 StationXML files [0.0 MB] already existed.\n",
      "[2021-11-25 00:51:24,247] - obspy.clients.fdsn.mass_downloader - INFO: Client 'GEONET' - Acquired 1 MiniSEED files [0.0 MB].\n",
      "[2021-11-25 00:51:24,247] - obspy.clients.fdsn.mass_downloader - INFO: Client 'GEONET' - Acquired 0 StationXML files [0.0 MB].\n",
      "[2021-11-25 00:51:24,251] - obspy.clients.fdsn.mass_downloader - INFO: Downloaded 0.0 MB in total.\n",
      "[2021-11-25 00:51:24,304] - obspy.clients.fdsn.mass_downloader - INFO: Initializing FDSN client(s) for GEONET.\n",
      "[2021-11-25 00:51:24,341] - obspy.clients.fdsn.mass_downloader - INFO: Successfully initialized 1 client(s): GEONET.\n",
      "[2021-11-25 00:51:24,347] - obspy.clients.fdsn.mass_downloader - INFO: Total acquired or preexisting stations: 0\n",
      "[2021-11-25 00:51:24,350] - obspy.clients.fdsn.mass_downloader - INFO: Client 'GEONET' - Requesting unreliable availability.\n"
     ]
    },
    {
     "name": "stdout",
     "output_type": "stream",
     "text": [
      "=================================================================\n",
      "Initiating mass download request.\n"
     ]
    },
    {
     "name": "stderr",
     "output_type": "stream",
     "text": [
      "[2021-11-25 00:51:25,030] - obspy.clients.fdsn.mass_downloader - INFO: Client 'GEONET' - Successfully requested availability (0.68 seconds)\n",
      "[2021-11-25 00:51:25,112] - obspy.clients.fdsn.mass_downloader - INFO: Client 'GEONET' - Found 1 stations (1 channels).\n",
      "[2021-11-25 00:51:25,135] - obspy.clients.fdsn.mass_downloader - INFO: Client 'GEONET' - Will attempt to download data from 1 stations.\n",
      "[2021-11-25 00:51:25,157] - obspy.clients.fdsn.mass_downloader - INFO: Client 'GEONET' - Status for 1 time intervals/channels before downloading: NEEDS_DOWNLOADING\n",
      "[2021-11-25 00:51:26,051] - obspy.clients.fdsn.mass_downloader - INFO: Client 'GEONET' - Successfully downloaded 1 channels (of 1)\n",
      "[2021-11-25 00:51:26,153] - obspy.clients.fdsn.mass_downloader - INFO: Client 'GEONET' - Launching basic QC checks...\n",
      "[2021-11-25 00:51:26,222] - obspy.clients.fdsn.mass_downloader - INFO: Client 'GEONET' - Downloaded 0.0 MB [3.65 KB/sec] of data, 0.0 MB of which were discarded afterwards.\n",
      "[2021-11-25 00:51:26,227] - obspy.clients.fdsn.mass_downloader - INFO: Client 'GEONET' - Status for 1 time intervals/channels after downloading: DOWNLOADED\n",
      "[2021-11-25 00:51:26,277] - obspy.clients.fdsn.mass_downloader - INFO: Client 'GEONET' - No station information to download.\n",
      "[2021-11-25 00:51:26,281] - obspy.clients.fdsn.mass_downloader - INFO: ============================== Final report\n",
      "[2021-11-25 00:51:26,283] - obspy.clients.fdsn.mass_downloader - INFO: 0 MiniSEED files [0.0 MB] already existed.\n",
      "[2021-11-25 00:51:26,283] - obspy.clients.fdsn.mass_downloader - INFO: 1 StationXML files [0.0 MB] already existed.\n",
      "[2021-11-25 00:51:26,287] - obspy.clients.fdsn.mass_downloader - INFO: Client 'GEONET' - Acquired 1 MiniSEED files [0.0 MB].\n",
      "[2021-11-25 00:51:26,289] - obspy.clients.fdsn.mass_downloader - INFO: Client 'GEONET' - Acquired 0 StationXML files [0.0 MB].\n",
      "[2021-11-25 00:51:26,296] - obspy.clients.fdsn.mass_downloader - INFO: Downloaded 0.0 MB in total.\n",
      "[2021-11-25 00:51:26,341] - obspy.clients.fdsn.mass_downloader - INFO: Initializing FDSN client(s) for GEONET.\n",
      "[2021-11-25 00:51:26,414] - obspy.clients.fdsn.mass_downloader - INFO: Successfully initialized 1 client(s): GEONET.\n",
      "[2021-11-25 00:51:26,418] - obspy.clients.fdsn.mass_downloader - INFO: Total acquired or preexisting stations: 0\n",
      "[2021-11-25 00:51:26,423] - obspy.clients.fdsn.mass_downloader - INFO: Client 'GEONET' - Requesting unreliable availability.\n"
     ]
    },
    {
     "name": "stdout",
     "output_type": "stream",
     "text": [
      "=================================================================\n",
      "Initiating mass download request.\n"
     ]
    },
    {
     "name": "stderr",
     "output_type": "stream",
     "text": [
      "[2021-11-25 00:51:27,182] - obspy.clients.fdsn.mass_downloader - INFO: Client 'GEONET' - Successfully requested availability (0.76 seconds)\n",
      "[2021-11-25 00:51:27,218] - obspy.clients.fdsn.mass_downloader - INFO: Client 'GEONET' - Found 1 stations (1 channels).\n",
      "[2021-11-25 00:51:27,250] - obspy.clients.fdsn.mass_downloader - INFO: Client 'GEONET' - Will attempt to download data from 1 stations.\n",
      "[2021-11-25 00:51:27,260] - obspy.clients.fdsn.mass_downloader - INFO: Client 'GEONET' - Status for 1 time intervals/channels before downloading: NEEDS_DOWNLOADING\n",
      "[2021-11-25 00:51:28,192] - obspy.clients.fdsn.mass_downloader - INFO: Client 'GEONET' - Successfully downloaded 1 channels (of 1)\n",
      "[2021-11-25 00:51:28,290] - obspy.clients.fdsn.mass_downloader - INFO: Client 'GEONET' - Launching basic QC checks...\n",
      "[2021-11-25 00:51:28,355] - obspy.clients.fdsn.mass_downloader - INFO: Client 'GEONET' - Downloaded 0.0 MB [6.21 KB/sec] of data, 0.0 MB of which were discarded afterwards.\n",
      "[2021-11-25 00:51:28,361] - obspy.clients.fdsn.mass_downloader - INFO: Client 'GEONET' - Status for 1 time intervals/channels after downloading: DOWNLOADED\n",
      "[2021-11-25 00:51:28,380] - obspy.clients.fdsn.mass_downloader - INFO: Client 'GEONET' - No station information to download.\n",
      "[2021-11-25 00:51:28,392] - obspy.clients.fdsn.mass_downloader - INFO: ============================== Final report\n",
      "[2021-11-25 00:51:28,396] - obspy.clients.fdsn.mass_downloader - INFO: 0 MiniSEED files [0.0 MB] already existed.\n",
      "[2021-11-25 00:51:28,397] - obspy.clients.fdsn.mass_downloader - INFO: 1 StationXML files [0.0 MB] already existed.\n",
      "[2021-11-25 00:51:28,397] - obspy.clients.fdsn.mass_downloader - INFO: Client 'GEONET' - Acquired 1 MiniSEED files [0.0 MB].\n",
      "[2021-11-25 00:51:28,401] - obspy.clients.fdsn.mass_downloader - INFO: Client 'GEONET' - Acquired 0 StationXML files [0.0 MB].\n",
      "[2021-11-25 00:51:28,402] - obspy.clients.fdsn.mass_downloader - INFO: Downloaded 0.0 MB in total.\n",
      "[2021-11-25 00:51:28,437] - obspy.clients.fdsn.mass_downloader - INFO: Initializing FDSN client(s) for GEONET.\n",
      "[2021-11-25 00:51:28,473] - obspy.clients.fdsn.mass_downloader - INFO: Successfully initialized 1 client(s): GEONET.\n",
      "[2021-11-25 00:51:28,481] - obspy.clients.fdsn.mass_downloader - INFO: Total acquired or preexisting stations: 0\n",
      "[2021-11-25 00:51:28,485] - obspy.clients.fdsn.mass_downloader - INFO: Client 'GEONET' - Requesting unreliable availability.\n"
     ]
    },
    {
     "name": "stdout",
     "output_type": "stream",
     "text": [
      "=================================================================\n",
      "Initiating mass download request.\n"
     ]
    },
    {
     "name": "stderr",
     "output_type": "stream",
     "text": [
      "[2021-11-25 00:51:29,092] - obspy.clients.fdsn.mass_downloader - INFO: Client 'GEONET' - Successfully requested availability (0.60 seconds)\n",
      "[2021-11-25 00:51:29,115] - obspy.clients.fdsn.mass_downloader - INFO: Client 'GEONET' - Found 1 stations (1 channels).\n",
      "[2021-11-25 00:51:29,120] - obspy.clients.fdsn.mass_downloader - INFO: Client 'GEONET' - Will attempt to download data from 1 stations.\n",
      "[2021-11-25 00:51:29,126] - obspy.clients.fdsn.mass_downloader - INFO: Client 'GEONET' - Status for 1 time intervals/channels before downloading: NEEDS_DOWNLOADING\n",
      "[2021-11-25 00:51:30,150] - obspy.clients.fdsn.mass_downloader - INFO: Client 'GEONET' - Successfully downloaded 1 channels (of 1)\n",
      "[2021-11-25 00:51:30,162] - obspy.clients.fdsn.mass_downloader - INFO: Client 'GEONET' - Launching basic QC checks...\n",
      "[2021-11-25 00:51:30,170] - obspy.clients.fdsn.mass_downloader - INFO: Client 'GEONET' - Downloaded 0.0 MB [3.93 KB/sec] of data, 0.0 MB of which were discarded afterwards.\n",
      "[2021-11-25 00:51:30,171] - obspy.clients.fdsn.mass_downloader - INFO: Client 'GEONET' - Status for 1 time intervals/channels after downloading: DOWNLOADED\n",
      "[2021-11-25 00:51:30,174] - obspy.clients.fdsn.mass_downloader - INFO: Client 'GEONET' - No station information to download.\n",
      "[2021-11-25 00:51:30,177] - obspy.clients.fdsn.mass_downloader - INFO: ============================== Final report\n",
      "[2021-11-25 00:51:30,178] - obspy.clients.fdsn.mass_downloader - INFO: 0 MiniSEED files [0.0 MB] already existed.\n",
      "[2021-11-25 00:51:30,178] - obspy.clients.fdsn.mass_downloader - INFO: 1 StationXML files [0.0 MB] already existed.\n",
      "[2021-11-25 00:51:30,179] - obspy.clients.fdsn.mass_downloader - INFO: Client 'GEONET' - Acquired 1 MiniSEED files [0.0 MB].\n",
      "[2021-11-25 00:51:30,179] - obspy.clients.fdsn.mass_downloader - INFO: Client 'GEONET' - Acquired 0 StationXML files [0.0 MB].\n",
      "[2021-11-25 00:51:30,180] - obspy.clients.fdsn.mass_downloader - INFO: Downloaded 0.0 MB in total.\n",
      "[2021-11-25 00:51:30,192] - obspy.clients.fdsn.mass_downloader - INFO: Initializing FDSN client(s) for GEONET.\n",
      "[2021-11-25 00:51:30,221] - obspy.clients.fdsn.mass_downloader - INFO: Successfully initialized 1 client(s): GEONET.\n",
      "[2021-11-25 00:51:30,225] - obspy.clients.fdsn.mass_downloader - INFO: Total acquired or preexisting stations: 0\n",
      "[2021-11-25 00:51:30,226] - obspy.clients.fdsn.mass_downloader - INFO: Client 'GEONET' - Requesting unreliable availability.\n"
     ]
    },
    {
     "name": "stdout",
     "output_type": "stream",
     "text": [
      "=================================================================\n",
      "Initiating mass download request.\n"
     ]
    },
    {
     "name": "stderr",
     "output_type": "stream",
     "text": [
      "[2021-11-25 00:51:30,871] - obspy.clients.fdsn.mass_downloader - INFO: Client 'GEONET' - Successfully requested availability (0.64 seconds)\n",
      "[2021-11-25 00:51:30,886] - obspy.clients.fdsn.mass_downloader - INFO: Client 'GEONET' - Found 1 stations (1 channels).\n",
      "[2021-11-25 00:51:30,895] - obspy.clients.fdsn.mass_downloader - INFO: Client 'GEONET' - Will attempt to download data from 1 stations.\n",
      "[2021-11-25 00:51:30,903] - obspy.clients.fdsn.mass_downloader - INFO: Client 'GEONET' - Status for 1 time intervals/channels before downloading: NEEDS_DOWNLOADING\n",
      "[2021-11-25 00:51:31,747] - obspy.clients.fdsn.mass_downloader - INFO: Client 'GEONET' - Successfully downloaded 1 channels (of 1)\n",
      "[2021-11-25 00:51:31,853] - obspy.clients.fdsn.mass_downloader - INFO: Client 'GEONET' - Launching basic QC checks...\n",
      "[2021-11-25 00:51:31,908] - obspy.clients.fdsn.mass_downloader - INFO: Client 'GEONET' - Downloaded 0.0 MB [5.36 KB/sec] of data, 0.0 MB of which were discarded afterwards.\n",
      "[2021-11-25 00:51:31,925] - obspy.clients.fdsn.mass_downloader - INFO: Client 'GEONET' - Status for 1 time intervals/channels after downloading: DOWNLOADED\n",
      "[2021-11-25 00:51:31,968] - obspy.clients.fdsn.mass_downloader - INFO: Client 'GEONET' - No station information to download.\n",
      "[2021-11-25 00:51:31,984] - obspy.clients.fdsn.mass_downloader - INFO: ============================== Final report\n",
      "[2021-11-25 00:51:31,987] - obspy.clients.fdsn.mass_downloader - INFO: 0 MiniSEED files [0.0 MB] already existed.\n",
      "[2021-11-25 00:51:31,992] - obspy.clients.fdsn.mass_downloader - INFO: 1 StationXML files [0.0 MB] already existed.\n",
      "[2021-11-25 00:51:31,993] - obspy.clients.fdsn.mass_downloader - INFO: Client 'GEONET' - Acquired 1 MiniSEED files [0.0 MB].\n",
      "[2021-11-25 00:51:31,993] - obspy.clients.fdsn.mass_downloader - INFO: Client 'GEONET' - Acquired 0 StationXML files [0.0 MB].\n",
      "[2021-11-25 00:51:31,996] - obspy.clients.fdsn.mass_downloader - INFO: Downloaded 0.0 MB in total.\n",
      "[2021-11-25 00:51:32,019] - obspy.clients.fdsn.mass_downloader - INFO: Initializing FDSN client(s) for GEONET.\n",
      "[2021-11-25 00:51:32,072] - obspy.clients.fdsn.mass_downloader - INFO: Successfully initialized 1 client(s): GEONET.\n",
      "[2021-11-25 00:51:32,075] - obspy.clients.fdsn.mass_downloader - INFO: Total acquired or preexisting stations: 0\n",
      "[2021-11-25 00:51:32,081] - obspy.clients.fdsn.mass_downloader - INFO: Client 'GEONET' - Requesting unreliable availability.\n"
     ]
    },
    {
     "name": "stdout",
     "output_type": "stream",
     "text": [
      "=================================================================\n",
      "Initiating mass download request.\n"
     ]
    },
    {
     "name": "stderr",
     "output_type": "stream",
     "text": [
      "[2021-11-25 00:51:32,756] - obspy.clients.fdsn.mass_downloader - INFO: Client 'GEONET' - Successfully requested availability (0.67 seconds)\n",
      "[2021-11-25 00:51:32,775] - obspy.clients.fdsn.mass_downloader - INFO: Client 'GEONET' - Found 1 stations (1 channels).\n",
      "[2021-11-25 00:51:32,797] - obspy.clients.fdsn.mass_downloader - INFO: Client 'GEONET' - Will attempt to download data from 1 stations.\n",
      "[2021-11-25 00:51:32,801] - obspy.clients.fdsn.mass_downloader - INFO: Client 'GEONET' - Status for 1 time intervals/channels before downloading: NEEDS_DOWNLOADING\n",
      "[2021-11-25 00:51:33,610] - obspy.clients.fdsn.mass_downloader - INFO: Client 'GEONET' - Successfully downloaded 1 channels (of 1)\n",
      "[2021-11-25 00:51:33,642] - obspy.clients.fdsn.mass_downloader - INFO: Client 'GEONET' - Launching basic QC checks...\n",
      "[2021-11-25 00:51:33,675] - obspy.clients.fdsn.mass_downloader - INFO: Client 'GEONET' - Downloaded 0.0 MB [4.43 KB/sec] of data, 0.0 MB of which were discarded afterwards.\n",
      "[2021-11-25 00:51:33,685] - obspy.clients.fdsn.mass_downloader - INFO: Client 'GEONET' - Status for 1 time intervals/channels after downloading: DOWNLOADED\n",
      "[2021-11-25 00:51:33,694] - obspy.clients.fdsn.mass_downloader - INFO: Client 'GEONET' - No station information to download.\n",
      "[2021-11-25 00:51:33,702] - obspy.clients.fdsn.mass_downloader - INFO: ============================== Final report\n",
      "[2021-11-25 00:51:33,707] - obspy.clients.fdsn.mass_downloader - INFO: 0 MiniSEED files [0.0 MB] already existed.\n",
      "[2021-11-25 00:51:33,712] - obspy.clients.fdsn.mass_downloader - INFO: 1 StationXML files [0.0 MB] already existed.\n",
      "[2021-11-25 00:51:33,714] - obspy.clients.fdsn.mass_downloader - INFO: Client 'GEONET' - Acquired 1 MiniSEED files [0.0 MB].\n",
      "[2021-11-25 00:51:33,715] - obspy.clients.fdsn.mass_downloader - INFO: Client 'GEONET' - Acquired 0 StationXML files [0.0 MB].\n",
      "[2021-11-25 00:51:33,715] - obspy.clients.fdsn.mass_downloader - INFO: Downloaded 0.0 MB in total.\n",
      "[2021-11-25 00:51:33,740] - obspy.clients.fdsn.mass_downloader - INFO: Initializing FDSN client(s) for GEONET.\n",
      "[2021-11-25 00:51:33,762] - obspy.clients.fdsn.mass_downloader - INFO: Successfully initialized 1 client(s): GEONET.\n",
      "[2021-11-25 00:51:33,765] - obspy.clients.fdsn.mass_downloader - INFO: Total acquired or preexisting stations: 0\n",
      "[2021-11-25 00:51:33,768] - obspy.clients.fdsn.mass_downloader - INFO: Client 'GEONET' - Requesting unreliable availability.\n"
     ]
    },
    {
     "name": "stdout",
     "output_type": "stream",
     "text": [
      "=================================================================\n",
      "Initiating mass download request.\n"
     ]
    },
    {
     "name": "stderr",
     "output_type": "stream",
     "text": [
      "[2021-11-25 00:51:34,386] - obspy.clients.fdsn.mass_downloader - INFO: Client 'GEONET' - Successfully requested availability (0.61 seconds)\n",
      "[2021-11-25 00:51:34,430] - obspy.clients.fdsn.mass_downloader - INFO: Client 'GEONET' - Found 1 stations (1 channels).\n",
      "[2021-11-25 00:51:34,443] - obspy.clients.fdsn.mass_downloader - INFO: Client 'GEONET' - Will attempt to download data from 1 stations.\n",
      "[2021-11-25 00:51:34,449] - obspy.clients.fdsn.mass_downloader - INFO: Client 'GEONET' - Status for 1 time intervals/channels before downloading: NEEDS_DOWNLOADING\n",
      "[2021-11-25 00:51:35,500] - obspy.clients.fdsn.mass_downloader - INFO: Client 'GEONET' - Successfully downloaded 1 channels (of 1)\n",
      "[2021-11-25 00:51:35,522] - obspy.clients.fdsn.mass_downloader - INFO: Client 'GEONET' - Launching basic QC checks...\n",
      "[2021-11-25 00:51:35,546] - obspy.clients.fdsn.mass_downloader - INFO: Client 'GEONET' - Downloaded 0.0 MB [3.67 KB/sec] of data, 0.0 MB of which were discarded afterwards.\n",
      "[2021-11-25 00:51:35,554] - obspy.clients.fdsn.mass_downloader - INFO: Client 'GEONET' - Status for 1 time intervals/channels after downloading: DOWNLOADED\n",
      "[2021-11-25 00:51:35,591] - obspy.clients.fdsn.mass_downloader - INFO: Client 'GEONET' - No station information to download.\n",
      "[2021-11-25 00:51:35,608] - obspy.clients.fdsn.mass_downloader - INFO: ============================== Final report\n",
      "[2021-11-25 00:51:35,614] - obspy.clients.fdsn.mass_downloader - INFO: 0 MiniSEED files [0.0 MB] already existed.\n",
      "[2021-11-25 00:51:35,618] - obspy.clients.fdsn.mass_downloader - INFO: 1 StationXML files [0.0 MB] already existed.\n",
      "[2021-11-25 00:51:35,625] - obspy.clients.fdsn.mass_downloader - INFO: Client 'GEONET' - Acquired 1 MiniSEED files [0.0 MB].\n",
      "[2021-11-25 00:51:35,629] - obspy.clients.fdsn.mass_downloader - INFO: Client 'GEONET' - Acquired 0 StationXML files [0.0 MB].\n",
      "[2021-11-25 00:51:35,632] - obspy.clients.fdsn.mass_downloader - INFO: Downloaded 0.0 MB in total.\n",
      "[2021-11-25 00:51:35,655] - obspy.clients.fdsn.mass_downloader - INFO: Initializing FDSN client(s) for GEONET.\n",
      "[2021-11-25 00:51:35,707] - obspy.clients.fdsn.mass_downloader - INFO: Successfully initialized 1 client(s): GEONET.\n",
      "[2021-11-25 00:51:35,718] - obspy.clients.fdsn.mass_downloader - INFO: Total acquired or preexisting stations: 0\n",
      "[2021-11-25 00:51:35,722] - obspy.clients.fdsn.mass_downloader - INFO: Client 'GEONET' - Requesting unreliable availability.\n"
     ]
    },
    {
     "name": "stdout",
     "output_type": "stream",
     "text": [
      "=================================================================\n",
      "Initiating mass download request.\n"
     ]
    },
    {
     "name": "stderr",
     "output_type": "stream",
     "text": [
      "[2021-11-25 00:51:36,355] - obspy.clients.fdsn.mass_downloader - INFO: Client 'GEONET' - Successfully requested availability (0.63 seconds)\n",
      "[2021-11-25 00:51:36,368] - obspy.clients.fdsn.mass_downloader - INFO: Client 'GEONET' - Found 1 stations (1 channels).\n",
      "[2021-11-25 00:51:36,374] - obspy.clients.fdsn.mass_downloader - INFO: Client 'GEONET' - Will attempt to download data from 1 stations.\n",
      "[2021-11-25 00:51:36,376] - obspy.clients.fdsn.mass_downloader - INFO: Client 'GEONET' - Status for 1 time intervals/channels before downloading: NEEDS_DOWNLOADING\n",
      "[2021-11-25 00:51:37,222] - obspy.clients.fdsn.mass_downloader - INFO: Client 'GEONET' - Successfully downloaded 1 channels (of 1)\n",
      "[2021-11-25 00:51:37,231] - obspy.clients.fdsn.mass_downloader - INFO: Client 'GEONET' - Launching basic QC checks...\n",
      "[2021-11-25 00:51:37,268] - obspy.clients.fdsn.mass_downloader - INFO: Client 'GEONET' - Downloaded 0.0 MB [4.21 KB/sec] of data, 0.0 MB of which were discarded afterwards.\n",
      "[2021-11-25 00:51:37,270] - obspy.clients.fdsn.mass_downloader - INFO: Client 'GEONET' - Status for 1 time intervals/channels after downloading: DOWNLOADED\n",
      "[2021-11-25 00:51:37,274] - obspy.clients.fdsn.mass_downloader - INFO: Client 'GEONET' - No station information to download.\n",
      "[2021-11-25 00:51:37,275] - obspy.clients.fdsn.mass_downloader - INFO: ============================== Final report\n",
      "[2021-11-25 00:51:37,276] - obspy.clients.fdsn.mass_downloader - INFO: 0 MiniSEED files [0.0 MB] already existed.\n",
      "[2021-11-25 00:51:37,276] - obspy.clients.fdsn.mass_downloader - INFO: 1 StationXML files [0.0 MB] already existed.\n",
      "[2021-11-25 00:51:37,277] - obspy.clients.fdsn.mass_downloader - INFO: Client 'GEONET' - Acquired 1 MiniSEED files [0.0 MB].\n",
      "[2021-11-25 00:51:37,278] - obspy.clients.fdsn.mass_downloader - INFO: Client 'GEONET' - Acquired 0 StationXML files [0.0 MB].\n",
      "[2021-11-25 00:51:37,278] - obspy.clients.fdsn.mass_downloader - INFO: Downloaded 0.0 MB in total.\n",
      "[2021-11-25 00:51:37,282] - obspy.clients.fdsn.mass_downloader - INFO: Initializing FDSN client(s) for GEONET.\n",
      "[2021-11-25 00:51:37,290] - obspy.clients.fdsn.mass_downloader - INFO: Successfully initialized 1 client(s): GEONET.\n",
      "[2021-11-25 00:51:37,291] - obspy.clients.fdsn.mass_downloader - INFO: Total acquired or preexisting stations: 0\n",
      "[2021-11-25 00:51:37,292] - obspy.clients.fdsn.mass_downloader - INFO: Client 'GEONET' - Requesting unreliable availability.\n"
     ]
    },
    {
     "name": "stdout",
     "output_type": "stream",
     "text": [
      "=================================================================\n",
      "Initiating mass download request.\n"
     ]
    },
    {
     "name": "stderr",
     "output_type": "stream",
     "text": [
      "[2021-11-25 00:51:37,975] - obspy.clients.fdsn.mass_downloader - INFO: Client 'GEONET' - Successfully requested availability (0.68 seconds)\n",
      "[2021-11-25 00:51:37,984] - obspy.clients.fdsn.mass_downloader - INFO: Client 'GEONET' - Found 1 stations (1 channels).\n",
      "[2021-11-25 00:51:37,986] - obspy.clients.fdsn.mass_downloader - INFO: Client 'GEONET' - Will attempt to download data from 1 stations.\n",
      "[2021-11-25 00:51:37,988] - obspy.clients.fdsn.mass_downloader - INFO: Client 'GEONET' - Status for 1 time intervals/channels before downloading: NEEDS_DOWNLOADING\n",
      "[2021-11-25 00:51:38,793] - obspy.clients.fdsn.mass_downloader - INFO: Client 'GEONET' - Successfully downloaded 1 channels (of 1)\n",
      "[2021-11-25 00:51:38,796] - obspy.clients.fdsn.mass_downloader - INFO: Client 'GEONET' - Launching basic QC checks...\n",
      "[2021-11-25 00:51:38,803] - obspy.clients.fdsn.mass_downloader - INFO: Client 'GEONET' - Downloaded 0.0 MB [4.39 KB/sec] of data, 0.0 MB of which were discarded afterwards.\n",
      "[2021-11-25 00:51:38,804] - obspy.clients.fdsn.mass_downloader - INFO: Client 'GEONET' - Status for 1 time intervals/channels after downloading: DOWNLOADED\n",
      "[2021-11-25 00:51:38,806] - obspy.clients.fdsn.mass_downloader - INFO: Client 'GEONET' - No station information to download.\n",
      "[2021-11-25 00:51:38,807] - obspy.clients.fdsn.mass_downloader - INFO: ============================== Final report\n",
      "[2021-11-25 00:51:38,807] - obspy.clients.fdsn.mass_downloader - INFO: 0 MiniSEED files [0.0 MB] already existed.\n",
      "[2021-11-25 00:51:38,808] - obspy.clients.fdsn.mass_downloader - INFO: 1 StationXML files [0.0 MB] already existed.\n",
      "[2021-11-25 00:51:38,808] - obspy.clients.fdsn.mass_downloader - INFO: Client 'GEONET' - Acquired 1 MiniSEED files [0.0 MB].\n",
      "[2021-11-25 00:51:38,808] - obspy.clients.fdsn.mass_downloader - INFO: Client 'GEONET' - Acquired 0 StationXML files [0.0 MB].\n",
      "[2021-11-25 00:51:38,808] - obspy.clients.fdsn.mass_downloader - INFO: Downloaded 0.0 MB in total.\n",
      "[2021-11-25 00:51:38,815] - obspy.clients.fdsn.mass_downloader - INFO: Initializing FDSN client(s) for GEONET.\n",
      "[2021-11-25 00:51:38,823] - obspy.clients.fdsn.mass_downloader - INFO: Successfully initialized 1 client(s): GEONET.\n",
      "[2021-11-25 00:51:38,824] - obspy.clients.fdsn.mass_downloader - INFO: Total acquired or preexisting stations: 0\n",
      "[2021-11-25 00:51:38,824] - obspy.clients.fdsn.mass_downloader - INFO: Client 'GEONET' - Requesting unreliable availability.\n"
     ]
    },
    {
     "name": "stdout",
     "output_type": "stream",
     "text": [
      "=================================================================\n",
      "Initiating mass download request.\n"
     ]
    },
    {
     "name": "stderr",
     "output_type": "stream",
     "text": [
      "[2021-11-25 00:51:39,422] - obspy.clients.fdsn.mass_downloader - INFO: Client 'GEONET' - Successfully requested availability (0.60 seconds)\n",
      "[2021-11-25 00:51:39,422] - obspy.clients.fdsn.mass_downloader - INFO: Client 'GEONET' - Found 1 stations (1 channels).\n",
      "[2021-11-25 00:51:39,423] - obspy.clients.fdsn.mass_downloader - INFO: Client 'GEONET' - Will attempt to download data from 1 stations.\n",
      "[2021-11-25 00:51:39,423] - obspy.clients.fdsn.mass_downloader - INFO: Client 'GEONET' - Status for 1 time intervals/channels before downloading: NEEDS_DOWNLOADING\n",
      "[2021-11-25 00:51:40,289] - obspy.clients.fdsn.mass_downloader - INFO: Client 'GEONET' - Successfully downloaded 1 channels (of 1)\n",
      "[2021-11-25 00:51:40,292] - obspy.clients.fdsn.mass_downloader - INFO: Client 'GEONET' - Launching basic QC checks...\n",
      "[2021-11-25 00:51:40,301] - obspy.clients.fdsn.mass_downloader - INFO: Client 'GEONET' - Downloaded 0.0 MB [5.20 KB/sec] of data, 0.0 MB of which were discarded afterwards.\n",
      "[2021-11-25 00:51:40,301] - obspy.clients.fdsn.mass_downloader - INFO: Client 'GEONET' - Status for 1 time intervals/channels after downloading: DOWNLOADED\n",
      "[2021-11-25 00:51:40,303] - obspy.clients.fdsn.mass_downloader - INFO: Client 'GEONET' - No station information to download.\n",
      "[2021-11-25 00:51:40,304] - obspy.clients.fdsn.mass_downloader - INFO: ============================== Final report\n",
      "[2021-11-25 00:51:40,304] - obspy.clients.fdsn.mass_downloader - INFO: 0 MiniSEED files [0.0 MB] already existed.\n",
      "[2021-11-25 00:51:40,305] - obspy.clients.fdsn.mass_downloader - INFO: 1 StationXML files [0.0 MB] already existed.\n",
      "[2021-11-25 00:51:40,305] - obspy.clients.fdsn.mass_downloader - INFO: Client 'GEONET' - Acquired 1 MiniSEED files [0.0 MB].\n",
      "[2021-11-25 00:51:40,305] - obspy.clients.fdsn.mass_downloader - INFO: Client 'GEONET' - Acquired 0 StationXML files [0.0 MB].\n",
      "[2021-11-25 00:51:40,306] - obspy.clients.fdsn.mass_downloader - INFO: Downloaded 0.0 MB in total.\n",
      "[2021-11-25 00:51:40,310] - obspy.clients.fdsn.mass_downloader - INFO: Initializing FDSN client(s) for GEONET.\n",
      "[2021-11-25 00:51:40,318] - obspy.clients.fdsn.mass_downloader - INFO: Successfully initialized 1 client(s): GEONET.\n",
      "[2021-11-25 00:51:40,319] - obspy.clients.fdsn.mass_downloader - INFO: Total acquired or preexisting stations: 0\n",
      "[2021-11-25 00:51:40,319] - obspy.clients.fdsn.mass_downloader - INFO: Client 'GEONET' - Requesting unreliable availability.\n"
     ]
    },
    {
     "name": "stdout",
     "output_type": "stream",
     "text": [
      "=================================================================\n",
      "Initiating mass download request.\n"
     ]
    },
    {
     "name": "stderr",
     "output_type": "stream",
     "text": [
      "[2021-11-25 00:51:40,862] - obspy.clients.fdsn.mass_downloader - INFO: Client 'GEONET' - Successfully requested availability (0.54 seconds)\n",
      "[2021-11-25 00:51:40,863] - obspy.clients.fdsn.mass_downloader - INFO: Client 'GEONET' - Found 1 stations (1 channels).\n",
      "[2021-11-25 00:51:40,863] - obspy.clients.fdsn.mass_downloader - INFO: Client 'GEONET' - Will attempt to download data from 1 stations.\n",
      "[2021-11-25 00:51:40,864] - obspy.clients.fdsn.mass_downloader - INFO: Client 'GEONET' - Status for 1 time intervals/channels before downloading: NEEDS_DOWNLOADING\n",
      "[2021-11-25 00:51:41,733] - obspy.clients.fdsn.mass_downloader - INFO: Client 'GEONET' - Successfully downloaded 1 channels (of 1)\n",
      "[2021-11-25 00:51:41,736] - obspy.clients.fdsn.mass_downloader - INFO: Client 'GEONET' - Launching basic QC checks...\n",
      "[2021-11-25 00:51:41,740] - obspy.clients.fdsn.mass_downloader - INFO: Client 'GEONET' - Downloaded 0.0 MB [4.59 KB/sec] of data, 0.0 MB of which were discarded afterwards.\n",
      "[2021-11-25 00:51:41,741] - obspy.clients.fdsn.mass_downloader - INFO: Client 'GEONET' - Status for 1 time intervals/channels after downloading: DOWNLOADED\n",
      "[2021-11-25 00:51:41,743] - obspy.clients.fdsn.mass_downloader - INFO: Client 'GEONET' - No station information to download.\n",
      "[2021-11-25 00:51:41,743] - obspy.clients.fdsn.mass_downloader - INFO: ============================== Final report\n",
      "[2021-11-25 00:51:41,744] - obspy.clients.fdsn.mass_downloader - INFO: 0 MiniSEED files [0.0 MB] already existed.\n",
      "[2021-11-25 00:51:41,744] - obspy.clients.fdsn.mass_downloader - INFO: 1 StationXML files [0.0 MB] already existed.\n",
      "[2021-11-25 00:51:41,744] - obspy.clients.fdsn.mass_downloader - INFO: Client 'GEONET' - Acquired 1 MiniSEED files [0.0 MB].\n",
      "[2021-11-25 00:51:41,744] - obspy.clients.fdsn.mass_downloader - INFO: Client 'GEONET' - Acquired 0 StationXML files [0.0 MB].\n",
      "[2021-11-25 00:51:41,745] - obspy.clients.fdsn.mass_downloader - INFO: Downloaded 0.0 MB in total.\n",
      "[2021-11-25 00:51:41,750] - obspy.clients.fdsn.mass_downloader - INFO: Initializing FDSN client(s) for GEONET.\n",
      "[2021-11-25 00:51:41,754] - obspy.clients.fdsn.mass_downloader - INFO: Successfully initialized 1 client(s): GEONET.\n",
      "[2021-11-25 00:51:41,754] - obspy.clients.fdsn.mass_downloader - INFO: Total acquired or preexisting stations: 0\n",
      "[2021-11-25 00:51:41,754] - obspy.clients.fdsn.mass_downloader - INFO: Client 'GEONET' - Requesting unreliable availability.\n"
     ]
    },
    {
     "name": "stdout",
     "output_type": "stream",
     "text": [
      "=================================================================\n",
      "Initiating mass download request.\n"
     ]
    },
    {
     "name": "stderr",
     "output_type": "stream",
     "text": [
      "[2021-11-25 00:51:42,418] - obspy.clients.fdsn.mass_downloader - INFO: Client 'GEONET' - Successfully requested availability (0.66 seconds)\n",
      "[2021-11-25 00:51:42,419] - obspy.clients.fdsn.mass_downloader - INFO: Client 'GEONET' - Found 1 stations (1 channels).\n",
      "[2021-11-25 00:51:42,420] - obspy.clients.fdsn.mass_downloader - INFO: Client 'GEONET' - Will attempt to download data from 1 stations.\n",
      "[2021-11-25 00:51:42,420] - obspy.clients.fdsn.mass_downloader - INFO: Client 'GEONET' - Status for 1 time intervals/channels before downloading: NEEDS_DOWNLOADING\n",
      "[2021-11-25 00:51:43,179] - obspy.clients.fdsn.mass_downloader - INFO: Client 'GEONET' - Successfully downloaded 1 channels (of 1)\n",
      "[2021-11-25 00:51:43,185] - obspy.clients.fdsn.mass_downloader - INFO: Client 'GEONET' - Launching basic QC checks...\n",
      "[2021-11-25 00:51:43,194] - obspy.clients.fdsn.mass_downloader - INFO: Client 'GEONET' - Downloaded 0.0 MB [4.59 KB/sec] of data, 0.0 MB of which were discarded afterwards.\n",
      "[2021-11-25 00:51:43,195] - obspy.clients.fdsn.mass_downloader - INFO: Client 'GEONET' - Status for 1 time intervals/channels after downloading: DOWNLOADED\n",
      "[2021-11-25 00:51:43,199] - obspy.clients.fdsn.mass_downloader - INFO: Client 'GEONET' - No station information to download.\n",
      "[2021-11-25 00:51:43,200] - obspy.clients.fdsn.mass_downloader - INFO: ============================== Final report\n",
      "[2021-11-25 00:51:43,201] - obspy.clients.fdsn.mass_downloader - INFO: 0 MiniSEED files [0.0 MB] already existed.\n",
      "[2021-11-25 00:51:43,201] - obspy.clients.fdsn.mass_downloader - INFO: 1 StationXML files [0.0 MB] already existed.\n",
      "[2021-11-25 00:51:43,202] - obspy.clients.fdsn.mass_downloader - INFO: Client 'GEONET' - Acquired 1 MiniSEED files [0.0 MB].\n",
      "[2021-11-25 00:51:43,202] - obspy.clients.fdsn.mass_downloader - INFO: Client 'GEONET' - Acquired 0 StationXML files [0.0 MB].\n",
      "[2021-11-25 00:51:43,203] - obspy.clients.fdsn.mass_downloader - INFO: Downloaded 0.0 MB in total.\n",
      "[2021-11-25 00:51:43,211] - obspy.clients.fdsn.mass_downloader - INFO: Initializing FDSN client(s) for GEONET.\n",
      "[2021-11-25 00:51:43,220] - obspy.clients.fdsn.mass_downloader - INFO: Successfully initialized 1 client(s): GEONET.\n",
      "[2021-11-25 00:51:43,221] - obspy.clients.fdsn.mass_downloader - INFO: Total acquired or preexisting stations: 0\n",
      "[2021-11-25 00:51:43,222] - obspy.clients.fdsn.mass_downloader - INFO: Client 'GEONET' - Requesting unreliable availability.\n"
     ]
    },
    {
     "name": "stdout",
     "output_type": "stream",
     "text": [
      "=================================================================\n",
      "Initiating mass download request.\n"
     ]
    },
    {
     "name": "stderr",
     "output_type": "stream",
     "text": [
      "[2021-11-25 00:51:43,791] - obspy.clients.fdsn.mass_downloader - INFO: Client 'GEONET' - Successfully requested availability (0.57 seconds)\n",
      "[2021-11-25 00:51:43,792] - obspy.clients.fdsn.mass_downloader - INFO: Client 'GEONET' - Found 1 stations (1 channels).\n",
      "[2021-11-25 00:51:43,793] - obspy.clients.fdsn.mass_downloader - INFO: Client 'GEONET' - Will attempt to download data from 1 stations.\n",
      "[2021-11-25 00:51:43,793] - obspy.clients.fdsn.mass_downloader - INFO: Client 'GEONET' - Status for 1 time intervals/channels before downloading: NEEDS_DOWNLOADING\n",
      "[2021-11-25 00:51:44,688] - obspy.clients.fdsn.mass_downloader - INFO: Client 'GEONET' - Successfully downloaded 1 channels (of 1)\n",
      "[2021-11-25 00:51:44,791] - obspy.clients.fdsn.mass_downloader - INFO: Client 'GEONET' - Launching basic QC checks...\n",
      "[2021-11-25 00:51:44,839] - obspy.clients.fdsn.mass_downloader - INFO: Client 'GEONET' - Downloaded 0.0 MB [5.53 KB/sec] of data, 0.0 MB of which were discarded afterwards.\n",
      "[2021-11-25 00:51:44,843] - obspy.clients.fdsn.mass_downloader - INFO: Client 'GEONET' - Status for 1 time intervals/channels after downloading: DOWNLOADED\n",
      "[2021-11-25 00:51:44,858] - obspy.clients.fdsn.mass_downloader - INFO: Client 'GEONET' - No station information to download.\n",
      "[2021-11-25 00:51:44,869] - obspy.clients.fdsn.mass_downloader - INFO: ============================== Final report\n",
      "[2021-11-25 00:51:44,877] - obspy.clients.fdsn.mass_downloader - INFO: 0 MiniSEED files [0.0 MB] already existed.\n",
      "[2021-11-25 00:51:44,880] - obspy.clients.fdsn.mass_downloader - INFO: 1 StationXML files [0.0 MB] already existed.\n",
      "[2021-11-25 00:51:44,884] - obspy.clients.fdsn.mass_downloader - INFO: Client 'GEONET' - Acquired 1 MiniSEED files [0.0 MB].\n",
      "[2021-11-25 00:51:44,886] - obspy.clients.fdsn.mass_downloader - INFO: Client 'GEONET' - Acquired 0 StationXML files [0.0 MB].\n",
      "[2021-11-25 00:51:44,891] - obspy.clients.fdsn.mass_downloader - INFO: Downloaded 0.0 MB in total.\n",
      "[2021-11-25 00:51:44,923] - obspy.clients.fdsn.mass_downloader - INFO: Initializing FDSN client(s) for GEONET.\n",
      "[2021-11-25 00:51:44,962] - obspy.clients.fdsn.mass_downloader - INFO: Successfully initialized 1 client(s): GEONET.\n",
      "[2021-11-25 00:51:44,970] - obspy.clients.fdsn.mass_downloader - INFO: Total acquired or preexisting stations: 0\n",
      "[2021-11-25 00:51:44,991] - obspy.clients.fdsn.mass_downloader - INFO: Client 'GEONET' - Requesting unreliable availability.\n"
     ]
    },
    {
     "name": "stdout",
     "output_type": "stream",
     "text": [
      "=================================================================\n",
      "Initiating mass download request.\n"
     ]
    },
    {
     "name": "stderr",
     "output_type": "stream",
     "text": [
      "[2021-11-25 00:51:46,250] - obspy.clients.fdsn.mass_downloader - INFO: Client 'GEONET' - Successfully requested availability (1.25 seconds)\n",
      "[2021-11-25 00:51:46,272] - obspy.clients.fdsn.mass_downloader - INFO: Client 'GEONET' - Found 1 stations (1 channels).\n",
      "[2021-11-25 00:51:46,285] - obspy.clients.fdsn.mass_downloader - INFO: Client 'GEONET' - Will attempt to download data from 1 stations.\n",
      "[2021-11-25 00:51:46,293] - obspy.clients.fdsn.mass_downloader - INFO: Client 'GEONET' - Status for 1 time intervals/channels before downloading: NEEDS_DOWNLOADING\n",
      "[2021-11-25 00:51:47,348] - obspy.clients.fdsn.mass_downloader - INFO: Client 'GEONET' - Successfully downloaded 1 channels (of 1)\n",
      "[2021-11-25 00:51:47,377] - obspy.clients.fdsn.mass_downloader - INFO: Client 'GEONET' - Launching basic QC checks...\n",
      "[2021-11-25 00:51:47,404] - obspy.clients.fdsn.mass_downloader - INFO: Client 'GEONET' - Downloaded 0.0 MB [3.81 KB/sec] of data, 0.0 MB of which were discarded afterwards.\n",
      "[2021-11-25 00:51:47,407] - obspy.clients.fdsn.mass_downloader - INFO: Client 'GEONET' - Status for 1 time intervals/channels after downloading: DOWNLOADED\n",
      "[2021-11-25 00:51:47,420] - obspy.clients.fdsn.mass_downloader - INFO: Client 'GEONET' - No station information to download.\n",
      "[2021-11-25 00:51:47,428] - obspy.clients.fdsn.mass_downloader - INFO: ============================== Final report\n",
      "[2021-11-25 00:51:47,432] - obspy.clients.fdsn.mass_downloader - INFO: 0 MiniSEED files [0.0 MB] already existed.\n",
      "[2021-11-25 00:51:47,433] - obspy.clients.fdsn.mass_downloader - INFO: 1 StationXML files [0.0 MB] already existed.\n",
      "[2021-11-25 00:51:47,435] - obspy.clients.fdsn.mass_downloader - INFO: Client 'GEONET' - Acquired 1 MiniSEED files [0.0 MB].\n",
      "[2021-11-25 00:51:47,436] - obspy.clients.fdsn.mass_downloader - INFO: Client 'GEONET' - Acquired 0 StationXML files [0.0 MB].\n",
      "[2021-11-25 00:51:47,437] - obspy.clients.fdsn.mass_downloader - INFO: Downloaded 0.0 MB in total.\n",
      "[2021-11-25 00:51:47,455] - obspy.clients.fdsn.mass_downloader - INFO: Initializing FDSN client(s) for GEONET.\n",
      "[2021-11-25 00:51:47,474] - obspy.clients.fdsn.mass_downloader - INFO: Successfully initialized 1 client(s): GEONET.\n",
      "[2021-11-25 00:51:47,476] - obspy.clients.fdsn.mass_downloader - INFO: Total acquired or preexisting stations: 0\n",
      "[2021-11-25 00:51:47,477] - obspy.clients.fdsn.mass_downloader - INFO: Client 'GEONET' - Requesting unreliable availability.\n"
     ]
    },
    {
     "name": "stdout",
     "output_type": "stream",
     "text": [
      "=================================================================\n",
      "Initiating mass download request.\n"
     ]
    },
    {
     "name": "stderr",
     "output_type": "stream",
     "text": [
      "[2021-11-25 00:51:48,155] - obspy.clients.fdsn.mass_downloader - INFO: Client 'GEONET' - Successfully requested availability (0.67 seconds)\n",
      "[2021-11-25 00:51:48,191] - obspy.clients.fdsn.mass_downloader - INFO: Client 'GEONET' - Found 1 stations (1 channels).\n",
      "[2021-11-25 00:51:48,197] - obspy.clients.fdsn.mass_downloader - INFO: Client 'GEONET' - Will attempt to download data from 1 stations.\n",
      "[2021-11-25 00:51:48,209] - obspy.clients.fdsn.mass_downloader - INFO: Client 'GEONET' - Status for 1 time intervals/channels before downloading: NEEDS_DOWNLOADING\n",
      "[2021-11-25 00:51:49,093] - obspy.clients.fdsn.mass_downloader - INFO: Client 'GEONET' - Successfully downloaded 1 channels (of 1)\n",
      "[2021-11-25 00:51:49,163] - obspy.clients.fdsn.mass_downloader - INFO: Client 'GEONET' - Launching basic QC checks...\n",
      "[2021-11-25 00:51:49,209] - obspy.clients.fdsn.mass_downloader - INFO: Client 'GEONET' - Downloaded 0.0 MB [4.86 KB/sec] of data, 0.0 MB of which were discarded afterwards.\n",
      "[2021-11-25 00:51:49,215] - obspy.clients.fdsn.mass_downloader - INFO: Client 'GEONET' - Status for 1 time intervals/channels after downloading: DOWNLOADED\n",
      "[2021-11-25 00:51:49,243] - obspy.clients.fdsn.mass_downloader - INFO: Client 'GEONET' - No station information to download.\n",
      "[2021-11-25 00:51:49,253] - obspy.clients.fdsn.mass_downloader - INFO: ============================== Final report\n",
      "[2021-11-25 00:51:49,260] - obspy.clients.fdsn.mass_downloader - INFO: 0 MiniSEED files [0.0 MB] already existed.\n",
      "[2021-11-25 00:51:49,260] - obspy.clients.fdsn.mass_downloader - INFO: 1 StationXML files [0.0 MB] already existed.\n",
      "[2021-11-25 00:51:49,262] - obspy.clients.fdsn.mass_downloader - INFO: Client 'GEONET' - Acquired 1 MiniSEED files [0.0 MB].\n",
      "[2021-11-25 00:51:49,266] - obspy.clients.fdsn.mass_downloader - INFO: Client 'GEONET' - Acquired 0 StationXML files [0.0 MB].\n",
      "[2021-11-25 00:51:49,267] - obspy.clients.fdsn.mass_downloader - INFO: Downloaded 0.0 MB in total.\n",
      "[2021-11-25 00:51:49,293] - obspy.clients.fdsn.mass_downloader - INFO: Initializing FDSN client(s) for GEONET.\n",
      "[2021-11-25 00:51:49,385] - obspy.clients.fdsn.mass_downloader - INFO: Successfully initialized 1 client(s): GEONET.\n",
      "[2021-11-25 00:51:49,410] - obspy.clients.fdsn.mass_downloader - INFO: Total acquired or preexisting stations: 0\n",
      "[2021-11-25 00:51:49,415] - obspy.clients.fdsn.mass_downloader - INFO: Client 'GEONET' - Requesting unreliable availability.\n"
     ]
    },
    {
     "name": "stdout",
     "output_type": "stream",
     "text": [
      "=================================================================\n",
      "Initiating mass download request.\n"
     ]
    },
    {
     "name": "stderr",
     "output_type": "stream",
     "text": [
      "[2021-11-25 00:51:50,053] - obspy.clients.fdsn.mass_downloader - INFO: Client 'GEONET' - Successfully requested availability (0.64 seconds)\n",
      "[2021-11-25 00:51:50,089] - obspy.clients.fdsn.mass_downloader - INFO: Client 'GEONET' - Found 1 stations (1 channels).\n",
      "[2021-11-25 00:51:50,105] - obspy.clients.fdsn.mass_downloader - INFO: Client 'GEONET' - Will attempt to download data from 1 stations.\n",
      "[2021-11-25 00:51:50,113] - obspy.clients.fdsn.mass_downloader - INFO: Client 'GEONET' - Status for 1 time intervals/channels before downloading: NEEDS_DOWNLOADING\n",
      "[2021-11-25 00:51:50,899] - obspy.clients.fdsn.mass_downloader - INFO: Client 'GEONET' - Successfully downloaded 1 channels (of 1)\n",
      "[2021-11-25 00:51:50,969] - obspy.clients.fdsn.mass_downloader - INFO: Client 'GEONET' - Launching basic QC checks...\n",
      "[2021-11-25 00:51:51,083] - obspy.clients.fdsn.mass_downloader - INFO: Client 'GEONET' - Downloaded 0.0 MB [3.63 KB/sec] of data, 0.0 MB of which were discarded afterwards.\n",
      "[2021-11-25 00:51:51,099] - obspy.clients.fdsn.mass_downloader - INFO: Client 'GEONET' - Status for 1 time intervals/channels after downloading: DOWNLOADED\n",
      "[2021-11-25 00:51:51,116] - obspy.clients.fdsn.mass_downloader - INFO: Client 'GEONET' - No station information to download.\n",
      "[2021-11-25 00:51:51,120] - obspy.clients.fdsn.mass_downloader - INFO: ============================== Final report\n",
      "[2021-11-25 00:51:51,132] - obspy.clients.fdsn.mass_downloader - INFO: 0 MiniSEED files [0.0 MB] already existed.\n",
      "[2021-11-25 00:51:51,135] - obspy.clients.fdsn.mass_downloader - INFO: 1 StationXML files [0.0 MB] already existed.\n",
      "[2021-11-25 00:51:51,136] - obspy.clients.fdsn.mass_downloader - INFO: Client 'GEONET' - Acquired 1 MiniSEED files [0.0 MB].\n",
      "[2021-11-25 00:51:51,136] - obspy.clients.fdsn.mass_downloader - INFO: Client 'GEONET' - Acquired 0 StationXML files [0.0 MB].\n",
      "[2021-11-25 00:51:51,137] - obspy.clients.fdsn.mass_downloader - INFO: Downloaded 0.0 MB in total.\n",
      "[2021-11-25 00:51:51,175] - obspy.clients.fdsn.mass_downloader - INFO: Initializing FDSN client(s) for GEONET.\n",
      "[2021-11-25 00:51:51,228] - obspy.clients.fdsn.mass_downloader - INFO: Successfully initialized 1 client(s): GEONET.\n",
      "[2021-11-25 00:51:51,239] - obspy.clients.fdsn.mass_downloader - INFO: Total acquired or preexisting stations: 0\n",
      "[2021-11-25 00:51:51,242] - obspy.clients.fdsn.mass_downloader - INFO: Client 'GEONET' - Requesting unreliable availability.\n"
     ]
    },
    {
     "name": "stdout",
     "output_type": "stream",
     "text": [
      "=================================================================\n",
      "Initiating mass download request.\n"
     ]
    },
    {
     "name": "stderr",
     "output_type": "stream",
     "text": [
      "[2021-11-25 00:51:52,739] - obspy.clients.fdsn.mass_downloader - INFO: Client 'GEONET' - Successfully requested availability (1.49 seconds)\n",
      "[2021-11-25 00:51:52,751] - obspy.clients.fdsn.mass_downloader - INFO: Client 'GEONET' - Found 1 stations (1 channels).\n",
      "[2021-11-25 00:51:52,753] - obspy.clients.fdsn.mass_downloader - INFO: Client 'GEONET' - Will attempt to download data from 1 stations.\n",
      "[2021-11-25 00:51:52,758] - obspy.clients.fdsn.mass_downloader - INFO: Client 'GEONET' - Status for 1 time intervals/channels before downloading: NEEDS_DOWNLOADING\n",
      "[2021-11-25 00:51:53,630] - obspy.clients.fdsn.mass_downloader - INFO: Client 'GEONET' - Successfully downloaded 1 channels (of 1)\n",
      "[2021-11-25 00:51:53,649] - obspy.clients.fdsn.mass_downloader - INFO: Client 'GEONET' - Launching basic QC checks...\n",
      "[2021-11-25 00:51:53,680] - obspy.clients.fdsn.mass_downloader - INFO: Client 'GEONET' - Downloaded 0.0 MB [5.66 KB/sec] of data, 0.0 MB of which were discarded afterwards.\n",
      "[2021-11-25 00:51:53,683] - obspy.clients.fdsn.mass_downloader - INFO: Client 'GEONET' - Status for 1 time intervals/channels after downloading: DOWNLOADED\n",
      "[2021-11-25 00:51:53,696] - obspy.clients.fdsn.mass_downloader - INFO: Client 'GEONET' - No station information to download.\n",
      "[2021-11-25 00:51:53,702] - obspy.clients.fdsn.mass_downloader - INFO: ============================== Final report\n",
      "[2021-11-25 00:51:53,703] - obspy.clients.fdsn.mass_downloader - INFO: 0 MiniSEED files [0.0 MB] already existed.\n",
      "[2021-11-25 00:51:53,704] - obspy.clients.fdsn.mass_downloader - INFO: 1 StationXML files [0.0 MB] already existed.\n",
      "[2021-11-25 00:51:53,705] - obspy.clients.fdsn.mass_downloader - INFO: Client 'GEONET' - Acquired 1 MiniSEED files [0.0 MB].\n",
      "[2021-11-25 00:51:53,705] - obspy.clients.fdsn.mass_downloader - INFO: Client 'GEONET' - Acquired 0 StationXML files [0.0 MB].\n",
      "[2021-11-25 00:51:53,706] - obspy.clients.fdsn.mass_downloader - INFO: Downloaded 0.0 MB in total.\n",
      "[2021-11-25 00:51:53,720] - obspy.clients.fdsn.mass_downloader - INFO: Initializing FDSN client(s) for GEONET.\n",
      "[2021-11-25 00:51:53,762] - obspy.clients.fdsn.mass_downloader - INFO: Successfully initialized 1 client(s): GEONET.\n",
      "[2021-11-25 00:51:53,767] - obspy.clients.fdsn.mass_downloader - INFO: Total acquired or preexisting stations: 0\n",
      "[2021-11-25 00:51:53,773] - obspy.clients.fdsn.mass_downloader - INFO: Client 'GEONET' - Requesting unreliable availability.\n"
     ]
    },
    {
     "name": "stdout",
     "output_type": "stream",
     "text": [
      "=================================================================\n",
      "Initiating mass download request.\n"
     ]
    },
    {
     "name": "stderr",
     "output_type": "stream",
     "text": [
      "[2021-11-25 00:51:54,363] - obspy.clients.fdsn.mass_downloader - INFO: Client 'GEONET' - Successfully requested availability (0.59 seconds)\n",
      "[2021-11-25 00:51:54,407] - obspy.clients.fdsn.mass_downloader - INFO: Client 'GEONET' - Found 1 stations (1 channels).\n",
      "[2021-11-25 00:51:54,412] - obspy.clients.fdsn.mass_downloader - INFO: Client 'GEONET' - Will attempt to download data from 1 stations.\n",
      "[2021-11-25 00:51:54,429] - obspy.clients.fdsn.mass_downloader - INFO: Client 'GEONET' - Status for 1 time intervals/channels before downloading: NEEDS_DOWNLOADING\n",
      "[2021-11-25 00:51:55,362] - obspy.clients.fdsn.mass_downloader - INFO: Client 'GEONET' - Successfully downloaded 1 channels (of 1)\n",
      "[2021-11-25 00:51:55,401] - obspy.clients.fdsn.mass_downloader - INFO: Client 'GEONET' - Launching basic QC checks...\n",
      "[2021-11-25 00:51:55,466] - obspy.clients.fdsn.mass_downloader - INFO: Client 'GEONET' - Downloaded 0.0 MB [4.82 KB/sec] of data, 0.0 MB of which were discarded afterwards.\n",
      "[2021-11-25 00:51:55,474] - obspy.clients.fdsn.mass_downloader - INFO: Client 'GEONET' - Status for 1 time intervals/channels after downloading: DOWNLOADED\n",
      "[2021-11-25 00:51:55,492] - obspy.clients.fdsn.mass_downloader - INFO: Client 'GEONET' - No station information to download.\n",
      "[2021-11-25 00:51:55,504] - obspy.clients.fdsn.mass_downloader - INFO: ============================== Final report\n",
      "[2021-11-25 00:51:55,508] - obspy.clients.fdsn.mass_downloader - INFO: 0 MiniSEED files [0.0 MB] already existed.\n",
      "[2021-11-25 00:51:55,510] - obspy.clients.fdsn.mass_downloader - INFO: 1 StationXML files [0.0 MB] already existed.\n",
      "[2021-11-25 00:51:55,514] - obspy.clients.fdsn.mass_downloader - INFO: Client 'GEONET' - Acquired 1 MiniSEED files [0.0 MB].\n",
      "[2021-11-25 00:51:55,516] - obspy.clients.fdsn.mass_downloader - INFO: Client 'GEONET' - Acquired 0 StationXML files [0.0 MB].\n",
      "[2021-11-25 00:51:55,519] - obspy.clients.fdsn.mass_downloader - INFO: Downloaded 0.0 MB in total.\n",
      "[2021-11-25 00:51:55,568] - obspy.clients.fdsn.mass_downloader - INFO: Initializing FDSN client(s) for GEONET.\n",
      "[2021-11-25 00:51:55,616] - obspy.clients.fdsn.mass_downloader - INFO: Successfully initialized 1 client(s): GEONET.\n",
      "[2021-11-25 00:51:55,621] - obspy.clients.fdsn.mass_downloader - INFO: Total acquired or preexisting stations: 0\n",
      "[2021-11-25 00:51:55,625] - obspy.clients.fdsn.mass_downloader - INFO: Client 'GEONET' - Requesting unreliable availability.\n"
     ]
    },
    {
     "name": "stdout",
     "output_type": "stream",
     "text": [
      "=================================================================\n",
      "Initiating mass download request.\n"
     ]
    },
    {
     "name": "stderr",
     "output_type": "stream",
     "text": [
      "[2021-11-25 00:51:56,483] - obspy.clients.fdsn.mass_downloader - INFO: Client 'GEONET' - Successfully requested availability (0.85 seconds)\n",
      "[2021-11-25 00:51:56,533] - obspy.clients.fdsn.mass_downloader - INFO: Client 'GEONET' - Found 1 stations (1 channels).\n",
      "[2021-11-25 00:51:56,551] - obspy.clients.fdsn.mass_downloader - INFO: Client 'GEONET' - Will attempt to download data from 1 stations.\n",
      "[2021-11-25 00:51:56,567] - obspy.clients.fdsn.mass_downloader - INFO: Client 'GEONET' - Status for 1 time intervals/channels before downloading: NEEDS_DOWNLOADING\n",
      "[2021-11-25 00:51:57,396] - obspy.clients.fdsn.mass_downloader - INFO: Client 'GEONET' - Successfully downloaded 1 channels (of 1)\n",
      "[2021-11-25 00:51:57,480] - obspy.clients.fdsn.mass_downloader - INFO: Client 'GEONET' - Launching basic QC checks...\n",
      "[2021-11-25 00:51:57,562] - obspy.clients.fdsn.mass_downloader - INFO: Client 'GEONET' - Downloaded 0.0 MB [3.91 KB/sec] of data, 0.0 MB of which were discarded afterwards.\n",
      "[2021-11-25 00:51:57,567] - obspy.clients.fdsn.mass_downloader - INFO: Client 'GEONET' - Status for 1 time intervals/channels after downloading: DOWNLOADED\n",
      "[2021-11-25 00:51:57,605] - obspy.clients.fdsn.mass_downloader - INFO: Client 'GEONET' - No station information to download.\n",
      "[2021-11-25 00:51:57,621] - obspy.clients.fdsn.mass_downloader - INFO: ============================== Final report\n",
      "[2021-11-25 00:51:57,640] - obspy.clients.fdsn.mass_downloader - INFO: 0 MiniSEED files [0.0 MB] already existed.\n",
      "[2021-11-25 00:51:57,655] - obspy.clients.fdsn.mass_downloader - INFO: 1 StationXML files [0.0 MB] already existed.\n",
      "[2021-11-25 00:51:57,658] - obspy.clients.fdsn.mass_downloader - INFO: Client 'GEONET' - Acquired 1 MiniSEED files [0.0 MB].\n",
      "[2021-11-25 00:51:57,660] - obspy.clients.fdsn.mass_downloader - INFO: Client 'GEONET' - Acquired 0 StationXML files [0.0 MB].\n",
      "[2021-11-25 00:51:57,661] - obspy.clients.fdsn.mass_downloader - INFO: Downloaded 0.0 MB in total.\n",
      "[2021-11-25 00:51:57,685] - obspy.clients.fdsn.mass_downloader - INFO: Initializing FDSN client(s) for GEONET.\n",
      "[2021-11-25 00:51:57,718] - obspy.clients.fdsn.mass_downloader - INFO: Successfully initialized 1 client(s): GEONET.\n",
      "[2021-11-25 00:51:57,724] - obspy.clients.fdsn.mass_downloader - INFO: Total acquired or preexisting stations: 0\n",
      "[2021-11-25 00:51:57,726] - obspy.clients.fdsn.mass_downloader - INFO: Client 'GEONET' - Requesting unreliable availability.\n"
     ]
    },
    {
     "name": "stdout",
     "output_type": "stream",
     "text": [
      "=================================================================\n",
      "Initiating mass download request.\n"
     ]
    },
    {
     "name": "stderr",
     "output_type": "stream",
     "text": [
      "[2021-11-25 00:51:58,404] - obspy.clients.fdsn.mass_downloader - INFO: Client 'GEONET' - Successfully requested availability (0.68 seconds)\n",
      "[2021-11-25 00:51:58,443] - obspy.clients.fdsn.mass_downloader - INFO: Client 'GEONET' - Found 1 stations (1 channels).\n",
      "[2021-11-25 00:51:58,466] - obspy.clients.fdsn.mass_downloader - INFO: Client 'GEONET' - Will attempt to download data from 1 stations.\n",
      "[2021-11-25 00:51:58,474] - obspy.clients.fdsn.mass_downloader - INFO: Client 'GEONET' - Status for 1 time intervals/channels before downloading: NEEDS_DOWNLOADING\n",
      "[2021-11-25 00:51:59,336] - obspy.clients.fdsn.mass_downloader - INFO: Client 'GEONET' - Successfully downloaded 1 channels (of 1)\n",
      "[2021-11-25 00:51:59,392] - obspy.clients.fdsn.mass_downloader - INFO: Client 'GEONET' - Launching basic QC checks...\n",
      "[2021-11-25 00:51:59,461] - obspy.clients.fdsn.mass_downloader - INFO: Client 'GEONET' - Downloaded 0.0 MB [5.10 KB/sec] of data, 0.0 MB of which were discarded afterwards.\n",
      "[2021-11-25 00:51:59,469] - obspy.clients.fdsn.mass_downloader - INFO: Client 'GEONET' - Status for 1 time intervals/channels after downloading: DOWNLOADED\n",
      "[2021-11-25 00:51:59,496] - obspy.clients.fdsn.mass_downloader - INFO: Client 'GEONET' - No station information to download.\n",
      "[2021-11-25 00:51:59,504] - obspy.clients.fdsn.mass_downloader - INFO: ============================== Final report\n",
      "[2021-11-25 00:51:59,510] - obspy.clients.fdsn.mass_downloader - INFO: 0 MiniSEED files [0.0 MB] already existed.\n",
      "[2021-11-25 00:51:59,518] - obspy.clients.fdsn.mass_downloader - INFO: 1 StationXML files [0.0 MB] already existed.\n",
      "[2021-11-25 00:51:59,519] - obspy.clients.fdsn.mass_downloader - INFO: Client 'GEONET' - Acquired 1 MiniSEED files [0.0 MB].\n",
      "[2021-11-25 00:51:59,520] - obspy.clients.fdsn.mass_downloader - INFO: Client 'GEONET' - Acquired 0 StationXML files [0.0 MB].\n",
      "[2021-11-25 00:51:59,531] - obspy.clients.fdsn.mass_downloader - INFO: Downloaded 0.0 MB in total.\n",
      "[2021-11-25 00:51:59,570] - obspy.clients.fdsn.mass_downloader - INFO: Initializing FDSN client(s) for GEONET.\n",
      "[2021-11-25 00:51:59,665] - obspy.clients.fdsn.mass_downloader - INFO: Successfully initialized 1 client(s): GEONET.\n",
      "[2021-11-25 00:51:59,671] - obspy.clients.fdsn.mass_downloader - INFO: Total acquired or preexisting stations: 0\n",
      "[2021-11-25 00:51:59,678] - obspy.clients.fdsn.mass_downloader - INFO: Client 'GEONET' - Requesting unreliable availability.\n"
     ]
    },
    {
     "name": "stdout",
     "output_type": "stream",
     "text": [
      "=================================================================\n",
      "Initiating mass download request.\n"
     ]
    },
    {
     "name": "stderr",
     "output_type": "stream",
     "text": [
      "[2021-11-25 00:52:00,299] - obspy.clients.fdsn.mass_downloader - INFO: Client 'GEONET' - Successfully requested availability (0.62 seconds)\n",
      "[2021-11-25 00:52:00,332] - obspy.clients.fdsn.mass_downloader - INFO: Client 'GEONET' - Found 1 stations (1 channels).\n",
      "[2021-11-25 00:52:00,346] - obspy.clients.fdsn.mass_downloader - INFO: Client 'GEONET' - Will attempt to download data from 1 stations.\n",
      "[2021-11-25 00:52:00,352] - obspy.clients.fdsn.mass_downloader - INFO: Client 'GEONET' - Status for 1 time intervals/channels before downloading: NEEDS_DOWNLOADING\n",
      "[2021-11-25 00:52:01,149] - obspy.clients.fdsn.mass_downloader - INFO: Client 'GEONET' - Successfully downloaded 1 channels (of 1)\n",
      "[2021-11-25 00:52:01,161] - obspy.clients.fdsn.mass_downloader - INFO: Client 'GEONET' - Launching basic QC checks...\n",
      "[2021-11-25 00:52:01,181] - obspy.clients.fdsn.mass_downloader - INFO: Client 'GEONET' - Downloaded 0.0 MB [5.16 KB/sec] of data, 0.0 MB of which were discarded afterwards.\n",
      "[2021-11-25 00:52:01,183] - obspy.clients.fdsn.mass_downloader - INFO: Client 'GEONET' - Status for 1 time intervals/channels after downloading: DOWNLOADED\n",
      "[2021-11-25 00:52:01,193] - obspy.clients.fdsn.mass_downloader - INFO: Client 'GEONET' - No station information to download.\n",
      "[2021-11-25 00:52:01,195] - obspy.clients.fdsn.mass_downloader - INFO: ============================== Final report\n",
      "[2021-11-25 00:52:01,196] - obspy.clients.fdsn.mass_downloader - INFO: 0 MiniSEED files [0.0 MB] already existed.\n",
      "[2021-11-25 00:52:01,198] - obspy.clients.fdsn.mass_downloader - INFO: 1 StationXML files [0.0 MB] already existed.\n",
      "[2021-11-25 00:52:01,199] - obspy.clients.fdsn.mass_downloader - INFO: Client 'GEONET' - Acquired 1 MiniSEED files [0.0 MB].\n",
      "[2021-11-25 00:52:01,201] - obspy.clients.fdsn.mass_downloader - INFO: Client 'GEONET' - Acquired 0 StationXML files [0.0 MB].\n",
      "[2021-11-25 00:52:01,203] - obspy.clients.fdsn.mass_downloader - INFO: Downloaded 0.0 MB in total.\n",
      "[2021-11-25 00:52:01,265] - obspy.clients.fdsn.mass_downloader - INFO: Initializing FDSN client(s) for GEONET.\n",
      "[2021-11-25 00:52:01,312] - obspy.clients.fdsn.mass_downloader - INFO: Successfully initialized 1 client(s): GEONET.\n",
      "[2021-11-25 00:52:01,320] - obspy.clients.fdsn.mass_downloader - INFO: Total acquired or preexisting stations: 0\n",
      "[2021-11-25 00:52:01,323] - obspy.clients.fdsn.mass_downloader - INFO: Client 'GEONET' - Requesting unreliable availability.\n"
     ]
    },
    {
     "name": "stdout",
     "output_type": "stream",
     "text": [
      "=================================================================\n",
      "Initiating mass download request.\n"
     ]
    },
    {
     "name": "stderr",
     "output_type": "stream",
     "text": [
      "[2021-11-25 00:52:01,958] - obspy.clients.fdsn.mass_downloader - INFO: Client 'GEONET' - Successfully requested availability (0.63 seconds)\n",
      "[2021-11-25 00:52:01,998] - obspy.clients.fdsn.mass_downloader - INFO: Client 'GEONET' - Found 1 stations (1 channels).\n",
      "[2021-11-25 00:52:02,009] - obspy.clients.fdsn.mass_downloader - INFO: Client 'GEONET' - Will attempt to download data from 1 stations.\n",
      "[2021-11-25 00:52:02,021] - obspy.clients.fdsn.mass_downloader - INFO: Client 'GEONET' - Status for 1 time intervals/channels before downloading: NEEDS_DOWNLOADING\n",
      "[2021-11-25 00:52:03,352] - obspy.clients.fdsn.mass_downloader - INFO: Client 'GEONET' - Successfully downloaded 1 channels (of 1)\n",
      "[2021-11-25 00:52:03,432] - obspy.clients.fdsn.mass_downloader - INFO: Client 'GEONET' - Launching basic QC checks...\n",
      "[2021-11-25 00:52:03,473] - obspy.clients.fdsn.mass_downloader - INFO: Client 'GEONET' - Downloaded 0.0 MB [5.82 KB/sec] of data, 0.0 MB of which were discarded afterwards.\n",
      "[2021-11-25 00:52:03,482] - obspy.clients.fdsn.mass_downloader - INFO: Client 'GEONET' - Status for 1 time intervals/channels after downloading: DOWNLOADED\n",
      "[2021-11-25 00:52:03,502] - obspy.clients.fdsn.mass_downloader - INFO: Client 'GEONET' - No station information to download.\n",
      "[2021-11-25 00:52:03,519] - obspy.clients.fdsn.mass_downloader - INFO: ============================== Final report\n",
      "[2021-11-25 00:52:03,521] - obspy.clients.fdsn.mass_downloader - INFO: 0 MiniSEED files [0.0 MB] already existed.\n",
      "[2021-11-25 00:52:03,526] - obspy.clients.fdsn.mass_downloader - INFO: 1 StationXML files [0.0 MB] already existed.\n",
      "[2021-11-25 00:52:03,527] - obspy.clients.fdsn.mass_downloader - INFO: Client 'GEONET' - Acquired 1 MiniSEED files [0.0 MB].\n",
      "[2021-11-25 00:52:03,529] - obspy.clients.fdsn.mass_downloader - INFO: Client 'GEONET' - Acquired 0 StationXML files [0.0 MB].\n",
      "[2021-11-25 00:52:03,532] - obspy.clients.fdsn.mass_downloader - INFO: Downloaded 0.0 MB in total.\n",
      "[2021-11-25 00:52:03,558] - obspy.clients.fdsn.mass_downloader - INFO: Initializing FDSN client(s) for GEONET.\n",
      "[2021-11-25 00:52:03,616] - obspy.clients.fdsn.mass_downloader - INFO: Successfully initialized 1 client(s): GEONET.\n",
      "[2021-11-25 00:52:03,624] - obspy.clients.fdsn.mass_downloader - INFO: Total acquired or preexisting stations: 0\n",
      "[2021-11-25 00:52:03,628] - obspy.clients.fdsn.mass_downloader - INFO: Client 'GEONET' - Requesting unreliable availability.\n"
     ]
    },
    {
     "name": "stdout",
     "output_type": "stream",
     "text": [
      "=================================================================\n",
      "Initiating mass download request.\n"
     ]
    },
    {
     "name": "stderr",
     "output_type": "stream",
     "text": [
      "[2021-11-25 00:52:04,326] - obspy.clients.fdsn.mass_downloader - INFO: Client 'GEONET' - Successfully requested availability (0.70 seconds)\n",
      "[2021-11-25 00:52:04,349] - obspy.clients.fdsn.mass_downloader - INFO: Client 'GEONET' - Found 1 stations (1 channels).\n",
      "[2021-11-25 00:52:04,355] - obspy.clients.fdsn.mass_downloader - INFO: Client 'GEONET' - Will attempt to download data from 1 stations.\n",
      "[2021-11-25 00:52:04,359] - obspy.clients.fdsn.mass_downloader - INFO: Client 'GEONET' - Status for 1 time intervals/channels before downloading: NEEDS_DOWNLOADING\n",
      "[2021-11-25 00:52:05,250] - obspy.clients.fdsn.mass_downloader - INFO: Client 'GEONET' - Successfully downloaded 1 channels (of 1)\n",
      "[2021-11-25 00:52:05,292] - obspy.clients.fdsn.mass_downloader - INFO: Client 'GEONET' - Launching basic QC checks...\n",
      "[2021-11-25 00:52:05,323] - obspy.clients.fdsn.mass_downloader - INFO: Client 'GEONET' - Downloaded 0.0 MB [3.33 KB/sec] of data, 0.0 MB of which were discarded afterwards.\n",
      "[2021-11-25 00:52:05,337] - obspy.clients.fdsn.mass_downloader - INFO: Client 'GEONET' - Status for 1 time intervals/channels after downloading: DOWNLOADED\n",
      "[2021-11-25 00:52:05,352] - obspy.clients.fdsn.mass_downloader - INFO: Client 'GEONET' - No station information to download.\n",
      "[2021-11-25 00:52:05,358] - obspy.clients.fdsn.mass_downloader - INFO: ============================== Final report\n",
      "[2021-11-25 00:52:05,360] - obspy.clients.fdsn.mass_downloader - INFO: 0 MiniSEED files [0.0 MB] already existed.\n",
      "[2021-11-25 00:52:05,381] - obspy.clients.fdsn.mass_downloader - INFO: 1 StationXML files [0.0 MB] already existed.\n",
      "[2021-11-25 00:52:05,388] - obspy.clients.fdsn.mass_downloader - INFO: Client 'GEONET' - Acquired 1 MiniSEED files [0.0 MB].\n",
      "[2021-11-25 00:52:05,388] - obspy.clients.fdsn.mass_downloader - INFO: Client 'GEONET' - Acquired 0 StationXML files [0.0 MB].\n",
      "[2021-11-25 00:52:05,388] - obspy.clients.fdsn.mass_downloader - INFO: Downloaded 0.0 MB in total.\n",
      "[2021-11-25 00:52:05,446] - obspy.clients.fdsn.mass_downloader - INFO: Initializing FDSN client(s) for GEONET.\n",
      "[2021-11-25 00:52:05,491] - obspy.clients.fdsn.mass_downloader - INFO: Successfully initialized 1 client(s): GEONET.\n",
      "[2021-11-25 00:52:05,498] - obspy.clients.fdsn.mass_downloader - INFO: Total acquired or preexisting stations: 0\n",
      "[2021-11-25 00:52:05,502] - obspy.clients.fdsn.mass_downloader - INFO: Client 'GEONET' - Requesting unreliable availability.\n"
     ]
    },
    {
     "name": "stdout",
     "output_type": "stream",
     "text": [
      "=================================================================\n",
      "Initiating mass download request.\n"
     ]
    },
    {
     "name": "stderr",
     "output_type": "stream",
     "text": [
      "[2021-11-25 00:52:06,148] - obspy.clients.fdsn.mass_downloader - INFO: Client 'GEONET' - Successfully requested availability (0.64 seconds)\n",
      "[2021-11-25 00:52:06,157] - obspy.clients.fdsn.mass_downloader - INFO: Client 'GEONET' - Found 1 stations (1 channels).\n",
      "[2021-11-25 00:52:06,163] - obspy.clients.fdsn.mass_downloader - INFO: Client 'GEONET' - Will attempt to download data from 1 stations.\n",
      "[2021-11-25 00:52:06,167] - obspy.clients.fdsn.mass_downloader - INFO: Client 'GEONET' - Status for 1 time intervals/channels before downloading: NEEDS_DOWNLOADING\n",
      "[2021-11-25 00:52:07,095] - obspy.clients.fdsn.mass_downloader - INFO: Client 'GEONET' - Successfully downloaded 1 channels (of 1)\n",
      "[2021-11-25 00:52:07,115] - obspy.clients.fdsn.mass_downloader - INFO: Client 'GEONET' - Launching basic QC checks...\n",
      "[2021-11-25 00:52:07,130] - obspy.clients.fdsn.mass_downloader - INFO: Client 'GEONET' - Downloaded 0.0 MB [4.31 KB/sec] of data, 0.0 MB of which were discarded afterwards.\n",
      "[2021-11-25 00:52:07,131] - obspy.clients.fdsn.mass_downloader - INFO: Client 'GEONET' - Status for 1 time intervals/channels after downloading: DOWNLOADED\n",
      "[2021-11-25 00:52:07,148] - obspy.clients.fdsn.mass_downloader - INFO: Client 'GEONET' - No station information to download.\n",
      "[2021-11-25 00:52:07,150] - obspy.clients.fdsn.mass_downloader - INFO: ============================== Final report\n",
      "[2021-11-25 00:52:07,152] - obspy.clients.fdsn.mass_downloader - INFO: 0 MiniSEED files [0.0 MB] already existed.\n",
      "[2021-11-25 00:52:07,156] - obspy.clients.fdsn.mass_downloader - INFO: 1 StationXML files [0.0 MB] already existed.\n",
      "[2021-11-25 00:52:07,158] - obspy.clients.fdsn.mass_downloader - INFO: Client 'GEONET' - Acquired 1 MiniSEED files [0.0 MB].\n",
      "[2021-11-25 00:52:07,158] - obspy.clients.fdsn.mass_downloader - INFO: Client 'GEONET' - Acquired 0 StationXML files [0.0 MB].\n",
      "[2021-11-25 00:52:07,159] - obspy.clients.fdsn.mass_downloader - INFO: Downloaded 0.0 MB in total.\n",
      "[2021-11-25 00:52:07,188] - obspy.clients.fdsn.mass_downloader - INFO: Initializing FDSN client(s) for GEONET.\n",
      "[2021-11-25 00:52:07,212] - obspy.clients.fdsn.mass_downloader - INFO: Successfully initialized 1 client(s): GEONET.\n",
      "[2021-11-25 00:52:07,220] - obspy.clients.fdsn.mass_downloader - INFO: Total acquired or preexisting stations: 0\n",
      "[2021-11-25 00:52:07,227] - obspy.clients.fdsn.mass_downloader - INFO: Client 'GEONET' - Requesting unreliable availability.\n"
     ]
    },
    {
     "name": "stdout",
     "output_type": "stream",
     "text": [
      "=================================================================\n",
      "Initiating mass download request.\n"
     ]
    },
    {
     "name": "stderr",
     "output_type": "stream",
     "text": [
      "[2021-11-25 00:52:07,797] - obspy.clients.fdsn.mass_downloader - INFO: Client 'GEONET' - Successfully requested availability (0.57 seconds)\n",
      "[2021-11-25 00:52:07,802] - obspy.clients.fdsn.mass_downloader - INFO: Client 'GEONET' - Found 1 stations (1 channels).\n",
      "[2021-11-25 00:52:07,802] - obspy.clients.fdsn.mass_downloader - INFO: Client 'GEONET' - Will attempt to download data from 1 stations.\n",
      "[2021-11-25 00:52:07,803] - obspy.clients.fdsn.mass_downloader - INFO: Client 'GEONET' - Status for 1 time intervals/channels before downloading: NEEDS_DOWNLOADING\n",
      "[2021-11-25 00:52:08,630] - obspy.clients.fdsn.mass_downloader - INFO: Client 'GEONET' - Successfully downloaded 1 channels (of 1)\n",
      "[2021-11-25 00:52:08,652] - obspy.clients.fdsn.mass_downloader - INFO: Client 'GEONET' - Launching basic QC checks...\n",
      "[2021-11-25 00:52:08,667] - obspy.clients.fdsn.mass_downloader - INFO: Client 'GEONET' - Downloaded 0.0 MB [6.50 KB/sec] of data, 0.0 MB of which were discarded afterwards.\n",
      "[2021-11-25 00:52:08,667] - obspy.clients.fdsn.mass_downloader - INFO: Client 'GEONET' - Status for 1 time intervals/channels after downloading: DOWNLOADED\n",
      "[2021-11-25 00:52:08,675] - obspy.clients.fdsn.mass_downloader - INFO: Client 'GEONET' - No station information to download.\n",
      "[2021-11-25 00:52:08,677] - obspy.clients.fdsn.mass_downloader - INFO: ============================== Final report\n",
      "[2021-11-25 00:52:08,679] - obspy.clients.fdsn.mass_downloader - INFO: 0 MiniSEED files [0.0 MB] already existed.\n",
      "[2021-11-25 00:52:08,679] - obspy.clients.fdsn.mass_downloader - INFO: 1 StationXML files [0.0 MB] already existed.\n",
      "[2021-11-25 00:52:08,680] - obspy.clients.fdsn.mass_downloader - INFO: Client 'GEONET' - Acquired 1 MiniSEED files [0.0 MB].\n",
      "[2021-11-25 00:52:08,680] - obspy.clients.fdsn.mass_downloader - INFO: Client 'GEONET' - Acquired 0 StationXML files [0.0 MB].\n",
      "[2021-11-25 00:52:08,680] - obspy.clients.fdsn.mass_downloader - INFO: Downloaded 0.0 MB in total.\n",
      "[2021-11-25 00:52:08,688] - obspy.clients.fdsn.mass_downloader - INFO: Initializing FDSN client(s) for GEONET.\n",
      "[2021-11-25 00:52:08,706] - obspy.clients.fdsn.mass_downloader - INFO: Successfully initialized 1 client(s): GEONET.\n",
      "[2021-11-25 00:52:08,711] - obspy.clients.fdsn.mass_downloader - INFO: Total acquired or preexisting stations: 0\n",
      "[2021-11-25 00:52:08,713] - obspy.clients.fdsn.mass_downloader - INFO: Client 'GEONET' - Requesting unreliable availability.\n"
     ]
    },
    {
     "name": "stdout",
     "output_type": "stream",
     "text": [
      "=================================================================\n",
      "Initiating mass download request.\n"
     ]
    },
    {
     "name": "stderr",
     "output_type": "stream",
     "text": [
      "[2021-11-25 00:52:09,362] - obspy.clients.fdsn.mass_downloader - INFO: Client 'GEONET' - Successfully requested availability (0.65 seconds)\n",
      "[2021-11-25 00:52:09,381] - obspy.clients.fdsn.mass_downloader - INFO: Client 'GEONET' - Found 1 stations (1 channels).\n",
      "[2021-11-25 00:52:09,384] - obspy.clients.fdsn.mass_downloader - INFO: Client 'GEONET' - Will attempt to download data from 1 stations.\n",
      "[2021-11-25 00:52:09,388] - obspy.clients.fdsn.mass_downloader - INFO: Client 'GEONET' - Status for 1 time intervals/channels before downloading: NEEDS_DOWNLOADING\n",
      "[2021-11-25 00:52:10,234] - obspy.clients.fdsn.mass_downloader - INFO: Client 'GEONET' - Successfully downloaded 1 channels (of 1)\n",
      "[2021-11-25 00:52:10,253] - obspy.clients.fdsn.mass_downloader - INFO: Client 'GEONET' - Launching basic QC checks...\n",
      "[2021-11-25 00:52:10,278] - obspy.clients.fdsn.mass_downloader - INFO: Client 'GEONET' - Downloaded 0.0 MB [4.70 KB/sec] of data, 0.0 MB of which were discarded afterwards.\n",
      "[2021-11-25 00:52:10,279] - obspy.clients.fdsn.mass_downloader - INFO: Client 'GEONET' - Status for 1 time intervals/channels after downloading: DOWNLOADED\n",
      "[2021-11-25 00:52:10,294] - obspy.clients.fdsn.mass_downloader - INFO: Client 'GEONET' - No station information to download.\n",
      "[2021-11-25 00:52:10,300] - obspy.clients.fdsn.mass_downloader - INFO: ============================== Final report\n",
      "[2021-11-25 00:52:10,305] - obspy.clients.fdsn.mass_downloader - INFO: 0 MiniSEED files [0.0 MB] already existed.\n",
      "[2021-11-25 00:52:10,307] - obspy.clients.fdsn.mass_downloader - INFO: 1 StationXML files [0.0 MB] already existed.\n",
      "[2021-11-25 00:52:10,308] - obspy.clients.fdsn.mass_downloader - INFO: Client 'GEONET' - Acquired 1 MiniSEED files [0.0 MB].\n",
      "[2021-11-25 00:52:10,308] - obspy.clients.fdsn.mass_downloader - INFO: Client 'GEONET' - Acquired 0 StationXML files [0.0 MB].\n",
      "[2021-11-25 00:52:10,309] - obspy.clients.fdsn.mass_downloader - INFO: Downloaded 0.0 MB in total.\n",
      "[2021-11-25 00:52:10,319] - obspy.clients.fdsn.mass_downloader - INFO: Initializing FDSN client(s) for GEONET.\n",
      "[2021-11-25 00:52:10,345] - obspy.clients.fdsn.mass_downloader - INFO: Successfully initialized 1 client(s): GEONET.\n",
      "[2021-11-25 00:52:10,349] - obspy.clients.fdsn.mass_downloader - INFO: Total acquired or preexisting stations: 0\n",
      "[2021-11-25 00:52:10,351] - obspy.clients.fdsn.mass_downloader - INFO: Client 'GEONET' - Requesting unreliable availability.\n"
     ]
    },
    {
     "name": "stdout",
     "output_type": "stream",
     "text": [
      "=================================================================\n",
      "Initiating mass download request.\n"
     ]
    },
    {
     "name": "stderr",
     "output_type": "stream",
     "text": [
      "[2021-11-25 00:52:10,942] - obspy.clients.fdsn.mass_downloader - INFO: Client 'GEONET' - Successfully requested availability (0.59 seconds)\n",
      "[2021-11-25 00:52:10,955] - obspy.clients.fdsn.mass_downloader - INFO: Client 'GEONET' - Found 1 stations (1 channels).\n",
      "[2021-11-25 00:52:10,970] - obspy.clients.fdsn.mass_downloader - INFO: Client 'GEONET' - Will attempt to download data from 1 stations.\n",
      "[2021-11-25 00:52:10,980] - obspy.clients.fdsn.mass_downloader - INFO: Client 'GEONET' - Status for 1 time intervals/channels before downloading: NEEDS_DOWNLOADING\n",
      "[2021-11-25 00:52:11,814] - obspy.clients.fdsn.mass_downloader - INFO: Client 'GEONET' - Successfully downloaded 1 channels (of 1)\n",
      "[2021-11-25 00:52:11,842] - obspy.clients.fdsn.mass_downloader - INFO: Client 'GEONET' - Launching basic QC checks...\n",
      "[2021-11-25 00:52:11,862] - obspy.clients.fdsn.mass_downloader - INFO: Client 'GEONET' - Downloaded 0.0 MB [4.12 KB/sec] of data, 0.0 MB of which were discarded afterwards.\n",
      "[2021-11-25 00:52:11,875] - obspy.clients.fdsn.mass_downloader - INFO: Client 'GEONET' - Status for 1 time intervals/channels after downloading: DOWNLOADED\n",
      "[2021-11-25 00:52:11,894] - obspy.clients.fdsn.mass_downloader - INFO: Client 'GEONET' - No station information to download.\n",
      "[2021-11-25 00:52:11,905] - obspy.clients.fdsn.mass_downloader - INFO: ============================== Final report\n",
      "[2021-11-25 00:52:11,912] - obspy.clients.fdsn.mass_downloader - INFO: 0 MiniSEED files [0.0 MB] already existed.\n",
      "[2021-11-25 00:52:11,915] - obspy.clients.fdsn.mass_downloader - INFO: 1 StationXML files [0.0 MB] already existed.\n",
      "[2021-11-25 00:52:11,915] - obspy.clients.fdsn.mass_downloader - INFO: Client 'GEONET' - Acquired 1 MiniSEED files [0.0 MB].\n",
      "[2021-11-25 00:52:11,916] - obspy.clients.fdsn.mass_downloader - INFO: Client 'GEONET' - Acquired 0 StationXML files [0.0 MB].\n",
      "[2021-11-25 00:52:11,922] - obspy.clients.fdsn.mass_downloader - INFO: Downloaded 0.0 MB in total.\n",
      "[2021-11-25 00:52:11,961] - obspy.clients.fdsn.mass_downloader - INFO: Initializing FDSN client(s) for GEONET.\n",
      "[2021-11-25 00:52:11,986] - obspy.clients.fdsn.mass_downloader - INFO: Successfully initialized 1 client(s): GEONET.\n",
      "[2021-11-25 00:52:11,989] - obspy.clients.fdsn.mass_downloader - INFO: Total acquired or preexisting stations: 0\n",
      "[2021-11-25 00:52:11,992] - obspy.clients.fdsn.mass_downloader - INFO: Client 'GEONET' - Requesting unreliable availability.\n"
     ]
    },
    {
     "name": "stdout",
     "output_type": "stream",
     "text": [
      "=================================================================\n",
      "Initiating mass download request.\n"
     ]
    },
    {
     "name": "stderr",
     "output_type": "stream",
     "text": [
      "[2021-11-25 00:52:12,670] - obspy.clients.fdsn.mass_downloader - INFO: Client 'GEONET' - Successfully requested availability (0.67 seconds)\n",
      "[2021-11-25 00:52:12,685] - obspy.clients.fdsn.mass_downloader - INFO: Client 'GEONET' - Found 1 stations (1 channels).\n",
      "[2021-11-25 00:52:12,696] - obspy.clients.fdsn.mass_downloader - INFO: Client 'GEONET' - Will attempt to download data from 1 stations.\n",
      "[2021-11-25 00:52:12,704] - obspy.clients.fdsn.mass_downloader - INFO: Client 'GEONET' - Status for 1 time intervals/channels before downloading: NEEDS_DOWNLOADING\n",
      "[2021-11-25 00:52:13,519] - obspy.clients.fdsn.mass_downloader - INFO: Client 'GEONET' - Successfully downloaded 1 channels (of 1)\n",
      "[2021-11-25 00:52:13,641] - obspy.clients.fdsn.mass_downloader - INFO: Client 'GEONET' - Launching basic QC checks...\n",
      "[2021-11-25 00:52:13,696] - obspy.clients.fdsn.mass_downloader - INFO: Client 'GEONET' - Downloaded 0.0 MB [3.89 KB/sec] of data, 0.0 MB of which were discarded afterwards.\n",
      "[2021-11-25 00:52:13,705] - obspy.clients.fdsn.mass_downloader - INFO: Client 'GEONET' - Status for 1 time intervals/channels after downloading: DOWNLOADED\n",
      "[2021-11-25 00:52:13,713] - obspy.clients.fdsn.mass_downloader - INFO: Client 'GEONET' - No station information to download.\n",
      "[2021-11-25 00:52:13,721] - obspy.clients.fdsn.mass_downloader - INFO: ============================== Final report\n",
      "[2021-11-25 00:52:13,722] - obspy.clients.fdsn.mass_downloader - INFO: 0 MiniSEED files [0.0 MB] already existed.\n",
      "[2021-11-25 00:52:13,725] - obspy.clients.fdsn.mass_downloader - INFO: 1 StationXML files [0.0 MB] already existed.\n",
      "[2021-11-25 00:52:13,731] - obspy.clients.fdsn.mass_downloader - INFO: Client 'GEONET' - Acquired 1 MiniSEED files [0.0 MB].\n",
      "[2021-11-25 00:52:13,733] - obspy.clients.fdsn.mass_downloader - INFO: Client 'GEONET' - Acquired 0 StationXML files [0.0 MB].\n",
      "[2021-11-25 00:52:13,734] - obspy.clients.fdsn.mass_downloader - INFO: Downloaded 0.0 MB in total.\n",
      "[2021-11-25 00:52:13,759] - obspy.clients.fdsn.mass_downloader - INFO: Initializing FDSN client(s) for GEONET.\n",
      "[2021-11-25 00:52:13,797] - obspy.clients.fdsn.mass_downloader - INFO: Successfully initialized 1 client(s): GEONET.\n",
      "[2021-11-25 00:52:13,799] - obspy.clients.fdsn.mass_downloader - INFO: Total acquired or preexisting stations: 0\n",
      "[2021-11-25 00:52:13,805] - obspy.clients.fdsn.mass_downloader - INFO: Client 'GEONET' - Requesting unreliable availability.\n"
     ]
    },
    {
     "name": "stdout",
     "output_type": "stream",
     "text": [
      "=================================================================\n",
      "Initiating mass download request.\n"
     ]
    },
    {
     "name": "stderr",
     "output_type": "stream",
     "text": [
      "[2021-11-25 00:52:14,489] - obspy.clients.fdsn.mass_downloader - INFO: Client 'GEONET' - Successfully requested availability (0.68 seconds)\n",
      "[2021-11-25 00:52:14,500] - obspy.clients.fdsn.mass_downloader - INFO: Client 'GEONET' - Found 1 stations (1 channels).\n",
      "[2021-11-25 00:52:14,507] - obspy.clients.fdsn.mass_downloader - INFO: Client 'GEONET' - Will attempt to download data from 1 stations.\n",
      "[2021-11-25 00:52:14,527] - obspy.clients.fdsn.mass_downloader - INFO: Client 'GEONET' - Status for 1 time intervals/channels before downloading: NEEDS_DOWNLOADING\n",
      "[2021-11-25 00:52:15,446] - obspy.clients.fdsn.mass_downloader - INFO: Client 'GEONET' - Successfully downloaded 1 channels (of 1)\n",
      "[2021-11-25 00:52:15,455] - obspy.clients.fdsn.mass_downloader - INFO: Client 'GEONET' - Launching basic QC checks...\n",
      "[2021-11-25 00:52:15,466] - obspy.clients.fdsn.mass_downloader - INFO: Client 'GEONET' - Downloaded 0.0 MB [4.48 KB/sec] of data, 0.0 MB of which were discarded afterwards.\n",
      "[2021-11-25 00:52:15,467] - obspy.clients.fdsn.mass_downloader - INFO: Client 'GEONET' - Status for 1 time intervals/channels after downloading: DOWNLOADED\n",
      "[2021-11-25 00:52:15,473] - obspy.clients.fdsn.mass_downloader - INFO: Client 'GEONET' - No station information to download.\n",
      "[2021-11-25 00:52:15,475] - obspy.clients.fdsn.mass_downloader - INFO: ============================== Final report\n",
      "[2021-11-25 00:52:15,476] - obspy.clients.fdsn.mass_downloader - INFO: 0 MiniSEED files [0.0 MB] already existed.\n",
      "[2021-11-25 00:52:15,479] - obspy.clients.fdsn.mass_downloader - INFO: 1 StationXML files [0.0 MB] already existed.\n",
      "[2021-11-25 00:52:15,481] - obspy.clients.fdsn.mass_downloader - INFO: Client 'GEONET' - Acquired 1 MiniSEED files [0.0 MB].\n",
      "[2021-11-25 00:52:15,482] - obspy.clients.fdsn.mass_downloader - INFO: Client 'GEONET' - Acquired 0 StationXML files [0.0 MB].\n",
      "[2021-11-25 00:52:15,483] - obspy.clients.fdsn.mass_downloader - INFO: Downloaded 0.0 MB in total.\n",
      "[2021-11-25 00:52:15,490] - obspy.clients.fdsn.mass_downloader - INFO: Initializing FDSN client(s) for GEONET.\n",
      "[2021-11-25 00:52:15,504] - obspy.clients.fdsn.mass_downloader - INFO: Successfully initialized 1 client(s): GEONET.\n",
      "[2021-11-25 00:52:15,505] - obspy.clients.fdsn.mass_downloader - INFO: Total acquired or preexisting stations: 0\n",
      "[2021-11-25 00:52:15,506] - obspy.clients.fdsn.mass_downloader - INFO: Client 'GEONET' - Requesting unreliable availability.\n"
     ]
    },
    {
     "name": "stdout",
     "output_type": "stream",
     "text": [
      "=================================================================\n",
      "Initiating mass download request.\n"
     ]
    },
    {
     "name": "stderr",
     "output_type": "stream",
     "text": [
      "[2021-11-25 00:52:16,065] - obspy.clients.fdsn.mass_downloader - INFO: Client 'GEONET' - Successfully requested availability (0.56 seconds)\n",
      "[2021-11-25 00:52:16,072] - obspy.clients.fdsn.mass_downloader - INFO: Client 'GEONET' - Found 1 stations (1 channels).\n",
      "[2021-11-25 00:52:16,073] - obspy.clients.fdsn.mass_downloader - INFO: Client 'GEONET' - Will attempt to download data from 1 stations.\n",
      "[2021-11-25 00:52:16,075] - obspy.clients.fdsn.mass_downloader - INFO: Client 'GEONET' - Status for 1 time intervals/channels before downloading: NEEDS_DOWNLOADING\n",
      "[2021-11-25 00:52:16,810] - obspy.clients.fdsn.mass_downloader - INFO: Client 'GEONET' - Successfully downloaded 1 channels (of 1)\n",
      "[2021-11-25 00:52:16,834] - obspy.clients.fdsn.mass_downloader - INFO: Client 'GEONET' - Launching basic QC checks...\n",
      "[2021-11-25 00:52:16,873] - obspy.clients.fdsn.mass_downloader - INFO: Client 'GEONET' - Downloaded 0.0 MB [3.99 KB/sec] of data, 0.0 MB of which were discarded afterwards.\n",
      "[2021-11-25 00:52:16,881] - obspy.clients.fdsn.mass_downloader - INFO: Client 'GEONET' - Status for 1 time intervals/channels after downloading: DOWNLOADED\n",
      "[2021-11-25 00:52:17,029] - obspy.clients.fdsn.mass_downloader - INFO: Client 'GEONET' - No station information to download.\n",
      "[2021-11-25 00:52:17,071] - obspy.clients.fdsn.mass_downloader - INFO: ============================== Final report\n",
      "[2021-11-25 00:52:17,072] - obspy.clients.fdsn.mass_downloader - INFO: 0 MiniSEED files [0.0 MB] already existed.\n",
      "[2021-11-25 00:52:17,073] - obspy.clients.fdsn.mass_downloader - INFO: 1 StationXML files [0.0 MB] already existed.\n",
      "[2021-11-25 00:52:17,073] - obspy.clients.fdsn.mass_downloader - INFO: Client 'GEONET' - Acquired 1 MiniSEED files [0.0 MB].\n",
      "[2021-11-25 00:52:17,074] - obspy.clients.fdsn.mass_downloader - INFO: Client 'GEONET' - Acquired 0 StationXML files [0.0 MB].\n",
      "[2021-11-25 00:52:17,074] - obspy.clients.fdsn.mass_downloader - INFO: Downloaded 0.0 MB in total.\n",
      "[2021-11-25 00:52:17,112] - obspy.clients.fdsn.mass_downloader - INFO: Initializing FDSN client(s) for GEONET.\n",
      "[2021-11-25 00:52:17,157] - obspy.clients.fdsn.mass_downloader - INFO: Successfully initialized 1 client(s): GEONET.\n",
      "[2021-11-25 00:52:17,171] - obspy.clients.fdsn.mass_downloader - INFO: Total acquired or preexisting stations: 0\n",
      "[2021-11-25 00:52:17,177] - obspy.clients.fdsn.mass_downloader - INFO: Client 'GEONET' - Requesting unreliable availability.\n"
     ]
    },
    {
     "name": "stdout",
     "output_type": "stream",
     "text": [
      "=================================================================\n",
      "Initiating mass download request.\n"
     ]
    },
    {
     "name": "stderr",
     "output_type": "stream",
     "text": [
      "[2021-11-25 00:52:17,827] - obspy.clients.fdsn.mass_downloader - INFO: Client 'GEONET' - Successfully requested availability (0.65 seconds)\n",
      "[2021-11-25 00:52:17,864] - obspy.clients.fdsn.mass_downloader - INFO: Client 'GEONET' - Found 1 stations (1 channels).\n",
      "[2021-11-25 00:52:17,885] - obspy.clients.fdsn.mass_downloader - INFO: Client 'GEONET' - Will attempt to download data from 1 stations.\n",
      "[2021-11-25 00:52:17,889] - obspy.clients.fdsn.mass_downloader - INFO: Client 'GEONET' - Status for 1 time intervals/channels before downloading: NEEDS_DOWNLOADING\n",
      "[2021-11-25 00:52:18,809] - obspy.clients.fdsn.mass_downloader - INFO: Client 'GEONET' - Successfully downloaded 1 channels (of 1)\n",
      "[2021-11-25 00:52:18,840] - obspy.clients.fdsn.mass_downloader - INFO: Client 'GEONET' - Launching basic QC checks...\n",
      "[2021-11-25 00:52:18,888] - obspy.clients.fdsn.mass_downloader - INFO: Client 'GEONET' - Downloaded 0.0 MB [3.76 KB/sec] of data, 0.0 MB of which were discarded afterwards.\n",
      "[2021-11-25 00:52:18,897] - obspy.clients.fdsn.mass_downloader - INFO: Client 'GEONET' - Status for 1 time intervals/channels after downloading: DOWNLOADED\n",
      "[2021-11-25 00:52:18,920] - obspy.clients.fdsn.mass_downloader - INFO: Client 'GEONET' - No station information to download.\n",
      "[2021-11-25 00:52:18,924] - obspy.clients.fdsn.mass_downloader - INFO: ============================== Final report\n",
      "[2021-11-25 00:52:18,925] - obspy.clients.fdsn.mass_downloader - INFO: 0 MiniSEED files [0.0 MB] already existed.\n",
      "[2021-11-25 00:52:18,926] - obspy.clients.fdsn.mass_downloader - INFO: 1 StationXML files [0.0 MB] already existed.\n",
      "[2021-11-25 00:52:18,926] - obspy.clients.fdsn.mass_downloader - INFO: Client 'GEONET' - Acquired 1 MiniSEED files [0.0 MB].\n",
      "[2021-11-25 00:52:18,926] - obspy.clients.fdsn.mass_downloader - INFO: Client 'GEONET' - Acquired 0 StationXML files [0.0 MB].\n",
      "[2021-11-25 00:52:18,927] - obspy.clients.fdsn.mass_downloader - INFO: Downloaded 0.0 MB in total.\n",
      "[2021-11-25 00:52:18,963] - obspy.clients.fdsn.mass_downloader - INFO: Initializing FDSN client(s) for GEONET.\n",
      "[2021-11-25 00:52:18,990] - obspy.clients.fdsn.mass_downloader - INFO: Successfully initialized 1 client(s): GEONET.\n",
      "[2021-11-25 00:52:18,994] - obspy.clients.fdsn.mass_downloader - INFO: Total acquired or preexisting stations: 0\n",
      "[2021-11-25 00:52:18,995] - obspy.clients.fdsn.mass_downloader - INFO: Client 'GEONET' - Requesting unreliable availability.\n"
     ]
    },
    {
     "name": "stdout",
     "output_type": "stream",
     "text": [
      "=================================================================\n",
      "Initiating mass download request.\n"
     ]
    },
    {
     "name": "stderr",
     "output_type": "stream",
     "text": [
      "[2021-11-25 00:52:19,611] - obspy.clients.fdsn.mass_downloader - INFO: Client 'GEONET' - Successfully requested availability (0.61 seconds)\n",
      "[2021-11-25 00:52:19,680] - obspy.clients.fdsn.mass_downloader - INFO: Client 'GEONET' - Found 1 stations (1 channels).\n",
      "[2021-11-25 00:52:19,681] - obspy.clients.fdsn.mass_downloader - INFO: Client 'GEONET' - Will attempt to download data from 1 stations.\n",
      "[2021-11-25 00:52:19,697] - obspy.clients.fdsn.mass_downloader - INFO: Client 'GEONET' - Status for 1 time intervals/channels before downloading: NEEDS_DOWNLOADING\n",
      "[2021-11-25 00:52:20,666] - obspy.clients.fdsn.mass_downloader - INFO: Client 'GEONET' - Successfully downloaded 1 channels (of 1)\n",
      "[2021-11-25 00:52:20,726] - obspy.clients.fdsn.mass_downloader - INFO: Client 'GEONET' - Launching basic QC checks...\n",
      "[2021-11-25 00:52:20,757] - obspy.clients.fdsn.mass_downloader - INFO: Client 'GEONET' - Downloaded 0.0 MB [6.67 KB/sec] of data, 0.0 MB of which were discarded afterwards.\n",
      "[2021-11-25 00:52:20,760] - obspy.clients.fdsn.mass_downloader - INFO: Client 'GEONET' - Status for 1 time intervals/channels after downloading: DOWNLOADED\n",
      "[2021-11-25 00:52:20,774] - obspy.clients.fdsn.mass_downloader - INFO: Client 'GEONET' - No station information to download.\n",
      "[2021-11-25 00:52:20,795] - obspy.clients.fdsn.mass_downloader - INFO: ============================== Final report\n",
      "[2021-11-25 00:52:20,798] - obspy.clients.fdsn.mass_downloader - INFO: 0 MiniSEED files [0.0 MB] already existed.\n",
      "[2021-11-25 00:52:20,798] - obspy.clients.fdsn.mass_downloader - INFO: 1 StationXML files [0.0 MB] already existed.\n",
      "[2021-11-25 00:52:20,803] - obspy.clients.fdsn.mass_downloader - INFO: Client 'GEONET' - Acquired 1 MiniSEED files [0.0 MB].\n",
      "[2021-11-25 00:52:20,808] - obspy.clients.fdsn.mass_downloader - INFO: Client 'GEONET' - Acquired 0 StationXML files [0.0 MB].\n",
      "[2021-11-25 00:52:20,809] - obspy.clients.fdsn.mass_downloader - INFO: Downloaded 0.0 MB in total.\n",
      "[2021-11-25 00:52:20,862] - obspy.clients.fdsn.mass_downloader - INFO: Initializing FDSN client(s) for GEONET.\n",
      "[2021-11-25 00:52:20,939] - obspy.clients.fdsn.mass_downloader - INFO: Successfully initialized 1 client(s): GEONET.\n",
      "[2021-11-25 00:52:20,944] - obspy.clients.fdsn.mass_downloader - INFO: Total acquired or preexisting stations: 0\n",
      "[2021-11-25 00:52:20,949] - obspy.clients.fdsn.mass_downloader - INFO: Client 'GEONET' - Requesting unreliable availability.\n"
     ]
    },
    {
     "name": "stdout",
     "output_type": "stream",
     "text": [
      "=================================================================\n",
      "Initiating mass download request.\n"
     ]
    },
    {
     "name": "stderr",
     "output_type": "stream",
     "text": [
      "[2021-11-25 00:52:21,600] - obspy.clients.fdsn.mass_downloader - INFO: Client 'GEONET' - No data available for request.\n",
      "[2021-11-25 00:52:21,702] - obspy.clients.fdsn.mass_downloader - INFO: Client 'GEONET' - No data available.\n",
      "[2021-11-25 00:52:21,719] - obspy.clients.fdsn.mass_downloader - INFO: ============================== Final report\n",
      "[2021-11-25 00:52:21,739] - obspy.clients.fdsn.mass_downloader - INFO: 0 MiniSEED files [0.0 MB] already existed.\n",
      "[2021-11-25 00:52:21,742] - obspy.clients.fdsn.mass_downloader - INFO: 0 StationXML files [0.0 MB] already existed.\n",
      "[2021-11-25 00:52:21,753] - obspy.clients.fdsn.mass_downloader - INFO: Client 'GEONET' - Acquired 0 MiniSEED files [0.0 MB].\n",
      "[2021-11-25 00:52:21,765] - obspy.clients.fdsn.mass_downloader - INFO: Client 'GEONET' - Acquired 0 StationXML files [0.0 MB].\n",
      "[2021-11-25 00:52:21,772] - obspy.clients.fdsn.mass_downloader - INFO: Downloaded 0.0 MB in total.\n",
      "[2021-11-25 00:52:21,803] - obspy.clients.fdsn.mass_downloader - INFO: Initializing FDSN client(s) for GEONET.\n",
      "[2021-11-25 00:52:21,858] - obspy.clients.fdsn.mass_downloader - INFO: Successfully initialized 1 client(s): GEONET.\n",
      "[2021-11-25 00:52:21,865] - obspy.clients.fdsn.mass_downloader - INFO: Total acquired or preexisting stations: 0\n",
      "[2021-11-25 00:52:21,868] - obspy.clients.fdsn.mass_downloader - INFO: Client 'GEONET' - Requesting unreliable availability.\n"
     ]
    },
    {
     "name": "stdout",
     "output_type": "stream",
     "text": [
      "=================================================================\n",
      "Initiating mass download request.\n"
     ]
    },
    {
     "name": "stderr",
     "output_type": "stream",
     "text": [
      "[2021-11-25 00:52:22,556] - obspy.clients.fdsn.mass_downloader - INFO: Client 'GEONET' - Successfully requested availability (0.68 seconds)\n",
      "[2021-11-25 00:52:22,573] - obspy.clients.fdsn.mass_downloader - INFO: Client 'GEONET' - Found 1 stations (1 channels).\n",
      "[2021-11-25 00:52:22,578] - obspy.clients.fdsn.mass_downloader - INFO: Client 'GEONET' - Will attempt to download data from 1 stations.\n",
      "[2021-11-25 00:52:22,590] - obspy.clients.fdsn.mass_downloader - INFO: Client 'GEONET' - Status for 1 time intervals/channels before downloading: NEEDS_DOWNLOADING\n",
      "[2021-11-25 00:52:23,460] - obspy.clients.fdsn.mass_downloader - INFO: Client 'GEONET' - Successfully downloaded 1 channels (of 1)\n",
      "[2021-11-25 00:52:23,473] - obspy.clients.fdsn.mass_downloader - INFO: Client 'GEONET' - Launching basic QC checks...\n",
      "[2021-11-25 00:52:23,492] - obspy.clients.fdsn.mass_downloader - INFO: Client 'GEONET' - Downloaded 0.0 MB [4.03 KB/sec] of data, 0.0 MB of which were discarded afterwards.\n",
      "[2021-11-25 00:52:23,495] - obspy.clients.fdsn.mass_downloader - INFO: Client 'GEONET' - Status for 1 time intervals/channels after downloading: DOWNLOADED\n",
      "[2021-11-25 00:52:23,508] - obspy.clients.fdsn.mass_downloader - INFO: Client 'GEONET' - No station information to download.\n",
      "[2021-11-25 00:52:23,515] - obspy.clients.fdsn.mass_downloader - INFO: ============================== Final report\n",
      "[2021-11-25 00:52:23,517] - obspy.clients.fdsn.mass_downloader - INFO: 0 MiniSEED files [0.0 MB] already existed.\n",
      "[2021-11-25 00:52:23,527] - obspy.clients.fdsn.mass_downloader - INFO: 1 StationXML files [0.0 MB] already existed.\n",
      "[2021-11-25 00:52:23,530] - obspy.clients.fdsn.mass_downloader - INFO: Client 'GEONET' - Acquired 1 MiniSEED files [0.0 MB].\n",
      "[2021-11-25 00:52:23,535] - obspy.clients.fdsn.mass_downloader - INFO: Client 'GEONET' - Acquired 0 StationXML files [0.0 MB].\n",
      "[2021-11-25 00:52:23,536] - obspy.clients.fdsn.mass_downloader - INFO: Downloaded 0.0 MB in total.\n",
      "[2021-11-25 00:52:23,573] - obspy.clients.fdsn.mass_downloader - INFO: Initializing FDSN client(s) for GEONET.\n",
      "[2021-11-25 00:52:23,600] - obspy.clients.fdsn.mass_downloader - INFO: Successfully initialized 1 client(s): GEONET.\n",
      "[2021-11-25 00:52:23,604] - obspy.clients.fdsn.mass_downloader - INFO: Total acquired or preexisting stations: 0\n",
      "[2021-11-25 00:52:23,615] - obspy.clients.fdsn.mass_downloader - INFO: Client 'GEONET' - Requesting unreliable availability.\n"
     ]
    },
    {
     "name": "stdout",
     "output_type": "stream",
     "text": [
      "=================================================================\n",
      "Initiating mass download request.\n"
     ]
    },
    {
     "name": "stderr",
     "output_type": "stream",
     "text": [
      "[2021-11-25 00:52:24,279] - obspy.clients.fdsn.mass_downloader - INFO: Client 'GEONET' - Successfully requested availability (0.66 seconds)\n",
      "[2021-11-25 00:52:24,301] - obspy.clients.fdsn.mass_downloader - INFO: Client 'GEONET' - Found 1 stations (1 channels).\n",
      "[2021-11-25 00:52:24,311] - obspy.clients.fdsn.mass_downloader - INFO: Client 'GEONET' - Will attempt to download data from 1 stations.\n",
      "[2021-11-25 00:52:24,315] - obspy.clients.fdsn.mass_downloader - INFO: Client 'GEONET' - Status for 1 time intervals/channels before downloading: NEEDS_DOWNLOADING\n",
      "[2021-11-25 00:52:25,667] - obspy.clients.fdsn.mass_downloader - INFO: Client 'GEONET' - Successfully downloaded 1 channels (of 1)\n",
      "[2021-11-25 00:52:25,677] - obspy.clients.fdsn.mass_downloader - INFO: Client 'GEONET' - Launching basic QC checks...\n",
      "[2021-11-25 00:52:25,702] - obspy.clients.fdsn.mass_downloader - INFO: Client 'GEONET' - Downloaded 0.0 MB [2.64 KB/sec] of data, 0.0 MB of which were discarded afterwards.\n",
      "[2021-11-25 00:52:25,706] - obspy.clients.fdsn.mass_downloader - INFO: Client 'GEONET' - Status for 1 time intervals/channels after downloading: DOWNLOADED\n",
      "[2021-11-25 00:52:25,713] - obspy.clients.fdsn.mass_downloader - INFO: Client 'GEONET' - No station information to download.\n",
      "[2021-11-25 00:52:25,725] - obspy.clients.fdsn.mass_downloader - INFO: ============================== Final report\n",
      "[2021-11-25 00:52:25,728] - obspy.clients.fdsn.mass_downloader - INFO: 0 MiniSEED files [0.0 MB] already existed.\n",
      "[2021-11-25 00:52:25,730] - obspy.clients.fdsn.mass_downloader - INFO: 1 StationXML files [0.0 MB] already existed.\n",
      "[2021-11-25 00:52:25,732] - obspy.clients.fdsn.mass_downloader - INFO: Client 'GEONET' - Acquired 1 MiniSEED files [0.0 MB].\n",
      "[2021-11-25 00:52:25,735] - obspy.clients.fdsn.mass_downloader - INFO: Client 'GEONET' - Acquired 0 StationXML files [0.0 MB].\n",
      "[2021-11-25 00:52:25,736] - obspy.clients.fdsn.mass_downloader - INFO: Downloaded 0.0 MB in total.\n",
      "[2021-11-25 00:52:25,765] - obspy.clients.fdsn.mass_downloader - INFO: Initializing FDSN client(s) for GEONET.\n",
      "[2021-11-25 00:52:25,840] - obspy.clients.fdsn.mass_downloader - INFO: Successfully initialized 1 client(s): GEONET.\n",
      "[2021-11-25 00:52:25,855] - obspy.clients.fdsn.mass_downloader - INFO: Total acquired or preexisting stations: 0\n",
      "[2021-11-25 00:52:25,856] - obspy.clients.fdsn.mass_downloader - INFO: Client 'GEONET' - Requesting unreliable availability.\n"
     ]
    },
    {
     "name": "stdout",
     "output_type": "stream",
     "text": [
      "=================================================================\n",
      "Initiating mass download request.\n"
     ]
    },
    {
     "name": "stderr",
     "output_type": "stream",
     "text": [
      "[2021-11-25 00:52:26,476] - obspy.clients.fdsn.mass_downloader - INFO: Client 'GEONET' - Successfully requested availability (0.62 seconds)\n",
      "[2021-11-25 00:52:26,493] - obspy.clients.fdsn.mass_downloader - INFO: Client 'GEONET' - Found 1 stations (1 channels).\n",
      "[2021-11-25 00:52:26,501] - obspy.clients.fdsn.mass_downloader - INFO: Client 'GEONET' - Will attempt to download data from 1 stations.\n",
      "[2021-11-25 00:52:26,507] - obspy.clients.fdsn.mass_downloader - INFO: Client 'GEONET' - Status for 1 time intervals/channels before downloading: NEEDS_DOWNLOADING\n",
      "[2021-11-25 00:52:27,298] - obspy.clients.fdsn.mass_downloader - INFO: Client 'GEONET' - Successfully downloaded 1 channels (of 1)\n",
      "[2021-11-25 00:52:27,332] - obspy.clients.fdsn.mass_downloader - INFO: Client 'GEONET' - Launching basic QC checks...\n",
      "[2021-11-25 00:52:27,356] - obspy.clients.fdsn.mass_downloader - INFO: Client 'GEONET' - Downloaded 0.0 MB [4.33 KB/sec] of data, 0.0 MB of which were discarded afterwards.\n",
      "[2021-11-25 00:52:27,361] - obspy.clients.fdsn.mass_downloader - INFO: Client 'GEONET' - Status for 1 time intervals/channels after downloading: DOWNLOADED\n",
      "[2021-11-25 00:52:27,393] - obspy.clients.fdsn.mass_downloader - INFO: Client 'GEONET' - No station information to download.\n",
      "[2021-11-25 00:52:27,398] - obspy.clients.fdsn.mass_downloader - INFO: ============================== Final report\n",
      "[2021-11-25 00:52:27,402] - obspy.clients.fdsn.mass_downloader - INFO: 0 MiniSEED files [0.0 MB] already existed.\n",
      "[2021-11-25 00:52:27,405] - obspy.clients.fdsn.mass_downloader - INFO: 1 StationXML files [0.0 MB] already existed.\n",
      "[2021-11-25 00:52:27,405] - obspy.clients.fdsn.mass_downloader - INFO: Client 'GEONET' - Acquired 1 MiniSEED files [0.0 MB].\n",
      "[2021-11-25 00:52:27,411] - obspy.clients.fdsn.mass_downloader - INFO: Client 'GEONET' - Acquired 0 StationXML files [0.0 MB].\n",
      "[2021-11-25 00:52:27,412] - obspy.clients.fdsn.mass_downloader - INFO: Downloaded 0.0 MB in total.\n",
      "[2021-11-25 00:52:27,428] - obspy.clients.fdsn.mass_downloader - INFO: Initializing FDSN client(s) for GEONET.\n",
      "[2021-11-25 00:52:27,452] - obspy.clients.fdsn.mass_downloader - INFO: Successfully initialized 1 client(s): GEONET.\n",
      "[2021-11-25 00:52:27,456] - obspy.clients.fdsn.mass_downloader - INFO: Total acquired or preexisting stations: 0\n",
      "[2021-11-25 00:52:27,462] - obspy.clients.fdsn.mass_downloader - INFO: Client 'GEONET' - Requesting unreliable availability.\n"
     ]
    },
    {
     "name": "stdout",
     "output_type": "stream",
     "text": [
      "=================================================================\n",
      "Initiating mass download request.\n"
     ]
    },
    {
     "name": "stderr",
     "output_type": "stream",
     "text": [
      "[2021-11-25 00:52:28,192] - obspy.clients.fdsn.mass_downloader - INFO: Client 'GEONET' - Successfully requested availability (0.73 seconds)\n",
      "[2021-11-25 00:52:28,249] - obspy.clients.fdsn.mass_downloader - INFO: Client 'GEONET' - Found 1 stations (1 channels).\n",
      "[2021-11-25 00:52:28,262] - obspy.clients.fdsn.mass_downloader - INFO: Client 'GEONET' - Will attempt to download data from 1 stations.\n",
      "[2021-11-25 00:52:28,269] - obspy.clients.fdsn.mass_downloader - INFO: Client 'GEONET' - Status for 1 time intervals/channels before downloading: NEEDS_DOWNLOADING\n",
      "[2021-11-25 00:52:29,046] - obspy.clients.fdsn.mass_downloader - INFO: Client 'GEONET' - Successfully downloaded 1 channels (of 1)\n",
      "[2021-11-25 00:52:29,083] - obspy.clients.fdsn.mass_downloader - INFO: Client 'GEONET' - Launching basic QC checks...\n",
      "[2021-11-25 00:52:29,113] - obspy.clients.fdsn.mass_downloader - INFO: Client 'GEONET' - Downloaded 0.0 MB [3.94 KB/sec] of data, 0.0 MB of which were discarded afterwards.\n",
      "[2021-11-25 00:52:29,119] - obspy.clients.fdsn.mass_downloader - INFO: Client 'GEONET' - Status for 1 time intervals/channels after downloading: DOWNLOADED\n",
      "[2021-11-25 00:52:29,125] - obspy.clients.fdsn.mass_downloader - INFO: Client 'GEONET' - No station information to download.\n",
      "[2021-11-25 00:52:29,132] - obspy.clients.fdsn.mass_downloader - INFO: ============================== Final report\n",
      "[2021-11-25 00:52:29,135] - obspy.clients.fdsn.mass_downloader - INFO: 0 MiniSEED files [0.0 MB] already existed.\n",
      "[2021-11-25 00:52:29,135] - obspy.clients.fdsn.mass_downloader - INFO: 1 StationXML files [0.0 MB] already existed.\n",
      "[2021-11-25 00:52:29,135] - obspy.clients.fdsn.mass_downloader - INFO: Client 'GEONET' - Acquired 1 MiniSEED files [0.0 MB].\n",
      "[2021-11-25 00:52:29,136] - obspy.clients.fdsn.mass_downloader - INFO: Client 'GEONET' - Acquired 0 StationXML files [0.0 MB].\n",
      "[2021-11-25 00:52:29,136] - obspy.clients.fdsn.mass_downloader - INFO: Downloaded 0.0 MB in total.\n",
      "[2021-11-25 00:52:29,159] - obspy.clients.fdsn.mass_downloader - INFO: Initializing FDSN client(s) for GEONET.\n",
      "[2021-11-25 00:52:29,182] - obspy.clients.fdsn.mass_downloader - INFO: Successfully initialized 1 client(s): GEONET.\n",
      "[2021-11-25 00:52:29,184] - obspy.clients.fdsn.mass_downloader - INFO: Total acquired or preexisting stations: 0\n",
      "[2021-11-25 00:52:29,190] - obspy.clients.fdsn.mass_downloader - INFO: Client 'GEONET' - Requesting unreliable availability.\n"
     ]
    },
    {
     "name": "stdout",
     "output_type": "stream",
     "text": [
      "=================================================================\n",
      "Initiating mass download request.\n"
     ]
    },
    {
     "name": "stderr",
     "output_type": "stream",
     "text": [
      "[2021-11-25 00:52:29,892] - obspy.clients.fdsn.mass_downloader - INFO: Client 'GEONET' - Successfully requested availability (0.70 seconds)\n",
      "[2021-11-25 00:52:29,926] - obspy.clients.fdsn.mass_downloader - INFO: Client 'GEONET' - Found 1 stations (1 channels).\n",
      "[2021-11-25 00:52:29,934] - obspy.clients.fdsn.mass_downloader - INFO: Client 'GEONET' - Will attempt to download data from 1 stations.\n",
      "[2021-11-25 00:52:29,964] - obspy.clients.fdsn.mass_downloader - INFO: Client 'GEONET' - Status for 1 time intervals/channels before downloading: NEEDS_DOWNLOADING\n",
      "[2021-11-25 00:52:30,984] - obspy.clients.fdsn.mass_downloader - INFO: Client 'GEONET' - Successfully downloaded 1 channels (of 1)\n",
      "[2021-11-25 00:52:31,245] - obspy.clients.fdsn.mass_downloader - INFO: Client 'GEONET' - Launching basic QC checks...\n",
      "[2021-11-25 00:52:31,329] - obspy.clients.fdsn.mass_downloader - INFO: Client 'GEONET' - Downloaded 0.0 MB [3.58 KB/sec] of data, 0.0 MB of which were discarded afterwards.\n",
      "[2021-11-25 00:52:31,332] - obspy.clients.fdsn.mass_downloader - INFO: Client 'GEONET' - Status for 1 time intervals/channels after downloading: DOWNLOADED\n",
      "[2021-11-25 00:52:31,338] - obspy.clients.fdsn.mass_downloader - INFO: Client 'GEONET' - No station information to download.\n",
      "[2021-11-25 00:52:31,383] - obspy.clients.fdsn.mass_downloader - INFO: ============================== Final report\n",
      "[2021-11-25 00:52:31,386] - obspy.clients.fdsn.mass_downloader - INFO: 0 MiniSEED files [0.0 MB] already existed.\n",
      "[2021-11-25 00:52:31,388] - obspy.clients.fdsn.mass_downloader - INFO: 1 StationXML files [0.0 MB] already existed.\n",
      "[2021-11-25 00:52:31,390] - obspy.clients.fdsn.mass_downloader - INFO: Client 'GEONET' - Acquired 1 MiniSEED files [0.0 MB].\n",
      "[2021-11-25 00:52:31,391] - obspy.clients.fdsn.mass_downloader - INFO: Client 'GEONET' - Acquired 0 StationXML files [0.0 MB].\n",
      "[2021-11-25 00:52:31,394] - obspy.clients.fdsn.mass_downloader - INFO: Downloaded 0.0 MB in total.\n",
      "[2021-11-25 00:52:31,454] - obspy.clients.fdsn.mass_downloader - INFO: Initializing FDSN client(s) for GEONET.\n",
      "[2021-11-25 00:52:31,490] - obspy.clients.fdsn.mass_downloader - INFO: Successfully initialized 1 client(s): GEONET.\n",
      "[2021-11-25 00:52:31,514] - obspy.clients.fdsn.mass_downloader - INFO: Total acquired or preexisting stations: 0\n",
      "[2021-11-25 00:52:31,523] - obspy.clients.fdsn.mass_downloader - INFO: Client 'GEONET' - Requesting unreliable availability.\n"
     ]
    },
    {
     "name": "stdout",
     "output_type": "stream",
     "text": [
      "=================================================================\n",
      "Initiating mass download request.\n"
     ]
    },
    {
     "name": "stderr",
     "output_type": "stream",
     "text": [
      "[2021-11-25 00:52:32,279] - obspy.clients.fdsn.mass_downloader - INFO: Client 'GEONET' - Successfully requested availability (0.75 seconds)\n",
      "[2021-11-25 00:52:32,308] - obspy.clients.fdsn.mass_downloader - INFO: Client 'GEONET' - Found 1 stations (1 channels).\n",
      "[2021-11-25 00:52:32,327] - obspy.clients.fdsn.mass_downloader - INFO: Client 'GEONET' - Will attempt to download data from 1 stations.\n",
      "[2021-11-25 00:52:32,336] - obspy.clients.fdsn.mass_downloader - INFO: Client 'GEONET' - Status for 1 time intervals/channels before downloading: NEEDS_DOWNLOADING\n",
      "[2021-11-25 00:52:33,187] - obspy.clients.fdsn.mass_downloader - INFO: Client 'GEONET' - Successfully downloaded 1 channels (of 1)\n",
      "[2021-11-25 00:52:33,234] - obspy.clients.fdsn.mass_downloader - INFO: Client 'GEONET' - Launching basic QC checks...\n",
      "[2021-11-25 00:52:33,262] - obspy.clients.fdsn.mass_downloader - INFO: Client 'GEONET' - Downloaded 0.0 MB [3.42 KB/sec] of data, 0.0 MB of which were discarded afterwards.\n",
      "[2021-11-25 00:52:33,272] - obspy.clients.fdsn.mass_downloader - INFO: Client 'GEONET' - Status for 1 time intervals/channels after downloading: DOWNLOADED\n",
      "[2021-11-25 00:52:33,296] - obspy.clients.fdsn.mass_downloader - INFO: Client 'GEONET' - No station information to download.\n",
      "[2021-11-25 00:52:33,304] - obspy.clients.fdsn.mass_downloader - INFO: ============================== Final report\n",
      "[2021-11-25 00:52:33,307] - obspy.clients.fdsn.mass_downloader - INFO: 0 MiniSEED files [0.0 MB] already existed.\n",
      "[2021-11-25 00:52:33,311] - obspy.clients.fdsn.mass_downloader - INFO: 1 StationXML files [0.0 MB] already existed.\n",
      "[2021-11-25 00:52:33,315] - obspy.clients.fdsn.mass_downloader - INFO: Client 'GEONET' - Acquired 1 MiniSEED files [0.0 MB].\n",
      "[2021-11-25 00:52:33,319] - obspy.clients.fdsn.mass_downloader - INFO: Client 'GEONET' - Acquired 0 StationXML files [0.0 MB].\n",
      "[2021-11-25 00:52:33,320] - obspy.clients.fdsn.mass_downloader - INFO: Downloaded 0.0 MB in total.\n",
      "[2021-11-25 00:52:33,330] - obspy.clients.fdsn.mass_downloader - INFO: Initializing FDSN client(s) for GEONET.\n",
      "[2021-11-25 00:52:33,348] - obspy.clients.fdsn.mass_downloader - INFO: Successfully initialized 1 client(s): GEONET.\n",
      "[2021-11-25 00:52:33,351] - obspy.clients.fdsn.mass_downloader - INFO: Total acquired or preexisting stations: 0\n",
      "[2021-11-25 00:52:33,353] - obspy.clients.fdsn.mass_downloader - INFO: Client 'GEONET' - Requesting unreliable availability.\n"
     ]
    },
    {
     "name": "stdout",
     "output_type": "stream",
     "text": [
      "=================================================================\n",
      "Initiating mass download request.\n"
     ]
    },
    {
     "name": "stderr",
     "output_type": "stream",
     "text": [
      "[2021-11-25 00:52:34,020] - obspy.clients.fdsn.mass_downloader - INFO: Client 'GEONET' - Successfully requested availability (0.67 seconds)\n",
      "[2021-11-25 00:52:34,049] - obspy.clients.fdsn.mass_downloader - INFO: Client 'GEONET' - Found 1 stations (1 channels).\n",
      "[2021-11-25 00:52:34,061] - obspy.clients.fdsn.mass_downloader - INFO: Client 'GEONET' - Will attempt to download data from 1 stations.\n",
      "[2021-11-25 00:52:34,066] - obspy.clients.fdsn.mass_downloader - INFO: Client 'GEONET' - Status for 1 time intervals/channels before downloading: NEEDS_DOWNLOADING\n",
      "[2021-11-25 00:52:34,991] - obspy.clients.fdsn.mass_downloader - INFO: Client 'GEONET' - Successfully downloaded 1 channels (of 1)\n",
      "[2021-11-25 00:52:35,022] - obspy.clients.fdsn.mass_downloader - INFO: Client 'GEONET' - Launching basic QC checks...\n",
      "[2021-11-25 00:52:35,037] - obspy.clients.fdsn.mass_downloader - INFO: Client 'GEONET' - Downloaded 0.0 MB [3.21 KB/sec] of data, 0.0 MB of which were discarded afterwards.\n",
      "[2021-11-25 00:52:35,038] - obspy.clients.fdsn.mass_downloader - INFO: Client 'GEONET' - Status for 1 time intervals/channels after downloading: DOWNLOADED\n",
      "[2021-11-25 00:52:35,044] - obspy.clients.fdsn.mass_downloader - INFO: Client 'GEONET' - No station information to download.\n",
      "[2021-11-25 00:52:35,049] - obspy.clients.fdsn.mass_downloader - INFO: ============================== Final report\n",
      "[2021-11-25 00:52:35,051] - obspy.clients.fdsn.mass_downloader - INFO: 0 MiniSEED files [0.0 MB] already existed.\n",
      "[2021-11-25 00:52:35,052] - obspy.clients.fdsn.mass_downloader - INFO: 1 StationXML files [0.0 MB] already existed.\n",
      "[2021-11-25 00:52:35,052] - obspy.clients.fdsn.mass_downloader - INFO: Client 'GEONET' - Acquired 1 MiniSEED files [0.0 MB].\n",
      "[2021-11-25 00:52:35,052] - obspy.clients.fdsn.mass_downloader - INFO: Client 'GEONET' - Acquired 0 StationXML files [0.0 MB].\n",
      "[2021-11-25 00:52:35,052] - obspy.clients.fdsn.mass_downloader - INFO: Downloaded 0.0 MB in total.\n",
      "[2021-11-25 00:52:35,075] - obspy.clients.fdsn.mass_downloader - INFO: Initializing FDSN client(s) for GEONET.\n",
      "[2021-11-25 00:52:35,108] - obspy.clients.fdsn.mass_downloader - INFO: Successfully initialized 1 client(s): GEONET.\n",
      "[2021-11-25 00:52:35,111] - obspy.clients.fdsn.mass_downloader - INFO: Total acquired or preexisting stations: 0\n",
      "[2021-11-25 00:52:35,118] - obspy.clients.fdsn.mass_downloader - INFO: Client 'GEONET' - Requesting unreliable availability.\n"
     ]
    },
    {
     "name": "stdout",
     "output_type": "stream",
     "text": [
      "=================================================================\n",
      "Initiating mass download request.\n"
     ]
    },
    {
     "name": "stderr",
     "output_type": "stream",
     "text": [
      "[2021-11-25 00:52:35,786] - obspy.clients.fdsn.mass_downloader - INFO: Client 'GEONET' - Successfully requested availability (0.67 seconds)\n",
      "[2021-11-25 00:52:35,837] - obspy.clients.fdsn.mass_downloader - INFO: Client 'GEONET' - Found 1 stations (1 channels).\n",
      "[2021-11-25 00:52:35,853] - obspy.clients.fdsn.mass_downloader - INFO: Client 'GEONET' - Will attempt to download data from 1 stations.\n",
      "[2021-11-25 00:52:35,869] - obspy.clients.fdsn.mass_downloader - INFO: Client 'GEONET' - Status for 1 time intervals/channels before downloading: NEEDS_DOWNLOADING\n",
      "[2021-11-25 00:52:36,778] - obspy.clients.fdsn.mass_downloader - INFO: Client 'GEONET' - Successfully downloaded 1 channels (of 1)\n",
      "[2021-11-25 00:52:36,801] - obspy.clients.fdsn.mass_downloader - INFO: Client 'GEONET' - Launching basic QC checks...\n",
      "[2021-11-25 00:52:36,825] - obspy.clients.fdsn.mass_downloader - INFO: Client 'GEONET' - Downloaded 0.0 MB [5.64 KB/sec] of data, 0.0 MB of which were discarded afterwards.\n",
      "[2021-11-25 00:52:36,831] - obspy.clients.fdsn.mass_downloader - INFO: Client 'GEONET' - Status for 1 time intervals/channels after downloading: DOWNLOADED\n",
      "[2021-11-25 00:52:36,855] - obspy.clients.fdsn.mass_downloader - INFO: Client 'GEONET' - No station information to download.\n",
      "[2021-11-25 00:52:36,863] - obspy.clients.fdsn.mass_downloader - INFO: ============================== Final report\n",
      "[2021-11-25 00:52:36,865] - obspy.clients.fdsn.mass_downloader - INFO: 0 MiniSEED files [0.0 MB] already existed.\n",
      "[2021-11-25 00:52:36,866] - obspy.clients.fdsn.mass_downloader - INFO: 1 StationXML files [0.0 MB] already existed.\n",
      "[2021-11-25 00:52:36,869] - obspy.clients.fdsn.mass_downloader - INFO: Client 'GEONET' - Acquired 1 MiniSEED files [0.0 MB].\n",
      "[2021-11-25 00:52:36,869] - obspy.clients.fdsn.mass_downloader - INFO: Client 'GEONET' - Acquired 0 StationXML files [0.0 MB].\n",
      "[2021-11-25 00:52:36,869] - obspy.clients.fdsn.mass_downloader - INFO: Downloaded 0.0 MB in total.\n",
      "[2021-11-25 00:52:36,887] - obspy.clients.fdsn.mass_downloader - INFO: Initializing FDSN client(s) for GEONET.\n",
      "[2021-11-25 00:52:36,965] - obspy.clients.fdsn.mass_downloader - INFO: Successfully initialized 1 client(s): GEONET.\n",
      "[2021-11-25 00:52:36,974] - obspy.clients.fdsn.mass_downloader - INFO: Total acquired or preexisting stations: 0\n",
      "[2021-11-25 00:52:36,977] - obspy.clients.fdsn.mass_downloader - INFO: Client 'GEONET' - Requesting unreliable availability.\n"
     ]
    },
    {
     "name": "stdout",
     "output_type": "stream",
     "text": [
      "=================================================================\n",
      "Initiating mass download request.\n"
     ]
    },
    {
     "name": "stderr",
     "output_type": "stream",
     "text": [
      "[2021-11-25 00:52:37,720] - obspy.clients.fdsn.mass_downloader - INFO: Client 'GEONET' - Successfully requested availability (0.74 seconds)\n",
      "[2021-11-25 00:52:37,833] - obspy.clients.fdsn.mass_downloader - INFO: Client 'GEONET' - Found 1 stations (1 channels).\n",
      "[2021-11-25 00:52:37,859] - obspy.clients.fdsn.mass_downloader - INFO: Client 'GEONET' - Will attempt to download data from 1 stations.\n",
      "[2021-11-25 00:52:37,874] - obspy.clients.fdsn.mass_downloader - INFO: Client 'GEONET' - Status for 1 time intervals/channels before downloading: NEEDS_DOWNLOADING\n",
      "[2021-11-25 00:52:38,883] - obspy.clients.fdsn.mass_downloader - INFO: Client 'GEONET' - Successfully downloaded 1 channels (of 1)\n",
      "[2021-11-25 00:52:38,947] - obspy.clients.fdsn.mass_downloader - INFO: Client 'GEONET' - Launching basic QC checks...\n",
      "[2021-11-25 00:52:39,021] - obspy.clients.fdsn.mass_downloader - INFO: Client 'GEONET' - Downloaded 0.0 MB [4.11 KB/sec] of data, 0.0 MB of which were discarded afterwards.\n",
      "[2021-11-25 00:52:39,028] - obspy.clients.fdsn.mass_downloader - INFO: Client 'GEONET' - Status for 1 time intervals/channels after downloading: DOWNLOADED\n",
      "[2021-11-25 00:52:39,034] - obspy.clients.fdsn.mass_downloader - INFO: Client 'GEONET' - No station information to download.\n",
      "[2021-11-25 00:52:39,054] - obspy.clients.fdsn.mass_downloader - INFO: ============================== Final report\n",
      "[2021-11-25 00:52:39,068] - obspy.clients.fdsn.mass_downloader - INFO: 0 MiniSEED files [0.0 MB] already existed.\n",
      "[2021-11-25 00:52:39,076] - obspy.clients.fdsn.mass_downloader - INFO: 1 StationXML files [0.0 MB] already existed.\n",
      "[2021-11-25 00:52:39,081] - obspy.clients.fdsn.mass_downloader - INFO: Client 'GEONET' - Acquired 1 MiniSEED files [0.0 MB].\n",
      "[2021-11-25 00:52:39,086] - obspy.clients.fdsn.mass_downloader - INFO: Client 'GEONET' - Acquired 0 StationXML files [0.0 MB].\n",
      "[2021-11-25 00:52:39,087] - obspy.clients.fdsn.mass_downloader - INFO: Downloaded 0.0 MB in total.\n",
      "[2021-11-25 00:52:39,138] - obspy.clients.fdsn.mass_downloader - INFO: Initializing FDSN client(s) for GEONET.\n",
      "[2021-11-25 00:52:39,214] - obspy.clients.fdsn.mass_downloader - INFO: Successfully initialized 1 client(s): GEONET.\n",
      "[2021-11-25 00:52:39,247] - obspy.clients.fdsn.mass_downloader - INFO: Total acquired or preexisting stations: 0\n",
      "[2021-11-25 00:52:39,255] - obspy.clients.fdsn.mass_downloader - INFO: Client 'GEONET' - Requesting unreliable availability.\n"
     ]
    },
    {
     "name": "stdout",
     "output_type": "stream",
     "text": [
      "=================================================================\n",
      "Initiating mass download request.\n"
     ]
    },
    {
     "name": "stderr",
     "output_type": "stream",
     "text": [
      "[2021-11-25 00:52:40,008] - obspy.clients.fdsn.mass_downloader - INFO: Client 'GEONET' - Successfully requested availability (0.75 seconds)\n",
      "[2021-11-25 00:52:40,018] - obspy.clients.fdsn.mass_downloader - INFO: Client 'GEONET' - Found 1 stations (1 channels).\n",
      "[2021-11-25 00:52:40,024] - obspy.clients.fdsn.mass_downloader - INFO: Client 'GEONET' - Will attempt to download data from 1 stations.\n",
      "[2021-11-25 00:52:40,028] - obspy.clients.fdsn.mass_downloader - INFO: Client 'GEONET' - Status for 1 time intervals/channels before downloading: NEEDS_DOWNLOADING\n",
      "[2021-11-25 00:52:40,919] - obspy.clients.fdsn.mass_downloader - INFO: Client 'GEONET' - Successfully downloaded 1 channels (of 1)\n",
      "[2021-11-25 00:52:40,923] - obspy.clients.fdsn.mass_downloader - INFO: Client 'GEONET' - Launching basic QC checks...\n",
      "[2021-11-25 00:52:40,941] - obspy.clients.fdsn.mass_downloader - INFO: Client 'GEONET' - Downloaded 0.0 MB [3.95 KB/sec] of data, 0.0 MB of which were discarded afterwards.\n",
      "[2021-11-25 00:52:40,945] - obspy.clients.fdsn.mass_downloader - INFO: Client 'GEONET' - Status for 1 time intervals/channels after downloading: DOWNLOADED\n",
      "[2021-11-25 00:52:40,953] - obspy.clients.fdsn.mass_downloader - INFO: Client 'GEONET' - No station information to download.\n",
      "[2021-11-25 00:52:40,954] - obspy.clients.fdsn.mass_downloader - INFO: ============================== Final report\n",
      "[2021-11-25 00:52:40,955] - obspy.clients.fdsn.mass_downloader - INFO: 0 MiniSEED files [0.0 MB] already existed.\n",
      "[2021-11-25 00:52:40,955] - obspy.clients.fdsn.mass_downloader - INFO: 1 StationXML files [0.0 MB] already existed.\n",
      "[2021-11-25 00:52:40,956] - obspy.clients.fdsn.mass_downloader - INFO: Client 'GEONET' - Acquired 1 MiniSEED files [0.0 MB].\n",
      "[2021-11-25 00:52:40,957] - obspy.clients.fdsn.mass_downloader - INFO: Client 'GEONET' - Acquired 0 StationXML files [0.0 MB].\n",
      "[2021-11-25 00:52:40,957] - obspy.clients.fdsn.mass_downloader - INFO: Downloaded 0.0 MB in total.\n",
      "[2021-11-25 00:52:40,965] - obspy.clients.fdsn.mass_downloader - INFO: Initializing FDSN client(s) for GEONET.\n",
      "[2021-11-25 00:52:40,973] - obspy.clients.fdsn.mass_downloader - INFO: Successfully initialized 1 client(s): GEONET.\n",
      "[2021-11-25 00:52:40,974] - obspy.clients.fdsn.mass_downloader - INFO: Total acquired or preexisting stations: 0\n",
      "[2021-11-25 00:52:40,974] - obspy.clients.fdsn.mass_downloader - INFO: Client 'GEONET' - Requesting unreliable availability.\n"
     ]
    },
    {
     "name": "stdout",
     "output_type": "stream",
     "text": [
      "=================================================================\n",
      "Initiating mass download request.\n"
     ]
    },
    {
     "name": "stderr",
     "output_type": "stream",
     "text": [
      "[2021-11-25 00:52:41,588] - obspy.clients.fdsn.mass_downloader - INFO: Client 'GEONET' - Successfully requested availability (0.61 seconds)\n",
      "[2021-11-25 00:52:41,592] - obspy.clients.fdsn.mass_downloader - INFO: Client 'GEONET' - Found 1 stations (1 channels).\n",
      "[2021-11-25 00:52:41,595] - obspy.clients.fdsn.mass_downloader - INFO: Client 'GEONET' - Will attempt to download data from 1 stations.\n",
      "[2021-11-25 00:52:41,597] - obspy.clients.fdsn.mass_downloader - INFO: Client 'GEONET' - Status for 1 time intervals/channels before downloading: NEEDS_DOWNLOADING\n",
      "[2021-11-25 00:52:42,221] - obspy.clients.fdsn.mass_downloader - INFO: Client 'GEONET' - Successfully downloaded 0 channels (of 1)\n",
      "[2021-11-25 00:52:42,296] - obspy.clients.fdsn.mass_downloader - INFO: Client 'GEONET' - Launching basic QC checks...\n",
      "[2021-11-25 00:52:42,308] - obspy.clients.fdsn.mass_downloader - INFO: Client 'GEONET' - Downloaded 0.0 MB [0.00 KB/sec] of data, 0.0 MB of which were discarded afterwards.\n",
      "[2021-11-25 00:52:42,316] - obspy.clients.fdsn.mass_downloader - INFO: Client 'GEONET' - Status for 1 time intervals/channels after downloading: DOWNLOAD_FAILED\n",
      "[2021-11-25 00:52:42,326] - obspy.clients.fdsn.mass_downloader - INFO: Client 'GEONET' - No station information to download.\n",
      "[2021-11-25 00:52:42,341] - obspy.clients.fdsn.mass_downloader - INFO: Client 'GEONET' - No data could be downloaded.\n",
      "[2021-11-25 00:52:42,349] - obspy.clients.fdsn.mass_downloader - INFO: ============================== Final report\n",
      "[2021-11-25 00:52:42,359] - obspy.clients.fdsn.mass_downloader - INFO: 0 MiniSEED files [0.0 MB] already existed.\n",
      "[2021-11-25 00:52:42,363] - obspy.clients.fdsn.mass_downloader - INFO: 0 StationXML files [0.0 MB] already existed.\n",
      "[2021-11-25 00:52:42,363] - obspy.clients.fdsn.mass_downloader - INFO: Client 'GEONET' - Acquired 0 MiniSEED files [0.0 MB].\n",
      "[2021-11-25 00:52:42,368] - obspy.clients.fdsn.mass_downloader - INFO: Client 'GEONET' - Acquired 0 StationXML files [0.0 MB].\n",
      "[2021-11-25 00:52:42,376] - obspy.clients.fdsn.mass_downloader - INFO: Downloaded 0.0 MB in total.\n",
      "[2021-11-25 00:52:42,390] - obspy.clients.fdsn.mass_downloader - INFO: Initializing FDSN client(s) for GEONET.\n",
      "[2021-11-25 00:52:42,442] - obspy.clients.fdsn.mass_downloader - INFO: Successfully initialized 1 client(s): GEONET.\n",
      "[2021-11-25 00:52:42,446] - obspy.clients.fdsn.mass_downloader - INFO: Total acquired or preexisting stations: 0\n",
      "[2021-11-25 00:52:42,454] - obspy.clients.fdsn.mass_downloader - INFO: Client 'GEONET' - Requesting unreliable availability.\n"
     ]
    },
    {
     "name": "stdout",
     "output_type": "stream",
     "text": [
      "=================================================================\n",
      "Initiating mass download request.\n"
     ]
    },
    {
     "name": "stderr",
     "output_type": "stream",
     "text": [
      "[2021-11-25 00:52:43,274] - obspy.clients.fdsn.mass_downloader - INFO: Client 'GEONET' - Successfully requested availability (0.82 seconds)\n",
      "[2021-11-25 00:52:43,400] - obspy.clients.fdsn.mass_downloader - INFO: Client 'GEONET' - Found 1 stations (1 channels).\n",
      "[2021-11-25 00:52:43,436] - obspy.clients.fdsn.mass_downloader - INFO: Client 'GEONET' - Will attempt to download data from 1 stations.\n",
      "[2021-11-25 00:52:43,455] - obspy.clients.fdsn.mass_downloader - INFO: Client 'GEONET' - Status for 1 time intervals/channels before downloading: NEEDS_DOWNLOADING\n",
      "[2021-11-25 00:52:44,382] - obspy.clients.fdsn.mass_downloader - INFO: Client 'GEONET' - Successfully downloaded 1 channels (of 1)\n",
      "[2021-11-25 00:52:44,421] - obspy.clients.fdsn.mass_downloader - INFO: Client 'GEONET' - Launching basic QC checks...\n",
      "[2021-11-25 00:52:44,472] - obspy.clients.fdsn.mass_downloader - INFO: Client 'GEONET' - Downloaded 0.0 MB [3.38 KB/sec] of data, 0.0 MB of which were discarded afterwards.\n",
      "[2021-11-25 00:52:44,478] - obspy.clients.fdsn.mass_downloader - INFO: Client 'GEONET' - Status for 1 time intervals/channels after downloading: DOWNLOADED\n",
      "[2021-11-25 00:52:44,489] - obspy.clients.fdsn.mass_downloader - INFO: Client 'GEONET' - No station information to download.\n",
      "[2021-11-25 00:52:44,491] - obspy.clients.fdsn.mass_downloader - INFO: ============================== Final report\n",
      "[2021-11-25 00:52:44,492] - obspy.clients.fdsn.mass_downloader - INFO: 0 MiniSEED files [0.0 MB] already existed.\n",
      "[2021-11-25 00:52:44,493] - obspy.clients.fdsn.mass_downloader - INFO: 1 StationXML files [0.0 MB] already existed.\n",
      "[2021-11-25 00:52:44,494] - obspy.clients.fdsn.mass_downloader - INFO: Client 'GEONET' - Acquired 1 MiniSEED files [0.0 MB].\n",
      "[2021-11-25 00:52:44,497] - obspy.clients.fdsn.mass_downloader - INFO: Client 'GEONET' - Acquired 0 StationXML files [0.0 MB].\n",
      "[2021-11-25 00:52:44,499] - obspy.clients.fdsn.mass_downloader - INFO: Downloaded 0.0 MB in total.\n",
      "[2021-11-25 00:52:44,520] - obspy.clients.fdsn.mass_downloader - INFO: Initializing FDSN client(s) for GEONET.\n",
      "[2021-11-25 00:52:44,578] - obspy.clients.fdsn.mass_downloader - INFO: Successfully initialized 1 client(s): GEONET.\n",
      "[2021-11-25 00:52:44,588] - obspy.clients.fdsn.mass_downloader - INFO: Total acquired or preexisting stations: 0\n",
      "[2021-11-25 00:52:44,589] - obspy.clients.fdsn.mass_downloader - INFO: Client 'GEONET' - Requesting unreliable availability.\n"
     ]
    },
    {
     "name": "stdout",
     "output_type": "stream",
     "text": [
      "=================================================================\n",
      "Initiating mass download request.\n"
     ]
    },
    {
     "name": "stderr",
     "output_type": "stream",
     "text": [
      "[2021-11-25 00:52:45,186] - obspy.clients.fdsn.mass_downloader - INFO: Client 'GEONET' - Successfully requested availability (0.60 seconds)\n",
      "[2021-11-25 00:52:45,199] - obspy.clients.fdsn.mass_downloader - INFO: Client 'GEONET' - Found 1 stations (1 channels).\n",
      "[2021-11-25 00:52:45,209] - obspy.clients.fdsn.mass_downloader - INFO: Client 'GEONET' - Will attempt to download data from 1 stations.\n",
      "[2021-11-25 00:52:45,212] - obspy.clients.fdsn.mass_downloader - INFO: Client 'GEONET' - Status for 1 time intervals/channels before downloading: NEEDS_DOWNLOADING\n",
      "[2021-11-25 00:52:45,962] - obspy.clients.fdsn.mass_downloader - INFO: Client 'GEONET' - Successfully downloaded 1 channels (of 1)\n",
      "[2021-11-25 00:52:45,971] - obspy.clients.fdsn.mass_downloader - INFO: Client 'GEONET' - Launching basic QC checks...\n",
      "[2021-11-25 00:52:45,981] - obspy.clients.fdsn.mass_downloader - INFO: Client 'GEONET' - Downloaded 0.0 MB [5.42 KB/sec] of data, 0.0 MB of which were discarded afterwards.\n",
      "[2021-11-25 00:52:45,982] - obspy.clients.fdsn.mass_downloader - INFO: Client 'GEONET' - Status for 1 time intervals/channels after downloading: DOWNLOADED\n",
      "[2021-11-25 00:52:45,988] - obspy.clients.fdsn.mass_downloader - INFO: Client 'GEONET' - No station information to download.\n",
      "[2021-11-25 00:52:45,991] - obspy.clients.fdsn.mass_downloader - INFO: ============================== Final report\n",
      "[2021-11-25 00:52:45,991] - obspy.clients.fdsn.mass_downloader - INFO: 0 MiniSEED files [0.0 MB] already existed.\n",
      "[2021-11-25 00:52:45,992] - obspy.clients.fdsn.mass_downloader - INFO: 1 StationXML files [0.0 MB] already existed.\n",
      "[2021-11-25 00:52:45,993] - obspy.clients.fdsn.mass_downloader - INFO: Client 'GEONET' - Acquired 1 MiniSEED files [0.0 MB].\n",
      "[2021-11-25 00:52:45,994] - obspy.clients.fdsn.mass_downloader - INFO: Client 'GEONET' - Acquired 0 StationXML files [0.0 MB].\n",
      "[2021-11-25 00:52:45,994] - obspy.clients.fdsn.mass_downloader - INFO: Downloaded 0.0 MB in total.\n",
      "[2021-11-25 00:52:46,001] - obspy.clients.fdsn.mass_downloader - INFO: Initializing FDSN client(s) for GEONET.\n",
      "[2021-11-25 00:52:46,016] - obspy.clients.fdsn.mass_downloader - INFO: Successfully initialized 1 client(s): GEONET.\n",
      "[2021-11-25 00:52:46,022] - obspy.clients.fdsn.mass_downloader - INFO: Total acquired or preexisting stations: 0\n",
      "[2021-11-25 00:52:46,024] - obspy.clients.fdsn.mass_downloader - INFO: Client 'GEONET' - Requesting unreliable availability.\n"
     ]
    },
    {
     "name": "stdout",
     "output_type": "stream",
     "text": [
      "=================================================================\n",
      "Initiating mass download request.\n"
     ]
    },
    {
     "name": "stderr",
     "output_type": "stream",
     "text": [
      "[2021-11-25 00:52:46,592] - obspy.clients.fdsn.mass_downloader - INFO: Client 'GEONET' - Successfully requested availability (0.57 seconds)\n",
      "[2021-11-25 00:52:46,593] - obspy.clients.fdsn.mass_downloader - INFO: Client 'GEONET' - Found 1 stations (1 channels).\n",
      "[2021-11-25 00:52:46,593] - obspy.clients.fdsn.mass_downloader - INFO: Client 'GEONET' - Will attempt to download data from 1 stations.\n",
      "[2021-11-25 00:52:46,594] - obspy.clients.fdsn.mass_downloader - INFO: Client 'GEONET' - Status for 1 time intervals/channels before downloading: NEEDS_DOWNLOADING\n",
      "[2021-11-25 00:52:47,373] - obspy.clients.fdsn.mass_downloader - INFO: Client 'GEONET' - Successfully downloaded 1 channels (of 1)\n",
      "[2021-11-25 00:52:47,391] - obspy.clients.fdsn.mass_downloader - INFO: Client 'GEONET' - Launching basic QC checks...\n",
      "[2021-11-25 00:52:47,434] - obspy.clients.fdsn.mass_downloader - INFO: Client 'GEONET' - Downloaded 0.0 MB [3.77 KB/sec] of data, 0.0 MB of which were discarded afterwards.\n",
      "[2021-11-25 00:52:47,440] - obspy.clients.fdsn.mass_downloader - INFO: Client 'GEONET' - Status for 1 time intervals/channels after downloading: DOWNLOADED\n",
      "[2021-11-25 00:52:47,463] - obspy.clients.fdsn.mass_downloader - INFO: Client 'GEONET' - No station information to download.\n",
      "[2021-11-25 00:52:47,475] - obspy.clients.fdsn.mass_downloader - INFO: ============================== Final report\n",
      "[2021-11-25 00:52:47,486] - obspy.clients.fdsn.mass_downloader - INFO: 0 MiniSEED files [0.0 MB] already existed.\n",
      "[2021-11-25 00:52:47,489] - obspy.clients.fdsn.mass_downloader - INFO: 1 StationXML files [0.0 MB] already existed.\n",
      "[2021-11-25 00:52:47,492] - obspy.clients.fdsn.mass_downloader - INFO: Client 'GEONET' - Acquired 1 MiniSEED files [0.0 MB].\n",
      "[2021-11-25 00:52:47,495] - obspy.clients.fdsn.mass_downloader - INFO: Client 'GEONET' - Acquired 0 StationXML files [0.0 MB].\n",
      "[2021-11-25 00:52:47,495] - obspy.clients.fdsn.mass_downloader - INFO: Downloaded 0.0 MB in total.\n",
      "[2021-11-25 00:52:47,533] - obspy.clients.fdsn.mass_downloader - INFO: Initializing FDSN client(s) for GEONET.\n",
      "[2021-11-25 00:52:47,569] - obspy.clients.fdsn.mass_downloader - INFO: Successfully initialized 1 client(s): GEONET.\n",
      "[2021-11-25 00:52:47,572] - obspy.clients.fdsn.mass_downloader - INFO: Total acquired or preexisting stations: 0\n",
      "[2021-11-25 00:52:47,574] - obspy.clients.fdsn.mass_downloader - INFO: Client 'GEONET' - Requesting unreliable availability.\n"
     ]
    },
    {
     "name": "stdout",
     "output_type": "stream",
     "text": [
      "=================================================================\n",
      "Initiating mass download request.\n"
     ]
    },
    {
     "name": "stderr",
     "output_type": "stream",
     "text": [
      "[2021-11-25 00:52:48,219] - obspy.clients.fdsn.mass_downloader - INFO: Client 'GEONET' - Successfully requested availability (0.64 seconds)\n",
      "[2021-11-25 00:52:48,224] - obspy.clients.fdsn.mass_downloader - INFO: Client 'GEONET' - Found 1 stations (1 channels).\n",
      "[2021-11-25 00:52:48,227] - obspy.clients.fdsn.mass_downloader - INFO: Client 'GEONET' - Will attempt to download data from 1 stations.\n",
      "[2021-11-25 00:52:48,233] - obspy.clients.fdsn.mass_downloader - INFO: Client 'GEONET' - Status for 1 time intervals/channels before downloading: NEEDS_DOWNLOADING\n",
      "[2021-11-25 00:52:49,208] - obspy.clients.fdsn.mass_downloader - INFO: Client 'GEONET' - Successfully downloaded 1 channels (of 1)\n",
      "[2021-11-25 00:52:49,373] - obspy.clients.fdsn.mass_downloader - INFO: Client 'GEONET' - Launching basic QC checks...\n",
      "[2021-11-25 00:52:49,491] - obspy.clients.fdsn.mass_downloader - INFO: Client 'GEONET' - Downloaded 0.0 MB [2.66 KB/sec] of data, 0.0 MB of which were discarded afterwards.\n",
      "[2021-11-25 00:52:49,513] - obspy.clients.fdsn.mass_downloader - INFO: Client 'GEONET' - Status for 1 time intervals/channels after downloading: DOWNLOADED\n",
      "[2021-11-25 00:52:49,699] - obspy.clients.fdsn.mass_downloader - INFO: Client 'GEONET' - No station information to download.\n",
      "[2021-11-25 00:52:49,823] - obspy.clients.fdsn.mass_downloader - INFO: ============================== Final report\n",
      "[2021-11-25 00:52:49,849] - obspy.clients.fdsn.mass_downloader - INFO: 0 MiniSEED files [0.0 MB] already existed.\n",
      "[2021-11-25 00:52:49,856] - obspy.clients.fdsn.mass_downloader - INFO: 1 StationXML files [0.0 MB] already existed.\n",
      "[2021-11-25 00:52:49,871] - obspy.clients.fdsn.mass_downloader - INFO: Client 'GEONET' - Acquired 1 MiniSEED files [0.0 MB].\n",
      "[2021-11-25 00:52:49,875] - obspy.clients.fdsn.mass_downloader - INFO: Client 'GEONET' - Acquired 0 StationXML files [0.0 MB].\n",
      "[2021-11-25 00:52:49,886] - obspy.clients.fdsn.mass_downloader - INFO: Downloaded 0.0 MB in total.\n",
      "[2021-11-25 00:52:49,954] - obspy.clients.fdsn.mass_downloader - INFO: Initializing FDSN client(s) for GEONET.\n",
      "[2021-11-25 00:52:49,990] - obspy.clients.fdsn.mass_downloader - INFO: Successfully initialized 1 client(s): GEONET.\n",
      "[2021-11-25 00:52:49,998] - obspy.clients.fdsn.mass_downloader - INFO: Total acquired or preexisting stations: 0\n",
      "[2021-11-25 00:52:49,999] - obspy.clients.fdsn.mass_downloader - INFO: Client 'GEONET' - Requesting unreliable availability.\n"
     ]
    },
    {
     "name": "stdout",
     "output_type": "stream",
     "text": [
      "=================================================================\n",
      "Initiating mass download request.\n"
     ]
    },
    {
     "name": "stderr",
     "output_type": "stream",
     "text": [
      "[2021-11-25 00:52:51,114] - obspy.clients.fdsn.mass_downloader - INFO: Client 'GEONET' - Successfully requested availability (1.11 seconds)\n",
      "[2021-11-25 00:52:51,120] - obspy.clients.fdsn.mass_downloader - INFO: Client 'GEONET' - Found 1 stations (1 channels).\n",
      "[2021-11-25 00:52:51,121] - obspy.clients.fdsn.mass_downloader - INFO: Client 'GEONET' - Will attempt to download data from 1 stations.\n",
      "[2021-11-25 00:52:51,122] - obspy.clients.fdsn.mass_downloader - INFO: Client 'GEONET' - Status for 1 time intervals/channels before downloading: NEEDS_DOWNLOADING\n",
      "[2021-11-25 00:52:51,972] - obspy.clients.fdsn.mass_downloader - INFO: Client 'GEONET' - Successfully downloaded 1 channels (of 1)\n",
      "[2021-11-25 00:52:51,985] - obspy.clients.fdsn.mass_downloader - INFO: Client 'GEONET' - Launching basic QC checks...\n",
      "[2021-11-25 00:52:52,000] - obspy.clients.fdsn.mass_downloader - INFO: Client 'GEONET' - Downloaded 0.0 MB [3.49 KB/sec] of data, 0.0 MB of which were discarded afterwards.\n",
      "[2021-11-25 00:52:52,001] - obspy.clients.fdsn.mass_downloader - INFO: Client 'GEONET' - Status for 1 time intervals/channels after downloading: DOWNLOADED\n",
      "[2021-11-25 00:52:52,011] - obspy.clients.fdsn.mass_downloader - INFO: Client 'GEONET' - No station information to download.\n",
      "[2021-11-25 00:52:52,016] - obspy.clients.fdsn.mass_downloader - INFO: ============================== Final report\n",
      "[2021-11-25 00:52:52,018] - obspy.clients.fdsn.mass_downloader - INFO: 0 MiniSEED files [0.0 MB] already existed.\n",
      "[2021-11-25 00:52:52,019] - obspy.clients.fdsn.mass_downloader - INFO: 1 StationXML files [0.0 MB] already existed.\n",
      "[2021-11-25 00:52:52,020] - obspy.clients.fdsn.mass_downloader - INFO: Client 'GEONET' - Acquired 1 MiniSEED files [0.0 MB].\n",
      "[2021-11-25 00:52:52,021] - obspy.clients.fdsn.mass_downloader - INFO: Client 'GEONET' - Acquired 0 StationXML files [0.0 MB].\n",
      "[2021-11-25 00:52:52,021] - obspy.clients.fdsn.mass_downloader - INFO: Downloaded 0.0 MB in total.\n",
      "[2021-11-25 00:52:52,031] - obspy.clients.fdsn.mass_downloader - INFO: Initializing FDSN client(s) for GEONET.\n",
      "[2021-11-25 00:52:52,045] - obspy.clients.fdsn.mass_downloader - INFO: Successfully initialized 1 client(s): GEONET.\n",
      "[2021-11-25 00:52:52,048] - obspy.clients.fdsn.mass_downloader - INFO: Total acquired or preexisting stations: 0\n",
      "[2021-11-25 00:52:52,049] - obspy.clients.fdsn.mass_downloader - INFO: Client 'GEONET' - Requesting unreliable availability.\n"
     ]
    },
    {
     "name": "stdout",
     "output_type": "stream",
     "text": [
      "=================================================================\n",
      "Initiating mass download request.\n"
     ]
    },
    {
     "name": "stderr",
     "output_type": "stream",
     "text": [
      "[2021-11-25 00:52:52,644] - obspy.clients.fdsn.mass_downloader - INFO: Client 'GEONET' - Successfully requested availability (0.59 seconds)\n",
      "[2021-11-25 00:52:52,658] - obspy.clients.fdsn.mass_downloader - INFO: Client 'GEONET' - Found 1 stations (1 channels).\n",
      "[2021-11-25 00:52:52,665] - obspy.clients.fdsn.mass_downloader - INFO: Client 'GEONET' - Will attempt to download data from 1 stations.\n",
      "[2021-11-25 00:52:52,667] - obspy.clients.fdsn.mass_downloader - INFO: Client 'GEONET' - Status for 1 time intervals/channels before downloading: NEEDS_DOWNLOADING\n",
      "[2021-11-25 00:52:53,491] - obspy.clients.fdsn.mass_downloader - INFO: Client 'GEONET' - Successfully downloaded 1 channels (of 1)\n",
      "[2021-11-25 00:52:53,498] - obspy.clients.fdsn.mass_downloader - INFO: Client 'GEONET' - Launching basic QC checks...\n",
      "[2021-11-25 00:52:53,521] - obspy.clients.fdsn.mass_downloader - INFO: Client 'GEONET' - Downloaded 0.0 MB [5.50 KB/sec] of data, 0.0 MB of which were discarded afterwards.\n",
      "[2021-11-25 00:52:53,522] - obspy.clients.fdsn.mass_downloader - INFO: Client 'GEONET' - Status for 1 time intervals/channels after downloading: DOWNLOADED\n",
      "[2021-11-25 00:52:53,543] - obspy.clients.fdsn.mass_downloader - INFO: Client 'GEONET' - No station information to download.\n",
      "[2021-11-25 00:52:53,548] - obspy.clients.fdsn.mass_downloader - INFO: ============================== Final report\n",
      "[2021-11-25 00:52:53,550] - obspy.clients.fdsn.mass_downloader - INFO: 0 MiniSEED files [0.0 MB] already existed.\n",
      "[2021-11-25 00:52:53,554] - obspy.clients.fdsn.mass_downloader - INFO: 1 StationXML files [0.0 MB] already existed.\n",
      "[2021-11-25 00:52:53,557] - obspy.clients.fdsn.mass_downloader - INFO: Client 'GEONET' - Acquired 1 MiniSEED files [0.0 MB].\n",
      "[2021-11-25 00:52:53,557] - obspy.clients.fdsn.mass_downloader - INFO: Client 'GEONET' - Acquired 0 StationXML files [0.0 MB].\n",
      "[2021-11-25 00:52:53,557] - obspy.clients.fdsn.mass_downloader - INFO: Downloaded 0.0 MB in total.\n",
      "[2021-11-25 00:52:53,574] - obspy.clients.fdsn.mass_downloader - INFO: Initializing FDSN client(s) for GEONET.\n",
      "[2021-11-25 00:52:53,600] - obspy.clients.fdsn.mass_downloader - INFO: Successfully initialized 1 client(s): GEONET.\n",
      "[2021-11-25 00:52:53,617] - obspy.clients.fdsn.mass_downloader - INFO: Total acquired or preexisting stations: 0\n",
      "[2021-11-25 00:52:53,618] - obspy.clients.fdsn.mass_downloader - INFO: Client 'GEONET' - Requesting unreliable availability.\n"
     ]
    },
    {
     "name": "stdout",
     "output_type": "stream",
     "text": [
      "=================================================================\n",
      "Initiating mass download request.\n"
     ]
    },
    {
     "name": "stderr",
     "output_type": "stream",
     "text": [
      "[2021-11-25 00:52:54,243] - obspy.clients.fdsn.mass_downloader - INFO: Client 'GEONET' - Successfully requested availability (0.62 seconds)\n",
      "[2021-11-25 00:52:54,245] - obspy.clients.fdsn.mass_downloader - INFO: Client 'GEONET' - Found 1 stations (1 channels).\n",
      "[2021-11-25 00:52:54,246] - obspy.clients.fdsn.mass_downloader - INFO: Client 'GEONET' - Will attempt to download data from 1 stations.\n",
      "[2021-11-25 00:52:54,247] - obspy.clients.fdsn.mass_downloader - INFO: Client 'GEONET' - Status for 1 time intervals/channels before downloading: NEEDS_DOWNLOADING\n",
      "[2021-11-25 00:52:55,111] - obspy.clients.fdsn.mass_downloader - INFO: Client 'GEONET' - Successfully downloaded 1 channels (of 1)\n",
      "[2021-11-25 00:52:55,148] - obspy.clients.fdsn.mass_downloader - INFO: Client 'GEONET' - Launching basic QC checks...\n",
      "[2021-11-25 00:52:55,194] - obspy.clients.fdsn.mass_downloader - INFO: Client 'GEONET' - Downloaded 0.0 MB [4.47 KB/sec] of data, 0.0 MB of which were discarded afterwards.\n",
      "[2021-11-25 00:52:55,199] - obspy.clients.fdsn.mass_downloader - INFO: Client 'GEONET' - Status for 1 time intervals/channels after downloading: DOWNLOADED\n",
      "[2021-11-25 00:52:55,208] - obspy.clients.fdsn.mass_downloader - INFO: Client 'GEONET' - No station information to download.\n",
      "[2021-11-25 00:52:55,213] - obspy.clients.fdsn.mass_downloader - INFO: ============================== Final report\n",
      "[2021-11-25 00:52:55,219] - obspy.clients.fdsn.mass_downloader - INFO: 0 MiniSEED files [0.0 MB] already existed.\n",
      "[2021-11-25 00:52:55,220] - obspy.clients.fdsn.mass_downloader - INFO: 1 StationXML files [0.0 MB] already existed.\n",
      "[2021-11-25 00:52:55,221] - obspy.clients.fdsn.mass_downloader - INFO: Client 'GEONET' - Acquired 1 MiniSEED files [0.0 MB].\n",
      "[2021-11-25 00:52:55,221] - obspy.clients.fdsn.mass_downloader - INFO: Client 'GEONET' - Acquired 0 StationXML files [0.0 MB].\n",
      "[2021-11-25 00:52:55,221] - obspy.clients.fdsn.mass_downloader - INFO: Downloaded 0.0 MB in total.\n",
      "[2021-11-25 00:52:55,230] - obspy.clients.fdsn.mass_downloader - INFO: Initializing FDSN client(s) for GEONET.\n",
      "[2021-11-25 00:52:55,264] - obspy.clients.fdsn.mass_downloader - INFO: Successfully initialized 1 client(s): GEONET.\n",
      "[2021-11-25 00:52:55,274] - obspy.clients.fdsn.mass_downloader - INFO: Total acquired or preexisting stations: 0\n",
      "[2021-11-25 00:52:55,281] - obspy.clients.fdsn.mass_downloader - INFO: Client 'GEONET' - Requesting unreliable availability.\n"
     ]
    },
    {
     "name": "stdout",
     "output_type": "stream",
     "text": [
      "=================================================================\n",
      "Initiating mass download request.\n"
     ]
    },
    {
     "name": "stderr",
     "output_type": "stream",
     "text": [
      "[2021-11-25 00:52:55,893] - obspy.clients.fdsn.mass_downloader - INFO: Client 'GEONET' - Successfully requested availability (0.61 seconds)\n",
      "[2021-11-25 00:52:55,920] - obspy.clients.fdsn.mass_downloader - INFO: Client 'GEONET' - Found 1 stations (1 channels).\n",
      "[2021-11-25 00:52:55,923] - obspy.clients.fdsn.mass_downloader - INFO: Client 'GEONET' - Will attempt to download data from 1 stations.\n",
      "[2021-11-25 00:52:55,928] - obspy.clients.fdsn.mass_downloader - INFO: Client 'GEONET' - Status for 1 time intervals/channels before downloading: NEEDS_DOWNLOADING\n",
      "[2021-11-25 00:52:56,664] - obspy.clients.fdsn.mass_downloader - INFO: Client 'GEONET' - Successfully downloaded 1 channels (of 1)\n",
      "[2021-11-25 00:52:56,671] - obspy.clients.fdsn.mass_downloader - INFO: Client 'GEONET' - Launching basic QC checks...\n",
      "[2021-11-25 00:52:56,680] - obspy.clients.fdsn.mass_downloader - INFO: Client 'GEONET' - Downloaded 0.0 MB [4.87 KB/sec] of data, 0.0 MB of which were discarded afterwards.\n",
      "[2021-11-25 00:52:56,680] - obspy.clients.fdsn.mass_downloader - INFO: Client 'GEONET' - Status for 1 time intervals/channels after downloading: DOWNLOADED\n",
      "[2021-11-25 00:52:56,685] - obspy.clients.fdsn.mass_downloader - INFO: Client 'GEONET' - No station information to download.\n",
      "[2021-11-25 00:52:56,686] - obspy.clients.fdsn.mass_downloader - INFO: ============================== Final report\n",
      "[2021-11-25 00:52:56,686] - obspy.clients.fdsn.mass_downloader - INFO: 0 MiniSEED files [0.0 MB] already existed.\n",
      "[2021-11-25 00:52:56,687] - obspy.clients.fdsn.mass_downloader - INFO: 1 StationXML files [0.0 MB] already existed.\n",
      "[2021-11-25 00:52:56,687] - obspy.clients.fdsn.mass_downloader - INFO: Client 'GEONET' - Acquired 1 MiniSEED files [0.0 MB].\n",
      "[2021-11-25 00:52:56,687] - obspy.clients.fdsn.mass_downloader - INFO: Client 'GEONET' - Acquired 0 StationXML files [0.0 MB].\n",
      "[2021-11-25 00:52:56,688] - obspy.clients.fdsn.mass_downloader - INFO: Downloaded 0.0 MB in total.\n",
      "[2021-11-25 00:52:56,692] - obspy.clients.fdsn.mass_downloader - INFO: Initializing FDSN client(s) for GEONET.\n",
      "[2021-11-25 00:52:56,708] - obspy.clients.fdsn.mass_downloader - INFO: Successfully initialized 1 client(s): GEONET.\n",
      "[2021-11-25 00:52:56,711] - obspy.clients.fdsn.mass_downloader - INFO: Total acquired or preexisting stations: 0\n",
      "[2021-11-25 00:52:56,712] - obspy.clients.fdsn.mass_downloader - INFO: Client 'GEONET' - Requesting unreliable availability.\n"
     ]
    },
    {
     "name": "stdout",
     "output_type": "stream",
     "text": [
      "=================================================================\n",
      "Initiating mass download request.\n"
     ]
    },
    {
     "name": "stderr",
     "output_type": "stream",
     "text": [
      "[2021-11-25 00:52:57,371] - obspy.clients.fdsn.mass_downloader - INFO: Client 'GEONET' - Successfully requested availability (0.66 seconds)\n",
      "[2021-11-25 00:52:57,405] - obspy.clients.fdsn.mass_downloader - INFO: Client 'GEONET' - Found 1 stations (1 channels).\n",
      "[2021-11-25 00:52:57,426] - obspy.clients.fdsn.mass_downloader - INFO: Client 'GEONET' - Will attempt to download data from 1 stations.\n",
      "[2021-11-25 00:52:57,438] - obspy.clients.fdsn.mass_downloader - INFO: Client 'GEONET' - Status for 1 time intervals/channels before downloading: NEEDS_DOWNLOADING\n",
      "[2021-11-25 00:52:58,334] - obspy.clients.fdsn.mass_downloader - INFO: Client 'GEONET' - Successfully downloaded 1 channels (of 1)\n",
      "[2021-11-25 00:52:58,366] - obspy.clients.fdsn.mass_downloader - INFO: Client 'GEONET' - Launching basic QC checks...\n",
      "[2021-11-25 00:52:58,386] - obspy.clients.fdsn.mass_downloader - INFO: Client 'GEONET' - Downloaded 0.0 MB [3.93 KB/sec] of data, 0.0 MB of which were discarded afterwards.\n",
      "[2021-11-25 00:52:58,389] - obspy.clients.fdsn.mass_downloader - INFO: Client 'GEONET' - Status for 1 time intervals/channels after downloading: DOWNLOADED\n",
      "[2021-11-25 00:52:58,401] - obspy.clients.fdsn.mass_downloader - INFO: Client 'GEONET' - No station information to download.\n",
      "[2021-11-25 00:52:58,407] - obspy.clients.fdsn.mass_downloader - INFO: ============================== Final report\n",
      "[2021-11-25 00:52:58,408] - obspy.clients.fdsn.mass_downloader - INFO: 0 MiniSEED files [0.0 MB] already existed.\n",
      "[2021-11-25 00:52:58,409] - obspy.clients.fdsn.mass_downloader - INFO: 1 StationXML files [0.0 MB] already existed.\n",
      "[2021-11-25 00:52:58,410] - obspy.clients.fdsn.mass_downloader - INFO: Client 'GEONET' - Acquired 1 MiniSEED files [0.0 MB].\n",
      "[2021-11-25 00:52:58,410] - obspy.clients.fdsn.mass_downloader - INFO: Client 'GEONET' - Acquired 0 StationXML files [0.0 MB].\n",
      "[2021-11-25 00:52:58,410] - obspy.clients.fdsn.mass_downloader - INFO: Downloaded 0.0 MB in total.\n",
      "[2021-11-25 00:52:58,429] - obspy.clients.fdsn.mass_downloader - INFO: Initializing FDSN client(s) for GEONET.\n",
      "[2021-11-25 00:52:58,459] - obspy.clients.fdsn.mass_downloader - INFO: Successfully initialized 1 client(s): GEONET.\n",
      "[2021-11-25 00:52:58,462] - obspy.clients.fdsn.mass_downloader - INFO: Total acquired or preexisting stations: 0\n",
      "[2021-11-25 00:52:58,467] - obspy.clients.fdsn.mass_downloader - INFO: Client 'GEONET' - Requesting unreliable availability.\n"
     ]
    },
    {
     "name": "stdout",
     "output_type": "stream",
     "text": [
      "=================================================================\n",
      "Initiating mass download request.\n"
     ]
    },
    {
     "name": "stderr",
     "output_type": "stream",
     "text": [
      "[2021-11-25 00:52:59,066] - obspy.clients.fdsn.mass_downloader - INFO: Client 'GEONET' - Successfully requested availability (0.60 seconds)\n",
      "[2021-11-25 00:52:59,068] - obspy.clients.fdsn.mass_downloader - INFO: Client 'GEONET' - Found 1 stations (1 channels).\n",
      "[2021-11-25 00:52:59,069] - obspy.clients.fdsn.mass_downloader - INFO: Client 'GEONET' - Will attempt to download data from 1 stations.\n",
      "[2021-11-25 00:52:59,070] - obspy.clients.fdsn.mass_downloader - INFO: Client 'GEONET' - Status for 1 time intervals/channels before downloading: NEEDS_DOWNLOADING\n",
      "[2021-11-25 00:52:59,862] - obspy.clients.fdsn.mass_downloader - INFO: Client 'GEONET' - Successfully downloaded 1 channels (of 1)\n",
      "[2021-11-25 00:52:59,904] - obspy.clients.fdsn.mass_downloader - INFO: Client 'GEONET' - Launching basic QC checks...\n",
      "[2021-11-25 00:52:59,935] - obspy.clients.fdsn.mass_downloader - INFO: Client 'GEONET' - Downloaded 0.0 MB [4.22 KB/sec] of data, 0.0 MB of which were discarded afterwards.\n",
      "[2021-11-25 00:52:59,941] - obspy.clients.fdsn.mass_downloader - INFO: Client 'GEONET' - Status for 1 time intervals/channels after downloading: DOWNLOADED\n",
      "[2021-11-25 00:52:59,949] - obspy.clients.fdsn.mass_downloader - INFO: Client 'GEONET' - No station information to download.\n",
      "[2021-11-25 00:52:59,953] - obspy.clients.fdsn.mass_downloader - INFO: ============================== Final report\n",
      "[2021-11-25 00:52:59,956] - obspy.clients.fdsn.mass_downloader - INFO: 0 MiniSEED files [0.0 MB] already existed.\n",
      "[2021-11-25 00:52:59,959] - obspy.clients.fdsn.mass_downloader - INFO: 1 StationXML files [0.0 MB] already existed.\n",
      "[2021-11-25 00:52:59,959] - obspy.clients.fdsn.mass_downloader - INFO: Client 'GEONET' - Acquired 1 MiniSEED files [0.0 MB].\n",
      "[2021-11-25 00:52:59,960] - obspy.clients.fdsn.mass_downloader - INFO: Client 'GEONET' - Acquired 0 StationXML files [0.0 MB].\n",
      "[2021-11-25 00:52:59,960] - obspy.clients.fdsn.mass_downloader - INFO: Downloaded 0.0 MB in total.\n",
      "[2021-11-25 00:52:59,990] - obspy.clients.fdsn.mass_downloader - INFO: Initializing FDSN client(s) for GEONET.\n",
      "[2021-11-25 00:53:00,006] - obspy.clients.fdsn.mass_downloader - INFO: Successfully initialized 1 client(s): GEONET.\n",
      "[2021-11-25 00:53:00,009] - obspy.clients.fdsn.mass_downloader - INFO: Total acquired or preexisting stations: 0\n",
      "[2021-11-25 00:53:00,010] - obspy.clients.fdsn.mass_downloader - INFO: Client 'GEONET' - Requesting unreliable availability.\n"
     ]
    },
    {
     "name": "stdout",
     "output_type": "stream",
     "text": [
      "=================================================================\n",
      "Initiating mass download request.\n"
     ]
    },
    {
     "name": "stderr",
     "output_type": "stream",
     "text": [
      "[2021-11-25 00:53:00,758] - obspy.clients.fdsn.mass_downloader - INFO: Client 'GEONET' - Successfully requested availability (0.75 seconds)\n",
      "[2021-11-25 00:53:00,818] - obspy.clients.fdsn.mass_downloader - INFO: Client 'GEONET' - Found 1 stations (1 channels).\n",
      "[2021-11-25 00:53:00,837] - obspy.clients.fdsn.mass_downloader - INFO: Client 'GEONET' - Will attempt to download data from 1 stations.\n",
      "[2021-11-25 00:53:00,853] - obspy.clients.fdsn.mass_downloader - INFO: Client 'GEONET' - Status for 1 time intervals/channels before downloading: NEEDS_DOWNLOADING\n",
      "[2021-11-25 00:53:01,865] - obspy.clients.fdsn.mass_downloader - INFO: Client 'GEONET' - Successfully downloaded 1 channels (of 1)\n",
      "[2021-11-25 00:53:01,882] - obspy.clients.fdsn.mass_downloader - INFO: Client 'GEONET' - Launching basic QC checks...\n",
      "[2021-11-25 00:53:01,899] - obspy.clients.fdsn.mass_downloader - INFO: Client 'GEONET' - Downloaded 0.0 MB [3.55 KB/sec] of data, 0.0 MB of which were discarded afterwards.\n",
      "[2021-11-25 00:53:01,912] - obspy.clients.fdsn.mass_downloader - INFO: Client 'GEONET' - Status for 1 time intervals/channels after downloading: DOWNLOADED\n",
      "[2021-11-25 00:53:01,944] - obspy.clients.fdsn.mass_downloader - INFO: Client 'GEONET' - No station information to download.\n",
      "[2021-11-25 00:53:01,948] - obspy.clients.fdsn.mass_downloader - INFO: ============================== Final report\n",
      "[2021-11-25 00:53:01,951] - obspy.clients.fdsn.mass_downloader - INFO: 0 MiniSEED files [0.0 MB] already existed.\n",
      "[2021-11-25 00:53:01,951] - obspy.clients.fdsn.mass_downloader - INFO: 1 StationXML files [0.0 MB] already existed.\n",
      "[2021-11-25 00:53:01,955] - obspy.clients.fdsn.mass_downloader - INFO: Client 'GEONET' - Acquired 1 MiniSEED files [0.0 MB].\n",
      "[2021-11-25 00:53:01,956] - obspy.clients.fdsn.mass_downloader - INFO: Client 'GEONET' - Acquired 0 StationXML files [0.0 MB].\n",
      "[2021-11-25 00:53:01,956] - obspy.clients.fdsn.mass_downloader - INFO: Downloaded 0.0 MB in total.\n",
      "[2021-11-25 00:53:02,007] - obspy.clients.fdsn.mass_downloader - INFO: Initializing FDSN client(s) for GEONET.\n",
      "[2021-11-25 00:53:02,073] - obspy.clients.fdsn.mass_downloader - INFO: Successfully initialized 1 client(s): GEONET.\n",
      "[2021-11-25 00:53:02,090] - obspy.clients.fdsn.mass_downloader - INFO: Total acquired or preexisting stations: 0\n",
      "[2021-11-25 00:53:02,095] - obspy.clients.fdsn.mass_downloader - INFO: Client 'GEONET' - Requesting unreliable availability.\n"
     ]
    },
    {
     "name": "stdout",
     "output_type": "stream",
     "text": [
      "=================================================================\n",
      "Initiating mass download request.\n"
     ]
    },
    {
     "name": "stderr",
     "output_type": "stream",
     "text": [
      "[2021-11-25 00:53:02,681] - obspy.clients.fdsn.mass_downloader - INFO: Client 'GEONET' - Successfully requested availability (0.59 seconds)\n",
      "[2021-11-25 00:53:02,711] - obspy.clients.fdsn.mass_downloader - INFO: Client 'GEONET' - Found 1 stations (1 channels).\n",
      "[2021-11-25 00:53:02,713] - obspy.clients.fdsn.mass_downloader - INFO: Client 'GEONET' - Will attempt to download data from 1 stations.\n",
      "[2021-11-25 00:53:02,714] - obspy.clients.fdsn.mass_downloader - INFO: Client 'GEONET' - Status for 1 time intervals/channels before downloading: NEEDS_DOWNLOADING\n",
      "[2021-11-25 00:53:03,589] - obspy.clients.fdsn.mass_downloader - INFO: Client 'GEONET' - Successfully downloaded 1 channels (of 1)\n",
      "[2021-11-25 00:53:03,611] - obspy.clients.fdsn.mass_downloader - INFO: Client 'GEONET' - Launching basic QC checks...\n",
      "[2021-11-25 00:53:03,642] - obspy.clients.fdsn.mass_downloader - INFO: Client 'GEONET' - Downloaded 0.0 MB [4.52 KB/sec] of data, 0.0 MB of which were discarded afterwards.\n",
      "[2021-11-25 00:53:03,646] - obspy.clients.fdsn.mass_downloader - INFO: Client 'GEONET' - Status for 1 time intervals/channels after downloading: DOWNLOADED\n",
      "[2021-11-25 00:53:03,655] - obspy.clients.fdsn.mass_downloader - INFO: Client 'GEONET' - No station information to download.\n",
      "[2021-11-25 00:53:03,669] - obspy.clients.fdsn.mass_downloader - INFO: ============================== Final report\n",
      "[2021-11-25 00:53:03,671] - obspy.clients.fdsn.mass_downloader - INFO: 0 MiniSEED files [0.0 MB] already existed.\n",
      "[2021-11-25 00:53:03,672] - obspy.clients.fdsn.mass_downloader - INFO: 1 StationXML files [0.0 MB] already existed.\n",
      "[2021-11-25 00:53:03,672] - obspy.clients.fdsn.mass_downloader - INFO: Client 'GEONET' - Acquired 1 MiniSEED files [0.0 MB].\n",
      "[2021-11-25 00:53:03,673] - obspy.clients.fdsn.mass_downloader - INFO: Client 'GEONET' - Acquired 0 StationXML files [0.0 MB].\n",
      "[2021-11-25 00:53:03,673] - obspy.clients.fdsn.mass_downloader - INFO: Downloaded 0.0 MB in total.\n",
      "[2021-11-25 00:53:03,691] - obspy.clients.fdsn.mass_downloader - INFO: Initializing FDSN client(s) for GEONET.\n",
      "[2021-11-25 00:53:03,712] - obspy.clients.fdsn.mass_downloader - INFO: Successfully initialized 1 client(s): GEONET.\n",
      "[2021-11-25 00:53:03,716] - obspy.clients.fdsn.mass_downloader - INFO: Total acquired or preexisting stations: 0\n",
      "[2021-11-25 00:53:03,734] - obspy.clients.fdsn.mass_downloader - INFO: Client 'GEONET' - Requesting unreliable availability.\n"
     ]
    },
    {
     "name": "stdout",
     "output_type": "stream",
     "text": [
      "=================================================================\n",
      "Initiating mass download request.\n"
     ]
    },
    {
     "name": "stderr",
     "output_type": "stream",
     "text": [
      "[2021-11-25 00:53:04,392] - obspy.clients.fdsn.mass_downloader - INFO: Client 'GEONET' - Successfully requested availability (0.65 seconds)\n",
      "[2021-11-25 00:53:04,399] - obspy.clients.fdsn.mass_downloader - INFO: Client 'GEONET' - Found 1 stations (1 channels).\n",
      "[2021-11-25 00:53:04,399] - obspy.clients.fdsn.mass_downloader - INFO: Client 'GEONET' - Will attempt to download data from 1 stations.\n",
      "[2021-11-25 00:53:04,400] - obspy.clients.fdsn.mass_downloader - INFO: Client 'GEONET' - Status for 1 time intervals/channels before downloading: NEEDS_DOWNLOADING\n",
      "[2021-11-25 00:53:05,192] - obspy.clients.fdsn.mass_downloader - INFO: Client 'GEONET' - Successfully downloaded 1 channels (of 1)\n",
      "[2021-11-25 00:53:05,207] - obspy.clients.fdsn.mass_downloader - INFO: Client 'GEONET' - Launching basic QC checks...\n",
      "[2021-11-25 00:53:05,239] - obspy.clients.fdsn.mass_downloader - INFO: Client 'GEONET' - Downloaded 0.0 MB [4.34 KB/sec] of data, 0.0 MB of which were discarded afterwards.\n",
      "[2021-11-25 00:53:05,241] - obspy.clients.fdsn.mass_downloader - INFO: Client 'GEONET' - Status for 1 time intervals/channels after downloading: DOWNLOADED\n",
      "[2021-11-25 00:53:05,247] - obspy.clients.fdsn.mass_downloader - INFO: Client 'GEONET' - No station information to download.\n",
      "[2021-11-25 00:53:05,252] - obspy.clients.fdsn.mass_downloader - INFO: ============================== Final report\n",
      "[2021-11-25 00:53:05,253] - obspy.clients.fdsn.mass_downloader - INFO: 0 MiniSEED files [0.0 MB] already existed.\n",
      "[2021-11-25 00:53:05,254] - obspy.clients.fdsn.mass_downloader - INFO: 1 StationXML files [0.0 MB] already existed.\n",
      "[2021-11-25 00:53:05,255] - obspy.clients.fdsn.mass_downloader - INFO: Client 'GEONET' - Acquired 1 MiniSEED files [0.0 MB].\n",
      "[2021-11-25 00:53:05,256] - obspy.clients.fdsn.mass_downloader - INFO: Client 'GEONET' - Acquired 0 StationXML files [0.0 MB].\n",
      "[2021-11-25 00:53:05,256] - obspy.clients.fdsn.mass_downloader - INFO: Downloaded 0.0 MB in total.\n",
      "[2021-11-25 00:53:05,261] - obspy.clients.fdsn.mass_downloader - INFO: Initializing FDSN client(s) for GEONET.\n",
      "[2021-11-25 00:53:05,268] - obspy.clients.fdsn.mass_downloader - INFO: Successfully initialized 1 client(s): GEONET.\n",
      "[2021-11-25 00:53:05,269] - obspy.clients.fdsn.mass_downloader - INFO: Total acquired or preexisting stations: 0\n",
      "[2021-11-25 00:53:05,269] - obspy.clients.fdsn.mass_downloader - INFO: Client 'GEONET' - Requesting unreliable availability.\n"
     ]
    },
    {
     "name": "stdout",
     "output_type": "stream",
     "text": [
      "=================================================================\n",
      "Initiating mass download request.\n"
     ]
    },
    {
     "name": "stderr",
     "output_type": "stream",
     "text": [
      "[2021-11-25 00:53:05,840] - obspy.clients.fdsn.mass_downloader - INFO: Client 'GEONET' - Successfully requested availability (0.57 seconds)\n",
      "[2021-11-25 00:53:05,866] - obspy.clients.fdsn.mass_downloader - INFO: Client 'GEONET' - Found 1 stations (1 channels).\n",
      "[2021-11-25 00:53:05,892] - obspy.clients.fdsn.mass_downloader - INFO: Client 'GEONET' - Will attempt to download data from 1 stations.\n",
      "[2021-11-25 00:53:05,911] - obspy.clients.fdsn.mass_downloader - INFO: Client 'GEONET' - Status for 1 time intervals/channels before downloading: NEEDS_DOWNLOADING\n",
      "[2021-11-25 00:53:06,767] - obspy.clients.fdsn.mass_downloader - INFO: Client 'GEONET' - Successfully downloaded 1 channels (of 1)\n",
      "[2021-11-25 00:53:06,819] - obspy.clients.fdsn.mass_downloader - INFO: Client 'GEONET' - Launching basic QC checks...\n",
      "[2021-11-25 00:53:06,925] - obspy.clients.fdsn.mass_downloader - INFO: Client 'GEONET' - Downloaded 0.0 MB [3.99 KB/sec] of data, 0.0 MB of which were discarded afterwards.\n",
      "[2021-11-25 00:53:06,951] - obspy.clients.fdsn.mass_downloader - INFO: Client 'GEONET' - Status for 1 time intervals/channels after downloading: DOWNLOADED\n",
      "[2021-11-25 00:53:06,960] - obspy.clients.fdsn.mass_downloader - INFO: Client 'GEONET' - No station information to download.\n",
      "[2021-11-25 00:53:06,979] - obspy.clients.fdsn.mass_downloader - INFO: ============================== Final report\n",
      "[2021-11-25 00:53:06,982] - obspy.clients.fdsn.mass_downloader - INFO: 0 MiniSEED files [0.0 MB] already existed.\n",
      "[2021-11-25 00:53:07,001] - obspy.clients.fdsn.mass_downloader - INFO: 1 StationXML files [0.0 MB] already existed.\n",
      "[2021-11-25 00:53:07,003] - obspy.clients.fdsn.mass_downloader - INFO: Client 'GEONET' - Acquired 1 MiniSEED files [0.0 MB].\n",
      "[2021-11-25 00:53:07,004] - obspy.clients.fdsn.mass_downloader - INFO: Client 'GEONET' - Acquired 0 StationXML files [0.0 MB].\n",
      "[2021-11-25 00:53:07,013] - obspy.clients.fdsn.mass_downloader - INFO: Downloaded 0.0 MB in total.\n",
      "[2021-11-25 00:53:07,029] - obspy.clients.fdsn.mass_downloader - INFO: Initializing FDSN client(s) for GEONET.\n",
      "[2021-11-25 00:53:07,058] - obspy.clients.fdsn.mass_downloader - INFO: Successfully initialized 1 client(s): GEONET.\n",
      "[2021-11-25 00:53:07,062] - obspy.clients.fdsn.mass_downloader - INFO: Total acquired or preexisting stations: 0\n",
      "[2021-11-25 00:53:07,069] - obspy.clients.fdsn.mass_downloader - INFO: Client 'GEONET' - Requesting unreliable availability.\n"
     ]
    },
    {
     "name": "stdout",
     "output_type": "stream",
     "text": [
      "=================================================================\n",
      "Initiating mass download request.\n"
     ]
    },
    {
     "name": "stderr",
     "output_type": "stream",
     "text": [
      "[2021-11-25 00:53:07,641] - obspy.clients.fdsn.mass_downloader - INFO: Client 'GEONET' - Successfully requested availability (0.57 seconds)\n",
      "[2021-11-25 00:53:07,670] - obspy.clients.fdsn.mass_downloader - INFO: Client 'GEONET' - Found 1 stations (1 channels).\n",
      "[2021-11-25 00:53:07,681] - obspy.clients.fdsn.mass_downloader - INFO: Client 'GEONET' - Will attempt to download data from 1 stations.\n",
      "[2021-11-25 00:53:07,687] - obspy.clients.fdsn.mass_downloader - INFO: Client 'GEONET' - Status for 1 time intervals/channels before downloading: NEEDS_DOWNLOADING\n",
      "[2021-11-25 00:53:08,455] - obspy.clients.fdsn.mass_downloader - INFO: Client 'GEONET' - Successfully downloaded 1 channels (of 1)\n",
      "[2021-11-25 00:53:08,463] - obspy.clients.fdsn.mass_downloader - INFO: Client 'GEONET' - Launching basic QC checks...\n",
      "[2021-11-25 00:53:08,477] - obspy.clients.fdsn.mass_downloader - INFO: Client 'GEONET' - Downloaded 0.0 MB [5.91 KB/sec] of data, 0.0 MB of which were discarded afterwards.\n",
      "[2021-11-25 00:53:08,477] - obspy.clients.fdsn.mass_downloader - INFO: Client 'GEONET' - Status for 1 time intervals/channels after downloading: DOWNLOADED\n",
      "[2021-11-25 00:53:08,480] - obspy.clients.fdsn.mass_downloader - INFO: Client 'GEONET' - No station information to download.\n",
      "[2021-11-25 00:53:08,481] - obspy.clients.fdsn.mass_downloader - INFO: ============================== Final report\n",
      "[2021-11-25 00:53:08,481] - obspy.clients.fdsn.mass_downloader - INFO: 0 MiniSEED files [0.0 MB] already existed.\n",
      "[2021-11-25 00:53:08,482] - obspy.clients.fdsn.mass_downloader - INFO: 1 StationXML files [0.0 MB] already existed.\n",
      "[2021-11-25 00:53:08,482] - obspy.clients.fdsn.mass_downloader - INFO: Client 'GEONET' - Acquired 1 MiniSEED files [0.0 MB].\n",
      "[2021-11-25 00:53:08,482] - obspy.clients.fdsn.mass_downloader - INFO: Client 'GEONET' - Acquired 0 StationXML files [0.0 MB].\n",
      "[2021-11-25 00:53:08,482] - obspy.clients.fdsn.mass_downloader - INFO: Downloaded 0.0 MB in total.\n",
      "[2021-11-25 00:53:08,489] - obspy.clients.fdsn.mass_downloader - INFO: Initializing FDSN client(s) for GEONET.\n",
      "[2021-11-25 00:53:08,496] - obspy.clients.fdsn.mass_downloader - INFO: Successfully initialized 1 client(s): GEONET.\n",
      "[2021-11-25 00:53:08,497] - obspy.clients.fdsn.mass_downloader - INFO: Total acquired or preexisting stations: 0\n",
      "[2021-11-25 00:53:08,500] - obspy.clients.fdsn.mass_downloader - INFO: Client 'GEONET' - Requesting unreliable availability.\n"
     ]
    },
    {
     "name": "stdout",
     "output_type": "stream",
     "text": [
      "=================================================================\n",
      "Initiating mass download request.\n"
     ]
    },
    {
     "name": "stderr",
     "output_type": "stream",
     "text": [
      "[2021-11-25 00:53:09,057] - obspy.clients.fdsn.mass_downloader - INFO: Client 'GEONET' - Successfully requested availability (0.55 seconds)\n",
      "[2021-11-25 00:53:09,064] - obspy.clients.fdsn.mass_downloader - INFO: Client 'GEONET' - Found 1 stations (1 channels).\n",
      "[2021-11-25 00:53:09,068] - obspy.clients.fdsn.mass_downloader - INFO: Client 'GEONET' - Will attempt to download data from 1 stations.\n",
      "[2021-11-25 00:53:09,073] - obspy.clients.fdsn.mass_downloader - INFO: Client 'GEONET' - Status for 1 time intervals/channels before downloading: NEEDS_DOWNLOADING\n",
      "[2021-11-25 00:53:10,003] - obspy.clients.fdsn.mass_downloader - INFO: Client 'GEONET' - Successfully downloaded 1 channels (of 1)\n",
      "[2021-11-25 00:53:10,064] - obspy.clients.fdsn.mass_downloader - INFO: Client 'GEONET' - Launching basic QC checks...\n",
      "[2021-11-25 00:53:10,099] - obspy.clients.fdsn.mass_downloader - INFO: Client 'GEONET' - Downloaded 0.0 MB [4.58 KB/sec] of data, 0.0 MB of which were discarded afterwards.\n",
      "[2021-11-25 00:53:10,104] - obspy.clients.fdsn.mass_downloader - INFO: Client 'GEONET' - Status for 1 time intervals/channels after downloading: DOWNLOADED\n",
      "[2021-11-25 00:53:10,118] - obspy.clients.fdsn.mass_downloader - INFO: Client 'GEONET' - No station information to download.\n",
      "[2021-11-25 00:53:10,126] - obspy.clients.fdsn.mass_downloader - INFO: ============================== Final report\n",
      "[2021-11-25 00:53:10,128] - obspy.clients.fdsn.mass_downloader - INFO: 0 MiniSEED files [0.0 MB] already existed.\n",
      "[2021-11-25 00:53:10,129] - obspy.clients.fdsn.mass_downloader - INFO: 1 StationXML files [0.0 MB] already existed.\n",
      "[2021-11-25 00:53:10,130] - obspy.clients.fdsn.mass_downloader - INFO: Client 'GEONET' - Acquired 1 MiniSEED files [0.0 MB].\n",
      "[2021-11-25 00:53:10,130] - obspy.clients.fdsn.mass_downloader - INFO: Client 'GEONET' - Acquired 0 StationXML files [0.0 MB].\n",
      "[2021-11-25 00:53:10,131] - obspy.clients.fdsn.mass_downloader - INFO: Downloaded 0.0 MB in total.\n",
      "[2021-11-25 00:53:10,169] - obspy.clients.fdsn.mass_downloader - INFO: Initializing FDSN client(s) for GEONET.\n",
      "[2021-11-25 00:53:10,206] - obspy.clients.fdsn.mass_downloader - INFO: Successfully initialized 1 client(s): GEONET.\n",
      "[2021-11-25 00:53:10,220] - obspy.clients.fdsn.mass_downloader - INFO: Total acquired or preexisting stations: 0\n",
      "[2021-11-25 00:53:10,223] - obspy.clients.fdsn.mass_downloader - INFO: Client 'GEONET' - Requesting unreliable availability.\n"
     ]
    },
    {
     "name": "stdout",
     "output_type": "stream",
     "text": [
      "=================================================================\n",
      "Initiating mass download request.\n"
     ]
    },
    {
     "name": "stderr",
     "output_type": "stream",
     "text": [
      "[2021-11-25 00:53:10,862] - obspy.clients.fdsn.mass_downloader - INFO: Client 'GEONET' - Successfully requested availability (0.63 seconds)\n",
      "[2021-11-25 00:53:10,881] - obspy.clients.fdsn.mass_downloader - INFO: Client 'GEONET' - Found 1 stations (1 channels).\n",
      "[2021-11-25 00:53:10,902] - obspy.clients.fdsn.mass_downloader - INFO: Client 'GEONET' - Will attempt to download data from 1 stations.\n",
      "[2021-11-25 00:53:10,914] - obspy.clients.fdsn.mass_downloader - INFO: Client 'GEONET' - Status for 1 time intervals/channels before downloading: NEEDS_DOWNLOADING\n",
      "[2021-11-25 00:53:11,783] - obspy.clients.fdsn.mass_downloader - INFO: Client 'GEONET' - Successfully downloaded 1 channels (of 1)\n",
      "[2021-11-25 00:53:11,817] - obspy.clients.fdsn.mass_downloader - INFO: Client 'GEONET' - Launching basic QC checks...\n",
      "[2021-11-25 00:53:11,870] - obspy.clients.fdsn.mass_downloader - INFO: Client 'GEONET' - Downloaded 0.0 MB [4.00 KB/sec] of data, 0.0 MB of which were discarded afterwards.\n",
      "[2021-11-25 00:53:11,879] - obspy.clients.fdsn.mass_downloader - INFO: Client 'GEONET' - Status for 1 time intervals/channels after downloading: DOWNLOADED\n",
      "[2021-11-25 00:53:11,891] - obspy.clients.fdsn.mass_downloader - INFO: Client 'GEONET' - No station information to download.\n",
      "[2021-11-25 00:53:11,901] - obspy.clients.fdsn.mass_downloader - INFO: ============================== Final report\n",
      "[2021-11-25 00:53:11,904] - obspy.clients.fdsn.mass_downloader - INFO: 0 MiniSEED files [0.0 MB] already existed.\n",
      "[2021-11-25 00:53:11,904] - obspy.clients.fdsn.mass_downloader - INFO: 1 StationXML files [0.0 MB] already existed.\n",
      "[2021-11-25 00:53:11,905] - obspy.clients.fdsn.mass_downloader - INFO: Client 'GEONET' - Acquired 1 MiniSEED files [0.0 MB].\n",
      "[2021-11-25 00:53:11,905] - obspy.clients.fdsn.mass_downloader - INFO: Client 'GEONET' - Acquired 0 StationXML files [0.0 MB].\n",
      "[2021-11-25 00:53:11,905] - obspy.clients.fdsn.mass_downloader - INFO: Downloaded 0.0 MB in total.\n",
      "[2021-11-25 00:53:11,925] - obspy.clients.fdsn.mass_downloader - INFO: Initializing FDSN client(s) for GEONET.\n",
      "[2021-11-25 00:53:11,990] - obspy.clients.fdsn.mass_downloader - INFO: Successfully initialized 1 client(s): GEONET.\n",
      "[2021-11-25 00:53:11,998] - obspy.clients.fdsn.mass_downloader - INFO: Total acquired or preexisting stations: 0\n",
      "[2021-11-25 00:53:12,006] - obspy.clients.fdsn.mass_downloader - INFO: Client 'GEONET' - Requesting unreliable availability.\n"
     ]
    },
    {
     "name": "stdout",
     "output_type": "stream",
     "text": [
      "=================================================================\n",
      "Initiating mass download request.\n"
     ]
    },
    {
     "name": "stderr",
     "output_type": "stream",
     "text": [
      "[2021-11-25 00:53:12,666] - obspy.clients.fdsn.mass_downloader - INFO: Client 'GEONET' - Successfully requested availability (0.66 seconds)\n",
      "[2021-11-25 00:53:12,691] - obspy.clients.fdsn.mass_downloader - INFO: Client 'GEONET' - Found 1 stations (1 channels).\n",
      "[2021-11-25 00:53:12,696] - obspy.clients.fdsn.mass_downloader - INFO: Client 'GEONET' - Will attempt to download data from 1 stations.\n",
      "[2021-11-25 00:53:12,707] - obspy.clients.fdsn.mass_downloader - INFO: Client 'GEONET' - Status for 1 time intervals/channels before downloading: NEEDS_DOWNLOADING\n",
      "[2021-11-25 00:53:13,560] - obspy.clients.fdsn.mass_downloader - INFO: Client 'GEONET' - Successfully downloaded 1 channels (of 1)\n",
      "[2021-11-25 00:53:13,584] - obspy.clients.fdsn.mass_downloader - INFO: Client 'GEONET' - Launching basic QC checks...\n",
      "[2021-11-25 00:53:13,610] - obspy.clients.fdsn.mass_downloader - INFO: Client 'GEONET' - Downloaded 0.0 MB [4.30 KB/sec] of data, 0.0 MB of which were discarded afterwards.\n",
      "[2021-11-25 00:53:13,612] - obspy.clients.fdsn.mass_downloader - INFO: Client 'GEONET' - Status for 1 time intervals/channels after downloading: DOWNLOADED\n",
      "[2021-11-25 00:53:13,620] - obspy.clients.fdsn.mass_downloader - INFO: Client 'GEONET' - No station information to download.\n",
      "[2021-11-25 00:53:13,623] - obspy.clients.fdsn.mass_downloader - INFO: ============================== Final report\n",
      "[2021-11-25 00:53:13,626] - obspy.clients.fdsn.mass_downloader - INFO: 0 MiniSEED files [0.0 MB] already existed.\n",
      "[2021-11-25 00:53:13,628] - obspy.clients.fdsn.mass_downloader - INFO: 1 StationXML files [0.0 MB] already existed.\n",
      "[2021-11-25 00:53:13,629] - obspy.clients.fdsn.mass_downloader - INFO: Client 'GEONET' - Acquired 1 MiniSEED files [0.0 MB].\n",
      "[2021-11-25 00:53:13,630] - obspy.clients.fdsn.mass_downloader - INFO: Client 'GEONET' - Acquired 0 StationXML files [0.0 MB].\n",
      "[2021-11-25 00:53:13,631] - obspy.clients.fdsn.mass_downloader - INFO: Downloaded 0.0 MB in total.\n",
      "[2021-11-25 00:53:13,645] - obspy.clients.fdsn.mass_downloader - INFO: Initializing FDSN client(s) for GEONET.\n",
      "[2021-11-25 00:53:13,666] - obspy.clients.fdsn.mass_downloader - INFO: Successfully initialized 1 client(s): GEONET.\n",
      "[2021-11-25 00:53:13,669] - obspy.clients.fdsn.mass_downloader - INFO: Total acquired or preexisting stations: 0\n",
      "[2021-11-25 00:53:13,671] - obspy.clients.fdsn.mass_downloader - INFO: Client 'GEONET' - Requesting unreliable availability.\n"
     ]
    },
    {
     "name": "stdout",
     "output_type": "stream",
     "text": [
      "=================================================================\n",
      "Initiating mass download request.\n"
     ]
    },
    {
     "name": "stderr",
     "output_type": "stream",
     "text": [
      "[2021-11-25 00:53:14,314] - obspy.clients.fdsn.mass_downloader - INFO: Client 'GEONET' - Successfully requested availability (0.64 seconds)\n",
      "[2021-11-25 00:53:14,356] - obspy.clients.fdsn.mass_downloader - INFO: Client 'GEONET' - Found 1 stations (1 channels).\n",
      "[2021-11-25 00:53:14,388] - obspy.clients.fdsn.mass_downloader - INFO: Client 'GEONET' - Will attempt to download data from 1 stations.\n",
      "[2021-11-25 00:53:14,396] - obspy.clients.fdsn.mass_downloader - INFO: Client 'GEONET' - Status for 1 time intervals/channels before downloading: NEEDS_DOWNLOADING\n",
      "[2021-11-25 00:53:15,249] - obspy.clients.fdsn.mass_downloader - INFO: Client 'GEONET' - Successfully downloaded 1 channels (of 1)\n",
      "[2021-11-25 00:53:15,309] - obspy.clients.fdsn.mass_downloader - INFO: Client 'GEONET' - Launching basic QC checks...\n",
      "[2021-11-25 00:53:15,385] - obspy.clients.fdsn.mass_downloader - INFO: Client 'GEONET' - Downloaded 0.0 MB [4.57 KB/sec] of data, 0.0 MB of which were discarded afterwards.\n",
      "[2021-11-25 00:53:15,403] - obspy.clients.fdsn.mass_downloader - INFO: Client 'GEONET' - Status for 1 time intervals/channels after downloading: DOWNLOADED\n",
      "[2021-11-25 00:53:15,433] - obspy.clients.fdsn.mass_downloader - INFO: Client 'GEONET' - No station information to download.\n",
      "[2021-11-25 00:53:15,453] - obspy.clients.fdsn.mass_downloader - INFO: ============================== Final report\n",
      "[2021-11-25 00:53:15,457] - obspy.clients.fdsn.mass_downloader - INFO: 0 MiniSEED files [0.0 MB] already existed.\n",
      "[2021-11-25 00:53:15,457] - obspy.clients.fdsn.mass_downloader - INFO: 1 StationXML files [0.0 MB] already existed.\n",
      "[2021-11-25 00:53:15,458] - obspy.clients.fdsn.mass_downloader - INFO: Client 'GEONET' - Acquired 1 MiniSEED files [0.0 MB].\n",
      "[2021-11-25 00:53:15,464] - obspy.clients.fdsn.mass_downloader - INFO: Client 'GEONET' - Acquired 0 StationXML files [0.0 MB].\n",
      "[2021-11-25 00:53:15,465] - obspy.clients.fdsn.mass_downloader - INFO: Downloaded 0.0 MB in total.\n",
      "[2021-11-25 00:53:15,496] - obspy.clients.fdsn.mass_downloader - INFO: Initializing FDSN client(s) for GEONET.\n",
      "[2021-11-25 00:53:15,560] - obspy.clients.fdsn.mass_downloader - INFO: Successfully initialized 1 client(s): GEONET.\n",
      "[2021-11-25 00:53:15,562] - obspy.clients.fdsn.mass_downloader - INFO: Total acquired or preexisting stations: 0\n",
      "[2021-11-25 00:53:15,578] - obspy.clients.fdsn.mass_downloader - INFO: Client 'GEONET' - Requesting unreliable availability.\n"
     ]
    },
    {
     "name": "stdout",
     "output_type": "stream",
     "text": [
      "=================================================================\n",
      "Initiating mass download request.\n"
     ]
    },
    {
     "name": "stderr",
     "output_type": "stream",
     "text": [
      "[2021-11-25 00:53:16,192] - obspy.clients.fdsn.mass_downloader - INFO: Client 'GEONET' - Successfully requested availability (0.61 seconds)\n",
      "[2021-11-25 00:53:16,219] - obspy.clients.fdsn.mass_downloader - INFO: Client 'GEONET' - Found 1 stations (1 channels).\n",
      "[2021-11-25 00:53:16,230] - obspy.clients.fdsn.mass_downloader - INFO: Client 'GEONET' - Will attempt to download data from 1 stations.\n",
      "[2021-11-25 00:53:16,242] - obspy.clients.fdsn.mass_downloader - INFO: Client 'GEONET' - Status for 1 time intervals/channels before downloading: NEEDS_DOWNLOADING\n",
      "[2021-11-25 00:53:17,120] - obspy.clients.fdsn.mass_downloader - INFO: Client 'GEONET' - Successfully downloaded 1 channels (of 1)\n",
      "[2021-11-25 00:53:17,166] - obspy.clients.fdsn.mass_downloader - INFO: Client 'GEONET' - Launching basic QC checks...\n",
      "[2021-11-25 00:53:17,193] - obspy.clients.fdsn.mass_downloader - INFO: Client 'GEONET' - Downloaded 0.0 MB [3.85 KB/sec] of data, 0.0 MB of which were discarded afterwards.\n",
      "[2021-11-25 00:53:17,205] - obspy.clients.fdsn.mass_downloader - INFO: Client 'GEONET' - Status for 1 time intervals/channels after downloading: DOWNLOADED\n",
      "[2021-11-25 00:53:17,231] - obspy.clients.fdsn.mass_downloader - INFO: Client 'GEONET' - No station information to download.\n",
      "[2021-11-25 00:53:17,241] - obspy.clients.fdsn.mass_downloader - INFO: ============================== Final report\n",
      "[2021-11-25 00:53:17,242] - obspy.clients.fdsn.mass_downloader - INFO: 0 MiniSEED files [0.0 MB] already existed.\n",
      "[2021-11-25 00:53:17,243] - obspy.clients.fdsn.mass_downloader - INFO: 1 StationXML files [0.0 MB] already existed.\n",
      "[2021-11-25 00:53:17,246] - obspy.clients.fdsn.mass_downloader - INFO: Client 'GEONET' - Acquired 1 MiniSEED files [0.0 MB].\n",
      "[2021-11-25 00:53:17,247] - obspy.clients.fdsn.mass_downloader - INFO: Client 'GEONET' - Acquired 0 StationXML files [0.0 MB].\n",
      "[2021-11-25 00:53:17,248] - obspy.clients.fdsn.mass_downloader - INFO: Downloaded 0.0 MB in total.\n",
      "[2021-11-25 00:53:17,286] - obspy.clients.fdsn.mass_downloader - INFO: Initializing FDSN client(s) for GEONET.\n",
      "[2021-11-25 00:53:17,345] - obspy.clients.fdsn.mass_downloader - INFO: Successfully initialized 1 client(s): GEONET.\n",
      "[2021-11-25 00:53:17,347] - obspy.clients.fdsn.mass_downloader - INFO: Total acquired or preexisting stations: 0\n",
      "[2021-11-25 00:53:17,355] - obspy.clients.fdsn.mass_downloader - INFO: Client 'GEONET' - Requesting unreliable availability.\n"
     ]
    },
    {
     "name": "stdout",
     "output_type": "stream",
     "text": [
      "=================================================================\n",
      "Initiating mass download request.\n"
     ]
    },
    {
     "name": "stderr",
     "output_type": "stream",
     "text": [
      "[2021-11-25 00:53:18,052] - obspy.clients.fdsn.mass_downloader - INFO: Client 'GEONET' - Successfully requested availability (0.69 seconds)\n",
      "[2021-11-25 00:53:18,102] - obspy.clients.fdsn.mass_downloader - INFO: Client 'GEONET' - Found 1 stations (1 channels).\n",
      "[2021-11-25 00:53:18,133] - obspy.clients.fdsn.mass_downloader - INFO: Client 'GEONET' - Will attempt to download data from 1 stations.\n",
      "[2021-11-25 00:53:18,161] - obspy.clients.fdsn.mass_downloader - INFO: Client 'GEONET' - Status for 1 time intervals/channels before downloading: NEEDS_DOWNLOADING\n",
      "[2021-11-25 00:53:19,061] - obspy.clients.fdsn.mass_downloader - INFO: Client 'GEONET' - Successfully downloaded 1 channels (of 1)\n",
      "[2021-11-25 00:53:19,098] - obspy.clients.fdsn.mass_downloader - INFO: Client 'GEONET' - Launching basic QC checks...\n",
      "[2021-11-25 00:53:19,137] - obspy.clients.fdsn.mass_downloader - INFO: Client 'GEONET' - Downloaded 0.0 MB [5.06 KB/sec] of data, 0.0 MB of which were discarded afterwards.\n",
      "[2021-11-25 00:53:19,149] - obspy.clients.fdsn.mass_downloader - INFO: Client 'GEONET' - Status for 1 time intervals/channels after downloading: DOWNLOADED\n",
      "[2021-11-25 00:53:19,160] - obspy.clients.fdsn.mass_downloader - INFO: Client 'GEONET' - No station information to download.\n",
      "[2021-11-25 00:53:19,165] - obspy.clients.fdsn.mass_downloader - INFO: ============================== Final report\n",
      "[2021-11-25 00:53:19,167] - obspy.clients.fdsn.mass_downloader - INFO: 0 MiniSEED files [0.0 MB] already existed.\n",
      "[2021-11-25 00:53:19,172] - obspy.clients.fdsn.mass_downloader - INFO: 1 StationXML files [0.0 MB] already existed.\n",
      "[2021-11-25 00:53:19,173] - obspy.clients.fdsn.mass_downloader - INFO: Client 'GEONET' - Acquired 1 MiniSEED files [0.0 MB].\n",
      "[2021-11-25 00:53:19,173] - obspy.clients.fdsn.mass_downloader - INFO: Client 'GEONET' - Acquired 0 StationXML files [0.0 MB].\n",
      "[2021-11-25 00:53:19,174] - obspy.clients.fdsn.mass_downloader - INFO: Downloaded 0.0 MB in total.\n",
      "[2021-11-25 00:53:19,200] - obspy.clients.fdsn.mass_downloader - INFO: Initializing FDSN client(s) for GEONET.\n",
      "[2021-11-25 00:53:19,226] - obspy.clients.fdsn.mass_downloader - INFO: Successfully initialized 1 client(s): GEONET.\n",
      "[2021-11-25 00:53:19,231] - obspy.clients.fdsn.mass_downloader - INFO: Total acquired or preexisting stations: 0\n",
      "[2021-11-25 00:53:19,234] - obspy.clients.fdsn.mass_downloader - INFO: Client 'GEONET' - Requesting unreliable availability.\n"
     ]
    },
    {
     "name": "stdout",
     "output_type": "stream",
     "text": [
      "=================================================================\n",
      "Initiating mass download request.\n"
     ]
    },
    {
     "name": "stderr",
     "output_type": "stream",
     "text": [
      "[2021-11-25 00:53:20,044] - obspy.clients.fdsn.mass_downloader - INFO: Client 'GEONET' - Successfully requested availability (0.81 seconds)\n",
      "[2021-11-25 00:53:20,074] - obspy.clients.fdsn.mass_downloader - INFO: Client 'GEONET' - Found 1 stations (1 channels).\n",
      "[2021-11-25 00:53:20,089] - obspy.clients.fdsn.mass_downloader - INFO: Client 'GEONET' - Will attempt to download data from 1 stations.\n",
      "[2021-11-25 00:53:20,101] - obspy.clients.fdsn.mass_downloader - INFO: Client 'GEONET' - Status for 1 time intervals/channels before downloading: NEEDS_DOWNLOADING\n",
      "[2021-11-25 00:53:20,945] - obspy.clients.fdsn.mass_downloader - INFO: Client 'GEONET' - Successfully downloaded 1 channels (of 1)\n",
      "[2021-11-25 00:53:20,971] - obspy.clients.fdsn.mass_downloader - INFO: Client 'GEONET' - Launching basic QC checks...\n",
      "[2021-11-25 00:53:21,024] - obspy.clients.fdsn.mass_downloader - INFO: Client 'GEONET' - Downloaded 0.0 MB [4.26 KB/sec] of data, 0.0 MB of which were discarded afterwards.\n",
      "[2021-11-25 00:53:21,025] - obspy.clients.fdsn.mass_downloader - INFO: Client 'GEONET' - Status for 1 time intervals/channels after downloading: DOWNLOADED\n",
      "[2021-11-25 00:53:21,032] - obspy.clients.fdsn.mass_downloader - INFO: Client 'GEONET' - No station information to download.\n",
      "[2021-11-25 00:53:21,042] - obspy.clients.fdsn.mass_downloader - INFO: ============================== Final report\n",
      "[2021-11-25 00:53:21,044] - obspy.clients.fdsn.mass_downloader - INFO: 0 MiniSEED files [0.0 MB] already existed.\n",
      "[2021-11-25 00:53:21,045] - obspy.clients.fdsn.mass_downloader - INFO: 1 StationXML files [0.0 MB] already existed.\n",
      "[2021-11-25 00:53:21,046] - obspy.clients.fdsn.mass_downloader - INFO: Client 'GEONET' - Acquired 1 MiniSEED files [0.0 MB].\n",
      "[2021-11-25 00:53:21,047] - obspy.clients.fdsn.mass_downloader - INFO: Client 'GEONET' - Acquired 0 StationXML files [0.0 MB].\n",
      "[2021-11-25 00:53:21,051] - obspy.clients.fdsn.mass_downloader - INFO: Downloaded 0.0 MB in total.\n",
      "[2021-11-25 00:53:21,069] - obspy.clients.fdsn.mass_downloader - INFO: Initializing FDSN client(s) for GEONET.\n",
      "[2021-11-25 00:53:21,092] - obspy.clients.fdsn.mass_downloader - INFO: Successfully initialized 1 client(s): GEONET.\n",
      "[2021-11-25 00:53:21,106] - obspy.clients.fdsn.mass_downloader - INFO: Total acquired or preexisting stations: 0\n",
      "[2021-11-25 00:53:21,111] - obspy.clients.fdsn.mass_downloader - INFO: Client 'GEONET' - Requesting unreliable availability.\n"
     ]
    },
    {
     "name": "stdout",
     "output_type": "stream",
     "text": [
      "=================================================================\n",
      "Initiating mass download request.\n"
     ]
    },
    {
     "name": "stderr",
     "output_type": "stream",
     "text": [
      "[2021-11-25 00:53:21,756] - obspy.clients.fdsn.mass_downloader - INFO: Client 'GEONET' - Successfully requested availability (0.64 seconds)\n",
      "[2021-11-25 00:53:21,775] - obspy.clients.fdsn.mass_downloader - INFO: Client 'GEONET' - Found 1 stations (1 channels).\n",
      "[2021-11-25 00:53:21,791] - obspy.clients.fdsn.mass_downloader - INFO: Client 'GEONET' - Will attempt to download data from 1 stations.\n",
      "[2021-11-25 00:53:21,813] - obspy.clients.fdsn.mass_downloader - INFO: Client 'GEONET' - Status for 1 time intervals/channels before downloading: NEEDS_DOWNLOADING\n",
      "[2021-11-25 00:53:22,711] - obspy.clients.fdsn.mass_downloader - INFO: Client 'GEONET' - Successfully downloaded 1 channels (of 1)\n",
      "[2021-11-25 00:53:22,765] - obspy.clients.fdsn.mass_downloader - INFO: Client 'GEONET' - Launching basic QC checks...\n"
     ]
    }
   ],
   "source": [
    "import mpl_toolkits\n",
    "import matplotlib.pyplot as plt\n",
    "import pandas as pd\n",
    "import geopandas as gpd\n",
    "import numpy as np\n",
    "import pickle\n",
    "import os\n",
    "import logging\n",
    "from obspy import read\n",
    "\n",
    "\n",
    "from obspy.clients.fdsn.mass_downloader import RectangularDomain, Restrictions, MassDownloader\n",
    "from scipy import signal\n",
    "from obspy import UTCDateTime\n",
    "from obspy.clients.fdsn import Client as FDSN_Client\n",
    "from obspy import read_inventory\n",
    "from obspy.core.util import (BASEMAP_VERSION, CARTOPY_VERSION,\n",
    "                             MATPLOTLIB_VERSION, PROJ4_VERSION)\n",
    "\n",
    "events_df = pd.read_pickle('data/events_processed.pkl')\n",
    "stations_df = pd.read_pickle('data/stations_processed.pkl')\n",
    "\n",
    "events = events_df[(events_df.time > '2020-01-01') & (events_df.time < '2021-01-01')]\n",
    "events = events[2200:2500]\n",
    "\n",
    "def mass_data_downloader(start, stop, event_id, Station,\n",
    "                         Network='NZ', \n",
    "                         Channel='HHZ', \n",
    "                         Location=10\n",
    "                         ):\n",
    "    '''\n",
    "    This function uses the FDSN mass data downloader to automatically download\n",
    "    data from the XH network deployed on the RIS from Nov 2014 - Nov 2016.\n",
    "    More information on the Obspy mass downloader available at:\n",
    "    https://docs.obspy.org/packages/autogen/obspy.clients.fdsn.mass_downloader.html\n",
    "    Inputs:\n",
    "    start: \"YYYYMMDD\"\n",
    "    stop:  \"YYYYMMDD\"\n",
    "    Network: 2-character FDSN network code\n",
    "    Station: 2-character station code\n",
    "    Channel: 3-character channel code\n",
    "    Location: 10.\n",
    "    '''\n",
    "    print(\"=\" * 65)\n",
    "    print(\"Initiating mass download request.\")\n",
    "\n",
    "    domain = RectangularDomain(\n",
    "        minlatitude=-47.749,\n",
    "        maxlatitude=-33.779,\n",
    "        minlongitude=166.104,\n",
    "        maxlongitude=178.990\n",
    "    )\n",
    "\n",
    "    restrictions = Restrictions(\n",
    "        starttime = start,\n",
    "        endtime = stop,\n",
    "        #24 hr\n",
    "        chunklength_in_sec = 86400,\n",
    "        network = Network,\n",
    "        station = Station,\n",
    "        location = Location,\n",
    "        channel = Channel,\n",
    "        reject_channels_with_gaps = False,\n",
    "        minimum_length = 0.0,\n",
    "        minimum_interstation_distance_in_m = 100.0\n",
    "    )\n",
    "\n",
    "    mdl = MassDownloader(providers=['GEONET'])\n",
    "    mdl.download(\n",
    "        domain,\n",
    "        restrictions,\n",
    "        mseed_storage=f\"waveforms/{event_id}\",\n",
    "        stationxml_storage=\"stations\"\n",
    "    )\n",
    "\n",
    "    logger = logging.getLogger(\"obspy.clients.fdsn.mass_downloader\")\n",
    "    logger.setLevel(logging.DEBUG)\n",
    "    \n",
    "for i, event in events.iterrows():\n",
    "    event_id = event.event_id\n",
    "    \n",
    "    for j, station in stations_df.iterrows():\n",
    "        event_time = event['time']\n",
    "        \n",
    "        start=event_time - 30\n",
    "        end=event_time\n",
    "        mass_data_downloader(start, end, event_id, station.station_code)"
   ]
  },
  {
   "cell_type": "code",
   "execution_count": null,
   "id": "0ecb2c6d",
   "metadata": {},
   "outputs": [],
   "source": []
  }
 ],
 "metadata": {
  "kernelspec": {
   "display_name": "Python 3",
   "language": "python",
   "name": "python3"
  },
  "language_info": {
   "codemirror_mode": {
    "name": "ipython",
    "version": 3
   },
   "file_extension": ".py",
   "mimetype": "text/x-python",
   "name": "python",
   "nbconvert_exporter": "python",
   "pygments_lexer": "ipython3",
   "version": "3.9.2"
  }
 },
 "nbformat": 4,
 "nbformat_minor": 5
}
